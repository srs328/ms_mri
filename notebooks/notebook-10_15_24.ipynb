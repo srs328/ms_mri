{
 "cells": [
  {
   "cell_type": "markdown",
   "metadata": {},
   "source": [
    "# Code for running inference\n",
    "\n",
    "To convert this to a script, should have a name for the whole training task which goes in dataset.json and/or datalist.json because this will help for the task.json needed for inference.\n",
    "\n",
    "Look into the minimal amount of metaata monai requires in the form of a task.json or other struct to initialize the builder and then run the ensemble"
   ]
  },
  {
   "cell_type": "code",
   "execution_count": 7,
   "metadata": {},
   "outputs": [],
   "source": [
    "import os\n",
    "from pathlib import Path\n",
    "import numpy as np\n",
    "import json\n",
    "\n",
    "import mri_data\n",
    "import monai_training\n",
    "\n",
    "from monai.apps.auto3dseg import (\n",
    "    AlgoEnsembleBestN,\n",
    "    AlgoEnsembleBuilder,\n",
    "    import_bundle_algo_history,\n",
    ")\n",
    "from monai.utils.enums import AlgoKeys\n",
    "\n",
    "from reload_recursive import reload_recursive"
   ]
  },
  {
   "cell_type": "code",
   "execution_count": 11,
   "metadata": {},
   "outputs": [],
   "source": [
    "reload_recursive(mri_data)\n",
    "reload_recursive(monai_training)\n",
    "from mri_data import utils\n",
    "from mri_data.file_manager import scan_3Tpioneer_bids, Scan, DataSet, filter_first_ses\n",
    "from monai_training import preprocess"
   ]
  },
  {
   "cell_type": "code",
   "execution_count": 3,
   "metadata": {},
   "outputs": [],
   "source": [
    "msmri_home = Path(\"/home/srs-9/Projects/ms_mri\")\n",
    "training_work_dirs = Path(\"/mnt/h/training_work_dirs\")"
   ]
  },
  {
   "cell_type": "code",
   "execution_count": 4,
   "metadata": {},
   "outputs": [],
   "source": [
    "dataset_file = training_work_dirs / \"choroid_pineal_pituitary1\" / \"dataset.json\"\n",
    "dataset, info = preprocess.load_dataset(dataset_file)\n",
    "img = utils.load_nifti(dataset[0].image_path)"
   ]
  },
  {
   "cell_type": "code",
   "execution_count": 12,
   "metadata": {},
   "outputs": [],
   "source": [
    "dataroot = \"/mnt/h/3Tpioneer_bids\"\n",
    "work_dir  = msmri_home / \"training_work_dirs\" / \"pineal1\"\n",
    "train_dataset_file = work_dir / \"training-dataset.json\"\n",
    "dataset_train, _ = preprocess.load_dataset(train_dataset_file)\n",
    "\n",
    "dataset_proc = preprocess.DataSetProcesser.new_dataset(dataroot, scan_3Tpioneer_bids, filters=[filter_first_ses])\n",
    "dataset_full = dataset_proc.dataset\n",
    "dataset_train2 = DataSet.dataset_like(dataset_train, ['subid', 'sesid'])"
   ]
  },
  {
   "cell_type": "code",
   "execution_count": 13,
   "metadata": {},
   "outputs": [
    {
     "name": "stderr",
     "output_type": "stream",
     "text": [
      "\u001b[32m2024-10-17 02:25:42.898\u001b[0m | \u001b[1mINFO    \u001b[0m | \u001b[36mmonai_training.preprocess\u001b[0m:\u001b[36mprepare_images\u001b[0m:\u001b[36m88\u001b[0m - \u001b[1mPrepare Images\u001b[0m\n",
      "\u001b[32m2024-10-17 02:25:52.653\u001b[0m | \u001b[1mINFO    \u001b[0m | \u001b[36mmri_data.utils\u001b[0m:\u001b[36mmerge_images\u001b[0m:\u001b[36m27\u001b[0m - \u001b[1mfslmerge -a /mnt/h/3Tpioneer_bids/sub-ms2120/ses-20170920/flair.t1.nii.gz /mnt/h/3Tpioneer_bids/sub-ms2120/ses-20170920/flair.nii.gz /mnt/h/3Tpioneer_bids/sub-ms2120/ses-20170920/t1.nii.gz\u001b[0m\n"
     ]
    },
    {
     "name": "stdout",
     "output_type": "stream",
     "text": [
      "Image Exception : #22 :: Failed to read volume /mnt/h/3Tpioneer_bids/sub-ms2120/ses-20170920/flair.nii.gz\n",
      "Error : Error: short read, file may be truncated\n",
      "terminate called after throwing an instance of 'std::runtime_error'\n",
      "  what():  Failed to read volume /mnt/h/3Tpioneer_bids/sub-ms2120/ses-20170920/flair.nii.gz\n",
      "Error : Error: short read, file may be truncated\n"
     ]
    },
    {
     "name": "stderr",
     "output_type": "stream",
     "text": [
      "\u001b[32m2024-10-17 02:26:03.717\u001b[0m | \u001b[31m\u001b[1mERROR   \u001b[0m | \u001b[36mmonai_training.preprocess\u001b[0m:\u001b[36mprepare_images\u001b[0m:\u001b[36m121\u001b[0m - \u001b[31m\u001b[1mSomething went wrong merging images for <bound method Scan.info of Scan(subid='2120', sesid='20170920', dataroot=PosixPath('/mnt/h/3Tpioneer_bids'), root=PosixPath('/mnt/h/3Tpioneer_bids/sub-ms2120/ses-20170920'), image=None, label=None, cond=None, id=42762350400)>\u001b[0m\n",
      "\u001b[33m\u001b[1mTraceback (most recent call last):\u001b[0m\n",
      "\n",
      "  File \"<frozen runpy>\", line 198, in _run_module_as_main\n",
      "  File \"<frozen runpy>\", line 88, in _run_code\n",
      "  File \"/home/srs-9/.virtualenvs/monai/lib/python3.12/site-packages/ipykernel_launcher.py\", line 18, in <module>\n",
      "    app.launch_new_instance()\n",
      "    │   └ <bound method Application.launch_instance of <class 'ipykernel.kernelapp.IPKernelApp'>>\n",
      "    └ <module 'ipykernel.kernelapp' from '/home/srs-9/.virtualenvs/monai/lib/python3.12/site-packages/ipykernel/kernelapp.py'>\n",
      "  File \"/home/srs-9/.virtualenvs/monai/lib/python3.12/site-packages/traitlets/config/application.py\", line 1075, in launch_instance\n",
      "    app.start()\n",
      "    │   └ <function IPKernelApp.start at 0x7f615fb23f60>\n",
      "    └ <ipykernel.kernelapp.IPKernelApp object at 0x7f616258f740>\n",
      "  File \"/home/srs-9/.virtualenvs/monai/lib/python3.12/site-packages/ipykernel/kernelapp.py\", line 739, in start\n",
      "    self.io_loop.start()\n",
      "    │    │       └ <function BaseAsyncIOLoop.start at 0x7f615fb44d60>\n",
      "    │    └ <tornado.platform.asyncio.AsyncIOMainLoop object at 0x7f615fb64b30>\n",
      "    └ <ipykernel.kernelapp.IPKernelApp object at 0x7f616258f740>\n",
      "  File \"/home/srs-9/.virtualenvs/monai/lib/python3.12/site-packages/tornado/platform/asyncio.py\", line 205, in start\n",
      "    self.asyncio_loop.run_forever()\n",
      "    │    │            └ <function BaseEventLoop.run_forever at 0x7f61613f1120>\n",
      "    │    └ <_UnixSelectorEventLoop running=True closed=False debug=False>\n",
      "    └ <tornado.platform.asyncio.AsyncIOMainLoop object at 0x7f615fb64b30>\n",
      "  File \"/home/srs-9/.asdf/installs/python/3.12.4/lib/python3.12/asyncio/base_events.py\", line 641, in run_forever\n",
      "    self._run_once()\n",
      "    │    └ <function BaseEventLoop._run_once at 0x7f61613f2f20>\n",
      "    └ <_UnixSelectorEventLoop running=True closed=False debug=False>\n",
      "  File \"/home/srs-9/.asdf/installs/python/3.12.4/lib/python3.12/asyncio/base_events.py\", line 1987, in _run_once\n",
      "    handle._run()\n",
      "    │      └ <function Handle._run at 0x7f61615a3240>\n",
      "    └ <Handle Task.task_wakeup(<Future finis...8B)>, ...],))>)>\n",
      "  File \"/home/srs-9/.asdf/installs/python/3.12.4/lib/python3.12/asyncio/events.py\", line 88, in _run\n",
      "    self._context.run(self._callback, *self._args)\n",
      "    │    │            │    │           │    └ <member '_args' of 'Handle' objects>\n",
      "    │    │            │    │           └ <Handle Task.task_wakeup(<Future finis...8B)>, ...],))>)>\n",
      "    │    │            │    └ <member '_callback' of 'Handle' objects>\n",
      "    │    │            └ <Handle Task.task_wakeup(<Future finis...8B)>, ...],))>)>\n",
      "    │    └ <member '_context' of 'Handle' objects>\n",
      "    └ <Handle Task.task_wakeup(<Future finis...8B)>, ...],))>)>\n",
      "  File \"/home/srs-9/.virtualenvs/monai/lib/python3.12/site-packages/ipykernel/kernelbase.py\", line 545, in dispatch_queue\n",
      "    await self.process_one()\n",
      "          │    └ <function Kernel.process_one at 0x7f615faecfe0>\n",
      "          └ <ipykernel.ipkernel.IPythonKernel object at 0x7f615fb64fe0>\n",
      "  File \"/home/srs-9/.virtualenvs/monai/lib/python3.12/site-packages/ipykernel/kernelbase.py\", line 534, in process_one\n",
      "    await dispatch(*args)\n",
      "          │         └ ([<zmq.Frame(b'28452c97-ae9'...36B)>, <zmq.Frame(b'<IDS|MSG>')>, <zmq.Frame(b'689b3411d8ad'...64B)>, <zmq.Frame(b'{\"date\":\"20...\n",
      "          └ <bound method Kernel.dispatch_shell of <ipykernel.ipkernel.IPythonKernel object at 0x7f615fb64fe0>>\n",
      "  File \"/home/srs-9/.virtualenvs/monai/lib/python3.12/site-packages/ipykernel/kernelbase.py\", line 437, in dispatch_shell\n",
      "    await result\n",
      "          └ <coroutine object IPythonKernel.execute_request at 0x7f5ffbd2e440>\n",
      "  File \"/home/srs-9/.virtualenvs/monai/lib/python3.12/site-packages/ipykernel/ipkernel.py\", line 362, in execute_request\n",
      "    await super().execute_request(stream, ident, parent)\n",
      "                                  │       │      └ {'header': {'date': datetime.datetime(2024, 10, 17, 6, 25, 42, 497000, tzinfo=tzutc()), 'msg_id': 'd7635e77-e805-43d2-a4ff-bf...\n",
      "                                  │       └ [b'28452c97-ae95-4516-a700-95a7394e003f']\n",
      "                                  └ <zmq.eventloop.zmqstream.ZMQStream object at 0x7f615fb64920>\n",
      "  File \"/home/srs-9/.virtualenvs/monai/lib/python3.12/site-packages/ipykernel/kernelbase.py\", line 778, in execute_request\n",
      "    reply_content = await reply_content\n",
      "                          └ <coroutine object IPythonKernel.do_execute at 0x7f6146f362c0>\n",
      "  File \"/home/srs-9/.virtualenvs/monai/lib/python3.12/site-packages/ipykernel/ipkernel.py\", line 449, in do_execute\n",
      "    res = shell.run_cell(\n",
      "          │     └ <function ZMQInteractiveShell.run_cell at 0x7f615fb21080>\n",
      "          └ <ipykernel.zmqshell.ZMQInteractiveShell object at 0x7f615c2c4680>\n",
      "  File \"/home/srs-9/.virtualenvs/monai/lib/python3.12/site-packages/ipykernel/zmqshell.py\", line 549, in run_cell\n",
      "    return super().run_cell(*args, **kwargs)\n",
      "                             │       └ {'store_history': True, 'silent': False, 'cell_id': 'vscode-notebook-cell://wsl%2Bubuntu/home/srs-9/Projects/ms_mri/notebooks...\n",
      "                             └ ('dataset_inference = DataSet.from_scans(set(dataset_full) - set(dataset_train2))\\ndataset_proc = preprocess.DataSetProcesser...\n",
      "  File \"/home/srs-9/.virtualenvs/monai/lib/python3.12/site-packages/IPython/core/interactiveshell.py\", line 3075, in run_cell\n",
      "    result = self._run_cell(\n",
      "             │    └ <function InteractiveShell._run_cell at 0x7f6160834ea0>\n",
      "             └ <ipykernel.zmqshell.ZMQInteractiveShell object at 0x7f615c2c4680>\n",
      "  File \"/home/srs-9/.virtualenvs/monai/lib/python3.12/site-packages/IPython/core/interactiveshell.py\", line 3130, in _run_cell\n",
      "    result = runner(coro)\n",
      "             │      └ <coroutine object InteractiveShell.run_cell_async at 0x7f5ffbd76a70>\n",
      "             └ <function _pseudo_sync_runner at 0x7f6160828040>\n",
      "  File \"/home/srs-9/.virtualenvs/monai/lib/python3.12/site-packages/IPython/core/async_helpers.py\", line 128, in _pseudo_sync_runner\n",
      "    coro.send(None)\n",
      "    │    └ <method 'send' of 'coroutine' objects>\n",
      "    └ <coroutine object InteractiveShell.run_cell_async at 0x7f5ffbd76a70>\n",
      "  File \"/home/srs-9/.virtualenvs/monai/lib/python3.12/site-packages/IPython/core/interactiveshell.py\", line 3334, in run_cell_async\n",
      "    has_raised = await self.run_ast_nodes(code_ast.body, cell_name,\n",
      "                       │    │             │        │     └ '/tmp/ipykernel_21510/1045654224.py'\n",
      "                       │    │             │        └ [<ast.Assign object at 0x7f5ffbbc9d50>, <ast.Assign object at 0x7f5ffbbca490>, <ast.Expr object at 0x7f5ffbbc9b10>]\n",
      "                       │    │             └ <ast.Module object at 0x7f5ffe46a550>\n",
      "                       │    └ <function InteractiveShell.run_ast_nodes at 0x7f61608351c0>\n",
      "                       └ <ipykernel.zmqshell.ZMQInteractiveShell object at 0x7f615c2c4680>\n",
      "  File \"/home/srs-9/.virtualenvs/monai/lib/python3.12/site-packages/IPython/core/interactiveshell.py\", line 3517, in run_ast_nodes\n",
      "    if await self.run_code(code, result, async_=asy):\n",
      "             │    │        │     │              └ False\n",
      "             │    │        │     └ <ExecutionResult object at 7f5ffc27faa0, execution_count=13 error_before_exec=None error_in_exec=None info=<ExecutionInfo obj...\n",
      "             │    │        └ <code object <module> at 0x7f5ffbbc65b0, file \"/tmp/ipykernel_21510/1045654224.py\", line 1>\n",
      "             │    └ <function InteractiveShell.run_code at 0x7f6160835260>\n",
      "             └ <ipykernel.zmqshell.ZMQInteractiveShell object at 0x7f615c2c4680>\n",
      "  File \"/home/srs-9/.virtualenvs/monai/lib/python3.12/site-packages/IPython/core/interactiveshell.py\", line 3577, in run_code\n",
      "    exec(code_obj, self.user_global_ns, self.user_ns)\n",
      "         │         │    │               │    └ {'__name__': '__main__', '__doc__': 'Automatically created module for IPython interactive environment', '__package__': None, ...\n",
      "         │         │    │               └ <ipykernel.zmqshell.ZMQInteractiveShell object at 0x7f615c2c4680>\n",
      "         │         │    └ <property object at 0x7f616082c900>\n",
      "         │         └ <ipykernel.zmqshell.ZMQInteractiveShell object at 0x7f615c2c4680>\n",
      "         └ <code object <module> at 0x7f5ffbbc65b0, file \"/tmp/ipykernel_21510/1045654224.py\", line 1>\n",
      "\n",
      "  File \"\u001b[32m/tmp/ipykernel_21510/\u001b[0m\u001b[32m\u001b[1m1045654224.py\u001b[0m\", line \u001b[33m3\u001b[0m, in \u001b[35m<module>\u001b[0m\n",
      "    \u001b[1mdataset_proc\u001b[0m\u001b[35m\u001b[1m.\u001b[0m\u001b[1mprepare_images\u001b[0m\u001b[1m(\u001b[0m\u001b[1m[\u001b[0m\u001b[36m\"flair\"\u001b[0m\u001b[1m,\u001b[0m \u001b[36m\"t1\"\u001b[0m\u001b[1m]\u001b[0m\u001b[1m)\u001b[0m\n",
      "    \u001b[36m│            └ \u001b[0m\u001b[36m\u001b[1m<function DataSetProcesser.prepare_images at 0x7f5ffbbd2de0>\u001b[0m\n",
      "    \u001b[36m└ \u001b[0m\u001b[36m\u001b[1mDataSetProcesser(dataset=<mri_data.file_manager.DataSet object at 0x7f5ffc122030>, image_name='flair.t1.nii.gz', label_name='...\u001b[0m\n",
      "\n",
      "> File \"\u001b[32m/home/srs-9/Projects/ms_mri/src/monai_training/\u001b[0m\u001b[32m\u001b[1mpreprocess.py\u001b[0m\", line \u001b[33m117\u001b[0m, in \u001b[35mprepare_images\u001b[0m\n",
      "    \u001b[1mutils\u001b[0m\u001b[35m\u001b[1m.\u001b[0m\u001b[1mmerge_images\u001b[0m\u001b[1m(\u001b[0m\u001b[1mbase_images\u001b[0m\u001b[1m,\u001b[0m \u001b[1mmerged_image\u001b[0m\u001b[1m)\u001b[0m\n",
      "    \u001b[36m│     │            │            └ \u001b[0m\u001b[36m\u001b[1mPosixPath('/mnt/h/3Tpioneer_bids/sub-ms2120/ses-20170920/flair.t1.nii.gz')\u001b[0m\n",
      "    \u001b[36m│     │            └ \u001b[0m\u001b[36m\u001b[1m[PosixPath('/mnt/h/3Tpioneer_bids/sub-ms2120/ses-20170920/flair.nii.gz'), PosixPath('/mnt/h/3Tpioneer_bids/sub-ms2120/ses-201...\u001b[0m\n",
      "    \u001b[36m│     └ \u001b[0m\u001b[36m\u001b[1m<function merge_images at 0x7f5ffbd5ef20>\u001b[0m\n",
      "    \u001b[36m└ \u001b[0m\u001b[36m\u001b[1m<module 'mri_data.utils' from '/home/srs-9/Projects/ms_mri/src/mri_data/utils.py'>\u001b[0m\n",
      "\n",
      "  File \"\u001b[32m/home/srs-9/Projects/ms_mri/src/mri_data/\u001b[0m\u001b[32m\u001b[1mutils.py\u001b[0m\", line \u001b[33m28\u001b[0m, in \u001b[35mmerge_images\u001b[0m\n",
      "    \u001b[1mrun\u001b[0m\u001b[1m(\u001b[0m\u001b[1mcmd_parts\u001b[0m\u001b[1m,\u001b[0m \u001b[1mcheck\u001b[0m\u001b[35m\u001b[1m=\u001b[0m\u001b[36m\u001b[1mTrue\u001b[0m\u001b[1m,\u001b[0m \u001b[1mstderr\u001b[0m\u001b[35m\u001b[1m=\u001b[0m\u001b[36m\u001b[1mTrue\u001b[0m\u001b[1m,\u001b[0m \u001b[1mstdout\u001b[0m\u001b[35m\u001b[1m=\u001b[0m\u001b[36m\u001b[1mTrue\u001b[0m\u001b[1m)\u001b[0m\n",
      "    \u001b[36m│   └ \u001b[0m\u001b[36m\u001b[1m['fslmerge', '-a', '/mnt/h/3Tpioneer_bids/sub-ms2120/ses-20170920/flair.t1.nii.gz', '/mnt/h/3Tpioneer_bids/sub-ms2120/ses-201...\u001b[0m\n",
      "    \u001b[36m└ \u001b[0m\u001b[36m\u001b[1m<function run at 0x7f616219ef20>\u001b[0m\n",
      "\n",
      "  File \"/home/srs-9/.asdf/installs/python/3.12.4/lib/python3.12/subprocess.py\", line 571, in run\n",
      "    raise CalledProcessError(retcode, process.args,\n",
      "          │                  │        │       └ ['fslmerge', '-a', '/mnt/h/3Tpioneer_bids/sub-ms2120/ses-20170920/flair.t1.nii.gz', '/mnt/h/3Tpioneer_bids/sub-ms2120/ses-201...\n",
      "          │                  │        └ <Popen: returncode: -6 args: ['fslmerge', '-a', '/mnt/h/3Tpioneer_bids/sub-m...>\n",
      "          │                  └ -6\n",
      "          └ <class 'subprocess.CalledProcessError'>\n",
      "\n",
      "\u001b[31m\u001b[1msubprocess.CalledProcessError\u001b[0m:\u001b[1m Command '['fslmerge', '-a', '/mnt/h/3Tpioneer_bids/sub-ms2120/ses-20170920/flair.t1.nii.gz', '/mnt/h/3Tpioneer_bids/sub-ms2120/ses-20170920/flair.nii.gz', '/mnt/h/3Tpioneer_bids/sub-ms2120/ses-20170920/t1.nii.gz']' died with <Signals.SIGABRT: 6>.\u001b[0m\n",
      "\u001b[32m2024-10-17 02:26:05.417\u001b[0m | \u001b[1mINFO    \u001b[0m | \u001b[36mmri_data.utils\u001b[0m:\u001b[36mmerge_images\u001b[0m:\u001b[36m27\u001b[0m - \u001b[1mfslmerge -a /mnt/h/3Tpioneer_bids/sub-ms1196/ses-20161004/flair.t1.nii.gz /mnt/h/3Tpioneer_bids/sub-ms1196/ses-20161004/flair.nii.gz /mnt/h/3Tpioneer_bids/sub-ms1196/ses-20161004/t1.nii.gz\u001b[0m\n"
     ]
    },
    {
     "name": "stdout",
     "output_type": "stream",
     "text": [
      "Image Exception : #22 :: Failed to read volume /mnt/h/3Tpioneer_bids/sub-ms1196/ses-20161004/t1.nii.gz\n",
      "Error : Error: short read, file may be truncated\n",
      "terminate called after throwing an instance of 'std::runtime_error'\n",
      "  what():  Failed to read volume /mnt/h/3Tpioneer_bids/sub-ms1196/ses-20161004/t1.nii.gz\n",
      "Error : Error: short read, file may be truncated\n"
     ]
    },
    {
     "name": "stderr",
     "output_type": "stream",
     "text": [
      "\u001b[32m2024-10-17 02:26:18.430\u001b[0m | \u001b[31m\u001b[1mERROR   \u001b[0m | \u001b[36mmonai_training.preprocess\u001b[0m:\u001b[36mprepare_images\u001b[0m:\u001b[36m121\u001b[0m - \u001b[31m\u001b[1mSomething went wrong merging images for <bound method Scan.info of Scan(subid='1196', sesid='20161004', dataroot=PosixPath('/mnt/h/3Tpioneer_bids'), root=PosixPath('/mnt/h/3Tpioneer_bids/sub-ms1196/ses-20161004'), image=None, label=None, cond=None, id=24112560784)>\u001b[0m\n",
      "\u001b[33m\u001b[1mTraceback (most recent call last):\u001b[0m\n",
      "\n",
      "  File \"<frozen runpy>\", line 198, in _run_module_as_main\n",
      "  File \"<frozen runpy>\", line 88, in _run_code\n",
      "  File \"/home/srs-9/.virtualenvs/monai/lib/python3.12/site-packages/ipykernel_launcher.py\", line 18, in <module>\n",
      "    app.launch_new_instance()\n",
      "    │   └ <bound method Application.launch_instance of <class 'ipykernel.kernelapp.IPKernelApp'>>\n",
      "    └ <module 'ipykernel.kernelapp' from '/home/srs-9/.virtualenvs/monai/lib/python3.12/site-packages/ipykernel/kernelapp.py'>\n",
      "  File \"/home/srs-9/.virtualenvs/monai/lib/python3.12/site-packages/traitlets/config/application.py\", line 1075, in launch_instance\n",
      "    app.start()\n",
      "    │   └ <function IPKernelApp.start at 0x7f615fb23f60>\n",
      "    └ <ipykernel.kernelapp.IPKernelApp object at 0x7f616258f740>\n",
      "  File \"/home/srs-9/.virtualenvs/monai/lib/python3.12/site-packages/ipykernel/kernelapp.py\", line 739, in start\n",
      "    self.io_loop.start()\n",
      "    │    │       └ <function BaseAsyncIOLoop.start at 0x7f615fb44d60>\n",
      "    │    └ <tornado.platform.asyncio.AsyncIOMainLoop object at 0x7f615fb64b30>\n",
      "    └ <ipykernel.kernelapp.IPKernelApp object at 0x7f616258f740>\n",
      "  File \"/home/srs-9/.virtualenvs/monai/lib/python3.12/site-packages/tornado/platform/asyncio.py\", line 205, in start\n",
      "    self.asyncio_loop.run_forever()\n",
      "    │    │            └ <function BaseEventLoop.run_forever at 0x7f61613f1120>\n",
      "    │    └ <_UnixSelectorEventLoop running=True closed=False debug=False>\n",
      "    └ <tornado.platform.asyncio.AsyncIOMainLoop object at 0x7f615fb64b30>\n",
      "  File \"/home/srs-9/.asdf/installs/python/3.12.4/lib/python3.12/asyncio/base_events.py\", line 641, in run_forever\n",
      "    self._run_once()\n",
      "    │    └ <function BaseEventLoop._run_once at 0x7f61613f2f20>\n",
      "    └ <_UnixSelectorEventLoop running=True closed=False debug=False>\n",
      "  File \"/home/srs-9/.asdf/installs/python/3.12.4/lib/python3.12/asyncio/base_events.py\", line 1987, in _run_once\n",
      "    handle._run()\n",
      "    │      └ <function Handle._run at 0x7f61615a3240>\n",
      "    └ <Handle Task.task_wakeup(<Future finis...8B)>, ...],))>)>\n",
      "  File \"/home/srs-9/.asdf/installs/python/3.12.4/lib/python3.12/asyncio/events.py\", line 88, in _run\n",
      "    self._context.run(self._callback, *self._args)\n",
      "    │    │            │    │           │    └ <member '_args' of 'Handle' objects>\n",
      "    │    │            │    │           └ <Handle Task.task_wakeup(<Future finis...8B)>, ...],))>)>\n",
      "    │    │            │    └ <member '_callback' of 'Handle' objects>\n",
      "    │    │            └ <Handle Task.task_wakeup(<Future finis...8B)>, ...],))>)>\n",
      "    │    └ <member '_context' of 'Handle' objects>\n",
      "    └ <Handle Task.task_wakeup(<Future finis...8B)>, ...],))>)>\n",
      "  File \"/home/srs-9/.virtualenvs/monai/lib/python3.12/site-packages/ipykernel/kernelbase.py\", line 545, in dispatch_queue\n",
      "    await self.process_one()\n",
      "          │    └ <function Kernel.process_one at 0x7f615faecfe0>\n",
      "          └ <ipykernel.ipkernel.IPythonKernel object at 0x7f615fb64fe0>\n",
      "  File \"/home/srs-9/.virtualenvs/monai/lib/python3.12/site-packages/ipykernel/kernelbase.py\", line 534, in process_one\n",
      "    await dispatch(*args)\n",
      "          │         └ ([<zmq.Frame(b'28452c97-ae9'...36B)>, <zmq.Frame(b'<IDS|MSG>')>, <zmq.Frame(b'689b3411d8ad'...64B)>, <zmq.Frame(b'{\"date\":\"20...\n",
      "          └ <bound method Kernel.dispatch_shell of <ipykernel.ipkernel.IPythonKernel object at 0x7f615fb64fe0>>\n",
      "  File \"/home/srs-9/.virtualenvs/monai/lib/python3.12/site-packages/ipykernel/kernelbase.py\", line 437, in dispatch_shell\n",
      "    await result\n",
      "          └ <coroutine object IPythonKernel.execute_request at 0x7f5ffbd2e440>\n",
      "  File \"/home/srs-9/.virtualenvs/monai/lib/python3.12/site-packages/ipykernel/ipkernel.py\", line 362, in execute_request\n",
      "    await super().execute_request(stream, ident, parent)\n",
      "                                  │       │      └ {'header': {'date': datetime.datetime(2024, 10, 17, 6, 25, 42, 497000, tzinfo=tzutc()), 'msg_id': 'd7635e77-e805-43d2-a4ff-bf...\n",
      "                                  │       └ [b'28452c97-ae95-4516-a700-95a7394e003f']\n",
      "                                  └ <zmq.eventloop.zmqstream.ZMQStream object at 0x7f615fb64920>\n",
      "  File \"/home/srs-9/.virtualenvs/monai/lib/python3.12/site-packages/ipykernel/kernelbase.py\", line 778, in execute_request\n",
      "    reply_content = await reply_content\n",
      "                          └ <coroutine object IPythonKernel.do_execute at 0x7f6146f362c0>\n",
      "  File \"/home/srs-9/.virtualenvs/monai/lib/python3.12/site-packages/ipykernel/ipkernel.py\", line 449, in do_execute\n",
      "    res = shell.run_cell(\n",
      "          │     └ <function ZMQInteractiveShell.run_cell at 0x7f615fb21080>\n",
      "          └ <ipykernel.zmqshell.ZMQInteractiveShell object at 0x7f615c2c4680>\n",
      "  File \"/home/srs-9/.virtualenvs/monai/lib/python3.12/site-packages/ipykernel/zmqshell.py\", line 549, in run_cell\n",
      "    return super().run_cell(*args, **kwargs)\n",
      "                             │       └ {'store_history': True, 'silent': False, 'cell_id': 'vscode-notebook-cell://wsl%2Bubuntu/home/srs-9/Projects/ms_mri/notebooks...\n",
      "                             └ ('dataset_inference = DataSet.from_scans(set(dataset_full) - set(dataset_train2))\\ndataset_proc = preprocess.DataSetProcesser...\n",
      "  File \"/home/srs-9/.virtualenvs/monai/lib/python3.12/site-packages/IPython/core/interactiveshell.py\", line 3075, in run_cell\n",
      "    result = self._run_cell(\n",
      "             │    └ <function InteractiveShell._run_cell at 0x7f6160834ea0>\n",
      "             └ <ipykernel.zmqshell.ZMQInteractiveShell object at 0x7f615c2c4680>\n",
      "  File \"/home/srs-9/.virtualenvs/monai/lib/python3.12/site-packages/IPython/core/interactiveshell.py\", line 3130, in _run_cell\n",
      "    result = runner(coro)\n",
      "             │      └ <coroutine object InteractiveShell.run_cell_async at 0x7f5ffbd76a70>\n",
      "             └ <function _pseudo_sync_runner at 0x7f6160828040>\n",
      "  File \"/home/srs-9/.virtualenvs/monai/lib/python3.12/site-packages/IPython/core/async_helpers.py\", line 128, in _pseudo_sync_runner\n",
      "    coro.send(None)\n",
      "    │    └ <method 'send' of 'coroutine' objects>\n",
      "    └ <coroutine object InteractiveShell.run_cell_async at 0x7f5ffbd76a70>\n",
      "  File \"/home/srs-9/.virtualenvs/monai/lib/python3.12/site-packages/IPython/core/interactiveshell.py\", line 3334, in run_cell_async\n",
      "    has_raised = await self.run_ast_nodes(code_ast.body, cell_name,\n",
      "                       │    │             │        │     └ '/tmp/ipykernel_21510/1045654224.py'\n",
      "                       │    │             │        └ [<ast.Assign object at 0x7f5ffbbc9d50>, <ast.Assign object at 0x7f5ffbbca490>, <ast.Expr object at 0x7f5ffbbc9b10>]\n",
      "                       │    │             └ <ast.Module object at 0x7f5ffe46a550>\n",
      "                       │    └ <function InteractiveShell.run_ast_nodes at 0x7f61608351c0>\n",
      "                       └ <ipykernel.zmqshell.ZMQInteractiveShell object at 0x7f615c2c4680>\n",
      "  File \"/home/srs-9/.virtualenvs/monai/lib/python3.12/site-packages/IPython/core/interactiveshell.py\", line 3517, in run_ast_nodes\n",
      "    if await self.run_code(code, result, async_=asy):\n",
      "             │    │        │     │              └ False\n",
      "             │    │        │     └ <ExecutionResult object at 7f5ffc27faa0, execution_count=13 error_before_exec=None error_in_exec=None info=<ExecutionInfo obj...\n",
      "             │    │        └ <code object <module> at 0x7f5ffbbc65b0, file \"/tmp/ipykernel_21510/1045654224.py\", line 1>\n",
      "             │    └ <function InteractiveShell.run_code at 0x7f6160835260>\n",
      "             └ <ipykernel.zmqshell.ZMQInteractiveShell object at 0x7f615c2c4680>\n",
      "  File \"/home/srs-9/.virtualenvs/monai/lib/python3.12/site-packages/IPython/core/interactiveshell.py\", line 3577, in run_code\n",
      "    exec(code_obj, self.user_global_ns, self.user_ns)\n",
      "         │         │    │               │    └ {'__name__': '__main__', '__doc__': 'Automatically created module for IPython interactive environment', '__package__': None, ...\n",
      "         │         │    │               └ <ipykernel.zmqshell.ZMQInteractiveShell object at 0x7f615c2c4680>\n",
      "         │         │    └ <property object at 0x7f616082c900>\n",
      "         │         └ <ipykernel.zmqshell.ZMQInteractiveShell object at 0x7f615c2c4680>\n",
      "         └ <code object <module> at 0x7f5ffbbc65b0, file \"/tmp/ipykernel_21510/1045654224.py\", line 1>\n",
      "\n",
      "  File \"\u001b[32m/tmp/ipykernel_21510/\u001b[0m\u001b[32m\u001b[1m1045654224.py\u001b[0m\", line \u001b[33m3\u001b[0m, in \u001b[35m<module>\u001b[0m\n",
      "    \u001b[1mdataset_proc\u001b[0m\u001b[35m\u001b[1m.\u001b[0m\u001b[1mprepare_images\u001b[0m\u001b[1m(\u001b[0m\u001b[1m[\u001b[0m\u001b[36m\"flair\"\u001b[0m\u001b[1m,\u001b[0m \u001b[36m\"t1\"\u001b[0m\u001b[1m]\u001b[0m\u001b[1m)\u001b[0m\n",
      "    \u001b[36m│            └ \u001b[0m\u001b[36m\u001b[1m<function DataSetProcesser.prepare_images at 0x7f5ffbbd2de0>\u001b[0m\n",
      "    \u001b[36m└ \u001b[0m\u001b[36m\u001b[1mDataSetProcesser(dataset=<mri_data.file_manager.DataSet object at 0x7f5ffc122030>, image_name='flair.t1.nii.gz', label_name='...\u001b[0m\n",
      "\n",
      "> File \"\u001b[32m/home/srs-9/Projects/ms_mri/src/monai_training/\u001b[0m\u001b[32m\u001b[1mpreprocess.py\u001b[0m\", line \u001b[33m117\u001b[0m, in \u001b[35mprepare_images\u001b[0m\n",
      "    \u001b[1mutils\u001b[0m\u001b[35m\u001b[1m.\u001b[0m\u001b[1mmerge_images\u001b[0m\u001b[1m(\u001b[0m\u001b[1mbase_images\u001b[0m\u001b[1m,\u001b[0m \u001b[1mmerged_image\u001b[0m\u001b[1m)\u001b[0m\n",
      "    \u001b[36m│     │            │            └ \u001b[0m\u001b[36m\u001b[1mPosixPath('/mnt/h/3Tpioneer_bids/sub-ms1196/ses-20161004/flair.t1.nii.gz')\u001b[0m\n",
      "    \u001b[36m│     │            └ \u001b[0m\u001b[36m\u001b[1m[PosixPath('/mnt/h/3Tpioneer_bids/sub-ms1196/ses-20161004/flair.nii.gz'), PosixPath('/mnt/h/3Tpioneer_bids/sub-ms1196/ses-201...\u001b[0m\n",
      "    \u001b[36m│     └ \u001b[0m\u001b[36m\u001b[1m<function merge_images at 0x7f5ffbd5ef20>\u001b[0m\n",
      "    \u001b[36m└ \u001b[0m\u001b[36m\u001b[1m<module 'mri_data.utils' from '/home/srs-9/Projects/ms_mri/src/mri_data/utils.py'>\u001b[0m\n",
      "\n",
      "  File \"\u001b[32m/home/srs-9/Projects/ms_mri/src/mri_data/\u001b[0m\u001b[32m\u001b[1mutils.py\u001b[0m\", line \u001b[33m28\u001b[0m, in \u001b[35mmerge_images\u001b[0m\n",
      "    \u001b[1mrun\u001b[0m\u001b[1m(\u001b[0m\u001b[1mcmd_parts\u001b[0m\u001b[1m,\u001b[0m \u001b[1mcheck\u001b[0m\u001b[35m\u001b[1m=\u001b[0m\u001b[36m\u001b[1mTrue\u001b[0m\u001b[1m,\u001b[0m \u001b[1mstderr\u001b[0m\u001b[35m\u001b[1m=\u001b[0m\u001b[36m\u001b[1mTrue\u001b[0m\u001b[1m,\u001b[0m \u001b[1mstdout\u001b[0m\u001b[35m\u001b[1m=\u001b[0m\u001b[36m\u001b[1mTrue\u001b[0m\u001b[1m)\u001b[0m\n",
      "    \u001b[36m│   └ \u001b[0m\u001b[36m\u001b[1m['fslmerge', '-a', '/mnt/h/3Tpioneer_bids/sub-ms1196/ses-20161004/flair.t1.nii.gz', '/mnt/h/3Tpioneer_bids/sub-ms1196/ses-201...\u001b[0m\n",
      "    \u001b[36m└ \u001b[0m\u001b[36m\u001b[1m<function run at 0x7f616219ef20>\u001b[0m\n",
      "\n",
      "  File \"/home/srs-9/.asdf/installs/python/3.12.4/lib/python3.12/subprocess.py\", line 571, in run\n",
      "    raise CalledProcessError(retcode, process.args,\n",
      "          │                  │        │       └ ['fslmerge', '-a', '/mnt/h/3Tpioneer_bids/sub-ms1196/ses-20161004/flair.t1.nii.gz', '/mnt/h/3Tpioneer_bids/sub-ms1196/ses-201...\n",
      "          │                  │        └ <Popen: returncode: -6 args: ['fslmerge', '-a', '/mnt/h/3Tpioneer_bids/sub-m...>\n",
      "          │                  └ -6\n",
      "          └ <class 'subprocess.CalledProcessError'>\n",
      "\n",
      "\u001b[31m\u001b[1msubprocess.CalledProcessError\u001b[0m:\u001b[1m Command '['fslmerge', '-a', '/mnt/h/3Tpioneer_bids/sub-ms1196/ses-20161004/flair.t1.nii.gz', '/mnt/h/3Tpioneer_bids/sub-ms1196/ses-20161004/flair.nii.gz', '/mnt/h/3Tpioneer_bids/sub-ms1196/ses-20161004/t1.nii.gz']' died with <Signals.SIGABRT: 6>.\u001b[0m\n"
     ]
    }
   ],
   "source": [
    "dataset_inference = DataSet.from_scans(set(dataset_full) - set(dataset_train2))\n",
    "dataset_proc = preprocess.DataSetProcesser(dataset_inference)\n",
    "dataset_proc.prepare_images([\"flair\", \"t1\"])"
   ]
  },
  {
   "cell_type": "code",
   "execution_count": 14,
   "metadata": {},
   "outputs": [
    {
     "data": {
      "text/plain": [
       "28"
      ]
     },
     "execution_count": 14,
     "metadata": {},
     "output_type": "execute_result"
    }
   ],
   "source": [
    "len(dataset)\n",
    "with open(\"/home/srs-9/Projects/ms_mri/datalists/choroid_pineal_pituitary.txt\", 'w') as f:\n",
    "    for scan in dataset:\n",
    "        f.write(scan.root + \"\\n\")"
   ]
  },
  {
   "cell_type": "code",
   "execution_count": 21,
   "metadata": {},
   "outputs": [],
   "source": [
    "dataset_t1_flair = scan_3Tpioneer_bids(dataroot, image=\"flair.t1.nii.gz\")\n",
    "dataset_t1_flair = [scan for scan in dataset_t1_flair if scan.image is not None]\n",
    "dataset_tmp = DataSet.from_scans(dataset_t1_flair)"
   ]
  },
  {
   "cell_type": "code",
   "execution_count": 23,
   "metadata": {},
   "outputs": [],
   "source": [
    "dataset_tmp = DataSet.from_scans(dataset_t1_flair)\n",
    "images = []\n",
    "# for scan in dataset_proc.dataset:\n",
    "for scan in dataset_tmp:\n",
    "    infile: Path = scan.image_path\n",
    "    images.append({\"image\": str(infile.relative_to(dataset_proc.dataset.dataroot))})\n",
    "\n",
    "datalist = {\n",
    "    \"testing\": images\n",
    "}\n",
    "\n",
    "datalist_file = work_dir / \"datalist.json\"\n",
    "with open(datalist_file, \"w\") as f:\n",
    "    json.dump(datalist, f)\n",
    "\n",
    "task = {\n",
    "  \"name\": \"infer_pineal\",\n",
    "  \"task\": \"segmentation\",\n",
    "  \"modality\": \"MRI\",\n",
    "  \"datalist\": str(work_dir / \"datalist.json\"),\n",
    "  \"dataroot\": str(dataroot),\n",
    "}\n",
    "\n",
    "task_file = os.path.join(work_dir, \"inference-task.json\")\n",
    "with open(task_file, \"w\") as f:\n",
    "    json.dump(task, f)"
   ]
  },
  {
   "cell_type": "code",
   "execution_count": 8,
   "metadata": {},
   "outputs": [],
   "source": [
    "input_cfg = work_dir  / \"inference-task.json\"  # path to the task input YAML file created by the users\n",
    "\n",
    "history = import_bundle_algo_history(work_dir, only_trained=True)"
   ]
  },
  {
   "cell_type": "code",
   "execution_count": 13,
   "metadata": {},
   "outputs": [
    {
     "ename": "KeyError",
     "evalue": "'query key: dataroot'",
     "output_type": "error",
     "traceback": [
      "\u001b[0;31m---------------------------------------------------------------------------\u001b[0m",
      "\u001b[0;31mValueError\u001b[0m                                Traceback (most recent call last)",
      "File \u001b[0;32m~/.virtualenvs/monai/lib/python3.12/site-packages/monai/bundle/config_parser.py:158\u001b[0m, in \u001b[0;36mConfigParser.__getitem__\u001b[0;34m(self, id)\u001b[0m\n\u001b[1;32m    156\u001b[0m \u001b[38;5;28;01mtry\u001b[39;00m:\n\u001b[1;32m    157\u001b[0m     config \u001b[38;5;241m=\u001b[39m (\n\u001b[0;32m--> 158\u001b[0m         \u001b[43mlook_up_option\u001b[49m\u001b[43m(\u001b[49m\u001b[43mk\u001b[49m\u001b[43m,\u001b[49m\u001b[43m \u001b[49m\u001b[43mconfig\u001b[49m\u001b[43m,\u001b[49m\u001b[43m \u001b[49m\u001b[43mprint_all_options\u001b[49m\u001b[38;5;241;43m=\u001b[39;49m\u001b[38;5;28;43;01mFalse\u001b[39;49;00m\u001b[43m)\u001b[49m \u001b[38;5;28;01mif\u001b[39;00m \u001b[38;5;28misinstance\u001b[39m(config, \u001b[38;5;28mdict\u001b[39m) \u001b[38;5;28;01melse\u001b[39;00m config[\u001b[38;5;28mint\u001b[39m(k)]\n\u001b[1;32m    159\u001b[0m     )\n\u001b[1;32m    160\u001b[0m \u001b[38;5;28;01mexcept\u001b[39;00m \u001b[38;5;167;01mValueError\u001b[39;00m \u001b[38;5;28;01mas\u001b[39;00m e:\n",
      "File \u001b[0;32m~/.virtualenvs/monai/lib/python3.12/site-packages/monai/utils/module.py:143\u001b[0m, in \u001b[0;36mlook_up_option\u001b[0;34m(opt_str, supported, default, print_all_options)\u001b[0m\n\u001b[1;32m    138\u001b[0m     \u001b[38;5;28;01mraise\u001b[39;00m \u001b[38;5;167;01mValueError\u001b[39;00m(\n\u001b[1;32m    139\u001b[0m         \u001b[38;5;124mf\u001b[39m\u001b[38;5;124m\"\u001b[39m\u001b[38;5;124mBy \u001b[39m\u001b[38;5;124m'\u001b[39m\u001b[38;5;132;01m{\u001b[39;00mopt_str\u001b[38;5;132;01m}\u001b[39;00m\u001b[38;5;124m'\u001b[39m\u001b[38;5;124m, did you mean \u001b[39m\u001b[38;5;124m'\u001b[39m\u001b[38;5;132;01m{\u001b[39;00mguess_at_spelling\u001b[38;5;132;01m}\u001b[39;00m\u001b[38;5;124m'\u001b[39m\u001b[38;5;124m?\u001b[39m\u001b[38;5;130;01m\\n\u001b[39;00m\u001b[38;5;124m\"\u001b[39m\n\u001b[1;32m    140\u001b[0m         \u001b[38;5;241m+\u001b[39m \u001b[38;5;124mf\u001b[39m\u001b[38;5;124m\"\u001b[39m\u001b[38;5;124m'\u001b[39m\u001b[38;5;132;01m{\u001b[39;00mopt_str\u001b[38;5;132;01m}\u001b[39;00m\u001b[38;5;124m'\u001b[39m\u001b[38;5;124m is not a valid value.\u001b[39m\u001b[38;5;130;01m\\n\u001b[39;00m\u001b[38;5;124m\"\u001b[39m\n\u001b[1;32m    141\u001b[0m         \u001b[38;5;241m+\u001b[39m supported_msg\n\u001b[1;32m    142\u001b[0m     )\n\u001b[0;32m--> 143\u001b[0m \u001b[38;5;28;01mraise\u001b[39;00m \u001b[38;5;167;01mValueError\u001b[39;00m(\u001b[38;5;124mf\u001b[39m\u001b[38;5;124m\"\u001b[39m\u001b[38;5;124mUnsupported option \u001b[39m\u001b[38;5;124m'\u001b[39m\u001b[38;5;132;01m{\u001b[39;00mopt_str\u001b[38;5;132;01m}\u001b[39;00m\u001b[38;5;124m'\u001b[39m\u001b[38;5;124m, \u001b[39m\u001b[38;5;124m\"\u001b[39m \u001b[38;5;241m+\u001b[39m supported_msg)\n",
      "\u001b[0;31mValueError\u001b[0m: Unsupported option 'dataroot', ",
      "\nThe above exception was the direct cause of the following exception:\n",
      "\u001b[0;31mKeyError\u001b[0m                                  Traceback (most recent call last)",
      "Cell \u001b[0;32mIn[13], line 6\u001b[0m\n\u001b[1;32m      4\u001b[0m n_best \u001b[38;5;241m=\u001b[39m \u001b[38;5;241m5\u001b[39m\n\u001b[1;32m      5\u001b[0m builder \u001b[38;5;241m=\u001b[39m AlgoEnsembleBuilder(history, input_cfg)\n\u001b[0;32m----> 6\u001b[0m \u001b[43mbuilder\u001b[49m\u001b[38;5;241;43m.\u001b[39;49m\u001b[43mset_ensemble_method\u001b[49m\u001b[43m(\u001b[49m\u001b[43mAlgoEnsembleBestN\u001b[49m\u001b[43m(\u001b[49m\u001b[43mn_best\u001b[49m\u001b[38;5;241;43m=\u001b[39;49m\u001b[43mn_best\u001b[49m\u001b[43m)\u001b[49m\u001b[43m)\u001b[49m\n\u001b[1;32m      7\u001b[0m ensemble \u001b[38;5;241m=\u001b[39m builder\u001b[38;5;241m.\u001b[39mget_ensemble()\n\u001b[1;32m      8\u001b[0m save_params \u001b[38;5;241m=\u001b[39m {\n\u001b[1;32m      9\u001b[0m     \u001b[38;5;124m\"\u001b[39m\u001b[38;5;124m_target_\u001b[39m\u001b[38;5;124m\"\u001b[39m: \u001b[38;5;124m\"\u001b[39m\u001b[38;5;124mSaveImage\u001b[39m\u001b[38;5;124m\"\u001b[39m, \n\u001b[1;32m     10\u001b[0m     \u001b[38;5;124m\"\u001b[39m\u001b[38;5;124moutput_dir\u001b[39m\u001b[38;5;124m\"\u001b[39m: save_dir, \n\u001b[1;32m     11\u001b[0m     \u001b[38;5;124m\"\u001b[39m\u001b[38;5;124mdata_root_dir\u001b[39m\u001b[38;5;124m\"\u001b[39m: dataroot, \n\u001b[1;32m     12\u001b[0m     \u001b[38;5;124m\"\u001b[39m\u001b[38;5;124moutput_postfix\u001b[39m\u001b[38;5;124m\"\u001b[39m: \u001b[38;5;124m\"\u001b[39m\u001b[38;5;124mpineal_pred\u001b[39m\u001b[38;5;124m\"\u001b[39m, \n\u001b[1;32m     13\u001b[0m     \u001b[38;5;124m\"\u001b[39m\u001b[38;5;124mseparate_folder\u001b[39m\u001b[38;5;124m\"\u001b[39m: \u001b[38;5;28;01mFalse\u001b[39;00m}\n",
      "File \u001b[0;32m~/.virtualenvs/monai/lib/python3.12/site-packages/monai/apps/auto3dseg/ensemble_builder.py:387\u001b[0m, in \u001b[0;36mAlgoEnsembleBuilder.set_ensemble_method\u001b[0;34m(self, ensemble, *args, **kwargs)\u001b[0m\n\u001b[1;32m    385\u001b[0m ensemble\u001b[38;5;241m.\u001b[39mset_algos(\u001b[38;5;28mself\u001b[39m\u001b[38;5;241m.\u001b[39minfer_algos)\n\u001b[1;32m    386\u001b[0m ensemble\u001b[38;5;241m.\u001b[39mcollect_algos(\u001b[38;5;241m*\u001b[39margs, \u001b[38;5;241m*\u001b[39m\u001b[38;5;241m*\u001b[39mkwargs)\n\u001b[0;32m--> 387\u001b[0m ensemble\u001b[38;5;241m.\u001b[39mset_infer_files(\u001b[38;5;28;43mself\u001b[39;49m\u001b[38;5;241;43m.\u001b[39;49m\u001b[43mdata_src_cfg\u001b[49m\u001b[43m[\u001b[49m\u001b[38;5;124;43m\"\u001b[39;49m\u001b[38;5;124;43mdataroot\u001b[39;49m\u001b[38;5;124;43m\"\u001b[39;49m\u001b[43m]\u001b[49m, \u001b[38;5;28mself\u001b[39m\u001b[38;5;241m.\u001b[39mdata_src_cfg[\u001b[38;5;124m\"\u001b[39m\u001b[38;5;124mdatalist\u001b[39m\u001b[38;5;124m\"\u001b[39m])\n\u001b[1;32m    389\u001b[0m \u001b[38;5;28mself\u001b[39m\u001b[38;5;241m.\u001b[39mensemble \u001b[38;5;241m=\u001b[39m ensemble\n",
      "File \u001b[0;32m~/.virtualenvs/monai/lib/python3.12/site-packages/monai/bundle/config_parser.py:161\u001b[0m, in \u001b[0;36mConfigParser.__getitem__\u001b[0;34m(self, id)\u001b[0m\n\u001b[1;32m    157\u001b[0m         config \u001b[38;5;241m=\u001b[39m (\n\u001b[1;32m    158\u001b[0m             look_up_option(k, config, print_all_options\u001b[38;5;241m=\u001b[39m\u001b[38;5;28;01mFalse\u001b[39;00m) \u001b[38;5;28;01mif\u001b[39;00m \u001b[38;5;28misinstance\u001b[39m(config, \u001b[38;5;28mdict\u001b[39m) \u001b[38;5;28;01melse\u001b[39;00m config[\u001b[38;5;28mint\u001b[39m(k)]\n\u001b[1;32m    159\u001b[0m         )\n\u001b[1;32m    160\u001b[0m     \u001b[38;5;28;01mexcept\u001b[39;00m \u001b[38;5;167;01mValueError\u001b[39;00m \u001b[38;5;28;01mas\u001b[39;00m e:\n\u001b[0;32m--> 161\u001b[0m         \u001b[38;5;28;01mraise\u001b[39;00m \u001b[38;5;167;01mKeyError\u001b[39;00m(\u001b[38;5;124mf\u001b[39m\u001b[38;5;124m\"\u001b[39m\u001b[38;5;124mquery key: \u001b[39m\u001b[38;5;132;01m{\u001b[39;00mk\u001b[38;5;132;01m}\u001b[39;00m\u001b[38;5;124m\"\u001b[39m) \u001b[38;5;28;01mfrom\u001b[39;00m \u001b[38;5;21;01me\u001b[39;00m\n\u001b[1;32m    162\u001b[0m \u001b[38;5;28;01mreturn\u001b[39;00m config\n",
      "\u001b[0;31mKeyError\u001b[0m: 'query key: dataroot'"
     ]
    }
   ],
   "source": [
    "save_dir = Path(\"/mnt/h/3Tpioneer_bids_predictions\")\n",
    "\n",
    "## model ensemble\n",
    "n_best = 5\n",
    "builder = AlgoEnsembleBuilder(history, input_cfg)\n",
    "builder.set_ensemble_method(AlgoEnsembleBestN(n_best=n_best))\n",
    "ensemble = builder.get_ensemble()\n",
    "save_params = {\n",
    "    \"_target_\": \"SaveImage\", \n",
    "    \"output_dir\": save_dir, \n",
    "    \"data_root_dir\": dataroot, \n",
    "    \"output_postfix\": \"pineal_pred\", \n",
    "    \"separate_folder\": False}\n",
    "                               \n",
    "pred = ensemble(pred_param = {\"image_save_func\": save_params})"
   ]
  },
  {
   "cell_type": "code",
   "execution_count": 1,
   "metadata": {},
   "outputs": [
    {
     "name": "stdout",
     "output_type": "stream",
     "text": [
      "fslmerge -a /media/hemondlab/Data/3Tpioneer_bids/sub-ms1196/ses-20161004/flair.t1.nii.gz /media/hemondlab/Data/3Tpioneer_bids/sub-ms1196/ses-20161004/flair.nii.gz /media/hemondlab/Data/3Tpioneer_bids/sub-ms1196/ses-20161004/t1.nii.gz\n"
     ]
    }
   ],
   "source": [
    "cmd_parts = ['fslmerge', '-a', '/media/hemondlab/Data/3Tpioneer_bids/sub-ms1196/ses-20161004/flair.t1.nii.gz', '/media/hemondlab/Data/3Tpioneer_bids/sub-ms1196/ses-20161004/flair.nii.gz', '/media/hemondlab/Data/3Tpioneer_bids/sub-ms1196/ses-20161004/t1.nii.gz']\n",
    "cmd = \" \".join(cmd_parts)\n",
    "print(cmd)"
   ]
  },
  {
   "cell_type": "code",
   "execution_count": 2,
   "metadata": {},
   "outputs": [
    {
     "data": {
      "text/plain": [
       "False"
      ]
     },
     "execution_count": 2,
     "metadata": {},
     "output_type": "execute_result"
    }
   ],
   "source": [
    "path1 = \"/media/smbshare/3Tpioneer_bids/sub-ms1196/ses-20161004\" \n",
    "path2 = \"/media/smbshare/3Tpioneer_bids/sub-ms1196/ses-20161004\"\n",
    "path1 == path2"
   ]
  },
  {
   "cell_type": "code",
   "execution_count": 7,
   "metadata": {},
   "outputs": [],
   "source": [
    "from pathlib import Path\n",
    "\n",
    "projects_root = Path(\"/home/hemondlab/Dev\")\n",
    "drive_root = Path(\"/media/hemond_lab/Data\")\n",
    "\n",
    "msmri_home = projects_root / \"ms_mri\"\n",
    "training_work_dirs = drive_root / \"training_work_dirs\"\n",
    "\n",
    "# dataroot = \"/media/hemondlab/Data/3Tpioneer_bids\"\n",
    "dataroot = drive_root / \"3Tpioneer_bids\"\n",
    "work_dir = msmri_home / \"training_work_dirs\" / \"pineal1\"\n",
    "train_dataset_file = work_dir / \"training-dataset-desktop1.json\""
   ]
  },
  {
   "cell_type": "code",
   "execution_count": 8,
   "metadata": {},
   "outputs": [
    {
     "data": {
      "text/plain": [
       "True"
      ]
     },
     "execution_count": 8,
     "metadata": {},
     "output_type": "execute_result"
    }
   ],
   "source": [
    "input_cfg = (\n",
    "    work_dir / \"inference-task.json\"\n",
    ")\n",
    "input_cfg.exists()"
   ]
  },
  {
   "cell_type": "code",
   "execution_count": 10,
   "metadata": {},
   "outputs": [
    {
     "data": {
      "text/plain": [
       "False"
      ]
     },
     "execution_count": 10,
     "metadata": {},
     "output_type": "execute_result"
    }
   ],
   "source": [
    "import os\n",
    "path = '/home/srs-9/Projects/ms_mri/training_work_dirs/pineal1/swinunetr_0/model_fold0/progress.yaml'\n",
    "os.path.exists(path)"
   ]
  },
  {
   "cell_type": "code",
   "execution_count": 23,
   "metadata": {},
   "outputs": [
    {
     "data": {
      "text/plain": [
       "True"
      ]
     },
     "execution_count": 23,
     "metadata": {},
     "output_type": "execute_result"
    }
   ],
   "source": [
    "from typing import Callable\n",
    "\n",
    "check = scan_3Tpioneer_bids\n",
    "isinstance(check, Callable)"
   ]
  },
  {
   "cell_type": "code",
   "execution_count": 20,
   "metadata": {},
   "outputs": [
    {
     "data": {
      "text/plain": [
       "True"
      ]
     },
     "execution_count": 20,
     "metadata": {},
     "output_type": "execute_result"
    }
   ],
   "source": [
    "thoo = 'thoo'\n",
    "isinstance(thoo, str)"
   ]
  }
 ],
 "metadata": {
  "kernelspec": {
   "display_name": "monai",
   "language": "python",
   "name": "python3"
  },
  "language_info": {
   "codemirror_mode": {
    "name": "ipython",
    "version": 3
   },
   "file_extension": ".py",
   "mimetype": "text/x-python",
   "name": "python",
   "nbconvert_exporter": "python",
   "pygments_lexer": "ipython3",
   "version": "3.12.4"
  }
 },
 "nbformat": 4,
 "nbformat_minor": 2
}
