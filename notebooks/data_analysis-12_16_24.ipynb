{
 "cells": [
  {
   "cell_type": "code",
   "execution_count": 1,
   "metadata": {},
   "outputs": [],
   "source": [
    "import pandas as pd\n",
    "from reload_recursive import reload_recursive\n",
    "import os\n",
    "from loguru import logger\n",
    "from pathlib import Path\n",
    "import json\n",
    "import numpy as np\n",
    "from tqdm.notebook import tqdm\n",
    "import re\n",
    "import sys\n",
    "\n",
    "import mri_data\n",
    "import monai_training"
   ]
  },
  {
   "cell_type": "code",
   "execution_count": 2,
   "metadata": {},
   "outputs": [],
   "source": [
    "reload_recursive(mri_data)\n",
    "reload_recursive(monai_training)\n",
    "\n",
    "from mri_data.file_manager import DataSet, scan_3Tpioneer_bids\n",
    "from mri_data import file_manager as fm\n",
    "from mri_data import utils\n",
    "from monai_training.preprocess import DataSetProcesser"
   ]
  },
  {
   "cell_type": "code",
   "execution_count": 3,
   "metadata": {},
   "outputs": [
    {
     "data": {
      "text/plain": [
       "1"
      ]
     },
     "execution_count": 3,
     "metadata": {},
     "output_type": "execute_result"
    }
   ],
   "source": [
    "logger.remove()\n",
    "logger.add(sys.stderr, level=\"INFO\")"
   ]
  },
  {
   "cell_type": "code",
   "execution_count": 4,
   "metadata": {},
   "outputs": [],
   "source": [
    "to_load = False\n",
    "drive_root = fm.get_drive_root()\n",
    "msmri_home = Path(\"/home/srs-9/Projects/ms_mri\")\n",
    "inference_root = drive_root / \"3Tpioneer_bids_predictions\"\n",
    "dataroot = drive_root / \"3Tpioneer_bids\"\n",
    "clinical_data_root = drive_root / \"Secure_Data\" / \"Large\"\n",
    "project_dataroot = msmri_home / \"data\""
   ]
  },
  {
   "cell_type": "code",
   "execution_count": 5,
   "metadata": {},
   "outputs": [
    {
     "data": {
      "text/plain": [
       "PosixPath('/mnt/h/Secure_Data/Large')"
      ]
     },
     "execution_count": 5,
     "metadata": {},
     "output_type": "execute_result"
    }
   ],
   "source": [
    "clinical_data_root"
   ]
  },
  {
   "cell_type": "code",
   "execution_count": 6,
   "metadata": {},
   "outputs": [],
   "source": [
    "def subject_to_subid(subject):\n",
    "    if not isinstance(subject, str):\n",
    "        return None\n",
    "    re_match = re.match(r\"ms(\\d{4})\", subject)\n",
    "    if re_match:\n",
    "        return_val = int(re_match[1])\n",
    "        return return_val\n",
    "    else:\n",
    "        return None"
   ]
  },
  {
   "cell_type": "markdown",
   "metadata": {},
   "source": [
    "### Data Cleaning\n",
    "\n",
    "- Add column which is subid as int\n",
    "- Set the index to the new column\n",
    "- Remove any rows where subid is NaN\n",
    "- Rename columns\n",
    "- Check \"Working with missing data\" on pandas documentation"
   ]
  },
  {
   "cell_type": "code",
   "execution_count": 10,
   "metadata": {},
   "outputs": [],
   "source": [
    "if not to_load:\n",
    "    df = pd.read_csv(clinical_data_root / \"Clinical_Data_All.csv\")\n",
    "    df = df.convert_dtypes()\n",
    "\n",
    "    with open(msmri_home / \"data\" / \"clinical_data_columns_full.txt\", 'r') as f:\n",
    "        keep_columns = [line.rstrip() for line in f.readlines()]\n",
    "    df = df[keep_columns]\n",
    "    new_columns = {\n",
    "        \"ID\": \"subject\",\n",
    "        \"age_at_obs_start\": \"age\",\n",
    "    }\n",
    "    df.rename(columns=new_columns, inplace=True)\n",
    "    df[\"subid\"] = df[\"subject\"].apply(subject_to_subid)\n",
    "    df.drop(df[df[\"subid\"].isna()].index, inplace=True)\n",
    "    df[\"subid\"] = df[\"subid\"].astype(int)\n",
    "    df = df.set_index(\"subid\")\n",
    "\n",
    "    new_columns = {}\n",
    "    for col in df.columns:\n",
    "        new_columns[col] = col.replace(\" \", \"_\")\n",
    "    df.rename(columns=new_columns, inplace=True)\n",
    "    df.head()"
   ]
  },
  {
   "cell_type": "code",
   "execution_count": 11,
   "metadata": {},
   "outputs": [],
   "source": [
    "dataset_proc = DataSetProcesser.new_dataset(dataroot, scan_3Tpioneer_bids, filters=[fm.filter_first_ses])\n",
    "dataset = dataset_proc.dataset"
   ]
  },
  {
   "cell_type": "markdown",
   "metadata": {},
   "source": [
    "### Additional Data\n",
    "\n",
    "- ROI size"
   ]
  },
  {
   "cell_type": "code",
   "execution_count": null,
   "metadata": {},
   "outputs": [],
   "source": [
    "if not to_load:\n",
    "    dataset_proc = DataSetProcesser.new_dataset(dataroot, scan_3Tpioneer_bids, filters=[fm.filter_first_ses])\n",
    "    dataset = dataset_proc.dataset\n",
    "\n",
    "    volumes = dict(pituitary=[], pineal=[], choroid=[], subid=[])\n",
    "    for subid, _ in tqdm(df.iterrows(), total=len(df)):\n",
    "        scan = dataset.find_scan(subid=str(subid))[0]\n",
    "        volumes['subid'].append(subid)\n",
    "        try:\n",
    "            pituitary_label = fm.find_label(scan, \"pituitary\", [\"CH\", \"DT\"])\n",
    "        except FileNotFoundError:\n",
    "            volumes['pituitary'].append(None)\n",
    "        else:\n",
    "            volumes['pituitary'].append(utils.compute_volume(pituitary_label)[1])\n",
    "        try:\n",
    "            pineal_label = fm.find_label(scan, \"pineal\", [\"CH\", \"SRS\"])\n",
    "        except FileNotFoundError:\n",
    "            volumes['pineal'].append(None)\n",
    "        else:\n",
    "            volumes['pineal'].append(utils.compute_volume(pineal_label)[1])\n",
    "        try:\n",
    "            choroid_label = fm.find_label(scan, \"choroid_t1_flair\", [\"CH\", \"ED\"])\n",
    "        except FileNotFoundError:\n",
    "            volumes['choroid'].append(None)\n",
    "        else:\n",
    "            volumes['choroid'].append(utils.compute_volume(choroid_label)[1])\n",
    "\n",
    "\n",
    "    df.insert(7, 'pituitary_volume', volumes['pituitary'])\n",
    "    df.insert(8, 'pituitary_vol_frac', df['pituitary_volume'] / df['brain'])\n",
    "    df.insert(7, 'pineal_volume', volumes['pineal'])\n",
    "    df.insert(8, 'pineal_vol_frac', df['pineal_volume'] / df['brain'])\n",
    "    df.insert(7, 'choroid_volume', volumes['choroid'])\n",
    "    df.insert(8, 'choroid_vol_frac', df['choroid_volume'] / df['brain'])\n",
    "        \n",
    "    df.to_csv(project_dataroot / \"clinical_data_full.csv\")"
   ]
  },
  {
   "cell_type": "code",
   "execution_count": null,
   "metadata": {},
   "outputs": [],
   "source": [
    "if to_load:\n",
    "    df = pd.read_csv(project_dataroot / \"clinical_data.csv\")"
   ]
  },
  {
   "cell_type": "code",
   "execution_count": 62,
   "metadata": {},
   "outputs": [],
   "source": [
    "df_full = df\n",
    "not_nas = (~df_full['pineal_volume'].isna() & ~df_full['choroid_volume'].isna() & ~df_full['pituitary_volume'].isna())\n",
    "df = df_full.loc[not_nas, :]\n"
   ]
  },
  {
   "cell_type": "markdown",
   "metadata": {},
   "source": [
    "### Prepare Data\n",
    "\n",
    "- Set categorical variables\n",
    "  - ms_type\n",
    "  - race\n",
    "  - ethnicity\n",
    "  - sex\n",
    "- Set edss as ordinal variable\n",
    "\n",
    "Do I need to factorize the categorical variables if I just set their dtype as \"category\"?"
   ]
  },
  {
   "cell_type": "code",
   "execution_count": 65,
   "metadata": {},
   "outputs": [
    {
     "name": "stderr",
     "output_type": "stream",
     "text": [
      "/tmp/ipykernel_23371/4244345531.py:3: SettingWithCopyWarning: \n",
      "A value is trying to be set on a copy of a slice from a DataFrame.\n",
      "Try using .loc[row_indexer,col_indexer] = value instead\n",
      "\n",
      "See the caveats in the documentation: https://pandas.pydata.org/pandas-docs/stable/user_guide/indexing.html#returning-a-view-versus-a-copy\n",
      "  df[var] = df[var].astype(\"category\")\n",
      "/tmp/ipykernel_23371/4244345531.py:7: SettingWithCopyWarning: \n",
      "A value is trying to be set on a copy of a slice from a DataFrame.\n",
      "Try using .loc[row_indexer,col_indexer] = value instead\n",
      "\n",
      "See the caveats in the documentation: https://pandas.pydata.org/pandas-docs/stable/user_guide/indexing.html#returning-a-view-versus-a-copy\n",
      "  df['numEDSS'] = df['numEDSS'].astype(edss_type)\n"
     ]
    }
   ],
   "source": [
    "categorical_vars = ['sex', 'ms_type']\n",
    "for var in categorical_vars:\n",
    "    df[var] = df[var].astype(\"category\")\n",
    "\n",
    "# edss is ordinal variable\n",
    "edss_type = pd.CategoricalDtype(categories=np.linspace(0, 10, 21), ordered=True)\n",
    "df['numEDSS'] = df['numEDSS'].astype(edss_type)"
   ]
  },
  {
   "cell_type": "code",
   "execution_count": 66,
   "metadata": {},
   "outputs": [
    {
     "name": "stdout",
     "output_type": "stream",
     "text": [
      "Index(['subject', 'ms_type', 'age', 'sex', 'sz_onset', 'numEDSS', 'dzdur',\n",
      "       'choroid_volume', 'choroid_vol_frac', 'pineal_volume',\n",
      "       'pineal_vol_frac', 'pituitary_volume', 'pituitary_vol_frac', 'bpf',\n",
      "       'cortical_thickness', 'vscaling', 'pgrey', 'grey', 'white', 'brain',\n",
      "       'vcsf', 'thalamus', 'lesion_vol', 'lesion_vol_cubic'],\n",
      "      dtype='object')\n"
     ]
    },
    {
     "data": {
      "text/html": [
       "<div>\n",
       "<style scoped>\n",
       "    .dataframe tbody tr th:only-of-type {\n",
       "        vertical-align: middle;\n",
       "    }\n",
       "\n",
       "    .dataframe tbody tr th {\n",
       "        vertical-align: top;\n",
       "    }\n",
       "\n",
       "    .dataframe thead th {\n",
       "        text-align: right;\n",
       "    }\n",
       "</style>\n",
       "<table border=\"1\" class=\"dataframe\">\n",
       "  <thead>\n",
       "    <tr style=\"text-align: right;\">\n",
       "      <th></th>\n",
       "      <th>subject</th>\n",
       "      <th>ms_type</th>\n",
       "      <th>age</th>\n",
       "      <th>sex</th>\n",
       "      <th>sz_onset</th>\n",
       "      <th>numEDSS</th>\n",
       "      <th>dzdur</th>\n",
       "      <th>choroid_volume</th>\n",
       "      <th>choroid_vol_frac</th>\n",
       "      <th>pineal_volume</th>\n",
       "      <th>...</th>\n",
       "      <th>cortical_thickness</th>\n",
       "      <th>vscaling</th>\n",
       "      <th>pgrey</th>\n",
       "      <th>grey</th>\n",
       "      <th>white</th>\n",
       "      <th>brain</th>\n",
       "      <th>vcsf</th>\n",
       "      <th>thalamus</th>\n",
       "      <th>lesion_vol</th>\n",
       "      <th>lesion_vol_cubic</th>\n",
       "    </tr>\n",
       "    <tr>\n",
       "      <th>subid</th>\n",
       "      <th></th>\n",
       "      <th></th>\n",
       "      <th></th>\n",
       "      <th></th>\n",
       "      <th></th>\n",
       "      <th></th>\n",
       "      <th></th>\n",
       "      <th></th>\n",
       "      <th></th>\n",
       "      <th></th>\n",
       "      <th></th>\n",
       "      <th></th>\n",
       "      <th></th>\n",
       "      <th></th>\n",
       "      <th></th>\n",
       "      <th></th>\n",
       "      <th></th>\n",
       "      <th></th>\n",
       "      <th></th>\n",
       "      <th></th>\n",
       "      <th></th>\n",
       "    </tr>\n",
       "  </thead>\n",
       "  <tbody>\n",
       "    <tr>\n",
       "      <th>1010</th>\n",
       "      <td>ms1010</td>\n",
       "      <td>RRMS</td>\n",
       "      <td>20.133603</td>\n",
       "      <td>Female</td>\n",
       "      <td>1/18/2015</td>\n",
       "      <td>10.0</td>\n",
       "      <td>3.058095603</td>\n",
       "      <td>1933.325928</td>\n",
       "      <td>1.4231</td>\n",
       "      <td>150.017090</td>\n",
       "      <td>...</td>\n",
       "      <td>2.520112</td>\n",
       "      <td>1.424417</td>\n",
       "      <td>574.209274</td>\n",
       "      <td>761.14905</td>\n",
       "      <td>597.381813</td>\n",
       "      <td>1358.530863</td>\n",
       "      <td>34.530367</td>\n",
       "      <td>18.864839</td>\n",
       "      <td>1.4367</td>\n",
       "      <td>1.12838</td>\n",
       "    </tr>\n",
       "    <tr>\n",
       "      <th>1011</th>\n",
       "      <td>ms1011</td>\n",
       "      <td>RRMS</td>\n",
       "      <td>28.880797</td>\n",
       "      <td>Female</td>\n",
       "      <td>1/1/2010</td>\n",
       "      <td>10.0</td>\n",
       "      <td>8.692438263</td>\n",
       "      <td>2303.349365</td>\n",
       "      <td>1.558331</td>\n",
       "      <td>283.630951</td>\n",
       "      <td>...</td>\n",
       "      <td>2.420146</td>\n",
       "      <td>1.362021</td>\n",
       "      <td>611.632085</td>\n",
       "      <td>812.513441</td>\n",
       "      <td>665.573704</td>\n",
       "      <td>1478.087146</td>\n",
       "      <td>42.174506</td>\n",
       "      <td>19.926914</td>\n",
       "      <td>1.8185</td>\n",
       "      <td>1.220594</td>\n",
       "    </tr>\n",
       "    <tr>\n",
       "      <th>1019</th>\n",
       "      <td>ms1019</td>\n",
       "      <td>RRMS</td>\n",
       "      <td>66.470459</td>\n",
       "      <td>Female</td>\n",
       "      <td>1/1/2009</td>\n",
       "      <td>2.0</td>\n",
       "      <td>10.43092592</td>\n",
       "      <td>3353.079346</td>\n",
       "      <td>2.596452</td>\n",
       "      <td>133.119675</td>\n",
       "      <td>...</td>\n",
       "      <td>2.103185</td>\n",
       "      <td>1.38752</td>\n",
       "      <td>531.960248</td>\n",
       "      <td>699.879055</td>\n",
       "      <td>591.529002</td>\n",
       "      <td>1291.408057</td>\n",
       "      <td>89.537255</td>\n",
       "      <td>17.112361</td>\n",
       "      <td>3.7688</td>\n",
       "      <td>1.556208</td>\n",
       "    </tr>\n",
       "    <tr>\n",
       "      <th>1029</th>\n",
       "      <td>ms1029</td>\n",
       "      <td>NIND</td>\n",
       "      <td>67.395828</td>\n",
       "      <td>Female</td>\n",
       "      <td>.</td>\n",
       "      <td>3.0</td>\n",
       "      <td>#VALUE!</td>\n",
       "      <td>2429.476318</td>\n",
       "      <td>1.888807</td>\n",
       "      <td>154.114304</td>\n",
       "      <td>...</td>\n",
       "      <td>2.207249</td>\n",
       "      <td>1.433026</td>\n",
       "      <td>518.138503</td>\n",
       "      <td>693.608909</td>\n",
       "      <td>592.640526</td>\n",
       "      <td>1286.249435</td>\n",
       "      <td>51.680725</td>\n",
       "      <td>18.297979</td>\n",
       "      <td>5.4155</td>\n",
       "      <td>1.756088</td>\n",
       "    </tr>\n",
       "    <tr>\n",
       "      <th>1033</th>\n",
       "      <td>ms1033</td>\n",
       "      <td>RRMS</td>\n",
       "      <td>48.943219</td>\n",
       "      <td>Female</td>\n",
       "      <td>1/1/1992</td>\n",
       "      <td>1.0</td>\n",
       "      <td>25.87745715</td>\n",
       "      <td>1834.491211</td>\n",
       "      <td>1.244348</td>\n",
       "      <td>312.319214</td>\n",
       "      <td>...</td>\n",
       "      <td>2.364547</td>\n",
       "      <td>1.374984</td>\n",
       "      <td>592.647314</td>\n",
       "      <td>796.912496</td>\n",
       "      <td>677.345968</td>\n",
       "      <td>1474.258463</td>\n",
       "      <td>29.728157</td>\n",
       "      <td>19.121122</td>\n",
       "      <td>1.9574</td>\n",
       "      <td>1.250911</td>\n",
       "    </tr>\n",
       "  </tbody>\n",
       "</table>\n",
       "<p>5 rows × 24 columns</p>\n",
       "</div>"
      ],
      "text/plain": [
       "      subject ms_type        age     sex   sz_onset numEDSS        dzdur  \\\n",
       "subid                                                                      \n",
       "1010   ms1010    RRMS  20.133603  Female  1/18/2015    10.0  3.058095603   \n",
       "1011   ms1011    RRMS  28.880797  Female   1/1/2010    10.0  8.692438263   \n",
       "1019   ms1019    RRMS  66.470459  Female   1/1/2009     2.0  10.43092592   \n",
       "1029   ms1029    NIND  67.395828  Female          .     3.0      #VALUE!   \n",
       "1033   ms1033    RRMS  48.943219  Female   1/1/1992     1.0  25.87745715   \n",
       "\n",
       "       choroid_volume  choroid_vol_frac  pineal_volume  ...  \\\n",
       "subid                                                   ...   \n",
       "1010      1933.325928            1.4231     150.017090  ...   \n",
       "1011      2303.349365          1.558331     283.630951  ...   \n",
       "1019      3353.079346          2.596452     133.119675  ...   \n",
       "1029      2429.476318          1.888807     154.114304  ...   \n",
       "1033      1834.491211          1.244348     312.319214  ...   \n",
       "\n",
       "       cortical_thickness  vscaling       pgrey        grey       white  \\\n",
       "subid                                                                     \n",
       "1010             2.520112  1.424417  574.209274   761.14905  597.381813   \n",
       "1011             2.420146  1.362021  611.632085  812.513441  665.573704   \n",
       "1019             2.103185   1.38752  531.960248  699.879055  591.529002   \n",
       "1029             2.207249  1.433026  518.138503  693.608909  592.640526   \n",
       "1033             2.364547  1.374984  592.647314  796.912496  677.345968   \n",
       "\n",
       "             brain       vcsf   thalamus  lesion_vol  lesion_vol_cubic  \n",
       "subid                                                                   \n",
       "1010   1358.530863  34.530367  18.864839      1.4367           1.12838  \n",
       "1011   1478.087146  42.174506  19.926914      1.8185          1.220594  \n",
       "1019   1291.408057  89.537255  17.112361      3.7688          1.556208  \n",
       "1029   1286.249435  51.680725  18.297979      5.4155          1.756088  \n",
       "1033   1474.258463  29.728157  19.121122      1.9574          1.250911  \n",
       "\n",
       "[5 rows x 24 columns]"
      ]
     },
     "execution_count": 66,
     "metadata": {},
     "output_type": "execute_result"
    }
   ],
   "source": [
    "print(df.columns)\n",
    "df.head()"
   ]
  },
  {
   "cell_type": "markdown",
   "metadata": {},
   "source": [
    "## Statistical Analysis"
   ]
  },
  {
   "cell_type": "markdown",
   "metadata": {},
   "source": [
    "### Descriptive Stats\n"
   ]
  },
  {
   "cell_type": "code",
   "execution_count": 68,
   "metadata": {},
   "outputs": [
    {
     "name": "stdout",
     "output_type": "stream",
     "text": [
      "40 patients in total\n",
      "20 patients with RRMS\n",
      "9 patients with OIND\n",
      "11 patients with NIND\n"
     ]
    }
   ],
   "source": [
    "print(len(df), \"patients in total\")\n",
    "print(sum(df['ms_type'] == \"RRMS\"), \"patients with RRMS\")\n",
    "print(sum(df['ms_type'] == \"OIND\"), \"patients with OIND\")\n",
    "print(sum(df['ms_type'] == \"NIND\"), \"patients with NIND\")"
   ]
  },
  {
   "cell_type": "code",
   "execution_count": 69,
   "metadata": {},
   "outputs": [
    {
     "name": "stdout",
     "output_type": "stream",
     "text": [
      "Proportion of female subjects: 0.90\n",
      "Average age at scan: 50.08\n"
     ]
    }
   ],
   "source": [
    "print(\"Proportion of female subjects: {:0.2f}\".format(sum(df['sex'] == \"Female\") / len(df)) )\n",
    "print(\"Average age at scan: {:0.2f}\".format(df['age'].mean()))"
   ]
  },
  {
   "cell_type": "code",
   "execution_count": 70,
   "metadata": {},
   "outputs": [
    {
     "name": "stdout",
     "output_type": "stream",
     "text": [
      "Fraction of female RRMS patients: 0.90\n",
      "Average age of RRMS patient: 49.58\n",
      "\n",
      "\n",
      "Fraction of female OIND patients: 0.89\n",
      "Average age of OIND patient: 49.68\n",
      "\n",
      "\n",
      "Fraction of female NIND patients: 0.91\n",
      "Average age of NIND patient: 51.34\n"
     ]
    }
   ],
   "source": [
    "df_rrms = df.loc[df[\"ms_type\"] == \"RRMS\"]\n",
    "print(\"Fraction of female RRMS patients: {:0.2f}\".format(sum(df_rrms['sex'] == \"Female\") / len(df_rrms)))\n",
    "print(\"Average age of RRMS patient: {:0.2f}\".format(df_rrms['age'].mean()))\n",
    "print(\"\\n\")\n",
    "\n",
    "df_oind = df.loc[df[\"ms_type\"] == \"OIND\"]\n",
    "print(\"Fraction of female OIND patients: {:0.2f}\".format(sum(df_oind['sex'] == \"Female\") / len(df_oind)))\n",
    "print(\"Average age of OIND patient: {:0.2f}\".format(df_oind['age'].mean()))\n",
    "print(\"\\n\")\n",
    "\n",
    "df_nind = df.loc[df[\"ms_type\"] == \"NIND\"]\n",
    "print(\"Fraction of female NIND patients: {:0.2f}\".format(sum(df_nind['sex'] == \"Female\") / len(df_nind)))\n",
    "print(\"Average age of NIND patient: {:0.2f}\".format(df_nind['age'].mean()))"
   ]
  },
  {
   "cell_type": "markdown",
   "metadata": {},
   "source": [
    "#### Volumes"
   ]
  },
  {
   "cell_type": "code",
   "execution_count": 72,
   "metadata": {},
   "outputs": [
    {
     "name": "stdout",
     "output_type": "stream",
     "text": [
      "Mean choroid volumes:\n",
      "RRMS: 2049.62\n",
      "OIND: 1957.32\n",
      "NIND: 1873.22\n",
      "\n",
      "\n",
      "Mean pineal volumes:\n",
      "RRMS: 221.39\n",
      "OIND: 214.76\n",
      "NIND: 506.09\n",
      "\n",
      "\n",
      "Mean pituitary volumes:\n",
      "RRMS: 758.37\n",
      "OIND: 676.86\n",
      "NIND: 612.96\n"
     ]
    }
   ],
   "source": [
    "# choroid\n",
    "print(\"Mean choroid volumes:\")\n",
    "print(\"RRMS: {:0.2f}\".format(df_rrms['choroid_volume'].mean()))\n",
    "print(\"OIND: {:0.2f}\".format(df_oind['choroid_volume'].mean()))\n",
    "print(\"NIND: {:0.2f}\".format(df_nind['choroid_volume'].mean()))\n",
    "print(\"\\n\")\n",
    "\n",
    "# pineal\n",
    "print(\"Mean pineal volumes:\")\n",
    "print(\"RRMS: {:0.2f}\".format(df_rrms['pineal_volume'].mean()))\n",
    "print(\"OIND: {:0.2f}\".format(df_oind['pineal_volume'].mean()))\n",
    "print(\"NIND: {:0.2f}\".format(df_nind['pineal_volume'].mean()))\n",
    "print(\"\\n\")\n",
    "\n",
    "# pituitary\n",
    "print(\"Mean pituitary volumes:\")\n",
    "print(\"RRMS: {:0.2f}\".format(df_rrms['pituitary_volume'].mean()))\n",
    "print(\"OIND: {:0.2f}\".format(df_oind['pituitary_volume'].mean()))\n",
    "print(\"NIND: {:0.2f}\".format(df_nind['pituitary_volume'].mean()))"
   ]
  },
  {
   "cell_type": "markdown",
   "metadata": {},
   "source": [
    "### Regression Models\n",
    "\n",
    "Looking at how volume of ROI predicts ms_type"
   ]
  },
  {
   "cell_type": "markdown",
   "metadata": {},
   "source": [
    "#### Pituitary Volume"
   ]
  },
  {
   "cell_type": "code",
   "execution_count": 74,
   "metadata": {},
   "outputs": [
    {
     "name": "stderr",
     "output_type": "stream",
     "text": [
      "/tmp/ipykernel_23371/415658882.py:3: SettingWithCopyWarning: \n",
      "A value is trying to be set on a copy of a slice from a DataFrame.\n",
      "Try using .loc[row_indexer,col_indexer] = value instead\n",
      "\n",
      "See the caveats in the documentation: https://pandas.pydata.org/pandas-docs/stable/user_guide/indexing.html#returning-a-view-versus-a-copy\n",
      "  df['sex_factor'], _ = df['sex'].factorize()\n",
      "/home/srs-9/.virtualenvs/monai/lib/python3.12/site-packages/statsmodels/miscmodels/ordinal_model.py:205: Warning: the endog has ordered == False, risk of capturing a wrong order for the categories. ordered == True preferred.\n",
      "  warnings.warn(\"the endog has ordered == False, \"\n"
     ]
    },
    {
     "ename": "ValueError",
     "evalue": "Pandas data cast to numpy dtype of object. Check input data with np.asarray(data).",
     "output_type": "error",
     "traceback": [
      "\u001b[0;31m---------------------------------------------------------------------------\u001b[0m",
      "\u001b[0;31mValueError\u001b[0m                                Traceback (most recent call last)",
      "Cell \u001b[0;32mIn[74], line 10\u001b[0m\n\u001b[1;32m      7\u001b[0m x \u001b[38;5;241m=\u001b[39m df[predictors]\n\u001b[1;32m      8\u001b[0m Y \u001b[38;5;241m=\u001b[39m df[outcome]\n\u001b[0;32m---> 10\u001b[0m mod_prob \u001b[38;5;241m=\u001b[39m \u001b[43mOrderedModel\u001b[49m\u001b[43m(\u001b[49m\u001b[43mY\u001b[49m\u001b[43m,\u001b[49m\u001b[43m \u001b[49m\u001b[43mx\u001b[49m\u001b[43m,\u001b[49m\u001b[43m \u001b[49m\u001b[43mdistr\u001b[49m\u001b[38;5;241;43m=\u001b[39;49m\u001b[38;5;124;43m'\u001b[39;49m\u001b[38;5;124;43mprobit\u001b[39;49m\u001b[38;5;124;43m'\u001b[39;49m\u001b[43m)\u001b[49m\n\u001b[1;32m     11\u001b[0m res_prob \u001b[38;5;241m=\u001b[39m mod_prob\u001b[38;5;241m.\u001b[39mfit(method\u001b[38;5;241m=\u001b[39m\u001b[38;5;124m'\u001b[39m\u001b[38;5;124mbfgs\u001b[39m\u001b[38;5;124m'\u001b[39m)\n\u001b[1;32m     12\u001b[0m res_prob\u001b[38;5;241m.\u001b[39msummary()\n",
      "File \u001b[0;32m~/.virtualenvs/monai/lib/python3.12/site-packages/statsmodels/miscmodels/ordinal_model.py:132\u001b[0m, in \u001b[0;36mOrderedModel.__init__\u001b[0;34m(self, endog, exog, offset, distr, **kwds)\u001b[0m\n\u001b[1;32m    128\u001b[0m \u001b[38;5;28mself\u001b[39m\u001b[38;5;241m.\u001b[39moffset \u001b[38;5;241m=\u001b[39m offset\n\u001b[1;32m    130\u001b[0m endog, labels, is_pandas \u001b[38;5;241m=\u001b[39m \u001b[38;5;28mself\u001b[39m\u001b[38;5;241m.\u001b[39m_check_inputs(endog, exog)\n\u001b[0;32m--> 132\u001b[0m \u001b[38;5;28;43msuper\u001b[39;49m\u001b[43m(\u001b[49m\u001b[43m)\u001b[49m\u001b[38;5;241;43m.\u001b[39;49m\u001b[38;5;21;43m__init__\u001b[39;49m\u001b[43m(\u001b[49m\u001b[43mendog\u001b[49m\u001b[43m,\u001b[49m\u001b[43m \u001b[49m\u001b[43mexog\u001b[49m\u001b[43m,\u001b[49m\u001b[43m \u001b[49m\u001b[38;5;241;43m*\u001b[39;49m\u001b[38;5;241;43m*\u001b[39;49m\u001b[43mkwds\u001b[49m\u001b[43m)\u001b[49m\n\u001b[1;32m    133\u001b[0m k_levels \u001b[38;5;241m=\u001b[39m \u001b[38;5;28;01mNone\u001b[39;00m  \u001b[38;5;66;03m# initialize\u001b[39;00m\n\u001b[1;32m    134\u001b[0m \u001b[38;5;28;01mif\u001b[39;00m \u001b[38;5;129;01mnot\u001b[39;00m is_pandas:\n",
      "File \u001b[0;32m~/.virtualenvs/monai/lib/python3.12/site-packages/statsmodels/base/model.py:841\u001b[0m, in \u001b[0;36mGenericLikelihoodModel.__init__\u001b[0;34m(self, endog, exog, loglike, score, hessian, missing, extra_params_names, **kwds)\u001b[0m\n\u001b[1;32m    834\u001b[0m \u001b[38;5;28mself\u001b[39m\u001b[38;5;241m.\u001b[39m\u001b[38;5;18m__dict__\u001b[39m\u001b[38;5;241m.\u001b[39mupdate(kwds)\n\u001b[1;32m    836\u001b[0m \u001b[38;5;66;03m# TODO: data structures?\u001b[39;00m\n\u001b[1;32m    837\u001b[0m \n\u001b[1;32m    838\u001b[0m \u001b[38;5;66;03m# TODO temporary solution, force approx normal\u001b[39;00m\n\u001b[1;32m    839\u001b[0m \u001b[38;5;66;03m# self.df_model = 9999\u001b[39;00m\n\u001b[1;32m    840\u001b[0m \u001b[38;5;66;03m# somewhere: CacheWriteWarning: 'df_model' cannot be overwritten\u001b[39;00m\n\u001b[0;32m--> 841\u001b[0m \u001b[38;5;28;43msuper\u001b[39;49m\u001b[43m(\u001b[49m\u001b[43m)\u001b[49m\u001b[38;5;241;43m.\u001b[39;49m\u001b[38;5;21;43m__init__\u001b[39;49m\u001b[43m(\u001b[49m\n\u001b[1;32m    842\u001b[0m \u001b[43m    \u001b[49m\u001b[43mendog\u001b[49m\u001b[43m,\u001b[49m\u001b[43m \u001b[49m\u001b[43mexog\u001b[49m\u001b[43m,\u001b[49m\u001b[43m \u001b[49m\u001b[43mmissing\u001b[49m\u001b[38;5;241;43m=\u001b[39;49m\u001b[43mmissing\u001b[49m\u001b[43m,\u001b[49m\u001b[43m \u001b[49m\u001b[43mhasconst\u001b[49m\u001b[38;5;241;43m=\u001b[39;49m\u001b[43mhasconst\u001b[49m\u001b[43m,\u001b[49m\u001b[43m \u001b[49m\u001b[38;5;241;43m*\u001b[39;49m\u001b[38;5;241;43m*\u001b[39;49m\u001b[43mkwds\u001b[49m\n\u001b[1;32m    843\u001b[0m \u001b[43m\u001b[49m\u001b[43m)\u001b[49m\n\u001b[1;32m    845\u001b[0m \u001b[38;5;66;03m# this will not work for ru2nmnl, maybe np.ndim of a dict?\u001b[39;00m\n\u001b[1;32m    846\u001b[0m \u001b[38;5;28;01mif\u001b[39;00m exog \u001b[38;5;129;01mis\u001b[39;00m \u001b[38;5;129;01mnot\u001b[39;00m \u001b[38;5;28;01mNone\u001b[39;00m:\n",
      "File \u001b[0;32m~/.virtualenvs/monai/lib/python3.12/site-packages/statsmodels/base/model.py:270\u001b[0m, in \u001b[0;36mLikelihoodModel.__init__\u001b[0;34m(self, endog, exog, **kwargs)\u001b[0m\n\u001b[1;32m    269\u001b[0m \u001b[38;5;28;01mdef\u001b[39;00m \u001b[38;5;21m__init__\u001b[39m(\u001b[38;5;28mself\u001b[39m, endog, exog\u001b[38;5;241m=\u001b[39m\u001b[38;5;28;01mNone\u001b[39;00m, \u001b[38;5;241m*\u001b[39m\u001b[38;5;241m*\u001b[39mkwargs):\n\u001b[0;32m--> 270\u001b[0m     \u001b[38;5;28;43msuper\u001b[39;49m\u001b[43m(\u001b[49m\u001b[43m)\u001b[49m\u001b[38;5;241;43m.\u001b[39;49m\u001b[38;5;21;43m__init__\u001b[39;49m\u001b[43m(\u001b[49m\u001b[43mendog\u001b[49m\u001b[43m,\u001b[49m\u001b[43m \u001b[49m\u001b[43mexog\u001b[49m\u001b[43m,\u001b[49m\u001b[43m \u001b[49m\u001b[38;5;241;43m*\u001b[39;49m\u001b[38;5;241;43m*\u001b[39;49m\u001b[43mkwargs\u001b[49m\u001b[43m)\u001b[49m\n\u001b[1;32m    271\u001b[0m     \u001b[38;5;28mself\u001b[39m\u001b[38;5;241m.\u001b[39minitialize()\n",
      "File \u001b[0;32m~/.virtualenvs/monai/lib/python3.12/site-packages/statsmodels/base/model.py:95\u001b[0m, in \u001b[0;36mModel.__init__\u001b[0;34m(self, endog, exog, **kwargs)\u001b[0m\n\u001b[1;32m     93\u001b[0m missing \u001b[38;5;241m=\u001b[39m kwargs\u001b[38;5;241m.\u001b[39mpop(\u001b[38;5;124m'\u001b[39m\u001b[38;5;124mmissing\u001b[39m\u001b[38;5;124m'\u001b[39m, \u001b[38;5;124m'\u001b[39m\u001b[38;5;124mnone\u001b[39m\u001b[38;5;124m'\u001b[39m)\n\u001b[1;32m     94\u001b[0m hasconst \u001b[38;5;241m=\u001b[39m kwargs\u001b[38;5;241m.\u001b[39mpop(\u001b[38;5;124m'\u001b[39m\u001b[38;5;124mhasconst\u001b[39m\u001b[38;5;124m'\u001b[39m, \u001b[38;5;28;01mNone\u001b[39;00m)\n\u001b[0;32m---> 95\u001b[0m \u001b[38;5;28mself\u001b[39m\u001b[38;5;241m.\u001b[39mdata \u001b[38;5;241m=\u001b[39m \u001b[38;5;28;43mself\u001b[39;49m\u001b[38;5;241;43m.\u001b[39;49m\u001b[43m_handle_data\u001b[49m\u001b[43m(\u001b[49m\u001b[43mendog\u001b[49m\u001b[43m,\u001b[49m\u001b[43m \u001b[49m\u001b[43mexog\u001b[49m\u001b[43m,\u001b[49m\u001b[43m \u001b[49m\u001b[43mmissing\u001b[49m\u001b[43m,\u001b[49m\u001b[43m \u001b[49m\u001b[43mhasconst\u001b[49m\u001b[43m,\u001b[49m\n\u001b[1;32m     96\u001b[0m \u001b[43m                              \u001b[49m\u001b[38;5;241;43m*\u001b[39;49m\u001b[38;5;241;43m*\u001b[39;49m\u001b[43mkwargs\u001b[49m\u001b[43m)\u001b[49m\n\u001b[1;32m     97\u001b[0m \u001b[38;5;28mself\u001b[39m\u001b[38;5;241m.\u001b[39mk_constant \u001b[38;5;241m=\u001b[39m \u001b[38;5;28mself\u001b[39m\u001b[38;5;241m.\u001b[39mdata\u001b[38;5;241m.\u001b[39mk_constant\n\u001b[1;32m     98\u001b[0m \u001b[38;5;28mself\u001b[39m\u001b[38;5;241m.\u001b[39mexog \u001b[38;5;241m=\u001b[39m \u001b[38;5;28mself\u001b[39m\u001b[38;5;241m.\u001b[39mdata\u001b[38;5;241m.\u001b[39mexog\n",
      "File \u001b[0;32m~/.virtualenvs/monai/lib/python3.12/site-packages/statsmodels/base/model.py:135\u001b[0m, in \u001b[0;36mModel._handle_data\u001b[0;34m(self, endog, exog, missing, hasconst, **kwargs)\u001b[0m\n\u001b[1;32m    134\u001b[0m \u001b[38;5;28;01mdef\u001b[39;00m \u001b[38;5;21m_handle_data\u001b[39m(\u001b[38;5;28mself\u001b[39m, endog, exog, missing, hasconst, \u001b[38;5;241m*\u001b[39m\u001b[38;5;241m*\u001b[39mkwargs):\n\u001b[0;32m--> 135\u001b[0m     data \u001b[38;5;241m=\u001b[39m \u001b[43mhandle_data\u001b[49m\u001b[43m(\u001b[49m\u001b[43mendog\u001b[49m\u001b[43m,\u001b[49m\u001b[43m \u001b[49m\u001b[43mexog\u001b[49m\u001b[43m,\u001b[49m\u001b[43m \u001b[49m\u001b[43mmissing\u001b[49m\u001b[43m,\u001b[49m\u001b[43m \u001b[49m\u001b[43mhasconst\u001b[49m\u001b[43m,\u001b[49m\u001b[43m \u001b[49m\u001b[38;5;241;43m*\u001b[39;49m\u001b[38;5;241;43m*\u001b[39;49m\u001b[43mkwargs\u001b[49m\u001b[43m)\u001b[49m\n\u001b[1;32m    136\u001b[0m     \u001b[38;5;66;03m# kwargs arrays could have changed, easier to just attach here\u001b[39;00m\n\u001b[1;32m    137\u001b[0m     \u001b[38;5;28;01mfor\u001b[39;00m key \u001b[38;5;129;01min\u001b[39;00m kwargs:\n",
      "File \u001b[0;32m~/.virtualenvs/monai/lib/python3.12/site-packages/statsmodels/base/data.py:675\u001b[0m, in \u001b[0;36mhandle_data\u001b[0;34m(endog, exog, missing, hasconst, **kwargs)\u001b[0m\n\u001b[1;32m    672\u001b[0m     exog \u001b[38;5;241m=\u001b[39m np\u001b[38;5;241m.\u001b[39masarray(exog)\n\u001b[1;32m    674\u001b[0m klass \u001b[38;5;241m=\u001b[39m handle_data_class_factory(endog, exog)\n\u001b[0;32m--> 675\u001b[0m \u001b[38;5;28;01mreturn\u001b[39;00m \u001b[43mklass\u001b[49m\u001b[43m(\u001b[49m\u001b[43mendog\u001b[49m\u001b[43m,\u001b[49m\u001b[43m \u001b[49m\u001b[43mexog\u001b[49m\u001b[38;5;241;43m=\u001b[39;49m\u001b[43mexog\u001b[49m\u001b[43m,\u001b[49m\u001b[43m \u001b[49m\u001b[43mmissing\u001b[49m\u001b[38;5;241;43m=\u001b[39;49m\u001b[43mmissing\u001b[49m\u001b[43m,\u001b[49m\u001b[43m \u001b[49m\u001b[43mhasconst\u001b[49m\u001b[38;5;241;43m=\u001b[39;49m\u001b[43mhasconst\u001b[49m\u001b[43m,\u001b[49m\n\u001b[1;32m    676\u001b[0m \u001b[43m             \u001b[49m\u001b[38;5;241;43m*\u001b[39;49m\u001b[38;5;241;43m*\u001b[39;49m\u001b[43mkwargs\u001b[49m\u001b[43m)\u001b[49m\n",
      "File \u001b[0;32m~/.virtualenvs/monai/lib/python3.12/site-packages/statsmodels/base/data.py:84\u001b[0m, in \u001b[0;36mModelData.__init__\u001b[0;34m(self, endog, exog, missing, hasconst, **kwargs)\u001b[0m\n\u001b[1;32m     82\u001b[0m     \u001b[38;5;28mself\u001b[39m\u001b[38;5;241m.\u001b[39morig_endog \u001b[38;5;241m=\u001b[39m endog\n\u001b[1;32m     83\u001b[0m     \u001b[38;5;28mself\u001b[39m\u001b[38;5;241m.\u001b[39morig_exog \u001b[38;5;241m=\u001b[39m exog\n\u001b[0;32m---> 84\u001b[0m     \u001b[38;5;28mself\u001b[39m\u001b[38;5;241m.\u001b[39mendog, \u001b[38;5;28mself\u001b[39m\u001b[38;5;241m.\u001b[39mexog \u001b[38;5;241m=\u001b[39m \u001b[38;5;28;43mself\u001b[39;49m\u001b[38;5;241;43m.\u001b[39;49m\u001b[43m_convert_endog_exog\u001b[49m\u001b[43m(\u001b[49m\u001b[43mendog\u001b[49m\u001b[43m,\u001b[49m\u001b[43m \u001b[49m\u001b[43mexog\u001b[49m\u001b[43m)\u001b[49m\n\u001b[1;32m     86\u001b[0m \u001b[38;5;28mself\u001b[39m\u001b[38;5;241m.\u001b[39mconst_idx \u001b[38;5;241m=\u001b[39m \u001b[38;5;28;01mNone\u001b[39;00m\n\u001b[1;32m     87\u001b[0m \u001b[38;5;28mself\u001b[39m\u001b[38;5;241m.\u001b[39mk_constant \u001b[38;5;241m=\u001b[39m \u001b[38;5;241m0\u001b[39m\n",
      "File \u001b[0;32m~/.virtualenvs/monai/lib/python3.12/site-packages/statsmodels/base/data.py:509\u001b[0m, in \u001b[0;36mPandasData._convert_endog_exog\u001b[0;34m(self, endog, exog)\u001b[0m\n\u001b[1;32m    507\u001b[0m exog \u001b[38;5;241m=\u001b[39m exog \u001b[38;5;28;01mif\u001b[39;00m exog \u001b[38;5;129;01mis\u001b[39;00m \u001b[38;5;28;01mNone\u001b[39;00m \u001b[38;5;28;01melse\u001b[39;00m np\u001b[38;5;241m.\u001b[39masarray(exog)\n\u001b[1;32m    508\u001b[0m \u001b[38;5;28;01mif\u001b[39;00m endog\u001b[38;5;241m.\u001b[39mdtype \u001b[38;5;241m==\u001b[39m \u001b[38;5;28mobject\u001b[39m \u001b[38;5;129;01mor\u001b[39;00m exog \u001b[38;5;129;01mis\u001b[39;00m \u001b[38;5;129;01mnot\u001b[39;00m \u001b[38;5;28;01mNone\u001b[39;00m \u001b[38;5;129;01mand\u001b[39;00m exog\u001b[38;5;241m.\u001b[39mdtype \u001b[38;5;241m==\u001b[39m \u001b[38;5;28mobject\u001b[39m:\n\u001b[0;32m--> 509\u001b[0m     \u001b[38;5;28;01mraise\u001b[39;00m \u001b[38;5;167;01mValueError\u001b[39;00m(\u001b[38;5;124m\"\u001b[39m\u001b[38;5;124mPandas data cast to numpy dtype of object. \u001b[39m\u001b[38;5;124m\"\u001b[39m\n\u001b[1;32m    510\u001b[0m                      \u001b[38;5;124m\"\u001b[39m\u001b[38;5;124mCheck input data with np.asarray(data).\u001b[39m\u001b[38;5;124m\"\u001b[39m)\n\u001b[1;32m    511\u001b[0m \u001b[38;5;28;01mreturn\u001b[39;00m \u001b[38;5;28msuper\u001b[39m()\u001b[38;5;241m.\u001b[39m_convert_endog_exog(endog, exog)\n",
      "\u001b[0;31mValueError\u001b[0m: Pandas data cast to numpy dtype of object. Check input data with np.asarray(data)."
     ]
    }
   ],
   "source": [
    "from statsmodels.miscmodels.ordinal_model import OrderedModel\n",
    "\n",
    "df['sex_factor'], _ = df['sex'].factorize()\n",
    "predictors = [\"age\", \"brain\", \"sex_factor\", \"pituitary_volume\"]\n",
    "outcome = \"ms_type\"\n",
    "\n",
    "x = df[predictors]\n",
    "Y = df[outcome]\n",
    "\n",
    "mod_prob = OrderedModel(Y, x, distr='probit')\n",
    "res_prob = mod_prob.fit(method='bfgs')\n",
    "res_prob.summary()\n"
   ]
  },
  {
   "cell_type": "markdown",
   "metadata": {},
   "source": [
    "#### statsmodels usage\n",
    "\n",
    "- `statsmodels.regression.linear_model.OLS`\n",
    "- `statsmodels.discrete.discrete_model.Logit`\n",
    "- `statsmodels.discrete.discrete_model.Probit`\n",
    "- `statsmodels.miscmodels.ordinal_model.OrderedModel`\n",
    "\n",
    "Why is OrderedModel not available under `statsmodels.api` unlike all the others? Also, OrderedModel isn't available under `statsmodels.miscmodels.api` either"
   ]
  },
  {
   "cell_type": "code",
   "execution_count": null,
   "metadata": {},
   "outputs": [],
   "source": [
    "import statsmodels.api as sm\n",
    "from statsmodels.miscmodels.ordinal_model import OrderedModel\n",
    "\n",
    "spector_data = sm.datasets.spector.load()\n",
    "\n",
    "Y = spector_data.endog\n",
    "x = spector_data.exog\n",
    "\n",
    "# Linear regression\n",
    "mod = sm.OLS(Y, x)\n",
    "\n",
    "# Regression with discrete dependent variable\n",
    "logit_mod = sm.Logit(Y, x)\n",
    "probit_mod = sm.Probit(Y, x)\n",
    "\n",
    "\n",
    "# Ordinal regression\n",
    "mod = OrderedModel(Y, x, distr='probit')"
   ]
  },
  {
   "cell_type": "markdown",
   "metadata": {},
   "source": [
    "Linear regression predicting pituitary size"
   ]
  },
  {
   "cell_type": "code",
   "execution_count": 95,
   "metadata": {},
   "outputs": [
    {
     "name": "stdout",
     "output_type": "stream",
     "text": [
      "                                 OLS Regression Results                                \n",
      "=======================================================================================\n",
      "Dep. Variable:                      y   R-squared (uncentered):                   0.934\n",
      "Model:                            OLS   Adj. R-squared (uncentered):              0.927\n",
      "Method:                 Least Squares   F-statistic:                              128.4\n",
      "Date:                Mon, 16 Dec 2024   Prob (F-statistic):                    8.81e-21\n",
      "Time:                        15:48:58   Log-Likelihood:                         -307.75\n",
      "No. Observations:                  40   AIC:                                      623.5\n",
      "Df Residuals:                      36   BIC:                                      630.3\n",
      "Df Model:                           4                                                  \n",
      "Covariance Type:            nonrobust                                                  \n",
      "==============================================================================\n",
      "                 coef    std err          t      P>|t|      [0.025      0.975]\n",
      "------------------------------------------------------------------------------\n",
      "x1            28.9387      6.309      4.587      0.000      16.143      41.735\n",
      "x2             0.3734      0.235      1.592      0.120      -0.102       0.849\n",
      "x3           376.2833    296.787      1.268      0.213    -225.629     978.195\n",
      "x4           -57.2279    109.782     -0.521      0.605    -279.876     165.421\n",
      "==============================================================================\n",
      "Omnibus:                        5.897   Durbin-Watson:                   1.383\n",
      "Prob(Omnibus):                  0.052   Jarque-Bera (JB):                2.075\n",
      "Skew:                           0.068   Prob(JB):                        0.354\n",
      "Kurtosis:                       1.892   Cond. No.                     4.71e+03\n",
      "==============================================================================\n",
      "\n",
      "Notes:\n",
      "[1] R² is computed without centering (uncentered) since the model does not contain a constant.\n",
      "[2] Standard Errors assume that the covariance matrix of the errors is correctly specified.\n",
      "[3] The condition number is large, 4.71e+03. This might indicate that there are\n",
      "strong multicollinearity or other numerical problems.\n"
     ]
    }
   ],
   "source": [
    "import statsmodels.api as sm\n",
    "import numpy as np\n",
    "\n",
    "df.loc[:, 'sex_factor'], _ = df['sex'].factorize()\n",
    "df.loc[:, 'ms_type_factor'], _ = df['ms_type'].factorize()\n",
    "predictors = [\"age\", \"brain\", \"sex_factor\", \"ms_type_factor\"]\n",
    "outcome = \"choroid_volume\"\n",
    "\n",
    "x = np.asarray(df[predictors]).astype(np.float64)\n",
    "Y = np.asarray(df[outcome]).astype(np.float64)\n",
    "\n",
    "mod = sm.OLS(Y, x, missing='drop')\n",
    "\n",
    "res = mod.fit()\n",
    "\n",
    "print(res.summary())"
   ]
  },
  {
   "cell_type": "code",
   "execution_count": 87,
   "metadata": {},
   "outputs": [
    {
     "data": {
      "text/plain": [
       "array([[20.13360346, 1358.530863, 0, 0],\n",
       "       [28.88079724, 1478.087146, 0, 0],\n",
       "       [66.4704594, 1291.408057, 0, 0],\n",
       "       [67.39582763, 1286.249435, 0, 1],\n",
       "       [48.94321853, 1474.258463, 0, 0],\n",
       "       [58.76362043, 1442.115777, 0, 0],\n",
       "       [75.8610305, 1206.354359, 0, 0],\n",
       "       [47.24305974, 1321.368209, 0, 0],\n",
       "       [59.01823359, 1347.157896, 0, 0],\n",
       "       [35.78820566, 1598.615826, 0, 0],\n",
       "       [56.38175546, 1382.525872, 0, 0],\n",
       "       [38.74226578, 1498.903488, 0, 0],\n",
       "       [60.59793024, 1404.76219, 1, 0],\n",
       "       [59.4590155, 1285.548297, 0, 0],\n",
       "       [65.29595357, 1431.563638, 0, 0],\n",
       "       [61.96408038, 1371.028524, 1, 2],\n",
       "       [37.48015113, 1506.950728, 0, 0],\n",
       "       [72.34846411, 1284.763022, 0, 2],\n",
       "       [42.35065433, 1448.020589, 0, 0],\n",
       "       [40.0208071, 1365.799575, 0, 0],\n",
       "       [58.3036741, 1292.553651, 1, 0],\n",
       "       [37.07222253, 1470.796433, 0, 0],\n",
       "       [46.06855391, 1535.215347, 0, 1],\n",
       "       [54.71444998, 1291.236497, 0, 0],\n",
       "       [35.52537918, 1464.54298, 1, 1],\n",
       "       [57.81635, 1548.063048, 0, 1],\n",
       "       [55.6754093, 1381.279583, 0, 1],\n",
       "       [62.25428462, 1411.310786, 0, 1],\n",
       "       [44.94332804, 1350.970801, 0, 2],\n",
       "       [49.14855172, 1330.027705, 0, 2],\n",
       "       [40.66144664, 1445.601075, 0, 2],\n",
       "       [39.01604337, 1403.881624, 0, 1],\n",
       "       [60.49937031, 1378.276434, 0, 1],\n",
       "       [58.73076712, 1526.470846, 0, 2],\n",
       "       [41.79214806, 1449.913469, 0, 1],\n",
       "       [28.44549088, 1246.70445, 0, 2],\n",
       "       [46.39708701, 1446.723868, 0, 1],\n",
       "       [52.30520725, 1406.295567, 0, 1],\n",
       "       [51.51399003, 1423.435908, 0, 2],\n",
       "       [39.34183869, 1490.668214, 0, 2]], dtype=object)"
      ]
     },
     "execution_count": 87,
     "metadata": {},
     "output_type": "execute_result"
    }
   ],
   "source": [
    "x"
   ]
  },
  {
   "cell_type": "code",
   "execution_count": 23,
   "metadata": {},
   "outputs": [
    {
     "data": {
      "text/plain": [
       "array([[2.01336035e+01, 1.26161339e+03, 0.00000000e+00, 0.00000000e+00],\n",
       "       [2.88807972e+01, 1.45832702e+03, 0.00000000e+00, 0.00000000e+00],\n",
       "       [6.64704594e+01, 1.35252909e+03, 0.00000000e+00, 0.00000000e+00],\n",
       "       [4.89432185e+01, 1.43492793e+03, 0.00000000e+00, 0.00000000e+00],\n",
       "       [5.90182336e+01, 1.34423632e+03, 0.00000000e+00, 0.00000000e+00],\n",
       "       [3.57882057e+01, 1.82958525e+03, 0.00000000e+00, 0.00000000e+00],\n",
       "       [5.94590155e+01, 1.35972546e+03, 0.00000000e+00, 0.00000000e+00],\n",
       "       [           nan, 1.41245473e+03, 0.00000000e+00, 0.00000000e+00],\n",
       "       [4.23178010e+01, 1.37809810e+03, 0.00000000e+00, 0.00000000e+00],\n",
       "       [6.19640804e+01, 1.59898444e+03, 1.00000000e+00, 1.00000000e+00],\n",
       "       [3.74801511e+01, 1.49433394e+03, 0.00000000e+00, 0.00000000e+00],\n",
       "       [7.23484641e+01, 1.26129874e+03, 0.00000000e+00, 1.00000000e+00],\n",
       "       [4.23506543e+01, 1.40538667e+03, 0.00000000e+00, 0.00000000e+00],\n",
       "       [4.00208071e+01, 1.40781802e+03, 0.00000000e+00, 0.00000000e+00],\n",
       "       [5.83036741e+01, 1.57500795e+03, 1.00000000e+00, 0.00000000e+00],\n",
       "       [3.70722225e+01, 1.46062982e+03, 0.00000000e+00, 0.00000000e+00],\n",
       "       [4.60685539e+01, 1.38494214e+03, 0.00000000e+00, 2.00000000e+00],\n",
       "       [5.47144500e+01, 1.35310876e+03, 0.00000000e+00, 0.00000000e+00],\n",
       "       [3.55253792e+01, 1.67804084e+03, 1.00000000e+00, 2.00000000e+00],\n",
       "       [5.78163500e+01, 1.41754500e+03, 0.00000000e+00, 2.00000000e+00],\n",
       "       [5.56754093e+01, 1.60428189e+03, 0.00000000e+00, 2.00000000e+00],\n",
       "       [6.22542846e+01, 1.23319894e+03, 0.00000000e+00, 2.00000000e+00],\n",
       "       [4.49433280e+01, 1.28357682e+03, 0.00000000e+00, 1.00000000e+00],\n",
       "       [4.91485517e+01, 1.20182361e+03, 0.00000000e+00, 1.00000000e+00],\n",
       "       [4.06614466e+01, 1.29043828e+03, 0.00000000e+00, 1.00000000e+00],\n",
       "       [3.90160434e+01, 1.46666071e+03, 0.00000000e+00, 2.00000000e+00],\n",
       "       [6.04993703e+01, 1.18340640e+03, 0.00000000e+00, 2.00000000e+00],\n",
       "       [5.87307671e+01, 1.38171105e+03, 0.00000000e+00, 1.00000000e+00],\n",
       "       [4.17921481e+01, 1.32765384e+03, 0.00000000e+00, 2.00000000e+00],\n",
       "       [2.42840716e+01, 1.37262829e+03, 0.00000000e+00, 2.00000000e+00],\n",
       "       [3.64096808e+01, 1.77813938e+03, 0.00000000e+00, 2.00000000e+00],\n",
       "       [2.84454909e+01, 1.32082503e+03, 0.00000000e+00, 1.00000000e+00],\n",
       "       [4.63970870e+01, 1.34345949e+03, 0.00000000e+00, 2.00000000e+00],\n",
       "       [5.23052072e+01, 1.39475453e+03, 0.00000000e+00, 2.00000000e+00],\n",
       "       [5.15139900e+01, 1.16987952e+03, 0.00000000e+00, 1.00000000e+00],\n",
       "       [3.93418387e+01, 1.38359759e+03, 0.00000000e+00, 1.00000000e+00]])"
      ]
     },
     "execution_count": 23,
     "metadata": {},
     "output_type": "execute_result"
    }
   ],
   "source": [
    "import numpy as np \n",
    "np.asarray(x)"
   ]
  },
  {
   "cell_type": "code",
   "execution_count": null,
   "metadata": {},
   "outputs": [],
   "source": [
    "spector_data = sm.datasets.spector.load()\n",
    "spector_data.exog = sm.add_constant(spector_data.exog, prepend=False)\n",
    "\n",
    "x1 = "
   ]
  }
 ],
 "metadata": {
  "kernelspec": {
   "display_name": "monai",
   "language": "python",
   "name": "python3"
  },
  "language_info": {
   "codemirror_mode": {
    "name": "ipython",
    "version": 3
   },
   "file_extension": ".py",
   "mimetype": "text/x-python",
   "name": "python",
   "nbconvert_exporter": "python",
   "pygments_lexer": "ipython3",
   "version": "3.12.4"
  }
 },
 "nbformat": 4,
 "nbformat_minor": 2
}
