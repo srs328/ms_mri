{
 "cells": [
  {
   "cell_type": "code",
   "execution_count": 4,
   "metadata": {},
   "outputs": [],
   "source": [
    "from scipy.stats import ranksums, mannwhitneyu"
   ]
  },
  {
   "cell_type": "markdown",
   "metadata": {},
   "source": [
    "### Choroid"
   ]
  },
  {
   "cell_type": "code",
   "execution_count": 8,
   "metadata": {},
   "outputs": [
    {
     "name": "stdout",
     "output_type": "stream",
     "text": [
      "Dice\n",
      "Statistic: 32.0\n",
      "P-value: 0.01767676767676768 \n",
      "\n",
      "IoU\n",
      "Statistic: 31.0\n",
      "P-value: 0.030303030303030304 \n",
      "\n",
      "Haus\n",
      "Statistic: 21.0\n",
      "P-value: 0.638888888888889\n"
     ]
    }
   ],
   "source": [
    "choroid_multi_dice = [0.7878903274942879, 0.7965367965367965, 0.7440123049879147, 0.7839931153184165, 0.8044126416219439]\n",
    "choroid_single_dice = [0.6844474079013169, 0.7526676222328397, 0.7243532560214094, 0.6282231598687295, 0.7828544512482336, 0.6735943588791984, 0.7819075712881023]\n",
    "\n",
    "# Perform the Wilcoxon rank sum test\n",
    "statistic, p_value = mannwhitneyu(choroid_multi_dice, choroid_single_dice)\n",
    "\n",
    "print(\"Dice\")\n",
    "print(\"Statistic:\", statistic)\n",
    "print(\"P-value:\", p_value, \"\\n\")\n",
    "\n",
    "choroid_multi_iou = [0.6500157084511468, 0.6618705035971223, 0.592372288313506, 0.6447275300778486, 0.6728179551122194]\n",
    "choroid_single_iou = [0.546950354609929, 0.6434086359736917, 0.5678321678321678, 0.5996022538945973, 0.628143392188336, 0.5078343592613318, 0.6419115272844689]\n",
    "\n",
    "# Perform the Wilcoxon rank sum test\n",
    "statistic, p_value = mannwhitneyu(choroid_multi_iou, choroid_single_iou)\n",
    "\n",
    "print(\"IoU\")\n",
    "print(\"Statistic:\", statistic)\n",
    "print(\"P-value:\", p_value, \"\\n\")\n",
    "\n",
    "choroid_multi_haus = [47.031904065219386, 4.123105625617661, 20.591260281974, 13.2664991614216, 94.87887014504336]\n",
    "choroid_single_haus = [5.196152422706632, 5.0, 13.0, 123.4908903522847, 6.164414002968976, 80.50465825031493, 6.708203932499369]\n",
    "\n",
    "# Perform the Wilcoxon rank sum test\n",
    "statistic, p_value = mannwhitneyu(choroid_multi_haus, choroid_single_haus)\n",
    "\n",
    "print(\"Haus\")\n",
    "print(\"Statistic:\", statistic)\n",
    "print(\"P-value:\", p_value)"
   ]
  },
  {
   "cell_type": "code",
   "execution_count": null,
   "metadata": {},
   "outputs": [
    {
     "name": "stdout",
     "output_type": "stream",
     "text": [
      "Dice\n",
      "Statistic: 40.0\n",
      "P-value: 0.001554001554001554 \n",
      "\n",
      "IoU\n",
      "Statistic: 40.0\n",
      "P-value: 0.001554001554001554 \n",
      "\n",
      "Hausdorff\n",
      "Statistic: 2.0\n",
      "P-value: 0.010309737991308444\n"
     ]
    }
   ],
   "source": [
    "pineal_multi_dice = [0.8352059925093633, 0.8642857142857143, 0.8839427662957074, 0.8253706754530478, 0.885478158205431]\n",
    "pineal_single_dice = [0.5701754385964912, 0.5442477876106194, 0.4939271255060729, 0.6403785488958991, 0.6455026455026455, 0.09895833333333333, 0.3076923076923077, 0.8205128205128205]\n",
    "\n",
    "# Perform the Wilcoxon rank sum test\n",
    "statistic, p_value = mannwhitneyu(pineal_multi_dice, pineal_single_dice)\n",
    "\n",
    "print(\"Dice\")\n",
    "print(\"Statistic:\", statistic)\n",
    "print(\"P-value:\", p_value, \"\\n\")\n",
    "\n",
    "pineal_multi_iou = [0.7170418006430869, 0.7610062893081762, 0.792022792022792, 0.7026647966339411, 0.7944915254237288]\n",
    "pineal_single_iou = [0.3987730061349693, 0.3738601823708207, 0.3279569892473118, 0.4709976798143852, 0.4765625, 0.052054794520547946, 0.18181818181818182, 0.6956521739130435]\n",
    "\n",
    "# Perform the Wilcoxon rank sum test\n",
    "statistic, p_value = mannwhitneyu(pineal_multi_iou, pineal_single_iou)\n",
    "\n",
    "print(\"IoU\")\n",
    "print(\"Statistic:\", statistic)\n",
    "print(\"P-value:\", p_value, \"\\n\")\n",
    "\n",
    "pineal_multi_haus = [2.449489742783178, 1.4142135623730951, 1.4142135623730951, 5.477225575051661, 1.0]\n",
    "pineal_single_haus = [136.31214179228496, 65.54387843269576, 3.7416573867739413, 3.605551275463989, 41.15823125451335, 117.06835610018618, 5.916079783099616, 78.12809993849844]\n",
    "\n",
    "# Perform the Wilcoxon rank sum test\n",
    "statistic, p_value = mannwhitneyu(pineal_multi_haus, pineal_single_haus)\n",
    "\n",
    "print(\"Hausdorff\")\n",
    "print(\"Statistic:\", statistic)\n",
    "print(\"P-value:\", p_value)"
   ]
  },
  {
   "cell_type": "markdown",
   "metadata": {},
   "source": [
    "### Pituitary"
   ]
  },
  {
   "cell_type": "code",
   "execution_count": 13,
   "metadata": {},
   "outputs": [
    {
     "name": "stdout",
     "output_type": "stream",
     "text": [
      "Dice\n",
      "Statistic: 43.0\n",
      "P-value: 0.3359010270774977 \n",
      "\n",
      "IoU\n",
      "Statistic: 43.0\n",
      "P-value: 0.3359010270774977 \n",
      "\n",
      "Hausdorff\n",
      "Statistic: 26.0\n",
      "P-value: 0.552789872062503\n"
     ]
    }
   ],
   "source": [
    "pituitary_multi_dice = [0.7785419532324622, 0.8917337234820776, 0.8895244905255631, 0.8349575605155611, 0.8089430894308943]\n",
    "pituitary_single_dice = [0.8340141106572596, 0.8498603351955307, 0.776134625191229, 0.7908337396392003, 0.7660343270099368, 0.9001782531194296, 0.8176100628930818, 0.803123983078425, 0.7672842295526434, 0.8004330566582462, 0.8885424785658612, 0.7830775611779345, 0.8453934361407671]\n",
    "\n",
    "# Perform the Wilcoxon rank sum test\n",
    "statistic, p_value = mannwhitneyu(pituitary_multi_dice, pituitary_single_dice)\n",
    "\n",
    "print(\"Dice\")\n",
    "print(\"Statistic:\", statistic)\n",
    "print(\"P-value:\", p_value, \"\\n\")\n",
    "\n",
    "pituitary_multi_iou = [0.6373873873873874, 0.8046204620462046, 0.8010302640051513, 0.7166756610901241, 0.6791808873720137]\n",
    "pituitary_single_iou = [0.7152866242038216, 0.7389192471159685, 0.6341666666666667, 0.6540322580645161, 0.6207906295754027, 0.8184764991896273, 0.6914893617021277, 0.6710168569874932, 0.6224340175953079, 0.6672683513838749, 0.7994389901823282, 0.643490115882754, 0.7321917808219178]\n",
    "\n",
    "# Perform the Wilcoxon rank sum test\n",
    "statistic, p_value = mannwhitneyu(pituitary_multi_iou, pituitary_single_iou)\n",
    "\n",
    "print(\"IoU\")\n",
    "print(\"Statistic:\", statistic)\n",
    "print(\"P-value:\", p_value, \"\\n\")\n",
    "\n",
    "pituitary_multi_haus = [3.605551275463989, 3.0, 2.23606797749979, 3.3166247903554, 3.1622776601683795]\n",
    "pituitary_single_haus = [3.1622776601683795, 3.1622776601683795, 3.0, 4.123105625617661, 72.20803279414278, 18.384776310850235, 2.0, 5.744562646538029, 5.744562646538029, 4.58257569495584, 2.449489742783178, 2.8284271247461903, 2.23606797749979]\n",
    "\n",
    "# Perform the Wilcoxon rank sum test\n",
    "statistic, p_value = mannwhitneyu(pituitary_multi_haus, pituitary_single_haus)\n",
    "\n",
    "print(\"Hausdorff\")\n",
    "print(\"Statistic:\", statistic)\n",
    "print(\"P-value:\", p_value)"
   ]
  }
 ],
 "metadata": {
  "kernelspec": {
   "display_name": "monai",
   "language": "python",
   "name": "python3"
  },
  "language_info": {
   "codemirror_mode": {
    "name": "ipython",
    "version": 3
   },
   "file_extension": ".py",
   "mimetype": "text/x-python",
   "name": "python",
   "nbconvert_exporter": "python",
   "pygments_lexer": "ipython3",
   "version": "3.12.4"
  }
 },
 "nbformat": 4,
 "nbformat_minor": 2
}
