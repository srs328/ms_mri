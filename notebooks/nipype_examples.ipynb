{
 "cells": [
  {
   "cell_type": "code",
   "execution_count": null,
   "metadata": {},
   "outputs": [],
   "source": [
    "from nipype.interfaces import fsl"
   ]
  },
  {
   "cell_type": "code",
   "execution_count": null,
   "metadata": {},
   "outputs": [],
   "source": [
    "# Create an instance of the ImageStats interface\n",
    "stats = fsl.ImageStats()\n",
    "\n",
    "label = fm.find_label(dataset[0], \"pituitary\", [\"CH\", \"ED\"])\n",
    "\n",
    "# Specify the input image\n",
    "stats.inputs.in_file = label\n",
    "\n",
    "# Define the operations you want to perform\n",
    "stats.inputs.op_string = '-M -V'  # Calculate mean and volume\n",
    "\n",
    "# Run the interface\n",
    "result = stats.run()\n",
    "\n",
    "# Access the results\n",
    "print(result.outputs.out_stat)"
   ]
  }
 ],
 "metadata": {
  "kernelspec": {
   "display_name": "monai",
   "language": "python",
   "name": "python3"
  },
  "language_info": {
   "name": "python",
   "version": "3.12.7"
  }
 },
 "nbformat": 4,
 "nbformat_minor": 2
}
