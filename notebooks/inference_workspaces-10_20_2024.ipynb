{
 "cells": [
  {
   "cell_type": "code",
   "execution_count": 60,
   "metadata": {},
   "outputs": [],
   "source": [
    "import os\n",
    "from pathlib import Path\n",
    "from loguru import logger\n",
    "import sys\n",
    "from reload_recursive import reload_recursive\n",
    "import mri_data\n",
    "import monai_training"
   ]
  },
  {
   "cell_type": "code",
   "execution_count": 49,
   "metadata": {},
   "outputs": [],
   "source": [
    "reload_recursive(mri_data)\n",
    "reload_recursive(monai_training)\n",
    "from mri_data.file_manager import DataSet, scan_3Tpioneer_bids, parse_image_name, nifti_name\n",
    "from mri_data import file_manager as fm\n",
    "from monai_training.preprocess import DataSetProcesser"
   ]
  },
  {
   "cell_type": "code",
   "execution_count": 36,
   "metadata": {},
   "outputs": [
    {
     "data": {
      "text/plain": [
       "2"
      ]
     },
     "execution_count": 36,
     "metadata": {},
     "output_type": "execute_result"
    }
   ],
   "source": [
    "logger.remove()\n",
    "logger.add(sys.stderr, level='INFO')"
   ]
  },
  {
   "cell_type": "code",
   "execution_count": 51,
   "metadata": {},
   "outputs": [],
   "source": [
    "drive_root = fm.get_drive_root()\n",
    "projects_root = Path(\"/home/srs-9/Projects\")\n",
    "msmri_home = projects_root / \"ms_mri\"\n",
    "inference_root = drive_root / \"3Tpioneer_bids_predictions\"\n",
    "dataroot = drive_root / \"3Tpioneer_bids\"\n",
    "\n",
    "workspace_root = \"/home/srs-9/Projects/ms_mri/itksnap_workspaces\"\n",
    "dataset_name = \"choroid_pineal_pituitary_predictions\"\n",
    "\n",
    "save_dir = os.path.join(workspace_root, dataset_name)"
   ]
  },
  {
   "cell_type": "code",
   "execution_count": 56,
   "metadata": {},
   "outputs": [],
   "source": [
    "if not os.path.exists(save_dir):\n",
    "    os.makedirs(save_dir)"
   ]
  },
  {
   "cell_type": "code",
   "execution_count": 47,
   "metadata": {},
   "outputs": [
    {
     "name": "stderr",
     "output_type": "stream",
     "text": [
      "\u001b[32m2024-10-21 02:56:49.157\u001b[0m | \u001b[1mINFO    \u001b[0m | \u001b[36mmonai_training.preprocess\u001b[0m:\u001b[36mprepare_labels\u001b[0m:\u001b[36m146\u001b[0m - \u001b[1mPrepare Labels\u001b[0m\n",
      "\u001b[32m2024-10-21 02:56:50.984\u001b[0m | \u001b[1mINFO    \u001b[0m | \u001b[36mmonai_training.preprocess\u001b[0m:\u001b[36mprepare_labels\u001b[0m:\u001b[36m206\u001b[0m - \u001b[1mDataset size: 159\u001b[0m\n"
     ]
    }
   ],
   "source": [
    "proc_inference_labels = DataSetProcesser.new_dataset(\n",
    "    inference_root,\n",
    "    scan_3Tpioneer_bids,\n",
    "    filters=[fm.filter_first_ses]\n",
    ")\n",
    "proc_inference_labels.prepare_labels(\"choroid_resegment1.pineal1.pituitary1\")\n",
    "label_data = proc_inference_labels.dataset\n",
    "label_data.sort()"
   ]
  },
  {
   "cell_type": "code",
   "execution_count": 48,
   "metadata": {},
   "outputs": [],
   "source": [
    "dataset = DataSet.dataset_like(label_data)\n",
    "dataset.dataroot = dataroot\n",
    "dataset.add_images(\"flair.t1.nii.gz\")"
   ]
  },
  {
   "cell_type": "code",
   "execution_count": 50,
   "metadata": {},
   "outputs": [],
   "source": [
    "def convert_to_winroot(path: Path):\n",
    "    return Path(\"H:/\") / path.relative_to(\"/mnt/h\")"
   ]
  },
  {
   "cell_type": "markdown",
   "metadata": {},
   "source": [
    "This is unnecessarily complicated. Instead of adding `flair.t1.nii.gz` as the image attribute then having to split it up, just hard code `t1 = scan.root / \"t1.nii.gz\".\n",
    "\n",
    "Although the current approach may be more reusable, so think about it"
   ]
  },
  {
   "cell_type": "code",
   "execution_count": 63,
   "metadata": {},
   "outputs": [],
   "source": [
    "def create_workspace(label_scan, image_scan):\n",
    "    label_path = convert_to_winroot(label_scan.label_path)\n",
    "    image_names = parse_image_name(image_scan.image)\n",
    "    label_root = Path(label_scan.root)\n",
    "    image_root = Path(image_scan.root)\n",
    "\n",
    "    image_paths = [(image_root / name).with_suffix(\".nii.gz\") for name in image_names]\n",
    "    image_paths = [convert_to_winroot(p) for p in image_paths]\n",
    "\n",
    "    main_image = \"-layers-set-main {} -tags-add {}-MRI\".format(\n",
    "        image_paths[0], image_names[0].upper()\n",
    "    )\n",
    "    extra_images = \" \".join(\n",
    "        [\n",
    "            \"-layers-add-anat {} -tags-add {}-MRI\".format(path, name.upper())\n",
    "            for path, name in zip(image_paths[1:], image_names[1:])\n",
    "        ]\n",
    "    )\n",
    "    seg = \"-layers-add-seg {} -tags-add {}\".format(label_path, nifti_name(label_scan.label))\n",
    "\n",
    "    save_path = os.path.join(save_dir, f\"sub-ms{label_scan.subid}-ses-{label_scan.sesid}.itksnap\")\n",
    "    save = f\"-o {save_path}\"\n",
    "\n",
    "    command_parts = [\"itksnap-wt.exe\", main_image, extra_images, seg, save]\n",
    "    command = \" \".join(command_parts)\n",
    "    # run(command)\n",
    "    return command"
   ]
  },
  {
   "cell_type": "code",
   "execution_count": 73,
   "metadata": {},
   "outputs": [],
   "source": [
    "commands = []\n",
    "for label_scan, image_scan in zip(label_data, dataset):\n",
    "    command = create_workspace(label_scan, image_scan)\n",
    "    commands.append(command + \"\\n\")"
   ]
  },
  {
   "cell_type": "code",
   "execution_count": 74,
   "metadata": {},
   "outputs": [],
   "source": [
    "current_dir = Path(os.getcwd())\n",
    "with open(current_dir / \"create-workspaces2.sh\", \"w\") as f:\n",
    "    f.writelines(commands)\n"
   ]
  }
 ],
 "metadata": {
  "kernelspec": {
   "display_name": "monai",
   "language": "python",
   "name": "python3"
  },
  "language_info": {
   "codemirror_mode": {
    "name": "ipython",
    "version": 3
   },
   "file_extension": ".py",
   "mimetype": "text/x-python",
   "name": "python",
   "nbconvert_exporter": "python",
   "pygments_lexer": "ipython3",
   "version": "3.12.4"
  }
 },
 "nbformat": 4,
 "nbformat_minor": 2
}
