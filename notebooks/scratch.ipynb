{
 "cells": [
  {
   "cell_type": "code",
   "execution_count": 1,
   "metadata": {},
   "outputs": [],
   "source": [
    "from reload_recursive import reload_recursive\n",
    "import mri_data\n",
    "import monai_training"
   ]
  },
  {
   "cell_type": "code",
   "execution_count": 2,
   "metadata": {},
   "outputs": [],
   "source": [
    "from pathlib import Path\n",
    "reload_recursive(mri_data)\n",
    "reload_recursive(monai_training)\n",
    "from mri_data import file_manager as fm\n",
    "from mri_data import utils\n",
    "from monai_training import preprocess\n",
    "from loguru import logger\n",
    "import pyperclip"
   ]
  },
  {
   "cell_type": "code",
   "execution_count": 3,
   "metadata": {},
   "outputs": [],
   "source": [
    "logger.remove()\n",
    "dataroot = Path(\"/mnt/h/3Tpioneer_bids\")"
   ]
  },
  {
   "cell_type": "code",
   "execution_count": 4,
   "metadata": {},
   "outputs": [],
   "source": [
    "dataset_full = preprocess.DataSetProcesser.new_dataset(dataroot, fm.scan_3Tpioneer_bids, filters=[fm.filter_first_ses]).dataset\n",
    "dataset_full.sort()\n",
    "labeled = dict(subjects=[scan.subid for scan in dataset_full])"
   ]
  },
  {
   "cell_type": "code",
   "execution_count": 5,
   "metadata": {},
   "outputs": [],
   "source": [
    "from collections import defaultdict\n",
    "itksnap_commands = {}\n",
    "for scan in dataset_full:\n",
    "    images = [scan.root/\"flair.nii.gz\", scan.root/\"t1.nii.gz\"]\n",
    "    itksnap_commands[scan.subid] = utils.open_itksnap_workspace_cmd(images, win=True)"
   ]
  },
  {
   "cell_type": "code",
   "execution_count": 41,
   "metadata": {},
   "outputs": [
    {
     "name": "stdout",
     "output_type": "stream",
     "text": [
      "itksnap -g H:/3Tpioneer_bids/sub-ms1247/ses-20190905/flair.nii.gz -o H:/3Tpioneer_bids/sub-ms1247/ses-20190905/t1.nii.gz\n"
     ]
    }
   ],
   "source": [
    "cmd = itksnap_commands['1247']\n",
    "print(cmd)\n",
    "pyperclip.copy(cmd)"
   ]
  },
  {
   "cell_type": "code",
   "execution_count": 20,
   "metadata": {},
   "outputs": [
    {
     "name": "stderr",
     "output_type": "stream",
     "text": [
      "100%|██████████| 575/575 [00:04<00:00, 135.34it/s]\n"
     ]
    }
   ],
   "source": [
    "dataset_proc = preprocess.DataSetProcesser.new_dataset(dataroot, fm.scan_3Tpioneer_bids, filters=[fm.filter_first_ses])\n",
    "dataset_proc.prepare_labels(\"pituitary\", suffix_list=[\"CH\", \"ED\", \"DT\"])\n",
    "pituitary_subs = [scan.subid for scan in dataset_proc.dataset]"
   ]
  },
  {
   "cell_type": "code",
   "execution_count": 23,
   "metadata": {},
   "outputs": [
    {
     "name": "stderr",
     "output_type": "stream",
     "text": [
      "100%|██████████| 575/575 [00:04<00:00, 122.89it/s]\n"
     ]
    }
   ],
   "source": [
    "dataset_proc = preprocess.DataSetProcesser.new_dataset(dataroot, fm.scan_3Tpioneer_bids, filters=[fm.filter_first_ses])\n",
    "dataset_proc.prepare_labels(\"pineal\", suffix_list=[\"CH\", \"SRS\"])\n",
    "pineal_subs = [scan.subid for scan in dataset_proc.dataset]"
   ]
  },
  {
   "cell_type": "code",
   "execution_count": 24,
   "metadata": {},
   "outputs": [
    {
     "name": "stderr",
     "output_type": "stream",
     "text": [
      "100%|██████████| 575/575 [00:04<00:00, 121.05it/s]\n"
     ]
    }
   ],
   "source": [
    "dataset_proc = preprocess.DataSetProcesser.new_dataset(dataroot, fm.scan_3Tpioneer_bids, filters=[fm.filter_first_ses])\n",
    "dataset_proc.prepare_labels(\"choroid_t1_flair\", suffix_list=[\"CH\", \"ED\", \"DT\"])\n",
    "choroid_subs = [scan.subid for scan in dataset_proc.dataset]"
   ]
  },
  {
   "cell_type": "code",
   "execution_count": 41,
   "metadata": {},
   "outputs": [],
   "source": [
    "labeled['pituitary'] = [True if scan.subid in pituitary_subs else \"\" for scan in dataset_full]\n",
    "labeled['pineal'] = [True if scan.subid in pineal_subs else \"\" for scan in dataset_full]\n",
    "labeled['choroid'] = [True if scan.subid in choroid_subs else \"\" for scan in dataset_full]"
   ]
  },
  {
   "cell_type": "code",
   "execution_count": 42,
   "metadata": {},
   "outputs": [],
   "source": [
    "import csv\n",
    "\n",
    "with open(\"labeled_subjects.csv\", 'w') as f:\n",
    "    writer = csv.DictWriter(f, labeled.keys())\n",
    "    writer.writeheader()\n",
    "    for i in range(len(labeled['subjects'])):\n",
    "        writer.writerow({k: labeled[k][i] for k in labeled})"
   ]
  }
 ],
 "metadata": {
  "kernelspec": {
   "display_name": "monai",
   "language": "python",
   "name": "python3"
  },
  "language_info": {
   "codemirror_mode": {
    "name": "ipython",
    "version": 3
   },
   "file_extension": ".py",
   "mimetype": "text/x-python",
   "name": "python",
   "nbconvert_exporter": "python",
   "pygments_lexer": "ipython3",
   "version": "3.12.4"
  }
 },
 "nbformat": 4,
 "nbformat_minor": 2
}
