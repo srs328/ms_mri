{
 "cells": [
  {
   "cell_type": "code",
   "execution_count": 3,
   "metadata": {},
   "outputs": [],
   "source": [
    "from reload_recursive import reload_recursive\n",
    "import mri_data\n",
    "import monai_training\n",
    "import subprocess"
   ]
  },
  {
   "cell_type": "code",
   "execution_count": 4,
   "metadata": {},
   "outputs": [],
   "source": [
    "from pathlib import Path\n",
    "reload_recursive(mri_data)\n",
    "reload_recursive(monai_training)\n",
    "from mri_data import file_manager as fm\n",
    "from mri_data import utils\n",
    "from monai_training import preprocess\n",
    "from loguru import logger\n",
    "import pyperclip"
   ]
  },
  {
   "cell_type": "code",
   "execution_count": 1,
   "metadata": {},
   "outputs": [
    {
     "name": "stderr",
     "output_type": "stream",
     "text": [
      "/home/srs-9/.virtualenvs/monai/lib/python3.12/site-packages/ignite/handlers/checkpoint.py:17: DeprecationWarning: `TorchScript` support for functional optimizers is deprecated and will be removed in a future PyTorch release. Consider using the `torch.compile` optimizer instead.\n",
      "  from torch.distributed.optim import ZeroRedundancyOptimizer\n"
     ]
    }
   ],
   "source": [
    "import os\n",
    "from pathlib import Path\n",
    "import numpy as np\n",
    "import json\n",
    "from loguru import logger\n",
    "import platform\n",
    "\n",
    "import mri_data\n",
    "import monai_training\n",
    "\n",
    "from monai.apps.auto3dseg import (\n",
    "    AlgoEnsembleBestN,\n",
    "    AlgoEnsembleBuilder,\n",
    "    import_bundle_algo_history,\n",
    ")\n",
    "from monai.utils.enums import AlgoKeys\n",
    "\n",
    "from reload_recursive import reload_recursive"
   ]
  },
  {
   "cell_type": "code",
   "execution_count": 2,
   "metadata": {},
   "outputs": [],
   "source": [
    "logger.remove()\n",
    "# dataroot = Path(\"/mnt/h/3Tpioneer_bids\")\n",
    "dataroot = Path(\"/mnt/h/3Tpioneer_bids\")"
   ]
  },
  {
   "cell_type": "code",
   "execution_count": 25,
   "metadata": {},
   "outputs": [],
   "source": [
    "work_dir = Path(\"/mnt/h/srs-9/training_work_dirs/choroid_pineal_pituitary_T1-1\")\n",
    "files = [{\"image\": \"/mnt/h/3Tpioneer_bids/sub-ms1002/ses-20200521/t1_gd.nii.gz\"}]\n",
    "save_dir = Path(\"/mnt/h/srs-9/3Tpioneer_bids_predictions\")\n",
    "prediction_postfix = \"t1_gd_test\"\n",
    "\n",
    "task = {\n",
    "    \"name\": \"test\",\n",
    "    \"task\": \"infer\",\n",
    "    \"modality\": \"MRI\",\n",
    "    \"datalist\": files,\n",
    "    \"dataroot\": str(dataroot)\n",
    "}\n",
    "\n",
    "task_file = \"test.json\"\n",
    "with open(task_file, 'w') as f:\n",
    "    json.dump(task, f, indent=4)"
   ]
  },
  {
   "cell_type": "code",
   "execution_count": 26,
   "metadata": {},
   "outputs": [],
   "source": [
    "input_cfg = task_file  # path to the task input YAML file created by the users\n",
    "\n",
    "history = import_bundle_algo_history(work_dir, only_trained=True)"
   ]
  },
  {
   "cell_type": "code",
   "execution_count": 27,
   "metadata": {},
   "outputs": [
    {
     "name": "stderr",
     "output_type": "stream",
     "text": [
      "Ensembling (rank 0)...:   0%|          | 0/1 [00:00<?, ?it/s]monai.networks.nets.swin_unetr SwinUNETR.__init__:img_size: Argument `img_size` has been deprecated since version 1.3. It will be removed in version 1.5. The img_size argument is not required anymore and checks on the input size are run during forward().\n",
      "You are using `torch.load` with `weights_only=False` (the current default value), which uses the default pickle module implicitly. It is possible to construct malicious pickle data which will execute arbitrary code during unpickling (See https://github.com/pytorch/pytorch/blob/main/SECURITY.md#untrusted-models for more details). In a future release, the default value for `weights_only` will be flipped to `True`. This limits the functions that could be executed during unpickling. Arbitrary objects will no longer be allowed to be loaded via this mode unless they are explicitly allowlisted by the user via `torch.serialization.add_safe_globals`. We recommend you start setting `weights_only=True` for any use case where you don't have full control of the loaded file. Please open an issue on GitHub for any issues related to this experimental feature.\n",
      "`torch.cuda.amp.autocast(args...)` is deprecated. Please use `torch.amp.autocast('cuda', args...)` instead.\n",
      "You are using `torch.load` with `weights_only=False` (the current default value), which uses the default pickle module implicitly. It is possible to construct malicious pickle data which will execute arbitrary code during unpickling (See https://github.com/pytorch/pytorch/blob/main/SECURITY.md#untrusted-models for more details). In a future release, the default value for `weights_only` will be flipped to `True`. This limits the functions that could be executed during unpickling. Arbitrary objects will no longer be allowed to be loaded via this mode unless they are explicitly allowlisted by the user via `torch.serialization.add_safe_globals`. We recommend you start setting `weights_only=True` for any use case where you don't have full control of the loaded file. Please open an issue on GitHub for any issues related to this experimental feature.\n",
      "`torch.cuda.amp.autocast(args...)` is deprecated. Please use `torch.amp.autocast('cuda', args...)` instead.\n",
      "You are using `torch.load` with `weights_only=False` (the current default value), which uses the default pickle module implicitly. It is possible to construct malicious pickle data which will execute arbitrary code during unpickling (See https://github.com/pytorch/pytorch/blob/main/SECURITY.md#untrusted-models for more details). In a future release, the default value for `weights_only` will be flipped to `True`. This limits the functions that could be executed during unpickling. Arbitrary objects will no longer be allowed to be loaded via this mode unless they are explicitly allowlisted by the user via `torch.serialization.add_safe_globals`. We recommend you start setting `weights_only=True` for any use case where you don't have full control of the loaded file. Please open an issue on GitHub for any issues related to this experimental feature.\n",
      "`torch.cuda.amp.autocast(args...)` is deprecated. Please use `torch.amp.autocast('cuda', args...)` instead.\n",
      "You are using `torch.load` with `weights_only=False` (the current default value), which uses the default pickle module implicitly. It is possible to construct malicious pickle data which will execute arbitrary code during unpickling (See https://github.com/pytorch/pytorch/blob/main/SECURITY.md#untrusted-models for more details). In a future release, the default value for `weights_only` will be flipped to `True`. This limits the functions that could be executed during unpickling. Arbitrary objects will no longer be allowed to be loaded via this mode unless they are explicitly allowlisted by the user via `torch.serialization.add_safe_globals`. We recommend you start setting `weights_only=True` for any use case where you don't have full control of the loaded file. Please open an issue on GitHub for any issues related to this experimental feature.\n",
      "`torch.cuda.amp.autocast(args...)` is deprecated. Please use `torch.amp.autocast('cuda', args...)` instead.\n",
      "You are using `torch.load` with `weights_only=False` (the current default value), which uses the default pickle module implicitly. It is possible to construct malicious pickle data which will execute arbitrary code during unpickling (See https://github.com/pytorch/pytorch/blob/main/SECURITY.md#untrusted-models for more details). In a future release, the default value for `weights_only` will be flipped to `True`. This limits the functions that could be executed during unpickling. Arbitrary objects will no longer be allowed to be loaded via this mode unless they are explicitly allowlisted by the user via `torch.serialization.add_safe_globals`. We recommend you start setting `weights_only=True` for any use case where you don't have full control of the loaded file. Please open an issue on GitHub for any issues related to this experimental feature.\n",
      "`torch.cuda.amp.autocast(args...)` is deprecated. Please use `torch.amp.autocast('cuda', args...)` instead.\n"
     ]
    },
    {
     "name": "stdout",
     "output_type": "stream",
     "text": [
      "2025-03-03 19:41:12,391 INFO image_writer.py:197 - writing: /mnt/h/srs-9/3Tpioneer_bids_predictions/sub-ms1002/ses-20200521/t1_gd_t1_gd_test.nii.gz\n"
     ]
    },
    {
     "name": "stderr",
     "output_type": "stream",
     "text": [
      "Image save path not returned.\n",
      "Ensembling (rank 0)...: 100%|██████████| 1/1 [02:57<00:00, 177.49s/it]\n"
     ]
    }
   ],
   "source": [
    "## model ensemble\n",
    "n_best = 5\n",
    "builder = AlgoEnsembleBuilder(history, input_cfg)\n",
    "builder.set_ensemble_method(AlgoEnsembleBestN(n_best=n_best))\n",
    "ensemble = builder.get_ensemble()\n",
    "save_params = {\n",
    "    \"_target_\": \"SaveImage\",\n",
    "    \"output_dir\": save_dir,\n",
    "    \"data_root_dir\": dataroot,\n",
    "    \"output_postfix\": prediction_postfix,\n",
    "    \"separate_folder\": False,\n",
    "}\n",
    "\n",
    "pred = ensemble(pred_param={\"image_save_func\": save_params})"
   ]
  },
  {
   "cell_type": "code",
   "execution_count": 28,
   "metadata": {},
   "outputs": [
    {
     "data": {
      "text/plain": [
       "[{identifier: 'swinunetr_0',\n",
       "  algo_instance: <swinunetr.scripts.algo.SwinunetrAlgo at 0x7ff4195a3c80>,\n",
       "  best_metric: 0.7079485522376167,\n",
       "  is_trained: True},\n",
       " {identifier: 'swinunetr_1',\n",
       "  algo_instance: <swinunetr.scripts.algo.SwinunetrAlgo at 0x7ff417bb5910>,\n",
       "  best_metric: 0.6904570526546902,\n",
       "  is_trained: True},\n",
       " {identifier: 'swinunetr_2',\n",
       "  algo_instance: <swinunetr.scripts.algo.SwinunetrAlgo at 0x7ff417ba84d0>,\n",
       "  best_metric: 0.7012612289852567,\n",
       "  is_trained: True},\n",
       " {identifier: 'swinunetr_3',\n",
       "  algo_instance: <swinunetr.scripts.algo.SwinunetrAlgo at 0x7ff417bc2e10>,\n",
       "  best_metric: 0.6825764841503568,\n",
       "  is_trained: True},\n",
       " {identifier: 'swinunetr_4',\n",
       "  algo_instance: <swinunetr.scripts.algo.SwinunetrAlgo at 0x7ff417bc20c0>,\n",
       "  best_metric: 0.7142895857493082,\n",
       "  is_trained: True}]"
      ]
     },
     "execution_count": 28,
     "metadata": {},
     "output_type": "execute_result"
    }
   ],
   "source": [
    "history"
   ]
  },
  {
   "cell_type": "code",
   "execution_count": 29,
   "metadata": {},
   "outputs": [
    {
     "data": {
      "text/plain": [
       "<swinunetr.scripts.algo.SwinunetrAlgo at 0x7ff4195a3c80>"
      ]
     },
     "execution_count": 29,
     "metadata": {},
     "output_type": "execute_result"
    }
   ],
   "source": [
    "history[0][\"algo_instance\"].get_inferer"
   ]
  },
  {
   "cell_type": "code",
   "execution_count": 8,
   "metadata": {},
   "outputs": [],
   "source": [
    "dataset_full = preprocess.DataSetProcesser.new_dataset(dataroot, fm.scan_3Tpioneer_bids, filters=[fm.filter_first_ses]).dataset\n",
    "dataset_full.sort()\n",
    "labeled = dict(subjects=[scan.subid for scan in dataset_full])"
   ]
  },
  {
   "cell_type": "code",
   "execution_count": 9,
   "metadata": {},
   "outputs": [],
   "source": [
    "from collections import defaultdict\n",
    "itksnap_commands = {}\n",
    "for scan in dataset_full:\n",
    "    images = [scan.root/\"flair.nii.gz\", scan.root/\"t1.nii.gz\"]\n",
    "    itksnap_commands[scan.subid] = utils.open_itksnap_workspace_cmd(images, win=False)"
   ]
  },
  {
   "cell_type": "code",
   "execution_count": 31,
   "metadata": {},
   "outputs": [
    {
     "name": "stdout",
     "output_type": "stream",
     "text": [
      "itksnap -g /media/smbshare/3Tpioneer_bids/sub-ms1281/ses-20180705/flair.nii.gz -o /media/smbshare/3Tpioneer_bids/sub-ms1281/ses-20180705/t1.nii.gz\n"
     ]
    },
    {
     "data": {
      "text/plain": [
       "<Popen: returncode: None args: ['itksnap', '-g', '/media/smbshare/3Tpioneer_...>"
      ]
     },
     "execution_count": 31,
     "metadata": {},
     "output_type": "execute_result"
    },
    {
     "name": "stdout",
     "output_type": "stream",
     "text": [
      "Launching ITK-SNAP\n"
     ]
    },
    {
     "name": "stderr",
     "output_type": "stream",
     "text": [
      "Return code : 0\n"
     ]
    }
   ],
   "source": [
    "cmd = itksnap_commands['1281']\n",
    "print(cmd)\n",
    "subprocess.Popen(cmd.split(' '))"
   ]
  },
  {
   "cell_type": "code",
   "execution_count": 20,
   "metadata": {},
   "outputs": [
    {
     "name": "stderr",
     "output_type": "stream",
     "text": [
      "100%|██████████| 575/575 [00:04<00:00, 135.34it/s]\n"
     ]
    }
   ],
   "source": [
    "dataset_proc = preprocess.DataSetProcesser.new_dataset(dataroot, fm.scan_3Tpioneer_bids, filters=[fm.filter_first_ses])\n",
    "dataset_proc.prepare_labels(\"pituitary\", suffix_list=[\"CH\", \"ED\", \"DT\"])\n",
    "pituitary_subs = [scan.subid for scan in dataset_proc.dataset]"
   ]
  },
  {
   "cell_type": "code",
   "execution_count": 23,
   "metadata": {},
   "outputs": [
    {
     "name": "stderr",
     "output_type": "stream",
     "text": [
      "100%|██████████| 575/575 [00:04<00:00, 122.89it/s]\n"
     ]
    }
   ],
   "source": [
    "dataset_proc = preprocess.DataSetProcesser.new_dataset(dataroot, fm.scan_3Tpioneer_bids, filters=[fm.filter_first_ses])\n",
    "dataset_proc.prepare_labels(\"pineal\", suffix_list=[\"CH\", \"SRS\"])\n",
    "pineal_subs = [scan.subid for scan in dataset_proc.dataset]"
   ]
  },
  {
   "cell_type": "code",
   "execution_count": 24,
   "metadata": {},
   "outputs": [
    {
     "name": "stderr",
     "output_type": "stream",
     "text": [
      "100%|██████████| 575/575 [00:04<00:00, 121.05it/s]\n"
     ]
    }
   ],
   "source": [
    "dataset_proc = preprocess.DataSetProcesser.new_dataset(dataroot, fm.scan_3Tpioneer_bids, filters=[fm.filter_first_ses])\n",
    "dataset_proc.prepare_labels(\"choroid_t1_flair\", suffix_list=[\"CH\", \"ED\", \"DT\"])\n",
    "choroid_subs = [scan.subid for scan in dataset_proc.dataset]"
   ]
  },
  {
   "cell_type": "code",
   "execution_count": 41,
   "metadata": {},
   "outputs": [],
   "source": [
    "labeled['pituitary'] = [True if scan.subid in pituitary_subs else \"\" for scan in dataset_full]\n",
    "labeled['pineal'] = [True if scan.subid in pineal_subs else \"\" for scan in dataset_full]\n",
    "labeled['choroid'] = [True if scan.subid in choroid_subs else \"\" for scan in dataset_full]"
   ]
  },
  {
   "cell_type": "code",
   "execution_count": 42,
   "metadata": {},
   "outputs": [],
   "source": [
    "import csv\n",
    "\n",
    "with open(\"labeled_subjects.csv\", 'w') as f:\n",
    "    writer = csv.DictWriter(f, labeled.keys())\n",
    "    writer.writeheader()\n",
    "    for i in range(len(labeled['subjects'])):\n",
    "        writer.writerow({k: labeled[k][i] for k in labeled})"
   ]
  }
 ],
 "metadata": {
  "kernelspec": {
   "display_name": "monai",
   "language": "python",
   "name": "python3"
  },
  "language_info": {
   "codemirror_mode": {
    "name": "ipython",
    "version": 3
   },
   "file_extension": ".py",
   "mimetype": "text/x-python",
   "name": "python",
   "nbconvert_exporter": "python",
   "pygments_lexer": "ipython3",
   "version": "3.12.4"
  }
 },
 "nbformat": 4,
 "nbformat_minor": 2
}
