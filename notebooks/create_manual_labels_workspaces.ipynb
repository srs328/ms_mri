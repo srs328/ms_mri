{
 "cells": [
  {
   "cell_type": "code",
   "execution_count": 3,
   "metadata": {},
   "outputs": [],
   "source": [
    "import os\n",
    "import sys\n",
    "from pathlib import Path\n",
    "\n",
    "from loguru import logger\n",
    "from reload_recursive import reload_recursive\n",
    "from typing import Callable\n",
    "\n",
    "from nipype.interfaces import fsl\n",
    "\n",
    "import monai_training\n",
    "import mri_data\n",
    "import sys"
   ]
  },
  {
   "cell_type": "code",
   "execution_count": 33,
   "metadata": {},
   "outputs": [],
   "source": [
    "reload_recursive(mri_data)\n",
    "reload_recursive(monai_training)\n",
    "from mri_data import file_manager as fm\n",
    "from mri_data.file_manager import Scan, DataSet\n",
    "from mri_data import utils\n",
    "from monai_training.preprocess import DataSetProcesser"
   ]
  },
  {
   "cell_type": "code",
   "execution_count": 9,
   "metadata": {},
   "outputs": [
    {
     "data": {
      "text/plain": [
       "2"
      ]
     },
     "execution_count": 9,
     "metadata": {},
     "output_type": "execute_result"
    }
   ],
   "source": [
    "logger.remove()\n",
    "logger.add(sys.stderr, level=\"INFO\")"
   ]
  },
  {
   "cell_type": "code",
   "execution_count": 10,
   "metadata": {},
   "outputs": [],
   "source": [
    "drive_root = fm.get_drive_root()\n",
    "projects_root = Path(\"/home/srs-9/Projects\")\n",
    "msmri_home = projects_root / \"ms_mri\"\n",
    "inference_root = drive_root / \"3Tpioneer_bids_predictions\"\n",
    "dataroot = drive_root / \"3Tpioneer_bids\"\n",
    "\n",
    "workspace_root = \"/home/srs-9/Projects/ms_mri/itksnap_workspaces\"\n",
    "dataset_name = \"choroid_pineal_pituitary_labels\"\n",
    "\n",
    "save_dir = os.path.join(workspace_root, dataset_name)"
   ]
  },
  {
   "cell_type": "code",
   "execution_count": 11,
   "metadata": {},
   "outputs": [],
   "source": [
    "if not os.path.exists(save_dir):\n",
    "    os.makedirs(save_dir)"
   ]
  },
  {
   "cell_type": "code",
   "execution_count": 17,
   "metadata": {},
   "outputs": [],
   "source": [
    "subjects = [\n",
    "    1010,\n",
    "    1011,\n",
    "    1019,\n",
    "    1033,\n",
    "    1065,\n",
    "    1080,\n",
    "    1109,\n",
    "    1119,\n",
    "    1152,\n",
    "    1163,\n",
    "    1188,\n",
    "    1191,\n",
    "    1234,\n",
    "    1259,\n",
    "    1265,\n",
    "    1272,\n",
    "    1280,\n",
    "    1293,\n",
    "    1321,\n",
    "    1355,\n",
    "    1437,\n",
    "    1486,\n",
    "    1498,\n",
    "    1518,\n",
    "    1540,\n",
    "    1547,\n",
    "    1548,\n",
    "    2081,\n",
    "    2083,\n",
    "    2097,\n",
    "    2126,\n",
    "    2132,\n",
    "    2144,\n",
    "    2146,\n",
    "    2164,\n",
    "    2187,\n",
    "]"
   ]
  },
  {
   "cell_type": "code",
   "execution_count": 13,
   "metadata": {},
   "outputs": [],
   "source": [
    "def has_subject(scan, subjects: list[int]) -> bool:\n",
    "    if int(scan.subid) in subjects:\n",
    "        return True\n",
    "    else:\n",
    "        return False"
   ]
  },
  {
   "cell_type": "code",
   "execution_count": 14,
   "metadata": {},
   "outputs": [],
   "source": [
    "dataset_proc = DataSetProcesser.new_dataset(dataroot, fm.scan_3Tpioneer_bids, filters=[fm.filter_first_ses])\n",
    "dataset_proc.filter([has_subject], [(subjects,)])\n",
    "dataset = dataset_proc.dataset"
   ]
  },
  {
   "cell_type": "code",
   "execution_count": 15,
   "metadata": {},
   "outputs": [
    {
     "name": "stderr",
     "output_type": "stream",
     "text": [
      "\u001b[32m2024-11-05 16:34:56.876\u001b[0m | \u001b[1mINFO    \u001b[0m | \u001b[36mmonai_training.preprocess\u001b[0m:\u001b[36mprepare_labels\u001b[0m:\u001b[36m167\u001b[0m - \u001b[1mPrepare Labels\u001b[0m\n",
      "  0%|          | 0/36 [00:00<?, ?it/s]\u001b[32m2024-11-05 16:34:56.886\u001b[0m | \u001b[1mINFO    \u001b[0m | \u001b[36mmri_data.utils\u001b[0m:\u001b[36mcombine_labels\u001b[0m:\u001b[36m85\u001b[0m - \u001b[1mCombining labels for Scan(subid=1437, sesid=20210503)\u001b[0m\n",
      "\u001b[32m2024-11-05 16:34:56.904\u001b[0m | \u001b[32m\u001b[1mSUCCESS \u001b[0m | \u001b[36mmonai_training.preprocess\u001b[0m:\u001b[36mlog\u001b[0m:\u001b[36m22\u001b[0m - \u001b[32m\u001b[1mSaved /media/smbshare/3Tpioneer_bids/sub-ms1437/ses-20210503/choroid_t1_flair-CH.pineal-SRS.pituitary-CH.nii.gz\u001b[0m\n",
      "\u001b[32m2024-11-05 16:34:56.909\u001b[0m | \u001b[1mINFO    \u001b[0m | \u001b[36mmri_data.utils\u001b[0m:\u001b[36mcombine_labels\u001b[0m:\u001b[36m85\u001b[0m - \u001b[1mCombining labels for Scan(subid=1019, sesid=20190608)\u001b[0m\n",
      "\u001b[32m2024-11-05 16:34:56.928\u001b[0m | \u001b[32m\u001b[1mSUCCESS \u001b[0m | \u001b[36mmonai_training.preprocess\u001b[0m:\u001b[36mlog\u001b[0m:\u001b[36m22\u001b[0m - \u001b[32m\u001b[1mSaved /media/smbshare/3Tpioneer_bids/sub-ms1019/ses-20190608/choroid_t1_flair-CH.pineal-CH.pituitary-CH.nii.gz\u001b[0m\n",
      "\u001b[32m2024-11-05 16:34:56.935\u001b[0m | \u001b[1mINFO    \u001b[0m | \u001b[36mmri_data.utils\u001b[0m:\u001b[36mcombine_labels\u001b[0m:\u001b[36m85\u001b[0m - \u001b[1mCombining labels for Scan(subid=1152, sesid=20170529)\u001b[0m\n",
      "\u001b[32m2024-11-05 16:34:56.953\u001b[0m | \u001b[33m\u001b[1mWARNING \u001b[0m | \u001b[36mmonai_training.preprocess\u001b[0m:\u001b[36mprepare_labels\u001b[0m:\u001b[36m206\u001b[0m - \u001b[33m\u001b[1mCouldn't prepare image for Scan(subid=1152, sesid=20170529)\u001b[0m\n",
      "\u001b[32m2024-11-05 16:34:56.959\u001b[0m | \u001b[1mINFO    \u001b[0m | \u001b[36mmri_data.utils\u001b[0m:\u001b[36mcombine_labels\u001b[0m:\u001b[36m85\u001b[0m - \u001b[1mCombining labels for Scan(subid=2144, sesid=20190422)\u001b[0m\n",
      "\u001b[32m2024-11-05 16:34:56.978\u001b[0m | \u001b[32m\u001b[1mSUCCESS \u001b[0m | \u001b[36mmonai_training.preprocess\u001b[0m:\u001b[36mlog\u001b[0m:\u001b[36m22\u001b[0m - \u001b[32m\u001b[1mSaved /media/smbshare/3Tpioneer_bids/sub-ms2144/ses-20190422/choroid_t1_flair-ED.pineal-SRS.pituitary-CH.nii.gz\u001b[0m\n",
      "\u001b[32m2024-11-05 16:34:56.983\u001b[0m | \u001b[1mINFO    \u001b[0m | \u001b[36mmri_data.utils\u001b[0m:\u001b[36mcombine_labels\u001b[0m:\u001b[36m85\u001b[0m - \u001b[1mCombining labels for Scan(subid=1065, sesid=20170127)\u001b[0m\n",
      "\u001b[32m2024-11-05 16:34:57.002\u001b[0m | \u001b[32m\u001b[1mSUCCESS \u001b[0m | \u001b[36mmonai_training.preprocess\u001b[0m:\u001b[36mlog\u001b[0m:\u001b[36m22\u001b[0m - \u001b[32m\u001b[1mSaved /media/smbshare/3Tpioneer_bids/sub-ms1065/ses-20170127/choroid_t1_flair-ED.pineal-CH.pituitary-CH.nii.gz\u001b[0m\n",
      " 14%|█▍        | 5/36 [00:00<00:00, 40.81it/s]\u001b[32m2024-11-05 16:34:57.009\u001b[0m | \u001b[1mINFO    \u001b[0m | \u001b[36mmri_data.utils\u001b[0m:\u001b[36mcombine_labels\u001b[0m:\u001b[36m85\u001b[0m - \u001b[1mCombining labels for Scan(subid=1548, sesid=20210628)\u001b[0m\n",
      "\u001b[32m2024-11-05 16:34:57.030\u001b[0m | \u001b[32m\u001b[1mSUCCESS \u001b[0m | \u001b[36mmonai_training.preprocess\u001b[0m:\u001b[36mlog\u001b[0m:\u001b[36m22\u001b[0m - \u001b[32m\u001b[1mSaved /media/smbshare/3Tpioneer_bids/sub-ms1548/ses-20210628/choroid_t1_flair-CH.pineal-SRS.pituitary-CH.nii.gz\u001b[0m\n",
      "\u001b[32m2024-11-05 16:34:57.036\u001b[0m | \u001b[1mINFO    \u001b[0m | \u001b[36mmri_data.utils\u001b[0m:\u001b[36mcombine_labels\u001b[0m:\u001b[36m85\u001b[0m - \u001b[1mCombining labels for Scan(subid=1109, sesid=20180303)\u001b[0m\n",
      "\u001b[32m2024-11-05 16:34:57.053\u001b[0m | \u001b[32m\u001b[1mSUCCESS \u001b[0m | \u001b[36mmonai_training.preprocess\u001b[0m:\u001b[36mlog\u001b[0m:\u001b[36m22\u001b[0m - \u001b[32m\u001b[1mSaved /media/smbshare/3Tpioneer_bids/sub-ms1109/ses-20180303/choroid_t1_flair-ED.pineal-CH.pituitary-CH.nii.gz\u001b[0m\n",
      "\u001b[32m2024-11-05 16:34:57.059\u001b[0m | \u001b[1mINFO    \u001b[0m | \u001b[36mmri_data.utils\u001b[0m:\u001b[36mcombine_labels\u001b[0m:\u001b[36m85\u001b[0m - \u001b[1mCombining labels for Scan(subid=2097, sesid=20171223)\u001b[0m\n",
      "\u001b[32m2024-11-05 16:34:57.077\u001b[0m | \u001b[33m\u001b[1mWARNING \u001b[0m | \u001b[36mmonai_training.preprocess\u001b[0m:\u001b[36mprepare_labels\u001b[0m:\u001b[36m206\u001b[0m - \u001b[33m\u001b[1mCouldn't prepare image for Scan(subid=2097, sesid=20171223)\u001b[0m\n",
      "\u001b[32m2024-11-05 16:34:57.083\u001b[0m | \u001b[1mINFO    \u001b[0m | \u001b[36mmri_data.utils\u001b[0m:\u001b[36mcombine_labels\u001b[0m:\u001b[36m85\u001b[0m - \u001b[1mCombining labels for Scan(subid=1188, sesid=20200720)\u001b[0m\n",
      "\u001b[32m2024-11-05 16:34:57.100\u001b[0m | \u001b[32m\u001b[1mSUCCESS \u001b[0m | \u001b[36mmonai_training.preprocess\u001b[0m:\u001b[36mlog\u001b[0m:\u001b[36m22\u001b[0m - \u001b[32m\u001b[1mSaved /media/smbshare/3Tpioneer_bids/sub-ms1188/ses-20200720/choroid_t1_flair-ED.pineal-CH.pituitary-CH.nii.gz\u001b[0m\n",
      "\u001b[32m2024-11-05 16:34:57.105\u001b[0m | \u001b[1mINFO    \u001b[0m | \u001b[36mmri_data.utils\u001b[0m:\u001b[36mcombine_labels\u001b[0m:\u001b[36m85\u001b[0m - \u001b[1mCombining labels for Scan(subid=1163, sesid=20180907)\u001b[0m\n",
      "\u001b[32m2024-11-05 16:34:57.122\u001b[0m | \u001b[32m\u001b[1mSUCCESS \u001b[0m | \u001b[36mmonai_training.preprocess\u001b[0m:\u001b[36mlog\u001b[0m:\u001b[36m22\u001b[0m - \u001b[32m\u001b[1mSaved /media/smbshare/3Tpioneer_bids/sub-ms1163/ses-20180907/choroid_t1_flair-CH.pineal-CH.pituitary-CH.nii.gz\u001b[0m\n",
      " 28%|██▊       | 10/36 [00:00<00:00, 41.32it/s]\u001b[32m2024-11-05 16:34:57.127\u001b[0m | \u001b[1mINFO    \u001b[0m | \u001b[36mmri_data.utils\u001b[0m:\u001b[36mcombine_labels\u001b[0m:\u001b[36m85\u001b[0m - \u001b[1mCombining labels for Scan(subid=1498, sesid=20210602)\u001b[0m\n",
      "\u001b[32m2024-11-05 16:34:57.145\u001b[0m | \u001b[32m\u001b[1mSUCCESS \u001b[0m | \u001b[36mmonai_training.preprocess\u001b[0m:\u001b[36mlog\u001b[0m:\u001b[36m22\u001b[0m - \u001b[32m\u001b[1mSaved /media/smbshare/3Tpioneer_bids/sub-ms1498/ses-20210602/choroid_t1_flair-ED.pineal-SRS.pituitary-CH.nii.gz\u001b[0m\n",
      "\u001b[32m2024-11-05 16:34:57.150\u001b[0m | \u001b[1mINFO    \u001b[0m | \u001b[36mmri_data.utils\u001b[0m:\u001b[36mcombine_labels\u001b[0m:\u001b[36m85\u001b[0m - \u001b[1mCombining labels for Scan(subid=2126, sesid=20181224)\u001b[0m\n",
      "\u001b[32m2024-11-05 16:34:57.179\u001b[0m | \u001b[33m\u001b[1mWARNING \u001b[0m | \u001b[36mmonai_training.preprocess\u001b[0m:\u001b[36mprepare_labels\u001b[0m:\u001b[36m206\u001b[0m - \u001b[33m\u001b[1mCouldn't prepare image for Scan(subid=2126, sesid=20181224)\u001b[0m\n",
      "\u001b[32m2024-11-05 16:34:57.184\u001b[0m | \u001b[1mINFO    \u001b[0m | \u001b[36mmri_data.utils\u001b[0m:\u001b[36mcombine_labels\u001b[0m:\u001b[36m85\u001b[0m - \u001b[1mCombining labels for Scan(subid=2187, sesid=20200731)\u001b[0m\n",
      "\u001b[32m2024-11-05 16:34:57.200\u001b[0m | \u001b[33m\u001b[1mWARNING \u001b[0m | \u001b[36mmonai_training.preprocess\u001b[0m:\u001b[36mprepare_labels\u001b[0m:\u001b[36m206\u001b[0m - \u001b[33m\u001b[1mCouldn't prepare image for Scan(subid=2187, sesid=20200731)\u001b[0m\n",
      "\u001b[32m2024-11-05 16:34:57.206\u001b[0m | \u001b[1mINFO    \u001b[0m | \u001b[36mmri_data.utils\u001b[0m:\u001b[36mcombine_labels\u001b[0m:\u001b[36m85\u001b[0m - \u001b[1mCombining labels for Scan(subid=1234, sesid=20180214)\u001b[0m\n",
      "\u001b[32m2024-11-05 16:34:57.242\u001b[0m | \u001b[32m\u001b[1mSUCCESS \u001b[0m | \u001b[36mmonai_training.preprocess\u001b[0m:\u001b[36mlog\u001b[0m:\u001b[36m22\u001b[0m - \u001b[32m\u001b[1mSaved /media/smbshare/3Tpioneer_bids/sub-ms1234/ses-20180214/choroid_t1_flair-ED.pineal-SRS.pituitary-CH.nii.gz\u001b[0m\n",
      "\u001b[32m2024-11-05 16:34:57.248\u001b[0m | \u001b[1mINFO    \u001b[0m | \u001b[36mmri_data.utils\u001b[0m:\u001b[36mcombine_labels\u001b[0m:\u001b[36m85\u001b[0m - \u001b[1mCombining labels for Scan(subid=1518, sesid=20220216)\u001b[0m\n",
      "\u001b[32m2024-11-05 16:34:57.274\u001b[0m | \u001b[32m\u001b[1mSUCCESS \u001b[0m | \u001b[36mmonai_training.preprocess\u001b[0m:\u001b[36mlog\u001b[0m:\u001b[36m22\u001b[0m - \u001b[32m\u001b[1mSaved /media/smbshare/3Tpioneer_bids/sub-ms1518/ses-20220216/choroid_t1_flair-CH.pineal-SRS.pituitary-CH.nii.gz\u001b[0m\n",
      " 42%|████▏     | 15/36 [00:00<00:00, 37.02it/s]\u001b[32m2024-11-05 16:34:57.279\u001b[0m | \u001b[1mINFO    \u001b[0m | \u001b[36mmri_data.utils\u001b[0m:\u001b[36mcombine_labels\u001b[0m:\u001b[36m85\u001b[0m - \u001b[1mCombining labels for Scan(subid=1540, sesid=20201222)\u001b[0m\n",
      "\u001b[32m2024-11-05 16:35:01.045\u001b[0m | \u001b[32m\u001b[1mSUCCESS \u001b[0m | \u001b[36mmri_data.utils\u001b[0m:\u001b[36mcombine_labels\u001b[0m:\u001b[36m124\u001b[0m - \u001b[32m\u001b[1mSaved combined label to /media/smbshare/3Tpioneer_bids/sub-ms1540/ses-20201222/choroid_t1_flair-CH.pineal-SRS.pituitary-CH.nii.gz\u001b[0m\n",
      "\u001b[32m2024-11-05 16:35:01.057\u001b[0m | \u001b[32m\u001b[1mSUCCESS \u001b[0m | \u001b[36mmonai_training.preprocess\u001b[0m:\u001b[36mlog\u001b[0m:\u001b[36m22\u001b[0m - \u001b[32m\u001b[1mSaved /media/smbshare/3Tpioneer_bids/sub-ms1540/ses-20201222/choroid_t1_flair-CH.pineal-SRS.pituitary-CH.nii.gz\u001b[0m\n",
      "\u001b[32m2024-11-05 16:35:01.062\u001b[0m | \u001b[1mINFO    \u001b[0m | \u001b[36mmri_data.utils\u001b[0m:\u001b[36mcombine_labels\u001b[0m:\u001b[36m85\u001b[0m - \u001b[1mCombining labels for Scan(subid=1010, sesid=20180208)\u001b[0m\n",
      "\u001b[32m2024-11-05 16:35:01.080\u001b[0m | \u001b[32m\u001b[1mSUCCESS \u001b[0m | \u001b[36mmonai_training.preprocess\u001b[0m:\u001b[36mlog\u001b[0m:\u001b[36m22\u001b[0m - \u001b[32m\u001b[1mSaved /media/smbshare/3Tpioneer_bids/sub-ms1010/ses-20180208/choroid_t1_flair-CH.pineal-CH.pituitary-CH.nii.gz\u001b[0m\n",
      "\u001b[32m2024-11-05 16:35:01.085\u001b[0m | \u001b[1mINFO    \u001b[0m | \u001b[36mmri_data.utils\u001b[0m:\u001b[36mcombine_labels\u001b[0m:\u001b[36m85\u001b[0m - \u001b[1mCombining labels for Scan(subid=1355, sesid=20210104)\u001b[0m\n",
      "\u001b[32m2024-11-05 16:35:01.103\u001b[0m | \u001b[32m\u001b[1mSUCCESS \u001b[0m | \u001b[36mmonai_training.preprocess\u001b[0m:\u001b[36mlog\u001b[0m:\u001b[36m22\u001b[0m - \u001b[32m\u001b[1mSaved /media/smbshare/3Tpioneer_bids/sub-ms1355/ses-20210104/choroid_t1_flair-ED.pineal-SRS.pituitary-CH.nii.gz\u001b[0m\n",
      "\u001b[32m2024-11-05 16:35:01.108\u001b[0m | \u001b[1mINFO    \u001b[0m | \u001b[36mmri_data.utils\u001b[0m:\u001b[36mcombine_labels\u001b[0m:\u001b[36m85\u001b[0m - \u001b[1mCombining labels for Scan(subid=1280, sesid=20220317)\u001b[0m\n",
      "\u001b[32m2024-11-05 16:35:01.128\u001b[0m | \u001b[32m\u001b[1mSUCCESS \u001b[0m | \u001b[36mmonai_training.preprocess\u001b[0m:\u001b[36mlog\u001b[0m:\u001b[36m22\u001b[0m - \u001b[32m\u001b[1mSaved /media/smbshare/3Tpioneer_bids/sub-ms1280/ses-20220317/choroid_t1_flair-ED.pineal-SRS.pituitary-CH.nii.gz\u001b[0m\n",
      " 53%|█████▎    | 19/36 [00:04<00:05,  2.87it/s]\u001b[32m2024-11-05 16:35:01.135\u001b[0m | \u001b[1mINFO    \u001b[0m | \u001b[36mmri_data.utils\u001b[0m:\u001b[36mcombine_labels\u001b[0m:\u001b[36m85\u001b[0m - \u001b[1mCombining labels for Scan(subid=1259, sesid=20200803)\u001b[0m\n",
      "\u001b[32m2024-11-05 16:35:01.152\u001b[0m | \u001b[32m\u001b[1mSUCCESS \u001b[0m | \u001b[36mmonai_training.preprocess\u001b[0m:\u001b[36mlog\u001b[0m:\u001b[36m22\u001b[0m - \u001b[32m\u001b[1mSaved /media/smbshare/3Tpioneer_bids/sub-ms1259/ses-20200803/choroid_t1_flair-ED.pineal-SRS.pituitary-CH.nii.gz\u001b[0m\n",
      "\u001b[32m2024-11-05 16:35:01.157\u001b[0m | \u001b[1mINFO    \u001b[0m | \u001b[36mmri_data.utils\u001b[0m:\u001b[36mcombine_labels\u001b[0m:\u001b[36m85\u001b[0m - \u001b[1mCombining labels for Scan(subid=1119, sesid=20161010)\u001b[0m\n",
      "\u001b[32m2024-11-05 16:35:01.174\u001b[0m | \u001b[32m\u001b[1mSUCCESS \u001b[0m | \u001b[36mmonai_training.preprocess\u001b[0m:\u001b[36mlog\u001b[0m:\u001b[36m22\u001b[0m - \u001b[32m\u001b[1mSaved /media/smbshare/3Tpioneer_bids/sub-ms1119/ses-20161010/choroid_t1_flair-CH.pineal-CH.pituitary-CH.nii.gz\u001b[0m\n",
      "\u001b[32m2024-11-05 16:35:01.180\u001b[0m | \u001b[1mINFO    \u001b[0m | \u001b[36mmri_data.utils\u001b[0m:\u001b[36mcombine_labels\u001b[0m:\u001b[36m85\u001b[0m - \u001b[1mCombining labels for Scan(subid=1272, sesid=20211105)\u001b[0m\n",
      "\u001b[32m2024-11-05 16:35:01.200\u001b[0m | \u001b[32m\u001b[1mSUCCESS \u001b[0m | \u001b[36mmonai_training.preprocess\u001b[0m:\u001b[36mlog\u001b[0m:\u001b[36m22\u001b[0m - \u001b[32m\u001b[1mSaved /media/smbshare/3Tpioneer_bids/sub-ms1272/ses-20211105/choroid_t1_flair-ED.pineal-SRS.pituitary-CH.nii.gz\u001b[0m\n",
      "\u001b[32m2024-11-05 16:35:01.205\u001b[0m | \u001b[1mINFO    \u001b[0m | \u001b[36mmri_data.utils\u001b[0m:\u001b[36mcombine_labels\u001b[0m:\u001b[36m85\u001b[0m - \u001b[1mCombining labels for Scan(subid=1321, sesid=20201020)\u001b[0m\n",
      "\u001b[32m2024-11-05 16:35:01.224\u001b[0m | \u001b[32m\u001b[1mSUCCESS \u001b[0m | \u001b[36mmonai_training.preprocess\u001b[0m:\u001b[36mlog\u001b[0m:\u001b[36m22\u001b[0m - \u001b[32m\u001b[1mSaved /media/smbshare/3Tpioneer_bids/sub-ms1321/ses-20201020/choroid_t1_flair-CH.pineal-SRS.pituitary-CH.nii.gz\u001b[0m\n",
      "\u001b[32m2024-11-05 16:35:01.229\u001b[0m | \u001b[1mINFO    \u001b[0m | \u001b[36mmri_data.utils\u001b[0m:\u001b[36mcombine_labels\u001b[0m:\u001b[36m85\u001b[0m - \u001b[1mCombining labels for Scan(subid=1547, sesid=20220321)\u001b[0m\n",
      "\u001b[32m2024-11-05 16:35:01.248\u001b[0m | \u001b[32m\u001b[1mSUCCESS \u001b[0m | \u001b[36mmonai_training.preprocess\u001b[0m:\u001b[36mlog\u001b[0m:\u001b[36m22\u001b[0m - \u001b[32m\u001b[1mSaved /media/smbshare/3Tpioneer_bids/sub-ms1547/ses-20220321/choroid_t1_flair-ED.pineal-SRS.pituitary-CH.nii.gz\u001b[0m\n",
      " 67%|██████▋   | 24/36 [00:04<00:02,  4.44it/s]\u001b[32m2024-11-05 16:35:01.253\u001b[0m | \u001b[1mINFO    \u001b[0m | \u001b[36mmri_data.utils\u001b[0m:\u001b[36mcombine_labels\u001b[0m:\u001b[36m85\u001b[0m - \u001b[1mCombining labels for Scan(subid=2164, sesid=20200113)\u001b[0m\n",
      "\u001b[32m2024-11-05 16:35:01.273\u001b[0m | \u001b[33m\u001b[1mWARNING \u001b[0m | \u001b[36mmonai_training.preprocess\u001b[0m:\u001b[36mprepare_labels\u001b[0m:\u001b[36m206\u001b[0m - \u001b[33m\u001b[1mCouldn't prepare image for Scan(subid=2164, sesid=20200113)\u001b[0m\n",
      "\u001b[32m2024-11-05 16:35:01.279\u001b[0m | \u001b[1mINFO    \u001b[0m | \u001b[36mmri_data.utils\u001b[0m:\u001b[36mcombine_labels\u001b[0m:\u001b[36m85\u001b[0m - \u001b[1mCombining labels for Scan(subid=2083, sesid=20170502)\u001b[0m\n",
      "\u001b[32m2024-11-05 16:35:01.298\u001b[0m | \u001b[32m\u001b[1mSUCCESS \u001b[0m | \u001b[36mmonai_training.preprocess\u001b[0m:\u001b[36mlog\u001b[0m:\u001b[36m22\u001b[0m - \u001b[32m\u001b[1mSaved /media/smbshare/3Tpioneer_bids/sub-ms2083/ses-20170502/choroid_t1_flair-ED.pineal-SRS.pituitary-CH.nii.gz\u001b[0m\n",
      "\u001b[32m2024-11-05 16:35:01.303\u001b[0m | \u001b[1mINFO    \u001b[0m | \u001b[36mmri_data.utils\u001b[0m:\u001b[36mcombine_labels\u001b[0m:\u001b[36m85\u001b[0m - \u001b[1mCombining labels for Scan(subid=2132, sesid=20190825)\u001b[0m\n",
      "\u001b[32m2024-11-05 16:35:01.319\u001b[0m | \u001b[33m\u001b[1mWARNING \u001b[0m | \u001b[36mmonai_training.preprocess\u001b[0m:\u001b[36mprepare_labels\u001b[0m:\u001b[36m206\u001b[0m - \u001b[33m\u001b[1mCouldn't prepare image for Scan(subid=2132, sesid=20190825)\u001b[0m\n",
      "\u001b[32m2024-11-05 16:35:01.324\u001b[0m | \u001b[1mINFO    \u001b[0m | \u001b[36mmri_data.utils\u001b[0m:\u001b[36mcombine_labels\u001b[0m:\u001b[36m85\u001b[0m - \u001b[1mCombining labels for Scan(subid=1011, sesid=20180911)\u001b[0m\n",
      "\u001b[32m2024-11-05 16:35:01.350\u001b[0m | \u001b[32m\u001b[1mSUCCESS \u001b[0m | \u001b[36mmonai_training.preprocess\u001b[0m:\u001b[36mlog\u001b[0m:\u001b[36m22\u001b[0m - \u001b[32m\u001b[1mSaved /media/smbshare/3Tpioneer_bids/sub-ms1011/ses-20180911/choroid_t1_flair-CH.pineal-CH.pituitary-CH.nii.gz\u001b[0m\n",
      " 78%|███████▊  | 28/36 [00:04<00:01,  6.07it/s]\u001b[32m2024-11-05 16:35:01.356\u001b[0m | \u001b[1mINFO    \u001b[0m | \u001b[36mmri_data.utils\u001b[0m:\u001b[36mcombine_labels\u001b[0m:\u001b[36m85\u001b[0m - \u001b[1mCombining labels for Scan(subid=1293, sesid=20161129)\u001b[0m\n",
      "\u001b[32m2024-11-05 16:35:01.374\u001b[0m | \u001b[32m\u001b[1mSUCCESS \u001b[0m | \u001b[36mmonai_training.preprocess\u001b[0m:\u001b[36mlog\u001b[0m:\u001b[36m22\u001b[0m - \u001b[32m\u001b[1mSaved /media/smbshare/3Tpioneer_bids/sub-ms1293/ses-20161129/choroid_t1_flair-ED.pineal-SRS.pituitary-CH.nii.gz\u001b[0m\n",
      "\u001b[32m2024-11-05 16:35:01.379\u001b[0m | \u001b[1mINFO    \u001b[0m | \u001b[36mmri_data.utils\u001b[0m:\u001b[36mcombine_labels\u001b[0m:\u001b[36m85\u001b[0m - \u001b[1mCombining labels for Scan(subid=2081, sesid=20170204)\u001b[0m\n",
      "\u001b[32m2024-11-05 16:35:01.398\u001b[0m | \u001b[32m\u001b[1mSUCCESS \u001b[0m | \u001b[36mmonai_training.preprocess\u001b[0m:\u001b[36mlog\u001b[0m:\u001b[36m22\u001b[0m - \u001b[32m\u001b[1mSaved /media/smbshare/3Tpioneer_bids/sub-ms2081/ses-20170204/choroid_t1_flair-ED.pineal-SRS.pituitary-CH.nii.gz\u001b[0m\n",
      "\u001b[32m2024-11-05 16:35:01.402\u001b[0m | \u001b[1mINFO    \u001b[0m | \u001b[36mmri_data.utils\u001b[0m:\u001b[36mcombine_labels\u001b[0m:\u001b[36m85\u001b[0m - \u001b[1mCombining labels for Scan(subid=1080, sesid=20180416)\u001b[0m\n",
      "\u001b[32m2024-11-05 16:35:01.421\u001b[0m | \u001b[32m\u001b[1mSUCCESS \u001b[0m | \u001b[36mmonai_training.preprocess\u001b[0m:\u001b[36mlog\u001b[0m:\u001b[36m22\u001b[0m - \u001b[32m\u001b[1mSaved /media/smbshare/3Tpioneer_bids/sub-ms1080/ses-20180416/choroid_t1_flair-ED.pineal-CH.pituitary-CH.nii.gz\u001b[0m\n",
      "\u001b[32m2024-11-05 16:35:01.425\u001b[0m | \u001b[1mINFO    \u001b[0m | \u001b[36mmri_data.utils\u001b[0m:\u001b[36mcombine_labels\u001b[0m:\u001b[36m85\u001b[0m - \u001b[1mCombining labels for Scan(subid=2146, sesid=20191017)\u001b[0m\n",
      "\u001b[32m2024-11-05 16:35:01.444\u001b[0m | \u001b[33m\u001b[1mWARNING \u001b[0m | \u001b[36mmonai_training.preprocess\u001b[0m:\u001b[36mprepare_labels\u001b[0m:\u001b[36m206\u001b[0m - \u001b[33m\u001b[1mCouldn't prepare image for Scan(subid=2146, sesid=20191017)\u001b[0m\n",
      "\u001b[32m2024-11-05 16:35:01.448\u001b[0m | \u001b[1mINFO    \u001b[0m | \u001b[36mmri_data.utils\u001b[0m:\u001b[36mcombine_labels\u001b[0m:\u001b[36m85\u001b[0m - \u001b[1mCombining labels for Scan(subid=1265, sesid=20180127)\u001b[0m\n",
      "\u001b[32m2024-11-05 16:35:01.467\u001b[0m | \u001b[32m\u001b[1mSUCCESS \u001b[0m | \u001b[36mmonai_training.preprocess\u001b[0m:\u001b[36mlog\u001b[0m:\u001b[36m22\u001b[0m - \u001b[32m\u001b[1mSaved /media/smbshare/3Tpioneer_bids/sub-ms1265/ses-20180127/choroid_t1_flair-CH.pineal-SRS.pituitary-CH.nii.gz\u001b[0m\n",
      " 92%|█████████▏| 33/36 [00:04<00:00,  8.69it/s]\u001b[32m2024-11-05 16:35:01.472\u001b[0m | \u001b[1mINFO    \u001b[0m | \u001b[36mmri_data.utils\u001b[0m:\u001b[36mcombine_labels\u001b[0m:\u001b[36m85\u001b[0m - \u001b[1mCombining labels for Scan(subid=1486, sesid=20210224)\u001b[0m\n",
      "\u001b[32m2024-11-05 16:35:01.492\u001b[0m | \u001b[32m\u001b[1mSUCCESS \u001b[0m | \u001b[36mmonai_training.preprocess\u001b[0m:\u001b[36mlog\u001b[0m:\u001b[36m22\u001b[0m - \u001b[32m\u001b[1mSaved /media/smbshare/3Tpioneer_bids/sub-ms1486/ses-20210224/choroid_t1_flair-CH.pineal-SRS.pituitary-CH.nii.gz\u001b[0m\n",
      "\u001b[32m2024-11-05 16:35:01.498\u001b[0m | \u001b[1mINFO    \u001b[0m | \u001b[36mmri_data.utils\u001b[0m:\u001b[36mcombine_labels\u001b[0m:\u001b[36m85\u001b[0m - \u001b[1mCombining labels for Scan(subid=1191, sesid=20190124)\u001b[0m\n",
      "\u001b[32m2024-11-05 16:35:01.517\u001b[0m | \u001b[32m\u001b[1mSUCCESS \u001b[0m | \u001b[36mmonai_training.preprocess\u001b[0m:\u001b[36mlog\u001b[0m:\u001b[36m22\u001b[0m - \u001b[32m\u001b[1mSaved /media/smbshare/3Tpioneer_bids/sub-ms1191/ses-20190124/choroid_t1_flair-CH.pineal-SRS.pituitary-CH.nii.gz\u001b[0m\n",
      "\u001b[32m2024-11-05 16:35:01.521\u001b[0m | \u001b[1mINFO    \u001b[0m | \u001b[36mmri_data.utils\u001b[0m:\u001b[36mcombine_labels\u001b[0m:\u001b[36m85\u001b[0m - \u001b[1mCombining labels for Scan(subid=1033, sesid=20171117)\u001b[0m\n",
      "\u001b[32m2024-11-05 16:35:01.539\u001b[0m | \u001b[32m\u001b[1mSUCCESS \u001b[0m | \u001b[36mmonai_training.preprocess\u001b[0m:\u001b[36mlog\u001b[0m:\u001b[36m22\u001b[0m - \u001b[32m\u001b[1mSaved /media/smbshare/3Tpioneer_bids/sub-ms1033/ses-20171117/choroid_t1_flair-CH.pineal-CH.pituitary-CH.nii.gz\u001b[0m\n",
      "100%|██████████| 36/36 [00:04<00:00,  7.73it/s]\n",
      "\u001b[32m2024-11-05 16:35:01.539\u001b[0m | \u001b[1mINFO    \u001b[0m | \u001b[36mmonai_training.preprocess\u001b[0m:\u001b[36mprepare_labels\u001b[0m:\u001b[36m229\u001b[0m - \u001b[1mDataset size: 29\u001b[0m\n",
      "\u001b[32m2024-11-05 16:35:01.539\u001b[0m | \u001b[1mINFO    \u001b[0m | \u001b[36mmonai_training.preprocess\u001b[0m:\u001b[36mprepare_images\u001b[0m:\u001b[36m107\u001b[0m - \u001b[1mPrepare Images\u001b[0m\n",
      "100%|██████████| 29/29 [00:00<00:00, 508.06it/s]\n"
     ]
    }
   ],
   "source": [
    "dataset_proc.prepare_labels([\"choroid_t1_flair\", \"pineal\", \"pituitary\"], [\"CH\", \"SRS\", \"DT\", \"ED\"])\n",
    "dataset_proc.prepare_images([\"flair\", \"t1\"])"
   ]
  },
  {
   "cell_type": "code",
   "execution_count": 34,
   "metadata": {},
   "outputs": [
    {
     "name": "stdout",
     "output_type": "stream",
     "text": [
      "itksnap -g /media/smbshare/3Tpioneer_bids/sub-ms1437/ses-20210503/flair.nii.gz -o /media/smbshare/3Tpioneer_bids/sub-ms1437/ses-20210503/t1.nii.gz -s /media/smbshare/3Tpioneer_bids/sub-ms1437/ses-20210503/choroid_t1_flair-CH.pineal-SRS.pituitary-CH.nii.gz\n",
      "itksnap -g /media/smbshare/3Tpioneer_bids/sub-ms1019/ses-20190608/flair.nii.gz -o /media/smbshare/3Tpioneer_bids/sub-ms1019/ses-20190608/t1.nii.gz -s /media/smbshare/3Tpioneer_bids/sub-ms1019/ses-20190608/choroid_t1_flair-CH.pineal-CH.pituitary-CH.nii.gz\n",
      "itksnap -g /media/smbshare/3Tpioneer_bids/sub-ms2144/ses-20190422/flair.nii.gz -o /media/smbshare/3Tpioneer_bids/sub-ms2144/ses-20190422/t1.nii.gz -s /media/smbshare/3Tpioneer_bids/sub-ms2144/ses-20190422/choroid_t1_flair-ED.pineal-SRS.pituitary-CH.nii.gz\n",
      "itksnap -g /media/smbshare/3Tpioneer_bids/sub-ms1065/ses-20170127/flair.nii.gz -o /media/smbshare/3Tpioneer_bids/sub-ms1065/ses-20170127/t1.nii.gz -s /media/smbshare/3Tpioneer_bids/sub-ms1065/ses-20170127/choroid_t1_flair-ED.pineal-CH.pituitary-CH.nii.gz\n",
      "itksnap -g /media/smbshare/3Tpioneer_bids/sub-ms1548/ses-20210628/flair.nii.gz -o /media/smbshare/3Tpioneer_bids/sub-ms1548/ses-20210628/t1.nii.gz -s /media/smbshare/3Tpioneer_bids/sub-ms1548/ses-20210628/choroid_t1_flair-CH.pineal-SRS.pituitary-CH.nii.gz\n",
      "itksnap -g /media/smbshare/3Tpioneer_bids/sub-ms1109/ses-20180303/flair.nii.gz -o /media/smbshare/3Tpioneer_bids/sub-ms1109/ses-20180303/t1.nii.gz -s /media/smbshare/3Tpioneer_bids/sub-ms1109/ses-20180303/choroid_t1_flair-ED.pineal-CH.pituitary-CH.nii.gz\n",
      "itksnap -g /media/smbshare/3Tpioneer_bids/sub-ms1188/ses-20200720/flair.nii.gz -o /media/smbshare/3Tpioneer_bids/sub-ms1188/ses-20200720/t1.nii.gz -s /media/smbshare/3Tpioneer_bids/sub-ms1188/ses-20200720/choroid_t1_flair-ED.pineal-CH.pituitary-CH.nii.gz\n",
      "itksnap -g /media/smbshare/3Tpioneer_bids/sub-ms1163/ses-20180907/flair.nii.gz -o /media/smbshare/3Tpioneer_bids/sub-ms1163/ses-20180907/t1.nii.gz -s /media/smbshare/3Tpioneer_bids/sub-ms1163/ses-20180907/choroid_t1_flair-CH.pineal-CH.pituitary-CH.nii.gz\n",
      "itksnap -g /media/smbshare/3Tpioneer_bids/sub-ms1498/ses-20210602/flair.nii.gz -o /media/smbshare/3Tpioneer_bids/sub-ms1498/ses-20210602/t1.nii.gz -s /media/smbshare/3Tpioneer_bids/sub-ms1498/ses-20210602/choroid_t1_flair-ED.pineal-SRS.pituitary-CH.nii.gz\n",
      "itksnap -g /media/smbshare/3Tpioneer_bids/sub-ms1234/ses-20180214/flair.nii.gz -o /media/smbshare/3Tpioneer_bids/sub-ms1234/ses-20180214/t1.nii.gz -s /media/smbshare/3Tpioneer_bids/sub-ms1234/ses-20180214/choroid_t1_flair-ED.pineal-SRS.pituitary-CH.nii.gz\n",
      "itksnap -g /media/smbshare/3Tpioneer_bids/sub-ms1518/ses-20220216/flair.nii.gz -o /media/smbshare/3Tpioneer_bids/sub-ms1518/ses-20220216/t1.nii.gz -s /media/smbshare/3Tpioneer_bids/sub-ms1518/ses-20220216/choroid_t1_flair-CH.pineal-SRS.pituitary-CH.nii.gz\n",
      "itksnap -g /media/smbshare/3Tpioneer_bids/sub-ms1540/ses-20201222/flair.nii.gz -o /media/smbshare/3Tpioneer_bids/sub-ms1540/ses-20201222/t1.nii.gz -s /media/smbshare/3Tpioneer_bids/sub-ms1540/ses-20201222/choroid_t1_flair-CH.pineal-SRS.pituitary-CH.nii.gz\n",
      "itksnap -g /media/smbshare/3Tpioneer_bids/sub-ms1010/ses-20180208/flair.nii.gz -o /media/smbshare/3Tpioneer_bids/sub-ms1010/ses-20180208/t1.nii.gz -s /media/smbshare/3Tpioneer_bids/sub-ms1010/ses-20180208/choroid_t1_flair-CH.pineal-CH.pituitary-CH.nii.gz\n",
      "itksnap -g /media/smbshare/3Tpioneer_bids/sub-ms1355/ses-20210104/flair.nii.gz -o /media/smbshare/3Tpioneer_bids/sub-ms1355/ses-20210104/t1.nii.gz -s /media/smbshare/3Tpioneer_bids/sub-ms1355/ses-20210104/choroid_t1_flair-ED.pineal-SRS.pituitary-CH.nii.gz\n",
      "itksnap -g /media/smbshare/3Tpioneer_bids/sub-ms1280/ses-20220317/flair.nii.gz -o /media/smbshare/3Tpioneer_bids/sub-ms1280/ses-20220317/t1.nii.gz -s /media/smbshare/3Tpioneer_bids/sub-ms1280/ses-20220317/choroid_t1_flair-ED.pineal-SRS.pituitary-CH.nii.gz\n",
      "itksnap -g /media/smbshare/3Tpioneer_bids/sub-ms1259/ses-20200803/flair.nii.gz -o /media/smbshare/3Tpioneer_bids/sub-ms1259/ses-20200803/t1.nii.gz -s /media/smbshare/3Tpioneer_bids/sub-ms1259/ses-20200803/choroid_t1_flair-ED.pineal-SRS.pituitary-CH.nii.gz\n",
      "itksnap -g /media/smbshare/3Tpioneer_bids/sub-ms1119/ses-20161010/flair.nii.gz -o /media/smbshare/3Tpioneer_bids/sub-ms1119/ses-20161010/t1.nii.gz -s /media/smbshare/3Tpioneer_bids/sub-ms1119/ses-20161010/choroid_t1_flair-CH.pineal-CH.pituitary-CH.nii.gz\n",
      "itksnap -g /media/smbshare/3Tpioneer_bids/sub-ms1272/ses-20211105/flair.nii.gz -o /media/smbshare/3Tpioneer_bids/sub-ms1272/ses-20211105/t1.nii.gz -s /media/smbshare/3Tpioneer_bids/sub-ms1272/ses-20211105/choroid_t1_flair-ED.pineal-SRS.pituitary-CH.nii.gz\n",
      "itksnap -g /media/smbshare/3Tpioneer_bids/sub-ms1321/ses-20201020/flair.nii.gz -o /media/smbshare/3Tpioneer_bids/sub-ms1321/ses-20201020/t1.nii.gz -s /media/smbshare/3Tpioneer_bids/sub-ms1321/ses-20201020/choroid_t1_flair-CH.pineal-SRS.pituitary-CH.nii.gz\n",
      "itksnap -g /media/smbshare/3Tpioneer_bids/sub-ms1547/ses-20220321/flair.nii.gz -o /media/smbshare/3Tpioneer_bids/sub-ms1547/ses-20220321/t1.nii.gz -s /media/smbshare/3Tpioneer_bids/sub-ms1547/ses-20220321/choroid_t1_flair-ED.pineal-SRS.pituitary-CH.nii.gz\n",
      "itksnap -g /media/smbshare/3Tpioneer_bids/sub-ms2083/ses-20170502/flair.nii.gz -o /media/smbshare/3Tpioneer_bids/sub-ms2083/ses-20170502/t1.nii.gz -s /media/smbshare/3Tpioneer_bids/sub-ms2083/ses-20170502/choroid_t1_flair-ED.pineal-SRS.pituitary-CH.nii.gz\n",
      "itksnap -g /media/smbshare/3Tpioneer_bids/sub-ms1011/ses-20180911/flair.nii.gz -o /media/smbshare/3Tpioneer_bids/sub-ms1011/ses-20180911/t1.nii.gz -s /media/smbshare/3Tpioneer_bids/sub-ms1011/ses-20180911/choroid_t1_flair-CH.pineal-CH.pituitary-CH.nii.gz\n",
      "itksnap -g /media/smbshare/3Tpioneer_bids/sub-ms1293/ses-20161129/flair.nii.gz -o /media/smbshare/3Tpioneer_bids/sub-ms1293/ses-20161129/t1.nii.gz -s /media/smbshare/3Tpioneer_bids/sub-ms1293/ses-20161129/choroid_t1_flair-ED.pineal-SRS.pituitary-CH.nii.gz\n",
      "itksnap -g /media/smbshare/3Tpioneer_bids/sub-ms2081/ses-20170204/flair.nii.gz -o /media/smbshare/3Tpioneer_bids/sub-ms2081/ses-20170204/t1.nii.gz -s /media/smbshare/3Tpioneer_bids/sub-ms2081/ses-20170204/choroid_t1_flair-ED.pineal-SRS.pituitary-CH.nii.gz\n",
      "itksnap -g /media/smbshare/3Tpioneer_bids/sub-ms1080/ses-20180416/flair.nii.gz -o /media/smbshare/3Tpioneer_bids/sub-ms1080/ses-20180416/t1.nii.gz -s /media/smbshare/3Tpioneer_bids/sub-ms1080/ses-20180416/choroid_t1_flair-ED.pineal-CH.pituitary-CH.nii.gz\n",
      "itksnap -g /media/smbshare/3Tpioneer_bids/sub-ms1265/ses-20180127/flair.nii.gz -o /media/smbshare/3Tpioneer_bids/sub-ms1265/ses-20180127/t1.nii.gz -s /media/smbshare/3Tpioneer_bids/sub-ms1265/ses-20180127/choroid_t1_flair-CH.pineal-SRS.pituitary-CH.nii.gz\n",
      "itksnap -g /media/smbshare/3Tpioneer_bids/sub-ms1486/ses-20210224/flair.nii.gz -o /media/smbshare/3Tpioneer_bids/sub-ms1486/ses-20210224/t1.nii.gz -s /media/smbshare/3Tpioneer_bids/sub-ms1486/ses-20210224/choroid_t1_flair-CH.pineal-SRS.pituitary-CH.nii.gz\n",
      "itksnap -g /media/smbshare/3Tpioneer_bids/sub-ms1191/ses-20190124/flair.nii.gz -o /media/smbshare/3Tpioneer_bids/sub-ms1191/ses-20190124/t1.nii.gz -s /media/smbshare/3Tpioneer_bids/sub-ms1191/ses-20190124/choroid_t1_flair-CH.pineal-SRS.pituitary-CH.nii.gz\n",
      "itksnap -g /media/smbshare/3Tpioneer_bids/sub-ms1033/ses-20171117/flair.nii.gz -o /media/smbshare/3Tpioneer_bids/sub-ms1033/ses-20171117/t1.nii.gz -s /media/smbshare/3Tpioneer_bids/sub-ms1033/ses-20171117/choroid_t1_flair-CH.pineal-CH.pituitary-CH.nii.gz\n"
     ]
    }
   ],
   "source": [
    "for scan in dataset_proc.dataset:\n",
    "    images = [str(scan.root / \"flair.nii.gz\"), str(scan.root / \"t1.nii.gz\")]\n",
    "    labels = [str(scan.label_path)]\n",
    "    cmd = utils.open_itksnap_workspace_cmd(images, labels)\n",
    "    print(cmd)"
   ]
  },
  {
   "cell_type": "code",
   "execution_count": 31,
   "metadata": {},
   "outputs": [
    {
     "data": {
      "text/plain": [
       "['thoo.nii.gz']"
      ]
     },
     "execution_count": 31,
     "metadata": {},
     "output_type": "execute_result"
    }
   ],
   "source": [
    "labels = [\"thoo.nii.gz\"]\n",
    "\" -s \".join(labels).split(\" \")"
   ]
  },
  {
   "cell_type": "code",
   "execution_count": 22,
   "metadata": {},
   "outputs": [
    {
     "data": {
      "text/plain": [
       "{1152, 2097, 2126, 2132, 2146, 2164, 2187}"
      ]
     },
     "execution_count": 22,
     "metadata": {},
     "output_type": "execute_result"
    }
   ],
   "source": [
    "dataset = dataset_proc.dataset\n",
    "subjs = set([int(scan.subid) for scan in dataset])\n",
    "\n",
    "set(subjects) - subjs"
   ]
  },
  {
   "cell_type": "code",
   "execution_count": 23,
   "metadata": {},
   "outputs": [
    {
     "data": {
      "text/plain": [
       "1003.0"
      ]
     },
     "execution_count": 23,
     "metadata": {},
     "output_type": "execute_result"
    }
   ],
   "source": [
    "result.outputs.out_stat[1]"
   ]
  }
 ],
 "metadata": {
  "kernelspec": {
   "display_name": "monai",
   "language": "python",
   "name": "python3"
  },
  "language_info": {
   "codemirror_mode": {
    "name": "ipython",
    "version": 3
   },
   "file_extension": ".py",
   "mimetype": "text/x-python",
   "name": "python",
   "nbconvert_exporter": "python",
   "pygments_lexer": "ipython3",
   "version": "3.12.7"
  }
 },
 "nbformat": 4,
 "nbformat_minor": 2
}
