{
 "cells": [
  {
   "cell_type": "code",
   "execution_count": 32,
   "metadata": {},
   "outputs": [],
   "source": [
    "from pathlib import Path\n",
    "from datetime import date, timedelta\n",
    "import re\n",
    "\n",
    "from mri_data import file_manager as fm "
   ]
  },
  {
   "cell_type": "code",
   "execution_count": 2,
   "metadata": {},
   "outputs": [],
   "source": [
    "dataroot = Path(\"/mnt/h/3Tpioneer_bids\")\n",
    "dataset = fm.scan_3Tpioneer_bids(dataroot)"
   ]
  },
  {
   "cell_type": "code",
   "execution_count": 5,
   "metadata": {},
   "outputs": [
    {
     "data": {
      "text/plain": [
       "(Scan(subid='1001', sesid='20170215', _dataroot=PosixPath('/mnt/h/3Tpioneer_bids'), _root=PosixPath('/mnt/h/3Tpioneer_bids/sub-ms1001/ses-20170215'), image=None, label=None, cond=None, id=20190385215),\n",
       " Scan(subid='1001', sesid='20180323', _dataroot=PosixPath('/mnt/h/3Tpioneer_bids'), _root=PosixPath('/mnt/h/3Tpioneer_bids/sub-ms1001/ses-20180323'), image=None, label=None, cond=None, id=20200503323),\n",
       " Scan(subid='1001', sesid='20200523', _dataroot=PosixPath('/mnt/h/3Tpioneer_bids'), _root=PosixPath('/mnt/h/3Tpioneer_bids/sub-ms1001/ses-20200523'), image=None, label=None, cond=None, id=20220723523))"
      ]
     },
     "execution_count": 5,
     "metadata": {},
     "output_type": "execute_result"
    }
   ],
   "source": [
    "subjects = sorted(list(set([s.subid for s in dataset])))"
   ]
  },
  {
   "cell_type": "code",
   "execution_count": 20,
   "metadata": {},
   "outputs": [],
   "source": [
    "def sesid_to_date(sesid):\n",
    "    sesid_match = re.match(r\"(?P<yyyy>\\d{4})(?P<mm>\\d{2})(?P<dd>\\d{2})\", sesid)\n",
    "    return date(int(sesid_match['yyyy']), int(sesid_match['mm']), int(sesid_match['dd']))"
   ]
  },
  {
   "cell_type": "code",
   "execution_count": 49,
   "metadata": {},
   "outputs": [
    {
     "name": "stdout",
     "output_type": "stream",
     "text": [
      "2.786086956521739\n",
      "10\n"
     ]
    }
   ],
   "source": [
    "nscans = [len(dataset.find_scan(sub)) for sub in subjects]\n",
    "avg_nscan = sum(nscans) / len(nscans)\n",
    "max_nscans = max(nscans)\n",
    "print(avg_nscan)\n",
    "print(max_nscans)"
   ]
  },
  {
   "cell_type": "code",
   "execution_count": 48,
   "metadata": {},
   "outputs": [],
   "source": [
    "lon_interval = []\n",
    "for sub in subjects:\n",
    "    scans = dataset.find_scan(sub)\n",
    "    lon_interval.append(sesid_to_date(scans[-1].sesid) - sesid_to_date(scans[0].sesid))\n",
    "\n",
    "lon_interval = [interval.days for interval in lon_interval if interval != timedelta(0)]\n",
    "avg_interval = sum(lon_interval) / len(lon_interval) / 365\n",
    "max_interval = max(lon_interval) / 365"
   ]
  },
  {
   "cell_type": "code",
   "execution_count": 70,
   "metadata": {},
   "outputs": [
    {
     "name": "stdout",
     "output_type": "stream",
     "text": [
      "2017-02-15\n",
      "2018-03-23\n",
      "False\n",
      "2016-09-02\n"
     ]
    }
   ],
   "source": [
    "all_sesids = [s.sesid for s in dataset]\n",
    "all_dates = [sesid_to_date(sesid) for sesid in all_sesids]\n",
    "\n",
    "print(all_dates[0])\n",
    "print(all_dates[1])\n",
    "print(all_dates[0] > all_dates[1])\n",
    "print(min(all_dates))"
   ]
  },
  {
   "cell_type": "markdown",
   "metadata": {},
   "source": [
    "## Clinical Characteristics"
   ]
  },
  {
   "cell_type": "code",
   "execution_count": 50,
   "metadata": {},
   "outputs": [],
   "source": [
    "import pandas as pd"
   ]
  },
  {
   "cell_type": "code",
   "execution_count": 52,
   "metadata": {},
   "outputs": [],
   "source": [
    "secure_data_dir = Path(\"/mnt/h/Secure_Data\")\n",
    "df = pd.read_csv(secure_data_dir / \"Large\" / \"Clinical_Data_All.csv\")"
   ]
  },
  {
   "cell_type": "code",
   "execution_count": 58,
   "metadata": {},
   "outputs": [
    {
     "name": "stdout",
     "output_type": "stream",
     "text": [
      "n MS:  448\n",
      "n RRMS:  361\n",
      "n SPMS:  52\n",
      "n PPMS:  35\n"
     ]
    }
   ],
   "source": [
    "df_rrms = df.loc[df['ms_type'] == \"RRMS\"]\n",
    "df_spms = df.loc[df['ms_type'] == \"SPMS\"]\n",
    "df_ppms = df.loc[df['ms_type'] == \"PPMS\"]\n",
    "\n",
    "ms_tot = len(df_rrms) + len(df_ppms) + len(df_spms)\n",
    "print(\"n MS: \", ms_tot)\n",
    "print(\"n RRMS: \", len(df_rrms))\n",
    "print(\"n SPMS: \", len(df_spms))\n",
    "print(\"n PPMS: \", len(df_ppms))"
   ]
  },
  {
   "cell_type": "code",
   "execution_count": 65,
   "metadata": {},
   "outputs": [],
   "source": [
    "df_ms = pd.concat([df_rrms, df_spms, df_ppms])\n",
    "df_ms['dzdur'] = df_ms['dzdur'].map(float)"
   ]
  },
  {
   "cell_type": "code",
   "execution_count": 71,
   "metadata": {},
   "outputs": [
    {
     "name": "stdout",
     "output_type": "stream",
     "text": [
      "12.287590151089287\n",
      "-2.077971856\n",
      "54.88692986\n"
     ]
    }
   ],
   "source": [
    "print(df_ms['dzdur'].mean())\n",
    "print(df_ms['dzdur'].min())\n",
    "print(df_ms['dzdur'].max())"
   ]
  },
  {
   "cell_type": "code",
   "execution_count": 67,
   "metadata": {},
   "outputs": [
    {
     "data": {
      "text/plain": [
       "0.7890070921985816"
      ]
     },
     "execution_count": 67,
     "metadata": {},
     "output_type": "execute_result"
    }
   ],
   "source": [
    "sum(df['sex'] == \"Female\") / len(df)"
   ]
  }
 ],
 "metadata": {
  "kernelspec": {
   "display_name": "monai",
   "language": "python",
   "name": "python3"
  },
  "language_info": {
   "codemirror_mode": {
    "name": "ipython",
    "version": 3
   },
   "file_extension": ".py",
   "mimetype": "text/x-python",
   "name": "python",
   "nbconvert_exporter": "python",
   "pygments_lexer": "ipython3",
   "version": "3.12.4"
  }
 },
 "nbformat": 4,
 "nbformat_minor": 2
}
