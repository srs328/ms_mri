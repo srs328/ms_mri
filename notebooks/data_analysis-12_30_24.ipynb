{
 "cells": [
  {
   "cell_type": "code",
   "execution_count": 1,
   "metadata": {},
   "outputs": [],
   "source": [
    "import pandas as pd\n",
    "from reload_recursive import reload_recursive\n",
    "import os\n",
    "from loguru import logger\n",
    "from pathlib import Path\n",
    "import json\n",
    "import numpy as np\n",
    "from tqdm.notebook import tqdm\n",
    "import re\n",
    "import sys\n",
    "\n",
    "import mri_data\n",
    "import monai_training"
   ]
  },
  {
   "cell_type": "code",
   "execution_count": 2,
   "metadata": {},
   "outputs": [],
   "source": [
    "reload_recursive(mri_data)\n",
    "reload_recursive(monai_training)\n",
    "\n",
    "from mri_data.file_manager import DataSet, scan_3Tpioneer_bids\n",
    "from mri_data import file_manager as fm\n",
    "from mri_data import utils\n",
    "from monai_training.preprocess import DataSetProcesser"
   ]
  },
  {
   "cell_type": "code",
   "execution_count": 3,
   "metadata": {},
   "outputs": [],
   "source": [
    "logger.remove()"
   ]
  },
  {
   "cell_type": "code",
   "execution_count": 4,
   "metadata": {},
   "outputs": [],
   "source": [
    "to_load = True\n",
    "drive_root = fm.get_drive_root()\n",
    "msmri_home = Path(\"/home/srs-9/Projects/ms_mri\")\n",
    "inference_root = drive_root / \"3Tpioneer_bids_predictions\"\n",
    "dataroot = drive_root / \"3Tpioneer_bids\"\n",
    "clinical_data_root = drive_root / \"Secure_Data\" / \"Large\"\n",
    "project_dataroot = msmri_home / \"data\""
   ]
  },
  {
   "cell_type": "code",
   "execution_count": 5,
   "metadata": {},
   "outputs": [
    {
     "data": {
      "text/plain": [
       "PosixPath('/media/smbshare/Secure_Data/Large')"
      ]
     },
     "execution_count": 5,
     "metadata": {},
     "output_type": "execute_result"
    }
   ],
   "source": [
    "clinical_data_root"
   ]
  },
  {
   "cell_type": "code",
   "execution_count": 6,
   "metadata": {},
   "outputs": [],
   "source": [
    "def subject_to_subid(subject):\n",
    "    if not isinstance(subject, str):\n",
    "        return None\n",
    "    re_match = re.match(r\"ms(\\d{4})\", subject)\n",
    "    if re_match:\n",
    "        return_val = int(re_match[1])\n",
    "        return return_val\n",
    "    else:\n",
    "        return None"
   ]
  },
  {
   "cell_type": "markdown",
   "metadata": {},
   "source": [
    "### Data Cleaning\n",
    "\n",
    "- Add column which is subid as int\n",
    "- Set the index to the new column\n",
    "- Remove any rows where subid is NaN\n",
    "- Rename columns\n",
    "- Check \"Working with missing data\" on pandas documentation"
   ]
  },
  {
   "cell_type": "code",
   "execution_count": 7,
   "metadata": {},
   "outputs": [],
   "source": [
    "if not to_load:\n",
    "    df = pd.read_csv(clinical_data_root / \"Clinical_Data_All.csv\")\n",
    "    df = df.convert_dtypes()\n",
    "\n",
    "    # with open(msmri_home / \"data\" / \"clinical_data_columns_full.txt\", 'r') as f:\n",
    "    #     keep_columns = [line.rstrip() for line in f.readlines()]\n",
    "    # df = df[keep_columns]\n",
    "    new_columns = {\n",
    "        \"ID\": \"subject\",\n",
    "        \"age_at_obs_start\": \"age\",\n",
    "    }\n",
    "    df.rename(columns=new_columns, inplace=True)\n",
    "    df[\"subid\"] = df[\"subject\"].apply(subject_to_subid)\n",
    "    df.drop(df[df[\"subid\"].isna()].index, inplace=True)\n",
    "    df[\"subid\"] = df[\"subid\"].astype(int)\n",
    "    df = df.set_index(\"subid\")\n",
    "\n",
    "    new_columns = {}\n",
    "    for col in df.columns:\n",
    "        new_columns[col] = col.replace(\" \", \"_\")\n",
    "    df.rename(columns=new_columns, inplace=True)\n",
    "    df.head()"
   ]
  },
  {
   "cell_type": "markdown",
   "metadata": {},
   "source": [
    "### Additional Data\n",
    "\n",
    "- ROI size"
   ]
  },
  {
   "cell_type": "code",
   "execution_count": 8,
   "metadata": {},
   "outputs": [],
   "source": [
    "if to_load:\n",
    "    df = pd.read_csv(project_dataroot / \"clinical_data_full.csv\")\n",
    "    df = df.set_index(\"subid\")\n",
    "    df.index.name = \"subject_id\""
   ]
  },
  {
   "cell_type": "code",
   "execution_count": 9,
   "metadata": {},
   "outputs": [],
   "source": [
    "if not to_load:\n",
    "    dataset_proc = DataSetProcesser.new_dataset(dataroot, scan_3Tpioneer_bids, filters=[fm.filter_first_ses])\n",
    "    full_dataset = dataset_proc.dataset\n",
    "    dataset_proc.prepare_labels([\"choroid_t1_flair\", \"pineal\", \"pituitary\"], [\"CH\", \"SRS\", \"ED\", \"DT\"])\n",
    "    dataset = dataset_proc.dataset\n",
    "\n",
    "    inference_dataset_proc = DataSetProcesser.new_dataset(inference_root, scan_3Tpioneer_bids, filters=[fm.filter_first_ses])\n",
    "    inference_dataset_proc.prepare_labels(\"flair.t1_choroid_pineal_pituitary3_pred\")\n",
    "    inference_dataset = inference_dataset_proc.dataset"
   ]
  },
  {
   "cell_type": "code",
   "execution_count": 10,
   "metadata": {},
   "outputs": [],
   "source": [
    "try:\n",
    "    df.insert(7, 'tiv', None)\n",
    "except ValueError:\n",
    "    pass\n",
    "try:\n",
    "    df.insert(7, 'pituitary_volume', None)\n",
    "except ValueError:\n",
    "    pass\n",
    "try:\n",
    "    df.insert(7, 'pineal_volume', None)\n",
    "except ValueError:\n",
    "    pass\n",
    "try:\n",
    "    df.insert(7, 'choroid_volume', None)\n",
    "except ValueError:\n",
    "    pass"
   ]
  },
  {
   "cell_type": "code",
   "execution_count": 11,
   "metadata": {},
   "outputs": [],
   "source": [
    "if not to_load:\n",
    "    volumes = dict(pituitary=[], pineal=[], choroid=[], tiv=[], subid=[])\n",
    "    subids = [subid for subid, _ in df.iterrows()]\n",
    "    for subid, _ in tqdm(df.iterrows(), total=len(df)):\n",
    "        scan = dataset.find_scan(subid=str(subid))\n",
    "        if len(scan) == 0:\n",
    "            scan = inference_dataset.find_scan(subid=str(subid))\n",
    "        if len(scan) == 0:\n",
    "            continue\n",
    "        scan = scan[0]\n",
    "\n",
    "        try:\n",
    "            vol_stats = utils.compute_volume(scan.label_path, index_mask_file=scan.label_path)\n",
    "        except Exception:\n",
    "            continue\n",
    "        try:\n",
    "            roi_vols = [stat[1] for stat in vol_stats]\n",
    "        except Exception:\n",
    "            roi_vols = [None, None, None]\n",
    "\n",
    "        if len(roi_vols) < 3:\n",
    "            continue\n",
    "\n",
    "        scan = full_dataset.find_scan(subid=str(subid))[0]\n",
    "        try:\n",
    "            tiv = utils.compute_volume(scan.root / \"t1.mask.nii.gz\")[1]\n",
    "        except Exception:\n",
    "            continue\n",
    "\n",
    "        df.loc[subid, 'choroid_volume'] = roi_vols[0]\n",
    "        df.loc[subid, 'pineal_volume'] = roi_vols[1]\n",
    "        df.loc[subid, 'pituitary_volume'] = roi_vols[2]\n",
    "        df.loc[subid, 'tiv'] = tiv\n",
    "\n",
    "        volumes['choroid'].append(roi_vols[0])\n",
    "        volumes['pineal'].append(roi_vols[1])\n",
    "        volumes['pituitary'].append(roi_vols[2])\n",
    "        volumes['tiv'].append(tiv)\n",
    "        volumes['subid'].append(subid)\n",
    "\n",
    "        files = [item.name for item in os.scandir(scan.root) if item.is_file() and re.match(\"flair=\", item.name)]\n",
    "        if len(files) == 0:\n",
    "            is_contrast = None\n",
    "        else:\n",
    "            is_contrast_file = files[0]\n",
    "            match = re.match(r\"flair=(\\w+)con\", is_contrast_file)\n",
    "            is_contrast = match[1]\n",
    "        \n",
    "        df.loc[subid, \"is_contrast\"] = is_contrast\n",
    "\n",
    "    # df.to_csv(project_dataroot / \"clinical_data_full.csv\")"
   ]
  },
  {
   "cell_type": "code",
   "execution_count": 12,
   "metadata": {},
   "outputs": [
    {
     "data": {
      "application/vnd.jupyter.widget-view+json": {
       "model_id": "aced60b6eec4428cb3dcbd5a3ca4cec0",
       "version_major": 2,
       "version_minor": 0
      },
      "text/plain": [
       "  0%|          | 0/564 [00:00<?, ?it/s]"
      ]
     },
     "metadata": {},
     "output_type": "display_data"
    },
    {
     "ename": "NameError",
     "evalue": "name 'dataset' is not defined",
     "output_type": "error",
     "traceback": [
      "\u001b[0;31m---------------------------------------------------------------------------\u001b[0m",
      "\u001b[0;31mNameError\u001b[0m                                 Traceback (most recent call last)",
      "Cell \u001b[0;32mIn[12], line 4\u001b[0m\n\u001b[1;32m      2\u001b[0m subids \u001b[38;5;241m=\u001b[39m [subid \u001b[38;5;28;01mfor\u001b[39;00m subid, _ \u001b[38;5;129;01min\u001b[39;00m df\u001b[38;5;241m.\u001b[39miterrows()]\n\u001b[1;32m      3\u001b[0m \u001b[38;5;28;01mfor\u001b[39;00m subid, _ \u001b[38;5;129;01min\u001b[39;00m tqdm(df\u001b[38;5;241m.\u001b[39miterrows(), total\u001b[38;5;241m=\u001b[39m\u001b[38;5;28mlen\u001b[39m(df)):\n\u001b[0;32m----> 4\u001b[0m     scan \u001b[38;5;241m=\u001b[39m \u001b[43mdataset\u001b[49m\u001b[38;5;241m.\u001b[39mfind_scan(subid\u001b[38;5;241m=\u001b[39m\u001b[38;5;28mstr\u001b[39m(subid))\n\u001b[1;32m      5\u001b[0m     \u001b[38;5;28;01mif\u001b[39;00m \u001b[38;5;28mlen\u001b[39m(scan) \u001b[38;5;241m==\u001b[39m \u001b[38;5;241m0\u001b[39m:\n\u001b[1;32m      6\u001b[0m         scan \u001b[38;5;241m=\u001b[39m inference_dataset\u001b[38;5;241m.\u001b[39mfind_scan(subid\u001b[38;5;241m=\u001b[39m\u001b[38;5;28mstr\u001b[39m(subid))\n",
      "\u001b[0;31mNameError\u001b[0m: name 'dataset' is not defined"
     ]
    }
   ],
   "source": [
    "# df.insert(3, 'is_contrast', None)\n",
    "subids = [subid for subid, _ in df.iterrows()]\n",
    "for subid, _ in tqdm(df.iterrows(), total=len(df)):\n",
    "    scan = dataset.find_scan(subid=str(subid))\n",
    "    if len(scan) == 0:\n",
    "        scan = inference_dataset.find_scan(subid=str(subid))\n",
    "    if len(scan) == 0:\n",
    "        continue\n",
    "    scan = scan[0].with_root(dataroot)\n",
    "\n",
    "    print(subid)\n",
    "    files = [item.name for item in os.scandir(scan.root) if item.is_file() and re.match(\"flair=\", item.name)]\n",
    "    print(files)\n",
    "    if len(files) == 0:\n",
    "        is_contrast = None\n",
    "    else:\n",
    "        is_contrast_file = files[0]\n",
    "        match = re.match(r\"flair=(\\w+)con\", is_contrast_file)\n",
    "        is_contrast = match[1]\n",
    "    print(\"len files\", len(files))\n",
    "    \n",
    "    df.loc[subid, \"is_contrast\"] = is_contrast\n"
   ]
  },
  {
   "cell_type": "code",
   "execution_count": 46,
   "metadata": {},
   "outputs": [
    {
     "name": "stdout",
     "output_type": "stream",
     "text": [
      "['choroid_resegment1.pineal1.pituitary1.nii.gz', 'flair.t1_choroid_pineal_pituitary2_pred.nii.gz', 'flair.t1_choroid_pineal_pituitary3_pred.nii.gz', 'flair.t1_choroid_resegment1_pred.nii.gz', 'flair.t1_choroid_resegment2_pred.nii.gz', 'flair.t1_choroid_resegment_pred.nii.gz', 'flair.t1_pineal1_pred.nii.gz', 'flair.t1_pineal_pred.nii.gz', 't1', 't1_flair_choroid_pred.nii.gz', 't1_pituitary1_pred.nii.gz', 't1_pituitary_pred.nii.gz', 'tmp_flair.t1_pineal_pred_1729478861.nii.gz', 'tmp_t1_pituitary_pred_1729478771.nii.gz']\n"
     ]
    }
   ],
   "source": [
    "inference_dataset.sort()\n",
    "inference_dataset[0]\n",
    "files = [item.name for item in os.scandir(inference_dataset[0].root)]\n",
    "print(files)"
   ]
  },
  {
   "cell_type": "code",
   "execution_count": 52,
   "metadata": {},
   "outputs": [
    {
     "data": {
      "text/html": [
       "<div>\n",
       "<style scoped>\n",
       "    .dataframe tbody tr th:only-of-type {\n",
       "        vertical-align: middle;\n",
       "    }\n",
       "\n",
       "    .dataframe tbody tr th {\n",
       "        vertical-align: top;\n",
       "    }\n",
       "\n",
       "    .dataframe thead th {\n",
       "        text-align: right;\n",
       "    }\n",
       "</style>\n",
       "<table border=\"1\" class=\"dataframe\">\n",
       "  <thead>\n",
       "    <tr style=\"text-align: right;\">\n",
       "      <th></th>\n",
       "      <th>subject</th>\n",
       "      <th>sz_onset</th>\n",
       "      <th>dzdur</th>\n",
       "      <th>is_contrast</th>\n",
       "      <th>MSSS</th>\n",
       "      <th>gMSSS</th>\n",
       "      <th>ARMSS</th>\n",
       "      <th>sex</th>\n",
       "      <th>choroid_volume</th>\n",
       "      <th>pineal_volume</th>\n",
       "      <th>...</th>\n",
       "      <th>DMT6</th>\n",
       "      <th>%DMT6_overlap</th>\n",
       "      <th>DMT7</th>\n",
       "      <th>%DMT7_overlap</th>\n",
       "      <th>DMT8</th>\n",
       "      <th>%DMT8_overlap</th>\n",
       "      <th>DMT9</th>\n",
       "      <th>%DMT9_overlap</th>\n",
       "      <th>DMT10</th>\n",
       "      <th>%DMT10_overlap</th>\n",
       "    </tr>\n",
       "    <tr>\n",
       "      <th>subject_id</th>\n",
       "      <th></th>\n",
       "      <th></th>\n",
       "      <th></th>\n",
       "      <th></th>\n",
       "      <th></th>\n",
       "      <th></th>\n",
       "      <th></th>\n",
       "      <th></th>\n",
       "      <th></th>\n",
       "      <th></th>\n",
       "      <th></th>\n",
       "      <th></th>\n",
       "      <th></th>\n",
       "      <th></th>\n",
       "      <th></th>\n",
       "      <th></th>\n",
       "      <th></th>\n",
       "      <th></th>\n",
       "      <th></th>\n",
       "      <th></th>\n",
       "      <th></th>\n",
       "    </tr>\n",
       "  </thead>\n",
       "  <tbody>\n",
       "    <tr>\n",
       "      <th>1343</th>\n",
       "      <td>ms1343</td>\n",
       "      <td>6/1/2001</td>\n",
       "      <td>15.76958879</td>\n",
       "      <td>WITHandWITHOUT</td>\n",
       "      <td>0.85</td>\n",
       "      <td>1.39</td>\n",
       "      <td>2.67</td>\n",
       "      <td>Female</td>\n",
       "      <td>2022.386963</td>\n",
       "      <td>167.422913</td>\n",
       "      <td>...</td>\n",
       "      <td>.</td>\n",
       "      <td>.</td>\n",
       "      <td>.</td>\n",
       "      <td>.</td>\n",
       "      <td>.</td>\n",
       "      <td>.</td>\n",
       "      <td>.</td>\n",
       "      <td>.</td>\n",
       "      <td>.</td>\n",
       "      <td>.</td>\n",
       "    </tr>\n",
       "    <tr>\n",
       "      <th>2164</th>\n",
       "      <td>ms2164</td>\n",
       "      <td>.</td>\n",
       "      <td>#VALUE!</td>\n",
       "      <td>WITHandWITHOUT</td>\n",
       "      <td>NaN</td>\n",
       "      <td>NaN</td>\n",
       "      <td>7.08</td>\n",
       "      <td>Female</td>\n",
       "      <td>NaN</td>\n",
       "      <td>NaN</td>\n",
       "      <td>...</td>\n",
       "      <td>.</td>\n",
       "      <td>.</td>\n",
       "      <td>.</td>\n",
       "      <td>.</td>\n",
       "      <td>.</td>\n",
       "      <td>.</td>\n",
       "      <td>.</td>\n",
       "      <td>.</td>\n",
       "      <td>.</td>\n",
       "      <td>.</td>\n",
       "    </tr>\n",
       "  </tbody>\n",
       "</table>\n",
       "<p>2 rows × 87 columns</p>\n",
       "</div>"
      ],
      "text/plain": [
       "           subject  sz_onset        dzdur     is_contrast  MSSS  gMSSS  ARMSS  \\\n",
       "subject_id                                                                      \n",
       "1343        ms1343  6/1/2001  15.76958879  WITHandWITHOUT  0.85   1.39   2.67   \n",
       "2164        ms2164         .      #VALUE!  WITHandWITHOUT   NaN    NaN   7.08   \n",
       "\n",
       "               sex  choroid_volume  pineal_volume  ...  DMT6  %DMT6_overlap  \\\n",
       "subject_id                                         ...                        \n",
       "1343        Female     2022.386963     167.422913  ...     .              .   \n",
       "2164        Female             NaN            NaN  ...     .              .   \n",
       "\n",
       "            DMT7 %DMT7_overlap DMT8  %DMT8_overlap DMT9  %DMT9_overlap DMT10  \\\n",
       "subject_id                                                                     \n",
       "1343           .             .    .              .    .              .     .   \n",
       "2164           .             .    .              .    .              .     .   \n",
       "\n",
       "           %DMT10_overlap  \n",
       "subject_id                 \n",
       "1343                    .  \n",
       "2164                    .  \n",
       "\n",
       "[2 rows x 87 columns]"
      ]
     },
     "execution_count": 52,
     "metadata": {},
     "output_type": "execute_result"
    }
   ],
   "source": [
    "df[df['is_contrast']==\"WITHandWITHOUT\"]"
   ]
  },
  {
   "cell_type": "code",
   "execution_count": 26,
   "metadata": {},
   "outputs": [
    {
     "data": {
      "text/plain": [
       "(Scan(subid='1072', sesid='20180615', _dataroot=PosixPath('/mnt/h/3Tpioneer_bids_predictions'), _root=PosixPath('/mnt/h/3Tpioneer_bids_predictions/sub-ms1072/ses-20180615'), image=None, label='flair.t1_choroid_pineal_pituitary3_pred.nii.gz', cond=None, id=21633619280),)"
      ]
     },
     "execution_count": 26,
     "metadata": {},
     "output_type": "execute_result"
    }
   ],
   "source": [
    "subid = 1072\n",
    "inference_dataset.find_scan(subid=str(subid))"
   ]
  },
  {
   "cell_type": "code",
   "execution_count": 13,
   "metadata": {},
   "outputs": [],
   "source": [
    "df.index.name = \"subject_id\"\n",
    "df_full = df\n",
    "not_nas = (~df_full['pineal_volume'].isna() & ~df_full['choroid_volume'].isna() & ~df_full['pituitary_volume'].isna())\n",
    "df = df_full.loc[not_nas, :]"
   ]
  },
  {
   "cell_type": "markdown",
   "metadata": {},
   "source": [
    "### Prepare Data\n",
    "\n",
    "- Set categorical variables\n",
    "  - ms_type\n",
    "  - race\n",
    "  - ethnicity\n",
    "  - sex\n",
    "- Set edss as ordinal variable\n",
    "\n",
    "Do I need to factorize the categorical variables if I just set their dtype as \"category\"?"
   ]
  },
  {
   "cell_type": "code",
   "execution_count": 14,
   "metadata": {},
   "outputs": [
    {
     "name": "stderr",
     "output_type": "stream",
     "text": [
      "/tmp/ipykernel_2124/375870590.py:3: SettingWithCopyWarning: \n",
      "A value is trying to be set on a copy of a slice from a DataFrame.\n",
      "Try using .loc[row_indexer,col_indexer] = value instead\n",
      "\n",
      "See the caveats in the documentation: https://pandas.pydata.org/pandas-docs/stable/user_guide/indexing.html#returning-a-view-versus-a-copy\n",
      "  df['numEDSS'] = df['numEDSS'].astype(edss_type)\n"
     ]
    }
   ],
   "source": [
    "# edss is ordinal variable\n",
    "edss_type = pd.CategoricalDtype(categories=np.linspace(0, 10, 21), ordered=True)\n",
    "df['numEDSS'] = df['numEDSS'].astype(edss_type)\n",
    "df.loc[df['dzdur'] == \"#VALUE!\", \"dzdur\"] = None"
   ]
  },
  {
   "cell_type": "code",
   "execution_count": 15,
   "metadata": {},
   "outputs": [],
   "source": [
    "try:\n",
    "    df.insert(8, 'norm_pituitary_volume', df['pituitary_volume']/df['tiv'])\n",
    "except ValueError:\n",
    "    pass\n",
    "try:\n",
    "    df.insert(8, 'norm_pineal_volume', df['pineal_volume']/df['tiv'])\n",
    "except ValueError:\n",
    "    pass\n",
    "try:\n",
    "    df.insert(8, 'norm_choroid_volume', df['choroid_volume']/df['tiv'])\n",
    "except ValueError:\n",
    "    pass"
   ]
  },
  {
   "cell_type": "code",
   "execution_count": 16,
   "metadata": {},
   "outputs": [],
   "source": [
    "try:\n",
    "    df.insert(18, 'dz_type', df['ms_type'])\n",
    "except Exception:\n",
    "    pass\n",
    "\n",
    "df.loc[:, 'dz_type'] = df['ms_type']\n",
    "\n",
    "df.loc[df['ms_type'] == 'CIS', 'dz_type'] = 'RRMS'\n",
    "df.loc[df['ms_type'].isin(['PPMS', 'SPMS', 'RPMS', 'PRMS']), 'dz_type'] = 'PMS'\n",
    "df.loc[df['ms_type'].isin(['NIND', 'OIND', 'HC']), 'dz_type'] = '!MS'"
   ]
  },
  {
   "cell_type": "code",
   "execution_count": 17,
   "metadata": {},
   "outputs": [],
   "source": [
    "try:\n",
    "    df.insert(18, 'dz_type2', df['dz_type'])\n",
    "except Exception:\n",
    "    pass\n",
    "\n",
    "df.loc[:, 'dz_type2'] = df['dz_type']\n",
    "\n",
    "df.loc[df['dz_type'].isin(['RMS', 'PMS']), 'dz_type2'] = 'MS'"
   ]
  },
  {
   "cell_type": "markdown",
   "metadata": {},
   "source": [
    "## Statistical Analysis"
   ]
  },
  {
   "cell_type": "markdown",
   "metadata": {},
   "source": [
    "### Descriptive Stats\n"
   ]
  },
  {
   "cell_type": "code",
   "execution_count": 18,
   "metadata": {},
   "outputs": [
    {
     "name": "stdout",
     "output_type": "stream",
     "text": [
      "403 patients in total\n",
      "0.6724565756823822 patients with RRMS\n",
      "0.18362282878411912 patients with PMS\n",
      "0.13399503722084366 patients w/o MS\n"
     ]
    }
   ],
   "source": [
    "print(len(df), \"patients in total\")\n",
    "print(sum(df['dz_type'] == \"RRMS\") / len(df), \"patients with RRMS\")\n",
    "print(sum(df['dz_type'] == \"PMS\") / len(df), \"patients with PMS\")\n",
    "print(sum(df['dz_type'] == \"!MS\") / len(df), \"patients w/o MS\")"
   ]
  },
  {
   "cell_type": "code",
   "execution_count": 19,
   "metadata": {},
   "outputs": [
    {
     "name": "stdout",
     "output_type": "stream",
     "text": [
      "Proportion of female subjects: 0.78\n",
      "Average age at scan: 47.91\n"
     ]
    }
   ],
   "source": [
    "print(\"Proportion of female subjects: {:0.2f}\".format(sum(df['sex'] == \"Female\") / len(df)) )\n",
    "print(\"Average age at scan: {:0.2f}\".format(df['age'].mean()))"
   ]
  },
  {
   "cell_type": "code",
   "execution_count": 20,
   "metadata": {},
   "outputs": [
    {
     "name": "stdout",
     "output_type": "stream",
     "text": [
      "Fraction of female RRMS patients: 0.82\n",
      "Average age of RRMS patient: 44.78\n",
      "\n",
      "\n",
      "Fraction of female PMS patients: 0.59\n",
      "Average age of PMS patient: 58.66\n",
      "\n",
      "\n",
      "Fraction of female non-MS patients: 0.81\n",
      "Average age of non-MS patient: 48.97\n"
     ]
    }
   ],
   "source": [
    "df_rrms = df.loc[df[\"dz_type\"] == \"RRMS\"]\n",
    "print(\"Fraction of female RRMS patients: {:0.2f}\".format(sum(df_rrms['sex'] == \"Female\") / len(df_rrms)))\n",
    "print(\"Average age of RRMS patient: {:0.2f}\".format(df_rrms['age'].mean()))\n",
    "print(\"\\n\")\n",
    "\n",
    "df_pms = df.loc[df[\"dz_type\"] == \"PMS\"]\n",
    "print(\"Fraction of female PMS patients: {:0.2f}\".format(sum(df_pms['sex'] == \"Female\") / len(df_pms)))\n",
    "print(\"Average age of PMS patient: {:0.2f}\".format(df_pms['age'].mean()))\n",
    "print(\"\\n\")\n",
    "\n",
    "df_notms = df.loc[df[\"dz_type\"] == \"!MS\"]\n",
    "print(\"Fraction of female non-MS patients: {:0.2f}\".format(sum(df_notms['sex'] == \"Female\") / len(df_notms)))\n",
    "print(\"Average age of non-MS patient: {:0.2f}\".format(df_notms['age'].mean()))"
   ]
  },
  {
   "cell_type": "markdown",
   "metadata": {},
   "source": [
    "#### Volumes"
   ]
  },
  {
   "cell_type": "code",
   "execution_count": 21,
   "metadata": {},
   "outputs": [
    {
     "name": "stdout",
     "output_type": "stream",
     "text": [
      "Mean choroid volumes:\n",
      "RRMS:   1.09\n",
      "PMS:    1.12\n",
      "not-MS: 1.15\n",
      "\n",
      "\n",
      "Mean pineal volumes:\n",
      "RRMS:   0.12\n",
      "PMS:    0.10\n",
      "not-MS: 0.15\n",
      "\n",
      "\n",
      "Mean pituitary volumes:\n",
      "RRMS:   0.43\n",
      "PMS:    0.43\n",
      "not-MS: 0.44\n"
     ]
    }
   ],
   "source": [
    "# choroid\n",
    "print(\"Mean choroid volumes:\")\n",
    "print(\"RRMS:   {:0.2f}\".format(df_rrms['norm_choroid_volume'].mean()*1000))\n",
    "print(\"PMS:    {:0.2f}\".format(df_pms['norm_choroid_volume'].mean()*1000))\n",
    "print(\"not-MS: {:0.2f}\".format(df_notms['norm_choroid_volume'].mean()*1000))\n",
    "print(\"\\n\")\n",
    "\n",
    "# pineal\n",
    "print(\"Mean pineal volumes:\")\n",
    "print(\"RRMS:   {:0.2f}\".format(df_rrms['norm_pineal_volume'].mean()*1000))\n",
    "print(\"PMS:    {:0.2f}\".format(df_pms['norm_pineal_volume'].mean()*1000))\n",
    "print(\"not-MS: {:0.2f}\".format(df_notms['norm_pineal_volume'].mean()*1000))\n",
    "print(\"\\n\")\n",
    "\n",
    "# pituitary\n",
    "print(\"Mean pituitary volumes:\")\n",
    "print(\"RRMS:   {:0.2f}\".format(df_rrms['norm_pituitary_volume'].mean()*1000))\n",
    "print(\"PMS:    {:0.2f}\".format(df_pms['norm_pituitary_volume'].mean()*1000))\n",
    "print(\"not-MS: {:0.2f}\".format(df_notms['norm_pituitary_volume'].mean()*1000))"
   ]
  },
  {
   "cell_type": "markdown",
   "metadata": {},
   "source": [
    "### Regression Models\n",
    "\n",
    "Looking at how volume of ROI predicts ms_type"
   ]
  },
  {
   "cell_type": "markdown",
   "metadata": {},
   "source": [
    "#### statsmodels usage\n",
    "\n",
    "- `statsmodels.regression.linear_model.OLS`\n",
    "- `statsmodels.discrete.discrete_model.Logit`\n",
    "- `statsmodels.discrete.discrete_model.Probit`\n",
    "- `statsmodels.miscmodels.ordinal_model.OrderedModel`\n",
    "\n",
    "Why is OrderedModel not available under `statsmodels.api` unlike all the others? Also, OrderedModel isn't available under `statsmodels.miscmodels.api` either"
   ]
  },
  {
   "cell_type": "markdown",
   "metadata": {},
   "source": [
    "Linear regression MS vs not-MS"
   ]
  },
  {
   "cell_type": "code",
   "execution_count": 25,
   "metadata": {},
   "outputs": [
    {
     "name": "stdout",
     "output_type": "stream",
     "text": [
      "                                 OLS Regression Results                                \n",
      "=======================================================================================\n",
      "Dep. Variable:                      y   R-squared (uncentered):                   0.891\n",
      "Model:                            OLS   Adj. R-squared (uncentered):              0.889\n",
      "Method:                 Least Squares   F-statistic:                              342.0\n",
      "Date:                Thu, 02 Jan 2025   Prob (F-statistic):                    4.64e-60\n",
      "Time:                        18:38:05   Log-Likelihood:                          821.72\n",
      "No. Observations:                 128   AIC:                                     -1637.\n",
      "Df Residuals:                     125   BIC:                                     -1629.\n",
      "Df Model:                           3                                                  \n",
      "Covariance Type:            nonrobust                                                  \n",
      "==============================================================================\n",
      "                 coef    std err          t      P>|t|      [0.025      0.975]\n",
      "------------------------------------------------------------------------------\n",
      "x1           1.89e-05   9.38e-07     20.149      0.000     1.7e-05    2.08e-05\n",
      "x2         -6.115e-05   7.88e-05     -0.776      0.439      -0.000    9.48e-05\n",
      "x3             0.0002   6.71e-05      3.485      0.001       0.000       0.000\n",
      "==============================================================================\n",
      "Omnibus:                        1.529   Durbin-Watson:                   2.013\n",
      "Prob(Omnibus):                  0.465   Jarque-Bera (JB):                1.515\n",
      "Skew:                          -0.180   Prob(JB):                        0.469\n",
      "Kurtosis:                       2.606   Cond. No.                         129.\n",
      "==============================================================================\n",
      "\n",
      "Notes:\n",
      "[1] R² is computed without centering (uncentered) since the model does not contain a constant.\n",
      "[2] Standard Errors assume that the covariance matrix of the errors is correctly specified.\n"
     ]
    },
    {
     "name": "stderr",
     "output_type": "stream",
     "text": [
      "/tmp/ipykernel_2124/2473455387.py:6: SettingWithCopyWarning: \n",
      "A value is trying to be set on a copy of a slice from a DataFrame.\n",
      "Try using .loc[row_indexer,col_indexer] = value instead\n",
      "\n",
      "See the caveats in the documentation: https://pandas.pydata.org/pandas-docs/stable/user_guide/indexing.html#returning-a-view-versus-a-copy\n",
      "  df_test.loc[:, 'sex_factor'], _ = df_test['sex'].factorize()\n",
      "/tmp/ipykernel_2124/2473455387.py:7: SettingWithCopyWarning: \n",
      "A value is trying to be set on a copy of a slice from a DataFrame.\n",
      "Try using .loc[row_indexer,col_indexer] = value instead\n",
      "\n",
      "See the caveats in the documentation: https://pandas.pydata.org/pandas-docs/stable/user_guide/indexing.html#returning-a-view-versus-a-copy\n",
      "  df_test.loc[:, 'dz_type2_factor'], _ = df_test['dz_type2'].factorize()\n"
     ]
    }
   ],
   "source": [
    "import statsmodels.api as sm\n",
    "import numpy as np\n",
    "\n",
    "df_test = df[df['dz_type2'].isin(['MS', '!MS'])]\n",
    "\n",
    "df_test.loc[:, 'sex_factor'], _ = df_test['sex'].factorize()\n",
    "df_test.loc[:, 'dz_type2_factor'], _ = df_test['dz_type2'].factorize()\n",
    "predictors = [\"age\", \"sex_factor\", \"dz_type2_factor\"]\n",
    "outcome = \"norm_choroid_volume\"\n",
    "\n",
    "x = np.asarray(df_test[predictors]).astype(np.float64)\n",
    "Y = np.asarray(df_test[outcome]).astype(np.float64)\n",
    "\n",
    "mod = sm.OLS(Y, x, missing='drop')\n",
    "\n",
    "res = mod.fit()\n",
    "\n",
    "print(res.summary())"
   ]
  },
  {
   "cell_type": "code",
   "execution_count": 30,
   "metadata": {},
   "outputs": [
    {
     "name": "stdout",
     "output_type": "stream",
     "text": [
      "Optimization terminated successfully.\n",
      "         Current function value: 0.526666\n",
      "         Iterations 6\n",
      "                           Logit Regression Results                           \n",
      "==============================================================================\n",
      "Dep. Variable:                      y   No. Observations:                  128\n",
      "Model:                          Logit   Df Residuals:                      124\n",
      "Method:                           MLE   Df Model:                            3\n",
      "Date:                Thu, 02 Jan 2025   Pseudo R-squ.:                  0.2265\n",
      "Time:                        18:44:17   Log-Likelihood:                -67.413\n",
      "converged:                       True   LL-Null:                       -87.154\n",
      "Covariance Type:            nonrobust   LLR p-value:                 1.372e-08\n",
      "==============================================================================\n",
      "                 coef    std err          z      P>|z|      [0.025      0.975]\n",
      "------------------------------------------------------------------------------\n",
      "x1            -0.0768      0.019     -3.983      0.000      -0.115      -0.039\n",
      "x2            -1.0867      0.490     -2.219      0.026      -2.047      -0.127\n",
      "x3          2.002e-06   7.61e-07      2.631      0.009    5.11e-07    3.49e-06\n",
      "x4             0.0062      0.002      2.640      0.008       0.002       0.011\n",
      "==============================================================================\n"
     ]
    },
    {
     "name": "stderr",
     "output_type": "stream",
     "text": [
      "/tmp/ipykernel_2124/1049387672.py:3: SettingWithCopyWarning: \n",
      "A value is trying to be set on a copy of a slice from a DataFrame.\n",
      "Try using .loc[row_indexer,col_indexer] = value instead\n",
      "\n",
      "See the caveats in the documentation: https://pandas.pydata.org/pandas-docs/stable/user_guide/indexing.html#returning-a-view-versus-a-copy\n",
      "  df_test.loc[:, 'sex_factor'], _ = df_test['sex'].factorize()\n",
      "/tmp/ipykernel_2124/1049387672.py:4: SettingWithCopyWarning: \n",
      "A value is trying to be set on a copy of a slice from a DataFrame.\n",
      "Try using .loc[row_indexer,col_indexer] = value instead\n",
      "\n",
      "See the caveats in the documentation: https://pandas.pydata.org/pandas-docs/stable/user_guide/indexing.html#returning-a-view-versus-a-copy\n",
      "  df_test.loc[:, 'dz_type2_factor'], _ = df_test['dz_type2'].factorize()\n"
     ]
    }
   ],
   "source": [
    "df_test = df[df['dz_type2'].isin(['MS', '!MS'])]\n",
    "\n",
    "df_test.loc[:, 'sex_factor'], _ = df_test['sex'].factorize()\n",
    "df_test.loc[:, 'dz_type2_factor'], _ = df_test['dz_type2'].factorize()\n",
    "predictors = [\"age\", \"sex_factor\", \"tiv\", \"pineal_volume\"]\n",
    "outcome = \"dz_type2_factor\"\n",
    "\n",
    "x = np.asarray(df_test[predictors]).astype(np.float64)\n",
    "Y = np.asarray(df_test[outcome]).astype(np.float64)\n",
    "\n",
    "mod = sm.Logit(Y, x, missing='drop')\n",
    "\n",
    "res = mod.fit()\n",
    "\n",
    "print(res.summary())"
   ]
  },
  {
   "cell_type": "code",
   "execution_count": null,
   "metadata": {},
   "outputs": [],
   "source": [
    "ms_subtypes2 = [\"RRMS\", \"PPMS\", \"SPMS\"]\n",
    "df_ms = df[df['ms_type'].isin(ms_subtypes2)]"
   ]
  },
  {
   "cell_type": "code",
   "execution_count": null,
   "metadata": {},
   "outputs": [
    {
     "name": "stdout",
     "output_type": "stream",
     "text": [
      "                                 OLS Regression Results                                \n",
      "=======================================================================================\n",
      "Dep. Variable:                      y   R-squared (uncentered):                   0.688\n",
      "Model:                            OLS   Adj. R-squared (uncentered):              0.683\n",
      "Method:                 Least Squares   F-statistic:                              149.9\n",
      "Date:                Mon, 30 Dec 2024   Prob (F-statistic):                    2.52e-51\n",
      "Time:                        18:29:34   Log-Likelihood:                         -1275.1\n",
      "No. Observations:                 207   AIC:                                      2556.\n",
      "Df Residuals:                     204   BIC:                                      2566.\n",
      "Df Model:                           3                                                  \n",
      "Covariance Type:            nonrobust                                                  \n",
      "==============================================================================\n",
      "                 coef    std err          t      P>|t|      [0.025      0.975]\n",
      "------------------------------------------------------------------------------\n",
      "x1             3.4640      0.196     17.697      0.000       3.078       3.850\n",
      "x2            35.7004     19.862      1.797      0.074      -3.460      74.861\n",
      "x3           -42.0097     13.653     -3.077      0.002     -68.928     -15.091\n",
      "==============================================================================\n",
      "Omnibus:                        8.925   Durbin-Watson:                   1.846\n",
      "Prob(Omnibus):                  0.012   Jarque-Bera (JB):                9.007\n",
      "Skew:                           0.506   Prob(JB):                       0.0111\n",
      "Kurtosis:                       3.139   Cond. No.                         124.\n",
      "==============================================================================\n",
      "\n",
      "Notes:\n",
      "[1] R² is computed without centering (uncentered) since the model does not contain a constant.\n",
      "[2] Standard Errors assume that the covariance matrix of the errors is correctly specified.\n"
     ]
    }
   ],
   "source": [
    "df_ms.loc[:, 'sex_factor'], _ = df_ms['sex'].factorize()\n",
    "df_ms.loc[:, 'ms_type_factor'], _ = df_ms['ms_type'].factorize()\n",
    "predictors = [\"age\", \"sex_factor\", \"ms_type_factor\"]\n",
    "outcome = \"pineal_volume\"\n",
    "\n",
    "x = np.asarray(df_ms[predictors]).astype(np.float64)\n",
    "Y = np.asarray(df_ms[outcome]).astype(np.float64)\n",
    "\n",
    "mod = sm.OLS(Y, x, missing='drop')\n",
    "\n",
    "res = mod.fit()\n",
    "\n",
    "print(res.summary())"
   ]
  },
  {
   "cell_type": "code",
   "execution_count": null,
   "metadata": {},
   "outputs": [
    {
     "name": "stdout",
     "output_type": "stream",
     "text": [
      "                                 OLS Regression Results                                \n",
      "=======================================================================================\n",
      "Dep. Variable:                      y   R-squared (uncentered):                   0.885\n",
      "Model:                            OLS   Adj. R-squared (uncentered):              0.885\n",
      "Method:                 Least Squares   F-statistic:                              1592.\n",
      "Date:                Mon, 30 Dec 2024   Prob (F-statistic):                    7.34e-99\n",
      "Time:                        18:30:39   Log-Likelihood:                         -1413.3\n",
      "No. Observations:                 207   AIC:                                      2829.\n",
      "Df Residuals:                     206   BIC:                                      2832.\n",
      "Df Model:                           1                                                  \n",
      "Covariance Type:            nonrobust                                                  \n",
      "==============================================================================\n",
      "                 coef    std err          t      P>|t|      [0.025      0.975]\n",
      "------------------------------------------------------------------------------\n",
      "x1             0.0004   1.04e-05     39.895      0.000       0.000       0.000\n",
      "==============================================================================\n",
      "Omnibus:                        7.156   Durbin-Watson:                   1.931\n",
      "Prob(Omnibus):                  0.028   Jarque-Bera (JB):                6.991\n",
      "Skew:                          -0.384   Prob(JB):                       0.0303\n",
      "Kurtosis:                       3.470   Cond. No.                         1.00\n",
      "==============================================================================\n",
      "\n",
      "Notes:\n",
      "[1] R² is computed without centering (uncentered) since the model does not contain a constant.\n",
      "[2] Standard Errors assume that the covariance matrix of the errors is correctly specified.\n"
     ]
    }
   ],
   "source": [
    "predictors = [\"tiv\"]\n",
    "outcome = \"pituitary_volume\"\n",
    "\n",
    "x = np.asarray(df_ms[predictors]).astype(np.float64)\n",
    "Y = np.asarray(df_ms[outcome]).astype(np.float64)\n",
    "\n",
    "mod = sm.OLS(Y, x, missing='drop')\n",
    "\n",
    "res = mod.fit()\n",
    "\n",
    "print(res.summary())"
   ]
  },
  {
   "cell_type": "code",
   "execution_count": null,
   "metadata": {},
   "outputs": [
    {
     "data": {
      "text/plain": [
       "array([[2.01336035e+01, 1.26161339e+03, 0.00000000e+00, 0.00000000e+00],\n",
       "       [2.88807972e+01, 1.45832702e+03, 0.00000000e+00, 0.00000000e+00],\n",
       "       [6.64704594e+01, 1.35252909e+03, 0.00000000e+00, 0.00000000e+00],\n",
       "       [4.89432185e+01, 1.43492793e+03, 0.00000000e+00, 0.00000000e+00],\n",
       "       [5.90182336e+01, 1.34423632e+03, 0.00000000e+00, 0.00000000e+00],\n",
       "       [3.57882057e+01, 1.82958525e+03, 0.00000000e+00, 0.00000000e+00],\n",
       "       [5.94590155e+01, 1.35972546e+03, 0.00000000e+00, 0.00000000e+00],\n",
       "       [           nan, 1.41245473e+03, 0.00000000e+00, 0.00000000e+00],\n",
       "       [4.23178010e+01, 1.37809810e+03, 0.00000000e+00, 0.00000000e+00],\n",
       "       [6.19640804e+01, 1.59898444e+03, 1.00000000e+00, 1.00000000e+00],\n",
       "       [3.74801511e+01, 1.49433394e+03, 0.00000000e+00, 0.00000000e+00],\n",
       "       [7.23484641e+01, 1.26129874e+03, 0.00000000e+00, 1.00000000e+00],\n",
       "       [4.23506543e+01, 1.40538667e+03, 0.00000000e+00, 0.00000000e+00],\n",
       "       [4.00208071e+01, 1.40781802e+03, 0.00000000e+00, 0.00000000e+00],\n",
       "       [5.83036741e+01, 1.57500795e+03, 1.00000000e+00, 0.00000000e+00],\n",
       "       [3.70722225e+01, 1.46062982e+03, 0.00000000e+00, 0.00000000e+00],\n",
       "       [4.60685539e+01, 1.38494214e+03, 0.00000000e+00, 2.00000000e+00],\n",
       "       [5.47144500e+01, 1.35310876e+03, 0.00000000e+00, 0.00000000e+00],\n",
       "       [3.55253792e+01, 1.67804084e+03, 1.00000000e+00, 2.00000000e+00],\n",
       "       [5.78163500e+01, 1.41754500e+03, 0.00000000e+00, 2.00000000e+00],\n",
       "       [5.56754093e+01, 1.60428189e+03, 0.00000000e+00, 2.00000000e+00],\n",
       "       [6.22542846e+01, 1.23319894e+03, 0.00000000e+00, 2.00000000e+00],\n",
       "       [4.49433280e+01, 1.28357682e+03, 0.00000000e+00, 1.00000000e+00],\n",
       "       [4.91485517e+01, 1.20182361e+03, 0.00000000e+00, 1.00000000e+00],\n",
       "       [4.06614466e+01, 1.29043828e+03, 0.00000000e+00, 1.00000000e+00],\n",
       "       [3.90160434e+01, 1.46666071e+03, 0.00000000e+00, 2.00000000e+00],\n",
       "       [6.04993703e+01, 1.18340640e+03, 0.00000000e+00, 2.00000000e+00],\n",
       "       [5.87307671e+01, 1.38171105e+03, 0.00000000e+00, 1.00000000e+00],\n",
       "       [4.17921481e+01, 1.32765384e+03, 0.00000000e+00, 2.00000000e+00],\n",
       "       [2.42840716e+01, 1.37262829e+03, 0.00000000e+00, 2.00000000e+00],\n",
       "       [3.64096808e+01, 1.77813938e+03, 0.00000000e+00, 2.00000000e+00],\n",
       "       [2.84454909e+01, 1.32082503e+03, 0.00000000e+00, 1.00000000e+00],\n",
       "       [4.63970870e+01, 1.34345949e+03, 0.00000000e+00, 2.00000000e+00],\n",
       "       [5.23052072e+01, 1.39475453e+03, 0.00000000e+00, 2.00000000e+00],\n",
       "       [5.15139900e+01, 1.16987952e+03, 0.00000000e+00, 1.00000000e+00],\n",
       "       [3.93418387e+01, 1.38359759e+03, 0.00000000e+00, 1.00000000e+00]])"
      ]
     },
     "execution_count": 23,
     "metadata": {},
     "output_type": "execute_result"
    }
   ],
   "source": [
    "import numpy as np \n",
    "np.asarray(x)"
   ]
  },
  {
   "cell_type": "code",
   "execution_count": null,
   "metadata": {},
   "outputs": [],
   "source": [
    "spector_data = sm.datasets.spector.load()\n",
    "spector_data.exog = sm.add_constant(spector_data.exog, prepend=False)\n",
    "\n",
    "x1 = "
   ]
  }
 ],
 "metadata": {
  "kernelspec": {
   "display_name": "monai",
   "language": "python",
   "name": "python3"
  },
  "language_info": {
   "codemirror_mode": {
    "name": "ipython",
    "version": 3
   },
   "file_extension": ".py",
   "mimetype": "text/x-python",
   "name": "python",
   "nbconvert_exporter": "python",
   "pygments_lexer": "ipython3",
   "version": "3.12.7"
  }
 },
 "nbformat": 4,
 "nbformat_minor": 2
}
