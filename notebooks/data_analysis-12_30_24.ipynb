{
 "cells": [
  {
   "cell_type": "code",
   "execution_count": 19,
   "metadata": {},
   "outputs": [],
   "source": [
    "import pandas as pd\n",
    "from reload_recursive import reload_recursive\n",
    "import os\n",
    "from loguru import logger\n",
    "from pathlib import Path\n",
    "import json\n",
    "import numpy as np\n",
    "from tqdm.notebook import tqdm\n",
    "import re\n",
    "import sys\n",
    "\n",
    "import mri_data\n",
    "import monai_training"
   ]
  },
  {
   "cell_type": "code",
   "execution_count": 20,
   "metadata": {},
   "outputs": [],
   "source": [
    "reload_recursive(mri_data)\n",
    "reload_recursive(monai_training)\n",
    "\n",
    "from mri_data.file_manager import DataSet, scan_3Tpioneer_bids\n",
    "from mri_data import file_manager as fm\n",
    "from mri_data import utils\n",
    "from monai_training.preprocess import DataSetProcesser"
   ]
  },
  {
   "cell_type": "code",
   "execution_count": 21,
   "metadata": {},
   "outputs": [
    {
     "data": {
      "text/plain": [
       "3"
      ]
     },
     "execution_count": 21,
     "metadata": {},
     "output_type": "execute_result"
    }
   ],
   "source": [
    "logger.remove()\n",
    "logger.add(sys.stderr, level=\"INFO\")"
   ]
  },
  {
   "cell_type": "code",
   "execution_count": 22,
   "metadata": {},
   "outputs": [],
   "source": [
    "to_load = True\n",
    "drive_root = fm.get_drive_root()\n",
    "msmri_home = Path(\"/home/srs-9/Projects/ms_mri\")\n",
    "inference_root = drive_root / \"3Tpioneer_bids_predictions\"\n",
    "dataroot = drive_root / \"3Tpioneer_bids\"\n",
    "clinical_data_root = drive_root / \"Secure_Data\" / \"Large\"\n",
    "project_dataroot = msmri_home / \"data\""
   ]
  },
  {
   "cell_type": "code",
   "execution_count": 23,
   "metadata": {},
   "outputs": [
    {
     "data": {
      "text/plain": [
       "PosixPath('/mnt/h/Secure_Data/Large')"
      ]
     },
     "execution_count": 23,
     "metadata": {},
     "output_type": "execute_result"
    }
   ],
   "source": [
    "clinical_data_root"
   ]
  },
  {
   "cell_type": "code",
   "execution_count": 24,
   "metadata": {},
   "outputs": [],
   "source": [
    "def subject_to_subid(subject):\n",
    "    if not isinstance(subject, str):\n",
    "        return None\n",
    "    re_match = re.match(r\"ms(\\d{4})\", subject)\n",
    "    if re_match:\n",
    "        return_val = int(re_match[1])\n",
    "        return return_val\n",
    "    else:\n",
    "        return None"
   ]
  },
  {
   "cell_type": "markdown",
   "metadata": {},
   "source": [
    "### Data Cleaning\n",
    "\n",
    "- Add column which is subid as int\n",
    "- Set the index to the new column\n",
    "- Remove any rows where subid is NaN\n",
    "- Rename columns\n",
    "- Check \"Working with missing data\" on pandas documentation"
   ]
  },
  {
   "cell_type": "code",
   "execution_count": 25,
   "metadata": {},
   "outputs": [],
   "source": [
    "if not to_load:\n",
    "    df = pd.read_csv(clinical_data_root / \"Clinical_Data_All.csv\")\n",
    "    df = df.convert_dtypes()\n",
    "\n",
    "    with open(msmri_home / \"data\" / \"clinical_data_columns_full.txt\", 'r') as f:\n",
    "        keep_columns = [line.rstrip() for line in f.readlines()]\n",
    "    df = df[keep_columns]\n",
    "    new_columns = {\n",
    "        \"ID\": \"subject\",\n",
    "        \"age_at_obs_start\": \"age\",\n",
    "    }\n",
    "    df.rename(columns=new_columns, inplace=True)\n",
    "    df[\"subid\"] = df[\"subject\"].apply(subject_to_subid)\n",
    "    df.drop(df[df[\"subid\"].isna()].index, inplace=True)\n",
    "    df[\"subid\"] = df[\"subid\"].astype(int)\n",
    "    df = df.set_index(\"subid\")\n",
    "\n",
    "    new_columns = {}\n",
    "    for col in df.columns:\n",
    "        new_columns[col] = col.replace(\" \", \"_\")\n",
    "    df.rename(columns=new_columns, inplace=True)\n",
    "    df.head()"
   ]
  },
  {
   "cell_type": "markdown",
   "metadata": {},
   "source": [
    "### Additional Data\n",
    "\n",
    "- ROI size"
   ]
  },
  {
   "cell_type": "code",
   "execution_count": 26,
   "metadata": {},
   "outputs": [],
   "source": [
    "if not to_load:\n",
    "    dataset_proc = DataSetProcesser.new_dataset(dataroot, scan_3Tpioneer_bids, filters=[fm.filter_first_ses])\n",
    "    full_dataset = dataset_proc.dataset\n",
    "    dataset_proc.prepare_labels([\"choroid_t1_flair\", \"pineal\", \"pituitary\"], [\"CH\", \"SRS\", \"ED\", \"DT\"])\n",
    "    dataset = dataset_proc.dataset\n",
    "\n",
    "    inference_dataset_proc = DataSetProcesser.new_dataset(inference_root, scan_3Tpioneer_bids, filters=[fm.filter_first_ses])\n",
    "    inference_dataset_proc.prepare_labels(\"flair.t1_choroid_pineal_pituitary3_pred\")\n",
    "    inference_dataset = inference_dataset_proc.dataset"
   ]
  },
  {
   "cell_type": "code",
   "execution_count": 27,
   "metadata": {},
   "outputs": [],
   "source": [
    "try:\n",
    "    df.insert(7, 'tiv', None)\n",
    "except ValueError:\n",
    "    pass\n",
    "try:\n",
    "    df.insert(7, 'pituitary_volume', None)\n",
    "except ValueError:\n",
    "    pass\n",
    "try:\n",
    "    df.insert(7, 'pineal_volume', None)\n",
    "except ValueError:\n",
    "    pass\n",
    "try:\n",
    "    df.insert(7, 'choroid_volume', None)\n",
    "except ValueError:\n",
    "    pass"
   ]
  },
  {
   "cell_type": "code",
   "execution_count": 28,
   "metadata": {},
   "outputs": [],
   "source": [
    "if not to_load:\n",
    "    volumes = dict(pituitary=[], pineal=[], choroid=[], tiv=[], subid=[])\n",
    "    subids = [subid for subid, _ in df.iterrows()]\n",
    "    for subid, _ in tqdm(df.iterrows(), total=len(df)):\n",
    "        scan = dataset.find_scan(subid=str(subid))\n",
    "        if len(scan) == 0:\n",
    "            scan = inference_dataset.find_scan(subid=str(subid))\n",
    "        if len(scan) == 0:\n",
    "            continue\n",
    "        scan = scan[0]\n",
    "\n",
    "        try:\n",
    "            vol_stats = utils.compute_volume(scan.label_path, index_mask_file=scan.label_path)\n",
    "        except Exception:\n",
    "            continue\n",
    "        try:\n",
    "            roi_vols = [stat[1] for stat in vol_stats]\n",
    "        except Exception:\n",
    "            continue\n",
    "\n",
    "        if len(roi_vols) < 3:\n",
    "            continue\n",
    "\n",
    "        scan = full_dataset.find_scan(subid=str(subid))[0]\n",
    "        try:\n",
    "            tiv = utils.compute_volume(scan.root / \"t1.mask.nii.gz\")[1]\n",
    "        except Exception:\n",
    "            continue\n",
    "\n",
    "        df.loc[subid, 'choroid_volume'] = roi_vols[0]\n",
    "        df.loc[subid, 'pineal_volume'] = roi_vols[1]\n",
    "        df.loc[subid, 'pituitary_volume'] = roi_vols[2]\n",
    "        df.loc[subid, 'tiv'] = tiv\n",
    "\n",
    "        volumes['choroid'].append(roi_vols[0])\n",
    "        volumes['pineal'].append(roi_vols[1])\n",
    "        volumes['pituitary'].append(roi_vols[2])\n",
    "        volumes['tiv'].append(tiv)\n",
    "        volumes['subid'].append(subid)\n",
    "        \n",
    "    df.to_csv(project_dataroot / \"clinical_data_full.csv\")"
   ]
  },
  {
   "cell_type": "code",
   "execution_count": 29,
   "metadata": {},
   "outputs": [],
   "source": [
    "if to_load:\n",
    "    df = pd.read_csv(project_dataroot / \"clinical_data_full.csv\")"
   ]
  },
  {
   "cell_type": "code",
   "execution_count": 30,
   "metadata": {},
   "outputs": [],
   "source": [
    "df_full = df\n",
    "not_nas = (~df_full['pineal_volume'].isna() & ~df_full['choroid_volume'].isna() & ~df_full['pituitary_volume'].isna())\n",
    "df = df_full.loc[not_nas, :]"
   ]
  },
  {
   "cell_type": "markdown",
   "metadata": {},
   "source": [
    "### Prepare Data\n",
    "\n",
    "- Set categorical variables\n",
    "  - ms_type\n",
    "  - race\n",
    "  - ethnicity\n",
    "  - sex\n",
    "- Set edss as ordinal variable\n",
    "\n",
    "Do I need to factorize the categorical variables if I just set their dtype as \"category\"?"
   ]
  },
  {
   "cell_type": "code",
   "execution_count": 32,
   "metadata": {},
   "outputs": [
    {
     "name": "stderr",
     "output_type": "stream",
     "text": [
      "/tmp/ipykernel_2350/3416489084.py:3: SettingWithCopyWarning: \n",
      "A value is trying to be set on a copy of a slice from a DataFrame.\n",
      "Try using .loc[row_indexer,col_indexer] = value instead\n",
      "\n",
      "See the caveats in the documentation: https://pandas.pydata.org/pandas-docs/stable/user_guide/indexing.html#returning-a-view-versus-a-copy\n",
      "  df[var] = df[var].astype(\"category\")\n",
      "/tmp/ipykernel_2350/3416489084.py:7: SettingWithCopyWarning: \n",
      "A value is trying to be set on a copy of a slice from a DataFrame.\n",
      "Try using .loc[row_indexer,col_indexer] = value instead\n",
      "\n",
      "See the caveats in the documentation: https://pandas.pydata.org/pandas-docs/stable/user_guide/indexing.html#returning-a-view-versus-a-copy\n",
      "  df['numEDSS'] = df['numEDSS'].astype(edss_type)\n"
     ]
    }
   ],
   "source": [
    "categorical_vars = ['sex', 'ms_type']\n",
    "for var in categorical_vars:\n",
    "    df[var] = df[var].astype(\"category\")\n",
    "\n",
    "# edss is ordinal variable\n",
    "edss_type = pd.CategoricalDtype(categories=np.linspace(0, 10, 21), ordered=True)\n",
    "df['numEDSS'] = df['numEDSS'].astype(edss_type)\n",
    "df.loc[df['dzdur'] == \"#VALUE!\", \"dzdur\"] = None"
   ]
  },
  {
   "cell_type": "code",
   "execution_count": 33,
   "metadata": {},
   "outputs": [
    {
     "data": {
      "text/plain": [
       "['RRMS', 'PPMS', 'NIND', 'UNK', 'SPMS', 'RPMS', 'PRMS', 'HC', 'OIND', 'CIS']\n",
       "Categories (10, object): ['CIS', 'HC', 'NIND', 'OIND', ..., 'RPMS', 'RRMS', 'SPMS', 'UNK']"
      ]
     },
     "execution_count": 33,
     "metadata": {},
     "output_type": "execute_result"
    }
   ],
   "source": [
    "df['ms_type'].unique()"
   ]
  },
  {
   "cell_type": "code",
   "execution_count": null,
   "metadata": {},
   "outputs": [
    {
     "name": "stdout",
     "output_type": "stream",
     "text": [
      "Index([           'subject',            'ms_type',                'age',\n",
      "                      'sex',           'sz_onset',            'numEDSS',\n",
      "                    'dzdur',     'choroid_volume',      'pineal_volume',\n",
      "         'pituitary_volume',                'tiv',                'bpf',\n",
      "       'cortical_thickness',           'vscaling',              'pgrey',\n",
      "                     'grey',              'white',              'brain',\n",
      "                     'vcsf',           'thalamus',         'lesion_vol',\n",
      "         'lesion_vol_cubic',        ('tiv', 1001)],\n",
      "      dtype='object')\n"
     ]
    },
    {
     "data": {
      "text/html": [
       "<div>\n",
       "<style scoped>\n",
       "    .dataframe tbody tr th:only-of-type {\n",
       "        vertical-align: middle;\n",
       "    }\n",
       "\n",
       "    .dataframe tbody tr th {\n",
       "        vertical-align: top;\n",
       "    }\n",
       "\n",
       "    .dataframe thead th {\n",
       "        text-align: right;\n",
       "    }\n",
       "</style>\n",
       "<table border=\"1\" class=\"dataframe\">\n",
       "  <thead>\n",
       "    <tr style=\"text-align: right;\">\n",
       "      <th></th>\n",
       "      <th>subject</th>\n",
       "      <th>ms_type</th>\n",
       "      <th>age</th>\n",
       "      <th>sex</th>\n",
       "      <th>sz_onset</th>\n",
       "      <th>numEDSS</th>\n",
       "      <th>dzdur</th>\n",
       "      <th>choroid_volume</th>\n",
       "      <th>pineal_volume</th>\n",
       "      <th>pituitary_volume</th>\n",
       "      <th>...</th>\n",
       "      <th>vscaling</th>\n",
       "      <th>pgrey</th>\n",
       "      <th>grey</th>\n",
       "      <th>white</th>\n",
       "      <th>brain</th>\n",
       "      <th>vcsf</th>\n",
       "      <th>thalamus</th>\n",
       "      <th>lesion_vol</th>\n",
       "      <th>lesion_vol_cubic</th>\n",
       "      <th>(tiv, 1001)</th>\n",
       "    </tr>\n",
       "    <tr>\n",
       "      <th>subid</th>\n",
       "      <th></th>\n",
       "      <th></th>\n",
       "      <th></th>\n",
       "      <th></th>\n",
       "      <th></th>\n",
       "      <th></th>\n",
       "      <th></th>\n",
       "      <th></th>\n",
       "      <th></th>\n",
       "      <th></th>\n",
       "      <th></th>\n",
       "      <th></th>\n",
       "      <th></th>\n",
       "      <th></th>\n",
       "      <th></th>\n",
       "      <th></th>\n",
       "      <th></th>\n",
       "      <th></th>\n",
       "      <th></th>\n",
       "      <th></th>\n",
       "      <th></th>\n",
       "    </tr>\n",
       "  </thead>\n",
       "  <tbody>\n",
       "    <tr>\n",
       "      <th>1001</th>\n",
       "      <td>ms1001</td>\n",
       "      <td>RRMS</td>\n",
       "      <td>50.057493</td>\n",
       "      <td>Female</td>\n",
       "      <td>2/1/2003</td>\n",
       "      <td>NaN</td>\n",
       "      <td>14.03931446</td>\n",
       "      <td>1762.325195</td>\n",
       "      <td>37.888454</td>\n",
       "      <td>685.064148</td>\n",
       "      <td>...</td>\n",
       "      <td>1.368794</td>\n",
       "      <td>594.168618</td>\n",
       "      <td>793.050463</td>\n",
       "      <td>656.104788</td>\n",
       "      <td>1449.15525</td>\n",
       "      <td>46.571322</td>\n",
       "      <td>17.636198</td>\n",
       "      <td>2.9486</td>\n",
       "      <td>1.433965</td>\n",
       "      <td>8</td>\n",
       "    </tr>\n",
       "    <tr>\n",
       "      <th>1002</th>\n",
       "      <td>ms1002</td>\n",
       "      <td>RRMS</td>\n",
       "      <td>27.079341</td>\n",
       "      <td>Female</td>\n",
       "      <td>4/1/2019</td>\n",
       "      <td>10.0</td>\n",
       "      <td>1.138914746</td>\n",
       "      <td>1711.622437</td>\n",
       "      <td>344.577332</td>\n",
       "      <td>471.041748</td>\n",
       "      <td>...</td>\n",
       "      <td>1.517059</td>\n",
       "      <td>711.733447</td>\n",
       "      <td>946.13135</td>\n",
       "      <td>733.628024</td>\n",
       "      <td>1679.759374</td>\n",
       "      <td>30.769859</td>\n",
       "      <td>21.952066</td>\n",
       "      <td>1.7162</td>\n",
       "      <td>1.197262</td>\n",
       "      <td>8</td>\n",
       "    </tr>\n",
       "    <tr>\n",
       "      <th>1003</th>\n",
       "      <td>ms1003</td>\n",
       "      <td>PPMS</td>\n",
       "      <td>68.04468</td>\n",
       "      <td>Female</td>\n",
       "      <td>1/1/2003</td>\n",
       "      <td>NaN</td>\n",
       "      <td>14.2391721</td>\n",
       "      <td>2240.688232</td>\n",
       "      <td>210.448578</td>\n",
       "      <td>942.154175</td>\n",
       "      <td>...</td>\n",
       "      <td>1.281489</td>\n",
       "      <td>533.740848</td>\n",
       "      <td>669.666823</td>\n",
       "      <td>654.020676</td>\n",
       "      <td>1323.687499</td>\n",
       "      <td>53.882858</td>\n",
       "      <td>16.765896</td>\n",
       "      <td>6.8224</td>\n",
       "      <td>1.896614</td>\n",
       "      <td>8</td>\n",
       "    </tr>\n",
       "    <tr>\n",
       "      <th>1004</th>\n",
       "      <td>ms1004</td>\n",
       "      <td>RRMS</td>\n",
       "      <td>28.18814</td>\n",
       "      <td>Female</td>\n",
       "      <td>10/1/2015</td>\n",
       "      <td>10.0</td>\n",
       "      <td>3.931446093</td>\n",
       "      <td>620.542419</td>\n",
       "      <td>146.943634</td>\n",
       "      <td>233.47139</td>\n",
       "      <td>...</td>\n",
       "      <td>1.653051</td>\n",
       "      <td>595.517415</td>\n",
       "      <td>772.225656</td>\n",
       "      <td>652.317795</td>\n",
       "      <td>1424.54345</td>\n",
       "      <td>30.127786</td>\n",
       "      <td>21.176831</td>\n",
       "      <td>1.3281</td>\n",
       "      <td>1.099201</td>\n",
       "      <td>8</td>\n",
       "    </tr>\n",
       "    <tr>\n",
       "      <th>1005</th>\n",
       "      <td>ms1005</td>\n",
       "      <td>PPMS</td>\n",
       "      <td>47.059629</td>\n",
       "      <td>Female</td>\n",
       "      <td>1/1/2001</td>\n",
       "      <td>9.0</td>\n",
       "      <td>19.51486612</td>\n",
       "      <td>2380.852051</td>\n",
       "      <td>135.682953</td>\n",
       "      <td>1026.582397</td>\n",
       "      <td>...</td>\n",
       "      <td>1.444747</td>\n",
       "      <td>543.994298</td>\n",
       "      <td>700.592183</td>\n",
       "      <td>632.319278</td>\n",
       "      <td>1332.911461</td>\n",
       "      <td>72.107552</td>\n",
       "      <td>13.087697</td>\n",
       "      <td>18.5138</td>\n",
       "      <td>2.645444</td>\n",
       "      <td>8</td>\n",
       "    </tr>\n",
       "  </tbody>\n",
       "</table>\n",
       "<p>5 rows × 23 columns</p>\n",
       "</div>"
      ],
      "text/plain": [
       "      subject ms_type        age     sex   sz_onset numEDSS        dzdur  \\\n",
       "subid                                                                      \n",
       "1001   ms1001    RRMS  50.057493  Female   2/1/2003     NaN  14.03931446   \n",
       "1002   ms1002    RRMS  27.079341  Female   4/1/2019    10.0  1.138914746   \n",
       "1003   ms1003    PPMS   68.04468  Female   1/1/2003     NaN   14.2391721   \n",
       "1004   ms1004    RRMS   28.18814  Female  10/1/2015    10.0  3.931446093   \n",
       "1005   ms1005    PPMS  47.059629  Female   1/1/2001     9.0  19.51486612   \n",
       "\n",
       "      choroid_volume pineal_volume pituitary_volume  ...  vscaling  \\\n",
       "subid                                                ...             \n",
       "1001     1762.325195     37.888454       685.064148  ...  1.368794   \n",
       "1002     1711.622437    344.577332       471.041748  ...  1.517059   \n",
       "1003     2240.688232    210.448578       942.154175  ...  1.281489   \n",
       "1004      620.542419    146.943634        233.47139  ...  1.653051   \n",
       "1005     2380.852051    135.682953      1026.582397  ...  1.444747   \n",
       "\n",
       "            pgrey        grey       white        brain       vcsf   thalamus  \\\n",
       "subid                                                                          \n",
       "1001   594.168618  793.050463  656.104788   1449.15525  46.571322  17.636198   \n",
       "1002   711.733447   946.13135  733.628024  1679.759374  30.769859  21.952066   \n",
       "1003   533.740848  669.666823  654.020676  1323.687499  53.882858  16.765896   \n",
       "1004   595.517415  772.225656  652.317795   1424.54345  30.127786  21.176831   \n",
       "1005   543.994298  700.592183  632.319278  1332.911461  72.107552  13.087697   \n",
       "\n",
       "       lesion_vol  lesion_vol_cubic  (tiv, 1001)  \n",
       "subid                                             \n",
       "1001       2.9486          1.433965            8  \n",
       "1002       1.7162          1.197262            8  \n",
       "1003       6.8224          1.896614            8  \n",
       "1004       1.3281          1.099201            8  \n",
       "1005      18.5138          2.645444            8  \n",
       "\n",
       "[5 rows x 23 columns]"
      ]
     },
     "execution_count": 65,
     "metadata": {},
     "output_type": "execute_result"
    }
   ],
   "source": [
    "print(df.columns)\n",
    "df.head()"
   ]
  },
  {
   "cell_type": "markdown",
   "metadata": {},
   "source": [
    "## Statistical Analysis"
   ]
  },
  {
   "cell_type": "markdown",
   "metadata": {},
   "source": [
    "### Descriptive Stats\n"
   ]
  },
  {
   "cell_type": "code",
   "execution_count": null,
   "metadata": {},
   "outputs": [
    {
     "name": "stdout",
     "output_type": "stream",
     "text": [
      "248 patients in total\n",
      "172 patients with RRMS\n",
      "16 patients with PPMS\n",
      "19 patients with SPMS\n",
      "5 patients with RPMS\n",
      "1 patients with PRMS\n",
      "11 patients with OIND\n",
      "20 patients with NIND\n",
      "1 HC\n",
      "2 UNK\n",
      "1 CIS\n"
     ]
    }
   ],
   "source": [
    "print(len(df), \"patients in total\")\n",
    "print(sum(df['ms_type'] == \"RRMS\"), \"patients with RRMS\")\n",
    "print(sum(df['ms_type'] == \"PPMS\"), \"patients with PPMS\")\n",
    "print(sum(df['ms_type'] == \"SPMS\"), \"patients with SPMS\")\n",
    "print(sum(df['ms_type'] == \"RPMS\"), \"patients with RPMS\")\n",
    "print(sum(df['ms_type'] == \"PRMS\"), \"patients with PRMS\")\n",
    "print(sum(df['ms_type'] == \"OIND\"), \"patients with OIND\")\n",
    "print(sum(df['ms_type'] == \"NIND\"), \"patients with NIND\")\n",
    "print(sum(df['ms_type'] == \"HC\"), \"HC\")\n",
    "print(sum(df['ms_type'] == \"UNK\"), \"UNK\")\n",
    "print(sum(df['ms_type'] == \"CIS\"), \"CIS\")"
   ]
  },
  {
   "cell_type": "code",
   "execution_count": null,
   "metadata": {},
   "outputs": [
    {
     "name": "stdout",
     "output_type": "stream",
     "text": [
      "Proportion of female subjects: 0.79\n",
      "Average age at scan: 48.55\n"
     ]
    }
   ],
   "source": [
    "print(\"Proportion of female subjects: {:0.2f}\".format(sum(df['sex'] == \"Female\") / len(df)) )\n",
    "print(\"Average age at scan: {:0.2f}\".format(df['age'].mean()))"
   ]
  },
  {
   "cell_type": "code",
   "execution_count": null,
   "metadata": {},
   "outputs": [
    {
     "name": "stdout",
     "output_type": "stream",
     "text": [
      "Fraction of female RRMS patients: 0.82\n",
      "Average age of RRMS patient: 46.34\n",
      "\n",
      "\n",
      "Fraction of female OIND patients: 0.82\n",
      "Average age of OIND patient: 49.42\n",
      "\n",
      "\n",
      "Fraction of female NIND patients: 0.85\n",
      "Average age of NIND patient: 48.19\n"
     ]
    }
   ],
   "source": [
    "df_rrms = df.loc[df[\"ms_type\"] == \"RRMS\"]\n",
    "print(\"Fraction of female RRMS patients: {:0.2f}\".format(sum(df_rrms['sex'] == \"Female\") / len(df_rrms)))\n",
    "print(\"Average age of RRMS patient: {:0.2f}\".format(df_rrms['age'].mean()))\n",
    "print(\"\\n\")\n",
    "\n",
    "df_oind = df.loc[df[\"ms_type\"] == \"OIND\"]\n",
    "print(\"Fraction of female OIND patients: {:0.2f}\".format(sum(df_oind['sex'] == \"Female\") / len(df_oind)))\n",
    "print(\"Average age of OIND patient: {:0.2f}\".format(df_oind['age'].mean()))\n",
    "print(\"\\n\")\n",
    "\n",
    "df_nind = df.loc[df[\"ms_type\"] == \"NIND\"]\n",
    "print(\"Fraction of female NIND patients: {:0.2f}\".format(sum(df_nind['sex'] == \"Female\") / len(df_nind)))\n",
    "print(\"Average age of NIND patient: {:0.2f}\".format(df_nind['age'].mean()))"
   ]
  },
  {
   "cell_type": "markdown",
   "metadata": {},
   "source": [
    "#### Volumes"
   ]
  },
  {
   "cell_type": "code",
   "execution_count": null,
   "metadata": {},
   "outputs": [
    {
     "name": "stdout",
     "output_type": "stream",
     "text": [
      "Mean choroid volumes:\n",
      "RRMS: 1688.83\n",
      "OIND: 1925.77\n",
      "NIND: 1860.47\n",
      "\n",
      "\n",
      "Mean pineal volumes:\n",
      "RRMS: 183.63\n",
      "OIND: 211.41\n",
      "NIND: 285.26\n",
      "\n",
      "\n",
      "Mean pituitary volumes:\n",
      "RRMS: 625.91\n",
      "OIND: 674.54\n",
      "NIND: 684.56\n"
     ]
    }
   ],
   "source": [
    "# choroid\n",
    "print(\"Mean choroid volumes:\")\n",
    "print(\"RRMS: {:0.2f}\".format(df_rrms['choroid_volume'].mean()))\n",
    "print(\"OIND: {:0.2f}\".format(df_oind['choroid_volume'].mean()))\n",
    "print(\"NIND: {:0.2f}\".format(df_nind['choroid_volume'].mean()))\n",
    "print(\"\\n\")\n",
    "\n",
    "# pineal\n",
    "print(\"Mean pineal volumes:\")\n",
    "print(\"RRMS: {:0.2f}\".format(df_rrms['pineal_volume'].mean()))\n",
    "print(\"OIND: {:0.2f}\".format(df_oind['pineal_volume'].mean()))\n",
    "print(\"NIND: {:0.2f}\".format(df_nind['pineal_volume'].mean()))\n",
    "print(\"\\n\")\n",
    "\n",
    "# pituitary\n",
    "print(\"Mean pituitary volumes:\")\n",
    "print(\"RRMS: {:0.2f}\".format(df_rrms['pituitary_volume'].mean()))\n",
    "print(\"OIND: {:0.2f}\".format(df_oind['pituitary_volume'].mean()))\n",
    "print(\"NIND: {:0.2f}\".format(df_nind['pituitary_volume'].mean()))"
   ]
  },
  {
   "cell_type": "code",
   "execution_count": null,
   "metadata": {},
   "outputs": [
    {
     "data": {
      "text/html": [
       "<div>\n",
       "<style scoped>\n",
       "    .dataframe tbody tr th:only-of-type {\n",
       "        vertical-align: middle;\n",
       "    }\n",
       "\n",
       "    .dataframe tbody tr th {\n",
       "        vertical-align: top;\n",
       "    }\n",
       "\n",
       "    .dataframe thead th {\n",
       "        text-align: right;\n",
       "    }\n",
       "</style>\n",
       "<table border=\"1\" class=\"dataframe\">\n",
       "  <thead>\n",
       "    <tr style=\"text-align: right;\">\n",
       "      <th></th>\n",
       "      <th>subject</th>\n",
       "      <th>ms_type</th>\n",
       "      <th>age</th>\n",
       "      <th>dz_type</th>\n",
       "      <th>sex</th>\n",
       "      <th>sz_onset</th>\n",
       "      <th>numEDSS</th>\n",
       "      <th>dzdur</th>\n",
       "      <th>choroid_volume</th>\n",
       "      <th>pineal_volume</th>\n",
       "      <th>...</th>\n",
       "      <th>white</th>\n",
       "      <th>brain</th>\n",
       "      <th>vcsf</th>\n",
       "      <th>thalamus</th>\n",
       "      <th>lesion_vol</th>\n",
       "      <th>lesion_vol_cubic</th>\n",
       "      <th>(tiv, 1001)</th>\n",
       "      <th>sex_factor</th>\n",
       "      <th>ms_type_factor</th>\n",
       "      <th>dz_type_factor</th>\n",
       "    </tr>\n",
       "    <tr>\n",
       "      <th>subid</th>\n",
       "      <th></th>\n",
       "      <th></th>\n",
       "      <th></th>\n",
       "      <th></th>\n",
       "      <th></th>\n",
       "      <th></th>\n",
       "      <th></th>\n",
       "      <th></th>\n",
       "      <th></th>\n",
       "      <th></th>\n",
       "      <th></th>\n",
       "      <th></th>\n",
       "      <th></th>\n",
       "      <th></th>\n",
       "      <th></th>\n",
       "      <th></th>\n",
       "      <th></th>\n",
       "      <th></th>\n",
       "      <th></th>\n",
       "      <th></th>\n",
       "      <th></th>\n",
       "    </tr>\n",
       "  </thead>\n",
       "  <tbody>\n",
       "    <tr>\n",
       "      <th>1001</th>\n",
       "      <td>ms1001</td>\n",
       "      <td>RRMS</td>\n",
       "      <td>50.057493</td>\n",
       "      <td>MS</td>\n",
       "      <td>Female</td>\n",
       "      <td>2/1/2003</td>\n",
       "      <td>NaN</td>\n",
       "      <td>14.03931446</td>\n",
       "      <td>1762.325195</td>\n",
       "      <td>37.888454</td>\n",
       "      <td>...</td>\n",
       "      <td>656.104788</td>\n",
       "      <td>1449.15525</td>\n",
       "      <td>46.571322</td>\n",
       "      <td>17.636198</td>\n",
       "      <td>2.9486</td>\n",
       "      <td>1.433965</td>\n",
       "      <td>8</td>\n",
       "      <td>0</td>\n",
       "      <td>0</td>\n",
       "      <td>0</td>\n",
       "    </tr>\n",
       "    <tr>\n",
       "      <th>1002</th>\n",
       "      <td>ms1002</td>\n",
       "      <td>RRMS</td>\n",
       "      <td>27.079341</td>\n",
       "      <td>MS</td>\n",
       "      <td>Female</td>\n",
       "      <td>4/1/2019</td>\n",
       "      <td>10.0</td>\n",
       "      <td>1.138914746</td>\n",
       "      <td>1711.622437</td>\n",
       "      <td>344.577332</td>\n",
       "      <td>...</td>\n",
       "      <td>733.628024</td>\n",
       "      <td>1679.759374</td>\n",
       "      <td>30.769859</td>\n",
       "      <td>21.952066</td>\n",
       "      <td>1.7162</td>\n",
       "      <td>1.197262</td>\n",
       "      <td>8</td>\n",
       "      <td>0</td>\n",
       "      <td>0</td>\n",
       "      <td>0</td>\n",
       "    </tr>\n",
       "    <tr>\n",
       "      <th>1003</th>\n",
       "      <td>ms1003</td>\n",
       "      <td>PPMS</td>\n",
       "      <td>68.04468</td>\n",
       "      <td>MS</td>\n",
       "      <td>Female</td>\n",
       "      <td>1/1/2003</td>\n",
       "      <td>NaN</td>\n",
       "      <td>14.2391721</td>\n",
       "      <td>2240.688232</td>\n",
       "      <td>210.448578</td>\n",
       "      <td>...</td>\n",
       "      <td>654.020676</td>\n",
       "      <td>1323.687499</td>\n",
       "      <td>53.882858</td>\n",
       "      <td>16.765896</td>\n",
       "      <td>6.8224</td>\n",
       "      <td>1.896614</td>\n",
       "      <td>8</td>\n",
       "      <td>0</td>\n",
       "      <td>1</td>\n",
       "      <td>0</td>\n",
       "    </tr>\n",
       "    <tr>\n",
       "      <th>1004</th>\n",
       "      <td>ms1004</td>\n",
       "      <td>RRMS</td>\n",
       "      <td>28.18814</td>\n",
       "      <td>MS</td>\n",
       "      <td>Female</td>\n",
       "      <td>10/1/2015</td>\n",
       "      <td>10.0</td>\n",
       "      <td>3.931446093</td>\n",
       "      <td>620.542419</td>\n",
       "      <td>146.943634</td>\n",
       "      <td>...</td>\n",
       "      <td>652.317795</td>\n",
       "      <td>1424.54345</td>\n",
       "      <td>30.127786</td>\n",
       "      <td>21.176831</td>\n",
       "      <td>1.3281</td>\n",
       "      <td>1.099201</td>\n",
       "      <td>8</td>\n",
       "      <td>0</td>\n",
       "      <td>0</td>\n",
       "      <td>0</td>\n",
       "    </tr>\n",
       "    <tr>\n",
       "      <th>1005</th>\n",
       "      <td>ms1005</td>\n",
       "      <td>PPMS</td>\n",
       "      <td>47.059629</td>\n",
       "      <td>MS</td>\n",
       "      <td>Female</td>\n",
       "      <td>1/1/2001</td>\n",
       "      <td>9.0</td>\n",
       "      <td>19.51486612</td>\n",
       "      <td>2380.852051</td>\n",
       "      <td>135.682953</td>\n",
       "      <td>...</td>\n",
       "      <td>632.319278</td>\n",
       "      <td>1332.911461</td>\n",
       "      <td>72.107552</td>\n",
       "      <td>13.087697</td>\n",
       "      <td>18.5138</td>\n",
       "      <td>2.645444</td>\n",
       "      <td>8</td>\n",
       "      <td>0</td>\n",
       "      <td>1</td>\n",
       "      <td>0</td>\n",
       "    </tr>\n",
       "  </tbody>\n",
       "</table>\n",
       "<p>5 rows × 27 columns</p>\n",
       "</div>"
      ],
      "text/plain": [
       "      subject ms_type        age dz_type     sex   sz_onset numEDSS  \\\n",
       "subid                                                                 \n",
       "1001   ms1001    RRMS  50.057493      MS  Female   2/1/2003     NaN   \n",
       "1002   ms1002    RRMS  27.079341      MS  Female   4/1/2019    10.0   \n",
       "1003   ms1003    PPMS   68.04468      MS  Female   1/1/2003     NaN   \n",
       "1004   ms1004    RRMS   28.18814      MS  Female  10/1/2015    10.0   \n",
       "1005   ms1005    PPMS  47.059629      MS  Female   1/1/2001     9.0   \n",
       "\n",
       "             dzdur choroid_volume pineal_volume  ...       white        brain  \\\n",
       "subid                                            ...                            \n",
       "1001   14.03931446    1762.325195     37.888454  ...  656.104788   1449.15525   \n",
       "1002   1.138914746    1711.622437    344.577332  ...  733.628024  1679.759374   \n",
       "1003    14.2391721    2240.688232    210.448578  ...  654.020676  1323.687499   \n",
       "1004   3.931446093     620.542419    146.943634  ...  652.317795   1424.54345   \n",
       "1005   19.51486612    2380.852051    135.682953  ...  632.319278  1332.911461   \n",
       "\n",
       "            vcsf   thalamus  lesion_vol  lesion_vol_cubic  (tiv, 1001)  \\\n",
       "subid                                                                    \n",
       "1001   46.571322  17.636198      2.9486          1.433965            8   \n",
       "1002   30.769859  21.952066      1.7162          1.197262            8   \n",
       "1003   53.882858  16.765896      6.8224          1.896614            8   \n",
       "1004   30.127786  21.176831      1.3281          1.099201            8   \n",
       "1005   72.107552  13.087697     18.5138          2.645444            8   \n",
       "\n",
       "       sex_factor  ms_type_factor  dz_type_factor  \n",
       "subid                                              \n",
       "1001            0               0               0  \n",
       "1002            0               0               0  \n",
       "1003            0               1               0  \n",
       "1004            0               0               0  \n",
       "1005            0               1               0  \n",
       "\n",
       "[5 rows x 27 columns]"
      ]
     },
     "execution_count": 129,
     "metadata": {},
     "output_type": "execute_result"
    }
   ],
   "source": [
    "df.head()"
   ]
  },
  {
   "cell_type": "code",
   "execution_count": 40,
   "metadata": {},
   "outputs": [],
   "source": [
    "try:\n",
    "    df.insert(3, \"dz_type\", None)\n",
    "except Exception:\n",
    "    pass\n",
    "\n",
    "ms_subtypes = ['RRMS', 'PPMS', 'SPMS', 'RPMS', 'PRMS']\n",
    "for subid, _ in df.iterrows():\n",
    "    if df.loc[subid, 'ms_type'] in ms_subtypes:\n",
    "        df.loc[subid, 'dz_type'] = \"MS\"\n",
    "    else:\n",
    "        df.loc[subid, 'dz_type'] = \"Not MS\""
   ]
  },
  {
   "cell_type": "code",
   "execution_count": null,
   "metadata": {},
   "outputs": [],
   "source": [
    "import matplotlib.pyplot as plt\n",
    "\n",
    "c = []\n",
    "for "
   ]
  },
  {
   "cell_type": "markdown",
   "metadata": {},
   "source": [
    "### Regression Models\n",
    "\n",
    "Looking at how volume of ROI predicts ms_type"
   ]
  },
  {
   "cell_type": "markdown",
   "metadata": {},
   "source": [
    "#### statsmodels usage\n",
    "\n",
    "- `statsmodels.regression.linear_model.OLS`\n",
    "- `statsmodels.discrete.discrete_model.Logit`\n",
    "- `statsmodels.discrete.discrete_model.Probit`\n",
    "- `statsmodels.miscmodels.ordinal_model.OrderedModel`\n",
    "\n",
    "Why is OrderedModel not available under `statsmodels.api` unlike all the others? Also, OrderedModel isn't available under `statsmodels.miscmodels.api` either"
   ]
  },
  {
   "cell_type": "markdown",
   "metadata": {},
   "source": [
    "Linear regression predicting pituitary size"
   ]
  },
  {
   "cell_type": "code",
   "execution_count": 85,
   "metadata": {},
   "outputs": [
    {
     "data": {
      "text/plain": [
       "10.43092592"
      ]
     },
     "execution_count": 85,
     "metadata": {},
     "output_type": "execute_result"
    }
   ],
   "source": [
    "check = df.loc[~df['dzdur'].isna(), 'dzdur'].astype('float64')\n",
    "check.median()"
   ]
  },
  {
   "cell_type": "code",
   "execution_count": 72,
   "metadata": {},
   "outputs": [
    {
     "data": {
      "text/plain": [
       "0      False\n",
       "1      False\n",
       "2      False\n",
       "3      False\n",
       "4      False\n",
       "       ...  \n",
       "447     True\n",
       "449     True\n",
       "461     True\n",
       "480     True\n",
       "484     True\n",
       "Name: dzdur, Length: 248, dtype: bool"
      ]
     },
     "execution_count": 72,
     "metadata": {},
     "output_type": "execute_result"
    }
   ],
   "source": [
    "df['dzdur'].isna()"
   ]
  },
  {
   "cell_type": "code",
   "execution_count": 46,
   "metadata": {},
   "outputs": [
    {
     "name": "stdout",
     "output_type": "stream",
     "text": [
      "                                 OLS Regression Results                                \n",
      "=======================================================================================\n",
      "Dep. Variable:                      y   R-squared (uncentered):                   0.870\n",
      "Model:                            OLS   Adj. R-squared (uncentered):              0.868\n",
      "Method:                 Least Squares   F-statistic:                              544.6\n",
      "Date:                Tue, 31 Dec 2024   Prob (F-statistic):                   4.87e-108\n",
      "Time:                        14:12:52   Log-Likelihood:                         -1957.6\n",
      "No. Observations:                 248   AIC:                                      3921.\n",
      "Df Residuals:                     245   BIC:                                      3932.\n",
      "Df Model:                           3                                                  \n",
      "Covariance Type:            nonrobust                                                  \n",
      "==============================================================================\n",
      "                 coef    std err          t      P>|t|      [0.025      0.975]\n",
      "------------------------------------------------------------------------------\n",
      "x1            31.6723      0.989     32.018      0.000      29.724      33.621\n",
      "x2           226.6927    102.084      2.221      0.027      25.618     427.767\n",
      "x3           243.6034    118.274      2.060      0.040      10.641     476.566\n",
      "==============================================================================\n",
      "Omnibus:                        4.216   Durbin-Watson:                   1.922\n",
      "Prob(Omnibus):                  0.121   Jarque-Bera (JB):                5.262\n",
      "Skew:                          -0.064   Prob(JB):                       0.0720\n",
      "Kurtosis:                       3.702   Cond. No.                         143.\n",
      "==============================================================================\n",
      "\n",
      "Notes:\n",
      "[1] R² is computed without centering (uncentered) since the model does not contain a constant.\n",
      "[2] Standard Errors assume that the covariance matrix of the errors is correctly specified.\n"
     ]
    }
   ],
   "source": [
    "import statsmodels.api as sm\n",
    "import numpy as np\n",
    "\n",
    "df.loc[:, 'sex_factor'], _ = df['sex'].factorize()\n",
    "df.loc[:, 'dz_type_factor'], _ = df['dz_type'].factorize()\n",
    "predictors = [\"age\", \"sex_factor\", \"dz_type_factor\"]\n",
    "outcome = \"choroid_volume\"\n",
    "\n",
    "x = np.asarray(df[predictors]).astype(np.float64)\n",
    "Y = np.asarray(df[outcome]).astype(np.float64)\n",
    "\n",
    "mod = sm.OLS(Y, x, missing='drop')\n",
    "\n",
    "res = mod.fit()\n",
    "\n",
    "print(res.summary())"
   ]
  },
  {
   "cell_type": "code",
   "execution_count": null,
   "metadata": {},
   "outputs": [],
   "source": [
    "ms_subtypes2 = [\"RRMS\", \"PPMS\", \"SPMS\"]\n",
    "df_ms = df[df['ms_type'].isin(ms_subtypes2)]"
   ]
  },
  {
   "cell_type": "code",
   "execution_count": null,
   "metadata": {},
   "outputs": [
    {
     "name": "stdout",
     "output_type": "stream",
     "text": [
      "                                 OLS Regression Results                                \n",
      "=======================================================================================\n",
      "Dep. Variable:                      y   R-squared (uncentered):                   0.688\n",
      "Model:                            OLS   Adj. R-squared (uncentered):              0.683\n",
      "Method:                 Least Squares   F-statistic:                              149.9\n",
      "Date:                Mon, 30 Dec 2024   Prob (F-statistic):                    2.52e-51\n",
      "Time:                        18:29:34   Log-Likelihood:                         -1275.1\n",
      "No. Observations:                 207   AIC:                                      2556.\n",
      "Df Residuals:                     204   BIC:                                      2566.\n",
      "Df Model:                           3                                                  \n",
      "Covariance Type:            nonrobust                                                  \n",
      "==============================================================================\n",
      "                 coef    std err          t      P>|t|      [0.025      0.975]\n",
      "------------------------------------------------------------------------------\n",
      "x1             3.4640      0.196     17.697      0.000       3.078       3.850\n",
      "x2            35.7004     19.862      1.797      0.074      -3.460      74.861\n",
      "x3           -42.0097     13.653     -3.077      0.002     -68.928     -15.091\n",
      "==============================================================================\n",
      "Omnibus:                        8.925   Durbin-Watson:                   1.846\n",
      "Prob(Omnibus):                  0.012   Jarque-Bera (JB):                9.007\n",
      "Skew:                           0.506   Prob(JB):                       0.0111\n",
      "Kurtosis:                       3.139   Cond. No.                         124.\n",
      "==============================================================================\n",
      "\n",
      "Notes:\n",
      "[1] R² is computed without centering (uncentered) since the model does not contain a constant.\n",
      "[2] Standard Errors assume that the covariance matrix of the errors is correctly specified.\n"
     ]
    }
   ],
   "source": [
    "df_ms.loc[:, 'sex_factor'], _ = df_ms['sex'].factorize()\n",
    "df_ms.loc[:, 'ms_type_factor'], _ = df_ms['ms_type'].factorize()\n",
    "predictors = [\"age\", \"sex_factor\", \"ms_type_factor\"]\n",
    "outcome = \"pineal_volume\"\n",
    "\n",
    "x = np.asarray(df_ms[predictors]).astype(np.float64)\n",
    "Y = np.asarray(df_ms[outcome]).astype(np.float64)\n",
    "\n",
    "mod = sm.OLS(Y, x, missing='drop')\n",
    "\n",
    "res = mod.fit()\n",
    "\n",
    "print(res.summary())"
   ]
  },
  {
   "cell_type": "code",
   "execution_count": null,
   "metadata": {},
   "outputs": [
    {
     "name": "stdout",
     "output_type": "stream",
     "text": [
      "                                 OLS Regression Results                                \n",
      "=======================================================================================\n",
      "Dep. Variable:                      y   R-squared (uncentered):                   0.885\n",
      "Model:                            OLS   Adj. R-squared (uncentered):              0.885\n",
      "Method:                 Least Squares   F-statistic:                              1592.\n",
      "Date:                Mon, 30 Dec 2024   Prob (F-statistic):                    7.34e-99\n",
      "Time:                        18:30:39   Log-Likelihood:                         -1413.3\n",
      "No. Observations:                 207   AIC:                                      2829.\n",
      "Df Residuals:                     206   BIC:                                      2832.\n",
      "Df Model:                           1                                                  \n",
      "Covariance Type:            nonrobust                                                  \n",
      "==============================================================================\n",
      "                 coef    std err          t      P>|t|      [0.025      0.975]\n",
      "------------------------------------------------------------------------------\n",
      "x1             0.0004   1.04e-05     39.895      0.000       0.000       0.000\n",
      "==============================================================================\n",
      "Omnibus:                        7.156   Durbin-Watson:                   1.931\n",
      "Prob(Omnibus):                  0.028   Jarque-Bera (JB):                6.991\n",
      "Skew:                          -0.384   Prob(JB):                       0.0303\n",
      "Kurtosis:                       3.470   Cond. No.                         1.00\n",
      "==============================================================================\n",
      "\n",
      "Notes:\n",
      "[1] R² is computed without centering (uncentered) since the model does not contain a constant.\n",
      "[2] Standard Errors assume that the covariance matrix of the errors is correctly specified.\n"
     ]
    }
   ],
   "source": [
    "predictors = [\"tiv\"]\n",
    "outcome = \"pituitary_volume\"\n",
    "\n",
    "x = np.asarray(df_ms[predictors]).astype(np.float64)\n",
    "Y = np.asarray(df_ms[outcome]).astype(np.float64)\n",
    "\n",
    "mod = sm.OLS(Y, x, missing='drop')\n",
    "\n",
    "res = mod.fit()\n",
    "\n",
    "print(res.summary())"
   ]
  },
  {
   "cell_type": "code",
   "execution_count": null,
   "metadata": {},
   "outputs": [
    {
     "data": {
      "text/plain": [
       "array([[2.01336035e+01, 1.26161339e+03, 0.00000000e+00, 0.00000000e+00],\n",
       "       [2.88807972e+01, 1.45832702e+03, 0.00000000e+00, 0.00000000e+00],\n",
       "       [6.64704594e+01, 1.35252909e+03, 0.00000000e+00, 0.00000000e+00],\n",
       "       [4.89432185e+01, 1.43492793e+03, 0.00000000e+00, 0.00000000e+00],\n",
       "       [5.90182336e+01, 1.34423632e+03, 0.00000000e+00, 0.00000000e+00],\n",
       "       [3.57882057e+01, 1.82958525e+03, 0.00000000e+00, 0.00000000e+00],\n",
       "       [5.94590155e+01, 1.35972546e+03, 0.00000000e+00, 0.00000000e+00],\n",
       "       [           nan, 1.41245473e+03, 0.00000000e+00, 0.00000000e+00],\n",
       "       [4.23178010e+01, 1.37809810e+03, 0.00000000e+00, 0.00000000e+00],\n",
       "       [6.19640804e+01, 1.59898444e+03, 1.00000000e+00, 1.00000000e+00],\n",
       "       [3.74801511e+01, 1.49433394e+03, 0.00000000e+00, 0.00000000e+00],\n",
       "       [7.23484641e+01, 1.26129874e+03, 0.00000000e+00, 1.00000000e+00],\n",
       "       [4.23506543e+01, 1.40538667e+03, 0.00000000e+00, 0.00000000e+00],\n",
       "       [4.00208071e+01, 1.40781802e+03, 0.00000000e+00, 0.00000000e+00],\n",
       "       [5.83036741e+01, 1.57500795e+03, 1.00000000e+00, 0.00000000e+00],\n",
       "       [3.70722225e+01, 1.46062982e+03, 0.00000000e+00, 0.00000000e+00],\n",
       "       [4.60685539e+01, 1.38494214e+03, 0.00000000e+00, 2.00000000e+00],\n",
       "       [5.47144500e+01, 1.35310876e+03, 0.00000000e+00, 0.00000000e+00],\n",
       "       [3.55253792e+01, 1.67804084e+03, 1.00000000e+00, 2.00000000e+00],\n",
       "       [5.78163500e+01, 1.41754500e+03, 0.00000000e+00, 2.00000000e+00],\n",
       "       [5.56754093e+01, 1.60428189e+03, 0.00000000e+00, 2.00000000e+00],\n",
       "       [6.22542846e+01, 1.23319894e+03, 0.00000000e+00, 2.00000000e+00],\n",
       "       [4.49433280e+01, 1.28357682e+03, 0.00000000e+00, 1.00000000e+00],\n",
       "       [4.91485517e+01, 1.20182361e+03, 0.00000000e+00, 1.00000000e+00],\n",
       "       [4.06614466e+01, 1.29043828e+03, 0.00000000e+00, 1.00000000e+00],\n",
       "       [3.90160434e+01, 1.46666071e+03, 0.00000000e+00, 2.00000000e+00],\n",
       "       [6.04993703e+01, 1.18340640e+03, 0.00000000e+00, 2.00000000e+00],\n",
       "       [5.87307671e+01, 1.38171105e+03, 0.00000000e+00, 1.00000000e+00],\n",
       "       [4.17921481e+01, 1.32765384e+03, 0.00000000e+00, 2.00000000e+00],\n",
       "       [2.42840716e+01, 1.37262829e+03, 0.00000000e+00, 2.00000000e+00],\n",
       "       [3.64096808e+01, 1.77813938e+03, 0.00000000e+00, 2.00000000e+00],\n",
       "       [2.84454909e+01, 1.32082503e+03, 0.00000000e+00, 1.00000000e+00],\n",
       "       [4.63970870e+01, 1.34345949e+03, 0.00000000e+00, 2.00000000e+00],\n",
       "       [5.23052072e+01, 1.39475453e+03, 0.00000000e+00, 2.00000000e+00],\n",
       "       [5.15139900e+01, 1.16987952e+03, 0.00000000e+00, 1.00000000e+00],\n",
       "       [3.93418387e+01, 1.38359759e+03, 0.00000000e+00, 1.00000000e+00]])"
      ]
     },
     "execution_count": 23,
     "metadata": {},
     "output_type": "execute_result"
    }
   ],
   "source": [
    "import numpy as np \n",
    "np.asarray(x)"
   ]
  },
  {
   "cell_type": "code",
   "execution_count": null,
   "metadata": {},
   "outputs": [],
   "source": [
    "spector_data = sm.datasets.spector.load()\n",
    "spector_data.exog = sm.add_constant(spector_data.exog, prepend=False)\n",
    "\n",
    "x1 = "
   ]
  }
 ],
 "metadata": {
  "kernelspec": {
   "display_name": "monai",
   "language": "python",
   "name": "python3"
  },
  "language_info": {
   "codemirror_mode": {
    "name": "ipython",
    "version": 3
   },
   "file_extension": ".py",
   "mimetype": "text/x-python",
   "name": "python",
   "nbconvert_exporter": "python",
   "pygments_lexer": "ipython3",
   "version": "3.12.4"
  }
 },
 "nbformat": 4,
 "nbformat_minor": 2
}
