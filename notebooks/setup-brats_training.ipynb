{
 "cells": [
  {
   "cell_type": "markdown",
   "metadata": {},
   "source": [
    "# Brats Training\n",
    "\n",
    "Creates the datalist file for training on the brats data. The actual training was attempted via the cli"
   ]
  },
  {
   "cell_type": "code",
   "execution_count": 3,
   "metadata": {},
   "outputs": [],
   "source": [
    "import os\n",
    "from pathlib import Path\n",
    "import json\n",
    "\n",
    "from monai_training import training"
   ]
  },
  {
   "cell_type": "code",
   "execution_count": 4,
   "metadata": {},
   "outputs": [],
   "source": [
    "dataroot = \"/home/hemondlab/Data/Task01_BrainTumour/\"\n",
    "dataset_file = \"/home/hemondlab/Projects/ms_mri/training_work_dirs/work_dir_brats/dataset.json\"\n",
    "work_dir = \"/home/hemondlab/Projects/ms_mri/training_work_dirs/work_dir_brats\"\n",
    "train_params = training.load_train_params()\n",
    "\n",
    "with open(dataset_file, 'r') as f:\n",
    "    datastruct = json.load(f)"
   ]
  },
  {
   "cell_type": "code",
   "execution_count": 5,
   "metadata": {},
   "outputs": [],
   "source": [
    "datalist_file = training.create_datalist(datastruct[\"training\"], datastruct[\"test\"], work_dir, dataroot, train_params)"
   ]
  }
 ],
 "metadata": {
  "kernelspec": {
   "display_name": "monai",
   "language": "python",
   "name": "python3"
  },
  "language_info": {
   "codemirror_mode": {
    "name": "ipython",
    "version": 3
   },
   "file_extension": ".py",
   "mimetype": "text/x-python",
   "name": "python",
   "nbconvert_exporter": "python",
   "pygments_lexer": "ipython3",
   "version": "3.12.4"
  }
 },
 "nbformat": 4,
 "nbformat_minor": 2
}
