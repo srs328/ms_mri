{
 "cells": [
  {
   "cell_type": "code",
   "execution_count": 1,
   "metadata": {},
   "outputs": [],
   "source": [
    "import os\n",
    "from pathlib import Path\n",
    "import numpy as np\n",
    "import json\n",
    "from loguru import logger\n",
    "import platform\n",
    "import re \n",
    "import nibabel as nib\n",
    "\n",
    "import mri_data\n",
    "import monai_training\n",
    "\n",
    "from reload_recursive import reload_recursive"
   ]
  },
  {
   "cell_type": "code",
   "execution_count": 15,
   "metadata": {},
   "outputs": [],
   "source": [
    "reload_recursive(mri_data)\n",
    "reload_recursive(monai_training)\n",
    "from mri_data.file_manager import scan_3Tpioneer_bids, DataSet, filter_first_ses  # noqa: E402, F401\n",
    "import mri_data.file_manager as fm\n",
    "from mri_data import utils\n",
    "from monai_training import preprocess  # noqa: E402\n",
    "from monai_training.preprocess import DataSetProcesser"
   ]
  },
  {
   "cell_type": "code",
   "execution_count": 7,
   "metadata": {},
   "outputs": [],
   "source": [
    "logger.remove()"
   ]
  },
  {
   "cell_type": "code",
   "execution_count": 3,
   "metadata": {},
   "outputs": [],
   "source": [
    "# #! Set these variables\n",
    "# work_dir_name = \"choroid_resegment1\"\n",
    "# train_dataset_file_name = \"training-dataset-desktop1.json\"\n",
    "# prediction_postfix = \"choroid_resegment_pred\"\n",
    "# task_name = \"infer_choroid\"\n",
    "# modalities = [\"flair\", \"t1\"]\n",
    "# save_dir = Path(\"/media/smbshare/3Tpioneer_bids_predictions\")"
   ]
  },
  {
   "cell_type": "code",
   "execution_count": 4,
   "metadata": {},
   "outputs": [],
   "source": [
    "inference_name = \"flair.t1_choroid_pineal_pituitary3_pred\""
   ]
  },
  {
   "cell_type": "code",
   "execution_count": 5,
   "metadata": {},
   "outputs": [],
   "source": [
    "drive_root = fm.get_drive_root()\n",
    "msmri_home = Path(\"/home/srs-9/Projects/ms_mri\")\n",
    "inference_root = drive_root / \"3Tpioneer_bids_predictions\"\n",
    "dataroot = drive_root / \"3Tpioneer_bids\"\n",
    "clinical_data_root = drive_root / \"Secure_Data\" / \"Large\"\n",
    "project_dataroot = msmri_home / \"data\""
   ]
  },
  {
   "cell_type": "code",
   "execution_count": 8,
   "metadata": {},
   "outputs": [
    {
     "name": "stderr",
     "output_type": "stream",
     "text": [
      "100%|██████████| 575/575 [00:16<00:00, 35.13it/s] \n",
      "100%|██████████| 420/420 [00:02<00:00, 169.76it/s]\n"
     ]
    }
   ],
   "source": [
    "dataset_proc = DataSetProcesser.new_dataset(dataroot, scan_3Tpioneer_bids, filters=[fm.filter_first_ses])\n",
    "full_dataset = dataset_proc.dataset\n",
    "dataset_proc.prepare_labels([\"choroid_t1_flair\", \"pineal\", \"pituitary\"], [\"CH\", \"SRS\", \"ED\", \"DT\"])\n",
    "dataset = dataset_proc.dataset\n",
    "\n",
    "inference_dataset_proc = DataSetProcesser.new_dataset(inference_root, scan_3Tpioneer_bids, filters=[fm.filter_first_ses])\n",
    "inference_dataset_proc.prepare_labels(\"flair.t1_choroid_pineal_pituitary3_pred\")\n",
    "inference_dataset = inference_dataset_proc.dataset"
   ]
  },
  {
   "cell_type": "code",
   "execution_count": 17,
   "metadata": {},
   "outputs": [
    {
     "name": "stdout",
     "output_type": "stream",
     "text": [
      "itksnap -g H:/3Tpioneer_bids/sub-ms1395/ses-20180810/flair.nii.gz -o H:/3Tpioneer_bids/sub-ms1395/ses-20180810/t1.nii.gz -s H:/3Tpioneer_bids_predictions/sub-ms1395/ses-20180810/flair.t1_choroid_pineal_pituitary3_pred.nii.gz\n",
      "itksnap -g H:/3Tpioneer_bids/sub-ms1178/ses-20191023/flair.nii.gz -o H:/3Tpioneer_bids/sub-ms1178/ses-20191023/t1.nii.gz -s H:/3Tpioneer_bids_predictions/sub-ms1178/ses-20191023/flair.t1_choroid_pineal_pituitary3_pred.nii.gz\n",
      "itksnap -g H:/3Tpioneer_bids/sub-ms1235/ses-20161121/flair.nii.gz -o H:/3Tpioneer_bids/sub-ms1235/ses-20161121/t1.nii.gz -s H:/3Tpioneer_bids_predictions/sub-ms1235/ses-20161121/flair.t1_choroid_pineal_pituitary3_pred.nii.gz\n",
      "itksnap -g H:/3Tpioneer_bids/sub-ms1154/ses-20170412/flair.nii.gz -o H:/3Tpioneer_bids/sub-ms1154/ses-20170412/t1.nii.gz -s H:/3Tpioneer_bids_predictions/sub-ms1154/ses-20170412/flair.t1_choroid_pineal_pituitary3_pred.nii.gz\n",
      "itksnap -g H:/3Tpioneer_bids/sub-ms1546/ses-20180205/flair.nii.gz -o H:/3Tpioneer_bids/sub-ms1546/ses-20180205/t1.nii.gz -s H:/3Tpioneer_bids_predictions/sub-ms1546/ses-20180205/flair.t1_choroid_pineal_pituitary3_pred.nii.gz\n"
     ]
    }
   ],
   "source": [
    "for inference in inference_dataset[:5]:\n",
    "    flair = inference.with_root(dataroot).root / \"flair.nii.gz\"\n",
    "    t1 = inference.with_root(dataroot).root / \"t1.nii.gz\"\n",
    "    images = [flair, t1]\n",
    "    prediction = inference.label_path\n",
    "    cmd = utils.open_itksnap_workspace_cmd(images, [prediction], win=True)\n",
    "    print(cmd)\n",
    "    # print(\"itksnap\", \"-g\", flair, \"-o\", t1, \"-s\", prediction)"
   ]
  }
 ],
 "metadata": {
  "kernelspec": {
   "display_name": "monai",
   "language": "python",
   "name": "python3"
  },
  "language_info": {
   "codemirror_mode": {
    "name": "ipython",
    "version": 3
   },
   "file_extension": ".py",
   "mimetype": "text/x-python",
   "name": "python",
   "nbconvert_exporter": "python",
   "pygments_lexer": "ipython3",
   "version": "3.12.4"
  }
 },
 "nbformat": 4,
 "nbformat_minor": 2
}
