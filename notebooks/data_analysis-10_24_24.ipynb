{
 "cells": [
  {
   "cell_type": "code",
   "execution_count": 1,
   "metadata": {},
   "outputs": [],
   "source": [
    "import pandas as pd\n",
    "from reload_recursive import reload_recursive\n",
    "import os\n",
    "from loguru import logger\n",
    "from pathlib import Path\n",
    "import json\n",
    "import numpy as np\n",
    "from tqdm.notebook import tqdm\n",
    "import re\n",
    "import sys\n",
    "\n",
    "import mri_data\n",
    "import monai_training"
   ]
  },
  {
   "cell_type": "code",
   "execution_count": 2,
   "metadata": {},
   "outputs": [],
   "source": [
    "reload_recursive(mri_data)\n",
    "reload_recursive(monai_training)\n",
    "\n",
    "from mri_data.file_manager import DataSet, scan_3Tpioneer_bids\n",
    "from mri_data import file_manager as fm\n",
    "from mri_data import utils\n",
    "from monai_training.preprocess import DataSetProcesser"
   ]
  },
  {
   "cell_type": "code",
   "execution_count": 3,
   "metadata": {},
   "outputs": [
    {
     "data": {
      "text/plain": [
       "1"
      ]
     },
     "execution_count": 3,
     "metadata": {},
     "output_type": "execute_result"
    }
   ],
   "source": [
    "logger.remove()\n",
    "logger.add(sys.stderr, level=\"INFO\")"
   ]
  },
  {
   "cell_type": "code",
   "execution_count": 4,
   "metadata": {},
   "outputs": [],
   "source": [
    "to_load = True\n",
    "to_load = True\n",
    "drive_root = fm.get_drive_root()\n",
    "msmri_home = Path(\"/home/srs-9/Projects/ms_mri\")\n",
    "inference_root = drive_root / \"3Tpioneer_bids_predictions\"\n",
    "dataroot = drive_root / \"3Tpioneer_bids\"\n",
    "clinical_data_root = drive_root / \"Secure_Data\"\n",
    "project_dataroot = msmri_home / \"data\""
   ]
  },
  {
   "cell_type": "code",
   "execution_count": 5,
   "metadata": {},
   "outputs": [
    {
     "data": {
      "text/plain": [
       "PosixPath('/mnt/h/Secure_Data')"
      ]
     },
     "execution_count": 5,
     "metadata": {},
     "output_type": "execute_result"
    }
   ],
   "source": [
    "clinical_data_root"
   ]
  },
  {
   "cell_type": "code",
   "execution_count": 6,
   "metadata": {},
   "outputs": [],
   "source": [
    "def subject_to_subid(subject):\n",
    "    if not isinstance(subject, str):\n",
    "        return None\n",
    "    re_match = re.match(r\"ms(\\d{4})\", subject)\n",
    "    if re_match:\n",
    "        return_val = int(re_match[1])\n",
    "        return return_val\n",
    "    else:\n",
    "        return None"
   ]
  },
  {
   "cell_type": "markdown",
   "metadata": {},
   "source": [
    "### Data Cleaning\n",
    "\n",
    "- Add column which is subid as int\n",
    "- Set the index to the new column\n",
    "- Remove any rows where subid is NaN\n",
    "- Rename columns\n",
    "- Check \"Working with missing data\" on pandas documentation"
   ]
  },
  {
   "cell_type": "code",
   "execution_count": 7,
   "metadata": {},
   "outputs": [],
   "source": [
    "if not to_load:\n",
    "    df = pd.read_excel(clinical_data_root / \"manual_labeling_clinicaldata (UNSECURE).xlsx\")\n",
    "    df = df.convert_dtypes()\n",
    "\n",
    "    with open(msmri_home / \"data\" / \"clinical_data_columns.txt\", 'r') as f:\n",
    "        keep_columns = [line.rstrip() for line in f.readlines()]\n",
    "    df = df[keep_columns]\n",
    "    new_columns = {\n",
    "        \"ID#\": \"subject\",\n",
    "        \"FLAIR contrast?\": \"FLAIR_contrast\",\n",
    "        \"age_at_scan\": \"age\",\n",
    "    }\n",
    "    df.rename(columns=new_columns, inplace=True)\n",
    "    df[\"subid\"] = df[\"subject\"].apply(subject_to_subid)\n",
    "    df.drop(df[df[\"subid\"].isna()].index, inplace=True)\n",
    "    df[\"subid\"] = df[\"subid\"].astype(int)\n",
    "    df = df.set_index(\"subid\")\n",
    "\n",
    "    new_columns = {}\n",
    "    for col in df.columns:\n",
    "        new_columns[col] = col.replace(\" \", \"_\")\n",
    "    df.rename(columns=new_columns, inplace=True)\n",
    "    df.head()"
   ]
  },
  {
   "cell_type": "code",
   "execution_count": 8,
   "metadata": {},
   "outputs": [],
   "source": [
    "dataset_proc = DataSetProcesser.new_dataset(dataroot, scan_3Tpioneer_bids, filters=[fm.filter_first_ses])\n",
    "dataset = dataset_proc.dataset"
   ]
  },
  {
   "cell_type": "markdown",
   "metadata": {},
   "source": [
    "### Additional Data\n",
    "\n",
    "- ROI size"
   ]
  },
  {
   "cell_type": "code",
   "execution_count": 9,
   "metadata": {},
   "outputs": [],
   "source": [
    "if not to_load:\n",
    "    dataset_proc = DataSetProcesser.new_dataset(dataroot, scan_3Tpioneer_bids, filters=[fm.filter_first_ses])\n",
    "    dataset = dataset_proc.dataset\n",
    "\n",
    "    volumes = dict(pituitary=[], pineal=[], choroid=[], subid=[])\n",
    "    for subid, _ in tqdm(df.iterrows(), total=len(df)):\n",
    "        scan = dataset.find_scan(subid=str(subid))[0]\n",
    "        volumes['subid'].append(subid)\n",
    "        try:\n",
    "            pituitary_label = fm.find_label(scan, \"pituitary\", [\"CH\", \"DT\"])\n",
    "        except FileNotFoundError:\n",
    "            volumes['pituitary'].append(None)\n",
    "        else:\n",
    "            volumes['pituitary'].append(utils.compute_volume(pituitary_label)[1])\n",
    "        try:\n",
    "            pineal_label = fm.find_label(scan, \"pineal\", [\"CH\", \"SRS\"])\n",
    "        except FileNotFoundError:\n",
    "            volumes['pineal'].append(None)\n",
    "        else:\n",
    "            volumes['pineal'].append(utils.compute_volume(pineal_label)[1])\n",
    "        try:\n",
    "            choroid_label = fm.find_label(scan, \"choroid_t1_flair\", [\"CH\", \"ED\"])\n",
    "        except FileNotFoundError:\n",
    "            volumes['choroid'].append(None)\n",
    "        else:\n",
    "            volumes['choroid'].append(utils.compute_volume(choroid_label)[1])\n",
    "\n",
    "\n",
    "    df.insert(7, 'pituitary_volume', volumes['pituitary'])\n",
    "    df.insert(8, 'pituitary_vol_frac', df['pituitary_volume'] / df['vol_TIV'])\n",
    "    df.insert(7, 'pineal_volume', volumes['pineal'])\n",
    "    df.insert(8, 'pineal_vol_frac', df['pineal_volume'] / df['vol_TIV'])\n",
    "    df.insert(7, 'choroid_volume', volumes['choroid'])\n",
    "    df.insert(8, 'choroid_vol_frac', df['choroid_volume'] / df['vol_TIV'])\n",
    "        \n",
    "    df.to_csv(project_dataroot / \"clinical_data.csv\")"
   ]
  },
  {
   "cell_type": "code",
   "execution_count": 10,
   "metadata": {},
   "outputs": [],
   "source": [
    "if to_load:\n",
    "    df = pd.read_csv(project_dataroot / \"clinical_data.csv\")"
   ]
  },
  {
   "cell_type": "markdown",
   "metadata": {},
   "source": [
    "### Prepare Data\n",
    "\n",
    "- Set categorical variables\n",
    "  - phenotype\n",
    "  - race\n",
    "  - ethnicity\n",
    "  - sex\n",
    "- Set edss as ordinal variable\n",
    "\n",
    "Do I need to factorize the categorical variables if I just set their dtype as \"category\"?"
   ]
  },
  {
   "cell_type": "code",
   "execution_count": 11,
   "metadata": {},
   "outputs": [],
   "source": [
    "categorical_vars = ['race','ethnicity', 'sex', 'phenotype', 'FLAIR_contrast']\n",
    "for var in categorical_vars:\n",
    "    df[var] = df[var].astype(\"category\")\n",
    "\n",
    "# edss is ordinal variable\n",
    "edss_type = pd.CategoricalDtype(categories=np.linspace(0, 10, 21), ordered=True)\n",
    "df['edss'] = df['edss'].astype(edss_type)"
   ]
  },
  {
   "cell_type": "code",
   "execution_count": 12,
   "metadata": {},
   "outputs": [],
   "source": [
    "# move the columns for all the other random volumes to the end\n",
    "cols = df.columns.to_list()\n",
    "ind1 = cols.index(\"BPF\")\n",
    "ind2 = cols.index(\"Brainstem\") + 1\n",
    "cols = cols[:ind1] + cols[ind2:] + cols[ind1:ind2]\n",
    "df = df[cols]"
   ]
  },
  {
   "cell_type": "code",
   "execution_count": 13,
   "metadata": {},
   "outputs": [
    {
     "name": "stdout",
     "output_type": "stream",
     "text": [
      "Index(['subid', 'subject', 'FLAIR_contrast', 'phenotype', 'age', 'race',\n",
      "       'ethnicity', 'sex', 'choroid_volume', 'choroid_vol_frac',\n",
      "       'pineal_volume', 'pineal_vol_frac', 'pituitary_volume',\n",
      "       'pituitary_vol_frac', 'symptom_onset', 'edss', 'dzdur', 'num_lesions',\n",
      "       'lesion_vol', 'BPF', 'vol_GM', 'vol_WM', 'vol_CSF', 'vol_WMH',\n",
      "       'vol_TIV', 'cortical_thickness', 'cortical_thickness_SD', 'VSCALING',\n",
      "       'pgrey', 'grey', 'white', 'brain', 'vcsf', 'Lthal', 'Rthal', 'Lhippo',\n",
      "       'Rhippo', 'Lamy', 'Ramy', 'Lputam', 'Rputam', 'Lcaud', 'Rcaud',\n",
      "       'Laccumb', 'Raccumb', 'Lpall', 'Rpall', 'Brainstem'],\n",
      "      dtype='object')\n"
     ]
    },
    {
     "data": {
      "text/html": [
       "<div>\n",
       "<style scoped>\n",
       "    .dataframe tbody tr th:only-of-type {\n",
       "        vertical-align: middle;\n",
       "    }\n",
       "\n",
       "    .dataframe tbody tr th {\n",
       "        vertical-align: top;\n",
       "    }\n",
       "\n",
       "    .dataframe thead th {\n",
       "        text-align: right;\n",
       "    }\n",
       "</style>\n",
       "<table border=\"1\" class=\"dataframe\">\n",
       "  <thead>\n",
       "    <tr style=\"text-align: right;\">\n",
       "      <th></th>\n",
       "      <th>subid</th>\n",
       "      <th>subject</th>\n",
       "      <th>FLAIR_contrast</th>\n",
       "      <th>phenotype</th>\n",
       "      <th>age</th>\n",
       "      <th>race</th>\n",
       "      <th>ethnicity</th>\n",
       "      <th>sex</th>\n",
       "      <th>choroid_volume</th>\n",
       "      <th>choroid_vol_frac</th>\n",
       "      <th>...</th>\n",
       "      <th>Ramy</th>\n",
       "      <th>Lputam</th>\n",
       "      <th>Rputam</th>\n",
       "      <th>Lcaud</th>\n",
       "      <th>Rcaud</th>\n",
       "      <th>Laccumb</th>\n",
       "      <th>Raccumb</th>\n",
       "      <th>Lpall</th>\n",
       "      <th>Rpall</th>\n",
       "      <th>Brainstem</th>\n",
       "    </tr>\n",
       "  </thead>\n",
       "  <tbody>\n",
       "    <tr>\n",
       "      <th>0</th>\n",
       "      <td>1010</td>\n",
       "      <td>ms1010</td>\n",
       "      <td>no</td>\n",
       "      <td>RRMS</td>\n",
       "      <td>20.133603</td>\n",
       "      <td>White</td>\n",
       "      <td>Hispanic or Latino</td>\n",
       "      <td>Female</td>\n",
       "      <td>1933.325928</td>\n",
       "      <td>1.532423</td>\n",
       "      <td>...</td>\n",
       "      <td>1.570915</td>\n",
       "      <td>6.533811</td>\n",
       "      <td>6.654875</td>\n",
       "      <td>5.372034</td>\n",
       "      <td>5.793570</td>\n",
       "      <td>0.883184</td>\n",
       "      <td>0.773059</td>\n",
       "      <td>2.308968</td>\n",
       "      <td>2.323554</td>\n",
       "      <td>29.891876</td>\n",
       "    </tr>\n",
       "    <tr>\n",
       "      <th>1</th>\n",
       "      <td>1011</td>\n",
       "      <td>ms1011</td>\n",
       "      <td>yes</td>\n",
       "      <td>RRMS</td>\n",
       "      <td>28.880797</td>\n",
       "      <td>Other</td>\n",
       "      <td>Hispanic or Latino</td>\n",
       "      <td>Female</td>\n",
       "      <td>2303.349365</td>\n",
       "      <td>1.579446</td>\n",
       "      <td>...</td>\n",
       "      <td>2.057197</td>\n",
       "      <td>6.461690</td>\n",
       "      <td>6.791539</td>\n",
       "      <td>5.113006</td>\n",
       "      <td>5.948437</td>\n",
       "      <td>0.974902</td>\n",
       "      <td>0.722460</td>\n",
       "      <td>2.410756</td>\n",
       "      <td>2.308942</td>\n",
       "      <td>30.081795</td>\n",
       "    </tr>\n",
       "    <tr>\n",
       "      <th>2</th>\n",
       "      <td>1019</td>\n",
       "      <td>ms1019</td>\n",
       "      <td>no</td>\n",
       "      <td>RRMS</td>\n",
       "      <td>66.470459</td>\n",
       "      <td>White</td>\n",
       "      <td>Not Hispanic or Latino</td>\n",
       "      <td>Female</td>\n",
       "      <td>3353.079346</td>\n",
       "      <td>2.479118</td>\n",
       "      <td>...</td>\n",
       "      <td>1.924501</td>\n",
       "      <td>4.778929</td>\n",
       "      <td>4.688707</td>\n",
       "      <td>3.812061</td>\n",
       "      <td>3.999609</td>\n",
       "      <td>0.628003</td>\n",
       "      <td>0.110114</td>\n",
       "      <td>1.035068</td>\n",
       "      <td>1.307155</td>\n",
       "      <td>31.498878</td>\n",
       "    </tr>\n",
       "    <tr>\n",
       "      <th>3</th>\n",
       "      <td>1033</td>\n",
       "      <td>ms1033</td>\n",
       "      <td>yes</td>\n",
       "      <td>RRMS</td>\n",
       "      <td>48.943219</td>\n",
       "      <td>White</td>\n",
       "      <td>Not Hispanic or Latino</td>\n",
       "      <td>Female</td>\n",
       "      <td>1834.491211</td>\n",
       "      <td>1.278455</td>\n",
       "      <td>...</td>\n",
       "      <td>0.748343</td>\n",
       "      <td>6.117689</td>\n",
       "      <td>5.956475</td>\n",
       "      <td>4.562571</td>\n",
       "      <td>4.787144</td>\n",
       "      <td>0.864502</td>\n",
       "      <td>0.663864</td>\n",
       "      <td>2.187303</td>\n",
       "      <td>1.713516</td>\n",
       "      <td>28.571508</td>\n",
       "    </tr>\n",
       "    <tr>\n",
       "      <th>4</th>\n",
       "      <td>1065</td>\n",
       "      <td>ms1065</td>\n",
       "      <td>yes</td>\n",
       "      <td>RRMS</td>\n",
       "      <td>59.018234</td>\n",
       "      <td>White</td>\n",
       "      <td>Not Hispanic or Latino</td>\n",
       "      <td>Female</td>\n",
       "      <td>3014.648193</td>\n",
       "      <td>2.242647</td>\n",
       "      <td>...</td>\n",
       "      <td>1.964459</td>\n",
       "      <td>5.314401</td>\n",
       "      <td>6.116707</td>\n",
       "      <td>3.193821</td>\n",
       "      <td>3.477359</td>\n",
       "      <td>0.607680</td>\n",
       "      <td>0.529270</td>\n",
       "      <td>1.988262</td>\n",
       "      <td>2.130381</td>\n",
       "      <td>26.807235</td>\n",
       "    </tr>\n",
       "  </tbody>\n",
       "</table>\n",
       "<p>5 rows × 48 columns</p>\n",
       "</div>"
      ],
      "text/plain": [
       "   subid subject FLAIR_contrast phenotype        age   race  \\\n",
       "0   1010  ms1010             no      RRMS  20.133603  White   \n",
       "1   1011  ms1011            yes      RRMS  28.880797  Other   \n",
       "2   1019  ms1019             no      RRMS  66.470459  White   \n",
       "3   1033  ms1033            yes      RRMS  48.943219  White   \n",
       "4   1065  ms1065            yes      RRMS  59.018234  White   \n",
       "\n",
       "                ethnicity     sex  choroid_volume  choroid_vol_frac  ...  \\\n",
       "0      Hispanic or Latino  Female     1933.325928          1.532423  ...   \n",
       "1      Hispanic or Latino  Female     2303.349365          1.579446  ...   \n",
       "2  Not Hispanic or Latino  Female     3353.079346          2.479118  ...   \n",
       "3  Not Hispanic or Latino  Female     1834.491211          1.278455  ...   \n",
       "4  Not Hispanic or Latino  Female     3014.648193          2.242647  ...   \n",
       "\n",
       "       Ramy    Lputam    Rputam     Lcaud     Rcaud   Laccumb   Raccumb  \\\n",
       "0  1.570915  6.533811  6.654875  5.372034  5.793570  0.883184  0.773059   \n",
       "1  2.057197  6.461690  6.791539  5.113006  5.948437  0.974902  0.722460   \n",
       "2  1.924501  4.778929  4.688707  3.812061  3.999609  0.628003  0.110114   \n",
       "3  0.748343  6.117689  5.956475  4.562571  4.787144  0.864502  0.663864   \n",
       "4  1.964459  5.314401  6.116707  3.193821  3.477359  0.607680  0.529270   \n",
       "\n",
       "      Lpall     Rpall  Brainstem  \n",
       "0  2.308968  2.323554  29.891876  \n",
       "1  2.410756  2.308942  30.081795  \n",
       "2  1.035068  1.307155  31.498878  \n",
       "3  2.187303  1.713516  28.571508  \n",
       "4  1.988262  2.130381  26.807235  \n",
       "\n",
       "[5 rows x 48 columns]"
      ]
     },
     "execution_count": 13,
     "metadata": {},
     "output_type": "execute_result"
    }
   ],
   "source": [
    "print(df.columns)\n",
    "df.head()"
   ]
  },
  {
   "cell_type": "markdown",
   "metadata": {},
   "source": [
    "## Statistical Analysis"
   ]
  },
  {
   "cell_type": "markdown",
   "metadata": {},
   "source": [
    "### Descriptive Stats\n"
   ]
  },
  {
   "cell_type": "code",
   "execution_count": 57,
   "metadata": {},
   "outputs": [
    {
     "name": "stdout",
     "output_type": "stream",
     "text": [
      "36 patients in total\n",
      "15 patients with RRMS\n",
      "9 patients with OIND\n",
      "12 patients with NIND\n"
     ]
    }
   ],
   "source": [
    "print(len(df), \"patients in total\")\n",
    "print(sum(df['phenotype'] == \"RRMS\"), \"patients with RRMS\")\n",
    "print(sum(df['phenotype'] == \"OIND\"), \"patients with OIND\")\n",
    "print(sum(df['phenotype'] == \"NIND\"), \"patients with NIND\")"
   ]
  },
  {
   "cell_type": "code",
   "execution_count": null,
   "metadata": {},
   "outputs": [
    {
     "name": "stdout",
     "output_type": "stream",
     "text": [
      "Proportion of female subjects: 0.92\n",
      "Average age at scan: 46.75\n"
     ]
    }
   ],
   "source": [
    "print(\"Proportion of female subjects: {:0.2f}\".format(sum(df['sex'] == \"Female\") / len(df)) )\n",
    "print(\"Average age at scan: {:0.2f}\".format(df['age'].mean()))"
   ]
  },
  {
   "cell_type": "code",
   "execution_count": 76,
   "metadata": {},
   "outputs": [
    {
     "name": "stdout",
     "output_type": "stream",
     "text": [
      "Fraction of female RRMS patients: 0.93\n",
      "Average age of RRMS patient: 45.07\n",
      "\n",
      "\n",
      "Fraction of female OIND patients: 0.89\n",
      "Average age of OIND patient: 49.68\n",
      "\n",
      "\n",
      "Fraction of female NIND patients: 0.92\n",
      "Average age of NIND patient: 46.50\n"
     ]
    }
   ],
   "source": [
    "df_rrms = df.loc[df[\"phenotype\"] == \"RRMS\"]\n",
    "print(\"Fraction of female RRMS patients: {:0.2f}\".format(sum(df_rrms['sex'] == \"Female\") / len(df_rrms)))\n",
    "print(\"Average age of RRMS patient: {:0.2f}\".format(df_rrms['age'].mean()))\n",
    "print(\"\\n\")\n",
    "\n",
    "df_oind = df.loc[df[\"phenotype\"] == \"OIND\"]\n",
    "print(\"Fraction of female OIND patients: {:0.2f}\".format(sum(df_oind['sex'] == \"Female\") / len(df_oind)))\n",
    "print(\"Average age of OIND patient: {:0.2f}\".format(df_oind['age'].mean()))\n",
    "print(\"\\n\")\n",
    "\n",
    "df_nind = df.loc[df[\"phenotype\"] == \"NIND\"]\n",
    "print(\"Fraction of female NIND patients: {:0.2f}\".format(sum(df_nind['sex'] == \"Female\") / len(df_nind)))\n",
    "print(\"Average age of NIND patient: {:0.2f}\".format(df_nind['age'].mean()))"
   ]
  },
  {
   "cell_type": "markdown",
   "metadata": {},
   "source": [
    "#### Volumes"
   ]
  },
  {
   "cell_type": "code",
   "execution_count": 80,
   "metadata": {},
   "outputs": [
    {
     "name": "stdout",
     "output_type": "stream",
     "text": [
      "Mean choroid volumes:\n",
      "RRMS: 1849.70\n",
      "OIND: 1957.32\n",
      "NIND: 1814.22\n",
      "\n",
      "\n",
      "Mean pineal volumes:\n",
      "RRMS: 258.73\n",
      "OIND: 203.84\n",
      "NIND: 487.55\n",
      "\n",
      "\n",
      "Mean pituitary volumes:\n",
      "RRMS: 783.61\n",
      "OIND: 712.28\n",
      "NIND: 594.03\n"
     ]
    }
   ],
   "source": [
    "# choroid\n",
    "print(\"Mean choroid volumes:\")\n",
    "print(\"RRMS: {:0.2f}\".format(df_rrms['choroid_volume'].mean()))\n",
    "print(\"OIND: {:0.2f}\".format(df_oind['choroid_volume'].mean()))\n",
    "print(\"NIND: {:0.2f}\".format(df_nind['choroid_volume'].mean()))\n",
    "print(\"\\n\")\n",
    "\n",
    "# pineal\n",
    "print(\"Mean pineal volumes:\")\n",
    "print(\"RRMS: {:0.2f}\".format(df_rrms['pineal_volume'].mean()))\n",
    "print(\"OIND: {:0.2f}\".format(df_oind['pineal_volume'].mean()))\n",
    "print(\"NIND: {:0.2f}\".format(df_nind['pineal_volume'].mean()))\n",
    "print(\"\\n\")\n",
    "\n",
    "# pituitary\n",
    "print(\"Mean pituitary volumes:\")\n",
    "print(\"RRMS: {:0.2f}\".format(df_rrms['pituitary_volume'].mean()))\n",
    "print(\"OIND: {:0.2f}\".format(df_oind['pituitary_volume'].mean()))\n",
    "print(\"NIND: {:0.2f}\".format(df_nind['pituitary_volume'].mean()))"
   ]
  },
  {
   "cell_type": "markdown",
   "metadata": {},
   "source": [
    "### Regression Models\n",
    "\n",
    "Looking at how volume of ROI predicts phenotype"
   ]
  },
  {
   "cell_type": "code",
   "execution_count": 7,
   "metadata": {},
   "outputs": [
    {
     "data": {
      "text/plain": [
       "0     1261.613388\n",
       "1     1458.327022\n",
       "2     1352.529088\n",
       "3     1434.927928\n",
       "4     1344.236321\n",
       "5     1829.585250\n",
       "6     1359.725458\n",
       "7     1412.454725\n",
       "8     1378.098097\n",
       "9     1598.984443\n",
       "10    1494.333944\n",
       "11    1261.298744\n",
       "12    1405.386674\n",
       "13    1407.818022\n",
       "14    1575.007952\n",
       "15    1460.629823\n",
       "16    1384.942143\n",
       "17    1353.108765\n",
       "18    1678.040837\n",
       "19    1417.545000\n",
       "20    1604.281892\n",
       "21    1233.198943\n",
       "22    1283.576823\n",
       "23    1201.823612\n",
       "24    1290.438280\n",
       "25    1466.660715\n",
       "26    1183.406400\n",
       "27    1381.711052\n",
       "28    1327.653836\n",
       "29    1372.628292\n",
       "30    1778.139381\n",
       "31    1320.825031\n",
       "32    1343.459488\n",
       "33    1394.754526\n",
       "34    1169.879523\n",
       "35    1383.597588\n",
       "Name: vol_TIV, dtype: float64"
      ]
     },
     "execution_count": 7,
     "metadata": {},
     "output_type": "execute_result"
    }
   ],
   "source": [
    "df['vol_TIV']"
   ]
  },
  {
   "cell_type": "markdown",
   "metadata": {},
   "source": [
    "#### Pituitary Volume"
   ]
  },
  {
   "cell_type": "code",
   "execution_count": null,
   "metadata": {},
   "outputs": [],
   "source": [
    "from statsmodels.miscmodels.ordinal_model import OrderedModel\n",
    "\n",
    "df['sex_factor'], _ = df['sex'].factorize()\n",
    "predictors = [\"age_at_scan\", \"vol_TIV\", \"sex_factor\", \"pituitary_volume\"]\n",
    "outcome = \"phenotype\"\n",
    "\n",
    "x = df[predictors]\n",
    "Y = df[outcome]\n",
    "\n",
    "mod_prob = OrderedModel(Y, x, distr='probit')\n",
    "res_prob = mod_prob.fit(method='bfgs')\n",
    "res_prob.summary()\n"
   ]
  },
  {
   "cell_type": "markdown",
   "metadata": {},
   "source": [
    "#### statsmodels usage\n",
    "\n",
    "- `statsmodels.regression.linear_model.OLS`\n",
    "- `statsmodels.discrete.discrete_model.Logit`\n",
    "- `statsmodels.discrete.discrete_model.Probit`\n",
    "- `statsmodels.miscmodels.ordinal_model.OrderedModel`\n",
    "\n",
    "Why is OrderedModel not available under `statsmodels.api` unlike all the others? Also, OrderedModel isn't available under `statsmodels.miscmodels.api` either"
   ]
  },
  {
   "cell_type": "code",
   "execution_count": null,
   "metadata": {},
   "outputs": [],
   "source": [
    "import statsmodels.api as sm\n",
    "from statsmodels.miscmodels.ordinal_model import OrderedModel\n",
    "\n",
    "spector_data = sm.datasets.spector.load()\n",
    "\n",
    "Y = spector_data.endog\n",
    "x = spector_data.exog\n",
    "\n",
    "# Linear regression\n",
    "mod = sm.OLS(Y, x)\n",
    "\n",
    "# Regression with discrete dependent variable\n",
    "logit_mod = sm.Logit(Y, x)\n",
    "probit_mod = sm.Probit(Y, x)\n",
    "\n",
    "\n",
    "# Ordinal regression\n",
    "mod = OrderedModel(Y, x, distr='probit')"
   ]
  },
  {
   "cell_type": "markdown",
   "metadata": {},
   "source": [
    "Linear regression predicting pituitary size"
   ]
  },
  {
   "cell_type": "code",
   "execution_count": 14,
   "metadata": {},
   "outputs": [
    {
     "name": "stdout",
     "output_type": "stream",
     "text": [
      "                                 OLS Regression Results                                \n",
      "=======================================================================================\n",
      "Dep. Variable:                      y   R-squared (uncentered):                   0.958\n",
      "Model:                            OLS   Adj. R-squared (uncentered):              0.951\n",
      "Method:                 Least Squares   F-statistic:                              137.1\n",
      "Date:                Mon, 16 Dec 2024   Prob (F-statistic):                    3.70e-16\n",
      "Time:                        15:44:10   Log-Likelihood:                         -179.63\n",
      "No. Observations:                  28   AIC:                                      367.3\n",
      "Df Residuals:                      24   BIC:                                      372.6\n",
      "Df Model:                           4                                                  \n",
      "Covariance Type:            nonrobust                                                  \n",
      "==============================================================================\n",
      "                 coef    std err          t      P>|t|      [0.025      0.975]\n",
      "------------------------------------------------------------------------------\n",
      "x1            -0.7390      2.209     -0.335      0.741      -5.298       3.820\n",
      "x2             0.5778      0.077      7.505      0.000       0.419       0.737\n",
      "x3          -205.4953     99.803     -2.059      0.051    -411.479       0.489\n",
      "x4           -65.5745     34.976     -1.875      0.073    -137.762       6.613\n",
      "==============================================================================\n",
      "Omnibus:                        2.488   Durbin-Watson:                   1.207\n",
      "Prob(Omnibus):                  0.288   Jarque-Bera (JB):                1.397\n",
      "Skew:                           0.526   Prob(JB):                        0.497\n",
      "Kurtosis:                       3.304   Cond. No.                     4.68e+03\n",
      "==============================================================================\n",
      "\n",
      "Notes:\n",
      "[1] R² is computed without centering (uncentered) since the model does not contain a constant.\n",
      "[2] Standard Errors assume that the covariance matrix of the errors is correctly specified.\n",
      "[3] The condition number is large, 4.68e+03. This might indicate that there are\n",
      "strong multicollinearity or other numerical problems.\n"
     ]
    }
   ],
   "source": [
    "import statsmodels.api as sm\n",
    "import numpy as np\n",
    "\n",
    "df['sex_factor'], _ = df['sex'].factorize()\n",
    "df['phenotype_factor'], _ = df['phenotype'].factorize()\n",
    "predictors = [\"age\", \"vol_TIV\", \"sex_factor\", \"phenotype_factor\"]\n",
    "outcome = \"pituitary_volume\"\n",
    "\n",
    "x = np.asarray(df[predictors])\n",
    "Y = np.asarray(df[outcome])\n",
    "\n",
    "mod = sm.OLS(Y, x, missing='drop')\n",
    "\n",
    "res = mod.fit()\n",
    "\n",
    "print(res.summary())"
   ]
  },
  {
   "cell_type": "code",
   "execution_count": 22,
   "metadata": {},
   "outputs": [
    {
     "data": {
      "text/plain": [
       "0     1261.613388\n",
       "1     1458.327022\n",
       "2     1352.529088\n",
       "3     1434.927928\n",
       "4     1344.236321\n",
       "5     1829.585250\n",
       "6     1359.725458\n",
       "7     1412.454725\n",
       "8     1378.098097\n",
       "9     1598.984443\n",
       "10    1494.333944\n",
       "11    1261.298744\n",
       "12    1405.386674\n",
       "13    1407.818022\n",
       "14    1575.007952\n",
       "15    1460.629823\n",
       "16    1384.942143\n",
       "17    1353.108765\n",
       "18    1678.040837\n",
       "19    1417.545000\n",
       "20    1604.281892\n",
       "21    1233.198943\n",
       "22    1283.576823\n",
       "23    1201.823612\n",
       "24    1290.438280\n",
       "25    1466.660715\n",
       "26    1183.406400\n",
       "27    1381.711052\n",
       "28    1327.653836\n",
       "29    1372.628292\n",
       "30    1778.139381\n",
       "31    1320.825031\n",
       "32    1343.459488\n",
       "33    1394.754526\n",
       "34    1169.879523\n",
       "35    1383.597588\n",
       "Name: vol_TIV, dtype: float64"
      ]
     },
     "execution_count": 22,
     "metadata": {},
     "output_type": "execute_result"
    }
   ],
   "source": [
    "df['vol_TIV']"
   ]
  },
  {
   "cell_type": "code",
   "execution_count": 23,
   "metadata": {},
   "outputs": [
    {
     "data": {
      "text/plain": [
       "array([[2.01336035e+01, 1.26161339e+03, 0.00000000e+00, 0.00000000e+00],\n",
       "       [2.88807972e+01, 1.45832702e+03, 0.00000000e+00, 0.00000000e+00],\n",
       "       [6.64704594e+01, 1.35252909e+03, 0.00000000e+00, 0.00000000e+00],\n",
       "       [4.89432185e+01, 1.43492793e+03, 0.00000000e+00, 0.00000000e+00],\n",
       "       [5.90182336e+01, 1.34423632e+03, 0.00000000e+00, 0.00000000e+00],\n",
       "       [3.57882057e+01, 1.82958525e+03, 0.00000000e+00, 0.00000000e+00],\n",
       "       [5.94590155e+01, 1.35972546e+03, 0.00000000e+00, 0.00000000e+00],\n",
       "       [           nan, 1.41245473e+03, 0.00000000e+00, 0.00000000e+00],\n",
       "       [4.23178010e+01, 1.37809810e+03, 0.00000000e+00, 0.00000000e+00],\n",
       "       [6.19640804e+01, 1.59898444e+03, 1.00000000e+00, 1.00000000e+00],\n",
       "       [3.74801511e+01, 1.49433394e+03, 0.00000000e+00, 0.00000000e+00],\n",
       "       [7.23484641e+01, 1.26129874e+03, 0.00000000e+00, 1.00000000e+00],\n",
       "       [4.23506543e+01, 1.40538667e+03, 0.00000000e+00, 0.00000000e+00],\n",
       "       [4.00208071e+01, 1.40781802e+03, 0.00000000e+00, 0.00000000e+00],\n",
       "       [5.83036741e+01, 1.57500795e+03, 1.00000000e+00, 0.00000000e+00],\n",
       "       [3.70722225e+01, 1.46062982e+03, 0.00000000e+00, 0.00000000e+00],\n",
       "       [4.60685539e+01, 1.38494214e+03, 0.00000000e+00, 2.00000000e+00],\n",
       "       [5.47144500e+01, 1.35310876e+03, 0.00000000e+00, 0.00000000e+00],\n",
       "       [3.55253792e+01, 1.67804084e+03, 1.00000000e+00, 2.00000000e+00],\n",
       "       [5.78163500e+01, 1.41754500e+03, 0.00000000e+00, 2.00000000e+00],\n",
       "       [5.56754093e+01, 1.60428189e+03, 0.00000000e+00, 2.00000000e+00],\n",
       "       [6.22542846e+01, 1.23319894e+03, 0.00000000e+00, 2.00000000e+00],\n",
       "       [4.49433280e+01, 1.28357682e+03, 0.00000000e+00, 1.00000000e+00],\n",
       "       [4.91485517e+01, 1.20182361e+03, 0.00000000e+00, 1.00000000e+00],\n",
       "       [4.06614466e+01, 1.29043828e+03, 0.00000000e+00, 1.00000000e+00],\n",
       "       [3.90160434e+01, 1.46666071e+03, 0.00000000e+00, 2.00000000e+00],\n",
       "       [6.04993703e+01, 1.18340640e+03, 0.00000000e+00, 2.00000000e+00],\n",
       "       [5.87307671e+01, 1.38171105e+03, 0.00000000e+00, 1.00000000e+00],\n",
       "       [4.17921481e+01, 1.32765384e+03, 0.00000000e+00, 2.00000000e+00],\n",
       "       [2.42840716e+01, 1.37262829e+03, 0.00000000e+00, 2.00000000e+00],\n",
       "       [3.64096808e+01, 1.77813938e+03, 0.00000000e+00, 2.00000000e+00],\n",
       "       [2.84454909e+01, 1.32082503e+03, 0.00000000e+00, 1.00000000e+00],\n",
       "       [4.63970870e+01, 1.34345949e+03, 0.00000000e+00, 2.00000000e+00],\n",
       "       [5.23052072e+01, 1.39475453e+03, 0.00000000e+00, 2.00000000e+00],\n",
       "       [5.15139900e+01, 1.16987952e+03, 0.00000000e+00, 1.00000000e+00],\n",
       "       [3.93418387e+01, 1.38359759e+03, 0.00000000e+00, 1.00000000e+00]])"
      ]
     },
     "execution_count": 23,
     "metadata": {},
     "output_type": "execute_result"
    }
   ],
   "source": [
    "import numpy as np \n",
    "np.asarray(x)"
   ]
  },
  {
   "cell_type": "code",
   "execution_count": null,
   "metadata": {},
   "outputs": [],
   "source": [
    "spector_data = sm.datasets.spector.load()\n",
    "spector_data.exog = sm.add_constant(spector_data.exog, prepend=False)\n",
    "\n",
    "x1 = "
   ]
  }
 ],
 "metadata": {
  "kernelspec": {
   "display_name": "monai",
   "language": "python",
   "name": "python3"
  },
  "language_info": {
   "codemirror_mode": {
    "name": "ipython",
    "version": 3
   },
   "file_extension": ".py",
   "mimetype": "text/x-python",
   "name": "python",
   "nbconvert_exporter": "python",
   "pygments_lexer": "ipython3",
   "version": "3.12.7"
  }
 },
 "nbformat": 4,
 "nbformat_minor": 2
}
