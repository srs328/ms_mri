{
 "cells": [
  {
   "cell_type": "code",
   "execution_count": 1,
   "metadata": {},
   "outputs": [],
   "source": [
    "import pandas as pd\n",
    "from reload_recursive import reload_recursive\n",
    "import os\n",
    "from loguru import logger\n",
    "from pathlib import Path\n",
    "import json\n",
    "import numpy as np\n",
    "from tqdm.notebook import tqdm\n",
    "import re\n",
    "import sys\n",
    "\n",
    "import mri_data\n",
    "import monai_training"
   ]
  },
  {
   "cell_type": "code",
   "execution_count": 2,
   "metadata": {},
   "outputs": [],
   "source": [
    "reload_recursive(mri_data)\n",
    "reload_recursive(monai_training)\n",
    "\n",
    "from mri_data.file_manager import DataSet, scan_3Tpioneer_bids\n",
    "from mri_data import file_manager as fm\n",
    "from mri_data import utils\n",
    "from monai_training.preprocess import DataSetProcesser"
   ]
  },
  {
   "cell_type": "code",
   "execution_count": null,
   "metadata": {},
   "outputs": [
    {
     "data": {
      "text/plain": [
       "1"
      ]
     },
     "execution_count": 3,
     "metadata": {},
     "output_type": "execute_result"
    }
   ],
   "source": [
    "logger.remove()\n",
    "logger.add(sys.stderr, level=\"INFO\")"
   ]
  },
  {
   "cell_type": "code",
   "execution_count": 4,
   "metadata": {},
   "outputs": [],
   "source": [
    "to_load = True\n",
    "drive_root = fm.get_drive_root()\n",
    "msmri_home = Path(\"/home/srs-9/Projects/ms_mri\")\n",
    "inference_root = drive_root / \"3Tpioneer_bids_predictions\"\n",
    "dataroot = drive_root / \"3Tpioneer_bids\"\n",
    "clinical_data_root = drive_root / \"Secure_Data\"\n",
    "project_dataroot = msmri_home / \"data\""
   ]
  },
  {
   "cell_type": "code",
   "execution_count": 5,
   "metadata": {},
   "outputs": [
    {
     "data": {
      "text/plain": [
       "PosixPath('/mnt/h/Secure_Data')"
      ]
     },
     "execution_count": 5,
     "metadata": {},
     "output_type": "execute_result"
    }
   ],
   "source": [
    "clinical_data_root"
   ]
  },
  {
   "cell_type": "code",
   "execution_count": 6,
   "metadata": {},
   "outputs": [],
   "source": [
    "def subject_to_subid(subject):\n",
    "    if not isinstance(subject, str):\n",
    "        return None\n",
    "    re_match = re.match(r\"ms(\\d{4})\", subject)\n",
    "    if re_match:\n",
    "        return_val = int(re_match[1])\n",
    "        return return_val\n",
    "    else:\n",
    "        return None"
   ]
  },
  {
   "cell_type": "markdown",
   "metadata": {},
   "source": [
    "### Data Cleaning\n",
    "\n",
    "- Add column which is subid as int\n",
    "- Set the index to the new column\n",
    "- Remove any rows where subid is NaN\n",
    "- Rename columns\n",
    "- Check \"Working with missing data\" on pandas documentation"
   ]
  },
  {
   "cell_type": "code",
   "execution_count": 7,
   "metadata": {},
   "outputs": [],
   "source": [
    "if not to_load:\n",
    "    df = pd.read_excel(clinical_data_root / \"manual_labeling_clinicaldata (UNSECURE).xlsx\")\n",
    "    df = df.convert_dtypes()\n",
    "\n",
    "    with open(msmri_home / \"data\" / \"clinical_data_columns.txt\", 'r') as f:\n",
    "        keep_columns = [line.rstrip() for line in f.readlines()]\n",
    "    df = df[keep_columns]\n",
    "    new_columns = {\n",
    "        \"ID#\": \"subject\",\n",
    "        \"FLAIR contrast?\": \"FLAIR_contrast\",\n",
    "        \"age_at_scan\": \"age\",\n",
    "    }\n",
    "    df.rename(columns=new_columns, inplace=True)\n",
    "    df[\"subid\"] = df[\"subject\"].apply(subject_to_subid)\n",
    "    df.drop(df[df[\"subid\"].isna()].index, inplace=True)\n",
    "    df[\"subid\"] = df[\"subid\"].astype(int)\n",
    "    df = df.set_index(\"subid\")\n",
    "\n",
    "    new_columns = {}\n",
    "    for col in df.columns:\n",
    "        new_columns[col] = col.replace(\" \", \"_\")\n",
    "    df.rename(columns=new_columns, inplace=True)\n",
    "    df.head()"
   ]
  },
  {
   "cell_type": "code",
   "execution_count": 9,
   "metadata": {},
   "outputs": [],
   "source": [
    "if not to_load:\n",
    "    dataset_proc = DataSetProcesser.new_dataset(dataroot, scan_3Tpioneer_bids, filters=[fm.filter_first_ses])\n",
    "    dataset = dataset_proc.dataset"
   ]
  },
  {
   "cell_type": "code",
   "execution_count": 11,
   "metadata": {},
   "outputs": [],
   "source": [
    "scan = dataset.find_scan(subid='1540')[0]"
   ]
  },
  {
   "cell_type": "code",
   "execution_count": null,
   "metadata": {},
   "outputs": [],
   "source": [
    "scan.root"
   ]
  },
  {
   "cell_type": "markdown",
   "metadata": {},
   "source": [
    "### Additional Data\n",
    "\n",
    "- ROI size"
   ]
  },
  {
   "cell_type": "code",
   "execution_count": 12,
   "metadata": {},
   "outputs": [
    {
     "data": {
      "application/vnd.jupyter.widget-view+json": {
       "model_id": "64f8adaac74b4471976cfd970c6fe12c",
       "version_major": 2,
       "version_minor": 0
      },
      "text/plain": [
       "  0%|          | 0/36 [00:00<?, ?it/s]"
      ]
     },
     "metadata": {},
     "output_type": "display_data"
    },
    {
     "name": "stdout",
     "output_type": "stream",
     "text": [
      "241025-21:05:13,85 nipype.interface INFO:\n",
      "\t stdout 2024-10-25T21:05:13.084842:1.000000 2207 1129.992188 \n",
      "241025-21:05:13,488 nipype.interface INFO:\n",
      "\t stdout 2024-10-25T21:05:13.487969:1.000000 293 150.017090 \n",
      "241025-21:05:13,841 nipype.interface INFO:\n",
      "\t stdout 2024-10-25T21:05:13.841578:1.000000 3776 1933.325928 \n",
      "241025-21:05:14,160 nipype.interface INFO:\n",
      "\t stdout 2024-10-25T21:05:14.160179:1.000000 1967 1007.043396 \n",
      "241025-21:05:14,498 nipype.interface INFO:\n",
      "\t stdout 2024-10-25T21:05:14.498857:1.000000 554 283.630951 \n",
      "241025-21:05:14,846 nipype.interface INFO:\n",
      "\t stdout 2024-10-25T21:05:14.846195:1.000000 4499 2303.349365 \n",
      "241025-21:05:15,206 nipype.interface INFO:\n",
      "\t stdout 2024-10-25T21:05:15.206310:1.000000 1087 556.542542 \n",
      "241025-21:05:15,578 nipype.interface INFO:\n",
      "\t stdout 2024-10-25T21:05:15.578798:1.000000 260 133.119675 \n",
      "241025-21:05:15,965 nipype.interface INFO:\n",
      "\t stdout 2024-10-25T21:05:15.964956:1.000000 6549 3353.079346 \n",
      "241025-21:05:16,370 nipype.interface INFO:\n",
      "\t stdout 2024-10-25T21:05:16.370488:1.000000 1445 739.838074 \n",
      "241025-21:05:16,774 nipype.interface INFO:\n",
      "\t stdout 2024-10-25T21:05:16.774262:1.000000 610 312.319214 \n",
      "241025-21:05:17,162 nipype.interface INFO:\n",
      "\t stdout 2024-10-25T21:05:17.162443:1.000000 3583 1834.491211 \n",
      "241025-21:05:17,503 nipype.interface INFO:\n",
      "\t stdout 2024-10-25T21:05:17.503736:1.000000 1576 806.909912 \n",
      "241025-21:05:17,895 nipype.interface INFO:\n",
      "\t stdout 2024-10-25T21:05:17.895874:1.000000 315 161.279587 \n",
      "241025-21:05:18,268 nipype.interface INFO:\n",
      "\t stdout 2024-10-25T21:05:18.268884:1.000000 5888 3014.648193 \n",
      "241025-21:05:18,617 nipype.interface INFO:\n",
      "\t stdout 2024-10-25T21:05:18.617435:1.000000 1482 758.746582 \n",
      "241025-21:05:18,942 nipype.interface INFO:\n",
      "\t stdout 2024-10-25T21:05:18.942057:1.000000 609 311.792603 \n",
      "241025-21:05:19,289 nipype.interface INFO:\n",
      "\t stdout 2024-10-25T21:05:19.289930:1.000000 3786 1938.336304 \n",
      "241025-21:05:19,661 nipype.interface INFO:\n",
      "\t stdout 2024-10-25T21:05:19.661468:1.000000 1303 667.108582 \n",
      "241025-21:05:20,2 nipype.interface INFO:\n",
      "\t stdout 2024-10-25T21:05:20.002307:1.000000 461 236.022324 \n",
      "241025-21:05:20,334 nipype.interface INFO:\n",
      "\t stdout 2024-10-25T21:05:20.334399:1.000000 2597 1329.609375 \n",
      "241025-21:05:20,673 nipype.interface INFO:\n",
      "\t stdout 2024-10-25T21:05:20.673171:1.000000 1649 844.291199 \n",
      "241025-21:05:21,18 nipype.interface INFO:\n",
      "\t stdout 2024-10-25T21:05:21.018649:1.000000 102 52.224194 \n",
      "241025-21:05:21,385 nipype.interface INFO:\n",
      "\t stdout 2024-10-25T21:05:21.385487:1.000000 4164 2131.976074 \n",
      "241025-21:05:21,742 nipype.interface INFO:\n",
      "\t stdout 2024-10-25T21:05:21.742808:1.000000 670 343.056488 \n",
      "241025-21:05:22,112 nipype.interface INFO:\n",
      "\t stdout 2024-10-25T21:05:22.112533:1.000000 1792 917.548035 \n",
      "241025-21:05:22,473 nipype.interface INFO:\n",
      "\t stdout 2024-10-25T21:05:22.473502:1.000000 1289 659.966248 \n",
      "241025-21:05:22,835 nipype.interface INFO:\n",
      "\t stdout 2024-10-25T21:05:22.834991:1.000000 348 178.175552 \n",
      "241025-21:05:23,203 nipype.interface INFO:\n",
      "\t stdout 2024-10-25T21:05:23.203140:1.000000 4221 2161.146484 \n",
      "241025-21:05:23,543 nipype.interface INFO:\n",
      "\t stdout 2024-10-25T21:05:23.543932:1.000000 1425 729.620728 \n",
      "241025-21:05:23,904 nipype.interface INFO:\n",
      "\t stdout 2024-10-25T21:05:23.904305:1.000000 368 188.421356 \n",
      "241025-21:05:24,258 nipype.interface INFO:\n",
      "\t stdout 2024-10-25T21:05:24.258573:1.000000 1802 922.650330 \n",
      "241025-21:05:24,623 nipype.interface INFO:\n",
      "\t stdout 2024-10-25T21:05:24.623724:1.000000 1586 812.009338 \n",
      "241025-21:05:24,987 nipype.interface INFO:\n",
      "\t stdout 2024-10-25T21:05:24.987390:1.000000 369 188.922714 \n",
      "241025-21:05:25,353 nipype.interface INFO:\n",
      "\t stdout 2024-10-25T21:05:25.352992:1.000000 6008 3076.010010 \n",
      "241025-21:05:25,711 nipype.interface INFO:\n",
      "\t stdout 2024-10-25T21:05:25.711379:1.000000 1815 929.239868 \n",
      "241025-21:05:26,71 nipype.interface INFO:\n",
      "\t stdout 2024-10-25T21:05:26.071511:1.000000 628 321.522125 \n",
      "241025-21:05:26,444 nipype.interface INFO:\n",
      "\t stdout 2024-10-25T21:05:26.444164:1.000000 2805 1436.098145 \n",
      "241025-21:05:26,814 nipype.interface INFO:\n",
      "\t stdout 2024-10-25T21:05:26.814824:1.000000 1463 749.058838 \n",
      "241025-21:05:27,154 nipype.interface INFO:\n",
      "\t stdout 2024-10-25T21:05:27.154366:1.000000 623 318.977203 \n",
      "241025-21:05:27,534 nipype.interface INFO:\n",
      "\t stdout 2024-10-25T21:05:27.534397:1.000000 1962 1004.547791 \n",
      "241025-21:05:27,920 nipype.interface INFO:\n",
      "\t stdout 2024-10-25T21:05:27.920170:1.000000 1370 701.438232 \n",
      "241025-21:05:28,301 nipype.interface INFO:\n",
      "\t stdout 2024-10-25T21:05:28.301815:1.000000 860 440.318909 \n",
      "241025-21:05:28,674 nipype.interface INFO:\n",
      "\t stdout 2024-10-25T21:05:28.674197:1.000000 5970 3056.632324 \n",
      "241025-21:05:29,52 nipype.interface INFO:\n",
      "\t stdout 2024-10-25T21:05:29.052281:1.000000 1336 684.033630 \n",
      "241025-21:05:29,402 nipype.interface INFO:\n",
      "\t stdout 2024-10-25T21:05:29.402167:1.000000 712 364.544891 \n",
      "241025-21:05:29,756 nipype.interface INFO:\n",
      "\t stdout 2024-10-25T21:05:29.756434:1.000000 2481 1270.275024 \n",
      "241025-21:05:30,69 nipype.interface INFO:\n",
      "\t stdout 2024-10-25T21:05:30.069661:1.000000 1171 599.551941 \n",
      "241025-21:05:30,381 nipype.interface INFO:\n",
      "\t stdout 2024-10-25T21:05:30.381443:1.000000 557 285.183960 \n",
      "241025-21:05:30,703 nipype.interface INFO:\n",
      "\t stdout 2024-10-25T21:05:30.703020:1.000000 2563 1312.255737 \n",
      "241025-21:05:31,37 nipype.interface INFO:\n",
      "\t stdout 2024-10-25T21:05:31.037733:1.000000 1302 666.622253 \n",
      "241025-21:05:31,371 nipype.interface INFO:\n",
      "\t stdout 2024-10-25T21:05:31.371315:1.000000 515 263.679321 \n",
      "241025-21:05:31,711 nipype.interface INFO:\n",
      "\t stdout 2024-10-25T21:05:31.711218:1.000000 2537 1298.940674 \n",
      "241025-21:05:32,82 nipype.interface INFO:\n",
      "\t stdout 2024-10-25T21:05:32.082232:1.000000 1003 513.513855 \n",
      "241025-21:05:32,414 nipype.interface INFO:\n",
      "\t stdout 2024-10-25T21:05:32.414060:1.000000 627 321.010132 \n",
      "241025-21:05:32,746 nipype.interface INFO:\n",
      "\t stdout 2024-10-25T21:05:32.746252:1.000000 2984 1527.741943 \n",
      "241025-21:05:33,56 nipype.interface INFO:\n",
      "\t stdout 2024-10-25T21:05:33.056863:1.000000 825 422.398865 \n",
      "241025-21:05:33,385 nipype.interface INFO:\n",
      "\t stdout 2024-10-25T21:05:33.385525:1.000000 906 463.870758 \n",
      "241025-21:05:33,702 nipype.interface INFO:\n",
      "\t stdout 2024-10-25T21:05:33.702139:1.000000 2486 1272.828491 \n",
      "241025-21:05:34,118 nipype.interface INFO:\n",
      "\t stdout 2024-10-25T21:05:34.118330:1.000000 1495 765.442078 \n",
      "241025-21:05:34,488 nipype.interface INFO:\n",
      "\t stdout 2024-10-25T21:05:34.488867:1.000000 493 252.416672 \n",
      "241025-21:05:34,859 nipype.interface INFO:\n",
      "\t stdout 2024-10-25T21:05:34.859062:1.000000 4877 2497.030762 \n",
      "241025-21:05:35,235 nipype.interface INFO:\n",
      "\t stdout 2024-10-25T21:05:35.235717:1.000000 1389 711.168884 \n",
      "241025-21:05:35,616 nipype.interface INFO:\n",
      "\t stdout 2024-10-25T21:05:35.616340:1.000000 261 133.632156 \n",
      "241025-21:05:36,3 nipype.interface INFO:\n",
      "\t stdout 2024-10-25T21:05:36.003834:1.000000 4551 2330.114990 \n",
      "241025-21:05:36,363 nipype.interface INFO:\n",
      "\t stdout 2024-10-25T21:05:36.363165:1.000000 1598 818.176025 \n",
      "241025-21:05:36,735 nipype.interface INFO:\n",
      "\t stdout 2024-10-25T21:05:36.735357:1.000000 318 162.816010 \n",
      "241025-21:05:37,92 nipype.interface INFO:\n",
      "\t stdout 2024-10-25T21:05:37.091957:1.000000 3066 1569.792114 \n",
      "241025-21:05:37,442 nipype.interface INFO:\n",
      "\t stdout 2024-10-25T21:05:37.442065:1.000000 1287 658.944336 \n",
      "241025-21:05:37,832 nipype.interface INFO:\n",
      "\t stdout 2024-10-25T21:05:37.832033:1.000000 732 374.784210 \n",
      "241025-21:05:38,192 nipype.interface INFO:\n",
      "\t stdout 2024-10-25T21:05:38.192481:1.000000 4881 2499.073486 \n",
      "241025-21:05:38,577 nipype.interface INFO:\n",
      "\t stdout 2024-10-25T21:05:38.577444:1.000000 1450 742.400574 \n",
      "241025-21:05:38,919 nipype.interface INFO:\n",
      "\t stdout 2024-10-25T21:05:38.919946:1.000000 590 302.080231 \n",
      "241025-21:05:39,288 nipype.interface INFO:\n",
      "\t stdout 2024-10-25T21:05:39.288103:1.000000 4351 2227.713623 \n",
      "241025-21:05:39,673 nipype.interface INFO:\n",
      "\t stdout 2024-10-25T21:05:39.673811:1.000000 1600 819.200745 \n",
      "241025-21:05:40,87 nipype.interface INFO:\n",
      "\t stdout 2024-10-25T21:05:40.087862:1.000000 652 333.824310 \n",
      "241025-21:05:40,499 nipype.interface INFO:\n",
      "\t stdout 2024-10-25T21:05:40.499631:1.000000 3431 1756.673584 \n",
      "241025-21:05:40,889 nipype.interface INFO:\n",
      "\t stdout 2024-10-25T21:05:40.889374:1.000000 959 491.006897 \n",
      "241025-21:05:41,260 nipype.interface INFO:\n",
      "\t stdout 2024-10-25T21:05:41.260327:1.000000 2302 1178.621460 \n",
      "241025-21:05:41,639 nipype.interface INFO:\n",
      "\t stdout 2024-10-25T21:05:41.639306:1.000000 3351 1715.708252 \n",
      "241025-21:05:41,946 nipype.interface INFO:\n",
      "\t stdout 2024-10-25T21:05:41.946160:1.000000 1137 582.162781 \n",
      "241025-21:05:42,266 nipype.interface INFO:\n",
      "\t stdout 2024-10-25T21:05:42.266491:1.000000 407 208.390701 \n",
      "241025-21:05:42,577 nipype.interface INFO:\n",
      "\t stdout 2024-10-25T21:05:42.577359:1.000000 2887 1478.191650 \n",
      "241025-21:05:42,934 nipype.interface INFO:\n",
      "\t stdout 2024-10-25T21:05:42.934181:1.000000 943 482.814789 \n",
      "241025-21:05:43,289 nipype.interface INFO:\n",
      "\t stdout 2024-10-25T21:05:43.288996:1.000000 392 200.703476 \n",
      "241025-21:05:43,660 nipype.interface INFO:\n",
      "\t stdout 2024-10-25T21:05:43.660151:1.000000 3927 2010.618774 \n",
      "241025-21:05:44,1 nipype.interface INFO:\n",
      "\t stdout 2024-10-25T21:05:44.001476:1.000000 609 311.808014 \n",
      "241025-21:05:44,349 nipype.interface INFO:\n",
      "\t stdout 2024-10-25T21:05:44.349070:1.000000 2606 1334.250732 \n",
      "241025-21:05:44,733 nipype.interface INFO:\n",
      "\t stdout 2024-10-25T21:05:44.733243:1.000000 246 125.952003 \n",
      "241025-21:05:45,147 nipype.interface INFO:\n",
      "\t stdout 2024-10-25T21:05:45.147398:1.000000 4415 2260.480225 \n",
      "241025-21:05:45,530 nipype.interface INFO:\n",
      "\t stdout 2024-10-25T21:05:45.530175:1.000000 260 133.120499 \n",
      "241025-21:05:45,850 nipype.interface INFO:\n",
      "\t stdout 2024-10-25T21:05:45.849956:1.000000 3301 1690.118408 \n",
      "241025-21:05:46,207 nipype.interface INFO:\n",
      "\t stdout 2024-10-25T21:05:46.207183:1.000000 1057 541.184021 \n",
      "241025-21:05:46,564 nipype.interface INFO:\n",
      "\t stdout 2024-10-25T21:05:46.564764:1.000000 4101 2099.712158 \n",
      "241025-21:05:46,968 nipype.interface INFO:\n",
      "\t stdout 2024-10-25T21:05:46.968651:1.000000 3831 1961.472046 \n",
      "241025-21:05:47,378 nipype.interface INFO:\n",
      "\t stdout 2024-10-25T21:05:47.378646:1.000000 281 143.872543 \n",
      "241025-21:05:47,767 nipype.interface INFO:\n",
      "\t stdout 2024-10-25T21:05:47.767657:1.000000 3499 1791.494751 \n",
      "241025-21:05:48,141 nipype.interface INFO:\n",
      "\t stdout 2024-10-25T21:05:48.141642:1.000000 236 120.831985 \n",
      "241025-21:05:48,503 nipype.interface INFO:\n",
      "\t stdout 2024-10-25T21:05:48.503040:1.000000 2860 1464.319702 \n",
      "241025-21:05:48,885 nipype.interface INFO:\n",
      "\t stdout 2024-10-25T21:05:48.884998:1.000000 515 263.681000 \n",
      "241025-21:05:49,258 nipype.interface INFO:\n",
      "\t stdout 2024-10-25T21:05:49.258896:1.000000 2831 1449.477417 \n"
     ]
    }
   ],
   "source": [
    "if not to_load:\n",
    "    dataset_proc = DataSetProcesser.new_dataset(dataroot, scan_3Tpioneer_bids, filters=[fm.filter_first_ses])\n",
    "    dataset = dataset_proc.dataset\n",
    "\n",
    "    volumes = dict(pituitary=[], pineal=[], choroid=[], subid=[])\n",
    "    for subid, _ in tqdm(df.iterrows(), total=len(df)):\n",
    "        scan = dataset.find_scan(subid=str(subid))[0]\n",
    "        volumes['subid'].append(subid)\n",
    "        try:\n",
    "            pituitary_label = fm.find_label(scan, \"pituitary\", [\"CH\", \"DT\"])\n",
    "        except FileNotFoundError:\n",
    "            volumes['pituitary'].append(None)\n",
    "        else:\n",
    "            volumes['pituitary'].append(utils.compute_volume(pituitary_label)[1])\n",
    "        try:\n",
    "            pineal_label = fm.find_label(scan, \"pineal\", [\"CH\", \"SRS\"])\n",
    "        except FileNotFoundError:\n",
    "            volumes['pineal'].append(None)\n",
    "        else:\n",
    "            volumes['pineal'].append(utils.compute_volume(pineal_label)[1])\n",
    "        try:\n",
    "            choroid_label = fm.find_label(scan, \"choroid_t1_flair\", [\"CH\", \"ED\"])\n",
    "        except FileNotFoundError:\n",
    "            volumes['choroid'].append(None)\n",
    "        else:\n",
    "            volumes['choroid'].append(utils.compute_volume(choroid_label)[1])\n",
    "\n",
    "\n",
    "    df.insert(7, 'pituitary_volume', volumes['pituitary'])\n",
    "    df.insert(8, 'pituitary_vol_frac', df['pituitary_volume'] / df['vol_TIV'])\n",
    "    df.insert(7, 'pineal_volume', volumes['pineal'])\n",
    "    df.insert(8, 'pineal_vol_frac', df['pineal_volume'] / df['vol_TIV'])\n",
    "    df.insert(7, 'choroid_volume', volumes['choroid'])\n",
    "    df.insert(8, 'choroid_vol_frac', df['choroid_volume'] / df['vol_TIV'])\n",
    "        \n",
    "    df.to_csv(project_dataroot / \"clinical_data.csv\")"
   ]
  },
  {
   "cell_type": "code",
   "execution_count": 11,
   "metadata": {},
   "outputs": [
    {
     "ename": "FileNotFoundError",
     "evalue": "[Errno 2] No such file or directory: '/home/srs-9/Projects/ms_mri/data/clinical_data.csv'",
     "output_type": "error",
     "traceback": [
      "\u001b[0;31m---------------------------------------------------------------------------\u001b[0m",
      "\u001b[0;31mFileNotFoundError\u001b[0m                         Traceback (most recent call last)",
      "Cell \u001b[0;32mIn[11], line 2\u001b[0m\n\u001b[1;32m      1\u001b[0m \u001b[38;5;28;01mif\u001b[39;00m to_load:\n\u001b[0;32m----> 2\u001b[0m     df \u001b[38;5;241m=\u001b[39m \u001b[43mpd\u001b[49m\u001b[38;5;241;43m.\u001b[39;49m\u001b[43mread_csv\u001b[49m\u001b[43m(\u001b[49m\u001b[43mproject_dataroot\u001b[49m\u001b[43m \u001b[49m\u001b[38;5;241;43m/\u001b[39;49m\u001b[43m \u001b[49m\u001b[38;5;124;43m\"\u001b[39;49m\u001b[38;5;124;43mclinical_data.csv\u001b[39;49m\u001b[38;5;124;43m\"\u001b[39;49m\u001b[43m)\u001b[49m\n",
      "File \u001b[0;32m~/.virtualenvs/monai/lib/python3.12/site-packages/pandas/io/parsers/readers.py:1026\u001b[0m, in \u001b[0;36mread_csv\u001b[0;34m(filepath_or_buffer, sep, delimiter, header, names, index_col, usecols, dtype, engine, converters, true_values, false_values, skipinitialspace, skiprows, skipfooter, nrows, na_values, keep_default_na, na_filter, verbose, skip_blank_lines, parse_dates, infer_datetime_format, keep_date_col, date_parser, date_format, dayfirst, cache_dates, iterator, chunksize, compression, thousands, decimal, lineterminator, quotechar, quoting, doublequote, escapechar, comment, encoding, encoding_errors, dialect, on_bad_lines, delim_whitespace, low_memory, memory_map, float_precision, storage_options, dtype_backend)\u001b[0m\n\u001b[1;32m   1013\u001b[0m kwds_defaults \u001b[38;5;241m=\u001b[39m _refine_defaults_read(\n\u001b[1;32m   1014\u001b[0m     dialect,\n\u001b[1;32m   1015\u001b[0m     delimiter,\n\u001b[0;32m   (...)\u001b[0m\n\u001b[1;32m   1022\u001b[0m     dtype_backend\u001b[38;5;241m=\u001b[39mdtype_backend,\n\u001b[1;32m   1023\u001b[0m )\n\u001b[1;32m   1024\u001b[0m kwds\u001b[38;5;241m.\u001b[39mupdate(kwds_defaults)\n\u001b[0;32m-> 1026\u001b[0m \u001b[38;5;28;01mreturn\u001b[39;00m \u001b[43m_read\u001b[49m\u001b[43m(\u001b[49m\u001b[43mfilepath_or_buffer\u001b[49m\u001b[43m,\u001b[49m\u001b[43m \u001b[49m\u001b[43mkwds\u001b[49m\u001b[43m)\u001b[49m\n",
      "File \u001b[0;32m~/.virtualenvs/monai/lib/python3.12/site-packages/pandas/io/parsers/readers.py:620\u001b[0m, in \u001b[0;36m_read\u001b[0;34m(filepath_or_buffer, kwds)\u001b[0m\n\u001b[1;32m    617\u001b[0m _validate_names(kwds\u001b[38;5;241m.\u001b[39mget(\u001b[38;5;124m\"\u001b[39m\u001b[38;5;124mnames\u001b[39m\u001b[38;5;124m\"\u001b[39m, \u001b[38;5;28;01mNone\u001b[39;00m))\n\u001b[1;32m    619\u001b[0m \u001b[38;5;66;03m# Create the parser.\u001b[39;00m\n\u001b[0;32m--> 620\u001b[0m parser \u001b[38;5;241m=\u001b[39m \u001b[43mTextFileReader\u001b[49m\u001b[43m(\u001b[49m\u001b[43mfilepath_or_buffer\u001b[49m\u001b[43m,\u001b[49m\u001b[43m \u001b[49m\u001b[38;5;241;43m*\u001b[39;49m\u001b[38;5;241;43m*\u001b[39;49m\u001b[43mkwds\u001b[49m\u001b[43m)\u001b[49m\n\u001b[1;32m    622\u001b[0m \u001b[38;5;28;01mif\u001b[39;00m chunksize \u001b[38;5;129;01mor\u001b[39;00m iterator:\n\u001b[1;32m    623\u001b[0m     \u001b[38;5;28;01mreturn\u001b[39;00m parser\n",
      "File \u001b[0;32m~/.virtualenvs/monai/lib/python3.12/site-packages/pandas/io/parsers/readers.py:1620\u001b[0m, in \u001b[0;36mTextFileReader.__init__\u001b[0;34m(self, f, engine, **kwds)\u001b[0m\n\u001b[1;32m   1617\u001b[0m     \u001b[38;5;28mself\u001b[39m\u001b[38;5;241m.\u001b[39moptions[\u001b[38;5;124m\"\u001b[39m\u001b[38;5;124mhas_index_names\u001b[39m\u001b[38;5;124m\"\u001b[39m] \u001b[38;5;241m=\u001b[39m kwds[\u001b[38;5;124m\"\u001b[39m\u001b[38;5;124mhas_index_names\u001b[39m\u001b[38;5;124m\"\u001b[39m]\n\u001b[1;32m   1619\u001b[0m \u001b[38;5;28mself\u001b[39m\u001b[38;5;241m.\u001b[39mhandles: IOHandles \u001b[38;5;241m|\u001b[39m \u001b[38;5;28;01mNone\u001b[39;00m \u001b[38;5;241m=\u001b[39m \u001b[38;5;28;01mNone\u001b[39;00m\n\u001b[0;32m-> 1620\u001b[0m \u001b[38;5;28mself\u001b[39m\u001b[38;5;241m.\u001b[39m_engine \u001b[38;5;241m=\u001b[39m \u001b[38;5;28;43mself\u001b[39;49m\u001b[38;5;241;43m.\u001b[39;49m\u001b[43m_make_engine\u001b[49m\u001b[43m(\u001b[49m\u001b[43mf\u001b[49m\u001b[43m,\u001b[49m\u001b[43m \u001b[49m\u001b[38;5;28;43mself\u001b[39;49m\u001b[38;5;241;43m.\u001b[39;49m\u001b[43mengine\u001b[49m\u001b[43m)\u001b[49m\n",
      "File \u001b[0;32m~/.virtualenvs/monai/lib/python3.12/site-packages/pandas/io/parsers/readers.py:1880\u001b[0m, in \u001b[0;36mTextFileReader._make_engine\u001b[0;34m(self, f, engine)\u001b[0m\n\u001b[1;32m   1878\u001b[0m     \u001b[38;5;28;01mif\u001b[39;00m \u001b[38;5;124m\"\u001b[39m\u001b[38;5;124mb\u001b[39m\u001b[38;5;124m\"\u001b[39m \u001b[38;5;129;01mnot\u001b[39;00m \u001b[38;5;129;01min\u001b[39;00m mode:\n\u001b[1;32m   1879\u001b[0m         mode \u001b[38;5;241m+\u001b[39m\u001b[38;5;241m=\u001b[39m \u001b[38;5;124m\"\u001b[39m\u001b[38;5;124mb\u001b[39m\u001b[38;5;124m\"\u001b[39m\n\u001b[0;32m-> 1880\u001b[0m \u001b[38;5;28mself\u001b[39m\u001b[38;5;241m.\u001b[39mhandles \u001b[38;5;241m=\u001b[39m \u001b[43mget_handle\u001b[49m\u001b[43m(\u001b[49m\n\u001b[1;32m   1881\u001b[0m \u001b[43m    \u001b[49m\u001b[43mf\u001b[49m\u001b[43m,\u001b[49m\n\u001b[1;32m   1882\u001b[0m \u001b[43m    \u001b[49m\u001b[43mmode\u001b[49m\u001b[43m,\u001b[49m\n\u001b[1;32m   1883\u001b[0m \u001b[43m    \u001b[49m\u001b[43mencoding\u001b[49m\u001b[38;5;241;43m=\u001b[39;49m\u001b[38;5;28;43mself\u001b[39;49m\u001b[38;5;241;43m.\u001b[39;49m\u001b[43moptions\u001b[49m\u001b[38;5;241;43m.\u001b[39;49m\u001b[43mget\u001b[49m\u001b[43m(\u001b[49m\u001b[38;5;124;43m\"\u001b[39;49m\u001b[38;5;124;43mencoding\u001b[39;49m\u001b[38;5;124;43m\"\u001b[39;49m\u001b[43m,\u001b[49m\u001b[43m \u001b[49m\u001b[38;5;28;43;01mNone\u001b[39;49;00m\u001b[43m)\u001b[49m\u001b[43m,\u001b[49m\n\u001b[1;32m   1884\u001b[0m \u001b[43m    \u001b[49m\u001b[43mcompression\u001b[49m\u001b[38;5;241;43m=\u001b[39;49m\u001b[38;5;28;43mself\u001b[39;49m\u001b[38;5;241;43m.\u001b[39;49m\u001b[43moptions\u001b[49m\u001b[38;5;241;43m.\u001b[39;49m\u001b[43mget\u001b[49m\u001b[43m(\u001b[49m\u001b[38;5;124;43m\"\u001b[39;49m\u001b[38;5;124;43mcompression\u001b[39;49m\u001b[38;5;124;43m\"\u001b[39;49m\u001b[43m,\u001b[49m\u001b[43m \u001b[49m\u001b[38;5;28;43;01mNone\u001b[39;49;00m\u001b[43m)\u001b[49m\u001b[43m,\u001b[49m\n\u001b[1;32m   1885\u001b[0m \u001b[43m    \u001b[49m\u001b[43mmemory_map\u001b[49m\u001b[38;5;241;43m=\u001b[39;49m\u001b[38;5;28;43mself\u001b[39;49m\u001b[38;5;241;43m.\u001b[39;49m\u001b[43moptions\u001b[49m\u001b[38;5;241;43m.\u001b[39;49m\u001b[43mget\u001b[49m\u001b[43m(\u001b[49m\u001b[38;5;124;43m\"\u001b[39;49m\u001b[38;5;124;43mmemory_map\u001b[39;49m\u001b[38;5;124;43m\"\u001b[39;49m\u001b[43m,\u001b[49m\u001b[43m \u001b[49m\u001b[38;5;28;43;01mFalse\u001b[39;49;00m\u001b[43m)\u001b[49m\u001b[43m,\u001b[49m\n\u001b[1;32m   1886\u001b[0m \u001b[43m    \u001b[49m\u001b[43mis_text\u001b[49m\u001b[38;5;241;43m=\u001b[39;49m\u001b[43mis_text\u001b[49m\u001b[43m,\u001b[49m\n\u001b[1;32m   1887\u001b[0m \u001b[43m    \u001b[49m\u001b[43merrors\u001b[49m\u001b[38;5;241;43m=\u001b[39;49m\u001b[38;5;28;43mself\u001b[39;49m\u001b[38;5;241;43m.\u001b[39;49m\u001b[43moptions\u001b[49m\u001b[38;5;241;43m.\u001b[39;49m\u001b[43mget\u001b[49m\u001b[43m(\u001b[49m\u001b[38;5;124;43m\"\u001b[39;49m\u001b[38;5;124;43mencoding_errors\u001b[39;49m\u001b[38;5;124;43m\"\u001b[39;49m\u001b[43m,\u001b[49m\u001b[43m \u001b[49m\u001b[38;5;124;43m\"\u001b[39;49m\u001b[38;5;124;43mstrict\u001b[39;49m\u001b[38;5;124;43m\"\u001b[39;49m\u001b[43m)\u001b[49m\u001b[43m,\u001b[49m\n\u001b[1;32m   1888\u001b[0m \u001b[43m    \u001b[49m\u001b[43mstorage_options\u001b[49m\u001b[38;5;241;43m=\u001b[39;49m\u001b[38;5;28;43mself\u001b[39;49m\u001b[38;5;241;43m.\u001b[39;49m\u001b[43moptions\u001b[49m\u001b[38;5;241;43m.\u001b[39;49m\u001b[43mget\u001b[49m\u001b[43m(\u001b[49m\u001b[38;5;124;43m\"\u001b[39;49m\u001b[38;5;124;43mstorage_options\u001b[39;49m\u001b[38;5;124;43m\"\u001b[39;49m\u001b[43m,\u001b[49m\u001b[43m \u001b[49m\u001b[38;5;28;43;01mNone\u001b[39;49;00m\u001b[43m)\u001b[49m\u001b[43m,\u001b[49m\n\u001b[1;32m   1889\u001b[0m \u001b[43m\u001b[49m\u001b[43m)\u001b[49m\n\u001b[1;32m   1890\u001b[0m \u001b[38;5;28;01massert\u001b[39;00m \u001b[38;5;28mself\u001b[39m\u001b[38;5;241m.\u001b[39mhandles \u001b[38;5;129;01mis\u001b[39;00m \u001b[38;5;129;01mnot\u001b[39;00m \u001b[38;5;28;01mNone\u001b[39;00m\n\u001b[1;32m   1891\u001b[0m f \u001b[38;5;241m=\u001b[39m \u001b[38;5;28mself\u001b[39m\u001b[38;5;241m.\u001b[39mhandles\u001b[38;5;241m.\u001b[39mhandle\n",
      "File \u001b[0;32m~/.virtualenvs/monai/lib/python3.12/site-packages/pandas/io/common.py:873\u001b[0m, in \u001b[0;36mget_handle\u001b[0;34m(path_or_buf, mode, encoding, compression, memory_map, is_text, errors, storage_options)\u001b[0m\n\u001b[1;32m    868\u001b[0m \u001b[38;5;28;01melif\u001b[39;00m \u001b[38;5;28misinstance\u001b[39m(handle, \u001b[38;5;28mstr\u001b[39m):\n\u001b[1;32m    869\u001b[0m     \u001b[38;5;66;03m# Check whether the filename is to be opened in binary mode.\u001b[39;00m\n\u001b[1;32m    870\u001b[0m     \u001b[38;5;66;03m# Binary mode does not support 'encoding' and 'newline'.\u001b[39;00m\n\u001b[1;32m    871\u001b[0m     \u001b[38;5;28;01mif\u001b[39;00m ioargs\u001b[38;5;241m.\u001b[39mencoding \u001b[38;5;129;01mand\u001b[39;00m \u001b[38;5;124m\"\u001b[39m\u001b[38;5;124mb\u001b[39m\u001b[38;5;124m\"\u001b[39m \u001b[38;5;129;01mnot\u001b[39;00m \u001b[38;5;129;01min\u001b[39;00m ioargs\u001b[38;5;241m.\u001b[39mmode:\n\u001b[1;32m    872\u001b[0m         \u001b[38;5;66;03m# Encoding\u001b[39;00m\n\u001b[0;32m--> 873\u001b[0m         handle \u001b[38;5;241m=\u001b[39m \u001b[38;5;28;43mopen\u001b[39;49m\u001b[43m(\u001b[49m\n\u001b[1;32m    874\u001b[0m \u001b[43m            \u001b[49m\u001b[43mhandle\u001b[49m\u001b[43m,\u001b[49m\n\u001b[1;32m    875\u001b[0m \u001b[43m            \u001b[49m\u001b[43mioargs\u001b[49m\u001b[38;5;241;43m.\u001b[39;49m\u001b[43mmode\u001b[49m\u001b[43m,\u001b[49m\n\u001b[1;32m    876\u001b[0m \u001b[43m            \u001b[49m\u001b[43mencoding\u001b[49m\u001b[38;5;241;43m=\u001b[39;49m\u001b[43mioargs\u001b[49m\u001b[38;5;241;43m.\u001b[39;49m\u001b[43mencoding\u001b[49m\u001b[43m,\u001b[49m\n\u001b[1;32m    877\u001b[0m \u001b[43m            \u001b[49m\u001b[43merrors\u001b[49m\u001b[38;5;241;43m=\u001b[39;49m\u001b[43merrors\u001b[49m\u001b[43m,\u001b[49m\n\u001b[1;32m    878\u001b[0m \u001b[43m            \u001b[49m\u001b[43mnewline\u001b[49m\u001b[38;5;241;43m=\u001b[39;49m\u001b[38;5;124;43m\"\u001b[39;49m\u001b[38;5;124;43m\"\u001b[39;49m\u001b[43m,\u001b[49m\n\u001b[1;32m    879\u001b[0m \u001b[43m        \u001b[49m\u001b[43m)\u001b[49m\n\u001b[1;32m    880\u001b[0m     \u001b[38;5;28;01melse\u001b[39;00m:\n\u001b[1;32m    881\u001b[0m         \u001b[38;5;66;03m# Binary mode\u001b[39;00m\n\u001b[1;32m    882\u001b[0m         handle \u001b[38;5;241m=\u001b[39m \u001b[38;5;28mopen\u001b[39m(handle, ioargs\u001b[38;5;241m.\u001b[39mmode)\n",
      "\u001b[0;31mFileNotFoundError\u001b[0m: [Errno 2] No such file or directory: '/home/srs-9/Projects/ms_mri/data/clinical_data.csv'"
     ]
    }
   ],
   "source": [
    "if to_load:\n",
    "    df = pd.read_csv(project_dataroot / \"clinical_data.csv\")"
   ]
  },
  {
   "cell_type": "markdown",
   "metadata": {},
   "source": [
    "### Prepare Data\n",
    "\n",
    "- Set categorical variables\n",
    "  - phenotype\n",
    "  - race\n",
    "  - ethnicity\n",
    "  - sex\n",
    "- Set edss as ordinal variable\n",
    "\n",
    "Do I need to factorize the categorical variables if I just set their dtype as \"category\"?"
   ]
  },
  {
   "cell_type": "code",
   "execution_count": 10,
   "metadata": {},
   "outputs": [
    {
     "ename": "NameError",
     "evalue": "name 'df' is not defined",
     "output_type": "error",
     "traceback": [
      "\u001b[0;31m---------------------------------------------------------------------------\u001b[0m",
      "\u001b[0;31mNameError\u001b[0m                                 Traceback (most recent call last)",
      "Cell \u001b[0;32mIn[10], line 3\u001b[0m\n\u001b[1;32m      1\u001b[0m categorical_vars \u001b[38;5;241m=\u001b[39m [\u001b[38;5;124m'\u001b[39m\u001b[38;5;124mrace\u001b[39m\u001b[38;5;124m'\u001b[39m,\u001b[38;5;124m'\u001b[39m\u001b[38;5;124methnicity\u001b[39m\u001b[38;5;124m'\u001b[39m, \u001b[38;5;124m'\u001b[39m\u001b[38;5;124msex\u001b[39m\u001b[38;5;124m'\u001b[39m, \u001b[38;5;124m'\u001b[39m\u001b[38;5;124mphenotype\u001b[39m\u001b[38;5;124m'\u001b[39m, \u001b[38;5;124m'\u001b[39m\u001b[38;5;124mFLAIR_contrast\u001b[39m\u001b[38;5;124m'\u001b[39m]\n\u001b[1;32m      2\u001b[0m \u001b[38;5;28;01mfor\u001b[39;00m var \u001b[38;5;129;01min\u001b[39;00m categorical_vars:\n\u001b[0;32m----> 3\u001b[0m     df[var] \u001b[38;5;241m=\u001b[39m \u001b[43mdf\u001b[49m[var]\u001b[38;5;241m.\u001b[39mastype(\u001b[38;5;124m\"\u001b[39m\u001b[38;5;124mcategory\u001b[39m\u001b[38;5;124m\"\u001b[39m)\n\u001b[1;32m      5\u001b[0m \u001b[38;5;66;03m# edss is ordinal variable\u001b[39;00m\n\u001b[1;32m      6\u001b[0m edss_type \u001b[38;5;241m=\u001b[39m pd\u001b[38;5;241m.\u001b[39mCategoricalDtype(categories\u001b[38;5;241m=\u001b[39mnp\u001b[38;5;241m.\u001b[39mlinspace(\u001b[38;5;241m0\u001b[39m, \u001b[38;5;241m10\u001b[39m, \u001b[38;5;241m21\u001b[39m), ordered\u001b[38;5;241m=\u001b[39m\u001b[38;5;28;01mTrue\u001b[39;00m)\n",
      "\u001b[0;31mNameError\u001b[0m: name 'df' is not defined"
     ]
    }
   ],
   "source": [
    "categorical_vars = ['race','ethnicity', 'sex', 'phenotype', 'FLAIR_contrast']\n",
    "for var in categorical_vars:\n",
    "    df[var] = df[var].astype(\"category\")\n",
    "\n",
    "# edss is ordinal variable\n",
    "edss_type = pd.CategoricalDtype(categories=np.linspace(0, 10, 21), ordered=True)\n",
    "df['edss'] = df['edss'].astype(edss_type)"
   ]
  },
  {
   "cell_type": "code",
   "execution_count": 28,
   "metadata": {},
   "outputs": [],
   "source": [
    "# move the columns for all the other random volumes to the end\n",
    "cols = df.columns.to_list()\n",
    "ind1 = cols.index(\"BPF\")\n",
    "ind2 = cols.index(\"Brainstem\") + 1\n",
    "cols = cols[:ind1] + cols[ind2:] + cols[ind1:ind2]\n",
    "df = df[cols]"
   ]
  },
  {
   "cell_type": "code",
   "execution_count": 30,
   "metadata": {},
   "outputs": [
    {
     "name": "stdout",
     "output_type": "stream",
     "text": [
      "Index(['subject', 'FLAIR_contrast', 'phenotype', 'age_at_scan', 'race',\n",
      "       'ethnicity', 'sex', 'choroid_volume', 'choroid_vol_frac',\n",
      "       'pineal_volume', 'pineal_vol_frac', 'pituitary_volume',\n",
      "       'pituitary_vol_frac', 'symptom_onset', 'edss', 'dzdur', 'num_lesions',\n",
      "       'lesion_vol', 'BPF', 'vol_GM', 'vol_WM', 'vol_CSF', 'vol_WMH',\n",
      "       'vol_TIV', 'cortical_thickness', 'cortical_thickness_SD', 'VSCALING',\n",
      "       'pgrey', 'grey', 'white', 'brain', 'vcsf', 'Lthal', 'Rthal', 'Lhippo',\n",
      "       'Rhippo', 'Lamy', 'Ramy', 'Lputam', 'Rputam', 'Lcaud', 'Rcaud',\n",
      "       'Laccumb', 'Raccumb', 'Lpall', 'Rpall', 'Brainstem'],\n",
      "      dtype='object')\n"
     ]
    },
    {
     "data": {
      "text/html": [
       "<div>\n",
       "<style scoped>\n",
       "    .dataframe tbody tr th:only-of-type {\n",
       "        vertical-align: middle;\n",
       "    }\n",
       "\n",
       "    .dataframe tbody tr th {\n",
       "        vertical-align: top;\n",
       "    }\n",
       "\n",
       "    .dataframe thead th {\n",
       "        text-align: right;\n",
       "    }\n",
       "</style>\n",
       "<table border=\"1\" class=\"dataframe\">\n",
       "  <thead>\n",
       "    <tr style=\"text-align: right;\">\n",
       "      <th></th>\n",
       "      <th>subject</th>\n",
       "      <th>FLAIR_contrast</th>\n",
       "      <th>phenotype</th>\n",
       "      <th>age_at_scan</th>\n",
       "      <th>race</th>\n",
       "      <th>ethnicity</th>\n",
       "      <th>sex</th>\n",
       "      <th>choroid_volume</th>\n",
       "      <th>choroid_vol_frac</th>\n",
       "      <th>pineal_volume</th>\n",
       "      <th>...</th>\n",
       "      <th>Ramy</th>\n",
       "      <th>Lputam</th>\n",
       "      <th>Rputam</th>\n",
       "      <th>Lcaud</th>\n",
       "      <th>Rcaud</th>\n",
       "      <th>Laccumb</th>\n",
       "      <th>Raccumb</th>\n",
       "      <th>Lpall</th>\n",
       "      <th>Rpall</th>\n",
       "      <th>Brainstem</th>\n",
       "    </tr>\n",
       "    <tr>\n",
       "      <th>subid</th>\n",
       "      <th></th>\n",
       "      <th></th>\n",
       "      <th></th>\n",
       "      <th></th>\n",
       "      <th></th>\n",
       "      <th></th>\n",
       "      <th></th>\n",
       "      <th></th>\n",
       "      <th></th>\n",
       "      <th></th>\n",
       "      <th></th>\n",
       "      <th></th>\n",
       "      <th></th>\n",
       "      <th></th>\n",
       "      <th></th>\n",
       "      <th></th>\n",
       "      <th></th>\n",
       "      <th></th>\n",
       "      <th></th>\n",
       "      <th></th>\n",
       "      <th></th>\n",
       "    </tr>\n",
       "  </thead>\n",
       "  <tbody>\n",
       "    <tr>\n",
       "      <th>1010</th>\n",
       "      <td>ms1010</td>\n",
       "      <td>no</td>\n",
       "      <td>RRMS</td>\n",
       "      <td>20.133603</td>\n",
       "      <td>White</td>\n",
       "      <td>Hispanic or Latino</td>\n",
       "      <td>Female</td>\n",
       "      <td>1933.325928</td>\n",
       "      <td>1.532423</td>\n",
       "      <td>150.017090</td>\n",
       "      <td>...</td>\n",
       "      <td>1.570915</td>\n",
       "      <td>6.533811</td>\n",
       "      <td>6.654875</td>\n",
       "      <td>5.372034</td>\n",
       "      <td>5.79357</td>\n",
       "      <td>0.883184</td>\n",
       "      <td>0.773059</td>\n",
       "      <td>2.308968</td>\n",
       "      <td>2.323554</td>\n",
       "      <td>29.891876</td>\n",
       "    </tr>\n",
       "    <tr>\n",
       "      <th>1011</th>\n",
       "      <td>ms1011</td>\n",
       "      <td>yes</td>\n",
       "      <td>RRMS</td>\n",
       "      <td>28.880797</td>\n",
       "      <td>Other</td>\n",
       "      <td>Hispanic or Latino</td>\n",
       "      <td>Female</td>\n",
       "      <td>2303.349365</td>\n",
       "      <td>1.579446</td>\n",
       "      <td>283.630951</td>\n",
       "      <td>...</td>\n",
       "      <td>2.057197</td>\n",
       "      <td>6.46169</td>\n",
       "      <td>6.791539</td>\n",
       "      <td>5.113006</td>\n",
       "      <td>5.948437</td>\n",
       "      <td>0.974902</td>\n",
       "      <td>0.72246</td>\n",
       "      <td>2.410756</td>\n",
       "      <td>2.308942</td>\n",
       "      <td>30.081795</td>\n",
       "    </tr>\n",
       "    <tr>\n",
       "      <th>1019</th>\n",
       "      <td>ms1019</td>\n",
       "      <td>no</td>\n",
       "      <td>RRMS</td>\n",
       "      <td>66.470459</td>\n",
       "      <td>White</td>\n",
       "      <td>Not Hispanic or Latino</td>\n",
       "      <td>Female</td>\n",
       "      <td>3353.079346</td>\n",
       "      <td>2.479118</td>\n",
       "      <td>133.119675</td>\n",
       "      <td>...</td>\n",
       "      <td>1.924501</td>\n",
       "      <td>4.778929</td>\n",
       "      <td>4.688707</td>\n",
       "      <td>3.812061</td>\n",
       "      <td>3.999609</td>\n",
       "      <td>0.628003</td>\n",
       "      <td>0.110114</td>\n",
       "      <td>1.035068</td>\n",
       "      <td>1.307155</td>\n",
       "      <td>31.498878</td>\n",
       "    </tr>\n",
       "    <tr>\n",
       "      <th>1033</th>\n",
       "      <td>ms1033</td>\n",
       "      <td>yes</td>\n",
       "      <td>RRMS</td>\n",
       "      <td>48.943219</td>\n",
       "      <td>White</td>\n",
       "      <td>Not Hispanic or Latino</td>\n",
       "      <td>Female</td>\n",
       "      <td>1834.491211</td>\n",
       "      <td>1.278455</td>\n",
       "      <td>312.319214</td>\n",
       "      <td>...</td>\n",
       "      <td>0.748343</td>\n",
       "      <td>6.117689</td>\n",
       "      <td>5.956475</td>\n",
       "      <td>4.562571</td>\n",
       "      <td>4.787144</td>\n",
       "      <td>0.864502</td>\n",
       "      <td>0.663864</td>\n",
       "      <td>2.187303</td>\n",
       "      <td>1.713516</td>\n",
       "      <td>28.571508</td>\n",
       "    </tr>\n",
       "    <tr>\n",
       "      <th>1065</th>\n",
       "      <td>ms1065</td>\n",
       "      <td>yes</td>\n",
       "      <td>RRMS</td>\n",
       "      <td>59.018234</td>\n",
       "      <td>White</td>\n",
       "      <td>Not Hispanic or Latino</td>\n",
       "      <td>Female</td>\n",
       "      <td>3014.648193</td>\n",
       "      <td>2.242647</td>\n",
       "      <td>161.279587</td>\n",
       "      <td>...</td>\n",
       "      <td>1.964459</td>\n",
       "      <td>5.314401</td>\n",
       "      <td>6.116707</td>\n",
       "      <td>3.193821</td>\n",
       "      <td>3.477359</td>\n",
       "      <td>0.60768</td>\n",
       "      <td>0.52927</td>\n",
       "      <td>1.988262</td>\n",
       "      <td>2.130381</td>\n",
       "      <td>26.807235</td>\n",
       "    </tr>\n",
       "  </tbody>\n",
       "</table>\n",
       "<p>5 rows × 47 columns</p>\n",
       "</div>"
      ],
      "text/plain": [
       "      subject FLAIR_contrast phenotype  age_at_scan   race  \\\n",
       "subid                                                        \n",
       "1010   ms1010             no      RRMS    20.133603  White   \n",
       "1011   ms1011            yes      RRMS    28.880797  Other   \n",
       "1019   ms1019             no      RRMS    66.470459  White   \n",
       "1033   ms1033            yes      RRMS    48.943219  White   \n",
       "1065   ms1065            yes      RRMS    59.018234  White   \n",
       "\n",
       "                    ethnicity     sex  choroid_volume  choroid_vol_frac  \\\n",
       "subid                                                                     \n",
       "1010       Hispanic or Latino  Female     1933.325928          1.532423   \n",
       "1011       Hispanic or Latino  Female     2303.349365          1.579446   \n",
       "1019   Not Hispanic or Latino  Female     3353.079346          2.479118   \n",
       "1033   Not Hispanic or Latino  Female     1834.491211          1.278455   \n",
       "1065   Not Hispanic or Latino  Female     3014.648193          2.242647   \n",
       "\n",
       "       pineal_volume  ...      Ramy    Lputam    Rputam     Lcaud     Rcaud  \\\n",
       "subid                 ...                                                     \n",
       "1010      150.017090  ...  1.570915  6.533811  6.654875  5.372034   5.79357   \n",
       "1011      283.630951  ...  2.057197   6.46169  6.791539  5.113006  5.948437   \n",
       "1019      133.119675  ...  1.924501  4.778929  4.688707  3.812061  3.999609   \n",
       "1033      312.319214  ...  0.748343  6.117689  5.956475  4.562571  4.787144   \n",
       "1065      161.279587  ...  1.964459  5.314401  6.116707  3.193821  3.477359   \n",
       "\n",
       "        Laccumb   Raccumb     Lpall     Rpall  Brainstem  \n",
       "subid                                                     \n",
       "1010   0.883184  0.773059  2.308968  2.323554  29.891876  \n",
       "1011   0.974902   0.72246  2.410756  2.308942  30.081795  \n",
       "1019   0.628003  0.110114  1.035068  1.307155  31.498878  \n",
       "1033   0.864502  0.663864  2.187303  1.713516  28.571508  \n",
       "1065    0.60768   0.52927  1.988262  2.130381  26.807235  \n",
       "\n",
       "[5 rows x 47 columns]"
      ]
     },
     "execution_count": 30,
     "metadata": {},
     "output_type": "execute_result"
    }
   ],
   "source": [
    "print(df.columns)\n",
    "df.head()"
   ]
  },
  {
   "cell_type": "markdown",
   "metadata": {},
   "source": [
    "## Statistical Analysis"
   ]
  },
  {
   "cell_type": "markdown",
   "metadata": {},
   "source": [
    "### Descriptive Stats\n"
   ]
  },
  {
   "cell_type": "code",
   "execution_count": 57,
   "metadata": {},
   "outputs": [
    {
     "name": "stdout",
     "output_type": "stream",
     "text": [
      "36 patients in total\n",
      "15 patients with RRMS\n",
      "9 patients with OIND\n",
      "12 patients with NIND\n"
     ]
    }
   ],
   "source": [
    "print(len(df), \"patients in total\")\n",
    "print(sum(df['phenotype'] == \"RRMS\"), \"patients with RRMS\")\n",
    "print(sum(df['phenotype'] == \"OIND\"), \"patients with OIND\")\n",
    "print(sum(df['phenotype'] == \"NIND\"), \"patients with NIND\")"
   ]
  },
  {
   "cell_type": "code",
   "execution_count": null,
   "metadata": {},
   "outputs": [
    {
     "name": "stdout",
     "output_type": "stream",
     "text": [
      "Proportion of female subjects: 0.92\n",
      "Average age at scan: 46.75\n"
     ]
    }
   ],
   "source": [
    "print(\"Proportion of female subjects: {:0.2f}\".format(sum(df['sex'] == \"Female\") / len(df)) )\n",
    "print(\"Average age at scan: {:0.2f}\".format(df['age'].mean()))"
   ]
  },
  {
   "cell_type": "code",
   "execution_count": 76,
   "metadata": {},
   "outputs": [
    {
     "name": "stdout",
     "output_type": "stream",
     "text": [
      "Fraction of female RRMS patients: 0.93\n",
      "Average age of RRMS patient: 45.07\n",
      "\n",
      "\n",
      "Fraction of female OIND patients: 0.89\n",
      "Average age of OIND patient: 49.68\n",
      "\n",
      "\n",
      "Fraction of female NIND patients: 0.92\n",
      "Average age of NIND patient: 46.50\n"
     ]
    }
   ],
   "source": [
    "df_rrms = df.loc[df[\"phenotype\"] == \"RRMS\"]\n",
    "print(\"Fraction of female RRMS patients: {:0.2f}\".format(sum(df_rrms['sex'] == \"Female\") / len(df_rrms)))\n",
    "print(\"Average age of RRMS patient: {:0.2f}\".format(df_rrms['age'].mean()))\n",
    "print(\"\\n\")\n",
    "\n",
    "df_oind = df.loc[df[\"phenotype\"] == \"OIND\"]\n",
    "print(\"Fraction of female OIND patients: {:0.2f}\".format(sum(df_oind['sex'] == \"Female\") / len(df_oind)))\n",
    "print(\"Average age of OIND patient: {:0.2f}\".format(df_oind['age'].mean()))\n",
    "print(\"\\n\")\n",
    "\n",
    "df_nind = df.loc[df[\"phenotype\"] == \"NIND\"]\n",
    "print(\"Fraction of female NIND patients: {:0.2f}\".format(sum(df_nind['sex'] == \"Female\") / len(df_nind)))\n",
    "print(\"Average age of NIND patient: {:0.2f}\".format(df_nind['age'].mean()))"
   ]
  },
  {
   "cell_type": "markdown",
   "metadata": {},
   "source": [
    "#### Volumes"
   ]
  },
  {
   "cell_type": "code",
   "execution_count": 80,
   "metadata": {},
   "outputs": [
    {
     "name": "stdout",
     "output_type": "stream",
     "text": [
      "Mean choroid volumes:\n",
      "RRMS: 1849.70\n",
      "OIND: 1957.32\n",
      "NIND: 1814.22\n",
      "\n",
      "\n",
      "Mean pineal volumes:\n",
      "RRMS: 258.73\n",
      "OIND: 203.84\n",
      "NIND: 487.55\n",
      "\n",
      "\n",
      "Mean pituitary volumes:\n",
      "RRMS: 783.61\n",
      "OIND: 712.28\n",
      "NIND: 594.03\n"
     ]
    }
   ],
   "source": [
    "# choroid\n",
    "print(\"Mean choroid volumes:\")\n",
    "print(\"RRMS: {:0.2f}\".format(df_rrms['choroid_volume'].mean()))\n",
    "print(\"OIND: {:0.2f}\".format(df_oind['choroid_volume'].mean()))\n",
    "print(\"NIND: {:0.2f}\".format(df_nind['choroid_volume'].mean()))\n",
    "print(\"\\n\")\n",
    "\n",
    "# pineal\n",
    "print(\"Mean pineal volumes:\")\n",
    "print(\"RRMS: {:0.2f}\".format(df_rrms['pineal_volume'].mean()))\n",
    "print(\"OIND: {:0.2f}\".format(df_oind['pineal_volume'].mean()))\n",
    "print(\"NIND: {:0.2f}\".format(df_nind['pineal_volume'].mean()))\n",
    "print(\"\\n\")\n",
    "\n",
    "# pituitary\n",
    "print(\"Mean pituitary volumes:\")\n",
    "print(\"RRMS: {:0.2f}\".format(df_rrms['pituitary_volume'].mean()))\n",
    "print(\"OIND: {:0.2f}\".format(df_oind['pituitary_volume'].mean()))\n",
    "print(\"NIND: {:0.2f}\".format(df_nind['pituitary_volume'].mean()))"
   ]
  },
  {
   "cell_type": "markdown",
   "metadata": {},
   "source": [
    "### Regression Models\n",
    "\n",
    "Looking at how volume of ROI predicts phenotype"
   ]
  },
  {
   "cell_type": "markdown",
   "metadata": {},
   "source": [
    "#### Pituitary Volume"
   ]
  },
  {
   "cell_type": "code",
   "execution_count": null,
   "metadata": {},
   "outputs": [],
   "source": [
    "from statsmodels.miscmodels.ordinal_model import OrderedModel\n",
    "\n",
    "df['sex_factor'], _ = df['sex'].factorize()\n",
    "predictors = [\"age_at_scan\", \"vol_TIV\", \"sex_factor\", \"pituitary_volume\"]\n",
    "outcome = \"phenotype\"\n",
    "\n",
    "x = df[predictors]\n",
    "Y = df[outcome]\n",
    "\n",
    "mod_prob = OrderedModel(Y, x, distr='probit')\n",
    "res_prob = mod_prob.fit(method='bfgs')\n",
    "res_prob.summary()\n"
   ]
  },
  {
   "cell_type": "markdown",
   "metadata": {},
   "source": [
    "#### statsmodels usage\n",
    "\n",
    "- `statsmodels.regression.linear_model.OLS`\n",
    "- `statsmodels.discrete.discrete_model.Logit`\n",
    "- `statsmodels.discrete.discrete_model.Probit`\n",
    "- `statsmodels.miscmodels.ordinal_model.OrderedModel`\n",
    "\n",
    "Why is OrderedModel not available under `statsmodels.api` unlike all the others? Also, OrderedModel isn't available under `statsmodels.miscmodels.api` either"
   ]
  },
  {
   "cell_type": "code",
   "execution_count": null,
   "metadata": {},
   "outputs": [],
   "source": [
    "import statsmodels.api as sm\n",
    "from statsmodels.miscmodels.ordinal_model import OrderedModel\n",
    "\n",
    "spector_data = sm.datasets.spector.load()\n",
    "\n",
    "Y = spector_data.endog\n",
    "x = spector_data.exog\n",
    "\n",
    "# Linear regression\n",
    "mod = sm.OLS(Y, x)\n",
    "\n",
    "# Regression with discrete dependent variable\n",
    "logit_mod = sm.Logit(Y, x)\n",
    "probit_mod = sm.Probit(Y, x)\n",
    "\n",
    "\n",
    "# Ordinal regression\n",
    "mod = OrderedModel(Y, x, distr='probit')"
   ]
  }
 ],
 "metadata": {
  "kernelspec": {
   "display_name": "monai",
   "language": "python",
   "name": "python3"
  },
  "language_info": {
   "codemirror_mode": {
    "name": "ipython",
    "version": 3
   },
   "file_extension": ".py",
   "mimetype": "text/x-python",
   "name": "python",
   "nbconvert_exporter": "python",
   "pygments_lexer": "ipython3",
   "version": "3.12.4"
  }
 },
 "nbformat": 4,
 "nbformat_minor": 2
}
