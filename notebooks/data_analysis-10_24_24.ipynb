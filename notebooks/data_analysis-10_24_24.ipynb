{
 "cells": [
  {
   "cell_type": "code",
   "execution_count": 1,
   "metadata": {},
   "outputs": [],
   "source": [
    "import pandas as pd\n",
    "from reload_recursive import reload_recursive\n",
    "import os\n",
    "from loguru import logger\n",
    "from pathlib import Path\n",
    "import json\n",
    "import numpy as np\n",
    "from tqdm.notebook import tqdm\n",
    "import re\n",
    "import sys\n",
    "\n",
    "import mri_data\n",
    "import monai_training"
   ]
  },
  {
   "cell_type": "code",
   "execution_count": 2,
   "metadata": {},
   "outputs": [],
   "source": [
    "reload_recursive(mri_data)\n",
    "reload_recursive(monai_training)\n",
    "\n",
    "from mri_data.file_manager import DataSet, scan_3Tpioneer_bids\n",
    "from mri_data import file_manager as fm\n",
    "from mri_data import utils\n",
    "from monai_training.preprocess import DataSetProcesser"
   ]
  },
  {
   "cell_type": "code",
   "execution_count": 3,
   "metadata": {},
   "outputs": [
    {
     "data": {
      "text/plain": [
       "1"
      ]
     },
     "execution_count": 3,
     "metadata": {},
     "output_type": "execute_result"
    }
   ],
   "source": [
    "logger.remove()\n",
    "logger.add(sys.stderr, level=\"INFO\")"
   ]
  },
  {
   "cell_type": "code",
   "execution_count": 4,
   "metadata": {},
   "outputs": [],
   "source": [
    "to_load = True\n",
    "drive_root = fm.get_drive_root()\n",
    "msmri_home = Path(\"/home/srs-9/Projects/ms_mri\")\n",
    "inference_root = drive_root / \"3Tpioneer_bids_predictions\"\n",
    "dataroot = drive_root / \"3Tpioneer_bids\"\n",
    "clinical_data_root = drive_root / \"Secure_Data\"\n",
    "project_dataroot = msmri_home / \"data\""
   ]
  },
  {
   "cell_type": "code",
   "execution_count": 5,
   "metadata": {},
   "outputs": [
    {
     "data": {
      "text/plain": [
       "PosixPath('/media/smbshare/Secure_Data')"
      ]
     },
     "execution_count": 5,
     "metadata": {},
     "output_type": "execute_result"
    }
   ],
   "source": [
    "clinical_data_root"
   ]
  },
  {
   "cell_type": "code",
   "execution_count": 6,
   "metadata": {},
   "outputs": [],
   "source": [
    "def subject_to_subid(subject):\n",
    "    if not isinstance(subject, str):\n",
    "        return None\n",
    "    re_match = re.match(r\"ms(\\d{4})\", subject)\n",
    "    if re_match:\n",
    "        return_val = int(re_match[1])\n",
    "        return return_val\n",
    "    else:\n",
    "        return None"
   ]
  },
  {
   "cell_type": "markdown",
   "metadata": {},
   "source": [
    "### Data Cleaning\n",
    "\n",
    "- Add column which is subid as int\n",
    "- Set the index to the new column\n",
    "- Remove any rows where subid is NaN\n",
    "- Rename columns\n",
    "- Check \"Working with missing data\" on pandas documentation"
   ]
  },
  {
   "cell_type": "code",
   "execution_count": 19,
   "metadata": {},
   "outputs": [],
   "source": [
    "if not to_load:\n",
    "    df = pd.read_excel(clinical_data_root / \"manual_labeling_clinicaldata (UNSECURE).xlsx\")\n",
    "    df = df.convert_dtypes()\n",
    "\n",
    "    with open(msmri_home / \"data\" / \"clinical_data_columns.txt\", 'r') as f:\n",
    "        keep_columns = [line.rstrip() for line in f.readlines()]\n",
    "    df = df[keep_columns]\n",
    "    new_columns = {\n",
    "        \"ID#\": \"subject\",\n",
    "        \"FLAIR contrast?\": \"FLAIR_contrast\",\n",
    "        \"age_at_scan\": \"age\",\n",
    "    }\n",
    "    df.rename(columns=new_columns, inplace=True)\n",
    "    df[\"subid\"] = df[\"subject\"].apply(subject_to_subid)\n",
    "    df.drop(df[df[\"subid\"].isna()].index, inplace=True)\n",
    "    df[\"subid\"] = df[\"subid\"].astype(int)\n",
    "    df = df.set_index(\"subid\")\n",
    "\n",
    "    new_columns = {}\n",
    "    for col in df.columns:\n",
    "        new_columns[col] = col.replace(\" \", \"_\")\n",
    "    df.rename(columns=new_columns, inplace=True)\n",
    "    df.head()"
   ]
  },
  {
   "cell_type": "markdown",
   "metadata": {},
   "source": [
    "### Additional Data\n",
    "\n",
    "- ROI size"
   ]
  },
  {
   "cell_type": "code",
   "execution_count": 21,
   "metadata": {},
   "outputs": [],
   "source": [
    "if not to_load:\n",
    "    dataset_proc = DataSetProcesser.new_dataset(dataroot, scan_3Tpioneer_bids, filters=[fm.filter_first_ses])\n",
    "    dataset = dataset_proc.dataset\n",
    "\n",
    "    volumes = dict(pituitary=[], pineal=[], choroid=[], subid=[])\n",
    "    for subid, _ in tqdm(df.iterrows(), total=len(df)):\n",
    "        scan = dataset.find_scan(subid=str(subid))[0]\n",
    "        volumes['subid'].append(subid)\n",
    "        try:\n",
    "            pituitary_label = fm.find_label(scan, \"pituitary\", [\"CH\", \"DT\"])\n",
    "        except FileNotFoundError:\n",
    "            volumes['pituitary'].append(None)\n",
    "        else:\n",
    "            volumes['pituitary'].append(utils.compute_volume(pituitary_label)[1])\n",
    "        try:\n",
    "            pineal_label = fm.find_label(scan, \"pineal\", [\"CH\", \"SRS\"])\n",
    "        except FileNotFoundError:\n",
    "            volumes['pineal'].append(None)\n",
    "        else:\n",
    "            volumes['pineal'].append(utils.compute_volume(pineal_label)[1])\n",
    "        try:\n",
    "            choroid_label = fm.find_label(scan, \"choroid_t1_flair\", [\"CH\", \"ED\"])\n",
    "        except FileNotFoundError:\n",
    "            volumes['choroid'].append(None)\n",
    "        else:\n",
    "            volumes['choroid'].append(utils.compute_volume(choroid_label)[1])\n",
    "\n",
    "\n",
    "    df.insert(7, 'pituitary_volume', volumes['pituitary'])\n",
    "    df.insert(8, 'pituitary_vol_frac', df['pituitary_volume'] / df['vol_TIV'])\n",
    "    df.insert(7, 'pineal_volume', volumes['pineal'])\n",
    "    df.insert(8, 'pineal_vol_frac', df['pineal_volume'] / df['vol_TIV'])\n",
    "    df.insert(7, 'choroid_volume', volumes['choroid'])\n",
    "    df.insert(8, 'choroid_vol_frac', df['choroid_volume'] / df['vol_TIV'])\n",
    "        \n",
    "    df.to_csv(project_dataroot / \"clinical_data.csv\")"
   ]
  },
  {
   "cell_type": "code",
   "execution_count": 13,
   "metadata": {},
   "outputs": [],
   "source": [
    "if to_load:\n",
    "    df = pd.read_csv(project_dataroot / \"clinical_data.csv\")"
   ]
  },
  {
   "cell_type": "markdown",
   "metadata": {},
   "source": [
    "### Prepare Data\n",
    "\n",
    "- Set categorical variables\n",
    "  - phenotype\n",
    "  - race\n",
    "  - ethnicity\n",
    "  - sex\n",
    "- Set edss as ordinal variable\n",
    "\n",
    "Do I need to factorize the categorical variables if I just set their dtype as \"category\"?"
   ]
  },
  {
   "cell_type": "code",
   "execution_count": 22,
   "metadata": {},
   "outputs": [],
   "source": [
    "categorical_vars = ['race','ethnicity', 'sex', 'phenotype', 'FLAIR_contrast']\n",
    "for var in categorical_vars:\n",
    "    df[var] = df[var].astype(\"category\")\n",
    "\n",
    "# edss is ordinal variable\n",
    "edss_type = pd.CategoricalDtype(categories=np.linspace(0, 10, 21), ordered=True)\n",
    "df['edss'] = df['edss'].astype(edss_type)"
   ]
  },
  {
   "cell_type": "code",
   "execution_count": 28,
   "metadata": {},
   "outputs": [],
   "source": [
    "# move the columns for all the other random volumes to the end\n",
    "cols = df.columns.to_list()\n",
    "ind1 = cols.index(\"BPF\")\n",
    "ind2 = cols.index(\"Brainstem\") + 1\n",
    "cols = cols[:ind1] + cols[ind2:] + cols[ind1:ind2]\n",
    "df = df[cols]"
   ]
  },
  {
   "cell_type": "code",
   "execution_count": 30,
   "metadata": {},
   "outputs": [
    {
     "name": "stdout",
     "output_type": "stream",
     "text": [
      "Index(['subject', 'FLAIR_contrast', 'phenotype', 'age_at_scan', 'race',\n",
      "       'ethnicity', 'sex', 'choroid_volume', 'choroid_vol_frac',\n",
      "       'pineal_volume', 'pineal_vol_frac', 'pituitary_volume',\n",
      "       'pituitary_vol_frac', 'symptom_onset', 'edss', 'dzdur', 'num_lesions',\n",
      "       'lesion_vol', 'BPF', 'vol_GM', 'vol_WM', 'vol_CSF', 'vol_WMH',\n",
      "       'vol_TIV', 'cortical_thickness', 'cortical_thickness_SD', 'VSCALING',\n",
      "       'pgrey', 'grey', 'white', 'brain', 'vcsf', 'Lthal', 'Rthal', 'Lhippo',\n",
      "       'Rhippo', 'Lamy', 'Ramy', 'Lputam', 'Rputam', 'Lcaud', 'Rcaud',\n",
      "       'Laccumb', 'Raccumb', 'Lpall', 'Rpall', 'Brainstem'],\n",
      "      dtype='object')\n"
     ]
    },
    {
     "data": {
      "text/html": [
       "<div>\n",
       "<style scoped>\n",
       "    .dataframe tbody tr th:only-of-type {\n",
       "        vertical-align: middle;\n",
       "    }\n",
       "\n",
       "    .dataframe tbody tr th {\n",
       "        vertical-align: top;\n",
       "    }\n",
       "\n",
       "    .dataframe thead th {\n",
       "        text-align: right;\n",
       "    }\n",
       "</style>\n",
       "<table border=\"1\" class=\"dataframe\">\n",
       "  <thead>\n",
       "    <tr style=\"text-align: right;\">\n",
       "      <th></th>\n",
       "      <th>subject</th>\n",
       "      <th>FLAIR_contrast</th>\n",
       "      <th>phenotype</th>\n",
       "      <th>age_at_scan</th>\n",
       "      <th>race</th>\n",
       "      <th>ethnicity</th>\n",
       "      <th>sex</th>\n",
       "      <th>choroid_volume</th>\n",
       "      <th>choroid_vol_frac</th>\n",
       "      <th>pineal_volume</th>\n",
       "      <th>...</th>\n",
       "      <th>Ramy</th>\n",
       "      <th>Lputam</th>\n",
       "      <th>Rputam</th>\n",
       "      <th>Lcaud</th>\n",
       "      <th>Rcaud</th>\n",
       "      <th>Laccumb</th>\n",
       "      <th>Raccumb</th>\n",
       "      <th>Lpall</th>\n",
       "      <th>Rpall</th>\n",
       "      <th>Brainstem</th>\n",
       "    </tr>\n",
       "    <tr>\n",
       "      <th>subid</th>\n",
       "      <th></th>\n",
       "      <th></th>\n",
       "      <th></th>\n",
       "      <th></th>\n",
       "      <th></th>\n",
       "      <th></th>\n",
       "      <th></th>\n",
       "      <th></th>\n",
       "      <th></th>\n",
       "      <th></th>\n",
       "      <th></th>\n",
       "      <th></th>\n",
       "      <th></th>\n",
       "      <th></th>\n",
       "      <th></th>\n",
       "      <th></th>\n",
       "      <th></th>\n",
       "      <th></th>\n",
       "      <th></th>\n",
       "      <th></th>\n",
       "      <th></th>\n",
       "    </tr>\n",
       "  </thead>\n",
       "  <tbody>\n",
       "    <tr>\n",
       "      <th>1010</th>\n",
       "      <td>ms1010</td>\n",
       "      <td>no</td>\n",
       "      <td>RRMS</td>\n",
       "      <td>20.133603</td>\n",
       "      <td>White</td>\n",
       "      <td>Hispanic or Latino</td>\n",
       "      <td>Female</td>\n",
       "      <td>1933.325928</td>\n",
       "      <td>1.532423</td>\n",
       "      <td>150.017090</td>\n",
       "      <td>...</td>\n",
       "      <td>1.570915</td>\n",
       "      <td>6.533811</td>\n",
       "      <td>6.654875</td>\n",
       "      <td>5.372034</td>\n",
       "      <td>5.79357</td>\n",
       "      <td>0.883184</td>\n",
       "      <td>0.773059</td>\n",
       "      <td>2.308968</td>\n",
       "      <td>2.323554</td>\n",
       "      <td>29.891876</td>\n",
       "    </tr>\n",
       "    <tr>\n",
       "      <th>1011</th>\n",
       "      <td>ms1011</td>\n",
       "      <td>yes</td>\n",
       "      <td>RRMS</td>\n",
       "      <td>28.880797</td>\n",
       "      <td>Other</td>\n",
       "      <td>Hispanic or Latino</td>\n",
       "      <td>Female</td>\n",
       "      <td>2303.349365</td>\n",
       "      <td>1.579446</td>\n",
       "      <td>283.630951</td>\n",
       "      <td>...</td>\n",
       "      <td>2.057197</td>\n",
       "      <td>6.46169</td>\n",
       "      <td>6.791539</td>\n",
       "      <td>5.113006</td>\n",
       "      <td>5.948437</td>\n",
       "      <td>0.974902</td>\n",
       "      <td>0.72246</td>\n",
       "      <td>2.410756</td>\n",
       "      <td>2.308942</td>\n",
       "      <td>30.081795</td>\n",
       "    </tr>\n",
       "    <tr>\n",
       "      <th>1019</th>\n",
       "      <td>ms1019</td>\n",
       "      <td>no</td>\n",
       "      <td>RRMS</td>\n",
       "      <td>66.470459</td>\n",
       "      <td>White</td>\n",
       "      <td>Not Hispanic or Latino</td>\n",
       "      <td>Female</td>\n",
       "      <td>3353.079346</td>\n",
       "      <td>2.479118</td>\n",
       "      <td>133.119675</td>\n",
       "      <td>...</td>\n",
       "      <td>1.924501</td>\n",
       "      <td>4.778929</td>\n",
       "      <td>4.688707</td>\n",
       "      <td>3.812061</td>\n",
       "      <td>3.999609</td>\n",
       "      <td>0.628003</td>\n",
       "      <td>0.110114</td>\n",
       "      <td>1.035068</td>\n",
       "      <td>1.307155</td>\n",
       "      <td>31.498878</td>\n",
       "    </tr>\n",
       "    <tr>\n",
       "      <th>1033</th>\n",
       "      <td>ms1033</td>\n",
       "      <td>yes</td>\n",
       "      <td>RRMS</td>\n",
       "      <td>48.943219</td>\n",
       "      <td>White</td>\n",
       "      <td>Not Hispanic or Latino</td>\n",
       "      <td>Female</td>\n",
       "      <td>1834.491211</td>\n",
       "      <td>1.278455</td>\n",
       "      <td>312.319214</td>\n",
       "      <td>...</td>\n",
       "      <td>0.748343</td>\n",
       "      <td>6.117689</td>\n",
       "      <td>5.956475</td>\n",
       "      <td>4.562571</td>\n",
       "      <td>4.787144</td>\n",
       "      <td>0.864502</td>\n",
       "      <td>0.663864</td>\n",
       "      <td>2.187303</td>\n",
       "      <td>1.713516</td>\n",
       "      <td>28.571508</td>\n",
       "    </tr>\n",
       "    <tr>\n",
       "      <th>1065</th>\n",
       "      <td>ms1065</td>\n",
       "      <td>yes</td>\n",
       "      <td>RRMS</td>\n",
       "      <td>59.018234</td>\n",
       "      <td>White</td>\n",
       "      <td>Not Hispanic or Latino</td>\n",
       "      <td>Female</td>\n",
       "      <td>3014.648193</td>\n",
       "      <td>2.242647</td>\n",
       "      <td>161.279587</td>\n",
       "      <td>...</td>\n",
       "      <td>1.964459</td>\n",
       "      <td>5.314401</td>\n",
       "      <td>6.116707</td>\n",
       "      <td>3.193821</td>\n",
       "      <td>3.477359</td>\n",
       "      <td>0.60768</td>\n",
       "      <td>0.52927</td>\n",
       "      <td>1.988262</td>\n",
       "      <td>2.130381</td>\n",
       "      <td>26.807235</td>\n",
       "    </tr>\n",
       "  </tbody>\n",
       "</table>\n",
       "<p>5 rows × 47 columns</p>\n",
       "</div>"
      ],
      "text/plain": [
       "      subject FLAIR_contrast phenotype  age_at_scan   race  \\\n",
       "subid                                                        \n",
       "1010   ms1010             no      RRMS    20.133603  White   \n",
       "1011   ms1011            yes      RRMS    28.880797  Other   \n",
       "1019   ms1019             no      RRMS    66.470459  White   \n",
       "1033   ms1033            yes      RRMS    48.943219  White   \n",
       "1065   ms1065            yes      RRMS    59.018234  White   \n",
       "\n",
       "                    ethnicity     sex  choroid_volume  choroid_vol_frac  \\\n",
       "subid                                                                     \n",
       "1010       Hispanic or Latino  Female     1933.325928          1.532423   \n",
       "1011       Hispanic or Latino  Female     2303.349365          1.579446   \n",
       "1019   Not Hispanic or Latino  Female     3353.079346          2.479118   \n",
       "1033   Not Hispanic or Latino  Female     1834.491211          1.278455   \n",
       "1065   Not Hispanic or Latino  Female     3014.648193          2.242647   \n",
       "\n",
       "       pineal_volume  ...      Ramy    Lputam    Rputam     Lcaud     Rcaud  \\\n",
       "subid                 ...                                                     \n",
       "1010      150.017090  ...  1.570915  6.533811  6.654875  5.372034   5.79357   \n",
       "1011      283.630951  ...  2.057197   6.46169  6.791539  5.113006  5.948437   \n",
       "1019      133.119675  ...  1.924501  4.778929  4.688707  3.812061  3.999609   \n",
       "1033      312.319214  ...  0.748343  6.117689  5.956475  4.562571  4.787144   \n",
       "1065      161.279587  ...  1.964459  5.314401  6.116707  3.193821  3.477359   \n",
       "\n",
       "        Laccumb   Raccumb     Lpall     Rpall  Brainstem  \n",
       "subid                                                     \n",
       "1010   0.883184  0.773059  2.308968  2.323554  29.891876  \n",
       "1011   0.974902   0.72246  2.410756  2.308942  30.081795  \n",
       "1019   0.628003  0.110114  1.035068  1.307155  31.498878  \n",
       "1033   0.864502  0.663864  2.187303  1.713516  28.571508  \n",
       "1065    0.60768   0.52927  1.988262  2.130381  26.807235  \n",
       "\n",
       "[5 rows x 47 columns]"
      ]
     },
     "execution_count": 30,
     "metadata": {},
     "output_type": "execute_result"
    }
   ],
   "source": [
    "print(df.columns)\n",
    "df.head()"
   ]
  },
  {
   "cell_type": "markdown",
   "metadata": {},
   "source": [
    "## Statistical Analysis"
   ]
  },
  {
   "cell_type": "markdown",
   "metadata": {},
   "source": [
    "### Descriptive Stats\n"
   ]
  },
  {
   "cell_type": "code",
   "execution_count": 57,
   "metadata": {},
   "outputs": [
    {
     "name": "stdout",
     "output_type": "stream",
     "text": [
      "36 patients in total\n",
      "15 patients with RRMS\n",
      "9 patients with OIND\n",
      "12 patients with NIND\n"
     ]
    }
   ],
   "source": [
    "print(len(df), \"patients in total\")\n",
    "print(sum(df['phenotype'] == \"RRMS\"), \"patients with RRMS\")\n",
    "print(sum(df['phenotype'] == \"OIND\"), \"patients with OIND\")\n",
    "print(sum(df['phenotype'] == \"NIND\"), \"patients with NIND\")"
   ]
  },
  {
   "cell_type": "code",
   "execution_count": null,
   "metadata": {},
   "outputs": [
    {
     "name": "stdout",
     "output_type": "stream",
     "text": [
      "Proportion of female subjects: 0.92\n",
      "Average age at scan: 46.75\n"
     ]
    }
   ],
   "source": [
    "print(\"Proportion of female subjects: {:0.2f}\".format(sum(df['sex'] == \"Female\") / len(df)) )\n",
    "print(\"Average age at scan: {:0.2f}\".format(df['age'].mean()))"
   ]
  },
  {
   "cell_type": "code",
   "execution_count": 76,
   "metadata": {},
   "outputs": [
    {
     "name": "stdout",
     "output_type": "stream",
     "text": [
      "Fraction of female RRMS patients: 0.93\n",
      "Average age of RRMS patient: 45.07\n",
      "\n",
      "\n",
      "Fraction of female OIND patients: 0.89\n",
      "Average age of OIND patient: 49.68\n",
      "\n",
      "\n",
      "Fraction of female NIND patients: 0.92\n",
      "Average age of NIND patient: 46.50\n"
     ]
    }
   ],
   "source": [
    "df_rrms = df.loc[df[\"phenotype\"] == \"RRMS\"]\n",
    "print(\"Fraction of female RRMS patients: {:0.2f}\".format(sum(df_rrms['sex'] == \"Female\") / len(df_rrms)))\n",
    "print(\"Average age of RRMS patient: {:0.2f}\".format(df_rrms['age'].mean()))\n",
    "print(\"\\n\")\n",
    "\n",
    "df_oind = df.loc[df[\"phenotype\"] == \"OIND\"]\n",
    "print(\"Fraction of female OIND patients: {:0.2f}\".format(sum(df_oind['sex'] == \"Female\") / len(df_oind)))\n",
    "print(\"Average age of OIND patient: {:0.2f}\".format(df_oind['age'].mean()))\n",
    "print(\"\\n\")\n",
    "\n",
    "df_nind = df.loc[df[\"phenotype\"] == \"NIND\"]\n",
    "print(\"Fraction of female NIND patients: {:0.2f}\".format(sum(df_nind['sex'] == \"Female\") / len(df_nind)))\n",
    "print(\"Average age of NIND patient: {:0.2f}\".format(df_nind['age'].mean()))"
   ]
  },
  {
   "cell_type": "markdown",
   "metadata": {},
   "source": [
    "#### Volumes"
   ]
  },
  {
   "cell_type": "code",
   "execution_count": 80,
   "metadata": {},
   "outputs": [
    {
     "name": "stdout",
     "output_type": "stream",
     "text": [
      "Mean choroid volumes:\n",
      "RRMS: 1849.70\n",
      "OIND: 1957.32\n",
      "NIND: 1814.22\n",
      "\n",
      "\n",
      "Mean pineal volumes:\n",
      "RRMS: 258.73\n",
      "OIND: 203.84\n",
      "NIND: 487.55\n",
      "\n",
      "\n",
      "Mean pituitary volumes:\n",
      "RRMS: 783.61\n",
      "OIND: 712.28\n",
      "NIND: 594.03\n"
     ]
    }
   ],
   "source": [
    "# choroid\n",
    "print(\"Mean choroid volumes:\")\n",
    "print(\"RRMS: {:0.2f}\".format(df_rrms['choroid_volume'].mean()))\n",
    "print(\"OIND: {:0.2f}\".format(df_oind['choroid_volume'].mean()))\n",
    "print(\"NIND: {:0.2f}\".format(df_nind['choroid_volume'].mean()))\n",
    "print(\"\\n\")\n",
    "\n",
    "# pineal\n",
    "print(\"Mean pineal volumes:\")\n",
    "print(\"RRMS: {:0.2f}\".format(df_rrms['pineal_volume'].mean()))\n",
    "print(\"OIND: {:0.2f}\".format(df_oind['pineal_volume'].mean()))\n",
    "print(\"NIND: {:0.2f}\".format(df_nind['pineal_volume'].mean()))\n",
    "print(\"\\n\")\n",
    "\n",
    "# pituitary\n",
    "print(\"Mean pituitary volumes:\")\n",
    "print(\"RRMS: {:0.2f}\".format(df_rrms['pituitary_volume'].mean()))\n",
    "print(\"OIND: {:0.2f}\".format(df_oind['pituitary_volume'].mean()))\n",
    "print(\"NIND: {:0.2f}\".format(df_nind['pituitary_volume'].mean()))"
   ]
  },
  {
   "cell_type": "markdown",
   "metadata": {},
   "source": [
    "### Regression Models\n",
    "\n",
    "Looking at how volume of ROI predicts phenotype"
   ]
  },
  {
   "cell_type": "markdown",
   "metadata": {},
   "source": [
    "#### Pituitary Volume"
   ]
  },
  {
   "cell_type": "code",
   "execution_count": null,
   "metadata": {},
   "outputs": [],
   "source": [
    "from statsmodels.miscmodels.ordinal_model import OrderedModel\n",
    "\n",
    "df['sex_factor'], _ = df['sex'].factorize()\n",
    "predictors = [\"age_at_scan\", \"vol_TIV\", \"sex_factor\", \"pituitary_volume\"]\n",
    "outcome = \"phenotype\"\n",
    "\n",
    "x = df[predictors]\n",
    "Y = df[outcome]\n",
    "\n",
    "mod_prob = OrderedModel(Y, x, distr='probit')\n",
    "res_prob = mod_prob.fit(method='bfgs')\n",
    "res_prob.summary()\n"
   ]
  },
  {
   "cell_type": "markdown",
   "metadata": {},
   "source": [
    "#### statsmodels usage\n",
    "\n",
    "- `statsmodels.regression.linear_model.OLS`\n",
    "- `statsmodels.discrete.discrete_model.Logit`\n",
    "- `statsmodels.discrete.discrete_model.Probit`\n",
    "- `statsmodels.miscmodels.ordinal_model.OrderedModel`\n",
    "\n",
    "Why is OrderedModel not available under `statsmodels.api` unlike all the others? Also, OrderedModel isn't available under `statsmodels.miscmodels.api` either"
   ]
  },
  {
   "cell_type": "code",
   "execution_count": null,
   "metadata": {},
   "outputs": [],
   "source": [
    "import statsmodels.api as sm\n",
    "from statsmodels.miscmodels.ordinal_model import OrderedModel\n",
    "\n",
    "spector_data = sm.datasets.spector.load()\n",
    "\n",
    "Y = spector_data.endog\n",
    "x = spector_data.exog\n",
    "\n",
    "# Linear regression\n",
    "mod = sm.OLS(Y, x)\n",
    "\n",
    "# Regression with discrete dependent variable\n",
    "logit_mod = sm.Logit(Y, x)\n",
    "probit_mod = sm.Probit(Y, x)\n",
    "\n",
    "\n",
    "# Ordinal regression\n",
    "mod = OrderedModel(Y, x, distr='probit')"
   ]
  }
 ],
 "metadata": {
  "kernelspec": {
   "display_name": "monai",
   "language": "python",
   "name": "python3"
  },
  "language_info": {
   "codemirror_mode": {
    "name": "ipython",
    "version": 3
   },
   "file_extension": ".py",
   "mimetype": "text/x-python",
   "name": "python",
   "nbconvert_exporter": "python",
   "pygments_lexer": "ipython3",
   "version": "3.12.7"
  }
 },
 "nbformat": 4,
 "nbformat_minor": 2
}
