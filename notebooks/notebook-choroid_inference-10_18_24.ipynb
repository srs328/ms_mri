{
 "cells": [
  {
   "cell_type": "markdown",
   "metadata": {},
   "source": [
    "# Code for running inference\n",
    "\n",
    "To convert this to a script, should have a name for the whole training task which goes in dataset.json and/or datalist.json because this will help for the task.json needed for inference.\n",
    "\n",
    "Look into the minimal amount of metaata monai requires in the form of a task.json or other struct to initialize the builder and then run the ensemble\n"
   ]
  },
  {
   "cell_type": "code",
   "execution_count": 1,
   "metadata": {},
   "outputs": [
    {
     "name": "stderr",
     "output_type": "stream",
     "text": [
      "/home/srs-9/.virtualenvs/monai/lib/python3.12/site-packages/ignite/handlers/checkpoint.py:17: DeprecationWarning: `TorchScript` support for functional optimizers is deprecated and will be removed in a future PyTorch release. Consider using the `torch.compile` optimizer instead.\n",
      "  from torch.distributed.optim import ZeroRedundancyOptimizer\n"
     ]
    }
   ],
   "source": [
    "import os\n",
    "from pathlib import Path\n",
    "import numpy as np\n",
    "import json\n",
    "from loguru import logger\n",
    "import platform\n",
    "\n",
    "import mri_data\n",
    "import monai_training\n",
    "\n",
    "from monai.apps.auto3dseg import (\n",
    "    AlgoEnsembleBestN,\n",
    "    AlgoEnsembleBuilder,\n",
    "    import_bundle_algo_history,\n",
    ")\n",
    "from monai.utils.enums import AlgoKeys\n",
    "\n",
    "from reload_recursive import reload_recursive"
   ]
  },
  {
   "cell_type": "code",
   "execution_count": 2,
   "metadata": {},
   "outputs": [],
   "source": [
    "reload_recursive(mri_data)\n",
    "reload_recursive(monai_training)\n",
    "from mri_data.file_manager import scan_3Tpioneer_bids, DataSet, filter_first_ses  # noqa: E402, F401\n",
    "from monai_training import preprocess  # noqa: E402\n"
   ]
  },
  {
   "cell_type": "markdown",
   "metadata": {},
   "source": [
    "Setup logging\n"
   ]
  },
  {
   "cell_type": "code",
   "execution_count": 3,
   "metadata": {},
   "outputs": [
    {
     "data": {
      "text/plain": [
       "1"
      ]
     },
     "execution_count": 3,
     "metadata": {},
     "output_type": "execute_result"
    }
   ],
   "source": [
    "log_dir = \".logs\"\n",
    "\n",
    "if not os.path.exists(log_dir):\n",
    "    os.makedirs(log_dir)\n",
    "logger.add(\n",
    "    os.path.join(log_dir, \"file_{time:%Y_%m_%d}.log\"), rotation=\"6h\", level=\"DEBUG\"\n",
    ")"
   ]
  },
  {
   "cell_type": "markdown",
   "metadata": {},
   "source": [
    "**Edit These**\n"
   ]
  },
  {
   "cell_type": "code",
   "execution_count": 4,
   "metadata": {},
   "outputs": [],
   "source": [
    "#! Set these variables\n",
    "work_dir_name = \"choroid_resegment1\"\n",
    "train_dataset_file_name = \"training-dataset-desktop1.json\"\n",
    "prediction_postfix = \"choroid_resegment_pred\"\n",
    "task_name = \"infer_choroid\"\n",
    "modalities = [\"flair\", \"t1\"]\n",
    "save_dir = Path(\"/media/smbshare/3Tpioneer_bids_predictions\")"
   ]
  },
  {
   "cell_type": "markdown",
   "metadata": {},
   "source": [
    "Set paths\n"
   ]
  },
  {
   "cell_type": "code",
   "execution_count": 5,
   "metadata": {},
   "outputs": [],
   "source": [
    "hostname = platform.node()\n",
    "if hostname == \"rhinocampus\":\n",
    "    drive_root = Path(\"/media/smbshare\")\n",
    "else:\n",
    "    drive_root = Path(\"/mnt/h\")\n",
    "\n",
    "projects_root = Path(\"/home/srs-9/Projects\")\n",
    "drive_root = Path(\"/media/smbshare\")\n",
    "\n",
    "msmri_home = projects_root / \"ms_mri\"\n",
    "training_work_dirs = msmri_home / \"training_work_dirs\"\n",
    "\n",
    "# dataroot = \"/media/hemondlab/Data/3Tpioneer_bids\"\n",
    "dataroot = drive_root / \"3Tpioneer_bids\"\n",
    "work_dir = training_work_dirs / work_dir_name\n",
    "train_dataset_file = work_dir / train_dataset_file_name\n",
    "\n",
    "prediction_filename = (\n",
    "    \".\".join(sorted(modalities)) + \"_\" + prediction_postfix + \".nii.gz\"\n",
    ")\n",
    "print(prediction_filename)\n",
    "\n",
    "taskfile_name = \"inference-task.json\""
   ]
  },
  {
   "cell_type": "code",
   "execution_count": 7,
   "metadata": {},
   "outputs": [],
   "source": [
    "def inference_exists(dataset: DataSet) -> DataSet:\n",
    "    count = 0\n",
    "    dataset_new = DataSet(dataset.dataroot)\n",
    "    for scan in dataset:\n",
    "        if not (save_dir / scan.relative_path / prediction_filename).is_file():\n",
    "            dataset_new.append(scan)\n",
    "        else:\n",
    "            count += 1\n",
    "    logger.info(f\"{count} scans already have inference\")\n",
    "    return dataset_new"
   ]
  },
  {
   "cell_type": "markdown",
   "metadata": {},
   "source": [
    "### Do Preparation\n",
    "\n",
    "Get all the scans that were not in the training and testing set to create the inference dataset\n"
   ]
  },
  {
   "cell_type": "code",
   "execution_count": 8,
   "metadata": {},
   "outputs": [
    {
     "ename": "AttributeError",
     "evalue": "'int' object has no attribute 'format'",
     "output_type": "error",
     "traceback": [
      "\u001b[0;31m---------------------------------------------------------------------------\u001b[0m",
      "\u001b[0;31mAttributeError\u001b[0m                            Traceback (most recent call last)",
      "Cell \u001b[0;32mIn[8], line 6\u001b[0m\n\u001b[1;32m      2\u001b[0m dataset_train, _ \u001b[38;5;241m=\u001b[39m preprocess\u001b[38;5;241m.\u001b[39mload_dataset(train_dataset_file)\n\u001b[1;32m      4\u001b[0m \u001b[38;5;66;03m# dataset_train2 has the same subject/sessions that are in dataset_train but with a subset of the keys\u001b[39;00m\n\u001b[1;32m      5\u001b[0m \u001b[38;5;66;03m#   so that they can be compared to scans in the full data set when getting the set difference\u001b[39;00m\n\u001b[0;32m----> 6\u001b[0m dataset_proc \u001b[38;5;241m=\u001b[39m \u001b[43mpreprocess\u001b[49m\u001b[38;5;241;43m.\u001b[39;49m\u001b[43mDataSetProcesser\u001b[49m\u001b[38;5;241;43m.\u001b[39;49m\u001b[43mnew_dataset\u001b[49m\u001b[43m(\u001b[49m\n\u001b[1;32m      7\u001b[0m \u001b[43m    \u001b[49m\u001b[43mdataroot\u001b[49m\u001b[43m,\u001b[49m\u001b[43m \u001b[49m\u001b[43mscan_3Tpioneer_bids\u001b[49m\u001b[43m,\u001b[49m\u001b[43m \u001b[49m\u001b[43mfilters\u001b[49m\u001b[38;5;241;43m=\u001b[39;49m\u001b[43m[\u001b[49m\u001b[43mfilter_first_ses\u001b[49m\u001b[43m,\u001b[49m\u001b[43m \u001b[49m\u001b[43minference_exists\u001b[49m\u001b[43m]\u001b[49m\n\u001b[1;32m      8\u001b[0m \u001b[43m)\u001b[49m\n\u001b[1;32m      9\u001b[0m dataset_full \u001b[38;5;241m=\u001b[39m dataset_proc\u001b[38;5;241m.\u001b[39mdataset\n\u001b[1;32m     10\u001b[0m dataset_train2 \u001b[38;5;241m=\u001b[39m DataSet\u001b[38;5;241m.\u001b[39mdataset_like(dataset_train, [\u001b[38;5;124m'\u001b[39m\u001b[38;5;124msubid\u001b[39m\u001b[38;5;124m'\u001b[39m, \u001b[38;5;124m'\u001b[39m\u001b[38;5;124msesid\u001b[39m\u001b[38;5;124m'\u001b[39m])\n",
      "File \u001b[0;32m~/Projects/ms_mri/src/monai_training/preprocess.py:64\u001b[0m, in \u001b[0;36mDataSetProcesser.new_dataset\u001b[0;34m(cls, dataroot, scan_func, filters, *args, **kwargs)\u001b[0m\n\u001b[1;32m     62\u001b[0m         filters \u001b[38;5;241m=\u001b[39m [filters]\n\u001b[1;32m     63\u001b[0m     \u001b[38;5;28;01mfor\u001b[39;00m \u001b[38;5;28mfilter\u001b[39m \u001b[38;5;129;01min\u001b[39;00m filters:\n\u001b[0;32m---> 64\u001b[0m         dsp\u001b[38;5;241m.\u001b[39mdataset \u001b[38;5;241m=\u001b[39m \u001b[38;5;28;43mfilter\u001b[39;49m\u001b[43m(\u001b[49m\u001b[43mdsp\u001b[49m\u001b[38;5;241;43m.\u001b[39;49m\u001b[43mdataset\u001b[49m\u001b[43m)\u001b[49m\n\u001b[1;32m     66\u001b[0m \u001b[38;5;28;01mif\u001b[39;00m \u001b[38;5;28mall\u001b[39m([scan\u001b[38;5;241m.\u001b[39mimage \u001b[38;5;28;01mfor\u001b[39;00m scan \u001b[38;5;129;01min\u001b[39;00m dsp\u001b[38;5;241m.\u001b[39mdataset]):\n\u001b[1;32m     67\u001b[0m     dsp\u001b[38;5;241m.\u001b[39mimage_name \u001b[38;5;241m=\u001b[39m dsp\u001b[38;5;241m.\u001b[39mdataset[\u001b[38;5;241m0\u001b[39m]\u001b[38;5;241m.\u001b[39mimage\n",
      "Cell \u001b[0;32mIn[7], line 9\u001b[0m, in \u001b[0;36minference_exists\u001b[0;34m(dataset)\u001b[0m\n\u001b[1;32m      7\u001b[0m     \u001b[38;5;28;01melse\u001b[39;00m:\n\u001b[1;32m      8\u001b[0m         count\u001b[38;5;241m+\u001b[39m\u001b[38;5;241m=\u001b[39m\u001b[38;5;241m1\u001b[39m\n\u001b[0;32m----> 9\u001b[0m \u001b[43mlogger\u001b[49m\u001b[38;5;241;43m.\u001b[39;49m\u001b[43minfo\u001b[49m\u001b[43m(\u001b[49m\u001b[43mcount\u001b[49m\u001b[43m,\u001b[49m\u001b[43m \u001b[49m\u001b[38;5;124;43m\"\u001b[39;49m\u001b[38;5;124;43mscans already have inference\u001b[39;49m\u001b[38;5;124;43m\"\u001b[39;49m\u001b[43m)\u001b[49m\n\u001b[1;32m     10\u001b[0m \u001b[38;5;28;01mreturn\u001b[39;00m dataset_new\n",
      "File \u001b[0;32m~/.virtualenvs/monai/lib/python3.12/site-packages/loguru/_logger.py:2044\u001b[0m, in \u001b[0;36mLogger.info\u001b[0;34m(_Logger__self, _Logger__message, *args, **kwargs)\u001b[0m\n\u001b[1;32m   2042\u001b[0m \u001b[38;5;28;01mdef\u001b[39;00m \u001b[38;5;21minfo\u001b[39m(__self, __message, \u001b[38;5;241m*\u001b[39margs, \u001b[38;5;241m*\u001b[39m\u001b[38;5;241m*\u001b[39mkwargs):  \u001b[38;5;66;03m# noqa: N805\u001b[39;00m\n\u001b[1;32m   2043\u001b[0m \u001b[38;5;250m    \u001b[39m\u001b[38;5;124mr\u001b[39m\u001b[38;5;124;03m\"\"\"Log ``message.format(*args, **kwargs)`` with severity ``'INFO'``.\"\"\"\u001b[39;00m\n\u001b[0;32m-> 2044\u001b[0m     \u001b[43m__self\u001b[49m\u001b[38;5;241;43m.\u001b[39;49m\u001b[43m_log\u001b[49m\u001b[43m(\u001b[49m\u001b[38;5;124;43m\"\u001b[39;49m\u001b[38;5;124;43mINFO\u001b[39;49m\u001b[38;5;124;43m\"\u001b[39;49m\u001b[43m,\u001b[49m\u001b[43m \u001b[49m\u001b[38;5;28;43;01mFalse\u001b[39;49;00m\u001b[43m,\u001b[49m\u001b[43m \u001b[49m\u001b[43m__self\u001b[49m\u001b[38;5;241;43m.\u001b[39;49m\u001b[43m_options\u001b[49m\u001b[43m,\u001b[49m\u001b[43m \u001b[49m\u001b[43m__message\u001b[49m\u001b[43m,\u001b[49m\u001b[43m \u001b[49m\u001b[43margs\u001b[49m\u001b[43m,\u001b[49m\u001b[43m \u001b[49m\u001b[43mkwargs\u001b[49m\u001b[43m)\u001b[49m\n",
      "File \u001b[0;32m~/.virtualenvs/monai/lib/python3.12/site-packages/loguru/_logger.py:2021\u001b[0m, in \u001b[0;36mLogger._log\u001b[0;34m(self, level, from_decorator, options, message, args, kwargs)\u001b[0m\n\u001b[1;32m   2019\u001b[0m \u001b[38;5;28;01melif\u001b[39;00m args \u001b[38;5;129;01mor\u001b[39;00m kwargs:\n\u001b[1;32m   2020\u001b[0m     colored_message \u001b[38;5;241m=\u001b[39m \u001b[38;5;28;01mNone\u001b[39;00m\n\u001b[0;32m-> 2021\u001b[0m     log_record[\u001b[38;5;124m\"\u001b[39m\u001b[38;5;124mmessage\u001b[39m\u001b[38;5;124m\"\u001b[39m] \u001b[38;5;241m=\u001b[39m \u001b[43mmessage\u001b[49m\u001b[38;5;241;43m.\u001b[39;49m\u001b[43mformat\u001b[49m(\u001b[38;5;241m*\u001b[39margs, \u001b[38;5;241m*\u001b[39m\u001b[38;5;241m*\u001b[39mkwargs)\n\u001b[1;32m   2022\u001b[0m \u001b[38;5;28;01melse\u001b[39;00m:\n\u001b[1;32m   2023\u001b[0m     colored_message \u001b[38;5;241m=\u001b[39m \u001b[38;5;28;01mNone\u001b[39;00m\n",
      "\u001b[0;31mAttributeError\u001b[0m: 'int' object has no attribute 'format'"
     ]
    }
   ],
   "source": [
    "# the scans that were used in the training\n",
    "dataset_train, _ = preprocess.load_dataset(train_dataset_file)\n",
    "\n",
    "# dataset_train2 has the same subject/sessions that are in dataset_train but with a subset of the keys\n",
    "#   so that they can be compared to scans in the full data set when getting the set difference\n",
    "dataset_proc = preprocess.DataSetProcesser.new_dataset(\n",
    "    dataroot, scan_3Tpioneer_bids, filters=[filter_first_ses, inference_exists]\n",
    ")\n",
    "dataset_full = dataset_proc.dataset\n",
    "dataset_train2 = DataSet.dataset_like(dataset_train, [\"subid\", \"sesid\"])\n",
    "dataset_inference = DataSet.from_scans(set(dataset_full) - set(dataset_train2))"
   ]
  },
  {
   "cell_type": "markdown",
   "metadata": {},
   "source": [
    "Prepare the images in the inference dataset (i.e combine flair and t1 images)\n"
   ]
  },
  {
   "cell_type": "code",
   "execution_count": 39,
   "metadata": {},
   "outputs": [
    {
     "name": "stderr",
     "output_type": "stream",
     "text": [
      "\u001b[32m2024-10-18 19:54:12.179\u001b[0m | \u001b[1mINFO    \u001b[0m | \u001b[36mmonai_training.preprocess\u001b[0m:\u001b[36mprepare_images\u001b[0m:\u001b[36m88\u001b[0m - \u001b[1mPrepare Images\u001b[0m\n",
      "\u001b[32m2024-10-18 19:54:12.241\u001b[0m | \u001b[1mINFO    \u001b[0m | \u001b[36mmri_data.utils\u001b[0m:\u001b[36mmerge_images\u001b[0m:\u001b[36m27\u001b[0m - \u001b[1mfslmerge -a /media/smbshare/3Tpioneer_bids/sub-ms2120/ses-20170920/flair.t1.nii.gz /media/smbshare/3Tpioneer_bids/sub-ms2120/ses-20170920/flair.nii.gz /media/smbshare/3Tpioneer_bids/sub-ms2120/ses-20170920/t1.nii.gz\u001b[0m\n"
     ]
    },
    {
     "name": "stdout",
     "output_type": "stream",
     "text": [
      "Image Exception : #22 :: Failed to read volume /media/smbshare/3Tpioneer_bids/sub-ms2120/ses-20170920/flair.nii.gz\n",
      "Error : Error: short read, file may be truncated\n",
      "terminate called after throwing an instance of 'std::runtime_error'\n",
      "  what():  Failed to read volume /media/smbshare/3Tpioneer_bids/sub-ms2120/ses-20170920/flair.nii.gz\n",
      "Error : Error: short read, file may be truncated\n"
     ]
    },
    {
     "name": "stderr",
     "output_type": "stream",
     "text": [
      "\u001b[32m2024-10-18 19:54:13.537\u001b[0m | \u001b[31m\u001b[1mERROR   \u001b[0m | \u001b[36mmonai_training.preprocess\u001b[0m:\u001b[36mprepare_images\u001b[0m:\u001b[36m121\u001b[0m - \u001b[31m\u001b[1mSomething went wrong merging images for <bound method Scan.info of Scan(subid='2120', sesid='20170920', dataroot=PosixPath('/media/smbshare/3Tpioneer_bids'), root=PosixPath('/media/smbshare/3Tpioneer_bids/sub-ms2120/ses-20170920'), image=None, label=None, cond=None, id=42762350400)>\u001b[0m\n",
      "\u001b[33m\u001b[1mTraceback (most recent call last):\u001b[0m\n",
      "\n",
      "  File \"<frozen runpy>\", line 198, in _run_module_as_main\n",
      "  File \"<frozen runpy>\", line 88, in _run_code\n",
      "  File \"/home/hemondlab/.virtualenvs/monai/lib/python3.12/site-packages/ipykernel_launcher.py\", line 18, in <module>\n",
      "    app.launch_new_instance()\n",
      "    │   └ <bound method Application.launch_instance of <class 'ipykernel.kernelapp.IPKernelApp'>>\n",
      "    └ <module 'ipykernel.kernelapp' from '/home/hemondlab/.virtualenvs/monai/lib/python3.12/site-packages/ipykernel/kernelapp.py'>\n",
      "  File \"/home/hemondlab/.virtualenvs/monai/lib/python3.12/site-packages/traitlets/config/application.py\", line 1075, in launch_instance\n",
      "    app.start()\n",
      "    │   └ <function IPKernelApp.start at 0x799b2e159760>\n",
      "    └ <ipykernel.kernelapp.IPKernelApp object at 0x799b30eb3740>\n",
      "  File \"/home/hemondlab/.virtualenvs/monai/lib/python3.12/site-packages/ipykernel/kernelapp.py\", line 739, in start\n",
      "    self.io_loop.start()\n",
      "    │    │       └ <function BaseAsyncIOLoop.start at 0x799b2e15a2a0>\n",
      "    │    └ <tornado.platform.asyncio.AsyncIOMainLoop object at 0x799b2e139ee0>\n",
      "    └ <ipykernel.kernelapp.IPKernelApp object at 0x799b30eb3740>\n",
      "  File \"/home/hemondlab/.virtualenvs/monai/lib/python3.12/site-packages/tornado/platform/asyncio.py\", line 205, in start\n",
      "    self.asyncio_loop.run_forever()\n",
      "    │    │            └ <function BaseEventLoop.run_forever at 0x799b2f96de40>\n",
      "    │    └ <_UnixSelectorEventLoop running=True closed=False debug=False>\n",
      "    └ <tornado.platform.asyncio.AsyncIOMainLoop object at 0x799b2e139ee0>\n",
      "  File \"/home/hemondlab/.asdf/installs/python/3.12.4/lib/python3.12/asyncio/base_events.py\", line 641, in run_forever\n",
      "    self._run_once()\n",
      "    │    └ <function BaseEventLoop._run_once at 0x799b2f96fc40>\n",
      "    └ <_UnixSelectorEventLoop running=True closed=False debug=False>\n",
      "  File \"/home/hemondlab/.asdf/installs/python/3.12.4/lib/python3.12/asyncio/base_events.py\", line 1987, in _run_once\n",
      "    handle._run()\n",
      "    │      └ <function Handle._run at 0x799b301d3b00>\n",
      "    └ <Handle Task.task_wakeup(<Future finis...4B)>, ...],))>)>\n",
      "  File \"/home/hemondlab/.asdf/installs/python/3.12.4/lib/python3.12/asyncio/events.py\", line 88, in _run\n",
      "    self._context.run(self._callback, *self._args)\n",
      "    │    │            │    │           │    └ <member '_args' of 'Handle' objects>\n",
      "    │    │            │    │           └ <Handle Task.task_wakeup(<Future finis...4B)>, ...],))>)>\n",
      "    │    │            │    └ <member '_callback' of 'Handle' objects>\n",
      "    │    │            └ <Handle Task.task_wakeup(<Future finis...4B)>, ...],))>)>\n",
      "    │    └ <member '_context' of 'Handle' objects>\n",
      "    └ <Handle Task.task_wakeup(<Future finis...4B)>, ...],))>)>\n",
      "  File \"/home/hemondlab/.virtualenvs/monai/lib/python3.12/site-packages/ipykernel/kernelbase.py\", line 545, in dispatch_queue\n",
      "    await self.process_one()\n",
      "          │    └ <function Kernel.process_one at 0x799b2e1027a0>\n",
      "          └ <ipykernel.ipkernel.IPythonKernel object at 0x799b2e255460>\n",
      "  File \"/home/hemondlab/.virtualenvs/monai/lib/python3.12/site-packages/ipykernel/kernelbase.py\", line 534, in process_one\n",
      "    await dispatch(*args)\n",
      "          │         └ ([<zmq.Frame(b'316435ae-142'...36B)>, <zmq.Frame(b'<IDS|MSG>')>, <zmq.Frame(b'fb94f18e5468'...64B)>, <zmq.Frame(b'{\"date\":\"20...\n",
      "          └ <bound method Kernel.dispatch_shell of <ipykernel.ipkernel.IPythonKernel object at 0x799b2e255460>>\n",
      "  File \"/home/hemondlab/.virtualenvs/monai/lib/python3.12/site-packages/ipykernel/kernelbase.py\", line 437, in dispatch_shell\n",
      "    await result\n",
      "          └ <coroutine object IPythonKernel.execute_request at 0x7999fc429340>\n",
      "  File \"/home/hemondlab/.virtualenvs/monai/lib/python3.12/site-packages/ipykernel/ipkernel.py\", line 362, in execute_request\n",
      "    await super().execute_request(stream, ident, parent)\n",
      "                                  │       │      └ {'header': {'date': datetime.datetime(2024, 10, 18, 23, 54, 12, 178000, tzinfo=tzutc()), 'msg_id': 'b980c315-da5c-447d-b6e7-5...\n",
      "                                  │       └ [b'316435ae-1421-4f48-8c54-88eef821bcf1']\n",
      "                                  └ <zmq.eventloop.zmqstream.ZMQStream object at 0x799b2e13a240>\n",
      "  File \"/home/hemondlab/.virtualenvs/monai/lib/python3.12/site-packages/ipykernel/kernelbase.py\", line 778, in execute_request\n",
      "    reply_content = await reply_content\n",
      "                          └ <coroutine object IPythonKernel.do_execute at 0x7999fc9dd840>\n",
      "  File \"/home/hemondlab/.virtualenvs/monai/lib/python3.12/site-packages/ipykernel/ipkernel.py\", line 449, in do_execute\n",
      "    res = shell.run_cell(\n",
      "          │     └ <function ZMQInteractiveShell.run_cell at 0x799b2e12e840>\n",
      "          └ <ipykernel.zmqshell.ZMQInteractiveShell object at 0x799b2c2d8530>\n",
      "  File \"/home/hemondlab/.virtualenvs/monai/lib/python3.12/site-packages/ipykernel/zmqshell.py\", line 549, in run_cell\n",
      "    return super().run_cell(*args, **kwargs)\n",
      "                             │       └ {'store_history': True, 'silent': False, 'cell_id': 'vscode-notebook-cell:/home/hemondlab/Projects/ms_mri/notebooks/notebook-...\n",
      "                             └ ('dataset_proc = preprocess.DataSetProcesser(dataset_inference)\\ndataset_proc.prepare_images([\"flair\", \"t1\"])\\ndataset_proc.d...\n",
      "  File \"/home/hemondlab/.virtualenvs/monai/lib/python3.12/site-packages/IPython/core/interactiveshell.py\", line 3075, in run_cell\n",
      "    result = self._run_cell(\n",
      "             │    └ <function InteractiveShell._run_cell at 0x799b2ee52480>\n",
      "             └ <ipykernel.zmqshell.ZMQInteractiveShell object at 0x799b2c2d8530>\n",
      "  File \"/home/hemondlab/.virtualenvs/monai/lib/python3.12/site-packages/IPython/core/interactiveshell.py\", line 3130, in _run_cell\n",
      "    result = runner(coro)\n",
      "             │      └ <coroutine object InteractiveShell.run_cell_async at 0x7999fcc89300>\n",
      "             └ <function _pseudo_sync_runner at 0x799b2ee39620>\n",
      "  File \"/home/hemondlab/.virtualenvs/monai/lib/python3.12/site-packages/IPython/core/async_helpers.py\", line 128, in _pseudo_sync_runner\n",
      "    coro.send(None)\n",
      "    │    └ <method 'send' of 'coroutine' objects>\n",
      "    └ <coroutine object InteractiveShell.run_cell_async at 0x7999fcc89300>\n",
      "  File \"/home/hemondlab/.virtualenvs/monai/lib/python3.12/site-packages/IPython/core/interactiveshell.py\", line 3334, in run_cell_async\n",
      "    has_raised = await self.run_ast_nodes(code_ast.body, cell_name,\n",
      "                       │    │             │        │     └ '/tmp/ipykernel_417332/3393155107.py'\n",
      "                       │    │             │        └ [<ast.Assign object at 0x7999fc454190>, <ast.Expr object at 0x7999fc456ed0>, <ast.Expr object at 0x7999fc454910>]\n",
      "                       │    │             └ <ast.Module object at 0x7999fc6db750>\n",
      "                       │    └ <function InteractiveShell.run_ast_nodes at 0x799b2ee527a0>\n",
      "                       └ <ipykernel.zmqshell.ZMQInteractiveShell object at 0x799b2c2d8530>\n",
      "  File \"/home/hemondlab/.virtualenvs/monai/lib/python3.12/site-packages/IPython/core/interactiveshell.py\", line 3517, in run_ast_nodes\n",
      "    if await self.run_code(code, result, async_=asy):\n",
      "             │    │        │     │              └ False\n",
      "             │    │        │     └ <ExecutionResult object at 7999fcdf9c10, execution_count=39 error_before_exec=None error_in_exec=None info=<ExecutionInfo obj...\n",
      "             │    │        └ <code object <module> at 0x7999fcdf15c0, file \"/tmp/ipykernel_417332/3393155107.py\", line 1>\n",
      "             │    └ <function InteractiveShell.run_code at 0x799b2ee52840>\n",
      "             └ <ipykernel.zmqshell.ZMQInteractiveShell object at 0x799b2c2d8530>\n",
      "  File \"/home/hemondlab/.virtualenvs/monai/lib/python3.12/site-packages/IPython/core/interactiveshell.py\", line 3577, in run_code\n",
      "    exec(code_obj, self.user_global_ns, self.user_ns)\n",
      "         │         │    │               │    └ {'__name__': '__main__', '__doc__': 'Automatically created module for IPython interactive environment', '__package__': None, ...\n",
      "         │         │    │               └ <ipykernel.zmqshell.ZMQInteractiveShell object at 0x799b2c2d8530>\n",
      "         │         │    └ <property object at 0x799b2ee486d0>\n",
      "         │         └ <ipykernel.zmqshell.ZMQInteractiveShell object at 0x799b2c2d8530>\n",
      "         └ <code object <module> at 0x7999fcdf15c0, file \"/tmp/ipykernel_417332/3393155107.py\", line 1>\n",
      "\n",
      "  File \"\u001b[32m/tmp/ipykernel_417332/\u001b[0m\u001b[32m\u001b[1m3393155107.py\u001b[0m\", line \u001b[33m2\u001b[0m, in \u001b[35m<module>\u001b[0m\n",
      "    \u001b[1mdataset_proc\u001b[0m\u001b[35m\u001b[1m.\u001b[0m\u001b[1mprepare_images\u001b[0m\u001b[1m(\u001b[0m\u001b[1m[\u001b[0m\u001b[36m\"flair\"\u001b[0m\u001b[1m,\u001b[0m \u001b[36m\"t1\"\u001b[0m\u001b[1m]\u001b[0m\u001b[1m)\u001b[0m\n",
      "    \u001b[36m│            └ \u001b[0m\u001b[36m\u001b[1m<function DataSetProcesser.prepare_images at 0x7999fccd0040>\u001b[0m\n",
      "    \u001b[36m└ \u001b[0m\u001b[36m\u001b[1mDataSetProcesser(dataset=<mri_data.file_manager.DataSet object at 0x7999fc9455b0>, image_name='flair.t1.nii.gz', label_name='...\u001b[0m\n",
      "\n",
      "> File \"\u001b[32m/home/hemondlab/Projects/ms_mri/src/monai_training/\u001b[0m\u001b[32m\u001b[1mpreprocess.py\u001b[0m\", line \u001b[33m117\u001b[0m, in \u001b[35mprepare_images\u001b[0m\n",
      "    \u001b[1mutils\u001b[0m\u001b[35m\u001b[1m.\u001b[0m\u001b[1mmerge_images\u001b[0m\u001b[1m(\u001b[0m\u001b[1mbase_images\u001b[0m\u001b[1m,\u001b[0m \u001b[1mmerged_image\u001b[0m\u001b[1m)\u001b[0m\n",
      "    \u001b[36m│     │            │            └ \u001b[0m\u001b[36m\u001b[1mPosixPath('/media/smbshare/3Tpioneer_bids/sub-ms2120/ses-20170920/flair.t1.nii.gz')\u001b[0m\n",
      "    \u001b[36m│     │            └ \u001b[0m\u001b[36m\u001b[1m[PosixPath('/media/smbshare/3Tpioneer_bids/sub-ms2120/ses-20170920/flair.nii.gz'), PosixPath('/media/smbshare/3Tpioneer_bids/...\u001b[0m\n",
      "    \u001b[36m│     └ \u001b[0m\u001b[36m\u001b[1m<function merge_images at 0x7999fc9404a0>\u001b[0m\n",
      "    \u001b[36m└ \u001b[0m\u001b[36m\u001b[1m<module 'mri_data.utils' from '/home/hemondlab/Projects/ms_mri/src/mri_data/utils.py'>\u001b[0m\n",
      "\n",
      "  File \"\u001b[32m/home/hemondlab/Projects/ms_mri/src/mri_data/\u001b[0m\u001b[32m\u001b[1mutils.py\u001b[0m\", line \u001b[33m28\u001b[0m, in \u001b[35mmerge_images\u001b[0m\n",
      "    \u001b[1mrun\u001b[0m\u001b[1m(\u001b[0m\u001b[1mcmd_parts\u001b[0m\u001b[1m,\u001b[0m \u001b[1mcheck\u001b[0m\u001b[35m\u001b[1m=\u001b[0m\u001b[36m\u001b[1mTrue\u001b[0m\u001b[1m,\u001b[0m \u001b[1mstderr\u001b[0m\u001b[35m\u001b[1m=\u001b[0m\u001b[36m\u001b[1mTrue\u001b[0m\u001b[1m,\u001b[0m \u001b[1mstdout\u001b[0m\u001b[35m\u001b[1m=\u001b[0m\u001b[36m\u001b[1mTrue\u001b[0m\u001b[1m)\u001b[0m\n",
      "    \u001b[36m│   └ \u001b[0m\u001b[36m\u001b[1m['fslmerge', '-a', '/media/smbshare/3Tpioneer_bids/sub-ms2120/ses-20170920/flair.t1.nii.gz', '/media/smbshare/3Tpioneer_bids/...\u001b[0m\n",
      "    \u001b[36m└ \u001b[0m\u001b[36m\u001b[1m<function run at 0x799b30903100>\u001b[0m\n",
      "\n",
      "  File \"/home/hemondlab/.asdf/installs/python/3.12.4/lib/python3.12/subprocess.py\", line 571, in run\n",
      "    raise CalledProcessError(retcode, process.args,\n",
      "          │                  │        │       └ ['fslmerge', '-a', '/media/smbshare/3Tpioneer_bids/sub-ms2120/ses-20170920/flair.t1.nii.gz', '/media/smbshare/3Tpioneer_bids/...\n",
      "          │                  │        └ <Popen: returncode: -6 args: ['fslmerge', '-a', '/media/smbshare/3Tpioneer_b...>\n",
      "          │                  └ -6\n",
      "          └ <class 'subprocess.CalledProcessError'>\n",
      "\n",
      "\u001b[31m\u001b[1msubprocess.CalledProcessError\u001b[0m:\u001b[1m Command '['fslmerge', '-a', '/media/smbshare/3Tpioneer_bids/sub-ms2120/ses-20170920/flair.t1.nii.gz', '/media/smbshare/3Tpioneer_bids/sub-ms2120/ses-20170920/flair.nii.gz', '/media/smbshare/3Tpioneer_bids/sub-ms2120/ses-20170920/t1.nii.gz']' died with <Signals.SIGABRT: 6>.\u001b[0m\n",
      "\u001b[32m2024-10-18 19:54:14.005\u001b[0m | \u001b[1mINFO    \u001b[0m | \u001b[36mmri_data.utils\u001b[0m:\u001b[36mmerge_images\u001b[0m:\u001b[36m27\u001b[0m - \u001b[1mfslmerge -a /media/smbshare/3Tpioneer_bids/sub-ms1196/ses-20161004/flair.t1.nii.gz /media/smbshare/3Tpioneer_bids/sub-ms1196/ses-20161004/flair.nii.gz /media/smbshare/3Tpioneer_bids/sub-ms1196/ses-20161004/t1.nii.gz\u001b[0m\n"
     ]
    },
    {
     "name": "stdout",
     "output_type": "stream",
     "text": [
      "Image Exception : #22 :: Failed to read volume /media/smbshare/3Tpioneer_bids/sub-ms1196/ses-20161004/t1.nii.gz\n",
      "Error : Error: short read, file may be truncated\n",
      "terminate called after throwing an instance of 'std::runtime_error'\n",
      "  what():  Failed to read volume /media/smbshare/3Tpioneer_bids/sub-ms1196/ses-20161004/t1.nii.gz\n",
      "Error : Error: short read, file may be truncated\n"
     ]
    },
    {
     "name": "stderr",
     "output_type": "stream",
     "text": [
      "\u001b[32m2024-10-18 19:54:16.190\u001b[0m | \u001b[31m\u001b[1mERROR   \u001b[0m | \u001b[36mmonai_training.preprocess\u001b[0m:\u001b[36mprepare_images\u001b[0m:\u001b[36m121\u001b[0m - \u001b[31m\u001b[1mSomething went wrong merging images for <bound method Scan.info of Scan(subid='1196', sesid='20161004', dataroot=PosixPath('/media/smbshare/3Tpioneer_bids'), root=PosixPath('/media/smbshare/3Tpioneer_bids/sub-ms1196/ses-20161004'), image=None, label=None, cond=None, id=24112560784)>\u001b[0m\n",
      "\u001b[33m\u001b[1mTraceback (most recent call last):\u001b[0m\n",
      "\n",
      "  File \"<frozen runpy>\", line 198, in _run_module_as_main\n",
      "  File \"<frozen runpy>\", line 88, in _run_code\n",
      "  File \"/home/hemondlab/.virtualenvs/monai/lib/python3.12/site-packages/ipykernel_launcher.py\", line 18, in <module>\n",
      "    app.launch_new_instance()\n",
      "    │   └ <bound method Application.launch_instance of <class 'ipykernel.kernelapp.IPKernelApp'>>\n",
      "    └ <module 'ipykernel.kernelapp' from '/home/hemondlab/.virtualenvs/monai/lib/python3.12/site-packages/ipykernel/kernelapp.py'>\n",
      "  File \"/home/hemondlab/.virtualenvs/monai/lib/python3.12/site-packages/traitlets/config/application.py\", line 1075, in launch_instance\n",
      "    app.start()\n",
      "    │   └ <function IPKernelApp.start at 0x799b2e159760>\n",
      "    └ <ipykernel.kernelapp.IPKernelApp object at 0x799b30eb3740>\n",
      "  File \"/home/hemondlab/.virtualenvs/monai/lib/python3.12/site-packages/ipykernel/kernelapp.py\", line 739, in start\n",
      "    self.io_loop.start()\n",
      "    │    │       └ <function BaseAsyncIOLoop.start at 0x799b2e15a2a0>\n",
      "    │    └ <tornado.platform.asyncio.AsyncIOMainLoop object at 0x799b2e139ee0>\n",
      "    └ <ipykernel.kernelapp.IPKernelApp object at 0x799b30eb3740>\n",
      "  File \"/home/hemondlab/.virtualenvs/monai/lib/python3.12/site-packages/tornado/platform/asyncio.py\", line 205, in start\n",
      "    self.asyncio_loop.run_forever()\n",
      "    │    │            └ <function BaseEventLoop.run_forever at 0x799b2f96de40>\n",
      "    │    └ <_UnixSelectorEventLoop running=True closed=False debug=False>\n",
      "    └ <tornado.platform.asyncio.AsyncIOMainLoop object at 0x799b2e139ee0>\n",
      "  File \"/home/hemondlab/.asdf/installs/python/3.12.4/lib/python3.12/asyncio/base_events.py\", line 641, in run_forever\n",
      "    self._run_once()\n",
      "    │    └ <function BaseEventLoop._run_once at 0x799b2f96fc40>\n",
      "    └ <_UnixSelectorEventLoop running=True closed=False debug=False>\n",
      "  File \"/home/hemondlab/.asdf/installs/python/3.12.4/lib/python3.12/asyncio/base_events.py\", line 1987, in _run_once\n",
      "    handle._run()\n",
      "    │      └ <function Handle._run at 0x799b301d3b00>\n",
      "    └ <Handle Task.task_wakeup(<Future finis...4B)>, ...],))>)>\n",
      "  File \"/home/hemondlab/.asdf/installs/python/3.12.4/lib/python3.12/asyncio/events.py\", line 88, in _run\n",
      "    self._context.run(self._callback, *self._args)\n",
      "    │    │            │    │           │    └ <member '_args' of 'Handle' objects>\n",
      "    │    │            │    │           └ <Handle Task.task_wakeup(<Future finis...4B)>, ...],))>)>\n",
      "    │    │            │    └ <member '_callback' of 'Handle' objects>\n",
      "    │    │            └ <Handle Task.task_wakeup(<Future finis...4B)>, ...],))>)>\n",
      "    │    └ <member '_context' of 'Handle' objects>\n",
      "    └ <Handle Task.task_wakeup(<Future finis...4B)>, ...],))>)>\n",
      "  File \"/home/hemondlab/.virtualenvs/monai/lib/python3.12/site-packages/ipykernel/kernelbase.py\", line 545, in dispatch_queue\n",
      "    await self.process_one()\n",
      "          │    └ <function Kernel.process_one at 0x799b2e1027a0>\n",
      "          └ <ipykernel.ipkernel.IPythonKernel object at 0x799b2e255460>\n",
      "  File \"/home/hemondlab/.virtualenvs/monai/lib/python3.12/site-packages/ipykernel/kernelbase.py\", line 534, in process_one\n",
      "    await dispatch(*args)\n",
      "          │         └ ([<zmq.Frame(b'316435ae-142'...36B)>, <zmq.Frame(b'<IDS|MSG>')>, <zmq.Frame(b'fb94f18e5468'...64B)>, <zmq.Frame(b'{\"date\":\"20...\n",
      "          └ <bound method Kernel.dispatch_shell of <ipykernel.ipkernel.IPythonKernel object at 0x799b2e255460>>\n",
      "  File \"/home/hemondlab/.virtualenvs/monai/lib/python3.12/site-packages/ipykernel/kernelbase.py\", line 437, in dispatch_shell\n",
      "    await result\n",
      "          └ <coroutine object IPythonKernel.execute_request at 0x7999fc429340>\n",
      "  File \"/home/hemondlab/.virtualenvs/monai/lib/python3.12/site-packages/ipykernel/ipkernel.py\", line 362, in execute_request\n",
      "    await super().execute_request(stream, ident, parent)\n",
      "                                  │       │      └ {'header': {'date': datetime.datetime(2024, 10, 18, 23, 54, 12, 178000, tzinfo=tzutc()), 'msg_id': 'b980c315-da5c-447d-b6e7-5...\n",
      "                                  │       └ [b'316435ae-1421-4f48-8c54-88eef821bcf1']\n",
      "                                  └ <zmq.eventloop.zmqstream.ZMQStream object at 0x799b2e13a240>\n",
      "  File \"/home/hemondlab/.virtualenvs/monai/lib/python3.12/site-packages/ipykernel/kernelbase.py\", line 778, in execute_request\n",
      "    reply_content = await reply_content\n",
      "                          └ <coroutine object IPythonKernel.do_execute at 0x7999fc9dd840>\n",
      "  File \"/home/hemondlab/.virtualenvs/monai/lib/python3.12/site-packages/ipykernel/ipkernel.py\", line 449, in do_execute\n",
      "    res = shell.run_cell(\n",
      "          │     └ <function ZMQInteractiveShell.run_cell at 0x799b2e12e840>\n",
      "          └ <ipykernel.zmqshell.ZMQInteractiveShell object at 0x799b2c2d8530>\n",
      "  File \"/home/hemondlab/.virtualenvs/monai/lib/python3.12/site-packages/ipykernel/zmqshell.py\", line 549, in run_cell\n",
      "    return super().run_cell(*args, **kwargs)\n",
      "                             │       └ {'store_history': True, 'silent': False, 'cell_id': 'vscode-notebook-cell:/home/hemondlab/Projects/ms_mri/notebooks/notebook-...\n",
      "                             └ ('dataset_proc = preprocess.DataSetProcesser(dataset_inference)\\ndataset_proc.prepare_images([\"flair\", \"t1\"])\\ndataset_proc.d...\n",
      "  File \"/home/hemondlab/.virtualenvs/monai/lib/python3.12/site-packages/IPython/core/interactiveshell.py\", line 3075, in run_cell\n",
      "    result = self._run_cell(\n",
      "             │    └ <function InteractiveShell._run_cell at 0x799b2ee52480>\n",
      "             └ <ipykernel.zmqshell.ZMQInteractiveShell object at 0x799b2c2d8530>\n",
      "  File \"/home/hemondlab/.virtualenvs/monai/lib/python3.12/site-packages/IPython/core/interactiveshell.py\", line 3130, in _run_cell\n",
      "    result = runner(coro)\n",
      "             │      └ <coroutine object InteractiveShell.run_cell_async at 0x7999fcc89300>\n",
      "             └ <function _pseudo_sync_runner at 0x799b2ee39620>\n",
      "  File \"/home/hemondlab/.virtualenvs/monai/lib/python3.12/site-packages/IPython/core/async_helpers.py\", line 128, in _pseudo_sync_runner\n",
      "    coro.send(None)\n",
      "    │    └ <method 'send' of 'coroutine' objects>\n",
      "    └ <coroutine object InteractiveShell.run_cell_async at 0x7999fcc89300>\n",
      "  File \"/home/hemondlab/.virtualenvs/monai/lib/python3.12/site-packages/IPython/core/interactiveshell.py\", line 3334, in run_cell_async\n",
      "    has_raised = await self.run_ast_nodes(code_ast.body, cell_name,\n",
      "                       │    │             │        │     └ '/tmp/ipykernel_417332/3393155107.py'\n",
      "                       │    │             │        └ [<ast.Assign object at 0x7999fc454190>, <ast.Expr object at 0x7999fc456ed0>, <ast.Expr object at 0x7999fc454910>]\n",
      "                       │    │             └ <ast.Module object at 0x7999fc6db750>\n",
      "                       │    └ <function InteractiveShell.run_ast_nodes at 0x799b2ee527a0>\n",
      "                       └ <ipykernel.zmqshell.ZMQInteractiveShell object at 0x799b2c2d8530>\n",
      "  File \"/home/hemondlab/.virtualenvs/monai/lib/python3.12/site-packages/IPython/core/interactiveshell.py\", line 3517, in run_ast_nodes\n",
      "    if await self.run_code(code, result, async_=asy):\n",
      "             │    │        │     │              └ False\n",
      "             │    │        │     └ <ExecutionResult object at 7999fcdf9c10, execution_count=39 error_before_exec=None error_in_exec=None info=<ExecutionInfo obj...\n",
      "             │    │        └ <code object <module> at 0x7999fcdf15c0, file \"/tmp/ipykernel_417332/3393155107.py\", line 1>\n",
      "             │    └ <function InteractiveShell.run_code at 0x799b2ee52840>\n",
      "             └ <ipykernel.zmqshell.ZMQInteractiveShell object at 0x799b2c2d8530>\n",
      "  File \"/home/hemondlab/.virtualenvs/monai/lib/python3.12/site-packages/IPython/core/interactiveshell.py\", line 3577, in run_code\n",
      "    exec(code_obj, self.user_global_ns, self.user_ns)\n",
      "         │         │    │               │    └ {'__name__': '__main__', '__doc__': 'Automatically created module for IPython interactive environment', '__package__': None, ...\n",
      "         │         │    │               └ <ipykernel.zmqshell.ZMQInteractiveShell object at 0x799b2c2d8530>\n",
      "         │         │    └ <property object at 0x799b2ee486d0>\n",
      "         │         └ <ipykernel.zmqshell.ZMQInteractiveShell object at 0x799b2c2d8530>\n",
      "         └ <code object <module> at 0x7999fcdf15c0, file \"/tmp/ipykernel_417332/3393155107.py\", line 1>\n",
      "\n",
      "  File \"\u001b[32m/tmp/ipykernel_417332/\u001b[0m\u001b[32m\u001b[1m3393155107.py\u001b[0m\", line \u001b[33m2\u001b[0m, in \u001b[35m<module>\u001b[0m\n",
      "    \u001b[1mdataset_proc\u001b[0m\u001b[35m\u001b[1m.\u001b[0m\u001b[1mprepare_images\u001b[0m\u001b[1m(\u001b[0m\u001b[1m[\u001b[0m\u001b[36m\"flair\"\u001b[0m\u001b[1m,\u001b[0m \u001b[36m\"t1\"\u001b[0m\u001b[1m]\u001b[0m\u001b[1m)\u001b[0m\n",
      "    \u001b[36m│            └ \u001b[0m\u001b[36m\u001b[1m<function DataSetProcesser.prepare_images at 0x7999fccd0040>\u001b[0m\n",
      "    \u001b[36m└ \u001b[0m\u001b[36m\u001b[1mDataSetProcesser(dataset=<mri_data.file_manager.DataSet object at 0x7999fc9455b0>, image_name='flair.t1.nii.gz', label_name='...\u001b[0m\n",
      "\n",
      "> File \"\u001b[32m/home/hemondlab/Projects/ms_mri/src/monai_training/\u001b[0m\u001b[32m\u001b[1mpreprocess.py\u001b[0m\", line \u001b[33m117\u001b[0m, in \u001b[35mprepare_images\u001b[0m\n",
      "    \u001b[1mutils\u001b[0m\u001b[35m\u001b[1m.\u001b[0m\u001b[1mmerge_images\u001b[0m\u001b[1m(\u001b[0m\u001b[1mbase_images\u001b[0m\u001b[1m,\u001b[0m \u001b[1mmerged_image\u001b[0m\u001b[1m)\u001b[0m\n",
      "    \u001b[36m│     │            │            └ \u001b[0m\u001b[36m\u001b[1mPosixPath('/media/smbshare/3Tpioneer_bids/sub-ms1196/ses-20161004/flair.t1.nii.gz')\u001b[0m\n",
      "    \u001b[36m│     │            └ \u001b[0m\u001b[36m\u001b[1m[PosixPath('/media/smbshare/3Tpioneer_bids/sub-ms1196/ses-20161004/flair.nii.gz'), PosixPath('/media/smbshare/3Tpioneer_bids/...\u001b[0m\n",
      "    \u001b[36m│     └ \u001b[0m\u001b[36m\u001b[1m<function merge_images at 0x7999fc9404a0>\u001b[0m\n",
      "    \u001b[36m└ \u001b[0m\u001b[36m\u001b[1m<module 'mri_data.utils' from '/home/hemondlab/Projects/ms_mri/src/mri_data/utils.py'>\u001b[0m\n",
      "\n",
      "  File \"\u001b[32m/home/hemondlab/Projects/ms_mri/src/mri_data/\u001b[0m\u001b[32m\u001b[1mutils.py\u001b[0m\", line \u001b[33m28\u001b[0m, in \u001b[35mmerge_images\u001b[0m\n",
      "    \u001b[1mrun\u001b[0m\u001b[1m(\u001b[0m\u001b[1mcmd_parts\u001b[0m\u001b[1m,\u001b[0m \u001b[1mcheck\u001b[0m\u001b[35m\u001b[1m=\u001b[0m\u001b[36m\u001b[1mTrue\u001b[0m\u001b[1m,\u001b[0m \u001b[1mstderr\u001b[0m\u001b[35m\u001b[1m=\u001b[0m\u001b[36m\u001b[1mTrue\u001b[0m\u001b[1m,\u001b[0m \u001b[1mstdout\u001b[0m\u001b[35m\u001b[1m=\u001b[0m\u001b[36m\u001b[1mTrue\u001b[0m\u001b[1m)\u001b[0m\n",
      "    \u001b[36m│   └ \u001b[0m\u001b[36m\u001b[1m['fslmerge', '-a', '/media/smbshare/3Tpioneer_bids/sub-ms1196/ses-20161004/flair.t1.nii.gz', '/media/smbshare/3Tpioneer_bids/...\u001b[0m\n",
      "    \u001b[36m└ \u001b[0m\u001b[36m\u001b[1m<function run at 0x799b30903100>\u001b[0m\n",
      "\n",
      "  File \"/home/hemondlab/.asdf/installs/python/3.12.4/lib/python3.12/subprocess.py\", line 571, in run\n",
      "    raise CalledProcessError(retcode, process.args,\n",
      "          │                  │        │       └ ['fslmerge', '-a', '/media/smbshare/3Tpioneer_bids/sub-ms1196/ses-20161004/flair.t1.nii.gz', '/media/smbshare/3Tpioneer_bids/...\n",
      "          │                  │        └ <Popen: returncode: -6 args: ['fslmerge', '-a', '/media/smbshare/3Tpioneer_b...>\n",
      "          │                  └ -6\n",
      "          └ <class 'subprocess.CalledProcessError'>\n",
      "\n",
      "\u001b[31m\u001b[1msubprocess.CalledProcessError\u001b[0m:\u001b[1m Command '['fslmerge', '-a', '/media/smbshare/3Tpioneer_bids/sub-ms1196/ses-20161004/flair.t1.nii.gz', '/media/smbshare/3Tpioneer_bids/sub-ms1196/ses-20161004/flair.nii.gz', '/media/smbshare/3Tpioneer_bids/sub-ms1196/ses-20161004/t1.nii.gz']' died with <Signals.SIGABRT: 6>.\u001b[0m\n"
     ]
    }
   ],
   "source": [
    "dataset_proc = preprocess.DataSetProcesser(dataset_inference)\n",
    "dataset_proc.prepare_images([\"flair\", \"t1\"])\n",
    "dataset_proc.dataset.sort(key=lambda s: s.subid)"
   ]
  },
  {
   "cell_type": "markdown",
   "metadata": {},
   "source": [
    "Save the datalist and task files\n"
   ]
  },
  {
   "cell_type": "code",
   "execution_count": 40,
   "metadata": {},
   "outputs": [],
   "source": [
    "images = []\n",
    "for scan in dataset_proc.dataset:\n",
    "    infile: Path = scan.image_path\n",
    "    images.append({\"image\": str(infile.relative_to(dataset_proc.dataset.dataroot))})\n",
    "\n",
    "logger.info(f\"Will run inference on {len(images)} scans\")\n",
    "\n",
    "datalist = {\"testing\": images}\n",
    "\n",
    "datalist_file = work_dir / \"datalist.json\"\n",
    "with open(datalist_file, \"w\") as f:\n",
    "    json.dump(datalist, f)\n",
    "\n",
    "task = {\n",
    "    \"name\": task_name,\n",
    "    \"task\": \"segmentation\",\n",
    "    \"modality\": \"MRI\",\n",
    "    \"datalist\": str(work_dir / \"datalist.json\"),\n",
    "    \"dataroot\": str(dataroot),\n",
    "}\n",
    "\n",
    "task_file = os.path.join(work_dir, taskfile_name)\n",
    "with open(task_file, \"w\") as f:\n",
    "    json.dump(task, f)"
   ]
  },
  {
   "cell_type": "code",
   "execution_count": 8,
   "metadata": {},
   "outputs": [],
   "source": [
    "input_cfg = task_file  # path to the task input YAML file created by the users\n",
    "\n",
    "history = import_bundle_algo_history(work_dir, only_trained=True)"
   ]
  },
  {
   "cell_type": "code",
   "execution_count": null,
   "metadata": {},
   "outputs": [],
   "source": [
    "## model ensemble\n",
    "n_best = 5\n",
    "builder = AlgoEnsembleBuilder(history, input_cfg)\n",
    "builder.set_ensemble_method(AlgoEnsembleBestN(n_best=n_best))\n",
    "ensemble = builder.get_ensemble()\n",
    "save_params = {\n",
    "    \"_target_\": \"SaveImage\",\n",
    "    \"output_dir\": save_dir,\n",
    "    \"data_root_dir\": dataroot,\n",
    "    \"output_postfix\": prediction_postfix,\n",
    "    \"separate_folder\": False,\n",
    "}\n",
    "\n",
    "pred = ensemble(pred_param={\"image_save_func\": save_params})"
   ]
  }
 ],
 "metadata": {
  "kernelspec": {
   "display_name": "monai",
   "language": "python",
   "name": "python3"
  },
  "language_info": {
   "codemirror_mode": {
    "name": "ipython",
    "version": 3
   },
   "file_extension": ".py",
   "mimetype": "text/x-python",
   "name": "python",
   "nbconvert_exporter": "python",
   "pygments_lexer": "ipython3",
   "version": "3.12.4"
  }
 },
 "nbformat": 4,
 "nbformat_minor": 2
}
