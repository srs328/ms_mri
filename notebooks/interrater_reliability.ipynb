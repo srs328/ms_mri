{
 "cells": [
  {
   "cell_type": "code",
   "execution_count": 1,
   "metadata": {},
   "outputs": [],
   "source": [
    "from pathlib import Path\n",
    "from loguru import logger\n",
    "import nibabel as nib\n",
    "from statistics import mean, stdev\n",
    "from tqdm.notebook import tqdm\n",
    "\n",
    "from mri_data import file_manager as fm\n",
    "from mri_data import utils\n",
    "from monai_training import preprocess"
   ]
  },
  {
   "cell_type": "code",
   "execution_count": 2,
   "metadata": {},
   "outputs": [],
   "source": [
    "logger.remove()"
   ]
  },
  {
   "cell_type": "code",
   "execution_count": 6,
   "metadata": {},
   "outputs": [],
   "source": [
    "dataroot = Path(\"/mnt/h/3Tpioneer_bids\")\n",
    "dataset_proc = preprocess.DataSetProcesser.new_dataset(dataroot, fm.scan_3Tpioneer_bids, filters=[fm.filter_first_ses])\n",
    "dataset = dataset_proc.dataset\n",
    "dataset.sort()"
   ]
  },
  {
   "cell_type": "code",
   "execution_count": 7,
   "metadata": {},
   "outputs": [],
   "source": [
    "def calculate_dice(seg1_path, seg2_path):\n",
    "    seg1 = nib.load(seg1_path).get_fdata()\n",
    "    seg2 = nib.load(seg2_path).get_fdata()\n",
    "    return utils.dice_score(seg1, seg2)\n",
    "\n",
    "def calculate_haus(seg1_path, seg2_path):\n",
    "    seg1 = nib.load(seg1_path).get_fdata()\n",
    "    seg2 = nib.load(seg2_path).get_fdata()\n",
    "    return utils.hausdorff_dist(seg1, seg2)"
   ]
  },
  {
   "cell_type": "markdown",
   "metadata": {},
   "source": [
    "### Choroid Plexus"
   ]
  },
  {
   "cell_type": "code",
   "execution_count": null,
   "metadata": {},
   "outputs": [
    {
     "data": {
      "application/vnd.jupyter.widget-view+json": {
       "model_id": "7f7f8f25580c4bf09a5c6bc76d388477",
       "version_major": 2,
       "version_minor": 0
      },
      "text/plain": [
       "  0%|          | 0/575 [00:00<?, ?it/s]"
      ]
     },
     "metadata": {},
     "output_type": "display_data"
    },
    {
     "name": "stdout",
     "output_type": "stream",
     "text": [
      "Mean: 0.7619137304532706\n",
      "Stdev: 0.23390064491684634\n",
      "[0.7242363688267199, 0.7594647146288459, 0.6682969774038932, 0.7497738920711486, 0.018086625416468348, 0.6682195370505168, 0.8307870818023593, 0.910868616324749, 0.8950054684651841, 0.8439456585942114, 0.950872359963269, 0.8916794059838392, 0.8142874095170286, 0.9412681102975541]\n"
     ]
    }
   ],
   "source": [
    "dice_scores = []\n",
    "label_pairs = []\n",
    "for scan in tqdm(dataset):\n",
    "    try:\n",
    "        labels = fm.find_labels(scan, \"choroid_t1_flair\", [\"CH\", \"ED\", \"DT\"], exclude_no_suffix=True)\n",
    "    except FileNotFoundError:\n",
    "        continue\n",
    "    if len(labels) >= 2:\n",
    "        label_pairs.append(labels)\n",
    "        dice_scores.append(calculate_dice(labels[0], labels[1]))\n",
    "\n",
    "print(f\"Mean: {mean(dice_scores)}\")\n",
    "print(f\"Stdev: {stdev(dice_scores)}\")\n",
    "print(f\"N={len(dice_scores)}\")\n",
    "print(dice_scores)"
   ]
  },
  {
   "cell_type": "code",
   "execution_count": 10,
   "metadata": {},
   "outputs": [
    {
     "data": {
      "application/vnd.jupyter.widget-view+json": {
       "model_id": "976a76c573ba45178016d1ffde88ea8f",
       "version_major": 2,
       "version_minor": 0
      },
      "text/plain": [
       "  0%|          | 0/575 [00:00<?, ?it/s]"
      ]
     },
     "metadata": {},
     "output_type": "display_data"
    },
    {
     "name": "stdout",
     "output_type": "stream",
     "text": [
      "Mean: 6.319916919203375\n",
      "Stdev: 17.536382185180127\n",
      "N=14\n",
      "[1.4142135623730951, 1.4142135623730951, 4.0, 1.7320508075688772, 67.1863081289633, 2.0, 1.7320508075688772, 1.0, 1.0, 2.0, 1.0, 1.0, 2.0, 1.0]\n"
     ]
    }
   ],
   "source": [
    "haus_distances = []\n",
    "label_pairs = []\n",
    "for scan in tqdm(dataset):\n",
    "    try:\n",
    "        labels = fm.find_labels(scan, \"choroid_t1_flair\", [\"CH\", \"ED\", \"DT\"], exclude_no_suffix=True)\n",
    "    except FileNotFoundError:\n",
    "        continue\n",
    "    if len(labels) >= 2:\n",
    "        label_pairs.append(labels)\n",
    "        haus_distances.append(calculate_haus(labels[0], labels[1]))\n",
    "\n",
    "print(f\"Mean: {mean(haus_distances)}\")\n",
    "print(f\"Stdev: {stdev(haus_distances)}\")\n",
    "print(f\"N={len(haus_distances)}\")\n",
    "print(haus_distances)"
   ]
  },
  {
   "cell_type": "code",
   "execution_count": 29,
   "metadata": {},
   "outputs": [
    {
     "name": "stdout",
     "output_type": "stream",
     "text": [
      "Mean: 1.6378868261449189\n",
      "Stdev: 0.822863277506862\n",
      "N=13\n"
     ]
    }
   ],
   "source": [
    "choroid_haus_dists = [1.4142135623730951, 1.4142135623730951, 4.0, 1.7320508075688772, 2.0, 1.7320508075688772, 1.0, 1.0, 2.0, 1.0, 1.0, 2.0, 1.0]\n",
    "print(f\"Mean: {mean(choroid_haus_dists)}\")\n",
    "print(f\"Stdev: {stdev(choroid_haus_dists)}\")\n",
    "print(f\"N={len(choroid_haus_dists)}\")"
   ]
  },
  {
   "cell_type": "markdown",
   "metadata": {},
   "source": [
    "### Pineal"
   ]
  },
  {
   "cell_type": "code",
   "execution_count": 24,
   "metadata": {},
   "outputs": [
    {
     "data": {
      "application/vnd.jupyter.widget-view+json": {
       "model_id": "eeaec70ead5b43a287ba15d2ce33056d",
       "version_major": 2,
       "version_minor": 0
      },
      "text/plain": [
       "  0%|          | 0/575 [00:00<?, ?it/s]"
      ]
     },
     "metadata": {},
     "output_type": "display_data"
    },
    {
     "name": "stdout",
     "output_type": "stream",
     "text": [
      "Mean: 0.7449123411790428\n",
      "Stdev: 0.10706531652640432\n",
      "N=11\n",
      "[0.8442028985507246, 0.8037190082644629, 0.6458333333333334, 0.843484965304549, 0.6958831341301461, 0.7281760113555713, 0.7827616534740546, 0.4948453608247423, 0.8674217188540972, 0.7361419068736141, 0.7515657620041754]\n"
     ]
    }
   ],
   "source": [
    "dice_scores = []\n",
    "label_pairs = []\n",
    "for scan in tqdm(dataset):\n",
    "    try:\n",
    "        labels = fm.find_labels(scan, \"pineal\", [\"CH\", \"SRS\"], exclude_no_suffix=True)\n",
    "    except FileNotFoundError:\n",
    "        continue\n",
    "    if len(labels) >= 2:\n",
    "        label_pairs.append(labels)\n",
    "        dice_scores.append(calculate_dice(labels[0], labels[1]))\n",
    "\n",
    "print(f\"Mean: {mean(dice_scores)}\")\n",
    "print(f\"Stdev: {stdev(dice_scores)}\")\n",
    "print(f\"N={len(dice_scores)}\")\n",
    "print(dice_scores)"
   ]
  },
  {
   "cell_type": "code",
   "execution_count": 30,
   "metadata": {},
   "outputs": [
    {
     "data": {
      "application/vnd.jupyter.widget-view+json": {
       "model_id": "a027a3d3323747e68bcdbb2656c2b2ed",
       "version_major": 2,
       "version_minor": 0
      },
      "text/plain": [
       "  0%|          | 0/575 [00:00<?, ?it/s]"
      ]
     },
     "metadata": {},
     "output_type": "display_data"
    },
    {
     "name": "stdout",
     "output_type": "stream",
     "text": [
      "Mean: 1.7673352914031306\n",
      "Stdev: 0.7230787704782612\n",
      "N=11\n",
      "[1.0, 1.0, 1.4142135623730951, 2.0, 2.23606797749979, 2.0, 1.4142135623730951, 3.5477659784422664, 1.4142135623730951, 2.0, 1.4142135623730951]\n"
     ]
    }
   ],
   "source": [
    "haus_distances = []\n",
    "label_pairs = []\n",
    "for scan in tqdm(dataset):\n",
    "    try:\n",
    "        labels = fm.find_labels(scan, \"pineal\", [\"CH\", \"SRS\"], exclude_no_suffix=True)\n",
    "    except FileNotFoundError:\n",
    "        continue\n",
    "    if len(labels) >= 2:\n",
    "        label_pairs.append(labels)\n",
    "        haus_distances.append(calculate_haus(labels[0], labels[1]))\n",
    "\n",
    "print(f\"Mean: {mean(haus_distances)}\")\n",
    "print(f\"Stdev: {stdev(haus_distances)}\")\n",
    "print(f\"N={len(haus_distances)}\")\n",
    "print(haus_distances)"
   ]
  },
  {
   "cell_type": "markdown",
   "metadata": {},
   "source": [
    "### Pituitary"
   ]
  },
  {
   "cell_type": "code",
   "execution_count": 25,
   "metadata": {},
   "outputs": [
    {
     "data": {
      "application/vnd.jupyter.widget-view+json": {
       "model_id": "a21357a278754c45b865a09e9b39ff18",
       "version_major": 2,
       "version_minor": 0
      },
      "text/plain": [
       "  0%|          | 0/575 [00:00<?, ?it/s]"
      ]
     },
     "metadata": {},
     "output_type": "display_data"
    },
    {
     "name": "stdout",
     "output_type": "stream",
     "text": [
      "Mean: 0.7930176313300059\n",
      "Stdev: 0.03688735050934797\n",
      "N=5\n",
      "[0.8459645669291339, 0.7947096032202415, 0.7481234361968306, 0.8050789293067948, 0.7712116209970287]\n"
     ]
    }
   ],
   "source": [
    "dice_scores = []\n",
    "label_pairs = []\n",
    "for scan in tqdm(dataset):\n",
    "    try:\n",
    "        labels = fm.find_labels(scan, \"pituitary\", [\"CH\", \"ED\", \"DT\"], exclude_no_suffix=True)\n",
    "    except FileNotFoundError:\n",
    "        continue\n",
    "    if len(labels) >= 2:\n",
    "        label_pairs.append(labels)\n",
    "        dice_scores.append(calculate_dice(labels[0], labels[1]))\n",
    "\n",
    "print(f\"Mean: {mean(dice_scores)}\")\n",
    "print(f\"Stdev: {stdev(dice_scores)}\")\n",
    "print(f\"N={len(dice_scores)}\")\n",
    "print(dice_scores)"
   ]
  },
  {
   "cell_type": "code",
   "execution_count": 8,
   "metadata": {},
   "outputs": [
    {
     "data": {
      "application/vnd.jupyter.widget-view+json": {
       "model_id": "20a0f108a0ce4d29895b61c129e1530b",
       "version_major": 2,
       "version_minor": 0
      },
      "text/plain": [
       "  0%|          | 0/575 [00:00<?, ?it/s]"
      ]
     },
     "metadata": {},
     "output_type": "display_data"
    },
    {
     "name": "stdout",
     "output_type": "stream",
     "text": [
      "Mean: 1.6421518944375906\n",
      "Stdev: 0.3594042911454885\n",
      "N=5\n",
      "[1.4142135623730951, 1.4142135623730951, 2.23606797749979, 1.4142135623730951, 1.7320508075688772]\n"
     ]
    }
   ],
   "source": [
    "haus_distances = []\n",
    "label_pairs = []\n",
    "for scan in tqdm(dataset):\n",
    "    try:\n",
    "        labels = fm.find_labels(scan, \"pituitary\", [\"CH\", \"ED\", \"DT\"], exclude_no_suffix=True)\n",
    "    except FileNotFoundError:\n",
    "        continue\n",
    "    if len(labels) >= 2:\n",
    "        label_pairs.append(labels)\n",
    "        haus_distances.append(calculate_haus(labels[0], labels[1]))\n",
    "\n",
    "print(f\"Mean: {mean(haus_distances)}\")\n",
    "print(f\"Stdev: {stdev(haus_distances)}\")\n",
    "print(f\"N={len(haus_distances)}\")\n",
    "print(haus_distances)"
   ]
  }
 ],
 "metadata": {
  "kernelspec": {
   "display_name": "monai",
   "language": "python",
   "name": "python3"
  },
  "language_info": {
   "codemirror_mode": {
    "name": "ipython",
    "version": 3
   },
   "file_extension": ".py",
   "mimetype": "text/x-python",
   "name": "python",
   "nbconvert_exporter": "python",
   "pygments_lexer": "ipython3",
   "version": "3.12.4"
  }
 },
 "nbformat": 4,
 "nbformat_minor": 2
}
