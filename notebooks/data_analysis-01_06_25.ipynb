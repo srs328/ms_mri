{
 "cells": [
  {
   "cell_type": "code",
   "execution_count": 204,
   "metadata": {},
   "outputs": [],
   "source": [
    "import pandas as pd\n",
    "from reload_recursive import reload_recursive\n",
    "import os\n",
    "from loguru import logger\n",
    "from pathlib import Path\n",
    "import json\n",
    "import numpy as np\n",
    "from tqdm.notebook import tqdm\n",
    "import re\n",
    "import sys\n",
    "\n",
    "import mri_data\n",
    "import monai_training"
   ]
  },
  {
   "cell_type": "code",
   "execution_count": 205,
   "metadata": {},
   "outputs": [],
   "source": [
    "reload_recursive(mri_data)\n",
    "reload_recursive(monai_training)\n",
    "\n",
    "from mri_data.file_manager import DataSet, scan_3Tpioneer_bids\n",
    "from mri_data import file_manager as fm\n",
    "from mri_data import utils\n",
    "from monai_training.preprocess import DataSetProcesser"
   ]
  },
  {
   "cell_type": "code",
   "execution_count": 206,
   "metadata": {},
   "outputs": [],
   "source": [
    "logger.remove()"
   ]
  },
  {
   "cell_type": "code",
   "execution_count": 207,
   "metadata": {},
   "outputs": [],
   "source": [
    "to_load = True\n",
    "drive_root = fm.get_drive_root()\n",
    "msmri_home = Path(\"/home/srs-9/Projects/ms_mri\")\n",
    "inference_root = drive_root / \"3Tpioneer_bids_predictions\"\n",
    "dataroot = drive_root / \"3Tpioneer_bids\"\n",
    "clinical_data_root = drive_root / \"Secure_Data\" / \"Large\"\n",
    "project_dataroot = msmri_home / \"data\""
   ]
  },
  {
   "cell_type": "markdown",
   "metadata": {},
   "source": [
    "### Data Cleaning\n",
    "\n",
    "- Add column which is subid as int\n",
    "- Set the index to the new column\n",
    "- Remove any rows where subid is NaN\n",
    "- Rename columns\n",
    "- Check \"Working with missing data\" on pandas documentation"
   ]
  },
  {
   "cell_type": "markdown",
   "metadata": {},
   "source": [
    "### Additional Data\n",
    "\n",
    "- ROI size"
   ]
  },
  {
   "cell_type": "code",
   "execution_count": 208,
   "metadata": {},
   "outputs": [],
   "source": [
    "df = pd.read_csv(project_dataroot / \"clinical_data_full.csv\")\n",
    "df = df.set_index(\"subid\")\n",
    "df.index.name = \"subject_id\"\n",
    "\n",
    "df_full = df\n",
    "not_nas = (~df_full['pineal_volume'].isna() & ~df_full['choroid_volume'].isna() & ~df_full['pituitary_volume'].isna())\n",
    "df = df_full.loc[not_nas, :]"
   ]
  },
  {
   "cell_type": "code",
   "execution_count": 209,
   "metadata": {},
   "outputs": [],
   "source": [
    "if not to_load:\n",
    "    dataset_proc = DataSetProcesser.new_dataset(dataroot, scan_3Tpioneer_bids, filters=[fm.filter_first_ses])\n",
    "    full_dataset = dataset_proc.dataset\n",
    "    dataset_proc.prepare_labels([\"choroid_t1_flair\", \"pineal\", \"pituitary\"], [\"CH\", \"SRS\", \"ED\", \"DT\"])\n",
    "    dataset = dataset_proc.dataset\n",
    "\n",
    "    inference_dataset_proc = DataSetProcesser.new_dataset(inference_root, scan_3Tpioneer_bids, filters=[fm.filter_first_ses])\n",
    "    inference_dataset_proc.prepare_labels(\"flair.t1_choroid_pineal_pituitary3_pred\")\n",
    "    inference_dataset = inference_dataset_proc.dataset"
   ]
  },
  {
   "cell_type": "markdown",
   "metadata": {},
   "source": [
    "### Prepare Data\n",
    "\n",
    "- Set categorical variables\n",
    "  - ms_type\n",
    "  - race\n",
    "  - ethnicity\n",
    "  - sex\n",
    "- Set edss as ordinal variable\n",
    "\n",
    "Do I need to factorize the categorical variables if I just set their dtype as \"category\"?"
   ]
  },
  {
   "cell_type": "code",
   "execution_count": 210,
   "metadata": {},
   "outputs": [],
   "source": [
    "# edss is ordinal variable\n",
    "# edss_type = pd.CategoricalDtype(categories=np.linspace(0, 10, 21), ordered=True)\n",
    "# df['numEDSS'] = df['numEDSS'].astype(edss_type)\n",
    "df.loc[df['dzdur'] == \"#VALUE!\", \"dzdur\"] = None"
   ]
  },
  {
   "cell_type": "code",
   "execution_count": 211,
   "metadata": {},
   "outputs": [],
   "source": [
    "try:\n",
    "    df.insert(8, 'norm_pituitary_volume', df['pituitary_volume']/df['tiv'])\n",
    "except ValueError:\n",
    "    pass\n",
    "try:\n",
    "    df.insert(8, 'norm_pineal_volume', df['pineal_volume']/df['tiv'])\n",
    "except ValueError:\n",
    "    pass\n",
    "try:\n",
    "    df.insert(8, 'norm_choroid_volume', df['choroid_volume']/df['tiv'])\n",
    "except ValueError:\n",
    "    pass"
   ]
  },
  {
   "cell_type": "markdown",
   "metadata": {},
   "source": [
    "`dz_type` has relapsing MS (RMS) versus progressive MS (PMS) verusus not MS (!MS)"
   ]
  },
  {
   "cell_type": "code",
   "execution_count": 212,
   "metadata": {},
   "outputs": [
    {
     "data": {
      "text/plain": [
       "array(['RMS', 'PMS', '!MS', 'UNK', 'RIS'], dtype=object)"
      ]
     },
     "execution_count": 212,
     "metadata": {},
     "output_type": "execute_result"
    }
   ],
   "source": [
    "try:\n",
    "    df.insert(18, 'dz_type', df['ms_type'])\n",
    "except Exception:\n",
    "    pass\n",
    "\n",
    "df.loc[:, 'dz_type'] = df['ms_type']\n",
    "\n",
    "df.loc[df['ms_type'].isin(['CIS', 'RRMS']), 'dz_type'] = 'RMS'\n",
    "df.loc[df['ms_type'].isin(['PPMS', 'SPMS', 'RPMS', 'PRMS']), 'dz_type'] = 'PMS'\n",
    "df.loc[df['ms_type'].isin(['NIND', 'OIND', 'HC']), 'dz_type'] = '!MS'\n",
    "df['dz_type'].unique()"
   ]
  },
  {
   "cell_type": "markdown",
   "metadata": {},
   "source": [
    "`dz_type2` has MS versus !MS and UNK"
   ]
  },
  {
   "cell_type": "code",
   "execution_count": 213,
   "metadata": {},
   "outputs": [
    {
     "data": {
      "text/plain": [
       "array(['MS', '!MS', 'UNK', 'RIS'], dtype=object)"
      ]
     },
     "execution_count": 213,
     "metadata": {},
     "output_type": "execute_result"
    }
   ],
   "source": [
    "try:\n",
    "    df.insert(18, 'dz_type2', df['dz_type'])\n",
    "except Exception:\n",
    "    pass\n",
    "\n",
    "df.loc[:, 'dz_type2'] = df['dz_type']\n",
    "\n",
    "df.loc[df['dz_type'].isin(['RMS', 'PMS']), 'dz_type2'] = 'MS'\n",
    "df['dz_type2'].unique()"
   ]
  },
  {
   "cell_type": "code",
   "execution_count": 214,
   "metadata": {},
   "outputs": [
    {
     "data": {
      "text/plain": [
       "array(['MS', 'NIND', 'UNK', 'HC', 'OIND', 'RIS'], dtype=object)"
      ]
     },
     "execution_count": 214,
     "metadata": {},
     "output_type": "execute_result"
    }
   ],
   "source": [
    "try:\n",
    "    df.insert(18, 'dz_type3', df['ms_type'])\n",
    "except Exception:\n",
    "    pass\n",
    "\n",
    "df.loc[:, 'dz_type3'] = df['ms_type']\n",
    "\n",
    "df.loc[df['ms_type'].isin(['PPMS', 'SPMS', 'RPMS', 'PRMS', 'RRMS', 'CIS']), 'dz_type3'] = 'MS'\n",
    "df['dz_type3'].unique()"
   ]
  },
  {
   "cell_type": "markdown",
   "metadata": {},
   "source": [
    "## Statistical Analysis"
   ]
  },
  {
   "cell_type": "markdown",
   "metadata": {},
   "source": [
    "### Descriptive Stats\n"
   ]
  },
  {
   "cell_type": "code",
   "execution_count": 219,
   "metadata": {},
   "outputs": [
    {
     "name": "stdout",
     "output_type": "stream",
     "text": [
      "461 patients in total\n",
      "0.0 patients with RRMS\n",
      "0.17136659436008678 patients with PMS\n",
      "0.14967462039045554 patients w/o MS\n"
     ]
    }
   ],
   "source": [
    "print(len(df), \"patients in total\")\n",
    "print(sum(df['dz_type'] == \"RRMS\") / len(df), \"patients with RRMS\")\n",
    "print(sum(df['dz_type'] == \"PMS\") / len(df), \"patients with PMS\")\n",
    "print(sum(df['dz_type'] == \"!MS\") / len(df), \"patients w/o MS\")"
   ]
  },
  {
   "cell_type": "code",
   "execution_count": 216,
   "metadata": {},
   "outputs": [
    {
     "name": "stdout",
     "output_type": "stream",
     "text": [
      "Proportion of female subjects: 0.78\n",
      "Average age at scan: 47.58\n"
     ]
    }
   ],
   "source": [
    "print(\"Proportion of female subjects: {:0.2f}\".format(sum(df['sex'] == \"Female\") / len(df)) )\n",
    "print(\"Average age at scan: {:0.2f}\".format(df['age'].mean()))"
   ]
  },
  {
   "cell_type": "code",
   "execution_count": 217,
   "metadata": {},
   "outputs": [
    {
     "name": "stdout",
     "output_type": "stream",
     "text": [
      "Fraction of female RRMS patients: 0.82\n",
      "Average age of RRMS patient: 44.54\n",
      "\n",
      "\n",
      "Fraction of female PMS patients: 0.58\n",
      "Average age of PMS patient: 58.25\n",
      "\n",
      "\n",
      "Fraction of female non-MS patients: 0.81\n",
      "Average age of non-MS patient: 49.05\n"
     ]
    }
   ],
   "source": [
    "df_rrms = df.loc[df[\"dz_type\"] == \"RMS\"]\n",
    "print(\"Fraction of female RRMS patients: {:0.2f}\".format(sum(df_rrms['sex'] == \"Female\") / len(df_rrms)))\n",
    "print(\"Average age of RRMS patient: {:0.2f}\".format(df_rrms['age'].mean()))\n",
    "print(\"\\n\")\n",
    "\n",
    "df_pms = df.loc[df[\"dz_type\"] == \"PMS\"]\n",
    "print(\"Fraction of female PMS patients: {:0.2f}\".format(sum(df_pms['sex'] == \"Female\") / len(df_pms)))\n",
    "print(\"Average age of PMS patient: {:0.2f}\".format(df_pms['age'].mean()))\n",
    "print(\"\\n\")\n",
    "\n",
    "df_notms = df.loc[df[\"dz_type\"] == \"!MS\"]\n",
    "print(\"Fraction of female non-MS patients: {:0.2f}\".format(sum(df_notms['sex'] == \"Female\") / len(df_notms)))\n",
    "print(\"Average age of non-MS patient: {:0.2f}\".format(df_notms['age'].mean()))"
   ]
  },
  {
   "cell_type": "markdown",
   "metadata": {},
   "source": [
    "#### Volumes"
   ]
  },
  {
   "cell_type": "code",
   "execution_count": 218,
   "metadata": {},
   "outputs": [
    {
     "name": "stdout",
     "output_type": "stream",
     "text": [
      "Mean choroid volumes:\n",
      "RRMS:   1636.13\n",
      "PMS:    1686.45\n",
      "not-MS: 1759.73\n",
      "\n",
      "\n",
      "Mean pineal volumes:\n",
      "RRMS:   181.47\n",
      "PMS:    150.11\n",
      "not-MS: 235.76\n",
      "\n",
      "\n",
      "Mean pituitary volumes:\n",
      "RRMS:   631.39\n",
      "PMS:    640.51\n",
      "not-MS: 659.92\n"
     ]
    }
   ],
   "source": [
    "# choroid\n",
    "print(\"Mean choroid volumes:\")\n",
    "print(\"RRMS:   {:0.2f}\".format(df_rrms['choroid_volume'].mean()))\n",
    "print(\"PMS:    {:0.2f}\".format(df_pms['choroid_volume'].mean()))\n",
    "print(\"not-MS: {:0.2f}\".format(df_notms['choroid_volume'].mean()))\n",
    "print(\"\\n\")\n",
    "\n",
    "# pineal\n",
    "print(\"Mean pineal volumes:\")\n",
    "print(\"RRMS:   {:0.2f}\".format(df_rrms['pineal_volume'].mean()))\n",
    "print(\"PMS:    {:0.2f}\".format(df_pms['pineal_volume'].mean()))\n",
    "print(\"not-MS: {:0.2f}\".format(df_notms['pineal_volume'].mean()))\n",
    "print(\"\\n\")\n",
    "\n",
    "# pituitary\n",
    "print(\"Mean pituitary volumes:\")\n",
    "print(\"RRMS:   {:0.2f}\".format(df_rrms['pituitary_volume'].mean()))\n",
    "print(\"PMS:    {:0.2f}\".format(df_pms['pituitary_volume'].mean()))\n",
    "print(\"not-MS: {:0.2f}\".format(df_notms['pituitary_volume'].mean()))"
   ]
  },
  {
   "cell_type": "code",
   "execution_count": 32,
   "metadata": {},
   "outputs": [
    {
     "name": "stdout",
     "output_type": "stream",
     "text": [
      "Choroid:\n",
      "MS mean:             1633.39\n",
      "MS mean w contrast:  1828.16\n",
      "MS mean wo contrast: 1357.77\n",
      "!MS mean:            1730.37\n",
      "\n",
      "Pineal\n",
      "MS mean:             181.24\n",
      "MS mean w contrast:  187.97\n",
      "MS mean wo contrast: 171.18\n",
      "!MS mean:            230.04\n",
      "\n",
      "Pituitary\n",
      "MS mean:             638.31\n",
      "MS mean w contrast:  584.14\n",
      "MS mean wo contrast: 713.74\n",
      "!MS mean:            665.78\n"
     ]
    }
   ],
   "source": [
    "print(\"Choroid:\")\n",
    "choroid_ms_mean = df[df['dz_type'] == \"RMS\"].choroid_volume.mean()\n",
    "choroid_ms_mean_w = df[(df['dz_type'] == \"RMS\") & (df['flair_contrast'] == \"WITH\")].choroid_volume.mean()\n",
    "choroid_ms_mean_wo = df[(df['dz_type'] == \"RMS\") & (df['flair_contrast'] == \"WITHOUT\")].choroid_volume.mean()\n",
    "choroid_notms_mean = df[df['dz_type'] == \"!MS\"].choroid_volume.mean()\n",
    "print(\"MS mean:             {:0.2f}\".format(choroid_ms_mean))\n",
    "print(\"MS mean w contrast:  {:0.2f}\".format(choroid_ms_mean_w))\n",
    "print(\"MS mean wo contrast: {:0.2f}\".format(choroid_ms_mean_wo))\n",
    "print(\"!MS mean:            {:0.2f}\".format(choroid_notms_mean))\n",
    "\n",
    "print(\"\\nPineal\")\n",
    "pineal_ms_mean = df[df['dz_type'] == \"RMS\"].pineal_volume.mean()\n",
    "pineal_ms_mean_w = df[(df['dz_type'] == \"RMS\") & (df['flair_contrast'] == \"WITH\")].pineal_volume.mean()\n",
    "pineal_ms_mean_wo = df[(df['dz_type'] == \"RMS\") & (df['flair_contrast'] == \"WITHOUT\")].pineal_volume.mean()\n",
    "pineal_notms_mean = df[df['dz_type'] == \"!MS\"].pineal_volume.mean()\n",
    "print(\"MS mean:             {:0.2f}\".format(pineal_ms_mean))\n",
    "print(\"MS mean w contrast:  {:0.2f}\".format(pineal_ms_mean_w))\n",
    "print(\"MS mean wo contrast: {:0.2f}\".format(pineal_ms_mean_wo))\n",
    "print(\"!MS mean:            {:0.2f}\".format(pineal_notms_mean))\n",
    "\n",
    "print(\"\\nPituitary\")\n",
    "pituitary_ms_mean = df[df['dz_type'] == \"RMS\"].pituitary_volume.mean()\n",
    "pituitary_ms_mean_w = df[(df['dz_type'] == \"RMS\") & (df['flair_contrast'] == \"WITH\")].pituitary_volume.mean()\n",
    "pituitary_ms_mean_wo = df[(df['dz_type'] == \"RMS\") & (df['flair_contrast'] == \"WITHOUT\")].pituitary_volume.mean()\n",
    "pituitary_notms_mean = df[df['dz_type'] == \"!MS\"].pituitary_volume.mean()\n",
    "print(\"MS mean:             {:0.2f}\".format(pituitary_ms_mean))\n",
    "print(\"MS mean w contrast:  {:0.2f}\".format(pituitary_ms_mean_w))\n",
    "print(\"MS mean wo contrast: {:0.2f}\".format(pituitary_ms_mean_wo))\n",
    "print(\"!MS mean:            {:0.2f}\".format(pituitary_notms_mean))"
   ]
  },
  {
   "cell_type": "markdown",
   "metadata": {},
   "source": [
    "## Regression Models\n",
    "\n",
    "Looking at how volume of ROI predicts ms_type"
   ]
  },
  {
   "cell_type": "markdown",
   "metadata": {},
   "source": [
    "### Linear Regressions\n",
    "\n",
    "`dz_type2` MS versus !MS"
   ]
  },
  {
   "cell_type": "code",
   "execution_count": 33,
   "metadata": {},
   "outputs": [
    {
     "name": "stdout",
     "output_type": "stream",
     "text": [
      "MS: 1\n",
      "['age', 'sex_factor', 'tiv', 'flair_contrast_factor', 'dz_type2_factor'] \n",
      "\n",
      "                                 OLS Regression Results                                \n",
      "=======================================================================================\n",
      "Dep. Variable:                      y   R-squared (uncentered):                   0.743\n",
      "Model:                            OLS   Adj. R-squared (uncentered):              0.740\n",
      "Method:                 Least Squares   F-statistic:                              228.4\n",
      "Date:                Sun, 19 Jan 2025   Prob (F-statistic):                   5.40e-114\n",
      "Time:                        21:29:31   Log-Likelihood:                         -2433.9\n",
      "No. Observations:                 399   AIC:                                      4878.\n",
      "Df Residuals:                     394   BIC:                                      4898.\n",
      "Df Model:                           5                                                  \n",
      "Covariance Type:            nonrobust                                                  \n",
      "==============================================================================\n",
      "                 coef    std err          t      P>|t|      [0.025      0.975]\n",
      "------------------------------------------------------------------------------\n",
      "x1            -0.4477      0.402     -1.115      0.266      -1.237       0.342\n",
      "x2           -34.8567     13.502     -2.582      0.010     -61.401      -8.312\n",
      "x3             0.0002   1.59e-05     10.853      0.000       0.000       0.000\n",
      "x4           -25.1813     10.954     -2.299      0.022     -46.717      -3.645\n",
      "x5           -43.1685     15.492     -2.787      0.006     -73.625     -12.712\n",
      "==============================================================================\n",
      "Omnibus:                      263.154   Durbin-Watson:                   1.890\n",
      "Prob(Omnibus):                  0.000   Jarque-Bera (JB):             5238.540\n",
      "Skew:                           2.446   Prob(JB):                         0.00\n",
      "Kurtosis:                      20.064   Cond. No.                     4.34e+06\n",
      "==============================================================================\n",
      "\n",
      "Notes:\n",
      "[1] R² is computed without centering (uncentered) since the model does not contain a constant.\n",
      "[2] Standard Errors assume that the covariance matrix of the errors is correctly specified.\n",
      "[3] The condition number is large, 4.34e+06. This might indicate that there are\n",
      "strong multicollinearity or other numerical problems.\n"
     ]
    }
   ],
   "source": [
    "import statsmodels.api as sm\n",
    "import numpy as np\n",
    "\n",
    "outcome = \"pineal_volume\"\n",
    "\n",
    "df_test = df[df['dz_type2'].isin(['MS', '!MS'])]\n",
    "\n",
    "df_test.loc[:, ['sex_factor']], _ = df_test['sex'].factorize()\n",
    "df_test.loc[:, ['flair_contrast_factor']], _ = df_test['flair_contrast'].factorize()\n",
    "df_test.loc[:, ['dz_type2_factor']], _ = df_test['dz_type2'].factorize(sort=True)\n",
    "\n",
    "predictors = [\"age\", \"sex_factor\", \"tiv\", \"flair_contrast_factor\", \"dz_type2_factor\"]\n",
    "\n",
    "x2 = np.asarray(df_test[predictors]).astype(np.float64)\n",
    "Y = np.asarray(df_test[outcome]).astype(np.float64)\n",
    "\n",
    "mod = sm.OLS(Y, x2, missing='drop')\n",
    "\n",
    "res = mod.fit()\n",
    "\n",
    "print(f\"{df_test.loc[1001, 'dz_type2']}: {df_test.loc[1001, 'dz_type2_factor']}\")\n",
    "print(predictors, \"\\n\")\n",
    "\n",
    "print(res.summary())"
   ]
  },
  {
   "cell_type": "markdown",
   "metadata": {},
   "source": [
    "`dz_type2` with dummies"
   ]
  },
  {
   "cell_type": "code",
   "execution_count": 34,
   "metadata": {},
   "outputs": [
    {
     "name": "stdout",
     "output_type": "stream",
     "text": [
      "['age', 'Male', 'tiv', 'WITH', 'MS'] \n",
      "\n",
      "                            OLS Regression Results                            \n",
      "==============================================================================\n",
      "Dep. Variable:                 volume   R-squared:                       0.062\n",
      "Model:                            OLS   Adj. R-squared:                  0.050\n",
      "Method:                 Least Squares   F-statistic:                     5.146\n",
      "Date:                Sun, 19 Jan 2025   Prob (F-statistic):           0.000138\n",
      "Time:                        21:29:31   Log-Likelihood:                -2425.2\n",
      "No. Observations:                 398   AIC:                             4862.\n",
      "Df Residuals:                     392   BIC:                             4886.\n",
      "Df Model:                           5                                         \n",
      "Covariance Type:            nonrobust                                         \n",
      "==============================================================================\n",
      "                 coef    std err          t      P>|t|      [0.025      0.975]\n",
      "------------------------------------------------------------------------------\n",
      "x1            -0.8095      0.431     -1.880      0.061      -1.656       0.037\n",
      "x2           -14.4716     15.887     -0.911      0.363     -45.705      16.762\n",
      "x3          6.028e-05   4.96e-05      1.215      0.225   -3.73e-05       0.000\n",
      "x4            28.1944     11.073      2.546      0.011       6.425      49.964\n",
      "x5           -52.5724     15.899     -3.307      0.001     -83.831     -21.314\n",
      "const        162.3485     80.379      2.020      0.044       4.320     320.377\n",
      "==============================================================================\n",
      "Omnibus:                      255.906   Durbin-Watson:                   1.872\n",
      "Prob(Omnibus):                  0.000   Jarque-Bera (JB):             4569.696\n",
      "Skew:                           2.398   Prob(JB):                         0.00\n",
      "Kurtosis:                      18.892   Cond. No.                     2.25e+07\n",
      "==============================================================================\n",
      "\n",
      "Notes:\n",
      "[1] Standard Errors assume that the covariance matrix of the errors is correctly specified.\n",
      "[2] The condition number is large, 2.25e+07. This might indicate that there are\n",
      "strong multicollinearity or other numerical problems.\n"
     ]
    }
   ],
   "source": [
    "volume = 'pineal_volume'\n",
    "\n",
    "data = df[['dz_type2', 'age', 'sex', 'tiv', 'flair_contrast', volume]]\n",
    "data = data.rename(columns={volume: 'volume'})\n",
    "data = data[data['dz_type2'].isin(['MS', '!MS'])]\n",
    "data.loc[:, ['dz_type2_factor']], _ = data['dz_type2'].factorize(sort=False)\n",
    "\n",
    "data = data[data['flair_contrast'].isin(['WITH', 'WITHOUT'])]\n",
    "\n",
    "data = pd.concat((\n",
    "    data,\n",
    "    pd.get_dummies(data['dz_type2']),\n",
    "    pd.get_dummies(data['flair_contrast']),\n",
    "    pd.get_dummies(data['sex'])), axis=1)\n",
    "\n",
    "predictors = ['age', 'Male', 'tiv', 'WITH', 'MS']\n",
    "# predictors = ['MS', 'age']\n",
    "\n",
    "y = data['volume']\n",
    "x = data[predictors]\n",
    "x = np.asarray(x, dtype='float64')\n",
    "x = np.concatenate((x, np.ones((x.shape[0], 1))), axis=1)\n",
    "\n",
    "\n",
    "res = sm.OLS(y, x).fit(missing='drop')\n",
    "\n",
    "print(predictors, \"\\n\")\n",
    "print(res.summary())\n"
   ]
  },
  {
   "cell_type": "markdown",
   "metadata": {},
   "source": [
    "Look at dz_type3 (MS v NIND v OIND)"
   ]
  },
  {
   "cell_type": "code",
   "execution_count": 35,
   "metadata": {},
   "outputs": [
    {
     "name": "stdout",
     "output_type": "stream",
     "text": [
      "['age', 'Female', 'tiv', 'WITH', 'MS', 'NIND'] \n",
      "\n",
      "                                 OLS Regression Results                                \n",
      "=======================================================================================\n",
      "Dep. Variable:                 volume   R-squared (uncentered):                   0.909\n",
      "Model:                            OLS   Adj. R-squared (uncentered):              0.907\n",
      "Method:                 Least Squares   F-statistic:                              647.4\n",
      "Date:                Sun, 19 Jan 2025   Prob (F-statistic):                   1.33e-199\n",
      "Time:                        21:29:31   Log-Likelihood:                         -2675.2\n",
      "No. Observations:                 397   AIC:                                      5362.\n",
      "Df Residuals:                     391   BIC:                                      5386.\n",
      "Df Model:                           6                                                  \n",
      "Covariance Type:            nonrobust                                                  \n",
      "==============================================================================\n",
      "                 coef    std err          t      P>|t|      [0.025      0.975]\n",
      "------------------------------------------------------------------------------\n",
      "x1             0.4434      0.769      0.576      0.565      -1.069       1.956\n",
      "x2            94.5387     23.593      4.007      0.000      48.154     140.924\n",
      "x3             0.0004   3.54e-05     10.907      0.000       0.000       0.000\n",
      "x4          -116.1405     21.101     -5.504      0.000    -157.626     -74.655\n",
      "x5            34.3779     42.447      0.810      0.418     -49.075     117.831\n",
      "x6            75.8506     56.212      1.349      0.178     -34.665     186.367\n",
      "==============================================================================\n",
      "Omnibus:                       12.375   Durbin-Watson:                   2.061\n",
      "Prob(Omnibus):                  0.002   Jarque-Bera (JB):               14.324\n",
      "Skew:                          -0.332   Prob(JB):                     0.000776\n",
      "Kurtosis:                       3.651   Cond. No.                     9.61e+06\n",
      "==============================================================================\n",
      "\n",
      "Notes:\n",
      "[1] R² is computed without centering (uncentered) since the model does not contain a constant.\n",
      "[2] Standard Errors assume that the covariance matrix of the errors is correctly specified.\n",
      "[3] The condition number is large, 9.61e+06. This might indicate that there are\n",
      "strong multicollinearity or other numerical problems.\n"
     ]
    }
   ],
   "source": [
    "volume = 'pituitary_volume'\n",
    "\n",
    "data = df[['dz_type3', 'age', 'sex', 'tiv', 'flair_contrast', volume]]\n",
    "data = data.rename(columns={volume: 'volume'})\n",
    "data = data[data['dz_type3'].isin(['MS', 'OIND', 'NIND'])]\n",
    "data.loc[:, ['dz_type3_factor']], _ = data['dz_type3'].factorize(sort=False)\n",
    "\n",
    "data = data[data['flair_contrast'].isin(['WITH', 'WITHOUT'])]\n",
    "\n",
    "data = pd.concat((\n",
    "    data,\n",
    "    pd.get_dummies(data['dz_type3']),\n",
    "    pd.get_dummies(data['flair_contrast']),\n",
    "    pd.get_dummies(data['sex'])), axis=1)\n",
    "\n",
    "predictors = ['age', 'Female', 'tiv', 'WITH', 'MS', 'NIND']\n",
    "# predictors = ['Male']\n",
    "\n",
    "y = data['volume']\n",
    "x = data[predictors]\n",
    "x = np.asarray(x, dtype='float64')\n",
    "# x = np.concatenate((x, np.ones((x.shape[0], 1))), axis=1)\n",
    "\n",
    "res = sm.OLS(y, x).fit(missing='drop')\n",
    "\n",
    "print(predictors, \"\\n\")\n",
    "print(res.summary())"
   ]
  },
  {
   "cell_type": "code",
   "execution_count": 38,
   "metadata": {},
   "outputs": [
    {
     "name": "stdout",
     "output_type": "stream",
     "text": [
      "['age', 'Female', 'WITH', 'MS', 'OIND', 'volume'] \n",
      "\n",
      "                            OLS Regression Results                            \n",
      "==============================================================================\n",
      "Dep. Variable:                numEDSS   R-squared:                       0.094\n",
      "Model:                            OLS   Adj. R-squared:                  0.080\n",
      "Method:                 Least Squares   F-statistic:                     6.735\n",
      "Date:                Sun, 19 Jan 2025   Prob (F-statistic):           8.40e-07\n",
      "Time:                        21:30:02   Log-Likelihood:                -1345.6\n",
      "No. Observations:                 397   AIC:                             2705.\n",
      "Df Residuals:                     390   BIC:                             2733.\n",
      "Df Model:                           6                                         \n",
      "Covariance Type:            nonrobust                                         \n",
      "==============================================================================\n",
      "                 coef    std err          t      P>|t|      [0.025      0.975]\n",
      "------------------------------------------------------------------------------\n",
      "x1             0.0696      0.029      2.414      0.016       0.013       0.126\n",
      "x2             0.8979      0.884      1.016      0.310      -0.840       2.636\n",
      "x3             1.0498      0.773      1.357      0.175      -0.471       2.571\n",
      "x4             5.3480      1.387      3.855      0.000       2.620       8.076\n",
      "x5            -0.9343      2.011     -0.465      0.642      -4.888       3.020\n",
      "x6            -0.0030      0.002     -1.629      0.104      -0.007       0.001\n",
      "const          1.8674      2.639      0.708      0.480      -3.321       7.056\n",
      "==============================================================================\n",
      "Omnibus:                      113.185   Durbin-Watson:                   1.486\n",
      "Prob(Omnibus):                  0.000   Jarque-Bera (JB):              256.557\n",
      "Skew:                           1.453   Prob(JB):                     1.95e-56\n",
      "Kurtosis:                       5.658   Cond. No.                     5.61e+03\n",
      "==============================================================================\n",
      "\n",
      "Notes:\n",
      "[1] Standard Errors assume that the covariance matrix of the errors is correctly specified.\n",
      "[2] The condition number is large, 5.61e+03. This might indicate that there are\n",
      "strong multicollinearity or other numerical problems.\n"
     ]
    }
   ],
   "source": [
    "volume = 'pituitary_volume'\n",
    "\n",
    "data = df[['dz_type3', 'age', 'sex', 'tiv', 'flair_contrast', volume, 'numEDSS']]\n",
    "data = data.rename(columns={volume: 'volume'})\n",
    "data = data[data['dz_type3'].isin(['MS', 'OIND', 'NIND'])]\n",
    "data.loc[:, ['dz_type3_factor']], _ = data['dz_type3'].factorize(sort=False)\n",
    "\n",
    "data = data[data['flair_contrast'].isin(['WITH', 'WITHOUT'])]\n",
    "\n",
    "data = pd.concat((\n",
    "    data,\n",
    "    pd.get_dummies(data['dz_type3']),\n",
    "    pd.get_dummies(data['flair_contrast']),\n",
    "    pd.get_dummies(data['sex'])), axis=1)\n",
    "\n",
    "predictors = ['age', 'Female', 'WITH', 'MS', 'OIND', 'volume']\n",
    "# predictors = ['Male']\n",
    "\n",
    "y = data['numEDSS']\n",
    "x = data[predictors]\n",
    "x = np.asarray(x, dtype='float64')\n",
    "x = np.concatenate((x, np.ones((x.shape[0], 1))), axis=1)\n",
    "\n",
    "res = sm.OLS(y, x).fit(missing='drop')\n",
    "\n",
    "print(predictors, \"\\n\")\n",
    "print(res.summary())"
   ]
  },
  {
   "cell_type": "code",
   "execution_count": 169,
   "metadata": {},
   "outputs": [
    {
     "name": "stderr",
     "output_type": "stream",
     "text": [
      "/tmp/ipykernel_3054674/2023392845.py:8: FutureWarning: Setting an item of incompatible dtype is deprecated and will raise an error in a future version of pandas. Value '1' has dtype incompatible with bool, please explicitly cast to a compatible dtype first.\n",
      "  test_df.loc[i, 'Female'] = 1\n",
      "/tmp/ipykernel_3054674/2023392845.py:15: FutureWarning: Setting an item of incompatible dtype is deprecated and will raise an error in a future version of pandas. Value '0' has dtype incompatible with bool, please explicitly cast to a compatible dtype first.\n",
      "  test_df.loc[i, 'Male'] = 0\n"
     ]
    }
   ],
   "source": [
    "sex = data.iloc[:30].sex\n",
    "test_volume = data.iloc[:30].volume\n",
    "\n",
    "test_df = pd.DataFrame({'sex': sex, 'volume': volume})\n",
    "test_df = pd.concat((test_df, pd.get_dummies(test_df['sex'])), axis=1)\n",
    "for i, row in test_df.iterrows():\n",
    "    if test_df.loc[i, 'Female']:\n",
    "        test_df.loc[i, 'Female'] = 1\n",
    "    else:\n",
    "        test_df.loc[i, 'Female'] = 0\n",
    "\n",
    "    if row['Male']:\n",
    "        test_df.loc[i, 'Male'] = 1\n",
    "    else:\n",
    "        test_df.loc[i, 'Male'] = 0\n",
    "test_df.to_csv(\"test_df.csv\")"
   ]
  },
  {
   "cell_type": "code",
   "execution_count": 203,
   "metadata": {},
   "outputs": [
    {
     "name": "stdout",
     "output_type": "stream",
     "text": [
      "                 Generalized Linear Model Regression Results                  \n",
      "==============================================================================\n",
      "Dep. Variable:                      y   No. Observations:                   30\n",
      "Model:                            GLM   Df Residuals:                       28\n",
      "Model Family:                Gaussian   Df Model:                            1\n",
      "Link Function:               Identity   Scale:                          9022.9\n",
      "Method:                          IRLS   Log-Likelihood:                -178.15\n",
      "Date:                Thu, 16 Jan 2025   Deviance:                   2.5264e+05\n",
      "Time:                        17:31:00   Pearson chi2:                 2.53e+05\n",
      "No. Iterations:                     3   Pseudo R-squ. (CS):            0.04972\n",
      "Covariance Type:            nonrobust                                         \n",
      "==============================================================================\n",
      "                 coef    std err          z      P>|z|      [0.025      0.975]\n",
      "------------------------------------------------------------------------------\n",
      "x1            49.5466     41.003      1.208      0.227     -30.819     129.912\n",
      "const        187.7391     19.807      9.479      0.000     148.919     226.559\n",
      "==============================================================================\n"
     ]
    }
   ],
   "source": [
    "female = [1, 1, 1, 1, 1, 1, 1, 0, 0, 1, 0, 1, 1, 1, 0, 0, 0, 1, 1, 1, 1, 1, 1, 1, 1, 1, 1, 0, 1, 1]\n",
    "male = [0, 0, 0, 0, 0, 0, 0, 1, 1, 0, 1, 0, 0, 0, 1, 1, 1, 0, 0, 0, 0, 0, 0, 0, 0, 0, 0, 1, 0, 0]\n",
    "const = [1 for i in male]\n",
    "x = np.array([male, const]).transpose()\n",
    "test_volume_list = [38, 345, 210, 147, 136, 150, 284, 208, 202, 244, 330, 115, 133, 400, 223, 81, 447, 277, 84, 154, 161, 177, 312, 227, 185, 144, 150, 170, 129, 116]\n",
    "\n",
    "res = sm.GLM(test_volume_list, x).fit()\n",
    "print(res.summary())"
   ]
  },
  {
   "cell_type": "code",
   "execution_count": 177,
   "metadata": {},
   "outputs": [
    {
     "name": "stdout",
     "output_type": "stream",
     "text": [
      "                                 OLS Regression Results                                \n",
      "=======================================================================================\n",
      "Dep. Variable:                 volume   R-squared (uncentered):                   0.270\n",
      "Model:                            OLS   Adj. R-squared (uncentered):              0.245\n",
      "Method:                 Least Squares   F-statistic:                              10.74\n",
      "Date:                Tue, 14 Jan 2025   Prob (F-statistic):                     0.00272\n",
      "Time:                        17:21:16   Log-Likelihood:                         -199.71\n",
      "No. Observations:                  30   AIC:                                      401.4\n",
      "Df Residuals:                      29   BIC:                                      402.8\n",
      "Df Model:                           1                                                  \n",
      "Covariance Type:            nonrobust                                                  \n",
      "==============================================================================\n",
      "                 coef    std err          t      P>|t|      [0.025      0.975]\n",
      "------------------------------------------------------------------------------\n",
      "x1           237.2756     72.390      3.278      0.003      89.221     385.330\n",
      "==============================================================================\n",
      "Omnibus:                        1.088   Durbin-Watson:                   0.840\n",
      "Prob(Omnibus):                  0.580   Jarque-Bera (JB):                0.475\n",
      "Skew:                          -0.300   Prob(JB):                        0.789\n",
      "Kurtosis:                       3.140   Cond. No.                         1.00\n",
      "==============================================================================\n",
      "\n",
      "Notes:\n",
      "[1] R² is computed without centering (uncentered) since the model does not contain a constant.\n",
      "[2] Standard Errors assume that the covariance matrix of the errors is correctly specified.\n"
     ]
    }
   ],
   "source": [
    "sex_factor = test_df['Female'].to_list()\n",
    "res = sm.OLS(test_volume, sex_factor).fit(missing='drop')\n",
    "\n",
    "print(res.summary())"
   ]
  },
  {
   "cell_type": "markdown",
   "metadata": {},
   "source": [
    "With Python statsmodels.OLS, coefficient does not flip signs when I reverse the coding of a binary variable"
   ]
  },
  {
   "cell_type": "code",
   "execution_count": 192,
   "metadata": {},
   "outputs": [
    {
     "name": "stdout",
     "output_type": "stream",
     "text": [
      "[38, 345, 210, 147, 136, 150, 284, 208, 202, 244, 330, 115, 133, 400, 223, 81, 447, 277, 84, 154, 161, 177, 312, 227, 185, 144, 150, 170, 129, 116]\n"
     ]
    }
   ],
   "source": [
    "test_volume_list = [37.888454, 344.577332, 210.448578, 146.943634, 135.682953, 150.01709, 283.630951, 207.866623, 201.727509, 244.208298, 329.728058, 115.207657, 133.119675, 399.870972, 223.241089, 80.89521, 447.486877, 276.991302, 83.964966, 154.114304, 161.279999, 177.15155, 312.319214, 227.325195, 184.832458, 144.384552, 150.016571, 169.983566, 129.022552, 116.215614]\n",
    "for i, val in enumerate(test_volume_list):\n",
    "    test_volume_list[i] = round(val)\n",
    "print(test_volume_list)"
   ]
  },
  {
   "cell_type": "code",
   "execution_count": null,
   "metadata": {},
   "outputs": [],
   "source": [
    "outcome = \"pineal_volume\"\n",
    "\n",
    "df_test = df[df['dz_type2'].isin(['MS', '!MS'])]\n",
    "\n",
    "df_test.loc[:, ['sex_factor']], _ = df_test['sex'].factorize()\n",
    "df_test.loc[:, 'flair_contrast_factor'], _ = df_test['flair_contrast'].factorize()\n",
    "df_test.loc[:, ['dz_type2_factor']], _ = df_test['dz_type2'].factorize(sort=True)\n",
    "\n",
    "predictors = [\"age\", \"sex_factor\", \"tiv\", \"flair_contrast_factor\", \"dz_type2_factor\"]\n",
    "\n",
    "x = np.asarray(df_test[predictors]).astype(np.float64)\n",
    "Y = np.asarray(df_test[outcome]).astype(np.float64)\n",
    "\n",
    "mod = sm.OLS(Y, x, missing='drop')\n",
    "\n",
    "res = mod.fit()\n",
    "\n",
    "print(f\"{df_test.loc[1001, 'dz_type2']}: {df_test.loc[1001, 'dz_type2_factor']}\")\n",
    "print(predictors, \"\\n\")\n",
    "\n",
    "print(res.summary())"
   ]
  },
  {
   "cell_type": "code",
   "execution_count": 101,
   "metadata": {},
   "outputs": [
    {
     "name": "stdout",
     "output_type": "stream",
     "text": [
      "Optimization terminated successfully.\n",
      "         Current function value: 0.414944\n",
      "         Iterations 6\n",
      "                           Logit Regression Results                           \n",
      "==============================================================================\n",
      "Dep. Variable:                      y   No. Observations:                  456\n",
      "Model:                          Logit   Df Residuals:                      451\n",
      "Method:                           MLE   Df Model:                            4\n",
      "Date:                Tue, 14 Jan 2025   Pseudo R-squ.:                 0.02363\n",
      "Time:                        16:15:43   Log-Likelihood:                -189.21\n",
      "converged:                       True   LL-Null:                       -193.79\n",
      "Covariance Type:            nonrobust   LLR p-value:                   0.05729\n",
      "==============================================================================\n",
      "                 coef    std err          z      P>|z|      [0.025      0.975]\n",
      "------------------------------------------------------------------------------\n",
      "x1             0.0031      0.010      0.311      0.756      -0.017       0.023\n",
      "x2             0.0589      0.346      0.170      0.865      -0.619       0.737\n",
      "x3         -1.645e-06   3.93e-07     -4.183      0.000   -2.42e-06   -8.74e-07\n",
      "x4            -0.3679      0.284     -1.294      0.196      -0.925       0.189\n",
      "x5             0.0037      0.001      3.132      0.002       0.001       0.006\n",
      "==============================================================================\n"
     ]
    },
    {
     "name": "stderr",
     "output_type": "stream",
     "text": [
      "/tmp/ipykernel_3054674/2297185002.py:3: SettingWithCopyWarning: \n",
      "A value is trying to be set on a copy of a slice from a DataFrame.\n",
      "Try using .loc[row_indexer,col_indexer] = value instead\n",
      "\n",
      "See the caveats in the documentation: https://pandas.pydata.org/pandas-docs/stable/user_guide/indexing.html#returning-a-view-versus-a-copy\n",
      "  df_test.loc[:, 'sex_factor'], _ = df_test['sex'].factorize()\n",
      "/tmp/ipykernel_3054674/2297185002.py:4: SettingWithCopyWarning: \n",
      "A value is trying to be set on a copy of a slice from a DataFrame.\n",
      "Try using .loc[row_indexer,col_indexer] = value instead\n",
      "\n",
      "See the caveats in the documentation: https://pandas.pydata.org/pandas-docs/stable/user_guide/indexing.html#returning-a-view-versus-a-copy\n",
      "  df_test.loc[:, 'dz_type2_factor'], _ = df_test['dz_type2'].factorize()\n",
      "/tmp/ipykernel_3054674/2297185002.py:5: SettingWithCopyWarning: \n",
      "A value is trying to be set on a copy of a slice from a DataFrame.\n",
      "Try using .loc[row_indexer,col_indexer] = value instead\n",
      "\n",
      "See the caveats in the documentation: https://pandas.pydata.org/pandas-docs/stable/user_guide/indexing.html#returning-a-view-versus-a-copy\n",
      "  df_test.loc[:, 'flair_contrast_factor'], _ = df_test['flair_contrast'].factorize()\n"
     ]
    }
   ],
   "source": [
    "df_test = df[df['dz_type2'].isin(['MS', '!MS'])]\n",
    "\n",
    "df_test.loc[:, 'sex_factor'], _ = df_test['sex'].factorize()\n",
    "df_test.loc[:, 'dz_type2_factor'], _ = df_test['dz_type2'].factorize()\n",
    "df_test.loc[:, 'flair_contrast_factor'], _ = df_test['flair_contrast'].factorize()\n",
    "\n",
    "predictors = [\"age\", \"sex_factor\", \"tiv\", \"flair_contrast_factor\", \"pineal_volume\"]\n",
    "outcome = \"dz_type2_factor\"\n",
    "\n",
    "x = np.asarray(df_test[predictors]).astype(np.float64)\n",
    "Y = np.asarray(df_test[outcome]).astype(np.float64)\n",
    "\n",
    "mod = sm.Logit(Y, x, missing='drop')\n",
    "\n",
    "res = mod.fit()\n",
    "\n",
    "print(res.summary())"
   ]
  },
  {
   "cell_type": "code",
   "execution_count": 61,
   "metadata": {},
   "outputs": [
    {
     "name": "stdout",
     "output_type": "stream",
     "text": [
      "MS: 1\n",
      "['age', 'sex_factor', 'tiv', 'flair_contrast_factor', 'choroid_volume'] \n",
      "\n",
      "Optimization terminated successfully.\n",
      "         Current function value: 0.443055\n",
      "         Iterations 6\n",
      "                           Logit Regression Results                           \n",
      "==============================================================================\n",
      "Dep. Variable:                      y   No. Observations:                  461\n",
      "Model:                          Logit   Df Residuals:                      456\n",
      "Method:                           MLE   Df Model:                            4\n",
      "Date:                Tue, 14 Jan 2025   Pseudo R-squ.:               -0.005726\n",
      "Time:                        15:38:39   Log-Likelihood:                -204.25\n",
      "converged:                       True   LL-Null:                       -203.09\n",
      "Covariance Type:            nonrobust   LLR p-value:                     1.000\n",
      "==============================================================================\n",
      "                 coef    std err          z      P>|z|      [0.025      0.975]\n",
      "------------------------------------------------------------------------------\n",
      "x1            -0.0004      0.010     -0.042      0.967      -0.019       0.019\n",
      "x2             0.1643      0.336      0.488      0.625      -0.495       0.824\n",
      "x3          1.004e-06   3.95e-07      2.539      0.011    2.29e-07    1.78e-06\n",
      "x4             0.3963      0.294      1.349      0.177      -0.179       0.972\n",
      "x5          -1.88e-05      0.000     -0.073      0.942      -0.001       0.000\n",
      "==============================================================================\n"
     ]
    }
   ],
   "source": [
    "df_test = df[df['dz_type4'].isin(['MS', '!MS'])]\n",
    "\n",
    "df_test.loc[:, 'sex_factor'], _ = df_test['sex'].factorize()\n",
    "df_test.loc[:, 'dz_type4_factor'], _ = df_test['dz_type4'].factorize(sort=True)\n",
    "print(f\"{df_test.loc[1001, 'dz_type4']}: {df_test.loc[1001, 'dz_type4_factor']}\")\n",
    "\n",
    "df_test.loc[:, 'flair_contrast_factor'], _ = df_test['flair_contrast'].factorize()\n",
    "\n",
    "predictors = [\"age\", \"sex_factor\", \"tiv\", \"flair_contrast_factor\", \"choroid_volume\"]\n",
    "outcome = \"dz_type4_factor\"\n",
    "\n",
    "print(predictors, \"\\n\")\n",
    "\n",
    "x = np.asarray(df_test[predictors]).astype(np.float64)\n",
    "Y = np.asarray(df_test[outcome]).astype(np.float64)\n",
    "\n",
    "mod = sm.Logit(Y, x, missing='drop')\n",
    "\n",
    "res = mod.fit()\n",
    "\n",
    "print(res.summary())"
   ]
  },
  {
   "cell_type": "code",
   "execution_count": 114,
   "metadata": {},
   "outputs": [
    {
     "ename": "KeyError",
     "evalue": "'dz_type4'",
     "output_type": "error",
     "traceback": [
      "\u001b[0;31m---------------------------------------------------------------------------\u001b[0m",
      "\u001b[0;31mKeyError\u001b[0m                                  Traceback (most recent call last)",
      "File \u001b[0;32m~/.virtualenvs/monai/lib/python3.12/site-packages/pandas/core/indexes/base.py:3805\u001b[0m, in \u001b[0;36mIndex.get_loc\u001b[0;34m(self, key)\u001b[0m\n\u001b[1;32m   3804\u001b[0m \u001b[38;5;28;01mtry\u001b[39;00m:\n\u001b[0;32m-> 3805\u001b[0m     \u001b[38;5;28;01mreturn\u001b[39;00m \u001b[38;5;28;43mself\u001b[39;49m\u001b[38;5;241;43m.\u001b[39;49m\u001b[43m_engine\u001b[49m\u001b[38;5;241;43m.\u001b[39;49m\u001b[43mget_loc\u001b[49m\u001b[43m(\u001b[49m\u001b[43mcasted_key\u001b[49m\u001b[43m)\u001b[49m\n\u001b[1;32m   3806\u001b[0m \u001b[38;5;28;01mexcept\u001b[39;00m \u001b[38;5;167;01mKeyError\u001b[39;00m \u001b[38;5;28;01mas\u001b[39;00m err:\n",
      "File \u001b[0;32mindex.pyx:167\u001b[0m, in \u001b[0;36mpandas._libs.index.IndexEngine.get_loc\u001b[0;34m()\u001b[0m\n",
      "File \u001b[0;32mindex.pyx:196\u001b[0m, in \u001b[0;36mpandas._libs.index.IndexEngine.get_loc\u001b[0;34m()\u001b[0m\n",
      "File \u001b[0;32mpandas/_libs/hashtable_class_helper.pxi:7081\u001b[0m, in \u001b[0;36mpandas._libs.hashtable.PyObjectHashTable.get_item\u001b[0;34m()\u001b[0m\n",
      "File \u001b[0;32mpandas/_libs/hashtable_class_helper.pxi:7089\u001b[0m, in \u001b[0;36mpandas._libs.hashtable.PyObjectHashTable.get_item\u001b[0;34m()\u001b[0m\n",
      "\u001b[0;31mKeyError\u001b[0m: 'dz_type4'",
      "\nThe above exception was the direct cause of the following exception:\n",
      "\u001b[0;31mKeyError\u001b[0m                                  Traceback (most recent call last)",
      "Cell \u001b[0;32mIn[114], line 4\u001b[0m\n\u001b[1;32m      2\u001b[0m data \u001b[38;5;241m=\u001b[39m df[[\u001b[38;5;124m'\u001b[39m\u001b[38;5;124mdz_type2\u001b[39m\u001b[38;5;124m'\u001b[39m, \u001b[38;5;124m'\u001b[39m\u001b[38;5;124mage\u001b[39m\u001b[38;5;124m'\u001b[39m, \u001b[38;5;124m'\u001b[39m\u001b[38;5;124msex\u001b[39m\u001b[38;5;124m'\u001b[39m, \u001b[38;5;124m'\u001b[39m\u001b[38;5;124mtiv\u001b[39m\u001b[38;5;124m'\u001b[39m, \u001b[38;5;124m'\u001b[39m\u001b[38;5;124mflair_contrast\u001b[39m\u001b[38;5;124m'\u001b[39m, volume]]\n\u001b[1;32m      3\u001b[0m data \u001b[38;5;241m=\u001b[39m data\u001b[38;5;241m.\u001b[39mrename(columns\u001b[38;5;241m=\u001b[39m{volume: \u001b[38;5;124m'\u001b[39m\u001b[38;5;124mvolume\u001b[39m\u001b[38;5;124m'\u001b[39m})\n\u001b[0;32m----> 4\u001b[0m data \u001b[38;5;241m=\u001b[39m data[\u001b[43mdata\u001b[49m\u001b[43m[\u001b[49m\u001b[38;5;124;43m'\u001b[39;49m\u001b[38;5;124;43mdz_type4\u001b[39;49m\u001b[38;5;124;43m'\u001b[39;49m\u001b[43m]\u001b[49m\u001b[38;5;241m.\u001b[39misin([\u001b[38;5;124m'\u001b[39m\u001b[38;5;124mMS\u001b[39m\u001b[38;5;124m'\u001b[39m, \u001b[38;5;124m'\u001b[39m\u001b[38;5;124m!MS\u001b[39m\u001b[38;5;124m'\u001b[39m])]\n\u001b[1;32m      5\u001b[0m data \u001b[38;5;241m=\u001b[39m data[data[\u001b[38;5;124m'\u001b[39m\u001b[38;5;124mflair_contrast\u001b[39m\u001b[38;5;124m'\u001b[39m]\u001b[38;5;241m.\u001b[39misin([\u001b[38;5;124m'\u001b[39m\u001b[38;5;124mWITH\u001b[39m\u001b[38;5;124m'\u001b[39m, \u001b[38;5;124m'\u001b[39m\u001b[38;5;124mWITHOUT\u001b[39m\u001b[38;5;124m'\u001b[39m])]\n\u001b[1;32m      7\u001b[0m data \u001b[38;5;241m=\u001b[39m pd\u001b[38;5;241m.\u001b[39mconcat((\n\u001b[1;32m      8\u001b[0m     data,\n\u001b[1;32m      9\u001b[0m     pd\u001b[38;5;241m.\u001b[39mget_dummies(data[\u001b[38;5;124m'\u001b[39m\u001b[38;5;124mdz_type4\u001b[39m\u001b[38;5;124m'\u001b[39m]),\n\u001b[1;32m     10\u001b[0m     pd\u001b[38;5;241m.\u001b[39mget_dummies(data[\u001b[38;5;124m'\u001b[39m\u001b[38;5;124mflair_contrast\u001b[39m\u001b[38;5;124m'\u001b[39m]),\n\u001b[1;32m     11\u001b[0m     pd\u001b[38;5;241m.\u001b[39mget_dummies(data[\u001b[38;5;124m'\u001b[39m\u001b[38;5;124msex\u001b[39m\u001b[38;5;124m'\u001b[39m])), axis\u001b[38;5;241m=\u001b[39m\u001b[38;5;241m1\u001b[39m)\n",
      "File \u001b[0;32m~/.virtualenvs/monai/lib/python3.12/site-packages/pandas/core/frame.py:4102\u001b[0m, in \u001b[0;36mDataFrame.__getitem__\u001b[0;34m(self, key)\u001b[0m\n\u001b[1;32m   4100\u001b[0m \u001b[38;5;28;01mif\u001b[39;00m \u001b[38;5;28mself\u001b[39m\u001b[38;5;241m.\u001b[39mcolumns\u001b[38;5;241m.\u001b[39mnlevels \u001b[38;5;241m>\u001b[39m \u001b[38;5;241m1\u001b[39m:\n\u001b[1;32m   4101\u001b[0m     \u001b[38;5;28;01mreturn\u001b[39;00m \u001b[38;5;28mself\u001b[39m\u001b[38;5;241m.\u001b[39m_getitem_multilevel(key)\n\u001b[0;32m-> 4102\u001b[0m indexer \u001b[38;5;241m=\u001b[39m \u001b[38;5;28;43mself\u001b[39;49m\u001b[38;5;241;43m.\u001b[39;49m\u001b[43mcolumns\u001b[49m\u001b[38;5;241;43m.\u001b[39;49m\u001b[43mget_loc\u001b[49m\u001b[43m(\u001b[49m\u001b[43mkey\u001b[49m\u001b[43m)\u001b[49m\n\u001b[1;32m   4103\u001b[0m \u001b[38;5;28;01mif\u001b[39;00m is_integer(indexer):\n\u001b[1;32m   4104\u001b[0m     indexer \u001b[38;5;241m=\u001b[39m [indexer]\n",
      "File \u001b[0;32m~/.virtualenvs/monai/lib/python3.12/site-packages/pandas/core/indexes/base.py:3812\u001b[0m, in \u001b[0;36mIndex.get_loc\u001b[0;34m(self, key)\u001b[0m\n\u001b[1;32m   3807\u001b[0m     \u001b[38;5;28;01mif\u001b[39;00m \u001b[38;5;28misinstance\u001b[39m(casted_key, \u001b[38;5;28mslice\u001b[39m) \u001b[38;5;129;01mor\u001b[39;00m (\n\u001b[1;32m   3808\u001b[0m         \u001b[38;5;28misinstance\u001b[39m(casted_key, abc\u001b[38;5;241m.\u001b[39mIterable)\n\u001b[1;32m   3809\u001b[0m         \u001b[38;5;129;01mand\u001b[39;00m \u001b[38;5;28many\u001b[39m(\u001b[38;5;28misinstance\u001b[39m(x, \u001b[38;5;28mslice\u001b[39m) \u001b[38;5;28;01mfor\u001b[39;00m x \u001b[38;5;129;01min\u001b[39;00m casted_key)\n\u001b[1;32m   3810\u001b[0m     ):\n\u001b[1;32m   3811\u001b[0m         \u001b[38;5;28;01mraise\u001b[39;00m InvalidIndexError(key)\n\u001b[0;32m-> 3812\u001b[0m     \u001b[38;5;28;01mraise\u001b[39;00m \u001b[38;5;167;01mKeyError\u001b[39;00m(key) \u001b[38;5;28;01mfrom\u001b[39;00m \u001b[38;5;21;01merr\u001b[39;00m\n\u001b[1;32m   3813\u001b[0m \u001b[38;5;28;01mexcept\u001b[39;00m \u001b[38;5;167;01mTypeError\u001b[39;00m:\n\u001b[1;32m   3814\u001b[0m     \u001b[38;5;66;03m# If we have a listlike key, _check_indexing_error will raise\u001b[39;00m\n\u001b[1;32m   3815\u001b[0m     \u001b[38;5;66;03m#  InvalidIndexError. Otherwise we fall through and re-raise\u001b[39;00m\n\u001b[1;32m   3816\u001b[0m     \u001b[38;5;66;03m#  the TypeError.\u001b[39;00m\n\u001b[1;32m   3817\u001b[0m     \u001b[38;5;28mself\u001b[39m\u001b[38;5;241m.\u001b[39m_check_indexing_error(key)\n",
      "\u001b[0;31mKeyError\u001b[0m: 'dz_type4'"
     ]
    }
   ],
   "source": [
    "volume = 'pineal_volume'\n",
    "data = df[['dz_type4', 'age', 'sex', 'tiv', 'flair_contrast', volume]]\n",
    "data = data.rename(columns={volume: 'volume'})\n",
    "data = data[data['dz_type4'].isin(['MS', '!MS'])]\n",
    "data = data[data['flair_contrast'].isin(['WITH', 'WITHOUT'])]\n",
    "\n",
    "data = pd.concat((\n",
    "    data,\n",
    "    pd.get_dummies(data['dz_type4']),\n",
    "    pd.get_dummies(data['flair_contrast']),\n",
    "    pd.get_dummies(data['sex'])), axis=1)\n",
    "\n",
    "predictors = [\"age\", \"Female\", \"tiv\", 'WITH', \"!MS\"]\n",
    "predictors = [\"MS\"]\n",
    "\n",
    "y = data['volume']\n",
    "x = data[predictors]\n",
    "print(x.columns.tolist(), \"\\n\")\n",
    "\n",
    "x = np.asarray(x, dtype='float64')\n",
    "res = sm.OLS(y, x, missing='drop').fit()\n",
    "print(res.summary())"
   ]
  },
  {
   "cell_type": "code",
   "execution_count": 19,
   "metadata": {},
   "outputs": [
    {
     "name": "stdout",
     "output_type": "stream",
     "text": [
      "                  age          tiv    MS   NIND  WITHOUT   Male\n",
      "subject_id                                                     \n",
      "1001        50.057493  1491310.000  True  False    False  False\n",
      "1002        27.079341  1457902.875  True  False    False  False\n",
      "1003        68.044680  1474545.000  True  False    False  False\n",
      "1004        28.188140  1256718.250  True  False     True  False\n",
      "1005        47.059629  1325065.500  True  False     True  False\n",
      "                                 OLS Regression Results                                \n",
      "=======================================================================================\n",
      "Dep. Variable:                 volume   R-squared (uncentered):                   0.753\n",
      "Model:                            OLS   Adj. R-squared (uncentered):              0.749\n",
      "Method:                 Least Squares   F-statistic:                              226.7\n",
      "Date:                Tue, 14 Jan 2025   Prob (F-statistic):                   3.67e-132\n",
      "Time:                        15:13:47   Log-Likelihood:                         -2760.2\n",
      "No. Observations:                 453   AIC:                                      5532.\n",
      "Df Residuals:                     447   BIC:                                      5557.\n",
      "Df Model:                           6                                                  \n",
      "Covariance Type:            nonrobust                                                  \n",
      "==============================================================================\n",
      "                 coef    std err          t      P>|t|      [0.025      0.975]\n",
      "------------------------------------------------------------------------------\n",
      "x1            -0.3825      0.381     -1.003      0.316      -1.132       0.367\n",
      "x2             0.0002   1.74e-05      8.710      0.000       0.000       0.000\n",
      "x3           -12.8340     20.005     -0.642      0.522     -52.150      26.482\n",
      "x4            66.1320     26.239      2.520      0.012      14.566     117.698\n",
      "x5           -29.1228     10.427     -2.793      0.005     -49.615      -8.630\n",
      "x6           -38.2316     12.718     -3.006      0.003     -63.227     -13.237\n",
      "==============================================================================\n",
      "Omnibus:                      253.961   Durbin-Watson:                   1.930\n",
      "Prob(Omnibus):                  0.000   Jarque-Bera (JB):             3530.903\n",
      "Skew:                           2.101   Prob(JB):                         0.00\n",
      "Kurtosis:                      16.016   Cond. No.                     9.17e+06\n",
      "==============================================================================\n",
      "\n",
      "Notes:\n",
      "[1] R² is computed without centering (uncentered) since the model does not contain a constant.\n",
      "[2] Standard Errors assume that the covariance matrix of the errors is correctly specified.\n",
      "[3] The condition number is large, 9.17e+06. This might indicate that there are\n",
      "strong multicollinearity or other numerical problems.\n"
     ]
    }
   ],
   "source": [
    "volume = 'pineal_volume'\n",
    "data = df[['dz_type3', 'age', 'sex', 'tiv', 'flair_contrast', volume]]\n",
    "data = data.rename(columns={volume: 'volume'})\n",
    "data = data[data['dz_type3'].isin(['MS', 'OIND', 'NIND'])]\n",
    "data = data[data['flair_contrast'].isin(['WITH', 'WITHOUT'])]\n",
    "\n",
    "data = pd.concat((\n",
    "    data,\n",
    "    pd.get_dummies(data['dz_type3']),\n",
    "    pd.get_dummies(data['flair_contrast'], drop_first=True),\n",
    "    pd.get_dummies(data['sex'], drop_first=True)), axis=1)\n",
    "\n",
    "data = data.drop(labels=\"OIND\", axis=\"columns\")\n",
    "y = data['volume']\n",
    "x = data.drop(['dz_type3', 'sex', 'flair_contrast', 'volume'], axis=1)\n",
    "print(x.head())\n",
    "x = np.asarray(x, dtype='float64')\n",
    "res = sm.OLS(y, x).fit()\n",
    "print(res.summary())\n"
   ]
  },
  {
   "cell_type": "code",
   "execution_count": 20,
   "metadata": {},
   "outputs": [],
   "source": [
    "ms_subtypes2 = [\"RRMS\", \"PPMS\", \"SPMS\"]\n",
    "df_ms = df[df['ms_type'].isin(ms_subtypes2)]"
   ]
  },
  {
   "cell_type": "code",
   "execution_count": 21,
   "metadata": {},
   "outputs": [
    {
     "name": "stdout",
     "output_type": "stream",
     "text": [
      "                                 OLS Regression Results                                \n",
      "=======================================================================================\n",
      "Dep. Variable:                      y   R-squared (uncentered):                   0.698\n",
      "Model:                            OLS   Adj. R-squared (uncentered):              0.695\n",
      "Method:                 Least Squares   F-statistic:                              285.3\n",
      "Date:                Tue, 14 Jan 2025   Prob (F-statistic):                    5.78e-96\n",
      "Time:                        15:13:49   Log-Likelihood:                         -2292.6\n",
      "No. Observations:                 374   AIC:                                      4591.\n",
      "Df Residuals:                     371   BIC:                                      4603.\n",
      "Df Model:                           3                                                  \n",
      "Covariance Type:            nonrobust                                                  \n",
      "==============================================================================\n",
      "                 coef    std err          t      P>|t|      [0.025      0.975]\n",
      "------------------------------------------------------------------------------\n",
      "x1             3.6545      0.146     25.017      0.000       3.367       3.942\n",
      "x2             3.4722     14.287      0.243      0.808     -24.622      31.566\n",
      "x3           -34.6575      9.220     -3.759      0.000     -52.787     -16.528\n",
      "==============================================================================\n",
      "Omnibus:                       13.939   Durbin-Watson:                   1.928\n",
      "Prob(Omnibus):                  0.001   Jarque-Bera (JB):               14.498\n",
      "Skew:                           0.474   Prob(JB):                     0.000711\n",
      "Kurtosis:                       3.176   Cond. No.                         123.\n",
      "==============================================================================\n",
      "\n",
      "Notes:\n",
      "[1] R² is computed without centering (uncentered) since the model does not contain a constant.\n",
      "[2] Standard Errors assume that the covariance matrix of the errors is correctly specified.\n"
     ]
    },
    {
     "name": "stderr",
     "output_type": "stream",
     "text": [
      "/tmp/ipykernel_3054674/498226952.py:1: SettingWithCopyWarning: \n",
      "A value is trying to be set on a copy of a slice from a DataFrame.\n",
      "Try using .loc[row_indexer,col_indexer] = value instead\n",
      "\n",
      "See the caveats in the documentation: https://pandas.pydata.org/pandas-docs/stable/user_guide/indexing.html#returning-a-view-versus-a-copy\n",
      "  df_ms.loc[:, 'sex_factor'], _ = df_ms['sex'].factorize()\n",
      "/tmp/ipykernel_3054674/498226952.py:2: SettingWithCopyWarning: \n",
      "A value is trying to be set on a copy of a slice from a DataFrame.\n",
      "Try using .loc[row_indexer,col_indexer] = value instead\n",
      "\n",
      "See the caveats in the documentation: https://pandas.pydata.org/pandas-docs/stable/user_guide/indexing.html#returning-a-view-versus-a-copy\n",
      "  df_ms.loc[:, 'ms_type_factor'], _ = df_ms['ms_type'].factorize()\n"
     ]
    }
   ],
   "source": [
    "df_ms.loc[:, 'sex_factor'], _ = df_ms['sex'].factorize()\n",
    "df_ms.loc[:, 'ms_type_factor'], _ = df_ms['ms_type'].factorize()\n",
    "predictors = [\"age\", \"sex_factor\", \"ms_type_factor\"]\n",
    "outcome = \"pineal_volume\"\n",
    "\n",
    "x = np.asarray(df_ms[predictors]).astype(np.float64)\n",
    "Y = np.asarray(df_ms[outcome]).astype(np.float64)\n",
    "\n",
    "mod = sm.OLS(Y, x, missing='drop')\n",
    "\n",
    "res = mod.fit()\n",
    "\n",
    "print(res.summary())"
   ]
  },
  {
   "cell_type": "code",
   "execution_count": null,
   "metadata": {},
   "outputs": [
    {
     "name": "stdout",
     "output_type": "stream",
     "text": [
      "                                 OLS Regression Results                                \n",
      "=======================================================================================\n",
      "Dep. Variable:                      y   R-squared (uncentered):                   0.885\n",
      "Model:                            OLS   Adj. R-squared (uncentered):              0.885\n",
      "Method:                 Least Squares   F-statistic:                              1592.\n",
      "Date:                Mon, 30 Dec 2024   Prob (F-statistic):                    7.34e-99\n",
      "Time:                        18:30:39   Log-Likelihood:                         -1413.3\n",
      "No. Observations:                 207   AIC:                                      2829.\n",
      "Df Residuals:                     206   BIC:                                      2832.\n",
      "Df Model:                           1                                                  \n",
      "Covariance Type:            nonrobust                                                  \n",
      "==============================================================================\n",
      "                 coef    std err          t      P>|t|      [0.025      0.975]\n",
      "------------------------------------------------------------------------------\n",
      "x1             0.0004   1.04e-05     39.895      0.000       0.000       0.000\n",
      "==============================================================================\n",
      "Omnibus:                        7.156   Durbin-Watson:                   1.931\n",
      "Prob(Omnibus):                  0.028   Jarque-Bera (JB):                6.991\n",
      "Skew:                          -0.384   Prob(JB):                       0.0303\n",
      "Kurtosis:                       3.470   Cond. No.                         1.00\n",
      "==============================================================================\n",
      "\n",
      "Notes:\n",
      "[1] R² is computed without centering (uncentered) since the model does not contain a constant.\n",
      "[2] Standard Errors assume that the covariance matrix of the errors is correctly specified.\n"
     ]
    }
   ],
   "source": [
    "predictors = [\"tiv\"]\n",
    "outcome = \"pituitary_volume\"\n",
    "\n",
    "x = np.asarray(df_ms[predictors]).astype(np.float64)\n",
    "Y = np.asarray(df_ms[outcome]).astype(np.float64)\n",
    "\n",
    "mod = sm.OLS(Y, x, missing='drop')\n",
    "\n",
    "res = mod.fit()\n",
    "\n",
    "print(res.summary())"
   ]
  },
  {
   "cell_type": "code",
   "execution_count": null,
   "metadata": {},
   "outputs": [
    {
     "data": {
      "text/plain": [
       "array([[2.01336035e+01, 1.26161339e+03, 0.00000000e+00, 0.00000000e+00],\n",
       "       [2.88807972e+01, 1.45832702e+03, 0.00000000e+00, 0.00000000e+00],\n",
       "       [6.64704594e+01, 1.35252909e+03, 0.00000000e+00, 0.00000000e+00],\n",
       "       [4.89432185e+01, 1.43492793e+03, 0.00000000e+00, 0.00000000e+00],\n",
       "       [5.90182336e+01, 1.34423632e+03, 0.00000000e+00, 0.00000000e+00],\n",
       "       [3.57882057e+01, 1.82958525e+03, 0.00000000e+00, 0.00000000e+00],\n",
       "       [5.94590155e+01, 1.35972546e+03, 0.00000000e+00, 0.00000000e+00],\n",
       "       [           nan, 1.41245473e+03, 0.00000000e+00, 0.00000000e+00],\n",
       "       [4.23178010e+01, 1.37809810e+03, 0.00000000e+00, 0.00000000e+00],\n",
       "       [6.19640804e+01, 1.59898444e+03, 1.00000000e+00, 1.00000000e+00],\n",
       "       [3.74801511e+01, 1.49433394e+03, 0.00000000e+00, 0.00000000e+00],\n",
       "       [7.23484641e+01, 1.26129874e+03, 0.00000000e+00, 1.00000000e+00],\n",
       "       [4.23506543e+01, 1.40538667e+03, 0.00000000e+00, 0.00000000e+00],\n",
       "       [4.00208071e+01, 1.40781802e+03, 0.00000000e+00, 0.00000000e+00],\n",
       "       [5.83036741e+01, 1.57500795e+03, 1.00000000e+00, 0.00000000e+00],\n",
       "       [3.70722225e+01, 1.46062982e+03, 0.00000000e+00, 0.00000000e+00],\n",
       "       [4.60685539e+01, 1.38494214e+03, 0.00000000e+00, 2.00000000e+00],\n",
       "       [5.47144500e+01, 1.35310876e+03, 0.00000000e+00, 0.00000000e+00],\n",
       "       [3.55253792e+01, 1.67804084e+03, 1.00000000e+00, 2.00000000e+00],\n",
       "       [5.78163500e+01, 1.41754500e+03, 0.00000000e+00, 2.00000000e+00],\n",
       "       [5.56754093e+01, 1.60428189e+03, 0.00000000e+00, 2.00000000e+00],\n",
       "       [6.22542846e+01, 1.23319894e+03, 0.00000000e+00, 2.00000000e+00],\n",
       "       [4.49433280e+01, 1.28357682e+03, 0.00000000e+00, 1.00000000e+00],\n",
       "       [4.91485517e+01, 1.20182361e+03, 0.00000000e+00, 1.00000000e+00],\n",
       "       [4.06614466e+01, 1.29043828e+03, 0.00000000e+00, 1.00000000e+00],\n",
       "       [3.90160434e+01, 1.46666071e+03, 0.00000000e+00, 2.00000000e+00],\n",
       "       [6.04993703e+01, 1.18340640e+03, 0.00000000e+00, 2.00000000e+00],\n",
       "       [5.87307671e+01, 1.38171105e+03, 0.00000000e+00, 1.00000000e+00],\n",
       "       [4.17921481e+01, 1.32765384e+03, 0.00000000e+00, 2.00000000e+00],\n",
       "       [2.42840716e+01, 1.37262829e+03, 0.00000000e+00, 2.00000000e+00],\n",
       "       [3.64096808e+01, 1.77813938e+03, 0.00000000e+00, 2.00000000e+00],\n",
       "       [2.84454909e+01, 1.32082503e+03, 0.00000000e+00, 1.00000000e+00],\n",
       "       [4.63970870e+01, 1.34345949e+03, 0.00000000e+00, 2.00000000e+00],\n",
       "       [5.23052072e+01, 1.39475453e+03, 0.00000000e+00, 2.00000000e+00],\n",
       "       [5.15139900e+01, 1.16987952e+03, 0.00000000e+00, 1.00000000e+00],\n",
       "       [3.93418387e+01, 1.38359759e+03, 0.00000000e+00, 1.00000000e+00]])"
      ]
     },
     "execution_count": 23,
     "metadata": {},
     "output_type": "execute_result"
    }
   ],
   "source": [
    "import numpy as np \n",
    "np.asarray(x)"
   ]
  },
  {
   "cell_type": "code",
   "execution_count": null,
   "metadata": {},
   "outputs": [],
   "source": [
    "spector_data = sm.datasets.spector.load()\n",
    "spector_data.exog = sm.add_constant(spector_data.exog, prepend=False)\n",
    "\n",
    "x1 = "
   ]
  }
 ],
 "metadata": {
  "kernelspec": {
   "display_name": "monai",
   "language": "python",
   "name": "python3"
  },
  "language_info": {
   "codemirror_mode": {
    "name": "ipython",
    "version": 3
   },
   "file_extension": ".py",
   "mimetype": "text/x-python",
   "name": "python",
   "nbconvert_exporter": "python",
   "pygments_lexer": "ipython3",
   "version": "3.12.4"
  }
 },
 "nbformat": 4,
 "nbformat_minor": 2
}
