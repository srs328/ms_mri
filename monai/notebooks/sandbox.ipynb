{
 "cells": [
  {
   "cell_type": "code",
   "execution_count": 12,
   "metadata": {},
   "outputs": [],
   "source": [
    "import os\n",
    "from pathlib import Path\n",
    "import importlib\n",
    "import numpy as np\n",
    "import nibabel as nib\n",
    "\n",
    "os.chdir(\"/home/srs-9/Projects/ms_mri\")\n",
    "\n",
    "from monai.preproc import data_file_manager as datafm"
   ]
  },
  {
   "cell_type": "code",
   "execution_count": 18,
   "metadata": {},
   "outputs": [
    {
     "data": {
      "text/plain": [
       "<module 'monai.preproc.data_file_manager' from '/home/srs-9/Projects/ms_mri/monai/preproc/data_file_manager.py'>"
      ]
     },
     "execution_count": 18,
     "metadata": {},
     "output_type": "execute_result"
    }
   ],
   "source": [
    "importlib.reload(datafm)"
   ]
  },
  {
   "cell_type": "code",
   "execution_count": 20,
   "metadata": {},
   "outputs": [
    {
     "data": {
      "text/plain": [
       "PosixPath('/mnt/f/Data/ms_mri/lesjak_2017/data/patient01/raw/patient01_T1W.nii.gz')"
      ]
     },
     "execution_count": 20,
     "metadata": {},
     "output_type": "execute_result"
    }
   ],
   "source": [
    "basepath = Path(\"/mnt/f/Data/ms_mri/lesjak_2017\")\n",
    "data_dir = basepath / \"data\"\n",
    "\n",
    "lesjak_datafm = datafm.LesjakData(data_dir)\n",
    "subjects = lesjak_datafm.subjects\n",
    "modalities = [\"FLAIR\", \"T1W\", \"T1WKS\", \"T2W\"]\n",
    "lesjak_datafm.get_scan(subjects[0], modalities[1])"
   ]
  },
  {
   "cell_type": "code",
   "execution_count": 23,
   "metadata": {},
   "outputs": [],
   "source": [
    "def load_scan(scan_path: Path) -> np.ndarray:\n",
    "    img = nib.load(scan_path)\n",
    "    return np.array(img.dataobj)"
   ]
  },
  {
   "cell_type": "code",
   "execution_count": 32,
   "metadata": {},
   "outputs": [],
   "source": [
    "subject = subjects[1]\n",
    "imgs = [nib.load(lesjak_datafm.get_scan(subject, mod)) for mod in modalities]"
   ]
  },
  {
   "cell_type": "code",
   "execution_count": 37,
   "metadata": {},
   "outputs": [
    {
     "data": {
      "text/plain": [
       "array([[ -0.57291698,   0.        ,   0.        ,  96.38026428],\n",
       "       [  0.        ,  -0.57291698,   0.        , 128.58218384],\n",
       "       [  0.        ,   0.        ,   0.82499999, -43.45846558],\n",
       "       [  0.        ,   0.        ,   0.        ,   1.        ]])"
      ]
     },
     "execution_count": 37,
     "metadata": {},
     "output_type": "execute_result"
    }
   ],
   "source": [
    "imgs[3].affine"
   ]
  },
  {
   "cell_type": "code",
   "execution_count": 29,
   "metadata": {},
   "outputs": [
    {
     "name": "stdout",
     "output_type": "stream",
     "text": [
      "(192, 512, 512)\n",
      "(408, 512, 144)\n",
      "(408, 512, 152)\n",
      "(354, 384, 160)\n"
     ]
    }
   ],
   "source": [
    "scan_paths = [lesjak_datafm.get_scan(subject, mod) for mod in modalities]\n",
    "scans = [load_scan(path) for path in scan_paths]"
   ]
  },
  {
   "cell_type": "code",
   "execution_count": 21,
   "metadata": {},
   "outputs": [],
   "source": [
    "labels = datafm.assign_train_test(subjects, 0.2)"
   ]
  },
  {
   "cell_type": "code",
   "execution_count": 8,
   "metadata": {},
   "outputs": [],
   "source": [
    "basepath = Path(\"/mnt/f/Data/ms_mri/Brats_3d_seg/Task01_BrainTumour\")\n",
    "imagesTr = basepath / \"imagesTr\"\n",
    "image_files = os.scandir(imagesTr)\n",
    "image_paths = [file.path for file in image_files if \"._\" not in file.name]"
   ]
  },
  {
   "cell_type": "code",
   "execution_count": null,
   "metadata": {},
   "outputs": [],
   "source": [
    "img = nib.load(image_paths[0])\n",
    "\n",
    "a = np.array(img.dataobj)"
   ]
  },
  {
   "cell_type": "code",
   "execution_count": null,
   "metadata": {},
   "outputs": [],
   "source": []
  },
  {
   "cell_type": "code",
   "execution_count": 98,
   "metadata": {},
   "outputs": [
    {
     "name": "stdout",
     "output_type": "stream",
     "text": [
      "uninitialzed\n"
     ]
    }
   ],
   "source": [
    "test = tuple()\n",
    "if not test:\n",
    "    print(\"uninitialzed\")"
   ]
  },
  {
   "cell_type": "code",
   "execution_count": null,
   "metadata": {},
   "outputs": [],
   "source": [
    "import random\n",
    "fraction_ts = 0.2\n",
    "\n",
    "n_subj = len(subjects)\n",
    "n_ts = int(n_subj * fraction_ts)\n",
    "\n",
    "random.shuffle(subjects)\n",
    "subj_ts = [(subj, \"ts\") for subj in subjects[:n_ts]]\n",
    "subj_tr = [(subj, \"tr\") for subj in subjects[n_ts:]]\n",
    "\n",
    "subj_ts + subj_tr"
   ]
  },
  {
   "cell_type": "code",
   "execution_count": null,
   "metadata": {},
   "outputs": [],
   "source": []
  }
 ],
 "metadata": {
  "kernelspec": {
   "display_name": "monai",
   "language": "python",
   "name": "python3"
  },
  "language_info": {
   "codemirror_mode": {
    "name": "ipython",
    "version": 3
   },
   "file_extension": ".py",
   "mimetype": "text/x-python",
   "name": "python",
   "nbconvert_exporter": "python",
   "pygments_lexer": "ipython3",
   "version": "3.12.4"
  }
 },
 "nbformat": 4,
 "nbformat_minor": 2
}
