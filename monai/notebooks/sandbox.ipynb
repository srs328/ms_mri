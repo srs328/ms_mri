{
 "cells": [
  {
   "cell_type": "code",
   "execution_count": 7,
   "metadata": {},
   "outputs": [],
   "source": [
    "import os\n",
    "from pathlib import Path\n",
    "import importlib\n",
    "import numpy as np\n",
    "import nibabel as nib\n",
    "import re\n",
    "import sys\n",
    "from collections import defaultdict, namedtuple"
   ]
  },
  {
   "cell_type": "code",
   "execution_count": 4,
   "metadata": {},
   "outputs": [],
   "source": [
    "PREPROC_DIR = \"/home/srs-9/Projects/ms_mri/monai/preproc\"\n",
    "sys.path.append(PREPROC_DIR)\n",
    "import data_file_manager as datafm\n",
    "import hemond_data as hd"
   ]
  },
  {
   "cell_type": "code",
   "execution_count": 5,
   "metadata": {},
   "outputs": [
    {
     "data": {
      "text/plain": [
       "<module 'hemond_data' from '/home/srs-9/Projects/ms_mri/monai/preproc/hemond_data.py'>"
      ]
     },
     "execution_count": 5,
     "metadata": {},
     "output_type": "execute_result"
    }
   ],
   "source": [
    "importlib.reload(datafm)\n",
    "importlib.reload(hd)"
   ]
  },
  {
   "cell_type": "markdown",
   "metadata": {},
   "source": [
    "## Hemond Data"
   ]
  },
  {
   "cell_type": "code",
   "execution_count": 6,
   "metadata": {},
   "outputs": [],
   "source": [
    "data_dir = Path(\"/mnt/f/Data/Hemond/flair\")\n",
    "\n",
    "data, unmatched_labels = hd.scan_hemond_subjects(data_dir)"
   ]
  },
  {
   "cell_type": "code",
   "execution_count": 15,
   "metadata": {},
   "outputs": [
    {
     "ename": "AttributeError",
     "evalue": "'tuple' object has no attribute 'append'",
     "output_type": "error",
     "traceback": [
      "\u001b[0;31m---------------------------------------------------------------------------\u001b[0m",
      "\u001b[0;31mAttributeError\u001b[0m                            Traceback (most recent call last)",
      "Cell \u001b[0;32mIn[15], line 4\u001b[0m\n\u001b[1;32m      2\u001b[0m     thoo\u001b[38;5;241m.\u001b[39mappend(a)\n\u001b[1;32m      3\u001b[0m     \u001b[38;5;28;01mreturn\u001b[39;00m thoo\n\u001b[0;32m----> 4\u001b[0m test \u001b[38;5;241m=\u001b[39m \u001b[43mfunc\u001b[49m\u001b[43m(\u001b[49m\u001b[38;5;241;43m2\u001b[39;49m\u001b[43m)\u001b[49m\n\u001b[1;32m      5\u001b[0m \u001b[38;5;28mprint\u001b[39m(test)\n\u001b[1;32m      6\u001b[0m thee \u001b[38;5;241m=\u001b[39m func(\u001b[38;5;241m3\u001b[39m)\n",
      "Cell \u001b[0;32mIn[15], line 2\u001b[0m, in \u001b[0;36mfunc\u001b[0;34m(a, thoo)\u001b[0m\n\u001b[1;32m      1\u001b[0m \u001b[38;5;28;01mdef\u001b[39;00m \u001b[38;5;21mfunc\u001b[39m(a, thoo\u001b[38;5;241m=\u001b[39m()):\n\u001b[0;32m----> 2\u001b[0m     \u001b[43mthoo\u001b[49m\u001b[38;5;241;43m.\u001b[39;49m\u001b[43mappend\u001b[49m(a)\n\u001b[1;32m      3\u001b[0m     \u001b[38;5;28;01mreturn\u001b[39;00m thoo\n",
      "\u001b[0;31mAttributeError\u001b[0m: 'tuple' object has no attribute 'append'"
     ]
    }
   ],
   "source": [
    "def func(a, thoo=()):\n",
    "    thoo.append(a)\n",
    "    return thoo\n",
    "test = func(2)\n",
    "print(test)\n",
    "thee = func(3)\n",
    "print(thee)"
   ]
  },
  {
   "cell_type": "code",
   "execution_count": 20,
   "metadata": {},
   "outputs": [],
   "source": [
    "fileobjs = list(os.scandir(data_dir))\n",
    "scans = [file.name for file in os.scandir(data_dir) if file.name.split('.')[-1]=='gz']\n",
    "labels = [file.name for file in os.scandir(data_dir/\"labels\") if file.name.split('.')[-1]=='gz']\n",
    "\n",
    "def get_subj_ses(filename):\n",
    "    restr = re.compile(r\"sub-ms(\\d{4})_ses-(\\d{8})\\.nii\\.gz\")\n",
    "    rematch = restr.match(filename)\n",
    "    return rematch[1], rematch[2]"
   ]
  },
  {
   "cell_type": "code",
   "execution_count": 9,
   "metadata": {},
   "outputs": [
    {
     "ename": "TypeError",
     "evalue": "Scan.__new__() missing 1 required positional argument: 'image'",
     "output_type": "error",
     "traceback": [
      "\u001b[0;31m---------------------------------------------------------------------------\u001b[0m",
      "\u001b[0;31mTypeError\u001b[0m                                 Traceback (most recent call last)",
      "Cell \u001b[0;32mIn[9], line 2\u001b[0m\n\u001b[1;32m      1\u001b[0m Scan \u001b[38;5;241m=\u001b[39m namedtuple(\u001b[38;5;124m\"\u001b[39m\u001b[38;5;124mScan\u001b[39m\u001b[38;5;124m\"\u001b[39m, (\u001b[38;5;124m\"\u001b[39m\u001b[38;5;124msubid\u001b[39m\u001b[38;5;124m\"\u001b[39m, \u001b[38;5;124m\"\u001b[39m\u001b[38;5;124mdate\u001b[39m\u001b[38;5;124m\"\u001b[39m, \u001b[38;5;124m\"\u001b[39m\u001b[38;5;124mimage\u001b[39m\u001b[38;5;124m\"\u001b[39m, \u001b[38;5;124m\"\u001b[39m\u001b[38;5;124mlabel\u001b[39m\u001b[38;5;124m\"\u001b[39m), defaults\u001b[38;5;241m=\u001b[39m[\u001b[38;5;241m0\u001b[39m])\n\u001b[0;32m----> 2\u001b[0m test \u001b[38;5;241m=\u001b[39m \u001b[43mScan\u001b[49m\u001b[43m(\u001b[49m\u001b[43msubid\u001b[49m\u001b[38;5;241;43m=\u001b[39;49m\u001b[38;5;241;43m4\u001b[39;49m\u001b[43m,\u001b[49m\u001b[43m \u001b[49m\u001b[43mdate\u001b[49m\u001b[38;5;241;43m=\u001b[39;49m\u001b[38;5;241;43m3\u001b[39;49m\u001b[43m)\u001b[49m\n",
      "\u001b[0;31mTypeError\u001b[0m: Scan.__new__() missing 1 required positional argument: 'image'"
     ]
    }
   ],
   "source": [
    "Scan = namedtuple(\"Scan\", (\"subid\", \"date\", \"image\", \"label\"), defaults=[0])\n",
    "test = Scan(subid=4, date=3)"
   ]
  },
  {
   "cell_type": "code",
   "execution_count": 19,
   "metadata": {},
   "outputs": [
    {
     "data": {
      "text/plain": [
       "dict"
      ]
     },
     "execution_count": 19,
     "metadata": {},
     "output_type": "execute_result"
    }
   ],
   "source": [
    "thoo.pop('three', dict)"
   ]
  },
  {
   "cell_type": "markdown",
   "metadata": {},
   "source": [
    "## Lesjak Data"
   ]
  },
  {
   "cell_type": "code",
   "execution_count": null,
   "metadata": {},
   "outputs": [],
   "source": [
    "basepath = Path(\"/mnt/f/Data/ms_mri/lesjak_2017\")\n",
    "data_dir = basepath / \"data\"\n",
    "\n",
    "lesjak_datafm = datafm.LesjakData(data_dir)\n",
    "subjects = lesjak_datafm.subjects\n",
    "modalities = [\"FLAIR\", \"T1W\", \"T1WKS\", \"T2W\"]\n",
    "lesjak_datafm.get_scan(subjects[0], modalities[1])"
   ]
  },
  {
   "cell_type": "code",
   "execution_count": null,
   "metadata": {},
   "outputs": [],
   "source": [
    "def load_scan(scan_path: Path) -> np.ndarray:\n",
    "    img = nib.load(scan_path)\n",
    "    return np.array(img.dataobj)"
   ]
  },
  {
   "cell_type": "code",
   "execution_count": null,
   "metadata": {},
   "outputs": [],
   "source": [
    "subject = subjects[1]\n",
    "imgs = [nib.load(lesjak_datafm.get_scan(subject, mod)) for mod in modalities]"
   ]
  },
  {
   "cell_type": "code",
   "execution_count": null,
   "metadata": {},
   "outputs": [],
   "source": [
    "imgs[3].affine"
   ]
  },
  {
   "cell_type": "code",
   "execution_count": null,
   "metadata": {},
   "outputs": [],
   "source": [
    "scan_paths = [lesjak_datafm.get_scan(subject, mod) for mod in modalities]\n",
    "scans = [load_scan(path) for path in scan_paths]"
   ]
  },
  {
   "cell_type": "code",
   "execution_count": null,
   "metadata": {},
   "outputs": [],
   "source": [
    "labels = datafm.assign_train_test(subjects, 0.2)"
   ]
  },
  {
   "cell_type": "code",
   "execution_count": null,
   "metadata": {},
   "outputs": [],
   "source": [
    "basepath = Path(\"/mnt/f/Data/ms_mri/Brats_3d_seg/Task01_BrainTumour\")\n",
    "imagesTr = basepath / \"imagesTr\"\n",
    "image_files = os.scandir(imagesTr)\n",
    "image_paths = [file.path for file in image_files if \"._\" not in file.name]"
   ]
  },
  {
   "cell_type": "code",
   "execution_count": null,
   "metadata": {},
   "outputs": [],
   "source": [
    "img = nib.load(image_paths[0])\n",
    "\n",
    "a = np.array(img.dataobj)"
   ]
  },
  {
   "cell_type": "code",
   "execution_count": null,
   "metadata": {},
   "outputs": [],
   "source": []
  },
  {
   "cell_type": "code",
   "execution_count": null,
   "metadata": {},
   "outputs": [],
   "source": [
    "test = tuple()\n",
    "if not test:\n",
    "    print(\"uninitialzed\")"
   ]
  },
  {
   "cell_type": "code",
   "execution_count": null,
   "metadata": {},
   "outputs": [],
   "source": [
    "import random\n",
    "fraction_ts = 0.2\n",
    "\n",
    "n_subj = len(subjects)\n",
    "n_ts = int(n_subj * fraction_ts)\n",
    "\n",
    "random.shuffle(subjects)\n",
    "subj_ts = [(subj, \"ts\") for subj in subjects[:n_ts]]\n",
    "subj_tr = [(subj, \"tr\") for subj in subjects[n_ts:]]\n",
    "\n",
    "subj_ts + subj_tr"
   ]
  },
  {
   "cell_type": "code",
   "execution_count": null,
   "metadata": {},
   "outputs": [],
   "source": []
  }
 ],
 "metadata": {
  "kernelspec": {
   "display_name": "monai",
   "language": "python",
   "name": "python3"
  },
  "language_info": {
   "codemirror_mode": {
    "name": "ipython",
    "version": 3
   },
   "file_extension": ".py",
   "mimetype": "text/x-python",
   "name": "python",
   "nbconvert_exporter": "python",
   "pygments_lexer": "ipython3",
   "version": "3.12.4"
  }
 },
 "nbformat": 4,
 "nbformat_minor": 2
}
