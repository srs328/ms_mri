{
 "cells": [
  {
   "cell_type": "code",
   "execution_count": 1,
   "metadata": {},
   "outputs": [],
   "source": [
    "import importlib\n",
    "import os\n",
    "import re\n",
    "import sys\n",
    "from collections import defaultdict, namedtuple\n",
    "from dataclasses import dataclass, fields, asdict\n",
    "from pathlib import Path\n",
    "\n",
    "import nibabel as nib\n",
    "import numpy as np"
   ]
  },
  {
   "cell_type": "code",
   "execution_count": 2,
   "metadata": {},
   "outputs": [],
   "source": [
    "PREPROC_DIR = \"/home/srs-9/Dev/ms_mri/monai/preproc\"\n",
    "sys.path.append(PREPROC_DIR)\n",
    "import data_file_manager as datafm\n",
    "import hemond_data as hd\n",
    "from record import DataSet"
   ]
  },
  {
   "cell_type": "code",
   "execution_count": 3,
   "metadata": {},
   "outputs": [
    {
     "data": {
      "text/plain": [
       "record.DataSet"
      ]
     },
     "execution_count": 3,
     "metadata": {},
     "output_type": "execute_result"
    }
   ],
   "source": [
    "importlib.reload(datafm)\n",
    "importlib.reload(hd)\n",
    "importlib.reload(sys.modules['record']).DataSet"
   ]
  },
  {
   "cell_type": "markdown",
   "metadata": {},
   "source": [
    "## Hemond Data"
   ]
  },
  {
   "cell_type": "code",
   "execution_count": 4,
   "metadata": {},
   "outputs": [],
   "source": [
    "@dataclass(slots=True)\n",
    "class Scan:\n",
    "    subid: int\n",
    "    date: int\n",
    "    image: Path = None\n",
    "    label: Path = None\n",
    "    \n",
    "    def has_label(self):\n",
    "        if self.label is not None:\n",
    "            return True\n",
    "        else:\n",
    "            return False\n",
    "\n",
    "    @classmethod\n",
    "    def _field_names(cls):\n",
    "        return cls.__slots__"
   ]
  },
  {
   "cell_type": "code",
   "execution_count": 7,
   "metadata": {},
   "outputs": [
    {
     "ename": "TypeError",
     "evalue": "DataSet.__init__() missing 2 required positional arguments: 'recordname' and 'fields'",
     "output_type": "error",
     "traceback": [
      "\u001b[0;31m---------------------------------------------------------------------------\u001b[0m",
      "\u001b[0;31mTypeError\u001b[0m                                 Traceback (most recent call last)",
      "Cell \u001b[0;32mIn[7], line 2\u001b[0m\n\u001b[1;32m      1\u001b[0m data_dir \u001b[38;5;241m=\u001b[39m Path(\u001b[38;5;124m\"\u001b[39m\u001b[38;5;124m/mnt/e/Data/Hemond/flair\u001b[39m\u001b[38;5;124m\"\u001b[39m)\n\u001b[0;32m----> 2\u001b[0m dataset \u001b[38;5;241m=\u001b[39m \u001b[43mhd\u001b[49m\u001b[38;5;241;43m.\u001b[39;49m\u001b[43mHaemondData\u001b[49m\u001b[43m(\u001b[49m\u001b[38;5;124;43m'\u001b[39;49m\u001b[38;5;124;43mhemond_data\u001b[39;49m\u001b[38;5;124;43m'\u001b[39;49m\u001b[43m,\u001b[49m\u001b[43m \u001b[49m\u001b[43mScan\u001b[49m\u001b[38;5;241;43m.\u001b[39;49m\u001b[43m_field_names\u001b[49m\u001b[43m(\u001b[49m\u001b[43m)\u001b[49m\u001b[43m)\u001b[49m\n\u001b[1;32m      4\u001b[0m images \u001b[38;5;241m=\u001b[39m [\n\u001b[1;32m      5\u001b[0m         file\u001b[38;5;241m.\u001b[39mname \u001b[38;5;28;01mfor\u001b[39;00m file \u001b[38;5;129;01min\u001b[39;00m os\u001b[38;5;241m.\u001b[39mscandir(data_dir) \u001b[38;5;28;01mif\u001b[39;00m file\u001b[38;5;241m.\u001b[39mname\u001b[38;5;241m.\u001b[39msplit(\u001b[38;5;124m\"\u001b[39m\u001b[38;5;124m.\u001b[39m\u001b[38;5;124m\"\u001b[39m)[\u001b[38;5;241m-\u001b[39m\u001b[38;5;241m1\u001b[39m] \u001b[38;5;241m==\u001b[39m \u001b[38;5;124m\"\u001b[39m\u001b[38;5;124mgz\u001b[39m\u001b[38;5;124m\"\u001b[39m\n\u001b[1;32m      6\u001b[0m     ]\n\u001b[1;32m      8\u001b[0m subj, ses \u001b[38;5;241m=\u001b[39m hd\u001b[38;5;241m.\u001b[39mget_subj_ses(images[\u001b[38;5;241m0\u001b[39m])\n",
      "File \u001b[0;32m~/Dev/ms_mri/monai/preproc/hemond_data.py:71\u001b[0m, in \u001b[0;36mHaemondData.__init__\u001b[0;34m(self, recordname, fields, records)\u001b[0m\n\u001b[1;32m     70\u001b[0m \u001b[38;5;28;01mdef\u001b[39;00m \u001b[38;5;21m__init__\u001b[39m(\u001b[38;5;28mself\u001b[39m, recordname: \u001b[38;5;28mstr\u001b[39m, fields: \u001b[38;5;28mlist\u001b[39m, records\u001b[38;5;241m=\u001b[39m\u001b[38;5;28;01mNone\u001b[39;00m):\n\u001b[0;32m---> 71\u001b[0m     \u001b[38;5;28msuper\u001b[39m()\u001b[38;5;241m.\u001b[39m\u001b[38;5;21m__init__\u001b[39m(recordname, fields, records\u001b[38;5;241m=\u001b[39mrecords)\n\u001b[1;32m     72\u001b[0m     \u001b[38;5;28mself\u001b[39m\u001b[38;5;241m.\u001b[39mData \u001b[38;5;241m=\u001b[39m Scan\n",
      "\u001b[0;31mTypeError\u001b[0m: DataSet.__init__() missing 2 required positional arguments: 'recordname' and 'fields'"
     ]
    }
   ],
   "source": [
    "data_dir = Path(\"/mnt/e/Data/Hemond/flair\")\n",
    "dataset = hd.HaemondData('hemond_data', Scan._field_names())\n",
    "\n",
    "images = [\n",
    "        file.name for file in os.scandir(data_dir) if file.name.split(\".\")[-1] == \"gz\"\n",
    "    ]\n",
    "\n",
    "subj, ses = hd.get_subj_ses(images[0])\n",
    "check = dict(subid=subj, date=ses, image=images[0])\n",
    "check"
   ]
  },
  {
   "cell_type": "code",
   "execution_count": 6,
   "metadata": {},
   "outputs": [
    {
     "name": "stdout",
     "output_type": "stream",
     "text": [
      "{'subid': '1001', 'date': '20170215', 'image': 'sub-ms1001_ses-20170215.nii.gz'}\n"
     ]
    },
    {
     "data": {
      "text/plain": [
       "[hemond_data(subid='1001', date='20170215', image='sub-ms1001_ses-20170215.nii.gz', label='')]"
      ]
     },
     "execution_count": 6,
     "metadata": {},
     "output_type": "execute_result"
    }
   ],
   "source": [
    "dataset.add_record(dict(subid=subj, date=ses, image=images[0]))\n",
    "dataset.records"
   ]
  },
  {
   "cell_type": "code",
   "execution_count": null,
   "metadata": {},
   "outputs": [],
   "source": [
    "fileobjs = list(os.scandir(data_dir))\n",
    "scans = [file.name for file in os.scandir(data_dir) if file.name.split('.')[-1]=='gz']\n",
    "labels = [file.name for file in os.scandir(data_dir/\"labels\") if file.name.split('.')[-1]=='gz']\n",
    "\n",
    "def get_subj_ses(filename):\n",
    "    restr = re.compile(r\"sub-ms(\\d{4})_ses-(\\d{8})\\.nii\\.gz\")\n",
    "    rematch = restr.match(filename)\n",
    "    return rematch[1], rematch[2]"
   ]
  },
  {
   "cell_type": "code",
   "execution_count": null,
   "metadata": {},
   "outputs": [],
   "source": [
    "Scan = namedtuple(\"Scan\", (\"subid\", \"date\", \"image\", \"label\"), defaults=[0])\n",
    "test = Scan(subid=4, date=3)"
   ]
  },
  {
   "cell_type": "code",
   "execution_count": null,
   "metadata": {},
   "outputs": [],
   "source": [
    "thoo.pop('three', dict)"
   ]
  },
  {
   "cell_type": "markdown",
   "metadata": {},
   "source": [
    "## Lesjak Data"
   ]
  },
  {
   "cell_type": "code",
   "execution_count": null,
   "metadata": {},
   "outputs": [],
   "source": [
    "basepath = Path(\"/mnt/f/Data/ms_mri/lesjak_2017\")\n",
    "data_dir = basepath / \"data\"\n",
    "\n",
    "lesjak_datafm = datafm.LesjakData(data_dir)\n",
    "subjects = lesjak_datafm.subjects\n",
    "modalities = [\"FLAIR\", \"T1W\", \"T1WKS\", \"T2W\"]\n",
    "lesjak_datafm.get_scan(subjects[0], modalities[1])"
   ]
  },
  {
   "cell_type": "code",
   "execution_count": null,
   "metadata": {},
   "outputs": [],
   "source": [
    "def load_scan(scan_path: Path) -> np.ndarray:\n",
    "    img = nib.load(scan_path)\n",
    "    return np.array(img.dataobj)"
   ]
  },
  {
   "cell_type": "code",
   "execution_count": null,
   "metadata": {},
   "outputs": [],
   "source": [
    "subject = subjects[1]\n",
    "imgs = [nib.load(lesjak_datafm.get_scan(subject, mod)) for mod in modalities]"
   ]
  },
  {
   "cell_type": "code",
   "execution_count": null,
   "metadata": {},
   "outputs": [],
   "source": [
    "imgs[3].affine"
   ]
  },
  {
   "cell_type": "code",
   "execution_count": null,
   "metadata": {},
   "outputs": [],
   "source": [
    "scan_paths = [lesjak_datafm.get_scan(subject, mod) for mod in modalities]\n",
    "scans = [load_scan(path) for path in scan_paths]"
   ]
  },
  {
   "cell_type": "code",
   "execution_count": null,
   "metadata": {},
   "outputs": [],
   "source": [
    "labels = datafm.assign_train_test(subjects, 0.2)"
   ]
  },
  {
   "cell_type": "code",
   "execution_count": null,
   "metadata": {},
   "outputs": [],
   "source": [
    "basepath = Path(\"/mnt/f/Data/ms_mri/Brats_3d_seg/Task01_BrainTumour\")\n",
    "imagesTr = basepath / \"imagesTr\"\n",
    "image_files = os.scandir(imagesTr)\n",
    "image_paths = [file.path for file in image_files if \"._\" not in file.name]"
   ]
  },
  {
   "cell_type": "code",
   "execution_count": null,
   "metadata": {},
   "outputs": [],
   "source": [
    "img = nib.load(image_paths[0])\n",
    "\n",
    "a = np.array(img.dataobj)"
   ]
  },
  {
   "cell_type": "code",
   "execution_count": null,
   "metadata": {},
   "outputs": [],
   "source": []
  },
  {
   "cell_type": "code",
   "execution_count": null,
   "metadata": {},
   "outputs": [],
   "source": [
    "test = tuple()\n",
    "if not test:\n",
    "    print(\"uninitialzed\")"
   ]
  },
  {
   "cell_type": "code",
   "execution_count": null,
   "metadata": {},
   "outputs": [],
   "source": [
    "import random\n",
    "fraction_ts = 0.2\n",
    "\n",
    "n_subj = len(subjects)\n",
    "n_ts = int(n_subj * fraction_ts)\n",
    "\n",
    "random.shuffle(subjects)\n",
    "subj_ts = [(subj, \"ts\") for subj in subjects[:n_ts]]\n",
    "subj_tr = [(subj, \"tr\") for subj in subjects[n_ts:]]\n",
    "\n",
    "subj_ts + subj_tr"
   ]
  },
  {
   "cell_type": "code",
   "execution_count": null,
   "metadata": {},
   "outputs": [],
   "source": []
  }
 ],
 "metadata": {
  "kernelspec": {
   "display_name": "monai",
   "language": "python",
   "name": "python3"
  },
  "language_info": {
   "codemirror_mode": {
    "name": "ipython",
    "version": 3
   },
   "file_extension": ".py",
   "mimetype": "text/x-python",
   "name": "python",
   "nbconvert_exporter": "python",
   "pygments_lexer": "ipython3",
   "version": "3.12.4"
  }
 },
 "nbformat": 4,
 "nbformat_minor": 2
}
