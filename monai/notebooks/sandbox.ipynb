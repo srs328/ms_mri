{
 "cells": [
  {
   "cell_type": "code",
   "execution_count": 1,
   "metadata": {},
   "outputs": [],
   "source": [
    "import os\n",
    "from pathlib import Path\n",
    "import importlib\n",
    "import numpy as np\n",
    "import nibabel as nib\n",
    "\n",
    "os.chdir(\"/home/srs-9/Projects/ms_mri/monai\")\n",
    "\n",
    "from scripts import data_file_manager as datafm"
   ]
  },
  {
   "cell_type": "code",
   "execution_count": 115,
   "metadata": {},
   "outputs": [
    {
     "data": {
      "text/plain": [
       "<module 'scripts.data_file_manager' from '/home/srs-9/Projects/ms_mri/monai/scripts/data_file_manager.py'>"
      ]
     },
     "execution_count": 115,
     "metadata": {},
     "output_type": "execute_result"
    }
   ],
   "source": [
    "importlib.reload(datafm)"
   ]
  },
  {
   "cell_type": "code",
   "execution_count": 8,
   "metadata": {},
   "outputs": [],
   "source": [
    "base_path = Path(\"/mnt/f/Data/ms_mri/Brats_3d_seg/Task01_BrainTumour\")\n",
    "imagesTr = base_path / \"imagesTr\"\n",
    "image_files = os.scandir(imagesTr)\n",
    "image_paths = [file.path for file in image_files if \"._\" not in file.name]"
   ]
  },
  {
   "cell_type": "code",
   "execution_count": 9,
   "metadata": {},
   "outputs": [],
   "source": [
    "img = nib.load(image_paths[0])\n",
    "\n",
    "a = np.array(img.dataobj)"
   ]
  },
  {
   "cell_type": "code",
   "execution_count": 117,
   "metadata": {},
   "outputs": [
    {
     "ename": "TypeError",
     "evalue": "list indices must be integers or slices, not str",
     "output_type": "error",
     "traceback": [
      "\u001b[0;31m---------------------------------------------------------------------------\u001b[0m",
      "\u001b[0;31mTypeError\u001b[0m                                 Traceback (most recent call last)",
      "Cell \u001b[0;32mIn[117], line 4\u001b[0m\n\u001b[1;32m      1\u001b[0m base_path \u001b[38;5;241m=\u001b[39m Path(\u001b[38;5;124m\"\u001b[39m\u001b[38;5;124m/mnt/f/Data/ms_mri/lesjak_2017\u001b[39m\u001b[38;5;124m\"\u001b[39m)\n\u001b[1;32m      2\u001b[0m data_dir \u001b[38;5;241m=\u001b[39m base_path \u001b[38;5;241m/\u001b[39m \u001b[38;5;124m\"\u001b[39m\u001b[38;5;124mdata\u001b[39m\u001b[38;5;124m\"\u001b[39m\n\u001b[0;32m----> 4\u001b[0m lesjak_datafm \u001b[38;5;241m=\u001b[39m \u001b[43mdatafm\u001b[49m\u001b[38;5;241;43m.\u001b[39;49m\u001b[43mLesjakData\u001b[49m\u001b[43m(\u001b[49m\u001b[43mdata_dir\u001b[49m\u001b[43m)\u001b[49m\n\u001b[1;32m      5\u001b[0m subjects \u001b[38;5;241m=\u001b[39m lesjak_datafm\u001b[38;5;241m.\u001b[39msubjects[\u001b[38;5;124m'\u001b[39m\u001b[38;5;124mname\u001b[39m\u001b[38;5;124m'\u001b[39m]\n\u001b[1;32m      6\u001b[0m labels \u001b[38;5;241m=\u001b[39m lesjak_datafm\u001b[38;5;241m.\u001b[39massign_train_test_data(subjects, \u001b[38;5;241m0.2\u001b[39m)\n",
      "File \u001b[0;32m~/Projects/ms_mri/monai/scripts/data_file_manager.py:44\u001b[0m, in \u001b[0;36mLesjakData.__init__\u001b[0;34m(self, basepath)\u001b[0m\n\u001b[1;32m     42\u001b[0m \u001b[38;5;28mself\u001b[39m\u001b[38;5;241m.\u001b[39mprefix \u001b[38;5;241m=\u001b[39m \u001b[38;5;124m\"\u001b[39m\u001b[38;5;124mSUBJECT_MODALITY.nii.gz\u001b[39m\u001b[38;5;124m\"\u001b[39m\n\u001b[1;32m     43\u001b[0m \u001b[38;5;28mself\u001b[39m\u001b[38;5;241m.\u001b[39mscan_dir \u001b[38;5;241m=\u001b[39m \u001b[38;5;124m\"\u001b[39m\u001b[38;5;124mraw\u001b[39m\u001b[38;5;124m\"\u001b[39m\n\u001b[0;32m---> 44\u001b[0m \u001b[38;5;28mself\u001b[39m\u001b[38;5;241m.\u001b[39msubjects \u001b[38;5;241m=\u001b[39m \u001b[38;5;28;43mself\u001b[39;49m\u001b[38;5;241;43m.\u001b[39;49m\u001b[43mget_subjects\u001b[49m\u001b[43m(\u001b[49m\u001b[43m)\u001b[49m\n",
      "File \u001b[0;32m~/Projects/ms_mri/monai/scripts/data_file_manager.py:48\u001b[0m, in \u001b[0;36mLesjakData.get_subjects\u001b[0;34m(self)\u001b[0m\n\u001b[1;32m     46\u001b[0m \u001b[38;5;28;01mdef\u001b[39;00m \u001b[38;5;21mget_subjects\u001b[39m(\u001b[38;5;28mself\u001b[39m):\n\u001b[1;32m     47\u001b[0m     subject_fileobjs \u001b[38;5;241m=\u001b[39m [item \u001b[38;5;28;01mfor\u001b[39;00m item \u001b[38;5;129;01min\u001b[39;00m os\u001b[38;5;241m.\u001b[39mscandir(\u001b[38;5;28mself\u001b[39m\u001b[38;5;241m.\u001b[39mbasepath) \u001b[38;5;28;01mif\u001b[39;00m item\u001b[38;5;241m.\u001b[39mis_dir()]\n\u001b[0;32m---> 48\u001b[0m     \u001b[43msubjects\u001b[49m\u001b[43m[\u001b[49m\u001b[38;5;124;43m\"\u001b[39;49m\u001b[38;5;124;43mname\u001b[39;49m\u001b[38;5;124;43m\"\u001b[39;49m\u001b[43m]\u001b[49m \u001b[38;5;241m=\u001b[39m [item\u001b[38;5;241m.\u001b[39mname \u001b[38;5;28;01mfor\u001b[39;00m item \u001b[38;5;129;01min\u001b[39;00m subject_fileobjs]\n\u001b[1;32m     49\u001b[0m     subjects[\u001b[38;5;124m\"\u001b[39m\u001b[38;5;124mpath\u001b[39m\u001b[38;5;124m\"\u001b[39m] \u001b[38;5;241m=\u001b[39m {item\u001b[38;5;241m.\u001b[39mname: Path(item\u001b[38;5;241m.\u001b[39mpath) \u001b[38;5;28;01mfor\u001b[39;00m item \u001b[38;5;129;01min\u001b[39;00m subject_fileobjs}\n\u001b[1;32m     50\u001b[0m     \u001b[38;5;28;01mreturn\u001b[39;00m subjects\n",
      "\u001b[0;31mTypeError\u001b[0m: list indices must be integers or slices, not str"
     ]
    }
   ],
   "source": [
    "base_path = Path(\"/mnt/f/Data/ms_mri/lesjak_2017\")\n",
    "data_dir = base_path / \"data\"\n",
    "\n",
    "lesjak_datafm = datafm.LesjakData(data_dir)\n",
    "subjects = lesjak_datafm.subjects['name']\n",
    "labels = lesjak_datafm.assign_train_test_data(subjects, 0.2)"
   ]
  },
  {
   "cell_type": "code",
   "execution_count": 108,
   "metadata": {},
   "outputs": [
    {
     "data": {
      "text/plain": [
       "PosixPath('/mnt/c/Users/srs-9/OneDrive - UMass Chan Medical School/Projects/MS MRI/lesjak_2017/data')"
      ]
     },
     "execution_count": 108,
     "metadata": {},
     "output_type": "execute_result"
    }
   ],
   "source": [
    "data_dir"
   ]
  },
  {
   "cell_type": "code",
   "execution_count": 98,
   "metadata": {},
   "outputs": [
    {
     "name": "stdout",
     "output_type": "stream",
     "text": [
      "uninitialzed\n"
     ]
    }
   ],
   "source": [
    "test = tuple()\n",
    "if not test:\n",
    "    print(\"uninitialzed\")"
   ]
  },
  {
   "cell_type": "code",
   "execution_count": null,
   "metadata": {},
   "outputs": [],
   "source": [
    "import random\n",
    "fraction_ts = 0.2\n",
    "\n",
    "n_subj = len(subjects)\n",
    "n_ts = int(n_subj * fraction_ts)\n",
    "\n",
    "random.shuffle(subjects)\n",
    "subj_ts = [(subj, \"ts\") for subj in subjects[:n_ts]]\n",
    "subj_tr = [(subj, \"tr\") for subj in subjects[n_ts:]]\n",
    "\n",
    "subj_ts + subj_tr"
   ]
  },
  {
   "cell_type": "code",
   "execution_count": null,
   "metadata": {},
   "outputs": [],
   "source": []
  }
 ],
 "metadata": {
  "kernelspec": {
   "display_name": "monai",
   "language": "python",
   "name": "python3"
  },
  "language_info": {
   "codemirror_mode": {
    "name": "ipython",
    "version": 3
   },
   "file_extension": ".py",
   "mimetype": "text/x-python",
   "name": "python",
   "nbconvert_exporter": "python",
   "pygments_lexer": "ipython3",
   "version": "3.12.4"
  }
 },
 "nbformat": 4,
 "nbformat_minor": 2
}
