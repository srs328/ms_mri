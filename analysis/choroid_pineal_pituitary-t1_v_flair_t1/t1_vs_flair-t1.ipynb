{
 "cells": [
  {
   "cell_type": "code",
   "execution_count": 1,
   "metadata": {},
   "outputs": [],
   "source": [
    "import pandas as pd\n",
    "from reload_recursive import reload_recursive\n",
    "from loguru import logger\n",
    "from pathlib import Path\n",
    "\n",
    "import numpy as np\n",
    "import statsmodels.api as sm\n",
    "import matplotlib.pyplot as plt\n",
    "import scipy.stats as stats\n",
    "from statsmodels.graphics.agreement import mean_diff_plot\n",
    "\n",
    "\n",
    "import mri_data\n",
    "import monai_training"
   ]
  },
  {
   "cell_type": "code",
   "execution_count": 8,
   "metadata": {},
   "outputs": [],
   "source": [
    "t1_analysis_dir = Path(r\"/home/srs-9/Projects/ms_mri/analysis/choroid_pineal_pituitary_crosstrain_t1\")\n",
    "df_t1 = pd.read_csv(t1_analysis_dir / \"dataframe.csv\")\n",
    "df_t1.set_index(\"subject_id\")\n",
    "\n",
    "rename_cols = {\"auto_label\": \"t1_label\",\n",
    "               \"choroid_vol_auto\": \"choroid_vol_t1\",\n",
    "               \"pineal_vol_auto\": \"pineal_vol_t1\",\n",
    "               \"pituitary_vol_auto\": \"pituitary_vol_t1\",\n",
    "               'choroid_dice': \"choroid_dice_t1\", \n",
    "               'pineal_dice': \"pineal_dice_t1\",\n",
    "               'pituitary_dice': \"pituitary_dice_t1\"}\n",
    "df_t1 = df_t1.rename(columns=rename_cols)"
   ]
  },
  {
   "cell_type": "code",
   "execution_count": 9,
   "metadata": {},
   "outputs": [],
   "source": [
    "flair_t1_analysis_dir = Path(r\"/home/srs-9/Projects/ms_mri/analysis/choroid_pineal_pituitary_crosstrain\")\n",
    "df_flair_t1 = pd.read_csv(flair_t1_analysis_dir / \"dataframe.csv\")\n",
    "df_flair_t1.set_index(\"subject_id\")\n",
    "\n",
    "rename_cols = {\"auto_label\": \"flair_t1_label\",\n",
    "               \"choroid_vol_auto\": \"choroid_vol_flair_t1\",\n",
    "               \"pineal_vol_auto\": \"pineal_vol_flair_t1\",\n",
    "               \"pituitary_vol_auto\": \"pituitary_vol_flair_t1\",\n",
    "               'choroid_dice': \"choroid_dice_flair_t1\", \n",
    "               'pineal_dice': \"pineal_dice_flair_t1\",\n",
    "               'pituitary_dice': \"pituitary_dice_flair_t1\"}\n",
    "df_flair_t1 = df_flair_t1.rename(columns=rename_cols)"
   ]
  },
  {
   "cell_type": "code",
   "execution_count": 10,
   "metadata": {},
   "outputs": [],
   "source": [
    "df = df_t1.join(df_flair_t1.loc[:, rename_cols.values()])"
   ]
  },
  {
   "cell_type": "code",
   "execution_count": 25,
   "metadata": {},
   "outputs": [
    {
     "name": "stdout",
     "output_type": "stream",
     "text": [
      "2.6737125153886154e-06\n",
      "0.698428828299513\n",
      "0.7289667982103709\n"
     ]
    }
   ],
   "source": [
    "data = df.loc[:, [\"choroid_dice_t1\", \"choroid_dice_flair_t1\"]].dropna()\n",
    "statistic, p_val = stats.wilcoxon(data['choroid_dice_t1'], data['choroid_dice_flair_t1'])\n",
    "print(p_val)\n",
    "print(data['choroid_dice_t1'].mean())\n",
    "print(data['choroid_dice_flair_t1'].mean())"
   ]
  },
  {
   "cell_type": "code",
   "execution_count": 26,
   "metadata": {},
   "outputs": [
    {
     "data": {
      "image/png": "[encoded data removed]",
      "text/plain": [
       "<Figure size 640x480 with 1 Axes>"
      ]
     },
     "metadata": {},
     "output_type": "display_data"
    }
   ],
   "source": [
    "plt.hist(data['choroid_dice_flair_t1'])\n",
    "plt.hist(data['choroid_dice_t1'])\n",
    "plt.show()"
   ]
  }
 ],
 "metadata": {
  "kernelspec": {
   "display_name": "monai",
   "language": "python",
   "name": "python3"
  },
  "language_info": {
   "codemirror_mode": {
    "name": "ipython",
    "version": 3
   },
   "file_extension": ".py",
   "mimetype": "text/x-python",
   "name": "python",
   "nbconvert_exporter": "python",
   "pygments_lexer": "ipython3",
   "version": "3.12.4"
  }
 },
 "nbformat": 4,
 "nbformat_minor": 2
}
