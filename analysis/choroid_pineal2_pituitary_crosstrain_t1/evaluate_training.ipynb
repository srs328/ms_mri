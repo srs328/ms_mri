{
 "cells": [
  {
   "cell_type": "code",
   "execution_count": 1,
   "metadata": {},
   "outputs": [],
   "source": [
    "import os\n",
    "from pathlib import Path\n",
    "import numpy as np\n",
    "import json\n",
    "from loguru import logger\n",
    "import platform\n",
    "import re \n",
    "import nibabel as nib\n",
    "import statistics\n",
    "import sys\n",
    "\n",
    "import mri_data\n",
    "import monai_training\n",
    "\n",
    "from reload_recursive import reload_recursive"
   ]
  },
  {
   "cell_type": "code",
   "execution_count": 2,
   "metadata": {},
   "outputs": [],
   "source": [
    "reload_recursive(mri_data)\n",
    "reload_recursive(monai_training)\n",
    "from mri_data.file_manager import scan_3Tpioneer_bids, DataSet, Scan  # noqa: E402, F401\n",
    "from mri_data import utils\n",
    "from mri_data import file_manager as fm\n",
    "from monai_training import preprocess  # noqa: E402\n",
    "from monai_training.preprocess import DataSetProcesser"
   ]
  },
  {
   "cell_type": "code",
   "execution_count": 3,
   "metadata": {},
   "outputs": [
    {
     "data": {
      "text/plain": [
       "1"
      ]
     },
     "execution_count": 3,
     "metadata": {},
     "output_type": "execute_result"
    }
   ],
   "source": [
    "logger.remove()\n",
    "logger.add(sys.stderr, level=\"INFO\")"
   ]
  },
  {
   "cell_type": "code",
   "execution_count": 4,
   "metadata": {},
   "outputs": [],
   "source": [
    "#! Set these variables\n",
    "work_dir_name = \"choroid_pineal2_pituitary_T1-1\""
   ]
  },
  {
   "cell_type": "code",
   "execution_count": 5,
   "metadata": {},
   "outputs": [],
   "source": [
    "# hostname = platform.node()\n",
    "# if hostname == \"rhinocampus\":\n",
    "#     drive_root = Path(\"/media/smbshare\")\n",
    "# else:\n",
    "#     drive_root = Path(\"/mnt/h\")\n",
    "drive_root = fm.get_drive_root()\n",
    "\n",
    "projects_root = Path(\"/home/srs-9/Projects\")\n",
    "\n",
    "msmri_home = projects_root / \"ms_mri\"\n",
    "training_work_dirs = msmri_home / \"training_work_dirs\"\n",
    "\n",
    "# dataroot = \"/media/hemondlab/Data/3Tpioneer_bids\"\n",
    "dataroot = drive_root / \"3Tpioneer_bids\"\n",
    "work_dir = training_work_dirs / work_dir_name\n",
    "ensemble_out_dir = work_dir / \"ensemble_output\""
   ]
  },
  {
   "cell_type": "markdown",
   "metadata": {},
   "source": [
    "Scan the ensemble_out folder produced during the monai training to collect the predicted labels into a DataSet struct. Create another DataSet object with the same subjects and sessions but rooted in the main data location, then collect the manual labels "
   ]
  },
  {
   "cell_type": "code",
   "execution_count": 6,
   "metadata": {},
   "outputs": [
    {
     "name": "stderr",
     "output_type": "stream",
     "text": [
      "\u001b[32m2025-03-10 13:19:18.841\u001b[0m | \u001b[1mINFO    \u001b[0m | \u001b[36mmonai_training.preprocess\u001b[0m:\u001b[36mprepare_labels\u001b[0m:\u001b[36m176\u001b[0m - \u001b[1mPrepare Labels\u001b[0m\n",
      "  0%|          | 0/10 [00:00<?, ?it/s]\u001b[32m2025-03-10 13:19:18.889\u001b[0m | \u001b[1mINFO    \u001b[0m | \u001b[36mmri_data.utils\u001b[0m:\u001b[36mcombine_labels\u001b[0m:\u001b[36m89\u001b[0m - \u001b[1mCombining labels for Scan(subid=2146, sesid=20191017)\u001b[0m\n",
      "\u001b[32m2025-03-10 13:19:18.896\u001b[0m | \u001b[32m\u001b[1mSUCCESS \u001b[0m | \u001b[36mmonai_training.preprocess\u001b[0m:\u001b[36mlog\u001b[0m:\u001b[36m22\u001b[0m - \u001b[32m\u001b[1mSaved /media/smbshare/3Tpioneer_bids/sub-ms2146/ses-20191017/choroid_t1_flair-ED.pineal-SRS.pituitary-CH.nii.gz\u001b[0m\n",
      "\u001b[32m2025-03-10 13:19:18.899\u001b[0m | \u001b[1mINFO    \u001b[0m | \u001b[36mmri_data.utils\u001b[0m:\u001b[36mcombine_labels\u001b[0m:\u001b[36m89\u001b[0m - \u001b[1mCombining labels for Scan(subid=1033, sesid=20171117)\u001b[0m\n",
      "\u001b[32m2025-03-10 13:19:18.905\u001b[0m | \u001b[32m\u001b[1mSUCCESS \u001b[0m | \u001b[36mmonai_training.preprocess\u001b[0m:\u001b[36mlog\u001b[0m:\u001b[36m22\u001b[0m - \u001b[32m\u001b[1mSaved /media/smbshare/3Tpioneer_bids/sub-ms1033/ses-20171117/choroid_t1_flair-CH.pineal-CH.pituitary-CH.nii.gz\u001b[0m\n",
      "\u001b[32m2025-03-10 13:19:18.908\u001b[0m | \u001b[1mINFO    \u001b[0m | \u001b[36mmri_data.utils\u001b[0m:\u001b[36mcombine_labels\u001b[0m:\u001b[36m89\u001b[0m - \u001b[1mCombining labels for Scan(subid=2081, sesid=20170204)\u001b[0m\n",
      "\u001b[32m2025-03-10 13:19:18.914\u001b[0m | \u001b[32m\u001b[1mSUCCESS \u001b[0m | \u001b[36mmonai_training.preprocess\u001b[0m:\u001b[36mlog\u001b[0m:\u001b[36m22\u001b[0m - \u001b[32m\u001b[1mSaved /media/smbshare/3Tpioneer_bids/sub-ms2081/ses-20170204/choroid_t1_flair-ED.pineal-SRS.pituitary-CH.nii.gz\u001b[0m\n",
      "\u001b[32m2025-03-10 13:19:18.916\u001b[0m | \u001b[1mINFO    \u001b[0m | \u001b[36mmri_data.utils\u001b[0m:\u001b[36mcombine_labels\u001b[0m:\u001b[36m89\u001b[0m - \u001b[1mCombining labels for Scan(subid=1437, sesid=20210503)\u001b[0m\n",
      "\u001b[32m2025-03-10 13:19:18.923\u001b[0m | \u001b[32m\u001b[1mSUCCESS \u001b[0m | \u001b[36mmonai_training.preprocess\u001b[0m:\u001b[36mlog\u001b[0m:\u001b[36m22\u001b[0m - \u001b[32m\u001b[1mSaved /media/smbshare/3Tpioneer_bids/sub-ms1437/ses-20210503/choroid_t1_flair-CH.pineal-SRS.pituitary-CH.nii.gz\u001b[0m\n",
      "\u001b[32m2025-03-10 13:19:18.925\u001b[0m | \u001b[1mINFO    \u001b[0m | \u001b[36mmri_data.utils\u001b[0m:\u001b[36mcombine_labels\u001b[0m:\u001b[36m89\u001b[0m - \u001b[1mCombining labels for Scan(subid=1010, sesid=20180208)\u001b[0m\n",
      "\u001b[32m2025-03-10 13:19:18.932\u001b[0m | \u001b[32m\u001b[1mSUCCESS \u001b[0m | \u001b[36mmonai_training.preprocess\u001b[0m:\u001b[36mlog\u001b[0m:\u001b[36m22\u001b[0m - \u001b[32m\u001b[1mSaved /media/smbshare/3Tpioneer_bids/sub-ms1010/ses-20180208/choroid_t1_flair-CH.pineal-CH.pituitary-CH.nii.gz\u001b[0m\n",
      "\u001b[32m2025-03-10 13:19:18.936\u001b[0m | \u001b[1mINFO    \u001b[0m | \u001b[36mmri_data.utils\u001b[0m:\u001b[36mcombine_labels\u001b[0m:\u001b[36m89\u001b[0m - \u001b[1mCombining labels for Scan(subid=1547, sesid=20220321)\u001b[0m\n",
      "\u001b[32m2025-03-10 13:19:18.942\u001b[0m | \u001b[32m\u001b[1mSUCCESS \u001b[0m | \u001b[36mmonai_training.preprocess\u001b[0m:\u001b[36mlog\u001b[0m:\u001b[36m22\u001b[0m - \u001b[32m\u001b[1mSaved /media/smbshare/3Tpioneer_bids/sub-ms1547/ses-20220321/choroid_t1_flair-ED.pineal-SRS.pituitary-CH.nii.gz\u001b[0m\n",
      "\u001b[32m2025-03-10 13:19:18.945\u001b[0m | \u001b[1mINFO    \u001b[0m | \u001b[36mmri_data.utils\u001b[0m:\u001b[36mcombine_labels\u001b[0m:\u001b[36m89\u001b[0m - \u001b[1mCombining labels for Scan(subid=2187, sesid=20200731)\u001b[0m\n",
      "\u001b[32m2025-03-10 13:19:18.951\u001b[0m | \u001b[32m\u001b[1mSUCCESS \u001b[0m | \u001b[36mmonai_training.preprocess\u001b[0m:\u001b[36mlog\u001b[0m:\u001b[36m22\u001b[0m - \u001b[32m\u001b[1mSaved /media/smbshare/3Tpioneer_bids/sub-ms2187/ses-20200731/choroid_t1_flair-ED.pineal-SRS.pituitary-CH.nii.gz\u001b[0m\n",
      " 70%|███████   | 7/10 [00:00<00:00, 64.46it/s]\u001b[32m2025-03-10 13:19:18.954\u001b[0m | \u001b[1mINFO    \u001b[0m | \u001b[36mmri_data.utils\u001b[0m:\u001b[36mcombine_labels\u001b[0m:\u001b[36m89\u001b[0m - \u001b[1mCombining labels for Scan(subid=2126, sesid=20181224)\u001b[0m\n",
      "\u001b[32m2025-03-10 13:19:18.961\u001b[0m | \u001b[32m\u001b[1mSUCCESS \u001b[0m | \u001b[36mmonai_training.preprocess\u001b[0m:\u001b[36mlog\u001b[0m:\u001b[36m22\u001b[0m - \u001b[32m\u001b[1mSaved /media/smbshare/3Tpioneer_bids/sub-ms2126/ses-20181224/choroid_t1_flair-ED.pineal-SRS.pituitary-SRS.nii.gz\u001b[0m\n",
      "\u001b[32m2025-03-10 13:19:18.963\u001b[0m | \u001b[1mINFO    \u001b[0m | \u001b[36mmri_data.utils\u001b[0m:\u001b[36mcombine_labels\u001b[0m:\u001b[36m89\u001b[0m - \u001b[1mCombining labels for Scan(subid=1119, sesid=20161010)\u001b[0m\n",
      "\u001b[32m2025-03-10 13:19:18.969\u001b[0m | \u001b[32m\u001b[1mSUCCESS \u001b[0m | \u001b[36mmonai_training.preprocess\u001b[0m:\u001b[36mlog\u001b[0m:\u001b[36m22\u001b[0m - \u001b[32m\u001b[1mSaved /media/smbshare/3Tpioneer_bids/sub-ms1119/ses-20161010/choroid_t1_flair-CH.pineal-CH.pituitary-CH.nii.gz\u001b[0m\n",
      "\u001b[32m2025-03-10 13:19:18.971\u001b[0m | \u001b[1mINFO    \u001b[0m | \u001b[36mmri_data.utils\u001b[0m:\u001b[36mcombine_labels\u001b[0m:\u001b[36m89\u001b[0m - \u001b[1mCombining labels for Scan(subid=1259, sesid=20200803)\u001b[0m\n",
      "\u001b[32m2025-03-10 13:19:18.978\u001b[0m | \u001b[32m\u001b[1mSUCCESS \u001b[0m | \u001b[36mmonai_training.preprocess\u001b[0m:\u001b[36mlog\u001b[0m:\u001b[36m22\u001b[0m - \u001b[32m\u001b[1mSaved /media/smbshare/3Tpioneer_bids/sub-ms1259/ses-20200803/choroid_t1_flair-ED.pineal-SRS.pituitary-CH.nii.gz\u001b[0m\n",
      "100%|██████████| 10/10 [00:00<00:00, 74.03it/s]\n",
      "\u001b[32m2025-03-10 13:19:18.978\u001b[0m | \u001b[1mINFO    \u001b[0m | \u001b[36mmonai_training.preprocess\u001b[0m:\u001b[36mprepare_labels\u001b[0m:\u001b[36m238\u001b[0m - \u001b[1mDataset size: 10\u001b[0m\n"
     ]
    }
   ],
   "source": [
    "labels = [\"choroid_t1_flair\", \"pineal\", \"pituitary\"]\n",
    "ensemble_out_dataset = scan_3Tpioneer_bids(ensemble_out_dir, label=\"t1_ensemble.nii.gz\")\n",
    "dataset = DataSet.dataset_like(ensemble_out_dataset)\n",
    "dataset.dataroot = dataroot\n",
    "dataset_proc = DataSetProcesser(dataset)\n",
    "dataset_proc.prepare_labels([\"choroid_t1_flair\", \"pineal\", \"pituitary\"], suffix_list=[\"CH\", \"SRS\", \"ED\", \"DT\"])\n",
    "dataset = dataset_proc.dataset\n",
    "dataset.sort()\n",
    "ensemble_out_dataset.sort()"
   ]
  },
  {
   "cell_type": "markdown",
   "metadata": {},
   "source": [
    "Calculate Dice Score for choroid"
   ]
  },
  {
   "cell_type": "code",
   "execution_count": 8,
   "metadata": {},
   "outputs": [
    {
     "name": "stdout",
     "output_type": "stream",
     "text": [
      "Dice Scores\n",
      "1010: 0.73\n",
      "1033: 0.77\n",
      "1119: 0.67\n",
      "1259: 0.60\n",
      "1437: 0.67\n",
      "1547: 0.74\n",
      "2081: 0.76\n",
      "2126: 0.76\n",
      "2146: 0.58\n",
      "2187: 0.73\n",
      "----------\n",
      "Mean: 0.70\n",
      "Std: 0.07\n",
      "[0.7307096374341494, 0.77152, 0.6692445794779727, 0.5991278094599127, 0.6666666666666666, 0.7399245283018868, 0.7567567567567568, 0.758714658794141, 0.5823765786452354, 0.7304015296367112]\n"
     ]
    }
   ],
   "source": [
    "dice_scores = []\n",
    "print(\"Dice Scores\")\n",
    "for scan, inference in zip(dataset, ensemble_out_dataset):\n",
    "    man_label = fm.find_label(scan, \"choroid_t1_flair\", [\"CH\", \"ED\", \"DT\"])\n",
    "    seg1 = nib.load(man_label).get_fdata()\n",
    "    seg2 = nib.load(inference.label_path).get_fdata()\n",
    "\n",
    "    # Calculate Dice score\n",
    "    score = utils.dice_score(seg1, seg2, seg2_val=1)\n",
    "    dice_scores.append(score)\n",
    "    print(\"{}: {:0.2f}\".format(scan.subid, score))\n",
    "print(\"----------\")\n",
    "print(\"Mean: {:0.2f}\".format(sum(dice_scores) / len(dice_scores)))\n",
    "print(\"Std: {:0.2f}\".format(statistics.stdev(dice_scores)))\n",
    "\n",
    "print(dice_scores)"
   ]
  },
  {
   "cell_type": "markdown",
   "metadata": {},
   "source": [
    "Calculate Hausdorff Distance for Choroid"
   ]
  },
  {
   "cell_type": "code",
   "execution_count": 14,
   "metadata": {},
   "outputs": [
    {
     "name": "stdout",
     "output_type": "stream",
     "text": [
      "Hausdorff Dist\n",
      "1010: 58.81\n",
      "1033: 1.41\n",
      "1119: 2.00\n",
      "1259: 2.00\n",
      "1437: 3.16\n",
      "1547: 3.16\n",
      "2081: 1.41\n",
      "2126: 2.21\n",
      "2146: 2.45\n",
      "2187: 1.41\n",
      "----------\n",
      "Mean: 7.80\n",
      "Std: 17.93\n",
      "[58.808932367209096, 1.4142135623730951, 2.0, 2.0, 3.1622776601683795, 3.1622776601683795, 1.4142135623730951, 2.212461179749725, 2.449489742783178, 1.4142135623730951]\n"
     ]
    }
   ],
   "source": [
    "haus = []\n",
    "print(\"Hausdorff Dist\")\n",
    "for scan, inference in zip(dataset, ensemble_out_dataset):\n",
    "    man_label = fm.find_label(scan, \"choroid_t1_flair\", [\"CH\", \"ED\", \"DT\"])\n",
    "    seg1 = nib.load(man_label).get_fdata()\n",
    "    seg2 = nib.load(inference.label_path).get_fdata()\n",
    "\n",
    "    # Calculate Dice score\n",
    "    score = utils.hausdorff_dist(seg1, seg2, seg2_val=1)\n",
    "    haus.append(score)\n",
    "    print(\"{}: {:0.2f}\".format(scan.subid, score))\n",
    "print(\"----------\")\n",
    "print(\"Mean: {:0.2f}\".format(sum(haus) / len(haus)))\n",
    "print(\"Std: {:0.2f}\".format(statistics.stdev(haus)))\n",
    "\n",
    "print(haus)"
   ]
  },
  {
   "cell_type": "markdown",
   "metadata": {},
   "source": [
    "Calculate Dice Score for pineal"
   ]
  },
  {
   "cell_type": "code",
   "execution_count": 7,
   "metadata": {},
   "outputs": [
    {
     "name": "stdout",
     "output_type": "stream",
     "text": [
      "Dice Scores\n",
      "1010: 0.84\n",
      "1033: 0.82\n",
      "1119: 0.59\n",
      "1259: 0.82\n",
      "1437: 0.78\n",
      "1547: 0.87\n",
      "2081: 0.79\n",
      "2126: 0.56\n",
      "2146: 0.00\n",
      "2187: 0.68\n",
      "----------\n",
      "Mean: 0.68\n",
      "Std: 0.26\n",
      "[0.8387096774193549, 0.8177613320999075, 0.5931558935361216, 0.8221859706362153, 0.7848101265822784, 0.8699106256206555, 0.7857142857142857, 0.5615384615384615, 0.0, 0.6772908366533864]\n"
     ]
    }
   ],
   "source": [
    "dice_scores = []\n",
    "print(\"Dice Scores\")\n",
    "for scan, inference in zip(dataset, ensemble_out_dataset):\n",
    "    label = fm.find_label(scan, \"pineal\", [\"SRS_T1\", \"CH\", \"SRS\"])\n",
    "    seg1 = nib.load(label).get_fdata()\n",
    "    seg2 = nib.load(inference.label_path).get_fdata()\n",
    "\n",
    "    # Calculate Dice score\n",
    "    score = utils.dice_score(seg1, seg2, seg2_val=2)\n",
    "    dice_scores.append(score)\n",
    "    print(\"{}: {:0.2f}\".format(scan.subid, score))\n",
    "print(\"----------\")\n",
    "print(\"Mean: {:0.2f}\".format(sum(dice_scores) / len(dice_scores)))\n",
    "print(\"Std: {:0.2f}\".format(statistics.stdev(dice_scores)))\n",
    "\n",
    "print(dice_scores)"
   ]
  },
  {
   "cell_type": "markdown",
   "metadata": {},
   "source": [
    "Calculate Hausdorff Dist for pineal"
   ]
  },
  {
   "cell_type": "code",
   "execution_count": 16,
   "metadata": {},
   "outputs": [
    {
     "name": "stdout",
     "output_type": "stream",
     "text": [
      "haus\n",
      "1010: 135.92\n",
      "1033: 1.41\n",
      "1119: 2.00\n",
      "1259: 1.00\n",
      "1437: 1.00\n",
      "1547: 3.32\n",
      "2081: 1.00\n",
      "2126: 1.41\n",
      "2146: 15.67\n",
      "2187: 1.41\n",
      "----------\n",
      "Mean: 16.41\n",
      "Std: 42.23\n",
      "[135.9154148726332, 1.4142135623730951, 2.0, 1.0, 1.0, 3.3166247903554, 1.0, 1.4142135623730951, 15.665240362042365, 1.4142135623730951]\n"
     ]
    }
   ],
   "source": [
    "haus = []\n",
    "print(\"haus\")\n",
    "for scan, inference in zip(dataset, ensemble_out_dataset):\n",
    "    label = fm.find_label(scan, \"pineal\", [\"CH\", \"SRS\"])\n",
    "    seg1 = nib.load(label).get_fdata()\n",
    "    seg2 = nib.load(inference.label_path).get_fdata()\n",
    "\n",
    "    # Calculate Dice score\n",
    "    score = utils.hausdorff_dist(seg1, seg2, seg2_val=2)\n",
    "    haus.append(score)\n",
    "    print(\"{}: {:0.2f}\".format(scan.subid, score))\n",
    "print(\"----------\")\n",
    "print(\"Mean: {:0.2f}\".format(sum(haus) / len(haus)))\n",
    "print(\"Std: {:0.2f}\".format(statistics.stdev(haus)))\n",
    "\n",
    "print(haus)"
   ]
  },
  {
   "cell_type": "markdown",
   "metadata": {},
   "source": [
    "Calculate DICE score for pituitary"
   ]
  },
  {
   "cell_type": "code",
   "execution_count": 16,
   "metadata": {},
   "outputs": [
    {
     "name": "stdout",
     "output_type": "stream",
     "text": [
      "Dice Scores\n",
      "1010: 0.78\n",
      "1033: 0.80\n",
      "1119: 0.83\n",
      "1259: 0.87\n",
      "1437: 0.89\n",
      "1547: 0.85\n",
      "2081: 0.83\n",
      "2126: 0.87\n",
      "2146: 0.83\n",
      "2187: 0.84\n",
      "----------\n",
      "Mean: 0.84\n",
      "Std: 0.03\n",
      "[0.7754991905018889, 0.7983320697498104, 0.832258064516129, 0.8744152572867938, 0.8856947296372347, 0.8515171078114913, 0.8250876509544215, 0.8696997833488084, 0.8270732614354779, 0.8442115292996665]\n"
     ]
    }
   ],
   "source": [
    "dice_scores = []\n",
    "print(\"Dice Scores\")\n",
    "for scan, inference in zip(dataset, ensemble_out_dataset):\n",
    "    label = fm.find_label(scan, \"pituitary\", [\"CH\", \"ED\", \"DT\", \"SRS\"])\n",
    "    seg1 = nib.load(label).get_fdata()\n",
    "    seg2 = nib.load(inference.label_path).get_fdata()\n",
    "\n",
    "    # Calculate Dice score\n",
    "    score = utils.dice_score(seg1, seg2, seg2_val=3)\n",
    "    dice_scores.append(score)\n",
    "    print(\"{}: {:0.2f}\".format(scan.subid, score))\n",
    "print(\"----------\")\n",
    "print(\"Mean: {:0.2f}\".format(sum(dice_scores) / len(dice_scores)))\n",
    "print(\"Std: {:0.2f}\".format(statistics.stdev(dice_scores)))\n",
    "\n",
    "print(dice_scores)"
   ]
  },
  {
   "cell_type": "markdown",
   "metadata": {},
   "source": [
    "Calculate Hausdorff Dist for pituitary"
   ]
  },
  {
   "cell_type": "code",
   "execution_count": 11,
   "metadata": {},
   "outputs": [
    {
     "name": "stdout",
     "output_type": "stream",
     "text": [
      "haus\n",
      "1010: 2.00\n",
      "1033: 1.73\n",
      "1119: 1.73\n",
      "1259: 1.00\n",
      "1437: 1.00\n",
      "1547: 1.41\n",
      "2081: 1.73\n",
      "2126: 2.00\n",
      "2146: 3.00\n",
      "2187: 1.41\n",
      "----------\n",
      "Mean: 1.70\n",
      "Std: 0.58\n",
      "[2.0, 1.7320508075688772, 1.7320508075688772, 1.0, 1.0, 1.4142135623730951, 1.7320508075688772, 2.0, 3.0, 1.4142135623730951]\n"
     ]
    }
   ],
   "source": [
    "haus = []\n",
    "print(\"haus\")\n",
    "for scan, inference in zip(dataset, ensemble_out_dataset):\n",
    "    label = fm.find_label(scan, \"pituitary\", [\"CH\", \"SRS\", \"ED\", \"DT\"])\n",
    "    seg1 = nib.load(label).get_fdata()\n",
    "    seg2 = nib.load(inference.label_path).get_fdata()\n",
    "\n",
    "    # Calculate Dice score\n",
    "    score = utils.hausdorff_dist(seg1, seg2, seg2_val=3)\n",
    "    haus.append(score)\n",
    "    print(\"{}: {:0.2f}\".format(scan.subid, score))\n",
    "print(\"----------\")\n",
    "print(\"Mean: {:0.2f}\".format(sum(haus) / len(haus)))\n",
    "print(\"Std: {:0.2f}\".format(statistics.stdev(haus)))\n",
    "\n",
    "print(haus)"
   ]
  },
  {
   "cell_type": "markdown",
   "metadata": {},
   "source": [
    "Save a new version of the predicted label that has a labelling index of 2 so that it appears as a different color in itksnap"
   ]
  },
  {
   "cell_type": "code",
   "execution_count": null,
   "metadata": {},
   "outputs": [
    {
     "data": {
      "text/plain": [
       "PosixPath('/home/srs-9/Projects/ms_mri/training_work_dirs/pineal1/ensemble_output/sub-ms1010/ses-20180208/flair.t1_ensemble_val2.nii.gz')"
      ]
     },
     "metadata": {},
     "output_type": "display_data"
    }
   ],
   "source": [
    "inference: Scan = ensemble_out_dataset[0]\n",
    "label_path = inference.label_path\n",
    "new_label_path = label_path.with_name(f\"{fm.nifti_name(label_path)}_val2.nii.gz\")\n",
    "utils.set_label_value(label_path, new_label_path, 2)"
   ]
  },
  {
   "cell_type": "code",
   "execution_count": 11,
   "metadata": {},
   "outputs": [
    {
     "name": "stdout",
     "output_type": "stream",
     "text": [
      "itksnap -g H:/3Tpioneer_bids/sub-ms1010/ses-20180208/flair.nii.gz -o H:/3Tpioneer_bids/sub-ms1010/ses-20180208/t1.nii.gz -s H:/3Tpioneer_bids/sub-ms1010/ses-20180208/choroid_t1_flair-CH.pineal-CH.pituitary-CH.nii.gz\n",
      "itksnap -g H:/3Tpioneer_bids/sub-ms1033/ses-20171117/flair.nii.gz -o H:/3Tpioneer_bids/sub-ms1033/ses-20171117/t1.nii.gz -s H:/3Tpioneer_bids/sub-ms1033/ses-20171117/choroid_t1_flair-CH.pineal-CH.pituitary-CH.nii.gz\n",
      "itksnap -g H:/3Tpioneer_bids/sub-ms1119/ses-20161010/flair.nii.gz -o H:/3Tpioneer_bids/sub-ms1119/ses-20161010/t1.nii.gz -s H:/3Tpioneer_bids/sub-ms1119/ses-20161010/choroid_t1_flair-CH.pineal-CH.pituitary-CH.nii.gz\n",
      "itksnap -g H:/3Tpioneer_bids/sub-ms1259/ses-20200803/flair.nii.gz -o H:/3Tpioneer_bids/sub-ms1259/ses-20200803/t1.nii.gz -s H:/3Tpioneer_bids/sub-ms1259/ses-20200803/choroid_t1_flair-ED.pineal-SRS.pituitary-CH.nii.gz\n",
      "itksnap -g H:/3Tpioneer_bids/sub-ms1437/ses-20210503/flair.nii.gz -o H:/3Tpioneer_bids/sub-ms1437/ses-20210503/t1.nii.gz -s H:/3Tpioneer_bids/sub-ms1437/ses-20210503/choroid_t1_flair-CH.pineal-SRS.pituitary-CH.nii.gz\n",
      "itksnap -g H:/3Tpioneer_bids/sub-ms1547/ses-20220321/flair.nii.gz -o H:/3Tpioneer_bids/sub-ms1547/ses-20220321/t1.nii.gz -s H:/3Tpioneer_bids/sub-ms1547/ses-20220321/choroid_t1_flair-ED.pineal-SRS.pituitary-CH.nii.gz\n",
      "itksnap -g H:/3Tpioneer_bids/sub-ms2081/ses-20170204/flair.nii.gz -o H:/3Tpioneer_bids/sub-ms2081/ses-20170204/t1.nii.gz -s H:/3Tpioneer_bids/sub-ms2081/ses-20170204/choroid_t1_flair-ED.pineal-SRS.pituitary-CH.nii.gz\n",
      "itksnap -g H:/3Tpioneer_bids/sub-ms2126/ses-20181224/flair.nii.gz -o H:/3Tpioneer_bids/sub-ms2126/ses-20181224/t1.nii.gz -s H:/3Tpioneer_bids/sub-ms2126/ses-20181224/choroid_t1_flair-ED.pineal-SRS.pituitary-SRS.nii.gz\n",
      "itksnap -g H:/3Tpioneer_bids/sub-ms2146/ses-20191017/flair.nii.gz -o H:/3Tpioneer_bids/sub-ms2146/ses-20191017/t1.nii.gz -s H:/3Tpioneer_bids/sub-ms2146/ses-20191017/choroid_t1_flair-ED.pineal-SRS.pituitary-CH.nii.gz\n",
      "itksnap -g H:/3Tpioneer_bids/sub-ms2187/ses-20200731/flair.nii.gz -o H:/3Tpioneer_bids/sub-ms2187/ses-20200731/t1.nii.gz -s H:/3Tpioneer_bids/sub-ms2187/ses-20200731/choroid_t1_flair-ED.pineal-SRS.pituitary-CH.nii.gz\n"
     ]
    }
   ],
   "source": [
    "for scan, inference in zip(dataset, ensemble_out_dataset):\n",
    "    flair = scan.root / \"flair.nii.gz\"\n",
    "    t1 = scan.root / \"t1.nii.gz\"\n",
    "    images = [flair, t1]\n",
    "    manual = scan.label_path\n",
    "    prediction = inference.label_path\n",
    "    labels = [manual]\n",
    "    cmd = utils.open_itksnap_workspace_cmd(images, labels, win=True)\n",
    "    print(cmd)"
   ]
  },
  {
   "cell_type": "markdown",
   "metadata": {},
   "source": [
    "Produce commands to open images and labels in freeview"
   ]
  },
  {
   "cell_type": "code",
   "execution_count": 1,
   "metadata": {},
   "outputs": [
    {
     "data": {
      "text/plain": [
       "['one', '-g', 'twp', '-g', 'three']"
      ]
     },
     "execution_count": 1,
     "metadata": {},
     "output_type": "execute_result"
    }
   ],
   "source": [
    "image_paths = [\"one\", \"twp\", \"three\"]\n",
    "step1 = \" -g \".join(image_paths)\n",
    "step1.split(\" \")"
   ]
  },
  {
   "cell_type": "code",
   "execution_count": null,
   "metadata": {},
   "outputs": [
    {
     "name": "stdout",
     "output_type": "stream",
     "text": [
      "freeview /media/smbshare/3Tpioneer_bids/sub-ms1010/ses-20180208/flair.nii.gz /media/smbshare/3Tpioneer_bids/sub-ms1010/ses-20180208/t1.nii.gz /home/srs-9/Projects/ms_mri/training_work_dirs/pineal1/ensemble_output/sub-ms1010/ses-20180208/flair.t1_ensemble.nii.gz:colormap=heat /media/smbshare/3Tpioneer_bids/sub-ms1010/ses-20180208/pineal-CH.nii.gz:colormap=heat\n",
      "freeview /media/smbshare/3Tpioneer_bids/sub-ms1029/ses-20170816/flair.nii.gz /media/smbshare/3Tpioneer_bids/sub-ms1029/ses-20170816/t1.nii.gz /home/srs-9/Projects/ms_mri/training_work_dirs/pineal1/ensemble_output/sub-ms1029/ses-20170816/flair.t1_ensemble.nii.gz:colormap=heat /media/smbshare/3Tpioneer_bids/sub-ms1029/ses-20170816/pineal-SRS.nii.gz:colormap=heat\n",
      "freeview /media/smbshare/3Tpioneer_bids/sub-ms1188/ses-20200720/flair.nii.gz /media/smbshare/3Tpioneer_bids/sub-ms1188/ses-20200720/t1.nii.gz /home/srs-9/Projects/ms_mri/training_work_dirs/pineal1/ensemble_output/sub-ms1188/ses-20200720/flair.t1_ensemble.nii.gz:colormap=heat /media/smbshare/3Tpioneer_bids/sub-ms1188/ses-20200720/pineal-CH.nii.gz:colormap=heat\n",
      "freeview /media/smbshare/3Tpioneer_bids/sub-ms1265/ses-20180127/flair.nii.gz /media/smbshare/3Tpioneer_bids/sub-ms1265/ses-20180127/t1.nii.gz /home/srs-9/Projects/ms_mri/training_work_dirs/pineal1/ensemble_output/sub-ms1265/ses-20180127/flair.t1_ensemble.nii.gz:colormap=heat /media/smbshare/3Tpioneer_bids/sub-ms1265/ses-20180127/pineal-SRS.nii.gz:colormap=heat\n",
      "freeview /media/smbshare/3Tpioneer_bids/sub-ms1272/ses-20211105/flair.nii.gz /media/smbshare/3Tpioneer_bids/sub-ms1272/ses-20211105/t1.nii.gz /home/srs-9/Projects/ms_mri/training_work_dirs/pineal1/ensemble_output/sub-ms1272/ses-20211105/flair.t1_ensemble.nii.gz:colormap=heat /media/smbshare/3Tpioneer_bids/sub-ms1272/ses-20211105/pineal-SRS.nii.gz:colormap=heat\n",
      "freeview /media/smbshare/3Tpioneer_bids/sub-ms1280/ses-20220317/flair.nii.gz /media/smbshare/3Tpioneer_bids/sub-ms1280/ses-20220317/t1.nii.gz /home/srs-9/Projects/ms_mri/training_work_dirs/pineal1/ensemble_output/sub-ms1280/ses-20220317/flair.t1_ensemble.nii.gz:colormap=heat /media/smbshare/3Tpioneer_bids/sub-ms1280/ses-20220317/pineal-SRS.nii.gz:colormap=heat\n",
      "freeview /media/smbshare/3Tpioneer_bids/sub-ms1321/ses-20201020/flair.nii.gz /media/smbshare/3Tpioneer_bids/sub-ms1321/ses-20201020/t1.nii.gz /home/srs-9/Projects/ms_mri/training_work_dirs/pineal1/ensemble_output/sub-ms1321/ses-20201020/flair.t1_ensemble.nii.gz:colormap=heat /media/smbshare/3Tpioneer_bids/sub-ms1321/ses-20201020/pineal-SRS.nii.gz:colormap=heat\n",
      "freeview /media/smbshare/3Tpioneer_bids/sub-ms2187/ses-20200731/flair.nii.gz /media/smbshare/3Tpioneer_bids/sub-ms2187/ses-20200731/t1.nii.gz /home/srs-9/Projects/ms_mri/training_work_dirs/pineal1/ensemble_output/sub-ms2187/ses-20200731/flair.t1_ensemble.nii.gz:colormap=heat /media/smbshare/3Tpioneer_bids/sub-ms2187/ses-20200731/pineal-SRS.nii.gz:colormap=heat\n"
     ]
    }
   ],
   "source": [
    "for scan, inference in zip(dataset, ensemble_out_dataset):\n",
    "    flair = scan.root / \"flair.nii.gz\"\n",
    "    t1 = scan.root / \"t1.nii.gz\"\n",
    "    manual = scan.label_path\n",
    "    prediction = inference.label_path\n",
    "    print(\"freeview\", flair, t1, f\"{prediction}:colormap=heat\", f\"{manual}:colormap=heat\")"
   ]
  }
 ],
 "metadata": {
  "kernelspec": {
   "display_name": "monai",
   "language": "python",
   "name": "python3"
  },
  "language_info": {
   "codemirror_mode": {
    "name": "ipython",
    "version": 3
   },
   "file_extension": ".py",
   "mimetype": "text/x-python",
   "name": "python",
   "nbconvert_exporter": "python",
   "pygments_lexer": "ipython3",
   "version": "3.12.4"
  }
 },
 "nbformat": 4,
 "nbformat_minor": 2
}
