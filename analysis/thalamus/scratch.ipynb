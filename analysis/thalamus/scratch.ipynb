{
 "cells": [
  {
   "cell_type": "code",
   "execution_count": 1,
   "id": "a6f47a70",
   "metadata": {},
   "outputs": [],
   "source": [
    "from pathlib import Path\n",
    "import pandas as pd"
   ]
  },
  {
   "cell_type": "code",
   "execution_count": 27,
   "id": "44e28805",
   "metadata": {},
   "outputs": [],
   "source": [
    "data_dir = Path(\"/home/srs-9/Projects/ms_mri/data\")\n",
    "choroid_dists = pd.read_csv(data_dir / \"centroid-choroid_SDT.csv\", index_col=\"subid\")\n",
    "mni_dist = pd.read_csv(\"/home/srs-9/Projects/ms_mri/data/mni-centroid-choroid_SDT.csv\", index_col=\"struct\")\n",
    "\n",
    "hips_thomas_ref = pd.read_csv(\n",
    "    \"/home/srs-9/Projects/ms_mri/data/hipsthomas_struct_index.csv\", index_col=\"index\"\n",
    ")['struct']\n",
    "\n",
    "mni_dist['struct_name'] = hips_thomas_ref\n",
    "\n",
    "mean_dists = choroid_dists.mean()"
   ]
  },
  {
   "cell_type": "code",
   "execution_count": 23,
   "id": "6c5c14a3",
   "metadata": {},
   "outputs": [
    {
     "data": {
      "application/vnd.microsoft.datawrangler.viewer.v0+json": {
       "columns": [
        {
         "name": "struct",
         "rawType": "float64",
         "type": "float"
        },
        {
         "name": "dist",
         "rawType": "float64",
         "type": "float"
        },
        {
         "name": "struct_name",
         "rawType": "object",
         "type": "string"
        }
       ],
       "ref": "c1dde5de-1c82-4154-853b-7353cc87b8c5",
       "rows": [
        [
         "2.0",
         "5.099019527435303",
         "AV_2"
        ],
        [
         "8.0",
         "8.5440034866333",
         "Pul_8"
        ],
        [
         "4.0",
         "10.24695110321045",
         "VA_4"
        ],
        [
         "12.0",
         "11.090536117553713",
         "MD_Pf_12"
        ],
        [
         "6.0",
         "11.224971771240234",
         "VLP_6"
        ],
        [
         "7.0",
         "12.04159450531006",
         "VPL_7"
        ],
        [
         "27.0",
         "12.206555366516112",
         "Cau_27"
        ],
        [
         "11.0",
         "13.928388595581056",
         "CM_11"
        ],
        [
         "13.0",
         "15.264337539672852",
         "Hb_13"
        ],
        [
         "5.0",
         "16.792856216430664",
         "VLa_5"
        ],
        [
         "10.0",
         "17.291616439819336",
         "MGN_10"
        ],
        [
         "9.0",
         "17.72004508972168",
         "LGN_9"
        ],
        [
         "14.0",
         "17.8885440826416",
         "MTT_14"
        ],
        [
         "29.0",
         "19.131126403808597",
         "GPe_29"
        ],
        [
         "30.0",
         "20.2237491607666",
         "GPi_30"
        ],
        [
         "26.0",
         "23.853721618652344",
         "Acc_26"
        ],
        [
         "31.0",
         "24.26932144165039",
         "Put_31"
        ],
        [
         "32.0",
         "26.191600799560547",
         "RN_32"
        ],
        [
         "28.0",
         "30.82206916809082",
         "Cla_28"
        ]
       ],
       "shape": {
        "columns": 2,
        "rows": 19
       }
      },
      "text/html": [
       "<div>\n",
       "<style scoped>\n",
       "    .dataframe tbody tr th:only-of-type {\n",
       "        vertical-align: middle;\n",
       "    }\n",
       "\n",
       "    .dataframe tbody tr th {\n",
       "        vertical-align: top;\n",
       "    }\n",
       "\n",
       "    .dataframe thead th {\n",
       "        text-align: right;\n",
       "    }\n",
       "</style>\n",
       "<table border=\"1\" class=\"dataframe\">\n",
       "  <thead>\n",
       "    <tr style=\"text-align: right;\">\n",
       "      <th></th>\n",
       "      <th>dist</th>\n",
       "      <th>struct_name</th>\n",
       "    </tr>\n",
       "    <tr>\n",
       "      <th>struct</th>\n",
       "      <th></th>\n",
       "      <th></th>\n",
       "    </tr>\n",
       "  </thead>\n",
       "  <tbody>\n",
       "    <tr>\n",
       "      <th>2.0</th>\n",
       "      <td>5.099020</td>\n",
       "      <td>AV_2</td>\n",
       "    </tr>\n",
       "    <tr>\n",
       "      <th>8.0</th>\n",
       "      <td>8.544003</td>\n",
       "      <td>Pul_8</td>\n",
       "    </tr>\n",
       "    <tr>\n",
       "      <th>4.0</th>\n",
       "      <td>10.246951</td>\n",
       "      <td>VA_4</td>\n",
       "    </tr>\n",
       "    <tr>\n",
       "      <th>12.0</th>\n",
       "      <td>11.090536</td>\n",
       "      <td>MD_Pf_12</td>\n",
       "    </tr>\n",
       "    <tr>\n",
       "      <th>6.0</th>\n",
       "      <td>11.224972</td>\n",
       "      <td>VLP_6</td>\n",
       "    </tr>\n",
       "    <tr>\n",
       "      <th>7.0</th>\n",
       "      <td>12.041595</td>\n",
       "      <td>VPL_7</td>\n",
       "    </tr>\n",
       "    <tr>\n",
       "      <th>27.0</th>\n",
       "      <td>12.206555</td>\n",
       "      <td>Cau_27</td>\n",
       "    </tr>\n",
       "    <tr>\n",
       "      <th>11.0</th>\n",
       "      <td>13.928389</td>\n",
       "      <td>CM_11</td>\n",
       "    </tr>\n",
       "    <tr>\n",
       "      <th>13.0</th>\n",
       "      <td>15.264338</td>\n",
       "      <td>Hb_13</td>\n",
       "    </tr>\n",
       "    <tr>\n",
       "      <th>5.0</th>\n",
       "      <td>16.792856</td>\n",
       "      <td>VLa_5</td>\n",
       "    </tr>\n",
       "    <tr>\n",
       "      <th>10.0</th>\n",
       "      <td>17.291616</td>\n",
       "      <td>MGN_10</td>\n",
       "    </tr>\n",
       "    <tr>\n",
       "      <th>9.0</th>\n",
       "      <td>17.720045</td>\n",
       "      <td>LGN_9</td>\n",
       "    </tr>\n",
       "    <tr>\n",
       "      <th>14.0</th>\n",
       "      <td>17.888544</td>\n",
       "      <td>MTT_14</td>\n",
       "    </tr>\n",
       "    <tr>\n",
       "      <th>29.0</th>\n",
       "      <td>19.131126</td>\n",
       "      <td>GPe_29</td>\n",
       "    </tr>\n",
       "    <tr>\n",
       "      <th>30.0</th>\n",
       "      <td>20.223749</td>\n",
       "      <td>GPi_30</td>\n",
       "    </tr>\n",
       "    <tr>\n",
       "      <th>26.0</th>\n",
       "      <td>23.853722</td>\n",
       "      <td>Acc_26</td>\n",
       "    </tr>\n",
       "    <tr>\n",
       "      <th>31.0</th>\n",
       "      <td>24.269321</td>\n",
       "      <td>Put_31</td>\n",
       "    </tr>\n",
       "    <tr>\n",
       "      <th>32.0</th>\n",
       "      <td>26.191601</td>\n",
       "      <td>RN_32</td>\n",
       "    </tr>\n",
       "    <tr>\n",
       "      <th>28.0</th>\n",
       "      <td>30.822069</td>\n",
       "      <td>Cla_28</td>\n",
       "    </tr>\n",
       "  </tbody>\n",
       "</table>\n",
       "</div>"
      ],
      "text/plain": [
       "             dist struct_name\n",
       "struct                       \n",
       "2.0      5.099020        AV_2\n",
       "8.0      8.544003       Pul_8\n",
       "4.0     10.246951        VA_4\n",
       "12.0    11.090536    MD_Pf_12\n",
       "6.0     11.224972       VLP_6\n",
       "7.0     12.041595       VPL_7\n",
       "27.0    12.206555      Cau_27\n",
       "11.0    13.928389       CM_11\n",
       "13.0    15.264338       Hb_13\n",
       "5.0     16.792856       VLa_5\n",
       "10.0    17.291616      MGN_10\n",
       "9.0     17.720045       LGN_9\n",
       "14.0    17.888544      MTT_14\n",
       "29.0    19.131126      GPe_29\n",
       "30.0    20.223749      GPi_30\n",
       "26.0    23.853722      Acc_26\n",
       "31.0    24.269321      Put_31\n",
       "32.0    26.191601       RN_32\n",
       "28.0    30.822069      Cla_28"
      ]
     },
     "execution_count": 23,
     "metadata": {},
     "output_type": "execute_result"
    }
   ],
   "source": [
    "mni_dist.sort_values(by=\"dist\")"
   ]
  },
  {
   "cell_type": "code",
   "execution_count": 29,
   "id": "0f18b609",
   "metadata": {},
   "outputs": [
    {
     "data": {
      "application/vnd.microsoft.datawrangler.viewer.v0+json": {
       "columns": [
        {
         "name": "index",
         "rawType": "object",
         "type": "string"
        },
        {
         "name": "0",
         "rawType": "float64",
         "type": "float"
        }
       ],
       "ref": "6107d835-eb82-4bfb-8dad-2ac0b8032712",
       "rows": [
        [
         "2",
         "3.810523885279371"
        ],
        [
         "8",
         "6.731393007960236"
        ],
        [
         "12",
         "8.369156435079741"
        ],
        [
         "4",
         "8.52123067797276"
        ],
        [
         "6",
         "9.841956131918389"
        ],
        [
         "7",
         "10.33225288223802"
        ],
        [
         "27",
         "11.079665053518195"
        ],
        [
         "11",
         "11.434895411708899"
        ],
        [
         "13",
         "11.476881095101838"
        ],
        [
         "5",
         "13.213170997720015"
        ],
        [
         "10",
         "13.62746831659685"
        ],
        [
         "14",
         "14.467418026505856"
        ],
        [
         "9",
         "14.873023427996719"
        ],
        [
         "29",
         "15.664045342227869"
        ],
        [
         "30",
         "16.314313630890428"
        ],
        [
         "26",
         "18.83214508525112"
        ],
        [
         "31",
         "20.248547021966232"
        ],
        [
         "32",
         "20.693488529272248"
        ],
        [
         "28",
         "26.099218957465993"
        ]
       ],
       "shape": {
        "columns": 1,
        "rows": 19
       }
      },
      "text/plain": [
       "2      3.810524\n",
       "8      6.731393\n",
       "12     8.369156\n",
       "4      8.521231\n",
       "6      9.841956\n",
       "7     10.332253\n",
       "27    11.079665\n",
       "11    11.434895\n",
       "13    11.476881\n",
       "5     13.213171\n",
       "10    13.627468\n",
       "14    14.467418\n",
       "9     14.873023\n",
       "29    15.664045\n",
       "30    16.314314\n",
       "26    18.832145\n",
       "31    20.248547\n",
       "32    20.693489\n",
       "28    26.099219\n",
       "dtype: float64"
      ]
     },
     "execution_count": 29,
     "metadata": {},
     "output_type": "execute_result"
    }
   ],
   "source": [
    "mean_dists.sort_values()"
   ]
  },
  {
   "cell_type": "code",
   "execution_count": 20,
   "id": "b7f64bdd",
   "metadata": {},
   "outputs": [
    {
     "name": "stdout",
     "output_type": "stream",
     "text": [
      "(0, 'THALAMUS_1')\n",
      "(1, 'AV_2')\n",
      "(2, 'VA_4')\n",
      "(3, 'VLa_5')\n",
      "(4, 'VLP_6')\n",
      "(5, 'VPL_7')\n",
      "(6, 'Pul_8')\n",
      "(7, 'LGN_9')\n",
      "(8, 'MGN_10')\n",
      "(9, 'CM_11')\n",
      "(10, 'MD_Pf_12')\n",
      "(11, 'Hb_13')\n",
      "(12, 'MTT_14')\n",
      "(13, 'Acc_26')\n",
      "(14, 'Cau_27')\n",
      "(15, 'Cla_28')\n",
      "(16, 'GPe_29')\n",
      "(17, 'GPi_30')\n",
      "(18, 'Put_31')\n",
      "(19, 'RN_32')\n",
      "(20, 'GP_33')\n",
      "(21, 'Amy_34')\n"
     ]
    }
   ],
   "source": [
    "for i in enumerate(hips_thomas_ref):\n",
    "    print(i)"
   ]
  }
 ],
 "metadata": {
  "kernelspec": {
   "display_name": "monai",
   "language": "python",
   "name": "python3"
  },
  "language_info": {
   "codemirror_mode": {
    "name": "ipython",
    "version": 3
   },
   "file_extension": ".py",
   "mimetype": "text/x-python",
   "name": "python",
   "nbconvert_exporter": "python",
   "pygments_lexer": "ipython3",
   "version": "3.12.7"
  }
 },
 "nbformat": 4,
 "nbformat_minor": 5
}
