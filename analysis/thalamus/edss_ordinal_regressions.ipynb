{
 "cells": [
  {
   "cell_type": "code",
   "execution_count": 1,
   "id": "76cab6dd",
   "metadata": {},
   "outputs": [],
   "source": [
    "import pandas as pd\n",
    "from warnings import simplefilter\n",
    "simplefilter(action=\"ignore\", category=pd.errors.PerformanceWarning)\n",
    "from pathlib import Path\n",
    "import json\n",
    "import numpy as np\n",
    "from collections import defaultdict\n",
    "import matplotlib.pyplot as plt\n",
    "from datetime import datetime\n",
    "import re\n",
    "from scipy import stats\n",
    "import numpy as np\n",
    "import statsmodels.api as sm\n",
    "import statsmodels\n",
    "from matplotlib import colormaps\n",
    "from tqdm.notebook import tqdm\n",
    "import helpers\n",
    "from collections import defaultdict\n",
    "from tqdm.notebook import tqdm\n",
    "from statsmodels.miscmodels.ordinal_model import OrderedModel\n",
    "\n",
    "\n",
    "from statsmodels.stats.outliers_influence import variance_inflation_factor\n",
    "from statsmodels.regression.linear_model import OLS\n",
    "\n",
    "from mri_data import file_manager as fm"
   ]
  },
  {
   "cell_type": "markdown",
   "id": "890635c5",
   "metadata": {},
   "source": [
    "## Load Data"
   ]
  },
  {
   "cell_type": "code",
   "execution_count": 2,
   "id": "000132f9",
   "metadata": {},
   "outputs": [],
   "source": [
    "drive_root = fm.get_drive_root()\n",
    "dataroot = drive_root / \"3Tpioneer_bids\"\n",
    "data_dir = Path(\"/home/srs-9/Projects/ms_mri/data\")\n",
    "fig_path = Path(\"/home/srs-9/Projects/ms_mri/analysis/thalamus/figures_tables/edss_regressions\")\n",
    "\n",
    "choroid_volumes = pd.read_csv(\n",
    "    \"/home/srs-9/Projects/ms_mri/data/choroid_aschoplex_volumes.csv\", index_col=\"subid\"\n",
    ").dropna()\n",
    "tiv = pd.read_csv(\"/home/srs-9/Projects/ms_mri/data/tiv_data.csv\", index_col=\"subid\")\n",
    "\n",
    "df = pd.read_csv(\n",
    "    \"/home/srs-9/Projects/ms_mri/data/clinical_data_processed.csv\", index_col=\"subid\"\n",
    ")\n",
    "sdmt = pd.read_csv(\"/home/srs-9/Projects/ms_mri/analysis/thalamus/SDMT_sheet.csv\", index_col=\"subid\")\n",
    "df = df.join([choroid_volumes, tiv, sdmt['SDMT']])\n",
    "df['SDMT'] = pd.to_numeric(df['SDMT'], errors='coerce')\n",
    "df['thalamus_sqrt'] = np.sqrt(df['thalamus'])\n",
    "df['thalamus_curt'] = np.sqrt(df['thalamus']**3)\n",
    "df_z = df.copy()\n",
    "numeric_cols = df.select_dtypes(include='number').columns\n",
    "df_z[numeric_cols] = df_z[numeric_cols].apply(stats.zscore, nan_policy=\"omit\")\n",
    "\n",
    "df_ms = df[df['dz_type2'] == \"MS\"]\n",
    "df_ms_z = df_ms.copy()\n",
    "df_ms_z[numeric_cols] = df_ms_z[numeric_cols].apply(stats.zscore, nan_policy=\"omit\")\n",
    "\n",
    "# assert df.loc[1340, 'EDSS'] == 2.5\n",
    "\n",
    "\n",
    "viridis = colormaps['viridis'].resampled(20)\n",
    "\n",
    "colors = helpers.get_colors()"
   ]
  },
  {
   "cell_type": "code",
   "execution_count": 4,
   "id": "9d2c1d85",
   "metadata": {},
   "outputs": [],
   "source": [
    "df_thomas = pd.read_csv(data_dir / \"hipsthomas_vols.csv\", index_col=\"subid\")\n",
    "cols_orig = df_thomas.columns\n",
    "new_colnames = {}\n",
    "for col in df_thomas.columns:\n",
    "    new_col = re.sub(r\"(\\d+)-([\\w-]+)\", r\"\\2_\\1\", col)\n",
    "    new_col = re.sub(\"-\", \"_\", new_col)\n",
    "    new_colnames[col] = new_col\n",
    "df_thomas = df_thomas.rename(columns=new_colnames)\n",
    "df_thomas_norm = df_thomas.apply(lambda col: col / df_thomas['THALAMUS_1'])\n",
    "df_thomas_z = df_thomas.apply(stats.zscore, nan_policy=\"omit\")\n",
    "df_thomas_norm_z = df_thomas_norm.apply(stats.zscore, nan_policy=\"omit\")\n",
    "\n",
    "df_thomas_left = pd.read_csv(data_dir / \"hipsthomas_left_vols.csv\", index_col=\"subid\")\n",
    "df_thomas_left = df_thomas_left.rename(columns=new_colnames)\n",
    "df_thomas_left_norm = df_thomas_left.apply(lambda col: col / df_thomas['THALAMUS_1'])\n",
    "df_thomas_left_z = df_thomas_left.apply(stats.zscore, nan_policy=\"omit\")\n",
    "df_thomas_left_norm_z = df_thomas_left_norm.apply(stats.zscore, nan_policy=\"omit\")\n",
    "\n",
    "\n",
    "df_thomas_right = pd.read_csv(data_dir / \"hipsthomas_right_vols.csv\", index_col=\"subid\")\n",
    "df_thomas_right = df_thomas_right.rename(columns=new_colnames)\n",
    "df_thomas_right_norm = df_thomas_right.apply(lambda col: col / df_thomas['THALAMUS_1'])\n",
    "df_thomas_right_z = df_thomas_right.apply(stats.zscore, nan_policy=\"omit\")\n",
    "df_thomas_right_norm_z = df_thomas_right_norm.apply(stats.zscore, nan_policy=\"omit\")\n",
    "\n",
    "\n",
    "thalamic_nuclei = [2, 4, 5, 6, 7, 8, 9, 10, 11, 12]\n",
    "thalamic_nuclei_str = [str(i) for i in thalamic_nuclei]\n",
    "\n",
    "hips_thomas_ref = pd.read_csv(\n",
    "    \"/home/srs-9/Projects/ms_mri/data/hipsthomas_struct_index.csv\", index_col=\"index\"\n",
    ")['struct']\n",
    "# hips_thomas_ref.rename(columns={\"struct\": \"struct_name\"}, inplace=True)\n",
    "\n",
    "choroid_dists = pd.read_csv(data_dir / \"centroid-choroid_centroid-left.csv\", index_col=\"subid\")\n",
    "ventricle_dists = pd.read_csv(\n",
    "    data_dir / \"centroid-ventricle_SDT.csv\", index_col=\"subid\"\n",
    ")\n",
    "\n",
    "mni_choroid_dists = pd.read_csv(\"/home/srs-9/Projects/ms_mri/data/mni-centroid-choroid_SDT2.csv\")\n",
    "\n",
    "def combine_nuclei(df):\n",
    "    df2 = pd.DataFrame()\n",
    "    df2['anterior'] = df['AV_2']\n",
    "    df2['ventral'] = df['VA_4'] + df['VLa_5'] + df['VLP_6'] + df['VPL_7']\n",
    "    df2['intralaminar'] = df['CM_11'] \n",
    "    df2['medial'] = df['MD_Pf_12']\n",
    "    df2['posterior'] = df['Pul_8'] + df['LGN_9'] + df['MGN_10']\n",
    "    df2['THALAMUS_1'] = df['THALAMUS_1']\n",
    "    return df2\n",
    "\n",
    "df_thomas2 = combine_nuclei(df_thomas)\n",
    "grouped_nuclei = df_thomas2.columns[~df_thomas2.columns.isin([\"THALAMUS_1\"])]\n",
    "df_thomas2_z = df_thomas2.apply(stats.zscore, nan_policy=\"omit\")\n",
    "df_thomas2_norm = df_thomas2.apply(lambda col: col / df_thomas['THALAMUS_1'])\n",
    "df_thomas2_norm_z = df_thomas2_norm.apply(stats.zscore, nan_policy=\"omit\")\n",
    "\n",
    "df_thomas2_left = combine_nuclei(df_thomas_left)\n",
    "df_thomas2_left_z = df_thomas2_left.apply(stats.zscore, nan_policy=\"omit\")\n",
    "df_thomas2_norm_left = df_thomas2.apply(lambda col: col / df_thomas['THALAMUS_1'])\n",
    "df_thomas2_norm_left_z = df_thomas2_norm_left.apply(stats.zscore, nan_policy=\"omit\")\n",
    "\n",
    "df_thomas2_right = combine_nuclei(df_thomas_right)\n",
    "df_thomas2_right_z = df_thomas2_right.apply(stats.zscore, nan_policy=\"omit\")\n",
    "df_thomas2_norm_right = df_thomas2.apply(lambda col: col / df_thomas['THALAMUS_1'])\n",
    "df_thomas2_norm_right_z = df_thomas2_norm_right.apply(stats.zscore, nan_policy=\"omit\")"
   ]
  },
  {
   "cell_type": "markdown",
   "id": "4488e439",
   "metadata": {},
   "source": [
    "## Functions"
   ]
  },
  {
   "cell_type": "code",
   "execution_count": 5,
   "id": "93866caf",
   "metadata": {},
   "outputs": [],
   "source": [
    "def compute_se_diff(se1, n1, se2, n2):\n",
    "    return np.sqrt((se1**2/n1) + (se2**2/n2))\n",
    "\n",
    "def plot_regression(\n",
    "    data, predictor, outcome, covariates, xlabel=None, ylabel=None, title=None,\n",
    "    color=\"blue1\"\n",
    "):\n",
    "    plus_covariates = \"\"\n",
    "    if len(covariates) > 0:\n",
    "        plus_covariates = f\"+ {' + '.join(covariates)}\"\n",
    "    if xlabel is None:\n",
    "        xlabel = predictor\n",
    "    if ylabel is None:\n",
    "        ylabel = outcome\n",
    "    if title is None:\n",
    "        title = f\"{outcome} vs {predictor}\"\n",
    "    \n",
    "    light_color = colors[f\"light {color}\"]\n",
    "    dark_color = colors[f\"dark {color}\"]\n",
    "\n",
    "    formula = f\"{outcome} ~ {predictor} {plus_covariates}\"\n",
    "    res = sm.OLS.from_formula(formula, data=data).fit()\n",
    "    x, y_pred, y_lims = helpers.get_regression_y(data, res, predictor, outcome)\n",
    "\n",
    "    fig, axs = plt.subplot_mosaic(\n",
    "        [['histx', '.'], ['scatter', 'histy']],\n",
    "        figsize=(8, 6),\n",
    "        width_ratios=(4, 1),\n",
    "        height_ratios=(1, 4),\n",
    "        layout='constrained',\n",
    "    )\n",
    "\n",
    "    helpers.scatter_hist(\n",
    "        data[predictor],\n",
    "        data[outcome],\n",
    "        axs['scatter'],\n",
    "        axs['histx'],\n",
    "        axs['histy'],\n",
    "        light_color=light_color,\n",
    "        dark_color=dark_color,\n",
    "    )\n",
    "\n",
    "    axs['scatter'].plot(x, y_pred, color=\"black\")\n",
    "    axs['scatter'].fill_between(\n",
    "        x, y_lims[0], y_lims[1], alpha=0.4, color=light_color\n",
    "    )\n",
    "    axs['scatter'].set_ylabel(ylabel)\n",
    "    axs['scatter'].set_xlabel(xlabel)\n",
    "    fig.suptitle(title)\n",
    "    return fig, axs"
   ]
  },
  {
   "cell_type": "markdown",
   "id": "7be765ec",
   "metadata": {},
   "source": [
    "## Main MRI Features"
   ]
  },
  {
   "cell_type": "markdown",
   "id": "b14d7fc9",
   "metadata": {},
   "source": [
    "### Regressions"
   ]
  },
  {
   "cell_type": "markdown",
   "id": "0110daa7",
   "metadata": {},
   "source": [
    "#### MS Patients"
   ]
  },
  {
   "cell_type": "code",
   "execution_count": 15,
   "id": "feabb417",
   "metadata": {},
   "outputs": [
    {
     "name": "stdout",
     "output_type": "stream",
     "text": [
      "Optimization terminated successfully.\n",
      "         Current function value: 2.165988\n",
      "         Iterations: 61\n",
      "         Function evaluations: 62\n",
      "         Gradient evaluations: 62\n"
     ]
    },
    {
     "data": {
      "text/html": [
       "<table class=\"simpletable\">\n",
       "<caption>OrderedModel Results</caption>\n",
       "<tr>\n",
       "  <th>Dep. Variable:</th>           <td>EDSS</td>        <th>  Log-Likelihood:    </th> <td> -981.19</td>\n",
       "</tr>\n",
       "<tr>\n",
       "  <th>Model:</th>               <td>OrderedModel</td>    <th>  AIC:               </th> <td>   2006.</td>\n",
       "</tr>\n",
       "<tr>\n",
       "  <th>Method:</th>           <td>Maximum Likelihood</td> <th>  BIC:               </th> <td>   2097.</td>\n",
       "</tr>\n",
       "<tr>\n",
       "  <th>Date:</th>              <td>Wed, 25 Jun 2025</td>  <th>                     </th>     <td> </td>   \n",
       "</tr>\n",
       "<tr>\n",
       "  <th>Time:</th>                  <td>14:38:54</td>      <th>                     </th>     <td> </td>   \n",
       "</tr>\n",
       "<tr>\n",
       "  <th>No. Observations:</th>       <td>   453</td>       <th>                     </th>     <td> </td>   \n",
       "</tr>\n",
       "<tr>\n",
       "  <th>Df Residuals:</th>           <td>   431</td>       <th>                     </th>     <td> </td>   \n",
       "</tr>\n",
       "<tr>\n",
       "  <th>Df Model:</th>               <td>     4</td>       <th>                     </th>     <td> </td>   \n",
       "</tr>\n",
       "</table>\n",
       "<table class=\"simpletable\">\n",
       "<tr>\n",
       "       <td></td>         <th>coef</th>     <th>std err</th>      <th>z</th>      <th>P>|z|</th>  <th>[0.025</th>    <th>0.975]</th>  \n",
       "</tr>\n",
       "<tr>\n",
       "  <th>THALAMUS_1</th> <td>   -0.5772</td> <td>    0.100</td> <td>   -5.756</td> <td> 0.000</td> <td>   -0.774</td> <td>   -0.381</td>\n",
       "</tr>\n",
       "<tr>\n",
       "  <th>tiv</th>        <td>    0.0525</td> <td>    0.112</td> <td>    0.468</td> <td> 0.640</td> <td>   -0.168</td> <td>    0.273</td>\n",
       "</tr>\n",
       "<tr>\n",
       "  <th>age</th>        <td>    0.7414</td> <td>    0.095</td> <td>    7.778</td> <td> 0.000</td> <td>    0.555</td> <td>    0.928</td>\n",
       "</tr>\n",
       "<tr>\n",
       "  <th>Female</th>     <td>   -0.1020</td> <td>    0.100</td> <td>   -1.016</td> <td> 0.310</td> <td>   -0.299</td> <td>    0.095</td>\n",
       "</tr>\n",
       "<tr>\n",
       "  <th>0.0/0.5</th>    <td>   -4.1098</td> <td>    0.313</td> <td>  -13.137</td> <td> 0.000</td> <td>   -4.723</td> <td>   -3.497</td>\n",
       "</tr>\n",
       "<tr>\n",
       "  <th>0.5/1.0</th>    <td>   -1.3513</td> <td>    0.574</td> <td>   -2.353</td> <td> 0.019</td> <td>   -2.477</td> <td>   -0.226</td>\n",
       "</tr>\n",
       "<tr>\n",
       "  <th>1.0/1.5</th>    <td>    0.7190</td> <td>    0.127</td> <td>    5.680</td> <td> 0.000</td> <td>    0.471</td> <td>    0.967</td>\n",
       "</tr>\n",
       "<tr>\n",
       "  <th>1.5/2.0</th>    <td>    0.4174</td> <td>    0.084</td> <td>    4.964</td> <td> 0.000</td> <td>    0.253</td> <td>    0.582</td>\n",
       "</tr>\n",
       "<tr>\n",
       "  <th>2.0/2.5</th>    <td>   -0.2318</td> <td>    0.112</td> <td>   -2.073</td> <td> 0.038</td> <td>   -0.451</td> <td>   -0.013</td>\n",
       "</tr>\n",
       "<tr>\n",
       "  <th>2.5/3.0</th>    <td>   -1.1912</td> <td>    0.194</td> <td>   -6.130</td> <td> 0.000</td> <td>   -1.572</td> <td>   -0.810</td>\n",
       "</tr>\n",
       "<tr>\n",
       "  <th>3.0/3.5</th>    <td>   -0.9879</td> <td>    0.179</td> <td>   -5.504</td> <td> 0.000</td> <td>   -1.340</td> <td>   -0.636</td>\n",
       "</tr>\n",
       "<tr>\n",
       "  <th>3.5/4.0</th>    <td>   -1.1748</td> <td>    0.207</td> <td>   -5.668</td> <td> 0.000</td> <td>   -1.581</td> <td>   -0.769</td>\n",
       "</tr>\n",
       "<tr>\n",
       "  <th>4.0/4.5</th>    <td>   -1.1638</td> <td>    0.218</td> <td>   -5.348</td> <td> 0.000</td> <td>   -1.590</td> <td>   -0.737</td>\n",
       "</tr>\n",
       "<tr>\n",
       "  <th>4.5/5.0</th>    <td>   -2.7105</td> <td>    0.497</td> <td>   -5.454</td> <td> 0.000</td> <td>   -3.684</td> <td>   -1.737</td>\n",
       "</tr>\n",
       "<tr>\n",
       "  <th>5.0/5.5</th>    <td>   -2.1081</td> <td>    0.374</td> <td>   -5.636</td> <td> 0.000</td> <td>   -2.841</td> <td>   -1.375</td>\n",
       "</tr>\n",
       "<tr>\n",
       "  <th>5.5/6.0</th>    <td>   -2.1952</td> <td>    0.405</td> <td>   -5.425</td> <td> 0.000</td> <td>   -2.988</td> <td>   -1.402</td>\n",
       "</tr>\n",
       "<tr>\n",
       "  <th>6.0/6.5</th>    <td>   -0.1326</td> <td>    0.162</td> <td>   -0.817</td> <td> 0.414</td> <td>   -0.451</td> <td>    0.186</td>\n",
       "</tr>\n",
       "<tr>\n",
       "  <th>6.5/7.0</th>    <td>    0.0800</td> <td>    0.211</td> <td>    0.380</td> <td> 0.704</td> <td>   -0.333</td> <td>    0.493</td>\n",
       "</tr>\n",
       "<tr>\n",
       "  <th>7.0/7.5</th>    <td>   -1.0232</td> <td>    0.497</td> <td>   -2.057</td> <td> 0.040</td> <td>   -1.998</td> <td>   -0.048</td>\n",
       "</tr>\n",
       "<tr>\n",
       "  <th>7.5/8.0</th>    <td>   -0.9779</td> <td>    0.575</td> <td>   -1.699</td> <td> 0.089</td> <td>   -2.106</td> <td>    0.150</td>\n",
       "</tr>\n",
       "<tr>\n",
       "  <th>8.0/8.5</th>    <td>   -0.1326</td> <td>    0.509</td> <td>   -0.261</td> <td> 0.794</td> <td>   -1.130</td> <td>    0.865</td>\n",
       "</tr>\n",
       "<tr>\n",
       "  <th>8.5/9.0</th>    <td>    0.1028</td> <td>    0.740</td> <td>    0.139</td> <td> 0.890</td> <td>   -1.348</td> <td>    1.554</td>\n",
       "</tr>\n",
       "</table>"
      ],
      "text/latex": [
       "\\begin{center}\n",
       "\\begin{tabular}{lclc}\n",
       "\\toprule\n",
       "\\textbf{Dep. Variable:}    &        EDSS        & \\textbf{  Log-Likelihood:    } &   -981.19   \\\\\n",
       "\\textbf{Model:}            &    OrderedModel    & \\textbf{  AIC:               } &     2006.   \\\\\n",
       "\\textbf{Method:}           & Maximum Likelihood & \\textbf{  BIC:               } &     2097.   \\\\\n",
       "\\textbf{Date:}             &  Wed, 25 Jun 2025  & \\textbf{                     } &             \\\\\n",
       "\\textbf{Time:}             &      14:38:54      & \\textbf{                     } &             \\\\\n",
       "\\textbf{No. Observations:} &          453       & \\textbf{                     } &             \\\\\n",
       "\\textbf{Df Residuals:}     &          431       & \\textbf{                     } &             \\\\\n",
       "\\textbf{Df Model:}         &            4       & \\textbf{                     } &             \\\\\n",
       "\\bottomrule\n",
       "\\end{tabular}\n",
       "\\begin{tabular}{lcccccc}\n",
       "                     & \\textbf{coef} & \\textbf{std err} & \\textbf{z} & \\textbf{P$> |$z$|$} & \\textbf{[0.025} & \\textbf{0.975]}  \\\\\n",
       "\\midrule\n",
       "\\textbf{THALAMUS\\_1} &      -0.5772  &        0.100     &    -5.756  &         0.000        &       -0.774    &       -0.381     \\\\\n",
       "\\textbf{tiv}         &       0.0525  &        0.112     &     0.468  &         0.640        &       -0.168    &        0.273     \\\\\n",
       "\\textbf{age}         &       0.7414  &        0.095     &     7.778  &         0.000        &        0.555    &        0.928     \\\\\n",
       "\\textbf{Female}      &      -0.1020  &        0.100     &    -1.016  &         0.310        &       -0.299    &        0.095     \\\\\n",
       "\\textbf{0.0/0.5}     &      -4.1098  &        0.313     &   -13.137  &         0.000        &       -4.723    &       -3.497     \\\\\n",
       "\\textbf{0.5/1.0}     &      -1.3513  &        0.574     &    -2.353  &         0.019        &       -2.477    &       -0.226     \\\\\n",
       "\\textbf{1.0/1.5}     &       0.7190  &        0.127     &     5.680  &         0.000        &        0.471    &        0.967     \\\\\n",
       "\\textbf{1.5/2.0}     &       0.4174  &        0.084     &     4.964  &         0.000        &        0.253    &        0.582     \\\\\n",
       "\\textbf{2.0/2.5}     &      -0.2318  &        0.112     &    -2.073  &         0.038        &       -0.451    &       -0.013     \\\\\n",
       "\\textbf{2.5/3.0}     &      -1.1912  &        0.194     &    -6.130  &         0.000        &       -1.572    &       -0.810     \\\\\n",
       "\\textbf{3.0/3.5}     &      -0.9879  &        0.179     &    -5.504  &         0.000        &       -1.340    &       -0.636     \\\\\n",
       "\\textbf{3.5/4.0}     &      -1.1748  &        0.207     &    -5.668  &         0.000        &       -1.581    &       -0.769     \\\\\n",
       "\\textbf{4.0/4.5}     &      -1.1638  &        0.218     &    -5.348  &         0.000        &       -1.590    &       -0.737     \\\\\n",
       "\\textbf{4.5/5.0}     &      -2.7105  &        0.497     &    -5.454  &         0.000        &       -3.684    &       -1.737     \\\\\n",
       "\\textbf{5.0/5.5}     &      -2.1081  &        0.374     &    -5.636  &         0.000        &       -2.841    &       -1.375     \\\\\n",
       "\\textbf{5.5/6.0}     &      -2.1952  &        0.405     &    -5.425  &         0.000        &       -2.988    &       -1.402     \\\\\n",
       "\\textbf{6.0/6.5}     &      -0.1326  &        0.162     &    -0.817  &         0.414        &       -0.451    &        0.186     \\\\\n",
       "\\textbf{6.5/7.0}     &       0.0800  &        0.211     &     0.380  &         0.704        &       -0.333    &        0.493     \\\\\n",
       "\\textbf{7.0/7.5}     &      -1.0232  &        0.497     &    -2.057  &         0.040        &       -1.998    &       -0.048     \\\\\n",
       "\\textbf{7.5/8.0}     &      -0.9779  &        0.575     &    -1.699  &         0.089        &       -2.106    &        0.150     \\\\\n",
       "\\textbf{8.0/8.5}     &      -0.1326  &        0.509     &    -0.261  &         0.794        &       -1.130    &        0.865     \\\\\n",
       "\\textbf{8.5/9.0}     &       0.1028  &        0.740     &     0.139  &         0.890        &       -1.348    &        1.554     \\\\\n",
       "\\bottomrule\n",
       "\\end{tabular}\n",
       "%\\caption{OrderedModel Results}\n",
       "\\end{center}"
      ],
      "text/plain": [
       "<class 'statsmodels.iolib.summary.Summary'>\n",
       "\"\"\"\n",
       "                             OrderedModel Results                             \n",
       "==============================================================================\n",
       "Dep. Variable:                   EDSS   Log-Likelihood:                -981.19\n",
       "Model:                   OrderedModel   AIC:                             2006.\n",
       "Method:            Maximum Likelihood   BIC:                             2097.\n",
       "Date:                Wed, 25 Jun 2025                                         \n",
       "Time:                        14:38:54                                         \n",
       "No. Observations:                 453                                         \n",
       "Df Residuals:                     431                                         \n",
       "Df Model:                           4                                         \n",
       "==============================================================================\n",
       "                 coef    std err          z      P>|z|      [0.025      0.975]\n",
       "------------------------------------------------------------------------------\n",
       "THALAMUS_1    -0.5772      0.100     -5.756      0.000      -0.774      -0.381\n",
       "tiv            0.0525      0.112      0.468      0.640      -0.168       0.273\n",
       "age            0.7414      0.095      7.778      0.000       0.555       0.928\n",
       "Female        -0.1020      0.100     -1.016      0.310      -0.299       0.095\n",
       "0.0/0.5       -4.1098      0.313    -13.137      0.000      -4.723      -3.497\n",
       "0.5/1.0       -1.3513      0.574     -2.353      0.019      -2.477      -0.226\n",
       "1.0/1.5        0.7190      0.127      5.680      0.000       0.471       0.967\n",
       "1.5/2.0        0.4174      0.084      4.964      0.000       0.253       0.582\n",
       "2.0/2.5       -0.2318      0.112     -2.073      0.038      -0.451      -0.013\n",
       "2.5/3.0       -1.1912      0.194     -6.130      0.000      -1.572      -0.810\n",
       "3.0/3.5       -0.9879      0.179     -5.504      0.000      -1.340      -0.636\n",
       "3.5/4.0       -1.1748      0.207     -5.668      0.000      -1.581      -0.769\n",
       "4.0/4.5       -1.1638      0.218     -5.348      0.000      -1.590      -0.737\n",
       "4.5/5.0       -2.7105      0.497     -5.454      0.000      -3.684      -1.737\n",
       "5.0/5.5       -2.1081      0.374     -5.636      0.000      -2.841      -1.375\n",
       "5.5/6.0       -2.1952      0.405     -5.425      0.000      -2.988      -1.402\n",
       "6.0/6.5       -0.1326      0.162     -0.817      0.414      -0.451       0.186\n",
       "6.5/7.0        0.0800      0.211      0.380      0.704      -0.333       0.493\n",
       "7.0/7.5       -1.0232      0.497     -2.057      0.040      -1.998      -0.048\n",
       "7.5/8.0       -0.9779      0.575     -1.699      0.089      -2.106       0.150\n",
       "8.0/8.5       -0.1326      0.509     -0.261      0.794      -1.130       0.865\n",
       "8.5/9.0        0.1028      0.740      0.139      0.890      -1.348       1.554\n",
       "==============================================================================\n",
       "\"\"\""
      ]
     },
     "execution_count": 15,
     "metadata": {},
     "output_type": "execute_result"
    }
   ],
   "source": [
    "model_data = df_z.join([df_thomas_z])\n",
    "model_data = model_data[model_data['dz_type2'] == \"MS\"]\n",
    "model_data['EDSS'] = df['EDSS']\n",
    "\n",
    "mod_prob = OrderedModel.from_formula(\"EDSS ~ THALAMUS_1 + tiv + age + Female\",\n",
    "                                     data=model_data, distr='logit')\n",
    "res_prob = mod_prob.fit(method='bfgs')\n",
    "res_prob.summary()"
   ]
  },
  {
   "cell_type": "code",
   "execution_count": 14,
   "id": "e784a51c",
   "metadata": {},
   "outputs": [
    {
     "data": {
      "application/vnd.microsoft.datawrangler.viewer.v0+json": {
       "columns": [
        {
         "name": "structure",
         "rawType": "object",
         "type": "string"
        },
        {
         "name": "coef",
         "rawType": "float64",
         "type": "float"
        },
        {
         "name": "llci",
         "rawType": "float64",
         "type": "float"
        },
        {
         "name": "ulci",
         "rawType": "float64",
         "type": "float"
        },
        {
         "name": "pvals",
         "rawType": "float64",
         "type": "float"
        },
        {
         "name": "ci",
         "rawType": "object",
         "type": "string"
        },
        {
         "name": "p_fdr",
         "rawType": "float64",
         "type": "float"
        }
       ],
       "ref": "500531b6-ce56-49c9-bc1e-f3498bb02d6d",
       "rows": [
        [
         "brain",
         "-0.16746346648197252",
         "-0.3569232025427596",
         "0.021996269578814565",
         "0.08320019276662569",
         "[-0.356923, 0.021996]",
         "0.1109335903555009"
        ],
        [
         "white",
         "-0.05987488821540141",
         "-0.23681452495532382",
         "0.117064748524521",
         "0.5071798253367582",
         "[-0.236815, 0.117065]",
         "0.5071798253367582"
        ],
        [
         "grey",
         "-0.2258601490279419",
         "-0.42580713950724924",
         "-0.0259131585486346",
         "0.0268304576666665",
         "[-0.425807, -0.025913]",
         "0.04392405366209972"
        ],
        [
         "cortical_thickness",
         "-0.4035211919197747",
         "-0.5924473561964861",
         "-0.21459502764306324",
         "2.8363503443498633e-05",
         "[-0.592447, -0.214595]",
         "0.00011345401377399453"
        ],
        [
         "THALAMUS_1",
         "-0.5772501397004041",
         "-0.7738033020494861",
         "-0.380696977351322",
         "8.60539313968885e-09",
         "[-0.773803, -0.380697]",
         "6.88431451175108e-08"
        ],
        [
         "t2lv",
         "0.1965376793206138",
         "0.021842492541670172",
         "0.3712328660995574",
         "0.027452533538812322",
         "[0.021842, 0.371233]",
         "0.04392405366209972"
        ],
        [
         "PRL",
         "0.193982721905173",
         "0.02839109033697182",
         "0.3595743534733742",
         "0.021675618101305055",
         "[0.028391, 0.359574]",
         "0.04392405366209972"
        ],
        [
         "choroid_volume",
         "0.13243672051584934",
         "-0.048713563552934935",
         "0.3135870045846336",
         "0.1518849019699049",
         "[-0.048714, 0.313587]",
         "0.17358274510846272"
        ]
       ],
       "shape": {
        "columns": 6,
        "rows": 8
       }
      },
      "text/html": [
       "<div>\n",
       "<style scoped>\n",
       "    .dataframe tbody tr th:only-of-type {\n",
       "        vertical-align: middle;\n",
       "    }\n",
       "\n",
       "    .dataframe tbody tr th {\n",
       "        vertical-align: top;\n",
       "    }\n",
       "\n",
       "    .dataframe thead th {\n",
       "        text-align: right;\n",
       "    }\n",
       "</style>\n",
       "<table border=\"1\" class=\"dataframe\">\n",
       "  <thead>\n",
       "    <tr style=\"text-align: right;\">\n",
       "      <th></th>\n",
       "      <th>coef</th>\n",
       "      <th>llci</th>\n",
       "      <th>ulci</th>\n",
       "      <th>pvals</th>\n",
       "      <th>ci</th>\n",
       "      <th>p_fdr</th>\n",
       "    </tr>\n",
       "    <tr>\n",
       "      <th>structure</th>\n",
       "      <th></th>\n",
       "      <th></th>\n",
       "      <th></th>\n",
       "      <th></th>\n",
       "      <th></th>\n",
       "      <th></th>\n",
       "    </tr>\n",
       "  </thead>\n",
       "  <tbody>\n",
       "    <tr>\n",
       "      <th>brain</th>\n",
       "      <td>-0.167463</td>\n",
       "      <td>-0.356923</td>\n",
       "      <td>0.021996</td>\n",
       "      <td>8.320019e-02</td>\n",
       "      <td>[-0.356923, 0.021996]</td>\n",
       "      <td>1.109336e-01</td>\n",
       "    </tr>\n",
       "    <tr>\n",
       "      <th>white</th>\n",
       "      <td>-0.059875</td>\n",
       "      <td>-0.236815</td>\n",
       "      <td>0.117065</td>\n",
       "      <td>5.071798e-01</td>\n",
       "      <td>[-0.236815, 0.117065]</td>\n",
       "      <td>5.071798e-01</td>\n",
       "    </tr>\n",
       "    <tr>\n",
       "      <th>grey</th>\n",
       "      <td>-0.225860</td>\n",
       "      <td>-0.425807</td>\n",
       "      <td>-0.025913</td>\n",
       "      <td>2.683046e-02</td>\n",
       "      <td>[-0.425807, -0.025913]</td>\n",
       "      <td>4.392405e-02</td>\n",
       "    </tr>\n",
       "    <tr>\n",
       "      <th>cortical_thickness</th>\n",
       "      <td>-0.403521</td>\n",
       "      <td>-0.592447</td>\n",
       "      <td>-0.214595</td>\n",
       "      <td>2.836350e-05</td>\n",
       "      <td>[-0.592447, -0.214595]</td>\n",
       "      <td>1.134540e-04</td>\n",
       "    </tr>\n",
       "    <tr>\n",
       "      <th>THALAMUS_1</th>\n",
       "      <td>-0.577250</td>\n",
       "      <td>-0.773803</td>\n",
       "      <td>-0.380697</td>\n",
       "      <td>8.605393e-09</td>\n",
       "      <td>[-0.773803, -0.380697]</td>\n",
       "      <td>6.884315e-08</td>\n",
       "    </tr>\n",
       "    <tr>\n",
       "      <th>t2lv</th>\n",
       "      <td>0.196538</td>\n",
       "      <td>0.021842</td>\n",
       "      <td>0.371233</td>\n",
       "      <td>2.745253e-02</td>\n",
       "      <td>[0.021842, 0.371233]</td>\n",
       "      <td>4.392405e-02</td>\n",
       "    </tr>\n",
       "    <tr>\n",
       "      <th>PRL</th>\n",
       "      <td>0.193983</td>\n",
       "      <td>0.028391</td>\n",
       "      <td>0.359574</td>\n",
       "      <td>2.167562e-02</td>\n",
       "      <td>[0.028391, 0.359574]</td>\n",
       "      <td>4.392405e-02</td>\n",
       "    </tr>\n",
       "    <tr>\n",
       "      <th>choroid_volume</th>\n",
       "      <td>0.132437</td>\n",
       "      <td>-0.048714</td>\n",
       "      <td>0.313587</td>\n",
       "      <td>1.518849e-01</td>\n",
       "      <td>[-0.048714, 0.313587]</td>\n",
       "      <td>1.735827e-01</td>\n",
       "    </tr>\n",
       "  </tbody>\n",
       "</table>\n",
       "</div>"
      ],
      "text/plain": [
       "                        coef      llci      ulci         pvals  \\\n",
       "structure                                                        \n",
       "brain              -0.167463 -0.356923  0.021996  8.320019e-02   \n",
       "white              -0.059875 -0.236815  0.117065  5.071798e-01   \n",
       "grey               -0.225860 -0.425807 -0.025913  2.683046e-02   \n",
       "cortical_thickness -0.403521 -0.592447 -0.214595  2.836350e-05   \n",
       "THALAMUS_1         -0.577250 -0.773803 -0.380697  8.605393e-09   \n",
       "t2lv                0.196538  0.021842  0.371233  2.745253e-02   \n",
       "PRL                 0.193983  0.028391  0.359574  2.167562e-02   \n",
       "choroid_volume      0.132437 -0.048714  0.313587  1.518849e-01   \n",
       "\n",
       "                                        ci         p_fdr  \n",
       "structure                                                 \n",
       "brain                [-0.356923, 0.021996]  1.109336e-01  \n",
       "white                [-0.236815, 0.117065]  5.071798e-01  \n",
       "grey                [-0.425807, -0.025913]  4.392405e-02  \n",
       "cortical_thickness  [-0.592447, -0.214595]  1.134540e-04  \n",
       "THALAMUS_1          [-0.773803, -0.380697]  6.884315e-08  \n",
       "t2lv                  [0.021842, 0.371233]  4.392405e-02  \n",
       "PRL                   [0.028391, 0.359574]  4.392405e-02  \n",
       "choroid_volume       [-0.048714, 0.313587]  1.735827e-01  "
      ]
     },
     "execution_count": 14,
     "metadata": {},
     "output_type": "execute_result"
    }
   ],
   "source": [
    "model_data = df_ms_z.copy()\n",
    "model_data = model_data.join([df_thomas_z])\n",
    "model_data['EDSS'] = df_ms['EDSS']\n",
    "covariates = \"age + Female + tiv\"\n",
    "\n",
    "outcome = \"EDSS\"\n",
    "predictors = [\"brain\", \"white\", \"grey\", \"cortical_thickness\", \"THALAMUS_1\", \"t2lv\", \"PRL\", \"choroid_volume\"]\n",
    "\n",
    "pvals = {}\n",
    "coefs = {}\n",
    "llci = {}\n",
    "ulci = {}\n",
    "ci_str = {}\n",
    "\n",
    "for x in predictors:\n",
    "    formula = f\"{outcome} ~ {x} + {covariates}\"\n",
    "    res = OrderedModel.from_formula(formula, data=model_data, distr='logit').fit(method='bfgs', disp=0)\n",
    "    pvals[x] = res.pvalues[x]\n",
    "    coefs[x] = res.params[x]\n",
    "    ci = res.conf_int()\n",
    "    llci[x] = ci.loc[x, 0]\n",
    "    ulci[x] = ci.loc[x, 1]\n",
    "    ci_str[x] = f\"[{llci[x]:.6f}, {ulci[x]:.6f}]\"\n",
    "\n",
    "\n",
    "regression_results = pd.DataFrame({\"coef\": coefs, \"llci\": llci, \"ulci\": ulci, \"pvals\": pvals, \"ci\": ci_str})\n",
    "regression_results['p_fdr'] = stats.false_discovery_control(\n",
    "    regression_results['pvals'], method='bh'\n",
    ")\n",
    "regression_results.index.name = \"structure\"\n",
    "regression_results.to_excel(fig_path / \"EDSS_and_main_mri_features_MS_ordinal.xlsx\")\n",
    "regression_results"
   ]
  },
  {
   "cell_type": "code",
   "execution_count": 30,
   "id": "f94511d9",
   "metadata": {},
   "outputs": [
    {
     "name": "stdout",
     "output_type": "stream",
     "text": [
      "-0.2814095453014782 -0.21767321433834244 0.6290560063840223\n"
     ]
    }
   ],
   "source": [
    "resThal = sm.OLS.from_formula(\"THALAMUS_1 ~ age + Female + tiv\", data=model_data).fit()\n",
    "resCT = sm.OLS.from_formula(\"cortical_thickness ~ age + Female + tiv\", data=model_data).fit()\n",
    "resEDSS = sm.OLS.from_formula(\"EDSS_sqrt ~ age + Female + tiv\", data=model_data).fit()\n",
    "\n",
    "resids = pd.concat([resThal.resid.rename(\"THALAMUS_1\"),\n",
    "                    resCT.resid.rename(\"cortical_thickness\"),\n",
    "                    resEDSS.resid.rename(\"EDSS_sqrt\")], axis=1).dropna()\n",
    "\n",
    "\n",
    "rx1y = stats.pearsonr(resids['THALAMUS_1'], resids['EDSS_sqrt']).statistic\n",
    "rx2y = stats.pearsonr(resids['cortical_thickness'], resids['EDSS_sqrt']).statistic\n",
    "rx1x2 = stats.pearsonr(resids['cortical_thickness'], resids['THALAMUS_1']).statistic\n",
    "print(rx1y, rx2y, rx1x2)"
   ]
  },
  {
   "cell_type": "code",
   "execution_count": 75,
   "id": "2098c0b5",
   "metadata": {},
   "outputs": [
    {
     "name": "stdout",
     "output_type": "stream",
     "text": [
      "                            OLS Regression Results                            \n",
      "==============================================================================\n",
      "Dep. Variable:              EDSS_sqrt   R-squared:                       0.276\n",
      "Model:                            OLS   Adj. R-squared:                  0.269\n",
      "Method:                 Least Squares   F-statistic:                     41.56\n",
      "Date:                Wed, 11 Jun 2025   Prob (F-statistic):           1.59e-29\n",
      "Time:                        14:50:51   Log-Likelihood:                -554.25\n",
      "No. Observations:                 441   AIC:                             1118.\n",
      "Df Residuals:                     436   BIC:                             1139.\n",
      "Df Model:                           4                                         \n",
      "Covariance Type:            nonrobust                                         \n",
      "==============================================================================\n",
      "                 coef    std err          t      P>|t|      [0.025      0.975]\n",
      "------------------------------------------------------------------------------\n",
      "Intercept     -0.0441      0.041     -1.073      0.284      -0.125       0.037\n",
      "age            0.3510      0.044      7.971      0.000       0.264       0.437\n",
      "Female        -0.0457      0.048     -0.943      0.346      -0.141       0.050\n",
      "tiv            0.0369      0.053      0.689      0.491      -0.068       0.142\n",
      "THALAMUS_1    -0.2900      0.048     -6.066      0.000      -0.384      -0.196\n",
      "==============================================================================\n",
      "Omnibus:                        6.710   Durbin-Watson:                   2.045\n",
      "Prob(Omnibus):                  0.035   Jarque-Bera (JB):                6.542\n",
      "Skew:                           0.271   Prob(JB):                       0.0380\n",
      "Kurtosis:                       3.247   Cond. No.                         2.18\n",
      "==============================================================================\n",
      "\n",
      "Notes:\n",
      "[1] Standard Errors assume that the covariance matrix of the errors is correctly specified.\n"
     ]
    }
   ],
   "source": [
    "formula = \"EDSS_sqrt ~ age + Female + tiv + THALAMUS_1\"\n",
    "res = sm.OLS.from_formula(formula, data=model_data).fit()\n",
    "print(res.summary())"
   ]
  },
  {
   "cell_type": "markdown",
   "id": "fde61522",
   "metadata": {},
   "source": [
    "#### NIND Group"
   ]
  },
  {
   "cell_type": "code",
   "execution_count": null,
   "id": "6a7c12ae",
   "metadata": {},
   "outputs": [
    {
     "data": {
      "application/vnd.microsoft.datawrangler.viewer.v0+json": {
       "columns": [
        {
         "name": "structure",
         "rawType": "object",
         "type": "string"
        },
        {
         "name": "coef",
         "rawType": "float64",
         "type": "float"
        },
        {
         "name": "llci",
         "rawType": "float64",
         "type": "float"
        },
        {
         "name": "ulci",
         "rawType": "float64",
         "type": "float"
        },
        {
         "name": "pvals",
         "rawType": "float64",
         "type": "float"
        },
        {
         "name": "ci",
         "rawType": "object",
         "type": "string"
        },
        {
         "name": "p_fdr",
         "rawType": "float64",
         "type": "float"
        }
       ],
       "ref": "18447d31-7337-4fe8-907a-37c2194a88f7",
       "rows": [
        [
         "brain",
         "-0.08362458233633556",
         "-0.19015264287276704",
         "0.022903478200095917",
         "0.12390863867623252",
         "[-0.190153, 0.022903]",
         "0.16521151823497668"
        ],
        [
         "white",
         "-0.024813533545371445",
         "-0.12485591602991374",
         "0.07522884893917085",
         "0.6268747946445038",
         "[-0.124856, 0.075229]",
         "0.6268747946445038"
        ],
        [
         "grey",
         "-0.11594398247205695",
         "-0.2275965712956089",
         "-0.004291393648505004",
         "0.04182113223973953",
         "[-0.227597, -0.004291]",
         "0.06691381158358325"
        ],
        [
         "cortical_thickness",
         "-0.23637166365401427",
         "-0.3438472984282749",
         "-0.12889602887975365",
         "1.628431746136101e-05",
         "[-0.343847, -0.128896]",
         "6.513726984544404e-05"
        ],
        [
         "THALAMUS_1",
         "-0.324316507435502",
         "-0.43669826626853747",
         "-0.21193474860246653",
         "1.548014621747043e-08",
         "[-0.436698, -0.211935]",
         "1.2384116973976343e-07"
        ],
        [
         "t2lv",
         "0.12213003603844465",
         "0.028101601503454726",
         "0.21615847057343457",
         "0.010905127435162677",
         "[0.028102, 0.216158]",
         "0.021810254870325355"
        ],
        [
         "PRL",
         "0.11845512005128897",
         "0.028221194282889953",
         "0.208689045819688",
         "0.010083451559520793",
         "[0.028221, 0.208689]",
         "0.021810254870325355"
        ],
        [
         "choroid_volume",
         "0.06932799711141327",
         "-0.0357725688689685",
         "0.17442856309179505",
         "0.19605928756427204",
         "[-0.035773, 0.174429]",
         "0.2240677572163109"
        ]
       ],
       "shape": {
        "columns": 6,
        "rows": 8
       }
      },
      "text/html": [
       "<div>\n",
       "<style scoped>\n",
       "    .dataframe tbody tr th:only-of-type {\n",
       "        vertical-align: middle;\n",
       "    }\n",
       "\n",
       "    .dataframe tbody tr th {\n",
       "        vertical-align: top;\n",
       "    }\n",
       "\n",
       "    .dataframe thead th {\n",
       "        text-align: right;\n",
       "    }\n",
       "</style>\n",
       "<table border=\"1\" class=\"dataframe\">\n",
       "  <thead>\n",
       "    <tr style=\"text-align: right;\">\n",
       "      <th></th>\n",
       "      <th>coef</th>\n",
       "      <th>llci</th>\n",
       "      <th>ulci</th>\n",
       "      <th>pvals</th>\n",
       "      <th>ci</th>\n",
       "      <th>p_fdr</th>\n",
       "    </tr>\n",
       "    <tr>\n",
       "      <th>structure</th>\n",
       "      <th></th>\n",
       "      <th></th>\n",
       "      <th></th>\n",
       "      <th></th>\n",
       "      <th></th>\n",
       "      <th></th>\n",
       "    </tr>\n",
       "  </thead>\n",
       "  <tbody>\n",
       "    <tr>\n",
       "      <th>brain</th>\n",
       "      <td>-0.083625</td>\n",
       "      <td>-0.190153</td>\n",
       "      <td>0.022903</td>\n",
       "      <td>1.239086e-01</td>\n",
       "      <td>[-0.190153, 0.022903]</td>\n",
       "      <td>1.652115e-01</td>\n",
       "    </tr>\n",
       "    <tr>\n",
       "      <th>white</th>\n",
       "      <td>-0.024814</td>\n",
       "      <td>-0.124856</td>\n",
       "      <td>0.075229</td>\n",
       "      <td>6.268748e-01</td>\n",
       "      <td>[-0.124856, 0.075229]</td>\n",
       "      <td>6.268748e-01</td>\n",
       "    </tr>\n",
       "    <tr>\n",
       "      <th>grey</th>\n",
       "      <td>-0.115944</td>\n",
       "      <td>-0.227597</td>\n",
       "      <td>-0.004291</td>\n",
       "      <td>4.182113e-02</td>\n",
       "      <td>[-0.227597, -0.004291]</td>\n",
       "      <td>6.691381e-02</td>\n",
       "    </tr>\n",
       "    <tr>\n",
       "      <th>cortical_thickness</th>\n",
       "      <td>-0.236372</td>\n",
       "      <td>-0.343847</td>\n",
       "      <td>-0.128896</td>\n",
       "      <td>1.628432e-05</td>\n",
       "      <td>[-0.343847, -0.128896]</td>\n",
       "      <td>6.513727e-05</td>\n",
       "    </tr>\n",
       "    <tr>\n",
       "      <th>THALAMUS_1</th>\n",
       "      <td>-0.324317</td>\n",
       "      <td>-0.436698</td>\n",
       "      <td>-0.211935</td>\n",
       "      <td>1.548015e-08</td>\n",
       "      <td>[-0.436698, -0.211935]</td>\n",
       "      <td>1.238412e-07</td>\n",
       "    </tr>\n",
       "    <tr>\n",
       "      <th>t2lv</th>\n",
       "      <td>0.122130</td>\n",
       "      <td>0.028102</td>\n",
       "      <td>0.216158</td>\n",
       "      <td>1.090513e-02</td>\n",
       "      <td>[0.028102, 0.216158]</td>\n",
       "      <td>2.181025e-02</td>\n",
       "    </tr>\n",
       "    <tr>\n",
       "      <th>PRL</th>\n",
       "      <td>0.118455</td>\n",
       "      <td>0.028221</td>\n",
       "      <td>0.208689</td>\n",
       "      <td>1.008345e-02</td>\n",
       "      <td>[0.028221, 0.208689]</td>\n",
       "      <td>2.181025e-02</td>\n",
       "    </tr>\n",
       "    <tr>\n",
       "      <th>choroid_volume</th>\n",
       "      <td>0.069328</td>\n",
       "      <td>-0.035773</td>\n",
       "      <td>0.174429</td>\n",
       "      <td>1.960593e-01</td>\n",
       "      <td>[-0.035773, 0.174429]</td>\n",
       "      <td>2.240678e-01</td>\n",
       "    </tr>\n",
       "  </tbody>\n",
       "</table>\n",
       "</div>"
      ],
      "text/plain": [
       "                        coef      llci      ulci         pvals  \\\n",
       "structure                                                        \n",
       "brain              -0.083625 -0.190153  0.022903  1.239086e-01   \n",
       "white              -0.024814 -0.124856  0.075229  6.268748e-01   \n",
       "grey               -0.115944 -0.227597 -0.004291  4.182113e-02   \n",
       "cortical_thickness -0.236372 -0.343847 -0.128896  1.628432e-05   \n",
       "THALAMUS_1         -0.324317 -0.436698 -0.211935  1.548015e-08   \n",
       "t2lv                0.122130  0.028102  0.216158  1.090513e-02   \n",
       "PRL                 0.118455  0.028221  0.208689  1.008345e-02   \n",
       "choroid_volume      0.069328 -0.035773  0.174429  1.960593e-01   \n",
       "\n",
       "                                        ci         p_fdr  \n",
       "structure                                                 \n",
       "brain                [-0.190153, 0.022903]  1.652115e-01  \n",
       "white                [-0.124856, 0.075229]  6.268748e-01  \n",
       "grey                [-0.227597, -0.004291]  6.691381e-02  \n",
       "cortical_thickness  [-0.343847, -0.128896]  6.513727e-05  \n",
       "THALAMUS_1          [-0.436698, -0.211935]  1.238412e-07  \n",
       "t2lv                  [0.028102, 0.216158]  2.181025e-02  \n",
       "PRL                   [0.028221, 0.208689]  2.181025e-02  \n",
       "choroid_volume       [-0.035773, 0.174429]  2.240678e-01  "
      ]
     },
     "execution_count": 13,
     "metadata": {},
     "output_type": "execute_result"
    }
   ],
   "source": [
    "model_data = df_z.join(df_thomas_z)\n",
    "model_data = model_data[model_data['dz_type3'].isin([\"NIND\"])]\n",
    "model_data['EDSS'] = df_ms['EDSS']\n",
    "\n",
    "covariates = \"age + Female + tiv\"\n",
    "\n",
    "outcome = \"EDSS_sqrt\"\n",
    "predictors = [\"brain\", \"white\", \"grey\", \"cortical_thickness\", \"THALAMUS_1\", \"t2lv\", \"PRL\", \"choroid_volume\"]\n",
    "\n",
    "pvals = {}\n",
    "coefs = {}\n",
    "llci = {}\n",
    "ulci = {}\n",
    "ci_str = {}\n",
    "\n",
    "for x in predictors:\n",
    "    formula = f\"{outcome} ~ {x} + {covariates}\"\n",
    "    res = OrderedModel.from_formula(formula, data=model_data, distr='probit').fit(method='bfgs', disp=0)\n",
    "    pvals[x] = res.pvalues[x]\n",
    "    coefs[x] = res.params[x]\n",
    "    ci = res.conf_int()\n",
    "    llci[x] = ci.loc[x, 0]\n",
    "    ulci[x] = ci.loc[x, 1]\n",
    "    ci_str[x] = f\"[{llci[x]:.6f}, {ulci[x]:.6f}]\"\n",
    "\n",
    "\n",
    "regression_results = pd.DataFrame({\"coef\": coefs, \"llci\": llci, \"ulci\": ulci, \"pvals\": pvals, \"ci\": ci_str})\n",
    "regression_results['p_fdr'] = stats.false_discovery_control(\n",
    "    regression_results['pvals'], method='bh'\n",
    ")\n",
    "regression_results.index.name = \"structure\"\n",
    "# regression_results.to_excel(fig_path / \"EDSS_and_main_mri_features_MS.xlsx\")\n",
    "regression_results"
   ]
  },
  {
   "cell_type": "code",
   "execution_count": 10,
   "id": "f3bff224",
   "metadata": {},
   "outputs": [
    {
     "data": {
      "application/vnd.microsoft.datawrangler.viewer.v0+json": {
       "columns": [
        {
         "name": "subid",
         "rawType": "int64",
         "type": "integer"
        },
        {
         "name": "EDSS",
         "rawType": "float64",
         "type": "float"
        }
       ],
       "ref": "b5968e99-47d8-4454-98bb-8bd21a7713d3",
       "rows": [
        [
         "1027",
         null
        ],
        [
         "1029",
         null
        ],
        [
         "1064",
         null
        ],
        [
         "1101",
         null
        ],
        [
         "1105",
         null
        ],
        [
         "1203",
         null
        ],
        [
         "1224",
         null
        ],
        [
         "1280",
         null
        ],
        [
         "1283",
         null
        ],
        [
         "1285",
         null
        ],
        [
         "1317",
         null
        ],
        [
         "1321",
         null
        ],
        [
         "1344",
         null
        ],
        [
         "1355",
         null
        ],
        [
         "1383",
         null
        ],
        [
         "1406",
         null
        ],
        [
         "1423",
         null
        ],
        [
         "1437",
         null
        ],
        [
         "1463",
         null
        ],
        [
         "1476",
         null
        ],
        [
         "1486",
         null
        ],
        [
         "1489",
         null
        ],
        [
         "1492",
         null
        ],
        [
         "1547",
         null
        ],
        [
         "1548",
         null
        ],
        [
         "1557",
         null
        ],
        [
         "2005",
         null
        ],
        [
         "2020",
         null
        ],
        [
         "2057",
         null
        ],
        [
         "2059",
         null
        ],
        [
         "2070",
         null
        ],
        [
         "2083",
         null
        ],
        [
         "2085",
         null
        ],
        [
         "2090",
         null
        ],
        [
         "2097",
         null
        ],
        [
         "2108",
         null
        ],
        [
         "2110",
         null
        ],
        [
         "2114",
         null
        ],
        [
         "2123",
         null
        ],
        [
         "2126",
         null
        ],
        [
         "2129",
         null
        ],
        [
         "2134",
         null
        ],
        [
         "2142",
         null
        ],
        [
         "2144",
         null
        ],
        [
         "2146",
         null
        ],
        [
         "2200",
         null
        ],
        [
         "2206",
         null
        ],
        [
         "2231",
         null
        ],
        [
         "2243",
         null
        ]
       ],
       "shape": {
        "columns": 1,
        "rows": 49
       }
      },
      "text/plain": [
       "subid\n",
       "1027   NaN\n",
       "1029   NaN\n",
       "1064   NaN\n",
       "1101   NaN\n",
       "1105   NaN\n",
       "1203   NaN\n",
       "1224   NaN\n",
       "1280   NaN\n",
       "1283   NaN\n",
       "1285   NaN\n",
       "1317   NaN\n",
       "1321   NaN\n",
       "1344   NaN\n",
       "1355   NaN\n",
       "1383   NaN\n",
       "1406   NaN\n",
       "1423   NaN\n",
       "1437   NaN\n",
       "1463   NaN\n",
       "1476   NaN\n",
       "1486   NaN\n",
       "1489   NaN\n",
       "1492   NaN\n",
       "1547   NaN\n",
       "1548   NaN\n",
       "1557   NaN\n",
       "2005   NaN\n",
       "2020   NaN\n",
       "2057   NaN\n",
       "2059   NaN\n",
       "2070   NaN\n",
       "2083   NaN\n",
       "2085   NaN\n",
       "2090   NaN\n",
       "2097   NaN\n",
       "2108   NaN\n",
       "2110   NaN\n",
       "2114   NaN\n",
       "2123   NaN\n",
       "2126   NaN\n",
       "2129   NaN\n",
       "2134   NaN\n",
       "2142   NaN\n",
       "2144   NaN\n",
       "2146   NaN\n",
       "2200   NaN\n",
       "2206   NaN\n",
       "2231   NaN\n",
       "2243   NaN\n",
       "Name: EDSS, dtype: float64"
      ]
     },
     "execution_count": 10,
     "metadata": {},
     "output_type": "execute_result"
    }
   ],
   "source": [
    "model_data['EDSS']"
   ]
  },
  {
   "cell_type": "markdown",
   "id": "8f97bfa1",
   "metadata": {},
   "source": [
    "### Compare Thalamus Associations for PMS vs RMS\n",
    "\n",
    "Thalamus does not predict EDSS any better in PMS patients compared to RMS patients.\n",
    "\n",
    "There are other methods to try in the GPT convo (not because I think this result will change, but to practice them here so I can apply them elsewhere if desired)\n",
    "\n",
    "- Chow / SUest\n",
    "- Compare partial correlations with Fisher's z"
   ]
  },
  {
   "cell_type": "code",
   "execution_count": 24,
   "id": "eec725b0",
   "metadata": {},
   "outputs": [
    {
     "name": "stdout",
     "output_type": "stream",
     "text": [
      "                             OrderedModel Results                             \n",
      "==============================================================================\n",
      "Dep. Variable:                   EDSS   Log-Likelihood:                -945.62\n",
      "Model:                   OrderedModel   AIC:                             1939.\n",
      "Method:            Maximum Likelihood   BIC:                             2038.\n",
      "Date:                Fri, 20 Jun 2025                                         \n",
      "Time:                        15:22:19                                         \n",
      "No. Observations:                 453                                         \n",
      "Df Residuals:                     429                                         \n",
      "Df Model:                           6                                         \n",
      "==================================================================================\n",
      "                     coef    std err          z      P>|z|      [0.025      0.975]\n",
      "----------------------------------------------------------------------------------\n",
      "THALAMUS_1        -0.4224      0.124     -3.419      0.001      -0.665      -0.180\n",
      "PMS                2.1129      0.278      7.614      0.000       1.569       2.657\n",
      "THALAMUS_1:PMS     0.0083      0.197      0.042      0.966      -0.378       0.394\n",
      "age                0.5375      0.098      5.457      0.000       0.344       0.731\n",
      "Female             0.0602      0.102      0.590      0.555      -0.140       0.260\n",
      "tiv                0.0242      0.113      0.213      0.831      -0.198       0.246\n",
      "0.0/0.5           -3.8157      0.313    -12.175      0.000      -4.430      -3.201\n",
      "0.5/1.0           -1.3579      0.575     -2.363      0.018      -2.484      -0.231\n",
      "1.0/1.5            0.7158      0.127      5.654      0.000       0.468       0.964\n",
      "1.5/2.0            0.4392      0.083      5.278      0.000       0.276       0.602\n",
      "2.0/2.5           -0.1437      0.112     -1.288      0.198      -0.362       0.075\n",
      "2.5/3.0           -1.0437      0.194     -5.371      0.000      -1.425      -0.663\n",
      "3.0/3.5           -0.7939      0.180     -4.409      0.000      -1.147      -0.441\n",
      "3.5/4.0           -0.9588      0.208     -4.611      0.000      -1.366      -0.551\n",
      "4.0/4.5           -0.9433      0.218     -4.333      0.000      -1.370      -0.517\n",
      "4.5/5.0           -2.5097      0.497     -5.054      0.000      -3.483      -1.536\n",
      "5.0/5.5           -1.9360      0.374     -5.183      0.000      -2.668      -1.204\n",
      "5.5/6.0           -2.0423      0.404     -5.054      0.000      -2.834      -1.250\n",
      "6.0/6.5           -0.0009      0.160     -0.006      0.996      -0.315       0.314\n",
      "6.5/7.0            0.1563      0.206      0.757      0.449      -0.248       0.561\n",
      "7.0/7.5           -0.9832      0.495     -1.988      0.047      -1.953      -0.014\n",
      "7.5/8.0           -0.9439      0.573     -1.649      0.099      -2.066       0.178\n",
      "8.0/8.5           -0.1140      0.506     -0.225      0.822      -1.105       0.877\n",
      "8.5/9.0            0.1059      0.739      0.143      0.886      -1.343       1.555\n",
      "==================================================================================\n"
     ]
    }
   ],
   "source": [
    "formula = \"EDSS ~ THALAMUS_1*PMS + age + Female + tiv\"\n",
    "\n",
    "model_data = df_z.join([df_thomas_z])\n",
    "model_data = model_data[model_data.dz_type5.isin([\"PMS\", \"RMS\"])]\n",
    "model_data = pd.concat([model_data, pd.get_dummies(model_data.dz_type5, dtype=\"int\")], axis=1)\n",
    "model_data['EDSS'] = df_ms['EDSS']\n",
    "\n",
    "\n",
    "res = OrderedModel.from_formula(formula, data=model_data, distr='logit').fit(method='bfgs', disp=0)\n",
    "print(res.summary())"
   ]
  },
  {
   "cell_type": "markdown",
   "id": "edb1124a",
   "metadata": {},
   "source": [
    "Something is wrong here. Not significant if I compute standard deviation from the stderrs and plug into a t test calculator.\n",
    "\n",
    "Using a t-test here isn't the best course anyways (according to GPT, check convo \"Comparing regression betas\"), but still curious what went wrong"
   ]
  },
  {
   "cell_type": "code",
   "execution_count": 50,
   "id": "91f721f7",
   "metadata": {},
   "outputs": [
    {
     "name": "stdout",
     "output_type": "stream",
     "text": [
      "RMS:\n",
      "-0.19 ± 0.058 [-0.3, -0.089]\n",
      "\n",
      "\n",
      "PMS:\n",
      "-0.22 ± 0.072 [-0.38, -0.052]\n",
      "\n",
      "\n",
      "p = 0.0027\n"
     ]
    }
   ],
   "source": [
    "formula = \"EDSS_sqrt ~ THALAMUS_1 + age + Female + tiv\"\n",
    "\n",
    "model_data = df_z.join([df_thomas_z])\n",
    "\n",
    "model_data_RMS = model_data.copy()\n",
    "model_data_RMS = model_data_RMS[model_data_RMS['dz_type5'].isin([\"RMS\"])]\n",
    "res_RMS = sm.OLS.from_formula(formula, data=model_data_RMS).fit()\n",
    "\n",
    "\n",
    "model_data_PMS = model_data.copy()\n",
    "model_data_PMS = model_data_PMS[model_data_PMS['dz_type5'].isin([\"PMS\"])]\n",
    "res_PMS = sm.OLS.from_formula(formula, data=model_data_PMS).fit()\n",
    "\n",
    "param1 = res_RMS.params['THALAMUS_1']\n",
    "param2 = res_PMS.params['THALAMUS_1']\n",
    "\n",
    "ci1 = res_RMS.conf_int()\n",
    "ci2 = res_PMS.conf_int()\n",
    "\n",
    "se1 = res_RMS.HC0_se['THALAMUS_1']\n",
    "dof1 = res_RMS.df_resid\n",
    "se2 = res_PMS.HC0_se['THALAMUS_1']\n",
    "dof2 = res_PMS.df_resid\n",
    "\n",
    "se_diff = compute_se_diff(se1, dof1, se2, dof2)\n",
    "mean_diff = param1 - param2\n",
    "t_stat = mean_diff / se_diff\n",
    "\n",
    "dof = dof1 + dof2 - 2\n",
    "p_val = stats.t.sf(t_stat, dof)\n",
    "\n",
    "print(\"RMS:\")\n",
    "print(f\"{param1:.2} ± {se1:.2} [{ci1.loc['THALAMUS_1', 0]:.2}, {ci1.loc['THALAMUS_1', 1]:.2}]\")\n",
    "print(\"\\n\")\n",
    "print(\"PMS:\")\n",
    "print(f\"{param2:.2} ± {se2:.2} [{ci2.loc['THALAMUS_1', 0]:.2}, {ci2.loc['THALAMUS_1', 1]:.2}]\")\n",
    "print(\"\\n\")\n",
    "\n",
    "print(f\"p = {p_val:.2}\")"
   ]
  },
  {
   "cell_type": "markdown",
   "id": "5d10e7ea",
   "metadata": {},
   "source": [
    "## HIPS-THOMAS"
   ]
  },
  {
   "cell_type": "markdown",
   "id": "2e0710a0",
   "metadata": {},
   "source": [
    "Check these out:\n",
    "\n",
    "- https://pmc.ncbi.nlm.nih.gov/articles/PMC11081814/\n",
    "- https://pmc.ncbi.nlm.nih.gov/articles/PMC11087027/"
   ]
  },
  {
   "cell_type": "markdown",
   "id": "5f08a043",
   "metadata": {},
   "source": [
    "### L/R for thalamus diagram"
   ]
  },
  {
   "cell_type": "code",
   "execution_count": 26,
   "id": "9d34fe53",
   "metadata": {},
   "outputs": [
    {
     "data": {
      "application/vnd.microsoft.datawrangler.viewer.v0+json": {
       "columns": [
        {
         "name": "index",
         "rawType": "object",
         "type": "string"
        },
        {
         "name": "coef",
         "rawType": "float64",
         "type": "float"
        },
        {
         "name": "pvals",
         "rawType": "float64",
         "type": "float"
        },
        {
         "name": "p_fdr",
         "rawType": "float64",
         "type": "float"
        },
        {
         "name": "coef_bin",
         "rawType": "int64",
         "type": "integer"
        }
       ],
       "ref": "10ab7fcf-3bcb-495f-9c4b-56ca87af5351",
       "rows": [
        [
         "AV_2",
         "-0.25714903102570746",
         "0.0390798809270416",
         "0.1693746937262452",
         "1"
        ],
        [
         "LGN_9",
         "-0.24468612841248108",
         "0.028422897824391603",
         "0.1693746937262452",
         "1"
        ],
        [
         "Pul_8",
         "-0.1440974797988507",
         "0.4677436489461527",
         "0.7905975051278658",
         "3"
        ],
        [
         "MGN_10",
         "-0.10106461533119132",
         "0.4529087345702131",
         "0.7905975051278658",
         "3"
        ],
        [
         "VLP_6",
         "-0.05691750752993189",
         "0.7254263768368449",
         "0.7905975051278658",
         "4"
        ],
        [
         "VPL_7",
         "-0.07539772354272897",
         "0.5897596780341277",
         "0.7905975051278658",
         "4"
        ],
        [
         "MD_Pf_12",
         "-0.06316492877379107",
         "0.725620117751774",
         "0.7905975051278658",
         "4"
        ],
        [
         "VLa_5",
         "-0.031176110959709964",
         "0.7905975051278658",
         "0.7905975051278658",
         "5"
        ],
        [
         "CM_11",
         "0.06080868301320319",
         "0.618362984757028",
         "0.7905975051278658",
         "6"
        ],
        [
         "VA_4",
         "0.23152484113329605",
         "0.050812408117873555",
         "0.1693746937262452",
         "10"
        ]
       ],
       "shape": {
        "columns": 4,
        "rows": 10
       }
      },
      "text/html": [
       "<div>\n",
       "<style scoped>\n",
       "    .dataframe tbody tr th:only-of-type {\n",
       "        vertical-align: middle;\n",
       "    }\n",
       "\n",
       "    .dataframe tbody tr th {\n",
       "        vertical-align: top;\n",
       "    }\n",
       "\n",
       "    .dataframe thead th {\n",
       "        text-align: right;\n",
       "    }\n",
       "</style>\n",
       "<table border=\"1\" class=\"dataframe\">\n",
       "  <thead>\n",
       "    <tr style=\"text-align: right;\">\n",
       "      <th></th>\n",
       "      <th>coef</th>\n",
       "      <th>pvals</th>\n",
       "      <th>p_fdr</th>\n",
       "      <th>coef_bin</th>\n",
       "    </tr>\n",
       "  </thead>\n",
       "  <tbody>\n",
       "    <tr>\n",
       "      <th>AV_2</th>\n",
       "      <td>-0.257149</td>\n",
       "      <td>0.039080</td>\n",
       "      <td>0.169375</td>\n",
       "      <td>1</td>\n",
       "    </tr>\n",
       "    <tr>\n",
       "      <th>LGN_9</th>\n",
       "      <td>-0.244686</td>\n",
       "      <td>0.028423</td>\n",
       "      <td>0.169375</td>\n",
       "      <td>1</td>\n",
       "    </tr>\n",
       "    <tr>\n",
       "      <th>Pul_8</th>\n",
       "      <td>-0.144097</td>\n",
       "      <td>0.467744</td>\n",
       "      <td>0.790598</td>\n",
       "      <td>3</td>\n",
       "    </tr>\n",
       "    <tr>\n",
       "      <th>MGN_10</th>\n",
       "      <td>-0.101065</td>\n",
       "      <td>0.452909</td>\n",
       "      <td>0.790598</td>\n",
       "      <td>3</td>\n",
       "    </tr>\n",
       "    <tr>\n",
       "      <th>VLP_6</th>\n",
       "      <td>-0.056918</td>\n",
       "      <td>0.725426</td>\n",
       "      <td>0.790598</td>\n",
       "      <td>4</td>\n",
       "    </tr>\n",
       "    <tr>\n",
       "      <th>VPL_7</th>\n",
       "      <td>-0.075398</td>\n",
       "      <td>0.589760</td>\n",
       "      <td>0.790598</td>\n",
       "      <td>4</td>\n",
       "    </tr>\n",
       "    <tr>\n",
       "      <th>MD_Pf_12</th>\n",
       "      <td>-0.063165</td>\n",
       "      <td>0.725620</td>\n",
       "      <td>0.790598</td>\n",
       "      <td>4</td>\n",
       "    </tr>\n",
       "    <tr>\n",
       "      <th>VLa_5</th>\n",
       "      <td>-0.031176</td>\n",
       "      <td>0.790598</td>\n",
       "      <td>0.790598</td>\n",
       "      <td>5</td>\n",
       "    </tr>\n",
       "    <tr>\n",
       "      <th>CM_11</th>\n",
       "      <td>0.060809</td>\n",
       "      <td>0.618363</td>\n",
       "      <td>0.790598</td>\n",
       "      <td>6</td>\n",
       "    </tr>\n",
       "    <tr>\n",
       "      <th>VA_4</th>\n",
       "      <td>0.231525</td>\n",
       "      <td>0.050812</td>\n",
       "      <td>0.169375</td>\n",
       "      <td>10</td>\n",
       "    </tr>\n",
       "  </tbody>\n",
       "</table>\n",
       "</div>"
      ],
      "text/plain": [
       "              coef     pvals     p_fdr  coef_bin\n",
       "AV_2     -0.257149  0.039080  0.169375         1\n",
       "LGN_9    -0.244686  0.028423  0.169375         1\n",
       "Pul_8    -0.144097  0.467744  0.790598         3\n",
       "MGN_10   -0.101065  0.452909  0.790598         3\n",
       "VLP_6    -0.056918  0.725426  0.790598         4\n",
       "VPL_7    -0.075398  0.589760  0.790598         4\n",
       "MD_Pf_12 -0.063165  0.725620  0.790598         4\n",
       "VLa_5    -0.031176  0.790598  0.790598         5\n",
       "CM_11     0.060809  0.618363  0.790598         6\n",
       "VA_4      0.231525  0.050812  0.169375        10"
      ]
     },
     "execution_count": 26,
     "metadata": {},
     "output_type": "execute_result"
    }
   ],
   "source": [
    "model_data = df_z.join(df_thomas_left_z)\n",
    "model_data['whole_thalamus'] = df_thomas_z['THALAMUS_1']\n",
    "model_data = model_data[model_data['dz_type5'].isin([\"RMS\", \"PMS\"])]\n",
    "covariates = \"age + Female + tiv + whole_thalamus\"\n",
    "\n",
    "pvals = {}\n",
    "coefs = {}\n",
    "llci = {}\n",
    "ulci = {}\n",
    "ci_str = {}\n",
    "\n",
    "\n",
    "outcome = \"EDSS\"\n",
    "\n",
    "structs = thalamic_nuclei\n",
    "all_results = {}\n",
    "for x in structs:\n",
    "    col = hips_thomas_ref[x]\n",
    "    formula = f\"{outcome} ~ {col}*dzdur + {covariates}\"\n",
    "    res = OrderedModel.from_formula(formula, data=model_data, distr='logit').fit(method='bfgs', disp=0)\n",
    "    all_results[col] = res\n",
    "    pvals[col] = res.pvalues[col]\n",
    "    coefs[col] = res.params[col]\n",
    "    ci = res.conf_int()\n",
    "    llci[col] = ci.loc[col, 0]\n",
    "    ulci[col] = ci.loc[col, 1]\n",
    "    ci_str[col] = f\"[{llci[col]:.6f}, {ulci[col]:.6f}]\"\n",
    "\n",
    "regression_results = pd.DataFrame({\"coef\": coefs, \"pvals\": pvals})\n",
    "regression_results['p_fdr'] = stats.false_discovery_control(regression_results['pvals'], method='bh')\n",
    "bins = np.linspace(regression_results['coef'].min(), regression_results.coef.max(), 10)\n",
    "regression_results['coef_bin'] = np.digitize(regression_results['coef'], bins)\n",
    "regression_results.sort_values(by=\"coef_bin\")"
   ]
  },
  {
   "cell_type": "code",
   "execution_count": 135,
   "id": "95d3f775",
   "metadata": {},
   "outputs": [
    {
     "data": {
      "application/vnd.microsoft.datawrangler.viewer.v0+json": {
       "columns": [
        {
         "name": "index",
         "rawType": "object",
         "type": "string"
        },
        {
         "name": "coef",
         "rawType": "float64",
         "type": "float"
        },
        {
         "name": "pvals",
         "rawType": "float64",
         "type": "float"
        },
        {
         "name": "p_fdr",
         "rawType": "float64",
         "type": "float"
        },
        {
         "name": "coef_bin",
         "rawType": "int64",
         "type": "integer"
        }
       ],
       "ref": "5a9c9869-54c4-43ca-afa2-5644e4248d6c",
       "rows": [
        [
         "MD_Pf_12",
         "-0.13675811253427866",
         "0.11570826993452968",
         "0.5785413496726484",
         "1"
        ],
        [
         "MGN_10",
         "-0.07367281453839931",
         "0.2550853283979691",
         "0.8502844279932303",
         "3"
        ],
        [
         "Pul_8",
         "-0.05509508461594668",
         "0.5966110456177498",
         "0.9867179174718128",
         "4"
        ],
        [
         "AV_2",
         "-0.003956812822263515",
         "0.9469864975846841",
         "0.9867179174718128",
         "6"
        ],
        [
         "VA_4",
         "0.017357566474050862",
         "0.788785186208736",
         "0.9867179174718128",
         "6"
        ],
        [
         "VLa_5",
         "0.020580243231671024",
         "0.7234698039489975",
         "0.9867179174718128",
         "6"
        ],
        [
         "VPL_7",
         "-0.003041271872699771",
         "0.9636384124583055",
         "0.9867179174718128",
         "6"
        ],
        [
         "CM_11",
         "0.0009890301073047945",
         "0.9867179174718128",
         "0.9867179174718128",
         "6"
        ],
        [
         "VLP_6",
         "0.04839169228345517",
         "0.5397012923456559",
         "0.9867179174718128",
         "8"
        ],
        [
         "LGN_9",
         "0.10064420134430417",
         "0.08897830245805462",
         "0.5785413496726484",
         "10"
        ]
       ],
       "shape": {
        "columns": 4,
        "rows": 10
       }
      },
      "text/html": [
       "<div>\n",
       "<style scoped>\n",
       "    .dataframe tbody tr th:only-of-type {\n",
       "        vertical-align: middle;\n",
       "    }\n",
       "\n",
       "    .dataframe tbody tr th {\n",
       "        vertical-align: top;\n",
       "    }\n",
       "\n",
       "    .dataframe thead th {\n",
       "        text-align: right;\n",
       "    }\n",
       "</style>\n",
       "<table border=\"1\" class=\"dataframe\">\n",
       "  <thead>\n",
       "    <tr style=\"text-align: right;\">\n",
       "      <th></th>\n",
       "      <th>coef</th>\n",
       "      <th>pvals</th>\n",
       "      <th>p_fdr</th>\n",
       "      <th>coef_bin</th>\n",
       "    </tr>\n",
       "  </thead>\n",
       "  <tbody>\n",
       "    <tr>\n",
       "      <th>MD_Pf_12</th>\n",
       "      <td>-0.136758</td>\n",
       "      <td>0.115708</td>\n",
       "      <td>0.578541</td>\n",
       "      <td>1</td>\n",
       "    </tr>\n",
       "    <tr>\n",
       "      <th>MGN_10</th>\n",
       "      <td>-0.073673</td>\n",
       "      <td>0.255085</td>\n",
       "      <td>0.850284</td>\n",
       "      <td>3</td>\n",
       "    </tr>\n",
       "    <tr>\n",
       "      <th>Pul_8</th>\n",
       "      <td>-0.055095</td>\n",
       "      <td>0.596611</td>\n",
       "      <td>0.986718</td>\n",
       "      <td>4</td>\n",
       "    </tr>\n",
       "    <tr>\n",
       "      <th>AV_2</th>\n",
       "      <td>-0.003957</td>\n",
       "      <td>0.946986</td>\n",
       "      <td>0.986718</td>\n",
       "      <td>6</td>\n",
       "    </tr>\n",
       "    <tr>\n",
       "      <th>VA_4</th>\n",
       "      <td>0.017358</td>\n",
       "      <td>0.788785</td>\n",
       "      <td>0.986718</td>\n",
       "      <td>6</td>\n",
       "    </tr>\n",
       "    <tr>\n",
       "      <th>VLa_5</th>\n",
       "      <td>0.020580</td>\n",
       "      <td>0.723470</td>\n",
       "      <td>0.986718</td>\n",
       "      <td>6</td>\n",
       "    </tr>\n",
       "    <tr>\n",
       "      <th>VPL_7</th>\n",
       "      <td>-0.003041</td>\n",
       "      <td>0.963638</td>\n",
       "      <td>0.986718</td>\n",
       "      <td>6</td>\n",
       "    </tr>\n",
       "    <tr>\n",
       "      <th>CM_11</th>\n",
       "      <td>0.000989</td>\n",
       "      <td>0.986718</td>\n",
       "      <td>0.986718</td>\n",
       "      <td>6</td>\n",
       "    </tr>\n",
       "    <tr>\n",
       "      <th>VLP_6</th>\n",
       "      <td>0.048392</td>\n",
       "      <td>0.539701</td>\n",
       "      <td>0.986718</td>\n",
       "      <td>8</td>\n",
       "    </tr>\n",
       "    <tr>\n",
       "      <th>LGN_9</th>\n",
       "      <td>0.100644</td>\n",
       "      <td>0.088978</td>\n",
       "      <td>0.578541</td>\n",
       "      <td>10</td>\n",
       "    </tr>\n",
       "  </tbody>\n",
       "</table>\n",
       "</div>"
      ],
      "text/plain": [
       "              coef     pvals     p_fdr  coef_bin\n",
       "MD_Pf_12 -0.136758  0.115708  0.578541         1\n",
       "MGN_10   -0.073673  0.255085  0.850284         3\n",
       "Pul_8    -0.055095  0.596611  0.986718         4\n",
       "AV_2     -0.003957  0.946986  0.986718         6\n",
       "VA_4      0.017358  0.788785  0.986718         6\n",
       "VLa_5     0.020580  0.723470  0.986718         6\n",
       "VPL_7    -0.003041  0.963638  0.986718         6\n",
       "CM_11     0.000989  0.986718  0.986718         6\n",
       "VLP_6     0.048392  0.539701  0.986718         8\n",
       "LGN_9     0.100644  0.088978  0.578541        10"
      ]
     },
     "execution_count": 135,
     "metadata": {},
     "output_type": "execute_result"
    }
   ],
   "source": [
    "model_data = df_z.join(df_thomas_right_z)\n",
    "model_data['whole_thalamus'] = df_thomas_z['THALAMUS_1']\n",
    "\n",
    "model_data = model_data[model_data['dz_type5'].isin([\"RMS\", \"PMS\"])]\n",
    "covariates = \"age + Female + tiv + whole_thalamus\"\n",
    "\n",
    "pvals = {}\n",
    "coefs = {}\n",
    "stderrs = {}\n",
    "llci = {}\n",
    "ulci = {}\n",
    "ci_str = {}\n",
    "r2 = {}\n",
    "\n",
    "outcome = \"SDMT\"\n",
    "\n",
    "structs = thalamic_nuclei\n",
    "all_results = {}\n",
    "for x in structs:\n",
    "    col = hips_thomas_ref[x]\n",
    "    formula = f\"{outcome} ~ {col}*dzdur + {covariates}\"\n",
    "    res = sm.OLS.from_formula(formula, data=model_data).fit()\n",
    "    all_results[col] = res\n",
    "    pvals[col] = res.pvalues[col]\n",
    "    coefs[col] = res.params[col]\n",
    "    stderrs[col] = res.HC0_se[col]\n",
    "    ci = res.conf_int()\n",
    "    llci[col] = ci.loc[col, 0]\n",
    "    ulci[col] = ci.loc[col, 1]\n",
    "    ci_str[col] = f\"[{llci[col]:.6f}, {ulci[col]:.6f}]\"\n",
    "    r2[col] = res.rsquared_adj\n",
    "\n",
    "regression_results = pd.DataFrame({\"coef\": coefs, \"pvals\": pvals})\n",
    "regression_results['p_fdr'] = stats.false_discovery_control(regression_results['pvals'], method='bh')\n",
    "bins = np.linspace(regression_results['coef'].min(), regression_results.coef.max(), 10)\n",
    "regression_results['coef_bin'] = np.digitize(regression_results['coef'], bins)\n",
    "regression_results.sort_values(by=\"coef_bin\")"
   ]
  },
  {
   "cell_type": "markdown",
   "id": "ac1c6a50",
   "metadata": {},
   "source": [
    "### Bilateral Thalamus"
   ]
  },
  {
   "cell_type": "code",
   "execution_count": 21,
   "id": "3137bdaf",
   "metadata": {},
   "outputs": [
    {
     "data": {
      "application/vnd.microsoft.datawrangler.viewer.v0+json": {
       "columns": [
        {
         "name": "index",
         "rawType": "object",
         "type": "string"
        },
        {
         "name": "coef",
         "rawType": "float64",
         "type": "float"
        },
        {
         "name": "stderr",
         "rawType": "float64",
         "type": "float"
        },
        {
         "name": "llci",
         "rawType": "float64",
         "type": "float"
        },
        {
         "name": "ulci",
         "rawType": "float64",
         "type": "float"
        },
        {
         "name": "pvals",
         "rawType": "float64",
         "type": "float"
        },
        {
         "name": "ci",
         "rawType": "object",
         "type": "string"
        },
        {
         "name": "p_fdr",
         "rawType": "float64",
         "type": "float"
        },
        {
         "name": "R2",
         "rawType": "float64",
         "type": "float"
        }
       ],
       "ref": "f22fa32d-50bb-4ec7-99b9-081a488781e2",
       "rows": [
        [
         "AV_2",
         "-0.24615041775797866",
         "0.05005075663204567",
         "-0.34030545877748575",
         "-0.1519953767384716",
         "4.162119909668866e-07",
         "[-0.340305, -0.151995]",
         "3.7719279053542103e-06",
         "0.2874705592758495"
        ],
        [
         "Pul_8",
         "-0.22472131276433996",
         "0.04278124123030076",
         "-0.31412692542486653",
         "-0.1353157001038134",
         "1.1079483922195291e-06",
         "[-0.314127, -0.135316]",
         "3.7719279053542103e-06",
         "0.29897073203248903"
        ],
        [
         "VLP_6",
         "-0.22324239075985586",
         "0.04903642284986508",
         "-0.3224259666233327",
         "-0.124058814896379",
         "1.2218639678978248e-05",
         "[-0.322426, -0.124059]",
         "2.4437279357956496e-05",
         "0.28446797492662546"
        ],
        [
         "VPL_7",
         "-0.21952090470789334",
         "0.04371275709654508",
         "-0.3122187537296014",
         "-0.12682305568618532",
         "4.2974709192063245e-06",
         "[-0.312219, -0.126823]",
         "1.074367729801581e-05",
         "0.293372290484867"
        ],
        [
         "LGN_9",
         "-0.21228306196111485",
         "0.03949692312870255",
         "-0.29681441288797006",
         "-0.12775171103425964",
         "1.131578371606263e-06",
         "[-0.296814, -0.127752]",
         "3.7719279053542103e-06",
         "0.296883206534199"
        ],
        [
         "MGN_10",
         "-0.19335063938812802",
         "0.04373795099567041",
         "-0.28882039445234997",
         "-0.09788088432390608",
         "8.035348610239966e-05",
         "[-0.288820, -0.097881]",
         "0.00011751341591167352",
         "0.2776802601787476"
        ],
        [
         "MD_Pf_12",
         "-0.18484037535283354",
         "0.04335170796015989",
         "-0.2762406759327799",
         "-0.09344007477288717",
         "8.225939113817147e-05",
         "[-0.276241, -0.093440]",
         "0.00011751341591167352",
         "0.28028904152403133"
        ],
        [
         "VLa_5",
         "-0.16745978568892447",
         "0.04940241888168686",
         "-0.271315204410043",
         "-0.06360436696780597",
         "0.0016353780970952381",
         "[-0.271315, -0.063604]",
         "0.002044222621369048",
         "0.2641857670087363"
        ],
        [
         "CM_11",
         "-0.1321248401818176",
         "0.048073343272854265",
         "-0.22799336792827252",
         "-0.03625631243536269",
         "0.007017785709293121",
         "[-0.227993, -0.036256]",
         "0.007797539676992357",
         "0.26236077832422244"
        ],
        [
         "VA_4",
         "-0.10738747814578713",
         "0.051359808474214744",
         "-0.21321212585453547",
         "-0.0015628304370387952",
         "0.04672529341837777",
         "[-0.213212, -0.001563]",
         "0.04672529341837777",
         "0.253288664573291"
        ]
       ],
       "shape": {
        "columns": 8,
        "rows": 10
       }
      },
      "text/html": [
       "<div>\n",
       "<style scoped>\n",
       "    .dataframe tbody tr th:only-of-type {\n",
       "        vertical-align: middle;\n",
       "    }\n",
       "\n",
       "    .dataframe tbody tr th {\n",
       "        vertical-align: top;\n",
       "    }\n",
       "\n",
       "    .dataframe thead th {\n",
       "        text-align: right;\n",
       "    }\n",
       "</style>\n",
       "<table border=\"1\" class=\"dataframe\">\n",
       "  <thead>\n",
       "    <tr style=\"text-align: right;\">\n",
       "      <th></th>\n",
       "      <th>coef</th>\n",
       "      <th>stderr</th>\n",
       "      <th>llci</th>\n",
       "      <th>ulci</th>\n",
       "      <th>pvals</th>\n",
       "      <th>ci</th>\n",
       "      <th>p_fdr</th>\n",
       "      <th>R2</th>\n",
       "    </tr>\n",
       "  </thead>\n",
       "  <tbody>\n",
       "    <tr>\n",
       "      <th>AV_2</th>\n",
       "      <td>-0.246150</td>\n",
       "      <td>0.050051</td>\n",
       "      <td>-0.340305</td>\n",
       "      <td>-0.151995</td>\n",
       "      <td>4.162120e-07</td>\n",
       "      <td>[-0.340305, -0.151995]</td>\n",
       "      <td>0.000004</td>\n",
       "      <td>0.287471</td>\n",
       "    </tr>\n",
       "    <tr>\n",
       "      <th>Pul_8</th>\n",
       "      <td>-0.224721</td>\n",
       "      <td>0.042781</td>\n",
       "      <td>-0.314127</td>\n",
       "      <td>-0.135316</td>\n",
       "      <td>1.107948e-06</td>\n",
       "      <td>[-0.314127, -0.135316]</td>\n",
       "      <td>0.000004</td>\n",
       "      <td>0.298971</td>\n",
       "    </tr>\n",
       "    <tr>\n",
       "      <th>VLP_6</th>\n",
       "      <td>-0.223242</td>\n",
       "      <td>0.049036</td>\n",
       "      <td>-0.322426</td>\n",
       "      <td>-0.124059</td>\n",
       "      <td>1.221864e-05</td>\n",
       "      <td>[-0.322426, -0.124059]</td>\n",
       "      <td>0.000024</td>\n",
       "      <td>0.284468</td>\n",
       "    </tr>\n",
       "    <tr>\n",
       "      <th>VPL_7</th>\n",
       "      <td>-0.219521</td>\n",
       "      <td>0.043713</td>\n",
       "      <td>-0.312219</td>\n",
       "      <td>-0.126823</td>\n",
       "      <td>4.297471e-06</td>\n",
       "      <td>[-0.312219, -0.126823]</td>\n",
       "      <td>0.000011</td>\n",
       "      <td>0.293372</td>\n",
       "    </tr>\n",
       "    <tr>\n",
       "      <th>LGN_9</th>\n",
       "      <td>-0.212283</td>\n",
       "      <td>0.039497</td>\n",
       "      <td>-0.296814</td>\n",
       "      <td>-0.127752</td>\n",
       "      <td>1.131578e-06</td>\n",
       "      <td>[-0.296814, -0.127752]</td>\n",
       "      <td>0.000004</td>\n",
       "      <td>0.296883</td>\n",
       "    </tr>\n",
       "    <tr>\n",
       "      <th>MGN_10</th>\n",
       "      <td>-0.193351</td>\n",
       "      <td>0.043738</td>\n",
       "      <td>-0.288820</td>\n",
       "      <td>-0.097881</td>\n",
       "      <td>8.035349e-05</td>\n",
       "      <td>[-0.288820, -0.097881]</td>\n",
       "      <td>0.000118</td>\n",
       "      <td>0.277680</td>\n",
       "    </tr>\n",
       "    <tr>\n",
       "      <th>MD_Pf_12</th>\n",
       "      <td>-0.184840</td>\n",
       "      <td>0.043352</td>\n",
       "      <td>-0.276241</td>\n",
       "      <td>-0.093440</td>\n",
       "      <td>8.225939e-05</td>\n",
       "      <td>[-0.276241, -0.093440]</td>\n",
       "      <td>0.000118</td>\n",
       "      <td>0.280289</td>\n",
       "    </tr>\n",
       "    <tr>\n",
       "      <th>VLa_5</th>\n",
       "      <td>-0.167460</td>\n",
       "      <td>0.049402</td>\n",
       "      <td>-0.271315</td>\n",
       "      <td>-0.063604</td>\n",
       "      <td>1.635378e-03</td>\n",
       "      <td>[-0.271315, -0.063604]</td>\n",
       "      <td>0.002044</td>\n",
       "      <td>0.264186</td>\n",
       "    </tr>\n",
       "    <tr>\n",
       "      <th>CM_11</th>\n",
       "      <td>-0.132125</td>\n",
       "      <td>0.048073</td>\n",
       "      <td>-0.227993</td>\n",
       "      <td>-0.036256</td>\n",
       "      <td>7.017786e-03</td>\n",
       "      <td>[-0.227993, -0.036256]</td>\n",
       "      <td>0.007798</td>\n",
       "      <td>0.262361</td>\n",
       "    </tr>\n",
       "    <tr>\n",
       "      <th>VA_4</th>\n",
       "      <td>-0.107387</td>\n",
       "      <td>0.051360</td>\n",
       "      <td>-0.213212</td>\n",
       "      <td>-0.001563</td>\n",
       "      <td>4.672529e-02</td>\n",
       "      <td>[-0.213212, -0.001563]</td>\n",
       "      <td>0.046725</td>\n",
       "      <td>0.253289</td>\n",
       "    </tr>\n",
       "  </tbody>\n",
       "</table>\n",
       "</div>"
      ],
      "text/plain": [
       "              coef    stderr      llci      ulci         pvals  \\\n",
       "AV_2     -0.246150  0.050051 -0.340305 -0.151995  4.162120e-07   \n",
       "Pul_8    -0.224721  0.042781 -0.314127 -0.135316  1.107948e-06   \n",
       "VLP_6    -0.223242  0.049036 -0.322426 -0.124059  1.221864e-05   \n",
       "VPL_7    -0.219521  0.043713 -0.312219 -0.126823  4.297471e-06   \n",
       "LGN_9    -0.212283  0.039497 -0.296814 -0.127752  1.131578e-06   \n",
       "MGN_10   -0.193351  0.043738 -0.288820 -0.097881  8.035349e-05   \n",
       "MD_Pf_12 -0.184840  0.043352 -0.276241 -0.093440  8.225939e-05   \n",
       "VLa_5    -0.167460  0.049402 -0.271315 -0.063604  1.635378e-03   \n",
       "CM_11    -0.132125  0.048073 -0.227993 -0.036256  7.017786e-03   \n",
       "VA_4     -0.107387  0.051360 -0.213212 -0.001563  4.672529e-02   \n",
       "\n",
       "                              ci     p_fdr        R2  \n",
       "AV_2      [-0.340305, -0.151995]  0.000004  0.287471  \n",
       "Pul_8     [-0.314127, -0.135316]  0.000004  0.298971  \n",
       "VLP_6     [-0.322426, -0.124059]  0.000024  0.284468  \n",
       "VPL_7     [-0.312219, -0.126823]  0.000011  0.293372  \n",
       "LGN_9     [-0.296814, -0.127752]  0.000004  0.296883  \n",
       "MGN_10    [-0.288820, -0.097881]  0.000118  0.277680  \n",
       "MD_Pf_12  [-0.276241, -0.093440]  0.000118  0.280289  \n",
       "VLa_5     [-0.271315, -0.063604]  0.002044  0.264186  \n",
       "CM_11     [-0.227993, -0.036256]  0.007798  0.262361  \n",
       "VA_4      [-0.213212, -0.001563]  0.046725  0.253289  "
      ]
     },
     "execution_count": 21,
     "metadata": {},
     "output_type": "execute_result"
    }
   ],
   "source": [
    "# data_to_sample = df_z.join(df_thomas_z).reset_index()\n",
    "# inds = np.random.randint(0, len(data_to_sample), size=(300,))\n",
    "\n",
    "# rng = np.random.default_rng()\n",
    "# inds = rng.choice(len(data_to_sample), 200)\n",
    "# model_data = data_to_sample.loc[inds, :].set_index(\"subid\")\n",
    "\n",
    "model_data = df_z.join(df_thomas_z)\n",
    "model_data = model_data[model_data['dz_type5'].isin([\"RMS\", \"PMS\"])]\n",
    "covariates = \"age + Female + tiv\"\n",
    "\n",
    "pvals = {}\n",
    "coefs = {}\n",
    "stderrs = {}\n",
    "llci = {}\n",
    "ulci = {}\n",
    "ci_str = {}\n",
    "r2 = {}\n",
    "\n",
    "outcome = \"EDSS_sqrt\"\n",
    "\n",
    "structs = thalamic_nuclei\n",
    "all_results = {}\n",
    "for x in structs:\n",
    "    col = hips_thomas_ref[x]\n",
    "    formula = f\"{outcome} ~ {col}*dzdur + {covariates}\"\n",
    "    res = sm.OLS.from_formula(formula, data=model_data).fit()\n",
    "    all_results[col] = res\n",
    "    pvals[col] = res.pvalues[col]\n",
    "    coefs[col] = res.params[col]\n",
    "    stderrs[col] = res.HC0_se[col]\n",
    "    ci = res.conf_int()\n",
    "    llci[col] = ci.loc[col, 0]\n",
    "    ulci[col] = ci.loc[col, 1]\n",
    "    ci_str[col] = f\"[{llci[col]:.6f}, {ulci[col]:.6f}]\"\n",
    "    r2[col] = res.rsquared_adj\n",
    "\n",
    "\n",
    "\n",
    "regression_results = pd.DataFrame({\"coef\": coefs, \"stderr\": stderrs, \"llci\": llci, \"ulci\": ulci, \"pvals\": pvals, \"ci\": ci_str})\n",
    "regression_results['p_fdr'] = stats.false_discovery_control(\n",
    "    regression_results['pvals'], method='bh'\n",
    ")\n",
    "regression_results['R2'] = r2\n",
    "regression_results.sort_values(by=\"coef\", inplace=True)\n",
    "# regression_results.to_excel(fig_path / \"thalamic_nuclei.xlsx\")\n",
    "main_coefs = np.array([coefs[hips_thomas_ref[x]] for x in structs])\n",
    "\n",
    "regression_results"
   ]
  },
  {
   "cell_type": "code",
   "execution_count": 24,
   "id": "ba518c7f",
   "metadata": {},
   "outputs": [
    {
     "data": {
      "application/vnd.microsoft.datawrangler.viewer.v0+json": {
       "columns": [
        {
         "name": "index",
         "rawType": "object",
         "type": "string"
        },
        {
         "name": "coef",
         "rawType": "float64",
         "type": "float"
        },
        {
         "name": "stderr",
         "rawType": "float64",
         "type": "float"
        },
        {
         "name": "llci",
         "rawType": "float64",
         "type": "float"
        },
        {
         "name": "ulci",
         "rawType": "float64",
         "type": "float"
        },
        {
         "name": "pvals",
         "rawType": "float64",
         "type": "float"
        },
        {
         "name": "ci",
         "rawType": "object",
         "type": "string"
        },
        {
         "name": "p_fdr",
         "rawType": "float64",
         "type": "float"
        },
        {
         "name": "R2",
         "rawType": "float64",
         "type": "float"
        }
       ],
       "ref": "88f2f20a-49e4-49f1-bece-25beaaa9c8aa",
       "rows": [
        [
         "AV_2",
         "-0.15657589429107216",
         "0.04734666641868824",
         "-0.24418048801381",
         "-0.06897130056833431",
         "0.0004890306141800109",
         "[-0.244180, -0.068971]",
         "0.0024451530709000543",
         "0.2623404016852834"
        ],
        [
         "LGN_9",
         "-0.12874857591627945",
         "0.03606316506531072",
         "-0.20889497841009952",
         "-0.048602173422459385",
         "0.0017016107227851333",
         "[-0.208895, -0.048602]",
         "0.0042540268069628335",
         "0.2623894768672129"
        ],
        [
         "Pul_8",
         "-0.1257979205970662",
         "0.03940773403053037",
         "-0.2071896911193633",
         "-0.0444061500747691",
         "0.0025251801134417995",
         "[-0.207190, -0.044406]",
         "0.005050360226883599",
         "0.26403357545755335"
        ],
        [
         "VPL_7",
         "-0.026467092526330428",
         "0.039660492297034715",
         "-0.10907495509970419",
         "0.05614077004704334",
         "0.5292328598527318",
         "[-0.109075, 0.056141]",
         "0.5880365109474799",
         "0.242246799913724"
        ],
        [
         "MD_Pf_12",
         "0.0055686142634446606",
         "0.03872578145363302",
         "-0.07566207407459223",
         "0.08679930260148154",
         "0.8928883565560446",
         "[-0.075662, 0.086799]",
         "0.8928883565560446",
         "0.24141474063136736"
        ],
        [
         "VLP_6",
         "0.04340247499501594",
         "0.04230279838593296",
         "-0.043249007765829794",
         "0.13005395775586168",
         "0.3254580120777061",
         "[-0.043249, 0.130054]",
         "0.40682251509713263",
         "0.24613975132374977"
        ],
        [
         "MGN_10",
         "0.07525511854197067",
         "0.045413467127002796",
         "-0.017328240804175082",
         "0.16783847788811643",
         "0.11087031920085956",
         "[-0.017328, 0.167838]",
         "0.15838617028694224",
         "0.252931356748316"
        ],
        [
         "CM_11",
         "0.08969120156850029",
         "0.045008475174763835",
         "0.003151601032467685",
         "0.1762308021045329",
         "0.042253133702838",
         "[0.003152, 0.176231]",
         "0.07042188950473001",
         "0.2501742728878871"
        ],
        [
         "VLa_5",
         "0.1406346182949744",
         "0.04250513696961831",
         "0.05462223513918571",
         "0.22664700145076308",
         "0.0014070314852550876",
         "[0.054622, 0.226647]",
         "0.0042540268069628335",
         "0.2743053382454994"
        ],
        [
         "VA_4",
         "0.18989532686869734",
         "0.04042522736933027",
         "0.10527648526918672",
         "0.274514168468208",
         "1.2949658747317553e-05",
         "[0.105276, 0.274514]",
         "0.00012949658747317552",
         "0.2941355740201812"
        ]
       ],
       "shape": {
        "columns": 8,
        "rows": 10
       }
      },
      "text/html": [
       "<div>\n",
       "<style scoped>\n",
       "    .dataframe tbody tr th:only-of-type {\n",
       "        vertical-align: middle;\n",
       "    }\n",
       "\n",
       "    .dataframe tbody tr th {\n",
       "        vertical-align: top;\n",
       "    }\n",
       "\n",
       "    .dataframe thead th {\n",
       "        text-align: right;\n",
       "    }\n",
       "</style>\n",
       "<table border=\"1\" class=\"dataframe\">\n",
       "  <thead>\n",
       "    <tr style=\"text-align: right;\">\n",
       "      <th></th>\n",
       "      <th>coef</th>\n",
       "      <th>stderr</th>\n",
       "      <th>llci</th>\n",
       "      <th>ulci</th>\n",
       "      <th>pvals</th>\n",
       "      <th>ci</th>\n",
       "      <th>p_fdr</th>\n",
       "      <th>R2</th>\n",
       "    </tr>\n",
       "  </thead>\n",
       "  <tbody>\n",
       "    <tr>\n",
       "      <th>AV_2</th>\n",
       "      <td>-0.156576</td>\n",
       "      <td>0.047347</td>\n",
       "      <td>-0.244180</td>\n",
       "      <td>-0.068971</td>\n",
       "      <td>0.000489</td>\n",
       "      <td>[-0.244180, -0.068971]</td>\n",
       "      <td>0.002445</td>\n",
       "      <td>0.262340</td>\n",
       "    </tr>\n",
       "    <tr>\n",
       "      <th>LGN_9</th>\n",
       "      <td>-0.128749</td>\n",
       "      <td>0.036063</td>\n",
       "      <td>-0.208895</td>\n",
       "      <td>-0.048602</td>\n",
       "      <td>0.001702</td>\n",
       "      <td>[-0.208895, -0.048602]</td>\n",
       "      <td>0.004254</td>\n",
       "      <td>0.262389</td>\n",
       "    </tr>\n",
       "    <tr>\n",
       "      <th>Pul_8</th>\n",
       "      <td>-0.125798</td>\n",
       "      <td>0.039408</td>\n",
       "      <td>-0.207190</td>\n",
       "      <td>-0.044406</td>\n",
       "      <td>0.002525</td>\n",
       "      <td>[-0.207190, -0.044406]</td>\n",
       "      <td>0.005050</td>\n",
       "      <td>0.264034</td>\n",
       "    </tr>\n",
       "    <tr>\n",
       "      <th>VPL_7</th>\n",
       "      <td>-0.026467</td>\n",
       "      <td>0.039660</td>\n",
       "      <td>-0.109075</td>\n",
       "      <td>0.056141</td>\n",
       "      <td>0.529233</td>\n",
       "      <td>[-0.109075, 0.056141]</td>\n",
       "      <td>0.588037</td>\n",
       "      <td>0.242247</td>\n",
       "    </tr>\n",
       "    <tr>\n",
       "      <th>MD_Pf_12</th>\n",
       "      <td>0.005569</td>\n",
       "      <td>0.038726</td>\n",
       "      <td>-0.075662</td>\n",
       "      <td>0.086799</td>\n",
       "      <td>0.892888</td>\n",
       "      <td>[-0.075662, 0.086799]</td>\n",
       "      <td>0.892888</td>\n",
       "      <td>0.241415</td>\n",
       "    </tr>\n",
       "    <tr>\n",
       "      <th>VLP_6</th>\n",
       "      <td>0.043402</td>\n",
       "      <td>0.042303</td>\n",
       "      <td>-0.043249</td>\n",
       "      <td>0.130054</td>\n",
       "      <td>0.325458</td>\n",
       "      <td>[-0.043249, 0.130054]</td>\n",
       "      <td>0.406823</td>\n",
       "      <td>0.246140</td>\n",
       "    </tr>\n",
       "    <tr>\n",
       "      <th>MGN_10</th>\n",
       "      <td>0.075255</td>\n",
       "      <td>0.045413</td>\n",
       "      <td>-0.017328</td>\n",
       "      <td>0.167838</td>\n",
       "      <td>0.110870</td>\n",
       "      <td>[-0.017328, 0.167838]</td>\n",
       "      <td>0.158386</td>\n",
       "      <td>0.252931</td>\n",
       "    </tr>\n",
       "    <tr>\n",
       "      <th>CM_11</th>\n",
       "      <td>0.089691</td>\n",
       "      <td>0.045008</td>\n",
       "      <td>0.003152</td>\n",
       "      <td>0.176231</td>\n",
       "      <td>0.042253</td>\n",
       "      <td>[0.003152, 0.176231]</td>\n",
       "      <td>0.070422</td>\n",
       "      <td>0.250174</td>\n",
       "    </tr>\n",
       "    <tr>\n",
       "      <th>VLa_5</th>\n",
       "      <td>0.140635</td>\n",
       "      <td>0.042505</td>\n",
       "      <td>0.054622</td>\n",
       "      <td>0.226647</td>\n",
       "      <td>0.001407</td>\n",
       "      <td>[0.054622, 0.226647]</td>\n",
       "      <td>0.004254</td>\n",
       "      <td>0.274305</td>\n",
       "    </tr>\n",
       "    <tr>\n",
       "      <th>VA_4</th>\n",
       "      <td>0.189895</td>\n",
       "      <td>0.040425</td>\n",
       "      <td>0.105276</td>\n",
       "      <td>0.274514</td>\n",
       "      <td>0.000013</td>\n",
       "      <td>[0.105276, 0.274514]</td>\n",
       "      <td>0.000129</td>\n",
       "      <td>0.294136</td>\n",
       "    </tr>\n",
       "  </tbody>\n",
       "</table>\n",
       "</div>"
      ],
      "text/plain": [
       "              coef    stderr      llci      ulci     pvals  \\\n",
       "AV_2     -0.156576  0.047347 -0.244180 -0.068971  0.000489   \n",
       "LGN_9    -0.128749  0.036063 -0.208895 -0.048602  0.001702   \n",
       "Pul_8    -0.125798  0.039408 -0.207190 -0.044406  0.002525   \n",
       "VPL_7    -0.026467  0.039660 -0.109075  0.056141  0.529233   \n",
       "MD_Pf_12  0.005569  0.038726 -0.075662  0.086799  0.892888   \n",
       "VLP_6     0.043402  0.042303 -0.043249  0.130054  0.325458   \n",
       "MGN_10    0.075255  0.045413 -0.017328  0.167838  0.110870   \n",
       "CM_11     0.089691  0.045008  0.003152  0.176231  0.042253   \n",
       "VLa_5     0.140635  0.042505  0.054622  0.226647  0.001407   \n",
       "VA_4      0.189895  0.040425  0.105276  0.274514  0.000013   \n",
       "\n",
       "                              ci     p_fdr        R2  \n",
       "AV_2      [-0.244180, -0.068971]  0.002445  0.262340  \n",
       "LGN_9     [-0.208895, -0.048602]  0.004254  0.262389  \n",
       "Pul_8     [-0.207190, -0.044406]  0.005050  0.264034  \n",
       "VPL_7      [-0.109075, 0.056141]  0.588037  0.242247  \n",
       "MD_Pf_12   [-0.075662, 0.086799]  0.892888  0.241415  \n",
       "VLP_6      [-0.043249, 0.130054]  0.406823  0.246140  \n",
       "MGN_10     [-0.017328, 0.167838]  0.158386  0.252931  \n",
       "CM_11       [0.003152, 0.176231]  0.070422  0.250174  \n",
       "VLa_5       [0.054622, 0.226647]  0.004254  0.274305  \n",
       "VA_4        [0.105276, 0.274514]  0.000129  0.294136  "
      ]
     },
     "execution_count": 24,
     "metadata": {},
     "output_type": "execute_result"
    }
   ],
   "source": [
    "# data_to_sample = df_z.join(df_thomas_z).reset_index()\n",
    "# inds = np.random.randint(0, len(data_to_sample), size=(300,))\n",
    "\n",
    "# rng = np.random.default_rng()\n",
    "# inds = rng.choice(len(data_to_sample), 200)\n",
    "# model_data = data_to_sample.loc[inds, :].set_index(\"subid\")\n",
    "\n",
    "model_data = df_z.join(df_thomas_norm_z)\n",
    "model_data = model_data[model_data['dz_type5'].isin([\"RMS\", \"PMS\"])]\n",
    "covariates = \"age + Female + tiv\"\n",
    "\n",
    "pvals = {}\n",
    "coefs = {}\n",
    "stderrs = {}\n",
    "llci = {}\n",
    "ulci = {}\n",
    "ci_str = {}\n",
    "r2 = {}\n",
    "\n",
    "outcome = \"EDSS_sqrt\"\n",
    "\n",
    "structs = thalamic_nuclei\n",
    "all_results = {}\n",
    "for x in structs:\n",
    "    col = hips_thomas_ref[x]\n",
    "    formula = f\"{outcome} ~ {col}*dzdur + {covariates}\"\n",
    "    res = sm.OLS.from_formula(formula, data=model_data).fit()\n",
    "    all_results[col] = res\n",
    "    pvals[col] = res.pvalues[col]\n",
    "    coefs[col] = res.params[col]\n",
    "    stderrs[col] = res.HC0_se[col]\n",
    "    ci = res.conf_int()\n",
    "    llci[col] = ci.loc[col, 0]\n",
    "    ulci[col] = ci.loc[col, 1]\n",
    "    ci_str[col] = f\"[{llci[col]:.6f}, {ulci[col]:.6f}]\"\n",
    "    r2[col] = res.rsquared_adj\n",
    "\n",
    "\n",
    "\n",
    "regression_results = pd.DataFrame({\"coef\": coefs, \"stderr\": stderrs, \"llci\": llci, \"ulci\": ulci, \"pvals\": pvals, \"ci\": ci_str})\n",
    "regression_results['p_fdr'] = stats.false_discovery_control(\n",
    "    regression_results['pvals'], method='bh'\n",
    ")\n",
    "regression_results['R2'] = r2\n",
    "regression_results.sort_values(by=\"coef\", inplace=True)\n",
    "# regression_results.to_excel(fig_path / \"thalamic_nuclei_normed.xlsx\")\n",
    "main_coefs = np.array([coefs[hips_thomas_ref[x]] for x in structs])\n",
    "\n",
    "regression_results"
   ]
  },
  {
   "cell_type": "markdown",
   "id": "db695744",
   "metadata": {},
   "source": [
    "#### Control for whole thalamus volume\n",
    "\n",
    "Correlate each of the thalamic nuclei to EDSS, including whole thalalmic volume as a covariate. None of the p values are significant, but we can still compare coefficients to see each nucleus's relative contribution to EDSS. Will bootstrap these regressions in the following cell to see if the rank is significant.  "
   ]
  },
  {
   "cell_type": "code",
   "execution_count": 105,
   "id": "88d05e2b",
   "metadata": {},
   "outputs": [
    {
     "data": {
      "application/vnd.microsoft.datawrangler.viewer.v0+json": {
       "columns": [
        {
         "name": "index",
         "rawType": "object",
         "type": "string"
        },
        {
         "name": "coef",
         "rawType": "float64",
         "type": "float"
        },
        {
         "name": "thal_coef",
         "rawType": "float64",
         "type": "float"
        },
        {
         "name": "stderr",
         "rawType": "float64",
         "type": "float"
        },
        {
         "name": "llci",
         "rawType": "float64",
         "type": "float"
        },
        {
         "name": "ulci",
         "rawType": "float64",
         "type": "float"
        },
        {
         "name": "pvals",
         "rawType": "float64",
         "type": "float"
        },
        {
         "name": "ci",
         "rawType": "object",
         "type": "string"
        },
        {
         "name": "p_fdr",
         "rawType": "float64",
         "type": "float"
        },
        {
         "name": "R2",
         "rawType": "float64",
         "type": "float"
        }
       ],
       "ref": "80b6b972-c3d7-468b-8ad7-ff293834d1c4",
       "rows": [
        [
         "AV_2",
         "-0.14155149972984737",
         "-0.1607389924082364",
         "0.06982926297302837",
         "-0.26686003985510753",
         "-0.016242959604587215",
         "0.02691784797959605",
         "[-0.266860, -0.016243]",
         "0.17183725262263141",
         "0.295513344742803"
        ],
        [
         "LGN_9",
         "-0.1264081411374072",
         "-0.14069616504724022",
         "0.05312775047947844",
         "-0.243467682158387",
         "-0.009348600116427422",
         "0.034367450524526284",
         "[-0.243468, -0.009349]",
         "0.17183725262263141",
         "0.3020617378695726"
        ],
        [
         "VPL_7",
         "-0.09498275876598437",
         "-0.16108437194330985",
         "0.07624075831334147",
         "-0.2503977811614763",
         "0.060432263629507585",
         "0.23034755129370796",
         "[-0.250398, 0.060432]",
         "0.5702789210002511",
         "0.29783774789035555"
        ],
        [
         "Pul_8",
         "-0.09055885691879173",
         "-0.15466199660108745",
         "0.1249592445608118",
         "-0.3306462458285384",
         "0.14952853199095492",
         "0.458904152693245",
         "[-0.330646, 0.149529]",
         "0.65557736099035",
         "0.2995990310745593"
        ],
        [
         "VLP_6",
         "-0.05872759669598979",
         "-0.19276716993830048",
         "0.09389153475921232",
         "-0.24054262015476074",
         "0.12308742676278117",
         "0.5258789678859708",
         "[-0.240543, 0.123087]",
         "0.6573487098574635",
         "0.29001958427493035"
        ],
        [
         "VLa_5",
         "-0.02969487265505165",
         "-0.23427673048693784",
         "0.06164914920111976",
         "-0.15254350628433427",
         "0.09315376097423096",
         "0.634982296148004",
         "[-0.152544, 0.093154]",
         "0.7055358846088934",
         "0.28775765130810516"
        ],
        [
         "MGN_10",
         "-0.026488415371736563",
         "-0.2253222343073608",
         "0.07337604912430093",
         "-0.17078311673574906",
         "0.11780628599227592",
         "0.7184388196811844",
         "[-0.170783, 0.117806]",
         "0.7184388196811844",
         "0.2905042458601471"
        ],
        [
         "CM_11",
         "0.061787027349488426",
         "-0.2927463580303276",
         "0.0695727596749607",
         "-0.06591264530285873",
         "0.1894867000018356",
         "0.34216735260015063",
         "[-0.065913, 0.189487]",
         "0.5702789210002511",
         "0.2916088709341449"
        ],
        [
         "VA_4",
         "0.0966149878982796",
         "-0.30688755943802853",
         "0.06383634328790114",
         "-0.03487869376694033",
         "0.22810866956349954",
         "0.1494395314077747",
         "[-0.034879, 0.228109]",
         "0.49813177135924896",
         "0.2901948904406534"
        ],
        [
         "MD_Pf_12",
         "0.11656345138161628",
         "-0.3545606846260228",
         "0.10532663832663298",
         "-0.09758547772678122",
         "0.3307123804900138",
         "0.28531719473473816",
         "[-0.097585, 0.330712]",
         "0.5702789210002511",
         "0.2934651419749531"
        ]
       ],
       "shape": {
        "columns": 9,
        "rows": 10
       }
      },
      "text/html": [
       "<div>\n",
       "<style scoped>\n",
       "    .dataframe tbody tr th:only-of-type {\n",
       "        vertical-align: middle;\n",
       "    }\n",
       "\n",
       "    .dataframe tbody tr th {\n",
       "        vertical-align: top;\n",
       "    }\n",
       "\n",
       "    .dataframe thead th {\n",
       "        text-align: right;\n",
       "    }\n",
       "</style>\n",
       "<table border=\"1\" class=\"dataframe\">\n",
       "  <thead>\n",
       "    <tr style=\"text-align: right;\">\n",
       "      <th></th>\n",
       "      <th>coef</th>\n",
       "      <th>thal_coef</th>\n",
       "      <th>stderr</th>\n",
       "      <th>llci</th>\n",
       "      <th>ulci</th>\n",
       "      <th>pvals</th>\n",
       "      <th>ci</th>\n",
       "      <th>p_fdr</th>\n",
       "      <th>R2</th>\n",
       "    </tr>\n",
       "  </thead>\n",
       "  <tbody>\n",
       "    <tr>\n",
       "      <th>AV_2</th>\n",
       "      <td>-0.141551</td>\n",
       "      <td>-0.160739</td>\n",
       "      <td>0.069829</td>\n",
       "      <td>-0.266860</td>\n",
       "      <td>-0.016243</td>\n",
       "      <td>0.026918</td>\n",
       "      <td>[-0.266860, -0.016243]</td>\n",
       "      <td>0.171837</td>\n",
       "      <td>0.295513</td>\n",
       "    </tr>\n",
       "    <tr>\n",
       "      <th>LGN_9</th>\n",
       "      <td>-0.126408</td>\n",
       "      <td>-0.140696</td>\n",
       "      <td>0.053128</td>\n",
       "      <td>-0.243468</td>\n",
       "      <td>-0.009349</td>\n",
       "      <td>0.034367</td>\n",
       "      <td>[-0.243468, -0.009349]</td>\n",
       "      <td>0.171837</td>\n",
       "      <td>0.302062</td>\n",
       "    </tr>\n",
       "    <tr>\n",
       "      <th>VPL_7</th>\n",
       "      <td>-0.094983</td>\n",
       "      <td>-0.161084</td>\n",
       "      <td>0.076241</td>\n",
       "      <td>-0.250398</td>\n",
       "      <td>0.060432</td>\n",
       "      <td>0.230348</td>\n",
       "      <td>[-0.250398, 0.060432]</td>\n",
       "      <td>0.570279</td>\n",
       "      <td>0.297838</td>\n",
       "    </tr>\n",
       "    <tr>\n",
       "      <th>Pul_8</th>\n",
       "      <td>-0.090559</td>\n",
       "      <td>-0.154662</td>\n",
       "      <td>0.124959</td>\n",
       "      <td>-0.330646</td>\n",
       "      <td>0.149529</td>\n",
       "      <td>0.458904</td>\n",
       "      <td>[-0.330646, 0.149529]</td>\n",
       "      <td>0.655577</td>\n",
       "      <td>0.299599</td>\n",
       "    </tr>\n",
       "    <tr>\n",
       "      <th>VLP_6</th>\n",
       "      <td>-0.058728</td>\n",
       "      <td>-0.192767</td>\n",
       "      <td>0.093892</td>\n",
       "      <td>-0.240543</td>\n",
       "      <td>0.123087</td>\n",
       "      <td>0.525879</td>\n",
       "      <td>[-0.240543, 0.123087]</td>\n",
       "      <td>0.657349</td>\n",
       "      <td>0.290020</td>\n",
       "    </tr>\n",
       "    <tr>\n",
       "      <th>VLa_5</th>\n",
       "      <td>-0.029695</td>\n",
       "      <td>-0.234277</td>\n",
       "      <td>0.061649</td>\n",
       "      <td>-0.152544</td>\n",
       "      <td>0.093154</td>\n",
       "      <td>0.634982</td>\n",
       "      <td>[-0.152544, 0.093154]</td>\n",
       "      <td>0.705536</td>\n",
       "      <td>0.287758</td>\n",
       "    </tr>\n",
       "    <tr>\n",
       "      <th>MGN_10</th>\n",
       "      <td>-0.026488</td>\n",
       "      <td>-0.225322</td>\n",
       "      <td>0.073376</td>\n",
       "      <td>-0.170783</td>\n",
       "      <td>0.117806</td>\n",
       "      <td>0.718439</td>\n",
       "      <td>[-0.170783, 0.117806]</td>\n",
       "      <td>0.718439</td>\n",
       "      <td>0.290504</td>\n",
       "    </tr>\n",
       "    <tr>\n",
       "      <th>CM_11</th>\n",
       "      <td>0.061787</td>\n",
       "      <td>-0.292746</td>\n",
       "      <td>0.069573</td>\n",
       "      <td>-0.065913</td>\n",
       "      <td>0.189487</td>\n",
       "      <td>0.342167</td>\n",
       "      <td>[-0.065913, 0.189487]</td>\n",
       "      <td>0.570279</td>\n",
       "      <td>0.291609</td>\n",
       "    </tr>\n",
       "    <tr>\n",
       "      <th>VA_4</th>\n",
       "      <td>0.096615</td>\n",
       "      <td>-0.306888</td>\n",
       "      <td>0.063836</td>\n",
       "      <td>-0.034879</td>\n",
       "      <td>0.228109</td>\n",
       "      <td>0.149440</td>\n",
       "      <td>[-0.034879, 0.228109]</td>\n",
       "      <td>0.498132</td>\n",
       "      <td>0.290195</td>\n",
       "    </tr>\n",
       "    <tr>\n",
       "      <th>MD_Pf_12</th>\n",
       "      <td>0.116563</td>\n",
       "      <td>-0.354561</td>\n",
       "      <td>0.105327</td>\n",
       "      <td>-0.097585</td>\n",
       "      <td>0.330712</td>\n",
       "      <td>0.285317</td>\n",
       "      <td>[-0.097585, 0.330712]</td>\n",
       "      <td>0.570279</td>\n",
       "      <td>0.293465</td>\n",
       "    </tr>\n",
       "  </tbody>\n",
       "</table>\n",
       "</div>"
      ],
      "text/plain": [
       "              coef  thal_coef    stderr      llci      ulci     pvals  \\\n",
       "AV_2     -0.141551  -0.160739  0.069829 -0.266860 -0.016243  0.026918   \n",
       "LGN_9    -0.126408  -0.140696  0.053128 -0.243468 -0.009349  0.034367   \n",
       "VPL_7    -0.094983  -0.161084  0.076241 -0.250398  0.060432  0.230348   \n",
       "Pul_8    -0.090559  -0.154662  0.124959 -0.330646  0.149529  0.458904   \n",
       "VLP_6    -0.058728  -0.192767  0.093892 -0.240543  0.123087  0.525879   \n",
       "VLa_5    -0.029695  -0.234277  0.061649 -0.152544  0.093154  0.634982   \n",
       "MGN_10   -0.026488  -0.225322  0.073376 -0.170783  0.117806  0.718439   \n",
       "CM_11     0.061787  -0.292746  0.069573 -0.065913  0.189487  0.342167   \n",
       "VA_4      0.096615  -0.306888  0.063836 -0.034879  0.228109  0.149440   \n",
       "MD_Pf_12  0.116563  -0.354561  0.105327 -0.097585  0.330712  0.285317   \n",
       "\n",
       "                              ci     p_fdr        R2  \n",
       "AV_2      [-0.266860, -0.016243]  0.171837  0.295513  \n",
       "LGN_9     [-0.243468, -0.009349]  0.171837  0.302062  \n",
       "VPL_7      [-0.250398, 0.060432]  0.570279  0.297838  \n",
       "Pul_8      [-0.330646, 0.149529]  0.655577  0.299599  \n",
       "VLP_6      [-0.240543, 0.123087]  0.657349  0.290020  \n",
       "VLa_5      [-0.152544, 0.093154]  0.705536  0.287758  \n",
       "MGN_10     [-0.170783, 0.117806]  0.718439  0.290504  \n",
       "CM_11      [-0.065913, 0.189487]  0.570279  0.291609  \n",
       "VA_4       [-0.034879, 0.228109]  0.498132  0.290195  \n",
       "MD_Pf_12   [-0.097585, 0.330712]  0.570279  0.293465  "
      ]
     },
     "execution_count": 105,
     "metadata": {},
     "output_type": "execute_result"
    }
   ],
   "source": [
    "model_data = df_z.join(df_thomas_z)\n",
    "model_data['whole_thalamus'] = df_thomas_z['THALAMUS_1']\n",
    "model_data = model_data[model_data['dz_type5'].isin([\"RMS\", \"PMS\"])]\n",
    "covariates = \"age + Female + tiv + whole_thalamus\"\n",
    "\n",
    "pvals = {}\n",
    "coefs = {}\n",
    "thal_coefs = {}\n",
    "stderrs = {}\n",
    "llci = {}\n",
    "ulci = {}\n",
    "ci_str = {}\n",
    "r2 = {}\n",
    "\n",
    "\n",
    "outcome = \"EDSS_sqrt\"\n",
    "\n",
    "structs = thalamic_nuclei\n",
    "all_results = {}\n",
    "for x in structs:\n",
    "    col = hips_thomas_ref[x]\n",
    "    formula = f\"{outcome} ~ {col}*dzdur + {covariates}\"\n",
    "    res = sm.OLS.from_formula(formula, data=model_data).fit()\n",
    "    pvals[col] = res.pvalues[col]\n",
    "    coefs[col] = res.params[col]\n",
    "    thal_coefs[col] = res.params['whole_thalamus']\n",
    "    stderrs[col] = res.HC0_se[col]\n",
    "    ci = res.conf_int()\n",
    "    llci[col] = ci.loc[col, 0]\n",
    "    ulci[col] = ci.loc[col, 1]\n",
    "    ci_str[col] = f\"[{llci[col]:.6f}, {ulci[col]:.6f}]\"\n",
    "    r2[col] = res.rsquared_adj\n",
    "\n",
    "\n",
    "\n",
    "regression_results = pd.DataFrame({\"coef\": coefs, \"thal_coef\": thal_coefs, \"stderr\": stderrs, \"llci\": llci, \"ulci\": ulci, \"pvals\": pvals, \"ci\": ci_str})\n",
    "regression_results['p_fdr'] = stats.false_discovery_control(\n",
    "    regression_results['pvals'], method='bh'\n",
    ")\n",
    "regression_results['R2'] = r2\n",
    "\n",
    "main_coefs = np.array([coefs[hips_thomas_ref[x]] for x in structs])\n",
    "regression_results.sort_values(by=\"coef\", inplace=True)\n",
    "regression_results.to_excel(fig_path / \"thalamic_nuclei-thalamus_control.xlsx\")\n",
    "regression_results"
   ]
  },
  {
   "cell_type": "markdown",
   "id": "8cfb8350",
   "metadata": {},
   "source": [
    "Bootstrap the regressions"
   ]
  },
  {
   "cell_type": "code",
   "execution_count": 81,
   "id": "bc4dda29",
   "metadata": {},
   "outputs": [
    {
     "data": {
      "application/vnd.jupyter.widget-view+json": {
       "model_id": "ae5c9237bb084570a977d3ffedfffe2d",
       "version_major": 2,
       "version_minor": 0
      },
      "text/plain": [
       "  0%|          | 0/1000 [00:00<?, ?it/s]"
      ]
     },
     "metadata": {},
     "output_type": "display_data"
    }
   ],
   "source": [
    "data_to_sample = df_z.join(df_thomas_z)\n",
    "data_to_sample = data_to_sample[data_to_sample['dz_type5'].isin([\"RMS\", \"PMS\"])].reset_index()\n",
    "data_to_sample.loc[data_to_sample['EDSS_sqrt'].isna(), 'EDSS_sqrt'] = model_data['EDSS_sqrt'].median()\n",
    "\n",
    "covariates = \"age + Female + tiv\"\n",
    "\n",
    "def get_zeros():\n",
    "    return np.zeros((1000,))\n",
    "\n",
    "coefs_boot1 = defaultdict(get_zeros)\n",
    "\n",
    "outcome = \"EDSS_sqrt\"\n",
    "\n",
    "for i in tqdm(range(1000)):\n",
    "    inds = np.random.randint(0, data_to_sample.index.max(), len(data_to_sample))\n",
    "    model_data = data_to_sample.loc[inds, :]\n",
    "    for x in structs:\n",
    "        col = hips_thomas_ref[x]\n",
    "        formula = f\"{outcome} ~ {col}*dzdur + {covariates}\"\n",
    "        res = sm.OLS.from_formula(formula, data=model_data).fit()\n",
    "        coefs_boot1[col][i] = res.params[col]"
   ]
  },
  {
   "cell_type": "code",
   "execution_count": 84,
   "id": "da9b4f82",
   "metadata": {},
   "outputs": [
    {
     "data": {
      "application/vnd.jupyter.widget-view+json": {
       "model_id": "5119a85379564c23973d28c5cbcb4d33",
       "version_major": 2,
       "version_minor": 0
      },
      "text/plain": [
       "  0%|          | 0/1000 [00:00<?, ?it/s]"
      ]
     },
     "metadata": {},
     "output_type": "display_data"
    }
   ],
   "source": [
    "data_to_sample = df_z.join(df_thomas_z)\n",
    "data_to_sample = data_to_sample[data_to_sample['dz_type5'].isin([\"RMS\", \"PMS\"])].reset_index()\n",
    "data_to_sample.loc[data_to_sample['EDSS_sqrt'].isna(), 'EDSS_sqrt'] = model_data['EDSS_sqrt'].median()\n",
    "\n",
    "covariates = \"age + Female + tiv + THALAMUS_1\"\n",
    "\n",
    "def get_zeros():\n",
    "    return np.zeros((1000,))\n",
    "\n",
    "coefs_boot2 = defaultdict(get_zeros)\n",
    "\n",
    "outcome = \"EDSS_sqrt\"\n",
    "\n",
    "for i in tqdm(range(1000)):\n",
    "    inds = np.random.randint(0, data_to_sample.index.max(), len(data_to_sample))\n",
    "    model_data = data_to_sample.loc[inds, :]\n",
    "    for x in structs:\n",
    "        col = hips_thomas_ref[x]\n",
    "        formula = f\"{outcome} ~ {col}*dzdur + {covariates}\"\n",
    "        res = sm.OLS.from_formula(formula, data=model_data).fit()\n",
    "        coefs_boot2[col][i] = res.params[col]"
   ]
  },
  {
   "cell_type": "markdown",
   "id": "65a87bc2",
   "metadata": {},
   "source": [
    "Get the mean and 95% CI of the bootstrapped coefficients for each nucleus"
   ]
  },
  {
   "cell_type": "code",
   "execution_count": 39,
   "id": "74705607",
   "metadata": {},
   "outputs": [
    {
     "name": "stdout",
     "output_type": "stream",
     "text": [
      "-0.1090 [-0.25, 0.02]\n",
      "0.1029 [-0.02, 0.23]\n",
      "-0.0241 [-0.15, 0.10]\n",
      "-0.0599 [-0.23, 0.12]\n",
      "-0.0667 [-0.22, 0.09]\n",
      "-0.0583 [-0.33, 0.19]\n",
      "-0.1281 [-0.23, -0.02]\n",
      "-0.0202 [-0.17, 0.12]\n",
      "0.0745 [-0.05, 0.21]\n",
      "0.0838 [-0.12, 0.29]\n"
     ]
    },
    {
     "data": {
      "text/plain": [
       "0.9819684379090603"
      ]
     },
     "execution_count": 39,
     "metadata": {},
     "output_type": "execute_result"
    }
   ],
   "source": [
    "coefs_copy = coefs_boot2.copy()\n",
    "llci = {}\n",
    "ulci = {}\n",
    "means = {}\n",
    "for x in structs:\n",
    "    col = hips_thomas_ref[x]\n",
    "    coefs_copy[col] = np.sort(coefs_copy[col])\n",
    "    llci[col] = coefs_copy[col][25]\n",
    "    ulci[col] = coefs_copy[col][975]\n",
    "    means[col] = np.mean(coefs_copy[col])\n",
    "    print(f\"{means[col]:.4f} [{llci[col]:2.2f}, {ulci[col]:2.2f}]\")\n",
    "\n",
    "coefs_bootmean = np.array([means[hips_thomas_ref[x]] for x in structs])\n",
    "np.corrcoef(main_coefs, coefs_bootmean)[0,1]"
   ]
  },
  {
   "cell_type": "markdown",
   "id": "7032e83c",
   "metadata": {},
   "source": [
    "Correlate the coefficients of the nuclei for each boostrapped sample to the main regression to see if the relative strengths of the nuclei's coefficients are consistent across resamples"
   ]
  },
  {
   "cell_type": "code",
   "execution_count": 101,
   "id": "25818683",
   "metadata": {},
   "outputs": [
    {
     "name": "stdout",
     "output_type": "stream",
     "text": [
      "0.56 [-0.02, 0.90]\n",
      "0.44 [0.02, 0.73]\n"
     ]
    }
   ],
   "source": [
    "coefs_boot_arr = np.zeros((len(structs), 1000))\n",
    "for i, x in enumerate(structs):\n",
    "    col = hips_thomas_ref[x]\n",
    "    coefs_boot_arr[i, :] = coefs_boot2[col]\n",
    "\n",
    "corr_coefs = np.zeros((1000,))\n",
    "kendal_taus = np.zeros((1000,))\n",
    "for i in range(1000):\n",
    "    corr_coefs[i] = np.corrcoef(coefs_boot_arr[:,i], main_coefs)[0,1]\n",
    "    kendal_taus[i] = stats.kendalltau(coefs_boot_arr[:,i], main_coefs)[0]\n",
    "mean_corrcoef = np.mean(corr_coefs)\n",
    "mean_tau = np.mean(kendal_taus)\n",
    "corr_coefs = np.sort(corr_coefs)\n",
    "kendal_taus = np.sort(kendal_taus)\n",
    "print(f\"{mean_corrcoef:.2f} [{corr_coefs[25]:.2f}, {corr_coefs[975]:.2f}]\")\n",
    "print(f\"{mean_tau:.2f} [{kendal_taus[25]:.2f}, {kendal_taus[975]:.2f}]\")"
   ]
  },
  {
   "cell_type": "code",
   "execution_count": 102,
   "id": "96bc2e4f",
   "metadata": {},
   "outputs": [
    {
     "data": {
      "application/vnd.microsoft.datawrangler.viewer.v0+json": {
       "columns": [
        {
         "name": "struct",
         "rawType": "object",
         "type": "string"
        },
        {
         "name": "0",
         "rawType": "float64",
         "type": "float"
        }
       ],
       "ref": "3110d307-fe73-4e3e-aaa7-87ac7df18ff3",
       "rows": [
        [
         "AV_2",
         "0.301"
        ],
        [
         "Pul_8",
         "0.265"
        ],
        [
         "LGN_9",
         "0.18"
        ],
        [
         "VLP_6",
         "0.113"
        ],
        [
         "VPL_7",
         "0.108"
        ],
        [
         "MGN_10",
         "0.017"
        ],
        [
         "VLa_5",
         "0.012"
        ],
        [
         "MD_Pf_12",
         "0.004"
        ],
        [
         "VA_4",
         "0.0"
        ],
        [
         "CM_11",
         "0.0"
        ]
       ],
       "shape": {
        "columns": 1,
        "rows": 10
       }
      },
      "text/plain": [
       "struct\n",
       "AV_2        0.301\n",
       "Pul_8       0.265\n",
       "LGN_9       0.180\n",
       "VLP_6       0.113\n",
       "VPL_7       0.108\n",
       "MGN_10      0.017\n",
       "VLa_5       0.012\n",
       "MD_Pf_12    0.004\n",
       "VA_4        0.000\n",
       "CM_11       0.000\n",
       "dtype: float64"
      ]
     },
     "execution_count": 102,
     "metadata": {},
     "output_type": "execute_result"
    }
   ],
   "source": [
    "win_counts = np.zeros((coefs_boot_arr.shape[0],))\n",
    "for i in range(1000):\n",
    "    win_counts[coefs_boot_arr[:,i].argmin()] += 1\n",
    "\n",
    "win_count_df = pd.Series(win_counts/1000, index=hips_thomas_ref[thalamic_nuclei])\n",
    "win_count_df.sort_values(ascending=False)"
   ]
  },
  {
   "cell_type": "code",
   "execution_count": 44,
   "id": "437eb64a",
   "metadata": {},
   "outputs": [
    {
     "data": {
      "application/vnd.microsoft.datawrangler.viewer.v0+json": {
       "columns": [
        {
         "name": "struct",
         "rawType": "object",
         "type": "string"
        },
        {
         "name": "0",
         "rawType": "float64",
         "type": "float"
        }
       ],
       "ref": "19115ba2-a489-4fe4-8bfa-d66bbc381bca",
       "rows": [
        [
         "VLP_6",
         "0.338"
        ],
        [
         "AV_2",
         "0.183"
        ],
        [
         "Pul_8",
         "0.165"
        ],
        [
         "VPL_7",
         "0.127"
        ],
        [
         "LGN_9",
         "0.113"
        ],
        [
         "MGN_10",
         "0.042"
        ],
        [
         "VLa_5",
         "0.022"
        ],
        [
         "MD_Pf_12",
         "0.009"
        ],
        [
         "CM_11",
         "0.001"
        ],
        [
         "VA_4",
         "0.0"
        ]
       ],
       "shape": {
        "columns": 1,
        "rows": 10
       }
      },
      "text/plain": [
       "struct\n",
       "VLP_6       0.338\n",
       "AV_2        0.183\n",
       "Pul_8       0.165\n",
       "VPL_7       0.127\n",
       "LGN_9       0.113\n",
       "MGN_10      0.042\n",
       "VLa_5       0.022\n",
       "MD_Pf_12    0.009\n",
       "CM_11       0.001\n",
       "VA_4        0.000\n",
       "dtype: float64"
      ]
     },
     "execution_count": 44,
     "metadata": {},
     "output_type": "execute_result"
    }
   ],
   "source": [
    "coefs_boot_arr = np.zeros((len(structs), 1000))\n",
    "for i, x in enumerate(structs):\n",
    "    col = hips_thomas_ref[x]\n",
    "    coefs_boot_arr[i, :] = coefs_boot1[col]\n",
    "win_counts = np.zeros((coefs_boot_arr.shape[0],))\n",
    "for i in range(1000):\n",
    "    win_counts[coefs_boot_arr[:,i].argmin()] += 1\n",
    "\n",
    "win_count_df = pd.Series(win_counts/1000, index=hips_thomas_ref[thalamic_nuclei])\n",
    "win_count_df.sort_values(ascending=False)"
   ]
  },
  {
   "cell_type": "code",
   "execution_count": 26,
   "id": "ae336894",
   "metadata": {},
   "outputs": [
    {
     "data": {
      "application/vnd.microsoft.datawrangler.viewer.v0+json": {
       "columns": [
        {
         "name": "index",
         "rawType": "object",
         "type": "string"
        },
        {
         "name": "coef",
         "rawType": "float64",
         "type": "float"
        },
        {
         "name": "stderr",
         "rawType": "float64",
         "type": "float"
        },
        {
         "name": "llci",
         "rawType": "float64",
         "type": "float"
        },
        {
         "name": "ulci",
         "rawType": "float64",
         "type": "float"
        },
        {
         "name": "pvals",
         "rawType": "float64",
         "type": "float"
        },
        {
         "name": "ci",
         "rawType": "object",
         "type": "string"
        },
        {
         "name": "p_fdr",
         "rawType": "float64",
         "type": "float"
        }
       ],
       "ref": "1b8c1640-9a92-4aac-a301-af07f18809ce",
       "rows": [
        [
         "anterior",
         "-0.14155149972984737",
         "0.06982926297302837",
         "-0.26686003985510753",
         "-0.016242959604587215",
         "0.02691784797959605",
         "[-0.266860, -0.016243]",
         "0.13458923989798025"
        ],
        [
         "posterior",
         "-0.13223958557307444",
         "0.12909021071475688",
         "-0.38101027876636495",
         "0.11653110762021607",
         "0.2967270705140822",
         "[-0.381010, 0.116531]",
         "0.4277091907501883"
        ],
        [
         "ventral",
         "-0.04426585107848816",
         "0.10544443838843091",
         "-0.25606192221877505",
         "0.1675302200617987",
         "0.6814506336514425",
         "[-0.256062, 0.167530]",
         "0.6814506336514425"
        ],
        [
         "intralaminar",
         "0.061787027349488426",
         "0.0695727596749607",
         "-0.06591264530285873",
         "0.1894867000018356",
         "0.34216735260015063",
         "[-0.065913, 0.189487]",
         "0.4277091907501883"
        ],
        [
         "medial",
         "0.11656345138161628",
         "0.10532663832663298",
         "-0.09758547772678122",
         "0.3307123804900138",
         "0.28531719473473816",
         "[-0.097585, 0.330712]",
         "0.4277091907501883"
        ]
       ],
       "shape": {
        "columns": 7,
        "rows": 5
       }
      },
      "text/html": [
       "<div>\n",
       "<style scoped>\n",
       "    .dataframe tbody tr th:only-of-type {\n",
       "        vertical-align: middle;\n",
       "    }\n",
       "\n",
       "    .dataframe tbody tr th {\n",
       "        vertical-align: top;\n",
       "    }\n",
       "\n",
       "    .dataframe thead th {\n",
       "        text-align: right;\n",
       "    }\n",
       "</style>\n",
       "<table border=\"1\" class=\"dataframe\">\n",
       "  <thead>\n",
       "    <tr style=\"text-align: right;\">\n",
       "      <th></th>\n",
       "      <th>coef</th>\n",
       "      <th>stderr</th>\n",
       "      <th>llci</th>\n",
       "      <th>ulci</th>\n",
       "      <th>pvals</th>\n",
       "      <th>ci</th>\n",
       "      <th>p_fdr</th>\n",
       "    </tr>\n",
       "  </thead>\n",
       "  <tbody>\n",
       "    <tr>\n",
       "      <th>anterior</th>\n",
       "      <td>-0.141551</td>\n",
       "      <td>0.069829</td>\n",
       "      <td>-0.266860</td>\n",
       "      <td>-0.016243</td>\n",
       "      <td>0.026918</td>\n",
       "      <td>[-0.266860, -0.016243]</td>\n",
       "      <td>0.134589</td>\n",
       "    </tr>\n",
       "    <tr>\n",
       "      <th>posterior</th>\n",
       "      <td>-0.132240</td>\n",
       "      <td>0.129090</td>\n",
       "      <td>-0.381010</td>\n",
       "      <td>0.116531</td>\n",
       "      <td>0.296727</td>\n",
       "      <td>[-0.381010, 0.116531]</td>\n",
       "      <td>0.427709</td>\n",
       "    </tr>\n",
       "    <tr>\n",
       "      <th>ventral</th>\n",
       "      <td>-0.044266</td>\n",
       "      <td>0.105444</td>\n",
       "      <td>-0.256062</td>\n",
       "      <td>0.167530</td>\n",
       "      <td>0.681451</td>\n",
       "      <td>[-0.256062, 0.167530]</td>\n",
       "      <td>0.681451</td>\n",
       "    </tr>\n",
       "    <tr>\n",
       "      <th>intralaminar</th>\n",
       "      <td>0.061787</td>\n",
       "      <td>0.069573</td>\n",
       "      <td>-0.065913</td>\n",
       "      <td>0.189487</td>\n",
       "      <td>0.342167</td>\n",
       "      <td>[-0.065913, 0.189487]</td>\n",
       "      <td>0.427709</td>\n",
       "    </tr>\n",
       "    <tr>\n",
       "      <th>medial</th>\n",
       "      <td>0.116563</td>\n",
       "      <td>0.105327</td>\n",
       "      <td>-0.097585</td>\n",
       "      <td>0.330712</td>\n",
       "      <td>0.285317</td>\n",
       "      <td>[-0.097585, 0.330712]</td>\n",
       "      <td>0.427709</td>\n",
       "    </tr>\n",
       "  </tbody>\n",
       "</table>\n",
       "</div>"
      ],
      "text/plain": [
       "                  coef    stderr      llci      ulci     pvals  \\\n",
       "anterior     -0.141551  0.069829 -0.266860 -0.016243  0.026918   \n",
       "posterior    -0.132240  0.129090 -0.381010  0.116531  0.296727   \n",
       "ventral      -0.044266  0.105444 -0.256062  0.167530  0.681451   \n",
       "intralaminar  0.061787  0.069573 -0.065913  0.189487  0.342167   \n",
       "medial        0.116563  0.105327 -0.097585  0.330712  0.285317   \n",
       "\n",
       "                                  ci     p_fdr  \n",
       "anterior      [-0.266860, -0.016243]  0.134589  \n",
       "posterior      [-0.381010, 0.116531]  0.427709  \n",
       "ventral        [-0.256062, 0.167530]  0.681451  \n",
       "intralaminar   [-0.065913, 0.189487]  0.427709  \n",
       "medial         [-0.097585, 0.330712]  0.427709  "
      ]
     },
     "execution_count": 26,
     "metadata": {},
     "output_type": "execute_result"
    }
   ],
   "source": [
    "model_data = df_z.join([df_thomas2_z])\n",
    "model_data = model_data[model_data.dz_type2 == \"MS\"]\n",
    "\n",
    "covariates = \"age + Female + tiv + THALAMUS_1\"\n",
    "\n",
    "pvals = {}\n",
    "coefs = {}\n",
    "stderrs = {}\n",
    "llci = {}\n",
    "ulci = {}\n",
    "ci_str = {}\n",
    "\n",
    "for col in grouped_nuclei:\n",
    "    formula = f\"EDSS_sqrt ~ {col}*dzdur + {covariates}\"\n",
    "    res = sm.OLS.from_formula(formula, data=model_data).fit()\n",
    "    pvals[col] = res.pvalues[col]\n",
    "    coefs[col] = res.params[col]\n",
    "    stderrs[col] = res.HC0_se[col]\n",
    "    ci = res.conf_int()\n",
    "    llci[col] = ci.loc[col, 0]\n",
    "    ulci[col] = ci.loc[col, 1]\n",
    "    ci_str[col] = f\"[{llci[col]:.6f}, {ulci[col]:.6f}]\"\n",
    "\n",
    "regression_results = pd.DataFrame({\"coef\": coefs, \"stderr\": stderrs, \"llci\": llci, \"ulci\": ulci, \"pvals\": pvals, \"ci\": ci_str})\n",
    "regression_results['p_fdr'] = stats.false_discovery_control(\n",
    "    regression_results['pvals'], method='bh'\n",
    ")\n",
    "\n",
    "regression_results.sort_values(by=\"coef\")"
   ]
  },
  {
   "cell_type": "code",
   "execution_count": 31,
   "id": "49a86d2c",
   "metadata": {},
   "outputs": [
    {
     "data": {
      "application/vnd.microsoft.datawrangler.viewer.v0+json": {
       "columns": [
        {
         "name": "index",
         "rawType": "object",
         "type": "string"
        },
        {
         "name": "coef",
         "rawType": "float64",
         "type": "float"
        },
        {
         "name": "stderr",
         "rawType": "float64",
         "type": "float"
        },
        {
         "name": "llci",
         "rawType": "float64",
         "type": "float"
        },
        {
         "name": "ulci",
         "rawType": "float64",
         "type": "float"
        },
        {
         "name": "pvals",
         "rawType": "float64",
         "type": "float"
        },
        {
         "name": "ci",
         "rawType": "object",
         "type": "string"
        },
        {
         "name": "p_fdr",
         "rawType": "float64",
         "type": "float"
        }
       ],
       "ref": "94c7c40d-0d70-4182-a99f-8667b4979b0d",
       "rows": [
        [
         "anterior_left",
         "-0.16211389478034982",
         "0.04617386101942346",
         "-0.24731709685788186",
         "-0.07691069270281778",
         "0.00020762556232349258",
         "[-0.247317, -0.076911]",
         "0.001038127811617463"
        ],
        [
         "anterior_right",
         "-0.16211389478034982",
         "0.04617386101942346",
         "-0.24731709685788186",
         "-0.07691069270281778",
         "0.00020762556232349258",
         "[-0.247317, -0.076911]",
         "0.001038127811617463"
        ],
        [
         "posterior_right",
         "-0.12866583775954202",
         "0.03834093963485846",
         "-0.20756602198901197",
         "-0.049765653530072076",
         "0.0014450302199273798",
         "[-0.207566, -0.049766]",
         "0.0036125755498184497"
        ],
        [
         "posterior_left",
         "-0.12866583775954202",
         "0.03834093963485846",
         "-0.20756602198901197",
         "-0.049765653530072076",
         "0.0014450302199273798",
         "[-0.207566, -0.049766]",
         "0.0036125755498184497"
        ],
        [
         "medial_left",
         "0.0009762379056212703",
         "0.037769622779946846",
         "-0.07833602383471167",
         "0.08028849964595422",
         "0.9807138260754218",
         "[-0.078336, 0.080288]",
         "0.9807138260754218"
        ],
        [
         "medial_right",
         "0.0009762379056212703",
         "0.037769622779946846",
         "-0.07833602383471167",
         "0.08028849964595422",
         "0.9807138260754218",
         "[-0.078336, 0.080288]",
         "0.9807138260754218"
        ],
        [
         "intralaminar_right",
         "0.08341191882818608",
         "0.0438754636186229",
         "-0.000540300013461642",
         "0.1673641376698338",
         "0.0514867038421224",
         "[-0.000540, 0.167364]",
         "0.064358379802653"
        ],
        [
         "intralaminar_left",
         "0.08341191882818608",
         "0.0438754636186229",
         "-0.000540300013461642",
         "0.1673641376698338",
         "0.0514867038421224",
         "[-0.000540, 0.167364]",
         "0.064358379802653"
        ],
        [
         "ventral_left",
         "0.12076766893012805",
         "0.039945644771066845",
         "0.036056016362185014",
         "0.20547932149807108",
         "0.0052976364684366156",
         "[0.036056, 0.205479]",
         "0.008829394114061027"
        ],
        [
         "ventral_right",
         "0.12076766893012805",
         "0.039945644771066845",
         "0.036056016362185014",
         "0.20547932149807108",
         "0.0052976364684366156",
         "[0.036056, 0.205479]",
         "0.008829394114061027"
        ]
       ],
       "shape": {
        "columns": 7,
        "rows": 10
       }
      },
      "text/html": [
       "<div>\n",
       "<style scoped>\n",
       "    .dataframe tbody tr th:only-of-type {\n",
       "        vertical-align: middle;\n",
       "    }\n",
       "\n",
       "    .dataframe tbody tr th {\n",
       "        vertical-align: top;\n",
       "    }\n",
       "\n",
       "    .dataframe thead th {\n",
       "        text-align: right;\n",
       "    }\n",
       "</style>\n",
       "<table border=\"1\" class=\"dataframe\">\n",
       "  <thead>\n",
       "    <tr style=\"text-align: right;\">\n",
       "      <th></th>\n",
       "      <th>coef</th>\n",
       "      <th>stderr</th>\n",
       "      <th>llci</th>\n",
       "      <th>ulci</th>\n",
       "      <th>pvals</th>\n",
       "      <th>ci</th>\n",
       "      <th>p_fdr</th>\n",
       "    </tr>\n",
       "  </thead>\n",
       "  <tbody>\n",
       "    <tr>\n",
       "      <th>anterior_left</th>\n",
       "      <td>-0.162114</td>\n",
       "      <td>0.046174</td>\n",
       "      <td>-0.247317</td>\n",
       "      <td>-0.076911</td>\n",
       "      <td>0.000208</td>\n",
       "      <td>[-0.247317, -0.076911]</td>\n",
       "      <td>0.001038</td>\n",
       "    </tr>\n",
       "    <tr>\n",
       "      <th>anterior_right</th>\n",
       "      <td>-0.162114</td>\n",
       "      <td>0.046174</td>\n",
       "      <td>-0.247317</td>\n",
       "      <td>-0.076911</td>\n",
       "      <td>0.000208</td>\n",
       "      <td>[-0.247317, -0.076911]</td>\n",
       "      <td>0.001038</td>\n",
       "    </tr>\n",
       "    <tr>\n",
       "      <th>posterior_right</th>\n",
       "      <td>-0.128666</td>\n",
       "      <td>0.038341</td>\n",
       "      <td>-0.207566</td>\n",
       "      <td>-0.049766</td>\n",
       "      <td>0.001445</td>\n",
       "      <td>[-0.207566, -0.049766]</td>\n",
       "      <td>0.003613</td>\n",
       "    </tr>\n",
       "    <tr>\n",
       "      <th>posterior_left</th>\n",
       "      <td>-0.128666</td>\n",
       "      <td>0.038341</td>\n",
       "      <td>-0.207566</td>\n",
       "      <td>-0.049766</td>\n",
       "      <td>0.001445</td>\n",
       "      <td>[-0.207566, -0.049766]</td>\n",
       "      <td>0.003613</td>\n",
       "    </tr>\n",
       "    <tr>\n",
       "      <th>medial_left</th>\n",
       "      <td>0.000976</td>\n",
       "      <td>0.037770</td>\n",
       "      <td>-0.078336</td>\n",
       "      <td>0.080288</td>\n",
       "      <td>0.980714</td>\n",
       "      <td>[-0.078336, 0.080288]</td>\n",
       "      <td>0.980714</td>\n",
       "    </tr>\n",
       "    <tr>\n",
       "      <th>medial_right</th>\n",
       "      <td>0.000976</td>\n",
       "      <td>0.037770</td>\n",
       "      <td>-0.078336</td>\n",
       "      <td>0.080288</td>\n",
       "      <td>0.980714</td>\n",
       "      <td>[-0.078336, 0.080288]</td>\n",
       "      <td>0.980714</td>\n",
       "    </tr>\n",
       "    <tr>\n",
       "      <th>intralaminar_right</th>\n",
       "      <td>0.083412</td>\n",
       "      <td>0.043875</td>\n",
       "      <td>-0.000540</td>\n",
       "      <td>0.167364</td>\n",
       "      <td>0.051487</td>\n",
       "      <td>[-0.000540, 0.167364]</td>\n",
       "      <td>0.064358</td>\n",
       "    </tr>\n",
       "    <tr>\n",
       "      <th>intralaminar_left</th>\n",
       "      <td>0.083412</td>\n",
       "      <td>0.043875</td>\n",
       "      <td>-0.000540</td>\n",
       "      <td>0.167364</td>\n",
       "      <td>0.051487</td>\n",
       "      <td>[-0.000540, 0.167364]</td>\n",
       "      <td>0.064358</td>\n",
       "    </tr>\n",
       "    <tr>\n",
       "      <th>ventral_left</th>\n",
       "      <td>0.120768</td>\n",
       "      <td>0.039946</td>\n",
       "      <td>0.036056</td>\n",
       "      <td>0.205479</td>\n",
       "      <td>0.005298</td>\n",
       "      <td>[0.036056, 0.205479]</td>\n",
       "      <td>0.008829</td>\n",
       "    </tr>\n",
       "    <tr>\n",
       "      <th>ventral_right</th>\n",
       "      <td>0.120768</td>\n",
       "      <td>0.039946</td>\n",
       "      <td>0.036056</td>\n",
       "      <td>0.205479</td>\n",
       "      <td>0.005298</td>\n",
       "      <td>[0.036056, 0.205479]</td>\n",
       "      <td>0.008829</td>\n",
       "    </tr>\n",
       "  </tbody>\n",
       "</table>\n",
       "</div>"
      ],
      "text/plain": [
       "                        coef    stderr      llci      ulci     pvals  \\\n",
       "anterior_left      -0.162114  0.046174 -0.247317 -0.076911  0.000208   \n",
       "anterior_right     -0.162114  0.046174 -0.247317 -0.076911  0.000208   \n",
       "posterior_right    -0.128666  0.038341 -0.207566 -0.049766  0.001445   \n",
       "posterior_left     -0.128666  0.038341 -0.207566 -0.049766  0.001445   \n",
       "medial_left         0.000976  0.037770 -0.078336  0.080288  0.980714   \n",
       "medial_right        0.000976  0.037770 -0.078336  0.080288  0.980714   \n",
       "intralaminar_right  0.083412  0.043875 -0.000540  0.167364  0.051487   \n",
       "intralaminar_left   0.083412  0.043875 -0.000540  0.167364  0.051487   \n",
       "ventral_left        0.120768  0.039946  0.036056  0.205479  0.005298   \n",
       "ventral_right       0.120768  0.039946  0.036056  0.205479  0.005298   \n",
       "\n",
       "                                        ci     p_fdr  \n",
       "anterior_left       [-0.247317, -0.076911]  0.001038  \n",
       "anterior_right      [-0.247317, -0.076911]  0.001038  \n",
       "posterior_right     [-0.207566, -0.049766]  0.003613  \n",
       "posterior_left      [-0.207566, -0.049766]  0.003613  \n",
       "medial_left          [-0.078336, 0.080288]  0.980714  \n",
       "medial_right         [-0.078336, 0.080288]  0.980714  \n",
       "intralaminar_right   [-0.000540, 0.167364]  0.064358  \n",
       "intralaminar_left    [-0.000540, 0.167364]  0.064358  \n",
       "ventral_left          [0.036056, 0.205479]  0.008829  \n",
       "ventral_right         [0.036056, 0.205479]  0.008829  "
      ]
     },
     "execution_count": 31,
     "metadata": {},
     "output_type": "execute_result"
    }
   ],
   "source": [
    "model_data = df_z.copy()\n",
    "struct_names = []\n",
    "for col in df_thomas2.columns[~df_thomas2.columns.isin([\"THALAMUS_1\"])]:\n",
    "    model_data[f'{col}_left'] = df_thomas2_norm_left_z[col]\n",
    "    struct_names.append(f'{col}_left')\n",
    "    model_data[f'{col}_right'] = df_thomas2_norm_right_z[col]\n",
    "    struct_names.append(f'{col}_right')\n",
    "model_data['whole_thalamus'] = df_thomas_z['THALAMUS_1']\n",
    "\n",
    "covariates = \"age + Female + tiv\"\n",
    "\n",
    "pvals = {}\n",
    "coefs = {}\n",
    "stderrs = {}\n",
    "llci = {}\n",
    "ulci = {}\n",
    "ci_str = {}\n",
    "\n",
    "for col in struct_names:\n",
    "    formula = f\"EDSS_sqrt ~ {col}*dzdur + {covariates}\"\n",
    "    res = sm.OLS.from_formula(formula, data=model_data).fit()\n",
    "    pvals[col] = res.pvalues[col]\n",
    "    coefs[col] = res.params[col]\n",
    "    stderrs[col] = res.HC0_se[col]\n",
    "    ci = res.conf_int()\n",
    "    llci[col] = ci.loc[col, 0]\n",
    "    ulci[col] = ci.loc[col, 1]\n",
    "    ci_str[col] = f\"[{llci[col]:.6f}, {ulci[col]:.6f}]\"\n",
    "\n",
    "regression_results = pd.DataFrame({\"coef\": coefs, \"stderr\": stderrs, \"llci\": llci, \"ulci\": ulci, \"pvals\": pvals, \"ci\": ci_str})\n",
    "regression_results['p_fdr'] = stats.false_discovery_control(\n",
    "    regression_results['pvals'], method='bh'\n",
    ")\n",
    "\n",
    "regression_results.sort_values(by=\"coef\")"
   ]
  },
  {
   "cell_type": "code",
   "execution_count": 16,
   "id": "25a666b1",
   "metadata": {},
   "outputs": [
    {
     "data": {
      "text/plain": [
       "['anterior_left',\n",
       " 'anterior_right',\n",
       " 'ventral_left',\n",
       " 'ventral_right',\n",
       " 'intralaminar_left',\n",
       " 'intralaminar_right',\n",
       " 'medial_left',\n",
       " 'medial_right',\n",
       " 'posterior_left',\n",
       " 'posterior_right',\n",
       " 'THALAMUS_1_left',\n",
       " 'THALAMUS_1_right']"
      ]
     },
     "execution_count": 16,
     "metadata": {},
     "output_type": "execute_result"
    }
   ],
   "source": [
    "model_data = df_z[['EDSS_sqrt', 'age']].copy()\n",
    "struct_names = []\n",
    "for col in df_thomas2.columns:\n",
    "    model_data[f'{col}_left'] = df_thomas2_left_z[col]\n",
    "    struct_names.append(f'{col}_left')\n",
    "    model_data[f'{col}_right'] = df_thomas2_right_z[col]\n",
    "    struct_names.append(f'{col}_right')\n",
    "model_data['whole_thalamus'] = df_thomas_z['THALAMUS_1']\n",
    "struct_names"
   ]
  },
  {
   "cell_type": "code",
   "execution_count": 89,
   "id": "ff7077e3",
   "metadata": {},
   "outputs": [
    {
     "data": {
      "application/vnd.jupyter.widget-view+json": {
       "model_id": "69de6852b0c54bb3856d9afdd39f8882",
       "version_major": 2,
       "version_minor": 0
      },
      "text/plain": [
       "  0%|          | 0/1000 [00:00<?, ?it/s]"
      ]
     },
     "metadata": {},
     "output_type": "display_data"
    }
   ],
   "source": [
    "data_to_sample = df_z.join(df_thomas2_z)\n",
    "data_to_sample = data_to_sample[data_to_sample['dz_type5'].isin([\"RMS\", \"PMS\"])].reset_index()\n",
    "data_to_sample.loc[data_to_sample['EDSS_sqrt'].isna(), 'EDSS_sqrt'] = model_data['EDSS_sqrt'].median()\n",
    "\n",
    "covariates = \"age + Female + tiv + THALAMUS_1\"\n",
    "structs = df_thomas2.columns[~df_thomas2.columns.isin([\"THALAMUS_1\"])]\n",
    "\n",
    "def get_zeros():\n",
    "    return np.zeros((1000,))\n",
    "\n",
    "coefs_boot3 = defaultdict(get_zeros)\n",
    "\n",
    "outcome = \"EDSS_sqrt\"\n",
    "\n",
    "for i in tqdm(range(1000)):\n",
    "    inds = np.random.randint(0, data_to_sample.index.max(), len(data_to_sample))\n",
    "    model_data = data_to_sample.loc[inds, :]\n",
    "    for col in structs:\n",
    "        formula = f\"{outcome} ~ {col}*dzdur + {covariates}\"\n",
    "        res = sm.OLS.from_formula(formula, data=model_data).fit()\n",
    "        coefs_boot3[col][i] = res.params[col]"
   ]
  },
  {
   "cell_type": "code",
   "execution_count": 90,
   "id": "4901d5c0",
   "metadata": {},
   "outputs": [
    {
     "data": {
      "application/vnd.microsoft.datawrangler.viewer.v0+json": {
       "columns": [
        {
         "name": "index",
         "rawType": "object",
         "type": "string"
        },
        {
         "name": "0",
         "rawType": "float64",
         "type": "float"
        }
       ],
       "ref": "74e313ba-dc78-415c-b9a2-6916825e1c67",
       "rows": [
        [
         "posterior",
         "0.454"
        ],
        [
         "anterior",
         "0.395"
        ],
        [
         "ventral",
         "0.143"
        ],
        [
         "intralaminar",
         "0.004"
        ],
        [
         "medial",
         "0.004"
        ]
       ],
       "shape": {
        "columns": 1,
        "rows": 5
       }
      },
      "text/plain": [
       "posterior       0.454\n",
       "anterior        0.395\n",
       "ventral         0.143\n",
       "intralaminar    0.004\n",
       "medial          0.004\n",
       "dtype: float64"
      ]
     },
     "execution_count": 90,
     "metadata": {},
     "output_type": "execute_result"
    }
   ],
   "source": [
    "coefs_boot_arr = np.zeros((len(structs), 1000))\n",
    "for i, col in enumerate(structs):\n",
    "    coefs_boot_arr[i, :] = coefs_boot3[col]\n",
    "win_counts = np.zeros((coefs_boot_arr.shape[0],))\n",
    "for i in range(1000):\n",
    "    win_counts[coefs_boot_arr[:,i].argmin()] += 1\n",
    "\n",
    "win_count_df = pd.Series(win_counts/1000, index=structs)\n",
    "win_count_df.sort_values(ascending=False)"
   ]
  },
  {
   "cell_type": "code",
   "execution_count": 117,
   "id": "6dad0066",
   "metadata": {},
   "outputs": [
    {
     "data": {
      "application/vnd.microsoft.datawrangler.viewer.v0+json": {
       "columns": [
        {
         "name": "index",
         "rawType": "object",
         "type": "string"
        },
        {
         "name": "coef",
         "rawType": "float64",
         "type": "float"
        },
        {
         "name": "stderr",
         "rawType": "float64",
         "type": "float"
        },
        {
         "name": "llci",
         "rawType": "float64",
         "type": "float"
        },
        {
         "name": "ulci",
         "rawType": "float64",
         "type": "float"
        },
        {
         "name": "pvals",
         "rawType": "float64",
         "type": "float"
        },
        {
         "name": "ci",
         "rawType": "object",
         "type": "string"
        },
        {
         "name": "p_fdr",
         "rawType": "float64",
         "type": "float"
        }
       ],
       "ref": "37c2e1a7-f1e3-48e1-9164-4e89f6f268aa",
       "rows": [
        [
         "LGN_9",
         "-0.14968595981507865",
         "0.05182933109120109",
         "-0.2644974550614841",
         "-0.034874464568673214",
         "0.010720166205604198",
         "[-0.264497, -0.034874]",
         "0.10720166205604198"
        ],
        [
         "VPL_7",
         "-0.109161063668863",
         "0.07765189859873271",
         "-0.2654376225430929",
         "0.0471154952053669",
         "0.17053537946087716",
         "[-0.265438, 0.047115]",
         "0.4263384486521929"
        ],
        [
         "VLP_6",
         "-0.10662520082487272",
         "0.09247716357240059",
         "-0.2867481204756478",
         "0.07349771882590238",
         "0.24533647467114866",
         "[-0.286748, 0.073498]",
         "0.4906729493422973"
        ],
        [
         "AV_2",
         "-0.08867241697819685",
         "0.07005924172404611",
         "-0.21055616432719843",
         "0.03321133037080472",
         "0.15350156078739263",
         "[-0.210556, 0.033211]",
         "0.4263384486521929"
        ],
        [
         "Pul_8",
         "-0.02919925576675306",
         "0.12484249415988197",
         "-0.2694853934629696",
         "0.2110868819294635",
         "0.811376295433832",
         "[-0.269485, 0.211087]",
         "0.9972397743554031"
        ],
        [
         "MGN_10",
         "-0.007467112450106516",
         "0.07363206050376725",
         "-0.15022976132765378",
         "0.13529553642744077",
         "0.9181826146135607",
         "[-0.150230, 0.135296]",
         "0.9972397743554031"
        ],
        [
         "VLa_5",
         "0.00021625108509243005",
         "0.06446399128647082",
         "-0.1225519858106315",
         "0.12298448798081636",
         "0.9972397743554031",
         "[-0.122552, 0.122984]",
         "0.9972397743554031"
        ],
        [
         "CM_11",
         "0.06001077809549334",
         "0.06793981682276483",
         "-0.06781046541237437",
         "0.18783202160336107",
         "0.356713699698358",
         "[-0.067810, 0.187832]",
         "0.5144815789068673"
        ],
        [
         "MD_Pf_12",
         "0.10043235608208444",
         "0.10422911083490857",
         "-0.1150161812248021",
         "0.31588089338897096",
         "0.36013710523480713",
         "[-0.115016, 0.315881]",
         "0.5144815789068673"
        ],
        [
         "VA_4",
         "0.12417646392828116",
         "0.06281359218679343",
         "-0.004678501712588684",
         "0.25303142956915103",
         "0.05888182530317415",
         "[-0.004679, 0.253031]",
         "0.29440912651587076"
        ]
       ],
       "shape": {
        "columns": 7,
        "rows": 10
       }
      },
      "text/html": [
       "<div>\n",
       "<style scoped>\n",
       "    .dataframe tbody tr th:only-of-type {\n",
       "        vertical-align: middle;\n",
       "    }\n",
       "\n",
       "    .dataframe tbody tr th {\n",
       "        vertical-align: top;\n",
       "    }\n",
       "\n",
       "    .dataframe thead th {\n",
       "        text-align: right;\n",
       "    }\n",
       "</style>\n",
       "<table border=\"1\" class=\"dataframe\">\n",
       "  <thead>\n",
       "    <tr style=\"text-align: right;\">\n",
       "      <th></th>\n",
       "      <th>coef</th>\n",
       "      <th>stderr</th>\n",
       "      <th>llci</th>\n",
       "      <th>ulci</th>\n",
       "      <th>pvals</th>\n",
       "      <th>ci</th>\n",
       "      <th>p_fdr</th>\n",
       "    </tr>\n",
       "  </thead>\n",
       "  <tbody>\n",
       "    <tr>\n",
       "      <th>LGN_9</th>\n",
       "      <td>-0.149686</td>\n",
       "      <td>0.051829</td>\n",
       "      <td>-0.264497</td>\n",
       "      <td>-0.034874</td>\n",
       "      <td>0.010720</td>\n",
       "      <td>[-0.264497, -0.034874]</td>\n",
       "      <td>0.107202</td>\n",
       "    </tr>\n",
       "    <tr>\n",
       "      <th>VPL_7</th>\n",
       "      <td>-0.109161</td>\n",
       "      <td>0.077652</td>\n",
       "      <td>-0.265438</td>\n",
       "      <td>0.047115</td>\n",
       "      <td>0.170535</td>\n",
       "      <td>[-0.265438, 0.047115]</td>\n",
       "      <td>0.426338</td>\n",
       "    </tr>\n",
       "    <tr>\n",
       "      <th>VLP_6</th>\n",
       "      <td>-0.106625</td>\n",
       "      <td>0.092477</td>\n",
       "      <td>-0.286748</td>\n",
       "      <td>0.073498</td>\n",
       "      <td>0.245336</td>\n",
       "      <td>[-0.286748, 0.073498]</td>\n",
       "      <td>0.490673</td>\n",
       "    </tr>\n",
       "    <tr>\n",
       "      <th>AV_2</th>\n",
       "      <td>-0.088672</td>\n",
       "      <td>0.070059</td>\n",
       "      <td>-0.210556</td>\n",
       "      <td>0.033211</td>\n",
       "      <td>0.153502</td>\n",
       "      <td>[-0.210556, 0.033211]</td>\n",
       "      <td>0.426338</td>\n",
       "    </tr>\n",
       "    <tr>\n",
       "      <th>Pul_8</th>\n",
       "      <td>-0.029199</td>\n",
       "      <td>0.124842</td>\n",
       "      <td>-0.269485</td>\n",
       "      <td>0.211087</td>\n",
       "      <td>0.811376</td>\n",
       "      <td>[-0.269485, 0.211087]</td>\n",
       "      <td>0.997240</td>\n",
       "    </tr>\n",
       "    <tr>\n",
       "      <th>MGN_10</th>\n",
       "      <td>-0.007467</td>\n",
       "      <td>0.073632</td>\n",
       "      <td>-0.150230</td>\n",
       "      <td>0.135296</td>\n",
       "      <td>0.918183</td>\n",
       "      <td>[-0.150230, 0.135296]</td>\n",
       "      <td>0.997240</td>\n",
       "    </tr>\n",
       "    <tr>\n",
       "      <th>VLa_5</th>\n",
       "      <td>0.000216</td>\n",
       "      <td>0.064464</td>\n",
       "      <td>-0.122552</td>\n",
       "      <td>0.122984</td>\n",
       "      <td>0.997240</td>\n",
       "      <td>[-0.122552, 0.122984]</td>\n",
       "      <td>0.997240</td>\n",
       "    </tr>\n",
       "    <tr>\n",
       "      <th>CM_11</th>\n",
       "      <td>0.060011</td>\n",
       "      <td>0.067940</td>\n",
       "      <td>-0.067810</td>\n",
       "      <td>0.187832</td>\n",
       "      <td>0.356714</td>\n",
       "      <td>[-0.067810, 0.187832]</td>\n",
       "      <td>0.514482</td>\n",
       "    </tr>\n",
       "    <tr>\n",
       "      <th>MD_Pf_12</th>\n",
       "      <td>0.100432</td>\n",
       "      <td>0.104229</td>\n",
       "      <td>-0.115016</td>\n",
       "      <td>0.315881</td>\n",
       "      <td>0.360137</td>\n",
       "      <td>[-0.115016, 0.315881]</td>\n",
       "      <td>0.514482</td>\n",
       "    </tr>\n",
       "    <tr>\n",
       "      <th>VA_4</th>\n",
       "      <td>0.124176</td>\n",
       "      <td>0.062814</td>\n",
       "      <td>-0.004679</td>\n",
       "      <td>0.253031</td>\n",
       "      <td>0.058882</td>\n",
       "      <td>[-0.004679, 0.253031]</td>\n",
       "      <td>0.294409</td>\n",
       "    </tr>\n",
       "  </tbody>\n",
       "</table>\n",
       "</div>"
      ],
      "text/plain": [
       "              coef    stderr      llci      ulci     pvals  \\\n",
       "LGN_9    -0.149686  0.051829 -0.264497 -0.034874  0.010720   \n",
       "VPL_7    -0.109161  0.077652 -0.265438  0.047115  0.170535   \n",
       "VLP_6    -0.106625  0.092477 -0.286748  0.073498  0.245336   \n",
       "AV_2     -0.088672  0.070059 -0.210556  0.033211  0.153502   \n",
       "Pul_8    -0.029199  0.124842 -0.269485  0.211087  0.811376   \n",
       "MGN_10   -0.007467  0.073632 -0.150230  0.135296  0.918183   \n",
       "VLa_5     0.000216  0.064464 -0.122552  0.122984  0.997240   \n",
       "CM_11     0.060011  0.067940 -0.067810  0.187832  0.356714   \n",
       "MD_Pf_12  0.100432  0.104229 -0.115016  0.315881  0.360137   \n",
       "VA_4      0.124176  0.062814 -0.004679  0.253031  0.058882   \n",
       "\n",
       "                              ci     p_fdr  \n",
       "LGN_9     [-0.264497, -0.034874]  0.107202  \n",
       "VPL_7      [-0.265438, 0.047115]  0.426338  \n",
       "VLP_6      [-0.286748, 0.073498]  0.490673  \n",
       "AV_2       [-0.210556, 0.033211]  0.426338  \n",
       "Pul_8      [-0.269485, 0.211087]  0.997240  \n",
       "MGN_10     [-0.150230, 0.135296]  0.997240  \n",
       "VLa_5      [-0.122552, 0.122984]  0.997240  \n",
       "CM_11      [-0.067810, 0.187832]  0.514482  \n",
       "MD_Pf_12   [-0.115016, 0.315881]  0.514482  \n",
       "VA_4       [-0.004679, 0.253031]  0.294409  "
      ]
     },
     "execution_count": 117,
     "metadata": {},
     "output_type": "execute_result"
    }
   ],
   "source": [
    "model_data = df_z.join(df_thomas_z)\n",
    "\n",
    "covariates = \"age + Female + tiv\"\n",
    "\n",
    "pvals = {}\n",
    "coefs = {}\n",
    "stderrs = {}\n",
    "llci = {}\n",
    "ulci = {}\n",
    "ci_str = {}\n",
    "\n",
    "for x in thalamic_nuclei:\n",
    "    col = hips_thomas_ref[x]\n",
    "    res = sm.OLS.from_formula(f\"{col} ~ THALAMUS_1 + tiv\", data=model_data).fit()\n",
    "    model_data[f\"{col}_resid\"] = res.resid\n",
    "\n",
    "    col2 = f\"{col}_resid\"\n",
    "    formula = f\"EDSS_sqrt ~ {col2}*dzdur + {covariates}\"\n",
    "    res = sm.OLS.from_formula(formula, data=model_data).fit()\n",
    "    pvals[col] = res.pvalues[col2]\n",
    "    coefs[col] = res.params[col2]\n",
    "    stderrs[col] = res.HC0_se[col2]\n",
    "    ci = res.conf_int()\n",
    "    llci[col] = ci.loc[col2, 0]\n",
    "    ulci[col] = ci.loc[col2, 1]\n",
    "    ci_str[col] = f\"[{llci[col]:.6f}, {ulci[col]:.6f}]\"\n",
    "\n",
    "regression_results = pd.DataFrame({\"coef\": coefs, \"stderr\": stderrs, \"llci\": llci, \"ulci\": ulci, \"pvals\": pvals, \"ci\": ci_str})\n",
    "regression_results['p_fdr'] = stats.false_discovery_control(\n",
    "    regression_results['pvals'], method='bh'\n",
    ")\n",
    "\n",
    "regression_results.sort_values(by=\"coef\")"
   ]
  },
  {
   "cell_type": "code",
   "execution_count": null,
   "id": "fc7b43ba",
   "metadata": {},
   "outputs": [],
   "source": []
  },
  {
   "cell_type": "code",
   "execution_count": 124,
   "id": "b9c99506",
   "metadata": {},
   "outputs": [
    {
     "data": {
      "application/vnd.microsoft.datawrangler.viewer.v0+json": {
       "columns": [
        {
         "name": "index",
         "rawType": "object",
         "type": "string"
        },
        {
         "name": "coef",
         "rawType": "float64",
         "type": "float"
        },
        {
         "name": "stderr",
         "rawType": "float64",
         "type": "float"
        },
        {
         "name": "llci",
         "rawType": "float64",
         "type": "float"
        },
        {
         "name": "ulci",
         "rawType": "float64",
         "type": "float"
        },
        {
         "name": "pvals",
         "rawType": "float64",
         "type": "float"
        },
        {
         "name": "ci",
         "rawType": "object",
         "type": "string"
        },
        {
         "name": "p_fdr",
         "rawType": "float64",
         "type": "float"
        }
       ],
       "ref": "6c6aa797-6863-4ac3-b718-6805b6df2c57",
       "rows": [
        [
         "THALAMUS_1",
         "-0.2386542970129815",
         "0.045351050778043446",
         "-0.334926289667163",
         "-0.1423823043588",
         "1.5383117731169238e-06",
         "[-0.334926, -0.142382]",
         "9.229870638701542e-06"
        ],
        [
         "anterior",
         "-0.1329467245577748",
         "0.06996929576969789",
         "-0.257914967803418",
         "-0.007978481312131594",
         "0.03711440819528036",
         "[-0.257915, -0.007978]",
         "0.11134322458584109"
        ],
        [
         "posterior",
         "-0.13066582963302997",
         "0.12808587962163442",
         "-0.38145627234506146",
         "0.12012461307900152",
         "0.3064099292351889",
         "[-0.381456, 0.120125]",
         "0.4596148938527833"
        ],
        [
         "ventral",
         "-0.030547996963614245",
         "0.1042962457629673",
         "-0.24205610547939188",
         "0.1809601115521634",
         "0.776657463079157",
         "[-0.242056, 0.180960]",
         "0.776657463079157"
        ],
        [
         "intralaminar",
         "0.05285515521203291",
         "0.06925095702511697",
         "-0.07487246891464339",
         "0.1805827793387092",
         "0.41649774323760924",
         "[-0.074872, 0.180583]",
         "0.49979729188513106"
        ],
        [
         "medial",
         "0.12608624254665327",
         "0.10251846414732577",
         "-0.08766540529590472",
         "0.33983789038921125",
         "0.24696139800908973",
         "[-0.087665, 0.339838]",
         "0.4596148938527833"
        ]
       ],
       "shape": {
        "columns": 7,
        "rows": 6
       }
      },
      "text/html": [
       "<div>\n",
       "<style scoped>\n",
       "    .dataframe tbody tr th:only-of-type {\n",
       "        vertical-align: middle;\n",
       "    }\n",
       "\n",
       "    .dataframe tbody tr th {\n",
       "        vertical-align: top;\n",
       "    }\n",
       "\n",
       "    .dataframe thead th {\n",
       "        text-align: right;\n",
       "    }\n",
       "</style>\n",
       "<table border=\"1\" class=\"dataframe\">\n",
       "  <thead>\n",
       "    <tr style=\"text-align: right;\">\n",
       "      <th></th>\n",
       "      <th>coef</th>\n",
       "      <th>stderr</th>\n",
       "      <th>llci</th>\n",
       "      <th>ulci</th>\n",
       "      <th>pvals</th>\n",
       "      <th>ci</th>\n",
       "      <th>p_fdr</th>\n",
       "    </tr>\n",
       "  </thead>\n",
       "  <tbody>\n",
       "    <tr>\n",
       "      <th>THALAMUS_1</th>\n",
       "      <td>-0.238654</td>\n",
       "      <td>0.045351</td>\n",
       "      <td>-0.334926</td>\n",
       "      <td>-0.142382</td>\n",
       "      <td>0.000002</td>\n",
       "      <td>[-0.334926, -0.142382]</td>\n",
       "      <td>0.000009</td>\n",
       "    </tr>\n",
       "    <tr>\n",
       "      <th>anterior</th>\n",
       "      <td>-0.132947</td>\n",
       "      <td>0.069969</td>\n",
       "      <td>-0.257915</td>\n",
       "      <td>-0.007978</td>\n",
       "      <td>0.037114</td>\n",
       "      <td>[-0.257915, -0.007978]</td>\n",
       "      <td>0.111343</td>\n",
       "    </tr>\n",
       "    <tr>\n",
       "      <th>posterior</th>\n",
       "      <td>-0.130666</td>\n",
       "      <td>0.128086</td>\n",
       "      <td>-0.381456</td>\n",
       "      <td>0.120125</td>\n",
       "      <td>0.306410</td>\n",
       "      <td>[-0.381456, 0.120125]</td>\n",
       "      <td>0.459615</td>\n",
       "    </tr>\n",
       "    <tr>\n",
       "      <th>ventral</th>\n",
       "      <td>-0.030548</td>\n",
       "      <td>0.104296</td>\n",
       "      <td>-0.242056</td>\n",
       "      <td>0.180960</td>\n",
       "      <td>0.776657</td>\n",
       "      <td>[-0.242056, 0.180960]</td>\n",
       "      <td>0.776657</td>\n",
       "    </tr>\n",
       "    <tr>\n",
       "      <th>intralaminar</th>\n",
       "      <td>0.052855</td>\n",
       "      <td>0.069251</td>\n",
       "      <td>-0.074872</td>\n",
       "      <td>0.180583</td>\n",
       "      <td>0.416498</td>\n",
       "      <td>[-0.074872, 0.180583]</td>\n",
       "      <td>0.499797</td>\n",
       "    </tr>\n",
       "    <tr>\n",
       "      <th>medial</th>\n",
       "      <td>0.126086</td>\n",
       "      <td>0.102518</td>\n",
       "      <td>-0.087665</td>\n",
       "      <td>0.339838</td>\n",
       "      <td>0.246961</td>\n",
       "      <td>[-0.087665, 0.339838]</td>\n",
       "      <td>0.459615</td>\n",
       "    </tr>\n",
       "  </tbody>\n",
       "</table>\n",
       "</div>"
      ],
      "text/plain": [
       "                  coef    stderr      llci      ulci     pvals  \\\n",
       "THALAMUS_1   -0.238654  0.045351 -0.334926 -0.142382  0.000002   \n",
       "anterior     -0.132947  0.069969 -0.257915 -0.007978  0.037114   \n",
       "posterior    -0.130666  0.128086 -0.381456  0.120125  0.306410   \n",
       "ventral      -0.030548  0.104296 -0.242056  0.180960  0.776657   \n",
       "intralaminar  0.052855  0.069251 -0.074872  0.180583  0.416498   \n",
       "medial        0.126086  0.102518 -0.087665  0.339838  0.246961   \n",
       "\n",
       "                                  ci     p_fdr  \n",
       "THALAMUS_1    [-0.334926, -0.142382]  0.000009  \n",
       "anterior      [-0.257915, -0.007978]  0.111343  \n",
       "posterior      [-0.381456, 0.120125]  0.459615  \n",
       "ventral        [-0.242056, 0.180960]  0.776657  \n",
       "intralaminar   [-0.074872, 0.180583]  0.499797  \n",
       "medial         [-0.087665, 0.339838]  0.459615  "
      ]
     },
     "execution_count": 124,
     "metadata": {},
     "output_type": "execute_result"
    }
   ],
   "source": [
    "model_data = df_z.join([df_thomas2_z])\n",
    "model_data = model_data[model_data.dz_type2 == \"MS\"]\n",
    "\n",
    "covariates = \"age + Female + tiv + THALAMUS_1\"\n",
    "\n",
    "pvals = {}\n",
    "coefs = {}\n",
    "stderrs = {}\n",
    "llci = {}\n",
    "ulci = {}\n",
    "ci_str = {}\n",
    "\n",
    "for col in df_thomas2:\n",
    "    formula = f\"EDSS_sqrt ~ {col}*dzdur + {covariates}\"\n",
    "    res = sm.OLS.from_formula(formula, data=model_data).fit()\n",
    "    pvals[col] = res.pvalues[col]\n",
    "    coefs[col] = res.params[col]\n",
    "    stderrs[col] = res.HC0_se[col]\n",
    "    ci = res.conf_int()\n",
    "    llci[col] = ci.loc[col, 0]\n",
    "    ulci[col] = ci.loc[col, 1]\n",
    "    ci_str[col] = f\"[{llci[col]:.6f}, {ulci[col]:.6f}]\"\n",
    "\n",
    "regression_results = pd.DataFrame({\"coef\": coefs, \"stderr\": stderrs, \"llci\": llci, \"ulci\": ulci, \"pvals\": pvals, \"ci\": ci_str})\n",
    "regression_results['p_fdr'] = stats.false_discovery_control(\n",
    "    regression_results['pvals'], method='bh'\n",
    ")\n",
    "\n",
    "regression_results.sort_values(by=\"coef\")"
   ]
  },
  {
   "cell_type": "code",
   "execution_count": 15,
   "id": "b8395ffb",
   "metadata": {},
   "outputs": [
    {
     "data": {
      "application/vnd.microsoft.datawrangler.viewer.v0+json": {
       "columns": [
        {
         "name": "index",
         "rawType": "object",
         "type": "string"
        },
        {
         "name": "coef",
         "rawType": "float64",
         "type": "float"
        },
        {
         "name": "stderr",
         "rawType": "float64",
         "type": "float"
        },
        {
         "name": "llci",
         "rawType": "float64",
         "type": "float"
        },
        {
         "name": "ulci",
         "rawType": "float64",
         "type": "float"
        },
        {
         "name": "pvals",
         "rawType": "float64",
         "type": "float"
        },
        {
         "name": "ci",
         "rawType": "object",
         "type": "string"
        },
        {
         "name": "p_fdr",
         "rawType": "float64",
         "type": "float"
        }
       ],
       "ref": "4788a1c1-b113-43a7-a3c5-3e2dd91d575b",
       "rows": [
        [
         "THALAMUS_1",
         "-0.4712410717259267",
         "0.04775641192272756",
         "-0.5574492321491545",
         "-0.3850329113026989",
         "3.496055685378907e-24",
         "[-0.557449, -0.385033]",
         "2.0976334112273444e-23"
        ],
        [
         "medial",
         "-0.3261694830159004",
         "0.10396784621930716",
         "-0.5225354466145176",
         "-0.12980351941728321",
         "0.0011795995627580296",
         "[-0.522535, -0.129804]",
         "0.002359199125516059"
        ],
        [
         "posterior",
         "-0.295483658130836",
         "0.11842166066876503",
         "-0.5278460244321304",
         "-0.06312129182954168",
         "0.01280286440467822",
         "[-0.527846, -0.063121]",
         "0.015363437285613863"
        ],
        [
         "intralaminar",
         "-0.17464498954857927",
         "0.06538340070610953",
         "-0.29291856592930404",
         "-0.0563714131678545",
         "0.00388848966405981",
         "[-0.292919, -0.056371]",
         "0.005832734496089715"
        ],
        [
         "anterior",
         "0.05596373737889044",
         "0.0647618125545611",
         "-0.05861124095841561",
         "0.1705387157161965",
         "0.3376318019411698",
         "[-0.058611, 0.170539]",
         "0.3376318019411698"
        ],
        [
         "ventral",
         "0.597347619731898",
         "0.0986149843966858",
         "0.40805583435266407",
         "0.7866394051111318",
         "1.2437612637185018e-09",
         "[0.408056, 0.786639]",
         "3.731283791155505e-09"
        ]
       ],
       "shape": {
        "columns": 7,
        "rows": 6
       }
      },
      "text/html": [
       "<div>\n",
       "<style scoped>\n",
       "    .dataframe tbody tr th:only-of-type {\n",
       "        vertical-align: middle;\n",
       "    }\n",
       "\n",
       "    .dataframe tbody tr th {\n",
       "        vertical-align: top;\n",
       "    }\n",
       "\n",
       "    .dataframe thead th {\n",
       "        text-align: right;\n",
       "    }\n",
       "</style>\n",
       "<table border=\"1\" class=\"dataframe\">\n",
       "  <thead>\n",
       "    <tr style=\"text-align: right;\">\n",
       "      <th></th>\n",
       "      <th>coef</th>\n",
       "      <th>stderr</th>\n",
       "      <th>llci</th>\n",
       "      <th>ulci</th>\n",
       "      <th>pvals</th>\n",
       "      <th>ci</th>\n",
       "      <th>p_fdr</th>\n",
       "    </tr>\n",
       "  </thead>\n",
       "  <tbody>\n",
       "    <tr>\n",
       "      <th>THALAMUS_1</th>\n",
       "      <td>-0.471241</td>\n",
       "      <td>0.047756</td>\n",
       "      <td>-0.557449</td>\n",
       "      <td>-0.385033</td>\n",
       "      <td>3.496056e-24</td>\n",
       "      <td>[-0.557449, -0.385033]</td>\n",
       "      <td>2.097633e-23</td>\n",
       "    </tr>\n",
       "    <tr>\n",
       "      <th>medial</th>\n",
       "      <td>-0.326169</td>\n",
       "      <td>0.103968</td>\n",
       "      <td>-0.522535</td>\n",
       "      <td>-0.129804</td>\n",
       "      <td>1.179600e-03</td>\n",
       "      <td>[-0.522535, -0.129804]</td>\n",
       "      <td>2.359199e-03</td>\n",
       "    </tr>\n",
       "    <tr>\n",
       "      <th>posterior</th>\n",
       "      <td>-0.295484</td>\n",
       "      <td>0.118422</td>\n",
       "      <td>-0.527846</td>\n",
       "      <td>-0.063121</td>\n",
       "      <td>1.280286e-02</td>\n",
       "      <td>[-0.527846, -0.063121]</td>\n",
       "      <td>1.536344e-02</td>\n",
       "    </tr>\n",
       "    <tr>\n",
       "      <th>intralaminar</th>\n",
       "      <td>-0.174645</td>\n",
       "      <td>0.065383</td>\n",
       "      <td>-0.292919</td>\n",
       "      <td>-0.056371</td>\n",
       "      <td>3.888490e-03</td>\n",
       "      <td>[-0.292919, -0.056371]</td>\n",
       "      <td>5.832734e-03</td>\n",
       "    </tr>\n",
       "    <tr>\n",
       "      <th>anterior</th>\n",
       "      <td>0.055964</td>\n",
       "      <td>0.064762</td>\n",
       "      <td>-0.058611</td>\n",
       "      <td>0.170539</td>\n",
       "      <td>3.376318e-01</td>\n",
       "      <td>[-0.058611, 0.170539]</td>\n",
       "      <td>3.376318e-01</td>\n",
       "    </tr>\n",
       "    <tr>\n",
       "      <th>ventral</th>\n",
       "      <td>0.597348</td>\n",
       "      <td>0.098615</td>\n",
       "      <td>0.408056</td>\n",
       "      <td>0.786639</td>\n",
       "      <td>1.243761e-09</td>\n",
       "      <td>[0.408056, 0.786639]</td>\n",
       "      <td>3.731284e-09</td>\n",
       "    </tr>\n",
       "  </tbody>\n",
       "</table>\n",
       "</div>"
      ],
      "text/plain": [
       "                  coef    stderr      llci      ulci         pvals  \\\n",
       "THALAMUS_1   -0.471241  0.047756 -0.557449 -0.385033  3.496056e-24   \n",
       "medial       -0.326169  0.103968 -0.522535 -0.129804  1.179600e-03   \n",
       "posterior    -0.295484  0.118422 -0.527846 -0.063121  1.280286e-02   \n",
       "intralaminar -0.174645  0.065383 -0.292919 -0.056371  3.888490e-03   \n",
       "anterior      0.055964  0.064762 -0.058611  0.170539  3.376318e-01   \n",
       "ventral       0.597348  0.098615  0.408056  0.786639  1.243761e-09   \n",
       "\n",
       "                                  ci         p_fdr  \n",
       "THALAMUS_1    [-0.557449, -0.385033]  2.097633e-23  \n",
       "medial        [-0.522535, -0.129804]  2.359199e-03  \n",
       "posterior     [-0.527846, -0.063121]  1.536344e-02  \n",
       "intralaminar  [-0.292919, -0.056371]  5.832734e-03  \n",
       "anterior       [-0.058611, 0.170539]  3.376318e-01  \n",
       "ventral         [0.408056, 0.786639]  3.731284e-09  "
      ]
     },
     "execution_count": 15,
     "metadata": {},
     "output_type": "execute_result"
    }
   ],
   "source": [
    "model_data = df_z.join([df_thomas2_z])\n",
    "model_data = model_data[model_data.dz_type2 == \"MS\"]\n",
    "\n",
    "covariates = \"age + Female + tiv + THALAMUS_1\"\n",
    "\n",
    "pvals = {}\n",
    "coefs = {}\n",
    "stderrs = {}\n",
    "llci = {}\n",
    "ulci = {}\n",
    "ci_str = {}\n",
    "\n",
    "for col in df_thomas2:\n",
    "    formula = f\"choroid_volume ~ {col} + {covariates}\"\n",
    "    res = sm.OLS.from_formula(formula, data=model_data).fit()\n",
    "    pvals[col] = res.pvalues[col]\n",
    "    coefs[col] = res.params[col]\n",
    "    stderrs[col] = res.HC0_se[col]\n",
    "    ci = res.conf_int()\n",
    "    llci[col] = ci.loc[col, 0]\n",
    "    ulci[col] = ci.loc[col, 1]\n",
    "    ci_str[col] = f\"[{llci[col]:.6f}, {ulci[col]:.6f}]\"\n",
    "\n",
    "regression_results = pd.DataFrame({\"coef\": coefs, \"stderr\": stderrs, \"llci\": llci, \"ulci\": ulci, \"pvals\": pvals, \"ci\": ci_str})\n",
    "regression_results['p_fdr'] = stats.false_discovery_control(\n",
    "    regression_results['pvals'], method='bh'\n",
    ")\n",
    "\n",
    "regression_results.sort_values(by=\"coef\")"
   ]
  },
  {
   "cell_type": "markdown",
   "id": "249cb250",
   "metadata": {},
   "source": [
    "### Deep Grey Structures"
   ]
  },
  {
   "cell_type": "code",
   "execution_count": 136,
   "id": "89dccceb",
   "metadata": {},
   "outputs": [
    {
     "data": {
      "application/vnd.microsoft.datawrangler.viewer.v0+json": {
       "columns": [
        {
         "name": "index",
         "rawType": "object",
         "type": "string"
        },
        {
         "name": "coef",
         "rawType": "float64",
         "type": "float"
        },
        {
         "name": "stderr",
         "rawType": "float64",
         "type": "float"
        },
        {
         "name": "llci",
         "rawType": "float64",
         "type": "float"
        },
        {
         "name": "ulci",
         "rawType": "float64",
         "type": "float"
        },
        {
         "name": "pvals",
         "rawType": "float64",
         "type": "float"
        },
        {
         "name": "p_fdr",
         "rawType": "float64",
         "type": "float"
        }
       ],
       "ref": "795d61dc-de55-447c-b17a-1856fc356ba2",
       "rows": [
        [
         "THALAMUS_1",
         "-0.29487826661416133",
         "0.04574541719153483",
         "-0.38822031129113166",
         "-0.201536221937191",
         "1.2207381754910873e-09",
         "1.4648858105893047e-08"
        ],
        [
         "Cla_28",
         "-0.2150972421344618",
         "0.049180575154421244",
         "-0.31374228987068664",
         "-0.11645219439823695",
         "2.2353157559934833e-05",
         "0.000134118945359609"
        ],
        [
         "Acc_26",
         "-0.17785842430382665",
         "0.04899922921683023",
         "-0.2803408992238963",
         "-0.07537594938375695",
         "0.0007065837988303501",
         "0.0028263351953214002"
        ],
        [
         "RN_32",
         "-0.14870514429977919",
         "0.05409000931491778",
         "-0.25889865874226003",
         "-0.03851162985729836",
         "0.00828267010326102",
         "0.019878408247826447"
        ],
        [
         "Hb_13",
         "-0.13473312549729766",
         "0.043543013015407736",
         "-0.2197434689569422",
         "-0.04972278203765311",
         "0.001959033633340192",
         "0.005877100900020577"
        ],
        [
         "Cau_27",
         "-0.13337152893137",
         "0.05459390353705746",
         "-0.23468514821010733",
         "-0.03205790965263268",
         "0.009991938041242824",
         "0.019983876082485648"
        ],
        [
         "Amy_34",
         "-0.1119042065879965",
         "0.0455683524185362",
         "-0.20012212059893802",
         "-0.02368629257705497",
         "0.0130288892608905",
         "0.02233523873295514"
        ],
        [
         "Put_31",
         "-0.08423784585662256",
         "0.059146567304476975",
         "-0.19274434820477296",
         "0.024268656491527846",
         "0.12778558544778737",
         "0.19167837817168104"
        ],
        [
         "GP_33",
         "-0.07363365979357255",
         "0.0500060672974728",
         "-0.17746129195828667",
         "0.030193972371141575",
         "0.16408260925623466",
         "0.19689913110748158"
        ],
        [
         "GPe_29",
         "-0.07362492485607067",
         "0.04818789089231813",
         "-0.17602356883610584",
         "0.02877371912396451",
         "0.15833913837480068",
         "0.19689913110748158"
        ],
        [
         "GPi_30",
         "-0.05806568544690697",
         "0.0516994157032772",
         "-0.1581368120319214",
         "0.04200544113810747",
         "0.2547546294108759",
         "0.27791414117550095"
        ],
        [
         "MTT_14",
         "0.034367556185062216",
         "0.05042570551753655",
         "-0.0684408077630396",
         "0.13717592013316401",
         "0.5115398596929608",
         "0.5115398596929608"
        ]
       ],
       "shape": {
        "columns": 6,
        "rows": 12
       }
      },
      "text/html": [
       "<div>\n",
       "<style scoped>\n",
       "    .dataframe tbody tr th:only-of-type {\n",
       "        vertical-align: middle;\n",
       "    }\n",
       "\n",
       "    .dataframe tbody tr th {\n",
       "        vertical-align: top;\n",
       "    }\n",
       "\n",
       "    .dataframe thead th {\n",
       "        text-align: right;\n",
       "    }\n",
       "</style>\n",
       "<table border=\"1\" class=\"dataframe\">\n",
       "  <thead>\n",
       "    <tr style=\"text-align: right;\">\n",
       "      <th></th>\n",
       "      <th>coef</th>\n",
       "      <th>stderr</th>\n",
       "      <th>llci</th>\n",
       "      <th>ulci</th>\n",
       "      <th>pvals</th>\n",
       "      <th>p_fdr</th>\n",
       "    </tr>\n",
       "  </thead>\n",
       "  <tbody>\n",
       "    <tr>\n",
       "      <th>THALAMUS_1</th>\n",
       "      <td>-0.294878</td>\n",
       "      <td>0.045745</td>\n",
       "      <td>-0.388220</td>\n",
       "      <td>-0.201536</td>\n",
       "      <td>1.220738e-09</td>\n",
       "      <td>1.464886e-08</td>\n",
       "    </tr>\n",
       "    <tr>\n",
       "      <th>Cla_28</th>\n",
       "      <td>-0.215097</td>\n",
       "      <td>0.049181</td>\n",
       "      <td>-0.313742</td>\n",
       "      <td>-0.116452</td>\n",
       "      <td>2.235316e-05</td>\n",
       "      <td>1.341189e-04</td>\n",
       "    </tr>\n",
       "    <tr>\n",
       "      <th>Acc_26</th>\n",
       "      <td>-0.177858</td>\n",
       "      <td>0.048999</td>\n",
       "      <td>-0.280341</td>\n",
       "      <td>-0.075376</td>\n",
       "      <td>7.065838e-04</td>\n",
       "      <td>2.826335e-03</td>\n",
       "    </tr>\n",
       "    <tr>\n",
       "      <th>RN_32</th>\n",
       "      <td>-0.148705</td>\n",
       "      <td>0.054090</td>\n",
       "      <td>-0.258899</td>\n",
       "      <td>-0.038512</td>\n",
       "      <td>8.282670e-03</td>\n",
       "      <td>1.987841e-02</td>\n",
       "    </tr>\n",
       "    <tr>\n",
       "      <th>Hb_13</th>\n",
       "      <td>-0.134733</td>\n",
       "      <td>0.043543</td>\n",
       "      <td>-0.219743</td>\n",
       "      <td>-0.049723</td>\n",
       "      <td>1.959034e-03</td>\n",
       "      <td>5.877101e-03</td>\n",
       "    </tr>\n",
       "    <tr>\n",
       "      <th>Cau_27</th>\n",
       "      <td>-0.133372</td>\n",
       "      <td>0.054594</td>\n",
       "      <td>-0.234685</td>\n",
       "      <td>-0.032058</td>\n",
       "      <td>9.991938e-03</td>\n",
       "      <td>1.998388e-02</td>\n",
       "    </tr>\n",
       "    <tr>\n",
       "      <th>Amy_34</th>\n",
       "      <td>-0.111904</td>\n",
       "      <td>0.045568</td>\n",
       "      <td>-0.200122</td>\n",
       "      <td>-0.023686</td>\n",
       "      <td>1.302889e-02</td>\n",
       "      <td>2.233524e-02</td>\n",
       "    </tr>\n",
       "    <tr>\n",
       "      <th>Put_31</th>\n",
       "      <td>-0.084238</td>\n",
       "      <td>0.059147</td>\n",
       "      <td>-0.192744</td>\n",
       "      <td>0.024269</td>\n",
       "      <td>1.277856e-01</td>\n",
       "      <td>1.916784e-01</td>\n",
       "    </tr>\n",
       "    <tr>\n",
       "      <th>GP_33</th>\n",
       "      <td>-0.073634</td>\n",
       "      <td>0.050006</td>\n",
       "      <td>-0.177461</td>\n",
       "      <td>0.030194</td>\n",
       "      <td>1.640826e-01</td>\n",
       "      <td>1.968991e-01</td>\n",
       "    </tr>\n",
       "    <tr>\n",
       "      <th>GPe_29</th>\n",
       "      <td>-0.073625</td>\n",
       "      <td>0.048188</td>\n",
       "      <td>-0.176024</td>\n",
       "      <td>0.028774</td>\n",
       "      <td>1.583391e-01</td>\n",
       "      <td>1.968991e-01</td>\n",
       "    </tr>\n",
       "    <tr>\n",
       "      <th>GPi_30</th>\n",
       "      <td>-0.058066</td>\n",
       "      <td>0.051699</td>\n",
       "      <td>-0.158137</td>\n",
       "      <td>0.042005</td>\n",
       "      <td>2.547546e-01</td>\n",
       "      <td>2.779141e-01</td>\n",
       "    </tr>\n",
       "    <tr>\n",
       "      <th>MTT_14</th>\n",
       "      <td>0.034368</td>\n",
       "      <td>0.050426</td>\n",
       "      <td>-0.068441</td>\n",
       "      <td>0.137176</td>\n",
       "      <td>5.115399e-01</td>\n",
       "      <td>5.115399e-01</td>\n",
       "    </tr>\n",
       "  </tbody>\n",
       "</table>\n",
       "</div>"
      ],
      "text/plain": [
       "                coef    stderr      llci      ulci         pvals         p_fdr\n",
       "THALAMUS_1 -0.294878  0.045745 -0.388220 -0.201536  1.220738e-09  1.464886e-08\n",
       "Cla_28     -0.215097  0.049181 -0.313742 -0.116452  2.235316e-05  1.341189e-04\n",
       "Acc_26     -0.177858  0.048999 -0.280341 -0.075376  7.065838e-04  2.826335e-03\n",
       "RN_32      -0.148705  0.054090 -0.258899 -0.038512  8.282670e-03  1.987841e-02\n",
       "Hb_13      -0.134733  0.043543 -0.219743 -0.049723  1.959034e-03  5.877101e-03\n",
       "Cau_27     -0.133372  0.054594 -0.234685 -0.032058  9.991938e-03  1.998388e-02\n",
       "Amy_34     -0.111904  0.045568 -0.200122 -0.023686  1.302889e-02  2.233524e-02\n",
       "Put_31     -0.084238  0.059147 -0.192744  0.024269  1.277856e-01  1.916784e-01\n",
       "GP_33      -0.073634  0.050006 -0.177461  0.030194  1.640826e-01  1.968991e-01\n",
       "GPe_29     -0.073625  0.048188 -0.176024  0.028774  1.583391e-01  1.968991e-01\n",
       "GPi_30     -0.058066  0.051699 -0.158137  0.042005  2.547546e-01  2.779141e-01\n",
       "MTT_14      0.034368  0.050426 -0.068441  0.137176  5.115399e-01  5.115399e-01"
      ]
     },
     "execution_count": 136,
     "metadata": {},
     "output_type": "execute_result"
    }
   ],
   "source": [
    "model_data = df_z.join(df_thomas_z)\n",
    "model_data = model_data[model_data['dz_type5'].isin([\"RMS\", \"PMS\"])]\n",
    "covariates = \"age + Female + tiv\"\n",
    "\n",
    "pvals = {}\n",
    "coefs = {}\n",
    "stderrs = {}\n",
    "llci = {}\n",
    "ulci = {}\n",
    "\n",
    "outcome = \"EDSS_sqrt\"\n",
    "structs = hips_thomas_ref.index[~hips_thomas_ref.index.isin(thalamic_nuclei)]\n",
    "\n",
    "all_results = {}\n",
    "for x in structs:\n",
    "    col = hips_thomas_ref[x]\n",
    "    formula = f\"{outcome} ~ {col} + {covariates}\"\n",
    "    res = sm.OLS.from_formula(formula, data=model_data).fit()\n",
    "    pvals[col] = res.pvalues[col]\n",
    "    coefs[col] = res.params[col]\n",
    "    stderrs[col] = res.HC0_se[col]\n",
    "    ci = res.conf_int()\n",
    "    llci[col] = ci.loc[col, 0]\n",
    "    ulci[col] = ci.loc[col, 1]\n",
    "\n",
    "\n",
    "regression_results = pd.DataFrame({\"coef\": coefs, \"stderr\": stderrs, \"llci\": llci, \"ulci\": ulci, \"pvals\": pvals})\n",
    "regression_results['p_fdr'] = stats.false_discovery_control(\n",
    "    regression_results['pvals'], method='bh'\n",
    ")\n",
    "regression_results.sort_values(by=\"coef\", inplace=True)\n",
    "regression_results.to_csv(fig_path / \"deep_grey_regressions.csv\")\n",
    "regression_results"
   ]
  },
  {
   "cell_type": "code",
   "execution_count": 210,
   "id": "1b2cebe7",
   "metadata": {},
   "outputs": [],
   "source": [
    "vif_data = df_thomas_z[hips_thomas_ref[thalamic_nuclei + [1]]]\n",
    "vif = pd.DataFrame()\n",
    "vif['struct'] = vif_data.columns\n",
    "vif.set_index(\"struct\", inplace=True)\n",
    "vif['VIF'] = [variance_inflation_factor(vif_data.values, i, )\n",
    "                          for i in range(len(vif_data.columns))]"
   ]
  },
  {
   "cell_type": "code",
   "execution_count": 225,
   "id": "44b2e67e",
   "metadata": {},
   "outputs": [
    {
     "name": "stdout",
     "output_type": "stream",
     "text": [
      "                            OLS Regression Results                            \n",
      "==============================================================================\n",
      "Dep. Variable:              EDSS_sqrt   R-squared:                       0.289\n",
      "Model:                            OLS   Adj. R-squared:                  0.277\n",
      "Method:                 Least Squares   F-statistic:                     22.61\n",
      "Date:                Thu, 05 Jun 2025   Prob (F-statistic):           5.27e-29\n",
      "Time:                        20:05:35   Log-Likelihood:                -569.77\n",
      "No. Observations:                 453   AIC:                             1158.\n",
      "Df Residuals:                     444   BIC:                             1195.\n",
      "Df Model:                           8                                         \n",
      "Covariance Type:            nonrobust                                         \n",
      "================================================================================\n",
      "                   coef    std err          t      P>|t|      [0.025      0.975]\n",
      "--------------------------------------------------------------------------------\n",
      "Intercept       -0.0257      0.041     -0.631      0.529      -0.106       0.055\n",
      "age              0.3437      0.046      7.519      0.000       0.254       0.434\n",
      "Female          -0.0461      0.049     -0.933      0.352      -0.143       0.051\n",
      "tiv              0.0227      0.062      0.366      0.714      -0.099       0.145\n",
      "anterior        -0.0950      0.063     -1.501      0.134      -0.219       0.029\n",
      "ventral         -0.1382      0.083     -1.674      0.095      -0.300       0.024\n",
      "intralaminar     0.0562      0.065      0.871      0.384      -0.071       0.183\n",
      "medial           0.0265      0.093      0.286      0.775      -0.156       0.209\n",
      "posterior       -0.1812      0.093     -1.948      0.052      -0.364       0.002\n",
      "==============================================================================\n",
      "Omnibus:                        6.373   Durbin-Watson:                   2.017\n",
      "Prob(Omnibus):                  0.041   Jarque-Bera (JB):                6.208\n",
      "Skew:                           0.279   Prob(JB):                       0.0449\n",
      "Kurtosis:                       3.135   Cond. No.                         6.12\n",
      "==============================================================================\n",
      "\n",
      "Notes:\n",
      "[1] Standard Errors assume that the covariance matrix of the errors is correctly specified.\n"
     ]
    }
   ],
   "source": [
    "model_data = df_z.join(df_thomas2_z)\n",
    "model_data = model_data[model_data['dz_type5'].isin([\"RMS\", \"PMS\"])]\n",
    "formula = f\"EDSS_sqrt ~ age + Female + tiv + {\" + \".join(df_thomas2_z.columns[~df_thomas2_z.columns.isin([\"THALAMUS_1\"])])}\"\n",
    "res = sm.OLS.from_formula(formula, data=model_data).fit()\n",
    "print(res.summary())\n"
   ]
  },
  {
   "cell_type": "markdown",
   "id": "6ae74860",
   "metadata": {},
   "source": [
    "---"
   ]
  },
  {
   "cell_type": "markdown",
   "id": "efc6444d",
   "metadata": {},
   "source": [
    "### Elastic Net Trials"
   ]
  },
  {
   "cell_type": "code",
   "execution_count": 46,
   "id": "92ea2215",
   "metadata": {},
   "outputs": [],
   "source": [
    "from sklearn.linear_model import Lasso\n",
    "from sklearn.model_selection import train_test_split\n",
    "from sklearn.metrics import mean_squared_error\n",
    "from sklearn.impute import SimpleImputer\n",
    "import numpy as np"
   ]
  },
  {
   "cell_type": "code",
   "execution_count": 50,
   "id": "b0df4d81",
   "metadata": {},
   "outputs": [
    {
     "name": "stdout",
     "output_type": "stream",
     "text": [
      "Mean Squared Error: 1.0688643148091397\n",
      "Coefficients: [-0.16628181 -0.         -0.         -0.         -0.         -0.02281968\n",
      " -0.02927025 -0.15345964 -0.         -0.        ]\n"
     ]
    }
   ],
   "source": [
    "model_data = df_z.join(df_thomas_z)\n",
    "model_data = model_data[model_data['dz_type5'].isin([\"RMS\", \"PMS\"])]\n",
    "model_data = model_data[~model_data['EDSS_sqrt'].isna()]\n",
    "\n",
    "structs = hips_thomas_ref[thalamic_nuclei]\n",
    "\n",
    "\n",
    "X = model_data[structs]\n",
    "y = model_data['EDSS_sqrt']\n",
    "\n",
    "X_train, X_test, y_train, y_test = train_test_split(X, y, test_size=0.2, random_state=42)\n",
    "\n",
    "# Create a Lasso Regression model with a specific alpha (regularization strength)\n",
    "alpha = 0.1  # Adjust alpha as needed\n",
    "lasso = Lasso(alpha=alpha)\n",
    "\n",
    "# Train the model\n",
    "lasso.fit(X_train, y_train)\n",
    "\n",
    "# Make predictions on the test set\n",
    "y_pred = lasso.predict(X_test)\n",
    "\n",
    "# Evaluate the model\n",
    "mse = mean_squared_error(y_test, y_pred)\n",
    "print(f\"Mean Squared Error: {mse}\")\n",
    "\n",
    "# Print the coefficients (note that some may be zero)\n",
    "print(\"Coefficients:\", lasso.coef_)"
   ]
  },
  {
   "cell_type": "code",
   "execution_count": 51,
   "id": "a326119a",
   "metadata": {},
   "outputs": [
    {
     "data": {
      "application/vnd.microsoft.datawrangler.viewer.v0+json": {
       "columns": [
        {
         "name": "index",
         "rawType": "object",
         "type": "string"
        },
        {
         "name": "coef",
         "rawType": "float64",
         "type": "float"
        },
        {
         "name": "abs",
         "rawType": "float64",
         "type": "float"
        }
       ],
       "ref": "07ad2f61-477e-4219-97ff-5c8d4bf716c1",
       "rows": [
        [
         "AV_2",
         "-0.16628180926576694",
         "0.16628180926576694"
        ],
        [
         "MGN_10",
         "-0.15345963540346846",
         "0.15345963540346846"
        ],
        [
         "LGN_9",
         "-0.02927024837546813",
         "0.02927024837546813"
        ],
        [
         "Pul_8",
         "-0.022819676911347283",
         "0.022819676911347283"
        ],
        [
         "VA_4",
         "-0.0",
         "0.0"
        ],
        [
         "VLa_5",
         "-0.0",
         "0.0"
        ],
        [
         "VLP_6",
         "-0.0",
         "0.0"
        ],
        [
         "VPL_7",
         "-0.0",
         "0.0"
        ],
        [
         "CM_11",
         "-0.0",
         "0.0"
        ],
        [
         "MD_Pf_12",
         "-0.0",
         "0.0"
        ]
       ],
       "shape": {
        "columns": 2,
        "rows": 10
       }
      },
      "text/html": [
       "<div>\n",
       "<style scoped>\n",
       "    .dataframe tbody tr th:only-of-type {\n",
       "        vertical-align: middle;\n",
       "    }\n",
       "\n",
       "    .dataframe tbody tr th {\n",
       "        vertical-align: top;\n",
       "    }\n",
       "\n",
       "    .dataframe thead th {\n",
       "        text-align: right;\n",
       "    }\n",
       "</style>\n",
       "<table border=\"1\" class=\"dataframe\">\n",
       "  <thead>\n",
       "    <tr style=\"text-align: right;\">\n",
       "      <th></th>\n",
       "      <th>coef</th>\n",
       "      <th>abs</th>\n",
       "    </tr>\n",
       "  </thead>\n",
       "  <tbody>\n",
       "    <tr>\n",
       "      <th>AV_2</th>\n",
       "      <td>-0.166282</td>\n",
       "      <td>0.166282</td>\n",
       "    </tr>\n",
       "    <tr>\n",
       "      <th>MGN_10</th>\n",
       "      <td>-0.153460</td>\n",
       "      <td>0.153460</td>\n",
       "    </tr>\n",
       "    <tr>\n",
       "      <th>LGN_9</th>\n",
       "      <td>-0.029270</td>\n",
       "      <td>0.029270</td>\n",
       "    </tr>\n",
       "    <tr>\n",
       "      <th>Pul_8</th>\n",
       "      <td>-0.022820</td>\n",
       "      <td>0.022820</td>\n",
       "    </tr>\n",
       "    <tr>\n",
       "      <th>VA_4</th>\n",
       "      <td>-0.000000</td>\n",
       "      <td>0.000000</td>\n",
       "    </tr>\n",
       "    <tr>\n",
       "      <th>VLa_5</th>\n",
       "      <td>-0.000000</td>\n",
       "      <td>0.000000</td>\n",
       "    </tr>\n",
       "    <tr>\n",
       "      <th>VLP_6</th>\n",
       "      <td>-0.000000</td>\n",
       "      <td>0.000000</td>\n",
       "    </tr>\n",
       "    <tr>\n",
       "      <th>VPL_7</th>\n",
       "      <td>-0.000000</td>\n",
       "      <td>0.000000</td>\n",
       "    </tr>\n",
       "    <tr>\n",
       "      <th>CM_11</th>\n",
       "      <td>-0.000000</td>\n",
       "      <td>0.000000</td>\n",
       "    </tr>\n",
       "    <tr>\n",
       "      <th>MD_Pf_12</th>\n",
       "      <td>-0.000000</td>\n",
       "      <td>0.000000</td>\n",
       "    </tr>\n",
       "  </tbody>\n",
       "</table>\n",
       "</div>"
      ],
      "text/plain": [
       "              coef       abs\n",
       "AV_2     -0.166282  0.166282\n",
       "MGN_10   -0.153460  0.153460\n",
       "LGN_9    -0.029270  0.029270\n",
       "Pul_8    -0.022820  0.022820\n",
       "VA_4     -0.000000  0.000000\n",
       "VLa_5    -0.000000  0.000000\n",
       "VLP_6    -0.000000  0.000000\n",
       "VPL_7    -0.000000  0.000000\n",
       "CM_11    -0.000000  0.000000\n",
       "MD_Pf_12 -0.000000  0.000000"
      ]
     },
     "execution_count": 51,
     "metadata": {},
     "output_type": "execute_result"
    }
   ],
   "source": [
    "check = pd.DataFrame({\"coef\": lasso.coef_}, index=X.columns)\n",
    "check['abs'] = check['coef'].abs()\n",
    "check = check.sort_values(by=\"abs\", ascending=False)\n",
    "check"
   ]
  },
  {
   "cell_type": "code",
   "execution_count": 49,
   "id": "e71c853a",
   "metadata": {},
   "outputs": [
    {
     "name": "stdout",
     "output_type": "stream",
     "text": [
      "0.04268818040991856\n",
      "-0.005121767360380086\n",
      "1.042679507226447\n"
     ]
    },
    {
     "data": {
      "application/vnd.microsoft.datawrangler.viewer.v0+json": {
       "columns": [
        {
         "name": "index",
         "rawType": "object",
         "type": "string"
        },
        {
         "name": "coef",
         "rawType": "float64",
         "type": "float"
        },
        {
         "name": "abs",
         "rawType": "float64",
         "type": "float"
        }
       ],
       "ref": "5543011c-5bc6-4da8-8eb7-49e0e4addda4",
       "rows": [
        [
         "AV_2",
         "-0.20327376230688912",
         "0.20327376230688912"
        ],
        [
         "MGN_10",
         "-0.16757084292327143",
         "0.16757084292327143"
        ],
        [
         "LGN_9",
         "-0.05859226909307618",
         "0.05859226909307618"
        ],
        [
         "Pul_8",
         "-0.03511566721552397",
         "0.03511566721552397"
        ],
        [
         "VLa_5",
         "-0.013013527996647742",
         "0.013013527996647742"
        ],
        [
         "VA_4",
         "0.0",
         "0.0"
        ],
        [
         "VLP_6",
         "-0.0",
         "0.0"
        ],
        [
         "VPL_7",
         "0.0",
         "0.0"
        ],
        [
         "CM_11",
         "-0.0",
         "0.0"
        ],
        [
         "MD_Pf_12",
         "-0.0",
         "0.0"
        ],
        [
         "THALAMUS_1",
         "-0.0",
         "0.0"
        ]
       ],
       "shape": {
        "columns": 2,
        "rows": 11
       }
      },
      "text/html": [
       "<div>\n",
       "<style scoped>\n",
       "    .dataframe tbody tr th:only-of-type {\n",
       "        vertical-align: middle;\n",
       "    }\n",
       "\n",
       "    .dataframe tbody tr th {\n",
       "        vertical-align: top;\n",
       "    }\n",
       "\n",
       "    .dataframe thead th {\n",
       "        text-align: right;\n",
       "    }\n",
       "</style>\n",
       "<table border=\"1\" class=\"dataframe\">\n",
       "  <thead>\n",
       "    <tr style=\"text-align: right;\">\n",
       "      <th></th>\n",
       "      <th>coef</th>\n",
       "      <th>abs</th>\n",
       "    </tr>\n",
       "  </thead>\n",
       "  <tbody>\n",
       "    <tr>\n",
       "      <th>AV_2</th>\n",
       "      <td>-0.203274</td>\n",
       "      <td>0.203274</td>\n",
       "    </tr>\n",
       "    <tr>\n",
       "      <th>MGN_10</th>\n",
       "      <td>-0.167571</td>\n",
       "      <td>0.167571</td>\n",
       "    </tr>\n",
       "    <tr>\n",
       "      <th>LGN_9</th>\n",
       "      <td>-0.058592</td>\n",
       "      <td>0.058592</td>\n",
       "    </tr>\n",
       "    <tr>\n",
       "      <th>Pul_8</th>\n",
       "      <td>-0.035116</td>\n",
       "      <td>0.035116</td>\n",
       "    </tr>\n",
       "    <tr>\n",
       "      <th>VLa_5</th>\n",
       "      <td>-0.013014</td>\n",
       "      <td>0.013014</td>\n",
       "    </tr>\n",
       "    <tr>\n",
       "      <th>VA_4</th>\n",
       "      <td>0.000000</td>\n",
       "      <td>0.000000</td>\n",
       "    </tr>\n",
       "    <tr>\n",
       "      <th>VLP_6</th>\n",
       "      <td>-0.000000</td>\n",
       "      <td>0.000000</td>\n",
       "    </tr>\n",
       "    <tr>\n",
       "      <th>VPL_7</th>\n",
       "      <td>0.000000</td>\n",
       "      <td>0.000000</td>\n",
       "    </tr>\n",
       "    <tr>\n",
       "      <th>CM_11</th>\n",
       "      <td>-0.000000</td>\n",
       "      <td>0.000000</td>\n",
       "    </tr>\n",
       "    <tr>\n",
       "      <th>MD_Pf_12</th>\n",
       "      <td>-0.000000</td>\n",
       "      <td>0.000000</td>\n",
       "    </tr>\n",
       "    <tr>\n",
       "      <th>THALAMUS_1</th>\n",
       "      <td>-0.000000</td>\n",
       "      <td>0.000000</td>\n",
       "    </tr>\n",
       "  </tbody>\n",
       "</table>\n",
       "</div>"
      ],
      "text/plain": [
       "                coef       abs\n",
       "AV_2       -0.203274  0.203274\n",
       "MGN_10     -0.167571  0.167571\n",
       "LGN_9      -0.058592  0.058592\n",
       "Pul_8      -0.035116  0.035116\n",
       "VLa_5      -0.013014  0.013014\n",
       "VA_4        0.000000  0.000000\n",
       "VLP_6      -0.000000  0.000000\n",
       "VPL_7       0.000000  0.000000\n",
       "CM_11      -0.000000  0.000000\n",
       "MD_Pf_12   -0.000000  0.000000\n",
       "THALAMUS_1 -0.000000  0.000000"
      ]
     },
     "execution_count": 49,
     "metadata": {},
     "output_type": "execute_result"
    }
   ],
   "source": [
    "from sklearn.linear_model import ElasticNetCV\n",
    "\n",
    "\n",
    "regr = ElasticNetCV(cv=10, random_state=0)\n",
    "regr.fit(X_train, y_train)\n",
    "print(regr.alpha_)\n",
    "print(regr.intercept_)\n",
    "y_pred = regr.predict(X_test)\n",
    "\n",
    "mse = mean_squared_error(y_test, y_pred)\n",
    "print(mse)\n",
    "\n",
    "check = pd.DataFrame({\"coef\": regr.coef_}, index=X.columns)\n",
    "check['abs'] = check['coef'].abs()\n",
    "check = check.sort_values(by=\"abs\", ascending=False)\n",
    "check"
   ]
  },
  {
   "cell_type": "code",
   "execution_count": 245,
   "id": "8b192677",
   "metadata": {},
   "outputs": [
    {
     "name": "stdout",
     "output_type": "stream",
     "text": [
      "                            OLS Regression Results                            \n",
      "==============================================================================\n",
      "Dep. Variable:              EDSS_sqrt   R-squared:                       0.275\n",
      "Model:                            OLS   Adj. R-squared:                  0.267\n",
      "Method:                 Least Squares   F-statistic:                     33.94\n",
      "Date:                Thu, 05 Jun 2025   Prob (F-statistic):           2.15e-29\n",
      "Time:                        20:52:20   Log-Likelihood:                -574.28\n",
      "No. Observations:                 453   AIC:                             1161.\n",
      "Df Residuals:                     447   BIC:                             1185.\n",
      "Df Model:                           5                                         \n",
      "Covariance Type:            nonrobust                                         \n",
      "==============================================================================\n",
      "                 coef    std err          t      P>|t|      [0.025      0.975]\n",
      "------------------------------------------------------------------------------\n",
      "Intercept     -0.0215      0.041     -0.524      0.601      -0.102       0.059\n",
      "age            0.3215      0.047      6.876      0.000       0.230       0.413\n",
      "Female        -0.0603      0.048     -1.256      0.210      -0.155       0.034\n",
      "tiv           -0.0140      0.052     -0.267      0.789      -0.117       0.089\n",
      "AV_2          -0.1829      0.055     -3.310      0.001      -0.291      -0.074\n",
      "MGN_10        -0.1369      0.056     -2.439      0.015      -0.247      -0.027\n",
      "==============================================================================\n",
      "Omnibus:                        4.894   Durbin-Watson:                   2.027\n",
      "Prob(Omnibus):                  0.087   Jarque-Bera (JB):                4.746\n",
      "Skew:                           0.248   Prob(JB):                       0.0932\n",
      "Kurtosis:                       3.076   Cond. No.                         2.47\n",
      "==============================================================================\n",
      "\n",
      "Notes:\n",
      "[1] Standard Errors assume that the covariance matrix of the errors is correctly specified.\n"
     ]
    }
   ],
   "source": [
    "formula = \"EDSS_sqrt ~ age + Female + tiv + AV_2 + MGN_10\"\n",
    "res = sm.OLS.from_formula(formula, data=model_data).fit()\n",
    "print(res.summary())"
   ]
  }
 ],
 "metadata": {
  "kernelspec": {
   "display_name": "monai",
   "language": "python",
   "name": "python3"
  },
  "language_info": {
   "codemirror_mode": {
    "name": "ipython",
    "version": 3
   },
   "file_extension": ".py",
   "mimetype": "text/x-python",
   "name": "python",
   "nbconvert_exporter": "python",
   "pygments_lexer": "ipython3",
   "version": "3.12.4"
  }
 },
 "nbformat": 4,
 "nbformat_minor": 5
}
