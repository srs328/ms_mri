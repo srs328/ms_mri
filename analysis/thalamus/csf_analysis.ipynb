{
 "cells": [
  {
   "cell_type": "code",
   "execution_count": 1,
   "id": "6fd3b007",
   "metadata": {},
   "outputs": [],
   "source": [
    "import pandas as pd\n",
    "from warnings import simplefilter\n",
    "\n",
    "simplefilter(action=\"ignore\", category=pd.errors.PerformanceWarning)\n",
    "from pathlib import Path\n",
    "import json\n",
    "import numpy as np\n",
    "from collections import defaultdict\n",
    "import matplotlib.pyplot as plt\n",
    "from datetime import datetime\n",
    "import re\n",
    "from scipy import stats\n",
    "from scipy.optimize import curve_fit\n",
    "import numpy as np\n",
    "import statsmodels.api as sm\n",
    "from matplotlib import colormaps\n",
    "from tqdm.notebook import tqdm\n",
    "import helpers\n",
    "from sklearn.metrics import r2_score\n",
    "from IPython.display import clear_output\n",
    "import textwrap\n",
    "from statsmodels.stats.outliers_influence import variance_inflation_factor\n",
    "\n",
    "# from reload_recursive import reload_recursive\n",
    "from statsmodels.stats.mediation import Mediation\n",
    "from statsmodels.genmod.families import Poisson\n",
    "import pyperclip\n",
    "\n",
    "from mri_data import file_manager as fm"
   ]
  },
  {
   "cell_type": "code",
   "execution_count": 2,
   "id": "9cd5779d",
   "metadata": {},
   "outputs": [],
   "source": [
    "# reload_recursive(helpers)"
   ]
  },
  {
   "cell_type": "markdown",
   "id": "afeaa8f0",
   "metadata": {},
   "source": [
    "## Load Data"
   ]
  },
  {
   "cell_type": "markdown",
   "id": "afa70c28",
   "metadata": {},
   "source": [
    "### Clinical and Volumes"
   ]
  },
  {
   "cell_type": "markdown",
   "id": "96beee9f",
   "metadata": {},
   "source": [
    "### HIPS-THOMAS Volumes and Distances"
   ]
  },
  {
   "cell_type": "code",
   "execution_count": 119,
   "id": "34658b50",
   "metadata": {},
   "outputs": [],
   "source": [
    "drive_root = fm.get_drive_root()\n",
    "dataroot = drive_root / \"3Tpioneer_bids\"\n",
    "data_dir = Path(\"/home/srs-9/Projects/ms_mri/data\")\n",
    "fig_path = Path(\n",
    "    \"/home/srs-9/Projects/ms_mri/analysis/thalamus/figures_tables/choroid_associations\"\n",
    ")\n",
    "\n",
    "choroid_volumes = pd.read_csv(\n",
    "    \"/home/srs-9/Projects/ms_mri/data/choroid_aschoplex_volumes.csv\", index_col=\"subid\"\n",
    ")\n",
    "ventricle_volumes = pd.read_csv(\n",
    "    \"/home/srs-9/Projects/ms_mri/analysis/paper1/data0/ventricle_volumes.csv\",\n",
    "    index_col=\"subid\",\n",
    ")\n",
    "csf_volumes = pd.read_csv(\n",
    "    \"/home/srs-9/Projects/ms_mri/analysis/thalamus/data0/csf_volumes.csv\",\n",
    "    index_col=\"subid\",\n",
    ")\n",
    "third_ventricle_width = pd.read_csv(\n",
    "    \"/home/srs-9/Projects/ms_mri/analysis/thalamus/data0/third_ventricle_width.csv\",\n",
    "    index_col=\"subid\",\n",
    ")\n",
    "\n",
    "tiv = pd.read_csv(\"/home/srs-9/Projects/ms_mri/data/tiv_data.csv\", index_col=\"subid\")\n",
    "\n",
    "df = pd.read_csv(\n",
    "    \"/home/srs-9/Projects/ms_mri/data/clinical_data_processed.csv\", index_col=\"subid\"\n",
    ")\n",
    "sdmt = pd.read_csv(\n",
    "    \"/home/srs-9/Projects/ms_mri/analysis/thalamus/SDMT_sheet.csv\", index_col=\"subid\"\n",
    ")\n",
    "df = df.join([choroid_volumes, tiv, ventricle_volumes, sdmt[\"SDMT\"]])\n",
    "df[\"periCSF\"] = csf_volumes[\"peripheral\"]\n",
    "df[\"allCSF\"] = csf_volumes[\"all\"]\n",
    "df[\"thirdV\"] = csf_volumes[\"third_ventricle\"]\n",
    "\n",
    "df[\"thirdV_width\"] = third_ventricle_width[\"third_ventricle_width\"]\n",
    "df[\"periCSF_frac\"] = csf_volumes[\"peripheral\"] / csf_volumes[\"all\"]\n",
    "df.rename(columns={'ventricle_volume': 'LV', 'choroid_volume': 'CP'}, inplace=True)\n",
    "\n",
    "df[\"SDMT\"] = pd.to_numeric(df[\"SDMT\"], errors=\"coerce\")\n",
    "df[\"thalamus_sqrt\"] = np.sqrt(df[\"thalamus\"])\n",
    "df[\"thalamus_curt\"] = np.sqrt(df[\"thalamus\"] ** 3)\n",
    "df[\"cortical_thickness_inv\"] = 1 / df[\"cortical_thickness\"]\n",
    "df[\"LV_logtrans\"] = np.log(df[\"LV\"])\n",
    "\n",
    "# these corrections should ultimately be made to the csf file\n",
    "for struct in [\"brain\", \"white\", \"grey\", \"thalamus\", \"t2lv\"]:\n",
    "    df[struct] = df[struct] * 1000\n",
    "\n",
    "df[\"CCF\"] = df[\"LV\"] / df[\"allCSF\"]\n",
    "df[\"peri_ratio\"] = df[\"periCSF\"] / df[\"LV\"]\n",
    "\n",
    "\n",
    "df_z = df.copy()\n",
    "numeric_cols = df.select_dtypes(include=\"number\").columns\n",
    "df_z[numeric_cols] = df_z[numeric_cols].apply(stats.zscore, nan_policy=\"omit\")\n",
    "\n",
    "viridis = colormaps[\"viridis\"].resampled(20)\n",
    "\n",
    "colors = helpers.get_colors()"
   ]
  },
  {
   "cell_type": "code",
   "execution_count": 4,
   "id": "943a9d3a",
   "metadata": {},
   "outputs": [],
   "source": [
    "df_thomas = pd.read_csv(data_dir / \"hipsthomas_vols.csv\", index_col=\"subid\")\n",
    "cols_orig = df_thomas.columns\n",
    "new_colnames = {}\n",
    "for col in df_thomas.columns:\n",
    "    new_col = re.sub(r\"(\\d+)-([\\w-]+)\", r\"\\2_\\1\", col)\n",
    "    new_col = re.sub(\"-\", \"_\", new_col)\n",
    "    new_colnames[col] = new_col\n",
    "df_thomas = df_thomas.rename(columns=new_colnames)\n",
    "df_thomas_z = df_thomas.apply(stats.zscore, nan_policy=\"omit\")\n",
    "\n",
    "df_thomas_left = pd.read_csv(data_dir / \"hipsthomas_left_vols.csv\", index_col=\"subid\")\n",
    "df_thomas_left = df_thomas_left.rename(columns=new_colnames)\n",
    "df_thomas_left_z = df_thomas_left.apply(stats.zscore, nan_policy=\"omit\")\n",
    "\n",
    "df_thomas_right = pd.read_csv(data_dir / \"hipsthomas_right_vols.csv\", index_col=\"subid\")\n",
    "df_thomas_right = df_thomas_right.rename(columns=new_colnames)\n",
    "df_thomas_right_z = df_thomas_right.apply(stats.zscore, nan_policy=\"omit\")\n",
    "\n",
    "\n",
    "thalamic_nuclei = [2, 4, 5, 6, 7, 8, 9, 10, 11, 12]\n",
    "deep_grey = [13, 14, 26, 27, 28, 29, 30, 31, 32]\n",
    "\n",
    "ignore_structs1 = [\n",
    "    \"THALAMUS_1\",\n",
    "    \"Amy_34\",\n",
    "    \"GP_33\",\n",
    "    \"Cla_28\",\n",
    "    \"Acc_26\",\n",
    "    \"Hb_13\",\n",
    "    \"MTT_14\",\n",
    "]\n",
    "ignore_structs2 = [\"THALAMUS_1\", \"Amy_34\", \"GP_33\", \"Hb_13\", \"MTT_14\"]\n",
    "\n",
    "thalamic_nuclei_str = [str(i) for i in thalamic_nuclei]\n",
    "\n",
    "hips_thomas_ref = pd.read_csv(\n",
    "    \"/home/srs-9/Projects/ms_mri/data/hipsthomas_struct_index.csv\", index_col=\"index\"\n",
    ")[\"struct\"]\n",
    "hips_thomas_invref = pd.read_csv(\n",
    "    \"/home/srs-9/Projects/ms_mri/data/hipsthomas_struct_index.csv\", index_col=\"struct\"\n",
    ")[\"index\"]\n",
    "\n",
    "\n",
    "def combine_nuclei(df):\n",
    "    df2 = pd.DataFrame()\n",
    "    df2[\"anterior\"] = df[\"AV_2\"]\n",
    "    df2[\"ventral\"] = df[\"VA_4\"] + df[\"VLa_5\"] + df[\"VLP_6\"] + df[\"VPL_7\"]\n",
    "    df2[\"intralaminar\"] = df[\"CM_11\"]\n",
    "    df2[\"medial\"] = df[\"MD_Pf_12\"]\n",
    "    df2[\"posterior\"] = df[\"Pul_8\"] + df[\"LGN_9\"] + df[\"MGN_10\"]\n",
    "    df2[\"THALAMUS_1\"] = df[\"THALAMUS_1\"]\n",
    "    return df2\n",
    "\n",
    "\n",
    "def combine_nuclei2(df):\n",
    "    df2 = pd.DataFrame()\n",
    "    df2[\"anterior\"] = df[\"AV_2\"]\n",
    "    df2[\"ventral\"] = df[\"VA_4\"] + df[\"VLa_5\"] + df[\"VLP_6\"] + df[\"VPL_7\"]\n",
    "    df2[\"medial\"] = df[\"MD_Pf_12\"] + df[\"CM_11\"]\n",
    "    df2[\"posterior\"] = df[\"Pul_8\"] + df[\"LGN_9\"] + df[\"MGN_10\"]\n",
    "    df2[\"THALAMUS_1\"] = df[\"THALAMUS_1\"]\n",
    "    return df2\n",
    "\n",
    "\n",
    "df_thomas2 = combine_nuclei2(df_thomas)\n",
    "grouped_nuclei = df_thomas2.columns[~df_thomas2.columns.isin([\"THALAMUS_1\"])]\n",
    "df_thomas2_z = df_thomas2.apply(stats.zscore, nan_policy=\"omit\")\n",
    "\n",
    "df_thomas2_left = combine_nuclei2(df_thomas_left)\n",
    "df_thomas2_left_z = df_thomas2_left.apply(stats.zscore, nan_policy=\"omit\")\n",
    "\n",
    "df_thomas2_right = combine_nuclei2(df_thomas_right)\n",
    "df_thomas2_right_z = df_thomas2_right.apply(stats.zscore, nan_policy=\"omit\")"
   ]
  },
  {
   "cell_type": "code",
   "execution_count": 5,
   "id": "a98f7111",
   "metadata": {},
   "outputs": [
    {
     "data": {
      "application/vnd.microsoft.datawrangler.viewer.v0+json": {
       "columns": [
        {
         "name": "subid",
         "rawType": "int64",
         "type": "integer"
        },
        {
         "name": "t2lv",
         "rawType": "float64",
         "type": "float"
        }
       ],
       "ref": "985a62a3-1d5d-4f66-9c86-cf29a7a81edd",
       "rows": [
        [
         "1001",
         "1433.965228"
        ],
        [
         "1002",
         "1197.262277"
        ],
        [
         "1003",
         "1896.61447"
        ],
        [
         "1004",
         "1099.200521"
        ],
        [
         "1005",
         "2645.443695"
        ],
        [
         "1007",
         "1446.435956"
        ],
        [
         "1010",
         "1128.379959"
        ],
        [
         "1011",
         "1220.593637"
        ],
        [
         "1012",
         "1271.386668"
        ],
        [
         "1013",
         "1536.003016"
        ],
        [
         "1015",
         "857.366198"
        ],
        [
         "1016",
         "1679.70091"
        ],
        [
         "1017",
         "1590.240065"
        ],
        [
         "1019",
         "1556.2081919999998"
        ],
        [
         "1020",
         "1279.785934"
        ],
        [
         "1021",
         "1313.218201"
        ],
        [
         "1022",
         "1151.265148"
        ],
        [
         "1023",
         "751.215806"
        ],
        [
         "1024",
         "1034.122417"
        ],
        [
         "1026",
         "1157.767207"
        ],
        [
         "1027",
         "1060.262187"
        ],
        [
         "1028",
         "1602.9762309999999"
        ],
        [
         "1029",
         "1756.087642"
        ],
        [
         "1030",
         "5159.9987980000005"
        ],
        [
         "1031",
         "1778.372877"
        ],
        [
         "1033",
         "1250.911335"
        ],
        [
         "1036",
         "975.305186"
        ],
        [
         "1037",
         "2981.103446"
        ],
        [
         "1038",
         "3618.973896"
        ],
        [
         "1039",
         "2125.7008069999997"
        ],
        [
         "1042",
         "1664.6206"
        ],
        [
         "1044",
         "1135.3012709999998"
        ],
        [
         "1045",
         "895.3546650000001"
        ],
        [
         "1046",
         "1192.733869"
        ],
        [
         "1047",
         "1206.835984"
        ],
        [
         "1049",
         "1914.433021"
        ],
        [
         "1050",
         "1672.8799199999999"
        ],
        [
         "1052",
         "4644.611633"
        ],
        [
         "1053",
         "1408.620282"
        ],
        [
         "1054",
         "1625.528034"
        ],
        [
         "1057",
         "1233.325217"
        ],
        [
         "1058",
         "3964.203525"
        ],
        [
         "1061",
         "943.609931"
        ],
        [
         "1062",
         "1749.36031"
        ],
        [
         "1063",
         "4722.2515109999995"
        ],
        [
         "1064",
         "1280.0097660000001"
        ],
        [
         "1065",
         "1431.220371"
        ],
        [
         "1066",
         "2563.250266"
        ],
        [
         "1068",
         "2786.6112510000003"
        ],
        [
         "1069",
         "1689.1348580000001"
        ]
       ],
       "shape": {
        "columns": 1,
        "rows": 564
       }
      },
      "text/plain": [
       "subid\n",
       "1001     1433.965228\n",
       "1002     1197.262277\n",
       "1003     1896.614470\n",
       "1004     1099.200521\n",
       "1005     2645.443695\n",
       "            ...     \n",
       "3016     1205.552968\n",
       "3017    10415.873200\n",
       "3021     2186.487423\n",
       "3023     4893.520521\n",
       "3028     3990.667828\n",
       "Name: t2lv, Length: 564, dtype: float64"
      ]
     },
     "execution_count": 5,
     "metadata": {},
     "output_type": "execute_result"
    }
   ],
   "source": [
    "df[\"t2lv\"]"
   ]
  },
  {
   "cell_type": "markdown",
   "id": "8b56a5b8",
   "metadata": {},
   "source": [
    "## Functions"
   ]
  },
  {
   "cell_type": "code",
   "execution_count": 6,
   "id": "acfcf85d",
   "metadata": {},
   "outputs": [],
   "source": [
    "def normalize_by_tiv(df, variables=None):\n",
    "    if variables is None:\n",
    "        variables = [\n",
    "            \"brain\",\n",
    "            \"white\",\n",
    "            \"grey\",\n",
    "            \"csf_all\",\n",
    "            \"csf_peripheral\",\n",
    "            \"ventricle_volume\",\n",
    "            \"choroid_volume\",\n",
    "        ]\n",
    "\n",
    "    for var in variables:\n",
    "        new_var = f\"n-{var}\"\n",
    "        df[new_var] = df[var] / df[\"tiv\"]\n",
    "\n",
    "    return df\n",
    "\n",
    "\n",
    "def zscore(df):\n",
    "    df_z = df.copy()\n",
    "    numeric_cols = df.select_dtypes(include=\"number\").columns\n",
    "    df_z[numeric_cols] = df_z[numeric_cols].apply(stats.zscore, nan_policy=\"omit\")\n",
    "    return df_z"
   ]
  },
  {
   "cell_type": "markdown",
   "id": "3021b209",
   "metadata": {},
   "source": [
    "## Analysis"
   ]
  },
  {
   "cell_type": "markdown",
   "id": "b69111d6",
   "metadata": {},
   "source": [
    "### Exploratory Stuff"
   ]
  },
  {
   "cell_type": "code",
   "execution_count": 7,
   "id": "9d53e069",
   "metadata": {},
   "outputs": [
    {
     "name": "stdout",
     "output_type": "stream",
     "text": [
      "                            OLS Regression Results                            \n",
      "==============================================================================\n",
      "Dep. Variable:       ventricle_volume   R-squared:                       0.341\n",
      "Model:                            OLS   Adj. R-squared:                  0.340\n",
      "Method:                 Least Squares   F-statistic:                     240.8\n",
      "Date:                Sat, 25 Oct 2025   Prob (F-statistic):           4.67e-44\n",
      "Time:                        22:42:09   Log-Likelihood:                -5059.2\n",
      "No. Observations:                 467   AIC:                         1.012e+04\n",
      "Df Residuals:                     465   BIC:                         1.013e+04\n",
      "Df Model:                           1                                         \n",
      "Covariance Type:            nonrobust                                         \n",
      "==============================================================================\n",
      "                 coef    std err          t      P>|t|      [0.025      0.975]\n",
      "------------------------------------------------------------------------------\n",
      "Intercept  -5.441e+04   5044.560    -10.787      0.000   -6.43e+04   -4.45e+04\n",
      "csf_all        0.2088      0.013     15.517      0.000       0.182       0.235\n",
      "==============================================================================\n",
      "Omnibus:                      133.078   Durbin-Watson:                   1.965\n",
      "Prob(Omnibus):                  0.000   Jarque-Bera (JB):              357.936\n",
      "Skew:                           1.386   Prob(JB):                     1.88e-78\n",
      "Kurtosis:                       6.273   Cond. No.                     3.32e+06\n",
      "==============================================================================\n",
      "\n",
      "Notes:\n",
      "[1] Standard Errors assume that the covariance matrix of the errors is correctly specified.\n",
      "[2] The condition number is large, 3.32e+06. This might indicate that there are\n",
      "strong multicollinearity or other numerical problems.\n",
      "                            OLS Regression Results                            \n",
      "==============================================================================\n",
      "Dep. Variable:       ventricle_volume   R-squared:                       0.423\n",
      "Model:                            OLS   Adj. R-squared:                  0.416\n",
      "Method:                 Least Squares   F-statistic:                     67.47\n",
      "Date:                Sat, 25 Oct 2025   Prob (F-statistic):           7.78e-53\n",
      "Time:                        22:42:09   Log-Likelihood:                -5028.4\n",
      "No. Observations:                 467   AIC:                         1.007e+04\n",
      "Df Residuals:                     461   BIC:                         1.009e+04\n",
      "Df Model:                           5                                         \n",
      "Covariance Type:            nonrobust                                         \n",
      "==============================================================================\n",
      "                 coef    std err          t      P>|t|      [0.025      0.975]\n",
      "------------------------------------------------------------------------------\n",
      "Intercept  -2.435e+04   1.39e+04     -1.748      0.081   -5.17e+04    3021.465\n",
      "csf_all        0.2430      0.022     11.092      0.000       0.200       0.286\n",
      "brain         -0.0048      0.008     -0.577      0.564      -0.021       0.012\n",
      "age          201.8196     50.343      4.009      0.000     102.890     300.750\n",
      "Female     -1689.0663   1580.530     -1.069      0.286   -4795.002    1416.869\n",
      "tiv           -0.0297      0.007     -4.001      0.000      -0.044      -0.015\n",
      "==============================================================================\n",
      "Omnibus:                      142.226   Durbin-Watson:                   1.915\n",
      "Prob(Omnibus):                  0.000   Jarque-Bera (JB):              439.465\n",
      "Skew:                           1.421   Prob(JB):                     3.73e-96\n",
      "Kurtosis:                       6.808   Cond. No.                     5.44e+07\n",
      "==============================================================================\n",
      "\n",
      "Notes:\n",
      "[1] Standard Errors assume that the covariance matrix of the errors is correctly specified.\n",
      "[2] The condition number is large, 5.44e+07. This might indicate that there are\n",
      "strong multicollinearity or other numerical problems.\n"
     ]
    },
    {
     "data": {
      "text/plain": [
       "<matplotlib.collections.PathCollection at 0x704f221ab470>"
      ]
     },
     "execution_count": 7,
     "metadata": {},
     "output_type": "execute_result"
    },
    {
     "data": {
      "image/png": "[encoded data removed]",
      "text/plain": [
       "<Figure size 640x480 with 1 Axes>"
      ]
     },
     "metadata": {},
     "output_type": "display_data"
    }
   ],
   "source": [
    "work_data = df[df[\"dz_type2\"] == \"MS\"]\n",
    "modelA = sm.OLS.from_formula(\"ventricle_volume ~ csf_all\", data=work_data).fit()\n",
    "modelB = sm.OLS.from_formula(\n",
    "    \"ventricle_volume ~ csf_all + brain + age + Female + tiv\", data=work_data\n",
    ").fit()\n",
    "print(modelA.summary())\n",
    "print(modelB.summary())\n",
    "\n",
    "work_data[\"DVE\"] = modelA.resid\n",
    "plt.scatter(df[\"brain\"], df[\"ventricle_volume\"])"
   ]
  },
  {
   "cell_type": "code",
   "execution_count": 121,
   "id": "2b326573",
   "metadata": {},
   "outputs": [
    {
     "name": "stdout",
     "output_type": "stream",
     "text": [
      "                            OLS Regression Results                            \n",
      "==============================================================================\n",
      "Dep. Variable:                     LV   R-squared:                       0.497\n",
      "Model:                            OLS   Adj. R-squared:                  0.492\n",
      "Method:                 Least Squares   F-statistic:                     113.9\n",
      "Date:                Sun, 26 Oct 2025   Prob (F-statistic):           1.64e-67\n",
      "Time:                        02:38:37   Log-Likelihood:                -513.11\n",
      "No. Observations:                 467   AIC:                             1036.\n",
      "Df Residuals:                     462   BIC:                             1057.\n",
      "Df Model:                           4                                         \n",
      "Covariance Type:            nonrobust                                         \n",
      "==============================================================================\n",
      "                 coef    std err          t      P>|t|      [0.025      0.975]\n",
      "------------------------------------------------------------------------------\n",
      "Intercept     -0.0183      0.034     -0.538      0.591      -0.085       0.048\n",
      "THALAMUS_1    -0.7773      0.040    -19.584      0.000      -0.855      -0.699\n",
      "periCSF       -0.2251      0.052     -4.296      0.000      -0.328      -0.122\n",
      "Female         0.0338      0.040      0.838      0.402      -0.045       0.113\n",
      "tiv            0.7549      0.064     11.749      0.000       0.629       0.881\n",
      "==============================================================================\n",
      "Omnibus:                      113.855   Durbin-Watson:                   1.975\n",
      "Prob(Omnibus):                  0.000   Jarque-Bera (JB):              259.528\n",
      "Skew:                           1.254   Prob(JB):                     4.41e-57\n",
      "Kurtosis:                       5.655   Cond. No.                         3.52\n",
      "==============================================================================\n",
      "\n",
      "Notes:\n",
      "[1] Standard Errors assume that the covariance matrix of the errors is correctly specified.\n"
     ]
    }
   ],
   "source": [
    "model_data = df_z.join([df_thomas2_z])\n",
    "model_data = model_data[model_data[\"dz_type2\"] == \"MS\"]\n",
    "\n",
    "formula = \"LV ~ THALAMUS_1 + periCSF + Female + tiv\"\n",
    "result = sm.OLS.from_formula(formula, data=model_data).fit()\n",
    "print(result.summary())"
   ]
  },
  {
   "cell_type": "code",
   "execution_count": 184,
   "id": "1a3ec1f8",
   "metadata": {},
   "outputs": [
    {
     "name": "stdout",
     "output_type": "stream",
     "text": [
      "                            OLS Regression Results                            \n",
      "==============================================================================\n",
      "Dep. Variable:                     LV   R-squared:                       0.387\n",
      "Model:                            OLS   Adj. R-squared:                  0.382\n",
      "Method:                 Least Squares   F-statistic:                     73.03\n",
      "Date:                Sun, 26 Oct 2025   Prob (F-statistic):           6.34e-48\n",
      "Time:                        03:20:17   Log-Likelihood:                -5042.2\n",
      "No. Observations:                 467   AIC:                         1.009e+04\n",
      "Df Residuals:                     462   BIC:                         1.012e+04\n",
      "Df Model:                           4                                         \n",
      "Covariance Type:            nonrobust                                         \n",
      "==============================================================================\n",
      "                 coef    std err          t      P>|t|      [0.025      0.975]\n",
      "------------------------------------------------------------------------------\n",
      "Intercept  -4.908e+04   8907.656     -5.510      0.000   -6.66e+04   -3.16e+04\n",
      "CP            13.5012      1.212     11.142      0.000      11.120      15.882\n",
      "age          277.2505     48.436      5.724      0.000     182.068     372.433\n",
      "Female      1491.8372   1628.439      0.916      0.360   -1708.229    4691.903\n",
      "tiv            0.0233      0.005      4.604      0.000       0.013       0.033\n",
      "==============================================================================\n",
      "Omnibus:                      230.311   Durbin-Watson:                   2.020\n",
      "Prob(Omnibus):                  0.000   Jarque-Bera (JB):             1260.124\n",
      "Skew:                           2.141   Prob(JB):                    2.33e-274\n",
      "Kurtosis:                       9.814   Cond. No.                     2.44e+07\n",
      "==============================================================================\n",
      "\n",
      "Notes:\n",
      "[1] Standard Errors assume that the covariance matrix of the errors is correctly specified.\n",
      "[2] The condition number is large, 2.44e+07. This might indicate that there are\n",
      "strong multicollinearity or other numerical problems.\n"
     ]
    }
   ],
   "source": [
    "model_data = df.join([df_thomas2])\n",
    "model_data = model_data[model_data[\"dz_type2\"] == \"MS\"]\n",
    "\n",
    "formula = \"LV ~ CP + age + Female + tiv\"\n",
    "# formula = \"THALAMUS_1 ~ periCSF + age + Female + tiv\"\n",
    "\n",
    "result = sm.OLS.from_formula(formula, data=model_data).fit()\n",
    "print(result.summary())"
   ]
  },
  {
   "cell_type": "markdown",
   "id": "60cd7323",
   "metadata": {},
   "source": [
    "LV ~ (0.10)periCSF\n",
    "LV ~ (0.12)periCSF +  (-4.77)Thal\n",
    "LV ~ (0.06)periCSF + (0.017)TIV\n",
    "LV ~ (-0.09)periCSF + (-6.96)Thal + (0.08)TIV"
   ]
  },
  {
   "cell_type": "code",
   "execution_count": 170,
   "id": "70140394",
   "metadata": {},
   "outputs": [
    {
     "name": "stdout",
     "output_type": "stream",
     "text": [
      "                            OLS Regression Results                            \n",
      "==============================================================================\n",
      "Dep. Variable:                   EDSS   R-squared:                       0.097\n",
      "Model:                            OLS   Adj. R-squared:                  0.009\n",
      "Method:                 Least Squares   F-statistic:                     1.098\n",
      "Date:                Sun, 26 Oct 2025   Prob (F-statistic):              0.370\n",
      "Time:                        03:09:55   Log-Likelihood:                -86.720\n",
      "No. Observations:                  46   AIC:                             183.4\n",
      "Df Residuals:                      41   BIC:                             192.6\n",
      "Df Model:                           4                                         \n",
      "Covariance Type:            nonrobust                                         \n",
      "==============================================================================\n",
      "                 coef    std err          t      P>|t|      [0.025      0.975]\n",
      "------------------------------------------------------------------------------\n",
      "Intercept      9.7127      4.932      1.969      0.056      -0.247      19.673\n",
      "THALAMUS_1    -0.0003      0.000     -0.729      0.470      -0.001       0.000\n",
      "age           -0.0051      0.027     -0.188      0.852      -0.060       0.050\n",
      "Female        -0.2108      0.793     -0.266      0.792      -1.813       1.392\n",
      "tiv        -2.545e-06   2.82e-06     -0.903      0.372   -8.23e-06    3.14e-06\n",
      "==============================================================================\n",
      "Omnibus:                        8.620   Durbin-Watson:                   1.844\n",
      "Prob(Omnibus):                  0.013   Jarque-Bera (JB):                8.136\n",
      "Skew:                           1.014   Prob(JB):                       0.0171\n",
      "Kurtosis:                       3.365   Cond. No.                     3.08e+07\n",
      "==============================================================================\n",
      "\n",
      "Notes:\n",
      "[1] Standard Errors assume that the covariance matrix of the errors is correctly specified.\n",
      "[2] The condition number is large, 3.08e+07. This might indicate that there are\n",
      "strong multicollinearity or other numerical problems.\n"
     ]
    }
   ],
   "source": [
    "formula = \"EDSS ~ THALAMUS_1 + age + Female + tiv\"\n",
    "# formula = \"THALAMUS_1 ~ CP + age + Female + tiv\"\n",
    "\n",
    "result = sm.OLS.from_formula(formula, data=model_data).fit()\n",
    "print(result.summary())"
   ]
  },
  {
   "cell_type": "code",
   "execution_count": null,
   "id": "87056e2d",
   "metadata": {},
   "outputs": [
    {
     "name": "stdout",
     "output_type": "stream",
     "text": [
      "                            OLS Regression Results                            \n",
      "==============================================================================\n",
      "Dep. Variable:       ventricle_volume   R-squared:                       0.478\n",
      "Model:                            OLS   Adj. R-squared:                  0.472\n",
      "Method:                 Least Squares   F-statistic:                     84.31\n",
      "Date:                Sat, 25 Oct 2025   Prob (F-statistic):           8.60e-63\n",
      "Time:                        17:19:18   Log-Likelihood:                -521.71\n",
      "No. Observations:                 467   AIC:                             1055.\n",
      "Df Residuals:                     461   BIC:                             1080.\n",
      "Df Model:                           5                                         \n",
      "Covariance Type:            nonrobust                                         \n",
      "==================================================================================\n",
      "                     coef    std err          t      P>|t|      [0.025      0.975]\n",
      "----------------------------------------------------------------------------------\n",
      "Intercept          0.0222      0.035      0.642      0.521      -0.046       0.090\n",
      "csf_all            0.5355      0.060      8.927      0.000       0.418       0.653\n",
      "choroid_volume     0.2992      0.043      6.999      0.000       0.215       0.383\n",
      "age                0.1235      0.039      3.128      0.002       0.046       0.201\n",
      "Female             0.0104      0.042      0.249      0.803      -0.072       0.092\n",
      "tiv               -0.1652      0.059     -2.789      0.006      -0.282      -0.049\n",
      "==============================================================================\n",
      "Omnibus:                      188.565   Durbin-Watson:                   1.919\n",
      "Prob(Omnibus):                  0.000   Jarque-Bera (JB):              813.547\n",
      "Skew:                           1.776   Prob(JB):                    2.19e-177\n",
      "Kurtosis:                       8.403   Cond. No.                         3.69\n",
      "==============================================================================\n",
      "\n",
      "Notes:\n",
      "[1] Standard Errors assume that the covariance matrix of the errors is correctly specified.\n"
     ]
    }
   ],
   "source": [
    "model_data = df_z.join([df_thomas_z])\n",
    "model_data = model_data[model_data[\"dz_type3\"] == \"MS\"]\n",
    "\n",
    "formula = \"ventricle_volume ~ csf_all + choroid_volume + age + Female + tiv\"\n",
    "result = sm.OLS.from_formula(formula, data=model_data).fit()\n",
    "print(result.summary())"
   ]
  },
  {
   "cell_type": "markdown",
   "id": "2c56c11d",
   "metadata": {
    "tags": [
     "Williams-Hotelling"
    ]
   },
   "source": [
    "### Relative effect size\n",
    "\n",
    "Compare influence of thalamic nuclei volumes on LV volume.\n",
    "\n",
    "Define a model for each nucleus to regress out peripheral CSF volume, age, sex, and TIV. Do the same for LV volume. Then get Pearson r for each set of residuals to do the Williams-Hotelling test. \n",
    "\n",
    "The following produces R code which I copy into Rstudio.\n",
    "\n",
    "The trend I find is not specific to MS, so what does this mean."
   ]
  },
  {
   "cell_type": "code",
   "execution_count": 194,
   "id": "9dcd6d7e",
   "metadata": {
    "tags": [
     "Williams-Hotelling"
    ]
   },
   "outputs": [
    {
     "name": "stdout",
     "output_type": "stream",
     "text": [
      "Disease group: NIND\n",
      "struct: THALAMUS_1, r: -0.373, pval: 0.00825\n",
      "struct: posterior, r: -0.408, pval: 0.00359\n",
      "struct: medial, r: -0.409, pval: 0.0035\n",
      "struct: anterior, r: -0.258, pval: 0.0735\n",
      "struct: ventral, r: -0.0886, pval: 0.545\n"
     ]
    }
   ],
   "source": [
    "model_data = df.join([df_thomas2])\n",
    "\n",
    "disease_group = \"NIND\"\n",
    "model_data = model_data[model_data[\"dz_type5\"] == disease_group]\n",
    "\n",
    "models = {}\n",
    "models[\"medial\"] = sm.OLS.from_formula(\n",
    "    \"medial ~ periCSF + age + Female + tiv\", data=model_data\n",
    ").fit()\n",
    "models[\"posterior\"] = sm.OLS.from_formula(\n",
    "    \"posterior ~ periCSF + age + Female + tiv\", data=model_data\n",
    ").fit()\n",
    "models[\"anterior\"] = sm.OLS.from_formula(\n",
    "    \"anterior ~ periCSF + age + Female + tiv\", data=model_data\n",
    ").fit()\n",
    "models[\"ventral\"] = sm.OLS.from_formula(\n",
    "    \"ventral ~ periCSF + age + Female + tiv\", data=model_data\n",
    ").fit()\n",
    "models[\"THALAMUS_1\"] = sm.OLS.from_formula(\n",
    "    \"THALAMUS_1 ~ periCSF + age + Female + tiv\", data=model_data\n",
    ").fit()\n",
    "models[\"LV\"] = sm.OLS.from_formula(\n",
    "    \"LV ~ periCSF + age + Female + tiv\", data=model_data\n",
    ").fit()\n",
    "\n",
    "nobs = models[\"LV\"].nobs\n",
    "\n",
    "structs = [\"posterior\", \"medial\", \"anterior\", \"ventral\"]\n",
    "working_structs = structs.copy()\n",
    "\n",
    "R_cmd = \"# Regressing LV residuals controlling for peripheral CSF volume\\n\\nresult_text <- ''\\n\"\n",
    "pearson_results = {}\n",
    "for i, struct1 in enumerate(structs):\n",
    "    working_structs = working_structs[1:]\n",
    "    for struct2 in working_structs:\n",
    "        p1, pval1 = stats.pearsonr(models[struct1].resid, models[\"LV\"].resid)\n",
    "        pearson_results[struct1] = (p1, pval1)\n",
    "        p2, pval2 = stats.pearsonr(models[struct2].resid, models[\"LV\"].resid)\n",
    "        pearson_results[struct2] = (p2, pval2)\n",
    "        p12, pval12 = stats.pearsonr(models[struct1].resid, models[struct2].resid)\n",
    "\n",
    "        if abs(p1) > abs(p2):\n",
    "            sign = \">\"\n",
    "        else:\n",
    "            sign = \"<\"\n",
    "        R_cmd += textwrap.dedent(f\"\"\"\n",
    "        comparison <- '{struct1} {sign} {struct2}'\n",
    "        p <- test2r.t2({p1:0.3}, {p2:0.3}, {p12:0.3}, {nobs})$p_value\n",
    "        result_text <- paste(result_text, sprintf(\"%s, p=%.2e\", comparison, p), sep='\\\\n')\n",
    "        \"\"\")\n",
    "\n",
    "R_cmd += \"\\ncat(result_text)\\n\"\n",
    "\n",
    "pearson_results[\"THALAMUS_1\"] = stats.pearsonr(\n",
    "    models[\"THALAMUS_1\"].resid, models[\"LV\"].resid\n",
    ")\n",
    "\n",
    "# Medial has a stronger association than THALAMUS_1, so just test this one\n",
    "p1 = pearson_results[\"THALAMUS_1\"][0]\n",
    "p2 = pearson_results[\"medial\"][0]\n",
    "p12 = stats.pearsonr(models[\"medial\"].resid, models[\"THALAMUS_1\"].resid).statistic\n",
    "comparison = \"'medial > THALAMUS_1'\"\n",
    "R_cmd += (\n",
    "    f\"comparison <- {comparison}\\n\" \n",
    "    f\"p <- test2r.t2({p1:0.3}, {p2:0.3}, {p12:0.3}, {nobs})$p_value\\n\" \n",
    "    f\"result_text <- sprintf(\\\"%s, p=%.2e\\\", comparison, p)\"\n",
    ")\n",
    "\n",
    "pyperclip.copy(R_cmd)\n",
    "\n",
    "print(f\"Disease group: {disease_group}\")\n",
    "for struct in [\"THALAMUS_1\"] + structs:\n",
    "    print(\n",
    "        f\"struct: {struct}, r: {pearson_results[struct][0]:0.3}, pval: {pearson_results[struct][1]:0.3}\"\n",
    "    )"
   ]
  },
  {
   "cell_type": "markdown",
   "id": "21887526",
   "metadata": {},
   "source": [
    "struct: THALAMUS_1, r: -0.636, pval: 2.12e-54  \n",
    "struct: posterior, r: -0.606, pval: 3.21e-48  \n",
    "struct: medial, r: -0.669, pval: 5.82e-62  \n",
    "struct: anterior, r: -0.369, pval: 1.63e-16  \n",
    "struct: ventral, r: -0.448, pval: 1.78e-24"
   ]
  },
  {
   "cell_type": "markdown",
   "id": "05c5898c",
   "metadata": {
    "tags": [
     "Williams-Hotelling"
    ]
   },
   "source": [
    "Williams-Hotelling tests above were run in R and gave the following results:\n",
    "\n",
    "- `posterior < medial, p=7.41e-04`  \n",
    "- `posterior > anterior, p=1.85e-12`  \n",
    "- `posterior > ventral, p=4.51e-08`  \n",
    "- `medial > anterior, p=2.47e-19`  \n",
    "- `medial > ventral, p=7.05e-17`  \n",
    "\n",
    "The medial nuclei are the only ones with a stronger beta than that of whole thalamus\n",
    "\n",
    "- `medial > THALAMUS_1, p=1.70e-02`"
   ]
  },
  {
   "cell_type": "markdown",
   "id": "ce4c4fd0",
   "metadata": {},
   "source": [
    "Then to do one more check, put all in one model."
   ]
  },
  {
   "cell_type": "code",
   "execution_count": 103,
   "id": "1d5f372c",
   "metadata": {},
   "outputs": [
    {
     "name": "stdout",
     "output_type": "stream",
     "text": [
      "                            OLS Regression Results                            \n",
      "==============================================================================\n",
      "Dep. Variable:       ventricle_volume   R-squared:                       0.601\n",
      "Model:                            OLS   Adj. R-squared:                  0.593\n",
      "Method:                 Least Squares   F-statistic:                     76.45\n",
      "Date:                Sat, 25 Oct 2025   Prob (F-statistic):           1.93e-85\n",
      "Time:                        16:49:30   Log-Likelihood:                -4942.2\n",
      "No. Observations:                 467   AIC:                             9904.\n",
      "Df Residuals:                     457   BIC:                             9946.\n",
      "Df Model:                           9                                         \n",
      "Covariance Type:            nonrobust                                         \n",
      "==================================================================================\n",
      "                     coef    std err          t      P>|t|      [0.025      0.975]\n",
      "----------------------------------------------------------------------------------\n",
      "Intercept      -1.642e+04   7427.455     -2.211      0.028    -3.1e+04   -1828.719\n",
      "medial           -14.8121      6.484     -2.284      0.023     -27.554      -2.070\n",
      "posterior         12.0272      3.935      3.057      0.002       4.295      19.760\n",
      "anterior          16.0045     15.933      1.004      0.316     -15.307      47.316\n",
      "ventral           25.4939      4.824      5.285      0.000      16.014      34.974\n",
      "THALAMUS_1       -13.6542      2.766     -4.936      0.000     -19.090      -8.218\n",
      "csf_peripheral    -0.1060      0.020     -5.290      0.000      -0.145      -0.067\n",
      "age              253.5071     41.416      6.121      0.000     172.118     334.896\n",
      "Female          2376.9696   1345.254      1.767      0.078    -266.681    5020.621\n",
      "tiv                0.0755      0.007     10.637      0.000       0.062       0.089\n",
      "==============================================================================\n",
      "Omnibus:                      101.489   Durbin-Watson:                   1.895\n",
      "Prob(Omnibus):                  0.000   Jarque-Bera (JB):              230.575\n",
      "Skew:                           1.121   Prob(JB):                     8.54e-51\n",
      "Kurtosis:                       5.613   Cond. No.                     2.58e+07\n",
      "==============================================================================\n",
      "\n",
      "Notes:\n",
      "[1] Standard Errors assume that the covariance matrix of the errors is correctly specified.\n",
      "[2] The condition number is large, 2.58e+07. This might indicate that there are\n",
      "strong multicollinearity or other numerical problems.\n"
     ]
    }
   ],
   "source": [
    "model_combined = sm.OLS.from_formula(\n",
    "    \"\"\"ventricle_volume ~ medial + posterior + anterior + ventral + \n",
    "       THALAMUS_1 + csf_peripheral + age + Female + tiv\"\"\",\n",
    "    data=model_data\n",
    ").fit()\n",
    "\n",
    "print(model_combined.summary())"
   ]
  },
  {
   "cell_type": "code",
   "execution_count": 122,
   "id": "cc6b35ea",
   "metadata": {},
   "outputs": [
    {
     "ename": "NameError",
     "evalue": "name 'work_data' is not defined",
     "output_type": "error",
     "traceback": [
      "\u001b[31m---------------------------------------------------------------------------\u001b[39m",
      "\u001b[31mNameError\u001b[39m                                 Traceback (most recent call last)",
      "\u001b[36mCell\u001b[39m\u001b[36m \u001b[39m\u001b[32mIn[122]\u001b[39m\u001b[32m, line 1\u001b[39m\n\u001b[32m----> \u001b[39m\u001b[32m1\u001b[39m model_data = \u001b[43mwork_data\u001b[49m.join([df_thomas2])\n\u001b[32m      2\u001b[39m model_data = zscore(model_data)\n\u001b[32m      4\u001b[39m model = sm.OLS.from_formula(\n\u001b[32m      5\u001b[39m     \u001b[33m\"\u001b[39m\u001b[33mventricle_volume ~ csf_peripheral + choroid_volume + THALAMUS_1 + age + Female + tiv\u001b[39m\u001b[33m\"\u001b[39m,\n\u001b[32m      6\u001b[39m     data=model_data,\n\u001b[32m      7\u001b[39m ).fit()\n",
      "\u001b[31mNameError\u001b[39m: name 'work_data' is not defined"
     ]
    }
   ],
   "source": [
    "model_data = work_data.join([df_thomas2])\n",
    "model_data = zscore(model_data)\n",
    "\n",
    "model = sm.OLS.from_formula(\n",
    "    \"ventricle_volume ~ csf_peripheral + choroid_volume + THALAMUS_1 + age + Female + tiv\",\n",
    "    data=model_data,\n",
    ").fit()\n",
    "print(model.summary())"
   ]
  },
  {
   "cell_type": "markdown",
   "id": "6ef1822f",
   "metadata": {},
   "source": [
    "Ventricle volume as outcome, csf_peripheral is not significant while white is a covariate, but choroid volume is. Grey isnt important"
   ]
  },
  {
   "cell_type": "markdown",
   "id": "23d9a086",
   "metadata": {},
   "source": [
    "### Mediation"
   ]
  },
  {
   "cell_type": "code",
   "execution_count": 129,
   "id": "171eb483",
   "metadata": {},
   "outputs": [
    {
     "name": "stdout",
     "output_type": "stream",
     "text": [
      "Process successfully initialized.\n",
      "Based on the Process Macro by Andrew F. Hayes, Ph.D. (www.afhayes.com)\n",
      "\n",
      "\n",
      "****************************** SPECIFICATION ****************************\n",
      "\n",
      "Model = 4\n",
      "\n",
      "Variables:\n",
      "    Cons = Cons\n",
      "    x = choroid_volume\n",
      "    y = ventricle_volume\n",
      "    m1 = THALAMUS_1\n",
      "    m2 = csf_all\n",
      "Statistical Controls:\n",
      " age, Female, tiv\n",
      "\n",
      "\n",
      "\n",
      "Sample size:\n",
      "468\n",
      "\n",
      "Bootstrapping information for indirect effects:\n",
      "Final number of bootstrap samples: 5000\n",
      "Number of samples discarded due to convergence issues: 0\n",
      "\n",
      "***************************** OUTCOME MODELS ****************************\n",
      "\n",
      "Outcome = ventricle_volume \n",
      "OLS Regression Summary\n",
      "\n",
      "     R²  Adj. R²    MSE       F  df1  df2  p-value\n",
      " 0.5614   0.5547 0.4662 98.1310    6  460   0.0000\n",
      "\n",
      "Coefficients\n",
      "\n",
      "                 coeff     se       t      p    LLCI    ULCI\n",
      "Cons           -0.0011 0.0318 -0.0337 0.9731 -0.0634  0.0612\n",
      "choroid_volume  0.1933 0.0408  4.7365 0.0000  0.1133  0.2733\n",
      "age             0.1000 0.0363  2.7538 0.0061  0.0288  0.1712\n",
      "Female          0.0564 0.0386  1.4602 0.1449 -0.0193  0.1320\n",
      "tiv             0.2343 0.0691  3.3920 0.0008  0.0989  0.3696\n",
      "THALAMUS_1     -0.4359 0.0465 -9.3716 0.0000 -0.5271 -0.3448\n",
      "csf_all         0.2803 0.0614  4.5652 0.0000  0.1599  0.4006\n",
      "\n",
      "-------------------------------------------------------------------------\n",
      "\n",
      "Outcome = THALAMUS_1 \n",
      "OLS Regression Summary\n",
      "\n",
      "     R²  Adj. R²    MSE       F  df1  df2  p-value\n",
      " 0.4355   0.4294 0.5806 89.1060    4  462   0.0000\n",
      "\n",
      "Coefficients\n",
      "\n",
      "                 coeff     se        t      p    LLCI    ULCI\n",
      "Cons           -0.0610 0.0353  -1.7243 0.0853 -0.1302  0.0083\n",
      "choroid_volume -0.4236 0.0394 -10.7383 0.0000 -0.5009 -0.3463\n",
      "age            -0.1732 0.0385  -4.5039 0.0000 -0.2486 -0.0978\n",
      "Female          0.0717 0.0426   1.6849 0.0927 -0.0117  0.1552\n",
      "tiv             0.5077 0.0429  11.8378 0.0000  0.4236  0.5917\n",
      "\n",
      "-------------------------------------------------------------------------\n",
      "\n",
      "Outcome = csf_all \n",
      "OLS Regression Summary\n",
      "\n",
      "     R²  Adj. R²    MSE        F  df1  df2  p-value\n",
      " 0.6647   0.6611 0.3333 229.0059    4  462   0.0000\n",
      "\n",
      "Coefficients\n",
      "\n",
      "                coeff     se       t      p    LLCI   ULCI\n",
      "Cons           0.0130 0.0268  0.4860 0.6272 -0.0395 0.0655\n",
      "choroid_volume 0.3087 0.0299 10.3271 0.0000  0.2501 0.3673\n",
      "age            0.2037 0.0291  6.9906 0.0000  0.1466 0.2608\n",
      "Female         0.0576 0.0323  1.7841 0.0751 -0.0057 0.1208\n",
      "tiv            0.6982 0.0325 21.4888 0.0000  0.6346 0.7619\n",
      "\n",
      "-------------------------------------------------------------------------\n",
      "\n",
      "\n",
      "********************** DIRECT AND INDIRECT EFFECTS **********************\n",
      "\n",
      "Direct effect of choroid_volume on ventricle_volume:\n",
      "\n",
      "  Effect     SE      t      p   LLCI   ULCI\n",
      "  0.1933 0.0408 4.7365 0.0000 0.1133 0.2733\n",
      "\n",
      "Indirect effect of choroid_volume on ventricle_volume:\n",
      "\n",
      "              Effect  Boot SE  BootLLCI  BootULCI\n",
      "  THALAMUS_1  0.1847   0.0310    0.1309    0.2535\n",
      "     csf_all  0.0865   0.0234    0.0426    0.1340\n",
      "\n",
      "\n"
     ]
    },
    {
     "name": "stderr",
     "output_type": "stream",
     "text": [
      "/home/srs-9/.virtualenvs/monai/lib/python3.12/site-packages/pyprocessmacro/models.py:752: DeprecationWarning: the `interpolation=` argument to percentile was renamed to `method=`, which has additional options.\n",
      "Users of the modes 'nearest', 'lower', 'higher', or 'midpoint' are encouraged to review the method they used. (Deprecated NumPy 1.22)\n",
      "  llci, ulci = bias_corrected_ci(e, be, conf)\n",
      "/home/srs-9/.virtualenvs/monai/lib/python3.12/site-packages/pyprocessmacro/models.py:827: DeprecationWarning: the `interpolation=` argument to percentile was renamed to `method=`, which has additional options.\n",
      "Users of the modes 'nearest', 'lower', 'higher', or 'midpoint' are encouraged to review the method they used. (Deprecated NumPy 1.22)\n",
      "  ci = bias_corrected_ci(e[i], be[i], conf)\n",
      "/home/srs-9/.virtualenvs/monai/lib/python3.12/site-packages/pyprocessmacro/models.py:1222: FutureWarning: errors='ignore' is deprecated and will raise in a future version. Use to_numeric without passing `errors` and catch exceptions explicitly instead\n",
      "  return df.apply(pd.to_numeric, args=[\"ignore\"])\n"
     ]
    }
   ],
   "source": [
    "model_data = df_z.join([df_thomas2_z])\n",
    "model_data = model_data[model_data[\"dz_type2\"] == \"MS\"]\n",
    "\n",
    "from pyprocessmacro import Process\n",
    "\n",
    "p2 = Process(data=model_data, model=4, x=\"choroid_volume\", y=\"ventricle_volume\",\n",
    "            m=[\"THALAMUS_1\", \"csf_all\"],\n",
    "            controls=[\"age\", \"Female\", \"tiv\"],\n",
    "            controls_in=\"all\")\n",
    "p2.summary()"
   ]
  },
  {
   "cell_type": "code",
   "execution_count": 109,
   "id": "2ad6877f",
   "metadata": {},
   "outputs": [
    {
     "name": "stdout",
     "output_type": "stream",
     "text": [
      "Process successfully initialized.\n",
      "Based on the Process Macro by Andrew F. Hayes, Ph.D. (www.afhayes.com)\n",
      "\n",
      "\n",
      "****************************** SPECIFICATION ****************************\n",
      "\n",
      "Model = 4\n",
      "\n",
      "Variables:\n",
      "    Cons = Cons\n",
      "    x = choroid_volume\n",
      "    y = THALAMUS_1\n",
      "    m1 = ventricle_volume\n",
      "Statistical Controls:\n",
      " age, Female, tiv\n",
      "\n",
      "\n",
      "\n",
      "Sample size:\n",
      "468\n",
      "\n",
      "Bootstrapping information for indirect effects:\n",
      "Final number of bootstrap samples: 5000\n",
      "Number of samples discarded due to convergence issues: 0\n",
      "\n",
      "***************************** OUTCOME MODELS ****************************\n",
      "\n",
      "Outcome = THALAMUS_1 \n",
      "OLS Regression Summary\n",
      "\n",
      "     R²  Adj. R²          MSE        F  df1  df2  p-value\n",
      " 0.5776   0.5720 1154905.9165 126.0550    5  461   0.0000\n",
      "\n",
      "Coefficients\n",
      "\n",
      "                    coeff       se        t      p       LLCI      ULCI\n",
      "Cons             225.1544 831.1034   0.2709 0.7866 -1403.7783 1854.0871\n",
      "choroid_volume    -0.6511   0.1234  -5.2785 0.0000    -0.8929   -0.4094\n",
      "age               -8.2519   4.5302  -1.8215 0.0692   -17.1309    0.6271\n",
      "Female           364.4442 147.3112   2.4740 0.0137    75.7195  653.1689\n",
      "tiv                0.0075   0.0005  15.9741 0.0000     0.0066    0.0084\n",
      "ventricle_volume  -0.0524   0.0042 -12.4509 0.0000    -0.0606   -0.0441\n",
      "\n",
      "-------------------------------------------------------------------------\n",
      "\n",
      "Outcome = ventricle_volume \n",
      "OLS Regression Summary\n",
      "\n",
      "     R²  Adj. R²            MSE       F  df1  df2  p-value\n",
      " 0.3874   0.3807 141385995.2888 73.0256    4  462   0.0000\n",
      "\n",
      "Coefficients\n",
      "\n",
      "                     coeff        se       t      p        LLCI        ULCI\n",
      "Cons           -49083.1638 8907.6559 -5.5102 0.0000 -66541.8486 -31624.4790\n",
      "choroid_volume     13.5012    1.2117 11.1420 0.0000     11.1263     15.8762\n",
      "age               277.2505   48.4359  5.7241 0.0000    182.3178    372.1832\n",
      "Female           1491.8372 1628.4394  0.9161 0.3601  -1699.8454   4683.5198\n",
      "tiv                 0.0233    0.0051  4.6042 0.0000      0.0134      0.0333\n",
      "\n",
      "-------------------------------------------------------------------------\n",
      "\n",
      "\n",
      "********************** DIRECT AND INDIRECT EFFECTS **********************\n",
      "\n",
      "Direct effect of choroid_volume on THALAMUS_1:\n",
      "\n",
      "  Effect     SE       t      p    LLCI    ULCI\n",
      " -0.6511 0.1234 -5.2785 0.0000 -0.8929 -0.4094\n",
      "\n",
      "Indirect effect of choroid_volume on THALAMUS_1:\n",
      "\n",
      "                    Effect  Boot SE  BootLLCI  BootULCI\n",
      "  ventricle_volume -0.7068   0.0828   -0.8897   -0.5604\n",
      "\n",
      "\n"
     ]
    },
    {
     "name": "stderr",
     "output_type": "stream",
     "text": [
      "/home/srs-9/.virtualenvs/monai/lib/python3.12/site-packages/pyprocessmacro/models.py:752: DeprecationWarning: the `interpolation=` argument to percentile was renamed to `method=`, which has additional options.\n",
      "Users of the modes 'nearest', 'lower', 'higher', or 'midpoint' are encouraged to review the method they used. (Deprecated NumPy 1.22)\n",
      "  llci, ulci = bias_corrected_ci(e, be, conf)\n",
      "/home/srs-9/.virtualenvs/monai/lib/python3.12/site-packages/pyprocessmacro/models.py:827: DeprecationWarning: the `interpolation=` argument to percentile was renamed to `method=`, which has additional options.\n",
      "Users of the modes 'nearest', 'lower', 'higher', or 'midpoint' are encouraged to review the method they used. (Deprecated NumPy 1.22)\n",
      "  ci = bias_corrected_ci(e[i], be[i], conf)\n",
      "/home/srs-9/.virtualenvs/monai/lib/python3.12/site-packages/pyprocessmacro/models.py:1222: FutureWarning: errors='ignore' is deprecated and will raise in a future version. Use to_numeric without passing `errors` and catch exceptions explicitly instead\n",
      "  return df.apply(pd.to_numeric, args=[\"ignore\"])\n"
     ]
    }
   ],
   "source": [
    "p2 = Process(data=model_data, model=4, x=\"choroid_volume\", y=\"THALAMUS_1\",\n",
    "            m=[\"ventricle_volume\"],\n",
    "            controls=[\"age\", \"Female\", \"tiv\"],\n",
    "            controls_in=\"all\")\n",
    "p2.summary()"
   ]
  }
 ],
 "metadata": {
  "kernelspec": {
   "display_name": "monai",
   "language": "python",
   "name": "python3"
  },
  "language_info": {
   "codemirror_mode": {
    "name": "ipython",
    "version": 3
   },
   "file_extension": ".py",
   "mimetype": "text/x-python",
   "name": "python",
   "nbconvert_exporter": "python",
   "pygments_lexer": "ipython3",
   "version": "3.12.3"
  }
 },
 "nbformat": 4,
 "nbformat_minor": 5
}
