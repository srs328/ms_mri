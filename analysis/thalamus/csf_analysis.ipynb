{
 "cells": [
  {
   "cell_type": "code",
   "execution_count": 29,
   "id": "6fd3b007",
   "metadata": {},
   "outputs": [],
   "source": [
    "import pandas as pd\n",
    "from warnings import simplefilter\n",
    "\n",
    "simplefilter(action=\"ignore\", category=pd.errors.PerformanceWarning)\n",
    "from pathlib import Path\n",
    "import json\n",
    "import numpy as np\n",
    "from collections import defaultdict\n",
    "import matplotlib.pyplot as plt\n",
    "from datetime import datetime\n",
    "import re\n",
    "from scipy import stats\n",
    "from scipy.optimize import curve_fit\n",
    "import numpy as np\n",
    "import statsmodels.api as sm\n",
    "from matplotlib import colormaps\n",
    "from tqdm.notebook import tqdm\n",
    "import helpers\n",
    "from sklearn.metrics import r2_score\n",
    "from IPython.display import clear_output\n",
    "from statsmodels.stats.outliers_influence import variance_inflation_factor\n",
    "# from reload_recursive import reload_recursive\n",
    "from statsmodels.stats.mediation import Mediation\n",
    "from statsmodels.genmod.families import Poisson\n",
    "\n",
    "from mri_data import file_manager as fm"
   ]
  },
  {
   "cell_type": "code",
   "execution_count": 30,
   "id": "9cd5779d",
   "metadata": {},
   "outputs": [],
   "source": [
    "# reload_recursive(helpers)"
   ]
  },
  {
   "cell_type": "markdown",
   "id": "afeaa8f0",
   "metadata": {},
   "source": [
    "## Load Data"
   ]
  },
  {
   "cell_type": "markdown",
   "id": "afa70c28",
   "metadata": {},
   "source": [
    "### Clinical and Volumes"
   ]
  },
  {
   "cell_type": "code",
   "execution_count": 35,
   "id": "34658b50",
   "metadata": {},
   "outputs": [],
   "source": [
    "drive_root = fm.get_drive_root()\n",
    "dataroot = drive_root / \"3Tpioneer_bids\"\n",
    "data_dir = Path(\"/home/srs-9/Projects/ms_mri/data\")\n",
    "fig_path = Path(\n",
    "    \"/home/srs-9/Projects/ms_mri/analysis/thalamus/figures_tables/choroid_associations\"\n",
    ")\n",
    "\n",
    "choroid_volumes = pd.read_csv(\n",
    "    \"/home/srs-9/Projects/ms_mri/data/choroid_aschoplex_volumes.csv\", index_col=\"subid\"\n",
    ")\n",
    "ventricle_volumes = pd.read_csv(\n",
    "    \"/home/srs-9/Projects/ms_mri/analysis/paper1/data0/ventricle_volumes.csv\",\n",
    "    index_col=\"subid\",\n",
    ")\n",
    "csf_volumes = pd.read_csv(\"/home/srs-9/Projects/ms_mri/analysis/thalamus/data0/csf_volumes-dilM_sphere2.csv\",\n",
    "                          index_col='subid')\n",
    "\n",
    "tiv = pd.read_csv(\"/home/srs-9/Projects/ms_mri/data/tiv_data.csv\", index_col=\"subid\")\n",
    "\n",
    "df = pd.read_csv(\n",
    "    \"/home/srs-9/Projects/ms_mri/data/clinical_data_processed.csv\", index_col=\"subid\"\n",
    ")\n",
    "sdmt = pd.read_csv(\n",
    "    \"/home/srs-9/Projects/ms_mri/analysis/thalamus/SDMT_sheet.csv\", index_col=\"subid\"\n",
    ")\n",
    "df = df.join([choroid_volumes, tiv, ventricle_volumes, sdmt[\"SDMT\"]])\n",
    "df['csf_peripheral'] = csf_volumes['peripheral']\n",
    "df['csf_all'] = csf_volumes['all']\n",
    "df['csf_peripheral_frac'] = csf_volumes['peripheral'] / csf_volumes['all']\n",
    "df[\"SDMT\"] = pd.to_numeric(df[\"SDMT\"], errors=\"coerce\")\n",
    "df[\"thalamus_sqrt\"] = np.sqrt(df[\"thalamus\"])\n",
    "df[\"thalamus_curt\"] = np.sqrt(df[\"thalamus\"] ** 3)\n",
    "df[\"cortical_thickness_inv\"] = 1 / df[\"cortical_thickness\"]\n",
    "df[\"ventricle_logtrans\"] = np.log(df[\"ventricle_volume\"])\n",
    "\n",
    "# these corrections should ultimately be made to the csf file\n",
    "for struct in [\"brain\", \"white\", \"grey\", \"thalamus\", \"t2lv\"]:\n",
    "    df[struct] = df[struct]*1000\n",
    "\n",
    "df['CCF'] = df['ventricle_volume'] / df['csf_all']\n",
    "\n",
    "\n",
    "df_z = df.copy()\n",
    "numeric_cols = df.select_dtypes(include=\"number\").columns\n",
    "df_z[numeric_cols] = df_z[numeric_cols].apply(stats.zscore, nan_policy=\"omit\")\n",
    "\n",
    "viridis = colormaps[\"viridis\"].resampled(20)\n",
    "\n",
    "colors = helpers.get_colors()"
   ]
  },
  {
   "cell_type": "markdown",
   "id": "96beee9f",
   "metadata": {},
   "source": [
    "### HIPS-THOMAS Volumes and Distances"
   ]
  },
  {
   "cell_type": "code",
   "execution_count": 32,
   "id": "943a9d3a",
   "metadata": {},
   "outputs": [],
   "source": [
    "df_thomas = pd.read_csv(data_dir / \"hipsthomas_vols.csv\", index_col=\"subid\")\n",
    "cols_orig = df_thomas.columns\n",
    "new_colnames = {}\n",
    "for col in df_thomas.columns:\n",
    "    new_col = re.sub(r\"(\\d+)-([\\w-]+)\", r\"\\2_\\1\", col)\n",
    "    new_col = re.sub(\"-\", \"_\", new_col)\n",
    "    new_colnames[col] = new_col\n",
    "df_thomas = df_thomas.rename(columns=new_colnames)\n",
    "df_thomas_norm = df_thomas.apply(lambda col: col / df_thomas[\"THALAMUS_1\"])\n",
    "df_thomas_z = df_thomas.apply(stats.zscore, nan_policy=\"omit\")\n",
    "df_thomas_norm_z = df_thomas_norm.apply(stats.zscore, nan_policy=\"omit\")\n",
    "\n",
    "df_thomas_left = pd.read_csv(data_dir / \"hipsthomas_left_vols.csv\", index_col=\"subid\")\n",
    "df_thomas_left = df_thomas_left.rename(columns=new_colnames)\n",
    "df_thomas_left_z = df_thomas_left.apply(stats.zscore, nan_policy=\"omit\")\n",
    "\n",
    "df_thomas_right = pd.read_csv(data_dir / \"hipsthomas_right_vols.csv\", index_col=\"subid\")\n",
    "df_thomas_right = df_thomas_right.rename(columns=new_colnames)\n",
    "df_thomas_right_z = df_thomas_right.apply(stats.zscore, nan_policy=\"omit\")\n",
    "\n",
    "\n",
    "thalamic_nuclei = [2, 4, 5, 6, 7, 8, 9, 10, 11, 12]\n",
    "deep_grey = [13, 14, 26, 27, 28, 29, 30, 31, 32]\n",
    "\n",
    "ignore_structs1 = [\n",
    "    \"THALAMUS_1\",\n",
    "    \"Amy_34\",\n",
    "    \"GP_33\",\n",
    "    \"Cla_28\",\n",
    "    \"Acc_26\",\n",
    "    \"Hb_13\",\n",
    "    \"MTT_14\",\n",
    "]\n",
    "ignore_structs2 = [\"THALAMUS_1\", \"Amy_34\", \"GP_33\", \"Hb_13\", \"MTT_14\"]\n",
    "\n",
    "thalamic_nuclei_str = [str(i) for i in thalamic_nuclei]\n",
    "\n",
    "hips_thomas_ref = pd.read_csv(\n",
    "    \"/home/srs-9/Projects/ms_mri/data/hipsthomas_struct_index.csv\", index_col=\"index\"\n",
    ")[\"struct\"]\n",
    "hips_thomas_invref = pd.read_csv(\n",
    "    \"/home/srs-9/Projects/ms_mri/data/hipsthomas_struct_index.csv\", index_col=\"struct\"\n",
    ")[\"index\"]\n",
    "\n",
    "mni_dists = pd.read_csv(\n",
    "    \"/home/srs-9/Projects/ms_mri/data/mni_centroid_centroid_dists.csv\",\n",
    "    index_col=\"index\",\n",
    ")\n",
    "mni_dists[\"struct\"] = hips_thomas_ref\n",
    "\n",
    "mni_dists2 = pd.read_csv(\n",
    "    \"/home/srs-9/Projects/ms_mri/data/mni_choroid_struct_SDT.csv\",\n",
    "    index_col=\"index\",\n",
    ")\n",
    "mni_dists2[\"struct\"] = hips_thomas_ref\n",
    "\n",
    "mni_ventricle_dists = pd.read_csv(\n",
    "    \"/home/srs-9/Projects/ms_mri/data/mni_ventricle_centroid_centroid_dists.csv\",\n",
    "    index_col=\"index\",\n",
    ")\n",
    "mni_ventricle_dists[\"struct\"] = hips_thomas_ref\n",
    "\n",
    "\n",
    "def combine_nuclei(df):\n",
    "    df2 = pd.DataFrame()\n",
    "    df2[\"anterior\"] = df[\"AV_2\"]\n",
    "    df2[\"ventral\"] = df[\"VA_4\"] + df[\"VLa_5\"] + df[\"VLP_6\"] + df[\"VPL_7\"]\n",
    "    df2[\"intralaminar\"] = df[\"CM_11\"]\n",
    "    df2[\"medial\"] = df[\"MD_Pf_12\"]\n",
    "    df2[\"posterior\"] = df[\"Pul_8\"] + df[\"LGN_9\"] + df[\"MGN_10\"]\n",
    "    df2[\"THALAMUS_1\"] = df[\"THALAMUS_1\"]\n",
    "    return df2\n",
    "\n",
    "\n",
    "def combine_nuclei2(df):\n",
    "    df2 = pd.DataFrame()\n",
    "    df2[\"anterior\"] = df[\"AV_2\"]\n",
    "    df2[\"ventral\"] = df[\"VA_4\"] + df[\"VLa_5\"] + df[\"VLP_6\"] + df[\"VPL_7\"]\n",
    "    df2[\"medial\"] = df[\"MD_Pf_12\"] + df[\"CM_11\"]\n",
    "    df2[\"posterior\"] = df[\"Pul_8\"] + df[\"LGN_9\"] + df[\"MGN_10\"]\n",
    "    df2[\"THALAMUS_1\"] = df[\"THALAMUS_1\"]\n",
    "    return df2\n",
    "\n",
    "\n",
    "mni_combined_dists = pd.read_csv(\n",
    "    \"/home/srs-9/Projects/ms_mri/data/mni_combined_nuclei_centroid_centroid_dists.csv\",\n",
    "    index_col=\"index\",\n",
    ")\n",
    "\n",
    "df_thomas2 = combine_nuclei2(df_thomas)\n",
    "grouped_nuclei = df_thomas2.columns[~df_thomas2.columns.isin([\"THALAMUS_1\"])]\n",
    "df_thomas2_z = df_thomas2.apply(stats.zscore, nan_policy=\"omit\")\n",
    "df_thomas2_norm = df_thomas2.apply(lambda col: col / df_thomas[\"THALAMUS_1\"])\n",
    "df_thomas2_norm_z = df_thomas2_norm.apply(stats.zscore, nan_policy=\"omit\")\n",
    "\n",
    "df_thomas2_left = combine_nuclei2(df_thomas_left)\n",
    "df_thomas2_left_z = df_thomas2_left.apply(stats.zscore, nan_policy=\"omit\")\n",
    "df_thomas2_norm_left = df_thomas2.apply(lambda col: col / df_thomas[\"THALAMUS_1\"])\n",
    "df_thomas2_norm_left_z = df_thomas2_norm_left.apply(stats.zscore, nan_policy=\"omit\")\n",
    "\n",
    "df_thomas2_right = combine_nuclei2(df_thomas_right)\n",
    "df_thomas2_right_z = df_thomas2_right.apply(stats.zscore, nan_policy=\"omit\")\n",
    "df_thomas2_norm_right = df_thomas2.apply(lambda col: col / df_thomas[\"THALAMUS_1\"])\n",
    "df_thomas2_norm_right_z = df_thomas2_norm_right.apply(stats.zscore, nan_policy=\"omit\")"
   ]
  },
  {
   "cell_type": "code",
   "execution_count": 33,
   "id": "a98f7111",
   "metadata": {},
   "outputs": [
    {
     "data": {
      "application/vnd.microsoft.datawrangler.viewer.v0+json": {
       "columns": [
        {
         "name": "subid",
         "rawType": "int64",
         "type": "integer"
        },
        {
         "name": "t2lv",
         "rawType": "float64",
         "type": "float"
        }
       ],
       "ref": "ab0f8f88-9ce4-46cc-8d28-c0d0af16c183",
       "rows": [
        [
         "1001",
         "1433.965228"
        ],
        [
         "1002",
         "1197.262277"
        ],
        [
         "1003",
         "1896.61447"
        ],
        [
         "1004",
         "1099.200521"
        ],
        [
         "1005",
         "2645.443695"
        ],
        [
         "1007",
         "1446.435956"
        ],
        [
         "1010",
         "1128.379959"
        ],
        [
         "1011",
         "1220.593637"
        ],
        [
         "1012",
         "1271.386668"
        ],
        [
         "1013",
         "1536.003016"
        ],
        [
         "1015",
         "857.366198"
        ],
        [
         "1016",
         "1679.70091"
        ],
        [
         "1017",
         "1590.240065"
        ],
        [
         "1019",
         "1556.2081919999998"
        ],
        [
         "1020",
         "1279.785934"
        ],
        [
         "1021",
         "1313.218201"
        ],
        [
         "1022",
         "1151.265148"
        ],
        [
         "1023",
         "751.215806"
        ],
        [
         "1024",
         "1034.122417"
        ],
        [
         "1026",
         "1157.767207"
        ],
        [
         "1027",
         "1060.262187"
        ],
        [
         "1028",
         "1602.9762309999999"
        ],
        [
         "1029",
         "1756.087642"
        ],
        [
         "1030",
         "5159.9987980000005"
        ],
        [
         "1031",
         "1778.372877"
        ],
        [
         "1033",
         "1250.911335"
        ],
        [
         "1036",
         "975.305186"
        ],
        [
         "1037",
         "2981.103446"
        ],
        [
         "1038",
         "3618.973896"
        ],
        [
         "1039",
         "2125.7008069999997"
        ],
        [
         "1042",
         "1664.6206"
        ],
        [
         "1044",
         "1135.3012709999998"
        ],
        [
         "1045",
         "895.3546650000001"
        ],
        [
         "1046",
         "1192.733869"
        ],
        [
         "1047",
         "1206.835984"
        ],
        [
         "1049",
         "1914.433021"
        ],
        [
         "1050",
         "1672.8799199999999"
        ],
        [
         "1052",
         "4644.611633"
        ],
        [
         "1053",
         "1408.620282"
        ],
        [
         "1054",
         "1625.528034"
        ],
        [
         "1057",
         "1233.325217"
        ],
        [
         "1058",
         "3964.203525"
        ],
        [
         "1061",
         "943.609931"
        ],
        [
         "1062",
         "1749.36031"
        ],
        [
         "1063",
         "4722.2515109999995"
        ],
        [
         "1064",
         "1280.0097660000001"
        ],
        [
         "1065",
         "1431.220371"
        ],
        [
         "1066",
         "2563.250266"
        ],
        [
         "1068",
         "2786.6112510000003"
        ],
        [
         "1069",
         "1689.1348580000001"
        ]
       ],
       "shape": {
        "columns": 1,
        "rows": 564
       }
      },
      "text/plain": [
       "subid\n",
       "1001     1433.965228\n",
       "1002     1197.262277\n",
       "1003     1896.614470\n",
       "1004     1099.200521\n",
       "1005     2645.443695\n",
       "            ...     \n",
       "3016     1205.552968\n",
       "3017    10415.873200\n",
       "3021     2186.487423\n",
       "3023     4893.520521\n",
       "3028     3990.667828\n",
       "Name: t2lv, Length: 564, dtype: float64"
      ]
     },
     "execution_count": 33,
     "metadata": {},
     "output_type": "execute_result"
    }
   ],
   "source": [
    "df['t2lv']"
   ]
  },
  {
   "cell_type": "markdown",
   "id": "8b56a5b8",
   "metadata": {},
   "source": [
    "## Functions"
   ]
  },
  {
   "cell_type": "code",
   "execution_count": 53,
   "id": "acfcf85d",
   "metadata": {},
   "outputs": [],
   "source": [
    "def normalize_by_tiv(df, variables=None):\n",
    "    if variables is None:\n",
    "        variables = [\"brain\", \"white\", \"grey\", \"csf_all\", \"csf_peripheral\", \"ventricle_volume\", \"choroid_volume\"]\n",
    "    \n",
    "    for var in variables:\n",
    "        new_var = f\"n-{var}\"\n",
    "        df[new_var] = df[var] / df['tiv']\n",
    "    \n",
    "    return df\n",
    "\n",
    "def zscore(df):\n",
    "    df_z = df.copy()\n",
    "    numeric_cols = df.select_dtypes(include=\"number\").columns\n",
    "    df_z[numeric_cols] = df_z[numeric_cols].apply(stats.zscore, nan_policy=\"omit\")\n",
    "    return df_z"
   ]
  },
  {
   "cell_type": "markdown",
   "id": "3021b209",
   "metadata": {},
   "source": [
    "## Analysis"
   ]
  },
  {
   "cell_type": "code",
   "execution_count": 51,
   "id": "9d53e069",
   "metadata": {},
   "outputs": [
    {
     "name": "stdout",
     "output_type": "stream",
     "text": [
      "                            OLS Regression Results                            \n",
      "==============================================================================\n",
      "Dep. Variable:       ventricle_volume   R-squared:                       0.341\n",
      "Model:                            OLS   Adj. R-squared:                  0.340\n",
      "Method:                 Least Squares   F-statistic:                     240.8\n",
      "Date:                Fri, 24 Oct 2025   Prob (F-statistic):           4.67e-44\n",
      "Time:                        15:11:54   Log-Likelihood:                -5059.2\n",
      "No. Observations:                 467   AIC:                         1.012e+04\n",
      "Df Residuals:                     465   BIC:                         1.013e+04\n",
      "Df Model:                           1                                         \n",
      "Covariance Type:            nonrobust                                         \n",
      "==============================================================================\n",
      "                 coef    std err          t      P>|t|      [0.025      0.975]\n",
      "------------------------------------------------------------------------------\n",
      "Intercept  -5.441e+04   5044.560    -10.787      0.000   -6.43e+04   -4.45e+04\n",
      "csf_all        0.2088      0.013     15.517      0.000       0.182       0.235\n",
      "==============================================================================\n",
      "Omnibus:                      133.078   Durbin-Watson:                   1.965\n",
      "Prob(Omnibus):                  0.000   Jarque-Bera (JB):              357.936\n",
      "Skew:                           1.386   Prob(JB):                     1.88e-78\n",
      "Kurtosis:                       6.273   Cond. No.                     3.32e+06\n",
      "==============================================================================\n",
      "\n",
      "Notes:\n",
      "[1] Standard Errors assume that the covariance matrix of the errors is correctly specified.\n",
      "[2] The condition number is large, 3.32e+06. This might indicate that there are\n",
      "strong multicollinearity or other numerical problems.\n",
      "                            OLS Regression Results                            \n",
      "==============================================================================\n",
      "Dep. Variable:       ventricle_volume   R-squared:                       0.423\n",
      "Model:                            OLS   Adj. R-squared:                  0.416\n",
      "Method:                 Least Squares   F-statistic:                     67.47\n",
      "Date:                Fri, 24 Oct 2025   Prob (F-statistic):           7.78e-53\n",
      "Time:                        15:11:54   Log-Likelihood:                -5028.4\n",
      "No. Observations:                 467   AIC:                         1.007e+04\n",
      "Df Residuals:                     461   BIC:                         1.009e+04\n",
      "Df Model:                           5                                         \n",
      "Covariance Type:            nonrobust                                         \n",
      "==============================================================================\n",
      "                 coef    std err          t      P>|t|      [0.025      0.975]\n",
      "------------------------------------------------------------------------------\n",
      "Intercept  -2.435e+04   1.39e+04     -1.748      0.081   -5.17e+04    3021.465\n",
      "csf_all        0.2430      0.022     11.092      0.000       0.200       0.286\n",
      "brain         -0.0048      0.008     -0.577      0.564      -0.021       0.012\n",
      "age          201.8196     50.343      4.009      0.000     102.890     300.750\n",
      "Female     -1689.0663   1580.530     -1.069      0.286   -4795.002    1416.869\n",
      "tiv           -0.0297      0.007     -4.001      0.000      -0.044      -0.015\n",
      "==============================================================================\n",
      "Omnibus:                      142.226   Durbin-Watson:                   1.915\n",
      "Prob(Omnibus):                  0.000   Jarque-Bera (JB):              439.465\n",
      "Skew:                           1.421   Prob(JB):                     3.73e-96\n",
      "Kurtosis:                       6.808   Cond. No.                     5.44e+07\n",
      "==============================================================================\n",
      "\n",
      "Notes:\n",
      "[1] Standard Errors assume that the covariance matrix of the errors is correctly specified.\n",
      "[2] The condition number is large, 5.44e+07. This might indicate that there are\n",
      "strong multicollinearity or other numerical problems.\n"
     ]
    },
    {
     "data": {
      "text/plain": [
       "<matplotlib.collections.PathCollection at 0x7fcd6977e930>"
      ]
     },
     "execution_count": 51,
     "metadata": {},
     "output_type": "execute_result"
    },
    {
     "data": {
      "image/png": "[encoded data removed]",
      "text/plain": [
       "<Figure size 640x480 with 1 Axes>"
      ]
     },
     "metadata": {},
     "output_type": "display_data"
    }
   ],
   "source": [
    "work_data = df[df['dz_type2'] == \"MS\"]\n",
    "modelA = sm.OLS.from_formula(\"ventricle_volume ~ csf_all\", data=work_data).fit()\n",
    "modelB = sm.OLS.from_formula(\"ventricle_volume ~ csf_all + brain + age + Female + tiv\", data=work_data).fit()\n",
    "\n",
    "print(modelA.summary())\n",
    "print(modelB.summary())\n",
    "\n",
    "work_data['DVE'] = modelA.resid\n",
    "plt.scatter(df['brain'], df['ventricle_volume'])"
   ]
  },
  {
   "cell_type": "code",
   "execution_count": 44,
   "id": "8ebc2b6e",
   "metadata": {},
   "outputs": [
    {
     "data": {
      "text/plain": [
       "<matplotlib.collections.PathCollection at 0x7fcd69aed4c0>"
      ]
     },
     "execution_count": 44,
     "metadata": {},
     "output_type": "execute_result"
    },
    {
     "data": {
      "image/png": "[encoded data removed]",
      "text/plain": [
       "<Figure size 1200x400 with 3 Axes>"
      ]
     },
     "metadata": {},
     "output_type": "display_data"
    }
   ],
   "source": [
    "fig, axes = plt.subplots(1,3, figsize=(12,4))\n",
    "\n",
    "ax = axes[0]\n",
    "ax.scatter(df['choroid_volume'], df['ventricle_volume'])\n",
    "\n",
    "ax = axes[1]\n",
    "ax.scatter(df['brain'], df['ventricle_volume'])\n",
    "\n",
    "ax = axes[2]\n",
    "ax.scatter(df['csf_all'], df['ventricle_volume'])\n"
   ]
  },
  {
   "cell_type": "code",
   "execution_count": 97,
   "id": "cc6b35ea",
   "metadata": {},
   "outputs": [
    {
     "name": "stdout",
     "output_type": "stream",
     "text": [
      "                            OLS Regression Results                            \n",
      "==============================================================================\n",
      "Dep. Variable:       ventricle_volume   R-squared:                       0.582\n",
      "Model:                            OLS   Adj. R-squared:                  0.577\n",
      "Method:                 Least Squares   F-statistic:                     106.3\n",
      "Date:                Fri, 24 Oct 2025   Prob (F-statistic):           1.55e-83\n",
      "Time:                        15:37:54   Log-Likelihood:                -456.36\n",
      "No. Observations:                 465   AIC:                             926.7\n",
      "Df Residuals:                     458   BIC:                             955.7\n",
      "Df Model:                           6                                         \n",
      "Covariance Type:            nonrobust                                         \n",
      "==================================================================================\n",
      "                     coef    std err          t      P>|t|      [0.025      0.975]\n",
      "----------------------------------------------------------------------------------\n",
      "Intercept         -0.0017      0.030     -0.057      0.955      -0.061       0.058\n",
      "csf_peripheral    -0.3189      0.048     -6.685      0.000      -0.413      -0.225\n",
      "choroid_volume     0.2545      0.039      6.549      0.000       0.178       0.331\n",
      "THALAMUS_1        -0.5857      0.041    -14.193      0.000      -0.667      -0.505\n",
      "age                0.1754      0.034      5.120      0.000       0.108       0.243\n",
      "Female             0.0973      0.037      2.634      0.009       0.025       0.170\n",
      "tiv                0.7198      0.056     12.773      0.000       0.609       0.831\n",
      "==============================================================================\n",
      "Omnibus:                      151.118   Durbin-Watson:                   1.969\n",
      "Prob(Omnibus):                  0.000   Jarque-Bera (JB):              491.303\n",
      "Skew:                           1.501   Prob(JB):                    2.06e-107\n",
      "Kurtosis:                       7.043   Cond. No.                         3.63\n",
      "==============================================================================\n",
      "\n",
      "Notes:\n",
      "[1] Standard Errors assume that the covariance matrix of the errors is correctly specified.\n"
     ]
    }
   ],
   "source": [
    "model_data = work_data.join([df_thomas2])\n",
    "model_data = zscore(model_data)\n",
    "\n",
    "model = sm.OLS.from_formula(\"ventricle_volume ~ csf_peripheral + choroid_volume + THALAMUS_1 + age + Female + tiv\", data=model_data).fit()\n",
    "print(model.summary())"
   ]
  },
  {
   "cell_type": "markdown",
   "id": "6ef1822f",
   "metadata": {},
   "source": [
    "Ventricle volume as outcome, csf_peripheral is not significant while white is a covariate, but choroid volume is. Grey isnt important"
   ]
  },
  {
   "cell_type": "code",
   "execution_count": 31,
   "id": "b225a31f",
   "metadata": {},
   "outputs": [
    {
     "name": "stdout",
     "output_type": "stream",
     "text": [
      "                            OLS Regression Results                            \n",
      "==============================================================================\n",
      "Dep. Variable:       ventricle_volume   R-squared:                       0.387\n",
      "Model:                            OLS   Adj. R-squared:                  0.381\n",
      "Method:                 Least Squares   F-statistic:                     58.33\n",
      "Date:                Thu, 23 Oct 2025   Prob (F-statistic):           5.52e-47\n",
      "Time:                        02:45:38   Log-Likelihood:                -558.90\n",
      "No. Observations:                 467   AIC:                             1130.\n",
      "Df Residuals:                     461   BIC:                             1155.\n",
      "Df Model:                           5                                         \n",
      "Covariance Type:            nonrobust                                         \n",
      "==================================================================================\n",
      "                     coef    std err          t      P>|t|      [0.025      0.975]\n",
      "----------------------------------------------------------------------------------\n",
      "Intercept          0.0293      0.037      0.785      0.433      -0.044       0.103\n",
      "choroid_volume     0.4682      0.043     10.793      0.000       0.383       0.553\n",
      "white              0.0127      0.041      0.310      0.757      -0.068       0.093\n",
      "age                0.2338      0.041      5.722      0.000       0.154       0.314\n",
      "Female             0.0406      0.045      0.901      0.368      -0.048       0.129\n",
      "tiv                0.2041      0.048      4.278      0.000       0.110       0.298\n",
      "==============================================================================\n",
      "Omnibus:                      229.191   Durbin-Watson:                   2.017\n",
      "Prob(Omnibus):                  0.000   Jarque-Bera (JB):             1242.539\n",
      "Skew:                           2.132   Prob(JB):                    1.54e-270\n",
      "Kurtosis:                       9.758   Cond. No.                         2.09\n",
      "==============================================================================\n",
      "\n",
      "Notes:\n",
      "[1] Standard Errors assume that the covariance matrix of the errors is correctly specified.\n"
     ]
    }
   ],
   "source": [
    "model_data = df_z.join([df_thomas_z])\n",
    "model_data = model_data[model_data['dz_type3']==\"MS\"]\n",
    "\n",
    "formula = \"ventricle_volume ~ choroid_volume + white + age + Female + tiv\"\n",
    "result = sm.OLS.from_formula(formula, data=model_data).fit()\n",
    "print(result.summary())"
   ]
  },
  {
   "cell_type": "code",
   "execution_count": 38,
   "id": "83eeef34",
   "metadata": {},
   "outputs": [
    {
     "data": {
      "application/vnd.microsoft.datawrangler.viewer.v0+json": {
       "columns": [
        {
         "name": "subid",
         "rawType": "int64",
         "type": "integer"
        },
        {
         "name": "tiv",
         "rawType": "float64",
         "type": "float"
        }
       ],
       "ref": "a0e5902e-6eb8-4236-9ce9-8f7f0f0efefa",
       "rows": [
        [
         "1001",
         "1491310.0"
        ],
        [
         "1002",
         "1457902.875"
        ],
        [
         "1003",
         "1474545.0"
        ],
        [
         "1004",
         "1256718.25"
        ],
        [
         "1005",
         "1325065.5"
        ],
        [
         "1007",
         "1688415.25"
        ],
        [
         "1010",
         "1374785.25"
        ],
        [
         "1011",
         "1551436.5"
        ],
        [
         "1012",
         "1654246.125"
        ],
        [
         "1013",
         "1566932.25"
        ],
        [
         "1015",
         "1492308.375"
        ],
        [
         "1016",
         "1599284.375"
        ],
        [
         "1017",
         "1498461.875"
        ],
        [
         "1019",
         "1426632.0"
        ],
        [
         "1020",
         "1322565.375"
        ],
        [
         "1021",
         "1832128.0"
        ],
        [
         "1022",
         "1724884.25"
        ],
        [
         "1023",
         "1454822.125"
        ],
        [
         "1024",
         "1475925.375"
        ],
        [
         "1026",
         "1491185.5"
        ],
        [
         "1027",
         "1419392.875"
        ],
        [
         "1028",
         "1519499.25"
        ],
        [
         "1029",
         "1352110.75"
        ],
        [
         "1030",
         "1523775.875"
        ],
        [
         "1031",
         "1583733.375"
        ],
        [
         "1033",
         "1529374.875"
        ],
        [
         "1036",
         "1352127.625"
        ],
        [
         "1037",
         "1759216.0"
        ],
        [
         "1038",
         "1183307.125"
        ],
        [
         "1039",
         "1320246.75"
        ],
        [
         "1042",
         "1633629.125"
        ],
        [
         "1044",
         "1331420.0"
        ],
        [
         "1045",
         "1331807.875"
        ],
        [
         "1046",
         "1281100.625"
        ],
        [
         "1047",
         "1283731.375"
        ],
        [
         "1049",
         "1462890.875"
        ],
        [
         "1050",
         "1350487.0"
        ],
        [
         "1052",
         "1534804.875"
        ],
        [
         "1053",
         "1544343.75"
        ],
        [
         "1054",
         "1465723.75"
        ],
        [
         "1057",
         "1400857.375"
        ],
        [
         "1058",
         "1327628.375"
        ],
        [
         "1061",
         "1549475.875"
        ],
        [
         "1062",
         "1483926.625"
        ],
        [
         "1063",
         "1681061.375"
        ],
        [
         "1064",
         "1739155.0"
        ],
        [
         "1065",
         "1487776.5"
        ],
        [
         "1066",
         "1540335.0"
        ],
        [
         "1068",
         "1341225.125"
        ],
        [
         "1069",
         "1617884.875"
        ]
       ],
       "shape": {
        "columns": 1,
        "rows": 564
       }
      },
      "text/plain": [
       "subid\n",
       "1001    1491310.000\n",
       "1002    1457902.875\n",
       "1003    1474545.000\n",
       "1004    1256718.250\n",
       "1005    1325065.500\n",
       "           ...     \n",
       "3016    1236729.250\n",
       "3017    1652912.875\n",
       "3021    1558369.500\n",
       "3023    1451392.750\n",
       "3028    1525758.750\n",
       "Name: tiv, Length: 564, dtype: float64"
      ]
     },
     "execution_count": 38,
     "metadata": {},
     "output_type": "execute_result"
    }
   ],
   "source": [
    "df['tiv']"
   ]
  }
 ],
 "metadata": {
  "kernelspec": {
   "display_name": "monai",
   "language": "python",
   "name": "python3"
  },
  "language_info": {
   "codemirror_mode": {
    "name": "ipython",
    "version": 3
   },
   "file_extension": ".py",
   "mimetype": "text/x-python",
   "name": "python",
   "nbconvert_exporter": "python",
   "pygments_lexer": "ipython3",
   "version": "3.12.4"
  }
 },
 "nbformat": 4,
 "nbformat_minor": 5
}
