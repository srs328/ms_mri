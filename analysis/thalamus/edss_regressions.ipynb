{
 "cells": [
  {
   "cell_type": "code",
   "execution_count": 1,
   "id": "76cab6dd",
   "metadata": {},
   "outputs": [],
   "source": [
    "import pandas as pd\n",
    "from warnings import simplefilter\n",
    "simplefilter(action=\"ignore\", category=pd.errors.PerformanceWarning)\n",
    "from pathlib import Path\n",
    "import json\n",
    "import numpy as np\n",
    "from collections import defaultdict\n",
    "import matplotlib.pyplot as plt\n",
    "from datetime import datetime\n",
    "import re\n",
    "from scipy import stats\n",
    "import numpy as np\n",
    "import statsmodels.api as sm\n",
    "import statsmodels\n",
    "from matplotlib import colormaps\n",
    "from tqdm.notebook import tqdm\n",
    "import helpers\n",
    "from collections import defaultdict\n",
    "from tqdm.notebook import tqdm\n",
    "\n",
    "\n",
    "from statsmodels.stats.outliers_influence import variance_inflation_factor\n",
    "from statsmodels.regression.linear_model import OLS\n",
    "\n",
    "from mri_data import file_manager as fm"
   ]
  },
  {
   "cell_type": "markdown",
   "id": "890635c5",
   "metadata": {},
   "source": [
    "## Load Data"
   ]
  },
  {
   "cell_type": "code",
   "execution_count": 2,
   "id": "000132f9",
   "metadata": {},
   "outputs": [],
   "source": [
    "drive_root = fm.get_drive_root()\n",
    "dataroot = drive_root / \"3Tpioneer_bids\"\n",
    "data_dir = Path(\"/home/srs-9/Projects/ms_mri/data\")\n",
    "fig_path = Path(\"/home/srs-9/Projects/ms_mri/analysis/thalamus/figures_tables/edss_regressions\")\n",
    "\n",
    "choroid_volumes = pd.read_csv(\n",
    "    \"/home/srs-9/Projects/ms_mri/data/choroid_aschoplex_volumes.csv\", index_col=\"subid\"\n",
    ").dropna()\n",
    "tiv = pd.read_csv(\"/home/srs-9/Projects/ms_mri/data/tiv_data.csv\", index_col=\"subid\")\n",
    "\n",
    "df = pd.read_csv(\n",
    "    \"/home/srs-9/Projects/ms_mri/data/clinical_data_processed.csv\", index_col=\"subid\"\n",
    ")\n",
    "sdmt = pd.read_csv(\"/home/srs-9/Projects/ms_mri/analysis/thalamus/SDMT_sheet.csv\", index_col=\"subid\")\n",
    "df = df.join([choroid_volumes, tiv, sdmt['SDMT']])\n",
    "df['SDMT'] = pd.to_numeric(df['SDMT'], errors='coerce')\n",
    "df['thalamus_sqrt'] = np.sqrt(df['thalamus'])\n",
    "df['thalamus_curt'] = np.sqrt(df['thalamus']**3)\n",
    "df_z = df.copy()\n",
    "numeric_cols = df.select_dtypes(include='number').columns\n",
    "df_z[numeric_cols] = df_z[numeric_cols].apply(stats.zscore, nan_policy=\"omit\")\n",
    "\n",
    "df_ms = df[df['dz_type2'] == \"MS\"]\n",
    "df_ms_z = df_ms.copy()\n",
    "df_ms_z[numeric_cols] = df_ms_z[numeric_cols].apply(stats.zscore, nan_policy=\"omit\")\n",
    "\n",
    "# assert df.loc[1340, 'EDSS'] == 2.5\n",
    "\n",
    "\n",
    "viridis = colormaps['viridis'].resampled(20)\n",
    "\n",
    "colors = helpers.get_colors()"
   ]
  },
  {
   "cell_type": "code",
   "execution_count": 25,
   "id": "9d2c1d85",
   "metadata": {},
   "outputs": [],
   "source": [
    "df_thomas = pd.read_csv(data_dir / \"hipsthomas_vols.csv\", index_col=\"subid\")\n",
    "cols_orig = df_thomas.columns\n",
    "new_colnames = {}\n",
    "for col in df_thomas.columns:\n",
    "    new_col = re.sub(r\"(\\d+)-([\\w-]+)\", r\"\\2_\\1\", col)\n",
    "    new_col = re.sub(\"-\", \"_\", new_col)\n",
    "    new_colnames[col] = new_col\n",
    "df_thomas = df_thomas.rename(columns=new_colnames)\n",
    "df_thomas_norm = df_thomas.apply(lambda col: col / df_thomas['THALAMUS_1'])\n",
    "df_thomas_z = df_thomas.apply(stats.zscore, nan_policy=\"omit\")\n",
    "df_thomas_norm_z = df_thomas_norm.apply(stats.zscore, nan_policy=\"omit\")\n",
    "\n",
    "df_thomas_left = pd.read_csv(data_dir / \"hipsthomas_left_vols.csv\", index_col=\"subid\")\n",
    "df_thomas_left = df_thomas_left.rename(columns=new_colnames)\n",
    "df_thomas_left_norm = df_thomas_left.apply(lambda col: col / df_thomas['THALAMUS_1'])\n",
    "df_thomas_left_z = df_thomas_left.apply(stats.zscore, nan_policy=\"omit\")\n",
    "df_thomas_left_norm_z = df_thomas_left_norm.apply(stats.zscore, nan_policy=\"omit\")\n",
    "\n",
    "\n",
    "df_thomas_right = pd.read_csv(data_dir / \"hipsthomas_right_vols.csv\", index_col=\"subid\")\n",
    "df_thomas_right = df_thomas_right.rename(columns=new_colnames)\n",
    "df_thomas_right_norm = df_thomas_right.apply(lambda col: col / df_thomas['THALAMUS_1'])\n",
    "df_thomas_right_z = df_thomas_right.apply(stats.zscore, nan_policy=\"omit\")\n",
    "df_thomas_right_norm_z = df_thomas_right_norm.apply(stats.zscore, nan_policy=\"omit\")\n",
    "\n",
    "\n",
    "thalamic_nuclei = [2, 4, 5, 6, 7, 8, 9, 10, 11, 12]\n",
    "thalamic_nuclei_str = [str(i) for i in thalamic_nuclei]\n",
    "\n",
    "hips_thomas_ref = pd.read_csv(\n",
    "    \"/home/srs-9/Projects/ms_mri/data/hipsthomas_struct_index.csv\", index_col=\"index\"\n",
    ")['struct']\n",
    "# hips_thomas_ref.rename(columns={\"struct\": \"struct_name\"}, inplace=True)\n",
    "\n",
    "choroid_dists = pd.read_csv(data_dir / \"centroid-choroid_SDT.csv\", index_col=\"subid\")\n",
    "ventricle_dists = pd.read_csv(\n",
    "    data_dir / \"centroid-ventricle_SDT.csv\", index_col=\"subid\"\n",
    ")\n",
    "\n",
    "mni_choroid_dists = pd.read_csv(\"/home/srs-9/Projects/ms_mri/data/mni-centroid-choroid_SDT2.csv\")\n",
    "\n",
    "def combine_nuclei(df):\n",
    "    df2 = pd.DataFrame()\n",
    "    df2['anterior'] = df['AV_2']\n",
    "    df2['ventral'] = df['VA_4'] + df['VLa_5'] + df['VLP_6'] + df['VPL_7']\n",
    "    df2['intralaminar'] = df['CM_11'] \n",
    "    df2['medial'] = df['MD_Pf_12']\n",
    "    df2['posterior'] = df['Pul_8'] + df['LGN_9'] + df['MGN_10']\n",
    "    df2['THALAMUS_1'] = df['THALAMUS_1']\n",
    "    return df2\n",
    "\n",
    "df_thomas2 = combine_nuclei(df_thomas)\n",
    "grouped_nuclei = df_thomas2.columns[~df_thomas2.columns.isin([\"THALAMUS_1\"])]\n",
    "df_thomas2_z = df_thomas2.apply(stats.zscore, nan_policy=\"omit\")\n",
    "df_thomas2_norm = df_thomas2.apply(lambda col: col / df_thomas['THALAMUS_1'])\n",
    "df_thomas2_norm_z = df_thomas2_norm.apply(stats.zscore, nan_policy=\"omit\")\n",
    "\n",
    "df_thomas2_left = combine_nuclei(df_thomas_left)\n",
    "df_thomas2_left_z = df_thomas2_left.apply(stats.zscore, nan_policy=\"omit\")\n",
    "df_thomas2_norm_left = df_thomas2.apply(lambda col: col / df_thomas['THALAMUS_1'])\n",
    "df_thomas2_norm_left_z = df_thomas2_norm_left.apply(stats.zscore, nan_policy=\"omit\")\n",
    "\n",
    "df_thomas2_right = combine_nuclei(df_thomas_right)\n",
    "df_thomas2_right_z = df_thomas2_right.apply(stats.zscore, nan_policy=\"omit\")\n",
    "df_thomas2_norm_right = df_thomas2.apply(lambda col: col / df_thomas['THALAMUS_1'])\n",
    "df_thomas2_norm_right_z = df_thomas2_norm_right.apply(stats.zscore, nan_policy=\"omit\")"
   ]
  },
  {
   "cell_type": "markdown",
   "id": "4488e439",
   "metadata": {},
   "source": [
    "## Functions"
   ]
  },
  {
   "cell_type": "code",
   "execution_count": 4,
   "id": "93866caf",
   "metadata": {},
   "outputs": [],
   "source": [
    "def compute_se_diff(se1, n1, se2, n2):\n",
    "    return np.sqrt((se1**2/n1) + (se2**2/n2))\n",
    "\n",
    "def plot_regression(\n",
    "    data, predictor, outcome, covariates, xlabel=None, ylabel=None, title=None,\n",
    "    color=\"blue1\"\n",
    "):\n",
    "    plus_covariates = \"\"\n",
    "    if len(covariates) > 0:\n",
    "        plus_covariates = f\"+ {' + '.join(covariates)}\"\n",
    "    if xlabel is None:\n",
    "        xlabel = predictor\n",
    "    if ylabel is None:\n",
    "        ylabel = outcome\n",
    "    if title is None:\n",
    "        title = f\"{outcome} vs {predictor}\"\n",
    "    \n",
    "    light_color = colors[f\"light {color}\"]\n",
    "    dark_color = colors[f\"dark {color}\"]\n",
    "\n",
    "    formula = f\"{outcome} ~ {predictor} {plus_covariates}\"\n",
    "    res = sm.OLS.from_formula(formula, data=data).fit()\n",
    "    x, y_pred, y_lims = helpers.get_regression_y(data, res, predictor, outcome)\n",
    "\n",
    "    fig, axs = plt.subplot_mosaic(\n",
    "        [['histx', '.'], ['scatter', 'histy']],\n",
    "        figsize=(8, 6),\n",
    "        width_ratios=(4, 1),\n",
    "        height_ratios=(1, 4),\n",
    "        layout='constrained',\n",
    "    )\n",
    "\n",
    "    helpers.scatter_hist(\n",
    "        data[predictor],\n",
    "        data[outcome],\n",
    "        axs['scatter'],\n",
    "        axs['histx'],\n",
    "        axs['histy'],\n",
    "        light_color=light_color,\n",
    "        dark_color=dark_color,\n",
    "    )\n",
    "\n",
    "    axs['scatter'].plot(x, y_pred, color=\"black\")\n",
    "    axs['scatter'].fill_between(\n",
    "        x, y_lims[0], y_lims[1], alpha=0.4, color=light_color\n",
    "    )\n",
    "    axs['scatter'].set_ylabel(ylabel)\n",
    "    axs['scatter'].set_xlabel(xlabel)\n",
    "    fig.suptitle(title)\n",
    "    return fig, axs"
   ]
  },
  {
   "cell_type": "markdown",
   "id": "7be765ec",
   "metadata": {},
   "source": [
    "## Main MRI Features"
   ]
  },
  {
   "cell_type": "markdown",
   "id": "b14d7fc9",
   "metadata": {},
   "source": [
    "### Regressions"
   ]
  },
  {
   "cell_type": "markdown",
   "id": "0110daa7",
   "metadata": {},
   "source": [
    "#### MS Patients"
   ]
  },
  {
   "cell_type": "code",
   "execution_count": 32,
   "id": "e784a51c",
   "metadata": {},
   "outputs": [
    {
     "data": {
      "application/vnd.microsoft.datawrangler.viewer.v0+json": {
       "columns": [
        {
         "name": "structure",
         "rawType": "object",
         "type": "string"
        },
        {
         "name": "coef",
         "rawType": "float64",
         "type": "float"
        },
        {
         "name": "stderr",
         "rawType": "float64",
         "type": "float"
        },
        {
         "name": "llci",
         "rawType": "float64",
         "type": "float"
        },
        {
         "name": "ulci",
         "rawType": "float64",
         "type": "float"
        },
        {
         "name": "pvals",
         "rawType": "float64",
         "type": "float"
        },
        {
         "name": "ci",
         "rawType": "object",
         "type": "string"
        },
        {
         "name": "p_fdr",
         "rawType": "float64",
         "type": "float"
        },
        {
         "name": "R2",
         "rawType": "float64",
         "type": "float"
        }
       ],
       "ref": "8c1e4f58-f87b-4c93-aa89-0395e04ae116",
       "rows": [
        [
         "brain",
         "-0.0817668658988079",
         "0.04761386150693754",
         "-0.1759800785249794",
         "0.01244634672736361",
         "0.08876744200463506",
         "[-0.175980, 0.012446]",
         "0.1183565893395134",
         "0.21750621962809213"
        ],
        [
         "white",
         "-0.03340124363834631",
         "0.045744636193836764",
         "-0.12189335839234836",
         "0.05509087111565573",
         "0.45860322382649177",
         "[-0.121893, 0.055091]",
         "0.45860322382649177",
         "0.21339100706572267"
        ],
        [
         "grey",
         "-0.10493786135986989",
         "0.05071287585737947",
         "-0.20337438446665318",
         "-0.0065013382530866165",
         "0.036725537412527175",
         "[-0.203374, -0.006501]",
         "0.05876085986004348",
         "0.2200663402191798"
        ],
        [
         "cortical_thickness",
         "-0.22029097342004275",
         "0.04449322805749143",
         "-0.3120001430893827",
         "-0.12858180375070283",
         "3.147700748351011e-06",
         "[-0.312000, -0.128582]",
         "1.2590802993404044e-05",
         "0.24974511687379153"
        ],
        [
         "THALAMUS_1",
         "-0.2920278014406167",
         "0.04530321532955645",
         "-0.38446754751608553",
         "-0.19958805536514784",
         "1.2207381754910873e-09",
         "[-0.384468, -0.199588]",
         "9.765905403928698e-09",
         "0.27481918957285456"
        ],
        [
         "t2lv",
         "0.111862922501839",
         "0.047571800283304565",
         "0.02884057834849396",
         "0.19488526665518405",
         "0.008383220480119214",
         "[0.028841, 0.194885]",
         "0.022355254613651235",
         "0.22456147682469374"
        ],
        [
         "PRL",
         "0.1064072500296553",
         "0.03978608281768854",
         "0.022330280748595027",
         "0.19048421931071557",
         "0.013236844089424873",
         "[0.022330, 0.190484]",
         "0.026473688178849746",
         "0.22315220410557324"
        ],
        [
         "choroid_volume",
         "0.07105883540709416",
         "0.04368256283215702",
         "-0.02084807841498082",
         "0.16296574922916915",
         "0.12934898631949032",
         "[-0.020848, 0.162966]",
         "0.14782741293656035",
         "0.21646286974856488"
        ]
       ],
       "shape": {
        "columns": 8,
        "rows": 8
       }
      },
      "text/html": [
       "<div>\n",
       "<style scoped>\n",
       "    .dataframe tbody tr th:only-of-type {\n",
       "        vertical-align: middle;\n",
       "    }\n",
       "\n",
       "    .dataframe tbody tr th {\n",
       "        vertical-align: top;\n",
       "    }\n",
       "\n",
       "    .dataframe thead th {\n",
       "        text-align: right;\n",
       "    }\n",
       "</style>\n",
       "<table border=\"1\" class=\"dataframe\">\n",
       "  <thead>\n",
       "    <tr style=\"text-align: right;\">\n",
       "      <th></th>\n",
       "      <th>coef</th>\n",
       "      <th>stderr</th>\n",
       "      <th>llci</th>\n",
       "      <th>ulci</th>\n",
       "      <th>pvals</th>\n",
       "      <th>ci</th>\n",
       "      <th>p_fdr</th>\n",
       "      <th>R2</th>\n",
       "    </tr>\n",
       "    <tr>\n",
       "      <th>structure</th>\n",
       "      <th></th>\n",
       "      <th></th>\n",
       "      <th></th>\n",
       "      <th></th>\n",
       "      <th></th>\n",
       "      <th></th>\n",
       "      <th></th>\n",
       "      <th></th>\n",
       "    </tr>\n",
       "  </thead>\n",
       "  <tbody>\n",
       "    <tr>\n",
       "      <th>brain</th>\n",
       "      <td>-0.081767</td>\n",
       "      <td>0.047614</td>\n",
       "      <td>-0.175980</td>\n",
       "      <td>0.012446</td>\n",
       "      <td>8.876744e-02</td>\n",
       "      <td>[-0.175980, 0.012446]</td>\n",
       "      <td>1.183566e-01</td>\n",
       "      <td>0.217506</td>\n",
       "    </tr>\n",
       "    <tr>\n",
       "      <th>white</th>\n",
       "      <td>-0.033401</td>\n",
       "      <td>0.045745</td>\n",
       "      <td>-0.121893</td>\n",
       "      <td>0.055091</td>\n",
       "      <td>4.586032e-01</td>\n",
       "      <td>[-0.121893, 0.055091]</td>\n",
       "      <td>4.586032e-01</td>\n",
       "      <td>0.213391</td>\n",
       "    </tr>\n",
       "    <tr>\n",
       "      <th>grey</th>\n",
       "      <td>-0.104938</td>\n",
       "      <td>0.050713</td>\n",
       "      <td>-0.203374</td>\n",
       "      <td>-0.006501</td>\n",
       "      <td>3.672554e-02</td>\n",
       "      <td>[-0.203374, -0.006501]</td>\n",
       "      <td>5.876086e-02</td>\n",
       "      <td>0.220066</td>\n",
       "    </tr>\n",
       "    <tr>\n",
       "      <th>cortical_thickness</th>\n",
       "      <td>-0.220291</td>\n",
       "      <td>0.044493</td>\n",
       "      <td>-0.312000</td>\n",
       "      <td>-0.128582</td>\n",
       "      <td>3.147701e-06</td>\n",
       "      <td>[-0.312000, -0.128582]</td>\n",
       "      <td>1.259080e-05</td>\n",
       "      <td>0.249745</td>\n",
       "    </tr>\n",
       "    <tr>\n",
       "      <th>THALAMUS_1</th>\n",
       "      <td>-0.292028</td>\n",
       "      <td>0.045303</td>\n",
       "      <td>-0.384468</td>\n",
       "      <td>-0.199588</td>\n",
       "      <td>1.220738e-09</td>\n",
       "      <td>[-0.384468, -0.199588]</td>\n",
       "      <td>9.765905e-09</td>\n",
       "      <td>0.274819</td>\n",
       "    </tr>\n",
       "    <tr>\n",
       "      <th>t2lv</th>\n",
       "      <td>0.111863</td>\n",
       "      <td>0.047572</td>\n",
       "      <td>0.028841</td>\n",
       "      <td>0.194885</td>\n",
       "      <td>8.383220e-03</td>\n",
       "      <td>[0.028841, 0.194885]</td>\n",
       "      <td>2.235525e-02</td>\n",
       "      <td>0.224561</td>\n",
       "    </tr>\n",
       "    <tr>\n",
       "      <th>PRL</th>\n",
       "      <td>0.106407</td>\n",
       "      <td>0.039786</td>\n",
       "      <td>0.022330</td>\n",
       "      <td>0.190484</td>\n",
       "      <td>1.323684e-02</td>\n",
       "      <td>[0.022330, 0.190484]</td>\n",
       "      <td>2.647369e-02</td>\n",
       "      <td>0.223152</td>\n",
       "    </tr>\n",
       "    <tr>\n",
       "      <th>choroid_volume</th>\n",
       "      <td>0.071059</td>\n",
       "      <td>0.043683</td>\n",
       "      <td>-0.020848</td>\n",
       "      <td>0.162966</td>\n",
       "      <td>1.293490e-01</td>\n",
       "      <td>[-0.020848, 0.162966]</td>\n",
       "      <td>1.478274e-01</td>\n",
       "      <td>0.216463</td>\n",
       "    </tr>\n",
       "  </tbody>\n",
       "</table>\n",
       "</div>"
      ],
      "text/plain": [
       "                        coef    stderr      llci      ulci         pvals  \\\n",
       "structure                                                                  \n",
       "brain              -0.081767  0.047614 -0.175980  0.012446  8.876744e-02   \n",
       "white              -0.033401  0.045745 -0.121893  0.055091  4.586032e-01   \n",
       "grey               -0.104938  0.050713 -0.203374 -0.006501  3.672554e-02   \n",
       "cortical_thickness -0.220291  0.044493 -0.312000 -0.128582  3.147701e-06   \n",
       "THALAMUS_1         -0.292028  0.045303 -0.384468 -0.199588  1.220738e-09   \n",
       "t2lv                0.111863  0.047572  0.028841  0.194885  8.383220e-03   \n",
       "PRL                 0.106407  0.039786  0.022330  0.190484  1.323684e-02   \n",
       "choroid_volume      0.071059  0.043683 -0.020848  0.162966  1.293490e-01   \n",
       "\n",
       "                                        ci         p_fdr        R2  \n",
       "structure                                                           \n",
       "brain                [-0.175980, 0.012446]  1.183566e-01  0.217506  \n",
       "white                [-0.121893, 0.055091]  4.586032e-01  0.213391  \n",
       "grey                [-0.203374, -0.006501]  5.876086e-02  0.220066  \n",
       "cortical_thickness  [-0.312000, -0.128582]  1.259080e-05  0.249745  \n",
       "THALAMUS_1          [-0.384468, -0.199588]  9.765905e-09  0.274819  \n",
       "t2lv                  [0.028841, 0.194885]  2.235525e-02  0.224561  \n",
       "PRL                   [0.022330, 0.190484]  2.647369e-02  0.223152  \n",
       "choroid_volume       [-0.020848, 0.162966]  1.478274e-01  0.216463  "
      ]
     },
     "execution_count": 32,
     "metadata": {},
     "output_type": "execute_result"
    }
   ],
   "source": [
    "model_data = df_ms_z.copy()\n",
    "model_data = model_data.join([df_thomas_z])\n",
    "covariates = \"age + Female + tiv\"\n",
    "\n",
    "outcome = \"EDSS_sqrt\"\n",
    "predictors = [\"brain\", \"white\", \"grey\", \"cortical_thickness\", \"THALAMUS_1\", \"t2lv\", \"PRL\", \"choroid_volume\"]\n",
    "\n",
    "pvals = {}\n",
    "coefs = {}\n",
    "stderrs = {}\n",
    "llci = {}\n",
    "ulci = {}\n",
    "ci_str = {}\n",
    "r2 = {}\n",
    "\n",
    "for x in predictors:\n",
    "    formula = f\"{outcome} ~ {x} + {covariates}\"\n",
    "    res = sm.OLS.from_formula(formula, data=model_data).fit()\n",
    "    pvals[x] = res.pvalues[x]\n",
    "    coefs[x] = res.params[x]\n",
    "    stderrs[x] = res.HC0_se[x]\n",
    "    ci = res.conf_int()\n",
    "    llci[x] = ci.loc[x, 0]\n",
    "    ulci[x] = ci.loc[x, 1]\n",
    "    ci_str[x] = f\"[{llci[x]:.6f}, {ulci[x]:.6f}]\"\n",
    "    r2[x] = res.rsquared_adj\n",
    "\n",
    "\n",
    "regression_results = pd.DataFrame({\"coef\": coefs, \"stderr\": stderrs, \"llci\": llci, \"ulci\": ulci, \"pvals\": pvals, \"ci\": ci_str})\n",
    "regression_results['p_fdr'] = stats.false_discovery_control(\n",
    "    regression_results['pvals'], method='bh'\n",
    ")\n",
    "regression_results['R2'] = r2\n",
    "regression_results.index.name = \"structure\"\n",
    "# regression_results.to_excel(fig_path / \"EDSS_and_main_mri_features_MS.xlsx\")\n",
    "regression_results"
   ]
  },
  {
   "cell_type": "code",
   "execution_count": 30,
   "id": "f94511d9",
   "metadata": {},
   "outputs": [
    {
     "name": "stdout",
     "output_type": "stream",
     "text": [
      "-0.2814095453014782 -0.21767321433834244 0.6290560063840223\n"
     ]
    }
   ],
   "source": [
    "resThal = sm.OLS.from_formula(\"THALAMUS_1 ~ age + Female + tiv\", data=model_data).fit()\n",
    "resCT = sm.OLS.from_formula(\"cortical_thickness ~ age + Female + tiv\", data=model_data).fit()\n",
    "resEDSS = sm.OLS.from_formula(\"EDSS_sqrt ~ age + Female + tiv\", data=model_data).fit()\n",
    "\n",
    "resids = pd.concat([resThal.resid.rename(\"THALAMUS_1\"),\n",
    "                    resCT.resid.rename(\"cortical_thickness\"),\n",
    "                    resEDSS.resid.rename(\"EDSS_sqrt\")], axis=1).dropna()\n",
    "\n",
    "\n",
    "rx1y = stats.pearsonr(resids['THALAMUS_1'], resids['EDSS_sqrt']).statistic\n",
    "rx2y = stats.pearsonr(resids['cortical_thickness'], resids['EDSS_sqrt']).statistic\n",
    "rx1x2 = stats.pearsonr(resids['cortical_thickness'], resids['THALAMUS_1']).statistic\n",
    "print(rx1y, rx2y, rx1x2)"
   ]
  },
  {
   "cell_type": "code",
   "execution_count": 75,
   "id": "2098c0b5",
   "metadata": {},
   "outputs": [
    {
     "name": "stdout",
     "output_type": "stream",
     "text": [
      "                            OLS Regression Results                            \n",
      "==============================================================================\n",
      "Dep. Variable:              EDSS_sqrt   R-squared:                       0.276\n",
      "Model:                            OLS   Adj. R-squared:                  0.269\n",
      "Method:                 Least Squares   F-statistic:                     41.56\n",
      "Date:                Wed, 11 Jun 2025   Prob (F-statistic):           1.59e-29\n",
      "Time:                        14:50:51   Log-Likelihood:                -554.25\n",
      "No. Observations:                 441   AIC:                             1118.\n",
      "Df Residuals:                     436   BIC:                             1139.\n",
      "Df Model:                           4                                         \n",
      "Covariance Type:            nonrobust                                         \n",
      "==============================================================================\n",
      "                 coef    std err          t      P>|t|      [0.025      0.975]\n",
      "------------------------------------------------------------------------------\n",
      "Intercept     -0.0441      0.041     -1.073      0.284      -0.125       0.037\n",
      "age            0.3510      0.044      7.971      0.000       0.264       0.437\n",
      "Female        -0.0457      0.048     -0.943      0.346      -0.141       0.050\n",
      "tiv            0.0369      0.053      0.689      0.491      -0.068       0.142\n",
      "THALAMUS_1    -0.2900      0.048     -6.066      0.000      -0.384      -0.196\n",
      "==============================================================================\n",
      "Omnibus:                        6.710   Durbin-Watson:                   2.045\n",
      "Prob(Omnibus):                  0.035   Jarque-Bera (JB):                6.542\n",
      "Skew:                           0.271   Prob(JB):                       0.0380\n",
      "Kurtosis:                       3.247   Cond. No.                         2.18\n",
      "==============================================================================\n",
      "\n",
      "Notes:\n",
      "[1] Standard Errors assume that the covariance matrix of the errors is correctly specified.\n"
     ]
    }
   ],
   "source": [
    "formula = \"EDSS_sqrt ~ age + Female + tiv + THALAMUS_1\"\n",
    "res = sm.OLS.from_formula(formula, data=model_data).fit()\n",
    "print(res.summary())"
   ]
  },
  {
   "cell_type": "markdown",
   "id": "fde61522",
   "metadata": {},
   "source": [
    "#### NIND Group"
   ]
  },
  {
   "cell_type": "code",
   "execution_count": 59,
   "id": "6a7c12ae",
   "metadata": {},
   "outputs": [
    {
     "data": {
      "application/vnd.microsoft.datawrangler.viewer.v0+json": {
       "columns": [
        {
         "name": "structure",
         "rawType": "object",
         "type": "string"
        },
        {
         "name": "coef",
         "rawType": "float64",
         "type": "float"
        },
        {
         "name": "stderr",
         "rawType": "float64",
         "type": "float"
        },
        {
         "name": "llci",
         "rawType": "float64",
         "type": "float"
        },
        {
         "name": "ulci",
         "rawType": "float64",
         "type": "float"
        },
        {
         "name": "pvals",
         "rawType": "float64",
         "type": "float"
        },
        {
         "name": "ci",
         "rawType": "object",
         "type": "string"
        },
        {
         "name": "p_fdr",
         "rawType": "float64",
         "type": "float"
        },
        {
         "name": "R2",
         "rawType": "float64",
         "type": "float"
        }
       ],
       "ref": "f0c44296-b1a9-471e-9a56-3012a6efb8e1",
       "rows": [
        [
         "brain",
         "-0.17950808438750435",
         "0.25723875726050316",
         "-0.7818190464363904",
         "0.4228028776613818",
         "0.5390812323980126",
         "[-0.781819, 0.422803]",
         "0.8872867242426867",
         "-0.03253973765829277"
        ],
        [
         "white",
         "0.08801312104747165",
         "0.23553141890738052",
         "-0.4527989159232097",
         "0.628825158018153",
         "0.7363785862671735",
         "[-0.452799, 0.628825]",
         "0.9492291107019495",
         "-0.04822154653981747"
        ],
        [
         "grey",
         "-0.3814459339783616",
         "0.26012896146035375",
         "-0.9891913019222073",
         "0.22629943396548413",
         "0.2038268626457287",
         "[-0.989191, 0.226299]",
         "0.5435383003886098",
         "0.03790735129810763"
        ],
        [
         "cortical_thickness",
         "-0.6229471391558833",
         "0.16733982598721212",
         "-1.2169408204773504",
         "-0.028953457834416163",
         "0.04083672449944368",
         "[-1.216941, -0.028953]",
         "0.32669379599554943",
         "0.16907409923636108"
        ],
        [
         "thalamus",
         "0.03376502111227102",
         "0.4629335087832387",
         "-1.064874094140621",
         "1.1324041363651631",
         "0.9492291107019495",
         "[-1.064874, 1.132404]",
         "0.9492291107019495",
         "-0.05478497421276085"
        ],
        [
         "t2lv",
         "0.034694672023655906",
         "0.1583976095960118",
         "-0.4062332166047753",
         "0.4756225606520871",
         "0.8705406489567435",
         "[-0.406233, 0.475623]",
         "0.9492291107019495",
         "-0.053429931043535106"
        ],
        [
         "PRL",
         "2.598156267514459",
         "0.5669155836251826",
         "-0.8927067854185915",
         "6.089019320447509",
         "0.13530771580098538",
         "[-0.892707, 6.089019]",
         "0.5412308632039415",
         "0.07114228050042715"
        ],
        [
         "choroid_volume",
         "0.14695640577588281",
         "0.2124507720406121",
         "-0.36733624447129826",
         "0.6612490560230639",
         "0.5545542026516792",
         "[-0.367336, 0.661249]",
         "0.8872867242426867",
         "-0.07347102701763397"
        ]
       ],
       "shape": {
        "columns": 8,
        "rows": 8
       }
      },
      "text/html": [
       "<div>\n",
       "<style scoped>\n",
       "    .dataframe tbody tr th:only-of-type {\n",
       "        vertical-align: middle;\n",
       "    }\n",
       "\n",
       "    .dataframe tbody tr th {\n",
       "        vertical-align: top;\n",
       "    }\n",
       "\n",
       "    .dataframe thead th {\n",
       "        text-align: right;\n",
       "    }\n",
       "</style>\n",
       "<table border=\"1\" class=\"dataframe\">\n",
       "  <thead>\n",
       "    <tr style=\"text-align: right;\">\n",
       "      <th></th>\n",
       "      <th>coef</th>\n",
       "      <th>stderr</th>\n",
       "      <th>llci</th>\n",
       "      <th>ulci</th>\n",
       "      <th>pvals</th>\n",
       "      <th>ci</th>\n",
       "      <th>p_fdr</th>\n",
       "      <th>R2</th>\n",
       "    </tr>\n",
       "    <tr>\n",
       "      <th>structure</th>\n",
       "      <th></th>\n",
       "      <th></th>\n",
       "      <th></th>\n",
       "      <th></th>\n",
       "      <th></th>\n",
       "      <th></th>\n",
       "      <th></th>\n",
       "      <th></th>\n",
       "    </tr>\n",
       "  </thead>\n",
       "  <tbody>\n",
       "    <tr>\n",
       "      <th>brain</th>\n",
       "      <td>-0.179508</td>\n",
       "      <td>0.257239</td>\n",
       "      <td>-0.781819</td>\n",
       "      <td>0.422803</td>\n",
       "      <td>0.539081</td>\n",
       "      <td>[-0.781819, 0.422803]</td>\n",
       "      <td>0.887287</td>\n",
       "      <td>-0.032540</td>\n",
       "    </tr>\n",
       "    <tr>\n",
       "      <th>white</th>\n",
       "      <td>0.088013</td>\n",
       "      <td>0.235531</td>\n",
       "      <td>-0.452799</td>\n",
       "      <td>0.628825</td>\n",
       "      <td>0.736379</td>\n",
       "      <td>[-0.452799, 0.628825]</td>\n",
       "      <td>0.949229</td>\n",
       "      <td>-0.048222</td>\n",
       "    </tr>\n",
       "    <tr>\n",
       "      <th>grey</th>\n",
       "      <td>-0.381446</td>\n",
       "      <td>0.260129</td>\n",
       "      <td>-0.989191</td>\n",
       "      <td>0.226299</td>\n",
       "      <td>0.203827</td>\n",
       "      <td>[-0.989191, 0.226299]</td>\n",
       "      <td>0.543538</td>\n",
       "      <td>0.037907</td>\n",
       "    </tr>\n",
       "    <tr>\n",
       "      <th>cortical_thickness</th>\n",
       "      <td>-0.622947</td>\n",
       "      <td>0.167340</td>\n",
       "      <td>-1.216941</td>\n",
       "      <td>-0.028953</td>\n",
       "      <td>0.040837</td>\n",
       "      <td>[-1.216941, -0.028953]</td>\n",
       "      <td>0.326694</td>\n",
       "      <td>0.169074</td>\n",
       "    </tr>\n",
       "    <tr>\n",
       "      <th>thalamus</th>\n",
       "      <td>0.033765</td>\n",
       "      <td>0.462934</td>\n",
       "      <td>-1.064874</td>\n",
       "      <td>1.132404</td>\n",
       "      <td>0.949229</td>\n",
       "      <td>[-1.064874, 1.132404]</td>\n",
       "      <td>0.949229</td>\n",
       "      <td>-0.054785</td>\n",
       "    </tr>\n",
       "    <tr>\n",
       "      <th>t2lv</th>\n",
       "      <td>0.034695</td>\n",
       "      <td>0.158398</td>\n",
       "      <td>-0.406233</td>\n",
       "      <td>0.475623</td>\n",
       "      <td>0.870541</td>\n",
       "      <td>[-0.406233, 0.475623]</td>\n",
       "      <td>0.949229</td>\n",
       "      <td>-0.053430</td>\n",
       "    </tr>\n",
       "    <tr>\n",
       "      <th>PRL</th>\n",
       "      <td>2.598156</td>\n",
       "      <td>0.566916</td>\n",
       "      <td>-0.892707</td>\n",
       "      <td>6.089019</td>\n",
       "      <td>0.135308</td>\n",
       "      <td>[-0.892707, 6.089019]</td>\n",
       "      <td>0.541231</td>\n",
       "      <td>0.071142</td>\n",
       "    </tr>\n",
       "    <tr>\n",
       "      <th>choroid_volume</th>\n",
       "      <td>0.146956</td>\n",
       "      <td>0.212451</td>\n",
       "      <td>-0.367336</td>\n",
       "      <td>0.661249</td>\n",
       "      <td>0.554554</td>\n",
       "      <td>[-0.367336, 0.661249]</td>\n",
       "      <td>0.887287</td>\n",
       "      <td>-0.073471</td>\n",
       "    </tr>\n",
       "  </tbody>\n",
       "</table>\n",
       "</div>"
      ],
      "text/plain": [
       "                        coef    stderr      llci      ulci     pvals  \\\n",
       "structure                                                              \n",
       "brain              -0.179508  0.257239 -0.781819  0.422803  0.539081   \n",
       "white               0.088013  0.235531 -0.452799  0.628825  0.736379   \n",
       "grey               -0.381446  0.260129 -0.989191  0.226299  0.203827   \n",
       "cortical_thickness -0.622947  0.167340 -1.216941 -0.028953  0.040837   \n",
       "thalamus            0.033765  0.462934 -1.064874  1.132404  0.949229   \n",
       "t2lv                0.034695  0.158398 -0.406233  0.475623  0.870541   \n",
       "PRL                 2.598156  0.566916 -0.892707  6.089019  0.135308   \n",
       "choroid_volume      0.146956  0.212451 -0.367336  0.661249  0.554554   \n",
       "\n",
       "                                        ci     p_fdr        R2  \n",
       "structure                                                       \n",
       "brain                [-0.781819, 0.422803]  0.887287 -0.032540  \n",
       "white                [-0.452799, 0.628825]  0.949229 -0.048222  \n",
       "grey                 [-0.989191, 0.226299]  0.543538  0.037907  \n",
       "cortical_thickness  [-1.216941, -0.028953]  0.326694  0.169074  \n",
       "thalamus             [-1.064874, 1.132404]  0.949229 -0.054785  \n",
       "t2lv                 [-0.406233, 0.475623]  0.949229 -0.053430  \n",
       "PRL                  [-0.892707, 6.089019]  0.541231  0.071142  \n",
       "choroid_volume       [-0.367336, 0.661249]  0.887287 -0.073471  "
      ]
     },
     "execution_count": 59,
     "metadata": {},
     "output_type": "execute_result"
    }
   ],
   "source": [
    "model_data = df_z.join(df_thomas_z)\n",
    "model_data = model_data[model_data['dz_type3'].isin([\"NIND\"])]\n",
    "covariates = \"age + Female + tiv\"\n",
    "\n",
    "outcome = \"EDSS_sqrt\"\n",
    "predictors = [\"brain\", \"white\", \"grey\", \"cortical_thickness\", \"THALAMUS_1\", \"t2lv\", \"PRL\", \"choroid_volume\"]\n",
    "\n",
    "pvals = {}\n",
    "coefs = {}\n",
    "stderrs = {}\n",
    "llci = {}\n",
    "ulci = {}\n",
    "ci_str = {}\n",
    "r2 = {}\n",
    "\n",
    "for x in predictors:\n",
    "    formula = f\"{outcome} ~ {x} + {covariates}\"\n",
    "    res = sm.OLS.from_formula(formula, data=model_data).fit()\n",
    "    pvals[x] = res.pvalues[x]\n",
    "    coefs[x] = res.params[x]\n",
    "    stderrs[x] = res.HC0_se[x]\n",
    "    ci = res.conf_int()\n",
    "    llci[x] = ci.loc[x, 0]\n",
    "    ulci[x] = ci.loc[x, 1]\n",
    "    ci_str[x] = f\"[{llci[x]:.6f}, {ulci[x]:.6f}]\"\n",
    "    r2[x] = res.rsquared_adj\n",
    "\n",
    "\n",
    "regression_results = pd.DataFrame({\"coef\": coefs, \"stderr\": stderrs, \"llci\": llci, \"ulci\": ulci, \"pvals\": pvals, \"ci\": ci_str})\n",
    "regression_results['p_fdr'] = stats.false_discovery_control(\n",
    "    regression_results['pvals'], method='bh'\n",
    ")\n",
    "regression_results['R2'] = r2\n",
    "\n",
    "regression_results.index.name = \"structure\"\n",
    "\n",
    "regression_results.to_excel(fig_path / \"EDSS_and_main_mri_features_NIND.xlsx\")\n",
    "regression_results"
   ]
  },
  {
   "cell_type": "code",
   "execution_count": 84,
   "id": "f2b9b260",
   "metadata": {},
   "outputs": [
    {
     "name": "stdout",
     "output_type": "stream",
     "text": [
      "                            OLS Regression Results                            \n",
      "==============================================================================\n",
      "Dep. Variable:              EDSS_sqrt   R-squared:                       0.256\n",
      "Model:                            OLS   Adj. R-squared:                  0.247\n",
      "Method:                 Least Squares   F-statistic:                     29.93\n",
      "Date:                Wed, 11 Jun 2025   Prob (F-statistic):           3.79e-26\n",
      "Time:                        15:47:01   Log-Likelihood:                -560.28\n",
      "No. Observations:                 441   AIC:                             1133.\n",
      "Df Residuals:                     435   BIC:                             1157.\n",
      "Df Model:                           5                                         \n",
      "Covariance Type:            nonrobust                                         \n",
      "======================================================================================\n",
      "                         coef    std err          t      P>|t|      [0.025      0.975]\n",
      "--------------------------------------------------------------------------------------\n",
      "Intercept             -0.0173      0.041     -0.418      0.676      -0.099       0.064\n",
      "age                    0.3357      0.047      7.094      0.000       0.243       0.429\n",
      "Female                -0.0657      0.049     -1.334      0.183      -0.162       0.031\n",
      "tiv                   -0.0727      0.050     -1.442      0.150      -0.172       0.026\n",
      "t2lv_logtrans          0.0694      0.049      1.420      0.156      -0.027       0.165\n",
      "cortical_thickness    -0.1864      0.053     -3.509      0.000      -0.291      -0.082\n",
      "==============================================================================\n",
      "Omnibus:                        4.304   Durbin-Watson:                   1.998\n",
      "Prob(Omnibus):                  0.116   Jarque-Bera (JB):                4.135\n",
      "Skew:                           0.234   Prob(JB):                        0.127\n",
      "Kurtosis:                       3.081   Cond. No.                         2.30\n",
      "==============================================================================\n",
      "\n",
      "Notes:\n",
      "[1] Standard Errors assume that the covariance matrix of the errors is correctly specified.\n"
     ]
    }
   ],
   "source": [
    "formula = \"EDSS_sqrt ~ age + Female + tiv + t2lv_logtrans + cortical_thickness\"\n",
    "res = sm.OLS.from_formula(formula, data=model_data).fit()\n",
    "print(res.summary())"
   ]
  },
  {
   "cell_type": "markdown",
   "id": "8f97bfa1",
   "metadata": {},
   "source": [
    "### Compare Thalamus Associations for PMS vs RMS\n",
    "\n",
    "Thalamus does not predict EDSS any better in PMS patients compared to RMS patients.\n",
    "\n",
    "There are other methods to try in the GPT convo (not because I think this result will change, but to practice them here so I can apply them elsewhere if desired)\n",
    "\n",
    "- Chow / SUest\n",
    "- Compare partial correlations with Fisher's z"
   ]
  },
  {
   "cell_type": "code",
   "execution_count": 26,
   "id": "eec725b0",
   "metadata": {},
   "outputs": [
    {
     "name": "stdout",
     "output_type": "stream",
     "text": [
      "                            OLS Regression Results                            \n",
      "==============================================================================\n",
      "Dep. Variable:              EDSS_sqrt   R-squared:                       0.394\n",
      "Model:                            OLS   Adj. R-squared:                  0.385\n",
      "Method:                 Least Squares   F-statistic:                     42.80\n",
      "Date:                Mon, 09 Jun 2025   Prob (F-statistic):           1.95e-46\n",
      "Time:                        13:40:01   Log-Likelihood:                -544.05\n",
      "No. Observations:                 468   AIC:                             1104.\n",
      "Df Residuals:                     460   BIC:                             1137.\n",
      "Df Model:                           7                                         \n",
      "Covariance Type:            nonrobust                                         \n",
      "==================================================================================\n",
      "                     coef    std err          t      P>|t|      [0.025      0.975]\n",
      "----------------------------------------------------------------------------------\n",
      "Intercept         -0.2137      0.042     -5.076      0.000      -0.296      -0.131\n",
      "THALAMUS_1        -0.1819      0.051     -3.581      0.000      -0.282      -0.082\n",
      "PMS                1.0298      0.134      7.708      0.000       0.767       1.292\n",
      "THALAMUS_1:PMS    -0.0274      0.088     -0.310      0.756      -0.201       0.146\n",
      "age                0.2228      0.045      5.006      0.000       0.135       0.310\n",
      "age:PMS           -0.0793      0.120     -0.658      0.511      -0.316       0.157\n",
      "Female             0.0202      0.044      0.458      0.647      -0.066       0.107\n",
      "tiv                0.0088      0.049      0.180      0.858      -0.087       0.105\n",
      "==============================================================================\n",
      "Omnibus:                       16.758   Durbin-Watson:                   2.045\n",
      "Prob(Omnibus):                  0.000   Jarque-Bera (JB):               30.559\n",
      "Skew:                           0.207   Prob(JB):                     2.31e-07\n",
      "Kurtosis:                       4.181   Cond. No.                         5.84\n",
      "==============================================================================\n",
      "\n",
      "Notes:\n",
      "[1] Standard Errors assume that the covariance matrix of the errors is correctly specified.\n"
     ]
    }
   ],
   "source": [
    "formula = \"EDSS_sqrt ~ THALAMUS_1*PMS + age*PMS + Female + tiv\"\n",
    "\n",
    "model_data = df_z.join([df_thomas_z])\n",
    "model_data = model_data[model_data.dz_type5.isin([\"PMS\", \"RMS\"])]\n",
    "model_data = pd.concat([model_data, pd.get_dummies(model_data.dz_type5, dtype=\"int\")], axis=1)\n",
    "model_data.loc[model_data['EDSS_sqrt'].isna(), 'EDSS_sqrt'] = model_data['EDSS_sqrt'].median()\n",
    "\n",
    "res = sm.OLS.from_formula(formula, data=model_data).fit()\n",
    "print(res.summary())"
   ]
  },
  {
   "cell_type": "markdown",
   "id": "edb1124a",
   "metadata": {},
   "source": [
    "Something is wrong here. Not significant if I compute standard deviation from the stderrs and plug into a t test calculator.\n",
    "\n",
    "Using a t-test here isn't the best course anyways (according to GPT, check convo \"Comparing regression betas\"), but still curious what went wrong"
   ]
  },
  {
   "cell_type": "code",
   "execution_count": 50,
   "id": "91f721f7",
   "metadata": {},
   "outputs": [
    {
     "name": "stdout",
     "output_type": "stream",
     "text": [
      "RMS:\n",
      "-0.19 ± 0.058 [-0.3, -0.089]\n",
      "\n",
      "\n",
      "PMS:\n",
      "-0.22 ± 0.072 [-0.38, -0.052]\n",
      "\n",
      "\n",
      "p = 0.0027\n"
     ]
    }
   ],
   "source": [
    "formula = \"EDSS_sqrt ~ THALAMUS_1 + age + Female + tiv\"\n",
    "\n",
    "model_data = df_z.join([df_thomas_z])\n",
    "\n",
    "model_data_RMS = model_data.copy()\n",
    "model_data_RMS = model_data_RMS[model_data_RMS['dz_type5'].isin([\"RMS\"])]\n",
    "res_RMS = sm.OLS.from_formula(formula, data=model_data_RMS).fit()\n",
    "\n",
    "\n",
    "model_data_PMS = model_data.copy()\n",
    "model_data_PMS = model_data_PMS[model_data_PMS['dz_type5'].isin([\"PMS\"])]\n",
    "res_PMS = sm.OLS.from_formula(formula, data=model_data_PMS).fit()\n",
    "\n",
    "param1 = res_RMS.params['THALAMUS_1']\n",
    "param2 = res_PMS.params['THALAMUS_1']\n",
    "\n",
    "ci1 = res_RMS.conf_int()\n",
    "ci2 = res_PMS.conf_int()\n",
    "\n",
    "se1 = res_RMS.HC0_se['THALAMUS_1']\n",
    "dof1 = res_RMS.df_resid\n",
    "se2 = res_PMS.HC0_se['THALAMUS_1']\n",
    "dof2 = res_PMS.df_resid\n",
    "\n",
    "se_diff = compute_se_diff(se1, dof1, se2, dof2)\n",
    "mean_diff = param1 - param2\n",
    "t_stat = mean_diff / se_diff\n",
    "\n",
    "dof = dof1 + dof2 - 2\n",
    "p_val = stats.t.sf(t_stat, dof)\n",
    "\n",
    "print(\"RMS:\")\n",
    "print(f\"{param1:.2} ± {se1:.2} [{ci1.loc['THALAMUS_1', 0]:.2}, {ci1.loc['THALAMUS_1', 1]:.2}]\")\n",
    "print(\"\\n\")\n",
    "print(\"PMS:\")\n",
    "print(f\"{param2:.2} ± {se2:.2} [{ci2.loc['THALAMUS_1', 0]:.2}, {ci2.loc['THALAMUS_1', 1]:.2}]\")\n",
    "print(\"\\n\")\n",
    "\n",
    "print(f\"p = {p_val:.2}\")"
   ]
  },
  {
   "cell_type": "markdown",
   "id": "5d10e7ea",
   "metadata": {},
   "source": [
    "## HIPS-THOMAS"
   ]
  },
  {
   "cell_type": "markdown",
   "id": "2e0710a0",
   "metadata": {},
   "source": [
    "Check these out:\n",
    "\n",
    "- https://pmc.ncbi.nlm.nih.gov/articles/PMC11081814/\n",
    "- https://pmc.ncbi.nlm.nih.gov/articles/PMC11087027/"
   ]
  },
  {
   "cell_type": "markdown",
   "id": "5f08a043",
   "metadata": {},
   "source": [
    "### L/R for thalamus diagram"
   ]
  },
  {
   "cell_type": "code",
   "execution_count": 136,
   "id": "9d34fe53",
   "metadata": {},
   "outputs": [
    {
     "data": {
      "application/vnd.microsoft.datawrangler.viewer.v0+json": {
       "columns": [
        {
         "name": "index",
         "rawType": "object",
         "type": "string"
        },
        {
         "name": "coef",
         "rawType": "float64",
         "type": "float"
        },
        {
         "name": "pvals",
         "rawType": "float64",
         "type": "float"
        },
        {
         "name": "p_fdr",
         "rawType": "float64",
         "type": "float"
        },
        {
         "name": "coef_bin",
         "rawType": "int64",
         "type": "integer"
        }
       ],
       "ref": "0cd01f70-a6aa-40f3-a21e-f48bf6d1fc83",
       "rows": [
        [
         "VA_4",
         "-0.10168785306947378",
         "0.10293545782922638",
         "0.3430517837209557",
         "1"
        ],
        [
         "MGN_10",
         "-0.013085789479872156",
         "0.8389487955670494",
         "0.9921072628699115",
         "3"
        ],
        [
         "VLa_5",
         "-0.0005770107603069075",
         "0.9921072628699115",
         "0.9921072628699115",
         "4"
        ],
        [
         "VLP_6",
         "0.013163055772627223",
         "0.8676498250301057",
         "0.9921072628699115",
         "4"
        ],
        [
         "VPL_7",
         "0.0011273448021606497",
         "0.9868126695223711",
         "0.9921072628699115",
         "4"
        ],
        [
         "LGN_9",
         "0.05920536907434766",
         "0.2836503508486637",
         "0.4727505847477728",
         "6"
        ],
        [
         "CM_11",
         "0.11024030314509119",
         "0.05818430442084073",
         "0.29092152210420363",
         "8"
        ],
        [
         "MD_Pf_12",
         "0.10591365372159431",
         "0.2311037907907981",
         "0.4622075815815962",
         "8"
        ],
        [
         "Pul_8",
         "0.14207295395981084",
         "0.13722071348838227",
         "0.3430517837209557",
         "9"
        ],
        [
         "AV_2",
         "0.16451949223811432",
         "0.005955859961938326",
         "0.05955859961938326",
         "10"
        ]
       ],
       "shape": {
        "columns": 4,
        "rows": 10
       }
      },
      "text/html": [
       "<div>\n",
       "<style scoped>\n",
       "    .dataframe tbody tr th:only-of-type {\n",
       "        vertical-align: middle;\n",
       "    }\n",
       "\n",
       "    .dataframe tbody tr th {\n",
       "        vertical-align: top;\n",
       "    }\n",
       "\n",
       "    .dataframe thead th {\n",
       "        text-align: right;\n",
       "    }\n",
       "</style>\n",
       "<table border=\"1\" class=\"dataframe\">\n",
       "  <thead>\n",
       "    <tr style=\"text-align: right;\">\n",
       "      <th></th>\n",
       "      <th>coef</th>\n",
       "      <th>pvals</th>\n",
       "      <th>p_fdr</th>\n",
       "      <th>coef_bin</th>\n",
       "    </tr>\n",
       "  </thead>\n",
       "  <tbody>\n",
       "    <tr>\n",
       "      <th>VA_4</th>\n",
       "      <td>-0.101688</td>\n",
       "      <td>0.102935</td>\n",
       "      <td>0.343052</td>\n",
       "      <td>1</td>\n",
       "    </tr>\n",
       "    <tr>\n",
       "      <th>MGN_10</th>\n",
       "      <td>-0.013086</td>\n",
       "      <td>0.838949</td>\n",
       "      <td>0.992107</td>\n",
       "      <td>3</td>\n",
       "    </tr>\n",
       "    <tr>\n",
       "      <th>VLa_5</th>\n",
       "      <td>-0.000577</td>\n",
       "      <td>0.992107</td>\n",
       "      <td>0.992107</td>\n",
       "      <td>4</td>\n",
       "    </tr>\n",
       "    <tr>\n",
       "      <th>VLP_6</th>\n",
       "      <td>0.013163</td>\n",
       "      <td>0.867650</td>\n",
       "      <td>0.992107</td>\n",
       "      <td>4</td>\n",
       "    </tr>\n",
       "    <tr>\n",
       "      <th>VPL_7</th>\n",
       "      <td>0.001127</td>\n",
       "      <td>0.986813</td>\n",
       "      <td>0.992107</td>\n",
       "      <td>4</td>\n",
       "    </tr>\n",
       "    <tr>\n",
       "      <th>LGN_9</th>\n",
       "      <td>0.059205</td>\n",
       "      <td>0.283650</td>\n",
       "      <td>0.472751</td>\n",
       "      <td>6</td>\n",
       "    </tr>\n",
       "    <tr>\n",
       "      <th>CM_11</th>\n",
       "      <td>0.110240</td>\n",
       "      <td>0.058184</td>\n",
       "      <td>0.290922</td>\n",
       "      <td>8</td>\n",
       "    </tr>\n",
       "    <tr>\n",
       "      <th>MD_Pf_12</th>\n",
       "      <td>0.105914</td>\n",
       "      <td>0.231104</td>\n",
       "      <td>0.462208</td>\n",
       "      <td>8</td>\n",
       "    </tr>\n",
       "    <tr>\n",
       "      <th>Pul_8</th>\n",
       "      <td>0.142073</td>\n",
       "      <td>0.137221</td>\n",
       "      <td>0.343052</td>\n",
       "      <td>9</td>\n",
       "    </tr>\n",
       "    <tr>\n",
       "      <th>AV_2</th>\n",
       "      <td>0.164519</td>\n",
       "      <td>0.005956</td>\n",
       "      <td>0.059559</td>\n",
       "      <td>10</td>\n",
       "    </tr>\n",
       "  </tbody>\n",
       "</table>\n",
       "</div>"
      ],
      "text/plain": [
       "              coef     pvals     p_fdr  coef_bin\n",
       "VA_4     -0.101688  0.102935  0.343052         1\n",
       "MGN_10   -0.013086  0.838949  0.992107         3\n",
       "VLa_5    -0.000577  0.992107  0.992107         4\n",
       "VLP_6     0.013163  0.867650  0.992107         4\n",
       "VPL_7     0.001127  0.986813  0.992107         4\n",
       "LGN_9     0.059205  0.283650  0.472751         6\n",
       "CM_11     0.110240  0.058184  0.290922         8\n",
       "MD_Pf_12  0.105914  0.231104  0.462208         8\n",
       "Pul_8     0.142073  0.137221  0.343052         9\n",
       "AV_2      0.164519  0.005956  0.059559        10"
      ]
     },
     "execution_count": 136,
     "metadata": {},
     "output_type": "execute_result"
    }
   ],
   "source": [
    "model_data = df_z.join(df_thomas_left_z)\n",
    "model_data['whole_thalamus'] = df_thomas_z['THALAMUS_1']\n",
    "model_data = model_data[model_data['dz_type5'].isin([\"RMS\", \"PMS\"])]\n",
    "covariates = \"age + Female + tiv + whole_thalamus\"\n",
    "\n",
    "pvals = {}\n",
    "coefs = {}\n",
    "stderrs = {}\n",
    "llci = {}\n",
    "ulci = {}\n",
    "ci_str = {}\n",
    "r2 = {}\n",
    "\n",
    "outcome = \"SDMT\"\n",
    "\n",
    "structs = thalamic_nuclei\n",
    "all_results = {}\n",
    "for x in structs:\n",
    "    col = hips_thomas_ref[x]\n",
    "    formula = f\"{outcome} ~ {col}*dzdur + {covariates}\"\n",
    "    res = sm.OLS.from_formula(formula, data=model_data).fit()\n",
    "    all_results[col] = res\n",
    "    pvals[col] = res.pvalues[col]\n",
    "    coefs[col] = res.params[col]\n",
    "    stderrs[col] = res.HC0_se[col]\n",
    "    ci = res.conf_int()\n",
    "    llci[col] = ci.loc[col, 0]\n",
    "    ulci[col] = ci.loc[col, 1]\n",
    "    ci_str[col] = f\"[{llci[col]:.6f}, {ulci[col]:.6f}]\"\n",
    "    r2[col] = res.rsquared_adj\n",
    "\n",
    "regression_results = pd.DataFrame({\"coef\": coefs, \"pvals\": pvals})\n",
    "regression_results['p_fdr'] = stats.false_discovery_control(regression_results['pvals'], method='bh')\n",
    "bins = np.linspace(regression_results['coef'].min(), regression_results.coef.max(), 10)\n",
    "regression_results['coef_bin'] = np.digitize(regression_results['coef'], bins)\n",
    "regression_results.sort_values(by=\"coef_bin\")"
   ]
  },
  {
   "cell_type": "code",
   "execution_count": 135,
   "id": "95d3f775",
   "metadata": {},
   "outputs": [
    {
     "data": {
      "application/vnd.microsoft.datawrangler.viewer.v0+json": {
       "columns": [
        {
         "name": "index",
         "rawType": "object",
         "type": "string"
        },
        {
         "name": "coef",
         "rawType": "float64",
         "type": "float"
        },
        {
         "name": "pvals",
         "rawType": "float64",
         "type": "float"
        },
        {
         "name": "p_fdr",
         "rawType": "float64",
         "type": "float"
        },
        {
         "name": "coef_bin",
         "rawType": "int64",
         "type": "integer"
        }
       ],
       "ref": "5a9c9869-54c4-43ca-afa2-5644e4248d6c",
       "rows": [
        [
         "MD_Pf_12",
         "-0.13675811253427866",
         "0.11570826993452968",
         "0.5785413496726484",
         "1"
        ],
        [
         "MGN_10",
         "-0.07367281453839931",
         "0.2550853283979691",
         "0.8502844279932303",
         "3"
        ],
        [
         "Pul_8",
         "-0.05509508461594668",
         "0.5966110456177498",
         "0.9867179174718128",
         "4"
        ],
        [
         "AV_2",
         "-0.003956812822263515",
         "0.9469864975846841",
         "0.9867179174718128",
         "6"
        ],
        [
         "VA_4",
         "0.017357566474050862",
         "0.788785186208736",
         "0.9867179174718128",
         "6"
        ],
        [
         "VLa_5",
         "0.020580243231671024",
         "0.7234698039489975",
         "0.9867179174718128",
         "6"
        ],
        [
         "VPL_7",
         "-0.003041271872699771",
         "0.9636384124583055",
         "0.9867179174718128",
         "6"
        ],
        [
         "CM_11",
         "0.0009890301073047945",
         "0.9867179174718128",
         "0.9867179174718128",
         "6"
        ],
        [
         "VLP_6",
         "0.04839169228345517",
         "0.5397012923456559",
         "0.9867179174718128",
         "8"
        ],
        [
         "LGN_9",
         "0.10064420134430417",
         "0.08897830245805462",
         "0.5785413496726484",
         "10"
        ]
       ],
       "shape": {
        "columns": 4,
        "rows": 10
       }
      },
      "text/html": [
       "<div>\n",
       "<style scoped>\n",
       "    .dataframe tbody tr th:only-of-type {\n",
       "        vertical-align: middle;\n",
       "    }\n",
       "\n",
       "    .dataframe tbody tr th {\n",
       "        vertical-align: top;\n",
       "    }\n",
       "\n",
       "    .dataframe thead th {\n",
       "        text-align: right;\n",
       "    }\n",
       "</style>\n",
       "<table border=\"1\" class=\"dataframe\">\n",
       "  <thead>\n",
       "    <tr style=\"text-align: right;\">\n",
       "      <th></th>\n",
       "      <th>coef</th>\n",
       "      <th>pvals</th>\n",
       "      <th>p_fdr</th>\n",
       "      <th>coef_bin</th>\n",
       "    </tr>\n",
       "  </thead>\n",
       "  <tbody>\n",
       "    <tr>\n",
       "      <th>MD_Pf_12</th>\n",
       "      <td>-0.136758</td>\n",
       "      <td>0.115708</td>\n",
       "      <td>0.578541</td>\n",
       "      <td>1</td>\n",
       "    </tr>\n",
       "    <tr>\n",
       "      <th>MGN_10</th>\n",
       "      <td>-0.073673</td>\n",
       "      <td>0.255085</td>\n",
       "      <td>0.850284</td>\n",
       "      <td>3</td>\n",
       "    </tr>\n",
       "    <tr>\n",
       "      <th>Pul_8</th>\n",
       "      <td>-0.055095</td>\n",
       "      <td>0.596611</td>\n",
       "      <td>0.986718</td>\n",
       "      <td>4</td>\n",
       "    </tr>\n",
       "    <tr>\n",
       "      <th>AV_2</th>\n",
       "      <td>-0.003957</td>\n",
       "      <td>0.946986</td>\n",
       "      <td>0.986718</td>\n",
       "      <td>6</td>\n",
       "    </tr>\n",
       "    <tr>\n",
       "      <th>VA_4</th>\n",
       "      <td>0.017358</td>\n",
       "      <td>0.788785</td>\n",
       "      <td>0.986718</td>\n",
       "      <td>6</td>\n",
       "    </tr>\n",
       "    <tr>\n",
       "      <th>VLa_5</th>\n",
       "      <td>0.020580</td>\n",
       "      <td>0.723470</td>\n",
       "      <td>0.986718</td>\n",
       "      <td>6</td>\n",
       "    </tr>\n",
       "    <tr>\n",
       "      <th>VPL_7</th>\n",
       "      <td>-0.003041</td>\n",
       "      <td>0.963638</td>\n",
       "      <td>0.986718</td>\n",
       "      <td>6</td>\n",
       "    </tr>\n",
       "    <tr>\n",
       "      <th>CM_11</th>\n",
       "      <td>0.000989</td>\n",
       "      <td>0.986718</td>\n",
       "      <td>0.986718</td>\n",
       "      <td>6</td>\n",
       "    </tr>\n",
       "    <tr>\n",
       "      <th>VLP_6</th>\n",
       "      <td>0.048392</td>\n",
       "      <td>0.539701</td>\n",
       "      <td>0.986718</td>\n",
       "      <td>8</td>\n",
       "    </tr>\n",
       "    <tr>\n",
       "      <th>LGN_9</th>\n",
       "      <td>0.100644</td>\n",
       "      <td>0.088978</td>\n",
       "      <td>0.578541</td>\n",
       "      <td>10</td>\n",
       "    </tr>\n",
       "  </tbody>\n",
       "</table>\n",
       "</div>"
      ],
      "text/plain": [
       "              coef     pvals     p_fdr  coef_bin\n",
       "MD_Pf_12 -0.136758  0.115708  0.578541         1\n",
       "MGN_10   -0.073673  0.255085  0.850284         3\n",
       "Pul_8    -0.055095  0.596611  0.986718         4\n",
       "AV_2     -0.003957  0.946986  0.986718         6\n",
       "VA_4      0.017358  0.788785  0.986718         6\n",
       "VLa_5     0.020580  0.723470  0.986718         6\n",
       "VPL_7    -0.003041  0.963638  0.986718         6\n",
       "CM_11     0.000989  0.986718  0.986718         6\n",
       "VLP_6     0.048392  0.539701  0.986718         8\n",
       "LGN_9     0.100644  0.088978  0.578541        10"
      ]
     },
     "execution_count": 135,
     "metadata": {},
     "output_type": "execute_result"
    }
   ],
   "source": [
    "model_data = df_z.join(df_thomas_right_z)\n",
    "model_data['whole_thalamus'] = df_thomas_z['THALAMUS_1']\n",
    "\n",
    "model_data = model_data[model_data['dz_type5'].isin([\"RMS\", \"PMS\"])]\n",
    "covariates = \"age + Female + tiv + whole_thalamus\"\n",
    "\n",
    "pvals = {}\n",
    "coefs = {}\n",
    "stderrs = {}\n",
    "llci = {}\n",
    "ulci = {}\n",
    "ci_str = {}\n",
    "r2 = {}\n",
    "\n",
    "outcome = \"SDMT\"\n",
    "\n",
    "structs = thalamic_nuclei\n",
    "all_results = {}\n",
    "for x in structs:\n",
    "    col = hips_thomas_ref[x]\n",
    "    formula = f\"{outcome} ~ {col}*dzdur + {covariates}\"\n",
    "    res = sm.OLS.from_formula(formula, data=model_data).fit()\n",
    "    all_results[col] = res\n",
    "    pvals[col] = res.pvalues[col]\n",
    "    coefs[col] = res.params[col]\n",
    "    stderrs[col] = res.HC0_se[col]\n",
    "    ci = res.conf_int()\n",
    "    llci[col] = ci.loc[col, 0]\n",
    "    ulci[col] = ci.loc[col, 1]\n",
    "    ci_str[col] = f\"[{llci[col]:.6f}, {ulci[col]:.6f}]\"\n",
    "    r2[col] = res.rsquared_adj\n",
    "\n",
    "regression_results = pd.DataFrame({\"coef\": coefs, \"pvals\": pvals})\n",
    "regression_results['p_fdr'] = stats.false_discovery_control(regression_results['pvals'], method='bh')\n",
    "bins = np.linspace(regression_results['coef'].min(), regression_results.coef.max(), 10)\n",
    "regression_results['coef_bin'] = np.digitize(regression_results['coef'], bins)\n",
    "regression_results.sort_values(by=\"coef_bin\")"
   ]
  },
  {
   "cell_type": "markdown",
   "id": "ac1c6a50",
   "metadata": {},
   "source": [
    "### Bilateral Thalamus"
   ]
  },
  {
   "cell_type": "code",
   "execution_count": null,
   "id": "3137bdaf",
   "metadata": {},
   "outputs": [
    {
     "data": {
      "application/vnd.microsoft.datawrangler.viewer.v0+json": {
       "columns": [
        {
         "name": "index",
         "rawType": "object",
         "type": "string"
        },
        {
         "name": "coef",
         "rawType": "float64",
         "type": "float"
        },
        {
         "name": "stderr",
         "rawType": "float64",
         "type": "float"
        },
        {
         "name": "llci",
         "rawType": "float64",
         "type": "float"
        },
        {
         "name": "ulci",
         "rawType": "float64",
         "type": "float"
        },
        {
         "name": "pvals",
         "rawType": "float64",
         "type": "float"
        },
        {
         "name": "ci",
         "rawType": "object",
         "type": "string"
        },
        {
         "name": "p_fdr",
         "rawType": "float64",
         "type": "float"
        },
        {
         "name": "R2",
         "rawType": "float64",
         "type": "float"
        }
       ],
       "ref": "e2d77f15-b4a1-425d-95b2-69be4a24a487",
       "rows": [
        [
         "VA_4",
         "0.21591380384691086",
         "0.057732281702392384",
         "0.10544393613008438",
         "0.3263836715637374",
         "0.00014015713299139724",
         "[0.105444, 0.326384]",
         "0.00014015713299139724",
         "0.1877018384471587"
        ],
        [
         "VLa_5",
         "0.2280453664459926",
         "0.05352695355866136",
         "0.1194900655100965",
         "0.3366006673818887",
         "4.356906091700214e-05",
         "[0.119490, 0.336601]",
         "4.8410067685557936e-05",
         "0.1905294813925862"
        ],
        [
         "MGN_10",
         "0.2333132696700149",
         "0.054357969338673706",
         "0.1350543612006483",
         "0.3315721781393815",
         "4.054489011217048e-06",
         "[0.135054, 0.331572]",
         "5.06811126402131e-06",
         "0.2251824300708547"
        ],
        [
         "LGN_9",
         "0.2653883340525885",
         "0.04712138967028831",
         "0.17699849806527246",
         "0.3537781700399045",
         "7.15674584021771e-09",
         "[0.176998, 0.353778]",
         "1.431349168043542e-08",
         "0.24440407037406486"
        ],
        [
         "VPL_7",
         "0.27849576727739705",
         "0.05134084543390388",
         "0.18298561439134578",
         "0.37400592016344836",
         "1.84284116723527e-08",
         "[0.182986, 0.374006]",
         "2.6326302389075287e-08",
         "0.23556673800350947"
        ],
        [
         "CM_11",
         "0.2866016255742937",
         "0.05019286986509744",
         "0.18860840513029498",
         "0.3845948460182924",
         "1.6750847967418252e-08",
         "[0.188608, 0.384595]",
         "2.6326302389075287e-08",
         "0.22316987237324182"
        ],
        [
         "MD_Pf_12",
         "0.2952475470064788",
         "0.05166895521844969",
         "0.20188637822430344",
         "0.3886087157886542",
         "1.1769074837311236e-09",
         "[0.201886, 0.388609]",
         "5.884537418655619e-09",
         "0.23810118132981417"
        ],
        [
         "AV_2",
         "0.2983520029814011",
         "0.04701647315515384",
         "0.20057907649196227",
         "0.3961249294708399",
         "4.149486495921301e-09",
         "[0.200579, 0.396125]",
         "1.0373716239803252e-08",
         "0.22306217760877634"
        ],
        [
         "VLP_6",
         "0.3148822644600816",
         "0.0565237418530193",
         "0.21309579194155737",
         "0.41666873697860585",
         "2.5838920334845835e-09",
         "[0.213096, 0.416669]",
         "8.612973444948613e-09",
         "0.23398609322922903"
        ],
        [
         "Pul_8",
         "0.32264703030621106",
         "0.053282565177122904",
         "0.23148153492551335",
         "0.41381252568690874",
         "1.254862418913882e-11",
         "[0.231482, 0.413813]",
         "1.254862418913882e-10",
         "0.25880045908128724"
        ]
       ],
       "shape": {
        "columns": 8,
        "rows": 10
       }
      },
      "text/html": [
       "<div>\n",
       "<style scoped>\n",
       "    .dataframe tbody tr th:only-of-type {\n",
       "        vertical-align: middle;\n",
       "    }\n",
       "\n",
       "    .dataframe tbody tr th {\n",
       "        vertical-align: top;\n",
       "    }\n",
       "\n",
       "    .dataframe thead th {\n",
       "        text-align: right;\n",
       "    }\n",
       "</style>\n",
       "<table border=\"1\" class=\"dataframe\">\n",
       "  <thead>\n",
       "    <tr style=\"text-align: right;\">\n",
       "      <th></th>\n",
       "      <th>coef</th>\n",
       "      <th>stderr</th>\n",
       "      <th>llci</th>\n",
       "      <th>ulci</th>\n",
       "      <th>pvals</th>\n",
       "      <th>ci</th>\n",
       "      <th>p_fdr</th>\n",
       "      <th>R2</th>\n",
       "    </tr>\n",
       "  </thead>\n",
       "  <tbody>\n",
       "    <tr>\n",
       "      <th>VA_4</th>\n",
       "      <td>0.215914</td>\n",
       "      <td>0.057732</td>\n",
       "      <td>0.105444</td>\n",
       "      <td>0.326384</td>\n",
       "      <td>1.401571e-04</td>\n",
       "      <td>[0.105444, 0.326384]</td>\n",
       "      <td>1.401571e-04</td>\n",
       "      <td>0.187702</td>\n",
       "    </tr>\n",
       "    <tr>\n",
       "      <th>VLa_5</th>\n",
       "      <td>0.228045</td>\n",
       "      <td>0.053527</td>\n",
       "      <td>0.119490</td>\n",
       "      <td>0.336601</td>\n",
       "      <td>4.356906e-05</td>\n",
       "      <td>[0.119490, 0.336601]</td>\n",
       "      <td>4.841007e-05</td>\n",
       "      <td>0.190529</td>\n",
       "    </tr>\n",
       "    <tr>\n",
       "      <th>MGN_10</th>\n",
       "      <td>0.233313</td>\n",
       "      <td>0.054358</td>\n",
       "      <td>0.135054</td>\n",
       "      <td>0.331572</td>\n",
       "      <td>4.054489e-06</td>\n",
       "      <td>[0.135054, 0.331572]</td>\n",
       "      <td>5.068111e-06</td>\n",
       "      <td>0.225182</td>\n",
       "    </tr>\n",
       "    <tr>\n",
       "      <th>LGN_9</th>\n",
       "      <td>0.265388</td>\n",
       "      <td>0.047121</td>\n",
       "      <td>0.176998</td>\n",
       "      <td>0.353778</td>\n",
       "      <td>7.156746e-09</td>\n",
       "      <td>[0.176998, 0.353778]</td>\n",
       "      <td>1.431349e-08</td>\n",
       "      <td>0.244404</td>\n",
       "    </tr>\n",
       "    <tr>\n",
       "      <th>VPL_7</th>\n",
       "      <td>0.278496</td>\n",
       "      <td>0.051341</td>\n",
       "      <td>0.182986</td>\n",
       "      <td>0.374006</td>\n",
       "      <td>1.842841e-08</td>\n",
       "      <td>[0.182986, 0.374006]</td>\n",
       "      <td>2.632630e-08</td>\n",
       "      <td>0.235567</td>\n",
       "    </tr>\n",
       "    <tr>\n",
       "      <th>CM_11</th>\n",
       "      <td>0.286602</td>\n",
       "      <td>0.050193</td>\n",
       "      <td>0.188608</td>\n",
       "      <td>0.384595</td>\n",
       "      <td>1.675085e-08</td>\n",
       "      <td>[0.188608, 0.384595]</td>\n",
       "      <td>2.632630e-08</td>\n",
       "      <td>0.223170</td>\n",
       "    </tr>\n",
       "    <tr>\n",
       "      <th>MD_Pf_12</th>\n",
       "      <td>0.295248</td>\n",
       "      <td>0.051669</td>\n",
       "      <td>0.201886</td>\n",
       "      <td>0.388609</td>\n",
       "      <td>1.176907e-09</td>\n",
       "      <td>[0.201886, 0.388609]</td>\n",
       "      <td>5.884537e-09</td>\n",
       "      <td>0.238101</td>\n",
       "    </tr>\n",
       "    <tr>\n",
       "      <th>AV_2</th>\n",
       "      <td>0.298352</td>\n",
       "      <td>0.047016</td>\n",
       "      <td>0.200579</td>\n",
       "      <td>0.396125</td>\n",
       "      <td>4.149486e-09</td>\n",
       "      <td>[0.200579, 0.396125]</td>\n",
       "      <td>1.037372e-08</td>\n",
       "      <td>0.223062</td>\n",
       "    </tr>\n",
       "    <tr>\n",
       "      <th>VLP_6</th>\n",
       "      <td>0.314882</td>\n",
       "      <td>0.056524</td>\n",
       "      <td>0.213096</td>\n",
       "      <td>0.416669</td>\n",
       "      <td>2.583892e-09</td>\n",
       "      <td>[0.213096, 0.416669]</td>\n",
       "      <td>8.612973e-09</td>\n",
       "      <td>0.233986</td>\n",
       "    </tr>\n",
       "    <tr>\n",
       "      <th>Pul_8</th>\n",
       "      <td>0.322647</td>\n",
       "      <td>0.053283</td>\n",
       "      <td>0.231482</td>\n",
       "      <td>0.413813</td>\n",
       "      <td>1.254862e-11</td>\n",
       "      <td>[0.231482, 0.413813]</td>\n",
       "      <td>1.254862e-10</td>\n",
       "      <td>0.258800</td>\n",
       "    </tr>\n",
       "  </tbody>\n",
       "</table>\n",
       "</div>"
      ],
      "text/plain": [
       "              coef    stderr      llci      ulci         pvals  \\\n",
       "VA_4      0.215914  0.057732  0.105444  0.326384  1.401571e-04   \n",
       "VLa_5     0.228045  0.053527  0.119490  0.336601  4.356906e-05   \n",
       "MGN_10    0.233313  0.054358  0.135054  0.331572  4.054489e-06   \n",
       "LGN_9     0.265388  0.047121  0.176998  0.353778  7.156746e-09   \n",
       "VPL_7     0.278496  0.051341  0.182986  0.374006  1.842841e-08   \n",
       "CM_11     0.286602  0.050193  0.188608  0.384595  1.675085e-08   \n",
       "MD_Pf_12  0.295248  0.051669  0.201886  0.388609  1.176907e-09   \n",
       "AV_2      0.298352  0.047016  0.200579  0.396125  4.149486e-09   \n",
       "VLP_6     0.314882  0.056524  0.213096  0.416669  2.583892e-09   \n",
       "Pul_8     0.322647  0.053283  0.231482  0.413813  1.254862e-11   \n",
       "\n",
       "                            ci         p_fdr        R2  \n",
       "VA_4      [0.105444, 0.326384]  1.401571e-04  0.187702  \n",
       "VLa_5     [0.119490, 0.336601]  4.841007e-05  0.190529  \n",
       "MGN_10    [0.135054, 0.331572]  5.068111e-06  0.225182  \n",
       "LGN_9     [0.176998, 0.353778]  1.431349e-08  0.244404  \n",
       "VPL_7     [0.182986, 0.374006]  2.632630e-08  0.235567  \n",
       "CM_11     [0.188608, 0.384595]  2.632630e-08  0.223170  \n",
       "MD_Pf_12  [0.201886, 0.388609]  5.884537e-09  0.238101  \n",
       "AV_2      [0.200579, 0.396125]  1.037372e-08  0.223062  \n",
       "VLP_6     [0.213096, 0.416669]  8.612973e-09  0.233986  \n",
       "Pul_8     [0.231482, 0.413813]  1.254862e-10  0.258800  "
      ]
     },
     "execution_count": 110,
     "metadata": {},
     "output_type": "execute_result"
    }
   ],
   "source": [
    "# data_to_sample = df_z.join(df_thomas_z).reset_index()\n",
    "# inds = np.random.randint(0, len(data_to_sample), size=(300,))\n",
    "\n",
    "# rng = np.random.default_rng()\n",
    "# inds = rng.choice(len(data_to_sample), 200)\n",
    "# model_data = data_to_sample.loc[inds, :].set_index(\"subid\")\n",
    "\n",
    "model_data = df_z.join(df_thomas_z)\n",
    "model_data = model_data[model_data['dz_type5'].isin([\"RMS\", \"PMS\"])]\n",
    "covariates = \"age + Female + tiv\"\n",
    "\n",
    "pvals = {}\n",
    "coefs = {}\n",
    "stderrs = {}\n",
    "llci = {}\n",
    "ulci = {}\n",
    "ci_str = {}\n",
    "r2 = {}\n",
    "\n",
    "outcome = \"SDMT\"\n",
    "\n",
    "structs = thalamic_nuclei\n",
    "all_results = {}\n",
    "for x in structs:\n",
    "    col = hips_thomas_ref[x]\n",
    "    formula = f\"{outcome} ~ {col}*dzdur + {covariates}\"\n",
    "    res = sm.OLS.from_formula(formula, data=model_data).fit()\n",
    "    all_results[col] = res\n",
    "    pvals[col] = res.pvalues[col]\n",
    "    coefs[col] = res.params[col]\n",
    "    stderrs[col] = res.HC0_se[col]\n",
    "    ci = res.conf_int()\n",
    "    llci[col] = ci.loc[col, 0]\n",
    "    ulci[col] = ci.loc[col, 1]\n",
    "    ci_str[col] = f\"[{llci[col]:.6f}, {ulci[col]:.6f}]\"\n",
    "    r2[col] = res.rsquared_adj\n",
    "\n",
    "\n",
    "\n",
    "regression_results = pd.DataFrame({\"coef\": coefs, \"stderr\": stderrs, \"llci\": llci, \"ulci\": ulci, \"pvals\": pvals, \"ci\": ci_str})\n",
    "regression_results['p_fdr'] = stats.false_discovery_control(\n",
    "    regression_results['pvals'], method='bh'\n",
    ")\n",
    "regression_results['R2'] = r2\n",
    "regression_results.sort_values(by=\"coef\", inplace=True)\n",
    "# regression_results.to_excel(fig_path / \"thalamic_nuclei.xlsx\")\n",
    "main_coefs = np.array([coefs[hips_thomas_ref[x]] for x in structs])\n",
    "\n",
    "regression_results"
   ]
  },
  {
   "cell_type": "code",
   "execution_count": 9,
   "id": "ba518c7f",
   "metadata": {},
   "outputs": [
    {
     "data": {
      "application/vnd.microsoft.datawrangler.viewer.v0+json": {
       "columns": [
        {
         "name": "index",
         "rawType": "object",
         "type": "string"
        },
        {
         "name": "coef",
         "rawType": "float64",
         "type": "float"
        },
        {
         "name": "stderr",
         "rawType": "float64",
         "type": "float"
        },
        {
         "name": "llci",
         "rawType": "float64",
         "type": "float"
        },
        {
         "name": "ulci",
         "rawType": "float64",
         "type": "float"
        },
        {
         "name": "pvals",
         "rawType": "float64",
         "type": "float"
        },
        {
         "name": "ci",
         "rawType": "object",
         "type": "string"
        },
        {
         "name": "p_fdr",
         "rawType": "float64",
         "type": "float"
        },
        {
         "name": "R2",
         "rawType": "float64",
         "type": "float"
        }
       ],
       "ref": "490c9725-53a0-48ef-89d2-20eaf55b32a6",
       "rows": [
        [
         "AV_2",
         "-0.1565758942910722",
         "0.04734666641868823",
         "-0.24418048801381004",
         "-0.06897130056833434",
         "0.0004890306141800109",
         "[-0.244180, -0.068971]",
         "0.0024451530709000543",
         "0.2623404016852835"
        ],
        [
         "LGN_9",
         "-0.12874857591627925",
         "0.036063165065310716",
         "-0.2088949784100993",
         "-0.048602173422459205",
         "0.0017016107227851582",
         "[-0.208895, -0.048602]",
         "0.004254026806962895",
         "0.2623894768672129"
        ],
        [
         "Pul_8",
         "-0.12579792059706615",
         "0.03940773403053035",
         "-0.2071896911193632",
         "-0.04440615007476911",
         "0.0025251801134417943",
         "[-0.207190, -0.044406]",
         "0.005050360226883589",
         "0.26403357545755335"
        ],
        [
         "VPL_7",
         "-0.026467092526330352",
         "0.03966049229703469",
         "-0.10907495509970408",
         "0.056140770047043376",
         "0.5292328598527327",
         "[-0.109075, 0.056141]",
         "0.5880365109474808",
         "0.24224679991372378"
        ],
        [
         "MD_Pf_12",
         "0.005568614263444712",
         "0.03872578145363302",
         "-0.07566207407459222",
         "0.08679930260148164",
         "0.8928883565560437",
         "[-0.075662, 0.086799]",
         "0.8928883565560437",
         "0.24141474063136703"
        ],
        [
         "VLP_6",
         "0.04340247499501584",
         "0.042302798385932955",
         "-0.0432490077658299",
         "0.13005395775586157",
         "0.3254580120777071",
         "[-0.043249, 0.130054]",
         "0.40682251509713385",
         "0.24613975132374977"
        ],
        [
         "MGN_10",
         "0.07525511854197048",
         "0.04541346712700278",
         "-0.01732824080417525",
         "0.1678384778881162",
         "0.1108703192008603",
         "[-0.017328, 0.167838]",
         "0.1583861702869433",
         "0.252931356748316"
        ],
        [
         "CM_11",
         "0.08969120156850031",
         "0.04500847517476377",
         "0.00315160103246781",
         "0.17623080210453282",
         "0.04225313370283769",
         "[0.003152, 0.176231]",
         "0.07042188950472948",
         "0.2501742728878871"
        ],
        [
         "VLa_5",
         "0.14063461829497428",
         "0.0425051369696183",
         "0.054622235139185626",
         "0.22664700145076294",
         "0.001407031485255093",
         "[0.054622, 0.226647]",
         "0.004254026806962895",
         "0.2743053382454994"
        ],
        [
         "VA_4",
         "0.18989532686869745",
         "0.0404252273693303",
         "0.10527648526918677",
         "0.27451416846820814",
         "1.2949658747317553e-05",
         "[0.105276, 0.274514]",
         "0.00012949658747317552",
         "0.2941355740201812"
        ]
       ],
       "shape": {
        "columns": 8,
        "rows": 10
       }
      },
      "text/html": [
       "<div>\n",
       "<style scoped>\n",
       "    .dataframe tbody tr th:only-of-type {\n",
       "        vertical-align: middle;\n",
       "    }\n",
       "\n",
       "    .dataframe tbody tr th {\n",
       "        vertical-align: top;\n",
       "    }\n",
       "\n",
       "    .dataframe thead th {\n",
       "        text-align: right;\n",
       "    }\n",
       "</style>\n",
       "<table border=\"1\" class=\"dataframe\">\n",
       "  <thead>\n",
       "    <tr style=\"text-align: right;\">\n",
       "      <th></th>\n",
       "      <th>coef</th>\n",
       "      <th>stderr</th>\n",
       "      <th>llci</th>\n",
       "      <th>ulci</th>\n",
       "      <th>pvals</th>\n",
       "      <th>ci</th>\n",
       "      <th>p_fdr</th>\n",
       "      <th>R2</th>\n",
       "    </tr>\n",
       "  </thead>\n",
       "  <tbody>\n",
       "    <tr>\n",
       "      <th>AV_2</th>\n",
       "      <td>-0.156576</td>\n",
       "      <td>0.047347</td>\n",
       "      <td>-0.244180</td>\n",
       "      <td>-0.068971</td>\n",
       "      <td>0.000489</td>\n",
       "      <td>[-0.244180, -0.068971]</td>\n",
       "      <td>0.002445</td>\n",
       "      <td>0.262340</td>\n",
       "    </tr>\n",
       "    <tr>\n",
       "      <th>LGN_9</th>\n",
       "      <td>-0.128749</td>\n",
       "      <td>0.036063</td>\n",
       "      <td>-0.208895</td>\n",
       "      <td>-0.048602</td>\n",
       "      <td>0.001702</td>\n",
       "      <td>[-0.208895, -0.048602]</td>\n",
       "      <td>0.004254</td>\n",
       "      <td>0.262389</td>\n",
       "    </tr>\n",
       "    <tr>\n",
       "      <th>Pul_8</th>\n",
       "      <td>-0.125798</td>\n",
       "      <td>0.039408</td>\n",
       "      <td>-0.207190</td>\n",
       "      <td>-0.044406</td>\n",
       "      <td>0.002525</td>\n",
       "      <td>[-0.207190, -0.044406]</td>\n",
       "      <td>0.005050</td>\n",
       "      <td>0.264034</td>\n",
       "    </tr>\n",
       "    <tr>\n",
       "      <th>VPL_7</th>\n",
       "      <td>-0.026467</td>\n",
       "      <td>0.039660</td>\n",
       "      <td>-0.109075</td>\n",
       "      <td>0.056141</td>\n",
       "      <td>0.529233</td>\n",
       "      <td>[-0.109075, 0.056141]</td>\n",
       "      <td>0.588037</td>\n",
       "      <td>0.242247</td>\n",
       "    </tr>\n",
       "    <tr>\n",
       "      <th>MD_Pf_12</th>\n",
       "      <td>0.005569</td>\n",
       "      <td>0.038726</td>\n",
       "      <td>-0.075662</td>\n",
       "      <td>0.086799</td>\n",
       "      <td>0.892888</td>\n",
       "      <td>[-0.075662, 0.086799]</td>\n",
       "      <td>0.892888</td>\n",
       "      <td>0.241415</td>\n",
       "    </tr>\n",
       "    <tr>\n",
       "      <th>VLP_6</th>\n",
       "      <td>0.043402</td>\n",
       "      <td>0.042303</td>\n",
       "      <td>-0.043249</td>\n",
       "      <td>0.130054</td>\n",
       "      <td>0.325458</td>\n",
       "      <td>[-0.043249, 0.130054]</td>\n",
       "      <td>0.406823</td>\n",
       "      <td>0.246140</td>\n",
       "    </tr>\n",
       "    <tr>\n",
       "      <th>MGN_10</th>\n",
       "      <td>0.075255</td>\n",
       "      <td>0.045413</td>\n",
       "      <td>-0.017328</td>\n",
       "      <td>0.167838</td>\n",
       "      <td>0.110870</td>\n",
       "      <td>[-0.017328, 0.167838]</td>\n",
       "      <td>0.158386</td>\n",
       "      <td>0.252931</td>\n",
       "    </tr>\n",
       "    <tr>\n",
       "      <th>CM_11</th>\n",
       "      <td>0.089691</td>\n",
       "      <td>0.045008</td>\n",
       "      <td>0.003152</td>\n",
       "      <td>0.176231</td>\n",
       "      <td>0.042253</td>\n",
       "      <td>[0.003152, 0.176231]</td>\n",
       "      <td>0.070422</td>\n",
       "      <td>0.250174</td>\n",
       "    </tr>\n",
       "    <tr>\n",
       "      <th>VLa_5</th>\n",
       "      <td>0.140635</td>\n",
       "      <td>0.042505</td>\n",
       "      <td>0.054622</td>\n",
       "      <td>0.226647</td>\n",
       "      <td>0.001407</td>\n",
       "      <td>[0.054622, 0.226647]</td>\n",
       "      <td>0.004254</td>\n",
       "      <td>0.274305</td>\n",
       "    </tr>\n",
       "    <tr>\n",
       "      <th>VA_4</th>\n",
       "      <td>0.189895</td>\n",
       "      <td>0.040425</td>\n",
       "      <td>0.105276</td>\n",
       "      <td>0.274514</td>\n",
       "      <td>0.000013</td>\n",
       "      <td>[0.105276, 0.274514]</td>\n",
       "      <td>0.000129</td>\n",
       "      <td>0.294136</td>\n",
       "    </tr>\n",
       "  </tbody>\n",
       "</table>\n",
       "</div>"
      ],
      "text/plain": [
       "              coef    stderr      llci      ulci     pvals  \\\n",
       "AV_2     -0.156576  0.047347 -0.244180 -0.068971  0.000489   \n",
       "LGN_9    -0.128749  0.036063 -0.208895 -0.048602  0.001702   \n",
       "Pul_8    -0.125798  0.039408 -0.207190 -0.044406  0.002525   \n",
       "VPL_7    -0.026467  0.039660 -0.109075  0.056141  0.529233   \n",
       "MD_Pf_12  0.005569  0.038726 -0.075662  0.086799  0.892888   \n",
       "VLP_6     0.043402  0.042303 -0.043249  0.130054  0.325458   \n",
       "MGN_10    0.075255  0.045413 -0.017328  0.167838  0.110870   \n",
       "CM_11     0.089691  0.045008  0.003152  0.176231  0.042253   \n",
       "VLa_5     0.140635  0.042505  0.054622  0.226647  0.001407   \n",
       "VA_4      0.189895  0.040425  0.105276  0.274514  0.000013   \n",
       "\n",
       "                              ci     p_fdr        R2  \n",
       "AV_2      [-0.244180, -0.068971]  0.002445  0.262340  \n",
       "LGN_9     [-0.208895, -0.048602]  0.004254  0.262389  \n",
       "Pul_8     [-0.207190, -0.044406]  0.005050  0.264034  \n",
       "VPL_7      [-0.109075, 0.056141]  0.588037  0.242247  \n",
       "MD_Pf_12   [-0.075662, 0.086799]  0.892888  0.241415  \n",
       "VLP_6      [-0.043249, 0.130054]  0.406823  0.246140  \n",
       "MGN_10     [-0.017328, 0.167838]  0.158386  0.252931  \n",
       "CM_11       [0.003152, 0.176231]  0.070422  0.250174  \n",
       "VLa_5       [0.054622, 0.226647]  0.004254  0.274305  \n",
       "VA_4        [0.105276, 0.274514]  0.000129  0.294136  "
      ]
     },
     "execution_count": 9,
     "metadata": {},
     "output_type": "execute_result"
    }
   ],
   "source": [
    "# data_to_sample = df_z.join(df_thomas_z).reset_index()\n",
    "# inds = np.random.randint(0, len(data_to_sample), size=(300,))\n",
    "\n",
    "# rng = np.random.default_rng()\n",
    "# inds = rng.choice(len(data_to_sample), 200)\n",
    "# model_data = data_to_sample.loc[inds, :].set_index(\"subid\")\n",
    "\n",
    "model_data = df_z.join(df_thomas_norm_z)\n",
    "model_data = model_data[model_data['dz_type5'].isin([\"RMS\", \"PMS\"])]\n",
    "covariates = \"age + Female + tiv\"\n",
    "\n",
    "pvals = {}\n",
    "coefs = {}\n",
    "stderrs = {}\n",
    "llci = {}\n",
    "ulci = {}\n",
    "ci_str = {}\n",
    "r2 = {}\n",
    "\n",
    "outcome = \"EDSS_sqrt\"\n",
    "\n",
    "structs = thalamic_nuclei\n",
    "all_results = {}\n",
    "for x in structs:\n",
    "    col = hips_thomas_ref[x]\n",
    "    formula = f\"{outcome} ~ {col}*dzdur + {covariates}\"\n",
    "    res = sm.OLS.from_formula(formula, data=model_data).fit()\n",
    "    all_results[col] = res\n",
    "    pvals[col] = res.pvalues[col]\n",
    "    coefs[col] = res.params[col]\n",
    "    stderrs[col] = res.HC0_se[col]\n",
    "    ci = res.conf_int()\n",
    "    llci[col] = ci.loc[col, 0]\n",
    "    ulci[col] = ci.loc[col, 1]\n",
    "    ci_str[col] = f\"[{llci[col]:.6f}, {ulci[col]:.6f}]\"\n",
    "    r2[col] = res.rsquared_adj\n",
    "\n",
    "\n",
    "\n",
    "regression_results = pd.DataFrame({\"coef\": coefs, \"stderr\": stderrs, \"llci\": llci, \"ulci\": ulci, \"pvals\": pvals, \"ci\": ci_str})\n",
    "regression_results['p_fdr'] = stats.false_discovery_control(\n",
    "    regression_results['pvals'], method='bh'\n",
    ")\n",
    "regression_results['R2'] = r2\n",
    "regression_results.sort_values(by=\"coef\", inplace=True)\n",
    "# regression_results.to_excel(fig_path / \"thalamic_nuclei_normed.xlsx\")\n",
    "main_coefs = np.array([coefs[hips_thomas_ref[x]] for x in structs])\n",
    "\n",
    "regression_results"
   ]
  },
  {
   "cell_type": "markdown",
   "id": "db695744",
   "metadata": {},
   "source": [
    "Correlate each of the thalamic nuclei to EDSS, including whole thalalmic volume as a covariate. None of the p values are significant, but we can still compare coefficients to see each nucleus's relative contribution to EDSS. Will bootstrap these regressions in the following cell to see if the rank is significant.  "
   ]
  },
  {
   "cell_type": "code",
   "execution_count": 105,
   "id": "88d05e2b",
   "metadata": {},
   "outputs": [
    {
     "data": {
      "application/vnd.microsoft.datawrangler.viewer.v0+json": {
       "columns": [
        {
         "name": "index",
         "rawType": "object",
         "type": "string"
        },
        {
         "name": "coef",
         "rawType": "float64",
         "type": "float"
        },
        {
         "name": "thal_coef",
         "rawType": "float64",
         "type": "float"
        },
        {
         "name": "stderr",
         "rawType": "float64",
         "type": "float"
        },
        {
         "name": "llci",
         "rawType": "float64",
         "type": "float"
        },
        {
         "name": "ulci",
         "rawType": "float64",
         "type": "float"
        },
        {
         "name": "pvals",
         "rawType": "float64",
         "type": "float"
        },
        {
         "name": "ci",
         "rawType": "object",
         "type": "string"
        },
        {
         "name": "p_fdr",
         "rawType": "float64",
         "type": "float"
        },
        {
         "name": "R2",
         "rawType": "float64",
         "type": "float"
        }
       ],
       "ref": "80b6b972-c3d7-468b-8ad7-ff293834d1c4",
       "rows": [
        [
         "AV_2",
         "-0.14155149972984737",
         "-0.1607389924082364",
         "0.06982926297302837",
         "-0.26686003985510753",
         "-0.016242959604587215",
         "0.02691784797959605",
         "[-0.266860, -0.016243]",
         "0.17183725262263141",
         "0.295513344742803"
        ],
        [
         "LGN_9",
         "-0.1264081411374072",
         "-0.14069616504724022",
         "0.05312775047947844",
         "-0.243467682158387",
         "-0.009348600116427422",
         "0.034367450524526284",
         "[-0.243468, -0.009349]",
         "0.17183725262263141",
         "0.3020617378695726"
        ],
        [
         "VPL_7",
         "-0.09498275876598437",
         "-0.16108437194330985",
         "0.07624075831334147",
         "-0.2503977811614763",
         "0.060432263629507585",
         "0.23034755129370796",
         "[-0.250398, 0.060432]",
         "0.5702789210002511",
         "0.29783774789035555"
        ],
        [
         "Pul_8",
         "-0.09055885691879173",
         "-0.15466199660108745",
         "0.1249592445608118",
         "-0.3306462458285384",
         "0.14952853199095492",
         "0.458904152693245",
         "[-0.330646, 0.149529]",
         "0.65557736099035",
         "0.2995990310745593"
        ],
        [
         "VLP_6",
         "-0.05872759669598979",
         "-0.19276716993830048",
         "0.09389153475921232",
         "-0.24054262015476074",
         "0.12308742676278117",
         "0.5258789678859708",
         "[-0.240543, 0.123087]",
         "0.6573487098574635",
         "0.29001958427493035"
        ],
        [
         "VLa_5",
         "-0.02969487265505165",
         "-0.23427673048693784",
         "0.06164914920111976",
         "-0.15254350628433427",
         "0.09315376097423096",
         "0.634982296148004",
         "[-0.152544, 0.093154]",
         "0.7055358846088934",
         "0.28775765130810516"
        ],
        [
         "MGN_10",
         "-0.026488415371736563",
         "-0.2253222343073608",
         "0.07337604912430093",
         "-0.17078311673574906",
         "0.11780628599227592",
         "0.7184388196811844",
         "[-0.170783, 0.117806]",
         "0.7184388196811844",
         "0.2905042458601471"
        ],
        [
         "CM_11",
         "0.061787027349488426",
         "-0.2927463580303276",
         "0.0695727596749607",
         "-0.06591264530285873",
         "0.1894867000018356",
         "0.34216735260015063",
         "[-0.065913, 0.189487]",
         "0.5702789210002511",
         "0.2916088709341449"
        ],
        [
         "VA_4",
         "0.0966149878982796",
         "-0.30688755943802853",
         "0.06383634328790114",
         "-0.03487869376694033",
         "0.22810866956349954",
         "0.1494395314077747",
         "[-0.034879, 0.228109]",
         "0.49813177135924896",
         "0.2901948904406534"
        ],
        [
         "MD_Pf_12",
         "0.11656345138161628",
         "-0.3545606846260228",
         "0.10532663832663298",
         "-0.09758547772678122",
         "0.3307123804900138",
         "0.28531719473473816",
         "[-0.097585, 0.330712]",
         "0.5702789210002511",
         "0.2934651419749531"
        ]
       ],
       "shape": {
        "columns": 9,
        "rows": 10
       }
      },
      "text/html": [
       "<div>\n",
       "<style scoped>\n",
       "    .dataframe tbody tr th:only-of-type {\n",
       "        vertical-align: middle;\n",
       "    }\n",
       "\n",
       "    .dataframe tbody tr th {\n",
       "        vertical-align: top;\n",
       "    }\n",
       "\n",
       "    .dataframe thead th {\n",
       "        text-align: right;\n",
       "    }\n",
       "</style>\n",
       "<table border=\"1\" class=\"dataframe\">\n",
       "  <thead>\n",
       "    <tr style=\"text-align: right;\">\n",
       "      <th></th>\n",
       "      <th>coef</th>\n",
       "      <th>thal_coef</th>\n",
       "      <th>stderr</th>\n",
       "      <th>llci</th>\n",
       "      <th>ulci</th>\n",
       "      <th>pvals</th>\n",
       "      <th>ci</th>\n",
       "      <th>p_fdr</th>\n",
       "      <th>R2</th>\n",
       "    </tr>\n",
       "  </thead>\n",
       "  <tbody>\n",
       "    <tr>\n",
       "      <th>AV_2</th>\n",
       "      <td>-0.141551</td>\n",
       "      <td>-0.160739</td>\n",
       "      <td>0.069829</td>\n",
       "      <td>-0.266860</td>\n",
       "      <td>-0.016243</td>\n",
       "      <td>0.026918</td>\n",
       "      <td>[-0.266860, -0.016243]</td>\n",
       "      <td>0.171837</td>\n",
       "      <td>0.295513</td>\n",
       "    </tr>\n",
       "    <tr>\n",
       "      <th>LGN_9</th>\n",
       "      <td>-0.126408</td>\n",
       "      <td>-0.140696</td>\n",
       "      <td>0.053128</td>\n",
       "      <td>-0.243468</td>\n",
       "      <td>-0.009349</td>\n",
       "      <td>0.034367</td>\n",
       "      <td>[-0.243468, -0.009349]</td>\n",
       "      <td>0.171837</td>\n",
       "      <td>0.302062</td>\n",
       "    </tr>\n",
       "    <tr>\n",
       "      <th>VPL_7</th>\n",
       "      <td>-0.094983</td>\n",
       "      <td>-0.161084</td>\n",
       "      <td>0.076241</td>\n",
       "      <td>-0.250398</td>\n",
       "      <td>0.060432</td>\n",
       "      <td>0.230348</td>\n",
       "      <td>[-0.250398, 0.060432]</td>\n",
       "      <td>0.570279</td>\n",
       "      <td>0.297838</td>\n",
       "    </tr>\n",
       "    <tr>\n",
       "      <th>Pul_8</th>\n",
       "      <td>-0.090559</td>\n",
       "      <td>-0.154662</td>\n",
       "      <td>0.124959</td>\n",
       "      <td>-0.330646</td>\n",
       "      <td>0.149529</td>\n",
       "      <td>0.458904</td>\n",
       "      <td>[-0.330646, 0.149529]</td>\n",
       "      <td>0.655577</td>\n",
       "      <td>0.299599</td>\n",
       "    </tr>\n",
       "    <tr>\n",
       "      <th>VLP_6</th>\n",
       "      <td>-0.058728</td>\n",
       "      <td>-0.192767</td>\n",
       "      <td>0.093892</td>\n",
       "      <td>-0.240543</td>\n",
       "      <td>0.123087</td>\n",
       "      <td>0.525879</td>\n",
       "      <td>[-0.240543, 0.123087]</td>\n",
       "      <td>0.657349</td>\n",
       "      <td>0.290020</td>\n",
       "    </tr>\n",
       "    <tr>\n",
       "      <th>VLa_5</th>\n",
       "      <td>-0.029695</td>\n",
       "      <td>-0.234277</td>\n",
       "      <td>0.061649</td>\n",
       "      <td>-0.152544</td>\n",
       "      <td>0.093154</td>\n",
       "      <td>0.634982</td>\n",
       "      <td>[-0.152544, 0.093154]</td>\n",
       "      <td>0.705536</td>\n",
       "      <td>0.287758</td>\n",
       "    </tr>\n",
       "    <tr>\n",
       "      <th>MGN_10</th>\n",
       "      <td>-0.026488</td>\n",
       "      <td>-0.225322</td>\n",
       "      <td>0.073376</td>\n",
       "      <td>-0.170783</td>\n",
       "      <td>0.117806</td>\n",
       "      <td>0.718439</td>\n",
       "      <td>[-0.170783, 0.117806]</td>\n",
       "      <td>0.718439</td>\n",
       "      <td>0.290504</td>\n",
       "    </tr>\n",
       "    <tr>\n",
       "      <th>CM_11</th>\n",
       "      <td>0.061787</td>\n",
       "      <td>-0.292746</td>\n",
       "      <td>0.069573</td>\n",
       "      <td>-0.065913</td>\n",
       "      <td>0.189487</td>\n",
       "      <td>0.342167</td>\n",
       "      <td>[-0.065913, 0.189487]</td>\n",
       "      <td>0.570279</td>\n",
       "      <td>0.291609</td>\n",
       "    </tr>\n",
       "    <tr>\n",
       "      <th>VA_4</th>\n",
       "      <td>0.096615</td>\n",
       "      <td>-0.306888</td>\n",
       "      <td>0.063836</td>\n",
       "      <td>-0.034879</td>\n",
       "      <td>0.228109</td>\n",
       "      <td>0.149440</td>\n",
       "      <td>[-0.034879, 0.228109]</td>\n",
       "      <td>0.498132</td>\n",
       "      <td>0.290195</td>\n",
       "    </tr>\n",
       "    <tr>\n",
       "      <th>MD_Pf_12</th>\n",
       "      <td>0.116563</td>\n",
       "      <td>-0.354561</td>\n",
       "      <td>0.105327</td>\n",
       "      <td>-0.097585</td>\n",
       "      <td>0.330712</td>\n",
       "      <td>0.285317</td>\n",
       "      <td>[-0.097585, 0.330712]</td>\n",
       "      <td>0.570279</td>\n",
       "      <td>0.293465</td>\n",
       "    </tr>\n",
       "  </tbody>\n",
       "</table>\n",
       "</div>"
      ],
      "text/plain": [
       "              coef  thal_coef    stderr      llci      ulci     pvals  \\\n",
       "AV_2     -0.141551  -0.160739  0.069829 -0.266860 -0.016243  0.026918   \n",
       "LGN_9    -0.126408  -0.140696  0.053128 -0.243468 -0.009349  0.034367   \n",
       "VPL_7    -0.094983  -0.161084  0.076241 -0.250398  0.060432  0.230348   \n",
       "Pul_8    -0.090559  -0.154662  0.124959 -0.330646  0.149529  0.458904   \n",
       "VLP_6    -0.058728  -0.192767  0.093892 -0.240543  0.123087  0.525879   \n",
       "VLa_5    -0.029695  -0.234277  0.061649 -0.152544  0.093154  0.634982   \n",
       "MGN_10   -0.026488  -0.225322  0.073376 -0.170783  0.117806  0.718439   \n",
       "CM_11     0.061787  -0.292746  0.069573 -0.065913  0.189487  0.342167   \n",
       "VA_4      0.096615  -0.306888  0.063836 -0.034879  0.228109  0.149440   \n",
       "MD_Pf_12  0.116563  -0.354561  0.105327 -0.097585  0.330712  0.285317   \n",
       "\n",
       "                              ci     p_fdr        R2  \n",
       "AV_2      [-0.266860, -0.016243]  0.171837  0.295513  \n",
       "LGN_9     [-0.243468, -0.009349]  0.171837  0.302062  \n",
       "VPL_7      [-0.250398, 0.060432]  0.570279  0.297838  \n",
       "Pul_8      [-0.330646, 0.149529]  0.655577  0.299599  \n",
       "VLP_6      [-0.240543, 0.123087]  0.657349  0.290020  \n",
       "VLa_5      [-0.152544, 0.093154]  0.705536  0.287758  \n",
       "MGN_10     [-0.170783, 0.117806]  0.718439  0.290504  \n",
       "CM_11      [-0.065913, 0.189487]  0.570279  0.291609  \n",
       "VA_4       [-0.034879, 0.228109]  0.498132  0.290195  \n",
       "MD_Pf_12   [-0.097585, 0.330712]  0.570279  0.293465  "
      ]
     },
     "execution_count": 105,
     "metadata": {},
     "output_type": "execute_result"
    }
   ],
   "source": [
    "model_data = df_z.join(df_thomas_z)\n",
    "model_data['whole_thalamus'] = df_thomas_z['THALAMUS_1']\n",
    "model_data = model_data[model_data['dz_type5'].isin([\"RMS\", \"PMS\"])]\n",
    "covariates = \"age + Female + tiv + whole_thalamus\"\n",
    "\n",
    "pvals = {}\n",
    "coefs = {}\n",
    "thal_coefs = {}\n",
    "stderrs = {}\n",
    "llci = {}\n",
    "ulci = {}\n",
    "ci_str = {}\n",
    "r2 = {}\n",
    "\n",
    "\n",
    "outcome = \"EDSS_sqrt\"\n",
    "\n",
    "structs = thalamic_nuclei\n",
    "all_results = {}\n",
    "for x in structs:\n",
    "    col = hips_thomas_ref[x]\n",
    "    formula = f\"{outcome} ~ {col}*dzdur + {covariates}\"\n",
    "    res = sm.OLS.from_formula(formula, data=model_data).fit()\n",
    "    pvals[col] = res.pvalues[col]\n",
    "    coefs[col] = res.params[col]\n",
    "    thal_coefs[col] = res.params['whole_thalamus']\n",
    "    stderrs[col] = res.HC0_se[col]\n",
    "    ci = res.conf_int()\n",
    "    llci[col] = ci.loc[col, 0]\n",
    "    ulci[col] = ci.loc[col, 1]\n",
    "    ci_str[col] = f\"[{llci[col]:.6f}, {ulci[col]:.6f}]\"\n",
    "    r2[col] = res.rsquared_adj\n",
    "\n",
    "\n",
    "\n",
    "regression_results = pd.DataFrame({\"coef\": coefs, \"thal_coef\": thal_coefs, \"stderr\": stderrs, \"llci\": llci, \"ulci\": ulci, \"pvals\": pvals, \"ci\": ci_str})\n",
    "regression_results['p_fdr'] = stats.false_discovery_control(\n",
    "    regression_results['pvals'], method='bh'\n",
    ")\n",
    "regression_results['R2'] = r2\n",
    "\n",
    "main_coefs = np.array([coefs[hips_thomas_ref[x]] for x in structs])\n",
    "regression_results.sort_values(by=\"coef\", inplace=True)\n",
    "regression_results.to_excel(fig_path / \"thalamic_nuclei-thalamus_control.xlsx\")\n",
    "regression_results"
   ]
  },
  {
   "cell_type": "markdown",
   "id": "8cfb8350",
   "metadata": {},
   "source": [
    "Bootstrap the regressions"
   ]
  },
  {
   "cell_type": "code",
   "execution_count": 81,
   "id": "bc4dda29",
   "metadata": {},
   "outputs": [
    {
     "data": {
      "application/vnd.jupyter.widget-view+json": {
       "model_id": "ae5c9237bb084570a977d3ffedfffe2d",
       "version_major": 2,
       "version_minor": 0
      },
      "text/plain": [
       "  0%|          | 0/1000 [00:00<?, ?it/s]"
      ]
     },
     "metadata": {},
     "output_type": "display_data"
    }
   ],
   "source": [
    "data_to_sample = df_z.join(df_thomas_z)\n",
    "data_to_sample = data_to_sample[data_to_sample['dz_type5'].isin([\"RMS\", \"PMS\"])].reset_index()\n",
    "data_to_sample.loc[data_to_sample['EDSS_sqrt'].isna(), 'EDSS_sqrt'] = model_data['EDSS_sqrt'].median()\n",
    "\n",
    "covariates = \"age + Female + tiv\"\n",
    "\n",
    "def get_zeros():\n",
    "    return np.zeros((1000,))\n",
    "\n",
    "coefs_boot1 = defaultdict(get_zeros)\n",
    "\n",
    "outcome = \"EDSS_sqrt\"\n",
    "\n",
    "for i in tqdm(range(1000)):\n",
    "    inds = np.random.randint(0, data_to_sample.index.max(), len(data_to_sample))\n",
    "    model_data = data_to_sample.loc[inds, :]\n",
    "    for x in structs:\n",
    "        col = hips_thomas_ref[x]\n",
    "        formula = f\"{outcome} ~ {col}*dzdur + {covariates}\"\n",
    "        res = sm.OLS.from_formula(formula, data=model_data).fit()\n",
    "        coefs_boot1[col][i] = res.params[col]"
   ]
  },
  {
   "cell_type": "code",
   "execution_count": 84,
   "id": "da9b4f82",
   "metadata": {},
   "outputs": [
    {
     "data": {
      "application/vnd.jupyter.widget-view+json": {
       "model_id": "5119a85379564c23973d28c5cbcb4d33",
       "version_major": 2,
       "version_minor": 0
      },
      "text/plain": [
       "  0%|          | 0/1000 [00:00<?, ?it/s]"
      ]
     },
     "metadata": {},
     "output_type": "display_data"
    }
   ],
   "source": [
    "data_to_sample = df_z.join(df_thomas_z)\n",
    "data_to_sample = data_to_sample[data_to_sample['dz_type5'].isin([\"RMS\", \"PMS\"])].reset_index()\n",
    "data_to_sample.loc[data_to_sample['EDSS_sqrt'].isna(), 'EDSS_sqrt'] = model_data['EDSS_sqrt'].median()\n",
    "\n",
    "covariates = \"age + Female + tiv + THALAMUS_1\"\n",
    "\n",
    "def get_zeros():\n",
    "    return np.zeros((1000,))\n",
    "\n",
    "coefs_boot2 = defaultdict(get_zeros)\n",
    "\n",
    "outcome = \"EDSS_sqrt\"\n",
    "\n",
    "for i in tqdm(range(1000)):\n",
    "    inds = np.random.randint(0, data_to_sample.index.max(), len(data_to_sample))\n",
    "    model_data = data_to_sample.loc[inds, :]\n",
    "    for x in structs:\n",
    "        col = hips_thomas_ref[x]\n",
    "        formula = f\"{outcome} ~ {col}*dzdur + {covariates}\"\n",
    "        res = sm.OLS.from_formula(formula, data=model_data).fit()\n",
    "        coefs_boot2[col][i] = res.params[col]"
   ]
  },
  {
   "cell_type": "markdown",
   "id": "65a87bc2",
   "metadata": {},
   "source": [
    "Get the mean and 95% CI of the bootstrapped coefficients for each nucleus"
   ]
  },
  {
   "cell_type": "code",
   "execution_count": 39,
   "id": "74705607",
   "metadata": {},
   "outputs": [
    {
     "name": "stdout",
     "output_type": "stream",
     "text": [
      "-0.1090 [-0.25, 0.02]\n",
      "0.1029 [-0.02, 0.23]\n",
      "-0.0241 [-0.15, 0.10]\n",
      "-0.0599 [-0.23, 0.12]\n",
      "-0.0667 [-0.22, 0.09]\n",
      "-0.0583 [-0.33, 0.19]\n",
      "-0.1281 [-0.23, -0.02]\n",
      "-0.0202 [-0.17, 0.12]\n",
      "0.0745 [-0.05, 0.21]\n",
      "0.0838 [-0.12, 0.29]\n"
     ]
    },
    {
     "data": {
      "text/plain": [
       "0.9819684379090603"
      ]
     },
     "execution_count": 39,
     "metadata": {},
     "output_type": "execute_result"
    }
   ],
   "source": [
    "coefs_copy = coefs_boot2.copy()\n",
    "llci = {}\n",
    "ulci = {}\n",
    "means = {}\n",
    "for x in structs:\n",
    "    col = hips_thomas_ref[x]\n",
    "    coefs_copy[col] = np.sort(coefs_copy[col])\n",
    "    llci[col] = coefs_copy[col][25]\n",
    "    ulci[col] = coefs_copy[col][975]\n",
    "    means[col] = np.mean(coefs_copy[col])\n",
    "    print(f\"{means[col]:.4f} [{llci[col]:2.2f}, {ulci[col]:2.2f}]\")\n",
    "\n",
    "coefs_bootmean = np.array([means[hips_thomas_ref[x]] for x in structs])\n",
    "np.corrcoef(main_coefs, coefs_bootmean)[0,1]"
   ]
  },
  {
   "cell_type": "markdown",
   "id": "7032e83c",
   "metadata": {},
   "source": [
    "Correlate the coefficients of the nuclei for each boostrapped sample to the main regression to see if the relative strengths of the nuclei's coefficients are consistent across resamples"
   ]
  },
  {
   "cell_type": "code",
   "execution_count": 101,
   "id": "25818683",
   "metadata": {},
   "outputs": [
    {
     "name": "stdout",
     "output_type": "stream",
     "text": [
      "0.56 [-0.02, 0.90]\n",
      "0.44 [0.02, 0.73]\n"
     ]
    }
   ],
   "source": [
    "coefs_boot_arr = np.zeros((len(structs), 1000))\n",
    "for i, x in enumerate(structs):\n",
    "    col = hips_thomas_ref[x]\n",
    "    coefs_boot_arr[i, :] = coefs_boot2[col]\n",
    "\n",
    "corr_coefs = np.zeros((1000,))\n",
    "kendal_taus = np.zeros((1000,))\n",
    "for i in range(1000):\n",
    "    corr_coefs[i] = np.corrcoef(coefs_boot_arr[:,i], main_coefs)[0,1]\n",
    "    kendal_taus[i] = stats.kendalltau(coefs_boot_arr[:,i], main_coefs)[0]\n",
    "mean_corrcoef = np.mean(corr_coefs)\n",
    "mean_tau = np.mean(kendal_taus)\n",
    "corr_coefs = np.sort(corr_coefs)\n",
    "kendal_taus = np.sort(kendal_taus)\n",
    "print(f\"{mean_corrcoef:.2f} [{corr_coefs[25]:.2f}, {corr_coefs[975]:.2f}]\")\n",
    "print(f\"{mean_tau:.2f} [{kendal_taus[25]:.2f}, {kendal_taus[975]:.2f}]\")"
   ]
  },
  {
   "cell_type": "code",
   "execution_count": 102,
   "id": "96bc2e4f",
   "metadata": {},
   "outputs": [
    {
     "data": {
      "application/vnd.microsoft.datawrangler.viewer.v0+json": {
       "columns": [
        {
         "name": "struct",
         "rawType": "object",
         "type": "string"
        },
        {
         "name": "0",
         "rawType": "float64",
         "type": "float"
        }
       ],
       "ref": "3110d307-fe73-4e3e-aaa7-87ac7df18ff3",
       "rows": [
        [
         "AV_2",
         "0.301"
        ],
        [
         "Pul_8",
         "0.265"
        ],
        [
         "LGN_9",
         "0.18"
        ],
        [
         "VLP_6",
         "0.113"
        ],
        [
         "VPL_7",
         "0.108"
        ],
        [
         "MGN_10",
         "0.017"
        ],
        [
         "VLa_5",
         "0.012"
        ],
        [
         "MD_Pf_12",
         "0.004"
        ],
        [
         "VA_4",
         "0.0"
        ],
        [
         "CM_11",
         "0.0"
        ]
       ],
       "shape": {
        "columns": 1,
        "rows": 10
       }
      },
      "text/plain": [
       "struct\n",
       "AV_2        0.301\n",
       "Pul_8       0.265\n",
       "LGN_9       0.180\n",
       "VLP_6       0.113\n",
       "VPL_7       0.108\n",
       "MGN_10      0.017\n",
       "VLa_5       0.012\n",
       "MD_Pf_12    0.004\n",
       "VA_4        0.000\n",
       "CM_11       0.000\n",
       "dtype: float64"
      ]
     },
     "execution_count": 102,
     "metadata": {},
     "output_type": "execute_result"
    }
   ],
   "source": [
    "win_counts = np.zeros((coefs_boot_arr.shape[0],))\n",
    "for i in range(1000):\n",
    "    win_counts[coefs_boot_arr[:,i].argmin()] += 1\n",
    "\n",
    "win_count_df = pd.Series(win_counts/1000, index=hips_thomas_ref[thalamic_nuclei])\n",
    "win_count_df.sort_values(ascending=False)"
   ]
  },
  {
   "cell_type": "code",
   "execution_count": 44,
   "id": "437eb64a",
   "metadata": {},
   "outputs": [
    {
     "data": {
      "application/vnd.microsoft.datawrangler.viewer.v0+json": {
       "columns": [
        {
         "name": "struct",
         "rawType": "object",
         "type": "string"
        },
        {
         "name": "0",
         "rawType": "float64",
         "type": "float"
        }
       ],
       "ref": "19115ba2-a489-4fe4-8bfa-d66bbc381bca",
       "rows": [
        [
         "VLP_6",
         "0.338"
        ],
        [
         "AV_2",
         "0.183"
        ],
        [
         "Pul_8",
         "0.165"
        ],
        [
         "VPL_7",
         "0.127"
        ],
        [
         "LGN_9",
         "0.113"
        ],
        [
         "MGN_10",
         "0.042"
        ],
        [
         "VLa_5",
         "0.022"
        ],
        [
         "MD_Pf_12",
         "0.009"
        ],
        [
         "CM_11",
         "0.001"
        ],
        [
         "VA_4",
         "0.0"
        ]
       ],
       "shape": {
        "columns": 1,
        "rows": 10
       }
      },
      "text/plain": [
       "struct\n",
       "VLP_6       0.338\n",
       "AV_2        0.183\n",
       "Pul_8       0.165\n",
       "VPL_7       0.127\n",
       "LGN_9       0.113\n",
       "MGN_10      0.042\n",
       "VLa_5       0.022\n",
       "MD_Pf_12    0.009\n",
       "CM_11       0.001\n",
       "VA_4        0.000\n",
       "dtype: float64"
      ]
     },
     "execution_count": 44,
     "metadata": {},
     "output_type": "execute_result"
    }
   ],
   "source": [
    "coefs_boot_arr = np.zeros((len(structs), 1000))\n",
    "for i, x in enumerate(structs):\n",
    "    col = hips_thomas_ref[x]\n",
    "    coefs_boot_arr[i, :] = coefs_boot1[col]\n",
    "win_counts = np.zeros((coefs_boot_arr.shape[0],))\n",
    "for i in range(1000):\n",
    "    win_counts[coefs_boot_arr[:,i].argmin()] += 1\n",
    "\n",
    "win_count_df = pd.Series(win_counts/1000, index=hips_thomas_ref[thalamic_nuclei])\n",
    "win_count_df.sort_values(ascending=False)"
   ]
  },
  {
   "cell_type": "code",
   "execution_count": 27,
   "id": "ae336894",
   "metadata": {},
   "outputs": [
    {
     "data": {
      "application/vnd.microsoft.datawrangler.viewer.v0+json": {
       "columns": [
        {
         "name": "index",
         "rawType": "object",
         "type": "string"
        },
        {
         "name": "coef",
         "rawType": "float64",
         "type": "float"
        },
        {
         "name": "stderr",
         "rawType": "float64",
         "type": "float"
        },
        {
         "name": "llci",
         "rawType": "float64",
         "type": "float"
        },
        {
         "name": "ulci",
         "rawType": "float64",
         "type": "float"
        },
        {
         "name": "pvals",
         "rawType": "float64",
         "type": "float"
        },
        {
         "name": "ci",
         "rawType": "object",
         "type": "string"
        },
        {
         "name": "p_fdr",
         "rawType": "float64",
         "type": "float"
        }
       ],
       "ref": "358c4c92-1fde-49b8-825a-fc1afc31a647",
       "rows": [
        [
         "anterior",
         "-0.24615041775797855",
         "0.05005075663204568",
         "-0.34030545877748564",
         "-0.15199537673847147",
         "4.1621199096689654e-07",
         "[-0.340305, -0.151995]",
         "1.6034939930003391e-06"
        ],
        [
         "ventral",
         "-0.23396263205405854",
         "0.04955042991044216",
         "-0.3367003431195341",
         "-0.13122492098858296",
         "9.689060074611123e-06",
         "[-0.336700, -0.131225]",
         "1.6148433457685206e-05"
        ],
        [
         "posterior",
         "-0.2296480581293426",
         "0.0427259354733041",
         "-0.31899880406284087",
         "-0.14029731219584438",
         "6.413975972001357e-07",
         "[-0.318999, -0.140297]",
         "1.6034939930003391e-06"
        ],
        [
         "medial",
         "-0.18484037535283346",
         "0.043351707960159885",
         "-0.2762406759327798",
         "-0.09344007477288711",
         "8.225939113817171e-05",
         "[-0.276241, -0.093440]",
         "0.00010282423892271464"
        ],
        [
         "intralaminar",
         "-0.13212484018181747",
         "0.04807334327285424",
         "-0.22799336792827232",
         "-0.03625631243536262",
         "0.007017785709293136",
         "[-0.227993, -0.036256]",
         "0.007017785709293136"
        ]
       ],
       "shape": {
        "columns": 7,
        "rows": 5
       }
      },
      "text/html": [
       "<div>\n",
       "<style scoped>\n",
       "    .dataframe tbody tr th:only-of-type {\n",
       "        vertical-align: middle;\n",
       "    }\n",
       "\n",
       "    .dataframe tbody tr th {\n",
       "        vertical-align: top;\n",
       "    }\n",
       "\n",
       "    .dataframe thead th {\n",
       "        text-align: right;\n",
       "    }\n",
       "</style>\n",
       "<table border=\"1\" class=\"dataframe\">\n",
       "  <thead>\n",
       "    <tr style=\"text-align: right;\">\n",
       "      <th></th>\n",
       "      <th>coef</th>\n",
       "      <th>stderr</th>\n",
       "      <th>llci</th>\n",
       "      <th>ulci</th>\n",
       "      <th>pvals</th>\n",
       "      <th>ci</th>\n",
       "      <th>p_fdr</th>\n",
       "    </tr>\n",
       "  </thead>\n",
       "  <tbody>\n",
       "    <tr>\n",
       "      <th>anterior</th>\n",
       "      <td>-0.246150</td>\n",
       "      <td>0.050051</td>\n",
       "      <td>-0.340305</td>\n",
       "      <td>-0.151995</td>\n",
       "      <td>4.162120e-07</td>\n",
       "      <td>[-0.340305, -0.151995]</td>\n",
       "      <td>0.000002</td>\n",
       "    </tr>\n",
       "    <tr>\n",
       "      <th>ventral</th>\n",
       "      <td>-0.233963</td>\n",
       "      <td>0.049550</td>\n",
       "      <td>-0.336700</td>\n",
       "      <td>-0.131225</td>\n",
       "      <td>9.689060e-06</td>\n",
       "      <td>[-0.336700, -0.131225]</td>\n",
       "      <td>0.000016</td>\n",
       "    </tr>\n",
       "    <tr>\n",
       "      <th>posterior</th>\n",
       "      <td>-0.229648</td>\n",
       "      <td>0.042726</td>\n",
       "      <td>-0.318999</td>\n",
       "      <td>-0.140297</td>\n",
       "      <td>6.413976e-07</td>\n",
       "      <td>[-0.318999, -0.140297]</td>\n",
       "      <td>0.000002</td>\n",
       "    </tr>\n",
       "    <tr>\n",
       "      <th>medial</th>\n",
       "      <td>-0.184840</td>\n",
       "      <td>0.043352</td>\n",
       "      <td>-0.276241</td>\n",
       "      <td>-0.093440</td>\n",
       "      <td>8.225939e-05</td>\n",
       "      <td>[-0.276241, -0.093440]</td>\n",
       "      <td>0.000103</td>\n",
       "    </tr>\n",
       "    <tr>\n",
       "      <th>intralaminar</th>\n",
       "      <td>-0.132125</td>\n",
       "      <td>0.048073</td>\n",
       "      <td>-0.227993</td>\n",
       "      <td>-0.036256</td>\n",
       "      <td>7.017786e-03</td>\n",
       "      <td>[-0.227993, -0.036256]</td>\n",
       "      <td>0.007018</td>\n",
       "    </tr>\n",
       "  </tbody>\n",
       "</table>\n",
       "</div>"
      ],
      "text/plain": [
       "                  coef    stderr      llci      ulci         pvals  \\\n",
       "anterior     -0.246150  0.050051 -0.340305 -0.151995  4.162120e-07   \n",
       "ventral      -0.233963  0.049550 -0.336700 -0.131225  9.689060e-06   \n",
       "posterior    -0.229648  0.042726 -0.318999 -0.140297  6.413976e-07   \n",
       "medial       -0.184840  0.043352 -0.276241 -0.093440  8.225939e-05   \n",
       "intralaminar -0.132125  0.048073 -0.227993 -0.036256  7.017786e-03   \n",
       "\n",
       "                                  ci     p_fdr  \n",
       "anterior      [-0.340305, -0.151995]  0.000002  \n",
       "ventral       [-0.336700, -0.131225]  0.000016  \n",
       "posterior     [-0.318999, -0.140297]  0.000002  \n",
       "medial        [-0.276241, -0.093440]  0.000103  \n",
       "intralaminar  [-0.227993, -0.036256]  0.007018  "
      ]
     },
     "execution_count": 27,
     "metadata": {},
     "output_type": "execute_result"
    }
   ],
   "source": [
    "model_data = df_z.join([df_thomas2_z])\n",
    "model_data = model_data[model_data.dz_type2 == \"MS\"]\n",
    "\n",
    "covariates = \"age + Female + tiv\"\n",
    "\n",
    "pvals = {}\n",
    "coefs = {}\n",
    "stderrs = {}\n",
    "llci = {}\n",
    "ulci = {}\n",
    "ci_str = {}\n",
    "\n",
    "for col in grouped_nuclei:\n",
    "    formula = f\"EDSS_sqrt ~ {col}*dzdur + {covariates}\"\n",
    "    res = sm.OLS.from_formula(formula, data=model_data).fit()\n",
    "    pvals[col] = res.pvalues[col]\n",
    "    coefs[col] = res.params[col]\n",
    "    stderrs[col] = res.HC0_se[col]\n",
    "    ci = res.conf_int()\n",
    "    llci[col] = ci.loc[col, 0]\n",
    "    ulci[col] = ci.loc[col, 1]\n",
    "    ci_str[col] = f\"[{llci[col]:.6f}, {ulci[col]:.6f}]\"\n",
    "\n",
    "regression_results = pd.DataFrame({\"coef\": coefs, \"stderr\": stderrs, \"llci\": llci, \"ulci\": ulci, \"pvals\": pvals, \"ci\": ci_str})\n",
    "regression_results['p_fdr'] = stats.false_discovery_control(\n",
    "    regression_results['pvals'], method='bh'\n",
    ")\n",
    "\n",
    "regression_results.sort_values(by=\"coef\")"
   ]
  },
  {
   "cell_type": "code",
   "execution_count": 31,
   "id": "49a86d2c",
   "metadata": {},
   "outputs": [
    {
     "data": {
      "application/vnd.microsoft.datawrangler.viewer.v0+json": {
       "columns": [
        {
         "name": "index",
         "rawType": "object",
         "type": "string"
        },
        {
         "name": "coef",
         "rawType": "float64",
         "type": "float"
        },
        {
         "name": "stderr",
         "rawType": "float64",
         "type": "float"
        },
        {
         "name": "llci",
         "rawType": "float64",
         "type": "float"
        },
        {
         "name": "ulci",
         "rawType": "float64",
         "type": "float"
        },
        {
         "name": "pvals",
         "rawType": "float64",
         "type": "float"
        },
        {
         "name": "ci",
         "rawType": "object",
         "type": "string"
        },
        {
         "name": "p_fdr",
         "rawType": "float64",
         "type": "float"
        }
       ],
       "ref": "94c7c40d-0d70-4182-a99f-8667b4979b0d",
       "rows": [
        [
         "anterior_left",
         "-0.16211389478034982",
         "0.04617386101942346",
         "-0.24731709685788186",
         "-0.07691069270281778",
         "0.00020762556232349258",
         "[-0.247317, -0.076911]",
         "0.001038127811617463"
        ],
        [
         "anterior_right",
         "-0.16211389478034982",
         "0.04617386101942346",
         "-0.24731709685788186",
         "-0.07691069270281778",
         "0.00020762556232349258",
         "[-0.247317, -0.076911]",
         "0.001038127811617463"
        ],
        [
         "posterior_right",
         "-0.12866583775954202",
         "0.03834093963485846",
         "-0.20756602198901197",
         "-0.049765653530072076",
         "0.0014450302199273798",
         "[-0.207566, -0.049766]",
         "0.0036125755498184497"
        ],
        [
         "posterior_left",
         "-0.12866583775954202",
         "0.03834093963485846",
         "-0.20756602198901197",
         "-0.049765653530072076",
         "0.0014450302199273798",
         "[-0.207566, -0.049766]",
         "0.0036125755498184497"
        ],
        [
         "medial_left",
         "0.0009762379056212703",
         "0.037769622779946846",
         "-0.07833602383471167",
         "0.08028849964595422",
         "0.9807138260754218",
         "[-0.078336, 0.080288]",
         "0.9807138260754218"
        ],
        [
         "medial_right",
         "0.0009762379056212703",
         "0.037769622779946846",
         "-0.07833602383471167",
         "0.08028849964595422",
         "0.9807138260754218",
         "[-0.078336, 0.080288]",
         "0.9807138260754218"
        ],
        [
         "intralaminar_right",
         "0.08341191882818608",
         "0.0438754636186229",
         "-0.000540300013461642",
         "0.1673641376698338",
         "0.0514867038421224",
         "[-0.000540, 0.167364]",
         "0.064358379802653"
        ],
        [
         "intralaminar_left",
         "0.08341191882818608",
         "0.0438754636186229",
         "-0.000540300013461642",
         "0.1673641376698338",
         "0.0514867038421224",
         "[-0.000540, 0.167364]",
         "0.064358379802653"
        ],
        [
         "ventral_left",
         "0.12076766893012805",
         "0.039945644771066845",
         "0.036056016362185014",
         "0.20547932149807108",
         "0.0052976364684366156",
         "[0.036056, 0.205479]",
         "0.008829394114061027"
        ],
        [
         "ventral_right",
         "0.12076766893012805",
         "0.039945644771066845",
         "0.036056016362185014",
         "0.20547932149807108",
         "0.0052976364684366156",
         "[0.036056, 0.205479]",
         "0.008829394114061027"
        ]
       ],
       "shape": {
        "columns": 7,
        "rows": 10
       }
      },
      "text/html": [
       "<div>\n",
       "<style scoped>\n",
       "    .dataframe tbody tr th:only-of-type {\n",
       "        vertical-align: middle;\n",
       "    }\n",
       "\n",
       "    .dataframe tbody tr th {\n",
       "        vertical-align: top;\n",
       "    }\n",
       "\n",
       "    .dataframe thead th {\n",
       "        text-align: right;\n",
       "    }\n",
       "</style>\n",
       "<table border=\"1\" class=\"dataframe\">\n",
       "  <thead>\n",
       "    <tr style=\"text-align: right;\">\n",
       "      <th></th>\n",
       "      <th>coef</th>\n",
       "      <th>stderr</th>\n",
       "      <th>llci</th>\n",
       "      <th>ulci</th>\n",
       "      <th>pvals</th>\n",
       "      <th>ci</th>\n",
       "      <th>p_fdr</th>\n",
       "    </tr>\n",
       "  </thead>\n",
       "  <tbody>\n",
       "    <tr>\n",
       "      <th>anterior_left</th>\n",
       "      <td>-0.162114</td>\n",
       "      <td>0.046174</td>\n",
       "      <td>-0.247317</td>\n",
       "      <td>-0.076911</td>\n",
       "      <td>0.000208</td>\n",
       "      <td>[-0.247317, -0.076911]</td>\n",
       "      <td>0.001038</td>\n",
       "    </tr>\n",
       "    <tr>\n",
       "      <th>anterior_right</th>\n",
       "      <td>-0.162114</td>\n",
       "      <td>0.046174</td>\n",
       "      <td>-0.247317</td>\n",
       "      <td>-0.076911</td>\n",
       "      <td>0.000208</td>\n",
       "      <td>[-0.247317, -0.076911]</td>\n",
       "      <td>0.001038</td>\n",
       "    </tr>\n",
       "    <tr>\n",
       "      <th>posterior_right</th>\n",
       "      <td>-0.128666</td>\n",
       "      <td>0.038341</td>\n",
       "      <td>-0.207566</td>\n",
       "      <td>-0.049766</td>\n",
       "      <td>0.001445</td>\n",
       "      <td>[-0.207566, -0.049766]</td>\n",
       "      <td>0.003613</td>\n",
       "    </tr>\n",
       "    <tr>\n",
       "      <th>posterior_left</th>\n",
       "      <td>-0.128666</td>\n",
       "      <td>0.038341</td>\n",
       "      <td>-0.207566</td>\n",
       "      <td>-0.049766</td>\n",
       "      <td>0.001445</td>\n",
       "      <td>[-0.207566, -0.049766]</td>\n",
       "      <td>0.003613</td>\n",
       "    </tr>\n",
       "    <tr>\n",
       "      <th>medial_left</th>\n",
       "      <td>0.000976</td>\n",
       "      <td>0.037770</td>\n",
       "      <td>-0.078336</td>\n",
       "      <td>0.080288</td>\n",
       "      <td>0.980714</td>\n",
       "      <td>[-0.078336, 0.080288]</td>\n",
       "      <td>0.980714</td>\n",
       "    </tr>\n",
       "    <tr>\n",
       "      <th>medial_right</th>\n",
       "      <td>0.000976</td>\n",
       "      <td>0.037770</td>\n",
       "      <td>-0.078336</td>\n",
       "      <td>0.080288</td>\n",
       "      <td>0.980714</td>\n",
       "      <td>[-0.078336, 0.080288]</td>\n",
       "      <td>0.980714</td>\n",
       "    </tr>\n",
       "    <tr>\n",
       "      <th>intralaminar_right</th>\n",
       "      <td>0.083412</td>\n",
       "      <td>0.043875</td>\n",
       "      <td>-0.000540</td>\n",
       "      <td>0.167364</td>\n",
       "      <td>0.051487</td>\n",
       "      <td>[-0.000540, 0.167364]</td>\n",
       "      <td>0.064358</td>\n",
       "    </tr>\n",
       "    <tr>\n",
       "      <th>intralaminar_left</th>\n",
       "      <td>0.083412</td>\n",
       "      <td>0.043875</td>\n",
       "      <td>-0.000540</td>\n",
       "      <td>0.167364</td>\n",
       "      <td>0.051487</td>\n",
       "      <td>[-0.000540, 0.167364]</td>\n",
       "      <td>0.064358</td>\n",
       "    </tr>\n",
       "    <tr>\n",
       "      <th>ventral_left</th>\n",
       "      <td>0.120768</td>\n",
       "      <td>0.039946</td>\n",
       "      <td>0.036056</td>\n",
       "      <td>0.205479</td>\n",
       "      <td>0.005298</td>\n",
       "      <td>[0.036056, 0.205479]</td>\n",
       "      <td>0.008829</td>\n",
       "    </tr>\n",
       "    <tr>\n",
       "      <th>ventral_right</th>\n",
       "      <td>0.120768</td>\n",
       "      <td>0.039946</td>\n",
       "      <td>0.036056</td>\n",
       "      <td>0.205479</td>\n",
       "      <td>0.005298</td>\n",
       "      <td>[0.036056, 0.205479]</td>\n",
       "      <td>0.008829</td>\n",
       "    </tr>\n",
       "  </tbody>\n",
       "</table>\n",
       "</div>"
      ],
      "text/plain": [
       "                        coef    stderr      llci      ulci     pvals  \\\n",
       "anterior_left      -0.162114  0.046174 -0.247317 -0.076911  0.000208   \n",
       "anterior_right     -0.162114  0.046174 -0.247317 -0.076911  0.000208   \n",
       "posterior_right    -0.128666  0.038341 -0.207566 -0.049766  0.001445   \n",
       "posterior_left     -0.128666  0.038341 -0.207566 -0.049766  0.001445   \n",
       "medial_left         0.000976  0.037770 -0.078336  0.080288  0.980714   \n",
       "medial_right        0.000976  0.037770 -0.078336  0.080288  0.980714   \n",
       "intralaminar_right  0.083412  0.043875 -0.000540  0.167364  0.051487   \n",
       "intralaminar_left   0.083412  0.043875 -0.000540  0.167364  0.051487   \n",
       "ventral_left        0.120768  0.039946  0.036056  0.205479  0.005298   \n",
       "ventral_right       0.120768  0.039946  0.036056  0.205479  0.005298   \n",
       "\n",
       "                                        ci     p_fdr  \n",
       "anterior_left       [-0.247317, -0.076911]  0.001038  \n",
       "anterior_right      [-0.247317, -0.076911]  0.001038  \n",
       "posterior_right     [-0.207566, -0.049766]  0.003613  \n",
       "posterior_left      [-0.207566, -0.049766]  0.003613  \n",
       "medial_left          [-0.078336, 0.080288]  0.980714  \n",
       "medial_right         [-0.078336, 0.080288]  0.980714  \n",
       "intralaminar_right   [-0.000540, 0.167364]  0.064358  \n",
       "intralaminar_left    [-0.000540, 0.167364]  0.064358  \n",
       "ventral_left          [0.036056, 0.205479]  0.008829  \n",
       "ventral_right         [0.036056, 0.205479]  0.008829  "
      ]
     },
     "execution_count": 31,
     "metadata": {},
     "output_type": "execute_result"
    }
   ],
   "source": [
    "model_data = df_z.copy()\n",
    "struct_names = []\n",
    "for col in df_thomas2.columns[~df_thomas2.columns.isin([\"THALAMUS_1\"])]:\n",
    "    model_data[f'{col}_left'] = df_thomas2_norm_left_z[col]\n",
    "    struct_names.append(f'{col}_left')\n",
    "    model_data[f'{col}_right'] = df_thomas2_norm_right_z[col]\n",
    "    struct_names.append(f'{col}_right')\n",
    "model_data['whole_thalamus'] = df_thomas_z['THALAMUS_1']\n",
    "\n",
    "covariates = \"age + Female + tiv\"\n",
    "\n",
    "pvals = {}\n",
    "coefs = {}\n",
    "stderrs = {}\n",
    "llci = {}\n",
    "ulci = {}\n",
    "ci_str = {}\n",
    "\n",
    "for col in struct_names:\n",
    "    formula = f\"EDSS_sqrt ~ {col}*dzdur + {covariates}\"\n",
    "    res = sm.OLS.from_formula(formula, data=model_data).fit()\n",
    "    pvals[col] = res.pvalues[col]\n",
    "    coefs[col] = res.params[col]\n",
    "    stderrs[col] = res.HC0_se[col]\n",
    "    ci = res.conf_int()\n",
    "    llci[col] = ci.loc[col, 0]\n",
    "    ulci[col] = ci.loc[col, 1]\n",
    "    ci_str[col] = f\"[{llci[col]:.6f}, {ulci[col]:.6f}]\"\n",
    "\n",
    "regression_results = pd.DataFrame({\"coef\": coefs, \"stderr\": stderrs, \"llci\": llci, \"ulci\": ulci, \"pvals\": pvals, \"ci\": ci_str})\n",
    "regression_results['p_fdr'] = stats.false_discovery_control(\n",
    "    regression_results['pvals'], method='bh'\n",
    ")\n",
    "\n",
    "regression_results.sort_values(by=\"coef\")"
   ]
  },
  {
   "cell_type": "code",
   "execution_count": 16,
   "id": "25a666b1",
   "metadata": {},
   "outputs": [
    {
     "data": {
      "text/plain": [
       "['anterior_left',\n",
       " 'anterior_right',\n",
       " 'ventral_left',\n",
       " 'ventral_right',\n",
       " 'intralaminar_left',\n",
       " 'intralaminar_right',\n",
       " 'medial_left',\n",
       " 'medial_right',\n",
       " 'posterior_left',\n",
       " 'posterior_right',\n",
       " 'THALAMUS_1_left',\n",
       " 'THALAMUS_1_right']"
      ]
     },
     "execution_count": 16,
     "metadata": {},
     "output_type": "execute_result"
    }
   ],
   "source": [
    "model_data = df_z[['EDSS_sqrt', 'age']].copy()\n",
    "struct_names = []\n",
    "for col in df_thomas2.columns:\n",
    "    model_data[f'{col}_left'] = df_thomas2_left_z[col]\n",
    "    struct_names.append(f'{col}_left')\n",
    "    model_data[f'{col}_right'] = df_thomas2_right_z[col]\n",
    "    struct_names.append(f'{col}_right')\n",
    "model_data['whole_thalamus'] = df_thomas_z['THALAMUS_1']\n",
    "struct_names"
   ]
  },
  {
   "cell_type": "code",
   "execution_count": 89,
   "id": "ff7077e3",
   "metadata": {},
   "outputs": [
    {
     "data": {
      "application/vnd.jupyter.widget-view+json": {
       "model_id": "69de6852b0c54bb3856d9afdd39f8882",
       "version_major": 2,
       "version_minor": 0
      },
      "text/plain": [
       "  0%|          | 0/1000 [00:00<?, ?it/s]"
      ]
     },
     "metadata": {},
     "output_type": "display_data"
    }
   ],
   "source": [
    "data_to_sample = df_z.join(df_thomas2_z)\n",
    "data_to_sample = data_to_sample[data_to_sample['dz_type5'].isin([\"RMS\", \"PMS\"])].reset_index()\n",
    "data_to_sample.loc[data_to_sample['EDSS_sqrt'].isna(), 'EDSS_sqrt'] = model_data['EDSS_sqrt'].median()\n",
    "\n",
    "covariates = \"age + Female + tiv + THALAMUS_1\"\n",
    "structs = df_thomas2.columns[~df_thomas2.columns.isin([\"THALAMUS_1\"])]\n",
    "\n",
    "def get_zeros():\n",
    "    return np.zeros((1000,))\n",
    "\n",
    "coefs_boot3 = defaultdict(get_zeros)\n",
    "\n",
    "outcome = \"EDSS_sqrt\"\n",
    "\n",
    "for i in tqdm(range(1000)):\n",
    "    inds = np.random.randint(0, data_to_sample.index.max(), len(data_to_sample))\n",
    "    model_data = data_to_sample.loc[inds, :]\n",
    "    for col in structs:\n",
    "        formula = f\"{outcome} ~ {col}*dzdur + {covariates}\"\n",
    "        res = sm.OLS.from_formula(formula, data=model_data).fit()\n",
    "        coefs_boot3[col][i] = res.params[col]"
   ]
  },
  {
   "cell_type": "code",
   "execution_count": 90,
   "id": "4901d5c0",
   "metadata": {},
   "outputs": [
    {
     "data": {
      "application/vnd.microsoft.datawrangler.viewer.v0+json": {
       "columns": [
        {
         "name": "index",
         "rawType": "object",
         "type": "string"
        },
        {
         "name": "0",
         "rawType": "float64",
         "type": "float"
        }
       ],
       "ref": "74e313ba-dc78-415c-b9a2-6916825e1c67",
       "rows": [
        [
         "posterior",
         "0.454"
        ],
        [
         "anterior",
         "0.395"
        ],
        [
         "ventral",
         "0.143"
        ],
        [
         "intralaminar",
         "0.004"
        ],
        [
         "medial",
         "0.004"
        ]
       ],
       "shape": {
        "columns": 1,
        "rows": 5
       }
      },
      "text/plain": [
       "posterior       0.454\n",
       "anterior        0.395\n",
       "ventral         0.143\n",
       "intralaminar    0.004\n",
       "medial          0.004\n",
       "dtype: float64"
      ]
     },
     "execution_count": 90,
     "metadata": {},
     "output_type": "execute_result"
    }
   ],
   "source": [
    "coefs_boot_arr = np.zeros((len(structs), 1000))\n",
    "for i, col in enumerate(structs):\n",
    "    coefs_boot_arr[i, :] = coefs_boot3[col]\n",
    "win_counts = np.zeros((coefs_boot_arr.shape[0],))\n",
    "for i in range(1000):\n",
    "    win_counts[coefs_boot_arr[:,i].argmin()] += 1\n",
    "\n",
    "win_count_df = pd.Series(win_counts/1000, index=structs)\n",
    "win_count_df.sort_values(ascending=False)"
   ]
  },
  {
   "cell_type": "code",
   "execution_count": 117,
   "id": "6dad0066",
   "metadata": {},
   "outputs": [
    {
     "data": {
      "application/vnd.microsoft.datawrangler.viewer.v0+json": {
       "columns": [
        {
         "name": "index",
         "rawType": "object",
         "type": "string"
        },
        {
         "name": "coef",
         "rawType": "float64",
         "type": "float"
        },
        {
         "name": "stderr",
         "rawType": "float64",
         "type": "float"
        },
        {
         "name": "llci",
         "rawType": "float64",
         "type": "float"
        },
        {
         "name": "ulci",
         "rawType": "float64",
         "type": "float"
        },
        {
         "name": "pvals",
         "rawType": "float64",
         "type": "float"
        },
        {
         "name": "ci",
         "rawType": "object",
         "type": "string"
        },
        {
         "name": "p_fdr",
         "rawType": "float64",
         "type": "float"
        }
       ],
       "ref": "37c2e1a7-f1e3-48e1-9164-4e89f6f268aa",
       "rows": [
        [
         "LGN_9",
         "-0.14968595981507865",
         "0.05182933109120109",
         "-0.2644974550614841",
         "-0.034874464568673214",
         "0.010720166205604198",
         "[-0.264497, -0.034874]",
         "0.10720166205604198"
        ],
        [
         "VPL_7",
         "-0.109161063668863",
         "0.07765189859873271",
         "-0.2654376225430929",
         "0.0471154952053669",
         "0.17053537946087716",
         "[-0.265438, 0.047115]",
         "0.4263384486521929"
        ],
        [
         "VLP_6",
         "-0.10662520082487272",
         "0.09247716357240059",
         "-0.2867481204756478",
         "0.07349771882590238",
         "0.24533647467114866",
         "[-0.286748, 0.073498]",
         "0.4906729493422973"
        ],
        [
         "AV_2",
         "-0.08867241697819685",
         "0.07005924172404611",
         "-0.21055616432719843",
         "0.03321133037080472",
         "0.15350156078739263",
         "[-0.210556, 0.033211]",
         "0.4263384486521929"
        ],
        [
         "Pul_8",
         "-0.02919925576675306",
         "0.12484249415988197",
         "-0.2694853934629696",
         "0.2110868819294635",
         "0.811376295433832",
         "[-0.269485, 0.211087]",
         "0.9972397743554031"
        ],
        [
         "MGN_10",
         "-0.007467112450106516",
         "0.07363206050376725",
         "-0.15022976132765378",
         "0.13529553642744077",
         "0.9181826146135607",
         "[-0.150230, 0.135296]",
         "0.9972397743554031"
        ],
        [
         "VLa_5",
         "0.00021625108509243005",
         "0.06446399128647082",
         "-0.1225519858106315",
         "0.12298448798081636",
         "0.9972397743554031",
         "[-0.122552, 0.122984]",
         "0.9972397743554031"
        ],
        [
         "CM_11",
         "0.06001077809549334",
         "0.06793981682276483",
         "-0.06781046541237437",
         "0.18783202160336107",
         "0.356713699698358",
         "[-0.067810, 0.187832]",
         "0.5144815789068673"
        ],
        [
         "MD_Pf_12",
         "0.10043235608208444",
         "0.10422911083490857",
         "-0.1150161812248021",
         "0.31588089338897096",
         "0.36013710523480713",
         "[-0.115016, 0.315881]",
         "0.5144815789068673"
        ],
        [
         "VA_4",
         "0.12417646392828116",
         "0.06281359218679343",
         "-0.004678501712588684",
         "0.25303142956915103",
         "0.05888182530317415",
         "[-0.004679, 0.253031]",
         "0.29440912651587076"
        ]
       ],
       "shape": {
        "columns": 7,
        "rows": 10
       }
      },
      "text/html": [
       "<div>\n",
       "<style scoped>\n",
       "    .dataframe tbody tr th:only-of-type {\n",
       "        vertical-align: middle;\n",
       "    }\n",
       "\n",
       "    .dataframe tbody tr th {\n",
       "        vertical-align: top;\n",
       "    }\n",
       "\n",
       "    .dataframe thead th {\n",
       "        text-align: right;\n",
       "    }\n",
       "</style>\n",
       "<table border=\"1\" class=\"dataframe\">\n",
       "  <thead>\n",
       "    <tr style=\"text-align: right;\">\n",
       "      <th></th>\n",
       "      <th>coef</th>\n",
       "      <th>stderr</th>\n",
       "      <th>llci</th>\n",
       "      <th>ulci</th>\n",
       "      <th>pvals</th>\n",
       "      <th>ci</th>\n",
       "      <th>p_fdr</th>\n",
       "    </tr>\n",
       "  </thead>\n",
       "  <tbody>\n",
       "    <tr>\n",
       "      <th>LGN_9</th>\n",
       "      <td>-0.149686</td>\n",
       "      <td>0.051829</td>\n",
       "      <td>-0.264497</td>\n",
       "      <td>-0.034874</td>\n",
       "      <td>0.010720</td>\n",
       "      <td>[-0.264497, -0.034874]</td>\n",
       "      <td>0.107202</td>\n",
       "    </tr>\n",
       "    <tr>\n",
       "      <th>VPL_7</th>\n",
       "      <td>-0.109161</td>\n",
       "      <td>0.077652</td>\n",
       "      <td>-0.265438</td>\n",
       "      <td>0.047115</td>\n",
       "      <td>0.170535</td>\n",
       "      <td>[-0.265438, 0.047115]</td>\n",
       "      <td>0.426338</td>\n",
       "    </tr>\n",
       "    <tr>\n",
       "      <th>VLP_6</th>\n",
       "      <td>-0.106625</td>\n",
       "      <td>0.092477</td>\n",
       "      <td>-0.286748</td>\n",
       "      <td>0.073498</td>\n",
       "      <td>0.245336</td>\n",
       "      <td>[-0.286748, 0.073498]</td>\n",
       "      <td>0.490673</td>\n",
       "    </tr>\n",
       "    <tr>\n",
       "      <th>AV_2</th>\n",
       "      <td>-0.088672</td>\n",
       "      <td>0.070059</td>\n",
       "      <td>-0.210556</td>\n",
       "      <td>0.033211</td>\n",
       "      <td>0.153502</td>\n",
       "      <td>[-0.210556, 0.033211]</td>\n",
       "      <td>0.426338</td>\n",
       "    </tr>\n",
       "    <tr>\n",
       "      <th>Pul_8</th>\n",
       "      <td>-0.029199</td>\n",
       "      <td>0.124842</td>\n",
       "      <td>-0.269485</td>\n",
       "      <td>0.211087</td>\n",
       "      <td>0.811376</td>\n",
       "      <td>[-0.269485, 0.211087]</td>\n",
       "      <td>0.997240</td>\n",
       "    </tr>\n",
       "    <tr>\n",
       "      <th>MGN_10</th>\n",
       "      <td>-0.007467</td>\n",
       "      <td>0.073632</td>\n",
       "      <td>-0.150230</td>\n",
       "      <td>0.135296</td>\n",
       "      <td>0.918183</td>\n",
       "      <td>[-0.150230, 0.135296]</td>\n",
       "      <td>0.997240</td>\n",
       "    </tr>\n",
       "    <tr>\n",
       "      <th>VLa_5</th>\n",
       "      <td>0.000216</td>\n",
       "      <td>0.064464</td>\n",
       "      <td>-0.122552</td>\n",
       "      <td>0.122984</td>\n",
       "      <td>0.997240</td>\n",
       "      <td>[-0.122552, 0.122984]</td>\n",
       "      <td>0.997240</td>\n",
       "    </tr>\n",
       "    <tr>\n",
       "      <th>CM_11</th>\n",
       "      <td>0.060011</td>\n",
       "      <td>0.067940</td>\n",
       "      <td>-0.067810</td>\n",
       "      <td>0.187832</td>\n",
       "      <td>0.356714</td>\n",
       "      <td>[-0.067810, 0.187832]</td>\n",
       "      <td>0.514482</td>\n",
       "    </tr>\n",
       "    <tr>\n",
       "      <th>MD_Pf_12</th>\n",
       "      <td>0.100432</td>\n",
       "      <td>0.104229</td>\n",
       "      <td>-0.115016</td>\n",
       "      <td>0.315881</td>\n",
       "      <td>0.360137</td>\n",
       "      <td>[-0.115016, 0.315881]</td>\n",
       "      <td>0.514482</td>\n",
       "    </tr>\n",
       "    <tr>\n",
       "      <th>VA_4</th>\n",
       "      <td>0.124176</td>\n",
       "      <td>0.062814</td>\n",
       "      <td>-0.004679</td>\n",
       "      <td>0.253031</td>\n",
       "      <td>0.058882</td>\n",
       "      <td>[-0.004679, 0.253031]</td>\n",
       "      <td>0.294409</td>\n",
       "    </tr>\n",
       "  </tbody>\n",
       "</table>\n",
       "</div>"
      ],
      "text/plain": [
       "              coef    stderr      llci      ulci     pvals  \\\n",
       "LGN_9    -0.149686  0.051829 -0.264497 -0.034874  0.010720   \n",
       "VPL_7    -0.109161  0.077652 -0.265438  0.047115  0.170535   \n",
       "VLP_6    -0.106625  0.092477 -0.286748  0.073498  0.245336   \n",
       "AV_2     -0.088672  0.070059 -0.210556  0.033211  0.153502   \n",
       "Pul_8    -0.029199  0.124842 -0.269485  0.211087  0.811376   \n",
       "MGN_10   -0.007467  0.073632 -0.150230  0.135296  0.918183   \n",
       "VLa_5     0.000216  0.064464 -0.122552  0.122984  0.997240   \n",
       "CM_11     0.060011  0.067940 -0.067810  0.187832  0.356714   \n",
       "MD_Pf_12  0.100432  0.104229 -0.115016  0.315881  0.360137   \n",
       "VA_4      0.124176  0.062814 -0.004679  0.253031  0.058882   \n",
       "\n",
       "                              ci     p_fdr  \n",
       "LGN_9     [-0.264497, -0.034874]  0.107202  \n",
       "VPL_7      [-0.265438, 0.047115]  0.426338  \n",
       "VLP_6      [-0.286748, 0.073498]  0.490673  \n",
       "AV_2       [-0.210556, 0.033211]  0.426338  \n",
       "Pul_8      [-0.269485, 0.211087]  0.997240  \n",
       "MGN_10     [-0.150230, 0.135296]  0.997240  \n",
       "VLa_5      [-0.122552, 0.122984]  0.997240  \n",
       "CM_11      [-0.067810, 0.187832]  0.514482  \n",
       "MD_Pf_12   [-0.115016, 0.315881]  0.514482  \n",
       "VA_4       [-0.004679, 0.253031]  0.294409  "
      ]
     },
     "execution_count": 117,
     "metadata": {},
     "output_type": "execute_result"
    }
   ],
   "source": [
    "model_data = df_z.join(df_thomas_z)\n",
    "\n",
    "covariates = \"age + Female + tiv\"\n",
    "\n",
    "pvals = {}\n",
    "coefs = {}\n",
    "stderrs = {}\n",
    "llci = {}\n",
    "ulci = {}\n",
    "ci_str = {}\n",
    "\n",
    "for x in thalamic_nuclei:\n",
    "    col = hips_thomas_ref[x]\n",
    "    res = sm.OLS.from_formula(f\"{col} ~ THALAMUS_1 + tiv\", data=model_data).fit()\n",
    "    model_data[f\"{col}_resid\"] = res.resid\n",
    "\n",
    "    col2 = f\"{col}_resid\"\n",
    "    formula = f\"EDSS_sqrt ~ {col2}*dzdur + {covariates}\"\n",
    "    res = sm.OLS.from_formula(formula, data=model_data).fit()\n",
    "    pvals[col] = res.pvalues[col2]\n",
    "    coefs[col] = res.params[col2]\n",
    "    stderrs[col] = res.HC0_se[col2]\n",
    "    ci = res.conf_int()\n",
    "    llci[col] = ci.loc[col2, 0]\n",
    "    ulci[col] = ci.loc[col2, 1]\n",
    "    ci_str[col] = f\"[{llci[col]:.6f}, {ulci[col]:.6f}]\"\n",
    "\n",
    "regression_results = pd.DataFrame({\"coef\": coefs, \"stderr\": stderrs, \"llci\": llci, \"ulci\": ulci, \"pvals\": pvals, \"ci\": ci_str})\n",
    "regression_results['p_fdr'] = stats.false_discovery_control(\n",
    "    regression_results['pvals'], method='bh'\n",
    ")\n",
    "\n",
    "regression_results.sort_values(by=\"coef\")"
   ]
  },
  {
   "cell_type": "code",
   "execution_count": null,
   "id": "fc7b43ba",
   "metadata": {},
   "outputs": [],
   "source": []
  },
  {
   "cell_type": "code",
   "execution_count": 124,
   "id": "b9c99506",
   "metadata": {},
   "outputs": [
    {
     "data": {
      "application/vnd.microsoft.datawrangler.viewer.v0+json": {
       "columns": [
        {
         "name": "index",
         "rawType": "object",
         "type": "string"
        },
        {
         "name": "coef",
         "rawType": "float64",
         "type": "float"
        },
        {
         "name": "stderr",
         "rawType": "float64",
         "type": "float"
        },
        {
         "name": "llci",
         "rawType": "float64",
         "type": "float"
        },
        {
         "name": "ulci",
         "rawType": "float64",
         "type": "float"
        },
        {
         "name": "pvals",
         "rawType": "float64",
         "type": "float"
        },
        {
         "name": "ci",
         "rawType": "object",
         "type": "string"
        },
        {
         "name": "p_fdr",
         "rawType": "float64",
         "type": "float"
        }
       ],
       "ref": "6c6aa797-6863-4ac3-b718-6805b6df2c57",
       "rows": [
        [
         "THALAMUS_1",
         "-0.2386542970129815",
         "0.045351050778043446",
         "-0.334926289667163",
         "-0.1423823043588",
         "1.5383117731169238e-06",
         "[-0.334926, -0.142382]",
         "9.229870638701542e-06"
        ],
        [
         "anterior",
         "-0.1329467245577748",
         "0.06996929576969789",
         "-0.257914967803418",
         "-0.007978481312131594",
         "0.03711440819528036",
         "[-0.257915, -0.007978]",
         "0.11134322458584109"
        ],
        [
         "posterior",
         "-0.13066582963302997",
         "0.12808587962163442",
         "-0.38145627234506146",
         "0.12012461307900152",
         "0.3064099292351889",
         "[-0.381456, 0.120125]",
         "0.4596148938527833"
        ],
        [
         "ventral",
         "-0.030547996963614245",
         "0.1042962457629673",
         "-0.24205610547939188",
         "0.1809601115521634",
         "0.776657463079157",
         "[-0.242056, 0.180960]",
         "0.776657463079157"
        ],
        [
         "intralaminar",
         "0.05285515521203291",
         "0.06925095702511697",
         "-0.07487246891464339",
         "0.1805827793387092",
         "0.41649774323760924",
         "[-0.074872, 0.180583]",
         "0.49979729188513106"
        ],
        [
         "medial",
         "0.12608624254665327",
         "0.10251846414732577",
         "-0.08766540529590472",
         "0.33983789038921125",
         "0.24696139800908973",
         "[-0.087665, 0.339838]",
         "0.4596148938527833"
        ]
       ],
       "shape": {
        "columns": 7,
        "rows": 6
       }
      },
      "text/html": [
       "<div>\n",
       "<style scoped>\n",
       "    .dataframe tbody tr th:only-of-type {\n",
       "        vertical-align: middle;\n",
       "    }\n",
       "\n",
       "    .dataframe tbody tr th {\n",
       "        vertical-align: top;\n",
       "    }\n",
       "\n",
       "    .dataframe thead th {\n",
       "        text-align: right;\n",
       "    }\n",
       "</style>\n",
       "<table border=\"1\" class=\"dataframe\">\n",
       "  <thead>\n",
       "    <tr style=\"text-align: right;\">\n",
       "      <th></th>\n",
       "      <th>coef</th>\n",
       "      <th>stderr</th>\n",
       "      <th>llci</th>\n",
       "      <th>ulci</th>\n",
       "      <th>pvals</th>\n",
       "      <th>ci</th>\n",
       "      <th>p_fdr</th>\n",
       "    </tr>\n",
       "  </thead>\n",
       "  <tbody>\n",
       "    <tr>\n",
       "      <th>THALAMUS_1</th>\n",
       "      <td>-0.238654</td>\n",
       "      <td>0.045351</td>\n",
       "      <td>-0.334926</td>\n",
       "      <td>-0.142382</td>\n",
       "      <td>0.000002</td>\n",
       "      <td>[-0.334926, -0.142382]</td>\n",
       "      <td>0.000009</td>\n",
       "    </tr>\n",
       "    <tr>\n",
       "      <th>anterior</th>\n",
       "      <td>-0.132947</td>\n",
       "      <td>0.069969</td>\n",
       "      <td>-0.257915</td>\n",
       "      <td>-0.007978</td>\n",
       "      <td>0.037114</td>\n",
       "      <td>[-0.257915, -0.007978]</td>\n",
       "      <td>0.111343</td>\n",
       "    </tr>\n",
       "    <tr>\n",
       "      <th>posterior</th>\n",
       "      <td>-0.130666</td>\n",
       "      <td>0.128086</td>\n",
       "      <td>-0.381456</td>\n",
       "      <td>0.120125</td>\n",
       "      <td>0.306410</td>\n",
       "      <td>[-0.381456, 0.120125]</td>\n",
       "      <td>0.459615</td>\n",
       "    </tr>\n",
       "    <tr>\n",
       "      <th>ventral</th>\n",
       "      <td>-0.030548</td>\n",
       "      <td>0.104296</td>\n",
       "      <td>-0.242056</td>\n",
       "      <td>0.180960</td>\n",
       "      <td>0.776657</td>\n",
       "      <td>[-0.242056, 0.180960]</td>\n",
       "      <td>0.776657</td>\n",
       "    </tr>\n",
       "    <tr>\n",
       "      <th>intralaminar</th>\n",
       "      <td>0.052855</td>\n",
       "      <td>0.069251</td>\n",
       "      <td>-0.074872</td>\n",
       "      <td>0.180583</td>\n",
       "      <td>0.416498</td>\n",
       "      <td>[-0.074872, 0.180583]</td>\n",
       "      <td>0.499797</td>\n",
       "    </tr>\n",
       "    <tr>\n",
       "      <th>medial</th>\n",
       "      <td>0.126086</td>\n",
       "      <td>0.102518</td>\n",
       "      <td>-0.087665</td>\n",
       "      <td>0.339838</td>\n",
       "      <td>0.246961</td>\n",
       "      <td>[-0.087665, 0.339838]</td>\n",
       "      <td>0.459615</td>\n",
       "    </tr>\n",
       "  </tbody>\n",
       "</table>\n",
       "</div>"
      ],
      "text/plain": [
       "                  coef    stderr      llci      ulci     pvals  \\\n",
       "THALAMUS_1   -0.238654  0.045351 -0.334926 -0.142382  0.000002   \n",
       "anterior     -0.132947  0.069969 -0.257915 -0.007978  0.037114   \n",
       "posterior    -0.130666  0.128086 -0.381456  0.120125  0.306410   \n",
       "ventral      -0.030548  0.104296 -0.242056  0.180960  0.776657   \n",
       "intralaminar  0.052855  0.069251 -0.074872  0.180583  0.416498   \n",
       "medial        0.126086  0.102518 -0.087665  0.339838  0.246961   \n",
       "\n",
       "                                  ci     p_fdr  \n",
       "THALAMUS_1    [-0.334926, -0.142382]  0.000009  \n",
       "anterior      [-0.257915, -0.007978]  0.111343  \n",
       "posterior      [-0.381456, 0.120125]  0.459615  \n",
       "ventral        [-0.242056, 0.180960]  0.776657  \n",
       "intralaminar   [-0.074872, 0.180583]  0.499797  \n",
       "medial         [-0.087665, 0.339838]  0.459615  "
      ]
     },
     "execution_count": 124,
     "metadata": {},
     "output_type": "execute_result"
    }
   ],
   "source": [
    "model_data = df_z.join([df_thomas2_z])\n",
    "model_data = model_data[model_data.dz_type2 == \"MS\"]\n",
    "\n",
    "covariates = \"age + Female + tiv + THALAMUS_1\"\n",
    "\n",
    "pvals = {}\n",
    "coefs = {}\n",
    "stderrs = {}\n",
    "llci = {}\n",
    "ulci = {}\n",
    "ci_str = {}\n",
    "\n",
    "for col in df_thomas2:\n",
    "    formula = f\"EDSS_sqrt ~ {col}*dzdur + {covariates}\"\n",
    "    res = sm.OLS.from_formula(formula, data=model_data).fit()\n",
    "    pvals[col] = res.pvalues[col]\n",
    "    coefs[col] = res.params[col]\n",
    "    stderrs[col] = res.HC0_se[col]\n",
    "    ci = res.conf_int()\n",
    "    llci[col] = ci.loc[col, 0]\n",
    "    ulci[col] = ci.loc[col, 1]\n",
    "    ci_str[col] = f\"[{llci[col]:.6f}, {ulci[col]:.6f}]\"\n",
    "\n",
    "regression_results = pd.DataFrame({\"coef\": coefs, \"stderr\": stderrs, \"llci\": llci, \"ulci\": ulci, \"pvals\": pvals, \"ci\": ci_str})\n",
    "regression_results['p_fdr'] = stats.false_discovery_control(\n",
    "    regression_results['pvals'], method='bh'\n",
    ")\n",
    "\n",
    "regression_results.sort_values(by=\"coef\")"
   ]
  },
  {
   "cell_type": "code",
   "execution_count": 15,
   "id": "b8395ffb",
   "metadata": {},
   "outputs": [
    {
     "data": {
      "application/vnd.microsoft.datawrangler.viewer.v0+json": {
       "columns": [
        {
         "name": "index",
         "rawType": "object",
         "type": "string"
        },
        {
         "name": "coef",
         "rawType": "float64",
         "type": "float"
        },
        {
         "name": "stderr",
         "rawType": "float64",
         "type": "float"
        },
        {
         "name": "llci",
         "rawType": "float64",
         "type": "float"
        },
        {
         "name": "ulci",
         "rawType": "float64",
         "type": "float"
        },
        {
         "name": "pvals",
         "rawType": "float64",
         "type": "float"
        },
        {
         "name": "ci",
         "rawType": "object",
         "type": "string"
        },
        {
         "name": "p_fdr",
         "rawType": "float64",
         "type": "float"
        }
       ],
       "ref": "4788a1c1-b113-43a7-a3c5-3e2dd91d575b",
       "rows": [
        [
         "THALAMUS_1",
         "-0.4712410717259267",
         "0.04775641192272756",
         "-0.5574492321491545",
         "-0.3850329113026989",
         "3.496055685378907e-24",
         "[-0.557449, -0.385033]",
         "2.0976334112273444e-23"
        ],
        [
         "medial",
         "-0.3261694830159004",
         "0.10396784621930716",
         "-0.5225354466145176",
         "-0.12980351941728321",
         "0.0011795995627580296",
         "[-0.522535, -0.129804]",
         "0.002359199125516059"
        ],
        [
         "posterior",
         "-0.295483658130836",
         "0.11842166066876503",
         "-0.5278460244321304",
         "-0.06312129182954168",
         "0.01280286440467822",
         "[-0.527846, -0.063121]",
         "0.015363437285613863"
        ],
        [
         "intralaminar",
         "-0.17464498954857927",
         "0.06538340070610953",
         "-0.29291856592930404",
         "-0.0563714131678545",
         "0.00388848966405981",
         "[-0.292919, -0.056371]",
         "0.005832734496089715"
        ],
        [
         "anterior",
         "0.05596373737889044",
         "0.0647618125545611",
         "-0.05861124095841561",
         "0.1705387157161965",
         "0.3376318019411698",
         "[-0.058611, 0.170539]",
         "0.3376318019411698"
        ],
        [
         "ventral",
         "0.597347619731898",
         "0.0986149843966858",
         "0.40805583435266407",
         "0.7866394051111318",
         "1.2437612637185018e-09",
         "[0.408056, 0.786639]",
         "3.731283791155505e-09"
        ]
       ],
       "shape": {
        "columns": 7,
        "rows": 6
       }
      },
      "text/html": [
       "<div>\n",
       "<style scoped>\n",
       "    .dataframe tbody tr th:only-of-type {\n",
       "        vertical-align: middle;\n",
       "    }\n",
       "\n",
       "    .dataframe tbody tr th {\n",
       "        vertical-align: top;\n",
       "    }\n",
       "\n",
       "    .dataframe thead th {\n",
       "        text-align: right;\n",
       "    }\n",
       "</style>\n",
       "<table border=\"1\" class=\"dataframe\">\n",
       "  <thead>\n",
       "    <tr style=\"text-align: right;\">\n",
       "      <th></th>\n",
       "      <th>coef</th>\n",
       "      <th>stderr</th>\n",
       "      <th>llci</th>\n",
       "      <th>ulci</th>\n",
       "      <th>pvals</th>\n",
       "      <th>ci</th>\n",
       "      <th>p_fdr</th>\n",
       "    </tr>\n",
       "  </thead>\n",
       "  <tbody>\n",
       "    <tr>\n",
       "      <th>THALAMUS_1</th>\n",
       "      <td>-0.471241</td>\n",
       "      <td>0.047756</td>\n",
       "      <td>-0.557449</td>\n",
       "      <td>-0.385033</td>\n",
       "      <td>3.496056e-24</td>\n",
       "      <td>[-0.557449, -0.385033]</td>\n",
       "      <td>2.097633e-23</td>\n",
       "    </tr>\n",
       "    <tr>\n",
       "      <th>medial</th>\n",
       "      <td>-0.326169</td>\n",
       "      <td>0.103968</td>\n",
       "      <td>-0.522535</td>\n",
       "      <td>-0.129804</td>\n",
       "      <td>1.179600e-03</td>\n",
       "      <td>[-0.522535, -0.129804]</td>\n",
       "      <td>2.359199e-03</td>\n",
       "    </tr>\n",
       "    <tr>\n",
       "      <th>posterior</th>\n",
       "      <td>-0.295484</td>\n",
       "      <td>0.118422</td>\n",
       "      <td>-0.527846</td>\n",
       "      <td>-0.063121</td>\n",
       "      <td>1.280286e-02</td>\n",
       "      <td>[-0.527846, -0.063121]</td>\n",
       "      <td>1.536344e-02</td>\n",
       "    </tr>\n",
       "    <tr>\n",
       "      <th>intralaminar</th>\n",
       "      <td>-0.174645</td>\n",
       "      <td>0.065383</td>\n",
       "      <td>-0.292919</td>\n",
       "      <td>-0.056371</td>\n",
       "      <td>3.888490e-03</td>\n",
       "      <td>[-0.292919, -0.056371]</td>\n",
       "      <td>5.832734e-03</td>\n",
       "    </tr>\n",
       "    <tr>\n",
       "      <th>anterior</th>\n",
       "      <td>0.055964</td>\n",
       "      <td>0.064762</td>\n",
       "      <td>-0.058611</td>\n",
       "      <td>0.170539</td>\n",
       "      <td>3.376318e-01</td>\n",
       "      <td>[-0.058611, 0.170539]</td>\n",
       "      <td>3.376318e-01</td>\n",
       "    </tr>\n",
       "    <tr>\n",
       "      <th>ventral</th>\n",
       "      <td>0.597348</td>\n",
       "      <td>0.098615</td>\n",
       "      <td>0.408056</td>\n",
       "      <td>0.786639</td>\n",
       "      <td>1.243761e-09</td>\n",
       "      <td>[0.408056, 0.786639]</td>\n",
       "      <td>3.731284e-09</td>\n",
       "    </tr>\n",
       "  </tbody>\n",
       "</table>\n",
       "</div>"
      ],
      "text/plain": [
       "                  coef    stderr      llci      ulci         pvals  \\\n",
       "THALAMUS_1   -0.471241  0.047756 -0.557449 -0.385033  3.496056e-24   \n",
       "medial       -0.326169  0.103968 -0.522535 -0.129804  1.179600e-03   \n",
       "posterior    -0.295484  0.118422 -0.527846 -0.063121  1.280286e-02   \n",
       "intralaminar -0.174645  0.065383 -0.292919 -0.056371  3.888490e-03   \n",
       "anterior      0.055964  0.064762 -0.058611  0.170539  3.376318e-01   \n",
       "ventral       0.597348  0.098615  0.408056  0.786639  1.243761e-09   \n",
       "\n",
       "                                  ci         p_fdr  \n",
       "THALAMUS_1    [-0.557449, -0.385033]  2.097633e-23  \n",
       "medial        [-0.522535, -0.129804]  2.359199e-03  \n",
       "posterior     [-0.527846, -0.063121]  1.536344e-02  \n",
       "intralaminar  [-0.292919, -0.056371]  5.832734e-03  \n",
       "anterior       [-0.058611, 0.170539]  3.376318e-01  \n",
       "ventral         [0.408056, 0.786639]  3.731284e-09  "
      ]
     },
     "execution_count": 15,
     "metadata": {},
     "output_type": "execute_result"
    }
   ],
   "source": [
    "model_data = df_z.join([df_thomas2_z])\n",
    "model_data = model_data[model_data.dz_type2 == \"MS\"]\n",
    "\n",
    "covariates = \"age + Female + tiv + THALAMUS_1\"\n",
    "\n",
    "pvals = {}\n",
    "coefs = {}\n",
    "stderrs = {}\n",
    "llci = {}\n",
    "ulci = {}\n",
    "ci_str = {}\n",
    "\n",
    "for col in df_thomas2:\n",
    "    formula = f\"choroid_volume ~ {col} + {covariates}\"\n",
    "    res = sm.OLS.from_formula(formula, data=model_data).fit()\n",
    "    pvals[col] = res.pvalues[col]\n",
    "    coefs[col] = res.params[col]\n",
    "    stderrs[col] = res.HC0_se[col]\n",
    "    ci = res.conf_int()\n",
    "    llci[col] = ci.loc[col, 0]\n",
    "    ulci[col] = ci.loc[col, 1]\n",
    "    ci_str[col] = f\"[{llci[col]:.6f}, {ulci[col]:.6f}]\"\n",
    "\n",
    "regression_results = pd.DataFrame({\"coef\": coefs, \"stderr\": stderrs, \"llci\": llci, \"ulci\": ulci, \"pvals\": pvals, \"ci\": ci_str})\n",
    "regression_results['p_fdr'] = stats.false_discovery_control(\n",
    "    regression_results['pvals'], method='bh'\n",
    ")\n",
    "\n",
    "regression_results.sort_values(by=\"coef\")"
   ]
  },
  {
   "cell_type": "markdown",
   "id": "249cb250",
   "metadata": {},
   "source": [
    "### Deep Grey Structures"
   ]
  },
  {
   "cell_type": "code",
   "execution_count": 136,
   "id": "89dccceb",
   "metadata": {},
   "outputs": [
    {
     "data": {
      "application/vnd.microsoft.datawrangler.viewer.v0+json": {
       "columns": [
        {
         "name": "index",
         "rawType": "object",
         "type": "string"
        },
        {
         "name": "coef",
         "rawType": "float64",
         "type": "float"
        },
        {
         "name": "stderr",
         "rawType": "float64",
         "type": "float"
        },
        {
         "name": "llci",
         "rawType": "float64",
         "type": "float"
        },
        {
         "name": "ulci",
         "rawType": "float64",
         "type": "float"
        },
        {
         "name": "pvals",
         "rawType": "float64",
         "type": "float"
        },
        {
         "name": "p_fdr",
         "rawType": "float64",
         "type": "float"
        }
       ],
       "ref": "795d61dc-de55-447c-b17a-1856fc356ba2",
       "rows": [
        [
         "THALAMUS_1",
         "-0.29487826661416133",
         "0.04574541719153483",
         "-0.38822031129113166",
         "-0.201536221937191",
         "1.2207381754910873e-09",
         "1.4648858105893047e-08"
        ],
        [
         "Cla_28",
         "-0.2150972421344618",
         "0.049180575154421244",
         "-0.31374228987068664",
         "-0.11645219439823695",
         "2.2353157559934833e-05",
         "0.000134118945359609"
        ],
        [
         "Acc_26",
         "-0.17785842430382665",
         "0.04899922921683023",
         "-0.2803408992238963",
         "-0.07537594938375695",
         "0.0007065837988303501",
         "0.0028263351953214002"
        ],
        [
         "RN_32",
         "-0.14870514429977919",
         "0.05409000931491778",
         "-0.25889865874226003",
         "-0.03851162985729836",
         "0.00828267010326102",
         "0.019878408247826447"
        ],
        [
         "Hb_13",
         "-0.13473312549729766",
         "0.043543013015407736",
         "-0.2197434689569422",
         "-0.04972278203765311",
         "0.001959033633340192",
         "0.005877100900020577"
        ],
        [
         "Cau_27",
         "-0.13337152893137",
         "0.05459390353705746",
         "-0.23468514821010733",
         "-0.03205790965263268",
         "0.009991938041242824",
         "0.019983876082485648"
        ],
        [
         "Amy_34",
         "-0.1119042065879965",
         "0.0455683524185362",
         "-0.20012212059893802",
         "-0.02368629257705497",
         "0.0130288892608905",
         "0.02233523873295514"
        ],
        [
         "Put_31",
         "-0.08423784585662256",
         "0.059146567304476975",
         "-0.19274434820477296",
         "0.024268656491527846",
         "0.12778558544778737",
         "0.19167837817168104"
        ],
        [
         "GP_33",
         "-0.07363365979357255",
         "0.0500060672974728",
         "-0.17746129195828667",
         "0.030193972371141575",
         "0.16408260925623466",
         "0.19689913110748158"
        ],
        [
         "GPe_29",
         "-0.07362492485607067",
         "0.04818789089231813",
         "-0.17602356883610584",
         "0.02877371912396451",
         "0.15833913837480068",
         "0.19689913110748158"
        ],
        [
         "GPi_30",
         "-0.05806568544690697",
         "0.0516994157032772",
         "-0.1581368120319214",
         "0.04200544113810747",
         "0.2547546294108759",
         "0.27791414117550095"
        ],
        [
         "MTT_14",
         "0.034367556185062216",
         "0.05042570551753655",
         "-0.0684408077630396",
         "0.13717592013316401",
         "0.5115398596929608",
         "0.5115398596929608"
        ]
       ],
       "shape": {
        "columns": 6,
        "rows": 12
       }
      },
      "text/html": [
       "<div>\n",
       "<style scoped>\n",
       "    .dataframe tbody tr th:only-of-type {\n",
       "        vertical-align: middle;\n",
       "    }\n",
       "\n",
       "    .dataframe tbody tr th {\n",
       "        vertical-align: top;\n",
       "    }\n",
       "\n",
       "    .dataframe thead th {\n",
       "        text-align: right;\n",
       "    }\n",
       "</style>\n",
       "<table border=\"1\" class=\"dataframe\">\n",
       "  <thead>\n",
       "    <tr style=\"text-align: right;\">\n",
       "      <th></th>\n",
       "      <th>coef</th>\n",
       "      <th>stderr</th>\n",
       "      <th>llci</th>\n",
       "      <th>ulci</th>\n",
       "      <th>pvals</th>\n",
       "      <th>p_fdr</th>\n",
       "    </tr>\n",
       "  </thead>\n",
       "  <tbody>\n",
       "    <tr>\n",
       "      <th>THALAMUS_1</th>\n",
       "      <td>-0.294878</td>\n",
       "      <td>0.045745</td>\n",
       "      <td>-0.388220</td>\n",
       "      <td>-0.201536</td>\n",
       "      <td>1.220738e-09</td>\n",
       "      <td>1.464886e-08</td>\n",
       "    </tr>\n",
       "    <tr>\n",
       "      <th>Cla_28</th>\n",
       "      <td>-0.215097</td>\n",
       "      <td>0.049181</td>\n",
       "      <td>-0.313742</td>\n",
       "      <td>-0.116452</td>\n",
       "      <td>2.235316e-05</td>\n",
       "      <td>1.341189e-04</td>\n",
       "    </tr>\n",
       "    <tr>\n",
       "      <th>Acc_26</th>\n",
       "      <td>-0.177858</td>\n",
       "      <td>0.048999</td>\n",
       "      <td>-0.280341</td>\n",
       "      <td>-0.075376</td>\n",
       "      <td>7.065838e-04</td>\n",
       "      <td>2.826335e-03</td>\n",
       "    </tr>\n",
       "    <tr>\n",
       "      <th>RN_32</th>\n",
       "      <td>-0.148705</td>\n",
       "      <td>0.054090</td>\n",
       "      <td>-0.258899</td>\n",
       "      <td>-0.038512</td>\n",
       "      <td>8.282670e-03</td>\n",
       "      <td>1.987841e-02</td>\n",
       "    </tr>\n",
       "    <tr>\n",
       "      <th>Hb_13</th>\n",
       "      <td>-0.134733</td>\n",
       "      <td>0.043543</td>\n",
       "      <td>-0.219743</td>\n",
       "      <td>-0.049723</td>\n",
       "      <td>1.959034e-03</td>\n",
       "      <td>5.877101e-03</td>\n",
       "    </tr>\n",
       "    <tr>\n",
       "      <th>Cau_27</th>\n",
       "      <td>-0.133372</td>\n",
       "      <td>0.054594</td>\n",
       "      <td>-0.234685</td>\n",
       "      <td>-0.032058</td>\n",
       "      <td>9.991938e-03</td>\n",
       "      <td>1.998388e-02</td>\n",
       "    </tr>\n",
       "    <tr>\n",
       "      <th>Amy_34</th>\n",
       "      <td>-0.111904</td>\n",
       "      <td>0.045568</td>\n",
       "      <td>-0.200122</td>\n",
       "      <td>-0.023686</td>\n",
       "      <td>1.302889e-02</td>\n",
       "      <td>2.233524e-02</td>\n",
       "    </tr>\n",
       "    <tr>\n",
       "      <th>Put_31</th>\n",
       "      <td>-0.084238</td>\n",
       "      <td>0.059147</td>\n",
       "      <td>-0.192744</td>\n",
       "      <td>0.024269</td>\n",
       "      <td>1.277856e-01</td>\n",
       "      <td>1.916784e-01</td>\n",
       "    </tr>\n",
       "    <tr>\n",
       "      <th>GP_33</th>\n",
       "      <td>-0.073634</td>\n",
       "      <td>0.050006</td>\n",
       "      <td>-0.177461</td>\n",
       "      <td>0.030194</td>\n",
       "      <td>1.640826e-01</td>\n",
       "      <td>1.968991e-01</td>\n",
       "    </tr>\n",
       "    <tr>\n",
       "      <th>GPe_29</th>\n",
       "      <td>-0.073625</td>\n",
       "      <td>0.048188</td>\n",
       "      <td>-0.176024</td>\n",
       "      <td>0.028774</td>\n",
       "      <td>1.583391e-01</td>\n",
       "      <td>1.968991e-01</td>\n",
       "    </tr>\n",
       "    <tr>\n",
       "      <th>GPi_30</th>\n",
       "      <td>-0.058066</td>\n",
       "      <td>0.051699</td>\n",
       "      <td>-0.158137</td>\n",
       "      <td>0.042005</td>\n",
       "      <td>2.547546e-01</td>\n",
       "      <td>2.779141e-01</td>\n",
       "    </tr>\n",
       "    <tr>\n",
       "      <th>MTT_14</th>\n",
       "      <td>0.034368</td>\n",
       "      <td>0.050426</td>\n",
       "      <td>-0.068441</td>\n",
       "      <td>0.137176</td>\n",
       "      <td>5.115399e-01</td>\n",
       "      <td>5.115399e-01</td>\n",
       "    </tr>\n",
       "  </tbody>\n",
       "</table>\n",
       "</div>"
      ],
      "text/plain": [
       "                coef    stderr      llci      ulci         pvals         p_fdr\n",
       "THALAMUS_1 -0.294878  0.045745 -0.388220 -0.201536  1.220738e-09  1.464886e-08\n",
       "Cla_28     -0.215097  0.049181 -0.313742 -0.116452  2.235316e-05  1.341189e-04\n",
       "Acc_26     -0.177858  0.048999 -0.280341 -0.075376  7.065838e-04  2.826335e-03\n",
       "RN_32      -0.148705  0.054090 -0.258899 -0.038512  8.282670e-03  1.987841e-02\n",
       "Hb_13      -0.134733  0.043543 -0.219743 -0.049723  1.959034e-03  5.877101e-03\n",
       "Cau_27     -0.133372  0.054594 -0.234685 -0.032058  9.991938e-03  1.998388e-02\n",
       "Amy_34     -0.111904  0.045568 -0.200122 -0.023686  1.302889e-02  2.233524e-02\n",
       "Put_31     -0.084238  0.059147 -0.192744  0.024269  1.277856e-01  1.916784e-01\n",
       "GP_33      -0.073634  0.050006 -0.177461  0.030194  1.640826e-01  1.968991e-01\n",
       "GPe_29     -0.073625  0.048188 -0.176024  0.028774  1.583391e-01  1.968991e-01\n",
       "GPi_30     -0.058066  0.051699 -0.158137  0.042005  2.547546e-01  2.779141e-01\n",
       "MTT_14      0.034368  0.050426 -0.068441  0.137176  5.115399e-01  5.115399e-01"
      ]
     },
     "execution_count": 136,
     "metadata": {},
     "output_type": "execute_result"
    }
   ],
   "source": [
    "model_data = df_z.join(df_thomas_z)\n",
    "model_data = model_data[model_data['dz_type5'].isin([\"RMS\", \"PMS\"])]\n",
    "covariates = \"age + Female + tiv\"\n",
    "\n",
    "pvals = {}\n",
    "coefs = {}\n",
    "stderrs = {}\n",
    "llci = {}\n",
    "ulci = {}\n",
    "\n",
    "outcome = \"EDSS_sqrt\"\n",
    "structs = hips_thomas_ref.index[~hips_thomas_ref.index.isin(thalamic_nuclei)]\n",
    "\n",
    "all_results = {}\n",
    "for x in structs:\n",
    "    col = hips_thomas_ref[x]\n",
    "    formula = f\"{outcome} ~ {col} + {covariates}\"\n",
    "    res = sm.OLS.from_formula(formula, data=model_data).fit()\n",
    "    pvals[col] = res.pvalues[col]\n",
    "    coefs[col] = res.params[col]\n",
    "    stderrs[col] = res.HC0_se[col]\n",
    "    ci = res.conf_int()\n",
    "    llci[col] = ci.loc[col, 0]\n",
    "    ulci[col] = ci.loc[col, 1]\n",
    "\n",
    "\n",
    "regression_results = pd.DataFrame({\"coef\": coefs, \"stderr\": stderrs, \"llci\": llci, \"ulci\": ulci, \"pvals\": pvals})\n",
    "regression_results['p_fdr'] = stats.false_discovery_control(\n",
    "    regression_results['pvals'], method='bh'\n",
    ")\n",
    "regression_results.sort_values(by=\"coef\", inplace=True)\n",
    "regression_results.to_csv(fig_path / \"deep_grey_regressions.csv\")\n",
    "regression_results"
   ]
  },
  {
   "cell_type": "code",
   "execution_count": 210,
   "id": "1b2cebe7",
   "metadata": {},
   "outputs": [],
   "source": [
    "vif_data = df_thomas_z[hips_thomas_ref[thalamic_nuclei + [1]]]\n",
    "vif = pd.DataFrame()\n",
    "vif['struct'] = vif_data.columns\n",
    "vif.set_index(\"struct\", inplace=True)\n",
    "vif['VIF'] = [variance_inflation_factor(vif_data.values, i, )\n",
    "                          for i in range(len(vif_data.columns))]"
   ]
  },
  {
   "cell_type": "code",
   "execution_count": 225,
   "id": "44b2e67e",
   "metadata": {},
   "outputs": [
    {
     "name": "stdout",
     "output_type": "stream",
     "text": [
      "                            OLS Regression Results                            \n",
      "==============================================================================\n",
      "Dep. Variable:              EDSS_sqrt   R-squared:                       0.289\n",
      "Model:                            OLS   Adj. R-squared:                  0.277\n",
      "Method:                 Least Squares   F-statistic:                     22.61\n",
      "Date:                Thu, 05 Jun 2025   Prob (F-statistic):           5.27e-29\n",
      "Time:                        20:05:35   Log-Likelihood:                -569.77\n",
      "No. Observations:                 453   AIC:                             1158.\n",
      "Df Residuals:                     444   BIC:                             1195.\n",
      "Df Model:                           8                                         \n",
      "Covariance Type:            nonrobust                                         \n",
      "================================================================================\n",
      "                   coef    std err          t      P>|t|      [0.025      0.975]\n",
      "--------------------------------------------------------------------------------\n",
      "Intercept       -0.0257      0.041     -0.631      0.529      -0.106       0.055\n",
      "age              0.3437      0.046      7.519      0.000       0.254       0.434\n",
      "Female          -0.0461      0.049     -0.933      0.352      -0.143       0.051\n",
      "tiv              0.0227      0.062      0.366      0.714      -0.099       0.145\n",
      "anterior        -0.0950      0.063     -1.501      0.134      -0.219       0.029\n",
      "ventral         -0.1382      0.083     -1.674      0.095      -0.300       0.024\n",
      "intralaminar     0.0562      0.065      0.871      0.384      -0.071       0.183\n",
      "medial           0.0265      0.093      0.286      0.775      -0.156       0.209\n",
      "posterior       -0.1812      0.093     -1.948      0.052      -0.364       0.002\n",
      "==============================================================================\n",
      "Omnibus:                        6.373   Durbin-Watson:                   2.017\n",
      "Prob(Omnibus):                  0.041   Jarque-Bera (JB):                6.208\n",
      "Skew:                           0.279   Prob(JB):                       0.0449\n",
      "Kurtosis:                       3.135   Cond. No.                         6.12\n",
      "==============================================================================\n",
      "\n",
      "Notes:\n",
      "[1] Standard Errors assume that the covariance matrix of the errors is correctly specified.\n"
     ]
    }
   ],
   "source": [
    "model_data = df_z.join(df_thomas2_z)\n",
    "model_data = model_data[model_data['dz_type5'].isin([\"RMS\", \"PMS\"])]\n",
    "formula = f\"EDSS_sqrt ~ age + Female + tiv + {\" + \".join(df_thomas2_z.columns[~df_thomas2_z.columns.isin([\"THALAMUS_1\"])])}\"\n",
    "res = sm.OLS.from_formula(formula, data=model_data).fit()\n",
    "print(res.summary())\n"
   ]
  },
  {
   "cell_type": "markdown",
   "id": "6ae74860",
   "metadata": {},
   "source": [
    "---"
   ]
  },
  {
   "cell_type": "markdown",
   "id": "efc6444d",
   "metadata": {},
   "source": [
    "### Elastic Net Trials"
   ]
  },
  {
   "cell_type": "code",
   "execution_count": 46,
   "id": "92ea2215",
   "metadata": {},
   "outputs": [],
   "source": [
    "from sklearn.linear_model import Lasso\n",
    "from sklearn.model_selection import train_test_split\n",
    "from sklearn.metrics import mean_squared_error\n",
    "from sklearn.impute import SimpleImputer\n",
    "import numpy as np"
   ]
  },
  {
   "cell_type": "code",
   "execution_count": 50,
   "id": "b0df4d81",
   "metadata": {},
   "outputs": [
    {
     "name": "stdout",
     "output_type": "stream",
     "text": [
      "Mean Squared Error: 1.0688643148091397\n",
      "Coefficients: [-0.16628181 -0.         -0.         -0.         -0.         -0.02281968\n",
      " -0.02927025 -0.15345964 -0.         -0.        ]\n"
     ]
    }
   ],
   "source": [
    "model_data = df_z.join(df_thomas_z)\n",
    "model_data = model_data[model_data['dz_type5'].isin([\"RMS\", \"PMS\"])]\n",
    "model_data = model_data[~model_data['EDSS_sqrt'].isna()]\n",
    "\n",
    "structs = hips_thomas_ref[thalamic_nuclei]\n",
    "\n",
    "\n",
    "X = model_data[structs]\n",
    "y = model_data['EDSS_sqrt']\n",
    "\n",
    "X_train, X_test, y_train, y_test = train_test_split(X, y, test_size=0.2, random_state=42)\n",
    "\n",
    "# Create a Lasso Regression model with a specific alpha (regularization strength)\n",
    "alpha = 0.1  # Adjust alpha as needed\n",
    "lasso = Lasso(alpha=alpha)\n",
    "\n",
    "# Train the model\n",
    "lasso.fit(X_train, y_train)\n",
    "\n",
    "# Make predictions on the test set\n",
    "y_pred = lasso.predict(X_test)\n",
    "\n",
    "# Evaluate the model\n",
    "mse = mean_squared_error(y_test, y_pred)\n",
    "print(f\"Mean Squared Error: {mse}\")\n",
    "\n",
    "# Print the coefficients (note that some may be zero)\n",
    "print(\"Coefficients:\", lasso.coef_)"
   ]
  },
  {
   "cell_type": "code",
   "execution_count": 51,
   "id": "a326119a",
   "metadata": {},
   "outputs": [
    {
     "data": {
      "application/vnd.microsoft.datawrangler.viewer.v0+json": {
       "columns": [
        {
         "name": "index",
         "rawType": "object",
         "type": "string"
        },
        {
         "name": "coef",
         "rawType": "float64",
         "type": "float"
        },
        {
         "name": "abs",
         "rawType": "float64",
         "type": "float"
        }
       ],
       "ref": "07ad2f61-477e-4219-97ff-5c8d4bf716c1",
       "rows": [
        [
         "AV_2",
         "-0.16628180926576694",
         "0.16628180926576694"
        ],
        [
         "MGN_10",
         "-0.15345963540346846",
         "0.15345963540346846"
        ],
        [
         "LGN_9",
         "-0.02927024837546813",
         "0.02927024837546813"
        ],
        [
         "Pul_8",
         "-0.022819676911347283",
         "0.022819676911347283"
        ],
        [
         "VA_4",
         "-0.0",
         "0.0"
        ],
        [
         "VLa_5",
         "-0.0",
         "0.0"
        ],
        [
         "VLP_6",
         "-0.0",
         "0.0"
        ],
        [
         "VPL_7",
         "-0.0",
         "0.0"
        ],
        [
         "CM_11",
         "-0.0",
         "0.0"
        ],
        [
         "MD_Pf_12",
         "-0.0",
         "0.0"
        ]
       ],
       "shape": {
        "columns": 2,
        "rows": 10
       }
      },
      "text/html": [
       "<div>\n",
       "<style scoped>\n",
       "    .dataframe tbody tr th:only-of-type {\n",
       "        vertical-align: middle;\n",
       "    }\n",
       "\n",
       "    .dataframe tbody tr th {\n",
       "        vertical-align: top;\n",
       "    }\n",
       "\n",
       "    .dataframe thead th {\n",
       "        text-align: right;\n",
       "    }\n",
       "</style>\n",
       "<table border=\"1\" class=\"dataframe\">\n",
       "  <thead>\n",
       "    <tr style=\"text-align: right;\">\n",
       "      <th></th>\n",
       "      <th>coef</th>\n",
       "      <th>abs</th>\n",
       "    </tr>\n",
       "  </thead>\n",
       "  <tbody>\n",
       "    <tr>\n",
       "      <th>AV_2</th>\n",
       "      <td>-0.166282</td>\n",
       "      <td>0.166282</td>\n",
       "    </tr>\n",
       "    <tr>\n",
       "      <th>MGN_10</th>\n",
       "      <td>-0.153460</td>\n",
       "      <td>0.153460</td>\n",
       "    </tr>\n",
       "    <tr>\n",
       "      <th>LGN_9</th>\n",
       "      <td>-0.029270</td>\n",
       "      <td>0.029270</td>\n",
       "    </tr>\n",
       "    <tr>\n",
       "      <th>Pul_8</th>\n",
       "      <td>-0.022820</td>\n",
       "      <td>0.022820</td>\n",
       "    </tr>\n",
       "    <tr>\n",
       "      <th>VA_4</th>\n",
       "      <td>-0.000000</td>\n",
       "      <td>0.000000</td>\n",
       "    </tr>\n",
       "    <tr>\n",
       "      <th>VLa_5</th>\n",
       "      <td>-0.000000</td>\n",
       "      <td>0.000000</td>\n",
       "    </tr>\n",
       "    <tr>\n",
       "      <th>VLP_6</th>\n",
       "      <td>-0.000000</td>\n",
       "      <td>0.000000</td>\n",
       "    </tr>\n",
       "    <tr>\n",
       "      <th>VPL_7</th>\n",
       "      <td>-0.000000</td>\n",
       "      <td>0.000000</td>\n",
       "    </tr>\n",
       "    <tr>\n",
       "      <th>CM_11</th>\n",
       "      <td>-0.000000</td>\n",
       "      <td>0.000000</td>\n",
       "    </tr>\n",
       "    <tr>\n",
       "      <th>MD_Pf_12</th>\n",
       "      <td>-0.000000</td>\n",
       "      <td>0.000000</td>\n",
       "    </tr>\n",
       "  </tbody>\n",
       "</table>\n",
       "</div>"
      ],
      "text/plain": [
       "              coef       abs\n",
       "AV_2     -0.166282  0.166282\n",
       "MGN_10   -0.153460  0.153460\n",
       "LGN_9    -0.029270  0.029270\n",
       "Pul_8    -0.022820  0.022820\n",
       "VA_4     -0.000000  0.000000\n",
       "VLa_5    -0.000000  0.000000\n",
       "VLP_6    -0.000000  0.000000\n",
       "VPL_7    -0.000000  0.000000\n",
       "CM_11    -0.000000  0.000000\n",
       "MD_Pf_12 -0.000000  0.000000"
      ]
     },
     "execution_count": 51,
     "metadata": {},
     "output_type": "execute_result"
    }
   ],
   "source": [
    "check = pd.DataFrame({\"coef\": lasso.coef_}, index=X.columns)\n",
    "check['abs'] = check['coef'].abs()\n",
    "check = check.sort_values(by=\"abs\", ascending=False)\n",
    "check"
   ]
  },
  {
   "cell_type": "code",
   "execution_count": 49,
   "id": "e71c853a",
   "metadata": {},
   "outputs": [
    {
     "name": "stdout",
     "output_type": "stream",
     "text": [
      "0.04268818040991856\n",
      "-0.005121767360380086\n",
      "1.042679507226447\n"
     ]
    },
    {
     "data": {
      "application/vnd.microsoft.datawrangler.viewer.v0+json": {
       "columns": [
        {
         "name": "index",
         "rawType": "object",
         "type": "string"
        },
        {
         "name": "coef",
         "rawType": "float64",
         "type": "float"
        },
        {
         "name": "abs",
         "rawType": "float64",
         "type": "float"
        }
       ],
       "ref": "5543011c-5bc6-4da8-8eb7-49e0e4addda4",
       "rows": [
        [
         "AV_2",
         "-0.20327376230688912",
         "0.20327376230688912"
        ],
        [
         "MGN_10",
         "-0.16757084292327143",
         "0.16757084292327143"
        ],
        [
         "LGN_9",
         "-0.05859226909307618",
         "0.05859226909307618"
        ],
        [
         "Pul_8",
         "-0.03511566721552397",
         "0.03511566721552397"
        ],
        [
         "VLa_5",
         "-0.013013527996647742",
         "0.013013527996647742"
        ],
        [
         "VA_4",
         "0.0",
         "0.0"
        ],
        [
         "VLP_6",
         "-0.0",
         "0.0"
        ],
        [
         "VPL_7",
         "0.0",
         "0.0"
        ],
        [
         "CM_11",
         "-0.0",
         "0.0"
        ],
        [
         "MD_Pf_12",
         "-0.0",
         "0.0"
        ],
        [
         "THALAMUS_1",
         "-0.0",
         "0.0"
        ]
       ],
       "shape": {
        "columns": 2,
        "rows": 11
       }
      },
      "text/html": [
       "<div>\n",
       "<style scoped>\n",
       "    .dataframe tbody tr th:only-of-type {\n",
       "        vertical-align: middle;\n",
       "    }\n",
       "\n",
       "    .dataframe tbody tr th {\n",
       "        vertical-align: top;\n",
       "    }\n",
       "\n",
       "    .dataframe thead th {\n",
       "        text-align: right;\n",
       "    }\n",
       "</style>\n",
       "<table border=\"1\" class=\"dataframe\">\n",
       "  <thead>\n",
       "    <tr style=\"text-align: right;\">\n",
       "      <th></th>\n",
       "      <th>coef</th>\n",
       "      <th>abs</th>\n",
       "    </tr>\n",
       "  </thead>\n",
       "  <tbody>\n",
       "    <tr>\n",
       "      <th>AV_2</th>\n",
       "      <td>-0.203274</td>\n",
       "      <td>0.203274</td>\n",
       "    </tr>\n",
       "    <tr>\n",
       "      <th>MGN_10</th>\n",
       "      <td>-0.167571</td>\n",
       "      <td>0.167571</td>\n",
       "    </tr>\n",
       "    <tr>\n",
       "      <th>LGN_9</th>\n",
       "      <td>-0.058592</td>\n",
       "      <td>0.058592</td>\n",
       "    </tr>\n",
       "    <tr>\n",
       "      <th>Pul_8</th>\n",
       "      <td>-0.035116</td>\n",
       "      <td>0.035116</td>\n",
       "    </tr>\n",
       "    <tr>\n",
       "      <th>VLa_5</th>\n",
       "      <td>-0.013014</td>\n",
       "      <td>0.013014</td>\n",
       "    </tr>\n",
       "    <tr>\n",
       "      <th>VA_4</th>\n",
       "      <td>0.000000</td>\n",
       "      <td>0.000000</td>\n",
       "    </tr>\n",
       "    <tr>\n",
       "      <th>VLP_6</th>\n",
       "      <td>-0.000000</td>\n",
       "      <td>0.000000</td>\n",
       "    </tr>\n",
       "    <tr>\n",
       "      <th>VPL_7</th>\n",
       "      <td>0.000000</td>\n",
       "      <td>0.000000</td>\n",
       "    </tr>\n",
       "    <tr>\n",
       "      <th>CM_11</th>\n",
       "      <td>-0.000000</td>\n",
       "      <td>0.000000</td>\n",
       "    </tr>\n",
       "    <tr>\n",
       "      <th>MD_Pf_12</th>\n",
       "      <td>-0.000000</td>\n",
       "      <td>0.000000</td>\n",
       "    </tr>\n",
       "    <tr>\n",
       "      <th>THALAMUS_1</th>\n",
       "      <td>-0.000000</td>\n",
       "      <td>0.000000</td>\n",
       "    </tr>\n",
       "  </tbody>\n",
       "</table>\n",
       "</div>"
      ],
      "text/plain": [
       "                coef       abs\n",
       "AV_2       -0.203274  0.203274\n",
       "MGN_10     -0.167571  0.167571\n",
       "LGN_9      -0.058592  0.058592\n",
       "Pul_8      -0.035116  0.035116\n",
       "VLa_5      -0.013014  0.013014\n",
       "VA_4        0.000000  0.000000\n",
       "VLP_6      -0.000000  0.000000\n",
       "VPL_7       0.000000  0.000000\n",
       "CM_11      -0.000000  0.000000\n",
       "MD_Pf_12   -0.000000  0.000000\n",
       "THALAMUS_1 -0.000000  0.000000"
      ]
     },
     "execution_count": 49,
     "metadata": {},
     "output_type": "execute_result"
    }
   ],
   "source": [
    "from sklearn.linear_model import ElasticNetCV\n",
    "\n",
    "\n",
    "regr = ElasticNetCV(cv=10, random_state=0)\n",
    "regr.fit(X_train, y_train)\n",
    "print(regr.alpha_)\n",
    "print(regr.intercept_)\n",
    "y_pred = regr.predict(X_test)\n",
    "\n",
    "mse = mean_squared_error(y_test, y_pred)\n",
    "print(mse)\n",
    "\n",
    "check = pd.DataFrame({\"coef\": regr.coef_}, index=X.columns)\n",
    "check['abs'] = check['coef'].abs()\n",
    "check = check.sort_values(by=\"abs\", ascending=False)\n",
    "check"
   ]
  },
  {
   "cell_type": "code",
   "execution_count": 245,
   "id": "8b192677",
   "metadata": {},
   "outputs": [
    {
     "name": "stdout",
     "output_type": "stream",
     "text": [
      "                            OLS Regression Results                            \n",
      "==============================================================================\n",
      "Dep. Variable:              EDSS_sqrt   R-squared:                       0.275\n",
      "Model:                            OLS   Adj. R-squared:                  0.267\n",
      "Method:                 Least Squares   F-statistic:                     33.94\n",
      "Date:                Thu, 05 Jun 2025   Prob (F-statistic):           2.15e-29\n",
      "Time:                        20:52:20   Log-Likelihood:                -574.28\n",
      "No. Observations:                 453   AIC:                             1161.\n",
      "Df Residuals:                     447   BIC:                             1185.\n",
      "Df Model:                           5                                         \n",
      "Covariance Type:            nonrobust                                         \n",
      "==============================================================================\n",
      "                 coef    std err          t      P>|t|      [0.025      0.975]\n",
      "------------------------------------------------------------------------------\n",
      "Intercept     -0.0215      0.041     -0.524      0.601      -0.102       0.059\n",
      "age            0.3215      0.047      6.876      0.000       0.230       0.413\n",
      "Female        -0.0603      0.048     -1.256      0.210      -0.155       0.034\n",
      "tiv           -0.0140      0.052     -0.267      0.789      -0.117       0.089\n",
      "AV_2          -0.1829      0.055     -3.310      0.001      -0.291      -0.074\n",
      "MGN_10        -0.1369      0.056     -2.439      0.015      -0.247      -0.027\n",
      "==============================================================================\n",
      "Omnibus:                        4.894   Durbin-Watson:                   2.027\n",
      "Prob(Omnibus):                  0.087   Jarque-Bera (JB):                4.746\n",
      "Skew:                           0.248   Prob(JB):                       0.0932\n",
      "Kurtosis:                       3.076   Cond. No.                         2.47\n",
      "==============================================================================\n",
      "\n",
      "Notes:\n",
      "[1] Standard Errors assume that the covariance matrix of the errors is correctly specified.\n"
     ]
    }
   ],
   "source": [
    "formula = \"EDSS_sqrt ~ age + Female + tiv + AV_2 + MGN_10\"\n",
    "res = sm.OLS.from_formula(formula, data=model_data).fit()\n",
    "print(res.summary())"
   ]
  }
 ],
 "metadata": {
  "kernelspec": {
   "display_name": "monai",
   "language": "python",
   "name": "python3"
  },
  "language_info": {
   "codemirror_mode": {
    "name": "ipython",
    "version": 3
   },
   "file_extension": ".py",
   "mimetype": "text/x-python",
   "name": "python",
   "nbconvert_exporter": "python",
   "pygments_lexer": "ipython3",
   "version": "3.12.7"
  }
 },
 "nbformat": 4,
 "nbformat_minor": 5
}
