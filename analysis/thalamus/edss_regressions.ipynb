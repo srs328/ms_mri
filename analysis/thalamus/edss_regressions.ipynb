{
 "cells": [
  {
   "cell_type": "code",
   "execution_count": 2,
   "id": "76cab6dd",
   "metadata": {},
   "outputs": [],
   "source": [
    "import pandas as pd\n",
    "from warnings import simplefilter\n",
    "simplefilter(action=\"ignore\", category=pd.errors.PerformanceWarning)\n",
    "from pathlib import Path\n",
    "import json\n",
    "import numpy as np\n",
    "from collections import defaultdict\n",
    "import matplotlib.pyplot as plt\n",
    "from datetime import datetime\n",
    "import re\n",
    "from scipy import stats\n",
    "import numpy as np\n",
    "import statsmodels.api as sm\n",
    "import statsmodels\n",
    "from matplotlib import colormaps\n",
    "from tqdm.notebook import tqdm\n",
    "import helpers\n",
    "from collections import defaultdict\n",
    "from tqdm.notebook import tqdm\n",
    "\n",
    "\n",
    "from statsmodels.stats.outliers_influence import variance_inflation_factor\n",
    "from statsmodels.regression.linear_model import OLS\n",
    "\n",
    "from mri_data import file_manager as fm"
   ]
  },
  {
   "cell_type": "markdown",
   "id": "890635c5",
   "metadata": {},
   "source": [
    "## Load Data"
   ]
  },
  {
   "cell_type": "code",
   "execution_count": 3,
   "id": "000132f9",
   "metadata": {},
   "outputs": [],
   "source": [
    "drive_root = fm.get_drive_root()\n",
    "dataroot = drive_root / \"3Tpioneer_bids\"\n",
    "data_dir = Path(\"/home/srs-9/Projects/ms_mri/data\")\n",
    "fig_path = Path(\"/home/srs-9/Projects/ms_mri/analysis/thalamus/figures_tables/edss_regressions\")\n",
    "\n",
    "choroid_volumes = pd.read_csv(\n",
    "    \"/home/srs-9/Projects/ms_mri/data/choroid_aschoplex_volumes.csv\", index_col=\"subid\"\n",
    ").dropna()\n",
    "tiv = pd.read_csv(\"/home/srs-9/Projects/ms_mri/data/tiv_data.csv\", index_col=\"subid\")\n",
    "\n",
    "df = pd.read_csv(\n",
    "    \"/home/srs-9/Projects/ms_mri/data/clinical_data_processed.csv\", index_col=\"subid\"\n",
    ")\n",
    "df = df.join([choroid_volumes, tiv])\n",
    "df['thalamus_sqrt'] = np.sqrt(df['thalamus'])\n",
    "df['thalamus_curt'] = np.sqrt(df['thalamus']**3)\n",
    "df_z = df.copy()\n",
    "numeric_cols = df.select_dtypes(include='number').columns\n",
    "df_z[numeric_cols] = df_z[numeric_cols].apply(stats.zscore, nan_policy=\"omit\")\n",
    "\n",
    "df_ms = df[df['dz_type2'] == \"MS\"]\n",
    "df_ms_z = df_ms.copy()\n",
    "df_ms_z[numeric_cols] = df_ms_z[numeric_cols].apply(stats.zscore, nan_policy=\"omit\")\n",
    "\n",
    "\n",
    "viridis = colormaps['viridis'].resampled(20)\n",
    "\n",
    "colors = helpers.get_colors()"
   ]
  },
  {
   "cell_type": "code",
   "execution_count": 4,
   "id": "9d2c1d85",
   "metadata": {},
   "outputs": [],
   "source": [
    "df_thomas = pd.read_csv(data_dir / \"hipsthomas_vols.csv\", index_col=\"subid\")\n",
    "cols_orig = df_thomas.columns\n",
    "new_colnames = {}\n",
    "for col in df_thomas.columns:\n",
    "    new_col = re.sub(r\"(\\d+)-([\\w-]+)\", r\"\\2_\\1\", col)\n",
    "    new_col = re.sub(\"-\", \"_\", new_col)\n",
    "    new_colnames[col] = new_col\n",
    "df_thomas = df_thomas.rename(columns=new_colnames)\n",
    "df_thomas_norm = df_thomas.apply(lambda col: col / df_thomas['THALAMUS_1'])\n",
    "df_thomas_z = df_thomas.apply(stats.zscore, nan_policy=\"omit\")\n",
    "df_thomas_norm_z = df_thomas_norm.apply(stats.zscore, nan_policy=\"omit\")\n",
    "\n",
    "df_thomas_left = pd.read_csv(data_dir / \"hipsthomas_left_vols.csv\", index_col=\"subid\")\n",
    "df_thomas_left = df_thomas_left.rename(columns=new_colnames)\n",
    "df_thomas_left_z = df_thomas_left.apply(stats.zscore, nan_policy=\"omit\")\n",
    "\n",
    "df_thomas_right = pd.read_csv(data_dir / \"hipsthomas_right_vols.csv\", index_col=\"subid\")\n",
    "df_thomas_right = df_thomas_right.rename(columns=new_colnames)\n",
    "df_thomas_right_z = df_thomas_right.apply(stats.zscore, nan_policy=\"omit\")\n",
    "\n",
    "\n",
    "thalamic_nuclei = [2, 4, 5, 6, 7, 8, 9, 10, 11, 12]\n",
    "thalamic_nuclei_str = [str(i) for i in thalamic_nuclei]\n",
    "\n",
    "hips_thomas_ref = pd.read_csv(\n",
    "    \"/home/srs-9/Projects/ms_mri/data/hipsthomas_struct_index.csv\", index_col=\"index\"\n",
    ")['struct']\n",
    "# hips_thomas_ref.rename(columns={\"struct\": \"struct_name\"}, inplace=True)\n",
    "\n",
    "choroid_dists = pd.read_csv(data_dir / \"centroid-choroid_SDT.csv\", index_col=\"subid\")\n",
    "ventricle_dists = pd.read_csv(\n",
    "    data_dir / \"centroid-ventricle_SDT.csv\", index_col=\"subid\"\n",
    ")\n",
    "\n",
    "mni_choroid_dists = pd.read_csv(\"/home/srs-9/Projects/ms_mri/data/mni-centroid-choroid_SDT2.csv\")\n",
    "\n",
    "def combine_nuclei(df):\n",
    "    df2 = pd.DataFrame()\n",
    "    df2['anterior'] = df['AV_2']\n",
    "    df2['ventral'] = df['VA_4'] + df['VLa_5'] + df['VLP_6'] + df['VPL_7']\n",
    "    df2['intralaminar'] = df['CM_11'] \n",
    "    df2['medial'] = df['MD_Pf_12']\n",
    "    df2['posterior'] = df['Pul_8'] + df['LGN_9'] + df['MGN_10']\n",
    "    df2['THALAMUS_1'] = df['THALAMUS_1']\n",
    "    return df2\n",
    "\n",
    "df_thomas2 = combine_nuclei(df_thomas)\n",
    "df_thomas2_z = df_thomas2.apply(stats.zscore, nan_policy=\"omit\")"
   ]
  },
  {
   "cell_type": "markdown",
   "id": "4488e439",
   "metadata": {},
   "source": [
    "## Functions"
   ]
  },
  {
   "cell_type": "code",
   "execution_count": 5,
   "id": "93866caf",
   "metadata": {},
   "outputs": [],
   "source": [
    "def compute_se_diff(se1, n1, se2, n2):\n",
    "    return np.sqrt((se1**2/n1) + (se2**2/n2))"
   ]
  },
  {
   "cell_type": "markdown",
   "id": "7be765ec",
   "metadata": {},
   "source": [
    "## Regressions"
   ]
  },
  {
   "cell_type": "markdown",
   "id": "b14d7fc9",
   "metadata": {},
   "source": [
    "### Main MRI Features"
   ]
  },
  {
   "cell_type": "markdown",
   "id": "0110daa7",
   "metadata": {},
   "source": [
    "#### MS Patients"
   ]
  },
  {
   "cell_type": "code",
   "execution_count": 16,
   "id": "e784a51c",
   "metadata": {},
   "outputs": [],
   "source": [
    "model_data = df_ms_z.copy()\n",
    "covariates = \"age + Female + tiv\"\n",
    "\n",
    "outcome = \"EDSS_sqrt\"\n",
    "predictors = [\"brain\", \"white\", \"grey\", \"cortical_thickness\", \"thalamus\", \"t2lv\", \"PRL\", \"choroid_volume\"]\n",
    "\n",
    "pvals = {}\n",
    "coefs = {}\n",
    "stderrs = {}\n",
    "llci = {}\n",
    "ulci = {}\n",
    "ci_str = {}\n",
    "\n",
    "for x in predictors:\n",
    "    formula = f\"{outcome} ~ {x} + {covariates}\"\n",
    "    res = sm.OLS.from_formula(formula, data=model_data).fit()\n",
    "    pvals[x] = res.pvalues[x]\n",
    "    coefs[x] = res.params[x]\n",
    "    stderrs[x] = res.HC0_se[x]\n",
    "    ci = res.conf_int()\n",
    "    llci[x] = ci.loc[x, 0]\n",
    "    ulci[x] = ci.loc[x, 1]\n",
    "    ci_str[x] = f\"[{llci[x]:.6f}, {ulci[x]:.6f}]\"\n",
    "\n",
    "\n",
    "regression_results = pd.DataFrame({\"coef\": coefs, \"stderr\": stderrs, \"llci\": llci, \"ulci\": ulci, \"pvals\": pvals, \"ci\": ci_str})\n",
    "regression_results['p_fdr'] = stats.false_discovery_control(\n",
    "    regression_results['pvals'], method='bh'\n",
    ")\n",
    "regression_results.index.name = \"structure\"\n",
    "\n",
    "regression_results.to_excel(fig_path / \"EDSS_and_main_mri_features_MS.xlsx\")"
   ]
  },
  {
   "cell_type": "code",
   "execution_count": 21,
   "id": "2098c0b5",
   "metadata": {},
   "outputs": [],
   "source": [
    "formula = \"EDSS_sqrt ~ age + Female + tiv\"\n",
    "res = sm.OLS.from_formula(formula, data=model_data).fit()"
   ]
  },
  {
   "cell_type": "markdown",
   "id": "fde61522",
   "metadata": {},
   "source": [
    "#### NIND Group"
   ]
  },
  {
   "cell_type": "code",
   "execution_count": 22,
   "id": "6a7c12ae",
   "metadata": {},
   "outputs": [
    {
     "data": {
      "application/vnd.microsoft.datawrangler.viewer.v0+json": {
       "columns": [
        {
         "name": "structure",
         "rawType": "object",
         "type": "string"
        },
        {
         "name": "coef",
         "rawType": "float64",
         "type": "float"
        },
        {
         "name": "stderr",
         "rawType": "float64",
         "type": "float"
        },
        {
         "name": "llci",
         "rawType": "float64",
         "type": "float"
        },
        {
         "name": "ulci",
         "rawType": "float64",
         "type": "float"
        },
        {
         "name": "pvals",
         "rawType": "float64",
         "type": "float"
        },
        {
         "name": "ci",
         "rawType": "object",
         "type": "string"
        },
        {
         "name": "p_fdr",
         "rawType": "float64",
         "type": "float"
        }
       ],
       "ref": "e347cb78-72f3-477d-a613-4986c08a483b",
       "rows": [
        [
         "brain",
         "-0.17950808438750435",
         "0.25723875726050316",
         "-0.7818190464363904",
         "0.4228028776613818",
         "0.5390812323980126",
         "[-0.781819, 0.422803]",
         "0.8872867242426867"
        ],
        [
         "white",
         "0.08801312104747165",
         "0.23553141890738052",
         "-0.4527989159232097",
         "0.628825158018153",
         "0.7363785862671735",
         "[-0.452799, 0.628825]",
         "0.9492291107019495"
        ],
        [
         "grey",
         "-0.3814459339783616",
         "0.26012896146035375",
         "-0.9891913019222073",
         "0.22629943396548413",
         "0.2038268626457287",
         "[-0.989191, 0.226299]",
         "0.5435383003886098"
        ],
        [
         "cortical_thickness",
         "-0.6229471391558833",
         "0.16733982598721212",
         "-1.2169408204773504",
         "-0.028953457834416163",
         "0.04083672449944368",
         "[-1.216941, -0.028953]",
         "0.32669379599554943"
        ],
        [
         "thalamus",
         "0.03376502111227102",
         "0.4629335087832387",
         "-1.064874094140621",
         "1.1324041363651631",
         "0.9492291107019495",
         "[-1.064874, 1.132404]",
         "0.9492291107019495"
        ],
        [
         "t2lv",
         "0.034694672023655906",
         "0.1583976095960118",
         "-0.4062332166047753",
         "0.4756225606520871",
         "0.8705406489567435",
         "[-0.406233, 0.475623]",
         "0.9492291107019495"
        ],
        [
         "PRL",
         "2.598156267514459",
         "0.5669155836251826",
         "-0.8927067854185915",
         "6.089019320447509",
         "0.13530771580098538",
         "[-0.892707, 6.089019]",
         "0.5412308632039415"
        ],
        [
         "choroid_volume",
         "0.14695640577588281",
         "0.2124507720406121",
         "-0.36733624447129826",
         "0.6612490560230639",
         "0.5545542026516792",
         "[-0.367336, 0.661249]",
         "0.8872867242426867"
        ]
       ],
       "shape": {
        "columns": 7,
        "rows": 8
       }
      },
      "text/html": [
       "<div>\n",
       "<style scoped>\n",
       "    .dataframe tbody tr th:only-of-type {\n",
       "        vertical-align: middle;\n",
       "    }\n",
       "\n",
       "    .dataframe tbody tr th {\n",
       "        vertical-align: top;\n",
       "    }\n",
       "\n",
       "    .dataframe thead th {\n",
       "        text-align: right;\n",
       "    }\n",
       "</style>\n",
       "<table border=\"1\" class=\"dataframe\">\n",
       "  <thead>\n",
       "    <tr style=\"text-align: right;\">\n",
       "      <th></th>\n",
       "      <th>coef</th>\n",
       "      <th>stderr</th>\n",
       "      <th>llci</th>\n",
       "      <th>ulci</th>\n",
       "      <th>pvals</th>\n",
       "      <th>ci</th>\n",
       "      <th>p_fdr</th>\n",
       "    </tr>\n",
       "    <tr>\n",
       "      <th>structure</th>\n",
       "      <th></th>\n",
       "      <th></th>\n",
       "      <th></th>\n",
       "      <th></th>\n",
       "      <th></th>\n",
       "      <th></th>\n",
       "      <th></th>\n",
       "    </tr>\n",
       "  </thead>\n",
       "  <tbody>\n",
       "    <tr>\n",
       "      <th>brain</th>\n",
       "      <td>-0.179508</td>\n",
       "      <td>0.257239</td>\n",
       "      <td>-0.781819</td>\n",
       "      <td>0.422803</td>\n",
       "      <td>0.539081</td>\n",
       "      <td>[-0.781819, 0.422803]</td>\n",
       "      <td>0.887287</td>\n",
       "    </tr>\n",
       "    <tr>\n",
       "      <th>white</th>\n",
       "      <td>0.088013</td>\n",
       "      <td>0.235531</td>\n",
       "      <td>-0.452799</td>\n",
       "      <td>0.628825</td>\n",
       "      <td>0.736379</td>\n",
       "      <td>[-0.452799, 0.628825]</td>\n",
       "      <td>0.949229</td>\n",
       "    </tr>\n",
       "    <tr>\n",
       "      <th>grey</th>\n",
       "      <td>-0.381446</td>\n",
       "      <td>0.260129</td>\n",
       "      <td>-0.989191</td>\n",
       "      <td>0.226299</td>\n",
       "      <td>0.203827</td>\n",
       "      <td>[-0.989191, 0.226299]</td>\n",
       "      <td>0.543538</td>\n",
       "    </tr>\n",
       "    <tr>\n",
       "      <th>cortical_thickness</th>\n",
       "      <td>-0.622947</td>\n",
       "      <td>0.167340</td>\n",
       "      <td>-1.216941</td>\n",
       "      <td>-0.028953</td>\n",
       "      <td>0.040837</td>\n",
       "      <td>[-1.216941, -0.028953]</td>\n",
       "      <td>0.326694</td>\n",
       "    </tr>\n",
       "    <tr>\n",
       "      <th>thalamus</th>\n",
       "      <td>0.033765</td>\n",
       "      <td>0.462934</td>\n",
       "      <td>-1.064874</td>\n",
       "      <td>1.132404</td>\n",
       "      <td>0.949229</td>\n",
       "      <td>[-1.064874, 1.132404]</td>\n",
       "      <td>0.949229</td>\n",
       "    </tr>\n",
       "    <tr>\n",
       "      <th>t2lv</th>\n",
       "      <td>0.034695</td>\n",
       "      <td>0.158398</td>\n",
       "      <td>-0.406233</td>\n",
       "      <td>0.475623</td>\n",
       "      <td>0.870541</td>\n",
       "      <td>[-0.406233, 0.475623]</td>\n",
       "      <td>0.949229</td>\n",
       "    </tr>\n",
       "    <tr>\n",
       "      <th>PRL</th>\n",
       "      <td>2.598156</td>\n",
       "      <td>0.566916</td>\n",
       "      <td>-0.892707</td>\n",
       "      <td>6.089019</td>\n",
       "      <td>0.135308</td>\n",
       "      <td>[-0.892707, 6.089019]</td>\n",
       "      <td>0.541231</td>\n",
       "    </tr>\n",
       "    <tr>\n",
       "      <th>choroid_volume</th>\n",
       "      <td>0.146956</td>\n",
       "      <td>0.212451</td>\n",
       "      <td>-0.367336</td>\n",
       "      <td>0.661249</td>\n",
       "      <td>0.554554</td>\n",
       "      <td>[-0.367336, 0.661249]</td>\n",
       "      <td>0.887287</td>\n",
       "    </tr>\n",
       "  </tbody>\n",
       "</table>\n",
       "</div>"
      ],
      "text/plain": [
       "                        coef    stderr      llci      ulci     pvals  \\\n",
       "structure                                                              \n",
       "brain              -0.179508  0.257239 -0.781819  0.422803  0.539081   \n",
       "white               0.088013  0.235531 -0.452799  0.628825  0.736379   \n",
       "grey               -0.381446  0.260129 -0.989191  0.226299  0.203827   \n",
       "cortical_thickness -0.622947  0.167340 -1.216941 -0.028953  0.040837   \n",
       "thalamus            0.033765  0.462934 -1.064874  1.132404  0.949229   \n",
       "t2lv                0.034695  0.158398 -0.406233  0.475623  0.870541   \n",
       "PRL                 2.598156  0.566916 -0.892707  6.089019  0.135308   \n",
       "choroid_volume      0.146956  0.212451 -0.367336  0.661249  0.554554   \n",
       "\n",
       "                                        ci     p_fdr  \n",
       "structure                                             \n",
       "brain                [-0.781819, 0.422803]  0.887287  \n",
       "white                [-0.452799, 0.628825]  0.949229  \n",
       "grey                 [-0.989191, 0.226299]  0.543538  \n",
       "cortical_thickness  [-1.216941, -0.028953]  0.326694  \n",
       "thalamus             [-1.064874, 1.132404]  0.949229  \n",
       "t2lv                 [-0.406233, 0.475623]  0.949229  \n",
       "PRL                  [-0.892707, 6.089019]  0.541231  \n",
       "choroid_volume       [-0.367336, 0.661249]  0.887287  "
      ]
     },
     "execution_count": 22,
     "metadata": {},
     "output_type": "execute_result"
    }
   ],
   "source": [
    "model_data = df_z.copy()\n",
    "model_data = model_data[model_data['dz_type3'].isin([\"NIND\"])]\n",
    "covariates = \"age + Female + tiv\"\n",
    "\n",
    "outcome = \"EDSS_sqrt\"\n",
    "predictors = [\"brain\", \"white\", \"grey\", \"cortical_thickness\", \"thalamus\", \"t2lv\", \"PRL\", \"choroid_volume\"]\n",
    "\n",
    "pvals = {}\n",
    "coefs = {}\n",
    "stderrs = {}\n",
    "llci = {}\n",
    "ulci = {}\n",
    "ci_str = {}\n",
    "\n",
    "for x in predictors:\n",
    "    formula = f\"{outcome} ~ {x} + {covariates}\"\n",
    "    res = sm.OLS.from_formula(formula, data=model_data).fit()\n",
    "    pvals[x] = res.pvalues[x]\n",
    "    coefs[x] = res.params[x]\n",
    "    stderrs[x] = res.HC0_se[x]\n",
    "    ci = res.conf_int()\n",
    "    llci[x] = ci.loc[x, 0]\n",
    "    ulci[x] = ci.loc[x, 1]\n",
    "    ci_str[x] = f\"[{llci[x]:.6f}, {ulci[x]:.6f}]\"\n",
    "\n",
    "\n",
    "regression_results = pd.DataFrame({\"coef\": coefs, \"stderr\": stderrs, \"llci\": llci, \"ulci\": ulci, \"pvals\": pvals, \"ci\": ci_str})\n",
    "regression_results['p_fdr'] = stats.false_discovery_control(\n",
    "    regression_results['pvals'], method='bh'\n",
    ")\n",
    "regression_results.index.name = \"structure\"\n",
    "\n",
    "regression_results.to_excel(fig_path / \"EDSS_and_main_mri_features_NIND.xlsx\")\n",
    "regression_results"
   ]
  },
  {
   "cell_type": "code",
   "execution_count": 23,
   "id": "f2b9b260",
   "metadata": {},
   "outputs": [
    {
     "name": "stdout",
     "output_type": "stream",
     "text": [
      "                            OLS Regression Results                            \n",
      "==============================================================================\n",
      "Dep. Variable:              EDSS_sqrt   R-squared:                       0.137\n",
      "Model:                            OLS   Adj. R-squared:                  0.000\n",
      "Method:                 Least Squares   F-statistic:                     1.004\n",
      "Date:                Mon, 09 Jun 2025   Prob (F-statistic):              0.413\n",
      "Time:                        12:52:42   Log-Likelihood:                -28.169\n",
      "No. Observations:                  23   AIC:                             64.34\n",
      "Df Residuals:                      19   BIC:                             68.88\n",
      "Df Model:                           3                                         \n",
      "Covariance Type:            nonrobust                                         \n",
      "==============================================================================\n",
      "                 coef    std err          t      P>|t|      [0.025      0.975]\n",
      "------------------------------------------------------------------------------\n",
      "Intercept     -0.1670      0.237     -0.706      0.489      -0.662       0.328\n",
      "age            0.3302      0.235      1.406      0.176      -0.161       0.822\n",
      "Female        -0.1836      0.228     -0.806      0.430      -0.661       0.293\n",
      "tiv           -0.1490      0.236     -0.631      0.535      -0.643       0.345\n",
      "==============================================================================\n",
      "Omnibus:                        1.610   Durbin-Watson:                   2.446\n",
      "Prob(Omnibus):                  0.447   Jarque-Bera (JB):                1.420\n",
      "Skew:                           0.504   Prob(JB):                        0.492\n",
      "Kurtosis:                       2.316   Cond. No.                         2.34\n",
      "==============================================================================\n",
      "\n",
      "Notes:\n",
      "[1] Standard Errors assume that the covariance matrix of the errors is correctly specified.\n"
     ]
    }
   ],
   "source": [
    "formula = \"EDSS_sqrt ~ age + Female + tiv\"\n",
    "res = sm.OLS.from_formula(formula, data=model_data).fit()\n",
    "print(res.summary())"
   ]
  },
  {
   "cell_type": "markdown",
   "id": "8f97bfa1",
   "metadata": {},
   "source": [
    "### Compare Thalamus Associations for PMS vs RMS\n",
    "\n",
    "Thalamus does not predict EDSS any better in PMS patients compared to RMS patients.\n",
    "\n",
    "There are other methods to try in the GPT convo (not because I think this result will change, but to practice them here so I can apply them elsewhere if desired)\n",
    "\n",
    "- Chow / SUest\n",
    "- Compare partial correlations with Fisher's z"
   ]
  },
  {
   "cell_type": "code",
   "execution_count": 26,
   "id": "eec725b0",
   "metadata": {},
   "outputs": [
    {
     "name": "stdout",
     "output_type": "stream",
     "text": [
      "                            OLS Regression Results                            \n",
      "==============================================================================\n",
      "Dep. Variable:              EDSS_sqrt   R-squared:                       0.394\n",
      "Model:                            OLS   Adj. R-squared:                  0.385\n",
      "Method:                 Least Squares   F-statistic:                     42.80\n",
      "Date:                Mon, 09 Jun 2025   Prob (F-statistic):           1.95e-46\n",
      "Time:                        13:40:01   Log-Likelihood:                -544.05\n",
      "No. Observations:                 468   AIC:                             1104.\n",
      "Df Residuals:                     460   BIC:                             1137.\n",
      "Df Model:                           7                                         \n",
      "Covariance Type:            nonrobust                                         \n",
      "==================================================================================\n",
      "                     coef    std err          t      P>|t|      [0.025      0.975]\n",
      "----------------------------------------------------------------------------------\n",
      "Intercept         -0.2137      0.042     -5.076      0.000      -0.296      -0.131\n",
      "THALAMUS_1        -0.1819      0.051     -3.581      0.000      -0.282      -0.082\n",
      "PMS                1.0298      0.134      7.708      0.000       0.767       1.292\n",
      "THALAMUS_1:PMS    -0.0274      0.088     -0.310      0.756      -0.201       0.146\n",
      "age                0.2228      0.045      5.006      0.000       0.135       0.310\n",
      "age:PMS           -0.0793      0.120     -0.658      0.511      -0.316       0.157\n",
      "Female             0.0202      0.044      0.458      0.647      -0.066       0.107\n",
      "tiv                0.0088      0.049      0.180      0.858      -0.087       0.105\n",
      "==============================================================================\n",
      "Omnibus:                       16.758   Durbin-Watson:                   2.045\n",
      "Prob(Omnibus):                  0.000   Jarque-Bera (JB):               30.559\n",
      "Skew:                           0.207   Prob(JB):                     2.31e-07\n",
      "Kurtosis:                       4.181   Cond. No.                         5.84\n",
      "==============================================================================\n",
      "\n",
      "Notes:\n",
      "[1] Standard Errors assume that the covariance matrix of the errors is correctly specified.\n"
     ]
    }
   ],
   "source": [
    "formula = \"EDSS_sqrt ~ THALAMUS_1*PMS + age*PMS + Female + tiv\"\n",
    "\n",
    "model_data = df_z.join([df_thomas_z])\n",
    "model_data = model_data[model_data.dz_type5.isin([\"PMS\", \"RMS\"])]\n",
    "model_data = pd.concat([model_data, pd.get_dummies(model_data.dz_type5, dtype=\"int\")], axis=1)\n",
    "model_data.loc[model_data['EDSS_sqrt'].isna(), 'EDSS_sqrt'] = model_data['EDSS_sqrt'].median()\n",
    "\n",
    "res = sm.OLS.from_formula(formula, data=model_data).fit()\n",
    "print(res.summary())"
   ]
  },
  {
   "cell_type": "markdown",
   "id": "edb1124a",
   "metadata": {},
   "source": [
    "Something is wrong here. Not significant if I compute standard deviation from the stderrs and plug into a t test calculator.\n",
    "\n",
    "Using a t-test here isn't the best course anyways (according to GPT, check convo \"Comparing regression betas\"), but still curious what went wrong"
   ]
  },
  {
   "cell_type": "code",
   "execution_count": 50,
   "id": "91f721f7",
   "metadata": {},
   "outputs": [
    {
     "name": "stdout",
     "output_type": "stream",
     "text": [
      "RMS:\n",
      "-0.19 ± 0.058 [-0.3, -0.089]\n",
      "\n",
      "\n",
      "PMS:\n",
      "-0.22 ± 0.072 [-0.38, -0.052]\n",
      "\n",
      "\n",
      "p = 0.0027\n"
     ]
    }
   ],
   "source": [
    "formula = \"EDSS_sqrt ~ THALAMUS_1 + age + Female + tiv\"\n",
    "\n",
    "model_data = df_z.join([df_thomas_z])\n",
    "\n",
    "model_data_RMS = model_data.copy()\n",
    "model_data_RMS = model_data_RMS[model_data_RMS['dz_type5'].isin([\"RMS\"])]\n",
    "res_RMS = sm.OLS.from_formula(formula, data=model_data_RMS).fit()\n",
    "\n",
    "\n",
    "model_data_PMS = model_data.copy()\n",
    "model_data_PMS = model_data_PMS[model_data_PMS['dz_type5'].isin([\"PMS\"])]\n",
    "res_PMS = sm.OLS.from_formula(formula, data=model_data_PMS).fit()\n",
    "\n",
    "param1 = res_RMS.params['THALAMUS_1']\n",
    "param2 = res_PMS.params['THALAMUS_1']\n",
    "\n",
    "ci1 = res_RMS.conf_int()\n",
    "ci2 = res_PMS.conf_int()\n",
    "\n",
    "se1 = res_RMS.HC0_se['THALAMUS_1']\n",
    "dof1 = res_RMS.df_resid\n",
    "se2 = res_PMS.HC0_se['THALAMUS_1']\n",
    "dof2 = res_PMS.df_resid\n",
    "\n",
    "se_diff = compute_se_diff(se1, dof1, se2, dof2)\n",
    "mean_diff = param1 - param2\n",
    "t_stat = mean_diff / se_diff\n",
    "\n",
    "dof = dof1 + dof2 - 2\n",
    "p_val = stats.t.sf(t_stat, dof)\n",
    "\n",
    "print(\"RMS:\")\n",
    "print(f\"{param1:.2} ± {se1:.2} [{ci1.loc['THALAMUS_1', 0]:.2}, {ci1.loc['THALAMUS_1', 1]:.2}]\")\n",
    "print(\"\\n\")\n",
    "print(\"PMS:\")\n",
    "print(f\"{param2:.2} ± {se2:.2} [{ci2.loc['THALAMUS_1', 0]:.2}, {ci2.loc['THALAMUS_1', 1]:.2}]\")\n",
    "print(\"\\n\")\n",
    "\n",
    "print(f\"p = {p_val:.2}\")"
   ]
  },
  {
   "cell_type": "markdown",
   "id": "5d10e7ea",
   "metadata": {},
   "source": [
    "### HIPS-THOMAS"
   ]
  },
  {
   "cell_type": "code",
   "execution_count": 14,
   "id": "3137bdaf",
   "metadata": {},
   "outputs": [
    {
     "data": {
      "application/vnd.microsoft.datawrangler.viewer.v0+json": {
       "columns": [
        {
         "name": "index",
         "rawType": "object",
         "type": "string"
        },
        {
         "name": "coef",
         "rawType": "float64",
         "type": "float"
        },
        {
         "name": "stderr",
         "rawType": "float64",
         "type": "float"
        },
        {
         "name": "llci",
         "rawType": "float64",
         "type": "float"
        },
        {
         "name": "ulci",
         "rawType": "float64",
         "type": "float"
        },
        {
         "name": "pvals",
         "rawType": "float64",
         "type": "float"
        },
        {
         "name": "ci",
         "rawType": "object",
         "type": "string"
        },
        {
         "name": "p_fdr",
         "rawType": "float64",
         "type": "float"
        }
       ],
       "ref": "fd605ee9-ad03-4a47-aec9-dba04bb997c0",
       "rows": [
        [
         "VLP_6",
         "-0.2751432104922179",
         "0.04988106721911957",
         "-0.37153605888817237",
         "-0.17875036209626344",
         "3.554298951026013e-08",
         "[-0.371536, -0.178750]",
         "8.885747377565031e-08"
        ],
        [
         "Pul_8",
         "-0.26448505868808053",
         "0.043973434942855716",
         "-0.3528353855169556",
         "-0.17613473185920547",
         "7.884105724625796e-09",
         "[-0.352835, -0.176135]",
         "6.904379109576564e-08"
        ],
        [
         "VPL_7",
         "-0.2633605818857757",
         "0.045892674457629",
         "-0.35548978949199384",
         "-0.1712313742795576",
         "3.399100927914308e-08",
         "[-0.355490, -0.171231]",
         "8.885747377565031e-08"
        ],
        [
         "AV_2",
         "-0.25244823699013125",
         "0.05002778833526387",
         "-0.3459641800359439",
         "-0.15893229394431857",
         "1.7720230154306113e-07",
         "[-0.345964, -0.158932]",
         "3.4396960112455573e-07"
        ],
        [
         "LGN_9",
         "-0.2486747952046527",
         "0.04021233616122602",
         "-0.3331887425363497",
         "-0.16416084787295565",
         "1.3808758219153128e-08",
         "[-0.333189, -0.164161]",
         "6.904379109576564e-08"
        ],
        [
         "MD_Pf_12",
         "-0.238181472441208",
         "0.043913538468392736",
         "-0.32690791892812654",
         "-0.14945502595428942",
         "2.0638176067473343e-07",
         "[-0.326908, -0.149455]",
         "3.4396960112455573e-07"
        ],
        [
         "MGN_10",
         "-0.2327134131670716",
         "0.0453023785137443",
         "-0.3282040738302389",
         "-0.13722275250390426",
         "2.277098702852639e-06",
         "[-0.328204, -0.137223]",
         "3.2529981469323413e-06"
        ],
        [
         "VLa_5",
         "-0.20148041414847995",
         "0.05268629734453117",
         "-0.3059251230896749",
         "-0.09703570520728497",
         "0.0001704891598993652",
         "[-0.305925, -0.097036]",
         "0.0002131114498742065"
        ],
        [
         "CM_11",
         "-0.16414103036897046",
         "0.050984959868625765",
         "-0.2609727937949213",
         "-0.06730926694301965",
         "0.0009357535824233413",
         "[-0.260973, -0.067309]",
         "0.0010397262026926016"
        ],
        [
         "VA_4",
         "-0.14932997499798312",
         "0.05356163277679274",
         "-0.255283200501769",
         "-0.0433767494941972",
         "0.005841277269167627",
         "[-0.255283, -0.043377]",
         "0.005841277269167627"
        ]
       ],
       "shape": {
        "columns": 7,
        "rows": 10
       }
      },
      "text/html": [
       "<div>\n",
       "<style scoped>\n",
       "    .dataframe tbody tr th:only-of-type {\n",
       "        vertical-align: middle;\n",
       "    }\n",
       "\n",
       "    .dataframe tbody tr th {\n",
       "        vertical-align: top;\n",
       "    }\n",
       "\n",
       "    .dataframe thead th {\n",
       "        text-align: right;\n",
       "    }\n",
       "</style>\n",
       "<table border=\"1\" class=\"dataframe\">\n",
       "  <thead>\n",
       "    <tr style=\"text-align: right;\">\n",
       "      <th></th>\n",
       "      <th>coef</th>\n",
       "      <th>stderr</th>\n",
       "      <th>llci</th>\n",
       "      <th>ulci</th>\n",
       "      <th>pvals</th>\n",
       "      <th>ci</th>\n",
       "      <th>p_fdr</th>\n",
       "    </tr>\n",
       "  </thead>\n",
       "  <tbody>\n",
       "    <tr>\n",
       "      <th>VLP_6</th>\n",
       "      <td>-0.275143</td>\n",
       "      <td>0.049881</td>\n",
       "      <td>-0.371536</td>\n",
       "      <td>-0.178750</td>\n",
       "      <td>3.554299e-08</td>\n",
       "      <td>[-0.371536, -0.178750]</td>\n",
       "      <td>8.885747e-08</td>\n",
       "    </tr>\n",
       "    <tr>\n",
       "      <th>Pul_8</th>\n",
       "      <td>-0.264485</td>\n",
       "      <td>0.043973</td>\n",
       "      <td>-0.352835</td>\n",
       "      <td>-0.176135</td>\n",
       "      <td>7.884106e-09</td>\n",
       "      <td>[-0.352835, -0.176135]</td>\n",
       "      <td>6.904379e-08</td>\n",
       "    </tr>\n",
       "    <tr>\n",
       "      <th>VPL_7</th>\n",
       "      <td>-0.263361</td>\n",
       "      <td>0.045893</td>\n",
       "      <td>-0.355490</td>\n",
       "      <td>-0.171231</td>\n",
       "      <td>3.399101e-08</td>\n",
       "      <td>[-0.355490, -0.171231]</td>\n",
       "      <td>8.885747e-08</td>\n",
       "    </tr>\n",
       "    <tr>\n",
       "      <th>AV_2</th>\n",
       "      <td>-0.252448</td>\n",
       "      <td>0.050028</td>\n",
       "      <td>-0.345964</td>\n",
       "      <td>-0.158932</td>\n",
       "      <td>1.772023e-07</td>\n",
       "      <td>[-0.345964, -0.158932]</td>\n",
       "      <td>3.439696e-07</td>\n",
       "    </tr>\n",
       "    <tr>\n",
       "      <th>LGN_9</th>\n",
       "      <td>-0.248675</td>\n",
       "      <td>0.040212</td>\n",
       "      <td>-0.333189</td>\n",
       "      <td>-0.164161</td>\n",
       "      <td>1.380876e-08</td>\n",
       "      <td>[-0.333189, -0.164161]</td>\n",
       "      <td>6.904379e-08</td>\n",
       "    </tr>\n",
       "    <tr>\n",
       "      <th>MD_Pf_12</th>\n",
       "      <td>-0.238181</td>\n",
       "      <td>0.043914</td>\n",
       "      <td>-0.326908</td>\n",
       "      <td>-0.149455</td>\n",
       "      <td>2.063818e-07</td>\n",
       "      <td>[-0.326908, -0.149455]</td>\n",
       "      <td>3.439696e-07</td>\n",
       "    </tr>\n",
       "    <tr>\n",
       "      <th>MGN_10</th>\n",
       "      <td>-0.232713</td>\n",
       "      <td>0.045302</td>\n",
       "      <td>-0.328204</td>\n",
       "      <td>-0.137223</td>\n",
       "      <td>2.277099e-06</td>\n",
       "      <td>[-0.328204, -0.137223]</td>\n",
       "      <td>3.252998e-06</td>\n",
       "    </tr>\n",
       "    <tr>\n",
       "      <th>VLa_5</th>\n",
       "      <td>-0.201480</td>\n",
       "      <td>0.052686</td>\n",
       "      <td>-0.305925</td>\n",
       "      <td>-0.097036</td>\n",
       "      <td>1.704892e-04</td>\n",
       "      <td>[-0.305925, -0.097036]</td>\n",
       "      <td>2.131114e-04</td>\n",
       "    </tr>\n",
       "    <tr>\n",
       "      <th>CM_11</th>\n",
       "      <td>-0.164141</td>\n",
       "      <td>0.050985</td>\n",
       "      <td>-0.260973</td>\n",
       "      <td>-0.067309</td>\n",
       "      <td>9.357536e-04</td>\n",
       "      <td>[-0.260973, -0.067309]</td>\n",
       "      <td>1.039726e-03</td>\n",
       "    </tr>\n",
       "    <tr>\n",
       "      <th>VA_4</th>\n",
       "      <td>-0.149330</td>\n",
       "      <td>0.053562</td>\n",
       "      <td>-0.255283</td>\n",
       "      <td>-0.043377</td>\n",
       "      <td>5.841277e-03</td>\n",
       "      <td>[-0.255283, -0.043377]</td>\n",
       "      <td>5.841277e-03</td>\n",
       "    </tr>\n",
       "  </tbody>\n",
       "</table>\n",
       "</div>"
      ],
      "text/plain": [
       "              coef    stderr      llci      ulci         pvals  \\\n",
       "VLP_6    -0.275143  0.049881 -0.371536 -0.178750  3.554299e-08   \n",
       "Pul_8    -0.264485  0.043973 -0.352835 -0.176135  7.884106e-09   \n",
       "VPL_7    -0.263361  0.045893 -0.355490 -0.171231  3.399101e-08   \n",
       "AV_2     -0.252448  0.050028 -0.345964 -0.158932  1.772023e-07   \n",
       "LGN_9    -0.248675  0.040212 -0.333189 -0.164161  1.380876e-08   \n",
       "MD_Pf_12 -0.238181  0.043914 -0.326908 -0.149455  2.063818e-07   \n",
       "MGN_10   -0.232713  0.045302 -0.328204 -0.137223  2.277099e-06   \n",
       "VLa_5    -0.201480  0.052686 -0.305925 -0.097036  1.704892e-04   \n",
       "CM_11    -0.164141  0.050985 -0.260973 -0.067309  9.357536e-04   \n",
       "VA_4     -0.149330  0.053562 -0.255283 -0.043377  5.841277e-03   \n",
       "\n",
       "                              ci         p_fdr  \n",
       "VLP_6     [-0.371536, -0.178750]  8.885747e-08  \n",
       "Pul_8     [-0.352835, -0.176135]  6.904379e-08  \n",
       "VPL_7     [-0.355490, -0.171231]  8.885747e-08  \n",
       "AV_2      [-0.345964, -0.158932]  3.439696e-07  \n",
       "LGN_9     [-0.333189, -0.164161]  6.904379e-08  \n",
       "MD_Pf_12  [-0.326908, -0.149455]  3.439696e-07  \n",
       "MGN_10    [-0.328204, -0.137223]  3.252998e-06  \n",
       "VLa_5     [-0.305925, -0.097036]  2.131114e-04  \n",
       "CM_11     [-0.260973, -0.067309]  1.039726e-03  \n",
       "VA_4      [-0.255283, -0.043377]  5.841277e-03  "
      ]
     },
     "execution_count": 14,
     "metadata": {},
     "output_type": "execute_result"
    }
   ],
   "source": [
    "model_data = df_z.join(df_thomas_z)\n",
    "model_data = model_data[model_data['dz_type5'].isin([\"RMS\", \"PMS\"])]\n",
    "covariates = \"age + Female + tiv\"\n",
    "\n",
    "pvals = {}\n",
    "coefs = {}\n",
    "stderrs = {}\n",
    "llci = {}\n",
    "ulci = {}\n",
    "ci_str = {}\n",
    "\n",
    "outcome = \"EDSS_sqrt\"\n",
    "\n",
    "structs = thalamic_nuclei\n",
    "all_results = {}\n",
    "for x in structs:\n",
    "    col = hips_thomas_ref[x]\n",
    "    formula = f\"{outcome} ~ {col} + {covariates}\"\n",
    "    res = sm.OLS.from_formula(formula, data=model_data).fit()\n",
    "    all_results[col] = res\n",
    "    pvals[col] = res.pvalues[col]\n",
    "    coefs[col] = res.params[col]\n",
    "    stderrs[col] = res.HC0_se[col]\n",
    "    ci = res.conf_int()\n",
    "    llci[col] = ci.loc[col, 0]\n",
    "    ulci[col] = ci.loc[col, 1]\n",
    "    ci_str[col] = f\"[{llci[col]:.6f}, {ulci[col]:.6f}]\"\n",
    "\n",
    "\n",
    "\n",
    "regression_results = pd.DataFrame({\"coef\": coefs, \"stderr\": stderrs, \"llci\": llci, \"ulci\": ulci, \"pvals\": pvals, \"ci\": ci_str})\n",
    "regression_results['p_fdr'] = stats.false_discovery_control(\n",
    "    regression_results['pvals'], method='bh'\n",
    ")\n",
    "regression_results.sort_values(by=\"coef\", inplace=True)\n",
    "regression_results.to_excel(fig_path / \"thalamic_nuclei.xlsx\")\n",
    "regression_results"
   ]
  },
  {
   "cell_type": "markdown",
   "id": "db695744",
   "metadata": {},
   "source": [
    "Correlate each of the thalamic nuclei to EDSS, including whole thalalmic volume as a covariate. None of the p values are significant, but we can still compare coefficients to see each nucleus's relative contribution to EDSS. Will bootstrap these regressions in the following cell to see if the rank is significant.  "
   ]
  },
  {
   "cell_type": "code",
   "execution_count": 33,
   "id": "88d05e2b",
   "metadata": {},
   "outputs": [
    {
     "data": {
      "application/vnd.microsoft.datawrangler.viewer.v0+json": {
       "columns": [
        {
         "name": "index",
         "rawType": "object",
         "type": "string"
        },
        {
         "name": "coef",
         "rawType": "float64",
         "type": "float"
        },
        {
         "name": "thal_coef",
         "rawType": "float64",
         "type": "float"
        },
        {
         "name": "stderr",
         "rawType": "float64",
         "type": "float"
        },
        {
         "name": "llci",
         "rawType": "float64",
         "type": "float"
        },
        {
         "name": "ulci",
         "rawType": "float64",
         "type": "float"
        },
        {
         "name": "pvals",
         "rawType": "float64",
         "type": "float"
        },
        {
         "name": "ci",
         "rawType": "object",
         "type": "string"
        },
        {
         "name": "p_fdr",
         "rawType": "float64",
         "type": "float"
        }
       ],
       "ref": "38454398-ed03-4ef1-8ce5-37bb4a733e4a",
       "rows": [
        [
         "LGN_9",
         "-0.12134924935387882",
         "-0.19931415464995025",
         "0.054269287524962885",
         "-0.24020873870451476",
         "-0.0024897600032428857",
         "0.04540986027677713",
         "[-0.240209, -0.002490]",
         "0.4540986027677713"
        ],
        [
         "AV_2",
         "-0.10411277980634492",
         "-0.22500207828391317",
         "0.06750622119880595",
         "-0.22777061568820228",
         "0.019545056075512435",
         "0.09869602367885656",
         "[-0.227771, 0.019545]",
         "0.4934801183942828"
        ],
        [
         "VPL_7",
         "-0.083070170415864",
         "-0.22580182670344426",
         "0.07718359080892759",
         "-0.2408380407718833",
         "0.07469769994015533",
         "0.3013265897402232",
         "[-0.240838, 0.074698]",
         "0.6026531794804464"
        ],
        [
         "VLP_6",
         "-0.0658274580306296",
         "-0.24032206697539388",
         "0.09428566061461464",
         "-0.24736336219793642",
         "0.1157084461366772",
         "0.47644042889090066",
         "[-0.247363, 0.115708]",
         "0.6806291841298581"
        ],
        [
         "Pul_8",
         "-0.041363682294183766",
         "-0.25398903761695085",
         "0.12725428466827116",
         "-0.284157840699799",
         "0.20143047611143144",
         "0.7379207416474344",
         "[-0.284158, 0.201430]",
         "0.819911935163816"
        ],
        [
         "VLa_5",
         "-0.02693729565639039",
         "-0.2808060159314976",
         "0.0625418091746575",
         "-0.15095319299655385",
         "0.09707860168377308",
         "0.6696748238360116",
         "[-0.150953, 0.097079]",
         "0.819911935163816"
        ],
        [
         "MGN_10",
         "-0.014345461017426077",
         "-0.2839891172316107",
         "0.07203091951580023",
         "-0.16010316978051514",
         "0.131412247745663",
         "0.8467154045992735",
         "[-0.160103, 0.131412]",
         "0.8467154045992735"
        ],
        [
         "CM_11",
         "0.07263437249551354",
         "-0.34409746643289535",
         "0.06936056916125644",
         "-0.0560848772410399",
         "0.201353622232067",
         "0.26803447541162856",
         "[-0.056085, 0.201354]",
         "0.6026531794804464"
        ],
        [
         "MD_Pf_12",
         "0.09240078271664921",
         "-0.38472841062191226",
         "0.1052545826253315",
         "-0.12403914479284735",
         "0.3088407102261458",
         "0.40191570435845636",
         "[-0.124039, 0.308841]",
         "0.6698595072640939"
        ],
        [
         "VA_4",
         "0.09535999281988912",
         "-0.35010854528996854",
         "0.06438338135583821",
         "-0.037398887113046134",
         "0.2281188727528244",
         "0.15874759994054005",
         "[-0.037399, 0.228119]",
         "0.5291586664684669"
        ]
       ],
       "shape": {
        "columns": 8,
        "rows": 10
       }
      },
      "text/html": [
       "<div>\n",
       "<style scoped>\n",
       "    .dataframe tbody tr th:only-of-type {\n",
       "        vertical-align: middle;\n",
       "    }\n",
       "\n",
       "    .dataframe tbody tr th {\n",
       "        vertical-align: top;\n",
       "    }\n",
       "\n",
       "    .dataframe thead th {\n",
       "        text-align: right;\n",
       "    }\n",
       "</style>\n",
       "<table border=\"1\" class=\"dataframe\">\n",
       "  <thead>\n",
       "    <tr style=\"text-align: right;\">\n",
       "      <th></th>\n",
       "      <th>coef</th>\n",
       "      <th>thal_coef</th>\n",
       "      <th>stderr</th>\n",
       "      <th>llci</th>\n",
       "      <th>ulci</th>\n",
       "      <th>pvals</th>\n",
       "      <th>ci</th>\n",
       "      <th>p_fdr</th>\n",
       "    </tr>\n",
       "  </thead>\n",
       "  <tbody>\n",
       "    <tr>\n",
       "      <th>LGN_9</th>\n",
       "      <td>-0.121349</td>\n",
       "      <td>-0.199314</td>\n",
       "      <td>0.054269</td>\n",
       "      <td>-0.240209</td>\n",
       "      <td>-0.002490</td>\n",
       "      <td>0.045410</td>\n",
       "      <td>[-0.240209, -0.002490]</td>\n",
       "      <td>0.454099</td>\n",
       "    </tr>\n",
       "    <tr>\n",
       "      <th>AV_2</th>\n",
       "      <td>-0.104113</td>\n",
       "      <td>-0.225002</td>\n",
       "      <td>0.067506</td>\n",
       "      <td>-0.227771</td>\n",
       "      <td>0.019545</td>\n",
       "      <td>0.098696</td>\n",
       "      <td>[-0.227771, 0.019545]</td>\n",
       "      <td>0.493480</td>\n",
       "    </tr>\n",
       "    <tr>\n",
       "      <th>VPL_7</th>\n",
       "      <td>-0.083070</td>\n",
       "      <td>-0.225802</td>\n",
       "      <td>0.077184</td>\n",
       "      <td>-0.240838</td>\n",
       "      <td>0.074698</td>\n",
       "      <td>0.301327</td>\n",
       "      <td>[-0.240838, 0.074698]</td>\n",
       "      <td>0.602653</td>\n",
       "    </tr>\n",
       "    <tr>\n",
       "      <th>VLP_6</th>\n",
       "      <td>-0.065827</td>\n",
       "      <td>-0.240322</td>\n",
       "      <td>0.094286</td>\n",
       "      <td>-0.247363</td>\n",
       "      <td>0.115708</td>\n",
       "      <td>0.476440</td>\n",
       "      <td>[-0.247363, 0.115708]</td>\n",
       "      <td>0.680629</td>\n",
       "    </tr>\n",
       "    <tr>\n",
       "      <th>Pul_8</th>\n",
       "      <td>-0.041364</td>\n",
       "      <td>-0.253989</td>\n",
       "      <td>0.127254</td>\n",
       "      <td>-0.284158</td>\n",
       "      <td>0.201430</td>\n",
       "      <td>0.737921</td>\n",
       "      <td>[-0.284158, 0.201430]</td>\n",
       "      <td>0.819912</td>\n",
       "    </tr>\n",
       "    <tr>\n",
       "      <th>VLa_5</th>\n",
       "      <td>-0.026937</td>\n",
       "      <td>-0.280806</td>\n",
       "      <td>0.062542</td>\n",
       "      <td>-0.150953</td>\n",
       "      <td>0.097079</td>\n",
       "      <td>0.669675</td>\n",
       "      <td>[-0.150953, 0.097079]</td>\n",
       "      <td>0.819912</td>\n",
       "    </tr>\n",
       "    <tr>\n",
       "      <th>MGN_10</th>\n",
       "      <td>-0.014345</td>\n",
       "      <td>-0.283989</td>\n",
       "      <td>0.072031</td>\n",
       "      <td>-0.160103</td>\n",
       "      <td>0.131412</td>\n",
       "      <td>0.846715</td>\n",
       "      <td>[-0.160103, 0.131412]</td>\n",
       "      <td>0.846715</td>\n",
       "    </tr>\n",
       "    <tr>\n",
       "      <th>CM_11</th>\n",
       "      <td>0.072634</td>\n",
       "      <td>-0.344097</td>\n",
       "      <td>0.069361</td>\n",
       "      <td>-0.056085</td>\n",
       "      <td>0.201354</td>\n",
       "      <td>0.268034</td>\n",
       "      <td>[-0.056085, 0.201354]</td>\n",
       "      <td>0.602653</td>\n",
       "    </tr>\n",
       "    <tr>\n",
       "      <th>MD_Pf_12</th>\n",
       "      <td>0.092401</td>\n",
       "      <td>-0.384728</td>\n",
       "      <td>0.105255</td>\n",
       "      <td>-0.124039</td>\n",
       "      <td>0.308841</td>\n",
       "      <td>0.401916</td>\n",
       "      <td>[-0.124039, 0.308841]</td>\n",
       "      <td>0.669860</td>\n",
       "    </tr>\n",
       "    <tr>\n",
       "      <th>VA_4</th>\n",
       "      <td>0.095360</td>\n",
       "      <td>-0.350109</td>\n",
       "      <td>0.064383</td>\n",
       "      <td>-0.037399</td>\n",
       "      <td>0.228119</td>\n",
       "      <td>0.158748</td>\n",
       "      <td>[-0.037399, 0.228119]</td>\n",
       "      <td>0.529159</td>\n",
       "    </tr>\n",
       "  </tbody>\n",
       "</table>\n",
       "</div>"
      ],
      "text/plain": [
       "              coef  thal_coef    stderr      llci      ulci     pvals  \\\n",
       "LGN_9    -0.121349  -0.199314  0.054269 -0.240209 -0.002490  0.045410   \n",
       "AV_2     -0.104113  -0.225002  0.067506 -0.227771  0.019545  0.098696   \n",
       "VPL_7    -0.083070  -0.225802  0.077184 -0.240838  0.074698  0.301327   \n",
       "VLP_6    -0.065827  -0.240322  0.094286 -0.247363  0.115708  0.476440   \n",
       "Pul_8    -0.041364  -0.253989  0.127254 -0.284158  0.201430  0.737921   \n",
       "VLa_5    -0.026937  -0.280806  0.062542 -0.150953  0.097079  0.669675   \n",
       "MGN_10   -0.014345  -0.283989  0.072031 -0.160103  0.131412  0.846715   \n",
       "CM_11     0.072634  -0.344097  0.069361 -0.056085  0.201354  0.268034   \n",
       "MD_Pf_12  0.092401  -0.384728  0.105255 -0.124039  0.308841  0.401916   \n",
       "VA_4      0.095360  -0.350109  0.064383 -0.037399  0.228119  0.158748   \n",
       "\n",
       "                              ci     p_fdr  \n",
       "LGN_9     [-0.240209, -0.002490]  0.454099  \n",
       "AV_2       [-0.227771, 0.019545]  0.493480  \n",
       "VPL_7      [-0.240838, 0.074698]  0.602653  \n",
       "VLP_6      [-0.247363, 0.115708]  0.680629  \n",
       "Pul_8      [-0.284158, 0.201430]  0.819912  \n",
       "VLa_5      [-0.150953, 0.097079]  0.819912  \n",
       "MGN_10     [-0.160103, 0.131412]  0.846715  \n",
       "CM_11      [-0.056085, 0.201354]  0.602653  \n",
       "MD_Pf_12   [-0.124039, 0.308841]  0.669860  \n",
       "VA_4       [-0.037399, 0.228119]  0.529159  "
      ]
     },
     "execution_count": 33,
     "metadata": {},
     "output_type": "execute_result"
    }
   ],
   "source": [
    "model_data = df_z.join(df_thomas_z)\n",
    "model_data = model_data[model_data['dz_type5'].isin([\"RMS\", \"PMS\"])]\n",
    "covariates = \"age + Female + tiv + THALAMUS_1\"\n",
    "\n",
    "pvals = {}\n",
    "coefs = {}\n",
    "thal_coefs = {}\n",
    "stderrs = {}\n",
    "llci = {}\n",
    "ulci = {}\n",
    "ci_str = {}\n",
    "\n",
    "outcome = \"EDSS_sqrt\"\n",
    "\n",
    "structs = thalamic_nuclei\n",
    "all_results = {}\n",
    "for x in structs:\n",
    "    col = hips_thomas_ref[x]\n",
    "    formula = f\"{outcome} ~ {col} + {covariates}\"\n",
    "    res = sm.OLS.from_formula(formula, data=model_data).fit()\n",
    "    pvals[col] = res.pvalues[col]\n",
    "    coefs[col] = res.params[col]\n",
    "    thal_coefs[col] = res.params['THALAMUS_1']\n",
    "    stderrs[col] = res.HC0_se[col]\n",
    "    ci = res.conf_int()\n",
    "    llci[col] = ci.loc[col, 0]\n",
    "    ulci[col] = ci.loc[col, 1]\n",
    "    ci_str[col] = f\"[{llci[col]:.6f}, {ulci[col]:.6f}]\"\n",
    "\n",
    "\n",
    "\n",
    "regression_results = pd.DataFrame({\"coef\": coefs, \"thal_coef\": thal_coefs, \"stderr\": stderrs, \"llci\": llci, \"ulci\": ulci, \"pvals\": pvals, \"ci\": ci_str})\n",
    "regression_results['p_fdr'] = stats.false_discovery_control(\n",
    "    regression_results['pvals'], method='bh'\n",
    ")\n",
    "main_coefs = np.array([coefs[hips_thomas_ref[x]] for x in structs])\n",
    "regression_results.sort_values(by=\"coef\", inplace=True)\n",
    "regression_results.to_excel(fig_path / \"thalamic_nuclei-thalamus_control.xlsx\")\n",
    "regression_results"
   ]
  },
  {
   "cell_type": "markdown",
   "id": "8cfb8350",
   "metadata": {},
   "source": [
    "Bootstrap the regressions"
   ]
  },
  {
   "cell_type": "code",
   "execution_count": 34,
   "id": "bc4dda29",
   "metadata": {},
   "outputs": [
    {
     "data": {
      "application/vnd.jupyter.widget-view+json": {
       "model_id": "ffb17760e9d3456ca03e29076e8de195",
       "version_major": 2,
       "version_minor": 0
      },
      "text/plain": [
       "  0%|          | 0/1000 [00:00<?, ?it/s]"
      ]
     },
     "metadata": {},
     "output_type": "display_data"
    }
   ],
   "source": [
    "data_to_sample = df_z.join(df_thomas_z)\n",
    "data_to_sample = data_to_sample[data_to_sample['dz_type5'].isin([\"RMS\", \"PMS\"])].reset_index()\n",
    "data_to_sample.loc[data_to_sample['EDSS_sqrt'].isna(), 'EDSS_sqrt'] = model_data['EDSS_sqrt'].median()\n",
    "\n",
    "\n",
    "def get_zeros():\n",
    "    return np.zeros((1000,))\n",
    "\n",
    "coefs_boot = defaultdict(get_zeros)\n",
    "\n",
    "outcome = \"EDSS_sqrt\"\n",
    "\n",
    "for i in tqdm(range(1000)):\n",
    "    inds = np.random.randint(0, data_to_sample.index.max(), len(data_to_sample))\n",
    "    model_data = data_to_sample.loc[inds, :]\n",
    "    for x in structs:\n",
    "        col = hips_thomas_ref[x]\n",
    "        formula = f\"{outcome} ~ {col} + {covariates}\"\n",
    "        res = sm.OLS.from_formula(formula, data=model_data).fit()\n",
    "        coefs_boot[col][i] = res.params[col]"
   ]
  },
  {
   "cell_type": "markdown",
   "id": "65a87bc2",
   "metadata": {},
   "source": [
    "Get the mean and 95% CI of the bootstrapped coefficients for each nucleus"
   ]
  },
  {
   "cell_type": "code",
   "execution_count": 35,
   "id": "74705607",
   "metadata": {},
   "outputs": [
    {
     "name": "stdout",
     "output_type": "stream",
     "text": [
      "-0.1093 [-0.24, 0.03]\n",
      "0.1013 [-0.02, 0.23]\n",
      "-0.0279 [-0.15, 0.09]\n",
      "-0.0701 [-0.25, 0.11]\n",
      "-0.0736 [-0.22, 0.09]\n",
      "-0.0417 [-0.31, 0.21]\n",
      "-0.1245 [-0.23, -0.03]\n",
      "-0.0198 [-0.16, 0.12]\n",
      "0.0702 [-0.07, 0.21]\n",
      "0.0894 [-0.12, 0.29]\n"
     ]
    },
    {
     "data": {
      "text/plain": [
       "0.9981998229200125"
      ]
     },
     "execution_count": 35,
     "metadata": {},
     "output_type": "execute_result"
    }
   ],
   "source": [
    "coefs_copy = coefs_boot.copy()\n",
    "llci = {}\n",
    "ulci = {}\n",
    "means = {}\n",
    "for x in structs:\n",
    "    col = hips_thomas_ref[x]\n",
    "    coefs_copy[col] = np.sort(coefs_copy[col])\n",
    "    llci[col] = coefs_copy[col][25]\n",
    "    ulci[col] = coefs_copy[col][975]\n",
    "    means[col] = np.mean(coefs_copy[col])\n",
    "    print(f\"{means[col]:.4f} [{llci[col]:2.2f}, {ulci[col]:2.2f}]\")\n",
    "\n",
    "coefs_bootmean = np.array([means[hips_thomas_ref[x]] for x in structs])\n",
    "np.corrcoef(main_coefs, coefs_bootmean)[0,1]"
   ]
  },
  {
   "cell_type": "markdown",
   "id": "7032e83c",
   "metadata": {},
   "source": [
    "Correlate the coefficients of the nuclei for each boostrapped sample to the main regression to see if the relative strengths of the nuclei's coefficients are consistent across resamples"
   ]
  },
  {
   "cell_type": "code",
   "execution_count": 44,
   "id": "25818683",
   "metadata": {},
   "outputs": [
    {
     "name": "stdout",
     "output_type": "stream",
     "text": [
      "0.71 [0.29, 0.94]\n",
      "0.53 [0.20, 0.82]\n"
     ]
    }
   ],
   "source": [
    "coefs_boot_arr = np.zeros((len(structs), 1000))\n",
    "for i, x in enumerate(structs):\n",
    "    col = hips_thomas_ref[x]\n",
    "    coefs_boot_arr[i, :] = coefs_boot[col]\n",
    "\n",
    "corr_coefs = np.zeros((1000,))\n",
    "kendal_taus = np.zeros((1000,))\n",
    "for i in range(1000):\n",
    "    corr_coefs[i] = np.corrcoef(coefs_boot_arr[:,i], main_coefs)[0,1]\n",
    "    kendal_taus[i] = stats.kendalltau(coefs_boot_arr[:,i], main_coefs)[0]\n",
    "mean_corrcoef = np.mean(corr_coefs)\n",
    "mean_tau = np.mean(kendal_taus)\n",
    "corr_coefs = np.sort(corr_coefs)\n",
    "kendal_taus = np.sort(kendal_taus)\n",
    "print(f\"{mean_corrcoef:.2f} [{corr_coefs[25]:.2f}, {corr_coefs[975]:.2f}]\")\n",
    "print(f\"{mean_tau:.2f} [{kendal_taus[25]:.2f}, {kendal_taus[975]:.2f}]\")"
   ]
  },
  {
   "cell_type": "code",
   "execution_count": 42,
   "id": "96bc2e4f",
   "metadata": {},
   "outputs": [
    {
     "data": {
      "application/vnd.microsoft.datawrangler.viewer.v0+json": {
       "columns": [
        {
         "name": "struct",
         "rawType": "object",
         "type": "string"
        },
        {
         "name": "0",
         "rawType": "float64",
         "type": "float"
        }
       ],
       "ref": "9a2279e8-460b-42c0-9579-32f816210df8",
       "rows": [
        [
         "LGN_9",
         "0.234"
        ],
        [
         "AV_2",
         "0.201"
        ],
        [
         "VLP_6",
         "0.183"
        ],
        [
         "Pul_8",
         "0.176"
        ],
        [
         "VPL_7",
         "0.136"
        ],
        [
         "MGN_10",
         "0.029"
        ],
        [
         "VLa_5",
         "0.02"
        ],
        [
         "MD_Pf_12",
         "0.017"
        ],
        [
         "CM_11",
         "0.004"
        ],
        [
         "VA_4",
         "0.0"
        ]
       ],
       "shape": {
        "columns": 1,
        "rows": 10
       }
      },
      "text/plain": [
       "struct\n",
       "LGN_9       0.234\n",
       "AV_2        0.201\n",
       "VLP_6       0.183\n",
       "Pul_8       0.176\n",
       "VPL_7       0.136\n",
       "MGN_10      0.029\n",
       "VLa_5       0.020\n",
       "MD_Pf_12    0.017\n",
       "CM_11       0.004\n",
       "VA_4        0.000\n",
       "dtype: float64"
      ]
     },
     "execution_count": 42,
     "metadata": {},
     "output_type": "execute_result"
    }
   ],
   "source": [
    "win_counts = np.zeros((coefs_boot_arr.shape[0],))\n",
    "for i in range(1000):\n",
    "    win_counts[coefs_boot_arr[:,i].argmin()] += 1\n",
    "\n",
    "win_count_df = pd.Series(win_counts/1000, index=hips_thomas_ref[thalamic_nuclei])\n",
    "win_count_df.sort_values(ascending=False)"
   ]
  },
  {
   "cell_type": "code",
   "execution_count": 16,
   "id": "ae336894",
   "metadata": {},
   "outputs": [
    {
     "data": {
      "application/vnd.microsoft.datawrangler.viewer.v0+json": {
       "columns": [
        {
         "name": "index",
         "rawType": "object",
         "type": "string"
        },
        {
         "name": "coef",
         "rawType": "float64",
         "type": "float"
        },
        {
         "name": "stderr",
         "rawType": "float64",
         "type": "float"
        },
        {
         "name": "llci",
         "rawType": "float64",
         "type": "float"
        },
        {
         "name": "ulci",
         "rawType": "float64",
         "type": "float"
        },
        {
         "name": "pvals",
         "rawType": "float64",
         "type": "float"
        },
        {
         "name": "ci",
         "rawType": "object",
         "type": "string"
        },
        {
         "name": "p_fdr",
         "rawType": "float64",
         "type": "float"
        }
       ],
       "ref": "2a881f9e-436e-48a4-aea9-6ff369fb3f3b",
       "rows": [
        [
         "THALAMUS_1",
         "-0.29487826661416133",
         "0.04574541719153483",
         "-0.38822031129113166",
         "-0.201536221937191",
         "1.2207381754910873e-09",
         "[-0.388220, -0.201536]",
         "7.3244290529465234e-09"
        ],
        [
         "anterior",
         "-0.10411277980634492",
         "0.06750622119880595",
         "-0.22777061568820228",
         "0.019545056075512435",
         "0.09869602367885656",
         "[-0.227771, 0.019545]",
         "0.2960880710365697"
        ],
        [
         "posterior",
         "-0.08832225204760917",
         "0.1324583926656779",
         "-0.3405400767768602",
         "0.16389557268164184",
         "0.4916785607793025",
         "[-0.340540, 0.163896]",
         "0.590014272935163"
        ],
        [
         "ventral",
         "-0.05058838224045229",
         "0.10620953138870798",
         "-0.2639062861029678",
         "0.1627295216220632",
         "0.6413940154504122",
         "[-0.263906, 0.162730]",
         "0.6413940154504122"
        ],
        [
         "intralaminar",
         "0.07263437249551354",
         "0.06936056916125644",
         "-0.0560848772410399",
         "0.201353622232067",
         "0.26803447541162856",
         "[-0.056085, 0.201354]",
         "0.5360689508232571"
        ],
        [
         "medial",
         "0.09240078271664921",
         "0.1052545826253315",
         "-0.12403914479284735",
         "0.3088407102261458",
         "0.40191570435845636",
         "[-0.124039, 0.308841]",
         "0.590014272935163"
        ]
       ],
       "shape": {
        "columns": 7,
        "rows": 6
       }
      },
      "text/html": [
       "<div>\n",
       "<style scoped>\n",
       "    .dataframe tbody tr th:only-of-type {\n",
       "        vertical-align: middle;\n",
       "    }\n",
       "\n",
       "    .dataframe tbody tr th {\n",
       "        vertical-align: top;\n",
       "    }\n",
       "\n",
       "    .dataframe thead th {\n",
       "        text-align: right;\n",
       "    }\n",
       "</style>\n",
       "<table border=\"1\" class=\"dataframe\">\n",
       "  <thead>\n",
       "    <tr style=\"text-align: right;\">\n",
       "      <th></th>\n",
       "      <th>coef</th>\n",
       "      <th>stderr</th>\n",
       "      <th>llci</th>\n",
       "      <th>ulci</th>\n",
       "      <th>pvals</th>\n",
       "      <th>ci</th>\n",
       "      <th>p_fdr</th>\n",
       "    </tr>\n",
       "  </thead>\n",
       "  <tbody>\n",
       "    <tr>\n",
       "      <th>THALAMUS_1</th>\n",
       "      <td>-0.294878</td>\n",
       "      <td>0.045745</td>\n",
       "      <td>-0.388220</td>\n",
       "      <td>-0.201536</td>\n",
       "      <td>1.220738e-09</td>\n",
       "      <td>[-0.388220, -0.201536]</td>\n",
       "      <td>7.324429e-09</td>\n",
       "    </tr>\n",
       "    <tr>\n",
       "      <th>anterior</th>\n",
       "      <td>-0.104113</td>\n",
       "      <td>0.067506</td>\n",
       "      <td>-0.227771</td>\n",
       "      <td>0.019545</td>\n",
       "      <td>9.869602e-02</td>\n",
       "      <td>[-0.227771, 0.019545]</td>\n",
       "      <td>2.960881e-01</td>\n",
       "    </tr>\n",
       "    <tr>\n",
       "      <th>posterior</th>\n",
       "      <td>-0.088322</td>\n",
       "      <td>0.132458</td>\n",
       "      <td>-0.340540</td>\n",
       "      <td>0.163896</td>\n",
       "      <td>4.916786e-01</td>\n",
       "      <td>[-0.340540, 0.163896]</td>\n",
       "      <td>5.900143e-01</td>\n",
       "    </tr>\n",
       "    <tr>\n",
       "      <th>ventral</th>\n",
       "      <td>-0.050588</td>\n",
       "      <td>0.106210</td>\n",
       "      <td>-0.263906</td>\n",
       "      <td>0.162730</td>\n",
       "      <td>6.413940e-01</td>\n",
       "      <td>[-0.263906, 0.162730]</td>\n",
       "      <td>6.413940e-01</td>\n",
       "    </tr>\n",
       "    <tr>\n",
       "      <th>intralaminar</th>\n",
       "      <td>0.072634</td>\n",
       "      <td>0.069361</td>\n",
       "      <td>-0.056085</td>\n",
       "      <td>0.201354</td>\n",
       "      <td>2.680345e-01</td>\n",
       "      <td>[-0.056085, 0.201354]</td>\n",
       "      <td>5.360690e-01</td>\n",
       "    </tr>\n",
       "    <tr>\n",
       "      <th>medial</th>\n",
       "      <td>0.092401</td>\n",
       "      <td>0.105255</td>\n",
       "      <td>-0.124039</td>\n",
       "      <td>0.308841</td>\n",
       "      <td>4.019157e-01</td>\n",
       "      <td>[-0.124039, 0.308841]</td>\n",
       "      <td>5.900143e-01</td>\n",
       "    </tr>\n",
       "  </tbody>\n",
       "</table>\n",
       "</div>"
      ],
      "text/plain": [
       "                  coef    stderr      llci      ulci         pvals  \\\n",
       "THALAMUS_1   -0.294878  0.045745 -0.388220 -0.201536  1.220738e-09   \n",
       "anterior     -0.104113  0.067506 -0.227771  0.019545  9.869602e-02   \n",
       "posterior    -0.088322  0.132458 -0.340540  0.163896  4.916786e-01   \n",
       "ventral      -0.050588  0.106210 -0.263906  0.162730  6.413940e-01   \n",
       "intralaminar  0.072634  0.069361 -0.056085  0.201354  2.680345e-01   \n",
       "medial        0.092401  0.105255 -0.124039  0.308841  4.019157e-01   \n",
       "\n",
       "                                  ci         p_fdr  \n",
       "THALAMUS_1    [-0.388220, -0.201536]  7.324429e-09  \n",
       "anterior       [-0.227771, 0.019545]  2.960881e-01  \n",
       "posterior      [-0.340540, 0.163896]  5.900143e-01  \n",
       "ventral        [-0.263906, 0.162730]  6.413940e-01  \n",
       "intralaminar   [-0.056085, 0.201354]  5.360690e-01  \n",
       "medial         [-0.124039, 0.308841]  5.900143e-01  "
      ]
     },
     "execution_count": 16,
     "metadata": {},
     "output_type": "execute_result"
    }
   ],
   "source": [
    "model_data = df_z.join([df_thomas2_z])\n",
    "model_data = model_data[model_data.dz_type2 == \"MS\"]\n",
    "\n",
    "covariates = \"age + Female + tiv + THALAMUS_1\"\n",
    "\n",
    "pvals = {}\n",
    "coefs = {}\n",
    "stderrs = {}\n",
    "llci = {}\n",
    "ulci = {}\n",
    "ci_str = {}\n",
    "\n",
    "for col in df_thomas2:\n",
    "    formula = f\"EDSS_sqrt ~ {col} + {covariates}\"\n",
    "    res = sm.OLS.from_formula(formula, data=model_data).fit()\n",
    "    pvals[col] = res.pvalues[col]\n",
    "    coefs[col] = res.params[col]\n",
    "    stderrs[col] = res.HC0_se[col]\n",
    "    ci = res.conf_int()\n",
    "    llci[col] = ci.loc[col, 0]\n",
    "    ulci[col] = ci.loc[col, 1]\n",
    "    ci_str[col] = f\"[{llci[col]:.6f}, {ulci[col]:.6f}]\"\n",
    "\n",
    "regression_results = pd.DataFrame({\"coef\": coefs, \"stderr\": stderrs, \"llci\": llci, \"ulci\": ulci, \"pvals\": pvals, \"ci\": ci_str})\n",
    "regression_results['p_fdr'] = stats.false_discovery_control(\n",
    "    regression_results['pvals'], method='bh'\n",
    ")\n",
    "\n",
    "regression_results.sort_values(by=\"coef\")"
   ]
  },
  {
   "cell_type": "code",
   "execution_count": 13,
   "id": "b9c99506",
   "metadata": {},
   "outputs": [
    {
     "data": {
      "application/vnd.microsoft.datawrangler.viewer.v0+json": {
       "columns": [
        {
         "name": "index",
         "rawType": "object",
         "type": "string"
        },
        {
         "name": "coef",
         "rawType": "float64",
         "type": "float"
        },
        {
         "name": "stderr",
         "rawType": "float64",
         "type": "float"
        },
        {
         "name": "llci",
         "rawType": "float64",
         "type": "float"
        },
        {
         "name": "ulci",
         "rawType": "float64",
         "type": "float"
        },
        {
         "name": "pvals",
         "rawType": "float64",
         "type": "float"
        },
        {
         "name": "ci",
         "rawType": "object",
         "type": "string"
        },
        {
         "name": "p_fdr",
         "rawType": "float64",
         "type": "float"
        }
       ],
       "ref": "66f7f4f2-9229-49fa-9360-5e1d20c125c0",
       "rows": [
        [
         "THALAMUS_1",
         "-0.5766820146389475",
         "0.04539716078974101",
         "-0.6620903196340224",
         "-0.49127370964387257",
         "2.797199917203927e-34",
         "[-0.662090, -0.491274]",
         "1.6783199503223564e-33"
        ],
        [
         "posterior",
         "-0.4678658919381255",
         "0.12189204255449122",
         "-0.695641326527398",
         "-0.240090457348853",
         "6.350638396334011e-05",
         "[-0.695641, -0.240090]",
         "0.00012701276792668022"
        ],
        [
         "medial",
         "-0.1501884132550598",
         "0.09369880802066645",
         "-0.3464832427467083",
         "0.04610641623658865",
         "0.13338319361268205",
         "[-0.346483, 0.046106]",
         "0.13338319361268205"
        ],
        [
         "anterior",
         "-0.12554929682276617",
         "0.057021564136491065",
         "-0.23859309432020107",
         "-0.012505499325331265",
         "0.02957530048089902",
         "[-0.238593, -0.012505]",
         "0.044362950721348535"
        ],
        [
         "intralaminar",
         "0.10303695479974576",
         "0.06585012345753624",
         "-0.014826355837483624",
         "0.22090026543697514",
         "0.08648215017909398",
         "[-0.014826, 0.220900]",
         "0.10377858021491278"
        ],
        [
         "ventral",
         "0.41863021739073736",
         "0.11182863148353508",
         "0.227234899031447",
         "0.6100255357500277",
         "2.1013382781990766e-05",
         "[0.227235, 0.610026]",
         "6.30401483459723e-05"
        ]
       ],
       "shape": {
        "columns": 7,
        "rows": 6
       }
      },
      "text/html": [
       "<div>\n",
       "<style scoped>\n",
       "    .dataframe tbody tr th:only-of-type {\n",
       "        vertical-align: middle;\n",
       "    }\n",
       "\n",
       "    .dataframe tbody tr th {\n",
       "        vertical-align: top;\n",
       "    }\n",
       "\n",
       "    .dataframe thead th {\n",
       "        text-align: right;\n",
       "    }\n",
       "</style>\n",
       "<table border=\"1\" class=\"dataframe\">\n",
       "  <thead>\n",
       "    <tr style=\"text-align: right;\">\n",
       "      <th></th>\n",
       "      <th>coef</th>\n",
       "      <th>stderr</th>\n",
       "      <th>llci</th>\n",
       "      <th>ulci</th>\n",
       "      <th>pvals</th>\n",
       "      <th>ci</th>\n",
       "      <th>p_fdr</th>\n",
       "    </tr>\n",
       "  </thead>\n",
       "  <tbody>\n",
       "    <tr>\n",
       "      <th>THALAMUS_1</th>\n",
       "      <td>-0.576682</td>\n",
       "      <td>0.045397</td>\n",
       "      <td>-0.662090</td>\n",
       "      <td>-0.491274</td>\n",
       "      <td>2.797200e-34</td>\n",
       "      <td>[-0.662090, -0.491274]</td>\n",
       "      <td>1.678320e-33</td>\n",
       "    </tr>\n",
       "    <tr>\n",
       "      <th>posterior</th>\n",
       "      <td>-0.467866</td>\n",
       "      <td>0.121892</td>\n",
       "      <td>-0.695641</td>\n",
       "      <td>-0.240090</td>\n",
       "      <td>6.350638e-05</td>\n",
       "      <td>[-0.695641, -0.240090]</td>\n",
       "      <td>1.270128e-04</td>\n",
       "    </tr>\n",
       "    <tr>\n",
       "      <th>medial</th>\n",
       "      <td>-0.150188</td>\n",
       "      <td>0.093699</td>\n",
       "      <td>-0.346483</td>\n",
       "      <td>0.046106</td>\n",
       "      <td>1.333832e-01</td>\n",
       "      <td>[-0.346483, 0.046106]</td>\n",
       "      <td>1.333832e-01</td>\n",
       "    </tr>\n",
       "    <tr>\n",
       "      <th>anterior</th>\n",
       "      <td>-0.125549</td>\n",
       "      <td>0.057022</td>\n",
       "      <td>-0.238593</td>\n",
       "      <td>-0.012505</td>\n",
       "      <td>2.957530e-02</td>\n",
       "      <td>[-0.238593, -0.012505]</td>\n",
       "      <td>4.436295e-02</td>\n",
       "    </tr>\n",
       "    <tr>\n",
       "      <th>intralaminar</th>\n",
       "      <td>0.103037</td>\n",
       "      <td>0.065850</td>\n",
       "      <td>-0.014826</td>\n",
       "      <td>0.220900</td>\n",
       "      <td>8.648215e-02</td>\n",
       "      <td>[-0.014826, 0.220900]</td>\n",
       "      <td>1.037786e-01</td>\n",
       "    </tr>\n",
       "    <tr>\n",
       "      <th>ventral</th>\n",
       "      <td>0.418630</td>\n",
       "      <td>0.111829</td>\n",
       "      <td>0.227235</td>\n",
       "      <td>0.610026</td>\n",
       "      <td>2.101338e-05</td>\n",
       "      <td>[0.227235, 0.610026]</td>\n",
       "      <td>6.304015e-05</td>\n",
       "    </tr>\n",
       "  </tbody>\n",
       "</table>\n",
       "</div>"
      ],
      "text/plain": [
       "                  coef    stderr      llci      ulci         pvals  \\\n",
       "THALAMUS_1   -0.576682  0.045397 -0.662090 -0.491274  2.797200e-34   \n",
       "posterior    -0.467866  0.121892 -0.695641 -0.240090  6.350638e-05   \n",
       "medial       -0.150188  0.093699 -0.346483  0.046106  1.333832e-01   \n",
       "anterior     -0.125549  0.057022 -0.238593 -0.012505  2.957530e-02   \n",
       "intralaminar  0.103037  0.065850 -0.014826  0.220900  8.648215e-02   \n",
       "ventral       0.418630  0.111829  0.227235  0.610026  2.101338e-05   \n",
       "\n",
       "                                  ci         p_fdr  \n",
       "THALAMUS_1    [-0.662090, -0.491274]  1.678320e-33  \n",
       "posterior     [-0.695641, -0.240090]  1.270128e-04  \n",
       "medial         [-0.346483, 0.046106]  1.333832e-01  \n",
       "anterior      [-0.238593, -0.012505]  4.436295e-02  \n",
       "intralaminar   [-0.014826, 0.220900]  1.037786e-01  \n",
       "ventral         [0.227235, 0.610026]  6.304015e-05  "
      ]
     },
     "execution_count": 13,
     "metadata": {},
     "output_type": "execute_result"
    }
   ],
   "source": [
    "model_data = df_z.join([df_thomas2_z])\n",
    "model_data = model_data[model_data.dz_type2 == \"MS\"]\n",
    "\n",
    "covariates = \"age + Female + tiv + THALAMUS_1\"\n",
    "\n",
    "pvals = {}\n",
    "coefs = {}\n",
    "stderrs = {}\n",
    "llci = {}\n",
    "ulci = {}\n",
    "ci_str = {}\n",
    "\n",
    "for col in df_thomas2:\n",
    "    formula = f\"t2lv_logtrans ~ {col} + {covariates}\"\n",
    "    res = sm.OLS.from_formula(formula, data=model_data).fit()\n",
    "    pvals[col] = res.pvalues[col]\n",
    "    coefs[col] = res.params[col]\n",
    "    stderrs[col] = res.HC0_se[col]\n",
    "    ci = res.conf_int()\n",
    "    llci[col] = ci.loc[col, 0]\n",
    "    ulci[col] = ci.loc[col, 1]\n",
    "    ci_str[col] = f\"[{llci[col]:.6f}, {ulci[col]:.6f}]\"\n",
    "\n",
    "regression_results = pd.DataFrame({\"coef\": coefs, \"stderr\": stderrs, \"llci\": llci, \"ulci\": ulci, \"pvals\": pvals, \"ci\": ci_str})\n",
    "regression_results['p_fdr'] = stats.false_discovery_control(\n",
    "    regression_results['pvals'], method='bh'\n",
    ")\n",
    "\n",
    "regression_results.sort_values(by=\"coef\")"
   ]
  },
  {
   "cell_type": "code",
   "execution_count": 15,
   "id": "b8395ffb",
   "metadata": {},
   "outputs": [
    {
     "data": {
      "application/vnd.microsoft.datawrangler.viewer.v0+json": {
       "columns": [
        {
         "name": "index",
         "rawType": "object",
         "type": "string"
        },
        {
         "name": "coef",
         "rawType": "float64",
         "type": "float"
        },
        {
         "name": "stderr",
         "rawType": "float64",
         "type": "float"
        },
        {
         "name": "llci",
         "rawType": "float64",
         "type": "float"
        },
        {
         "name": "ulci",
         "rawType": "float64",
         "type": "float"
        },
        {
         "name": "pvals",
         "rawType": "float64",
         "type": "float"
        },
        {
         "name": "ci",
         "rawType": "object",
         "type": "string"
        },
        {
         "name": "p_fdr",
         "rawType": "float64",
         "type": "float"
        }
       ],
       "ref": "4788a1c1-b113-43a7-a3c5-3e2dd91d575b",
       "rows": [
        [
         "THALAMUS_1",
         "-0.4712410717259267",
         "0.04775641192272756",
         "-0.5574492321491545",
         "-0.3850329113026989",
         "3.496055685378907e-24",
         "[-0.557449, -0.385033]",
         "2.0976334112273444e-23"
        ],
        [
         "medial",
         "-0.3261694830159004",
         "0.10396784621930716",
         "-0.5225354466145176",
         "-0.12980351941728321",
         "0.0011795995627580296",
         "[-0.522535, -0.129804]",
         "0.002359199125516059"
        ],
        [
         "posterior",
         "-0.295483658130836",
         "0.11842166066876503",
         "-0.5278460244321304",
         "-0.06312129182954168",
         "0.01280286440467822",
         "[-0.527846, -0.063121]",
         "0.015363437285613863"
        ],
        [
         "intralaminar",
         "-0.17464498954857927",
         "0.06538340070610953",
         "-0.29291856592930404",
         "-0.0563714131678545",
         "0.00388848966405981",
         "[-0.292919, -0.056371]",
         "0.005832734496089715"
        ],
        [
         "anterior",
         "0.05596373737889044",
         "0.0647618125545611",
         "-0.05861124095841561",
         "0.1705387157161965",
         "0.3376318019411698",
         "[-0.058611, 0.170539]",
         "0.3376318019411698"
        ],
        [
         "ventral",
         "0.597347619731898",
         "0.0986149843966858",
         "0.40805583435266407",
         "0.7866394051111318",
         "1.2437612637185018e-09",
         "[0.408056, 0.786639]",
         "3.731283791155505e-09"
        ]
       ],
       "shape": {
        "columns": 7,
        "rows": 6
       }
      },
      "text/html": [
       "<div>\n",
       "<style scoped>\n",
       "    .dataframe tbody tr th:only-of-type {\n",
       "        vertical-align: middle;\n",
       "    }\n",
       "\n",
       "    .dataframe tbody tr th {\n",
       "        vertical-align: top;\n",
       "    }\n",
       "\n",
       "    .dataframe thead th {\n",
       "        text-align: right;\n",
       "    }\n",
       "</style>\n",
       "<table border=\"1\" class=\"dataframe\">\n",
       "  <thead>\n",
       "    <tr style=\"text-align: right;\">\n",
       "      <th></th>\n",
       "      <th>coef</th>\n",
       "      <th>stderr</th>\n",
       "      <th>llci</th>\n",
       "      <th>ulci</th>\n",
       "      <th>pvals</th>\n",
       "      <th>ci</th>\n",
       "      <th>p_fdr</th>\n",
       "    </tr>\n",
       "  </thead>\n",
       "  <tbody>\n",
       "    <tr>\n",
       "      <th>THALAMUS_1</th>\n",
       "      <td>-0.471241</td>\n",
       "      <td>0.047756</td>\n",
       "      <td>-0.557449</td>\n",
       "      <td>-0.385033</td>\n",
       "      <td>3.496056e-24</td>\n",
       "      <td>[-0.557449, -0.385033]</td>\n",
       "      <td>2.097633e-23</td>\n",
       "    </tr>\n",
       "    <tr>\n",
       "      <th>medial</th>\n",
       "      <td>-0.326169</td>\n",
       "      <td>0.103968</td>\n",
       "      <td>-0.522535</td>\n",
       "      <td>-0.129804</td>\n",
       "      <td>1.179600e-03</td>\n",
       "      <td>[-0.522535, -0.129804]</td>\n",
       "      <td>2.359199e-03</td>\n",
       "    </tr>\n",
       "    <tr>\n",
       "      <th>posterior</th>\n",
       "      <td>-0.295484</td>\n",
       "      <td>0.118422</td>\n",
       "      <td>-0.527846</td>\n",
       "      <td>-0.063121</td>\n",
       "      <td>1.280286e-02</td>\n",
       "      <td>[-0.527846, -0.063121]</td>\n",
       "      <td>1.536344e-02</td>\n",
       "    </tr>\n",
       "    <tr>\n",
       "      <th>intralaminar</th>\n",
       "      <td>-0.174645</td>\n",
       "      <td>0.065383</td>\n",
       "      <td>-0.292919</td>\n",
       "      <td>-0.056371</td>\n",
       "      <td>3.888490e-03</td>\n",
       "      <td>[-0.292919, -0.056371]</td>\n",
       "      <td>5.832734e-03</td>\n",
       "    </tr>\n",
       "    <tr>\n",
       "      <th>anterior</th>\n",
       "      <td>0.055964</td>\n",
       "      <td>0.064762</td>\n",
       "      <td>-0.058611</td>\n",
       "      <td>0.170539</td>\n",
       "      <td>3.376318e-01</td>\n",
       "      <td>[-0.058611, 0.170539]</td>\n",
       "      <td>3.376318e-01</td>\n",
       "    </tr>\n",
       "    <tr>\n",
       "      <th>ventral</th>\n",
       "      <td>0.597348</td>\n",
       "      <td>0.098615</td>\n",
       "      <td>0.408056</td>\n",
       "      <td>0.786639</td>\n",
       "      <td>1.243761e-09</td>\n",
       "      <td>[0.408056, 0.786639]</td>\n",
       "      <td>3.731284e-09</td>\n",
       "    </tr>\n",
       "  </tbody>\n",
       "</table>\n",
       "</div>"
      ],
      "text/plain": [
       "                  coef    stderr      llci      ulci         pvals  \\\n",
       "THALAMUS_1   -0.471241  0.047756 -0.557449 -0.385033  3.496056e-24   \n",
       "medial       -0.326169  0.103968 -0.522535 -0.129804  1.179600e-03   \n",
       "posterior    -0.295484  0.118422 -0.527846 -0.063121  1.280286e-02   \n",
       "intralaminar -0.174645  0.065383 -0.292919 -0.056371  3.888490e-03   \n",
       "anterior      0.055964  0.064762 -0.058611  0.170539  3.376318e-01   \n",
       "ventral       0.597348  0.098615  0.408056  0.786639  1.243761e-09   \n",
       "\n",
       "                                  ci         p_fdr  \n",
       "THALAMUS_1    [-0.557449, -0.385033]  2.097633e-23  \n",
       "medial        [-0.522535, -0.129804]  2.359199e-03  \n",
       "posterior     [-0.527846, -0.063121]  1.536344e-02  \n",
       "intralaminar  [-0.292919, -0.056371]  5.832734e-03  \n",
       "anterior       [-0.058611, 0.170539]  3.376318e-01  \n",
       "ventral         [0.408056, 0.786639]  3.731284e-09  "
      ]
     },
     "execution_count": 15,
     "metadata": {},
     "output_type": "execute_result"
    }
   ],
   "source": [
    "model_data = df_z.join([df_thomas2_z])\n",
    "model_data = model_data[model_data.dz_type2 == \"MS\"]\n",
    "\n",
    "covariates = \"age + Female + tiv + THALAMUS_1\"\n",
    "\n",
    "pvals = {}\n",
    "coefs = {}\n",
    "stderrs = {}\n",
    "llci = {}\n",
    "ulci = {}\n",
    "ci_str = {}\n",
    "\n",
    "for col in df_thomas2:\n",
    "    formula = f\"choroid_volume ~ {col} + {covariates}\"\n",
    "    res = sm.OLS.from_formula(formula, data=model_data).fit()\n",
    "    pvals[col] = res.pvalues[col]\n",
    "    coefs[col] = res.params[col]\n",
    "    stderrs[col] = res.HC0_se[col]\n",
    "    ci = res.conf_int()\n",
    "    llci[col] = ci.loc[col, 0]\n",
    "    ulci[col] = ci.loc[col, 1]\n",
    "    ci_str[col] = f\"[{llci[col]:.6f}, {ulci[col]:.6f}]\"\n",
    "\n",
    "regression_results = pd.DataFrame({\"coef\": coefs, \"stderr\": stderrs, \"llci\": llci, \"ulci\": ulci, \"pvals\": pvals, \"ci\": ci_str})\n",
    "regression_results['p_fdr'] = stats.false_discovery_control(\n",
    "    regression_results['pvals'], method='bh'\n",
    ")\n",
    "\n",
    "regression_results.sort_values(by=\"coef\")"
   ]
  },
  {
   "cell_type": "markdown",
   "id": "249cb250",
   "metadata": {},
   "source": [
    "### Deep Grey Structures"
   ]
  },
  {
   "cell_type": "code",
   "execution_count": 136,
   "id": "89dccceb",
   "metadata": {},
   "outputs": [
    {
     "data": {
      "application/vnd.microsoft.datawrangler.viewer.v0+json": {
       "columns": [
        {
         "name": "index",
         "rawType": "object",
         "type": "string"
        },
        {
         "name": "coef",
         "rawType": "float64",
         "type": "float"
        },
        {
         "name": "stderr",
         "rawType": "float64",
         "type": "float"
        },
        {
         "name": "llci",
         "rawType": "float64",
         "type": "float"
        },
        {
         "name": "ulci",
         "rawType": "float64",
         "type": "float"
        },
        {
         "name": "pvals",
         "rawType": "float64",
         "type": "float"
        },
        {
         "name": "p_fdr",
         "rawType": "float64",
         "type": "float"
        }
       ],
       "ref": "795d61dc-de55-447c-b17a-1856fc356ba2",
       "rows": [
        [
         "THALAMUS_1",
         "-0.29487826661416133",
         "0.04574541719153483",
         "-0.38822031129113166",
         "-0.201536221937191",
         "1.2207381754910873e-09",
         "1.4648858105893047e-08"
        ],
        [
         "Cla_28",
         "-0.2150972421344618",
         "0.049180575154421244",
         "-0.31374228987068664",
         "-0.11645219439823695",
         "2.2353157559934833e-05",
         "0.000134118945359609"
        ],
        [
         "Acc_26",
         "-0.17785842430382665",
         "0.04899922921683023",
         "-0.2803408992238963",
         "-0.07537594938375695",
         "0.0007065837988303501",
         "0.0028263351953214002"
        ],
        [
         "RN_32",
         "-0.14870514429977919",
         "0.05409000931491778",
         "-0.25889865874226003",
         "-0.03851162985729836",
         "0.00828267010326102",
         "0.019878408247826447"
        ],
        [
         "Hb_13",
         "-0.13473312549729766",
         "0.043543013015407736",
         "-0.2197434689569422",
         "-0.04972278203765311",
         "0.001959033633340192",
         "0.005877100900020577"
        ],
        [
         "Cau_27",
         "-0.13337152893137",
         "0.05459390353705746",
         "-0.23468514821010733",
         "-0.03205790965263268",
         "0.009991938041242824",
         "0.019983876082485648"
        ],
        [
         "Amy_34",
         "-0.1119042065879965",
         "0.0455683524185362",
         "-0.20012212059893802",
         "-0.02368629257705497",
         "0.0130288892608905",
         "0.02233523873295514"
        ],
        [
         "Put_31",
         "-0.08423784585662256",
         "0.059146567304476975",
         "-0.19274434820477296",
         "0.024268656491527846",
         "0.12778558544778737",
         "0.19167837817168104"
        ],
        [
         "GP_33",
         "-0.07363365979357255",
         "0.0500060672974728",
         "-0.17746129195828667",
         "0.030193972371141575",
         "0.16408260925623466",
         "0.19689913110748158"
        ],
        [
         "GPe_29",
         "-0.07362492485607067",
         "0.04818789089231813",
         "-0.17602356883610584",
         "0.02877371912396451",
         "0.15833913837480068",
         "0.19689913110748158"
        ],
        [
         "GPi_30",
         "-0.05806568544690697",
         "0.0516994157032772",
         "-0.1581368120319214",
         "0.04200544113810747",
         "0.2547546294108759",
         "0.27791414117550095"
        ],
        [
         "MTT_14",
         "0.034367556185062216",
         "0.05042570551753655",
         "-0.0684408077630396",
         "0.13717592013316401",
         "0.5115398596929608",
         "0.5115398596929608"
        ]
       ],
       "shape": {
        "columns": 6,
        "rows": 12
       }
      },
      "text/html": [
       "<div>\n",
       "<style scoped>\n",
       "    .dataframe tbody tr th:only-of-type {\n",
       "        vertical-align: middle;\n",
       "    }\n",
       "\n",
       "    .dataframe tbody tr th {\n",
       "        vertical-align: top;\n",
       "    }\n",
       "\n",
       "    .dataframe thead th {\n",
       "        text-align: right;\n",
       "    }\n",
       "</style>\n",
       "<table border=\"1\" class=\"dataframe\">\n",
       "  <thead>\n",
       "    <tr style=\"text-align: right;\">\n",
       "      <th></th>\n",
       "      <th>coef</th>\n",
       "      <th>stderr</th>\n",
       "      <th>llci</th>\n",
       "      <th>ulci</th>\n",
       "      <th>pvals</th>\n",
       "      <th>p_fdr</th>\n",
       "    </tr>\n",
       "  </thead>\n",
       "  <tbody>\n",
       "    <tr>\n",
       "      <th>THALAMUS_1</th>\n",
       "      <td>-0.294878</td>\n",
       "      <td>0.045745</td>\n",
       "      <td>-0.388220</td>\n",
       "      <td>-0.201536</td>\n",
       "      <td>1.220738e-09</td>\n",
       "      <td>1.464886e-08</td>\n",
       "    </tr>\n",
       "    <tr>\n",
       "      <th>Cla_28</th>\n",
       "      <td>-0.215097</td>\n",
       "      <td>0.049181</td>\n",
       "      <td>-0.313742</td>\n",
       "      <td>-0.116452</td>\n",
       "      <td>2.235316e-05</td>\n",
       "      <td>1.341189e-04</td>\n",
       "    </tr>\n",
       "    <tr>\n",
       "      <th>Acc_26</th>\n",
       "      <td>-0.177858</td>\n",
       "      <td>0.048999</td>\n",
       "      <td>-0.280341</td>\n",
       "      <td>-0.075376</td>\n",
       "      <td>7.065838e-04</td>\n",
       "      <td>2.826335e-03</td>\n",
       "    </tr>\n",
       "    <tr>\n",
       "      <th>RN_32</th>\n",
       "      <td>-0.148705</td>\n",
       "      <td>0.054090</td>\n",
       "      <td>-0.258899</td>\n",
       "      <td>-0.038512</td>\n",
       "      <td>8.282670e-03</td>\n",
       "      <td>1.987841e-02</td>\n",
       "    </tr>\n",
       "    <tr>\n",
       "      <th>Hb_13</th>\n",
       "      <td>-0.134733</td>\n",
       "      <td>0.043543</td>\n",
       "      <td>-0.219743</td>\n",
       "      <td>-0.049723</td>\n",
       "      <td>1.959034e-03</td>\n",
       "      <td>5.877101e-03</td>\n",
       "    </tr>\n",
       "    <tr>\n",
       "      <th>Cau_27</th>\n",
       "      <td>-0.133372</td>\n",
       "      <td>0.054594</td>\n",
       "      <td>-0.234685</td>\n",
       "      <td>-0.032058</td>\n",
       "      <td>9.991938e-03</td>\n",
       "      <td>1.998388e-02</td>\n",
       "    </tr>\n",
       "    <tr>\n",
       "      <th>Amy_34</th>\n",
       "      <td>-0.111904</td>\n",
       "      <td>0.045568</td>\n",
       "      <td>-0.200122</td>\n",
       "      <td>-0.023686</td>\n",
       "      <td>1.302889e-02</td>\n",
       "      <td>2.233524e-02</td>\n",
       "    </tr>\n",
       "    <tr>\n",
       "      <th>Put_31</th>\n",
       "      <td>-0.084238</td>\n",
       "      <td>0.059147</td>\n",
       "      <td>-0.192744</td>\n",
       "      <td>0.024269</td>\n",
       "      <td>1.277856e-01</td>\n",
       "      <td>1.916784e-01</td>\n",
       "    </tr>\n",
       "    <tr>\n",
       "      <th>GP_33</th>\n",
       "      <td>-0.073634</td>\n",
       "      <td>0.050006</td>\n",
       "      <td>-0.177461</td>\n",
       "      <td>0.030194</td>\n",
       "      <td>1.640826e-01</td>\n",
       "      <td>1.968991e-01</td>\n",
       "    </tr>\n",
       "    <tr>\n",
       "      <th>GPe_29</th>\n",
       "      <td>-0.073625</td>\n",
       "      <td>0.048188</td>\n",
       "      <td>-0.176024</td>\n",
       "      <td>0.028774</td>\n",
       "      <td>1.583391e-01</td>\n",
       "      <td>1.968991e-01</td>\n",
       "    </tr>\n",
       "    <tr>\n",
       "      <th>GPi_30</th>\n",
       "      <td>-0.058066</td>\n",
       "      <td>0.051699</td>\n",
       "      <td>-0.158137</td>\n",
       "      <td>0.042005</td>\n",
       "      <td>2.547546e-01</td>\n",
       "      <td>2.779141e-01</td>\n",
       "    </tr>\n",
       "    <tr>\n",
       "      <th>MTT_14</th>\n",
       "      <td>0.034368</td>\n",
       "      <td>0.050426</td>\n",
       "      <td>-0.068441</td>\n",
       "      <td>0.137176</td>\n",
       "      <td>5.115399e-01</td>\n",
       "      <td>5.115399e-01</td>\n",
       "    </tr>\n",
       "  </tbody>\n",
       "</table>\n",
       "</div>"
      ],
      "text/plain": [
       "                coef    stderr      llci      ulci         pvals         p_fdr\n",
       "THALAMUS_1 -0.294878  0.045745 -0.388220 -0.201536  1.220738e-09  1.464886e-08\n",
       "Cla_28     -0.215097  0.049181 -0.313742 -0.116452  2.235316e-05  1.341189e-04\n",
       "Acc_26     -0.177858  0.048999 -0.280341 -0.075376  7.065838e-04  2.826335e-03\n",
       "RN_32      -0.148705  0.054090 -0.258899 -0.038512  8.282670e-03  1.987841e-02\n",
       "Hb_13      -0.134733  0.043543 -0.219743 -0.049723  1.959034e-03  5.877101e-03\n",
       "Cau_27     -0.133372  0.054594 -0.234685 -0.032058  9.991938e-03  1.998388e-02\n",
       "Amy_34     -0.111904  0.045568 -0.200122 -0.023686  1.302889e-02  2.233524e-02\n",
       "Put_31     -0.084238  0.059147 -0.192744  0.024269  1.277856e-01  1.916784e-01\n",
       "GP_33      -0.073634  0.050006 -0.177461  0.030194  1.640826e-01  1.968991e-01\n",
       "GPe_29     -0.073625  0.048188 -0.176024  0.028774  1.583391e-01  1.968991e-01\n",
       "GPi_30     -0.058066  0.051699 -0.158137  0.042005  2.547546e-01  2.779141e-01\n",
       "MTT_14      0.034368  0.050426 -0.068441  0.137176  5.115399e-01  5.115399e-01"
      ]
     },
     "execution_count": 136,
     "metadata": {},
     "output_type": "execute_result"
    }
   ],
   "source": [
    "model_data = df_z.join(df_thomas_z)\n",
    "model_data = model_data[model_data['dz_type5'].isin([\"RMS\", \"PMS\"])]\n",
    "covariates = \"age + Female + tiv\"\n",
    "\n",
    "pvals = {}\n",
    "coefs = {}\n",
    "stderrs = {}\n",
    "llci = {}\n",
    "ulci = {}\n",
    "\n",
    "outcome = \"EDSS_sqrt\"\n",
    "structs = hips_thomas_ref.index[~hips_thomas_ref.index.isin(thalamic_nuclei)]\n",
    "\n",
    "all_results = {}\n",
    "for x in structs:\n",
    "    col = hips_thomas_ref[x]\n",
    "    formula = f\"{outcome} ~ {col} + {covariates}\"\n",
    "    res = sm.OLS.from_formula(formula, data=model_data).fit()\n",
    "    pvals[col] = res.pvalues[col]\n",
    "    coefs[col] = res.params[col]\n",
    "    stderrs[col] = res.HC0_se[col]\n",
    "    ci = res.conf_int()\n",
    "    llci[col] = ci.loc[col, 0]\n",
    "    ulci[col] = ci.loc[col, 1]\n",
    "\n",
    "\n",
    "regression_results = pd.DataFrame({\"coef\": coefs, \"stderr\": stderrs, \"llci\": llci, \"ulci\": ulci, \"pvals\": pvals})\n",
    "regression_results['p_fdr'] = stats.false_discovery_control(\n",
    "    regression_results['pvals'], method='bh'\n",
    ")\n",
    "regression_results.sort_values(by=\"coef\", inplace=True)\n",
    "regression_results.to_csv(fig_path / \"deep_grey_regressions.csv\")\n",
    "regression_results"
   ]
  },
  {
   "cell_type": "code",
   "execution_count": 210,
   "id": "1b2cebe7",
   "metadata": {},
   "outputs": [],
   "source": [
    "vif_data = df_thomas_z[hips_thomas_ref[thalamic_nuclei + [1]]]\n",
    "vif = pd.DataFrame()\n",
    "vif['struct'] = vif_data.columns\n",
    "vif.set_index(\"struct\", inplace=True)\n",
    "vif['VIF'] = [variance_inflation_factor(vif_data.values, i, )\n",
    "                          for i in range(len(vif_data.columns))]"
   ]
  },
  {
   "cell_type": "code",
   "execution_count": 225,
   "id": "44b2e67e",
   "metadata": {},
   "outputs": [
    {
     "name": "stdout",
     "output_type": "stream",
     "text": [
      "                            OLS Regression Results                            \n",
      "==============================================================================\n",
      "Dep. Variable:              EDSS_sqrt   R-squared:                       0.289\n",
      "Model:                            OLS   Adj. R-squared:                  0.277\n",
      "Method:                 Least Squares   F-statistic:                     22.61\n",
      "Date:                Thu, 05 Jun 2025   Prob (F-statistic):           5.27e-29\n",
      "Time:                        20:05:35   Log-Likelihood:                -569.77\n",
      "No. Observations:                 453   AIC:                             1158.\n",
      "Df Residuals:                     444   BIC:                             1195.\n",
      "Df Model:                           8                                         \n",
      "Covariance Type:            nonrobust                                         \n",
      "================================================================================\n",
      "                   coef    std err          t      P>|t|      [0.025      0.975]\n",
      "--------------------------------------------------------------------------------\n",
      "Intercept       -0.0257      0.041     -0.631      0.529      -0.106       0.055\n",
      "age              0.3437      0.046      7.519      0.000       0.254       0.434\n",
      "Female          -0.0461      0.049     -0.933      0.352      -0.143       0.051\n",
      "tiv              0.0227      0.062      0.366      0.714      -0.099       0.145\n",
      "anterior        -0.0950      0.063     -1.501      0.134      -0.219       0.029\n",
      "ventral         -0.1382      0.083     -1.674      0.095      -0.300       0.024\n",
      "intralaminar     0.0562      0.065      0.871      0.384      -0.071       0.183\n",
      "medial           0.0265      0.093      0.286      0.775      -0.156       0.209\n",
      "posterior       -0.1812      0.093     -1.948      0.052      -0.364       0.002\n",
      "==============================================================================\n",
      "Omnibus:                        6.373   Durbin-Watson:                   2.017\n",
      "Prob(Omnibus):                  0.041   Jarque-Bera (JB):                6.208\n",
      "Skew:                           0.279   Prob(JB):                       0.0449\n",
      "Kurtosis:                       3.135   Cond. No.                         6.12\n",
      "==============================================================================\n",
      "\n",
      "Notes:\n",
      "[1] Standard Errors assume that the covariance matrix of the errors is correctly specified.\n"
     ]
    }
   ],
   "source": [
    "model_data = df_z.join(df_thomas2_z)\n",
    "model_data = model_data[model_data['dz_type5'].isin([\"RMS\", \"PMS\"])]\n",
    "formula = f\"EDSS_sqrt ~ age + Female + tiv + {\" + \".join(df_thomas2_z.columns[~df_thomas2_z.columns.isin([\"THALAMUS_1\"])])}\"\n",
    "res = sm.OLS.from_formula(formula, data=model_data).fit()\n",
    "print(res.summary())\n"
   ]
  },
  {
   "cell_type": "markdown",
   "id": "6ae74860",
   "metadata": {},
   "source": [
    "---"
   ]
  },
  {
   "cell_type": "markdown",
   "id": "efc6444d",
   "metadata": {},
   "source": [
    "### Elastic Net Trials"
   ]
  },
  {
   "cell_type": "code",
   "execution_count": 46,
   "id": "92ea2215",
   "metadata": {},
   "outputs": [],
   "source": [
    "from sklearn.linear_model import Lasso\n",
    "from sklearn.model_selection import train_test_split\n",
    "from sklearn.metrics import mean_squared_error\n",
    "from sklearn.impute import SimpleImputer\n",
    "import numpy as np"
   ]
  },
  {
   "cell_type": "code",
   "execution_count": 50,
   "id": "b0df4d81",
   "metadata": {},
   "outputs": [
    {
     "name": "stdout",
     "output_type": "stream",
     "text": [
      "Mean Squared Error: 1.0688643148091397\n",
      "Coefficients: [-0.16628181 -0.         -0.         -0.         -0.         -0.02281968\n",
      " -0.02927025 -0.15345964 -0.         -0.        ]\n"
     ]
    }
   ],
   "source": [
    "model_data = df_z.join(df_thomas_z)\n",
    "model_data = model_data[model_data['dz_type5'].isin([\"RMS\", \"PMS\"])]\n",
    "model_data = model_data[~model_data['EDSS_sqrt'].isna()]\n",
    "\n",
    "structs = hips_thomas_ref[thalamic_nuclei]\n",
    "\n",
    "\n",
    "X = model_data[structs]\n",
    "y = model_data['EDSS_sqrt']\n",
    "\n",
    "X_train, X_test, y_train, y_test = train_test_split(X, y, test_size=0.2, random_state=42)\n",
    "\n",
    "# Create a Lasso Regression model with a specific alpha (regularization strength)\n",
    "alpha = 0.1  # Adjust alpha as needed\n",
    "lasso = Lasso(alpha=alpha)\n",
    "\n",
    "# Train the model\n",
    "lasso.fit(X_train, y_train)\n",
    "\n",
    "# Make predictions on the test set\n",
    "y_pred = lasso.predict(X_test)\n",
    "\n",
    "# Evaluate the model\n",
    "mse = mean_squared_error(y_test, y_pred)\n",
    "print(f\"Mean Squared Error: {mse}\")\n",
    "\n",
    "# Print the coefficients (note that some may be zero)\n",
    "print(\"Coefficients:\", lasso.coef_)"
   ]
  },
  {
   "cell_type": "code",
   "execution_count": 51,
   "id": "a326119a",
   "metadata": {},
   "outputs": [
    {
     "data": {
      "application/vnd.microsoft.datawrangler.viewer.v0+json": {
       "columns": [
        {
         "name": "index",
         "rawType": "object",
         "type": "string"
        },
        {
         "name": "coef",
         "rawType": "float64",
         "type": "float"
        },
        {
         "name": "abs",
         "rawType": "float64",
         "type": "float"
        }
       ],
       "ref": "07ad2f61-477e-4219-97ff-5c8d4bf716c1",
       "rows": [
        [
         "AV_2",
         "-0.16628180926576694",
         "0.16628180926576694"
        ],
        [
         "MGN_10",
         "-0.15345963540346846",
         "0.15345963540346846"
        ],
        [
         "LGN_9",
         "-0.02927024837546813",
         "0.02927024837546813"
        ],
        [
         "Pul_8",
         "-0.022819676911347283",
         "0.022819676911347283"
        ],
        [
         "VA_4",
         "-0.0",
         "0.0"
        ],
        [
         "VLa_5",
         "-0.0",
         "0.0"
        ],
        [
         "VLP_6",
         "-0.0",
         "0.0"
        ],
        [
         "VPL_7",
         "-0.0",
         "0.0"
        ],
        [
         "CM_11",
         "-0.0",
         "0.0"
        ],
        [
         "MD_Pf_12",
         "-0.0",
         "0.0"
        ]
       ],
       "shape": {
        "columns": 2,
        "rows": 10
       }
      },
      "text/html": [
       "<div>\n",
       "<style scoped>\n",
       "    .dataframe tbody tr th:only-of-type {\n",
       "        vertical-align: middle;\n",
       "    }\n",
       "\n",
       "    .dataframe tbody tr th {\n",
       "        vertical-align: top;\n",
       "    }\n",
       "\n",
       "    .dataframe thead th {\n",
       "        text-align: right;\n",
       "    }\n",
       "</style>\n",
       "<table border=\"1\" class=\"dataframe\">\n",
       "  <thead>\n",
       "    <tr style=\"text-align: right;\">\n",
       "      <th></th>\n",
       "      <th>coef</th>\n",
       "      <th>abs</th>\n",
       "    </tr>\n",
       "  </thead>\n",
       "  <tbody>\n",
       "    <tr>\n",
       "      <th>AV_2</th>\n",
       "      <td>-0.166282</td>\n",
       "      <td>0.166282</td>\n",
       "    </tr>\n",
       "    <tr>\n",
       "      <th>MGN_10</th>\n",
       "      <td>-0.153460</td>\n",
       "      <td>0.153460</td>\n",
       "    </tr>\n",
       "    <tr>\n",
       "      <th>LGN_9</th>\n",
       "      <td>-0.029270</td>\n",
       "      <td>0.029270</td>\n",
       "    </tr>\n",
       "    <tr>\n",
       "      <th>Pul_8</th>\n",
       "      <td>-0.022820</td>\n",
       "      <td>0.022820</td>\n",
       "    </tr>\n",
       "    <tr>\n",
       "      <th>VA_4</th>\n",
       "      <td>-0.000000</td>\n",
       "      <td>0.000000</td>\n",
       "    </tr>\n",
       "    <tr>\n",
       "      <th>VLa_5</th>\n",
       "      <td>-0.000000</td>\n",
       "      <td>0.000000</td>\n",
       "    </tr>\n",
       "    <tr>\n",
       "      <th>VLP_6</th>\n",
       "      <td>-0.000000</td>\n",
       "      <td>0.000000</td>\n",
       "    </tr>\n",
       "    <tr>\n",
       "      <th>VPL_7</th>\n",
       "      <td>-0.000000</td>\n",
       "      <td>0.000000</td>\n",
       "    </tr>\n",
       "    <tr>\n",
       "      <th>CM_11</th>\n",
       "      <td>-0.000000</td>\n",
       "      <td>0.000000</td>\n",
       "    </tr>\n",
       "    <tr>\n",
       "      <th>MD_Pf_12</th>\n",
       "      <td>-0.000000</td>\n",
       "      <td>0.000000</td>\n",
       "    </tr>\n",
       "  </tbody>\n",
       "</table>\n",
       "</div>"
      ],
      "text/plain": [
       "              coef       abs\n",
       "AV_2     -0.166282  0.166282\n",
       "MGN_10   -0.153460  0.153460\n",
       "LGN_9    -0.029270  0.029270\n",
       "Pul_8    -0.022820  0.022820\n",
       "VA_4     -0.000000  0.000000\n",
       "VLa_5    -0.000000  0.000000\n",
       "VLP_6    -0.000000  0.000000\n",
       "VPL_7    -0.000000  0.000000\n",
       "CM_11    -0.000000  0.000000\n",
       "MD_Pf_12 -0.000000  0.000000"
      ]
     },
     "execution_count": 51,
     "metadata": {},
     "output_type": "execute_result"
    }
   ],
   "source": [
    "check = pd.DataFrame({\"coef\": lasso.coef_}, index=X.columns)\n",
    "check['abs'] = check['coef'].abs()\n",
    "check = check.sort_values(by=\"abs\", ascending=False)\n",
    "check"
   ]
  },
  {
   "cell_type": "code",
   "execution_count": 49,
   "id": "e71c853a",
   "metadata": {},
   "outputs": [
    {
     "name": "stdout",
     "output_type": "stream",
     "text": [
      "0.04268818040991856\n",
      "-0.005121767360380086\n",
      "1.042679507226447\n"
     ]
    },
    {
     "data": {
      "application/vnd.microsoft.datawrangler.viewer.v0+json": {
       "columns": [
        {
         "name": "index",
         "rawType": "object",
         "type": "string"
        },
        {
         "name": "coef",
         "rawType": "float64",
         "type": "float"
        },
        {
         "name": "abs",
         "rawType": "float64",
         "type": "float"
        }
       ],
       "ref": "5543011c-5bc6-4da8-8eb7-49e0e4addda4",
       "rows": [
        [
         "AV_2",
         "-0.20327376230688912",
         "0.20327376230688912"
        ],
        [
         "MGN_10",
         "-0.16757084292327143",
         "0.16757084292327143"
        ],
        [
         "LGN_9",
         "-0.05859226909307618",
         "0.05859226909307618"
        ],
        [
         "Pul_8",
         "-0.03511566721552397",
         "0.03511566721552397"
        ],
        [
         "VLa_5",
         "-0.013013527996647742",
         "0.013013527996647742"
        ],
        [
         "VA_4",
         "0.0",
         "0.0"
        ],
        [
         "VLP_6",
         "-0.0",
         "0.0"
        ],
        [
         "VPL_7",
         "0.0",
         "0.0"
        ],
        [
         "CM_11",
         "-0.0",
         "0.0"
        ],
        [
         "MD_Pf_12",
         "-0.0",
         "0.0"
        ],
        [
         "THALAMUS_1",
         "-0.0",
         "0.0"
        ]
       ],
       "shape": {
        "columns": 2,
        "rows": 11
       }
      },
      "text/html": [
       "<div>\n",
       "<style scoped>\n",
       "    .dataframe tbody tr th:only-of-type {\n",
       "        vertical-align: middle;\n",
       "    }\n",
       "\n",
       "    .dataframe tbody tr th {\n",
       "        vertical-align: top;\n",
       "    }\n",
       "\n",
       "    .dataframe thead th {\n",
       "        text-align: right;\n",
       "    }\n",
       "</style>\n",
       "<table border=\"1\" class=\"dataframe\">\n",
       "  <thead>\n",
       "    <tr style=\"text-align: right;\">\n",
       "      <th></th>\n",
       "      <th>coef</th>\n",
       "      <th>abs</th>\n",
       "    </tr>\n",
       "  </thead>\n",
       "  <tbody>\n",
       "    <tr>\n",
       "      <th>AV_2</th>\n",
       "      <td>-0.203274</td>\n",
       "      <td>0.203274</td>\n",
       "    </tr>\n",
       "    <tr>\n",
       "      <th>MGN_10</th>\n",
       "      <td>-0.167571</td>\n",
       "      <td>0.167571</td>\n",
       "    </tr>\n",
       "    <tr>\n",
       "      <th>LGN_9</th>\n",
       "      <td>-0.058592</td>\n",
       "      <td>0.058592</td>\n",
       "    </tr>\n",
       "    <tr>\n",
       "      <th>Pul_8</th>\n",
       "      <td>-0.035116</td>\n",
       "      <td>0.035116</td>\n",
       "    </tr>\n",
       "    <tr>\n",
       "      <th>VLa_5</th>\n",
       "      <td>-0.013014</td>\n",
       "      <td>0.013014</td>\n",
       "    </tr>\n",
       "    <tr>\n",
       "      <th>VA_4</th>\n",
       "      <td>0.000000</td>\n",
       "      <td>0.000000</td>\n",
       "    </tr>\n",
       "    <tr>\n",
       "      <th>VLP_6</th>\n",
       "      <td>-0.000000</td>\n",
       "      <td>0.000000</td>\n",
       "    </tr>\n",
       "    <tr>\n",
       "      <th>VPL_7</th>\n",
       "      <td>0.000000</td>\n",
       "      <td>0.000000</td>\n",
       "    </tr>\n",
       "    <tr>\n",
       "      <th>CM_11</th>\n",
       "      <td>-0.000000</td>\n",
       "      <td>0.000000</td>\n",
       "    </tr>\n",
       "    <tr>\n",
       "      <th>MD_Pf_12</th>\n",
       "      <td>-0.000000</td>\n",
       "      <td>0.000000</td>\n",
       "    </tr>\n",
       "    <tr>\n",
       "      <th>THALAMUS_1</th>\n",
       "      <td>-0.000000</td>\n",
       "      <td>0.000000</td>\n",
       "    </tr>\n",
       "  </tbody>\n",
       "</table>\n",
       "</div>"
      ],
      "text/plain": [
       "                coef       abs\n",
       "AV_2       -0.203274  0.203274\n",
       "MGN_10     -0.167571  0.167571\n",
       "LGN_9      -0.058592  0.058592\n",
       "Pul_8      -0.035116  0.035116\n",
       "VLa_5      -0.013014  0.013014\n",
       "VA_4        0.000000  0.000000\n",
       "VLP_6      -0.000000  0.000000\n",
       "VPL_7       0.000000  0.000000\n",
       "CM_11      -0.000000  0.000000\n",
       "MD_Pf_12   -0.000000  0.000000\n",
       "THALAMUS_1 -0.000000  0.000000"
      ]
     },
     "execution_count": 49,
     "metadata": {},
     "output_type": "execute_result"
    }
   ],
   "source": [
    "from sklearn.linear_model import ElasticNetCV\n",
    "\n",
    "\n",
    "regr = ElasticNetCV(cv=10, random_state=0)\n",
    "regr.fit(X_train, y_train)\n",
    "print(regr.alpha_)\n",
    "print(regr.intercept_)\n",
    "y_pred = regr.predict(X_test)\n",
    "\n",
    "mse = mean_squared_error(y_test, y_pred)\n",
    "print(mse)\n",
    "\n",
    "check = pd.DataFrame({\"coef\": regr.coef_}, index=X.columns)\n",
    "check['abs'] = check['coef'].abs()\n",
    "check = check.sort_values(by=\"abs\", ascending=False)\n",
    "check"
   ]
  },
  {
   "cell_type": "code",
   "execution_count": 245,
   "id": "8b192677",
   "metadata": {},
   "outputs": [
    {
     "name": "stdout",
     "output_type": "stream",
     "text": [
      "                            OLS Regression Results                            \n",
      "==============================================================================\n",
      "Dep. Variable:              EDSS_sqrt   R-squared:                       0.275\n",
      "Model:                            OLS   Adj. R-squared:                  0.267\n",
      "Method:                 Least Squares   F-statistic:                     33.94\n",
      "Date:                Thu, 05 Jun 2025   Prob (F-statistic):           2.15e-29\n",
      "Time:                        20:52:20   Log-Likelihood:                -574.28\n",
      "No. Observations:                 453   AIC:                             1161.\n",
      "Df Residuals:                     447   BIC:                             1185.\n",
      "Df Model:                           5                                         \n",
      "Covariance Type:            nonrobust                                         \n",
      "==============================================================================\n",
      "                 coef    std err          t      P>|t|      [0.025      0.975]\n",
      "------------------------------------------------------------------------------\n",
      "Intercept     -0.0215      0.041     -0.524      0.601      -0.102       0.059\n",
      "age            0.3215      0.047      6.876      0.000       0.230       0.413\n",
      "Female        -0.0603      0.048     -1.256      0.210      -0.155       0.034\n",
      "tiv           -0.0140      0.052     -0.267      0.789      -0.117       0.089\n",
      "AV_2          -0.1829      0.055     -3.310      0.001      -0.291      -0.074\n",
      "MGN_10        -0.1369      0.056     -2.439      0.015      -0.247      -0.027\n",
      "==============================================================================\n",
      "Omnibus:                        4.894   Durbin-Watson:                   2.027\n",
      "Prob(Omnibus):                  0.087   Jarque-Bera (JB):                4.746\n",
      "Skew:                           0.248   Prob(JB):                       0.0932\n",
      "Kurtosis:                       3.076   Cond. No.                         2.47\n",
      "==============================================================================\n",
      "\n",
      "Notes:\n",
      "[1] Standard Errors assume that the covariance matrix of the errors is correctly specified.\n"
     ]
    }
   ],
   "source": [
    "formula = \"EDSS_sqrt ~ age + Female + tiv + AV_2 + MGN_10\"\n",
    "res = sm.OLS.from_formula(formula, data=model_data).fit()\n",
    "print(res.summary())"
   ]
  }
 ],
 "metadata": {
  "kernelspec": {
   "display_name": "monai",
   "language": "python",
   "name": "python3"
  },
  "language_info": {
   "codemirror_mode": {
    "name": "ipython",
    "version": 3
   },
   "file_extension": ".py",
   "mimetype": "text/x-python",
   "name": "python",
   "nbconvert_exporter": "python",
   "pygments_lexer": "ipython3",
   "version": "3.12.4"
  }
 },
 "nbformat": 4,
 "nbformat_minor": 5
}
