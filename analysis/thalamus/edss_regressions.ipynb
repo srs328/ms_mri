{
 "cells": [
  {
   "cell_type": "code",
   "execution_count": 2,
   "id": "76cab6dd",
   "metadata": {},
   "outputs": [],
   "source": [
    "import pandas as pd\n",
    "from warnings import simplefilter\n",
    "simplefilter(action=\"ignore\", category=pd.errors.PerformanceWarning)\n",
    "from pathlib import Path\n",
    "import json\n",
    "import numpy as np\n",
    "from collections import defaultdict\n",
    "import matplotlib.pyplot as plt\n",
    "from datetime import datetime\n",
    "import re\n",
    "from scipy import stats\n",
    "import numpy as np\n",
    "import statsmodels.api as sm\n",
    "from matplotlib import colormaps\n",
    "from tqdm.notebook import tqdm\n",
    "import helpers\n",
    "\n",
    "from mri_data import file_manager as fm"
   ]
  },
  {
   "cell_type": "markdown",
   "id": "890635c5",
   "metadata": {},
   "source": [
    "## Load Data"
   ]
  },
  {
   "cell_type": "code",
   "execution_count": 3,
   "id": "000132f9",
   "metadata": {},
   "outputs": [],
   "source": [
    "drive_root = fm.get_drive_root()\n",
    "dataroot = drive_root / \"3Tpioneer_bids\"\n",
    "data_dir = Path(\"/home/srs-9/Projects/ms_mri/data\")\n",
    "fig_path = Path(\"/home/srs-9/Projects/ms_mri/choroid_thalamus_project/figures\")\n",
    "\n",
    "choroid_volumes = pd.read_csv(\n",
    "    \"/home/srs-9/Projects/ms_mri/data/choroid_aschoplex_volumes.csv\", index_col=\"subid\"\n",
    ").dropna()\n",
    "tiv = pd.read_csv(\"/home/srs-9/Projects/ms_mri/data/tiv_data.csv\", index_col=\"subid\")\n",
    "\n",
    "df = pd.read_csv(\n",
    "    \"/home/srs-9/Projects/ms_mri/data/clinical_data_processed.csv\", index_col=\"subid\"\n",
    ")\n",
    "df = df.join([choroid_volumes, tiv])\n",
    "df['thalamus_sqrt'] = np.sqrt(df['thalamus'])\n",
    "df['thalamus_curt'] = np.sqrt(df['thalamus']**3)\n",
    "df_z = df.copy()\n",
    "numeric_cols = df.select_dtypes(include='number').columns\n",
    "df_z[numeric_cols] = df_z[numeric_cols].apply(stats.zscore, nan_policy=\"omit\")\n",
    "\n",
    "df_ms = df[df['dz_type2'] == \"MS\"]\n",
    "df_ms_z = df_ms.copy()\n",
    "df_ms_z[numeric_cols] = df_ms_z[numeric_cols].apply(stats.zscore, nan_policy=\"omit\")\n",
    "\n",
    "\n",
    "viridis = colormaps['viridis'].resampled(20)\n",
    "\n",
    "colors = helpers.get_colors()"
   ]
  },
  {
   "cell_type": "code",
   "execution_count": 4,
   "id": "9d2c1d85",
   "metadata": {},
   "outputs": [],
   "source": [
    "df_thomas = pd.read_csv(data_dir / \"hipsthomas_vols.csv\", index_col=\"subid\")\n",
    "cols_orig = df_thomas.columns\n",
    "new_colnames = {}\n",
    "for col in df_thomas.columns:\n",
    "    new_col = re.sub(r\"(\\d+)-([\\w-]+)\", r\"\\2_\\1\", col)\n",
    "    new_col = re.sub(\"-\", \"_\", new_col)\n",
    "    new_colnames[col] = new_col\n",
    "df_thomas = df_thomas.rename(columns=new_colnames)\n",
    "df_thomas_norm = df_thomas.apply(lambda col: col / df_thomas['THALAMUS_1'])\n",
    "df_thomas_z = df_thomas.apply(stats.zscore, nan_policy=\"omit\")\n",
    "df_thomas_norm_z = df_thomas_norm.apply(stats.zscore, nan_policy=\"omit\")\n",
    "\n",
    "df_thomas_left = pd.read_csv(data_dir / \"hipsthomas_left_vols.csv\", index_col=\"subid\")\n",
    "df_thomas_left = df_thomas_left.rename(columns=new_colnames)\n",
    "df_thomas_left_z = df_thomas_left.apply(stats.zscore, nan_policy=\"omit\")\n",
    "\n",
    "df_thomas_right = pd.read_csv(data_dir / \"hipsthomas_right_vols.csv\", index_col=\"subid\")\n",
    "df_thomas_right = df_thomas_right.rename(columns=new_colnames)\n",
    "df_thomas_right_z = df_thomas_right.apply(stats.zscore, nan_policy=\"omit\")\n",
    "\n",
    "\n",
    "thalamic_nuclei = [2, 4, 5, 6, 7, 8, 9, 10, 11, 12]\n",
    "thalamic_nuclei_str = [str(i) for i in thalamic_nuclei]\n",
    "\n",
    "hips_thomas_ref = pd.read_csv(\n",
    "    \"/home/srs-9/Projects/ms_mri/data/hipsthomas_struct_index.csv\", index_col=\"index\"\n",
    ")\n",
    "hips_thomas_ref.rename(columns={\"struct\": \"struct_name\"}, inplace=True)\n",
    "\n",
    "choroid_dists = pd.read_csv(data_dir / \"centroid-choroid_SDT.csv\", index_col=\"subid\")\n",
    "ventricle_dists = pd.read_csv(\n",
    "    data_dir / \"centroid-ventricle_SDT.csv\", index_col=\"subid\"\n",
    ")\n",
    "\n",
    "mni_choroid_dists = pd.read_csv(\"/home/srs-9/Projects/ms_mri/data/mni-centroid-choroid_SDT2.csv\")"
   ]
  },
  {
   "cell_type": "markdown",
   "id": "7be765ec",
   "metadata": {},
   "source": [
    "## Regressions"
   ]
  },
  {
   "cell_type": "markdown",
   "id": "b14d7fc9",
   "metadata": {},
   "source": [
    "### Main MRI Features"
   ]
  },
  {
   "cell_type": "code",
   "execution_count": 5,
   "id": "e784a51c",
   "metadata": {},
   "outputs": [
    {
     "data": {
      "application/vnd.microsoft.datawrangler.viewer.v0+json": {
       "columns": [
        {
         "name": "index",
         "rawType": "object",
         "type": "string"
        },
        {
         "name": "coef",
         "rawType": "float64",
         "type": "float"
        },
        {
         "name": "pvals",
         "rawType": "float64",
         "type": "float"
        },
        {
         "name": "p_fdr",
         "rawType": "float64",
         "type": "float"
        }
       ],
       "ref": "91626d36-1123-4110-865d-359ca2dab6f7",
       "rows": [
        [
         "brain",
         "-0.0817668658988079",
         "0.08876744200463506",
         "0.12427441880648907"
        ],
        [
         "white",
         "-0.03340124363834631",
         "0.45860322382649177",
         "0.45860322382649177"
        ],
        [
         "grey",
         "-0.10493786135986989",
         "0.036725537412527175",
         "0.06426969047192256"
        ],
        [
         "cortical_thickness",
         "-0.22029097342004275",
         "3.147700748351011e-06",
         "1.1016952619228539e-05"
        ],
        [
         "thalamus",
         "-0.2669152631390333",
         "1.2732738232293222e-08",
         "8.912916762605256e-08"
        ],
        [
         "t2lv",
         "0.111862922501839",
         "0.008383220480119214",
         "0.019560847786944835"
        ],
        [
         "choroid_volume",
         "0.07105883540709416",
         "0.12934898631949032",
         "0.15090715070607205"
        ]
       ],
       "shape": {
        "columns": 3,
        "rows": 7
       }
      },
      "text/html": [
       "<div>\n",
       "<style scoped>\n",
       "    .dataframe tbody tr th:only-of-type {\n",
       "        vertical-align: middle;\n",
       "    }\n",
       "\n",
       "    .dataframe tbody tr th {\n",
       "        vertical-align: top;\n",
       "    }\n",
       "\n",
       "    .dataframe thead th {\n",
       "        text-align: right;\n",
       "    }\n",
       "</style>\n",
       "<table border=\"1\" class=\"dataframe\">\n",
       "  <thead>\n",
       "    <tr style=\"text-align: right;\">\n",
       "      <th></th>\n",
       "      <th>coef</th>\n",
       "      <th>pvals</th>\n",
       "      <th>p_fdr</th>\n",
       "    </tr>\n",
       "  </thead>\n",
       "  <tbody>\n",
       "    <tr>\n",
       "      <th>brain</th>\n",
       "      <td>-0.081767</td>\n",
       "      <td>8.876744e-02</td>\n",
       "      <td>1.242744e-01</td>\n",
       "    </tr>\n",
       "    <tr>\n",
       "      <th>white</th>\n",
       "      <td>-0.033401</td>\n",
       "      <td>4.586032e-01</td>\n",
       "      <td>4.586032e-01</td>\n",
       "    </tr>\n",
       "    <tr>\n",
       "      <th>grey</th>\n",
       "      <td>-0.104938</td>\n",
       "      <td>3.672554e-02</td>\n",
       "      <td>6.426969e-02</td>\n",
       "    </tr>\n",
       "    <tr>\n",
       "      <th>cortical_thickness</th>\n",
       "      <td>-0.220291</td>\n",
       "      <td>3.147701e-06</td>\n",
       "      <td>1.101695e-05</td>\n",
       "    </tr>\n",
       "    <tr>\n",
       "      <th>thalamus</th>\n",
       "      <td>-0.266915</td>\n",
       "      <td>1.273274e-08</td>\n",
       "      <td>8.912917e-08</td>\n",
       "    </tr>\n",
       "    <tr>\n",
       "      <th>t2lv</th>\n",
       "      <td>0.111863</td>\n",
       "      <td>8.383220e-03</td>\n",
       "      <td>1.956085e-02</td>\n",
       "    </tr>\n",
       "    <tr>\n",
       "      <th>choroid_volume</th>\n",
       "      <td>0.071059</td>\n",
       "      <td>1.293490e-01</td>\n",
       "      <td>1.509072e-01</td>\n",
       "    </tr>\n",
       "  </tbody>\n",
       "</table>\n",
       "</div>"
      ],
      "text/plain": [
       "                        coef         pvals         p_fdr\n",
       "brain              -0.081767  8.876744e-02  1.242744e-01\n",
       "white              -0.033401  4.586032e-01  4.586032e-01\n",
       "grey               -0.104938  3.672554e-02  6.426969e-02\n",
       "cortical_thickness -0.220291  3.147701e-06  1.101695e-05\n",
       "thalamus           -0.266915  1.273274e-08  8.912917e-08\n",
       "t2lv                0.111863  8.383220e-03  1.956085e-02\n",
       "choroid_volume      0.071059  1.293490e-01  1.509072e-01"
      ]
     },
     "execution_count": 5,
     "metadata": {},
     "output_type": "execute_result"
    }
   ],
   "source": [
    "model_data = df_ms_z.copy()\n",
    "covariates = \"age + Female + tiv\"\n",
    "\n",
    "outcome = \"EDSS_sqrt\"\n",
    "predictors = [\"brain\", \"white\", \"grey\", \"cortical_thickness\", \"thalamus\", \"t2lv\", \"choroid_volume\"]\n",
    "\n",
    "pvals = {}\n",
    "coefs = {}\n",
    "\n",
    "for x in predictors:\n",
    "    formula = f\"{outcome} ~ {x} + {covariates}\"\n",
    "    res = sm.OLS.from_formula(formula, data=model_data).fit()\n",
    "    pvals[x] = res.pvalues[x]\n",
    "    coefs[x] = res.params[x]\n",
    "\n",
    "\n",
    "regression_results = pd.DataFrame({\"coef\": coefs, \"pvals\": pvals})\n",
    "regression_results['p_fdr'] = stats.false_discovery_control(\n",
    "    regression_results['pvals'], method='bh'\n",
    ")\n",
    "\n",
    "regression_results"
   ]
  },
  {
   "cell_type": "markdown",
   "id": "5d10e7ea",
   "metadata": {},
   "source": [
    "### HIPS-THOMAS"
   ]
  },
  {
   "cell_type": "code",
   "execution_count": null,
   "id": "3137bdaf",
   "metadata": {},
   "outputs": [],
   "source": [
    "model_data = df_z.join(df_thomas_z)\n",
    "model_data = model_data[model_data['dz_type5'].isin([\"RMS\", \"PMS\"])]\n",
    "covariates = \"age + Female + tiv + THALAMUS_1\"\n",
    "\n",
    "pvals = {}\n",
    "coefs = {}\n",
    "\n",
    "outcome = \"EDSS_sqrt\"\n",
    "\n",
    "structs = thalamic_nuclei\n",
    "# structs = df_thomas.columns[~df_thomas.columns.isin([\"THALAMUS_1\", \"Amy_34\", \"GP_33\"])]\n",
    "all_results = {}\n",
    "for struct in structs:\n",
    "    formula = f\"{outcome} ~ {struct} + {covariates}\"\n",
    "    res = sm.OLS.from_formula(formula, data=model_data).fit()\n",
    "    pvals[struct] = res.pvalues[struct]\n",
    "    coefs[struct] = res.params[struct]\n",
    "    all_results[struct] = res\n",
    "\n",
    "regression_results = pd.DataFrame({\"coef\": coefs, \"pvals\": pvals})\n",
    "regression_results['p_fdr'] = stats.false_discovery_control(\n",
    "    regression_results['pvals'], method='bh'\n",
    ")"
   ]
  }
 ],
 "metadata": {
  "kernelspec": {
   "display_name": "monai",
   "language": "python",
   "name": "python3"
  },
  "language_info": {
   "codemirror_mode": {
    "name": "ipython",
    "version": 3
   },
   "file_extension": ".py",
   "mimetype": "text/x-python",
   "name": "python",
   "nbconvert_exporter": "python",
   "pygments_lexer": "ipython3",
   "version": "3.12.4"
  }
 },
 "nbformat": 4,
 "nbformat_minor": 5
}
