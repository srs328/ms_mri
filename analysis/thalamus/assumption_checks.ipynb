{
 "cells": [
  {
   "cell_type": "markdown",
   "id": "1a71ae6e",
   "metadata": {},
   "source": [
    "## Set Up"
   ]
  },
  {
   "cell_type": "markdown",
   "id": "6a0fa131",
   "metadata": {},
   "source": [
    "### Imports"
   ]
  },
  {
   "cell_type": "code",
   "execution_count": 2,
   "id": "2acf5a91",
   "metadata": {},
   "outputs": [],
   "source": [
    "import pprint\n",
    "from warnings import simplefilter\n",
    "\n",
    "import pandas as pd\n",
    "from IPython.display import Markdown, display\n",
    "from statsmodels.stats.multitest import multipletests\n",
    "\n",
    "simplefilter(action=\"ignore\", category=pd.errors.PerformanceWarning)\n",
    "import json\n",
    "import re\n",
    "import textwrap\n",
    "from collections import defaultdict\n",
    "from datetime import datetime\n",
    "from pathlib import Path\n",
    "\n",
    "import helpers\n",
    "import matplotlib.pyplot as plt\n",
    "import numpy as np\n",
    "import pyperclip\n",
    "import statsmodels.api as sm\n",
    "from IPython.display import clear_output\n",
    "from matplotlib import colormaps\n",
    "from scipy import stats\n",
    "from statsmodels.genmod.families import Poisson\n",
    "\n",
    "# from reload_recursive import reload_recursive\n",
    "from statsmodels.stats.mediation import Mediation\n",
    "from statsmodels.stats.outliers_influence import variance_inflation_factor\n",
    "from tqdm.notebook import tqdm\n",
    "\n",
    "from mri_data import file_manager as fm"
   ]
  },
  {
   "cell_type": "markdown",
   "id": "579ab1df",
   "metadata": {},
   "source": [
    "### Load Data"
   ]
  },
  {
   "cell_type": "markdown",
   "id": "a2f89159",
   "metadata": {},
   "source": [
    "#### Clinical and Volumes"
   ]
  },
  {
   "cell_type": "code",
   "execution_count": null,
   "id": "df985042",
   "metadata": {},
   "outputs": [],
   "source": [
    "drive_root = fm.get_drive_root()\n",
    "dataroot = drive_root / \"3Tpioneer_bids\"\n",
    "data_dir = Path(\"/home/srs-9/Projects/ms_mri/data\")\n",
    "fig_path = Path(\n",
    "    \"/home/srs-9/Projects/ms_mri/analysis/thalamus/figures_tables/choroid_associations\"\n",
    ")\n",
    "\n",
    "choroid_volumes = pd.read_csv(\n",
    "    \"/home/srs-9/Projects/ms_mri/data/choroid_aschoplex_volumes.csv\", index_col=\"subid\"\n",
    ")\n",
    "ventricle_volumes = pd.read_csv(\n",
    "    \"/home/srs-9/Projects/ms_mri/analysis/paper1/data0/ventricle_volumes.csv\",\n",
    "    index_col=\"subid\",\n",
    ")\n",
    "csf_volumes = pd.read_csv(\n",
    "    \"/home/srs-9/Projects/ms_mri/analysis/thalamus/data0/csf_volumes.csv\",\n",
    "    index_col=\"subid\",\n",
    ")\n",
    "third_ventricle_width = pd.read_csv(\n",
    "    \"/home/srs-9/Projects/ms_mri/analysis/thalamus/data0/third_ventricle_width.csv\",\n",
    "    index_col=\"subid\",\n",
    ")\n",
    "\n",
    "tiv = pd.read_csv(\"/home/srs-9/Projects/ms_mri/data/tiv_data.csv\", index_col=\"subid\")\n",
    "\n",
    "df = pd.read_csv(\n",
    "    \"/home/srs-9/Projects/ms_mri/data/clinical_data_processed.csv\", index_col=\"subid\"\n",
    ")\n",
    "sdmt = pd.read_csv(\n",
    "    \"/home/srs-9/Projects/ms_mri/analysis/thalamus/SDMT_sheet.csv\", index_col=\"subid\"\n",
    ")\n",
    "df = df.join(\n",
    "    [\n",
    "        choroid_volumes,\n",
    "        ventricle_volumes,\n",
    "        csf_volumes,\n",
    "        third_ventricle_width,\n",
    "        tiv,\n",
    "        sdmt[\"SDMT\"],\n",
    "    ]\n",
    ")\n",
    "rename_columns = {\n",
    "    \"ventricle_volume\": \"LV\",\n",
    "    \"choroid_volume\": \"CP\",\n",
    "    \"peripheral\": \"periCSF\",\n",
    "    \"all\": \"allCSF\",\n",
    "    \"third_ventricle\": \"thirdV\",\n",
    "    \"third_ventricle_width\": \"thirdV_width\"\n",
    "}\n",
    "#! need to fix the actual segmentation files\n",
    "df.rename(columns={\"ventricle_volume\": \"LV\", \"choroid_volume\": \"CP\"}, inplace=True)\n",
    "\n",
    "df[\"periCSF_frac\"] = csf_volumes[\"peripheral\"] / csf_volumes[\"all\"]\n",
    "\n",
    "df[\"SDMT\"] = pd.to_numeric(df[\"SDMT\"], errors=\"coerce\")\n",
    "df[\"thalamus_sqrt\"] = np.sqrt(df[\"thalamus\"])\n",
    "df[\"thalamus_curt\"] = np.sqrt(df[\"thalamus\"] ** 3)\n",
    "df[\"cortical_thickness_inv\"] = 1 / df[\"cortical_thickness\"]\n",
    "df[\"LV_logtrans\"] = np.log(df[\"LV\"])\n",
    "\n",
    "# these corrections should ultimately be made to the csf file\n",
    "for struct in [\"brain\", \"white\", \"grey\", \"thalamus\", \"t2lv\"]:\n",
    "    df[struct] = df[struct] * 1000\n",
    "\n",
    "df[\"CCF\"] = df[\"LV\"] / df[\"allCSF\"]\n",
    "df[\"peri_ratio\"] = df[\"periCSF\"] / df[\"LV\"]\n",
    "\n",
    "\n",
    "df_z = df.copy()\n",
    "numeric_cols = df.select_dtypes(include=\"number\").columns\n",
    "df_z[numeric_cols] = df_z[numeric_cols].apply(stats.zscore, nan_policy=\"omit\")\n",
    "\n",
    "viridis = colormaps[\"viridis\"].resampled(20)\n",
    "\n",
    "colors = helpers.get_colors()\n",
    "\n",
    "MS_patients = df[\"dz_type2\"] == \"MS\"\n",
    "nonMS_patients = df[\"dz_type2\"] == \"!MS\"\n",
    "NIND_patients = df[\"dz_type5\"] == \"NIND\"\n",
    "OIND_patients = df[\"dz_type5\"] == \"OIND\"\n",
    "RMS_patients = df[\"dz_type5\"] == \"RMS\"\n",
    "PMS_patients = df[\"dz_type5\"] == \"PMS\""
   ]
  },
  {
   "cell_type": "markdown",
   "id": "f7611cfb",
   "metadata": {},
   "source": [
    "#### HIPS-THOMAS Volumes and Distances"
   ]
  },
  {
   "cell_type": "code",
   "execution_count": null,
   "id": "87bf224b",
   "metadata": {},
   "outputs": [],
   "source": [
    "df_thomas = pd.read_csv(data_dir / \"hipsthomas_vols.csv\", index_col=\"subid\")\n",
    "df_thomas_left = pd.read_csv(data_dir / \"hipsthomas_left_vols.csv\", index_col=\"subid\")\n",
    "df_thomas_right = pd.read_csv(data_dir / \"hipsthomas_right_vols.csv\", index_col=\"subid\")\n",
    "\n",
    "cols_orig = df_thomas.columns\n",
    "new_colnames = {}\n",
    "for col in df_thomas.columns:\n",
    "    new_col = re.sub(r\"(\\d+)-([\\w-]+)\", r\"\\2_\\1\", col)\n",
    "    new_col = re.sub(\"-\", \"_\", new_col)\n",
    "    new_colnames[col] = new_col\n",
    "\n",
    "df_thomas = df_thomas.rename(columns=new_colnames)\n",
    "df_thomas_left = df_thomas_left.rename(columns=new_colnames)\n",
    "df_thomas_right = df_thomas_right.rename(columns=new_colnames)\n",
    "\n",
    "nuclei_groupings = {\n",
    "    \"anterior\": [\"AV_2\"],\n",
    "    \"ventral\": [\"VA_4\", \"VLa_5\", \"VLP_6\", \"VPL_7\"],\n",
    "    \"posterior\": [\"Pul_8\", \"LGN_9\", \"MGN_10\"],\n",
    "    \"medial\": [\"MD_Pf_12\", \"CM_11\"],\n",
    "}\n",
    "\n",
    "\n",
    "def combine_nuclei(df, groupings):\n",
    "    df2 = pd.DataFrame()\n",
    "    for group, nuclei in groupings.items():\n",
    "        df2[group] = sum([df[nucleus] for nucleus in nuclei])\n",
    "    return df2\n",
    "\n",
    "\n",
    "df_thomas = df_thomas.join(combine_nuclei(df_thomas, nuclei_groupings))\n",
    "df_thomas_left = df_thomas_left.join(combine_nuclei(df_thomas_left, nuclei_groupings))\n",
    "df_thomas_right = df_thomas_right.join(\n",
    "    combine_nuclei(df_thomas_right, nuclei_groupings)\n",
    ")\n",
    "\n",
    "\n",
    "thalamic_nuclei = [2, 4, 5, 6, 7, 8, 9, 10, 11, 12]\n",
    "thalamic_nuclei_str = [str(i) for i in thalamic_nuclei]\n",
    "deep_grey = [13, 14, 26, 27, 28, 29, 30, 31, 32]\n",
    "deep_grey_str = [str(i) for i in deep_grey]\n",
    "\n",
    "\n",
    "hips_thomas_ref = pd.read_csv(\n",
    "    \"/home/srs-9/Projects/ms_mri/data/hipsthomas_struct_index.csv\", index_col=\"index\"\n",
    ")[\"struct\"]\n",
    "hips_thomas_invref = pd.read_csv(\n",
    "    \"/home/srs-9/Projects/ms_mri/data/hipsthomas_struct_index.csv\", index_col=\"struct\"\n",
    ")[\"index\"]"
   ]
  },
  {
   "cell_type": "code",
   "execution_count": 14,
   "id": "d006113e",
   "metadata": {},
   "outputs": [
    {
     "data": {
      "application/vnd.microsoft.datawrangler.viewer.v0+json": {
       "columns": [
        {
         "name": "index",
         "rawType": "int64",
         "type": "integer"
        },
        {
         "name": "struct",
         "rawType": "object",
         "type": "string"
        }
       ],
       "ref": "2e461ebd-5b69-48b9-b940-bf4f09240978",
       "rows": [
        [
         "1",
         "THALAMUS_1"
        ],
        [
         "2",
         "AV_2"
        ],
        [
         "4",
         "VA_4"
        ],
        [
         "5",
         "VLa_5"
        ],
        [
         "6",
         "VLP_6"
        ],
        [
         "7",
         "VPL_7"
        ],
        [
         "8",
         "Pul_8"
        ],
        [
         "9",
         "LGN_9"
        ],
        [
         "10",
         "MGN_10"
        ],
        [
         "11",
         "CM_11"
        ],
        [
         "12",
         "MD_Pf_12"
        ],
        [
         "13",
         "Hb_13"
        ],
        [
         "14",
         "MTT_14"
        ],
        [
         "26",
         "Acc_26"
        ],
        [
         "27",
         "Cau_27"
        ],
        [
         "28",
         "Cla_28"
        ],
        [
         "29",
         "GPe_29"
        ],
        [
         "30",
         "GPi_30"
        ],
        [
         "31",
         "Put_31"
        ],
        [
         "32",
         "RN_32"
        ],
        [
         "33",
         "GP_33"
        ],
        [
         "34",
         "Amy_34"
        ]
       ],
       "shape": {
        "columns": 1,
        "rows": 22
       }
      },
      "text/plain": [
       "index\n",
       "1     THALAMUS_1\n",
       "2           AV_2\n",
       "4           VA_4\n",
       "5          VLa_5\n",
       "6          VLP_6\n",
       "7          VPL_7\n",
       "8          Pul_8\n",
       "9          LGN_9\n",
       "10        MGN_10\n",
       "11         CM_11\n",
       "12      MD_Pf_12\n",
       "13         Hb_13\n",
       "14        MTT_14\n",
       "26        Acc_26\n",
       "27        Cau_27\n",
       "28        Cla_28\n",
       "29        GPe_29\n",
       "30        GPi_30\n",
       "31        Put_31\n",
       "32         RN_32\n",
       "33         GP_33\n",
       "34        Amy_34\n",
       "Name: struct, dtype: object"
      ]
     },
     "execution_count": 14,
     "metadata": {},
     "output_type": "execute_result"
    }
   ],
   "source": [
    "hips_thomas_ref"
   ]
  },
  {
   "cell_type": "code",
   "execution_count": null,
   "id": "5def8a48",
   "metadata": {},
   "outputs": [],
   "source": [
    "def zscore(df):\n",
    "    df_z = df.copy()\n",
    "    numeric_cols = df.select_dtypes(include=\"number\").columns\n",
    "    df_z[numeric_cols] = df_z[numeric_cols].apply(stats.zscore, nan_policy=\"omit\")\n",
    "    return df_z"
   ]
  },
  {
   "cell_type": "markdown",
   "id": "8b171292",
   "metadata": {},
   "source": [
    "## Checks"
   ]
  },
  {
   "cell_type": "code",
   "execution_count": null,
   "id": "93c6ed8a",
   "metadata": {},
   "outputs": [],
   "source": [
    "def screen_variable(data, var_name):\n",
    "    fig, axes = plt.subplots(2, 2, figsize=(12, 10))\n",
    "\n",
    "    # Histogram\n",
    "    axes[0, 0].hist(data[var_name].dropna(), bins=30, edgecolor='black')\n",
    "    axes[0, 0].set_title(f'Histogram: {var_name}')\n",
    "    axes[0, 0].set_xlabel(var_name)\n",
    "\n",
    "    # Q-Q plot\n",
    "    stats.probplot(data[var_name].dropna(), dist=\"norm\", plot=axes[0, 1])\n",
    "    axes[0, 1].set_title(f'Q-Q Plot: {var_name}')\n",
    "\n",
    "    # Boxplot\n",
    "    axes[1, 0].boxplot(data[var_name].dropna())\n",
    "    axes[1, 0].set_title(f'Boxplot: {var_name}')\n",
    "    axes[1, 0].set_ylabel(var_name)\n",
    "\n",
    "    # Summary stats\n",
    "    axes[1, 1].axis('off')\n",
    "    summary = data[var_name].describe()\n",
    "    skew = data[var_name].skew()\n",
    "    kurt = data[var_name].kurtosis()\n",
    "\n",
    "    summary_text = f\"\"\"\n",
    "    Mean: {summary['mean']:.2f}\n",
    "    Median: {summary['50%']:.2f}\n",
    "    Std: {summary['std']:.2f}\n",
    "    Min: {summary['min']:.2f}\n",
    "    Max: {summary['max']:.2f}\n",
    "    \n",
    "    Skewness: {skew:.2f}\n",
    "    Kurtosis: {kurt:.2f}\n",
    "    \n",
    "    Rule of thumb:\n",
    "    |Skew| < 1: OK\n",
    "    |Skew| 1-2: Moderate\n",
    "    |Skew| > 2: Severe\n",
    "    \"\"\"\n",
    "    axes[1, 1].text(0.1, 0.5, summary_text, fontsize=10, family='monospace')\n",
    "\n",
    "    plt.tight_layout()\n",
    "    plt.savefig(\n",
    "        f'/mnt/user-data/outputs/{var_name}_screening.png', dpi=300, bbox_inches='tight'\n",
    "    )\n",
    "    plt.close()\n",
    "\n",
    "    return skew, kurt"
   ]
  },
  {
   "cell_type": "code",
   "execution_count": null,
   "id": "110f387d",
   "metadata": {},
   "outputs": [],
   "source": [
    "all_predictors = [\n",
    "    \"LV\",\n",
    "    \"CP\",\n",
    "    \"periCSF\",\n",
    "    \"allCSF\",\n",
    "    \"thirdV\",\n",
    "    \"thirdV_width\",\n",
    "    \"THALAMUS_1\",\n",
    "    \"medial\",\n",
    "    \"posterior\",\n",
    "    \"ventral\",\n",
    "    \"anterior\",\n",
    "    \"t2lv\",\n",
    "    \"brain\",\n",
    "    \"white\",\n",
    "    \"grey\",\n",
    "]\n",
    "\n",
    "data"
   ]
  }
 ],
 "metadata": {
  "kernelspec": {
   "display_name": "ms_mri",
   "language": "python",
   "name": "python3"
  },
  "language_info": {
   "codemirror_mode": {
    "name": "ipython",
    "version": 3
   },
   "file_extension": ".py",
   "mimetype": "text/x-python",
   "name": "python",
   "nbconvert_exporter": "python",
   "pygments_lexer": "ipython3",
   "version": "3.13.9"
  }
 },
 "nbformat": 4,
 "nbformat_minor": 5
}
