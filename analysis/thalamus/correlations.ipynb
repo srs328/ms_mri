{
 "cells": [
  {
   "cell_type": "code",
   "execution_count": 14,
   "id": "0bc1235f",
   "metadata": {},
   "outputs": [],
   "source": [
    "import matplotlib.pyplot as plt\n",
    "import pandas as pd\n",
    "from pathlib import Path\n",
    "import numpy as np\n",
    "import nibabel as nib\n",
    "import seaborn as sns\n",
    "import statsmodels.api as sm\n",
    "from scipy import stats\n",
    "import os\n",
    "from reload_recursive import reload_recursive\n",
    "from pyprocessmacro import Process\n",
    "from statsmodels.stats.mediation import Mediation\n",
    "from statsmodels.miscmodels.ordinal_model import OrderedModel\n",
    "import sys\n",
    "import re\n",
    "\n",
    "from mri_data import file_manager as fm\n",
    "\n",
    "sys.path.append(\"/home/srs-9/Projects/ms_mri/analysis/paper1\")\n",
    "\n",
    "import helpers"
   ]
  },
  {
   "cell_type": "markdown",
   "id": "c7990c94",
   "metadata": {},
   "source": [
    "### Paths and Config"
   ]
  },
  {
   "cell_type": "code",
   "execution_count": 3,
   "id": "134d8c65",
   "metadata": {},
   "outputs": [],
   "source": [
    "drive_root = fm.get_drive_root()\n",
    "msmri_home = Path(\"/home/srs-9/Projects/ms_mri\")\n",
    "msmri_datadir = msmri_home / \"data\"\n",
    "curr_dir = Path(os.getcwd())\n",
    "data_dir = curr_dir / \"data0\"\n",
    "cp_data_dir = Path(\"/home/srs-9/Projects/ms_mri/analysis/paper1/data0\")\n",
    "showfigs = False\n",
    "pd.options.display.precision = 3"
   ]
  },
  {
   "cell_type": "code",
   "execution_count": 27,
   "id": "e2a7190d",
   "metadata": {},
   "outputs": [],
   "source": [
    "df_thomas = pd.read_csv(data_dir / \"hipsthomas_vols.csv\", index_col=\"subid\")\n",
    "new_colnames = {}\n",
    "for col in df_thomas.columns:\n",
    "    new_col = re.sub(r\"(\\d+)-([\\w-]+)\", r\"\\2_\\1\", col)\n",
    "    new_col = re.sub(\"-\", \"_\", new_col)\n",
    "    new_colnames[col] = new_col\n",
    "df_thomas = df_thomas.rename(columns=new_colnames)\n",
    "df_thomas_norm = df_thomas.apply(lambda x: x / df_thomas['THALAMUS_1'])\n",
    "df_thomas_norm = df_thomas_norm.drop(\"THALAMUS_1\", axis=1)\n",
    "df_thomas_z = df_thomas.apply(stats.zscore, nan_policy=\"omit\")\n",
    "df_thomas_norm_z = df_thomas_norm.apply(stats.zscore, nan_policy=\"omit\")\n",
    "cols_orig = df_thomas.columns\n",
    "\n",
    "thalamic_nuclei = df_thomas.columns[1:11]"
   ]
  },
  {
   "cell_type": "code",
   "execution_count": 5,
   "id": "a7623ac3",
   "metadata": {},
   "outputs": [],
   "source": [
    "new_index = []\n",
    "for col in df_thomas.columns:\n",
    "    new_index.append(int(re.match(r\".+_(\\d+)$\", col)[1]))\n",
    "\n",
    "df_structs = pd.DataFrame({'struct': df_thomas.columns}, index=new_index)"
   ]
  },
  {
   "cell_type": "code",
   "execution_count": 19,
   "id": "6f49566a",
   "metadata": {},
   "outputs": [],
   "source": [
    "df = pd.read_csv(cp_data_dir / \"t1_aschoplex_data_full.csv\", index_col=\"subid\")\n",
    "df_full = df.copy()\n",
    "df_tmp = pd.read_csv(cp_data_dir / \"t1_data_full.csv\", index_col=\"subid\")\n",
    "df['pineal_volume'] = df_tmp['pineal_volume']\n",
    "df['pituitary_volume'] = df_tmp['pituitary_volume']\n",
    "df = pd.concat((df, pd.get_dummies(df[\"sex\"], dtype=\"int\")), axis=1)\n",
    "df = helpers.set_dz_type5(df)\n",
    "\n",
    "numeric_vars = [\"choroid_volume\", \"pineal_volume\", \"pituitary_volume\", \"Female\", \"age\", \"tiv\"]\n",
    "keep_cols = numeric_vars + [\"dz_type5\"]\n",
    "df = df[keep_cols]\n",
    "df_z = df.copy()\n",
    "df_z[numeric_vars] = df[numeric_vars].apply(stats.zscore, nan_policy=\"omit\")"
   ]
  },
  {
   "cell_type": "code",
   "execution_count": 31,
   "id": "acedd771",
   "metadata": {},
   "outputs": [
    {
     "name": "stdout",
     "output_type": "stream",
     "text": [
      "      struct   coef      pvals      p_fdr  coef_sig\n",
      "12  MD_Pf_12 -0.444  7.392e-20  7.392e-19    -0.444\n",
      "8      Pul_8 -0.444  1.750e-19  8.752e-19    -0.444\n",
      "11     CM_11 -0.406  4.286e-15  1.429e-14    -0.406\n",
      "10    MGN_10 -0.391  4.157e-14  1.039e-13    -0.391\n",
      "9      LGN_9 -0.341  3.374e-13  6.748e-13    -0.341\n",
      "7      VPL_7 -0.272  1.452e-07  2.420e-07    -0.272\n",
      "2       AV_2 -0.271  3.688e-07  5.269e-07    -0.271\n",
      "6      VLP_6 -0.268  1.077e-06  1.347e-06    -0.268\n",
      "4       VA_4 -0.120  4.330e-02  4.811e-02    -0.120\n",
      "5      VLa_5 -0.110  5.541e-02  5.541e-02     0.000\n"
     ]
    }
   ],
   "source": [
    "model_data = df_z.join(df_thomas_z)\n",
    "model_data = model_data[model_data['dz_type5'].isin([\"RMS\", \"PMS\"])]\n",
    "covariates = \"age + Female + tiv\"\n",
    "\n",
    "pvals = {}\n",
    "coefs = {}\n",
    "\n",
    "structs = thalamic_nuclei\n",
    "for struct in structs:\n",
    "    formula = f\"choroid_volume ~ {struct} + {covariates}\"\n",
    "    res = sm.OLS.from_formula(formula, data=model_data).fit()\n",
    "    pvals[struct] = res.pvalues[struct]\n",
    "    coefs[struct] = res.params[struct]\n",
    "\n",
    "regression_results = pd.DataFrame({\"coef\": coefs, \"pvals\": pvals})\n",
    "regression_results['p_fdr'] = stats.false_discovery_control(regression_results['pvals'], method='bh')\n",
    "regression_results = regression_results.sort_values(by=\"coef\", ascending=True)\n",
    "regression_results.insert(0, \"struct\", regression_results.index)\n",
    "new_index = []\n",
    "for item in regression_results.struct:\n",
    "    new_index.append(int(re.match(r\".+_(\\d+)$\", item)[1]))\n",
    "\n",
    "for i, row in regression_results.iterrows():\n",
    "    if row['p_fdr'] < 0.05:\n",
    "        regression_results.loc[i, 'coef_sig'] = row['coef']\n",
    "    else:\n",
    "        regression_results.loc[i, 'coef_sig'] = 0\n",
    "\n",
    "regression_results.index = new_index\n",
    "regression_results\n",
    "\n",
    "print(regression_results)"
   ]
  },
  {
   "cell_type": "markdown",
   "id": "930cdd86",
   "metadata": {},
   "source": [
    "### Overlay betas on label map"
   ]
  },
  {
   "cell_type": "code",
   "execution_count": 9,
   "id": "242083a2",
   "metadata": {},
   "outputs": [],
   "source": [
    "thomas_dir = Path(\"/mnt/h/srs-9/hips-thomas/sub1001-20170215\")\n",
    "thomL_file = thomas_dir / \"left/thomasfull_L.nii.gz\"\n",
    "thomL_img = nib.load(thomL_file)\n",
    "thomR_file = thomas_dir / \"right/thomasfull_R.nii.gz\"\n",
    "thomR_img = nib.load(thomR_file)\n",
    "thom = thomL_img.get_fdata() + thomR_img.get_fdata()"
   ]
  },
  {
   "cell_type": "code",
   "execution_count": 12,
   "id": "96397a13",
   "metadata": {},
   "outputs": [
    {
     "name": "stdout",
     "output_type": "stream",
     "text": [
      "0.0\n"
     ]
    }
   ],
   "source": [
    "beta_map = np.zeros_like(thom)\n",
    "for lab in np.unique(thom):\n",
    "    try:\n",
    "        beta_map[thom==lab] = regression_results.loc[lab, 'coef_sig']\n",
    "    except KeyError:\n",
    "        print(lab)\n",
    "        continue\n",
    "\n",
    "betamap_img = nib.Nifti1Image(beta_map, thomL_img.affine)\n",
    "nib.save(betamap_img, thomas_dir/\"betamap_sig.nii.gz\")"
   ]
  },
  {
   "cell_type": "markdown",
   "id": "b5954942",
   "metadata": {},
   "source": [
    "### Use normed volumes"
   ]
  },
  {
   "cell_type": "code",
   "execution_count": 52,
   "id": "de757dd2",
   "metadata": {},
   "outputs": [
    {
     "name": "stdout",
     "output_type": "stream",
     "text": [
      "      struct   coef      pvals      p_fdr  coef_sig\n",
      "8      Pul_8 -0.288  1.896e-10  4.739e-10    -0.288\n",
      "9      LGN_9 -0.145  1.059e-03  2.119e-03    -0.145\n",
      "2       AV_2 -0.125  1.297e-02  2.161e-02    -0.125\n",
      "12  MD_Pf_12 -0.102  1.933e-02  2.761e-02    -0.102\n",
      "11     CM_11  0.004  9.320e-01  9.320e-01     0.000\n",
      "10    MGN_10  0.081  9.291e-02  1.032e-01     0.000\n",
      "7      VPL_7  0.091  4.112e-02  5.140e-02     0.000\n",
      "6      VLP_6  0.304  5.362e-11  1.787e-10     0.304\n",
      "5      VLa_5  0.364  2.212e-15  1.106e-14     0.364\n",
      "4       VA_4  0.394  1.105e-17  1.105e-16     0.394\n"
     ]
    }
   ],
   "source": [
    "model_data = df_z.join(df_thomas_norm_z)\n",
    "covariates = \"age + Female + tiv\"\n",
    "model_data = model_data[model_data['dz_type5'].isin([\"RMS\", \"PMS\"])]\n",
    "\n",
    "pvals = {}\n",
    "coefs = {}\n",
    "\n",
    "structs = thalamic_nuclei\n",
    "for struct in structs:\n",
    "    formula = f\"choroid_volume ~ {struct} + {covariates}\"\n",
    "    res = sm.OLS.from_formula(formula, data=model_data).fit()\n",
    "    pvals[struct] = res.pvalues[struct]\n",
    "    coefs[struct] = res.params[struct]\n",
    "\n",
    "regression_results = pd.DataFrame({\"coef\": coefs, \"pvals\": pvals})\n",
    "regression_results['p_fdr'] = stats.false_discovery_control(regression_results['pvals'], method='bh')\n",
    "regression_results = regression_results.sort_values(by=\"coef\", ascending=True)\n",
    "regression_results.insert(0, \"struct\", regression_results.index)\n",
    "new_index = []\n",
    "for item in regression_results.struct:\n",
    "    new_index.append(int(re.match(r\".+_(\\d+)$\", item)[1]))\n",
    "\n",
    "for i, row in regression_results.iterrows():\n",
    "    if row['p_fdr'] < 0.05:\n",
    "        regression_results.loc[i, 'coef_sig'] = row['coef']\n",
    "    else:\n",
    "        regression_results.loc[i, 'coef_sig'] = 0\n",
    "\n",
    "regression_results.index = new_index\n",
    "regression_results\n",
    "\n",
    "print(regression_results)"
   ]
  },
  {
   "cell_type": "code",
   "execution_count": null,
   "id": "92e3bf21",
   "metadata": {},
   "outputs": [
    {
     "name": "stdout",
     "output_type": "stream",
     "text": [
      "0.0\n"
     ]
    }
   ],
   "source": [
    "beta_map = np.zeros_like(thom)\n",
    "for lab in np.unique(thom):\n",
    "    try:\n",
    "        beta_map[thom==lab] = regression_results.loc[lab, 'coef']\n",
    "    except KeyError:\n",
    "        print(lab)\n",
    "        continue\n",
    "\n",
    "betamap_img = nib.Nifti1Image(beta_map, thomL_img.affine)\n",
    "nib.save(betamap_img, thomas_dir/\"betamap_normed.nii.gz\")"
   ]
  },
  {
   "cell_type": "markdown",
   "id": "c2149c5d",
   "metadata": {},
   "source": [
    "### Control for thalamus volume"
   ]
  },
  {
   "cell_type": "code",
   "execution_count": 53,
   "id": "13f5778c",
   "metadata": {},
   "outputs": [
    {
     "name": "stdout",
     "output_type": "stream",
     "text": [
      "      struct   coef      pvals      p_fdr  coef_sig\n",
      "12  MD_Pf_12 -0.299  6.286e-03  1.257e-02    -0.299\n",
      "8      Pul_8 -0.290  2.077e-02  2.967e-02    -0.290\n",
      "11     CM_11 -0.176  9.481e-03  1.580e-02    -0.176\n",
      "10    MGN_10 -0.115  1.246e-01  1.385e-01     0.000\n",
      "9      LGN_9 -0.112  6.668e-02  8.335e-02     0.000\n",
      "2       AV_2  0.049  4.502e-01  4.502e-01     0.000\n",
      "5      VLa_5  0.245  1.032e-04  3.439e-04     0.245\n",
      "7      VPL_7  0.255  1.701e-03  4.251e-03     0.255\n",
      "4       VA_4  0.346  6.360e-07  6.360e-06     0.346\n",
      "6      VLP_6  0.440  2.109e-06  1.055e-05     0.440\n"
     ]
    }
   ],
   "source": [
    "model_data = df_z.join(df_thomas_z)\n",
    "model_data = model_data[model_data['dz_type5'].isin([\"RMS\", \"PMS\"])]\n",
    "covariates = \"age + Female + tiv + THALAMUS_1\"\n",
    "\n",
    "pvals = {}\n",
    "coefs = {}\n",
    "\n",
    "# structs = df_thomas_z.columns[~df_thomas_z.columns.isin([\"THALAMUS_1\"])]\n",
    "structs = thalamic_nuclei\n",
    "for struct in structs:\n",
    "    formula = f\"choroid_volume ~ {struct} + {covariates}\"\n",
    "    res = sm.OLS.from_formula(formula, data=model_data).fit()\n",
    "    pvals[struct] = res.pvalues[struct]\n",
    "    coefs[struct] = res.params[struct]\n",
    "\n",
    "regression_results = pd.DataFrame({\"coef\": coefs, \"pvals\": pvals})\n",
    "regression_results['p_fdr'] = stats.false_discovery_control(regression_results['pvals'], method='bh')\n",
    "regression_results = regression_results.sort_values(by=\"coef\", ascending=True)\n",
    "regression_results.insert(0, \"struct\", regression_results.index)\n",
    "new_index = []\n",
    "for item in regression_results.struct:\n",
    "    new_index.append(int(re.match(r\".+_(\\d+)$\", item)[1]))\n",
    "\n",
    "for i, row in regression_results.iterrows():\n",
    "    if row['p_fdr'] < 0.05:\n",
    "        regression_results.loc[i, 'coef_sig'] = row['coef']\n",
    "    else:\n",
    "        regression_results.loc[i, 'coef_sig'] = 0\n",
    "\n",
    "regression_results.index = new_index\n",
    "regression_results\n",
    "\n",
    "print(regression_results)"
   ]
  },
  {
   "cell_type": "code",
   "execution_count": null,
   "id": "35b0930a",
   "metadata": {},
   "outputs": [],
   "source": [
    "beta_map = np.zeros_like(thom)\n",
    "for lab in np.unique(thom):\n",
    "    try:\n",
    "        beta_map[thom==lab] = regression_results.loc[lab, 'coef']\n",
    "    except KeyError:\n",
    "        print(lab)\n",
    "        continue\n",
    "\n",
    "betamap_img = nib.Nifti1Image(beta_map, thomL_img.affine)\n",
    "nib.save(betamap_img, thomas_dir/\"betamap_thal_nuclei_control.nii.gz\")"
   ]
  },
  {
   "cell_type": "code",
   "execution_count": 39,
   "id": "d50d37c7",
   "metadata": {},
   "outputs": [
    {
     "data": {
      "text/plain": [
       "array([-0.2987549 , -0.29021505, -0.1760622 , -0.11484155, -0.11213292,\n",
       "        0.        ,  0.04924954,  0.244658  ,  0.25477455,  0.3461345 ,\n",
       "        0.43990578])"
      ]
     },
     "execution_count": 39,
     "metadata": {},
     "output_type": "execute_result"
    }
   ],
   "source": [
    "np.unique(beta_map)"
   ]
  },
  {
   "cell_type": "code",
   "execution_count": 72,
   "id": "1adad1ce",
   "metadata": {},
   "outputs": [
    {
     "name": "stdout",
     "output_type": "stream",
     "text": [
      "           coef      pvals      p_fdr\n",
      "CM_11    -0.101  2.903e-03  9.276e-03\n",
      "Cla_28   -0.082  2.275e-02  5.309e-02\n",
      "LGN_9    -0.073  6.239e-02  1.310e-01\n",
      "MD_Pf_12 -0.060  3.092e-03  9.276e-03\n",
      "Hb_13    -0.054  2.720e-01  3.569e-01\n",
      "Pul_8    -0.052  4.603e-03  1.208e-02\n",
      "MGN_10   -0.046  1.427e-01  2.306e-01\n",
      "Put_31   -0.036  3.358e-01  4.148e-01\n",
      "Acc_26   -0.032  4.013e-01  4.435e-01\n",
      "RN_32    -0.005  8.860e-01  8.860e-01\n",
      "GPe_29    0.020  6.432e-01  6.754e-01\n",
      "GP_33     0.036  3.856e-01  4.435e-01\n",
      "AV_2      0.042  2.543e-01  3.560e-01\n",
      "Amy_34    0.063  2.069e-01  3.104e-01\n",
      "Cau_27    0.071  1.004e-01  1.758e-01\n",
      "GPi_30    0.074  9.106e-02  1.738e-01\n",
      "VPL_7     0.098  4.088e-04  1.726e-03\n",
      "VLP_6     0.131  4.734e-08  4.970e-07\n",
      "VLa_5     0.159  9.261e-06  6.482e-05\n",
      "MTT_14    0.160  4.111e-04  1.726e-03\n",
      "VA_4      0.189  3.023e-09  6.348e-08\n"
     ]
    }
   ],
   "source": [
    "model_data = df_z.join(df_thomas_z)\n",
    "outcomes = df_thomas.columns[~df_thomas.columns.isin([\"THALAMUS_1\"])]\n",
    "covariates = \"age + Female + tiv + THALAMUS_1\"\n",
    "\n",
    "cols_orig2 = cols_orig[~cols_orig.isin([\"1-THALAMUS\"])]\n",
    "\n",
    "pvals = {}\n",
    "coefs = {}\n",
    "\n",
    "for outcome in outcomes:\n",
    "    formula = f\"{outcome} ~ choroid_volume + {covariates}\"\n",
    "    res = sm.OLS.from_formula(formula, data=model_data).fit()\n",
    "    pvals[outcome] = res.pvalues['choroid_volume']\n",
    "    coefs[outcome] = res.params['choroid_volume']\n",
    "\n",
    "regression_results = pd.DataFrame({\"coef\": coefs, \"pvals\": pvals})\n",
    "regression_results['p_fdr'] = stats.false_discovery_control(regression_results['pvals'], method='bh')\n",
    "regression_results = regression_results.sort_values(by=\"coef\", ascending=True)\n",
    "print(regression_results)"
   ]
  },
  {
   "cell_type": "markdown",
   "id": "86fb2c4f",
   "metadata": {},
   "source": [
    "### Estimate exposure of each substructure to CSF"
   ]
  },
  {
   "cell_type": "markdown",
   "id": "07879f92",
   "metadata": {},
   "source": [
    "Got aseg from fastsurfer. had to reregister it back to original space. extracted the ventricles only (label indices [here](https://surfer.nmr.mgh.harvard.edu/fswiki/FsTutorial/AnatomicalROI/FreeSurferColorLUT)). Then used c3d -sdt to get the signed distance transform, absed then binned to get below:"
   ]
  },
  {
   "cell_type": "code",
   "execution_count": 40,
   "id": "1cd022c0",
   "metadata": {},
   "outputs": [],
   "source": [
    "from sklearn.cluster import HDBSCAN\n",
    "from scipy import ndimage\n",
    "from scipy.spatial import distance"
   ]
  },
  {
   "cell_type": "code",
   "execution_count": 41,
   "id": "79f78a4a",
   "metadata": {},
   "outputs": [],
   "source": [
    "aseg_file = \"/mnt/h/srs-9/hips-thomas/sub1001-20170215/aseg-sdt-bin.nii.gz\"\n",
    "aseg = nib.load(aseg_file).get_fdata()\n",
    "ventricle_points = np.argwhere(aseg==0)"
   ]
  },
  {
   "cell_type": "code",
   "execution_count": 42,
   "id": "e551d8b4",
   "metadata": {},
   "outputs": [],
   "source": [
    "thomas_dir = Path(\"/mnt/h/srs-9/hips-thomas/sub1001-20170215\")\n",
    "thomL_file = thomas_dir / \"left/thomasfull_L.nii.gz\"\n",
    "thomL_img = nib.load(thomL_file)\n",
    "thomL = thomL_img.get_fdata()\n",
    "\n",
    "thomR_file = thomas_dir / \"right/thomasfull_R.nii.gz\"\n",
    "thomR_img = nib.load(thomR_file)\n",
    "thomR = thomR_img.get_fdata()\n",
    "thom = thomL_img.get_fdata() + thomR_img.get_fdata()"
   ]
  },
  {
   "cell_type": "code",
   "execution_count": 43,
   "id": "4ce028b4",
   "metadata": {},
   "outputs": [],
   "source": [
    "def exposure(centroid, point_set):\n",
    "    total = 0\n",
    "    for point in point_set:\n",
    "        total = total + 1 / (distance.euclidean(centroid, point))**2\n",
    "    return total"
   ]
  },
  {
   "cell_type": "code",
   "execution_count": 44,
   "id": "6792f75f",
   "metadata": {},
   "outputs": [],
   "source": [
    "df_exposure = df_structs.copy()\n",
    "for ind in np.unique(thomL):\n",
    "    struct_pts = thomL.copy()\n",
    "    struct_pts[thomL!=ind] = 0\n",
    "    struct_pts[thomL==ind] = 1\n",
    "\n",
    "    centroid = ndimage.center_of_mass(struct_pts)\n",
    "    df_exposure.loc[ind, 'exposure'] = exposure(centroid, ventricle_points)"
   ]
  },
  {
   "cell_type": "code",
   "execution_count": 84,
   "id": "e30d808e",
   "metadata": {},
   "outputs": [],
   "source": [
    "exposure_map = np.zeros_like(thom)\n",
    "for lab in np.unique(thom):\n",
    "    if lab == 0:\n",
    "        continue\n",
    "    try:\n",
    "        if df_exposure.loc[lab, 'exposure'] is None:\n",
    "            print(lab)\n",
    "            continue\n",
    "        exposure_map[thom==lab] = df_exposure.loc[lab, 'exposure']\n",
    "    except KeyError:\n",
    "        print(lab)\n",
    "        continue\n",
    "\n",
    "exposure_map_img = nib.Nifti1Image(exposure_map, thomL_img.affine)\n",
    "nib.save(exposure_map_img, thomas_dir/\"exposure_map.nii.gz\")"
   ]
  },
  {
   "cell_type": "code",
   "execution_count": 50,
   "id": "67c0256c",
   "metadata": {},
   "outputs": [],
   "source": [
    "df_exposure['coef'] = regression_results['coef']"
   ]
  },
  {
   "cell_type": "code",
   "execution_count": 51,
   "id": "c10f63a2",
   "metadata": {},
   "outputs": [
    {
     "data": {
      "text/plain": [
       "<matplotlib.collections.PathCollection at 0x7f03d4ee77a0>"
      ]
     },
     "execution_count": 51,
     "metadata": {},
     "output_type": "execute_result"
    },
    {
     "data": {
      "image/png": "[encoded data removed]",
      "text/plain": [
       "<Figure size 640x480 with 1 Axes>"
      ]
     },
     "metadata": {},
     "output_type": "display_data"
    }
   ],
   "source": [
    "plt.scatter(df_exposure[df_exposure.struct.isin(thalamic_nuclei)].exposure, df_exposure[df_exposure.struct.isin(thalamic_nuclei)].coef)"
   ]
  },
  {
   "cell_type": "code",
   "execution_count": null,
   "id": "b57ab988",
   "metadata": {},
   "outputs": [],
   "source": [
    "centroid_coords = [round(coord) for coord in centroid]\n",
    "test = thom.copy()\n",
    "test[*centroid_coords] = 60\n",
    "test_img = nib.Nifti1Image(test, thomL_img.affine)\n",
    "nib.save(test_img, thomas_dir/\"check.nii.gz\")"
   ]
  }
 ],
 "metadata": {
  "kernelspec": {
   "display_name": "monai",
   "language": "python",
   "name": "python3"
  },
  "language_info": {
   "codemirror_mode": {
    "name": "ipython",
    "version": 3
   },
   "file_extension": ".py",
   "mimetype": "text/x-python",
   "name": "python",
   "nbconvert_exporter": "python",
   "pygments_lexer": "ipython3",
   "version": "3.12.4"
  }
 },
 "nbformat": 4,
 "nbformat_minor": 5
}
