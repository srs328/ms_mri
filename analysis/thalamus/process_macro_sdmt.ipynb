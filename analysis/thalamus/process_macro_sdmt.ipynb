{
 "cells": [
  {
   "cell_type": "code",
   "execution_count": 1,
   "id": "b90848e9",
   "metadata": {},
   "outputs": [],
   "source": [
    "import pandas as pd\n",
    "from warnings import simplefilter\n",
    "simplefilter(action=\"ignore\", category=pd.errors.PerformanceWarning)\n",
    "from pathlib import Path\n",
    "import json\n",
    "import numpy as np\n",
    "from collections import defaultdict\n",
    "import matplotlib.pyplot as plt\n",
    "from datetime import datetime\n",
    "import re\n",
    "from scipy import stats\n",
    "import sys\n",
    "import numpy as np\n",
    "import statsmodels.api as sm\n",
    "from statsmodels.stats.diagnostic import het_breuschpagan\n",
    "from matplotlib import colormaps\n",
    "from tqdm.notebook import tqdm\n",
    "import helpers\n",
    "import statsmodels.formula.api as smf\n",
    "from statsmodels.stats.mediation import Mediation\n",
    "from pyprocessmacro import Process\n",
    "\n",
    "\n",
    "from mri_data import file_manager as fm"
   ]
  },
  {
   "cell_type": "markdown",
   "id": "7e1c9940",
   "metadata": {},
   "source": [
    "## Load Data"
   ]
  },
  {
   "cell_type": "code",
   "execution_count": 16,
   "id": "697c95c3",
   "metadata": {},
   "outputs": [
    {
     "name": "stderr",
     "output_type": "stream",
     "text": [
      "/tmp/ipykernel_221153/3054347294.py:20: PerformanceWarning: DataFrame is highly fragmented.  This is usually the result of calling `frame.insert` many times, which has poor performance.  Consider joining all columns at once using pd.concat(axis=1) instead. To get a de-fragmented frame, use `newframe = frame.copy()`\n",
      "  df['thalamus_sq'] = (df['thalamus']/df['thalamus'].mean())**2\n",
      "/tmp/ipykernel_221153/3054347294.py:24: PerformanceWarning: DataFrame is highly fragmented.  This is usually the result of calling `frame.insert` many times, which has poor performance.  Consider joining all columns at once using pd.concat(axis=1) instead. To get a de-fragmented frame, use `newframe = frame.copy()`\n",
      "  df['ventricle_logtrans'] = np.log(df['ventricle_volume'])\n",
      "/home/srs-9/Projects/ms_mri/analysis/thalamus/helpers.py:222: PerformanceWarning: DataFrame is highly fragmented.  This is usually the result of calling `frame.insert` many times, which has poor performance.  Consider joining all columns at once using pd.concat(axis=1) instead. To get a de-fragmented frame, use `newframe = frame.copy()`\n",
      "  df.loc[i, \"edss_mri_delta\"] = delta.days\n"
     ]
    }
   ],
   "source": [
    "drive_root = fm.get_drive_root()\n",
    "dataroot = drive_root / \"3Tpioneer_bids\"\n",
    "data_dir = Path(\"/home/srs-9/Projects/ms_mri/data\")\n",
    "fig_path = Path(\"/home/srs-9/Projects/ms_mri/analysis/thalamus/figures_tables/sdmt_regressions\")\n",
    "\n",
    "choroid_volumes = pd.read_csv(\n",
    "    \"/home/srs-9/Projects/ms_mri/data/choroid_aschoplex_volumes.csv\", index_col=\"subid\"\n",
    ").dropna()\n",
    "tiv = pd.read_csv(\"/home/srs-9/Projects/ms_mri/data/tiv_data.csv\", index_col=\"subid\")\n",
    "ventricle_volumes = pd.read_csv(\n",
    "    \"/home/srs-9/Projects/ms_mri/analysis/paper1/data0/ventricle_volumes.csv\",\n",
    "    index_col=\"subid\",\n",
    ")\n",
    "\n",
    "df = pd.read_csv(\n",
    "    \"/home/srs-9/Projects/ms_mri/data/clinical_data_processed.csv\", index_col=\"subid\"\n",
    ")\n",
    "sdmt = pd.read_csv(\"/home/srs-9/Projects/ms_mri/analysis/thalamus/SDMT_sheet.csv\", index_col=\"subid\")\n",
    "\n",
    "df['thalamus_sq'] = (df['thalamus']/df['thalamus'].mean())**2\n",
    "df = df.join([choroid_volumes, tiv, ventricle_volumes, sdmt['SDMT']])\n",
    "df['SDMT'] = pd.to_numeric(df['SDMT'], errors='coerce')\n",
    "\n",
    "df['ventricle_logtrans'] = np.log(df['ventricle_volume'])\n",
    "\n",
    "df = helpers.get_mri_edss_delta(df)\n",
    "\n",
    "df_z = df.copy()\n",
    "numeric_cols = df.select_dtypes(include='number').columns\n",
    "df_z[numeric_cols] = df_z[numeric_cols].apply(stats.zscore, nan_policy=\"omit\")\n",
    "\n",
    "df_ms = df[df['dz_type2'] == \"MS\"]\n",
    "df_ms_z = df_ms.copy()\n",
    "df_ms_z[numeric_cols] = df_ms_z[numeric_cols].apply(stats.zscore, nan_policy=\"omit\")\n",
    "\n",
    "viridis = colormaps['viridis'].resampled(20)\n",
    "\n",
    "colors = helpers.get_colors()"
   ]
  },
  {
   "cell_type": "code",
   "execution_count": 3,
   "id": "e9b76f72",
   "metadata": {},
   "outputs": [],
   "source": [
    "df_thomas = pd.read_csv(data_dir / \"hipsthomas_vols.csv\", index_col=\"subid\")\n",
    "cols_orig = df_thomas.columns\n",
    "new_colnames = {}\n",
    "for col in df_thomas.columns:\n",
    "    new_col = re.sub(r\"(\\d+)-([\\w-]+)\", r\"\\2_\\1\", col)\n",
    "    new_col = re.sub(\"-\", \"_\", new_col)\n",
    "    new_colnames[col] = new_col\n",
    "df_thomas = df_thomas.rename(columns=new_colnames)\n",
    "df_thomas['THALAMUS_1_sq'] = (df_thomas['THALAMUS_1']/df_thomas[\"THALAMUS_1\"].mean())**2\n",
    "df_thomas_norm = df_thomas.apply(lambda col: col / df_thomas['THALAMUS_1'])\n",
    "df_thomas_z = df_thomas.apply(stats.zscore, nan_policy=\"omit\")\n",
    "df_thomas_norm_z = df_thomas_norm.apply(stats.zscore, nan_policy=\"omit\")\n",
    "\n",
    "df_thomas_left = pd.read_csv(data_dir / \"hipsthomas_left_vols.csv\", index_col=\"subid\")\n",
    "df_thomas_left = df_thomas_left.rename(columns=new_colnames)\n",
    "df_thomas_left_z = df_thomas_left.apply(stats.zscore, nan_policy=\"omit\")\n",
    "\n",
    "df_thomas_right = pd.read_csv(data_dir / \"hipsthomas_right_vols.csv\", index_col=\"subid\")\n",
    "df_thomas_right = df_thomas_right.rename(columns=new_colnames)\n",
    "df_thomas_right_z = df_thomas_right.apply(stats.zscore, nan_policy=\"omit\")\n",
    "\n",
    "thalamic_nuclei = [2, 4, 5, 6, 7, 8, 9, 10, 11, 12]\n",
    "thalamic_nuclei_str = [str(i) for i in thalamic_nuclei]\n",
    "\n",
    "hips_thomas_ref = pd.read_csv(\n",
    "    \"/home/srs-9/Projects/ms_mri/data/hipsthomas_struct_index.csv\", index_col=\"index\"\n",
    ")['struct']\n",
    "# hips_thomas_ref.rename(columns={\"struct\": \"struct_name\"}, inplace=True)\n",
    "\n",
    "def combine_nuclei2(df):\n",
    "    df2 = pd.DataFrame()\n",
    "    df2[\"anterior\"] = df[\"AV_2\"]\n",
    "    df2[\"ventral\"] = df[\"VA_4\"] + df[\"VLa_5\"] + df[\"VLP_6\"] + df[\"VPL_7\"]\n",
    "    df2[\"medial\"] = df[\"MD_Pf_12\"] + df[\"CM_11\"]\n",
    "    df2[\"posterior\"] = df[\"Pul_8\"] + df[\"LGN_9\"] + df[\"MGN_10\"]\n",
    "    df2[\"THALAMUS_1\"] = df[\"THALAMUS_1\"]\n",
    "    return df2\n",
    "\n",
    "df_thomas2 = combine_nuclei2(df_thomas)\n",
    "grouped_nuclei = df_thomas2.columns[~df_thomas2.columns.isin([\"THALAMUS_1\"])]\n",
    "df_thomas2_z = df_thomas2.apply(stats.zscore, nan_policy=\"omit\")\n",
    "df_thomas2_norm = df_thomas2.apply(lambda col: col / df_thomas[\"THALAMUS_1\"])\n",
    "df_thomas2_norm_z = df_thomas2_norm.apply(stats.zscore, nan_policy=\"omit\")"
   ]
  },
  {
   "cell_type": "markdown",
   "id": "c3ab35a6",
   "metadata": {},
   "source": [
    "## Functions"
   ]
  },
  {
   "cell_type": "code",
   "execution_count": 4,
   "id": "ecea9a50",
   "metadata": {},
   "outputs": [],
   "source": [
    "def plot_moderation(model_data, y_name, x_name, w_name, covariates,\n",
    "                    xlab_name=None, ylab_name=None, wlab_name=None):\n",
    "    if xlab_name is None:\n",
    "        xlab_name = x_name\n",
    "    if ylab_name is None:\n",
    "        ylab_name = y_name\n",
    "    if wlab_name is None:\n",
    "        wlab_name = w_name\n",
    "\n",
    "    if len(covariates) > 0:\n",
    "        plus_covariates = f\"+ {covariates}\"\n",
    "    else:\n",
    "        plus_covariates = \"\"\n",
    "\n",
    "    xcent_name = f\"{x_name}_cent\"\n",
    "    wcent_name = f\"{y_name}_cent\"\n",
    "    model_data[xcent_name] = model_data[x_name] - model_data[x_name].mean()\n",
    "    model_data[wcent_name] = model_data[w_name] - model_data[w_name].mean()\n",
    "\n",
    "    formula = f\"{y_name} ~ {wcent_name}*{xcent_name} {plus_covariates}\"\n",
    "    res = sm.OLS.from_formula(formula, data=model_data).fit()\n",
    "\n",
    "    x_rng, y_lvls = helpers.moderation_y(model_data, res, xcent_name, wcent_name)\n",
    "    # fix x_rng since the moderation_y took the centered version\n",
    "    x_rng = np.linspace(model_data[x_name].min(), model_data[x_name].max(), 100)\n",
    "    # x_rng = np.linspace(0, 20, 100)\n",
    "\n",
    "\n",
    "    cmap = model_data[w_name] / model_data[w_name].max()\n",
    "    # helpers.plot_moderation(model_data['dzdur'], model_data['EDSS'], x_rng, y_lvls)\n",
    "    plt.scatter(model_data[x_name], model_data[y_name], s=8, color=viridis(cmap))\n",
    "\n",
    "    # m-sd line\n",
    "    plt.plot(x_rng, y_lvls[0][0], label=\"m-sd\", linestyle=\"--\", color=colors['dark blue1'])\n",
    "    # plt.fill_between(x_rng, y_lvls[0][1], y_lvls[0][2], color=colors['light blue1'], alpha=0.1)\n",
    "\n",
    "    plt.plot(x_rng, y_lvls[1][0], label=f\"m ({wlab_name})\", linestyle=\"-\", color=\"black\")\n",
    "    plt.fill_between(x_rng, y_lvls[1][1], y_lvls[1][2], color='grey', alpha=0.2)\n",
    "\n",
    "    plt.plot(x_rng, y_lvls[2][0], label=\"m+sd\", linestyle=\"--\", color=colors['dark red1'])\n",
    "    # plt.fill_between(x_rng, y_lvls[2][1], y_lvls[2][2], color=colors['light red1'], alpha=0.1)\n",
    "\n",
    "    plt.legend()\n",
    "    plt.xlabel(xlab_name)\n",
    "    plt.ylabel(ylab_name)\n",
    "    plt.show()"
   ]
  },
  {
   "cell_type": "markdown",
   "id": "ef524499",
   "metadata": {},
   "source": [
    "## Assumption Checks"
   ]
  },
  {
   "cell_type": "code",
   "execution_count": 6,
   "id": "8e675069",
   "metadata": {},
   "outputs": [
    {
     "data": {
      "text/plain": [
       "(14.526102083270017,\n",
       " 0.005792118604547826,\n",
       " 3.7078127845128024,\n",
       " 0.005533295524941609)"
      ]
     },
     "execution_count": 6,
     "metadata": {},
     "output_type": "execute_result"
    },
    {
     "data": {
      "image/png": "[encoded data removed]",
      "text/plain": [
       "<Figure size 640x480 with 1 Axes>"
      ]
     },
     "metadata": {},
     "output_type": "display_data"
    }
   ],
   "source": [
    "model_data = df_z.copy()\n",
    "model_data = model_data[model_data['dz_type2'] == \"MS\"]\n",
    "# model_data = model_data[model_data['t2lv'] < 4]\n",
    "\n",
    "formula = \"thalamus ~ choroid_volume + age + Female + tiv\"\n",
    "res = sm.OLS.from_formula(formula, data=model_data).fit()\n",
    "\n",
    "pred = res.predict(model_data)\n",
    "plt.scatter(res.fittedvalues, res.resid)\n",
    "het_breuschpagan(res.resid, res.model.exog)"
   ]
  },
  {
   "cell_type": "markdown",
   "id": "22219b78",
   "metadata": {},
   "source": [
    "## Mediation"
   ]
  },
  {
   "cell_type": "markdown",
   "id": "3f225373",
   "metadata": {},
   "source": [
    "The effect of thalamus on SDMT is no longer significant when controlling for cortical thickness and t2lv. Both cortical thickness and t2lv are significant, suggesting potential parallel mediation by the two"
   ]
  },
  {
   "cell_type": "code",
   "execution_count": 8,
   "id": "ec6a31c8",
   "metadata": {},
   "outputs": [
    {
     "name": "stdout",
     "output_type": "stream",
     "text": [
      "                            OLS Regression Results                            \n",
      "==============================================================================\n",
      "Dep. Variable:                   SDMT   R-squared:                       0.288\n",
      "Model:                            OLS   Adj. R-squared:                  0.279\n",
      "Method:                 Least Squares   F-statistic:                     31.15\n",
      "Date:                Wed, 11 Jun 2025   Prob (F-statistic):           1.96e-31\n",
      "Time:                        16:41:18   Log-Likelihood:                -577.32\n",
      "No. Observations:                 468   AIC:                             1169.\n",
      "Df Residuals:                     461   BIC:                             1198.\n",
      "Df Model:                           6                                         \n",
      "Covariance Type:            nonrobust                                         \n",
      "======================================================================================\n",
      "                         coef    std err          t      P>|t|      [0.025      0.975]\n",
      "--------------------------------------------------------------------------------------\n",
      "Intercept              0.0101      0.039      0.259      0.796      -0.067       0.087\n",
      "t2lv_logtrans         -0.1598      0.049     -3.271      0.001      -0.256      -0.064\n",
      "THALAMUS_1             0.1169      0.062      1.873      0.062      -0.006       0.239\n",
      "cortical_thickness     0.2072      0.058      3.563      0.000       0.093       0.321\n",
      "age                   -0.1616      0.044     -3.649      0.000      -0.249      -0.075\n",
      "Female                 0.0841      0.047      1.786      0.075      -0.008       0.177\n",
      "tiv                    0.0732      0.053      1.373      0.170      -0.032       0.178\n",
      "==============================================================================\n",
      "Omnibus:                       10.838   Durbin-Watson:                   2.025\n",
      "Prob(Omnibus):                  0.004   Jarque-Bera (JB):               13.930\n",
      "Skew:                          -0.231   Prob(JB):                     0.000944\n",
      "Kurtosis:                       3.707   Cond. No.                         3.29\n",
      "==============================================================================\n",
      "\n",
      "Notes:\n",
      "[1] Standard Errors assume that the covariance matrix of the errors is correctly specified.\n"
     ]
    }
   ],
   "source": [
    "model_data = df_ms_z.join([df_thomas_z])\n",
    "model_data.loc[model_data['SDMT'].isna(), 'SDMT'] = model_data['SDMT'].mean()\n",
    "\n",
    "formula = \"SDMT ~ t2lv_logtrans + THALAMUS_1 + cortical_thickness + age + Female + tiv\"\n",
    "res = sm.OLS.from_formula(formula, data=model_data).fit()\n",
    "print(res.summary())"
   ]
  },
  {
   "cell_type": "code",
   "execution_count": 18,
   "id": "a9596a00",
   "metadata": {},
   "outputs": [
    {
     "name": "stderr",
     "output_type": "stream",
     "text": [
      "/home/srs-9/.virtualenvs/monai/lib/python3.12/site-packages/pyprocessmacro/models.py:1567: DeprecationWarning: `product` is deprecated as of NumPy 1.25.0, and will be removed in NumPy 2.0. Please use `prod` instead.\n",
      "  grad = eval_expression(\n"
     ]
    },
    {
     "name": "stdout",
     "output_type": "stream",
     "text": [
      "Process successfully initialized.\n",
      "Based on the Process Macro by Andrew F. Hayes, Ph.D. (www.afhayes.com)\n",
      "\n",
      "\n",
      "****************************** SPECIFICATION ****************************\n",
      "\n",
      "Model = 4\n",
      "\n",
      "Variables:\n",
      "    Cons = Cons\n",
      "    x = choroid_volume\n",
      "    y = SDMT\n",
      "    m1 = ventricle_logtrans\n",
      "    m2 = t2lv_logtrans\n",
      "    m3 = cortical_thickness\n",
      "    m4 = THALAMUS_1\n",
      "Statistical Controls:\n",
      " age, Female, tiv\n",
      "\n",
      "\n",
      "\n",
      "Sample size:\n",
      "468\n",
      "\n",
      "Bootstrapping information for indirect effects:\n",
      "Final number of bootstrap samples: 5000\n",
      "Number of samples discarded due to convergence issues: 0\n",
      "\n",
      "***************************** OUTCOME MODELS ****************************\n",
      "\n",
      "Outcome = SDMT \n",
      "OLS Regression Summary\n",
      "\n",
      "     R²  Adj. R²    MSE       F  df1  df2  p-value\n",
      " 0.2930   0.2791 0.7008 23.7270    8  458   0.0000\n",
      "\n",
      "Coefficients\n",
      "\n",
      "                     coeff     se       t      p    LLCI    ULCI\n",
      "Cons                0.0070 0.0392  0.1795 0.8576 -0.0698  0.0838\n",
      "choroid_volume      0.0633 0.0566  1.1178 0.2643 -0.0477  0.1742\n",
      "age                -0.1609 0.0457 -3.5210 0.0005 -0.2505 -0.0713\n",
      "Female              0.0983 0.0480  2.0459 0.0413  0.0041  0.1924\n",
      "tiv                 0.0955 0.0596  1.6029 0.1097 -0.0213  0.2122\n",
      "ventricle_logtrans -0.0816 0.0674 -1.2102 0.2268 -0.2138  0.0506\n",
      "t2lv_logtrans      -0.1583 0.0494 -3.2056 0.0014 -0.2551 -0.0615\n",
      "cortical_thickness  0.1989 0.0588  3.3808 0.0008  0.0836  0.3142\n",
      "THALAMUS_1          0.1020 0.0682  1.4965 0.1352 -0.0316  0.2357\n",
      "\n",
      "-------------------------------------------------------------------------\n",
      "\n",
      "Outcome = ventricle_logtrans \n",
      "OLS Regression Summary\n",
      "\n",
      "     R²  Adj. R²    MSE        F  df1  df2  p-value\n",
      " 0.5545   0.5496 0.4504 143.7344    4  462   0.0000\n",
      "\n",
      "Coefficients\n",
      "\n",
      "                coeff     se       t      p    LLCI   ULCI\n",
      "Cons           0.0017 0.0311  0.0537 0.9572 -0.0592 0.0625\n",
      "choroid_volume 0.6148 0.0349 17.6040 0.0000  0.5464 0.6833\n",
      "age            0.2043 0.0340  6.0004 0.0000  0.1376 0.2710\n",
      "Female         0.0580 0.0378  1.5335 0.1258 -0.0161 0.1321\n",
      "tiv            0.1853 0.0367  5.0521 0.0000  0.1134 0.2572\n",
      "\n",
      "-------------------------------------------------------------------------\n",
      "\n",
      "Outcome = t2lv_logtrans \n",
      "OLS Regression Summary\n",
      "\n",
      "     R²  Adj. R²    MSE       F  df1  df2  p-value\n",
      " 0.1932   0.1844 0.8149 27.6578    4  462   0.0000\n",
      "\n",
      "Coefficients\n",
      "\n",
      "                 coeff     se       t      p    LLCI   ULCI\n",
      "Cons           -0.0016 0.0418 -0.0391 0.9688 -0.0835 0.0802\n",
      "choroid_volume  0.3447 0.0470  7.3371 0.0000  0.2526 0.4368\n",
      "age             0.1819 0.0458  3.9708 0.0001  0.0921 0.2716\n",
      "Female          0.0669 0.0509  1.3150 0.1891 -0.0328 0.1666\n",
      "tiv             0.0480 0.0493  0.9722 0.3315 -0.0487 0.1447\n",
      "\n",
      "-------------------------------------------------------------------------\n",
      "\n",
      "Outcome = cortical_thickness \n",
      "OLS Regression Summary\n",
      "\n",
      "     R²  Adj. R²    MSE       F  df1  df2  p-value\n",
      " 0.3292   0.3219 0.6784 56.6855    4  462   0.0000\n",
      "\n",
      "Coefficients\n",
      "\n",
      "                 coeff     se       t      p    LLCI    ULCI\n",
      "Cons            0.0006 0.0381  0.0167 0.9867 -0.0741  0.0753\n",
      "choroid_volume -0.3248 0.0429 -7.5767 0.0000 -0.4088 -0.2408\n",
      "age            -0.3263 0.0418 -7.8090 0.0000 -0.4082 -0.2444\n",
      "Female          0.0819 0.0464  1.7645 0.0783 -0.0091  0.1728\n",
      "tiv             0.1956 0.0450  4.3448 0.0000  0.1073  0.2838\n",
      "\n",
      "-------------------------------------------------------------------------\n",
      "\n",
      "Outcome = THALAMUS_1 \n",
      "OLS Regression Summary\n",
      "\n",
      "     R²  Adj. R²    MSE       F  df1  df2  p-value\n",
      " 0.4355   0.4294 0.5806 89.1060    4  462   0.0000\n",
      "\n",
      "Coefficients\n",
      "\n",
      "                 coeff     se        t      p    LLCI    ULCI\n",
      "Cons           -0.0859 0.0353  -2.4367 0.0152 -0.1550 -0.0168\n",
      "choroid_volume -0.4258 0.0397 -10.7383 0.0000 -0.5035 -0.3481\n",
      "age            -0.1741 0.0387  -4.5039 0.0000 -0.2499 -0.0983\n",
      "Female          0.0723 0.0429   1.6849 0.0927 -0.0118  0.1565\n",
      "tiv             0.4929 0.0416  11.8378 0.0000  0.4113  0.5745\n",
      "\n",
      "-------------------------------------------------------------------------\n",
      "\n",
      "\n",
      "********************** DIRECT AND INDIRECT EFFECTS **********************\n",
      "\n",
      "Direct effect of choroid_volume on SDMT:\n",
      "\n",
      "  Effect     SE      t      p    LLCI   ULCI\n",
      "  0.0633 0.0566 1.1178 0.2643 -0.0477 0.1742\n",
      "\n",
      "Indirect effect of choroid_volume on SDMT:\n",
      "\n",
      "                      Effect  Boot SE  BootLLCI  BootULCI\n",
      "  ventricle_logtrans -0.0502   0.0433   -0.1320    0.0385\n",
      "       t2lv_logtrans -0.0546   0.0210   -0.1051   -0.0204\n",
      "  cortical_thickness -0.0646   0.0222   -0.1130   -0.0261\n",
      "          THALAMUS_1 -0.0434   0.0333   -0.1130    0.0164\n",
      "\n",
      "\n"
     ]
    },
    {
     "name": "stderr",
     "output_type": "stream",
     "text": [
      "/home/srs-9/.virtualenvs/monai/lib/python3.12/site-packages/pyprocessmacro/models.py:738: DeprecationWarning: `product` is deprecated as of NumPy 1.25.0, and will be removed in NumPy 2.0. Please use `prod` instead.\n",
      "  expr_x_to_m = eval_expression(der_x_to_m, mod_dict)\n",
      "/home/srs-9/.virtualenvs/monai/lib/python3.12/site-packages/pyprocessmacro/models.py:739: DeprecationWarning: `product` is deprecated as of NumPy 1.25.0, and will be removed in NumPy 2.0. Please use `prod` instead.\n",
      "  expr_m_to_y = eval_expression(der_m_to_y, mod_dict)\n",
      "/home/srs-9/.virtualenvs/monai/lib/python3.12/site-packages/pyprocessmacro/models.py:752: DeprecationWarning: the `interpolation=` argument to percentile was renamed to `method=`, which has additional options.\n",
      "Users of the modes 'nearest', 'lower', 'higher', or 'midpoint' are encouraged to review the method they used. (Deprecated NumPy 1.22)\n",
      "  llci, ulci = bias_corrected_ci(e, be, conf)\n",
      "/home/srs-9/.virtualenvs/monai/lib/python3.12/site-packages/pyprocessmacro/models.py:827: DeprecationWarning: the `interpolation=` argument to percentile was renamed to `method=`, which has additional options.\n",
      "Users of the modes 'nearest', 'lower', 'higher', or 'midpoint' are encouraged to review the method they used. (Deprecated NumPy 1.22)\n",
      "  ci = bias_corrected_ci(e[i], be[i], conf)\n",
      "/home/srs-9/.virtualenvs/monai/lib/python3.12/site-packages/pyprocessmacro/models.py:1222: FutureWarning: errors='ignore' is deprecated and will raise in a future version. Use to_numeric without passing `errors` and catch exceptions explicitly instead\n",
      "  return df.apply(pd.to_numeric, args=[\"ignore\"])\n"
     ]
    }
   ],
   "source": [
    "model_data = df_ms_z.join([df_thomas2_z])\n",
    "model_data.loc[model_data['SDMT'].isna(), 'SDMT'] = model_data['SDMT'].mean()\n",
    "\n",
    "p2 = Process(data=model_data, model=4, x=\"choroid_volume\", y=\"SDMT\",\n",
    "            m=[\"ventricle_logtrans\", \"t2lv_logtrans\", \"cortical_thickness\", \"THALAMUS_1\"],\n",
    "            controls=[\"age\", \"Female\", \"tiv\"],\n",
    "            controls_in=\"all\")\n",
    "p2.summary()"
   ]
  },
  {
   "cell_type": "code",
   "execution_count": 12,
   "id": "ff30ef51",
   "metadata": {},
   "outputs": [
    {
     "data": {
      "application/vnd.microsoft.datawrangler.viewer.v0+json": {
       "columns": [
        {
         "name": "subid",
         "rawType": "int64",
         "type": "integer"
        },
        {
         "name": "brain",
         "rawType": "float64",
         "type": "float"
        }
       ],
       "ref": "91d0e88b-1d98-44e4-afa4-832cd87ab57d",
       "rows": [
        [
         "1001",
         "0.5174055772737086"
        ],
        [
         "1002",
         "3.3388607213436403"
        ],
        [
         "1003",
         "-1.0176998030352564"
        ],
        [
         "1004",
         "0.21627874350199028"
        ],
        [
         "1005",
         "-0.904844080500105"
        ],
        [
         "1007",
         "-0.7947485751198154"
        ],
        [
         "1010",
         "-0.591389176454696"
        ],
        [
         "1011",
         "0.8713890420138988"
        ],
        [
         "1012",
         "-1.079593065315591"
        ],
        [
         "1013",
         "0.9442500561989965"
        ],
        [
         "1015",
         "1.0334216280069022"
        ],
        [
         "1016",
         "-1.7822686986777958"
        ],
        [
         "1017",
         "-1.8053599261937592"
        ],
        [
         "1019",
         "-1.412640691770648"
        ],
        [
         "1020",
         "2.148407713289568"
        ],
        [
         "1021",
         "-0.15710748211634218"
        ],
        [
         "1022",
         "-0.5232114615833684"
        ],
        [
         "1023",
         "0.8877502405473682"
        ],
        [
         "1024",
         "1.2837192168500338"
        ],
        [
         "1026",
         "-0.17052632016636868"
        ],
        [
         "1030",
         "1.3323999486511429"
        ],
        [
         "1031",
         "-0.16984063073507627"
        ],
        [
         "1033",
         "0.824544878267011"
        ],
        [
         "1036",
         "0.43127720730842767"
        ],
        [
         "1037",
         "-2.453277734949767"
        ],
        [
         "1038",
         "-1.0460764538409018"
        ],
        [
         "1039",
         "0.8734418402720602"
        ],
        [
         "1042",
         "0.13544682061487182"
        ],
        [
         "1044",
         "1.2454470213309214"
        ],
        [
         "1045",
         "-0.68658793426059"
        ],
        [
         "1046",
         "0.4853492078976809"
        ],
        [
         "1047",
         "-0.047256469927095104"
        ],
        [
         "1049",
         "-1.1909420158213626"
        ],
        [
         "1050",
         "-0.02320138890546293"
        ],
        [
         "1052",
         "-0.06872034890375973"
        ],
        [
         "1053",
         "-0.11274485757744836"
        ],
        [
         "1054",
         "0.5973697775164889"
        ],
        [
         "1057",
         "-0.13579273627812552"
        ],
        [
         "1058",
         "0.3092826784807616"
        ],
        [
         "1061",
         "-0.2043075637397912"
        ],
        [
         "1062",
         "-0.14788798560739705"
        ],
        [
         "1063",
         "0.574023473483146"
        ],
        [
         "1065",
         "-0.7305381027136542"
        ],
        [
         "1066",
         "-0.5611501293845307"
        ],
        [
         "1068",
         "-1.4880716801727387"
        ],
        [
         "1069",
         "0.327495800067944"
        ],
        [
         "1070",
         "1.7224325720364546"
        ],
        [
         "1071",
         "-0.10536638268433147"
        ],
        [
         "1072",
         "-0.035052377509823165"
        ],
        [
         "1074",
         "0.8736339429389541"
        ]
       ],
       "shape": {
        "columns": 1,
        "rows": 468
       }
      },
      "text/plain": [
       "subid\n",
       "1001    0.517406\n",
       "1002    3.338861\n",
       "1003   -1.017700\n",
       "1004    0.216279\n",
       "1005   -0.904844\n",
       "          ...   \n",
       "3016   -0.677059\n",
       "3017    0.898435\n",
       "3021   -1.139559\n",
       "3023    0.242144\n",
       "3028    0.707947\n",
       "Name: brain, Length: 468, dtype: float64"
      ]
     },
     "execution_count": 12,
     "metadata": {},
     "output_type": "execute_result"
    }
   ],
   "source": [
    "model_data['brain']"
   ]
  },
  {
   "cell_type": "markdown",
   "id": "e0a68754",
   "metadata": {},
   "source": [
    "The direct effect of thalamus is significant when including either cortical thickness or t2lv as mediators, but not both. Wallerian degeneration of the thalamus may reflect demyelinating plaques and cortical thinning, which independently contribute to deficits in cognitive processing. "
   ]
  },
  {
   "cell_type": "code",
   "execution_count": null,
   "id": "e156b7bb",
   "metadata": {},
   "outputs": [],
   "source": [
    "p2 = Process(data=model_data, model=4, x=\"THALAMUS_1\", y=\"SDMT\",\n",
    "            m=[\"cortical_thickness\", \"t2lv_logtrans\"],\n",
    "            controls=[\"age\", \"Female\", \"tiv\"],\n",
    "            controls_in=\"all\")\n",
    "\n",
    "original_stdout = sys.stdout\n",
    "with open(fig_path / \"thalamus_model4_out.txt\", 'w') as f:\n",
    "    sys.stdout = f\n",
    "    p2.summary()\n",
    "\n",
    "sys.stdout = original_stdout\n",
    "\n",
    "# p2.summary()"
   ]
  },
  {
   "cell_type": "markdown",
   "id": "d3137a96",
   "metadata": {},
   "source": [
    "The effect of choroid volume on SDMT is also mediated by both t2lv and cortical thickness. "
   ]
  },
  {
   "cell_type": "code",
   "execution_count": 10,
   "id": "ee549027",
   "metadata": {},
   "outputs": [
    {
     "ename": "AttributeError",
     "evalue": "module 'numpy' has no attribute 'product'",
     "output_type": "error",
     "traceback": [
      "\u001b[31m---------------------------------------------------------------------------\u001b[39m",
      "\u001b[31mAttributeError\u001b[39m                            Traceback (most recent call last)",
      "\u001b[36mCell\u001b[39m\u001b[36m \u001b[39m\u001b[32mIn[10]\u001b[39m\u001b[32m, line 1\u001b[39m\n\u001b[32m----> \u001b[39m\u001b[32m1\u001b[39m p2 = \u001b[43mProcess\u001b[49m\u001b[43m(\u001b[49m\u001b[43mdata\u001b[49m\u001b[43m=\u001b[49m\u001b[43mmodel_data\u001b[49m\u001b[43m,\u001b[49m\u001b[43m \u001b[49m\u001b[43mmodel\u001b[49m\u001b[43m=\u001b[49m\u001b[32;43m4\u001b[39;49m\u001b[43m,\u001b[49m\u001b[43m \u001b[49m\u001b[43mx\u001b[49m\u001b[43m=\u001b[49m\u001b[33;43m\"\u001b[39;49m\u001b[33;43mchoroid_volume\u001b[39;49m\u001b[33;43m\"\u001b[39;49m\u001b[43m,\u001b[49m\u001b[43m \u001b[49m\u001b[43my\u001b[49m\u001b[43m=\u001b[49m\u001b[33;43m\"\u001b[39;49m\u001b[33;43mSDMT\u001b[39;49m\u001b[33;43m\"\u001b[39;49m\u001b[43m,\u001b[49m\n\u001b[32m      2\u001b[39m \u001b[43m            \u001b[49m\u001b[43mm\u001b[49m\u001b[43m=\u001b[49m\u001b[43m[\u001b[49m\u001b[33;43m\"\u001b[39;49m\u001b[33;43mt2lv_logtrans\u001b[39;49m\u001b[33;43m\"\u001b[39;49m\u001b[43m,\u001b[49m\u001b[43m \u001b[49m\u001b[33;43m\"\u001b[39;49m\u001b[33;43mcortical_thickness\u001b[39;49m\u001b[33;43m\"\u001b[39;49m\u001b[43m,\u001b[49m\u001b[43m \u001b[49m\u001b[33;43m\"\u001b[39;49m\u001b[33;43mTHALAMUS_1\u001b[39;49m\u001b[33;43m\"\u001b[39;49m\u001b[43m]\u001b[49m\u001b[43m,\u001b[49m\n\u001b[32m      3\u001b[39m \u001b[43m            \u001b[49m\u001b[43mcontrols\u001b[49m\u001b[43m=\u001b[49m\u001b[43m[\u001b[49m\u001b[33;43m\"\u001b[39;49m\u001b[33;43mage\u001b[39;49m\u001b[33;43m\"\u001b[39;49m\u001b[43m,\u001b[49m\u001b[43m \u001b[49m\u001b[33;43m\"\u001b[39;49m\u001b[33;43mFemale\u001b[39;49m\u001b[33;43m\"\u001b[39;49m\u001b[43m,\u001b[49m\u001b[43m \u001b[49m\u001b[33;43m\"\u001b[39;49m\u001b[33;43mtiv\u001b[39;49m\u001b[33;43m\"\u001b[39;49m\u001b[43m]\u001b[49m\u001b[43m,\u001b[49m\n\u001b[32m      4\u001b[39m \u001b[43m            \u001b[49m\u001b[43mcontrols_in\u001b[49m\u001b[43m=\u001b[49m\u001b[33;43m\"\u001b[39;49m\u001b[33;43mall\u001b[39;49m\u001b[33;43m\"\u001b[39;49m\u001b[43m)\u001b[49m\n\u001b[32m      6\u001b[39m original_stdout = sys.stdout\n\u001b[32m      7\u001b[39m \u001b[38;5;28;01mwith\u001b[39;00m \u001b[38;5;28mopen\u001b[39m(fig_path / \u001b[33m\"\u001b[39m\u001b[33mchoroid_model4_out.txt\u001b[39m\u001b[33m\"\u001b[39m, \u001b[33m'\u001b[39m\u001b[33mw\u001b[39m\u001b[33m'\u001b[39m) \u001b[38;5;28;01mas\u001b[39;00m f:\n",
      "\u001b[36mFile \u001b[39m\u001b[32m~/.virtualenvs/monai/lib/python3.12/site-packages/pyprocessmacro/process.py:768\u001b[39m, in \u001b[36mProcess.__init__\u001b[39m\u001b[34m(self, data, model, modval, cluster, boot, seed, mc, conf, effsize, jn, hc3, controls, controls_in, total, contrast, center, quantile, detail, percent, logit, iterate, convergence, precision, suppr_init, **kwargs)\u001b[39m\n\u001b[32m    765\u001b[39m \u001b[38;5;28mself\u001b[39m._spotlight_values = \u001b[38;5;28mself\u001b[39m._gen_spotlight_values(modval_symb)\n\u001b[32m    767\u001b[39m \u001b[38;5;66;03m# Generate the direct model.\u001b[39;00m\n\u001b[32m--> \u001b[39m\u001b[32m768\u001b[39m \u001b[38;5;28mself\u001b[39m.direct_model = \u001b[38;5;28;43mself\u001b[39;49m\u001b[43m.\u001b[49m\u001b[43m_gen_direct_effect_model\u001b[49m\u001b[43m(\u001b[49m\u001b[43m)\u001b[49m\n\u001b[32m    770\u001b[39m \u001b[38;5;66;03m# Generate the indirect model (if there is one).\u001b[39;00m\n\u001b[32m    771\u001b[39m \u001b[38;5;28;01mif\u001b[39;00m \u001b[38;5;28mself\u001b[39m.has_mediation:\n",
      "\u001b[36mFile \u001b[39m\u001b[32m~/.virtualenvs/monai/lib/python3.12/site-packages/pyprocessmacro/process.py:1138\u001b[39m, in \u001b[36mProcess._gen_direct_effect_model\u001b[39m\u001b[34m(self)\u001b[39m\n\u001b[32m   1136\u001b[39m mod_names = \u001b[38;5;28mself\u001b[39m._moderators[\u001b[33m\"\u001b[39m\u001b[33mx_direct\u001b[39m\u001b[33m\"\u001b[39m]\n\u001b[32m   1137\u001b[39m model_iv = \u001b[38;5;28mself\u001b[39m.outcome_models[\u001b[38;5;28mself\u001b[39m.iv]\n\u001b[32m-> \u001b[39m\u001b[32m1138\u001b[39m dem = \u001b[43mDirectEffectModel\u001b[49m\u001b[43m(\u001b[49m\n\u001b[32m   1139\u001b[39m \u001b[43m    \u001b[49m\u001b[43mmodel_iv\u001b[49m\u001b[43m,\u001b[49m\n\u001b[32m   1140\u001b[39m \u001b[43m    \u001b[49m\u001b[43mmod_names\u001b[49m\u001b[43m,\u001b[49m\n\u001b[32m   1141\u001b[39m \u001b[43m    \u001b[49m\u001b[38;5;28;43mself\u001b[39;49m\u001b[43m.\u001b[49m\u001b[43m_spotlight_values\u001b[49m\u001b[43m,\u001b[49m\n\u001b[32m   1142\u001b[39m \u001b[43m    \u001b[49m\u001b[38;5;28;43mself\u001b[39;49m\u001b[43m.\u001b[49m\u001b[43mhas_mediation\u001b[49m\u001b[43m,\u001b[49m\n\u001b[32m   1143\u001b[39m \u001b[43m    \u001b[49m\u001b[38;5;28;43mself\u001b[39;49m\u001b[43m.\u001b[49m\u001b[43m_symb_to_var\u001b[49m\u001b[43m,\u001b[49m\n\u001b[32m   1144\u001b[39m \u001b[43m    \u001b[49m\u001b[38;5;28;43mself\u001b[39;49m\u001b[43m.\u001b[49m\u001b[43moptions\u001b[49m\u001b[43m,\u001b[49m\n\u001b[32m   1145\u001b[39m \u001b[43m\u001b[49m\u001b[43m)\u001b[49m\n\u001b[32m   1146\u001b[39m \u001b[38;5;28;01mreturn\u001b[39;00m dem\n",
      "\u001b[36mFile \u001b[39m\u001b[32m~/.virtualenvs/monai/lib/python3.12/site-packages/pyprocessmacro/models.py:1478\u001b[39m, in \u001b[36mDirectEffectModel.__init__\u001b[39m\u001b[34m(self, model, mod_symb, spot_values, has_mediation, symb_to_var, options)\u001b[39m\n\u001b[32m   1476\u001b[39m     options = {}\n\u001b[32m   1477\u001b[39m \u001b[38;5;28mself\u001b[39m._options = options\n\u001b[32m-> \u001b[39m\u001b[32m1478\u001b[39m \u001b[38;5;28mself\u001b[39m._estimation_results = \u001b[38;5;28;43mself\u001b[39;49m\u001b[43m.\u001b[49m\u001b[43m_estimate\u001b[49m\u001b[43m(\u001b[49m\u001b[43m)\u001b[49m\n",
      "\u001b[36mFile \u001b[39m\u001b[32m~/.virtualenvs/monai/lib/python3.12/site-packages/pyprocessmacro/models.py:1488\u001b[39m, in \u001b[36mDirectEffectModel._estimate\u001b[39m\u001b[34m(self)\u001b[39m\n\u001b[32m   1486\u001b[39m mod_values = [i \u001b[38;5;28;01mfor\u001b[39;00m i \u001b[38;5;129;01min\u001b[39;00m product(*\u001b[38;5;28mself\u001b[39m._moderators_values)]\n\u001b[32m   1487\u001b[39m mod_symb = \u001b[38;5;28mself\u001b[39m._moderators_symb\n\u001b[32m-> \u001b[39m\u001b[32m1488\u001b[39m betas, se, llci, ulci = \u001b[38;5;28;43mself\u001b[39;49m\u001b[43m.\u001b[49m\u001b[43m_get_conditional_direct_effects\u001b[49m\u001b[43m(\u001b[49m\n\u001b[32m   1489\u001b[39m \u001b[43m    \u001b[49m\u001b[43mmod_symb\u001b[49m\u001b[43m,\u001b[49m\u001b[43m \u001b[49m\u001b[43mmod_values\u001b[49m\n\u001b[32m   1490\u001b[39m \u001b[43m\u001b[49m\u001b[43m)\u001b[49m\n\u001b[32m   1491\u001b[39m t = betas / se\n\u001b[32m   1492\u001b[39m \u001b[38;5;28;01mif\u001b[39;00m \u001b[38;5;28mself\u001b[39m._is_logit:\n",
      "\u001b[36mFile \u001b[39m\u001b[32m~/.virtualenvs/monai/lib/python3.12/site-packages/pyprocessmacro/models.py:1521\u001b[39m, in \u001b[36mDirectEffectModel._get_conditional_direct_effects\u001b[39m\u001b[34m(self, mod_symb, mod_values)\u001b[39m\n\u001b[32m   1517\u001b[39m \u001b[38;5;28;01mfor\u001b[39;00m i, val \u001b[38;5;129;01min\u001b[39;00m \u001b[38;5;28menumerate\u001b[39m(\n\u001b[32m   1518\u001b[39m         mod_values\n\u001b[32m   1519\u001b[39m ):  \u001b[38;5;66;03m# All possible products of level(s) of moderator(s)\u001b[39;00m\n\u001b[32m   1520\u001b[39m     mod_dict = {n: v \u001b[38;5;28;01mfor\u001b[39;00m n, v \u001b[38;5;129;01min\u001b[39;00m \u001b[38;5;28mzip\u001b[39m(mod_symb, val)}\n\u001b[32m-> \u001b[39m\u001b[32m1521\u001b[39m     betas[i], se[i], llci[i], ulci[i] = \u001b[38;5;28;43mself\u001b[39;49m\u001b[43m.\u001b[49m\u001b[43m_direct_effect_at\u001b[49m\u001b[43m(\u001b[49m\u001b[43mmod_dict\u001b[49m\u001b[43m)\u001b[49m\n\u001b[32m   1522\u001b[39m \u001b[38;5;28;01mreturn\u001b[39;00m betas, se, llci, ulci\n",
      "\u001b[36mFile \u001b[39m\u001b[32m~/.virtualenvs/monai/lib/python3.12/site-packages/pyprocessmacro/models.py:1567\u001b[39m, in \u001b[36mDirectEffectModel._direct_effect_at\u001b[39m\u001b[34m(self, mod_dict)\u001b[39m\n\u001b[32m   1565\u001b[39m vcv = \u001b[38;5;28mself\u001b[39m._model.estimation_results[\u001b[33m\"\u001b[39m\u001b[33mvcv\u001b[39m\u001b[33m\"\u001b[39m]\n\u001b[32m   1566\u001b[39m deriv = \u001b[38;5;28mself\u001b[39m._derivative\n\u001b[32m-> \u001b[39m\u001b[32m1567\u001b[39m grad = \u001b[43meval_expression\u001b[49m\u001b[43m(\u001b[49m\n\u001b[32m   1568\u001b[39m \u001b[43m    \u001b[49m\u001b[43mderiv\u001b[49m\u001b[43m,\u001b[49m\u001b[43m \u001b[49m\u001b[43mmod_dict\u001b[49m\n\u001b[32m   1569\u001b[39m \u001b[43m\u001b[49m\u001b[43m)\u001b[49m  \u001b[38;5;66;03m# Gradient at level(s) of the moderator(s)\u001b[39;00m\n\u001b[32m   1570\u001b[39m betas = dot(grad, b)  \u001b[38;5;66;03m# Estimate is dot product of gradient and coefficients\u001b[39;00m\n\u001b[32m   1571\u001b[39m var = dot(\n\u001b[32m   1572\u001b[39m     dot(grad, vcv), np.transpose(grad)\n\u001b[32m   1573\u001b[39m )  \u001b[38;5;66;03m# V(Grad(X)) = Grad(X).V(X).Grad'(X)\u001b[39;00m\n",
      "\u001b[36mFile \u001b[39m\u001b[32m~/.virtualenvs/monai/lib/python3.12/site-packages/pyprocessmacro/utils.py:169\u001b[39m, in \u001b[36meval_expression\u001b[39m\u001b[34m(expr, values)\u001b[39m\n\u001b[32m    165\u001b[39m     \u001b[38;5;28;01melse\u001b[39;00m:\n\u001b[32m    166\u001b[39m         evaled_term = np.array(\n\u001b[32m    167\u001b[39m             [\u001b[32m0\u001b[39m \u001b[38;5;28;01mif\u001b[39;00m \u001b[38;5;28misinstance\u001b[39m(elem, \u001b[38;5;28mstr\u001b[39m) \u001b[38;5;28;01melse\u001b[39;00m elem \u001b[38;5;28;01mfor\u001b[39;00m elem \u001b[38;5;129;01min\u001b[39;00m term]\n\u001b[32m    168\u001b[39m         )  \u001b[38;5;66;03m# All variables at 0\u001b[39;00m\n\u001b[32m--> \u001b[39m\u001b[32m169\u001b[39m     evaled_expr[i] = \u001b[43mnp\u001b[49m\u001b[43m.\u001b[49m\u001b[43mproduct\u001b[49m(\n\u001b[32m    170\u001b[39m         evaled_term.astype(\u001b[38;5;28mfloat\u001b[39m)\n\u001b[32m    171\u001b[39m     )  \u001b[38;5;66;03m# Gradient is the product of values\u001b[39;00m\n\u001b[32m    172\u001b[39m \u001b[38;5;28;01mreturn\u001b[39;00m evaled_expr\n",
      "\u001b[36mFile \u001b[39m\u001b[32m~/.virtualenvs/monai/lib/python3.12/site-packages/numpy/__init__.py:795\u001b[39m, in \u001b[36m__getattr__\u001b[39m\u001b[34m(attr)\u001b[39m\n\u001b[32m    792\u001b[39m     \u001b[38;5;28;01mimport\u001b[39;00m\u001b[38;5;250m \u001b[39m\u001b[34;01mnumpy\u001b[39;00m\u001b[34;01m.\u001b[39;00m\u001b[34;01mchar\u001b[39;00m\u001b[38;5;250m \u001b[39m\u001b[38;5;28;01mas\u001b[39;00m\u001b[38;5;250m \u001b[39m\u001b[34;01mchar\u001b[39;00m\n\u001b[32m    793\u001b[39m     \u001b[38;5;28;01mreturn\u001b[39;00m char.chararray\n\u001b[32m--> \u001b[39m\u001b[32m795\u001b[39m \u001b[38;5;28;01mraise\u001b[39;00m \u001b[38;5;167;01mAttributeError\u001b[39;00m(\u001b[33mf\u001b[39m\u001b[33m\"\u001b[39m\u001b[33mmodule \u001b[39m\u001b[38;5;132;01m{\u001b[39;00m\u001b[34m__name__\u001b[39m\u001b[38;5;132;01m!r}\u001b[39;00m\u001b[33m has no attribute \u001b[39m\u001b[38;5;132;01m{\u001b[39;00mattr\u001b[38;5;132;01m!r}\u001b[39;00m\u001b[33m\"\u001b[39m)\n",
      "\u001b[31mAttributeError\u001b[39m: module 'numpy' has no attribute 'product'"
     ]
    }
   ],
   "source": [
    "p2 = Process(data=model_data, model=4, x=\"choroid_volume\", y=\"SDMT\",\n",
    "            m=[\"t2lv_logtrans\", \"cortical_thickness\", \"THALAMUS_1\"],\n",
    "            controls=[\"age\", \"Female\", \"tiv\"],\n",
    "            controls_in=\"all\")\n",
    "\n",
    "original_stdout = sys.stdout\n",
    "with open(fig_path / \"choroid_model4_out.txt\", 'w') as f:\n",
    "    sys.stdout = f\n",
    "    p2.summary()\n",
    "\n",
    "sys.stdout = original_stdout\n",
    "\n",
    "# p2.summary()"
   ]
  },
  {
   "cell_type": "markdown",
   "id": "f8ae37a7",
   "metadata": {},
   "source": [
    "## Process Macro"
   ]
  },
  {
   "cell_type": "markdown",
   "id": "f8db7f70",
   "metadata": {},
   "source": [
    "### EDSS"
   ]
  },
  {
   "cell_type": "code",
   "execution_count": 7,
   "id": "c3f60420",
   "metadata": {},
   "outputs": [
    {
     "name": "stderr",
     "output_type": "stream",
     "text": [
      "/home/srs-9/.virtualenvs/monai/lib/python3.12/site-packages/pyprocessmacro/models.py:1567: DeprecationWarning: `product` is deprecated as of NumPy 1.25.0, and will be removed in NumPy 2.0. Please use `prod` instead.\n",
      "  grad = eval_expression(\n"
     ]
    },
    {
     "name": "stdout",
     "output_type": "stream",
     "text": [
      "Process successfully initialized.\n",
      "Based on the Process Macro by Andrew F. Hayes, Ph.D. (www.afhayes.com)\n",
      "\n",
      "\n",
      "****************************** SPECIFICATION ****************************\n",
      "\n",
      "Model = 7\n",
      "\n",
      "Variables:\n",
      "    Cons = Cons\n",
      "    x = choroid_volume\n",
      "    y = SDMT\n",
      "    w = t2lv_logtrans\n",
      "    m1 = THALAMUS_1\n",
      "Statistical Controls:\n",
      " age, Female, tiv\n",
      "\n",
      "\n",
      "\n",
      "Sample size:\n",
      "468\n",
      "\n",
      "Bootstrapping information for indirect effects:\n",
      "Final number of bootstrap samples: 5000\n",
      "Number of samples discarded due to convergence issues: 0\n",
      "\n",
      "***************************** OUTCOME MODELS ****************************\n",
      "\n",
      "Outcome = SDMT \n",
      "OLS Regression Summary\n",
      "\n",
      "     R²  Adj. R²    MSE       F  df1  df2  p-value\n",
      " 0.2450   0.2351 0.7420 29.9791    5  462   0.0000\n",
      "\n",
      "Coefficients\n",
      "\n",
      "                 coeff     se       t      p    LLCI    ULCI\n",
      "Cons            0.0314 0.0401  0.7830 0.4340 -0.0472  0.1099\n",
      "choroid_volume -0.0060 0.0501 -0.1207 0.9040 -0.1042  0.0921\n",
      "age            -0.2276 0.0446 -5.1026 0.0000 -0.3150 -0.1402\n",
      "Female          0.0798 0.0486  1.6412 0.1014 -0.0155  0.1750\n",
      "tiv            -0.0049 0.0537 -0.0912 0.9274 -0.1102  0.1004\n",
      "THALAMUS_1      0.3413 0.0526  6.4909 0.0000  0.2383  0.4444\n",
      "\n",
      "-------------------------------------------------------------------------\n",
      "\n",
      "Outcome = THALAMUS_1 \n",
      "OLS Regression Summary\n",
      "\n",
      "     R²  Adj. R²    MSE       F  df1  df2  p-value\n",
      " 0.5565   0.5497 0.4573 96.3929    6  461   0.0000\n",
      "\n",
      "Coefficients\n",
      "\n",
      "                               coeff     se        t      p    LLCI    ULCI\n",
      "Cons                         -0.0531 0.0337  -1.5741 0.1161 -0.1191  0.0130\n",
      "choroid_volume               -0.3073 0.0375  -8.2032 0.0000 -0.3807 -0.2338\n",
      "t2lv_logtrans                -0.3741 0.0349 -10.7237 0.0000 -0.4424 -0.3057\n",
      "choroid_volume*t2lv_logtrans -0.0828 0.0311  -2.6655 0.0080 -0.1437 -0.0219\n",
      "age                          -0.1114 0.0349  -3.1898 0.0015 -0.1799 -0.0430\n",
      "Female                        0.0936 0.0381   2.4549 0.0145  0.0189  0.1683\n",
      "tiv                           0.5030 0.0371  13.5548 0.0000  0.4303  0.5758\n",
      "\n",
      "-------------------------------------------------------------------------\n",
      "\n",
      "\n",
      "********************** DIRECT AND INDIRECT EFFECTS **********************\n",
      "\n",
      "Direct effect of choroid_volume on SDMT:\n",
      "\n",
      "  Effect     SE       t      p    LLCI   ULCI\n",
      " -0.0060 0.0501 -0.1207 0.9040 -0.1042 0.0921\n",
      "\n",
      "Conditional indirect effect(s) of choroid_volume on SDMT at values of the moderator(s):\n",
      "\n",
      "    Mediator  t2lv_logtrans  Effect  Boot SE  BootLLCI  BootULCI\n",
      "  THALAMUS_1        -1.0011 -0.0766   0.0187   -0.1194   -0.0449\n",
      "  THALAMUS_1         0.0000 -0.1049   0.0263   -0.1626   -0.0597\n",
      "  THALAMUS_1         1.0011 -0.1332   0.0423   -0.2235   -0.0590\n",
      "\n",
      "**************** INDEX OF MODERATED MEDIATION ******************\n",
      "\n",
      "      Moderator    Mediator   Index  Boot SE    LLCI   ULCI\n",
      "  t2lv_logtrans  THALAMUS_1 -0.0283   0.0194 -0.0693 0.0060\n",
      "\n",
      "\n"
     ]
    },
    {
     "name": "stderr",
     "output_type": "stream",
     "text": [
      "/home/srs-9/.virtualenvs/monai/lib/python3.12/site-packages/pyprocessmacro/models.py:738: DeprecationWarning: `product` is deprecated as of NumPy 1.25.0, and will be removed in NumPy 2.0. Please use `prod` instead.\n",
      "  expr_x_to_m = eval_expression(der_x_to_m, mod_dict)\n",
      "/home/srs-9/.virtualenvs/monai/lib/python3.12/site-packages/pyprocessmacro/models.py:739: DeprecationWarning: `product` is deprecated as of NumPy 1.25.0, and will be removed in NumPy 2.0. Please use `prod` instead.\n",
      "  expr_m_to_y = eval_expression(der_m_to_y, mod_dict)\n",
      "/home/srs-9/.virtualenvs/monai/lib/python3.12/site-packages/pyprocessmacro/models.py:752: DeprecationWarning: the `interpolation=` argument to percentile was renamed to `method=`, which has additional options.\n",
      "Users of the modes 'nearest', 'lower', 'higher', or 'midpoint' are encouraged to review the method they used. (Deprecated NumPy 1.22)\n",
      "  llci, ulci = bias_corrected_ci(e, be, conf)\n",
      "/home/srs-9/.virtualenvs/monai/lib/python3.12/site-packages/pyprocessmacro/models.py:1188: FutureWarning: errors='ignore' is deprecated and will raise in a future version. Use to_numeric without passing `errors` and catch exceptions explicitly instead\n",
      "  return df.apply(pd.to_numeric, args=[\"ignore\"])\n",
      "/home/srs-9/.virtualenvs/monai/lib/python3.12/site-packages/pyprocessmacro/models.py:738: DeprecationWarning: `product` is deprecated as of NumPy 1.25.0, and will be removed in NumPy 2.0. Please use `prod` instead.\n",
      "  expr_x_to_m = eval_expression(der_x_to_m, mod_dict)\n",
      "/home/srs-9/.virtualenvs/monai/lib/python3.12/site-packages/pyprocessmacro/models.py:739: DeprecationWarning: `product` is deprecated as of NumPy 1.25.0, and will be removed in NumPy 2.0. Please use `prod` instead.\n",
      "  expr_m_to_y = eval_expression(der_m_to_y, mod_dict)\n",
      "/home/srs-9/.virtualenvs/monai/lib/python3.12/site-packages/pyprocessmacro/models.py:752: DeprecationWarning: the `interpolation=` argument to percentile was renamed to `method=`, which has additional options.\n",
      "Users of the modes 'nearest', 'lower', 'higher', or 'midpoint' are encouraged to review the method they used. (Deprecated NumPy 1.22)\n",
      "  llci, ulci = bias_corrected_ci(e, be, conf)\n",
      "/home/srs-9/.virtualenvs/monai/lib/python3.12/site-packages/pyprocessmacro/models.py:915: DeprecationWarning: the `interpolation=` argument to percentile was renamed to `method=`, which has additional options.\n",
      "Users of the modes 'nearest', 'lower', 'higher', or 'midpoint' are encouraged to review the method they used. (Deprecated NumPy 1.22)\n",
      "  llci[i], ulci[i] = bias_corrected_ci(e_mm, be_mm, conf)\n",
      "/home/srs-9/.virtualenvs/monai/lib/python3.12/site-packages/pyprocessmacro/models.py:1252: FutureWarning: errors='ignore' is deprecated and will raise in a future version. Use to_numeric without passing `errors` and catch exceptions explicitly instead\n",
      "  return df.apply(pd.to_numeric, args=[\"ignore\"])\n"
     ]
    }
   ],
   "source": [
    "model_data = df_ms_z.join([df_thomas_z])\n",
    "model_data.loc[model_data['SDMT'].isna(), 'SDMT'] = model_data['SDMT'].median()\n",
    "\n",
    "# model_data.loc[model_data['SDMT'].isna(), ] = \n",
    "p2 = Process(data=model_data, model=7, x=\"choroid_volume\", y=\"SDMT\", w=\"t2lv_logtrans\",\n",
    "            m=[\"THALAMUS_1\"],\n",
    "            controls=[\"age\", \"Female\", \"tiv\"],\n",
    "            controls_in=\"all\")\n",
    "\n",
    "# original_stdout = sys.stdout\n",
    "# with open(fig_path / \"thalamus_model7_out.txt\", 'w') as f:\n",
    "#     sys.stdout = f\n",
    "#     p2.summary()\n",
    "\n",
    "# sys.stdout = original_stdout\n",
    "p2.summary()"
   ]
  },
  {
   "cell_type": "code",
   "execution_count": null,
   "id": "88bb881f",
   "metadata": {},
   "outputs": [],
   "source": [
    "p2 = Process(data=model_data, model=7, x=\"t2lv_logtrans\", y=\"EDSS_sqrt\", w=\"choroid_volume\",\n",
    "            m=[\"cortical_thickness\"],\n",
    "            controls=[\"age\", \"Female\", \"tiv\"],\n",
    "            controls_in=\"all\")\n",
    "\n",
    "# original_stdout = sys.stdout\n",
    "# with open(fig_path / \"cortical_thickness_model7_out.txt\", 'w') as f:\n",
    "#     sys.stdout = f\n",
    "#     p2.summary()\n",
    "\n",
    "# sys.stdout = original_stdout\n",
    "p2.summary()"
   ]
  },
  {
   "cell_type": "code",
   "execution_count": 52,
   "id": "12a2919e",
   "metadata": {},
   "outputs": [
    {
     "name": "stderr",
     "output_type": "stream",
     "text": [
      "/home/srs-9/.virtualenvs/monai/lib/python3.12/site-packages/pyprocessmacro/models.py:1567: DeprecationWarning: `product` is deprecated as of NumPy 1.25.0, and will be removed in NumPy 2.0. Please use `prod` instead.\n",
      "  grad = eval_expression(\n"
     ]
    },
    {
     "name": "stdout",
     "output_type": "stream",
     "text": [
      "Process successfully initialized.\n",
      "Based on the Process Macro by Andrew F. Hayes, Ph.D. (www.afhayes.com)\n",
      "\n",
      "\n",
      "****************************** SPECIFICATION ****************************\n",
      "\n",
      "Model = 7\n",
      "\n",
      "Variables:\n",
      "    Cons = Cons\n",
      "    x = cortical_thickness\n",
      "    y = EDSS_sqrt\n",
      "    w = choroid_volume\n",
      "    m1 = thalamus\n",
      "Statistical Controls:\n",
      " age, Female, tiv\n",
      "\n",
      "\n",
      "\n",
      "Sample size:\n",
      "468\n",
      "\n",
      "Bootstrapping information for indirect effects:\n",
      "Final number of bootstrap samples: 5000\n",
      "Number of samples discarded due to convergence issues: 0\n",
      "\n",
      "***************************** OUTCOME MODELS ****************************\n",
      "\n",
      "Outcome = EDSS_sqrt \n",
      "OLS Regression Summary\n",
      "\n",
      "     R²  Adj. R²    MSE       F  df1  df2  p-value\n",
      " 0.2788   0.2691 0.7452 34.5570    5  447   0.0000\n",
      "\n",
      "Coefficients\n",
      "\n",
      "                     coeff     se       t      p    LLCI    ULCI\n",
      "Cons               -0.0190 0.0408 -0.4655 0.6418 -0.0990  0.0610\n",
      "cortical_thickness -0.0986 0.0565 -1.7451 0.0816 -0.2092  0.0121\n",
      "age                 0.3153 0.0470  6.7080 0.0000  0.2232  0.4075\n",
      "Female             -0.0402 0.0483 -0.8318 0.4060 -0.1348  0.0545\n",
      "tiv                -0.0877 0.0502 -1.7483 0.0811 -0.1860  0.0106\n",
      "thalamus           -0.2067 0.0555 -3.7258 0.0002 -0.3155 -0.0980\n",
      "\n",
      "-------------------------------------------------------------------------\n",
      "\n",
      "Outcome = thalamus \n",
      "OLS Regression Summary\n",
      "\n",
      "     R²  Adj. R²    MSE       F  df1  df2  p-value\n",
      " 0.5380   0.5308 0.4912 86.5729    6  446   0.0000\n",
      "\n",
      "Coefficients\n",
      "\n",
      "                                    coeff     se       t      p    LLCI    ULCI\n",
      "Cons                              -0.0061 0.0361 -0.1680 0.8666 -0.0768  0.0647\n",
      "cortical_thickness                 0.4852 0.0404 12.0206 0.0000  0.4061  0.5643\n",
      "choroid_volume                    -0.2386 0.0391 -6.1045 0.0000 -0.3151 -0.1620\n",
      "cortical_thickness*choroid_volume  0.1127 0.0329  3.4216 0.0007  0.0481  0.1773\n",
      "age                               -0.1281 0.0384 -3.3324 0.0009 -0.2034 -0.0528\n",
      "Female                             0.0691 0.0394  1.7523 0.0804 -0.0082  0.1464\n",
      "tiv                               -0.0851 0.0407 -2.0917 0.0370 -0.1648 -0.0054\n",
      "\n",
      "-------------------------------------------------------------------------\n",
      "\n",
      "\n",
      "********************** DIRECT AND INDIRECT EFFECTS **********************\n",
      "\n",
      "Direct effect of cortical_thickness on EDSS_sqrt:\n",
      "\n",
      "  Effect     SE       t      p    LLCI   ULCI\n",
      " -0.0986 0.0565 -1.7451 0.0816 -0.2092 0.0121\n",
      "\n",
      "Conditional indirect effect(s) of cortical_thickness on EDSS_sqrt at values of the moderator(s):\n",
      "\n",
      "  Mediator  choroid_volume  Effect  Boot SE  BootLLCI  BootULCI\n",
      "  thalamus         -0.9714 -0.0777   0.0257   -0.1401   -0.0378\n",
      "  thalamus          0.0339 -0.1011   0.0284   -0.1658   -0.0533\n",
      "  thalamus          1.0392 -0.1245   0.0344   -0.2022   -0.0655\n",
      "\n",
      "**************** INDEX OF MODERATED MEDIATION ******************\n",
      "\n",
      "       Moderator  Mediator   Index  Boot SE    LLCI    ULCI\n",
      "  choroid_volume  thalamus -0.0233   0.0105 -0.0486 -0.0065\n",
      "\n",
      "\n"
     ]
    },
    {
     "name": "stderr",
     "output_type": "stream",
     "text": [
      "/home/srs-9/.virtualenvs/monai/lib/python3.12/site-packages/pyprocessmacro/models.py:738: DeprecationWarning: `product` is deprecated as of NumPy 1.25.0, and will be removed in NumPy 2.0. Please use `prod` instead.\n",
      "  expr_x_to_m = eval_expression(der_x_to_m, mod_dict)\n",
      "/home/srs-9/.virtualenvs/monai/lib/python3.12/site-packages/pyprocessmacro/models.py:739: DeprecationWarning: `product` is deprecated as of NumPy 1.25.0, and will be removed in NumPy 2.0. Please use `prod` instead.\n",
      "  expr_m_to_y = eval_expression(der_m_to_y, mod_dict)\n",
      "/home/srs-9/.virtualenvs/monai/lib/python3.12/site-packages/pyprocessmacro/models.py:752: DeprecationWarning: the `interpolation=` argument to percentile was renamed to `method=`, which has additional options.\n",
      "Users of the modes 'nearest', 'lower', 'higher', or 'midpoint' are encouraged to review the method they used. (Deprecated NumPy 1.22)\n",
      "  llci, ulci = bias_corrected_ci(e, be, conf)\n",
      "/home/srs-9/.virtualenvs/monai/lib/python3.12/site-packages/pyprocessmacro/models.py:1188: FutureWarning: errors='ignore' is deprecated and will raise in a future version. Use to_numeric without passing `errors` and catch exceptions explicitly instead\n",
      "  return df.apply(pd.to_numeric, args=[\"ignore\"])\n",
      "/home/srs-9/.virtualenvs/monai/lib/python3.12/site-packages/pyprocessmacro/models.py:738: DeprecationWarning: `product` is deprecated as of NumPy 1.25.0, and will be removed in NumPy 2.0. Please use `prod` instead.\n",
      "  expr_x_to_m = eval_expression(der_x_to_m, mod_dict)\n",
      "/home/srs-9/.virtualenvs/monai/lib/python3.12/site-packages/pyprocessmacro/models.py:739: DeprecationWarning: `product` is deprecated as of NumPy 1.25.0, and will be removed in NumPy 2.0. Please use `prod` instead.\n",
      "  expr_m_to_y = eval_expression(der_m_to_y, mod_dict)\n",
      "/home/srs-9/.virtualenvs/monai/lib/python3.12/site-packages/pyprocessmacro/models.py:752: DeprecationWarning: the `interpolation=` argument to percentile was renamed to `method=`, which has additional options.\n",
      "Users of the modes 'nearest', 'lower', 'higher', or 'midpoint' are encouraged to review the method they used. (Deprecated NumPy 1.22)\n",
      "  llci, ulci = bias_corrected_ci(e, be, conf)\n",
      "/home/srs-9/.virtualenvs/monai/lib/python3.12/site-packages/pyprocessmacro/models.py:915: DeprecationWarning: the `interpolation=` argument to percentile was renamed to `method=`, which has additional options.\n",
      "Users of the modes 'nearest', 'lower', 'higher', or 'midpoint' are encouraged to review the method they used. (Deprecated NumPy 1.22)\n",
      "  llci[i], ulci[i] = bias_corrected_ci(e_mm, be_mm, conf)\n",
      "/home/srs-9/.virtualenvs/monai/lib/python3.12/site-packages/pyprocessmacro/models.py:1252: FutureWarning: errors='ignore' is deprecated and will raise in a future version. Use to_numeric without passing `errors` and catch exceptions explicitly instead\n",
      "  return df.apply(pd.to_numeric, args=[\"ignore\"])\n"
     ]
    }
   ],
   "source": [
    "from pyprocessmacro import Process\n",
    "\n",
    "model_data = df_z.copy()\n",
    "model_data = model_data[model_data['dz_type2'] == \"MS\"]\n",
    "\n",
    "p2 = Process(data=model_data, model=7, x=\"cortical_thickness\", y=\"EDSS_sqrt\", w=\"choroid_volume\",\n",
    "            m=[\"thalamus\"],\n",
    "            controls=[\"age\", \"Female\", \"tiv\"],\n",
    "            controls_in=\"all\")\n",
    "p2.summary()"
   ]
  },
  {
   "cell_type": "code",
   "execution_count": 39,
   "id": "c369083a",
   "metadata": {},
   "outputs": [
    {
     "name": "stderr",
     "output_type": "stream",
     "text": [
      "/home/srs-9/.virtualenvs/monai/lib/python3.12/site-packages/pyprocessmacro/models.py:1567: DeprecationWarning: `product` is deprecated as of NumPy 1.25.0, and will be removed in NumPy 2.0. Please use `prod` instead.\n",
      "  grad = eval_expression(\n"
     ]
    },
    {
     "name": "stdout",
     "output_type": "stream",
     "text": [
      "Process successfully initialized.\n",
      "Based on the Process Macro by Andrew F. Hayes, Ph.D. (www.afhayes.com)\n",
      "\n",
      "\n",
      "****************************** SPECIFICATION ****************************\n",
      "\n",
      "Model = 4\n",
      "\n",
      "Variables:\n",
      "    Cons = Cons\n",
      "    x = choroid_volume\n",
      "    y = EDSS_sqrt\n",
      "    m1 = THALAMUS_1\n",
      "    m2 = cortical_thickness\n",
      "    m3 = t2lv_logtrans\n",
      "Statistical Controls:\n",
      " age, Female, tiv\n",
      "\n",
      "\n",
      "\n",
      "Sample size:\n",
      "468\n",
      "\n",
      "Bootstrapping information for indirect effects:\n",
      "Final number of bootstrap samples: 5000\n",
      "Number of samples discarded due to convergence issues: 0\n",
      "\n",
      "***************************** OUTCOME MODELS ****************************\n",
      "\n",
      "Outcome = EDSS_sqrt \n",
      "OLS Regression Summary\n",
      "\n",
      "     R²  Adj. R²    MSE       F  df1  df2  p-value\n",
      " 0.2866   0.2738 0.7404 25.5418    7  445   0.0000\n",
      "\n",
      "Coefficients\n",
      "\n",
      "                     coeff     se       t      p    LLCI    ULCI\n",
      "Cons               -0.0214 0.0409 -0.5246 0.6001 -0.1015  0.0587\n",
      "choroid_volume     -0.0726 0.0511 -1.4218 0.1558 -0.1727  0.0275\n",
      "age                 0.3529 0.0471  7.4966 0.0000  0.2606  0.4451\n",
      "Female             -0.0527 0.0489 -1.0783 0.2815 -0.1485  0.0431\n",
      "tiv                 0.0491 0.0586  0.8385 0.4022 -0.0657  0.1639\n",
      "THALAMUS_1         -0.2788 0.0676 -4.1233 0.0000 -0.4113 -0.1463\n",
      "cortical_thickness -0.0734 0.0602 -1.2177 0.2240 -0.1914  0.0447\n",
      "t2lv_logtrans       0.0042 0.0526  0.0792 0.9369 -0.0989  0.1072\n",
      "\n",
      "-------------------------------------------------------------------------\n",
      "\n",
      "Outcome = THALAMUS_1 \n",
      "OLS Regression Summary\n",
      "\n",
      "     R²  Adj. R²    MSE       F  df1  df2  p-value\n",
      " 0.4332   0.4268 0.5870 85.5838    4  448   0.0000\n",
      "\n",
      "Coefficients\n",
      "\n",
      "                 coeff     se        t      p    LLCI    ULCI\n",
      "Cons           -0.0708 0.0361  -1.9634 0.0502 -0.1415 -0.0001\n",
      "choroid_volume -0.4250 0.0402 -10.5655 0.0000 -0.5039 -0.3462\n",
      "age            -0.1601 0.0394  -4.0679 0.0001 -0.2373 -0.0830\n",
      "Female          0.0739 0.0430   1.7188 0.0863 -0.0104  0.1581\n",
      "tiv             0.5164 0.0436  11.8322 0.0000  0.4309  0.6019\n",
      "\n",
      "-------------------------------------------------------------------------\n",
      "\n",
      "Outcome = cortical_thickness \n",
      "OLS Regression Summary\n",
      "\n",
      "     R²  Adj. R²    MSE       F  df1  df2  p-value\n",
      " 0.3248   0.3173 0.6982 53.8861    4  448   0.0000\n",
      "\n",
      "Coefficients\n",
      "\n",
      "                 coeff     se       t      p    LLCI    ULCI\n",
      "Cons           -0.0377 0.0393 -0.9582 0.3385 -0.1148  0.0394\n",
      "choroid_volume -0.3273 0.0439 -7.4598 0.0000 -0.4133 -0.2413\n",
      "age            -0.3293 0.0429 -7.6709 0.0000 -0.4135 -0.2452\n",
      "Female          0.0744 0.0469  1.5874 0.1131 -0.0175  0.1663\n",
      "tiv             0.1938 0.0476  4.0725 0.0001  0.1006  0.2871\n",
      "\n",
      "-------------------------------------------------------------------------\n",
      "\n",
      "Outcome = t2lv_logtrans \n",
      "OLS Regression Summary\n",
      "\n",
      "     R²  Adj. R²    MSE       F  df1  df2  p-value\n",
      " 0.1991   0.1902 0.7742 27.8503    4  448   0.0000\n",
      "\n",
      "Coefficients\n",
      "\n",
      "                coeff     se      t      p    LLCI   ULCI\n",
      "Cons           0.1090 0.0414 2.6310 0.0088  0.0278 0.1902\n",
      "choroid_volume 0.3562 0.0462 7.7104 0.0000  0.2657 0.4467\n",
      "age            0.1657 0.0452 3.6654 0.0003  0.0771 0.2543\n",
      "Female         0.0743 0.0494 1.5050 0.1330 -0.0225 0.1711\n",
      "tiv            0.0447 0.0501 0.8919 0.3729 -0.0535 0.1429\n",
      "\n",
      "-------------------------------------------------------------------------\n",
      "\n",
      "\n",
      "********************** DIRECT AND INDIRECT EFFECTS **********************\n",
      "\n",
      "Direct effect of choroid_volume on EDSS_sqrt:\n",
      "\n",
      "  Effect     SE       t      p    LLCI   ULCI\n",
      " -0.0726 0.0511 -1.4218 0.1558 -0.1727 0.0275\n",
      "\n",
      "Indirect effect of choroid_volume on EDSS_sqrt:\n",
      "\n",
      "                      Effect  Boot SE  BootLLCI  BootULCI\n",
      "          THALAMUS_1  0.1185   0.0357    0.0558    0.1928\n",
      "  cortical_thickness  0.0240   0.0190   -0.0102    0.0643\n",
      "       t2lv_logtrans  0.0015   0.0188   -0.0323    0.0430\n",
      "\n",
      "\n"
     ]
    },
    {
     "name": "stderr",
     "output_type": "stream",
     "text": [
      "/home/srs-9/.virtualenvs/monai/lib/python3.12/site-packages/pyprocessmacro/models.py:738: DeprecationWarning: `product` is deprecated as of NumPy 1.25.0, and will be removed in NumPy 2.0. Please use `prod` instead.\n",
      "  expr_x_to_m = eval_expression(der_x_to_m, mod_dict)\n",
      "/home/srs-9/.virtualenvs/monai/lib/python3.12/site-packages/pyprocessmacro/models.py:739: DeprecationWarning: `product` is deprecated as of NumPy 1.25.0, and will be removed in NumPy 2.0. Please use `prod` instead.\n",
      "  expr_m_to_y = eval_expression(der_m_to_y, mod_dict)\n",
      "/home/srs-9/.virtualenvs/monai/lib/python3.12/site-packages/pyprocessmacro/models.py:752: DeprecationWarning: the `interpolation=` argument to percentile was renamed to `method=`, which has additional options.\n",
      "Users of the modes 'nearest', 'lower', 'higher', or 'midpoint' are encouraged to review the method they used. (Deprecated NumPy 1.22)\n",
      "  llci, ulci = bias_corrected_ci(e, be, conf)\n",
      "/home/srs-9/.virtualenvs/monai/lib/python3.12/site-packages/pyprocessmacro/models.py:827: DeprecationWarning: the `interpolation=` argument to percentile was renamed to `method=`, which has additional options.\n",
      "Users of the modes 'nearest', 'lower', 'higher', or 'midpoint' are encouraged to review the method they used. (Deprecated NumPy 1.22)\n",
      "  ci = bias_corrected_ci(e[i], be[i], conf)\n",
      "/home/srs-9/.virtualenvs/monai/lib/python3.12/site-packages/pyprocessmacro/models.py:1222: FutureWarning: errors='ignore' is deprecated and will raise in a future version. Use to_numeric without passing `errors` and catch exceptions explicitly instead\n",
      "  return df.apply(pd.to_numeric, args=[\"ignore\"])\n"
     ]
    }
   ],
   "source": [
    "from pyprocessmacro import Process\n",
    "\n",
    "model_data = df_z.copy()\n",
    "model_data = model_data.join([df_thomas_z])\n",
    "model_data = model_data[model_data['dz_type2'] == \"MS\"]\n",
    "\n",
    "p2 = Process(data=model_data, model=4, x=\"choroid_volume\", y=\"EDSS_sqrt\",\n",
    "            m=[\"THALAMUS_1\", \"cortical_thickness\", \"t2lv_logtrans\"],\n",
    "            controls=[\"age\", \"Female\", \"tiv\"],\n",
    "            controls_in=\"all\")\n",
    "p2.summary()"
   ]
  },
  {
   "cell_type": "markdown",
   "id": "cfe7ca0f",
   "metadata": {},
   "source": [
    "---"
   ]
  },
  {
   "cell_type": "code",
   "execution_count": 34,
   "id": "2ef4799f",
   "metadata": {},
   "outputs": [
    {
     "data": {
      "application/vnd.microsoft.datawrangler.viewer.v0+json": {
       "columns": [
        {
         "name": "index",
         "rawType": "object",
         "type": "string"
        },
        {
         "name": "Estimate",
         "rawType": "float64",
         "type": "float"
        },
        {
         "name": "Lower CI bound",
         "rawType": "float64",
         "type": "float"
        },
        {
         "name": "Upper CI bound",
         "rawType": "float64",
         "type": "float"
        },
        {
         "name": "P-value",
         "rawType": "float64",
         "type": "float"
        }
       ],
       "ref": "eb34d040-9cc9-4cac-bea5-a2474f38386d",
       "rows": [
        [
         "ACME (control)",
         "0.07245396838914869",
         "0.03259218837382574",
         "0.12042724098048072",
         "0.0"
        ],
        [
         "ACME (treated)",
         "0.07245396838914869",
         "0.03259218837382574",
         "0.12042724098048072",
         "0.0"
        ],
        [
         "ADE (control)",
         "-0.0003455417933471111",
         "-0.09681682300100194",
         "0.10045849209321676",
         "0.966"
        ],
        [
         "ADE (treated)",
         "-0.00034554179334711065",
         "-0.09681682300100194",
         "0.10045849209321676",
         "0.966"
        ],
        [
         "Total effect",
         "0.07210842659580158",
         "-0.02498684171045332",
         "0.1732019690794523",
         "0.152"
        ],
        [
         "Prop. mediated (control)",
         "0.9007265192096258",
         "-5.9561048065579465",
         "8.228081256920348",
         "0.152"
        ],
        [
         "Prop. mediated (treated)",
         "0.9007265192096258",
         "-5.9561048065579465",
         "8.228081256920346",
         "0.152"
        ],
        [
         "ACME (average)",
         "0.07245396838914869",
         "0.03259218837382574",
         "0.12042724098048072",
         "0.0"
        ],
        [
         "ADE (average)",
         "-0.00034554179334711087",
         "-0.09681682300100194",
         "0.10045849209321676",
         "0.966"
        ],
        [
         "Prop. mediated (average)",
         "0.9007265192096258",
         "-5.9561048065579465",
         "8.228081256920348",
         "0.152"
        ]
       ],
       "shape": {
        "columns": 4,
        "rows": 10
       }
      },
      "text/html": [
       "<div>\n",
       "<style scoped>\n",
       "    .dataframe tbody tr th:only-of-type {\n",
       "        vertical-align: middle;\n",
       "    }\n",
       "\n",
       "    .dataframe tbody tr th {\n",
       "        vertical-align: top;\n",
       "    }\n",
       "\n",
       "    .dataframe thead th {\n",
       "        text-align: right;\n",
       "    }\n",
       "</style>\n",
       "<table border=\"1\" class=\"dataframe\">\n",
       "  <thead>\n",
       "    <tr style=\"text-align: right;\">\n",
       "      <th></th>\n",
       "      <th>Estimate</th>\n",
       "      <th>Lower CI bound</th>\n",
       "      <th>Upper CI bound</th>\n",
       "      <th>P-value</th>\n",
       "    </tr>\n",
       "  </thead>\n",
       "  <tbody>\n",
       "    <tr>\n",
       "      <th>ACME (control)</th>\n",
       "      <td>0.072454</td>\n",
       "      <td>0.032592</td>\n",
       "      <td>0.120427</td>\n",
       "      <td>0.000</td>\n",
       "    </tr>\n",
       "    <tr>\n",
       "      <th>ACME (treated)</th>\n",
       "      <td>0.072454</td>\n",
       "      <td>0.032592</td>\n",
       "      <td>0.120427</td>\n",
       "      <td>0.000</td>\n",
       "    </tr>\n",
       "    <tr>\n",
       "      <th>ADE (control)</th>\n",
       "      <td>-0.000346</td>\n",
       "      <td>-0.096817</td>\n",
       "      <td>0.100458</td>\n",
       "      <td>0.966</td>\n",
       "    </tr>\n",
       "    <tr>\n",
       "      <th>ADE (treated)</th>\n",
       "      <td>-0.000346</td>\n",
       "      <td>-0.096817</td>\n",
       "      <td>0.100458</td>\n",
       "      <td>0.966</td>\n",
       "    </tr>\n",
       "    <tr>\n",
       "      <th>Total effect</th>\n",
       "      <td>0.072108</td>\n",
       "      <td>-0.024987</td>\n",
       "      <td>0.173202</td>\n",
       "      <td>0.152</td>\n",
       "    </tr>\n",
       "    <tr>\n",
       "      <th>Prop. mediated (control)</th>\n",
       "      <td>0.900727</td>\n",
       "      <td>-5.956105</td>\n",
       "      <td>8.228081</td>\n",
       "      <td>0.152</td>\n",
       "    </tr>\n",
       "    <tr>\n",
       "      <th>Prop. mediated (treated)</th>\n",
       "      <td>0.900727</td>\n",
       "      <td>-5.956105</td>\n",
       "      <td>8.228081</td>\n",
       "      <td>0.152</td>\n",
       "    </tr>\n",
       "    <tr>\n",
       "      <th>ACME (average)</th>\n",
       "      <td>0.072454</td>\n",
       "      <td>0.032592</td>\n",
       "      <td>0.120427</td>\n",
       "      <td>0.000</td>\n",
       "    </tr>\n",
       "    <tr>\n",
       "      <th>ADE (average)</th>\n",
       "      <td>-0.000346</td>\n",
       "      <td>-0.096817</td>\n",
       "      <td>0.100458</td>\n",
       "      <td>0.966</td>\n",
       "    </tr>\n",
       "    <tr>\n",
       "      <th>Prop. mediated (average)</th>\n",
       "      <td>0.900727</td>\n",
       "      <td>-5.956105</td>\n",
       "      <td>8.228081</td>\n",
       "      <td>0.152</td>\n",
       "    </tr>\n",
       "  </tbody>\n",
       "</table>\n",
       "</div>"
      ],
      "text/plain": [
       "                          Estimate  Lower CI bound  Upper CI bound  P-value\n",
       "ACME (control)            0.072454        0.032592        0.120427    0.000\n",
       "ACME (treated)            0.072454        0.032592        0.120427    0.000\n",
       "ADE (control)            -0.000346       -0.096817        0.100458    0.966\n",
       "ADE (treated)            -0.000346       -0.096817        0.100458    0.966\n",
       "Total effect              0.072108       -0.024987        0.173202    0.152\n",
       "Prop. mediated (control)  0.900727       -5.956105        8.228081    0.152\n",
       "Prop. mediated (treated)  0.900727       -5.956105        8.228081    0.152\n",
       "ACME (average)            0.072454        0.032592        0.120427    0.000\n",
       "ADE (average)            -0.000346       -0.096817        0.100458    0.966\n",
       "Prop. mediated (average)  0.900727       -5.956105        8.228081    0.152"
      ]
     },
     "execution_count": 34,
     "metadata": {},
     "output_type": "execute_result"
    }
   ],
   "source": [
    "model_data = df_z.copy()\n",
    "model_data = model_data.join([df_thomas_z])\n",
    "model_data = model_data[model_data['dz_type2'] == \"MS\"]\n",
    "\n",
    "outcome_model = sm.OLS.from_formula(\n",
    "    \"EDSS_sqrt ~ choroid_volume + cortical_thickness + age + tiv + Female\", data=model_data\n",
    ")\n",
    "mediator_model = sm.OLS.from_formula(\n",
    "    \"cortical_thickness ~ choroid_volume + age + tiv + Female\", data=model_data\n",
    ")\n",
    "\n",
    "med = Mediation(\n",
    "    outcome_model, mediator_model, \"choroid_volume\", \"cortical_thickness\"\n",
    ").fit()\n",
    "med.summary()"
   ]
  },
  {
   "cell_type": "code",
   "execution_count": 36,
   "id": "d5b99f39",
   "metadata": {},
   "outputs": [],
   "source": [
    "model_data.to_csv(\"ms_data_for_process.csv\")"
   ]
  }
 ],
 "metadata": {
  "kernelspec": {
   "display_name": "monai",
   "language": "python",
   "name": "python3"
  },
  "language_info": {
   "codemirror_mode": {
    "name": "ipython",
    "version": 3
   },
   "file_extension": ".py",
   "mimetype": "text/x-python",
   "name": "python",
   "nbconvert_exporter": "python",
   "pygments_lexer": "ipython3",
   "version": "3.12.4"
  }
 },
 "nbformat": 4,
 "nbformat_minor": 5
}
