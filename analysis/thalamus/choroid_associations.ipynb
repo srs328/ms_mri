{
 "cells": [
  {
   "cell_type": "markdown",
   "id": "da412028",
   "metadata": {},
   "source": [
    "## Import"
   ]
  },
  {
   "cell_type": "code",
   "execution_count": 1,
   "id": "14dabae3",
   "metadata": {},
   "outputs": [],
   "source": [
    "import pandas as pd\n",
    "from warnings import simplefilter\n",
    "\n",
    "simplefilter(action=\"ignore\", category=pd.errors.PerformanceWarning)\n",
    "from pathlib import Path\n",
    "import json\n",
    "import numpy as np\n",
    "from collections import defaultdict\n",
    "import matplotlib.pyplot as plt\n",
    "from datetime import datetime\n",
    "import re\n",
    "from scipy import stats\n",
    "from scipy.optimize import curve_fit\n",
    "import numpy as np\n",
    "import statsmodels.api as sm\n",
    "from matplotlib import colormaps\n",
    "from tqdm.notebook import tqdm\n",
    "import helpers\n",
    "from sklearn.metrics import r2_score\n",
    "from IPython.display import clear_output\n",
    "from statsmodels.stats.outliers_influence import variance_inflation_factor\n",
    "from reload_recursive import reload_recursive\n",
    "from statsmodels.stats.mediation import Mediation\n",
    "\n",
    "\n",
    "from mri_data import file_manager as fm"
   ]
  },
  {
   "cell_type": "code",
   "execution_count": 2,
   "id": "5c10e5a5",
   "metadata": {},
   "outputs": [],
   "source": [
    "reload_recursive(helpers)"
   ]
  },
  {
   "cell_type": "markdown",
   "id": "177fe944",
   "metadata": {},
   "source": [
    "## Load Data"
   ]
  },
  {
   "cell_type": "markdown",
   "id": "8d7c5fc0",
   "metadata": {},
   "source": [
    "### Clinical and Volumes"
   ]
  },
  {
   "cell_type": "code",
   "execution_count": 3,
   "id": "bed7ccbf",
   "metadata": {},
   "outputs": [],
   "source": [
    "drive_root = fm.get_drive_root()\n",
    "dataroot = drive_root / \"3Tpioneer_bids\"\n",
    "data_dir = Path(\"/home/srs-9/Projects/ms_mri/data\")\n",
    "fig_path = Path(\n",
    "    \"/home/srs-9/Projects/ms_mri/analysis/thalamus/figures_tables/choroid_associations\"\n",
    ")\n",
    "\n",
    "choroid_volumes = pd.read_csv(\n",
    "    \"/home/srs-9/Projects/ms_mri/data/choroid_aschoplex_volumes.csv\", index_col=\"subid\"\n",
    ")\n",
    "ventricle_volumes = pd.read_csv(\n",
    "    \"/home/srs-9/Projects/ms_mri/analysis/paper1/data0/ventricle_volumes.csv\",\n",
    "    index_col=\"subid\",\n",
    ")\n",
    "\n",
    "tiv = pd.read_csv(\"/home/srs-9/Projects/ms_mri/data/tiv_data.csv\", index_col=\"subid\")\n",
    "\n",
    "df = pd.read_csv(\n",
    "    \"/home/srs-9/Projects/ms_mri/data/clinical_data_processed.csv\", index_col=\"subid\"\n",
    ")\n",
    "sdmt = pd.read_csv(\n",
    "    \"/home/srs-9/Projects/ms_mri/analysis/thalamus/SDMT_sheet.csv\", index_col=\"subid\"\n",
    ")\n",
    "df = df.join([choroid_volumes, tiv, ventricle_volumes, sdmt[\"SDMT\"]])\n",
    "df[\"SDMT\"] = pd.to_numeric(df[\"SDMT\"], errors=\"coerce\")\n",
    "df[\"thalamus_sqrt\"] = np.sqrt(df[\"thalamus\"])\n",
    "df[\"thalamus_curt\"] = np.sqrt(df[\"thalamus\"] ** 3)\n",
    "df[\"cortical_thickness_inv\"] = 1 / df[\"cortical_thickness\"]\n",
    "df[\"ventricle_logtrans\"] = np.log(df[\"ventricle_volume\"])\n",
    "\n",
    "df_z = df.copy()\n",
    "numeric_cols = df.select_dtypes(include=\"number\").columns\n",
    "df_z[numeric_cols] = df_z[numeric_cols].apply(stats.zscore, nan_policy=\"omit\")\n",
    "\n",
    "viridis = colormaps[\"viridis\"].resampled(20)\n",
    "\n",
    "colors = helpers.get_colors()"
   ]
  },
  {
   "cell_type": "markdown",
   "id": "cd964fba",
   "metadata": {},
   "source": [
    "### HIPS-THOMAS Volumes and Distances"
   ]
  },
  {
   "cell_type": "code",
   "execution_count": 4,
   "id": "3996e26c",
   "metadata": {},
   "outputs": [],
   "source": [
    "df_thomas = pd.read_csv(data_dir / \"hipsthomas_vols.csv\", index_col=\"subid\")\n",
    "cols_orig = df_thomas.columns\n",
    "new_colnames = {}\n",
    "for col in df_thomas.columns:\n",
    "    new_col = re.sub(r\"(\\d+)-([\\w-]+)\", r\"\\2_\\1\", col)\n",
    "    new_col = re.sub(\"-\", \"_\", new_col)\n",
    "    new_colnames[col] = new_col\n",
    "df_thomas = df_thomas.rename(columns=new_colnames)\n",
    "df_thomas_norm = df_thomas.apply(lambda col: col / df_thomas[\"THALAMUS_1\"])\n",
    "df_thomas_z = df_thomas.apply(stats.zscore, nan_policy=\"omit\")\n",
    "df_thomas_norm_z = df_thomas_norm.apply(stats.zscore, nan_policy=\"omit\")\n",
    "\n",
    "df_thomas_left = pd.read_csv(data_dir / \"hipsthomas_left_vols.csv\", index_col=\"subid\")\n",
    "df_thomas_left = df_thomas_left.rename(columns=new_colnames)\n",
    "df_thomas_left_z = df_thomas_left.apply(stats.zscore, nan_policy=\"omit\")\n",
    "\n",
    "df_thomas_right = pd.read_csv(data_dir / \"hipsthomas_right_vols.csv\", index_col=\"subid\")\n",
    "df_thomas_right = df_thomas_right.rename(columns=new_colnames)\n",
    "df_thomas_right_z = df_thomas_right.apply(stats.zscore, nan_policy=\"omit\")\n",
    "\n",
    "\n",
    "thalamic_nuclei = [2, 4, 5, 6, 7, 8, 9, 10, 11, 12]\n",
    "deep_grey = [13, 14, 26, 27, 28, 29, 30, 31, 32]\n",
    "\n",
    "ignore_structs1 = [\n",
    "    \"THALAMUS_1\",\n",
    "    \"Amy_34\",\n",
    "    \"GP_33\",\n",
    "    \"Cla_28\",\n",
    "    \"Acc_26\",\n",
    "    \"Hb_13\",\n",
    "    \"MTT_14\",\n",
    "]\n",
    "ignore_structs2 = [\"THALAMUS_1\", \"Amy_34\", \"GP_33\", \"Hb_13\", \"MTT_14\"]\n",
    "\n",
    "thalamic_nuclei_str = [str(i) for i in thalamic_nuclei]\n",
    "\n",
    "hips_thomas_ref = pd.read_csv(\n",
    "    \"/home/srs-9/Projects/ms_mri/data/hipsthomas_struct_index.csv\", index_col=\"index\"\n",
    ")[\"struct\"]\n",
    "hips_thomas_invref = pd.read_csv(\n",
    "    \"/home/srs-9/Projects/ms_mri/data/hipsthomas_struct_index.csv\", index_col=\"struct\"\n",
    ")[\"index\"]\n",
    "\n",
    "mni_dists = pd.read_csv(\n",
    "    \"/home/srs-9/Projects/ms_mri/data/mni_centroid_centroid_dists.csv\",\n",
    "    index_col=\"index\",\n",
    ")\n",
    "mni_dists[\"struct\"] = hips_thomas_ref\n",
    "\n",
    "mni_dists2 = pd.read_csv(\n",
    "    \"/home/srs-9/Projects/ms_mri/data/mni_choroid_struct_SDT.csv\",\n",
    "    index_col=\"index\",\n",
    ")\n",
    "mni_dists2[\"struct\"] = hips_thomas_ref\n",
    "\n",
    "mni_ventricle_dists = pd.read_csv(\n",
    "    \"/home/srs-9/Projects/ms_mri/data/mni_ventricle_centroid_centroid_dists.csv\",\n",
    "    index_col=\"index\",\n",
    ")\n",
    "mni_ventricle_dists[\"struct\"] = hips_thomas_ref\n",
    "\n",
    "\n",
    "def combine_nuclei(df):\n",
    "    df2 = pd.DataFrame()\n",
    "    df2[\"anterior\"] = df[\"AV_2\"]\n",
    "    df2[\"ventral\"] = df[\"VA_4\"] + df[\"VLa_5\"] + df[\"VLP_6\"] + df[\"VPL_7\"]\n",
    "    df2[\"intralaminar\"] = df[\"CM_11\"]\n",
    "    df2[\"medial\"] = df[\"MD_Pf_12\"]\n",
    "    df2[\"posterior\"] = df[\"Pul_8\"] + df[\"LGN_9\"] + df[\"MGN_10\"]\n",
    "    df2[\"THALAMUS_1\"] = df[\"THALAMUS_1\"]\n",
    "    return df2\n",
    "\n",
    "\n",
    "def combine_nuclei2(df):\n",
    "    df2 = pd.DataFrame()\n",
    "    df2[\"anterior\"] = df[\"AV_2\"]\n",
    "    df2[\"ventral\"] = df[\"VA_4\"] + df[\"VLa_5\"] + df[\"VLP_6\"] + df[\"VPL_7\"]\n",
    "    df2[\"medial\"] = df[\"MD_Pf_12\"] + df[\"CM_11\"]\n",
    "    df2[\"posterior\"] = df[\"Pul_8\"] + df[\"LGN_9\"] + df[\"MGN_10\"]\n",
    "    df2[\"THALAMUS_1\"] = df[\"THALAMUS_1\"]\n",
    "    return df2\n",
    "\n",
    "\n",
    "mni_combined_dists = pd.read_csv(\n",
    "    \"/home/srs-9/Projects/ms_mri/data/mni_combined_nuclei_centroid_centroid_dists.csv\",\n",
    "    index_col=\"index\",\n",
    ")\n",
    "\n",
    "df_thomas2 = combine_nuclei2(df_thomas)\n",
    "grouped_nuclei = df_thomas2.columns[~df_thomas2.columns.isin([\"THALAMUS_1\"])]\n",
    "df_thomas2_z = df_thomas2.apply(stats.zscore, nan_policy=\"omit\")\n",
    "df_thomas2_norm = df_thomas2.apply(lambda col: col / df_thomas[\"THALAMUS_1\"])\n",
    "df_thomas2_norm_z = df_thomas2_norm.apply(stats.zscore, nan_policy=\"omit\")\n",
    "\n",
    "df_thomas2_left = combine_nuclei2(df_thomas_left)\n",
    "df_thomas2_left_z = df_thomas2_left.apply(stats.zscore, nan_policy=\"omit\")\n",
    "df_thomas2_norm_left = df_thomas2.apply(lambda col: col / df_thomas[\"THALAMUS_1\"])\n",
    "df_thomas2_norm_left_z = df_thomas2_norm_left.apply(stats.zscore, nan_policy=\"omit\")\n",
    "\n",
    "df_thomas2_right = combine_nuclei2(df_thomas_right)\n",
    "df_thomas2_right_z = df_thomas2_right.apply(stats.zscore, nan_policy=\"omit\")\n",
    "df_thomas2_norm_right = df_thomas2.apply(lambda col: col / df_thomas[\"THALAMUS_1\"])\n",
    "df_thomas2_norm_right_z = df_thomas2_norm_right.apply(stats.zscore, nan_policy=\"omit\")"
   ]
  },
  {
   "cell_type": "code",
   "execution_count": 5,
   "id": "5d82ef8a",
   "metadata": {},
   "outputs": [
    {
     "data": {
      "application/vnd.microsoft.datawrangler.viewer.v0+json": {
       "columns": [
        {
         "name": "index",
         "rawType": "int64",
         "type": "integer"
        },
        {
         "name": "struct",
         "rawType": "object",
         "type": "string"
        }
       ],
       "ref": "c0ce214c-f3b7-44e0-bea6-7c6855d7ebb9",
       "rows": [
        [
         "1",
         "THALAMUS_1"
        ],
        [
         "2",
         "AV_2"
        ],
        [
         "4",
         "VA_4"
        ],
        [
         "5",
         "VLa_5"
        ],
        [
         "6",
         "VLP_6"
        ],
        [
         "7",
         "VPL_7"
        ],
        [
         "8",
         "Pul_8"
        ],
        [
         "9",
         "LGN_9"
        ],
        [
         "10",
         "MGN_10"
        ],
        [
         "11",
         "CM_11"
        ],
        [
         "12",
         "MD_Pf_12"
        ],
        [
         "13",
         "Hb_13"
        ],
        [
         "14",
         "MTT_14"
        ],
        [
         "26",
         "Acc_26"
        ],
        [
         "27",
         "Cau_27"
        ],
        [
         "28",
         "Cla_28"
        ],
        [
         "29",
         "GPe_29"
        ],
        [
         "30",
         "GPi_30"
        ],
        [
         "31",
         "Put_31"
        ],
        [
         "32",
         "RN_32"
        ],
        [
         "33",
         "GP_33"
        ],
        [
         "34",
         "Amy_34"
        ]
       ],
       "shape": {
        "columns": 1,
        "rows": 22
       }
      },
      "text/plain": [
       "index\n",
       "1     THALAMUS_1\n",
       "2           AV_2\n",
       "4           VA_4\n",
       "5          VLa_5\n",
       "6          VLP_6\n",
       "7          VPL_7\n",
       "8          Pul_8\n",
       "9          LGN_9\n",
       "10        MGN_10\n",
       "11         CM_11\n",
       "12      MD_Pf_12\n",
       "13         Hb_13\n",
       "14        MTT_14\n",
       "26        Acc_26\n",
       "27        Cau_27\n",
       "28        Cla_28\n",
       "29        GPe_29\n",
       "30        GPi_30\n",
       "31        Put_31\n",
       "32         RN_32\n",
       "33         GP_33\n",
       "34        Amy_34\n",
       "Name: struct, dtype: object"
      ]
     },
     "execution_count": 5,
     "metadata": {},
     "output_type": "execute_result"
    }
   ],
   "source": [
    "hips_thomas_ref"
   ]
  },
  {
   "cell_type": "markdown",
   "id": "a85ba3ef",
   "metadata": {},
   "source": [
    "## Functions"
   ]
  },
  {
   "cell_type": "code",
   "execution_count": 6,
   "id": "13fdf469",
   "metadata": {},
   "outputs": [],
   "source": [
    "def regress_all_nuclei(model_data, covariates, outcome, structs):\n",
    "    pvals = {}\n",
    "    coefs = {}\n",
    "    se = {}\n",
    "\n",
    "    if len(covariates) > 0:\n",
    "        plus_covariates = f\"+ {covariates}\"\n",
    "    else:\n",
    "        plus_covariates = \"\"\n",
    "    all_results = {}\n",
    "    for struct in structs:\n",
    "        formula = f\"{outcome} ~ {struct}*dzdur*dz_type5 {plus_covariates}\"\n",
    "        res = sm.OLS.from_formula(formula, data=model_data).fit()\n",
    "        pvals[struct] = res.pvalues[struct]\n",
    "        coefs[struct] = res.params[struct]\n",
    "        se[struct] = res.HC0_se[struct]\n",
    "        all_results[struct] = res\n",
    "\n",
    "    regression_results = pd.DataFrame({\"coef\": coefs, \"pvals\": pvals, \"se\": se})\n",
    "    regression_results[\"p_fdr\"] = stats.false_discovery_control(\n",
    "        regression_results[\"pvals\"], method=\"bh\"\n",
    "    )\n",
    "    # regression_results = regression_results.sort_values(by=\"coef\", ascending=True)\n",
    "    regression_results.insert(0, \"struct\", regression_results.index)\n",
    "    new_index = []\n",
    "    for item in regression_results.struct:\n",
    "        new_index.append(int(re.match(r\".+_(\\d+)$\", item)[1]))\n",
    "\n",
    "    for i, row in regression_results.iterrows():\n",
    "        if row[\"p_fdr\"] < 0.05:\n",
    "            regression_results.loc[i, \"coef_sig\"] = row[\"coef\"]\n",
    "        else:\n",
    "            regression_results.loc[i, \"coef_sig\"] = 0\n",
    "\n",
    "    regression_results.index = new_index\n",
    "    return regression_results\n",
    "\n",
    "\n",
    "def run_regressions(model_data, covariates, pred, outcomes):\n",
    "    pvals = {}\n",
    "    coefs = {}\n",
    "    se = {}\n",
    "    llci = {}\n",
    "    ulci = {}\n",
    "    ci_str = {}\n",
    "    r2 = {}\n",
    "\n",
    "    if len(covariates) > 0:\n",
    "        plus_covariates = f\"+ {covariates}\"\n",
    "    else:\n",
    "        plus_covariates = \"\"\n",
    "    all_results = {}\n",
    "    for outcome in outcomes:\n",
    "        formula = f\"{outcome} ~ {pred} {plus_covariates}\"\n",
    "        res = sm.OLS.from_formula(formula, data=model_data).fit()\n",
    "        pvals[outcome] = res.pvalues[pred]\n",
    "        coefs[outcome] = res.params[pred]\n",
    "        se[outcome] = res.HC0_se[pred]\n",
    "        all_results[outcome] = res\n",
    "        ci = res.conf_int()\n",
    "        llci[outcome] = ci.loc[pred, 0]\n",
    "        ulci[outcome] = ci.loc[pred, 1]\n",
    "        ci_str[outcome] = f\"[{llci[outcome]:.6f}, {ulci[outcome]:.6f}]\"\n",
    "        r2[outcome] = res.rsquared_adj\n",
    "\n",
    "    regression_results = pd.DataFrame(\n",
    "        {\n",
    "            \"coef\": coefs,\n",
    "            \"pvals\": pvals,\n",
    "            \"se\": se,\n",
    "            \"llci\": llci,\n",
    "            \"ulci\": ulci,\n",
    "            \"ci\": ci_str,\n",
    "        }\n",
    "    )\n",
    "    regression_results[\"p_fdr\"] = stats.false_discovery_control(\n",
    "        regression_results[\"pvals\"], method=\"bh\"\n",
    "    )\n",
    "    regression_results[\"R2\"] = r2\n",
    "\n",
    "    # regression_results = regression_results.sort_values(by=\"coef\", ascending=True)\n",
    "\n",
    "    for i, row in regression_results.iterrows():\n",
    "        if row[\"p_fdr\"] < 0.05:\n",
    "            regression_results.loc[i, \"coef_sig\"] = row[\"coef\"]\n",
    "        else:\n",
    "            regression_results.loc[i, \"coef_sig\"] = 0\n",
    "\n",
    "    return regression_results\n",
    "\n",
    "\n",
    "def fix_hipsthomas_regression_results(regression_results: pd.DataFrame):\n",
    "    regression_results.insert(0, \"outcome\", regression_results.index)\n",
    "    new_index = []\n",
    "    for item in regression_results.index:\n",
    "        new_index.append(int(re.match(r\".+_(\\d+)$\", item)[1]))\n",
    "    regression_results.index = new_index\n",
    "    regression_results.rename(columns={\"outcome\": \"struct\"}, inplace=True)\n",
    "    return regression_results\n",
    "\n",
    "\n",
    "def scatter_hist(\n",
    "    x, y, ax, ax_histx, ax_histy, nbins=10, light_color=None, dark_color=None\n",
    "):\n",
    "    if light_color is None:\n",
    "        light_color = \"#1f77b4\"\n",
    "    if dark_color is None:\n",
    "        dark_color = \"#1f77b4\"\n",
    "\n",
    "    # make axes look nice\n",
    "    ax_histx.set_axis_off()\n",
    "    ax_histy.set_axis_off()\n",
    "    ax.xaxis.set_ticks_position(\"both\")\n",
    "    ax.yaxis.set_ticks_position(\"both\")\n",
    "\n",
    "    # the scatter plot:\n",
    "    ax.scatter(x, y, color=dark_color)\n",
    "    ylim = ax.get_ylim()\n",
    "\n",
    "    # the histograms\n",
    "    xbins = np.linspace(np.min(x), np.max(x), nbins)\n",
    "    ybins = np.linspace(np.min(y), np.max(y), nbins)\n",
    "    ax_histx.hist(x, bins=xbins, color=\"gray\", density=True)\n",
    "    ax_histy.hist(\n",
    "        y, bins=ybins, orientation=\"horizontal\", color=light_color, density=True\n",
    "    )\n",
    "\n",
    "    # kde to plot on histograms\n",
    "    densityx = stats.gaussian_kde(x.dropna())\n",
    "    densityy = stats.gaussian_kde(y.dropna())\n",
    "    xx = np.linspace(np.min(x), np.max(x), 50)\n",
    "    xy = np.linspace(np.min(y), np.max(y), 50)\n",
    "    ax_histx.plot(xx, densityx(xx), color=\"black\")\n",
    "    ax_histy.plot(densityy(xy), xy, color=dark_color)\n",
    "\n",
    "    ax_histy.set_ylim(ylim)\n",
    "\n",
    "\n",
    "def plot_regression(\n",
    "    data,\n",
    "    predictor,\n",
    "    outcome,\n",
    "    covariates,\n",
    "    xlabel=None,\n",
    "    ylabel=None,\n",
    "    title=None,\n",
    "    color=\"blue1\",\n",
    "):\n",
    "    plus_covariates = \"\"\n",
    "    if len(covariates) > 0:\n",
    "        plus_covariates = f\"+ {' + '.join(covariates)}\"\n",
    "    if xlabel is None:\n",
    "        xlabel = predictor\n",
    "    if ylabel is None:\n",
    "        ylabel = outcome\n",
    "    if title is None:\n",
    "        title = f\"{outcome} vs {predictor}\"\n",
    "\n",
    "    light_color = colors[f\"light {color}\"]\n",
    "    dark_color = colors[f\"dark {color}\"]\n",
    "\n",
    "    formula = f\"{outcome} ~ {predictor} {plus_covariates}\"\n",
    "    res = sm.OLS.from_formula(formula, data=data).fit()\n",
    "    x, y_pred, y_lims = helpers.get_regression_y(data, res, predictor, outcome)\n",
    "\n",
    "    fig, axs = plt.subplot_mosaic(\n",
    "        [[\"histx\", \".\"], [\"scatter\", \"histy\"]],\n",
    "        figsize=(8, 6),\n",
    "        width_ratios=(4, 1),\n",
    "        height_ratios=(1, 4),\n",
    "        layout=\"constrained\",\n",
    "    )\n",
    "    axs[\"scatter\"].plot(x, y_pred, color=\"black\")\n",
    "    axs[\"scatter\"].fill_between(x, y_lims[0], y_lims[1], alpha=0.4, color=light_color)\n",
    "    scatter_hist(\n",
    "        data[predictor],\n",
    "        data[outcome],\n",
    "        axs[\"scatter\"],\n",
    "        axs[\"histx\"],\n",
    "        axs[\"histy\"],\n",
    "        light_color=light_color,\n",
    "        dark_color=dark_color,\n",
    "    )\n",
    "\n",
    "    axs[\"scatter\"].set_ylabel(ylabel)\n",
    "    axs[\"scatter\"].set_xlabel(xlabel)\n",
    "    fig.suptitle(title)\n",
    "    return fig, axs"
   ]
  },
  {
   "cell_type": "markdown",
   "id": "9807fbb7",
   "metadata": {},
   "source": [
    "## Assumption Checks"
   ]
  },
  {
   "cell_type": "code",
   "execution_count": null,
   "id": "4ae00cb1",
   "metadata": {},
   "outputs": [],
   "source": [
    "df_ms_z = df_z[df_z.dz_type2 == \"MS\"]\n",
    "model_data = df_ms_z.join([df_thomas_z])\n",
    "\n",
    "variables = [\"choroid_volume\", \"cortical_thickness\", \"THALAMUS_1\", \"t2lv\", \"PRL\"]\n",
    "\n",
    "vif_data = model_data[variables]\n",
    "vif = pd.DataFrame()\n",
    "vif[\"var\"] = vif_data.columns\n",
    "vif.set_index(\"var\", inplace=True)\n",
    "vif[\"VIF\"] = [\n",
    "    variance_inflation_factor(\n",
    "        vif_data.values,\n",
    "        i,\n",
    "    )\n",
    "    for i in range(len(vif_data.columns))\n",
    "]\n",
    "\n",
    "vif"
   ]
  },
  {
   "cell_type": "code",
   "execution_count": null,
   "id": "249fe25e",
   "metadata": {},
   "outputs": [
    {
     "data": {
      "text/plain": [
       "ShapiroResult(statistic=0.9952982257428726, pvalue=0.07867740797828145)"
      ]
     },
     "execution_count": 139,
     "metadata": {},
     "output_type": "execute_result"
    },
    {
     "data": {
      "image/png": "[encoded data removed]",
      "text/plain": [
       "<Figure size 640x480 with 1 Axes>"
      ]
     },
     "metadata": {},
     "output_type": "display_data"
    }
   ],
   "source": [
    "check = np.power(df_thomas[\"THALAMUS_1\"], 2)\n",
    "plt.hist(check)\n",
    "stats.shapiro(check, nan_policy=\"omit\")\n"
   ]
  },
  {
   "cell_type": "code",
   "execution_count": null,
   "id": "7bc6d691",
   "metadata": {},
   "outputs": [
    {
     "data": {
      "text/plain": [
       "(array([ 23.,  50.,  83., 137., 117.,  85.,  50.,  16.,  10.,   4.]),\n",
       " array([  2.559994 ,  27.2896887,  52.0193834,  76.7490781, 101.4787728,\n",
       "        126.2084675, 150.9381622, 175.6678569, 200.3975516, 225.1272463,\n",
       "        249.856941 ]),\n",
       " <BarContainer object of 10 artists>)"
      ]
     },
     "execution_count": 140,
     "metadata": {},
     "output_type": "execute_result"
    },
    {
     "data": {
      "image/png": "[encoded data removed]",
      "text/plain": [
       "<Figure size 640x480 with 1 Axes>"
      ]
     },
     "metadata": {},
     "output_type": "display_data"
    }
   ],
   "source": [
    "plt.hist(df_thomas[\"AV_2\"])"
   ]
  },
  {
   "cell_type": "markdown",
   "id": "8a061b89",
   "metadata": {},
   "source": [
    "## Analysis"
   ]
  },
  {
   "cell_type": "markdown",
   "id": "eb0c42dd",
   "metadata": {},
   "source": [
    "### CP and Other Inflammatory Markers"
   ]
  },
  {
   "cell_type": "code",
   "execution_count": 109,
   "id": "69f89bb1",
   "metadata": {},
   "outputs": [
    {
     "data": {
      "application/vnd.microsoft.datawrangler.viewer.v0+json": {
       "columns": [
        {
         "name": "index",
         "rawType": "object",
         "type": "string"
        },
        {
         "name": "coef",
         "rawType": "float64",
         "type": "float"
        },
        {
         "name": "pvals",
         "rawType": "float64",
         "type": "float"
        },
        {
         "name": "se",
         "rawType": "float64",
         "type": "float"
        },
        {
         "name": "llci",
         "rawType": "float64",
         "type": "float"
        },
        {
         "name": "ulci",
         "rawType": "float64",
         "type": "float"
        },
        {
         "name": "ci",
         "rawType": "object",
         "type": "string"
        },
        {
         "name": "p_fdr",
         "rawType": "float64",
         "type": "float"
        },
        {
         "name": "R2",
         "rawType": "float64",
         "type": "float"
        },
        {
         "name": "coef_sig",
         "rawType": "float64",
         "type": "float"
        }
       ],
       "ref": "6e247a47-3c1f-4317-ba00-ad57fb137b80",
       "rows": [
        [
         "ventricle_logtrans",
         "0.6201125115514359",
         "1.869061615390197e-53",
         "0.032681774410070294",
         "0.5508902603536324",
         "0.6893347627492393",
         "[0.550890, 0.689335]",
         "1.3083431307731378e-52",
         "0.5505998127443985",
         "0.6201125115514359"
        ],
        [
         "THALAMUS_1",
         "-0.4233475868868328",
         "3.4960556853791076e-24",
         "0.04654206149278175",
         "-0.5007941824296606",
         "-0.34590099134400515",
         "[-0.500794, -0.345901]",
         "1.2236194898826877e-23",
         "0.4305582158086486",
         "-0.4233475868868328"
        ],
        [
         "t2lv_logtrans",
         "0.33568353185695576",
         "1.0538442579985872e-12",
         "0.05026732138519823",
         "0.24565467309429478",
         "0.42571239061961674",
         "[0.245655, 0.425712]",
         "1.8442274514975275e-12",
         "0.1873127704808789",
         "0.33568353185695576"
        ],
        [
         "cortical_thickness",
         "-0.3258291789508148",
         "1.9133845803493163e-13",
         "0.04545572683665413",
         "-0.41030940211480316",
         "-0.24134895578682644",
         "[-0.410309, -0.241349]",
         "4.4645640208150716e-13",
         "0.32429614558515774",
         "-0.3258291789508148"
        ],
        [
         "brain",
         "-0.29702155958819254",
         "4.109654680414936e-11",
         "0.04399774389128884",
         "-0.38333638840999",
         "-0.21070673076639507",
         "[-0.383336, -0.210707]",
         "5.75351655258091e-11",
         "0.3059138586015786",
         "-0.29702155958819254"
        ],
        [
         "white",
         "-0.2871844930824546",
         "2.6943544293077975e-09",
         "0.04498696847010126",
         "-0.3801863776683774",
         "-0.1941826084965318",
         "[-0.380186, -0.194183]",
         "3.1434135008590973e-09",
         "0.18839023243965214",
         "-0.2871844930824546"
        ],
        [
         "grey",
         "-0.2408964730868079",
         "2.0629663324303457e-08",
         "0.04507484847057262",
         "-0.323854547206201",
         "-0.1579383989674148",
         "[-0.323855, -0.157938]",
         "2.0629663324303457e-08",
         "0.3580581562690732",
         "-0.2408964730868079"
        ]
       ],
       "shape": {
        "columns": 9,
        "rows": 7
       }
      },
      "text/html": [
       "<div>\n",
       "<style scoped>\n",
       "    .dataframe tbody tr th:only-of-type {\n",
       "        vertical-align: middle;\n",
       "    }\n",
       "\n",
       "    .dataframe tbody tr th {\n",
       "        vertical-align: top;\n",
       "    }\n",
       "\n",
       "    .dataframe thead th {\n",
       "        text-align: right;\n",
       "    }\n",
       "</style>\n",
       "<table border=\"1\" class=\"dataframe\">\n",
       "  <thead>\n",
       "    <tr style=\"text-align: right;\">\n",
       "      <th></th>\n",
       "      <th>coef</th>\n",
       "      <th>pvals</th>\n",
       "      <th>se</th>\n",
       "      <th>llci</th>\n",
       "      <th>ulci</th>\n",
       "      <th>ci</th>\n",
       "      <th>p_fdr</th>\n",
       "      <th>R2</th>\n",
       "      <th>coef_sig</th>\n",
       "    </tr>\n",
       "  </thead>\n",
       "  <tbody>\n",
       "    <tr>\n",
       "      <th>ventricle_logtrans</th>\n",
       "      <td>0.620113</td>\n",
       "      <td>1.869062e-53</td>\n",
       "      <td>0.032682</td>\n",
       "      <td>0.550890</td>\n",
       "      <td>0.689335</td>\n",
       "      <td>[0.550890, 0.689335]</td>\n",
       "      <td>1.308343e-52</td>\n",
       "      <td>0.550600</td>\n",
       "      <td>0.620113</td>\n",
       "    </tr>\n",
       "    <tr>\n",
       "      <th>THALAMUS_1</th>\n",
       "      <td>-0.423348</td>\n",
       "      <td>3.496056e-24</td>\n",
       "      <td>0.046542</td>\n",
       "      <td>-0.500794</td>\n",
       "      <td>-0.345901</td>\n",
       "      <td>[-0.500794, -0.345901]</td>\n",
       "      <td>1.223619e-23</td>\n",
       "      <td>0.430558</td>\n",
       "      <td>-0.423348</td>\n",
       "    </tr>\n",
       "    <tr>\n",
       "      <th>t2lv_logtrans</th>\n",
       "      <td>0.335684</td>\n",
       "      <td>1.053844e-12</td>\n",
       "      <td>0.050267</td>\n",
       "      <td>0.245655</td>\n",
       "      <td>0.425712</td>\n",
       "      <td>[0.245655, 0.425712]</td>\n",
       "      <td>1.844227e-12</td>\n",
       "      <td>0.187313</td>\n",
       "      <td>0.335684</td>\n",
       "    </tr>\n",
       "    <tr>\n",
       "      <th>cortical_thickness</th>\n",
       "      <td>-0.325829</td>\n",
       "      <td>1.913385e-13</td>\n",
       "      <td>0.045456</td>\n",
       "      <td>-0.410309</td>\n",
       "      <td>-0.241349</td>\n",
       "      <td>[-0.410309, -0.241349]</td>\n",
       "      <td>4.464564e-13</td>\n",
       "      <td>0.324296</td>\n",
       "      <td>-0.325829</td>\n",
       "    </tr>\n",
       "    <tr>\n",
       "      <th>brain</th>\n",
       "      <td>-0.297022</td>\n",
       "      <td>4.109655e-11</td>\n",
       "      <td>0.043998</td>\n",
       "      <td>-0.383336</td>\n",
       "      <td>-0.210707</td>\n",
       "      <td>[-0.383336, -0.210707]</td>\n",
       "      <td>5.753517e-11</td>\n",
       "      <td>0.305914</td>\n",
       "      <td>-0.297022</td>\n",
       "    </tr>\n",
       "    <tr>\n",
       "      <th>white</th>\n",
       "      <td>-0.287184</td>\n",
       "      <td>2.694354e-09</td>\n",
       "      <td>0.044987</td>\n",
       "      <td>-0.380186</td>\n",
       "      <td>-0.194183</td>\n",
       "      <td>[-0.380186, -0.194183]</td>\n",
       "      <td>3.143414e-09</td>\n",
       "      <td>0.188390</td>\n",
       "      <td>-0.287184</td>\n",
       "    </tr>\n",
       "    <tr>\n",
       "      <th>grey</th>\n",
       "      <td>-0.240896</td>\n",
       "      <td>2.062966e-08</td>\n",
       "      <td>0.045075</td>\n",
       "      <td>-0.323855</td>\n",
       "      <td>-0.157938</td>\n",
       "      <td>[-0.323855, -0.157938]</td>\n",
       "      <td>2.062966e-08</td>\n",
       "      <td>0.358058</td>\n",
       "      <td>-0.240896</td>\n",
       "    </tr>\n",
       "  </tbody>\n",
       "</table>\n",
       "</div>"
      ],
      "text/plain": [
       "                        coef         pvals        se      llci      ulci  \\\n",
       "ventricle_logtrans  0.620113  1.869062e-53  0.032682  0.550890  0.689335   \n",
       "THALAMUS_1         -0.423348  3.496056e-24  0.046542 -0.500794 -0.345901   \n",
       "t2lv_logtrans       0.335684  1.053844e-12  0.050267  0.245655  0.425712   \n",
       "cortical_thickness -0.325829  1.913385e-13  0.045456 -0.410309 -0.241349   \n",
       "brain              -0.297022  4.109655e-11  0.043998 -0.383336 -0.210707   \n",
       "white              -0.287184  2.694354e-09  0.044987 -0.380186 -0.194183   \n",
       "grey               -0.240896  2.062966e-08  0.045075 -0.323855 -0.157938   \n",
       "\n",
       "                                        ci         p_fdr        R2  coef_sig  \n",
       "ventricle_logtrans    [0.550890, 0.689335]  1.308343e-52  0.550600  0.620113  \n",
       "THALAMUS_1          [-0.500794, -0.345901]  1.223619e-23  0.430558 -0.423348  \n",
       "t2lv_logtrans         [0.245655, 0.425712]  1.844227e-12  0.187313  0.335684  \n",
       "cortical_thickness  [-0.410309, -0.241349]  4.464564e-13  0.324296 -0.325829  \n",
       "brain               [-0.383336, -0.210707]  5.753517e-11  0.305914 -0.297022  \n",
       "white               [-0.380186, -0.194183]  3.143414e-09  0.188390 -0.287184  \n",
       "grey                [-0.323855, -0.157938]  2.062966e-08  0.358058 -0.240896  "
      ]
     },
     "execution_count": 109,
     "metadata": {},
     "output_type": "execute_result"
    }
   ],
   "source": [
    "outcomes = [\n",
    "    \"t2lv_logtrans\",\n",
    "    \"THALAMUS_1\",\n",
    "    \"brain\",\n",
    "    \"grey\",\n",
    "    \"white\",\n",
    "    \"cortical_thickness\",\n",
    "    \"ventricle_logtrans\",\n",
    "]\n",
    "covariates = \"age + Female + tiv\"\n",
    "\n",
    "df_ms_z = df_z[df_z.dz_type2 == \"MS\"]\n",
    "model_data = df_ms_z.join([df_thomas_z])\n",
    "\n",
    "regression_results = run_regressions(model_data, covariates, \"choroid_volume\", outcomes)\n",
    "regression_results.sort_values(by=\"coef\", key=np.abs, ascending=False, inplace=True)\n",
    "regression_results.to_excel(fig_path / \"choroid_vs_inflammatory_markers.xlsx\")\n",
    "regression_results"
   ]
  },
  {
   "cell_type": "markdown",
   "id": "4cd9410c",
   "metadata": {},
   "source": [
    "#### Plot markers vs CP"
   ]
  },
  {
   "cell_type": "code",
   "execution_count": null,
   "id": "ab555e99",
   "metadata": {},
   "outputs": [
    {
     "data": {
      "image/png": "[encoded data removed]",
      "text/plain": [
       "<Figure size 800x600 with 3 Axes>"
      ]
     },
     "metadata": {},
     "output_type": "display_data"
    },
    {
     "data": {
      "image/png": "[encoded data removed]",
      "text/plain": [
       "<Figure size 800x600 with 3 Axes>"
      ]
     },
     "metadata": {},
     "output_type": "display_data"
    },
    {
     "data": {
      "image/png": "[encoded data removed]",
      "text/plain": [
       "<Figure size 800x600 with 3 Axes>"
      ]
     },
     "metadata": {},
     "output_type": "display_data"
    },
    {
     "data": {
      "image/png": "[encoded data removed]",
      "text/plain": [
       "<Figure size 800x600 with 3 Axes>"
      ]
     },
     "metadata": {},
     "output_type": "display_data"
    }
   ],
   "source": [
    "plot_data = df.join([df_thomas])\n",
    "plot_data = plot_data[plot_data.dz_type2 == \"MS\"]\n",
    "covariates = [\"age\", \"Female\", \"tiv\"]\n",
    "\n",
    "x_name = \"choroid_volume\"\n",
    "y_name = \"THALAMUS_1\"\n",
    "title = f\"{y_name} vs {x_name}, fit adjusted for {', '.join(covariates)}\"\n",
    "fig, axs = plot_regression(\n",
    "    plot_data,\n",
    "    x_name,\n",
    "    y_name,\n",
    "    covariates,\n",
    "    color=\"red1\",\n",
    "    xlabel=x_name,\n",
    "    ylabel=y_name,\n",
    "    title=title,\n",
    ")\n",
    "fig.savefig(fig_path / f\"plot_{y_name}_vs_{x_name}.png\", dpi=300)\n",
    "\n",
    "x_name = \"choroid_volume\"\n",
    "y_name = \"ventricle_logtrans\"\n",
    "title = f\"{y_name} vs {x_name}, fit adjusted for {', '.join(covariates)}\"\n",
    "fig, axs = plot_regression(\n",
    "    plot_data,\n",
    "    x_name,\n",
    "    y_name,\n",
    "    covariates,\n",
    "    color=\"purple1\",\n",
    "    xlabel=x_name,\n",
    "    ylabel=y_name,\n",
    "    title=title,\n",
    ")\n",
    "fig.savefig(fig_path / f\"plot_{y_name}_vs_{x_name}.png\", dpi=300)\n",
    "\n",
    "x_name = \"choroid_volume\"\n",
    "y_name = \"t2lv_logtrans\"\n",
    "title = f\"{y_name} vs {x_name}, fit adjusted for {', '.join(covariates)}\"\n",
    "fig, axs = plot_regression(\n",
    "    plot_data,\n",
    "    x_name,\n",
    "    y_name,\n",
    "    covariates,\n",
    "    color=\"blue1\",\n",
    "    xlabel=x_name,\n",
    "    ylabel=y_name,\n",
    "    title=title,\n",
    ")\n",
    "fig.savefig(fig_path / f\"plot_{y_name}_vs_{x_name}.png\", dpi=300)\n",
    "\n",
    "x_name = \"choroid_volume\"\n",
    "y_name = \"cortical_thickness\"\n",
    "title = f\"{y_name} vs {x_name}, fit adjusted for {', '.join(covariates)}\"\n",
    "fig, axs = plot_regression(\n",
    "    plot_data,\n",
    "    x_name,\n",
    "    y_name,\n",
    "    covariates,\n",
    "    color=\"green1\",\n",
    "    xlabel=x_name,\n",
    "    ylabel=y_name,\n",
    "    title=title,\n",
    ")\n",
    "fig.savefig(fig_path / f\"plot_{y_name}_vs_{x_name}.png\", dpi=300)"
   ]
  },
  {
   "cell_type": "markdown",
   "id": "14e1b26a",
   "metadata": {},
   "source": [
    "### HIPS-THOMAS and Inflammatory Markers"
   ]
  },
  {
   "cell_type": "markdown",
   "id": "b5d5355a",
   "metadata": {},
   "source": [
    "#### Each side for cartoon figure"
   ]
  },
  {
   "cell_type": "code",
   "execution_count": null,
   "id": "657d84cb",
   "metadata": {},
   "outputs": [],
   "source": [
    "df_ms_z = df_z[df_z.dz_type2 == \"MS\"]\n",
    "model_data_left = df_ms_z.join([df_thomas_left_z])\n",
    "model_data_right = df_ms_z.join([df_thomas_right_z])\n",
    "\n",
    "structs = hips_thomas_ref[thalamic_nuclei]\n",
    "covariates = \"age + Female + tiv + THALAMUS_1\"\n",
    "\n",
    "predictors = [\"choroid_volume\"]\n",
    "regression_results_left = {}\n",
    "regression_results_right = {}\n",
    "for i, predictor in enumerate(predictors):\n",
    "    results_left = run_regressions(model_data_left, covariates, predictor, structs)\n",
    "    results_left = fix_hipsthomas_regression_results(results_left)\n",
    "    results_right = run_regressions(model_data_right, covariates, predictor, structs)\n",
    "    results_right = fix_hipsthomas_regression_results(results_right)\n",
    "    all_coefs = pd.concat([results_left.coef, results_right.coef])\n",
    "    bins = np.linspace(all_coefs.min() - 0.0001, all_coefs.max() - 0.0001, 10)\n",
    "    ranks = np.digitize(results_left.coef, bins)\n",
    "    results_left.insert(1, \"bin\", ranks)\n",
    "    ranks = np.digitize(results_right.coef, bins)\n",
    "    results_right.insert(1, \"bin\", ranks)\n",
    "    regression_results_left[predictor] = results_left\n",
    "    regression_results_right[predictor] = results_right"
   ]
  },
  {
   "cell_type": "code",
   "execution_count": null,
   "id": "08b97069",
   "metadata": {},
   "outputs": [
    {
     "data": {
      "application/vnd.microsoft.datawrangler.viewer.v0+json": {
       "columns": [
        {
         "name": "index",
         "rawType": "int64",
         "type": "integer"
        },
        {
         "name": "struct",
         "rawType": "object",
         "type": "string"
        },
        {
         "name": "bin",
         "rawType": "int64",
         "type": "integer"
        },
        {
         "name": "coef",
         "rawType": "float64",
         "type": "float"
        },
        {
         "name": "pvals",
         "rawType": "float64",
         "type": "float"
        },
        {
         "name": "se",
         "rawType": "float64",
         "type": "float"
        },
        {
         "name": "llci",
         "rawType": "float64",
         "type": "float"
        },
        {
         "name": "ulci",
         "rawType": "float64",
         "type": "float"
        },
        {
         "name": "ci",
         "rawType": "object",
         "type": "string"
        },
        {
         "name": "p_fdr",
         "rawType": "float64",
         "type": "float"
        },
        {
         "name": "R2",
         "rawType": "float64",
         "type": "float"
        },
        {
         "name": "coef_sig",
         "rawType": "float64",
         "type": "float"
        }
       ],
       "ref": "68f6275e-6129-4b24-9da8-cd76ca7cf80f",
       "rows": [
        [
         "11",
         "CM_11",
         "1",
         "-0.08405644745777383",
         "0.03037395888978219",
         "0.03898235050736086",
         "-0.1601111077602634",
         "-0.00800178715528424",
         "[-0.160111, -0.008002]",
         "0.04339136984254598",
         "0.5472685895662581",
         "-0.08405644745777383"
        ],
        [
         "12",
         "MD_Pf_12",
         "1",
         "-0.08242932109179062",
         "0.0005993125953556341",
         "0.02415544153981318",
         "-0.1293020100087591",
         "-0.035556632174822134",
         "[-0.129302, -0.035557]",
         "0.001997708651185447",
         "0.8351862670928063",
         "-0.08242932109179062"
        ],
        [
         "8",
         "Pul_8",
         "2",
         "-0.050719150816676065",
         "0.013300774135157716",
         "0.01990769716416827",
         "-0.0908241381918054",
         "-0.010614163441546733",
         "[-0.090824, -0.010614]",
         "0.02216795689192953",
         "0.8732235988554866",
         "-0.050719150816676065"
        ],
        [
         "9",
         "LGN_9",
         "2",
         "-0.06274920645419459",
         "0.1313155043167265",
         "0.046236978230755205",
         "-0.14432369243610715",
         "0.018825279527717967",
         "[-0.144324, 0.018825]",
         "0.1487460300718799",
         "0.46297981390458043",
         "0.0"
        ],
        [
         "10",
         "MGN_10",
         "2",
         "-0.05451388952608961",
         "0.1338714270646919",
         "0.03846910873518021",
         "-0.12585282417052684",
         "0.01682504511834762",
         "[-0.125853, 0.016825]",
         "0.1487460300718799",
         "0.6111035808615238",
         "0.0"
        ],
        [
         "2",
         "AV_2",
         "4",
         "0.0006636990296173505",
         "0.9868640376041842",
         "0.043177937871831995",
         "-0.07851018816258187",
         "0.07983758622181658",
         "[-0.078510, 0.079838]",
         "0.9868640376041842",
         "0.46434747977729407",
         "0.0"
        ],
        [
         "5",
         "VLa_5",
         "7",
         "0.10499318425937715",
         "0.007940436554492088",
         "0.04090017007521911",
         "0.027608333446873384",
         "0.1823780350718809",
         "[0.027608, 0.182378]",
         "0.01826413096614426",
         "0.5060675445340466",
         "0.10499318425937715"
        ],
        [
         "6",
         "VLP_6",
         "7",
         "0.10214369470476048",
         "0.0001578475105976115",
         "0.02782954761070435",
         "0.04945823853305546",
         "0.15482915087646548",
         "[0.049458, 0.154829]",
         "0.0007892375529880575",
         "0.7816834412215458",
         "0.10214369470476048"
        ],
        [
         "7",
         "VPL_7",
         "7",
         "0.08785421885025572",
         "0.00913206548307213",
         "0.03692280021291608",
         "0.021912311246689423",
         "0.153796126453822",
         "[0.021912, 0.153796]",
         "0.01826413096614426",
         "0.6537241080014901",
         "0.08785421885025572"
        ],
        [
         "4",
         "VA_4",
         "9",
         "0.1593569162375596",
         "3.455557392435186e-06",
         "0.031014373850265498",
         "0.09271328754159376",
         "0.22600054493352545",
         "[0.092713, 0.226001]",
         "3.455557392435186e-05",
         "0.6544802347754317",
         "0.1593569162375596"
        ]
       ],
       "shape": {
        "columns": 11,
        "rows": 10
       }
      },
      "text/html": [
       "<div>\n",
       "<style scoped>\n",
       "    .dataframe tbody tr th:only-of-type {\n",
       "        vertical-align: middle;\n",
       "    }\n",
       "\n",
       "    .dataframe tbody tr th {\n",
       "        vertical-align: top;\n",
       "    }\n",
       "\n",
       "    .dataframe thead th {\n",
       "        text-align: right;\n",
       "    }\n",
       "</style>\n",
       "<table border=\"1\" class=\"dataframe\">\n",
       "  <thead>\n",
       "    <tr style=\"text-align: right;\">\n",
       "      <th></th>\n",
       "      <th>struct</th>\n",
       "      <th>bin</th>\n",
       "      <th>coef</th>\n",
       "      <th>pvals</th>\n",
       "      <th>se</th>\n",
       "      <th>llci</th>\n",
       "      <th>ulci</th>\n",
       "      <th>ci</th>\n",
       "      <th>p_fdr</th>\n",
       "      <th>R2</th>\n",
       "      <th>coef_sig</th>\n",
       "    </tr>\n",
       "  </thead>\n",
       "  <tbody>\n",
       "    <tr>\n",
       "      <th>11</th>\n",
       "      <td>CM_11</td>\n",
       "      <td>1</td>\n",
       "      <td>-0.084056</td>\n",
       "      <td>0.030374</td>\n",
       "      <td>0.038982</td>\n",
       "      <td>-0.160111</td>\n",
       "      <td>-0.008002</td>\n",
       "      <td>[-0.160111, -0.008002]</td>\n",
       "      <td>0.043391</td>\n",
       "      <td>0.547269</td>\n",
       "      <td>-0.084056</td>\n",
       "    </tr>\n",
       "    <tr>\n",
       "      <th>12</th>\n",
       "      <td>MD_Pf_12</td>\n",
       "      <td>1</td>\n",
       "      <td>-0.082429</td>\n",
       "      <td>0.000599</td>\n",
       "      <td>0.024155</td>\n",
       "      <td>-0.129302</td>\n",
       "      <td>-0.035557</td>\n",
       "      <td>[-0.129302, -0.035557]</td>\n",
       "      <td>0.001998</td>\n",
       "      <td>0.835186</td>\n",
       "      <td>-0.082429</td>\n",
       "    </tr>\n",
       "    <tr>\n",
       "      <th>8</th>\n",
       "      <td>Pul_8</td>\n",
       "      <td>2</td>\n",
       "      <td>-0.050719</td>\n",
       "      <td>0.013301</td>\n",
       "      <td>0.019908</td>\n",
       "      <td>-0.090824</td>\n",
       "      <td>-0.010614</td>\n",
       "      <td>[-0.090824, -0.010614]</td>\n",
       "      <td>0.022168</td>\n",
       "      <td>0.873224</td>\n",
       "      <td>-0.050719</td>\n",
       "    </tr>\n",
       "    <tr>\n",
       "      <th>9</th>\n",
       "      <td>LGN_9</td>\n",
       "      <td>2</td>\n",
       "      <td>-0.062749</td>\n",
       "      <td>0.131316</td>\n",
       "      <td>0.046237</td>\n",
       "      <td>-0.144324</td>\n",
       "      <td>0.018825</td>\n",
       "      <td>[-0.144324, 0.018825]</td>\n",
       "      <td>0.148746</td>\n",
       "      <td>0.462980</td>\n",
       "      <td>0.000000</td>\n",
       "    </tr>\n",
       "    <tr>\n",
       "      <th>10</th>\n",
       "      <td>MGN_10</td>\n",
       "      <td>2</td>\n",
       "      <td>-0.054514</td>\n",
       "      <td>0.133871</td>\n",
       "      <td>0.038469</td>\n",
       "      <td>-0.125853</td>\n",
       "      <td>0.016825</td>\n",
       "      <td>[-0.125853, 0.016825]</td>\n",
       "      <td>0.148746</td>\n",
       "      <td>0.611104</td>\n",
       "      <td>0.000000</td>\n",
       "    </tr>\n",
       "    <tr>\n",
       "      <th>2</th>\n",
       "      <td>AV_2</td>\n",
       "      <td>4</td>\n",
       "      <td>0.000664</td>\n",
       "      <td>0.986864</td>\n",
       "      <td>0.043178</td>\n",
       "      <td>-0.078510</td>\n",
       "      <td>0.079838</td>\n",
       "      <td>[-0.078510, 0.079838]</td>\n",
       "      <td>0.986864</td>\n",
       "      <td>0.464347</td>\n",
       "      <td>0.000000</td>\n",
       "    </tr>\n",
       "    <tr>\n",
       "      <th>5</th>\n",
       "      <td>VLa_5</td>\n",
       "      <td>7</td>\n",
       "      <td>0.104993</td>\n",
       "      <td>0.007940</td>\n",
       "      <td>0.040900</td>\n",
       "      <td>0.027608</td>\n",
       "      <td>0.182378</td>\n",
       "      <td>[0.027608, 0.182378]</td>\n",
       "      <td>0.018264</td>\n",
       "      <td>0.506068</td>\n",
       "      <td>0.104993</td>\n",
       "    </tr>\n",
       "    <tr>\n",
       "      <th>6</th>\n",
       "      <td>VLP_6</td>\n",
       "      <td>7</td>\n",
       "      <td>0.102144</td>\n",
       "      <td>0.000158</td>\n",
       "      <td>0.027830</td>\n",
       "      <td>0.049458</td>\n",
       "      <td>0.154829</td>\n",
       "      <td>[0.049458, 0.154829]</td>\n",
       "      <td>0.000789</td>\n",
       "      <td>0.781683</td>\n",
       "      <td>0.102144</td>\n",
       "    </tr>\n",
       "    <tr>\n",
       "      <th>7</th>\n",
       "      <td>VPL_7</td>\n",
       "      <td>7</td>\n",
       "      <td>0.087854</td>\n",
       "      <td>0.009132</td>\n",
       "      <td>0.036923</td>\n",
       "      <td>0.021912</td>\n",
       "      <td>0.153796</td>\n",
       "      <td>[0.021912, 0.153796]</td>\n",
       "      <td>0.018264</td>\n",
       "      <td>0.653724</td>\n",
       "      <td>0.087854</td>\n",
       "    </tr>\n",
       "    <tr>\n",
       "      <th>4</th>\n",
       "      <td>VA_4</td>\n",
       "      <td>9</td>\n",
       "      <td>0.159357</td>\n",
       "      <td>0.000003</td>\n",
       "      <td>0.031014</td>\n",
       "      <td>0.092713</td>\n",
       "      <td>0.226001</td>\n",
       "      <td>[0.092713, 0.226001]</td>\n",
       "      <td>0.000035</td>\n",
       "      <td>0.654480</td>\n",
       "      <td>0.159357</td>\n",
       "    </tr>\n",
       "  </tbody>\n",
       "</table>\n",
       "</div>"
      ],
      "text/plain": [
       "      struct  bin      coef     pvals        se      llci      ulci  \\\n",
       "11     CM_11    1 -0.084056  0.030374  0.038982 -0.160111 -0.008002   \n",
       "12  MD_Pf_12    1 -0.082429  0.000599  0.024155 -0.129302 -0.035557   \n",
       "8      Pul_8    2 -0.050719  0.013301  0.019908 -0.090824 -0.010614   \n",
       "9      LGN_9    2 -0.062749  0.131316  0.046237 -0.144324  0.018825   \n",
       "10    MGN_10    2 -0.054514  0.133871  0.038469 -0.125853  0.016825   \n",
       "2       AV_2    4  0.000664  0.986864  0.043178 -0.078510  0.079838   \n",
       "5      VLa_5    7  0.104993  0.007940  0.040900  0.027608  0.182378   \n",
       "6      VLP_6    7  0.102144  0.000158  0.027830  0.049458  0.154829   \n",
       "7      VPL_7    7  0.087854  0.009132  0.036923  0.021912  0.153796   \n",
       "4       VA_4    9  0.159357  0.000003  0.031014  0.092713  0.226001   \n",
       "\n",
       "                        ci     p_fdr        R2  coef_sig  \n",
       "11  [-0.160111, -0.008002]  0.043391  0.547269 -0.084056  \n",
       "12  [-0.129302, -0.035557]  0.001998  0.835186 -0.082429  \n",
       "8   [-0.090824, -0.010614]  0.022168  0.873224 -0.050719  \n",
       "9    [-0.144324, 0.018825]  0.148746  0.462980  0.000000  \n",
       "10   [-0.125853, 0.016825]  0.148746  0.611104  0.000000  \n",
       "2    [-0.078510, 0.079838]  0.986864  0.464347  0.000000  \n",
       "5     [0.027608, 0.182378]  0.018264  0.506068  0.104993  \n",
       "6     [0.049458, 0.154829]  0.000789  0.781683  0.102144  \n",
       "7     [0.021912, 0.153796]  0.018264  0.653724  0.087854  \n",
       "4     [0.092713, 0.226001]  0.000035  0.654480  0.159357  "
      ]
     },
     "execution_count": 86,
     "metadata": {},
     "output_type": "execute_result"
    }
   ],
   "source": [
    "regression_results_right[\"choroid_volume\"].sort_values(by=\"bin\")"
   ]
  },
  {
   "cell_type": "code",
   "execution_count": null,
   "id": "550902d0",
   "metadata": {},
   "outputs": [],
   "source": [
    "regression_results_left[\"choroid_volume\"].sort_values(by=\"bin\")"
   ]
  },
  {
   "cell_type": "markdown",
   "id": "ab5a713f",
   "metadata": {},
   "source": [
    "#### Bilateral for table"
   ]
  },
  {
   "cell_type": "code",
   "execution_count": null,
   "id": "2e470c6c",
   "metadata": {},
   "outputs": [],
   "source": [
    "df_ms_z = df_z[df_z.dz_type2 == \"MS\"]\n",
    "model_data = df_ms_z.join([df_thomas_norm_z])\n",
    "\n",
    "structs = hips_thomas_ref[thalamic_nuclei]\n",
    "covariates = \"age + Female + tiv\"\n",
    "\n",
    "predictors = [\"choroid_volume\", \"ventricle_volume\", \"cortical_thickness\", \"t2lv\", \"PRL\"]\n",
    "regression_results = {}\n",
    "for i, predictor in enumerate(predictors):\n",
    "    result = run_regressions(model_data, covariates, predictor, structs)\n",
    "    regression_results[predictor] = fix_hipsthomas_regression_results(result)\n",
    "\n",
    "save_path = fig_path / \"hipsthomas_and_inflammatory_markers_normed_volumes.xlsx\"\n",
    "\n",
    "with pd.ExcelWriter(save_path) as writer:\n",
    "    for predictor in regression_results:\n",
    "        regression_results[predictor].to_excel(writer, sheet_name=predictor)\n"
   ]
  },
  {
   "cell_type": "code",
   "execution_count": 16,
   "id": "a1075205",
   "metadata": {},
   "outputs": [
    {
     "data": {
      "application/vnd.microsoft.datawrangler.viewer.v0+json": {
       "columns": [
        {
         "name": "index",
         "rawType": "object",
         "type": "string"
        },
        {
         "name": "coef",
         "rawType": "float64",
         "type": "float"
        },
        {
         "name": "pvals",
         "rawType": "float64",
         "type": "float"
        },
        {
         "name": "se",
         "rawType": "float64",
         "type": "float"
        },
        {
         "name": "llci",
         "rawType": "float64",
         "type": "float"
        },
        {
         "name": "ulci",
         "rawType": "float64",
         "type": "float"
        },
        {
         "name": "ci",
         "rawType": "object",
         "type": "string"
        },
        {
         "name": "p_fdr",
         "rawType": "float64",
         "type": "float"
        },
        {
         "name": "R2",
         "rawType": "float64",
         "type": "float"
        },
        {
         "name": "coef_sig",
         "rawType": "float64",
         "type": "float"
        }
       ],
       "ref": "637fc929-5c24-4b86-bba2-53cac9775d9a",
       "rows": [
        [
         "AV_2",
         "0.021069066928972497",
         "0.5840371442143799",
         "0.041680636160753015",
         "-0.05450081903037697",
         "0.09663895288832196",
         "[-0.054501, 0.096639]",
         "0.5840371442143799",
         "0.5618654971501363",
         "0.0"
        ],
        [
         "VA_4",
         "0.14739004658321858",
         "1.6204975016168073e-05",
         "0.02979005081569814",
         "0.08092772321335999",
         "0.21385236995307716",
         "[0.080928, 0.213852]",
         "0.00016204975016168073",
         "0.6898342630473486",
         "0.14739004658321858"
        ],
        [
         "VLa_5",
         "0.12164582670160552",
         "0.001380395829938866",
         "0.03966950087420879",
         "0.04736860155076886",
         "0.1959230518524422",
         "[0.047369, 0.195923]",
         "0.0046013194331295535",
         "0.5907312990433131",
         "0.12164582670160552"
        ],
        [
         "VLP_6",
         "0.08760619394543324",
         "0.0006231644875177411",
         "0.025361132792304036",
         "0.037634357015255755",
         "0.13757803087561074",
         "[0.037634, 0.137578]",
         "0.0031158224375887056",
         "0.822359057284545",
         "0.08760619394543324"
        ],
        [
         "VPL_7",
         "0.052965549108214945",
         "0.07202736189032441",
         "0.028219189112818052",
         "-0.004759834252139966",
         "0.11069093246856986",
         "[-0.004760, 0.110691]",
         "0.09003420236290552",
         "0.7614458225681673",
         "0.0"
        ],
        [
         "Pul_8",
         "-0.04061843093555616",
         "0.03641846735587688",
         "0.0194579737722363",
         "-0.07865805509978768",
         "-0.002578806771324625",
         "[-0.078658, -0.002579]",
         "0.07283693471175376",
         "0.8958366830412995",
         "0.0"
        ],
        [
         "LGN_9",
         "-0.044988603899720654",
         "0.25627994421504763",
         "0.04075291862956819",
         "-0.12276920002517763",
         "0.03279199222573632",
         "[-0.122769, 0.032792]",
         "0.28475549357227514",
         "0.5646664005509553",
         "0.0"
        ],
        [
         "MGN_10",
         "-0.06031636702027796",
         "0.06526641376536683",
         "0.03043464395841954",
         "-0.12446120635127919",
         "0.003828472310723273",
         "[-0.124461, 0.003828]",
         "0.09003420236290552",
         "0.7066278960954692",
         "0.0"
        ],
        [
         "CM_11",
         "-0.08341741218747284",
         "0.022883712361449843",
         "0.03904057200702637",
         "-0.1552194177466803",
         "-0.011615406628265365",
         "[-0.155219, -0.011615]",
         "0.05720928090362461",
         "0.6252290638177045",
         "0.0"
        ],
        [
         "MD_Pf_12",
         "-0.040050665074225104",
         "0.06218333850805619",
         "0.021683829196114106",
         "-0.08214931206119463",
         "0.002047981912744433",
         "[-0.082149, 0.002048]",
         "0.09003420236290552",
         "0.8784645324800524",
         "0.0"
        ]
       ],
       "shape": {
        "columns": 9,
        "rows": 10
       }
      },
      "text/html": [
       "<div>\n",
       "<style scoped>\n",
       "    .dataframe tbody tr th:only-of-type {\n",
       "        vertical-align: middle;\n",
       "    }\n",
       "\n",
       "    .dataframe tbody tr th {\n",
       "        vertical-align: top;\n",
       "    }\n",
       "\n",
       "    .dataframe thead th {\n",
       "        text-align: right;\n",
       "    }\n",
       "</style>\n",
       "<table border=\"1\" class=\"dataframe\">\n",
       "  <thead>\n",
       "    <tr style=\"text-align: right;\">\n",
       "      <th></th>\n",
       "      <th>coef</th>\n",
       "      <th>pvals</th>\n",
       "      <th>se</th>\n",
       "      <th>llci</th>\n",
       "      <th>ulci</th>\n",
       "      <th>ci</th>\n",
       "      <th>p_fdr</th>\n",
       "      <th>R2</th>\n",
       "      <th>coef_sig</th>\n",
       "    </tr>\n",
       "  </thead>\n",
       "  <tbody>\n",
       "    <tr>\n",
       "      <th>AV_2</th>\n",
       "      <td>0.021069</td>\n",
       "      <td>0.584037</td>\n",
       "      <td>0.041681</td>\n",
       "      <td>-0.054501</td>\n",
       "      <td>0.096639</td>\n",
       "      <td>[-0.054501, 0.096639]</td>\n",
       "      <td>0.584037</td>\n",
       "      <td>0.561865</td>\n",
       "      <td>0.000000</td>\n",
       "    </tr>\n",
       "    <tr>\n",
       "      <th>VA_4</th>\n",
       "      <td>0.147390</td>\n",
       "      <td>0.000016</td>\n",
       "      <td>0.029790</td>\n",
       "      <td>0.080928</td>\n",
       "      <td>0.213852</td>\n",
       "      <td>[0.080928, 0.213852]</td>\n",
       "      <td>0.000162</td>\n",
       "      <td>0.689834</td>\n",
       "      <td>0.147390</td>\n",
       "    </tr>\n",
       "    <tr>\n",
       "      <th>VLa_5</th>\n",
       "      <td>0.121646</td>\n",
       "      <td>0.001380</td>\n",
       "      <td>0.039670</td>\n",
       "      <td>0.047369</td>\n",
       "      <td>0.195923</td>\n",
       "      <td>[0.047369, 0.195923]</td>\n",
       "      <td>0.004601</td>\n",
       "      <td>0.590731</td>\n",
       "      <td>0.121646</td>\n",
       "    </tr>\n",
       "    <tr>\n",
       "      <th>VLP_6</th>\n",
       "      <td>0.087606</td>\n",
       "      <td>0.000623</td>\n",
       "      <td>0.025361</td>\n",
       "      <td>0.037634</td>\n",
       "      <td>0.137578</td>\n",
       "      <td>[0.037634, 0.137578]</td>\n",
       "      <td>0.003116</td>\n",
       "      <td>0.822359</td>\n",
       "      <td>0.087606</td>\n",
       "    </tr>\n",
       "    <tr>\n",
       "      <th>VPL_7</th>\n",
       "      <td>0.052966</td>\n",
       "      <td>0.072027</td>\n",
       "      <td>0.028219</td>\n",
       "      <td>-0.004760</td>\n",
       "      <td>0.110691</td>\n",
       "      <td>[-0.004760, 0.110691]</td>\n",
       "      <td>0.090034</td>\n",
       "      <td>0.761446</td>\n",
       "      <td>0.000000</td>\n",
       "    </tr>\n",
       "    <tr>\n",
       "      <th>Pul_8</th>\n",
       "      <td>-0.040618</td>\n",
       "      <td>0.036418</td>\n",
       "      <td>0.019458</td>\n",
       "      <td>-0.078658</td>\n",
       "      <td>-0.002579</td>\n",
       "      <td>[-0.078658, -0.002579]</td>\n",
       "      <td>0.072837</td>\n",
       "      <td>0.895837</td>\n",
       "      <td>0.000000</td>\n",
       "    </tr>\n",
       "    <tr>\n",
       "      <th>LGN_9</th>\n",
       "      <td>-0.044989</td>\n",
       "      <td>0.256280</td>\n",
       "      <td>0.040753</td>\n",
       "      <td>-0.122769</td>\n",
       "      <td>0.032792</td>\n",
       "      <td>[-0.122769, 0.032792]</td>\n",
       "      <td>0.284755</td>\n",
       "      <td>0.564666</td>\n",
       "      <td>0.000000</td>\n",
       "    </tr>\n",
       "    <tr>\n",
       "      <th>MGN_10</th>\n",
       "      <td>-0.060316</td>\n",
       "      <td>0.065266</td>\n",
       "      <td>0.030435</td>\n",
       "      <td>-0.124461</td>\n",
       "      <td>0.003828</td>\n",
       "      <td>[-0.124461, 0.003828]</td>\n",
       "      <td>0.090034</td>\n",
       "      <td>0.706628</td>\n",
       "      <td>0.000000</td>\n",
       "    </tr>\n",
       "    <tr>\n",
       "      <th>CM_11</th>\n",
       "      <td>-0.083417</td>\n",
       "      <td>0.022884</td>\n",
       "      <td>0.039041</td>\n",
       "      <td>-0.155219</td>\n",
       "      <td>-0.011615</td>\n",
       "      <td>[-0.155219, -0.011615]</td>\n",
       "      <td>0.057209</td>\n",
       "      <td>0.625229</td>\n",
       "      <td>0.000000</td>\n",
       "    </tr>\n",
       "    <tr>\n",
       "      <th>MD_Pf_12</th>\n",
       "      <td>-0.040051</td>\n",
       "      <td>0.062183</td>\n",
       "      <td>0.021684</td>\n",
       "      <td>-0.082149</td>\n",
       "      <td>0.002048</td>\n",
       "      <td>[-0.082149, 0.002048]</td>\n",
       "      <td>0.090034</td>\n",
       "      <td>0.878465</td>\n",
       "      <td>0.000000</td>\n",
       "    </tr>\n",
       "  </tbody>\n",
       "</table>\n",
       "</div>"
      ],
      "text/plain": [
       "              coef     pvals        se      llci      ulci  \\\n",
       "AV_2      0.021069  0.584037  0.041681 -0.054501  0.096639   \n",
       "VA_4      0.147390  0.000016  0.029790  0.080928  0.213852   \n",
       "VLa_5     0.121646  0.001380  0.039670  0.047369  0.195923   \n",
       "VLP_6     0.087606  0.000623  0.025361  0.037634  0.137578   \n",
       "VPL_7     0.052966  0.072027  0.028219 -0.004760  0.110691   \n",
       "Pul_8    -0.040618  0.036418  0.019458 -0.078658 -0.002579   \n",
       "LGN_9    -0.044989  0.256280  0.040753 -0.122769  0.032792   \n",
       "MGN_10   -0.060316  0.065266  0.030435 -0.124461  0.003828   \n",
       "CM_11    -0.083417  0.022884  0.039041 -0.155219 -0.011615   \n",
       "MD_Pf_12 -0.040051  0.062183  0.021684 -0.082149  0.002048   \n",
       "\n",
       "                              ci     p_fdr        R2  coef_sig  \n",
       "AV_2       [-0.054501, 0.096639]  0.584037  0.561865  0.000000  \n",
       "VA_4        [0.080928, 0.213852]  0.000162  0.689834  0.147390  \n",
       "VLa_5       [0.047369, 0.195923]  0.004601  0.590731  0.121646  \n",
       "VLP_6       [0.037634, 0.137578]  0.003116  0.822359  0.087606  \n",
       "VPL_7      [-0.004760, 0.110691]  0.090034  0.761446  0.000000  \n",
       "Pul_8     [-0.078658, -0.002579]  0.072837  0.895837  0.000000  \n",
       "LGN_9      [-0.122769, 0.032792]  0.284755  0.564666  0.000000  \n",
       "MGN_10     [-0.124461, 0.003828]  0.090034  0.706628  0.000000  \n",
       "CM_11     [-0.155219, -0.011615]  0.057209  0.625229  0.000000  \n",
       "MD_Pf_12   [-0.082149, 0.002048]  0.090034  0.878465  0.000000  "
      ]
     },
     "execution_count": 16,
     "metadata": {},
     "output_type": "execute_result"
    }
   ],
   "source": [
    "df_ms_z = df_z[df_z.dz_type2 == \"MS\"]\n",
    "model_data = df_ms_z.join([df_thomas_z])\n",
    "model_data = pd.concat([model_data, pd.get_dummies(model_data[\"dz_type5\"])], axis=1)\n",
    "\n",
    "structs = hips_thomas_ref[thalamic_nuclei]\n",
    "\n",
    "\n",
    "formula = \"choroid_volume ~ ventricle_volume + age + Female + tiv + THALAMUS_1\"\n",
    "res = sm.OLS.from_formula(formula, data=model_data).fit()\n",
    "model_data[\"choroid_resid\"] = res.resid\n",
    "\n",
    "predictor1 = \"choroid_volume\"\n",
    "predictor2 = \"ventricle_volume\"\n",
    "predictor3 = \"choroid_resid\"\n",
    "covariates1 = \"age + Female + tiv + ventricle_volume + THALAMUS_1\"\n",
    "covariates2 = \"age + Female + tiv + choroid_volume\"\n",
    "covariates3 = \"age + Female + tiv\"\n",
    "result = run_regressions(model_data, covariates1, predictor1, structs)\n",
    "# result.to_excel(fig_path / \"hipsthomas_ventricle_choroid_control.xlsx\")\n",
    "result"
   ]
  },
  {
   "cell_type": "code",
   "execution_count": null,
   "id": "193f8423",
   "metadata": {},
   "outputs": [
    {
     "data": {
      "application/vnd.microsoft.datawrangler.viewer.v0+json": {
       "columns": [
        {
         "name": "index",
         "rawType": "int64",
         "type": "integer"
        },
        {
         "name": "struct",
         "rawType": "object",
         "type": "string"
        },
        {
         "name": "coef",
         "rawType": "float64",
         "type": "float"
        },
        {
         "name": "pvals",
         "rawType": "float64",
         "type": "float"
        },
        {
         "name": "interaction_coefs",
         "rawType": "float64",
         "type": "float"
        },
        {
         "name": "interaction_p",
         "rawType": "float64",
         "type": "float"
        }
       ],
       "ref": "f2d2b492-0db4-4201-9fce-ed8c919844c5",
       "rows": [
        [
         "12",
         "MD_Pf_12",
         "-0.25562787286030314",
         "1.0686445479189931e-07",
         "0.020159494662418818",
         "0.6150663845298501"
        ],
        [
         "1",
         "THALAMUS_1",
         "-0.253020438077959",
         "2.528566124909481e-08",
         "0.007496406034372564",
         "0.8427590988014249"
        ],
        [
         "8",
         "Pul_8",
         "-0.24649588481622264",
         "3.117359180406316e-07",
         "0.0177283291540493",
         "0.6592235226941212"
        ],
        [
         "7",
         "VPL_7",
         "-0.1911330667855979",
         "0.00013158826565637884",
         "-0.046530156012316484",
         "0.26792118303236584"
        ],
        [
         "9",
         "LGN_9",
         "-0.18137463058153594",
         "0.00057390285510327",
         "-0.03198325126051699",
         "0.47032370756215114"
        ],
        [
         "26",
         "Acc_26",
         "-0.17447476467314293",
         "0.00013715795539430152",
         "0.005610926128699727",
         "0.883884574992678"
        ],
        [
         "6",
         "VLP_6",
         "-0.16949229040049832",
         "0.0004072560184501005",
         "-0.033984793651556613",
         "0.3992421892938486"
        ],
        [
         "30",
         "GPi_30",
         "-0.16498346425900787",
         "0.00108105750128189",
         "0.11822653600795689",
         "0.005570448934162671"
        ],
        [
         "10",
         "MGN_10",
         "-0.15818018091720404",
         "0.0007163014287874701",
         "0.041143700912809875",
         "0.29571073623805344"
        ],
        [
         "31",
         "Put_31",
         "-0.1570122702992291",
         "0.0004071973834772968",
         "0.020877540708592712",
         "0.5760626855814163"
        ],
        [
         "4",
         "VA_4",
         "-0.1482143113273089",
         "0.001360461475021418",
         "-0.04618495043774419",
         "0.23602551704797498"
        ],
        [
         "33",
         "GP_33",
         "-0.14316032829788616",
         "0.0029206100542641215",
         "0.08742252845856821",
         "0.03137801218679812"
        ],
        [
         "2",
         "AV_2",
         "-0.13680008049086617",
         "0.006230640794762397",
         "0.01036189128329051",
         "0.8058344088223706"
        ],
        [
         "29",
         "GPe_29",
         "-0.1298633944116336",
         "0.007595217964162098",
         "0.0728108428241426",
         "0.07633400191432226"
        ],
        [
         "5",
         "VLa_5",
         "-0.12272670525675738",
         "0.008462148097132775",
         "-0.0626776380899811",
         "0.11122662213123"
        ],
        [
         "11",
         "CM_11",
         "-0.11966861827172881",
         "0.010833332815655164",
         "0.04001174621367832",
         "0.31266660332696405"
        ],
        [
         "28",
         "Cla_28",
         "-0.11526781698704154",
         "0.013794988083570124",
         "-0.05005328886899818",
         "0.20531048877031696"
        ],
        [
         "14",
         "MTT_14",
         "-0.10755108260976966",
         "0.02836771806777614",
         "-0.021806300501736",
         "0.5985625574865299"
        ],
        [
         "32",
         "RN_32",
         "-0.08477551004597206",
         "0.052341418860744456",
         "0.013250387771342045",
         "0.7195594092407394"
        ],
        [
         "34",
         "Amy_34",
         "-0.0596455269845374",
         "0.28969040550332276",
         "0.00991226692301335",
         "0.8352049297650589"
        ],
        [
         "13",
         "Hb_13",
         "-0.04118481731232165",
         "0.46926357522633677",
         "0.039333146337117236",
         "0.41417027826271946"
        ],
        [
         "27",
         "Cau_27",
         "-0.023461368319546906",
         "0.6310996798698915",
         "0.03804944549686502",
         "0.35765049146806316"
        ]
       ],
       "shape": {
        "columns": 5,
        "rows": 22
       }
      },
      "text/html": [
       "<div>\n",
       "<style scoped>\n",
       "    .dataframe tbody tr th:only-of-type {\n",
       "        vertical-align: middle;\n",
       "    }\n",
       "\n",
       "    .dataframe tbody tr th {\n",
       "        vertical-align: top;\n",
       "    }\n",
       "\n",
       "    .dataframe thead th {\n",
       "        text-align: right;\n",
       "    }\n",
       "</style>\n",
       "<table border=\"1\" class=\"dataframe\">\n",
       "  <thead>\n",
       "    <tr style=\"text-align: right;\">\n",
       "      <th></th>\n",
       "      <th>struct</th>\n",
       "      <th>coef</th>\n",
       "      <th>pvals</th>\n",
       "      <th>interaction_coefs</th>\n",
       "      <th>interaction_p</th>\n",
       "    </tr>\n",
       "  </thead>\n",
       "  <tbody>\n",
       "    <tr>\n",
       "      <th>12</th>\n",
       "      <td>MD_Pf_12</td>\n",
       "      <td>-0.255628</td>\n",
       "      <td>1.068645e-07</td>\n",
       "      <td>0.020159</td>\n",
       "      <td>0.615066</td>\n",
       "    </tr>\n",
       "    <tr>\n",
       "      <th>1</th>\n",
       "      <td>THALAMUS_1</td>\n",
       "      <td>-0.253020</td>\n",
       "      <td>2.528566e-08</td>\n",
       "      <td>0.007496</td>\n",
       "      <td>0.842759</td>\n",
       "    </tr>\n",
       "    <tr>\n",
       "      <th>8</th>\n",
       "      <td>Pul_8</td>\n",
       "      <td>-0.246496</td>\n",
       "      <td>3.117359e-07</td>\n",
       "      <td>0.017728</td>\n",
       "      <td>0.659224</td>\n",
       "    </tr>\n",
       "    <tr>\n",
       "      <th>7</th>\n",
       "      <td>VPL_7</td>\n",
       "      <td>-0.191133</td>\n",
       "      <td>1.315883e-04</td>\n",
       "      <td>-0.046530</td>\n",
       "      <td>0.267921</td>\n",
       "    </tr>\n",
       "    <tr>\n",
       "      <th>9</th>\n",
       "      <td>LGN_9</td>\n",
       "      <td>-0.181375</td>\n",
       "      <td>5.739029e-04</td>\n",
       "      <td>-0.031983</td>\n",
       "      <td>0.470324</td>\n",
       "    </tr>\n",
       "    <tr>\n",
       "      <th>26</th>\n",
       "      <td>Acc_26</td>\n",
       "      <td>-0.174475</td>\n",
       "      <td>1.371580e-04</td>\n",
       "      <td>0.005611</td>\n",
       "      <td>0.883885</td>\n",
       "    </tr>\n",
       "    <tr>\n",
       "      <th>6</th>\n",
       "      <td>VLP_6</td>\n",
       "      <td>-0.169492</td>\n",
       "      <td>4.072560e-04</td>\n",
       "      <td>-0.033985</td>\n",
       "      <td>0.399242</td>\n",
       "    </tr>\n",
       "    <tr>\n",
       "      <th>30</th>\n",
       "      <td>GPi_30</td>\n",
       "      <td>-0.164983</td>\n",
       "      <td>1.081058e-03</td>\n",
       "      <td>0.118227</td>\n",
       "      <td>0.005570</td>\n",
       "    </tr>\n",
       "    <tr>\n",
       "      <th>10</th>\n",
       "      <td>MGN_10</td>\n",
       "      <td>-0.158180</td>\n",
       "      <td>7.163014e-04</td>\n",
       "      <td>0.041144</td>\n",
       "      <td>0.295711</td>\n",
       "    </tr>\n",
       "    <tr>\n",
       "      <th>31</th>\n",
       "      <td>Put_31</td>\n",
       "      <td>-0.157012</td>\n",
       "      <td>4.071974e-04</td>\n",
       "      <td>0.020878</td>\n",
       "      <td>0.576063</td>\n",
       "    </tr>\n",
       "    <tr>\n",
       "      <th>4</th>\n",
       "      <td>VA_4</td>\n",
       "      <td>-0.148214</td>\n",
       "      <td>1.360461e-03</td>\n",
       "      <td>-0.046185</td>\n",
       "      <td>0.236026</td>\n",
       "    </tr>\n",
       "    <tr>\n",
       "      <th>33</th>\n",
       "      <td>GP_33</td>\n",
       "      <td>-0.143160</td>\n",
       "      <td>2.920610e-03</td>\n",
       "      <td>0.087423</td>\n",
       "      <td>0.031378</td>\n",
       "    </tr>\n",
       "    <tr>\n",
       "      <th>2</th>\n",
       "      <td>AV_2</td>\n",
       "      <td>-0.136800</td>\n",
       "      <td>6.230641e-03</td>\n",
       "      <td>0.010362</td>\n",
       "      <td>0.805834</td>\n",
       "    </tr>\n",
       "    <tr>\n",
       "      <th>29</th>\n",
       "      <td>GPe_29</td>\n",
       "      <td>-0.129863</td>\n",
       "      <td>7.595218e-03</td>\n",
       "      <td>0.072811</td>\n",
       "      <td>0.076334</td>\n",
       "    </tr>\n",
       "    <tr>\n",
       "      <th>5</th>\n",
       "      <td>VLa_5</td>\n",
       "      <td>-0.122727</td>\n",
       "      <td>8.462148e-03</td>\n",
       "      <td>-0.062678</td>\n",
       "      <td>0.111227</td>\n",
       "    </tr>\n",
       "    <tr>\n",
       "      <th>11</th>\n",
       "      <td>CM_11</td>\n",
       "      <td>-0.119669</td>\n",
       "      <td>1.083333e-02</td>\n",
       "      <td>0.040012</td>\n",
       "      <td>0.312667</td>\n",
       "    </tr>\n",
       "    <tr>\n",
       "      <th>28</th>\n",
       "      <td>Cla_28</td>\n",
       "      <td>-0.115268</td>\n",
       "      <td>1.379499e-02</td>\n",
       "      <td>-0.050053</td>\n",
       "      <td>0.205310</td>\n",
       "    </tr>\n",
       "    <tr>\n",
       "      <th>14</th>\n",
       "      <td>MTT_14</td>\n",
       "      <td>-0.107551</td>\n",
       "      <td>2.836772e-02</td>\n",
       "      <td>-0.021806</td>\n",
       "      <td>0.598563</td>\n",
       "    </tr>\n",
       "    <tr>\n",
       "      <th>32</th>\n",
       "      <td>RN_32</td>\n",
       "      <td>-0.084776</td>\n",
       "      <td>5.234142e-02</td>\n",
       "      <td>0.013250</td>\n",
       "      <td>0.719559</td>\n",
       "    </tr>\n",
       "    <tr>\n",
       "      <th>34</th>\n",
       "      <td>Amy_34</td>\n",
       "      <td>-0.059646</td>\n",
       "      <td>2.896904e-01</td>\n",
       "      <td>0.009912</td>\n",
       "      <td>0.835205</td>\n",
       "    </tr>\n",
       "    <tr>\n",
       "      <th>13</th>\n",
       "      <td>Hb_13</td>\n",
       "      <td>-0.041185</td>\n",
       "      <td>4.692636e-01</td>\n",
       "      <td>0.039333</td>\n",
       "      <td>0.414170</td>\n",
       "    </tr>\n",
       "    <tr>\n",
       "      <th>27</th>\n",
       "      <td>Cau_27</td>\n",
       "      <td>-0.023461</td>\n",
       "      <td>6.310997e-01</td>\n",
       "      <td>0.038049</td>\n",
       "      <td>0.357650</td>\n",
       "    </tr>\n",
       "  </tbody>\n",
       "</table>\n",
       "</div>"
      ],
      "text/plain": [
       "        struct      coef         pvals  interaction_coefs  interaction_p\n",
       "12    MD_Pf_12 -0.255628  1.068645e-07           0.020159       0.615066\n",
       "1   THALAMUS_1 -0.253020  2.528566e-08           0.007496       0.842759\n",
       "8        Pul_8 -0.246496  3.117359e-07           0.017728       0.659224\n",
       "7        VPL_7 -0.191133  1.315883e-04          -0.046530       0.267921\n",
       "9        LGN_9 -0.181375  5.739029e-04          -0.031983       0.470324\n",
       "26      Acc_26 -0.174475  1.371580e-04           0.005611       0.883885\n",
       "6        VLP_6 -0.169492  4.072560e-04          -0.033985       0.399242\n",
       "30      GPi_30 -0.164983  1.081058e-03           0.118227       0.005570\n",
       "10      MGN_10 -0.158180  7.163014e-04           0.041144       0.295711\n",
       "31      Put_31 -0.157012  4.071974e-04           0.020878       0.576063\n",
       "4         VA_4 -0.148214  1.360461e-03          -0.046185       0.236026\n",
       "33       GP_33 -0.143160  2.920610e-03           0.087423       0.031378\n",
       "2         AV_2 -0.136800  6.230641e-03           0.010362       0.805834\n",
       "29      GPe_29 -0.129863  7.595218e-03           0.072811       0.076334\n",
       "5        VLa_5 -0.122727  8.462148e-03          -0.062678       0.111227\n",
       "11       CM_11 -0.119669  1.083333e-02           0.040012       0.312667\n",
       "28      Cla_28 -0.115268  1.379499e-02          -0.050053       0.205310\n",
       "14      MTT_14 -0.107551  2.836772e-02          -0.021806       0.598563\n",
       "32       RN_32 -0.084776  5.234142e-02           0.013250       0.719559\n",
       "34      Amy_34 -0.059646  2.896904e-01           0.009912       0.835205\n",
       "13       Hb_13 -0.041185  4.692636e-01           0.039333       0.414170\n",
       "27      Cau_27 -0.023461  6.310997e-01           0.038049       0.357650"
      ]
     },
     "execution_count": 51,
     "metadata": {},
     "output_type": "execute_result"
    }
   ],
   "source": [
    "df_ms_z = df_z[df_z.dz_type2 == \"MS\"]\n",
    "model_data = df_ms_z.join([df_thomas_z])\n",
    "model_data = pd.concat([model_data, pd.get_dummies(model_data[\"dz_type5\"])], axis=1)\n",
    "\n",
    "structs = hips_thomas_ref\n",
    "pvals = {}\n",
    "coefs = {}\n",
    "interaction_coefs = {}\n",
    "interaction_p = {}\n",
    "se = {}\n",
    "for struct in structs:\n",
    "    formula = f\"{struct} ~ choroid_volume*dzdur + age + Female + tiv\"\n",
    "    res = sm.OLS.from_formula(formula, data=model_data).fit()\n",
    "    pvals[struct] = res.pvalues[\"dzdur\"]\n",
    "    coefs[struct] = res.params[\"dzdur\"]\n",
    "    interaction_coefs[struct] = res.params[\"choroid_volume:dzdur\"]\n",
    "    interaction_p[struct] = res.pvalues[\"choroid_volume:dzdur\"]\n",
    "\n",
    "regression_results = pd.DataFrame(\n",
    "    {\n",
    "        \"coef\": coefs,\n",
    "        \"pvals\": pvals,\n",
    "        \"interaction_coefs\": interaction_coefs,\n",
    "        \"interaction_p\": interaction_p,\n",
    "    }\n",
    ")\n",
    "regression_results.insert(0, \"struct\", regression_results.index)\n",
    "new_index = []\n",
    "for item in regression_results.index:\n",
    "    new_index.append(int(re.match(r\".+_(\\d+)$\", item)[1]))\n",
    "regression_results.index = new_index\n",
    "\n",
    "regression_results = regression_results.sort_values(by=\"coef\")\n",
    "regression_results"
   ]
  },
  {
   "cell_type": "code",
   "execution_count": null,
   "id": "67a21141",
   "metadata": {},
   "outputs": [
    {
     "data": {
      "text/plain": [
       "<matplotlib.collections.PathCollection at 0x7ff348d6d7c0>"
      ]
     },
     "execution_count": 49,
     "metadata": {},
     "output_type": "execute_result"
    },
    {
     "data": {
      "image/png": "[encoded data removed]",
      "text/plain": [
       "<Figure size 640x480 with 1 Axes>"
      ]
     },
     "metadata": {},
     "output_type": "display_data"
    }
   ],
   "source": [
    "regression_results[\"dist\"] = mni_dists[\"left_exposure\"]\n",
    "plt.scatter(regression_results[\"dist\"], regression_results[\"coef\"])"
   ]
  },
  {
   "cell_type": "code",
   "execution_count": null,
   "id": "f11ea00b",
   "metadata": {},
   "outputs": [
    {
     "data": {
      "application/vnd.microsoft.datawrangler.viewer.v0+json": {
       "columns": [
        {
         "name": "index",
         "rawType": "object",
         "type": "string"
        },
        {
         "name": "coef",
         "rawType": "float64",
         "type": "float"
        },
        {
         "name": "pvals",
         "rawType": "float64",
         "type": "float"
        },
        {
         "name": "p_fdr",
         "rawType": "float64",
         "type": "float"
        },
        {
         "name": "coef_sig",
         "rawType": "float64",
         "type": "float"
        }
       ],
       "ref": "031d848b-edcf-471f-a1d2-4941f26fbb74",
       "rows": [
        [
         "anterior",
         "0.021069066928972677",
         "0.5840371442143768",
         "0.5840371442143768",
         "0.0"
        ],
        [
         "ventral",
         "0.09834700936608794",
         "3.0725046419698964e-06",
         "1.2290018567879585e-05",
         "0.09834700936608794"
        ],
        [
         "medial",
         "-0.0480792325550219",
         "0.014542481645405865",
         "0.029005629475694454",
         "-0.0480792325550219"
        ],
        [
         "posterior",
         "-0.04284906664654483",
         "0.021754222106770842",
         "0.029005629475694454",
         "-0.04284906664654483"
        ]
       ],
       "shape": {
        "columns": 4,
        "rows": 4
       }
      },
      "text/html": [
       "<div>\n",
       "<style scoped>\n",
       "    .dataframe tbody tr th:only-of-type {\n",
       "        vertical-align: middle;\n",
       "    }\n",
       "\n",
       "    .dataframe tbody tr th {\n",
       "        vertical-align: top;\n",
       "    }\n",
       "\n",
       "    .dataframe thead th {\n",
       "        text-align: right;\n",
       "    }\n",
       "</style>\n",
       "<table border=\"1\" class=\"dataframe\">\n",
       "  <thead>\n",
       "    <tr style=\"text-align: right;\">\n",
       "      <th></th>\n",
       "      <th>coef</th>\n",
       "      <th>pvals</th>\n",
       "      <th>p_fdr</th>\n",
       "      <th>coef_sig</th>\n",
       "    </tr>\n",
       "  </thead>\n",
       "  <tbody>\n",
       "    <tr>\n",
       "      <th>anterior</th>\n",
       "      <td>0.021069</td>\n",
       "      <td>0.584037</td>\n",
       "      <td>0.584037</td>\n",
       "      <td>0.000000</td>\n",
       "    </tr>\n",
       "    <tr>\n",
       "      <th>ventral</th>\n",
       "      <td>0.098347</td>\n",
       "      <td>0.000003</td>\n",
       "      <td>0.000012</td>\n",
       "      <td>0.098347</td>\n",
       "    </tr>\n",
       "    <tr>\n",
       "      <th>medial</th>\n",
       "      <td>-0.048079</td>\n",
       "      <td>0.014542</td>\n",
       "      <td>0.029006</td>\n",
       "      <td>-0.048079</td>\n",
       "    </tr>\n",
       "    <tr>\n",
       "      <th>posterior</th>\n",
       "      <td>-0.042849</td>\n",
       "      <td>0.021754</td>\n",
       "      <td>0.029006</td>\n",
       "      <td>-0.042849</td>\n",
       "    </tr>\n",
       "  </tbody>\n",
       "</table>\n",
       "</div>"
      ],
      "text/plain": [
       "               coef     pvals     p_fdr  coef_sig\n",
       "anterior   0.021069  0.584037  0.584037  0.000000\n",
       "ventral    0.098347  0.000003  0.000012  0.098347\n",
       "medial    -0.048079  0.014542  0.029006 -0.048079\n",
       "posterior -0.042849  0.021754  0.029006 -0.042849"
      ]
     },
     "execution_count": 110,
     "metadata": {},
     "output_type": "execute_result"
    }
   ],
   "source": [
    "structs = df_thomas2.columns[~df_thomas2.columns.isin([\"THALAMUS_1\"])]\n",
    "\n",
    "df_ms_z = df_z[df_z.dz_type2 == \"MS\"]\n",
    "model_data = df_ms_z.join([df_thomas2_z])\n",
    "\n",
    "predictor1 = \"choroid_volume\"\n",
    "predictor2 = \"ventricle_volume\"\n",
    "covariates1 = \"age + Female + tiv + THALAMUS_1 + ventricle_volume\"\n",
    "covariates2 = \"age + Female + tiv + THALAMUS_1 + choroid_volume\"\n",
    "result = run_regressions(model_data, covariates1, predictor1, structs)\n",
    "result[[\"coef\", \"pvals\", \"p_fdr\", \"coef_sig\"]]\n",
    "# result.to_excel(fig_path / \"hipsthomas_grouped_ventricle_choroid_control.xlsx\")"
   ]
  },
  {
   "cell_type": "code",
   "execution_count": null,
   "id": "58e72b66",
   "metadata": {},
   "outputs": [],
   "source": []
  },
  {
   "cell_type": "code",
   "execution_count": 33,
   "id": "9bbc9749",
   "metadata": {},
   "outputs": [
    {
     "name": "stdout",
     "output_type": "stream",
     "text": [
      "                            OLS Regression Results                            \n",
      "==============================================================================\n",
      "Dep. Variable:                 medial   R-squared:                       0.487\n",
      "Model:                            OLS   Adj. R-squared:                  0.480\n",
      "Method:                 Least Squares   F-statistic:                     72.95\n",
      "Date:                Thu, 26 Jun 2025   Prob (F-statistic):           9.64e-64\n",
      "Time:                        23:39:19   Log-Likelihood:                -516.55\n",
      "No. Observations:                 468   AIC:                             1047.\n",
      "Df Residuals:                     461   BIC:                             1076.\n",
      "Df Model:                           6                                         \n",
      "Covariance Type:            nonrobust                                         \n",
      "=======================================================================================\n",
      "                          coef    std err          t      P>|t|      [0.025      0.975]\n",
      "---------------------------------------------------------------------------------------\n",
      "Intercept              -0.0143      0.036     -0.400      0.689      -0.085       0.056\n",
      "choroid_volume         -0.3994      0.039    -10.196      0.000      -0.476      -0.322\n",
      "t2lv                   -0.2674      0.036     -7.484      0.000      -0.338      -0.197\n",
      "choroid_volume:t2lv    -0.0855      0.036     -2.355      0.019      -0.157      -0.014\n",
      "age                    -0.1125      0.038     -2.994      0.003      -0.186      -0.039\n",
      "Female                  0.1209      0.041      2.939      0.003       0.040       0.202\n",
      "tiv                     0.4556      0.042     10.955      0.000       0.374       0.537\n",
      "==============================================================================\n",
      "Omnibus:                       28.874   Durbin-Watson:                   2.088\n",
      "Prob(Omnibus):                  0.000   Jarque-Bera (JB):               66.407\n",
      "Skew:                          -0.311   Prob(JB):                     3.80e-15\n",
      "Kurtosis:                       4.738   Cond. No.                         2.10\n",
      "==============================================================================\n",
      "\n",
      "Notes:\n",
      "[1] Standard Errors assume that the covariance matrix of the errors is correctly specified.\n"
     ]
    }
   ],
   "source": [
    "formula = f\"medial ~ choroid_volume*t2lv + age + Female + tiv\"\n",
    "res = sm.OLS.from_formula(formula, data=model_data).fit()\n",
    "print(res.summary())"
   ]
  },
  {
   "cell_type": "markdown",
   "id": "66000f86",
   "metadata": {},
   "source": [
    "#### Deep Gray"
   ]
  },
  {
   "cell_type": "code",
   "execution_count": 7,
   "id": "588dfbc4",
   "metadata": {},
   "outputs": [],
   "source": [
    "df_ms_z = df_z[df_z.dz_type2 == \"MS\"]\n",
    "model_data = df_ms_z.join([df_thomas_z])\n",
    "\n",
    "structs = hips_thomas_ref[deep_grey]\n",
    "covariates = \"age + Female  + tiv\"\n",
    "\n",
    "predictors = [\"choroid_volume\", \"ventricle_volume\", \"cortical_thickness\", \"t2lv\", \"PRL\"]\n",
    "regression_results = {}\n",
    "for i, predictor in enumerate(predictors):\n",
    "    result = run_regressions(model_data, covariates, predictor, structs)\n",
    "    regression_results[predictor] = fix_hipsthomas_regression_results(result)\n",
    "\n",
    "save_path = fig_path / \"deep_grey_and_inflammatory_markers.xlsx\"\n",
    "\n",
    "with pd.ExcelWriter(save_path) as writer:\n",
    "    for predictor in regression_results:\n",
    "        regression_results[predictor].to_excel(writer, sheet_name=predictor)"
   ]
  },
  {
   "cell_type": "code",
   "execution_count": 8,
   "id": "2eb3472e",
   "metadata": {},
   "outputs": [
    {
     "data": {
      "application/vnd.microsoft.datawrangler.viewer.v0+json": {
       "columns": [
        {
         "name": "index",
         "rawType": "object",
         "type": "string"
        },
        {
         "name": "coef",
         "rawType": "float64",
         "type": "float"
        },
        {
         "name": "pvals",
         "rawType": "float64",
         "type": "float"
        },
        {
         "name": "se",
         "rawType": "float64",
         "type": "float"
        },
        {
         "name": "llci",
         "rawType": "float64",
         "type": "float"
        },
        {
         "name": "ulci",
         "rawType": "float64",
         "type": "float"
        },
        {
         "name": "ci",
         "rawType": "object",
         "type": "string"
        },
        {
         "name": "p_fdr",
         "rawType": "float64",
         "type": "float"
        },
        {
         "name": "R2",
         "rawType": "float64",
         "type": "float"
        },
        {
         "name": "coef_sig",
         "rawType": "float64",
         "type": "float"
        }
       ],
       "ref": "86e29d48-b9d1-4ebc-a28f-5b1fcd708e80",
       "rows": [
        [
         "Hb_13",
         "-0.13966012767090571",
         "0.009694011392306457",
         "0.0523875749383423",
         "-0.24532378220284326",
         "-0.03399647313896817",
         "[-0.245324, -0.033996]",
         "0.02908203417691937",
         "0.14613066053915558",
         "-0.13966012767090571"
        ],
        [
         "MTT_14",
         "0.009975719514975593",
         "0.8331657888815313",
         "0.04432289199813646",
         "-0.08303667622337249",
         "0.10298811525332369",
         "[-0.083037, 0.102988]",
         "0.8331657888815313",
         "0.2679605975959831",
         "0.0"
        ],
        [
         "Acc_26",
         "-0.08592490281500072",
         "0.034027315529048974",
         "0.04041895778185092",
         "-0.16534474868576537",
         "-0.0065050569442360595",
         "[-0.165345, -0.006505]",
         "0.05104097329357346",
         "0.5375623899274331",
         "0.0"
        ],
        [
         "Cau_27",
         "-0.10432918861071759",
         "0.0264382218744356",
         "0.04850702953811595",
         "-0.1963954836295265",
         "-0.012262893591908686",
         "[-0.196395, -0.012263]",
         "0.04758879937398408",
         "0.38027572882043925",
         "-0.10432918861071759"
        ],
        [
         "Cla_28",
         "-0.1155036260852049",
         "0.004682241767440348",
         "0.041041019120386206",
         "-0.19537001874943538",
         "-0.035637233420974426",
         "[-0.195370, -0.035637]",
         "0.02107008795348157",
         "0.5241625734716201",
         "-0.1155036260852049"
        ],
        [
         "GPe_29",
         "-0.047592895561196204",
         "0.3066972287060321",
         "0.04859893972964506",
         "-0.1389882304772575",
         "0.04380243935486509",
         "[-0.138988, 0.043802]",
         "0.39432500833632705",
         "0.35044834821362136",
         "0.0"
        ],
        [
         "GPi_30",
         "-0.045100741977997384",
         "0.35547830198480446",
         "0.044463317559926926",
         "-0.14092102544661597",
         "0.05071954149062121",
         "[-0.140921, 0.050720]",
         "0.399913089732905",
         "0.28261703228355173",
         "0.0"
        ],
        [
         "Put_31",
         "-0.09084341269150657",
         "0.025448096728831533",
         "0.03953511056754637",
         "-0.17047457534433266",
         "-0.011212250038680482",
         "[-0.170475, -0.011212]",
         "0.04758879937398408",
         "0.4928763423092033",
         "-0.09084341269150657"
        ],
        [
         "RN_32",
         "-0.13108790787354374",
         "0.0015064922588982198",
         "0.043123599259497616",
         "-0.2117760461146599",
         "-0.05039976963242758",
         "[-0.211776, -0.050400]",
         "0.013558430330083979",
         "0.4850697080611166",
         "-0.13108790787354374"
        ]
       ],
       "shape": {
        "columns": 9,
        "rows": 9
       }
      },
      "text/html": [
       "<div>\n",
       "<style scoped>\n",
       "    .dataframe tbody tr th:only-of-type {\n",
       "        vertical-align: middle;\n",
       "    }\n",
       "\n",
       "    .dataframe tbody tr th {\n",
       "        vertical-align: top;\n",
       "    }\n",
       "\n",
       "    .dataframe thead th {\n",
       "        text-align: right;\n",
       "    }\n",
       "</style>\n",
       "<table border=\"1\" class=\"dataframe\">\n",
       "  <thead>\n",
       "    <tr style=\"text-align: right;\">\n",
       "      <th></th>\n",
       "      <th>coef</th>\n",
       "      <th>pvals</th>\n",
       "      <th>se</th>\n",
       "      <th>llci</th>\n",
       "      <th>ulci</th>\n",
       "      <th>ci</th>\n",
       "      <th>p_fdr</th>\n",
       "      <th>R2</th>\n",
       "      <th>coef_sig</th>\n",
       "    </tr>\n",
       "  </thead>\n",
       "  <tbody>\n",
       "    <tr>\n",
       "      <th>Hb_13</th>\n",
       "      <td>-0.139660</td>\n",
       "      <td>0.009694</td>\n",
       "      <td>0.052388</td>\n",
       "      <td>-0.245324</td>\n",
       "      <td>-0.033996</td>\n",
       "      <td>[-0.245324, -0.033996]</td>\n",
       "      <td>0.029082</td>\n",
       "      <td>0.146131</td>\n",
       "      <td>-0.139660</td>\n",
       "    </tr>\n",
       "    <tr>\n",
       "      <th>MTT_14</th>\n",
       "      <td>0.009976</td>\n",
       "      <td>0.833166</td>\n",
       "      <td>0.044323</td>\n",
       "      <td>-0.083037</td>\n",
       "      <td>0.102988</td>\n",
       "      <td>[-0.083037, 0.102988]</td>\n",
       "      <td>0.833166</td>\n",
       "      <td>0.267961</td>\n",
       "      <td>0.000000</td>\n",
       "    </tr>\n",
       "    <tr>\n",
       "      <th>Acc_26</th>\n",
       "      <td>-0.085925</td>\n",
       "      <td>0.034027</td>\n",
       "      <td>0.040419</td>\n",
       "      <td>-0.165345</td>\n",
       "      <td>-0.006505</td>\n",
       "      <td>[-0.165345, -0.006505]</td>\n",
       "      <td>0.051041</td>\n",
       "      <td>0.537562</td>\n",
       "      <td>0.000000</td>\n",
       "    </tr>\n",
       "    <tr>\n",
       "      <th>Cau_27</th>\n",
       "      <td>-0.104329</td>\n",
       "      <td>0.026438</td>\n",
       "      <td>0.048507</td>\n",
       "      <td>-0.196395</td>\n",
       "      <td>-0.012263</td>\n",
       "      <td>[-0.196395, -0.012263]</td>\n",
       "      <td>0.047589</td>\n",
       "      <td>0.380276</td>\n",
       "      <td>-0.104329</td>\n",
       "    </tr>\n",
       "    <tr>\n",
       "      <th>Cla_28</th>\n",
       "      <td>-0.115504</td>\n",
       "      <td>0.004682</td>\n",
       "      <td>0.041041</td>\n",
       "      <td>-0.195370</td>\n",
       "      <td>-0.035637</td>\n",
       "      <td>[-0.195370, -0.035637]</td>\n",
       "      <td>0.021070</td>\n",
       "      <td>0.524163</td>\n",
       "      <td>-0.115504</td>\n",
       "    </tr>\n",
       "    <tr>\n",
       "      <th>GPe_29</th>\n",
       "      <td>-0.047593</td>\n",
       "      <td>0.306697</td>\n",
       "      <td>0.048599</td>\n",
       "      <td>-0.138988</td>\n",
       "      <td>0.043802</td>\n",
       "      <td>[-0.138988, 0.043802]</td>\n",
       "      <td>0.394325</td>\n",
       "      <td>0.350448</td>\n",
       "      <td>0.000000</td>\n",
       "    </tr>\n",
       "    <tr>\n",
       "      <th>GPi_30</th>\n",
       "      <td>-0.045101</td>\n",
       "      <td>0.355478</td>\n",
       "      <td>0.044463</td>\n",
       "      <td>-0.140921</td>\n",
       "      <td>0.050720</td>\n",
       "      <td>[-0.140921, 0.050720]</td>\n",
       "      <td>0.399913</td>\n",
       "      <td>0.282617</td>\n",
       "      <td>0.000000</td>\n",
       "    </tr>\n",
       "    <tr>\n",
       "      <th>Put_31</th>\n",
       "      <td>-0.090843</td>\n",
       "      <td>0.025448</td>\n",
       "      <td>0.039535</td>\n",
       "      <td>-0.170475</td>\n",
       "      <td>-0.011212</td>\n",
       "      <td>[-0.170475, -0.011212]</td>\n",
       "      <td>0.047589</td>\n",
       "      <td>0.492876</td>\n",
       "      <td>-0.090843</td>\n",
       "    </tr>\n",
       "    <tr>\n",
       "      <th>RN_32</th>\n",
       "      <td>-0.131088</td>\n",
       "      <td>0.001506</td>\n",
       "      <td>0.043124</td>\n",
       "      <td>-0.211776</td>\n",
       "      <td>-0.050400</td>\n",
       "      <td>[-0.211776, -0.050400]</td>\n",
       "      <td>0.013558</td>\n",
       "      <td>0.485070</td>\n",
       "      <td>-0.131088</td>\n",
       "    </tr>\n",
       "  </tbody>\n",
       "</table>\n",
       "</div>"
      ],
      "text/plain": [
       "            coef     pvals        se      llci      ulci  \\\n",
       "Hb_13  -0.139660  0.009694  0.052388 -0.245324 -0.033996   \n",
       "MTT_14  0.009976  0.833166  0.044323 -0.083037  0.102988   \n",
       "Acc_26 -0.085925  0.034027  0.040419 -0.165345 -0.006505   \n",
       "Cau_27 -0.104329  0.026438  0.048507 -0.196395 -0.012263   \n",
       "Cla_28 -0.115504  0.004682  0.041041 -0.195370 -0.035637   \n",
       "GPe_29 -0.047593  0.306697  0.048599 -0.138988  0.043802   \n",
       "GPi_30 -0.045101  0.355478  0.044463 -0.140921  0.050720   \n",
       "Put_31 -0.090843  0.025448  0.039535 -0.170475 -0.011212   \n",
       "RN_32  -0.131088  0.001506  0.043124 -0.211776 -0.050400   \n",
       "\n",
       "                            ci     p_fdr        R2  coef_sig  \n",
       "Hb_13   [-0.245324, -0.033996]  0.029082  0.146131 -0.139660  \n",
       "MTT_14   [-0.083037, 0.102988]  0.833166  0.267961  0.000000  \n",
       "Acc_26  [-0.165345, -0.006505]  0.051041  0.537562  0.000000  \n",
       "Cau_27  [-0.196395, -0.012263]  0.047589  0.380276 -0.104329  \n",
       "Cla_28  [-0.195370, -0.035637]  0.021070  0.524163 -0.115504  \n",
       "GPe_29   [-0.138988, 0.043802]  0.394325  0.350448  0.000000  \n",
       "GPi_30   [-0.140921, 0.050720]  0.399913  0.282617  0.000000  \n",
       "Put_31  [-0.170475, -0.011212]  0.047589  0.492876 -0.090843  \n",
       "RN_32   [-0.211776, -0.050400]  0.013558  0.485070 -0.131088  "
      ]
     },
     "execution_count": 8,
     "metadata": {},
     "output_type": "execute_result"
    }
   ],
   "source": [
    "df_ms_z = df_z[df_z.dz_type2 == \"MS\"]\n",
    "model_data = df_ms_z.join([df_thomas_z])\n",
    "model_data = pd.concat([model_data, pd.get_dummies(model_data[\"dz_type5\"])], axis=1)\n",
    "\n",
    "structs = hips_thomas_ref[deep_grey]\n",
    "\n",
    "predictor1 = \"choroid_volume\"\n",
    "predictor2 = \"ventricle_volume\"\n",
    "covariates1 = \"age + Female + tiv + ventricle_volume\"\n",
    "covariates2 = \"age + Female + tiv + choroid_volume\"\n",
    "result_choroid = run_regressions(model_data, covariates1, predictor1, structs)\n",
    "result_ventricle = run_regressions(model_data, covariates2, predictor2, structs)\n",
    "\n",
    "save_path = fig_path / \"deep_grey_choroid_ventricle_model.xlsx\"\n",
    "\n",
    "with pd.ExcelWriter(save_path) as writer:\n",
    "    result_choroid.to_excel(writer, sheet_name=\"choroid_volume\")\n",
    "    result_ventricle.to_excel(writer, sheet_name=\"ventricle_volume\")\n",
    "\n",
    "result_choroid"
   ]
  },
  {
   "cell_type": "markdown",
   "id": "447ea5f1",
   "metadata": {},
   "source": [
    "## Choroid and Disease Duration\n",
    "\n",
    "Spline analysis"
   ]
  },
  {
   "cell_type": "code",
   "execution_count": 8,
   "id": "37282e36",
   "metadata": {},
   "outputs": [
    {
     "name": "stderr",
     "output_type": "stream",
     "text": [
      "/home/srs-9/.virtualenvs/monai/lib/python3.12/site-packages/sklearn/base.py:493: UserWarning: X does not have valid feature names, but StandardScaler was fitted with feature names\n",
      "  warnings.warn(\n"
     ]
    }
   ],
   "source": [
    "from patsy import cr  # make cr() visible in the eval namespace\n",
    "from sklearn.preprocessing import StandardScaler\n",
    "\n",
    "n_splines = 3\n",
    "# time_pts = [2, 15, 32]\n",
    "# time_pt_colors = [\"steelblue\", \"burlywood\", \"firebrick\"]\n",
    "time_pts = [2, 16]\n",
    "time_pt_colors = [\"steelblue\", \"firebrick\"]\n",
    "\n",
    "scaler_dzdur = StandardScaler()\n",
    "scaler_cp = StandardScaler()\n",
    "\n",
    "raw_data = df[df_z.dz_type2 == \"MS\"].join([df_thomas2])\n",
    "model_data = df_z[df_z.dz_type2 == \"MS\"]\n",
    "model_data = model_data.join([df_thomas2_z])\n",
    "model_data['THALAMUS_1'] = df_thomas_z['THALAMUS_1']\n",
    "model_data[\"dzdur\"] = scaler_dzdur.fit_transform(\n",
    "    raw_data.loc[model_data.index, [\"dzdur\"]]\n",
    ")\n",
    "model_data[\"choroid_volume\"] = scaler_cp.fit_transform(\n",
    "    raw_data.loc[model_data.index, [\"choroid_volume\"]]\n",
    ")\n",
    "\n",
    "scaler_thals = {}\n",
    "models = {}\n",
    "\n",
    "structs = df_thomas2.columns[~df_thomas2.columns.isin([\"THALAMUS_1\"])]\n",
    "for thalamus_label in structs:\n",
    "    scaler_thals[thalamus_label] = StandardScaler()\n",
    "\n",
    "    model_data[thalamus_label] = scaler_thals[thalamus_label].fit_transform(\n",
    "        raw_data.loc[model_data.index, [thalamus_label]] / 1000\n",
    "    )\n",
    "\n",
    "    models[thalamus_label] = sm.OLS.from_formula(\n",
    "        f\"{thalamus_label} ~ choroid_volume * cr(dzdur, df={n_splines}) + age + Female + tiv\",\n",
    "        data=model_data,\n",
    "    ).fit()\n",
    "\n",
    "dzdur_levels = scaler_dzdur.transform([[time_pt] for time_pt in time_pts]).flatten()\n",
    "d = {\n",
    "    \"choroid_volume\": np.linspace(\n",
    "        model_data[\"choroid_volume\"].min(), model_data[\"choroid_volume\"].max()\n",
    "    ),\n",
    "    \"dzdur\": dzdur_levels,\n",
    "    \"age\": [model_data[\"age\"].mean()],\n",
    "    \"Female\": [model_data[\"Female\"].mean()],\n",
    "    \"tiv\": [model_data[\"tiv\"].mean()],\n",
    "    \"THALAMUS_1\": [model_data[\"THALAMUS_1\"].mean()]\n",
    "}\n",
    "\n",
    "test_data = (\n",
    "    pd.MultiIndex.from_product(d.values(), names=d.keys())\n",
    "    .to_frame()\n",
    "    .reset_index(drop=True)\n",
    ")\n",
    "\n",
    "for struct in structs:\n",
    "    model = models[struct]\n",
    "    pred = model.get_prediction(test_data).summary_frame(alpha=0.05)\n",
    "\n",
    "    # test_data[\"fit\"] = scaler_thal.inverse_transform([pred[\"mean\"]]).flatten()\n",
    "    # test_data[\"lower\"] = scaler_thal.inverse_transform([pred[\"mean_ci_lower\"]]).flatten()\n",
    "    # test_data[\"upper\"] = scaler_thal.inverse_transform([pred[\"mean_ci_upper\"]]).flatten()\n",
    "    test_data[f\"{struct}_fit\"] = pred[\"mean\"]\n",
    "    test_data[f\"{struct}_lower\"] = pred[\"mean_ci_lower\"]\n",
    "    test_data[f\"{struct}_upper\"] = pred[\"mean_ci_upper\"]\n",
    "\n",
    "test_data[\"cp_raw\"] = scaler_cp.inverse_transform(\n",
    "    [test_data[\"choroid_volume\"]]\n",
    ").flatten()\n",
    "test_data[\"dzdur_raw\"] = scaler_dzdur.inverse_transform([test_data[\"dzdur\"]]).flatten()"
   ]
  },
  {
   "cell_type": "code",
   "execution_count": 9,
   "id": "035596f2",
   "metadata": {},
   "outputs": [
    {
     "data": {
      "text/plain": [
       "<matplotlib.legend.Legend at 0x75f6b3bae030>"
      ]
     },
     "execution_count": 9,
     "metadata": {},
     "output_type": "execute_result"
    },
    {
     "data": {
      "image/png": "[encoded data removed]",
      "text/plain": [
       "<Figure size 1200x800 with 4 Axes>"
      ]
     },
     "metadata": {},
     "output_type": "display_data"
    }
   ],
   "source": [
    "import matplotlib.pyplot as plt\n",
    "import seaborn as sns\n",
    "\n",
    "fig, axes = plt.subplot_mosaic(\n",
    "    [[\"posterior\", \"medial\"], [\"ventral\", \"anterior\"]], figsize=(12, 8)\n",
    ")\n",
    "\n",
    "for struct in structs:\n",
    "    ax = axes[struct]\n",
    "    for dz, colour in zip(dzdur_levels, time_pt_colors):\n",
    "        sub = test_data[test_data[\"dzdur\"] == dz]\n",
    "        dzdur_label = scaler_dzdur.inverse_transform([[dz]]).flatten()[0]\n",
    "        ax.plot(\n",
    "            sub[\"cp_raw\"],\n",
    "            sub[f\"{struct}_fit\"],\n",
    "            label=f\"dzdur = {dzdur_label} y\",\n",
    "            color=colour,\n",
    "        )\n",
    "        ax.fill_between(\n",
    "            sub[\"cp_raw\"],\n",
    "            sub[f\"{struct}_lower\"],\n",
    "            sub[f\"{struct}_upper\"],\n",
    "            color=colour,\n",
    "            alpha=0.15,\n",
    "        )\n",
    "    sns.despine()\n",
    "    ax.set_title(struct)\n",
    "    ax.set_ylabel(f\"{struct} volume (z)\")\n",
    "    ax.set_ybound([-2.2, 2.2])\n",
    "\n",
    "axes['anterior'].set_xlabel(\"Choroid-plexus volume (mm3)\")\n",
    "axes['ventral'].set_xlabel(\"Choroid-plexus volume (mm3)\")\n",
    "axes['medial'].legend()\n",
    "\n",
    "# plt.savefig(fig_path / \"grouped_nuclei_cp_and_dzdur.png\", dpi=300)"
   ]
  },
  {
   "cell_type": "markdown",
   "id": "5c7abbc4",
   "metadata": {},
   "source": [
    "Check that three splines is a better model than simple interaction term"
   ]
  },
  {
   "cell_type": "code",
   "execution_count": 11,
   "id": "1cf1312a",
   "metadata": {},
   "outputs": [
    {
     "name": "stdout",
     "output_type": "stream",
     "text": [
      "   df_resid         ssr  df_diff  ss_diff         F    Pr(>F)\n",
      "0     461.0  249.593551      0.0      NaN       NaN       NaN\n",
      "1     459.0  242.905451      2.0   6.6881  6.318997  0.001962\n",
      "ΔAIC = 8.711591512347695\n",
      "ΔBIC = 0.4146549205122483\n"
     ]
    }
   ],
   "source": [
    "from statsmodels.stats.anova import anova_lm\n",
    "\n",
    "m_rcs = sm.OLS.from_formula(\n",
    "        \"THALAMUS_1 ~ choroid_volume * cr(dzdur, df=3) + age + Female + tiv\",\n",
    "        data=model_data,\n",
    "    ).fit()\n",
    "m_lin = sm.OLS.from_formula(\n",
    "        \"THALAMUS_1 ~ choroid_volume * dzdur + age + Female + tiv\", data=model_data\n",
    "    ).fit()\n",
    "\n",
    "lr_stat, lr_p, df_diff = m_rcs.compare_lr_test(m_lin)\n",
    "print(anova_lm(m_lin, m_rcs, typ=1))        \n",
    "print(\"ΔAIC =\", m_lin.aic - m_rcs.aic)\n",
    "print(\"ΔBIC =\", m_lin.bic - m_rcs.bic)"
   ]
  },
  {
   "cell_type": "markdown",
   "id": "304da526",
   "metadata": {},
   "source": [
    "Suggestion from gpt was that if the linear model has a U type of shape, that's support for using a spline model. There's very vaguely a U shape"
   ]
  },
  {
   "cell_type": "markdown",
   "id": "44f9f4f5",
   "metadata": {},
   "source": [
    "GPT said if spline lead to > 1-2% improvement, that's support for the spline model"
   ]
  },
  {
   "cell_type": "code",
   "execution_count": 20,
   "id": "980a028b",
   "metadata": {},
   "outputs": [
    {
     "name": "stdout",
     "output_type": "stream",
     "text": [
      "CV-RMSE simple = 0.7414884585515777   spline = 0.736915870619306\n"
     ]
    },
    {
     "data": {
      "text/plain": [
       "0.0061667688546411924"
      ]
     },
     "execution_count": 20,
     "metadata": {},
     "output_type": "execute_result"
    }
   ],
   "source": [
    "from sklearn.model_selection import KFold\n",
    "from sklearn.metrics import mean_squared_error\n",
    "import statsmodels.formula.api as smf\n",
    "import numpy as np\n",
    "\n",
    "def cv_rmse(model_formula):\n",
    "    rmses = []\n",
    "    for tr, te in KFold(n_splits=5, shuffle=True, random_state=1).split(model_data):\n",
    "        m = smf.ols(model_formula, data=model_data.iloc[tr]).fit()\n",
    "        y_hat = m.predict(model_data.iloc[te])\n",
    "        rmses.append(np.sqrt(mean_squared_error(model_data.iloc[te]['THALAMUS_1'], y_hat)))\n",
    "    return np.mean(rmses)\n",
    "\n",
    "# rmse_lin  = cv_rmse(\"THALAMUS_1 ~ choroid_volume * dzdur + age + Female + tiv\")\n",
    "rmse_1  = cv_rmse(\"THALAMUS_1 ~ choroid_volume + dzdur + age + Female + tiv\")\n",
    "rmse_rcs  = cv_rmse(\"THALAMUS_1 ~ choroid_volume * cr(dzdur, df=3) + age + Female + tiv\")\n",
    "# rmse_2  = cv_rmse(\"THALAMUS_1 ~ choroid_volume + age + Female + tiv\")\n",
    "print(\"CV-RMSE simple =\", rmse_1, \"  spline =\", rmse_rcs)\n",
    "(rmse_1 - rmse_rcs)  / rmse_1"
   ]
  },
  {
   "cell_type": "code",
   "execution_count": null,
   "id": "5395156b",
   "metadata": {},
   "outputs": [
    {
     "data": {
      "text/plain": [
       "<matplotlib.collections.PathCollection at 0x7f4bce700a40>"
      ]
     },
     "metadata": {},
     "output_type": "display_data"
    },
    {
     "data": {
      "image/png": "[encoded data removed]",
      "text/plain": [
       "<Figure size 640x480 with 1 Axes>"
      ]
     },
     "metadata": {},
     "output_type": "display_data"
    }
   ],
   "source": [
    "plt.scatter(model_data['dzdur'], m_lin.resid)"
   ]
  },
  {
   "cell_type": "markdown",
   "id": "df057729",
   "metadata": {},
   "source": [
    "Intuition for spline basis functions"
   ]
  },
  {
   "cell_type": "code",
   "execution_count": 85,
   "id": "20816ae4",
   "metadata": {},
   "outputs": [
    {
     "data": {
      "text/plain": [
       "<matplotlib.collections.PathCollection at 0x7f4bcec4c410>"
      ]
     },
     "execution_count": 85,
     "metadata": {},
     "output_type": "execute_result"
    },
    {
     "data": {
      "image/png": "[encoded data removed]",
      "text/plain": [
       "<Figure size 640x480 with 1 Axes>"
      ]
     },
     "metadata": {},
     "output_type": "display_data"
    }
   ],
   "source": [
    "from patsy import dmatrix\n",
    "\n",
    "y = dmatrix(\"cr(dzdur, df=3)\", raw_data)\n",
    "plt.scatter(raw_data['dzdur'], y[:, 1] * 0.6)\n",
    "plt.scatter(raw_data['dzdur'], y[:, 2] * 0.2)\n",
    "plt.scatter(raw_data['dzdur'], y[:, 3] * -0.97)"
   ]
  },
  {
   "cell_type": "code",
   "execution_count": 117,
   "id": "b566adf7",
   "metadata": {},
   "outputs": [
    {
     "name": "stderr",
     "output_type": "stream",
     "text": [
      "/home/srs-9/.virtualenvs/monai/lib/python3.12/site-packages/numpy/core/fromnumeric.py:59: FutureWarning: 'Series.swapaxes' is deprecated and will be removed in a future version. Please use 'Series.transpose' instead.\n",
      "  return bound(*args, **kwds)\n"
     ]
    },
    {
     "data": {
      "application/vnd.microsoft.datawrangler.viewer.v0+json": {
       "columns": [
        {
         "name": "subid",
         "rawType": "int64",
         "type": "integer"
        },
        {
         "name": "dzdur",
         "rawType": "float64",
         "type": "float"
        }
       ],
       "ref": "866b1a23-60fa-4ed2-bd95-da5d5e6bfc7f",
       "rows": [
        [
         "1226",
         "15.32059355"
        ],
        [
         "2171",
         "15.32880688"
        ],
        [
         "2112",
         "15.41367793"
        ],
        [
         "1046",
         "15.44105569"
        ],
        [
         "1155",
         "15.51497563"
        ],
        [
         "1209",
         "15.52318896"
        ],
        [
         "1202",
         "15.54235339"
        ],
        [
         "1049",
         "15.61901112"
        ],
        [
         "2159",
         "15.62448667"
        ],
        [
         "2170",
         "15.62722444"
        ],
        [
         "2105",
         "15.76685101"
        ],
        [
         "1343",
         "15.76958879"
        ],
        [
         "1268",
         "15.9037398"
        ],
        [
         "2191",
         "16.01325084"
        ],
        [
         "1085",
         "16.15835295"
        ],
        [
         "1109",
         "16.16656628"
        ],
        [
         "1404",
         "16.23774845"
        ],
        [
         "1505",
         "16.25691288"
        ],
        [
         "2054",
         "16.29524175"
        ],
        [
         "1441",
         "16.37737502"
        ],
        [
         "1062",
         "16.38558835"
        ],
        [
         "1169",
         "16.42939276"
        ],
        [
         "2060",
         "16.43213054"
        ],
        [
         "1219",
         "16.46498385"
        ],
        [
         "1296",
         "16.48414828"
        ],
        [
         "1220",
         "16.60461041"
        ],
        [
         "1546",
         "16.68126814"
        ],
        [
         "1128",
         "16.82637026"
        ],
        [
         "1313",
         "17.09467229"
        ],
        [
         "3028",
         "17.16311668"
        ],
        [
         "1133",
         "17.18228111"
        ],
        [
         "1426",
         "17.21239665"
        ],
        [
         "1465",
         "17.28084104"
        ],
        [
         "1507",
         "17.33833434"
        ],
        [
         "1112",
         "17.36297432"
        ],
        [
         "2168",
         "17.40677873"
        ],
        [
         "2263",
         "17.40951651"
        ],
        [
         "1237",
         "17.46153425"
        ],
        [
         "1050",
         "17.4779609"
        ],
        [
         "2089",
         "17.55188085"
        ],
        [
         "1132",
         "17.8749384"
        ],
        [
         "1058",
         "18.00087609"
        ],
        [
         "1182",
         "18.08300936"
        ],
        [
         "1341",
         "18.10217379"
        ],
        [
         "1262",
         "18.25001369"
        ],
        [
         "1379",
         "18.39237803"
        ],
        [
         "1462",
         "18.47451131"
        ],
        [
         "1007",
         "18.67984449"
        ],
        [
         "1250",
         "18.72638668"
        ],
        [
         "3021",
         "18.87696435"
        ]
       ],
       "shape": {
        "columns": 1,
        "rows": 156
       }
      },
      "text/plain": [
       "subid\n",
       "1226    15.320594\n",
       "2171    15.328807\n",
       "2112    15.413678\n",
       "1046    15.441056\n",
       "1155    15.514976\n",
       "          ...    \n",
       "1475    40.751793\n",
       "1469    43.686689\n",
       "1471    45.118546\n",
       "1176    52.458523\n",
       "1370    54.886930\n",
       "Name: dzdur, Length: 156, dtype: float64"
      ]
     },
     "execution_count": 117,
     "metadata": {},
     "output_type": "execute_result"
    }
   ],
   "source": [
    "seg1, seg2, seg3 = np.array_split(raw_data['dzdur'].sort_values(), 3)\n",
    "\n",
    "seg3"
   ]
  },
  {
   "cell_type": "markdown",
   "id": "dba3ed2b",
   "metadata": {},
   "source": [
    "## Scratch"
   ]
  },
  {
   "cell_type": "code",
   "execution_count": null,
   "id": "0edf60cc",
   "metadata": {},
   "outputs": [
    {
     "name": "stdout",
     "output_type": "stream",
     "text": [
      "                            OLS Regression Results                            \n",
      "==============================================================================\n",
      "Dep. Variable:             THALAMUS_1   R-squared:                       0.658\n",
      "Model:                            OLS   Adj. R-squared:                  0.652\n",
      "Method:                 Least Squares   F-statistic:                     126.2\n",
      "Date:                Tue, 24 Jun 2025   Prob (F-statistic):          8.07e-103\n",
      "Time:                        19:01:19   Log-Likelihood:                -416.95\n",
      "No. Observations:                 468   AIC:                             849.9\n",
      "Df Residuals:                     460   BIC:                             883.1\n",
      "Df Model:                           7                                         \n",
      "Covariance Type:            nonrobust                                         \n",
      "======================================================================================\n",
      "                         coef    std err          t      P>|t|      [0.025      0.975]\n",
      "--------------------------------------------------------------------------------------\n",
      "Intercept             -0.0273      0.028     -0.987      0.324      -0.082       0.027\n",
      "choroid_volume        -0.2064      0.033     -6.203      0.000      -0.272      -0.141\n",
      "t2lv                  -0.1376      0.031     -4.492      0.000      -0.198      -0.077\n",
      "PRL                   -0.1580      0.027     -5.774      0.000      -0.212      -0.104\n",
      "cortical_thickness     0.4368      0.036     12.235      0.000       0.367       0.507\n",
      "age                   -0.0655      0.034     -1.942      0.053      -0.132       0.001\n",
      "Female                 0.0474      0.033      1.414      0.158      -0.018       0.113\n",
      "tiv                    0.4368      0.034     12.662      0.000       0.369       0.505\n",
      "==============================================================================\n",
      "Omnibus:                        9.924   Durbin-Watson:                   1.991\n",
      "Prob(Omnibus):                  0.007   Jarque-Bera (JB):               15.246\n",
      "Skew:                          -0.133   Prob(JB):                     0.000489\n",
      "Kurtosis:                       3.843   Cond. No.                         2.49\n",
      "==============================================================================\n",
      "\n",
      "Notes:\n",
      "[1] Standard Errors assume that the covariance matrix of the errors is correctly specified.\n"
     ]
    },
    {
     "name": "stderr",
     "output_type": "stream",
     "text": [
      "/home/srs-9/.virtualenvs/monai/lib/python3.12/site-packages/statsmodels/base/model.py:1912: FutureWarning: The behavior of wald_test will change after 0.14 to returning scalar test statistic values. To get the future behavior now, set scalar to True. To silence this message while retaining the legacy behavior, set scalar to False.\n",
      "  warnings.warn(\n"
     ]
    },
    {
     "data": {
      "text/plain": [
       "<class 'statsmodels.stats.contrast.ContrastResults'>\n",
       "<F test: F=array([[2.08961111]]), p=0.14898473329703613, df_denom=460, df_num=1>"
      ]
     },
     "execution_count": 68,
     "metadata": {},
     "output_type": "execute_result"
    }
   ],
   "source": [
    "formula = (\n",
    "    \"THALAMUS_1 ~ choroid_volume + t2lv + PRL + cortical_thickness + age + Female + tiv\"\n",
    ")\n",
    "res = sm.OLS.from_formula(formula, data=model_data).fit()\n",
    "print(res.summary())\n"
   ]
  },
  {
   "cell_type": "code",
   "execution_count": null,
   "id": "362b04d6",
   "metadata": {},
   "outputs": [
    {
     "data": {
      "application/vnd.microsoft.datawrangler.viewer.v0+json": {
       "columns": [
        {
         "name": "index",
         "rawType": "object",
         "type": "string"
        },
        {
         "name": "Estimate",
         "rawType": "float64",
         "type": "float"
        },
        {
         "name": "Lower CI bound",
         "rawType": "float64",
         "type": "float"
        },
        {
         "name": "Upper CI bound",
         "rawType": "float64",
         "type": "float"
        },
        {
         "name": "P-value",
         "rawType": "float64",
         "type": "float"
        }
       ],
       "ref": "a84b1acd-741e-48bd-b0d0-1a44f66a7e01",
       "rows": [
        [
         "ACME (control)",
         "-0.0664771532661078",
         "-0.12198498552537404",
         "-0.01834427048028272",
         "0.008"
        ],
        [
         "ACME (treated)",
         "-0.0664771532661078",
         "-0.12198498552537404",
         "-0.018344270480282723",
         "0.008"
        ],
        [
         "ADE (control)",
         "-0.21468548705542032",
         "-0.27862544454649674",
         "-0.14869830294703165",
         "0.0"
        ],
        [
         "ADE (treated)",
         "-0.21468548705542032",
         "-0.2786254445464968",
         "-0.14869830294703165",
         "0.0"
        ],
        [
         "Total effect",
         "-0.28116264032152816",
         "-0.36270026905748703",
         "-0.2008740425020209",
         "0.0"
        ],
        [
         "Prop. mediated (control)",
         "0.23450344224576258",
         "0.07833740919530252",
         "0.39535566873234657",
         "0.008"
        ],
        [
         "Prop. mediated (treated)",
         "0.2345034422457626",
         "0.07833740919530253",
         "0.3953556687323466",
         "0.008"
        ],
        [
         "ACME (average)",
         "-0.0664771532661078",
         "-0.12198498552537404",
         "-0.018344270480282723",
         "0.008"
        ],
        [
         "ADE (average)",
         "-0.21468548705542032",
         "-0.27862544454649674",
         "-0.14869830294703165",
         "0.0"
        ],
        [
         "Prop. mediated (average)",
         "0.23450344224576258",
         "0.07833740919530253",
         "0.3953556687323466",
         "0.008"
        ]
       ],
       "shape": {
        "columns": 4,
        "rows": 10
       }
      },
      "text/html": [
       "<div>\n",
       "<style scoped>\n",
       "    .dataframe tbody tr th:only-of-type {\n",
       "        vertical-align: middle;\n",
       "    }\n",
       "\n",
       "    .dataframe tbody tr th {\n",
       "        vertical-align: top;\n",
       "    }\n",
       "\n",
       "    .dataframe thead th {\n",
       "        text-align: right;\n",
       "    }\n",
       "</style>\n",
       "<table border=\"1\" class=\"dataframe\">\n",
       "  <thead>\n",
       "    <tr style=\"text-align: right;\">\n",
       "      <th></th>\n",
       "      <th>Estimate</th>\n",
       "      <th>Lower CI bound</th>\n",
       "      <th>Upper CI bound</th>\n",
       "      <th>P-value</th>\n",
       "    </tr>\n",
       "  </thead>\n",
       "  <tbody>\n",
       "    <tr>\n",
       "      <th>ACME (control)</th>\n",
       "      <td>-0.066477</td>\n",
       "      <td>-0.121985</td>\n",
       "      <td>-0.018344</td>\n",
       "      <td>0.008</td>\n",
       "    </tr>\n",
       "    <tr>\n",
       "      <th>ACME (treated)</th>\n",
       "      <td>-0.066477</td>\n",
       "      <td>-0.121985</td>\n",
       "      <td>-0.018344</td>\n",
       "      <td>0.008</td>\n",
       "    </tr>\n",
       "    <tr>\n",
       "      <th>ADE (control)</th>\n",
       "      <td>-0.214685</td>\n",
       "      <td>-0.278625</td>\n",
       "      <td>-0.148698</td>\n",
       "      <td>0.000</td>\n",
       "    </tr>\n",
       "    <tr>\n",
       "      <th>ADE (treated)</th>\n",
       "      <td>-0.214685</td>\n",
       "      <td>-0.278625</td>\n",
       "      <td>-0.148698</td>\n",
       "      <td>0.000</td>\n",
       "    </tr>\n",
       "    <tr>\n",
       "      <th>Total effect</th>\n",
       "      <td>-0.281163</td>\n",
       "      <td>-0.362700</td>\n",
       "      <td>-0.200874</td>\n",
       "      <td>0.000</td>\n",
       "    </tr>\n",
       "    <tr>\n",
       "      <th>Prop. mediated (control)</th>\n",
       "      <td>0.234503</td>\n",
       "      <td>0.078337</td>\n",
       "      <td>0.395356</td>\n",
       "      <td>0.008</td>\n",
       "    </tr>\n",
       "    <tr>\n",
       "      <th>Prop. mediated (treated)</th>\n",
       "      <td>0.234503</td>\n",
       "      <td>0.078337</td>\n",
       "      <td>0.395356</td>\n",
       "      <td>0.008</td>\n",
       "    </tr>\n",
       "    <tr>\n",
       "      <th>ACME (average)</th>\n",
       "      <td>-0.066477</td>\n",
       "      <td>-0.121985</td>\n",
       "      <td>-0.018344</td>\n",
       "      <td>0.008</td>\n",
       "    </tr>\n",
       "    <tr>\n",
       "      <th>ADE (average)</th>\n",
       "      <td>-0.214685</td>\n",
       "      <td>-0.278625</td>\n",
       "      <td>-0.148698</td>\n",
       "      <td>0.000</td>\n",
       "    </tr>\n",
       "    <tr>\n",
       "      <th>Prop. mediated (average)</th>\n",
       "      <td>0.234503</td>\n",
       "      <td>0.078337</td>\n",
       "      <td>0.395356</td>\n",
       "      <td>0.008</td>\n",
       "    </tr>\n",
       "  </tbody>\n",
       "</table>\n",
       "</div>"
      ],
      "text/plain": [
       "                          Estimate  Lower CI bound  Upper CI bound  P-value\n",
       "ACME (control)           -0.066477       -0.121985       -0.018344    0.008\n",
       "ACME (treated)           -0.066477       -0.121985       -0.018344    0.008\n",
       "ADE (control)            -0.214685       -0.278625       -0.148698    0.000\n",
       "ADE (treated)            -0.214685       -0.278625       -0.148698    0.000\n",
       "Total effect             -0.281163       -0.362700       -0.200874    0.000\n",
       "Prop. mediated (control)  0.234503        0.078337        0.395356    0.008\n",
       "Prop. mediated (treated)  0.234503        0.078337        0.395356    0.008\n",
       "ACME (average)           -0.066477       -0.121985       -0.018344    0.008\n",
       "ADE (average)            -0.214685       -0.278625       -0.148698    0.000\n",
       "Prop. mediated (average)  0.234503        0.078337        0.395356    0.008"
      ]
     },
     "execution_count": 61,
     "metadata": {},
     "output_type": "execute_result"
    }
   ],
   "source": [
    "df_ms_z = df_z[df_z.dz_type2 == \"MS\"]\n",
    "model_data = df_ms_z.join([df_thomas_z])\n",
    "\n",
    "\n",
    "outcome_model = sm.OLS.from_formula(\n",
    "    \"THALAMUS_1 ~ choroid_volume + PRL + age + tiv + Female\", data=model_data\n",
    ")\n",
    "mediator_model = sm.GLM.from_formula(\n",
    "    \"PRL ~ choroid_volume + age + tiv + Female\",\n",
    "    data=model_data,\n",
    "    family=sm.families.Poisson(),\n",
    ")\n",
    "\n",
    "mediator_model = sm.OLS.from_formula(\n",
    "    \"choroid_volume ~ PRL + age + tiv + Female\", data=model_data\n",
    ")\n",
    "\n",
    "med = Mediation(outcome_model, mediator_model, \"PRL\", \"choroid_volume\").fit()\n",
    "med.summary()"
   ]
  }
 ],
 "metadata": {
  "kernelspec": {
   "display_name": "monai",
   "language": "python",
   "name": "python3"
  },
  "language_info": {
   "codemirror_mode": {
    "name": "ipython",
    "version": 3
   },
   "file_extension": ".py",
   "mimetype": "text/x-python",
   "name": "python",
   "nbconvert_exporter": "python",
   "pygments_lexer": "ipython3",
   "version": "3.12.4"
  }
 },
 "nbformat": 4,
 "nbformat_minor": 5
}
