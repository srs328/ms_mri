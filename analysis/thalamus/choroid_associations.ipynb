{
 "cells": [
  {
   "cell_type": "markdown",
   "id": "da412028",
   "metadata": {},
   "source": [
    "## Import"
   ]
  },
  {
   "cell_type": "code",
   "execution_count": 2,
   "id": "14dabae3",
   "metadata": {},
   "outputs": [],
   "source": [
    "import pandas as pd\n",
    "from warnings import simplefilter\n",
    "\n",
    "simplefilter(action=\"ignore\", category=pd.errors.PerformanceWarning)\n",
    "from pathlib import Path\n",
    "import json\n",
    "import numpy as np\n",
    "from collections import defaultdict\n",
    "import matplotlib.pyplot as plt\n",
    "from datetime import datetime\n",
    "import re\n",
    "from scipy import stats\n",
    "from scipy.optimize import curve_fit\n",
    "import numpy as np\n",
    "import statsmodels.api as sm\n",
    "from matplotlib import colormaps\n",
    "from tqdm.notebook import tqdm\n",
    "import helpers\n",
    "from sklearn.metrics import r2_score\n",
    "from IPython.display import clear_output\n",
    "from statsmodels.stats.outliers_influence import variance_inflation_factor\n",
    "from reload_recursive import reload_recursive\n",
    "from statsmodels.stats.mediation import Mediation\n",
    "\n",
    "\n",
    "\n",
    "from mri_data import file_manager as fm"
   ]
  },
  {
   "cell_type": "code",
   "execution_count": 3,
   "id": "5c10e5a5",
   "metadata": {},
   "outputs": [],
   "source": [
    "reload_recursive(helpers)"
   ]
  },
  {
   "cell_type": "markdown",
   "id": "177fe944",
   "metadata": {},
   "source": [
    "## Load Data"
   ]
  },
  {
   "cell_type": "markdown",
   "id": "8d7c5fc0",
   "metadata": {},
   "source": [
    "### Clinical and Volumes"
   ]
  },
  {
   "cell_type": "code",
   "execution_count": 4,
   "id": "bed7ccbf",
   "metadata": {},
   "outputs": [],
   "source": [
    "drive_root = fm.get_drive_root()\n",
    "dataroot = drive_root / \"3Tpioneer_bids\"\n",
    "data_dir = Path(\"/home/srs-9/Projects/ms_mri/data\")\n",
    "fig_path = Path(\n",
    "    \"/home/srs-9/Projects/ms_mri/analysis/thalamus/figures_tables/choroid_associations\"\n",
    ")\n",
    "\n",
    "choroid_volumes = pd.read_csv(\n",
    "    \"/home/srs-9/Projects/ms_mri/data/choroid_aschoplex_volumes.csv\", index_col=\"subid\"\n",
    ")\n",
    "ventricle_volumes = pd.read_csv(\n",
    "    \"/home/srs-9/Projects/ms_mri/analysis/paper1/data0/ventricle_volumes.csv\",\n",
    "    index_col=\"subid\",\n",
    ")\n",
    "\n",
    "tiv = pd.read_csv(\"/home/srs-9/Projects/ms_mri/data/tiv_data.csv\", index_col=\"subid\")\n",
    "\n",
    "df = pd.read_csv(\n",
    "    \"/home/srs-9/Projects/ms_mri/data/clinical_data_processed.csv\", index_col=\"subid\"\n",
    ")\n",
    "sdmt = pd.read_csv(\n",
    "    \"/home/srs-9/Projects/ms_mri/analysis/thalamus/SDMT_sheet.csv\", index_col=\"subid\"\n",
    ")\n",
    "df = df.join([choroid_volumes, tiv, ventricle_volumes, sdmt['SDMT']])\n",
    "df['SDMT'] = pd.to_numeric(df['SDMT'], errors='coerce')\n",
    "df['thalamus_sqrt'] = np.sqrt(df['thalamus'])\n",
    "df['thalamus_curt'] = np.sqrt(df['thalamus'] ** 3)\n",
    "df['cortical_thickness_inv'] = 1 / df['cortical_thickness']\n",
    "df['ventricle_logtrans'] = np.log(df['ventricle_volume'])\n",
    "\n",
    "df_z = df.copy()\n",
    "numeric_cols = df.select_dtypes(include='number').columns\n",
    "df_z[numeric_cols] = df_z[numeric_cols].apply(stats.zscore, nan_policy=\"omit\")\n",
    "\n",
    "viridis = colormaps['viridis'].resampled(20)\n",
    "\n",
    "colors = helpers.get_colors()"
   ]
  },
  {
   "cell_type": "markdown",
   "id": "cd964fba",
   "metadata": {},
   "source": [
    "### HIPS-THOMAS Volumes and Distances"
   ]
  },
  {
   "cell_type": "code",
   "execution_count": 41,
   "id": "3996e26c",
   "metadata": {},
   "outputs": [],
   "source": [
    "df_thomas = pd.read_csv(data_dir / \"hipsthomas_vols.csv\", index_col=\"subid\")\n",
    "cols_orig = df_thomas.columns\n",
    "new_colnames = {}\n",
    "for col in df_thomas.columns:\n",
    "    new_col = re.sub(r\"(\\d+)-([\\w-]+)\", r\"\\2_\\1\", col)\n",
    "    new_col = re.sub(\"-\", \"_\", new_col)\n",
    "    new_colnames[col] = new_col\n",
    "df_thomas = df_thomas.rename(columns=new_colnames)\n",
    "df_thomas_norm = df_thomas.apply(lambda col: col / df_thomas['THALAMUS_1'])\n",
    "df_thomas_z = df_thomas.apply(stats.zscore, nan_policy=\"omit\")\n",
    "df_thomas_norm_z = df_thomas_norm.apply(stats.zscore, nan_policy=\"omit\")\n",
    "\n",
    "df_thomas_left = pd.read_csv(data_dir / \"hipsthomas_left_vols.csv\", index_col=\"subid\")\n",
    "df_thomas_left = df_thomas_left.rename(columns=new_colnames)\n",
    "df_thomas_left_z = df_thomas_left.apply(stats.zscore, nan_policy=\"omit\")\n",
    "\n",
    "df_thomas_right = pd.read_csv(data_dir / \"hipsthomas_right_vols.csv\", index_col=\"subid\")\n",
    "df_thomas_right = df_thomas_right.rename(columns=new_colnames)\n",
    "df_thomas_right_z = df_thomas_right.apply(stats.zscore, nan_policy=\"omit\")\n",
    "\n",
    "\n",
    "thalamic_nuclei = [2, 4, 5, 6, 7, 8, 9, 10, 11, 12]\n",
    "deep_grey = [13, 14, 26, 27, 28, 29, 30, 31, 32]\n",
    "\n",
    "ignore_structs1 = [\n",
    "    \"THALAMUS_1\",\n",
    "    \"Amy_34\",\n",
    "    \"GP_33\",\n",
    "    \"Cla_28\",\n",
    "    \"Acc_26\",\n",
    "    \"Hb_13\",\n",
    "    \"MTT_14\",\n",
    "]\n",
    "ignore_structs2 = [\"THALAMUS_1\", \"Amy_34\", \"GP_33\", \"Hb_13\", \"MTT_14\"]\n",
    "\n",
    "thalamic_nuclei_str = [str(i) for i in thalamic_nuclei]\n",
    "\n",
    "hips_thomas_ref = pd.read_csv(\n",
    "    \"/home/srs-9/Projects/ms_mri/data/hipsthomas_struct_index.csv\", index_col=\"index\"\n",
    ")['struct']\n",
    "hips_thomas_invref = pd.read_csv(\n",
    "    \"/home/srs-9/Projects/ms_mri/data/hipsthomas_struct_index.csv\", index_col=\"struct\"\n",
    ")['index']\n",
    "\n",
    "mni_dists = pd.read_csv(\n",
    "    \"/home/srs-9/Projects/ms_mri/data/mni_centroid_centroid_dists.csv\",\n",
    "    index_col=\"index\",\n",
    ")\n",
    "mni_dists['struct'] = hips_thomas_ref\n",
    "\n",
    "mni_dists2 = pd.read_csv(\n",
    "    \"/home/srs-9/Projects/ms_mri/data/mni_choroid_struct_SDT.csv\",\n",
    "    index_col=\"index\",\n",
    ")\n",
    "mni_dists2['struct'] = hips_thomas_ref\n",
    "\n",
    "mni_ventricle_dists = pd.read_csv(\n",
    "    \"/home/srs-9/Projects/ms_mri/data/mni_ventricle_centroid_centroid_dists.csv\",\n",
    "    index_col=\"index\",\n",
    ")\n",
    "mni_ventricle_dists['struct'] = hips_thomas_ref\n",
    "\n",
    "def combine_nuclei(df):\n",
    "    df2 = pd.DataFrame()\n",
    "    df2['anterior'] = df['AV_2']\n",
    "    df2['ventral'] = df['VA_4'] + df['VLa_5'] + df['VLP_6'] + df['VPL_7']\n",
    "    df2['intralaminar'] = df['CM_11'] \n",
    "    df2['medial'] = df['MD_Pf_12']\n",
    "    df2['posterior'] = df['Pul_8'] + df['LGN_9'] + df['MGN_10']\n",
    "    df2['THALAMUS_1'] = df['THALAMUS_1']\n",
    "    return df2\n",
    "\n",
    "def combine_nuclei2(df):\n",
    "    df2 = pd.DataFrame()\n",
    "    df2['anterior'] = df['AV_2']\n",
    "    df2['ventral'] = df['VA_4'] + df['VLa_5'] + df['VLP_6'] + df['VPL_7']\n",
    "    df2['medial'] = df['MD_Pf_12'] + df['CM_11'] \n",
    "    df2['posterior'] = df['Pul_8'] + df['LGN_9'] + df['MGN_10']\n",
    "    df2['THALAMUS_1'] = df['THALAMUS_1']\n",
    "    return df2\n",
    "\n",
    "mni_combined_dists = pd.read_csv('/home/srs-9/Projects/ms_mri/data/mni_combined_nuclei_centroid_centroid_dists.csv', index_col=\"index\")\n",
    "\n",
    "df_thomas2 = combine_nuclei2(df_thomas)\n",
    "grouped_nuclei = df_thomas2.columns[~df_thomas2.columns.isin([\"THALAMUS_1\"])]\n",
    "df_thomas2_z = df_thomas2.apply(stats.zscore, nan_policy=\"omit\")\n",
    "df_thomas2_norm = df_thomas2.apply(lambda col: col / df_thomas['THALAMUS_1'])\n",
    "df_thomas2_norm_z = df_thomas2_norm.apply(stats.zscore, nan_policy=\"omit\")\n",
    "\n",
    "df_thomas2_left = combine_nuclei2(df_thomas_left)\n",
    "df_thomas2_left_z = df_thomas2_left.apply(stats.zscore, nan_policy=\"omit\")\n",
    "df_thomas2_norm_left = df_thomas2.apply(lambda col: col / df_thomas['THALAMUS_1'])\n",
    "df_thomas2_norm_left_z = df_thomas2_norm_left.apply(stats.zscore, nan_policy=\"omit\")\n",
    "\n",
    "df_thomas2_right = combine_nuclei2(df_thomas_right)\n",
    "df_thomas2_right_z = df_thomas2_right.apply(stats.zscore, nan_policy=\"omit\")\n",
    "df_thomas2_norm_right = df_thomas2.apply(lambda col: col / df_thomas['THALAMUS_1'])\n",
    "df_thomas2_norm_right_z = df_thomas2_norm_right.apply(stats.zscore, nan_policy=\"omit\")"
   ]
  },
  {
   "cell_type": "code",
   "execution_count": 15,
   "id": "5d82ef8a",
   "metadata": {},
   "outputs": [
    {
     "data": {
      "application/vnd.microsoft.datawrangler.viewer.v0+json": {
       "columns": [
        {
         "name": "index",
         "rawType": "int64",
         "type": "integer"
        },
        {
         "name": "struct",
         "rawType": "object",
         "type": "string"
        }
       ],
       "ref": "0f1bddb4-43e0-4967-a4ac-4be90372b67f",
       "rows": [
        [
         "1",
         "THALAMUS_1"
        ],
        [
         "2",
         "AV_2"
        ],
        [
         "4",
         "VA_4"
        ],
        [
         "5",
         "VLa_5"
        ],
        [
         "6",
         "VLP_6"
        ],
        [
         "7",
         "VPL_7"
        ],
        [
         "8",
         "Pul_8"
        ],
        [
         "9",
         "LGN_9"
        ],
        [
         "10",
         "MGN_10"
        ],
        [
         "11",
         "CM_11"
        ],
        [
         "12",
         "MD_Pf_12"
        ],
        [
         "13",
         "Hb_13"
        ],
        [
         "14",
         "MTT_14"
        ],
        [
         "26",
         "Acc_26"
        ],
        [
         "27",
         "Cau_27"
        ],
        [
         "28",
         "Cla_28"
        ],
        [
         "29",
         "GPe_29"
        ],
        [
         "30",
         "GPi_30"
        ],
        [
         "31",
         "Put_31"
        ],
        [
         "32",
         "RN_32"
        ],
        [
         "33",
         "GP_33"
        ],
        [
         "34",
         "Amy_34"
        ]
       ],
       "shape": {
        "columns": 1,
        "rows": 22
       }
      },
      "text/plain": [
       "index\n",
       "1     THALAMUS_1\n",
       "2           AV_2\n",
       "4           VA_4\n",
       "5          VLa_5\n",
       "6          VLP_6\n",
       "7          VPL_7\n",
       "8          Pul_8\n",
       "9          LGN_9\n",
       "10        MGN_10\n",
       "11         CM_11\n",
       "12      MD_Pf_12\n",
       "13         Hb_13\n",
       "14        MTT_14\n",
       "26        Acc_26\n",
       "27        Cau_27\n",
       "28        Cla_28\n",
       "29        GPe_29\n",
       "30        GPi_30\n",
       "31        Put_31\n",
       "32         RN_32\n",
       "33         GP_33\n",
       "34        Amy_34\n",
       "Name: struct, dtype: object"
      ]
     },
     "execution_count": 15,
     "metadata": {},
     "output_type": "execute_result"
    }
   ],
   "source": [
    "hips_thomas_ref"
   ]
  },
  {
   "cell_type": "markdown",
   "id": "a85ba3ef",
   "metadata": {},
   "source": [
    "## Functions"
   ]
  },
  {
   "cell_type": "code",
   "execution_count": 6,
   "id": "13fdf469",
   "metadata": {},
   "outputs": [],
   "source": [
    "def regress_all_nuclei(model_data, covariates, outcome, structs):\n",
    "    pvals = {}\n",
    "    coefs = {}\n",
    "    se = {}\n",
    "\n",
    "    if len(covariates) > 0:\n",
    "        plus_covariates = f\"+ {covariates}\"\n",
    "    else:\n",
    "        plus_covariates = \"\"\n",
    "    all_results = {}\n",
    "    for struct in structs:\n",
    "        formula = f\"{outcome} ~ {struct}*dzdur*dz_type5 {plus_covariates}\"\n",
    "        res = sm.OLS.from_formula(formula, data=model_data).fit()\n",
    "        pvals[struct] = res.pvalues[struct]\n",
    "        coefs[struct] = res.params[struct]\n",
    "        se[struct] = res.HC0_se[struct]\n",
    "        all_results[struct] = res\n",
    "\n",
    "    regression_results = pd.DataFrame({\"coef\": coefs, \"pvals\": pvals, \"se\": se})\n",
    "    regression_results['p_fdr'] = stats.false_discovery_control(\n",
    "        regression_results['pvals'], method='bh'\n",
    "    )\n",
    "    # regression_results = regression_results.sort_values(by=\"coef\", ascending=True)\n",
    "    regression_results.insert(0, \"struct\", regression_results.index)\n",
    "    new_index = []\n",
    "    for item in regression_results.struct:\n",
    "        new_index.append(int(re.match(r\".+_(\\d+)$\", item)[1]))\n",
    "\n",
    "    for i, row in regression_results.iterrows():\n",
    "        if row['p_fdr'] < 0.05:\n",
    "            regression_results.loc[i, 'coef_sig'] = row['coef']\n",
    "        else:\n",
    "            regression_results.loc[i, 'coef_sig'] = 0\n",
    "\n",
    "    regression_results.index = new_index\n",
    "    return regression_results\n",
    "\n",
    "\n",
    "def run_regressions(model_data, covariates, pred, outcomes):\n",
    "    pvals = {}\n",
    "    coefs = {}\n",
    "    se = {}\n",
    "    llci = {}\n",
    "    ulci = {}\n",
    "    ci_str = {}\n",
    "    r2 = {}\n",
    "\n",
    "    if len(covariates) > 0:\n",
    "        plus_covariates = f\"+ {covariates}\"\n",
    "    else:\n",
    "        plus_covariates = \"\"\n",
    "    all_results = {}\n",
    "    for outcome in outcomes:\n",
    "        formula = f\"{outcome} ~ {pred} {plus_covariates}\"\n",
    "        res = sm.OLS.from_formula(formula, data=model_data).fit()\n",
    "        pvals[outcome] = res.pvalues[pred]\n",
    "        coefs[outcome] = res.params[pred]\n",
    "        se[outcome] = res.HC0_se[pred]\n",
    "        all_results[outcome] = res\n",
    "        ci = res.conf_int()\n",
    "        llci[outcome] = ci.loc[pred, 0]\n",
    "        ulci[outcome] = ci.loc[pred, 1]\n",
    "        ci_str[outcome] = f\"[{llci[outcome]:.6f}, {ulci[outcome]:.6f}]\"\n",
    "        r2[outcome] = res.rsquared_adj\n",
    "\n",
    "    regression_results = pd.DataFrame(\n",
    "        {\n",
    "            \"coef\": coefs,\n",
    "            \"pvals\": pvals,\n",
    "            \"se\": se,\n",
    "            \"llci\": llci,\n",
    "            \"ulci\": ulci,\n",
    "            \"ci\": ci_str,\n",
    "        }\n",
    "    )\n",
    "    regression_results['p_fdr'] = stats.false_discovery_control(\n",
    "        regression_results['pvals'], method='bh'\n",
    "    )\n",
    "    regression_results['R2'] = r2\n",
    "\n",
    "    # regression_results = regression_results.sort_values(by=\"coef\", ascending=True)\n",
    "\n",
    "    for i, row in regression_results.iterrows():\n",
    "        if row['p_fdr'] < 0.05:\n",
    "            regression_results.loc[i, 'coef_sig'] = row['coef']\n",
    "        else:\n",
    "            regression_results.loc[i, 'coef_sig'] = 0\n",
    "\n",
    "    return regression_results\n",
    "\n",
    "def fix_hipsthomas_regression_results(regression_results: pd.DataFrame):\n",
    "    regression_results.insert(0, \"outcome\", regression_results.index)\n",
    "    new_index = []\n",
    "    for item in regression_results.index:\n",
    "        new_index.append(int(re.match(r\".+_(\\d+)$\", item)[1]))\n",
    "    regression_results.index = new_index\n",
    "    regression_results.rename(columns={\"outcome\": \"struct\"}, inplace=True)\n",
    "    return regression_results\n",
    "\n",
    "\n",
    "def scatter_hist(\n",
    "    x, y, ax, ax_histx, ax_histy, nbins=10, light_color=None, dark_color=None\n",
    "):\n",
    "    if light_color is None:\n",
    "        light_color = \"#1f77b4\"\n",
    "    if dark_color is None:\n",
    "        dark_color = \"#1f77b4\"\n",
    "\n",
    "    # make axes look nice\n",
    "    ax_histx.set_axis_off()\n",
    "    ax_histy.set_axis_off()\n",
    "    ax.xaxis.set_ticks_position(\"both\")\n",
    "    ax.yaxis.set_ticks_position(\"both\")\n",
    "\n",
    "    # the scatter plot:\n",
    "    ax.scatter(x, y, color=dark_color)\n",
    "    ylim = ax.get_ylim()\n",
    "\n",
    "    # the histograms\n",
    "    xbins = np.linspace(np.min(x), np.max(x), nbins)\n",
    "    ybins = np.linspace(np.min(y), np.max(y), nbins)\n",
    "    ax_histx.hist(x, bins=xbins, color=\"gray\", density=True)\n",
    "    ax_histy.hist(\n",
    "        y, bins=ybins, orientation=\"horizontal\", color=light_color, density=True\n",
    "    )\n",
    "\n",
    "    # kde to plot on histograms\n",
    "    densityx = stats.gaussian_kde(x.dropna())\n",
    "    densityy = stats.gaussian_kde(y.dropna())\n",
    "    xx = np.linspace(np.min(x), np.max(x), 50)\n",
    "    xy = np.linspace(np.min(y), np.max(y), 50)\n",
    "    ax_histx.plot(xx, densityx(xx), color=\"black\")\n",
    "    ax_histy.plot(densityy(xy), xy, color=dark_color)\n",
    "    \n",
    "    ax_histy.set_ylim(ylim)\n",
    "\n",
    "\n",
    "def plot_regression(\n",
    "    data, predictor, outcome, covariates, xlabel=None, ylabel=None, title=None,\n",
    "    color=\"blue1\"\n",
    "):\n",
    "    plus_covariates = \"\"\n",
    "    if len(covariates) > 0:\n",
    "        plus_covariates = f\"+ {' + '.join(covariates)}\"\n",
    "    if xlabel is None:\n",
    "        xlabel = predictor\n",
    "    if ylabel is None:\n",
    "        ylabel = outcome\n",
    "    if title is None:\n",
    "        title = f\"{outcome} vs {predictor}\"\n",
    "    \n",
    "    light_color = colors[f\"light {color}\"]\n",
    "    dark_color = colors[f\"dark {color}\"]\n",
    "\n",
    "    formula = f\"{outcome} ~ {predictor} {plus_covariates}\"\n",
    "    res = sm.OLS.from_formula(formula, data=data).fit()\n",
    "    x, y_pred, y_lims = helpers.get_regression_y(data, res, predictor, outcome)\n",
    "\n",
    "    fig, axs = plt.subplot_mosaic(\n",
    "        [['histx', '.'], ['scatter', 'histy']],\n",
    "        figsize=(8, 6),\n",
    "        width_ratios=(4, 1),\n",
    "        height_ratios=(1, 4),\n",
    "        layout='constrained'\n",
    "    )\n",
    "    axs['scatter'].plot(x, y_pred, color=\"black\")\n",
    "    axs['scatter'].fill_between(\n",
    "        x, y_lims[0], y_lims[1], alpha=0.4, color=light_color\n",
    "    )\n",
    "    scatter_hist(\n",
    "        data[predictor],\n",
    "        data[outcome],\n",
    "        axs['scatter'],\n",
    "        axs['histx'],\n",
    "        axs['histy'],\n",
    "        light_color=light_color,\n",
    "        dark_color=dark_color,\n",
    "    )\n",
    "        \n",
    "    axs['scatter'].set_ylabel(ylabel)\n",
    "    axs['scatter'].set_xlabel(xlabel)\n",
    "    fig.suptitle(title)\n",
    "    return fig, axs"
   ]
  },
  {
   "cell_type": "markdown",
   "id": "9807fbb7",
   "metadata": {},
   "source": [
    "## Assumption Checks"
   ]
  },
  {
   "cell_type": "code",
   "execution_count": null,
   "id": "4ae00cb1",
   "metadata": {},
   "outputs": [],
   "source": [
    "df_ms_z = df_z[df_z.dz_type2 == \"MS\"]\n",
    "model_data = df_ms_z.join([df_thomas_z])\n",
    "\n",
    "variables = [\"choroid_volume\", \"cortical_thickness\", \"THALAMUS_1\", \"t2lv\", \"PRL\"]\n",
    "\n",
    "vif_data = model_data[variables]\n",
    "vif = pd.DataFrame()\n",
    "vif['var'] = vif_data.columns\n",
    "vif.set_index(\"var\", inplace=True)\n",
    "vif['VIF'] = [\n",
    "    variance_inflation_factor(\n",
    "        vif_data.values,\n",
    "        i,\n",
    "    )\n",
    "    for i in range(len(vif_data.columns))\n",
    "]\n",
    "\n",
    "vif"
   ]
  },
  {
   "cell_type": "code",
   "execution_count": 139,
   "id": "249fe25e",
   "metadata": {},
   "outputs": [
    {
     "data": {
      "text/plain": [
       "ShapiroResult(statistic=0.9952982257428726, pvalue=0.07867740797828145)"
      ]
     },
     "execution_count": 139,
     "metadata": {},
     "output_type": "execute_result"
    },
    {
     "data": {
      "image/png": "[encoded data removed]",
      "text/plain": [
       "<Figure size 640x480 with 1 Axes>"
      ]
     },
     "metadata": {},
     "output_type": "display_data"
    }
   ],
   "source": [
    "check = np.power(df_thomas['THALAMUS_1'], 2)\n",
    "plt.hist(check)\n",
    "stats.shapiro(check, nan_policy='omit')\n"
   ]
  },
  {
   "cell_type": "code",
   "execution_count": 140,
   "id": "7bc6d691",
   "metadata": {},
   "outputs": [
    {
     "data": {
      "text/plain": [
       "(array([ 23.,  50.,  83., 137., 117.,  85.,  50.,  16.,  10.,   4.]),\n",
       " array([  2.559994 ,  27.2896887,  52.0193834,  76.7490781, 101.4787728,\n",
       "        126.2084675, 150.9381622, 175.6678569, 200.3975516, 225.1272463,\n",
       "        249.856941 ]),\n",
       " <BarContainer object of 10 artists>)"
      ]
     },
     "execution_count": 140,
     "metadata": {},
     "output_type": "execute_result"
    },
    {
     "data": {
      "image/png": "[encoded data removed]",
      "text/plain": [
       "<Figure size 640x480 with 1 Axes>"
      ]
     },
     "metadata": {},
     "output_type": "display_data"
    }
   ],
   "source": [
    "plt.hist(df_thomas['AV_2'])"
   ]
  },
  {
   "cell_type": "markdown",
   "id": "8a061b89",
   "metadata": {},
   "source": [
    "## Analysis"
   ]
  },
  {
   "cell_type": "markdown",
   "id": "eb0c42dd",
   "metadata": {},
   "source": [
    "### CP and Other Inflammatory Markers"
   ]
  },
  {
   "cell_type": "code",
   "execution_count": 109,
   "id": "69f89bb1",
   "metadata": {},
   "outputs": [
    {
     "data": {
      "application/vnd.microsoft.datawrangler.viewer.v0+json": {
       "columns": [
        {
         "name": "index",
         "rawType": "object",
         "type": "string"
        },
        {
         "name": "coef",
         "rawType": "float64",
         "type": "float"
        },
        {
         "name": "pvals",
         "rawType": "float64",
         "type": "float"
        },
        {
         "name": "se",
         "rawType": "float64",
         "type": "float"
        },
        {
         "name": "llci",
         "rawType": "float64",
         "type": "float"
        },
        {
         "name": "ulci",
         "rawType": "float64",
         "type": "float"
        },
        {
         "name": "ci",
         "rawType": "object",
         "type": "string"
        },
        {
         "name": "p_fdr",
         "rawType": "float64",
         "type": "float"
        },
        {
         "name": "R2",
         "rawType": "float64",
         "type": "float"
        },
        {
         "name": "coef_sig",
         "rawType": "float64",
         "type": "float"
        }
       ],
       "ref": "6e247a47-3c1f-4317-ba00-ad57fb137b80",
       "rows": [
        [
         "ventricle_logtrans",
         "0.6201125115514359",
         "1.869061615390197e-53",
         "0.032681774410070294",
         "0.5508902603536324",
         "0.6893347627492393",
         "[0.550890, 0.689335]",
         "1.3083431307731378e-52",
         "0.5505998127443985",
         "0.6201125115514359"
        ],
        [
         "THALAMUS_1",
         "-0.4233475868868328",
         "3.4960556853791076e-24",
         "0.04654206149278175",
         "-0.5007941824296606",
         "-0.34590099134400515",
         "[-0.500794, -0.345901]",
         "1.2236194898826877e-23",
         "0.4305582158086486",
         "-0.4233475868868328"
        ],
        [
         "t2lv_logtrans",
         "0.33568353185695576",
         "1.0538442579985872e-12",
         "0.05026732138519823",
         "0.24565467309429478",
         "0.42571239061961674",
         "[0.245655, 0.425712]",
         "1.8442274514975275e-12",
         "0.1873127704808789",
         "0.33568353185695576"
        ],
        [
         "cortical_thickness",
         "-0.3258291789508148",
         "1.9133845803493163e-13",
         "0.04545572683665413",
         "-0.41030940211480316",
         "-0.24134895578682644",
         "[-0.410309, -0.241349]",
         "4.4645640208150716e-13",
         "0.32429614558515774",
         "-0.3258291789508148"
        ],
        [
         "brain",
         "-0.29702155958819254",
         "4.109654680414936e-11",
         "0.04399774389128884",
         "-0.38333638840999",
         "-0.21070673076639507",
         "[-0.383336, -0.210707]",
         "5.75351655258091e-11",
         "0.3059138586015786",
         "-0.29702155958819254"
        ],
        [
         "white",
         "-0.2871844930824546",
         "2.6943544293077975e-09",
         "0.04498696847010126",
         "-0.3801863776683774",
         "-0.1941826084965318",
         "[-0.380186, -0.194183]",
         "3.1434135008590973e-09",
         "0.18839023243965214",
         "-0.2871844930824546"
        ],
        [
         "grey",
         "-0.2408964730868079",
         "2.0629663324303457e-08",
         "0.04507484847057262",
         "-0.323854547206201",
         "-0.1579383989674148",
         "[-0.323855, -0.157938]",
         "2.0629663324303457e-08",
         "0.3580581562690732",
         "-0.2408964730868079"
        ]
       ],
       "shape": {
        "columns": 9,
        "rows": 7
       }
      },
      "text/html": [
       "<div>\n",
       "<style scoped>\n",
       "    .dataframe tbody tr th:only-of-type {\n",
       "        vertical-align: middle;\n",
       "    }\n",
       "\n",
       "    .dataframe tbody tr th {\n",
       "        vertical-align: top;\n",
       "    }\n",
       "\n",
       "    .dataframe thead th {\n",
       "        text-align: right;\n",
       "    }\n",
       "</style>\n",
       "<table border=\"1\" class=\"dataframe\">\n",
       "  <thead>\n",
       "    <tr style=\"text-align: right;\">\n",
       "      <th></th>\n",
       "      <th>coef</th>\n",
       "      <th>pvals</th>\n",
       "      <th>se</th>\n",
       "      <th>llci</th>\n",
       "      <th>ulci</th>\n",
       "      <th>ci</th>\n",
       "      <th>p_fdr</th>\n",
       "      <th>R2</th>\n",
       "      <th>coef_sig</th>\n",
       "    </tr>\n",
       "  </thead>\n",
       "  <tbody>\n",
       "    <tr>\n",
       "      <th>ventricle_logtrans</th>\n",
       "      <td>0.620113</td>\n",
       "      <td>1.869062e-53</td>\n",
       "      <td>0.032682</td>\n",
       "      <td>0.550890</td>\n",
       "      <td>0.689335</td>\n",
       "      <td>[0.550890, 0.689335]</td>\n",
       "      <td>1.308343e-52</td>\n",
       "      <td>0.550600</td>\n",
       "      <td>0.620113</td>\n",
       "    </tr>\n",
       "    <tr>\n",
       "      <th>THALAMUS_1</th>\n",
       "      <td>-0.423348</td>\n",
       "      <td>3.496056e-24</td>\n",
       "      <td>0.046542</td>\n",
       "      <td>-0.500794</td>\n",
       "      <td>-0.345901</td>\n",
       "      <td>[-0.500794, -0.345901]</td>\n",
       "      <td>1.223619e-23</td>\n",
       "      <td>0.430558</td>\n",
       "      <td>-0.423348</td>\n",
       "    </tr>\n",
       "    <tr>\n",
       "      <th>t2lv_logtrans</th>\n",
       "      <td>0.335684</td>\n",
       "      <td>1.053844e-12</td>\n",
       "      <td>0.050267</td>\n",
       "      <td>0.245655</td>\n",
       "      <td>0.425712</td>\n",
       "      <td>[0.245655, 0.425712]</td>\n",
       "      <td>1.844227e-12</td>\n",
       "      <td>0.187313</td>\n",
       "      <td>0.335684</td>\n",
       "    </tr>\n",
       "    <tr>\n",
       "      <th>cortical_thickness</th>\n",
       "      <td>-0.325829</td>\n",
       "      <td>1.913385e-13</td>\n",
       "      <td>0.045456</td>\n",
       "      <td>-0.410309</td>\n",
       "      <td>-0.241349</td>\n",
       "      <td>[-0.410309, -0.241349]</td>\n",
       "      <td>4.464564e-13</td>\n",
       "      <td>0.324296</td>\n",
       "      <td>-0.325829</td>\n",
       "    </tr>\n",
       "    <tr>\n",
       "      <th>brain</th>\n",
       "      <td>-0.297022</td>\n",
       "      <td>4.109655e-11</td>\n",
       "      <td>0.043998</td>\n",
       "      <td>-0.383336</td>\n",
       "      <td>-0.210707</td>\n",
       "      <td>[-0.383336, -0.210707]</td>\n",
       "      <td>5.753517e-11</td>\n",
       "      <td>0.305914</td>\n",
       "      <td>-0.297022</td>\n",
       "    </tr>\n",
       "    <tr>\n",
       "      <th>white</th>\n",
       "      <td>-0.287184</td>\n",
       "      <td>2.694354e-09</td>\n",
       "      <td>0.044987</td>\n",
       "      <td>-0.380186</td>\n",
       "      <td>-0.194183</td>\n",
       "      <td>[-0.380186, -0.194183]</td>\n",
       "      <td>3.143414e-09</td>\n",
       "      <td>0.188390</td>\n",
       "      <td>-0.287184</td>\n",
       "    </tr>\n",
       "    <tr>\n",
       "      <th>grey</th>\n",
       "      <td>-0.240896</td>\n",
       "      <td>2.062966e-08</td>\n",
       "      <td>0.045075</td>\n",
       "      <td>-0.323855</td>\n",
       "      <td>-0.157938</td>\n",
       "      <td>[-0.323855, -0.157938]</td>\n",
       "      <td>2.062966e-08</td>\n",
       "      <td>0.358058</td>\n",
       "      <td>-0.240896</td>\n",
       "    </tr>\n",
       "  </tbody>\n",
       "</table>\n",
       "</div>"
      ],
      "text/plain": [
       "                        coef         pvals        se      llci      ulci  \\\n",
       "ventricle_logtrans  0.620113  1.869062e-53  0.032682  0.550890  0.689335   \n",
       "THALAMUS_1         -0.423348  3.496056e-24  0.046542 -0.500794 -0.345901   \n",
       "t2lv_logtrans       0.335684  1.053844e-12  0.050267  0.245655  0.425712   \n",
       "cortical_thickness -0.325829  1.913385e-13  0.045456 -0.410309 -0.241349   \n",
       "brain              -0.297022  4.109655e-11  0.043998 -0.383336 -0.210707   \n",
       "white              -0.287184  2.694354e-09  0.044987 -0.380186 -0.194183   \n",
       "grey               -0.240896  2.062966e-08  0.045075 -0.323855 -0.157938   \n",
       "\n",
       "                                        ci         p_fdr        R2  coef_sig  \n",
       "ventricle_logtrans    [0.550890, 0.689335]  1.308343e-52  0.550600  0.620113  \n",
       "THALAMUS_1          [-0.500794, -0.345901]  1.223619e-23  0.430558 -0.423348  \n",
       "t2lv_logtrans         [0.245655, 0.425712]  1.844227e-12  0.187313  0.335684  \n",
       "cortical_thickness  [-0.410309, -0.241349]  4.464564e-13  0.324296 -0.325829  \n",
       "brain               [-0.383336, -0.210707]  5.753517e-11  0.305914 -0.297022  \n",
       "white               [-0.380186, -0.194183]  3.143414e-09  0.188390 -0.287184  \n",
       "grey                [-0.323855, -0.157938]  2.062966e-08  0.358058 -0.240896  "
      ]
     },
     "execution_count": 109,
     "metadata": {},
     "output_type": "execute_result"
    }
   ],
   "source": [
    "outcomes = [\n",
    "    \"t2lv_logtrans\",\n",
    "    \"THALAMUS_1\",\n",
    "    \"brain\",\n",
    "    \"grey\",\n",
    "    \"white\",\n",
    "    \"cortical_thickness\",\n",
    "    \"ventricle_logtrans\",\n",
    "]\n",
    "covariates = \"age + Female + tiv\"\n",
    "\n",
    "df_ms_z = df_z[df_z.dz_type2 == \"MS\"]\n",
    "model_data = df_ms_z.join([df_thomas_z])\n",
    "\n",
    "regression_results = run_regressions(model_data, covariates, \"choroid_volume\", outcomes)\n",
    "regression_results.sort_values(by=\"coef\", key=np.abs, ascending=False, inplace=True)\n",
    "regression_results.to_excel(fig_path / \"choroid_vs_inflammatory_markers.xlsx\")\n",
    "regression_results"
   ]
  },
  {
   "cell_type": "markdown",
   "id": "4cd9410c",
   "metadata": {},
   "source": [
    "#### Plot markers vs CP"
   ]
  },
  {
   "cell_type": "code",
   "execution_count": 115,
   "id": "ab555e99",
   "metadata": {},
   "outputs": [
    {
     "data": {
      "image/png": "[encoded data removed]",
      "text/plain": [
       "<Figure size 800x600 with 3 Axes>"
      ]
     },
     "metadata": {},
     "output_type": "display_data"
    },
    {
     "data": {
      "image/png": "[encoded data removed]",
      "text/plain": [
       "<Figure size 800x600 with 3 Axes>"
      ]
     },
     "metadata": {},
     "output_type": "display_data"
    },
    {
     "data": {
      "image/png": "[encoded data removed]",
      "text/plain": [
       "<Figure size 800x600 with 3 Axes>"
      ]
     },
     "metadata": {},
     "output_type": "display_data"
    },
    {
     "data": {
      "image/png": "[encoded data removed]",
      "text/plain": [
       "<Figure size 800x600 with 3 Axes>"
      ]
     },
     "metadata": {},
     "output_type": "display_data"
    }
   ],
   "source": [
    "plot_data = df.join([df_thomas])\n",
    "plot_data = plot_data[plot_data.dz_type2 == \"MS\"]\n",
    "covariates = [\"age\", \"Female\", \"tiv\"]\n",
    "\n",
    "x_name = \"choroid_volume\"\n",
    "y_name = \"THALAMUS_1\"\n",
    "title = f\"{y_name} vs {x_name}, fit adjusted for {\", \".join(covariates)}\"\n",
    "fig, axs = plot_regression(plot_data, x_name, y_name, covariates, color=\"red1\",\n",
    "                           xlabel=x_name, ylabel=y_name, title=title)\n",
    "fig.savefig(fig_path / f\"plot_{y_name}_vs_{x_name}.png\", dpi=300)\n",
    "\n",
    "x_name = \"choroid_volume\"\n",
    "y_name = \"ventricle_logtrans\"\n",
    "title = f\"{y_name} vs {x_name}, fit adjusted for {\", \".join(covariates)}\"\n",
    "fig, axs = plot_regression(plot_data, x_name, y_name, covariates, color=\"purple1\",\n",
    "                           xlabel=x_name, ylabel=y_name, title=title)\n",
    "fig.savefig(fig_path / f\"plot_{y_name}_vs_{x_name}.png\", dpi=300)\n",
    "\n",
    "x_name = \"choroid_volume\"\n",
    "y_name = \"t2lv_logtrans\"\n",
    "title = f\"{y_name} vs {x_name}, fit adjusted for {\", \".join(covariates)}\"\n",
    "fig, axs = plot_regression(plot_data, x_name, y_name, covariates, color=\"blue1\",\n",
    "                           xlabel=x_name, ylabel=y_name, title=title)\n",
    "fig.savefig(fig_path / f\"plot_{y_name}_vs_{x_name}.png\", dpi=300)\n",
    "\n",
    "x_name = \"choroid_volume\"\n",
    "y_name = \"cortical_thickness\"\n",
    "title = f\"{y_name} vs {x_name}, fit adjusted for {\", \".join(covariates)}\"\n",
    "fig, axs = plot_regression(plot_data, x_name, y_name, covariates, color=\"green1\",\n",
    "                           xlabel=x_name, ylabel=y_name, title=title)\n",
    "fig.savefig(fig_path / f\"plot_{y_name}_vs_{x_name}.png\", dpi=300)"
   ]
  },
  {
   "cell_type": "markdown",
   "id": "14e1b26a",
   "metadata": {},
   "source": [
    "### HIPS-THOMAS and Inflammatory Markers"
   ]
  },
  {
   "cell_type": "markdown",
   "id": "b5d5355a",
   "metadata": {},
   "source": [
    "#### Each side for cartoon figure"
   ]
  },
  {
   "cell_type": "code",
   "execution_count": 146,
   "id": "657d84cb",
   "metadata": {},
   "outputs": [],
   "source": [
    "df_ms_z = df_z[df_z.dz_type2 == \"MS\"]\n",
    "model_data_left = df_ms_z.join([df_thomas_left_z])\n",
    "model_data_right = df_ms_z.join([df_thomas_right_z])\n",
    "\n",
    "structs = hips_thomas_ref[thalamic_nuclei]\n",
    "covariates = \"age + Female + tiv + THALAMUS_1\"\n",
    "\n",
    "predictors = [\"choroid_volume\"]\n",
    "regression_results_left = {}\n",
    "regression_results_right = {}\n",
    "for i, predictor in enumerate(predictors):\n",
    "    results_left = run_regressions(model_data_left, covariates, predictor, structs)\n",
    "    results_left = fix_hipsthomas_regression_results(results_left)\n",
    "    results_right = run_regressions(\n",
    "        model_data_right, covariates, predictor, structs\n",
    "    )\n",
    "    results_right = fix_hipsthomas_regression_results(results_right)\n",
    "    all_coefs = pd.concat([results_left.coef, results_right.coef])\n",
    "    bins = np.linspace(all_coefs.min() - 0.0001, all_coefs.max() - 0.0001, 10)\n",
    "    ranks = np.digitize(results_left.coef, bins)\n",
    "    results_left.insert(1, \"bin\", ranks)\n",
    "    ranks = np.digitize(results_right.coef, bins)\n",
    "    results_right.insert(1, \"bin\", ranks)\n",
    "    regression_results_left[predictor] = results_left\n",
    "    regression_results_right[predictor] = results_right"
   ]
  },
  {
   "cell_type": "code",
   "execution_count": 86,
   "id": "08b97069",
   "metadata": {},
   "outputs": [
    {
     "data": {
      "application/vnd.microsoft.datawrangler.viewer.v0+json": {
       "columns": [
        {
         "name": "index",
         "rawType": "int64",
         "type": "integer"
        },
        {
         "name": "struct",
         "rawType": "object",
         "type": "string"
        },
        {
         "name": "bin",
         "rawType": "int64",
         "type": "integer"
        },
        {
         "name": "coef",
         "rawType": "float64",
         "type": "float"
        },
        {
         "name": "pvals",
         "rawType": "float64",
         "type": "float"
        },
        {
         "name": "se",
         "rawType": "float64",
         "type": "float"
        },
        {
         "name": "llci",
         "rawType": "float64",
         "type": "float"
        },
        {
         "name": "ulci",
         "rawType": "float64",
         "type": "float"
        },
        {
         "name": "ci",
         "rawType": "object",
         "type": "string"
        },
        {
         "name": "p_fdr",
         "rawType": "float64",
         "type": "float"
        },
        {
         "name": "R2",
         "rawType": "float64",
         "type": "float"
        },
        {
         "name": "coef_sig",
         "rawType": "float64",
         "type": "float"
        }
       ],
       "ref": "68f6275e-6129-4b24-9da8-cd76ca7cf80f",
       "rows": [
        [
         "11",
         "CM_11",
         "1",
         "-0.08405644745777383",
         "0.03037395888978219",
         "0.03898235050736086",
         "-0.1601111077602634",
         "-0.00800178715528424",
         "[-0.160111, -0.008002]",
         "0.04339136984254598",
         "0.5472685895662581",
         "-0.08405644745777383"
        ],
        [
         "12",
         "MD_Pf_12",
         "1",
         "-0.08242932109179062",
         "0.0005993125953556341",
         "0.02415544153981318",
         "-0.1293020100087591",
         "-0.035556632174822134",
         "[-0.129302, -0.035557]",
         "0.001997708651185447",
         "0.8351862670928063",
         "-0.08242932109179062"
        ],
        [
         "8",
         "Pul_8",
         "2",
         "-0.050719150816676065",
         "0.013300774135157716",
         "0.01990769716416827",
         "-0.0908241381918054",
         "-0.010614163441546733",
         "[-0.090824, -0.010614]",
         "0.02216795689192953",
         "0.8732235988554866",
         "-0.050719150816676065"
        ],
        [
         "9",
         "LGN_9",
         "2",
         "-0.06274920645419459",
         "0.1313155043167265",
         "0.046236978230755205",
         "-0.14432369243610715",
         "0.018825279527717967",
         "[-0.144324, 0.018825]",
         "0.1487460300718799",
         "0.46297981390458043",
         "0.0"
        ],
        [
         "10",
         "MGN_10",
         "2",
         "-0.05451388952608961",
         "0.1338714270646919",
         "0.03846910873518021",
         "-0.12585282417052684",
         "0.01682504511834762",
         "[-0.125853, 0.016825]",
         "0.1487460300718799",
         "0.6111035808615238",
         "0.0"
        ],
        [
         "2",
         "AV_2",
         "4",
         "0.0006636990296173505",
         "0.9868640376041842",
         "0.043177937871831995",
         "-0.07851018816258187",
         "0.07983758622181658",
         "[-0.078510, 0.079838]",
         "0.9868640376041842",
         "0.46434747977729407",
         "0.0"
        ],
        [
         "5",
         "VLa_5",
         "7",
         "0.10499318425937715",
         "0.007940436554492088",
         "0.04090017007521911",
         "0.027608333446873384",
         "0.1823780350718809",
         "[0.027608, 0.182378]",
         "0.01826413096614426",
         "0.5060675445340466",
         "0.10499318425937715"
        ],
        [
         "6",
         "VLP_6",
         "7",
         "0.10214369470476048",
         "0.0001578475105976115",
         "0.02782954761070435",
         "0.04945823853305546",
         "0.15482915087646548",
         "[0.049458, 0.154829]",
         "0.0007892375529880575",
         "0.7816834412215458",
         "0.10214369470476048"
        ],
        [
         "7",
         "VPL_7",
         "7",
         "0.08785421885025572",
         "0.00913206548307213",
         "0.03692280021291608",
         "0.021912311246689423",
         "0.153796126453822",
         "[0.021912, 0.153796]",
         "0.01826413096614426",
         "0.6537241080014901",
         "0.08785421885025572"
        ],
        [
         "4",
         "VA_4",
         "9",
         "0.1593569162375596",
         "3.455557392435186e-06",
         "0.031014373850265498",
         "0.09271328754159376",
         "0.22600054493352545",
         "[0.092713, 0.226001]",
         "3.455557392435186e-05",
         "0.6544802347754317",
         "0.1593569162375596"
        ]
       ],
       "shape": {
        "columns": 11,
        "rows": 10
       }
      },
      "text/html": [
       "<div>\n",
       "<style scoped>\n",
       "    .dataframe tbody tr th:only-of-type {\n",
       "        vertical-align: middle;\n",
       "    }\n",
       "\n",
       "    .dataframe tbody tr th {\n",
       "        vertical-align: top;\n",
       "    }\n",
       "\n",
       "    .dataframe thead th {\n",
       "        text-align: right;\n",
       "    }\n",
       "</style>\n",
       "<table border=\"1\" class=\"dataframe\">\n",
       "  <thead>\n",
       "    <tr style=\"text-align: right;\">\n",
       "      <th></th>\n",
       "      <th>struct</th>\n",
       "      <th>bin</th>\n",
       "      <th>coef</th>\n",
       "      <th>pvals</th>\n",
       "      <th>se</th>\n",
       "      <th>llci</th>\n",
       "      <th>ulci</th>\n",
       "      <th>ci</th>\n",
       "      <th>p_fdr</th>\n",
       "      <th>R2</th>\n",
       "      <th>coef_sig</th>\n",
       "    </tr>\n",
       "  </thead>\n",
       "  <tbody>\n",
       "    <tr>\n",
       "      <th>11</th>\n",
       "      <td>CM_11</td>\n",
       "      <td>1</td>\n",
       "      <td>-0.084056</td>\n",
       "      <td>0.030374</td>\n",
       "      <td>0.038982</td>\n",
       "      <td>-0.160111</td>\n",
       "      <td>-0.008002</td>\n",
       "      <td>[-0.160111, -0.008002]</td>\n",
       "      <td>0.043391</td>\n",
       "      <td>0.547269</td>\n",
       "      <td>-0.084056</td>\n",
       "    </tr>\n",
       "    <tr>\n",
       "      <th>12</th>\n",
       "      <td>MD_Pf_12</td>\n",
       "      <td>1</td>\n",
       "      <td>-0.082429</td>\n",
       "      <td>0.000599</td>\n",
       "      <td>0.024155</td>\n",
       "      <td>-0.129302</td>\n",
       "      <td>-0.035557</td>\n",
       "      <td>[-0.129302, -0.035557]</td>\n",
       "      <td>0.001998</td>\n",
       "      <td>0.835186</td>\n",
       "      <td>-0.082429</td>\n",
       "    </tr>\n",
       "    <tr>\n",
       "      <th>8</th>\n",
       "      <td>Pul_8</td>\n",
       "      <td>2</td>\n",
       "      <td>-0.050719</td>\n",
       "      <td>0.013301</td>\n",
       "      <td>0.019908</td>\n",
       "      <td>-0.090824</td>\n",
       "      <td>-0.010614</td>\n",
       "      <td>[-0.090824, -0.010614]</td>\n",
       "      <td>0.022168</td>\n",
       "      <td>0.873224</td>\n",
       "      <td>-0.050719</td>\n",
       "    </tr>\n",
       "    <tr>\n",
       "      <th>9</th>\n",
       "      <td>LGN_9</td>\n",
       "      <td>2</td>\n",
       "      <td>-0.062749</td>\n",
       "      <td>0.131316</td>\n",
       "      <td>0.046237</td>\n",
       "      <td>-0.144324</td>\n",
       "      <td>0.018825</td>\n",
       "      <td>[-0.144324, 0.018825]</td>\n",
       "      <td>0.148746</td>\n",
       "      <td>0.462980</td>\n",
       "      <td>0.000000</td>\n",
       "    </tr>\n",
       "    <tr>\n",
       "      <th>10</th>\n",
       "      <td>MGN_10</td>\n",
       "      <td>2</td>\n",
       "      <td>-0.054514</td>\n",
       "      <td>0.133871</td>\n",
       "      <td>0.038469</td>\n",
       "      <td>-0.125853</td>\n",
       "      <td>0.016825</td>\n",
       "      <td>[-0.125853, 0.016825]</td>\n",
       "      <td>0.148746</td>\n",
       "      <td>0.611104</td>\n",
       "      <td>0.000000</td>\n",
       "    </tr>\n",
       "    <tr>\n",
       "      <th>2</th>\n",
       "      <td>AV_2</td>\n",
       "      <td>4</td>\n",
       "      <td>0.000664</td>\n",
       "      <td>0.986864</td>\n",
       "      <td>0.043178</td>\n",
       "      <td>-0.078510</td>\n",
       "      <td>0.079838</td>\n",
       "      <td>[-0.078510, 0.079838]</td>\n",
       "      <td>0.986864</td>\n",
       "      <td>0.464347</td>\n",
       "      <td>0.000000</td>\n",
       "    </tr>\n",
       "    <tr>\n",
       "      <th>5</th>\n",
       "      <td>VLa_5</td>\n",
       "      <td>7</td>\n",
       "      <td>0.104993</td>\n",
       "      <td>0.007940</td>\n",
       "      <td>0.040900</td>\n",
       "      <td>0.027608</td>\n",
       "      <td>0.182378</td>\n",
       "      <td>[0.027608, 0.182378]</td>\n",
       "      <td>0.018264</td>\n",
       "      <td>0.506068</td>\n",
       "      <td>0.104993</td>\n",
       "    </tr>\n",
       "    <tr>\n",
       "      <th>6</th>\n",
       "      <td>VLP_6</td>\n",
       "      <td>7</td>\n",
       "      <td>0.102144</td>\n",
       "      <td>0.000158</td>\n",
       "      <td>0.027830</td>\n",
       "      <td>0.049458</td>\n",
       "      <td>0.154829</td>\n",
       "      <td>[0.049458, 0.154829]</td>\n",
       "      <td>0.000789</td>\n",
       "      <td>0.781683</td>\n",
       "      <td>0.102144</td>\n",
       "    </tr>\n",
       "    <tr>\n",
       "      <th>7</th>\n",
       "      <td>VPL_7</td>\n",
       "      <td>7</td>\n",
       "      <td>0.087854</td>\n",
       "      <td>0.009132</td>\n",
       "      <td>0.036923</td>\n",
       "      <td>0.021912</td>\n",
       "      <td>0.153796</td>\n",
       "      <td>[0.021912, 0.153796]</td>\n",
       "      <td>0.018264</td>\n",
       "      <td>0.653724</td>\n",
       "      <td>0.087854</td>\n",
       "    </tr>\n",
       "    <tr>\n",
       "      <th>4</th>\n",
       "      <td>VA_4</td>\n",
       "      <td>9</td>\n",
       "      <td>0.159357</td>\n",
       "      <td>0.000003</td>\n",
       "      <td>0.031014</td>\n",
       "      <td>0.092713</td>\n",
       "      <td>0.226001</td>\n",
       "      <td>[0.092713, 0.226001]</td>\n",
       "      <td>0.000035</td>\n",
       "      <td>0.654480</td>\n",
       "      <td>0.159357</td>\n",
       "    </tr>\n",
       "  </tbody>\n",
       "</table>\n",
       "</div>"
      ],
      "text/plain": [
       "      struct  bin      coef     pvals        se      llci      ulci  \\\n",
       "11     CM_11    1 -0.084056  0.030374  0.038982 -0.160111 -0.008002   \n",
       "12  MD_Pf_12    1 -0.082429  0.000599  0.024155 -0.129302 -0.035557   \n",
       "8      Pul_8    2 -0.050719  0.013301  0.019908 -0.090824 -0.010614   \n",
       "9      LGN_9    2 -0.062749  0.131316  0.046237 -0.144324  0.018825   \n",
       "10    MGN_10    2 -0.054514  0.133871  0.038469 -0.125853  0.016825   \n",
       "2       AV_2    4  0.000664  0.986864  0.043178 -0.078510  0.079838   \n",
       "5      VLa_5    7  0.104993  0.007940  0.040900  0.027608  0.182378   \n",
       "6      VLP_6    7  0.102144  0.000158  0.027830  0.049458  0.154829   \n",
       "7      VPL_7    7  0.087854  0.009132  0.036923  0.021912  0.153796   \n",
       "4       VA_4    9  0.159357  0.000003  0.031014  0.092713  0.226001   \n",
       "\n",
       "                        ci     p_fdr        R2  coef_sig  \n",
       "11  [-0.160111, -0.008002]  0.043391  0.547269 -0.084056  \n",
       "12  [-0.129302, -0.035557]  0.001998  0.835186 -0.082429  \n",
       "8   [-0.090824, -0.010614]  0.022168  0.873224 -0.050719  \n",
       "9    [-0.144324, 0.018825]  0.148746  0.462980  0.000000  \n",
       "10   [-0.125853, 0.016825]  0.148746  0.611104  0.000000  \n",
       "2    [-0.078510, 0.079838]  0.986864  0.464347  0.000000  \n",
       "5     [0.027608, 0.182378]  0.018264  0.506068  0.104993  \n",
       "6     [0.049458, 0.154829]  0.000789  0.781683  0.102144  \n",
       "7     [0.021912, 0.153796]  0.018264  0.653724  0.087854  \n",
       "4     [0.092713, 0.226001]  0.000035  0.654480  0.159357  "
      ]
     },
     "execution_count": 86,
     "metadata": {},
     "output_type": "execute_result"
    }
   ],
   "source": [
    "regression_results_right['choroid_volume'].sort_values(by=\"bin\")"
   ]
  },
  {
   "cell_type": "code",
   "execution_count": null,
   "id": "550902d0",
   "metadata": {},
   "outputs": [],
   "source": [
    "regression_results_left['choroid_volume'].sort_values(by=\"bin\")"
   ]
  },
  {
   "cell_type": "markdown",
   "id": "ab5a713f",
   "metadata": {},
   "source": [
    "#### Bilateral for table"
   ]
  },
  {
   "cell_type": "code",
   "execution_count": 152,
   "id": "2e470c6c",
   "metadata": {},
   "outputs": [],
   "source": [
    "df_ms_z = df_z[df_z.dz_type2 == \"MS\"]\n",
    "model_data = df_ms_z.join([df_thomas_norm_z])\n",
    "\n",
    "structs = hips_thomas_ref[thalamic_nuclei]\n",
    "covariates = \"age + Female + tiv\"\n",
    "\n",
    "predictors = [\"choroid_volume\", \"ventricle_volume\", \"cortical_thickness\", \"t2lv\", \"PRL\"]\n",
    "regression_results = {}\n",
    "for i, predictor in enumerate(predictors):\n",
    "    result = run_regressions(\n",
    "        model_data, covariates, predictor, structs\n",
    "    )\n",
    "    regression_results[predictor] = fix_hipsthomas_regression_results(result)\n",
    "\n",
    "save_path = fig_path / \"hipsthomas_and_inflammatory_markers_normed_volumes.xlsx\"\n",
    "\n",
    "with pd.ExcelWriter(save_path) as writer:\n",
    "    for predictor in regression_results:\n",
    "        regression_results[predictor].to_excel(writer, sheet_name=predictor)\n"
   ]
  },
  {
   "cell_type": "code",
   "execution_count": 167,
   "id": "a1075205",
   "metadata": {},
   "outputs": [
    {
     "data": {
      "application/vnd.microsoft.datawrangler.viewer.v0+json": {
       "columns": [
        {
         "name": "index",
         "rawType": "object",
         "type": "string"
        },
        {
         "name": "coef",
         "rawType": "float64",
         "type": "float"
        },
        {
         "name": "pvals",
         "rawType": "float64",
         "type": "float"
        },
        {
         "name": "se",
         "rawType": "float64",
         "type": "float"
        },
        {
         "name": "llci",
         "rawType": "float64",
         "type": "float"
        },
        {
         "name": "ulci",
         "rawType": "float64",
         "type": "float"
        },
        {
         "name": "ci",
         "rawType": "object",
         "type": "string"
        },
        {
         "name": "p_fdr",
         "rawType": "float64",
         "type": "float"
        },
        {
         "name": "R2",
         "rawType": "float64",
         "type": "float"
        },
        {
         "name": "coef_sig",
         "rawType": "float64",
         "type": "float"
        }
       ],
       "ref": "47df4618-477e-4440-9137-d8d7e32ffcbb",
       "rows": [
        [
         "AV_2",
         "0.05979510901623925",
         "0.1627650430109001",
         "0.04830267935818358",
         "-0.024253059978145648",
         "0.14384327801062416",
         "[-0.024253, 0.143843]",
         "0.18085004778988903",
         "0.5618654971501363",
         "0.0"
        ],
        [
         "VA_4",
         "0.14381408002885676",
         "0.00014980949642391257",
         "0.03654523568916321",
         "0.06989526282494869",
         "0.21773289723276484",
         "[0.069895, 0.217733]",
         "0.0004993649880797086",
         "0.6898342630473484",
         "0.14381408002885676"
        ],
        [
         "VLa_5",
         "0.08429572419545667",
         "0.04552454208890107",
         "0.04812649734624611",
         "0.0016852412939784706",
         "0.16690620709693488",
         "[0.001685, 0.166906]",
         "0.07587423681483511",
         "0.5907312990433131",
         "0.0"
        ],
        [
         "VLP_6",
         "0.10520913377918656",
         "0.0002238568147479665",
         "0.03697700820080846",
         "0.0496308919709789",
         "0.16078737558739423",
         "[0.049631, 0.160787]",
         "0.0005596420368699163",
         "0.822359057284545",
         "0.10520913377918656"
        ],
        [
         "VPL_7",
         "0.14551869278677304",
         "1.0586819951485268e-05",
         "0.036769077533026565",
         "0.08131702416778643",
         "0.20972036140575967",
         "[0.081317, 0.209720]",
         "5.293409975742634e-05",
         "0.7614458225681672",
         "0.14551869278677304"
        ],
        [
         "Pul_8",
         "-0.003373373261183239",
         "0.8755580046727215",
         "0.025234615378422198",
         "-0.04568071195371527",
         "0.03893396543134879",
         "[-0.045681, 0.038934]",
         "0.8755580046727215",
         "0.8958366830412995",
         "0.0"
        ],
        [
         "LGN_9",
         "-0.11471072111395465",
         "0.009462467891434618",
         "0.05434890124844737",
         "-0.20121762270108895",
         "-0.028203819526820356",
         "[-0.201218, -0.028204]",
         "0.018924935782869235",
         "0.5646664005509553",
         "-0.11471072111395465"
        ],
        [
         "MGN_10",
         "-0.05255656329133512",
         "0.14838266883316467",
         "0.03450912144535784",
         "-0.12389789493115952",
         "0.018784768348489272",
         "[-0.123898, 0.018785]",
         "0.18085004778988903",
         "0.706627896095469",
         "0.0"
        ],
        [
         "CM_11",
         "-0.07511149133444175",
         "0.0651943343429523",
         "0.039055348596133375",
         "-0.15496905656382803",
         "0.004746073894944525",
         "[-0.154969, 0.004746]",
         "0.09313476334707471",
         "0.6252290638177047",
         "0.0"
        ],
        [
         "MD_Pf_12",
         "-0.12165262421011175",
         "4.831076432424125e-07",
         "0.026826393102666872",
         "-0.16847437273437307",
         "-0.07483087568585042",
         "[-0.168474, -0.074831]",
         "4.831076432424126e-06",
         "0.8784645324800524",
         "-0.12165262421011175"
        ]
       ],
       "shape": {
        "columns": 9,
        "rows": 10
       }
      },
      "text/html": [
       "<div>\n",
       "<style scoped>\n",
       "    .dataframe tbody tr th:only-of-type {\n",
       "        vertical-align: middle;\n",
       "    }\n",
       "\n",
       "    .dataframe tbody tr th {\n",
       "        vertical-align: top;\n",
       "    }\n",
       "\n",
       "    .dataframe thead th {\n",
       "        text-align: right;\n",
       "    }\n",
       "</style>\n",
       "<table border=\"1\" class=\"dataframe\">\n",
       "  <thead>\n",
       "    <tr style=\"text-align: right;\">\n",
       "      <th></th>\n",
       "      <th>coef</th>\n",
       "      <th>pvals</th>\n",
       "      <th>se</th>\n",
       "      <th>llci</th>\n",
       "      <th>ulci</th>\n",
       "      <th>ci</th>\n",
       "      <th>p_fdr</th>\n",
       "      <th>R2</th>\n",
       "      <th>coef_sig</th>\n",
       "    </tr>\n",
       "  </thead>\n",
       "  <tbody>\n",
       "    <tr>\n",
       "      <th>AV_2</th>\n",
       "      <td>0.059795</td>\n",
       "      <td>1.627650e-01</td>\n",
       "      <td>0.048303</td>\n",
       "      <td>-0.024253</td>\n",
       "      <td>0.143843</td>\n",
       "      <td>[-0.024253, 0.143843]</td>\n",
       "      <td>0.180850</td>\n",
       "      <td>0.561865</td>\n",
       "      <td>0.000000</td>\n",
       "    </tr>\n",
       "    <tr>\n",
       "      <th>VA_4</th>\n",
       "      <td>0.143814</td>\n",
       "      <td>1.498095e-04</td>\n",
       "      <td>0.036545</td>\n",
       "      <td>0.069895</td>\n",
       "      <td>0.217733</td>\n",
       "      <td>[0.069895, 0.217733]</td>\n",
       "      <td>0.000499</td>\n",
       "      <td>0.689834</td>\n",
       "      <td>0.143814</td>\n",
       "    </tr>\n",
       "    <tr>\n",
       "      <th>VLa_5</th>\n",
       "      <td>0.084296</td>\n",
       "      <td>4.552454e-02</td>\n",
       "      <td>0.048126</td>\n",
       "      <td>0.001685</td>\n",
       "      <td>0.166906</td>\n",
       "      <td>[0.001685, 0.166906]</td>\n",
       "      <td>0.075874</td>\n",
       "      <td>0.590731</td>\n",
       "      <td>0.000000</td>\n",
       "    </tr>\n",
       "    <tr>\n",
       "      <th>VLP_6</th>\n",
       "      <td>0.105209</td>\n",
       "      <td>2.238568e-04</td>\n",
       "      <td>0.036977</td>\n",
       "      <td>0.049631</td>\n",
       "      <td>0.160787</td>\n",
       "      <td>[0.049631, 0.160787]</td>\n",
       "      <td>0.000560</td>\n",
       "      <td>0.822359</td>\n",
       "      <td>0.105209</td>\n",
       "    </tr>\n",
       "    <tr>\n",
       "      <th>VPL_7</th>\n",
       "      <td>0.145519</td>\n",
       "      <td>1.058682e-05</td>\n",
       "      <td>0.036769</td>\n",
       "      <td>0.081317</td>\n",
       "      <td>0.209720</td>\n",
       "      <td>[0.081317, 0.209720]</td>\n",
       "      <td>0.000053</td>\n",
       "      <td>0.761446</td>\n",
       "      <td>0.145519</td>\n",
       "    </tr>\n",
       "    <tr>\n",
       "      <th>Pul_8</th>\n",
       "      <td>-0.003373</td>\n",
       "      <td>8.755580e-01</td>\n",
       "      <td>0.025235</td>\n",
       "      <td>-0.045681</td>\n",
       "      <td>0.038934</td>\n",
       "      <td>[-0.045681, 0.038934]</td>\n",
       "      <td>0.875558</td>\n",
       "      <td>0.895837</td>\n",
       "      <td>0.000000</td>\n",
       "    </tr>\n",
       "    <tr>\n",
       "      <th>LGN_9</th>\n",
       "      <td>-0.114711</td>\n",
       "      <td>9.462468e-03</td>\n",
       "      <td>0.054349</td>\n",
       "      <td>-0.201218</td>\n",
       "      <td>-0.028204</td>\n",
       "      <td>[-0.201218, -0.028204]</td>\n",
       "      <td>0.018925</td>\n",
       "      <td>0.564666</td>\n",
       "      <td>-0.114711</td>\n",
       "    </tr>\n",
       "    <tr>\n",
       "      <th>MGN_10</th>\n",
       "      <td>-0.052557</td>\n",
       "      <td>1.483827e-01</td>\n",
       "      <td>0.034509</td>\n",
       "      <td>-0.123898</td>\n",
       "      <td>0.018785</td>\n",
       "      <td>[-0.123898, 0.018785]</td>\n",
       "      <td>0.180850</td>\n",
       "      <td>0.706628</td>\n",
       "      <td>0.000000</td>\n",
       "    </tr>\n",
       "    <tr>\n",
       "      <th>CM_11</th>\n",
       "      <td>-0.075111</td>\n",
       "      <td>6.519433e-02</td>\n",
       "      <td>0.039055</td>\n",
       "      <td>-0.154969</td>\n",
       "      <td>0.004746</td>\n",
       "      <td>[-0.154969, 0.004746]</td>\n",
       "      <td>0.093135</td>\n",
       "      <td>0.625229</td>\n",
       "      <td>0.000000</td>\n",
       "    </tr>\n",
       "    <tr>\n",
       "      <th>MD_Pf_12</th>\n",
       "      <td>-0.121653</td>\n",
       "      <td>4.831076e-07</td>\n",
       "      <td>0.026826</td>\n",
       "      <td>-0.168474</td>\n",
       "      <td>-0.074831</td>\n",
       "      <td>[-0.168474, -0.074831]</td>\n",
       "      <td>0.000005</td>\n",
       "      <td>0.878465</td>\n",
       "      <td>-0.121653</td>\n",
       "    </tr>\n",
       "  </tbody>\n",
       "</table>\n",
       "</div>"
      ],
      "text/plain": [
       "              coef         pvals        se      llci      ulci  \\\n",
       "AV_2      0.059795  1.627650e-01  0.048303 -0.024253  0.143843   \n",
       "VA_4      0.143814  1.498095e-04  0.036545  0.069895  0.217733   \n",
       "VLa_5     0.084296  4.552454e-02  0.048126  0.001685  0.166906   \n",
       "VLP_6     0.105209  2.238568e-04  0.036977  0.049631  0.160787   \n",
       "VPL_7     0.145519  1.058682e-05  0.036769  0.081317  0.209720   \n",
       "Pul_8    -0.003373  8.755580e-01  0.025235 -0.045681  0.038934   \n",
       "LGN_9    -0.114711  9.462468e-03  0.054349 -0.201218 -0.028204   \n",
       "MGN_10   -0.052557  1.483827e-01  0.034509 -0.123898  0.018785   \n",
       "CM_11    -0.075111  6.519433e-02  0.039055 -0.154969  0.004746   \n",
       "MD_Pf_12 -0.121653  4.831076e-07  0.026826 -0.168474 -0.074831   \n",
       "\n",
       "                              ci     p_fdr        R2  coef_sig  \n",
       "AV_2       [-0.024253, 0.143843]  0.180850  0.561865  0.000000  \n",
       "VA_4        [0.069895, 0.217733]  0.000499  0.689834  0.143814  \n",
       "VLa_5       [0.001685, 0.166906]  0.075874  0.590731  0.000000  \n",
       "VLP_6       [0.049631, 0.160787]  0.000560  0.822359  0.105209  \n",
       "VPL_7       [0.081317, 0.209720]  0.000053  0.761446  0.145519  \n",
       "Pul_8      [-0.045681, 0.038934]  0.875558  0.895837  0.000000  \n",
       "LGN_9     [-0.201218, -0.028204]  0.018925  0.564666 -0.114711  \n",
       "MGN_10     [-0.123898, 0.018785]  0.180850  0.706628  0.000000  \n",
       "CM_11      [-0.154969, 0.004746]  0.093135  0.625229  0.000000  \n",
       "MD_Pf_12  [-0.168474, -0.074831]  0.000005  0.878465 -0.121653  "
      ]
     },
     "execution_count": 167,
     "metadata": {},
     "output_type": "execute_result"
    }
   ],
   "source": [
    "df_ms_z = df_z[df_z.dz_type2 == \"MS\"]\n",
    "model_data = df_ms_z.join([df_thomas_z])\n",
    "model_data = pd.concat([model_data, pd.get_dummies(model_data['dz_type5'])], axis=1)\n",
    "\n",
    "structs = hips_thomas_ref[thalamic_nuclei]\n",
    "\n",
    "\n",
    "formula = \"choroid_volume ~ ventricle_volume + age + Female + tiv + THALAMUS_1\"\n",
    "res = sm.OLS.from_formula(formula, data=model_data).fit()\n",
    "model_data['choroid_resid'] = res.resid\n",
    "\n",
    "predictor1 = \"choroid_volume\"\n",
    "predictor2 = \"ventricle_volume\"\n",
    "predictor3 = \"choroid_resid\"\n",
    "covariates1 = \"age + Female + tiv + ventricle_volume + THALAMUS_1\"\n",
    "covariates2 = \"age + Female + tiv + choroid_volume + THALAMUS_1\"\n",
    "covariates3 = \"age + Female + tiv\"\n",
    "result = run_regressions(\n",
    "        model_data, covariates2, predictor2, structs\n",
    "    )\n",
    "# result.to_excel(fig_path / \"hipsthomas_ventricle_choroid_control.xlsx\")\n",
    "result"
   ]
  },
  {
   "cell_type": "code",
   "execution_count": 51,
   "id": "193f8423",
   "metadata": {},
   "outputs": [
    {
     "data": {
      "application/vnd.microsoft.datawrangler.viewer.v0+json": {
       "columns": [
        {
         "name": "index",
         "rawType": "int64",
         "type": "integer"
        },
        {
         "name": "struct",
         "rawType": "object",
         "type": "string"
        },
        {
         "name": "coef",
         "rawType": "float64",
         "type": "float"
        },
        {
         "name": "pvals",
         "rawType": "float64",
         "type": "float"
        },
        {
         "name": "interaction_coefs",
         "rawType": "float64",
         "type": "float"
        },
        {
         "name": "interaction_p",
         "rawType": "float64",
         "type": "float"
        }
       ],
       "ref": "f2d2b492-0db4-4201-9fce-ed8c919844c5",
       "rows": [
        [
         "12",
         "MD_Pf_12",
         "-0.25562787286030314",
         "1.0686445479189931e-07",
         "0.020159494662418818",
         "0.6150663845298501"
        ],
        [
         "1",
         "THALAMUS_1",
         "-0.253020438077959",
         "2.528566124909481e-08",
         "0.007496406034372564",
         "0.8427590988014249"
        ],
        [
         "8",
         "Pul_8",
         "-0.24649588481622264",
         "3.117359180406316e-07",
         "0.0177283291540493",
         "0.6592235226941212"
        ],
        [
         "7",
         "VPL_7",
         "-0.1911330667855979",
         "0.00013158826565637884",
         "-0.046530156012316484",
         "0.26792118303236584"
        ],
        [
         "9",
         "LGN_9",
         "-0.18137463058153594",
         "0.00057390285510327",
         "-0.03198325126051699",
         "0.47032370756215114"
        ],
        [
         "26",
         "Acc_26",
         "-0.17447476467314293",
         "0.00013715795539430152",
         "0.005610926128699727",
         "0.883884574992678"
        ],
        [
         "6",
         "VLP_6",
         "-0.16949229040049832",
         "0.0004072560184501005",
         "-0.033984793651556613",
         "0.3992421892938486"
        ],
        [
         "30",
         "GPi_30",
         "-0.16498346425900787",
         "0.00108105750128189",
         "0.11822653600795689",
         "0.005570448934162671"
        ],
        [
         "10",
         "MGN_10",
         "-0.15818018091720404",
         "0.0007163014287874701",
         "0.041143700912809875",
         "0.29571073623805344"
        ],
        [
         "31",
         "Put_31",
         "-0.1570122702992291",
         "0.0004071973834772968",
         "0.020877540708592712",
         "0.5760626855814163"
        ],
        [
         "4",
         "VA_4",
         "-0.1482143113273089",
         "0.001360461475021418",
         "-0.04618495043774419",
         "0.23602551704797498"
        ],
        [
         "33",
         "GP_33",
         "-0.14316032829788616",
         "0.0029206100542641215",
         "0.08742252845856821",
         "0.03137801218679812"
        ],
        [
         "2",
         "AV_2",
         "-0.13680008049086617",
         "0.006230640794762397",
         "0.01036189128329051",
         "0.8058344088223706"
        ],
        [
         "29",
         "GPe_29",
         "-0.1298633944116336",
         "0.007595217964162098",
         "0.0728108428241426",
         "0.07633400191432226"
        ],
        [
         "5",
         "VLa_5",
         "-0.12272670525675738",
         "0.008462148097132775",
         "-0.0626776380899811",
         "0.11122662213123"
        ],
        [
         "11",
         "CM_11",
         "-0.11966861827172881",
         "0.010833332815655164",
         "0.04001174621367832",
         "0.31266660332696405"
        ],
        [
         "28",
         "Cla_28",
         "-0.11526781698704154",
         "0.013794988083570124",
         "-0.05005328886899818",
         "0.20531048877031696"
        ],
        [
         "14",
         "MTT_14",
         "-0.10755108260976966",
         "0.02836771806777614",
         "-0.021806300501736",
         "0.5985625574865299"
        ],
        [
         "32",
         "RN_32",
         "-0.08477551004597206",
         "0.052341418860744456",
         "0.013250387771342045",
         "0.7195594092407394"
        ],
        [
         "34",
         "Amy_34",
         "-0.0596455269845374",
         "0.28969040550332276",
         "0.00991226692301335",
         "0.8352049297650589"
        ],
        [
         "13",
         "Hb_13",
         "-0.04118481731232165",
         "0.46926357522633677",
         "0.039333146337117236",
         "0.41417027826271946"
        ],
        [
         "27",
         "Cau_27",
         "-0.023461368319546906",
         "0.6310996798698915",
         "0.03804944549686502",
         "0.35765049146806316"
        ]
       ],
       "shape": {
        "columns": 5,
        "rows": 22
       }
      },
      "text/html": [
       "<div>\n",
       "<style scoped>\n",
       "    .dataframe tbody tr th:only-of-type {\n",
       "        vertical-align: middle;\n",
       "    }\n",
       "\n",
       "    .dataframe tbody tr th {\n",
       "        vertical-align: top;\n",
       "    }\n",
       "\n",
       "    .dataframe thead th {\n",
       "        text-align: right;\n",
       "    }\n",
       "</style>\n",
       "<table border=\"1\" class=\"dataframe\">\n",
       "  <thead>\n",
       "    <tr style=\"text-align: right;\">\n",
       "      <th></th>\n",
       "      <th>struct</th>\n",
       "      <th>coef</th>\n",
       "      <th>pvals</th>\n",
       "      <th>interaction_coefs</th>\n",
       "      <th>interaction_p</th>\n",
       "    </tr>\n",
       "  </thead>\n",
       "  <tbody>\n",
       "    <tr>\n",
       "      <th>12</th>\n",
       "      <td>MD_Pf_12</td>\n",
       "      <td>-0.255628</td>\n",
       "      <td>1.068645e-07</td>\n",
       "      <td>0.020159</td>\n",
       "      <td>0.615066</td>\n",
       "    </tr>\n",
       "    <tr>\n",
       "      <th>1</th>\n",
       "      <td>THALAMUS_1</td>\n",
       "      <td>-0.253020</td>\n",
       "      <td>2.528566e-08</td>\n",
       "      <td>0.007496</td>\n",
       "      <td>0.842759</td>\n",
       "    </tr>\n",
       "    <tr>\n",
       "      <th>8</th>\n",
       "      <td>Pul_8</td>\n",
       "      <td>-0.246496</td>\n",
       "      <td>3.117359e-07</td>\n",
       "      <td>0.017728</td>\n",
       "      <td>0.659224</td>\n",
       "    </tr>\n",
       "    <tr>\n",
       "      <th>7</th>\n",
       "      <td>VPL_7</td>\n",
       "      <td>-0.191133</td>\n",
       "      <td>1.315883e-04</td>\n",
       "      <td>-0.046530</td>\n",
       "      <td>0.267921</td>\n",
       "    </tr>\n",
       "    <tr>\n",
       "      <th>9</th>\n",
       "      <td>LGN_9</td>\n",
       "      <td>-0.181375</td>\n",
       "      <td>5.739029e-04</td>\n",
       "      <td>-0.031983</td>\n",
       "      <td>0.470324</td>\n",
       "    </tr>\n",
       "    <tr>\n",
       "      <th>26</th>\n",
       "      <td>Acc_26</td>\n",
       "      <td>-0.174475</td>\n",
       "      <td>1.371580e-04</td>\n",
       "      <td>0.005611</td>\n",
       "      <td>0.883885</td>\n",
       "    </tr>\n",
       "    <tr>\n",
       "      <th>6</th>\n",
       "      <td>VLP_6</td>\n",
       "      <td>-0.169492</td>\n",
       "      <td>4.072560e-04</td>\n",
       "      <td>-0.033985</td>\n",
       "      <td>0.399242</td>\n",
       "    </tr>\n",
       "    <tr>\n",
       "      <th>30</th>\n",
       "      <td>GPi_30</td>\n",
       "      <td>-0.164983</td>\n",
       "      <td>1.081058e-03</td>\n",
       "      <td>0.118227</td>\n",
       "      <td>0.005570</td>\n",
       "    </tr>\n",
       "    <tr>\n",
       "      <th>10</th>\n",
       "      <td>MGN_10</td>\n",
       "      <td>-0.158180</td>\n",
       "      <td>7.163014e-04</td>\n",
       "      <td>0.041144</td>\n",
       "      <td>0.295711</td>\n",
       "    </tr>\n",
       "    <tr>\n",
       "      <th>31</th>\n",
       "      <td>Put_31</td>\n",
       "      <td>-0.157012</td>\n",
       "      <td>4.071974e-04</td>\n",
       "      <td>0.020878</td>\n",
       "      <td>0.576063</td>\n",
       "    </tr>\n",
       "    <tr>\n",
       "      <th>4</th>\n",
       "      <td>VA_4</td>\n",
       "      <td>-0.148214</td>\n",
       "      <td>1.360461e-03</td>\n",
       "      <td>-0.046185</td>\n",
       "      <td>0.236026</td>\n",
       "    </tr>\n",
       "    <tr>\n",
       "      <th>33</th>\n",
       "      <td>GP_33</td>\n",
       "      <td>-0.143160</td>\n",
       "      <td>2.920610e-03</td>\n",
       "      <td>0.087423</td>\n",
       "      <td>0.031378</td>\n",
       "    </tr>\n",
       "    <tr>\n",
       "      <th>2</th>\n",
       "      <td>AV_2</td>\n",
       "      <td>-0.136800</td>\n",
       "      <td>6.230641e-03</td>\n",
       "      <td>0.010362</td>\n",
       "      <td>0.805834</td>\n",
       "    </tr>\n",
       "    <tr>\n",
       "      <th>29</th>\n",
       "      <td>GPe_29</td>\n",
       "      <td>-0.129863</td>\n",
       "      <td>7.595218e-03</td>\n",
       "      <td>0.072811</td>\n",
       "      <td>0.076334</td>\n",
       "    </tr>\n",
       "    <tr>\n",
       "      <th>5</th>\n",
       "      <td>VLa_5</td>\n",
       "      <td>-0.122727</td>\n",
       "      <td>8.462148e-03</td>\n",
       "      <td>-0.062678</td>\n",
       "      <td>0.111227</td>\n",
       "    </tr>\n",
       "    <tr>\n",
       "      <th>11</th>\n",
       "      <td>CM_11</td>\n",
       "      <td>-0.119669</td>\n",
       "      <td>1.083333e-02</td>\n",
       "      <td>0.040012</td>\n",
       "      <td>0.312667</td>\n",
       "    </tr>\n",
       "    <tr>\n",
       "      <th>28</th>\n",
       "      <td>Cla_28</td>\n",
       "      <td>-0.115268</td>\n",
       "      <td>1.379499e-02</td>\n",
       "      <td>-0.050053</td>\n",
       "      <td>0.205310</td>\n",
       "    </tr>\n",
       "    <tr>\n",
       "      <th>14</th>\n",
       "      <td>MTT_14</td>\n",
       "      <td>-0.107551</td>\n",
       "      <td>2.836772e-02</td>\n",
       "      <td>-0.021806</td>\n",
       "      <td>0.598563</td>\n",
       "    </tr>\n",
       "    <tr>\n",
       "      <th>32</th>\n",
       "      <td>RN_32</td>\n",
       "      <td>-0.084776</td>\n",
       "      <td>5.234142e-02</td>\n",
       "      <td>0.013250</td>\n",
       "      <td>0.719559</td>\n",
       "    </tr>\n",
       "    <tr>\n",
       "      <th>34</th>\n",
       "      <td>Amy_34</td>\n",
       "      <td>-0.059646</td>\n",
       "      <td>2.896904e-01</td>\n",
       "      <td>0.009912</td>\n",
       "      <td>0.835205</td>\n",
       "    </tr>\n",
       "    <tr>\n",
       "      <th>13</th>\n",
       "      <td>Hb_13</td>\n",
       "      <td>-0.041185</td>\n",
       "      <td>4.692636e-01</td>\n",
       "      <td>0.039333</td>\n",
       "      <td>0.414170</td>\n",
       "    </tr>\n",
       "    <tr>\n",
       "      <th>27</th>\n",
       "      <td>Cau_27</td>\n",
       "      <td>-0.023461</td>\n",
       "      <td>6.310997e-01</td>\n",
       "      <td>0.038049</td>\n",
       "      <td>0.357650</td>\n",
       "    </tr>\n",
       "  </tbody>\n",
       "</table>\n",
       "</div>"
      ],
      "text/plain": [
       "        struct      coef         pvals  interaction_coefs  interaction_p\n",
       "12    MD_Pf_12 -0.255628  1.068645e-07           0.020159       0.615066\n",
       "1   THALAMUS_1 -0.253020  2.528566e-08           0.007496       0.842759\n",
       "8        Pul_8 -0.246496  3.117359e-07           0.017728       0.659224\n",
       "7        VPL_7 -0.191133  1.315883e-04          -0.046530       0.267921\n",
       "9        LGN_9 -0.181375  5.739029e-04          -0.031983       0.470324\n",
       "26      Acc_26 -0.174475  1.371580e-04           0.005611       0.883885\n",
       "6        VLP_6 -0.169492  4.072560e-04          -0.033985       0.399242\n",
       "30      GPi_30 -0.164983  1.081058e-03           0.118227       0.005570\n",
       "10      MGN_10 -0.158180  7.163014e-04           0.041144       0.295711\n",
       "31      Put_31 -0.157012  4.071974e-04           0.020878       0.576063\n",
       "4         VA_4 -0.148214  1.360461e-03          -0.046185       0.236026\n",
       "33       GP_33 -0.143160  2.920610e-03           0.087423       0.031378\n",
       "2         AV_2 -0.136800  6.230641e-03           0.010362       0.805834\n",
       "29      GPe_29 -0.129863  7.595218e-03           0.072811       0.076334\n",
       "5        VLa_5 -0.122727  8.462148e-03          -0.062678       0.111227\n",
       "11       CM_11 -0.119669  1.083333e-02           0.040012       0.312667\n",
       "28      Cla_28 -0.115268  1.379499e-02          -0.050053       0.205310\n",
       "14      MTT_14 -0.107551  2.836772e-02          -0.021806       0.598563\n",
       "32       RN_32 -0.084776  5.234142e-02           0.013250       0.719559\n",
       "34      Amy_34 -0.059646  2.896904e-01           0.009912       0.835205\n",
       "13       Hb_13 -0.041185  4.692636e-01           0.039333       0.414170\n",
       "27      Cau_27 -0.023461  6.310997e-01           0.038049       0.357650"
      ]
     },
     "execution_count": 51,
     "metadata": {},
     "output_type": "execute_result"
    }
   ],
   "source": [
    "df_ms_z = df_z[df_z.dz_type2 == \"MS\"]\n",
    "model_data = df_ms_z.join([df_thomas_z])\n",
    "model_data = pd.concat([model_data, pd.get_dummies(model_data['dz_type5'])], axis=1)\n",
    "\n",
    "structs = hips_thomas_ref\n",
    "pvals = {}\n",
    "coefs = {}\n",
    "interaction_coefs = {}\n",
    "interaction_p = {}\n",
    "se = {}\n",
    "for struct in structs:\n",
    "    formula = f\"{struct} ~ choroid_volume*dzdur + age + Female + tiv\"\n",
    "    res = sm.OLS.from_formula(formula, data=model_data).fit()\n",
    "    pvals[struct] = res.pvalues['dzdur']\n",
    "    coefs[struct] = res.params['dzdur']\n",
    "    interaction_coefs[struct] = res.params['choroid_volume:dzdur']\n",
    "    interaction_p[struct] = res.pvalues['choroid_volume:dzdur']\n",
    "\n",
    "regression_results = pd.DataFrame(\n",
    "        {\n",
    "            \"coef\": coefs,\n",
    "            \"pvals\": pvals,\n",
    "            \"interaction_coefs\": interaction_coefs,\n",
    "            \"interaction_p\": interaction_p\n",
    "        }\n",
    "    )  \n",
    "regression_results.insert(0, \"struct\", regression_results.index)\n",
    "new_index = []\n",
    "for item in regression_results.index:\n",
    "    new_index.append(int(re.match(r\".+_(\\d+)$\", item)[1]))\n",
    "regression_results.index = new_index\n",
    "\n",
    "regression_results = regression_results.sort_values(by=\"coef\")\n",
    "regression_results"
   ]
  },
  {
   "cell_type": "code",
   "execution_count": 49,
   "id": "67a21141",
   "metadata": {},
   "outputs": [
    {
     "data": {
      "text/plain": [
       "<matplotlib.collections.PathCollection at 0x7ff348d6d7c0>"
      ]
     },
     "execution_count": 49,
     "metadata": {},
     "output_type": "execute_result"
    },
    {
     "data": {
      "image/png": "[encoded data removed]",
      "text/plain": [
       "<Figure size 640x480 with 1 Axes>"
      ]
     },
     "metadata": {},
     "output_type": "display_data"
    }
   ],
   "source": [
    "regression_results['dist'] = mni_dists['left_exposure']\n",
    "plt.scatter(regression_results['dist'], regression_results['coef'])"
   ]
  },
  {
   "cell_type": "code",
   "execution_count": 110,
   "id": "f11ea00b",
   "metadata": {},
   "outputs": [
    {
     "data": {
      "application/vnd.microsoft.datawrangler.viewer.v0+json": {
       "columns": [
        {
         "name": "index",
         "rawType": "object",
         "type": "string"
        },
        {
         "name": "coef",
         "rawType": "float64",
         "type": "float"
        },
        {
         "name": "pvals",
         "rawType": "float64",
         "type": "float"
        },
        {
         "name": "p_fdr",
         "rawType": "float64",
         "type": "float"
        },
        {
         "name": "coef_sig",
         "rawType": "float64",
         "type": "float"
        }
       ],
       "ref": "031d848b-edcf-471f-a1d2-4941f26fbb74",
       "rows": [
        [
         "anterior",
         "0.021069066928972677",
         "0.5840371442143768",
         "0.5840371442143768",
         "0.0"
        ],
        [
         "ventral",
         "0.09834700936608794",
         "3.0725046419698964e-06",
         "1.2290018567879585e-05",
         "0.09834700936608794"
        ],
        [
         "medial",
         "-0.0480792325550219",
         "0.014542481645405865",
         "0.029005629475694454",
         "-0.0480792325550219"
        ],
        [
         "posterior",
         "-0.04284906664654483",
         "0.021754222106770842",
         "0.029005629475694454",
         "-0.04284906664654483"
        ]
       ],
       "shape": {
        "columns": 4,
        "rows": 4
       }
      },
      "text/html": [
       "<div>\n",
       "<style scoped>\n",
       "    .dataframe tbody tr th:only-of-type {\n",
       "        vertical-align: middle;\n",
       "    }\n",
       "\n",
       "    .dataframe tbody tr th {\n",
       "        vertical-align: top;\n",
       "    }\n",
       "\n",
       "    .dataframe thead th {\n",
       "        text-align: right;\n",
       "    }\n",
       "</style>\n",
       "<table border=\"1\" class=\"dataframe\">\n",
       "  <thead>\n",
       "    <tr style=\"text-align: right;\">\n",
       "      <th></th>\n",
       "      <th>coef</th>\n",
       "      <th>pvals</th>\n",
       "      <th>p_fdr</th>\n",
       "      <th>coef_sig</th>\n",
       "    </tr>\n",
       "  </thead>\n",
       "  <tbody>\n",
       "    <tr>\n",
       "      <th>anterior</th>\n",
       "      <td>0.021069</td>\n",
       "      <td>0.584037</td>\n",
       "      <td>0.584037</td>\n",
       "      <td>0.000000</td>\n",
       "    </tr>\n",
       "    <tr>\n",
       "      <th>ventral</th>\n",
       "      <td>0.098347</td>\n",
       "      <td>0.000003</td>\n",
       "      <td>0.000012</td>\n",
       "      <td>0.098347</td>\n",
       "    </tr>\n",
       "    <tr>\n",
       "      <th>medial</th>\n",
       "      <td>-0.048079</td>\n",
       "      <td>0.014542</td>\n",
       "      <td>0.029006</td>\n",
       "      <td>-0.048079</td>\n",
       "    </tr>\n",
       "    <tr>\n",
       "      <th>posterior</th>\n",
       "      <td>-0.042849</td>\n",
       "      <td>0.021754</td>\n",
       "      <td>0.029006</td>\n",
       "      <td>-0.042849</td>\n",
       "    </tr>\n",
       "  </tbody>\n",
       "</table>\n",
       "</div>"
      ],
      "text/plain": [
       "               coef     pvals     p_fdr  coef_sig\n",
       "anterior   0.021069  0.584037  0.584037  0.000000\n",
       "ventral    0.098347  0.000003  0.000012  0.098347\n",
       "medial    -0.048079  0.014542  0.029006 -0.048079\n",
       "posterior -0.042849  0.021754  0.029006 -0.042849"
      ]
     },
     "execution_count": 110,
     "metadata": {},
     "output_type": "execute_result"
    }
   ],
   "source": [
    "structs = df_thomas2.columns[~df_thomas2.columns.isin(['THALAMUS_1'])]\n",
    "\n",
    "df_ms_z = df_z[df_z.dz_type2 == \"MS\"]\n",
    "model_data = df_ms_z.join([df_thomas2_z])\n",
    "\n",
    "predictor1 = \"choroid_volume\"\n",
    "predictor2 = \"ventricle_volume\"\n",
    "covariates1 = \"age + Female + tiv + THALAMUS_1 + ventricle_volume\"\n",
    "covariates2 = \"age + Female + tiv + THALAMUS_1 + choroid_volume\"\n",
    "result = run_regressions(\n",
    "        model_data, covariates1, predictor1, structs\n",
    "    )\n",
    "result[['coef', 'pvals', 'p_fdr', 'coef_sig']]\n",
    "# result.to_excel(fig_path / \"hipsthomas_grouped_ventricle_choroid_control.xlsx\")"
   ]
  },
  {
   "cell_type": "code",
   "execution_count": 29,
   "id": "f136e927",
   "metadata": {},
   "outputs": [
    {
     "ename": "KeyError",
     "evalue": "'choroid_volume:PMS'",
     "output_type": "error",
     "traceback": [
      "\u001b[0;31m---------------------------------------------------------------------------\u001b[0m",
      "\u001b[0;31mKeyError\u001b[0m                                  Traceback (most recent call last)",
      "File \u001b[0;32m~/.virtualenvs/monai/lib/python3.12/site-packages/pandas/core/indexes/base.py:3805\u001b[0m, in \u001b[0;36mIndex.get_loc\u001b[0;34m(self, key)\u001b[0m\n\u001b[1;32m   3804\u001b[0m \u001b[38;5;28;01mtry\u001b[39;00m:\n\u001b[0;32m-> 3805\u001b[0m     \u001b[38;5;28;01mreturn\u001b[39;00m \u001b[38;5;28;43mself\u001b[39;49m\u001b[38;5;241;43m.\u001b[39;49m\u001b[43m_engine\u001b[49m\u001b[38;5;241;43m.\u001b[39;49m\u001b[43mget_loc\u001b[49m\u001b[43m(\u001b[49m\u001b[43mcasted_key\u001b[49m\u001b[43m)\u001b[49m\n\u001b[1;32m   3806\u001b[0m \u001b[38;5;28;01mexcept\u001b[39;00m \u001b[38;5;167;01mKeyError\u001b[39;00m \u001b[38;5;28;01mas\u001b[39;00m err:\n",
      "File \u001b[0;32mindex.pyx:167\u001b[0m, in \u001b[0;36mpandas._libs.index.IndexEngine.get_loc\u001b[0;34m()\u001b[0m\n",
      "File \u001b[0;32mindex.pyx:196\u001b[0m, in \u001b[0;36mpandas._libs.index.IndexEngine.get_loc\u001b[0;34m()\u001b[0m\n",
      "File \u001b[0;32mpandas/_libs/hashtable_class_helper.pxi:7081\u001b[0m, in \u001b[0;36mpandas._libs.hashtable.PyObjectHashTable.get_item\u001b[0;34m()\u001b[0m\n",
      "File \u001b[0;32mpandas/_libs/hashtable_class_helper.pxi:7089\u001b[0m, in \u001b[0;36mpandas._libs.hashtable.PyObjectHashTable.get_item\u001b[0;34m()\u001b[0m\n",
      "\u001b[0;31mKeyError\u001b[0m: 'choroid_volume:PMS'",
      "\nThe above exception was the direct cause of the following exception:\n",
      "\u001b[0;31mKeyError\u001b[0m                                  Traceback (most recent call last)",
      "Cell \u001b[0;32mIn[29], line 15\u001b[0m\n\u001b[1;32m     13\u001b[0m     pvals[struct] \u001b[38;5;241m=\u001b[39m res\u001b[38;5;241m.\u001b[39mpvalues[\u001b[38;5;124m'\u001b[39m\u001b[38;5;124mchoroid_volume\u001b[39m\u001b[38;5;124m'\u001b[39m]\n\u001b[1;32m     14\u001b[0m     coefs[struct] \u001b[38;5;241m=\u001b[39m res\u001b[38;5;241m.\u001b[39mparams[\u001b[38;5;124m'\u001b[39m\u001b[38;5;124mchoroid_volume\u001b[39m\u001b[38;5;124m'\u001b[39m]\n\u001b[0;32m---> 15\u001b[0m     interaction_coefs[struct] \u001b[38;5;241m=\u001b[39m \u001b[43mres\u001b[49m\u001b[38;5;241;43m.\u001b[39;49m\u001b[43mparams\u001b[49m\u001b[43m[\u001b[49m\u001b[38;5;124;43m'\u001b[39;49m\u001b[38;5;124;43mchoroid_volume:PMS\u001b[39;49m\u001b[38;5;124;43m'\u001b[39;49m\u001b[43m]\u001b[49m\n\u001b[1;32m     16\u001b[0m     interaction_p[struct] \u001b[38;5;241m=\u001b[39m res\u001b[38;5;241m.\u001b[39mpvalues[\u001b[38;5;124m'\u001b[39m\u001b[38;5;124mchoroid_volume:PMS\u001b[39m\u001b[38;5;124m'\u001b[39m]\n\u001b[1;32m     18\u001b[0m regression_results \u001b[38;5;241m=\u001b[39m pd\u001b[38;5;241m.\u001b[39mDataFrame(\n\u001b[1;32m     19\u001b[0m         {\n\u001b[1;32m     20\u001b[0m             \u001b[38;5;124m\"\u001b[39m\u001b[38;5;124mcoef\u001b[39m\u001b[38;5;124m\"\u001b[39m: coefs,\n\u001b[0;32m   (...)\u001b[0m\n\u001b[1;32m     24\u001b[0m         }\n\u001b[1;32m     25\u001b[0m     )  \n",
      "File \u001b[0;32m~/.virtualenvs/monai/lib/python3.12/site-packages/pandas/core/series.py:1121\u001b[0m, in \u001b[0;36mSeries.__getitem__\u001b[0;34m(self, key)\u001b[0m\n\u001b[1;32m   1118\u001b[0m     \u001b[38;5;28;01mreturn\u001b[39;00m \u001b[38;5;28mself\u001b[39m\u001b[38;5;241m.\u001b[39m_values[key]\n\u001b[1;32m   1120\u001b[0m \u001b[38;5;28;01melif\u001b[39;00m key_is_scalar:\n\u001b[0;32m-> 1121\u001b[0m     \u001b[38;5;28;01mreturn\u001b[39;00m \u001b[38;5;28;43mself\u001b[39;49m\u001b[38;5;241;43m.\u001b[39;49m\u001b[43m_get_value\u001b[49m\u001b[43m(\u001b[49m\u001b[43mkey\u001b[49m\u001b[43m)\u001b[49m\n\u001b[1;32m   1123\u001b[0m \u001b[38;5;66;03m# Convert generator to list before going through hashable part\u001b[39;00m\n\u001b[1;32m   1124\u001b[0m \u001b[38;5;66;03m# (We will iterate through the generator there to check for slices)\u001b[39;00m\n\u001b[1;32m   1125\u001b[0m \u001b[38;5;28;01mif\u001b[39;00m is_iterator(key):\n",
      "File \u001b[0;32m~/.virtualenvs/monai/lib/python3.12/site-packages/pandas/core/series.py:1237\u001b[0m, in \u001b[0;36mSeries._get_value\u001b[0;34m(self, label, takeable)\u001b[0m\n\u001b[1;32m   1234\u001b[0m     \u001b[38;5;28;01mreturn\u001b[39;00m \u001b[38;5;28mself\u001b[39m\u001b[38;5;241m.\u001b[39m_values[label]\n\u001b[1;32m   1236\u001b[0m \u001b[38;5;66;03m# Similar to Index.get_value, but we do not fall back to positional\u001b[39;00m\n\u001b[0;32m-> 1237\u001b[0m loc \u001b[38;5;241m=\u001b[39m \u001b[38;5;28;43mself\u001b[39;49m\u001b[38;5;241;43m.\u001b[39;49m\u001b[43mindex\u001b[49m\u001b[38;5;241;43m.\u001b[39;49m\u001b[43mget_loc\u001b[49m\u001b[43m(\u001b[49m\u001b[43mlabel\u001b[49m\u001b[43m)\u001b[49m\n\u001b[1;32m   1239\u001b[0m \u001b[38;5;28;01mif\u001b[39;00m is_integer(loc):\n\u001b[1;32m   1240\u001b[0m     \u001b[38;5;28;01mreturn\u001b[39;00m \u001b[38;5;28mself\u001b[39m\u001b[38;5;241m.\u001b[39m_values[loc]\n",
      "File \u001b[0;32m~/.virtualenvs/monai/lib/python3.12/site-packages/pandas/core/indexes/base.py:3812\u001b[0m, in \u001b[0;36mIndex.get_loc\u001b[0;34m(self, key)\u001b[0m\n\u001b[1;32m   3807\u001b[0m     \u001b[38;5;28;01mif\u001b[39;00m \u001b[38;5;28misinstance\u001b[39m(casted_key, \u001b[38;5;28mslice\u001b[39m) \u001b[38;5;129;01mor\u001b[39;00m (\n\u001b[1;32m   3808\u001b[0m         \u001b[38;5;28misinstance\u001b[39m(casted_key, abc\u001b[38;5;241m.\u001b[39mIterable)\n\u001b[1;32m   3809\u001b[0m         \u001b[38;5;129;01mand\u001b[39;00m \u001b[38;5;28many\u001b[39m(\u001b[38;5;28misinstance\u001b[39m(x, \u001b[38;5;28mslice\u001b[39m) \u001b[38;5;28;01mfor\u001b[39;00m x \u001b[38;5;129;01min\u001b[39;00m casted_key)\n\u001b[1;32m   3810\u001b[0m     ):\n\u001b[1;32m   3811\u001b[0m         \u001b[38;5;28;01mraise\u001b[39;00m InvalidIndexError(key)\n\u001b[0;32m-> 3812\u001b[0m     \u001b[38;5;28;01mraise\u001b[39;00m \u001b[38;5;167;01mKeyError\u001b[39;00m(key) \u001b[38;5;28;01mfrom\u001b[39;00m \u001b[38;5;21;01merr\u001b[39;00m\n\u001b[1;32m   3813\u001b[0m \u001b[38;5;28;01mexcept\u001b[39;00m \u001b[38;5;167;01mTypeError\u001b[39;00m:\n\u001b[1;32m   3814\u001b[0m     \u001b[38;5;66;03m# If we have a listlike key, _check_indexing_error will raise\u001b[39;00m\n\u001b[1;32m   3815\u001b[0m     \u001b[38;5;66;03m#  InvalidIndexError. Otherwise we fall through and re-raise\u001b[39;00m\n\u001b[1;32m   3816\u001b[0m     \u001b[38;5;66;03m#  the TypeError.\u001b[39;00m\n\u001b[1;32m   3817\u001b[0m     \u001b[38;5;28mself\u001b[39m\u001b[38;5;241m.\u001b[39m_check_indexing_error(key)\n",
      "\u001b[0;31mKeyError\u001b[0m: 'choroid_volume:PMS'"
     ]
    }
   ],
   "source": [
    "df_ms_z = df_z[df_z.dz_type2 == \"MS\"]\n",
    "model_data = df_ms_z.join([df_thomas2_z])\n",
    "model_data = pd.concat([model_data, pd.get_dummies(model_data['dz_type5'])], axis=1)\n",
    "\n",
    "pvals = {}\n",
    "coefs = {}\n",
    "interaction_coefs = {}\n",
    "interaction_p = {}\n",
    "se = {}\n",
    "for struct in df_thomas2.columns[~df_thomas2.columns.isin([\"THALAMUS_1\"])]:\n",
    "    formula = f\"{struct} ~ choroid_volume*PMS + age + Female + tiv\"\n",
    "    res = sm.OLS.from_formula(formula, data=model_data).fit()\n",
    "    pvals[struct] = res.pvalues['choroid_volume']\n",
    "    coefs[struct] = res.params['choroid_volume']\n",
    "    interaction_coefs[struct] = res.params['choroid_volume:PMS']\n",
    "    interaction_p[struct] = res.pvalues['choroid_volume:PMS']\n",
    "\n",
    "regression_results = pd.DataFrame(\n",
    "        {\n",
    "            \"coef\": coefs,\n",
    "            \"pvals\": pvals,\n",
    "            \"interaction_coefs\": interaction_coefs,\n",
    "            \"interaction_p\": interaction_p\n",
    "        }\n",
    "    )  \n",
    "regression_results.insert(0, \"struct\", regression_results.index)\n",
    "regression_results = regression_results.sort_values(by=\"interaction_coefs\")\n",
    "regression_results"
   ]
  },
  {
   "cell_type": "code",
   "execution_count": 33,
   "id": "9bbc9749",
   "metadata": {},
   "outputs": [
    {
     "name": "stdout",
     "output_type": "stream",
     "text": [
      "                            OLS Regression Results                            \n",
      "==============================================================================\n",
      "Dep. Variable:                 medial   R-squared:                       0.487\n",
      "Model:                            OLS   Adj. R-squared:                  0.480\n",
      "Method:                 Least Squares   F-statistic:                     72.95\n",
      "Date:                Thu, 26 Jun 2025   Prob (F-statistic):           9.64e-64\n",
      "Time:                        23:39:19   Log-Likelihood:                -516.55\n",
      "No. Observations:                 468   AIC:                             1047.\n",
      "Df Residuals:                     461   BIC:                             1076.\n",
      "Df Model:                           6                                         \n",
      "Covariance Type:            nonrobust                                         \n",
      "=======================================================================================\n",
      "                          coef    std err          t      P>|t|      [0.025      0.975]\n",
      "---------------------------------------------------------------------------------------\n",
      "Intercept              -0.0143      0.036     -0.400      0.689      -0.085       0.056\n",
      "choroid_volume         -0.3994      0.039    -10.196      0.000      -0.476      -0.322\n",
      "t2lv                   -0.2674      0.036     -7.484      0.000      -0.338      -0.197\n",
      "choroid_volume:t2lv    -0.0855      0.036     -2.355      0.019      -0.157      -0.014\n",
      "age                    -0.1125      0.038     -2.994      0.003      -0.186      -0.039\n",
      "Female                  0.1209      0.041      2.939      0.003       0.040       0.202\n",
      "tiv                     0.4556      0.042     10.955      0.000       0.374       0.537\n",
      "==============================================================================\n",
      "Omnibus:                       28.874   Durbin-Watson:                   2.088\n",
      "Prob(Omnibus):                  0.000   Jarque-Bera (JB):               66.407\n",
      "Skew:                          -0.311   Prob(JB):                     3.80e-15\n",
      "Kurtosis:                       4.738   Cond. No.                         2.10\n",
      "==============================================================================\n",
      "\n",
      "Notes:\n",
      "[1] Standard Errors assume that the covariance matrix of the errors is correctly specified.\n"
     ]
    }
   ],
   "source": [
    "formula = f\"medial ~ choroid_volume*t2lv + age + Female + tiv\"\n",
    "res = sm.OLS.from_formula(formula, data=model_data).fit()\n",
    "print(res.summary())"
   ]
  },
  {
   "cell_type": "markdown",
   "id": "66000f86",
   "metadata": {},
   "source": [
    "#### Deep Gray"
   ]
  },
  {
   "cell_type": "code",
   "execution_count": 22,
   "id": "588dfbc4",
   "metadata": {},
   "outputs": [
    {
     "data": {
      "application/vnd.microsoft.datawrangler.viewer.v0+json": {
       "columns": [
        {
         "name": "index",
         "rawType": "int64",
         "type": "integer"
        },
        {
         "name": "struct",
         "rawType": "object",
         "type": "string"
        },
        {
         "name": "coef",
         "rawType": "float64",
         "type": "float"
        },
        {
         "name": "pvals",
         "rawType": "float64",
         "type": "float"
        },
        {
         "name": "se",
         "rawType": "float64",
         "type": "float"
        },
        {
         "name": "llci",
         "rawType": "float64",
         "type": "float"
        },
        {
         "name": "ulci",
         "rawType": "float64",
         "type": "float"
        },
        {
         "name": "ci",
         "rawType": "object",
         "type": "string"
        },
        {
         "name": "p_fdr",
         "rawType": "float64",
         "type": "float"
        },
        {
         "name": "R2",
         "rawType": "float64",
         "type": "float"
        },
        {
         "name": "coef_sig",
         "rawType": "float64",
         "type": "float"
        }
       ],
       "ref": "89a371ba-68d2-43f2-8ecb-be7645037bec",
       "rows": [
        [
         "13",
         "Hb_13",
         "0.020533394992485552",
         "0.629443360326718",
         "0.03799108868924365",
         "-0.06303682712099544",
         "0.10410361710596654",
         "[-0.063037, 0.104104]",
         "0.8593964476915075",
         "0.1928471557177529",
         "0.0"
        ],
        [
         "14",
         "MTT_14",
         "0.1219546947376727",
         "0.0011065174118366152",
         "0.04490853520897118",
         "0.048947279332715324",
         "0.1949621101426301",
         "[0.048947, 0.194962]",
         "0.009958656706529536",
         "0.3194592850673271",
         "0.1219546947376727"
        ],
        [
         "26",
         "Acc_26",
         "0.04233193559479129",
         "0.1941534639985582",
         "0.032390605372183995",
         "-0.021644305376988138",
         "0.10630817656657071",
         "[-0.021644, 0.106308]",
         "0.436845293996756",
         "0.5473157789692511",
         "0.0"
        ],
        [
         "27",
         "Cau_27",
         "-0.0392788587815012",
         "0.2841414658454057",
         "0.033892219366500574",
         "-0.11126130174726544",
         "0.03270358418426304",
         "[-0.111261, 0.032704]",
         "0.5114546385217303",
         "0.4305000217492494",
         "0.0"
        ],
        [
         "28",
         "Cla_28",
         "0.05811852447218024",
         "0.06222510906829261",
         "0.036247117832382846",
         "-0.0029816223242356693",
         "0.11921867126859614",
         "[-0.002982, 0.119219]",
         "0.28001299080731673",
         "0.5812460348792867",
         "0.0"
        ],
        [
         "29",
         "GPe_29",
         "0.010350194523218342",
         "0.7809821239270324",
         "0.04022719184598673",
         "-0.06275972574505564",
         "0.08346011479149232",
         "[-0.062760, 0.083460]",
         "0.8593964476915075",
         "0.37803571951119896",
         "0.0"
        ],
        [
         "30",
         "GPi_30",
         "0.016320685706870702",
         "0.6759115019423231",
         "0.03905299971906285",
         "-0.060348827570779265",
         "0.09299019898452067",
         "[-0.060349, 0.092990]",
         "0.8593964476915075",
         "0.3125962866968618",
         "0.0"
        ],
        [
         "31",
         "Put_31",
         "0.005624006280851225",
         "0.8593964476915075",
         "0.03591886981607215",
         "-0.056730509888309764",
         "0.06797852245001221",
         "[-0.056731, 0.067979]",
         "0.8593964476915075",
         "0.5344102802052842",
         "0.0"
        ],
        [
         "32",
         "RN_32",
         "0.0447548121067091",
         "0.1421236437093986",
         "0.027566594423994423",
         "-0.015056053269054778",
         "0.10456567748247297",
         "[-0.015056, 0.104566]",
         "0.4263709311281958",
         "0.5747608136607317",
         "0.0"
        ]
       ],
       "shape": {
        "columns": 10,
        "rows": 9
       }
      },
      "text/html": [
       "<div>\n",
       "<style scoped>\n",
       "    .dataframe tbody tr th:only-of-type {\n",
       "        vertical-align: middle;\n",
       "    }\n",
       "\n",
       "    .dataframe tbody tr th {\n",
       "        vertical-align: top;\n",
       "    }\n",
       "\n",
       "    .dataframe thead th {\n",
       "        text-align: right;\n",
       "    }\n",
       "</style>\n",
       "<table border=\"1\" class=\"dataframe\">\n",
       "  <thead>\n",
       "    <tr style=\"text-align: right;\">\n",
       "      <th></th>\n",
       "      <th>struct</th>\n",
       "      <th>coef</th>\n",
       "      <th>pvals</th>\n",
       "      <th>se</th>\n",
       "      <th>llci</th>\n",
       "      <th>ulci</th>\n",
       "      <th>ci</th>\n",
       "      <th>p_fdr</th>\n",
       "      <th>R2</th>\n",
       "      <th>coef_sig</th>\n",
       "    </tr>\n",
       "  </thead>\n",
       "  <tbody>\n",
       "    <tr>\n",
       "      <th>13</th>\n",
       "      <td>Hb_13</td>\n",
       "      <td>0.020533</td>\n",
       "      <td>0.629443</td>\n",
       "      <td>0.037991</td>\n",
       "      <td>-0.063037</td>\n",
       "      <td>0.104104</td>\n",
       "      <td>[-0.063037, 0.104104]</td>\n",
       "      <td>0.859396</td>\n",
       "      <td>0.192847</td>\n",
       "      <td>0.000000</td>\n",
       "    </tr>\n",
       "    <tr>\n",
       "      <th>14</th>\n",
       "      <td>MTT_14</td>\n",
       "      <td>0.121955</td>\n",
       "      <td>0.001107</td>\n",
       "      <td>0.044909</td>\n",
       "      <td>0.048947</td>\n",
       "      <td>0.194962</td>\n",
       "      <td>[0.048947, 0.194962]</td>\n",
       "      <td>0.009959</td>\n",
       "      <td>0.319459</td>\n",
       "      <td>0.121955</td>\n",
       "    </tr>\n",
       "    <tr>\n",
       "      <th>26</th>\n",
       "      <td>Acc_26</td>\n",
       "      <td>0.042332</td>\n",
       "      <td>0.194153</td>\n",
       "      <td>0.032391</td>\n",
       "      <td>-0.021644</td>\n",
       "      <td>0.106308</td>\n",
       "      <td>[-0.021644, 0.106308]</td>\n",
       "      <td>0.436845</td>\n",
       "      <td>0.547316</td>\n",
       "      <td>0.000000</td>\n",
       "    </tr>\n",
       "    <tr>\n",
       "      <th>27</th>\n",
       "      <td>Cau_27</td>\n",
       "      <td>-0.039279</td>\n",
       "      <td>0.284141</td>\n",
       "      <td>0.033892</td>\n",
       "      <td>-0.111261</td>\n",
       "      <td>0.032704</td>\n",
       "      <td>[-0.111261, 0.032704]</td>\n",
       "      <td>0.511455</td>\n",
       "      <td>0.430500</td>\n",
       "      <td>0.000000</td>\n",
       "    </tr>\n",
       "    <tr>\n",
       "      <th>28</th>\n",
       "      <td>Cla_28</td>\n",
       "      <td>0.058119</td>\n",
       "      <td>0.062225</td>\n",
       "      <td>0.036247</td>\n",
       "      <td>-0.002982</td>\n",
       "      <td>0.119219</td>\n",
       "      <td>[-0.002982, 0.119219]</td>\n",
       "      <td>0.280013</td>\n",
       "      <td>0.581246</td>\n",
       "      <td>0.000000</td>\n",
       "    </tr>\n",
       "    <tr>\n",
       "      <th>29</th>\n",
       "      <td>GPe_29</td>\n",
       "      <td>0.010350</td>\n",
       "      <td>0.780982</td>\n",
       "      <td>0.040227</td>\n",
       "      <td>-0.062760</td>\n",
       "      <td>0.083460</td>\n",
       "      <td>[-0.062760, 0.083460]</td>\n",
       "      <td>0.859396</td>\n",
       "      <td>0.378036</td>\n",
       "      <td>0.000000</td>\n",
       "    </tr>\n",
       "    <tr>\n",
       "      <th>30</th>\n",
       "      <td>GPi_30</td>\n",
       "      <td>0.016321</td>\n",
       "      <td>0.675912</td>\n",
       "      <td>0.039053</td>\n",
       "      <td>-0.060349</td>\n",
       "      <td>0.092990</td>\n",
       "      <td>[-0.060349, 0.092990]</td>\n",
       "      <td>0.859396</td>\n",
       "      <td>0.312596</td>\n",
       "      <td>0.000000</td>\n",
       "    </tr>\n",
       "    <tr>\n",
       "      <th>31</th>\n",
       "      <td>Put_31</td>\n",
       "      <td>0.005624</td>\n",
       "      <td>0.859396</td>\n",
       "      <td>0.035919</td>\n",
       "      <td>-0.056731</td>\n",
       "      <td>0.067979</td>\n",
       "      <td>[-0.056731, 0.067979]</td>\n",
       "      <td>0.859396</td>\n",
       "      <td>0.534410</td>\n",
       "      <td>0.000000</td>\n",
       "    </tr>\n",
       "    <tr>\n",
       "      <th>32</th>\n",
       "      <td>RN_32</td>\n",
       "      <td>0.044755</td>\n",
       "      <td>0.142124</td>\n",
       "      <td>0.027567</td>\n",
       "      <td>-0.015056</td>\n",
       "      <td>0.104566</td>\n",
       "      <td>[-0.015056, 0.104566]</td>\n",
       "      <td>0.426371</td>\n",
       "      <td>0.574761</td>\n",
       "      <td>0.000000</td>\n",
       "    </tr>\n",
       "  </tbody>\n",
       "</table>\n",
       "</div>"
      ],
      "text/plain": [
       "    struct      coef     pvals        se      llci      ulci  \\\n",
       "13   Hb_13  0.020533  0.629443  0.037991 -0.063037  0.104104   \n",
       "14  MTT_14  0.121955  0.001107  0.044909  0.048947  0.194962   \n",
       "26  Acc_26  0.042332  0.194153  0.032391 -0.021644  0.106308   \n",
       "27  Cau_27 -0.039279  0.284141  0.033892 -0.111261  0.032704   \n",
       "28  Cla_28  0.058119  0.062225  0.036247 -0.002982  0.119219   \n",
       "29  GPe_29  0.010350  0.780982  0.040227 -0.062760  0.083460   \n",
       "30  GPi_30  0.016321  0.675912  0.039053 -0.060349  0.092990   \n",
       "31  Put_31  0.005624  0.859396  0.035919 -0.056731  0.067979   \n",
       "32   RN_32  0.044755  0.142124  0.027567 -0.015056  0.104566   \n",
       "\n",
       "                       ci     p_fdr        R2  coef_sig  \n",
       "13  [-0.063037, 0.104104]  0.859396  0.192847  0.000000  \n",
       "14   [0.048947, 0.194962]  0.009959  0.319459  0.121955  \n",
       "26  [-0.021644, 0.106308]  0.436845  0.547316  0.000000  \n",
       "27  [-0.111261, 0.032704]  0.511455  0.430500  0.000000  \n",
       "28  [-0.002982, 0.119219]  0.280013  0.581246  0.000000  \n",
       "29  [-0.062760, 0.083460]  0.859396  0.378036  0.000000  \n",
       "30  [-0.060349, 0.092990]  0.859396  0.312596  0.000000  \n",
       "31  [-0.056731, 0.067979]  0.859396  0.534410  0.000000  \n",
       "32  [-0.015056, 0.104566]  0.426371  0.574761  0.000000  "
      ]
     },
     "execution_count": 22,
     "metadata": {},
     "output_type": "execute_result"
    }
   ],
   "source": [
    "df_ms_z = df_z[df_z.dz_type2 == \"MS\"]\n",
    "model_data = df_ms_z.join([df_thomas_z])\n",
    "\n",
    "structs = hips_thomas_ref[deep_grey]\n",
    "covariates = \"age + Female + tiv + THALAMUS_1\"\n",
    "\n",
    "predictors = [\"choroid_volume\", \"ventricle_volume\", \"cortical_thickness\", \"t2lv\", \"PRL\"]\n",
    "regression_results = {}\n",
    "for i, predictor in enumerate(predictors):\n",
    "    result = run_regressions(\n",
    "        model_data, covariates, predictor, structs\n",
    "    )\n",
    "    regression_results[predictor] = fix_hipsthomas_regression_results(result)\n",
    "\n",
    "# save_path = fig_path / \"hipsthomas_and_inflammatory_markers_normed_volumes.xlsx\"\n",
    "\n",
    "# with pd.ExcelWriter(save_path) as writer:\n",
    "#     for predictor in regression_results:\n",
    "#         regression_results[predictor].to_excel(writer, sheet_name=predictor)"
   ]
  },
  {
   "cell_type": "markdown",
   "id": "447ea5f1",
   "metadata": {},
   "source": [
    "## Scratch"
   ]
  },
  {
   "cell_type": "code",
   "execution_count": null,
   "id": "5401e8fd",
   "metadata": {},
   "outputs": [
    {
     "data": {
      "text/plain": [
       "<matplotlib.collections.PathCollection at 0x7fda915753a0>"
      ]
     },
     "execution_count": 18,
     "metadata": {},
     "output_type": "execute_result"
    },
    {
     "data": {
      "image/png": "[encoded data removed]",
      "text/plain": [
       "<Figure size 640x480 with 1 Axes>"
      ]
     },
     "metadata": {},
     "output_type": "display_data"
    }
   ],
   "source": [
    "df_ms = df[df.dz_type2 == \"MS\"]\n",
    "plot_data = df_ms.join([df_thomas])\n",
    "\n",
    "colors = viridis(plot_data['dzdur'] / plot_data['dzdur'].max())\n",
    "plot_data.loc[plot_data.dzdur <]\n",
    "x = \"choroid_volume\"\n",
    "y = \"THALAMUS_1\"\n",
    "plt.scatter(plot_data[x], plot_data[y], c=plot_data['dzdur'], cmap='viridis')"
   ]
  },
  {
   "cell_type": "code",
   "execution_count": 65,
   "id": "7db8122b",
   "metadata": {},
   "outputs": [
    {
     "name": "stdout",
     "output_type": "stream",
     "text": [
      "                            OLS Regression Results                            \n",
      "==============================================================================\n",
      "Dep. Variable:             THALAMUS_1   R-squared:                       0.492\n",
      "Model:                            OLS   Adj. R-squared:                  0.480\n",
      "Method:                 Least Squares   F-statistic:                     44.18\n",
      "Date:                Thu, 26 Jun 2025   Prob (F-statistic):           5.34e-61\n",
      "Time:                        18:29:14   Log-Likelihood:                -737.68\n",
      "No. Observations:                 468   AIC:                             1497.\n",
      "Df Residuals:                     457   BIC:                             1543.\n",
      "Df Model:                          10                                         \n",
      "Covariance Type:            nonrobust                                         \n",
      "===================================================================================================\n",
      "                                      coef    std err          t      P>|t|      [0.025      0.975]\n",
      "---------------------------------------------------------------------------------------------------\n",
      "Intercept                           6.9234      0.311     22.293      0.000       6.313       7.534\n",
      "cp_cent                            -0.0002      0.000     -0.688      0.492      -0.001       0.000\n",
      "cr(dzdur_cent, df=4)[0]             2.5307      0.274      9.253      0.000       1.993       3.068\n",
      "cr(dzdur_cent, df=4)[1]             2.2616      0.155     14.560      0.000       1.956       2.567\n",
      "cr(dzdur_cent, df=4)[2]             1.7250      0.212      8.145      0.000       1.309       2.141\n",
      "cr(dzdur_cent, df=4)[3]             0.4061      0.679      0.598      0.550      -0.928       1.740\n",
      "cp_cent:cr(dzdur_cent, df=4)[0]    -0.0009      0.001     -1.560      0.119      -0.002       0.000\n",
      "cp_cent:cr(dzdur_cent, df=4)[1]    -0.0009      0.000     -2.853      0.005      -0.002      -0.000\n",
      "cp_cent:cr(dzdur_cent, df=4)[2]    -0.0014      0.000     -3.166      0.002      -0.002      -0.001\n",
      "cp_cent:cr(dzdur_cent, df=4)[3]     0.0030      0.001      2.017      0.044    7.63e-05       0.006\n",
      "age                                -0.0036      0.006     -0.619      0.536      -0.015       0.008\n",
      "Female                              0.3586      0.163      2.198      0.028       0.038       0.679\n",
      "scale(tiv)                          0.7996      0.065     12.342      0.000       0.672       0.927\n",
      "==============================================================================\n",
      "Omnibus:                       46.439   Durbin-Watson:                   2.066\n",
      "Prob(Omnibus):                  0.000   Jarque-Bera (JB):               69.372\n",
      "Skew:                          -0.684   Prob(JB):                     8.63e-16\n",
      "Kurtosis:                       4.299   Cond. No.                     8.54e+17\n",
      "==============================================================================\n",
      "\n",
      "Notes:\n",
      "[1] Standard Errors assume that the covariance matrix of the errors is correctly specified.\n",
      "[2] The smallest eigenvalue is 2.32e-28. This might indicate that there are\n",
      "strong multicollinearity problems or that the design matrix is singular.\n"
     ]
    }
   ],
   "source": [
    "from patsy import cr        # make cr() visible in the eval namespace\n",
    "\n",
    "df_ms = df[df.dz_type2 == \"MS\"]\n",
    "model_data = df_ms.join([df_thomas])\n",
    "model_data['THALAMUS_1'] = model_data['THALAMUS_1'] / 1000\n",
    "model_data['dzdur_cent'] = model_data['dzdur'] - model_data['dzdur'].mean()\n",
    "model_data['cp_cent'] = model_data['choroid_volume'] - model_data['choroid_volume'].mean()\n",
    "\n",
    "\n",
    "model = sm.OLS.from_formula(\"THALAMUS_1 ~ cp_cent * cr(dzdur_cent, df=4) + age + Female + scale(tiv)\", data=model_data).fit()\n",
    "\n",
    "print(model.summary())"
   ]
  },
  {
   "cell_type": "code",
   "execution_count": 14,
   "id": "37282e36",
   "metadata": {},
   "outputs": [
    {
     "name": "stdout",
     "output_type": "stream",
     "text": [
      "                            OLS Regression Results                            \n",
      "==============================================================================\n",
      "Dep. Variable:                  Pul_8   R-squared:                       0.897\n",
      "Model:                            OLS   Adj. R-squared:                  0.894\n",
      "Method:                 Least Squares   F-statistic:                     303.9\n",
      "Date:                Thu, 26 Jun 2025   Prob (F-statistic):          1.85e-214\n",
      "Time:                        22:51:55   Log-Likelihood:                -131.94\n",
      "No. Observations:                 468   AIC:                             291.9\n",
      "Df Residuals:                     454   BIC:                             350.0\n",
      "Df Model:                          13                                         \n",
      "Covariance Type:            nonrobust                                         \n",
      "=====================================================================================================\n",
      "                                        coef    std err          t      P>|t|      [0.025      0.975]\n",
      "-----------------------------------------------------------------------------------------------------\n",
      "Intercept                            -0.0974      0.046     -2.103      0.036      -0.188      -0.006\n",
      "choroid_volume                       -0.0854      0.053     -1.610      0.108      -0.190       0.019\n",
      "cr(dzdur, df=5)[0]                   -0.1217      0.094     -1.301      0.194      -0.306       0.062\n",
      "cr(dzdur, df=5)[1]                    0.0064      0.061      0.105      0.917      -0.114       0.127\n",
      "cr(dzdur, df=5)[2]                   -0.0024      0.044     -0.054      0.957      -0.089       0.085\n",
      "cr(dzdur, df=5)[3]                   -0.0209      0.058     -0.363      0.717      -0.134       0.092\n",
      "cr(dzdur, df=5)[4]                    0.0412      0.214      0.192      0.848      -0.380       0.462\n",
      "choroid_volume:cr(dzdur, df=5)[0]     0.0182      0.086      0.212      0.832      -0.151       0.187\n",
      "choroid_volume:cr(dzdur, df=5)[1]     0.0548      0.066      0.834      0.405      -0.074       0.184\n",
      "choroid_volume:cr(dzdur, df=5)[2]    -0.0015      0.049     -0.030      0.976      -0.098       0.095\n",
      "choroid_volume:cr(dzdur, df=5)[3]     0.0720      0.068      1.057      0.291      -0.062       0.206\n",
      "choroid_volume:cr(dzdur, df=5)[4]    -0.2290      0.250     -0.916      0.360      -0.720       0.262\n",
      "age                                  -0.0228      0.020     -1.146      0.252      -0.062       0.016\n",
      "Female                               -0.0709      0.018     -3.843      0.000      -0.107      -0.035\n",
      "tiv                                  -0.1892      0.021     -8.892      0.000      -0.231      -0.147\n",
      "THALAMUS_1                            0.9792      0.021     46.147      0.000       0.937       1.021\n",
      "==============================================================================\n",
      "Omnibus:                        8.965   Durbin-Watson:                   1.858\n",
      "Prob(Omnibus):                  0.011   Jarque-Bera (JB):                9.702\n",
      "Skew:                          -0.259   Prob(JB):                      0.00782\n",
      "Kurtosis:                       3.479   Cond. No.                     2.57e+17\n",
      "==============================================================================\n",
      "\n",
      "Notes:\n",
      "[1] Standard Errors assume that the covariance matrix of the errors is correctly specified.\n",
      "[2] The smallest eigenvalue is 1.69e-32. This might indicate that there are\n",
      "strong multicollinearity problems or that the design matrix is singular.\n"
     ]
    }
   ],
   "source": [
    "from patsy import cr        # make cr() visible in the eval namespace\n",
    "from sklearn.preprocessing import StandardScaler\n",
    "\n",
    "scaler_dzdur = StandardScaler()\n",
    "scaler_cp = StandardScaler()\n",
    "scaler_thal = StandardScaler()\n",
    "\n",
    "raw_data = df[df_z.dz_type2 == \"MS\"].join([df_thomas])\n",
    "model_data = df_z[df_z.dz_type2 == \"MS\"]\n",
    "model_data = model_data.join([df_thomas_z])\n",
    "model_data['dzdur'] = scaler_dzdur.fit_transform(raw_data.loc[model_data.index, ['dzdur']])\n",
    "model_data['choroid_volume'] = scaler_cp.fit_transform(raw_data.loc[model_data.index, ['choroid_volume']])\n",
    "model_data['THALAMUS_1'] = scaler_thal.fit_transform(raw_data.loc[model_data.index, ['THALAMUS_1']]/1000)\n",
    "\n",
    "model = sm.OLS.from_formula(\"Pul_8 ~ choroid_volume * cr(dzdur, df=5) + age + Female + tiv + THALAMUS_1\", data=model_data).fit()\n",
    "\n",
    "print(model.summary())"
   ]
  },
  {
   "cell_type": "code",
   "execution_count": 99,
   "id": "f944733c",
   "metadata": {},
   "outputs": [
    {
     "name": "stderr",
     "output_type": "stream",
     "text": [
      "/home/srs-9/.virtualenvs/monai/lib/python3.12/site-packages/sklearn/base.py:493: UserWarning: X does not have valid feature names, but StandardScaler was fitted with feature names\n",
      "  warnings.warn(\n"
     ]
    }
   ],
   "source": [
    "dzdur_low, dzdur_high = scaler_dzdur.transform([[2], [15]]).flatten()\n",
    "d = {\n",
    "        'choroid_volume': np.linspace(model_data['choroid_volume'].min(), model_data['choroid_volume'].max()),\n",
    "        'dzdur': [dzdur_low, dzdur_high],\n",
    "        'age': [model_data['age'].mean()],\n",
    "        'Female': [model_data['Female'].mean()],\n",
    "        'tiv': [model_data['tiv'].mean()],\n",
    "    }\n",
    "\n",
    "test_data = pd.MultiIndex.from_product(d.values(), names=d.keys()).to_frame().reset_index(drop=True)\n",
    "pred = model.get_prediction(test_data).summary_frame(alpha=0.05)\n",
    "\n",
    "test_data['fit'] = scaler_thal.inverse_transform([pred['mean']]).flatten()\n",
    "test_data['lower'] = scaler_thal.inverse_transform([pred['mean_ci_lower']]).flatten()\n",
    "test_data['upper'] = scaler_thal.inverse_transform([pred['mean_ci_upper']]).flatten()\n",
    "\n",
    "test_data['cp_raw'] = scaler_cp.inverse_transform([test_data['choroid_volume']]).flatten()\n",
    "test_data['dzdur_raw'] = scaler_dzdur.inverse_transform([test_data['dzdur']]).flatten()\n",
    "# test_data['fit_raw'] = scaler_thal.inverse_transform([test_data['fit']]).flatten()\n",
    "# test_data['fit_raw'] = scaler_thal.inverse_transform([test_data['fit']]).flatten()\n",
    "# test_data['fit_raw'] = scaler_thal.inverse_transform([test_data['fit']]).flatten()"
   ]
  },
  {
   "cell_type": "code",
   "execution_count": 100,
   "id": "88536840",
   "metadata": {},
   "outputs": [
    {
     "data": {
      "image/png": "[encoded data removed]",
      "text/plain": [
       "<Figure size 600x400 with 1 Axes>"
      ]
     },
     "metadata": {},
     "output_type": "display_data"
    }
   ],
   "source": [
    "import matplotlib.pyplot as plt\n",
    "import seaborn as sns\n",
    "\n",
    "fig, ax = plt.subplots(figsize=(6,4))\n",
    "for dz, colour in zip([dzdur_low,dzdur_high], ['steelblue','firebrick']):\n",
    "    sub = test_data[test_data['dzdur']==dz]\n",
    "    ax.plot(sub['choroid_volume'], sub['fit'], label=f'dzdur = {dz} y', color=colour)\n",
    "    ax.fill_between(sub['choroid_volume'], sub['lower'], sub['upper'],\n",
    "                    color=colour, alpha=0.15)\n",
    "    \n",
    "ax.set_xlabel('Choroid-plexus volume (mm^3)')\n",
    "ax.set_ylabel('Predicted nucleus volume (cm^3)')\n",
    "ax.legend()\n",
    "sns.despine()"
   ]
  },
  {
   "cell_type": "code",
   "execution_count": 35,
   "id": "ec695549",
   "metadata": {},
   "outputs": [
    {
     "data": {
      "text/plain": [
       "0.22627943415613883"
      ]
     },
     "execution_count": 35,
     "metadata": {},
     "output_type": "execute_result"
    }
   ],
   "source": [
    "predictions[0]"
   ]
  },
  {
   "cell_type": "code",
   "execution_count": null,
   "id": "0edf60cc",
   "metadata": {},
   "outputs": [
    {
     "name": "stdout",
     "output_type": "stream",
     "text": [
      "                            OLS Regression Results                            \n",
      "==============================================================================\n",
      "Dep. Variable:             THALAMUS_1   R-squared:                       0.658\n",
      "Model:                            OLS   Adj. R-squared:                  0.652\n",
      "Method:                 Least Squares   F-statistic:                     126.2\n",
      "Date:                Tue, 24 Jun 2025   Prob (F-statistic):          8.07e-103\n",
      "Time:                        19:01:19   Log-Likelihood:                -416.95\n",
      "No. Observations:                 468   AIC:                             849.9\n",
      "Df Residuals:                     460   BIC:                             883.1\n",
      "Df Model:                           7                                         \n",
      "Covariance Type:            nonrobust                                         \n",
      "======================================================================================\n",
      "                         coef    std err          t      P>|t|      [0.025      0.975]\n",
      "--------------------------------------------------------------------------------------\n",
      "Intercept             -0.0273      0.028     -0.987      0.324      -0.082       0.027\n",
      "choroid_volume        -0.2064      0.033     -6.203      0.000      -0.272      -0.141\n",
      "t2lv                  -0.1376      0.031     -4.492      0.000      -0.198      -0.077\n",
      "PRL                   -0.1580      0.027     -5.774      0.000      -0.212      -0.104\n",
      "cortical_thickness     0.4368      0.036     12.235      0.000       0.367       0.507\n",
      "age                   -0.0655      0.034     -1.942      0.053      -0.132       0.001\n",
      "Female                 0.0474      0.033      1.414      0.158      -0.018       0.113\n",
      "tiv                    0.4368      0.034     12.662      0.000       0.369       0.505\n",
      "==============================================================================\n",
      "Omnibus:                        9.924   Durbin-Watson:                   1.991\n",
      "Prob(Omnibus):                  0.007   Jarque-Bera (JB):               15.246\n",
      "Skew:                          -0.133   Prob(JB):                     0.000489\n",
      "Kurtosis:                       3.843   Cond. No.                         2.49\n",
      "==============================================================================\n",
      "\n",
      "Notes:\n",
      "[1] Standard Errors assume that the covariance matrix of the errors is correctly specified.\n"
     ]
    },
    {
     "name": "stderr",
     "output_type": "stream",
     "text": [
      "/home/srs-9/.virtualenvs/monai/lib/python3.12/site-packages/statsmodels/base/model.py:1912: FutureWarning: The behavior of wald_test will change after 0.14 to returning scalar test statistic values. To get the future behavior now, set scalar to True. To silence this message while retaining the legacy behavior, set scalar to False.\n",
      "  warnings.warn(\n"
     ]
    },
    {
     "data": {
      "text/plain": [
       "<class 'statsmodels.stats.contrast.ContrastResults'>\n",
       "<F test: F=array([[2.08961111]]), p=0.14898473329703613, df_denom=460, df_num=1>"
      ]
     },
     "execution_count": 68,
     "metadata": {},
     "output_type": "execute_result"
    }
   ],
   "source": [
    "formula = (\n",
    "    \"THALAMUS_1 ~ choroid_volume + t2lv + PRL + cortical_thickness + age + Female + tiv\"\n",
    ")\n",
    "res = sm.OLS.from_formula(formula, data=model_data).fit()\n",
    "print(res.summary())\n"
   ]
  },
  {
   "cell_type": "code",
   "execution_count": 61,
   "id": "362b04d6",
   "metadata": {},
   "outputs": [
    {
     "data": {
      "application/vnd.microsoft.datawrangler.viewer.v0+json": {
       "columns": [
        {
         "name": "index",
         "rawType": "object",
         "type": "string"
        },
        {
         "name": "Estimate",
         "rawType": "float64",
         "type": "float"
        },
        {
         "name": "Lower CI bound",
         "rawType": "float64",
         "type": "float"
        },
        {
         "name": "Upper CI bound",
         "rawType": "float64",
         "type": "float"
        },
        {
         "name": "P-value",
         "rawType": "float64",
         "type": "float"
        }
       ],
       "ref": "a84b1acd-741e-48bd-b0d0-1a44f66a7e01",
       "rows": [
        [
         "ACME (control)",
         "-0.0664771532661078",
         "-0.12198498552537404",
         "-0.01834427048028272",
         "0.008"
        ],
        [
         "ACME (treated)",
         "-0.0664771532661078",
         "-0.12198498552537404",
         "-0.018344270480282723",
         "0.008"
        ],
        [
         "ADE (control)",
         "-0.21468548705542032",
         "-0.27862544454649674",
         "-0.14869830294703165",
         "0.0"
        ],
        [
         "ADE (treated)",
         "-0.21468548705542032",
         "-0.2786254445464968",
         "-0.14869830294703165",
         "0.0"
        ],
        [
         "Total effect",
         "-0.28116264032152816",
         "-0.36270026905748703",
         "-0.2008740425020209",
         "0.0"
        ],
        [
         "Prop. mediated (control)",
         "0.23450344224576258",
         "0.07833740919530252",
         "0.39535566873234657",
         "0.008"
        ],
        [
         "Prop. mediated (treated)",
         "0.2345034422457626",
         "0.07833740919530253",
         "0.3953556687323466",
         "0.008"
        ],
        [
         "ACME (average)",
         "-0.0664771532661078",
         "-0.12198498552537404",
         "-0.018344270480282723",
         "0.008"
        ],
        [
         "ADE (average)",
         "-0.21468548705542032",
         "-0.27862544454649674",
         "-0.14869830294703165",
         "0.0"
        ],
        [
         "Prop. mediated (average)",
         "0.23450344224576258",
         "0.07833740919530253",
         "0.3953556687323466",
         "0.008"
        ]
       ],
       "shape": {
        "columns": 4,
        "rows": 10
       }
      },
      "text/html": [
       "<div>\n",
       "<style scoped>\n",
       "    .dataframe tbody tr th:only-of-type {\n",
       "        vertical-align: middle;\n",
       "    }\n",
       "\n",
       "    .dataframe tbody tr th {\n",
       "        vertical-align: top;\n",
       "    }\n",
       "\n",
       "    .dataframe thead th {\n",
       "        text-align: right;\n",
       "    }\n",
       "</style>\n",
       "<table border=\"1\" class=\"dataframe\">\n",
       "  <thead>\n",
       "    <tr style=\"text-align: right;\">\n",
       "      <th></th>\n",
       "      <th>Estimate</th>\n",
       "      <th>Lower CI bound</th>\n",
       "      <th>Upper CI bound</th>\n",
       "      <th>P-value</th>\n",
       "    </tr>\n",
       "  </thead>\n",
       "  <tbody>\n",
       "    <tr>\n",
       "      <th>ACME (control)</th>\n",
       "      <td>-0.066477</td>\n",
       "      <td>-0.121985</td>\n",
       "      <td>-0.018344</td>\n",
       "      <td>0.008</td>\n",
       "    </tr>\n",
       "    <tr>\n",
       "      <th>ACME (treated)</th>\n",
       "      <td>-0.066477</td>\n",
       "      <td>-0.121985</td>\n",
       "      <td>-0.018344</td>\n",
       "      <td>0.008</td>\n",
       "    </tr>\n",
       "    <tr>\n",
       "      <th>ADE (control)</th>\n",
       "      <td>-0.214685</td>\n",
       "      <td>-0.278625</td>\n",
       "      <td>-0.148698</td>\n",
       "      <td>0.000</td>\n",
       "    </tr>\n",
       "    <tr>\n",
       "      <th>ADE (treated)</th>\n",
       "      <td>-0.214685</td>\n",
       "      <td>-0.278625</td>\n",
       "      <td>-0.148698</td>\n",
       "      <td>0.000</td>\n",
       "    </tr>\n",
       "    <tr>\n",
       "      <th>Total effect</th>\n",
       "      <td>-0.281163</td>\n",
       "      <td>-0.362700</td>\n",
       "      <td>-0.200874</td>\n",
       "      <td>0.000</td>\n",
       "    </tr>\n",
       "    <tr>\n",
       "      <th>Prop. mediated (control)</th>\n",
       "      <td>0.234503</td>\n",
       "      <td>0.078337</td>\n",
       "      <td>0.395356</td>\n",
       "      <td>0.008</td>\n",
       "    </tr>\n",
       "    <tr>\n",
       "      <th>Prop. mediated (treated)</th>\n",
       "      <td>0.234503</td>\n",
       "      <td>0.078337</td>\n",
       "      <td>0.395356</td>\n",
       "      <td>0.008</td>\n",
       "    </tr>\n",
       "    <tr>\n",
       "      <th>ACME (average)</th>\n",
       "      <td>-0.066477</td>\n",
       "      <td>-0.121985</td>\n",
       "      <td>-0.018344</td>\n",
       "      <td>0.008</td>\n",
       "    </tr>\n",
       "    <tr>\n",
       "      <th>ADE (average)</th>\n",
       "      <td>-0.214685</td>\n",
       "      <td>-0.278625</td>\n",
       "      <td>-0.148698</td>\n",
       "      <td>0.000</td>\n",
       "    </tr>\n",
       "    <tr>\n",
       "      <th>Prop. mediated (average)</th>\n",
       "      <td>0.234503</td>\n",
       "      <td>0.078337</td>\n",
       "      <td>0.395356</td>\n",
       "      <td>0.008</td>\n",
       "    </tr>\n",
       "  </tbody>\n",
       "</table>\n",
       "</div>"
      ],
      "text/plain": [
       "                          Estimate  Lower CI bound  Upper CI bound  P-value\n",
       "ACME (control)           -0.066477       -0.121985       -0.018344    0.008\n",
       "ACME (treated)           -0.066477       -0.121985       -0.018344    0.008\n",
       "ADE (control)            -0.214685       -0.278625       -0.148698    0.000\n",
       "ADE (treated)            -0.214685       -0.278625       -0.148698    0.000\n",
       "Total effect             -0.281163       -0.362700       -0.200874    0.000\n",
       "Prop. mediated (control)  0.234503        0.078337        0.395356    0.008\n",
       "Prop. mediated (treated)  0.234503        0.078337        0.395356    0.008\n",
       "ACME (average)           -0.066477       -0.121985       -0.018344    0.008\n",
       "ADE (average)            -0.214685       -0.278625       -0.148698    0.000\n",
       "Prop. mediated (average)  0.234503        0.078337        0.395356    0.008"
      ]
     },
     "execution_count": 61,
     "metadata": {},
     "output_type": "execute_result"
    }
   ],
   "source": [
    "df_ms_z = df_z[df_z.dz_type2 == \"MS\"]\n",
    "model_data = df_ms_z.join([df_thomas_z])\n",
    "\n",
    "\n",
    "\n",
    "outcome_model = sm.OLS.from_formula(\n",
    "    \"THALAMUS_1 ~ choroid_volume + PRL + age + tiv + Female\", data=model_data\n",
    ")\n",
    "mediator_model = sm.GLM.from_formula(\n",
    "    \"PRL ~ choroid_volume + age + tiv + Female\", data=model_data, family=sm.families.Poisson())\n",
    "\n",
    "mediator_model = sm.OLS.from_formula(\n",
    "    \"choroid_volume ~ PRL + age + tiv + Female\", data=model_data)\n",
    "\n",
    "med = Mediation(\n",
    "    outcome_model, mediator_model, \"PRL\", \"choroid_volume\"\n",
    ").fit()\n",
    "med.summary()"
   ]
  }
 ],
 "metadata": {
  "kernelspec": {
   "display_name": "monai",
   "language": "python",
   "name": "python3"
  },
  "language_info": {
   "codemirror_mode": {
    "name": "ipython",
    "version": 3
   },
   "file_extension": ".py",
   "mimetype": "text/x-python",
   "name": "python",
   "nbconvert_exporter": "python",
   "pygments_lexer": "ipython3",
   "version": "3.12.4"
  }
 },
 "nbformat": 4,
 "nbformat_minor": 5
}
