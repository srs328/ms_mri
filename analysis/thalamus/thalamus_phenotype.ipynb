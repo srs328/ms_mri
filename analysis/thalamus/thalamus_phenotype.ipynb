{
 "cells": [
  {
   "cell_type": "code",
   "execution_count": 1,
   "id": "0ed7f4d4",
   "metadata": {},
   "outputs": [],
   "source": [
    "import os\n",
    "import re\n",
    "import subprocess\n",
    "import sys\n",
    "from pathlib import Path\n",
    "\n",
    "import matplotlib.pyplot as plt\n",
    "import nibabel as nib\n",
    "import numpy as np\n",
    "import pandas as pd\n",
    "import seaborn as sns\n",
    "import statsmodels.api as sm\n",
    "from matplotlib import colormaps\n",
    "from scipy import stats\n",
    "\n",
    "from mri_data import file_manager as fm\n",
    "\n",
    "sys.path.append(\"/home/srs-9/Projects/ms_mri/analysis/paper1\")\n",
    "\n",
    "import helpers"
   ]
  },
  {
   "cell_type": "code",
   "execution_count": 2,
   "id": "5dee42cf",
   "metadata": {},
   "outputs": [],
   "source": [
    "drive_root = fm.get_drive_root()\n",
    "msmri_home = Path(\"/home/srs-9/Projects/ms_mri\")\n",
    "msmri_datadir = msmri_home / \"data\"\n",
    "curr_dir = Path(os.getcwd())\n",
    "data_dir = curr_dir / \"data0\"\n",
    "cp_data_dir = Path(\"/home/srs-9/Projects/ms_mri/analysis/paper1/data0\")\n",
    "dataroot = Path(\"/media/smbshare/srs-9/thalamus_project/data\")\n",
    "\n",
    "showfigs = False\n",
    "pd.options.display.precision = 3\n",
    "subject_sessions = pd.read_csv(\n",
    "    \"/home/srs-9/Projects/ms_mri/analysis/thalamus/data0/subject-sessions.csv\",\n",
    "    index_col=\"sub\",\n",
    ")"
   ]
  },
  {
   "cell_type": "code",
   "execution_count": 3,
   "id": "8634aa9f",
   "metadata": {},
   "outputs": [],
   "source": [
    "cp_vols = pd.read_csv(data_dir / \"choroid_aschoplex_volumes.csv\", index_col=\"subid\")\n",
    "tiv_data = pd.read_csv(data_dir / \"tiv_data.csv\", index_col=\"subid\")\n",
    "clinical_data = pd.read_csv(data_dir / \"clinical_data_processed.csv\", index_col=\"subid\")\n",
    "df = cp_vols.join([tiv_data, clinical_data])\n",
    "\n",
    "df_z = df.copy()\n",
    "numeric_vars = [col for col in df_z.columns if pd.api.types.is_numeric_dtype(df_z[col])]\n",
    "df_z[numeric_vars] = df_z[numeric_vars].apply(stats.zscore, nan_policy=\"omit\")"
   ]
  },
  {
   "cell_type": "code",
   "execution_count": 4,
   "id": "ce393bf7",
   "metadata": {},
   "outputs": [],
   "source": [
    "df_thomas = pd.read_csv(data_dir / \"hipsthomas_vols.csv\", index_col=\"subid\")\n",
    "cols_orig = df_thomas.columns\n",
    "new_colnames = {}\n",
    "for col in df_thomas.columns:\n",
    "    new_col = re.sub(r\"(\\d+)-([\\w-]+)\", r\"\\2_\\1\", col)\n",
    "    new_col = re.sub(\"-\", \"_\", new_col)\n",
    "    new_colnames[col] = new_col\n",
    "df_thomas = df_thomas.rename(columns=new_colnames)\n",
    "df_thomas_norm = df_thomas.apply(lambda col: col / df_thomas['THALAMUS_1'])\n",
    "df_thomas_z = df_thomas.apply(stats.zscore, nan_policy=\"omit\")\n",
    "df_thomas_norm_z = df_thomas_norm.apply(stats.zscore, nan_policy=\"omit\")\n",
    "\n",
    "\n",
    "new_index = []\n",
    "for col in df_thomas.columns:\n",
    "    new_index.append(int(re.match(r\".+_(\\d+)$\", col)[1]))\n",
    "\n",
    "df_structs = pd.DataFrame({'struct': df_thomas.columns}, index=new_index)\n",
    "ind_struct_lookup = {}\n",
    "for i, row in df_structs.iterrows():\n",
    "    ind_struct_lookup[i] = row['struct']\n",
    "struct_ind_lookup = {}\n",
    "for i, row in df_structs.iterrows():\n",
    "    struct_ind_lookup[row['struct']] = i\n",
    "\n",
    "thalamic_nuclei = df_thomas.columns[1:11]\n",
    "thalamic_nuclei_inds = [struct_ind_lookup[struct] for struct in thalamic_nuclei]"
   ]
  },
  {
   "cell_type": "markdown",
   "id": "31d16c01",
   "metadata": {},
   "source": [
    "### MS vs !MS"
   ]
  },
  {
   "cell_type": "code",
   "execution_count": null,
   "id": "260b1b63",
   "metadata": {},
   "outputs": [
    {
     "name": "stdout",
     "output_type": "stream",
     "text": [
      "Optimization terminated successfully.\n",
      "         Current function value: 0.383136\n",
      "         Iterations 7\n",
      "                           Logit Regression Results                           \n",
      "==============================================================================\n",
      "Dep. Variable:                     MS   No. Observations:                  489\n",
      "Model:                          Logit   Df Residuals:                      483\n",
      "Method:                           MLE   Df Model:                            5\n",
      "Date:                Tue, 20 May 2025   Pseudo R-squ.:                  0.1059\n",
      "Time:                        10:42:21   Log-Likelihood:                -187.35\n",
      "converged:                       True   LL-Null:                       -209.55\n",
      "Covariance Type:            nonrobust   LLR p-value:                 1.936e-08\n",
      "==============================================================================\n",
      "                 coef    std err          z      P>|z|      [0.025      0.975]\n",
      "------------------------------------------------------------------------------\n",
      "Intercept      2.0545      0.168     12.251      0.000       1.726       2.383\n",
      "THALAMUS_1    -1.2582      0.260     -4.848      0.000      -1.767      -0.750\n",
      "age           -0.6371      0.157     -4.054      0.000      -0.945      -0.329\n",
      "Female        -0.1781      0.161     -1.109      0.267      -0.493       0.137\n",
      "tiv            0.1033      0.201      0.514      0.607      -0.291       0.497\n",
      "VLa_5          0.0902      0.204      0.443      0.658      -0.309       0.490\n",
      "==============================================================================\n"
     ]
    }
   ],
   "source": [
    "model_data = df_z.join(df_thomas_z)\n",
    "model_data = model_data[model_data['dz_type2'].isin([\"MS\", \"!MS\"])]\n",
    "model_data = pd.concat((model_data, pd.get_dummies(model_data['dz_type2'], dtype=\"int\")), axis=1)\n",
    "\n",
    "formula = \"MS ~ THALAMUS_1 + age + Female + tiv\"\n",
    "res = sm.Logit.from_formula(formula, data=model_data).fit()\n",
    "print(res.summary())"
   ]
  },
  {
   "cell_type": "code",
   "execution_count": 11,
   "id": "695336f9",
   "metadata": {},
   "outputs": [
    {
     "data": {
      "application/vnd.microsoft.datawrangler.viewer.v0+json": {
       "columns": [
        {
         "name": "index",
         "rawType": "object",
         "type": "string"
        },
        {
         "name": "coef",
         "rawType": "float64",
         "type": "float"
        },
        {
         "name": "pvals",
         "rawType": "float64",
         "type": "float"
        },
        {
         "name": "se",
         "rawType": "float64",
         "type": "float"
        },
        {
         "name": "p_fdr",
         "rawType": "float64",
         "type": "float"
        }
       ],
       "conversionMethod": "pd.DataFrame",
       "ref": "b3505fac-bc80-43f2-8e61-4bb156495ca6",
       "rows": [
        [
         "Pul_8",
         "-0.1437837202444842",
         "0.0028524412794029607",
         "0.04626815024719522",
         "0.0191037706977038"
        ],
        [
         "AV_2",
         "-0.06875523829714958",
         "0.00382075413954076",
         "0.02628530581469565",
         "0.0191037706977038"
        ],
        [
         "MD_Pf_12",
         "-0.004472442113667954",
         "0.9185069487871479",
         "0.03771675139019479",
         "0.9185069487871479"
        ],
        [
         "CM_11",
         "-0.0029601167196132983",
         "0.9098737527591848",
         "0.02726652864399559",
         "0.9185069487871479"
        ],
        [
         "LGN_9",
         "-0.0027536232273519673",
         "0.9032478175715493",
         "0.02563695121166687",
         "0.9185069487871479"
        ],
        [
         "VA_4",
         "0.009759453532578805",
         "0.7218278215528515",
         "0.026991671927080158",
         "0.9185069487871479"
        ],
        [
         "VLa_5",
         "0.0150727129674838",
         "0.5371439148771404",
         "0.024269928115003697",
         "0.8952398581285674"
        ],
        [
         "MGN_10",
         "0.02632150306849315",
         "0.35875626552845563",
         "0.030286320233245782",
         "0.7175125310569113"
        ],
        [
         "VPL_7",
         "0.03453782746620413",
         "0.27879459885507457",
         "0.030063688047415157",
         "0.6969864971376865"
        ],
        [
         "VLP_6",
         "0.07500220769804913",
         "0.037925365841526205",
         "0.03511991250082624",
         "0.1264178861384207"
        ]
       ],
       "shape": {
        "columns": 4,
        "rows": 10
       }
      },
      "text/html": [
       "<div>\n",
       "<style scoped>\n",
       "    .dataframe tbody tr th:only-of-type {\n",
       "        vertical-align: middle;\n",
       "    }\n",
       "\n",
       "    .dataframe tbody tr th {\n",
       "        vertical-align: top;\n",
       "    }\n",
       "\n",
       "    .dataframe thead th {\n",
       "        text-align: right;\n",
       "    }\n",
       "</style>\n",
       "<table border=\"1\" class=\"dataframe\">\n",
       "  <thead>\n",
       "    <tr style=\"text-align: right;\">\n",
       "      <th></th>\n",
       "      <th>coef</th>\n",
       "      <th>pvals</th>\n",
       "      <th>se</th>\n",
       "      <th>p_fdr</th>\n",
       "    </tr>\n",
       "  </thead>\n",
       "  <tbody>\n",
       "    <tr>\n",
       "      <th>Pul_8</th>\n",
       "      <td>-0.144</td>\n",
       "      <td>0.003</td>\n",
       "      <td>0.046</td>\n",
       "      <td>0.019</td>\n",
       "    </tr>\n",
       "    <tr>\n",
       "      <th>AV_2</th>\n",
       "      <td>-0.069</td>\n",
       "      <td>0.004</td>\n",
       "      <td>0.026</td>\n",
       "      <td>0.019</td>\n",
       "    </tr>\n",
       "    <tr>\n",
       "      <th>MD_Pf_12</th>\n",
       "      <td>-0.004</td>\n",
       "      <td>0.919</td>\n",
       "      <td>0.038</td>\n",
       "      <td>0.919</td>\n",
       "    </tr>\n",
       "    <tr>\n",
       "      <th>CM_11</th>\n",
       "      <td>-0.003</td>\n",
       "      <td>0.910</td>\n",
       "      <td>0.027</td>\n",
       "      <td>0.919</td>\n",
       "    </tr>\n",
       "    <tr>\n",
       "      <th>LGN_9</th>\n",
       "      <td>-0.003</td>\n",
       "      <td>0.903</td>\n",
       "      <td>0.026</td>\n",
       "      <td>0.919</td>\n",
       "    </tr>\n",
       "    <tr>\n",
       "      <th>VA_4</th>\n",
       "      <td>0.010</td>\n",
       "      <td>0.722</td>\n",
       "      <td>0.027</td>\n",
       "      <td>0.919</td>\n",
       "    </tr>\n",
       "    <tr>\n",
       "      <th>VLa_5</th>\n",
       "      <td>0.015</td>\n",
       "      <td>0.537</td>\n",
       "      <td>0.024</td>\n",
       "      <td>0.895</td>\n",
       "    </tr>\n",
       "    <tr>\n",
       "      <th>MGN_10</th>\n",
       "      <td>0.026</td>\n",
       "      <td>0.359</td>\n",
       "      <td>0.030</td>\n",
       "      <td>0.718</td>\n",
       "    </tr>\n",
       "    <tr>\n",
       "      <th>VPL_7</th>\n",
       "      <td>0.035</td>\n",
       "      <td>0.279</td>\n",
       "      <td>0.030</td>\n",
       "      <td>0.697</td>\n",
       "    </tr>\n",
       "    <tr>\n",
       "      <th>VLP_6</th>\n",
       "      <td>0.075</td>\n",
       "      <td>0.038</td>\n",
       "      <td>0.035</td>\n",
       "      <td>0.126</td>\n",
       "    </tr>\n",
       "  </tbody>\n",
       "</table>\n",
       "</div>"
      ],
      "text/plain": [
       "           coef  pvals     se  p_fdr\n",
       "Pul_8    -0.144  0.003  0.046  0.019\n",
       "AV_2     -0.069  0.004  0.026  0.019\n",
       "MD_Pf_12 -0.004  0.919  0.038  0.919\n",
       "CM_11    -0.003  0.910  0.027  0.919\n",
       "LGN_9    -0.003  0.903  0.026  0.919\n",
       "VA_4      0.010  0.722  0.027  0.919\n",
       "VLa_5     0.015  0.537  0.024  0.895\n",
       "MGN_10    0.026  0.359  0.030  0.718\n",
       "VPL_7     0.035  0.279  0.030  0.697\n",
       "VLP_6     0.075  0.038  0.035  0.126"
      ]
     },
     "execution_count": 11,
     "metadata": {},
     "output_type": "execute_result"
    }
   ],
   "source": [
    "covars = \"THALAMUS_1 + age + Female + tiv\"\n",
    "outcome = \"MS\"\n",
    "\n",
    "pvals = {}\n",
    "coefs = {}\n",
    "se = {}\n",
    "all_results = {}\n",
    "for struct in df_structs.loc[thalamic_nuclei_inds, 'struct']:\n",
    "    formula = f\"{outcome} ~ {covars} + {struct}\"\n",
    "    res = sm.OLS.from_formula(formula, data=model_data).fit()\n",
    "    pvals[struct] = res.pvalues[struct]\n",
    "    coefs[struct] = res.params[struct]\n",
    "    se[struct] = res.HC0_se[struct]\n",
    "    all_results[struct] = res\n",
    "\n",
    "regression_results = pd.DataFrame({\"coef\": coefs, \"pvals\": pvals, \"se\": se})\n",
    "regression_results['p_fdr'] = stats.false_discovery_control(regression_results['pvals'], method='bh')\n",
    "regression_results = regression_results.sort_values(by=\"coef\", ascending=True)\n",
    "regression_results"
   ]
  },
  {
   "cell_type": "markdown",
   "id": "a81ef187",
   "metadata": {},
   "source": [
    "### RMS vs PMS"
   ]
  },
  {
   "cell_type": "code",
   "execution_count": 19,
   "id": "3221375b",
   "metadata": {},
   "outputs": [
    {
     "name": "stdout",
     "output_type": "stream",
     "text": [
      "Optimization terminated successfully.\n",
      "         Current function value: 0.358903\n",
      "         Iterations 7\n",
      "                           Logit Regression Results                           \n",
      "==============================================================================\n",
      "Dep. Variable:                    PMS   No. Observations:                  414\n",
      "Model:                          Logit   Df Residuals:                      409\n",
      "Method:                           MLE   Df Model:                            4\n",
      "Date:                Tue, 20 May 2025   Pseudo R-squ.:                  0.2931\n",
      "Time:                        10:51:39   Log-Likelihood:                -148.59\n",
      "converged:                       True   LL-Null:                       -210.18\n",
      "Covariance Type:            nonrobust   LLR p-value:                 1.113e-25\n",
      "==============================================================================\n",
      "                 coef    std err          z      P>|z|      [0.025      0.975]\n",
      "------------------------------------------------------------------------------\n",
      "Intercept     -2.0499      0.198    -10.371      0.000      -2.437      -1.663\n",
      "THALAMUS_1    -0.7068      0.169     -4.171      0.000      -1.039      -0.375\n",
      "age            1.1889      0.185      6.424      0.000       0.826       1.552\n",
      "Female        -0.5253      0.163     -3.227      0.001      -0.844      -0.206\n",
      "tiv            0.0775      0.192      0.403      0.687      -0.299       0.454\n",
      "==============================================================================\n"
     ]
    }
   ],
   "source": [
    "model_data = df_z.join(df_thomas_z)\n",
    "model_data = model_data[model_data['dz_type5'].isin([\"RMS\", \"PMS\"])]\n",
    "model_data = pd.concat((model_data, pd.get_dummies(model_data['dz_type5'], dtype=\"int\")), axis=1)\n",
    "\n",
    "formula = \"PMS ~ THALAMUS_1 + age + Female + tiv\"\n",
    "res = sm.Logit.from_formula(formula, data=model_data).fit()\n",
    "print(res.summary())"
   ]
  },
  {
   "cell_type": "code",
   "execution_count": 21,
   "id": "f8ee4760",
   "metadata": {},
   "outputs": [
    {
     "data": {
      "application/vnd.microsoft.datawrangler.viewer.v0+json": {
       "columns": [
        {
         "name": "index",
         "rawType": "object",
         "type": "string"
        },
        {
         "name": "coef",
         "rawType": "float64",
         "type": "float"
        },
        {
         "name": "pvals",
         "rawType": "float64",
         "type": "float"
        },
        {
         "name": "se",
         "rawType": "float64",
         "type": "float"
        },
        {
         "name": "p_fdr",
         "rawType": "float64",
         "type": "float"
        }
       ],
       "conversionMethod": "pd.DataFrame",
       "ref": "d14812b9-2971-40b1-94eb-f1cfaf2f6d3f",
       "rows": [
        [
         "VLP_6",
         "-0.05346844534739923",
         "0.175134835711436",
         "0.04256013320951082",
         "0.8261561026130075"
        ],
        [
         "LGN_9",
         "-0.01845778737579396",
         "0.47379299528018315",
         "0.024313714672867862",
         "0.82981393995053"
        ],
        [
         "AV_2",
         "-0.011391832775121284",
         "0.6737158999545332",
         "0.025507010460017472",
         "0.82981393995053"
        ],
        [
         "VLa_5",
         "-0.011277617475447355",
         "0.6719947727872176",
         "0.026032212442839816",
         "0.82981393995053"
        ],
        [
         "VA_4",
         "0.006037617968896205",
         "0.8389959135771302",
         "0.02919536101040736",
         "0.8389959135771302"
        ],
        [
         "CM_11",
         "0.009279334162737584",
         "0.746832545955477",
         "0.028366431707703046",
         "0.82981393995053"
        ],
        [
         "VPL_7",
         "0.020383486726696133",
         "0.5533494337683402",
         "0.03875255500408349",
         "0.82981393995053"
        ],
        [
         "MD_Pf_12",
         "0.035661631331714426",
         "0.44113090296113455",
         "0.0543066668377008",
         "0.82981393995053"
        ],
        [
         "MGN_10",
         "0.06024972869590575",
         "0.05362061589652666",
         "0.03018339094443283",
         "0.5362061589652666"
        ],
        [
         "Pul_8",
         "0.0612340609530055",
         "0.24784683078390224",
         "0.05643689556741347",
         "0.8261561026130075"
        ]
       ],
       "shape": {
        "columns": 4,
        "rows": 10
       }
      },
      "text/html": [
       "<div>\n",
       "<style scoped>\n",
       "    .dataframe tbody tr th:only-of-type {\n",
       "        vertical-align: middle;\n",
       "    }\n",
       "\n",
       "    .dataframe tbody tr th {\n",
       "        vertical-align: top;\n",
       "    }\n",
       "\n",
       "    .dataframe thead th {\n",
       "        text-align: right;\n",
       "    }\n",
       "</style>\n",
       "<table border=\"1\" class=\"dataframe\">\n",
       "  <thead>\n",
       "    <tr style=\"text-align: right;\">\n",
       "      <th></th>\n",
       "      <th>coef</th>\n",
       "      <th>pvals</th>\n",
       "      <th>se</th>\n",
       "      <th>p_fdr</th>\n",
       "    </tr>\n",
       "  </thead>\n",
       "  <tbody>\n",
       "    <tr>\n",
       "      <th>VLP_6</th>\n",
       "      <td>-0.053</td>\n",
       "      <td>0.175</td>\n",
       "      <td>0.043</td>\n",
       "      <td>0.826</td>\n",
       "    </tr>\n",
       "    <tr>\n",
       "      <th>LGN_9</th>\n",
       "      <td>-0.018</td>\n",
       "      <td>0.474</td>\n",
       "      <td>0.024</td>\n",
       "      <td>0.830</td>\n",
       "    </tr>\n",
       "    <tr>\n",
       "      <th>AV_2</th>\n",
       "      <td>-0.011</td>\n",
       "      <td>0.674</td>\n",
       "      <td>0.026</td>\n",
       "      <td>0.830</td>\n",
       "    </tr>\n",
       "    <tr>\n",
       "      <th>VLa_5</th>\n",
       "      <td>-0.011</td>\n",
       "      <td>0.672</td>\n",
       "      <td>0.026</td>\n",
       "      <td>0.830</td>\n",
       "    </tr>\n",
       "    <tr>\n",
       "      <th>VA_4</th>\n",
       "      <td>0.006</td>\n",
       "      <td>0.839</td>\n",
       "      <td>0.029</td>\n",
       "      <td>0.839</td>\n",
       "    </tr>\n",
       "    <tr>\n",
       "      <th>CM_11</th>\n",
       "      <td>0.009</td>\n",
       "      <td>0.747</td>\n",
       "      <td>0.028</td>\n",
       "      <td>0.830</td>\n",
       "    </tr>\n",
       "    <tr>\n",
       "      <th>VPL_7</th>\n",
       "      <td>0.020</td>\n",
       "      <td>0.553</td>\n",
       "      <td>0.039</td>\n",
       "      <td>0.830</td>\n",
       "    </tr>\n",
       "    <tr>\n",
       "      <th>MD_Pf_12</th>\n",
       "      <td>0.036</td>\n",
       "      <td>0.441</td>\n",
       "      <td>0.054</td>\n",
       "      <td>0.830</td>\n",
       "    </tr>\n",
       "    <tr>\n",
       "      <th>MGN_10</th>\n",
       "      <td>0.060</td>\n",
       "      <td>0.054</td>\n",
       "      <td>0.030</td>\n",
       "      <td>0.536</td>\n",
       "    </tr>\n",
       "    <tr>\n",
       "      <th>Pul_8</th>\n",
       "      <td>0.061</td>\n",
       "      <td>0.248</td>\n",
       "      <td>0.056</td>\n",
       "      <td>0.826</td>\n",
       "    </tr>\n",
       "  </tbody>\n",
       "</table>\n",
       "</div>"
      ],
      "text/plain": [
       "           coef  pvals     se  p_fdr\n",
       "VLP_6    -0.053  0.175  0.043  0.826\n",
       "LGN_9    -0.018  0.474  0.024  0.830\n",
       "AV_2     -0.011  0.674  0.026  0.830\n",
       "VLa_5    -0.011  0.672  0.026  0.830\n",
       "VA_4      0.006  0.839  0.029  0.839\n",
       "CM_11     0.009  0.747  0.028  0.830\n",
       "VPL_7     0.020  0.553  0.039  0.830\n",
       "MD_Pf_12  0.036  0.441  0.054  0.830\n",
       "MGN_10    0.060  0.054  0.030  0.536\n",
       "Pul_8     0.061  0.248  0.056  0.826"
      ]
     },
     "execution_count": 21,
     "metadata": {},
     "output_type": "execute_result"
    }
   ],
   "source": [
    "covars = \"THALAMUS_1 + age + Female + tiv\"\n",
    "outcome = \"PMS\"\n",
    "\n",
    "pvals = {}\n",
    "coefs = {}\n",
    "se = {}\n",
    "all_results = {}\n",
    "for struct in df_structs.loc[thalamic_nuclei_inds, 'struct']:\n",
    "    formula = f\"{outcome} ~ {covars} + {struct}\"\n",
    "    res = sm.OLS.from_formula(formula, data=model_data).fit()\n",
    "    pvals[struct] = res.pvalues[struct]\n",
    "    coefs[struct] = res.params[struct]\n",
    "    se[struct] = res.HC0_se[struct]\n",
    "    all_results[struct] = res\n",
    "\n",
    "regression_results = pd.DataFrame({\"coef\": coefs, \"pvals\": pvals, \"se\": se})\n",
    "regression_results['p_fdr'] = stats.false_discovery_control(regression_results['pvals'], method='bh')\n",
    "regression_results = regression_results.sort_values(by=\"coef\", ascending=True)\n",
    "regression_results"
   ]
  },
  {
   "cell_type": "markdown",
   "id": "555b25c4",
   "metadata": {},
   "source": [
    "### PPMS vs SPMS"
   ]
  },
  {
   "cell_type": "markdown",
   "id": "e040283e",
   "metadata": {},
   "source": [
    "Thalamic volume predicts PPMS vs SPMS. PPMS associated with greater thalamic volume, after controlling for age, sex, tiv, and disease duration"
   ]
  },
  {
   "cell_type": "code",
   "execution_count": 18,
   "id": "52f2f09c",
   "metadata": {},
   "outputs": [
    {
     "name": "stdout",
     "output_type": "stream",
     "text": [
      "Optimization terminated successfully.\n",
      "         Current function value: 0.617482\n",
      "         Iterations 6\n",
      "                           Logit Regression Results                           \n",
      "==============================================================================\n",
      "Dep. Variable:                   PPMS   No. Observations:                   78\n",
      "Model:                          Logit   Df Residuals:                       73\n",
      "Method:                           MLE   Df Model:                            4\n",
      "Date:                Tue, 20 May 2025   Pseudo R-squ.:                 0.08107\n",
      "Time:                        10:51:27   Log-Likelihood:                -48.164\n",
      "converged:                       True   LL-Null:                       -52.413\n",
      "Covariance Type:            nonrobust   LLR p-value:                   0.07494\n",
      "==============================================================================\n",
      "                 coef    std err          z      P>|z|      [0.025      0.975]\n",
      "------------------------------------------------------------------------------\n",
      "Intercept     -0.1520      0.397     -0.383      0.702      -0.930       0.626\n",
      "thalamus       0.5435      0.242      2.243      0.025       0.069       1.018\n",
      "age            0.1931      0.355      0.544      0.586      -0.503       0.889\n",
      "Female         0.0625      0.257      0.243      0.808      -0.441       0.566\n",
      "tiv            0.4797      0.327      1.466      0.143      -0.162       1.121\n",
      "==============================================================================\n"
     ]
    }
   ],
   "source": [
    "model_data = df_z.join(df_thomas_z)\n",
    "model_data = model_data[model_data['ms_type'].isin([\"PPMS\", \"SPMS\"])]\n",
    "model_data = pd.concat((model_data, pd.get_dummies(model_data['ms_type'], dtype=\"int\")), axis=1)\n",
    "\n",
    "formula = \"PPMS ~ thalamus + age + Female + tiv\"\n",
    "res = sm.Logit.from_formula(formula, data=model_data).fit()\n",
    "print(res.summary())"
   ]
  },
  {
   "cell_type": "code",
   "execution_count": 16,
   "id": "c8de9f5a",
   "metadata": {},
   "outputs": [
    {
     "data": {
      "application/vnd.microsoft.datawrangler.viewer.v0+json": {
       "columns": [
        {
         "name": "index",
         "rawType": "object",
         "type": "string"
        },
        {
         "name": "coef",
         "rawType": "float64",
         "type": "float"
        },
        {
         "name": "pvals",
         "rawType": "float64",
         "type": "float"
        },
        {
         "name": "se",
         "rawType": "float64",
         "type": "float"
        },
        {
         "name": "p_fdr",
         "rawType": "float64",
         "type": "float"
        }
       ],
       "conversionMethod": "pd.DataFrame",
       "ref": "7a392c4d-25be-4b59-bd35-e3ffa070abc4",
       "rows": [
        [
         "CM_11",
         "-0.2725081476700278",
         "0.0024807044031124274",
         "0.0745368672898654",
         "0.024807044031124274"
        ],
        [
         "VA_4",
         "-0.19984617032865282",
         "0.05874863768403755",
         "0.0998840617282952",
         "0.17382623282364162"
        ],
        [
         "VLa_5",
         "-0.19789560633410044",
         "0.017036548526708585",
         "0.07241700517117393",
         "0.08518274263354292"
        ],
        [
         "MGN_10",
         "-0.11096673520209985",
         "0.28755878390747774",
         "0.10608653013373119",
         "0.4107982627249682"
        ],
        [
         "LGN_9",
         "-0.09888574014648409",
         "0.28750078308515553",
         "0.09070429740313814",
         "0.4107982627249682"
        ],
        [
         "VLP_6",
         "-0.08413710406312414",
         "0.4312859755024877",
         "0.10570144779061172",
         "0.5391074693781096"
        ],
        [
         "AV_2",
         "-0.00172753889350029",
         "0.9859858845830323",
         "0.09261763572738002",
         "0.9859858845830323"
        ],
        [
         "MD_Pf_12",
         "0.023211832217296044",
         "0.8592002451314693",
         "0.12186311469584744",
         "0.9546669390349659"
        ],
        [
         "VPL_7",
         "0.14810259162254227",
         "0.12321923373587587",
         "0.08837355980453576",
         "0.24643846747175174"
        ],
        [
         "Pul_8",
         "0.28772922079344815",
         "0.06953049312945665",
         "0.14962208127466217",
         "0.17382623282364162"
        ]
       ],
       "shape": {
        "columns": 4,
        "rows": 10
       }
      },
      "text/html": [
       "<div>\n",
       "<style scoped>\n",
       "    .dataframe tbody tr th:only-of-type {\n",
       "        vertical-align: middle;\n",
       "    }\n",
       "\n",
       "    .dataframe tbody tr th {\n",
       "        vertical-align: top;\n",
       "    }\n",
       "\n",
       "    .dataframe thead th {\n",
       "        text-align: right;\n",
       "    }\n",
       "</style>\n",
       "<table border=\"1\" class=\"dataframe\">\n",
       "  <thead>\n",
       "    <tr style=\"text-align: right;\">\n",
       "      <th></th>\n",
       "      <th>coef</th>\n",
       "      <th>pvals</th>\n",
       "      <th>se</th>\n",
       "      <th>p_fdr</th>\n",
       "    </tr>\n",
       "  </thead>\n",
       "  <tbody>\n",
       "    <tr>\n",
       "      <th>CM_11</th>\n",
       "      <td>-0.273</td>\n",
       "      <td>0.002</td>\n",
       "      <td>0.075</td>\n",
       "      <td>0.025</td>\n",
       "    </tr>\n",
       "    <tr>\n",
       "      <th>VA_4</th>\n",
       "      <td>-0.200</td>\n",
       "      <td>0.059</td>\n",
       "      <td>0.100</td>\n",
       "      <td>0.174</td>\n",
       "    </tr>\n",
       "    <tr>\n",
       "      <th>VLa_5</th>\n",
       "      <td>-0.198</td>\n",
       "      <td>0.017</td>\n",
       "      <td>0.072</td>\n",
       "      <td>0.085</td>\n",
       "    </tr>\n",
       "    <tr>\n",
       "      <th>MGN_10</th>\n",
       "      <td>-0.111</td>\n",
       "      <td>0.288</td>\n",
       "      <td>0.106</td>\n",
       "      <td>0.411</td>\n",
       "    </tr>\n",
       "    <tr>\n",
       "      <th>LGN_9</th>\n",
       "      <td>-0.099</td>\n",
       "      <td>0.288</td>\n",
       "      <td>0.091</td>\n",
       "      <td>0.411</td>\n",
       "    </tr>\n",
       "    <tr>\n",
       "      <th>VLP_6</th>\n",
       "      <td>-0.084</td>\n",
       "      <td>0.431</td>\n",
       "      <td>0.106</td>\n",
       "      <td>0.539</td>\n",
       "    </tr>\n",
       "    <tr>\n",
       "      <th>AV_2</th>\n",
       "      <td>-0.002</td>\n",
       "      <td>0.986</td>\n",
       "      <td>0.093</td>\n",
       "      <td>0.986</td>\n",
       "    </tr>\n",
       "    <tr>\n",
       "      <th>MD_Pf_12</th>\n",
       "      <td>0.023</td>\n",
       "      <td>0.859</td>\n",
       "      <td>0.122</td>\n",
       "      <td>0.955</td>\n",
       "    </tr>\n",
       "    <tr>\n",
       "      <th>VPL_7</th>\n",
       "      <td>0.148</td>\n",
       "      <td>0.123</td>\n",
       "      <td>0.088</td>\n",
       "      <td>0.246</td>\n",
       "    </tr>\n",
       "    <tr>\n",
       "      <th>Pul_8</th>\n",
       "      <td>0.288</td>\n",
       "      <td>0.070</td>\n",
       "      <td>0.150</td>\n",
       "      <td>0.174</td>\n",
       "    </tr>\n",
       "  </tbody>\n",
       "</table>\n",
       "</div>"
      ],
      "text/plain": [
       "           coef  pvals     se  p_fdr\n",
       "CM_11    -0.273  0.002  0.075  0.025\n",
       "VA_4     -0.200  0.059  0.100  0.174\n",
       "VLa_5    -0.198  0.017  0.072  0.085\n",
       "MGN_10   -0.111  0.288  0.106  0.411\n",
       "LGN_9    -0.099  0.288  0.091  0.411\n",
       "VLP_6    -0.084  0.431  0.106  0.539\n",
       "AV_2     -0.002  0.986  0.093  0.986\n",
       "MD_Pf_12  0.023  0.859  0.122  0.955\n",
       "VPL_7     0.148  0.123  0.088  0.246\n",
       "Pul_8     0.288  0.070  0.150  0.174"
      ]
     },
     "execution_count": 16,
     "metadata": {},
     "output_type": "execute_result"
    }
   ],
   "source": [
    "covars = \"THALAMUS_1 + age + Female + tiv\"\n",
    "outcome = \"PPMS\"\n",
    "\n",
    "pvals = {}\n",
    "coefs = {}\n",
    "se = {}\n",
    "all_results = {}\n",
    "for struct in df_structs.loc[thalamic_nuclei_inds, 'struct']:\n",
    "    formula = f\"{outcome} ~ {covars} + {struct}\"\n",
    "    res = sm.OLS.from_formula(formula, data=model_data).fit()\n",
    "    pvals[struct] = res.pvalues[struct]\n",
    "    coefs[struct] = res.params[struct]\n",
    "    se[struct] = res.HC0_se[struct]\n",
    "    all_results[struct] = res\n",
    "\n",
    "regression_results = pd.DataFrame({\"coef\": coefs, \"pvals\": pvals, \"se\": se})\n",
    "regression_results['p_fdr'] = stats.false_discovery_control(regression_results['pvals'], method='bh')\n",
    "regression_results = regression_results.sort_values(by=\"coef\", ascending=True)\n",
    "regression_results"
   ]
  },
  {
   "cell_type": "code",
   "execution_count": 46,
   "id": "72ead396",
   "metadata": {},
   "outputs": [
    {
     "name": "stdout",
     "output_type": "stream",
     "text": [
      "Optimization terminated successfully.\n",
      "         Current function value: 0.260491\n",
      "         Iterations 8\n",
      "                           Logit Regression Results                           \n",
      "==============================================================================\n",
      "Dep. Variable:                   RRMS   No. Observations:                  366\n",
      "Model:                          Logit   Df Residuals:                      360\n",
      "Method:                           MLE   Df Model:                            5\n",
      "Date:                Thu, 15 May 2025   Pseudo R-squ.:                  0.3110\n",
      "Time:                        18:24:49   Log-Likelihood:                -95.340\n",
      "converged:                       True   LL-Null:                       -138.38\n",
      "Covariance Type:            nonrobust   LLR p-value:                 4.453e-17\n",
      "==================================================================================\n",
      "                     coef    std err          z      P>|z|      [0.025      0.975]\n",
      "----------------------------------------------------------------------------------\n",
      "Intercept          2.8356      0.288      9.861      0.000       2.272       3.399\n",
      "age               -0.9406      0.293     -3.209      0.001      -1.515      -0.366\n",
      "choroid_volume    -0.1329      0.226     -0.588      0.556      -0.576       0.310\n",
      "Female             0.8172      0.221      3.703      0.000       0.385       1.250\n",
      "tiv                0.4443      0.233      1.910      0.056      -0.012       0.900\n",
      "dzdur             -0.8091      0.222     -3.645      0.000      -1.244      -0.374\n",
      "==================================================================================\n"
     ]
    }
   ],
   "source": [
    "model_data = df_z.join(df_thomas_z)\n",
    "model_data = model_data[model_data['ms_type'].isin([\"SPMS\", \"RRMS\"])]\n",
    "model_data = pd.concat((model_data, pd.get_dummies(model_data['ms_type'], dtype=\"int\")), axis=1)\n",
    "\n",
    "formula = \"RRMS ~ age + choroid_volume + Female + tiv + dzdur\"\n",
    "res = sm.Logit.from_formula(formula, data=model_data).fit()\n",
    "print(res.summary())"
   ]
  }
 ],
 "metadata": {
  "kernelspec": {
   "display_name": "monai",
   "language": "python",
   "name": "python3"
  },
  "language_info": {
   "codemirror_mode": {
    "name": "ipython",
    "version": 3
   },
   "file_extension": ".py",
   "mimetype": "text/x-python",
   "name": "python",
   "nbconvert_exporter": "python",
   "pygments_lexer": "ipython3",
   "version": "3.12.7"
  }
 },
 "nbformat": 4,
 "nbformat_minor": 5
}
