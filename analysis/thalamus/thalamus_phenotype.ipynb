{
 "cells": [
  {
   "cell_type": "code",
   "execution_count": 38,
   "id": "0ed7f4d4",
   "metadata": {},
   "outputs": [],
   "source": [
    "import os\n",
    "import re\n",
    "import subprocess\n",
    "import sys\n",
    "from pathlib import Path\n",
    "\n",
    "import matplotlib.pyplot as plt\n",
    "import nibabel as nib\n",
    "import numpy as np\n",
    "import pandas as pd\n",
    "import seaborn as sns\n",
    "import statsmodels.api as sm\n",
    "from matplotlib import colormaps\n",
    "from scipy import stats\n",
    "\n",
    "from mri_data import file_manager as fm\n",
    "\n",
    "sys.path.append(\"/home/srs-9/Projects/ms_mri/analysis/paper1\")\n",
    "\n",
    "import helpers"
   ]
  },
  {
   "cell_type": "code",
   "execution_count": 2,
   "id": "5dee42cf",
   "metadata": {},
   "outputs": [],
   "source": [
    "drive_root = fm.get_drive_root()\n",
    "msmri_home = Path(\"/home/srs-9/Projects/ms_mri\")\n",
    "msmri_datadir = msmri_home / \"data\"\n",
    "curr_dir = Path(os.getcwd())\n",
    "data_dir = curr_dir / \"data0\"\n",
    "cp_data_dir = Path(\"/home/srs-9/Projects/ms_mri/analysis/paper1/data0\")\n",
    "dataroot = Path(\"/media/smbshare/srs-9/thalamus_project/data\")\n",
    "\n",
    "showfigs = False\n",
    "pd.options.display.precision = 3\n",
    "subject_sessions = pd.read_csv(\n",
    "    \"/home/srs-9/Projects/ms_mri/analysis/thalamus/data0/subject-sessions.csv\",\n",
    "    index_col=\"sub\",\n",
    ")"
   ]
  },
  {
   "cell_type": "code",
   "execution_count": 3,
   "id": "8634aa9f",
   "metadata": {},
   "outputs": [],
   "source": [
    "cp_vols = pd.read_csv(data_dir / \"choroid_aschoplex_volumes.csv\", index_col=\"subid\")\n",
    "tiv_data = pd.read_csv(data_dir / \"tiv_data.csv\", index_col=\"subid\")\n",
    "clinical_data = pd.read_csv(data_dir / \"clinical_data_processed.csv\", index_col=\"subid\")\n",
    "df = cp_vols.join([tiv_data, clinical_data])\n",
    "\n",
    "df_z = df.copy()\n",
    "numeric_vars = [col for col in df_z.columns if pd.api.types.is_numeric_dtype(df_z[col])]\n",
    "df_z[numeric_vars] = df_z[numeric_vars].apply(stats.zscore, nan_policy=\"omit\")"
   ]
  },
  {
   "cell_type": "code",
   "execution_count": 4,
   "id": "ce393bf7",
   "metadata": {},
   "outputs": [],
   "source": [
    "df_thomas = pd.read_csv(data_dir / \"hipsthomas_vols.csv\", index_col=\"subid\")\n",
    "cols_orig = df_thomas.columns\n",
    "new_colnames = {}\n",
    "for col in df_thomas.columns:\n",
    "    new_col = re.sub(r\"(\\d+)-([\\w-]+)\", r\"\\2_\\1\", col)\n",
    "    new_col = re.sub(\"-\", \"_\", new_col)\n",
    "    new_colnames[col] = new_col\n",
    "df_thomas = df_thomas.rename(columns=new_colnames)\n",
    "df_thomas_norm = df_thomas.apply(lambda col: col / df_thomas['THALAMUS_1'])\n",
    "df_thomas_z = df_thomas.apply(stats.zscore, nan_policy=\"omit\")\n",
    "df_thomas_norm_z = df_thomas_norm.apply(stats.zscore, nan_policy=\"omit\")\n",
    "\n",
    "\n",
    "new_index = []\n",
    "for col in df_thomas.columns:\n",
    "    new_index.append(int(re.match(r\".+_(\\d+)$\", col)[1]))\n",
    "\n",
    "df_structs = pd.DataFrame({'struct': df_thomas.columns}, index=new_index)\n",
    "ind_struct_lookup = {}\n",
    "for i, row in df_structs.iterrows():\n",
    "    ind_struct_lookup[i] = row['struct']\n",
    "struct_ind_lookup = {}\n",
    "for i, row in df_structs.iterrows():\n",
    "    struct_ind_lookup[row['struct']] = i\n",
    "\n",
    "thalamic_nuclei = df_thomas.columns[1:11]\n",
    "thalamic_nuclei_inds = [struct_ind_lookup[struct] for struct in thalamic_nuclei]"
   ]
  },
  {
   "cell_type": "markdown",
   "id": "31d16c01",
   "metadata": {},
   "source": [
    "### MS vs !MS"
   ]
  },
  {
   "cell_type": "code",
   "execution_count": 26,
   "id": "260b1b63",
   "metadata": {},
   "outputs": [
    {
     "name": "stdout",
     "output_type": "stream",
     "text": [
      "Optimization terminated successfully.\n",
      "         Current function value: 0.383339\n",
      "         Iterations 7\n",
      "                           Logit Regression Results                           \n",
      "==============================================================================\n",
      "Dep. Variable:                     MS   No. Observations:                  489\n",
      "Model:                          Logit   Df Residuals:                      484\n",
      "Method:                           MLE   Df Model:                            4\n",
      "Date:                Thu, 15 May 2025   Pseudo R-squ.:                  0.1054\n",
      "Time:                        14:44:43   Log-Likelihood:                -187.45\n",
      "converged:                       True   LL-Null:                       -209.55\n",
      "Covariance Type:            nonrobust   LLR p-value:                 5.873e-09\n",
      "==============================================================================\n",
      "                 coef    std err          z      P>|z|      [0.025      0.975]\n",
      "------------------------------------------------------------------------------\n",
      "Intercept      2.0559      0.168     12.263      0.000       1.727       2.384\n",
      "THALAMUS_1    -1.2133      0.239     -5.083      0.000      -1.681      -0.745\n",
      "age           -0.6426      0.157     -4.097      0.000      -0.950      -0.335\n",
      "Female        -0.1753      0.160     -1.094      0.274      -0.489       0.139\n",
      "tiv            0.1366      0.187      0.732      0.464      -0.229       0.502\n",
      "==============================================================================\n"
     ]
    }
   ],
   "source": [
    "model_data = df_z.join(df_thomas_z)\n",
    "model_data = model_data[model_data['dz_type2'].isin([\"MS\", \"!MS\"])]\n",
    "model_data = pd.concat((model_data, pd.get_dummies(model_data['dz_type2'], dtype=\"int\")), axis=1)\n",
    "\n",
    "formula = \"MS ~ THALAMUS_1 + age + Female + tiv\"\n",
    "res = sm.Logit.from_formula(formula, data=model_data).fit()\n",
    "print(res.summary())"
   ]
  },
  {
   "cell_type": "markdown",
   "id": "a81ef187",
   "metadata": {},
   "source": [
    "### RMS vs PMS"
   ]
  },
  {
   "cell_type": "code",
   "execution_count": null,
   "id": "3221375b",
   "metadata": {},
   "outputs": [],
   "source": [
    "model_data = df_z.join(df_thomas_z)\n",
    "model_data = model_data[model_data['dz_type5'].isin([\"RMS\", \"PMS\"])]\n",
    "model_data = pd.concat((model_data, pd.get_dummies(model_data['dz_type5'], dtype=\"int\")), axis=1)\n",
    "\n",
    "formula = \"PMS ~ THALAMUS_1 + age + Female + tiv\"\n",
    "res = sm.Logit.from_formula(formula, data=model_data).fit()\n",
    "print(res.summary())"
   ]
  },
  {
   "cell_type": "markdown",
   "id": "555b25c4",
   "metadata": {},
   "source": [
    "### PPMS vs SPMS"
   ]
  },
  {
   "cell_type": "markdown",
   "id": "e040283e",
   "metadata": {},
   "source": [
    "Thalamic volume predicts PPMS vs SPMS. PPMS associated with greater thalamic volume, after controlling for age, sex, tiv, and disease duration"
   ]
  },
  {
   "cell_type": "code",
   "execution_count": 24,
   "id": "52f2f09c",
   "metadata": {},
   "outputs": [
    {
     "name": "stdout",
     "output_type": "stream",
     "text": [
      "Optimization terminated successfully.\n",
      "         Current function value: 0.548368\n",
      "         Iterations 6\n",
      "                           Logit Regression Results                           \n",
      "==============================================================================\n",
      "Dep. Variable:                   PPMS   No. Observations:                   78\n",
      "Model:                          Logit   Df Residuals:                       72\n",
      "Method:                           MLE   Df Model:                            5\n",
      "Date:                Thu, 15 May 2025   Pseudo R-squ.:                  0.1839\n",
      "Time:                        14:38:01   Log-Likelihood:                -42.773\n",
      "converged:                       True   LL-Null:                       -52.413\n",
      "Covariance Type:            nonrobust   LLR p-value:                  0.001704\n",
      "==============================================================================\n",
      "                 coef    std err          z      P>|z|      [0.025      0.975]\n",
      "------------------------------------------------------------------------------\n",
      "Intercept     -0.1583      0.420     -0.377      0.706      -0.981       0.665\n",
      "THALAMUS_1     0.6552      0.312      2.099      0.036       0.043       1.267\n",
      "age            0.9812      0.490      2.002      0.045       0.021       1.942\n",
      "Female         0.2577      0.287      0.899      0.368      -0.304       0.819\n",
      "tiv            0.0351      0.377      0.093      0.926      -0.704       0.774\n",
      "dzdur         -0.9276      0.344     -2.699      0.007      -1.601      -0.254\n",
      "==============================================================================\n"
     ]
    }
   ],
   "source": [
    "model_data = df_z.join(df_thomas_z)\n",
    "model_data = model_data[model_data['ms_type'].isin([\"PPMS\", \"SPMS\"])]\n",
    "model_data = pd.concat((model_data, pd.get_dummies(model_data['ms_type'], dtype=\"int\")), axis=1)\n",
    "\n",
    "formula = \"PPMS ~ THALAMUS_1 + age + Female + tiv + dzdur\"\n",
    "res = sm.Logit.from_formula(formula, data=model_data).fit()\n",
    "print(res.summary())"
   ]
  },
  {
   "cell_type": "code",
   "execution_count": 46,
   "id": "72ead396",
   "metadata": {},
   "outputs": [
    {
     "name": "stdout",
     "output_type": "stream",
     "text": [
      "Optimization terminated successfully.\n",
      "         Current function value: 0.260491\n",
      "         Iterations 8\n",
      "                           Logit Regression Results                           \n",
      "==============================================================================\n",
      "Dep. Variable:                   RRMS   No. Observations:                  366\n",
      "Model:                          Logit   Df Residuals:                      360\n",
      "Method:                           MLE   Df Model:                            5\n",
      "Date:                Thu, 15 May 2025   Pseudo R-squ.:                  0.3110\n",
      "Time:                        18:24:49   Log-Likelihood:                -95.340\n",
      "converged:                       True   LL-Null:                       -138.38\n",
      "Covariance Type:            nonrobust   LLR p-value:                 4.453e-17\n",
      "==================================================================================\n",
      "                     coef    std err          z      P>|z|      [0.025      0.975]\n",
      "----------------------------------------------------------------------------------\n",
      "Intercept          2.8356      0.288      9.861      0.000       2.272       3.399\n",
      "age               -0.9406      0.293     -3.209      0.001      -1.515      -0.366\n",
      "choroid_volume    -0.1329      0.226     -0.588      0.556      -0.576       0.310\n",
      "Female             0.8172      0.221      3.703      0.000       0.385       1.250\n",
      "tiv                0.4443      0.233      1.910      0.056      -0.012       0.900\n",
      "dzdur             -0.8091      0.222     -3.645      0.000      -1.244      -0.374\n",
      "==================================================================================\n"
     ]
    }
   ],
   "source": [
    "model_data = df_z.join(df_thomas_z)\n",
    "model_data = model_data[model_data['ms_type'].isin([\"SPMS\", \"RRMS\"])]\n",
    "model_data = pd.concat((model_data, pd.get_dummies(model_data['ms_type'], dtype=\"int\")), axis=1)\n",
    "\n",
    "formula = \"RRMS ~ age + choroid_volume + Female + tiv + dzdur\"\n",
    "res = sm.Logit.from_formula(formula, data=model_data).fit()\n",
    "print(res.summary())"
   ]
  }
 ],
 "metadata": {
  "kernelspec": {
   "display_name": "monai",
   "language": "python",
   "name": "python3"
  },
  "language_info": {
   "codemirror_mode": {
    "name": "ipython",
    "version": 3
   },
   "file_extension": ".py",
   "mimetype": "text/x-python",
   "name": "python",
   "nbconvert_exporter": "python",
   "pygments_lexer": "ipython3",
   "version": "3.12.4"
  }
 },
 "nbformat": 4,
 "nbformat_minor": 5
}
