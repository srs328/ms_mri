{
 "cells": [
  {
   "cell_type": "code",
   "execution_count": 1,
   "id": "0ed7f4d4",
   "metadata": {},
   "outputs": [],
   "source": [
    "import os\n",
    "import re\n",
    "import subprocess\n",
    "import sys\n",
    "from pathlib import Path\n",
    "\n",
    "import matplotlib.pyplot as plt\n",
    "import nibabel as nib\n",
    "import numpy as np\n",
    "import pandas as pd\n",
    "import seaborn as sns\n",
    "import statsmodels.api as sm\n",
    "from matplotlib import colormaps\n",
    "from scipy import stats\n",
    "\n",
    "from mri_data import file_manager as fm\n",
    "\n",
    "sys.path.append(\"/home/srs-9/Projects/ms_mri/analysis/paper1\")\n",
    "\n",
    "import helpers"
   ]
  },
  {
   "cell_type": "code",
   "execution_count": 2,
   "id": "5dee42cf",
   "metadata": {},
   "outputs": [],
   "source": [
    "drive_root = fm.get_drive_root()\n",
    "msmri_home = Path(\"/home/srs-9/Projects/ms_mri\")\n",
    "msmri_datadir = msmri_home / \"data\"\n",
    "curr_dir = Path(os.getcwd())\n",
    "data_dir = Path(\"/home/srs-9/Projects/ms_mri/data\")\n",
    "dataroot = Path(\"/media/smbshare/srs-9/thalamus_project/data\")\n",
    "\n",
    "showfigs = False\n",
    "pd.options.display.precision = 3\n",
    "subject_sessions = pd.read_csv(\n",
    "    \"/home/srs-9/Projects/ms_mri/analysis/thalamus/data0/subject-sessions.csv\",\n",
    "    index_col=\"sub\",\n",
    ")\n",
    "\n",
    "figpath = Path(\"/home/srs-9/Projects/ms_mri/analysis/thalamus/figures_tables/thalamus_phenotype\")"
   ]
  },
  {
   "cell_type": "code",
   "execution_count": 3,
   "id": "8634aa9f",
   "metadata": {},
   "outputs": [],
   "source": [
    "cp_vols = pd.read_csv(data_dir / \"choroid_aschoplex_volumes.csv\", index_col=\"subid\")\n",
    "tiv_data = pd.read_csv(data_dir / \"tiv_data.csv\", index_col=\"subid\")\n",
    "clinical_data = pd.read_csv(data_dir / \"clinical_data_processed.csv\", index_col=\"subid\")\n",
    "df = cp_vols.join([tiv_data, clinical_data])\n",
    "\n",
    "df_z = df.copy()\n",
    "numeric_vars = [col for col in df_z.columns if pd.api.types.is_numeric_dtype(df_z[col])]\n",
    "df_z[numeric_vars] = df_z[numeric_vars].apply(stats.zscore, nan_policy=\"omit\")"
   ]
  },
  {
   "cell_type": "code",
   "execution_count": 5,
   "id": "ce393bf7",
   "metadata": {},
   "outputs": [
    {
     "name": "stderr",
     "output_type": "stream",
     "text": [
      "/home/srs-9/.virtualenvs/monai/lib/python3.12/site-packages/pandas/core/apply.py:1081: RuntimeWarning: Precision loss occurred in moment calculation due to catastrophic cancellation. This occurs when the data are nearly identical. Results may be unreliable.\n",
      "  results[i] = self.func(v, *self.args, **self.kwargs)\n"
     ]
    }
   ],
   "source": [
    "df_thomas = pd.read_csv(data_dir / \"hipsthomas_vols.csv\", index_col=\"subid\")\n",
    "cols_orig = df_thomas.columns\n",
    "new_colnames = {}\n",
    "for col in df_thomas.columns:\n",
    "    new_col = re.sub(r\"(\\d+)-([\\w-]+)\", r\"\\2_\\1\", col)\n",
    "    new_col = re.sub(\"-\", \"_\", new_col)\n",
    "    new_colnames[col] = new_col\n",
    "df_thomas = df_thomas.rename(columns=new_colnames)\n",
    "df_thomas_norm = df_thomas.apply(lambda col: col / df_thomas['THALAMUS_1'])\n",
    "df_thomas_z = df_thomas.apply(stats.zscore, nan_policy=\"omit\")\n",
    "df_thomas_norm_z = df_thomas_norm.apply(stats.zscore, nan_policy=\"omit\")\n",
    "\n",
    "df_thomas_left = pd.read_csv(data_dir / \"hipsthomas_left_vols.csv\", index_col=\"subid\")\n",
    "df_thomas_left = df_thomas_left.rename(columns=new_colnames)\n",
    "df_thomas_left_z = df_thomas_left.apply(stats.zscore, nan_policy=\"omit\")\n",
    "\n",
    "df_thomas_right = pd.read_csv(data_dir / \"hipsthomas_right_vols.csv\", index_col=\"subid\")\n",
    "df_thomas_right = df_thomas_right.rename(columns=new_colnames)\n",
    "df_thomas_right_z = df_thomas_right.apply(stats.zscore, nan_policy=\"omit\")\n",
    "\n",
    "\n",
    "thalamic_nuclei = [2, 4, 5, 6, 7, 8, 9, 10, 11, 12]\n",
    "thalamic_nuclei_str = [str(i) for i in thalamic_nuclei]\n",
    "\n",
    "hips_thomas_ref = pd.read_csv(\n",
    "    \"/home/srs-9/Projects/ms_mri/data/hipsthomas_struct_index.csv\", index_col=\"index\"\n",
    ")['struct']\n",
    "\n",
    "def combine_nuclei(df):\n",
    "    df2 = pd.DataFrame()\n",
    "    df2['anterior'] = df['AV_2']\n",
    "    df2['ventral'] = df['VA_4'] + df['VLa_5'] + df['VLP_6'] + df['VPL_7']\n",
    "    df2['intralaminar'] = df['CM_11'] \n",
    "    df2['medial'] = df['MD_Pf_12']\n",
    "    df2['posterior'] = df['Pul_8'] + df['LGN_9'] + df['MGN_10']\n",
    "    df2['THALAMUS_1'] = df['THALAMUS_1']\n",
    "    return df2\n",
    "\n",
    "def combine_nuclei2(df):\n",
    "    df2 = pd.DataFrame()\n",
    "    df2[\"anterior\"] = df[\"AV_2\"]\n",
    "    df2[\"ventral\"] = df[\"VA_4\"] + df[\"VLa_5\"] + df[\"VLP_6\"] + df[\"VPL_7\"]\n",
    "    df2[\"medial\"] = df[\"MD_Pf_12\"] + df[\"CM_11\"]\n",
    "    df2[\"posterior\"] = df[\"Pul_8\"] + df[\"LGN_9\"] + df[\"MGN_10\"]\n",
    "    df2[\"THALAMUS_1\"] = df[\"THALAMUS_1\"]\n",
    "    return df2\n",
    "\n",
    "df_thomas2 = combine_nuclei2(df_thomas)\n",
    "df_thomas2_z = df_thomas2.apply(stats.zscore, nan_policy=\"omit\")\n",
    "\n",
    "df_thomas2_left = combine_nuclei2(df_thomas_left)\n",
    "df_thomas2_left_z = df_thomas2_left.apply(stats.zscore, nan_policy=\"omit\")\n",
    "\n",
    "df_thomas2_right = combine_nuclei2(df_thomas_right)\n",
    "df_thomas2_right_z = df_thomas2_right.apply(stats.zscore, nan_policy=\"omit\")\n",
    "thomas2_structs = df_thomas2.columns[~df_thomas2.columns.isin([\"THALAMUS_1\"])]"
   ]
  },
  {
   "cell_type": "markdown",
   "id": "4018d27a",
   "metadata": {},
   "source": [
    "### MS vs NIND"
   ]
  },
  {
   "cell_type": "markdown",
   "id": "ff2b6c68",
   "metadata": {},
   "source": [
    "#### Left Side"
   ]
  },
  {
   "cell_type": "code",
   "execution_count": 75,
   "id": "5f56b073",
   "metadata": {},
   "outputs": [
    {
     "data": {
      "application/vnd.microsoft.datawrangler.viewer.v0+json": {
       "columns": [
        {
         "name": "index",
         "rawType": "object",
         "type": "string"
        },
        {
         "name": "coef",
         "rawType": "float64",
         "type": "float"
        },
        {
         "name": "pvals",
         "rawType": "float64",
         "type": "float"
        },
        {
         "name": "p_fdr",
         "rawType": "float64",
         "type": "float"
        },
        {
         "name": "coef_bin",
         "rawType": "int64",
         "type": "integer"
        }
       ],
       "ref": "05e92c74-c4e7-4fde-ac51-682f11372d65",
       "rows": [
        [
         "Pul_8",
         "-1.1944359006434913",
         "2.37212258884428e-06",
         "2.37212258884428e-05",
         "1"
        ],
        [
         "MD_Pf_12",
         "-0.878445470642101",
         "6.954345070065562e-05",
         "0.00034771725350327815",
         "3"
        ],
        [
         "CM_11",
         "-0.6697068994526428",
         "0.0002267017221951958",
         "0.0007556724073173193",
         "5"
        ],
        [
         "AV_2",
         "-0.6316540334419034",
         "0.0004718754922295824",
         "0.001179688730573956",
         "5"
        ],
        [
         "VPL_7",
         "-0.5279950574294536",
         "0.00820351149612847",
         "0.013672519160214117",
         "6"
        ],
        [
         "LGN_9",
         "-0.5204448290578844",
         "0.0015080354585863954",
         "0.003016070917172791",
         "6"
        ],
        [
         "VLP_6",
         "-0.4493618640689236",
         "0.027554541135291502",
         "0.039363630193273574",
         "6"
        ],
        [
         "MGN_10",
         "-0.337132096076801",
         "0.07157637588624986",
         "0.08947046985781233",
         "7"
        ],
        [
         "VA_4",
         "-0.19581643232786244",
         "0.27850322924034276",
         "0.3094480324892698",
         "8"
        ],
        [
         "VLa_5",
         "-0.04499819288944532",
         "0.806458085580664",
         "0.806458085580664",
         "10"
        ]
       ],
       "shape": {
        "columns": 4,
        "rows": 10
       }
      },
      "text/html": [
       "<div>\n",
       "<style scoped>\n",
       "    .dataframe tbody tr th:only-of-type {\n",
       "        vertical-align: middle;\n",
       "    }\n",
       "\n",
       "    .dataframe tbody tr th {\n",
       "        vertical-align: top;\n",
       "    }\n",
       "\n",
       "    .dataframe thead th {\n",
       "        text-align: right;\n",
       "    }\n",
       "</style>\n",
       "<table border=\"1\" class=\"dataframe\">\n",
       "  <thead>\n",
       "    <tr style=\"text-align: right;\">\n",
       "      <th></th>\n",
       "      <th>coef</th>\n",
       "      <th>pvals</th>\n",
       "      <th>p_fdr</th>\n",
       "      <th>coef_bin</th>\n",
       "    </tr>\n",
       "  </thead>\n",
       "  <tbody>\n",
       "    <tr>\n",
       "      <th>Pul_8</th>\n",
       "      <td>-1.194</td>\n",
       "      <td>2.372e-06</td>\n",
       "      <td>2.372e-05</td>\n",
       "      <td>1</td>\n",
       "    </tr>\n",
       "    <tr>\n",
       "      <th>MD_Pf_12</th>\n",
       "      <td>-0.878</td>\n",
       "      <td>6.954e-05</td>\n",
       "      <td>3.477e-04</td>\n",
       "      <td>3</td>\n",
       "    </tr>\n",
       "    <tr>\n",
       "      <th>CM_11</th>\n",
       "      <td>-0.670</td>\n",
       "      <td>2.267e-04</td>\n",
       "      <td>7.557e-04</td>\n",
       "      <td>5</td>\n",
       "    </tr>\n",
       "    <tr>\n",
       "      <th>AV_2</th>\n",
       "      <td>-0.632</td>\n",
       "      <td>4.719e-04</td>\n",
       "      <td>1.180e-03</td>\n",
       "      <td>5</td>\n",
       "    </tr>\n",
       "    <tr>\n",
       "      <th>VPL_7</th>\n",
       "      <td>-0.528</td>\n",
       "      <td>8.204e-03</td>\n",
       "      <td>1.367e-02</td>\n",
       "      <td>6</td>\n",
       "    </tr>\n",
       "    <tr>\n",
       "      <th>LGN_9</th>\n",
       "      <td>-0.520</td>\n",
       "      <td>1.508e-03</td>\n",
       "      <td>3.016e-03</td>\n",
       "      <td>6</td>\n",
       "    </tr>\n",
       "    <tr>\n",
       "      <th>VLP_6</th>\n",
       "      <td>-0.449</td>\n",
       "      <td>2.755e-02</td>\n",
       "      <td>3.936e-02</td>\n",
       "      <td>6</td>\n",
       "    </tr>\n",
       "    <tr>\n",
       "      <th>MGN_10</th>\n",
       "      <td>-0.337</td>\n",
       "      <td>7.158e-02</td>\n",
       "      <td>8.947e-02</td>\n",
       "      <td>7</td>\n",
       "    </tr>\n",
       "    <tr>\n",
       "      <th>VA_4</th>\n",
       "      <td>-0.196</td>\n",
       "      <td>2.785e-01</td>\n",
       "      <td>3.094e-01</td>\n",
       "      <td>8</td>\n",
       "    </tr>\n",
       "    <tr>\n",
       "      <th>VLa_5</th>\n",
       "      <td>-0.045</td>\n",
       "      <td>8.065e-01</td>\n",
       "      <td>8.065e-01</td>\n",
       "      <td>10</td>\n",
       "    </tr>\n",
       "  </tbody>\n",
       "</table>\n",
       "</div>"
      ],
      "text/plain": [
       "           coef      pvals      p_fdr  coef_bin\n",
       "Pul_8    -1.194  2.372e-06  2.372e-05         1\n",
       "MD_Pf_12 -0.878  6.954e-05  3.477e-04         3\n",
       "CM_11    -0.670  2.267e-04  7.557e-04         5\n",
       "AV_2     -0.632  4.719e-04  1.180e-03         5\n",
       "VPL_7    -0.528  8.204e-03  1.367e-02         6\n",
       "LGN_9    -0.520  1.508e-03  3.016e-03         6\n",
       "VLP_6    -0.449  2.755e-02  3.936e-02         6\n",
       "MGN_10   -0.337  7.158e-02  8.947e-02         7\n",
       "VA_4     -0.196  2.785e-01  3.094e-01         8\n",
       "VLa_5    -0.045  8.065e-01  8.065e-01        10"
      ]
     },
     "execution_count": 75,
     "metadata": {},
     "output_type": "execute_result"
    }
   ],
   "source": [
    "model_data = df_z.join(df_thomas_left_z)\n",
    "model_data = model_data[model_data['dz_type3'].isin([\"MS\", \"NIND\"])]\n",
    "model_data = pd.concat((model_data, pd.get_dummies(model_data['dz_type3'], dtype=\"int\")), axis=1)\n",
    "\n",
    "covars = \"age + Female + tiv\"\n",
    "outcome = \"MS\"\n",
    "\n",
    "pvals = {}\n",
    "coefs = {}\n",
    "all_results = {}\n",
    "# for struct in hips_thomas_ref[~hips_thomas_ref.isin([\"THALAMUS_1\", \"Amy_34\", \"GP_33\", \"MTT_14\", \"Hb_13\"])]:\n",
    "for struct in hips_thomas_ref[thalamic_nuclei]:\n",
    "    formula = f\"{outcome} ~ {covars} + {struct}\"\n",
    "    res = sm.Logit.from_formula(formula, data=model_data).fit(disp=0)\n",
    "    pvals[struct] = res.pvalues[struct]\n",
    "    coefs[struct] = res.params[struct]\n",
    "    all_results[struct] = res\n",
    "\n",
    "regression_results_left = pd.DataFrame({\"coef\": coefs, \"pvals\": pvals})\n",
    "regression_results_left['p_fdr'] = stats.false_discovery_control(regression_results_left['pvals'], method='bh')\n",
    "# bins = np.linspace(regression_results_left['coef'].min(), regression_results_left.coef.max(), 10)\n",
    "#! Hard coded min and max across both L/R cells\n",
    "bins = np.linspace(-1.2, -0.05, 10)\n",
    "regression_results_left['coef_bin'] = np.digitize(regression_results_left['coef'], bins)\n",
    "regression_results_left = regression_results_left.sort_values(by=\"coef\", ascending=True)\n",
    "regression_results_left"
   ]
  },
  {
   "cell_type": "markdown",
   "id": "999d3303",
   "metadata": {},
   "source": [
    "#### Right Side"
   ]
  },
  {
   "cell_type": "code",
   "execution_count": 76,
   "id": "a3ddae66",
   "metadata": {},
   "outputs": [
    {
     "data": {
      "application/vnd.microsoft.datawrangler.viewer.v0+json": {
       "columns": [
        {
         "name": "index",
         "rawType": "object",
         "type": "string"
        },
        {
         "name": "coef",
         "rawType": "float64",
         "type": "float"
        },
        {
         "name": "pvals",
         "rawType": "float64",
         "type": "float"
        },
        {
         "name": "p_fdr",
         "rawType": "float64",
         "type": "float"
        },
        {
         "name": "coef_bin",
         "rawType": "int64",
         "type": "integer"
        }
       ],
       "ref": "e28654e6-f3be-447a-b9ba-f99408945ccf",
       "rows": [
        [
         "Pul_8",
         "-1.221762369312189",
         "1.2005846772350336e-06",
         "1.2005846772350336e-05",
         "1"
        ],
        [
         "MD_Pf_12",
         "-0.9162408000112351",
         "4.810090190418921e-05",
         "0.0001603363396806307",
         "3"
        ],
        [
         "AV_2",
         "-0.8466359855014922",
         "1.6123123800226602e-05",
         "8.061561900113301e-05",
         "3"
        ],
        [
         "VLP_6",
         "-0.546278461915093",
         "0.010196107180093802",
         "0.020392214360187604",
         "6"
        ],
        [
         "VPL_7",
         "-0.5066877682042237",
         "0.005920961652619148",
         "0.01480240413154787",
         "6"
        ],
        [
         "LGN_9",
         "-0.3652121689981238",
         "0.029944955998180662",
         "0.04990825999696777",
         "7"
        ],
        [
         "VLa_5",
         "-0.36311083745501843",
         "0.04699602266937172",
         "0.058745028336714654",
         "7"
        ],
        [
         "MGN_10",
         "-0.36063310692307365",
         "0.054355544487136545",
         "0.06039504943015172",
         "7"
        ],
        [
         "VA_4",
         "-0.35239364738922496",
         "0.06502074086528276",
         "0.06502074086528276",
         "7"
        ],
        [
         "CM_11",
         "-0.3367455305246488",
         "0.04676428964586412",
         "0.058745028336714654",
         "7"
        ]
       ],
       "shape": {
        "columns": 4,
        "rows": 10
       }
      },
      "text/html": [
       "<div>\n",
       "<style scoped>\n",
       "    .dataframe tbody tr th:only-of-type {\n",
       "        vertical-align: middle;\n",
       "    }\n",
       "\n",
       "    .dataframe tbody tr th {\n",
       "        vertical-align: top;\n",
       "    }\n",
       "\n",
       "    .dataframe thead th {\n",
       "        text-align: right;\n",
       "    }\n",
       "</style>\n",
       "<table border=\"1\" class=\"dataframe\">\n",
       "  <thead>\n",
       "    <tr style=\"text-align: right;\">\n",
       "      <th></th>\n",
       "      <th>coef</th>\n",
       "      <th>pvals</th>\n",
       "      <th>p_fdr</th>\n",
       "      <th>coef_bin</th>\n",
       "    </tr>\n",
       "  </thead>\n",
       "  <tbody>\n",
       "    <tr>\n",
       "      <th>Pul_8</th>\n",
       "      <td>-1.222</td>\n",
       "      <td>1.201e-06</td>\n",
       "      <td>1.201e-05</td>\n",
       "      <td>1</td>\n",
       "    </tr>\n",
       "    <tr>\n",
       "      <th>MD_Pf_12</th>\n",
       "      <td>-0.916</td>\n",
       "      <td>4.810e-05</td>\n",
       "      <td>1.603e-04</td>\n",
       "      <td>3</td>\n",
       "    </tr>\n",
       "    <tr>\n",
       "      <th>AV_2</th>\n",
       "      <td>-0.847</td>\n",
       "      <td>1.612e-05</td>\n",
       "      <td>8.062e-05</td>\n",
       "      <td>3</td>\n",
       "    </tr>\n",
       "    <tr>\n",
       "      <th>VLP_6</th>\n",
       "      <td>-0.546</td>\n",
       "      <td>1.020e-02</td>\n",
       "      <td>2.039e-02</td>\n",
       "      <td>6</td>\n",
       "    </tr>\n",
       "    <tr>\n",
       "      <th>VPL_7</th>\n",
       "      <td>-0.507</td>\n",
       "      <td>5.921e-03</td>\n",
       "      <td>1.480e-02</td>\n",
       "      <td>6</td>\n",
       "    </tr>\n",
       "    <tr>\n",
       "      <th>LGN_9</th>\n",
       "      <td>-0.365</td>\n",
       "      <td>2.994e-02</td>\n",
       "      <td>4.991e-02</td>\n",
       "      <td>7</td>\n",
       "    </tr>\n",
       "    <tr>\n",
       "      <th>VLa_5</th>\n",
       "      <td>-0.363</td>\n",
       "      <td>4.700e-02</td>\n",
       "      <td>5.875e-02</td>\n",
       "      <td>7</td>\n",
       "    </tr>\n",
       "    <tr>\n",
       "      <th>MGN_10</th>\n",
       "      <td>-0.361</td>\n",
       "      <td>5.436e-02</td>\n",
       "      <td>6.040e-02</td>\n",
       "      <td>7</td>\n",
       "    </tr>\n",
       "    <tr>\n",
       "      <th>VA_4</th>\n",
       "      <td>-0.352</td>\n",
       "      <td>6.502e-02</td>\n",
       "      <td>6.502e-02</td>\n",
       "      <td>7</td>\n",
       "    </tr>\n",
       "    <tr>\n",
       "      <th>CM_11</th>\n",
       "      <td>-0.337</td>\n",
       "      <td>4.676e-02</td>\n",
       "      <td>5.875e-02</td>\n",
       "      <td>7</td>\n",
       "    </tr>\n",
       "  </tbody>\n",
       "</table>\n",
       "</div>"
      ],
      "text/plain": [
       "           coef      pvals      p_fdr  coef_bin\n",
       "Pul_8    -1.222  1.201e-06  1.201e-05         1\n",
       "MD_Pf_12 -0.916  4.810e-05  1.603e-04         3\n",
       "AV_2     -0.847  1.612e-05  8.062e-05         3\n",
       "VLP_6    -0.546  1.020e-02  2.039e-02         6\n",
       "VPL_7    -0.507  5.921e-03  1.480e-02         6\n",
       "LGN_9    -0.365  2.994e-02  4.991e-02         7\n",
       "VLa_5    -0.363  4.700e-02  5.875e-02         7\n",
       "MGN_10   -0.361  5.436e-02  6.040e-02         7\n",
       "VA_4     -0.352  6.502e-02  6.502e-02         7\n",
       "CM_11    -0.337  4.676e-02  5.875e-02         7"
      ]
     },
     "execution_count": 76,
     "metadata": {},
     "output_type": "execute_result"
    }
   ],
   "source": [
    "model_data = df_z.join(df_thomas_right_z)\n",
    "model_data = model_data[model_data['dz_type3'].isin([\"MS\", \"NIND\"])]\n",
    "model_data = pd.concat((model_data, pd.get_dummies(model_data['dz_type3'], dtype=\"int\")), axis=1)\n",
    "\n",
    "covars = \"age + Female + tiv\"\n",
    "outcome = \"MS\"\n",
    "\n",
    "pvals = {}\n",
    "coefs = {}\n",
    "all_results = {}\n",
    "# for struct in hips_thomas_ref[~hips_thomas_ref.isin([\"THALAMUS_1\", \"Amy_34\", \"GP_33\", \"MTT_14\", \"Hb_13\"])]:\n",
    "for struct in hips_thomas_ref[thalamic_nuclei]:\n",
    "    formula = f\"{outcome} ~ {covars} + {struct}\"\n",
    "    res = sm.Logit.from_formula(formula, data=model_data).fit(disp=0)\n",
    "    pvals[struct] = res.pvalues[struct]\n",
    "    coefs[struct] = res.params[struct]\n",
    "    all_results[struct] = res\n",
    "\n",
    "regression_results_right = pd.DataFrame({\"coef\": coefs, \"pvals\": pvals})\n",
    "regression_results_right['p_fdr'] = stats.false_discovery_control(regression_results_right['pvals'], method='bh')\n",
    "# bins = np.linspace(regression_results_right['coef'].min(), regression_results_right.coef.max(), 10)\n",
    "#! Hard coded min and max across both L/R cells\n",
    "bins = np.linspace(-1.23, -0.05, 10)\n",
    "regression_results_right['coef_bin'] = np.digitize(regression_results_right['coef'], bins)\n",
    "regression_results_right = regression_results_right.sort_values(by=\"coef\", ascending=True)\n",
    "regression_results_right"
   ]
  },
  {
   "cell_type": "code",
   "execution_count": 78,
   "id": "8e9b3db7",
   "metadata": {},
   "outputs": [],
   "source": [
    "left_rename = {k: f\"{k}_left\" for k in regression_results_left.columns}\n",
    "regression_results_left.rename(columns=left_rename, inplace=True)\n",
    "right_rename = {k: f\"{k}_right\" for k in regression_results_right.columns}\n",
    "regression_results_right.rename(columns=right_rename, inplace=True)\n",
    "\n",
    "regression_results = pd.concat([regression_results_left, regression_results_right], axis=1)\n",
    "regression_results.to_excel(figpath / \"ms_vs_nind_left_right.xlsx\")"
   ]
  },
  {
   "cell_type": "markdown",
   "id": "31d16c01",
   "metadata": {},
   "source": [
    "### MS vs !MS"
   ]
  },
  {
   "cell_type": "code",
   "execution_count": 12,
   "id": "260b1b63",
   "metadata": {},
   "outputs": [
    {
     "name": "stdout",
     "output_type": "stream",
     "text": [
      "Optimization terminated successfully.\n",
      "         Current function value: 0.405587\n",
      "         Iterations 7\n",
      "                           Logit Regression Results                           \n",
      "==============================================================================\n",
      "Dep. Variable:                     MS   No. Observations:                  560\n",
      "Model:                          Logit   Df Residuals:                      555\n",
      "Method:                           MLE   Df Model:                            4\n",
      "Date:                Wed, 22 Oct 2025   Pseudo R-squ.:                 0.09205\n",
      "Time:                        20:53:49   Log-Likelihood:                -227.13\n",
      "converged:                       True   LL-Null:                       -250.16\n",
      "Covariance Type:            nonrobust   LLR p-value:                 2.397e-09\n",
      "==============================================================================\n",
      "                 coef    std err          z      P>|z|      [0.025      0.975]\n",
      "------------------------------------------------------------------------------\n",
      "Intercept      1.9098      0.145     13.132      0.000       1.625       2.195\n",
      "THALAMUS_1    -1.1040      0.208     -5.305      0.000      -1.512      -0.696\n",
      "age           -0.5348      0.141     -3.788      0.000      -0.811      -0.258\n",
      "Female        -0.1589      0.149     -1.069      0.285      -0.450       0.132\n",
      "tiv            0.1264      0.166      0.762      0.446      -0.199       0.452\n",
      "==============================================================================\n"
     ]
    }
   ],
   "source": [
    "model_data = df_z.join(df_thomas_z)\n",
    "model_data = model_data[model_data['dz_type2'].isin([\"MS\", \"!MS\"])]\n",
    "model_data = pd.concat((model_data, pd.get_dummies(model_data['dz_type2'], dtype=\"int\")), axis=1)\n",
    "\n",
    "formula = \"MS ~ THALAMUS_1 + age + Female + tiv\"\n",
    "res = sm.Logit.from_formula(formula, data=model_data).fit()\n",
    "print(res.summary())"
   ]
  },
  {
   "cell_type": "code",
   "execution_count": 9,
   "id": "695336f9",
   "metadata": {},
   "outputs": [
    {
     "data": {
      "application/vnd.microsoft.datawrangler.viewer.v0+json": {
       "columns": [
        {
         "name": "index",
         "rawType": "object",
         "type": "string"
        },
        {
         "name": "coef",
         "rawType": "float64",
         "type": "float"
        },
        {
         "name": "pvals",
         "rawType": "float64",
         "type": "float"
        },
        {
         "name": "p_fdr",
         "rawType": "float64",
         "type": "float"
        }
       ],
       "ref": "04bf4dd0-4cff-4840-b728-67847f28c57d",
       "rows": [
        [
         "Pul_8",
         "-1.2756482127562148",
         "6.711672657386489e-07",
         "6.711672657386489e-06"
        ],
        [
         "MD_Pf_12",
         "-0.9846081901509119",
         "2.2912883852671384e-05",
         "7.637627950890462e-05"
        ],
        [
         "AV_2",
         "-0.8437089530433461",
         "1.984554015508533e-05",
         "7.637627950890462e-05"
        ],
        [
         "VPL_7",
         "-0.6296451570390981",
         "0.0025764783435675985",
         "0.005152956687135197"
        ],
        [
         "CM_11",
         "-0.5976292869493708",
         "0.001311829810531255",
         "0.0032795745263281377"
        ],
        [
         "VLP_6",
         "-0.5460634716744938",
         "0.010728232222851576",
         "0.01532604603264511"
        ],
        [
         "LGN_9",
         "-0.5053143977681913",
         "0.003340037427004898",
         "0.005566729045008164"
        ],
        [
         "MGN_10",
         "-0.40729983425203764",
         "0.03914799573694354",
         "0.04893499467117943"
        ],
        [
         "VA_4",
         "-0.311551630224099",
         "0.10628229019823715",
         "0.11809143355359684"
        ],
        [
         "VLa_5",
         "-0.2534996239212976",
         "0.1880385617727648",
         "0.1880385617727648"
        ]
       ],
       "shape": {
        "columns": 3,
        "rows": 10
       }
      },
      "text/html": [
       "<div>\n",
       "<style scoped>\n",
       "    .dataframe tbody tr th:only-of-type {\n",
       "        vertical-align: middle;\n",
       "    }\n",
       "\n",
       "    .dataframe tbody tr th {\n",
       "        vertical-align: top;\n",
       "    }\n",
       "\n",
       "    .dataframe thead th {\n",
       "        text-align: right;\n",
       "    }\n",
       "</style>\n",
       "<table border=\"1\" class=\"dataframe\">\n",
       "  <thead>\n",
       "    <tr style=\"text-align: right;\">\n",
       "      <th></th>\n",
       "      <th>coef</th>\n",
       "      <th>pvals</th>\n",
       "      <th>p_fdr</th>\n",
       "    </tr>\n",
       "  </thead>\n",
       "  <tbody>\n",
       "    <tr>\n",
       "      <th>Pul_8</th>\n",
       "      <td>-1.276</td>\n",
       "      <td>6.712e-07</td>\n",
       "      <td>6.712e-06</td>\n",
       "    </tr>\n",
       "    <tr>\n",
       "      <th>MD_Pf_12</th>\n",
       "      <td>-0.985</td>\n",
       "      <td>2.291e-05</td>\n",
       "      <td>7.638e-05</td>\n",
       "    </tr>\n",
       "    <tr>\n",
       "      <th>AV_2</th>\n",
       "      <td>-0.844</td>\n",
       "      <td>1.985e-05</td>\n",
       "      <td>7.638e-05</td>\n",
       "    </tr>\n",
       "    <tr>\n",
       "      <th>VPL_7</th>\n",
       "      <td>-0.630</td>\n",
       "      <td>2.576e-03</td>\n",
       "      <td>5.153e-03</td>\n",
       "    </tr>\n",
       "    <tr>\n",
       "      <th>CM_11</th>\n",
       "      <td>-0.598</td>\n",
       "      <td>1.312e-03</td>\n",
       "      <td>3.280e-03</td>\n",
       "    </tr>\n",
       "    <tr>\n",
       "      <th>VLP_6</th>\n",
       "      <td>-0.546</td>\n",
       "      <td>1.073e-02</td>\n",
       "      <td>1.533e-02</td>\n",
       "    </tr>\n",
       "    <tr>\n",
       "      <th>LGN_9</th>\n",
       "      <td>-0.505</td>\n",
       "      <td>3.340e-03</td>\n",
       "      <td>5.567e-03</td>\n",
       "    </tr>\n",
       "    <tr>\n",
       "      <th>MGN_10</th>\n",
       "      <td>-0.407</td>\n",
       "      <td>3.915e-02</td>\n",
       "      <td>4.893e-02</td>\n",
       "    </tr>\n",
       "    <tr>\n",
       "      <th>VA_4</th>\n",
       "      <td>-0.312</td>\n",
       "      <td>1.063e-01</td>\n",
       "      <td>1.181e-01</td>\n",
       "    </tr>\n",
       "    <tr>\n",
       "      <th>VLa_5</th>\n",
       "      <td>-0.253</td>\n",
       "      <td>1.880e-01</td>\n",
       "      <td>1.880e-01</td>\n",
       "    </tr>\n",
       "  </tbody>\n",
       "</table>\n",
       "</div>"
      ],
      "text/plain": [
       "           coef      pvals      p_fdr\n",
       "Pul_8    -1.276  6.712e-07  6.712e-06\n",
       "MD_Pf_12 -0.985  2.291e-05  7.638e-05\n",
       "AV_2     -0.844  1.985e-05  7.638e-05\n",
       "VPL_7    -0.630  2.576e-03  5.153e-03\n",
       "CM_11    -0.598  1.312e-03  3.280e-03\n",
       "VLP_6    -0.546  1.073e-02  1.533e-02\n",
       "LGN_9    -0.505  3.340e-03  5.567e-03\n",
       "MGN_10   -0.407  3.915e-02  4.893e-02\n",
       "VA_4     -0.312  1.063e-01  1.181e-01\n",
       "VLa_5    -0.253  1.880e-01  1.880e-01"
      ]
     },
     "execution_count": 9,
     "metadata": {},
     "output_type": "execute_result"
    }
   ],
   "source": [
    "model_data = df_z.join(df_thomas_z)\n",
    "model_data = model_data[model_data['dz_type3'].isin([\"MS\", \"NIND\"])]\n",
    "model_data = pd.concat((model_data, pd.get_dummies(model_data['dz_type3'], dtype=\"int\")), axis=1)\n",
    "\n",
    "covars = \"age + Female + tiv\"\n",
    "outcome = \"MS\"\n",
    "\n",
    "pvals = {}\n",
    "coefs = {}\n",
    "se = {}\n",
    "all_results = {}\n",
    "for struct in hips_thomas_ref[thalamic_nuclei]:\n",
    "    formula = f\"{outcome} ~ {covars} + {struct}\"\n",
    "    res = sm.Logit.from_formula(formula, data=model_data).fit(disp=0)\n",
    "    pvals[struct] = res.pvalues[struct]\n",
    "    coefs[struct] = res.params[struct]\n",
    "    all_results[struct] = res\n",
    "\n",
    "regression_results = pd.DataFrame({\"coef\": coefs, \"pvals\": pvals})\n",
    "regression_results['p_fdr'] = stats.false_discovery_control(regression_results['pvals'], method='bh')\n",
    "regression_results = regression_results.sort_values(by=\"coef\", ascending=True)\n",
    "regression_results"
   ]
  },
  {
   "cell_type": "code",
   "execution_count": 32,
   "id": "68b467f2",
   "metadata": {},
   "outputs": [
    {
     "data": {
      "application/vnd.microsoft.datawrangler.viewer.v0+json": {
       "columns": [
        {
         "name": "index",
         "rawType": "object",
         "type": "string"
        },
        {
         "name": "coef",
         "rawType": "float64",
         "type": "float"
        },
        {
         "name": "llci",
         "rawType": "float64",
         "type": "float"
        },
        {
         "name": "ulci",
         "rawType": "float64",
         "type": "float"
        },
        {
         "name": "pvals",
         "rawType": "float64",
         "type": "float"
        },
        {
         "name": "ci",
         "rawType": "object",
         "type": "string"
        },
        {
         "name": "p_fdr",
         "rawType": "float64",
         "type": "float"
        }
       ],
       "ref": "d5d8ca22-7cbb-4177-a2e7-00ac0ee4ac18",
       "rows": [
        [
         "posterior",
         "-1.1562345373872471",
         "-1.5364235524449148",
         "-0.7760455223295794",
         "2.5121877490650873e-09",
         "[-1.536424, -0.776046]",
         "1.2560938745325436e-08"
        ],
        [
         "THALAMUS_1",
         "-1.1040210248010414",
         "-1.5119306703676423",
         "-0.6961113792344404",
         "1.1285366883853395e-07",
         "[-1.511931, -0.696111]",
         "2.8213417209633485e-07"
        ],
        [
         "medial",
         "-0.85594940429701",
         "-1.1973628028734415",
         "-0.5145360057205786",
         "8.933742651701677e-07",
         "[-1.197363, -0.514536]",
         "1.1167178314627096e-06"
        ],
        [
         "anterior",
         "-0.7499536795272521",
         "-1.0438178560652003",
         "-0.45608950298930384",
         "5.67650523369061e-07",
         "[-1.043818, -0.456090]",
         "9.460842056151017e-07"
        ],
        [
         "ventral",
         "-0.6272018821004816",
         "-0.974351620469138",
         "-0.28005214373182513",
         "0.0003984574748284342",
         "[-0.974352, -0.280052]",
         "0.0003984574748284342"
        ]
       ],
       "shape": {
        "columns": 6,
        "rows": 5
       }
      },
      "text/html": [
       "<div>\n",
       "<style scoped>\n",
       "    .dataframe tbody tr th:only-of-type {\n",
       "        vertical-align: middle;\n",
       "    }\n",
       "\n",
       "    .dataframe tbody tr th {\n",
       "        vertical-align: top;\n",
       "    }\n",
       "\n",
       "    .dataframe thead th {\n",
       "        text-align: right;\n",
       "    }\n",
       "</style>\n",
       "<table border=\"1\" class=\"dataframe\">\n",
       "  <thead>\n",
       "    <tr style=\"text-align: right;\">\n",
       "      <th></th>\n",
       "      <th>coef</th>\n",
       "      <th>llci</th>\n",
       "      <th>ulci</th>\n",
       "      <th>pvals</th>\n",
       "      <th>ci</th>\n",
       "      <th>p_fdr</th>\n",
       "    </tr>\n",
       "  </thead>\n",
       "  <tbody>\n",
       "    <tr>\n",
       "      <th>posterior</th>\n",
       "      <td>-1.156</td>\n",
       "      <td>-1.536</td>\n",
       "      <td>-0.776</td>\n",
       "      <td>2.512e-09</td>\n",
       "      <td>[-1.536424, -0.776046]</td>\n",
       "      <td>1.256e-08</td>\n",
       "    </tr>\n",
       "    <tr>\n",
       "      <th>THALAMUS_1</th>\n",
       "      <td>-1.104</td>\n",
       "      <td>-1.512</td>\n",
       "      <td>-0.696</td>\n",
       "      <td>1.129e-07</td>\n",
       "      <td>[-1.511931, -0.696111]</td>\n",
       "      <td>2.821e-07</td>\n",
       "    </tr>\n",
       "    <tr>\n",
       "      <th>medial</th>\n",
       "      <td>-0.856</td>\n",
       "      <td>-1.197</td>\n",
       "      <td>-0.515</td>\n",
       "      <td>8.934e-07</td>\n",
       "      <td>[-1.197363, -0.514536]</td>\n",
       "      <td>1.117e-06</td>\n",
       "    </tr>\n",
       "    <tr>\n",
       "      <th>anterior</th>\n",
       "      <td>-0.750</td>\n",
       "      <td>-1.044</td>\n",
       "      <td>-0.456</td>\n",
       "      <td>5.677e-07</td>\n",
       "      <td>[-1.043818, -0.456090]</td>\n",
       "      <td>9.461e-07</td>\n",
       "    </tr>\n",
       "    <tr>\n",
       "      <th>ventral</th>\n",
       "      <td>-0.627</td>\n",
       "      <td>-0.974</td>\n",
       "      <td>-0.280</td>\n",
       "      <td>3.985e-04</td>\n",
       "      <td>[-0.974352, -0.280052]</td>\n",
       "      <td>3.985e-04</td>\n",
       "    </tr>\n",
       "  </tbody>\n",
       "</table>\n",
       "</div>"
      ],
      "text/plain": [
       "             coef   llci   ulci      pvals                      ci      p_fdr\n",
       "posterior  -1.156 -1.536 -0.776  2.512e-09  [-1.536424, -0.776046]  1.256e-08\n",
       "THALAMUS_1 -1.104 -1.512 -0.696  1.129e-07  [-1.511931, -0.696111]  2.821e-07\n",
       "medial     -0.856 -1.197 -0.515  8.934e-07  [-1.197363, -0.514536]  1.117e-06\n",
       "anterior   -0.750 -1.044 -0.456  5.677e-07  [-1.043818, -0.456090]  9.461e-07\n",
       "ventral    -0.627 -0.974 -0.280  3.985e-04  [-0.974352, -0.280052]  3.985e-04"
      ]
     },
     "execution_count": 32,
     "metadata": {},
     "output_type": "execute_result"
    }
   ],
   "source": [
    "model_data = df_z.join(df_thomas2_z)\n",
    "model_data = model_data[model_data['dz_type2'].isin([\"MS\", \"!MS\"])]\n",
    "model_data = pd.concat((model_data, pd.get_dummies(model_data['dz_type3'], dtype=\"int\")), axis=1)\n",
    "\n",
    "covars = \"age + Female + tiv\"\n",
    "outcome = \"MS\"\n",
    "\n",
    "pvals = {}\n",
    "coefs = {}\n",
    "llci = {}\n",
    "ulci = {}\n",
    "ci_str = {}\n",
    "\n",
    "all_results = {}\n",
    "# for struct in df_thomas2.columns:\n",
    "#for struct in df_thomas2.columns[~df_thomas2.columns.isin([\"THALAMUS_1\"])]:\n",
    "for struct in df_thomas2.columns:\n",
    "    formula = f\"{outcome} ~ {struct} + {covars}\"\n",
    "    res = sm.Logit.from_formula(formula, data=model_data).fit(disp=0)\n",
    "    pvals[struct] = res.pvalues[struct]\n",
    "    coefs[struct] = res.params[struct]\n",
    "    ci = res.conf_int()\n",
    "    llci[struct] = ci.loc[struct, 0]\n",
    "    ulci[struct] = ci.loc[struct, 1]\n",
    "    ci_str[struct] = f\"[{llci[struct]:.6f}, {ulci[struct]:.6f}]\"\n",
    "    all_results[struct] = res\n",
    "\n",
    "regression_results = pd.DataFrame({\"coef\": coefs, \"llci\": llci, \"ulci\": ulci, \"pvals\": pvals, \"ci\": ci_str})\n",
    "regression_results['p_fdr'] = stats.false_discovery_control(regression_results['pvals'], method='bh')\n",
    "\n",
    "regression_results = regression_results.sort_values(by=\"coef\", ascending=True)\n",
    "# regression_results.to_csv(figpath / \"ms_nind_combined_nuclei_thalamus_control.csv\")\n",
    "regression_results"
   ]
  },
  {
   "cell_type": "code",
   "execution_count": 17,
   "id": "67b64987",
   "metadata": {},
   "outputs": [
    {
     "data": {
      "text/plain": [
       "'posterior'"
      ]
     },
     "execution_count": 17,
     "metadata": {},
     "output_type": "execute_result"
    }
   ],
   "source": [
    "struct"
   ]
  },
  {
   "cell_type": "code",
   "execution_count": 49,
   "id": "fc7221d4",
   "metadata": {},
   "outputs": [
    {
     "name": "stdout",
     "output_type": "stream",
     "text": [
      "'posterior, medial'\n",
      "test2r.t2(-0.257, -0.209, 0.865, 468)$p_value\n",
      "\n",
      "'posterior, anterior'\n",
      "test2r.t2(-0.257, -0.215, 0.616, 468)$p_value\n",
      "\n",
      "'posterior, ventral'\n",
      "test2r.t2(-0.257, -0.151, 0.711, 468)$p_value\n",
      "\n",
      "'medial, anterior'\n",
      "test2r.t2(-0.209, -0.215, 0.579, 468)$p_value\n",
      "\n",
      "'medial, ventral'\n",
      "test2r.t2(-0.209, -0.151, 0.742, 468)$p_value\n",
      "\n",
      "'anterior, ventral'\n",
      "test2r.t2(-0.215, -0.151, 0.604, 468)$p_value\n",
      "\n",
      "\n"
     ]
    }
   ],
   "source": [
    "models = {}\n",
    "models['posterior'] = sm.OLS.from_formula(\"posterior ~ age + Female + tiv\", data=model_data).fit()\n",
    "models['medial'] = sm.OLS.from_formula(\"medial ~ age + Female + tiv\", data=model_data).fit()\n",
    "models['anterior'] = sm.OLS.from_formula(\"anterior ~ age + Female + tiv\", data=model_data).fit()\n",
    "models['ventral'] = sm.OLS.from_formula(\"ventral ~ age + Female + tiv\", data=model_data).fit()\n",
    "models['MS'] = sm.OLS.from_formula(\"MS ~ age + Female + tiv\", data=model_data).fit()\n",
    "\n",
    "structs = ['posterior', 'medial', 'anterior', 'ventral']\n",
    "working_structs = structs.copy()\n",
    "\n",
    "R_cmd = \"\"\n",
    "for i, struct1 in enumerate(structs):\n",
    "    working_structs = working_structs[1:]   \n",
    "    for struct2 in working_structs:\n",
    "        p1 = stats.pearsonr(models[struct1].resid, models['MS'].resid).statistic\n",
    "        p2 = stats.pearsonr(models[struct2].resid, models['MS'].resid).statistic\n",
    "        p12 = stats.pearsonr(models[struct1].resid, models[struct2].resid).statistic\n",
    "        R_cmd = R_cmd + f\"'{struct1}, {struct2}'\\ntest2r.t2({p1:0.3}, {p2:0.3}, {p12:0.3}, 468)$p_value\\n\\n\"\n",
    "#         test2r.t2(-0.2570, -0.225,\n",
    "#           0.936, 468)\n",
    "\n",
    "# print(\"posterior-medial\", stats.pearsonr(model_posterior.resid, model_medial.resid).statistic)\n",
    "# print(\"posterior-anterior\", stats.pearsonr(model_posterior.resid, model_anterior.resid).statistic)\n",
    "# print(\"anterior\", stats.pearsonr(model2.resid, model3.resid).statistic)\n",
    "\n",
    "# # data = pd.DataFrame({'posterior': model1.resid, 'medial': model2.resid, 'MS': model3.resid})\n",
    "# # result = sm.Logit.from_formula('MS ~ posterior', data=data).fit()\n",
    "# print(result.summary())\n",
    "print(R_cmd)\n"
   ]
  },
  {
   "cell_type": "code",
   "execution_count": null,
   "id": "b6df169e",
   "metadata": {},
   "outputs": [],
   "source": []
  },
  {
   "cell_type": "markdown",
   "id": "a81ef187",
   "metadata": {},
   "source": [
    "### RMS vs PMS"
   ]
  },
  {
   "cell_type": "code",
   "execution_count": 13,
   "id": "3221375b",
   "metadata": {},
   "outputs": [
    {
     "name": "stdout",
     "output_type": "stream",
     "text": [
      "Optimization terminated successfully.\n",
      "         Current function value: 0.360051\n",
      "         Iterations 7\n",
      "                           Logit Regression Results                           \n",
      "==============================================================================\n",
      "Dep. Variable:                    PMS   No. Observations:                  468\n",
      "Model:                          Logit   Df Residuals:                      463\n",
      "Method:                           MLE   Df Model:                            4\n",
      "Date:                Wed, 22 Oct 2025   Pseudo R-squ.:                  0.2944\n",
      "Time:                        20:55:36   Log-Likelihood:                -168.50\n",
      "converged:                       True   LL-Null:                       -238.83\n",
      "Covariance Type:            nonrobust   LLR p-value:                 2.056e-29\n",
      "==============================================================================\n",
      "                 coef    std err          z      P>|z|      [0.025      0.975]\n",
      "------------------------------------------------------------------------------\n",
      "Intercept     -2.0694      0.187    -11.078      0.000      -2.436      -1.703\n",
      "THALAMUS_1    -0.7050      0.155     -4.554      0.000      -1.008      -0.402\n",
      "age            1.2234      0.179      6.832      0.000       0.872       1.574\n",
      "Female        -0.5291      0.152     -3.475      0.001      -0.827      -0.231\n",
      "tiv            0.1068      0.181      0.589      0.556      -0.249       0.462\n",
      "==============================================================================\n"
     ]
    }
   ],
   "source": [
    "model_data = df_z.join(df_thomas_z)\n",
    "model_data = model_data[model_data['dz_type5'].isin([\"RMS\", \"PMS\"])]\n",
    "model_data = pd.concat((model_data, pd.get_dummies(model_data['dz_type5'], dtype=\"int\")), axis=1)\n",
    "\n",
    "formula = \"PMS ~ THALAMUS_1 + age + Female + tiv\"\n",
    "res = sm.Logit.from_formula(formula, data=model_data).fit()\n",
    "print(res.summary())"
   ]
  },
  {
   "cell_type": "code",
   "execution_count": 69,
   "id": "f8ee4760",
   "metadata": {},
   "outputs": [
    {
     "data": {
      "application/vnd.microsoft.datawrangler.viewer.v0+json": {
       "columns": [
        {
         "name": "index",
         "rawType": "object",
         "type": "string"
        },
        {
         "name": "coef",
         "rawType": "float64",
         "type": "float"
        },
        {
         "name": "pvals",
         "rawType": "float64",
         "type": "float"
        },
        {
         "name": "se",
         "rawType": "float64",
         "type": "float"
        },
        {
         "name": "p_fdr",
         "rawType": "float64",
         "type": "float"
        }
       ],
       "ref": "cb3d3a94-59f7-4df2-a49f-5bed7f181f42",
       "rows": [
        [
         "AV_2",
         "-0.6960918907095655",
         "9.646378362150827e-05",
         null,
         "0.0002647776420489548"
        ],
        [
         "VLP_6",
         "-0.6809242128114131",
         "1.655473916604141e-05",
         null,
         "0.0001655473916604141"
        ],
        [
         "Pul_8",
         "-0.6051073835892675",
         "5.8805889669605995e-05",
         null,
         "0.0002647776420489548"
        ],
        [
         "LGN_9",
         "-0.5724973291924657",
         "0.00010591105681958191",
         null,
         "0.0002647776420489548"
        ],
        [
         "VPL_7",
         "-0.5570567191417265",
         "0.00032578956056125046",
         null,
         "0.0005429826009354174"
        ],
        [
         "MD_Pf_12",
         "-0.555950660282933",
         "0.00014181067967810186",
         null,
         "0.0002836213593562037"
        ],
        [
         "VA_4",
         "-0.5364899420530533",
         "0.002414114297331135",
         null,
         "0.003154708846152268"
        ],
        [
         "VLa_5",
         "-0.5331759116578114",
         "0.0025237670769218145",
         null,
         "0.003154708846152268"
        ],
        [
         "CM_11",
         "-0.43207115128983736",
         "0.006106536583836726",
         null,
         "0.006785040648707473"
        ],
        [
         "MGN_10",
         "-0.4003372701862146",
         "0.014410331837204566",
         null,
         "0.014410331837204566"
        ]
       ],
       "shape": {
        "columns": 4,
        "rows": 10
       }
      },
      "text/html": [
       "<div>\n",
       "<style scoped>\n",
       "    .dataframe tbody tr th:only-of-type {\n",
       "        vertical-align: middle;\n",
       "    }\n",
       "\n",
       "    .dataframe tbody tr th {\n",
       "        vertical-align: top;\n",
       "    }\n",
       "\n",
       "    .dataframe thead th {\n",
       "        text-align: right;\n",
       "    }\n",
       "</style>\n",
       "<table border=\"1\" class=\"dataframe\">\n",
       "  <thead>\n",
       "    <tr style=\"text-align: right;\">\n",
       "      <th></th>\n",
       "      <th>coef</th>\n",
       "      <th>pvals</th>\n",
       "      <th>se</th>\n",
       "      <th>p_fdr</th>\n",
       "    </tr>\n",
       "  </thead>\n",
       "  <tbody>\n",
       "    <tr>\n",
       "      <th>AV_2</th>\n",
       "      <td>-0.696</td>\n",
       "      <td>9.646e-05</td>\n",
       "      <td>NaN</td>\n",
       "      <td>2.648e-04</td>\n",
       "    </tr>\n",
       "    <tr>\n",
       "      <th>VLP_6</th>\n",
       "      <td>-0.681</td>\n",
       "      <td>1.655e-05</td>\n",
       "      <td>NaN</td>\n",
       "      <td>1.655e-04</td>\n",
       "    </tr>\n",
       "    <tr>\n",
       "      <th>Pul_8</th>\n",
       "      <td>-0.605</td>\n",
       "      <td>5.881e-05</td>\n",
       "      <td>NaN</td>\n",
       "      <td>2.648e-04</td>\n",
       "    </tr>\n",
       "    <tr>\n",
       "      <th>LGN_9</th>\n",
       "      <td>-0.572</td>\n",
       "      <td>1.059e-04</td>\n",
       "      <td>NaN</td>\n",
       "      <td>2.648e-04</td>\n",
       "    </tr>\n",
       "    <tr>\n",
       "      <th>VPL_7</th>\n",
       "      <td>-0.557</td>\n",
       "      <td>3.258e-04</td>\n",
       "      <td>NaN</td>\n",
       "      <td>5.430e-04</td>\n",
       "    </tr>\n",
       "    <tr>\n",
       "      <th>MD_Pf_12</th>\n",
       "      <td>-0.556</td>\n",
       "      <td>1.418e-04</td>\n",
       "      <td>NaN</td>\n",
       "      <td>2.836e-04</td>\n",
       "    </tr>\n",
       "    <tr>\n",
       "      <th>VA_4</th>\n",
       "      <td>-0.536</td>\n",
       "      <td>2.414e-03</td>\n",
       "      <td>NaN</td>\n",
       "      <td>3.155e-03</td>\n",
       "    </tr>\n",
       "    <tr>\n",
       "      <th>VLa_5</th>\n",
       "      <td>-0.533</td>\n",
       "      <td>2.524e-03</td>\n",
       "      <td>NaN</td>\n",
       "      <td>3.155e-03</td>\n",
       "    </tr>\n",
       "    <tr>\n",
       "      <th>CM_11</th>\n",
       "      <td>-0.432</td>\n",
       "      <td>6.107e-03</td>\n",
       "      <td>NaN</td>\n",
       "      <td>6.785e-03</td>\n",
       "    </tr>\n",
       "    <tr>\n",
       "      <th>MGN_10</th>\n",
       "      <td>-0.400</td>\n",
       "      <td>1.441e-02</td>\n",
       "      <td>NaN</td>\n",
       "      <td>1.441e-02</td>\n",
       "    </tr>\n",
       "  </tbody>\n",
       "</table>\n",
       "</div>"
      ],
      "text/plain": [
       "           coef      pvals  se      p_fdr\n",
       "AV_2     -0.696  9.646e-05 NaN  2.648e-04\n",
       "VLP_6    -0.681  1.655e-05 NaN  1.655e-04\n",
       "Pul_8    -0.605  5.881e-05 NaN  2.648e-04\n",
       "LGN_9    -0.572  1.059e-04 NaN  2.648e-04\n",
       "VPL_7    -0.557  3.258e-04 NaN  5.430e-04\n",
       "MD_Pf_12 -0.556  1.418e-04 NaN  2.836e-04\n",
       "VA_4     -0.536  2.414e-03 NaN  3.155e-03\n",
       "VLa_5    -0.533  2.524e-03 NaN  3.155e-03\n",
       "CM_11    -0.432  6.107e-03 NaN  6.785e-03\n",
       "MGN_10   -0.400  1.441e-02 NaN  1.441e-02"
      ]
     },
     "execution_count": 69,
     "metadata": {},
     "output_type": "execute_result"
    }
   ],
   "source": [
    "covars = \"age + Female + tiv\"\n",
    "outcome = \"PMS\"\n",
    "\n",
    "pvals = {}\n",
    "coefs = {}\n",
    "se = {}\n",
    "all_results = {}\n",
    "for struct in hips_thomas_ref[thalamic_nuclei]:\n",
    "    formula = f\"{outcome} ~ {covars} + {struct}\"\n",
    "    res = sm.Logit.from_formula(formula, data=model_data).fit(disp=0)\n",
    "    pvals[struct] = res.pvalues[struct]\n",
    "    coefs[struct] = res.params[struct]\n",
    "    # se[struct] = res.HC0_se[struct]\n",
    "    all_results[struct] = res\n",
    "\n",
    "regression_results = pd.DataFrame({\"coef\": coefs, \"pvals\": pvals, \"se\": se})\n",
    "regression_results['p_fdr'] = stats.false_discovery_control(regression_results['pvals'], method='bh')\n",
    "regression_results = regression_results.sort_values(by=\"coef\", ascending=True)\n",
    "regression_results"
   ]
  },
  {
   "cell_type": "code",
   "execution_count": 8,
   "id": "af962961",
   "metadata": {},
   "outputs": [
    {
     "data": {
      "application/vnd.microsoft.datawrangler.viewer.v0+json": {
       "columns": [
        {
         "name": "index",
         "rawType": "object",
         "type": "string"
        },
        {
         "name": "coef",
         "rawType": "float64",
         "type": "float"
        },
        {
         "name": "llci",
         "rawType": "float64",
         "type": "float"
        },
        {
         "name": "ulci",
         "rawType": "float64",
         "type": "float"
        },
        {
         "name": "pvals",
         "rawType": "float64",
         "type": "float"
        },
        {
         "name": "ci",
         "rawType": "object",
         "type": "string"
        },
        {
         "name": "p_fdr",
         "rawType": "float64",
         "type": "float"
        }
       ],
       "ref": "5081bee0-6e8e-4399-8e7c-733e864d09f7",
       "rows": [
        [
         "anterior",
         "-0.6349877173576487",
         "-0.9959553968838419",
         "-0.2740200378314554",
         "0.0005651219917756168",
         "[-0.995955, -0.274020]",
         "0.0022604879671024674"
        ],
        [
         "ventral",
         "-0.5894436917000158",
         "-0.9575032653890444",
         "-0.22138411801098712",
         "0.001696049910650631",
         "[-0.957503, -0.221384]",
         "0.003039574479656086"
        ],
        [
         "posterior",
         "-0.501785799431562",
         "-0.8241176093644482",
         "-0.1794539894986758",
         "0.0022796808597420645",
         "[-0.824118, -0.179454]",
         "0.003039574479656086"
        ],
        [
         "medial",
         "-0.41284242538197113",
         "-0.7440258662439194",
         "-0.0816589845200229",
         "0.014556582926150557",
         "[-0.744026, -0.081659]",
         "0.014556582926150557"
        ]
       ],
       "shape": {
        "columns": 6,
        "rows": 4
       }
      },
      "text/html": [
       "<div>\n",
       "<style scoped>\n",
       "    .dataframe tbody tr th:only-of-type {\n",
       "        vertical-align: middle;\n",
       "    }\n",
       "\n",
       "    .dataframe tbody tr th {\n",
       "        vertical-align: top;\n",
       "    }\n",
       "\n",
       "    .dataframe thead th {\n",
       "        text-align: right;\n",
       "    }\n",
       "</style>\n",
       "<table border=\"1\" class=\"dataframe\">\n",
       "  <thead>\n",
       "    <tr style=\"text-align: right;\">\n",
       "      <th></th>\n",
       "      <th>coef</th>\n",
       "      <th>llci</th>\n",
       "      <th>ulci</th>\n",
       "      <th>pvals</th>\n",
       "      <th>ci</th>\n",
       "      <th>p_fdr</th>\n",
       "    </tr>\n",
       "  </thead>\n",
       "  <tbody>\n",
       "    <tr>\n",
       "      <th>anterior</th>\n",
       "      <td>-0.635</td>\n",
       "      <td>-0.996</td>\n",
       "      <td>-0.274</td>\n",
       "      <td>5.651e-04</td>\n",
       "      <td>[-0.995955, -0.274020]</td>\n",
       "      <td>0.002</td>\n",
       "    </tr>\n",
       "    <tr>\n",
       "      <th>ventral</th>\n",
       "      <td>-0.589</td>\n",
       "      <td>-0.958</td>\n",
       "      <td>-0.221</td>\n",
       "      <td>1.696e-03</td>\n",
       "      <td>[-0.957503, -0.221384]</td>\n",
       "      <td>0.003</td>\n",
       "    </tr>\n",
       "    <tr>\n",
       "      <th>posterior</th>\n",
       "      <td>-0.502</td>\n",
       "      <td>-0.824</td>\n",
       "      <td>-0.179</td>\n",
       "      <td>2.280e-03</td>\n",
       "      <td>[-0.824118, -0.179454]</td>\n",
       "      <td>0.003</td>\n",
       "    </tr>\n",
       "    <tr>\n",
       "      <th>medial</th>\n",
       "      <td>-0.413</td>\n",
       "      <td>-0.744</td>\n",
       "      <td>-0.082</td>\n",
       "      <td>1.456e-02</td>\n",
       "      <td>[-0.744026, -0.081659]</td>\n",
       "      <td>0.015</td>\n",
       "    </tr>\n",
       "  </tbody>\n",
       "</table>\n",
       "</div>"
      ],
      "text/plain": [
       "            coef   llci   ulci      pvals                      ci  p_fdr\n",
       "anterior  -0.635 -0.996 -0.274  5.651e-04  [-0.995955, -0.274020]  0.002\n",
       "ventral   -0.589 -0.958 -0.221  1.696e-03  [-0.957503, -0.221384]  0.003\n",
       "posterior -0.502 -0.824 -0.179  2.280e-03  [-0.824118, -0.179454]  0.003\n",
       "medial    -0.413 -0.744 -0.082  1.456e-02  [-0.744026, -0.081659]  0.015"
      ]
     },
     "execution_count": 8,
     "metadata": {},
     "output_type": "execute_result"
    }
   ],
   "source": [
    "model_data = df_z.join(df_thomas2_z)\n",
    "model_data = model_data[model_data['dz_type5'].isin([\"RMS\", \"PMS\"])]\n",
    "model_data = pd.concat((model_data, pd.get_dummies(model_data['dz_type5'], dtype=\"int\")), axis=1)\n",
    "\n",
    "covars = \"age + Female + tiv\"\n",
    "outcome = \"PMS\"\n",
    "\n",
    "pvals = {}\n",
    "coefs = {}\n",
    "llci = {}\n",
    "ulci = {}\n",
    "ci_str = {}\n",
    "\n",
    "all_results = {}\n",
    "# for struct in df_thomas2.columns:\n",
    "for struct in df_thomas2.columns[~df_thomas2.columns.isin([\"THALAMUS_1\"])]:\n",
    "    formula = f\"{outcome} ~ {struct}*dzdur + {covars}\"\n",
    "    res = sm.Logit.from_formula(formula, data=model_data).fit(disp=0)\n",
    "    pvals[struct] = res.pvalues[struct]\n",
    "    coefs[struct] = res.params[struct]\n",
    "    ci = res.conf_int()\n",
    "    llci[struct] = ci.loc[struct, 0]\n",
    "    ulci[struct] = ci.loc[struct, 1]\n",
    "    ci_str[struct] = f\"[{llci[struct]:.6f}, {ulci[struct]:.6f}]\"\n",
    "    all_results[struct] = res\n",
    "\n",
    "regression_results = pd.DataFrame({\"coef\": coefs, \"llci\": llci, \"ulci\": ulci, \"pvals\": pvals, \"ci\": ci_str})\n",
    "regression_results['p_fdr'] = stats.false_discovery_control(regression_results['pvals'], method='bh')\n",
    "\n",
    "regression_results = regression_results.sort_values(by=\"coef\", ascending=True)\n",
    "# regression_results.to_csv(figpath / \"ms_nind_combined_nuclei_thalamus_control.csv\")\n",
    "regression_results"
   ]
  },
  {
   "cell_type": "markdown",
   "id": "555b25c4",
   "metadata": {},
   "source": [
    "### PPMS vs SPMS"
   ]
  },
  {
   "cell_type": "markdown",
   "id": "e040283e",
   "metadata": {},
   "source": [
    "Thalamic volume predicts PPMS vs SPMS. PPMS associated with greater thalamic volume, after controlling for age, sex, tiv, and disease duration"
   ]
  },
  {
   "cell_type": "code",
   "execution_count": 36,
   "id": "52f2f09c",
   "metadata": {},
   "outputs": [
    {
     "name": "stdout",
     "output_type": "stream",
     "text": [
      "Optimization terminated successfully.\n",
      "         Current function value: 0.548368\n",
      "         Iterations 6\n",
      "                           Logit Regression Results                           \n",
      "==============================================================================\n",
      "Dep. Variable:                   PPMS   No. Observations:                   78\n",
      "Model:                          Logit   Df Residuals:                       72\n",
      "Method:                           MLE   Df Model:                            5\n",
      "Date:                Fri, 06 Jun 2025   Pseudo R-squ.:                  0.1839\n",
      "Time:                        17:43:10   Log-Likelihood:                -42.773\n",
      "converged:                       True   LL-Null:                       -52.413\n",
      "Covariance Type:            nonrobust   LLR p-value:                  0.001704\n",
      "==============================================================================\n",
      "                 coef    std err          z      P>|z|      [0.025      0.975]\n",
      "------------------------------------------------------------------------------\n",
      "Intercept     -0.1583      0.420     -0.377      0.706      -0.981       0.665\n",
      "THALAMUS_1     0.6552      0.312      2.099      0.036       0.043       1.267\n",
      "age            0.9812      0.490      2.002      0.045       0.021       1.942\n",
      "Female         0.2577      0.287      0.899      0.368      -0.304       0.819\n",
      "tiv            0.0351      0.377      0.093      0.926      -0.704       0.774\n",
      "dzdur         -0.9276      0.344     -2.699      0.007      -1.601      -0.254\n",
      "==============================================================================\n"
     ]
    }
   ],
   "source": [
    "model_data = df_z.join(df_thomas_z)\n",
    "model_data = model_data[model_data['ms_type'].isin([\"PPMS\", \"SPMS\"])]\n",
    "model_data = pd.concat((model_data, pd.get_dummies(model_data['ms_type'], dtype=\"int\")), axis=1)\n",
    "\n",
    "formula = \"PPMS ~ THALAMUS_1 + age + Female + tiv + dzdur\"\n",
    "res = sm.Logit.from_formula(formula, data=model_data).fit()\n",
    "print(res.summary())"
   ]
  },
  {
   "cell_type": "code",
   "execution_count": 37,
   "id": "c8de9f5a",
   "metadata": {},
   "outputs": [
    {
     "name": "stdout",
     "output_type": "stream",
     "text": [
      "Optimization terminated successfully.\n",
      "         Current function value: 0.635106\n",
      "         Iterations 5\n",
      "Optimization terminated successfully.\n",
      "         Current function value: 0.652023\n",
      "         Iterations 5\n",
      "Optimization terminated successfully.\n",
      "         Current function value: 0.655371\n",
      "         Iterations 5\n",
      "Optimization terminated successfully.\n",
      "         Current function value: 0.631714\n",
      "         Iterations 5\n",
      "Optimization terminated successfully.\n",
      "         Current function value: 0.589296\n",
      "         Iterations 6\n",
      "Optimization terminated successfully.\n",
      "         Current function value: 0.588183\n",
      "         Iterations 6\n",
      "Optimization terminated successfully.\n",
      "         Current function value: 0.642673\n",
      "         Iterations 5\n",
      "Optimization terminated successfully.\n",
      "         Current function value: 0.636726\n",
      "         Iterations 5\n",
      "Optimization terminated successfully.\n",
      "         Current function value: 0.655130\n",
      "         Iterations 5\n",
      "Optimization terminated successfully.\n",
      "         Current function value: 0.612379\n",
      "         Iterations 5\n"
     ]
    },
    {
     "data": {
      "application/vnd.microsoft.datawrangler.viewer.v0+json": {
       "columns": [
        {
         "name": "index",
         "rawType": "object",
         "type": "string"
        },
        {
         "name": "coef",
         "rawType": "float64",
         "type": "float"
        },
        {
         "name": "pvals",
         "rawType": "float64",
         "type": "float"
        },
        {
         "name": "se",
         "rawType": "float64",
         "type": "float"
        },
        {
         "name": "p_fdr",
         "rawType": "float64",
         "type": "float"
        }
       ],
       "ref": "560c4d2e-d616-4b24-8e5a-ba81cfdd42e1",
       "rows": [
        [
         "VLa_5",
         "0.01652263055373697",
         "0.9516298311707736",
         null,
         "0.9516298311707736"
        ],
        [
         "CM_11",
         "0.052192355117299756",
         "0.838936799445679",
         null,
         "0.9321519993840878"
        ],
        [
         "VA_4",
         "0.2291957143644589",
         "0.47275826840518154",
         null,
         "0.5909478355064769"
        ],
        [
         "LGN_9",
         "0.36097856906781667",
         "0.1664121354212197",
         null,
         "0.23773162203031384"
        ],
        [
         "MGN_10",
         "0.4415470967032693",
         "0.10067778611680521",
         null,
         "0.16779631019467536"
        ],
        [
         "VLP_6",
         "0.4800794008073495",
         "0.0669993895660799",
         null,
         "0.166957689097496"
        ],
        [
         "AV_2",
         "0.5759801741222538",
         "0.083478844548748",
         null,
         "0.166957689097496"
        ],
        [
         "MD_Pf_12",
         "0.6282934056680988",
         "0.015675790638520006",
         null,
         "0.05225263546173336"
        ],
        [
         "Pul_8",
         "0.8675461915159263",
         "0.003359328334074845",
         null,
         "0.023240634661839246"
        ],
        [
         "VPL_7",
         "0.8765576718441916",
         "0.004648126932367849",
         null,
         "0.023240634661839246"
        ]
       ],
       "shape": {
        "columns": 4,
        "rows": 10
       }
      },
      "text/html": [
       "<div>\n",
       "<style scoped>\n",
       "    .dataframe tbody tr th:only-of-type {\n",
       "        vertical-align: middle;\n",
       "    }\n",
       "\n",
       "    .dataframe tbody tr th {\n",
       "        vertical-align: top;\n",
       "    }\n",
       "\n",
       "    .dataframe thead th {\n",
       "        text-align: right;\n",
       "    }\n",
       "</style>\n",
       "<table border=\"1\" class=\"dataframe\">\n",
       "  <thead>\n",
       "    <tr style=\"text-align: right;\">\n",
       "      <th></th>\n",
       "      <th>coef</th>\n",
       "      <th>pvals</th>\n",
       "      <th>se</th>\n",
       "      <th>p_fdr</th>\n",
       "    </tr>\n",
       "  </thead>\n",
       "  <tbody>\n",
       "    <tr>\n",
       "      <th>VLa_5</th>\n",
       "      <td>0.017</td>\n",
       "      <td>0.952</td>\n",
       "      <td>NaN</td>\n",
       "      <td>0.952</td>\n",
       "    </tr>\n",
       "    <tr>\n",
       "      <th>CM_11</th>\n",
       "      <td>0.052</td>\n",
       "      <td>0.839</td>\n",
       "      <td>NaN</td>\n",
       "      <td>0.932</td>\n",
       "    </tr>\n",
       "    <tr>\n",
       "      <th>VA_4</th>\n",
       "      <td>0.229</td>\n",
       "      <td>0.473</td>\n",
       "      <td>NaN</td>\n",
       "      <td>0.591</td>\n",
       "    </tr>\n",
       "    <tr>\n",
       "      <th>LGN_9</th>\n",
       "      <td>0.361</td>\n",
       "      <td>0.166</td>\n",
       "      <td>NaN</td>\n",
       "      <td>0.238</td>\n",
       "    </tr>\n",
       "    <tr>\n",
       "      <th>MGN_10</th>\n",
       "      <td>0.442</td>\n",
       "      <td>0.101</td>\n",
       "      <td>NaN</td>\n",
       "      <td>0.168</td>\n",
       "    </tr>\n",
       "    <tr>\n",
       "      <th>VLP_6</th>\n",
       "      <td>0.480</td>\n",
       "      <td>0.067</td>\n",
       "      <td>NaN</td>\n",
       "      <td>0.167</td>\n",
       "    </tr>\n",
       "    <tr>\n",
       "      <th>AV_2</th>\n",
       "      <td>0.576</td>\n",
       "      <td>0.083</td>\n",
       "      <td>NaN</td>\n",
       "      <td>0.167</td>\n",
       "    </tr>\n",
       "    <tr>\n",
       "      <th>MD_Pf_12</th>\n",
       "      <td>0.628</td>\n",
       "      <td>0.016</td>\n",
       "      <td>NaN</td>\n",
       "      <td>0.052</td>\n",
       "    </tr>\n",
       "    <tr>\n",
       "      <th>Pul_8</th>\n",
       "      <td>0.868</td>\n",
       "      <td>0.003</td>\n",
       "      <td>NaN</td>\n",
       "      <td>0.023</td>\n",
       "    </tr>\n",
       "    <tr>\n",
       "      <th>VPL_7</th>\n",
       "      <td>0.877</td>\n",
       "      <td>0.005</td>\n",
       "      <td>NaN</td>\n",
       "      <td>0.023</td>\n",
       "    </tr>\n",
       "  </tbody>\n",
       "</table>\n",
       "</div>"
      ],
      "text/plain": [
       "           coef  pvals  se  p_fdr\n",
       "VLa_5     0.017  0.952 NaN  0.952\n",
       "CM_11     0.052  0.839 NaN  0.932\n",
       "VA_4      0.229  0.473 NaN  0.591\n",
       "LGN_9     0.361  0.166 NaN  0.238\n",
       "MGN_10    0.442  0.101 NaN  0.168\n",
       "VLP_6     0.480  0.067 NaN  0.167\n",
       "AV_2      0.576  0.083 NaN  0.167\n",
       "MD_Pf_12  0.628  0.016 NaN  0.052\n",
       "Pul_8     0.868  0.003 NaN  0.023\n",
       "VPL_7     0.877  0.005 NaN  0.023"
      ]
     },
     "execution_count": 37,
     "metadata": {},
     "output_type": "execute_result"
    }
   ],
   "source": [
    "covars = \"age + Female + tiv\"\n",
    "outcome = \"PPMS\"\n",
    "\n",
    "pvals = {}\n",
    "coefs = {}\n",
    "se = {}\n",
    "all_results = {}\n",
    "for struct in df_structs.loc[thalamic_nuclei_inds, 'struct']:\n",
    "    formula = f\"{outcome} ~ {covars} + {struct}\"\n",
    "    res = sm.Logit.from_formula(formula, data=model_data).fit()\n",
    "    pvals[struct] = res.pvalues[struct]\n",
    "    coefs[struct] = res.params[struct]\n",
    "    # se[struct] = res.HC0_se[struct]\n",
    "    all_results[struct] = res\n",
    "\n",
    "regression_results = pd.DataFrame({\"coef\": coefs, \"pvals\": pvals, \"se\": se})\n",
    "regression_results['p_fdr'] = stats.false_discovery_control(regression_results['pvals'], method='bh')\n",
    "regression_results = regression_results.sort_values(by=\"coef\", ascending=True)\n",
    "regression_results"
   ]
  },
  {
   "cell_type": "code",
   "execution_count": 31,
   "id": "72ead396",
   "metadata": {},
   "outputs": [
    {
     "name": "stdout",
     "output_type": "stream",
     "text": [
      "Optimization terminated successfully.\n",
      "         Current function value: 0.244788\n",
      "         Iterations 8\n",
      "                           Logit Regression Results                           \n",
      "==============================================================================\n",
      "Dep. Variable:                   RRMS   No. Observations:                  368\n",
      "Model:                          Logit   Df Residuals:                      362\n",
      "Method:                           MLE   Df Model:                            5\n",
      "Date:                Fri, 06 Jun 2025   Pseudo R-squ.:                  0.3592\n",
      "Time:                        17:41:15   Log-Likelihood:                -90.082\n",
      "converged:                       True   LL-Null:                       -140.58\n",
      "Covariance Type:            nonrobust   LLR p-value:                 3.244e-20\n",
      "==============================================================================\n",
      "                 coef    std err          z      P>|z|      [0.025      0.975]\n",
      "------------------------------------------------------------------------------\n",
      "Intercept      3.0153      0.310      9.712      0.000       2.407       3.624\n",
      "age           -0.9106      0.286     -3.186      0.001      -1.471      -0.350\n",
      "THALAMUS_1     0.7982      0.219      3.645      0.000       0.369       1.227\n",
      "Female         0.7611      0.227      3.355      0.001       0.316       1.206\n",
      "tiv            0.1275      0.255      0.500      0.617      -0.372       0.627\n",
      "dzdur         -0.6098      0.230     -2.647      0.008      -1.061      -0.158\n",
      "==============================================================================\n"
     ]
    }
   ],
   "source": [
    "model_data = df_z.join(df_thomas_z)\n",
    "model_data = model_data[model_data['ms_type'].isin([\"SPMS\", \"RRMS\"])]\n",
    "model_data = pd.concat((model_data, pd.get_dummies(model_data['ms_type'], dtype=\"int\")), axis=1)\n",
    "\n",
    "formula = \"RRMS ~ age + THALAMUS_1 + Female + tiv + dzdur\"\n",
    "res = sm.Logit.from_formula(formula, data=model_data).fit()\n",
    "print(res.summary())"
   ]
  },
  {
   "cell_type": "code",
   "execution_count": 33,
   "id": "73396eb0",
   "metadata": {},
   "outputs": [
    {
     "name": "stdout",
     "output_type": "stream",
     "text": [
      "Optimization terminated successfully.\n",
      "         Current function value: 0.268260\n",
      "         Iterations 8\n",
      "Optimization terminated successfully.\n",
      "         Current function value: 0.276843\n",
      "         Iterations 8\n",
      "Optimization terminated successfully.\n",
      "         Current function value: 0.276132\n",
      "         Iterations 8\n",
      "Optimization terminated successfully.\n",
      "         Current function value: 0.258476\n",
      "         Iterations 8\n",
      "Optimization terminated successfully.\n",
      "         Current function value: 0.259288\n",
      "         Iterations 8\n",
      "Optimization terminated successfully.\n",
      "         Current function value: 0.257989\n",
      "         Iterations 8\n",
      "Optimization terminated successfully.\n",
      "         Current function value: 0.270770\n",
      "         Iterations 8\n",
      "Optimization terminated successfully.\n",
      "         Current function value: 0.275042\n",
      "         Iterations 8\n",
      "Optimization terminated successfully.\n",
      "         Current function value: 0.278471\n",
      "         Iterations 8\n",
      "Optimization terminated successfully.\n",
      "         Current function value: 0.262450\n",
      "         Iterations 8\n"
     ]
    },
    {
     "data": {
      "application/vnd.microsoft.datawrangler.viewer.v0+json": {
       "columns": [
        {
         "name": "index",
         "rawType": "object",
         "type": "string"
        },
        {
         "name": "coef",
         "rawType": "float64",
         "type": "float"
        },
        {
         "name": "pvals",
         "rawType": "float64",
         "type": "float"
        },
        {
         "name": "se",
         "rawType": "float64",
         "type": "float"
        },
        {
         "name": "p_fdr",
         "rawType": "float64",
         "type": "float"
        }
       ],
       "ref": "c9e4aba2-e36b-49f1-afb8-0f5b6bd751f1",
       "rows": [
        [
         "CM_11",
         "0.4732992796026208",
         "0.029050079598981524",
         null,
         "0.029050079598981524"
        ],
        [
         "VA_4",
         "0.5759266357965295",
         "0.013444285833718317",
         null,
         "0.01493809537079813"
        ],
        [
         "VLa_5",
         "0.5831603959909215",
         "0.011649604774891954",
         null,
         "0.014562005968614941"
        ],
        [
         "MGN_10",
         "0.5835509756122419",
         "0.005444280438531734",
         null,
         "0.0077775434836167626"
        ],
        [
         "LGN_9",
         "0.6666740174007086",
         "0.001390679623326024",
         null,
         "0.00231779937221004"
        ],
        [
         "MD_Pf_12",
         "0.7849104008071253",
         "7.173525626681281e-05",
         null,
         "0.00017933814066703203"
        ],
        [
         "AV_2",
         "0.8324707273004002",
         "0.000746822781529557",
         null,
         "0.001493645563059114"
        ],
        [
         "VLP_6",
         "0.8938648481394499",
         "1.7425573304512208e-05",
         null,
         "6.432560590081181e-05"
        ],
        [
         "VPL_7",
         "0.8965369068226118",
         "1.9297681770243544e-05",
         null,
         "6.432560590081181e-05"
        ],
        [
         "Pul_8",
         "0.9267346088560793",
         "1.8467593451115053e-05",
         null,
         "6.432560590081181e-05"
        ]
       ],
       "shape": {
        "columns": 4,
        "rows": 10
       }
      },
      "text/html": [
       "<div>\n",
       "<style scoped>\n",
       "    .dataframe tbody tr th:only-of-type {\n",
       "        vertical-align: middle;\n",
       "    }\n",
       "\n",
       "    .dataframe tbody tr th {\n",
       "        vertical-align: top;\n",
       "    }\n",
       "\n",
       "    .dataframe thead th {\n",
       "        text-align: right;\n",
       "    }\n",
       "</style>\n",
       "<table border=\"1\" class=\"dataframe\">\n",
       "  <thead>\n",
       "    <tr style=\"text-align: right;\">\n",
       "      <th></th>\n",
       "      <th>coef</th>\n",
       "      <th>pvals</th>\n",
       "      <th>se</th>\n",
       "      <th>p_fdr</th>\n",
       "    </tr>\n",
       "  </thead>\n",
       "  <tbody>\n",
       "    <tr>\n",
       "      <th>CM_11</th>\n",
       "      <td>0.473</td>\n",
       "      <td>2.905e-02</td>\n",
       "      <td>NaN</td>\n",
       "      <td>2.905e-02</td>\n",
       "    </tr>\n",
       "    <tr>\n",
       "      <th>VA_4</th>\n",
       "      <td>0.576</td>\n",
       "      <td>1.344e-02</td>\n",
       "      <td>NaN</td>\n",
       "      <td>1.494e-02</td>\n",
       "    </tr>\n",
       "    <tr>\n",
       "      <th>VLa_5</th>\n",
       "      <td>0.583</td>\n",
       "      <td>1.165e-02</td>\n",
       "      <td>NaN</td>\n",
       "      <td>1.456e-02</td>\n",
       "    </tr>\n",
       "    <tr>\n",
       "      <th>MGN_10</th>\n",
       "      <td>0.584</td>\n",
       "      <td>5.444e-03</td>\n",
       "      <td>NaN</td>\n",
       "      <td>7.778e-03</td>\n",
       "    </tr>\n",
       "    <tr>\n",
       "      <th>LGN_9</th>\n",
       "      <td>0.667</td>\n",
       "      <td>1.391e-03</td>\n",
       "      <td>NaN</td>\n",
       "      <td>2.318e-03</td>\n",
       "    </tr>\n",
       "    <tr>\n",
       "      <th>MD_Pf_12</th>\n",
       "      <td>0.785</td>\n",
       "      <td>7.174e-05</td>\n",
       "      <td>NaN</td>\n",
       "      <td>1.793e-04</td>\n",
       "    </tr>\n",
       "    <tr>\n",
       "      <th>AV_2</th>\n",
       "      <td>0.832</td>\n",
       "      <td>7.468e-04</td>\n",
       "      <td>NaN</td>\n",
       "      <td>1.494e-03</td>\n",
       "    </tr>\n",
       "    <tr>\n",
       "      <th>VLP_6</th>\n",
       "      <td>0.894</td>\n",
       "      <td>1.743e-05</td>\n",
       "      <td>NaN</td>\n",
       "      <td>6.433e-05</td>\n",
       "    </tr>\n",
       "    <tr>\n",
       "      <th>VPL_7</th>\n",
       "      <td>0.897</td>\n",
       "      <td>1.930e-05</td>\n",
       "      <td>NaN</td>\n",
       "      <td>6.433e-05</td>\n",
       "    </tr>\n",
       "    <tr>\n",
       "      <th>Pul_8</th>\n",
       "      <td>0.927</td>\n",
       "      <td>1.847e-05</td>\n",
       "      <td>NaN</td>\n",
       "      <td>6.433e-05</td>\n",
       "    </tr>\n",
       "  </tbody>\n",
       "</table>\n",
       "</div>"
      ],
      "text/plain": [
       "           coef      pvals  se      p_fdr\n",
       "CM_11     0.473  2.905e-02 NaN  2.905e-02\n",
       "VA_4      0.576  1.344e-02 NaN  1.494e-02\n",
       "VLa_5     0.583  1.165e-02 NaN  1.456e-02\n",
       "MGN_10    0.584  5.444e-03 NaN  7.778e-03\n",
       "LGN_9     0.667  1.391e-03 NaN  2.318e-03\n",
       "MD_Pf_12  0.785  7.174e-05 NaN  1.793e-04\n",
       "AV_2      0.832  7.468e-04 NaN  1.494e-03\n",
       "VLP_6     0.894  1.743e-05 NaN  6.433e-05\n",
       "VPL_7     0.897  1.930e-05 NaN  6.433e-05\n",
       "Pul_8     0.927  1.847e-05 NaN  6.433e-05"
      ]
     },
     "execution_count": 33,
     "metadata": {},
     "output_type": "execute_result"
    }
   ],
   "source": [
    "covars = \"age + Female + tiv\"\n",
    "outcome = \"RRMS\"\n",
    "\n",
    "pvals = {}\n",
    "coefs = {}\n",
    "se = {}\n",
    "all_results = {}\n",
    "for struct in df_structs.loc[thalamic_nuclei_inds, 'struct']:\n",
    "    formula = f\"{outcome} ~ {covars} + {struct}\"\n",
    "    res = sm.Logit.from_formula(formula, data=model_data).fit()\n",
    "    pvals[struct] = res.pvalues[struct]\n",
    "    coefs[struct] = res.params[struct]\n",
    "    # se[struct] = res.HC0_se[struct]\n",
    "    all_results[struct] = res\n",
    "\n",
    "regression_results = pd.DataFrame({\"coef\": coefs, \"pvals\": pvals, \"se\": se})\n",
    "regression_results['p_fdr'] = stats.false_discovery_control(regression_results['pvals'], method='bh')\n",
    "regression_results = regression_results.sort_values(by=\"coef\", ascending=True)\n",
    "regression_results"
   ]
  }
 ],
 "metadata": {
  "kernelspec": {
   "display_name": "monai",
   "language": "python",
   "name": "python3"
  },
  "language_info": {
   "codemirror_mode": {
    "name": "ipython",
    "version": 3
   },
   "file_extension": ".py",
   "mimetype": "text/x-python",
   "name": "python",
   "nbconvert_exporter": "python",
   "pygments_lexer": "ipython3",
   "version": "3.12.3"
  }
 },
 "nbformat": 4,
 "nbformat_minor": 5
}
