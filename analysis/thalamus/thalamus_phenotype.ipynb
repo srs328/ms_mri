{
 "cells": [
  {
   "cell_type": "code",
   "execution_count": 38,
   "id": "0ed7f4d4",
   "metadata": {},
   "outputs": [],
   "source": [
    "import os\n",
    "import re\n",
    "import subprocess\n",
    "import sys\n",
    "from pathlib import Path\n",
    "\n",
    "import matplotlib.pyplot as plt\n",
    "import nibabel as nib\n",
    "import numpy as np\n",
    "import pandas as pd\n",
    "import seaborn as sns\n",
    "import statsmodels.api as sm\n",
    "from matplotlib import colormaps\n",
    "from scipy import stats\n",
    "\n",
    "from mri_data import file_manager as fm\n",
    "\n",
    "sys.path.append(\"/home/srs-9/Projects/ms_mri/analysis/paper1\")\n",
    "\n",
    "import helpers"
   ]
  },
  {
   "cell_type": "code",
   "execution_count": 45,
   "id": "5dee42cf",
   "metadata": {},
   "outputs": [],
   "source": [
    "drive_root = fm.get_drive_root()\n",
    "msmri_home = Path(\"/home/srs-9/Projects/ms_mri\")\n",
    "msmri_datadir = msmri_home / \"data\"\n",
    "curr_dir = Path(os.getcwd())\n",
    "data_dir = Path(\"/home/srs-9/Projects/ms_mri/data\")\n",
    "dataroot = Path(\"/media/smbshare/srs-9/thalamus_project/data\")\n",
    "\n",
    "showfigs = False\n",
    "pd.options.display.precision = 3\n",
    "subject_sessions = pd.read_csv(\n",
    "    \"/home/srs-9/Projects/ms_mri/analysis/thalamus/data0/subject-sessions.csv\",\n",
    "    index_col=\"sub\",\n",
    ")"
   ]
  },
  {
   "cell_type": "code",
   "execution_count": 46,
   "id": "8634aa9f",
   "metadata": {},
   "outputs": [],
   "source": [
    "cp_vols = pd.read_csv(data_dir / \"choroid_aschoplex_volumes.csv\", index_col=\"subid\")\n",
    "tiv_data = pd.read_csv(data_dir / \"tiv_data.csv\", index_col=\"subid\")\n",
    "clinical_data = pd.read_csv(data_dir / \"clinical_data_processed.csv\", index_col=\"subid\")\n",
    "df = cp_vols.join([tiv_data, clinical_data])\n",
    "\n",
    "df_z = df.copy()\n",
    "numeric_vars = [col for col in df_z.columns if pd.api.types.is_numeric_dtype(df_z[col])]\n",
    "df_z[numeric_vars] = df_z[numeric_vars].apply(stats.zscore, nan_policy=\"omit\")"
   ]
  },
  {
   "cell_type": "code",
   "execution_count": 48,
   "id": "ce393bf7",
   "metadata": {},
   "outputs": [],
   "source": [
    "df_thomas = pd.read_csv(data_dir / \"hipsthomas_vols.csv\", index_col=\"subid\")\n",
    "cols_orig = df_thomas.columns\n",
    "new_colnames = {}\n",
    "for col in df_thomas.columns:\n",
    "    new_col = re.sub(r\"(\\d+)-([\\w-]+)\", r\"\\2_\\1\", col)\n",
    "    new_col = re.sub(\"-\", \"_\", new_col)\n",
    "    new_colnames[col] = new_col\n",
    "df_thomas = df_thomas.rename(columns=new_colnames)\n",
    "df_thomas_norm = df_thomas.apply(lambda col: col / df_thomas['THALAMUS_1'])\n",
    "df_thomas_z = df_thomas.apply(stats.zscore, nan_policy=\"omit\")\n",
    "df_thomas_norm_z = df_thomas_norm.apply(stats.zscore, nan_policy=\"omit\")\n",
    "\n",
    "df_thomas_left = pd.read_csv(data_dir / \"hipsthomas_left_vols.csv\", index_col=\"subid\")\n",
    "df_thomas_left = df_thomas_left.rename(columns=new_colnames)\n",
    "df_thomas_left_z = df_thomas_left.apply(stats.zscore, nan_policy=\"omit\")\n",
    "\n",
    "df_thomas_right = pd.read_csv(data_dir / \"hipsthomas_right_vols.csv\", index_col=\"subid\")\n",
    "df_thomas_right = df_thomas_right.rename(columns=new_colnames)\n",
    "df_thomas_right_z = df_thomas_right.apply(stats.zscore, nan_policy=\"omit\")\n",
    "\n",
    "\n",
    "thalamic_nuclei = [2, 4, 5, 6, 7, 8, 9, 10, 11, 12]\n",
    "thalamic_nuclei_str = [str(i) for i in thalamic_nuclei]\n",
    "\n",
    "hips_thomas_ref = pd.read_csv(\n",
    "    \"/home/srs-9/Projects/ms_mri/data/hipsthomas_struct_index.csv\", index_col=\"index\"\n",
    ")['struct']"
   ]
  },
  {
   "cell_type": "markdown",
   "id": "4018d27a",
   "metadata": {},
   "source": [
    "### MS vs NIND"
   ]
  },
  {
   "cell_type": "markdown",
   "id": "ff2b6c68",
   "metadata": {},
   "source": [
    "#### Left Side"
   ]
  },
  {
   "cell_type": "code",
   "execution_count": 50,
   "id": "5f56b073",
   "metadata": {},
   "outputs": [
    {
     "data": {
      "application/vnd.microsoft.datawrangler.viewer.v0+json": {
       "columns": [
        {
         "name": "index",
         "rawType": "object",
         "type": "string"
        },
        {
         "name": "coef",
         "rawType": "float64",
         "type": "float"
        },
        {
         "name": "pvals",
         "rawType": "float64",
         "type": "float"
        },
        {
         "name": "p_fdr",
         "rawType": "float64",
         "type": "float"
        }
       ],
       "ref": "1d3cc540-970a-424a-84c4-55f64250704d",
       "rows": [
        [
         "Pul_8",
         "-1.1944359006434913",
         "2.37212258884428e-06",
         "5.218669695457416e-05"
        ],
        [
         "THALAMUS_1",
         "-1.1462291391077206",
         "3.8890129702504334e-05",
         "0.0004277914267275477"
        ],
        [
         "MD_Pf_12",
         "-0.878445470642101",
         "6.954345070065562e-05",
         "0.0005099853051381412"
        ],
        [
         "CM_11",
         "-0.6697068994526428",
         "0.0002267017221951958",
         "0.0012468594720735767"
        ],
        [
         "AV_2",
         "-0.6316540334419034",
         "0.0004718754922295824",
         "0.0017302101381751354"
        ],
        [
         "GPi_30",
         "-0.5981541931823136",
         "0.00030436191732498925",
         "0.0013391924362299529"
        ],
        [
         "Put_31",
         "-0.5849182274000212",
         "0.0020131741662513165",
         "0.0055362289571911204"
        ],
        [
         "VPL_7",
         "-0.5279950574294536",
         "0.00820351149612847",
         "0.02005302810164737"
        ],
        [
         "LGN_9",
         "-0.5204448290578844",
         "0.0015080354585863954",
         "0.0047395400127001"
        ],
        [
         "GP_33",
         "-0.46131092845799127",
         "0.010253657237271405",
         "0.022558045921997092"
        ],
        [
         "VLP_6",
         "-0.4493618640689236",
         "0.027554541135291502",
         "0.055109082270583004"
        ],
        [
         "RN_32",
         "-0.4205531565274971",
         "0.04239715828259145",
         "0.07772812351808432"
        ],
        [
         "Cla_28",
         "-0.347883169542202",
         "0.08600664202511152",
         "0.12614307497016355"
        ],
        [
         "MGN_10",
         "-0.337132096076801",
         "0.07157637588624986",
         "0.11247716210696407"
        ],
        [
         "GPe_29",
         "-0.3282057198034591",
         "0.05823631479234181",
         "0.09855376349473229"
        ],
        [
         "Amy_34",
         "-0.21578180266013677",
         "0.21395788827073592",
         "0.2941920963722619"
        ],
        [
         "VA_4",
         "-0.19581643232786244",
         "0.27850322924034276",
         "0.36041594372279656"
        ],
        [
         "Acc_26",
         "-0.17990362790110084",
         "0.34629551224215993",
         "0.4232500705181955"
        ],
        [
         "Cau_27",
         "-0.14405502687847807",
         "0.37603496676214343",
         "0.4354089088824819"
        ],
        [
         "MTT_14",
         "-0.13520395736092358",
         "0.4303079679600681",
         "0.47333876475607495"
        ],
        [
         "Hb_13",
         "-0.1118640233457971",
         "0.4734943260524027",
         "0.496041674912041"
        ],
        [
         "VLa_5",
         "-0.04499819288944532",
         "0.806458085580664",
         "0.806458085580664"
        ]
       ],
       "shape": {
        "columns": 3,
        "rows": 22
       }
      },
      "text/html": [
       "<div>\n",
       "<style scoped>\n",
       "    .dataframe tbody tr th:only-of-type {\n",
       "        vertical-align: middle;\n",
       "    }\n",
       "\n",
       "    .dataframe tbody tr th {\n",
       "        vertical-align: top;\n",
       "    }\n",
       "\n",
       "    .dataframe thead th {\n",
       "        text-align: right;\n",
       "    }\n",
       "</style>\n",
       "<table border=\"1\" class=\"dataframe\">\n",
       "  <thead>\n",
       "    <tr style=\"text-align: right;\">\n",
       "      <th></th>\n",
       "      <th>coef</th>\n",
       "      <th>pvals</th>\n",
       "      <th>p_fdr</th>\n",
       "    </tr>\n",
       "  </thead>\n",
       "  <tbody>\n",
       "    <tr>\n",
       "      <th>Pul_8</th>\n",
       "      <td>-1.194</td>\n",
       "      <td>2.372e-06</td>\n",
       "      <td>5.219e-05</td>\n",
       "    </tr>\n",
       "    <tr>\n",
       "      <th>THALAMUS_1</th>\n",
       "      <td>-1.146</td>\n",
       "      <td>3.889e-05</td>\n",
       "      <td>4.278e-04</td>\n",
       "    </tr>\n",
       "    <tr>\n",
       "      <th>MD_Pf_12</th>\n",
       "      <td>-0.878</td>\n",
       "      <td>6.954e-05</td>\n",
       "      <td>5.100e-04</td>\n",
       "    </tr>\n",
       "    <tr>\n",
       "      <th>CM_11</th>\n",
       "      <td>-0.670</td>\n",
       "      <td>2.267e-04</td>\n",
       "      <td>1.247e-03</td>\n",
       "    </tr>\n",
       "    <tr>\n",
       "      <th>AV_2</th>\n",
       "      <td>-0.632</td>\n",
       "      <td>4.719e-04</td>\n",
       "      <td>1.730e-03</td>\n",
       "    </tr>\n",
       "    <tr>\n",
       "      <th>GPi_30</th>\n",
       "      <td>-0.598</td>\n",
       "      <td>3.044e-04</td>\n",
       "      <td>1.339e-03</td>\n",
       "    </tr>\n",
       "    <tr>\n",
       "      <th>Put_31</th>\n",
       "      <td>-0.585</td>\n",
       "      <td>2.013e-03</td>\n",
       "      <td>5.536e-03</td>\n",
       "    </tr>\n",
       "    <tr>\n",
       "      <th>VPL_7</th>\n",
       "      <td>-0.528</td>\n",
       "      <td>8.204e-03</td>\n",
       "      <td>2.005e-02</td>\n",
       "    </tr>\n",
       "    <tr>\n",
       "      <th>LGN_9</th>\n",
       "      <td>-0.520</td>\n",
       "      <td>1.508e-03</td>\n",
       "      <td>4.740e-03</td>\n",
       "    </tr>\n",
       "    <tr>\n",
       "      <th>GP_33</th>\n",
       "      <td>-0.461</td>\n",
       "      <td>1.025e-02</td>\n",
       "      <td>2.256e-02</td>\n",
       "    </tr>\n",
       "    <tr>\n",
       "      <th>VLP_6</th>\n",
       "      <td>-0.449</td>\n",
       "      <td>2.755e-02</td>\n",
       "      <td>5.511e-02</td>\n",
       "    </tr>\n",
       "    <tr>\n",
       "      <th>RN_32</th>\n",
       "      <td>-0.421</td>\n",
       "      <td>4.240e-02</td>\n",
       "      <td>7.773e-02</td>\n",
       "    </tr>\n",
       "    <tr>\n",
       "      <th>Cla_28</th>\n",
       "      <td>-0.348</td>\n",
       "      <td>8.601e-02</td>\n",
       "      <td>1.261e-01</td>\n",
       "    </tr>\n",
       "    <tr>\n",
       "      <th>MGN_10</th>\n",
       "      <td>-0.337</td>\n",
       "      <td>7.158e-02</td>\n",
       "      <td>1.125e-01</td>\n",
       "    </tr>\n",
       "    <tr>\n",
       "      <th>GPe_29</th>\n",
       "      <td>-0.328</td>\n",
       "      <td>5.824e-02</td>\n",
       "      <td>9.855e-02</td>\n",
       "    </tr>\n",
       "    <tr>\n",
       "      <th>Amy_34</th>\n",
       "      <td>-0.216</td>\n",
       "      <td>2.140e-01</td>\n",
       "      <td>2.942e-01</td>\n",
       "    </tr>\n",
       "    <tr>\n",
       "      <th>VA_4</th>\n",
       "      <td>-0.196</td>\n",
       "      <td>2.785e-01</td>\n",
       "      <td>3.604e-01</td>\n",
       "    </tr>\n",
       "    <tr>\n",
       "      <th>Acc_26</th>\n",
       "      <td>-0.180</td>\n",
       "      <td>3.463e-01</td>\n",
       "      <td>4.233e-01</td>\n",
       "    </tr>\n",
       "    <tr>\n",
       "      <th>Cau_27</th>\n",
       "      <td>-0.144</td>\n",
       "      <td>3.760e-01</td>\n",
       "      <td>4.354e-01</td>\n",
       "    </tr>\n",
       "    <tr>\n",
       "      <th>MTT_14</th>\n",
       "      <td>-0.135</td>\n",
       "      <td>4.303e-01</td>\n",
       "      <td>4.733e-01</td>\n",
       "    </tr>\n",
       "    <tr>\n",
       "      <th>Hb_13</th>\n",
       "      <td>-0.112</td>\n",
       "      <td>4.735e-01</td>\n",
       "      <td>4.960e-01</td>\n",
       "    </tr>\n",
       "    <tr>\n",
       "      <th>VLa_5</th>\n",
       "      <td>-0.045</td>\n",
       "      <td>8.065e-01</td>\n",
       "      <td>8.065e-01</td>\n",
       "    </tr>\n",
       "  </tbody>\n",
       "</table>\n",
       "</div>"
      ],
      "text/plain": [
       "             coef      pvals      p_fdr\n",
       "Pul_8      -1.194  2.372e-06  5.219e-05\n",
       "THALAMUS_1 -1.146  3.889e-05  4.278e-04\n",
       "MD_Pf_12   -0.878  6.954e-05  5.100e-04\n",
       "CM_11      -0.670  2.267e-04  1.247e-03\n",
       "AV_2       -0.632  4.719e-04  1.730e-03\n",
       "GPi_30     -0.598  3.044e-04  1.339e-03\n",
       "Put_31     -0.585  2.013e-03  5.536e-03\n",
       "VPL_7      -0.528  8.204e-03  2.005e-02\n",
       "LGN_9      -0.520  1.508e-03  4.740e-03\n",
       "GP_33      -0.461  1.025e-02  2.256e-02\n",
       "VLP_6      -0.449  2.755e-02  5.511e-02\n",
       "RN_32      -0.421  4.240e-02  7.773e-02\n",
       "Cla_28     -0.348  8.601e-02  1.261e-01\n",
       "MGN_10     -0.337  7.158e-02  1.125e-01\n",
       "GPe_29     -0.328  5.824e-02  9.855e-02\n",
       "Amy_34     -0.216  2.140e-01  2.942e-01\n",
       "VA_4       -0.196  2.785e-01  3.604e-01\n",
       "Acc_26     -0.180  3.463e-01  4.233e-01\n",
       "Cau_27     -0.144  3.760e-01  4.354e-01\n",
       "MTT_14     -0.135  4.303e-01  4.733e-01\n",
       "Hb_13      -0.112  4.735e-01  4.960e-01\n",
       "VLa_5      -0.045  8.065e-01  8.065e-01"
      ]
     },
     "execution_count": 50,
     "metadata": {},
     "output_type": "execute_result"
    }
   ],
   "source": [
    "model_data = df_z.join(df_thomas_left_z)\n",
    "model_data = model_data[model_data['dz_type3'].isin([\"MS\", \"NIND\"])]\n",
    "model_data = pd.concat((model_data, pd.get_dummies(model_data['dz_type3'], dtype=\"int\")), axis=1)\n",
    "\n",
    "covars = \"age + Female + tiv\"\n",
    "outcome = \"MS\"\n",
    "\n",
    "pvals = {}\n",
    "coefs = {}\n",
    "all_results = {}\n",
    "for struct in hips_thomas_ref:\n",
    "    formula = f\"{outcome} ~ {covars} + {struct}\"\n",
    "    res = sm.Logit.from_formula(formula, data=model_data).fit(disp=0)\n",
    "    pvals[struct] = res.pvalues[struct]\n",
    "    coefs[struct] = res.params[struct]\n",
    "    all_results[struct] = res\n",
    "\n",
    "regression_results = pd.DataFrame({\"coef\": coefs, \"pvals\": pvals})\n",
    "regression_results['p_fdr'] = stats.false_discovery_control(regression_results['pvals'], method='bh')\n",
    "regression_results = regression_results.sort_values(by=\"coef\", ascending=True)\n",
    "regression_results"
   ]
  },
  {
   "cell_type": "markdown",
   "id": "999d3303",
   "metadata": {},
   "source": [
    "### Right Side"
   ]
  },
  {
   "cell_type": "code",
   "execution_count": 51,
   "id": "a3ddae66",
   "metadata": {},
   "outputs": [
    {
     "data": {
      "application/vnd.microsoft.datawrangler.viewer.v0+json": {
       "columns": [
        {
         "name": "index",
         "rawType": "object",
         "type": "string"
        },
        {
         "name": "coef",
         "rawType": "float64",
         "type": "float"
        },
        {
         "name": "pvals",
         "rawType": "float64",
         "type": "float"
        },
        {
         "name": "p_fdr",
         "rawType": "float64",
         "type": "float"
        }
       ],
       "ref": "f2467883-f32d-44a9-bdfd-170c04cf6fc3",
       "rows": [
        [
         "Pul_8",
         "-1.221762369312189",
         "1.2005846772350336e-06",
         "2.641286289917074e-05"
        ],
        [
         "THALAMUS_1",
         "-1.2063433815457991",
         "1.4892317529647445e-05",
         "0.00011823624120166175"
        ],
        [
         "MD_Pf_12",
         "-0.9162408000112351",
         "4.810090190418921e-05",
         "0.00026455496047304063"
        ],
        [
         "AV_2",
         "-0.8466359855014922",
         "1.6123123800226602e-05",
         "0.00011823624120166175"
        ],
        [
         "Put_31",
         "-0.7022196135888437",
         "0.0004943556271723372",
         "0.001812637299631903"
        ],
        [
         "GP_33",
         "-0.6245215847327129",
         "0.0007036742964531625",
         "0.0022115477888527964"
        ],
        [
         "GPi_30",
         "-0.5962584727377396",
         "0.00021752206525894942",
         "0.0009570970871393775"
        ],
        [
         "RN_32",
         "-0.5719435620873924",
         "0.0058912728885771835",
         "0.013026115635762127"
        ],
        [
         "VLP_6",
         "-0.546278461915093",
         "0.010196107180093802",
         "0.020392214360187604"
        ],
        [
         "GPe_29",
         "-0.5113694687862039",
         "0.00518174823946816",
         "0.013026115635762127"
        ],
        [
         "VPL_7",
         "-0.5066877682042237",
         "0.005920961652619148",
         "0.013026115635762127"
        ],
        [
         "LGN_9",
         "-0.3652121689981238",
         "0.029944955998180662",
         "0.05489908599666454"
        ],
        [
         "VLa_5",
         "-0.36311083745501843",
         "0.04699602266937172",
         "0.07385089276615556"
        ],
        [
         "MGN_10",
         "-0.36063310692307365",
         "0.054355544487136545",
         "0.07972146524780026"
        ],
        [
         "VA_4",
         "-0.35239364738922496",
         "0.06502074086528276",
         "0.08940351868976379"
        ],
        [
         "CM_11",
         "-0.3367455305246488",
         "0.04676428964586412",
         "0.07385089276615556"
        ],
        [
         "Cau_27",
         "-0.3106263088359273",
         "0.08562569144500001",
         "0.11080971834058825"
        ],
        [
         "Cla_28",
         "-0.26369108912097766",
         "0.16943771017868292",
         "0.2070905346628347"
        ],
        [
         "Hb_13",
         "-0.1926472160127207",
         "0.2306006596353618",
         "0.2670112901041031"
        ],
        [
         "MTT_14",
         "-0.1522319943160155",
         "0.3703036425024401",
         "0.4073340067526841"
        ],
        [
         "Acc_26",
         "-0.1318449540375183",
         "0.4939064099429056",
         "0.4939064099429056"
        ],
        [
         "Amy_34",
         "-0.1250340290565325",
         "0.4475356264134803",
         "0.46884684671888416"
        ]
       ],
       "shape": {
        "columns": 3,
        "rows": 22
       }
      },
      "text/html": [
       "<div>\n",
       "<style scoped>\n",
       "    .dataframe tbody tr th:only-of-type {\n",
       "        vertical-align: middle;\n",
       "    }\n",
       "\n",
       "    .dataframe tbody tr th {\n",
       "        vertical-align: top;\n",
       "    }\n",
       "\n",
       "    .dataframe thead th {\n",
       "        text-align: right;\n",
       "    }\n",
       "</style>\n",
       "<table border=\"1\" class=\"dataframe\">\n",
       "  <thead>\n",
       "    <tr style=\"text-align: right;\">\n",
       "      <th></th>\n",
       "      <th>coef</th>\n",
       "      <th>pvals</th>\n",
       "      <th>p_fdr</th>\n",
       "    </tr>\n",
       "  </thead>\n",
       "  <tbody>\n",
       "    <tr>\n",
       "      <th>Pul_8</th>\n",
       "      <td>-1.222</td>\n",
       "      <td>1.201e-06</td>\n",
       "      <td>2.641e-05</td>\n",
       "    </tr>\n",
       "    <tr>\n",
       "      <th>THALAMUS_1</th>\n",
       "      <td>-1.206</td>\n",
       "      <td>1.489e-05</td>\n",
       "      <td>1.182e-04</td>\n",
       "    </tr>\n",
       "    <tr>\n",
       "      <th>MD_Pf_12</th>\n",
       "      <td>-0.916</td>\n",
       "      <td>4.810e-05</td>\n",
       "      <td>2.646e-04</td>\n",
       "    </tr>\n",
       "    <tr>\n",
       "      <th>AV_2</th>\n",
       "      <td>-0.847</td>\n",
       "      <td>1.612e-05</td>\n",
       "      <td>1.182e-04</td>\n",
       "    </tr>\n",
       "    <tr>\n",
       "      <th>Put_31</th>\n",
       "      <td>-0.702</td>\n",
       "      <td>4.944e-04</td>\n",
       "      <td>1.813e-03</td>\n",
       "    </tr>\n",
       "    <tr>\n",
       "      <th>GP_33</th>\n",
       "      <td>-0.625</td>\n",
       "      <td>7.037e-04</td>\n",
       "      <td>2.212e-03</td>\n",
       "    </tr>\n",
       "    <tr>\n",
       "      <th>GPi_30</th>\n",
       "      <td>-0.596</td>\n",
       "      <td>2.175e-04</td>\n",
       "      <td>9.571e-04</td>\n",
       "    </tr>\n",
       "    <tr>\n",
       "      <th>RN_32</th>\n",
       "      <td>-0.572</td>\n",
       "      <td>5.891e-03</td>\n",
       "      <td>1.303e-02</td>\n",
       "    </tr>\n",
       "    <tr>\n",
       "      <th>VLP_6</th>\n",
       "      <td>-0.546</td>\n",
       "      <td>1.020e-02</td>\n",
       "      <td>2.039e-02</td>\n",
       "    </tr>\n",
       "    <tr>\n",
       "      <th>GPe_29</th>\n",
       "      <td>-0.511</td>\n",
       "      <td>5.182e-03</td>\n",
       "      <td>1.303e-02</td>\n",
       "    </tr>\n",
       "    <tr>\n",
       "      <th>VPL_7</th>\n",
       "      <td>-0.507</td>\n",
       "      <td>5.921e-03</td>\n",
       "      <td>1.303e-02</td>\n",
       "    </tr>\n",
       "    <tr>\n",
       "      <th>LGN_9</th>\n",
       "      <td>-0.365</td>\n",
       "      <td>2.994e-02</td>\n",
       "      <td>5.490e-02</td>\n",
       "    </tr>\n",
       "    <tr>\n",
       "      <th>VLa_5</th>\n",
       "      <td>-0.363</td>\n",
       "      <td>4.700e-02</td>\n",
       "      <td>7.385e-02</td>\n",
       "    </tr>\n",
       "    <tr>\n",
       "      <th>MGN_10</th>\n",
       "      <td>-0.361</td>\n",
       "      <td>5.436e-02</td>\n",
       "      <td>7.972e-02</td>\n",
       "    </tr>\n",
       "    <tr>\n",
       "      <th>VA_4</th>\n",
       "      <td>-0.352</td>\n",
       "      <td>6.502e-02</td>\n",
       "      <td>8.940e-02</td>\n",
       "    </tr>\n",
       "    <tr>\n",
       "      <th>CM_11</th>\n",
       "      <td>-0.337</td>\n",
       "      <td>4.676e-02</td>\n",
       "      <td>7.385e-02</td>\n",
       "    </tr>\n",
       "    <tr>\n",
       "      <th>Cau_27</th>\n",
       "      <td>-0.311</td>\n",
       "      <td>8.563e-02</td>\n",
       "      <td>1.108e-01</td>\n",
       "    </tr>\n",
       "    <tr>\n",
       "      <th>Cla_28</th>\n",
       "      <td>-0.264</td>\n",
       "      <td>1.694e-01</td>\n",
       "      <td>2.071e-01</td>\n",
       "    </tr>\n",
       "    <tr>\n",
       "      <th>Hb_13</th>\n",
       "      <td>-0.193</td>\n",
       "      <td>2.306e-01</td>\n",
       "      <td>2.670e-01</td>\n",
       "    </tr>\n",
       "    <tr>\n",
       "      <th>MTT_14</th>\n",
       "      <td>-0.152</td>\n",
       "      <td>3.703e-01</td>\n",
       "      <td>4.073e-01</td>\n",
       "    </tr>\n",
       "    <tr>\n",
       "      <th>Acc_26</th>\n",
       "      <td>-0.132</td>\n",
       "      <td>4.939e-01</td>\n",
       "      <td>4.939e-01</td>\n",
       "    </tr>\n",
       "    <tr>\n",
       "      <th>Amy_34</th>\n",
       "      <td>-0.125</td>\n",
       "      <td>4.475e-01</td>\n",
       "      <td>4.688e-01</td>\n",
       "    </tr>\n",
       "  </tbody>\n",
       "</table>\n",
       "</div>"
      ],
      "text/plain": [
       "             coef      pvals      p_fdr\n",
       "Pul_8      -1.222  1.201e-06  2.641e-05\n",
       "THALAMUS_1 -1.206  1.489e-05  1.182e-04\n",
       "MD_Pf_12   -0.916  4.810e-05  2.646e-04\n",
       "AV_2       -0.847  1.612e-05  1.182e-04\n",
       "Put_31     -0.702  4.944e-04  1.813e-03\n",
       "GP_33      -0.625  7.037e-04  2.212e-03\n",
       "GPi_30     -0.596  2.175e-04  9.571e-04\n",
       "RN_32      -0.572  5.891e-03  1.303e-02\n",
       "VLP_6      -0.546  1.020e-02  2.039e-02\n",
       "GPe_29     -0.511  5.182e-03  1.303e-02\n",
       "VPL_7      -0.507  5.921e-03  1.303e-02\n",
       "LGN_9      -0.365  2.994e-02  5.490e-02\n",
       "VLa_5      -0.363  4.700e-02  7.385e-02\n",
       "MGN_10     -0.361  5.436e-02  7.972e-02\n",
       "VA_4       -0.352  6.502e-02  8.940e-02\n",
       "CM_11      -0.337  4.676e-02  7.385e-02\n",
       "Cau_27     -0.311  8.563e-02  1.108e-01\n",
       "Cla_28     -0.264  1.694e-01  2.071e-01\n",
       "Hb_13      -0.193  2.306e-01  2.670e-01\n",
       "MTT_14     -0.152  3.703e-01  4.073e-01\n",
       "Acc_26     -0.132  4.939e-01  4.939e-01\n",
       "Amy_34     -0.125  4.475e-01  4.688e-01"
      ]
     },
     "execution_count": 51,
     "metadata": {},
     "output_type": "execute_result"
    }
   ],
   "source": [
    "model_data = df_z.join(df_thomas_right_z)\n",
    "model_data = model_data[model_data['dz_type3'].isin([\"MS\", \"NIND\"])]\n",
    "model_data = pd.concat((model_data, pd.get_dummies(model_data['dz_type3'], dtype=\"int\")), axis=1)\n",
    "\n",
    "covars = \"age + Female + tiv\"\n",
    "outcome = \"MS\"\n",
    "\n",
    "pvals = {}\n",
    "coefs = {}\n",
    "all_results = {}\n",
    "for struct in hips_thomas_ref:\n",
    "    formula = f\"{outcome} ~ {covars} + {struct}\"\n",
    "    res = sm.Logit.from_formula(formula, data=model_data).fit(disp=0)\n",
    "    pvals[struct] = res.pvalues[struct]\n",
    "    coefs[struct] = res.params[struct]\n",
    "    all_results[struct] = res\n",
    "\n",
    "regression_results = pd.DataFrame({\"coef\": coefs, \"pvals\": pvals})\n",
    "regression_results['p_fdr'] = stats.false_discovery_control(regression_results['pvals'], method='bh')\n",
    "regression_results = regression_results.sort_values(by=\"coef\", ascending=True)\n",
    "regression_results"
   ]
  },
  {
   "cell_type": "markdown",
   "id": "31d16c01",
   "metadata": {},
   "source": [
    "### MS vs !MS"
   ]
  },
  {
   "cell_type": "code",
   "execution_count": 18,
   "id": "260b1b63",
   "metadata": {},
   "outputs": [
    {
     "name": "stdout",
     "output_type": "stream",
     "text": [
      "Optimization terminated successfully.\n",
      "         Current function value: 0.271283\n",
      "         Iterations 8\n",
      "                           Logit Regression Results                           \n",
      "==============================================================================\n",
      "Dep. Variable:                     MS   No. Observations:                  457\n",
      "Model:                          Logit   Df Residuals:                      452\n",
      "Method:                           MLE   Df Model:                            4\n",
      "Date:                Fri, 06 Jun 2025   Pseudo R-squ.:                  0.1302\n",
      "Time:                        17:37:25   Log-Likelihood:                -123.98\n",
      "converged:                       True   LL-Null:                       -142.54\n",
      "Covariance Type:            nonrobust   LLR p-value:                 1.695e-07\n",
      "==============================================================================\n",
      "                 coef    std err          z      P>|z|      [0.025      0.975]\n",
      "------------------------------------------------------------------------------\n",
      "Intercept      2.7687      0.238     11.617      0.000       2.302       3.236\n",
      "THALAMUS_1    -1.4808      0.322     -4.594      0.000      -2.113      -0.849\n",
      "age           -0.6912      0.203     -3.405      0.001      -1.089      -0.293\n",
      "Female        -0.2297      0.206     -1.117      0.264      -0.633       0.173\n",
      "tiv            0.1500      0.241      0.622      0.534      -0.322       0.622\n",
      "==============================================================================\n"
     ]
    }
   ],
   "source": [
    "model_data = df_z.join(df_thomas_z)\n",
    "model_data = model_data[model_data['dz_type3'].isin([\"MS\", \"NIND\"])]\n",
    "model_data = pd.concat((model_data, pd.get_dummies(model_data['dz_type3'], dtype=\"int\")), axis=1)\n",
    "\n",
    "formula = \"MS ~ THALAMUS_1 + age + Female + tiv\"\n",
    "res = sm.Logit.from_formula(formula, data=model_data).fit()\n",
    "print(res.summary())"
   ]
  },
  {
   "cell_type": "code",
   "execution_count": 20,
   "id": "695336f9",
   "metadata": {},
   "outputs": [
    {
     "name": "stdout",
     "output_type": "stream",
     "text": [
      "Optimization terminated successfully.\n",
      "         Current function value: 0.272634\n",
      "         Iterations 7\n",
      "Optimization terminated successfully.\n",
      "         Current function value: 0.294757\n",
      "         Iterations 7\n",
      "Optimization terminated successfully.\n",
      "         Current function value: 0.297743\n",
      "         Iterations 7\n",
      "Optimization terminated successfully.\n",
      "         Current function value: 0.291650\n",
      "         Iterations 7\n",
      "Optimization terminated successfully.\n",
      "         Current function value: 0.288927\n",
      "         Iterations 7\n",
      "Optimization terminated successfully.\n",
      "         Current function value: 0.266719\n",
      "         Iterations 8\n",
      "Optimization terminated successfully.\n",
      "         Current function value: 0.292322\n",
      "         Iterations 7\n",
      "Optimization terminated successfully.\n",
      "         Current function value: 0.292813\n",
      "         Iterations 7\n",
      "Optimization terminated successfully.\n",
      "         Current function value: 0.286846\n",
      "         Iterations 7\n",
      "Optimization terminated successfully.\n",
      "         Current function value: 0.276151\n",
      "         Iterations 7\n"
     ]
    },
    {
     "data": {
      "application/vnd.microsoft.datawrangler.viewer.v0+json": {
       "columns": [
        {
         "name": "index",
         "rawType": "object",
         "type": "string"
        },
        {
         "name": "coef",
         "rawType": "float64",
         "type": "float"
        },
        {
         "name": "pvals",
         "rawType": "float64",
         "type": "float"
        },
        {
         "name": "se",
         "rawType": "float64",
         "type": "float"
        },
        {
         "name": "p_fdr",
         "rawType": "float64",
         "type": "float"
        }
       ],
       "ref": "cd058990-7558-40b6-b461-1105f56ad829",
       "rows": [
        [
         "Pul_8",
         "-1.415682399740784",
         "8.129888504703036e-07",
         null,
         "8.129888504703035e-06"
        ],
        [
         "MD_Pf_12",
         "-1.1278158477469882",
         "1.0957738933531922e-05",
         null,
         "3.6525796445106406e-05"
        ],
        [
         "AV_2",
         "-1.0906104944657204",
         "1.732449235216743e-06",
         null,
         "8.662246176083715e-06"
        ],
        [
         "VPL_7",
         "-0.7686609916474473",
         "0.0009399175275471679",
         null,
         "0.0018798350550943358"
        ],
        [
         "CM_11",
         "-0.7648310037448346",
         "0.000247758883208878",
         null,
         "0.000619397208022195"
        ],
        [
         "VLP_6",
         "-0.7098685114767804",
         "0.0031313947617452108",
         null,
         "0.004864399404188762"
        ],
        [
         "MGN_10",
         "-0.6509576568308675",
         "0.004387530279150815",
         null,
         "0.005484412848938519"
        ],
        [
         "VA_4",
         "-0.5816023596048507",
         "0.00961624458485913",
         null,
         "0.010684716205399033"
        ],
        [
         "LGN_9",
         "-0.5473142255807965",
         "0.003405079582932133",
         null,
         "0.004864399404188762"
        ],
        [
         "VLa_5",
         "-0.4214191234758997",
         "0.03871130798373332",
         null,
         "0.03871130798373332"
        ]
       ],
       "shape": {
        "columns": 4,
        "rows": 10
       }
      },
      "text/html": [
       "<div>\n",
       "<style scoped>\n",
       "    .dataframe tbody tr th:only-of-type {\n",
       "        vertical-align: middle;\n",
       "    }\n",
       "\n",
       "    .dataframe tbody tr th {\n",
       "        vertical-align: top;\n",
       "    }\n",
       "\n",
       "    .dataframe thead th {\n",
       "        text-align: right;\n",
       "    }\n",
       "</style>\n",
       "<table border=\"1\" class=\"dataframe\">\n",
       "  <thead>\n",
       "    <tr style=\"text-align: right;\">\n",
       "      <th></th>\n",
       "      <th>coef</th>\n",
       "      <th>pvals</th>\n",
       "      <th>se</th>\n",
       "      <th>p_fdr</th>\n",
       "    </tr>\n",
       "  </thead>\n",
       "  <tbody>\n",
       "    <tr>\n",
       "      <th>Pul_8</th>\n",
       "      <td>-1.416</td>\n",
       "      <td>8.130e-07</td>\n",
       "      <td>NaN</td>\n",
       "      <td>8.130e-06</td>\n",
       "    </tr>\n",
       "    <tr>\n",
       "      <th>MD_Pf_12</th>\n",
       "      <td>-1.128</td>\n",
       "      <td>1.096e-05</td>\n",
       "      <td>NaN</td>\n",
       "      <td>3.653e-05</td>\n",
       "    </tr>\n",
       "    <tr>\n",
       "      <th>AV_2</th>\n",
       "      <td>-1.091</td>\n",
       "      <td>1.732e-06</td>\n",
       "      <td>NaN</td>\n",
       "      <td>8.662e-06</td>\n",
       "    </tr>\n",
       "    <tr>\n",
       "      <th>VPL_7</th>\n",
       "      <td>-0.769</td>\n",
       "      <td>9.399e-04</td>\n",
       "      <td>NaN</td>\n",
       "      <td>1.880e-03</td>\n",
       "    </tr>\n",
       "    <tr>\n",
       "      <th>CM_11</th>\n",
       "      <td>-0.765</td>\n",
       "      <td>2.478e-04</td>\n",
       "      <td>NaN</td>\n",
       "      <td>6.194e-04</td>\n",
       "    </tr>\n",
       "    <tr>\n",
       "      <th>VLP_6</th>\n",
       "      <td>-0.710</td>\n",
       "      <td>3.131e-03</td>\n",
       "      <td>NaN</td>\n",
       "      <td>4.864e-03</td>\n",
       "    </tr>\n",
       "    <tr>\n",
       "      <th>MGN_10</th>\n",
       "      <td>-0.651</td>\n",
       "      <td>4.388e-03</td>\n",
       "      <td>NaN</td>\n",
       "      <td>5.484e-03</td>\n",
       "    </tr>\n",
       "    <tr>\n",
       "      <th>VA_4</th>\n",
       "      <td>-0.582</td>\n",
       "      <td>9.616e-03</td>\n",
       "      <td>NaN</td>\n",
       "      <td>1.068e-02</td>\n",
       "    </tr>\n",
       "    <tr>\n",
       "      <th>LGN_9</th>\n",
       "      <td>-0.547</td>\n",
       "      <td>3.405e-03</td>\n",
       "      <td>NaN</td>\n",
       "      <td>4.864e-03</td>\n",
       "    </tr>\n",
       "    <tr>\n",
       "      <th>VLa_5</th>\n",
       "      <td>-0.421</td>\n",
       "      <td>3.871e-02</td>\n",
       "      <td>NaN</td>\n",
       "      <td>3.871e-02</td>\n",
       "    </tr>\n",
       "  </tbody>\n",
       "</table>\n",
       "</div>"
      ],
      "text/plain": [
       "           coef      pvals  se      p_fdr\n",
       "Pul_8    -1.416  8.130e-07 NaN  8.130e-06\n",
       "MD_Pf_12 -1.128  1.096e-05 NaN  3.653e-05\n",
       "AV_2     -1.091  1.732e-06 NaN  8.662e-06\n",
       "VPL_7    -0.769  9.399e-04 NaN  1.880e-03\n",
       "CM_11    -0.765  2.478e-04 NaN  6.194e-04\n",
       "VLP_6    -0.710  3.131e-03 NaN  4.864e-03\n",
       "MGN_10   -0.651  4.388e-03 NaN  5.484e-03\n",
       "VA_4     -0.582  9.616e-03 NaN  1.068e-02\n",
       "LGN_9    -0.547  3.405e-03 NaN  4.864e-03\n",
       "VLa_5    -0.421  3.871e-02 NaN  3.871e-02"
      ]
     },
     "execution_count": 20,
     "metadata": {},
     "output_type": "execute_result"
    }
   ],
   "source": [
    "covars = \"age + Female + tiv\"\n",
    "outcome = \"MS\"\n",
    "\n",
    "pvals = {}\n",
    "coefs = {}\n",
    "se = {}\n",
    "all_results = {}\n",
    "for struct in df_structs.loc[thalamic_nuclei_inds, 'struct']:\n",
    "    formula = f\"{outcome} ~ {covars} + {struct}\"\n",
    "    res = sm.Logit.from_formula(formula, data=model_data).fit()\n",
    "    pvals[struct] = res.pvalues[struct]\n",
    "    coefs[struct] = res.params[struct]\n",
    "    # se[struct] = res.HC0_se[struct]\n",
    "    all_results[struct] = res\n",
    "\n",
    "regression_results = pd.DataFrame({\"coef\": coefs, \"pvals\": pvals, \"se\": se})\n",
    "regression_results['p_fdr'] = stats.false_discovery_control(regression_results['pvals'], method='bh')\n",
    "regression_results = regression_results.sort_values(by=\"coef\", ascending=True)\n",
    "regression_results"
   ]
  },
  {
   "cell_type": "markdown",
   "id": "a81ef187",
   "metadata": {},
   "source": [
    "### RMS vs PMS"
   ]
  },
  {
   "cell_type": "code",
   "execution_count": 21,
   "id": "3221375b",
   "metadata": {},
   "outputs": [
    {
     "name": "stdout",
     "output_type": "stream",
     "text": [
      "Optimization terminated successfully.\n",
      "         Current function value: 0.358903\n",
      "         Iterations 7\n",
      "                           Logit Regression Results                           \n",
      "==============================================================================\n",
      "Dep. Variable:                    PMS   No. Observations:                  414\n",
      "Model:                          Logit   Df Residuals:                      409\n",
      "Method:                           MLE   Df Model:                            4\n",
      "Date:                Fri, 06 Jun 2025   Pseudo R-squ.:                  0.2931\n",
      "Time:                        17:38:23   Log-Likelihood:                -148.59\n",
      "converged:                       True   LL-Null:                       -210.18\n",
      "Covariance Type:            nonrobust   LLR p-value:                 1.113e-25\n",
      "==============================================================================\n",
      "                 coef    std err          z      P>|z|      [0.025      0.975]\n",
      "------------------------------------------------------------------------------\n",
      "Intercept     -2.0499      0.198    -10.371      0.000      -2.437      -1.663\n",
      "THALAMUS_1    -0.7068      0.169     -4.171      0.000      -1.039      -0.375\n",
      "age            1.1889      0.185      6.424      0.000       0.826       1.552\n",
      "Female        -0.5253      0.163     -3.227      0.001      -0.844      -0.206\n",
      "tiv            0.0775      0.192      0.403      0.687      -0.299       0.454\n",
      "==============================================================================\n"
     ]
    }
   ],
   "source": [
    "model_data = df_z.join(df_thomas_z)\n",
    "model_data = model_data[model_data['dz_type5'].isin([\"RMS\", \"PMS\"])]\n",
    "model_data = pd.concat((model_data, pd.get_dummies(model_data['dz_type5'], dtype=\"int\")), axis=1)\n",
    "\n",
    "formula = \"PMS ~ THALAMUS_1 + age + Female + tiv\"\n",
    "res = sm.Logit.from_formula(formula, data=model_data).fit()\n",
    "print(res.summary())"
   ]
  },
  {
   "cell_type": "code",
   "execution_count": 23,
   "id": "f8ee4760",
   "metadata": {},
   "outputs": [
    {
     "name": "stdout",
     "output_type": "stream",
     "text": [
      "Optimization terminated successfully.\n",
      "         Current function value: 0.365664\n",
      "         Iterations 7\n",
      "Optimization terminated successfully.\n",
      "         Current function value: 0.372634\n",
      "         Iterations 7\n",
      "Optimization terminated successfully.\n",
      "         Current function value: 0.372063\n",
      "         Iterations 7\n",
      "Optimization terminated successfully.\n",
      "         Current function value: 0.359630\n",
      "         Iterations 7\n",
      "Optimization terminated successfully.\n",
      "         Current function value: 0.368762\n",
      "         Iterations 7\n",
      "Optimization terminated successfully.\n",
      "         Current function value: 0.363550\n",
      "         Iterations 7\n",
      "Optimization terminated successfully.\n",
      "         Current function value: 0.365824\n",
      "         Iterations 7\n",
      "Optimization terminated successfully.\n",
      "         Current function value: 0.375768\n",
      "         Iterations 7\n",
      "Optimization terminated successfully.\n",
      "         Current function value: 0.372501\n",
      "         Iterations 7\n",
      "Optimization terminated successfully.\n",
      "         Current function value: 0.366186\n",
      "         Iterations 7\n"
     ]
    },
    {
     "data": {
      "application/vnd.microsoft.datawrangler.viewer.v0+json": {
       "columns": [
        {
         "name": "index",
         "rawType": "object",
         "type": "string"
        },
        {
         "name": "coef",
         "rawType": "float64",
         "type": "float"
        },
        {
         "name": "pvals",
         "rawType": "float64",
         "type": "float"
        },
        {
         "name": "se",
         "rawType": "float64",
         "type": "float"
        },
        {
         "name": "p_fdr",
         "rawType": "float64",
         "type": "float"
        }
       ],
       "ref": "4c0bea94-721e-429a-9263-a02fae90f7bd",
       "rows": [
        [
         "VLP_6",
         "-0.697582640432886",
         "5.007251746476974e-05",
         null,
         "0.0005007251746476974"
        ],
        [
         "AV_2",
         "-0.6490874606283212",
         "0.0007042003182166098",
         null,
         "0.0014087858093357849"
        ],
        [
         "Pul_8",
         "-0.6113314691865419",
         "0.00023037645768182163",
         null,
         "0.0011518822884091081"
        ],
        [
         "LGN_9",
         "-0.549294582084029",
         "0.000584111761444961",
         null,
         "0.0014087858093357849"
        ],
        [
         "MD_Pf_12",
         "-0.5414823387900968",
         "0.0007043929046678924",
         null,
         "0.0014087858093357849"
        ],
        [
         "VPL_7",
         "-0.5173364358288971",
         "0.0019057697128507778",
         null,
         "0.0031762828547512965"
        ],
        [
         "VA_4",
         "-0.4810944220259459",
         "0.011049692480506334",
         null,
         "0.012670098687032309"
        ],
        [
         "VLa_5",
         "-0.4765885489143582",
         "0.009730795460620112",
         null,
         "0.012670098687032309"
        ],
        [
         "CM_11",
         "-0.43202459728833653",
         "0.011403088818329077",
         null,
         "0.012670098687032309"
        ],
        [
         "MGN_10",
         "-0.3435779344530917",
         "0.04780199893648748",
         null,
         "0.04780199893648748"
        ]
       ],
       "shape": {
        "columns": 4,
        "rows": 10
       }
      },
      "text/html": [
       "<div>\n",
       "<style scoped>\n",
       "    .dataframe tbody tr th:only-of-type {\n",
       "        vertical-align: middle;\n",
       "    }\n",
       "\n",
       "    .dataframe tbody tr th {\n",
       "        vertical-align: top;\n",
       "    }\n",
       "\n",
       "    .dataframe thead th {\n",
       "        text-align: right;\n",
       "    }\n",
       "</style>\n",
       "<table border=\"1\" class=\"dataframe\">\n",
       "  <thead>\n",
       "    <tr style=\"text-align: right;\">\n",
       "      <th></th>\n",
       "      <th>coef</th>\n",
       "      <th>pvals</th>\n",
       "      <th>se</th>\n",
       "      <th>p_fdr</th>\n",
       "    </tr>\n",
       "  </thead>\n",
       "  <tbody>\n",
       "    <tr>\n",
       "      <th>VLP_6</th>\n",
       "      <td>-0.698</td>\n",
       "      <td>5.007e-05</td>\n",
       "      <td>NaN</td>\n",
       "      <td>5.007e-04</td>\n",
       "    </tr>\n",
       "    <tr>\n",
       "      <th>AV_2</th>\n",
       "      <td>-0.649</td>\n",
       "      <td>7.042e-04</td>\n",
       "      <td>NaN</td>\n",
       "      <td>1.409e-03</td>\n",
       "    </tr>\n",
       "    <tr>\n",
       "      <th>Pul_8</th>\n",
       "      <td>-0.611</td>\n",
       "      <td>2.304e-04</td>\n",
       "      <td>NaN</td>\n",
       "      <td>1.152e-03</td>\n",
       "    </tr>\n",
       "    <tr>\n",
       "      <th>LGN_9</th>\n",
       "      <td>-0.549</td>\n",
       "      <td>5.841e-04</td>\n",
       "      <td>NaN</td>\n",
       "      <td>1.409e-03</td>\n",
       "    </tr>\n",
       "    <tr>\n",
       "      <th>MD_Pf_12</th>\n",
       "      <td>-0.541</td>\n",
       "      <td>7.044e-04</td>\n",
       "      <td>NaN</td>\n",
       "      <td>1.409e-03</td>\n",
       "    </tr>\n",
       "    <tr>\n",
       "      <th>VPL_7</th>\n",
       "      <td>-0.517</td>\n",
       "      <td>1.906e-03</td>\n",
       "      <td>NaN</td>\n",
       "      <td>3.176e-03</td>\n",
       "    </tr>\n",
       "    <tr>\n",
       "      <th>VA_4</th>\n",
       "      <td>-0.481</td>\n",
       "      <td>1.105e-02</td>\n",
       "      <td>NaN</td>\n",
       "      <td>1.267e-02</td>\n",
       "    </tr>\n",
       "    <tr>\n",
       "      <th>VLa_5</th>\n",
       "      <td>-0.477</td>\n",
       "      <td>9.731e-03</td>\n",
       "      <td>NaN</td>\n",
       "      <td>1.267e-02</td>\n",
       "    </tr>\n",
       "    <tr>\n",
       "      <th>CM_11</th>\n",
       "      <td>-0.432</td>\n",
       "      <td>1.140e-02</td>\n",
       "      <td>NaN</td>\n",
       "      <td>1.267e-02</td>\n",
       "    </tr>\n",
       "    <tr>\n",
       "      <th>MGN_10</th>\n",
       "      <td>-0.344</td>\n",
       "      <td>4.780e-02</td>\n",
       "      <td>NaN</td>\n",
       "      <td>4.780e-02</td>\n",
       "    </tr>\n",
       "  </tbody>\n",
       "</table>\n",
       "</div>"
      ],
      "text/plain": [
       "           coef      pvals  se      p_fdr\n",
       "VLP_6    -0.698  5.007e-05 NaN  5.007e-04\n",
       "AV_2     -0.649  7.042e-04 NaN  1.409e-03\n",
       "Pul_8    -0.611  2.304e-04 NaN  1.152e-03\n",
       "LGN_9    -0.549  5.841e-04 NaN  1.409e-03\n",
       "MD_Pf_12 -0.541  7.044e-04 NaN  1.409e-03\n",
       "VPL_7    -0.517  1.906e-03 NaN  3.176e-03\n",
       "VA_4     -0.481  1.105e-02 NaN  1.267e-02\n",
       "VLa_5    -0.477  9.731e-03 NaN  1.267e-02\n",
       "CM_11    -0.432  1.140e-02 NaN  1.267e-02\n",
       "MGN_10   -0.344  4.780e-02 NaN  4.780e-02"
      ]
     },
     "execution_count": 23,
     "metadata": {},
     "output_type": "execute_result"
    }
   ],
   "source": [
    "covars = \"age + Female + tiv\"\n",
    "outcome = \"PMS\"\n",
    "\n",
    "pvals = {}\n",
    "coefs = {}\n",
    "se = {}\n",
    "all_results = {}\n",
    "for struct in df_structs.loc[thalamic_nuclei_inds, 'struct']:\n",
    "    formula = f\"{outcome} ~ {covars} + {struct}\"\n",
    "    res = sm.Logit.from_formula(formula, data=model_data).fit()\n",
    "    pvals[struct] = res.pvalues[struct]\n",
    "    coefs[struct] = res.params[struct]\n",
    "    # se[struct] = res.HC0_se[struct]\n",
    "    all_results[struct] = res\n",
    "\n",
    "regression_results = pd.DataFrame({\"coef\": coefs, \"pvals\": pvals, \"se\": se})\n",
    "regression_results['p_fdr'] = stats.false_discovery_control(regression_results['pvals'], method='bh')\n",
    "regression_results = regression_results.sort_values(by=\"coef\", ascending=True)\n",
    "regression_results"
   ]
  },
  {
   "cell_type": "markdown",
   "id": "555b25c4",
   "metadata": {},
   "source": [
    "### PPMS vs SPMS"
   ]
  },
  {
   "cell_type": "markdown",
   "id": "e040283e",
   "metadata": {},
   "source": [
    "Thalamic volume predicts PPMS vs SPMS. PPMS associated with greater thalamic volume, after controlling for age, sex, tiv, and disease duration"
   ]
  },
  {
   "cell_type": "code",
   "execution_count": 36,
   "id": "52f2f09c",
   "metadata": {},
   "outputs": [
    {
     "name": "stdout",
     "output_type": "stream",
     "text": [
      "Optimization terminated successfully.\n",
      "         Current function value: 0.548368\n",
      "         Iterations 6\n",
      "                           Logit Regression Results                           \n",
      "==============================================================================\n",
      "Dep. Variable:                   PPMS   No. Observations:                   78\n",
      "Model:                          Logit   Df Residuals:                       72\n",
      "Method:                           MLE   Df Model:                            5\n",
      "Date:                Fri, 06 Jun 2025   Pseudo R-squ.:                  0.1839\n",
      "Time:                        17:43:10   Log-Likelihood:                -42.773\n",
      "converged:                       True   LL-Null:                       -52.413\n",
      "Covariance Type:            nonrobust   LLR p-value:                  0.001704\n",
      "==============================================================================\n",
      "                 coef    std err          z      P>|z|      [0.025      0.975]\n",
      "------------------------------------------------------------------------------\n",
      "Intercept     -0.1583      0.420     -0.377      0.706      -0.981       0.665\n",
      "THALAMUS_1     0.6552      0.312      2.099      0.036       0.043       1.267\n",
      "age            0.9812      0.490      2.002      0.045       0.021       1.942\n",
      "Female         0.2577      0.287      0.899      0.368      -0.304       0.819\n",
      "tiv            0.0351      0.377      0.093      0.926      -0.704       0.774\n",
      "dzdur         -0.9276      0.344     -2.699      0.007      -1.601      -0.254\n",
      "==============================================================================\n"
     ]
    }
   ],
   "source": [
    "model_data = df_z.join(df_thomas_z)\n",
    "model_data = model_data[model_data['ms_type'].isin([\"PPMS\", \"SPMS\"])]\n",
    "model_data = pd.concat((model_data, pd.get_dummies(model_data['ms_type'], dtype=\"int\")), axis=1)\n",
    "\n",
    "formula = \"PPMS ~ THALAMUS_1 + age + Female + tiv + dzdur\"\n",
    "res = sm.Logit.from_formula(formula, data=model_data).fit()\n",
    "print(res.summary())"
   ]
  },
  {
   "cell_type": "code",
   "execution_count": 37,
   "id": "c8de9f5a",
   "metadata": {},
   "outputs": [
    {
     "name": "stdout",
     "output_type": "stream",
     "text": [
      "Optimization terminated successfully.\n",
      "         Current function value: 0.635106\n",
      "         Iterations 5\n",
      "Optimization terminated successfully.\n",
      "         Current function value: 0.652023\n",
      "         Iterations 5\n",
      "Optimization terminated successfully.\n",
      "         Current function value: 0.655371\n",
      "         Iterations 5\n",
      "Optimization terminated successfully.\n",
      "         Current function value: 0.631714\n",
      "         Iterations 5\n",
      "Optimization terminated successfully.\n",
      "         Current function value: 0.589296\n",
      "         Iterations 6\n",
      "Optimization terminated successfully.\n",
      "         Current function value: 0.588183\n",
      "         Iterations 6\n",
      "Optimization terminated successfully.\n",
      "         Current function value: 0.642673\n",
      "         Iterations 5\n",
      "Optimization terminated successfully.\n",
      "         Current function value: 0.636726\n",
      "         Iterations 5\n",
      "Optimization terminated successfully.\n",
      "         Current function value: 0.655130\n",
      "         Iterations 5\n",
      "Optimization terminated successfully.\n",
      "         Current function value: 0.612379\n",
      "         Iterations 5\n"
     ]
    },
    {
     "data": {
      "application/vnd.microsoft.datawrangler.viewer.v0+json": {
       "columns": [
        {
         "name": "index",
         "rawType": "object",
         "type": "string"
        },
        {
         "name": "coef",
         "rawType": "float64",
         "type": "float"
        },
        {
         "name": "pvals",
         "rawType": "float64",
         "type": "float"
        },
        {
         "name": "se",
         "rawType": "float64",
         "type": "float"
        },
        {
         "name": "p_fdr",
         "rawType": "float64",
         "type": "float"
        }
       ],
       "ref": "560c4d2e-d616-4b24-8e5a-ba81cfdd42e1",
       "rows": [
        [
         "VLa_5",
         "0.01652263055373697",
         "0.9516298311707736",
         null,
         "0.9516298311707736"
        ],
        [
         "CM_11",
         "0.052192355117299756",
         "0.838936799445679",
         null,
         "0.9321519993840878"
        ],
        [
         "VA_4",
         "0.2291957143644589",
         "0.47275826840518154",
         null,
         "0.5909478355064769"
        ],
        [
         "LGN_9",
         "0.36097856906781667",
         "0.1664121354212197",
         null,
         "0.23773162203031384"
        ],
        [
         "MGN_10",
         "0.4415470967032693",
         "0.10067778611680521",
         null,
         "0.16779631019467536"
        ],
        [
         "VLP_6",
         "0.4800794008073495",
         "0.0669993895660799",
         null,
         "0.166957689097496"
        ],
        [
         "AV_2",
         "0.5759801741222538",
         "0.083478844548748",
         null,
         "0.166957689097496"
        ],
        [
         "MD_Pf_12",
         "0.6282934056680988",
         "0.015675790638520006",
         null,
         "0.05225263546173336"
        ],
        [
         "Pul_8",
         "0.8675461915159263",
         "0.003359328334074845",
         null,
         "0.023240634661839246"
        ],
        [
         "VPL_7",
         "0.8765576718441916",
         "0.004648126932367849",
         null,
         "0.023240634661839246"
        ]
       ],
       "shape": {
        "columns": 4,
        "rows": 10
       }
      },
      "text/html": [
       "<div>\n",
       "<style scoped>\n",
       "    .dataframe tbody tr th:only-of-type {\n",
       "        vertical-align: middle;\n",
       "    }\n",
       "\n",
       "    .dataframe tbody tr th {\n",
       "        vertical-align: top;\n",
       "    }\n",
       "\n",
       "    .dataframe thead th {\n",
       "        text-align: right;\n",
       "    }\n",
       "</style>\n",
       "<table border=\"1\" class=\"dataframe\">\n",
       "  <thead>\n",
       "    <tr style=\"text-align: right;\">\n",
       "      <th></th>\n",
       "      <th>coef</th>\n",
       "      <th>pvals</th>\n",
       "      <th>se</th>\n",
       "      <th>p_fdr</th>\n",
       "    </tr>\n",
       "  </thead>\n",
       "  <tbody>\n",
       "    <tr>\n",
       "      <th>VLa_5</th>\n",
       "      <td>0.017</td>\n",
       "      <td>0.952</td>\n",
       "      <td>NaN</td>\n",
       "      <td>0.952</td>\n",
       "    </tr>\n",
       "    <tr>\n",
       "      <th>CM_11</th>\n",
       "      <td>0.052</td>\n",
       "      <td>0.839</td>\n",
       "      <td>NaN</td>\n",
       "      <td>0.932</td>\n",
       "    </tr>\n",
       "    <tr>\n",
       "      <th>VA_4</th>\n",
       "      <td>0.229</td>\n",
       "      <td>0.473</td>\n",
       "      <td>NaN</td>\n",
       "      <td>0.591</td>\n",
       "    </tr>\n",
       "    <tr>\n",
       "      <th>LGN_9</th>\n",
       "      <td>0.361</td>\n",
       "      <td>0.166</td>\n",
       "      <td>NaN</td>\n",
       "      <td>0.238</td>\n",
       "    </tr>\n",
       "    <tr>\n",
       "      <th>MGN_10</th>\n",
       "      <td>0.442</td>\n",
       "      <td>0.101</td>\n",
       "      <td>NaN</td>\n",
       "      <td>0.168</td>\n",
       "    </tr>\n",
       "    <tr>\n",
       "      <th>VLP_6</th>\n",
       "      <td>0.480</td>\n",
       "      <td>0.067</td>\n",
       "      <td>NaN</td>\n",
       "      <td>0.167</td>\n",
       "    </tr>\n",
       "    <tr>\n",
       "      <th>AV_2</th>\n",
       "      <td>0.576</td>\n",
       "      <td>0.083</td>\n",
       "      <td>NaN</td>\n",
       "      <td>0.167</td>\n",
       "    </tr>\n",
       "    <tr>\n",
       "      <th>MD_Pf_12</th>\n",
       "      <td>0.628</td>\n",
       "      <td>0.016</td>\n",
       "      <td>NaN</td>\n",
       "      <td>0.052</td>\n",
       "    </tr>\n",
       "    <tr>\n",
       "      <th>Pul_8</th>\n",
       "      <td>0.868</td>\n",
       "      <td>0.003</td>\n",
       "      <td>NaN</td>\n",
       "      <td>0.023</td>\n",
       "    </tr>\n",
       "    <tr>\n",
       "      <th>VPL_7</th>\n",
       "      <td>0.877</td>\n",
       "      <td>0.005</td>\n",
       "      <td>NaN</td>\n",
       "      <td>0.023</td>\n",
       "    </tr>\n",
       "  </tbody>\n",
       "</table>\n",
       "</div>"
      ],
      "text/plain": [
       "           coef  pvals  se  p_fdr\n",
       "VLa_5     0.017  0.952 NaN  0.952\n",
       "CM_11     0.052  0.839 NaN  0.932\n",
       "VA_4      0.229  0.473 NaN  0.591\n",
       "LGN_9     0.361  0.166 NaN  0.238\n",
       "MGN_10    0.442  0.101 NaN  0.168\n",
       "VLP_6     0.480  0.067 NaN  0.167\n",
       "AV_2      0.576  0.083 NaN  0.167\n",
       "MD_Pf_12  0.628  0.016 NaN  0.052\n",
       "Pul_8     0.868  0.003 NaN  0.023\n",
       "VPL_7     0.877  0.005 NaN  0.023"
      ]
     },
     "execution_count": 37,
     "metadata": {},
     "output_type": "execute_result"
    }
   ],
   "source": [
    "covars = \"age + Female + tiv\"\n",
    "outcome = \"PPMS\"\n",
    "\n",
    "pvals = {}\n",
    "coefs = {}\n",
    "se = {}\n",
    "all_results = {}\n",
    "for struct in df_structs.loc[thalamic_nuclei_inds, 'struct']:\n",
    "    formula = f\"{outcome} ~ {covars} + {struct}\"\n",
    "    res = sm.Logit.from_formula(formula, data=model_data).fit()\n",
    "    pvals[struct] = res.pvalues[struct]\n",
    "    coefs[struct] = res.params[struct]\n",
    "    # se[struct] = res.HC0_se[struct]\n",
    "    all_results[struct] = res\n",
    "\n",
    "regression_results = pd.DataFrame({\"coef\": coefs, \"pvals\": pvals, \"se\": se})\n",
    "regression_results['p_fdr'] = stats.false_discovery_control(regression_results['pvals'], method='bh')\n",
    "regression_results = regression_results.sort_values(by=\"coef\", ascending=True)\n",
    "regression_results"
   ]
  },
  {
   "cell_type": "code",
   "execution_count": 31,
   "id": "72ead396",
   "metadata": {},
   "outputs": [
    {
     "name": "stdout",
     "output_type": "stream",
     "text": [
      "Optimization terminated successfully.\n",
      "         Current function value: 0.244788\n",
      "         Iterations 8\n",
      "                           Logit Regression Results                           \n",
      "==============================================================================\n",
      "Dep. Variable:                   RRMS   No. Observations:                  368\n",
      "Model:                          Logit   Df Residuals:                      362\n",
      "Method:                           MLE   Df Model:                            5\n",
      "Date:                Fri, 06 Jun 2025   Pseudo R-squ.:                  0.3592\n",
      "Time:                        17:41:15   Log-Likelihood:                -90.082\n",
      "converged:                       True   LL-Null:                       -140.58\n",
      "Covariance Type:            nonrobust   LLR p-value:                 3.244e-20\n",
      "==============================================================================\n",
      "                 coef    std err          z      P>|z|      [0.025      0.975]\n",
      "------------------------------------------------------------------------------\n",
      "Intercept      3.0153      0.310      9.712      0.000       2.407       3.624\n",
      "age           -0.9106      0.286     -3.186      0.001      -1.471      -0.350\n",
      "THALAMUS_1     0.7982      0.219      3.645      0.000       0.369       1.227\n",
      "Female         0.7611      0.227      3.355      0.001       0.316       1.206\n",
      "tiv            0.1275      0.255      0.500      0.617      -0.372       0.627\n",
      "dzdur         -0.6098      0.230     -2.647      0.008      -1.061      -0.158\n",
      "==============================================================================\n"
     ]
    }
   ],
   "source": [
    "model_data = df_z.join(df_thomas_z)\n",
    "model_data = model_data[model_data['ms_type'].isin([\"SPMS\", \"RRMS\"])]\n",
    "model_data = pd.concat((model_data, pd.get_dummies(model_data['ms_type'], dtype=\"int\")), axis=1)\n",
    "\n",
    "formula = \"RRMS ~ age + THALAMUS_1 + Female + tiv + dzdur\"\n",
    "res = sm.Logit.from_formula(formula, data=model_data).fit()\n",
    "print(res.summary())"
   ]
  },
  {
   "cell_type": "code",
   "execution_count": 33,
   "id": "73396eb0",
   "metadata": {},
   "outputs": [
    {
     "name": "stdout",
     "output_type": "stream",
     "text": [
      "Optimization terminated successfully.\n",
      "         Current function value: 0.268260\n",
      "         Iterations 8\n",
      "Optimization terminated successfully.\n",
      "         Current function value: 0.276843\n",
      "         Iterations 8\n",
      "Optimization terminated successfully.\n",
      "         Current function value: 0.276132\n",
      "         Iterations 8\n",
      "Optimization terminated successfully.\n",
      "         Current function value: 0.258476\n",
      "         Iterations 8\n",
      "Optimization terminated successfully.\n",
      "         Current function value: 0.259288\n",
      "         Iterations 8\n",
      "Optimization terminated successfully.\n",
      "         Current function value: 0.257989\n",
      "         Iterations 8\n",
      "Optimization terminated successfully.\n",
      "         Current function value: 0.270770\n",
      "         Iterations 8\n",
      "Optimization terminated successfully.\n",
      "         Current function value: 0.275042\n",
      "         Iterations 8\n",
      "Optimization terminated successfully.\n",
      "         Current function value: 0.278471\n",
      "         Iterations 8\n",
      "Optimization terminated successfully.\n",
      "         Current function value: 0.262450\n",
      "         Iterations 8\n"
     ]
    },
    {
     "data": {
      "application/vnd.microsoft.datawrangler.viewer.v0+json": {
       "columns": [
        {
         "name": "index",
         "rawType": "object",
         "type": "string"
        },
        {
         "name": "coef",
         "rawType": "float64",
         "type": "float"
        },
        {
         "name": "pvals",
         "rawType": "float64",
         "type": "float"
        },
        {
         "name": "se",
         "rawType": "float64",
         "type": "float"
        },
        {
         "name": "p_fdr",
         "rawType": "float64",
         "type": "float"
        }
       ],
       "ref": "c9e4aba2-e36b-49f1-afb8-0f5b6bd751f1",
       "rows": [
        [
         "CM_11",
         "0.4732992796026208",
         "0.029050079598981524",
         null,
         "0.029050079598981524"
        ],
        [
         "VA_4",
         "0.5759266357965295",
         "0.013444285833718317",
         null,
         "0.01493809537079813"
        ],
        [
         "VLa_5",
         "0.5831603959909215",
         "0.011649604774891954",
         null,
         "0.014562005968614941"
        ],
        [
         "MGN_10",
         "0.5835509756122419",
         "0.005444280438531734",
         null,
         "0.0077775434836167626"
        ],
        [
         "LGN_9",
         "0.6666740174007086",
         "0.001390679623326024",
         null,
         "0.00231779937221004"
        ],
        [
         "MD_Pf_12",
         "0.7849104008071253",
         "7.173525626681281e-05",
         null,
         "0.00017933814066703203"
        ],
        [
         "AV_2",
         "0.8324707273004002",
         "0.000746822781529557",
         null,
         "0.001493645563059114"
        ],
        [
         "VLP_6",
         "0.8938648481394499",
         "1.7425573304512208e-05",
         null,
         "6.432560590081181e-05"
        ],
        [
         "VPL_7",
         "0.8965369068226118",
         "1.9297681770243544e-05",
         null,
         "6.432560590081181e-05"
        ],
        [
         "Pul_8",
         "0.9267346088560793",
         "1.8467593451115053e-05",
         null,
         "6.432560590081181e-05"
        ]
       ],
       "shape": {
        "columns": 4,
        "rows": 10
       }
      },
      "text/html": [
       "<div>\n",
       "<style scoped>\n",
       "    .dataframe tbody tr th:only-of-type {\n",
       "        vertical-align: middle;\n",
       "    }\n",
       "\n",
       "    .dataframe tbody tr th {\n",
       "        vertical-align: top;\n",
       "    }\n",
       "\n",
       "    .dataframe thead th {\n",
       "        text-align: right;\n",
       "    }\n",
       "</style>\n",
       "<table border=\"1\" class=\"dataframe\">\n",
       "  <thead>\n",
       "    <tr style=\"text-align: right;\">\n",
       "      <th></th>\n",
       "      <th>coef</th>\n",
       "      <th>pvals</th>\n",
       "      <th>se</th>\n",
       "      <th>p_fdr</th>\n",
       "    </tr>\n",
       "  </thead>\n",
       "  <tbody>\n",
       "    <tr>\n",
       "      <th>CM_11</th>\n",
       "      <td>0.473</td>\n",
       "      <td>2.905e-02</td>\n",
       "      <td>NaN</td>\n",
       "      <td>2.905e-02</td>\n",
       "    </tr>\n",
       "    <tr>\n",
       "      <th>VA_4</th>\n",
       "      <td>0.576</td>\n",
       "      <td>1.344e-02</td>\n",
       "      <td>NaN</td>\n",
       "      <td>1.494e-02</td>\n",
       "    </tr>\n",
       "    <tr>\n",
       "      <th>VLa_5</th>\n",
       "      <td>0.583</td>\n",
       "      <td>1.165e-02</td>\n",
       "      <td>NaN</td>\n",
       "      <td>1.456e-02</td>\n",
       "    </tr>\n",
       "    <tr>\n",
       "      <th>MGN_10</th>\n",
       "      <td>0.584</td>\n",
       "      <td>5.444e-03</td>\n",
       "      <td>NaN</td>\n",
       "      <td>7.778e-03</td>\n",
       "    </tr>\n",
       "    <tr>\n",
       "      <th>LGN_9</th>\n",
       "      <td>0.667</td>\n",
       "      <td>1.391e-03</td>\n",
       "      <td>NaN</td>\n",
       "      <td>2.318e-03</td>\n",
       "    </tr>\n",
       "    <tr>\n",
       "      <th>MD_Pf_12</th>\n",
       "      <td>0.785</td>\n",
       "      <td>7.174e-05</td>\n",
       "      <td>NaN</td>\n",
       "      <td>1.793e-04</td>\n",
       "    </tr>\n",
       "    <tr>\n",
       "      <th>AV_2</th>\n",
       "      <td>0.832</td>\n",
       "      <td>7.468e-04</td>\n",
       "      <td>NaN</td>\n",
       "      <td>1.494e-03</td>\n",
       "    </tr>\n",
       "    <tr>\n",
       "      <th>VLP_6</th>\n",
       "      <td>0.894</td>\n",
       "      <td>1.743e-05</td>\n",
       "      <td>NaN</td>\n",
       "      <td>6.433e-05</td>\n",
       "    </tr>\n",
       "    <tr>\n",
       "      <th>VPL_7</th>\n",
       "      <td>0.897</td>\n",
       "      <td>1.930e-05</td>\n",
       "      <td>NaN</td>\n",
       "      <td>6.433e-05</td>\n",
       "    </tr>\n",
       "    <tr>\n",
       "      <th>Pul_8</th>\n",
       "      <td>0.927</td>\n",
       "      <td>1.847e-05</td>\n",
       "      <td>NaN</td>\n",
       "      <td>6.433e-05</td>\n",
       "    </tr>\n",
       "  </tbody>\n",
       "</table>\n",
       "</div>"
      ],
      "text/plain": [
       "           coef      pvals  se      p_fdr\n",
       "CM_11     0.473  2.905e-02 NaN  2.905e-02\n",
       "VA_4      0.576  1.344e-02 NaN  1.494e-02\n",
       "VLa_5     0.583  1.165e-02 NaN  1.456e-02\n",
       "MGN_10    0.584  5.444e-03 NaN  7.778e-03\n",
       "LGN_9     0.667  1.391e-03 NaN  2.318e-03\n",
       "MD_Pf_12  0.785  7.174e-05 NaN  1.793e-04\n",
       "AV_2      0.832  7.468e-04 NaN  1.494e-03\n",
       "VLP_6     0.894  1.743e-05 NaN  6.433e-05\n",
       "VPL_7     0.897  1.930e-05 NaN  6.433e-05\n",
       "Pul_8     0.927  1.847e-05 NaN  6.433e-05"
      ]
     },
     "execution_count": 33,
     "metadata": {},
     "output_type": "execute_result"
    }
   ],
   "source": [
    "covars = \"age + Female + tiv\"\n",
    "outcome = \"RRMS\"\n",
    "\n",
    "pvals = {}\n",
    "coefs = {}\n",
    "se = {}\n",
    "all_results = {}\n",
    "for struct in df_structs.loc[thalamic_nuclei_inds, 'struct']:\n",
    "    formula = f\"{outcome} ~ {covars} + {struct}\"\n",
    "    res = sm.Logit.from_formula(formula, data=model_data).fit()\n",
    "    pvals[struct] = res.pvalues[struct]\n",
    "    coefs[struct] = res.params[struct]\n",
    "    # se[struct] = res.HC0_se[struct]\n",
    "    all_results[struct] = res\n",
    "\n",
    "regression_results = pd.DataFrame({\"coef\": coefs, \"pvals\": pvals, \"se\": se})\n",
    "regression_results['p_fdr'] = stats.false_discovery_control(regression_results['pvals'], method='bh')\n",
    "regression_results = regression_results.sort_values(by=\"coef\", ascending=True)\n",
    "regression_results"
   ]
  }
 ],
 "metadata": {
  "kernelspec": {
   "display_name": "monai",
   "language": "python",
   "name": "python3"
  },
  "language_info": {
   "codemirror_mode": {
    "name": "ipython",
    "version": 3
   },
   "file_extension": ".py",
   "mimetype": "text/x-python",
   "name": "python",
   "nbconvert_exporter": "python",
   "pygments_lexer": "ipython3",
   "version": "3.12.4"
  }
 },
 "nbformat": 4,
 "nbformat_minor": 5
}
