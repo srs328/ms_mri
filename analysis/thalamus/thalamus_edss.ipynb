{
 "cells": [
  {
   "cell_type": "code",
   "execution_count": 1,
   "id": "5deea01b",
   "metadata": {},
   "outputs": [],
   "source": [
    "import os\n",
    "import re\n",
    "import subprocess\n",
    "import sys\n",
    "from pathlib import Path\n",
    "\n",
    "import matplotlib.pyplot as plt\n",
    "import nibabel as nib\n",
    "import numpy as np\n",
    "import pandas as pd\n",
    "import statsmodels.api as sm\n",
    "from matplotlib import colormaps\n",
    "from scipy import stats\n",
    "\n",
    "from mri_data import file_manager as fm\n",
    "\n",
    "sys.path.append(\"/home/srs-9/Projects/ms_mri/analysis/paper1\")\n",
    "\n",
    "import helpers"
   ]
  },
  {
   "cell_type": "code",
   "execution_count": null,
   "id": "5d387dae",
   "metadata": {},
   "outputs": [],
   "source": [
    "drive_root = fm.get_drive_root()\n",
    "msmri_home = Path(\"/home/srs-9/Projects/ms_mri\")\n",
    "msmri_datadir = msmri_home / \"data\"\n",
    "curr_dir = Path(os.getcwd())\n",
    "data_dir = curr_dir / \"data0\"\n",
    "cp_data_dir = Path(\"/home/srs-9/Projects/ms_mri/analysis/paper1/data0\")\n",
    "dataroot = Path(\"/media/smbshare/srs-9/thalamus_project/data\")\n",
    "\n",
    "showfigs = False\n",
    "pd.options.display.precision = 3\n",
    "subject_sessions = pd.read_csv(\n",
    "    \"/home/srs-9/Projects/ms_mri/analysis/thalamus/data0/subject-sessions.csv\",\n",
    "    index_col=\"sub\",\n",
    ")"
   ]
  },
  {
   "cell_type": "code",
   "execution_count": 3,
   "id": "1ea79d49",
   "metadata": {},
   "outputs": [],
   "source": [
    "cp_vols = pd.read_csv(data_dir / \"choroid_aschoplex_volumes.csv\", index_col=\"subid\")\n",
    "tiv_data = pd.read_csv(data_dir / \"tiv_data.csv\", index_col=\"subid\")\n",
    "clinical_data = pd.read_csv(data_dir / \"clinical_data_processed.csv\", index_col=\"subid\")\n",
    "df = cp_vols.join([tiv_data, clinical_data])\n",
    "\n",
    "df_z = df.copy()\n",
    "numeric_vars = [col for col in df_z.columns if pd.api.types.is_numeric_dtype(df_z[col])]\n",
    "df_z[numeric_vars] = df_z[numeric_vars].apply(stats.zscore, nan_policy=\"omit\")"
   ]
  },
  {
   "cell_type": "code",
   "execution_count": null,
   "id": "2ae459ae",
   "metadata": {},
   "outputs": [],
   "source": [
    "df_thomas = pd.read_csv(data_dir / \"hipsthomas_vols.csv\", index_col=\"subid\")\n",
    "cols_orig = df_thomas.columns\n",
    "new_colnames = {}\n",
    "for col in df_thomas.columns:\n",
    "    new_col = re.sub(r\"(\\d+)-([\\w-]+)\", r\"\\2_\\1\", col)\n",
    "    new_col = re.sub(\"-\", \"_\", new_col)\n",
    "    new_colnames[col] = new_col\n",
    "df_thomas = df_thomas.rename(columns=new_colnames)\n",
    "df_thomas_norm = df_thomas.apply(lambda col: col / df_thomas['THALAMUS_1'])\n",
    "df_thomas_z = df_thomas.apply(stats.zscore, nan_policy=\"omit\")\n",
    "df_thomas_norm_z = df_thomas_norm.apply(stats.zscore, nan_policy=\"omit\")\n",
    "\n",
    "\n",
    "new_index = []\n",
    "for col in df_thomas.columns:\n",
    "    new_index.append(int(re.match(r\".+_(\\d+)$\", col)[1]))\n",
    "\n",
    "df_structs = pd.DataFrame({'struct': df_thomas.columns}, index=new_index)\n",
    "ind_struct_lookup = {}\n",
    "for i, row in df_structs.iterrows():\n",
    "    ind_struct_lookup[i] = row['struct']\n",
    "struct_ind_lookup = {}\n",
    "for i, row in df_structs.iterrows():\n",
    "    struct_ind_lookup[row['struct']] = i\n",
    "\n",
    "thalamic_nuclei = df_thomas.columns[1:11]\n",
    "thalamic_nuclei_inds = [struct_ind_lookup[struct] for struct in thalamic_nuclei]"
   ]
  },
  {
   "cell_type": "code",
   "execution_count": null,
   "id": "87aecdac",
   "metadata": {},
   "outputs": [
    {
     "name": "stdout",
     "output_type": "stream",
     "text": [
      "            struct   coef      pvals      p_fdr\n",
      "Pul_8        Pul_8 -0.302  2.563e-09  2.563e-08\n",
      "VLP_6        VLP_6 -0.277  4.773e-07  9.780e-07\n",
      "AV_2          AV_2 -0.267  5.153e-07  9.780e-07\n",
      "LGN_9        LGN_9 -0.264  3.191e-08  1.596e-07\n",
      "VPL_7        VPL_7 -0.263  4.437e-07  9.780e-07\n",
      "MD_Pf_12  MD_Pf_12 -0.254  5.868e-07  9.780e-07\n",
      "MGN_10      MGN_10 -0.240  5.888e-06  8.411e-06\n",
      "VLa_5        VLa_5 -0.179  1.713e-03  2.142e-03\n",
      "VA_4          VA_4 -0.147  1.340e-02  1.340e-02\n",
      "CM_11        CM_11 -0.141  8.352e-03  9.280e-03\n"
     ]
    }
   ],
   "source": [
    "model_data = df_z.join(df_thomas_z)\n",
    "model_data = model_data[model_data['dz_type5'].isin([\"RMS\", \"PMS\"])]\n",
    "covariates = \"age + Female + tiv\"\n",
    "\n",
    "pvals = {}\n",
    "coefs = {}\n",
    "\n",
    "outcome = \"EDSS_sqrt\"\n",
    "\n",
    "structs = thalamic_nuclei\n",
    "# structs = df_thomas.columns[~df_thomas.columns.isin([\"THALAMUS_1\", \"Amy_34\", \"GP_33\"])]\n",
    "all_results = {}\n",
    "for struct in structs:\n",
    "    formula = f\"{outcome} ~ {struct} + {covariates}\"\n",
    "    res = sm.OLS.from_formula(formula, data=model_data).fit()\n",
    "    pvals[struct] = res.pvalues[struct]\n",
    "    coefs[struct] = res.params[struct]\n",
    "    all_results[struct] = res\n",
    "\n",
    "regression_results = pd.DataFrame({\"coef\": coefs, \"pvals\": pvals})\n",
    "regression_results['p_fdr'] = stats.false_discovery_control(\n",
    "    regression_results['pvals'], method='bh'\n",
    ")\n",
    "regression_results = regression_results.sort_values(by=\"coef\", ascending=True)\n",
    "regression_results.insert(0, \"struct\", regression_results.index)\n",
    "new_index = []\n",
    "for item in regression_results.struct:\n",
    "    new_index.append(int(re.match(r\".+_(\\d+)$\", item)[1]))\n",
    "\n",
    "print(regression_results)"
   ]
  }
 ],
 "metadata": {
  "kernelspec": {
   "display_name": "monai",
   "language": "python",
   "name": "python3"
  },
  "language_info": {
   "codemirror_mode": {
    "name": "ipython",
    "version": 3
   },
   "file_extension": ".py",
   "mimetype": "text/x-python",
   "name": "python",
   "nbconvert_exporter": "python",
   "pygments_lexer": "ipython3",
   "version": "3.12.4"
  }
 },
 "nbformat": 4,
 "nbformat_minor": 5
}
