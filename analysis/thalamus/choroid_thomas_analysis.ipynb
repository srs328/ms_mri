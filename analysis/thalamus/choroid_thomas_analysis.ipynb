{
 "cells": [
  {
   "cell_type": "code",
   "execution_count": 2,
   "id": "1cd9fb0a",
   "metadata": {},
   "outputs": [],
   "source": [
    "import matplotlib.pyplot as plt\n",
    "import pandas as pd\n",
    "from pathlib import Path\n",
    "import numpy as np\n",
    "import seaborn as sns\n",
    "import statsmodels.api as sm\n",
    "from scipy import stats\n",
    "import os\n",
    "from reload_recursive import reload_recursive\n",
    "from pyprocessmacro import Process\n",
    "from statsmodels.stats.mediation import Mediation\n",
    "from statsmodels.miscmodels.ordinal_model import OrderedModel\n",
    "import sys\n",
    "import re\n",
    "\n",
    "from mri_data import file_manager as fm\n",
    "# import helpers"
   ]
  },
  {
   "cell_type": "code",
   "execution_count": 3,
   "id": "94b98cf1",
   "metadata": {},
   "outputs": [],
   "source": [
    "# reload_recursive(helpers)"
   ]
  },
  {
   "cell_type": "markdown",
   "id": "bfb4fb8f",
   "metadata": {},
   "source": [
    "### Paths and Config"
   ]
  },
  {
   "cell_type": "code",
   "execution_count": null,
   "id": "f85caf6d",
   "metadata": {},
   "outputs": [
    {
     "ename": "NameError",
     "evalue": "name 'helpers' is not defined",
     "output_type": "error",
     "traceback": [
      "\u001b[0;31m---------------------------------------------------------------------------\u001b[0m",
      "\u001b[0;31mNameError\u001b[0m                                 Traceback (most recent call last)",
      "Cell \u001b[0;32mIn[4], line 8\u001b[0m\n\u001b[1;32m      6\u001b[0m showfigs \u001b[38;5;241m=\u001b[39m \u001b[38;5;28;01mFalse\u001b[39;00m\n\u001b[1;32m      7\u001b[0m pd\u001b[38;5;241m.\u001b[39moptions\u001b[38;5;241m.\u001b[39mdisplay\u001b[38;5;241m.\u001b[39mprecision \u001b[38;5;241m=\u001b[39m \u001b[38;5;241m3\u001b[39m\n\u001b[0;32m----> 8\u001b[0m colors \u001b[38;5;241m=\u001b[39m \u001b[43mhelpers\u001b[49m\u001b[38;5;241m.\u001b[39mget_colors()\n",
      "\u001b[0;31mNameError\u001b[0m: name 'helpers' is not defined"
     ]
    }
   ],
   "source": [
    "drive_root = fm.get_drive_root()\n",
    "msmri_home = Path(\"/home/srs-9/Projects/ms_mri\")\n",
    "msmri_datadir = msmri_home / \"data\"\n",
    "curr_dir = Path(os.getcwd())\n",
    "data_dir = curr_dir / \"data0\"\n",
    "showfigs = False\n",
    "pd.options.display.precision = 3\n",
    "# colors = helpers.get_colors()"
   ]
  },
  {
   "cell_type": "markdown",
   "id": "f0de1a7c",
   "metadata": {},
   "source": [
    "### Load and Prepare Data"
   ]
  },
  {
   "cell_type": "code",
   "execution_count": null,
   "id": "be8feb11",
   "metadata": {},
   "outputs": [],
   "source": [
    "df_thomas = pd.read_csv(data_dir / \"hipsthomas_vols.csv\", index_col=\"subid\")\n",
    "cols_orig = df_thomas.columns"
   ]
  },
  {
   "cell_type": "code",
   "execution_count": null,
   "id": "034920a9",
   "metadata": {},
   "outputs": [],
   "source": [
    "df_thomas = pd.read_csv(data_dir / \"hipsthomas_vols.csv\", index_col=\"subid\")\n",
    "new_colnames = {}\n",
    "for col in df_thomas.columns:\n",
    "    new_col = re.sub(r\"(\\d+)-([\\w-]+)\", r\"\\2_\\1\", col)\n",
    "    new_col = re.sub(\"-\", \"_\", new_col)\n",
    "    new_colnames[col] = new_col\n",
    "\n",
    "df_thomas = df_thomas.rename(columns=new_colnames)\n",
    "df_thomas_norm = df_thomas.apply(lambda x: x / df_thomas['THALAMUS_1'])\n",
    "df_thomas_z = df_thomas.apply(stats.zscore, nan_policy=\"omit\")\n",
    "df_thomas_norm_z = df_thomas_norm.apply(stats.zscore, nan_policy=\"omit\")"
   ]
  },
  {
   "cell_type": "code",
   "execution_count": null,
   "id": "fecb9ddc",
   "metadata": {},
   "outputs": [
    {
     "data": {
      "text/plain": [
       "-1961.495366000001"
      ]
     },
     "execution_count": 59,
     "metadata": {},
     "output_type": "execute_result"
    }
   ],
   "source": [
    "subj = 1001\n",
    "df_thomas = pd.read_csv(data_dir / \"hipsthomas_vols.csv\", index_col=\"subid\")\n",
    "structs_to_add = [\"2-AV\", \"4-VA\", \"5-VLa\", \"6-VLP\", \"7-VPL\", \"9-LGN\", \"10-MGN\", \"11-CM\", \"12-MD-Pf\", \"13-Hb\", \"14-MTT\", \"26-Acc\", \"27-Cau\", \"32-RN\"]\n",
    "df_thomas.loc[subj, \"1-THALAMUS\"] - df_thomas.loc[subj, structs_to_add].sum()"
   ]
  },
  {
   "cell_type": "code",
   "execution_count": null,
   "id": "7983d19c",
   "metadata": {},
   "outputs": [
    {
     "data": {
      "text/plain": [
       "9065.068359"
      ]
     },
     "execution_count": 58,
     "metadata": {},
     "output_type": "execute_result"
    }
   ],
   "source": [
    "df_thomas.loc[subj, \"1-THALAMUS\"]"
   ]
  },
  {
   "cell_type": "code",
   "execution_count": 48,
   "id": "261e65ff",
   "metadata": {},
   "outputs": [],
   "source": [
    "df = pd.read_csv(data_dir / \"t1_aschoplex_data_full.csv\", index_col=\"subid\")\n",
    "df_full = df.copy()\n",
    "df_tmp = pd.read_csv(data_dir / \"t1_data_full.csv\", index_col=\"subid\")\n",
    "df['pineal_volume'] = df_tmp['pineal_volume']\n",
    "df['pituitary_volume'] = df_tmp['pituitary_volume']\n",
    "\n",
    "df = helpers.get_mri_edss_delta(df)\n",
    "\n",
    "keep_cols = [\n",
    "    \"subject\",\n",
    "    \"age\",\n",
    "    \"sex\",\n",
    "    \"ms_type\",\n",
    "    \"dzdur\",\n",
    "    \"extracted_EDSS\",\n",
    "    \"MSSS\",\n",
    "    \"gMSSS\",\n",
    "    \"ARMSS\",\n",
    "    \"edss_mri_delta\",\n",
    "    \"edss_date_closest\",\n",
    "    \"mri_date_closest\",\n",
    "    \"DMT_score\",\n",
    "    \"DMT_hx_all\",\n",
    "    \"TER\",\n",
    "    \"DMF\",\n",
    "    \"NAT\",\n",
    "    \"INF\",\n",
    "    \"flair_contrast\",\n",
    "    \"thalamus\",\n",
    "    \"brain\",\n",
    "    \"white\",\n",
    "    \"grey\",\n",
    "    \"cortical_thickness\",\n",
    "    \"lesion_count\",\n",
    "    \"lesion_vol_cubic\",\n",
    "    \"PRL\",\n",
    "    \"tiv\",\n",
    "    \"choroid_volume\",\n",
    "    \"pineal_volume\", \n",
    "    \"pituitary_volume\"\n",
    "]\n",
    "df = df.loc[:, keep_cols]\n",
    "\n",
    "df = helpers.set_dz_type5(df)\n",
    "df = helpers.set_dz_type3(df)\n",
    "df = helpers.set_dz_type2(df)\n",
    "df = helpers.fix_edss(df)\n",
    "df = helpers.clean_df(df)\n",
    "df = helpers.set_has_prl(df)\n",
    "df = helpers.norm_volumes(df)\n",
    "\n",
    "df.rename(columns={\"lesion_vol_cubic\": \"t2lv\"}, inplace=True)\n",
    "df = df.rename(columns={\"extracted_EDSS\": \"EDSS\"})\n",
    "\n",
    "df = helpers.do_sqrt_transform(df, [\"EDSS\", \"MSSS\", \"ARMSS\", \"gMSSS\"])\n",
    "df = helpers.do_log_transform(df, [\"t2lv\"])\n",
    "\n",
    "vars_to_center = [\"EDSS_sqrt\", \"t2lv_logtrans\", \"t2lv\", \"dzdur\", \"choroid_volume\", \"PRL\"]\n",
    "df = helpers.do_center(df, vars_to_center)\n",
    "\n",
    "vars_to_scale = [\n",
    "    \"age\",\n",
    "    \"dzdur\",\n",
    "    \"lesion_count\",\n",
    "    \"t2lv\",\n",
    "    \"t2lv_logtrans\",\n",
    "    \"PRL\",\n",
    "    \"tiv\",\n",
    "    \"choroid_volume\",\n",
    "    \"thalamus\"\n",
    "]\n",
    "df = helpers.do_scale(df, vars_to_scale)\n",
    "\n",
    "numeric_vars = [\n",
    "    \"age\",\n",
    "    \"dzdur\",\n",
    "    \"Female\",\n",
    "    \"EDSS\", \"EDSS_sqrt\",\n",
    "    \"MSSS\", \"MSSS_sqrt\",\n",
    "    \"gMSSS\", \"gMSSS_sqrt\",\n",
    "    \"ARMSS\", \"ARMSS_sqrt\",\n",
    "    \"edss_mri_delta\",\n",
    "    \"DMT_score\",\n",
    "    \"DMT_hx_all\",\n",
    "    \"TER\",\n",
    "    \"DMF\",\n",
    "    \"NAT\",\n",
    "    \"INF\",\n",
    "    \"thalamus\",\n",
    "    \"brain\",\n",
    "    \"white\",\n",
    "    \"grey\",\n",
    "    \"cortical_thickness\",\n",
    "    \"lesion_count\",\n",
    "    \"t2lv\", \"t2lv_logtrans\",\n",
    "    \"PRL\",\n",
    "    \"tiv\",\n",
    "    \"choroid_volume\",\n",
    "    \"norm_choroid_volume\",\n",
    "    \"pineal_volume\",\n",
    "    \"pituitary_volume\"\n",
    "]\n",
    "\n",
    "for var in numeric_vars:\n",
    "    df[var] = df[var].astype(\"float\")\n",
    "\n",
    "df_ms = df.loc[df['dz_type2'] == \"MS\"]\n",
    "df_scale = df.copy() #temporary till I rename df_scale everywehre\n",
    "df_scale_ms = df_scale.loc[df['dz_type2'] == \"MS\"]\n",
    "\n",
    "df_z = df[numeric_vars].astype(\"float\")\n",
    "df_z[df.columns[~df.columns.isin(numeric_vars)]] = df[df.columns[~df.columns.isin(numeric_vars)]]\n",
    "df_z = df_z[df.columns]\n",
    "df_z[numeric_vars] = df_z[numeric_vars].apply(stats.zscore, nan_policy=\"omit\")\n",
    "\n",
    "# delete these vars once I fix all future variable references\n",
    "data = df[numeric_vars].astype(\"float\")\n",
    "data_z = data[numeric_vars].apply(stats.zscore, nan_policy=\"omit\")\n",
    "\n",
    "data_ms = df.loc[df[\"dz_type5\"].isin([\"RMS\", \"PMS\"]), :]\n",
    "data_ms = data_ms[numeric_vars].astype(\"float\")\n",
    "data_ms_z = data_ms[numeric_vars].apply(stats.zscore, nan_policy=\"omit\")"
   ]
  },
  {
   "cell_type": "code",
   "execution_count": 49,
   "id": "75e5b75d",
   "metadata": {},
   "outputs": [
    {
     "name": "stdout",
     "output_type": "stream",
     "text": [
      "         structure   coef      pvals      p_fdr\n",
      "Pul_8        8-Pul -0.347  1.721e-13  6.022e-13\n",
      "LGN_9        9-LGN -0.169  1.017e-03  1.525e-03\n",
      "MD_Pf_12  12-MD-Pf -0.130  9.174e-03  1.284e-02\n",
      "AV_2          2-AV -0.114  1.312e-02  1.621e-02\n",
      "CM_11        11-CM -0.004  9.303e-01  9.303e-01\n",
      "Cla_28      28-Cla  0.070  1.520e-01  1.596e-01\n",
      "Hb_13        13-Hb  0.081  9.988e-02  1.104e-01\n",
      "VPL_7        7-VPL  0.119  1.537e-02  1.793e-02\n",
      "MGN_10      10-MGN  0.123  1.244e-02  1.621e-02\n",
      "Acc_26      26-Acc  0.227  1.767e-06  2.854e-06\n",
      "Amy_34      34-Amy  0.286  9.178e-10  1.606e-09\n",
      "GPi_30      30-GPi  0.299  3.109e-13  9.326e-13\n",
      "Put_31      31-Put  0.308  3.760e-11  7.178e-11\n",
      "RN_32        32-RN  0.309  2.867e-11  6.020e-11\n",
      "GPe_29      29-GPe  0.322  9.869e-13  2.591e-12\n",
      "GP_33        33-GP  0.322  1.298e-13  5.451e-13\n",
      "Cau_27      27-Cau  0.338  3.422e-12  7.985e-12\n",
      "MTT_14      14-MTT  0.355  9.418e-15  6.328e-14\n",
      "VLP_6        6-VLP  0.357  1.205e-14  6.328e-14\n",
      "VLa_5        5-VLa  0.416  2.999e-19  3.149e-18\n",
      "VA_4          4-VA  0.448  2.038e-22  4.281e-21\n"
     ]
    }
   ],
   "source": [
    "model_data = df_z.join(df_thomas_norm_z)\n",
    "outcomes = df_thomas.columns[~df_thomas.columns.isin([\"THALAMUS_1\"])]\n",
    "covariates = \"age + Female + tiv\"\n",
    "\n",
    "cols_orig2 = cols_orig[~cols_orig.isin([\"1-THALAMUS\"])]\n",
    "\n",
    "pvals = {}\n",
    "coefs = {}\n",
    "\n",
    "for outcome in outcomes:\n",
    "    formula = f\"{outcome} ~ choroid_volume + {covariates}\"\n",
    "    res = sm.OLS.from_formula(formula, data=model_data).fit()\n",
    "    pvals[outcome] = res.pvalues['choroid_volume']\n",
    "    coefs[outcome] = res.params['choroid_volume']\n",
    "\n",
    "regression_results = pd.DataFrame({\"coef\": coefs, \"pvals\": pvals})\n",
    "regression_results['p_fdr'] = stats.false_discovery_control(regression_results['pvals'], method='bh')\n",
    "regression_results.insert(0, \"structure\", cols_orig2)\n",
    "regression_results = regression_results.sort_values(by=\"coef\", ascending=True)\n",
    "print(regression_results)"
   ]
  },
  {
   "cell_type": "code",
   "execution_count": 52,
   "id": "fdef8ed0",
   "metadata": {},
   "outputs": [
    {
     "name": "stdout",
     "output_type": "stream",
     "text": [
      "         structure   coef      pvals      p_fdr\n",
      "CM_11        11-CM -0.101  2.903e-03  9.276e-03\n",
      "Cla_28      28-Cla -0.082  2.275e-02  5.309e-02\n",
      "LGN_9        9-LGN -0.073  6.239e-02  1.310e-01\n",
      "MD_Pf_12  12-MD-Pf -0.060  3.092e-03  9.276e-03\n",
      "Hb_13        13-Hb -0.054  2.720e-01  3.569e-01\n",
      "Pul_8        8-Pul -0.052  4.603e-03  1.208e-02\n",
      "MGN_10      10-MGN -0.046  1.427e-01  2.306e-01\n",
      "Put_31      31-Put -0.036  3.358e-01  4.148e-01\n",
      "Acc_26      26-Acc -0.032  4.013e-01  4.435e-01\n",
      "RN_32        32-RN -0.005  8.860e-01  8.860e-01\n",
      "GPe_29      29-GPe  0.020  6.432e-01  6.754e-01\n",
      "GP_33        33-GP  0.036  3.856e-01  4.435e-01\n",
      "AV_2          2-AV  0.042  2.543e-01  3.560e-01\n",
      "Amy_34      34-Amy  0.063  2.069e-01  3.104e-01\n",
      "Cau_27      27-Cau  0.071  1.004e-01  1.758e-01\n",
      "GPi_30      30-GPi  0.074  9.106e-02  1.738e-01\n",
      "VPL_7        7-VPL  0.098  4.088e-04  1.726e-03\n",
      "VLP_6        6-VLP  0.131  4.734e-08  4.970e-07\n",
      "VLa_5        5-VLa  0.159  9.261e-06  6.482e-05\n",
      "MTT_14      14-MTT  0.160  4.111e-04  1.726e-03\n",
      "VA_4          4-VA  0.189  3.023e-09  6.348e-08\n"
     ]
    }
   ],
   "source": [
    "model_data = df_z.join(df_thomas_z)\n",
    "outcomes = df_thomas.columns[~df_thomas.columns.isin([\"THALAMUS_1\"])]\n",
    "covariates = \"age + Female + tiv + THALAMUS_1\"\n",
    "\n",
    "cols_orig2 = cols_orig[~cols_orig.isin([\"1-THALAMUS\"])]\n",
    "\n",
    "pvals = {}\n",
    "coefs = {}\n",
    "\n",
    "for outcome in outcomes:\n",
    "    formula = f\"{outcome} ~ choroid_volume + {covariates}\"\n",
    "    res = sm.OLS.from_formula(formula, data=model_data).fit()\n",
    "    pvals[outcome] = res.pvalues['choroid_volume']\n",
    "    coefs[outcome] = res.params['choroid_volume']\n",
    "\n",
    "regression_results = pd.DataFrame({\"coef\": coefs, \"pvals\": pvals})\n",
    "regression_results['p_fdr'] = stats.false_discovery_control(regression_results['pvals'], method='bh')\n",
    "regression_results.insert(0, \"structure\", cols_orig2)\n",
    "regression_results = regression_results.sort_values(by=\"coef\", ascending=True)\n",
    "print(regression_results)"
   ]
  },
  {
   "cell_type": "code",
   "execution_count": 53,
   "id": "18168406",
   "metadata": {},
   "outputs": [],
   "source": [
    "regression_results.to_csv(\"hips-thomas_regression_covar.csv\", index=False)"
   ]
  },
  {
   "cell_type": "code",
   "execution_count": 22,
   "id": "0463c72f",
   "metadata": {},
   "outputs": [],
   "source": [
    "# reg_results = regression_results[['structure', 'coef', 'pvals', 'p_fdr']]\n",
    "regression_results[['structure', 'coef', 'pvals', 'p_fdr']].to_csv(\"hips-thomas_regression.csv\", index=False)"
   ]
  },
  {
   "cell_type": "code",
   "execution_count": 26,
   "id": "3d393100",
   "metadata": {},
   "outputs": [],
   "source": [
    "from sklearn.linear_model import Lasso\n",
    "from sklearn.model_selection import train_test_split\n",
    "from sklearn.metrics import mean_squared_error\n",
    "from sklearn.impute import SimpleImputer\n",
    "import numpy as np"
   ]
  },
  {
   "cell_type": "code",
   "execution_count": 38,
   "id": "63428dc5",
   "metadata": {},
   "outputs": [
    {
     "name": "stdout",
     "output_type": "stream",
     "text": [
      "Mean Squared Error: 0.8872474190555677\n",
      "Coefficients: [-0.03822869  0.0788567   0.01934477  0.14889012  0.0629965  -0.\n",
      " -0.         -0.         -0.         -0.         -0.          0.13246998\n",
      "  0.          0.03463133 -0.          0.          0.          0.\n",
      "  0.          0.          0.01010236]\n"
     ]
    }
   ],
   "source": [
    "df_thomas = pd.read_csv(data_dir / \"hipsthomas_vols.csv\", index_col=\"subid\")\n",
    "df_thomas_norm = df_thomas.apply(lambda x: x / df_thomas['1-THALAMUS'])\n",
    "df_thomas_z = df_thomas.apply(stats.zscore, nan_policy=\"omit\")\n",
    "df_thomas_norm_z = df_thomas_norm.apply(stats.zscore, nan_policy=\"omit\")\n",
    "# X = df_thomas_z[df_thomas_z.columns[~df_thomas_z.columns.isin([\"THALAMUS_1\"])]]\n",
    "# y = df_z['choroid_volume']\n",
    "# imputer = SimpleImputer(missing_values=np.nan, strategy='mean')\n",
    "# imputer.fit(y)\n",
    "# y = imputer.transform(y)\n",
    "# imputer.fit(X)\n",
    "# X = imputer.transform(X)\n",
    "\n",
    "data = df_thomas_norm_z[df_thomas_z.columns[~df_thomas_z.columns.isin([\"1-THALAMUS\"])]]\n",
    "structs = data.columns\n",
    "data = data.join(df_z['choroid_volume'])\n",
    "data = data.dropna()\n",
    "X = data[structs]\n",
    "y = data['choroid_volume']\n",
    "\n",
    "\n",
    "\n",
    "X_train, X_test, y_train, y_test = train_test_split(X, y, test_size=0.2, random_state=42)\n",
    "\n",
    "# Create a Lasso Regression model with a specific alpha (regularization strength)\n",
    "alpha = 0.1  # Adjust alpha as needed\n",
    "lasso = Lasso(alpha=alpha)\n",
    "\n",
    "# Train the model\n",
    "lasso.fit(X_train, y_train)\n",
    "\n",
    "# Make predictions on the test set\n",
    "y_pred = lasso.predict(X_test)\n",
    "\n",
    "# Evaluate the model\n",
    "mse = mean_squared_error(y_test, y_pred)\n",
    "print(f\"Mean Squared Error: {mse}\")\n",
    "\n",
    "# Print the coefficients (note that some may be zero)\n",
    "print(\"Coefficients:\", lasso.coef_)"
   ]
  },
  {
   "cell_type": "code",
   "execution_count": 39,
   "id": "c5336f4e",
   "metadata": {},
   "outputs": [
    {
     "data": {
      "application/vnd.microsoft.datawrangler.viewer.v0+json": {
       "columns": [
        {
         "name": "index",
         "rawType": "object",
         "type": "string"
        },
        {
         "name": "coef",
         "rawType": "float64",
         "type": "float"
        },
        {
         "name": "abs",
         "rawType": "float64",
         "type": "float"
        }
       ],
       "conversionMethod": "pd.DataFrame",
       "ref": "7f782411-3d42-40c5-8119-4ba46f35ac2d",
       "rows": [
        [
         "6-VLP",
         "0.14889011847372252",
         "0.14889011847372252"
        ],
        [
         "14-MTT",
         "0.13246998157612105",
         "0.13246998157612105"
        ],
        [
         "4-VA",
         "0.07885669806638848",
         "0.07885669806638848"
        ],
        [
         "7-VPL",
         "0.06299649930340283",
         "0.06299649930340283"
        ],
        [
         "2-AV",
         "-0.03822869228320624",
         "0.03822869228320624"
        ],
        [
         "27-Cau",
         "0.034631333129001206",
         "0.034631333129001206"
        ],
        [
         "5-VLa",
         "0.019344774363005496",
         "0.019344774363005496"
        ],
        [
         "34-Amy",
         "0.010102361212494625",
         "0.010102361212494625"
        ],
        [
         "11-CM",
         "-0.0",
         "0.0"
        ],
        [
         "12-MD-Pf",
         "-0.0",
         "0.0"
        ],
        [
         "10-MGN",
         "-0.0",
         "0.0"
        ],
        [
         "9-LGN",
         "-0.0",
         "0.0"
        ],
        [
         "26-Acc",
         "0.0",
         "0.0"
        ],
        [
         "8-Pul",
         "-0.0",
         "0.0"
        ],
        [
         "28-Cla",
         "-0.0",
         "0.0"
        ],
        [
         "29-GPe",
         "0.0",
         "0.0"
        ],
        [
         "30-GPi",
         "0.0",
         "0.0"
        ],
        [
         "31-Put",
         "0.0",
         "0.0"
        ],
        [
         "32-RN",
         "0.0",
         "0.0"
        ],
        [
         "33-GP",
         "0.0",
         "0.0"
        ],
        [
         "13-Hb",
         "-0.0",
         "0.0"
        ]
       ],
       "shape": {
        "columns": 2,
        "rows": 21
       }
      },
      "text/html": [
       "<div>\n",
       "<style scoped>\n",
       "    .dataframe tbody tr th:only-of-type {\n",
       "        vertical-align: middle;\n",
       "    }\n",
       "\n",
       "    .dataframe tbody tr th {\n",
       "        vertical-align: top;\n",
       "    }\n",
       "\n",
       "    .dataframe thead th {\n",
       "        text-align: right;\n",
       "    }\n",
       "</style>\n",
       "<table border=\"1\" class=\"dataframe\">\n",
       "  <thead>\n",
       "    <tr style=\"text-align: right;\">\n",
       "      <th></th>\n",
       "      <th>coef</th>\n",
       "      <th>abs</th>\n",
       "    </tr>\n",
       "  </thead>\n",
       "  <tbody>\n",
       "    <tr>\n",
       "      <th>6-VLP</th>\n",
       "      <td>0.149</td>\n",
       "      <td>0.149</td>\n",
       "    </tr>\n",
       "    <tr>\n",
       "      <th>14-MTT</th>\n",
       "      <td>0.132</td>\n",
       "      <td>0.132</td>\n",
       "    </tr>\n",
       "    <tr>\n",
       "      <th>4-VA</th>\n",
       "      <td>0.079</td>\n",
       "      <td>0.079</td>\n",
       "    </tr>\n",
       "    <tr>\n",
       "      <th>7-VPL</th>\n",
       "      <td>0.063</td>\n",
       "      <td>0.063</td>\n",
       "    </tr>\n",
       "    <tr>\n",
       "      <th>2-AV</th>\n",
       "      <td>-0.038</td>\n",
       "      <td>0.038</td>\n",
       "    </tr>\n",
       "    <tr>\n",
       "      <th>27-Cau</th>\n",
       "      <td>0.035</td>\n",
       "      <td>0.035</td>\n",
       "    </tr>\n",
       "    <tr>\n",
       "      <th>5-VLa</th>\n",
       "      <td>0.019</td>\n",
       "      <td>0.019</td>\n",
       "    </tr>\n",
       "    <tr>\n",
       "      <th>34-Amy</th>\n",
       "      <td>0.010</td>\n",
       "      <td>0.010</td>\n",
       "    </tr>\n",
       "    <tr>\n",
       "      <th>11-CM</th>\n",
       "      <td>-0.000</td>\n",
       "      <td>0.000</td>\n",
       "    </tr>\n",
       "    <tr>\n",
       "      <th>12-MD-Pf</th>\n",
       "      <td>-0.000</td>\n",
       "      <td>0.000</td>\n",
       "    </tr>\n",
       "    <tr>\n",
       "      <th>10-MGN</th>\n",
       "      <td>-0.000</td>\n",
       "      <td>0.000</td>\n",
       "    </tr>\n",
       "    <tr>\n",
       "      <th>9-LGN</th>\n",
       "      <td>-0.000</td>\n",
       "      <td>0.000</td>\n",
       "    </tr>\n",
       "    <tr>\n",
       "      <th>26-Acc</th>\n",
       "      <td>0.000</td>\n",
       "      <td>0.000</td>\n",
       "    </tr>\n",
       "    <tr>\n",
       "      <th>8-Pul</th>\n",
       "      <td>-0.000</td>\n",
       "      <td>0.000</td>\n",
       "    </tr>\n",
       "    <tr>\n",
       "      <th>28-Cla</th>\n",
       "      <td>-0.000</td>\n",
       "      <td>0.000</td>\n",
       "    </tr>\n",
       "    <tr>\n",
       "      <th>29-GPe</th>\n",
       "      <td>0.000</td>\n",
       "      <td>0.000</td>\n",
       "    </tr>\n",
       "    <tr>\n",
       "      <th>30-GPi</th>\n",
       "      <td>0.000</td>\n",
       "      <td>0.000</td>\n",
       "    </tr>\n",
       "    <tr>\n",
       "      <th>31-Put</th>\n",
       "      <td>0.000</td>\n",
       "      <td>0.000</td>\n",
       "    </tr>\n",
       "    <tr>\n",
       "      <th>32-RN</th>\n",
       "      <td>0.000</td>\n",
       "      <td>0.000</td>\n",
       "    </tr>\n",
       "    <tr>\n",
       "      <th>33-GP</th>\n",
       "      <td>0.000</td>\n",
       "      <td>0.000</td>\n",
       "    </tr>\n",
       "    <tr>\n",
       "      <th>13-Hb</th>\n",
       "      <td>-0.000</td>\n",
       "      <td>0.000</td>\n",
       "    </tr>\n",
       "  </tbody>\n",
       "</table>\n",
       "</div>"
      ],
      "text/plain": [
       "           coef    abs\n",
       "6-VLP     0.149  0.149\n",
       "14-MTT    0.132  0.132\n",
       "4-VA      0.079  0.079\n",
       "7-VPL     0.063  0.063\n",
       "2-AV     -0.038  0.038\n",
       "27-Cau    0.035  0.035\n",
       "5-VLa     0.019  0.019\n",
       "34-Amy    0.010  0.010\n",
       "11-CM    -0.000  0.000\n",
       "12-MD-Pf -0.000  0.000\n",
       "10-MGN   -0.000  0.000\n",
       "9-LGN    -0.000  0.000\n",
       "26-Acc    0.000  0.000\n",
       "8-Pul    -0.000  0.000\n",
       "28-Cla   -0.000  0.000\n",
       "29-GPe    0.000  0.000\n",
       "30-GPi    0.000  0.000\n",
       "31-Put    0.000  0.000\n",
       "32-RN     0.000  0.000\n",
       "33-GP     0.000  0.000\n",
       "13-Hb    -0.000  0.000"
      ]
     },
     "execution_count": 39,
     "metadata": {},
     "output_type": "execute_result"
    }
   ],
   "source": [
    "check = pd.DataFrame({\"coef\": lasso.coef_}, index=X.columns)\n",
    "check['abs'] = check['coef'].abs()\n",
    "check = check.sort_values(by=\"abs\", ascending=False)\n",
    "check"
   ]
  },
  {
   "cell_type": "code",
   "execution_count": 40,
   "id": "df227ea1",
   "metadata": {},
   "outputs": [
    {
     "name": "stdout",
     "output_type": "stream",
     "text": [
      "0.008443155185560358\n",
      "0.032755726331618204\n",
      "0.8741261424463812\n"
     ]
    }
   ],
   "source": [
    "from sklearn.linear_model import ElasticNetCV\n",
    "from sklearn.model_selection import train_test_split\n",
    "\n",
    "data = df_thomas_norm_z[df_thomas_z.columns[~df_thomas_z.columns.isin([\"1-THALAMUS\"])]]\n",
    "structs = data.columns\n",
    "data = data.join(df_z['choroid_volume'])\n",
    "data = data.dropna()\n",
    "X = data[structs]\n",
    "y = data['choroid_volume']\n",
    "\n",
    "X_train, X_test, y_train, y_test = train_test_split(X, y, test_size=0.2, random_state=42)\n",
    "\n",
    "regr = ElasticNetCV(cv=10, random_state=0)\n",
    "regr.fit(X_train, y_train)\n",
    "print(regr.alpha_)\n",
    "print(regr.intercept_)\n",
    "y_pred = regr.predict(X_test)\n",
    "\n",
    "mse = mean_squared_error(y_test, y_pred)\n",
    "print(mse)"
   ]
  },
  {
   "cell_type": "code",
   "execution_count": 41,
   "id": "77a3950a",
   "metadata": {},
   "outputs": [
    {
     "data": {
      "application/vnd.microsoft.datawrangler.viewer.v0+json": {
       "columns": [
        {
         "name": "index",
         "rawType": "object",
         "type": "string"
        },
        {
         "name": "coef",
         "rawType": "float64",
         "type": "float"
        },
        {
         "name": "abs",
         "rawType": "float64",
         "type": "float"
        }
       ],
       "conversionMethod": "pd.DataFrame",
       "ref": "0d43080f-352e-4dd4-9258-84bdb2e118c6",
       "rows": [
        [
         "14-MTT",
         "0.19676567515390375",
         "0.19676567515390375"
        ],
        [
         "6-VLP",
         "0.17796668187433476",
         "0.17796668187433476"
        ],
        [
         "31-Put",
         "0.16562039865126285",
         "0.16562039865126285"
        ],
        [
         "29-GPe",
         "-0.15761732550411642",
         "0.15761732550411642"
        ],
        [
         "7-VPL",
         "0.14286576701858775",
         "0.14286576701858775"
        ],
        [
         "30-GPi",
         "0.13774991321321325",
         "0.13774991321321325"
        ],
        [
         "32-RN",
         "-0.11480409747709627",
         "0.11480409747709627"
        ],
        [
         "27-Cau",
         "0.09964651595366823",
         "0.09964651595366823"
        ],
        [
         "2-AV",
         "-0.09045033822317115",
         "0.09045033822317115"
        ],
        [
         "34-Amy",
         "0.09027278639616482",
         "0.09027278639616482"
        ],
        [
         "10-MGN",
         "-0.09025232619968158",
         "0.09025232619968158"
        ],
        [
         "26-Acc",
         "-0.08900406859874012",
         "0.08900406859874012"
        ],
        [
         "4-VA",
         "0.08427533787569766",
         "0.08427533787569766"
        ],
        [
         "13-Hb",
         "-0.0629998517805153",
         "0.0629998517805153"
        ],
        [
         "11-CM",
         "-0.06263900612459623",
         "0.06263900612459623"
        ],
        [
         "12-MD-Pf",
         "-0.04794314649251122",
         "0.04794314649251122"
        ],
        [
         "8-Pul",
         "-0.037066920248621564",
         "0.037066920248621564"
        ],
        [
         "5-VLa",
         "0.031938464533059416",
         "0.031938464533059416"
        ],
        [
         "28-Cla",
         "-0.011492611181071286",
         "0.011492611181071286"
        ],
        [
         "9-LGN",
         "-0.00231082790930254",
         "0.00231082790930254"
        ],
        [
         "33-GP",
         "-0.0",
         "0.0"
        ]
       ],
       "shape": {
        "columns": 2,
        "rows": 21
       }
      },
      "text/html": [
       "<div>\n",
       "<style scoped>\n",
       "    .dataframe tbody tr th:only-of-type {\n",
       "        vertical-align: middle;\n",
       "    }\n",
       "\n",
       "    .dataframe tbody tr th {\n",
       "        vertical-align: top;\n",
       "    }\n",
       "\n",
       "    .dataframe thead th {\n",
       "        text-align: right;\n",
       "    }\n",
       "</style>\n",
       "<table border=\"1\" class=\"dataframe\">\n",
       "  <thead>\n",
       "    <tr style=\"text-align: right;\">\n",
       "      <th></th>\n",
       "      <th>coef</th>\n",
       "      <th>abs</th>\n",
       "    </tr>\n",
       "  </thead>\n",
       "  <tbody>\n",
       "    <tr>\n",
       "      <th>14-MTT</th>\n",
       "      <td>0.197</td>\n",
       "      <td>0.197</td>\n",
       "    </tr>\n",
       "    <tr>\n",
       "      <th>6-VLP</th>\n",
       "      <td>0.178</td>\n",
       "      <td>0.178</td>\n",
       "    </tr>\n",
       "    <tr>\n",
       "      <th>31-Put</th>\n",
       "      <td>0.166</td>\n",
       "      <td>0.166</td>\n",
       "    </tr>\n",
       "    <tr>\n",
       "      <th>29-GPe</th>\n",
       "      <td>-0.158</td>\n",
       "      <td>0.158</td>\n",
       "    </tr>\n",
       "    <tr>\n",
       "      <th>7-VPL</th>\n",
       "      <td>0.143</td>\n",
       "      <td>0.143</td>\n",
       "    </tr>\n",
       "    <tr>\n",
       "      <th>30-GPi</th>\n",
       "      <td>0.138</td>\n",
       "      <td>0.138</td>\n",
       "    </tr>\n",
       "    <tr>\n",
       "      <th>32-RN</th>\n",
       "      <td>-0.115</td>\n",
       "      <td>0.115</td>\n",
       "    </tr>\n",
       "    <tr>\n",
       "      <th>27-Cau</th>\n",
       "      <td>0.100</td>\n",
       "      <td>0.100</td>\n",
       "    </tr>\n",
       "    <tr>\n",
       "      <th>2-AV</th>\n",
       "      <td>-0.090</td>\n",
       "      <td>0.090</td>\n",
       "    </tr>\n",
       "    <tr>\n",
       "      <th>34-Amy</th>\n",
       "      <td>0.090</td>\n",
       "      <td>0.090</td>\n",
       "    </tr>\n",
       "    <tr>\n",
       "      <th>10-MGN</th>\n",
       "      <td>-0.090</td>\n",
       "      <td>0.090</td>\n",
       "    </tr>\n",
       "    <tr>\n",
       "      <th>26-Acc</th>\n",
       "      <td>-0.089</td>\n",
       "      <td>0.089</td>\n",
       "    </tr>\n",
       "    <tr>\n",
       "      <th>4-VA</th>\n",
       "      <td>0.084</td>\n",
       "      <td>0.084</td>\n",
       "    </tr>\n",
       "    <tr>\n",
       "      <th>13-Hb</th>\n",
       "      <td>-0.063</td>\n",
       "      <td>0.063</td>\n",
       "    </tr>\n",
       "    <tr>\n",
       "      <th>11-CM</th>\n",
       "      <td>-0.063</td>\n",
       "      <td>0.063</td>\n",
       "    </tr>\n",
       "    <tr>\n",
       "      <th>12-MD-Pf</th>\n",
       "      <td>-0.048</td>\n",
       "      <td>0.048</td>\n",
       "    </tr>\n",
       "    <tr>\n",
       "      <th>8-Pul</th>\n",
       "      <td>-0.037</td>\n",
       "      <td>0.037</td>\n",
       "    </tr>\n",
       "    <tr>\n",
       "      <th>5-VLa</th>\n",
       "      <td>0.032</td>\n",
       "      <td>0.032</td>\n",
       "    </tr>\n",
       "    <tr>\n",
       "      <th>28-Cla</th>\n",
       "      <td>-0.011</td>\n",
       "      <td>0.011</td>\n",
       "    </tr>\n",
       "    <tr>\n",
       "      <th>9-LGN</th>\n",
       "      <td>-0.002</td>\n",
       "      <td>0.002</td>\n",
       "    </tr>\n",
       "    <tr>\n",
       "      <th>33-GP</th>\n",
       "      <td>-0.000</td>\n",
       "      <td>0.000</td>\n",
       "    </tr>\n",
       "  </tbody>\n",
       "</table>\n",
       "</div>"
      ],
      "text/plain": [
       "           coef    abs\n",
       "14-MTT    0.197  0.197\n",
       "6-VLP     0.178  0.178\n",
       "31-Put    0.166  0.166\n",
       "29-GPe   -0.158  0.158\n",
       "7-VPL     0.143  0.143\n",
       "30-GPi    0.138  0.138\n",
       "32-RN    -0.115  0.115\n",
       "27-Cau    0.100  0.100\n",
       "2-AV     -0.090  0.090\n",
       "34-Amy    0.090  0.090\n",
       "10-MGN   -0.090  0.090\n",
       "26-Acc   -0.089  0.089\n",
       "4-VA      0.084  0.084\n",
       "13-Hb    -0.063  0.063\n",
       "11-CM    -0.063  0.063\n",
       "12-MD-Pf -0.048  0.048\n",
       "8-Pul    -0.037  0.037\n",
       "5-VLa     0.032  0.032\n",
       "28-Cla   -0.011  0.011\n",
       "9-LGN    -0.002  0.002\n",
       "33-GP    -0.000  0.000"
      ]
     },
     "execution_count": 41,
     "metadata": {},
     "output_type": "execute_result"
    }
   ],
   "source": [
    "check = pd.DataFrame({\"coef\": regr.coef_}, index=X.columns)\n",
    "check['abs'] = check['coef'].abs()\n",
    "check = check.sort_values(by=\"abs\", ascending=False)\n",
    "check"
   ]
  },
  {
   "cell_type": "code",
   "execution_count": 43,
   "id": "d10db014",
   "metadata": {},
   "outputs": [
    {
     "name": "stdout",
     "output_type": "stream",
     "text": [
      "0.003201317522507642\n",
      "0.02900795781463406\n",
      "0.7212198554831487\n"
     ]
    }
   ],
   "source": [
    "from sklearn.linear_model import ElasticNetCV\n",
    "from sklearn.model_selection import train_test_split\n",
    "\n",
    "data = df_thomas_z.join(df_z['choroid_volume'])\n",
    "data = data.dropna()\n",
    "X = data[df_thomas_z.columns[~df_thomas_z.columns.isin([\"1-THALAMUS\"])]]\n",
    "y = data['choroid_volume']\n",
    "X_train, X_test, y_train, y_test = train_test_split(X, y, test_size=0.2, random_state=42)\n",
    "\n",
    "regr = ElasticNetCV(cv=10, random_state=0)\n",
    "regr.fit(X_train, y_train)\n",
    "print(regr.alpha_)\n",
    "print(regr.intercept_)\n",
    "y_pred = regr.predict(X_test)\n",
    "\n",
    "mse = mean_squared_error(y_test, y_pred)\n",
    "print(mse)"
   ]
  },
  {
   "cell_type": "code",
   "execution_count": 45,
   "id": "43ef06f1",
   "metadata": {},
   "outputs": [
    {
     "data": {
      "application/vnd.microsoft.datawrangler.viewer.v0+json": {
       "columns": [
        {
         "name": "index",
         "rawType": "object",
         "type": "string"
        },
        {
         "name": "coef",
         "rawType": "float64",
         "type": "float"
        },
        {
         "name": "abs",
         "rawType": "float64",
         "type": "float"
        }
       ],
       "conversionMethod": "pd.DataFrame",
       "ref": "97fd415e-9d73-402f-a884-8435bedfb2ff",
       "rows": [
        [
         "12-MD-Pf",
         "-0.33104662488114717",
         "0.33104662488114717"
        ],
        [
         "8-Pul",
         "-0.22892410533462246",
         "0.22892410533462246"
        ],
        [
         "7-VPL",
         "0.21681994300223867",
         "0.21681994300223867"
        ],
        [
         "14-MTT",
         "0.16346570385262038",
         "0.16346570385262038"
        ],
        [
         "30-GPi",
         "0.16252985690010083",
         "0.16252985690010083"
        ],
        [
         "6-VLP",
         "0.15236248247296494",
         "0.15236248247296494"
        ],
        [
         "29-GPe",
         "-0.151594485567935",
         "0.151594485567935"
        ],
        [
         "26-Acc",
         "-0.12930860714871162",
         "0.12930860714871162"
        ],
        [
         "27-Cau",
         "0.11597639414054546",
         "0.11597639414054546"
        ],
        [
         "11-CM",
         "-0.11388774683618554",
         "0.11388774683618554"
        ],
        [
         "34-Amy",
         "0.11276591456375319",
         "0.11276591456375319"
        ],
        [
         "10-MGN",
         "-0.11105612241303647",
         "0.11105612241303647"
        ],
        [
         "31-Put",
         "0.10622629610425716",
         "0.10622629610425716"
        ],
        [
         "32-RN",
         "-0.10114334150133897",
         "0.10114334150133897"
        ],
        [
         "28-Cla",
         "-0.0829690632008019",
         "0.0829690632008019"
        ],
        [
         "4-VA",
         "0.07816232977117556",
         "0.07816232977117556"
        ],
        [
         "2-AV",
         "-0.07543582842152487",
         "0.07543582842152487"
        ],
        [
         "13-Hb",
         "-0.05235161898163535",
         "0.05235161898163535"
        ],
        [
         "5-VLa",
         "0.04676409781287268",
         "0.04676409781287268"
        ],
        [
         "9-LGN",
         "-0.0436941031777034",
         "0.0436941031777034"
        ],
        [
         "33-GP",
         "-0.0",
         "0.0"
        ]
       ],
       "shape": {
        "columns": 2,
        "rows": 21
       }
      },
      "text/html": [
       "<div>\n",
       "<style scoped>\n",
       "    .dataframe tbody tr th:only-of-type {\n",
       "        vertical-align: middle;\n",
       "    }\n",
       "\n",
       "    .dataframe tbody tr th {\n",
       "        vertical-align: top;\n",
       "    }\n",
       "\n",
       "    .dataframe thead th {\n",
       "        text-align: right;\n",
       "    }\n",
       "</style>\n",
       "<table border=\"1\" class=\"dataframe\">\n",
       "  <thead>\n",
       "    <tr style=\"text-align: right;\">\n",
       "      <th></th>\n",
       "      <th>coef</th>\n",
       "      <th>abs</th>\n",
       "    </tr>\n",
       "  </thead>\n",
       "  <tbody>\n",
       "    <tr>\n",
       "      <th>12-MD-Pf</th>\n",
       "      <td>-0.331</td>\n",
       "      <td>0.331</td>\n",
       "    </tr>\n",
       "    <tr>\n",
       "      <th>8-Pul</th>\n",
       "      <td>-0.229</td>\n",
       "      <td>0.229</td>\n",
       "    </tr>\n",
       "    <tr>\n",
       "      <th>7-VPL</th>\n",
       "      <td>0.217</td>\n",
       "      <td>0.217</td>\n",
       "    </tr>\n",
       "    <tr>\n",
       "      <th>14-MTT</th>\n",
       "      <td>0.163</td>\n",
       "      <td>0.163</td>\n",
       "    </tr>\n",
       "    <tr>\n",
       "      <th>30-GPi</th>\n",
       "      <td>0.163</td>\n",
       "      <td>0.163</td>\n",
       "    </tr>\n",
       "    <tr>\n",
       "      <th>6-VLP</th>\n",
       "      <td>0.152</td>\n",
       "      <td>0.152</td>\n",
       "    </tr>\n",
       "    <tr>\n",
       "      <th>29-GPe</th>\n",
       "      <td>-0.152</td>\n",
       "      <td>0.152</td>\n",
       "    </tr>\n",
       "    <tr>\n",
       "      <th>26-Acc</th>\n",
       "      <td>-0.129</td>\n",
       "      <td>0.129</td>\n",
       "    </tr>\n",
       "    <tr>\n",
       "      <th>27-Cau</th>\n",
       "      <td>0.116</td>\n",
       "      <td>0.116</td>\n",
       "    </tr>\n",
       "    <tr>\n",
       "      <th>11-CM</th>\n",
       "      <td>-0.114</td>\n",
       "      <td>0.114</td>\n",
       "    </tr>\n",
       "    <tr>\n",
       "      <th>34-Amy</th>\n",
       "      <td>0.113</td>\n",
       "      <td>0.113</td>\n",
       "    </tr>\n",
       "    <tr>\n",
       "      <th>10-MGN</th>\n",
       "      <td>-0.111</td>\n",
       "      <td>0.111</td>\n",
       "    </tr>\n",
       "    <tr>\n",
       "      <th>31-Put</th>\n",
       "      <td>0.106</td>\n",
       "      <td>0.106</td>\n",
       "    </tr>\n",
       "    <tr>\n",
       "      <th>32-RN</th>\n",
       "      <td>-0.101</td>\n",
       "      <td>0.101</td>\n",
       "    </tr>\n",
       "    <tr>\n",
       "      <th>28-Cla</th>\n",
       "      <td>-0.083</td>\n",
       "      <td>0.083</td>\n",
       "    </tr>\n",
       "    <tr>\n",
       "      <th>4-VA</th>\n",
       "      <td>0.078</td>\n",
       "      <td>0.078</td>\n",
       "    </tr>\n",
       "    <tr>\n",
       "      <th>2-AV</th>\n",
       "      <td>-0.075</td>\n",
       "      <td>0.075</td>\n",
       "    </tr>\n",
       "    <tr>\n",
       "      <th>13-Hb</th>\n",
       "      <td>-0.052</td>\n",
       "      <td>0.052</td>\n",
       "    </tr>\n",
       "    <tr>\n",
       "      <th>5-VLa</th>\n",
       "      <td>0.047</td>\n",
       "      <td>0.047</td>\n",
       "    </tr>\n",
       "    <tr>\n",
       "      <th>9-LGN</th>\n",
       "      <td>-0.044</td>\n",
       "      <td>0.044</td>\n",
       "    </tr>\n",
       "    <tr>\n",
       "      <th>33-GP</th>\n",
       "      <td>-0.000</td>\n",
       "      <td>0.000</td>\n",
       "    </tr>\n",
       "  </tbody>\n",
       "</table>\n",
       "</div>"
      ],
      "text/plain": [
       "           coef    abs\n",
       "12-MD-Pf -0.331  0.331\n",
       "8-Pul    -0.229  0.229\n",
       "7-VPL     0.217  0.217\n",
       "14-MTT    0.163  0.163\n",
       "30-GPi    0.163  0.163\n",
       "6-VLP     0.152  0.152\n",
       "29-GPe   -0.152  0.152\n",
       "26-Acc   -0.129  0.129\n",
       "27-Cau    0.116  0.116\n",
       "11-CM    -0.114  0.114\n",
       "34-Amy    0.113  0.113\n",
       "10-MGN   -0.111  0.111\n",
       "31-Put    0.106  0.106\n",
       "32-RN    -0.101  0.101\n",
       "28-Cla   -0.083  0.083\n",
       "4-VA      0.078  0.078\n",
       "2-AV     -0.075  0.075\n",
       "13-Hb    -0.052  0.052\n",
       "5-VLa     0.047  0.047\n",
       "9-LGN    -0.044  0.044\n",
       "33-GP    -0.000  0.000"
      ]
     },
     "execution_count": 45,
     "metadata": {},
     "output_type": "execute_result"
    }
   ],
   "source": [
    "check = pd.DataFrame({\"coef\": regr.coef_}, index=X.columns)\n",
    "check['abs'] = check['coef'].abs()\n",
    "check = check.sort_values(by=\"abs\", ascending=False)\n",
    "check"
   ]
  }
 ],
 "metadata": {
  "kernelspec": {
   "display_name": "monai",
   "language": "python",
   "name": "python3"
  },
  "language_info": {
   "codemirror_mode": {
    "name": "ipython",
    "version": 3
   },
   "file_extension": ".py",
   "mimetype": "text/x-python",
   "name": "python",
   "nbconvert_exporter": "python",
   "pygments_lexer": "ipython3",
   "version": "3.12.4"
  }
 },
 "nbformat": 4,
 "nbformat_minor": 5
}
