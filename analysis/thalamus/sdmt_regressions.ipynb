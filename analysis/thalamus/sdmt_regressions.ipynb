{
 "cells": [
  {
   "cell_type": "code",
   "execution_count": 1,
   "id": "76cab6dd",
   "metadata": {},
   "outputs": [],
   "source": [
    "import pandas as pd\n",
    "from warnings import simplefilter\n",
    "\n",
    "simplefilter(action=\"ignore\", category=pd.errors.PerformanceWarning)\n",
    "from pathlib import Path\n",
    "import json\n",
    "import numpy as np\n",
    "from collections import defaultdict\n",
    "import matplotlib.pyplot as plt\n",
    "from datetime import datetime\n",
    "import re\n",
    "from scipy import stats\n",
    "import numpy as np\n",
    "import statsmodels.api as sm\n",
    "import statsmodels\n",
    "from matplotlib import colormaps\n",
    "from tqdm.notebook import tqdm\n",
    "import helpers\n",
    "from collections import defaultdict\n",
    "from tqdm.notebook import tqdm\n",
    "\n",
    "\n",
    "from statsmodels.stats.outliers_influence import variance_inflation_factor\n",
    "from statsmodels.regression.linear_model import OLS\n",
    "\n",
    "from mri_data import file_manager as fm"
   ]
  },
  {
   "cell_type": "markdown",
   "id": "890635c5",
   "metadata": {},
   "source": [
    "## Load Data"
   ]
  },
  {
   "cell_type": "code",
   "execution_count": 2,
   "id": "000132f9",
   "metadata": {},
   "outputs": [],
   "source": [
    "drive_root = fm.get_drive_root()\n",
    "dataroot = drive_root / \"3Tpioneer_bids\"\n",
    "data_dir = Path(\"/home/srs-9/Projects/ms_mri/data\")\n",
    "fig_path = Path(\n",
    "    \"/home/srs-9/Projects/ms_mri/analysis/thalamus/figures_tables/sdmt_regressions\"\n",
    ")\n",
    "\n",
    "choroid_volumes = pd.read_csv(\n",
    "    \"/home/srs-9/Projects/ms_mri/data/choroid_aschoplex_volumes.csv\", index_col=\"subid\"\n",
    ").dropna()\n",
    "tiv = pd.read_csv(\"/home/srs-9/Projects/ms_mri/data/tiv_data.csv\", index_col=\"subid\")\n",
    "\n",
    "df = pd.read_csv(\n",
    "    \"/home/srs-9/Projects/ms_mri/data/clinical_data_processed.csv\", index_col=\"subid\"\n",
    ")\n",
    "sdmt = pd.read_csv(\n",
    "    \"/home/srs-9/Projects/ms_mri/analysis/thalamus/SDMT_sheet.csv\", index_col=\"subid\"\n",
    ")\n",
    "df_thomas = pd.read_csv(data_dir / \"hipsthomas_vols.csv\", index_col=\"subid\")\n",
    "\n",
    "df = df.join([choroid_volumes, tiv, sdmt['SDMT'], df_thomas['1-THALAMUS']])\n",
    "df['SDMT'] = pd.to_numeric(df['SDMT'], errors='coerce')\n",
    "df.rename(columns={'1-THALAMUS': 'THALAMUS_1'}, inplace=True)\n",
    "\n",
    "df_z = df.copy()\n",
    "numeric_cols = df.select_dtypes(include='number').columns\n",
    "df_z[numeric_cols] = df_z[numeric_cols].apply(stats.zscore, nan_policy=\"omit\")\n",
    "\n",
    "df_ms = df[df['dz_type2'] == \"MS\"]\n",
    "df_ms_z = df_ms.copy()\n",
    "df_ms_z[numeric_cols] = df_ms_z[numeric_cols].apply(stats.zscore, nan_policy=\"omit\")\n",
    "\n",
    "# assert df.loc[1340, 'EDSS'] == 2.5\n",
    "\n",
    "viridis = colormaps['viridis'].resampled(20)\n",
    "\n",
    "colors = helpers.get_colors()"
   ]
  },
  {
   "cell_type": "markdown",
   "id": "4488e439",
   "metadata": {},
   "source": [
    "## Functions"
   ]
  },
  {
   "cell_type": "code",
   "execution_count": 3,
   "id": "61b9c591",
   "metadata": {},
   "outputs": [],
   "source": [
    "def plot_regression(\n",
    "    data, predictor, outcome, covariates, xlabel=None, ylabel=None, title=None\n",
    "):\n",
    "    plus_covariates = \"\"\n",
    "    if len(covariates) > 0:\n",
    "        plus_covariates = f\"+ {' + '.join(covariates)}\"\n",
    "    if xlabel is None:\n",
    "        xlabel = predictor\n",
    "    if ylabel is None:\n",
    "        ylabel = outcome\n",
    "    if title is None:\n",
    "        title = f\"{outcome} vs {predictor}\"\n",
    "\n",
    "    formula = f\"{outcome} ~ {predictor} {plus_covariates}\"\n",
    "    res = sm.OLS.from_formula(formula, data=data).fit()\n",
    "    x, y_pred, y_lims = helpers.get_regression_y(data, res, predictor, outcome)\n",
    "\n",
    "    fig, axs = plt.subplot_mosaic(\n",
    "        [['histx', '.'], ['scatter', 'histy']],\n",
    "        figsize=(8, 6),\n",
    "        width_ratios=(4, 1),\n",
    "        height_ratios=(1, 4),\n",
    "        layout='constrained',\n",
    "    )\n",
    "\n",
    "    helpers.scatter_hist(\n",
    "        data[predictor],\n",
    "        data[outcome],\n",
    "        axs['scatter'],\n",
    "        axs['histx'],\n",
    "        axs['histy'],\n",
    "        light_color=colors['light blue1'],\n",
    "        dark_color=colors['dark blue1'],\n",
    "    )\n",
    "\n",
    "    axs['scatter'].plot(x, y_pred, color=\"black\")\n",
    "    axs['scatter'].fill_between(\n",
    "        x, y_lims[0], y_lims[1], alpha=0.4, color=colors[\"light blue1\"]\n",
    "    )\n",
    "    axs['scatter'].set_ylabel(ylabel)\n",
    "    axs['scatter'].set_xlabel(xlabel)\n",
    "    fig.suptitle(title)\n",
    "    return fig, axs"
   ]
  },
  {
   "cell_type": "markdown",
   "id": "9e573ea7",
   "metadata": {},
   "source": [
    "## Assumption Checks"
   ]
  },
  {
   "cell_type": "markdown",
   "id": "dc5040d9",
   "metadata": {},
   "source": [
    "SDMT looks normal enough, probably don't need to test further"
   ]
  },
  {
   "cell_type": "code",
   "execution_count": 4,
   "id": "6ca12090",
   "metadata": {},
   "outputs": [
    {
     "data": {
      "text/plain": [
       "(array([  4.,  18.,  23.,  50.,  70., 110.,  95.,  50.,  25.,   9.]),\n",
       " array([11. , 18.6, 26.2, 33.8, 41.4, 49. , 56.6, 64.2, 71.8, 79.4, 87. ]),\n",
       " <BarContainer object of 10 artists>)"
      ]
     },
     "execution_count": 4,
     "metadata": {},
     "output_type": "execute_result"
    },
    {
     "data": {
      "image/png": "[encoded data removed]",
      "text/plain": [
       "<Figure size 640x480 with 1 Axes>"
      ]
     },
     "metadata": {},
     "output_type": "display_data"
    }
   ],
   "source": [
    "plt.hist(df['SDMT'])"
   ]
  },
  {
   "cell_type": "markdown",
   "id": "7be765ec",
   "metadata": {},
   "source": [
    "## Regressions"
   ]
  },
  {
   "cell_type": "markdown",
   "id": "fa7c9cad",
   "metadata": {},
   "source": [
    "Regress SDMT against various MRI features independently"
   ]
  },
  {
   "cell_type": "code",
   "execution_count": null,
   "id": "e784a51c",
   "metadata": {},
   "outputs": [
    {
     "data": {
      "application/vnd.microsoft.datawrangler.viewer.v0+json": {
       "columns": [
        {
         "name": "structure",
         "rawType": "object",
         "type": "string"
        },
        {
         "name": "coef",
         "rawType": "float64",
         "type": "float"
        },
        {
         "name": "stderr",
         "rawType": "float64",
         "type": "float"
        },
        {
         "name": "llci",
         "rawType": "float64",
         "type": "float"
        },
        {
         "name": "ulci",
         "rawType": "float64",
         "type": "float"
        },
        {
         "name": "pvals",
         "rawType": "float64",
         "type": "float"
        },
        {
         "name": "ci",
         "rawType": "object",
         "type": "string"
        },
        {
         "name": "p_fdr",
         "rawType": "float64",
         "type": "float"
        },
        {
         "name": "R2",
         "rawType": "float64",
         "type": "float"
        }
       ],
       "ref": "def49b72-84fe-4f0e-8930-d525df17e28e",
       "rows": [
        [
         "brain",
         "0.23312140798012793",
         "0.046615631317217805",
         "0.13663130024027317",
         "0.3296115157199827",
         "2.766091495641599e-06",
         "[0.136631, 0.329612]",
         "4.425746393026559e-06",
         "0.19531989269352523"
        ],
        [
         "white",
         "0.10440428776388301",
         "0.04601823056235323",
         "0.013418877317678879",
         "0.19538969821008714",
         "0.02460754246365926",
         "[0.013419, 0.195390]",
         "0.02460754246365926",
         "0.16438109747068896"
        ],
        [
         "grey",
         "0.29123168056574417",
         "0.048227910011157255",
         "0.19086344291196838",
         "0.39159991821951995",
         "2.14376922004694e-08",
         "[0.190863, 0.391600]",
         "4.28753844009388e-08",
         "0.211987213157809"
        ],
        [
         "cortical_thickness",
         "0.36101904118080097",
         "0.04768394432121407",
         "0.26959338825204027",
         "0.4524446941095617",
         "5.762797191307956e-14",
         "[0.269593, 0.452445]",
         "4.610237753046365e-13",
         "0.2548604753543743"
        ],
        [
         "THALAMUS_1",
         "0.35867141349366183",
         "0.05509611931471342",
         "0.26338290825534966",
         "0.453959918731974",
         "6.881415698742056e-13",
         "[0.263383, 0.453960]",
         "2.7525662794968225e-12",
         "0.24672088469844589"
        ],
        [
         "t2lv",
         "-0.266236997983629",
         "0.07333400286724942",
         "-0.3493924374132569",
         "-0.18308155855400113",
         "7.447194665189203e-10",
         "[-0.349392, -0.183082]",
         "1.9859185773837874e-09",
         "0.22339451537869515"
        ],
        [
         "PRL",
         "-0.14596715014534364",
         "0.04759595846822625",
         "-0.233574064588064",
         "-0.05836023570262326",
         "0.0011405985647086122",
         "[-0.233574, -0.058360]",
         "0.0014126439430321178",
         "0.17462626939235015"
        ],
        [
         "choroid_volume",
         "-0.15797488027439788",
         "0.05503920849570311",
         "-0.25346890647270437",
         "-0.062480854076091386",
         "0.001236063450153103",
         "[-0.253469, -0.062481]",
         "0.0014126439430321178",
         "0.17435288896838164"
        ]
       ],
       "shape": {
        "columns": 8,
        "rows": 8
       }
      },
      "text/html": [
       "<div>\n",
       "<style scoped>\n",
       "    .dataframe tbody tr th:only-of-type {\n",
       "        vertical-align: middle;\n",
       "    }\n",
       "\n",
       "    .dataframe tbody tr th {\n",
       "        vertical-align: top;\n",
       "    }\n",
       "\n",
       "    .dataframe thead th {\n",
       "        text-align: right;\n",
       "    }\n",
       "</style>\n",
       "<table border=\"1\" class=\"dataframe\">\n",
       "  <thead>\n",
       "    <tr style=\"text-align: right;\">\n",
       "      <th></th>\n",
       "      <th>coef</th>\n",
       "      <th>stderr</th>\n",
       "      <th>llci</th>\n",
       "      <th>ulci</th>\n",
       "      <th>pvals</th>\n",
       "      <th>ci</th>\n",
       "      <th>p_fdr</th>\n",
       "      <th>R2</th>\n",
       "    </tr>\n",
       "    <tr>\n",
       "      <th>structure</th>\n",
       "      <th></th>\n",
       "      <th></th>\n",
       "      <th></th>\n",
       "      <th></th>\n",
       "      <th></th>\n",
       "      <th></th>\n",
       "      <th></th>\n",
       "      <th></th>\n",
       "    </tr>\n",
       "  </thead>\n",
       "  <tbody>\n",
       "    <tr>\n",
       "      <th>brain</th>\n",
       "      <td>0.233121</td>\n",
       "      <td>0.046616</td>\n",
       "      <td>0.136631</td>\n",
       "      <td>0.329612</td>\n",
       "      <td>2.766091e-06</td>\n",
       "      <td>[0.136631, 0.329612]</td>\n",
       "      <td>4.425746e-06</td>\n",
       "      <td>0.195320</td>\n",
       "    </tr>\n",
       "    <tr>\n",
       "      <th>white</th>\n",
       "      <td>0.104404</td>\n",
       "      <td>0.046018</td>\n",
       "      <td>0.013419</td>\n",
       "      <td>0.195390</td>\n",
       "      <td>2.460754e-02</td>\n",
       "      <td>[0.013419, 0.195390]</td>\n",
       "      <td>2.460754e-02</td>\n",
       "      <td>0.164381</td>\n",
       "    </tr>\n",
       "    <tr>\n",
       "      <th>grey</th>\n",
       "      <td>0.291232</td>\n",
       "      <td>0.048228</td>\n",
       "      <td>0.190863</td>\n",
       "      <td>0.391600</td>\n",
       "      <td>2.143769e-08</td>\n",
       "      <td>[0.190863, 0.391600]</td>\n",
       "      <td>4.287538e-08</td>\n",
       "      <td>0.211987</td>\n",
       "    </tr>\n",
       "    <tr>\n",
       "      <th>cortical_thickness</th>\n",
       "      <td>0.361019</td>\n",
       "      <td>0.047684</td>\n",
       "      <td>0.269593</td>\n",
       "      <td>0.452445</td>\n",
       "      <td>5.762797e-14</td>\n",
       "      <td>[0.269593, 0.452445]</td>\n",
       "      <td>4.610238e-13</td>\n",
       "      <td>0.254860</td>\n",
       "    </tr>\n",
       "    <tr>\n",
       "      <th>THALAMUS_1</th>\n",
       "      <td>0.358671</td>\n",
       "      <td>0.055096</td>\n",
       "      <td>0.263383</td>\n",
       "      <td>0.453960</td>\n",
       "      <td>6.881416e-13</td>\n",
       "      <td>[0.263383, 0.453960]</td>\n",
       "      <td>2.752566e-12</td>\n",
       "      <td>0.246721</td>\n",
       "    </tr>\n",
       "    <tr>\n",
       "      <th>t2lv</th>\n",
       "      <td>-0.266237</td>\n",
       "      <td>0.073334</td>\n",
       "      <td>-0.349392</td>\n",
       "      <td>-0.183082</td>\n",
       "      <td>7.447195e-10</td>\n",
       "      <td>[-0.349392, -0.183082]</td>\n",
       "      <td>1.985919e-09</td>\n",
       "      <td>0.223395</td>\n",
       "    </tr>\n",
       "    <tr>\n",
       "      <th>PRL</th>\n",
       "      <td>-0.145967</td>\n",
       "      <td>0.047596</td>\n",
       "      <td>-0.233574</td>\n",
       "      <td>-0.058360</td>\n",
       "      <td>1.140599e-03</td>\n",
       "      <td>[-0.233574, -0.058360]</td>\n",
       "      <td>1.412644e-03</td>\n",
       "      <td>0.174626</td>\n",
       "    </tr>\n",
       "    <tr>\n",
       "      <th>choroid_volume</th>\n",
       "      <td>-0.157975</td>\n",
       "      <td>0.055039</td>\n",
       "      <td>-0.253469</td>\n",
       "      <td>-0.062481</td>\n",
       "      <td>1.236063e-03</td>\n",
       "      <td>[-0.253469, -0.062481]</td>\n",
       "      <td>1.412644e-03</td>\n",
       "      <td>0.174353</td>\n",
       "    </tr>\n",
       "  </tbody>\n",
       "</table>\n",
       "</div>"
      ],
      "text/plain": [
       "                        coef    stderr      llci      ulci         pvals  \\\n",
       "structure                                                                  \n",
       "brain               0.233121  0.046616  0.136631  0.329612  2.766091e-06   \n",
       "white               0.104404  0.046018  0.013419  0.195390  2.460754e-02   \n",
       "grey                0.291232  0.048228  0.190863  0.391600  2.143769e-08   \n",
       "cortical_thickness  0.361019  0.047684  0.269593  0.452445  5.762797e-14   \n",
       "THALAMUS_1          0.358671  0.055096  0.263383  0.453960  6.881416e-13   \n",
       "t2lv               -0.266237  0.073334 -0.349392 -0.183082  7.447195e-10   \n",
       "PRL                -0.145967  0.047596 -0.233574 -0.058360  1.140599e-03   \n",
       "choroid_volume     -0.157975  0.055039 -0.253469 -0.062481  1.236063e-03   \n",
       "\n",
       "                                        ci         p_fdr        R2  \n",
       "structure                                                           \n",
       "brain                 [0.136631, 0.329612]  4.425746e-06  0.195320  \n",
       "white                 [0.013419, 0.195390]  2.460754e-02  0.164381  \n",
       "grey                  [0.190863, 0.391600]  4.287538e-08  0.211987  \n",
       "cortical_thickness    [0.269593, 0.452445]  4.610238e-13  0.254860  \n",
       "THALAMUS_1            [0.263383, 0.453960]  2.752566e-12  0.246721  \n",
       "t2lv                [-0.349392, -0.183082]  1.985919e-09  0.223395  \n",
       "PRL                 [-0.233574, -0.058360]  1.412644e-03  0.174626  \n",
       "choroid_volume      [-0.253469, -0.062481]  1.412644e-03  0.174353  "
      ]
     },
     "execution_count": 5,
     "metadata": {},
     "output_type": "execute_result"
    }
   ],
   "source": [
    "model_data = df_ms_z.join()\n",
    "covariates = \"age + Female + tiv\"\n",
    "\n",
    "outcome = \"SDMT\"\n",
    "predictors = [\n",
    "    \"brain\",\n",
    "    \"white\",\n",
    "    \"grey\",\n",
    "    \"cortical_thickness\",\n",
    "    \"THALAMUS_1\",\n",
    "    \"t2lv\",\n",
    "    \"PRL\",\n",
    "    \"choroid_volume\",\n",
    "]\n",
    "\n",
    "pvals = {}\n",
    "coefs = {}\n",
    "stderrs = {}\n",
    "llci = {}\n",
    "ulci = {}\n",
    "r2 = {}\n",
    "ci_str = {}\n",
    "\n",
    "for x in predictors:\n",
    "    formula = f\"{outcome} ~ {x} + {covariates}\"\n",
    "    res = sm.OLS.from_formula(formula, data=model_data).fit()\n",
    "    pvals[x] = res.pvalues[x]\n",
    "    coefs[x] = res.params[x]\n",
    "    stderrs[x] = res.HC0_se[x]\n",
    "    ci = res.conf_int()\n",
    "    llci[x] = ci.loc[x, 0]\n",
    "    ulci[x] = ci.loc[x, 1]\n",
    "    ci_str[x] = f\"[{llci[x]:.6f}, {ulci[x]:.6f}]\"\n",
    "    r2[x] = res.rsquared_adj\n",
    "\n",
    "\n",
    "regression_results = pd.DataFrame(\n",
    "    {\n",
    "        \"coef\": coefs,\n",
    "        \"stderr\": stderrs,\n",
    "        \"llci\": llci,\n",
    "        \"ulci\": ulci,\n",
    "        \"pvals\": pvals,\n",
    "        \"ci\": ci_str,\n",
    "    }\n",
    ")\n",
    "regression_results['p_fdr'] = stats.false_discovery_control(\n",
    "    regression_results['pvals'], method='bh'\n",
    ")\n",
    "regression_results['R2'] = r2\n",
    "regression_results.index.name = \"structure\"\n",
    "regression_results.to_excel(fig_path / \"SDMT_and_main_mri_features_MS.xlsx\")\n",
    "regression_results\n"
   ]
  },
  {
   "cell_type": "markdown",
   "id": "8f97bfa1",
   "metadata": {},
   "source": [
    "### SDMT in PMS vs RMS\n",
    "\n",
    "Patients with PMS had lower SDMT after adjusting for age, sex, and TIV"
   ]
  },
  {
   "cell_type": "code",
   "execution_count": 58,
   "id": "79f219b1",
   "metadata": {},
   "outputs": [
    {
     "name": "stdout",
     "output_type": "stream",
     "text": [
      "Optimization terminated successfully.\n",
      "         Current function value: 0.341385\n",
      "         Iterations 7\n",
      "                           Logit Regression Results                           \n",
      "==============================================================================\n",
      "Dep. Variable:                    PMS   No. Observations:                  454\n",
      "Model:                          Logit   Df Residuals:                      449\n",
      "Method:                           MLE   Df Model:                            4\n",
      "Date:                Wed, 11 Jun 2025   Pseudo R-squ.:                  0.3306\n",
      "Time:                        17:57:41   Log-Likelihood:                -154.99\n",
      "converged:                       True   LL-Null:                       -231.55\n",
      "Covariance Type:            nonrobust   LLR p-value:                 4.366e-32\n",
      "==============================================================================\n",
      "                 coef    std err          z      P>|z|      [0.025      0.975]\n",
      "------------------------------------------------------------------------------\n",
      "Intercept     -2.1913      0.206    -10.636      0.000      -2.595      -1.788\n",
      "SDMT          -0.9455      0.169     -5.600      0.000      -1.276      -0.615\n",
      "age            1.1933      0.186      6.432      0.000       0.830       1.557\n",
      "tiv           -0.1010      0.170     -0.594      0.552      -0.434       0.232\n",
      "Female        -0.5855      0.158     -3.704      0.000      -0.895      -0.276\n",
      "==============================================================================\n"
     ]
    }
   ],
   "source": [
    "model_data = df_ms_z.copy()\n",
    "model_data = pd.concat(\n",
    "    (model_data, pd.get_dummies(model_data['dz_type5'], dtype=\"int\")), axis=1\n",
    ")\n",
    "\n",
    "formula = \"PMS ~ SDMT + age + tiv + Female\"\n",
    "res = sm.Logit.from_formula(formula, data=model_data).fit()\n",
    "print(res.summary())"
   ]
  }
 ],
 "metadata": {
  "kernelspec": {
   "display_name": "monai",
   "language": "python",
   "name": "python3"
  },
  "language_info": {
   "codemirror_mode": {
    "name": "ipython",
    "version": 3
   },
   "file_extension": ".py",
   "mimetype": "text/x-python",
   "name": "python",
   "nbconvert_exporter": "python",
   "pygments_lexer": "ipython3",
   "version": "3.12.4"
  }
 },
 "nbformat": 4,
 "nbformat_minor": 5
}
