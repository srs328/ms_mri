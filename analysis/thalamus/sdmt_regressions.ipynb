{
 "cells": [
  {
   "cell_type": "markdown",
   "id": "4a8a4fb8",
   "metadata": {},
   "source": [
    "## Setup"
   ]
  },
  {
   "cell_type": "code",
   "execution_count": 1,
   "id": "76cab6dd",
   "metadata": {},
   "outputs": [],
   "source": [
    "import pandas as pd\n",
    "from warnings import simplefilter\n",
    "\n",
    "simplefilter(action=\"ignore\", category=pd.errors.PerformanceWarning)\n",
    "from pathlib import Path\n",
    "import json\n",
    "import numpy as np\n",
    "from collections import defaultdict\n",
    "import matplotlib.pyplot as plt\n",
    "from datetime import datetime\n",
    "import re\n",
    "from scipy import stats\n",
    "import numpy as np\n",
    "import statsmodels.api as sm\n",
    "import statsmodels\n",
    "from matplotlib import colormaps\n",
    "from tqdm.notebook import tqdm\n",
    "import helpers\n",
    "from collections import defaultdict\n",
    "from tqdm.notebook import tqdm\n",
    "\n",
    "\n",
    "from statsmodels.stats.outliers_influence import variance_inflation_factor\n",
    "from statsmodels.regression.linear_model import OLS\n",
    "\n",
    "from mri_data import file_manager as fm"
   ]
  },
  {
   "cell_type": "markdown",
   "id": "890635c5",
   "metadata": {},
   "source": [
    "### Load Data"
   ]
  },
  {
   "cell_type": "code",
   "execution_count": 2,
   "id": "000132f9",
   "metadata": {},
   "outputs": [],
   "source": [
    "drive_root = fm.get_drive_root()\n",
    "dataroot = drive_root / \"3Tpioneer_bids\"\n",
    "data_dir = Path(\"/home/srs-9/Projects/ms_mri/data\")\n",
    "fig_path = Path(\n",
    "    \"/home/srs-9/Projects/ms_mri/analysis/thalamus/figures_tables/sdmt_regressions\"\n",
    ")\n",
    "\n",
    "choroid_volumes = pd.read_csv(\n",
    "    \"/home/srs-9/Projects/ms_mri/data/choroid_aschoplex_volumes.csv\", index_col=\"subid\"\n",
    ")\n",
    "\n",
    "ventricle_volumes = pd.read_csv(\n",
    "    \"/home/srs-9/Projects/ms_mri/analysis/paper1/data0/ventricle_volumes.csv\",\n",
    "    index_col=\"subid\",\n",
    ")\n",
    "tiv = pd.read_csv(\"/home/srs-9/Projects/ms_mri/data/tiv_data.csv\", index_col=\"subid\")\n",
    "\n",
    "df = pd.read_csv(\n",
    "    \"/home/srs-9/Projects/ms_mri/data/clinical_data_processed.csv\", index_col=\"subid\"\n",
    ")\n",
    "sdmt = pd.read_csv(\n",
    "    \"/home/srs-9/Projects/ms_mri/analysis/thalamus/SDMT_sheet.csv\", index_col=\"subid\"\n",
    ")\n",
    "df_thomas = pd.read_csv(data_dir / \"hipsthomas_vols.csv\", index_col=\"subid\")\n",
    "\n",
    "df = df.join([choroid_volumes, ventricle_volumes, tiv, sdmt['SDMT'], df_thomas['1-THALAMUS']])\n",
    "df['SDMT'] = pd.to_numeric(df['SDMT'], errors='coerce')\n",
    "df.rename(columns={'1-THALAMUS': 'whole_thalamus'}, inplace=True)\n",
    "\n",
    "df_z = df.copy()\n",
    "numeric_cols = df.select_dtypes(include='number').columns\n",
    "df_z[numeric_cols] = df_z[numeric_cols].apply(stats.zscore, nan_policy=\"omit\")\n",
    "\n",
    "df_ms = df[df['dz_type2'] == \"MS\"]\n",
    "df_ms_z = df_ms.copy()\n",
    "df_ms_z[numeric_cols] = df_ms_z[numeric_cols].apply(stats.zscore, nan_policy=\"omit\")\n",
    "\n",
    "# assert df.loc[1340, 'EDSS'] == 2.5\n",
    "\n",
    "viridis = colormaps['viridis'].resampled(20)\n",
    "\n",
    "colors = helpers.get_colors()"
   ]
  },
  {
   "cell_type": "code",
   "execution_count": 3,
   "id": "2f98ce2a",
   "metadata": {},
   "outputs": [
    {
     "name": "stderr",
     "output_type": "stream",
     "text": [
      "/home/srs-9/.virtualenvs/ms_mri/lib/python3.13/site-packages/pandas/core/apply.py:1081: RuntimeWarning: Precision loss occurred in moment calculation due to catastrophic cancellation. This occurs when the data are nearly identical. Results may be unreliable.\n",
      "  results[i] = self.func(v, *self.args, **self.kwargs)\n",
      "/home/srs-9/.virtualenvs/ms_mri/lib/python3.13/site-packages/pandas/core/apply.py:1081: RuntimeWarning: Precision loss occurred in moment calculation due to catastrophic cancellation. This occurs when the data are nearly identical. Results may be unreliable.\n",
      "  results[i] = self.func(v, *self.args, **self.kwargs)\n",
      "/home/srs-9/.virtualenvs/ms_mri/lib/python3.13/site-packages/pandas/core/apply.py:1081: RuntimeWarning: Precision loss occurred in moment calculation due to catastrophic cancellation. This occurs when the data are nearly identical. Results may be unreliable.\n",
      "  results[i] = self.func(v, *self.args, **self.kwargs)\n",
      "/home/srs-9/.virtualenvs/ms_mri/lib/python3.13/site-packages/pandas/core/apply.py:1081: RuntimeWarning: Precision loss occurred in moment calculation due to catastrophic cancellation. This occurs when the data are nearly identical. Results may be unreliable.\n",
      "  results[i] = self.func(v, *self.args, **self.kwargs)\n"
     ]
    }
   ],
   "source": [
    "df_thomas = pd.read_csv(data_dir / \"hipsthomas_vols.csv\", index_col=\"subid\")\n",
    "cols_orig = df_thomas.columns\n",
    "new_colnames = {}\n",
    "for col in df_thomas.columns:\n",
    "    new_col = re.sub(r\"(\\d+)-([\\w-]+)\", r\"\\2_\\1\", col)\n",
    "    new_col = re.sub(\"-\", \"_\", new_col)\n",
    "    new_colnames[col] = new_col\n",
    "df_thomas = df_thomas.rename(columns=new_colnames)\n",
    "df_thomas_norm = df_thomas.apply(lambda col: col / df_thomas['THALAMUS_1'])\n",
    "df_thomas_z = df_thomas.apply(stats.zscore, nan_policy=\"omit\")\n",
    "df_thomas_norm_z = df_thomas_norm.apply(stats.zscore, nan_policy=\"omit\")\n",
    "\n",
    "df_thomas_left = pd.read_csv(data_dir / \"hipsthomas_left_vols.csv\", index_col=\"subid\")\n",
    "df_thomas_left = df_thomas_left.rename(columns=new_colnames)\n",
    "df_thomas_left_norm = df_thomas_left.apply(lambda col: col / df_thomas['THALAMUS_1'])\n",
    "df_thomas_left_z = df_thomas_left.apply(stats.zscore, nan_policy=\"omit\")\n",
    "df_thomas_left_norm_z = df_thomas_left_norm.apply(stats.zscore, nan_policy=\"omit\")\n",
    "\n",
    "\n",
    "df_thomas_right = pd.read_csv(data_dir / \"hipsthomas_right_vols.csv\", index_col=\"subid\")\n",
    "df_thomas_right = df_thomas_right.rename(columns=new_colnames)\n",
    "df_thomas_right_norm = df_thomas_right.apply(lambda col: col / df_thomas['THALAMUS_1'])\n",
    "df_thomas_right_z = df_thomas_right.apply(stats.zscore, nan_policy=\"omit\")\n",
    "df_thomas_right_norm_z = df_thomas_right_norm.apply(stats.zscore, nan_policy=\"omit\")\n",
    "\n",
    "\n",
    "thalamic_nuclei = [2, 4, 5, 6, 7, 8, 9, 10, 11, 12]\n",
    "thalamic_nuclei_str = [str(i) for i in thalamic_nuclei]\n",
    "\n",
    "hips_thomas_ref = pd.read_csv(\n",
    "    \"/home/srs-9/Projects/ms_mri/data/hipsthomas_struct_index.csv\", index_col=\"index\"\n",
    ")['struct']\n",
    "# hips_thomas_ref.rename(columns={\"struct\": \"struct_name\"}, inplace=True)\n",
    "\n",
    "choroid_dists = pd.read_csv(data_dir / \"centroid-choroid_centroid-left.csv\", index_col=\"subid\")\n",
    "ventricle_dists = pd.read_csv(\n",
    "    data_dir / \"centroid-ventricle_SDT.csv\", index_col=\"subid\"\n",
    ")\n",
    "\n",
    "mni_choroid_dists = pd.read_csv(\"/home/srs-9/Projects/ms_mri/data/mni-centroid-choroid_SDT2.csv\")\n",
    "\n",
    "def combine_nuclei(df):\n",
    "    df2 = pd.DataFrame()\n",
    "    df2['anterior'] = df['AV_2']\n",
    "    df2['ventral'] = df['VA_4'] + df['VLa_5'] + df['VLP_6'] + df['VPL_7']\n",
    "    df2['intralaminar'] = df['CM_11'] \n",
    "    df2['medial'] = df['MD_Pf_12']\n",
    "    df2['posterior'] = df['Pul_8'] + df['LGN_9'] + df['MGN_10']\n",
    "    df2['THALAMUS_1'] = df['THALAMUS_1']\n",
    "    return df2\n",
    "\n",
    "df_thomas2 = combine_nuclei(df_thomas)\n",
    "grouped_nuclei = df_thomas2.columns[~df_thomas2.columns.isin([\"THALAMUS_1\"])]\n",
    "df_thomas2_z = df_thomas2.apply(stats.zscore, nan_policy=\"omit\")\n",
    "df_thomas2_norm = df_thomas2.apply(lambda col: col / df_thomas['THALAMUS_1'])\n",
    "df_thomas2_norm_z = df_thomas2_norm.apply(stats.zscore, nan_policy=\"omit\")\n",
    "\n",
    "df_thomas2_left = combine_nuclei(df_thomas_left)\n",
    "df_thomas2_left_z = df_thomas2_left.apply(stats.zscore, nan_policy=\"omit\")\n",
    "df_thomas2_norm_left = df_thomas2.apply(lambda col: col / df_thomas['THALAMUS_1'])\n",
    "df_thomas2_norm_left_z = df_thomas2_norm_left.apply(stats.zscore, nan_policy=\"omit\")\n",
    "\n",
    "df_thomas2_right = combine_nuclei(df_thomas_right)\n",
    "df_thomas2_right_z = df_thomas2_right.apply(stats.zscore, nan_policy=\"omit\")\n",
    "df_thomas2_norm_right = df_thomas2.apply(lambda col: col / df_thomas['THALAMUS_1'])\n",
    "df_thomas2_norm_right_z = df_thomas2_norm_right.apply(stats.zscore, nan_policy=\"omit\")"
   ]
  },
  {
   "cell_type": "markdown",
   "id": "4488e439",
   "metadata": {},
   "source": [
    "### Functions"
   ]
  },
  {
   "cell_type": "code",
   "execution_count": 4,
   "id": "61b9c591",
   "metadata": {},
   "outputs": [],
   "source": [
    "def plot_regression(\n",
    "    data, predictor, outcome, covariates, xlabel=None, ylabel=None, title=None\n",
    "):\n",
    "    plus_covariates = \"\"\n",
    "    if len(covariates) > 0:\n",
    "        plus_covariates = f\"+ {' + '.join(covariates)}\"\n",
    "    if xlabel is None:\n",
    "        xlabel = predictor\n",
    "    if ylabel is None:\n",
    "        ylabel = outcome\n",
    "    if title is None:\n",
    "        title = f\"{outcome} vs {predictor}\"\n",
    "\n",
    "    formula = f\"{outcome} ~ {predictor} {plus_covariates}\"\n",
    "    res = sm.OLS.from_formula(formula, data=data).fit()\n",
    "    x, y_pred, y_lims = helpers.get_regression_y(data, res, predictor, outcome)\n",
    "\n",
    "    fig, axs = plt.subplot_mosaic(\n",
    "        [['histx', '.'], ['scatter', 'histy']],\n",
    "        figsize=(8, 6),\n",
    "        width_ratios=(4, 1),\n",
    "        height_ratios=(1, 4),\n",
    "        layout='constrained',\n",
    "    )\n",
    "\n",
    "    helpers.scatter_hist(\n",
    "        data[predictor],\n",
    "        data[outcome],\n",
    "        axs['scatter'],\n",
    "        axs['histx'],\n",
    "        axs['histy'],\n",
    "        light_color=colors['light blue1'],\n",
    "        dark_color=colors['dark blue1'],\n",
    "    )\n",
    "\n",
    "    axs['scatter'].plot(x, y_pred, color=\"black\")\n",
    "    axs['scatter'].fill_between(\n",
    "        x, y_lims[0], y_lims[1], alpha=0.4, color=colors[\"light blue1\"]\n",
    "    )\n",
    "    axs['scatter'].set_ylabel(ylabel)\n",
    "    axs['scatter'].set_xlabel(xlabel)\n",
    "    fig.suptitle(title)\n",
    "    return fig, axs"
   ]
  },
  {
   "cell_type": "markdown",
   "id": "9e573ea7",
   "metadata": {},
   "source": [
    "## Assumption Checks"
   ]
  },
  {
   "cell_type": "markdown",
   "id": "dc5040d9",
   "metadata": {},
   "source": [
    "SDMT looks normal enough, probably don't need to test further"
   ]
  },
  {
   "cell_type": "code",
   "execution_count": null,
   "id": "6ca12090",
   "metadata": {},
   "outputs": [
    {
     "data": {
      "text/plain": [
       "(array([  4.,  18.,  23.,  50.,  70., 110.,  95.,  50.,  25.,   9.]),\n",
       " array([11. , 18.6, 26.2, 33.8, 41.4, 49. , 56.6, 64.2, 71.8, 79.4, 87. ]),\n",
       " <BarContainer object of 10 artists>)"
      ]
     },
     "execution_count": 4,
     "metadata": {},
     "output_type": "execute_result"
    },
    {
     "data": {
      "image/png": "[encoded data removed]",
      "text/plain": [
       "<Figure size 640x480 with 1 Axes>"
      ]
     },
     "metadata": {},
     "output_type": "display_data"
    }
   ],
   "source": [
    "plt.hist(df['SDMT'])"
   ]
  },
  {
   "cell_type": "markdown",
   "id": "7be765ec",
   "metadata": {},
   "source": [
    "## Regressions"
   ]
  },
  {
   "cell_type": "markdown",
   "id": "fa7c9cad",
   "metadata": {},
   "source": [
    "Regress SDMT against various MRI features independently"
   ]
  },
  {
   "cell_type": "code",
   "execution_count": 9,
   "id": "e784a51c",
   "metadata": {},
   "outputs": [
    {
     "data": {
      "application/vnd.microsoft.datawrangler.viewer.v0+json": {
       "columns": [
        {
         "name": "structure",
         "rawType": "object",
         "type": "string"
        },
        {
         "name": "coef",
         "rawType": "float64",
         "type": "float"
        },
        {
         "name": "stderr",
         "rawType": "float64",
         "type": "float"
        },
        {
         "name": "llci",
         "rawType": "float64",
         "type": "float"
        },
        {
         "name": "ulci",
         "rawType": "float64",
         "type": "float"
        },
        {
         "name": "pvals",
         "rawType": "float64",
         "type": "float"
        },
        {
         "name": "ci",
         "rawType": "object",
         "type": "string"
        },
        {
         "name": "p_fdr",
         "rawType": "float64",
         "type": "float"
        },
        {
         "name": "R2",
         "rawType": "float64",
         "type": "float"
        }
       ],
       "ref": "c798fac4-32d4-4ee3-9dc3-79bf569ab707",
       "rows": [
        [
         "brain",
         "0.23312140798012798",
         "0.04661563131721781",
         "0.1366313002402732",
         "0.32961151571998276",
         "2.766091495641599e-06",
         "[0.136631, 0.329612]",
         "4.149137243462398e-06",
         "0.19531989269352523"
        ],
        [
         "white",
         "0.10440428776388316",
         "0.04601823056235321",
         "0.013418877317679032",
         "0.19538969821008728",
         "0.024607542463659045",
         "[0.013419, 0.195390]",
         "0.024607542463659045",
         "0.16438109747068896"
        ],
        [
         "grey",
         "0.29123168056574406",
         "0.04822791001115725",
         "0.19086344291196827",
         "0.39159991821951984",
         "2.1437692200469634e-08",
         "[0.190863, 0.391600]",
         "3.8587845960845345e-08",
         "0.211987213157809"
        ],
        [
         "cortical_thickness",
         "0.36101904118080114",
         "0.047683944321214096",
         "0.2695933882520404",
         "0.4524446941095619",
         "5.762797191307956e-14",
         "[0.269593, 0.452445]",
         "5.18651747217716e-13",
         "0.25486047535437417"
        ],
        [
         "THALAMUS_1",
         "0.35590882564130294",
         "0.05467175354647908",
         "0.26135425920362354",
         "0.45046339207898234",
         "6.881415698742107e-13",
         "[0.261354, 0.450463]",
         "3.0966370644339482e-12",
         "0.246720884698446"
        ],
        [
         "t2lv",
         "-0.26623699798362915",
         "0.0733340028672494",
         "-0.349392437413257",
         "-0.18308155855400132",
         "7.447194665188904e-10",
         "[-0.349392, -0.183082]",
         "2.2341583995566713e-09",
         "0.22339451537869515"
        ],
        [
         "PRL",
         "-0.14596715014534353",
         "0.047595958468226285",
         "-0.23357406458806393",
         "-0.05836023570262314",
         "0.0011405985647086245",
         "[-0.233574, -0.058360]",
         "0.0013905713814222345",
         "0.17462626939234993"
        ],
        [
         "choroid_volume",
         "-0.15797488027439788",
         "0.05503920849570311",
         "-0.25346890647270437",
         "-0.06248085407609141",
         "0.0012360634501530972",
         "[-0.253469, -0.062481]",
         "0.0013905713814222345",
         "0.17435288896838164"
        ],
        [
         "ventricle_volume",
         "-0.28486652969072424",
         "0.05803629230169535",
         "-0.37844421287464974",
         "-0.19128884650679873",
         "4.496923843871574e-09",
         "[-0.378444, -0.191289]",
         "1.011807864871104e-08",
         "0.21847173748070492"
        ]
       ],
       "shape": {
        "columns": 8,
        "rows": 9
       }
      },
      "text/html": [
       "<div>\n",
       "<style scoped>\n",
       "    .dataframe tbody tr th:only-of-type {\n",
       "        vertical-align: middle;\n",
       "    }\n",
       "\n",
       "    .dataframe tbody tr th {\n",
       "        vertical-align: top;\n",
       "    }\n",
       "\n",
       "    .dataframe thead th {\n",
       "        text-align: right;\n",
       "    }\n",
       "</style>\n",
       "<table border=\"1\" class=\"dataframe\">\n",
       "  <thead>\n",
       "    <tr style=\"text-align: right;\">\n",
       "      <th></th>\n",
       "      <th>coef</th>\n",
       "      <th>stderr</th>\n",
       "      <th>llci</th>\n",
       "      <th>ulci</th>\n",
       "      <th>pvals</th>\n",
       "      <th>ci</th>\n",
       "      <th>p_fdr</th>\n",
       "      <th>R2</th>\n",
       "    </tr>\n",
       "    <tr>\n",
       "      <th>structure</th>\n",
       "      <th></th>\n",
       "      <th></th>\n",
       "      <th></th>\n",
       "      <th></th>\n",
       "      <th></th>\n",
       "      <th></th>\n",
       "      <th></th>\n",
       "      <th></th>\n",
       "    </tr>\n",
       "  </thead>\n",
       "  <tbody>\n",
       "    <tr>\n",
       "      <th>brain</th>\n",
       "      <td>0.233121</td>\n",
       "      <td>0.046616</td>\n",
       "      <td>0.136631</td>\n",
       "      <td>0.329612</td>\n",
       "      <td>2.766091e-06</td>\n",
       "      <td>[0.136631, 0.329612]</td>\n",
       "      <td>4.149137e-06</td>\n",
       "      <td>0.195320</td>\n",
       "    </tr>\n",
       "    <tr>\n",
       "      <th>white</th>\n",
       "      <td>0.104404</td>\n",
       "      <td>0.046018</td>\n",
       "      <td>0.013419</td>\n",
       "      <td>0.195390</td>\n",
       "      <td>2.460754e-02</td>\n",
       "      <td>[0.013419, 0.195390]</td>\n",
       "      <td>2.460754e-02</td>\n",
       "      <td>0.164381</td>\n",
       "    </tr>\n",
       "    <tr>\n",
       "      <th>grey</th>\n",
       "      <td>0.291232</td>\n",
       "      <td>0.048228</td>\n",
       "      <td>0.190863</td>\n",
       "      <td>0.391600</td>\n",
       "      <td>2.143769e-08</td>\n",
       "      <td>[0.190863, 0.391600]</td>\n",
       "      <td>3.858785e-08</td>\n",
       "      <td>0.211987</td>\n",
       "    </tr>\n",
       "    <tr>\n",
       "      <th>cortical_thickness</th>\n",
       "      <td>0.361019</td>\n",
       "      <td>0.047684</td>\n",
       "      <td>0.269593</td>\n",
       "      <td>0.452445</td>\n",
       "      <td>5.762797e-14</td>\n",
       "      <td>[0.269593, 0.452445]</td>\n",
       "      <td>5.186517e-13</td>\n",
       "      <td>0.254860</td>\n",
       "    </tr>\n",
       "    <tr>\n",
       "      <th>THALAMUS_1</th>\n",
       "      <td>0.355909</td>\n",
       "      <td>0.054672</td>\n",
       "      <td>0.261354</td>\n",
       "      <td>0.450463</td>\n",
       "      <td>6.881416e-13</td>\n",
       "      <td>[0.261354, 0.450463]</td>\n",
       "      <td>3.096637e-12</td>\n",
       "      <td>0.246721</td>\n",
       "    </tr>\n",
       "    <tr>\n",
       "      <th>t2lv</th>\n",
       "      <td>-0.266237</td>\n",
       "      <td>0.073334</td>\n",
       "      <td>-0.349392</td>\n",
       "      <td>-0.183082</td>\n",
       "      <td>7.447195e-10</td>\n",
       "      <td>[-0.349392, -0.183082]</td>\n",
       "      <td>2.234158e-09</td>\n",
       "      <td>0.223395</td>\n",
       "    </tr>\n",
       "    <tr>\n",
       "      <th>PRL</th>\n",
       "      <td>-0.145967</td>\n",
       "      <td>0.047596</td>\n",
       "      <td>-0.233574</td>\n",
       "      <td>-0.058360</td>\n",
       "      <td>1.140599e-03</td>\n",
       "      <td>[-0.233574, -0.058360]</td>\n",
       "      <td>1.390571e-03</td>\n",
       "      <td>0.174626</td>\n",
       "    </tr>\n",
       "    <tr>\n",
       "      <th>choroid_volume</th>\n",
       "      <td>-0.157975</td>\n",
       "      <td>0.055039</td>\n",
       "      <td>-0.253469</td>\n",
       "      <td>-0.062481</td>\n",
       "      <td>1.236063e-03</td>\n",
       "      <td>[-0.253469, -0.062481]</td>\n",
       "      <td>1.390571e-03</td>\n",
       "      <td>0.174353</td>\n",
       "    </tr>\n",
       "    <tr>\n",
       "      <th>ventricle_volume</th>\n",
       "      <td>-0.284867</td>\n",
       "      <td>0.058036</td>\n",
       "      <td>-0.378444</td>\n",
       "      <td>-0.191289</td>\n",
       "      <td>4.496924e-09</td>\n",
       "      <td>[-0.378444, -0.191289]</td>\n",
       "      <td>1.011808e-08</td>\n",
       "      <td>0.218472</td>\n",
       "    </tr>\n",
       "  </tbody>\n",
       "</table>\n",
       "</div>"
      ],
      "text/plain": [
       "                        coef    stderr      llci      ulci         pvals  \\\n",
       "structure                                                                  \n",
       "brain               0.233121  0.046616  0.136631  0.329612  2.766091e-06   \n",
       "white               0.104404  0.046018  0.013419  0.195390  2.460754e-02   \n",
       "grey                0.291232  0.048228  0.190863  0.391600  2.143769e-08   \n",
       "cortical_thickness  0.361019  0.047684  0.269593  0.452445  5.762797e-14   \n",
       "THALAMUS_1          0.355909  0.054672  0.261354  0.450463  6.881416e-13   \n",
       "t2lv               -0.266237  0.073334 -0.349392 -0.183082  7.447195e-10   \n",
       "PRL                -0.145967  0.047596 -0.233574 -0.058360  1.140599e-03   \n",
       "choroid_volume     -0.157975  0.055039 -0.253469 -0.062481  1.236063e-03   \n",
       "ventricle_volume   -0.284867  0.058036 -0.378444 -0.191289  4.496924e-09   \n",
       "\n",
       "                                        ci         p_fdr        R2  \n",
       "structure                                                           \n",
       "brain                 [0.136631, 0.329612]  4.149137e-06  0.195320  \n",
       "white                 [0.013419, 0.195390]  2.460754e-02  0.164381  \n",
       "grey                  [0.190863, 0.391600]  3.858785e-08  0.211987  \n",
       "cortical_thickness    [0.269593, 0.452445]  5.186517e-13  0.254860  \n",
       "THALAMUS_1            [0.261354, 0.450463]  3.096637e-12  0.246721  \n",
       "t2lv                [-0.349392, -0.183082]  2.234158e-09  0.223395  \n",
       "PRL                 [-0.233574, -0.058360]  1.390571e-03  0.174626  \n",
       "choroid_volume      [-0.253469, -0.062481]  1.390571e-03  0.174353  \n",
       "ventricle_volume    [-0.378444, -0.191289]  1.011808e-08  0.218472  "
      ]
     },
     "execution_count": 9,
     "metadata": {},
     "output_type": "execute_result"
    }
   ],
   "source": [
    "model_data = df_ms_z.join(df_thomas_z)\n",
    "covariates = \"age + Female + tiv\"\n",
    "\n",
    "outcome = \"SDMT\"\n",
    "predictors = [\n",
    "    \"brain\",\n",
    "    \"white\",\n",
    "    \"grey\",\n",
    "    \"cortical_thickness\",\n",
    "    \"THALAMUS_1\",\n",
    "    \"t2lv\",\n",
    "    \"PRL\",\n",
    "    \"choroid_volume\",\n",
    "    \"ventricle_volume\"\n",
    "]\n",
    "\n",
    "pvals = {}\n",
    "coefs = {}\n",
    "stderrs = {}\n",
    "llci = {}\n",
    "ulci = {}\n",
    "r2 = {}\n",
    "ci_str = {}\n",
    "\n",
    "for x in predictors:\n",
    "    formula = f\"{outcome} ~ {x} + {covariates}\"\n",
    "    res = sm.OLS.from_formula(formula, data=model_data).fit()\n",
    "    pvals[x] = res.pvalues[x]\n",
    "    coefs[x] = res.params[x]\n",
    "    stderrs[x] = res.HC0_se[x]\n",
    "    ci = res.conf_int()\n",
    "    llci[x] = ci.loc[x, 0]\n",
    "    ulci[x] = ci.loc[x, 1]\n",
    "    ci_str[x] = f\"[{llci[x]:.6f}, {ulci[x]:.6f}]\"\n",
    "    r2[x] = res.rsquared_adj\n",
    "\n",
    "\n",
    "regression_results = pd.DataFrame(\n",
    "    {\n",
    "        \"coef\": coefs,\n",
    "        \"stderr\": stderrs,\n",
    "        \"llci\": llci,\n",
    "        \"ulci\": ulci,\n",
    "        \"pvals\": pvals,\n",
    "        \"ci\": ci_str,\n",
    "    }\n",
    ")\n",
    "regression_results['p_fdr'] = stats.false_discovery_control(\n",
    "    regression_results['pvals'], method='bh'\n",
    ")\n",
    "regression_results['R2'] = r2\n",
    "regression_results.index.name = \"structure\"\n",
    "regression_results.to_excel(fig_path / \"SDMT_and_main_mri_features_MS.xlsx\")\n",
    "regression_results\n"
   ]
  },
  {
   "cell_type": "markdown",
   "id": "8f97bfa1",
   "metadata": {},
   "source": [
    "### SDMT in PMS vs RMS\n",
    "\n",
    "Patients with PMS had lower SDMT after adjusting for age, sex, and TIV"
   ]
  },
  {
   "cell_type": "code",
   "execution_count": null,
   "id": "79f219b1",
   "metadata": {},
   "outputs": [
    {
     "name": "stdout",
     "output_type": "stream",
     "text": [
      "                            OLS Regression Results                            \n",
      "==============================================================================\n",
      "Dep. Variable:               thalamus   R-squared:                       0.374\n",
      "Model:                            OLS   Adj. R-squared:                  0.367\n",
      "Method:                 Least Squares   F-statistic:                     50.67\n",
      "Date:                Sun, 29 Jun 2025   Prob (F-statistic):           8.12e-49\n",
      "Time:                        12:10:39   Log-Likelihood:                -617.13\n",
      "No. Observations:                 516   AIC:                             1248.\n",
      "Df Residuals:                     509   BIC:                             1278.\n",
      "Df Model:                           6                                         \n",
      "Covariance Type:            nonrobust                                         \n",
      "=====================================================================================\n",
      "                        coef    std err          t      P>|t|      [0.025      0.975]\n",
      "-------------------------------------------------------------------------------------\n",
      "Intercept             0.3197      0.119      2.678      0.008       0.085       0.554\n",
      "choroid_volume       -0.2641      0.129     -2.052      0.041      -0.517      -0.011\n",
      "MS                   -0.3872      0.125     -3.089      0.002      -0.634      -0.141\n",
      "choroid_volume:MS    -0.1312      0.133     -0.990      0.323      -0.392       0.129\n",
      "age                  -0.2954      0.039     -7.576      0.000      -0.372      -0.219\n",
      "tiv                  -0.0119      0.043     -0.275      0.783      -0.097       0.073\n",
      "Female                0.1012      0.043      2.329      0.020       0.016       0.187\n",
      "==============================================================================\n",
      "Omnibus:                      118.205   Durbin-Watson:                   2.035\n",
      "Prob(Omnibus):                  0.000   Jarque-Bera (JB):              278.163\n",
      "Skew:                          -1.175   Prob(JB):                     3.96e-61\n",
      "Kurtosis:                       5.722   Cond. No.                         8.40\n",
      "==============================================================================\n",
      "\n",
      "Notes:\n",
      "[1] Standard Errors assume that the covariance matrix of the errors is correctly specified.\n"
     ]
    }
   ],
   "source": [
    "model_data = df_ms_z.copy()\n",
    "model_data = pd.concat(\n",
    "    (model_data, pd.get_dummies(model_data['dz_type5'], dtype=\"int\")), axis=1\n",
    ")\n",
    "\n",
    "formula = \"PMS ~ SDMT + age + tiv + Female\"\n",
    "res = sm.Logit.from_formula(formula, data=model_data).fit()\n",
    "print(res.summary())"
   ]
  },
  {
   "cell_type": "markdown",
   "id": "decef519",
   "metadata": {},
   "source": [
    "## HIPS-THOMAS"
   ]
  },
  {
   "cell_type": "markdown",
   "id": "3e93cea1",
   "metadata": {},
   "source": [
    "### L/R for thalamus diagram"
   ]
  },
  {
   "cell_type": "code",
   "execution_count": 23,
   "id": "3c120ac2",
   "metadata": {},
   "outputs": [
    {
     "data": {
      "application/vnd.microsoft.datawrangler.viewer.v0+json": {
       "columns": [
        {
         "name": "index",
         "rawType": "object",
         "type": "string"
        },
        {
         "name": "coef",
         "rawType": "float64",
         "type": "float"
        },
        {
         "name": "pvals",
         "rawType": "float64",
         "type": "float"
        },
        {
         "name": "p_fdr",
         "rawType": "float64",
         "type": "float"
        }
       ],
       "ref": "564da1e3-a55d-4a87-9a1c-305924a9b048",
       "rows": [
        [
         "VA_4",
         "0.15018371140886203",
         "0.005756336761194009",
         "0.005756336761194009"
        ],
        [
         "VLa_5",
         "0.18240321051050318",
         "0.0005701201429695458",
         "0.0006334668255217177"
        ],
        [
         "LGN_9",
         "0.2311761973201425",
         "2.3273723792618388e-07",
         "3.32481768465977e-07"
        ],
        [
         "MGN_10",
         "0.23133830580240036",
         "4.94634995453398e-06",
         "6.182937443167475e-06"
        ],
        [
         "VPL_7",
         "0.26001077331252426",
         "6.986023184876985e-08",
         "1.1643371974794975e-07"
        ],
        [
         "CM_11",
         "0.28142738024789354",
         "1.5269620564363976e-08",
         "3.053924112872795e-08"
        ],
        [
         "VLP_6",
         "0.2941656671367156",
         "2.479767982608071e-09",
         "6.199419956520177e-09"
        ],
        [
         "AV_2",
         "0.29564046310936465",
         "9.007196296961946e-10",
         "3.0023987656539823e-09"
        ],
        [
         "MD_Pf_12",
         "0.3138214816779226",
         "1.5560063514986868e-11",
         "7.780031757493434e-11"
        ],
        [
         "Pul_8",
         "0.3188605642047839",
         "7.3039052124534e-12",
         "7.3039052124534e-11"
        ]
       ],
       "shape": {
        "columns": 3,
        "rows": 10
       }
      },
      "text/html": [
       "<div>\n",
       "<style scoped>\n",
       "    .dataframe tbody tr th:only-of-type {\n",
       "        vertical-align: middle;\n",
       "    }\n",
       "\n",
       "    .dataframe tbody tr th {\n",
       "        vertical-align: top;\n",
       "    }\n",
       "\n",
       "    .dataframe thead th {\n",
       "        text-align: right;\n",
       "    }\n",
       "</style>\n",
       "<table border=\"1\" class=\"dataframe\">\n",
       "  <thead>\n",
       "    <tr style=\"text-align: right;\">\n",
       "      <th></th>\n",
       "      <th>coef</th>\n",
       "      <th>pvals</th>\n",
       "      <th>p_fdr</th>\n",
       "    </tr>\n",
       "  </thead>\n",
       "  <tbody>\n",
       "    <tr>\n",
       "      <th>VA_4</th>\n",
       "      <td>0.150184</td>\n",
       "      <td>5.756337e-03</td>\n",
       "      <td>5.756337e-03</td>\n",
       "    </tr>\n",
       "    <tr>\n",
       "      <th>VLa_5</th>\n",
       "      <td>0.182403</td>\n",
       "      <td>5.701201e-04</td>\n",
       "      <td>6.334668e-04</td>\n",
       "    </tr>\n",
       "    <tr>\n",
       "      <th>LGN_9</th>\n",
       "      <td>0.231176</td>\n",
       "      <td>2.327372e-07</td>\n",
       "      <td>3.324818e-07</td>\n",
       "    </tr>\n",
       "    <tr>\n",
       "      <th>MGN_10</th>\n",
       "      <td>0.231338</td>\n",
       "      <td>4.946350e-06</td>\n",
       "      <td>6.182937e-06</td>\n",
       "    </tr>\n",
       "    <tr>\n",
       "      <th>VPL_7</th>\n",
       "      <td>0.260011</td>\n",
       "      <td>6.986023e-08</td>\n",
       "      <td>1.164337e-07</td>\n",
       "    </tr>\n",
       "    <tr>\n",
       "      <th>CM_11</th>\n",
       "      <td>0.281427</td>\n",
       "      <td>1.526962e-08</td>\n",
       "      <td>3.053924e-08</td>\n",
       "    </tr>\n",
       "    <tr>\n",
       "      <th>VLP_6</th>\n",
       "      <td>0.294166</td>\n",
       "      <td>2.479768e-09</td>\n",
       "      <td>6.199420e-09</td>\n",
       "    </tr>\n",
       "    <tr>\n",
       "      <th>AV_2</th>\n",
       "      <td>0.295640</td>\n",
       "      <td>9.007196e-10</td>\n",
       "      <td>3.002399e-09</td>\n",
       "    </tr>\n",
       "    <tr>\n",
       "      <th>MD_Pf_12</th>\n",
       "      <td>0.313821</td>\n",
       "      <td>1.556006e-11</td>\n",
       "      <td>7.780032e-11</td>\n",
       "    </tr>\n",
       "    <tr>\n",
       "      <th>Pul_8</th>\n",
       "      <td>0.318861</td>\n",
       "      <td>7.303905e-12</td>\n",
       "      <td>7.303905e-11</td>\n",
       "    </tr>\n",
       "  </tbody>\n",
       "</table>\n",
       "</div>"
      ],
      "text/plain": [
       "              coef         pvals         p_fdr\n",
       "VA_4      0.150184  5.756337e-03  5.756337e-03\n",
       "VLa_5     0.182403  5.701201e-04  6.334668e-04\n",
       "LGN_9     0.231176  2.327372e-07  3.324818e-07\n",
       "MGN_10    0.231338  4.946350e-06  6.182937e-06\n",
       "VPL_7     0.260011  6.986023e-08  1.164337e-07\n",
       "CM_11     0.281427  1.526962e-08  3.053924e-08\n",
       "VLP_6     0.294166  2.479768e-09  6.199420e-09\n",
       "AV_2      0.295640  9.007196e-10  3.002399e-09\n",
       "MD_Pf_12  0.313821  1.556006e-11  7.780032e-11\n",
       "Pul_8     0.318861  7.303905e-12  7.303905e-11"
      ]
     },
     "execution_count": 23,
     "metadata": {},
     "output_type": "execute_result"
    }
   ],
   "source": [
    "model_data = df_z.join(df_thomas_left_z)\n",
    "model_data['whole_thalamus'] = df_thomas_z['THALAMUS_1']\n",
    "model_data = model_data[model_data['dz_type5'].isin([\"RMS\", \"PMS\"])]\n",
    "covariates = \"age + Female + tiv\"\n",
    "\n",
    "pvals = {}\n",
    "coefs = {}\n",
    "stderrs = {}\n",
    "llci = {}\n",
    "ulci = {}\n",
    "ci_str = {}\n",
    "r2 = {}\n",
    "\n",
    "outcome = \"SDMT\"\n",
    "\n",
    "structs = thalamic_nuclei\n",
    "all_results = {}\n",
    "for x in structs:\n",
    "    col = hips_thomas_ref[x]\n",
    "    formula = f\"{outcome} ~ {col} + {covariates}\"\n",
    "    res = sm.OLS.from_formula(formula, data=model_data).fit()\n",
    "    all_results[col] = res\n",
    "    pvals[col] = res.pvalues[col]\n",
    "    coefs[col] = res.params[col]\n",
    "    stderrs[col] = res.HC0_se[col]\n",
    "    ci = res.conf_int()\n",
    "    llci[col] = ci.loc[col, 0]\n",
    "    ulci[col] = ci.loc[col, 1]\n",
    "    ci_str[col] = f\"[{llci[col]:.6f}, {ulci[col]:.6f}]\"\n",
    "    r2[col] = res.rsquared_adj\n",
    "\n",
    "regression_results_left = pd.DataFrame({\"coef\": coefs, \"pvals\": pvals})\n",
    "regression_results_left['p_fdr'] = stats.false_discovery_control(regression_results_left['pvals'], method='bh')\n",
    "regression_results_left.sort_values(by=\"coef\")"
   ]
  },
  {
   "cell_type": "code",
   "execution_count": 24,
   "id": "4ea17dd1",
   "metadata": {},
   "outputs": [
    {
     "data": {
      "application/vnd.microsoft.datawrangler.viewer.v0+json": {
       "columns": [
        {
         "name": "index",
         "rawType": "object",
         "type": "string"
        },
        {
         "name": "coef",
         "rawType": "float64",
         "type": "float"
        },
        {
         "name": "pvals",
         "rawType": "float64",
         "type": "float"
        },
        {
         "name": "p_fdr",
         "rawType": "float64",
         "type": "float"
        }
       ],
       "ref": "d5865d39-bcfe-4d18-809a-ec8e17a755a7",
       "rows": [
        [
         "AV_2",
         "0.19718047171641082",
         "6.222051057918539e-05",
         "6.913390064353932e-05"
        ],
        [
         "VLa_5",
         "0.20448892685916356",
         "9.919737828414799e-05",
         "9.919737828414799e-05"
        ],
        [
         "MGN_10",
         "0.21444110680625814",
         "8.963290690230051e-06",
         "1.1204113362787564e-05"
        ],
        [
         "CM_11",
         "0.22532094696688038",
         "2.6963473906158333e-06",
         "4.493912317693056e-06"
        ],
        [
         "VA_4",
         "0.2436836708844773",
         "5.644092061897951e-06",
         "8.062988659854217e-06"
        ],
        [
         "VPL_7",
         "0.24781898002844258",
         "1.4304078882839916e-07",
         "2.8608157765679833e-07"
        ],
        [
         "MD_Pf_12",
         "0.2516952110227995",
         "4.703349038789589e-08",
         "1.1758372596973974e-07"
        ],
        [
         "LGN_9",
         "0.27451829808475986",
         "2.1736562444751e-09",
         "7.245520814917e-09"
        ],
        [
         "Pul_8",
         "0.28487828227013107",
         "7.780381017818511e-10",
         "3.8901905089092554e-09"
        ],
        [
         "VLP_6",
         "0.3067031073988363",
         "7.301571786997736e-10",
         "3.8901905089092554e-09"
        ]
       ],
       "shape": {
        "columns": 3,
        "rows": 10
       }
      },
      "text/html": [
       "<div>\n",
       "<style scoped>\n",
       "    .dataframe tbody tr th:only-of-type {\n",
       "        vertical-align: middle;\n",
       "    }\n",
       "\n",
       "    .dataframe tbody tr th {\n",
       "        vertical-align: top;\n",
       "    }\n",
       "\n",
       "    .dataframe thead th {\n",
       "        text-align: right;\n",
       "    }\n",
       "</style>\n",
       "<table border=\"1\" class=\"dataframe\">\n",
       "  <thead>\n",
       "    <tr style=\"text-align: right;\">\n",
       "      <th></th>\n",
       "      <th>coef</th>\n",
       "      <th>pvals</th>\n",
       "      <th>p_fdr</th>\n",
       "    </tr>\n",
       "  </thead>\n",
       "  <tbody>\n",
       "    <tr>\n",
       "      <th>AV_2</th>\n",
       "      <td>0.197180</td>\n",
       "      <td>6.222051e-05</td>\n",
       "      <td>6.913390e-05</td>\n",
       "    </tr>\n",
       "    <tr>\n",
       "      <th>VLa_5</th>\n",
       "      <td>0.204489</td>\n",
       "      <td>9.919738e-05</td>\n",
       "      <td>9.919738e-05</td>\n",
       "    </tr>\n",
       "    <tr>\n",
       "      <th>MGN_10</th>\n",
       "      <td>0.214441</td>\n",
       "      <td>8.963291e-06</td>\n",
       "      <td>1.120411e-05</td>\n",
       "    </tr>\n",
       "    <tr>\n",
       "      <th>CM_11</th>\n",
       "      <td>0.225321</td>\n",
       "      <td>2.696347e-06</td>\n",
       "      <td>4.493912e-06</td>\n",
       "    </tr>\n",
       "    <tr>\n",
       "      <th>VA_4</th>\n",
       "      <td>0.243684</td>\n",
       "      <td>5.644092e-06</td>\n",
       "      <td>8.062989e-06</td>\n",
       "    </tr>\n",
       "    <tr>\n",
       "      <th>VPL_7</th>\n",
       "      <td>0.247819</td>\n",
       "      <td>1.430408e-07</td>\n",
       "      <td>2.860816e-07</td>\n",
       "    </tr>\n",
       "    <tr>\n",
       "      <th>MD_Pf_12</th>\n",
       "      <td>0.251695</td>\n",
       "      <td>4.703349e-08</td>\n",
       "      <td>1.175837e-07</td>\n",
       "    </tr>\n",
       "    <tr>\n",
       "      <th>LGN_9</th>\n",
       "      <td>0.274518</td>\n",
       "      <td>2.173656e-09</td>\n",
       "      <td>7.245521e-09</td>\n",
       "    </tr>\n",
       "    <tr>\n",
       "      <th>Pul_8</th>\n",
       "      <td>0.284878</td>\n",
       "      <td>7.780381e-10</td>\n",
       "      <td>3.890191e-09</td>\n",
       "    </tr>\n",
       "    <tr>\n",
       "      <th>VLP_6</th>\n",
       "      <td>0.306703</td>\n",
       "      <td>7.301572e-10</td>\n",
       "      <td>3.890191e-09</td>\n",
       "    </tr>\n",
       "  </tbody>\n",
       "</table>\n",
       "</div>"
      ],
      "text/plain": [
       "              coef         pvals         p_fdr\n",
       "AV_2      0.197180  6.222051e-05  6.913390e-05\n",
       "VLa_5     0.204489  9.919738e-05  9.919738e-05\n",
       "MGN_10    0.214441  8.963291e-06  1.120411e-05\n",
       "CM_11     0.225321  2.696347e-06  4.493912e-06\n",
       "VA_4      0.243684  5.644092e-06  8.062989e-06\n",
       "VPL_7     0.247819  1.430408e-07  2.860816e-07\n",
       "MD_Pf_12  0.251695  4.703349e-08  1.175837e-07\n",
       "LGN_9     0.274518  2.173656e-09  7.245521e-09\n",
       "Pul_8     0.284878  7.780381e-10  3.890191e-09\n",
       "VLP_6     0.306703  7.301572e-10  3.890191e-09"
      ]
     },
     "execution_count": 24,
     "metadata": {},
     "output_type": "execute_result"
    }
   ],
   "source": [
    "model_data = df_z.join(df_thomas_right_z)\n",
    "model_data['whole_thalamus'] = df_thomas_z['THALAMUS_1']\n",
    "\n",
    "model_data = model_data[model_data['dz_type5'].isin([\"RMS\", \"PMS\"])]\n",
    "covariates = \"age + Female + tiv\"\n",
    "\n",
    "pvals = {}\n",
    "coefs = {}\n",
    "stderrs = {}\n",
    "llci = {}\n",
    "ulci = {}\n",
    "ci_str = {}\n",
    "r2 = {}\n",
    "\n",
    "outcome = \"SDMT\"\n",
    "\n",
    "structs = thalamic_nuclei\n",
    "all_results = {}\n",
    "for x in structs:\n",
    "    col = hips_thomas_ref[x]\n",
    "    formula = f\"{outcome} ~ {col} + {covariates}\"\n",
    "    res = sm.OLS.from_formula(formula, data=model_data).fit()\n",
    "    all_results[col] = res\n",
    "    pvals[col] = res.pvalues[col]\n",
    "    coefs[col] = res.params[col]\n",
    "    stderrs[col] = res.HC0_se[col]\n",
    "    ci = res.conf_int()\n",
    "    llci[col] = ci.loc[col, 0]\n",
    "    ulci[col] = ci.loc[col, 1]\n",
    "    ci_str[col] = f\"[{llci[col]:.6f}, {ulci[col]:.6f}]\"\n",
    "    r2[col] = res.rsquared_adj\n",
    "\n",
    "regression_results_right = pd.DataFrame({\"coef\": coefs, \"pvals\": pvals})\n",
    "regression_results_right['p_fdr'] = stats.false_discovery_control(regression_results_right['pvals'], method='bh')\n",
    "regression_results_right.sort_values(by=\"coef\")\n",
    "# regression_results_right"
   ]
  },
  {
   "cell_type": "code",
   "execution_count": 25,
   "id": "7a44bfda",
   "metadata": {},
   "outputs": [
    {
     "name": "stdout",
     "output_type": "stream",
     "text": [
      "VA_4         1\n",
      "VLa_5        2\n",
      "LGN_9        5\n",
      "MGN_10       5\n",
      "VPL_7        6\n",
      "AV_2         8\n",
      "VLP_6        8\n",
      "CM_11        8\n",
      "MD_Pf_12     9\n",
      "Pul_8       10\n",
      "Name: coef_bin, dtype: int64\n",
      "AV_2        3\n",
      "VLa_5       3\n",
      "MGN_10      4\n",
      "VA_4        5\n",
      "CM_11       5\n",
      "VPL_7       6\n",
      "MD_Pf_12    6\n",
      "LGN_9       7\n",
      "Pul_8       8\n",
      "VLP_6       9\n",
      "Name: coef_bin, dtype: int64\n",
      "0.15008371140886204 0.31876056420478394\n"
     ]
    }
   ],
   "source": [
    "all_coefs = pd.concat([regression_results_left.coef, regression_results_right.coef])\n",
    "bins = np.linspace(all_coefs.min()-0.0001, all_coefs.max()-0.0001, 10)\n",
    "regression_results_left['coef_bin'] = np.digitize(regression_results_left['coef'], bins)\n",
    "regression_results_right['coef_bin'] = np.digitize(regression_results_right['coef'], bins)\n",
    "print(regression_results_left.sort_values(by=\"coef_bin\")['coef_bin'])\n",
    "print(regression_results_right.sort_values(by=\"coef_bin\")['coef_bin'])\n",
    "print(all_coefs.min()-0.0001, all_coefs.max()-0.0001)"
   ]
  },
  {
   "cell_type": "code",
   "execution_count": 18,
   "id": "50567332",
   "metadata": {},
   "outputs": [
    {
     "data": {
      "text/plain": [
       "array([-0.28315051, -0.22823067, -0.17331083, -0.118391  , -0.06347116,\n",
       "       -0.00855132,  0.04636851,  0.10128835,  0.15620819,  0.21112802])"
      ]
     },
     "execution_count": 18,
     "metadata": {},
     "output_type": "execute_result"
    }
   ],
   "source": [
    "bins"
   ]
  },
  {
   "cell_type": "code",
   "execution_count": 26,
   "id": "1ceb46d6",
   "metadata": {},
   "outputs": [],
   "source": [
    "model_data = df_z.join(df_thomas_left_z)\n",
    "model_data['whole_thalamus'] = df_thomas_z['THALAMUS_1']\n",
    "model_data = model_data[model_data['dz_type5'].isin([\"RMS\", \"PMS\"])]\n",
    "covariates = \"age + Female + tiv\"\n",
    "\n",
    "pvals = {}\n",
    "coefs = {}\n",
    "stderrs = {}\n",
    "llci = {}\n",
    "ulci = {}\n",
    "ci_str = {}\n",
    "r2 = {}\n",
    "\n",
    "outcome = \"EDSS_sqrt\"\n",
    "\n",
    "structs = thalamic_nuclei\n",
    "all_results = {}\n",
    "for x in structs:\n",
    "    col = hips_thomas_ref[x]\n",
    "    formula = f\"{outcome} ~ {col}*dzdur + {covariates}\"\n",
    "    res = sm.OLS.from_formula(formula, data=model_data).fit()\n",
    "    all_results[col] = res\n",
    "    pvals[col] = res.pvalues[col]\n",
    "    coefs[col] = res.params[col]\n",
    "    stderrs[col] = res.HC0_se[col]\n",
    "    ci = res.conf_int()\n",
    "    llci[col] = ci.loc[col, 0]\n",
    "    ulci[col] = ci.loc[col, 1]\n",
    "    ci_str[col] = f\"[{llci[col]:.6f}, {ulci[col]:.6f}]\"\n",
    "    r2[col] = res.rsquared_adj\n",
    "\n",
    "regression_results_left = pd.DataFrame({\"coef\": coefs, \"pvals\": pvals})\n",
    "\n",
    "model_data = df_z.join(df_thomas_right_z)\n",
    "model_data['whole_thalamus'] = df_thomas_z['THALAMUS_1']\n",
    "\n",
    "model_data = model_data[model_data['dz_type5'].isin([\"RMS\", \"PMS\"])]\n",
    "covariates = \"age + Female + tiv\"\n",
    "\n",
    "pvals = {}\n",
    "coefs = {}\n",
    "stderrs = {}\n",
    "llci = {}\n",
    "ulci = {}\n",
    "ci_str = {}\n",
    "r2 = {}\n",
    "\n",
    "outcome = \"EDSS_sqrt\"\n",
    "\n",
    "structs = thalamic_nuclei\n",
    "all_results = {}\n",
    "for x in structs:\n",
    "    col = hips_thomas_ref[x]\n",
    "    formula = f\"{outcome} ~ {col}*dzdur + {covariates}\"\n",
    "    res = sm.OLS.from_formula(formula, data=model_data).fit()\n",
    "    all_results[col] = res\n",
    "    pvals[col] = res.pvalues[col]\n",
    "    coefs[col] = res.params[col]\n",
    "    stderrs[col] = res.HC0_se[col]\n",
    "    ci = res.conf_int()\n",
    "    llci[col] = ci.loc[col, 0]\n",
    "    ulci[col] = ci.loc[col, 1]\n",
    "    ci_str[col] = f\"[{llci[col]:.6f}, {ulci[col]:.6f}]\"\n",
    "    r2[col] = res.rsquared_adj\n",
    "\n",
    "regression_results_right = pd.DataFrame({\"coef\": coefs, \"pvals\": pvals})\n",
    "\n",
    "EDSS_coefs = pd.concat([regression_results_left.coef, regression_results_right.coef])\n",
    "SDMT_coefs = all_coefs"
   ]
  },
  {
   "cell_type": "code",
   "execution_count": 27,
   "id": "3aa6a51b",
   "metadata": {},
   "outputs": [
    {
     "data": {
      "text/plain": [
       "SignificanceResult(statistic=-0.4421052631578947, pvalue=0.005923797271372209)"
      ]
     },
     "execution_count": 27,
     "metadata": {},
     "output_type": "execute_result"
    },
    {
     "data": {
      "image/png": "[encoded data removed]",
      "text/plain": [
       "<Figure size 640x480 with 1 Axes>"
      ]
     },
     "metadata": {},
     "output_type": "display_data"
    }
   ],
   "source": [
    "plt.scatter(EDSS_coefs, SDMT_coefs)\n",
    "plt.xlabel(\"EDSS coefficients\")\n",
    "plt.ylabel(\"SDMT coefficients\")\n",
    "stats.kendalltau(EDSS_coefs, SDMT_coefs)"
   ]
  },
  {
   "cell_type": "code",
   "execution_count": 31,
   "id": "80c7773a",
   "metadata": {},
   "outputs": [],
   "source": [
    "model_data = df_z.join(df_thomas_left_z)\n",
    "model_data['whole_thalamus'] = df_thomas_z['THALAMUS_1']\n",
    "model_data = model_data[model_data['dz_type5'].isin([\"RMS\", \"PMS\"])]\n",
    "covariates = \"age + Female + tiv\"\n",
    "\n",
    "pvals = {}\n",
    "coefs = {}\n",
    "stderrs = {}\n",
    "llci = {}\n",
    "ulci = {}\n",
    "ci_str = {}\n",
    "r2 = {}\n",
    "\n",
    "outcome = \"choroid_volume\"\n",
    "\n",
    "structs = thalamic_nuclei\n",
    "all_results = {}\n",
    "for x in structs:\n",
    "    col = hips_thomas_ref[x]\n",
    "    formula = f\"{outcome} ~ {col} + {covariates}\"\n",
    "    res = sm.OLS.from_formula(formula, data=model_data).fit()\n",
    "    all_results[col] = res\n",
    "    pvals[col] = res.pvalues[col]\n",
    "    coefs[col] = res.params[col]\n",
    "    stderrs[col] = res.HC0_se[col]\n",
    "    ci = res.conf_int()\n",
    "    llci[col] = ci.loc[col, 0]\n",
    "    ulci[col] = ci.loc[col, 1]\n",
    "    ci_str[col] = f\"[{llci[col]:.6f}, {ulci[col]:.6f}]\"\n",
    "    r2[col] = res.rsquared_adj\n",
    "\n",
    "regression_results_left = pd.DataFrame({\"coef\": coefs, \"pvals\": pvals})\n",
    "\n",
    "model_data = df_z.join(df_thomas_right_z)\n",
    "model_data['whole_thalamus'] = df_thomas_z['THALAMUS_1']\n",
    "\n",
    "model_data = model_data[model_data['dz_type5'].isin([\"RMS\", \"PMS\"])]\n",
    "covariates = \"age + Female + tiv\"\n",
    "\n",
    "pvals = {}\n",
    "coefs = {}\n",
    "stderrs = {}\n",
    "llci = {}\n",
    "ulci = {}\n",
    "ci_str = {}\n",
    "r2 = {}\n",
    "\n",
    "outcome = \"choroid_volume\"\n",
    "\n",
    "structs = thalamic_nuclei\n",
    "all_results = {}\n",
    "for x in structs:\n",
    "    col = hips_thomas_ref[x]\n",
    "    formula = f\"{outcome} ~ {col} + {covariates}\"\n",
    "    res = sm.OLS.from_formula(formula, data=model_data).fit()\n",
    "    all_results[col] = res\n",
    "    pvals[col] = res.pvalues[col]\n",
    "    coefs[col] = res.params[col]\n",
    "    stderrs[col] = res.HC0_se[col]\n",
    "    ci = res.conf_int()\n",
    "    llci[col] = ci.loc[col, 0]\n",
    "    ulci[col] = ci.loc[col, 1]\n",
    "    ci_str[col] = f\"[{llci[col]:.6f}, {ulci[col]:.6f}]\"\n",
    "    r2[col] = res.rsquared_adj\n",
    "\n",
    "regression_results_right = pd.DataFrame({\"coef\": coefs, \"pvals\": pvals})\n",
    "\n",
    "EDSS_coefs = pd.concat([regression_results_left.coef, regression_results_right.coef])\n",
    "SDMT_coefs = all_coefs"
   ]
  },
  {
   "cell_type": "code",
   "execution_count": 32,
   "id": "47c9450f",
   "metadata": {},
   "outputs": [
    {
     "data": {
      "text/plain": [
       "SignificanceResult(statistic=-0.39999999999999997, pvalue=0.013532373706902114)"
      ]
     },
     "execution_count": 32,
     "metadata": {},
     "output_type": "execute_result"
    },
    {
     "data": {
      "image/png": "[encoded data removed]",
      "text/plain": [
       "<Figure size 640x480 with 1 Axes>"
      ]
     },
     "metadata": {},
     "output_type": "display_data"
    }
   ],
   "source": [
    "plt.scatter(EDSS_coefs, SDMT_coefs)\n",
    "plt.xlabel(\"EDSS coefficients\")\n",
    "plt.ylabel(\"SDMT coefficients\")\n",
    "stats.kendalltau(EDSS_coefs, SDMT_coefs)"
   ]
  },
  {
   "cell_type": "code",
   "execution_count": 6,
   "id": "02b03b51",
   "metadata": {},
   "outputs": [
    {
     "data": {
      "application/vnd.microsoft.datawrangler.viewer.v0+json": {
       "columns": [
        {
         "name": "index",
         "rawType": "object",
         "type": "string"
        },
        {
         "name": "coef",
         "rawType": "float64",
         "type": "float"
        },
        {
         "name": "stderr",
         "rawType": "float64",
         "type": "float"
        },
        {
         "name": "llci",
         "rawType": "float64",
         "type": "float"
        },
        {
         "name": "ulci",
         "rawType": "float64",
         "type": "float"
        },
        {
         "name": "pvals",
         "rawType": "float64",
         "type": "float"
        },
        {
         "name": "ci",
         "rawType": "object",
         "type": "string"
        },
        {
         "name": "p_fdr",
         "rawType": "float64",
         "type": "float"
        },
        {
         "name": "R2",
         "rawType": "float64",
         "type": "float"
        }
       ],
       "ref": "2089806d-73fb-4662-a09e-2a426f3a4d3d",
       "rows": [
        [
         "AV_2",
         "0.07002692730045021",
         "0.06050867169546371",
         "-0.056103609848442954",
         "0.19615746444934337",
         "0.2758117817649856",
         "[-0.056104, 0.196157]",
         "0.871044174469352",
         "0.24704037588298688"
        ],
        [
         "VA_4",
         "-0.047189660233115785",
         "0.07242020151264757",
         "-0.1839861394054555",
         "0.08960681893922391",
         "0.49815612920792895",
         "[-0.183986, 0.089607]",
         "0.871044174469352",
         "0.24581319035049598"
        ],
        [
         "VLa_5",
         "0.010611062492764377",
         "0.0630013196348254",
         "-0.11606216895708969",
         "0.13728429394261846",
         "0.8693130474873404",
         "[-0.116062, 0.137284]",
         "0.891807531086763",
         "0.24508512630575552"
        ],
        [
         "VLP_6",
         "0.08442452399892143",
         "0.08427809766609837",
         "-0.10011214464483596",
         "0.2689611926426788",
         "0.36908139003072193",
         "[-0.100112, 0.268961]",
         "0.871044174469352",
         "0.2463992770855864"
        ],
        [
         "VPL_7",
         "0.014999514302910907",
         "0.07544894052168079",
         "-0.14758395449566225",
         "0.17758298310148407",
         "0.8562055970782241",
         "[-0.147584, 0.177583]",
         "0.891807531086763",
         "0.24509485199814374"
        ],
        [
         "Pul_8",
         "0.04261517182944823",
         "0.12002707117307108",
         "-0.202839929157334",
         "0.2880702728162305",
         "0.7331093719846478",
         "[-0.202840, 0.288070]",
         "0.891807531086763",
         "0.2452355969758302"
        ],
        [
         "LGN_9",
         "0.09162579012371058",
         "0.06421423038680002",
         "-0.03183124176307367",
         "0.21508282201049483",
         "0.14538644089250663",
         "[-0.031831, 0.215083]",
         "0.7269322044625331",
         "0.2486075704628432"
        ],
        [
         "MGN_10",
         "-0.047750961204840875",
         "0.07563509011837843",
         "-0.1944264451908412",
         "0.09892452278115946",
         "0.5226265046816112",
         "[-0.194426, 0.098925]",
         "0.871044174469352",
         "0.24572865718138615"
        ],
        [
         "CM_11",
         "0.09714741524353508",
         "0.0648982314103188",
         "-0.033441494161925836",
         "0.227736324648996",
         "0.14444180104290996",
         "[-0.033441, 0.227736]",
         "0.7269322044625331",
         "0.24862434069410244"
        ],
        [
         "MD_Pf_12",
         "-0.015176747411597465",
         "0.12059529719442504",
         "-0.23433628689541247",
         "0.20398279207221753",
         "0.891807531086763",
         "[-0.234336, 0.203983]",
         "0.891807531086763",
         "0.2450706693298833"
        ]
       ],
       "shape": {
        "columns": 8,
        "rows": 10
       }
      },
      "text/html": [
       "<div>\n",
       "<style scoped>\n",
       "    .dataframe tbody tr th:only-of-type {\n",
       "        vertical-align: middle;\n",
       "    }\n",
       "\n",
       "    .dataframe tbody tr th {\n",
       "        vertical-align: top;\n",
       "    }\n",
       "\n",
       "    .dataframe thead th {\n",
       "        text-align: right;\n",
       "    }\n",
       "</style>\n",
       "<table border=\"1\" class=\"dataframe\">\n",
       "  <thead>\n",
       "    <tr style=\"text-align: right;\">\n",
       "      <th></th>\n",
       "      <th>coef</th>\n",
       "      <th>stderr</th>\n",
       "      <th>llci</th>\n",
       "      <th>ulci</th>\n",
       "      <th>pvals</th>\n",
       "      <th>ci</th>\n",
       "      <th>p_fdr</th>\n",
       "      <th>R2</th>\n",
       "    </tr>\n",
       "  </thead>\n",
       "  <tbody>\n",
       "    <tr>\n",
       "      <th>AV_2</th>\n",
       "      <td>0.070027</td>\n",
       "      <td>0.060509</td>\n",
       "      <td>-0.056104</td>\n",
       "      <td>0.196157</td>\n",
       "      <td>0.275812</td>\n",
       "      <td>[-0.056104, 0.196157]</td>\n",
       "      <td>0.871044</td>\n",
       "      <td>0.247040</td>\n",
       "    </tr>\n",
       "    <tr>\n",
       "      <th>VA_4</th>\n",
       "      <td>-0.047190</td>\n",
       "      <td>0.072420</td>\n",
       "      <td>-0.183986</td>\n",
       "      <td>0.089607</td>\n",
       "      <td>0.498156</td>\n",
       "      <td>[-0.183986, 0.089607]</td>\n",
       "      <td>0.871044</td>\n",
       "      <td>0.245813</td>\n",
       "    </tr>\n",
       "    <tr>\n",
       "      <th>VLa_5</th>\n",
       "      <td>0.010611</td>\n",
       "      <td>0.063001</td>\n",
       "      <td>-0.116062</td>\n",
       "      <td>0.137284</td>\n",
       "      <td>0.869313</td>\n",
       "      <td>[-0.116062, 0.137284]</td>\n",
       "      <td>0.891808</td>\n",
       "      <td>0.245085</td>\n",
       "    </tr>\n",
       "    <tr>\n",
       "      <th>VLP_6</th>\n",
       "      <td>0.084425</td>\n",
       "      <td>0.084278</td>\n",
       "      <td>-0.100112</td>\n",
       "      <td>0.268961</td>\n",
       "      <td>0.369081</td>\n",
       "      <td>[-0.100112, 0.268961]</td>\n",
       "      <td>0.871044</td>\n",
       "      <td>0.246399</td>\n",
       "    </tr>\n",
       "    <tr>\n",
       "      <th>VPL_7</th>\n",
       "      <td>0.015000</td>\n",
       "      <td>0.075449</td>\n",
       "      <td>-0.147584</td>\n",
       "      <td>0.177583</td>\n",
       "      <td>0.856206</td>\n",
       "      <td>[-0.147584, 0.177583]</td>\n",
       "      <td>0.891808</td>\n",
       "      <td>0.245095</td>\n",
       "    </tr>\n",
       "    <tr>\n",
       "      <th>Pul_8</th>\n",
       "      <td>0.042615</td>\n",
       "      <td>0.120027</td>\n",
       "      <td>-0.202840</td>\n",
       "      <td>0.288070</td>\n",
       "      <td>0.733109</td>\n",
       "      <td>[-0.202840, 0.288070]</td>\n",
       "      <td>0.891808</td>\n",
       "      <td>0.245236</td>\n",
       "    </tr>\n",
       "    <tr>\n",
       "      <th>LGN_9</th>\n",
       "      <td>0.091626</td>\n",
       "      <td>0.064214</td>\n",
       "      <td>-0.031831</td>\n",
       "      <td>0.215083</td>\n",
       "      <td>0.145386</td>\n",
       "      <td>[-0.031831, 0.215083]</td>\n",
       "      <td>0.726932</td>\n",
       "      <td>0.248608</td>\n",
       "    </tr>\n",
       "    <tr>\n",
       "      <th>MGN_10</th>\n",
       "      <td>-0.047751</td>\n",
       "      <td>0.075635</td>\n",
       "      <td>-0.194426</td>\n",
       "      <td>0.098925</td>\n",
       "      <td>0.522627</td>\n",
       "      <td>[-0.194426, 0.098925]</td>\n",
       "      <td>0.871044</td>\n",
       "      <td>0.245729</td>\n",
       "    </tr>\n",
       "    <tr>\n",
       "      <th>CM_11</th>\n",
       "      <td>0.097147</td>\n",
       "      <td>0.064898</td>\n",
       "      <td>-0.033441</td>\n",
       "      <td>0.227736</td>\n",
       "      <td>0.144442</td>\n",
       "      <td>[-0.033441, 0.227736]</td>\n",
       "      <td>0.726932</td>\n",
       "      <td>0.248624</td>\n",
       "    </tr>\n",
       "    <tr>\n",
       "      <th>MD_Pf_12</th>\n",
       "      <td>-0.015177</td>\n",
       "      <td>0.120595</td>\n",
       "      <td>-0.234336</td>\n",
       "      <td>0.203983</td>\n",
       "      <td>0.891808</td>\n",
       "      <td>[-0.234336, 0.203983]</td>\n",
       "      <td>0.891808</td>\n",
       "      <td>0.245071</td>\n",
       "    </tr>\n",
       "  </tbody>\n",
       "</table>\n",
       "</div>"
      ],
      "text/plain": [
       "              coef    stderr      llci      ulci     pvals  \\\n",
       "AV_2      0.070027  0.060509 -0.056104  0.196157  0.275812   \n",
       "VA_4     -0.047190  0.072420 -0.183986  0.089607  0.498156   \n",
       "VLa_5     0.010611  0.063001 -0.116062  0.137284  0.869313   \n",
       "VLP_6     0.084425  0.084278 -0.100112  0.268961  0.369081   \n",
       "VPL_7     0.015000  0.075449 -0.147584  0.177583  0.856206   \n",
       "Pul_8     0.042615  0.120027 -0.202840  0.288070  0.733109   \n",
       "LGN_9     0.091626  0.064214 -0.031831  0.215083  0.145386   \n",
       "MGN_10   -0.047751  0.075635 -0.194426  0.098925  0.522627   \n",
       "CM_11     0.097147  0.064898 -0.033441  0.227736  0.144442   \n",
       "MD_Pf_12 -0.015177  0.120595 -0.234336  0.203983  0.891808   \n",
       "\n",
       "                             ci     p_fdr        R2  \n",
       "AV_2      [-0.056104, 0.196157]  0.871044  0.247040  \n",
       "VA_4      [-0.183986, 0.089607]  0.871044  0.245813  \n",
       "VLa_5     [-0.116062, 0.137284]  0.891808  0.245085  \n",
       "VLP_6     [-0.100112, 0.268961]  0.871044  0.246399  \n",
       "VPL_7     [-0.147584, 0.177583]  0.891808  0.245095  \n",
       "Pul_8     [-0.202840, 0.288070]  0.891808  0.245236  \n",
       "LGN_9     [-0.031831, 0.215083]  0.726932  0.248608  \n",
       "MGN_10    [-0.194426, 0.098925]  0.871044  0.245729  \n",
       "CM_11     [-0.033441, 0.227736]  0.726932  0.248624  \n",
       "MD_Pf_12  [-0.234336, 0.203983]  0.891808  0.245071  "
      ]
     },
     "execution_count": 6,
     "metadata": {},
     "output_type": "execute_result"
    }
   ],
   "source": [
    "model_data = df_z.join(df_thomas_z)\n",
    "model_data = model_data[model_data['dz_type5'].isin([\"RMS\", \"PMS\"])]\n",
    "covariates = \"age + Female + tiv + whole_thalamus\"\n",
    "\n",
    "pvals = {}\n",
    "coefs = {}\n",
    "stderrs = {}\n",
    "llci = {}\n",
    "ulci = {}\n",
    "ci_str = {}\n",
    "r2 = {}\n",
    "\n",
    "outcome = \"SDMT\"\n",
    "\n",
    "structs = thalamic_nuclei\n",
    "all_results = {}\n",
    "for x in structs:\n",
    "    col = hips_thomas_ref[x]\n",
    "    formula = f\"{outcome} ~ {col} + {covariates}\"\n",
    "    res = sm.OLS.from_formula(formula, data=model_data).fit()\n",
    "    all_results[col] = res\n",
    "    pvals[col] = res.pvalues[col]\n",
    "    coefs[col] = res.params[col]\n",
    "    stderrs[col] = res.HC0_se[col]\n",
    "    ci = res.conf_int()\n",
    "    llci[col] = ci.loc[col, 0]\n",
    "    ulci[col] = ci.loc[col, 1]\n",
    "    ci_str[col] = f\"[{llci[col]:.6f}, {ulci[col]:.6f}]\"\n",
    "    r2[col] = res.rsquared_adj\n",
    "\n",
    "\n",
    "\n",
    "regression_results = pd.DataFrame({\"coef\": coefs, \"stderr\": stderrs, \"llci\": llci, \"ulci\": ulci, \"pvals\": pvals, \"ci\": ci_str})\n",
    "regression_results['p_fdr'] = stats.false_discovery_control(\n",
    "    regression_results['pvals'], method='bh'\n",
    ")\n",
    "regression_results['R2'] = r2\n",
    "# regression_results.sort_values(by=\"coef\", inplace=True, ascending=False)\n",
    "# regression_results.to_excel(fig_path / \"thalamic_nuclei.xlsx\")\n",
    "main_coefs = np.array([coefs[hips_thomas_ref[x]] for x in structs])\n",
    "\n",
    "regression_results"
   ]
  },
  {
   "cell_type": "code",
   "execution_count": 11,
   "id": "28317b65",
   "metadata": {},
   "outputs": [
    {
     "data": {
      "application/vnd.microsoft.datawrangler.viewer.v0+json": {
       "columns": [
        {
         "name": "index",
         "rawType": "object",
         "type": "string"
        },
        {
         "name": "coef",
         "rawType": "float64",
         "type": "float"
        },
        {
         "name": "thal_coef",
         "rawType": "float64",
         "type": "float"
        },
        {
         "name": "stderr",
         "rawType": "float64",
         "type": "float"
        },
        {
         "name": "llci",
         "rawType": "float64",
         "type": "float"
        },
        {
         "name": "ulci",
         "rawType": "float64",
         "type": "float"
        },
        {
         "name": "pvals",
         "rawType": "float64",
         "type": "float"
        },
        {
         "name": "ci",
         "rawType": "object",
         "type": "string"
        },
        {
         "name": "p_fdr",
         "rawType": "float64",
         "type": "float"
        },
        {
         "name": "R2",
         "rawType": "float64",
         "type": "float"
        }
       ],
       "ref": "27a93130-ae05-4675-9513-13cdc2e5cbbb",
       "rows": [
        [
         "CM_11",
         "0.0971474152435355",
         "0.2900970575624384",
         "0.06489823141031881",
         "-0.0334414941619255",
         "0.2277363246489965",
         "0.14444180104290857",
         "[-0.033441, 0.227736]",
         "0.7269322044625371",
         "0.24862434069410233"
        ],
        [
         "LGN_9",
         "0.09162579012371033",
         "0.2840031712975561",
         "0.06421423038679999",
         "-0.031831241763073864",
         "0.21508282201049453",
         "0.14538644089250743",
         "[-0.031831, 0.215083]",
         "0.7269322044625371",
         "0.2486075704628432"
        ],
        [
         "VLP_6",
         "0.08442452399892192",
         "0.28534790300576685",
         "0.08427809766609833",
         "-0.1001121446448354",
         "0.26896119264267926",
         "0.36908139003071894",
         "[-0.100112, 0.268961]",
         "0.8710441744693583",
         "0.2463992770855865"
        ],
        [
         "AV_2",
         "0.07002692730045026",
         "0.30901317470798145",
         "0.060508671695463714",
         "-0.0561036098484429",
         "0.19615746444934343",
         "0.27581178176498516",
         "[-0.056104, 0.196157]",
         "0.8710441744693583",
         "0.24704037588298677"
        ],
        [
         "Pul_8",
         "0.04261517182944818",
         "0.31380673270336146",
         "0.12002707117307088",
         "-0.20283992915733365",
         "0.28807027281623",
         "0.7331093719846477",
         "[-0.202840, 0.288070]",
         "0.8918075310867618",
         "0.2452355969758303"
        ],
        [
         "VPL_7",
         "0.01499951430291091",
         "0.34329720537250885",
         "0.07544894052168077",
         "-0.14758395449566225",
         "0.17758298310148407",
         "0.8562055970782241",
         "[-0.147584, 0.177583]",
         "0.8918075310867618",
         "0.24509485199814363"
        ],
        [
         "VLa_5",
         "0.010611062492764063",
         "0.35031619193863894",
         "0.06300131963482541",
         "-0.11606216895709001",
         "0.13728429394261812",
         "0.8693130474873442",
         "[-0.116062, 0.137284]",
         "0.8918075310867618",
         "0.24508512630575552"
        ],
        [
         "MD_Pf_12",
         "-0.015176747411597637",
         "0.37061924273340724",
         "0.12059529719442506",
         "-0.23433628689541272",
         "0.20398279207221745",
         "0.8918075310867618",
         "[-0.234336, 0.203983]",
         "0.8918075310867618",
         "0.2450706693298832"
        ],
        [
         "VA_4",
         "-0.04718966023311598",
         "0.3833597243510684",
         "0.07242020151264755",
         "-0.1839861394054556",
         "0.08960681893922366",
         "0.4981561292079272",
         "[-0.183986, 0.089607]",
         "0.8710441744693583",
         "0.24581319035049576"
        ],
        [
         "MGN_10",
         "-0.047750961204840445",
         "0.39187802498615976",
         "0.07563509011837842",
         "-0.19442644519084074",
         "0.09892452278115986",
         "0.522626504681615",
         "[-0.194426, 0.098925]",
         "0.8710441744693583",
         "0.24572865718138603"
        ]
       ],
       "shape": {
        "columns": 9,
        "rows": 10
       }
      },
      "text/html": [
       "<div>\n",
       "<style scoped>\n",
       "    .dataframe tbody tr th:only-of-type {\n",
       "        vertical-align: middle;\n",
       "    }\n",
       "\n",
       "    .dataframe tbody tr th {\n",
       "        vertical-align: top;\n",
       "    }\n",
       "\n",
       "    .dataframe thead th {\n",
       "        text-align: right;\n",
       "    }\n",
       "</style>\n",
       "<table border=\"1\" class=\"dataframe\">\n",
       "  <thead>\n",
       "    <tr style=\"text-align: right;\">\n",
       "      <th></th>\n",
       "      <th>coef</th>\n",
       "      <th>thal_coef</th>\n",
       "      <th>stderr</th>\n",
       "      <th>llci</th>\n",
       "      <th>ulci</th>\n",
       "      <th>pvals</th>\n",
       "      <th>ci</th>\n",
       "      <th>p_fdr</th>\n",
       "      <th>R2</th>\n",
       "    </tr>\n",
       "  </thead>\n",
       "  <tbody>\n",
       "    <tr>\n",
       "      <th>CM_11</th>\n",
       "      <td>0.097147</td>\n",
       "      <td>0.290097</td>\n",
       "      <td>0.064898</td>\n",
       "      <td>-0.033441</td>\n",
       "      <td>0.227736</td>\n",
       "      <td>0.144442</td>\n",
       "      <td>[-0.033441, 0.227736]</td>\n",
       "      <td>0.726932</td>\n",
       "      <td>0.248624</td>\n",
       "    </tr>\n",
       "    <tr>\n",
       "      <th>LGN_9</th>\n",
       "      <td>0.091626</td>\n",
       "      <td>0.284003</td>\n",
       "      <td>0.064214</td>\n",
       "      <td>-0.031831</td>\n",
       "      <td>0.215083</td>\n",
       "      <td>0.145386</td>\n",
       "      <td>[-0.031831, 0.215083]</td>\n",
       "      <td>0.726932</td>\n",
       "      <td>0.248608</td>\n",
       "    </tr>\n",
       "    <tr>\n",
       "      <th>VLP_6</th>\n",
       "      <td>0.084425</td>\n",
       "      <td>0.285348</td>\n",
       "      <td>0.084278</td>\n",
       "      <td>-0.100112</td>\n",
       "      <td>0.268961</td>\n",
       "      <td>0.369081</td>\n",
       "      <td>[-0.100112, 0.268961]</td>\n",
       "      <td>0.871044</td>\n",
       "      <td>0.246399</td>\n",
       "    </tr>\n",
       "    <tr>\n",
       "      <th>AV_2</th>\n",
       "      <td>0.070027</td>\n",
       "      <td>0.309013</td>\n",
       "      <td>0.060509</td>\n",
       "      <td>-0.056104</td>\n",
       "      <td>0.196157</td>\n",
       "      <td>0.275812</td>\n",
       "      <td>[-0.056104, 0.196157]</td>\n",
       "      <td>0.871044</td>\n",
       "      <td>0.247040</td>\n",
       "    </tr>\n",
       "    <tr>\n",
       "      <th>Pul_8</th>\n",
       "      <td>0.042615</td>\n",
       "      <td>0.313807</td>\n",
       "      <td>0.120027</td>\n",
       "      <td>-0.202840</td>\n",
       "      <td>0.288070</td>\n",
       "      <td>0.733109</td>\n",
       "      <td>[-0.202840, 0.288070]</td>\n",
       "      <td>0.891808</td>\n",
       "      <td>0.245236</td>\n",
       "    </tr>\n",
       "    <tr>\n",
       "      <th>VPL_7</th>\n",
       "      <td>0.015000</td>\n",
       "      <td>0.343297</td>\n",
       "      <td>0.075449</td>\n",
       "      <td>-0.147584</td>\n",
       "      <td>0.177583</td>\n",
       "      <td>0.856206</td>\n",
       "      <td>[-0.147584, 0.177583]</td>\n",
       "      <td>0.891808</td>\n",
       "      <td>0.245095</td>\n",
       "    </tr>\n",
       "    <tr>\n",
       "      <th>VLa_5</th>\n",
       "      <td>0.010611</td>\n",
       "      <td>0.350316</td>\n",
       "      <td>0.063001</td>\n",
       "      <td>-0.116062</td>\n",
       "      <td>0.137284</td>\n",
       "      <td>0.869313</td>\n",
       "      <td>[-0.116062, 0.137284]</td>\n",
       "      <td>0.891808</td>\n",
       "      <td>0.245085</td>\n",
       "    </tr>\n",
       "    <tr>\n",
       "      <th>MD_Pf_12</th>\n",
       "      <td>-0.015177</td>\n",
       "      <td>0.370619</td>\n",
       "      <td>0.120595</td>\n",
       "      <td>-0.234336</td>\n",
       "      <td>0.203983</td>\n",
       "      <td>0.891808</td>\n",
       "      <td>[-0.234336, 0.203983]</td>\n",
       "      <td>0.891808</td>\n",
       "      <td>0.245071</td>\n",
       "    </tr>\n",
       "    <tr>\n",
       "      <th>VA_4</th>\n",
       "      <td>-0.047190</td>\n",
       "      <td>0.383360</td>\n",
       "      <td>0.072420</td>\n",
       "      <td>-0.183986</td>\n",
       "      <td>0.089607</td>\n",
       "      <td>0.498156</td>\n",
       "      <td>[-0.183986, 0.089607]</td>\n",
       "      <td>0.871044</td>\n",
       "      <td>0.245813</td>\n",
       "    </tr>\n",
       "    <tr>\n",
       "      <th>MGN_10</th>\n",
       "      <td>-0.047751</td>\n",
       "      <td>0.391878</td>\n",
       "      <td>0.075635</td>\n",
       "      <td>-0.194426</td>\n",
       "      <td>0.098925</td>\n",
       "      <td>0.522627</td>\n",
       "      <td>[-0.194426, 0.098925]</td>\n",
       "      <td>0.871044</td>\n",
       "      <td>0.245729</td>\n",
       "    </tr>\n",
       "  </tbody>\n",
       "</table>\n",
       "</div>"
      ],
      "text/plain": [
       "              coef  thal_coef    stderr      llci      ulci     pvals  \\\n",
       "CM_11     0.097147   0.290097  0.064898 -0.033441  0.227736  0.144442   \n",
       "LGN_9     0.091626   0.284003  0.064214 -0.031831  0.215083  0.145386   \n",
       "VLP_6     0.084425   0.285348  0.084278 -0.100112  0.268961  0.369081   \n",
       "AV_2      0.070027   0.309013  0.060509 -0.056104  0.196157  0.275812   \n",
       "Pul_8     0.042615   0.313807  0.120027 -0.202840  0.288070  0.733109   \n",
       "VPL_7     0.015000   0.343297  0.075449 -0.147584  0.177583  0.856206   \n",
       "VLa_5     0.010611   0.350316  0.063001 -0.116062  0.137284  0.869313   \n",
       "MD_Pf_12 -0.015177   0.370619  0.120595 -0.234336  0.203983  0.891808   \n",
       "VA_4     -0.047190   0.383360  0.072420 -0.183986  0.089607  0.498156   \n",
       "MGN_10   -0.047751   0.391878  0.075635 -0.194426  0.098925  0.522627   \n",
       "\n",
       "                             ci     p_fdr        R2  \n",
       "CM_11     [-0.033441, 0.227736]  0.726932  0.248624  \n",
       "LGN_9     [-0.031831, 0.215083]  0.726932  0.248608  \n",
       "VLP_6     [-0.100112, 0.268961]  0.871044  0.246399  \n",
       "AV_2      [-0.056104, 0.196157]  0.871044  0.247040  \n",
       "Pul_8     [-0.202840, 0.288070]  0.891808  0.245236  \n",
       "VPL_7     [-0.147584, 0.177583]  0.891808  0.245095  \n",
       "VLa_5     [-0.116062, 0.137284]  0.891808  0.245085  \n",
       "MD_Pf_12  [-0.234336, 0.203983]  0.891808  0.245071  \n",
       "VA_4      [-0.183986, 0.089607]  0.871044  0.245813  \n",
       "MGN_10    [-0.194426, 0.098925]  0.871044  0.245729  "
      ]
     },
     "execution_count": 11,
     "metadata": {},
     "output_type": "execute_result"
    }
   ],
   "source": [
    "model_data = df_z.join(df_thomas_z)\n",
    "model_data = model_data[model_data['dz_type5'].isin([\"RMS\", \"PMS\"])]\n",
    "covariates = \"age + Female + tiv + THALAMUS_1\"\n",
    "\n",
    "pvals = {}\n",
    "coefs = {}\n",
    "stderrs = {}\n",
    "llci = {}\n",
    "ulci = {}\n",
    "ci_str = {}\n",
    "r2 = {}\n",
    "thal_coefs = {}\n",
    "\n",
    "\n",
    "outcome = \"SDMT\"\n",
    "\n",
    "structs = thalamic_nuclei\n",
    "all_results = {}\n",
    "for x in structs:\n",
    "    col = hips_thomas_ref[x]\n",
    "    formula = f\"{outcome} ~ {col} + {covariates}\"\n",
    "    res = sm.OLS.from_formula(formula, data=model_data).fit()\n",
    "    pvals[col] = res.pvalues[col]\n",
    "    coefs[col] = res.params[col]\n",
    "    thal_coefs[col] = res.params['THALAMUS_1']\n",
    "    stderrs[col] = res.HC0_se[col]\n",
    "    ci = res.conf_int()\n",
    "    llci[col] = ci.loc[col, 0]\n",
    "    ulci[col] = ci.loc[col, 1]\n",
    "    ci_str[col] = f\"[{llci[col]:.6f}, {ulci[col]:.6f}]\"\n",
    "    r2[col] = res.rsquared_adj\n",
    "\n",
    "\n",
    "\n",
    "regression_results = pd.DataFrame({\"coef\": coefs, \"thal_coef\": thal_coefs, \"stderr\": stderrs, \"llci\": llci, \"ulci\": ulci, \"pvals\": pvals, \"ci\": ci_str})\n",
    "regression_results['p_fdr'] = stats.false_discovery_control(\n",
    "    regression_results['pvals'], method='bh'\n",
    ")\n",
    "regression_results['R2'] = r2\n",
    "regression_results.sort_values(by=\"coef\", inplace=True, ascending=False)\n",
    "regression_results.to_excel(fig_path / \"thalamic_nuclei_thalamus_control.xlsx\")\n",
    "main_coefs = np.array([coefs[hips_thomas_ref[x]] for x in structs])\n",
    "\n",
    "regression_results"
   ]
  },
  {
   "cell_type": "code",
   "execution_count": 14,
   "id": "3574c5c0",
   "metadata": {},
   "outputs": [
    {
     "data": {
      "application/vnd.microsoft.datawrangler.viewer.v0+json": {
       "columns": [
        {
         "name": "index",
         "rawType": "object",
         "type": "string"
        },
        {
         "name": "coef",
         "rawType": "float64",
         "type": "float"
        },
        {
         "name": "stderr",
         "rawType": "float64",
         "type": "float"
        },
        {
         "name": "llci",
         "rawType": "float64",
         "type": "float"
        },
        {
         "name": "ulci",
         "rawType": "float64",
         "type": "float"
        },
        {
         "name": "pvals",
         "rawType": "float64",
         "type": "float"
        },
        {
         "name": "ci",
         "rawType": "object",
         "type": "string"
        },
        {
         "name": "p_fdr",
         "rawType": "float64",
         "type": "float"
        },
        {
         "name": "R2",
         "rawType": "float64",
         "type": "float"
        }
       ],
       "ref": "0d2a7d4e-52eb-4859-adac-cf221a977ecd",
       "rows": [
        [
         "Pul_8",
         "0.21150656052478933",
         "0.04671722071648312",
         "0.12877359684170037",
         "0.2942395242078783",
         "7.311663431511014e-07",
         "[0.128774, 0.294240]",
         "2.437221143837005e-06",
         "0.19989776745392185"
        ],
        [
         "AV_2",
         "0.17970688788051387",
         "0.044493207638877645",
         "0.08819925305372718",
         "0.27121452270730056",
         "0.0001302957862640439",
         "[0.088199, 0.271215]",
         "0.0003257394656601097",
         "0.18205195299246746"
        ],
        [
         "LGN_9",
         "0.14121991877935908",
         "0.04513358129687007",
         "0.056109449468952466",
         "0.2263303880897657",
         "0.001195274261907542",
         "[0.056109, 0.226330]",
         "0.0019921237698459033",
         "0.17446699783157538"
        ],
        [
         "MD_Pf_12",
         "0.023326874487905904",
         "0.051148178961721205",
         "-0.06007760678763249",
         "0.10673135576344431",
         "0.5828316328520776",
         "[-0.060078, 0.106731]",
         "0.6475907031689752",
         "0.15548488514466485"
        ],
        [
         "VPL_7",
         "-0.00010611368316397409",
         "0.043589583406203544",
         "-0.08689217783165247",
         "0.08667995046532452",
         "0.9980838056030988",
         "[-0.086892, 0.086680]",
         "0.9980838056030988",
         "0.15491665039061675"
        ],
        [
         "CM_11",
         "-0.04727669180911926",
         "0.0474699661492914",
         "-0.13460243151450624",
         "0.040049047896267724",
         "0.2879188455581731",
         "[-0.134602, 0.040049]",
         "0.3598985569477164",
         "0.15704188912413897"
        ],
        [
         "VLP_6",
         "-0.09754244870915779",
         "0.047098467396083483",
         "-0.18618849558286849",
         "-0.008896401835447085",
         "0.031107575813132064",
         "[-0.186188, -0.008896]",
         "0.04443939401876009",
         "0.16362753148324616"
        ],
        [
         "MGN_10",
         "-0.17384384929683092",
         "0.04853313369735185",
         "-0.2641612968499724",
         "-0.0835264017436894",
         "0.00017610209427032768",
         "[-0.264161, -0.083526]",
         "0.00035220418854065537",
         "0.18101688743062716"
        ],
        [
         "VLa_5",
         "-0.26004968128732986",
         "0.045163931924962805",
         "-0.34338724448345026",
         "-0.17671211809120946",
         "1.8985238576562863e-09",
         "[-0.343387, -0.176712]",
         "9.492619288281432e-09",
         "0.22022859671864237"
        ],
        [
         "VA_4",
         "-0.2905507597780779",
         "0.04332117329513474",
         "-0.3730231057122575",
         "-0.20807841384389836",
         "1.5293681070789424e-11",
         "[-0.373023, -0.208078]",
         "1.5293681070789424e-10",
         "0.23643707733070263"
        ]
       ],
       "shape": {
        "columns": 8,
        "rows": 10
       }
      },
      "text/html": [
       "<div>\n",
       "<style scoped>\n",
       "    .dataframe tbody tr th:only-of-type {\n",
       "        vertical-align: middle;\n",
       "    }\n",
       "\n",
       "    .dataframe tbody tr th {\n",
       "        vertical-align: top;\n",
       "    }\n",
       "\n",
       "    .dataframe thead th {\n",
       "        text-align: right;\n",
       "    }\n",
       "</style>\n",
       "<table border=\"1\" class=\"dataframe\">\n",
       "  <thead>\n",
       "    <tr style=\"text-align: right;\">\n",
       "      <th></th>\n",
       "      <th>coef</th>\n",
       "      <th>stderr</th>\n",
       "      <th>llci</th>\n",
       "      <th>ulci</th>\n",
       "      <th>pvals</th>\n",
       "      <th>ci</th>\n",
       "      <th>p_fdr</th>\n",
       "      <th>R2</th>\n",
       "    </tr>\n",
       "  </thead>\n",
       "  <tbody>\n",
       "    <tr>\n",
       "      <th>Pul_8</th>\n",
       "      <td>0.211507</td>\n",
       "      <td>0.046717</td>\n",
       "      <td>0.128774</td>\n",
       "      <td>0.294240</td>\n",
       "      <td>7.311663e-07</td>\n",
       "      <td>[0.128774, 0.294240]</td>\n",
       "      <td>2.437221e-06</td>\n",
       "      <td>0.199898</td>\n",
       "    </tr>\n",
       "    <tr>\n",
       "      <th>AV_2</th>\n",
       "      <td>0.179707</td>\n",
       "      <td>0.044493</td>\n",
       "      <td>0.088199</td>\n",
       "      <td>0.271215</td>\n",
       "      <td>1.302958e-04</td>\n",
       "      <td>[0.088199, 0.271215]</td>\n",
       "      <td>3.257395e-04</td>\n",
       "      <td>0.182052</td>\n",
       "    </tr>\n",
       "    <tr>\n",
       "      <th>LGN_9</th>\n",
       "      <td>0.141220</td>\n",
       "      <td>0.045134</td>\n",
       "      <td>0.056109</td>\n",
       "      <td>0.226330</td>\n",
       "      <td>1.195274e-03</td>\n",
       "      <td>[0.056109, 0.226330]</td>\n",
       "      <td>1.992124e-03</td>\n",
       "      <td>0.174467</td>\n",
       "    </tr>\n",
       "    <tr>\n",
       "      <th>MD_Pf_12</th>\n",
       "      <td>0.023327</td>\n",
       "      <td>0.051148</td>\n",
       "      <td>-0.060078</td>\n",
       "      <td>0.106731</td>\n",
       "      <td>5.828316e-01</td>\n",
       "      <td>[-0.060078, 0.106731]</td>\n",
       "      <td>6.475907e-01</td>\n",
       "      <td>0.155485</td>\n",
       "    </tr>\n",
       "    <tr>\n",
       "      <th>VPL_7</th>\n",
       "      <td>-0.000106</td>\n",
       "      <td>0.043590</td>\n",
       "      <td>-0.086892</td>\n",
       "      <td>0.086680</td>\n",
       "      <td>9.980838e-01</td>\n",
       "      <td>[-0.086892, 0.086680]</td>\n",
       "      <td>9.980838e-01</td>\n",
       "      <td>0.154917</td>\n",
       "    </tr>\n",
       "    <tr>\n",
       "      <th>CM_11</th>\n",
       "      <td>-0.047277</td>\n",
       "      <td>0.047470</td>\n",
       "      <td>-0.134602</td>\n",
       "      <td>0.040049</td>\n",
       "      <td>2.879188e-01</td>\n",
       "      <td>[-0.134602, 0.040049]</td>\n",
       "      <td>3.598986e-01</td>\n",
       "      <td>0.157042</td>\n",
       "    </tr>\n",
       "    <tr>\n",
       "      <th>VLP_6</th>\n",
       "      <td>-0.097542</td>\n",
       "      <td>0.047098</td>\n",
       "      <td>-0.186188</td>\n",
       "      <td>-0.008896</td>\n",
       "      <td>3.110758e-02</td>\n",
       "      <td>[-0.186188, -0.008896]</td>\n",
       "      <td>4.443939e-02</td>\n",
       "      <td>0.163628</td>\n",
       "    </tr>\n",
       "    <tr>\n",
       "      <th>MGN_10</th>\n",
       "      <td>-0.173844</td>\n",
       "      <td>0.048533</td>\n",
       "      <td>-0.264161</td>\n",
       "      <td>-0.083526</td>\n",
       "      <td>1.761021e-04</td>\n",
       "      <td>[-0.264161, -0.083526]</td>\n",
       "      <td>3.522042e-04</td>\n",
       "      <td>0.181017</td>\n",
       "    </tr>\n",
       "    <tr>\n",
       "      <th>VLa_5</th>\n",
       "      <td>-0.260050</td>\n",
       "      <td>0.045164</td>\n",
       "      <td>-0.343387</td>\n",
       "      <td>-0.176712</td>\n",
       "      <td>1.898524e-09</td>\n",
       "      <td>[-0.343387, -0.176712]</td>\n",
       "      <td>9.492619e-09</td>\n",
       "      <td>0.220229</td>\n",
       "    </tr>\n",
       "    <tr>\n",
       "      <th>VA_4</th>\n",
       "      <td>-0.290551</td>\n",
       "      <td>0.043321</td>\n",
       "      <td>-0.373023</td>\n",
       "      <td>-0.208078</td>\n",
       "      <td>1.529368e-11</td>\n",
       "      <td>[-0.373023, -0.208078]</td>\n",
       "      <td>1.529368e-10</td>\n",
       "      <td>0.236437</td>\n",
       "    </tr>\n",
       "  </tbody>\n",
       "</table>\n",
       "</div>"
      ],
      "text/plain": [
       "              coef    stderr      llci      ulci         pvals  \\\n",
       "Pul_8     0.211507  0.046717  0.128774  0.294240  7.311663e-07   \n",
       "AV_2      0.179707  0.044493  0.088199  0.271215  1.302958e-04   \n",
       "LGN_9     0.141220  0.045134  0.056109  0.226330  1.195274e-03   \n",
       "MD_Pf_12  0.023327  0.051148 -0.060078  0.106731  5.828316e-01   \n",
       "VPL_7    -0.000106  0.043590 -0.086892  0.086680  9.980838e-01   \n",
       "CM_11    -0.047277  0.047470 -0.134602  0.040049  2.879188e-01   \n",
       "VLP_6    -0.097542  0.047098 -0.186188 -0.008896  3.110758e-02   \n",
       "MGN_10   -0.173844  0.048533 -0.264161 -0.083526  1.761021e-04   \n",
       "VLa_5    -0.260050  0.045164 -0.343387 -0.176712  1.898524e-09   \n",
       "VA_4     -0.290551  0.043321 -0.373023 -0.208078  1.529368e-11   \n",
       "\n",
       "                              ci         p_fdr        R2  \n",
       "Pul_8       [0.128774, 0.294240]  2.437221e-06  0.199898  \n",
       "AV_2        [0.088199, 0.271215]  3.257395e-04  0.182052  \n",
       "LGN_9       [0.056109, 0.226330]  1.992124e-03  0.174467  \n",
       "MD_Pf_12   [-0.060078, 0.106731]  6.475907e-01  0.155485  \n",
       "VPL_7      [-0.086892, 0.086680]  9.980838e-01  0.154917  \n",
       "CM_11      [-0.134602, 0.040049]  3.598986e-01  0.157042  \n",
       "VLP_6     [-0.186188, -0.008896]  4.443939e-02  0.163628  \n",
       "MGN_10    [-0.264161, -0.083526]  3.522042e-04  0.181017  \n",
       "VLa_5     [-0.343387, -0.176712]  9.492619e-09  0.220229  \n",
       "VA_4      [-0.373023, -0.208078]  1.529368e-10  0.236437  "
      ]
     },
     "execution_count": 14,
     "metadata": {},
     "output_type": "execute_result"
    }
   ],
   "source": [
    "model_data = df_z.join(df_thomas_norm_z)\n",
    "model_data = model_data[model_data['dz_type5'].isin([\"RMS\", \"PMS\"])]\n",
    "covariates = \"age + Female + tiv\"\n",
    "\n",
    "pvals = {}\n",
    "coefs = {}\n",
    "stderrs = {}\n",
    "llci = {}\n",
    "ulci = {}\n",
    "ci_str = {}\n",
    "r2 = {}\n",
    "\n",
    "outcome = \"SDMT\"\n",
    "\n",
    "structs = thalamic_nuclei\n",
    "all_results = {}\n",
    "for x in structs:\n",
    "    col = hips_thomas_ref[x]\n",
    "    formula = f\"{outcome} ~ {col} + {covariates}\"\n",
    "    res = sm.OLS.from_formula(formula, data=model_data).fit()\n",
    "    all_results[col] = res\n",
    "    pvals[col] = res.pvalues[col]\n",
    "    coefs[col] = res.params[col]\n",
    "    stderrs[col] = res.HC0_se[col]\n",
    "    ci = res.conf_int()\n",
    "    llci[col] = ci.loc[col, 0]\n",
    "    ulci[col] = ci.loc[col, 1]\n",
    "    ci_str[col] = f\"[{llci[col]:.6f}, {ulci[col]:.6f}]\"\n",
    "    r2[col] = res.rsquared_adj\n",
    "\n",
    "\n",
    "\n",
    "regression_results = pd.DataFrame({\"coef\": coefs, \"stderr\": stderrs, \"llci\": llci, \"ulci\": ulci, \"pvals\": pvals, \"ci\": ci_str})\n",
    "regression_results['p_fdr'] = stats.false_discovery_control(\n",
    "    regression_results['pvals'], method='bh'\n",
    ")\n",
    "regression_results['R2'] = r2\n",
    "regression_results.sort_values(by=\"coef\", inplace=True, ascending=False)\n",
    "regression_results.to_excel(fig_path / \"thalamic_nuclei_normed.xlsx\")\n",
    "main_coefs = np.array([coefs[hips_thomas_ref[x]] for x in structs])\n",
    "\n",
    "regression_results"
   ]
  },
  {
   "cell_type": "code",
   "execution_count": 8,
   "id": "0deb5ddd",
   "metadata": {},
   "outputs": [
    {
     "data": {
      "application/vnd.microsoft.datawrangler.viewer.v0+json": {
       "columns": [
        {
         "name": "index",
         "rawType": "object",
         "type": "string"
        },
        {
         "name": "coef",
         "rawType": "float64",
         "type": "float"
        },
        {
         "name": "stderr",
         "rawType": "float64",
         "type": "float"
        },
        {
         "name": "llci",
         "rawType": "float64",
         "type": "float"
        },
        {
         "name": "ulci",
         "rawType": "float64",
         "type": "float"
        },
        {
         "name": "pvals",
         "rawType": "float64",
         "type": "float"
        },
        {
         "name": "ci",
         "rawType": "object",
         "type": "string"
        },
        {
         "name": "p_fdr",
         "rawType": "float64",
         "type": "float"
        },
        {
         "name": "R2",
         "rawType": "float64",
         "type": "float"
        }
       ],
       "ref": "be647145-6c19-43cd-8d79-4c40db793747",
       "rows": [
        [
         "ventral",
         "0.5108959391725296",
         "0.08939354733317734",
         "0.3254967352339381",
         "0.6962951431111212",
         "3.993735354681892e-07",
         "[0.325497, 0.696295]",
         "1.9968676773409463e-06",
         "0.23991618157764572"
        ],
        [
         "THALAMUS_1",
         "0.45825408498306897",
         "0.08565475881922274",
         "0.2788995914172048",
         "0.6376085785489332",
         "2.08965119172794e-06",
         "[0.278900, 0.637609]",
         "5.2241279793198494e-06",
         "0.21205744221620892"
        ],
        [
         "posterior",
         "0.4008440141080352",
         "0.09061058904365801",
         "0.21987365073343312",
         "0.5818143774826373",
         "2.983040138281351e-05",
         "[0.219874, 0.581814]",
         "4.9717335638022514e-05",
         "0.16549549823448628"
        ],
        [
         "medial",
         "0.31677021777150755",
         "0.07995633966912456",
         "0.1381500223043157",
         "0.49539041323869937",
         "0.0006741073119020361",
         "[0.138150, 0.495390]",
         "0.0008426341398775451",
         "0.1082851056066152"
        ],
        [
         "anterior",
         "0.27395658531718475",
         "0.12483860334193526",
         "0.013515694642444065",
         "0.5343974759919254",
         "0.03946196724452027",
         "[0.013516, 0.534397]",
         "0.03946196724452027",
         "0.03141864414328854"
        ]
       ],
       "shape": {
        "columns": 8,
        "rows": 5
       }
      },
      "text/html": [
       "<div>\n",
       "<style scoped>\n",
       "    .dataframe tbody tr th:only-of-type {\n",
       "        vertical-align: middle;\n",
       "    }\n",
       "\n",
       "    .dataframe tbody tr th {\n",
       "        vertical-align: top;\n",
       "    }\n",
       "\n",
       "    .dataframe thead th {\n",
       "        text-align: right;\n",
       "    }\n",
       "</style>\n",
       "<table border=\"1\" class=\"dataframe\">\n",
       "  <thead>\n",
       "    <tr style=\"text-align: right;\">\n",
       "      <th></th>\n",
       "      <th>coef</th>\n",
       "      <th>stderr</th>\n",
       "      <th>llci</th>\n",
       "      <th>ulci</th>\n",
       "      <th>pvals</th>\n",
       "      <th>ci</th>\n",
       "      <th>p_fdr</th>\n",
       "      <th>R2</th>\n",
       "    </tr>\n",
       "  </thead>\n",
       "  <tbody>\n",
       "    <tr>\n",
       "      <th>ventral</th>\n",
       "      <td>0.510896</td>\n",
       "      <td>0.089394</td>\n",
       "      <td>0.325497</td>\n",
       "      <td>0.696295</td>\n",
       "      <td>3.993735e-07</td>\n",
       "      <td>[0.325497, 0.696295]</td>\n",
       "      <td>0.000002</td>\n",
       "      <td>0.239916</td>\n",
       "    </tr>\n",
       "    <tr>\n",
       "      <th>THALAMUS_1</th>\n",
       "      <td>0.458254</td>\n",
       "      <td>0.085655</td>\n",
       "      <td>0.278900</td>\n",
       "      <td>0.637609</td>\n",
       "      <td>2.089651e-06</td>\n",
       "      <td>[0.278900, 0.637609]</td>\n",
       "      <td>0.000005</td>\n",
       "      <td>0.212057</td>\n",
       "    </tr>\n",
       "    <tr>\n",
       "      <th>posterior</th>\n",
       "      <td>0.400844</td>\n",
       "      <td>0.090611</td>\n",
       "      <td>0.219874</td>\n",
       "      <td>0.581814</td>\n",
       "      <td>2.983040e-05</td>\n",
       "      <td>[0.219874, 0.581814]</td>\n",
       "      <td>0.000050</td>\n",
       "      <td>0.165495</td>\n",
       "    </tr>\n",
       "    <tr>\n",
       "      <th>medial</th>\n",
       "      <td>0.316770</td>\n",
       "      <td>0.079956</td>\n",
       "      <td>0.138150</td>\n",
       "      <td>0.495390</td>\n",
       "      <td>6.741073e-04</td>\n",
       "      <td>[0.138150, 0.495390]</td>\n",
       "      <td>0.000843</td>\n",
       "      <td>0.108285</td>\n",
       "    </tr>\n",
       "    <tr>\n",
       "      <th>anterior</th>\n",
       "      <td>0.273957</td>\n",
       "      <td>0.124839</td>\n",
       "      <td>0.013516</td>\n",
       "      <td>0.534397</td>\n",
       "      <td>3.946197e-02</td>\n",
       "      <td>[0.013516, 0.534397]</td>\n",
       "      <td>0.039462</td>\n",
       "      <td>0.031419</td>\n",
       "    </tr>\n",
       "  </tbody>\n",
       "</table>\n",
       "</div>"
      ],
      "text/plain": [
       "                coef    stderr      llci      ulci         pvals  \\\n",
       "ventral     0.510896  0.089394  0.325497  0.696295  3.993735e-07   \n",
       "THALAMUS_1  0.458254  0.085655  0.278900  0.637609  2.089651e-06   \n",
       "posterior   0.400844  0.090611  0.219874  0.581814  2.983040e-05   \n",
       "medial      0.316770  0.079956  0.138150  0.495390  6.741073e-04   \n",
       "anterior    0.273957  0.124839  0.013516  0.534397  3.946197e-02   \n",
       "\n",
       "                              ci     p_fdr        R2  \n",
       "ventral     [0.325497, 0.696295]  0.000002  0.239916  \n",
       "THALAMUS_1  [0.278900, 0.637609]  0.000005  0.212057  \n",
       "posterior   [0.219874, 0.581814]  0.000050  0.165495  \n",
       "medial      [0.138150, 0.495390]  0.000843  0.108285  \n",
       "anterior    [0.013516, 0.534397]  0.039462  0.031419  "
      ]
     },
     "execution_count": 8,
     "metadata": {},
     "output_type": "execute_result"
    }
   ],
   "source": [
    "model_data = df_z.join(df_thomas2_z)\n",
    "model_data['THALAMUS_1'] = df_thomas_z['THALAMUS_1']\n",
    "model_data = model_data[model_data['dz_type5'].isin([\"PMS\"])]\n",
    "covariates = \"age + Female + tiv\"\n",
    "\n",
    "pvals = {}\n",
    "coefs = {}\n",
    "stderrs = {}\n",
    "llci = {}\n",
    "ulci = {}\n",
    "ci_str = {}\n",
    "r2 = {}\n",
    "\n",
    "outcome = \"SDMT\"\n",
    "\n",
    "structs = [\"anterior\", \"medial\", \"ventral\", \"posterior\", \"THALAMUS_1\"]\n",
    "all_results = {}\n",
    "for x in structs:\n",
    "    col = x\n",
    "    formula = f\"{outcome} ~ {col} + {covariates}\"\n",
    "    res = sm.OLS.from_formula(formula, data=model_data).fit()\n",
    "    all_results[col] = res\n",
    "    pvals[col] = res.pvalues[col]\n",
    "    coefs[col] = res.params[col]\n",
    "    stderrs[col] = res.HC0_se[col]\n",
    "    ci = res.conf_int()\n",
    "    llci[col] = ci.loc[col, 0]\n",
    "    ulci[col] = ci.loc[col, 1]\n",
    "    ci_str[col] = f\"[{llci[col]:.6f}, {ulci[col]:.6f}]\"\n",
    "    r2[col] = res.rsquared_adj\n",
    "\n",
    "\n",
    "\n",
    "regression_results = pd.DataFrame({\"coef\": coefs, \"stderr\": stderrs, \"llci\": llci, \"ulci\": ulci, \"pvals\": pvals, \"ci\": ci_str})\n",
    "regression_results['p_fdr'] = stats.false_discovery_control(\n",
    "    regression_results['pvals'], method='bh'\n",
    ")\n",
    "regression_results['R2'] = r2\n",
    "regression_results.sort_values(by=\"coef\", inplace=True, ascending=False)\n",
    "# regression_results.to_excel(fig_path / \"thalamic_nuclei_normed.xlsx\")\n",
    "main_coefs = np.array([coefs[x] for x in structs])\n",
    "\n",
    "regression_results"
   ]
  },
  {
   "cell_type": "code",
   "execution_count": 9,
   "id": "1767b73a",
   "metadata": {},
   "outputs": [
    {
     "data": {
      "application/vnd.microsoft.datawrangler.viewer.v0+json": {
       "columns": [
        {
         "name": "index",
         "rawType": "object",
         "type": "string"
        },
        {
         "name": "coef",
         "rawType": "float64",
         "type": "float"
        },
        {
         "name": "stderr",
         "rawType": "float64",
         "type": "float"
        },
        {
         "name": "llci",
         "rawType": "float64",
         "type": "float"
        },
        {
         "name": "ulci",
         "rawType": "float64",
         "type": "float"
        },
        {
         "name": "pvals",
         "rawType": "float64",
         "type": "float"
        },
        {
         "name": "ci",
         "rawType": "object",
         "type": "string"
        },
        {
         "name": "p_fdr",
         "rawType": "float64",
         "type": "float"
        },
        {
         "name": "R2",
         "rawType": "float64",
         "type": "float"
        }
       ],
       "ref": "bc2b6750-16d3-4ea3-bd64-2bbf2904442e",
       "rows": [
        [
         "ventral",
         "0.397408219040844",
         "0.19187110649131314",
         "-0.018451620892970477",
         "0.8132680589746585",
         "0.0608256721788095",
         "[-0.018452, 0.813268]",
         "0.121651344357619",
         "0.23447807194837011"
        ],
        [
         "posterior",
         "-0.14706520840245677",
         "0.24007417195225983",
         "-0.6410065961499508",
         "0.34687617934503734",
         "0.5555738423906944",
         "[-0.641007, 0.346876]",
         "0.5555738423906944",
         "0.20626136198149636"
        ],
        [
         "anterior",
         "-0.1712495141605829",
         "0.13836758603913688",
         "-0.4729748764303171",
         "0.13047584810915133",
         "0.26241906211700694",
         "[-0.472975, 0.130476]",
         "0.3498920828226759",
         "0.21446001332954"
        ],
        [
         "medial",
         "-0.4305759260167223",
         "0.20727387907506178",
         "-0.8282855682595173",
         "-0.03286628377392731",
         "0.03417484642077317",
         "[-0.828286, -0.032866]",
         "0.121651344357619",
         "0.24292751244241007"
        ]
       ],
       "shape": {
        "columns": 8,
        "rows": 4
       }
      },
      "text/html": [
       "<div>\n",
       "<style scoped>\n",
       "    .dataframe tbody tr th:only-of-type {\n",
       "        vertical-align: middle;\n",
       "    }\n",
       "\n",
       "    .dataframe tbody tr th {\n",
       "        vertical-align: top;\n",
       "    }\n",
       "\n",
       "    .dataframe thead th {\n",
       "        text-align: right;\n",
       "    }\n",
       "</style>\n",
       "<table border=\"1\" class=\"dataframe\">\n",
       "  <thead>\n",
       "    <tr style=\"text-align: right;\">\n",
       "      <th></th>\n",
       "      <th>coef</th>\n",
       "      <th>stderr</th>\n",
       "      <th>llci</th>\n",
       "      <th>ulci</th>\n",
       "      <th>pvals</th>\n",
       "      <th>ci</th>\n",
       "      <th>p_fdr</th>\n",
       "      <th>R2</th>\n",
       "    </tr>\n",
       "  </thead>\n",
       "  <tbody>\n",
       "    <tr>\n",
       "      <th>ventral</th>\n",
       "      <td>0.397408</td>\n",
       "      <td>0.191871</td>\n",
       "      <td>-0.018452</td>\n",
       "      <td>0.813268</td>\n",
       "      <td>0.060826</td>\n",
       "      <td>[-0.018452, 0.813268]</td>\n",
       "      <td>0.121651</td>\n",
       "      <td>0.234478</td>\n",
       "    </tr>\n",
       "    <tr>\n",
       "      <th>posterior</th>\n",
       "      <td>-0.147065</td>\n",
       "      <td>0.240074</td>\n",
       "      <td>-0.641007</td>\n",
       "      <td>0.346876</td>\n",
       "      <td>0.555574</td>\n",
       "      <td>[-0.641007, 0.346876]</td>\n",
       "      <td>0.555574</td>\n",
       "      <td>0.206261</td>\n",
       "    </tr>\n",
       "    <tr>\n",
       "      <th>anterior</th>\n",
       "      <td>-0.171250</td>\n",
       "      <td>0.138368</td>\n",
       "      <td>-0.472975</td>\n",
       "      <td>0.130476</td>\n",
       "      <td>0.262419</td>\n",
       "      <td>[-0.472975, 0.130476]</td>\n",
       "      <td>0.349892</td>\n",
       "      <td>0.214460</td>\n",
       "    </tr>\n",
       "    <tr>\n",
       "      <th>medial</th>\n",
       "      <td>-0.430576</td>\n",
       "      <td>0.207274</td>\n",
       "      <td>-0.828286</td>\n",
       "      <td>-0.032866</td>\n",
       "      <td>0.034175</td>\n",
       "      <td>[-0.828286, -0.032866]</td>\n",
       "      <td>0.121651</td>\n",
       "      <td>0.242928</td>\n",
       "    </tr>\n",
       "  </tbody>\n",
       "</table>\n",
       "</div>"
      ],
      "text/plain": [
       "               coef    stderr      llci      ulci     pvals  \\\n",
       "ventral    0.397408  0.191871 -0.018452  0.813268  0.060826   \n",
       "posterior -0.147065  0.240074 -0.641007  0.346876  0.555574   \n",
       "anterior  -0.171250  0.138368 -0.472975  0.130476  0.262419   \n",
       "medial    -0.430576  0.207274 -0.828286 -0.032866  0.034175   \n",
       "\n",
       "                               ci     p_fdr        R2  \n",
       "ventral     [-0.018452, 0.813268]  0.121651  0.234478  \n",
       "posterior   [-0.641007, 0.346876]  0.555574  0.206261  \n",
       "anterior    [-0.472975, 0.130476]  0.349892  0.214460  \n",
       "medial     [-0.828286, -0.032866]  0.121651  0.242928  "
      ]
     },
     "execution_count": 9,
     "metadata": {},
     "output_type": "execute_result"
    }
   ],
   "source": [
    "model_data = df_z.join(df_thomas2_z)\n",
    "model_data['THALAMUS_1'] = df_thomas_z['THALAMUS_1']\n",
    "model_data = model_data[model_data['dz_type5'].isin([\"PMS\"])]\n",
    "covariates = \"age + Female + tiv + THALAMUS_1\"\n",
    "\n",
    "pvals = {}\n",
    "coefs = {}\n",
    "stderrs = {}\n",
    "llci = {}\n",
    "ulci = {}\n",
    "ci_str = {}\n",
    "r2 = {}\n",
    "\n",
    "outcome = \"SDMT\"\n",
    "\n",
    "structs = [\"anterior\", \"medial\", \"ventral\", \"posterior\"]\n",
    "all_results = {}\n",
    "for x in structs:\n",
    "    col = x\n",
    "    formula = f\"{outcome} ~ {col} + {covariates}\"\n",
    "    res = sm.OLS.from_formula(formula, data=model_data).fit()\n",
    "    all_results[col] = res\n",
    "    pvals[col] = res.pvalues[col]\n",
    "    coefs[col] = res.params[col]\n",
    "    stderrs[col] = res.HC0_se[col]\n",
    "    ci = res.conf_int()\n",
    "    llci[col] = ci.loc[col, 0]\n",
    "    ulci[col] = ci.loc[col, 1]\n",
    "    ci_str[col] = f\"[{llci[col]:.6f}, {ulci[col]:.6f}]\"\n",
    "    r2[col] = res.rsquared_adj\n",
    "\n",
    "\n",
    "\n",
    "regression_results = pd.DataFrame({\"coef\": coefs, \"stderr\": stderrs, \"llci\": llci, \"ulci\": ulci, \"pvals\": pvals, \"ci\": ci_str})\n",
    "regression_results['p_fdr'] = stats.false_discovery_control(\n",
    "    regression_results['pvals'], method='bh'\n",
    ")\n",
    "regression_results['R2'] = r2\n",
    "regression_results.sort_values(by=\"coef\", inplace=True, ascending=False)\n",
    "# regression_results.to_excel(fig_path / \"thalamic_nuclei_normed.xlsx\")\n",
    "main_coefs = np.array([coefs[x] for x in structs])\n",
    "\n",
    "regression_results"
   ]
  },
  {
   "cell_type": "code",
   "execution_count": 6,
   "id": "77b71524",
   "metadata": {},
   "outputs": [
    {
     "data": {
      "application/vnd.microsoft.datawrangler.viewer.v0+json": {
       "columns": [
        {
         "name": "subid",
         "rawType": "int64",
         "type": "integer"
        },
        {
         "name": "anterior",
         "rawType": "float64",
         "type": "float"
        }
       ],
       "ref": "1471d471-6c5a-4966-b707-5d255f8eb170",
       "rows": [
        [
         "1001",
         "-0.46249741528155464"
        ],
        [
         "1002",
         "1.0321973688055397"
        ],
        [
         "1003",
         "-0.6941275415257498"
        ],
        [
         "1004",
         "0.1515769951689817"
        ],
        [
         "1005",
         "-1.0765957009923859"
        ],
        [
         "1007",
         "-0.7986594055689088"
        ],
        [
         "1010",
         "-0.3698107581032676"
        ],
        [
         "1011",
         "-1.783455007962384"
        ],
        [
         "1012",
         "0.26738483913654454"
        ],
        [
         "1013",
         "-0.8333029513904828"
        ],
        [
         "1015",
         "0.6843845456918654"
        ],
        [
         "1016",
         "1.0785323014500678"
        ],
        [
         "1017",
         "-0.09159105994550516"
        ],
        [
         "1019",
         "-0.03381222848426314"
        ],
        [
         "1020",
         "-0.24237509660769654"
        ],
        [
         "1021",
         "2.2605791036203122"
        ],
        [
         "1022",
         "-2.281656511532232"
        ],
        [
         "1023",
         "0.615028883395927"
        ],
        [
         "1024",
         "1.8316666831845192"
        ],
        [
         "1026",
         "0.626637057581816"
        ],
        [
         "1030",
         "1.1364661750044653"
        ],
        [
         "1031",
         "0.035708885970930804"
        ],
        [
         "1033",
         "0.5802896328579671"
        ],
        [
         "1036",
         "0.4991540981772248"
        ],
        [
         "1037",
         "-0.8332955964524773"
        ],
        [
         "1038",
         "0.11683199646408862"
        ],
        [
         "1039",
         "-0.7753591882732902"
        ],
        [
         "1042",
         "0.3833137340683885"
        ],
        [
         "1044",
         "1.391334872848504"
        ],
        [
         "1045",
         "0.25567770143096935"
        ],
        [
         "1046",
         "-1.0998001456798836"
        ],
        [
         "1047",
         "-0.6942309406388175"
        ],
        [
         "1049",
         "-1.3894648741832838"
        ],
        [
         "1050",
         "-1.435847783654186"
        ],
        [
         "1052",
         "-0.67108970315701"
        ],
        [
         "1053",
         "-0.4161685476320588"
        ],
        [
         "1054",
         "-0.3582432058057474"
        ],
        [
         "1057",
         "-0.23069086104754188"
        ],
        [
         "1058",
         "0.024110533456101455"
        ],
        [
         "1061",
         "1.4029543849542103"
        ],
        [
         "1062",
         "-0.2539556841184201"
        ],
        [
         "1063",
         "0.3254641820494014"
        ],
        [
         "1065",
         "-0.26554869581672824"
        ],
        [
         "1066",
         "0.07047608527331084"
        ],
        [
         "1068",
         "-1.157734245540066"
        ],
        [
         "1069",
         "0.48758104664913476"
        ],
        [
         "1070",
         "-0.1960277624061623"
        ],
        [
         "1071",
         "-1.0650316111733729"
        ],
        [
         "1072",
         "-0.682669317552859"
        ],
        [
         "1074",
         "-0.022210752949603934"
        ]
       ],
       "shape": {
        "columns": 1,
        "rows": 468
       }
      },
      "text/plain": [
       "subid\n",
       "1001   -0.462497\n",
       "1002    1.032197\n",
       "1003   -0.694128\n",
       "1004    0.151577\n",
       "1005   -1.076596\n",
       "          ...   \n",
       "3016   -1.598034\n",
       "3017    0.058699\n",
       "3021   -1.343117\n",
       "3023   -0.172775\n",
       "3028   -0.508866\n",
       "Name: anterior, Length: 468, dtype: float64"
      ]
     },
     "execution_count": 6,
     "metadata": {},
     "output_type": "execute_result"
    }
   ],
   "source": [
    "model_data['anterior']"
   ]
  }
 ],
 "metadata": {
  "kernelspec": {
   "display_name": "ms_mri",
   "language": "python",
   "name": "python3"
  },
  "language_info": {
   "codemirror_mode": {
    "name": "ipython",
    "version": 3
   },
   "file_extension": ".py",
   "mimetype": "text/x-python",
   "name": "python",
   "nbconvert_exporter": "python",
   "pygments_lexer": "ipython3",
   "version": "3.13.9"
  }
 },
 "nbformat": 4,
 "nbformat_minor": 5
}
