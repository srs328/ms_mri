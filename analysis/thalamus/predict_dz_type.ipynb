{
 "cells": [
  {
   "cell_type": "code",
   "execution_count": 1,
   "id": "eeccb50c",
   "metadata": {},
   "outputs": [],
   "source": [
    "import matplotlib.pyplot as plt\n",
    "import pandas as pd\n",
    "from pathlib import Path\n",
    "import numpy as np\n",
    "import statsmodels.api as sm\n",
    "from scipy import stats\n",
    "import os\n",
    "from scipy import stats\n",
    "\n",
    "from mri_data import file_manager as fm"
   ]
  },
  {
   "cell_type": "code",
   "execution_count": null,
   "id": "90af2215",
   "metadata": {},
   "outputs": [],
   "source": [
    "drive_root = fm.get_drive_root()\n",
    "curr_dir = Path(os.getcwd())\n",
    "data_dir = curr_dir / \"data0\"\n",
    "\n",
    "subject_sessions = pd.read_csv(\"/home/srs-9/Projects/ms_mri/analysis/thalamus/data0/subject-sessions.csv\", \n",
    "    index_col=\"sub\")\n",
    "\n",
    "cp_vols = pd.read_csv(data_dir / \"choroid_aschoplex_volumes.csv\", index_col=\"subid\")\n",
    "tiv_data = pd.read_csv(data_dir / \"tiv_data.csv\", index_col=\"subid\")\n",
    "clinical_data = pd.read_csv(data_dir / \"clinical_data_processed.csv\", index_col=\"subid\")\n",
    "df = cp_vols.join([tiv_data, clinical_data])\n",
    "\n",
    "df_z = df.copy()\n",
    "numeric_vars = [col for col in df_z.columns if pd.api.types.is_numeric_dtype(df_z[col])]\n",
    "df_z[numeric_vars] = df_z[numeric_vars].apply(stats.zscore, nan_policy=\"omit\")"
   ]
  },
  {
   "cell_type": "code",
   "execution_count": null,
   "id": "f67fab2d",
   "metadata": {},
   "outputs": [
    {
     "ename": "ValueError",
     "evalue": "endog has evaluated to an array with multiple columns that has shape (486, 2). This occurs when the variable converted to endog is non-numeric (e.g., bool or str).",
     "output_type": "error",
     "traceback": [
      "\u001b[0;31m---------------------------------------------------------------------------\u001b[0m",
      "\u001b[0;31mValueError\u001b[0m                                Traceback (most recent call last)",
      "Cell \u001b[0;32mIn[16], line 5\u001b[0m\n\u001b[1;32m      2\u001b[0m model_data \u001b[38;5;241m=\u001b[39m model_data[model_data[\u001b[38;5;124m'\u001b[39m\u001b[38;5;124mdz_type2\u001b[39m\u001b[38;5;124m'\u001b[39m]\u001b[38;5;241m.\u001b[39misin([\u001b[38;5;124m\"\u001b[39m\u001b[38;5;124mMS\u001b[39m\u001b[38;5;124m\"\u001b[39m, \u001b[38;5;124m\"\u001b[39m\u001b[38;5;124m!MS\u001b[39m\u001b[38;5;124m\"\u001b[39m])]\n\u001b[1;32m      4\u001b[0m formula \u001b[38;5;241m=\u001b[39m \u001b[38;5;124m\"\u001b[39m\u001b[38;5;124mdz_type2 ~ choroid_volume + age + Female + tiv\u001b[39m\u001b[38;5;124m\"\u001b[39m\n\u001b[0;32m----> 5\u001b[0m res \u001b[38;5;241m=\u001b[39m \u001b[43msm\u001b[49m\u001b[38;5;241;43m.\u001b[39;49m\u001b[43mLogit\u001b[49m\u001b[38;5;241;43m.\u001b[39;49m\u001b[43mfrom_formula\u001b[49m\u001b[43m(\u001b[49m\u001b[43mformula\u001b[49m\u001b[43m,\u001b[49m\u001b[43m \u001b[49m\u001b[43mdata\u001b[49m\u001b[38;5;241;43m=\u001b[39;49m\u001b[43mmodel_data\u001b[49m\u001b[43m)\u001b[49m\u001b[38;5;241m.\u001b[39mfit()\n\u001b[1;32m      6\u001b[0m \u001b[38;5;28mprint\u001b[39m(res\u001b[38;5;241m.\u001b[39msummary())\n",
      "File \u001b[0;32m~/.virtualenvs/monai/lib/python3.12/site-packages/statsmodels/base/model.py:209\u001b[0m, in \u001b[0;36mModel.from_formula\u001b[0;34m(cls, formula, data, subset, drop_cols, *args, **kwargs)\u001b[0m\n\u001b[1;32m    206\u001b[0m max_endog \u001b[38;5;241m=\u001b[39m \u001b[38;5;28mcls\u001b[39m\u001b[38;5;241m.\u001b[39m_formula_max_endog\n\u001b[1;32m    207\u001b[0m \u001b[38;5;28;01mif\u001b[39;00m (max_endog \u001b[38;5;129;01mis\u001b[39;00m \u001b[38;5;129;01mnot\u001b[39;00m \u001b[38;5;28;01mNone\u001b[39;00m \u001b[38;5;129;01mand\u001b[39;00m\n\u001b[1;32m    208\u001b[0m         endog\u001b[38;5;241m.\u001b[39mndim \u001b[38;5;241m>\u001b[39m \u001b[38;5;241m1\u001b[39m \u001b[38;5;129;01mand\u001b[39;00m endog\u001b[38;5;241m.\u001b[39mshape[\u001b[38;5;241m1\u001b[39m] \u001b[38;5;241m>\u001b[39m max_endog):\n\u001b[0;32m--> 209\u001b[0m     \u001b[38;5;28;01mraise\u001b[39;00m \u001b[38;5;167;01mValueError\u001b[39;00m(\u001b[38;5;124m'\u001b[39m\u001b[38;5;124mendog has evaluated to an array with multiple \u001b[39m\u001b[38;5;124m'\u001b[39m\n\u001b[1;32m    210\u001b[0m                      \u001b[38;5;124m'\u001b[39m\u001b[38;5;124mcolumns that has shape \u001b[39m\u001b[38;5;132;01m{}\u001b[39;00m\u001b[38;5;124m. This occurs when \u001b[39m\u001b[38;5;124m'\u001b[39m\n\u001b[1;32m    211\u001b[0m                      \u001b[38;5;124m'\u001b[39m\u001b[38;5;124mthe variable converted to endog is non-numeric\u001b[39m\u001b[38;5;124m'\u001b[39m\n\u001b[1;32m    212\u001b[0m                      \u001b[38;5;124m'\u001b[39m\u001b[38;5;124m (e.g., bool or str).\u001b[39m\u001b[38;5;124m'\u001b[39m\u001b[38;5;241m.\u001b[39mformat(endog\u001b[38;5;241m.\u001b[39mshape))\n\u001b[1;32m    213\u001b[0m \u001b[38;5;28;01mif\u001b[39;00m drop_cols \u001b[38;5;129;01mis\u001b[39;00m \u001b[38;5;129;01mnot\u001b[39;00m \u001b[38;5;28;01mNone\u001b[39;00m \u001b[38;5;129;01mand\u001b[39;00m \u001b[38;5;28mlen\u001b[39m(drop_cols) \u001b[38;5;241m>\u001b[39m \u001b[38;5;241m0\u001b[39m:\n\u001b[1;32m    214\u001b[0m     cols \u001b[38;5;241m=\u001b[39m [x \u001b[38;5;28;01mfor\u001b[39;00m x \u001b[38;5;129;01min\u001b[39;00m exog\u001b[38;5;241m.\u001b[39mcolumns \u001b[38;5;28;01mif\u001b[39;00m x \u001b[38;5;129;01mnot\u001b[39;00m \u001b[38;5;129;01min\u001b[39;00m drop_cols]\n",
      "\u001b[0;31mValueError\u001b[0m: endog has evaluated to an array with multiple columns that has shape (486, 2). This occurs when the variable converted to endog is non-numeric (e.g., bool or str)."
     ]
    }
   ],
   "source": [
    "model_data = df_z.copy()\n",
    "model_data = model_data[model_data['dz_type2'].isin([\"MS\", \"!MS\"])]\n",
    "\n",
    "model_data = pd.concat((model_data, pd.get_dummies(model_data['dz_type2'], dtype=\"int\")), axis=1)\n",
    "\n",
    "formula = \"dz_type2 ~ choroid_volume + age + Female + tiv\"\n",
    "res = sm.Logit.from_formula(formula, data=model_data).fit()\n",
    "print(res.summary())"
   ]
  }
 ],
 "metadata": {
  "kernelspec": {
   "display_name": "monai",
   "language": "python",
   "name": "python3"
  },
  "language_info": {
   "codemirror_mode": {
    "name": "ipython",
    "version": 3
   },
   "file_extension": ".py",
   "mimetype": "text/x-python",
   "name": "python",
   "nbconvert_exporter": "python",
   "pygments_lexer": "ipython3",
   "version": "3.12.4"
  }
 },
 "nbformat": 4,
 "nbformat_minor": 5
}
