{
 "cells": [
  {
   "cell_type": "code",
   "execution_count": 1,
   "id": "eeccb50c",
   "metadata": {},
   "outputs": [],
   "source": [
    "import matplotlib.pyplot as plt\n",
    "import pandas as pd\n",
    "from pathlib import Path\n",
    "import numpy as np\n",
    "import statsmodels.api as sm\n",
    "from scipy import stats\n",
    "import os\n",
    "from scipy import stats\n",
    "\n",
    "from mri_data import file_manager as fm"
   ]
  },
  {
   "cell_type": "code",
   "execution_count": null,
   "id": "90af2215",
   "metadata": {},
   "outputs": [],
   "source": [
    "drive_root = fm.get_drive_root()\n",
    "curr_dir = Path(os.getcwd())\n",
    "data_dir = curr_dir / \"data0\"\n",
    "\n",
    "subject_sessions = pd.read_csv(\"/home/srs-9/Projects/ms_mri/analysis/thalamus/data0/subject-sessions.csv\", \n",
    "    index_col=\"sub\")\n",
    "\n",
    "cp_vols = pd.read_csv(data_dir / \"choroid_aschoplex_volumes.csv\", index_col=\"subid\")\n",
    "tiv_data = pd.read_csv(data_dir / \"tiv_data.csv\", index_col=\"subid\")\n",
    "clinical_data = pd.read_csv(data_dir / \"clinical_data_processed.csv\", index_col=\"subid\")\n",
    "df = cp_vols.join([tiv_data, clinical_data])\n",
    "\n",
    "df_z = df.copy()\n",
    "numeric_vars = [col for col in df_z.columns if pd.api.types.is_numeric_dtype(df_z[col])]\n",
    "df_z[numeric_vars] = df_z[numeric_vars].apply(stats.zscore, nan_policy=\"omit\")"
   ]
  },
  {
   "cell_type": "markdown",
   "id": "bf125619",
   "metadata": {},
   "source": [
    "### MS vs !MS"
   ]
  },
  {
   "cell_type": "code",
   "execution_count": null,
   "id": "4e0525a6",
   "metadata": {},
   "outputs": [],
   "source": [
    "model_data = df_z.copy()\n",
    "model_data = model_data[model_data['dz_type2'].isin([\"MS\", \"!MS\"])]\n",
    "model_data = pd.concat((model_data, pd.get_dummies(model_data['dz_type2'], dtype=\"int\")), axis=1)"
   ]
  },
  {
   "cell_type": "markdown",
   "id": "f16d30ff",
   "metadata": {},
   "source": [
    "#### Choroid"
   ]
  },
  {
   "cell_type": "code",
   "execution_count": null,
   "id": "f67fab2d",
   "metadata": {},
   "outputs": [
    {
     "name": "stdout",
     "output_type": "stream",
     "text": [
      "Optimization terminated successfully.\n",
      "         Current function value: 0.415989\n",
      "         Iterations 6\n",
      "                           Logit Regression Results                           \n",
      "==============================================================================\n",
      "Dep. Variable:                     MS   No. Observations:                  486\n",
      "Model:                          Logit   Df Residuals:                      481\n",
      "Method:                           MLE   Df Model:                            4\n",
      "Date:                Tue, 13 May 2025   Pseudo R-squ.:                 0.02491\n",
      "Time:                        15:29:42   Log-Likelihood:                -202.17\n",
      "converged:                       True   LL-Null:                       -207.33\n",
      "Covariance Type:            nonrobust   LLR p-value:                   0.03524\n",
      "==================================================================================\n",
      "                     coef    std err          z      P>|z|      [0.025      0.975]\n",
      "----------------------------------------------------------------------------------\n",
      "Intercept          1.7599      0.132     13.382      0.000       1.502       2.018\n",
      "choroid_volume     0.1967      0.144      1.365      0.172      -0.086       0.479\n",
      "age               -0.3130      0.142     -2.204      0.028      -0.591      -0.035\n",
      "Female            -0.2632      0.159     -1.658      0.097      -0.574       0.048\n",
      "tiv               -0.3849      0.154     -2.499      0.012      -0.687      -0.083\n",
      "==================================================================================\n"
     ]
    }
   ],
   "source": [
    "formula = \"MS ~ choroid_volume + age + Female + tiv\"\n",
    "res = sm.Logit.from_formula(formula, data=model_data).fit()\n",
    "print(res.summary())"
   ]
  },
  {
   "cell_type": "markdown",
   "id": "0e859ec2",
   "metadata": {},
   "source": [
    "#### T2LV"
   ]
  },
  {
   "cell_type": "code",
   "execution_count": 25,
   "id": "02e83380",
   "metadata": {},
   "outputs": [
    {
     "name": "stdout",
     "output_type": "stream",
     "text": [
      "Optimization terminated successfully.\n",
      "         Current function value: 0.398282\n",
      "         Iterations 7\n",
      "                           Logit Regression Results                           \n",
      "==============================================================================\n",
      "Dep. Variable:                     MS   No. Observations:                  489\n",
      "Model:                          Logit   Df Residuals:                      484\n",
      "Method:                           MLE   Df Model:                            4\n",
      "Date:                Tue, 13 May 2025   Pseudo R-squ.:                 0.07056\n",
      "Time:                        15:30:17   Log-Likelihood:                -194.76\n",
      "converged:                       True   LL-Null:                       -209.55\n",
      "Covariance Type:            nonrobust   LLR p-value:                 5.987e-06\n",
      "==============================================================================\n",
      "                 coef    std err          z      P>|z|      [0.025      0.975]\n",
      "------------------------------------------------------------------------------\n",
      "Intercept      1.9486      0.160     12.213      0.000       1.636       2.261\n",
      "t2lv           0.9814      0.271      3.621      0.000       0.450       1.513\n",
      "age           -0.4663      0.147     -3.180      0.001      -0.754      -0.179\n",
      "Female        -0.3460      0.161     -2.151      0.031      -0.661      -0.031\n",
      "tiv           -0.4657      0.157     -2.965      0.003      -0.774      -0.158\n",
      "==============================================================================\n"
     ]
    }
   ],
   "source": [
    "formula = \"MS ~ t2lv + age + Female + tiv\"\n",
    "res = sm.Logit.from_formula(formula, data=model_data).fit()\n",
    "print(res.summary())"
   ]
  },
  {
   "cell_type": "markdown",
   "id": "e19e20a1",
   "metadata": {},
   "source": [
    "#### Thalamus"
   ]
  },
  {
   "cell_type": "code",
   "execution_count": null,
   "id": "7d4b70f5",
   "metadata": {},
   "outputs": [],
   "source": [
    "formula = \"MS ~ thalamus + age + Female + tiv\"\n",
    "res = sm.Logit.from_formula(formula, data=model_data).fit()\n",
    "print(res.summary())"
   ]
  },
  {
   "cell_type": "markdown",
   "id": "2fa9cc88",
   "metadata": {},
   "source": [
    "### RMS vs PMS"
   ]
  },
  {
   "cell_type": "code",
   "execution_count": 27,
   "id": "fbc606d2",
   "metadata": {},
   "outputs": [],
   "source": [
    "model_data = df_z.copy()\n",
    "model_data = model_data[model_data['dz_type5'].isin([\"RMS\", \"PMS\"])]\n",
    "model_data = pd.concat((model_data, pd.get_dummies(model_data['dz_type5'], dtype=\"int\")), axis=1)"
   ]
  },
  {
   "cell_type": "markdown",
   "id": "898ca5b9",
   "metadata": {},
   "source": [
    "#### Choroid"
   ]
  },
  {
   "cell_type": "code",
   "execution_count": 28,
   "id": "27ed219d",
   "metadata": {},
   "outputs": [
    {
     "name": "stdout",
     "output_type": "stream",
     "text": [
      "Optimization terminated successfully.\n",
      "         Current function value: 0.377147\n",
      "         Iterations 7\n",
      "                           Logit Regression Results                           \n",
      "==============================================================================\n",
      "Dep. Variable:                    PMS   No. Observations:                  412\n",
      "Model:                          Logit   Df Residuals:                      407\n",
      "Method:                           MLE   Df Model:                            4\n",
      "Date:                Tue, 13 May 2025   Pseudo R-squ.:                  0.2543\n",
      "Time:                        15:33:55   Log-Likelihood:                -155.38\n",
      "converged:                       True   LL-Null:                       -208.36\n",
      "Covariance Type:            nonrobust   LLR p-value:                 5.288e-22\n",
      "==================================================================================\n",
      "                     coef    std err          z      P>|z|      [0.025      0.975]\n",
      "----------------------------------------------------------------------------------\n",
      "Intercept         -1.9335      0.187    -10.364      0.000      -2.299      -1.568\n",
      "choroid_volume     0.2138      0.169      1.269      0.205      -0.117       0.544\n",
      "age                1.2843      0.190      6.748      0.000       0.911       1.657\n",
      "Female            -0.5439      0.159     -3.429      0.001      -0.855      -0.233\n",
      "tiv               -0.2038      0.174     -1.170      0.242      -0.545       0.138\n",
      "==================================================================================\n"
     ]
    }
   ],
   "source": [
    "formula = \"PMS ~ choroid_volume + age + Female + tiv\"\n",
    "res = sm.Logit.from_formula(formula, data=model_data).fit()\n",
    "print(res.summary())"
   ]
  },
  {
   "cell_type": "markdown",
   "id": "ecabbae6",
   "metadata": {},
   "source": [
    "#### T2LV"
   ]
  },
  {
   "cell_type": "code",
   "execution_count": 29,
   "id": "e2866b16",
   "metadata": {},
   "outputs": [
    {
     "name": "stdout",
     "output_type": "stream",
     "text": [
      "Optimization terminated successfully.\n",
      "         Current function value: 0.373781\n",
      "         Iterations 7\n",
      "                           Logit Regression Results                           \n",
      "==============================================================================\n",
      "Dep. Variable:                    PMS   No. Observations:                  414\n",
      "Model:                          Logit   Df Residuals:                      409\n",
      "Method:                           MLE   Df Model:                            4\n",
      "Date:                Tue, 13 May 2025   Pseudo R-squ.:                  0.2637\n",
      "Time:                        15:34:01   Log-Likelihood:                -154.75\n",
      "converged:                       True   LL-Null:                       -210.18\n",
      "Covariance Type:            nonrobust   LLR p-value:                 4.748e-23\n",
      "==============================================================================\n",
      "                 coef    std err          z      P>|z|      [0.025      0.975]\n",
      "------------------------------------------------------------------------------\n",
      "Intercept     -1.9486      0.188    -10.384      0.000      -2.316      -1.581\n",
      "t2lv           0.3665      0.153      2.395      0.017       0.067       0.666\n",
      "age            1.2861      0.183      7.022      0.000       0.927       1.645\n",
      "Female        -0.6072      0.157     -3.857      0.000      -0.916      -0.299\n",
      "tiv           -0.2310      0.175     -1.324      0.186      -0.573       0.111\n",
      "==============================================================================\n"
     ]
    }
   ],
   "source": [
    "formula = \"PMS ~ t2lv + age + Female + tiv\"\n",
    "res = sm.Logit.from_formula(formula, data=model_data).fit()\n",
    "print(res.summary())"
   ]
  },
  {
   "cell_type": "markdown",
   "id": "6af5d7ec",
   "metadata": {},
   "source": [
    "#### Thalamus"
   ]
  },
  {
   "cell_type": "code",
   "execution_count": 30,
   "id": "970792ec",
   "metadata": {},
   "outputs": [
    {
     "name": "stdout",
     "output_type": "stream",
     "text": [
      "Optimization terminated successfully.\n",
      "         Current function value: 0.362006\n",
      "         Iterations 7\n",
      "                           Logit Regression Results                           \n",
      "==============================================================================\n",
      "Dep. Variable:                    PMS   No. Observations:                  414\n",
      "Model:                          Logit   Df Residuals:                      409\n",
      "Method:                           MLE   Df Model:                            4\n",
      "Date:                Tue, 13 May 2025   Pseudo R-squ.:                  0.2869\n",
      "Time:                        15:34:07   Log-Likelihood:                -149.87\n",
      "converged:                       True   LL-Null:                       -210.18\n",
      "Covariance Type:            nonrobust   LLR p-value:                 3.939e-25\n",
      "==============================================================================\n",
      "                 coef    std err          z      P>|z|      [0.025      0.975]\n",
      "------------------------------------------------------------------------------\n",
      "Intercept     -2.0208      0.194    -10.425      0.000      -2.401      -1.641\n",
      "thalamus      -0.6313      0.169     -3.744      0.000      -0.962      -0.301\n",
      "age            1.0854      0.190      5.713      0.000       0.713       1.458\n",
      "Female        -0.5327      0.162     -3.293      0.001      -0.850      -0.216\n",
      "tiv           -0.2631      0.180     -1.461      0.144      -0.616       0.090\n",
      "==============================================================================\n"
     ]
    }
   ],
   "source": [
    "formula = \"PMS ~ thalamus + age + Female + tiv\"\n",
    "res = sm.Logit.from_formula(formula, data=model_data).fit()\n",
    "print(res.summary())"
   ]
  },
  {
   "cell_type": "markdown",
   "id": "76a3b488",
   "metadata": {},
   "source": [
    "#### PRL"
   ]
  },
  {
   "cell_type": "code",
   "execution_count": 33,
   "id": "ee4b24b7",
   "metadata": {},
   "outputs": [
    {
     "name": "stdout",
     "output_type": "stream",
     "text": [
      "Optimization terminated successfully.\n",
      "         Current function value: 0.379686\n",
      "         Iterations 7\n",
      "                           Logit Regression Results                           \n",
      "==============================================================================\n",
      "Dep. Variable:                    PMS   No. Observations:                  414\n",
      "Model:                          Logit   Df Residuals:                      409\n",
      "Method:                           MLE   Df Model:                            4\n",
      "Date:                Tue, 13 May 2025   Pseudo R-squ.:                  0.2521\n",
      "Time:                        15:35:52   Log-Likelihood:                -157.19\n",
      "converged:                       True   LL-Null:                       -210.18\n",
      "Covariance Type:            nonrobust   LLR p-value:                 5.235e-22\n",
      "==============================================================================\n",
      "                 coef    std err          z      P>|z|      [0.025      0.975]\n",
      "------------------------------------------------------------------------------\n",
      "Intercept     -1.9283      0.187    -10.302      0.000      -2.295      -1.561\n",
      "PRL            0.1156      0.145      0.800      0.424      -0.168       0.399\n",
      "age            1.3987      0.188      7.429      0.000       1.030       1.768\n",
      "Female        -0.5877      0.156     -3.767      0.000      -0.894      -0.282\n",
      "tiv           -0.2193      0.174     -1.258      0.208      -0.561       0.122\n",
      "==============================================================================\n"
     ]
    }
   ],
   "source": [
    "formula = \"PMS ~ PRL + age + Female + tiv\"\n",
    "res = sm.Logit.from_formula(formula, data=model_data).fit()\n",
    "print(res.summary())"
   ]
  }
 ],
 "metadata": {
  "kernelspec": {
   "display_name": "monai",
   "language": "python",
   "name": "python3"
  },
  "language_info": {
   "codemirror_mode": {
    "name": "ipython",
    "version": 3
   },
   "file_extension": ".py",
   "mimetype": "text/x-python",
   "name": "python",
   "nbconvert_exporter": "python",
   "pygments_lexer": "ipython3",
   "version": "3.12.4"
  }
 },
 "nbformat": 4,
 "nbformat_minor": 5
}
