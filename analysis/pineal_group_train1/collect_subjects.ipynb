{
 "cells": [
  {
   "cell_type": "code",
   "execution_count": 13,
   "metadata": {},
   "outputs": [],
   "source": [
    "from reload_recursive import reload_recursive\n",
    "import mri_data\n",
    "import monai_training\n",
    "import subprocess\n",
    "import pandas as pd"
   ]
  },
  {
   "cell_type": "code",
   "execution_count": 4,
   "metadata": {},
   "outputs": [],
   "source": [
    "from pathlib import Path\n",
    "reload_recursive(mri_data)\n",
    "reload_recursive(monai_training)\n",
    "from mri_data import file_manager as fm\n",
    "from mri_data import utils\n",
    "from monai_training import preprocess\n",
    "from loguru import logger\n",
    "import pyperclip"
   ]
  },
  {
   "cell_type": "code",
   "execution_count": 5,
   "metadata": {},
   "outputs": [],
   "source": [
    "logger.remove()\n",
    "# dataroot = Path(\"/mnt/h/3Tpioneer_bids\")\n",
    "dataroot = Path(\"/media/smbshare/3Tpioneer_bids\")"
   ]
  },
  {
   "cell_type": "code",
   "execution_count": 19,
   "metadata": {},
   "outputs": [
    {
     "name": "stderr",
     "output_type": "stream",
     "text": [
      "100%|██████████| 575/575 [00:02<00:00, 242.53it/s]\n"
     ]
    }
   ],
   "source": [
    "dataset_proc = preprocess.DataSetProcesser.new_dataset(dataroot, fm.scan_3Tpioneer_bids, filters=[fm.filter_first_ses])\n",
    "dataset_proc.prepare_labels(\"pineal\", suffix_list=[\"SRS_T1\", \"CH\", \"SRS\"])\n",
    "dataset_proc.dataset.sort()\n",
    "pineal_subs = pd.Series([int(scan.subid) for scan in dataset_proc.dataset])"
   ]
  },
  {
   "cell_type": "code",
   "execution_count": 20,
   "metadata": {},
   "outputs": [],
   "source": [
    "man_df = pd.read_csv(\"/home/srs-9/Projects/ms_mri/analysis/paper1/data0/manual_labels.csv\", index_col=\"subid\")\n",
    "new_subs = pineal_subs[~pineal_subs.isin(man_df.index)]"
   ]
  },
  {
   "cell_type": "code",
   "execution_count": 21,
   "metadata": {},
   "outputs": [
    {
     "data": {
      "text/plain": [
       "5     1036\n",
       "8     1057\n",
       "9     1065\n",
       "10    1066\n",
       "15    1097\n",
       "16    1103\n",
       "18    1117\n",
       "25    1248\n",
       "34    1453\n",
       "35    1486\n",
       "dtype: int64"
      ]
     },
     "execution_count": 21,
     "metadata": {},
     "output_type": "execute_result"
    }
   ],
   "source": [
    "new_subs"
   ]
  }
 ],
 "metadata": {
  "kernelspec": {
   "display_name": "monai",
   "language": "python",
   "name": "python3"
  },
  "language_info": {
   "codemirror_mode": {
    "name": "ipython",
    "version": 3
   },
   "file_extension": ".py",
   "mimetype": "text/x-python",
   "name": "python",
   "nbconvert_exporter": "python",
   "pygments_lexer": "ipython3",
   "version": "3.12.7"
  }
 },
 "nbformat": 4,
 "nbformat_minor": 2
}
