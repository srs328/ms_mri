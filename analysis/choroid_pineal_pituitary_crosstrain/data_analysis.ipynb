{
 "cells": [
  {
   "cell_type": "code",
   "execution_count": 1,
   "metadata": {},
   "outputs": [],
   "source": [
    "import pandas as pd\n",
    "from reload_recursive import reload_recursive\n",
    "import os\n",
    "from loguru import logger\n",
    "from pathlib import Path\n",
    "import json\n",
    "import numpy as np\n",
    "from tqdm.notebook import tqdm\n",
    "import re\n",
    "import sys\n",
    "\n",
    "import mri_data\n",
    "import monai_training"
   ]
  },
  {
   "cell_type": "code",
   "execution_count": 31,
   "metadata": {},
   "outputs": [],
   "source": [
    "reload_recursive(mri_data)\n",
    "reload_recursive(monai_training)\n",
    "\n",
    "from mri_data.file_manager import DataSet, scan_3Tpioneer_bids\n",
    "from mri_data import file_manager as fm\n",
    "from mri_data import utils\n",
    "from monai_training.preprocess import DataSetProcesser"
   ]
  },
  {
   "cell_type": "code",
   "execution_count": 3,
   "metadata": {},
   "outputs": [],
   "source": [
    "logger.remove()"
   ]
  },
  {
   "cell_type": "code",
   "execution_count": 4,
   "metadata": {},
   "outputs": [],
   "source": [
    "drive_root = fm.get_drive_root()\n",
    "msmri_home = Path(\"/home/srs-9/Projects/ms_mri\")\n",
    "training_work_dirs = msmri_home / \"training_work_dirs\"\n",
    "dataroot = drive_root / \"3Tpioneer_bids\"\n",
    "clinical_data_root = drive_root / \"Secure_Data\" / \"Large\"\n",
    "project_dataroot = msmri_home / \"data\""
   ]
  },
  {
   "cell_type": "markdown",
   "metadata": {},
   "source": [
    "### Automatic Segmentations"
   ]
  },
  {
   "cell_type": "code",
   "execution_count": 5,
   "metadata": {},
   "outputs": [],
   "source": [
    "work_dir_names = [\"choroid_pineal_pituitary3\", \"choroid_pineal_pituitary3-2\", \"choroid_pineal_pituitary3-3\", \"choroid_pineal_pituitary3-4\"]\n",
    "work_dirs = [training_work_dirs / name / \"ensemble_output\" for name in work_dir_names]\n",
    "ensemble_datasets = [fm.scan_3Tpioneer_bids(work_dir, label=\"flair.t1_ensemble.nii.gz\") for work_dir in work_dirs]"
   ]
  },
  {
   "cell_type": "code",
   "execution_count": 6,
   "metadata": {},
   "outputs": [],
   "source": [
    "def get_volumes(scan):\n",
    "    vol_stats = utils.compute_volume(scan.label_path, index_mask_file=scan.label_path)\n",
    "    \n",
    "    return tuple([stat[1] for stat in vol_stats])"
   ]
  },
  {
   "cell_type": "code",
   "execution_count": 7,
   "metadata": {},
   "outputs": [
    {
     "name": "stdout",
     "output_type": "stream",
     "text": [
      "1038\n",
      "1540\n"
     ]
    }
   ],
   "source": [
    "vols = []\n",
    "for dataset in ensemble_datasets:\n",
    "    for scan in dataset:\n",
    "        try:\n",
    "            vol = get_volumes(scan)\n",
    "        except Exception:\n",
    "            print(scan.subid)\n",
    "            continue\n",
    "\n",
    "        try:\n",
    "            assert len(vol) == 3\n",
    "        except AssertionError:\n",
    "            vol = [None, None, None]\n",
    "\n",
    "        vols.append((scan.subid, vol))\n",
    "\n",
    "\n",
    "    vols_arr = np.stack([vol[1] for vol in vols])\n",
    "    vol_sub_arr = np.array([vol[0] for vol in vols])"
   ]
  },
  {
   "cell_type": "code",
   "execution_count": 8,
   "metadata": {},
   "outputs": [],
   "source": [
    "keep_cols = [\"ms_type\", \"flair_contrast\"]\n",
    "df_full = pd.read_csv(project_dataroot / \"clinical_data_full.csv\", index_col=\"subid\")\n",
    "df_full = df_full[keep_cols]\n",
    "df_full.index.name = \"subject_id\"\n",
    "try:\n",
    "    df_full.insert('dz_type', df_full['ms_type'])\n",
    "except Exception:\n",
    "    pass\n",
    "\n",
    "df_full.loc[:, 'dz_type'] = df_full['ms_type']\n",
    "\n",
    "df_full.loc[df_full['ms_type'] == 'CIS', 'dz_type'] = 'RRMS'\n",
    "df_full.loc[df_full['ms_type'].isin(['PPMS', 'SPMS', 'RPMS', 'PRMS']), 'dz_type'] = 'PMS'\n",
    "df_full.loc[df_full['ms_type'].isin(['NIND', 'OIND', 'HC']), 'dz_type'] = '!MS'\n",
    "\n",
    "df_full.loc[:, 'dz_type2'] = df_full['dz_type']\n",
    "df_full.loc[df_full['dz_type'].isin(['RRMS', 'PMS']), 'dz_type2'] = 'MS'"
   ]
  },
  {
   "cell_type": "code",
   "execution_count": 9,
   "metadata": {},
   "outputs": [],
   "source": [
    "df = pd.DataFrame(vols_arr, \n",
    "             index=[int(sub) for sub in vol_sub_arr], \n",
    "             columns=[\"choroid_volume\", \"pineal_volume\", \"pituitary_volume\"])\n",
    "\n",
    "df['dz_type'] = df_full['dz_type']\n",
    "df['dz_type2'] = df_full['dz_type2']\n",
    "df['flair_contrast'] = df_full['flair_contrast']"
   ]
  },
  {
   "cell_type": "markdown",
   "metadata": {},
   "source": [
    "### Manual Segmentations"
   ]
  },
  {
   "cell_type": "code",
   "execution_count": 18,
   "metadata": {},
   "outputs": [],
   "source": [
    "subjects = []\n",
    "for dataset in ensemble_datasets:\n",
    "    for scan in dataset:\n",
    "        subjects.append(int(scan.subid))"
   ]
  },
  {
   "cell_type": "code",
   "execution_count": 11,
   "metadata": {},
   "outputs": [],
   "source": [
    "def has_subject(scan, subjects: list[int]) -> bool:\n",
    "    if int(scan.subid) in subjects:\n",
    "        return True\n",
    "    else:\n",
    "        return False"
   ]
  },
  {
   "cell_type": "code",
   "execution_count": 12,
   "metadata": {},
   "outputs": [
    {
     "name": "stderr",
     "output_type": "stream",
     "text": [
      "100%|██████████| 40/40 [00:00<00:00, 121.68it/s]\n"
     ]
    }
   ],
   "source": [
    "orig_dataset_proc = DataSetProcesser.new_dataset(dataroot, fm.scan_3Tpioneer_bids, filters=fm.filter_first_ses)\n",
    "orig_dataset_proc.filter([has_subject], [(subjects,)])\n",
    "orig_dataset_proc.prepare_labels([\"choroid_t1_flair\", \"pineal\", \"pituitary\"], [\"CH\", \"SRS\", \"DT\", \"ED\"])\n",
    "orig_dataset = orig_dataset_proc.dataset"
   ]
  },
  {
   "cell_type": "code",
   "execution_count": 13,
   "metadata": {},
   "outputs": [],
   "source": [
    "orig_vols = []\n",
    "for scan in orig_dataset:\n",
    "    try:\n",
    "        vol = get_volumes(scan)\n",
    "    except Exception:\n",
    "        print(scan.subid)\n",
    "        continue\n",
    "\n",
    "    try:\n",
    "        assert len(vol) == 3\n",
    "    except AssertionError:\n",
    "        vol = [None, None, None]\n",
    "\n",
    "    orig_vols.append((scan.subid, vol))\n",
    "\n",
    "\n",
    "orig_vols_arr = np.stack([vol[1] for vol in orig_vols])\n",
    "orig_vol_sub_arr = np.array([vol[0] for vol in orig_vols])"
   ]
  },
  {
   "cell_type": "code",
   "execution_count": 14,
   "metadata": {},
   "outputs": [],
   "source": [
    "orig_df = pd.DataFrame(orig_vols_arr, \n",
    "             index=[int(sub) for sub in orig_vol_sub_arr], \n",
    "             columns=[\"choroid_volume\", \"pineal_volume\", \"pituitary_volume\"])\n",
    "\n",
    "orig_df['dz_type'] = df_full['dz_type']\n",
    "orig_df['dz_type2'] = df_full['dz_type2']\n",
    "orig_df['flair_contrast'] = df_full['flair_contrast']"
   ]
  },
  {
   "cell_type": "markdown",
   "metadata": {},
   "source": [
    "### Automatic Segmentation Volumes"
   ]
  },
  {
   "cell_type": "code",
   "execution_count": 15,
   "metadata": {},
   "outputs": [
    {
     "name": "stdout",
     "output_type": "stream",
     "text": [
      "Choroid:\n",
      "MS mean:             1766.81\n",
      "MS mean w contrast:  1892.98\n",
      "MS mean wo contrast: 1609.09\n",
      "!MS mean:            1922.68\n",
      "\n",
      "Pineal\n",
      "MS mean:             228.35\n",
      "MS mean w contrast:  269.92\n",
      "MS mean wo contrast: 176.39\n",
      "!MS mean:            254.34\n",
      "\n",
      "Pituitary\n",
      "MS mean:             700.47\n",
      "MS mean w contrast:  677.11\n",
      "MS mean wo contrast: 729.67\n",
      "!MS mean:            716.21\n"
     ]
    }
   ],
   "source": [
    "print(\"Choroid:\")\n",
    "choroid_ms_mean = df[df['dz_type'] == \"RRMS\"].choroid_volume.mean()\n",
    "choroid_ms_mean_w = df[(df['dz_type'] == \"RRMS\") & (df['flair_contrast'] == \"WITH\")].choroid_volume.mean()\n",
    "choroid_ms_mean_wo = df[(df['dz_type'] == \"RRMS\") & (df['flair_contrast'] == \"WITHOUT\")].choroid_volume.mean()\n",
    "choroid_notms_mean = df[df['dz_type'] == \"!MS\"].choroid_volume.mean()\n",
    "print(\"MS mean:             {:0.2f}\".format(choroid_ms_mean))\n",
    "print(\"MS mean w contrast:  {:0.2f}\".format(choroid_ms_mean_w))\n",
    "print(\"MS mean wo contrast: {:0.2f}\".format(choroid_ms_mean_wo))\n",
    "print(\"!MS mean:            {:0.2f}\".format(choroid_notms_mean))\n",
    "\n",
    "print(\"\\nPineal\")\n",
    "pineal_ms_mean = df[df['dz_type'] == \"RRMS\"].pineal_volume.mean()\n",
    "pineal_ms_mean_w = df[(df['dz_type'] == \"RRMS\") & (df['flair_contrast'] == \"WITH\")].pineal_volume.mean()\n",
    "pineal_ms_mean_wo = df[(df['dz_type'] == \"RRMS\") & (df['flair_contrast'] == \"WITHOUT\")].pineal_volume.mean()\n",
    "pineal_notms_mean = df[df['dz_type'] == \"!MS\"].pineal_volume.mean()\n",
    "print(\"MS mean:             {:0.2f}\".format(pineal_ms_mean))\n",
    "print(\"MS mean w contrast:  {:0.2f}\".format(pineal_ms_mean_w))\n",
    "print(\"MS mean wo contrast: {:0.2f}\".format(pineal_ms_mean_wo))\n",
    "print(\"!MS mean:            {:0.2f}\".format(pineal_notms_mean))\n",
    "\n",
    "print(\"\\nPituitary\")\n",
    "pituitary_ms_mean = df[df['dz_type'] == \"RRMS\"].pituitary_volume.mean()\n",
    "pituitary_ms_mean_w = df[(df['dz_type'] == \"RRMS\") & (df['flair_contrast'] == \"WITH\")].pituitary_volume.mean()\n",
    "pituitary_ms_mean_wo = df[(df['dz_type'] == \"RRMS\") & (df['flair_contrast'] == \"WITHOUT\")].pituitary_volume.mean()\n",
    "pituitary_notms_mean = df[df['dz_type'] == \"!MS\"].pituitary_volume.mean()\n",
    "print(\"MS mean:             {:0.2f}\".format(pituitary_ms_mean))\n",
    "print(\"MS mean w contrast:  {:0.2f}\".format(pituitary_ms_mean_w))\n",
    "print(\"MS mean wo contrast: {:0.2f}\".format(pituitary_ms_mean_wo))\n",
    "print(\"!MS mean:            {:0.2f}\".format(pituitary_notms_mean))"
   ]
  },
  {
   "cell_type": "markdown",
   "metadata": {},
   "source": [
    "### Manual Segmentation Volumes"
   ]
  },
  {
   "cell_type": "code",
   "execution_count": 16,
   "metadata": {},
   "outputs": [
    {
     "name": "stdout",
     "output_type": "stream",
     "text": [
      "Choroid:\n",
      "MS mean:             1954.47\n",
      "MS mean w contrast:  1956.55\n",
      "MS mean wo contrast: 1951.61\n",
      "!MS mean:            1880.28\n",
      "\n",
      "Pineal\n",
      "MS mean:             230.64\n",
      "MS mean w contrast:  260.88\n",
      "MS mean wo contrast: 189.06\n",
      "!MS mean:            371.61\n",
      "\n",
      "Pituitary\n",
      "MS mean:             767.78\n",
      "MS mean w contrast:  755.84\n",
      "MS mean wo contrast: 784.20\n",
      "!MS mean:            679.33\n"
     ]
    }
   ],
   "source": [
    "print(\"Choroid:\")\n",
    "choroid_ms_mean = orig_df[orig_df['dz_type'] == \"RRMS\"].choroid_volume.mean()\n",
    "choroid_ms_mean_w = orig_df[(orig_df['dz_type'] == \"RRMS\") & (orig_df['flair_contrast'] == \"WITH\")].choroid_volume.mean()\n",
    "choroid_ms_mean_wo = orig_df[(orig_df['dz_type'] == \"RRMS\") & (orig_df['flair_contrast'] == \"WITHOUT\")].choroid_volume.mean()\n",
    "choroid_notms_mean = orig_df[orig_df['dz_type'] == \"!MS\"].choroid_volume.mean()\n",
    "print(\"MS mean:             {:0.2f}\".format(choroid_ms_mean))\n",
    "print(\"MS mean w contrast:  {:0.2f}\".format(choroid_ms_mean_w))\n",
    "print(\"MS mean wo contrast: {:0.2f}\".format(choroid_ms_mean_wo))\n",
    "print(\"!MS mean:            {:0.2f}\".format(choroid_notms_mean))\n",
    "\n",
    "print(\"\\nPineal\")\n",
    "pineal_ms_mean = orig_df[orig_df['dz_type'] == \"RRMS\"].pineal_volume.mean()\n",
    "pineal_ms_mean_w = orig_df[(orig_df['dz_type'] == \"RRMS\") & (orig_df['flair_contrast'] == \"WITH\")].pineal_volume.mean()\n",
    "pineal_ms_mean_wo = orig_df[(orig_df['dz_type'] == \"RRMS\") & (orig_df['flair_contrast'] == \"WITHOUT\")].pineal_volume.mean()\n",
    "pineal_notms_mean = orig_df[orig_df['dz_type'] == \"!MS\"].pineal_volume.mean()\n",
    "print(\"MS mean:             {:0.2f}\".format(pineal_ms_mean))\n",
    "print(\"MS mean w contrast:  {:0.2f}\".format(pineal_ms_mean_w))\n",
    "print(\"MS mean wo contrast: {:0.2f}\".format(pineal_ms_mean_wo))\n",
    "print(\"!MS mean:            {:0.2f}\".format(pineal_notms_mean))\n",
    "\n",
    "print(\"\\nPituitary\")\n",
    "pituitary_ms_mean = orig_df[orig_df['dz_type'] == \"RRMS\"].pituitary_volume.mean()\n",
    "pituitary_ms_mean_w = orig_df[(orig_df['dz_type'] == \"RRMS\") & (orig_df['flair_contrast'] == \"WITH\")].pituitary_volume.mean()\n",
    "pituitary_ms_mean_wo = orig_df[(orig_df['dz_type'] == \"RRMS\") & (orig_df['flair_contrast'] == \"WITHOUT\")].pituitary_volume.mean()\n",
    "pituitary_notms_mean = orig_df[orig_df['dz_type'] == \"!MS\"].pituitary_volume.mean()\n",
    "print(\"MS mean:             {:0.2f}\".format(pituitary_ms_mean))\n",
    "print(\"MS mean w contrast:  {:0.2f}\".format(pituitary_ms_mean_w))\n",
    "print(\"MS mean wo contrast: {:0.2f}\".format(pituitary_ms_mean_wo))\n",
    "print(\"!MS mean:            {:0.2f}\".format(pituitary_notms_mean))"
   ]
  },
  {
   "cell_type": "markdown",
   "metadata": {},
   "source": [
    "### Inspect Segmentations"
   ]
  },
  {
   "cell_type": "code",
   "execution_count": 17,
   "metadata": {},
   "outputs": [],
   "source": [
    "auto_segs = {}\n",
    "for dataset in ensemble_datasets:\n",
    "    for scan in dataset:\n",
    "        auto_segs[scan.subid] = scan.label_path\n",
    "\n",
    "man_segs = {}\n",
    "for scan in orig_dataset:\n",
    "    man_segs[scan.subid] = scan.label_path"
   ]
  },
  {
   "cell_type": "code",
   "execution_count": 23,
   "metadata": {},
   "outputs": [
    {
     "name": "stderr",
     "output_type": "stream",
     "text": [
      "/tmp/ipykernel_2845956/1081308349.py:3: SettingWithCopyWarning: \n",
      "A value is trying to be set on a copy of a slice from a DataFrame.\n",
      "Try using .loc[row_indexer,col_indexer] = value instead\n",
      "\n",
      "See the caveats in the documentation: https://pandas.pydata.org/pandas-docs/stable/user_guide/indexing.html#returning-a-view-versus-a-copy\n",
      "  df_inference.loc[subid, 'manual_label'] = man_segs[str(subid)]\n",
      "/tmp/ipykernel_2845956/1081308349.py:4: SettingWithCopyWarning: \n",
      "A value is trying to be set on a copy of a slice from a DataFrame.\n",
      "Try using .loc[row_indexer,col_indexer] = value instead\n",
      "\n",
      "See the caveats in the documentation: https://pandas.pydata.org/pandas-docs/stable/user_guide/indexing.html#returning-a-view-versus-a-copy\n",
      "  df_inference.loc[subid, 'auto_label'] = auto_segs[str(subid)]\n"
     ]
    }
   ],
   "source": [
    "df_inference = df_full[df_full.index.isin(subjects)]\n",
    "for subid, _ in df_inference.iterrows():\n",
    "    df_inference.loc[subid, 'manual_label'] = man_segs[str(subid)]\n",
    "    df_inference.loc[subid, 'auto_label'] = auto_segs[str(subid)]"
   ]
  },
  {
   "cell_type": "code",
   "execution_count": 28,
   "metadata": {},
   "outputs": [
    {
     "name": "stderr",
     "output_type": "stream",
     "text": [
      "/tmp/ipykernel_2845956/160078230.py:2: SettingWithCopyWarning: \n",
      "A value is trying to be set on a copy of a slice from a DataFrame.\n",
      "Try using .loc[row_indexer,col_indexer] = value instead\n",
      "\n",
      "See the caveats in the documentation: https://pandas.pydata.org/pandas-docs/stable/user_guide/indexing.html#returning-a-view-versus-a-copy\n",
      "  df_inference.loc[int(scan.subid), 'scan_folder'] = scan.root\n"
     ]
    }
   ],
   "source": [
    "for scan in orig_dataset:\n",
    "    df_inference.loc[int(scan.subid), 'scan_folder'] = scan.root"
   ]
  },
  {
   "cell_type": "code",
   "execution_count": 24,
   "metadata": {},
   "outputs": [
    {
     "name": "stderr",
     "output_type": "stream",
     "text": [
      "/tmp/ipykernel_2845956/1631151812.py:2: SettingWithCopyWarning: \n",
      "A value is trying to be set on a copy of a slice from a DataFrame\n",
      "\n",
      "See the caveats in the documentation: https://pandas.pydata.org/pandas-docs/stable/user_guide/indexing.html#returning-a-view-versus-a-copy\n",
      "  df_inference.sort_values(by=['dz_type2', \"subject_id\"], inplace=True)\n"
     ]
    }
   ],
   "source": [
    "df_inference.index.name = \"subject_id\"\n",
    "df_inference.sort_values(by=['dz_type2', \"subject_id\"], inplace=True)"
   ]
  },
  {
   "cell_type": "code",
   "execution_count": 32,
   "metadata": {},
   "outputs": [],
   "source": [
    "for i, row in df_inference.iterrows():\n",
    "    images = [Path(row['scan_folder']) / \"flair.nii.gz\", Path(row['scan_folder']) / \"t1.nii.gz\"]\n",
    "    labels = [row['auto_label'], row['manual_label']]\n",
    "    cmd = utils.open_itksnap_workspace_cmd(images, labels)\n",
    "    df_inference.loc[i, \"itksnap_cmd\"] = cmd"
   ]
  },
  {
   "cell_type": "code",
   "execution_count": 33,
   "metadata": {},
   "outputs": [],
   "source": [
    "import pyperclip\n",
    "\n",
    "pyperclip.copy(df_inference.loc[1029, \"itksnap_cmd\"])"
   ]
  },
  {
   "cell_type": "code",
   "execution_count": 25,
   "metadata": {},
   "outputs": [],
   "source": [
    "lines = [\"# Notes\", \"\\n\\n\"]\n",
    "dz_type = \"\"\n",
    "for i, row in df_inference.iterrows():\n",
    "    if row['dz_type2'] != dz_type:\n",
    "        lines.extend([f\"## {row['dz_type2']}\", \"\\n\\n\"])\n",
    "        dz_type = row['dz_type2']\n",
    "    lines.extend([f\"### {i}\", \"\\n\\n\"])"
   ]
  },
  {
   "cell_type": "code",
   "execution_count": 26,
   "metadata": {},
   "outputs": [],
   "source": [
    "import os\n",
    "\n",
    "if not os.path.exists(\"seg_notes.md\"):\n",
    "    with open(\"seg_notes.md\", 'w') as f:\n",
    "        f.writelines(lines)"
   ]
  }
 ],
 "metadata": {
  "kernelspec": {
   "display_name": "monai",
   "language": "python",
   "name": "python3"
  },
  "language_info": {
   "codemirror_mode": {
    "name": "ipython",
    "version": 3
   },
   "file_extension": ".py",
   "mimetype": "text/x-python",
   "name": "python",
   "nbconvert_exporter": "python",
   "pygments_lexer": "ipython3",
   "version": "3.12.7"
  }
 },
 "nbformat": 4,
 "nbformat_minor": 2
}
