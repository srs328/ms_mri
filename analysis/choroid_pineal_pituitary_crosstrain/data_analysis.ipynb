{
 "cells": [
  {
   "cell_type": "code",
   "execution_count": 1,
   "metadata": {},
   "outputs": [],
   "source": [
    "import pandas as pd\n",
    "from reload_recursive import reload_recursive\n",
    "import os\n",
    "from loguru import logger\n",
    "from pathlib import Path\n",
    "import json\n",
    "import numpy as np\n",
    "from tqdm.notebook import tqdm\n",
    "import re\n",
    "import sys\n",
    "import nibabel as nib\n",
    "\n",
    "import mri_data\n",
    "import monai_training"
   ]
  },
  {
   "cell_type": "code",
   "execution_count": 2,
   "metadata": {},
   "outputs": [],
   "source": [
    "reload_recursive(mri_data)\n",
    "reload_recursive(monai_training)\n",
    "\n",
    "from mri_data.file_manager import DataSet, scan_3Tpioneer_bids\n",
    "from mri_data import file_manager as fm\n",
    "from mri_data import utils\n",
    "from monai_training.preprocess import DataSetProcesser"
   ]
  },
  {
   "cell_type": "code",
   "execution_count": 3,
   "metadata": {},
   "outputs": [],
   "source": [
    "logger.remove()"
   ]
  },
  {
   "cell_type": "code",
   "execution_count": 4,
   "metadata": {},
   "outputs": [],
   "source": [
    "drive_root = fm.get_drive_root()\n",
    "msmri_home = Path(\"/home/srs-9/Projects/ms_mri\")\n",
    "training_work_dirs = drive_root / \"training_work_dirs\"\n",
    "dataroot = drive_root / \"3Tpioneer_bids\"\n",
    "clinical_data_root = drive_root / \"Secure_Data\" / \"Large\"\n",
    "project_dataroot = msmri_home / \"data\""
   ]
  },
  {
   "cell_type": "code",
   "execution_count": 5,
   "metadata": {},
   "outputs": [],
   "source": [
    "keep_cols = [\"ms_type\", \"flair_contrast\"]\n",
    "df_full = pd.read_csv(project_dataroot / \"clinical_data_full.csv\", index_col=\"subid\")\n",
    "df_full = df_full[keep_cols]\n",
    "df_full.index.name = \"subject_id\"\n",
    "try:\n",
    "    df_full.insert('dz_type', df_full['ms_type'])\n",
    "except Exception:\n",
    "    pass\n",
    "\n",
    "df_full.loc[:, 'dz_type'] = df_full['ms_type']\n",
    "\n",
    "df_full.loc[df_full['ms_type'] == 'CIS', 'dz_type'] = 'RRMS'\n",
    "df_full.loc[df_full['ms_type'].isin(['PPMS', 'SPMS', 'RPMS', 'PRMS']), 'dz_type'] = 'PMS'\n",
    "df_full.loc[df_full['ms_type'].isin(['NIND', 'OIND', 'HC']), 'dz_type'] = '!MS'\n",
    "\n",
    "df_full.loc[:, 'dz_type2'] = df_full['dz_type']\n",
    "df_full.loc[df_full['dz_type'].isin(['RRMS', 'PMS']), 'dz_type2'] = 'MS'"
   ]
  },
  {
   "cell_type": "markdown",
   "metadata": {},
   "source": [
    "### Automatic Segmentations"
   ]
  },
  {
   "cell_type": "code",
   "execution_count": 6,
   "metadata": {},
   "outputs": [],
   "source": [
    "work_dir_names = [\"choroid_pineal_pituitary3\", \"choroid_pineal_pituitary3-2\", \"choroid_pineal_pituitary3-3\", \"choroid_pineal_pituitary3-4\"]\n",
    "work_dirs = [training_work_dirs / name / \"ensemble_output\" for name in work_dir_names]\n",
    "ensemble_datasets = [fm.scan_3Tpioneer_bids(work_dir, label=\"flair.t1_ensemble.nii.gz\") for work_dir in work_dirs]"
   ]
  },
  {
   "cell_type": "markdown",
   "metadata": {},
   "source": [
    "### Manual Segmentations"
   ]
  },
  {
   "cell_type": "code",
   "execution_count": 7,
   "metadata": {},
   "outputs": [],
   "source": [
    "subjects = []\n",
    "for dataset in ensemble_datasets:\n",
    "    for scan in dataset:\n",
    "        subjects.append(int(scan.subid))"
   ]
  },
  {
   "cell_type": "code",
   "execution_count": 8,
   "metadata": {},
   "outputs": [],
   "source": [
    "def has_subject(scan, subjects: list[int]) -> bool:\n",
    "    if int(scan.subid) in subjects:\n",
    "        return True\n",
    "    else:\n",
    "        return False"
   ]
  },
  {
   "cell_type": "code",
   "execution_count": 9,
   "metadata": {},
   "outputs": [
    {
     "name": "stderr",
     "output_type": "stream",
     "text": [
      "100%|██████████| 40/40 [00:02<00:00, 15.16it/s]\n"
     ]
    }
   ],
   "source": [
    "orig_dataset_proc = DataSetProcesser.new_dataset(dataroot, fm.scan_3Tpioneer_bids, filters=fm.filter_first_ses)\n",
    "orig_dataset_proc.filter([has_subject], [(subjects,)])\n",
    "orig_dataset_proc.prepare_labels([\"choroid_t1_flair\", \"pineal\", \"pituitary\"], [\"CH\", \"SRS\", \"DT\", \"ED\"])\n",
    "orig_dataset = orig_dataset_proc.dataset"
   ]
  },
  {
   "cell_type": "code",
   "execution_count": 10,
   "metadata": {},
   "outputs": [],
   "source": [
    "auto_segs = {}\n",
    "for dataset in ensemble_datasets:\n",
    "    for scan in dataset:\n",
    "        auto_segs[scan.subid] = scan.label_path\n",
    "\n",
    "man_segs = {}\n",
    "for scan in orig_dataset:\n",
    "    man_segs[scan.subid] = scan.label_path"
   ]
  },
  {
   "cell_type": "code",
   "execution_count": 11,
   "metadata": {},
   "outputs": [],
   "source": [
    "df = df_full.loc[subjects, :]\n",
    "\n",
    "df = df_full[df_full.index.isin(subjects)]\n",
    "for subid, _ in df.iterrows():\n",
    "    df.loc[subid, ('manual_label',)] = man_segs[str(subid)]\n",
    "    df.loc[subid, ('auto_label',)] = auto_segs[str(subid)]\n",
    "\n",
    "for scan in orig_dataset:\n",
    "    df.loc[int(scan.subid), ('scan_folder',)] = scan.root"
   ]
  },
  {
   "cell_type": "code",
   "execution_count": 12,
   "metadata": {},
   "outputs": [],
   "source": [
    "def get_volumes(path):\n",
    "    vol_stats = utils.compute_volume(path, index_mask_file=path)\n",
    "    \n",
    "    return tuple([stat[1] for stat in vol_stats])"
   ]
  },
  {
   "cell_type": "code",
   "execution_count": 13,
   "metadata": {},
   "outputs": [
    {
     "data": {
      "application/vnd.jupyter.widget-view+json": {
       "model_id": "14f8ec386d4148ee9f0ef07515fab901",
       "version_major": 2,
       "version_minor": 0
      },
      "text/plain": [
       "0it [00:00, ?it/s]"
      ]
     },
     "metadata": {},
     "output_type": "display_data"
    },
    {
     "name": "stdout",
     "output_type": "stream",
     "text": [
      "1038\n",
      "1540\n"
     ]
    }
   ],
   "source": [
    "for subid, _ in tqdm(df.iterrows()):\n",
    "    try:\n",
    "        man_vol = get_volumes(df.loc[subid, 'manual_label'])\n",
    "    except Exception:\n",
    "        print(scan.subid)\n",
    "        continue\n",
    "    try:\n",
    "        assert len(man_vol) == 3\n",
    "    except AssertionError:\n",
    "        man_vol = [None, None, None]\n",
    "\n",
    "    df.loc[subid, ['choroid_vol_man', 'pineal_vol_man', 'pituitary_vol_man']] = man_vol\n",
    "\n",
    "\n",
    "    try:\n",
    "        auto_vol = get_volumes(df.loc[subid, 'auto_label'])\n",
    "    except Exception:\n",
    "        print(subid)\n",
    "        continue\n",
    "    try:\n",
    "        assert len(auto_vol) == 3\n",
    "    except AssertionError:\n",
    "        auto_vol = [None, None, None]\n",
    "    \n",
    "    df.loc[subid, ['choroid_vol_auto', 'pineal_vol_auto', 'pituitary_vol_auto']] = auto_vol"
   ]
  },
  {
   "cell_type": "code",
   "execution_count": 69,
   "metadata": {},
   "outputs": [],
   "source": [
    "def get_dice_scores(label1, label2):\n",
    "    seg1 = nib.load(label1).get_fdata()\n",
    "    seg2 = nib.load(label2).get_fdata()\n",
    "    choroid = utils.dice_score(seg1, seg2, seg1_val=1, seg2_val=1)\n",
    "    pineal = utils.dice_score(seg1, seg2, seg1_val=2, seg2_val=2)\n",
    "    pituitary = utils.dice_score(seg1, seg2, seg1_val=3, seg2_val=3)\n",
    "    return choroid, pineal, pituitary"
   ]
  },
  {
   "cell_type": "code",
   "execution_count": null,
   "metadata": {},
   "outputs": [],
   "source": [
    "for subid, _ in df.iterrows():\n",
    "    df.loc[subid, ['choroid_dice', \n",
    "                    'pineal_dice', \n",
    "                    'pituitary_dice']] = get_dice_scores(df.loc[subid, 'auto_label'], \n",
    "                                                        df.loc[subid, 'manual_label'])\n"
   ]
  },
  {
   "cell_type": "markdown",
   "metadata": {},
   "source": [
    "### Automatic Segmentation Volumes"
   ]
  },
  {
   "cell_type": "code",
   "execution_count": 74,
   "metadata": {},
   "outputs": [
    {
     "name": "stdout",
     "output_type": "stream",
     "text": [
      "Choroid:\n",
      "MS mean:             1766.81\n",
      "MS mean w contrast:  1892.98\n",
      "MS mean wo contrast: 1609.09\n",
      "!MS mean:            1922.68\n",
      "\n",
      "Pineal\n",
      "MS mean:             228.35\n",
      "MS mean w contrast:  269.92\n",
      "MS mean wo contrast: 176.39\n",
      "!MS mean:            254.34\n",
      "\n",
      "Pituitary\n",
      "MS mean:             700.47\n",
      "MS mean w contrast:  677.11\n",
      "MS mean wo contrast: 729.67\n",
      "!MS mean:            716.21\n"
     ]
    }
   ],
   "source": [
    "print(\"Choroid:\")\n",
    "choroid_ms_mean = df[df['dz_type'] == \"RRMS\"].choroid_vol_auto.mean()\n",
    "choroid_ms_mean_w = df[(df['dz_type'] == \"RRMS\") & (df['flair_contrast'] == \"WITH\")].choroid_vol_auto.mean()\n",
    "choroid_ms_mean_wo = df[(df['dz_type'] == \"RRMS\") & (df['flair_contrast'] == \"WITHOUT\")].choroid_vol_auto.mean()\n",
    "choroid_notms_mean = df[df['dz_type'] == \"!MS\"].choroid_vol_auto.mean()\n",
    "print(\"MS mean:             {:0.2f}\".format(choroid_ms_mean))\n",
    "print(\"MS mean w contrast:  {:0.2f}\".format(choroid_ms_mean_w))\n",
    "print(\"MS mean wo contrast: {:0.2f}\".format(choroid_ms_mean_wo))\n",
    "print(\"!MS mean:            {:0.2f}\".format(choroid_notms_mean))\n",
    "\n",
    "print(\"\\nPineal\")\n",
    "pineal_ms_mean = df[df['dz_type'] == \"RRMS\"].pineal_vol_auto.mean()\n",
    "pineal_ms_mean_w = df[(df['dz_type'] == \"RRMS\") & (df['flair_contrast'] == \"WITH\")].pineal_vol_auto.mean()\n",
    "pineal_ms_mean_wo = df[(df['dz_type'] == \"RRMS\") & (df['flair_contrast'] == \"WITHOUT\")].pineal_vol_auto.mean()\n",
    "pineal_notms_mean = df[df['dz_type'] == \"!MS\"].pineal_vol_auto.mean()\n",
    "print(\"MS mean:             {:0.2f}\".format(pineal_ms_mean))\n",
    "print(\"MS mean w contrast:  {:0.2f}\".format(pineal_ms_mean_w))\n",
    "print(\"MS mean wo contrast: {:0.2f}\".format(pineal_ms_mean_wo))\n",
    "print(\"!MS mean:            {:0.2f}\".format(pineal_notms_mean))\n",
    "\n",
    "print(\"\\nPituitary\")\n",
    "pituitary_ms_mean = df[df['dz_type'] == \"RRMS\"].pituitary_vol_auto.mean()\n",
    "pituitary_ms_mean_w = df[(df['dz_type'] == \"RRMS\") & (df['flair_contrast'] == \"WITH\")].pituitary_vol_auto.mean()\n",
    "pituitary_ms_mean_wo = df[(df['dz_type'] == \"RRMS\") & (df['flair_contrast'] == \"WITHOUT\")].pituitary_vol_auto.mean()\n",
    "pituitary_notms_mean = df[df['dz_type'] == \"!MS\"].pituitary_vol_auto.mean()\n",
    "print(\"MS mean:             {:0.2f}\".format(pituitary_ms_mean))\n",
    "print(\"MS mean w contrast:  {:0.2f}\".format(pituitary_ms_mean_w))\n",
    "print(\"MS mean wo contrast: {:0.2f}\".format(pituitary_ms_mean_wo))\n",
    "print(\"!MS mean:            {:0.2f}\".format(pituitary_notms_mean))"
   ]
  },
  {
   "cell_type": "markdown",
   "metadata": {},
   "source": [
    "### Manual Segmentation Volumes"
   ]
  },
  {
   "cell_type": "code",
   "execution_count": 75,
   "metadata": {},
   "outputs": [
    {
     "name": "stdout",
     "output_type": "stream",
     "text": [
      "Choroid:\n",
      "MS mean:             1954.47\n",
      "MS mean w contrast:  1956.55\n",
      "MS mean wo contrast: 1951.61\n",
      "!MS mean:            1880.28\n",
      "\n",
      "Pineal\n",
      "MS mean:             230.64\n",
      "MS mean w contrast:  260.88\n",
      "MS mean wo contrast: 189.06\n",
      "!MS mean:            371.61\n",
      "\n",
      "Pituitary\n",
      "MS mean:             767.78\n",
      "MS mean w contrast:  755.84\n",
      "MS mean wo contrast: 784.20\n",
      "!MS mean:            679.33\n"
     ]
    }
   ],
   "source": [
    "print(\"Choroid:\")\n",
    "choroid_ms_mean = df[df['dz_type'] == \"RRMS\"].choroid_vol_man.mean()\n",
    "choroid_ms_mean_w = df[(df['dz_type'] == \"RRMS\") & (df['flair_contrast'] == \"WITH\")].choroid_vol_man.mean()\n",
    "choroid_ms_mean_wo = df[(df['dz_type'] == \"RRMS\") & (df['flair_contrast'] == \"WITHOUT\")].choroid_vol_man.mean()\n",
    "choroid_notms_mean = df[df['dz_type'] == \"!MS\"].choroid_vol_man.mean()\n",
    "print(\"MS mean:             {:0.2f}\".format(choroid_ms_mean))\n",
    "print(\"MS mean w contrast:  {:0.2f}\".format(choroid_ms_mean_w))\n",
    "print(\"MS mean wo contrast: {:0.2f}\".format(choroid_ms_mean_wo))\n",
    "print(\"!MS mean:            {:0.2f}\".format(choroid_notms_mean))\n",
    "\n",
    "print(\"\\nPineal\")\n",
    "pineal_ms_mean = df[df['dz_type'] == \"RRMS\"].pineal_vol_man.mean()\n",
    "pineal_ms_mean_w = df[(df['dz_type'] == \"RRMS\") & (df['flair_contrast'] == \"WITH\")].pineal_vol_man.mean()\n",
    "pineal_ms_mean_wo = df[(df['dz_type'] == \"RRMS\") & (df['flair_contrast'] == \"WITHOUT\")].pineal_vol_man.mean()\n",
    "pineal_notms_mean = df[df['dz_type'] == \"!MS\"].pineal_vol_man.mean()\n",
    "print(\"MS mean:             {:0.2f}\".format(pineal_ms_mean))\n",
    "print(\"MS mean w contrast:  {:0.2f}\".format(pineal_ms_mean_w))\n",
    "print(\"MS mean wo contrast: {:0.2f}\".format(pineal_ms_mean_wo))\n",
    "print(\"!MS mean:            {:0.2f}\".format(pineal_notms_mean))\n",
    "\n",
    "print(\"\\nPituitary\")\n",
    "pituitary_ms_mean = df[df['dz_type'] == \"RRMS\"].pituitary_vol_man.mean()\n",
    "pituitary_ms_mean_w = df[(df['dz_type'] == \"RRMS\") & (df['flair_contrast'] == \"WITH\")].pituitary_vol_man.mean()\n",
    "pituitary_ms_mean_wo = df[(df['dz_type'] == \"RRMS\") & (df['flair_contrast'] == \"WITHOUT\")].pituitary_vol_man.mean()\n",
    "pituitary_notms_mean = df[df['dz_type'] == \"!MS\"].pituitary_vol_man.mean()\n",
    "print(\"MS mean:             {:0.2f}\".format(pituitary_ms_mean))\n",
    "print(\"MS mean w contrast:  {:0.2f}\".format(pituitary_ms_mean_w))\n",
    "print(\"MS mean wo contrast: {:0.2f}\".format(pituitary_ms_mean_wo))\n",
    "print(\"!MS mean:            {:0.2f}\".format(pituitary_notms_mean))"
   ]
  },
  {
   "cell_type": "code",
   "execution_count": 77,
   "metadata": {},
   "outputs": [],
   "source": [
    "df.loc[:, ['choroid_difference']] = df['choroid_vol_auto'] - df['choroid_vol_man']\n",
    "df.loc[:, ['pineal_difference']] = df['pineal_vol_auto'] - df['pineal_vol_man']\n",
    "df.loc[:, ['pituitary_difference']] = df['pituitary_vol_auto'] - df['pituitary_vol_man']"
   ]
  },
  {
   "cell_type": "markdown",
   "metadata": {},
   "source": [
    "Look at dice scores between MS and !MS"
   ]
  },
  {
   "cell_type": "code",
   "execution_count": 82,
   "metadata": {},
   "outputs": [
    {
     "name": "stdout",
     "output_type": "stream",
     "text": [
      "MS choroid dice:   0.73\n",
      "!MS choroid dice:  0.73\n",
      "\n",
      "\n",
      "MS pineal dice:   0.69\n",
      "!MS pineal dice:  0.72\n",
      "\n",
      "\n",
      "MS pituitary dice:   0.74\n",
      "!MS pituitary dice:  0.78\n"
     ]
    }
   ],
   "source": [
    "print(\"MS choroid dice:   {:0.2f}\".format(df[df.dz_type2 == \"MS\"].choroid_dice.mean()))\n",
    "print(\"!MS choroid dice:  {:0.2f}\".format(df[df.dz_type2 == \"!MS\"].choroid_dice.mean()))\n",
    "\n",
    "print(\"\\n\")\n",
    "print(\"MS pineal dice:   {:0.2f}\".format(df[df.dz_type2 == \"MS\"].pineal_dice.mean()))\n",
    "print(\"!MS pineal dice:  {:0.2f}\".format(df[df.dz_type2 == \"!MS\"].pineal_dice.mean()))\n",
    "\n",
    "print(\"\\n\")\n",
    "print(\"MS pituitary dice:   {:0.2f}\".format(df[df.dz_type2 == \"MS\"].pituitary_dice.mean()))\n",
    "print(\"!MS pituitary dice:  {:0.2f}\".format(df[df.dz_type2 == \"!MS\"].pituitary_dice.mean()))"
   ]
  },
  {
   "cell_type": "markdown",
   "metadata": {},
   "source": [
    "Look at volume differences between auto and man for MS and !MS"
   ]
  },
  {
   "cell_type": "code",
   "execution_count": 83,
   "metadata": {},
   "outputs": [
    {
     "name": "stdout",
     "output_type": "stream",
     "text": [
      "MS choroid difference:   -184.77\n",
      "!MS choroid difference:  59.78\n",
      "\n",
      "\n",
      "MS pineal difference:   -7.08\n",
      "!MS pineal difference:  -120.75\n",
      "\n",
      "\n",
      "MS pituitary difference:   -76.63\n",
      "!MS pituitary difference:  40.04\n"
     ]
    }
   ],
   "source": [
    "print(\"MS choroid difference:   {:0.2f}\".format(df[df.dz_type2 == \"MS\"].choroid_difference.mean()))\n",
    "print(\"!MS choroid difference:  {:0.2f}\".format(df[df.dz_type2 == \"!MS\"].choroid_difference.mean()))\n",
    "\n",
    "print(\"\\n\")\n",
    "print(\"MS pineal difference:   {:0.2f}\".format(df[df.dz_type2 == \"MS\"].pineal_difference.mean()))\n",
    "print(\"!MS pineal difference:  {:0.2f}\".format(df[df.dz_type2 == \"!MS\"].pineal_difference.mean()))\n",
    "\n",
    "print(\"\\n\")\n",
    "print(\"MS pituitary difference:   {:0.2f}\".format(df[df.dz_type2 == \"MS\"].pituitary_difference.mean()))\n",
    "print(\"!MS pituitary difference:  {:0.2f}\".format(df[df.dz_type2 == \"!MS\"].pituitary_difference.mean()))"
   ]
  },
  {
   "cell_type": "markdown",
   "metadata": {},
   "source": [
    "### Inspect Segmentations"
   ]
  },
  {
   "cell_type": "code",
   "execution_count": 37,
   "metadata": {},
   "outputs": [
    {
     "name": "stderr",
     "output_type": "stream",
     "text": [
      "/tmp/ipykernel_341066/1631151812.py:2: SettingWithCopyWarning: \n",
      "A value is trying to be set on a copy of a slice from a DataFrame\n",
      "\n",
      "See the caveats in the documentation: https://pandas.pydata.org/pandas-docs/stable/user_guide/indexing.html#returning-a-view-versus-a-copy\n",
      "  df_inference.sort_values(by=['dz_type2', \"subject_id\"], inplace=True)\n"
     ]
    }
   ],
   "source": [
    "df.index.name = \"subject_id\"\n",
    "df = df.sort_values(by=['dz_type2', \"subject_id\"])"
   ]
  },
  {
   "cell_type": "code",
   "execution_count": 40,
   "metadata": {},
   "outputs": [],
   "source": [
    "df = df.sort_values(by=['choroid_difference'])"
   ]
  },
  {
   "cell_type": "code",
   "execution_count": 84,
   "metadata": {},
   "outputs": [],
   "source": [
    "for i, row in df.iterrows():\n",
    "    images = [Path(row['scan_folder']) / \"flair.nii.gz\", Path(row['scan_folder']) / \"t1.nii.gz\"]\n",
    "    labels = [row['auto_label'], row['manual_label']]\n",
    "    cmd = utils.open_itksnap_workspace_cmd(images, labels, win=True)\n",
    "    df.loc[i, \"itksnap_cmd\"] = cmd"
   ]
  },
  {
   "cell_type": "code",
   "execution_count": 85,
   "metadata": {},
   "outputs": [],
   "source": [
    "import pyperclip\n",
    "\n",
    "pyperclip.copy(df.loc[1010, \"itksnap_cmd\"])"
   ]
  },
  {
   "cell_type": "code",
   "execution_count": 86,
   "metadata": {},
   "outputs": [
    {
     "name": "stdout",
     "output_type": "stream",
     "text": [
      "itksnap -g H:/3Tpioneer_bids/sub-ms1010/ses-20180208/flair.nii.gz -o H:/3Tpioneer_bids/sub-ms1010/ses-20180208/t1.nii.gz -s H:/training_work_dirs/choroid_pineal_pituitary3/ensemble_output/sub-ms1010/ses-20180208/flair.t1_ensemble.nii.gz H:/3Tpioneer_bids/sub-ms1010/ses-20180208/choroid_t1_flair-CH.pineal-CH.pituitary-CH.nii.gz\n"
     ]
    }
   ],
   "source": [
    "print(df.loc[1010, \"itksnap_cmd\"])"
   ]
  },
  {
   "cell_type": "code",
   "execution_count": 25,
   "metadata": {},
   "outputs": [],
   "source": [
    "lines = [\"# Notes\", \"\\n\\n\"]\n",
    "dz_type = \"\"\n",
    "for i, row in df.iterrows():\n",
    "    if row['dz_type2'] != dz_type:\n",
    "        lines.extend([f\"## {row['dz_type2']}\", \"\\n\\n\"])\n",
    "        dz_type = row['dz_type2']\n",
    "    lines.extend([f\"### {i}\", \"\\n\\n\"])"
   ]
  },
  {
   "cell_type": "code",
   "execution_count": 26,
   "metadata": {},
   "outputs": [],
   "source": [
    "import os\n",
    "\n",
    "if not os.path.exists(\"seg_notes.md\"):\n",
    "    with open(\"seg_notes.md\", 'w') as f:\n",
    "        f.writelines(lines)"
   ]
  }
 ],
 "metadata": {
  "kernelspec": {
   "display_name": "monai",
   "language": "python",
   "name": "python3"
  },
  "language_info": {
   "codemirror_mode": {
    "name": "ipython",
    "version": 3
   },
   "file_extension": ".py",
   "mimetype": "text/x-python",
   "name": "python",
   "nbconvert_exporter": "python",
   "pygments_lexer": "ipython3",
   "version": "3.12.4"
  }
 },
 "nbformat": 4,
 "nbformat_minor": 2
}
