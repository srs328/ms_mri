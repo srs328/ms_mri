{
 "cells": [
  {
   "cell_type": "code",
   "execution_count": 1,
   "metadata": {},
   "outputs": [],
   "source": [
    "import pandas as pd\n",
    "from reload_recursive import reload_recursive\n",
    "from loguru import logger\n",
    "from pathlib import Path\n",
    "\n",
    "import numpy as np\n",
    "import statsmodels.api as sm\n",
    "import matplotlib.pyplot as plt\n",
    "import scipy.stats as stats\n",
    "from statsmodels.graphics.agreement import mean_diff_plot\n",
    "\n",
    "\n",
    "import mri_data\n",
    "import monai_training"
   ]
  },
  {
   "cell_type": "code",
   "execution_count": 2,
   "metadata": {},
   "outputs": [],
   "source": [
    "reload_recursive(mri_data)\n",
    "reload_recursive(monai_training)\n",
    "\n",
    "from mri_data.file_manager import DataSet, scan_3Tpioneer_bids\n",
    "from mri_data import file_manager as fm\n",
    "from mri_data import utils\n",
    "from monai_training.preprocess import DataSetProcesser"
   ]
  },
  {
   "cell_type": "code",
   "execution_count": 3,
   "metadata": {},
   "outputs": [],
   "source": [
    "logger.remove()"
   ]
  },
  {
   "cell_type": "code",
   "execution_count": 4,
   "metadata": {},
   "outputs": [],
   "source": [
    "drive_root = fm.get_drive_root()\n",
    "msmri_home = Path(\"/home/srs-9/Projects/ms_mri\")\n",
    "training_work_dirs = msmri_home / \"training_work_dirs\"\n",
    "dataroot = drive_root / \"3Tpioneer_bids\"\n",
    "clinical_data_root = drive_root / \"Secure_Data\" / \"Large\"\n",
    "project_dataroot = msmri_home / \"data\""
   ]
  },
  {
   "cell_type": "code",
   "execution_count": 5,
   "metadata": {},
   "outputs": [],
   "source": [
    "keep_cols = [\"ms_type\", \"flair_contrast\"]\n",
    "df_full = pd.read_csv(project_dataroot / \"clinical_data_full.csv\", index_col=\"subid\")\n",
    "df_full = df_full[keep_cols]\n",
    "df_full.index.name = \"subject_id\"\n",
    "try:\n",
    "    df_full.insert(\"dz_type\", df_full[\"ms_type\"])\n",
    "except Exception:\n",
    "    pass\n",
    "\n",
    "df_full.loc[:, \"dz_type\"] = df_full[\"ms_type\"]\n",
    "\n",
    "df_full.loc[df_full[\"ms_type\"] == \"CIS\", \"dz_type\"] = \"RRMS\"\n",
    "df_full.loc[df_full[\"ms_type\"].isin([\"PPMS\", \"SPMS\", \"RPMS\", \"PRMS\"]), \"dz_type\"] = (\n",
    "    \"PMS\"\n",
    ")\n",
    "df_full.loc[df_full[\"ms_type\"].isin([\"NIND\", \"OIND\", \"HC\"]), \"dz_type\"] = \"!MS\"\n",
    "\n",
    "df_full.loc[:, \"dz_type2\"] = df_full[\"dz_type\"]\n",
    "df_full.loc[df_full[\"dz_type\"].isin([\"RRMS\", \"PMS\"]), \"dz_type2\"] = \"MS\""
   ]
  },
  {
   "cell_type": "markdown",
   "metadata": {},
   "source": [
    "### Automatic Segmentations"
   ]
  },
  {
   "cell_type": "code",
   "execution_count": 6,
   "metadata": {},
   "outputs": [],
   "source": [
    "# work_dir_names = [\n",
    "#     \"choroid_pineal_pituitary3\",\n",
    "#     \"choroid_pineal_pituitary3-2\",\n",
    "#     \"choroid_pineal_pituitary3-3\",\n",
    "#     \"choroid_pineal_pituitary3-4\",\n",
    "# ]\n",
    "# work_dirs = [training_work_dirs / name / \"ensemble_output\" for name in work_dir_names]\n",
    "# ensemble_datasets = [\n",
    "#     fm.scan_3Tpioneer_bids(work_dir, label=\"flair.t1_ensemble.nii.gz\")\n",
    "#     for work_dir in work_dirs\n",
    "# ]"
   ]
  },
  {
   "cell_type": "markdown",
   "metadata": {},
   "source": [
    "### Manual Segmentations"
   ]
  },
  {
   "cell_type": "code",
   "execution_count": 7,
   "metadata": {},
   "outputs": [],
   "source": [
    "# subjects = []\n",
    "# for dataset in ensemble_datasets:\n",
    "#     for scan in dataset:\n",
    "#         subjects.append(int(scan.subid))"
   ]
  },
  {
   "cell_type": "code",
   "execution_count": 8,
   "metadata": {},
   "outputs": [],
   "source": [
    "def has_subject(scan, subjects: list[int]) -> bool:\n",
    "    if int(scan.subid) in subjects:\n",
    "        return True\n",
    "    else:\n",
    "        return False"
   ]
  },
  {
   "cell_type": "code",
   "execution_count": 9,
   "metadata": {},
   "outputs": [],
   "source": [
    "# orig_dataset_proc = DataSetProcesser.new_dataset(\n",
    "#     dataroot, fm.scan_3Tpioneer_bids, filters=fm.filter_first_ses\n",
    "# )\n",
    "# orig_dataset_proc.filter([has_subject], [(subjects,)])\n",
    "# orig_dataset_proc.prepare_labels(\n",
    "#     [\"choroid_t1_flair\", \"pineal\", \"pituitary\"], [\"CH\", \"SRS\", \"DT\", \"ED\"]\n",
    "# )\n",
    "# orig_dataset = orig_dataset_proc.dataset"
   ]
  },
  {
   "cell_type": "code",
   "execution_count": 10,
   "metadata": {},
   "outputs": [],
   "source": [
    "df = pd.read_csv(\"dataframe.csv\", index_col=\"subject_id\")"
   ]
  },
  {
   "cell_type": "code",
   "execution_count": 11,
   "metadata": {},
   "outputs": [],
   "source": [
    "df.loc[:, [\"choroid_difference\"]] = df[\"choroid_vol_auto\"] - df[\"choroid_vol_man\"]\n",
    "df.loc[:, [\"pineal_difference\"]] = df[\"pineal_vol_auto\"] - df[\"pineal_vol_man\"] \n",
    "df.loc[:, [\"pituitary_difference\"]] = df[\"pituitary_vol_auto\"] - df[\"pituitary_vol_man\"]"
   ]
  },
  {
   "cell_type": "markdown",
   "metadata": {},
   "source": [
    "### Automatic Segmentation Volumes"
   ]
  },
  {
   "cell_type": "code",
   "execution_count": 12,
   "metadata": {},
   "outputs": [
    {
     "name": "stdout",
     "output_type": "stream",
     "text": [
      "AUTO\n",
      "\n",
      "Choroid:\n",
      "MS mean:             1766.81\n",
      "MS mean w contrast:  1892.98\n",
      "MS mean wo contrast: 1609.09\n",
      "!MS mean:            1922.68\n",
      "\n",
      "Pineal\n",
      "MS mean:             228.35\n",
      "MS mean w contrast:  269.92\n",
      "MS mean wo contrast: 176.39\n",
      "!MS mean:            254.34\n",
      "\n",
      "Pituitary\n",
      "MS mean:             700.47\n",
      "MS mean w contrast:  677.11\n",
      "MS mean wo contrast: 729.67\n",
      "!MS mean:            716.21\n"
     ]
    }
   ],
   "source": [
    "print(\"AUTO\\n\")\n",
    "\n",
    "print(\"Choroid:\")\n",
    "choroid_ms_mean = df[df[\"dz_type\"] == \"RRMS\"].choroid_vol_auto.mean()\n",
    "choroid_ms_mean_w = df[\n",
    "    (df[\"dz_type\"] == \"RRMS\") & (df[\"flair_contrast\"] == \"WITH\")\n",
    "].choroid_vol_auto.mean()\n",
    "choroid_ms_mean_wo = df[\n",
    "    (df[\"dz_type\"] == \"RRMS\") & (df[\"flair_contrast\"] == \"WITHOUT\")\n",
    "].choroid_vol_auto.mean()\n",
    "choroid_notms_mean = df[df[\"dz_type\"] == \"!MS\"].choroid_vol_auto.mean()\n",
    "print(\"MS mean:             {:0.2f}\".format(choroid_ms_mean))\n",
    "print(\"MS mean w contrast:  {:0.2f}\".format(choroid_ms_mean_w))\n",
    "print(\"MS mean wo contrast: {:0.2f}\".format(choroid_ms_mean_wo))\n",
    "print(\"!MS mean:            {:0.2f}\".format(choroid_notms_mean))\n",
    "\n",
    "print(\"\\nPineal\")\n",
    "pineal_ms_mean = df[df[\"dz_type\"] == \"RRMS\"].pineal_vol_auto.mean()\n",
    "pineal_ms_mean_w = df[\n",
    "    (df[\"dz_type\"] == \"RRMS\") & (df[\"flair_contrast\"] == \"WITH\")\n",
    "].pineal_vol_auto.mean()\n",
    "pineal_ms_mean_wo = df[\n",
    "    (df[\"dz_type\"] == \"RRMS\") & (df[\"flair_contrast\"] == \"WITHOUT\")\n",
    "].pineal_vol_auto.mean()\n",
    "pineal_notms_mean = df[df[\"dz_type\"] == \"!MS\"].pineal_vol_auto.mean()\n",
    "print(\"MS mean:             {:0.2f}\".format(pineal_ms_mean))\n",
    "print(\"MS mean w contrast:  {:0.2f}\".format(pineal_ms_mean_w))\n",
    "print(\"MS mean wo contrast: {:0.2f}\".format(pineal_ms_mean_wo))\n",
    "print(\"!MS mean:            {:0.2f}\".format(pineal_notms_mean))\n",
    "\n",
    "print(\"\\nPituitary\")\n",
    "pituitary_ms_mean = df[df[\"dz_type\"] == \"RRMS\"].pituitary_vol_auto.mean()\n",
    "pituitary_ms_mean_w = df[\n",
    "    (df[\"dz_type\"] == \"RRMS\") & (df[\"flair_contrast\"] == \"WITH\")\n",
    "].pituitary_vol_auto.mean()\n",
    "pituitary_ms_mean_wo = df[\n",
    "    (df[\"dz_type\"] == \"RRMS\") & (df[\"flair_contrast\"] == \"WITHOUT\")\n",
    "].pituitary_vol_auto.mean()\n",
    "pituitary_notms_mean = df[df[\"dz_type\"] == \"!MS\"].pituitary_vol_auto.mean()\n",
    "print(\"MS mean:             {:0.2f}\".format(pituitary_ms_mean))\n",
    "print(\"MS mean w contrast:  {:0.2f}\".format(pituitary_ms_mean_w))\n",
    "print(\"MS mean wo contrast: {:0.2f}\".format(pituitary_ms_mean_wo))\n",
    "print(\"!MS mean:            {:0.2f}\".format(pituitary_notms_mean))"
   ]
  },
  {
   "cell_type": "markdown",
   "metadata": {},
   "source": [
    "### Manual Segmentation Volumes"
   ]
  },
  {
   "cell_type": "code",
   "execution_count": 13,
   "metadata": {},
   "outputs": [
    {
     "name": "stdout",
     "output_type": "stream",
     "text": [
      "MANUAL\n",
      "\n",
      "Choroid:\n",
      "MS mean:             1954.47\n",
      "MS mean w contrast:  1956.55\n",
      "MS mean wo contrast: 1951.61\n",
      "!MS mean:            1880.28\n",
      "\n",
      "Pineal\n",
      "MS mean:             230.64\n",
      "MS mean w contrast:  260.88\n",
      "MS mean wo contrast: 189.06\n",
      "!MS mean:            371.61\n",
      "\n",
      "Pituitary\n",
      "MS mean:             767.78\n",
      "MS mean w contrast:  755.84\n",
      "MS mean wo contrast: 784.20\n",
      "!MS mean:            679.33\n"
     ]
    }
   ],
   "source": [
    "print(\"MANUAL\\n\")\n",
    "print(\"Choroid:\")\n",
    "choroid_ms_mean = df[df[\"dz_type\"] == \"RRMS\"].choroid_vol_man.mean()\n",
    "choroid_ms_mean_w = df[\n",
    "    (df[\"dz_type\"] == \"RRMS\") & (df[\"flair_contrast\"] == \"WITH\")\n",
    "].choroid_vol_man.mean()\n",
    "choroid_ms_mean_wo = df[\n",
    "    (df[\"dz_type\"] == \"RRMS\") & (df[\"flair_contrast\"] == \"WITHOUT\")\n",
    "].choroid_vol_man.mean()\n",
    "choroid_notms_mean = df[df[\"dz_type\"] == \"!MS\"].choroid_vol_man.mean()\n",
    "print(\"MS mean:             {:0.2f}\".format(choroid_ms_mean))\n",
    "print(\"MS mean w contrast:  {:0.2f}\".format(choroid_ms_mean_w))\n",
    "print(\"MS mean wo contrast: {:0.2f}\".format(choroid_ms_mean_wo))\n",
    "print(\"!MS mean:            {:0.2f}\".format(choroid_notms_mean))\n",
    "\n",
    "print(\"\\nPineal\")\n",
    "pineal_ms_mean = df[df[\"dz_type\"] == \"RRMS\"].pineal_vol_man.mean()\n",
    "pineal_ms_mean_w = df[\n",
    "    (df[\"dz_type\"] == \"RRMS\") & (df[\"flair_contrast\"] == \"WITH\")\n",
    "].pineal_vol_man.mean()\n",
    "pineal_ms_mean_wo = df[\n",
    "    (df[\"dz_type\"] == \"RRMS\") & (df[\"flair_contrast\"] == \"WITHOUT\")\n",
    "].pineal_vol_man.mean()\n",
    "pineal_notms_mean = df[df[\"dz_type\"] == \"!MS\"].pineal_vol_man.mean()\n",
    "print(\"MS mean:             {:0.2f}\".format(pineal_ms_mean))\n",
    "print(\"MS mean w contrast:  {:0.2f}\".format(pineal_ms_mean_w))\n",
    "print(\"MS mean wo contrast: {:0.2f}\".format(pineal_ms_mean_wo))\n",
    "print(\"!MS mean:            {:0.2f}\".format(pineal_notms_mean))\n",
    "\n",
    "print(\"\\nPituitary\")\n",
    "pituitary_ms_mean = df[df[\"dz_type\"] == \"RRMS\"].pituitary_vol_man.mean()\n",
    "pituitary_ms_mean_w = df[\n",
    "    (df[\"dz_type\"] == \"RRMS\") & (df[\"flair_contrast\"] == \"WITH\")\n",
    "].pituitary_vol_man.mean()\n",
    "pituitary_ms_mean_wo = df[\n",
    "    (df[\"dz_type\"] == \"RRMS\") & (df[\"flair_contrast\"] == \"WITHOUT\")\n",
    "].pituitary_vol_man.mean()\n",
    "pituitary_notms_mean = df[df[\"dz_type\"] == \"!MS\"].pituitary_vol_man.mean()\n",
    "print(\"MS mean:             {:0.2f}\".format(pituitary_ms_mean))\n",
    "print(\"MS mean w contrast:  {:0.2f}\".format(pituitary_ms_mean_w))\n",
    "print(\"MS mean wo contrast: {:0.2f}\".format(pituitary_ms_mean_wo))\n",
    "print(\"!MS mean:            {:0.2f}\".format(pituitary_notms_mean))"
   ]
  },
  {
   "cell_type": "markdown",
   "metadata": {},
   "source": [
    "### Dice Scores"
   ]
  },
  {
   "cell_type": "code",
   "execution_count": 14,
   "metadata": {},
   "outputs": [
    {
     "name": "stdout",
     "output_type": "stream",
     "text": [
      "Choroid dice:       0.73\n",
      "Pineal dice:        0.71\n",
      "Pituitary dice:     0.76\n"
     ]
    }
   ],
   "source": [
    "print(\"Choroid dice:       {:0.2f}\".format(df.choroid_dice.mean()))\n",
    "print(\"Pineal dice:        {:0.2f}\".format(df.pineal_dice.mean()))\n",
    "print(\"Pituitary dice:     {:0.2f}\".format(df.pituitary_dice.mean()))"
   ]
  },
  {
   "cell_type": "code",
   "execution_count": 15,
   "metadata": {},
   "outputs": [
    {
     "name": "stdout",
     "output_type": "stream",
     "text": [
      "MS choroid dice:     0.73\n",
      "!MS choroid dice:    0.73\n",
      "---\n",
      "MS pineal dice:      0.69\n",
      "!MS pineal dice:     0.72\n",
      "---\n",
      "MS pituitary dice:   0.74\n",
      "!MS pituitary dice:  0.78\n"
     ]
    }
   ],
   "source": [
    "print(\"MS choroid dice:     {:0.2f}\".format(df[df.dz_type2 == \"MS\"].choroid_dice.mean()))\n",
    "print(\"!MS choroid dice:    {:0.2f}\".format(df[df.dz_type2 == \"!MS\"].choroid_dice.mean()))\n",
    "\n",
    "print(\"---\")\n",
    "print(\"MS pineal dice:      {:0.2f}\".format(df[df.dz_type2 == \"MS\"].pineal_dice.mean()))\n",
    "print(\"!MS pineal dice:     {:0.2f}\".format(df[df.dz_type2 == \"!MS\"].pineal_dice.mean()))\n",
    "\n",
    "print(\"---\")\n",
    "print(\"MS pituitary dice:   {:0.2f}\".format(df[df.dz_type2 == \"MS\"].pituitary_dice.mean()))\n",
    "print(\"!MS pituitary dice:  {:0.2f}\".format(df[df.dz_type2 == \"!MS\"].pituitary_dice.mean()))"
   ]
  },
  {
   "cell_type": "markdown",
   "metadata": {},
   "source": [
    "Look at volume differences between auto and man for MS and !MS"
   ]
  },
  {
   "cell_type": "code",
   "execution_count": 16,
   "metadata": {},
   "outputs": [
    {
     "name": "stdout",
     "output_type": "stream",
     "text": [
      "MS choroid difference:    -184.77\n",
      "!MS choroid difference:   59.78\n",
      "\n",
      "\n",
      "MS pineal difference:     -7.08\n",
      "!MS pineal difference:    -120.75\n",
      "\n",
      "\n",
      "MS pituitary difference:   -76.63\n",
      "!MS pituitary difference:  40.04\n"
     ]
    }
   ],
   "source": [
    "print(\n",
    "    \"MS choroid difference:    {:0.2f}\".format(\n",
    "        df[df.dz_type2 == \"MS\"].choroid_difference.mean()\n",
    "    )\n",
    ")\n",
    "print(\n",
    "    \"!MS choroid difference:   {:0.2f}\".format(\n",
    "        df[df.dz_type2 == \"!MS\"].choroid_difference.mean()\n",
    "    )\n",
    ")\n",
    "\n",
    "print(\"\\n\")\n",
    "print(\n",
    "    \"MS pineal difference:     {:0.2f}\".format(\n",
    "        df[df.dz_type2 == \"MS\"].pineal_difference.mean()\n",
    "    )\n",
    ")\n",
    "print(\n",
    "    \"!MS pineal difference:    {:0.2f}\".format(\n",
    "        df[df.dz_type2 == \"!MS\"].pineal_difference.mean()\n",
    "    )\n",
    ")\n",
    "\n",
    "print(\"\\n\")\n",
    "print(\n",
    "    \"MS pituitary difference:   {:0.2f}\".format(\n",
    "        df[df.dz_type2 == \"MS\"].pituitary_difference.mean()\n",
    "    )\n",
    ")\n",
    "print(\n",
    "    \"!MS pituitary difference:  {:0.2f}\".format(\n",
    "        df[df.dz_type2 == \"!MS\"].pituitary_difference.mean()\n",
    "    )\n",
    ")"
   ]
  },
  {
   "cell_type": "code",
   "execution_count": 17,
   "metadata": {},
   "outputs": [
    {
     "data": {
      "text/plain": [
       "Text(107.71668131666664, 5.1450000000000005, 'Dice=0.78')"
      ]
     },
     "execution_count": 17,
     "metadata": {},
     "output_type": "execute_result"
    },
    {
     "data": {
      "image/png": "[encoded data removed]",
      "text/plain": [
       "<Figure size 2000x1000 with 6 Axes>"
      ]
     },
     "metadata": {},
     "output_type": "display_data"
    }
   ],
   "source": [
    "fig, axes = plt.subplots(2, 3)\n",
    "fig.set_figwidth(20)\n",
    "fig.set_figheight(10)\n",
    "\n",
    "ax = axes[0,0]\n",
    "ax.hist(df.loc[df[\"dz_type2\"] == \"MS\", \"choroid_difference\"])\n",
    "ax.set_title(\"MS Choroid Auto - Man\")\n",
    "ax.plot([0, 0], ax.get_ylim())\n",
    "x_extent = max([abs(ext) for ext in ax.get_xlim()])\n",
    "ax.set_xlim([-x_extent, x_extent])\n",
    "text_y = ax.get_ylim()[1] - ax.get_ylim()[1] / 15\n",
    "text_x = x_extent-(x_extent/1.5)\n",
    "ax.text(text_x, text_y, \"Dice={:0.2f}\".format(df[df.dz_type2 == \"MS\"].choroid_dice.mean()), size=16)\n",
    "\n",
    "\n",
    "ax = axes[0,1]\n",
    "ax.hist(df.loc[df[\"dz_type2\"] == \"MS\", \"pineal_difference\"])\n",
    "ax.set_title(\"MS pineal Auto - Man\")\n",
    "ax.plot([0, 0], ax.get_ylim())\n",
    "x_extent = max([abs(ext) for ext in ax.get_xlim()])\n",
    "ax.set_xlim([-x_extent, x_extent])\n",
    "text_y = ax.get_ylim()[1] - ax.get_ylim()[1] / 15\n",
    "text_x = x_extent-(x_extent/1.5)\n",
    "ax.text(text_x, text_y, \"Dice={:0.2f}\".format(df[df.dz_type2 == \"MS\"].pineal_dice.mean()), size=16)\n",
    "\n",
    "\n",
    "ax = axes[0,2]\n",
    "ax.hist(df.loc[df[\"dz_type2\"] == \"MS\", \"pituitary_difference\"])\n",
    "ax.set_title(\"MS pituitary Auto - Man\")\n",
    "ax.plot([0, 0], ax.get_ylim())\n",
    "x_extent = max([abs(ext) for ext in ax.get_xlim()])\n",
    "ax.set_xlim([-x_extent, x_extent])\n",
    "text_y = ax.get_ylim()[1] - ax.get_ylim()[1] / 15\n",
    "text_x = x_extent-(x_extent/1.5)\n",
    "ax.text(text_x, text_y, \"Dice={:0.2f}\".format(df[df.dz_type2 == \"MS\"].pituitary_dice.mean()), size=16)\n",
    "\n",
    "\n",
    "ax = axes[1,0]\n",
    "ax.hist(df.loc[df[\"dz_type2\"] == \"!MS\", \"choroid_difference\"])\n",
    "ax.set_title(\"!MS Choroid Auto - Man\")\n",
    "ax.plot([0, 0], ax.get_ylim())\n",
    "x_extent = max([abs(ext) for ext in ax.get_xlim()])\n",
    "ax.set_xlim([-x_extent, x_extent])\n",
    "text_y = ax.get_ylim()[1] - ax.get_ylim()[1] / 15\n",
    "text_x = x_extent-(x_extent/1.5)\n",
    "ax.text(text_x, text_y, \"Dice={:0.2f}\".format(df[df.dz_type2 == \"!MS\"].choroid_dice.mean()), size=16)\n",
    "\n",
    "\n",
    "ax = axes[1,1]\n",
    "#manually remove outlier\n",
    "ax.hist(df.loc[(df[\"dz_type2\"] == \"!MS\") & (df['pineal_difference'] > -400), \"pineal_difference\"])\n",
    "ax.set_title(\"!MS pineal Auto - Man\")\n",
    "ax.plot([0, 0], ax.get_ylim())\n",
    "x_extent = max([abs(ext) for ext in ax.get_xlim()])\n",
    "ax.set_xlim([-x_extent, x_extent])\n",
    "text_y = ax.get_ylim()[1] - ax.get_ylim()[1] / 15\n",
    "text_x = x_extent-(x_extent/1.5)\n",
    "ax.text(text_x, text_y, \"Dice={:0.2f}\".format(df[df.dz_type2 == \"!MS\"].pineal_dice.mean()), size=16)\n",
    "\n",
    "\n",
    "ax = axes[1,2]\n",
    "ax.hist(df.loc[df[\"dz_type2\"] == \"!MS\", \"pituitary_difference\"])\n",
    "ax.set_title(\"!MS pituitary Auto - Man\")\n",
    "ax.plot([0, 0], ax.get_ylim())\n",
    "x_extent = max([abs(ext) for ext in ax.get_xlim()])\n",
    "ax.set_xlim([-x_extent, x_extent])\n",
    "text_y = ax.get_ylim()[1] - ax.get_ylim()[1] / 15\n",
    "text_x = x_extent-(x_extent/1.5)\n",
    "ax.text(text_x, text_y, \"Dice={:0.2f}\".format(df[df.dz_type2 == \"!MS\"].pituitary_dice.mean()), size=16)"
   ]
  },
  {
   "cell_type": "markdown",
   "metadata": {},
   "source": [
    "## Stats"
   ]
  },
  {
   "cell_type": "code",
   "execution_count": 18,
   "metadata": {},
   "outputs": [
    {
     "data": {
      "image/png": "[encoded data removed]",
      "text/plain": [
       "<Figure size 800x500 with 1 Axes>"
      ]
     },
     "metadata": {},
     "output_type": "display_data"
    }
   ],
   "source": [
    "data = df.loc[df[\"dz_type2\"] == \"MS\", ['choroid_vol_man', 'choroid_vol_auto']].dropna()\n",
    "\n",
    "f, ax = plt.subplots(1, figsize = (8,5))\n",
    "mean_diff_plot(data['choroid_vol_auto'], data['choroid_vol_man'], ax=ax)\n",
    "plt.show()"
   ]
  },
  {
   "cell_type": "code",
   "execution_count": 23,
   "metadata": {},
   "outputs": [
    {
     "data": {
      "image/png": "[encoded data removed]",
      "text/plain": [
       "<Figure size 800x500 with 1 Axes>"
      ]
     },
     "metadata": {},
     "output_type": "display_data"
    },
    {
     "name": "stdout",
     "output_type": "stream",
     "text": [
      "Pearson correlation coefficient: 0.7361442503228081\n",
      "p-value: 0.0004956223129475522\n"
     ]
    }
   ],
   "source": [
    "data = df.loc[df[\"dz_type2\"] == \"MS\", ['choroid_vol_man', 'choroid_vol_auto']].dropna()\n",
    "f, ax = plt.subplots(1, figsize = (8,5))\n",
    "plt.scatter(data['choroid_vol_man'], data['choroid_vol_auto'])\n",
    "ax.set_xlim([1000,4000])\n",
    "ax.set_ylim([1000, 4000])\n",
    "plt.plot([1000, 4000], [1000, 4000])\n",
    "plt.show()\n",
    "\n",
    "corr_coef, p_value = stats.pearsonr(data['choroid_vol_man'], data['choroid_vol_auto'])\n",
    "print(\"Pearson correlation coefficient:\", corr_coef)\n",
    "print(\"p-value:\", p_value)"
   ]
  },
  {
   "cell_type": "markdown",
   "metadata": {},
   "source": [
    "### Regressions\n",
    "\n",
    "OLS"
   ]
  },
  {
   "cell_type": "code",
   "execution_count": 145,
   "metadata": {},
   "outputs": [
    {
     "name": "stdout",
     "output_type": "stream",
     "text": [
      "['age', 'sex_factor', 'tiv', 'dz_type2_factor'] \n",
      "\n",
      "                                 OLS Regression Results                                \n",
      "=======================================================================================\n",
      "Dep. Variable:                      y   R-squared (uncentered):                   0.953\n",
      "Model:                            OLS   Adj. R-squared (uncentered):              0.947\n",
      "Method:                 Least Squares   F-statistic:                              162.5\n",
      "Date:                Tue, 14 Jan 2025   Prob (F-statistic):                    8.96e-21\n",
      "Time:                        15:11:16   Log-Likelihood:                         -234.58\n",
      "No. Observations:                  36   AIC:                                      477.2\n",
      "Df Residuals:                      32   BIC:                                      483.5\n",
      "Df Model:                           4                                                  \n",
      "Covariance Type:            nonrobust                                                  \n",
      "==============================================================================\n",
      "                 coef    std err          t      P>|t|      [0.025      0.975]\n",
      "------------------------------------------------------------------------------\n",
      "x1            -3.5282      1.995     -1.768      0.087      -7.592       0.536\n",
      "x2          -218.2745     93.742     -2.328      0.026    -409.221     -27.328\n",
      "x3             0.0006   6.82e-05      9.230      0.000       0.000       0.001\n",
      "x4           -34.2762     57.137     -0.600      0.553    -150.659      82.107\n",
      "==============================================================================\n",
      "Omnibus:                        6.017   Durbin-Watson:                   1.387\n",
      "Prob(Omnibus):                  0.049   Jarque-Bera (JB):                4.536\n",
      "Skew:                           0.788   Prob(JB):                        0.104\n",
      "Kurtosis:                       3.734   Cond. No.                     4.87e+06\n",
      "==============================================================================\n",
      "\n",
      "Notes:\n",
      "[1] R² is computed without centering (uncentered) since the model does not contain a constant.\n",
      "[2] Standard Errors assume that the covariance matrix of the errors is correctly specified.\n",
      "[3] The condition number is large, 4.87e+06. This might indicate that there are\n",
      "strong multicollinearity or other numerical problems.\n"
     ]
    }
   ],
   "source": [
    "# MS = 0; !MS = 1\n",
    "outcome = \"pituitary_vol_man\"\n",
    "\n",
    "df_test = df[df['dz_type2'].isin(['MS', '!MS'])]\n",
    "\n",
    "df_test.loc[:, 'sex_factor'], _ = df_test['sex'].factorize()\n",
    "df_test.loc[:, 'dz_type2_factor'], _ = df_test['dz_type2'].factorize(sort=False)\n",
    "\n",
    "predictors = [\"age\", \"sex_factor\", \"tiv\", \"dz_type2_factor\"]\n",
    "\n",
    "x = np.asarray(df_test[predictors]).astype(np.float64)\n",
    "Y = np.asarray(df_test[outcome]).astype(np.float64)\n",
    "\n",
    "mod = sm.OLS(Y, x, missing='drop')\n",
    "\n",
    "res = mod.fit()\n",
    "\n",
    "print(predictors, \"\\n\")\n",
    "print(res.summary())"
   ]
  },
  {
   "cell_type": "code",
   "execution_count": 149,
   "metadata": {},
   "outputs": [
    {
     "name": "stdout",
     "output_type": "stream",
     "text": [
      "['age', 'Female', 'tiv', 'WITH', 'MS'] \n",
      "\n",
      "                                 OLS Regression Results                                \n",
      "=======================================================================================\n",
      "Dep. Variable:                 volume   R-squared (uncentered):                   0.969\n",
      "Model:                            OLS   Adj. R-squared (uncentered):              0.963\n",
      "Method:                 Least Squares   F-statistic:                              180.2\n",
      "Date:                Tue, 14 Jan 2025   Prob (F-statistic):                    6.55e-21\n",
      "Time:                        15:12:54   Log-Likelihood:                         -246.17\n",
      "No. Observations:                  34   AIC:                                      502.3\n",
      "Df Residuals:                      29   BIC:                                      510.0\n",
      "Df Model:                           5                                                  \n",
      "Covariance Type:            nonrobust                                                  \n",
      "==============================================================================\n",
      "                 coef    std err          t      P>|t|      [0.025      0.975]\n",
      "------------------------------------------------------------------------------\n",
      "x1            10.0985      4.242      2.381      0.024       1.423      18.774\n",
      "x2          -148.8515    175.484     -0.848      0.403    -507.757     210.054\n",
      "x3             0.0009      0.000      5.026      0.000       0.001       0.001\n",
      "x4           349.5147    140.585      2.486      0.019      61.986     637.043\n",
      "x5          -154.9853    133.531     -1.161      0.255    -428.087     118.116\n",
      "==============================================================================\n",
      "Omnibus:                        2.132   Durbin-Watson:                   2.363\n",
      "Prob(Omnibus):                  0.344   Jarque-Bera (JB):                1.271\n",
      "Skew:                           0.460   Prob(JB):                        0.530\n",
      "Kurtosis:                       3.224   Cond. No.                     4.50e+06\n",
      "==============================================================================\n",
      "\n",
      "Notes:\n",
      "[1] R² is computed without centering (uncentered) since the model does not contain a constant.\n",
      "[2] Standard Errors assume that the covariance matrix of the errors is correctly specified.\n",
      "[3] The condition number is large, 4.5e+06. This might indicate that there are\n",
      "strong multicollinearity or other numerical problems.\n"
     ]
    }
   ],
   "source": [
    "volume = 'choroid_vol_auto'\n",
    "data = df[['dz_type2', 'age', 'sex', 'tiv', 'flair_contrast', volume]]\n",
    "data = data.rename(columns={volume: 'volume'})\n",
    "data = data[data['dz_type2'].isin(['MS', '!MS'])]\n",
    "data = data[data['flair_contrast'].isin(['WITH', 'WITHOUT'])]\n",
    "\n",
    "data = pd.concat((\n",
    "    data,\n",
    "    pd.get_dummies(data['dz_type2']),\n",
    "    pd.get_dummies(data['flair_contrast']),\n",
    "    pd.get_dummies(data['sex'])), axis=1)\n",
    "\n",
    "predictors = [\"age\", \"Female\", \"tiv\", 'WITH', \"MS\"]\n",
    "\n",
    "y = data['volume']\n",
    "x = data[predictors]\n",
    "print(x.columns.tolist(), \"\\n\")\n",
    "\n",
    "x = np.asarray(x, dtype='float64')\n",
    "res = sm.OLS(y, x, missing='drop').fit()\n",
    "print(res.summary())\n"
   ]
  },
  {
   "cell_type": "markdown",
   "metadata": {},
   "source": [
    "Logistic"
   ]
  },
  {
   "cell_type": "code",
   "execution_count": 37,
   "metadata": {},
   "outputs": [
    {
     "data": {
      "text/plain": [
       "subject_id\n",
       "1010    0\n",
       "1011    0\n",
       "1019    0\n",
       "1029    1\n",
       "1033    0\n",
       "1037    0\n",
       "1038    0\n",
       "1080    0\n",
       "1085    0\n",
       "1087    0\n",
       "1089    0\n",
       "1109    0\n",
       "1119    0\n",
       "1152    0\n",
       "1163    1\n",
       "1188    0\n",
       "1191    1\n",
       "1234    0\n",
       "1259    0\n",
       "1265    0\n",
       "1272    0\n",
       "1280    1\n",
       "1293    0\n",
       "1321    1\n",
       "1355    1\n",
       "1437    1\n",
       "1498    1\n",
       "1518    1\n",
       "1540    1\n",
       "1547    1\n",
       "1548    1\n",
       "2081    1\n",
       "2083    1\n",
       "2097    1\n",
       "2126    1\n",
       "2132    1\n",
       "2144    1\n",
       "2146    1\n",
       "2164    1\n",
       "2187    1\n",
       "Name: dz_type2_factor, dtype: int64"
      ]
     },
     "execution_count": 37,
     "metadata": {},
     "output_type": "execute_result"
    }
   ],
   "source": [
    "df_test['dz_type2_factor']"
   ]
  },
  {
   "cell_type": "markdown",
   "metadata": {},
   "source": [
    "### Inspect Segmentations"
   ]
  },
  {
   "cell_type": "code",
   "execution_count": 115,
   "metadata": {},
   "outputs": [],
   "source": [
    "df.index.name = \"subject_id\"\n",
    "df = df.sort_values(by=[\"dz_type2\", \"subject_id\"])"
   ]
  },
  {
   "cell_type": "code",
   "execution_count": 116,
   "metadata": {},
   "outputs": [],
   "source": [
    "df = df.sort_values(by=[\"choroid_difference\"])"
   ]
  },
  {
   "cell_type": "code",
   "execution_count": 118,
   "metadata": {},
   "outputs": [],
   "source": [
    "for i, row in df.iterrows():\n",
    "    images = [\n",
    "        Path(row[\"scan_folder\"]) / \"flair.nii.gz\",\n",
    "        Path(row[\"scan_folder\"]) / \"t1.nii.gz\",\n",
    "    ]\n",
    "    labels = [row[\"auto_label\"], row[\"manual_label\"]]\n",
    "    cmd = utils.open_itksnap_workspace_cmd(images, labels)\n",
    "    df.loc[i, \"itksnap_cmd\"] = cmd"
   ]
  },
  {
   "cell_type": "code",
   "execution_count": 136,
   "metadata": {},
   "outputs": [
    {
     "data": {
      "text/plain": [
       "<Popen: returncode: None args: ['itksnap', '-g', '/media/smbshare/3Tpioneer_...>"
      ]
     },
     "execution_count": 136,
     "metadata": {},
     "output_type": "execute_result"
    },
    {
     "name": "stdout",
     "output_type": "stream",
     "text": [
      "Launching ITK-SNAP\n"
     ]
    }
   ],
   "source": [
    "import pyperclip\n",
    "import subprocess\n",
    "\n",
    "pyperclip.copy(df.loc[1010, \"itksnap_cmd\"])\n",
    "subprocess.Popen(df.loc[1010, \"itksnap_cmd\"].split(\" \"))\n"
   ]
  },
  {
   "cell_type": "code",
   "execution_count": 86,
   "metadata": {},
   "outputs": [
    {
     "name": "stdout",
     "output_type": "stream",
     "text": [
      "itksnap -g H:/3Tpioneer_bids/sub-ms1010/ses-20180208/flair.nii.gz -o H:/3Tpioneer_bids/sub-ms1010/ses-20180208/t1.nii.gz -s H:/training_work_dirs/choroid_pineal_pituitary3/ensemble_output/sub-ms1010/ses-20180208/flair.t1_ensemble.nii.gz H:/3Tpioneer_bids/sub-ms1010/ses-20180208/choroid_t1_flair-CH.pineal-CH.pituitary-CH.nii.gz\n"
     ]
    }
   ],
   "source": [
    "print(df.loc[1010, \"itksnap_cmd\"])"
   ]
  },
  {
   "cell_type": "code",
   "execution_count": 25,
   "metadata": {},
   "outputs": [],
   "source": [
    "lines = [\"# Notes\", \"\\n\\n\"]\n",
    "dz_type = \"\"\n",
    "for i, row in df.iterrows():\n",
    "    if row[\"dz_type2\"] != dz_type:\n",
    "        lines.extend([f\"## {row['dz_type2']}\", \"\\n\\n\"])\n",
    "        dz_type = row[\"dz_type2\"]\n",
    "    lines.extend([f\"### {i}\", \"\\n\\n\"])"
   ]
  },
  {
   "cell_type": "code",
   "execution_count": 26,
   "metadata": {},
   "outputs": [],
   "source": [
    "import os\n",
    "\n",
    "if not os.path.exists(\"seg_notes.md\"):\n",
    "    with open(\"seg_notes.md\", \"w\") as f:\n",
    "        f.writelines(lines)"
   ]
  }
 ],
 "metadata": {
  "kernelspec": {
   "display_name": "monai",
   "language": "python",
   "name": "python3"
  },
  "language_info": {
   "codemirror_mode": {
    "name": "ipython",
    "version": 3
   },
   "file_extension": ".py",
   "mimetype": "text/x-python",
   "name": "python",
   "nbconvert_exporter": "python",
   "pygments_lexer": "ipython3",
   "version": "3.12.4"
  }
 },
 "nbformat": 4,
 "nbformat_minor": 2
}
