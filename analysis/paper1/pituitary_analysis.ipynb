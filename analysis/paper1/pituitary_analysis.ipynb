{
 "cells": [
  {
   "cell_type": "code",
   "execution_count": 1,
   "metadata": {},
   "outputs": [],
   "source": [
    "import matplotlib.pyplot as plt\n",
    "import pandas as pd\n",
    "from pathlib import Path\n",
    "import numpy as np\n",
    "import re\n",
    "import seaborn as sns\n",
    "import statsmodels.api as sm\n",
    "from statsmodels.formula.api import ols\n",
    "from scipy.stats import mannwhitneyu\n",
    "from scipy import stats\n",
    "import matplotlib.ticker as ticker\n",
    "import os\n",
    "from reload_recursive import reload_recursive\n",
    "import patsy\n",
    "from pyprocessmacro import Process\n",
    "from statsmodels.stats.mediation import Mediation\n",
    "from statsmodels.miscmodels.ordinal_model import OrderedModel\n",
    "from pingouin import mediation_analysis\n",
    "from statsmodels.stats.outliers_influence import variance_inflation_factor\n",
    "\n",
    "\n",
    "from mri_data import file_manager as fm\n",
    "import helpers"
   ]
  },
  {
   "cell_type": "code",
   "execution_count": 2,
   "metadata": {},
   "outputs": [],
   "source": [
    "reload_recursive(helpers)"
   ]
  },
  {
   "cell_type": "markdown",
   "metadata": {},
   "source": [
    "## Setup"
   ]
  },
  {
   "cell_type": "code",
   "execution_count": 3,
   "metadata": {},
   "outputs": [],
   "source": [
    "drive_root = fm.get_drive_root()\n",
    "msmri_home = Path(\"/home/srs-9/Projects/ms_mri\")\n",
    "msmri_datadir = msmri_home / \"data\"\n",
    "curr_dir = Path(os.getcwd())\n",
    "data_dir = curr_dir / \"data0\"\n",
    "showfigs = False"
   ]
  },
  {
   "cell_type": "code",
   "execution_count": 4,
   "metadata": {},
   "outputs": [],
   "source": [
    "df_full = pd.read_csv(data_dir / \"t1_data_full.csv\")\n",
    "df_full = df_full.set_index(\"subid\")\n",
    "\n",
    "df_full = helpers.set_dz_type5(df_full)\n",
    "df_full = helpers.set_dz_type3(df_full)\n",
    "df_full = helpers.set_dz_type2(df_full)\n",
    "df = helpers.fix_edss(df_full)\n",
    "df = helpers.clean_df(df)\n",
    "\n",
    "keep_cols = [\n",
    "    \"subject\",\n",
    "    \"age\",\n",
    "    \"sex\",\n",
    "    \"ms_type\",\n",
    "    \"dz_type2\",\n",
    "    \"dz_type3\",\n",
    "    \"dz_type5\",\n",
    "    \"dzdur\",\n",
    "    \"EDSS\",\n",
    "    \"MSSS\",\n",
    "    \"gMSSS\",\n",
    "    \"ARMSS\",\n",
    "    \"DMT_score\",\n",
    "    \"DMT_hx_all\",\n",
    "    \"flair_contrast\",\n",
    "    \"lesion_count\",\n",
    "    \"lesion_vol_cubic\",\n",
    "    \"PRL\",\n",
    "    \"tiv\",\n",
    "    \"choroid_volume\",\n",
    "    \"pineal_volume\",\n",
    "    \"pituitary_volume\",\n",
    "]\n",
    "\n",
    "df = df.loc[:, keep_cols]\n",
    "df = pd.concat((df, pd.get_dummies(df[\"sex\"])), axis=1)"
   ]
  },
  {
   "cell_type": "code",
   "execution_count": 5,
   "metadata": {},
   "outputs": [],
   "source": [
    "df.loc[:, \"lesion_vol_logtrans\"] = np.log(df[\"lesion_vol_cubic\"])\n",
    "df.loc[:, \"edss_sqrt\"] = np.sqrt(df[\"EDSS\"].astype(\"float\"))\n",
    "df.loc[:, \"msss_sqrt\"] = np.sqrt(df[\"MSSS\"])\n",
    "df.loc[:, \"armss_sqrt\"] = np.sqrt(df[\"ARMSS\"])\n",
    "df.loc[:, \"gmsss_sqrt\"] = np.sqrt(df[\"gMSSS\"])"
   ]
  },
  {
   "cell_type": "code",
   "execution_count": 6,
   "metadata": {},
   "outputs": [],
   "source": [
    "vars = [\n",
    "    \"age\",\n",
    "    \"Female\",\n",
    "    \"dzdur\",\n",
    "    \"EDSS\",\n",
    "    \"MSSS\",\n",
    "    \"gMSSS\",\n",
    "    \"ARMSS\",\n",
    "    \"edss_sqrt\",\n",
    "    \"msss_sqrt\",\n",
    "    \"armss_sqrt\",\n",
    "    \"gmsss_sqrt\",\n",
    "    \"DMT_score\",\n",
    "    \"DMT_hx_all\",\n",
    "    \"lesion_count\",\n",
    "    \"lesion_vol_cubic\",\n",
    "    \"lesion_vol_logtrans\",\n",
    "    \"PRL\",\n",
    "    \"tiv\",\n",
    "    \"choroid_volume\",\n",
    "    \"pineal_volume\",\n",
    "    \"pituitary_volume\"\n",
    "]\n",
    "\n",
    "for var in vars:\n",
    "    df[var] = pd.to_numeric(df[var])"
   ]
  },
  {
   "cell_type": "code",
   "execution_count": 7,
   "metadata": {},
   "outputs": [],
   "source": [
    "vars_to_center = [\n",
    "    \"edss_sqrt\",\n",
    "    \"lesion_vol_logtrans\",\n",
    "    \"lesion_vol_cubic\",\n",
    "    \"dzdur\",\n",
    "    \"choroid_volume\",\n",
    "    \"pituitary_volume\",\n",
    "]\n",
    "\n",
    "for var in vars_to_center:\n",
    "    df[f\"{var}_cent\"] = df[var] - df[var].mean()\n",
    "\n",
    "centered_vars = [f\"{var}_cent\" for var in vars_to_center]\n",
    "vars.extend(centered_vars)"
   ]
  },
  {
   "cell_type": "code",
   "execution_count": 8,
   "metadata": {},
   "outputs": [],
   "source": [
    "df_z = df[vars].astype(\"float\")\n",
    "df_z[df.columns[~df.columns.isin(vars)]] = df[df.columns[~df.columns.isin(vars)]]\n",
    "df_z = df_z[df.columns]\n",
    "df_z[vars] = df_z[vars].apply(stats.zscore, nan_policy=\"omit\")\n",
    "\n",
    "data = df[vars].astype(\"float\")\n",
    "data_z = data[vars].apply(stats.zscore, nan_policy=\"omit\")\n",
    "\n",
    "data_ms = df.loc[df[\"dz_type5\"].isin([\"RMS\", \"PMS\"]), :]\n",
    "data_ms = data_ms[vars].astype(\"float\")\n",
    "data_ms_z = data_ms[vars].apply(stats.zscore, nan_policy=\"omit\")"
   ]
  },
  {
   "cell_type": "code",
   "execution_count": 9,
   "metadata": {},
   "outputs": [],
   "source": [
    "rad_df = pd.read_csv(\"/home/srs-9/Projects/ms_mri/radiomics/pituitary-t1-radiomics.csv\")\n",
    "rad_df = rad_df.set_index(\"subid\")\n",
    "rad_df_z = rad_df.apply(stats.zscore)"
   ]
  },
  {
   "cell_type": "code",
   "execution_count": 10,
   "metadata": {},
   "outputs": [],
   "source": [
    "all_rad_features = [\n",
    "    \"original_shape_Elongation\",\n",
    "    \"original_shape_Flatness\",\n",
    "    \"original_shape_LeastAxisLength\",\n",
    "    \"original_shape_MajorAxisLength\",\n",
    "    \"original_shape_Maximum2DDiameterColumn\",\n",
    "    \"original_shape_Maximum2DDiameterRow\",\n",
    "    \"original_shape_Maximum2DDiameterSlice\",\n",
    "    \"original_shape_Maximum3DDiameter\",\n",
    "    \"original_shape_MeshVolume\",\n",
    "    \"original_shape_MinorAxisLength\",\n",
    "    \"original_shape_Sphericity\",\n",
    "    \"original_shape_SurfaceArea\",\n",
    "    \"original_shape_SurfaceVolumeRatio\",\n",
    "    \"original_shape_VoxelVolume\"\n",
    "]\n",
    "\n",
    "longest_feat_name_len = max([len(feat) for feat in all_rad_features])\n",
    "n_feat_spaces = {}\n",
    "for feat in all_rad_features:\n",
    "    n_feat_spaces[feat] = longest_feat_name_len - len(feat)"
   ]
  },
  {
   "cell_type": "code",
   "execution_count": 11,
   "metadata": {},
   "outputs": [],
   "source": [
    "def check_vif(data, vif_vars):\n",
    "    vif_data = rad_df[vif_vars].dropna()\n",
    "    vif = pd.DataFrame()\n",
    "    vif[\"feature\"] = vif_data.columns\n",
    "    vif = vif.set_index(\"feature\")\n",
    "    vif['VIF'] = [variance_inflation_factor(vif_data.values, i, )\n",
    "                            for i in range(len(vif_data.columns))]\n",
    "    return vif"
   ]
  },
  {
   "cell_type": "markdown",
   "metadata": {},
   "source": [
    "### Regression on Lesion Volume"
   ]
  },
  {
   "cell_type": "code",
   "execution_count": 38,
   "metadata": {},
   "outputs": [
    {
     "name": "stdout",
     "output_type": "stream",
     "text": [
      "                                 VIF\n",
      "feature                             \n",
      "original_shape_Elongation   13.12332\n",
      "original_shape_VoxelVolume  13.12332\n"
     ]
    }
   ],
   "source": [
    "rad_features = [\"original_shape_Elongation\",\n",
    "               \"original_shape_VoxelVolume\"]\n",
    "\n",
    "vif = check_vif(rad_df, rad_features)\n",
    "print(vif)"
   ]
  },
  {
   "cell_type": "code",
   "execution_count": 30,
   "metadata": {},
   "outputs": [],
   "source": [
    "def regress_iter(model, data, outcome, features, covars=None, **kwargs):\n",
    "    if covars is None:\n",
    "        covars = []\n",
    "    p_vals = []\n",
    "    for feature in features:    \n",
    "       predictors = covars + [feature]\n",
    "       res = model(data[outcome], data[predictors], **kwargs).fit(disp=False)\n",
    "       p_vals.append(res.pvalues[feature])\n",
    "    \n",
    "    return p_vals, features"
   ]
  },
  {
   "cell_type": "code",
   "execution_count": 31,
   "metadata": {},
   "outputs": [
    {
     "name": "stdout",
     "output_type": "stream",
     "text": [
      "original_shape_Elongation: 0.067\n",
      "original_shape_Flatness: 0.42\n",
      "original_shape_LeastAxisLength: 0.24\n",
      "original_shape_MajorAxisLength: 0.34\n",
      "original_shape_Maximum2DDiameterColumn: 0.098\n",
      "original_shape_Maximum2DDiameterRow: 0.046\n",
      "original_shape_Maximum2DDiameterSlice: 0.17\n",
      "original_shape_Maximum3DDiameter: 0.51\n",
      "original_shape_MeshVolume: 0.29\n",
      "original_shape_MinorAxisLength: 0.012\n",
      "original_shape_Sphericity: 0.5\n",
      "original_shape_SurfaceArea: 0.047\n",
      "original_shape_SurfaceVolumeRatio: 0.022\n",
      "original_shape_VoxelVolume: 0.28\n"
     ]
    }
   ],
   "source": [
    "model_data = pd.concat([data, rad_df], axis=1)\n",
    "\n",
    "p_vals, _ = regress_iter(sm.OLS, model_data, \"lesion_vol_logtrans\", all_rad_features, covars=[\"age\", \"Female\"],\n",
    "                         hasconst=True, missing=\"drop\")\n",
    "\n",
    "for feature, p in zip(all_rad_features, p_vals):\n",
    "    print(\"{}: {:0.2}\".format(feature, p))"
   ]
  },
  {
   "cell_type": "code",
   "execution_count": 32,
   "metadata": {},
   "outputs": [
    {
     "name": "stdout",
     "output_type": "stream",
     "text": [
      "original_shape_Elongation: 0.19\n",
      "original_shape_Flatness: 0.49\n",
      "original_shape_LeastAxisLength: 0.4\n",
      "original_shape_MajorAxisLength: 0.43\n",
      "original_shape_Maximum2DDiameterColumn: 0.23\n",
      "original_shape_Maximum2DDiameterRow: 0.16\n",
      "original_shape_Maximum2DDiameterSlice: 0.35\n",
      "original_shape_Maximum3DDiameter: 0.51\n",
      "original_shape_MeshVolume: 0.4\n",
      "original_shape_MinorAxisLength: 0.15\n",
      "original_shape_Sphericity: 0.51\n",
      "original_shape_SurfaceArea: 0.16\n",
      "original_shape_SurfaceVolumeRatio: 0.15\n",
      "original_shape_VoxelVolume: 0.4\n"
     ]
    }
   ],
   "source": [
    "corrected_p_values = stats.false_discovery_control(p_vals)\n",
    "for feature, p in zip(all_rad_features, corrected_p_values):\n",
    "    print(\"{}: {:0.2}\".format(feature, p))"
   ]
  },
  {
   "cell_type": "code",
   "execution_count": 33,
   "metadata": {},
   "outputs": [],
   "source": [
    "model_data = pd.concat([data, rad_df], axis=1)\n",
    "model_data = model_data.loc[df_full['dz_type5'].isin(['RMS', 'PMS'])]"
   ]
  },
  {
   "cell_type": "code",
   "execution_count": 35,
   "metadata": {},
   "outputs": [
    {
     "name": "stdout",
     "output_type": "stream",
     "text": [
      "Optimization terminated successfully.\n",
      "         Current function value: 0.460132\n",
      "         Iterations 6\n",
      "                           Logit Regression Results                           \n",
      "==============================================================================\n",
      "Dep. Variable:                     MS   No. Observations:                  413\n",
      "Model:                          Logit   Df Residuals:                      410\n",
      "Method:                           MLE   Df Model:                            2\n",
      "Date:                Fri, 28 Feb 2025   Pseudo R-squ.:                -0.02869\n",
      "Time:                        11:55:18   Log-Likelihood:                -190.03\n",
      "converged:                       True   LL-Null:                       -184.73\n",
      "Covariance Type:            nonrobust   LLR p-value:                     1.000\n",
      "==================================================================================================\n",
      "                                     coef    std err          z      P>|z|      [0.025      0.975]\n",
      "--------------------------------------------------------------------------------------------------\n",
      "age                                0.0158      0.009      1.746      0.081      -0.002       0.034\n",
      "Female                             0.1755      0.298      0.589      0.556      -0.409       0.760\n",
      "original_shape_MinorAxisLength     0.0579      0.042      1.385      0.166      -0.024       0.140\n",
      "==================================================================================================\n"
     ]
    }
   ],
   "source": [
    "model_data = pd.concat([df, rad_df], axis=1)\n",
    "model_data = model_data.loc[df_full['dz_type2'].isin(['MS', '!MS'])]\n",
    "model_data = pd.concat(\n",
    "    (model_data, pd.get_dummies(model_data['dz_type2'])), axis=1\n",
    ")\n",
    "model_data['MS'] = model_data['MS'].astype(\"int64\")\n",
    "\n",
    "rad_features = [\n",
    "                \"original_shape_MinorAxisLength\"]\n",
    "predictors = [\"age\", \"Female\"] + rad_features\n",
    "outcome = [\"MS\"]\n",
    "\n",
    "logit_mod = sm.Logit(model_data[outcome].astype(\"float\"), model_data[predictors].astype(\"float\"), missing=\"drop\")\n",
    "res = logit_mod.fit()\n",
    "print(res.summary())"
   ]
  },
  {
   "cell_type": "markdown",
   "metadata": {},
   "source": [
    "**Why is TIV significant here, but not in data_analysis.ipynb?**"
   ]
  },
  {
   "cell_type": "code",
   "execution_count": 37,
   "metadata": {},
   "outputs": [
    {
     "name": "stdout",
     "output_type": "stream",
     "text": [
      "Optimization terminated successfully.\n",
      "         Current function value: 0.383741\n",
      "         Iterations 7\n",
      "                           Logit Regression Results                           \n",
      "==============================================================================\n",
      "Dep. Variable:                    PMS   No. Observations:                  345\n",
      "Model:                          Logit   Df Residuals:                      341\n",
      "Method:                           MLE   Df Model:                            3\n",
      "Date:                Fri, 28 Feb 2025   Pseudo R-squ.:                  0.2451\n",
      "Time:                        11:55:40   Log-Likelihood:                -132.39\n",
      "converged:                       True   LL-Null:                       -175.38\n",
      "Covariance Type:            nonrobust   LLR p-value:                 1.607e-18\n",
      "==================================================================================================\n",
      "                                     coef    std err          z      P>|z|      [0.025      0.975]\n",
      "--------------------------------------------------------------------------------------------------\n",
      "age                                0.1080      0.016      6.809      0.000       0.077       0.139\n",
      "Female                            -1.0992      0.330     -3.331      0.001      -1.746      -0.452\n",
      "original_shape_MinorAxisLength    -0.1832      0.114     -1.610      0.107      -0.406       0.040\n",
      "Intercept                         -4.0694      1.539     -2.645      0.008      -7.085      -1.054\n",
      "==================================================================================================\n"
     ]
    }
   ],
   "source": [
    "model_data = pd.concat([data, rad_df], axis=1)\n",
    "# model_data = df_z.loc[df_z['dz_type5'].isin(['RMS', 'PMS'])]\n",
    "model_data = model_data.loc[df_full['dz_type5'].isin([\"PMS\", \"RMS\"])]\n",
    "model_data = pd.concat(\n",
    "    (model_data, pd.get_dummies(df_full.loc[model_data.index, 'dz_type5'])), axis=1\n",
    ")\n",
    "# model_data_ind = set(model_data.index)\n",
    "# rad_df_ind = set(rad_df.index)\n",
    "\n",
    "\n",
    "rad_features = [\"original_shape_MinorAxisLength\"]\n",
    "predictors = [\"age\", \"Female\", \"original_shape_MinorAxisLength\", \"Intercept\"]\n",
    "outcome = [\"PMS\"]\n",
    "model_data['PMS'] = model_data['PMS'].astype(\"int64\")\n",
    "model_data['Intercept'] = 1\n",
    "\n",
    "logit_mod = sm.Logit(model_data[outcome], model_data[predictors], missing=\"drop\")\n",
    "# logit_mod = sm.Logit.from_formula(\"PMS ~ original_shape_MinorAxisLength + age + tiv + Female\", data=model_data)\n",
    "res = logit_mod.fit()\n",
    "print(res.summary())"
   ]
  },
  {
   "cell_type": "code",
   "execution_count": 26,
   "metadata": {},
   "outputs": [
    {
     "name": "stdout",
     "output_type": "stream",
     "text": [
      "0\n",
      "Optimization terminated successfully.\n",
      "         Current function value: 0.923601\n",
      "         Iterations: 470\n",
      "         Function evaluations: 735\n",
      "                             OrderedModel Results                             \n",
      "==============================================================================\n",
      "Dep. Variable:              phenotype   Log-Likelihood:                -447.95\n",
      "Model:                   OrderedModel   AIC:                             907.9\n",
      "Method:            Maximum Likelihood   BIC:                             933.0\n",
      "Date:                Fri, 28 Feb 2025                                         \n",
      "Time:                        11:41:03                                         \n",
      "No. Observations:                 485                                         \n",
      "Df Residuals:                     479                                         \n",
      "Df Model:                           3                                         \n",
      "====================================================================================\n",
      "                       coef    std err          z      P>|z|      [0.025      0.975]\n",
      "------------------------------------------------------------------------------------\n",
      "age                  0.0338      0.008      4.244      0.000       0.018       0.049\n",
      "Female              -0.6997      0.239     -2.928      0.003      -1.168      -0.231\n",
      "pituitary_volume    -0.0006      0.001     -0.729      0.466      -0.002       0.001\n",
      "1.0/2.0             -1.7832      0.708     -2.518      0.012      -3.171      -0.395\n",
      "2.0/3.0             -0.5215      0.180     -2.897      0.004      -0.874      -0.169\n",
      "3.0/4.0              1.2471      0.050     25.113      0.000       1.150       1.344\n",
      "====================================================================================\n"
     ]
    }
   ],
   "source": [
    "model_data = pd.concat([df, rad_df], axis=1)\n",
    "model_data = model_data.loc[model_data['dz_type5'].isin([\"PMS\", \"RMS\", \"NIND\", \"OIND\"])]\n",
    "model_data = pd.concat(\n",
    "    (model_data, pd.get_dummies(model_data['dz_type5'])), axis=1\n",
    ")\n",
    "\n",
    "model_data['phenotype'] = 0\n",
    "model_data.loc[model_data['dz_type5'] == \"NIND\", 'phenotype'] = 1\n",
    "model_data.loc[model_data['dz_type5'] == \"OIND\", 'phenotype'] = 2\n",
    "model_data.loc[model_data['dz_type5'] == \"RMS\", 'phenotype'] = 3\n",
    "model_data.loc[model_data['dz_type5'] == \"PMS\", 'phenotype'] = 4\n",
    "\n",
    "print(sum(model_data['phenotype'] == 0))\n",
    "\n",
    "rad_features = [\"original_shape_MinorAxisLength\"]\n",
    "\n",
    "predictors = [\"age\", \"Female\", \"pituitary_volume\"]\n",
    "outcome = [\"phenotype\"]\n",
    "\n",
    "mod_prob = OrderedModel(model_data[outcome].astype(\"float\"), model_data[predictors].astype(\"float\"), distr='logit', missing=\"drop\")\n",
    "res = mod_prob.fit()\n",
    "print(res.summary())"
   ]
  },
  {
   "cell_type": "markdown",
   "metadata": {},
   "source": [
    "### Clinical Disability"
   ]
  },
  {
   "cell_type": "code",
   "execution_count": 28,
   "metadata": {},
   "outputs": [
    {
     "name": "stdout",
     "output_type": "stream",
     "text": [
      "                            OLS Regression Results                            \n",
      "==============================================================================\n",
      "Dep. Variable:              edss_sqrt   R-squared:                       0.205\n",
      "Model:                            OLS   Adj. R-squared:                  0.198\n",
      "Method:                 Least Squares   F-statistic:                     28.33\n",
      "Date:                Fri, 28 Feb 2025   Prob (F-statistic):           2.51e-16\n",
      "Time:                        11:53:59   Log-Likelihood:                -238.38\n",
      "No. Observations:                 334   AIC:                             484.8\n",
      "Df Residuals:                     330   BIC:                             500.0\n",
      "Df Model:                           3                                         \n",
      "Covariance Type:            nonrobust                                         \n",
      "=============================================================================================\n",
      "                                coef    std err          t      P>|t|      [0.025      0.975]\n",
      "---------------------------------------------------------------------------------------------\n",
      "age                           0.0190      0.002      8.758      0.000       0.015       0.023\n",
      "Female                       -0.0627      0.068     -0.923      0.357      -0.196       0.071\n",
      "original_shape_Elongation    -0.1650      0.172     -0.959      0.338      -0.504       0.173\n",
      "Intercept                     0.8221      0.172      4.788      0.000       0.484       1.160\n",
      "==============================================================================\n",
      "Omnibus:                        8.766   Durbin-Watson:                   1.943\n",
      "Prob(Omnibus):                  0.012   Jarque-Bera (JB):                8.823\n",
      "Skew:                           0.395   Prob(JB):                       0.0121\n",
      "Kurtosis:                       3.093   Cond. No.                         405.\n",
      "==============================================================================\n",
      "\n",
      "Notes:\n",
      "[1] Standard Errors assume that the covariance matrix of the errors is correctly specified.\n"
     ]
    }
   ],
   "source": [
    "model_data = pd.concat([data, rad_df], axis=1)\n",
    "model_data = model_data.loc[df_full['dz_type5'].isin([\"PMS\", \"RMS\"])]\n",
    "model_data['Intercept'] = 1\n",
    "\n",
    "rad_features = [\n",
    "                \"original_shape_MinorAxisLength\"]\n",
    "predictors = [\"age\", \"Female\", \"original_shape_Elongation\", \"Intercept\"]\n",
    "outcome = \"edss_sqrt\"\n",
    "\n",
    "model = sm.OLS(model_data[outcome], model_data[predictors], missing=\"drop\", hasconst=True)\n",
    "res = model.fit()\n",
    "print(res.summary())"
   ]
  }
 ],
 "metadata": {
  "kernelspec": {
   "display_name": "monai",
   "language": "python",
   "name": "python3"
  },
  "language_info": {
   "codemirror_mode": {
    "name": "ipython",
    "version": 3
   },
   "file_extension": ".py",
   "mimetype": "text/x-python",
   "name": "python",
   "nbconvert_exporter": "python",
   "pygments_lexer": "ipython3",
   "version": "3.12.4"
  }
 },
 "nbformat": 4,
 "nbformat_minor": 2
}
