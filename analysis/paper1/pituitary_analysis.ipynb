{
 "cells": [
  {
   "cell_type": "code",
   "execution_count": 95,
   "metadata": {},
   "outputs": [],
   "source": [
    "import matplotlib.pyplot as plt\n",
    "import pandas as pd\n",
    "from pathlib import Path\n",
    "import numpy as np\n",
    "import re\n",
    "import seaborn as sns\n",
    "import statsmodels.api as sm\n",
    "from statsmodels.formula.api import ols\n",
    "from scipy.stats import mannwhitneyu\n",
    "from scipy import stats\n",
    "import matplotlib.ticker as ticker\n",
    "import os\n",
    "from reload_recursive import reload_recursive\n",
    "import patsy\n",
    "from pyprocessmacro import Process\n",
    "from statsmodels.stats.mediation import Mediation\n",
    "from statsmodels.miscmodels.ordinal_model import OrderedModel\n",
    "from pingouin import mediation_analysis\n",
    "from statsmodels.stats.outliers_influence import variance_inflation_factor\n",
    "\n",
    "\n",
    "from mri_data import file_manager as fm\n",
    "import helpers"
   ]
  },
  {
   "cell_type": "code",
   "execution_count": 96,
   "metadata": {},
   "outputs": [],
   "source": [
    "reload_recursive(helpers)"
   ]
  },
  {
   "cell_type": "markdown",
   "metadata": {},
   "source": [
    "## Setup"
   ]
  },
  {
   "cell_type": "code",
   "execution_count": 97,
   "metadata": {},
   "outputs": [],
   "source": [
    "drive_root = fm.get_drive_root()\n",
    "msmri_home = Path(\"/home/srs-9/Projects/ms_mri\")\n",
    "msmri_datadir = msmri_home / \"data\"\n",
    "curr_dir = Path(os.getcwd())\n",
    "data_dir = curr_dir / \"data0\"\n",
    "showfigs = False"
   ]
  },
  {
   "cell_type": "code",
   "execution_count": 98,
   "metadata": {},
   "outputs": [],
   "source": [
    "df_full = pd.read_csv(data_dir / \"t1_data_full.csv\")\n",
    "df_full = df_full.set_index(\"subid\")\n",
    "\n",
    "df_full = helpers.set_dz_type5(df_full)\n",
    "df_full = helpers.set_dz_type3(df_full)\n",
    "df_full = helpers.set_dz_type2(df_full)\n",
    "df = helpers.fix_edss(df_full)\n",
    "df = helpers.clean_df(df)\n",
    "\n",
    "keep_cols = [\n",
    "    \"subject\",\n",
    "    \"age\",\n",
    "    \"sex\",\n",
    "    \"ms_type\",\n",
    "    \"dz_type2\",\n",
    "    \"dz_type3\",\n",
    "    \"dz_type5\",\n",
    "    \"dzdur\",\n",
    "    \"EDSS\",\n",
    "    \"MSSS\",\n",
    "    \"gMSSS\",\n",
    "    \"ARMSS\",\n",
    "    \"DMT_score\",\n",
    "    \"DMT_hx_all\",\n",
    "    \"flair_contrast\",\n",
    "    \"lesion_count\",\n",
    "    \"lesion_vol_cubic\",\n",
    "    \"PRL\",\n",
    "    \"tiv\",\n",
    "    \"choroid_volume\",\n",
    "    \"pineal_volume\",\n",
    "    \"pituitary_volume\",\n",
    "]\n",
    "\n",
    "df = df.loc[:, keep_cols]\n",
    "df = pd.concat((df, pd.get_dummies(df[\"sex\"])), axis=1)"
   ]
  },
  {
   "cell_type": "code",
   "execution_count": 99,
   "metadata": {},
   "outputs": [],
   "source": [
    "df.loc[:, \"lesion_vol_logtrans\"] = np.log(df[\"lesion_vol_cubic\"])\n",
    "df.loc[:, \"edss_sqrt\"] = np.sqrt(df[\"EDSS\"].astype(\"float\"))\n",
    "df.loc[:, \"msss_sqrt\"] = np.sqrt(df[\"MSSS\"])\n",
    "df.loc[:, \"armss_sqrt\"] = np.sqrt(df[\"ARMSS\"])\n",
    "df.loc[:, \"gmsss_sqrt\"] = np.sqrt(df[\"gMSSS\"])"
   ]
  },
  {
   "cell_type": "code",
   "execution_count": 121,
   "metadata": {},
   "outputs": [],
   "source": [
    "vars = [\n",
    "    \"age\",\n",
    "    \"Female\",\n",
    "    \"dzdur\",\n",
    "    \"EDSS\",\n",
    "    \"MSSS\",\n",
    "    \"gMSSS\",\n",
    "    \"ARMSS\",\n",
    "    \"edss_sqrt\",\n",
    "    \"msss_sqrt\",\n",
    "    \"armss_sqrt\",\n",
    "    \"gmsss_sqrt\",\n",
    "    \"DMT_score\",\n",
    "    \"DMT_hx_all\",\n",
    "    \"lesion_count\",\n",
    "    \"lesion_vol_cubic\",\n",
    "    \"lesion_vol_logtrans\",\n",
    "    \"PRL\",\n",
    "    \"tiv\",\n",
    "    \"choroid_volume\",\n",
    "    \"pineal_volume\",\n",
    "    \"pituitary_volume\"\n",
    "]\n",
    "\n",
    "for var in vars:\n",
    "    df[var] = pd.to_numeric(df[var])"
   ]
  },
  {
   "cell_type": "code",
   "execution_count": 122,
   "metadata": {},
   "outputs": [],
   "source": [
    "vars_to_center = [\n",
    "    \"edss_sqrt\",\n",
    "    \"lesion_vol_logtrans\",\n",
    "    \"lesion_vol_cubic\",\n",
    "    \"dzdur\",\n",
    "    \"choroid_volume\",\n",
    "    \"pituitary_volume\",\n",
    "]\n",
    "\n",
    "for var in vars_to_center:\n",
    "    df[f\"{var}_cent\"] = df[var] - df[var].mean()\n",
    "\n",
    "centered_vars = [f\"{var}_cent\" for var in vars_to_center]\n",
    "vars.extend(centered_vars)"
   ]
  },
  {
   "cell_type": "code",
   "execution_count": 123,
   "metadata": {},
   "outputs": [],
   "source": [
    "df_z = df[vars].astype(\"float\")\n",
    "df_z[df.columns[~df.columns.isin(vars)]] = df[df.columns[~df.columns.isin(vars)]]\n",
    "df_z = df_z[df.columns]\n",
    "df_z[vars] = df_z[vars].apply(stats.zscore, nan_policy=\"omit\")\n",
    "\n",
    "data = df[vars].astype(\"float\")\n",
    "data_z = data[vars].apply(stats.zscore, nan_policy=\"omit\")\n",
    "\n",
    "data_ms = df.loc[df[\"dz_type5\"].isin([\"RMS\", \"PMS\"]), :]\n",
    "data_ms = data_ms[vars].astype(\"float\")\n",
    "data_ms_z = data_ms[vars].apply(stats.zscore, nan_policy=\"omit\")"
   ]
  },
  {
   "cell_type": "code",
   "execution_count": 124,
   "metadata": {},
   "outputs": [],
   "source": [
    "rad_df = pd.read_csv(\"/home/srs-9/Projects/ms_mri/radiomics/pituitary-t1-radiomics.csv\")\n",
    "rad_df = rad_df.set_index(\"subid\")\n",
    "rad_df_z = rad_df.apply(stats.zscore)"
   ]
  },
  {
   "cell_type": "code",
   "execution_count": 113,
   "metadata": {},
   "outputs": [],
   "source": [
    "all_rad_features = [\n",
    "    \"original_shape_Elongation\",\n",
    "    \"original_shape_Flatness\",\n",
    "    \"original_shape_LeastAxisLength\",\n",
    "    \"original_shape_MajorAxisLength\",\n",
    "    \"original_shape_Maximum2DDiameterColumn\",\n",
    "    \"original_shape_Maximum2DDiameterRow\",\n",
    "    \"original_shape_Maximum2DDiameterSlice\",\n",
    "    \"original_shape_Maximum3DDiameter\",\n",
    "    \"original_shape_MeshVolume\",\n",
    "    \"original_shape_MinorAxisLength\",\n",
    "    \"original_shape_Sphericity\",\n",
    "    \"original_shape_SurfaceArea\",\n",
    "    \"original_shape_SurfaceVolumeRatio\",\n",
    "    \"original_shape_VoxelVolume\"\n",
    "]\n",
    "\n",
    "longest_feat_name_len = max([len(feat) for feat in all_rad_features])\n",
    "n_feat_spaces = {}\n",
    "for feat in all_rad_features:\n",
    "    n_feat_spaces[feat] = longest_feat_name_len - len(feat)"
   ]
  },
  {
   "cell_type": "code",
   "execution_count": 31,
   "metadata": {},
   "outputs": [],
   "source": [
    "def check_vif(data, vif_vars):\n",
    "    vif_data = rad_df[vif_vars].dropna()\n",
    "    vif = pd.DataFrame()\n",
    "    vif[\"feature\"] = vif_data.columns\n",
    "    vif = vif.set_index(\"feature\")\n",
    "    vif['VIF'] = [variance_inflation_factor(vif_data.values, i, )\n",
    "                            for i in range(len(vif_data.columns))]\n",
    "    return vif"
   ]
  },
  {
   "cell_type": "markdown",
   "metadata": {},
   "source": [
    "### Regression on Lesion Volume"
   ]
  },
  {
   "cell_type": "code",
   "execution_count": 38,
   "metadata": {},
   "outputs": [
    {
     "name": "stdout",
     "output_type": "stream",
     "text": [
      "                                 VIF\n",
      "feature                             \n",
      "original_shape_Elongation   13.12332\n",
      "original_shape_VoxelVolume  13.12332\n"
     ]
    }
   ],
   "source": [
    "rad_features = [\"original_shape_Elongation\",\n",
    "               \"original_shape_VoxelVolume\"]\n",
    "\n",
    "vif = check_vif(rad_df, rad_features)\n",
    "print(vif)"
   ]
  },
  {
   "cell_type": "code",
   "execution_count": 115,
   "metadata": {},
   "outputs": [],
   "source": [
    "def regress_iter(model, data, outcome, features, covars=None, **kwargs):\n",
    "    if covars is None:\n",
    "        covars = []\n",
    "    p_vals = []\n",
    "    for feature in features:    \n",
    "       predictors = covars + [feature]\n",
    "       res = model(data[outcome], data[predictors], **kwargs).fit(disp=False)\n",
    "       p_vals.append(res.pvalues[feature])\n",
    "    \n",
    "    return p_vals, features"
   ]
  },
  {
   "cell_type": "code",
   "execution_count": 129,
   "metadata": {},
   "outputs": [
    {
     "name": "stdout",
     "output_type": "stream",
     "text": [
      "original_shape_Elongation: 0.23\n",
      "original_shape_Flatness: 0.91\n",
      "original_shape_LeastAxisLength: 0.91\n",
      "original_shape_MajorAxisLength: 0.59\n",
      "original_shape_Maximum2DDiameterColumn: 0.21\n",
      "original_shape_Maximum2DDiameterRow: 0.094\n",
      "original_shape_Maximum2DDiameterSlice: 0.51\n",
      "original_shape_Maximum3DDiameter: 0.82\n",
      "original_shape_MeshVolume: 0.99\n",
      "original_shape_MinorAxisLength: 0.035\n",
      "original_shape_Sphericity: 0.18\n",
      "original_shape_SurfaceArea: 0.16\n",
      "original_shape_SurfaceVolumeRatio: 0.055\n",
      "original_shape_VoxelVolume: 0.98\n"
     ]
    }
   ],
   "source": [
    "model_data = pd.concat([data, rad_df], axis=1)\n",
    "\n",
    "p_vals, _ = regress_iter(sm.OLS, model_data, \"lesion_vol_logtrans\", all_rad_features, covars=[\"age\", \"Female\", \"tiv\"],\n",
    "                         hasconst=True, missing=\"drop\")\n",
    "\n",
    "for feature, p in zip(all_rad_features, p_vals):\n",
    "    print(\"{}: {:0.2}\".format(feature, p))"
   ]
  },
  {
   "cell_type": "code",
   "execution_count": 51,
   "metadata": {},
   "outputs": [
    {
     "name": "stdout",
     "output_type": "stream",
     "text": [
      "original_shape_Elongation: 0.19\n",
      "original_shape_Flatness: 0.49\n",
      "original_shape_LeastAxisLength: 0.4\n",
      "original_shape_MajorAxisLength: 0.43\n",
      "original_shape_Maximum2DDiameterColumn: 0.23\n",
      "original_shape_Maximum2DDiameterRow: 0.16\n",
      "original_shape_Maximum2DDiameterSlice: 0.35\n",
      "original_shape_Maximum3DDiameter: 0.51\n",
      "original_shape_MeshVolume: 0.4\n",
      "original_shape_MinorAxisLength: 0.15\n",
      "original_shape_Sphericity: 0.51\n",
      "original_shape_SurfaceArea: 0.16\n",
      "original_shape_SurfaceVolumeRatio: 0.15\n",
      "original_shape_VoxelVolume: 0.4\n"
     ]
    }
   ],
   "source": [
    "corrected_p_values = stats.false_discovery_control(p_vals)\n",
    "for feature, p in zip(all_rad_features, corrected_p_values):\n",
    "    print(\"{}: {:0.2}\".format(feature, p))"
   ]
  },
  {
   "cell_type": "code",
   "execution_count": 72,
   "metadata": {},
   "outputs": [],
   "source": [
    "model_data = pd.concat([data, rad_df], axis=1)\n",
    "model_data = model_data.loc[df_full['dz_type5'].isin(['RMS', 'PMS'])]"
   ]
  },
  {
   "cell_type": "code",
   "execution_count": null,
   "metadata": {},
   "outputs": [
    {
     "name": "stdout",
     "output_type": "stream",
     "text": [
      "Optimization terminated successfully.\n",
      "         Current function value: 0.459983\n",
      "         Iterations 6\n",
      "                           Logit Regression Results                           \n",
      "==============================================================================\n",
      "Dep. Variable:                     MS   No. Observations:                  413\n",
      "Model:                          Logit   Df Residuals:                      409\n",
      "Method:                           MLE   Df Model:                            3\n",
      "Date:                Thu, 20 Feb 2025   Pseudo R-squ.:                -0.02836\n",
      "Time:                        21:52:02   Log-Likelihood:                -189.97\n",
      "converged:                       True   LL-Null:                       -184.73\n",
      "Covariance Type:            nonrobust   LLR p-value:                     1.000\n",
      "==================================================================================================\n",
      "                                     coef    std err          z      P>|z|      [0.025      0.975]\n",
      "--------------------------------------------------------------------------------------------------\n",
      "age                                0.0162      0.009      1.765      0.077      -0.002       0.034\n",
      "Female                             0.2056      0.310      0.663      0.507      -0.402       0.813\n",
      "original_shape_MajorAxisLength     0.0037      0.011      0.341      0.733      -0.018       0.025\n",
      "original_shape_MinorAxisLength     0.0486      0.050      0.974      0.330      -0.049       0.146\n",
      "==================================================================================================\n"
     ]
    }
   ],
   "source": [
    "model_data = pd.concat([df, rad_df], axis=1)\n",
    "model_data = model_data.loc[df_full['dz_type2'].isin(['MS', '!MS'])]\n",
    "model_data = pd.concat(\n",
    "    (model_data, pd.get_dummies(model_data['dz_type2'])), axis=1\n",
    ")\n",
    "model_data['MS'] = model_data['MS'].astype(\"int64\")\n",
    "\n",
    "rad_features = [\"original_shape_MajorAxisLength\",\n",
    "                \"original_shape_MinorAxisLength\"]\n",
    "predictors = [\"age\", \"Female\"] + rad_features\n",
    "outcome = [\"MS\"]\n",
    "\n",
    "logit_mod = sm.Logit(model_data[outcome].astype(\"float\"), model_data[predictors].astype(\"float\"), missing=\"drop\")\n",
    "res = logit_mod.fit()\n",
    "print(res.summary())"
   ]
  },
  {
   "cell_type": "markdown",
   "metadata": {},
   "source": [
    "**Why is TIV significant here, but not in data_analysis.ipynb?**"
   ]
  },
  {
   "cell_type": "code",
   "execution_count": 191,
   "metadata": {},
   "outputs": [
    {
     "name": "stdout",
     "output_type": "stream",
     "text": [
      "Optimization terminated successfully.\n",
      "         Current function value: 0.386002\n",
      "         Iterations 7\n",
      "                           Logit Regression Results                           \n",
      "==============================================================================\n",
      "Dep. Variable:                    PMS   No. Observations:                  345\n",
      "Model:                          Logit   Df Residuals:                      340\n",
      "Method:                           MLE   Df Model:                            4\n",
      "Date:                Thu, 20 Feb 2025   Pseudo R-squ.:                  0.2407\n",
      "Time:                        21:57:07   Log-Likelihood:                -133.17\n",
      "converged:                       True   LL-Null:                       -175.38\n",
      "Covariance Type:            nonrobust   LLR p-value:                 2.024e-17\n",
      "=====================================================================================================\n",
      "                                        coef    std err          z      P>|z|      [0.025      0.975]\n",
      "-----------------------------------------------------------------------------------------------------\n",
      "age                                   0.1068      0.016      6.660      0.000       0.075       0.138\n",
      "Female                               -1.4020      0.418     -3.354      0.001      -2.221      -0.583\n",
      "tiv                               -1.949e-06   1.42e-06     -1.374      0.169   -4.73e-06    8.31e-07\n",
      "original_shape_SurfaceVolumeRatio    -0.2443      1.342     -0.182      0.856      -2.874       2.386\n",
      "Intercept                            -2.7728      2.668     -1.039      0.299      -8.002       2.456\n",
      "=====================================================================================================\n"
     ]
    }
   ],
   "source": [
    "model_data = pd.concat([data, rad_df], axis=1)\n",
    "# model_data = df_z.loc[df_z['dz_type5'].isin(['RMS', 'PMS'])]\n",
    "model_data = model_data.loc[df_full['dz_type5'].isin([\"PMS\", \"RMS\"])]\n",
    "model_data = pd.concat(\n",
    "    (model_data, pd.get_dummies(df_full.loc[model_data.index, 'dz_type5'])), axis=1\n",
    ")\n",
    "# model_data_ind = set(model_data.index)\n",
    "# rad_df_ind = set(rad_df.index)\n",
    "\n",
    "\n",
    "rad_features = [\"original_shape_MinorAxisLength\"]\n",
    "predictors = [\"age\", \"Female\", \"tiv\", \"original_shape_SurfaceVolumeRatio\", \"Intercept\"]\n",
    "outcome = [\"PMS\"]\n",
    "model_data['PMS'] = model_data['PMS'].astype(\"int64\")\n",
    "model_data['Intercept'] = 1\n",
    "\n",
    "logit_mod = sm.Logit(model_data[outcome], model_data[predictors], missing=\"drop\")\n",
    "# logit_mod = sm.Logit.from_formula(\"PMS ~ original_shape_MinorAxisLength + age + tiv + Female\", data=model_data)\n",
    "res = logit_mod.fit()\n",
    "print(res.summary())"
   ]
  },
  {
   "cell_type": "code",
   "execution_count": 187,
   "metadata": {},
   "outputs": [
    {
     "name": "stdout",
     "output_type": "stream",
     "text": [
      "0\n",
      "                             OrderedModel Results                             \n",
      "==============================================================================\n",
      "Dep. Variable:              phenotype   Log-Likelihood:                -384.83\n",
      "Model:                   OrderedModel   AIC:                             783.7\n",
      "Method:            Maximum Likelihood   BIC:                             811.8\n",
      "Date:                Thu, 20 Feb 2025                                         \n",
      "Time:                        21:56:33                                         \n",
      "No. Observations:                 411                                         \n",
      "Df Residuals:                     404                                         \n",
      "Df Model:                           4                                         \n",
      "=============================================================================================\n",
      "                                coef    std err          z      P>|z|      [0.025      0.975]\n",
      "---------------------------------------------------------------------------------------------\n",
      "age                           0.0362      0.009      4.219      0.000       0.019       0.053\n",
      "Female                       -0.9414      0.265     -3.557      0.000      -1.460      -0.423\n",
      "original_shape_Elongation     1.1846      0.648      1.828      0.068      -0.086       2.455\n",
      "tiv                       -2.165e-06   1.73e-07    -12.534      0.000    -2.5e-06   -1.83e-06\n",
      "1.0/2.0                      -3.8323      0.657     -5.831      0.000      -5.120      -2.544\n",
      "2.0/3.0                      -0.4655      0.187     -2.491      0.013      -0.832      -0.099\n",
      "3.0/4.0                       1.2400      0.054     22.992      0.000       1.134       1.346\n",
      "=============================================================================================\n"
     ]
    },
    {
     "name": "stderr",
     "output_type": "stream",
     "text": [
      "/home/srs-9/.virtualenvs/monai/lib/python3.12/site-packages/statsmodels/base/optimizer.py:737: RuntimeWarning: Maximum number of iterations has been exceeded.\n",
      "  retvals = optimize.fmin(f, start_params, args=fargs, xtol=xtol,\n",
      "/home/srs-9/.virtualenvs/monai/lib/python3.12/site-packages/statsmodels/base/model.py:607: ConvergenceWarning: Maximum Likelihood optimization failed to converge. Check mle_retvals\n",
      "  warnings.warn(\"Maximum Likelihood optimization failed to \"\n"
     ]
    }
   ],
   "source": [
    "model_data = pd.concat([df, rad_df], axis=1)\n",
    "model_data = model_data.loc[model_data['dz_type5'].isin([\"PMS\", \"RMS\", \"NIND\", \"OIND\"])]\n",
    "model_data = pd.concat(\n",
    "    (model_data, pd.get_dummies(model_data['dz_type5'])), axis=1\n",
    ")\n",
    "\n",
    "model_data['phenotype'] = 0\n",
    "model_data.loc[model_data['dz_type5'] == \"NIND\", 'phenotype'] = 1\n",
    "model_data.loc[model_data['dz_type5'] == \"OIND\", 'phenotype'] = 2\n",
    "model_data.loc[model_data['dz_type5'] == \"RMS\", 'phenotype'] = 3\n",
    "model_data.loc[model_data['dz_type5'] == \"PMS\", 'phenotype'] = 4\n",
    "\n",
    "print(sum(model_data['phenotype'] == 0))\n",
    "\n",
    "rad_features = [\"original_shape_MinorAxisLength\"]\n",
    "\n",
    "predictors = [\"age\", \"Female\", \"original_shape_Elongation\", \"tiv\"]\n",
    "outcome = [\"phenotype\"]\n",
    "\n",
    "mod_prob = OrderedModel(model_data[outcome].astype(\"float\"), model_data[predictors].astype(\"float\"), distr='logit', missing=\"drop\")\n",
    "res = mod_prob.fit()\n",
    "print(res.summary())"
   ]
  },
  {
   "cell_type": "markdown",
   "metadata": {},
   "source": [
    "### Clinical Disability"
   ]
  },
  {
   "cell_type": "code",
   "execution_count": 192,
   "metadata": {},
   "outputs": [
    {
     "name": "stdout",
     "output_type": "stream",
     "text": [
      "                            OLS Regression Results                            \n",
      "==============================================================================\n",
      "Dep. Variable:              edss_sqrt   R-squared:                       0.225\n",
      "Model:                            OLS   Adj. R-squared:                  0.217\n",
      "Method:                 Least Squares   F-statistic:                     28.48\n",
      "Date:                Thu, 20 Feb 2025   Prob (F-statistic):           8.62e-21\n",
      "Time:                        21:58:05   Log-Likelihood:                -294.77\n",
      "No. Observations:                 397   AIC:                             599.5\n",
      "Df Residuals:                     392   BIC:                             619.5\n",
      "Df Model:                           4                                         \n",
      "Covariance Type:            nonrobust                                         \n",
      "==================================================================================\n",
      "                     coef    std err          t      P>|t|      [0.025      0.975]\n",
      "----------------------------------------------------------------------------------\n",
      "age                0.0188      0.002      8.411      0.000       0.014       0.023\n",
      "Female            -0.0774      0.074     -1.039      0.300      -0.224       0.069\n",
      "choroid_volume   8.78e-05   4.33e-05      2.030      0.043    2.76e-06       0.000\n",
      "tiv             -3.19e-07   2.37e-07     -1.343      0.180   -7.86e-07    1.48e-07\n",
      "Intercept          1.0099      0.414      2.437      0.015       0.195       1.825\n",
      "==============================================================================\n",
      "Omnibus:                        5.277   Durbin-Watson:                   1.982\n",
      "Prob(Omnibus):                  0.071   Jarque-Bera (JB):                5.049\n",
      "Skew:                           0.265   Prob(JB):                       0.0801\n",
      "Kurtosis:                       3.156   Cond. No.                     2.44e+07\n",
      "==============================================================================\n",
      "\n",
      "Notes:\n",
      "[1] Standard Errors assume that the covariance matrix of the errors is correctly specified.\n",
      "[2] The condition number is large, 2.44e+07. This might indicate that there are\n",
      "strong multicollinearity or other numerical problems.\n"
     ]
    }
   ],
   "source": [
    "model_data = pd.concat([data, rad_df], axis=1)\n",
    "model_data = model_data.loc[df_full['dz_type5'].isin([\"PMS\", \"RMS\"])]\n",
    "model_data['Intercept'] = 1\n",
    "\n",
    "rad_features = [\n",
    "                \"original_shape_MinorAxisLength\"]\n",
    "predictors = [\"age\", \"Female\", \"choroid_volume\", \"tiv\", \"Intercept\"]\n",
    "outcome = \"edss_sqrt\"\n",
    "\n",
    "model = sm.OLS(model_data[outcome], model_data[predictors], missing=\"drop\", hasconst=True)\n",
    "res = model.fit()\n",
    "print(res.summary())"
   ]
  }
 ],
 "metadata": {
  "kernelspec": {
   "display_name": "monai",
   "language": "python",
   "name": "python3"
  },
  "language_info": {
   "codemirror_mode": {
    "name": "ipython",
    "version": 3
   },
   "file_extension": ".py",
   "mimetype": "text/x-python",
   "name": "python",
   "nbconvert_exporter": "python",
   "pygments_lexer": "ipython3",
   "version": "3.12.4"
  }
 },
 "nbformat": 4,
 "nbformat_minor": 2
}
