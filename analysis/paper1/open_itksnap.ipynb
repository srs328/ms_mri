{
 "cells": [
  {
   "cell_type": "code",
   "execution_count": 14,
   "metadata": {},
   "outputs": [],
   "source": [
    "import pandas as pd\n",
    "from pathlib import Path\n",
    "import os\n",
    "from reload_recursive import reload_recursive\n",
    "import pyperclip\n",
    "\n",
    "from mri_data import file_manager as fm\n",
    "from mri_data import utils\n",
    "import helpers"
   ]
  },
  {
   "cell_type": "code",
   "execution_count": 3,
   "metadata": {},
   "outputs": [],
   "source": [
    "reload_recursive(helpers)"
   ]
  },
  {
   "cell_type": "markdown",
   "metadata": {},
   "source": [
    "### Paths and Config"
   ]
  },
  {
   "cell_type": "code",
   "execution_count": 11,
   "metadata": {},
   "outputs": [],
   "source": [
    "drive_root = fm.get_drive_root()\n",
    "dataroot = drive_root / \"3Tpioneer_bids\"\n",
    "infroot = drive_root / \"srs-9/3Tpioneer_bids_predictions\"\n",
    "data_dir = Path(\"/home/srs-9/Projects/ms_mri/analysis/paper1/data0\")\n",
    "\n",
    "df = pd.read_csv(data_dir / \"t1_data_full.csv\", index_col=\"subid\")\n",
    "df2 = pd.read_csv(data_dir / \"t1_2_data_full.csv\", index_col=\"subid\")\n",
    "\n",
    "keep_cols = [\n",
    "    \"subject\",\n",
    "    \"age\",\n",
    "    \"sex\",\n",
    "    \"ms_type\",\n",
    "    \"dzdur\",\n",
    "    \"extracted_EDSS\",\n",
    "    \"MSSS\",\n",
    "    \"gMSSS\",\n",
    "    \"ARMSS\",\n",
    "    \"DMT_score\",\n",
    "    \"DMT_hx_all\",\n",
    "    \"TER\",\n",
    "    \"DMF\",\n",
    "    \"NAT\",\n",
    "    \"INF\",\n",
    "    \"flair_contrast\",\n",
    "    \"thalamus\",\n",
    "    \"brain\",\n",
    "    \"white\",\n",
    "    \"grey\",\n",
    "    \"cortical_thickness\",\n",
    "    \"lesion_count\",\n",
    "    \"lesion_vol_cubic\",\n",
    "    \"PRL\",\n",
    "    \"tiv\",\n",
    "    \"choroid_volume\",\n",
    "    \"pineal_volume\",\n",
    "    \"pituitary_volume\",\n",
    "]\n",
    "\n",
    "\n",
    "def prepare_df_full(df):\n",
    "    df = helpers.set_dz_type5(df)\n",
    "    df = helpers.set_dz_type3(df)\n",
    "    df = helpers.set_dz_type2(df)\n",
    "    df = helpers.fix_edss(df)\n",
    "    df = helpers.clean_df(df)\n",
    "    df = helpers.set_has_prl(df)\n",
    "    df = helpers.clean_dz_type(df)\n",
    "    return df\n",
    "\n",
    "\n",
    "df = prepare_df_full(df)\n",
    "df2 = prepare_df_full(df2)"
   ]
  },
  {
   "cell_type": "code",
   "execution_count": 18,
   "metadata": {},
   "outputs": [
    {
     "name": "stdout",
     "output_type": "stream",
     "text": [
      "itksnap -g H:/3Tpioneer_bids/sub-ms1487/ses-20210920/t1.nii.gz -o H:/3Tpioneer_bids/sub-ms1487/ses-20210920/t1_gd.nii.gz H:/3Tpioneer_bids/sub-ms1487/ses-20210920/flair.nii.gz -s H:/srs-9/3Tpioneer_bids_predictions/sub-ms1487/ses-20210920/t1_choroid_pineal_pituitary_T1-1_pred.nii.gz\n"
     ]
    }
   ],
   "source": [
    "sub = 1487\n",
    "sub_dataroot = dataroot / df.loc[sub, \"sub-ses\"]\n",
    "sub_infroot = dataroot / df.loc[sub, \"sub-ses\"]\n",
    "\n",
    "t1 = sub_dataroot / \"t1.nii.gz\"\n",
    "t1_gd = sub_dataroot / \"t1_gd.nii.gz\"\n",
    "flair = sub_dataroot / \"flair.nii.gz\"\n",
    "phase = sub_dataroot / \"phase.nii.gz\"\n",
    "label = drive_root / df.loc[sub, \"label_folder\"] / df.loc[sub, \"label\"]\n",
    "\n",
    "images = [t1, t1_gd, flair]\n",
    "labels = [label]\n",
    "\n",
    "images = [im for im in images if im.exists()]\n",
    "labels = [lab for lab in labels if lab.exists()]\n",
    "\n",
    "cmd = utils.open_itksnap_workspace_cmd(images, labels, win=True)\n",
    "pyperclip.copy(cmd)\n",
    "print(cmd)"
   ]
  }
 ],
 "metadata": {
  "kernelspec": {
   "display_name": "monai",
   "language": "python",
   "name": "python3"
  },
  "language_info": {
   "codemirror_mode": {
    "name": "ipython",
    "version": 3
   },
   "file_extension": ".py",
   "mimetype": "text/x-python",
   "name": "python",
   "nbconvert_exporter": "python",
   "pygments_lexer": "ipython3",
   "version": "3.12.4"
  }
 },
 "nbformat": 4,
 "nbformat_minor": 2
}
