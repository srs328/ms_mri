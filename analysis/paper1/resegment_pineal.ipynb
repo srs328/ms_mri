{
 "cells": [
  {
   "cell_type": "code",
   "execution_count": 1,
   "metadata": {},
   "outputs": [],
   "source": [
    "from pathlib import Path\n",
    "import os\n",
    "import pandas as pd\n",
    "import pyperclip\n",
    "import subprocess\n",
    "from reload_recursive import reload_recursive\n",
    "import helpers\n",
    "\n",
    "import mri_data"
   ]
  },
  {
   "cell_type": "code",
   "execution_count": 2,
   "metadata": {},
   "outputs": [],
   "source": [
    "reload_recursive(mri_data)\n",
    "from mri_data import file_manager as fm\n",
    "from mri_data import utils\n",
    "\n",
    "pd.options.mode.copy_on_write = True"
   ]
  },
  {
   "cell_type": "code",
   "execution_count": 3,
   "metadata": {},
   "outputs": [],
   "source": [
    "drive_root = fm.get_drive_root()\n",
    "dataroot = drive_root / \"3Tpioneer_bids\"\n",
    "labelroot = drive_root / \"srs-9/3Tpioneer_bids_predictions\"\n",
    "data_dir = Path(\"/home/srs-9/Projects/ms_mri/analysis/paper1/data0\")\n",
    "df = pd.read_csv(data_dir / \"manual_labels.csv\")\n",
    "df.set_index(\"subid\", inplace=True)\n",
    "\n",
    "df_full = pd.read_csv(data_dir / \"t1_2_data_full.csv\", index_col=\"subid\")\n",
    "df_full = helpers.set_dz_type5(df_full)"
   ]
  },
  {
   "cell_type": "code",
   "execution_count": 4,
   "metadata": {},
   "outputs": [
    {
     "data": {
      "text/plain": [
       "subid\n",
       "1001    sub-ms1001/ses-20170215\n",
       "1002    sub-ms1002/ses-20200521\n",
       "1003    sub-ms1003/ses-20170329\n",
       "1004    sub-ms1004/ses-20190906\n",
       "1005    sub-ms1005/ses-20200708\n",
       "                 ...           \n",
       "3020    sub-ms3020/ses-20170307\n",
       "3008    sub-ms3008/ses-20180827\n",
       "3014    sub-ms3014/ses-20161214\n",
       "3018    sub-ms3018/ses-20170530\n",
       "3012    sub-ms3012/ses-20200606\n",
       "Name: sub-ses, Length: 575, dtype: object"
      ]
     },
     "execution_count": 4,
     "metadata": {},
     "output_type": "execute_result"
    }
   ],
   "source": [
    "df_full['sub-ses']"
   ]
  },
  {
   "cell_type": "code",
   "execution_count": 5,
   "metadata": {},
   "outputs": [],
   "source": [
    "df_check = df_full.sort_values(by=\"pineal_volume\")[['pineal_volume', 'ms_type']]"
   ]
  },
  {
   "cell_type": "code",
   "execution_count": 6,
   "metadata": {},
   "outputs": [
    {
     "name": "stdout",
     "output_type": "stream",
     "text": [
      "Images: \n",
      "/mnt/h/3Tpioneer_bids/sub-ms2039/ses-20170118/t1.nii.gz\n",
      "/mnt/h/3Tpioneer_bids/sub-ms2039/ses-20170118/flair.nii.gz\n",
      "/mnt/h/3Tpioneer_bids/sub-ms2039/ses-20170118/t1_gd.nii.gz\n",
      "Labels: \n",
      "/mnt/h/srs-9/3Tpioneer_bids_predictions/sub-ms2039/ses-20170118/t1_choroid_pineal2_pituitary_T1-1_pred.nii.gz\n"
     ]
    }
   ],
   "source": [
    "# 2039\n",
    "sub = 2039\n",
    "subroot = dataroot / df_full.loc[sub, 'sub-ses']\n",
    "\n",
    "t1 = subroot / \"t1.nii.gz\"\n",
    "flair = subroot / \"flair.nii.gz\"\n",
    "t1_gd = subroot / \"t1_gd.nii.gz\"\n",
    "\n",
    "pin1 = subroot / \"pineal-SRS.nii.gz\"\n",
    "pin2 = subroot / \"pineal-SRS_T1.nii.gz\"\n",
    "pin_inf = drive_root / df_full.loc[sub, 'label_folder']\n",
    "\n",
    "images = []\n",
    "for im in [t1, flair, t1_gd]:\n",
    "    if im.exists():\n",
    "        images.append(str(im))\n",
    "\n",
    "labels = []\n",
    "for lab in [pin_inf, pin1, pin2]:\n",
    "    if lab.exists():\n",
    "        labels.append(str(lab))\n",
    "\n",
    "print(\"Images: \\n{}\".format(\"\\n\".join(images)))\n",
    "print(\"Labels: \\n{}\".format(\"\\n\".join(labels)))\n",
    "\n",
    "cmd = utils.open_itksnap_workspace_cmd(images, labels, win=True)\n",
    "pyperclip.copy(cmd)\n",
    "# subprocess.Popen(cmd.split(\" \"))"
   ]
  },
  {
   "cell_type": "code",
   "execution_count": 5,
   "metadata": {},
   "outputs": [],
   "source": [
    "for i, row in df.iterrows():\n",
    "    scanroot = dataroot / str(row['sub-ses']) \n",
    "    images = []\n",
    "    for im in [\"t1.nii.gz\", \"t1_gd.nii.gz\", \"flair.nii.gz\"]:\n",
    "        if (scanroot / im).is_file():\n",
    "            images.append(str(scanroot / im))\n",
    "    if len(images) == 0:\n",
    "        continue\n",
    "    labels = []\n",
    "    for lab in [\"pineal-SRS.nii.gz\", \"pineal-SRS_T1.nii.gz\"]:\n",
    "        if (scanroot / lab).is_file():\n",
    "            labels.append(str(scanroot / lab))\n",
    "    \n",
    "    cmd = utils.open_itksnap_workspace_cmd(images, labels, win=False)\n",
    "    df.loc[i, \"cmd\"] = cmd"
   ]
  },
  {
   "cell_type": "code",
   "execution_count": null,
   "metadata": {},
   "outputs": [],
   "source": [
    "sub = 1010\n",
    "cmd = df.loc[sub, \"cmd\"]\n",
    "print(cmd)\n",
    "pyperclip.copy(cmd)\n",
    "# subprocess.Popen(cmd.split(\" \"))"
   ]
  },
  {
   "cell_type": "code",
   "execution_count": 9,
   "metadata": {},
   "outputs": [],
   "source": [
    "for i, row in df_full.iterrows():\n",
    "    scanroot = dataroot / str(row['sub-ses']) \n",
    "    images = []\n",
    "    for im in [\"t1.nii.gz\", \"t1_gd.nii.gz\", \"flair.nii.gz\"]:\n",
    "        if (scanroot / im).is_file():\n",
    "            images.append(str(scanroot / im))\n",
    "    if len(images) == 0:\n",
    "        continue\n",
    "    labels = []\n",
    "    for lab in [\"pineal-SRS.nii.gz\", \"pineal-SRS_T1.nii.gz\"]:\n",
    "        if (scanroot / lab).is_file():\n",
    "            labels.append(str(scanroot / lab))\n",
    "    \n",
    "    cmd = utils.open_itksnap_workspace_cmd(images, labels, win=True)\n",
    "    df_full.loc[i, \"cmd\"] = cmd"
   ]
  },
  {
   "cell_type": "code",
   "execution_count": 24,
   "metadata": {},
   "outputs": [],
   "source": [
    "man_pineal_df = pd.DataFrame(columns=df_full.columns)\n",
    "for i, row in df_full.iterrows():\n",
    "    scanroot = dataroot / str(row['sub-ses']) \n",
    "    if (scanroot / \"pineal-SRS.nii.gz\").is_file() or (scanroot / \"pineal-SRS_T1.nii.gz\").is_file():\n",
    "        man_pineal_df.loc[i, :] = row"
   ]
  },
  {
   "cell_type": "code",
   "execution_count": null,
   "metadata": {},
   "outputs": [],
   "source": [
    "man_pineal_df['dz_type5']"
   ]
  },
  {
   "cell_type": "code",
   "execution_count": 11,
   "metadata": {},
   "outputs": [
    {
     "name": "stdout",
     "output_type": "stream",
     "text": [
      "itksnap -g H:/3Tpioneer_bids/sub-ms1066/ses-20180828/t1.nii.gz -o H:/3Tpioneer_bids/sub-ms1066/ses-20180828/t1_gd.nii.gz H:/3Tpioneer_bids/sub-ms1066/ses-20180828/flair.nii.gz -s H:/3Tpioneer_bids/sub-ms1066/ses-20180828/pineal-SRS_T1.nii.gz\n"
     ]
    }
   ],
   "source": [
    "sub = 1066\n",
    "cmd = df_full.loc[sub, \"cmd\"]\n",
    "print(cmd)\n",
    "pyperclip.copy(cmd)\n",
    "# subprocess.Popen(cmd.split(\" \"))"
   ]
  },
  {
   "cell_type": "code",
   "execution_count": 23,
   "metadata": {},
   "outputs": [],
   "source": [
    "df_check = df_full[[\"pineal_volume\", \"dz_type5\"]]\n",
    "df_check.sort_values(by=\"pineal_volume\", inplace=True)"
   ]
  },
  {
   "cell_type": "code",
   "execution_count": 25,
   "metadata": {},
   "outputs": [],
   "source": [
    "import csv\n",
    "\n",
    "file = \"/mnt/h/srs-9/hips-thomas/sub1001-20170215/left/nucleiVols.txt\"\n",
    "with open(file, 'r') as f:\n",
    "    reader = csv.reader(f, delimiter=\" \")\n",
    "    vols = {row[0]: float(row[1]) for row in reader}"
   ]
  },
  {
   "cell_type": "code",
   "execution_count": 26,
   "metadata": {},
   "outputs": [
    {
     "data": {
      "text/plain": [
       "269.82724"
      ]
     },
     "execution_count": 26,
     "metadata": {},
     "output_type": "execute_result"
    }
   ],
   "source": [
    "vols['7-VPL']"
   ]
  }
 ],
 "metadata": {
  "kernelspec": {
   "display_name": "monai",
   "language": "python",
   "name": "python3"
  },
  "language_info": {
   "codemirror_mode": {
    "name": "ipython",
    "version": 3
   },
   "file_extension": ".py",
   "mimetype": "text/x-python",
   "name": "python",
   "nbconvert_exporter": "python",
   "pygments_lexer": "ipython3",
   "version": "3.12.4"
  }
 },
 "nbformat": 4,
 "nbformat_minor": 2
}
