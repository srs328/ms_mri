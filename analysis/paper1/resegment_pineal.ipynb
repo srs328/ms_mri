{
 "cells": [
  {
   "cell_type": "code",
   "execution_count": 1,
   "metadata": {},
   "outputs": [],
   "source": [
    "from pathlib import Path\n",
    "import os\n",
    "import pandas as pd\n",
    "import pyperclip\n",
    "import subprocess\n",
    "from reload_recursive import reload_recursive\n",
    "\n",
    "import mri_data"
   ]
  },
  {
   "cell_type": "code",
   "execution_count": 31,
   "metadata": {},
   "outputs": [],
   "source": [
    "reload_recursive(mri_data)\n",
    "from mri_data import file_manager as fm\n",
    "from mri_data import utils\n",
    "\n",
    "pd.options.mode.copy_on_write = True"
   ]
  },
  {
   "cell_type": "code",
   "execution_count": 36,
   "metadata": {},
   "outputs": [],
   "source": [
    "drive_root = fm.get_drive_root()\n",
    "dataroot = drive_root / \"3Tpioneer_bids\"\n",
    "labelroot = drive_root / \"srs-9/3Tpioneer_bids_predictions\"\n",
    "data_dir = Path(\"/home/srs-9/Projects/ms_mri/analysis/paper1/data0\")\n",
    "df = pd.read_csv(data_dir / \"manual_labels.csv\")\n",
    "df.set_index(\"subid\", inplace=True)\n",
    "\n",
    "df_full = pd.read_csv(data_dir / \"t1_2_data_full.csv\", index_col=\"subid\")"
   ]
  },
  {
   "cell_type": "code",
   "execution_count": 12,
   "metadata": {},
   "outputs": [],
   "source": [
    "for i, row in df.iterrows():\n",
    "    scanroot = dataroot / str(row['sub-ses']) \n",
    "    images = []\n",
    "    for im in [\"t1.nii.gz\", \"t1_gd.nii.gz\", \"flair.nii.gz\"]:\n",
    "        if (scanroot / im).is_file():\n",
    "            images.append(str(scanroot / im))\n",
    "    labels = []\n",
    "    for lab in [\"pineal-SRS.nii.gz\", \"pineal-SRS_T1.nii.gz\"]:\n",
    "        if (scanroot / lab).is_file():\n",
    "            labels.append(str(scanroot / lab))\n",
    "    \n",
    "    cmd = utils.open_itksnap_workspace_cmd(images, labels)\n",
    "    df.loc[i, \"cmd\"] = cmd"
   ]
  },
  {
   "cell_type": "code",
   "execution_count": null,
   "metadata": {},
   "outputs": [],
   "source": [
    "sub = 1453\n",
    "cmd = df.loc[sub, \"cmd\"]\n",
    "print(cmd)\n",
    "pyperclip.copy(cmd)"
   ]
  },
  {
   "cell_type": "code",
   "execution_count": 34,
   "metadata": {},
   "outputs": [],
   "source": [
    "for i, row in df_full.iterrows():\n",
    "    scanroot = dataroot / str(row['sub-ses']) \n",
    "    images = []\n",
    "    for im in [\"t1.nii.gz\", \"t1_gd.nii.gz\", \"flair.nii.gz\"]:\n",
    "        if (scanroot / im).is_file():\n",
    "            images.append(str(scanroot / im))\n",
    "    if len(images) == 0:\n",
    "        continue\n",
    "    labels = []\n",
    "    for lab in [\"pineal-SRS.nii.gz\", \"pineal-SRS_T1.nii.gz\"]:\n",
    "        if (scanroot / lab).is_file():\n",
    "            labels.append(str(scanroot / lab))\n",
    "    \n",
    "    cmd = utils.open_itksnap_workspace_cmd(images, labels, win=True)\n",
    "    df_full.loc[i, \"cmd\"] = cmd"
   ]
  },
  {
   "cell_type": "code",
   "execution_count": 32,
   "metadata": {},
   "outputs": [],
   "source": [
    "df_check = df_full[[\"pineal_volume\"]]\n",
    "df_check.sort_values(by=\"pineal_volume\", inplace=True)"
   ]
  }
 ],
 "metadata": {
  "kernelspec": {
   "display_name": "monai",
   "language": "python",
   "name": "python3"
  },
  "language_info": {
   "codemirror_mode": {
    "name": "ipython",
    "version": 3
   },
   "file_extension": ".py",
   "mimetype": "text/x-python",
   "name": "python",
   "nbconvert_exporter": "python",
   "pygments_lexer": "ipython3",
   "version": "3.12.4"
  }
 },
 "nbformat": 4,
 "nbformat_minor": 2
}
