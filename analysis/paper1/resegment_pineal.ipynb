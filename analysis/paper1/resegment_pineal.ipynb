{
 "cells": [
  {
   "cell_type": "code",
   "execution_count": 2,
   "metadata": {},
   "outputs": [],
   "source": [
    "from pathlib import Path\n",
    "import os\n",
    "import pandas as pd\n",
    "import pyperclip\n",
    "import subprocess\n",
    "from reload_recursive import reload_recursive\n",
    "\n",
    "import mri_data"
   ]
  },
  {
   "cell_type": "code",
   "execution_count": 3,
   "metadata": {},
   "outputs": [],
   "source": [
    "reload_recursive(mri_data)\n",
    "from mri_data import file_manager as fm\n",
    "from mri_data import utils"
   ]
  },
  {
   "cell_type": "code",
   "execution_count": 4,
   "metadata": {},
   "outputs": [],
   "source": [
    "drive_root = fm.get_drive_root()\n",
    "dataroot = drive_root / \"3Tpioneer_bids\"\n",
    "data_dir = Path(\"/home/srs-9/Projects/ms_mri/analysis/paper1/data0\")\n",
    "df = pd.read_csv(data_dir / \"manual_labels.csv\")\n",
    "df.set_index(\"subid\", inplace=True)"
   ]
  },
  {
   "cell_type": "code",
   "execution_count": 6,
   "metadata": {},
   "outputs": [],
   "source": [
    "for i, row in df.iterrows():\n",
    "    scanroot = dataroot / str(row['sub-ses']) \n",
    "    images = []\n",
    "    for im in [\"t1.nii.gz\", \"t1_gd.nii.gz\", \"flair.nii.gz\"]:\n",
    "        if (scanroot / im).is_file():\n",
    "            images.append(str(scanroot / im))\n",
    "    labels = []\n",
    "    for lab in [\"pineal-SRS.nii.gz\", \"pineal-SRS_T1.nii.gz\"]:\n",
    "        if (scanroot / lab).is_file():\n",
    "            labels.append(str(scanroot / lab))\n",
    "    \n",
    "    cmd = utils.open_itksnap_workspace_cmd(images, labels)\n",
    "    df.loc[i, \"cmd\"] = cmd"
   ]
  },
  {
   "cell_type": "code",
   "execution_count": 10,
   "metadata": {},
   "outputs": [
    {
     "name": "stdout",
     "output_type": "stream",
     "text": [
      "itksnap -g /media/smbshare/3Tpioneer_bids/sub-ms2146/ses-20191017/t1.nii.gz -o /media/smbshare/3Tpioneer_bids/sub-ms2146/ses-20191017/t1_gd.nii.gz /media/smbshare/3Tpioneer_bids/sub-ms2146/ses-20191017/flair.nii.gz -s /media/smbshare/3Tpioneer_bids/sub-ms2146/ses-20191017/pineal-SRS.nii.gz /media/smbshare/3Tpioneer_bids/sub-ms2146/ses-20191017/pineal-SRS_T1.nii.gz\n"
     ]
    }
   ],
   "source": [
    "sub = 2146\n",
    "cmd = df.loc[sub, \"cmd\"]\n",
    "print(cmd)\n",
    "pyperclip.copy(cmd)"
   ]
  }
 ],
 "metadata": {
  "kernelspec": {
   "display_name": "monai",
   "language": "python",
   "name": "python3"
  },
  "language_info": {
   "codemirror_mode": {
    "name": "ipython",
    "version": 3
   },
   "file_extension": ".py",
   "mimetype": "text/x-python",
   "name": "python",
   "nbconvert_exporter": "python",
   "pygments_lexer": "ipython3",
   "version": "3.12.7"
  }
 },
 "nbformat": 4,
 "nbformat_minor": 2
}
