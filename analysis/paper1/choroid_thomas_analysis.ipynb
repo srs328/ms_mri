{
 "cells": [
  {
   "cell_type": "code",
   "execution_count": 13,
   "id": "1cd9fb0a",
   "metadata": {},
   "outputs": [],
   "source": [
    "import matplotlib.pyplot as plt\n",
    "import pandas as pd\n",
    "from pathlib import Path\n",
    "import numpy as np\n",
    "import seaborn as sns\n",
    "import statsmodels.api as sm\n",
    "from scipy import stats\n",
    "import os\n",
    "from reload_recursive import reload_recursive\n",
    "from pyprocessmacro import Process\n",
    "from statsmodels.stats.mediation import Mediation\n",
    "from statsmodels.miscmodels.ordinal_model import OrderedModel\n",
    "import sys\n",
    "import re\n",
    "\n",
    "from mri_data import file_manager as fm\n",
    "import helpers"
   ]
  },
  {
   "cell_type": "code",
   "execution_count": 2,
   "id": "94b98cf1",
   "metadata": {},
   "outputs": [],
   "source": [
    "reload_recursive(helpers)"
   ]
  },
  {
   "cell_type": "markdown",
   "id": "bfb4fb8f",
   "metadata": {},
   "source": [
    "### Paths and Config"
   ]
  },
  {
   "cell_type": "code",
   "execution_count": 3,
   "id": "f85caf6d",
   "metadata": {},
   "outputs": [],
   "source": [
    "drive_root = fm.get_drive_root()\n",
    "msmri_home = Path(\"/home/srs-9/Projects/ms_mri\")\n",
    "msmri_datadir = msmri_home / \"data\"\n",
    "curr_dir = Path(os.getcwd())\n",
    "data_dir = curr_dir / \"data0\"\n",
    "showfigs = False\n",
    "pd.options.display.precision = 3\n",
    "colors = helpers.get_colors()"
   ]
  },
  {
   "cell_type": "markdown",
   "id": "f0de1a7c",
   "metadata": {},
   "source": [
    "### Load and Prepare Data"
   ]
  },
  {
   "cell_type": "code",
   "execution_count": 26,
   "id": "034920a9",
   "metadata": {},
   "outputs": [],
   "source": [
    "df_thomas = pd.read_csv(data_dir / \"hipsthomas_vols.csv\", index_col=\"subid\")\n",
    "new_colnames = {}\n",
    "for col in df_thomas.columns:\n",
    "    new_col = re.sub(r\"(\\d+)-(\\w+)\", r\"\\2_\\1\", col)\n",
    "    new_col = re.sub(\"-\", \"_\", new_col)\n",
    "    new_colnames[col] = new_col\n",
    "\n",
    "df_thomas = df_thomas.rename(columns=new_colnames)\n",
    "df_thomas_z = df_thomas.apply(stats.zscore, nan_policy=\"omit\")"
   ]
  },
  {
   "cell_type": "code",
   "execution_count": null,
   "id": "261e65ff",
   "metadata": {},
   "outputs": [],
   "source": [
    "df = pd.read_csv(data_dir / \"t1_aschoplex_data_full.csv\", index_col=\"subid\")\n",
    "df_full = df.copy()\n",
    "df_tmp = pd.read_csv(data_dir / \"t1_data_full.csv\", index_col=\"subid\")\n",
    "df['pineal_volume'] = df_tmp['pineal_volume']\n",
    "df['pituitary_volume'] = df_tmp['pituitary_volume']\n",
    "\n",
    "df = helpers.get_mri_edss_delta(df)\n",
    "\n",
    "keep_cols = [\n",
    "    \"subject\",\n",
    "    \"age\",\n",
    "    \"sex\",\n",
    "    \"ms_type\",\n",
    "    \"dzdur\",\n",
    "    \"extracted_EDSS\",\n",
    "    \"MSSS\",\n",
    "    \"gMSSS\",\n",
    "    \"ARMSS\",\n",
    "    \"edss_mri_delta\",\n",
    "    \"edss_date_closest\",\n",
    "    \"mri_date_closest\",\n",
    "    \"DMT_score\",\n",
    "    \"DMT_hx_all\",\n",
    "    \"TER\",\n",
    "    \"DMF\",\n",
    "    \"NAT\",\n",
    "    \"INF\",\n",
    "    \"flair_contrast\",\n",
    "    \"thalamus\",\n",
    "    \"brain\",\n",
    "    \"white\",\n",
    "    \"grey\",\n",
    "    \"cortical_thickness\",\n",
    "    \"lesion_count\",\n",
    "    \"lesion_vol_cubic\",\n",
    "    \"PRL\",\n",
    "    \"tiv\",\n",
    "    \"choroid_volume\",\n",
    "    \"pineal_volume\", \n",
    "    \"pituitary_volume\"\n",
    "]\n",
    "df = df.loc[:, keep_cols]\n",
    "\n",
    "df = helpers.set_dz_type5(df)\n",
    "df = helpers.set_dz_type3(df)\n",
    "df = helpers.set_dz_type2(df)\n",
    "df = helpers.fix_edss(df)\n",
    "df = helpers.clean_df(df)\n",
    "df = helpers.set_has_prl(df)\n",
    "df = helpers.norm_volumes(df)\n",
    "\n",
    "df.rename(columns={\"lesion_vol_cubic\": \"t2lv\"}, inplace=True)\n",
    "df = df.rename(columns={\"extracted_EDSS\": \"EDSS\"})\n",
    "\n",
    "df = helpers.do_sqrt_transform(df, [\"EDSS\", \"MSSS\", \"ARMSS\", \"gMSSS\"])\n",
    "df = helpers.do_log_transform(df, [\"t2lv\"])\n",
    "\n",
    "vars_to_center = [\"EDSS_sqrt\", \"t2lv_logtrans\", \"t2lv\", \"dzdur\", \"choroid_volume\", \"PRL\"]\n",
    "df = helpers.do_center(df, vars_to_center)\n",
    "\n",
    "vars_to_scale = [\n",
    "    \"age\",\n",
    "    \"dzdur\",\n",
    "    \"lesion_count\",\n",
    "    \"t2lv\",\n",
    "    \"t2lv_logtrans\",\n",
    "    \"PRL\",\n",
    "    \"tiv\",\n",
    "    \"choroid_volume\",\n",
    "    \"thalamus\"\n",
    "]\n",
    "df = helpers.do_scale(df, vars_to_scale)\n",
    "\n",
    "numeric_vars = [\n",
    "    \"age\",\n",
    "    \"dzdur\",\n",
    "    \"Female\",\n",
    "    \"EDSS\", \"EDSS_sqrt\",\n",
    "    \"MSSS\", \"MSSS_sqrt\",\n",
    "    \"gMSSS\", \"gMSSS_sqrt\",\n",
    "    \"ARMSS\", \"ARMSS_sqrt\",\n",
    "    \"edss_mri_delta\",\n",
    "    \"DMT_score\",\n",
    "    \"DMT_hx_all\",\n",
    "    \"TER\",\n",
    "    \"DMF\",\n",
    "    \"NAT\",\n",
    "    \"INF\",\n",
    "    \"thalamus\",\n",
    "    \"brain\",\n",
    "    \"white\",\n",
    "    \"grey\",\n",
    "    \"cortical_thickness\",\n",
    "    \"lesion_count\",\n",
    "    \"t2lv\", \"t2lv_logtrans\",\n",
    "    \"PRL\",\n",
    "    \"tiv\",\n",
    "    \"choroid_volume\",\n",
    "    \"norm_choroid_volume\",\n",
    "    \"pineal_volume\",\n",
    "    \"pituitary_volume\"\n",
    "]\n",
    "\n",
    "for var in numeric_vars:\n",
    "    df[var] = df[var].astype(\"float\")\n",
    "\n",
    "df_ms = df.loc[df['dz_type2'] == \"MS\"]\n",
    "df_scale = df.copy() #temporary till I rename df_scale everywehre\n",
    "df_scale_ms = df_scale.loc[df['dz_type2'] == \"MS\"]\n",
    "\n",
    "df_z = df[numeric_vars].astype(\"float\")\n",
    "df_z[df.columns[~df.columns.isin(numeric_vars)]] = df[df.columns[~df.columns.isin(numeric_vars)]]\n",
    "df_z = df_z[df.columns]\n",
    "df_z[numeric_vars] = df_z[numeric_vars].apply(stats.zscore, nan_policy=\"omit\")\n",
    "\n",
    "# delete these vars once I fix all future variable references\n",
    "data = df[numeric_vars].astype(\"float\")\n",
    "data_z = data[numeric_vars].apply(stats.zscore, nan_policy=\"omit\")\n",
    "\n",
    "data_ms = df.loc[df[\"dz_type5\"].isin([\"RMS\", \"PMS\"]), :]\n",
    "data_ms = data_ms[numeric_vars].astype(\"float\")\n",
    "data_ms_z = data_ms[numeric_vars].apply(stats.zscore, nan_policy=\"omit\")"
   ]
  },
  {
   "cell_type": "code",
   "execution_count": 29,
   "id": "75e5b75d",
   "metadata": {},
   "outputs": [
    {
     "name": "stdout",
     "output_type": "stream",
     "text": [
      "             coef      pvals      p_fdr\n",
      "Pul_8      -0.427  2.542e-24  3.417e-23\n",
      "MD_12_Pf   -0.425  3.106e-24  3.417e-23\n",
      "THALAMUS_1 -0.388  6.512e-23  4.775e-22\n",
      "CM_11      -0.363  1.207e-18  6.641e-18\n",
      "LGN_9      -0.360  7.602e-15  2.787e-14\n",
      "MGN_10     -0.329  4.997e-16  2.199e-15\n",
      "Cla_28     -0.295  8.555e-14  2.689e-13\n",
      "VPL_7      -0.247  4.727e-09  1.300e-08\n",
      "AV_2       -0.228  1.171e-07  2.342e-07\n",
      "Acc_26     -0.220  3.502e-08  8.562e-08\n",
      "Put_31     -0.210  4.706e-08  1.035e-07\n",
      "VLP_6      -0.210  1.368e-07  2.508e-07\n",
      "Hb_13      -0.201  2.096e-05  3.294e-05\n",
      "RN_32      -0.195  3.324e-07  5.625e-07\n",
      "GPe_29     -0.089  2.461e-02  3.610e-02\n",
      "GP_33      -0.084  3.264e-02  4.488e-02\n",
      "VLa_5      -0.078  4.736e-02  5.840e-02\n",
      "VA_4       -0.075  4.778e-02  5.840e-02\n",
      "Amy_34     -0.059  2.051e-01  2.324e-01\n",
      "GPi_30     -0.052  2.112e-01  2.324e-01\n",
      "Cau_27     -0.049  2.286e-01  2.395e-01\n",
      "MTT_14      0.027  5.296e-01  5.296e-01\n"
     ]
    }
   ],
   "source": [
    "model_data = df_z.join(df_thomas_z)\n",
    "outcomes = df_thomas.columns\n",
    "covariates = \"age + Female + tiv\"\n",
    "\n",
    "pvals = {}\n",
    "coefs = {}\n",
    "\n",
    "for outcome in outcomes:\n",
    "    formula = f\"{outcome} ~ choroid_volume + {covariates}\"\n",
    "    res = sm.OLS.from_formula(formula, data=model_data).fit()\n",
    "    pvals[outcome] = res.pvalues['choroid_volume']\n",
    "    coefs[outcome] = res.params['choroid_volume']\n",
    "\n",
    "regression_results = pd.DataFrame({\"coef\": coefs, \"pvals\": pvals})\n",
    "regression_results['p_fdr'] = stats.false_discovery_control(regression_results['pvals'], method='bh')\n",
    "regression_results = regression_results.sort_values(by=\"coef\", ascending=True)\n",
    "print(regression_results)"
   ]
  },
  {
   "cell_type": "code",
   "execution_count": 37,
   "id": "3d393100",
   "metadata": {},
   "outputs": [],
   "source": [
    "from sklearn.linear_model import Lasso\n",
    "from sklearn.model_selection import train_test_split\n",
    "from sklearn.metrics import mean_squared_error\n",
    "from sklearn.impute import SimpleImputer\n",
    "import numpy as np"
   ]
  },
  {
   "cell_type": "code",
   "execution_count": 41,
   "id": "63428dc5",
   "metadata": {},
   "outputs": [
    {
     "name": "stdout",
     "output_type": "stream",
     "text": [
      "Mean Squared Error: 0.8716967830986361\n",
      "Coefficients: [-0.          0.          0.          0.          0.         -0.11244972\n",
      " -0.00559917 -0.01333803 -0.         -0.26050745 -0.          0.12708231\n",
      " -0.          0.         -0.          0.          0.          0.\n",
      " -0.          0.          0.00116607]\n"
     ]
    }
   ],
   "source": [
    "# X = df_thomas_z[df_thomas_z.columns[~df_thomas_z.columns.isin([\"THALAMUS_1\"])]]\n",
    "# y = df_z['choroid_volume']\n",
    "# imputer = SimpleImputer(missing_values=np.nan, strategy='mean')\n",
    "# imputer.fit(y)\n",
    "# y = imputer.transform(y)\n",
    "# imputer.fit(X)\n",
    "# X = imputer.transform(X)\n",
    "\n",
    "data = df_thomas_z.join(df_z['choroid_volume'])\n",
    "data = data.dropna()\n",
    "X = data[df_thomas_z.columns[~df_thomas_z.columns.isin([\"THALAMUS_1\"])]]\n",
    "y = data['choroid_volume']\n",
    "\n",
    "\n",
    "\n",
    "X_train, X_test, y_train, y_test = train_test_split(X, y, test_size=0.2, random_state=42)\n",
    "\n",
    "# Create a Lasso Regression model with a specific alpha (regularization strength)\n",
    "alpha = 0.1  # Adjust alpha as needed\n",
    "lasso = Lasso(alpha=alpha)\n",
    "\n",
    "# Train the model\n",
    "lasso.fit(X_train, y_train)\n",
    "\n",
    "# Make predictions on the test set\n",
    "y_pred = lasso.predict(X_test)\n",
    "\n",
    "# Evaluate the model\n",
    "mse = mean_squared_error(y_test, y_pred)\n",
    "print(f\"Mean Squared Error: {mse}\")\n",
    "\n",
    "# Print the coefficients (note that some may be zero)\n",
    "print(\"Coefficients:\", lasso.coef_)"
   ]
  },
  {
   "cell_type": "code",
   "execution_count": 47,
   "id": "c5336f4e",
   "metadata": {},
   "outputs": [
    {
     "data": {
      "application/vnd.microsoft.datawrangler.viewer.v0+json": {
       "columns": [
        {
         "name": "index",
         "rawType": "object",
         "type": "string"
        },
        {
         "name": "coef",
         "rawType": "float64",
         "type": "float"
        },
        {
         "name": "abs",
         "rawType": "float64",
         "type": "float"
        }
       ],
       "conversionMethod": "pd.DataFrame",
       "ref": "f1f8753b-6b94-4ecd-bb99-db8a24442b18",
       "rows": [
        [
         "MD_12_Pf",
         "-0.2605074525153062",
         "0.2605074525153062"
        ],
        [
         "MTT_14",
         "0.12708230865552042",
         "0.12708230865552042"
        ],
        [
         "Pul_8",
         "-0.11244972053218362",
         "0.11244972053218362"
        ],
        [
         "MGN_10",
         "-0.013338031737111207",
         "0.013338031737111207"
        ],
        [
         "LGN_9",
         "-0.005599174271832722",
         "0.005599174271832722"
        ],
        [
         "Amy_34",
         "0.001166070559733557",
         "0.001166070559733557"
        ],
        [
         "VPL_7",
         "0.0",
         "0.0"
        ],
        [
         "VLa_5",
         "0.0",
         "0.0"
        ],
        [
         "VA_4",
         "0.0",
         "0.0"
        ],
        [
         "AV_2",
         "-0.0",
         "0.0"
        ],
        [
         "VLP_6",
         "0.0",
         "0.0"
        ],
        [
         "Hb_13",
         "-0.0",
         "0.0"
        ],
        [
         "CM_11",
         "-0.0",
         "0.0"
        ],
        [
         "Acc_26",
         "-0.0",
         "0.0"
        ],
        [
         "Cau_27",
         "0.0",
         "0.0"
        ],
        [
         "GPe_29",
         "0.0",
         "0.0"
        ],
        [
         "Cla_28",
         "-0.0",
         "0.0"
        ],
        [
         "GPi_30",
         "0.0",
         "0.0"
        ],
        [
         "Put_31",
         "0.0",
         "0.0"
        ],
        [
         "RN_32",
         "-0.0",
         "0.0"
        ],
        [
         "GP_33",
         "0.0",
         "0.0"
        ]
       ],
       "shape": {
        "columns": 2,
        "rows": 21
       }
      },
      "text/html": [
       "<div>\n",
       "<style scoped>\n",
       "    .dataframe tbody tr th:only-of-type {\n",
       "        vertical-align: middle;\n",
       "    }\n",
       "\n",
       "    .dataframe tbody tr th {\n",
       "        vertical-align: top;\n",
       "    }\n",
       "\n",
       "    .dataframe thead th {\n",
       "        text-align: right;\n",
       "    }\n",
       "</style>\n",
       "<table border=\"1\" class=\"dataframe\">\n",
       "  <thead>\n",
       "    <tr style=\"text-align: right;\">\n",
       "      <th></th>\n",
       "      <th>coef</th>\n",
       "      <th>abs</th>\n",
       "    </tr>\n",
       "  </thead>\n",
       "  <tbody>\n",
       "    <tr>\n",
       "      <th>MD_12_Pf</th>\n",
       "      <td>-0.261</td>\n",
       "      <td>0.261</td>\n",
       "    </tr>\n",
       "    <tr>\n",
       "      <th>MTT_14</th>\n",
       "      <td>0.127</td>\n",
       "      <td>0.127</td>\n",
       "    </tr>\n",
       "    <tr>\n",
       "      <th>Pul_8</th>\n",
       "      <td>-0.112</td>\n",
       "      <td>0.112</td>\n",
       "    </tr>\n",
       "    <tr>\n",
       "      <th>MGN_10</th>\n",
       "      <td>-0.013</td>\n",
       "      <td>0.013</td>\n",
       "    </tr>\n",
       "    <tr>\n",
       "      <th>LGN_9</th>\n",
       "      <td>-0.006</td>\n",
       "      <td>0.006</td>\n",
       "    </tr>\n",
       "    <tr>\n",
       "      <th>Amy_34</th>\n",
       "      <td>0.001</td>\n",
       "      <td>0.001</td>\n",
       "    </tr>\n",
       "    <tr>\n",
       "      <th>VPL_7</th>\n",
       "      <td>0.000</td>\n",
       "      <td>0.000</td>\n",
       "    </tr>\n",
       "    <tr>\n",
       "      <th>VLa_5</th>\n",
       "      <td>0.000</td>\n",
       "      <td>0.000</td>\n",
       "    </tr>\n",
       "    <tr>\n",
       "      <th>VA_4</th>\n",
       "      <td>0.000</td>\n",
       "      <td>0.000</td>\n",
       "    </tr>\n",
       "    <tr>\n",
       "      <th>AV_2</th>\n",
       "      <td>-0.000</td>\n",
       "      <td>0.000</td>\n",
       "    </tr>\n",
       "    <tr>\n",
       "      <th>VLP_6</th>\n",
       "      <td>0.000</td>\n",
       "      <td>0.000</td>\n",
       "    </tr>\n",
       "    <tr>\n",
       "      <th>Hb_13</th>\n",
       "      <td>-0.000</td>\n",
       "      <td>0.000</td>\n",
       "    </tr>\n",
       "    <tr>\n",
       "      <th>CM_11</th>\n",
       "      <td>-0.000</td>\n",
       "      <td>0.000</td>\n",
       "    </tr>\n",
       "    <tr>\n",
       "      <th>Acc_26</th>\n",
       "      <td>-0.000</td>\n",
       "      <td>0.000</td>\n",
       "    </tr>\n",
       "    <tr>\n",
       "      <th>Cau_27</th>\n",
       "      <td>0.000</td>\n",
       "      <td>0.000</td>\n",
       "    </tr>\n",
       "    <tr>\n",
       "      <th>GPe_29</th>\n",
       "      <td>0.000</td>\n",
       "      <td>0.000</td>\n",
       "    </tr>\n",
       "    <tr>\n",
       "      <th>Cla_28</th>\n",
       "      <td>-0.000</td>\n",
       "      <td>0.000</td>\n",
       "    </tr>\n",
       "    <tr>\n",
       "      <th>GPi_30</th>\n",
       "      <td>0.000</td>\n",
       "      <td>0.000</td>\n",
       "    </tr>\n",
       "    <tr>\n",
       "      <th>Put_31</th>\n",
       "      <td>0.000</td>\n",
       "      <td>0.000</td>\n",
       "    </tr>\n",
       "    <tr>\n",
       "      <th>RN_32</th>\n",
       "      <td>-0.000</td>\n",
       "      <td>0.000</td>\n",
       "    </tr>\n",
       "    <tr>\n",
       "      <th>GP_33</th>\n",
       "      <td>0.000</td>\n",
       "      <td>0.000</td>\n",
       "    </tr>\n",
       "  </tbody>\n",
       "</table>\n",
       "</div>"
      ],
      "text/plain": [
       "           coef    abs\n",
       "MD_12_Pf -0.261  0.261\n",
       "MTT_14    0.127  0.127\n",
       "Pul_8    -0.112  0.112\n",
       "MGN_10   -0.013  0.013\n",
       "LGN_9    -0.006  0.006\n",
       "Amy_34    0.001  0.001\n",
       "VPL_7     0.000  0.000\n",
       "VLa_5     0.000  0.000\n",
       "VA_4      0.000  0.000\n",
       "AV_2     -0.000  0.000\n",
       "VLP_6     0.000  0.000\n",
       "Hb_13    -0.000  0.000\n",
       "CM_11    -0.000  0.000\n",
       "Acc_26   -0.000  0.000\n",
       "Cau_27    0.000  0.000\n",
       "GPe_29    0.000  0.000\n",
       "Cla_28   -0.000  0.000\n",
       "GPi_30    0.000  0.000\n",
       "Put_31    0.000  0.000\n",
       "RN_32    -0.000  0.000\n",
       "GP_33     0.000  0.000"
      ]
     },
     "execution_count": 47,
     "metadata": {},
     "output_type": "execute_result"
    }
   ],
   "source": [
    "check = pd.DataFrame({\"coef\": lasso.coef_}, index=X.columns)\n",
    "check['abs'] = check['coef'].abs()\n",
    "check = check.sort_values(by=\"abs\", ascending=False)\n",
    "check"
   ]
  },
  {
   "cell_type": "code",
   "execution_count": 39,
   "id": "62b9798b",
   "metadata": {},
   "outputs": [
    {
     "data": {
      "text/plain": [
       "Index(['AV_2', 'VA_4', 'VLa_5', 'VLP_6', 'VPL_7', 'Pul_8', 'LGN_9', 'MGN_10',\n",
       "       'CM_11', 'MD_12_Pf', 'Hb_13', 'MTT_14', 'Acc_26', 'Cau_27', 'Cla_28',\n",
       "       'GPe_29', 'GPi_30', 'Put_31', 'RN_32', 'GP_33', 'Amy_34'],\n",
       "      dtype='object')"
      ]
     },
     "execution_count": 39,
     "metadata": {},
     "output_type": "execute_result"
    }
   ],
   "source": [
    "df_thomas_z.columns[~df_thomas_z.columns.isin([\"THALAMUS_1\"])]"
   ]
  }
 ],
 "metadata": {
  "kernelspec": {
   "display_name": "monai",
   "language": "python",
   "name": "python3"
  },
  "language_info": {
   "codemirror_mode": {
    "name": "ipython",
    "version": 3
   },
   "file_extension": ".py",
   "mimetype": "text/x-python",
   "name": "python",
   "nbconvert_exporter": "python",
   "pygments_lexer": "ipython3",
   "version": "3.12.7"
  }
 },
 "nbformat": 4,
 "nbformat_minor": 5
}
