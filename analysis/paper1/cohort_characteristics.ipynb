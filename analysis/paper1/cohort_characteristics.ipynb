{
 "cells": [
  {
   "cell_type": "code",
   "execution_count": 1,
   "metadata": {},
   "outputs": [],
   "source": [
    "import matplotlib.pyplot as plt\n",
    "import pandas as pd\n",
    "from pathlib import Path\n",
    "import numpy as np\n",
    "import re\n",
    "import seaborn as sns\n",
    "import statsmodels.api as sm\n",
    "from statsmodels.formula.api import ols\n",
    "from scipy.stats import mannwhitneyu \n",
    "\n",
    "from mri_data import file_manager as fm"
   ]
  },
  {
   "cell_type": "code",
   "execution_count": 2,
   "metadata": {},
   "outputs": [],
   "source": [
    "drive_root = fm.get_drive_root()\n",
    "msmri_home = Path(\"/home/srs-9/Projects/ms_mri\")\n",
    "msmri_datadir = msmri_home / \"data\"\n",
    "curr_dir = msmri_home / \"monai_analysis\" / \"choroid_pineal_pituitary_T1-1\""
   ]
  },
  {
   "cell_type": "markdown",
   "metadata": {},
   "source": [
    "## Data Cleaning"
   ]
  },
  {
   "cell_type": "markdown",
   "metadata": {},
   "source": [
    "Load volume dataset"
   ]
  },
  {
   "cell_type": "code",
   "execution_count": 3,
   "metadata": {},
   "outputs": [],
   "source": [
    "df_vols = pd.read_csv(curr_dir / \"clinical_data_full.csv\")\n",
    "df_vols = df_vols.set_index(\"subid\")\n",
    "keep_cols = [\n",
    "    \"choroid_volume\",\n",
    "    \"pineal_volume\",\n",
    "    \"pituitary_volume\",\n",
    "    \"tiv\",\n",
    "    \"flair_contrast\",\n",
    "    \"label\",\n",
    "    \"scan_folder\",\n",
    "    \"age\",\n",
    "]\n",
    "\n",
    "not_nas = (\n",
    "    ~df_vols[\"pineal_volume\"].isna()\n",
    "    & ~df_vols[\"choroid_volume\"].isna()\n",
    "    & ~df_vols[\"pituitary_volume\"].isna()\n",
    ")\n",
    "df_vols = df_vols.loc[not_nas, keep_cols]"
   ]
  },
  {
   "cell_type": "code",
   "execution_count": 4,
   "metadata": {},
   "outputs": [],
   "source": [
    "def subject_to_subid(subject):\n",
    "    if not isinstance(subject, str):\n",
    "        return None\n",
    "    re_match = re.match(r\"ms(\\d{4})\", subject)\n",
    "    if re_match:\n",
    "        return_val = int(re_match[1])\n",
    "        return return_val\n",
    "    else:\n",
    "        return None"
   ]
  },
  {
   "cell_type": "code",
   "execution_count": 5,
   "metadata": {},
   "outputs": [],
   "source": [
    "df_full = pd.read_csv(msmri_datadir / \"Clinical_Data_All_updated.csv\")\n",
    "df_full.insert(0, \"subid\", df_full[\"ID\"].map(subject_to_subid))\n",
    "df_full = df_full.set_index(\"subid\")\n",
    "\n",
    "df = pd.merge(\n",
    "    df_vols,\n",
    "    df_full.loc[:, ~df_full.columns.isin(df_vols.columns)],\n",
    "    how=\"outer\",\n",
    "    on=\"subid\",\n",
    ")\n",
    "\n",
    "df.loc[:, \"extracted_EDSS\"] = [\n",
    "    float(val) if val != \".\" else None for val in df[\"extracted_EDSS\"]\n",
    "]  #! figure out what to do with \".\"\n",
    "df.loc[:, [\"EDSS\"]] = pd.Categorical(df[\"extracted_EDSS\"], ordered=True)\n",
    "df.loc[df[\"PRL\"] == \"#VALUE!\", \"PRL\"] = None\n",
    "df.loc[:, \"PRL\"] = [\n",
    "    int(val) if val != \"#VALUE!\" and val is not None else None for val in df[\"PRL\"]\n",
    "]\n",
    "df.loc[df[\"dzdur\"] == \"#VALUE!\", \"dzdur\"] = None"
   ]
  },
  {
   "cell_type": "code",
   "execution_count": 6,
   "metadata": {},
   "outputs": [],
   "source": [
    "prl_levels = [range(0, 1), range(1, 3), range(3, 5), range(5, df[\"PRL\"].max() + 1)]\n",
    "df.loc[:, [\"PRL_LEVEL\"]] = None\n",
    "for i, level in enumerate(prl_levels):\n",
    "    df.loc[df[\"PRL\"].isin(level), [\"PRL_LEVEL\"]] = i\n",
    "df.loc[:, [\"PRL_LEVEL\"]] = pd.Categorical(df[\"PRL_LEVEL\"], ordered=True)\n",
    "\n",
    "prl_levels = [range(0, 1), range(1, 4), range(4, df[\"PRL\"].max() + 1)]\n",
    "df.loc[:, [\"PRL_LEVEL2\"]] = None\n",
    "for i, level in enumerate(prl_levels):\n",
    "    df.loc[df[\"PRL\"].isin(level), [\"PRL_LEVEL2\"]] = i\n",
    "df.loc[:, [\"PRL_LEVEL2\"]] = pd.Categorical(df[\"PRL_LEVEL2\"], ordered=True)\n",
    "\n",
    "prl_levels = [range(0, 1), range(1, df[\"PRL\"].max() + 1)]\n",
    "df.loc[:, [\"IS_PRL\"]] = None\n",
    "for i, level in enumerate(prl_levels):\n",
    "    df.loc[df[\"PRL\"].isin(level), [\"IS_PRL\"]] = i\n",
    "df.loc[:, [\"IS_PRL\"]] = pd.Categorical(df[\"IS_PRL\"], ordered=True)"
   ]
  },
  {
   "cell_type": "code",
   "execution_count": 11,
   "metadata": {},
   "outputs": [],
   "source": [
    "df.loc[df[\"extracted_EDSS\"] == \".\", \"extracted_EDSS\"] = None"
   ]
  },
  {
   "cell_type": "code",
   "execution_count": 7,
   "metadata": {},
   "outputs": [
    {
     "name": "stdout",
     "output_type": "stream",
     "text": [
      "['RMS' 'PMS' 'NIND' 'UNK' 'HC' 'OIND' 'RIS']\n"
     ]
    }
   ],
   "source": [
    "try:\n",
    "    df.insert(18, \"dz_type5\", df[\"ms_type\"])\n",
    "except Exception:\n",
    "    pass\n",
    "\n",
    "df.loc[:, \"dz_type5\"] = df[\"ms_type\"]\n",
    "\n",
    "df.loc[df[\"ms_type\"].isin([\"CIS\", \"RRMS\"]), \"dz_type5\"] = \"RMS\"\n",
    "df.loc[df[\"ms_type\"].isin([\"PPMS\", \"SPMS\", \"RPMS\", \"PRMS\"]), \"dz_type5\"] = \"PMS\"\n",
    "# df.loc[(df['dz_type5'] == \"NIND\") & (df['subtype'].map(check_nind2)), \"dz_type5\"] = \"HC\"\n",
    "print(df[\"dz_type5\"].unique())"
   ]
  },
  {
   "cell_type": "code",
   "execution_count": 9,
   "metadata": {},
   "outputs": [],
   "source": [
    "def mean_sd(df, column, cond=None):\n",
    "    if cond is None:\n",
    "        cond = (df.index.isin(df.index))\n",
    "    \n",
    "    return df.loc[cond, column].mean(), df.loc[cond, column].std()"
   ]
  },
  {
   "cell_type": "code",
   "execution_count": 27,
   "metadata": {},
   "outputs": [],
   "source": [
    "def percent_cat(df, column, cat, cond=None):\n",
    "    if cond is None:\n",
    "        cond = (df.index.isin(df.index))\n",
    "    \n",
    "    return sum(cond(df) & (df[column] == cat)) / len(df[cond(df)])"
   ]
  },
  {
   "cell_type": "code",
   "execution_count": 19,
   "metadata": {},
   "outputs": [],
   "source": [
    "def rms_cond(df):\n",
    "    return df['dz_type5']==\"RMS\"\n",
    "\n",
    "def pms_cond(df):\n",
    "    return df['dz_type5']==\"PMS\"\n",
    "\n",
    "def oind_cond(df):\n",
    "    return df['dz_type5']==\"OIND\"\n",
    "\n",
    "def nind_cond(df):\n",
    "    return df['dz_type5']==\"NIND\""
   ]
  },
  {
   "cell_type": "code",
   "execution_count": 46,
   "metadata": {},
   "outputs": [
    {
     "name": "stdout",
     "output_type": "stream",
     "text": [
      "Age\n",
      "---\n",
      "RMS:  44.64 ± 11.94\n",
      "PMS:  58.24 ± 9.35\n",
      "NIND: 48.93 ± 11.78\n",
      "OIND: 51.60 ± 11.60\n",
      "\n",
      "\n",
      "Sex, Female\n",
      "-----------\n",
      "RMS:  0.84\n",
      "PMS:  0.59\n",
      "NIND: 0.82\n",
      "OIND: 0.80\n",
      "\n",
      "\n",
      "EDSS\n",
      "----\n",
      "RMS:  2.16 ± 1.48\n",
      "PMS:  4.89 ± 1.92\n",
      "NIND: 2.50 ± 1.75\n",
      "OIND: 2.57 ± 1.71\n",
      "\n",
      "\n",
      "TIV\n",
      "----\n",
      "RMS:  1493321.35 ± 130080.31\n",
      "PMS:  1506403.56 ± 132494.95\n",
      "NIND: 1536062.90 ± 151071.44\n",
      "OIND: 1512073.80 ± 139567.19\n",
      "\n",
      "\n",
      "lesion_vol_cubic\n",
      "----------------\n",
      "RMS:  1.57 ± 0.93\n",
      "PMS:  2.02 ± 0.93\n",
      "NIND: 1.36 ± 0.81\n",
      "OIND: 1.19 ± 0.52\n",
      "\n",
      "\n",
      "PRL\n",
      "----------------\n",
      "RMS:  0.96 ± 1.91\n",
      "PMS:  0.65 ± 1.24\n",
      "NIND: 0.02 ± 0.14\n",
      "OIND: 0.05 ± 0.31\n"
     ]
    }
   ],
   "source": [
    "print(\"Age\\n---\")\n",
    "print(\"RMS:  {:0.2f} ± {:0.2f}\".format(*mean_sd(df, \"age\", cond=rms_cond)))\n",
    "print(\"PMS:  {:0.2f} ± {:0.2f}\".format(*mean_sd(df, \"age\", cond=pms_cond)))\n",
    "print(\"NIND: {:0.2f} ± {:0.2f}\".format(*mean_sd(df, \"age\", cond=nind_cond)))\n",
    "print(\"OIND: {:0.2f} ± {:0.2f}\".format(*mean_sd(df, \"age\", cond=oind_cond)))\n",
    "\n",
    "print(\"\\n\")\n",
    "\n",
    "print(\"Sex, Female\\n-----------\")\n",
    "print(\"RMS:  {:0.2f}\".format(percent_cat(df, \"sex\", \"Female\", cond=rms_cond)))\n",
    "print(\"PMS:  {:0.2f}\".format(percent_cat(df, \"sex\", \"Female\", cond=pms_cond)))\n",
    "print(\"NIND: {:0.2f}\".format(percent_cat(df, \"sex\", \"Female\", cond=nind_cond)))\n",
    "print(\"OIND: {:0.2f}\".format(percent_cat(df, \"sex\", \"Female\", cond=oind_cond)))\n",
    "\n",
    "print(\"\\n\")\n",
    "\n",
    "print(\"EDSS\\n----\")\n",
    "print(\"RMS:  {:0.2f} ± {:0.2f}\".format(*mean_sd(df, \"extracted_EDSS\", cond=rms_cond)))\n",
    "print(\"PMS:  {:0.2f} ± {:0.2f}\".format(*mean_sd(df, \"extracted_EDSS\", cond=pms_cond)))\n",
    "print(\"NIND: {:0.2f} ± {:0.2f}\".format(*mean_sd(df, \"extracted_EDSS\", cond=nind_cond)))\n",
    "print(\"OIND: {:0.2f} ± {:0.2f}\".format(*mean_sd(df, \"extracted_EDSS\", cond=oind_cond)))\n",
    "\n",
    "print(\"\\n\")\n",
    "\n",
    "print(\"TIV\\n----\")\n",
    "print(\"RMS:  {:0.2f} ± {:0.2f}\".format(*mean_sd(df, \"tiv\", cond=rms_cond)))\n",
    "print(\"PMS:  {:0.2f} ± {:0.2f}\".format(*mean_sd(df, \"tiv\", cond=pms_cond)))\n",
    "print(\"NIND: {:0.2f} ± {:0.2f}\".format(*mean_sd(df, \"tiv\", cond=nind_cond)))\n",
    "print(\"OIND: {:0.2f} ± {:0.2f}\".format(*mean_sd(df, \"tiv\", cond=oind_cond)))\n",
    "\n",
    "print(\"\\n\")\n",
    "\n",
    "print(\"lesion_vol_cubic\\n----------------\")\n",
    "print(\"RMS:  {:0.2f} ± {:0.2f}\".format(*mean_sd(df, \"lesion_vol_cubic\", cond=rms_cond)))\n",
    "print(\"PMS:  {:0.2f} ± {:0.2f}\".format(*mean_sd(df, \"lesion_vol_cubic\", cond=pms_cond)))\n",
    "print(\"NIND: {:0.2f} ± {:0.2f}\".format(*mean_sd(df, \"lesion_vol_cubic\", cond=nind_cond)))\n",
    "print(\"OIND: {:0.2f} ± {:0.2f}\".format(*mean_sd(df, \"lesion_vol_cubic\", cond=oind_cond)))\n",
    "\n",
    "print(\"\\n\")\n",
    "\n",
    "print(\"PRL\\n----------------\")\n",
    "print(\"RMS:  {:0.2f} ± {:0.2f}\".format(*mean_sd(df, \"PRL\", cond=rms_cond)))\n",
    "print(\"PMS:  {:0.2f} ± {:0.2f}\".format(*mean_sd(df, \"PRL\", cond=pms_cond)))\n",
    "print(\"NIND: {:0.2f} ± {:0.2f}\".format(*mean_sd(df, \"PRL\", cond=nind_cond)))\n",
    "print(\"OIND: {:0.2f} ± {:0.2f}\".format(*mean_sd(df, \"PRL\", cond=oind_cond)))"
   ]
  }
 ],
 "metadata": {
  "kernelspec": {
   "display_name": "monai",
   "language": "python",
   "name": "python3"
  },
  "language_info": {
   "codemirror_mode": {
    "name": "ipython",
    "version": 3
   },
   "file_extension": ".py",
   "mimetype": "text/x-python",
   "name": "python",
   "nbconvert_exporter": "python",
   "pygments_lexer": "ipython3",
   "version": "3.12.7"
  }
 },
 "nbformat": 4,
 "nbformat_minor": 2
}
