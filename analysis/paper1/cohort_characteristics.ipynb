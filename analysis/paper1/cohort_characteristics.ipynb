{
 "cells": [
  {
   "cell_type": "code",
   "execution_count": 1,
   "metadata": {},
   "outputs": [],
   "source": [
    "import matplotlib.pyplot as plt\n",
    "import pandas as pd\n",
    "from pathlib import Path\n",
    "import numpy as np\n",
    "import re\n",
    "import seaborn as sns\n",
    "import statsmodels.api as sm\n",
    "from statsmodels.formula.api import ols\n",
    "from scipy.stats import mannwhitneyu\n",
    "from scipy import stats\n",
    "import matplotlib.ticker as ticker\n",
    "import os\n",
    "from reload_recursive import reload_recursive\n",
    "import patsy\n",
    "from pyprocessmacro import Process\n",
    "from statsmodels.stats.mediation import Mediation\n",
    "from statsmodels.miscmodels.ordinal_model import OrderedModel\n",
    "from pingouin import mediation_analysis\n",
    "\n",
    "from mri_data import file_manager as fm\n",
    "import helpers"
   ]
  },
  {
   "cell_type": "code",
   "execution_count": 2,
   "metadata": {},
   "outputs": [],
   "source": [
    "reload_recursive(helpers)"
   ]
  },
  {
   "cell_type": "markdown",
   "metadata": {},
   "source": [
    "## Setup"
   ]
  },
  {
   "cell_type": "code",
   "execution_count": 3,
   "metadata": {},
   "outputs": [],
   "source": [
    "drive_root = fm.get_drive_root()\n",
    "msmri_home = Path(\"/home/srs-9/Projects/ms_mri\")\n",
    "msmri_datadir = msmri_home / \"data\"\n",
    "curr_dir = Path(os.getcwd())\n",
    "data_dir = curr_dir / \"data0\"\n",
    "showfigs = False\n",
    "# pd.set_option('display.float_format', lambda x: '%.3f' % x)\n",
    "pd.options.display.precision = 3\n",
    "colors = helpers.get_colors()"
   ]
  },
  {
   "cell_type": "code",
   "execution_count": 4,
   "metadata": {},
   "outputs": [],
   "source": [
    "df = pd.read_csv(data_dir / \"t1_data_full.csv\")"
   ]
  },
  {
   "cell_type": "code",
   "execution_count": 5,
   "metadata": {},
   "outputs": [],
   "source": [
    "df = pd.read_csv(data_dir / \"t1_data_full.csv\")\n",
    "df = df.set_index(\"subid\")\n",
    "\n",
    "df = helpers.set_dz_type5(df)\n",
    "df = helpers.set_dz_type3(df)\n",
    "df = helpers.set_dz_type2(df)\n",
    "df = helpers.fix_edss(df)\n",
    "df = helpers.clean_df(df)\n",
    "df = helpers.set_has_prl(df)\n",
    "\n",
    "keep_cols = [\n",
    "    \"subject\",\n",
    "    \"age\",\n",
    "    \"sex\",\n",
    "    \"ms_type\",\n",
    "    \"dz_type2\",\n",
    "    \"dz_type3\",\n",
    "    \"dz_type5\",\n",
    "    \"dzdur\",\n",
    "    \"EDSS\",\n",
    "    \"MSSS\",\n",
    "    \"gMSSS\",\n",
    "    \"ARMSS\",\n",
    "    \"DMT_score\",\n",
    "    \"DMT_hx_all\",\n",
    "    \"TER\",\n",
    "    \"DMF\",\n",
    "    \"NAT\",\n",
    "    \"INF\",\n",
    "    \"flair_contrast\",\n",
    "    \"thalamus\",\n",
    "    \"brain\",\n",
    "    \"white\",\n",
    "    \"grey\",\n",
    "    \"cortical_thickness\",\n",
    "    \"lesion_count\",\n",
    "    \"lesion_vol_cubic\",\n",
    "    \"PRL\",\n",
    "    \"HAS_PRL\",\n",
    "    \"tiv\",\n",
    "    \"choroid_volume\",\n",
    "    \"pineal_volume\", \n",
    "    \"pituitary_volume\"\n",
    "]\n",
    "\n",
    "df = df.loc[:, keep_cols]\n",
    "df = pd.concat((df, pd.get_dummies(df[\"sex\"], dtype=\"int\")), axis=1)\n",
    "df[\"Intercept\"] = 1"
   ]
  },
  {
   "cell_type": "code",
   "execution_count": 6,
   "metadata": {},
   "outputs": [],
   "source": [
    "df.loc[:, \"lesion_vol_logtrans\"] = np.log(df[\"lesion_vol_cubic\"])\n",
    "df.loc[:, \"edss_sqrt\"] = np.sqrt(df[\"EDSS\"].astype(\"float\"))\n",
    "df.loc[:, \"msss_sqrt\"] = np.sqrt(df[\"MSSS\"])\n",
    "df.loc[:, \"armss_sqrt\"] = np.sqrt(df[\"ARMSS\"])\n",
    "df.loc[:, \"gmsss_sqrt\"] = np.sqrt(df[\"gMSSS\"])"
   ]
  },
  {
   "cell_type": "code",
   "execution_count": 7,
   "metadata": {},
   "outputs": [],
   "source": [
    "vars = [\n",
    "    \"age\",\n",
    "    \"Female\",\n",
    "    \"dzdur\",\n",
    "    \"EDSS\",\n",
    "    \"MSSS\",\n",
    "    \"gMSSS\",\n",
    "    \"ARMSS\",\n",
    "    \"edss_sqrt\",\n",
    "    \"msss_sqrt\",\n",
    "    \"armss_sqrt\",\n",
    "    \"gmsss_sqrt\",\n",
    "    \"DMT_score\",\n",
    "    \"DMT_hx_all\",\n",
    "    \"TER\",\n",
    "    \"DMF\",\n",
    "    \"NAT\",\n",
    "    \"INF\",\n",
    "    \"thalamus\",\n",
    "    \"brain\",\n",
    "    \"white\",\n",
    "    \"grey\",\n",
    "    \"cortical_thickness\",\n",
    "    \"lesion_count\",\n",
    "    \"lesion_vol_cubic\",\n",
    "    \"lesion_vol_logtrans\",\n",
    "    \"PRL\",\n",
    "    \"HAS_PRL\",\n",
    "    \"tiv\",\n",
    "    \"choroid_volume\",\n",
    "    \"pineal_volume\",\n",
    "    \"pituitary_volume\"\n",
    "]\n",
    "\n",
    "for var in vars:\n",
    "    df[var] = pd.to_numeric(df[var])"
   ]
  },
  {
   "cell_type": "code",
   "execution_count": 8,
   "metadata": {},
   "outputs": [],
   "source": [
    "def mean_sd(df, column, cond=None):\n",
    "    if cond is None:\n",
    "        cond = (df.index.isin(df.index))\n",
    "    \n",
    "    return df.loc[cond, column].mean(), df.loc[cond, column].std()"
   ]
  },
  {
   "cell_type": "code",
   "execution_count": 9,
   "metadata": {},
   "outputs": [],
   "source": [
    "def percent_cat(df, column, cat, cond=None):\n",
    "    if cond is None:\n",
    "        cond = (df.index.isin(df.index))\n",
    "    \n",
    "    return sum(cond(df) & (df[column] == cat)) / len(df[cond(df)])"
   ]
  },
  {
   "cell_type": "code",
   "execution_count": 10,
   "metadata": {},
   "outputs": [],
   "source": [
    "def rms_cond(df):\n",
    "    return df['dz_type5']==\"RMS\"\n",
    "\n",
    "def pms_cond(df):\n",
    "    return df['dz_type5']==\"PMS\"\n",
    "\n",
    "def oind_cond(df):\n",
    "    return df['dz_type5']==\"OIND\"\n",
    "\n",
    "def nind_cond(df):\n",
    "    return df['dz_type5']==\"NIND\""
   ]
  },
  {
   "cell_type": "code",
   "execution_count": 11,
   "metadata": {},
   "outputs": [
    {
     "name": "stdout",
     "output_type": "stream",
     "text": [
      "RMS: 327\n",
      "PMS: 85\n",
      "NIND: 43\n",
      "OIND: 30\n"
     ]
    }
   ],
   "source": [
    "print(f\"RMS: {sum(df[\"dz_type5\"]==\"RMS\")}\")\n",
    "print(f\"PMS: {sum(df[\"dz_type5\"]==\"PMS\")}\")\n",
    "print(f\"NIND: {sum(df[\"dz_type5\"]==\"NIND\")}\")\n",
    "print(f\"OIND: {sum(df[\"dz_type5\"]==\"OIND\")}\")"
   ]
  },
  {
   "cell_type": "code",
   "execution_count": 13,
   "metadata": {},
   "outputs": [
    {
     "name": "stdout",
     "output_type": "stream",
     "text": [
      "Age\n",
      "---\n",
      "RMS:  44.64 ± 11.94\n",
      "PMS:  58.24 ± 9.35\n",
      "NIND: 48.93 ± 11.78\n",
      "OIND: 51.60 ± 11.60\n",
      "\n",
      "\n",
      "Sex, Female\n",
      "-----------\n",
      "RMS:  0.82\n",
      "PMS:  0.58\n",
      "NIND: 0.81\n",
      "OIND: 0.77\n",
      "\n",
      "\n",
      "dzdur\n",
      "----\n",
      "RMS:  10.2 ± 8.7\n",
      "PMS:  19.8 ± 11.8\n",
      "NIND: 10.4 ± 10.8\n",
      "OIND: 8.7 ± 9.7\n",
      "\n",
      "\n",
      "EDSS\n",
      "----\n",
      "RMS:  2.1 ± 1.5\n",
      "PMS:  5.0 ± 1.9\n",
      "NIND: 2.5 ± 1.8\n",
      "OIND: 2.3 ± 1.5\n",
      "\n",
      "\n",
      "TIV\n",
      "----\n",
      "RMS:  1493321.35 ± 130080.31\n",
      "PMS:  1506403.56 ± 132494.95\n",
      "NIND: 1536062.90 ± 151071.44\n",
      "OIND: 1512073.80 ± 139567.19\n",
      "\n",
      "\n",
      "lesion_vol_cubic\n",
      "----------------\n",
      "RMS:  1.54 ± 0.79\n",
      "PMS:  1.99 ± 0.86\n",
      "NIND: 1.37 ± 0.86\n",
      "OIND: 1.24 ± 0.56\n",
      "\n",
      "\n",
      "PRL\n",
      "----------------\n",
      "RMS:  1.02 ± 1.99\n",
      "PMS:  0.71 ± 1.30\n",
      "NIND: 0.02 ± 0.15\n",
      "OIND: 0.07 ± 0.37\n"
     ]
    }
   ],
   "source": [
    "print(\"Age\\n---\")\n",
    "print(\"RMS:  {:0.2f} ± {:0.2f}\".format(*mean_sd(df, \"age\", cond=rms_cond)))\n",
    "print(\"PMS:  {:0.2f} ± {:0.2f}\".format(*mean_sd(df, \"age\", cond=pms_cond)))\n",
    "print(\"NIND: {:0.2f} ± {:0.2f}\".format(*mean_sd(df, \"age\", cond=nind_cond)))\n",
    "print(\"OIND: {:0.2f} ± {:0.2f}\".format(*mean_sd(df, \"age\", cond=oind_cond)))\n",
    "\n",
    "print(\"\\n\")\n",
    "\n",
    "print(\"Sex, Female\\n-----------\")\n",
    "print(\"RMS:  {:0.2f}\".format(percent_cat(df, \"sex\", \"Female\", cond=rms_cond)))\n",
    "print(\"PMS:  {:0.2f}\".format(percent_cat(df, \"sex\", \"Female\", cond=pms_cond)))\n",
    "print(\"NIND: {:0.2f}\".format(percent_cat(df, \"sex\", \"Female\", cond=nind_cond)))\n",
    "print(\"OIND: {:0.2f}\".format(percent_cat(df, \"sex\", \"Female\", cond=oind_cond)))\n",
    "\n",
    "print(\"\\n\")\n",
    "\n",
    "print(\"dzdur\\n----\")\n",
    "print(\"RMS:  {:0.1f} ± {:0.1f}\".format(*mean_sd(df, \"dzdur\", cond=rms_cond)))\n",
    "print(\"PMS:  {:0.1f} ± {:0.1f}\".format(*mean_sd(df, \"dzdur\", cond=pms_cond)))\n",
    "print(\"NIND: {:0.1f} ± {:0.1f}\".format(*mean_sd(df, \"dzdur\", cond=nind_cond)))\n",
    "print(\"OIND: {:0.1f} ± {:0.1f}\".format(*mean_sd(df, \"dzdur\", cond=oind_cond)))\n",
    "\n",
    "print(\"\\n\")\n",
    "\n",
    "print(\"EDSS\\n----\")\n",
    "print(\"RMS:  {:0.1f} ± {:0.1f}\".format(*mean_sd(df, \"EDSS\", cond=rms_cond)))\n",
    "print(\"PMS:  {:0.1f} ± {:0.1f}\".format(*mean_sd(df, \"EDSS\", cond=pms_cond)))\n",
    "print(\"NIND: {:0.1f} ± {:0.1f}\".format(*mean_sd(df, \"EDSS\", cond=nind_cond)))\n",
    "print(\"OIND: {:0.1f} ± {:0.1f}\".format(*mean_sd(df, \"EDSS\", cond=oind_cond)))\n",
    "\n",
    "print(\"\\n\")\n",
    "\n",
    "print(\"TIV\\n----\")\n",
    "print(\"RMS:  {:0.2f} ± {:0.2f}\".format(*mean_sd(df, \"tiv\", cond=rms_cond)))\n",
    "print(\"PMS:  {:0.2f} ± {:0.2f}\".format(*mean_sd(df, \"tiv\", cond=pms_cond)))\n",
    "print(\"NIND: {:0.2f} ± {:0.2f}\".format(*mean_sd(df, \"tiv\", cond=nind_cond)))\n",
    "print(\"OIND: {:0.2f} ± {:0.2f}\".format(*mean_sd(df, \"tiv\", cond=oind_cond)))\n",
    "\n",
    "print(\"\\n\")\n",
    "\n",
    "print(\"lesion_vol_cubic\\n----------------\")\n",
    "print(\"RMS:  {:0.2f} ± {:0.2f}\".format(*mean_sd(df, \"lesion_vol_cubic\", cond=rms_cond)))\n",
    "print(\"PMS:  {:0.2f} ± {:0.2f}\".format(*mean_sd(df, \"lesion_vol_cubic\", cond=pms_cond)))\n",
    "print(\"NIND: {:0.2f} ± {:0.2f}\".format(*mean_sd(df, \"lesion_vol_cubic\", cond=nind_cond)))\n",
    "print(\"OIND: {:0.2f} ± {:0.2f}\".format(*mean_sd(df, \"lesion_vol_cubic\", cond=oind_cond)))\n",
    "\n",
    "print(\"\\n\")\n",
    "\n",
    "print(\"PRL\\n----------------\")\n",
    "print(\"RMS:  {:0.2f} ± {:0.2f}\".format(*mean_sd(df, \"PRL\", cond=rms_cond)))\n",
    "print(\"PMS:  {:0.2f} ± {:0.2f}\".format(*mean_sd(df, \"PRL\", cond=pms_cond)))\n",
    "print(\"NIND: {:0.2f} ± {:0.2f}\".format(*mean_sd(df, \"PRL\", cond=nind_cond)))\n",
    "print(\"OIND: {:0.2f} ± {:0.2f}\".format(*mean_sd(df, \"PRL\", cond=oind_cond)))"
   ]
  },
  {
   "cell_type": "code",
   "execution_count": null,
   "metadata": {},
   "outputs": [],
   "source": [
    "imaging_means = pd.DataFrame(columns=[\"RMS\", \"PMS\", \"NIND\", \"OIND\"])\n",
    "imaging_std = pd.DataFrame(columns=[\"RMS\", \"PMS\", \"NIND\", \"OIND\"])\n",
    "\n"
   ]
  },
  {
   "cell_type": "code",
   "execution_count": null,
   "metadata": {},
   "outputs": [],
   "source": []
  }
 ],
 "metadata": {
  "kernelspec": {
   "display_name": "monai",
   "language": "python",
   "name": "python3"
  },
  "language_info": {
   "codemirror_mode": {
    "name": "ipython",
    "version": 3
   },
   "file_extension": ".py",
   "mimetype": "text/x-python",
   "name": "python",
   "nbconvert_exporter": "python",
   "pygments_lexer": "ipython3",
   "version": "3.12.4"
  }
 },
 "nbformat": 4,
 "nbformat_minor": 2
}
