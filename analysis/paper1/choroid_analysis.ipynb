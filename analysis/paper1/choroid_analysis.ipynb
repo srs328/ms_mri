{
 "cells": [
  {
   "cell_type": "code",
   "execution_count": 45,
   "metadata": {},
   "outputs": [],
   "source": [
    "import matplotlib.pyplot as plt\n",
    "import pandas as pd\n",
    "from pathlib import Path\n",
    "import numpy as np\n",
    "import seaborn as sns\n",
    "import statsmodels.api as sm\n",
    "from scipy import stats\n",
    "import os\n",
    "from reload_recursive import reload_recursive\n",
    "from pyprocessmacro import Process\n",
    "from statsmodels.stats.mediation import Mediation\n",
    "from statsmodels.miscmodels.ordinal_model import OrderedModel\n",
    "import sys\n",
    "\n",
    "from mri_data import file_manager as fm\n",
    "import helpers"
   ]
  },
  {
   "cell_type": "code",
   "execution_count": 46,
   "metadata": {},
   "outputs": [],
   "source": [
    "reload_recursive(helpers)"
   ]
  },
  {
   "cell_type": "markdown",
   "metadata": {},
   "source": [
    "### Paths and Config"
   ]
  },
  {
   "cell_type": "code",
   "execution_count": 47,
   "metadata": {},
   "outputs": [],
   "source": [
    "drive_root = fm.get_drive_root()\n",
    "msmri_home = Path(\"/home/srs-9/Projects/ms_mri\")\n",
    "msmri_datadir = msmri_home / \"data\"\n",
    "curr_dir = Path(os.getcwd())\n",
    "data_dir = curr_dir / \"data0\"\n",
    "showfigs = False\n",
    "pd.options.display.precision = 3\n",
    "colors = helpers.get_colors()"
   ]
  },
  {
   "cell_type": "markdown",
   "metadata": {},
   "source": [
    "### Load and Prepare Data"
   ]
  },
  {
   "cell_type": "code",
   "execution_count": 48,
   "metadata": {},
   "outputs": [],
   "source": [
    "df = pd.read_csv(data_dir / \"t1_aschoplex_data_full.csv\", index_col=\"subid\")\n",
    "df_full = df.copy()\n",
    "df_tmp = pd.read_csv(data_dir / \"t1_data_full.csv\", index_col=\"subid\")\n",
    "df['pineal_volume'] = df_tmp['pineal_volume']\n",
    "df['pituitary_volume'] = df_tmp['pituitary_volume']\n",
    "\n",
    "df = helpers.get_mri_edss_delta(df)\n",
    "\n",
    "keep_cols = [\n",
    "    \"subject\",\n",
    "    \"age\",\n",
    "    \"sex\",\n",
    "    \"ms_type\",\n",
    "    \"dzdur\",\n",
    "    \"extracted_EDSS\",\n",
    "    \"MSSS\",\n",
    "    \"gMSSS\",\n",
    "    \"ARMSS\",\n",
    "    \"edss_mri_delta\",\n",
    "    \"edss_date_closest\",\n",
    "    \"mri_date_closest\",\n",
    "    \"DMT_score\",\n",
    "    \"DMT_hx_all\",\n",
    "    \"TER\",\n",
    "    \"DMF\",\n",
    "    \"NAT\",\n",
    "    \"INF\",\n",
    "    \"flair_contrast\",\n",
    "    \"thalamus\",\n",
    "    \"brain\",\n",
    "    \"white\",\n",
    "    \"grey\",\n",
    "    \"cortical_thickness\",\n",
    "    \"lesion_count\",\n",
    "    \"lesion_vol_cubic\",\n",
    "    \"PRL\",\n",
    "    \"tiv\",\n",
    "    \"choroid_volume\",\n",
    "    \"pineal_volume\", \n",
    "    \"pituitary_volume\"\n",
    "]\n",
    "df = df.loc[:, keep_cols]\n",
    "\n",
    "df = helpers.set_dz_type5(df)\n",
    "df = helpers.set_dz_type3(df)\n",
    "df = helpers.set_dz_type2(df)\n",
    "df = helpers.fix_edss(df)\n",
    "df = helpers.clean_df(df)\n",
    "df = helpers.set_has_prl(df)\n",
    "df = helpers.norm_volumes(df)\n",
    "\n",
    "df.rename(columns={\"lesion_vol_cubic\": \"t2lv\"}, inplace=True)\n",
    "df = df.rename(columns={\"extracted_EDSS\": \"EDSS\"})\n",
    "\n",
    "df = helpers.do_sqrt_transform(df, [\"EDSS\", \"MSSS\", \"ARMSS\", \"gMSSS\"])\n",
    "df = helpers.do_log_transform(df, [\"t2lv\"])\n",
    "\n",
    "vars_to_center = [\"EDSS_sqrt\", \"t2lv_logtrans\", \"t2lv\", \"dzdur\", \"choroid_volume\", \"PRL\"]\n",
    "df = helpers.do_center(df, vars_to_center)\n",
    "\n",
    "vars_to_scale = [\n",
    "    \"age\",\n",
    "    \"dzdur\",\n",
    "    \"lesion_count\",\n",
    "    \"t2lv\",\n",
    "    \"t2lv_logtrans\",\n",
    "    \"PRL\",\n",
    "    \"tiv\",\n",
    "    \"choroid_volume\",\n",
    "    \"thalamus\"\n",
    "]\n",
    "df = helpers.do_scale(df, vars_to_scale)\n",
    "\n",
    "numeric_vars = [\n",
    "    \"age\",\n",
    "    \"dzdur\",\n",
    "    \"Female\",\n",
    "    \"EDSS\", \"EDSS_sqrt\",\n",
    "    \"MSSS\", \"MSSS_sqrt\",\n",
    "    \"gMSSS\", \"gMSSS_sqrt\",\n",
    "    \"ARMSS\", \"ARMSS_sqrt\",\n",
    "    \"edss_mri_delta\",\n",
    "    \"DMT_score\",\n",
    "    \"DMT_hx_all\",\n",
    "    \"TER\",\n",
    "    \"DMF\",\n",
    "    \"NAT\",\n",
    "    \"INF\",\n",
    "    \"thalamus\",\n",
    "    \"brain\",\n",
    "    \"white\",\n",
    "    \"grey\",\n",
    "    \"cortical_thickness\",\n",
    "    \"lesion_count\",\n",
    "    \"t2lv\", \"t2lv_logtrans\",\n",
    "    \"PRL\",\n",
    "    \"tiv\",\n",
    "    \"choroid_volume\",\n",
    "    \"norm_choroid_volume\",\n",
    "    \"pineal_volume\",\n",
    "    \"pituitary_volume\"\n",
    "]\n",
    "\n",
    "for var in numeric_vars:\n",
    "    df[var] = df[var].astype(\"float\")\n",
    "\n",
    "df_ms = df.loc[df['dz_type2'] == \"MS\"]\n",
    "df_scale = df.copy() #temporary till I rename df_scale everywehre\n",
    "df_scale_ms = df_scale.loc[df['dz_type2'] == \"MS\"]\n",
    "\n",
    "df_z = df[numeric_vars].astype(\"float\")\n",
    "df_z[df.columns[~df.columns.isin(numeric_vars)]] = df[df.columns[~df.columns.isin(numeric_vars)]]\n",
    "df_z = df_z[df.columns]\n",
    "df_z[numeric_vars] = df_z[numeric_vars].apply(stats.zscore, nan_policy=\"omit\")\n",
    "\n",
    "# delete these vars once I fix all future variable references\n",
    "data = df[numeric_vars].astype(\"float\")\n",
    "data_z = data[numeric_vars].apply(stats.zscore, nan_policy=\"omit\")\n",
    "\n",
    "data_ms = df.loc[df[\"dz_type5\"].isin([\"RMS\", \"PMS\"]), :]\n",
    "data_ms = data_ms[numeric_vars].astype(\"float\")\n",
    "data_ms_z = data_ms[numeric_vars].apply(stats.zscore, nan_policy=\"omit\")"
   ]
  },
  {
   "cell_type": "code",
   "execution_count": null,
   "metadata": {},
   "outputs": [
    {
     "name": "stderr",
     "output_type": "stream",
     "text": [
      "/tmp/ipykernel_8295/3612060522.py:29: FutureWarning: Setting an item of incompatible dtype is deprecated and will raise an error in a future version of pandas. Value '1' has dtype incompatible with bool, please explicitly cast to a compatible dtype first.\n",
      "  df_jasp.loc[i, \"Female\"] = 1\n",
      "/tmp/ipykernel_8295/3612060522.py:36: FutureWarning: Setting an item of incompatible dtype is deprecated and will raise an error in a future version of pandas. Value '0' has dtype incompatible with bool, please explicitly cast to a compatible dtype first.\n",
      "  df_jasp.loc[i, \"Male\"] = 0\n"
     ]
    }
   ],
   "source": [
    "columns = [\n",
    "    \"ms_type\",\n",
    "    \"dz_type2\",\n",
    "    \"dz_type3\",\n",
    "    \"dz_type5\",\n",
    "    \"age\",\n",
    "    \"sex\",\n",
    "    \"tiv\",\n",
    "    \"flair_contrast\",\n",
    "    \"EDSS\",\n",
    "    \"ARMSS\",\n",
    "    \"PRL\",\n",
    "    \"t2lv\",\n",
    "    \"MSSS\",\n",
    "    \"choroid_volume\",\n",
    "    \"pineal_volume\",\n",
    "    \"pituitary_volume\",\n",
    "    \"thalamus\",\n",
    "    \"brain\",\n",
    "    \"cortical_thickness\",\n",
    "    \"dzdur\",\n",
    "]\n",
    "df_jasp = df[columns]\n",
    "df_jasp = pd.concat((df_jasp, pd.get_dummies(df_jasp[\"sex\"])), axis=1)\n",
    "df_jasp = df_jasp.loc[df_jasp[\"dzdur\"] != \".\", :]\n",
    "\n",
    "for i, row in df_jasp.iterrows():\n",
    "    if row[\"Female\"]:\n",
    "        df_jasp.loc[i, \"Female\"] = 1\n",
    "    else:\n",
    "        df_jasp.loc[i, \"Female\"] = 0\n",
    "\n",
    "    if row[\"Male\"]:\n",
    "        df_jasp.loc[i, \"Male\"] = 1\n",
    "    else:\n",
    "        df_jasp.loc[i, \"Male\"] = 0"
   ]
  },
  {
   "cell_type": "code",
   "execution_count": 7,
   "metadata": {},
   "outputs": [],
   "source": [
    "# jasp_dir = Path(\n",
    "#     \"/home/srs-9/Projects/ms_mri/analysis/paper1/data0\"\n",
    "# )\n",
    "\n",
    "# df_jasp3 = df_jasp[df_jasp[\"dz_type3\"].isin([\"MS\", \"NIND\", \"OIND\"])]\n",
    "# df_jasp5 = df_jasp[df_jasp[\"dz_type5\"].isin([\"RMS\", \"PMS\", \"NIND\", \"OIND\"])]\n",
    "# df_jasp_ms = df_jasp[df_jasp[\"dz_type5\"].isin([\"RMS\", \"PMS\"])]\n",
    "\n",
    "# df_jasp3.to_csv(jasp_dir / \"jasp_dataframe3.csv\")\n",
    "# df_jasp5.to_csv(jasp_dir / \"jasp_dataframe5.csv\")\n",
    "# df_jasp_ms.to_csv(jasp_dir / \"jasp_dataframeMS.csv\")"
   ]
  },
  {
   "cell_type": "markdown",
   "metadata": {},
   "source": [
    "## Analysis"
   ]
  },
  {
   "cell_type": "markdown",
   "metadata": {},
   "source": [
    "### Choroid Volumes"
   ]
  },
  {
   "cell_type": "markdown",
   "metadata": {},
   "source": [
    "CP volume increased with age (β=0.38, p<0.001), TIV (β=0.16, p=0.001), and was smaller in females (β=-0.15, p=0.002), but was not associated with the presence of MS (β=0.18, p=0.10)"
   ]
  },
  {
   "cell_type": "code",
   "execution_count": 18,
   "metadata": {},
   "outputs": [
    {
     "name": "stdout",
     "output_type": "stream",
     "text": [
      "R2:     0.215\n",
      "R2_adj: 0.208\n",
      "                 coef          p\n",
      "Intercept      -0.125  2.294e-01\n",
      "dz_type2[T.MS]  0.154  1.751e-01\n",
      "age             0.367  1.299e-17\n",
      "tiv             0.073  1.386e-01\n",
      "Female         -0.198  7.982e-05\n"
     ]
    }
   ],
   "source": [
    "model_data = df_z[df_z['dz_type2'].isin([\"MS\", \"!MS\"])]\n",
    "res = sm.OLS.from_formula(\n",
    "    \"choroid_volume ~ dz_type2 + age + tiv + Female\", data=model_data\n",
    ").fit()\n",
    "\n",
    "summary = pd.DataFrame({'coef': res.params, 'p': res.pvalues})\n",
    "print(\"R2:     {:0.3f}\".format(res.rsquared))\n",
    "print(\"R2_adj: {:0.3f}\".format(res.rsquared_adj))\n",
    "print(summary)"
   ]
  },
  {
   "cell_type": "markdown",
   "metadata": {},
   "source": [
    "Within the population of MS patients, those with PMS had greater CP volumes than those with RMS, after controlling for age, sex, and TIV (β=0.36, p=0.003). "
   ]
  },
  {
   "cell_type": "code",
   "execution_count": 19,
   "metadata": {},
   "outputs": [
    {
     "name": "stdout",
     "output_type": "stream",
     "text": [
      "R2:     0.219\n",
      "R2_adj: 0.211\n",
      "                  coef          p\n",
      "Intercept        0.160  1.410e-01\n",
      "dz_type5[T.RMS] -0.167  1.818e-01\n",
      "Female          -0.199  2.981e-04\n",
      "age              0.344  1.370e-11\n",
      "tiv              0.056  3.016e-01\n"
     ]
    }
   ],
   "source": [
    "model_data = df_z[df_z['dz_type5'].isin([\"RMS\", \"PMS\"])]\n",
    "res = sm.OLS.from_formula(\"choroid_volume ~ dz_type5 + Female + age + tiv\", data=model_data).fit()\n",
    "\n",
    "summary = pd.DataFrame({'coef': res.params, 'p': res.pvalues})\n",
    "print(\"R2:     {:0.3f}\".format(res.rsquared))\n",
    "print(\"R2_adj: {:0.3f}\".format(res.rsquared_adj))\n",
    "print(summary)"
   ]
  },
  {
   "cell_type": "markdown",
   "metadata": {},
   "source": [
    "In a multivariable regression controlling for age, sex, and TIV, CP volume increased with WM lesion volume (β=0.21, p<0.001) and number of PRL lesions (β=0.16, p<0.001). There was still a significant positive association with PMS (β=0.27. p=0.019)"
   ]
  },
  {
   "cell_type": "code",
   "execution_count": 20,
   "metadata": {},
   "outputs": [
    {
     "name": "stdout",
     "output_type": "stream",
     "text": [
      "R2:     0.323\n",
      "R2_adj: 0.308\n",
      "                  coef          p\n",
      "Intercept        0.095  4.011e-01\n",
      "dz_type5[T.RMS] -0.154  2.438e-01\n",
      "t2lv             0.230  3.403e-06\n",
      "PRL              0.178  7.162e-05\n",
      "Female          -0.228  2.456e-05\n",
      "age              0.335  4.856e-10\n",
      "tiv              0.010  8.556e-01\n",
      "MSSS            -0.056  2.555e-01\n",
      "DMT_hx_all       0.054  2.511e-01\n"
     ]
    }
   ],
   "source": [
    "model_data = df_z[df_z['dz_type5'].isin([\"RMS\", \"PMS\"])]\n",
    "res = sm.OLS.from_formula(\"choroid_volume ~ t2lv + PRL + dz_type5 + Female + age + tiv + MSSS + DMT_hx_all\", data=model_data).fit()\n",
    "\n",
    "summary = pd.DataFrame({'coef': res.params, 'p': res.pvalues})\n",
    "print(\"R2:     {:0.3f}\".format(res.rsquared))\n",
    "print(\"R2_adj: {:0.3f}\".format(res.rsquared_adj))\n",
    "print(summary)"
   ]
  },
  {
   "cell_type": "markdown",
   "metadata": {},
   "source": [
    "An ANCOVA was conducted to examine differences in CP volume amongst the RMS, PMS, OIND, and NIND groups, controlling for age, sex, and TIV. The analysis revealed a significant main effect for disease phenotype on CP volume (p < 0.001). Post hoc Tukey's HSD comparisons indicated that PMS had significantly larger CP than both NIND (p=0.043, d=0.51) and RMS (p=0.011, d=0.42). Additionally, sex (p<0.001), age (p<0.001), and TIV (p=0.006) were significant covariates. "
   ]
  },
  {
   "cell_type": "code",
   "execution_count": 21,
   "metadata": {},
   "outputs": [
    {
     "data": {
      "image/png": "[encoded data removed]",
      "text/plain": [
       "<Figure size 640x480 with 1 Axes>"
      ]
     },
     "metadata": {
      "needs_background": "light"
     },
     "output_type": "display_data"
    }
   ],
   "source": [
    "model_data = df[df['dz_type5'].isin([\"RMS\", \"PMS\", \"NIND\", \"OIND\"])]\n",
    "\n",
    "res = sm.OLS.from_formula(\"choroid_volume ~ dz_type5 + Female + age + tiv + t2lv + DMT_hx_all\", data=model_data).fit()\n",
    "# Extract marginal means (using 'Group')\n",
    "marginal_means = res.predict(model_data[['Female', 'age', 'tiv', 'dz_type5', 't2lv', 'DMT_hx_all']].drop_duplicates())\n",
    "\n",
    "f = plt.figure()\n",
    "ax = sns.pointplot(x='dz_type5', y=marginal_means, data=model_data, \n",
    "              palette='deep', hue='dz_type5', legend=False, markers='o', linestyles='-', color='red', \n",
    "              capsize=0.1, markersize=5, markeredgewidth=2, linewidth=1)\n",
    "ax.set_ylabel(\"Choroid volume (cm3)\", fontsize=12)\n",
    "ax.set_xlabel(\"\")\n",
    "ax.set_xticks([\"RMS\", \"PMS\", \"NIND\", \"OIND\"])\n",
    "ax.set_xticklabels([\"RMS\", \"PMS\", \"NIND\", \"OIND\"], fontsize=14)\n",
    "f.patch.set_alpha(0)"
   ]
  },
  {
   "cell_type": "markdown",
   "metadata": {},
   "source": [
    "See how ChP volume changes with various imaging findings"
   ]
  },
  {
   "cell_type": "code",
   "execution_count": 22,
   "metadata": {},
   "outputs": [
    {
     "name": "stdout",
     "output_type": "stream",
     "text": [
      "                     coef      pvals      p_fdr\n",
      "t2lv                0.272  3.063e-08  4.288e-08\n",
      "PRL                 0.245  6.729e-07  7.851e-07\n",
      "thalamus           -0.367  4.120e-18  2.884e-17\n",
      "brain              -0.280  2.399e-10  5.242e-10\n",
      "grey               -0.206  1.051e-06  1.051e-06\n",
      "white              -0.296  2.996e-10  5.242e-10\n",
      "cortical_thickness -0.298  4.337e-12  1.518e-11\n"
     ]
    }
   ],
   "source": [
    "model_data = df_z.copy()\n",
    "outcomes = [\"t2lv\", \"PRL\", \"thalamus\", \"brain\", \"grey\", \"white\", \"cortical_thickness\"]\n",
    "covariates = \"age + Female + tiv\"\n",
    "\n",
    "pvals = {}\n",
    "coefs = {}\n",
    "\n",
    "for outcome in outcomes:\n",
    "    formula = f\"{outcome} ~ choroid_volume + {covariates}\"\n",
    "    res = sm.OLS.from_formula(formula, data=model_data).fit()\n",
    "    pvals[outcome] = res.pvalues['choroid_volume']\n",
    "    coefs[outcome] = res.params['choroid_volume']\n",
    "\n",
    "regression_results = pd.DataFrame({\"coef\": coefs, \"pvals\": pvals})\n",
    "regression_results['p_fdr'] = stats.false_discovery_control(regression_results['pvals'], method='bh')\n",
    "print(regression_results)"
   ]
  },
  {
   "cell_type": "code",
   "execution_count": 206,
   "metadata": {},
   "outputs": [
    {
     "name": "stdout",
     "output_type": "stream",
     "text": [
      "R2:     0.472\n",
      "R2_adj: 0.464\n",
      "                      coef      p\n",
      "Intercept            0.012  0.755\n",
      "choroid_volume      -0.250  0.000\n",
      "t2lv                -0.348  0.000\n",
      "choroid_volume:t2lv -0.054  0.174\n",
      "tiv                 -0.017  0.682\n",
      "age                 -0.277  0.000\n",
      "Female               0.118  0.006\n"
     ]
    }
   ],
   "source": [
    "moderation_model = sm.OLS.from_formula(\"thalamus ~ choroid_volume*t2lv + tiv + age + Female\", data=data_ms_z)\n",
    "res = moderation_model.fit()\n",
    "summary = pd.DataFrame({'coef': res.params, 'p': res.pvalues.round(3)})\n",
    "print(\"R2:     {:0.3}\".format(res.rsquared))\n",
    "print(\"R2_adj: {:0.3}\".format(res.rsquared_adj))\n",
    "print(summary)"
   ]
  },
  {
   "cell_type": "code",
   "execution_count": 24,
   "metadata": {},
   "outputs": [
    {
     "data": {
      "image/png": "[encoded data removed]",
      "text/plain": [
       "<Figure size 640x480 with 1 Axes>"
      ]
     },
     "metadata": {},
     "output_type": "display_data"
    }
   ],
   "source": [
    "model_data = df_ms.copy()\n",
    "# model_data = model_data[model_data['dz_type2'] == \"MS\"]\n",
    "\n",
    "moderation_model = sm.OLS.from_formula(\"thalamus ~ choroid_volume_cent*t2lv_cent + tiv + age + Female\", data=model_data)\n",
    "res = moderation_model.fit()\n",
    "\n",
    "x_rng, y_lvls = helpers.moderation_y(model_data, res, \"t2lv_cent\", \"choroid_volume_cent\")\n",
    "# fix x_rng since the moderation_y took the centered version\n",
    "x_rng = np.linspace(model_data['t2lv'].min(), model_data['t2lv'].max(), 100)\n",
    "\n",
    "# helpers.plot_moderation(model_data['dzdur'], model_data['EDSS'], x_rng, y_lvls)\n",
    "plt.scatter(model_data['t2lv'], model_data['thalamus'], s=8, color=\"gray\")\n",
    "\n",
    "# m-sd line\n",
    "plt.plot(x_rng, y_lvls[0][0], label=\"m-sd\", linestyle=\"--\", color=colors['dark blue1'])\n",
    "# plt.fill_between(x_rng, y_lvls[0][1], y_lvls[0][2], color=colors['light blue1'], alpha=0.1)\n",
    "\n",
    "plt.plot(x_rng, y_lvls[1][0], label=\"m (CP Vol)\", linestyle=\"-\", color=\"black\")\n",
    "plt.fill_between(x_rng, y_lvls[1][1], y_lvls[1][2], color='grey', alpha=0.3)\n",
    "\n",
    "plt.plot(x_rng, y_lvls[2][0], label=\"m+sd\", linestyle=\"--\", color=colors['dark red1'])\n",
    "# plt.fill_between(x_rng, y_lvls[2][1], y_lvls[2][2], color=colors['light red1'], alpha=0.1)\n",
    "\n",
    "plt.legend()\n",
    "plt.xlabel(\"T2-LV\")\n",
    "plt.ylabel(\"Thalamic volume\")\n",
    "plt.show()"
   ]
  },
  {
   "cell_type": "code",
   "execution_count": 25,
   "metadata": {},
   "outputs": [
    {
     "data": {
      "image/png": "[encoded data removed]",
      "text/plain": [
       "<Figure size 1200x600 with 6 Axes>"
      ]
     },
     "metadata": {},
     "output_type": "display_data"
    }
   ],
   "source": [
    "outcomes = [\"t2lv\", \"thalamus\", \"brain\", \"grey\", \"white\", \"cortical_thickness\"]\n",
    "covariates = \"age + Female + tiv\"\n",
    "# fig, axs = plt.subplot_mosaic([['t2lv', 'thalamus'],\n",
    "#                                ['brain', 'cortical_thickness'],\n",
    "#                                ['grey', 'white']], \n",
    "#                                figsize=(8, 8),\n",
    "#                                layout='constrained',\n",
    "#                                )\n",
    "\n",
    "fig, axs = plt.subplot_mosaic([['t2lv', 'thalamus',\n",
    "                                'cortical_thickness'],\n",
    "                               ['brain', 'grey', 'white']], \n",
    "                               figsize=(12, 6),\n",
    "                               layout='constrained',\n",
    "                               )\n",
    "\n",
    "dark_color = colors['dark blue1']\n",
    "light_color = colors['light blue1']\n",
    "keep_xticks = [\"brain\", \"grey\", \"white\"]\n",
    "for outcome in outcomes:\n",
    "    formula = f\"{outcome} ~ choroid_volume + {covariates}\"\n",
    "    res = sm.OLS.from_formula(formula, data=data).fit()\n",
    "    x, y_pred, y_lims = helpers.get_regression_y(data, res, \"choroid_volume\", outcome)\n",
    "    axs[outcome].scatter(data['choroid_volume'], data[outcome], s=2, color=dark_color)\n",
    "    axs[outcome].plot(x, y_pred, color='black')\n",
    "    axs[outcome].fill_between(x, y_lims[0], y_lims[1], alpha=0.4, color=light_color)\n",
    "    axs[outcome].set_ylabel(outcome)\n",
    "    if outcome not in keep_xticks:\n",
    "        axs[outcome].set_xlabel(\"\")\n",
    "        axs[outcome].set_xticklabels([])\n",
    "    else:\n",
    "        axs[outcome].set_xlabel(\"Choroid plexus volume\")"
   ]
  },
  {
   "cell_type": "markdown",
   "metadata": {},
   "source": [
    "The best performing regression model for predicting CP volume in MS patients had an R² of 0.36 (adj R²=0.35)."
   ]
  },
  {
   "cell_type": "code",
   "execution_count": 26,
   "metadata": {},
   "outputs": [
    {
     "name": "stdout",
     "output_type": "stream",
     "text": [
      "                            OLS Regression Results                            \n",
      "==============================================================================\n",
      "Dep. Variable:         choroid_volume   R-squared:                       0.322\n",
      "Model:                            OLS   Adj. R-squared:                  0.310\n",
      "Method:                 Least Squares   F-statistic:                     24.89\n",
      "Date:                Fri, 21 Mar 2025   Prob (F-statistic):           9.72e-28\n",
      "Time:                        13:44:09   Log-Likelihood:                -2800.5\n",
      "No. Observations:                 374   AIC:                             5617.\n",
      "Df Residuals:                     366   BIC:                             5648.\n",
      "Df Model:                           7                                         \n",
      "Covariance Type:            nonrobust                                         \n",
      "===================================================================================\n",
      "                      coef    std err          t      P>|t|      [0.025      0.975]\n",
      "-----------------------------------------------------------------------------------\n",
      "Intercept        1059.9603    155.089      6.835      0.000     754.984    1364.937\n",
      "dz_type5[T.RMS]   -78.4662     67.509     -1.162      0.246    -211.220      54.288\n",
      "MSSS              -11.7743     10.280     -1.145      0.253     -31.989       8.441\n",
      "DMT_hx_all         53.9547     46.523      1.160      0.247     -37.532     145.441\n",
      "t2lv              141.8608     30.004      4.728      0.000      82.859     200.863\n",
      "PRL                52.3453     12.896      4.059      0.000      26.986      77.705\n",
      "age                13.6145      2.125      6.406      0.000       9.435      17.794\n",
      "Female           -287.8079     55.093     -5.224      0.000    -396.147    -179.469\n",
      "==============================================================================\n",
      "Omnibus:                        4.924   Durbin-Watson:                   2.054\n",
      "Prob(Omnibus):                  0.085   Jarque-Bera (JB):                5.188\n",
      "Skew:                          -0.178   Prob(JB):                       0.0747\n",
      "Kurtosis:                       3.455   Cond. No.                         360.\n",
      "==============================================================================\n",
      "\n",
      "Notes:\n",
      "[1] Standard Errors assume that the covariance matrix of the errors is correctly specified.\n"
     ]
    }
   ],
   "source": [
    "model_data = df[df['dz_type5'].isin([\"RMS\", \"PMS\"])]\n",
    "res = sm.OLS.from_formula(\"choroid_volume ~ MSSS + DMT_hx_all + dz_type5 + t2lv + PRL + age + Female\", data=model_data).fit()\n",
    "\n",
    "print(res.summary())"
   ]
  },
  {
   "cell_type": "code",
   "execution_count": 11,
   "metadata": {},
   "outputs": [
    {
     "name": "stdout",
     "output_type": "stream",
     "text": [
      "Optimization terminated successfully.\n",
      "         Current function value: 0.378898\n",
      "         Iterations 7\n",
      "                           Logit Regression Results                           \n",
      "==============================================================================\n",
      "Dep. Variable:                  isPMS   No. Observations:                  410\n",
      "Model:                          Logit   Df Residuals:                      405\n",
      "Method:                           MLE   Df Model:                            4\n",
      "Date:                Sun, 23 Mar 2025   Pseudo R-squ.:                  0.2528\n",
      "Time:                        18:11:06   Log-Likelihood:                -155.35\n",
      "converged:                       True   LL-Null:                       -207.91\n",
      "Covariance Type:            nonrobust   LLR p-value:                 7.993e-22\n",
      "==================================================================================\n",
      "                     coef    std err          z      P>|z|      [0.025      0.975]\n",
      "----------------------------------------------------------------------------------\n",
      "Intercept         -4.2701      2.332     -1.831      0.067      -8.841       0.301\n",
      "choroid_volume     0.0004      0.000      1.262      0.207      -0.000       0.001\n",
      "age                0.1035      0.015      6.739      0.000       0.073       0.134\n",
      "Female            -1.3311      0.389     -3.424      0.001      -2.093      -0.569\n",
      "tiv            -1.531e-06   1.31e-06     -1.165      0.244   -4.11e-06    1.04e-06\n",
      "==================================================================================\n"
     ]
    }
   ],
   "source": [
    "model_data = df[df['dz_type5'].isin([\"RMS\", \"PMS\"])]\n",
    "model_data['isPMS'] = 0\n",
    "model_data.loc[model_data['dz_type5'] == \"PMS\", 'isPMS'] = 1\n",
    "\n",
    "res = sm.Logit.from_formula(\"isPMS ~ choroid_volume + age + Female + tiv\", data=model_data).fit()\n",
    "print(res.summary())"
   ]
  },
  {
   "cell_type": "code",
   "execution_count": 19,
   "metadata": {},
   "outputs": [
    {
     "name": "stdout",
     "output_type": "stream",
     "text": [
      "Optimization terminated successfully.\n",
      "         Current function value: 0.280873\n",
      "         Iterations 8\n",
      "                           Logit Regression Results                           \n",
      "==============================================================================\n",
      "Dep. Variable:                  isPMS   No. Observations:                  366\n",
      "Model:                          Logit   Df Residuals:                      361\n",
      "Method:                           MLE   Df Model:                            4\n",
      "Date:                Sun, 23 Mar 2025   Pseudo R-squ.:                  0.2571\n",
      "Time:                        18:12:14   Log-Likelihood:                -102.80\n",
      "converged:                       True   LL-Null:                       -138.38\n",
      "Covariance Type:            nonrobust   LLR p-value:                 1.286e-14\n",
      "==================================================================================\n",
      "                     coef    std err          z      P>|z|      [0.025      0.975]\n",
      "----------------------------------------------------------------------------------\n",
      "Intercept         -3.4710      2.999     -1.157      0.247      -9.349       2.407\n",
      "choroid_volume     0.0004      0.000      0.978      0.328      -0.000       0.001\n",
      "age                0.1165      0.021      5.554      0.000       0.075       0.158\n",
      "Female            -1.6296      0.507     -3.214      0.001      -2.623      -0.636\n",
      "tiv            -2.803e-06   1.71e-06     -1.643      0.100   -6.15e-06    5.41e-07\n",
      "==================================================================================\n"
     ]
    }
   ],
   "source": [
    "model_data = df[df['ms_type'].isin([\"RRMS\", \"SPMS\"])]\n",
    "model_data['isPMS'] = 0\n",
    "model_data.loc[model_data['ms_type'] == \"SPMS\", 'isPMS'] = 1\n",
    "\n",
    "res = sm.Logit.from_formula(\"isPMS ~ choroid_volume + age + Female + tiv\", data=model_data).fit()\n",
    "print(res.summary())"
   ]
  },
  {
   "cell_type": "markdown",
   "metadata": {},
   "source": [
    "### PRL Count\n",
    "\n",
    "Choroid predicts PRL count after controlling for age, sex, tiv, and lesion volume. Show the analysis"
   ]
  },
  {
   "cell_type": "code",
   "execution_count": 27,
   "metadata": {},
   "outputs": [
    {
     "name": "stdout",
     "output_type": "stream",
     "text": [
      "                 Generalized Linear Model Regression Results                  \n",
      "==============================================================================\n",
      "Dep. Variable:                    PRL   No. Observations:                  408\n",
      "Model:                            GLM   Df Residuals:                      402\n",
      "Model Family:                 Poisson   Df Model:                            5\n",
      "Link Function:                    Log   Scale:                          1.0000\n",
      "Method:                          IRLS   Log-Likelihood:                -602.44\n",
      "Date:                Fri, 21 Mar 2025   Deviance:                       804.36\n",
      "Time:                        13:44:17   Pearson chi2:                 1.01e+03\n",
      "No. Iterations:                     6   Pseudo R-squ. (CS):             0.3790\n",
      "Covariance Type:            nonrobust                                         \n",
      "==================================================================================\n",
      "                     coef    std err          z      P>|z|      [0.025      0.975]\n",
      "----------------------------------------------------------------------------------\n",
      "Intercept         -1.4006      0.804     -1.741      0.082      -2.977       0.176\n",
      "t2lv               0.2787      0.054      5.181      0.000       0.173       0.384\n",
      "age               -0.0529      0.004    -11.853      0.000      -0.062      -0.044\n",
      "Female             0.0301      0.142      0.212      0.832      -0.249       0.309\n",
      "tiv             1.296e-06   4.58e-07      2.828      0.005    3.98e-07    2.19e-06\n",
      "choroid_volume     0.0007      0.000      6.307      0.000       0.000       0.001\n",
      "==================================================================================\n"
     ]
    }
   ],
   "source": [
    "mediator_model = sm.GLM.from_formula(\"PRL ~ t2lv + age + Female + tiv + choroid_volume\", data=df_scale_ms, family=sm.families.Poisson())\n",
    "res = mediator_model.fit()\n",
    "print(res.summary())"
   ]
  },
  {
   "cell_type": "markdown",
   "metadata": {},
   "source": [
    "### Clinical Disability"
   ]
  },
  {
   "cell_type": "markdown",
   "metadata": {},
   "source": [
    "#### Univariate Regressions\n",
    "\n",
    "Do all the univariate regressions with age, sex, and TIV as covariates"
   ]
  },
  {
   "cell_type": "code",
   "execution_count": 186,
   "metadata": {},
   "outputs": [
    {
     "data": {
      "application/vnd.microsoft.datawrangler.viewer.v0+json": {
       "columns": [
        {
         "name": "index",
         "rawType": "object",
         "type": "string"
        },
        {
         "name": "coef",
         "rawType": "float64",
         "type": "float"
        },
        {
         "name": "pvals",
         "rawType": "float64",
         "type": "float"
        }
       ],
       "conversionMethod": "pd.DataFrame",
       "ref": "28a7a9a3-788b-4a4a-8866-768d469a7029",
       "rows": [
        [
         "norm_choroid_volume",
         "0.049095861640124396",
         "0.3255710281726554"
        ],
        [
         "t2lv",
         "0.17922014787564178",
         "0.0005307008374625897"
        ],
        [
         "PRL",
         "0.10322896465380223",
         "0.012722252848782955"
        ],
        [
         "thalamus",
         "-0.27467964946423035",
         "1.3051789957247154e-07"
        ],
        [
         "grey",
         "-0.09737356410751767",
         "0.0753056274734699"
        ],
        [
         "white",
         "-0.013101037762724756",
         "0.7872263245821013"
        ],
        [
         "cortical_thickness",
         "-0.24314688471691584",
         "4.861415812723789e-06"
        ]
       ],
       "shape": {
        "columns": 2,
        "rows": 7
       }
      },
      "text/html": [
       "<div>\n",
       "<style scoped>\n",
       "    .dataframe tbody tr th:only-of-type {\n",
       "        vertical-align: middle;\n",
       "    }\n",
       "\n",
       "    .dataframe tbody tr th {\n",
       "        vertical-align: top;\n",
       "    }\n",
       "\n",
       "    .dataframe thead th {\n",
       "        text-align: right;\n",
       "    }\n",
       "</style>\n",
       "<table border=\"1\" class=\"dataframe\">\n",
       "  <thead>\n",
       "    <tr style=\"text-align: right;\">\n",
       "      <th></th>\n",
       "      <th>coef</th>\n",
       "      <th>pvals</th>\n",
       "    </tr>\n",
       "  </thead>\n",
       "  <tbody>\n",
       "    <tr>\n",
       "      <th>norm_choroid_volume</th>\n",
       "      <td>0.049</td>\n",
       "      <td>3.256e-01</td>\n",
       "    </tr>\n",
       "    <tr>\n",
       "      <th>t2lv</th>\n",
       "      <td>0.179</td>\n",
       "      <td>5.307e-04</td>\n",
       "    </tr>\n",
       "    <tr>\n",
       "      <th>PRL</th>\n",
       "      <td>0.103</td>\n",
       "      <td>1.272e-02</td>\n",
       "    </tr>\n",
       "    <tr>\n",
       "      <th>thalamus</th>\n",
       "      <td>-0.275</td>\n",
       "      <td>1.305e-07</td>\n",
       "    </tr>\n",
       "    <tr>\n",
       "      <th>grey</th>\n",
       "      <td>-0.097</td>\n",
       "      <td>7.531e-02</td>\n",
       "    </tr>\n",
       "    <tr>\n",
       "      <th>white</th>\n",
       "      <td>-0.013</td>\n",
       "      <td>7.872e-01</td>\n",
       "    </tr>\n",
       "    <tr>\n",
       "      <th>cortical_thickness</th>\n",
       "      <td>-0.243</td>\n",
       "      <td>4.861e-06</td>\n",
       "    </tr>\n",
       "  </tbody>\n",
       "</table>\n",
       "</div>"
      ],
      "text/plain": [
       "                      coef      pvals\n",
       "norm_choroid_volume  0.049  3.256e-01\n",
       "t2lv                 0.179  5.307e-04\n",
       "PRL                  0.103  1.272e-02\n",
       "thalamus            -0.275  1.305e-07\n",
       "grey                -0.097  7.531e-02\n",
       "white               -0.013  7.872e-01\n",
       "cortical_thickness  -0.243  4.861e-06"
      ]
     },
     "execution_count": 186,
     "metadata": {},
     "output_type": "execute_result"
    }
   ],
   "source": [
    "model_data = df_z.copy()\n",
    "model_data = model_data.loc[df['dz_type5'].isin([\"PMS\", \"RMS\"]), :]\n",
    "\n",
    "predictors = [\"norm_choroid_volume\", \"t2lv\", \"PRL\", \"thalamus\", \"grey\", \"white\", \"cortical_thickness\"]\n",
    "covariates = \"Female + tiv + age\"\n",
    "\n",
    "pvals = {}\n",
    "coefs = {}\n",
    "\n",
    "for predictor in predictors:\n",
    "    formula = f\"EDSS_sqrt ~ {predictor} + {covariates}\"\n",
    "    res = sm.OLS.from_formula(formula, data=model_data).fit()\n",
    "    pvals[predictor] = res.pvalues[predictor]\n",
    "    coefs[predictor] = res.params[predictor]\n",
    "\n",
    "regression_results = pd.DataFrame({\"coef\": coefs, \"pvals\": pvals})\n",
    "regression_results"
   ]
  },
  {
   "cell_type": "markdown",
   "metadata": {},
   "source": [
    "Do all the univariate regressions with age, sex, TIV, and dzdur as covariates"
   ]
  },
  {
   "cell_type": "code",
   "execution_count": 49,
   "metadata": {},
   "outputs": [],
   "source": [
    "check = df[(df['choroid_volume'] < 1400) & (df['EDSS'] >= 6)]\n",
    "df['highlight'] = 0\n",
    "df.loc[check.index, 'highlight'] = 1\n",
    "# check = df[(df['EDSS'] > 6.5)]\n",
    "check[['EDSS', 'choroid_volume', 'edss_date_closest']]\n",
    "test_data = df_ms.copy()\n",
    "test_data = test_data.loc[~test_data.index.isin(check.index)]\n",
    "test_data_z = data_ms_z.loc[~data_ms_z.index.isin(check.index)]"
   ]
  },
  {
   "cell_type": "code",
   "execution_count": 63,
   "metadata": {},
   "outputs": [
    {
     "name": "stdout",
     "output_type": "stream",
     "text": [
      "                            OLS Regression Results                            \n",
      "==============================================================================\n",
      "Dep. Variable:              EDSS_sqrt   R-squared:                       0.252\n",
      "Model:                            OLS   Adj. R-squared:                  0.241\n",
      "Method:                 Least Squares   F-statistic:                     21.83\n",
      "Date:                Tue, 25 Mar 2025   Prob (F-statistic):           3.91e-22\n",
      "Time:                        18:14:02   Log-Likelihood:                -509.88\n",
      "No. Observations:                 395   AIC:                             1034.\n",
      "Df Residuals:                     388   BIC:                             1062.\n",
      "Df Model:                           6                                         \n",
      "Covariance Type:            nonrobust                                         \n",
      "========================================================================================\n",
      "                           coef    std err          t      P>|t|      [0.025      0.975]\n",
      "----------------------------------------------------------------------------------------\n",
      "Intercept               -0.0024      0.047     -0.051      0.960      -0.094       0.090\n",
      "choroid_volume           0.0165      0.050      0.329      0.743      -0.082       0.115\n",
      "dzdur                    0.2552      0.059      4.338      0.000       0.140       0.371\n",
      "choroid_volume:dzdur    -0.0487      0.049     -0.999      0.319      -0.144       0.047\n",
      "age                      0.2844      0.059      4.801      0.000       0.168       0.401\n",
      "Female                  -0.0899      0.054     -1.680      0.094      -0.195       0.015\n",
      "tiv                     -0.0601      0.054     -1.122      0.262      -0.165       0.045\n",
      "==============================================================================\n",
      "Omnibus:                        4.070   Durbin-Watson:                   2.020\n",
      "Prob(Omnibus):                  0.131   Jarque-Bera (JB):                3.922\n",
      "Skew:                           0.185   Prob(JB):                        0.141\n",
      "Kurtosis:                       3.319   Cond. No.                         2.44\n",
      "==============================================================================\n",
      "\n",
      "Notes:\n",
      "[1] Standard Errors assume that the covariance matrix of the errors is correctly specified.\n"
     ]
    }
   ],
   "source": [
    "model_data = data_ms_z.copy()\n",
    "res = sm.OLS.from_formula(\"EDSS_sqrt ~ choroid_volume*dzdur + age + Female + tiv\", data=model_data).fit()\n",
    "print(res.summary())"
   ]
  },
  {
   "cell_type": "code",
   "execution_count": 78,
   "metadata": {},
   "outputs": [
    {
     "data": {
      "application/vnd.microsoft.datawrangler.viewer.v0+json": {
       "columns": [
        {
         "name": "index",
         "rawType": "object",
         "type": "string"
        },
        {
         "name": "coef",
         "rawType": "float64",
         "type": "float"
        },
        {
         "name": "pvals",
         "rawType": "float64",
         "type": "float"
        }
       ],
       "conversionMethod": "pd.DataFrame",
       "ref": "408cb588-64b9-44e3-90af-4639e821150a",
       "rows": [
        [
         "choroid_volume",
         "0.00014589860300288712",
         "0.44782707372869646"
        ],
        [
         "t2lv",
         "0.4022779101839706",
         "0.00022389389803148622"
        ],
        [
         "PRL",
         "0.10868580140570748",
         "0.02475557470542352"
        ],
        [
         "thalamus",
         "-0.2117513743067707",
         "3.60543930545588e-08"
        ],
        [
         "grey",
         "-0.003954224715901812",
         "0.04832177617825671"
        ],
        [
         "white",
         "-0.0004890881823325117",
         "0.843808198618444"
        ],
        [
         "cortical_thickness",
         "-3.901833517819649",
         "3.2970201645754173e-06"
        ]
       ],
       "shape": {
        "columns": 2,
        "rows": 7
       }
      },
      "text/html": [
       "<div>\n",
       "<style scoped>\n",
       "    .dataframe tbody tr th:only-of-type {\n",
       "        vertical-align: middle;\n",
       "    }\n",
       "\n",
       "    .dataframe tbody tr th {\n",
       "        vertical-align: top;\n",
       "    }\n",
       "\n",
       "    .dataframe thead th {\n",
       "        text-align: right;\n",
       "    }\n",
       "</style>\n",
       "<table border=\"1\" class=\"dataframe\">\n",
       "  <thead>\n",
       "    <tr style=\"text-align: right;\">\n",
       "      <th></th>\n",
       "      <th>coef</th>\n",
       "      <th>pvals</th>\n",
       "    </tr>\n",
       "  </thead>\n",
       "  <tbody>\n",
       "    <tr>\n",
       "      <th>choroid_volume</th>\n",
       "      <td>1.459e-04</td>\n",
       "      <td>4.478e-01</td>\n",
       "    </tr>\n",
       "    <tr>\n",
       "      <th>t2lv</th>\n",
       "      <td>4.023e-01</td>\n",
       "      <td>2.239e-04</td>\n",
       "    </tr>\n",
       "    <tr>\n",
       "      <th>PRL</th>\n",
       "      <td>1.087e-01</td>\n",
       "      <td>2.476e-02</td>\n",
       "    </tr>\n",
       "    <tr>\n",
       "      <th>thalamus</th>\n",
       "      <td>-2.118e-01</td>\n",
       "      <td>3.605e-08</td>\n",
       "    </tr>\n",
       "    <tr>\n",
       "      <th>grey</th>\n",
       "      <td>-3.954e-03</td>\n",
       "      <td>4.832e-02</td>\n",
       "    </tr>\n",
       "    <tr>\n",
       "      <th>white</th>\n",
       "      <td>-4.891e-04</td>\n",
       "      <td>8.438e-01</td>\n",
       "    </tr>\n",
       "    <tr>\n",
       "      <th>cortical_thickness</th>\n",
       "      <td>-3.902e+00</td>\n",
       "      <td>3.297e-06</td>\n",
       "    </tr>\n",
       "  </tbody>\n",
       "</table>\n",
       "</div>"
      ],
      "text/plain": [
       "                         coef      pvals\n",
       "choroid_volume      1.459e-04  4.478e-01\n",
       "t2lv                4.023e-01  2.239e-04\n",
       "PRL                 1.087e-01  2.476e-02\n",
       "thalamus           -2.118e-01  3.605e-08\n",
       "grey               -3.954e-03  4.832e-02\n",
       "white              -4.891e-04  8.438e-01\n",
       "cortical_thickness -3.902e+00  3.297e-06"
      ]
     },
     "execution_count": 78,
     "metadata": {},
     "output_type": "execute_result"
    }
   ],
   "source": [
    "model_data = df.copy()\n",
    "model_data = model_data.loc[df['dz_type5'].isin([\"RMS\", \"PMS\"]), :]\n",
    "# model_data = model_data.loc[~model_data.index.isin(check.index)]\n",
    "\n",
    "predictors = [\"choroid_volume\", \"t2lv\", \"PRL\", \"thalamus\", \"grey\", \"white\", \"cortical_thickness\"]\n",
    "covariates = \"age + Female + tiv\"\n",
    "\n",
    "pvals = {}\n",
    "coefs = {}\n",
    "\n",
    "for predictor in predictors:\n",
    "    formula = f\"EDSS ~ {predictor} + {covariates}\"\n",
    "    res = sm.OLS.from_formula(formula, data=model_data).fit()\n",
    "    pvals[predictor] = res.pvalues[predictor]\n",
    "    coefs[predictor] = res.params[predictor]\n",
    "\n",
    "regression_results = pd.DataFrame({\"coef\": coefs, \"pvals\": pvals})\n",
    "regression_results"
   ]
  },
  {
   "cell_type": "markdown",
   "metadata": {},
   "source": [
    "#### EDSS and ChP Volume"
   ]
  },
  {
   "cell_type": "code",
   "execution_count": 193,
   "metadata": {},
   "outputs": [
    {
     "data": {
      "image/png": "[encoded data removed]",
      "text/plain": [
       "<Figure size 800x600 with 3 Axes>"
      ]
     },
     "metadata": {},
     "output_type": "display_data"
    }
   ],
   "source": [
    "res = sm.OLS.from_formula(\"EDSS ~ choroid_volume + age + tiv + Female\", data=test_data).fit()\n",
    "x, y_pred, y_lims = helpers.get_regression_y(data_ms, res, \"choroid_volume\", \"EDSS\")\n",
    "\n",
    "fig, axs = plt.subplot_mosaic([['histx', '.'],\n",
    "                               ['scatter', 'histy']],\n",
    "                              figsize=(8, 6),\n",
    "                              width_ratios=(4, 1), height_ratios=(1, 4),\n",
    "                              layout='constrained')\n",
    "\n",
    "helpers.scatter_hist(data_ms[\"choroid_volume\"], \n",
    "                     data_ms[\"EDSS\"], \n",
    "                     axs['scatter'], axs['histx'], axs['histy'],\n",
    "                     light_color=colors['light red1'],\n",
    "                     dark_color=colors['dark red1'])\n",
    "\n",
    "axs['scatter'].plot(x, y_pred, color=\"black\")\n",
    "axs['scatter'].fill_between(x, y_lims[0], y_lims[1], alpha=0.4, color=colors[\"light red1\"])\n",
    "axs['scatter'].set_ylabel(\"EDSS score\")\n",
    "axs['scatter'].set_xlabel(\"Choroid plexus volume\")\n",
    "plt.show()"
   ]
  },
  {
   "cell_type": "markdown",
   "metadata": {},
   "source": [
    "#### EDSS and T2-LV"
   ]
  },
  {
   "cell_type": "code",
   "execution_count": 50,
   "metadata": {},
   "outputs": [
    {
     "data": {
      "image/png": "[encoded data removed]",
      "text/plain": [
       "<Figure size 800x600 with 3 Axes>"
      ]
     },
     "metadata": {},
     "output_type": "display_data"
    }
   ],
   "source": [
    "predictor = \"t2lv\"\n",
    "formula = f\"EDSS ~ {predictor} + tiv + age + Female\"\n",
    "res = sm.OLS.from_formula(formula, data=data_ms).fit()\n",
    "x, y_pred, y_lims = helpers.get_regression_y(data_ms, res, predictor, \"EDSS\")\n",
    "\n",
    "fig, axs = plt.subplot_mosaic([['histx', '.'],\n",
    "                               ['scatter', 'histy']],\n",
    "                              figsize=(8, 6),\n",
    "                              width_ratios=(4, 1), height_ratios=(1, 4),\n",
    "                              layout='constrained')\n",
    "\n",
    "helpers.scatter_hist(data_ms[predictor], \n",
    "                     data_ms[\"EDSS\"], \n",
    "                     axs['scatter'], axs['histx'], axs['histy'],\n",
    "                     light_color=colors['light blue1'],\n",
    "                     dark_color=colors['dark blue1'])\n",
    "\n",
    "axs['scatter'].plot(x, y_pred, color=\"black\")\n",
    "axs['scatter'].fill_between(x, y_lims[0], y_lims[1], alpha=0.4, color=colors[\"light blue1\"])\n",
    "axs['scatter'].set_ylabel(\"EDSS score\")\n",
    "axs['scatter'].set_xlabel(\"Lesion volume\")\n",
    "plt.show()"
   ]
  },
  {
   "cell_type": "code",
   "execution_count": 73,
   "metadata": {},
   "outputs": [
    {
     "name": "stdout",
     "output_type": "stream",
     "text": [
      "R2:     0.224\n",
      "R2_adj: 0.213\n",
      "                      coef      p\n",
      "Intercept           -0.047  0.287\n",
      "choroid_volume       0.026  0.596\n",
      "t2lv                 0.139  0.002\n",
      "choroid_volume:t2lv  0.077  0.064\n",
      "tiv                 -0.094  0.070\n",
      "age                  0.384  0.000\n",
      "Female              -0.082  0.115\n"
     ]
    }
   ],
   "source": [
    "model_data = df_z.copy()\n",
    "model = sm.OLS.from_formula(\"EDSS_sqrt ~ choroid_volume*t2lv + tiv + age + Female\", data=model_data)\n",
    "res = model.fit()\n",
    "summary = pd.DataFrame({'coef': res.params, 'p': res.pvalues.round(3)})\n",
    "print(\"R2:     {:0.3}\".format(res.rsquared))\n",
    "print(\"R2_adj: {:0.3}\".format(res.rsquared_adj))\n",
    "print(summary)"
   ]
  },
  {
   "cell_type": "code",
   "execution_count": null,
   "metadata": {},
   "outputs": [
    {
     "name": "stdout",
     "output_type": "stream",
     "text": [
      "R2:     0.275\n",
      "R2_adj: 0.264\n",
      "                coef      p\n",
      "Intercept     -0.030  0.517\n",
      "t2lv           0.051  0.317\n",
      "thalamus      -0.190  0.002\n",
      "t2lv:thalamus -0.056  0.118\n",
      "tiv           -0.069  0.186\n",
      "age            0.334  0.000\n",
      "Female        -0.043  0.417\n"
     ]
    }
   ],
   "source": [
    "model_data = df_z.copy()\n",
    "model_data = model_data[model_data['dz_type5'].isin([\"RMS\", \"PMS\"])]\n",
    "model = sm.OLS.from_formula(\"EDSS_sqrt ~ choroid_volume*thalamus + tiv + age + Female\", data=model_data)\n",
    "res = model.fit()\n",
    "summary = pd.DataFrame({'coef': res.params, 'p': res.pvalues.round(3)})\n",
    "print(\"R2:     {:0.3}\".format(res.rsquared))\n",
    "print(\"R2_adj: {:0.3}\".format(res.rsquared_adj))\n",
    "print(summary)"
   ]
  },
  {
   "cell_type": "markdown",
   "metadata": {},
   "source": [
    "#### Moderation "
   ]
  },
  {
   "cell_type": "code",
   "execution_count": null,
   "metadata": {},
   "outputs": [
    {
     "name": "stdout",
     "output_type": "stream",
     "text": [
      "R2:     0.264\n",
      "R2_adj: 0.255\n",
      "                   coef      p\n",
      "Intercept        -0.003  0.954\n",
      "dzdur             0.248  0.000\n",
      "t2lv  0.143  0.002\n",
      "tiv              -0.057  0.289\n",
      "age               0.241  0.000\n",
      "Female           -0.111  0.034\n"
     ]
    }
   ],
   "source": [
    "model_data = df_z.copy()\n",
    "model_data = model_data[model_data['dz_type2'] == \"MS\"]\n",
    "\n",
    "moderation_model = sm.OLS.from_formula(\"EDSS ~ dzdur + t2lv + tiv + age + Female\", data=model_data)\n",
    "res = moderation_model.fit()\n",
    "summary = pd.DataFrame({'coef': res.params, 'p': res.pvalues.round(3)})\n",
    "print(\"R2:     {:0.3}\".format(res.rsquared))\n",
    "print(\"R2_adj: {:0.3}\".format(res.rsquared_adj))\n",
    "print(summary)"
   ]
  },
  {
   "cell_type": "code",
   "execution_count": null,
   "metadata": {},
   "outputs": [
    {
     "data": {
      "image/png": "[encoded data removed]",
      "text/plain": [
       "<Figure size 640x480 with 1 Axes>"
      ]
     },
     "metadata": {},
     "output_type": "display_data"
    }
   ],
   "source": [
    "model_data = df.copy()\n",
    "model_data = model_data[model_data['dz_type2'] == \"MS\"]\n",
    "\n",
    "moderation_model = sm.OLS.from_formula(\"EDSS ~ dzdur_cent*t2lv_cent + tiv + age + Female\", data=model_data)\n",
    "res = moderation_model.fit()\n",
    "\n",
    "x_rng, y_lvls = helpers.moderation_y(model_data, res, \"dzdur_cent\", \"t2lv_cent\")\n",
    "# fix x_rng since the moderation_y took the centered version\n",
    "x_rng = np.linspace(model_data['dzdur'].min(), model_data['dzdur'].max(), 100)\n",
    "\n",
    "# helpers.plot_moderation(model_data['dzdur'], model_data['EDSS'], x_rng, y_lvls)\n",
    "plt.scatter(model_data['dzdur'], model_data['EDSS'], s=8, color=\"gray\")\n",
    "\n",
    "# m-sd line\n",
    "plt.plot(x_rng, y_lvls[0][0], label=\"m-sd\", linestyle=\"--\", color=colors['dark blue1'])\n",
    "# plt.fill_between(x_rng, y_lvls[0][1], y_lvls[0][2], color=colors['light blue1'], alpha=0.1)\n",
    "\n",
    "plt.plot(x_rng, y_lvls[1][0], label=\"m (T2LV)\", linestyle=\"-\", color=\"black\")\n",
    "plt.fill_between(x_rng, y_lvls[1][1], y_lvls[1][2], color='grey', alpha=0.2)\n",
    "\n",
    "plt.plot(x_rng, y_lvls[2][0], label=\"m+sd\", linestyle=\"--\", color=colors['dark red1'])\n",
    "# plt.fill_between(x_rng, y_lvls[2][1], y_lvls[2][2], color=colors['light red1'], alpha=0.1)\n",
    "\n",
    "plt.legend()\n",
    "plt.xlabel(\"Disease duration\")\n",
    "plt.ylabel(\"EDSS score\")\n",
    "plt.show()"
   ]
  },
  {
   "cell_type": "markdown",
   "metadata": {},
   "source": [
    "There is a significant interaction of CP volume and lesion volume on EDSS. But don't know how to interpret this alongside the mediation analysis. Also R2 improves when including both as an interaction instead of separate terms\n",
    "\n",
    "Chris was explaining how lesion volume and ChP volume may be indicators of different sources of inflammation (leptomeningeal inflammation, cortical inflammation, or subcortical inflammation?). The interaction term being multiplicative could be related to the multiplicative effects of both types of inflammation\n",
    "\n",
    "In which case, the mediation model is testing a different possibly competing model "
   ]
  },
  {
   "cell_type": "code",
   "execution_count": 98,
   "metadata": {},
   "outputs": [],
   "source": [
    "# check = df[(df['choroid_volume'] < 2000) & (df['EDSS'] > 7)]\n",
    "# check = df[(df['EDSS'] > 6)]"
   ]
  },
  {
   "cell_type": "code",
   "execution_count": 204,
   "metadata": {},
   "outputs": [
    {
     "name": "stdout",
     "output_type": "stream",
     "text": [
      "R2:     0.251\n",
      "R2_adj: 0.237\n",
      "                      coef      p\n",
      "Intercept           -0.072  0.127\n",
      "choroid_volume       0.069  0.190\n",
      "t2lv                 0.158  0.004\n",
      "choroid_volume:t2lv  0.082  0.102\n",
      "tiv                 -0.075  0.163\n",
      "age                  0.382  0.000\n",
      "Female              -0.073  0.169\n",
      "edss_mri_delta       0.015  0.744\n"
     ]
    }
   ],
   "source": [
    "model_data = df_z.copy()\n",
    "model_data = model_data[model_data['dz_type5'].isin([\"PMS\", \"RMS\"])]\n",
    "# model_data = model_data.loc[~model_data.index.isin(check.index)]\n",
    "\n",
    "moderation_model = sm.OLS.from_formula(\"EDSS_sqrt ~ choroid_volume*t2lv + tiv + age + Female + edss_mri_delta\", data=test_data_z)\n",
    "res = moderation_model.fit()\n",
    "summary = pd.DataFrame({'coef': res.params, 'p': res.pvalues.round(3)})\n",
    "print(\"R2:     {:0.3}\".format(res.rsquared))\n",
    "print(\"R2_adj: {:0.3}\".format(res.rsquared_adj))\n",
    "print(summary)"
   ]
  },
  {
   "cell_type": "code",
   "execution_count": 114,
   "metadata": {},
   "outputs": [
    {
     "data": {
      "image/png": "[encoded data removed]",
      "text/plain": [
       "<Figure size 640x480 with 1 Axes>"
      ]
     },
     "metadata": {},
     "output_type": "display_data"
    }
   ],
   "source": [
    "model_data = df.copy()\n",
    "model_data = model_data[model_data['dz_type2'] == \"MS\"]\n",
    "\n",
    "moderation_model = sm.OLS.from_formula(\"EDSS ~ choroid_volume_cent*t2lv_cent + tiv + age + Female\", data=model_data)\n",
    "res = moderation_model.fit()\n",
    "\n",
    "x_rng, y_lvls = helpers.moderation_y(model_data, res, \"t2lv_cent\", \"choroid_volume_cent\")\n",
    "# fix x_rng since the moderation_y took the centered version\n",
    "x_rng = np.linspace(model_data['t2lv'].min(), model_data['t2lv'].max(), 100)\n",
    "\n",
    "# helpers.plot_moderation(model_data['dzdur'], model_data['EDSS'], x_rng, y_lvls)\n",
    "plt.scatter(model_data['t2lv'], model_data['EDSS'], s=8, color=\"gray\")\n",
    "\n",
    "# m-sd line\n",
    "plt.plot(x_rng, y_lvls[0][0], label=\"m-sd\", linestyle=\"--\", color=colors['dark blue1'])\n",
    "# plt.fill_between(x_rng, y_lvls[0][1], y_lvls[0][2], color=colors['light blue1'], alpha=0.1)\n",
    "\n",
    "plt.plot(x_rng, y_lvls[1][0], label=\"m (CP Vol)\", linestyle=\"-\", color=\"black\")\n",
    "plt.fill_between(x_rng, y_lvls[1][1], y_lvls[1][2], color='grey', alpha=0.2)\n",
    "\n",
    "plt.plot(x_rng, y_lvls[2][0], label=\"m+sd\", linestyle=\"--\", color=colors['dark red1'])\n",
    "# plt.fill_between(x_rng, y_lvls[2][1], y_lvls[2][2], color=colors['light red1'], alpha=0.1)\n",
    "\n",
    "plt.legend()\n",
    "plt.xlabel(\"T2-LV\")\n",
    "plt.ylabel(\"EDSS score\")\n",
    "plt.show()"
   ]
  },
  {
   "cell_type": "markdown",
   "metadata": {},
   "source": [
    "#### Moderated Mediation"
   ]
  },
  {
   "cell_type": "code",
   "execution_count": 122,
   "metadata": {},
   "outputs": [
    {
     "name": "stderr",
     "output_type": "stream",
     "text": [
      "/home/srs-9/.virtualenvs/monai/lib/python3.12/site-packages/pyprocessmacro/models.py:1567: DeprecationWarning: `product` is deprecated as of NumPy 1.25.0, and will be removed in NumPy 2.0. Please use `prod` instead.\n",
      "  grad = eval_expression(\n"
     ]
    },
    {
     "name": "stdout",
     "output_type": "stream",
     "text": [
      "Process successfully initialized.\n",
      "Based on the Process Macro by Andrew F. Hayes, Ph.D. (www.afhayes.com)\n",
      "\n",
      "\n",
      "****************************** SPECIFICATION ****************************\n",
      "\n",
      "Model = 5\n",
      "\n",
      "Variables:\n",
      "    Cons = Cons\n",
      "    x = t2lv\n",
      "    y = EDSS_sqrt\n",
      "    w = choroid_volume\n",
      "    m1 = thalamus\n",
      "Statistical Controls:\n",
      " age, Female, tiv\n",
      "\n",
      "\n",
      "\n",
      "Sample size:\n",
      "412\n",
      "\n",
      "Bootstrapping information for indirect effects:\n",
      "Final number of bootstrap samples: 5000\n",
      "Number of samples discarded due to convergence issues: 0\n",
      "\n",
      "***************************** OUTCOME MODELS ****************************\n",
      "\n",
      "Outcome = EDSS_sqrt \n",
      "OLS Regression Summary\n",
      "\n",
      "     R²  Adj. R²    MSE       F  df1  df2  p-value\n",
      " 0.2809   0.2661 0.7338 21.7124    7  389   0.0000\n",
      "\n",
      "Coefficients\n",
      "\n",
      "                      coeff     se       t      p    LLCI    ULCI\n",
      "Cons                -0.0366 0.0451 -0.8105 0.4182 -0.1251  0.0519\n",
      "t2lv                 0.0664 0.0494  1.3431 0.1800 -0.0305  0.1633\n",
      "choroid_volume      -0.0737 0.0533 -1.3817 0.1679 -0.1783  0.0309\n",
      "t2lv*choroid_volume  0.0701 0.0447  1.5672 0.1179 -0.0176  0.1578\n",
      "age                  0.3530 0.0513  6.8754 0.0000  0.2524  0.4537\n",
      "Female              -0.0521 0.0533 -0.9768 0.3293 -0.1565  0.0524\n",
      "tiv                 -0.0587 0.0518 -1.1329 0.2579 -0.1603  0.0429\n",
      "thalamus            -0.2534 0.0600 -4.2212 0.0000 -0.3710 -0.1357\n",
      "\n",
      "-------------------------------------------------------------------------\n",
      "\n",
      "Outcome = thalamus \n",
      "OLS Regression Summary\n",
      "\n",
      "     R²  Adj. R²    MSE       F  df1  df2  p-value\n",
      " 0.4133   0.4058 0.5901 69.0301    4  392   0.0000\n",
      "\n",
      "Coefficients\n",
      "\n",
      "         coeff     se       t      p    LLCI    ULCI\n",
      "Cons   -0.0007 0.0386 -0.0192 0.9847 -0.0764  0.0749\n",
      "t2lv   -0.3941 0.0395 -9.9799 0.0000 -0.4715 -0.3167\n",
      "age    -0.3555 0.0407 -8.7391 0.0000 -0.4352 -0.2757\n",
      "Female  0.1793 0.0463  3.8720 0.0001  0.0885  0.2700\n",
      "tiv    -0.0187 0.0462 -0.4038 0.6866 -0.1092  0.0719\n",
      "\n",
      "-------------------------------------------------------------------------\n",
      "\n",
      "\n",
      "********************** DIRECT AND INDIRECT EFFECTS **********************\n",
      "\n",
      "Conditional direct effect(s) of t2lv on EDSS_sqrt at values of the moderator(s):\n",
      "\n",
      "  choroid_volume  Effect     SE       t      p    LLCI   ULCI\n",
      "         -0.9939 -0.0033 0.0669 -0.0489 0.9610 -0.1345 0.1279\n",
      "          0.0087  0.0670 0.0494  1.3555 0.1760 -0.0299 0.1639\n",
      "          1.0113  0.1373 0.0665  2.0629 0.0398  0.0069 0.2677\n",
      "\n",
      "Indirect effect of t2lv on EDSS_sqrt:\n",
      "\n",
      "            Effect  Boot SE  BootLLCI  BootULCI\n",
      "  thalamus  0.0998   0.0299    0.0481    0.1680\n",
      "\n",
      "\n"
     ]
    },
    {
     "name": "stderr",
     "output_type": "stream",
     "text": [
      "/home/srs-9/.virtualenvs/monai/lib/python3.12/site-packages/pyprocessmacro/models.py:738: DeprecationWarning: `product` is deprecated as of NumPy 1.25.0, and will be removed in NumPy 2.0. Please use `prod` instead.\n",
      "  expr_x_to_m = eval_expression(der_x_to_m, mod_dict)\n",
      "/home/srs-9/.virtualenvs/monai/lib/python3.12/site-packages/pyprocessmacro/models.py:739: DeprecationWarning: `product` is deprecated as of NumPy 1.25.0, and will be removed in NumPy 2.0. Please use `prod` instead.\n",
      "  expr_m_to_y = eval_expression(der_m_to_y, mod_dict)\n",
      "/home/srs-9/.virtualenvs/monai/lib/python3.12/site-packages/pyprocessmacro/models.py:752: DeprecationWarning: the `interpolation=` argument to percentile was renamed to `method=`, which has additional options.\n",
      "Users of the modes 'nearest', 'lower', 'higher', or 'midpoint' are encouraged to review the method they used. (Deprecated NumPy 1.22)\n",
      "  llci, ulci = bias_corrected_ci(e, be, conf)\n",
      "/home/srs-9/.virtualenvs/monai/lib/python3.12/site-packages/pyprocessmacro/models.py:827: DeprecationWarning: the `interpolation=` argument to percentile was renamed to `method=`, which has additional options.\n",
      "Users of the modes 'nearest', 'lower', 'higher', or 'midpoint' are encouraged to review the method they used. (Deprecated NumPy 1.22)\n",
      "  ci = bias_corrected_ci(e[i], be[i], conf)\n",
      "/home/srs-9/.virtualenvs/monai/lib/python3.12/site-packages/pyprocessmacro/models.py:1222: FutureWarning: errors='ignore' is deprecated and will raise in a future version. Use to_numeric without passing `errors` and catch exceptions explicitly instead\n",
      "  return df.apply(pd.to_numeric, args=[\"ignore\"])\n"
     ]
    }
   ],
   "source": [
    "p2 = Process(data=data_ms_z, model=5, x=\"t2lv\", y=\"EDSS_sqrt\", w=\"choroid_volume\",\n",
    "            m=[\"thalamus\"],\n",
    "            controls=[\"age\", \"Female\", \"tiv\"],\n",
    "            controls_in=\"all\")\n",
    "p2.summary()"
   ]
  },
  {
   "cell_type": "code",
   "execution_count": null,
   "metadata": {},
   "outputs": [
    {
     "name": "stderr",
     "output_type": "stream",
     "text": [
      "/home/srs-9/.virtualenvs/monai/lib/python3.12/site-packages/pyprocessmacro/models.py:1188: FutureWarning: errors='ignore' is deprecated and will raise in a future version. Use to_numeric without passing `errors` and catch exceptions explicitly instead\n",
      "  return df.apply(pd.to_numeric, args=[\"ignore\"])\n"
     ]
    }
   ],
   "source": [
    "process_output = curr_dir / \"process_output\"\n",
    "p2.outcome_models['EDSS_sqrt'].model_summary().to_csv(process_output / \"outcome_model_edss_summary.csv\")\n",
    "p2.outcome_models['thalamus'].model_summary().to_csv(process_output / \"outcome_model_thal_summary.csv\")\n",
    "p2.outcome_models['thalamus'].coeff_summary().to_csv(process_output / \"outcome_model_thal.csv\")\n",
    "p2.outcome_models['EDSS_sqrt'].coeff_summary().to_csv(process_output / \"outcome_model_edss.csv\")\n",
    "p2.direct_model.coeff_summary().to_csv(process_output / \"direct_model.csv\")\n",
    "p2.indirect_model.coeff_summary().to_csv(process_output / \"indirect_model.csv\")"
   ]
  },
  {
   "cell_type": "code",
   "execution_count": null,
   "metadata": {},
   "outputs": [
    {
     "name": "stdout",
     "output_type": "stream",
     "text": [
      "R2:     0.276\n",
      "R2_adj: 0.263\n",
      "                                  coef      p\n",
      "Intercept                       -0.052  0.254\n",
      "choroid_volume                  -0.060  0.289\n",
      "t2lv                 0.065  0.191\n",
      "choroid_volume:t2lv  0.105  0.018\n",
      "thalamus                        -0.246  0.000\n",
      "tiv                             -0.050  0.338\n",
      "age                              0.329  0.000\n",
      "Female                          -0.065  0.226\n"
     ]
    }
   ],
   "source": [
    "moderation_model = sm.OLS.from_formula(\"EDSS ~ choroid_volume*t2lv + thalamus + tiv + age + Female\", data=data_ms_z)\n",
    "res = moderation_model.fit()\n",
    "summary = pd.DataFrame({'coef': res.params, 'p': res.pvalues.round(3)})\n",
    "print(\"R2:     {:0.3}\".format(res.rsquared))\n",
    "print(\"R2_adj: {:0.3}\".format(res.rsquared_adj))\n",
    "print(summary)"
   ]
  },
  {
   "cell_type": "markdown",
   "metadata": {},
   "source": [
    "Notes for the moderated mediation model before:\n",
    "\n",
    "When including thalamus and choroid:t2lv, the coefficient for choroid flips signs. Actually, including the thalamus at all with choroid flips the choroid sign. The choroid effect just isn't significant "
   ]
  },
  {
   "cell_type": "code",
   "execution_count": null,
   "metadata": {},
   "outputs": [
    {
     "name": "stderr",
     "output_type": "stream",
     "text": [
      "/home/srs-9/.virtualenvs/monai/lib/python3.12/site-packages/pyprocessmacro/models.py:1567: DeprecationWarning: `product` is deprecated as of NumPy 1.25.0, and will be removed in NumPy 2.0. Please use `prod` instead.\n",
      "  grad = eval_expression(\n"
     ]
    },
    {
     "name": "stdout",
     "output_type": "stream",
     "text": [
      "Process successfully initialized.\n",
      "Based on the Process Macro by Andrew F. Hayes, Ph.D. (www.afhayes.com)\n",
      "\n",
      "\n",
      "****************************** SPECIFICATION ****************************\n",
      "\n",
      "Model = 8\n",
      "\n",
      "Variables:\n",
      "    Cons = Cons\n",
      "    x = t2lv\n",
      "    y = EDSS_sqrt\n",
      "    w = choroid_volume2\n",
      "    m1 = thalamus\n",
      "Statistical Controls:\n",
      " age, Female, tiv\n",
      "\n",
      "\n",
      "\n",
      "Sample size:\n",
      "412\n",
      "\n",
      "Bootstrapping information for indirect effects:\n",
      "Final number of bootstrap samples: 5000\n",
      "Number of samples discarded due to convergence issues: 0\n"
     ]
    },
    {
     "name": "stderr",
     "output_type": "stream",
     "text": [
      "/home/srs-9/.virtualenvs/monai/lib/python3.12/site-packages/pyprocessmacro/models.py:738: DeprecationWarning: `product` is deprecated as of NumPy 1.25.0, and will be removed in NumPy 2.0. Please use `prod` instead.\n",
      "  expr_x_to_m = eval_expression(der_x_to_m, mod_dict)\n",
      "/home/srs-9/.virtualenvs/monai/lib/python3.12/site-packages/pyprocessmacro/models.py:739: DeprecationWarning: `product` is deprecated as of NumPy 1.25.0, and will be removed in NumPy 2.0. Please use `prod` instead.\n",
      "  expr_m_to_y = eval_expression(der_m_to_y, mod_dict)\n",
      "/home/srs-9/.virtualenvs/monai/lib/python3.12/site-packages/pyprocessmacro/models.py:752: DeprecationWarning: the `interpolation=` argument to percentile was renamed to `method=`, which has additional options.\n",
      "Users of the modes 'nearest', 'lower', 'higher', or 'midpoint' are encouraged to review the method they used. (Deprecated NumPy 1.22)\n",
      "  llci, ulci = bias_corrected_ci(e, be, conf)\n",
      "/home/srs-9/.virtualenvs/monai/lib/python3.12/site-packages/pyprocessmacro/models.py:1188: FutureWarning: errors='ignore' is deprecated and will raise in a future version. Use to_numeric without passing `errors` and catch exceptions explicitly instead\n",
      "  return df.apply(pd.to_numeric, args=[\"ignore\"])\n",
      "/home/srs-9/.virtualenvs/monai/lib/python3.12/site-packages/pyprocessmacro/models.py:738: DeprecationWarning: `product` is deprecated as of NumPy 1.25.0, and will be removed in NumPy 2.0. Please use `prod` instead.\n",
      "  expr_x_to_m = eval_expression(der_x_to_m, mod_dict)\n",
      "/home/srs-9/.virtualenvs/monai/lib/python3.12/site-packages/pyprocessmacro/models.py:739: DeprecationWarning: `product` is deprecated as of NumPy 1.25.0, and will be removed in NumPy 2.0. Please use `prod` instead.\n",
      "  expr_m_to_y = eval_expression(der_m_to_y, mod_dict)\n",
      "/home/srs-9/.virtualenvs/monai/lib/python3.12/site-packages/pyprocessmacro/models.py:752: DeprecationWarning: the `interpolation=` argument to percentile was renamed to `method=`, which has additional options.\n",
      "Users of the modes 'nearest', 'lower', 'higher', or 'midpoint' are encouraged to review the method they used. (Deprecated NumPy 1.22)\n",
      "  llci, ulci = bias_corrected_ci(e, be, conf)\n",
      "/home/srs-9/.virtualenvs/monai/lib/python3.12/site-packages/pyprocessmacro/models.py:915: DeprecationWarning: the `interpolation=` argument to percentile was renamed to `method=`, which has additional options.\n",
      "Users of the modes 'nearest', 'lower', 'higher', or 'midpoint' are encouraged to review the method they used. (Deprecated NumPy 1.22)\n",
      "  llci[i], ulci[i] = bias_corrected_ci(e_mm, be_mm, conf)\n",
      "/home/srs-9/.virtualenvs/monai/lib/python3.12/site-packages/pyprocessmacro/models.py:1252: FutureWarning: errors='ignore' is deprecated and will raise in a future version. Use to_numeric without passing `errors` and catch exceptions explicitly instead\n",
      "  return df.apply(pd.to_numeric, args=[\"ignore\"])\n"
     ]
    }
   ],
   "source": [
    "model_data = data_ms\n",
    "model_data['choroid_volume2'] = model_data['choroid_volume'] / 1000\n",
    "\n",
    "p2 = Process(data=model_data, model=8, x=\"t2lv\", y=\"EDSS_sqrt\", w=\"choroid_volume2\",\n",
    "            m=[\"thalamus\"],\n",
    "            controls=[\"age\", \"Female\", \"tiv\"],\n",
    "            controls_in=\"all\")\n",
    "\n",
    "# p2.summary()\n",
    "\n",
    "orig_stdout = sys.stdout\n",
    "with open(\"process_macro_out.txt\", 'w') as f:\n",
    "    sys.stdout = f\n",
    "    p2.summary()\n",
    "    # print(p2.summary(), file=f)\n",
    "sys.stdout = orig_stdout"
   ]
  },
  {
   "cell_type": "code",
   "execution_count": null,
   "metadata": {},
   "outputs": [
    {
     "name": "stderr",
     "output_type": "stream",
     "text": [
      "/home/srs-9/.virtualenvs/monai/lib/python3.12/site-packages/pyprocessmacro/models.py:1567: DeprecationWarning: `product` is deprecated as of NumPy 1.25.0, and will be removed in NumPy 2.0. Please use `prod` instead.\n",
      "  grad = eval_expression(\n"
     ]
    },
    {
     "name": "stdout",
     "output_type": "stream",
     "text": [
      "Process successfully initialized.\n",
      "Based on the Process Macro by Andrew F. Hayes, Ph.D. (www.afhayes.com)\n",
      "\n",
      "\n",
      "****************************** SPECIFICATION ****************************\n",
      "\n",
      "Model = 8\n",
      "\n",
      "Variables:\n",
      "    Cons = Cons\n",
      "    x = t2lv\n",
      "    y = EDSS_sqrt\n",
      "    w = choroid_volume\n",
      "    m1 = thalamus\n",
      "Statistical Controls:\n",
      " age, Female, tiv\n",
      "\n",
      "\n",
      "\n",
      "Sample size:\n",
      "412\n",
      "\n",
      "Bootstrapping information for indirect effects:\n",
      "Final number of bootstrap samples: 5000\n",
      "Number of samples discarded due to convergence issues: 0\n"
     ]
    },
    {
     "name": "stderr",
     "output_type": "stream",
     "text": [
      "/home/srs-9/.virtualenvs/monai/lib/python3.12/site-packages/pyprocessmacro/models.py:738: DeprecationWarning: `product` is deprecated as of NumPy 1.25.0, and will be removed in NumPy 2.0. Please use `prod` instead.\n",
      "  expr_x_to_m = eval_expression(der_x_to_m, mod_dict)\n",
      "/home/srs-9/.virtualenvs/monai/lib/python3.12/site-packages/pyprocessmacro/models.py:739: DeprecationWarning: `product` is deprecated as of NumPy 1.25.0, and will be removed in NumPy 2.0. Please use `prod` instead.\n",
      "  expr_m_to_y = eval_expression(der_m_to_y, mod_dict)\n",
      "/home/srs-9/.virtualenvs/monai/lib/python3.12/site-packages/pyprocessmacro/models.py:752: DeprecationWarning: the `interpolation=` argument to percentile was renamed to `method=`, which has additional options.\n",
      "Users of the modes 'nearest', 'lower', 'higher', or 'midpoint' are encouraged to review the method they used. (Deprecated NumPy 1.22)\n",
      "  llci, ulci = bias_corrected_ci(e, be, conf)\n",
      "/home/srs-9/.virtualenvs/monai/lib/python3.12/site-packages/pyprocessmacro/models.py:1188: FutureWarning: errors='ignore' is deprecated and will raise in a future version. Use to_numeric without passing `errors` and catch exceptions explicitly instead\n",
      "  return df.apply(pd.to_numeric, args=[\"ignore\"])\n",
      "/home/srs-9/.virtualenvs/monai/lib/python3.12/site-packages/pyprocessmacro/models.py:738: DeprecationWarning: `product` is deprecated as of NumPy 1.25.0, and will be removed in NumPy 2.0. Please use `prod` instead.\n",
      "  expr_x_to_m = eval_expression(der_x_to_m, mod_dict)\n",
      "/home/srs-9/.virtualenvs/monai/lib/python3.12/site-packages/pyprocessmacro/models.py:739: DeprecationWarning: `product` is deprecated as of NumPy 1.25.0, and will be removed in NumPy 2.0. Please use `prod` instead.\n",
      "  expr_m_to_y = eval_expression(der_m_to_y, mod_dict)\n",
      "/home/srs-9/.virtualenvs/monai/lib/python3.12/site-packages/pyprocessmacro/models.py:752: DeprecationWarning: the `interpolation=` argument to percentile was renamed to `method=`, which has additional options.\n",
      "Users of the modes 'nearest', 'lower', 'higher', or 'midpoint' are encouraged to review the method they used. (Deprecated NumPy 1.22)\n",
      "  llci, ulci = bias_corrected_ci(e, be, conf)\n",
      "/home/srs-9/.virtualenvs/monai/lib/python3.12/site-packages/pyprocessmacro/models.py:915: DeprecationWarning: the `interpolation=` argument to percentile was renamed to `method=`, which has additional options.\n",
      "Users of the modes 'nearest', 'lower', 'higher', or 'midpoint' are encouraged to review the method they used. (Deprecated NumPy 1.22)\n",
      "  llci[i], ulci[i] = bias_corrected_ci(e_mm, be_mm, conf)\n",
      "/home/srs-9/.virtualenvs/monai/lib/python3.12/site-packages/pyprocessmacro/models.py:1252: FutureWarning: errors='ignore' is deprecated and will raise in a future version. Use to_numeric without passing `errors` and catch exceptions explicitly instead\n",
      "  return df.apply(pd.to_numeric, args=[\"ignore\"])\n"
     ]
    }
   ],
   "source": [
    "p2 = Process(data=data_ms_z, model=8, x=\"t2lv\", y=\"EDSS_sqrt\", w=\"choroid_volume\",\n",
    "            m=[\"thalamus\"],\n",
    "            controls=[\"age\", \"Female\", \"tiv\"],\n",
    "            controls_in=\"all\")\n",
    "\n",
    "# p2.summary()\n",
    "\n",
    "orig_stdout = sys.stdout\n",
    "with open(\"process_macro_out2.txt\", 'w') as f:\n",
    "    sys.stdout = f\n",
    "    p2.summary()\n",
    "    # print(p2.summary(), file=f)\n",
    "sys.stdout = orig_stdout"
   ]
  },
  {
   "cell_type": "code",
   "execution_count": null,
   "metadata": {},
   "outputs": [
    {
     "name": "stderr",
     "output_type": "stream",
     "text": [
      "/home/srs-9/.virtualenvs/monai/lib/python3.12/site-packages/pyprocessmacro/models.py:1567: DeprecationWarning: `product` is deprecated as of NumPy 1.25.0, and will be removed in NumPy 2.0. Please use `prod` instead.\n",
      "  grad = eval_expression(\n"
     ]
    },
    {
     "data": {
      "image/png": "[encoded data removed]",
      "text/plain": [
       "<Figure size 300x300 with 1 Axes>"
      ]
     },
     "metadata": {},
     "output_type": "display_data"
    }
   ],
   "source": [
    "g = p2.plot_conditional_direct_effects(x=\"choroid_volume2\")"
   ]
  },
  {
   "cell_type": "markdown",
   "metadata": {},
   "source": [
    "#### Mediation Analysis"
   ]
  },
  {
   "cell_type": "markdown",
   "metadata": {},
   "source": [
    "##### Lesion volume mediating effect of CP volume on EDSS"
   ]
  },
  {
   "cell_type": "code",
   "execution_count": 20,
   "metadata": {},
   "outputs": [
    {
     "data": {
      "application/vnd.microsoft.datawrangler.viewer.v0+json": {
       "columns": [
        {
         "name": "index",
         "rawType": "object",
         "type": "string"
        },
        {
         "name": "Estimate",
         "rawType": "float64",
         "type": "float"
        },
        {
         "name": "Lower CI bound",
         "rawType": "float64",
         "type": "float"
        },
        {
         "name": "Upper CI bound",
         "rawType": "float64",
         "type": "float"
        },
        {
         "name": "P-value",
         "rawType": "float64",
         "type": "float"
        }
       ],
       "conversionMethod": "pd.DataFrame",
       "ref": "a7ebc369-190b-4789-a4e7-7e0c006c025a",
       "rows": [
        [
         "ACME (control)",
         "-0.00017213306562185237",
         "-0.013923973411975113",
         "0.014194921443473833",
         "0.978"
        ],
        [
         "ACME (treated)",
         "-0.0001721330656218522",
         "-0.0139239734119751",
         "0.014194921443473835",
         "0.978"
        ],
        [
         "ADE (control)",
         "-3.284822947172527e-05",
         "-0.00014085082702263124",
         "7.516123122818767e-05",
         "0.558"
        ],
        [
         "ADE (treated)",
         "-3.2848229471725124e-05",
         "-0.0001408508270226128",
         "7.51612312281881e-05",
         "0.558"
        ],
        [
         "Total effect",
         "-0.00020498129509357736",
         "-0.013983573372267513",
         "0.014157120240796022",
         "0.968"
        ],
        [
         "Prop. mediated (control)",
         "0.9995781821418055",
         "0.870251346495579",
         "1.1074233393008868",
         "0.01"
        ],
        [
         "Prop. mediated (treated)",
         "0.999578182141805",
         "0.8702513464955792",
         "1.10742333930089",
         "0.01"
        ],
        [
         "ACME (average)",
         "-0.00017213306562185226",
         "-0.013923973411975108",
         "0.014194921443473833",
         "0.978"
        ],
        [
         "ADE (average)",
         "-3.284822947172519e-05",
         "-0.00014085082702262202",
         "7.516123122818789e-05",
         "0.558"
        ],
        [
         "Prop. mediated (average)",
         "0.9995781821418053",
         "0.8702513464955791",
         "1.1074233393008883",
         "0.01"
        ]
       ],
       "shape": {
        "columns": 4,
        "rows": 10
       }
      },
      "text/html": [
       "<div>\n",
       "<style scoped>\n",
       "    .dataframe tbody tr th:only-of-type {\n",
       "        vertical-align: middle;\n",
       "    }\n",
       "\n",
       "    .dataframe tbody tr th {\n",
       "        vertical-align: top;\n",
       "    }\n",
       "\n",
       "    .dataframe thead th {\n",
       "        text-align: right;\n",
       "    }\n",
       "</style>\n",
       "<table border=\"1\" class=\"dataframe\">\n",
       "  <thead>\n",
       "    <tr style=\"text-align: right;\">\n",
       "      <th></th>\n",
       "      <th>Estimate</th>\n",
       "      <th>Lower CI bound</th>\n",
       "      <th>Upper CI bound</th>\n",
       "      <th>P-value</th>\n",
       "    </tr>\n",
       "  </thead>\n",
       "  <tbody>\n",
       "    <tr>\n",
       "      <th>ACME (control)</th>\n",
       "      <td>-1.721e-04</td>\n",
       "      <td>-1.392e-02</td>\n",
       "      <td>1.419e-02</td>\n",
       "      <td>0.978</td>\n",
       "    </tr>\n",
       "    <tr>\n",
       "      <th>ACME (treated)</th>\n",
       "      <td>-1.721e-04</td>\n",
       "      <td>-1.392e-02</td>\n",
       "      <td>1.419e-02</td>\n",
       "      <td>0.978</td>\n",
       "    </tr>\n",
       "    <tr>\n",
       "      <th>ADE (control)</th>\n",
       "      <td>-3.285e-05</td>\n",
       "      <td>-1.409e-04</td>\n",
       "      <td>7.516e-05</td>\n",
       "      <td>0.558</td>\n",
       "    </tr>\n",
       "    <tr>\n",
       "      <th>ADE (treated)</th>\n",
       "      <td>-3.285e-05</td>\n",
       "      <td>-1.409e-04</td>\n",
       "      <td>7.516e-05</td>\n",
       "      <td>0.558</td>\n",
       "    </tr>\n",
       "    <tr>\n",
       "      <th>Total effect</th>\n",
       "      <td>-2.050e-04</td>\n",
       "      <td>-1.398e-02</td>\n",
       "      <td>1.416e-02</td>\n",
       "      <td>0.968</td>\n",
       "    </tr>\n",
       "    <tr>\n",
       "      <th>Prop. mediated (control)</th>\n",
       "      <td>9.996e-01</td>\n",
       "      <td>8.703e-01</td>\n",
       "      <td>1.107e+00</td>\n",
       "      <td>0.010</td>\n",
       "    </tr>\n",
       "    <tr>\n",
       "      <th>Prop. mediated (treated)</th>\n",
       "      <td>9.996e-01</td>\n",
       "      <td>8.703e-01</td>\n",
       "      <td>1.107e+00</td>\n",
       "      <td>0.010</td>\n",
       "    </tr>\n",
       "    <tr>\n",
       "      <th>ACME (average)</th>\n",
       "      <td>-1.721e-04</td>\n",
       "      <td>-1.392e-02</td>\n",
       "      <td>1.419e-02</td>\n",
       "      <td>0.978</td>\n",
       "    </tr>\n",
       "    <tr>\n",
       "      <th>ADE (average)</th>\n",
       "      <td>-3.285e-05</td>\n",
       "      <td>-1.409e-04</td>\n",
       "      <td>7.516e-05</td>\n",
       "      <td>0.558</td>\n",
       "    </tr>\n",
       "    <tr>\n",
       "      <th>Prop. mediated (average)</th>\n",
       "      <td>9.996e-01</td>\n",
       "      <td>8.703e-01</td>\n",
       "      <td>1.107e+00</td>\n",
       "      <td>0.010</td>\n",
       "    </tr>\n",
       "  </tbody>\n",
       "</table>\n",
       "</div>"
      ],
      "text/plain": [
       "                           Estimate  Lower CI bound  Upper CI bound  P-value\n",
       "ACME (control)           -1.721e-04      -1.392e-02       1.419e-02    0.978\n",
       "ACME (treated)           -1.721e-04      -1.392e-02       1.419e-02    0.978\n",
       "ADE (control)            -3.285e-05      -1.409e-04       7.516e-05    0.558\n",
       "ADE (treated)            -3.285e-05      -1.409e-04       7.516e-05    0.558\n",
       "Total effect             -2.050e-04      -1.398e-02       1.416e-02    0.968\n",
       "Prop. mediated (control)  9.996e-01       8.703e-01       1.107e+00    0.010\n",
       "Prop. mediated (treated)  9.996e-01       8.703e-01       1.107e+00    0.010\n",
       "ACME (average)           -1.721e-04      -1.392e-02       1.419e-02    0.978\n",
       "ADE (average)            -3.285e-05      -1.409e-04       7.516e-05    0.558\n",
       "Prop. mediated (average)  9.996e-01       8.703e-01       1.107e+00    0.010"
      ]
     },
     "execution_count": 20,
     "metadata": {},
     "output_type": "execute_result"
    }
   ],
   "source": [
    "outcome_model = sm.OLS.from_formula(\n",
    "    \"EDSS_sqrt ~ choroid_volume + t2lv_logtrans + age + tiv + Female\", data=df_scale_ms\n",
    ")\n",
    "mediator_model = sm.OLS.from_formula(\n",
    "    \"t2lv_logtrans ~ choroid_volume + age + tiv + Female\", data=df_scale_ms\n",
    ")\n",
    "\n",
    "med = Mediation(\n",
    "    outcome_model, mediator_model, \"choroid_volume\", \"t2lv_logtrans\"\n",
    ").fit(method=\"bootstrap\")\n",
    "med.summary()"
   ]
  },
  {
   "cell_type": "markdown",
   "metadata": {},
   "source": [
    "Thalamus mediating effect of lesion volume on EDSS"
   ]
  },
  {
   "cell_type": "code",
   "execution_count": 101,
   "metadata": {},
   "outputs": [
    {
     "data": {
      "application/vnd.microsoft.datawrangler.viewer.v0+json": {
       "columns": [
        {
         "name": "index",
         "rawType": "object",
         "type": "string"
        },
        {
         "name": "Estimate",
         "rawType": "float64",
         "type": "float"
        },
        {
         "name": "Lower CI bound",
         "rawType": "float64",
         "type": "float"
        },
        {
         "name": "Upper CI bound",
         "rawType": "float64",
         "type": "float"
        },
        {
         "name": "P-value",
         "rawType": "float64",
         "type": "float"
        }
       ],
       "conversionMethod": "pd.DataFrame",
       "ref": "63c5176f-dd1c-404b-81a0-ebe244b09dfe",
       "rows": [
        [
         "ACME (control)",
         "0.10364137429612875",
         "0.04603934903460336",
         "0.1690541989779932",
         "0.0"
        ],
        [
         "ACME (treated)",
         "0.10364137429612875",
         "0.04603934903460336",
         "0.16905419897799318",
         "0.0"
        ],
        [
         "ADE (control)",
         "0.06883763136057167",
         "-0.03194215360020764",
         "0.2002150968154821",
         "0.206"
        ],
        [
         "ADE (treated)",
         "0.06883763136057167",
         "-0.031942153600207655",
         "0.2002150968154821",
         "0.206"
        ],
        [
         "Total effect",
         "0.17247900565670043",
         "0.07487708064510516",
         "0.2928149061063648",
         "0.0"
        ],
        [
         "Prop. mediated (control)",
         "0.6141202952857658",
         "0.23758624143378418",
         "1.404456359787944",
         "0.0"
        ],
        [
         "Prop. mediated (treated)",
         "0.6141202952857658",
         "0.23758624143378418",
         "1.404456359787944",
         "0.0"
        ],
        [
         "ACME (average)",
         "0.10364137429612875",
         "0.04603934903460336",
         "0.16905419897799318",
         "0.0"
        ],
        [
         "ADE (average)",
         "0.06883763136057167",
         "-0.03194215360020765",
         "0.2002150968154821",
         "0.206"
        ],
        [
         "Prop. mediated (average)",
         "0.6141202952857658",
         "0.23758624143378418",
         "1.404456359787944",
         "0.0"
        ]
       ],
       "shape": {
        "columns": 4,
        "rows": 10
       }
      },
      "text/html": [
       "<div>\n",
       "<style scoped>\n",
       "    .dataframe tbody tr th:only-of-type {\n",
       "        vertical-align: middle;\n",
       "    }\n",
       "\n",
       "    .dataframe tbody tr th {\n",
       "        vertical-align: top;\n",
       "    }\n",
       "\n",
       "    .dataframe thead th {\n",
       "        text-align: right;\n",
       "    }\n",
       "</style>\n",
       "<table border=\"1\" class=\"dataframe\">\n",
       "  <thead>\n",
       "    <tr style=\"text-align: right;\">\n",
       "      <th></th>\n",
       "      <th>Estimate</th>\n",
       "      <th>Lower CI bound</th>\n",
       "      <th>Upper CI bound</th>\n",
       "      <th>P-value</th>\n",
       "    </tr>\n",
       "  </thead>\n",
       "  <tbody>\n",
       "    <tr>\n",
       "      <th>ACME (control)</th>\n",
       "      <td>0.104</td>\n",
       "      <td>0.046</td>\n",
       "      <td>0.169</td>\n",
       "      <td>0.000</td>\n",
       "    </tr>\n",
       "    <tr>\n",
       "      <th>ACME (treated)</th>\n",
       "      <td>0.104</td>\n",
       "      <td>0.046</td>\n",
       "      <td>0.169</td>\n",
       "      <td>0.000</td>\n",
       "    </tr>\n",
       "    <tr>\n",
       "      <th>ADE (control)</th>\n",
       "      <td>0.069</td>\n",
       "      <td>-0.032</td>\n",
       "      <td>0.200</td>\n",
       "      <td>0.206</td>\n",
       "    </tr>\n",
       "    <tr>\n",
       "      <th>ADE (treated)</th>\n",
       "      <td>0.069</td>\n",
       "      <td>-0.032</td>\n",
       "      <td>0.200</td>\n",
       "      <td>0.206</td>\n",
       "    </tr>\n",
       "    <tr>\n",
       "      <th>Total effect</th>\n",
       "      <td>0.172</td>\n",
       "      <td>0.075</td>\n",
       "      <td>0.293</td>\n",
       "      <td>0.000</td>\n",
       "    </tr>\n",
       "    <tr>\n",
       "      <th>Prop. mediated (control)</th>\n",
       "      <td>0.614</td>\n",
       "      <td>0.238</td>\n",
       "      <td>1.404</td>\n",
       "      <td>0.000</td>\n",
       "    </tr>\n",
       "    <tr>\n",
       "      <th>Prop. mediated (treated)</th>\n",
       "      <td>0.614</td>\n",
       "      <td>0.238</td>\n",
       "      <td>1.404</td>\n",
       "      <td>0.000</td>\n",
       "    </tr>\n",
       "    <tr>\n",
       "      <th>ACME (average)</th>\n",
       "      <td>0.104</td>\n",
       "      <td>0.046</td>\n",
       "      <td>0.169</td>\n",
       "      <td>0.000</td>\n",
       "    </tr>\n",
       "    <tr>\n",
       "      <th>ADE (average)</th>\n",
       "      <td>0.069</td>\n",
       "      <td>-0.032</td>\n",
       "      <td>0.200</td>\n",
       "      <td>0.206</td>\n",
       "    </tr>\n",
       "    <tr>\n",
       "      <th>Prop. mediated (average)</th>\n",
       "      <td>0.614</td>\n",
       "      <td>0.238</td>\n",
       "      <td>1.404</td>\n",
       "      <td>0.000</td>\n",
       "    </tr>\n",
       "  </tbody>\n",
       "</table>\n",
       "</div>"
      ],
      "text/plain": [
       "                          Estimate  Lower CI bound  Upper CI bound  P-value\n",
       "ACME (control)               0.104           0.046           0.169    0.000\n",
       "ACME (treated)               0.104           0.046           0.169    0.000\n",
       "ADE (control)                0.069          -0.032           0.200    0.206\n",
       "ADE (treated)                0.069          -0.032           0.200    0.206\n",
       "Total effect                 0.172           0.075           0.293    0.000\n",
       "Prop. mediated (control)     0.614           0.238           1.404    0.000\n",
       "Prop. mediated (treated)     0.614           0.238           1.404    0.000\n",
       "ACME (average)               0.104           0.046           0.169    0.000\n",
       "ADE (average)                0.069          -0.032           0.200    0.206\n",
       "Prop. mediated (average)     0.614           0.238           1.404    0.000"
      ]
     },
     "execution_count": 101,
     "metadata": {},
     "output_type": "execute_result"
    }
   ],
   "source": [
    "outcome_model = sm.OLS.from_formula(\n",
    "    \"EDSS_sqrt ~ t2lv + thalamus + age + tiv + Female\", data=df_scale_ms\n",
    ")\n",
    "mediator_model = sm.OLS.from_formula(\n",
    "    \"thalamus ~ t2lv + age + tiv + Female\", data=df_scale_ms\n",
    ")\n",
    "\n",
    "med = Mediation(\n",
    "    outcome_model, mediator_model, \"t2lv\", \"thalamus\"\n",
    ").fit(method=\"bootstrap\")\n",
    "med.summary()"
   ]
  },
  {
   "cell_type": "markdown",
   "metadata": {},
   "source": [
    "Thalamus mediating effect of choroid volume on EDSS. ACME is significant, but not prop mediated"
   ]
  },
  {
   "cell_type": "code",
   "execution_count": 123,
   "metadata": {},
   "outputs": [
    {
     "data": {
      "application/vnd.microsoft.datawrangler.viewer.v0+json": {
       "columns": [
        {
         "name": "index",
         "rawType": "object",
         "type": "string"
        },
        {
         "name": "Estimate",
         "rawType": "float64",
         "type": "float"
        },
        {
         "name": "Lower CI bound",
         "rawType": "float64",
         "type": "float"
        },
        {
         "name": "Upper CI bound",
         "rawType": "float64",
         "type": "float"
        },
        {
         "name": "P-value",
         "rawType": "float64",
         "type": "float"
        }
       ],
       "conversionMethod": "pd.DataFrame",
       "ref": "dd09a400-faf0-438d-9a13-617afc1e7362",
       "rows": [
        [
         "ACME (control)",
         "0.22963541036686122",
         "0.12937450849941856",
         "0.3435527941087678",
         "0.0"
        ],
        [
         "ACME (treated)",
         "0.22963541036686122",
         "0.12937450849941856",
         "0.3435527941087678",
         "0.0"
        ],
        [
         "ADE (control)",
         "-0.0531928987077035",
         "-0.26222624322401816",
         "0.15162643765265207",
         "0.63"
        ],
        [
         "ADE (treated)",
         "-0.05319289870770351",
         "-0.26222624322401816",
         "0.15162643765265207",
         "0.63"
        ],
        [
         "Total effect",
         "0.17644251165915767",
         "-0.004160581426224008",
         "0.3603627082846803",
         "0.056"
        ],
        [
         "Prop. mediated (control)",
         "1.2223522036714876",
         "-3.128504279879508",
         "7.490525155581196",
         "0.056"
        ],
        [
         "Prop. mediated (treated)",
         "1.2223522036714876",
         "-3.128504279879507",
         "7.490525155581198",
         "0.056"
        ],
        [
         "ACME (average)",
         "0.22963541036686122",
         "0.12937450849941856",
         "0.3435527941087678",
         "0.0"
        ],
        [
         "ADE (average)",
         "-0.0531928987077035",
         "-0.26222624322401816",
         "0.15162643765265207",
         "0.63"
        ],
        [
         "Prop. mediated (average)",
         "1.2223522036714876",
         "-3.1285042798795075",
         "7.490525155581197",
         "0.056"
        ]
       ],
       "shape": {
        "columns": 4,
        "rows": 10
       }
      },
      "text/html": [
       "<div>\n",
       "<style scoped>\n",
       "    .dataframe tbody tr th:only-of-type {\n",
       "        vertical-align: middle;\n",
       "    }\n",
       "\n",
       "    .dataframe tbody tr th {\n",
       "        vertical-align: top;\n",
       "    }\n",
       "\n",
       "    .dataframe thead th {\n",
       "        text-align: right;\n",
       "    }\n",
       "</style>\n",
       "<table border=\"1\" class=\"dataframe\">\n",
       "  <thead>\n",
       "    <tr style=\"text-align: right;\">\n",
       "      <th></th>\n",
       "      <th>Estimate</th>\n",
       "      <th>Lower CI bound</th>\n",
       "      <th>Upper CI bound</th>\n",
       "      <th>P-value</th>\n",
       "    </tr>\n",
       "  </thead>\n",
       "  <tbody>\n",
       "    <tr>\n",
       "      <th>ACME (control)</th>\n",
       "      <td>0.230</td>\n",
       "      <td>0.129</td>\n",
       "      <td>0.344</td>\n",
       "      <td>0.000</td>\n",
       "    </tr>\n",
       "    <tr>\n",
       "      <th>ACME (treated)</th>\n",
       "      <td>0.230</td>\n",
       "      <td>0.129</td>\n",
       "      <td>0.344</td>\n",
       "      <td>0.000</td>\n",
       "    </tr>\n",
       "    <tr>\n",
       "      <th>ADE (control)</th>\n",
       "      <td>-0.053</td>\n",
       "      <td>-0.262</td>\n",
       "      <td>0.152</td>\n",
       "      <td>0.630</td>\n",
       "    </tr>\n",
       "    <tr>\n",
       "      <th>ADE (treated)</th>\n",
       "      <td>-0.053</td>\n",
       "      <td>-0.262</td>\n",
       "      <td>0.152</td>\n",
       "      <td>0.630</td>\n",
       "    </tr>\n",
       "    <tr>\n",
       "      <th>Total effect</th>\n",
       "      <td>0.176</td>\n",
       "      <td>-0.004</td>\n",
       "      <td>0.360</td>\n",
       "      <td>0.056</td>\n",
       "    </tr>\n",
       "    <tr>\n",
       "      <th>Prop. mediated (control)</th>\n",
       "      <td>1.222</td>\n",
       "      <td>-3.129</td>\n",
       "      <td>7.491</td>\n",
       "      <td>0.056</td>\n",
       "    </tr>\n",
       "    <tr>\n",
       "      <th>Prop. mediated (treated)</th>\n",
       "      <td>1.222</td>\n",
       "      <td>-3.129</td>\n",
       "      <td>7.491</td>\n",
       "      <td>0.056</td>\n",
       "    </tr>\n",
       "    <tr>\n",
       "      <th>ACME (average)</th>\n",
       "      <td>0.230</td>\n",
       "      <td>0.129</td>\n",
       "      <td>0.344</td>\n",
       "      <td>0.000</td>\n",
       "    </tr>\n",
       "    <tr>\n",
       "      <th>ADE (average)</th>\n",
       "      <td>-0.053</td>\n",
       "      <td>-0.262</td>\n",
       "      <td>0.152</td>\n",
       "      <td>0.630</td>\n",
       "    </tr>\n",
       "    <tr>\n",
       "      <th>Prop. mediated (average)</th>\n",
       "      <td>1.222</td>\n",
       "      <td>-3.129</td>\n",
       "      <td>7.491</td>\n",
       "      <td>0.056</td>\n",
       "    </tr>\n",
       "  </tbody>\n",
       "</table>\n",
       "</div>"
      ],
      "text/plain": [
       "                          Estimate  Lower CI bound  Upper CI bound  P-value\n",
       "ACME (control)               0.230           0.129           0.344    0.000\n",
       "ACME (treated)               0.230           0.129           0.344    0.000\n",
       "ADE (control)               -0.053          -0.262           0.152    0.630\n",
       "ADE (treated)               -0.053          -0.262           0.152    0.630\n",
       "Total effect                 0.176          -0.004           0.360    0.056\n",
       "Prop. mediated (control)     1.222          -3.129           7.491    0.056\n",
       "Prop. mediated (treated)     1.222          -3.129           7.491    0.056\n",
       "ACME (average)               0.230           0.129           0.344    0.000\n",
       "ADE (average)               -0.053          -0.262           0.152    0.630\n",
       "Prop. mediated (average)     1.222          -3.129           7.491    0.056"
      ]
     },
     "execution_count": 123,
     "metadata": {},
     "output_type": "execute_result"
    }
   ],
   "source": [
    "outcome_model = sm.OLS.from_formula(\n",
    "    \"EDSS_sqrt ~ choroid_volume + thalamus + age + tiv + Female\", data=df_scale_ms\n",
    ")\n",
    "mediator_model = sm.OLS.from_formula(\n",
    "    \"thalamus ~ choroid_volume + age + tiv + Female\", data=df_scale_ms\n",
    ")\n",
    "\n",
    "med = Mediation(\n",
    "    outcome_model, mediator_model, \"choroid_volume\", \"thalamus\"\n",
    ").fit(method=\"bootstrap\")\n",
    "med.summary()"
   ]
  },
  {
   "cell_type": "markdown",
   "metadata": {},
   "source": [
    "PRL mediating effect of choroid volume on EDSS. ACME is significant but not prop mediated"
   ]
  },
  {
   "cell_type": "code",
   "execution_count": 48,
   "metadata": {},
   "outputs": [
    {
     "data": {
      "application/vnd.microsoft.datawrangler.viewer.v0+json": {
       "columns": [
        {
         "name": "index",
         "rawType": "object",
         "type": "string"
        },
        {
         "name": "Estimate",
         "rawType": "float64",
         "type": "float"
        },
        {
         "name": "Lower CI bound",
         "rawType": "float64",
         "type": "float"
        },
        {
         "name": "Upper CI bound",
         "rawType": "float64",
         "type": "float"
        },
        {
         "name": "P-value",
         "rawType": "float64",
         "type": "float"
        }
       ],
       "conversionMethod": "pd.DataFrame",
       "ref": "651de2b6-7fbe-4d60-b7ea-ee2b54d9d4f5",
       "rows": [
        [
         "ACME (control)",
         "0.02277024765796684",
         "0.004364241841711425",
         "0.04660046079555002",
         "0.014"
        ],
        [
         "ACME (treated)",
         "0.02277024765796684",
         "0.0043642418417114155",
         "0.04660046079555002",
         "0.014"
        ],
        [
         "ADE (control)",
         "0.15327727823021728",
         "-0.034525272199690045",
         "0.317216905252483",
         "0.114"
        ],
        [
         "ADE (treated)",
         "0.15327727823021728",
         "-0.03452527219969004",
         "0.3172169052524829",
         "0.114"
        ],
        [
         "Total effect",
         "0.17604752588818415",
         "-0.0091350963489258",
         "0.3404385178990191",
         "0.068"
        ],
        [
         "Prop. mediated (control)",
         "0.11747887448116216",
         "-0.6272423404887835",
         "0.9249773142261478",
         "0.082"
        ],
        [
         "Prop. mediated (treated)",
         "0.11747887448116216",
         "-0.6272423404887831",
         "0.9249773142261476",
         "0.082"
        ],
        [
         "ACME (average)",
         "0.02277024765796684",
         "0.004364241841711421",
         "0.04660046079555002",
         "0.014"
        ],
        [
         "ADE (average)",
         "0.15327727823021728",
         "-0.034525272199690045",
         "0.317216905252483",
         "0.114"
        ],
        [
         "Prop. mediated (average)",
         "0.11747887448116216",
         "-0.6272423404887834",
         "0.9249773142261477",
         "0.082"
        ]
       ],
       "shape": {
        "columns": 4,
        "rows": 10
       }
      },
      "text/html": [
       "<div>\n",
       "<style scoped>\n",
       "    .dataframe tbody tr th:only-of-type {\n",
       "        vertical-align: middle;\n",
       "    }\n",
       "\n",
       "    .dataframe tbody tr th {\n",
       "        vertical-align: top;\n",
       "    }\n",
       "\n",
       "    .dataframe thead th {\n",
       "        text-align: right;\n",
       "    }\n",
       "</style>\n",
       "<table border=\"1\" class=\"dataframe\">\n",
       "  <thead>\n",
       "    <tr style=\"text-align: right;\">\n",
       "      <th></th>\n",
       "      <th>Estimate</th>\n",
       "      <th>Lower CI bound</th>\n",
       "      <th>Upper CI bound</th>\n",
       "      <th>P-value</th>\n",
       "    </tr>\n",
       "  </thead>\n",
       "  <tbody>\n",
       "    <tr>\n",
       "      <th>ACME (control)</th>\n",
       "      <td>0.023</td>\n",
       "      <td>0.004</td>\n",
       "      <td>0.047</td>\n",
       "      <td>0.014</td>\n",
       "    </tr>\n",
       "    <tr>\n",
       "      <th>ACME (treated)</th>\n",
       "      <td>0.023</td>\n",
       "      <td>0.004</td>\n",
       "      <td>0.047</td>\n",
       "      <td>0.014</td>\n",
       "    </tr>\n",
       "    <tr>\n",
       "      <th>ADE (control)</th>\n",
       "      <td>0.153</td>\n",
       "      <td>-0.035</td>\n",
       "      <td>0.317</td>\n",
       "      <td>0.114</td>\n",
       "    </tr>\n",
       "    <tr>\n",
       "      <th>ADE (treated)</th>\n",
       "      <td>0.153</td>\n",
       "      <td>-0.035</td>\n",
       "      <td>0.317</td>\n",
       "      <td>0.114</td>\n",
       "    </tr>\n",
       "    <tr>\n",
       "      <th>Total effect</th>\n",
       "      <td>0.176</td>\n",
       "      <td>-0.009</td>\n",
       "      <td>0.340</td>\n",
       "      <td>0.068</td>\n",
       "    </tr>\n",
       "    <tr>\n",
       "      <th>Prop. mediated (control)</th>\n",
       "      <td>0.117</td>\n",
       "      <td>-0.627</td>\n",
       "      <td>0.925</td>\n",
       "      <td>0.082</td>\n",
       "    </tr>\n",
       "    <tr>\n",
       "      <th>Prop. mediated (treated)</th>\n",
       "      <td>0.117</td>\n",
       "      <td>-0.627</td>\n",
       "      <td>0.925</td>\n",
       "      <td>0.082</td>\n",
       "    </tr>\n",
       "    <tr>\n",
       "      <th>ACME (average)</th>\n",
       "      <td>0.023</td>\n",
       "      <td>0.004</td>\n",
       "      <td>0.047</td>\n",
       "      <td>0.014</td>\n",
       "    </tr>\n",
       "    <tr>\n",
       "      <th>ADE (average)</th>\n",
       "      <td>0.153</td>\n",
       "      <td>-0.035</td>\n",
       "      <td>0.317</td>\n",
       "      <td>0.114</td>\n",
       "    </tr>\n",
       "    <tr>\n",
       "      <th>Prop. mediated (average)</th>\n",
       "      <td>0.117</td>\n",
       "      <td>-0.627</td>\n",
       "      <td>0.925</td>\n",
       "      <td>0.082</td>\n",
       "    </tr>\n",
       "  </tbody>\n",
       "</table>\n",
       "</div>"
      ],
      "text/plain": [
       "                          Estimate  Lower CI bound  Upper CI bound  P-value\n",
       "ACME (control)               0.023           0.004           0.047    0.014\n",
       "ACME (treated)               0.023           0.004           0.047    0.014\n",
       "ADE (control)                0.153          -0.035           0.317    0.114\n",
       "ADE (treated)                0.153          -0.035           0.317    0.114\n",
       "Total effect                 0.176          -0.009           0.340    0.068\n",
       "Prop. mediated (control)     0.117          -0.627           0.925    0.082\n",
       "Prop. mediated (treated)     0.117          -0.627           0.925    0.082\n",
       "ACME (average)               0.023           0.004           0.047    0.014\n",
       "ADE (average)                0.153          -0.035           0.317    0.114\n",
       "Prop. mediated (average)     0.117          -0.627           0.925    0.082"
      ]
     },
     "execution_count": 48,
     "metadata": {},
     "output_type": "execute_result"
    }
   ],
   "source": [
    "model_data = df_scale_ms.dropna()\n",
    "outcome_model = sm.OLS.from_formula(\n",
    "    \"EDSS_sqrt ~ choroid_volume + PRL + age + tiv + Female\", data=model_data\n",
    ")\n",
    "mediator_model = sm.GLM.from_formula(\n",
    "    \"PRL ~ choroid_volume + age + tiv + Female\", data=model_data, family=sm.families.Poisson()\n",
    ")\n",
    "\n",
    "med = Mediation(\n",
    "    outcome_model, mediator_model, \"choroid_volume\", \"PRL\"\n",
    ").fit(method=\"bootstrap\")\n",
    "med.summary()"
   ]
  },
  {
   "cell_type": "markdown",
   "metadata": {},
   "source": [
    "Lesion volume mediating effect of PRL count on EDSS. There is a significant effect, but don't think it describes anything interesting (ie more PRL mean greater lesion volume which is related to EDSS)"
   ]
  },
  {
   "cell_type": "code",
   "execution_count": 49,
   "metadata": {},
   "outputs": [
    {
     "data": {
      "application/vnd.microsoft.datawrangler.viewer.v0+json": {
       "columns": [
        {
         "name": "index",
         "rawType": "object",
         "type": "string"
        },
        {
         "name": "Estimate",
         "rawType": "float64",
         "type": "float"
        },
        {
         "name": "Lower CI bound",
         "rawType": "float64",
         "type": "float"
        },
        {
         "name": "Upper CI bound",
         "rawType": "float64",
         "type": "float"
        },
        {
         "name": "P-value",
         "rawType": "float64",
         "type": "float"
        }
       ],
       "conversionMethod": "pd.DataFrame",
       "ref": "ba94b4ae-6db5-48e2-b730-cf173c1a9f47",
       "rows": [
        [
         "ACME (control)",
         "0.011112915799861704",
         "-0.0009843171040295209",
         "0.02715779378840441",
         "0.084"
        ],
        [
         "ACME (treated)",
         "0.011112915799861704",
         "-0.0009843171040295404",
         "0.0271577937884044",
         "0.084"
        ],
        [
         "ADE (control)",
         "0.018614801898510815",
         "-0.0017101809886839892",
         "0.04186135605225142",
         "0.074"
        ],
        [
         "ADE (treated)",
         "0.018614801898510818",
         "-0.0017101809886839745",
         "0.0418613560522514",
         "0.074"
        ],
        [
         "Total effect",
         "0.029727717698372524",
         "0.006987153958090525",
         "0.05445786556350057",
         "0.008"
        ],
        [
         "Prop. mediated (control)",
         "0.36632822151529476",
         "-0.11144597100239514",
         "1.1228520761033325",
         "0.092"
        ],
        [
         "Prop. mediated (treated)",
         "0.36632822151529454",
         "-0.11144597100239496",
         "1.1228520761033305",
         "0.092"
        ],
        [
         "ACME (average)",
         "0.011112915799861704",
         "-0.0009843171040295306",
         "0.027157793788404404",
         "0.084"
        ],
        [
         "ADE (average)",
         "0.018614801898510815",
         "-0.0017101809886839819",
         "0.04186135605225141",
         "0.074"
        ],
        [
         "Prop. mediated (average)",
         "0.36632822151529465",
         "-0.11144597100239505",
         "1.1228520761033316",
         "0.092"
        ]
       ],
       "shape": {
        "columns": 4,
        "rows": 10
       }
      },
      "text/html": [
       "<div>\n",
       "<style scoped>\n",
       "    .dataframe tbody tr th:only-of-type {\n",
       "        vertical-align: middle;\n",
       "    }\n",
       "\n",
       "    .dataframe tbody tr th {\n",
       "        vertical-align: top;\n",
       "    }\n",
       "\n",
       "    .dataframe thead th {\n",
       "        text-align: right;\n",
       "    }\n",
       "</style>\n",
       "<table border=\"1\" class=\"dataframe\">\n",
       "  <thead>\n",
       "    <tr style=\"text-align: right;\">\n",
       "      <th></th>\n",
       "      <th>Estimate</th>\n",
       "      <th>Lower CI bound</th>\n",
       "      <th>Upper CI bound</th>\n",
       "      <th>P-value</th>\n",
       "    </tr>\n",
       "  </thead>\n",
       "  <tbody>\n",
       "    <tr>\n",
       "      <th>ACME (control)</th>\n",
       "      <td>0.011</td>\n",
       "      <td>-9.843e-04</td>\n",
       "      <td>0.027</td>\n",
       "      <td>0.084</td>\n",
       "    </tr>\n",
       "    <tr>\n",
       "      <th>ACME (treated)</th>\n",
       "      <td>0.011</td>\n",
       "      <td>-9.843e-04</td>\n",
       "      <td>0.027</td>\n",
       "      <td>0.084</td>\n",
       "    </tr>\n",
       "    <tr>\n",
       "      <th>ADE (control)</th>\n",
       "      <td>0.019</td>\n",
       "      <td>-1.710e-03</td>\n",
       "      <td>0.042</td>\n",
       "      <td>0.074</td>\n",
       "    </tr>\n",
       "    <tr>\n",
       "      <th>ADE (treated)</th>\n",
       "      <td>0.019</td>\n",
       "      <td>-1.710e-03</td>\n",
       "      <td>0.042</td>\n",
       "      <td>0.074</td>\n",
       "    </tr>\n",
       "    <tr>\n",
       "      <th>Total effect</th>\n",
       "      <td>0.030</td>\n",
       "      <td>6.987e-03</td>\n",
       "      <td>0.054</td>\n",
       "      <td>0.008</td>\n",
       "    </tr>\n",
       "    <tr>\n",
       "      <th>Prop. mediated (control)</th>\n",
       "      <td>0.366</td>\n",
       "      <td>-1.114e-01</td>\n",
       "      <td>1.123</td>\n",
       "      <td>0.092</td>\n",
       "    </tr>\n",
       "    <tr>\n",
       "      <th>Prop. mediated (treated)</th>\n",
       "      <td>0.366</td>\n",
       "      <td>-1.114e-01</td>\n",
       "      <td>1.123</td>\n",
       "      <td>0.092</td>\n",
       "    </tr>\n",
       "    <tr>\n",
       "      <th>ACME (average)</th>\n",
       "      <td>0.011</td>\n",
       "      <td>-9.843e-04</td>\n",
       "      <td>0.027</td>\n",
       "      <td>0.084</td>\n",
       "    </tr>\n",
       "    <tr>\n",
       "      <th>ADE (average)</th>\n",
       "      <td>0.019</td>\n",
       "      <td>-1.710e-03</td>\n",
       "      <td>0.042</td>\n",
       "      <td>0.074</td>\n",
       "    </tr>\n",
       "    <tr>\n",
       "      <th>Prop. mediated (average)</th>\n",
       "      <td>0.366</td>\n",
       "      <td>-1.114e-01</td>\n",
       "      <td>1.123</td>\n",
       "      <td>0.092</td>\n",
       "    </tr>\n",
       "  </tbody>\n",
       "</table>\n",
       "</div>"
      ],
      "text/plain": [
       "                          Estimate  Lower CI bound  Upper CI bound  P-value\n",
       "ACME (control)               0.011      -9.843e-04           0.027    0.084\n",
       "ACME (treated)               0.011      -9.843e-04           0.027    0.084\n",
       "ADE (control)                0.019      -1.710e-03           0.042    0.074\n",
       "ADE (treated)                0.019      -1.710e-03           0.042    0.074\n",
       "Total effect                 0.030       6.987e-03           0.054    0.008\n",
       "Prop. mediated (control)     0.366      -1.114e-01           1.123    0.092\n",
       "Prop. mediated (treated)     0.366      -1.114e-01           1.123    0.092\n",
       "ACME (average)               0.011      -9.843e-04           0.027    0.084\n",
       "ADE (average)                0.019      -1.710e-03           0.042    0.074\n",
       "Prop. mediated (average)     0.366      -1.114e-01           1.123    0.092"
      ]
     },
     "execution_count": 49,
     "metadata": {},
     "output_type": "execute_result"
    }
   ],
   "source": [
    "outcome_model = sm.OLS.from_formula(\n",
    "    \"EDSS_sqrt ~ PRL + t2lv_logtrans + age + tiv + Female\", data=df_scale_ms\n",
    ")\n",
    "mediator_model = sm.OLS.from_formula(\n",
    "    \"t2lv_logtrans ~ PRL + age + tiv + Female\", data=df_scale_ms\n",
    ")\n",
    "\n",
    "med = Mediation(\n",
    "    outcome_model, mediator_model, \"PRL\", \"t2lv_logtrans\"\n",
    ").fit(method=\"bootstrap\")\n",
    "med.summary()"
   ]
  },
  {
   "cell_type": "markdown",
   "metadata": {},
   "source": [
    "Significant effect, but same interpretation as above"
   ]
  },
  {
   "cell_type": "code",
   "execution_count": 42,
   "metadata": {},
   "outputs": [
    {
     "data": {
      "application/vnd.microsoft.datawrangler.viewer.v0+json": {
       "columns": [
        {
         "name": "index",
         "rawType": "object",
         "type": "string"
        },
        {
         "name": "Estimate",
         "rawType": "float64",
         "type": "float"
        },
        {
         "name": "Lower CI bound",
         "rawType": "float64",
         "type": "float"
        },
        {
         "name": "Upper CI bound",
         "rawType": "float64",
         "type": "float"
        },
        {
         "name": "P-value",
         "rawType": "float64",
         "type": "float"
        }
       ],
       "conversionMethod": "pd.DataFrame",
       "ref": "8d99c930-fa33-4751-8f3b-21fc6c60ab7f",
       "rows": [
        [
         "ACME (control)",
         "0.08213468427971253",
         "0.03982335816951807",
         "0.1257534832203014",
         "0.0"
        ],
        [
         "ACME (treated)",
         "0.08213468427971253",
         "0.03982335816951807",
         "0.1257534832203014",
         "0.0"
        ],
        [
         "ADE (control)",
         "-0.04421368757995455",
         "-0.10069440427577986",
         "0.008398576486674369",
         "0.11"
        ],
        [
         "ADE (treated)",
         "-0.04421368757995455",
         "-0.10069440427577986",
         "0.008398576486674384",
         "0.11"
        ],
        [
         "Total effect",
         "0.037920996699757965",
         "-0.007443135576627382",
         "0.08394771115029888",
         "0.09"
        ],
        [
         "Prop. mediated (control)",
         "2.0298423581646063",
         "-7.7517223496524865",
         "15.063885699814511",
         "0.09"
        ],
        [
         "Prop. mediated (treated)",
         "2.029842358164606",
         "-7.7517223496524865",
         "15.063885699814511",
         "0.09"
        ],
        [
         "ACME (average)",
         "0.08213468427971253",
         "0.03982335816951807",
         "0.1257534832203014",
         "0.0"
        ],
        [
         "ADE (average)",
         "-0.04421368757995455",
         "-0.10069440427577986",
         "0.008398576486674377",
         "0.11"
        ],
        [
         "Prop. mediated (average)",
         "2.029842358164606",
         "-7.7517223496524865",
         "15.063885699814511",
         "0.09"
        ]
       ],
       "shape": {
        "columns": 4,
        "rows": 10
       }
      },
      "text/html": [
       "<div>\n",
       "<style scoped>\n",
       "    .dataframe tbody tr th:only-of-type {\n",
       "        vertical-align: middle;\n",
       "    }\n",
       "\n",
       "    .dataframe tbody tr th {\n",
       "        vertical-align: top;\n",
       "    }\n",
       "\n",
       "    .dataframe thead th {\n",
       "        text-align: right;\n",
       "    }\n",
       "</style>\n",
       "<table border=\"1\" class=\"dataframe\">\n",
       "  <thead>\n",
       "    <tr style=\"text-align: right;\">\n",
       "      <th></th>\n",
       "      <th>Estimate</th>\n",
       "      <th>Lower CI bound</th>\n",
       "      <th>Upper CI bound</th>\n",
       "      <th>P-value</th>\n",
       "    </tr>\n",
       "  </thead>\n",
       "  <tbody>\n",
       "    <tr>\n",
       "      <th>ACME (control)</th>\n",
       "      <td>0.082</td>\n",
       "      <td>0.040</td>\n",
       "      <td>0.126</td>\n",
       "      <td>0.00</td>\n",
       "    </tr>\n",
       "    <tr>\n",
       "      <th>ACME (treated)</th>\n",
       "      <td>0.082</td>\n",
       "      <td>0.040</td>\n",
       "      <td>0.126</td>\n",
       "      <td>0.00</td>\n",
       "    </tr>\n",
       "    <tr>\n",
       "      <th>ADE (control)</th>\n",
       "      <td>-0.044</td>\n",
       "      <td>-0.101</td>\n",
       "      <td>0.008</td>\n",
       "      <td>0.11</td>\n",
       "    </tr>\n",
       "    <tr>\n",
       "      <th>ADE (treated)</th>\n",
       "      <td>-0.044</td>\n",
       "      <td>-0.101</td>\n",
       "      <td>0.008</td>\n",
       "      <td>0.11</td>\n",
       "    </tr>\n",
       "    <tr>\n",
       "      <th>Total effect</th>\n",
       "      <td>0.038</td>\n",
       "      <td>-0.007</td>\n",
       "      <td>0.084</td>\n",
       "      <td>0.09</td>\n",
       "    </tr>\n",
       "    <tr>\n",
       "      <th>Prop. mediated (control)</th>\n",
       "      <td>2.030</td>\n",
       "      <td>-7.752</td>\n",
       "      <td>15.064</td>\n",
       "      <td>0.09</td>\n",
       "    </tr>\n",
       "    <tr>\n",
       "      <th>Prop. mediated (treated)</th>\n",
       "      <td>2.030</td>\n",
       "      <td>-7.752</td>\n",
       "      <td>15.064</td>\n",
       "      <td>0.09</td>\n",
       "    </tr>\n",
       "    <tr>\n",
       "      <th>ACME (average)</th>\n",
       "      <td>0.082</td>\n",
       "      <td>0.040</td>\n",
       "      <td>0.126</td>\n",
       "      <td>0.00</td>\n",
       "    </tr>\n",
       "    <tr>\n",
       "      <th>ADE (average)</th>\n",
       "      <td>-0.044</td>\n",
       "      <td>-0.101</td>\n",
       "      <td>0.008</td>\n",
       "      <td>0.11</td>\n",
       "    </tr>\n",
       "    <tr>\n",
       "      <th>Prop. mediated (average)</th>\n",
       "      <td>2.030</td>\n",
       "      <td>-7.752</td>\n",
       "      <td>15.064</td>\n",
       "      <td>0.09</td>\n",
       "    </tr>\n",
       "  </tbody>\n",
       "</table>\n",
       "</div>"
      ],
      "text/plain": [
       "                          Estimate  Lower CI bound  Upper CI bound  P-value\n",
       "ACME (control)               0.082           0.040           0.126     0.00\n",
       "ACME (treated)               0.082           0.040           0.126     0.00\n",
       "ADE (control)               -0.044          -0.101           0.008     0.11\n",
       "ADE (treated)               -0.044          -0.101           0.008     0.11\n",
       "Total effect                 0.038          -0.007           0.084     0.09\n",
       "Prop. mediated (control)     2.030          -7.752          15.064     0.09\n",
       "Prop. mediated (treated)     2.030          -7.752          15.064     0.09\n",
       "ACME (average)               0.082           0.040           0.126     0.00\n",
       "ADE (average)               -0.044          -0.101           0.008     0.11\n",
       "Prop. mediated (average)     2.030          -7.752          15.064     0.09"
      ]
     },
     "execution_count": 42,
     "metadata": {},
     "output_type": "execute_result"
    }
   ],
   "source": [
    "outcome_model = sm.OLS.from_formula(\n",
    "    \"EDSS_sqrt ~ lesion_count + t2lv_logtrans + age + tiv + Female\", data=df_scale_ms\n",
    ")\n",
    "mediator_model = sm.OLS.from_formula(\n",
    "    \"t2lv_logtrans ~ lesion_count + age + tiv + Female\", data=df_scale_ms\n",
    ")\n",
    "\n",
    "med = Mediation(\n",
    "    outcome_model, mediator_model, \"lesion_count\", \"t2lv_logtrans\"\n",
    ").fit(method=\"bootstrap\")\n",
    "med.summary()"
   ]
  },
  {
   "cell_type": "code",
   "execution_count": 43,
   "metadata": {},
   "outputs": [
    {
     "name": "stdout",
     "output_type": "stream",
     "text": [
      "                          Estimate  Lower CI bound  Upper CI bound  P-value\n",
      "ACME (control)               0.004      -9.071e-04           0.011    0.116\n",
      "ACME (treated)               0.004      -9.071e-04           0.011    0.116\n",
      "ADE (control)                0.042       1.933e-03           0.085    0.044\n",
      "ADE (treated)                0.042       1.933e-03           0.085    0.044\n",
      "Total effect                 0.046       6.342e-03           0.089    0.022\n",
      "Prop. mediated (control)     0.077      -4.396e-02           0.507    0.134\n",
      "Prop. mediated (treated)     0.077      -4.396e-02           0.507    0.134\n",
      "ACME (average)               0.004      -9.071e-04           0.011    0.114\n",
      "ADE (average)                0.042       1.933e-03           0.085    0.044\n",
      "Prop. mediated (average)     0.077      -4.396e-02           0.507    0.132\n"
     ]
    }
   ],
   "source": [
    "model_data = df_scale_ms.dropna()\n",
    "outcome_model = sm.OLS.from_formula(\"EDSS_sqrt ~ lesion_count + PRL + age + Female + tiv\", data=model_data)\n",
    "# print(outcome_model.fit().summary())\n",
    "\n",
    "mediator_model = sm.GLM.from_formula(\"PRL ~ lesion_count + age + Female + tiv\", data=model_data, family=sm.families.Poisson())\n",
    "# print(mediator_model.fit().summary())\n",
    "\n",
    "med = Mediation(\n",
    "    outcome_model, mediator_model, \"lesion_count\", \"PRL\"\n",
    ").fit()\n",
    "print(med.summary())"
   ]
  },
  {
   "cell_type": "markdown",
   "metadata": {},
   "source": [
    "#### Ordinal Regression on EDSS"
   ]
  },
  {
   "cell_type": "code",
   "execution_count": 124,
   "metadata": {},
   "outputs": [
    {
     "name": "stdout",
     "output_type": "stream",
     "text": [
      "Optimization terminated successfully.\n",
      "         Current function value: 2.190125\n",
      "         Iterations: 77\n",
      "         Function evaluations: 79\n",
      "         Gradient evaluations: 79\n"
     ]
    },
    {
     "data": {
      "text/html": [
       "<table class=\"simpletable\">\n",
       "<caption>OrderedModel Results</caption>\n",
       "<tr>\n",
       "  <th>Dep. Variable:</th>           <td>EDSS</td>        <th>  Log-Likelihood:    </th> <td> -812.54</td>\n",
       "</tr>\n",
       "<tr>\n",
       "  <th>Model:</th>               <td>OrderedModel</td>    <th>  AIC:               </th> <td>   1667.</td>\n",
       "</tr>\n",
       "<tr>\n",
       "  <th>Method:</th>           <td>Maximum Likelihood</td> <th>  BIC:               </th> <td>   1749.</td>\n",
       "</tr>\n",
       "<tr>\n",
       "  <th>Date:</th>              <td>Fri, 28 Feb 2025</td>  <th>                     </th>     <td> </td>   \n",
       "</tr>\n",
       "<tr>\n",
       "  <th>Time:</th>                  <td>15:51:02</td>      <th>                     </th>     <td> </td>   \n",
       "</tr>\n",
       "<tr>\n",
       "  <th>No. Observations:</th>       <td>   371</td>       <th>                     </th>     <td> </td>   \n",
       "</tr>\n",
       "<tr>\n",
       "  <th>Df Residuals:</th>           <td>   350</td>       <th>                     </th>     <td> </td>   \n",
       "</tr>\n",
       "<tr>\n",
       "  <th>Df Model:</th>               <td>     4</td>       <th>                     </th>     <td> </td>   \n",
       "</tr>\n",
       "</table>\n",
       "<table class=\"simpletable\">\n",
       "<tr>\n",
       "     <td></td>        <th>coef</th>     <th>std err</th>      <th>z</th>      <th>P>|z|</th>  <th>[0.025</th>    <th>0.975]</th>  \n",
       "</tr>\n",
       "<tr>\n",
       "  <th>PRL</th>     <td>    0.1034</td> <td>    0.042</td> <td>    2.474</td> <td> 0.013</td> <td>    0.021</td> <td>    0.185</td>\n",
       "</tr>\n",
       "<tr>\n",
       "  <th>tiv</th>     <td>   -1.3265</td> <td>    1.296</td> <td>   -1.024</td> <td> 0.306</td> <td>   -3.867</td> <td>    1.214</td>\n",
       "</tr>\n",
       "<tr>\n",
       "  <th>age</th>     <td>    3.4101</td> <td>    0.397</td> <td>    8.590</td> <td> 0.000</td> <td>    2.632</td> <td>    4.188</td>\n",
       "</tr>\n",
       "<tr>\n",
       "  <th>Female</th>  <td>   -0.2848</td> <td>    0.266</td> <td>   -1.069</td> <td> 0.285</td> <td>   -0.807</td> <td>    0.237</td>\n",
       "</tr>\n",
       "<tr>\n",
       "  <th>0.0/1.0</th> <td>   -2.4345</td> <td>    1.547</td> <td>   -1.574</td> <td> 0.116</td> <td>   -5.467</td> <td>    0.598</td>\n",
       "</tr>\n",
       "<tr>\n",
       "  <th>1.0/1.5</th> <td>    0.9753</td> <td>    0.151</td> <td>    6.446</td> <td> 0.000</td> <td>    0.679</td> <td>    1.272</td>\n",
       "</tr>\n",
       "<tr>\n",
       "  <th>1.5/2.0</th> <td>    0.3874</td> <td>    0.094</td> <td>    4.140</td> <td> 0.000</td> <td>    0.204</td> <td>    0.571</td>\n",
       "</tr>\n",
       "<tr>\n",
       "  <th>2.0/2.5</th> <td>   -0.3045</td> <td>    0.124</td> <td>   -2.454</td> <td> 0.014</td> <td>   -0.548</td> <td>   -0.061</td>\n",
       "</tr>\n",
       "<tr>\n",
       "  <th>2.5/3.0</th> <td>   -1.3054</td> <td>    0.218</td> <td>   -5.997</td> <td> 0.000</td> <td>   -1.732</td> <td>   -0.879</td>\n",
       "</tr>\n",
       "<tr>\n",
       "  <th>3.0/3.5</th> <td>   -1.1684</td> <td>    0.207</td> <td>   -5.648</td> <td> 0.000</td> <td>   -1.574</td> <td>   -0.763</td>\n",
       "</tr>\n",
       "<tr>\n",
       "  <th>3.5/4.0</th> <td>   -1.2278</td> <td>    0.223</td> <td>   -5.499</td> <td> 0.000</td> <td>   -1.665</td> <td>   -0.790</td>\n",
       "</tr>\n",
       "<tr>\n",
       "  <th>4.0/4.5</th> <td>   -1.2832</td> <td>    0.244</td> <td>   -5.261</td> <td> 0.000</td> <td>   -1.761</td> <td>   -0.805</td>\n",
       "</tr>\n",
       "<tr>\n",
       "  <th>4.5/5.0</th> <td>   -2.5982</td> <td>    0.497</td> <td>   -5.232</td> <td> 0.000</td> <td>   -3.572</td> <td>   -1.625</td>\n",
       "</tr>\n",
       "<tr>\n",
       "  <th>5.0/5.5</th> <td>   -1.9922</td> <td>    0.374</td> <td>   -5.332</td> <td> 0.000</td> <td>   -2.725</td> <td>   -1.260</td>\n",
       "</tr>\n",
       "<tr>\n",
       "  <th>5.5/6.0</th> <td>   -2.4942</td> <td>    0.497</td> <td>   -5.022</td> <td> 0.000</td> <td>   -3.468</td> <td>   -1.521</td>\n",
       "</tr>\n",
       "<tr>\n",
       "  <th>6.0/6.5</th> <td>   -0.2007</td> <td>    0.176</td> <td>   -1.138</td> <td> 0.255</td> <td>   -0.546</td> <td>    0.145</td>\n",
       "</tr>\n",
       "<tr>\n",
       "  <th>6.5/7.0</th> <td>    0.0030</td> <td>    0.228</td> <td>    0.013</td> <td> 0.990</td> <td>   -0.444</td> <td>    0.450</td>\n",
       "</tr>\n",
       "<tr>\n",
       "  <th>7.0/7.5</th> <td>   -0.9465</td> <td>    0.498</td> <td>   -1.899</td> <td> 0.058</td> <td>   -1.923</td> <td>    0.030</td>\n",
       "</tr>\n",
       "<tr>\n",
       "  <th>7.5/8.0</th> <td>   -0.8638</td> <td>    0.577</td> <td>   -1.497</td> <td> 0.135</td> <td>   -1.995</td> <td>    0.267</td>\n",
       "</tr>\n",
       "<tr>\n",
       "  <th>8.0/8.5</th> <td>   -0.3410</td> <td>    0.584</td> <td>   -0.584</td> <td> 0.560</td> <td>   -1.487</td> <td>    0.804</td>\n",
       "</tr>\n",
       "<tr>\n",
       "  <th>8.5/9.0</th> <td>    0.1048</td> <td>    0.740</td> <td>    0.142</td> <td> 0.887</td> <td>   -1.345</td> <td>    1.554</td>\n",
       "</tr>\n",
       "</table>"
      ],
      "text/latex": [
       "\\begin{center}\n",
       "\\begin{tabular}{lclc}\n",
       "\\toprule\n",
       "\\textbf{Dep. Variable:}    &        EDSS        & \\textbf{  Log-Likelihood:    } &   -812.54   \\\\\n",
       "\\textbf{Model:}            &    OrderedModel    & \\textbf{  AIC:               } &     1667.   \\\\\n",
       "\\textbf{Method:}           & Maximum Likelihood & \\textbf{  BIC:               } &     1749.   \\\\\n",
       "\\textbf{Date:}             &  Fri, 28 Feb 2025  & \\textbf{                     } &             \\\\\n",
       "\\textbf{Time:}             &      15:51:02      & \\textbf{                     } &             \\\\\n",
       "\\textbf{No. Observations:} &          371       & \\textbf{                     } &             \\\\\n",
       "\\textbf{Df Residuals:}     &          350       & \\textbf{                     } &             \\\\\n",
       "\\textbf{Df Model:}         &            4       & \\textbf{                     } &             \\\\\n",
       "\\bottomrule\n",
       "\\end{tabular}\n",
       "\\begin{tabular}{lcccccc}\n",
       "                 & \\textbf{coef} & \\textbf{std err} & \\textbf{z} & \\textbf{P$> |$z$|$} & \\textbf{[0.025} & \\textbf{0.975]}  \\\\\n",
       "\\midrule\n",
       "\\textbf{PRL}     &       0.1034  &        0.042     &     2.474  &         0.013        &        0.021    &        0.185     \\\\\n",
       "\\textbf{tiv}     &      -1.3265  &        1.296     &    -1.024  &         0.306        &       -3.867    &        1.214     \\\\\n",
       "\\textbf{age}     &       3.4101  &        0.397     &     8.590  &         0.000        &        2.632    &        4.188     \\\\\n",
       "\\textbf{Female}  &      -0.2848  &        0.266     &    -1.069  &         0.285        &       -0.807    &        0.237     \\\\\n",
       "\\textbf{0.0/1.0} &      -2.4345  &        1.547     &    -1.574  &         0.116        &       -5.467    &        0.598     \\\\\n",
       "\\textbf{1.0/1.5} &       0.9753  &        0.151     &     6.446  &         0.000        &        0.679    &        1.272     \\\\\n",
       "\\textbf{1.5/2.0} &       0.3874  &        0.094     &     4.140  &         0.000        &        0.204    &        0.571     \\\\\n",
       "\\textbf{2.0/2.5} &      -0.3045  &        0.124     &    -2.454  &         0.014        &       -0.548    &       -0.061     \\\\\n",
       "\\textbf{2.5/3.0} &      -1.3054  &        0.218     &    -5.997  &         0.000        &       -1.732    &       -0.879     \\\\\n",
       "\\textbf{3.0/3.5} &      -1.1684  &        0.207     &    -5.648  &         0.000        &       -1.574    &       -0.763     \\\\\n",
       "\\textbf{3.5/4.0} &      -1.2278  &        0.223     &    -5.499  &         0.000        &       -1.665    &       -0.790     \\\\\n",
       "\\textbf{4.0/4.5} &      -1.2832  &        0.244     &    -5.261  &         0.000        &       -1.761    &       -0.805     \\\\\n",
       "\\textbf{4.5/5.0} &      -2.5982  &        0.497     &    -5.232  &         0.000        &       -3.572    &       -1.625     \\\\\n",
       "\\textbf{5.0/5.5} &      -1.9922  &        0.374     &    -5.332  &         0.000        &       -2.725    &       -1.260     \\\\\n",
       "\\textbf{5.5/6.0} &      -2.4942  &        0.497     &    -5.022  &         0.000        &       -3.468    &       -1.521     \\\\\n",
       "\\textbf{6.0/6.5} &      -0.2007  &        0.176     &    -1.138  &         0.255        &       -0.546    &        0.145     \\\\\n",
       "\\textbf{6.5/7.0} &       0.0030  &        0.228     &     0.013  &         0.990        &       -0.444    &        0.450     \\\\\n",
       "\\textbf{7.0/7.5} &      -0.9465  &        0.498     &    -1.899  &         0.058        &       -1.923    &        0.030     \\\\\n",
       "\\textbf{7.5/8.0} &      -0.8638  &        0.577     &    -1.497  &         0.135        &       -1.995    &        0.267     \\\\\n",
       "\\textbf{8.0/8.5} &      -0.3410  &        0.584     &    -0.584  &         0.560        &       -1.487    &        0.804     \\\\\n",
       "\\textbf{8.5/9.0} &       0.1048  &        0.740     &     0.142  &         0.887        &       -1.345    &        1.554     \\\\\n",
       "\\bottomrule\n",
       "\\end{tabular}\n",
       "%\\caption{OrderedModel Results}\n",
       "\\end{center}"
      ],
      "text/plain": [
       "<class 'statsmodels.iolib.summary.Summary'>\n",
       "\"\"\"\n",
       "                             OrderedModel Results                             \n",
       "==============================================================================\n",
       "Dep. Variable:                   EDSS   Log-Likelihood:                -812.54\n",
       "Model:                   OrderedModel   AIC:                             1667.\n",
       "Method:            Maximum Likelihood   BIC:                             1749.\n",
       "Date:                Fri, 28 Feb 2025                                         \n",
       "Time:                        15:51:02                                         \n",
       "No. Observations:                 371                                         \n",
       "Df Residuals:                     350                                         \n",
       "Df Model:                           4                                         \n",
       "==============================================================================\n",
       "                 coef    std err          z      P>|z|      [0.025      0.975]\n",
       "------------------------------------------------------------------------------\n",
       "PRL            0.1034      0.042      2.474      0.013       0.021       0.185\n",
       "tiv           -1.3265      1.296     -1.024      0.306      -3.867       1.214\n",
       "age            3.4101      0.397      8.590      0.000       2.632       4.188\n",
       "Female        -0.2848      0.266     -1.069      0.285      -0.807       0.237\n",
       "0.0/1.0       -2.4345      1.547     -1.574      0.116      -5.467       0.598\n",
       "1.0/1.5        0.9753      0.151      6.446      0.000       0.679       1.272\n",
       "1.5/2.0        0.3874      0.094      4.140      0.000       0.204       0.571\n",
       "2.0/2.5       -0.3045      0.124     -2.454      0.014      -0.548      -0.061\n",
       "2.5/3.0       -1.3054      0.218     -5.997      0.000      -1.732      -0.879\n",
       "3.0/3.5       -1.1684      0.207     -5.648      0.000      -1.574      -0.763\n",
       "3.5/4.0       -1.2278      0.223     -5.499      0.000      -1.665      -0.790\n",
       "4.0/4.5       -1.2832      0.244     -5.261      0.000      -1.761      -0.805\n",
       "4.5/5.0       -2.5982      0.497     -5.232      0.000      -3.572      -1.625\n",
       "5.0/5.5       -1.9922      0.374     -5.332      0.000      -2.725      -1.260\n",
       "5.5/6.0       -2.4942      0.497     -5.022      0.000      -3.468      -1.521\n",
       "6.0/6.5       -0.2007      0.176     -1.138      0.255      -0.546       0.145\n",
       "6.5/7.0        0.0030      0.228      0.013      0.990      -0.444       0.450\n",
       "7.0/7.5       -0.9465      0.498     -1.899      0.058      -1.923       0.030\n",
       "7.5/8.0       -0.8638      0.577     -1.497      0.135      -1.995       0.267\n",
       "8.0/8.5       -0.3410      0.584     -0.584      0.560      -1.487       0.804\n",
       "8.5/9.0        0.1048      0.740      0.142      0.887      -1.345       1.554\n",
       "==============================================================================\n",
       "\"\"\""
      ]
     },
     "execution_count": 124,
     "metadata": {},
     "output_type": "execute_result"
    }
   ],
   "source": [
    "model_data = df_scale.copy()\n",
    "model_data = model_data.loc[df['dz_type5'].isin([\"RMS\", \"PMS\"]), :].dropna()\n",
    "\n",
    "mod_prob = OrderedModel.from_formula(\"EDSS ~ PRL + tiv + age + Female\",\n",
    "                                     data=model_data, distr='logit')\n",
    "res_prob = mod_prob.fit(method='bfgs')\n",
    "res_prob.summary()"
   ]
  },
  {
   "cell_type": "markdown",
   "metadata": {},
   "source": [
    "#### MSSS"
   ]
  },
  {
   "cell_type": "code",
   "execution_count": 20,
   "metadata": {},
   "outputs": [
    {
     "name": "stdout",
     "output_type": "stream",
     "text": [
      "                            OLS Regression Results                            \n",
      "==============================================================================\n",
      "Dep. Variable:              MSSS_sqrt   R-squared:                       0.022\n",
      "Model:                            OLS   Adj. R-squared:                  0.012\n",
      "Method:                 Least Squares   F-statistic:                     2.268\n",
      "Date:                Sat, 22 Feb 2025   Prob (F-statistic):             0.0613\n",
      "Time:                        16:36:36   Log-Likelihood:                -417.23\n",
      "No. Observations:                 403   AIC:                             844.5\n",
      "Df Residuals:                     398   BIC:                             864.5\n",
      "Df Model:                           4                                         \n",
      "Covariance Type:            nonrobust                                         \n",
      "====================================================================================\n",
      "                       coef    std err          t      P>|t|      [0.025      0.975]\n",
      "------------------------------------------------------------------------------------\n",
      "Intercept            2.5095      0.522      4.806      0.000       1.483       3.536\n",
      "tiv                 -0.8378      0.465     -1.800      0.073      -1.753       0.077\n",
      "Female              -0.1977      0.100     -1.979      0.049      -0.394      -0.001\n",
      "t2lv     0.0924      0.068      1.358      0.175      -0.041       0.226\n",
      "choroid_volume       0.0830      0.114      0.725      0.469      -0.142       0.308\n",
      "==============================================================================\n",
      "Omnibus:                       33.423   Durbin-Watson:                   2.008\n",
      "Prob(Omnibus):                  0.000   Jarque-Bera (JB):               12.575\n",
      "Skew:                           0.155   Prob(JB):                      0.00186\n",
      "Kurtosis:                       2.192   Cond. No.                         44.6\n",
      "==============================================================================\n",
      "\n",
      "Notes:\n",
      "[1] Standard Errors assume that the covariance matrix of the errors is correctly specified.\n"
     ]
    }
   ],
   "source": [
    "model = sm.OLS.from_formula(\"MSSS_sqrt ~ tiv + Female + t2lv + choroid_volume\", data=df_scale)\n",
    "res = model.fit()\n",
    "print(res.summary())"
   ]
  },
  {
   "cell_type": "markdown",
   "metadata": {},
   "source": [
    "#### ARMSS"
   ]
  },
  {
   "cell_type": "code",
   "execution_count": 21,
   "metadata": {},
   "outputs": [
    {
     "name": "stdout",
     "output_type": "stream",
     "text": [
      "                            OLS Regression Results                            \n",
      "==============================================================================\n",
      "Dep. Variable:             ARMSS_sqrt   R-squared:                       0.068\n",
      "Model:                            OLS   Adj. R-squared:                  0.059\n",
      "Method:                 Least Squares   F-statistic:                     7.939\n",
      "Date:                Sat, 22 Feb 2025   Prob (F-statistic):           3.49e-06\n",
      "Time:                        16:36:50   Log-Likelihood:                -412.59\n",
      "No. Observations:                 440   AIC:                             835.2\n",
      "Df Residuals:                     435   BIC:                             855.6\n",
      "Df Model:                           4                                         \n",
      "Covariance Type:            nonrobust                                         \n",
      "==================================================================================\n",
      "                     coef    std err          t      P>|t|      [0.025      0.975]\n",
      "----------------------------------------------------------------------------------\n",
      "Intercept          3.0896      0.480      6.436      0.000       2.146       4.033\n",
      "choroid_volume     0.2404      0.102      2.367      0.018       0.041       0.440\n",
      "tiv               -0.7853      0.412     -1.907      0.057      -1.595       0.024\n",
      "Female            -0.1253      0.086     -1.454      0.147      -0.295       0.044\n",
      "age               -0.6815      0.124     -5.498      0.000      -0.925      -0.438\n",
      "==============================================================================\n",
      "Omnibus:                       22.948   Durbin-Watson:                   1.912\n",
      "Prob(Omnibus):                  0.000   Jarque-Bera (JB):               17.307\n",
      "Skew:                           0.385   Prob(JB):                     0.000175\n",
      "Kurtosis:                       2.407   Cond. No.                         45.8\n",
      "==============================================================================\n",
      "\n",
      "Notes:\n",
      "[1] Standard Errors assume that the covariance matrix of the errors is correctly specified.\n"
     ]
    }
   ],
   "source": [
    "model = sm.OLS.from_formula(\"ARMSS_sqrt ~ choroid_volume + tiv + Female + age\", data=df_scale)\n",
    "res = model.fit()\n",
    "print(res.summary())"
   ]
  },
  {
   "cell_type": "markdown",
   "metadata": {},
   "source": [
    "### Mediation"
   ]
  },
  {
   "cell_type": "code",
   "execution_count": 178,
   "metadata": {},
   "outputs": [
    {
     "name": "stdout",
     "output_type": "stream",
     "text": [
      "                            OLS Regression Results                            \n",
      "==============================================================================\n",
      "Dep. Variable:              EDSS_sqrt   R-squared:                       0.264\n",
      "Model:                            OLS   Adj. R-squared:                  0.252\n",
      "Method:                 Least Squares   F-statistic:                     22.22\n",
      "Date:                Mon, 10 Mar 2025   Prob (F-statistic):           1.08e-25\n",
      "Time:                        15:28:26   Log-Likelihood:                -559.49\n",
      "No. Observations:                 442   AIC:                             1135.\n",
      "Df Residuals:                     434   BIC:                             1168.\n",
      "Df Model:                           7                                         \n",
      "Covariance Type:            nonrobust                                         \n",
      "===================================================================================================\n",
      "                                      coef    std err          t      P>|t|      [0.025      0.975]\n",
      "---------------------------------------------------------------------------------------------------\n",
      "Intercept                          -0.0462      0.043     -1.079      0.281      -0.130       0.038\n",
      "thalamus                           -0.2552      0.056     -4.544      0.000      -0.366      -0.145\n",
      "t2lv                    0.0742      0.046      1.607      0.109      -0.017       0.165\n",
      "choroid_volume                     -0.0693      0.050     -1.374      0.170      -0.168       0.030\n",
      "t2lv:choroid_volume     0.0686      0.043      1.588      0.113      -0.016       0.154\n",
      "tiv                                -0.0963      0.050     -1.919      0.056      -0.195       0.002\n",
      "age                                 0.3232      0.049      6.649      0.000       0.228       0.419\n",
      "Female                             -0.0544      0.050     -1.079      0.281      -0.153       0.045\n",
      "==============================================================================\n",
      "Omnibus:                        5.332   Durbin-Watson:                   1.978\n",
      "Prob(Omnibus):                  0.070   Jarque-Bera (JB):                5.254\n",
      "Skew:                           0.213   Prob(JB):                       0.0723\n",
      "Kurtosis:                       3.323   Cond. No.                         2.48\n",
      "==============================================================================\n",
      "\n",
      "Notes:\n",
      "[1] Standard Errors assume that the covariance matrix of the errors is correctly specified.\n"
     ]
    }
   ],
   "source": [
    "model = sm.OLS.from_formula(\"EDSS_sqrt ~ thalamus + t2lv*choroid_volume + tiv + age + Female\", data=df_z)\n",
    "res = model.fit()\n",
    "print(res.summary())"
   ]
  },
  {
   "cell_type": "code",
   "execution_count": 179,
   "metadata": {},
   "outputs": [
    {
     "name": "stdout",
     "output_type": "stream",
     "text": [
      "                            OLS Regression Results                            \n",
      "==============================================================================\n",
      "Dep. Variable:               thalamus   R-squared:                       0.475\n",
      "Model:                            OLS   Adj. R-squared:                  0.469\n",
      "Method:                 Least Squares   F-statistic:                     73.18\n",
      "Date:                Mon, 10 Mar 2025   Prob (F-statistic):           8.70e-65\n",
      "Time:                        15:28:38   Log-Likelihood:                -539.53\n",
      "No. Observations:                 492   AIC:                             1093.\n",
      "Df Residuals:                     485   BIC:                             1122.\n",
      "Df Model:                           6                                         \n",
      "Covariance Type:            nonrobust                                         \n",
      "===================================================================================================\n",
      "                                      coef    std err          t      P>|t|      [0.025      0.975]\n",
      "---------------------------------------------------------------------------------------------------\n",
      "Intercept                           0.0301      0.034      0.881      0.379      -0.037       0.097\n",
      "t2lv                   -0.3094      0.034     -8.969      0.000      -0.377      -0.242\n",
      "choroid_volume                     -0.2853      0.038     -7.462      0.000      -0.360      -0.210\n",
      "t2lv:choroid_volume    -0.1139      0.035     -3.266      0.001      -0.182      -0.045\n",
      "tiv                                 0.0089      0.040      0.219      0.826      -0.070       0.088\n",
      "age                                -0.2753      0.037     -7.428      0.000      -0.348      -0.202\n",
      "Female                              0.1600      0.041      3.938      0.000       0.080       0.240\n",
      "==============================================================================\n",
      "Omnibus:                       54.595   Durbin-Watson:                   1.969\n",
      "Prob(Omnibus):                  0.000   Jarque-Bera (JB):              126.196\n",
      "Skew:                          -0.594   Prob(JB):                     3.95e-28\n",
      "Kurtosis:                       5.178   Cond. No.                         2.14\n",
      "==============================================================================\n",
      "\n",
      "Notes:\n",
      "[1] Standard Errors assume that the covariance matrix of the errors is correctly specified.\n"
     ]
    }
   ],
   "source": [
    "model = sm.OLS.from_formula(\"thalamus ~ t2lv*choroid_volume + tiv + age + Female\", data=df_z)\n",
    "res = model.fit()\n",
    "print(res.summary())"
   ]
  },
  {
   "cell_type": "code",
   "execution_count": 75,
   "metadata": {},
   "outputs": [
    {
     "data": {
      "application/vnd.microsoft.datawrangler.viewer.v0+json": {
       "columns": [
        {
         "name": "index",
         "rawType": "object",
         "type": "string"
        },
        {
         "name": "Estimate",
         "rawType": "float64",
         "type": "float"
        },
        {
         "name": "Lower CI bound",
         "rawType": "float64",
         "type": "float"
        },
        {
         "name": "Upper CI bound",
         "rawType": "float64",
         "type": "float"
        },
        {
         "name": "P-value",
         "rawType": "float64",
         "type": "float"
        }
       ],
       "conversionMethod": "pd.DataFrame",
       "ref": "4b2a8792-05de-4610-ba17-6624ba920425",
       "rows": [
        [
         "ACME (control)",
         "0.10699619413270116",
         "0.05472400216096038",
         "0.17499491516117494",
         "0.0"
        ],
        [
         "ACME (treated)",
         "0.10699619413270116",
         "0.05472400216096039",
         "0.1749949151611749",
         "0.0"
        ],
        [
         "ADE (control)",
         "0.06799110469259265",
         "-0.10254727444978726",
         "0.2197485507873228",
         "0.426"
        ],
        [
         "ADE (treated)",
         "0.06799110469259265",
         "-0.10254727444978723",
         "0.21974855078732278",
         "0.426"
        ],
        [
         "Total effect",
         "0.17498729882529382",
         "0.011622607100190049",
         "0.33105671012075827",
         "0.036"
        ],
        [
         "Prop. mediated (control)",
         "0.5884303717657069",
         "0.19352378609163562",
         "2.957493330861392",
         "0.036"
        ],
        [
         "Prop. mediated (treated)",
         "0.5884303717657069",
         "0.19352378609163562",
         "2.9574933308613933",
         "0.036"
        ],
        [
         "ACME (average)",
         "0.10699619413270116",
         "0.054724002160960385",
         "0.1749949151611749",
         "0.0"
        ],
        [
         "ADE (average)",
         "0.06799110469259266",
         "-0.10254727444978724",
         "0.2197485507873228",
         "0.426"
        ],
        [
         "Prop. mediated (average)",
         "0.5884303717657069",
         "0.19352378609163562",
         "2.957493330861393",
         "0.036"
        ]
       ],
       "shape": {
        "columns": 4,
        "rows": 10
       }
      },
      "text/html": [
       "<div>\n",
       "<style scoped>\n",
       "    .dataframe tbody tr th:only-of-type {\n",
       "        vertical-align: middle;\n",
       "    }\n",
       "\n",
       "    .dataframe tbody tr th {\n",
       "        vertical-align: top;\n",
       "    }\n",
       "\n",
       "    .dataframe thead th {\n",
       "        text-align: right;\n",
       "    }\n",
       "</style>\n",
       "<table border=\"1\" class=\"dataframe\">\n",
       "  <thead>\n",
       "    <tr style=\"text-align: right;\">\n",
       "      <th></th>\n",
       "      <th>Estimate</th>\n",
       "      <th>Lower CI bound</th>\n",
       "      <th>Upper CI bound</th>\n",
       "      <th>P-value</th>\n",
       "    </tr>\n",
       "  </thead>\n",
       "  <tbody>\n",
       "    <tr>\n",
       "      <th>ACME (control)</th>\n",
       "      <td>0.106996</td>\n",
       "      <td>0.054724</td>\n",
       "      <td>0.174995</td>\n",
       "      <td>0.000</td>\n",
       "    </tr>\n",
       "    <tr>\n",
       "      <th>ACME (treated)</th>\n",
       "      <td>0.106996</td>\n",
       "      <td>0.054724</td>\n",
       "      <td>0.174995</td>\n",
       "      <td>0.000</td>\n",
       "    </tr>\n",
       "    <tr>\n",
       "      <th>ADE (control)</th>\n",
       "      <td>0.067991</td>\n",
       "      <td>-0.102547</td>\n",
       "      <td>0.219749</td>\n",
       "      <td>0.426</td>\n",
       "    </tr>\n",
       "    <tr>\n",
       "      <th>ADE (treated)</th>\n",
       "      <td>0.067991</td>\n",
       "      <td>-0.102547</td>\n",
       "      <td>0.219749</td>\n",
       "      <td>0.426</td>\n",
       "    </tr>\n",
       "    <tr>\n",
       "      <th>Total effect</th>\n",
       "      <td>0.174987</td>\n",
       "      <td>0.011623</td>\n",
       "      <td>0.331057</td>\n",
       "      <td>0.036</td>\n",
       "    </tr>\n",
       "    <tr>\n",
       "      <th>Prop. mediated (control)</th>\n",
       "      <td>0.588430</td>\n",
       "      <td>0.193524</td>\n",
       "      <td>2.957493</td>\n",
       "      <td>0.036</td>\n",
       "    </tr>\n",
       "    <tr>\n",
       "      <th>Prop. mediated (treated)</th>\n",
       "      <td>0.588430</td>\n",
       "      <td>0.193524</td>\n",
       "      <td>2.957493</td>\n",
       "      <td>0.036</td>\n",
       "    </tr>\n",
       "    <tr>\n",
       "      <th>ACME (average)</th>\n",
       "      <td>0.106996</td>\n",
       "      <td>0.054724</td>\n",
       "      <td>0.174995</td>\n",
       "      <td>0.000</td>\n",
       "    </tr>\n",
       "    <tr>\n",
       "      <th>ADE (average)</th>\n",
       "      <td>0.067991</td>\n",
       "      <td>-0.102547</td>\n",
       "      <td>0.219749</td>\n",
       "      <td>0.426</td>\n",
       "    </tr>\n",
       "    <tr>\n",
       "      <th>Prop. mediated (average)</th>\n",
       "      <td>0.588430</td>\n",
       "      <td>0.193524</td>\n",
       "      <td>2.957493</td>\n",
       "      <td>0.036</td>\n",
       "    </tr>\n",
       "  </tbody>\n",
       "</table>\n",
       "</div>"
      ],
      "text/plain": [
       "                          Estimate  Lower CI bound  Upper CI bound  P-value\n",
       "ACME (control)            0.106996        0.054724        0.174995    0.000\n",
       "ACME (treated)            0.106996        0.054724        0.174995    0.000\n",
       "ADE (control)             0.067991       -0.102547        0.219749    0.426\n",
       "ADE (treated)             0.067991       -0.102547        0.219749    0.426\n",
       "Total effect              0.174987        0.011623        0.331057    0.036\n",
       "Prop. mediated (control)  0.588430        0.193524        2.957493    0.036\n",
       "Prop. mediated (treated)  0.588430        0.193524        2.957493    0.036\n",
       "ACME (average)            0.106996        0.054724        0.174995    0.000\n",
       "ADE (average)             0.067991       -0.102547        0.219749    0.426\n",
       "Prop. mediated (average)  0.588430        0.193524        2.957493    0.036"
      ]
     },
     "execution_count": 75,
     "metadata": {},
     "output_type": "execute_result"
    }
   ],
   "source": [
    "outcome_model = sm.OLS.from_formula(\n",
    "    \"EDSS_sqrt ~ choroid_volume + t2lv_logtrans + age + tiv + Female\", data=df_scale\n",
    ")\n",
    "mediator_model = sm.OLS.from_formula(\n",
    "    \"t2lv_logtrans ~ choroid_volume + age + tiv + Female\", data=df_scale\n",
    ")\n",
    "\n",
    "med = Mediation(\n",
    "    outcome_model, mediator_model, \"choroid_volume\", \"t2lv_logtrans\"\n",
    ").fit(method=\"bootstrap\")\n",
    "med.summary()"
   ]
  },
  {
   "cell_type": "markdown",
   "metadata": {},
   "source": [
    "PRL does not mediate the association between lesion count and EDSS"
   ]
  },
  {
   "cell_type": "code",
   "execution_count": 74,
   "metadata": {},
   "outputs": [
    {
     "name": "stdout",
     "output_type": "stream",
     "text": [
      "                          Estimate  Lower CI bound  Upper CI bound  P-value\n",
      "ACME (control)            0.003839       -0.000646        0.010799    0.120\n",
      "ACME (treated)            0.003839       -0.000646        0.010799    0.116\n",
      "ADE (control)             0.042244        0.001254        0.083481    0.042\n",
      "ADE (treated)             0.042244        0.001254        0.083481    0.042\n",
      "Total effect              0.046083        0.005338        0.087924    0.030\n",
      "Prop. mediated (control)  0.076149       -0.048580        0.438222    0.150\n",
      "Prop. mediated (treated)  0.076149       -0.048580        0.438222    0.146\n",
      "ACME (average)            0.003839       -0.000646        0.010799    0.120\n",
      "ADE (average)             0.042244        0.001254        0.083481    0.042\n",
      "Prop. mediated (average)  0.076149       -0.048580        0.438222    0.150\n"
     ]
    }
   ],
   "source": [
    "model_data = df_scale_ms.dropna()\n",
    "outcome_model = sm.OLS.from_formula(\"EDSS_sqrt ~ lesion_count + PRL + age + Female + tiv\", data=model_data)\n",
    "# print(outcome_model.fit().summary())\n",
    "\n",
    "mediator_model = sm.GLM.from_formula(\"PRL ~ lesion_count + age + Female + tiv\", data=model_data, family=sm.families.Poisson())\n",
    "# print(mediator_model.fit().summary())\n",
    "\n",
    "med = Mediation(\n",
    "    outcome_model, mediator_model, \"lesion_count\", \"PRL\"\n",
    ").fit()\n",
    "print(med.summary())"
   ]
  },
  {
   "cell_type": "code",
   "execution_count": 161,
   "metadata": {},
   "outputs": [
    {
     "name": "stdout",
     "output_type": "stream",
     "text": [
      "                 Generalized Linear Model Regression Results                  \n",
      "==============================================================================\n",
      "Dep. Variable:                    PRL   No. Observations:                  371\n",
      "Model:                            GLM   Df Residuals:                      367\n",
      "Model Family:                 Poisson   Df Model:                            3\n",
      "Link Function:                    Log   Scale:                          1.0000\n",
      "Method:                          IRLS   Log-Likelihood:                -677.32\n",
      "Date:                Sat, 01 Mar 2025   Deviance:                       975.59\n",
      "Time:                        16:05:21   Pearson chi2:                 1.40e+03\n",
      "No. Iterations:                     5   Pseudo R-squ. (CS):             0.2707\n",
      "Covariance Type:            nonrobust                                         \n",
      "==============================================================================\n",
      "                 coef    std err          z      P>|z|      [0.025      0.975]\n",
      "------------------------------------------------------------------------------\n",
      "Intercept      2.4501      0.216     11.368      0.000       2.028       2.873\n",
      "PMS            0.1680      0.145      1.155      0.248      -0.117       0.453\n",
      "age           -2.0948      0.216     -9.677      0.000      -2.519      -1.670\n",
      "Female        -0.5062      0.110     -4.607      0.000      -0.722      -0.291\n",
      "==============================================================================\n"
     ]
    }
   ],
   "source": [
    "model_data = df_scale.copy()\n",
    "model_data = model_data.loc[df['dz_type5'].isin([\"RMS\", \"PMS\"]), :].dropna()\n",
    "model_data = pd.concat(\n",
    "    (model_data, pd.get_dummies(model_data['dz_type5'])), axis=1\n",
    ")\n",
    "model_data['PMS'] = model_data['PMS'].astype(\"int64\")\n",
    "\n",
    "model = sm.GLM.from_formula(\"PRL ~ PMS + age + Female\", data=model_data, family=sm.families.Poisson())\n",
    "res = model.fit()\n",
    "print(res.summary())"
   ]
  },
  {
   "cell_type": "markdown",
   "metadata": {},
   "source": [
    "### Predicting MS Phenotype"
   ]
  },
  {
   "cell_type": "markdown",
   "metadata": {},
   "source": [
    "Logistic regression on PMS"
   ]
  },
  {
   "cell_type": "code",
   "execution_count": 160,
   "metadata": {},
   "outputs": [
    {
     "name": "stdout",
     "output_type": "stream",
     "text": [
      "Optimization terminated successfully.\n",
      "         Current function value: 0.379418\n",
      "         Iterations 7\n",
      "                           Logit Regression Results                           \n",
      "==============================================================================\n",
      "Dep. Variable:                    PMS   No. Observations:                  410\n",
      "Model:                          Logit   Df Residuals:                      405\n",
      "Method:                           MLE   Df Model:                            4\n",
      "Date:                Fri, 28 Feb 2025   Pseudo R-squ.:                  0.2518\n",
      "Time:                        16:07:18   Log-Likelihood:                -155.56\n",
      "converged:                       True   LL-Null:                       -207.91\n",
      "Covariance Type:            nonrobust   LLR p-value:                 9.854e-22\n",
      "==============================================================================\n",
      "                 coef    std err          z      P>|z|      [0.025      0.975]\n",
      "------------------------------------------------------------------------------\n",
      "Intercept     -1.9558      0.190    -10.310      0.000      -2.328      -1.584\n",
      "PRL            0.1270      0.151      0.840      0.401      -0.169       0.423\n",
      "age            1.4288      0.193      7.391      0.000       1.050       1.808\n",
      "tiv           -0.2075      0.175     -1.185      0.236      -0.550       0.136\n",
      "Female        -0.6028      0.160     -3.774      0.000      -0.916      -0.290\n",
      "==============================================================================\n"
     ]
    }
   ],
   "source": [
    "model_data = df_z.loc[df_z['dz_type5'].isin(['RMS', 'PMS'])]\n",
    "model_data = pd.concat(\n",
    "    (model_data, pd.get_dummies(model_data['dz_type5'])), axis=1\n",
    ")\n",
    "model_data['PMS'] = model_data['PMS'].astype(\"int64\")\n",
    "\n",
    "# logit_mod = sm.Logit.from_formula(\"PMS ~ choroid_volume + t2lv + dzdur + age + tiv + Female\", data=model_data)\n",
    "logit_mod = sm.Logit.from_formula(\"PMS ~ PRL + age + tiv + Female\", data=model_data)\n",
    "res = logit_mod.fit()\n",
    "print(res.summary())"
   ]
  },
  {
   "cell_type": "code",
   "execution_count": 84,
   "metadata": {},
   "outputs": [
    {
     "name": "stdout",
     "output_type": "stream",
     "text": [
      "Optimization terminated successfully.\n",
      "         Current function value: 0.416241\n",
      "         Iterations 6\n",
      "                           Logit Regression Results                           \n",
      "==============================================================================\n",
      "Dep. Variable:                     MS   No. Observations:                  487\n",
      "Model:                          Logit   Df Residuals:                      482\n",
      "Method:                           MLE   Df Model:                            4\n",
      "Date:                Thu, 27 Feb 2025   Pseudo R-squ.:                 0.03108\n",
      "Time:                        14:16:44   Log-Likelihood:                -202.71\n",
      "converged:                       True   LL-Null:                       -209.21\n",
      "Covariance Type:            nonrobust   LLR p-value:                   0.01126\n",
      "==================================================================================\n",
      "                     coef    std err          z      P>|z|      [0.025      0.975]\n",
      "----------------------------------------------------------------------------------\n",
      "Intercept          1.7739      0.133     13.305      0.000       1.513       2.035\n",
      "choroid_volume     0.2540      0.150      1.699      0.089      -0.039       0.547\n",
      "age               -0.3435      0.146     -2.349      0.019      -0.630      -0.057\n",
      "tiv               -0.4598      0.156     -2.950      0.003      -0.765      -0.154\n",
      "Female            -0.3088      0.161     -1.913      0.056      -0.625       0.008\n",
      "==================================================================================\n"
     ]
    }
   ],
   "source": [
    "model_data = df_z.loc[df_z['dz_type2'].isin(['MS', '!MS'])]\n",
    "model_data = pd.concat(\n",
    "    (model_data, pd.get_dummies(model_data['dz_type2'])), axis=1\n",
    ")\n",
    "model_data['MS'] = model_data['MS'].astype(\"int64\")\n",
    "\n",
    "# logit_mod = sm.Logit.from_formula(\"PMS ~ choroid_volume + t2lv + dzdur + age + tiv + Female\", data=model_data)\n",
    "logit_mod = sm.Logit.from_formula(\"MS ~ choroid_volume + age + tiv + Female\", data=model_data)\n",
    "res = logit_mod.fit()\n",
    "print(res.summary())"
   ]
  },
  {
   "cell_type": "code",
   "execution_count": null,
   "metadata": {},
   "outputs": [
    {
     "name": "stdout",
     "output_type": "stream",
     "text": [
      "                            OLS Regression Results                            \n",
      "==============================================================================\n",
      "Dep. Variable:              EDSS_sqrt   R-squared:                       0.246\n",
      "Model:                            OLS   Adj. R-squared:                  0.237\n",
      "Method:                 Least Squares   F-statistic:                     28.39\n",
      "Date:                Sun, 09 Mar 2025   Prob (F-statistic):           6.27e-25\n",
      "Time:                        19:26:27   Log-Likelihood:                -564.88\n",
      "No. Observations:                 442   AIC:                             1142.\n",
      "Df Residuals:                     436   BIC:                             1166.\n",
      "Df Model:                           5                                         \n",
      "Covariance Type:            nonrobust                                         \n",
      "======================================================================================\n",
      "                         coef    std err          t      P>|t|      [0.025      0.975]\n",
      "--------------------------------------------------------------------------------------\n",
      "Intercept             -0.0246      0.042     -0.592      0.554      -0.107       0.057\n",
      "choroid_volume         0.0115      0.050      0.228      0.819      -0.088       0.111\n",
      "cortical_thickness    -0.2581      0.052     -4.928      0.000      -0.361      -0.155\n",
      "age                    0.2970      0.049      6.079      0.000       0.201       0.393\n",
      "Female                -0.0450      0.050     -0.891      0.373      -0.144       0.054\n",
      "tiv                   -0.0555      0.052     -1.063      0.288      -0.158       0.047\n",
      "==============================================================================\n",
      "Omnibus:                        4.077   Durbin-Watson:                   1.895\n",
      "Prob(Omnibus):                  0.130   Jarque-Bera (JB):                3.838\n",
      "Skew:                           0.201   Prob(JB):                        0.147\n",
      "Kurtosis:                       3.218   Cond. No.                         2.33\n",
      "==============================================================================\n",
      "\n",
      "Notes:\n",
      "[1] Standard Errors assume that the covariance matrix of the errors is correctly specified.\n"
     ]
    }
   ],
   "source": [
    "model_data = df_z.copy()\n",
    "model = sm.OLS.from_formula(\"EDSS_sqrt ~ choroid_volume + thalamus + age + Female + tiv\", data=model_data).fit()\n",
    "\n",
    "print(model.summary())"
   ]
  },
  {
   "cell_type": "code",
   "execution_count": 508,
   "metadata": {},
   "outputs": [
    {
     "data": {
      "image/png": "[encoded data removed]",
      "text/plain": [
       "<Figure size 600x400 with 1 Axes>"
      ]
     },
     "metadata": {},
     "output_type": "display_data"
    }
   ],
   "source": [
    "model_data = df.copy()\n",
    "model = sm.OLS.from_formula(\"EDSS_sqrt ~ thalamus + age + Female + tiv\", data=model_data).fit()\n",
    "model_data['EDSS_residuals'] = model.resid\n",
    "\n",
    "plt.figure(figsize=(6, 4))\n",
    "sns.regplot(x=model_data[\"choroid_volume\"], y=model_data[\"EDSS_residuals\"], scatter_kws={'alpha':0.5})\n",
    "plt.axhline(0, linestyle=\"--\", color=\"gray\")\n",
    "plt.title(\"Choroid Volume vs. EDSS (After Controlling for Thalamic Volume)\")\n",
    "plt.xlabel(\"Choroid Volume\")\n",
    "plt.ylabel(\"EDSS Residuals\")\n",
    "plt.show()"
   ]
  },
  {
   "cell_type": "code",
   "execution_count": null,
   "metadata": {},
   "outputs": [],
   "source": [
    "import statsmodels.api as sm\n",
    "\n",
    "# Example: Regress EDSS on Thalamic Volume\n",
    "X = sm.add_constant(df[\"Thalamus\"])  # Add intercept\n",
    "model = sm.OLS(df[\"EDSS\"], X).fit()\n",
    "df[\"EDSS_residuals\"] = model.resid  # Extract residuals\n",
    "\n",
    "# Scatter plot of Choroid Volume vs Residualized EDSS\n",
    "plt.figure(figsize=(6, 4))\n",
    "sns.regplot(x=df[\"Choroid_Volume\"], y=df[\"EDSS_residuals\"], scatter_kws={'alpha':0.5})\n",
    "plt.axhline(0, linestyle=\"--\", color=\"gray\")\n",
    "plt.title(\"Choroid Volume vs. EDSS (After Controlling for Thalamic Volume)\")\n",
    "plt.xlabel(\"Choroid Volume\")\n",
    "plt.ylabel(\"EDSS Residuals\")\n",
    "plt.show()\n"
   ]
  }
 ],
 "metadata": {
  "kernelspec": {
   "display_name": "monai",
   "language": "python",
   "name": "python3"
  },
  "language_info": {
   "codemirror_mode": {
    "name": "ipython",
    "version": 3
   },
   "file_extension": ".py",
   "mimetype": "text/x-python",
   "name": "python",
   "nbconvert_exporter": "python",
   "pygments_lexer": "ipython3",
   "version": "3.12.4"
  }
 },
 "nbformat": 4,
 "nbformat_minor": 2
}
