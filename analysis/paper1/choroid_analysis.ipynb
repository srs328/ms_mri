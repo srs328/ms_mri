{
 "cells": [
  {
   "cell_type": "code",
   "execution_count": 68,
   "metadata": {},
   "outputs": [],
   "source": [
    "import matplotlib.pyplot as plt\n",
    "import pandas as pd\n",
    "from pathlib import Path\n",
    "import numpy as np\n",
    "import re\n",
    "import seaborn as sns\n",
    "import statsmodels.api as sm\n",
    "from statsmodels.formula.api import ols\n",
    "from scipy.stats import mannwhitneyu\n",
    "from scipy import stats\n",
    "import matplotlib.ticker as ticker\n",
    "import os\n",
    "from reload_recursive import reload_recursive\n",
    "import patsy\n",
    "from pyprocessmacro import Process\n",
    "from statsmodels.stats.mediation import Mediation\n",
    "from statsmodels.miscmodels.ordinal_model import OrderedModel\n",
    "from pingouin import mediation_analysis\n",
    "import sys\n",
    "\n",
    "from mri_data import file_manager as fm\n",
    "import helpers"
   ]
  },
  {
   "cell_type": "code",
   "execution_count": 69,
   "metadata": {},
   "outputs": [],
   "source": [
    "reload_recursive(helpers)"
   ]
  },
  {
   "cell_type": "markdown",
   "metadata": {},
   "source": [
    "## Setup"
   ]
  },
  {
   "cell_type": "code",
   "execution_count": 70,
   "metadata": {},
   "outputs": [],
   "source": [
    "drive_root = fm.get_drive_root()\n",
    "msmri_home = Path(\"/home/srs-9/Projects/ms_mri\")\n",
    "msmri_datadir = msmri_home / \"data\"\n",
    "curr_dir = Path(os.getcwd())\n",
    "data_dir = curr_dir / \"data0\"\n",
    "showfigs = False\n",
    "# pd.set_option('display.float_format', lambda x: '%.3f' % x)\n",
    "pd.options.display.precision = 3\n",
    "colors = helpers.get_colors()"
   ]
  },
  {
   "cell_type": "code",
   "execution_count": 71,
   "metadata": {},
   "outputs": [],
   "source": [
    "df = pd.read_csv(data_dir / \"t1_2_data_full.csv\")"
   ]
  },
  {
   "cell_type": "code",
   "execution_count": 72,
   "metadata": {},
   "outputs": [],
   "source": [
    "df = pd.read_csv(data_dir / \"t1_2_data_full.csv\")\n",
    "df = df.set_index(\"subid\")\n",
    "\n",
    "df = helpers.set_dz_type5(df)\n",
    "df = helpers.set_dz_type3(df)\n",
    "df = helpers.set_dz_type2(df)\n",
    "df = helpers.fix_edss(df)\n",
    "df = helpers.clean_df(df)\n",
    "df = helpers.set_has_prl(df)\n",
    "\n",
    "keep_cols = [\n",
    "    \"subject\",\n",
    "    \"age\",\n",
    "    \"sex\",\n",
    "    \"ms_type\",\n",
    "    \"dz_type2\",\n",
    "    \"dz_type3\",\n",
    "    \"dz_type5\",\n",
    "    \"dzdur\",\n",
    "    \"EDSS\",\n",
    "    \"MSSS\",\n",
    "    \"gMSSS\",\n",
    "    \"ARMSS\",\n",
    "    \"DMT_score\",\n",
    "    \"DMT_hx_all\",\n",
    "    \"TER\",\n",
    "    \"DMF\",\n",
    "    \"NAT\",\n",
    "    \"INF\",\n",
    "    \"flair_contrast\",\n",
    "    \"thalamus\",\n",
    "    \"brain\",\n",
    "    \"white\",\n",
    "    \"grey\",\n",
    "    \"cortical_thickness\",\n",
    "    \"lesion_count\",\n",
    "    \"lesion_vol_cubic\",\n",
    "    \"PRL\",\n",
    "    \"HAS_PRL\",\n",
    "    \"tiv\",\n",
    "    \"choroid_volume\",\n",
    "    \"pineal_volume\", \n",
    "    \"pituitary_volume\"\n",
    "]\n",
    "\n",
    "df = df.loc[:, keep_cols]\n",
    "df = pd.concat((df, pd.get_dummies(df[\"sex\"], dtype=\"int\")), axis=1)\n",
    "df[\"Intercept\"] = 1"
   ]
  },
  {
   "cell_type": "code",
   "execution_count": 73,
   "metadata": {},
   "outputs": [],
   "source": [
    "df.loc[:, \"lesion_vol_logtrans\"] = np.log(df[\"lesion_vol_cubic\"])\n",
    "df.loc[:, \"edss_sqrt\"] = np.sqrt(df[\"EDSS\"].astype(\"float\"))\n",
    "df.loc[:, \"msss_sqrt\"] = np.sqrt(df[\"MSSS\"])\n",
    "df.loc[:, \"armss_sqrt\"] = np.sqrt(df[\"ARMSS\"])\n",
    "df.loc[:, \"gmsss_sqrt\"] = np.sqrt(df[\"gMSSS\"])"
   ]
  },
  {
   "cell_type": "code",
   "execution_count": 74,
   "metadata": {},
   "outputs": [],
   "source": [
    "vars = [\n",
    "    \"age\",\n",
    "    \"Female\",\n",
    "    \"dzdur\",\n",
    "    \"EDSS\",\n",
    "    \"MSSS\",\n",
    "    \"gMSSS\",\n",
    "    \"ARMSS\",\n",
    "    \"edss_sqrt\",\n",
    "    \"msss_sqrt\",\n",
    "    \"armss_sqrt\",\n",
    "    \"gmsss_sqrt\",\n",
    "    \"DMT_score\",\n",
    "    \"DMT_hx_all\",\n",
    "    \"TER\",\n",
    "    \"DMF\",\n",
    "    \"NAT\",\n",
    "    \"INF\",\n",
    "    \"thalamus\",\n",
    "    \"brain\",\n",
    "    \"white\",\n",
    "    \"grey\",\n",
    "    \"cortical_thickness\",\n",
    "    \"lesion_count\",\n",
    "    \"lesion_vol_cubic\",\n",
    "    \"lesion_vol_logtrans\",\n",
    "    \"PRL\",\n",
    "    \"HAS_PRL\",\n",
    "    \"tiv\",\n",
    "    \"choroid_volume\",\n",
    "    \"pineal_volume\",\n",
    "    \"pituitary_volume\"\n",
    "]\n",
    "\n",
    "for var in vars:\n",
    "    df[var] = pd.to_numeric(df[var])"
   ]
  },
  {
   "cell_type": "code",
   "execution_count": 75,
   "metadata": {},
   "outputs": [],
   "source": [
    "vars_to_center = [\"edss_sqrt\", \"lesion_vol_logtrans\", \"lesion_vol_cubic\", \"dzdur\", \"choroid_volume\", \"PRL\"]\n",
    "\n",
    "for var in vars_to_center:\n",
    "    df[f\"{var}_cent\"] = df[var] - df[var].mean()\n",
    "\n",
    "centered_vars = [f\"{var}_cent\" for var in vars_to_center]\n",
    "vars.extend(centered_vars)"
   ]
  },
  {
   "cell_type": "code",
   "execution_count": 76,
   "metadata": {},
   "outputs": [],
   "source": [
    "vars_to_scale = [\n",
    "    \"age\",\n",
    "    \"dzdur\",\n",
    "    \"lesion_count\",\n",
    "    \"lesion_vol_cubic\",\n",
    "    \"lesion_vol_logtrans\",\n",
    "    \"PRL\",\n",
    "    \"tiv\",\n",
    "    \"choroid_volume\",\n",
    "    \"thalamus\"\n",
    "]\n",
    "\n",
    "df_scale = df.copy()\n",
    "df_scale[vars_to_scale] = df_scale[vars_to_scale] / df_scale[vars_to_scale].mean()"
   ]
  },
  {
   "cell_type": "code",
   "execution_count": 77,
   "metadata": {},
   "outputs": [],
   "source": [
    "df_ms = df.loc[df['dz_type2'] == \"MS\"]\n",
    "df_scale_ms = df_scale.loc[df['dz_type2'] == \"MS\"]\n",
    "\n",
    "df_z = df[vars].astype(\"float\")\n",
    "df_z[df.columns[~df.columns.isin(vars)]] = df[df.columns[~df.columns.isin(vars)]]\n",
    "df_z = df_z[df.columns]\n",
    "df_z[vars] = df_z[vars].apply(stats.zscore, nan_policy=\"omit\")\n",
    "\n",
    "data = df[vars].astype(\"float\")\n",
    "data_z = data[vars].apply(stats.zscore, nan_policy=\"omit\")\n",
    "\n",
    "data_ms = df.loc[df[\"dz_type5\"].isin([\"RMS\", \"PMS\"]), :]\n",
    "data_ms = data_ms[vars].astype(\"float\")\n",
    "data_ms_z = data_ms[vars].apply(stats.zscore, nan_policy=\"omit\")"
   ]
  },
  {
   "cell_type": "markdown",
   "metadata": {},
   "source": [
    "## Analysis"
   ]
  },
  {
   "cell_type": "markdown",
   "metadata": {},
   "source": [
    "### Choroid Volumes"
   ]
  },
  {
   "cell_type": "markdown",
   "metadata": {},
   "source": [
    "CP volume increased with age (β=0.38, p<0.001), TIV (β=0.16, p=0.001), and was smaller in females (β=-0.15, p=0.002), but was not associated with the presence of MS (β=0.18, p=0.10)"
   ]
  },
  {
   "cell_type": "code",
   "execution_count": 42,
   "metadata": {},
   "outputs": [
    {
     "name": "stdout",
     "output_type": "stream",
     "text": [
      "R2:     0.214\n",
      "R2_adj: 0.208\n",
      "                 coef          p\n",
      "Intercept      -0.076  4.643e-01\n",
      "dz_type2[T.MS]  0.096  3.954e-01\n",
      "age             0.375  3.149e-18\n",
      "tiv             0.145  3.418e-03\n",
      "Female         -0.142  4.487e-03\n"
     ]
    }
   ],
   "source": [
    "model_data = df_z[df_z['dz_type2'].isin([\"MS\", \"!MS\"])]\n",
    "res = sm.OLS.from_formula(\n",
    "    \"choroid_volume ~ dz_type2 + age + tiv + Female\", data=model_data\n",
    ").fit()\n",
    "\n",
    "summary = pd.DataFrame({'coef': res.params, 'p': res.pvalues})\n",
    "print(\"R2:     {:0.3f}\".format(res.rsquared))\n",
    "print(\"R2_adj: {:0.3f}\".format(res.rsquared_adj))\n",
    "print(summary)"
   ]
  },
  {
   "cell_type": "markdown",
   "metadata": {},
   "source": [
    "Within the population of MS patients, those with PMS had greater CP volumes than those with RMS, after controlling for age, sex, and TIV (β=0.36, p=0.003). "
   ]
  },
  {
   "cell_type": "code",
   "execution_count": 61,
   "metadata": {},
   "outputs": [
    {
     "name": "stdout",
     "output_type": "stream",
     "text": [
      "R2:     0.254\n",
      "R2_adj: 0.246\n",
      "                  coef          p\n",
      "Intercept        0.315  3.054e-03\n",
      "dz_type5[T.RMS] -0.359  3.329e-03\n",
      "Female          -0.163  2.374e-03\n",
      "age              0.321  8.375e-11\n",
      "tiv              0.135  1.163e-02\n"
     ]
    }
   ],
   "source": [
    "model_data = df_z[df_z['dz_type5'].isin([\"RMS\", \"PMS\"])]\n",
    "res = sm.OLS.from_formula(\"choroid_volume ~ dz_type5 + Female + age + tiv\", data=model_data).fit()\n",
    "\n",
    "summary = pd.DataFrame({'coef': res.params, 'p': res.pvalues})\n",
    "print(\"R2:     {:0.3f}\".format(res.rsquared))\n",
    "print(\"R2_adj: {:0.3f}\".format(res.rsquared_adj))\n",
    "print(summary)"
   ]
  },
  {
   "cell_type": "markdown",
   "metadata": {},
   "source": [
    "In a multivariable regression controlling for age, sex, and TIV, CP volume increased with WM lesion volume (β=0.21, p<0.001) and number of PRL lesions (β=0.16, p<0.001). There was still a significant positive association with PMS (β=0.27. p=0.019)"
   ]
  },
  {
   "cell_type": "code",
   "execution_count": 62,
   "metadata": {},
   "outputs": [
    {
     "name": "stdout",
     "output_type": "stream",
     "text": [
      "R2:     0.334\n",
      "R2_adj: 0.325\n",
      "                   coef          p\n",
      "Intercept         0.221  3.096e-02\n",
      "dz_type5[T.RMS]  -0.274  1.941e-02\n",
      "lesion_vol_cubic  0.212  4.608e-06\n",
      "PRL               0.163  7.904e-05\n",
      "Female           -0.166  1.138e-03\n",
      "age               0.322  1.199e-10\n",
      "tiv               0.109  3.141e-02\n"
     ]
    }
   ],
   "source": [
    "model_data = df_z[df_z['dz_type5'].isin([\"RMS\", \"PMS\"])]\n",
    "res = sm.OLS.from_formula(\"choroid_volume ~ lesion_vol_cubic + PRL + dz_type5 + Female + age + tiv\", data=model_data).fit()\n",
    "\n",
    "summary = pd.DataFrame({'coef': res.params, 'p': res.pvalues})\n",
    "print(\"R2:     {:0.3f}\".format(res.rsquared))\n",
    "print(\"R2_adj: {:0.3f}\".format(res.rsquared_adj))\n",
    "print(summary)"
   ]
  },
  {
   "cell_type": "markdown",
   "metadata": {},
   "source": [
    "An ANCOVA was conducted to examine differences in CP volume amongst the RMS, PMS, OIND, and NIND groups, controlling for age, sex, and TIV. The analysis revealed a significant main effect for disease phenotype on CP volume (p < 0.001). Post hoc Tukey's HSD comparisons indicated that PMS had significantly larger CP than both NIND (p=0.043, d=0.51) and RMS (p=0.011, d=0.42). Additionally, sex (p<0.001), age (p<0.001), and TIV (p=0.006) were significant covariates. "
   ]
  },
  {
   "cell_type": "code",
   "execution_count": 48,
   "metadata": {},
   "outputs": [
    {
     "data": {
      "image/png": "[encoded data removed]",
      "text/plain": [
       "<Figure size 640x480 with 1 Axes>"
      ]
     },
     "metadata": {
      "needs_background": "light"
     },
     "output_type": "display_data"
    }
   ],
   "source": [
    "model_data = df[df['dz_type5'].isin([\"RMS\", \"PMS\", \"NIND\", \"OIND\"])]\n",
    "\n",
    "res = sm.OLS.from_formula(\"choroid_volume ~ dz_type5 + Female + age + tiv + lesion_vol_cubic + DMT_hx_all\", data=model_data).fit()\n",
    "# Extract marginal means (using 'Group')\n",
    "marginal_means = res.predict(model_data[['Female', 'age', 'tiv', 'dz_type5', 'lesion_vol_cubic', 'DMT_hx_all']].drop_duplicates())\n",
    "\n",
    "f = plt.figure()\n",
    "ax = sns.pointplot(x='dz_type5', y=marginal_means, data=model_data, \n",
    "              palette='deep', hue='dz_type5', legend=False, markers='o', linestyles='-', color='red', \n",
    "              capsize=0.1, markersize=5, markeredgewidth=2, linewidth=1)\n",
    "ax.set_ylabel(\"Choroid volume (cm3)\", fontsize=12)\n",
    "ax.set_xlabel(\"\")\n",
    "ax.set_xticks([\"RMS\", \"PMS\", \"NIND\", \"OIND\"])\n",
    "ax.set_xticklabels([\"RMS\", \"PMS\", \"NIND\", \"OIND\"], fontsize=14)\n",
    "f.patch.set_alpha(0)"
   ]
  },
  {
   "cell_type": "markdown",
   "metadata": {},
   "source": [
    "See how ChP volume changes with various imaging findings"
   ]
  },
  {
   "cell_type": "code",
   "execution_count": 46,
   "metadata": {},
   "outputs": [
    {
     "name": "stdout",
     "output_type": "stream",
     "text": [
      "                     coef      pvals      p_fdr\n",
      "lesion_vol_cubic    0.216  1.156e-05  1.156e-05\n",
      "PRL                 0.250  3.606e-07  5.049e-07\n",
      "thalamus           -0.371  1.282e-18  8.973e-18\n",
      "brain              -0.283  1.278e-10  2.981e-10\n",
      "grey               -0.204  1.272e-06  1.484e-06\n",
      "white              -0.306  6.406e-11  2.242e-10\n",
      "cortical_thickness -0.274  1.917e-10  3.355e-10\n"
     ]
    }
   ],
   "source": [
    "model_data = df_z.copy()\n",
    "outcomes = [\"lesion_vol_cubic\", \"PRL\", \"thalamus\", \"brain\", \"grey\", \"white\", \"cortical_thickness\"]\n",
    "covariates = \"age + Female + tiv\"\n",
    "\n",
    "pvals = {}\n",
    "coefs = {}\n",
    "\n",
    "for outcome in outcomes:\n",
    "    formula = f\"{outcome} ~ choroid_volume + {covariates}\"\n",
    "    res = sm.OLS.from_formula(formula, data=model_data).fit()\n",
    "    pvals[outcome] = res.pvalues['choroid_volume']\n",
    "    coefs[outcome] = res.params['choroid_volume']\n",
    "\n",
    "regression_results = pd.DataFrame({\"coef\": coefs, \"pvals\": pvals})\n",
    "regression_results['p_fdr'] = stats.false_discovery_control(regression_results['pvals'], method='bh')\n",
    "print(regression_results)"
   ]
  },
  {
   "cell_type": "code",
   "execution_count": 78,
   "metadata": {},
   "outputs": [
    {
     "name": "stdout",
     "output_type": "stream",
     "text": [
      "R2:     0.494\n",
      "R2_adj: 0.487\n",
      "                                  coef      p\n",
      "Intercept                        0.020  0.589\n",
      "choroid_volume                  -0.288  0.000\n",
      "lesion_vol_cubic                -0.327  0.000\n",
      "choroid_volume:lesion_vol_cubic -0.067  0.068\n",
      "tiv                              0.006  0.895\n",
      "age                             -0.284  0.000\n",
      "Female                           0.129  0.003\n"
     ]
    }
   ],
   "source": [
    "moderation_model = sm.OLS.from_formula(\"thalamus ~ choroid_volume*lesion_vol_cubic + tiv + age + Female\", data=data_ms_z)\n",
    "res = moderation_model.fit()\n",
    "summary = pd.DataFrame({'coef': res.params, 'p': res.pvalues.round(3)})\n",
    "print(\"R2:     {:0.3}\".format(res.rsquared))\n",
    "print(\"R2_adj: {:0.3}\".format(res.rsquared_adj))\n",
    "print(summary)"
   ]
  },
  {
   "cell_type": "code",
   "execution_count": 79,
   "metadata": {},
   "outputs": [
    {
     "name": "stdout",
     "output_type": "stream",
     "text": [
      "                            OLS Regression Results                            \n",
      "==============================================================================\n",
      "Dep. Variable:               thalamus   R-squared:                       0.494\n",
      "Model:                            OLS   Adj. R-squared:                  0.487\n",
      "Method:                 Least Squares   F-statistic:                     65.93\n",
      "Date:                Mon, 10 Mar 2025   Prob (F-statistic):           6.05e-57\n",
      "Time:                        13:06:37   Log-Likelihood:                -444.23\n",
      "No. Observations:                 412   AIC:                             902.5\n",
      "Df Residuals:                     405   BIC:                             930.6\n",
      "Df Model:                           6                                         \n",
      "Covariance Type:            nonrobust                                         \n",
      "===================================================================================================\n",
      "                                      coef    std err          t      P>|t|      [0.025      0.975]\n",
      "---------------------------------------------------------------------------------------------------\n",
      "Intercept                           0.0200      0.037      0.540      0.589      -0.053       0.093\n",
      "choroid_volume                     -0.2876      0.042     -6.921      0.000      -0.369      -0.206\n",
      "lesion_vol_cubic                   -0.3272      0.038     -8.700      0.000      -0.401      -0.253\n",
      "choroid_volume:lesion_vol_cubic    -0.0675      0.037     -1.829      0.068      -0.140       0.005\n",
      "tiv                                 0.0057      0.043      0.133      0.895      -0.078       0.090\n",
      "age                                -0.2842      0.040     -7.124      0.000      -0.363      -0.206\n",
      "Female                              0.1288      0.044      2.943      0.003       0.043       0.215\n",
      "==============================================================================\n",
      "Omnibus:                       40.282   Durbin-Watson:                   2.017\n",
      "Prob(Omnibus):                  0.000   Jarque-Bera (JB):               81.379\n",
      "Skew:                          -0.556   Prob(JB):                     2.13e-18\n",
      "Kurtosis:                       4.872   Cond. No.                         2.12\n",
      "==============================================================================\n",
      "\n",
      "Notes:\n",
      "[1] Standard Errors assume that the covariance matrix of the errors is correctly specified.\n"
     ]
    }
   ],
   "source": [
    "print(res.summary())"
   ]
  },
  {
   "cell_type": "code",
   "execution_count": 80,
   "metadata": {},
   "outputs": [
    {
     "data": {
      "image/png": "[encoded data removed]",
      "text/plain": [
       "<Figure size 640x480 with 1 Axes>"
      ]
     },
     "metadata": {},
     "output_type": "display_data"
    }
   ],
   "source": [
    "model_data = df.copy()\n",
    "model_data = model_data[model_data['dz_type2'] == \"MS\"]\n",
    "\n",
    "moderation_model = sm.OLS.from_formula(\"thalamus ~ choroid_volume_cent*lesion_vol_cubic_cent + tiv + age + Female\", data=model_data)\n",
    "res = moderation_model.fit()\n",
    "\n",
    "x_rng, y_lvls = helpers.moderation_y(model_data, res, \"lesion_vol_cubic_cent\", \"choroid_volume_cent\")\n",
    "# fix x_rng since the moderation_y took the centered version\n",
    "x_rng = np.linspace(model_data['lesion_vol_cubic'].min(), model_data['lesion_vol_cubic'].max(), 100)\n",
    "\n",
    "# helpers.plot_moderation(model_data['dzdur'], model_data['EDSS'], x_rng, y_lvls)\n",
    "plt.scatter(model_data['lesion_vol_cubic'], model_data['thalamus'], s=8, color=\"gray\")\n",
    "\n",
    "# m-sd line\n",
    "plt.plot(x_rng, y_lvls[0][0], label=\"m-sd\", linestyle=\"--\", color=colors['dark blue1'])\n",
    "# plt.fill_between(x_rng, y_lvls[0][1], y_lvls[0][2], color=colors['light blue1'], alpha=0.1)\n",
    "\n",
    "plt.plot(x_rng, y_lvls[1][0], label=\"m (CP Vol)\", linestyle=\"-\", color=\"black\")\n",
    "plt.fill_between(x_rng, y_lvls[1][1], y_lvls[1][2], color='grey', alpha=0.3)\n",
    "\n",
    "plt.plot(x_rng, y_lvls[2][0], label=\"m+sd\", linestyle=\"--\", color=colors['dark red1'])\n",
    "# plt.fill_between(x_rng, y_lvls[2][1], y_lvls[2][2], color=colors['light red1'], alpha=0.1)\n",
    "\n",
    "plt.legend()\n",
    "plt.xlabel(\"T2-LV\")\n",
    "plt.ylabel(\"Thalamic volume\")\n",
    "plt.show()"
   ]
  },
  {
   "cell_type": "code",
   "execution_count": 18,
   "metadata": {},
   "outputs": [
    {
     "data": {
      "image/png": "[encoded data removed]",
      "text/plain": [
       "<Figure size 1200x600 with 6 Axes>"
      ]
     },
     "metadata": {},
     "output_type": "display_data"
    }
   ],
   "source": [
    "outcomes = [\"lesion_vol_cubic\", \"thalamus\", \"brain\", \"grey\", \"white\", \"cortical_thickness\"]\n",
    "# fig, axs = plt.subplot_mosaic([['lesion_vol_cubic', 'thalamus'],\n",
    "#                                ['brain', 'cortical_thickness'],\n",
    "#                                ['grey', 'white']], \n",
    "#                                figsize=(8, 8),\n",
    "#                                layout='constrained',\n",
    "#                                )\n",
    "\n",
    "fig, axs = plt.subplot_mosaic([['lesion_vol_cubic', 'thalamus',\n",
    "                                'cortical_thickness'],\n",
    "                               ['brain', 'grey', 'white']], \n",
    "                               figsize=(12, 6),\n",
    "                               layout='constrained',\n",
    "                               )\n",
    "\n",
    "dark_color = colors['dark blue1']\n",
    "light_color = colors['light blue1']\n",
    "keep_xticks = [\"brain\", \"grey\", \"white\"]\n",
    "for outcome in outcomes:\n",
    "    formula = f\"{outcome} ~ choroid_volume + {covariates}\"\n",
    "    res = sm.OLS.from_formula(formula, data=data).fit()\n",
    "    x, y_pred, y_lims = helpers.get_regression_y(data, res, \"choroid_volume\", outcome)\n",
    "    axs[outcome].scatter(data['choroid_volume'], data[outcome], s=2, color=dark_color)\n",
    "    axs[outcome].plot(x, y_pred, color='black')\n",
    "    axs[outcome].fill_between(x, y_lims[0], y_lims[1], alpha=0.4, color=light_color)\n",
    "    axs[outcome].set_ylabel(outcome)\n",
    "    if outcome not in keep_xticks:\n",
    "        axs[outcome].set_xlabel(\"\")\n",
    "        axs[outcome].set_xticklabels([])\n",
    "    else:\n",
    "        axs[outcome].set_xlabel(\"Choroid plexus volume\")"
   ]
  },
  {
   "cell_type": "code",
   "execution_count": 353,
   "metadata": {},
   "outputs": [
    {
     "data": {
      "text/plain": [
       "'lesion_vol_cubic'"
      ]
     },
     "execution_count": 353,
     "metadata": {},
     "output_type": "execute_result"
    }
   ],
   "source": [
    "axs['lesion_vol_cubic'].get_ylabel()"
   ]
  },
  {
   "cell_type": "markdown",
   "metadata": {},
   "source": [
    "The best performing regression model for predicting CP volume in MS patients had an R² of 0.36 (adj R²=0.35)."
   ]
  },
  {
   "cell_type": "code",
   "execution_count": 18,
   "metadata": {},
   "outputs": [
    {
     "name": "stdout",
     "output_type": "stream",
     "text": [
      "                            OLS Regression Results                            \n",
      "==============================================================================\n",
      "Dep. Variable:         choroid_volume   R-squared:                       0.231\n",
      "Model:                            OLS   Adj. R-squared:                  0.221\n",
      "Method:                 Least Squares   F-statistic:                     22.29\n",
      "Date:                Fri, 07 Mar 2025   Prob (F-statistic):           1.53e-19\n",
      "Time:                        16:44:46   Log-Likelihood:                -2937.1\n",
      "No. Observations:                 376   AIC:                             5886.\n",
      "Df Residuals:                     370   BIC:                             5910.\n",
      "Df Model:                           5                                         \n",
      "Covariance Type:            nonrobust                                         \n",
      "====================================================================================\n",
      "                       coef    std err          t      P>|t|      [0.025      0.975]\n",
      "------------------------------------------------------------------------------------\n",
      "Intercept         1990.2942    130.039     15.305      0.000    1734.586    2246.003\n",
      "dz_type5[T.RMS]   -516.5642     84.402     -6.120      0.000    -682.531    -350.597\n",
      "MSSS               -19.1206     14.100     -1.356      0.176     -46.847       8.606\n",
      "DMT_hx_all         103.5877     64.043      1.617      0.107     -22.347     229.522\n",
      "lesion_vol_cubic   236.4814     40.010      5.911      0.000     157.807     315.156\n",
      "PRL                 55.5398     17.106      3.247      0.001      21.902      89.178\n",
      "==============================================================================\n",
      "Omnibus:                        3.221   Durbin-Watson:                   2.150\n",
      "Prob(Omnibus):                  0.200   Jarque-Bera (JB):                2.959\n",
      "Skew:                           0.180   Prob(JB):                        0.228\n",
      "Kurtosis:                       3.244   Cond. No.                         22.2\n",
      "==============================================================================\n",
      "\n",
      "Notes:\n",
      "[1] Standard Errors assume that the covariance matrix of the errors is correctly specified.\n"
     ]
    }
   ],
   "source": [
    "model_data = df[df['dz_type5'].isin([\"RMS\", \"PMS\"])]\n",
    "\n",
    "res = sm.OLS.from_formula(\"choroid_volume ~ MSSS + DMT_hx_all + dz_type5 + lesion_vol_cubic + PRL\", data=model_data).fit()\n",
    "\n",
    "print(res.summary())"
   ]
  },
  {
   "cell_type": "markdown",
   "metadata": {},
   "source": [
    "### PRL Count\n",
    "\n",
    "Choroid predicts PRL count after controlling for age, sex, tiv, and lesion volume. Show the analysis"
   ]
  },
  {
   "cell_type": "code",
   "execution_count": 19,
   "metadata": {},
   "outputs": [
    {
     "name": "stdout",
     "output_type": "stream",
     "text": [
      "                 Generalized Linear Model Regression Results                  \n",
      "==============================================================================\n",
      "Dep. Variable:                    PRL   No. Observations:                  410\n",
      "Model:                            GLM   Df Residuals:                      404\n",
      "Model Family:                 Poisson   Df Model:                            5\n",
      "Link Function:                    Log   Scale:                          1.0000\n",
      "Method:                          IRLS   Log-Likelihood:                -712.54\n",
      "Date:                Fri, 07 Mar 2025   Deviance:                       995.12\n",
      "Time:                        16:44:46   Pearson chi2:                 1.27e+03\n",
      "No. Iterations:                     6   Pseudo R-squ. (CS):             0.4470\n",
      "Covariance Type:            nonrobust                                         \n",
      "====================================================================================\n",
      "                       coef    std err          z      P>|z|      [0.025      0.975]\n",
      "------------------------------------------------------------------------------------\n",
      "Intercept           -0.7724      0.714     -1.082      0.279      -2.171       0.626\n",
      "lesion_vol_cubic     0.4315      0.078      5.543      0.000       0.279       0.584\n",
      "age                 -2.5448      0.192    -13.278      0.000      -2.920      -2.169\n",
      "Female               0.0489      0.128      0.382      0.703      -0.202       0.300\n",
      "tiv                  1.6259      0.619      2.626      0.009       0.412       2.840\n",
      "choroid_volume       1.1236      0.151      7.458      0.000       0.828       1.419\n",
      "====================================================================================\n"
     ]
    }
   ],
   "source": [
    "mediator_model = sm.GLM.from_formula(\"PRL ~ lesion_vol_cubic + age + Female + tiv + choroid_volume\", data=df_scale_ms, family=sm.families.Poisson())\n",
    "res = mediator_model.fit()\n",
    "print(res.summary())"
   ]
  },
  {
   "cell_type": "markdown",
   "metadata": {},
   "source": [
    "### Clinical Disability"
   ]
  },
  {
   "cell_type": "code",
   "execution_count": 307,
   "metadata": {},
   "outputs": [],
   "source": [
    "model_data = df_z.copy()\n",
    "model_data = model_data.loc[df['dz_type5'].isin([\"RMS\", \"PMS\"]), :]"
   ]
  },
  {
   "cell_type": "markdown",
   "metadata": {},
   "source": [
    "Do all the univariate regressions with age, sex, and TIV as covariates"
   ]
  },
  {
   "cell_type": "code",
   "execution_count": 170,
   "metadata": {},
   "outputs": [
    {
     "data": {
      "application/vnd.microsoft.datawrangler.viewer.v0+json": {
       "columns": [
        {
         "name": "index",
         "rawType": "object",
         "type": "string"
        },
        {
         "name": "coef",
         "rawType": "float64",
         "type": "float"
        },
        {
         "name": "pvals",
         "rawType": "float64",
         "type": "float"
        }
       ],
       "conversionMethod": "pd.DataFrame",
       "ref": "30bff6ea-a163-4682-adb2-fc8710028969",
       "rows": [
        [
         "choroid_volume",
         "0.10119388734219019",
         "0.0430589463128137"
        ],
        [
         "lesion_vol_cubic",
         "0.15828442039742047",
         "0.0005307008374625972"
        ],
        [
         "PRL",
         "0.10634375955335187",
         "0.012722252848783387"
        ],
        [
         "thalamus",
         "-0.26351533665154864",
         "1.3051789957247302e-07"
        ],
        [
         "grey",
         "-0.09541089475943412",
         "0.0753056274734696"
        ],
        [
         "white",
         "-0.012834285235746071",
         "0.7872263245821074"
        ],
        [
         "cortical_thickness",
         "-0.23228422639957907",
         "4.861415812723717e-06"
        ]
       ],
       "shape": {
        "columns": 2,
        "rows": 7
       }
      },
      "text/html": [
       "<div>\n",
       "<style scoped>\n",
       "    .dataframe tbody tr th:only-of-type {\n",
       "        vertical-align: middle;\n",
       "    }\n",
       "\n",
       "    .dataframe tbody tr th {\n",
       "        vertical-align: top;\n",
       "    }\n",
       "\n",
       "    .dataframe thead th {\n",
       "        text-align: right;\n",
       "    }\n",
       "</style>\n",
       "<table border=\"1\" class=\"dataframe\">\n",
       "  <thead>\n",
       "    <tr style=\"text-align: right;\">\n",
       "      <th></th>\n",
       "      <th>coef</th>\n",
       "      <th>pvals</th>\n",
       "    </tr>\n",
       "  </thead>\n",
       "  <tbody>\n",
       "    <tr>\n",
       "      <th>choroid_volume</th>\n",
       "      <td>0.101</td>\n",
       "      <td>4.306e-02</td>\n",
       "    </tr>\n",
       "    <tr>\n",
       "      <th>lesion_vol_cubic</th>\n",
       "      <td>0.158</td>\n",
       "      <td>5.307e-04</td>\n",
       "    </tr>\n",
       "    <tr>\n",
       "      <th>PRL</th>\n",
       "      <td>0.106</td>\n",
       "      <td>1.272e-02</td>\n",
       "    </tr>\n",
       "    <tr>\n",
       "      <th>thalamus</th>\n",
       "      <td>-0.264</td>\n",
       "      <td>1.305e-07</td>\n",
       "    </tr>\n",
       "    <tr>\n",
       "      <th>grey</th>\n",
       "      <td>-0.095</td>\n",
       "      <td>7.531e-02</td>\n",
       "    </tr>\n",
       "    <tr>\n",
       "      <th>white</th>\n",
       "      <td>-0.013</td>\n",
       "      <td>7.872e-01</td>\n",
       "    </tr>\n",
       "    <tr>\n",
       "      <th>cortical_thickness</th>\n",
       "      <td>-0.232</td>\n",
       "      <td>4.861e-06</td>\n",
       "    </tr>\n",
       "  </tbody>\n",
       "</table>\n",
       "</div>"
      ],
      "text/plain": [
       "                     coef      pvals\n",
       "choroid_volume      0.101  4.306e-02\n",
       "lesion_vol_cubic    0.158  5.307e-04\n",
       "PRL                 0.106  1.272e-02\n",
       "thalamus           -0.264  1.305e-07\n",
       "grey               -0.095  7.531e-02\n",
       "white              -0.013  7.872e-01\n",
       "cortical_thickness -0.232  4.861e-06"
      ]
     },
     "execution_count": 170,
     "metadata": {},
     "output_type": "execute_result"
    }
   ],
   "source": [
    "predictors = [\"choroid_volume\", \"lesion_vol_cubic\", \"PRL\", \"thalamus\", \"grey\", \"white\", \"cortical_thickness\"]\n",
    "covariates = \"age + Female + tiv\"\n",
    "\n",
    "pvals = {}\n",
    "coefs = {}\n",
    "\n",
    "for predictor in predictors:\n",
    "    formula = f\"edss_sqrt ~ {predictor} + {covariates}\"\n",
    "    res = sm.OLS.from_formula(formula, data=model_data).fit()\n",
    "    pvals[predictor] = res.pvalues[predictor]\n",
    "    coefs[predictor] = res.params[predictor]\n",
    "\n",
    "regression_results = pd.DataFrame({\"coef\": coefs, \"pvals\": pvals})\n",
    "regression_results"
   ]
  },
  {
   "cell_type": "markdown",
   "metadata": {},
   "source": [
    "Do all the univariate regressions with age, sex, TIV, and dzdur as covariates"
   ]
  },
  {
   "cell_type": "code",
   "execution_count": 335,
   "metadata": {},
   "outputs": [
    {
     "data": {
      "application/vnd.microsoft.datawrangler.viewer.v0+json": {
       "columns": [
        {
         "name": "index",
         "rawType": "object",
         "type": "string"
        },
        {
         "name": "coef",
         "rawType": "float64",
         "type": "float"
        },
        {
         "name": "pvals",
         "rawType": "float64",
         "type": "float"
        }
       ],
       "conversionMethod": "pd.DataFrame",
       "ref": "405a2e38-24ec-446e-8820-f34983e91a33",
       "rows": [
        [
         "choroid_volume",
         "0.06869962530875057",
         "0.16664999827310975"
        ],
        [
         "lesion_vol_cubic",
         "0.13244814904171998",
         "0.0039200765586382925"
        ],
        [
         "PRL",
         "0.10774859809918094",
         "0.010381982605765089"
        ],
        [
         "thalamus",
         "-0.22842926879491074",
         "5.000389283002762e-06"
        ],
        [
         "grey",
         "-0.09712668469491943",
         "0.06519191551083249"
        ],
        [
         "white",
         "-0.0013919828136726151",
         "0.9761795897943639"
        ],
        [
         "cortical_thickness",
         "-0.20918371452486886",
         "3.3976901201086346e-05"
        ]
       ],
       "shape": {
        "columns": 2,
        "rows": 7
       }
      },
      "text/html": [
       "<div>\n",
       "<style scoped>\n",
       "    .dataframe tbody tr th:only-of-type {\n",
       "        vertical-align: middle;\n",
       "    }\n",
       "\n",
       "    .dataframe tbody tr th {\n",
       "        vertical-align: top;\n",
       "    }\n",
       "\n",
       "    .dataframe thead th {\n",
       "        text-align: right;\n",
       "    }\n",
       "</style>\n",
       "<table border=\"1\" class=\"dataframe\">\n",
       "  <thead>\n",
       "    <tr style=\"text-align: right;\">\n",
       "      <th></th>\n",
       "      <th>coef</th>\n",
       "      <th>pvals</th>\n",
       "    </tr>\n",
       "  </thead>\n",
       "  <tbody>\n",
       "    <tr>\n",
       "      <th>choroid_volume</th>\n",
       "      <td>0.069</td>\n",
       "      <td>1.666e-01</td>\n",
       "    </tr>\n",
       "    <tr>\n",
       "      <th>lesion_vol_cubic</th>\n",
       "      <td>0.132</td>\n",
       "      <td>3.920e-03</td>\n",
       "    </tr>\n",
       "    <tr>\n",
       "      <th>PRL</th>\n",
       "      <td>0.108</td>\n",
       "      <td>1.038e-02</td>\n",
       "    </tr>\n",
       "    <tr>\n",
       "      <th>thalamus</th>\n",
       "      <td>-0.228</td>\n",
       "      <td>5.000e-06</td>\n",
       "    </tr>\n",
       "    <tr>\n",
       "      <th>grey</th>\n",
       "      <td>-0.097</td>\n",
       "      <td>6.519e-02</td>\n",
       "    </tr>\n",
       "    <tr>\n",
       "      <th>white</th>\n",
       "      <td>-0.001</td>\n",
       "      <td>9.762e-01</td>\n",
       "    </tr>\n",
       "    <tr>\n",
       "      <th>cortical_thickness</th>\n",
       "      <td>-0.209</td>\n",
       "      <td>3.398e-05</td>\n",
       "    </tr>\n",
       "  </tbody>\n",
       "</table>\n",
       "</div>"
      ],
      "text/plain": [
       "                     coef      pvals\n",
       "choroid_volume      0.069  1.666e-01\n",
       "lesion_vol_cubic    0.132  3.920e-03\n",
       "PRL                 0.108  1.038e-02\n",
       "thalamus           -0.228  5.000e-06\n",
       "grey               -0.097  6.519e-02\n",
       "white              -0.001  9.762e-01\n",
       "cortical_thickness -0.209  3.398e-05"
      ]
     },
     "execution_count": 335,
     "metadata": {},
     "output_type": "execute_result"
    }
   ],
   "source": [
    "predictors = [\"choroid_volume\", \"lesion_vol_cubic\", \"PRL\", \"thalamus\", \"grey\", \"white\", \"cortical_thickness\"]\n",
    "covariates = \"age + Female + tiv + dzdur + NAT + DMT_score\"\n",
    "\n",
    "pvals = {}\n",
    "coefs = {}\n",
    "\n",
    "for predictor in predictors:\n",
    "    formula = f\"edss_sqrt ~ {predictor} + {covariates}\"\n",
    "    res = sm.OLS.from_formula(formula, data=model_data).fit()\n",
    "    pvals[predictor] = res.pvalues[predictor]\n",
    "    coefs[predictor] = res.params[predictor]\n",
    "\n",
    "regression_results = pd.DataFrame({\"coef\": coefs, \"pvals\": pvals})\n",
    "regression_results"
   ]
  },
  {
   "cell_type": "code",
   "execution_count": 330,
   "metadata": {},
   "outputs": [
    {
     "data": {
      "text/plain": [
       "array([-0.27674254,  3.61346688])"
      ]
     },
     "execution_count": 330,
     "metadata": {},
     "output_type": "execute_result"
    }
   ],
   "source": [
    "model_data['INF'].unique()"
   ]
  },
  {
   "cell_type": "markdown",
   "metadata": {},
   "source": [
    "#### EDSS and ChP Volume"
   ]
  },
  {
   "cell_type": "code",
   "execution_count": 138,
   "metadata": {},
   "outputs": [
    {
     "data": {
      "image/png": "[encoded data removed]",
      "text/plain": [
       "<Figure size 800x600 with 3 Axes>"
      ]
     },
     "metadata": {},
     "output_type": "display_data"
    }
   ],
   "source": [
    "res = sm.OLS.from_formula(\"EDSS ~ choroid_volume + tiv + age + Female\", data=data_ms).fit()\n",
    "x, y_pred, y_lims = helpers.get_regression_y(data_ms, res, \"choroid_volume\", \"EDSS\")\n",
    "\n",
    "fig, axs = plt.subplot_mosaic([['histx', '.'],\n",
    "                               ['scatter', 'histy']],\n",
    "                              figsize=(8, 6),\n",
    "                              width_ratios=(4, 1), height_ratios=(1, 4),\n",
    "                              layout='constrained')\n",
    "\n",
    "helpers.scatter_hist(data_ms[\"choroid_volume\"], \n",
    "                     data_ms[\"EDSS\"], \n",
    "                     axs['scatter'], axs['histx'], axs['histy'],\n",
    "                     light_color=colors['light red1'],\n",
    "                     dark_color=colors['dark red1'])\n",
    "\n",
    "axs['scatter'].plot(x, y_pred, color=\"black\")\n",
    "axs['scatter'].fill_between(x, y_lims[0], y_lims[1], alpha=0.4, color=colors[\"light red1\"])\n",
    "axs['scatter'].set_ylabel(\"EDSS score\")\n",
    "axs['scatter'].set_xlabel(\"Choroid plexus volume\")\n",
    "plt.show()"
   ]
  },
  {
   "cell_type": "markdown",
   "metadata": {},
   "source": [
    "#### EDSS and T2-LV"
   ]
  },
  {
   "cell_type": "code",
   "execution_count": 287,
   "metadata": {},
   "outputs": [
    {
     "data": {
      "image/png": "[encoded data removed]",
      "text/plain": [
       "<Figure size 800x600 with 3 Axes>"
      ]
     },
     "metadata": {},
     "output_type": "display_data"
    }
   ],
   "source": [
    "predictor = \"lesion_vol_cubic\"\n",
    "formula = f\"EDSS ~ {predictor} + tiv + age + Female\"\n",
    "res = sm.OLS.from_formula(formula, data=data_ms).fit()\n",
    "x, y_pred, y_lims = helpers.get_regression_y(data_ms, res, predictor, \"EDSS\")\n",
    "\n",
    "fig, axs = plt.subplot_mosaic([['histx', '.'],\n",
    "                               ['scatter', 'histy']],\n",
    "                              figsize=(8, 6),\n",
    "                              width_ratios=(4, 1), height_ratios=(1, 4),\n",
    "                              layout='constrained')\n",
    "\n",
    "helpers.scatter_hist(data_ms[predictor], \n",
    "                     data_ms[\"EDSS\"], \n",
    "                     axs['scatter'], axs['histx'], axs['histy'],\n",
    "                     light_color=colors['light blue1'],\n",
    "                     dark_color=colors['dark blue1'])\n",
    "\n",
    "axs['scatter'].plot(x, y_pred, color=\"black\")\n",
    "axs['scatter'].fill_between(x, y_lims[0], y_lims[1], alpha=0.4, color=colors[\"light blue1\"])\n",
    "axs['scatter'].set_ylabel(\"EDSS score\")\n",
    "axs['scatter'].set_xlabel(\"Lesion volume\")\n",
    "plt.show()"
   ]
  },
  {
   "cell_type": "code",
   "execution_count": 44,
   "metadata": {},
   "outputs": [
    {
     "name": "stdout",
     "output_type": "stream",
     "text": [
      "R2:     0.214\n",
      "R2_adj: 0.203\n",
      "                 coef      p\n",
      "Intercept       0.981  0.021\n",
      "PRL             0.027  0.031\n",
      "choroid_volume  0.154  0.099\n",
      "tiv            -0.449  0.221\n",
      "age             0.896  0.000\n",
      "Female         -0.066  0.390\n"
     ]
    }
   ],
   "source": [
    "model = sm.OLS.from_formula(\"edss_sqrt ~ PRL + choroid_volume + tiv + age + Female\", data=model_data)\n",
    "res = model.fit()\n",
    "summary = pd.DataFrame({'coef': res.params, 'p': res.pvalues.round(3)})\n",
    "print(\"R2:     {:0.3}\".format(res.rsquared))\n",
    "print(\"R2_adj: {:0.3}\".format(res.rsquared_adj))\n",
    "print(summary)"
   ]
  },
  {
   "cell_type": "code",
   "execution_count": 39,
   "metadata": {},
   "outputs": [
    {
     "name": "stdout",
     "output_type": "stream",
     "text": [
      "R2:     0.249\n",
      "R2_adj: 0.237\n",
      "                   coef      p\n",
      "Intercept        -0.001  0.978\n",
      "choroid_volume    0.036  0.490\n",
      "lesion_vol_cubic  0.138  0.005\n",
      "PRL               0.073  0.095\n",
      "tiv              -0.072  0.178\n",
      "age               0.416  0.000\n",
      "Female           -0.069  0.194\n"
     ]
    }
   ],
   "source": [
    "model = sm.OLS.from_formula(\"edss_sqrt ~ choroid_volume + lesion_vol_cubic + PRL + tiv + age + Female\", data=model_data)\n",
    "res = model.fit()\n",
    "summary = pd.DataFrame({'coef': res.params, 'p': res.pvalues.round(3)})\n",
    "print(\"R2:     {:0.3}\".format(res.rsquared))\n",
    "print(\"R2_adj: {:0.3}\".format(res.rsquared_adj))\n",
    "print(summary)"
   ]
  },
  {
   "cell_type": "markdown",
   "metadata": {},
   "source": [
    "#### Mediation Analysis"
   ]
  },
  {
   "cell_type": "markdown",
   "metadata": {},
   "source": [
    "##### Lesion volume mediating effect of CP volume on EDSS"
   ]
  },
  {
   "cell_type": "code",
   "execution_count": 47,
   "metadata": {},
   "outputs": [
    {
     "data": {
      "application/vnd.microsoft.datawrangler.viewer.v0+json": {
       "columns": [
        {
         "name": "index",
         "rawType": "object",
         "type": "string"
        },
        {
         "name": "Estimate",
         "rawType": "float64",
         "type": "float"
        },
        {
         "name": "Lower CI bound",
         "rawType": "float64",
         "type": "float"
        },
        {
         "name": "Upper CI bound",
         "rawType": "float64",
         "type": "float"
        },
        {
         "name": "P-value",
         "rawType": "float64",
         "type": "float"
        }
       ],
       "conversionMethod": "pd.DataFrame",
       "ref": "0cafe832-fc02-49a2-90b9-620084b41034",
       "rows": [
        [
         "ACME (control)",
         "0.10452431813434473",
         "0.04006228251087688",
         "0.18240450758116922",
         "0.0"
        ],
        [
         "ACME (treated)",
         "0.10452431813434473",
         "0.04006228251087687",
         "0.18240450758116922",
         "0.0"
        ],
        [
         "ADE (control)",
         "0.06832551669138145",
         "-0.10658117431951827",
         "0.2344714704432798",
         "0.42"
        ],
        [
         "ADE (treated)",
         "0.06832551669138144",
         "-0.10658117431951827",
         "0.2344714704432798",
         "0.42"
        ],
        [
         "Total effect",
         "0.1728498348257262",
         "0.005743497010943003",
         "0.3252349849574564",
         "0.04"
        ],
        [
         "Prop. mediated (control)",
         "0.5816437151154814",
         "0.0813187661646356",
         "4.605905346466555",
         "0.04"
        ],
        [
         "Prop. mediated (treated)",
         "0.5816437151154814",
         "0.08131876616463563",
         "4.605905346466555",
         "0.04"
        ],
        [
         "ACME (average)",
         "0.10452431813434473",
         "0.04006228251087687",
         "0.18240450758116922",
         "0.0"
        ],
        [
         "ADE (average)",
         "0.06832551669138144",
         "-0.10658117431951827",
         "0.2344714704432798",
         "0.42"
        ],
        [
         "Prop. mediated (average)",
         "0.5816437151154814",
         "0.08131876616463563",
         "4.605905346466555",
         "0.04"
        ]
       ],
       "shape": {
        "columns": 4,
        "rows": 10
       }
      },
      "text/html": [
       "<div>\n",
       "<style scoped>\n",
       "    .dataframe tbody tr th:only-of-type {\n",
       "        vertical-align: middle;\n",
       "    }\n",
       "\n",
       "    .dataframe tbody tr th {\n",
       "        vertical-align: top;\n",
       "    }\n",
       "\n",
       "    .dataframe thead th {\n",
       "        text-align: right;\n",
       "    }\n",
       "</style>\n",
       "<table border=\"1\" class=\"dataframe\">\n",
       "  <thead>\n",
       "    <tr style=\"text-align: right;\">\n",
       "      <th></th>\n",
       "      <th>Estimate</th>\n",
       "      <th>Lower CI bound</th>\n",
       "      <th>Upper CI bound</th>\n",
       "      <th>P-value</th>\n",
       "    </tr>\n",
       "  </thead>\n",
       "  <tbody>\n",
       "    <tr>\n",
       "      <th>ACME (control)</th>\n",
       "      <td>0.105</td>\n",
       "      <td>0.040</td>\n",
       "      <td>0.182</td>\n",
       "      <td>0.00</td>\n",
       "    </tr>\n",
       "    <tr>\n",
       "      <th>ACME (treated)</th>\n",
       "      <td>0.105</td>\n",
       "      <td>0.040</td>\n",
       "      <td>0.182</td>\n",
       "      <td>0.00</td>\n",
       "    </tr>\n",
       "    <tr>\n",
       "      <th>ADE (control)</th>\n",
       "      <td>0.068</td>\n",
       "      <td>-0.107</td>\n",
       "      <td>0.234</td>\n",
       "      <td>0.42</td>\n",
       "    </tr>\n",
       "    <tr>\n",
       "      <th>ADE (treated)</th>\n",
       "      <td>0.068</td>\n",
       "      <td>-0.107</td>\n",
       "      <td>0.234</td>\n",
       "      <td>0.42</td>\n",
       "    </tr>\n",
       "    <tr>\n",
       "      <th>Total effect</th>\n",
       "      <td>0.173</td>\n",
       "      <td>0.006</td>\n",
       "      <td>0.325</td>\n",
       "      <td>0.04</td>\n",
       "    </tr>\n",
       "    <tr>\n",
       "      <th>Prop. mediated (control)</th>\n",
       "      <td>0.582</td>\n",
       "      <td>0.081</td>\n",
       "      <td>4.606</td>\n",
       "      <td>0.04</td>\n",
       "    </tr>\n",
       "    <tr>\n",
       "      <th>Prop. mediated (treated)</th>\n",
       "      <td>0.582</td>\n",
       "      <td>0.081</td>\n",
       "      <td>4.606</td>\n",
       "      <td>0.04</td>\n",
       "    </tr>\n",
       "    <tr>\n",
       "      <th>ACME (average)</th>\n",
       "      <td>0.105</td>\n",
       "      <td>0.040</td>\n",
       "      <td>0.182</td>\n",
       "      <td>0.00</td>\n",
       "    </tr>\n",
       "    <tr>\n",
       "      <th>ADE (average)</th>\n",
       "      <td>0.068</td>\n",
       "      <td>-0.107</td>\n",
       "      <td>0.234</td>\n",
       "      <td>0.42</td>\n",
       "    </tr>\n",
       "    <tr>\n",
       "      <th>Prop. mediated (average)</th>\n",
       "      <td>0.582</td>\n",
       "      <td>0.081</td>\n",
       "      <td>4.606</td>\n",
       "      <td>0.04</td>\n",
       "    </tr>\n",
       "  </tbody>\n",
       "</table>\n",
       "</div>"
      ],
      "text/plain": [
       "                          Estimate  Lower CI bound  Upper CI bound  P-value\n",
       "ACME (control)               0.105           0.040           0.182     0.00\n",
       "ACME (treated)               0.105           0.040           0.182     0.00\n",
       "ADE (control)                0.068          -0.107           0.234     0.42\n",
       "ADE (treated)                0.068          -0.107           0.234     0.42\n",
       "Total effect                 0.173           0.006           0.325     0.04\n",
       "Prop. mediated (control)     0.582           0.081           4.606     0.04\n",
       "Prop. mediated (treated)     0.582           0.081           4.606     0.04\n",
       "ACME (average)               0.105           0.040           0.182     0.00\n",
       "ADE (average)                0.068          -0.107           0.234     0.42\n",
       "Prop. mediated (average)     0.582           0.081           4.606     0.04"
      ]
     },
     "execution_count": 47,
     "metadata": {},
     "output_type": "execute_result"
    }
   ],
   "source": [
    "outcome_model = sm.OLS.from_formula(\n",
    "    \"edss_sqrt ~ choroid_volume + lesion_vol_logtrans + age + tiv + Female\", data=df_scale_ms\n",
    ")\n",
    "mediator_model = sm.OLS.from_formula(\n",
    "    \"lesion_vol_logtrans ~ choroid_volume + age + tiv + Female\", data=df_scale_ms\n",
    ")\n",
    "\n",
    "med = Mediation(\n",
    "    outcome_model, mediator_model, \"choroid_volume\", \"lesion_vol_logtrans\"\n",
    ").fit(method=\"bootstrap\")\n",
    "med.summary()"
   ]
  },
  {
   "cell_type": "markdown",
   "metadata": {},
   "source": [
    "Thalamus mediating effect of lesion volume on EDSS"
   ]
  },
  {
   "cell_type": "code",
   "execution_count": 101,
   "metadata": {},
   "outputs": [
    {
     "data": {
      "application/vnd.microsoft.datawrangler.viewer.v0+json": {
       "columns": [
        {
         "name": "index",
         "rawType": "object",
         "type": "string"
        },
        {
         "name": "Estimate",
         "rawType": "float64",
         "type": "float"
        },
        {
         "name": "Lower CI bound",
         "rawType": "float64",
         "type": "float"
        },
        {
         "name": "Upper CI bound",
         "rawType": "float64",
         "type": "float"
        },
        {
         "name": "P-value",
         "rawType": "float64",
         "type": "float"
        }
       ],
       "conversionMethod": "pd.DataFrame",
       "ref": "63c5176f-dd1c-404b-81a0-ebe244b09dfe",
       "rows": [
        [
         "ACME (control)",
         "0.10364137429612875",
         "0.04603934903460336",
         "0.1690541989779932",
         "0.0"
        ],
        [
         "ACME (treated)",
         "0.10364137429612875",
         "0.04603934903460336",
         "0.16905419897799318",
         "0.0"
        ],
        [
         "ADE (control)",
         "0.06883763136057167",
         "-0.03194215360020764",
         "0.2002150968154821",
         "0.206"
        ],
        [
         "ADE (treated)",
         "0.06883763136057167",
         "-0.031942153600207655",
         "0.2002150968154821",
         "0.206"
        ],
        [
         "Total effect",
         "0.17247900565670043",
         "0.07487708064510516",
         "0.2928149061063648",
         "0.0"
        ],
        [
         "Prop. mediated (control)",
         "0.6141202952857658",
         "0.23758624143378418",
         "1.404456359787944",
         "0.0"
        ],
        [
         "Prop. mediated (treated)",
         "0.6141202952857658",
         "0.23758624143378418",
         "1.404456359787944",
         "0.0"
        ],
        [
         "ACME (average)",
         "0.10364137429612875",
         "0.04603934903460336",
         "0.16905419897799318",
         "0.0"
        ],
        [
         "ADE (average)",
         "0.06883763136057167",
         "-0.03194215360020765",
         "0.2002150968154821",
         "0.206"
        ],
        [
         "Prop. mediated (average)",
         "0.6141202952857658",
         "0.23758624143378418",
         "1.404456359787944",
         "0.0"
        ]
       ],
       "shape": {
        "columns": 4,
        "rows": 10
       }
      },
      "text/html": [
       "<div>\n",
       "<style scoped>\n",
       "    .dataframe tbody tr th:only-of-type {\n",
       "        vertical-align: middle;\n",
       "    }\n",
       "\n",
       "    .dataframe tbody tr th {\n",
       "        vertical-align: top;\n",
       "    }\n",
       "\n",
       "    .dataframe thead th {\n",
       "        text-align: right;\n",
       "    }\n",
       "</style>\n",
       "<table border=\"1\" class=\"dataframe\">\n",
       "  <thead>\n",
       "    <tr style=\"text-align: right;\">\n",
       "      <th></th>\n",
       "      <th>Estimate</th>\n",
       "      <th>Lower CI bound</th>\n",
       "      <th>Upper CI bound</th>\n",
       "      <th>P-value</th>\n",
       "    </tr>\n",
       "  </thead>\n",
       "  <tbody>\n",
       "    <tr>\n",
       "      <th>ACME (control)</th>\n",
       "      <td>0.104</td>\n",
       "      <td>0.046</td>\n",
       "      <td>0.169</td>\n",
       "      <td>0.000</td>\n",
       "    </tr>\n",
       "    <tr>\n",
       "      <th>ACME (treated)</th>\n",
       "      <td>0.104</td>\n",
       "      <td>0.046</td>\n",
       "      <td>0.169</td>\n",
       "      <td>0.000</td>\n",
       "    </tr>\n",
       "    <tr>\n",
       "      <th>ADE (control)</th>\n",
       "      <td>0.069</td>\n",
       "      <td>-0.032</td>\n",
       "      <td>0.200</td>\n",
       "      <td>0.206</td>\n",
       "    </tr>\n",
       "    <tr>\n",
       "      <th>ADE (treated)</th>\n",
       "      <td>0.069</td>\n",
       "      <td>-0.032</td>\n",
       "      <td>0.200</td>\n",
       "      <td>0.206</td>\n",
       "    </tr>\n",
       "    <tr>\n",
       "      <th>Total effect</th>\n",
       "      <td>0.172</td>\n",
       "      <td>0.075</td>\n",
       "      <td>0.293</td>\n",
       "      <td>0.000</td>\n",
       "    </tr>\n",
       "    <tr>\n",
       "      <th>Prop. mediated (control)</th>\n",
       "      <td>0.614</td>\n",
       "      <td>0.238</td>\n",
       "      <td>1.404</td>\n",
       "      <td>0.000</td>\n",
       "    </tr>\n",
       "    <tr>\n",
       "      <th>Prop. mediated (treated)</th>\n",
       "      <td>0.614</td>\n",
       "      <td>0.238</td>\n",
       "      <td>1.404</td>\n",
       "      <td>0.000</td>\n",
       "    </tr>\n",
       "    <tr>\n",
       "      <th>ACME (average)</th>\n",
       "      <td>0.104</td>\n",
       "      <td>0.046</td>\n",
       "      <td>0.169</td>\n",
       "      <td>0.000</td>\n",
       "    </tr>\n",
       "    <tr>\n",
       "      <th>ADE (average)</th>\n",
       "      <td>0.069</td>\n",
       "      <td>-0.032</td>\n",
       "      <td>0.200</td>\n",
       "      <td>0.206</td>\n",
       "    </tr>\n",
       "    <tr>\n",
       "      <th>Prop. mediated (average)</th>\n",
       "      <td>0.614</td>\n",
       "      <td>0.238</td>\n",
       "      <td>1.404</td>\n",
       "      <td>0.000</td>\n",
       "    </tr>\n",
       "  </tbody>\n",
       "</table>\n",
       "</div>"
      ],
      "text/plain": [
       "                          Estimate  Lower CI bound  Upper CI bound  P-value\n",
       "ACME (control)               0.104           0.046           0.169    0.000\n",
       "ACME (treated)               0.104           0.046           0.169    0.000\n",
       "ADE (control)                0.069          -0.032           0.200    0.206\n",
       "ADE (treated)                0.069          -0.032           0.200    0.206\n",
       "Total effect                 0.172           0.075           0.293    0.000\n",
       "Prop. mediated (control)     0.614           0.238           1.404    0.000\n",
       "Prop. mediated (treated)     0.614           0.238           1.404    0.000\n",
       "ACME (average)               0.104           0.046           0.169    0.000\n",
       "ADE (average)                0.069          -0.032           0.200    0.206\n",
       "Prop. mediated (average)     0.614           0.238           1.404    0.000"
      ]
     },
     "execution_count": 101,
     "metadata": {},
     "output_type": "execute_result"
    }
   ],
   "source": [
    "outcome_model = sm.OLS.from_formula(\n",
    "    \"edss_sqrt ~ lesion_vol_cubic + thalamus + age + tiv + Female\", data=df_scale_ms\n",
    ")\n",
    "mediator_model = sm.OLS.from_formula(\n",
    "    \"thalamus ~ lesion_vol_cubic + age + tiv + Female\", data=df_scale_ms\n",
    ")\n",
    "\n",
    "med = Mediation(\n",
    "    outcome_model, mediator_model, \"lesion_vol_cubic\", \"thalamus\"\n",
    ").fit(method=\"bootstrap\")\n",
    "med.summary()"
   ]
  },
  {
   "cell_type": "markdown",
   "metadata": {},
   "source": [
    "Thalamus mediating effect of choroid volume on EDSS. ACME is significant, but not prop mediated"
   ]
  },
  {
   "cell_type": "code",
   "execution_count": 123,
   "metadata": {},
   "outputs": [
    {
     "data": {
      "application/vnd.microsoft.datawrangler.viewer.v0+json": {
       "columns": [
        {
         "name": "index",
         "rawType": "object",
         "type": "string"
        },
        {
         "name": "Estimate",
         "rawType": "float64",
         "type": "float"
        },
        {
         "name": "Lower CI bound",
         "rawType": "float64",
         "type": "float"
        },
        {
         "name": "Upper CI bound",
         "rawType": "float64",
         "type": "float"
        },
        {
         "name": "P-value",
         "rawType": "float64",
         "type": "float"
        }
       ],
       "conversionMethod": "pd.DataFrame",
       "ref": "dd09a400-faf0-438d-9a13-617afc1e7362",
       "rows": [
        [
         "ACME (control)",
         "0.22963541036686122",
         "0.12937450849941856",
         "0.3435527941087678",
         "0.0"
        ],
        [
         "ACME (treated)",
         "0.22963541036686122",
         "0.12937450849941856",
         "0.3435527941087678",
         "0.0"
        ],
        [
         "ADE (control)",
         "-0.0531928987077035",
         "-0.26222624322401816",
         "0.15162643765265207",
         "0.63"
        ],
        [
         "ADE (treated)",
         "-0.05319289870770351",
         "-0.26222624322401816",
         "0.15162643765265207",
         "0.63"
        ],
        [
         "Total effect",
         "0.17644251165915767",
         "-0.004160581426224008",
         "0.3603627082846803",
         "0.056"
        ],
        [
         "Prop. mediated (control)",
         "1.2223522036714876",
         "-3.128504279879508",
         "7.490525155581196",
         "0.056"
        ],
        [
         "Prop. mediated (treated)",
         "1.2223522036714876",
         "-3.128504279879507",
         "7.490525155581198",
         "0.056"
        ],
        [
         "ACME (average)",
         "0.22963541036686122",
         "0.12937450849941856",
         "0.3435527941087678",
         "0.0"
        ],
        [
         "ADE (average)",
         "-0.0531928987077035",
         "-0.26222624322401816",
         "0.15162643765265207",
         "0.63"
        ],
        [
         "Prop. mediated (average)",
         "1.2223522036714876",
         "-3.1285042798795075",
         "7.490525155581197",
         "0.056"
        ]
       ],
       "shape": {
        "columns": 4,
        "rows": 10
       }
      },
      "text/html": [
       "<div>\n",
       "<style scoped>\n",
       "    .dataframe tbody tr th:only-of-type {\n",
       "        vertical-align: middle;\n",
       "    }\n",
       "\n",
       "    .dataframe tbody tr th {\n",
       "        vertical-align: top;\n",
       "    }\n",
       "\n",
       "    .dataframe thead th {\n",
       "        text-align: right;\n",
       "    }\n",
       "</style>\n",
       "<table border=\"1\" class=\"dataframe\">\n",
       "  <thead>\n",
       "    <tr style=\"text-align: right;\">\n",
       "      <th></th>\n",
       "      <th>Estimate</th>\n",
       "      <th>Lower CI bound</th>\n",
       "      <th>Upper CI bound</th>\n",
       "      <th>P-value</th>\n",
       "    </tr>\n",
       "  </thead>\n",
       "  <tbody>\n",
       "    <tr>\n",
       "      <th>ACME (control)</th>\n",
       "      <td>0.230</td>\n",
       "      <td>0.129</td>\n",
       "      <td>0.344</td>\n",
       "      <td>0.000</td>\n",
       "    </tr>\n",
       "    <tr>\n",
       "      <th>ACME (treated)</th>\n",
       "      <td>0.230</td>\n",
       "      <td>0.129</td>\n",
       "      <td>0.344</td>\n",
       "      <td>0.000</td>\n",
       "    </tr>\n",
       "    <tr>\n",
       "      <th>ADE (control)</th>\n",
       "      <td>-0.053</td>\n",
       "      <td>-0.262</td>\n",
       "      <td>0.152</td>\n",
       "      <td>0.630</td>\n",
       "    </tr>\n",
       "    <tr>\n",
       "      <th>ADE (treated)</th>\n",
       "      <td>-0.053</td>\n",
       "      <td>-0.262</td>\n",
       "      <td>0.152</td>\n",
       "      <td>0.630</td>\n",
       "    </tr>\n",
       "    <tr>\n",
       "      <th>Total effect</th>\n",
       "      <td>0.176</td>\n",
       "      <td>-0.004</td>\n",
       "      <td>0.360</td>\n",
       "      <td>0.056</td>\n",
       "    </tr>\n",
       "    <tr>\n",
       "      <th>Prop. mediated (control)</th>\n",
       "      <td>1.222</td>\n",
       "      <td>-3.129</td>\n",
       "      <td>7.491</td>\n",
       "      <td>0.056</td>\n",
       "    </tr>\n",
       "    <tr>\n",
       "      <th>Prop. mediated (treated)</th>\n",
       "      <td>1.222</td>\n",
       "      <td>-3.129</td>\n",
       "      <td>7.491</td>\n",
       "      <td>0.056</td>\n",
       "    </tr>\n",
       "    <tr>\n",
       "      <th>ACME (average)</th>\n",
       "      <td>0.230</td>\n",
       "      <td>0.129</td>\n",
       "      <td>0.344</td>\n",
       "      <td>0.000</td>\n",
       "    </tr>\n",
       "    <tr>\n",
       "      <th>ADE (average)</th>\n",
       "      <td>-0.053</td>\n",
       "      <td>-0.262</td>\n",
       "      <td>0.152</td>\n",
       "      <td>0.630</td>\n",
       "    </tr>\n",
       "    <tr>\n",
       "      <th>Prop. mediated (average)</th>\n",
       "      <td>1.222</td>\n",
       "      <td>-3.129</td>\n",
       "      <td>7.491</td>\n",
       "      <td>0.056</td>\n",
       "    </tr>\n",
       "  </tbody>\n",
       "</table>\n",
       "</div>"
      ],
      "text/plain": [
       "                          Estimate  Lower CI bound  Upper CI bound  P-value\n",
       "ACME (control)               0.230           0.129           0.344    0.000\n",
       "ACME (treated)               0.230           0.129           0.344    0.000\n",
       "ADE (control)               -0.053          -0.262           0.152    0.630\n",
       "ADE (treated)               -0.053          -0.262           0.152    0.630\n",
       "Total effect                 0.176          -0.004           0.360    0.056\n",
       "Prop. mediated (control)     1.222          -3.129           7.491    0.056\n",
       "Prop. mediated (treated)     1.222          -3.129           7.491    0.056\n",
       "ACME (average)               0.230           0.129           0.344    0.000\n",
       "ADE (average)               -0.053          -0.262           0.152    0.630\n",
       "Prop. mediated (average)     1.222          -3.129           7.491    0.056"
      ]
     },
     "execution_count": 123,
     "metadata": {},
     "output_type": "execute_result"
    }
   ],
   "source": [
    "outcome_model = sm.OLS.from_formula(\n",
    "    \"edss_sqrt ~ choroid_volume + thalamus + age + tiv + Female\", data=df_scale_ms\n",
    ")\n",
    "mediator_model = sm.OLS.from_formula(\n",
    "    \"thalamus ~ choroid_volume + age + tiv + Female\", data=df_scale_ms\n",
    ")\n",
    "\n",
    "med = Mediation(\n",
    "    outcome_model, mediator_model, \"choroid_volume\", \"thalamus\"\n",
    ").fit(method=\"bootstrap\")\n",
    "med.summary()"
   ]
  },
  {
   "cell_type": "markdown",
   "metadata": {},
   "source": [
    "PRL mediating effect of choroid volume on EDSS. ACME is significant but not prop mediated"
   ]
  },
  {
   "cell_type": "code",
   "execution_count": 48,
   "metadata": {},
   "outputs": [
    {
     "data": {
      "application/vnd.microsoft.datawrangler.viewer.v0+json": {
       "columns": [
        {
         "name": "index",
         "rawType": "object",
         "type": "string"
        },
        {
         "name": "Estimate",
         "rawType": "float64",
         "type": "float"
        },
        {
         "name": "Lower CI bound",
         "rawType": "float64",
         "type": "float"
        },
        {
         "name": "Upper CI bound",
         "rawType": "float64",
         "type": "float"
        },
        {
         "name": "P-value",
         "rawType": "float64",
         "type": "float"
        }
       ],
       "conversionMethod": "pd.DataFrame",
       "ref": "651de2b6-7fbe-4d60-b7ea-ee2b54d9d4f5",
       "rows": [
        [
         "ACME (control)",
         "0.02277024765796684",
         "0.004364241841711425",
         "0.04660046079555002",
         "0.014"
        ],
        [
         "ACME (treated)",
         "0.02277024765796684",
         "0.0043642418417114155",
         "0.04660046079555002",
         "0.014"
        ],
        [
         "ADE (control)",
         "0.15327727823021728",
         "-0.034525272199690045",
         "0.317216905252483",
         "0.114"
        ],
        [
         "ADE (treated)",
         "0.15327727823021728",
         "-0.03452527219969004",
         "0.3172169052524829",
         "0.114"
        ],
        [
         "Total effect",
         "0.17604752588818415",
         "-0.0091350963489258",
         "0.3404385178990191",
         "0.068"
        ],
        [
         "Prop. mediated (control)",
         "0.11747887448116216",
         "-0.6272423404887835",
         "0.9249773142261478",
         "0.082"
        ],
        [
         "Prop. mediated (treated)",
         "0.11747887448116216",
         "-0.6272423404887831",
         "0.9249773142261476",
         "0.082"
        ],
        [
         "ACME (average)",
         "0.02277024765796684",
         "0.004364241841711421",
         "0.04660046079555002",
         "0.014"
        ],
        [
         "ADE (average)",
         "0.15327727823021728",
         "-0.034525272199690045",
         "0.317216905252483",
         "0.114"
        ],
        [
         "Prop. mediated (average)",
         "0.11747887448116216",
         "-0.6272423404887834",
         "0.9249773142261477",
         "0.082"
        ]
       ],
       "shape": {
        "columns": 4,
        "rows": 10
       }
      },
      "text/html": [
       "<div>\n",
       "<style scoped>\n",
       "    .dataframe tbody tr th:only-of-type {\n",
       "        vertical-align: middle;\n",
       "    }\n",
       "\n",
       "    .dataframe tbody tr th {\n",
       "        vertical-align: top;\n",
       "    }\n",
       "\n",
       "    .dataframe thead th {\n",
       "        text-align: right;\n",
       "    }\n",
       "</style>\n",
       "<table border=\"1\" class=\"dataframe\">\n",
       "  <thead>\n",
       "    <tr style=\"text-align: right;\">\n",
       "      <th></th>\n",
       "      <th>Estimate</th>\n",
       "      <th>Lower CI bound</th>\n",
       "      <th>Upper CI bound</th>\n",
       "      <th>P-value</th>\n",
       "    </tr>\n",
       "  </thead>\n",
       "  <tbody>\n",
       "    <tr>\n",
       "      <th>ACME (control)</th>\n",
       "      <td>0.023</td>\n",
       "      <td>0.004</td>\n",
       "      <td>0.047</td>\n",
       "      <td>0.014</td>\n",
       "    </tr>\n",
       "    <tr>\n",
       "      <th>ACME (treated)</th>\n",
       "      <td>0.023</td>\n",
       "      <td>0.004</td>\n",
       "      <td>0.047</td>\n",
       "      <td>0.014</td>\n",
       "    </tr>\n",
       "    <tr>\n",
       "      <th>ADE (control)</th>\n",
       "      <td>0.153</td>\n",
       "      <td>-0.035</td>\n",
       "      <td>0.317</td>\n",
       "      <td>0.114</td>\n",
       "    </tr>\n",
       "    <tr>\n",
       "      <th>ADE (treated)</th>\n",
       "      <td>0.153</td>\n",
       "      <td>-0.035</td>\n",
       "      <td>0.317</td>\n",
       "      <td>0.114</td>\n",
       "    </tr>\n",
       "    <tr>\n",
       "      <th>Total effect</th>\n",
       "      <td>0.176</td>\n",
       "      <td>-0.009</td>\n",
       "      <td>0.340</td>\n",
       "      <td>0.068</td>\n",
       "    </tr>\n",
       "    <tr>\n",
       "      <th>Prop. mediated (control)</th>\n",
       "      <td>0.117</td>\n",
       "      <td>-0.627</td>\n",
       "      <td>0.925</td>\n",
       "      <td>0.082</td>\n",
       "    </tr>\n",
       "    <tr>\n",
       "      <th>Prop. mediated (treated)</th>\n",
       "      <td>0.117</td>\n",
       "      <td>-0.627</td>\n",
       "      <td>0.925</td>\n",
       "      <td>0.082</td>\n",
       "    </tr>\n",
       "    <tr>\n",
       "      <th>ACME (average)</th>\n",
       "      <td>0.023</td>\n",
       "      <td>0.004</td>\n",
       "      <td>0.047</td>\n",
       "      <td>0.014</td>\n",
       "    </tr>\n",
       "    <tr>\n",
       "      <th>ADE (average)</th>\n",
       "      <td>0.153</td>\n",
       "      <td>-0.035</td>\n",
       "      <td>0.317</td>\n",
       "      <td>0.114</td>\n",
       "    </tr>\n",
       "    <tr>\n",
       "      <th>Prop. mediated (average)</th>\n",
       "      <td>0.117</td>\n",
       "      <td>-0.627</td>\n",
       "      <td>0.925</td>\n",
       "      <td>0.082</td>\n",
       "    </tr>\n",
       "  </tbody>\n",
       "</table>\n",
       "</div>"
      ],
      "text/plain": [
       "                          Estimate  Lower CI bound  Upper CI bound  P-value\n",
       "ACME (control)               0.023           0.004           0.047    0.014\n",
       "ACME (treated)               0.023           0.004           0.047    0.014\n",
       "ADE (control)                0.153          -0.035           0.317    0.114\n",
       "ADE (treated)                0.153          -0.035           0.317    0.114\n",
       "Total effect                 0.176          -0.009           0.340    0.068\n",
       "Prop. mediated (control)     0.117          -0.627           0.925    0.082\n",
       "Prop. mediated (treated)     0.117          -0.627           0.925    0.082\n",
       "ACME (average)               0.023           0.004           0.047    0.014\n",
       "ADE (average)                0.153          -0.035           0.317    0.114\n",
       "Prop. mediated (average)     0.117          -0.627           0.925    0.082"
      ]
     },
     "execution_count": 48,
     "metadata": {},
     "output_type": "execute_result"
    }
   ],
   "source": [
    "model_data = df_scale_ms.dropna()\n",
    "outcome_model = sm.OLS.from_formula(\n",
    "    \"edss_sqrt ~ choroid_volume + PRL + age + tiv + Female\", data=model_data\n",
    ")\n",
    "mediator_model = sm.GLM.from_formula(\n",
    "    \"PRL ~ choroid_volume + age + tiv + Female\", data=model_data, family=sm.families.Poisson()\n",
    ")\n",
    "\n",
    "med = Mediation(\n",
    "    outcome_model, mediator_model, \"choroid_volume\", \"PRL\"\n",
    ").fit(method=\"bootstrap\")\n",
    "med.summary()"
   ]
  },
  {
   "cell_type": "markdown",
   "metadata": {},
   "source": [
    "Lesion volume mediating effect of PRL count on EDSS. There is a significant effect, but don't think it describes anything interesting (ie more PRL mean greater lesion volume which is related to EDSS)"
   ]
  },
  {
   "cell_type": "code",
   "execution_count": 49,
   "metadata": {},
   "outputs": [
    {
     "data": {
      "application/vnd.microsoft.datawrangler.viewer.v0+json": {
       "columns": [
        {
         "name": "index",
         "rawType": "object",
         "type": "string"
        },
        {
         "name": "Estimate",
         "rawType": "float64",
         "type": "float"
        },
        {
         "name": "Lower CI bound",
         "rawType": "float64",
         "type": "float"
        },
        {
         "name": "Upper CI bound",
         "rawType": "float64",
         "type": "float"
        },
        {
         "name": "P-value",
         "rawType": "float64",
         "type": "float"
        }
       ],
       "conversionMethod": "pd.DataFrame",
       "ref": "ba94b4ae-6db5-48e2-b730-cf173c1a9f47",
       "rows": [
        [
         "ACME (control)",
         "0.011112915799861704",
         "-0.0009843171040295209",
         "0.02715779378840441",
         "0.084"
        ],
        [
         "ACME (treated)",
         "0.011112915799861704",
         "-0.0009843171040295404",
         "0.0271577937884044",
         "0.084"
        ],
        [
         "ADE (control)",
         "0.018614801898510815",
         "-0.0017101809886839892",
         "0.04186135605225142",
         "0.074"
        ],
        [
         "ADE (treated)",
         "0.018614801898510818",
         "-0.0017101809886839745",
         "0.0418613560522514",
         "0.074"
        ],
        [
         "Total effect",
         "0.029727717698372524",
         "0.006987153958090525",
         "0.05445786556350057",
         "0.008"
        ],
        [
         "Prop. mediated (control)",
         "0.36632822151529476",
         "-0.11144597100239514",
         "1.1228520761033325",
         "0.092"
        ],
        [
         "Prop. mediated (treated)",
         "0.36632822151529454",
         "-0.11144597100239496",
         "1.1228520761033305",
         "0.092"
        ],
        [
         "ACME (average)",
         "0.011112915799861704",
         "-0.0009843171040295306",
         "0.027157793788404404",
         "0.084"
        ],
        [
         "ADE (average)",
         "0.018614801898510815",
         "-0.0017101809886839819",
         "0.04186135605225141",
         "0.074"
        ],
        [
         "Prop. mediated (average)",
         "0.36632822151529465",
         "-0.11144597100239505",
         "1.1228520761033316",
         "0.092"
        ]
       ],
       "shape": {
        "columns": 4,
        "rows": 10
       }
      },
      "text/html": [
       "<div>\n",
       "<style scoped>\n",
       "    .dataframe tbody tr th:only-of-type {\n",
       "        vertical-align: middle;\n",
       "    }\n",
       "\n",
       "    .dataframe tbody tr th {\n",
       "        vertical-align: top;\n",
       "    }\n",
       "\n",
       "    .dataframe thead th {\n",
       "        text-align: right;\n",
       "    }\n",
       "</style>\n",
       "<table border=\"1\" class=\"dataframe\">\n",
       "  <thead>\n",
       "    <tr style=\"text-align: right;\">\n",
       "      <th></th>\n",
       "      <th>Estimate</th>\n",
       "      <th>Lower CI bound</th>\n",
       "      <th>Upper CI bound</th>\n",
       "      <th>P-value</th>\n",
       "    </tr>\n",
       "  </thead>\n",
       "  <tbody>\n",
       "    <tr>\n",
       "      <th>ACME (control)</th>\n",
       "      <td>0.011</td>\n",
       "      <td>-9.843e-04</td>\n",
       "      <td>0.027</td>\n",
       "      <td>0.084</td>\n",
       "    </tr>\n",
       "    <tr>\n",
       "      <th>ACME (treated)</th>\n",
       "      <td>0.011</td>\n",
       "      <td>-9.843e-04</td>\n",
       "      <td>0.027</td>\n",
       "      <td>0.084</td>\n",
       "    </tr>\n",
       "    <tr>\n",
       "      <th>ADE (control)</th>\n",
       "      <td>0.019</td>\n",
       "      <td>-1.710e-03</td>\n",
       "      <td>0.042</td>\n",
       "      <td>0.074</td>\n",
       "    </tr>\n",
       "    <tr>\n",
       "      <th>ADE (treated)</th>\n",
       "      <td>0.019</td>\n",
       "      <td>-1.710e-03</td>\n",
       "      <td>0.042</td>\n",
       "      <td>0.074</td>\n",
       "    </tr>\n",
       "    <tr>\n",
       "      <th>Total effect</th>\n",
       "      <td>0.030</td>\n",
       "      <td>6.987e-03</td>\n",
       "      <td>0.054</td>\n",
       "      <td>0.008</td>\n",
       "    </tr>\n",
       "    <tr>\n",
       "      <th>Prop. mediated (control)</th>\n",
       "      <td>0.366</td>\n",
       "      <td>-1.114e-01</td>\n",
       "      <td>1.123</td>\n",
       "      <td>0.092</td>\n",
       "    </tr>\n",
       "    <tr>\n",
       "      <th>Prop. mediated (treated)</th>\n",
       "      <td>0.366</td>\n",
       "      <td>-1.114e-01</td>\n",
       "      <td>1.123</td>\n",
       "      <td>0.092</td>\n",
       "    </tr>\n",
       "    <tr>\n",
       "      <th>ACME (average)</th>\n",
       "      <td>0.011</td>\n",
       "      <td>-9.843e-04</td>\n",
       "      <td>0.027</td>\n",
       "      <td>0.084</td>\n",
       "    </tr>\n",
       "    <tr>\n",
       "      <th>ADE (average)</th>\n",
       "      <td>0.019</td>\n",
       "      <td>-1.710e-03</td>\n",
       "      <td>0.042</td>\n",
       "      <td>0.074</td>\n",
       "    </tr>\n",
       "    <tr>\n",
       "      <th>Prop. mediated (average)</th>\n",
       "      <td>0.366</td>\n",
       "      <td>-1.114e-01</td>\n",
       "      <td>1.123</td>\n",
       "      <td>0.092</td>\n",
       "    </tr>\n",
       "  </tbody>\n",
       "</table>\n",
       "</div>"
      ],
      "text/plain": [
       "                          Estimate  Lower CI bound  Upper CI bound  P-value\n",
       "ACME (control)               0.011      -9.843e-04           0.027    0.084\n",
       "ACME (treated)               0.011      -9.843e-04           0.027    0.084\n",
       "ADE (control)                0.019      -1.710e-03           0.042    0.074\n",
       "ADE (treated)                0.019      -1.710e-03           0.042    0.074\n",
       "Total effect                 0.030       6.987e-03           0.054    0.008\n",
       "Prop. mediated (control)     0.366      -1.114e-01           1.123    0.092\n",
       "Prop. mediated (treated)     0.366      -1.114e-01           1.123    0.092\n",
       "ACME (average)               0.011      -9.843e-04           0.027    0.084\n",
       "ADE (average)                0.019      -1.710e-03           0.042    0.074\n",
       "Prop. mediated (average)     0.366      -1.114e-01           1.123    0.092"
      ]
     },
     "execution_count": 49,
     "metadata": {},
     "output_type": "execute_result"
    }
   ],
   "source": [
    "outcome_model = sm.OLS.from_formula(\n",
    "    \"edss_sqrt ~ PRL + lesion_vol_logtrans + age + tiv + Female\", data=df_scale_ms\n",
    ")\n",
    "mediator_model = sm.OLS.from_formula(\n",
    "    \"lesion_vol_logtrans ~ PRL + age + tiv + Female\", data=df_scale_ms\n",
    ")\n",
    "\n",
    "med = Mediation(\n",
    "    outcome_model, mediator_model, \"PRL\", \"lesion_vol_logtrans\"\n",
    ").fit(method=\"bootstrap\")\n",
    "med.summary()"
   ]
  },
  {
   "cell_type": "markdown",
   "metadata": {},
   "source": [
    "Significant effect, but same interpretation as above"
   ]
  },
  {
   "cell_type": "code",
   "execution_count": 42,
   "metadata": {},
   "outputs": [
    {
     "data": {
      "application/vnd.microsoft.datawrangler.viewer.v0+json": {
       "columns": [
        {
         "name": "index",
         "rawType": "object",
         "type": "string"
        },
        {
         "name": "Estimate",
         "rawType": "float64",
         "type": "float"
        },
        {
         "name": "Lower CI bound",
         "rawType": "float64",
         "type": "float"
        },
        {
         "name": "Upper CI bound",
         "rawType": "float64",
         "type": "float"
        },
        {
         "name": "P-value",
         "rawType": "float64",
         "type": "float"
        }
       ],
       "conversionMethod": "pd.DataFrame",
       "ref": "8d99c930-fa33-4751-8f3b-21fc6c60ab7f",
       "rows": [
        [
         "ACME (control)",
         "0.08213468427971253",
         "0.03982335816951807",
         "0.1257534832203014",
         "0.0"
        ],
        [
         "ACME (treated)",
         "0.08213468427971253",
         "0.03982335816951807",
         "0.1257534832203014",
         "0.0"
        ],
        [
         "ADE (control)",
         "-0.04421368757995455",
         "-0.10069440427577986",
         "0.008398576486674369",
         "0.11"
        ],
        [
         "ADE (treated)",
         "-0.04421368757995455",
         "-0.10069440427577986",
         "0.008398576486674384",
         "0.11"
        ],
        [
         "Total effect",
         "0.037920996699757965",
         "-0.007443135576627382",
         "0.08394771115029888",
         "0.09"
        ],
        [
         "Prop. mediated (control)",
         "2.0298423581646063",
         "-7.7517223496524865",
         "15.063885699814511",
         "0.09"
        ],
        [
         "Prop. mediated (treated)",
         "2.029842358164606",
         "-7.7517223496524865",
         "15.063885699814511",
         "0.09"
        ],
        [
         "ACME (average)",
         "0.08213468427971253",
         "0.03982335816951807",
         "0.1257534832203014",
         "0.0"
        ],
        [
         "ADE (average)",
         "-0.04421368757995455",
         "-0.10069440427577986",
         "0.008398576486674377",
         "0.11"
        ],
        [
         "Prop. mediated (average)",
         "2.029842358164606",
         "-7.7517223496524865",
         "15.063885699814511",
         "0.09"
        ]
       ],
       "shape": {
        "columns": 4,
        "rows": 10
       }
      },
      "text/html": [
       "<div>\n",
       "<style scoped>\n",
       "    .dataframe tbody tr th:only-of-type {\n",
       "        vertical-align: middle;\n",
       "    }\n",
       "\n",
       "    .dataframe tbody tr th {\n",
       "        vertical-align: top;\n",
       "    }\n",
       "\n",
       "    .dataframe thead th {\n",
       "        text-align: right;\n",
       "    }\n",
       "</style>\n",
       "<table border=\"1\" class=\"dataframe\">\n",
       "  <thead>\n",
       "    <tr style=\"text-align: right;\">\n",
       "      <th></th>\n",
       "      <th>Estimate</th>\n",
       "      <th>Lower CI bound</th>\n",
       "      <th>Upper CI bound</th>\n",
       "      <th>P-value</th>\n",
       "    </tr>\n",
       "  </thead>\n",
       "  <tbody>\n",
       "    <tr>\n",
       "      <th>ACME (control)</th>\n",
       "      <td>0.082</td>\n",
       "      <td>0.040</td>\n",
       "      <td>0.126</td>\n",
       "      <td>0.00</td>\n",
       "    </tr>\n",
       "    <tr>\n",
       "      <th>ACME (treated)</th>\n",
       "      <td>0.082</td>\n",
       "      <td>0.040</td>\n",
       "      <td>0.126</td>\n",
       "      <td>0.00</td>\n",
       "    </tr>\n",
       "    <tr>\n",
       "      <th>ADE (control)</th>\n",
       "      <td>-0.044</td>\n",
       "      <td>-0.101</td>\n",
       "      <td>0.008</td>\n",
       "      <td>0.11</td>\n",
       "    </tr>\n",
       "    <tr>\n",
       "      <th>ADE (treated)</th>\n",
       "      <td>-0.044</td>\n",
       "      <td>-0.101</td>\n",
       "      <td>0.008</td>\n",
       "      <td>0.11</td>\n",
       "    </tr>\n",
       "    <tr>\n",
       "      <th>Total effect</th>\n",
       "      <td>0.038</td>\n",
       "      <td>-0.007</td>\n",
       "      <td>0.084</td>\n",
       "      <td>0.09</td>\n",
       "    </tr>\n",
       "    <tr>\n",
       "      <th>Prop. mediated (control)</th>\n",
       "      <td>2.030</td>\n",
       "      <td>-7.752</td>\n",
       "      <td>15.064</td>\n",
       "      <td>0.09</td>\n",
       "    </tr>\n",
       "    <tr>\n",
       "      <th>Prop. mediated (treated)</th>\n",
       "      <td>2.030</td>\n",
       "      <td>-7.752</td>\n",
       "      <td>15.064</td>\n",
       "      <td>0.09</td>\n",
       "    </tr>\n",
       "    <tr>\n",
       "      <th>ACME (average)</th>\n",
       "      <td>0.082</td>\n",
       "      <td>0.040</td>\n",
       "      <td>0.126</td>\n",
       "      <td>0.00</td>\n",
       "    </tr>\n",
       "    <tr>\n",
       "      <th>ADE (average)</th>\n",
       "      <td>-0.044</td>\n",
       "      <td>-0.101</td>\n",
       "      <td>0.008</td>\n",
       "      <td>0.11</td>\n",
       "    </tr>\n",
       "    <tr>\n",
       "      <th>Prop. mediated (average)</th>\n",
       "      <td>2.030</td>\n",
       "      <td>-7.752</td>\n",
       "      <td>15.064</td>\n",
       "      <td>0.09</td>\n",
       "    </tr>\n",
       "  </tbody>\n",
       "</table>\n",
       "</div>"
      ],
      "text/plain": [
       "                          Estimate  Lower CI bound  Upper CI bound  P-value\n",
       "ACME (control)               0.082           0.040           0.126     0.00\n",
       "ACME (treated)               0.082           0.040           0.126     0.00\n",
       "ADE (control)               -0.044          -0.101           0.008     0.11\n",
       "ADE (treated)               -0.044          -0.101           0.008     0.11\n",
       "Total effect                 0.038          -0.007           0.084     0.09\n",
       "Prop. mediated (control)     2.030          -7.752          15.064     0.09\n",
       "Prop. mediated (treated)     2.030          -7.752          15.064     0.09\n",
       "ACME (average)               0.082           0.040           0.126     0.00\n",
       "ADE (average)               -0.044          -0.101           0.008     0.11\n",
       "Prop. mediated (average)     2.030          -7.752          15.064     0.09"
      ]
     },
     "execution_count": 42,
     "metadata": {},
     "output_type": "execute_result"
    }
   ],
   "source": [
    "outcome_model = sm.OLS.from_formula(\n",
    "    \"edss_sqrt ~ lesion_count + lesion_vol_logtrans + age + tiv + Female\", data=df_scale_ms\n",
    ")\n",
    "mediator_model = sm.OLS.from_formula(\n",
    "    \"lesion_vol_logtrans ~ lesion_count + age + tiv + Female\", data=df_scale_ms\n",
    ")\n",
    "\n",
    "med = Mediation(\n",
    "    outcome_model, mediator_model, \"lesion_count\", \"lesion_vol_logtrans\"\n",
    ").fit(method=\"bootstrap\")\n",
    "med.summary()"
   ]
  },
  {
   "cell_type": "code",
   "execution_count": 43,
   "metadata": {},
   "outputs": [
    {
     "name": "stdout",
     "output_type": "stream",
     "text": [
      "                          Estimate  Lower CI bound  Upper CI bound  P-value\n",
      "ACME (control)               0.004      -9.071e-04           0.011    0.116\n",
      "ACME (treated)               0.004      -9.071e-04           0.011    0.116\n",
      "ADE (control)                0.042       1.933e-03           0.085    0.044\n",
      "ADE (treated)                0.042       1.933e-03           0.085    0.044\n",
      "Total effect                 0.046       6.342e-03           0.089    0.022\n",
      "Prop. mediated (control)     0.077      -4.396e-02           0.507    0.134\n",
      "Prop. mediated (treated)     0.077      -4.396e-02           0.507    0.134\n",
      "ACME (average)               0.004      -9.071e-04           0.011    0.114\n",
      "ADE (average)                0.042       1.933e-03           0.085    0.044\n",
      "Prop. mediated (average)     0.077      -4.396e-02           0.507    0.132\n"
     ]
    }
   ],
   "source": [
    "model_data = df_scale_ms.dropna()\n",
    "outcome_model = sm.OLS.from_formula(\"edss_sqrt ~ lesion_count + PRL + age + Female + tiv\", data=model_data)\n",
    "# print(outcome_model.fit().summary())\n",
    "\n",
    "mediator_model = sm.GLM.from_formula(\"PRL ~ lesion_count + age + Female + tiv\", data=model_data, family=sm.families.Poisson())\n",
    "# print(mediator_model.fit().summary())\n",
    "\n",
    "med = Mediation(\n",
    "    outcome_model, mediator_model, \"lesion_count\", \"PRL\"\n",
    ").fit()\n",
    "print(med.summary())"
   ]
  },
  {
   "cell_type": "markdown",
   "metadata": {},
   "source": [
    "#### Moderation "
   ]
  },
  {
   "cell_type": "code",
   "execution_count": 404,
   "metadata": {},
   "outputs": [
    {
     "name": "stdout",
     "output_type": "stream",
     "text": [
      "R2:     0.264\n",
      "R2_adj: 0.255\n",
      "                   coef      p\n",
      "Intercept        -0.003  0.954\n",
      "dzdur             0.248  0.000\n",
      "lesion_vol_cubic  0.143  0.002\n",
      "tiv              -0.057  0.289\n",
      "age               0.241  0.000\n",
      "Female           -0.111  0.034\n"
     ]
    }
   ],
   "source": [
    "model_data = df_z.copy()\n",
    "model_data = model_data[model_data['dz_type2'] == \"MS\"]\n",
    "\n",
    "moderation_model = sm.OLS.from_formula(\"EDSS ~ dzdur + lesion_vol_cubic + tiv + age + Female\", data=model_data)\n",
    "res = moderation_model.fit()\n",
    "summary = pd.DataFrame({'coef': res.params, 'p': res.pvalues.round(3)})\n",
    "print(\"R2:     {:0.3}\".format(res.rsquared))\n",
    "print(\"R2_adj: {:0.3}\".format(res.rsquared_adj))\n",
    "print(summary)"
   ]
  },
  {
   "cell_type": "code",
   "execution_count": 504,
   "metadata": {},
   "outputs": [
    {
     "data": {
      "image/png": "[encoded data removed]",
      "text/plain": [
       "<Figure size 640x480 with 1 Axes>"
      ]
     },
     "metadata": {},
     "output_type": "display_data"
    }
   ],
   "source": [
    "model_data = df.copy()\n",
    "model_data = model_data[model_data['dz_type2'] == \"MS\"]\n",
    "\n",
    "moderation_model = sm.OLS.from_formula(\"EDSS ~ dzdur_cent*lesion_vol_cubic_cent + tiv + age + Female\", data=model_data)\n",
    "res = moderation_model.fit()\n",
    "\n",
    "x_rng, y_lvls = helpers.moderation_y(model_data, res, \"dzdur_cent\", \"lesion_vol_cubic_cent\")\n",
    "# fix x_rng since the moderation_y took the centered version\n",
    "x_rng = np.linspace(model_data['dzdur'].min(), model_data['dzdur'].max(), 100)\n",
    "\n",
    "# helpers.plot_moderation(model_data['dzdur'], model_data['EDSS'], x_rng, y_lvls)\n",
    "plt.scatter(model_data['dzdur'], model_data['EDSS'], s=8, color=\"gray\")\n",
    "\n",
    "# m-sd line\n",
    "plt.plot(x_rng, y_lvls[0][0], label=\"m-sd\", linestyle=\"--\", color=colors['dark blue1'])\n",
    "# plt.fill_between(x_rng, y_lvls[0][1], y_lvls[0][2], color=colors['light blue1'], alpha=0.1)\n",
    "\n",
    "plt.plot(x_rng, y_lvls[1][0], label=\"m (T2LV)\", linestyle=\"-\", color=\"black\")\n",
    "plt.fill_between(x_rng, y_lvls[1][1], y_lvls[1][2], color='grey', alpha=0.2)\n",
    "\n",
    "plt.plot(x_rng, y_lvls[2][0], label=\"m+sd\", linestyle=\"--\", color=colors['dark red1'])\n",
    "# plt.fill_between(x_rng, y_lvls[2][1], y_lvls[2][2], color=colors['light red1'], alpha=0.1)\n",
    "\n",
    "plt.legend()\n",
    "plt.xlabel(\"Disease duration\")\n",
    "plt.ylabel(\"EDSS score\")\n",
    "plt.show()"
   ]
  },
  {
   "cell_type": "markdown",
   "metadata": {},
   "source": [
    "There is a significant interaction of CP volume and lesion volume on EDSS. But don't know how to interpret this alongside the mediation analysis. Also R2 improves when including both as an interaction instead of separate terms\n",
    "\n",
    "Chris was explaining how lesion volume and ChP volume may be indicators of different sources of inflammation (leptomeningeal inflammation, cortical inflammation, or subcortical inflammation?). The interaction term being multiplicative could be related to the multiplicative effects of both types of inflammation\n",
    "\n",
    "In which case, the mediation model is testing a different possibly competing model "
   ]
  },
  {
   "cell_type": "code",
   "execution_count": 82,
   "metadata": {},
   "outputs": [
    {
     "name": "stdout",
     "output_type": "stream",
     "text": [
      "R2:     0.218\n",
      "R2_adj: 0.207\n",
      "                                  coef      p\n",
      "Intercept                       -0.052  0.242\n",
      "choroid_volume                  -0.012  0.813\n",
      "lesion_vol_cubic                 0.166  0.000\n",
      "choroid_volume:lesion_vol_cubic  0.103  0.020\n",
      "tiv                             -0.079  0.125\n",
      "age                              0.377  0.000\n",
      "Female                          -0.106  0.038\n"
     ]
    }
   ],
   "source": [
    "moderation_model = sm.OLS.from_formula(\"EDSS ~ choroid_volume*lesion_vol_cubic + tiv + age + Female\", data=df_z)\n",
    "res = moderation_model.fit()\n",
    "summary = pd.DataFrame({'coef': res.params, 'p': res.pvalues.round(3)})\n",
    "print(\"R2:     {:0.3}\".format(res.rsquared))\n",
    "print(\"R2_adj: {:0.3}\".format(res.rsquared_adj))\n",
    "print(summary)"
   ]
  },
  {
   "cell_type": "code",
   "execution_count": 83,
   "metadata": {},
   "outputs": [
    {
     "data": {
      "image/png": "[encoded data removed]",
      "text/plain": [
       "<Figure size 640x480 with 1 Axes>"
      ]
     },
     "metadata": {},
     "output_type": "display_data"
    }
   ],
   "source": [
    "moderation_model = sm.OLS.from_formula(\"EDSS ~ choroid_volume_cent*lesion_vol_cubic_cent + tiv + age + Female\", data=model_data)\n",
    "res = moderation_model.fit()\n",
    "\n",
    "x_rng, y_lvls = helpers.moderation_y(model_data, res, \"lesion_vol_cubic_cent\", \"choroid_volume_cent\")\n",
    "# fix x_rng since the moderation_y took the centered version\n",
    "x_rng = np.linspace(model_data['lesion_vol_cubic'].min(), model_data['lesion_vol_cubic'].max(), 100)\n",
    "\n",
    "# helpers.plot_moderation(model_data['dzdur'], model_data['EDSS'], x_rng, y_lvls)\n",
    "plt.scatter(model_data['lesion_vol_cubic'], model_data['EDSS'], s=8, color=\"gray\")\n",
    "\n",
    "# m-sd line\n",
    "plt.plot(x_rng, y_lvls[0][0], label=\"m-sd\", linestyle=\"--\", color=colors['dark blue1'])\n",
    "# plt.fill_between(x_rng, y_lvls[0][1], y_lvls[0][2], color=colors['light blue1'], alpha=0.1)\n",
    "\n",
    "plt.plot(x_rng, y_lvls[1][0], label=\"m (CP Vol)\", linestyle=\"-\", color=\"black\")\n",
    "plt.fill_between(x_rng, y_lvls[1][1], y_lvls[1][2], color='grey', alpha=0.2)\n",
    "\n",
    "plt.plot(x_rng, y_lvls[2][0], label=\"m+sd\", linestyle=\"--\", color=colors['dark red1'])\n",
    "# plt.fill_between(x_rng, y_lvls[2][1], y_lvls[2][2], color=colors['light red1'], alpha=0.1)\n",
    "\n",
    "plt.legend()\n",
    "plt.xlabel(\"T2-LV\")\n",
    "plt.ylabel(\"EDSS score\")\n",
    "plt.show()"
   ]
  },
  {
   "cell_type": "markdown",
   "metadata": {},
   "source": [
    "#### Ordinal Regression on EDSS"
   ]
  },
  {
   "cell_type": "code",
   "execution_count": 124,
   "metadata": {},
   "outputs": [
    {
     "name": "stdout",
     "output_type": "stream",
     "text": [
      "Optimization terminated successfully.\n",
      "         Current function value: 2.190125\n",
      "         Iterations: 77\n",
      "         Function evaluations: 79\n",
      "         Gradient evaluations: 79\n"
     ]
    },
    {
     "data": {
      "text/html": [
       "<table class=\"simpletable\">\n",
       "<caption>OrderedModel Results</caption>\n",
       "<tr>\n",
       "  <th>Dep. Variable:</th>           <td>EDSS</td>        <th>  Log-Likelihood:    </th> <td> -812.54</td>\n",
       "</tr>\n",
       "<tr>\n",
       "  <th>Model:</th>               <td>OrderedModel</td>    <th>  AIC:               </th> <td>   1667.</td>\n",
       "</tr>\n",
       "<tr>\n",
       "  <th>Method:</th>           <td>Maximum Likelihood</td> <th>  BIC:               </th> <td>   1749.</td>\n",
       "</tr>\n",
       "<tr>\n",
       "  <th>Date:</th>              <td>Fri, 28 Feb 2025</td>  <th>                     </th>     <td> </td>   \n",
       "</tr>\n",
       "<tr>\n",
       "  <th>Time:</th>                  <td>15:51:02</td>      <th>                     </th>     <td> </td>   \n",
       "</tr>\n",
       "<tr>\n",
       "  <th>No. Observations:</th>       <td>   371</td>       <th>                     </th>     <td> </td>   \n",
       "</tr>\n",
       "<tr>\n",
       "  <th>Df Residuals:</th>           <td>   350</td>       <th>                     </th>     <td> </td>   \n",
       "</tr>\n",
       "<tr>\n",
       "  <th>Df Model:</th>               <td>     4</td>       <th>                     </th>     <td> </td>   \n",
       "</tr>\n",
       "</table>\n",
       "<table class=\"simpletable\">\n",
       "<tr>\n",
       "     <td></td>        <th>coef</th>     <th>std err</th>      <th>z</th>      <th>P>|z|</th>  <th>[0.025</th>    <th>0.975]</th>  \n",
       "</tr>\n",
       "<tr>\n",
       "  <th>PRL</th>     <td>    0.1034</td> <td>    0.042</td> <td>    2.474</td> <td> 0.013</td> <td>    0.021</td> <td>    0.185</td>\n",
       "</tr>\n",
       "<tr>\n",
       "  <th>tiv</th>     <td>   -1.3265</td> <td>    1.296</td> <td>   -1.024</td> <td> 0.306</td> <td>   -3.867</td> <td>    1.214</td>\n",
       "</tr>\n",
       "<tr>\n",
       "  <th>age</th>     <td>    3.4101</td> <td>    0.397</td> <td>    8.590</td> <td> 0.000</td> <td>    2.632</td> <td>    4.188</td>\n",
       "</tr>\n",
       "<tr>\n",
       "  <th>Female</th>  <td>   -0.2848</td> <td>    0.266</td> <td>   -1.069</td> <td> 0.285</td> <td>   -0.807</td> <td>    0.237</td>\n",
       "</tr>\n",
       "<tr>\n",
       "  <th>0.0/1.0</th> <td>   -2.4345</td> <td>    1.547</td> <td>   -1.574</td> <td> 0.116</td> <td>   -5.467</td> <td>    0.598</td>\n",
       "</tr>\n",
       "<tr>\n",
       "  <th>1.0/1.5</th> <td>    0.9753</td> <td>    0.151</td> <td>    6.446</td> <td> 0.000</td> <td>    0.679</td> <td>    1.272</td>\n",
       "</tr>\n",
       "<tr>\n",
       "  <th>1.5/2.0</th> <td>    0.3874</td> <td>    0.094</td> <td>    4.140</td> <td> 0.000</td> <td>    0.204</td> <td>    0.571</td>\n",
       "</tr>\n",
       "<tr>\n",
       "  <th>2.0/2.5</th> <td>   -0.3045</td> <td>    0.124</td> <td>   -2.454</td> <td> 0.014</td> <td>   -0.548</td> <td>   -0.061</td>\n",
       "</tr>\n",
       "<tr>\n",
       "  <th>2.5/3.0</th> <td>   -1.3054</td> <td>    0.218</td> <td>   -5.997</td> <td> 0.000</td> <td>   -1.732</td> <td>   -0.879</td>\n",
       "</tr>\n",
       "<tr>\n",
       "  <th>3.0/3.5</th> <td>   -1.1684</td> <td>    0.207</td> <td>   -5.648</td> <td> 0.000</td> <td>   -1.574</td> <td>   -0.763</td>\n",
       "</tr>\n",
       "<tr>\n",
       "  <th>3.5/4.0</th> <td>   -1.2278</td> <td>    0.223</td> <td>   -5.499</td> <td> 0.000</td> <td>   -1.665</td> <td>   -0.790</td>\n",
       "</tr>\n",
       "<tr>\n",
       "  <th>4.0/4.5</th> <td>   -1.2832</td> <td>    0.244</td> <td>   -5.261</td> <td> 0.000</td> <td>   -1.761</td> <td>   -0.805</td>\n",
       "</tr>\n",
       "<tr>\n",
       "  <th>4.5/5.0</th> <td>   -2.5982</td> <td>    0.497</td> <td>   -5.232</td> <td> 0.000</td> <td>   -3.572</td> <td>   -1.625</td>\n",
       "</tr>\n",
       "<tr>\n",
       "  <th>5.0/5.5</th> <td>   -1.9922</td> <td>    0.374</td> <td>   -5.332</td> <td> 0.000</td> <td>   -2.725</td> <td>   -1.260</td>\n",
       "</tr>\n",
       "<tr>\n",
       "  <th>5.5/6.0</th> <td>   -2.4942</td> <td>    0.497</td> <td>   -5.022</td> <td> 0.000</td> <td>   -3.468</td> <td>   -1.521</td>\n",
       "</tr>\n",
       "<tr>\n",
       "  <th>6.0/6.5</th> <td>   -0.2007</td> <td>    0.176</td> <td>   -1.138</td> <td> 0.255</td> <td>   -0.546</td> <td>    0.145</td>\n",
       "</tr>\n",
       "<tr>\n",
       "  <th>6.5/7.0</th> <td>    0.0030</td> <td>    0.228</td> <td>    0.013</td> <td> 0.990</td> <td>   -0.444</td> <td>    0.450</td>\n",
       "</tr>\n",
       "<tr>\n",
       "  <th>7.0/7.5</th> <td>   -0.9465</td> <td>    0.498</td> <td>   -1.899</td> <td> 0.058</td> <td>   -1.923</td> <td>    0.030</td>\n",
       "</tr>\n",
       "<tr>\n",
       "  <th>7.5/8.0</th> <td>   -0.8638</td> <td>    0.577</td> <td>   -1.497</td> <td> 0.135</td> <td>   -1.995</td> <td>    0.267</td>\n",
       "</tr>\n",
       "<tr>\n",
       "  <th>8.0/8.5</th> <td>   -0.3410</td> <td>    0.584</td> <td>   -0.584</td> <td> 0.560</td> <td>   -1.487</td> <td>    0.804</td>\n",
       "</tr>\n",
       "<tr>\n",
       "  <th>8.5/9.0</th> <td>    0.1048</td> <td>    0.740</td> <td>    0.142</td> <td> 0.887</td> <td>   -1.345</td> <td>    1.554</td>\n",
       "</tr>\n",
       "</table>"
      ],
      "text/latex": [
       "\\begin{center}\n",
       "\\begin{tabular}{lclc}\n",
       "\\toprule\n",
       "\\textbf{Dep. Variable:}    &        EDSS        & \\textbf{  Log-Likelihood:    } &   -812.54   \\\\\n",
       "\\textbf{Model:}            &    OrderedModel    & \\textbf{  AIC:               } &     1667.   \\\\\n",
       "\\textbf{Method:}           & Maximum Likelihood & \\textbf{  BIC:               } &     1749.   \\\\\n",
       "\\textbf{Date:}             &  Fri, 28 Feb 2025  & \\textbf{                     } &             \\\\\n",
       "\\textbf{Time:}             &      15:51:02      & \\textbf{                     } &             \\\\\n",
       "\\textbf{No. Observations:} &          371       & \\textbf{                     } &             \\\\\n",
       "\\textbf{Df Residuals:}     &          350       & \\textbf{                     } &             \\\\\n",
       "\\textbf{Df Model:}         &            4       & \\textbf{                     } &             \\\\\n",
       "\\bottomrule\n",
       "\\end{tabular}\n",
       "\\begin{tabular}{lcccccc}\n",
       "                 & \\textbf{coef} & \\textbf{std err} & \\textbf{z} & \\textbf{P$> |$z$|$} & \\textbf{[0.025} & \\textbf{0.975]}  \\\\\n",
       "\\midrule\n",
       "\\textbf{PRL}     &       0.1034  &        0.042     &     2.474  &         0.013        &        0.021    &        0.185     \\\\\n",
       "\\textbf{tiv}     &      -1.3265  &        1.296     &    -1.024  &         0.306        &       -3.867    &        1.214     \\\\\n",
       "\\textbf{age}     &       3.4101  &        0.397     &     8.590  &         0.000        &        2.632    &        4.188     \\\\\n",
       "\\textbf{Female}  &      -0.2848  &        0.266     &    -1.069  &         0.285        &       -0.807    &        0.237     \\\\\n",
       "\\textbf{0.0/1.0} &      -2.4345  &        1.547     &    -1.574  &         0.116        &       -5.467    &        0.598     \\\\\n",
       "\\textbf{1.0/1.5} &       0.9753  &        0.151     &     6.446  &         0.000        &        0.679    &        1.272     \\\\\n",
       "\\textbf{1.5/2.0} &       0.3874  &        0.094     &     4.140  &         0.000        &        0.204    &        0.571     \\\\\n",
       "\\textbf{2.0/2.5} &      -0.3045  &        0.124     &    -2.454  &         0.014        &       -0.548    &       -0.061     \\\\\n",
       "\\textbf{2.5/3.0} &      -1.3054  &        0.218     &    -5.997  &         0.000        &       -1.732    &       -0.879     \\\\\n",
       "\\textbf{3.0/3.5} &      -1.1684  &        0.207     &    -5.648  &         0.000        &       -1.574    &       -0.763     \\\\\n",
       "\\textbf{3.5/4.0} &      -1.2278  &        0.223     &    -5.499  &         0.000        &       -1.665    &       -0.790     \\\\\n",
       "\\textbf{4.0/4.5} &      -1.2832  &        0.244     &    -5.261  &         0.000        &       -1.761    &       -0.805     \\\\\n",
       "\\textbf{4.5/5.0} &      -2.5982  &        0.497     &    -5.232  &         0.000        &       -3.572    &       -1.625     \\\\\n",
       "\\textbf{5.0/5.5} &      -1.9922  &        0.374     &    -5.332  &         0.000        &       -2.725    &       -1.260     \\\\\n",
       "\\textbf{5.5/6.0} &      -2.4942  &        0.497     &    -5.022  &         0.000        &       -3.468    &       -1.521     \\\\\n",
       "\\textbf{6.0/6.5} &      -0.2007  &        0.176     &    -1.138  &         0.255        &       -0.546    &        0.145     \\\\\n",
       "\\textbf{6.5/7.0} &       0.0030  &        0.228     &     0.013  &         0.990        &       -0.444    &        0.450     \\\\\n",
       "\\textbf{7.0/7.5} &      -0.9465  &        0.498     &    -1.899  &         0.058        &       -1.923    &        0.030     \\\\\n",
       "\\textbf{7.5/8.0} &      -0.8638  &        0.577     &    -1.497  &         0.135        &       -1.995    &        0.267     \\\\\n",
       "\\textbf{8.0/8.5} &      -0.3410  &        0.584     &    -0.584  &         0.560        &       -1.487    &        0.804     \\\\\n",
       "\\textbf{8.5/9.0} &       0.1048  &        0.740     &     0.142  &         0.887        &       -1.345    &        1.554     \\\\\n",
       "\\bottomrule\n",
       "\\end{tabular}\n",
       "%\\caption{OrderedModel Results}\n",
       "\\end{center}"
      ],
      "text/plain": [
       "<class 'statsmodels.iolib.summary.Summary'>\n",
       "\"\"\"\n",
       "                             OrderedModel Results                             \n",
       "==============================================================================\n",
       "Dep. Variable:                   EDSS   Log-Likelihood:                -812.54\n",
       "Model:                   OrderedModel   AIC:                             1667.\n",
       "Method:            Maximum Likelihood   BIC:                             1749.\n",
       "Date:                Fri, 28 Feb 2025                                         \n",
       "Time:                        15:51:02                                         \n",
       "No. Observations:                 371                                         \n",
       "Df Residuals:                     350                                         \n",
       "Df Model:                           4                                         \n",
       "==============================================================================\n",
       "                 coef    std err          z      P>|z|      [0.025      0.975]\n",
       "------------------------------------------------------------------------------\n",
       "PRL            0.1034      0.042      2.474      0.013       0.021       0.185\n",
       "tiv           -1.3265      1.296     -1.024      0.306      -3.867       1.214\n",
       "age            3.4101      0.397      8.590      0.000       2.632       4.188\n",
       "Female        -0.2848      0.266     -1.069      0.285      -0.807       0.237\n",
       "0.0/1.0       -2.4345      1.547     -1.574      0.116      -5.467       0.598\n",
       "1.0/1.5        0.9753      0.151      6.446      0.000       0.679       1.272\n",
       "1.5/2.0        0.3874      0.094      4.140      0.000       0.204       0.571\n",
       "2.0/2.5       -0.3045      0.124     -2.454      0.014      -0.548      -0.061\n",
       "2.5/3.0       -1.3054      0.218     -5.997      0.000      -1.732      -0.879\n",
       "3.0/3.5       -1.1684      0.207     -5.648      0.000      -1.574      -0.763\n",
       "3.5/4.0       -1.2278      0.223     -5.499      0.000      -1.665      -0.790\n",
       "4.0/4.5       -1.2832      0.244     -5.261      0.000      -1.761      -0.805\n",
       "4.5/5.0       -2.5982      0.497     -5.232      0.000      -3.572      -1.625\n",
       "5.0/5.5       -1.9922      0.374     -5.332      0.000      -2.725      -1.260\n",
       "5.5/6.0       -2.4942      0.497     -5.022      0.000      -3.468      -1.521\n",
       "6.0/6.5       -0.2007      0.176     -1.138      0.255      -0.546       0.145\n",
       "6.5/7.0        0.0030      0.228      0.013      0.990      -0.444       0.450\n",
       "7.0/7.5       -0.9465      0.498     -1.899      0.058      -1.923       0.030\n",
       "7.5/8.0       -0.8638      0.577     -1.497      0.135      -1.995       0.267\n",
       "8.0/8.5       -0.3410      0.584     -0.584      0.560      -1.487       0.804\n",
       "8.5/9.0        0.1048      0.740      0.142      0.887      -1.345       1.554\n",
       "==============================================================================\n",
       "\"\"\""
      ]
     },
     "execution_count": 124,
     "metadata": {},
     "output_type": "execute_result"
    }
   ],
   "source": [
    "model_data = df_scale.copy()\n",
    "model_data = model_data.loc[df['dz_type5'].isin([\"RMS\", \"PMS\"]), :].dropna()\n",
    "\n",
    "mod_prob = OrderedModel.from_formula(\"EDSS ~ PRL + tiv + age + Female\",\n",
    "                                     data=model_data, distr='logit')\n",
    "res_prob = mod_prob.fit(method='bfgs')\n",
    "res_prob.summary()"
   ]
  },
  {
   "cell_type": "markdown",
   "metadata": {},
   "source": [
    "#### MSSS"
   ]
  },
  {
   "cell_type": "code",
   "execution_count": 20,
   "metadata": {},
   "outputs": [
    {
     "name": "stdout",
     "output_type": "stream",
     "text": [
      "                            OLS Regression Results                            \n",
      "==============================================================================\n",
      "Dep. Variable:              msss_sqrt   R-squared:                       0.022\n",
      "Model:                            OLS   Adj. R-squared:                  0.012\n",
      "Method:                 Least Squares   F-statistic:                     2.268\n",
      "Date:                Sat, 22 Feb 2025   Prob (F-statistic):             0.0613\n",
      "Time:                        16:36:36   Log-Likelihood:                -417.23\n",
      "No. Observations:                 403   AIC:                             844.5\n",
      "Df Residuals:                     398   BIC:                             864.5\n",
      "Df Model:                           4                                         \n",
      "Covariance Type:            nonrobust                                         \n",
      "====================================================================================\n",
      "                       coef    std err          t      P>|t|      [0.025      0.975]\n",
      "------------------------------------------------------------------------------------\n",
      "Intercept            2.5095      0.522      4.806      0.000       1.483       3.536\n",
      "tiv                 -0.8378      0.465     -1.800      0.073      -1.753       0.077\n",
      "Female              -0.1977      0.100     -1.979      0.049      -0.394      -0.001\n",
      "lesion_vol_cubic     0.0924      0.068      1.358      0.175      -0.041       0.226\n",
      "choroid_volume       0.0830      0.114      0.725      0.469      -0.142       0.308\n",
      "==============================================================================\n",
      "Omnibus:                       33.423   Durbin-Watson:                   2.008\n",
      "Prob(Omnibus):                  0.000   Jarque-Bera (JB):               12.575\n",
      "Skew:                           0.155   Prob(JB):                      0.00186\n",
      "Kurtosis:                       2.192   Cond. No.                         44.6\n",
      "==============================================================================\n",
      "\n",
      "Notes:\n",
      "[1] Standard Errors assume that the covariance matrix of the errors is correctly specified.\n"
     ]
    }
   ],
   "source": [
    "model = sm.OLS.from_formula(\"msss_sqrt ~ tiv + Female + lesion_vol_cubic + choroid_volume\", data=df_scale)\n",
    "res = model.fit()\n",
    "print(res.summary())"
   ]
  },
  {
   "cell_type": "markdown",
   "metadata": {},
   "source": [
    "#### ARMSS"
   ]
  },
  {
   "cell_type": "code",
   "execution_count": 21,
   "metadata": {},
   "outputs": [
    {
     "name": "stdout",
     "output_type": "stream",
     "text": [
      "                            OLS Regression Results                            \n",
      "==============================================================================\n",
      "Dep. Variable:             armss_sqrt   R-squared:                       0.068\n",
      "Model:                            OLS   Adj. R-squared:                  0.059\n",
      "Method:                 Least Squares   F-statistic:                     7.939\n",
      "Date:                Sat, 22 Feb 2025   Prob (F-statistic):           3.49e-06\n",
      "Time:                        16:36:50   Log-Likelihood:                -412.59\n",
      "No. Observations:                 440   AIC:                             835.2\n",
      "Df Residuals:                     435   BIC:                             855.6\n",
      "Df Model:                           4                                         \n",
      "Covariance Type:            nonrobust                                         \n",
      "==================================================================================\n",
      "                     coef    std err          t      P>|t|      [0.025      0.975]\n",
      "----------------------------------------------------------------------------------\n",
      "Intercept          3.0896      0.480      6.436      0.000       2.146       4.033\n",
      "choroid_volume     0.2404      0.102      2.367      0.018       0.041       0.440\n",
      "tiv               -0.7853      0.412     -1.907      0.057      -1.595       0.024\n",
      "Female            -0.1253      0.086     -1.454      0.147      -0.295       0.044\n",
      "age               -0.6815      0.124     -5.498      0.000      -0.925      -0.438\n",
      "==============================================================================\n",
      "Omnibus:                       22.948   Durbin-Watson:                   1.912\n",
      "Prob(Omnibus):                  0.000   Jarque-Bera (JB):               17.307\n",
      "Skew:                           0.385   Prob(JB):                     0.000175\n",
      "Kurtosis:                       2.407   Cond. No.                         45.8\n",
      "==============================================================================\n",
      "\n",
      "Notes:\n",
      "[1] Standard Errors assume that the covariance matrix of the errors is correctly specified.\n"
     ]
    }
   ],
   "source": [
    "model = sm.OLS.from_formula(\"armss_sqrt ~ choroid_volume + tiv + Female + age\", data=df_scale)\n",
    "res = model.fit()\n",
    "print(res.summary())"
   ]
  },
  {
   "cell_type": "markdown",
   "metadata": {},
   "source": [
    "### Mediation"
   ]
  },
  {
   "cell_type": "code",
   "execution_count": 427,
   "metadata": {},
   "outputs": [
    {
     "name": "stdout",
     "output_type": "stream",
     "text": [
      "                            OLS Regression Results                            \n",
      "==============================================================================\n",
      "Dep. Variable:              edss_sqrt   R-squared:                       0.265\n",
      "Model:                            OLS   Adj. R-squared:                  0.253\n",
      "Method:                 Least Squares   F-statistic:                     22.39\n",
      "Date:                Sat, 08 Mar 2025   Prob (F-statistic):           6.96e-26\n",
      "Time:                        20:49:07   Log-Likelihood:                -559.03\n",
      "No. Observations:                 442   AIC:                             1134.\n",
      "Df Residuals:                     434   BIC:                             1167.\n",
      "Df Model:                           7                                         \n",
      "Covariance Type:            nonrobust                                         \n",
      "===================================================================================================\n",
      "                                      coef    std err          t      P>|t|      [0.025      0.975]\n",
      "---------------------------------------------------------------------------------------------------\n",
      "Intercept                          -0.0548      0.043     -1.268      0.205      -0.140       0.030\n",
      "thalamus                           -0.2389      0.059     -4.077      0.000      -0.354      -0.124\n",
      "lesion_vol_cubic                    0.0674      0.046      1.454      0.147      -0.024       0.158\n",
      "choroid_volume                     -0.0514      0.053     -0.969      0.333      -0.156       0.053\n",
      "lesion_vol_cubic:choroid_volume     0.0873      0.043      2.048      0.041       0.004       0.171\n",
      "tiv                                -0.0955      0.050     -1.900      0.058      -0.194       0.003\n",
      "age                                 0.3231      0.048      6.678      0.000       0.228       0.418\n",
      "Female                             -0.0527      0.050     -1.047      0.296      -0.152       0.046\n",
      "==============================================================================\n",
      "Omnibus:                        5.803   Durbin-Watson:                   1.974\n",
      "Prob(Omnibus):                  0.055   Jarque-Bera (JB):                5.789\n",
      "Skew:                           0.221   Prob(JB):                       0.0553\n",
      "Kurtosis:                       3.344   Cond. No.                         2.65\n",
      "==============================================================================\n",
      "\n",
      "Notes:\n",
      "[1] Standard Errors assume that the covariance matrix of the errors is correctly specified.\n"
     ]
    }
   ],
   "source": [
    "model = sm.OLS.from_formula(\"edss_sqrt ~ thalamus + lesion_vol_cubic*choroid_volume + tiv + age + Female\", data=df_z)\n",
    "res = model.fit()\n",
    "print(res.summary())"
   ]
  },
  {
   "cell_type": "code",
   "execution_count": 432,
   "metadata": {},
   "outputs": [
    {
     "name": "stdout",
     "output_type": "stream",
     "text": [
      "                            OLS Regression Results                            \n",
      "==============================================================================\n",
      "Dep. Variable:               thalamus   R-squared:                       0.520\n",
      "Model:                            OLS   Adj. R-squared:                  0.514\n",
      "Method:                 Least Squares   F-statistic:                     87.60\n",
      "Date:                Sat, 08 Mar 2025   Prob (F-statistic):           3.92e-74\n",
      "Time:                        20:52:27   Log-Likelihood:                -517.52\n",
      "No. Observations:                 492   AIC:                             1049.\n",
      "Df Residuals:                     485   BIC:                             1078.\n",
      "Df Model:                           6                                         \n",
      "Covariance Type:            nonrobust                                         \n",
      "===================================================================================================\n",
      "                                      coef    std err          t      P>|t|      [0.025      0.975]\n",
      "---------------------------------------------------------------------------------------------------\n",
      "Intercept                           0.0511      0.033      1.544      0.123      -0.014       0.116\n",
      "lesion_vol_cubic                   -0.2577      0.034     -7.630      0.000      -0.324      -0.191\n",
      "choroid_volume                     -0.3485      0.038     -9.266      0.000      -0.422      -0.275\n",
      "lesion_vol_cubic:choroid_volume    -0.1612      0.033     -4.956      0.000      -0.225      -0.097\n",
      "tiv                                 0.0153      0.039      0.395      0.693      -0.061       0.091\n",
      "age                                -0.2584      0.035     -7.304      0.000      -0.328      -0.189\n",
      "Female                              0.1403      0.039      3.603      0.000       0.064       0.217\n",
      "==============================================================================\n",
      "Omnibus:                       47.630   Durbin-Watson:                   1.941\n",
      "Prob(Omnibus):                  0.000   Jarque-Bera (JB):              119.291\n",
      "Skew:                          -0.493   Prob(JB):                     1.25e-26\n",
      "Kurtosis:                       5.202   Cond. No.                         2.17\n",
      "==============================================================================\n",
      "\n",
      "Notes:\n",
      "[1] Standard Errors assume that the covariance matrix of the errors is correctly specified.\n"
     ]
    }
   ],
   "source": [
    "model = sm.OLS.from_formula(\"thalamus ~ lesion_vol_cubic*choroid_volume + tiv + age + Female\", data=df_z)\n",
    "res = model.fit()\n",
    "print(res.summary())"
   ]
  },
  {
   "cell_type": "code",
   "execution_count": 81,
   "metadata": {},
   "outputs": [
    {
     "name": "stderr",
     "output_type": "stream",
     "text": [
      "/home/srs-9/.virtualenvs/monai/lib/python3.12/site-packages/pyprocessmacro/models.py:1567: DeprecationWarning: `product` is deprecated as of NumPy 1.25.0, and will be removed in NumPy 2.0. Please use `prod` instead.\n",
      "  grad = eval_expression(\n"
     ]
    },
    {
     "name": "stdout",
     "output_type": "stream",
     "text": [
      "Process successfully initialized.\n",
      "Based on the Process Macro by Andrew F. Hayes, Ph.D. (www.afhayes.com)\n",
      "\n",
      "\n",
      "****************************** SPECIFICATION ****************************\n",
      "\n",
      "Model = 8\n",
      "\n",
      "Variables:\n",
      "    Cons = Cons\n",
      "    x = lesion_vol_cubic\n",
      "    y = edss_sqrt\n",
      "    w = choroid_volume\n",
      "    m1 = thalamus\n",
      "Statistical Controls:\n",
      " age, Female, tiv\n",
      "\n",
      "\n",
      "\n",
      "Sample size:\n",
      "412\n",
      "\n",
      "Bootstrapping information for indirect effects:\n",
      "Final number of bootstrap samples: 5000\n",
      "Number of samples discarded due to convergence issues: 0\n",
      "\n",
      "***************************** OUTCOME MODELS ****************************\n",
      "\n",
      "Outcome = edss_sqrt \n",
      "OLS Regression Summary\n",
      "\n",
      "     R²  Adj. R²    MSE       F  df1  df2  p-value\n",
      " 0.2809   0.2661 0.7338 21.7124    7  389   0.0000\n",
      "\n",
      "Coefficients\n",
      "\n",
      "                                  coeff     se       t      p    LLCI    ULCI\n",
      "Cons                            -0.0366 0.0451 -0.8105 0.4182 -0.1251  0.0519\n",
      "lesion_vol_cubic                 0.0664 0.0494  1.3431 0.1800 -0.0305  0.1633\n",
      "choroid_volume                  -0.0737 0.0533 -1.3817 0.1679 -0.1783  0.0309\n",
      "lesion_vol_cubic*choroid_volume  0.0701 0.0447  1.5672 0.1179 -0.0176  0.1578\n",
      "age                              0.3530 0.0513  6.8754 0.0000  0.2524  0.4537\n",
      "Female                          -0.0521 0.0533 -0.9768 0.3293 -0.1565  0.0524\n",
      "tiv                             -0.0587 0.0518 -1.1329 0.2579 -0.1603  0.0429\n",
      "thalamus                        -0.2534 0.0600 -4.2212 0.0000 -0.3710 -0.1357\n",
      "\n",
      "-------------------------------------------------------------------------\n",
      "\n",
      "Outcome = thalamus \n",
      "OLS Regression Summary\n",
      "\n",
      "     R²  Adj. R²    MSE       F  df1  df2  p-value\n",
      " 0.4834   0.4741 0.5223 60.8171    6  390   0.0000\n",
      "\n",
      "Coefficients\n",
      "\n",
      "                                  coeff     se       t      p    LLCI    ULCI\n",
      "Cons                             0.0174 0.0381  0.4570 0.6479 -0.0572  0.0920\n",
      "lesion_vol_cubic                -0.3268 0.0383 -8.5351 0.0000 -0.4018 -0.2517\n",
      "choroid_volume                  -0.2812 0.0427 -6.5857 0.0000 -0.3648 -0.1975\n",
      "lesion_vol_cubic*choroid_volume -0.0681 0.0376 -1.8137 0.0705 -0.1418  0.0055\n",
      "age                             -0.2788 0.0410 -6.8071 0.0000 -0.3590 -0.1985\n",
      "Female                           0.1298 0.0445  2.9181 0.0037  0.0426  0.2169\n",
      "tiv                              0.0052 0.0437  0.1200 0.9045 -0.0805  0.0910\n",
      "\n",
      "-------------------------------------------------------------------------\n",
      "\n",
      "\n",
      "********************** DIRECT AND INDIRECT EFFECTS **********************\n",
      "\n",
      "Conditional direct effect(s) of lesion_vol_cubic on edss_sqrt at values of the moderator(s):\n",
      "\n",
      "  choroid_volume  Effect     SE       t      p    LLCI   ULCI\n",
      "         -0.9939 -0.0033 0.0669 -0.0489 0.9610 -0.1345 0.1279\n",
      "          0.0087  0.0670 0.0494  1.3555 0.1760 -0.0299 0.1639\n",
      "          1.0113  0.1373 0.0665  2.0629 0.0398  0.0069 0.2677\n",
      "\n",
      "Conditional indirect effect(s) of lesion_vol_cubic on edss_sqrt at values of the moderator(s):\n",
      "\n",
      "  Mediator  choroid_volume  Effect  Boot SE  BootLLCI  BootULCI\n",
      "  thalamus         -0.9939  0.0656   0.0295    0.0238    0.1438\n",
      "  thalamus          0.0087  0.0829   0.0265    0.0384    0.1435\n",
      "  thalamus          1.0113  0.1003   0.0344    0.0449    0.1808\n",
      "\n",
      "**************** INDEX OF MODERATED MEDIATION ******************\n",
      "\n",
      "       Moderator  Mediator  Index  Boot SE    LLCI   ULCI\n",
      "  choroid_volume  thalamus 0.0173   0.0179 -0.0138 0.0579\n",
      "\n",
      "\n"
     ]
    },
    {
     "name": "stderr",
     "output_type": "stream",
     "text": [
      "/home/srs-9/.virtualenvs/monai/lib/python3.12/site-packages/pyprocessmacro/models.py:738: DeprecationWarning: `product` is deprecated as of NumPy 1.25.0, and will be removed in NumPy 2.0. Please use `prod` instead.\n",
      "  expr_x_to_m = eval_expression(der_x_to_m, mod_dict)\n",
      "/home/srs-9/.virtualenvs/monai/lib/python3.12/site-packages/pyprocessmacro/models.py:739: DeprecationWarning: `product` is deprecated as of NumPy 1.25.0, and will be removed in NumPy 2.0. Please use `prod` instead.\n",
      "  expr_m_to_y = eval_expression(der_m_to_y, mod_dict)\n",
      "/home/srs-9/.virtualenvs/monai/lib/python3.12/site-packages/pyprocessmacro/models.py:752: DeprecationWarning: the `interpolation=` argument to percentile was renamed to `method=`, which has additional options.\n",
      "Users of the modes 'nearest', 'lower', 'higher', or 'midpoint' are encouraged to review the method they used. (Deprecated NumPy 1.22)\n",
      "  llci, ulci = bias_corrected_ci(e, be, conf)\n",
      "/home/srs-9/.virtualenvs/monai/lib/python3.12/site-packages/pyprocessmacro/models.py:1188: FutureWarning: errors='ignore' is deprecated and will raise in a future version. Use to_numeric without passing `errors` and catch exceptions explicitly instead\n",
      "  return df.apply(pd.to_numeric, args=[\"ignore\"])\n",
      "/home/srs-9/.virtualenvs/monai/lib/python3.12/site-packages/pyprocessmacro/models.py:738: DeprecationWarning: `product` is deprecated as of NumPy 1.25.0, and will be removed in NumPy 2.0. Please use `prod` instead.\n",
      "  expr_x_to_m = eval_expression(der_x_to_m, mod_dict)\n",
      "/home/srs-9/.virtualenvs/monai/lib/python3.12/site-packages/pyprocessmacro/models.py:739: DeprecationWarning: `product` is deprecated as of NumPy 1.25.0, and will be removed in NumPy 2.0. Please use `prod` instead.\n",
      "  expr_m_to_y = eval_expression(der_m_to_y, mod_dict)\n",
      "/home/srs-9/.virtualenvs/monai/lib/python3.12/site-packages/pyprocessmacro/models.py:752: DeprecationWarning: the `interpolation=` argument to percentile was renamed to `method=`, which has additional options.\n",
      "Users of the modes 'nearest', 'lower', 'higher', or 'midpoint' are encouraged to review the method they used. (Deprecated NumPy 1.22)\n",
      "  llci, ulci = bias_corrected_ci(e, be, conf)\n",
      "/home/srs-9/.virtualenvs/monai/lib/python3.12/site-packages/pyprocessmacro/models.py:915: DeprecationWarning: the `interpolation=` argument to percentile was renamed to `method=`, which has additional options.\n",
      "Users of the modes 'nearest', 'lower', 'higher', or 'midpoint' are encouraged to review the method they used. (Deprecated NumPy 1.22)\n",
      "  llci[i], ulci[i] = bias_corrected_ci(e_mm, be_mm, conf)\n",
      "/home/srs-9/.virtualenvs/monai/lib/python3.12/site-packages/pyprocessmacro/models.py:1252: FutureWarning: errors='ignore' is deprecated and will raise in a future version. Use to_numeric without passing `errors` and catch exceptions explicitly instead\n",
      "  return df.apply(pd.to_numeric, args=[\"ignore\"])\n"
     ]
    }
   ],
   "source": [
    "p2 = Process(data=data_ms_z, model=8, x=\"lesion_vol_cubic\", y=\"edss_sqrt\", w=\"choroid_volume\",\n",
    "            m=[\"thalamus\"],\n",
    "            controls=[\"age\", \"Female\", \"tiv\"],\n",
    "            controls_in=\"all\")\n",
    "p2.summary()"
   ]
  },
  {
   "cell_type": "code",
   "execution_count": null,
   "metadata": {},
   "outputs": [
    {
     "data": {
      "application/vnd.microsoft.datawrangler.viewer.v0+json": {
       "columns": [
        {
         "name": "index",
         "rawType": "object",
         "type": "string"
        },
        {
         "name": "R²",
         "rawType": "float64",
         "type": "float"
        },
        {
         "name": "Adj. R²",
         "rawType": "float64",
         "type": "float"
        },
        {
         "name": "MSE",
         "rawType": "float64",
         "type": "float"
        },
        {
         "name": "F",
         "rawType": "float64",
         "type": "float"
        },
        {
         "name": "df1",
         "rawType": "int64",
         "type": "integer"
        },
        {
         "name": "df2",
         "rawType": "int64",
         "type": "integer"
        },
        {
         "name": "p-value",
         "rawType": "float64",
         "type": "float"
        }
       ],
       "conversionMethod": "pd.DataFrame",
       "ref": "aac23fad-a3ab-4909-bedd-223d38a6be7f",
       "rows": [
        [
         "",
         "0.28249457337844",
         "0.267700647056346",
         "0.7322613222847284",
         "21.879454041531904",
         "7",
         "389",
         "1.1102230246251565e-16"
        ]
       ],
       "shape": {
        "columns": 7,
        "rows": 1
       }
      },
      "text/html": [
       "<div>\n",
       "<style scoped>\n",
       "    .dataframe tbody tr th:only-of-type {\n",
       "        vertical-align: middle;\n",
       "    }\n",
       "\n",
       "    .dataframe tbody tr th {\n",
       "        vertical-align: top;\n",
       "    }\n",
       "\n",
       "    .dataframe thead th {\n",
       "        text-align: right;\n",
       "    }\n",
       "</style>\n",
       "<table border=\"1\" class=\"dataframe\">\n",
       "  <thead>\n",
       "    <tr style=\"text-align: right;\">\n",
       "      <th></th>\n",
       "      <th>R²</th>\n",
       "      <th>Adj. R²</th>\n",
       "      <th>MSE</th>\n",
       "      <th>F</th>\n",
       "      <th>df1</th>\n",
       "      <th>df2</th>\n",
       "      <th>p-value</th>\n",
       "    </tr>\n",
       "  </thead>\n",
       "  <tbody>\n",
       "    <tr>\n",
       "      <th></th>\n",
       "      <td>0.282</td>\n",
       "      <td>0.268</td>\n",
       "      <td>0.732</td>\n",
       "      <td>21.879</td>\n",
       "      <td>7</td>\n",
       "      <td>389</td>\n",
       "      <td>1.110e-16</td>\n",
       "    </tr>\n",
       "  </tbody>\n",
       "</table>\n",
       "</div>"
      ],
      "text/plain": [
       "     R²  Adj. R²    MSE       F  df1  df2    p-value\n",
       "  0.282    0.268  0.732  21.879    7  389  1.110e-16"
      ]
     },
     "execution_count": 540,
     "metadata": {},
     "output_type": "execute_result"
    }
   ],
   "source": []
  },
  {
   "cell_type": "code",
   "execution_count": 541,
   "metadata": {},
   "outputs": [
    {
     "name": "stderr",
     "output_type": "stream",
     "text": [
      "/home/srs-9/.virtualenvs/monai/lib/python3.12/site-packages/pyprocessmacro/models.py:1188: FutureWarning: errors='ignore' is deprecated and will raise in a future version. Use to_numeric without passing `errors` and catch exceptions explicitly instead\n",
      "  return df.apply(pd.to_numeric, args=[\"ignore\"])\n"
     ]
    }
   ],
   "source": [
    "process_output = curr_dir / \"process_output\"\n",
    "p2.outcome_models['edss_sqrt'].model_summary().to_csv(process_output / \"outcome_model_edss_summary.csv\")\n",
    "p2.outcome_models['thalamus'].model_summary().to_csv(process_output / \"outcome_model_thal_summary.csv\")\n",
    "p2.outcome_models['thalamus'].coeff_summary().to_csv(process_output / \"outcome_model_thal.csv\")\n",
    "p2.outcome_models['edss_sqrt'].coeff_summary().to_csv(process_output / \"outcome_model_edss.csv\")\n",
    "p2.direct_model.coeff_summary().to_csv(process_output / \"direct_model.csv\")\n",
    "p2.indirect_model.coeff_summary().to_csv(process_output / \"indirect_model.csv\")"
   ]
  },
  {
   "cell_type": "code",
   "execution_count": 485,
   "metadata": {},
   "outputs": [
    {
     "name": "stdout",
     "output_type": "stream",
     "text": [
      "R2:     0.276\n",
      "R2_adj: 0.263\n",
      "                                  coef      p\n",
      "Intercept                       -0.052  0.254\n",
      "choroid_volume                  -0.060  0.289\n",
      "lesion_vol_cubic                 0.065  0.191\n",
      "choroid_volume:lesion_vol_cubic  0.105  0.018\n",
      "thalamus                        -0.246  0.000\n",
      "tiv                             -0.050  0.338\n",
      "age                              0.329  0.000\n",
      "Female                          -0.065  0.226\n"
     ]
    }
   ],
   "source": [
    "moderation_model = sm.OLS.from_formula(\"EDSS ~ choroid_volume*lesion_vol_cubic + thalamus + tiv + age + Female\", data=data_ms_z)\n",
    "res = moderation_model.fit()\n",
    "summary = pd.DataFrame({'coef': res.params, 'p': res.pvalues.round(3)})\n",
    "print(\"R2:     {:0.3}\".format(res.rsquared))\n",
    "print(\"R2_adj: {:0.3}\".format(res.rsquared_adj))\n",
    "print(summary)"
   ]
  },
  {
   "cell_type": "markdown",
   "metadata": {},
   "source": [
    "Notes for the moderated mediation model before:\n",
    "\n",
    "When including thalamus and choroid:lesion_vol, the coefficient for choroid flips signs. Actually, including the thalamus at all with choroid flips the choroid sign. The choroid effect just isn't significant "
   ]
  },
  {
   "cell_type": "code",
   "execution_count": 464,
   "metadata": {},
   "outputs": [
    {
     "name": "stderr",
     "output_type": "stream",
     "text": [
      "/home/srs-9/.virtualenvs/monai/lib/python3.12/site-packages/pyprocessmacro/models.py:1567: DeprecationWarning: `product` is deprecated as of NumPy 1.25.0, and will be removed in NumPy 2.0. Please use `prod` instead.\n",
      "  grad = eval_expression(\n"
     ]
    },
    {
     "name": "stdout",
     "output_type": "stream",
     "text": [
      "Process successfully initialized.\n",
      "Based on the Process Macro by Andrew F. Hayes, Ph.D. (www.afhayes.com)\n",
      "\n",
      "\n",
      "****************************** SPECIFICATION ****************************\n",
      "\n",
      "Model = 8\n",
      "\n",
      "Variables:\n",
      "    Cons = Cons\n",
      "    x = lesion_vol_cubic\n",
      "    y = edss_sqrt\n",
      "    w = choroid_volume2\n",
      "    m1 = thalamus\n",
      "Statistical Controls:\n",
      " age, Female, tiv\n",
      "\n",
      "\n",
      "\n",
      "Sample size:\n",
      "412\n",
      "\n",
      "Bootstrapping information for indirect effects:\n",
      "Final number of bootstrap samples: 5000\n",
      "Number of samples discarded due to convergence issues: 0\n"
     ]
    },
    {
     "name": "stderr",
     "output_type": "stream",
     "text": [
      "/home/srs-9/.virtualenvs/monai/lib/python3.12/site-packages/pyprocessmacro/models.py:738: DeprecationWarning: `product` is deprecated as of NumPy 1.25.0, and will be removed in NumPy 2.0. Please use `prod` instead.\n",
      "  expr_x_to_m = eval_expression(der_x_to_m, mod_dict)\n",
      "/home/srs-9/.virtualenvs/monai/lib/python3.12/site-packages/pyprocessmacro/models.py:739: DeprecationWarning: `product` is deprecated as of NumPy 1.25.0, and will be removed in NumPy 2.0. Please use `prod` instead.\n",
      "  expr_m_to_y = eval_expression(der_m_to_y, mod_dict)\n",
      "/home/srs-9/.virtualenvs/monai/lib/python3.12/site-packages/pyprocessmacro/models.py:752: DeprecationWarning: the `interpolation=` argument to percentile was renamed to `method=`, which has additional options.\n",
      "Users of the modes 'nearest', 'lower', 'higher', or 'midpoint' are encouraged to review the method they used. (Deprecated NumPy 1.22)\n",
      "  llci, ulci = bias_corrected_ci(e, be, conf)\n",
      "/home/srs-9/.virtualenvs/monai/lib/python3.12/site-packages/pyprocessmacro/models.py:1188: FutureWarning: errors='ignore' is deprecated and will raise in a future version. Use to_numeric without passing `errors` and catch exceptions explicitly instead\n",
      "  return df.apply(pd.to_numeric, args=[\"ignore\"])\n",
      "/home/srs-9/.virtualenvs/monai/lib/python3.12/site-packages/pyprocessmacro/models.py:738: DeprecationWarning: `product` is deprecated as of NumPy 1.25.0, and will be removed in NumPy 2.0. Please use `prod` instead.\n",
      "  expr_x_to_m = eval_expression(der_x_to_m, mod_dict)\n",
      "/home/srs-9/.virtualenvs/monai/lib/python3.12/site-packages/pyprocessmacro/models.py:739: DeprecationWarning: `product` is deprecated as of NumPy 1.25.0, and will be removed in NumPy 2.0. Please use `prod` instead.\n",
      "  expr_m_to_y = eval_expression(der_m_to_y, mod_dict)\n",
      "/home/srs-9/.virtualenvs/monai/lib/python3.12/site-packages/pyprocessmacro/models.py:752: DeprecationWarning: the `interpolation=` argument to percentile was renamed to `method=`, which has additional options.\n",
      "Users of the modes 'nearest', 'lower', 'higher', or 'midpoint' are encouraged to review the method they used. (Deprecated NumPy 1.22)\n",
      "  llci, ulci = bias_corrected_ci(e, be, conf)\n",
      "/home/srs-9/.virtualenvs/monai/lib/python3.12/site-packages/pyprocessmacro/models.py:915: DeprecationWarning: the `interpolation=` argument to percentile was renamed to `method=`, which has additional options.\n",
      "Users of the modes 'nearest', 'lower', 'higher', or 'midpoint' are encouraged to review the method they used. (Deprecated NumPy 1.22)\n",
      "  llci[i], ulci[i] = bias_corrected_ci(e_mm, be_mm, conf)\n",
      "/home/srs-9/.virtualenvs/monai/lib/python3.12/site-packages/pyprocessmacro/models.py:1252: FutureWarning: errors='ignore' is deprecated and will raise in a future version. Use to_numeric without passing `errors` and catch exceptions explicitly instead\n",
      "  return df.apply(pd.to_numeric, args=[\"ignore\"])\n"
     ]
    }
   ],
   "source": [
    "model_data = data_ms\n",
    "model_data['choroid_volume2'] = model_data['choroid_volume'] / 1000\n",
    "\n",
    "p2 = Process(data=model_data, model=8, x=\"lesion_vol_cubic\", y=\"edss_sqrt\", w=\"choroid_volume2\",\n",
    "            m=[\"thalamus\"],\n",
    "            controls=[\"age\", \"Female\", \"tiv\"],\n",
    "            controls_in=\"all\")\n",
    "\n",
    "# p2.summary()\n",
    "\n",
    "orig_stdout = sys.stdout\n",
    "with open(\"process_macro_out.txt\", 'w') as f:\n",
    "    sys.stdout = f\n",
    "    p2.summary()\n",
    "    # print(p2.summary(), file=f)\n",
    "sys.stdout = orig_stdout"
   ]
  },
  {
   "cell_type": "code",
   "execution_count": 486,
   "metadata": {},
   "outputs": [
    {
     "name": "stderr",
     "output_type": "stream",
     "text": [
      "/home/srs-9/.virtualenvs/monai/lib/python3.12/site-packages/pyprocessmacro/models.py:1567: DeprecationWarning: `product` is deprecated as of NumPy 1.25.0, and will be removed in NumPy 2.0. Please use `prod` instead.\n",
      "  grad = eval_expression(\n"
     ]
    },
    {
     "name": "stdout",
     "output_type": "stream",
     "text": [
      "Process successfully initialized.\n",
      "Based on the Process Macro by Andrew F. Hayes, Ph.D. (www.afhayes.com)\n",
      "\n",
      "\n",
      "****************************** SPECIFICATION ****************************\n",
      "\n",
      "Model = 8\n",
      "\n",
      "Variables:\n",
      "    Cons = Cons\n",
      "    x = lesion_vol_cubic\n",
      "    y = edss_sqrt\n",
      "    w = choroid_volume\n",
      "    m1 = thalamus\n",
      "Statistical Controls:\n",
      " age, Female, tiv\n",
      "\n",
      "\n",
      "\n",
      "Sample size:\n",
      "412\n",
      "\n",
      "Bootstrapping information for indirect effects:\n",
      "Final number of bootstrap samples: 5000\n",
      "Number of samples discarded due to convergence issues: 0\n"
     ]
    },
    {
     "name": "stderr",
     "output_type": "stream",
     "text": [
      "/home/srs-9/.virtualenvs/monai/lib/python3.12/site-packages/pyprocessmacro/models.py:738: DeprecationWarning: `product` is deprecated as of NumPy 1.25.0, and will be removed in NumPy 2.0. Please use `prod` instead.\n",
      "  expr_x_to_m = eval_expression(der_x_to_m, mod_dict)\n",
      "/home/srs-9/.virtualenvs/monai/lib/python3.12/site-packages/pyprocessmacro/models.py:739: DeprecationWarning: `product` is deprecated as of NumPy 1.25.0, and will be removed in NumPy 2.0. Please use `prod` instead.\n",
      "  expr_m_to_y = eval_expression(der_m_to_y, mod_dict)\n",
      "/home/srs-9/.virtualenvs/monai/lib/python3.12/site-packages/pyprocessmacro/models.py:752: DeprecationWarning: the `interpolation=` argument to percentile was renamed to `method=`, which has additional options.\n",
      "Users of the modes 'nearest', 'lower', 'higher', or 'midpoint' are encouraged to review the method they used. (Deprecated NumPy 1.22)\n",
      "  llci, ulci = bias_corrected_ci(e, be, conf)\n",
      "/home/srs-9/.virtualenvs/monai/lib/python3.12/site-packages/pyprocessmacro/models.py:1188: FutureWarning: errors='ignore' is deprecated and will raise in a future version. Use to_numeric without passing `errors` and catch exceptions explicitly instead\n",
      "  return df.apply(pd.to_numeric, args=[\"ignore\"])\n",
      "/home/srs-9/.virtualenvs/monai/lib/python3.12/site-packages/pyprocessmacro/models.py:738: DeprecationWarning: `product` is deprecated as of NumPy 1.25.0, and will be removed in NumPy 2.0. Please use `prod` instead.\n",
      "  expr_x_to_m = eval_expression(der_x_to_m, mod_dict)\n",
      "/home/srs-9/.virtualenvs/monai/lib/python3.12/site-packages/pyprocessmacro/models.py:739: DeprecationWarning: `product` is deprecated as of NumPy 1.25.0, and will be removed in NumPy 2.0. Please use `prod` instead.\n",
      "  expr_m_to_y = eval_expression(der_m_to_y, mod_dict)\n",
      "/home/srs-9/.virtualenvs/monai/lib/python3.12/site-packages/pyprocessmacro/models.py:752: DeprecationWarning: the `interpolation=` argument to percentile was renamed to `method=`, which has additional options.\n",
      "Users of the modes 'nearest', 'lower', 'higher', or 'midpoint' are encouraged to review the method they used. (Deprecated NumPy 1.22)\n",
      "  llci, ulci = bias_corrected_ci(e, be, conf)\n",
      "/home/srs-9/.virtualenvs/monai/lib/python3.12/site-packages/pyprocessmacro/models.py:915: DeprecationWarning: the `interpolation=` argument to percentile was renamed to `method=`, which has additional options.\n",
      "Users of the modes 'nearest', 'lower', 'higher', or 'midpoint' are encouraged to review the method they used. (Deprecated NumPy 1.22)\n",
      "  llci[i], ulci[i] = bias_corrected_ci(e_mm, be_mm, conf)\n",
      "/home/srs-9/.virtualenvs/monai/lib/python3.12/site-packages/pyprocessmacro/models.py:1252: FutureWarning: errors='ignore' is deprecated and will raise in a future version. Use to_numeric without passing `errors` and catch exceptions explicitly instead\n",
      "  return df.apply(pd.to_numeric, args=[\"ignore\"])\n"
     ]
    }
   ],
   "source": [
    "p2 = Process(data=data_ms_z, model=8, x=\"lesion_vol_cubic\", y=\"edss_sqrt\", w=\"choroid_volume\",\n",
    "            m=[\"thalamus\"],\n",
    "            controls=[\"age\", \"Female\", \"tiv\"],\n",
    "            controls_in=\"all\")\n",
    "\n",
    "# p2.summary()\n",
    "\n",
    "orig_stdout = sys.stdout\n",
    "with open(\"process_macro_out2.txt\", 'w') as f:\n",
    "    sys.stdout = f\n",
    "    p2.summary()\n",
    "    # print(p2.summary(), file=f)\n",
    "sys.stdout = orig_stdout"
   ]
  },
  {
   "cell_type": "code",
   "execution_count": 443,
   "metadata": {},
   "outputs": [
    {
     "name": "stderr",
     "output_type": "stream",
     "text": [
      "/home/srs-9/.virtualenvs/monai/lib/python3.12/site-packages/pyprocessmacro/models.py:1567: DeprecationWarning: `product` is deprecated as of NumPy 1.25.0, and will be removed in NumPy 2.0. Please use `prod` instead.\n",
      "  grad = eval_expression(\n"
     ]
    },
    {
     "data": {
      "image/png": "[encoded data removed]",
      "text/plain": [
       "<Figure size 300x300 with 1 Axes>"
      ]
     },
     "metadata": {},
     "output_type": "display_data"
    }
   ],
   "source": [
    "g = p2.plot_conditional_direct_effects(x=\"choroid_volume2\")"
   ]
  },
  {
   "cell_type": "code",
   "execution_count": 75,
   "metadata": {},
   "outputs": [
    {
     "data": {
      "application/vnd.microsoft.datawrangler.viewer.v0+json": {
       "columns": [
        {
         "name": "index",
         "rawType": "object",
         "type": "string"
        },
        {
         "name": "Estimate",
         "rawType": "float64",
         "type": "float"
        },
        {
         "name": "Lower CI bound",
         "rawType": "float64",
         "type": "float"
        },
        {
         "name": "Upper CI bound",
         "rawType": "float64",
         "type": "float"
        },
        {
         "name": "P-value",
         "rawType": "float64",
         "type": "float"
        }
       ],
       "conversionMethod": "pd.DataFrame",
       "ref": "4b2a8792-05de-4610-ba17-6624ba920425",
       "rows": [
        [
         "ACME (control)",
         "0.10699619413270116",
         "0.05472400216096038",
         "0.17499491516117494",
         "0.0"
        ],
        [
         "ACME (treated)",
         "0.10699619413270116",
         "0.05472400216096039",
         "0.1749949151611749",
         "0.0"
        ],
        [
         "ADE (control)",
         "0.06799110469259265",
         "-0.10254727444978726",
         "0.2197485507873228",
         "0.426"
        ],
        [
         "ADE (treated)",
         "0.06799110469259265",
         "-0.10254727444978723",
         "0.21974855078732278",
         "0.426"
        ],
        [
         "Total effect",
         "0.17498729882529382",
         "0.011622607100190049",
         "0.33105671012075827",
         "0.036"
        ],
        [
         "Prop. mediated (control)",
         "0.5884303717657069",
         "0.19352378609163562",
         "2.957493330861392",
         "0.036"
        ],
        [
         "Prop. mediated (treated)",
         "0.5884303717657069",
         "0.19352378609163562",
         "2.9574933308613933",
         "0.036"
        ],
        [
         "ACME (average)",
         "0.10699619413270116",
         "0.054724002160960385",
         "0.1749949151611749",
         "0.0"
        ],
        [
         "ADE (average)",
         "0.06799110469259266",
         "-0.10254727444978724",
         "0.2197485507873228",
         "0.426"
        ],
        [
         "Prop. mediated (average)",
         "0.5884303717657069",
         "0.19352378609163562",
         "2.957493330861393",
         "0.036"
        ]
       ],
       "shape": {
        "columns": 4,
        "rows": 10
       }
      },
      "text/html": [
       "<div>\n",
       "<style scoped>\n",
       "    .dataframe tbody tr th:only-of-type {\n",
       "        vertical-align: middle;\n",
       "    }\n",
       "\n",
       "    .dataframe tbody tr th {\n",
       "        vertical-align: top;\n",
       "    }\n",
       "\n",
       "    .dataframe thead th {\n",
       "        text-align: right;\n",
       "    }\n",
       "</style>\n",
       "<table border=\"1\" class=\"dataframe\">\n",
       "  <thead>\n",
       "    <tr style=\"text-align: right;\">\n",
       "      <th></th>\n",
       "      <th>Estimate</th>\n",
       "      <th>Lower CI bound</th>\n",
       "      <th>Upper CI bound</th>\n",
       "      <th>P-value</th>\n",
       "    </tr>\n",
       "  </thead>\n",
       "  <tbody>\n",
       "    <tr>\n",
       "      <th>ACME (control)</th>\n",
       "      <td>0.106996</td>\n",
       "      <td>0.054724</td>\n",
       "      <td>0.174995</td>\n",
       "      <td>0.000</td>\n",
       "    </tr>\n",
       "    <tr>\n",
       "      <th>ACME (treated)</th>\n",
       "      <td>0.106996</td>\n",
       "      <td>0.054724</td>\n",
       "      <td>0.174995</td>\n",
       "      <td>0.000</td>\n",
       "    </tr>\n",
       "    <tr>\n",
       "      <th>ADE (control)</th>\n",
       "      <td>0.067991</td>\n",
       "      <td>-0.102547</td>\n",
       "      <td>0.219749</td>\n",
       "      <td>0.426</td>\n",
       "    </tr>\n",
       "    <tr>\n",
       "      <th>ADE (treated)</th>\n",
       "      <td>0.067991</td>\n",
       "      <td>-0.102547</td>\n",
       "      <td>0.219749</td>\n",
       "      <td>0.426</td>\n",
       "    </tr>\n",
       "    <tr>\n",
       "      <th>Total effect</th>\n",
       "      <td>0.174987</td>\n",
       "      <td>0.011623</td>\n",
       "      <td>0.331057</td>\n",
       "      <td>0.036</td>\n",
       "    </tr>\n",
       "    <tr>\n",
       "      <th>Prop. mediated (control)</th>\n",
       "      <td>0.588430</td>\n",
       "      <td>0.193524</td>\n",
       "      <td>2.957493</td>\n",
       "      <td>0.036</td>\n",
       "    </tr>\n",
       "    <tr>\n",
       "      <th>Prop. mediated (treated)</th>\n",
       "      <td>0.588430</td>\n",
       "      <td>0.193524</td>\n",
       "      <td>2.957493</td>\n",
       "      <td>0.036</td>\n",
       "    </tr>\n",
       "    <tr>\n",
       "      <th>ACME (average)</th>\n",
       "      <td>0.106996</td>\n",
       "      <td>0.054724</td>\n",
       "      <td>0.174995</td>\n",
       "      <td>0.000</td>\n",
       "    </tr>\n",
       "    <tr>\n",
       "      <th>ADE (average)</th>\n",
       "      <td>0.067991</td>\n",
       "      <td>-0.102547</td>\n",
       "      <td>0.219749</td>\n",
       "      <td>0.426</td>\n",
       "    </tr>\n",
       "    <tr>\n",
       "      <th>Prop. mediated (average)</th>\n",
       "      <td>0.588430</td>\n",
       "      <td>0.193524</td>\n",
       "      <td>2.957493</td>\n",
       "      <td>0.036</td>\n",
       "    </tr>\n",
       "  </tbody>\n",
       "</table>\n",
       "</div>"
      ],
      "text/plain": [
       "                          Estimate  Lower CI bound  Upper CI bound  P-value\n",
       "ACME (control)            0.106996        0.054724        0.174995    0.000\n",
       "ACME (treated)            0.106996        0.054724        0.174995    0.000\n",
       "ADE (control)             0.067991       -0.102547        0.219749    0.426\n",
       "ADE (treated)             0.067991       -0.102547        0.219749    0.426\n",
       "Total effect              0.174987        0.011623        0.331057    0.036\n",
       "Prop. mediated (control)  0.588430        0.193524        2.957493    0.036\n",
       "Prop. mediated (treated)  0.588430        0.193524        2.957493    0.036\n",
       "ACME (average)            0.106996        0.054724        0.174995    0.000\n",
       "ADE (average)             0.067991       -0.102547        0.219749    0.426\n",
       "Prop. mediated (average)  0.588430        0.193524        2.957493    0.036"
      ]
     },
     "execution_count": 75,
     "metadata": {},
     "output_type": "execute_result"
    }
   ],
   "source": [
    "outcome_model = sm.OLS.from_formula(\n",
    "    \"edss_sqrt ~ choroid_volume + lesion_vol_logtrans + age + tiv + Female\", data=df_scale\n",
    ")\n",
    "mediator_model = sm.OLS.from_formula(\n",
    "    \"lesion_vol_logtrans ~ choroid_volume + age + tiv + Female\", data=df_scale\n",
    ")\n",
    "\n",
    "med = Mediation(\n",
    "    outcome_model, mediator_model, \"choroid_volume\", \"lesion_vol_logtrans\"\n",
    ").fit(method=\"bootstrap\")\n",
    "med.summary()"
   ]
  },
  {
   "cell_type": "markdown",
   "metadata": {},
   "source": [
    "PRL does not mediate the association between lesion count and EDSS"
   ]
  },
  {
   "cell_type": "code",
   "execution_count": 74,
   "metadata": {},
   "outputs": [
    {
     "name": "stdout",
     "output_type": "stream",
     "text": [
      "                          Estimate  Lower CI bound  Upper CI bound  P-value\n",
      "ACME (control)            0.003839       -0.000646        0.010799    0.120\n",
      "ACME (treated)            0.003839       -0.000646        0.010799    0.116\n",
      "ADE (control)             0.042244        0.001254        0.083481    0.042\n",
      "ADE (treated)             0.042244        0.001254        0.083481    0.042\n",
      "Total effect              0.046083        0.005338        0.087924    0.030\n",
      "Prop. mediated (control)  0.076149       -0.048580        0.438222    0.150\n",
      "Prop. mediated (treated)  0.076149       -0.048580        0.438222    0.146\n",
      "ACME (average)            0.003839       -0.000646        0.010799    0.120\n",
      "ADE (average)             0.042244        0.001254        0.083481    0.042\n",
      "Prop. mediated (average)  0.076149       -0.048580        0.438222    0.150\n"
     ]
    }
   ],
   "source": [
    "model_data = df_scale_ms.dropna()\n",
    "outcome_model = sm.OLS.from_formula(\"edss_sqrt ~ lesion_count + PRL + age + Female + tiv\", data=model_data)\n",
    "# print(outcome_model.fit().summary())\n",
    "\n",
    "mediator_model = sm.GLM.from_formula(\"PRL ~ lesion_count + age + Female + tiv\", data=model_data, family=sm.families.Poisson())\n",
    "# print(mediator_model.fit().summary())\n",
    "\n",
    "med = Mediation(\n",
    "    outcome_model, mediator_model, \"lesion_count\", \"PRL\"\n",
    ").fit()\n",
    "print(med.summary())"
   ]
  },
  {
   "cell_type": "code",
   "execution_count": 161,
   "metadata": {},
   "outputs": [
    {
     "name": "stdout",
     "output_type": "stream",
     "text": [
      "                 Generalized Linear Model Regression Results                  \n",
      "==============================================================================\n",
      "Dep. Variable:                    PRL   No. Observations:                  371\n",
      "Model:                            GLM   Df Residuals:                      367\n",
      "Model Family:                 Poisson   Df Model:                            3\n",
      "Link Function:                    Log   Scale:                          1.0000\n",
      "Method:                          IRLS   Log-Likelihood:                -677.32\n",
      "Date:                Sat, 01 Mar 2025   Deviance:                       975.59\n",
      "Time:                        16:05:21   Pearson chi2:                 1.40e+03\n",
      "No. Iterations:                     5   Pseudo R-squ. (CS):             0.2707\n",
      "Covariance Type:            nonrobust                                         \n",
      "==============================================================================\n",
      "                 coef    std err          z      P>|z|      [0.025      0.975]\n",
      "------------------------------------------------------------------------------\n",
      "Intercept      2.4501      0.216     11.368      0.000       2.028       2.873\n",
      "PMS            0.1680      0.145      1.155      0.248      -0.117       0.453\n",
      "age           -2.0948      0.216     -9.677      0.000      -2.519      -1.670\n",
      "Female        -0.5062      0.110     -4.607      0.000      -0.722      -0.291\n",
      "==============================================================================\n"
     ]
    }
   ],
   "source": [
    "model_data = df_scale.copy()\n",
    "model_data = model_data.loc[df['dz_type5'].isin([\"RMS\", \"PMS\"]), :].dropna()\n",
    "model_data = pd.concat(\n",
    "    (model_data, pd.get_dummies(model_data['dz_type5'])), axis=1\n",
    ")\n",
    "model_data['PMS'] = model_data['PMS'].astype(\"int64\")\n",
    "\n",
    "model = sm.GLM.from_formula(\"PRL ~ PMS + age + Female\", data=model_data, family=sm.families.Poisson())\n",
    "res = model.fit()\n",
    "print(res.summary())"
   ]
  },
  {
   "cell_type": "markdown",
   "metadata": {},
   "source": [
    "### Predicting MS Phenotype"
   ]
  },
  {
   "cell_type": "markdown",
   "metadata": {},
   "source": [
    "Logistic regression on PMS"
   ]
  },
  {
   "cell_type": "code",
   "execution_count": 160,
   "metadata": {},
   "outputs": [
    {
     "name": "stdout",
     "output_type": "stream",
     "text": [
      "Optimization terminated successfully.\n",
      "         Current function value: 0.379418\n",
      "         Iterations 7\n",
      "                           Logit Regression Results                           \n",
      "==============================================================================\n",
      "Dep. Variable:                    PMS   No. Observations:                  410\n",
      "Model:                          Logit   Df Residuals:                      405\n",
      "Method:                           MLE   Df Model:                            4\n",
      "Date:                Fri, 28 Feb 2025   Pseudo R-squ.:                  0.2518\n",
      "Time:                        16:07:18   Log-Likelihood:                -155.56\n",
      "converged:                       True   LL-Null:                       -207.91\n",
      "Covariance Type:            nonrobust   LLR p-value:                 9.854e-22\n",
      "==============================================================================\n",
      "                 coef    std err          z      P>|z|      [0.025      0.975]\n",
      "------------------------------------------------------------------------------\n",
      "Intercept     -1.9558      0.190    -10.310      0.000      -2.328      -1.584\n",
      "PRL            0.1270      0.151      0.840      0.401      -0.169       0.423\n",
      "age            1.4288      0.193      7.391      0.000       1.050       1.808\n",
      "tiv           -0.2075      0.175     -1.185      0.236      -0.550       0.136\n",
      "Female        -0.6028      0.160     -3.774      0.000      -0.916      -0.290\n",
      "==============================================================================\n"
     ]
    }
   ],
   "source": [
    "model_data = df_z.loc[df_z['dz_type5'].isin(['RMS', 'PMS'])]\n",
    "model_data = pd.concat(\n",
    "    (model_data, pd.get_dummies(model_data['dz_type5'])), axis=1\n",
    ")\n",
    "model_data['PMS'] = model_data['PMS'].astype(\"int64\")\n",
    "\n",
    "# logit_mod = sm.Logit.from_formula(\"PMS ~ choroid_volume + lesion_vol_cubic + dzdur + age + tiv + Female\", data=model_data)\n",
    "logit_mod = sm.Logit.from_formula(\"PMS ~ PRL + age + tiv + Female\", data=model_data)\n",
    "res = logit_mod.fit()\n",
    "print(res.summary())"
   ]
  },
  {
   "cell_type": "code",
   "execution_count": 84,
   "metadata": {},
   "outputs": [
    {
     "name": "stdout",
     "output_type": "stream",
     "text": [
      "Optimization terminated successfully.\n",
      "         Current function value: 0.416241\n",
      "         Iterations 6\n",
      "                           Logit Regression Results                           \n",
      "==============================================================================\n",
      "Dep. Variable:                     MS   No. Observations:                  487\n",
      "Model:                          Logit   Df Residuals:                      482\n",
      "Method:                           MLE   Df Model:                            4\n",
      "Date:                Thu, 27 Feb 2025   Pseudo R-squ.:                 0.03108\n",
      "Time:                        14:16:44   Log-Likelihood:                -202.71\n",
      "converged:                       True   LL-Null:                       -209.21\n",
      "Covariance Type:            nonrobust   LLR p-value:                   0.01126\n",
      "==================================================================================\n",
      "                     coef    std err          z      P>|z|      [0.025      0.975]\n",
      "----------------------------------------------------------------------------------\n",
      "Intercept          1.7739      0.133     13.305      0.000       1.513       2.035\n",
      "choroid_volume     0.2540      0.150      1.699      0.089      -0.039       0.547\n",
      "age               -0.3435      0.146     -2.349      0.019      -0.630      -0.057\n",
      "tiv               -0.4598      0.156     -2.950      0.003      -0.765      -0.154\n",
      "Female            -0.3088      0.161     -1.913      0.056      -0.625       0.008\n",
      "==================================================================================\n"
     ]
    }
   ],
   "source": [
    "model_data = df_z.loc[df_z['dz_type2'].isin(['MS', '!MS'])]\n",
    "model_data = pd.concat(\n",
    "    (model_data, pd.get_dummies(model_data['dz_type2'])), axis=1\n",
    ")\n",
    "model_data['MS'] = model_data['MS'].astype(\"int64\")\n",
    "\n",
    "# logit_mod = sm.Logit.from_formula(\"PMS ~ choroid_volume + lesion_vol_cubic + dzdur + age + tiv + Female\", data=model_data)\n",
    "logit_mod = sm.Logit.from_formula(\"MS ~ choroid_volume + age + tiv + Female\", data=model_data)\n",
    "res = logit_mod.fit()\n",
    "print(res.summary())"
   ]
  },
  {
   "cell_type": "code",
   "execution_count": null,
   "metadata": {},
   "outputs": [
    {
     "name": "stdout",
     "output_type": "stream",
     "text": [
      "                            OLS Regression Results                            \n",
      "==============================================================================\n",
      "Dep. Variable:              edss_sqrt   R-squared:                       0.246\n",
      "Model:                            OLS   Adj. R-squared:                  0.237\n",
      "Method:                 Least Squares   F-statistic:                     28.39\n",
      "Date:                Sun, 09 Mar 2025   Prob (F-statistic):           6.27e-25\n",
      "Time:                        19:26:27   Log-Likelihood:                -564.88\n",
      "No. Observations:                 442   AIC:                             1142.\n",
      "Df Residuals:                     436   BIC:                             1166.\n",
      "Df Model:                           5                                         \n",
      "Covariance Type:            nonrobust                                         \n",
      "======================================================================================\n",
      "                         coef    std err          t      P>|t|      [0.025      0.975]\n",
      "--------------------------------------------------------------------------------------\n",
      "Intercept             -0.0246      0.042     -0.592      0.554      -0.107       0.057\n",
      "choroid_volume         0.0115      0.050      0.228      0.819      -0.088       0.111\n",
      "cortical_thickness    -0.2581      0.052     -4.928      0.000      -0.361      -0.155\n",
      "age                    0.2970      0.049      6.079      0.000       0.201       0.393\n",
      "Female                -0.0450      0.050     -0.891      0.373      -0.144       0.054\n",
      "tiv                   -0.0555      0.052     -1.063      0.288      -0.158       0.047\n",
      "==============================================================================\n",
      "Omnibus:                        4.077   Durbin-Watson:                   1.895\n",
      "Prob(Omnibus):                  0.130   Jarque-Bera (JB):                3.838\n",
      "Skew:                           0.201   Prob(JB):                        0.147\n",
      "Kurtosis:                       3.218   Cond. No.                         2.33\n",
      "==============================================================================\n",
      "\n",
      "Notes:\n",
      "[1] Standard Errors assume that the covariance matrix of the errors is correctly specified.\n"
     ]
    }
   ],
   "source": [
    "model_data = df_z.copy()\n",
    "model = sm.OLS.from_formula(\"edss_sqrt ~ choroid_volume + thalamus + age + Female + tiv\", data=model_data).fit()\n",
    "\n",
    "print(model.summary())"
   ]
  },
  {
   "cell_type": "code",
   "execution_count": 508,
   "metadata": {},
   "outputs": [
    {
     "data": {
      "image/png": "[encoded data removed]",
      "text/plain": [
       "<Figure size 600x400 with 1 Axes>"
      ]
     },
     "metadata": {},
     "output_type": "display_data"
    }
   ],
   "source": [
    "model_data = df.copy()\n",
    "model = sm.OLS.from_formula(\"edss_sqrt ~ thalamus + age + Female + tiv\", data=model_data).fit()\n",
    "model_data['EDSS_residuals'] = model.resid\n",
    "\n",
    "plt.figure(figsize=(6, 4))\n",
    "sns.regplot(x=model_data[\"choroid_volume\"], y=model_data[\"EDSS_residuals\"], scatter_kws={'alpha':0.5})\n",
    "plt.axhline(0, linestyle=\"--\", color=\"gray\")\n",
    "plt.title(\"Choroid Volume vs. EDSS (After Controlling for Thalamic Volume)\")\n",
    "plt.xlabel(\"Choroid Volume\")\n",
    "plt.ylabel(\"EDSS Residuals\")\n",
    "plt.show()"
   ]
  },
  {
   "cell_type": "code",
   "execution_count": null,
   "metadata": {},
   "outputs": [],
   "source": [
    "import statsmodels.api as sm\n",
    "\n",
    "# Example: Regress EDSS on Thalamic Volume\n",
    "X = sm.add_constant(df[\"Thalamus\"])  # Add intercept\n",
    "model = sm.OLS(df[\"EDSS\"], X).fit()\n",
    "df[\"EDSS_residuals\"] = model.resid  # Extract residuals\n",
    "\n",
    "# Scatter plot of Choroid Volume vs Residualized EDSS\n",
    "plt.figure(figsize=(6, 4))\n",
    "sns.regplot(x=df[\"Choroid_Volume\"], y=df[\"EDSS_residuals\"], scatter_kws={'alpha':0.5})\n",
    "plt.axhline(0, linestyle=\"--\", color=\"gray\")\n",
    "plt.title(\"Choroid Volume vs. EDSS (After Controlling for Thalamic Volume)\")\n",
    "plt.xlabel(\"Choroid Volume\")\n",
    "plt.ylabel(\"EDSS Residuals\")\n",
    "plt.show()\n"
   ]
  }
 ],
 "metadata": {
  "kernelspec": {
   "display_name": "monai",
   "language": "python",
   "name": "python3"
  },
  "language_info": {
   "codemirror_mode": {
    "name": "ipython",
    "version": 3
   },
   "file_extension": ".py",
   "mimetype": "text/x-python",
   "name": "python",
   "nbconvert_exporter": "python",
   "pygments_lexer": "ipython3",
   "version": "3.12.4"
  }
 },
 "nbformat": 4,
 "nbformat_minor": 2
}
