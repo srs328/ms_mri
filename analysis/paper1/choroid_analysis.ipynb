{
 "cells": [
  {
   "cell_type": "code",
   "execution_count": 294,
   "metadata": {},
   "outputs": [],
   "source": [
    "import matplotlib.pyplot as plt\n",
    "import pandas as pd\n",
    "from pathlib import Path\n",
    "import numpy as np\n",
    "import re\n",
    "import seaborn as sns\n",
    "import statsmodels.api as sm\n",
    "from statsmodels.formula.api import ols\n",
    "from scipy.stats import mannwhitneyu\n",
    "from scipy import stats\n",
    "import matplotlib.ticker as ticker\n",
    "import os\n",
    "from reload_recursive import reload_recursive\n",
    "import patsy\n",
    "from pyprocessmacro import Process\n",
    "from statsmodels.stats.mediation import Mediation\n",
    "from pingouin import mediation_analysis\n",
    "\n",
    "from mri_data import file_manager as fm\n",
    "import helpers"
   ]
  },
  {
   "cell_type": "code",
   "execution_count": 233,
   "metadata": {},
   "outputs": [],
   "source": [
    "reload_recursive(helpers)"
   ]
  },
  {
   "cell_type": "markdown",
   "metadata": {},
   "source": [
    "## Setup"
   ]
  },
  {
   "cell_type": "code",
   "execution_count": 234,
   "metadata": {},
   "outputs": [],
   "source": [
    "drive_root = fm.get_drive_root()\n",
    "msmri_home = Path(\"/home/srs-9/Projects/ms_mri\")\n",
    "msmri_datadir = msmri_home / \"data\"\n",
    "curr_dir = Path(os.getcwd())\n",
    "data_dir = curr_dir / \"data0\"\n",
    "showfigs = False"
   ]
  },
  {
   "cell_type": "code",
   "execution_count": 362,
   "metadata": {},
   "outputs": [],
   "source": [
    "df = pd.read_csv(data_dir / \"t1_data_full.csv\")\n",
    "df = df.set_index(\"subid\")\n",
    "\n",
    "df = helpers.set_dz_type5(df)\n",
    "df = helpers.set_dz_type3(df)\n",
    "df = helpers.set_dz_type2(df)\n",
    "df = helpers.fix_edss(df)\n",
    "df = helpers.clean_df(df)\n",
    "\n",
    "keep_cols = [\n",
    "    \"subject\",\n",
    "    \"age\",\n",
    "    \"sex\",\n",
    "    \"ms_type\",\n",
    "    \"dz_type2\",\n",
    "    \"dz_type3\",\n",
    "    \"dz_type5\",\n",
    "    \"dzdur\",\n",
    "    \"EDSS\",\n",
    "    \"MSSS\",\n",
    "    \"gMSSS\",\n",
    "    \"ARMSS\",\n",
    "    \"DMT_score\",\n",
    "    \"DMT_hx_all\",\n",
    "    \"flair_contrast\",\n",
    "    \"lesion_count\",\n",
    "    \"lesion_vol_cubic\",\n",
    "    \"PRL\",\n",
    "    \"tiv\",\n",
    "    \"choroid_volume\",\n",
    "    \"pineal_volume\", \n",
    "    \"pituitary_volume\"\n",
    "]\n",
    "\n",
    "df = df.loc[:, keep_cols]\n",
    "df = pd.concat((df, pd.get_dummies(df[\"sex\"])), axis=1)"
   ]
  },
  {
   "cell_type": "code",
   "execution_count": 363,
   "metadata": {},
   "outputs": [],
   "source": [
    "df.loc[:, \"lesion_vol_logtrans\"] = np.log(df[\"lesion_vol_cubic\"])\n",
    "df.loc[:, \"edss_sqrt\"] = np.sqrt(df[\"EDSS\"].astype(\"float\"))\n",
    "df.loc[:, \"msss_sqrt\"] = np.sqrt(df[\"MSSS\"])\n",
    "df.loc[:, \"armss_sqrt\"] = np.sqrt(df[\"ARMSS\"])\n",
    "df.loc[:, \"gmsss_sqrt\"] = np.sqrt(df[\"gMSSS\"])"
   ]
  },
  {
   "cell_type": "code",
   "execution_count": 364,
   "metadata": {},
   "outputs": [],
   "source": [
    "vars = [\n",
    "    \"age\",\n",
    "    \"Female\",\n",
    "    \"dzdur\",\n",
    "    \"EDSS\",\n",
    "    \"MSSS\",\n",
    "    \"gMSSS\",\n",
    "    \"ARMSS\",\n",
    "    \"edss_sqrt\",\n",
    "    \"msss_sqrt\",\n",
    "    \"armss_sqrt\",\n",
    "    \"gmsss_sqrt\",\n",
    "    \"DMT_score\",\n",
    "    \"DMT_hx_all\",\n",
    "    \"lesion_count\",\n",
    "    \"lesion_vol_cubic\",\n",
    "    \"lesion_vol_logtrans\",\n",
    "    \"PRL\",\n",
    "    \"tiv\",\n",
    "    \"choroid_volume\",\n",
    "]\n",
    "\n",
    "for var in vars:\n",
    "    df[var] = pd.to_numeric(df[var])"
   ]
  },
  {
   "cell_type": "code",
   "execution_count": 365,
   "metadata": {},
   "outputs": [],
   "source": [
    "vars_to_center = [\"edss_sqrt\", \"lesion_vol_logtrans\", \"lesion_vol_cubic\", \"dzdur\", \"choroid_volume\"]\n",
    "\n",
    "for var in vars_to_center:\n",
    "    df[f\"{var}_cent\"] = df[var] - df[var].mean()\n",
    "\n",
    "centered_vars = [f\"{var}_cent\" for var in vars_to_center]\n",
    "vars.extend(centered_vars)"
   ]
  },
  {
   "cell_type": "code",
   "execution_count": 366,
   "metadata": {},
   "outputs": [],
   "source": [
    "df_z = df[vars].astype(\"float\")\n",
    "df_z[df.columns[~df.columns.isin(vars)]] = df[df.columns[~df.columns.isin(vars)]]\n",
    "df_z = df_z[df.columns]\n",
    "df_z[vars] = df_z[vars].apply(stats.zscore, nan_policy=\"omit\")\n",
    "\n",
    "data = df[vars].astype(\"float\")\n",
    "data_z = data[vars].apply(stats.zscore, nan_policy=\"omit\")\n",
    "\n",
    "data_ms = df.loc[df[\"dz_type5\"].isin([\"RMS\", \"PMS\"]), :]\n",
    "data_ms = data_ms[vars].astype(\"float\")\n",
    "data_ms_z = data_ms[vars].apply(stats.zscore, nan_policy=\"omit\")"
   ]
  },
  {
   "cell_type": "markdown",
   "metadata": {},
   "source": [
    "## Analysis"
   ]
  },
  {
   "cell_type": "markdown",
   "metadata": {},
   "source": [
    "### Choroid Volumes"
   ]
  },
  {
   "cell_type": "markdown",
   "metadata": {},
   "source": [
    "CP volume increased with age (β=0.38, p<0.001), TIV (β=0.16, p=0.001), and was smaller in females (β=-0.15, p=0.002), but was not associated with the presence of MS (β=0.18, p=0.10)"
   ]
  },
  {
   "cell_type": "code",
   "execution_count": 156,
   "metadata": {},
   "outputs": [
    {
     "name": "stdout",
     "output_type": "stream",
     "text": [
      "R2:     0.236\n",
      "R2_adj: 0.230\n",
      "                    coef             p\n",
      "Intercept      -0.150227  1.433637e-01\n",
      "dz_type2[T.MS]  0.182786  1.021872e-01\n",
      "age             0.384761  1.688386e-19\n",
      "tiv             0.160233  1.070275e-03\n",
      "Female         -0.153129  1.849241e-03\n"
     ]
    }
   ],
   "source": [
    "model_data = df_z[df_z['dz_type2'].isin([\"MS\", \"!MS\"])]\n",
    "res = sm.OLS.from_formula(\n",
    "    \"choroid_volume ~ dz_type2 + age + tiv + Female\", data=model_data\n",
    ").fit()\n",
    "\n",
    "summary = pd.DataFrame({'coef': res.params, 'p': res.pvalues})\n",
    "print(\"R2:     {:0.3f}\".format(res.rsquared))\n",
    "print(\"R2_adj: {:0.3f}\".format(res.rsquared_adj))\n",
    "print(summary)"
   ]
  },
  {
   "cell_type": "markdown",
   "metadata": {},
   "source": [
    "Within the population of MS patients, those with progressive disease had greater CP volumes than those with relapsing-remitting MS, after controlling for age, sex, and TIV (β=0.36, p=0.003). "
   ]
  },
  {
   "cell_type": "code",
   "execution_count": 274,
   "metadata": {},
   "outputs": [
    {
     "name": "stdout",
     "output_type": "stream",
     "text": [
      "R2:     0.254\n",
      "R2_adj: 0.246\n",
      "                     coef             p\n",
      "Intercept        0.314614  3.053937e-03\n",
      "dz_type5[T.RMS] -0.358740  3.328932e-03\n",
      "Female          -0.162634  2.373544e-03\n",
      "age              0.320690  8.375234e-11\n",
      "tiv              0.134778  1.163134e-02\n"
     ]
    }
   ],
   "source": [
    "model_data = df_z[df_z['dz_type5'].isin([\"RMS\", \"PMS\"])]\n",
    "res = sm.OLS.from_formula(\"choroid_volume ~ dz_type5 + Female + age + tiv\", data=model_data).fit()\n",
    "\n",
    "summary = pd.DataFrame({'coef': res.params, 'p': res.pvalues})\n",
    "print(\"R2:     {:0.3f}\".format(res.rsquared))\n",
    "print(\"R2_adj: {:0.3f}\".format(res.rsquared_adj))\n",
    "print(summary)"
   ]
  },
  {
   "cell_type": "markdown",
   "metadata": {},
   "source": [
    "In a multivariable regression controlling for age, sex, and TIV, CP volume increased with WM lesion volume (β=0.21, p<0.001) and number of PRL lesions (β=0.16, p<0.001). There was still a significant positive association with PMS (β=0.27. p=0.019)"
   ]
  },
  {
   "cell_type": "code",
   "execution_count": 275,
   "metadata": {},
   "outputs": [
    {
     "name": "stdout",
     "output_type": "stream",
     "text": [
      "R2:     0.334\n",
      "R2_adj: 0.325\n",
      "                      coef             p\n",
      "Intercept         0.220771  3.096051e-02\n",
      "dz_type5[T.RMS]  -0.274278  1.941262e-02\n",
      "lesion_vol_cubic  0.212075  4.608245e-06\n",
      "PRL               0.162715  7.904203e-05\n",
      "Female           -0.165620  1.138366e-03\n",
      "age               0.322206  1.198592e-10\n",
      "tiv               0.109367  3.140712e-02\n"
     ]
    }
   ],
   "source": [
    "model_data = df_z[df_z['dz_type5'].isin([\"RMS\", \"PMS\"])]\n",
    "res = sm.OLS.from_formula(\"choroid_volume ~ lesion_vol_cubic + PRL + dz_type5 + Female + age + tiv\", data=model_data).fit()\n",
    "\n",
    "summary = pd.DataFrame({'coef': res.params, 'p': res.pvalues})\n",
    "print(\"R2:     {:0.3f}\".format(res.rsquared))\n",
    "print(\"R2_adj: {:0.3f}\".format(res.rsquared_adj))\n",
    "print(summary)"
   ]
  },
  {
   "cell_type": "markdown",
   "metadata": {},
   "source": [
    "An ANCOVA was conducted to examine differences in CP volume amongst the RMS, PMS, OIND, and NIND groups, controlling for age, sex, and TIV. The analysis revealed a significant main effect for disease phenotype on CP volume (p < 0.001). Post hoc Tukey's HSD comparisons indicated that PMS had significantly larger CP than both NIND (p=0.043, d=0.51) and RMS (p=0.011, d=0.42). Additionally, sex (p<0.001), age (p<0.001), and TIV (p=0.006) were significant covariates. "
   ]
  },
  {
   "cell_type": "code",
   "execution_count": 122,
   "metadata": {},
   "outputs": [
    {
     "data": {
      "image/png": "[encoded data removed]",
      "text/plain": [
       "<Figure size 640x480 with 1 Axes>"
      ]
     },
     "metadata": {
      "needs_background": "light"
     },
     "output_type": "display_data"
    }
   ],
   "source": [
    "model_data = df[df['dz_type5'].isin([\"RMS\", \"PMS\", \"NIND\", \"OIND\"])]\n",
    "\n",
    "res = sm.OLS.from_formula(\"choroid_volume ~ dz_type5 + Female + age + tiv\", data=model_data).fit()\n",
    "# Extract marginal means (using 'Group')\n",
    "marginal_means = res.predict(model_data[['Female', 'age', 'tiv', 'dz_type5']].drop_duplicates())\n",
    "\n",
    "f = plt.figure()\n",
    "ax = sns.pointplot(x='dz_type5', y=marginal_means, data=model_data, \n",
    "              palette='deep', hue='dz_type5', legend=False, markers='o', linestyles='-', color='red', \n",
    "              capsize=0.1, markersize=5, markeredgewidth=2, linewidth=1)\n",
    "ax.set_ylabel(\"Choroid volume (cm3)\", fontsize=12)\n",
    "ax.set_xlabel(\"\")\n",
    "ax.set_xticks([\"RMS\", \"PMS\", \"NIND\", \"OIND\"])\n",
    "ax.set_xticklabels([\"RMS\", \"PMS\", \"NIND\", \"OIND\"], fontsize=14)\n",
    "f.patch.set_alpha(0)"
   ]
  },
  {
   "cell_type": "markdown",
   "metadata": {},
   "source": [
    "The best performing regression model for predicting CP volume in MS patients had an R² of 0.37 (adj R²=0.35)."
   ]
  },
  {
   "cell_type": "code",
   "execution_count": 278,
   "metadata": {},
   "outputs": [
    {
     "name": "stdout",
     "output_type": "stream",
     "text": [
      "                            OLS Regression Results                            \n",
      "==============================================================================\n",
      "Dep. Variable:         choroid_volume   R-squared:                       0.370\n",
      "Model:                            OLS   Adj. R-squared:                  0.354\n",
      "Method:                 Least Squares   F-statistic:                     23.84\n",
      "Date:                Tue, 18 Feb 2025   Prob (F-statistic):           5.10e-32\n",
      "Time:                        14:41:27   Log-Likelihood:                -2899.9\n",
      "No. Observations:                 376   AIC:                             5820.\n",
      "Df Residuals:                     366   BIC:                             5859.\n",
      "Df Model:                           9                                         \n",
      "Covariance Type:            nonrobust                                         \n",
      "====================================================================================\n",
      "                       coef    std err          t      P>|t|      [0.025      0.975]\n",
      "------------------------------------------------------------------------------------\n",
      "Intercept          682.2914    473.217      1.442      0.150    -248.273    1612.856\n",
      "dz_type5[T.RMS]   -206.0434     85.713     -2.404      0.017    -374.594     -37.493\n",
      "Female[T.True]    -328.6795     84.076     -3.909      0.000    -494.013    -163.346\n",
      "MSSS               -12.7119     12.908     -0.985      0.325     -38.095      12.671\n",
      "DMT_hx_all          98.2811     58.488      1.680      0.094     -16.733     213.296\n",
      "lesion_vol_cubic   278.4984     66.032      4.218      0.000     148.648     408.349\n",
      "lesion_count        -2.8586      1.544     -1.851      0.065      -5.896       0.179\n",
      "PRL                 68.9976     16.299      4.233      0.000      36.945     101.050\n",
      "age                 15.9686      2.726      5.858      0.000      10.608      21.329\n",
      "tiv                  0.0004      0.000      1.320      0.188      -0.000       0.001\n",
      "==============================================================================\n",
      "Omnibus:                        7.630   Durbin-Watson:                   2.115\n",
      "Prob(Omnibus):                  0.022   Jarque-Bera (JB):               10.440\n",
      "Skew:                           0.153   Prob(JB):                      0.00541\n",
      "Kurtosis:                       3.757   Cond. No.                     2.53e+07\n",
      "==============================================================================\n",
      "\n",
      "Notes:\n",
      "[1] Standard Errors assume that the covariance matrix of the errors is correctly specified.\n",
      "[2] The condition number is large, 2.53e+07. This might indicate that there are\n",
      "strong multicollinearity or other numerical problems.\n"
     ]
    }
   ],
   "source": [
    "model_data = df[df['dz_type5'].isin([\"RMS\", \"PMS\"])]\n",
    "\n",
    "res = sm.OLS.from_formula(\"choroid_volume ~ MSSS + DMT_hx_all + dz_type5 + lesion_vol_cubic + lesion_count + PRL + Female + age + tiv\", data=model_data).fit()\n",
    "\n",
    "print(res.summary())"
   ]
  },
  {
   "cell_type": "markdown",
   "metadata": {},
   "source": [
    "### Clinical Disability"
   ]
  },
  {
   "cell_type": "code",
   "execution_count": 299,
   "metadata": {},
   "outputs": [
    {
     "name": "stderr",
     "output_type": "stream",
     "text": [
      "/home/srs-9/.virtualenvs/monai/lib/python3.12/site-packages/pyprocessmacro/models.py:1567: DeprecationWarning: `product` is deprecated as of NumPy 1.25.0, and will be removed in NumPy 2.0. Please use `prod` instead.\n",
      "  grad = eval_expression(\n",
      "/home/srs-9/.virtualenvs/monai/lib/python3.12/site-packages/pyprocessmacro/models.py:738: DeprecationWarning: `product` is deprecated as of NumPy 1.25.0, and will be removed in NumPy 2.0. Please use `prod` instead.\n",
      "  expr_x_to_m = eval_expression(der_x_to_m, mod_dict)\n",
      "/home/srs-9/.virtualenvs/monai/lib/python3.12/site-packages/pyprocessmacro/models.py:739: DeprecationWarning: `product` is deprecated as of NumPy 1.25.0, and will be removed in NumPy 2.0. Please use `prod` instead.\n",
      "  expr_m_to_y = eval_expression(der_m_to_y, mod_dict)\n"
     ]
    },
    {
     "name": "stdout",
     "output_type": "stream",
     "text": [
      "Process successfully initialized.\n",
      "Based on the Process Macro by Andrew F. Hayes, Ph.D. (www.afhayes.com)\n",
      "\n",
      "\n",
      "****************************** SPECIFICATION ****************************\n",
      "\n",
      "Model = 4\n",
      "\n",
      "Variables:\n",
      "    Cons = Cons\n",
      "    x = choroid_volume\n",
      "    y = armss_sqrt\n",
      "    m1 = lesion_vol_logtrans\n",
      "Statistical Controls:\n",
      " age, Female, tiv\n",
      "\n",
      "\n",
      "\n",
      "Sample size:\n",
      "412\n",
      "\n",
      "Bootstrapping information for indirect effects:\n",
      "Final number of bootstrap samples: 5000\n",
      "Number of samples discarded due to convergence issues: 0\n",
      "\n",
      "***************************** OUTCOME MODELS ****************************\n",
      "\n",
      "Outcome = armss_sqrt \n",
      "OLS Regression Summary\n",
      "\n",
      "     R²  Adj. R²    MSE      F  df1  df2  p-value\n",
      " 0.0819   0.0677 0.9323 6.9405    5  389   0.0000\n",
      "\n",
      "Coefficients\n",
      "\n",
      "                      coeff     se       t      p    LLCI    ULCI\n",
      "Cons                 0.0029 0.0486  0.0595 0.9526 -0.0924  0.0982\n",
      "choroid_volume       0.0579 0.0592  0.9783 0.3285 -0.0581  0.1738\n",
      "age                 -0.2882 0.0551 -5.2269 0.0000 -0.3962 -0.1801\n",
      "Female              -0.0746 0.0598 -1.2471 0.2131 -0.1919  0.0426\n",
      "tiv                 -0.0590 0.0593 -0.9953 0.3202 -0.1753  0.0572\n",
      "lesion_vol_logtrans  0.1944 0.0557  3.4930 0.0005  0.0853  0.3035\n",
      "\n",
      "-------------------------------------------------------------------------\n",
      "\n",
      "Outcome = lesion_vol_logtrans \n",
      "OLS Regression Summary\n",
      "\n",
      "     R²  Adj. R²    MSE       F  df1  df2  p-value\n",
      " 0.2227   0.2128 0.7718 27.9409    4  390   0.0000\n",
      "\n",
      "Coefficients\n",
      "\n",
      "                coeff     se      t      p    LLCI   ULCI\n",
      "Cons           0.0175 0.0442 0.3949 0.6931 -0.0692 0.1042\n",
      "choroid_volume 0.3681 0.0505 7.2899 0.0000  0.2691 0.4671\n",
      "age            0.1970 0.0492 4.0079 0.0001  0.1007 0.2934\n",
      "Female         0.0628 0.0543 1.1558 0.2485 -0.0437 0.1693\n",
      "tiv            0.0098 0.0540 0.1817 0.8559 -0.0960 0.1156\n",
      "\n",
      "-------------------------------------------------------------------------\n",
      "\n",
      "\n",
      "********************** DIRECT AND INDIRECT EFFECTS **********************\n",
      "\n",
      "Direct effect of choroid_volume on armss_sqrt:\n",
      "\n",
      "  Effect     SE      t      p    LLCI   ULCI\n",
      "  0.0579 0.0592 0.9783 0.3285 -0.0581 0.1738\n",
      "\n",
      "Indirect effect of choroid_volume on armss_sqrt:\n",
      "\n",
      "                       Effect  Boot SE  BootLLCI  BootULCI\n",
      "  lesion_vol_logtrans  0.0716   0.0247    0.0310    0.1299\n",
      "\n",
      "\n"
     ]
    },
    {
     "name": "stderr",
     "output_type": "stream",
     "text": [
      "/home/srs-9/.virtualenvs/monai/lib/python3.12/site-packages/pyprocessmacro/models.py:752: DeprecationWarning: the `interpolation=` argument to percentile was renamed to `method=`, which has additional options.\n",
      "Users of the modes 'nearest', 'lower', 'higher', or 'midpoint' are encouraged to review the method they used. (Deprecated NumPy 1.22)\n",
      "  llci, ulci = bias_corrected_ci(e, be, conf)\n",
      "/home/srs-9/.virtualenvs/monai/lib/python3.12/site-packages/pyprocessmacro/models.py:827: DeprecationWarning: the `interpolation=` argument to percentile was renamed to `method=`, which has additional options.\n",
      "Users of the modes 'nearest', 'lower', 'higher', or 'midpoint' are encouraged to review the method they used. (Deprecated NumPy 1.22)\n",
      "  ci = bias_corrected_ci(e[i], be[i], conf)\n",
      "/home/srs-9/.virtualenvs/monai/lib/python3.12/site-packages/pyprocessmacro/models.py:1222: FutureWarning: errors='ignore' is deprecated and will raise in a future version. Use to_numeric without passing `errors` and catch exceptions explicitly instead\n",
      "  return df.apply(pd.to_numeric, args=[\"ignore\"])\n"
     ]
    }
   ],
   "source": [
    "p2 = Process(data=data_ms_z, model=4, x=\"choroid_volume\", y=\"armss_sqrt\", m=[\"lesion_vol_logtrans\"],\n",
    "            controls=[\"age\", \"Female\", \"tiv\"],\n",
    "            controls_in=\"all\")\n",
    "p2.summary()"
   ]
  },
  {
   "cell_type": "code",
   "execution_count": 314,
   "metadata": {},
   "outputs": [
    {
     "name": "stdout",
     "output_type": "stream",
     "text": [
      "Process successfully initialized.\n",
      "Based on the Process Macro by Andrew F. Hayes, Ph.D. (www.afhayes.com)\n",
      "\n",
      "\n",
      "****************************** SPECIFICATION ****************************\n",
      "\n",
      "Model = 3\n",
      "\n",
      "Variables:\n",
      "    Cons = Cons\n",
      "    x = choroid_volume\n",
      "    y = edss_sqrt\n",
      "    w = dzdur\n",
      "    m = lesion_vol_logtrans\n",
      "Statistical Controls:\n",
      " age, Female, tiv\n",
      "\n",
      "\n",
      "\n",
      "Sample size:\n",
      "412\n",
      "\n",
      "***************************** OUTCOME MODELS ****************************\n",
      "\n",
      "Outcome = edss_sqrt \n",
      "OLS Regression Summary\n",
      "\n",
      "     R²  Adj. R²    MSE       F  df1  df2  p-value\n",
      " 0.2929   0.2727 0.7273 15.9886   10  386   0.0000\n",
      "\n",
      "Coefficients\n",
      "\n",
      "                                           coeff     se       t      p    LLCI   ULCI\n",
      "Cons                                     -0.0685 0.0478 -1.4335 0.1525 -0.1621 0.0251\n",
      "choroid_volume                            0.0038 0.0560  0.0683 0.9456 -0.1060 0.1136\n",
      "lesion_vol_logtrans                       0.1401 0.0501  2.7947 0.0055  0.0418 0.2384\n",
      "dzdur                                     0.1875 0.0591  3.1716 0.0016  0.0716 0.3033\n",
      "choroid_volume*lesion_vol_logtrans        0.1048 0.0454  2.3074 0.0216  0.0158 0.1939\n",
      "choroid_volume*dzdur                     -0.0704 0.0518 -1.3583 0.1752 -0.1719 0.0312\n",
      "lesion_vol_logtrans*dzdur                 0.0910 0.0475  1.9167 0.0560 -0.0021 0.1841\n",
      "choroid_volume*lesion_vol_logtrans*dzdur  0.0178 0.0484  0.3667 0.7140 -0.0772 0.1127\n",
      "age                                       0.2745 0.0586  4.6831 0.0000  0.1596 0.3894\n",
      "Female                                   -0.0888 0.0530 -1.6758 0.0946 -0.1926 0.0151\n",
      "tiv                                      -0.0682 0.0521 -1.3083 0.1915 -0.1703 0.0339\n",
      "\n",
      "-------------------------------------------------------------------------\n",
      "\n",
      "\n",
      "********************** CONDITIONAL EFFECTS **********************\n",
      "\n",
      "Conditional effect(s) of choroid_volume on edss_sqrt at values of the moderator(s):\n",
      "\n",
      "  lesion_vol_logtrans   dzdur  Effect     SE       t      p    LLCI   ULCI\n",
      "              -0.9657 -0.9917 -0.0106 0.0933 -0.1139 0.9094 -0.1934 0.1722\n",
      "              -0.9657  0.0142 -0.0986 0.0786 -1.2549 0.2103 -0.2527 0.0554\n",
      "              -0.9657  1.0201 -0.1867 0.1297 -1.4390 0.1510 -0.4409 0.0676\n",
      "               0.0304 -0.9917  0.0763 0.0720  1.0594 0.2901 -0.0648 0.2173\n",
      "               0.0304  0.0142  0.0060 0.0558  0.1079 0.9141 -0.1034 0.1154\n",
      "               0.0304  1.0201 -0.0642 0.0799 -0.8040 0.4219 -0.2207 0.0923\n",
      "               1.0265 -0.9917  0.1631 0.0983  1.6596 0.0978 -0.0295 0.3558\n",
      "               1.0265  0.0142  0.1107 0.0645  1.7170 0.0868 -0.0157 0.2370\n",
      "               1.0265  1.0201  0.0583 0.0746  0.7810 0.4353 -0.0880 0.2045\n",
      "\n"
     ]
    },
    {
     "name": "stderr",
     "output_type": "stream",
     "text": [
      "/home/srs-9/.virtualenvs/monai/lib/python3.12/site-packages/pyprocessmacro/models.py:1567: DeprecationWarning: `product` is deprecated as of NumPy 1.25.0, and will be removed in NumPy 2.0. Please use `prod` instead.\n",
      "  grad = eval_expression(\n"
     ]
    }
   ],
   "source": [
    "p2 = Process(data=data_ms_z, model=3, x=\"choroid_volume\", y=\"edss_sqrt\", w=\"dzdur\",\n",
    "            m=[\"lesion_vol_logtrans\"],\n",
    "            controls=[\"age\", \"Female\", \"tiv\"],\n",
    "            controls_in=\"all\")\n",
    "p2.summary()"
   ]
  },
  {
   "cell_type": "code",
   "execution_count": 337,
   "metadata": {},
   "outputs": [
    {
     "name": "stdout",
     "output_type": "stream",
     "text": [
      "                            OLS Regression Results                            \n",
      "==============================================================================\n",
      "Dep. Variable:              edss_sqrt   R-squared:                       0.287\n",
      "Model:                            OLS   Adj. R-squared:                  0.273\n",
      "Method:                 Least Squares   F-statistic:                     19.47\n",
      "Date:                Tue, 18 Feb 2025   Prob (F-statistic):           1.19e-24\n",
      "Time:                        15:20:21   Log-Likelihood:                -490.87\n",
      "No. Observations:                 395   AIC:                             999.7\n",
      "Df Residuals:                     386   BIC:                             1036.\n",
      "Df Model:                           8                                         \n",
      "Covariance Type:            nonrobust                                         \n",
      "=============================================================================================\n",
      "                                coef    std err          t      P>|t|      [0.025      0.975]\n",
      "---------------------------------------------------------------------------------------------\n",
      "Intercept                    -0.0497      0.046     -1.091      0.276      -0.139       0.040\n",
      "choroid_volume                0.0170      0.052      0.327      0.744      -0.085       0.120\n",
      "lesion_vol_logtrans           0.1259      0.053      2.394      0.017       0.023       0.229\n",
      "dzdur                         0.1500      0.059      2.561      0.011       0.035       0.265\n",
      "lesion_vol_logtrans:dzdur     0.1199      0.046      2.633      0.009       0.030       0.209\n",
      "PRL                           0.0795      0.044      1.824      0.069      -0.006       0.165\n",
      "age                           0.3014      0.060      5.009      0.000       0.183       0.420\n",
      "tiv                          -0.0779      0.052     -1.487      0.138      -0.181       0.025\n",
      "Female                       -0.0843      0.052     -1.628      0.104      -0.186       0.017\n",
      "==============================================================================\n",
      "Omnibus:                        6.066   Durbin-Watson:                   2.040\n",
      "Prob(Omnibus):                  0.048   Jarque-Bera (JB):                6.549\n",
      "Skew:                           0.202   Prob(JB):                       0.0378\n",
      "Kurtosis:                       3.485   Cond. No.                         2.77\n",
      "==============================================================================\n",
      "\n",
      "Notes:\n",
      "[1] Standard Errors assume that the covariance matrix of the errors is correctly specified.\n"
     ]
    }
   ],
   "source": [
    "model_data = df_z.loc[df_z['dz_type5'].isin(['RMS', 'PMS'])]\n",
    "outcome_model = sm.OLS.from_formula(\n",
    "    \"edss_sqrt ~ choroid_volume + lesion_vol_logtrans*dzdur + PRL + age + tiv + Female\", data=model_data\n",
    ")\n",
    "res = outcome_model.fit()\n",
    "print(res.summary())"
   ]
  },
  {
   "cell_type": "code",
   "execution_count": 297,
   "metadata": {},
   "outputs": [
    {
     "data": {
      "text/html": [
       "<div>\n",
       "<style scoped>\n",
       "    .dataframe tbody tr th:only-of-type {\n",
       "        vertical-align: middle;\n",
       "    }\n",
       "\n",
       "    .dataframe tbody tr th {\n",
       "        vertical-align: top;\n",
       "    }\n",
       "\n",
       "    .dataframe thead th {\n",
       "        text-align: right;\n",
       "    }\n",
       "</style>\n",
       "<table border=\"1\" class=\"dataframe\">\n",
       "  <thead>\n",
       "    <tr style=\"text-align: right;\">\n",
       "      <th></th>\n",
       "      <th>Estimate</th>\n",
       "      <th>Lower CI bound</th>\n",
       "      <th>Upper CI bound</th>\n",
       "      <th>P-value</th>\n",
       "    </tr>\n",
       "  </thead>\n",
       "  <tbody>\n",
       "    <tr>\n",
       "      <th>ACME (control)</th>\n",
       "      <td>0.060994</td>\n",
       "      <td>0.023833</td>\n",
       "      <td>0.113069</td>\n",
       "      <td>0.000</td>\n",
       "    </tr>\n",
       "    <tr>\n",
       "      <th>ACME (treated)</th>\n",
       "      <td>0.060994</td>\n",
       "      <td>0.023833</td>\n",
       "      <td>0.113069</td>\n",
       "      <td>0.000</td>\n",
       "    </tr>\n",
       "    <tr>\n",
       "      <th>ADE (control)</th>\n",
       "      <td>0.039769</td>\n",
       "      <td>-0.048325</td>\n",
       "      <td>0.133596</td>\n",
       "      <td>0.412</td>\n",
       "    </tr>\n",
       "    <tr>\n",
       "      <th>ADE (treated)</th>\n",
       "      <td>0.039769</td>\n",
       "      <td>-0.048325</td>\n",
       "      <td>0.133596</td>\n",
       "      <td>0.412</td>\n",
       "    </tr>\n",
       "    <tr>\n",
       "      <th>Total effect</th>\n",
       "      <td>0.100763</td>\n",
       "      <td>0.010631</td>\n",
       "      <td>0.190177</td>\n",
       "      <td>0.028</td>\n",
       "    </tr>\n",
       "    <tr>\n",
       "      <th>Prop. mediated (control)</th>\n",
       "      <td>0.602221</td>\n",
       "      <td>0.172514</td>\n",
       "      <td>2.735640</td>\n",
       "      <td>0.028</td>\n",
       "    </tr>\n",
       "    <tr>\n",
       "      <th>Prop. mediated (treated)</th>\n",
       "      <td>0.602221</td>\n",
       "      <td>0.172514</td>\n",
       "      <td>2.735640</td>\n",
       "      <td>0.028</td>\n",
       "    </tr>\n",
       "    <tr>\n",
       "      <th>ACME (average)</th>\n",
       "      <td>0.060994</td>\n",
       "      <td>0.023833</td>\n",
       "      <td>0.113069</td>\n",
       "      <td>0.000</td>\n",
       "    </tr>\n",
       "    <tr>\n",
       "      <th>ADE (average)</th>\n",
       "      <td>0.039769</td>\n",
       "      <td>-0.048325</td>\n",
       "      <td>0.133596</td>\n",
       "      <td>0.412</td>\n",
       "    </tr>\n",
       "    <tr>\n",
       "      <th>Prop. mediated (average)</th>\n",
       "      <td>0.602221</td>\n",
       "      <td>0.172514</td>\n",
       "      <td>2.735640</td>\n",
       "      <td>0.028</td>\n",
       "    </tr>\n",
       "  </tbody>\n",
       "</table>\n",
       "</div>"
      ],
      "text/plain": [
       "                          Estimate  Lower CI bound  Upper CI bound  P-value\n",
       "ACME (control)            0.060994        0.023833        0.113069    0.000\n",
       "ACME (treated)            0.060994        0.023833        0.113069    0.000\n",
       "ADE (control)             0.039769       -0.048325        0.133596    0.412\n",
       "ADE (treated)             0.039769       -0.048325        0.133596    0.412\n",
       "Total effect              0.100763        0.010631        0.190177    0.028\n",
       "Prop. mediated (control)  0.602221        0.172514        2.735640    0.028\n",
       "Prop. mediated (treated)  0.602221        0.172514        2.735640    0.028\n",
       "ACME (average)            0.060994        0.023833        0.113069    0.000\n",
       "ADE (average)             0.039769       -0.048325        0.133596    0.412\n",
       "Prop. mediated (average)  0.602221        0.172514        2.735640    0.028"
      ]
     },
     "execution_count": 297,
     "metadata": {},
     "output_type": "execute_result"
    }
   ],
   "source": [
    "outcome_model = sm.OLS.from_formula(\n",
    "    \"edss_sqrt ~ choroid_volume + lesion_vol_logtrans + age + tiv + Female\", data=data_z\n",
    ")\n",
    "mediator_model = sm.OLS.from_formula(\n",
    "    \"lesion_vol_logtrans ~ choroid_volume + age + tiv + Female\", data=data_z\n",
    ")\n",
    "\n",
    "med = Mediation(\n",
    "    outcome_model, mediator_model, \"choroid_volume\", \"lesion_vol_logtrans\"\n",
    ").fit(method=\"bootstrap\")\n",
    "med.summary()"
   ]
  },
  {
   "cell_type": "markdown",
   "metadata": {},
   "source": [
    "### Predicting MS Phenotype"
   ]
  },
  {
   "cell_type": "markdown",
   "metadata": {},
   "source": [
    "Logistic regression on PMS"
   ]
  },
  {
   "cell_type": "code",
   "execution_count": 370,
   "metadata": {},
   "outputs": [
    {
     "name": "stdout",
     "output_type": "stream",
     "text": [
      "Optimization terminated successfully.\n",
      "         Current function value: 0.363556\n",
      "         Iterations 7\n",
      "                           Logit Regression Results                           \n",
      "==============================================================================\n",
      "Dep. Variable:                    PMS   No. Observations:                  412\n",
      "Model:                          Logit   Df Residuals:                      405\n",
      "Method:                           MLE   Df Model:                            6\n",
      "Date:                Tue, 18 Feb 2025   Pseudo R-squ.:                  0.2858\n",
      "Time:                        15:33:57   Log-Likelihood:                -149.79\n",
      "converged:                       True   LL-Null:                       -209.72\n",
      "Covariance Type:            nonrobust   LLR p-value:                 1.737e-23\n",
      "====================================================================================\n",
      "                       coef    std err          z      P>|z|      [0.025      0.975]\n",
      "------------------------------------------------------------------------------------\n",
      "Intercept           -2.0099      0.193    -10.436      0.000      -2.387      -1.632\n",
      "choroid_volume       0.3396      0.169      2.013      0.044       0.009       0.670\n",
      "lesion_vol_cubic     0.2164      0.148      1.464      0.143      -0.073       0.506\n",
      "dzdur                0.3651      0.167      2.190      0.029       0.038       0.692\n",
      "age                  0.9692      0.216      4.498      0.000       0.547       1.392\n",
      "tiv                 -0.2619      0.178     -1.468      0.142      -0.612       0.088\n",
      "Female              -0.5994      0.168     -3.568      0.000      -0.929      -0.270\n",
      "====================================================================================\n"
     ]
    }
   ],
   "source": [
    "model_data = df_z.loc[df_z['dz_type5'].isin(['RMS', 'PMS'])]\n",
    "model_data = pd.concat(\n",
    "    (model_data, pd.get_dummies(model_data['dz_type5'])), axis=1\n",
    ")\n",
    "model_data['PMS'] = model_data['PMS'].astype(\"int64\")\n",
    "\n",
    "logit_mod = sm.Logit.from_formula(\"PMS ~ choroid_volume + lesion_vol_cubic + dzdur + age + tiv + Female\", data=model_data)\n",
    "res = logit_mod.fit()\n",
    "print(res.summary())"
   ]
  },
  {
   "cell_type": "markdown",
   "metadata": {},
   "source": [
    "Train and test logistic regression on PMS"
   ]
  },
  {
   "cell_type": "code",
   "execution_count": 403,
   "metadata": {},
   "outputs": [
    {
     "name": "stdout",
     "output_type": "stream",
     "text": [
      "Optimization terminated successfully.\n",
      "         Current function value: 0.573928\n",
      "         Iterations 6\n"
     ]
    },
    {
     "data": {
      "text/plain": [
       "0.6707317073170732"
      ]
     },
     "execution_count": 403,
     "metadata": {},
     "output_type": "execute_result"
    }
   ],
   "source": [
    "model_data = df_z.loc[df_z['dz_type5'].isin(['RMS', 'PMS'])]\n",
    "model_data = pd.concat(\n",
    "    (model_data, pd.get_dummies(model_data['dz_type5'])), axis=1\n",
    ")\n",
    "model_data['PMS'] = model_data['PMS'].astype(\"int64\")\n",
    "\n",
    "train_frac = 0.8\n",
    "pms_sample = model_data[model_data['dz_type5'] == \"PMS\"].sample(frac=train_frac)\n",
    "rms_sample = model_data[model_data['dz_type5'] == \"RMS\"].sample(frac=train_frac)\n",
    "train_sample = pd.concat([pms_sample, rms_sample], axis=0)\n",
    "test_sample = model_data.loc[~model_data.index.isin(train_sample.index)]\n",
    "\n",
    "predictors = [\"choroid_volume\", \"lesion_vol_cubic\", \"dzdur\", \"age\", \"tiv\", \"Female\", \"DMT_hx_all\"]\n",
    "logit_mod = sm.Logit(train_sample['PMS'], train_sample[predictors]).fit()\n",
    "yhat = logit_mod.predict(test_sample[predictors])\n",
    "predictions = yhat.round()\n",
    "\n",
    "tp = sum((predictions == 1) & (test_sample['PMS'] == 1))\n",
    "tn = sum((predictions == 0) & (test_sample['PMS'] == 0))\n",
    "fp = sum((predictions == 1) & (test_sample['PMS'] == 0))\n",
    "fn = sum((predictions == 0) & (test_sample['PMS'] == 1))\n",
    "\n",
    "(tp + tn) / (fp + fn + tp + tn)"
   ]
  },
  {
   "cell_type": "code",
   "execution_count": 405,
   "metadata": {},
   "outputs": [],
   "source": [
    "from sklearn.model_selection import train_test_split\n",
    "from sklearn.linear_model import LogisticRegression"
   ]
  },
  {
   "cell_type": "code",
   "execution_count": 416,
   "metadata": {},
   "outputs": [
    {
     "data": {
      "text/plain": [
       "0.891566265060241"
      ]
     },
     "execution_count": 416,
     "metadata": {},
     "output_type": "execute_result"
    }
   ],
   "source": [
    "predictors = [\"choroid_volume\", \"lesion_vol_cubic\", \"dzdur\", \"age\", \"tiv\", \"Female\", \"DMT_hx_all\"]\n",
    "\n",
    "model_data = df_z.loc[df_z['dz_type5'].isin(['RMS', 'PMS'])]\n",
    "model_data = pd.concat(\n",
    "    (model_data, pd.get_dummies(model_data['dz_type5'])), axis=1\n",
    ")\n",
    "model_data['PMS'] = model_data['PMS'].astype(\"int64\")\n",
    "\n",
    "X = model_data[predictors]\n",
    "y = model_data['PMS']\n",
    "\n",
    "X_train, X_test, y_train, y_test = train_test_split(X, y, test_size=0.2, stratify=y)\n",
    "clf = LogisticRegression().fit(X_train, y_train)\n",
    "clf.score(X_test, y_test)"
   ]
  },
  {
   "cell_type": "code",
   "execution_count": 417,
   "metadata": {},
   "outputs": [
    {
     "name": "stderr",
     "output_type": "stream",
     "text": [
      "/home/srs-9/.virtualenvs/monai/lib/python3.12/site-packages/joblib/externals/loky/backend/fork_exec.py:38: DeprecationWarning: This process (pid=801653) is multi-threaded, use of fork() may lead to deadlocks in the child.\n",
      "  pid = os.fork()\n",
      "/home/srs-9/.virtualenvs/monai/lib/python3.12/site-packages/joblib/externals/loky/backend/fork_exec.py:38: DeprecationWarning: This process (pid=801653) is multi-threaded, use of fork() may lead to deadlocks in the child.\n",
      "  pid = os.fork()\n"
     ]
    }
   ],
   "source": [
    "from sklearn.model_selection import StratifiedKFold\n",
    "from sklearn.model_selection import cross_val_score\n",
    "\n",
    "skf = StratifiedKFold(n_splits=5)\n",
    "log_reg = LogisticRegression()\n",
    "scores = cross_val_score(\n",
    "    log_reg, X, y, scoring='accuracy', cv=skf, n_jobs=-1)"
   ]
  },
  {
   "cell_type": "code",
   "execution_count": 418,
   "metadata": {},
   "outputs": [
    {
     "name": "stdout",
     "output_type": "stream",
     "text": [
      "Accuracy: 0.828 ,\n",
      "Standard Deviations :0.030\n"
     ]
    }
   ],
   "source": [
    "from numpy import mean\n",
    "from numpy import std\n",
    "print('Accuracy: %.3f ,\\nStandard Deviations :%.3f' %\n",
    "      (mean(scores), std(scores)))"
   ]
  },
  {
   "cell_type": "code",
   "execution_count": null,
   "metadata": {},
   "outputs": [],
   "source": []
  }
 ],
 "metadata": {
  "kernelspec": {
   "display_name": "monai",
   "language": "python",
   "name": "python3"
  },
  "language_info": {
   "codemirror_mode": {
    "name": "ipython",
    "version": 3
   },
   "file_extension": ".py",
   "mimetype": "text/x-python",
   "name": "python",
   "nbconvert_exporter": "python",
   "pygments_lexer": "ipython3",
   "version": "3.12.7"
  }
 },
 "nbformat": 4,
 "nbformat_minor": 2
}
