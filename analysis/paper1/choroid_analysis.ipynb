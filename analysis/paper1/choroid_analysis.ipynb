{
 "cells": [
  {
   "cell_type": "code",
   "execution_count": 18,
   "metadata": {},
   "outputs": [],
   "source": [
    "import matplotlib.pyplot as plt\n",
    "import pandas as pd\n",
    "from pathlib import Path\n",
    "import numpy as np\n",
    "import re\n",
    "import seaborn as sns\n",
    "import statsmodels.api as sm\n",
    "from statsmodels.formula.api import ols\n",
    "from scipy.stats import mannwhitneyu\n",
    "from scipy import stats\n",
    "import matplotlib.ticker as ticker\n",
    "import os\n",
    "from reload_recursive import reload_recursive\n",
    "import patsy\n",
    "from pyprocessmacro import Process\n",
    "from statsmodels.stats.mediation import Mediation\n",
    "from statsmodels.miscmodels.ordinal_model import OrderedModel\n",
    "from pingouin import mediation_analysis\n",
    "\n",
    "from mri_data import file_manager as fm\n",
    "import helpers"
   ]
  },
  {
   "cell_type": "code",
   "execution_count": 74,
   "metadata": {},
   "outputs": [],
   "source": [
    "reload_recursive(helpers)"
   ]
  },
  {
   "cell_type": "markdown",
   "metadata": {},
   "source": [
    "## Setup"
   ]
  },
  {
   "cell_type": "code",
   "execution_count": 20,
   "metadata": {},
   "outputs": [],
   "source": [
    "drive_root = fm.get_drive_root()\n",
    "msmri_home = Path(\"/home/srs-9/Projects/ms_mri\")\n",
    "msmri_datadir = msmri_home / \"data\"\n",
    "curr_dir = Path(os.getcwd())\n",
    "data_dir = curr_dir / \"data0\"\n",
    "showfigs = False\n",
    "# pd.set_option('display.float_format', lambda x: '%.3f' % x)\n",
    "pd.options.display.precision = 3"
   ]
  },
  {
   "cell_type": "code",
   "execution_count": 81,
   "metadata": {},
   "outputs": [],
   "source": [
    "df = pd.read_csv(data_dir / \"t1_data_full.csv\")"
   ]
  },
  {
   "cell_type": "code",
   "execution_count": 83,
   "metadata": {},
   "outputs": [],
   "source": [
    "df = pd.read_csv(data_dir / \"t1_data_full.csv\")\n",
    "df = df.set_index(\"subid\")\n",
    "\n",
    "df = helpers.set_dz_type5(df)\n",
    "df = helpers.set_dz_type3(df)\n",
    "df = helpers.set_dz_type2(df)\n",
    "df = helpers.fix_edss(df)\n",
    "df = helpers.clean_df(df)\n",
    "df = helpers.set_has_prl(df)\n",
    "\n",
    "keep_cols = [\n",
    "    \"subject\",\n",
    "    \"age\",\n",
    "    \"sex\",\n",
    "    \"ms_type\",\n",
    "    \"dz_type2\",\n",
    "    \"dz_type3\",\n",
    "    \"dz_type5\",\n",
    "    \"dzdur\",\n",
    "    \"EDSS\",\n",
    "    \"MSSS\",\n",
    "    \"gMSSS\",\n",
    "    \"ARMSS\",\n",
    "    \"DMT_score\",\n",
    "    \"DMT_hx_all\",\n",
    "    \"flair_contrast\",\n",
    "    \"thalamus\",\n",
    "    \"brain\",\n",
    "    \"white\",\n",
    "    \"grey\",\n",
    "    \"lesion_count\",\n",
    "    \"lesion_vol_cubic\",\n",
    "    \"PRL\",\n",
    "    \"HAS_PRL\",\n",
    "    \"tiv\",\n",
    "    \"choroid_volume\",\n",
    "    \"pineal_volume\", \n",
    "    \"pituitary_volume\"\n",
    "]\n",
    "\n",
    "df = df.loc[:, keep_cols]\n",
    "df = pd.concat((df, pd.get_dummies(df[\"sex\"], dtype=\"int\")), axis=1)\n",
    "df[\"Intercept\"] = 1"
   ]
  },
  {
   "cell_type": "code",
   "execution_count": 84,
   "metadata": {},
   "outputs": [],
   "source": [
    "df.loc[:, \"lesion_vol_logtrans\"] = np.log(df[\"lesion_vol_cubic\"])\n",
    "df.loc[:, \"edss_sqrt\"] = np.sqrt(df[\"EDSS\"].astype(\"float\"))\n",
    "df.loc[:, \"msss_sqrt\"] = np.sqrt(df[\"MSSS\"])\n",
    "df.loc[:, \"armss_sqrt\"] = np.sqrt(df[\"ARMSS\"])\n",
    "df.loc[:, \"gmsss_sqrt\"] = np.sqrt(df[\"gMSSS\"])"
   ]
  },
  {
   "cell_type": "code",
   "execution_count": 85,
   "metadata": {},
   "outputs": [],
   "source": [
    "vars = [\n",
    "    \"age\",\n",
    "    \"Female\",\n",
    "    \"dzdur\",\n",
    "    \"EDSS\",\n",
    "    \"MSSS\",\n",
    "    \"gMSSS\",\n",
    "    \"ARMSS\",\n",
    "    \"edss_sqrt\",\n",
    "    \"msss_sqrt\",\n",
    "    \"armss_sqrt\",\n",
    "    \"gmsss_sqrt\",\n",
    "    \"DMT_score\",\n",
    "    \"DMT_hx_all\",\n",
    "    \"thalamus\",\n",
    "    \"brain\",\n",
    "    \"white\",\n",
    "    \"grey\",\n",
    "    \"lesion_count\",\n",
    "    \"lesion_vol_cubic\",\n",
    "    \"lesion_vol_logtrans\",\n",
    "    \"PRL\",\n",
    "    \"HAS_PRL\",\n",
    "    \"tiv\",\n",
    "    \"choroid_volume\",\n",
    "    \"pineal_volume\",\n",
    "    \"pituitary_volume\"\n",
    "]\n",
    "\n",
    "for var in vars:\n",
    "    df[var] = pd.to_numeric(df[var])"
   ]
  },
  {
   "cell_type": "code",
   "execution_count": 86,
   "metadata": {},
   "outputs": [],
   "source": [
    "vars_to_center = [\"edss_sqrt\", \"lesion_vol_logtrans\", \"lesion_vol_cubic\", \"dzdur\", \"choroid_volume\"]\n",
    "\n",
    "for var in vars_to_center:\n",
    "    df[f\"{var}_cent\"] = df[var] - df[var].mean()\n",
    "\n",
    "centered_vars = [f\"{var}_cent\" for var in vars_to_center]\n",
    "vars.extend(centered_vars)"
   ]
  },
  {
   "cell_type": "code",
   "execution_count": 87,
   "metadata": {},
   "outputs": [],
   "source": [
    "vars_to_scale = [\n",
    "    \"age\",\n",
    "    \"dzdur\",\n",
    "    \"lesion_count\",\n",
    "    \"lesion_vol_cubic\",\n",
    "    \"lesion_vol_logtrans\",\n",
    "    \"PRL\",\n",
    "    \"tiv\",\n",
    "    \"choroid_volume\",\n",
    "]\n",
    "\n",
    "df_scale = df.copy()\n",
    "df_scale[vars_to_scale] = df_scale[vars_to_scale] / df_scale[vars_to_scale].mean()"
   ]
  },
  {
   "cell_type": "code",
   "execution_count": 88,
   "metadata": {},
   "outputs": [],
   "source": [
    "df_ms = df.loc[df['dz_type2'] == \"MS\"]\n",
    "df_scale_ms = df_scale.loc[df['dz_type2'] == \"MS\"]\n",
    "\n",
    "df_z = df[vars].astype(\"float\")\n",
    "df_z[df.columns[~df.columns.isin(vars)]] = df[df.columns[~df.columns.isin(vars)]]\n",
    "df_z = df_z[df.columns]\n",
    "df_z[vars] = df_z[vars].apply(stats.zscore, nan_policy=\"omit\")\n",
    "\n",
    "data = df[vars].astype(\"float\")\n",
    "data_z = data[vars].apply(stats.zscore, nan_policy=\"omit\")\n",
    "\n",
    "data_ms = df.loc[df[\"dz_type5\"].isin([\"RMS\", \"PMS\"]), :]\n",
    "data_ms = data_ms[vars].astype(\"float\")\n",
    "data_ms_z = data_ms[vars].apply(stats.zscore, nan_policy=\"omit\")"
   ]
  },
  {
   "cell_type": "markdown",
   "metadata": {},
   "source": [
    "## Analysis"
   ]
  },
  {
   "cell_type": "markdown",
   "metadata": {},
   "source": [
    "### Choroid Volumes"
   ]
  },
  {
   "cell_type": "markdown",
   "metadata": {},
   "source": [
    "CP volume increased with age (β=0.38, p<0.001), TIV (β=0.16, p=0.001), and was smaller in females (β=-0.15, p=0.002), but was not associated with the presence of MS (β=0.18, p=0.10)"
   ]
  },
  {
   "cell_type": "code",
   "execution_count": 28,
   "metadata": {},
   "outputs": [
    {
     "name": "stdout",
     "output_type": "stream",
     "text": [
      "R2:     0.236\n",
      "R2_adj: 0.230\n",
      "                 coef          p\n",
      "Intercept      -0.150  1.434e-01\n",
      "dz_type2[T.MS]  0.183  1.022e-01\n",
      "age             0.385  1.688e-19\n",
      "tiv             0.160  1.070e-03\n",
      "Female         -0.153  1.849e-03\n"
     ]
    }
   ],
   "source": [
    "model_data = df_z[df_z['dz_type2'].isin([\"MS\", \"!MS\"])]\n",
    "res = sm.OLS.from_formula(\n",
    "    \"choroid_volume ~ dz_type2 + age + tiv + Female\", data=model_data\n",
    ").fit()\n",
    "\n",
    "summary = pd.DataFrame({'coef': res.params, 'p': res.pvalues})\n",
    "print(\"R2:     {:0.3f}\".format(res.rsquared))\n",
    "print(\"R2_adj: {:0.3f}\".format(res.rsquared_adj))\n",
    "print(summary)"
   ]
  },
  {
   "cell_type": "markdown",
   "metadata": {},
   "source": [
    "Within the population of MS patients, those with PMS had greater CP volumes than those with RMS, after controlling for age, sex, and TIV (β=0.36, p=0.003). "
   ]
  },
  {
   "cell_type": "code",
   "execution_count": 29,
   "metadata": {},
   "outputs": [
    {
     "name": "stdout",
     "output_type": "stream",
     "text": [
      "R2:     0.254\n",
      "R2_adj: 0.246\n",
      "                  coef          p\n",
      "Intercept        0.315  3.054e-03\n",
      "dz_type5[T.RMS] -0.359  3.329e-03\n",
      "Female          -0.163  2.374e-03\n",
      "age              0.321  8.375e-11\n",
      "tiv              0.135  1.163e-02\n"
     ]
    }
   ],
   "source": [
    "model_data = df_z[df_z['dz_type5'].isin([\"RMS\", \"PMS\"])]\n",
    "res = sm.OLS.from_formula(\"choroid_volume ~ dz_type5 + Female + age + tiv\", data=model_data).fit()\n",
    "\n",
    "summary = pd.DataFrame({'coef': res.params, 'p': res.pvalues})\n",
    "print(\"R2:     {:0.3f}\".format(res.rsquared))\n",
    "print(\"R2_adj: {:0.3f}\".format(res.rsquared_adj))\n",
    "print(summary)"
   ]
  },
  {
   "cell_type": "markdown",
   "metadata": {},
   "source": [
    "In a multivariable regression controlling for age, sex, and TIV, CP volume increased with WM lesion volume (β=0.21, p<0.001) and number of PRL lesions (β=0.16, p<0.001). There was still a significant positive association with PMS (β=0.27. p=0.019)"
   ]
  },
  {
   "cell_type": "code",
   "execution_count": 30,
   "metadata": {},
   "outputs": [
    {
     "name": "stdout",
     "output_type": "stream",
     "text": [
      "R2:     0.334\n",
      "R2_adj: 0.325\n",
      "                   coef          p\n",
      "Intercept         0.221  3.096e-02\n",
      "dz_type5[T.RMS]  -0.274  1.941e-02\n",
      "lesion_vol_cubic  0.212  4.608e-06\n",
      "PRL               0.163  7.904e-05\n",
      "Female           -0.166  1.138e-03\n",
      "age               0.322  1.199e-10\n",
      "tiv               0.109  3.141e-02\n"
     ]
    }
   ],
   "source": [
    "model_data = df_z[df_z['dz_type5'].isin([\"RMS\", \"PMS\"])]\n",
    "res = sm.OLS.from_formula(\"choroid_volume ~ lesion_vol_cubic + PRL + dz_type5 + Female + age + tiv\", data=model_data).fit()\n",
    "\n",
    "summary = pd.DataFrame({'coef': res.params, 'p': res.pvalues})\n",
    "print(\"R2:     {:0.3f}\".format(res.rsquared))\n",
    "print(\"R2_adj: {:0.3f}\".format(res.rsquared_adj))\n",
    "print(summary)"
   ]
  },
  {
   "cell_type": "markdown",
   "metadata": {},
   "source": [
    "An ANCOVA was conducted to examine differences in CP volume amongst the RMS, PMS, OIND, and NIND groups, controlling for age, sex, and TIV. The analysis revealed a significant main effect for disease phenotype on CP volume (p < 0.001). Post hoc Tukey's HSD comparisons indicated that PMS had significantly larger CP than both NIND (p=0.043, d=0.51) and RMS (p=0.011, d=0.42). Additionally, sex (p<0.001), age (p<0.001), and TIV (p=0.006) were significant covariates. "
   ]
  },
  {
   "cell_type": "code",
   "execution_count": 31,
   "metadata": {},
   "outputs": [
    {
     "data": {
      "image/png": "[encoded data removed]",
      "text/plain": [
       "<Figure size 640x480 with 1 Axes>"
      ]
     },
     "metadata": {
      "needs_background": "light"
     },
     "output_type": "display_data"
    }
   ],
   "source": [
    "model_data = df[df['dz_type5'].isin([\"RMS\", \"PMS\", \"NIND\", \"OIND\"])]\n",
    "\n",
    "res = sm.OLS.from_formula(\"choroid_volume ~ dz_type5 + Female + age + tiv + lesion_vol_cubic + DMT_hx_all\", data=model_data).fit()\n",
    "# Extract marginal means (using 'Group')\n",
    "marginal_means = res.predict(model_data[['Female', 'age', 'tiv', 'dz_type5', 'lesion_vol_cubic', 'DMT_hx_all']].drop_duplicates())\n",
    "\n",
    "f = plt.figure()\n",
    "ax = sns.pointplot(x='dz_type5', y=marginal_means, data=model_data, \n",
    "              palette='deep', hue='dz_type5', legend=False, markers='o', linestyles='-', color='red', \n",
    "              capsize=0.1, markersize=5, markeredgewidth=2, linewidth=1)\n",
    "ax.set_ylabel(\"Choroid volume (cm3)\", fontsize=12)\n",
    "ax.set_xlabel(\"\")\n",
    "ax.set_xticks([\"RMS\", \"PMS\", \"NIND\", \"OIND\"])\n",
    "ax.set_xticklabels([\"RMS\", \"PMS\", \"NIND\", \"OIND\"], fontsize=14)\n",
    "f.patch.set_alpha(0)"
   ]
  },
  {
   "cell_type": "markdown",
   "metadata": {},
   "source": [
    "Other correlations with choroid volume"
   ]
  },
  {
   "cell_type": "code",
   "execution_count": 124,
   "metadata": {},
   "outputs": [
    {
     "name": "stdout",
     "output_type": "stream",
     "text": [
      "                            OLS Regression Results                            \n",
      "==============================================================================\n",
      "Dep. Variable:         choroid_volume   R-squared:                       0.414\n",
      "Model:                            OLS   Adj. R-squared:                  0.408\n",
      "Method:                 Least Squares   F-statistic:                     71.89\n",
      "Date:                Tue, 04 Mar 2025   Prob (F-statistic):           4.94e-46\n",
      "Time:                        15:59:53   Log-Likelihood:                -479.67\n",
      "No. Observations:                 412   AIC:                             969.3\n",
      "Df Residuals:                     407   BIC:                             989.4\n",
      "Df Model:                           4                                         \n",
      "Covariance Type:            nonrobust                                         \n",
      "==============================================================================\n",
      "                 coef    std err          t      P>|t|      [0.025      0.975]\n",
      "------------------------------------------------------------------------------\n",
      "Intercept     -0.0101      0.039     -0.260      0.795      -0.086       0.066\n",
      "thalamus      -0.4876      0.044    -11.066      0.000      -0.574      -0.401\n",
      "Female        -0.1066      0.047     -2.275      0.023      -0.199      -0.014\n",
      "age            0.1462      0.044      3.309      0.001       0.059       0.233\n",
      "tiv            0.1076      0.047      2.289      0.023       0.015       0.200\n",
      "==============================================================================\n",
      "Omnibus:                        3.325   Durbin-Watson:                   2.113\n",
      "Prob(Omnibus):                  0.190   Jarque-Bera (JB):                3.582\n",
      "Skew:                          -0.084   Prob(JB):                        0.167\n",
      "Kurtosis:                       3.425   Cond. No.                         2.07\n",
      "==============================================================================\n",
      "\n",
      "Notes:\n",
      "[1] Standard Errors assume that the covariance matrix of the errors is correctly specified.\n"
     ]
    }
   ],
   "source": [
    "model_data = df_z[df_z['dz_type5'].isin([\"RMS\", \"PMS\"])]\n",
    "\n",
    "res = sm.OLS.from_formula(\"choroid_volume ~ thalamus + Female + age + tiv\", data=model_data).fit()\n",
    "\n",
    "print(res.summary())"
   ]
  },
  {
   "cell_type": "code",
   "execution_count": 68,
   "metadata": {},
   "outputs": [
    {
     "name": "stdout",
     "output_type": "stream",
     "text": [
      "                            OLS Regression Results                            \n",
      "==============================================================================\n",
      "Dep. Variable:         choroid_volume   R-squared:                       0.343\n",
      "Model:                            OLS   Adj. R-squared:                  0.330\n",
      "Method:                 Least Squares   F-statistic:                     25.22\n",
      "Date:                Tue, 04 Mar 2025   Prob (F-statistic):           2.92e-31\n",
      "Time:                        13:45:40   Log-Likelihood:                -3052.9\n",
      "No. Observations:                 395   AIC:                             6124.\n",
      "Df Residuals:                     386   BIC:                             6160.\n",
      "Df Model:                           8                                         \n",
      "Covariance Type:            nonrobust                                         \n",
      "====================================================================================\n",
      "                       coef    std err          t      P>|t|      [0.025      0.975]\n",
      "------------------------------------------------------------------------------------\n",
      "Intercept          542.9165    463.042      1.172      0.242    -367.483    1453.316\n",
      "dz_type5[T.RMS]   -207.8374     89.158     -2.331      0.020    -383.133     -32.542\n",
      "EDSS               -14.5897     18.929     -0.771      0.441     -51.807      22.628\n",
      "dzdur                5.4629      3.648      1.497      0.135      -1.710      12.636\n",
      "lesion_vol_cubic   175.1990     37.329      4.693      0.000     101.806     248.592\n",
      "PRL                 66.4084     15.788      4.206      0.000      35.368      97.449\n",
      "Female            -287.5836     81.692     -3.520      0.000    -448.201    -126.967\n",
      "age                 14.6764      3.100      4.735      0.000       8.582      20.771\n",
      "tiv                  0.0005      0.000      2.065      0.040    2.55e-05       0.001\n",
      "==============================================================================\n",
      "Omnibus:                       12.747   Durbin-Watson:                   2.183\n",
      "Prob(Omnibus):                  0.002   Jarque-Bera (JB):               16.657\n",
      "Skew:                           0.294   Prob(JB):                     0.000242\n",
      "Kurtosis:                       3.817   Cond. No.                     2.50e+07\n",
      "==============================================================================\n",
      "\n",
      "Notes:\n",
      "[1] Standard Errors assume that the covariance matrix of the errors is correctly specified.\n",
      "[2] The condition number is large, 2.5e+07. This might indicate that there are\n",
      "strong multicollinearity or other numerical problems.\n"
     ]
    }
   ],
   "source": [
    "model_data = df[df['dz_type5'].isin([\"RMS\", \"PMS\"])]\n",
    "\n",
    "res = sm.OLS.from_formula(\"choroid_volume ~ EDSS + dzdur + dz_type5 + lesion_vol_cubic + PRL + Female + age + tiv\", data=model_data).fit()\n",
    "\n",
    "print(res.summary())"
   ]
  },
  {
   "cell_type": "markdown",
   "metadata": {},
   "source": [
    "The best performing regression model for predicting CP volume in MS patients had an R² of 0.36 (adj R²=0.35)."
   ]
  },
  {
   "cell_type": "code",
   "execution_count": 80,
   "metadata": {},
   "outputs": [
    {
     "name": "stdout",
     "output_type": "stream",
     "text": [
      "                            OLS Regression Results                            \n",
      "==============================================================================\n",
      "Dep. Variable:         choroid_volume   R-squared:                       0.231\n",
      "Model:                            OLS   Adj. R-squared:                  0.221\n",
      "Method:                 Least Squares   F-statistic:                     22.29\n",
      "Date:                Tue, 04 Mar 2025   Prob (F-statistic):           1.53e-19\n",
      "Time:                        14:31:23   Log-Likelihood:                -2937.1\n",
      "No. Observations:                 376   AIC:                             5886.\n",
      "Df Residuals:                     370   BIC:                             5910.\n",
      "Df Model:                           5                                         \n",
      "Covariance Type:            nonrobust                                         \n",
      "====================================================================================\n",
      "                       coef    std err          t      P>|t|      [0.025      0.975]\n",
      "------------------------------------------------------------------------------------\n",
      "Intercept         1990.2942    130.039     15.305      0.000    1734.586    2246.003\n",
      "dz_type5[T.RMS]   -516.5642     84.402     -6.120      0.000    -682.531    -350.597\n",
      "MSSS               -19.1206     14.100     -1.356      0.176     -46.847       8.606\n",
      "DMT_hx_all         103.5877     64.043      1.617      0.107     -22.347     229.522\n",
      "lesion_vol_cubic   236.4814     40.010      5.911      0.000     157.807     315.156\n",
      "PRL                 55.5398     17.106      3.247      0.001      21.902      89.178\n",
      "==============================================================================\n",
      "Omnibus:                        3.221   Durbin-Watson:                   2.150\n",
      "Prob(Omnibus):                  0.200   Jarque-Bera (JB):                2.959\n",
      "Skew:                           0.180   Prob(JB):                        0.228\n",
      "Kurtosis:                       3.244   Cond. No.                         22.2\n",
      "==============================================================================\n",
      "\n",
      "Notes:\n",
      "[1] Standard Errors assume that the covariance matrix of the errors is correctly specified.\n"
     ]
    }
   ],
   "source": [
    "model_data = df[df['dz_type5'].isin([\"RMS\", \"PMS\"])]\n",
    "\n",
    "res = sm.OLS.from_formula(\"choroid_volume ~ MSSS + DMT_hx_all + dz_type5 + lesion_vol_cubic + PRL\", data=model_data).fit()\n",
    "\n",
    "print(res.summary())"
   ]
  },
  {
   "cell_type": "markdown",
   "metadata": {},
   "source": [
    "### PRL Count\n",
    "\n",
    "Choroid predicts PRL count after controlling for age, sex, tiv, and lesion volume. Show the analysis"
   ]
  },
  {
   "cell_type": "code",
   "execution_count": 33,
   "metadata": {},
   "outputs": [
    {
     "name": "stdout",
     "output_type": "stream",
     "text": [
      "                 Generalized Linear Model Regression Results                  \n",
      "==============================================================================\n",
      "Dep. Variable:                    PRL   No. Observations:                  410\n",
      "Model:                            GLM   Df Residuals:                      404\n",
      "Model Family:                 Poisson   Df Model:                            5\n",
      "Link Function:                    Log   Scale:                          1.0000\n",
      "Method:                          IRLS   Log-Likelihood:                -712.54\n",
      "Date:                Tue, 04 Mar 2025   Deviance:                       995.12\n",
      "Time:                        12:46:17   Pearson chi2:                 1.27e+03\n",
      "No. Iterations:                     6   Pseudo R-squ. (CS):             0.4470\n",
      "Covariance Type:            nonrobust                                         \n",
      "====================================================================================\n",
      "                       coef    std err          z      P>|z|      [0.025      0.975]\n",
      "------------------------------------------------------------------------------------\n",
      "Intercept           -0.7724      0.714     -1.082      0.279      -2.171       0.626\n",
      "lesion_vol_cubic     0.4315      0.078      5.543      0.000       0.279       0.584\n",
      "age                 -2.5448      0.192    -13.278      0.000      -2.920      -2.169\n",
      "Female               0.0489      0.128      0.382      0.703      -0.202       0.300\n",
      "tiv                  1.6259      0.619      2.626      0.009       0.412       2.840\n",
      "choroid_volume       1.1236      0.151      7.458      0.000       0.828       1.419\n",
      "====================================================================================\n"
     ]
    }
   ],
   "source": [
    "mediator_model = sm.GLM.from_formula(\"PRL ~ lesion_vol_cubic + age + Female + tiv + choroid_volume\", data=df_scale_ms, family=sm.families.Poisson())\n",
    "res = mediator_model.fit()\n",
    "print(res.summary())"
   ]
  },
  {
   "cell_type": "markdown",
   "metadata": {},
   "source": [
    "### Clinical Disability"
   ]
  },
  {
   "cell_type": "code",
   "execution_count": 90,
   "metadata": {},
   "outputs": [],
   "source": [
    "model_data = df_z.copy()\n",
    "model_data = model_data.loc[df['dz_type5'].isin([\"RMS\", \"PMS\"]), :]"
   ]
  },
  {
   "cell_type": "markdown",
   "metadata": {},
   "source": [
    "There was a significant positive association between choroid volume and EDSS (β=0.10, p=0.043) "
   ]
  },
  {
   "cell_type": "code",
   "execution_count": 35,
   "metadata": {},
   "outputs": [
    {
     "name": "stdout",
     "output_type": "stream",
     "text": [
      "R2:     0.225\n",
      "R2_adj: 0.217\n",
      "                 coef      p\n",
      "Intercept       0.019  0.661\n",
      "choroid_volume  0.101  0.043\n",
      "tiv            -0.073  0.180\n",
      "age             0.411  0.000\n",
      "Female         -0.056  0.300\n"
     ]
    }
   ],
   "source": [
    "model = sm.OLS.from_formula(\"edss_sqrt ~ choroid_volume + tiv + age + Female\", data=model_data)\n",
    "res = model.fit()\n",
    "summary = pd.DataFrame({'coef': res.params, 'p': res.pvalues.round(3)})\n",
    "print(\"R2:     {:0.3}\".format(res.rsquared))\n",
    "print(\"R2_adj: {:0.3}\".format(res.rsquared_adj))\n",
    "print(summary)"
   ]
  },
  {
   "cell_type": "markdown",
   "metadata": {},
   "source": [
    "PRL count was positively associated with EDSS (β=0.11, p=0.01)"
   ]
  },
  {
   "cell_type": "code",
   "execution_count": 38,
   "metadata": {},
   "outputs": [
    {
     "name": "stdout",
     "output_type": "stream",
     "text": [
      "R2:     0.229\n",
      "R2_adj: 0.221\n",
      "            coef      p\n",
      "Intercept  0.007  0.884\n",
      "PRL        0.106  0.013\n",
      "tiv       -0.067  0.211\n",
      "age        0.476  0.000\n",
      "Female    -0.074  0.157\n"
     ]
    }
   ],
   "source": [
    "model = sm.OLS.from_formula(\"edss_sqrt ~ PRL + tiv + age + Female\", data=model_data)\n",
    "res = model.fit()\n",
    "summary = pd.DataFrame({'coef': res.params, 'p': res.pvalues.round(3)})\n",
    "print(\"R2:     {:0.3}\".format(res.rsquared))\n",
    "print(\"R2_adj: {:0.3}\".format(res.rsquared_adj))\n",
    "print(summary)"
   ]
  },
  {
   "cell_type": "code",
   "execution_count": 44,
   "metadata": {},
   "outputs": [
    {
     "name": "stdout",
     "output_type": "stream",
     "text": [
      "R2:     0.214\n",
      "R2_adj: 0.203\n",
      "                 coef      p\n",
      "Intercept       0.981  0.021\n",
      "PRL             0.027  0.031\n",
      "choroid_volume  0.154  0.099\n",
      "tiv            -0.449  0.221\n",
      "age             0.896  0.000\n",
      "Female         -0.066  0.390\n"
     ]
    }
   ],
   "source": [
    "model = sm.OLS.from_formula(\"edss_sqrt ~ PRL + choroid_volume + tiv + age + Female\", data=model_data)\n",
    "res = model.fit()\n",
    "summary = pd.DataFrame({'coef': res.params, 'p': res.pvalues.round(3)})\n",
    "print(\"R2:     {:0.3}\".format(res.rsquared))\n",
    "print(\"R2_adj: {:0.3}\".format(res.rsquared_adj))\n",
    "print(summary)"
   ]
  },
  {
   "cell_type": "code",
   "execution_count": 39,
   "metadata": {},
   "outputs": [
    {
     "name": "stdout",
     "output_type": "stream",
     "text": [
      "R2:     0.249\n",
      "R2_adj: 0.237\n",
      "                   coef      p\n",
      "Intercept        -0.001  0.978\n",
      "choroid_volume    0.036  0.490\n",
      "lesion_vol_cubic  0.138  0.005\n",
      "PRL               0.073  0.095\n",
      "tiv              -0.072  0.178\n",
      "age               0.416  0.000\n",
      "Female           -0.069  0.194\n"
     ]
    }
   ],
   "source": [
    "model = sm.OLS.from_formula(\"edss_sqrt ~ choroid_volume + lesion_vol_cubic + PRL + tiv + age + Female\", data=model_data)\n",
    "res = model.fit()\n",
    "summary = pd.DataFrame({'coef': res.params, 'p': res.pvalues.round(3)})\n",
    "print(\"R2:     {:0.3}\".format(res.rsquared))\n",
    "print(\"R2_adj: {:0.3}\".format(res.rsquared_adj))\n",
    "print(summary)"
   ]
  },
  {
   "cell_type": "markdown",
   "metadata": {},
   "source": [
    "Other associations"
   ]
  },
  {
   "cell_type": "code",
   "execution_count": 122,
   "metadata": {},
   "outputs": [
    {
     "name": "stdout",
     "output_type": "stream",
     "text": [
      "R2:     0.228\n",
      "R2_adj: 0.219\n",
      "                 coef      p\n",
      "Intercept       0.019  0.672\n",
      "grey           -0.071  0.201\n",
      "choroid_volume  0.083  0.110\n",
      "tiv            -0.070  0.199\n",
      "age             0.379  0.000\n",
      "Female         -0.046  0.396\n"
     ]
    }
   ],
   "source": [
    "model = sm.OLS.from_formula(\"edss_sqrt ~ grey + choroid_volume + tiv + age + Female\", data=model_data)\n",
    "res = model.fit()\n",
    "summary = pd.DataFrame({'coef': res.params, 'p': res.pvalues.round(3)})\n",
    "print(\"R2:     {:0.3}\".format(res.rsquared))\n",
    "print(\"R2_adj: {:0.3}\".format(res.rsquared_adj))\n",
    "print(summary)"
   ]
  },
  {
   "cell_type": "markdown",
   "metadata": {},
   "source": [
    "#### Mediation Analysis"
   ]
  },
  {
   "cell_type": "markdown",
   "metadata": {},
   "source": [
    "##### Lesion volume mediating effect of CP volume on EDSS"
   ]
  },
  {
   "cell_type": "code",
   "execution_count": 47,
   "metadata": {},
   "outputs": [
    {
     "data": {
      "application/vnd.microsoft.datawrangler.viewer.v0+json": {
       "columns": [
        {
         "name": "index",
         "rawType": "object",
         "type": "string"
        },
        {
         "name": "Estimate",
         "rawType": "float64",
         "type": "float"
        },
        {
         "name": "Lower CI bound",
         "rawType": "float64",
         "type": "float"
        },
        {
         "name": "Upper CI bound",
         "rawType": "float64",
         "type": "float"
        },
        {
         "name": "P-value",
         "rawType": "float64",
         "type": "float"
        }
       ],
       "conversionMethod": "pd.DataFrame",
       "ref": "0cafe832-fc02-49a2-90b9-620084b41034",
       "rows": [
        [
         "ACME (control)",
         "0.10452431813434473",
         "0.04006228251087688",
         "0.18240450758116922",
         "0.0"
        ],
        [
         "ACME (treated)",
         "0.10452431813434473",
         "0.04006228251087687",
         "0.18240450758116922",
         "0.0"
        ],
        [
         "ADE (control)",
         "0.06832551669138145",
         "-0.10658117431951827",
         "0.2344714704432798",
         "0.42"
        ],
        [
         "ADE (treated)",
         "0.06832551669138144",
         "-0.10658117431951827",
         "0.2344714704432798",
         "0.42"
        ],
        [
         "Total effect",
         "0.1728498348257262",
         "0.005743497010943003",
         "0.3252349849574564",
         "0.04"
        ],
        [
         "Prop. mediated (control)",
         "0.5816437151154814",
         "0.0813187661646356",
         "4.605905346466555",
         "0.04"
        ],
        [
         "Prop. mediated (treated)",
         "0.5816437151154814",
         "0.08131876616463563",
         "4.605905346466555",
         "0.04"
        ],
        [
         "ACME (average)",
         "0.10452431813434473",
         "0.04006228251087687",
         "0.18240450758116922",
         "0.0"
        ],
        [
         "ADE (average)",
         "0.06832551669138144",
         "-0.10658117431951827",
         "0.2344714704432798",
         "0.42"
        ],
        [
         "Prop. mediated (average)",
         "0.5816437151154814",
         "0.08131876616463563",
         "4.605905346466555",
         "0.04"
        ]
       ],
       "shape": {
        "columns": 4,
        "rows": 10
       }
      },
      "text/html": [
       "<div>\n",
       "<style scoped>\n",
       "    .dataframe tbody tr th:only-of-type {\n",
       "        vertical-align: middle;\n",
       "    }\n",
       "\n",
       "    .dataframe tbody tr th {\n",
       "        vertical-align: top;\n",
       "    }\n",
       "\n",
       "    .dataframe thead th {\n",
       "        text-align: right;\n",
       "    }\n",
       "</style>\n",
       "<table border=\"1\" class=\"dataframe\">\n",
       "  <thead>\n",
       "    <tr style=\"text-align: right;\">\n",
       "      <th></th>\n",
       "      <th>Estimate</th>\n",
       "      <th>Lower CI bound</th>\n",
       "      <th>Upper CI bound</th>\n",
       "      <th>P-value</th>\n",
       "    </tr>\n",
       "  </thead>\n",
       "  <tbody>\n",
       "    <tr>\n",
       "      <th>ACME (control)</th>\n",
       "      <td>0.105</td>\n",
       "      <td>0.040</td>\n",
       "      <td>0.182</td>\n",
       "      <td>0.00</td>\n",
       "    </tr>\n",
       "    <tr>\n",
       "      <th>ACME (treated)</th>\n",
       "      <td>0.105</td>\n",
       "      <td>0.040</td>\n",
       "      <td>0.182</td>\n",
       "      <td>0.00</td>\n",
       "    </tr>\n",
       "    <tr>\n",
       "      <th>ADE (control)</th>\n",
       "      <td>0.068</td>\n",
       "      <td>-0.107</td>\n",
       "      <td>0.234</td>\n",
       "      <td>0.42</td>\n",
       "    </tr>\n",
       "    <tr>\n",
       "      <th>ADE (treated)</th>\n",
       "      <td>0.068</td>\n",
       "      <td>-0.107</td>\n",
       "      <td>0.234</td>\n",
       "      <td>0.42</td>\n",
       "    </tr>\n",
       "    <tr>\n",
       "      <th>Total effect</th>\n",
       "      <td>0.173</td>\n",
       "      <td>0.006</td>\n",
       "      <td>0.325</td>\n",
       "      <td>0.04</td>\n",
       "    </tr>\n",
       "    <tr>\n",
       "      <th>Prop. mediated (control)</th>\n",
       "      <td>0.582</td>\n",
       "      <td>0.081</td>\n",
       "      <td>4.606</td>\n",
       "      <td>0.04</td>\n",
       "    </tr>\n",
       "    <tr>\n",
       "      <th>Prop. mediated (treated)</th>\n",
       "      <td>0.582</td>\n",
       "      <td>0.081</td>\n",
       "      <td>4.606</td>\n",
       "      <td>0.04</td>\n",
       "    </tr>\n",
       "    <tr>\n",
       "      <th>ACME (average)</th>\n",
       "      <td>0.105</td>\n",
       "      <td>0.040</td>\n",
       "      <td>0.182</td>\n",
       "      <td>0.00</td>\n",
       "    </tr>\n",
       "    <tr>\n",
       "      <th>ADE (average)</th>\n",
       "      <td>0.068</td>\n",
       "      <td>-0.107</td>\n",
       "      <td>0.234</td>\n",
       "      <td>0.42</td>\n",
       "    </tr>\n",
       "    <tr>\n",
       "      <th>Prop. mediated (average)</th>\n",
       "      <td>0.582</td>\n",
       "      <td>0.081</td>\n",
       "      <td>4.606</td>\n",
       "      <td>0.04</td>\n",
       "    </tr>\n",
       "  </tbody>\n",
       "</table>\n",
       "</div>"
      ],
      "text/plain": [
       "                          Estimate  Lower CI bound  Upper CI bound  P-value\n",
       "ACME (control)               0.105           0.040           0.182     0.00\n",
       "ACME (treated)               0.105           0.040           0.182     0.00\n",
       "ADE (control)                0.068          -0.107           0.234     0.42\n",
       "ADE (treated)                0.068          -0.107           0.234     0.42\n",
       "Total effect                 0.173           0.006           0.325     0.04\n",
       "Prop. mediated (control)     0.582           0.081           4.606     0.04\n",
       "Prop. mediated (treated)     0.582           0.081           4.606     0.04\n",
       "ACME (average)               0.105           0.040           0.182     0.00\n",
       "ADE (average)                0.068          -0.107           0.234     0.42\n",
       "Prop. mediated (average)     0.582           0.081           4.606     0.04"
      ]
     },
     "execution_count": 47,
     "metadata": {},
     "output_type": "execute_result"
    }
   ],
   "source": [
    "outcome_model = sm.OLS.from_formula(\n",
    "    \"edss_sqrt ~ choroid_volume + lesion_vol_logtrans + age + tiv + Female\", data=df_scale_ms\n",
    ")\n",
    "mediator_model = sm.OLS.from_formula(\n",
    "    \"lesion_vol_logtrans ~ choroid_volume + age + tiv + Female\", data=df_scale_ms\n",
    ")\n",
    "\n",
    "med = Mediation(\n",
    "    outcome_model, mediator_model, \"choroid_volume\", \"lesion_vol_logtrans\"\n",
    ").fit(method=\"bootstrap\")\n",
    "med.summary()"
   ]
  },
  {
   "cell_type": "code",
   "execution_count": 123,
   "metadata": {},
   "outputs": [
    {
     "data": {
      "application/vnd.microsoft.datawrangler.viewer.v0+json": {
       "columns": [
        {
         "name": "index",
         "rawType": "object",
         "type": "string"
        },
        {
         "name": "Estimate",
         "rawType": "float64",
         "type": "float"
        },
        {
         "name": "Lower CI bound",
         "rawType": "float64",
         "type": "float"
        },
        {
         "name": "Upper CI bound",
         "rawType": "float64",
         "type": "float"
        },
        {
         "name": "P-value",
         "rawType": "float64",
         "type": "float"
        }
       ],
       "conversionMethod": "pd.DataFrame",
       "ref": "dd09a400-faf0-438d-9a13-617afc1e7362",
       "rows": [
        [
         "ACME (control)",
         "0.22963541036686122",
         "0.12937450849941856",
         "0.3435527941087678",
         "0.0"
        ],
        [
         "ACME (treated)",
         "0.22963541036686122",
         "0.12937450849941856",
         "0.3435527941087678",
         "0.0"
        ],
        [
         "ADE (control)",
         "-0.0531928987077035",
         "-0.26222624322401816",
         "0.15162643765265207",
         "0.63"
        ],
        [
         "ADE (treated)",
         "-0.05319289870770351",
         "-0.26222624322401816",
         "0.15162643765265207",
         "0.63"
        ],
        [
         "Total effect",
         "0.17644251165915767",
         "-0.004160581426224008",
         "0.3603627082846803",
         "0.056"
        ],
        [
         "Prop. mediated (control)",
         "1.2223522036714876",
         "-3.128504279879508",
         "7.490525155581196",
         "0.056"
        ],
        [
         "Prop. mediated (treated)",
         "1.2223522036714876",
         "-3.128504279879507",
         "7.490525155581198",
         "0.056"
        ],
        [
         "ACME (average)",
         "0.22963541036686122",
         "0.12937450849941856",
         "0.3435527941087678",
         "0.0"
        ],
        [
         "ADE (average)",
         "-0.0531928987077035",
         "-0.26222624322401816",
         "0.15162643765265207",
         "0.63"
        ],
        [
         "Prop. mediated (average)",
         "1.2223522036714876",
         "-3.1285042798795075",
         "7.490525155581197",
         "0.056"
        ]
       ],
       "shape": {
        "columns": 4,
        "rows": 10
       }
      },
      "text/html": [
       "<div>\n",
       "<style scoped>\n",
       "    .dataframe tbody tr th:only-of-type {\n",
       "        vertical-align: middle;\n",
       "    }\n",
       "\n",
       "    .dataframe tbody tr th {\n",
       "        vertical-align: top;\n",
       "    }\n",
       "\n",
       "    .dataframe thead th {\n",
       "        text-align: right;\n",
       "    }\n",
       "</style>\n",
       "<table border=\"1\" class=\"dataframe\">\n",
       "  <thead>\n",
       "    <tr style=\"text-align: right;\">\n",
       "      <th></th>\n",
       "      <th>Estimate</th>\n",
       "      <th>Lower CI bound</th>\n",
       "      <th>Upper CI bound</th>\n",
       "      <th>P-value</th>\n",
       "    </tr>\n",
       "  </thead>\n",
       "  <tbody>\n",
       "    <tr>\n",
       "      <th>ACME (control)</th>\n",
       "      <td>0.230</td>\n",
       "      <td>0.129</td>\n",
       "      <td>0.344</td>\n",
       "      <td>0.000</td>\n",
       "    </tr>\n",
       "    <tr>\n",
       "      <th>ACME (treated)</th>\n",
       "      <td>0.230</td>\n",
       "      <td>0.129</td>\n",
       "      <td>0.344</td>\n",
       "      <td>0.000</td>\n",
       "    </tr>\n",
       "    <tr>\n",
       "      <th>ADE (control)</th>\n",
       "      <td>-0.053</td>\n",
       "      <td>-0.262</td>\n",
       "      <td>0.152</td>\n",
       "      <td>0.630</td>\n",
       "    </tr>\n",
       "    <tr>\n",
       "      <th>ADE (treated)</th>\n",
       "      <td>-0.053</td>\n",
       "      <td>-0.262</td>\n",
       "      <td>0.152</td>\n",
       "      <td>0.630</td>\n",
       "    </tr>\n",
       "    <tr>\n",
       "      <th>Total effect</th>\n",
       "      <td>0.176</td>\n",
       "      <td>-0.004</td>\n",
       "      <td>0.360</td>\n",
       "      <td>0.056</td>\n",
       "    </tr>\n",
       "    <tr>\n",
       "      <th>Prop. mediated (control)</th>\n",
       "      <td>1.222</td>\n",
       "      <td>-3.129</td>\n",
       "      <td>7.491</td>\n",
       "      <td>0.056</td>\n",
       "    </tr>\n",
       "    <tr>\n",
       "      <th>Prop. mediated (treated)</th>\n",
       "      <td>1.222</td>\n",
       "      <td>-3.129</td>\n",
       "      <td>7.491</td>\n",
       "      <td>0.056</td>\n",
       "    </tr>\n",
       "    <tr>\n",
       "      <th>ACME (average)</th>\n",
       "      <td>0.230</td>\n",
       "      <td>0.129</td>\n",
       "      <td>0.344</td>\n",
       "      <td>0.000</td>\n",
       "    </tr>\n",
       "    <tr>\n",
       "      <th>ADE (average)</th>\n",
       "      <td>-0.053</td>\n",
       "      <td>-0.262</td>\n",
       "      <td>0.152</td>\n",
       "      <td>0.630</td>\n",
       "    </tr>\n",
       "    <tr>\n",
       "      <th>Prop. mediated (average)</th>\n",
       "      <td>1.222</td>\n",
       "      <td>-3.129</td>\n",
       "      <td>7.491</td>\n",
       "      <td>0.056</td>\n",
       "    </tr>\n",
       "  </tbody>\n",
       "</table>\n",
       "</div>"
      ],
      "text/plain": [
       "                          Estimate  Lower CI bound  Upper CI bound  P-value\n",
       "ACME (control)               0.230           0.129           0.344    0.000\n",
       "ACME (treated)               0.230           0.129           0.344    0.000\n",
       "ADE (control)               -0.053          -0.262           0.152    0.630\n",
       "ADE (treated)               -0.053          -0.262           0.152    0.630\n",
       "Total effect                 0.176          -0.004           0.360    0.056\n",
       "Prop. mediated (control)     1.222          -3.129           7.491    0.056\n",
       "Prop. mediated (treated)     1.222          -3.129           7.491    0.056\n",
       "ACME (average)               0.230           0.129           0.344    0.000\n",
       "ADE (average)               -0.053          -0.262           0.152    0.630\n",
       "Prop. mediated (average)     1.222          -3.129           7.491    0.056"
      ]
     },
     "execution_count": 123,
     "metadata": {},
     "output_type": "execute_result"
    }
   ],
   "source": [
    "outcome_model = sm.OLS.from_formula(\n",
    "    \"edss_sqrt ~ choroid_volume + thalamus + age + tiv + Female\", data=df_scale_ms\n",
    ")\n",
    "mediator_model = sm.OLS.from_formula(\n",
    "    \"thalamus ~ choroid_volume + age + tiv + Female\", data=df_scale_ms\n",
    ")\n",
    "\n",
    "med = Mediation(\n",
    "    outcome_model, mediator_model, \"choroid_volume\", \"thalamus\"\n",
    ").fit(method=\"bootstrap\")\n",
    "med.summary()"
   ]
  },
  {
   "cell_type": "code",
   "execution_count": 101,
   "metadata": {},
   "outputs": [
    {
     "data": {
      "application/vnd.microsoft.datawrangler.viewer.v0+json": {
       "columns": [
        {
         "name": "index",
         "rawType": "object",
         "type": "string"
        },
        {
         "name": "Estimate",
         "rawType": "float64",
         "type": "float"
        },
        {
         "name": "Lower CI bound",
         "rawType": "float64",
         "type": "float"
        },
        {
         "name": "Upper CI bound",
         "rawType": "float64",
         "type": "float"
        },
        {
         "name": "P-value",
         "rawType": "float64",
         "type": "float"
        }
       ],
       "conversionMethod": "pd.DataFrame",
       "ref": "63c5176f-dd1c-404b-81a0-ebe244b09dfe",
       "rows": [
        [
         "ACME (control)",
         "0.10364137429612875",
         "0.04603934903460336",
         "0.1690541989779932",
         "0.0"
        ],
        [
         "ACME (treated)",
         "0.10364137429612875",
         "0.04603934903460336",
         "0.16905419897799318",
         "0.0"
        ],
        [
         "ADE (control)",
         "0.06883763136057167",
         "-0.03194215360020764",
         "0.2002150968154821",
         "0.206"
        ],
        [
         "ADE (treated)",
         "0.06883763136057167",
         "-0.031942153600207655",
         "0.2002150968154821",
         "0.206"
        ],
        [
         "Total effect",
         "0.17247900565670043",
         "0.07487708064510516",
         "0.2928149061063648",
         "0.0"
        ],
        [
         "Prop. mediated (control)",
         "0.6141202952857658",
         "0.23758624143378418",
         "1.404456359787944",
         "0.0"
        ],
        [
         "Prop. mediated (treated)",
         "0.6141202952857658",
         "0.23758624143378418",
         "1.404456359787944",
         "0.0"
        ],
        [
         "ACME (average)",
         "0.10364137429612875",
         "0.04603934903460336",
         "0.16905419897799318",
         "0.0"
        ],
        [
         "ADE (average)",
         "0.06883763136057167",
         "-0.03194215360020765",
         "0.2002150968154821",
         "0.206"
        ],
        [
         "Prop. mediated (average)",
         "0.6141202952857658",
         "0.23758624143378418",
         "1.404456359787944",
         "0.0"
        ]
       ],
       "shape": {
        "columns": 4,
        "rows": 10
       }
      },
      "text/html": [
       "<div>\n",
       "<style scoped>\n",
       "    .dataframe tbody tr th:only-of-type {\n",
       "        vertical-align: middle;\n",
       "    }\n",
       "\n",
       "    .dataframe tbody tr th {\n",
       "        vertical-align: top;\n",
       "    }\n",
       "\n",
       "    .dataframe thead th {\n",
       "        text-align: right;\n",
       "    }\n",
       "</style>\n",
       "<table border=\"1\" class=\"dataframe\">\n",
       "  <thead>\n",
       "    <tr style=\"text-align: right;\">\n",
       "      <th></th>\n",
       "      <th>Estimate</th>\n",
       "      <th>Lower CI bound</th>\n",
       "      <th>Upper CI bound</th>\n",
       "      <th>P-value</th>\n",
       "    </tr>\n",
       "  </thead>\n",
       "  <tbody>\n",
       "    <tr>\n",
       "      <th>ACME (control)</th>\n",
       "      <td>0.104</td>\n",
       "      <td>0.046</td>\n",
       "      <td>0.169</td>\n",
       "      <td>0.000</td>\n",
       "    </tr>\n",
       "    <tr>\n",
       "      <th>ACME (treated)</th>\n",
       "      <td>0.104</td>\n",
       "      <td>0.046</td>\n",
       "      <td>0.169</td>\n",
       "      <td>0.000</td>\n",
       "    </tr>\n",
       "    <tr>\n",
       "      <th>ADE (control)</th>\n",
       "      <td>0.069</td>\n",
       "      <td>-0.032</td>\n",
       "      <td>0.200</td>\n",
       "      <td>0.206</td>\n",
       "    </tr>\n",
       "    <tr>\n",
       "      <th>ADE (treated)</th>\n",
       "      <td>0.069</td>\n",
       "      <td>-0.032</td>\n",
       "      <td>0.200</td>\n",
       "      <td>0.206</td>\n",
       "    </tr>\n",
       "    <tr>\n",
       "      <th>Total effect</th>\n",
       "      <td>0.172</td>\n",
       "      <td>0.075</td>\n",
       "      <td>0.293</td>\n",
       "      <td>0.000</td>\n",
       "    </tr>\n",
       "    <tr>\n",
       "      <th>Prop. mediated (control)</th>\n",
       "      <td>0.614</td>\n",
       "      <td>0.238</td>\n",
       "      <td>1.404</td>\n",
       "      <td>0.000</td>\n",
       "    </tr>\n",
       "    <tr>\n",
       "      <th>Prop. mediated (treated)</th>\n",
       "      <td>0.614</td>\n",
       "      <td>0.238</td>\n",
       "      <td>1.404</td>\n",
       "      <td>0.000</td>\n",
       "    </tr>\n",
       "    <tr>\n",
       "      <th>ACME (average)</th>\n",
       "      <td>0.104</td>\n",
       "      <td>0.046</td>\n",
       "      <td>0.169</td>\n",
       "      <td>0.000</td>\n",
       "    </tr>\n",
       "    <tr>\n",
       "      <th>ADE (average)</th>\n",
       "      <td>0.069</td>\n",
       "      <td>-0.032</td>\n",
       "      <td>0.200</td>\n",
       "      <td>0.206</td>\n",
       "    </tr>\n",
       "    <tr>\n",
       "      <th>Prop. mediated (average)</th>\n",
       "      <td>0.614</td>\n",
       "      <td>0.238</td>\n",
       "      <td>1.404</td>\n",
       "      <td>0.000</td>\n",
       "    </tr>\n",
       "  </tbody>\n",
       "</table>\n",
       "</div>"
      ],
      "text/plain": [
       "                          Estimate  Lower CI bound  Upper CI bound  P-value\n",
       "ACME (control)               0.104           0.046           0.169    0.000\n",
       "ACME (treated)               0.104           0.046           0.169    0.000\n",
       "ADE (control)                0.069          -0.032           0.200    0.206\n",
       "ADE (treated)                0.069          -0.032           0.200    0.206\n",
       "Total effect                 0.172           0.075           0.293    0.000\n",
       "Prop. mediated (control)     0.614           0.238           1.404    0.000\n",
       "Prop. mediated (treated)     0.614           0.238           1.404    0.000\n",
       "ACME (average)               0.104           0.046           0.169    0.000\n",
       "ADE (average)                0.069          -0.032           0.200    0.206\n",
       "Prop. mediated (average)     0.614           0.238           1.404    0.000"
      ]
     },
     "execution_count": 101,
     "metadata": {},
     "output_type": "execute_result"
    }
   ],
   "source": [
    "outcome_model = sm.OLS.from_formula(\n",
    "    \"edss_sqrt ~ lesion_vol_cubic + thalamus + age + tiv + Female\", data=df_scale_ms\n",
    ")\n",
    "mediator_model = sm.OLS.from_formula(\n",
    "    \"thalamus ~ lesion_vol_cubic + age + tiv + Female\", data=df_scale_ms\n",
    ")\n",
    "\n",
    "med = Mediation(\n",
    "    outcome_model, mediator_model, \"lesion_vol_cubic\", \"thalamus\"\n",
    ").fit(method=\"bootstrap\")\n",
    "med.summary()"
   ]
  },
  {
   "cell_type": "code",
   "execution_count": 48,
   "metadata": {},
   "outputs": [
    {
     "data": {
      "application/vnd.microsoft.datawrangler.viewer.v0+json": {
       "columns": [
        {
         "name": "index",
         "rawType": "object",
         "type": "string"
        },
        {
         "name": "Estimate",
         "rawType": "float64",
         "type": "float"
        },
        {
         "name": "Lower CI bound",
         "rawType": "float64",
         "type": "float"
        },
        {
         "name": "Upper CI bound",
         "rawType": "float64",
         "type": "float"
        },
        {
         "name": "P-value",
         "rawType": "float64",
         "type": "float"
        }
       ],
       "conversionMethod": "pd.DataFrame",
       "ref": "651de2b6-7fbe-4d60-b7ea-ee2b54d9d4f5",
       "rows": [
        [
         "ACME (control)",
         "0.02277024765796684",
         "0.004364241841711425",
         "0.04660046079555002",
         "0.014"
        ],
        [
         "ACME (treated)",
         "0.02277024765796684",
         "0.0043642418417114155",
         "0.04660046079555002",
         "0.014"
        ],
        [
         "ADE (control)",
         "0.15327727823021728",
         "-0.034525272199690045",
         "0.317216905252483",
         "0.114"
        ],
        [
         "ADE (treated)",
         "0.15327727823021728",
         "-0.03452527219969004",
         "0.3172169052524829",
         "0.114"
        ],
        [
         "Total effect",
         "0.17604752588818415",
         "-0.0091350963489258",
         "0.3404385178990191",
         "0.068"
        ],
        [
         "Prop. mediated (control)",
         "0.11747887448116216",
         "-0.6272423404887835",
         "0.9249773142261478",
         "0.082"
        ],
        [
         "Prop. mediated (treated)",
         "0.11747887448116216",
         "-0.6272423404887831",
         "0.9249773142261476",
         "0.082"
        ],
        [
         "ACME (average)",
         "0.02277024765796684",
         "0.004364241841711421",
         "0.04660046079555002",
         "0.014"
        ],
        [
         "ADE (average)",
         "0.15327727823021728",
         "-0.034525272199690045",
         "0.317216905252483",
         "0.114"
        ],
        [
         "Prop. mediated (average)",
         "0.11747887448116216",
         "-0.6272423404887834",
         "0.9249773142261477",
         "0.082"
        ]
       ],
       "shape": {
        "columns": 4,
        "rows": 10
       }
      },
      "text/html": [
       "<div>\n",
       "<style scoped>\n",
       "    .dataframe tbody tr th:only-of-type {\n",
       "        vertical-align: middle;\n",
       "    }\n",
       "\n",
       "    .dataframe tbody tr th {\n",
       "        vertical-align: top;\n",
       "    }\n",
       "\n",
       "    .dataframe thead th {\n",
       "        text-align: right;\n",
       "    }\n",
       "</style>\n",
       "<table border=\"1\" class=\"dataframe\">\n",
       "  <thead>\n",
       "    <tr style=\"text-align: right;\">\n",
       "      <th></th>\n",
       "      <th>Estimate</th>\n",
       "      <th>Lower CI bound</th>\n",
       "      <th>Upper CI bound</th>\n",
       "      <th>P-value</th>\n",
       "    </tr>\n",
       "  </thead>\n",
       "  <tbody>\n",
       "    <tr>\n",
       "      <th>ACME (control)</th>\n",
       "      <td>0.023</td>\n",
       "      <td>0.004</td>\n",
       "      <td>0.047</td>\n",
       "      <td>0.014</td>\n",
       "    </tr>\n",
       "    <tr>\n",
       "      <th>ACME (treated)</th>\n",
       "      <td>0.023</td>\n",
       "      <td>0.004</td>\n",
       "      <td>0.047</td>\n",
       "      <td>0.014</td>\n",
       "    </tr>\n",
       "    <tr>\n",
       "      <th>ADE (control)</th>\n",
       "      <td>0.153</td>\n",
       "      <td>-0.035</td>\n",
       "      <td>0.317</td>\n",
       "      <td>0.114</td>\n",
       "    </tr>\n",
       "    <tr>\n",
       "      <th>ADE (treated)</th>\n",
       "      <td>0.153</td>\n",
       "      <td>-0.035</td>\n",
       "      <td>0.317</td>\n",
       "      <td>0.114</td>\n",
       "    </tr>\n",
       "    <tr>\n",
       "      <th>Total effect</th>\n",
       "      <td>0.176</td>\n",
       "      <td>-0.009</td>\n",
       "      <td>0.340</td>\n",
       "      <td>0.068</td>\n",
       "    </tr>\n",
       "    <tr>\n",
       "      <th>Prop. mediated (control)</th>\n",
       "      <td>0.117</td>\n",
       "      <td>-0.627</td>\n",
       "      <td>0.925</td>\n",
       "      <td>0.082</td>\n",
       "    </tr>\n",
       "    <tr>\n",
       "      <th>Prop. mediated (treated)</th>\n",
       "      <td>0.117</td>\n",
       "      <td>-0.627</td>\n",
       "      <td>0.925</td>\n",
       "      <td>0.082</td>\n",
       "    </tr>\n",
       "    <tr>\n",
       "      <th>ACME (average)</th>\n",
       "      <td>0.023</td>\n",
       "      <td>0.004</td>\n",
       "      <td>0.047</td>\n",
       "      <td>0.014</td>\n",
       "    </tr>\n",
       "    <tr>\n",
       "      <th>ADE (average)</th>\n",
       "      <td>0.153</td>\n",
       "      <td>-0.035</td>\n",
       "      <td>0.317</td>\n",
       "      <td>0.114</td>\n",
       "    </tr>\n",
       "    <tr>\n",
       "      <th>Prop. mediated (average)</th>\n",
       "      <td>0.117</td>\n",
       "      <td>-0.627</td>\n",
       "      <td>0.925</td>\n",
       "      <td>0.082</td>\n",
       "    </tr>\n",
       "  </tbody>\n",
       "</table>\n",
       "</div>"
      ],
      "text/plain": [
       "                          Estimate  Lower CI bound  Upper CI bound  P-value\n",
       "ACME (control)               0.023           0.004           0.047    0.014\n",
       "ACME (treated)               0.023           0.004           0.047    0.014\n",
       "ADE (control)                0.153          -0.035           0.317    0.114\n",
       "ADE (treated)                0.153          -0.035           0.317    0.114\n",
       "Total effect                 0.176          -0.009           0.340    0.068\n",
       "Prop. mediated (control)     0.117          -0.627           0.925    0.082\n",
       "Prop. mediated (treated)     0.117          -0.627           0.925    0.082\n",
       "ACME (average)               0.023           0.004           0.047    0.014\n",
       "ADE (average)                0.153          -0.035           0.317    0.114\n",
       "Prop. mediated (average)     0.117          -0.627           0.925    0.082"
      ]
     },
     "execution_count": 48,
     "metadata": {},
     "output_type": "execute_result"
    }
   ],
   "source": [
    "model_data = df_scale_ms.dropna()\n",
    "outcome_model = sm.OLS.from_formula(\n",
    "    \"edss_sqrt ~ choroid_volume + PRL + age + tiv + Female\", data=model_data\n",
    ")\n",
    "mediator_model = sm.GLM.from_formula(\n",
    "    \"PRL ~ choroid_volume + age + tiv + Female\", data=model_data, family=sm.families.Poisson()\n",
    ")\n",
    "\n",
    "med = Mediation(\n",
    "    outcome_model, mediator_model, \"choroid_volume\", \"PRL\"\n",
    ").fit(method=\"bootstrap\")\n",
    "med.summary()"
   ]
  },
  {
   "cell_type": "markdown",
   "metadata": {},
   "source": [
    "Lesion volume mediating effect of PRL count on EDSS. There is a significant effect, but don't think it describes anything interesting (ie more PRL mean greater lesion volume which is related to EDSS)"
   ]
  },
  {
   "cell_type": "code",
   "execution_count": 49,
   "metadata": {},
   "outputs": [
    {
     "data": {
      "application/vnd.microsoft.datawrangler.viewer.v0+json": {
       "columns": [
        {
         "name": "index",
         "rawType": "object",
         "type": "string"
        },
        {
         "name": "Estimate",
         "rawType": "float64",
         "type": "float"
        },
        {
         "name": "Lower CI bound",
         "rawType": "float64",
         "type": "float"
        },
        {
         "name": "Upper CI bound",
         "rawType": "float64",
         "type": "float"
        },
        {
         "name": "P-value",
         "rawType": "float64",
         "type": "float"
        }
       ],
       "conversionMethod": "pd.DataFrame",
       "ref": "ba94b4ae-6db5-48e2-b730-cf173c1a9f47",
       "rows": [
        [
         "ACME (control)",
         "0.011112915799861704",
         "-0.0009843171040295209",
         "0.02715779378840441",
         "0.084"
        ],
        [
         "ACME (treated)",
         "0.011112915799861704",
         "-0.0009843171040295404",
         "0.0271577937884044",
         "0.084"
        ],
        [
         "ADE (control)",
         "0.018614801898510815",
         "-0.0017101809886839892",
         "0.04186135605225142",
         "0.074"
        ],
        [
         "ADE (treated)",
         "0.018614801898510818",
         "-0.0017101809886839745",
         "0.0418613560522514",
         "0.074"
        ],
        [
         "Total effect",
         "0.029727717698372524",
         "0.006987153958090525",
         "0.05445786556350057",
         "0.008"
        ],
        [
         "Prop. mediated (control)",
         "0.36632822151529476",
         "-0.11144597100239514",
         "1.1228520761033325",
         "0.092"
        ],
        [
         "Prop. mediated (treated)",
         "0.36632822151529454",
         "-0.11144597100239496",
         "1.1228520761033305",
         "0.092"
        ],
        [
         "ACME (average)",
         "0.011112915799861704",
         "-0.0009843171040295306",
         "0.027157793788404404",
         "0.084"
        ],
        [
         "ADE (average)",
         "0.018614801898510815",
         "-0.0017101809886839819",
         "0.04186135605225141",
         "0.074"
        ],
        [
         "Prop. mediated (average)",
         "0.36632822151529465",
         "-0.11144597100239505",
         "1.1228520761033316",
         "0.092"
        ]
       ],
       "shape": {
        "columns": 4,
        "rows": 10
       }
      },
      "text/html": [
       "<div>\n",
       "<style scoped>\n",
       "    .dataframe tbody tr th:only-of-type {\n",
       "        vertical-align: middle;\n",
       "    }\n",
       "\n",
       "    .dataframe tbody tr th {\n",
       "        vertical-align: top;\n",
       "    }\n",
       "\n",
       "    .dataframe thead th {\n",
       "        text-align: right;\n",
       "    }\n",
       "</style>\n",
       "<table border=\"1\" class=\"dataframe\">\n",
       "  <thead>\n",
       "    <tr style=\"text-align: right;\">\n",
       "      <th></th>\n",
       "      <th>Estimate</th>\n",
       "      <th>Lower CI bound</th>\n",
       "      <th>Upper CI bound</th>\n",
       "      <th>P-value</th>\n",
       "    </tr>\n",
       "  </thead>\n",
       "  <tbody>\n",
       "    <tr>\n",
       "      <th>ACME (control)</th>\n",
       "      <td>0.011</td>\n",
       "      <td>-9.843e-04</td>\n",
       "      <td>0.027</td>\n",
       "      <td>0.084</td>\n",
       "    </tr>\n",
       "    <tr>\n",
       "      <th>ACME (treated)</th>\n",
       "      <td>0.011</td>\n",
       "      <td>-9.843e-04</td>\n",
       "      <td>0.027</td>\n",
       "      <td>0.084</td>\n",
       "    </tr>\n",
       "    <tr>\n",
       "      <th>ADE (control)</th>\n",
       "      <td>0.019</td>\n",
       "      <td>-1.710e-03</td>\n",
       "      <td>0.042</td>\n",
       "      <td>0.074</td>\n",
       "    </tr>\n",
       "    <tr>\n",
       "      <th>ADE (treated)</th>\n",
       "      <td>0.019</td>\n",
       "      <td>-1.710e-03</td>\n",
       "      <td>0.042</td>\n",
       "      <td>0.074</td>\n",
       "    </tr>\n",
       "    <tr>\n",
       "      <th>Total effect</th>\n",
       "      <td>0.030</td>\n",
       "      <td>6.987e-03</td>\n",
       "      <td>0.054</td>\n",
       "      <td>0.008</td>\n",
       "    </tr>\n",
       "    <tr>\n",
       "      <th>Prop. mediated (control)</th>\n",
       "      <td>0.366</td>\n",
       "      <td>-1.114e-01</td>\n",
       "      <td>1.123</td>\n",
       "      <td>0.092</td>\n",
       "    </tr>\n",
       "    <tr>\n",
       "      <th>Prop. mediated (treated)</th>\n",
       "      <td>0.366</td>\n",
       "      <td>-1.114e-01</td>\n",
       "      <td>1.123</td>\n",
       "      <td>0.092</td>\n",
       "    </tr>\n",
       "    <tr>\n",
       "      <th>ACME (average)</th>\n",
       "      <td>0.011</td>\n",
       "      <td>-9.843e-04</td>\n",
       "      <td>0.027</td>\n",
       "      <td>0.084</td>\n",
       "    </tr>\n",
       "    <tr>\n",
       "      <th>ADE (average)</th>\n",
       "      <td>0.019</td>\n",
       "      <td>-1.710e-03</td>\n",
       "      <td>0.042</td>\n",
       "      <td>0.074</td>\n",
       "    </tr>\n",
       "    <tr>\n",
       "      <th>Prop. mediated (average)</th>\n",
       "      <td>0.366</td>\n",
       "      <td>-1.114e-01</td>\n",
       "      <td>1.123</td>\n",
       "      <td>0.092</td>\n",
       "    </tr>\n",
       "  </tbody>\n",
       "</table>\n",
       "</div>"
      ],
      "text/plain": [
       "                          Estimate  Lower CI bound  Upper CI bound  P-value\n",
       "ACME (control)               0.011      -9.843e-04           0.027    0.084\n",
       "ACME (treated)               0.011      -9.843e-04           0.027    0.084\n",
       "ADE (control)                0.019      -1.710e-03           0.042    0.074\n",
       "ADE (treated)                0.019      -1.710e-03           0.042    0.074\n",
       "Total effect                 0.030       6.987e-03           0.054    0.008\n",
       "Prop. mediated (control)     0.366      -1.114e-01           1.123    0.092\n",
       "Prop. mediated (treated)     0.366      -1.114e-01           1.123    0.092\n",
       "ACME (average)               0.011      -9.843e-04           0.027    0.084\n",
       "ADE (average)                0.019      -1.710e-03           0.042    0.074\n",
       "Prop. mediated (average)     0.366      -1.114e-01           1.123    0.092"
      ]
     },
     "execution_count": 49,
     "metadata": {},
     "output_type": "execute_result"
    }
   ],
   "source": [
    "outcome_model = sm.OLS.from_formula(\n",
    "    \"edss_sqrt ~ PRL + lesion_vol_logtrans + age + tiv + Female\", data=df_scale_ms\n",
    ")\n",
    "mediator_model = sm.OLS.from_formula(\n",
    "    \"lesion_vol_logtrans ~ PRL + age + tiv + Female\", data=df_scale_ms\n",
    ")\n",
    "\n",
    "med = Mediation(\n",
    "    outcome_model, mediator_model, \"PRL\", \"lesion_vol_logtrans\"\n",
    ").fit(method=\"bootstrap\")\n",
    "med.summary()"
   ]
  },
  {
   "cell_type": "markdown",
   "metadata": {},
   "source": [
    "Significant effect, but same interpretation as above"
   ]
  },
  {
   "cell_type": "code",
   "execution_count": 42,
   "metadata": {},
   "outputs": [
    {
     "data": {
      "application/vnd.microsoft.datawrangler.viewer.v0+json": {
       "columns": [
        {
         "name": "index",
         "rawType": "object",
         "type": "string"
        },
        {
         "name": "Estimate",
         "rawType": "float64",
         "type": "float"
        },
        {
         "name": "Lower CI bound",
         "rawType": "float64",
         "type": "float"
        },
        {
         "name": "Upper CI bound",
         "rawType": "float64",
         "type": "float"
        },
        {
         "name": "P-value",
         "rawType": "float64",
         "type": "float"
        }
       ],
       "conversionMethod": "pd.DataFrame",
       "ref": "8d99c930-fa33-4751-8f3b-21fc6c60ab7f",
       "rows": [
        [
         "ACME (control)",
         "0.08213468427971253",
         "0.03982335816951807",
         "0.1257534832203014",
         "0.0"
        ],
        [
         "ACME (treated)",
         "0.08213468427971253",
         "0.03982335816951807",
         "0.1257534832203014",
         "0.0"
        ],
        [
         "ADE (control)",
         "-0.04421368757995455",
         "-0.10069440427577986",
         "0.008398576486674369",
         "0.11"
        ],
        [
         "ADE (treated)",
         "-0.04421368757995455",
         "-0.10069440427577986",
         "0.008398576486674384",
         "0.11"
        ],
        [
         "Total effect",
         "0.037920996699757965",
         "-0.007443135576627382",
         "0.08394771115029888",
         "0.09"
        ],
        [
         "Prop. mediated (control)",
         "2.0298423581646063",
         "-7.7517223496524865",
         "15.063885699814511",
         "0.09"
        ],
        [
         "Prop. mediated (treated)",
         "2.029842358164606",
         "-7.7517223496524865",
         "15.063885699814511",
         "0.09"
        ],
        [
         "ACME (average)",
         "0.08213468427971253",
         "0.03982335816951807",
         "0.1257534832203014",
         "0.0"
        ],
        [
         "ADE (average)",
         "-0.04421368757995455",
         "-0.10069440427577986",
         "0.008398576486674377",
         "0.11"
        ],
        [
         "Prop. mediated (average)",
         "2.029842358164606",
         "-7.7517223496524865",
         "15.063885699814511",
         "0.09"
        ]
       ],
       "shape": {
        "columns": 4,
        "rows": 10
       }
      },
      "text/html": [
       "<div>\n",
       "<style scoped>\n",
       "    .dataframe tbody tr th:only-of-type {\n",
       "        vertical-align: middle;\n",
       "    }\n",
       "\n",
       "    .dataframe tbody tr th {\n",
       "        vertical-align: top;\n",
       "    }\n",
       "\n",
       "    .dataframe thead th {\n",
       "        text-align: right;\n",
       "    }\n",
       "</style>\n",
       "<table border=\"1\" class=\"dataframe\">\n",
       "  <thead>\n",
       "    <tr style=\"text-align: right;\">\n",
       "      <th></th>\n",
       "      <th>Estimate</th>\n",
       "      <th>Lower CI bound</th>\n",
       "      <th>Upper CI bound</th>\n",
       "      <th>P-value</th>\n",
       "    </tr>\n",
       "  </thead>\n",
       "  <tbody>\n",
       "    <tr>\n",
       "      <th>ACME (control)</th>\n",
       "      <td>0.082</td>\n",
       "      <td>0.040</td>\n",
       "      <td>0.126</td>\n",
       "      <td>0.00</td>\n",
       "    </tr>\n",
       "    <tr>\n",
       "      <th>ACME (treated)</th>\n",
       "      <td>0.082</td>\n",
       "      <td>0.040</td>\n",
       "      <td>0.126</td>\n",
       "      <td>0.00</td>\n",
       "    </tr>\n",
       "    <tr>\n",
       "      <th>ADE (control)</th>\n",
       "      <td>-0.044</td>\n",
       "      <td>-0.101</td>\n",
       "      <td>0.008</td>\n",
       "      <td>0.11</td>\n",
       "    </tr>\n",
       "    <tr>\n",
       "      <th>ADE (treated)</th>\n",
       "      <td>-0.044</td>\n",
       "      <td>-0.101</td>\n",
       "      <td>0.008</td>\n",
       "      <td>0.11</td>\n",
       "    </tr>\n",
       "    <tr>\n",
       "      <th>Total effect</th>\n",
       "      <td>0.038</td>\n",
       "      <td>-0.007</td>\n",
       "      <td>0.084</td>\n",
       "      <td>0.09</td>\n",
       "    </tr>\n",
       "    <tr>\n",
       "      <th>Prop. mediated (control)</th>\n",
       "      <td>2.030</td>\n",
       "      <td>-7.752</td>\n",
       "      <td>15.064</td>\n",
       "      <td>0.09</td>\n",
       "    </tr>\n",
       "    <tr>\n",
       "      <th>Prop. mediated (treated)</th>\n",
       "      <td>2.030</td>\n",
       "      <td>-7.752</td>\n",
       "      <td>15.064</td>\n",
       "      <td>0.09</td>\n",
       "    </tr>\n",
       "    <tr>\n",
       "      <th>ACME (average)</th>\n",
       "      <td>0.082</td>\n",
       "      <td>0.040</td>\n",
       "      <td>0.126</td>\n",
       "      <td>0.00</td>\n",
       "    </tr>\n",
       "    <tr>\n",
       "      <th>ADE (average)</th>\n",
       "      <td>-0.044</td>\n",
       "      <td>-0.101</td>\n",
       "      <td>0.008</td>\n",
       "      <td>0.11</td>\n",
       "    </tr>\n",
       "    <tr>\n",
       "      <th>Prop. mediated (average)</th>\n",
       "      <td>2.030</td>\n",
       "      <td>-7.752</td>\n",
       "      <td>15.064</td>\n",
       "      <td>0.09</td>\n",
       "    </tr>\n",
       "  </tbody>\n",
       "</table>\n",
       "</div>"
      ],
      "text/plain": [
       "                          Estimate  Lower CI bound  Upper CI bound  P-value\n",
       "ACME (control)               0.082           0.040           0.126     0.00\n",
       "ACME (treated)               0.082           0.040           0.126     0.00\n",
       "ADE (control)               -0.044          -0.101           0.008     0.11\n",
       "ADE (treated)               -0.044          -0.101           0.008     0.11\n",
       "Total effect                 0.038          -0.007           0.084     0.09\n",
       "Prop. mediated (control)     2.030          -7.752          15.064     0.09\n",
       "Prop. mediated (treated)     2.030          -7.752          15.064     0.09\n",
       "ACME (average)               0.082           0.040           0.126     0.00\n",
       "ADE (average)               -0.044          -0.101           0.008     0.11\n",
       "Prop. mediated (average)     2.030          -7.752          15.064     0.09"
      ]
     },
     "execution_count": 42,
     "metadata": {},
     "output_type": "execute_result"
    }
   ],
   "source": [
    "outcome_model = sm.OLS.from_formula(\n",
    "    \"edss_sqrt ~ lesion_count + lesion_vol_logtrans + age + tiv + Female\", data=df_scale_ms\n",
    ")\n",
    "mediator_model = sm.OLS.from_formula(\n",
    "    \"lesion_vol_logtrans ~ lesion_count + age + tiv + Female\", data=df_scale_ms\n",
    ")\n",
    "\n",
    "med = Mediation(\n",
    "    outcome_model, mediator_model, \"lesion_count\", \"lesion_vol_logtrans\"\n",
    ").fit(method=\"bootstrap\")\n",
    "med.summary()"
   ]
  },
  {
   "cell_type": "code",
   "execution_count": 135,
   "metadata": {},
   "outputs": [
    {
     "data": {
      "application/vnd.microsoft.datawrangler.viewer.v0+json": {
       "columns": [
        {
         "name": "index",
         "rawType": "object",
         "type": "string"
        },
        {
         "name": "Estimate",
         "rawType": "float64",
         "type": "float"
        },
        {
         "name": "Lower CI bound",
         "rawType": "float64",
         "type": "float"
        },
        {
         "name": "Upper CI bound",
         "rawType": "float64",
         "type": "float"
        },
        {
         "name": "P-value",
         "rawType": "float64",
         "type": "float"
        }
       ],
       "conversionMethod": "pd.DataFrame",
       "ref": "2d1147f3-d7ef-4868-8327-ee63aa2f3621",
       "rows": [
        [
         "ACME (control)",
         "0.040659343748824246",
         "0.016202649415718008",
         "0.06893710871538003",
         "0.0"
        ],
        [
         "ACME (treated)",
         "0.040659343748824246",
         "0.016202649415718",
         "0.06893710871538003",
         "0.0"
        ],
        [
         "ADE (control)",
         "0.04006290670536835",
         "-0.007744543282799138",
         "0.09224700353258342",
         "0.104"
        ],
        [
         "ADE (treated)",
         "0.04006290670536835",
         "-0.007744543282799138",
         "0.09224700353258342",
         "0.104"
        ],
        [
         "Total effect",
         "0.0807222504541926",
         "0.03430056235190951",
         "0.12733014158968997",
         "0.0"
        ],
        [
         "Prop. mediated (control)",
         "0.5050297488038973",
         "0.19374118638149493",
         "1.159003959294425",
         "0.0"
        ],
        [
         "Prop. mediated (treated)",
         "0.5050297488038973",
         "0.1937411863814949",
         "1.159003959294425",
         "0.0"
        ],
        [
         "ACME (average)",
         "0.040659343748824246",
         "0.016202649415718005",
         "0.06893710871538003",
         "0.0"
        ],
        [
         "ADE (average)",
         "0.04006290670536835",
         "-0.007744543282799138",
         "0.09224700353258342",
         "0.104"
        ],
        [
         "Prop. mediated (average)",
         "0.5050297488038973",
         "0.1937411863814949",
         "1.159003959294425",
         "0.0"
        ]
       ],
       "shape": {
        "columns": 4,
        "rows": 10
       }
      },
      "text/html": [
       "<div>\n",
       "<style scoped>\n",
       "    .dataframe tbody tr th:only-of-type {\n",
       "        vertical-align: middle;\n",
       "    }\n",
       "\n",
       "    .dataframe tbody tr th {\n",
       "        vertical-align: top;\n",
       "    }\n",
       "\n",
       "    .dataframe thead th {\n",
       "        text-align: right;\n",
       "    }\n",
       "</style>\n",
       "<table border=\"1\" class=\"dataframe\">\n",
       "  <thead>\n",
       "    <tr style=\"text-align: right;\">\n",
       "      <th></th>\n",
       "      <th>Estimate</th>\n",
       "      <th>Lower CI bound</th>\n",
       "      <th>Upper CI bound</th>\n",
       "      <th>P-value</th>\n",
       "    </tr>\n",
       "  </thead>\n",
       "  <tbody>\n",
       "    <tr>\n",
       "      <th>ACME (control)</th>\n",
       "      <td>0.041</td>\n",
       "      <td>0.016</td>\n",
       "      <td>0.069</td>\n",
       "      <td>0.000</td>\n",
       "    </tr>\n",
       "    <tr>\n",
       "      <th>ACME (treated)</th>\n",
       "      <td>0.041</td>\n",
       "      <td>0.016</td>\n",
       "      <td>0.069</td>\n",
       "      <td>0.000</td>\n",
       "    </tr>\n",
       "    <tr>\n",
       "      <th>ADE (control)</th>\n",
       "      <td>0.040</td>\n",
       "      <td>-0.008</td>\n",
       "      <td>0.092</td>\n",
       "      <td>0.104</td>\n",
       "    </tr>\n",
       "    <tr>\n",
       "      <th>ADE (treated)</th>\n",
       "      <td>0.040</td>\n",
       "      <td>-0.008</td>\n",
       "      <td>0.092</td>\n",
       "      <td>0.104</td>\n",
       "    </tr>\n",
       "    <tr>\n",
       "      <th>Total effect</th>\n",
       "      <td>0.081</td>\n",
       "      <td>0.034</td>\n",
       "      <td>0.127</td>\n",
       "      <td>0.000</td>\n",
       "    </tr>\n",
       "    <tr>\n",
       "      <th>Prop. mediated (control)</th>\n",
       "      <td>0.505</td>\n",
       "      <td>0.194</td>\n",
       "      <td>1.159</td>\n",
       "      <td>0.000</td>\n",
       "    </tr>\n",
       "    <tr>\n",
       "      <th>Prop. mediated (treated)</th>\n",
       "      <td>0.505</td>\n",
       "      <td>0.194</td>\n",
       "      <td>1.159</td>\n",
       "      <td>0.000</td>\n",
       "    </tr>\n",
       "    <tr>\n",
       "      <th>ACME (average)</th>\n",
       "      <td>0.041</td>\n",
       "      <td>0.016</td>\n",
       "      <td>0.069</td>\n",
       "      <td>0.000</td>\n",
       "    </tr>\n",
       "    <tr>\n",
       "      <th>ADE (average)</th>\n",
       "      <td>0.040</td>\n",
       "      <td>-0.008</td>\n",
       "      <td>0.092</td>\n",
       "      <td>0.104</td>\n",
       "    </tr>\n",
       "    <tr>\n",
       "      <th>Prop. mediated (average)</th>\n",
       "      <td>0.505</td>\n",
       "      <td>0.194</td>\n",
       "      <td>1.159</td>\n",
       "      <td>0.000</td>\n",
       "    </tr>\n",
       "  </tbody>\n",
       "</table>\n",
       "</div>"
      ],
      "text/plain": [
       "                          Estimate  Lower CI bound  Upper CI bound  P-value\n",
       "ACME (control)               0.041           0.016           0.069    0.000\n",
       "ACME (treated)               0.041           0.016           0.069    0.000\n",
       "ADE (control)                0.040          -0.008           0.092    0.104\n",
       "ADE (treated)                0.040          -0.008           0.092    0.104\n",
       "Total effect                 0.081           0.034           0.127    0.000\n",
       "Prop. mediated (control)     0.505           0.194           1.159    0.000\n",
       "Prop. mediated (treated)     0.505           0.194           1.159    0.000\n",
       "ACME (average)               0.041           0.016           0.069    0.000\n",
       "ADE (average)                0.040          -0.008           0.092    0.104\n",
       "Prop. mediated (average)     0.505           0.194           1.159    0.000"
      ]
     },
     "execution_count": 135,
     "metadata": {},
     "output_type": "execute_result"
    }
   ],
   "source": [
    "outcome_model = sm.OLS.from_formula(\n",
    "    \"edss_sqrt ~ lesion_vol_logtrans + choroid_volume + thalamus + age + tiv + Female\", data=df_scale_ms\n",
    ")\n",
    "mediator_model = sm.OLS.from_formula(\n",
    "    \"thalamus ~ choroid_volume + lesion_vol_logtrans + age + tiv + Female\", data=df_scale_ms\n",
    ")\n",
    "\n",
    "med = Mediation(\n",
    "    outcome_model, mediator_model, \"lesion_vol_logtrans\", \"thalamus\"\n",
    ").fit(method=\"bootstrap\")\n",
    "med.summary()"
   ]
  },
  {
   "cell_type": "code",
   "execution_count": 43,
   "metadata": {},
   "outputs": [
    {
     "name": "stdout",
     "output_type": "stream",
     "text": [
      "                          Estimate  Lower CI bound  Upper CI bound  P-value\n",
      "ACME (control)               0.004      -9.071e-04           0.011    0.116\n",
      "ACME (treated)               0.004      -9.071e-04           0.011    0.116\n",
      "ADE (control)                0.042       1.933e-03           0.085    0.044\n",
      "ADE (treated)                0.042       1.933e-03           0.085    0.044\n",
      "Total effect                 0.046       6.342e-03           0.089    0.022\n",
      "Prop. mediated (control)     0.077      -4.396e-02           0.507    0.134\n",
      "Prop. mediated (treated)     0.077      -4.396e-02           0.507    0.134\n",
      "ACME (average)               0.004      -9.071e-04           0.011    0.114\n",
      "ADE (average)                0.042       1.933e-03           0.085    0.044\n",
      "Prop. mediated (average)     0.077      -4.396e-02           0.507    0.132\n"
     ]
    }
   ],
   "source": [
    "model_data = df_scale_ms.dropna()\n",
    "outcome_model = sm.OLS.from_formula(\"edss_sqrt ~ lesion_count + PRL + age + Female + tiv\", data=model_data)\n",
    "# print(outcome_model.fit().summary())\n",
    "\n",
    "mediator_model = sm.GLM.from_formula(\"PRL ~ lesion_count + age + Female + tiv\", data=model_data, family=sm.families.Poisson())\n",
    "# print(mediator_model.fit().summary())\n",
    "\n",
    "med = Mediation(\n",
    "    outcome_model, mediator_model, \"lesion_count\", \"PRL\"\n",
    ").fit()\n",
    "print(med.summary())"
   ]
  },
  {
   "cell_type": "markdown",
   "metadata": {},
   "source": [
    "#### Moderation "
   ]
  },
  {
   "cell_type": "code",
   "execution_count": 69,
   "metadata": {},
   "outputs": [],
   "source": [
    "model_data = df_z.copy()\n",
    "model_data = model_data[model_data['dz_type2'] == \"MS\"]"
   ]
  },
  {
   "cell_type": "code",
   "execution_count": 77,
   "metadata": {},
   "outputs": [
    {
     "name": "stdout",
     "output_type": "stream",
     "text": [
      "R2:     0.282\n",
      "R2_adj: 0.27\n",
      "                            coef      p\n",
      "Intercept                 -0.036  0.433\n",
      "dzdur                      0.165  0.005\n",
      "lesion_vol_logtrans        0.157  0.001\n",
      "dzdur:lesion_vol_logtrans  0.104  0.021\n",
      "tiv                       -0.072  0.169\n",
      "age                        0.272  0.000\n",
      "Female                    -0.089  0.082\n"
     ]
    }
   ],
   "source": [
    "moderation_model = sm.OLS.from_formula(\"edss_sqrt ~ dzdur*lesion_vol_logtrans + tiv + age + Female\", data=model_data)\n",
    "res = moderation_model.fit()\n",
    "summary = pd.DataFrame({'coef': res.params, 'p': res.pvalues.round(3)})\n",
    "print(\"R2:     {:0.3}\".format(res.rsquared))\n",
    "print(\"R2_adj: {:0.3}\".format(res.rsquared_adj))\n",
    "print(summary)"
   ]
  },
  {
   "cell_type": "code",
   "execution_count": 78,
   "metadata": {},
   "outputs": [
    {
     "name": "stdout",
     "output_type": "stream",
     "text": [
      "-0.8879458179902774\n"
     ]
    },
    {
     "data": {
      "image/png": "[encoded data removed]",
      "text/plain": [
       "<Figure size 640x480 with 1 Axes>"
      ]
     },
     "metadata": {},
     "output_type": "display_data"
    }
   ],
   "source": [
    "y_lvls = helpers.moderation_y(model_data, res.params, \"dzdur\", \"lesion_vol_logtrans\")\n",
    "helpers.plot_moderation(model_data['dzdur'], model_data['edss_sqrt'], y_lvls)"
   ]
  },
  {
   "cell_type": "code",
   "execution_count": 71,
   "metadata": {},
   "outputs": [
    {
     "name": "stdout",
     "output_type": "stream",
     "text": [
      "R2:     0.257\n",
      "R2_adj: 0.246\n",
      "                       coef      p\n",
      "Intercept             0.011  0.809\n",
      "dzdur                 0.228  0.000\n",
      "choroid_volume        0.076  0.125\n",
      "dzdur:choroid_volume  0.001  0.978\n",
      "tiv                  -0.068  0.204\n",
      "age                   0.275  0.000\n",
      "Female               -0.077  0.145\n"
     ]
    }
   ],
   "source": [
    "model = sm.OLS.from_formula(\"edss_sqrt ~ dzdur*choroid_volume + tiv + age + Female\", data=model_data)\n",
    "res = model.fit()\n",
    "summary = pd.DataFrame({'coef': res.params, 'p': res.pvalues.round(3)})\n",
    "print(\"R2:     {:0.3}\".format(res.rsquared))\n",
    "print(\"R2_adj: {:0.3}\".format(res.rsquared_adj))\n",
    "print(summary)"
   ]
  },
  {
   "cell_type": "markdown",
   "metadata": {},
   "source": [
    "#### Ordinal Regression on EDSS"
   ]
  },
  {
   "cell_type": "code",
   "execution_count": 124,
   "metadata": {},
   "outputs": [
    {
     "name": "stdout",
     "output_type": "stream",
     "text": [
      "Optimization terminated successfully.\n",
      "         Current function value: 2.190125\n",
      "         Iterations: 77\n",
      "         Function evaluations: 79\n",
      "         Gradient evaluations: 79\n"
     ]
    },
    {
     "data": {
      "text/html": [
       "<table class=\"simpletable\">\n",
       "<caption>OrderedModel Results</caption>\n",
       "<tr>\n",
       "  <th>Dep. Variable:</th>           <td>EDSS</td>        <th>  Log-Likelihood:    </th> <td> -812.54</td>\n",
       "</tr>\n",
       "<tr>\n",
       "  <th>Model:</th>               <td>OrderedModel</td>    <th>  AIC:               </th> <td>   1667.</td>\n",
       "</tr>\n",
       "<tr>\n",
       "  <th>Method:</th>           <td>Maximum Likelihood</td> <th>  BIC:               </th> <td>   1749.</td>\n",
       "</tr>\n",
       "<tr>\n",
       "  <th>Date:</th>              <td>Fri, 28 Feb 2025</td>  <th>                     </th>     <td> </td>   \n",
       "</tr>\n",
       "<tr>\n",
       "  <th>Time:</th>                  <td>15:51:02</td>      <th>                     </th>     <td> </td>   \n",
       "</tr>\n",
       "<tr>\n",
       "  <th>No. Observations:</th>       <td>   371</td>       <th>                     </th>     <td> </td>   \n",
       "</tr>\n",
       "<tr>\n",
       "  <th>Df Residuals:</th>           <td>   350</td>       <th>                     </th>     <td> </td>   \n",
       "</tr>\n",
       "<tr>\n",
       "  <th>Df Model:</th>               <td>     4</td>       <th>                     </th>     <td> </td>   \n",
       "</tr>\n",
       "</table>\n",
       "<table class=\"simpletable\">\n",
       "<tr>\n",
       "     <td></td>        <th>coef</th>     <th>std err</th>      <th>z</th>      <th>P>|z|</th>  <th>[0.025</th>    <th>0.975]</th>  \n",
       "</tr>\n",
       "<tr>\n",
       "  <th>PRL</th>     <td>    0.1034</td> <td>    0.042</td> <td>    2.474</td> <td> 0.013</td> <td>    0.021</td> <td>    0.185</td>\n",
       "</tr>\n",
       "<tr>\n",
       "  <th>tiv</th>     <td>   -1.3265</td> <td>    1.296</td> <td>   -1.024</td> <td> 0.306</td> <td>   -3.867</td> <td>    1.214</td>\n",
       "</tr>\n",
       "<tr>\n",
       "  <th>age</th>     <td>    3.4101</td> <td>    0.397</td> <td>    8.590</td> <td> 0.000</td> <td>    2.632</td> <td>    4.188</td>\n",
       "</tr>\n",
       "<tr>\n",
       "  <th>Female</th>  <td>   -0.2848</td> <td>    0.266</td> <td>   -1.069</td> <td> 0.285</td> <td>   -0.807</td> <td>    0.237</td>\n",
       "</tr>\n",
       "<tr>\n",
       "  <th>0.0/1.0</th> <td>   -2.4345</td> <td>    1.547</td> <td>   -1.574</td> <td> 0.116</td> <td>   -5.467</td> <td>    0.598</td>\n",
       "</tr>\n",
       "<tr>\n",
       "  <th>1.0/1.5</th> <td>    0.9753</td> <td>    0.151</td> <td>    6.446</td> <td> 0.000</td> <td>    0.679</td> <td>    1.272</td>\n",
       "</tr>\n",
       "<tr>\n",
       "  <th>1.5/2.0</th> <td>    0.3874</td> <td>    0.094</td> <td>    4.140</td> <td> 0.000</td> <td>    0.204</td> <td>    0.571</td>\n",
       "</tr>\n",
       "<tr>\n",
       "  <th>2.0/2.5</th> <td>   -0.3045</td> <td>    0.124</td> <td>   -2.454</td> <td> 0.014</td> <td>   -0.548</td> <td>   -0.061</td>\n",
       "</tr>\n",
       "<tr>\n",
       "  <th>2.5/3.0</th> <td>   -1.3054</td> <td>    0.218</td> <td>   -5.997</td> <td> 0.000</td> <td>   -1.732</td> <td>   -0.879</td>\n",
       "</tr>\n",
       "<tr>\n",
       "  <th>3.0/3.5</th> <td>   -1.1684</td> <td>    0.207</td> <td>   -5.648</td> <td> 0.000</td> <td>   -1.574</td> <td>   -0.763</td>\n",
       "</tr>\n",
       "<tr>\n",
       "  <th>3.5/4.0</th> <td>   -1.2278</td> <td>    0.223</td> <td>   -5.499</td> <td> 0.000</td> <td>   -1.665</td> <td>   -0.790</td>\n",
       "</tr>\n",
       "<tr>\n",
       "  <th>4.0/4.5</th> <td>   -1.2832</td> <td>    0.244</td> <td>   -5.261</td> <td> 0.000</td> <td>   -1.761</td> <td>   -0.805</td>\n",
       "</tr>\n",
       "<tr>\n",
       "  <th>4.5/5.0</th> <td>   -2.5982</td> <td>    0.497</td> <td>   -5.232</td> <td> 0.000</td> <td>   -3.572</td> <td>   -1.625</td>\n",
       "</tr>\n",
       "<tr>\n",
       "  <th>5.0/5.5</th> <td>   -1.9922</td> <td>    0.374</td> <td>   -5.332</td> <td> 0.000</td> <td>   -2.725</td> <td>   -1.260</td>\n",
       "</tr>\n",
       "<tr>\n",
       "  <th>5.5/6.0</th> <td>   -2.4942</td> <td>    0.497</td> <td>   -5.022</td> <td> 0.000</td> <td>   -3.468</td> <td>   -1.521</td>\n",
       "</tr>\n",
       "<tr>\n",
       "  <th>6.0/6.5</th> <td>   -0.2007</td> <td>    0.176</td> <td>   -1.138</td> <td> 0.255</td> <td>   -0.546</td> <td>    0.145</td>\n",
       "</tr>\n",
       "<tr>\n",
       "  <th>6.5/7.0</th> <td>    0.0030</td> <td>    0.228</td> <td>    0.013</td> <td> 0.990</td> <td>   -0.444</td> <td>    0.450</td>\n",
       "</tr>\n",
       "<tr>\n",
       "  <th>7.0/7.5</th> <td>   -0.9465</td> <td>    0.498</td> <td>   -1.899</td> <td> 0.058</td> <td>   -1.923</td> <td>    0.030</td>\n",
       "</tr>\n",
       "<tr>\n",
       "  <th>7.5/8.0</th> <td>   -0.8638</td> <td>    0.577</td> <td>   -1.497</td> <td> 0.135</td> <td>   -1.995</td> <td>    0.267</td>\n",
       "</tr>\n",
       "<tr>\n",
       "  <th>8.0/8.5</th> <td>   -0.3410</td> <td>    0.584</td> <td>   -0.584</td> <td> 0.560</td> <td>   -1.487</td> <td>    0.804</td>\n",
       "</tr>\n",
       "<tr>\n",
       "  <th>8.5/9.0</th> <td>    0.1048</td> <td>    0.740</td> <td>    0.142</td> <td> 0.887</td> <td>   -1.345</td> <td>    1.554</td>\n",
       "</tr>\n",
       "</table>"
      ],
      "text/latex": [
       "\\begin{center}\n",
       "\\begin{tabular}{lclc}\n",
       "\\toprule\n",
       "\\textbf{Dep. Variable:}    &        EDSS        & \\textbf{  Log-Likelihood:    } &   -812.54   \\\\\n",
       "\\textbf{Model:}            &    OrderedModel    & \\textbf{  AIC:               } &     1667.   \\\\\n",
       "\\textbf{Method:}           & Maximum Likelihood & \\textbf{  BIC:               } &     1749.   \\\\\n",
       "\\textbf{Date:}             &  Fri, 28 Feb 2025  & \\textbf{                     } &             \\\\\n",
       "\\textbf{Time:}             &      15:51:02      & \\textbf{                     } &             \\\\\n",
       "\\textbf{No. Observations:} &          371       & \\textbf{                     } &             \\\\\n",
       "\\textbf{Df Residuals:}     &          350       & \\textbf{                     } &             \\\\\n",
       "\\textbf{Df Model:}         &            4       & \\textbf{                     } &             \\\\\n",
       "\\bottomrule\n",
       "\\end{tabular}\n",
       "\\begin{tabular}{lcccccc}\n",
       "                 & \\textbf{coef} & \\textbf{std err} & \\textbf{z} & \\textbf{P$> |$z$|$} & \\textbf{[0.025} & \\textbf{0.975]}  \\\\\n",
       "\\midrule\n",
       "\\textbf{PRL}     &       0.1034  &        0.042     &     2.474  &         0.013        &        0.021    &        0.185     \\\\\n",
       "\\textbf{tiv}     &      -1.3265  &        1.296     &    -1.024  &         0.306        &       -3.867    &        1.214     \\\\\n",
       "\\textbf{age}     &       3.4101  &        0.397     &     8.590  &         0.000        &        2.632    &        4.188     \\\\\n",
       "\\textbf{Female}  &      -0.2848  &        0.266     &    -1.069  &         0.285        &       -0.807    &        0.237     \\\\\n",
       "\\textbf{0.0/1.0} &      -2.4345  &        1.547     &    -1.574  &         0.116        &       -5.467    &        0.598     \\\\\n",
       "\\textbf{1.0/1.5} &       0.9753  &        0.151     &     6.446  &         0.000        &        0.679    &        1.272     \\\\\n",
       "\\textbf{1.5/2.0} &       0.3874  &        0.094     &     4.140  &         0.000        &        0.204    &        0.571     \\\\\n",
       "\\textbf{2.0/2.5} &      -0.3045  &        0.124     &    -2.454  &         0.014        &       -0.548    &       -0.061     \\\\\n",
       "\\textbf{2.5/3.0} &      -1.3054  &        0.218     &    -5.997  &         0.000        &       -1.732    &       -0.879     \\\\\n",
       "\\textbf{3.0/3.5} &      -1.1684  &        0.207     &    -5.648  &         0.000        &       -1.574    &       -0.763     \\\\\n",
       "\\textbf{3.5/4.0} &      -1.2278  &        0.223     &    -5.499  &         0.000        &       -1.665    &       -0.790     \\\\\n",
       "\\textbf{4.0/4.5} &      -1.2832  &        0.244     &    -5.261  &         0.000        &       -1.761    &       -0.805     \\\\\n",
       "\\textbf{4.5/5.0} &      -2.5982  &        0.497     &    -5.232  &         0.000        &       -3.572    &       -1.625     \\\\\n",
       "\\textbf{5.0/5.5} &      -1.9922  &        0.374     &    -5.332  &         0.000        &       -2.725    &       -1.260     \\\\\n",
       "\\textbf{5.5/6.0} &      -2.4942  &        0.497     &    -5.022  &         0.000        &       -3.468    &       -1.521     \\\\\n",
       "\\textbf{6.0/6.5} &      -0.2007  &        0.176     &    -1.138  &         0.255        &       -0.546    &        0.145     \\\\\n",
       "\\textbf{6.5/7.0} &       0.0030  &        0.228     &     0.013  &         0.990        &       -0.444    &        0.450     \\\\\n",
       "\\textbf{7.0/7.5} &      -0.9465  &        0.498     &    -1.899  &         0.058        &       -1.923    &        0.030     \\\\\n",
       "\\textbf{7.5/8.0} &      -0.8638  &        0.577     &    -1.497  &         0.135        &       -1.995    &        0.267     \\\\\n",
       "\\textbf{8.0/8.5} &      -0.3410  &        0.584     &    -0.584  &         0.560        &       -1.487    &        0.804     \\\\\n",
       "\\textbf{8.5/9.0} &       0.1048  &        0.740     &     0.142  &         0.887        &       -1.345    &        1.554     \\\\\n",
       "\\bottomrule\n",
       "\\end{tabular}\n",
       "%\\caption{OrderedModel Results}\n",
       "\\end{center}"
      ],
      "text/plain": [
       "<class 'statsmodels.iolib.summary.Summary'>\n",
       "\"\"\"\n",
       "                             OrderedModel Results                             \n",
       "==============================================================================\n",
       "Dep. Variable:                   EDSS   Log-Likelihood:                -812.54\n",
       "Model:                   OrderedModel   AIC:                             1667.\n",
       "Method:            Maximum Likelihood   BIC:                             1749.\n",
       "Date:                Fri, 28 Feb 2025                                         \n",
       "Time:                        15:51:02                                         \n",
       "No. Observations:                 371                                         \n",
       "Df Residuals:                     350                                         \n",
       "Df Model:                           4                                         \n",
       "==============================================================================\n",
       "                 coef    std err          z      P>|z|      [0.025      0.975]\n",
       "------------------------------------------------------------------------------\n",
       "PRL            0.1034      0.042      2.474      0.013       0.021       0.185\n",
       "tiv           -1.3265      1.296     -1.024      0.306      -3.867       1.214\n",
       "age            3.4101      0.397      8.590      0.000       2.632       4.188\n",
       "Female        -0.2848      0.266     -1.069      0.285      -0.807       0.237\n",
       "0.0/1.0       -2.4345      1.547     -1.574      0.116      -5.467       0.598\n",
       "1.0/1.5        0.9753      0.151      6.446      0.000       0.679       1.272\n",
       "1.5/2.0        0.3874      0.094      4.140      0.000       0.204       0.571\n",
       "2.0/2.5       -0.3045      0.124     -2.454      0.014      -0.548      -0.061\n",
       "2.5/3.0       -1.3054      0.218     -5.997      0.000      -1.732      -0.879\n",
       "3.0/3.5       -1.1684      0.207     -5.648      0.000      -1.574      -0.763\n",
       "3.5/4.0       -1.2278      0.223     -5.499      0.000      -1.665      -0.790\n",
       "4.0/4.5       -1.2832      0.244     -5.261      0.000      -1.761      -0.805\n",
       "4.5/5.0       -2.5982      0.497     -5.232      0.000      -3.572      -1.625\n",
       "5.0/5.5       -1.9922      0.374     -5.332      0.000      -2.725      -1.260\n",
       "5.5/6.0       -2.4942      0.497     -5.022      0.000      -3.468      -1.521\n",
       "6.0/6.5       -0.2007      0.176     -1.138      0.255      -0.546       0.145\n",
       "6.5/7.0        0.0030      0.228      0.013      0.990      -0.444       0.450\n",
       "7.0/7.5       -0.9465      0.498     -1.899      0.058      -1.923       0.030\n",
       "7.5/8.0       -0.8638      0.577     -1.497      0.135      -1.995       0.267\n",
       "8.0/8.5       -0.3410      0.584     -0.584      0.560      -1.487       0.804\n",
       "8.5/9.0        0.1048      0.740      0.142      0.887      -1.345       1.554\n",
       "==============================================================================\n",
       "\"\"\""
      ]
     },
     "execution_count": 124,
     "metadata": {},
     "output_type": "execute_result"
    }
   ],
   "source": [
    "model_data = df_scale.copy()\n",
    "model_data = model_data.loc[df['dz_type5'].isin([\"RMS\", \"PMS\"]), :].dropna()\n",
    "\n",
    "mod_prob = OrderedModel.from_formula(\"EDSS ~ PRL + tiv + age + Female\",\n",
    "                                     data=model_data, distr='logit')\n",
    "res_prob = mod_prob.fit(method='bfgs')\n",
    "res_prob.summary()"
   ]
  },
  {
   "cell_type": "markdown",
   "metadata": {},
   "source": [
    "#### MSSS"
   ]
  },
  {
   "cell_type": "code",
   "execution_count": 20,
   "metadata": {},
   "outputs": [
    {
     "name": "stdout",
     "output_type": "stream",
     "text": [
      "                            OLS Regression Results                            \n",
      "==============================================================================\n",
      "Dep. Variable:              msss_sqrt   R-squared:                       0.022\n",
      "Model:                            OLS   Adj. R-squared:                  0.012\n",
      "Method:                 Least Squares   F-statistic:                     2.268\n",
      "Date:                Sat, 22 Feb 2025   Prob (F-statistic):             0.0613\n",
      "Time:                        16:36:36   Log-Likelihood:                -417.23\n",
      "No. Observations:                 403   AIC:                             844.5\n",
      "Df Residuals:                     398   BIC:                             864.5\n",
      "Df Model:                           4                                         \n",
      "Covariance Type:            nonrobust                                         \n",
      "====================================================================================\n",
      "                       coef    std err          t      P>|t|      [0.025      0.975]\n",
      "------------------------------------------------------------------------------------\n",
      "Intercept            2.5095      0.522      4.806      0.000       1.483       3.536\n",
      "tiv                 -0.8378      0.465     -1.800      0.073      -1.753       0.077\n",
      "Female              -0.1977      0.100     -1.979      0.049      -0.394      -0.001\n",
      "lesion_vol_cubic     0.0924      0.068      1.358      0.175      -0.041       0.226\n",
      "choroid_volume       0.0830      0.114      0.725      0.469      -0.142       0.308\n",
      "==============================================================================\n",
      "Omnibus:                       33.423   Durbin-Watson:                   2.008\n",
      "Prob(Omnibus):                  0.000   Jarque-Bera (JB):               12.575\n",
      "Skew:                           0.155   Prob(JB):                      0.00186\n",
      "Kurtosis:                       2.192   Cond. No.                         44.6\n",
      "==============================================================================\n",
      "\n",
      "Notes:\n",
      "[1] Standard Errors assume that the covariance matrix of the errors is correctly specified.\n"
     ]
    }
   ],
   "source": [
    "model = sm.OLS.from_formula(\"msss_sqrt ~ tiv + Female + lesion_vol_cubic + choroid_volume\", data=df_scale)\n",
    "res = model.fit()\n",
    "print(res.summary())"
   ]
  },
  {
   "cell_type": "markdown",
   "metadata": {},
   "source": [
    "#### ARMSS"
   ]
  },
  {
   "cell_type": "code",
   "execution_count": 21,
   "metadata": {},
   "outputs": [
    {
     "name": "stdout",
     "output_type": "stream",
     "text": [
      "                            OLS Regression Results                            \n",
      "==============================================================================\n",
      "Dep. Variable:             armss_sqrt   R-squared:                       0.068\n",
      "Model:                            OLS   Adj. R-squared:                  0.059\n",
      "Method:                 Least Squares   F-statistic:                     7.939\n",
      "Date:                Sat, 22 Feb 2025   Prob (F-statistic):           3.49e-06\n",
      "Time:                        16:36:50   Log-Likelihood:                -412.59\n",
      "No. Observations:                 440   AIC:                             835.2\n",
      "Df Residuals:                     435   BIC:                             855.6\n",
      "Df Model:                           4                                         \n",
      "Covariance Type:            nonrobust                                         \n",
      "==================================================================================\n",
      "                     coef    std err          t      P>|t|      [0.025      0.975]\n",
      "----------------------------------------------------------------------------------\n",
      "Intercept          3.0896      0.480      6.436      0.000       2.146       4.033\n",
      "choroid_volume     0.2404      0.102      2.367      0.018       0.041       0.440\n",
      "tiv               -0.7853      0.412     -1.907      0.057      -1.595       0.024\n",
      "Female            -0.1253      0.086     -1.454      0.147      -0.295       0.044\n",
      "age               -0.6815      0.124     -5.498      0.000      -0.925      -0.438\n",
      "==============================================================================\n",
      "Omnibus:                       22.948   Durbin-Watson:                   1.912\n",
      "Prob(Omnibus):                  0.000   Jarque-Bera (JB):               17.307\n",
      "Skew:                           0.385   Prob(JB):                     0.000175\n",
      "Kurtosis:                       2.407   Cond. No.                         45.8\n",
      "==============================================================================\n",
      "\n",
      "Notes:\n",
      "[1] Standard Errors assume that the covariance matrix of the errors is correctly specified.\n"
     ]
    }
   ],
   "source": [
    "model = sm.OLS.from_formula(\"armss_sqrt ~ choroid_volume + tiv + Female + age\", data=df_scale)\n",
    "res = model.fit()\n",
    "print(res.summary())"
   ]
  },
  {
   "cell_type": "markdown",
   "metadata": {},
   "source": [
    "### Mediation"
   ]
  },
  {
   "cell_type": "code",
   "execution_count": 20,
   "metadata": {},
   "outputs": [
    {
     "name": "stdout",
     "output_type": "stream",
     "text": [
      "Process successfully initialized.\n",
      "Based on the Process Macro by Andrew F. Hayes, Ph.D. (www.afhayes.com)\n",
      "\n",
      "\n",
      "****************************** SPECIFICATION ****************************\n",
      "\n",
      "Model = 3\n",
      "\n",
      "Variables:\n",
      "    Cons = Cons\n",
      "    x = choroid_volume\n",
      "    y = edss_sqrt\n",
      "    w = dzdur\n",
      "    m = lesion_vol_logtrans\n",
      "Statistical Controls:\n",
      " age, Female, tiv\n",
      "\n",
      "\n",
      "\n",
      "Sample size:\n",
      "412\n",
      "\n",
      "***************************** OUTCOME MODELS ****************************\n",
      "\n",
      "Outcome = edss_sqrt \n",
      "OLS Regression Summary\n",
      "\n",
      "     R²  Adj. R²    MSE       F  df1  df2  p-value\n",
      " 0.2929   0.2727 0.7273 15.9886   10  386   0.0000\n",
      "\n",
      "Coefficients\n",
      "\n",
      "                                           coeff     se       t      p    LLCI   ULCI\n",
      "Cons                                     -0.0685 0.0478 -1.4335 0.1525 -0.1621 0.0251\n",
      "choroid_volume                            0.0038 0.0560  0.0683 0.9456 -0.1060 0.1136\n",
      "lesion_vol_logtrans                       0.1401 0.0501  2.7947 0.0055  0.0418 0.2384\n",
      "dzdur                                     0.1875 0.0591  3.1716 0.0016  0.0716 0.3033\n",
      "choroid_volume*lesion_vol_logtrans        0.1048 0.0454  2.3074 0.0216  0.0158 0.1939\n",
      "choroid_volume*dzdur                     -0.0704 0.0518 -1.3583 0.1752 -0.1719 0.0312\n",
      "lesion_vol_logtrans*dzdur                 0.0910 0.0475  1.9167 0.0560 -0.0021 0.1841\n",
      "choroid_volume*lesion_vol_logtrans*dzdur  0.0178 0.0484  0.3667 0.7140 -0.0772 0.1127\n",
      "age                                       0.2745 0.0586  4.6831 0.0000  0.1596 0.3894\n",
      "Female                                   -0.0888 0.0530 -1.6758 0.0946 -0.1926 0.0151\n",
      "tiv                                      -0.0682 0.0521 -1.3083 0.1915 -0.1703 0.0339\n",
      "\n",
      "-------------------------------------------------------------------------\n",
      "\n",
      "\n",
      "********************** CONDITIONAL EFFECTS **********************\n",
      "\n",
      "Conditional effect(s) of choroid_volume on edss_sqrt at values of the moderator(s):\n",
      "\n",
      "   dzdur  lesion_vol_logtrans  Effect     SE       t      p    LLCI   ULCI\n",
      " -0.9917              -0.9657 -0.0106 0.0933 -0.1139 0.9094 -0.1934 0.1722\n",
      " -0.9917               0.0304  0.0763 0.0720  1.0594 0.2901 -0.0648 0.2173\n",
      " -0.9917               1.0265  0.1631 0.0983  1.6596 0.0978 -0.0295 0.3558\n",
      "  0.0142              -0.9657 -0.0986 0.0786 -1.2549 0.2103 -0.2527 0.0554\n",
      "  0.0142               0.0304  0.0060 0.0558  0.1079 0.9141 -0.1034 0.1154\n",
      "  0.0142               1.0265  0.1107 0.0645  1.7170 0.0868 -0.0157 0.2370\n",
      "  1.0201              -0.9657 -0.1867 0.1297 -1.4390 0.1510 -0.4409 0.0676\n",
      "  1.0201               0.0304 -0.0642 0.0799 -0.8040 0.4219 -0.2207 0.0923\n",
      "  1.0201               1.0265  0.0583 0.0746  0.7810 0.4353 -0.0880 0.2045\n",
      "\n"
     ]
    },
    {
     "name": "stderr",
     "output_type": "stream",
     "text": [
      "/home/srs-9/.virtualenvs/monai/lib/python3.12/site-packages/pyprocessmacro/models.py:1567: DeprecationWarning: `product` is deprecated as of NumPy 1.25.0, and will be removed in NumPy 2.0. Please use `prod` instead.\n",
      "  grad = eval_expression(\n"
     ]
    }
   ],
   "source": [
    "p2 = Process(data=data_ms_z, model=3, x=\"choroid_volume\", y=\"edss_sqrt\", w=\"dzdur\",\n",
    "            m=[\"lesion_vol_logtrans\"],\n",
    "            controls=[\"age\", \"Female\", \"tiv\"],\n",
    "            controls_in=\"all\")\n",
    "p2.summary()"
   ]
  },
  {
   "cell_type": "code",
   "execution_count": 75,
   "metadata": {},
   "outputs": [
    {
     "data": {
      "application/vnd.microsoft.datawrangler.viewer.v0+json": {
       "columns": [
        {
         "name": "index",
         "rawType": "object",
         "type": "string"
        },
        {
         "name": "Estimate",
         "rawType": "float64",
         "type": "float"
        },
        {
         "name": "Lower CI bound",
         "rawType": "float64",
         "type": "float"
        },
        {
         "name": "Upper CI bound",
         "rawType": "float64",
         "type": "float"
        },
        {
         "name": "P-value",
         "rawType": "float64",
         "type": "float"
        }
       ],
       "conversionMethod": "pd.DataFrame",
       "ref": "4b2a8792-05de-4610-ba17-6624ba920425",
       "rows": [
        [
         "ACME (control)",
         "0.10699619413270116",
         "0.05472400216096038",
         "0.17499491516117494",
         "0.0"
        ],
        [
         "ACME (treated)",
         "0.10699619413270116",
         "0.05472400216096039",
         "0.1749949151611749",
         "0.0"
        ],
        [
         "ADE (control)",
         "0.06799110469259265",
         "-0.10254727444978726",
         "0.2197485507873228",
         "0.426"
        ],
        [
         "ADE (treated)",
         "0.06799110469259265",
         "-0.10254727444978723",
         "0.21974855078732278",
         "0.426"
        ],
        [
         "Total effect",
         "0.17498729882529382",
         "0.011622607100190049",
         "0.33105671012075827",
         "0.036"
        ],
        [
         "Prop. mediated (control)",
         "0.5884303717657069",
         "0.19352378609163562",
         "2.957493330861392",
         "0.036"
        ],
        [
         "Prop. mediated (treated)",
         "0.5884303717657069",
         "0.19352378609163562",
         "2.9574933308613933",
         "0.036"
        ],
        [
         "ACME (average)",
         "0.10699619413270116",
         "0.054724002160960385",
         "0.1749949151611749",
         "0.0"
        ],
        [
         "ADE (average)",
         "0.06799110469259266",
         "-0.10254727444978724",
         "0.2197485507873228",
         "0.426"
        ],
        [
         "Prop. mediated (average)",
         "0.5884303717657069",
         "0.19352378609163562",
         "2.957493330861393",
         "0.036"
        ]
       ],
       "shape": {
        "columns": 4,
        "rows": 10
       }
      },
      "text/html": [
       "<div>\n",
       "<style scoped>\n",
       "    .dataframe tbody tr th:only-of-type {\n",
       "        vertical-align: middle;\n",
       "    }\n",
       "\n",
       "    .dataframe tbody tr th {\n",
       "        vertical-align: top;\n",
       "    }\n",
       "\n",
       "    .dataframe thead th {\n",
       "        text-align: right;\n",
       "    }\n",
       "</style>\n",
       "<table border=\"1\" class=\"dataframe\">\n",
       "  <thead>\n",
       "    <tr style=\"text-align: right;\">\n",
       "      <th></th>\n",
       "      <th>Estimate</th>\n",
       "      <th>Lower CI bound</th>\n",
       "      <th>Upper CI bound</th>\n",
       "      <th>P-value</th>\n",
       "    </tr>\n",
       "  </thead>\n",
       "  <tbody>\n",
       "    <tr>\n",
       "      <th>ACME (control)</th>\n",
       "      <td>0.106996</td>\n",
       "      <td>0.054724</td>\n",
       "      <td>0.174995</td>\n",
       "      <td>0.000</td>\n",
       "    </tr>\n",
       "    <tr>\n",
       "      <th>ACME (treated)</th>\n",
       "      <td>0.106996</td>\n",
       "      <td>0.054724</td>\n",
       "      <td>0.174995</td>\n",
       "      <td>0.000</td>\n",
       "    </tr>\n",
       "    <tr>\n",
       "      <th>ADE (control)</th>\n",
       "      <td>0.067991</td>\n",
       "      <td>-0.102547</td>\n",
       "      <td>0.219749</td>\n",
       "      <td>0.426</td>\n",
       "    </tr>\n",
       "    <tr>\n",
       "      <th>ADE (treated)</th>\n",
       "      <td>0.067991</td>\n",
       "      <td>-0.102547</td>\n",
       "      <td>0.219749</td>\n",
       "      <td>0.426</td>\n",
       "    </tr>\n",
       "    <tr>\n",
       "      <th>Total effect</th>\n",
       "      <td>0.174987</td>\n",
       "      <td>0.011623</td>\n",
       "      <td>0.331057</td>\n",
       "      <td>0.036</td>\n",
       "    </tr>\n",
       "    <tr>\n",
       "      <th>Prop. mediated (control)</th>\n",
       "      <td>0.588430</td>\n",
       "      <td>0.193524</td>\n",
       "      <td>2.957493</td>\n",
       "      <td>0.036</td>\n",
       "    </tr>\n",
       "    <tr>\n",
       "      <th>Prop. mediated (treated)</th>\n",
       "      <td>0.588430</td>\n",
       "      <td>0.193524</td>\n",
       "      <td>2.957493</td>\n",
       "      <td>0.036</td>\n",
       "    </tr>\n",
       "    <tr>\n",
       "      <th>ACME (average)</th>\n",
       "      <td>0.106996</td>\n",
       "      <td>0.054724</td>\n",
       "      <td>0.174995</td>\n",
       "      <td>0.000</td>\n",
       "    </tr>\n",
       "    <tr>\n",
       "      <th>ADE (average)</th>\n",
       "      <td>0.067991</td>\n",
       "      <td>-0.102547</td>\n",
       "      <td>0.219749</td>\n",
       "      <td>0.426</td>\n",
       "    </tr>\n",
       "    <tr>\n",
       "      <th>Prop. mediated (average)</th>\n",
       "      <td>0.588430</td>\n",
       "      <td>0.193524</td>\n",
       "      <td>2.957493</td>\n",
       "      <td>0.036</td>\n",
       "    </tr>\n",
       "  </tbody>\n",
       "</table>\n",
       "</div>"
      ],
      "text/plain": [
       "                          Estimate  Lower CI bound  Upper CI bound  P-value\n",
       "ACME (control)            0.106996        0.054724        0.174995    0.000\n",
       "ACME (treated)            0.106996        0.054724        0.174995    0.000\n",
       "ADE (control)             0.067991       -0.102547        0.219749    0.426\n",
       "ADE (treated)             0.067991       -0.102547        0.219749    0.426\n",
       "Total effect              0.174987        0.011623        0.331057    0.036\n",
       "Prop. mediated (control)  0.588430        0.193524        2.957493    0.036\n",
       "Prop. mediated (treated)  0.588430        0.193524        2.957493    0.036\n",
       "ACME (average)            0.106996        0.054724        0.174995    0.000\n",
       "ADE (average)             0.067991       -0.102547        0.219749    0.426\n",
       "Prop. mediated (average)  0.588430        0.193524        2.957493    0.036"
      ]
     },
     "execution_count": 75,
     "metadata": {},
     "output_type": "execute_result"
    }
   ],
   "source": [
    "outcome_model = sm.OLS.from_formula(\n",
    "    \"edss_sqrt ~ choroid_volume + lesion_vol_logtrans + age + tiv + Female\", data=df_scale\n",
    ")\n",
    "mediator_model = sm.OLS.from_formula(\n",
    "    \"lesion_vol_logtrans ~ choroid_volume + age + tiv + Female\", data=df_scale\n",
    ")\n",
    "\n",
    "med = Mediation(\n",
    "    outcome_model, mediator_model, \"choroid_volume\", \"lesion_vol_logtrans\"\n",
    ").fit(method=\"bootstrap\")\n",
    "med.summary()"
   ]
  },
  {
   "cell_type": "markdown",
   "metadata": {},
   "source": [
    "PRL does not mediate the association between lesion count and EDSS"
   ]
  },
  {
   "cell_type": "code",
   "execution_count": 74,
   "metadata": {},
   "outputs": [
    {
     "name": "stdout",
     "output_type": "stream",
     "text": [
      "                          Estimate  Lower CI bound  Upper CI bound  P-value\n",
      "ACME (control)            0.003839       -0.000646        0.010799    0.120\n",
      "ACME (treated)            0.003839       -0.000646        0.010799    0.116\n",
      "ADE (control)             0.042244        0.001254        0.083481    0.042\n",
      "ADE (treated)             0.042244        0.001254        0.083481    0.042\n",
      "Total effect              0.046083        0.005338        0.087924    0.030\n",
      "Prop. mediated (control)  0.076149       -0.048580        0.438222    0.150\n",
      "Prop. mediated (treated)  0.076149       -0.048580        0.438222    0.146\n",
      "ACME (average)            0.003839       -0.000646        0.010799    0.120\n",
      "ADE (average)             0.042244        0.001254        0.083481    0.042\n",
      "Prop. mediated (average)  0.076149       -0.048580        0.438222    0.150\n"
     ]
    }
   ],
   "source": [
    "model_data = df_scale_ms.dropna()\n",
    "outcome_model = sm.OLS.from_formula(\"edss_sqrt ~ lesion_count + PRL + age + Female + tiv\", data=model_data)\n",
    "# print(outcome_model.fit().summary())\n",
    "\n",
    "mediator_model = sm.GLM.from_formula(\"PRL ~ lesion_count + age + Female + tiv\", data=model_data, family=sm.families.Poisson())\n",
    "# print(mediator_model.fit().summary())\n",
    "\n",
    "med = Mediation(\n",
    "    outcome_model, mediator_model, \"lesion_count\", \"PRL\"\n",
    ").fit()\n",
    "print(med.summary())"
   ]
  },
  {
   "cell_type": "code",
   "execution_count": 161,
   "metadata": {},
   "outputs": [
    {
     "name": "stdout",
     "output_type": "stream",
     "text": [
      "                 Generalized Linear Model Regression Results                  \n",
      "==============================================================================\n",
      "Dep. Variable:                    PRL   No. Observations:                  371\n",
      "Model:                            GLM   Df Residuals:                      367\n",
      "Model Family:                 Poisson   Df Model:                            3\n",
      "Link Function:                    Log   Scale:                          1.0000\n",
      "Method:                          IRLS   Log-Likelihood:                -677.32\n",
      "Date:                Sat, 01 Mar 2025   Deviance:                       975.59\n",
      "Time:                        16:05:21   Pearson chi2:                 1.40e+03\n",
      "No. Iterations:                     5   Pseudo R-squ. (CS):             0.2707\n",
      "Covariance Type:            nonrobust                                         \n",
      "==============================================================================\n",
      "                 coef    std err          z      P>|z|      [0.025      0.975]\n",
      "------------------------------------------------------------------------------\n",
      "Intercept      2.4501      0.216     11.368      0.000       2.028       2.873\n",
      "PMS            0.1680      0.145      1.155      0.248      -0.117       0.453\n",
      "age           -2.0948      0.216     -9.677      0.000      -2.519      -1.670\n",
      "Female        -0.5062      0.110     -4.607      0.000      -0.722      -0.291\n",
      "==============================================================================\n"
     ]
    }
   ],
   "source": [
    "model_data = df_scale.copy()\n",
    "model_data = model_data.loc[df['dz_type5'].isin([\"RMS\", \"PMS\"]), :].dropna()\n",
    "model_data = pd.concat(\n",
    "    (model_data, pd.get_dummies(model_data['dz_type5'])), axis=1\n",
    ")\n",
    "model_data['PMS'] = model_data['PMS'].astype(\"int64\")\n",
    "\n",
    "model = sm.GLM.from_formula(\"PRL ~ PMS + age + Female\", data=model_data, family=sm.families.Poisson())\n",
    "res = model.fit()\n",
    "print(res.summary())"
   ]
  },
  {
   "cell_type": "markdown",
   "metadata": {},
   "source": [
    "### Predicting MS Phenotype"
   ]
  },
  {
   "cell_type": "markdown",
   "metadata": {},
   "source": [
    "Logistic regression on PMS"
   ]
  },
  {
   "cell_type": "code",
   "execution_count": 160,
   "metadata": {},
   "outputs": [
    {
     "name": "stdout",
     "output_type": "stream",
     "text": [
      "Optimization terminated successfully.\n",
      "         Current function value: 0.379418\n",
      "         Iterations 7\n",
      "                           Logit Regression Results                           \n",
      "==============================================================================\n",
      "Dep. Variable:                    PMS   No. Observations:                  410\n",
      "Model:                          Logit   Df Residuals:                      405\n",
      "Method:                           MLE   Df Model:                            4\n",
      "Date:                Fri, 28 Feb 2025   Pseudo R-squ.:                  0.2518\n",
      "Time:                        16:07:18   Log-Likelihood:                -155.56\n",
      "converged:                       True   LL-Null:                       -207.91\n",
      "Covariance Type:            nonrobust   LLR p-value:                 9.854e-22\n",
      "==============================================================================\n",
      "                 coef    std err          z      P>|z|      [0.025      0.975]\n",
      "------------------------------------------------------------------------------\n",
      "Intercept     -1.9558      0.190    -10.310      0.000      -2.328      -1.584\n",
      "PRL            0.1270      0.151      0.840      0.401      -0.169       0.423\n",
      "age            1.4288      0.193      7.391      0.000       1.050       1.808\n",
      "tiv           -0.2075      0.175     -1.185      0.236      -0.550       0.136\n",
      "Female        -0.6028      0.160     -3.774      0.000      -0.916      -0.290\n",
      "==============================================================================\n"
     ]
    }
   ],
   "source": [
    "model_data = df_z.loc[df_z['dz_type5'].isin(['RMS', 'PMS'])]\n",
    "model_data = pd.concat(\n",
    "    (model_data, pd.get_dummies(model_data['dz_type5'])), axis=1\n",
    ")\n",
    "model_data['PMS'] = model_data['PMS'].astype(\"int64\")\n",
    "\n",
    "# logit_mod = sm.Logit.from_formula(\"PMS ~ choroid_volume + lesion_vol_cubic + dzdur + age + tiv + Female\", data=model_data)\n",
    "logit_mod = sm.Logit.from_formula(\"PMS ~ PRL + age + tiv + Female\", data=model_data)\n",
    "res = logit_mod.fit()\n",
    "print(res.summary())"
   ]
  },
  {
   "cell_type": "code",
   "execution_count": 84,
   "metadata": {},
   "outputs": [
    {
     "name": "stdout",
     "output_type": "stream",
     "text": [
      "Optimization terminated successfully.\n",
      "         Current function value: 0.416241\n",
      "         Iterations 6\n",
      "                           Logit Regression Results                           \n",
      "==============================================================================\n",
      "Dep. Variable:                     MS   No. Observations:                  487\n",
      "Model:                          Logit   Df Residuals:                      482\n",
      "Method:                           MLE   Df Model:                            4\n",
      "Date:                Thu, 27 Feb 2025   Pseudo R-squ.:                 0.03108\n",
      "Time:                        14:16:44   Log-Likelihood:                -202.71\n",
      "converged:                       True   LL-Null:                       -209.21\n",
      "Covariance Type:            nonrobust   LLR p-value:                   0.01126\n",
      "==================================================================================\n",
      "                     coef    std err          z      P>|z|      [0.025      0.975]\n",
      "----------------------------------------------------------------------------------\n",
      "Intercept          1.7739      0.133     13.305      0.000       1.513       2.035\n",
      "choroid_volume     0.2540      0.150      1.699      0.089      -0.039       0.547\n",
      "age               -0.3435      0.146     -2.349      0.019      -0.630      -0.057\n",
      "tiv               -0.4598      0.156     -2.950      0.003      -0.765      -0.154\n",
      "Female            -0.3088      0.161     -1.913      0.056      -0.625       0.008\n",
      "==================================================================================\n"
     ]
    }
   ],
   "source": [
    "model_data = df_z.loc[df_z['dz_type2'].isin(['MS', '!MS'])]\n",
    "model_data = pd.concat(\n",
    "    (model_data, pd.get_dummies(model_data['dz_type2'])), axis=1\n",
    ")\n",
    "model_data['MS'] = model_data['MS'].astype(\"int64\")\n",
    "\n",
    "# logit_mod = sm.Logit.from_formula(\"PMS ~ choroid_volume + lesion_vol_cubic + dzdur + age + tiv + Female\", data=model_data)\n",
    "logit_mod = sm.Logit.from_formula(\"MS ~ choroid_volume + age + tiv + Female\", data=model_data)\n",
    "res = logit_mod.fit()\n",
    "print(res.summary())"
   ]
  },
  {
   "cell_type": "code",
   "execution_count": 88,
   "metadata": {},
   "outputs": [
    {
     "data": {
      "text/plain": [
       "8.653913845857144"
      ]
     },
     "execution_count": 88,
     "metadata": {},
     "output_type": "execute_result"
    }
   ],
   "source": [
    "df.loc[df[\"dz_type5\"]==\"OIND\", \"dzdur\"].mean()"
   ]
  }
 ],
 "metadata": {
  "kernelspec": {
   "display_name": "monai",
   "language": "python",
   "name": "python3"
  },
  "language_info": {
   "codemirror_mode": {
    "name": "ipython",
    "version": 3
   },
   "file_extension": ".py",
   "mimetype": "text/x-python",
   "name": "python",
   "nbconvert_exporter": "python",
   "pygments_lexer": "ipython3",
   "version": "3.12.4"
  }
 },
 "nbformat": 4,
 "nbformat_minor": 2
}
