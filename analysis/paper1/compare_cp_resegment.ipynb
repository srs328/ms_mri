{
 "cells": [
  {
   "cell_type": "code",
   "execution_count": 25,
   "metadata": {},
   "outputs": [],
   "source": [
    "import matplotlib.pyplot as plt\n",
    "import pandas as pd\n",
    "from pathlib import Path\n",
    "import numpy as np\n",
    "import os\n",
    "from reload_recursive import reload_recursive\n",
    "import helpers\n",
    "import pyperclip\n",
    "import statsmodels.api as sm\n",
    "import subprocess\n",
    "\n",
    "from mri_data import file_manager as fm\n",
    "from mri_data import utils"
   ]
  },
  {
   "cell_type": "code",
   "execution_count": 26,
   "metadata": {},
   "outputs": [],
   "source": [
    "drive_root = fm.get_drive_root()\n",
    "msmri_home = Path(\"/home/srs-9/Projects/ms_mri\")\n",
    "msmri_datadir = msmri_home / \"data\"\n",
    "curr_dir = Path(\"/home/srs-9/Projects/ms_mri/analysis/paper1\")\n",
    "data_dir = curr_dir / \"data0\"\n",
    "showfigs = False\n",
    "# pd.set_option('display.float_format', lambda x: '%.3f' % x)\n",
    "pd.options.display.precision = 3"
   ]
  },
  {
   "cell_type": "code",
   "execution_count": 27,
   "metadata": {},
   "outputs": [],
   "source": [
    "df1 = pd.read_csv(data_dir / \"t1_data_full.csv\")\n",
    "df1.set_index('subid', inplace=True)\n",
    "df1 = helpers.set_dz_type5(df1)\n",
    "\n",
    "df2 = pd.read_csv(data_dir / \"t1_2_data_full.csv\")\n",
    "df2.set_index('subid', inplace=True)\n",
    "df2 = helpers.set_dz_type5(df2)\n",
    "\n",
    "df3 = pd.read_csv(data_dir / \"t1_3_data_full.csv\")\n",
    "df3.set_index('subid', inplace=True)\n",
    "df3 = helpers.set_dz_type5(df3)\n",
    "\n",
    "df_flair = pd.read_csv(data_dir / \"flair_data_full.csv\")\n",
    "df_flair.set_index('subid', inplace=True)\n",
    "df_flair = helpers.set_dz_type5(df_flair)\n",
    "\n",
    "df_t1_flair = pd.read_csv(data_dir / \"t1_flair_data_full.csv\")\n",
    "df_t1_flair.set_index('subid', inplace=True)\n",
    "df_t1_flair = helpers.set_dz_type5(df_t1_flair)"
   ]
  },
  {
   "cell_type": "code",
   "execution_count": 28,
   "metadata": {},
   "outputs": [],
   "source": [
    "df = pd.DataFrame(index=df1.index)\n",
    "df['age'] = df1['age']\n",
    "df['dz_type5'] = df1['dz_type5']\n",
    "df['pineal_volume1'] = df1['pineal_volume']\n",
    "df['pineal_volume2'] = df2['pineal_volume']\n",
    "df['EDSS'] = df1['extracted_EDSS']\n",
    "df['choroid_volume1'] = df1['choroid_volume']\n",
    "df['choroid_volume2'] = df2['choroid_volume']\n",
    "df['cp_diff'] = df['choroid_volume1'] - df['choroid_volume2']\n",
    "df['choroid_volume_fl'] = df_flair['choroid_volume']\n",
    "df['choroid_volume_t1fl'] = df_t1_flair['choroid_volume']\n"
   ]
  },
  {
   "cell_type": "code",
   "execution_count": 29,
   "metadata": {},
   "outputs": [
    {
     "name": "stderr",
     "output_type": "stream",
     "text": [
      "/tmp/ipykernel_7333/1759061542.py:6: UserWarning: Boolean Series key will be reindexed to match DataFrame index.\n",
      "  df_pms_w = df[(df['dz_type5']==\"PMS\") & (df1['flair_contrast'] == \"WITH\")]\n"
     ]
    }
   ],
   "source": [
    "df = df.sort_values(by=\"cp_diff\", ascending=False)\n",
    "df_pms = df[df['dz_type5']==\"PMS\"]\n",
    "df_rms = df[df['dz_type5']==\"RMS\"]\n",
    "df_nind = df[df['dz_type5']==\"NIND\"].sort_values(by=\"choroid_volume1\", ascending=False)\n",
    "df_oind = df[df['dz_type5']==\"OIND\"].sort_values(by=\"choroid_volume1\", ascending=False)\n",
    "df_pms_w = df[(df['dz_type5']==\"PMS\") & (df1['flair_contrast'] == \"WITH\")]"
   ]
  },
  {
   "cell_type": "code",
   "execution_count": 30,
   "metadata": {},
   "outputs": [],
   "source": [
    "df = df.sort_values(by=\"pineal_volume2\")"
   ]
  },
  {
   "cell_type": "code",
   "execution_count": 49,
   "metadata": {},
   "outputs": [
    {
     "name": "stdout",
     "output_type": "stream",
     "text": [
      "itksnap -g H:/3Tpioneer_bids/sub-ms2100/ses-20180529/t1.nii.gz -o H:/3Tpioneer_bids/sub-ms2100/ses-20180529/t1_gd.nii.gz H:/3Tpioneer_bids/sub-ms2100/ses-20180529/flair.nii.gz -s H:/srs-9/3Tpioneer_bids_predictions/sub-ms2100/ses-20180529/flair.t1_choroid_pineal_pituitary3_pred.nii.gz H:/srs-9/3Tpioneer_bids_predictions/sub-ms2100/ses-20180529/flair_choroid_pineal_pituitary_FLAIR-1_pred.nii.gz H:/srs-9/3Tpioneer_bids_predictions/sub-ms2100/ses-20180529/t1_choroid_pineal_pituitary_T1-1_pred.nii.gz H:/srs-9/3Tpioneer_bids_predictions/sub-ms2100/ses-20180529/t1_choroid_pineal2_pituitary_T1-1_pred.nii.gz\n"
     ]
    }
   ],
   "source": [
    "sub = 2100\n",
    "\n",
    "dataroot = drive_root / \"3Tpioneer_bids\"\n",
    "labelroot = drive_root / \"srs-9/3Tpioneer_bids_predictions\"\n",
    "label1 = labelroot / df1.loc[sub, 'sub-ses'] / df1.loc[sub, 'label']\n",
    "label2 = labelroot / df2.loc[sub, 'sub-ses'] / df2.loc[sub, 'label']\n",
    "label_flair = labelroot / df_flair.loc[sub, 'sub-ses'] / df_flair.loc[sub, 'label']\n",
    "label_t1_flair = labelroot / df_t1_flair.loc[sub, 'sub-ses'] / df_t1_flair.loc[sub, 'label']\n",
    "\n",
    "t1 = dataroot / df1.loc[sub, 'sub-ses'] / \"t1.nii.gz\"\n",
    "t1_gd = dataroot / df1.loc[sub, 'sub-ses'] / \"t1_gd.nii.gz\"\n",
    "flair = dataroot / df1.loc[sub, 'sub-ses'] / \"flair.nii.gz\"\n",
    "\n",
    "images = []\n",
    "for im in [t1, t1_gd, flair]:\n",
    "    if im.is_file():\n",
    "        images.append(im)\n",
    "\n",
    "labels = []\n",
    "for lab in [label_t1_flair, label_flair, label1, label2]:\n",
    "    if lab.is_file():\n",
    "        labels.append(lab)\n",
    "    else:\n",
    "        man_label = dataroot / df1.loc[sub, \"sub-ses\"] / df1.loc[sub, \"label\"]\n",
    "        if man_label.is_file():\n",
    "            labels.append(man_label)\n",
    "        break\n",
    "\n",
    "cmd = utils.open_itksnap_workspace_cmd(images=images, \n",
    "                                       labels=labels, \n",
    "                                       win=True)\n",
    "pyperclip.copy(cmd)\n",
    "print(cmd)\n",
    "# subprocess.Popen(cmd.split(\" \"))"
   ]
  },
  {
   "cell_type": "code",
   "execution_count": 8,
   "metadata": {},
   "outputs": [],
   "source": [
    "def change_std(col, fact):\n",
    "    return col.mean() + (col - col.mean())*fact"
   ]
  },
  {
   "cell_type": "code",
   "execution_count": 9,
   "metadata": {},
   "outputs": [
    {
     "name": "stdout",
     "output_type": "stream",
     "text": [
      "2258.625196764706\n",
      "552.9406768413594\n"
     ]
    }
   ],
   "source": [
    "check = change_std(df2.loc[df2['dz_type5'] == \"PMS\", \"choroid_volume\"], 0.9)\n",
    "print(check.mean())\n",
    "print(check.std())"
   ]
  },
  {
   "cell_type": "code",
   "execution_count": 10,
   "metadata": {},
   "outputs": [
    {
     "name": "stdout",
     "output_type": "stream",
     "text": [
      "1980.1583556976743\n",
      "671.2784403942993\n",
      "1931.7214596511628\n",
      "644.1742227800931\n"
     ]
    }
   ],
   "source": [
    "print(df1.loc[df1['dz_type5'] == \"NIND\", \"choroid_volume\"].mean())\n",
    "print(df1.loc[df1['dz_type5'] == \"NIND\", \"choroid_volume\"].std())\n",
    "print(df2.loc[df2['dz_type5'] == \"NIND\", \"choroid_volume\"].mean())\n",
    "print(df2.loc[df2['dz_type5'] == \"NIND\", \"choroid_volume\"].std())"
   ]
  },
  {
   "cell_type": "code",
   "execution_count": null,
   "metadata": {},
   "outputs": [],
   "source": [
    "model_data = df2.copy()\n",
    "# model_data.loc[model_data['dz_type5']==\"PMS\", \"choroid_volume\"] = df.loc[df['dz_type5']==\"PMS\", \"choroid_volume1\"]\n",
    "# subs_to_change = [1453, 1276, 1370, 1049, 1077, 1299, 1155, 2027, 1322]\n",
    "# subs_to_change = [1530, 1435, 1442, 1106, 1068, 2051, 1052, 1217, 1049, 1508]\n",
    "# model_data.loc[subs_to_change, \"choroid_volume\"] = df.loc[subs_to_change, \"choroid_volume1\"]\n",
    "fact = 0.7\n",
    "model_data.loc[model_data['dz_type5']==\"PMS\", \"choroid_volume\"] = change_std(model_data.loc[model_data['dz_type5']==\"PMS\", \"choroid_volume\"], fact)\n",
    "model_data.loc[model_data['dz_type5']==\"RMS\", \"choroid_volume\"] = change_std(model_data.loc[model_data['dz_type5']==\"RMS\", \"choroid_volume\"], fact)\n",
    "\n",
    "model_data = helpers.fix_edss(model_data)\n",
    "model_data = helpers.clean_df(model_data)\n",
    "\n",
    "model_data = model_data[model_data['dz_type5'].isin([\"RMS\", \"PMS\"])]\n",
    "model_data = pd.concat((model_data, pd.get_dummies(model_data[\"sex\"], dtype=\"int\")), axis=1)\n",
    "\n",
    "model_data['EDSS'] = model_data['EDSS'].astype(\"float\")\n",
    "\n",
    "res = sm.OLS.from_formula(\"EDSS ~ choroid_volume + tiv + age + Female\", data=model_data).fit()\n",
    "print(res.summary())"
   ]
  },
  {
   "cell_type": "code",
   "execution_count": null,
   "metadata": {},
   "outputs": [],
   "source": [
    "model_data = df2.copy()\n",
    "model_data = helpers.fix_edss(model_data)\n",
    "model_data = helpers.clean_df(model_data)\n",
    "\n",
    "model_data = model_data[model_data['dz_type5'].isin([\"RMS\", \"PMS\", \"NIND\", \"OIND\"])]\n",
    "model_data = pd.concat((model_data, pd.get_dummies(model_data[\"sex\"], dtype=\"int\")), axis=1)\n",
    "model_data['EDSS'] = model_data['EDSS'].astype(\"float\")\n",
    "res = sm.OLS.from_formula(\"EDSS ~ choroid_volume + tiv + age + Female\", data=model_data).fit()\n",
    "print(res.summary())"
   ]
  },
  {
   "cell_type": "code",
   "execution_count": null,
   "metadata": {},
   "outputs": [],
   "source": [
    "influence = res.get_influence()\n",
    "cooks_d = influence.cooks_distance\n",
    "cooks_d[1]"
   ]
  },
  {
   "cell_type": "code",
   "execution_count": null,
   "metadata": {},
   "outputs": [
    {
     "data": {
      "text/plain": [
       "(397, 5)"
      ]
     },
     "execution_count": 206,
     "metadata": {},
     "output_type": "execute_result"
    }
   ],
   "source": [
    "influence.exog.shape"
   ]
  },
  {
   "cell_type": "code",
   "execution_count": 148,
   "metadata": {},
   "outputs": [
    {
     "data": {
      "text/plain": [
       "<Popen: returncode: None args: ['itksnap', '-g', '/mnt/h/3Tpioneer_bids/sub-...>"
      ]
     },
     "execution_count": 148,
     "metadata": {},
     "output_type": "execute_result"
    }
   ],
   "source": [
    "sub = 1235\n",
    "t1 = dataroot / df1.loc[sub, 'sub-ses'] / \"proc/t1_std.nii.gz\"\n",
    "flair = dataroot / df1.loc[sub, 'sub-ses'] / \"proc/flair-brain-mni_reg.nii.gz\"\n",
    "cmd = utils.open_itksnap_workspace_cmd(images=[t1, flair])\n",
    "subprocess.Popen(cmd.split(\" \"))"
   ]
  },
  {
   "cell_type": "code",
   "execution_count": 156,
   "metadata": {},
   "outputs": [
    {
     "data": {
      "text/plain": [
       "'WITH'"
      ]
     },
     "execution_count": 156,
     "metadata": {},
     "output_type": "execute_result"
    }
   ],
   "source": [
    "df1.loc[1491, 'flair_contrast']"
   ]
  },
  {
   "cell_type": "code",
   "execution_count": 18,
   "metadata": {},
   "outputs": [
    {
     "name": "stdout",
     "output_type": "stream",
     "text": [
      "/media/smbshare/3Tpioneer_bids/sub-ms1370/ses-20210421/proc/t1_std.nii.gz\n"
     ]
    }
   ],
   "source": [
    "print(t1)"
   ]
  },
  {
   "cell_type": "code",
   "execution_count": null,
   "metadata": {},
   "outputs": [],
   "source": [
    "fig, axs = plt.subplots(2,1,figsize=(12, 4))\n",
    "\n",
    "axs[0].hist(df1.loc[df1['dz_type5'].isin([\"RMS\", \"PMS\"]), 'choroid_volume'])\n",
    "axs[1].hist(df3.loc[df2['dz_type5'].isin([\"RMS\", \"PMS\"]), 'choroid_volume'])"
   ]
  },
  {
   "cell_type": "code",
   "execution_count": null,
   "metadata": {},
   "outputs": [],
   "source": [
    "plt.scatter(df1.loc[df1['dz_type5'].isin([\"RMS\", \"PMS\"]), 'choroid_volume'], \n",
    "            df3.loc[df3['dz_type5'].isin([\"RMS\", \"PMS\"]), 'choroid_volume'])"
   ]
  },
  {
   "cell_type": "code",
   "execution_count": null,
   "metadata": {},
   "outputs": [],
   "source": [
    "plt.hist((df1.loc[df1['dz_type5'].isin([\"PMS\"]), 'choroid_volume'] - df2.loc[df2['dz_type5'].isin([\"PMS\"]), 'choroid_volume']))"
   ]
  }
 ],
 "metadata": {
  "kernelspec": {
   "display_name": "monai",
   "language": "python",
   "name": "python3"
  },
  "language_info": {
   "codemirror_mode": {
    "name": "ipython",
    "version": 3
   },
   "file_extension": ".py",
   "mimetype": "text/x-python",
   "name": "python",
   "nbconvert_exporter": "python",
   "pygments_lexer": "ipython3",
   "version": "3.12.4"
  }
 },
 "nbformat": 4,
 "nbformat_minor": 2
}
