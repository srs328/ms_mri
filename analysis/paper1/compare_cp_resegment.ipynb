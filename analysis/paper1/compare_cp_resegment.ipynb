{
 "cells": [
  {
   "cell_type": "code",
   "execution_count": 6,
   "metadata": {},
   "outputs": [],
   "source": [
    "import matplotlib.pyplot as plt\n",
    "import pandas as pd\n",
    "from pathlib import Path\n",
    "import numpy as np\n",
    "import os\n",
    "from reload_recursive import reload_recursive\n",
    "import helpers\n",
    "import pyperclip\n",
    "import statsmodels.api as sm\n",
    "import subprocess\n",
    "\n",
    "from mri_data import file_manager as fm\n",
    "from mri_data import utils"
   ]
  },
  {
   "cell_type": "code",
   "execution_count": 2,
   "metadata": {},
   "outputs": [],
   "source": [
    "drive_root = fm.get_drive_root()\n",
    "msmri_home = Path(\"/home/srs-9/Projects/ms_mri\")\n",
    "msmri_datadir = msmri_home / \"data\"\n",
    "curr_dir = Path(\"/home/srs-9/Projects/ms_mri/analysis/paper1\")\n",
    "data_dir = curr_dir / \"data0\"\n",
    "showfigs = False\n",
    "# pd.set_option('display.float_format', lambda x: '%.3f' % x)\n",
    "pd.options.display.precision = 3"
   ]
  },
  {
   "cell_type": "code",
   "execution_count": 8,
   "metadata": {},
   "outputs": [],
   "source": [
    "df1 = pd.read_csv(data_dir / \"t1_data_full.csv\")\n",
    "df1.set_index('subid', inplace=True)\n",
    "df1 = helpers.set_dz_type5(df1)\n",
    "\n",
    "df2 = pd.read_csv(data_dir / \"t1_2_data_full.csv\")\n",
    "df2.set_index('subid', inplace=True)\n",
    "df2 = helpers.set_dz_type5(df2)\n",
    "\n",
    "df3 = pd.read_csv(data_dir / \"t1_3_data_full.csv\")\n",
    "df3.set_index('subid', inplace=True)\n",
    "df3 = helpers.set_dz_type5(df3)\n",
    "\n",
    "df_flair = pd.read_csv(data_dir / \"flair_data_full.csv\")\n",
    "df_flair.set_index('subid', inplace=True)\n",
    "df_flair = helpers.set_dz_type5(df_flair)\n",
    "\n",
    "df_t1_flair = pd.read_csv(data_dir / \"t1_flair_data_full.csv\")\n",
    "df_t1_flair.set_index('subid', inplace=True)\n",
    "df_t1_flair = helpers.set_dz_type5(df_t1_flair)"
   ]
  },
  {
   "cell_type": "code",
   "execution_count": 9,
   "metadata": {},
   "outputs": [],
   "source": [
    "df = pd.DataFrame(index=df1.index)\n",
    "df['choroid_volume1'] = df1['choroid_volume']\n",
    "df['choroid_volume2'] = df2['choroid_volume']\n",
    "df['choroid_volume_fl'] = df_flair['choroid_volume']\n",
    "df['choroid_volume_t1fl'] = df_t1_flair['choroid_volume']\n",
    "\n",
    "df['cp_diff'] = df['choroid_volume1'] - df['choroid_volume2']\n",
    "df['dz_type5'] = df1['dz_type5']"
   ]
  },
  {
   "cell_type": "code",
   "execution_count": 10,
   "metadata": {},
   "outputs": [],
   "source": [
    "df = df.sort_values(by=\"choroid_volume1\", ascending=False)\n",
    "df_pms = df[df['dz_type5']==\"PMS\"]"
   ]
  },
  {
   "cell_type": "code",
   "execution_count": 25,
   "metadata": {},
   "outputs": [
    {
     "name": "stdout",
     "output_type": "stream",
     "text": [
      "itksnap -g /media/smbshare/3Tpioneer_bids/sub-ms1001/ses-20170215/t1.nii.gz -o /media/smbshare/3Tpioneer_bids/sub-ms1001/ses-20170215/t1_gd.nii.gz /media/smbshare/3Tpioneer_bids/sub-ms1001/ses-20170215/flair.nii.gz -s /media/smbshare/srs-9/3Tpioneer_bids_predictions/sub-ms1001/ses-20170215/t1_choroid_pineal_pituitary_T1-1_pred.nii.gz /media/smbshare/srs-9/3Tpioneer_bids_predictions/sub-ms1001/ses-20170215/t1_choroid_pineal2_pituitary_T1-1_pred.nii.gz /media/smbshare/srs-9/3Tpioneer_bids_predictions/sub-ms1001/ses-20170215/flair_choroid_pineal_pituitary_FLAIR-1_pred.nii.gz /media/smbshare/srs-9/3Tpioneer_bids_predictions/sub-ms1001/ses-20170215/flair.t1_choroid_pineal_pituitary3_pred.nii.gz\n"
     ]
    },
    {
     "data": {
      "text/plain": [
       "<Popen: returncode: None args: ['itksnap', '-g', '/media/smbshare/3Tpioneer_...>"
      ]
     },
     "execution_count": 25,
     "metadata": {},
     "output_type": "execute_result"
    }
   ],
   "source": [
    "sub = 1001\n",
    "\n",
    "dataroot = drive_root / \"3Tpioneer_bids\"\n",
    "labelroot = drive_root / \"srs-9/3Tpioneer_bids_predictions\"\n",
    "label1 = labelroot / df1.loc[sub, 'sub-ses'] / df1.loc[sub, 'label']\n",
    "label2 = labelroot / df2.loc[sub, 'sub-ses'] / df2.loc[sub, 'label']\n",
    "label_flair = labelroot / df_flair.loc[sub, 'sub-ses'] / df_flair.loc[sub, 'label']\n",
    "label_t1_flair = labelroot / df_t1_flair.loc[sub, 'sub-ses'] / df_t1_flair.loc[sub, 'label']\n",
    "\n",
    "t1 = dataroot / df1.loc[sub, 'sub-ses'] / \"t1.nii.gz\"\n",
    "t1_gd = dataroot / df1.loc[sub, 'sub-ses'] / \"t1_gd.nii.gz\"\n",
    "\n",
    "flair = dataroot / df1.loc[sub, 'sub-ses'] / \"flair.nii.gz\"\n",
    "t1_gd = dataroot / df1.loc[sub, 'sub-ses'] / \"t1_gd.nii.gz\"\n",
    "\n",
    "cmd = utils.open_itksnap_workspace_cmd(images=[t1, t1_gd, flair], labels=[label1, label2, label_flair, label_t1_flair], win=False)\n",
    "pyperclip.copy(cmd)\n",
    "print(cmd)\n",
    "subprocess.Popen(cmd.split(\" \"))"
   ]
  },
  {
   "cell_type": "code",
   "execution_count": 20,
   "metadata": {},
   "outputs": [
    {
     "data": {
      "text/plain": [
       "<Popen: returncode: None args: ['itksnap', '-g', '/media/smbshare/3Tpioneer_...>"
      ]
     },
     "execution_count": 20,
     "metadata": {},
     "output_type": "execute_result"
    },
    {
     "name": "stdout",
     "output_type": "stream",
     "text": [
      "Launching ITK-SNAP\n"
     ]
    }
   ],
   "source": [
    "sub = 1370\n",
    "t1 = dataroot / df1.loc[sub, 'sub-ses'] / \"proc/t1_std.nii.gz\"\n",
    "flair = dataroot / df1.loc[sub, 'sub-ses'] / \"proc/flair-brain-mni_reg.nii.gz\"\n",
    "cmd = utils.open_itksnap_workspace_cmd(images=[t1, flair])\n",
    "subprocess.Popen(cmd.split(\" \"))"
   ]
  },
  {
   "cell_type": "code",
   "execution_count": 18,
   "metadata": {},
   "outputs": [
    {
     "name": "stdout",
     "output_type": "stream",
     "text": [
      "/media/smbshare/3Tpioneer_bids/sub-ms1370/ses-20210421/proc/t1_std.nii.gz\n"
     ]
    }
   ],
   "source": [
    "print(t1)"
   ]
  },
  {
   "cell_type": "code",
   "execution_count": null,
   "metadata": {},
   "outputs": [],
   "source": [
    "fig, axs = plt.subplots(2,1,figsize=(12, 4))\n",
    "\n",
    "axs[0].hist(df1.loc[df1['dz_type5'].isin([\"RMS\", \"PMS\"]), 'choroid_volume'])\n",
    "axs[1].hist(df3.loc[df2['dz_type5'].isin([\"RMS\", \"PMS\"]), 'choroid_volume'])"
   ]
  },
  {
   "cell_type": "code",
   "execution_count": null,
   "metadata": {},
   "outputs": [],
   "source": [
    "plt.scatter(df1.loc[df1['dz_type5'].isin([\"RMS\", \"PMS\"]), 'choroid_volume'], \n",
    "            df3.loc[df3['dz_type5'].isin([\"RMS\", \"PMS\"]), 'choroid_volume'])"
   ]
  },
  {
   "cell_type": "code",
   "execution_count": null,
   "metadata": {},
   "outputs": [],
   "source": [
    "plt.hist((df1.loc[df1['dz_type5'].isin([\"PMS\"]), 'choroid_volume'] - df2.loc[df2['dz_type5'].isin([\"PMS\"]), 'choroid_volume']))"
   ]
  },
  {
   "cell_type": "code",
   "execution_count": null,
   "metadata": {},
   "outputs": [],
   "source": [
    "model_data = df2.copy()\n",
    "model_data.loc[model_data['dz_type5']==\"PMS\", \"choroid_volume\"] = df.loc[df['dz_type5']==\"PMS\", \"choroid_volume\"]\n",
    "\n",
    "model_data = helpers.fix_edss(model_data)\n",
    "model_data = helpers.clean_df(model_data)\n",
    "\n",
    "model_data = model_data[model_data['dz_type5'].isin([\"RMS\", \"PMS\"])]\n",
    "model_data = pd.concat((model_data, pd.get_dummies(model_data[\"sex\"], dtype=\"int\")), axis=1)"
   ]
  },
  {
   "cell_type": "code",
   "execution_count": 56,
   "metadata": {},
   "outputs": [],
   "source": [
    "model_data['EDSS'] = model_data['EDSS'].astype(\"float\")"
   ]
  },
  {
   "cell_type": "code",
   "execution_count": 57,
   "metadata": {},
   "outputs": [
    {
     "name": "stdout",
     "output_type": "stream",
     "text": [
      "                            OLS Regression Results                            \n",
      "==============================================================================\n",
      "Dep. Variable:                   EDSS   R-squared:                       0.197\n",
      "Model:                            OLS   Adj. R-squared:                  0.189\n",
      "Method:                 Least Squares   F-statistic:                     23.90\n",
      "Date:                Mon, 10 Mar 2025   Prob (F-statistic):           1.07e-17\n",
      "Time:                        21:53:22   Log-Likelihood:                -778.40\n",
      "No. Observations:                 394   AIC:                             1567.\n",
      "Df Residuals:                     389   BIC:                             1587.\n",
      "Df Model:                           4                                         \n",
      "Covariance Type:            nonrobust                                         \n",
      "==================================================================================\n",
      "                     coef    std err          t      P>|t|      [0.025      0.975]\n",
      "----------------------------------------------------------------------------------\n",
      "Intercept          0.8740      1.428      0.612      0.541      -1.933       3.681\n",
      "choroid_volume  9.753e-06      0.000      0.059      0.953      -0.000       0.000\n",
      "tiv              -6.9e-07   8.17e-07     -0.845      0.399    -2.3e-06    9.16e-07\n",
      "age                0.0658      0.008      8.648      0.000       0.051       0.081\n",
      "Female            -0.3528      0.258     -1.369      0.172      -0.859       0.154\n",
      "==============================================================================\n",
      "Omnibus:                       46.217   Durbin-Watson:                   1.991\n",
      "Prob(Omnibus):                  0.000   Jarque-Bera (JB):               59.819\n",
      "Skew:                           0.947   Prob(JB):                     1.02e-13\n",
      "Kurtosis:                       3.244   Cond. No.                     2.44e+07\n",
      "==============================================================================\n",
      "\n",
      "Notes:\n",
      "[1] Standard Errors assume that the covariance matrix of the errors is correctly specified.\n",
      "[2] The condition number is large, 2.44e+07. This might indicate that there are\n",
      "strong multicollinearity or other numerical problems.\n"
     ]
    }
   ],
   "source": [
    "res = sm.OLS.from_formula(\"EDSS ~ choroid_volume + tiv + age + Female\", data=model_data).fit()\n",
    "print(res.summary())"
   ]
  }
 ],
 "metadata": {
  "kernelspec": {
   "display_name": "monai",
   "language": "python",
   "name": "python3"
  },
  "language_info": {
   "codemirror_mode": {
    "name": "ipython",
    "version": 3
   },
   "file_extension": ".py",
   "mimetype": "text/x-python",
   "name": "python",
   "nbconvert_exporter": "python",
   "pygments_lexer": "ipython3",
   "version": "3.12.7"
  }
 },
 "nbformat": 4,
 "nbformat_minor": 2
}
