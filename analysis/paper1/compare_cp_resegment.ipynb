{
 "cells": [
  {
   "cell_type": "code",
   "execution_count": 109,
   "metadata": {},
   "outputs": [],
   "source": [
    "import matplotlib.pyplot as plt\n",
    "import pandas as pd\n",
    "from pathlib import Path\n",
    "import numpy as np\n",
    "import os\n",
    "from reload_recursive import reload_recursive\n",
    "import helpers\n",
    "import pyperclip\n",
    "import statsmodels.api as sm\n",
    "import subprocess\n",
    "\n",
    "from mri_data import file_manager as fm\n",
    "from mri_data import utils"
   ]
  },
  {
   "cell_type": "code",
   "execution_count": 110,
   "metadata": {},
   "outputs": [],
   "source": [
    "drive_root = fm.get_drive_root()\n",
    "msmri_home = Path(\"/home/srs-9/Projects/ms_mri\")\n",
    "msmri_datadir = msmri_home / \"data\"\n",
    "curr_dir = Path(\"/home/srs-9/Projects/ms_mri/analysis/paper1\")\n",
    "data_dir = curr_dir / \"data0\"\n",
    "showfigs = False\n",
    "# pd.set_option('display.float_format', lambda x: '%.3f' % x)\n",
    "pd.options.display.precision = 3"
   ]
  },
  {
   "cell_type": "code",
   "execution_count": 111,
   "metadata": {},
   "outputs": [],
   "source": [
    "df1 = pd.read_csv(data_dir / \"t1_data_full.csv\")\n",
    "df1.set_index('subid', inplace=True)\n",
    "df1 = helpers.set_dz_type5(df1)\n",
    "\n",
    "df2 = pd.read_csv(data_dir / \"t1_2_data_full.csv\")\n",
    "df2.set_index('subid', inplace=True)\n",
    "df2 = helpers.set_dz_type5(df2)\n",
    "\n",
    "df3 = pd.read_csv(data_dir / \"t1_3_data_full.csv\")\n",
    "df3.set_index('subid', inplace=True)\n",
    "df3 = helpers.set_dz_type5(df3)\n",
    "\n",
    "df_flair = pd.read_csv(data_dir / \"flair_data_full.csv\")\n",
    "df_flair.set_index('subid', inplace=True)\n",
    "df_flair = helpers.set_dz_type5(df_flair)\n",
    "\n",
    "df_t1_flair = pd.read_csv(data_dir / \"t1_flair_data_full.csv\")\n",
    "df_t1_flair.set_index('subid', inplace=True)\n",
    "df_t1_flair = helpers.set_dz_type5(df_t1_flair)"
   ]
  },
  {
   "cell_type": "code",
   "execution_count": 180,
   "metadata": {},
   "outputs": [],
   "source": [
    "df = pd.DataFrame(index=df1.index)\n",
    "df['age'] = df1['age']\n",
    "df['dz_type5'] = df1['dz_type5']\n",
    "df['EDSS'] = df1['extracted_EDSS']\n",
    "df['choroid_volume1'] = df1['choroid_volume']\n",
    "df['choroid_volume2'] = df2['choroid_volume']\n",
    "df['cp_diff'] = df['choroid_volume1'] - df['choroid_volume2']\n",
    "df['choroid_volume_fl'] = df_flair['choroid_volume']\n",
    "df['choroid_volume_t1fl'] = df_t1_flair['choroid_volume']\n"
   ]
  },
  {
   "cell_type": "code",
   "execution_count": 181,
   "metadata": {},
   "outputs": [
    {
     "name": "stderr",
     "output_type": "stream",
     "text": [
      "/tmp/ipykernel_529437/2774009775.py:4: UserWarning: Boolean Series key will be reindexed to match DataFrame index.\n",
      "  df_pms_w = df[(df['dz_type5']==\"PMS\") & (df1['flair_contrast'] == \"WITH\")]\n"
     ]
    }
   ],
   "source": [
    "df = df.sort_values(by=\"cp_diff\", ascending=False)\n",
    "df_pms = df[df['dz_type5']==\"PMS\"]\n",
    "df_rms = df[df['dz_type5']==\"RMS\"]\n",
    "df_pms_w = df[(df['dz_type5']==\"PMS\") & (df1['flair_contrast'] == \"WITH\")]"
   ]
  },
  {
   "cell_type": "code",
   "execution_count": 190,
   "metadata": {},
   "outputs": [],
   "source": [
    "model_data = df2.copy()\n",
    "# model_data.loc[model_data['dz_type5']==\"PMS\", \"choroid_volume\"] = df.loc[df['dz_type5']==\"PMS\", \"choroid_volume1\"]\n",
    "# subs_to_change = [1453, 1276, 1370, 1049, 1077, 1299, 1155, 2027, 1322]\n",
    "subs_to_change = [1530, 1435, 1442, 1106, 1068, 2051, 1052, 1217, 1049, 1508]\n",
    "model_data.loc[subs_to_change, \"choroid_volume\"] = df.loc[subs_to_change, \"choroid_volume1\"]\n",
    "\n",
    "model_data = helpers.fix_edss(model_data)\n",
    "model_data = helpers.clean_df(model_data)\n",
    "\n",
    "model_data = model_data[model_data['dz_type5'].isin([\"RMS\", \"PMS\"])]\n",
    "model_data = pd.concat((model_data, pd.get_dummies(model_data[\"sex\"], dtype=\"int\")), axis=1)\n",
    "\n",
    "model_data['EDSS'] = model_data['EDSS'].astype(\"float\")"
   ]
  },
  {
   "cell_type": "code",
   "execution_count": 191,
   "metadata": {},
   "outputs": [
    {
     "name": "stdout",
     "output_type": "stream",
     "text": [
      "                            OLS Regression Results                            \n",
      "==============================================================================\n",
      "Dep. Variable:                   EDSS   R-squared:                       0.205\n",
      "Model:                            OLS   Adj. R-squared:                  0.197\n",
      "Method:                 Least Squares   F-statistic:                     25.24\n",
      "Date:                Wed, 12 Mar 2025   Prob (F-statistic):           1.28e-18\n",
      "Time:                        11:37:02   Log-Likelihood:                -785.53\n",
      "No. Observations:                 397   AIC:                             1581.\n",
      "Df Residuals:                     392   BIC:                             1601.\n",
      "Df Model:                           4                                         \n",
      "Covariance Type:            nonrobust                                         \n",
      "==================================================================================\n",
      "                     coef    std err          t      P>|t|      [0.025      0.975]\n",
      "----------------------------------------------------------------------------------\n",
      "Intercept          0.9414      1.429      0.659      0.510      -1.867       3.750\n",
      "choroid_volume     0.0002      0.000      1.389      0.166   -9.12e-05       0.001\n",
      "tiv            -8.957e-07   8.15e-07     -1.099      0.273    -2.5e-06    7.07e-07\n",
      "age                0.0627      0.008      8.182      0.000       0.048       0.078\n",
      "Female            -0.3630      0.256     -1.418      0.157      -0.866       0.140\n",
      "==============================================================================\n",
      "Omnibus:                       47.410   Durbin-Watson:                   2.013\n",
      "Prob(Omnibus):                  0.000   Jarque-Bera (JB):               61.475\n",
      "Skew:                           0.952   Prob(JB):                     4.48e-14\n",
      "Kurtosis:                       3.305   Cond. No.                     2.45e+07\n",
      "==============================================================================\n",
      "\n",
      "Notes:\n",
      "[1] Standard Errors assume that the covariance matrix of the errors is correctly specified.\n",
      "[2] The condition number is large, 2.45e+07. This might indicate that there are\n",
      "strong multicollinearity or other numerical problems.\n"
     ]
    }
   ],
   "source": [
    "res = sm.OLS.from_formula(\"EDSS ~ choroid_volume + tiv + age + Female\", data=model_data).fit()\n",
    "print(res.summary())"
   ]
  },
  {
   "cell_type": "code",
   "execution_count": 192,
   "metadata": {},
   "outputs": [
    {
     "name": "stdout",
     "output_type": "stream",
     "text": [
      "                            OLS Regression Results                            \n",
      "==============================================================================\n",
      "Dep. Variable:                   EDSS   R-squared:                       0.209\n",
      "Model:                            OLS   Adj. R-squared:                  0.201\n",
      "Method:                 Least Squares   F-statistic:                     25.94\n",
      "Date:                Wed, 12 Mar 2025   Prob (F-statistic):           4.31e-19\n",
      "Time:                        11:37:33   Log-Likelihood:                -784.41\n",
      "No. Observations:                 397   AIC:                             1579.\n",
      "Df Residuals:                     392   BIC:                             1599.\n",
      "Df Model:                           4                                         \n",
      "Covariance Type:            nonrobust                                         \n",
      "==================================================================================\n",
      "                     coef    std err          t      P>|t|      [0.025      0.975]\n",
      "----------------------------------------------------------------------------------\n",
      "Intercept          0.9531      1.423      0.670      0.503      -1.844       3.750\n",
      "choroid_volume     0.0003      0.000      2.041      0.042    1.11e-05       0.001\n",
      "tiv            -9.839e-07   8.15e-07     -1.207      0.228   -2.59e-06    6.19e-07\n",
      "age                0.0606      0.008      7.886      0.000       0.045       0.076\n",
      "Female            -0.3289      0.256     -1.287      0.199      -0.832       0.174\n",
      "==============================================================================\n",
      "Omnibus:                       48.020   Durbin-Watson:                   2.013\n",
      "Prob(Omnibus):                  0.000   Jarque-Bera (JB):               62.390\n",
      "Skew:                           0.956   Prob(JB):                     2.83e-14\n",
      "Kurtosis:                       3.337   Cond. No.                     2.44e+07\n",
      "==============================================================================\n",
      "\n",
      "Notes:\n",
      "[1] Standard Errors assume that the covariance matrix of the errors is correctly specified.\n",
      "[2] The condition number is large, 2.44e+07. This might indicate that there are\n",
      "strong multicollinearity or other numerical problems.\n"
     ]
    }
   ],
   "source": [
    "model_data = df1.copy()\n",
    "model_data = helpers.fix_edss(model_data)\n",
    "model_data = helpers.clean_df(model_data)\n",
    "\n",
    "model_data = model_data[model_data['dz_type5'].isin([\"RMS\", \"PMS\"])]\n",
    "model_data = pd.concat((model_data, pd.get_dummies(model_data[\"sex\"], dtype=\"int\")), axis=1)\n",
    "model_data['EDSS'] = model_data['EDSS'].astype(\"float\")\n",
    "res = sm.OLS.from_formula(\"EDSS ~ choroid_volume + tiv + age + Female\", data=model_data).fit()\n",
    "print(res.summary())"
   ]
  },
  {
   "cell_type": "code",
   "execution_count": 210,
   "metadata": {},
   "outputs": [],
   "source": [
    "check = model_data.loc[model_data['EDSS'].dropna().index, :]"
   ]
  },
  {
   "cell_type": "code",
   "execution_count": null,
   "metadata": {},
   "outputs": [],
   "source": [
    "influence = res.get_influence()\n",
    "cooks_d = influence.cooks_distance\n",
    "cooks_d[1]"
   ]
  },
  {
   "cell_type": "code",
   "execution_count": 206,
   "metadata": {},
   "outputs": [
    {
     "data": {
      "text/plain": [
       "(397, 5)"
      ]
     },
     "execution_count": 206,
     "metadata": {},
     "output_type": "execute_result"
    }
   ],
   "source": [
    "influence.exog.shape"
   ]
  },
  {
   "cell_type": "code",
   "execution_count": 161,
   "metadata": {},
   "outputs": [
    {
     "name": "stdout",
     "output_type": "stream",
     "text": [
      "itksnap -g H:/3Tpioneer_bids/sub-ms1242/ses-20170830/t1.nii.gz -o H:/3Tpioneer_bids/sub-ms1242/ses-20170830/t1_gd.nii.gz H:/3Tpioneer_bids/sub-ms1242/ses-20170830/flair.nii.gz -s H:/srs-9/3Tpioneer_bids_predictions/sub-ms1242/ses-20170830/t1_choroid_pineal_pituitary_T1-1_pred.nii.gz H:/srs-9/3Tpioneer_bids_predictions/sub-ms1242/ses-20170830/t1_choroid_pineal2_pituitary_T1-1_pred.nii.gz H:/srs-9/3Tpioneer_bids_predictions/sub-ms1242/ses-20170830/flair_choroid_pineal_pituitary_FLAIR-1_pred.nii.gz H:/srs-9/3Tpioneer_bids_predictions/sub-ms1242/ses-20170830/flair.t1_choroid_pineal_pituitary3_pred.nii.gz\n"
     ]
    }
   ],
   "source": [
    "sub = 1242\n",
    "\n",
    "dataroot = drive_root / \"3Tpioneer_bids\"\n",
    "labelroot = drive_root / \"srs-9/3Tpioneer_bids_predictions\"\n",
    "label1 = labelroot / df1.loc[sub, 'sub-ses'] / df1.loc[sub, 'label']\n",
    "label2 = labelroot / df2.loc[sub, 'sub-ses'] / df2.loc[sub, 'label']\n",
    "label_flair = labelroot / df_flair.loc[sub, 'sub-ses'] / df_flair.loc[sub, 'label']\n",
    "label_t1_flair = labelroot / df_t1_flair.loc[sub, 'sub-ses'] / df_t1_flair.loc[sub, 'label']\n",
    "\n",
    "t1 = dataroot / df1.loc[sub, 'sub-ses'] / \"t1.nii.gz\"\n",
    "t1_gd = dataroot / df1.loc[sub, 'sub-ses'] / \"t1_gd.nii.gz\"\n",
    "\n",
    "flair = dataroot / df1.loc[sub, 'sub-ses'] / \"flair.nii.gz\"\n",
    "t1_gd = dataroot / df1.loc[sub, 'sub-ses'] / \"t1_gd.nii.gz\"\n",
    "\n",
    "cmd = utils.open_itksnap_workspace_cmd(images=[t1, t1_gd, flair], \n",
    "                                       labels=[label1, label2, label_flair, label_t1_flair], \n",
    "                                       win=True)\n",
    "pyperclip.copy(cmd)\n",
    "print(cmd)\n",
    "# subprocess.Popen(cmd.split(\" \"))"
   ]
  },
  {
   "cell_type": "code",
   "execution_count": 157,
   "metadata": {},
   "outputs": [
    {
     "data": {
      "text/plain": [
       "False"
      ]
     },
     "execution_count": 157,
     "metadata": {},
     "output_type": "execute_result"
    }
   ],
   "source": [
    "t1_gd.exists()"
   ]
  },
  {
   "cell_type": "code",
   "execution_count": 148,
   "metadata": {},
   "outputs": [
    {
     "data": {
      "text/plain": [
       "<Popen: returncode: None args: ['itksnap', '-g', '/mnt/h/3Tpioneer_bids/sub-...>"
      ]
     },
     "execution_count": 148,
     "metadata": {},
     "output_type": "execute_result"
    }
   ],
   "source": [
    "sub = 1235\n",
    "t1 = dataroot / df1.loc[sub, 'sub-ses'] / \"proc/t1_std.nii.gz\"\n",
    "flair = dataroot / df1.loc[sub, 'sub-ses'] / \"proc/flair-brain-mni_reg.nii.gz\"\n",
    "cmd = utils.open_itksnap_workspace_cmd(images=[t1, flair])\n",
    "subprocess.Popen(cmd.split(\" \"))"
   ]
  },
  {
   "cell_type": "code",
   "execution_count": 156,
   "metadata": {},
   "outputs": [
    {
     "data": {
      "text/plain": [
       "'WITH'"
      ]
     },
     "execution_count": 156,
     "metadata": {},
     "output_type": "execute_result"
    }
   ],
   "source": [
    "df1.loc[1491, 'flair_contrast']"
   ]
  },
  {
   "cell_type": "code",
   "execution_count": 18,
   "metadata": {},
   "outputs": [
    {
     "name": "stdout",
     "output_type": "stream",
     "text": [
      "/media/smbshare/3Tpioneer_bids/sub-ms1370/ses-20210421/proc/t1_std.nii.gz\n"
     ]
    }
   ],
   "source": [
    "print(t1)"
   ]
  },
  {
   "cell_type": "code",
   "execution_count": null,
   "metadata": {},
   "outputs": [],
   "source": [
    "fig, axs = plt.subplots(2,1,figsize=(12, 4))\n",
    "\n",
    "axs[0].hist(df1.loc[df1['dz_type5'].isin([\"RMS\", \"PMS\"]), 'choroid_volume'])\n",
    "axs[1].hist(df3.loc[df2['dz_type5'].isin([\"RMS\", \"PMS\"]), 'choroid_volume'])"
   ]
  },
  {
   "cell_type": "code",
   "execution_count": null,
   "metadata": {},
   "outputs": [],
   "source": [
    "plt.scatter(df1.loc[df1['dz_type5'].isin([\"RMS\", \"PMS\"]), 'choroid_volume'], \n",
    "            df3.loc[df3['dz_type5'].isin([\"RMS\", \"PMS\"]), 'choroid_volume'])"
   ]
  },
  {
   "cell_type": "code",
   "execution_count": null,
   "metadata": {},
   "outputs": [],
   "source": [
    "plt.hist((df1.loc[df1['dz_type5'].isin([\"PMS\"]), 'choroid_volume'] - df2.loc[df2['dz_type5'].isin([\"PMS\"]), 'choroid_volume']))"
   ]
  }
 ],
 "metadata": {
  "kernelspec": {
   "display_name": "monai",
   "language": "python",
   "name": "python3"
  },
  "language_info": {
   "codemirror_mode": {
    "name": "ipython",
    "version": 3
   },
   "file_extension": ".py",
   "mimetype": "text/x-python",
   "name": "python",
   "nbconvert_exporter": "python",
   "pygments_lexer": "ipython3",
   "version": "3.12.7"
  }
 },
 "nbformat": 4,
 "nbformat_minor": 2
}
