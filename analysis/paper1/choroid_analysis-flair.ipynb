{
 "cells": [
  {
   "cell_type": "code",
   "execution_count": 5,
   "metadata": {},
   "outputs": [],
   "source": [
    "import matplotlib.pyplot as plt\n",
    "import pandas as pd\n",
    "from pathlib import Path\n",
    "import numpy as np\n",
    "import re\n",
    "import seaborn as sns\n",
    "import statsmodels.api as sm\n",
    "from statsmodels.formula.api import ols\n",
    "from scipy.stats import mannwhitneyu\n",
    "from scipy import stats\n",
    "import matplotlib.ticker as ticker\n",
    "import os\n",
    "from reload_recursive import reload_recursive\n",
    "import patsy\n",
    "from pyprocessmacro import Process\n",
    "from statsmodels.stats.mediation import Mediation\n",
    "from statsmodels.miscmodels.ordinal_model import OrderedModel\n",
    "from pingouin import mediation_analysis\n",
    "\n",
    "from mri_data import file_manager as fm\n",
    "import helpers"
   ]
  },
  {
   "cell_type": "code",
   "execution_count": 6,
   "metadata": {},
   "outputs": [],
   "source": [
    "reload_recursive(helpers)"
   ]
  },
  {
   "cell_type": "markdown",
   "metadata": {},
   "source": [
    "## Setup"
   ]
  },
  {
   "cell_type": "code",
   "execution_count": 7,
   "metadata": {},
   "outputs": [],
   "source": [
    "drive_root = fm.get_drive_root()\n",
    "msmri_home = Path(\"/home/srs-9/Projects/ms_mri\")\n",
    "msmri_datadir = msmri_home / \"data\"\n",
    "curr_dir = Path(os.getcwd())\n",
    "data_dir = curr_dir / \"data0\"\n",
    "showfigs = False"
   ]
  },
  {
   "cell_type": "code",
   "execution_count": null,
   "metadata": {},
   "outputs": [],
   "source": [
    "# from mri_data.file_manager import scan_3Tpioneer_bids\n",
    "# from mri_data import file_manager as fm\n",
    "# from mri_data import utils\n",
    "# from monai_training.preprocess import DataSetProcesser\n",
    "# from loguru import logger\n",
    "\n",
    "# logger.remove()\n",
    "\n",
    "# df = pd.read_csv(data_dir / \"t1_data_full.csv\")\n",
    "# mod = \"t1\"\n",
    "\n",
    "# config = {\n",
    "#     \"t1\": \"t1_choroid_pineal_pituitary_T1-1_pred\",\n",
    "#     \"flair\": \"flair_choroid_pineal_pituitary_FLAIR-1_pred\",\n",
    "# }\n",
    "\n",
    "\n",
    "# inference_root = drive_root / \"srs-9\" / \"3Tpioneer_bids_predictions\"\n",
    "# dataroot = drive_root / \"3Tpioneer_bids\"\n",
    "# clinical_data_root = drive_root / \"Secure_Data\" / \"Large\"\n",
    "# data_file_folder = Path(\"/home/srs-9/Projects/ms_mri/analysis/paper1/data0\")\n",
    "# inf_label = config[mod]\n",
    "\n",
    "# def subject_to_subid(subject):\n",
    "#     if not isinstance(subject, str):\n",
    "#         return None\n",
    "#     re_match = re.match(r\"ms(\\d{4})\", subject)\n",
    "#     if re_match:\n",
    "#         return_val = int(re_match[1])\n",
    "#         return return_val\n",
    "#     else:\n",
    "#         return None\n",
    "\n",
    "# new_columns = {\n",
    "#     \"ID\": \"subject\",\n",
    "#     \"age_at_obs_start\": \"age\",\n",
    "# }\n",
    "# df.rename(columns=new_columns, inplace=True)\n",
    "# df[\"subid\"] = df[\"subject\"].apply(subject_to_subid)\n",
    "# df.drop(df[df[\"subid\"].isna()].index, inplace=True)\n",
    "# df[\"subid\"] = df[\"subid\"].astype(int)\n",
    "# df = df.set_index(\"subid\")\n",
    "\n",
    "# new_columns = {}\n",
    "# for col in df.columns:\n",
    "#     new_columns[col] = col.replace(\" \", \"_\")\n",
    "# df.rename(columns=new_columns, inplace=True)\n",
    "\n",
    "\n",
    "# dataset_proc = DataSetProcesser.new_dataset(\n",
    "#     dataroot, scan_3Tpioneer_bids, filters=[fm.filter_first_ses]\n",
    "# )\n",
    "# full_dataset = dataset_proc.dataset\n",
    "# dataset_proc.prepare_labels(\n",
    "#     [\"choroid_t1_flair\", \"pineal\", \"pituitary\"], [\"CH\", \"SRS\", \"ED\", \"DT\"]\n",
    "# )\n",
    "# dataset = dataset_proc.dataset\n",
    "\n",
    "# inference_dataset_proc = DataSetProcesser.new_dataset(\n",
    "#     inference_root, scan_3Tpioneer_bids, filters=[fm.filter_first_ses]\n",
    "# )\n",
    "# inference_dataset_proc.prepare_labels(inf_label)\n",
    "# inference_dataset = inference_dataset_proc.dataset\n",
    "\n",
    "\n",
    "# segs = {}\n",
    "# for scan in dataset:\n",
    "#     segs[scan.subid] = scan.label_path\n",
    "#     df.loc[int(scan.subid), (\"sub-ses\",)] = scan.relative_path\n",
    "#     df.loc[int(scan.subid), (\"label_folder\",)] = scan.label_path.relative_to(drive_root).parent\n",
    "#     df.loc[int(scan.subid), (\"label\",)] = scan.label\n",
    "\n",
    "# for scan in inference_dataset:\n",
    "#     segs[scan.subid] = scan.label_path\n",
    "#     df.loc[int(scan.subid), (\"sub-ses\",)] = scan.relative_path\n",
    "#     df.loc[int(scan.subid), (\"label_folder\",)] = scan.label_path.relative_to(drive_root).parent\n",
    "#     df.loc[int(scan.subid), (\"label\",)] = scan.label\n",
    "\n",
    "\n",
    "# df.to_csv(data_dir / \"t1_data_full.csv\")"
   ]
  },
  {
   "cell_type": "code",
   "execution_count": 10,
   "metadata": {},
   "outputs": [],
   "source": [
    "df = pd.read_csv(data_dir / \"flair_data_full.csv\")\n",
    "df = df.set_index(\"subid\")\n",
    "\n",
    "df = helpers.set_dz_type5(df)\n",
    "df = helpers.set_dz_type3(df)\n",
    "df = helpers.set_dz_type2(df)\n",
    "df = helpers.fix_edss(df)\n",
    "df = helpers.clean_df(df)\n",
    "\n",
    "keep_cols = [\n",
    "    \"subject\",\n",
    "    \"age\",\n",
    "    \"sex\",\n",
    "    \"ms_type\",\n",
    "    \"dz_type2\",\n",
    "    \"dz_type3\",\n",
    "    \"dz_type5\",\n",
    "    \"dzdur\",\n",
    "    \"EDSS\",\n",
    "    \"MSSS\",\n",
    "    \"gMSSS\",\n",
    "    \"ARMSS\",\n",
    "    \"DMT_score\",\n",
    "    \"DMT_hx_all\",\n",
    "    \"flair_contrast\",\n",
    "    \"lesion_count\",\n",
    "    \"lesion_vol_cubic\",\n",
    "    \"PRL\",\n",
    "    \"tiv\",\n",
    "    \"choroid_volume\",\n",
    "    \"pineal_volume\", \n",
    "    \"pituitary_volume\"\n",
    "]\n",
    "\n",
    "df = df.loc[:, keep_cols]\n",
    "df = pd.concat((df, pd.get_dummies(df[\"sex\"], dtype=\"int\")), axis=1)\n",
    "df[\"Intercept\"] = 1"
   ]
  },
  {
   "cell_type": "code",
   "execution_count": 11,
   "metadata": {},
   "outputs": [],
   "source": [
    "df.loc[:, \"lesion_vol_logtrans\"] = np.log(df[\"lesion_vol_cubic\"])\n",
    "df.loc[:, \"edss_sqrt\"] = np.sqrt(df[\"EDSS\"].astype(\"float\"))\n",
    "df.loc[:, \"msss_sqrt\"] = np.sqrt(df[\"MSSS\"])\n",
    "df.loc[:, \"armss_sqrt\"] = np.sqrt(df[\"ARMSS\"])\n",
    "df.loc[:, \"gmsss_sqrt\"] = np.sqrt(df[\"gMSSS\"])"
   ]
  },
  {
   "cell_type": "code",
   "execution_count": 12,
   "metadata": {},
   "outputs": [],
   "source": [
    "vars = [\n",
    "    \"age\",\n",
    "    \"Female\",\n",
    "    \"dzdur\",\n",
    "    \"EDSS\",\n",
    "    \"MSSS\",\n",
    "    \"gMSSS\",\n",
    "    \"ARMSS\",\n",
    "    \"edss_sqrt\",\n",
    "    \"msss_sqrt\",\n",
    "    \"armss_sqrt\",\n",
    "    \"gmsss_sqrt\",\n",
    "    \"DMT_score\",\n",
    "    \"DMT_hx_all\",\n",
    "    \"lesion_count\",\n",
    "    \"lesion_vol_cubic\",\n",
    "    \"lesion_vol_logtrans\",\n",
    "    \"PRL\",\n",
    "    \"tiv\",\n",
    "    \"choroid_volume\",\n",
    "]\n",
    "\n",
    "for var in vars:\n",
    "    df[var] = pd.to_numeric(df[var])"
   ]
  },
  {
   "cell_type": "code",
   "execution_count": 13,
   "metadata": {},
   "outputs": [],
   "source": [
    "vars_to_center = [\"edss_sqrt\", \"lesion_vol_logtrans\", \"lesion_vol_cubic\", \"dzdur\", \"choroid_volume\"]\n",
    "\n",
    "for var in vars_to_center:\n",
    "    df[f\"{var}_cent\"] = df[var] - df[var].mean()\n",
    "\n",
    "centered_vars = [f\"{var}_cent\" for var in vars_to_center]\n",
    "vars.extend(centered_vars)"
   ]
  },
  {
   "cell_type": "code",
   "execution_count": 14,
   "metadata": {},
   "outputs": [],
   "source": [
    "vars_to_scale = [\n",
    "    \"age\",\n",
    "    \"dzdur\",\n",
    "    \"lesion_count\",\n",
    "    \"lesion_vol_cubic\",\n",
    "    \"lesion_vol_logtrans\",\n",
    "    \"PRL\",\n",
    "    \"tiv\",\n",
    "    \"choroid_volume\",\n",
    "]\n",
    "\n",
    "df_scale = df.copy()\n",
    "df_scale[vars_to_scale] = df_scale[vars_to_scale] / df_scale[vars_to_scale].mean()"
   ]
  },
  {
   "cell_type": "code",
   "execution_count": 15,
   "metadata": {},
   "outputs": [],
   "source": [
    "df_ms = df.loc[df['dz_type2'] == \"MS\"]\n",
    "df_scale_ms = df_scale.loc[df['dz_type2'] == \"MS\"]\n",
    "\n",
    "df_z = df[vars].astype(\"float\")\n",
    "df_z[df.columns[~df.columns.isin(vars)]] = df[df.columns[~df.columns.isin(vars)]]\n",
    "df_z = df_z[df.columns]\n",
    "df_z[vars] = df_z[vars].apply(stats.zscore, nan_policy=\"omit\")\n",
    "\n",
    "data = df[vars].astype(\"float\")\n",
    "data_z = data[vars].apply(stats.zscore, nan_policy=\"omit\")\n",
    "\n",
    "data_ms = df.loc[df[\"dz_type5\"].isin([\"RMS\", \"PMS\"]), :]\n",
    "data_ms = data_ms[vars].astype(\"float\")\n",
    "data_ms_z = data_ms[vars].apply(stats.zscore, nan_policy=\"omit\")"
   ]
  },
  {
   "cell_type": "markdown",
   "metadata": {},
   "source": [
    "## Analysis"
   ]
  },
  {
   "cell_type": "markdown",
   "metadata": {},
   "source": [
    "### Choroid Volumes"
   ]
  },
  {
   "cell_type": "markdown",
   "metadata": {},
   "source": [
    "CP volume increased with age (β=0.38, p<0.001), TIV (β=0.16, p=0.001), and was smaller in females (β=-0.15, p=0.002), but was not associated with the presence of MS (β=0.18, p=0.10)"
   ]
  },
  {
   "cell_type": "code",
   "execution_count": 16,
   "metadata": {},
   "outputs": [
    {
     "name": "stdout",
     "output_type": "stream",
     "text": [
      "R2:     0.170\n",
      "R2_adj: 0.163\n",
      "                    coef             p\n",
      "Intercept      -0.099049  3.637084e-01\n",
      "dz_type2[T.MS]  0.123316  2.994364e-01\n",
      "age             0.283363  1.936168e-10\n",
      "tiv             0.223337  2.066901e-05\n",
      "Female         -0.103777  4.727573e-02\n"
     ]
    }
   ],
   "source": [
    "model_data = df_z[df_z['dz_type2'].isin([\"MS\", \"!MS\"])]\n",
    "res = sm.OLS.from_formula(\n",
    "    \"choroid_volume ~ dz_type2 + age + tiv + Female\", data=model_data\n",
    ").fit()\n",
    "\n",
    "summary = pd.DataFrame({'coef': res.params, 'p': res.pvalues})\n",
    "print(\"R2:     {:0.3f}\".format(res.rsquared))\n",
    "print(\"R2_adj: {:0.3f}\".format(res.rsquared_adj))\n",
    "print(summary)"
   ]
  },
  {
   "cell_type": "markdown",
   "metadata": {},
   "source": [
    "Within the population of MS patients, those with PMS had greater CP volumes than those with RMS, after controlling for age, sex, and TIV (β=0.36, p=0.003). "
   ]
  },
  {
   "cell_type": "code",
   "execution_count": 20,
   "metadata": {},
   "outputs": [
    {
     "name": "stdout",
     "output_type": "stream",
     "text": [
      "R2:     0.282\n",
      "R2_adj: 0.263\n",
      "                     coef         p\n",
      "Intercept        0.119560  0.484104\n",
      "dz_type5[T.RMS] -0.424951  0.033932\n",
      "Female          -0.215741  0.017514\n",
      "age              0.301072  0.000150\n",
      "tiv              0.124203  0.196979\n"
     ]
    }
   ],
   "source": [
    "model_data = df_z[df_z['dz_type5'].isin([\"RMS\", \"PMS\"])]\n",
    "model_data = model_data[model_data['flair_contrast'] == \"WITHOUT\"]\n",
    "res = sm.OLS.from_formula(\"choroid_volume ~ dz_type5 + Female + age + tiv\", data=model_data).fit()\n",
    "\n",
    "summary = pd.DataFrame({'coef': res.params, 'p': res.pvalues})\n",
    "print(\"R2:     {:0.3f}\".format(res.rsquared))\n",
    "print(\"R2_adj: {:0.3f}\".format(res.rsquared_adj))\n",
    "print(summary)"
   ]
  },
  {
   "cell_type": "markdown",
   "metadata": {},
   "source": [
    "In a multivariable regression controlling for age, sex, and TIV, CP volume increased with WM lesion volume (β=0.21, p<0.001) and number of PRL lesions (β=0.16, p<0.001). There was still a significant positive association with PMS (β=0.27. p=0.019)"
   ]
  },
  {
   "cell_type": "code",
   "execution_count": 21,
   "metadata": {},
   "outputs": [
    {
     "name": "stdout",
     "output_type": "stream",
     "text": [
      "R2:     0.308\n",
      "R2_adj: 0.281\n",
      "                      coef         p\n",
      "Intercept         0.051344  0.764302\n",
      "dz_type5[T.RMS]  -0.337788  0.094676\n",
      "lesion_vol_cubic  0.200883  0.053890\n",
      "PRL               0.055948  0.464164\n",
      "Female           -0.226250  0.012346\n",
      "age               0.257653  0.004075\n",
      "tiv               0.088352  0.358394\n"
     ]
    }
   ],
   "source": [
    "model_data = df_z[df_z['dz_type5'].isin([\"RMS\", \"PMS\"])]\n",
    "model_data = model_data[model_data['flair_contrast'] == \"WITHOUT\"]\n",
    "res = sm.OLS.from_formula(\"choroid_volume ~ lesion_vol_cubic + PRL + dz_type5 + Female + age + tiv\", data=model_data).fit()\n",
    "\n",
    "summary = pd.DataFrame({'coef': res.params, 'p': res.pvalues})\n",
    "print(\"R2:     {:0.3f}\".format(res.rsquared))\n",
    "print(\"R2_adj: {:0.3f}\".format(res.rsquared_adj))\n",
    "print(summary)"
   ]
  },
  {
   "cell_type": "markdown",
   "metadata": {},
   "source": [
    "An ANCOVA was conducted to examine differences in CP volume amongst the RMS, PMS, OIND, and NIND groups, controlling for age, sex, and TIV. The analysis revealed a significant main effect for disease phenotype on CP volume (p < 0.001). Post hoc Tukey's HSD comparisons indicated that PMS had significantly larger CP than both NIND (p=0.043, d=0.51) and RMS (p=0.011, d=0.42). Additionally, sex (p<0.001), age (p<0.001), and TIV (p=0.006) were significant covariates. "
   ]
  },
  {
   "cell_type": "code",
   "execution_count": 22,
   "metadata": {},
   "outputs": [
    {
     "data": {
      "image/png": "[encoded data removed]",
      "text/plain": [
       "<Figure size 640x480 with 1 Axes>"
      ]
     },
     "metadata": {
      "needs_background": "light"
     },
     "output_type": "display_data"
    }
   ],
   "source": [
    "model_data = df[df['dz_type5'].isin([\"RMS\", \"PMS\", \"NIND\", \"OIND\"])]\n",
    "model_data = model_data[model_data['flair_contrast'] == \"WITHOUT\"]\n",
    "\n",
    "res = sm.OLS.from_formula(\"choroid_volume ~ dz_type5 + Female + age + tiv\", data=model_data).fit()\n",
    "# Extract marginal means (using 'Group')\n",
    "marginal_means = res.predict(model_data[['Female', 'age', 'tiv', 'dz_type5']].drop_duplicates())\n",
    "\n",
    "f = plt.figure()\n",
    "ax = sns.pointplot(x='dz_type5', y=marginal_means, data=model_data, \n",
    "              palette='deep', hue='dz_type5', legend=False, markers='o', linestyles='-', color='red', \n",
    "              capsize=0.1, markersize=5, markeredgewidth=2, linewidth=1)\n",
    "ax.set_ylabel(\"Choroid volume (cm3)\", fontsize=12)\n",
    "ax.set_xlabel(\"\")\n",
    "ax.set_xticks([\"RMS\", \"PMS\", \"NIND\", \"OIND\"])\n",
    "ax.set_xticklabels([\"RMS\", \"PMS\", \"NIND\", \"OIND\"], fontsize=14)\n",
    "f.patch.set_alpha(0)"
   ]
  },
  {
   "cell_type": "markdown",
   "metadata": {},
   "source": [
    "The best performing regression model for predicting CP volume in MS patients had an R² of 0.37 (adj R²=0.35)."
   ]
  },
  {
   "cell_type": "code",
   "execution_count": 15,
   "metadata": {},
   "outputs": [
    {
     "name": "stdout",
     "output_type": "stream",
     "text": [
      "                            OLS Regression Results                            \n",
      "==============================================================================\n",
      "Dep. Variable:         choroid_volume   R-squared:                       0.370\n",
      "Model:                            OLS   Adj. R-squared:                  0.354\n",
      "Method:                 Least Squares   F-statistic:                     23.84\n",
      "Date:                Sat, 22 Feb 2025   Prob (F-statistic):           5.10e-32\n",
      "Time:                        15:05:10   Log-Likelihood:                -2899.9\n",
      "No. Observations:                 376   AIC:                             5820.\n",
      "Df Residuals:                     366   BIC:                             5859.\n",
      "Df Model:                           9                                         \n",
      "Covariance Type:            nonrobust                                         \n",
      "====================================================================================\n",
      "                       coef    std err          t      P>|t|      [0.025      0.975]\n",
      "------------------------------------------------------------------------------------\n",
      "Intercept          682.2914    473.217      1.442      0.150    -248.273    1612.856\n",
      "dz_type5[T.RMS]   -206.0434     85.713     -2.404      0.017    -374.594     -37.493\n",
      "Female[T.True]    -328.6795     84.076     -3.909      0.000    -494.013    -163.346\n",
      "MSSS               -12.7119     12.908     -0.985      0.325     -38.095      12.671\n",
      "DMT_hx_all          98.2811     58.488      1.680      0.094     -16.733     213.296\n",
      "lesion_vol_cubic   278.4984     66.032      4.218      0.000     148.648     408.349\n",
      "lesion_count        -2.8586      1.544     -1.851      0.065      -5.896       0.179\n",
      "PRL                 68.9976     16.299      4.233      0.000      36.945     101.050\n",
      "age                 15.9686      2.726      5.858      0.000      10.608      21.329\n",
      "tiv                  0.0004      0.000      1.320      0.188      -0.000       0.001\n",
      "==============================================================================\n",
      "Omnibus:                        7.630   Durbin-Watson:                   2.115\n",
      "Prob(Omnibus):                  0.022   Jarque-Bera (JB):               10.440\n",
      "Skew:                           0.153   Prob(JB):                      0.00541\n",
      "Kurtosis:                       3.757   Cond. No.                     2.53e+07\n",
      "==============================================================================\n",
      "\n",
      "Notes:\n",
      "[1] Standard Errors assume that the covariance matrix of the errors is correctly specified.\n",
      "[2] The condition number is large, 2.53e+07. This might indicate that there are\n",
      "strong multicollinearity or other numerical problems.\n"
     ]
    }
   ],
   "source": [
    "model_data = df[df['dz_type5'].isin([\"RMS\", \"PMS\"])]\n",
    "\n",
    "res = sm.OLS.from_formula(\"choroid_volume ~ MSSS + DMT_hx_all + dz_type5 + lesion_vol_cubic + lesion_count + PRL + Female + age + tiv\", data=model_data).fit()\n",
    "\n",
    "print(res.summary())"
   ]
  },
  {
   "cell_type": "markdown",
   "metadata": {},
   "source": [
    "### Clinical Disability"
   ]
  },
  {
   "cell_type": "code",
   "execution_count": 25,
   "metadata": {},
   "outputs": [
    {
     "name": "stdout",
     "output_type": "stream",
     "text": [
      "                            OLS Regression Results                            \n",
      "==============================================================================\n",
      "Dep. Variable:              edss_sqrt   R-squared:                       0.306\n",
      "Model:                            OLS   Adj. R-squared:                  0.282\n",
      "Method:                 Least Squares   F-statistic:                     12.79\n",
      "Date:                Fri, 28 Feb 2025   Prob (F-statistic):           2.67e-10\n",
      "Time:                        12:01:07   Log-Likelihood:                -108.63\n",
      "No. Observations:                 151   AIC:                             229.3\n",
      "Df Residuals:                     145   BIC:                             247.4\n",
      "Df Model:                           5                                         \n",
      "Covariance Type:            nonrobust                                         \n",
      "====================================================================================\n",
      "                       coef    std err          t      P>|t|      [0.025      0.975]\n",
      "------------------------------------------------------------------------------------\n",
      "Intercept            1.2921      0.121     10.719      0.000       1.054       1.530\n",
      "lesion_vol_cubic     0.2011      0.074      2.735      0.007       0.056       0.346\n",
      "choroid_volume       0.0734      0.049      1.505      0.135      -0.023       0.170\n",
      "tiv                 -0.0345      0.051     -0.682      0.496      -0.135       0.066\n",
      "age                  0.2055      0.049      4.219      0.000       0.109       0.302\n",
      "Female              -0.0073      0.051     -0.144      0.886      -0.108       0.093\n",
      "==============================================================================\n",
      "Omnibus:                        2.410   Durbin-Watson:                   1.860\n",
      "Prob(Omnibus):                  0.300   Jarque-Bera (JB):                2.429\n",
      "Skew:                           0.299   Prob(JB):                        0.297\n",
      "Kurtosis:                       2.830   Cond. No.                         6.67\n",
      "==============================================================================\n",
      "\n",
      "Notes:\n",
      "[1] Standard Errors assume that the covariance matrix of the errors is correctly specified.\n"
     ]
    }
   ],
   "source": [
    "model_data = df.copy()\n",
    "model_data = model_data.loc[df['dz_type5'].isin([\"RMS\", \"PMS\"]), :]\n",
    "model_data = model_data[model_data['flair_contrast'] == \"WITHOUT\"]\n",
    "\n",
    "predictors = [\"choroid_volume\", \"tiv\", \"age\", \"Female\"]\n",
    "outcome = [\"EDSS\"]\n",
    "model_data[predictors] = model_data[predictors].apply(stats.zscore, nan_policy='omit')\n",
    "\n",
    "model_data2 = data.copy()\n",
    "model_data2['age'] = model_data2['choroid_volume'] - (model_data2['choroid_volume']).mean()\n",
    "\n",
    "model = sm.OLS.from_formula(\"edss_sqrt ~ lesion_vol_cubic + choroid_volume + tiv + age + Female\", data=model_data)\n",
    "res = model.fit()\n",
    "print(res.summary())\n",
    "# print(\"p values:\")\n",
    "# print(\"Choroid volume: {:0.2}\".format(res_prob.pvalues['choroid_volume']))\n",
    "# print(\"Lesion volume:  {:0.2}\".format(res_prob.pvalues['lesion_vol_cubic']))"
   ]
  },
  {
   "cell_type": "code",
   "execution_count": 26,
   "metadata": {},
   "outputs": [
    {
     "name": "stdout",
     "output_type": "stream",
     "text": [
      "Optimization terminated successfully.\n",
      "         Current function value: 2.228074\n",
      "         Iterations: 74\n",
      "         Function evaluations: 77\n",
      "         Gradient evaluations: 77\n"
     ]
    },
    {
     "data": {
      "text/html": [
       "<table class=\"simpletable\">\n",
       "<caption>OrderedModel Results</caption>\n",
       "<tr>\n",
       "  <th>Dep. Variable:</th>           <td>EDSS</td>        <th>  Log-Likelihood:    </th> <td> -327.53</td>\n",
       "</tr>\n",
       "<tr>\n",
       "  <th>Model:</th>               <td>OrderedModel</td>    <th>  AIC:               </th> <td>   695.1</td>\n",
       "</tr>\n",
       "<tr>\n",
       "  <th>Method:</th>           <td>Maximum Likelihood</td> <th>  BIC:               </th> <td>   754.9</td>\n",
       "</tr>\n",
       "<tr>\n",
       "  <th>Date:</th>              <td>Fri, 28 Feb 2025</td>  <th>                     </th>     <td> </td>   \n",
       "</tr>\n",
       "<tr>\n",
       "  <th>Time:</th>                  <td>12:01:17</td>      <th>                     </th>     <td> </td>   \n",
       "</tr>\n",
       "<tr>\n",
       "  <th>No. Observations:</th>       <td>   147</td>       <th>                     </th>     <td> </td>   \n",
       "</tr>\n",
       "<tr>\n",
       "  <th>Df Residuals:</th>           <td>   127</td>       <th>                     </th>     <td> </td>   \n",
       "</tr>\n",
       "<tr>\n",
       "  <th>Df Model:</th>               <td>     4</td>       <th>                     </th>     <td> </td>   \n",
       "</tr>\n",
       "</table>\n",
       "<table class=\"simpletable\">\n",
       "<tr>\n",
       "         <td></td>           <th>coef</th>     <th>std err</th>      <th>z</th>      <th>P>|z|</th>  <th>[0.025</th>    <th>0.975]</th>  \n",
       "</tr>\n",
       "<tr>\n",
       "  <th>choroid_volume</th> <td>    1.3396</td> <td>    0.550</td> <td>    2.435</td> <td> 0.015</td> <td>    0.262</td> <td>    2.418</td>\n",
       "</tr>\n",
       "<tr>\n",
       "  <th>tiv</th>            <td>   -1.1028</td> <td>    2.253</td> <td>   -0.489</td> <td> 0.625</td> <td>   -5.519</td> <td>    3.313</td>\n",
       "</tr>\n",
       "<tr>\n",
       "  <th>age</th>            <td>    3.0858</td> <td>    0.610</td> <td>    5.059</td> <td> 0.000</td> <td>    1.890</td> <td>    4.281</td>\n",
       "</tr>\n",
       "<tr>\n",
       "  <th>Female</th>         <td>    0.0721</td> <td>    0.440</td> <td>    0.164</td> <td> 0.870</td> <td>   -0.790</td> <td>    0.934</td>\n",
       "</tr>\n",
       "<tr>\n",
       "  <th>0.0/1.0</th>        <td>   -0.9829</td> <td>    2.629</td> <td>   -0.374</td> <td> 0.708</td> <td>   -6.135</td> <td>    4.169</td>\n",
       "</tr>\n",
       "<tr>\n",
       "  <th>1.0/1.5</th>        <td>    0.9577</td> <td>    0.220</td> <td>    4.353</td> <td> 0.000</td> <td>    0.527</td> <td>    1.389</td>\n",
       "</tr>\n",
       "<tr>\n",
       "  <th>1.5/2.0</th>        <td>    0.2246</td> <td>    0.168</td> <td>    1.338</td> <td> 0.181</td> <td>   -0.104</td> <td>    0.554</td>\n",
       "</tr>\n",
       "<tr>\n",
       "  <th>2.0/2.5</th>        <td>   -0.1976</td> <td>    0.195</td> <td>   -1.012</td> <td> 0.311</td> <td>   -0.580</td> <td>    0.185</td>\n",
       "</tr>\n",
       "<tr>\n",
       "  <th>2.5/3.0</th>        <td>   -1.4115</td> <td>    0.369</td> <td>   -3.821</td> <td> 0.000</td> <td>   -2.136</td> <td>   -0.688</td>\n",
       "</tr>\n",
       "<tr>\n",
       "  <th>3.0/3.5</th>        <td>   -1.2595</td> <td>    0.344</td> <td>   -3.656</td> <td> 0.000</td> <td>   -1.935</td> <td>   -0.584</td>\n",
       "</tr>\n",
       "<tr>\n",
       "  <th>3.5/4.0</th>        <td>   -1.2014</td> <td>    0.344</td> <td>   -3.493</td> <td> 0.000</td> <td>   -1.876</td> <td>   -0.527</td>\n",
       "</tr>\n",
       "<tr>\n",
       "  <th>4.0/4.5</th>        <td>   -1.2645</td> <td>    0.368</td> <td>   -3.432</td> <td> 0.001</td> <td>   -1.986</td> <td>   -0.542</td>\n",
       "</tr>\n",
       "<tr>\n",
       "  <th>4.5/5.0</th>        <td>   -2.4553</td> <td>    0.701</td> <td>   -3.500</td> <td> 0.000</td> <td>   -3.830</td> <td>   -1.080</td>\n",
       "</tr>\n",
       "<tr>\n",
       "  <th>5.0/5.5</th>        <td>   -1.9971</td> <td>    0.570</td> <td>   -3.501</td> <td> 0.000</td> <td>   -3.115</td> <td>   -0.879</td>\n",
       "</tr>\n",
       "<tr>\n",
       "  <th>5.5/6.0</th>        <td>   -2.3366</td> <td>    0.701</td> <td>   -3.333</td> <td> 0.001</td> <td>   -3.711</td> <td>   -0.963</td>\n",
       "</tr>\n",
       "<tr>\n",
       "  <th>6.0/6.5</th>        <td>   -0.1319</td> <td>    0.255</td> <td>   -0.517</td> <td> 0.605</td> <td>   -0.632</td> <td>    0.368</td>\n",
       "</tr>\n",
       "<tr>\n",
       "  <th>6.5/7.0</th>        <td>   -0.1244</td> <td>    0.347</td> <td>   -0.359</td> <td> 0.720</td> <td>   -0.804</td> <td>    0.555</td>\n",
       "</tr>\n",
       "<tr>\n",
       "  <th>7.0/7.5</th>        <td>   -1.0053</td> <td>    0.702</td> <td>   -1.433</td> <td> 0.152</td> <td>   -2.380</td> <td>    0.370</td>\n",
       "</tr>\n",
       "<tr>\n",
       "  <th>7.5/8.0</th>        <td>   -0.6156</td> <td>    0.706</td> <td>   -0.872</td> <td> 0.383</td> <td>   -1.999</td> <td>    0.768</td>\n",
       "</tr>\n",
       "<tr>\n",
       "  <th>8.0/8.5</th>        <td>    0.1213</td> <td>    0.734</td> <td>    0.165</td> <td> 0.869</td> <td>   -1.318</td> <td>    1.560</td>\n",
       "</tr>\n",
       "</table>"
      ],
      "text/latex": [
       "\\begin{center}\n",
       "\\begin{tabular}{lclc}\n",
       "\\toprule\n",
       "\\textbf{Dep. Variable:}    &        EDSS        & \\textbf{  Log-Likelihood:    } &   -327.53   \\\\\n",
       "\\textbf{Model:}            &    OrderedModel    & \\textbf{  AIC:               } &     695.1   \\\\\n",
       "\\textbf{Method:}           & Maximum Likelihood & \\textbf{  BIC:               } &     754.9   \\\\\n",
       "\\textbf{Date:}             &  Fri, 28 Feb 2025  & \\textbf{                     } &             \\\\\n",
       "\\textbf{Time:}             &      12:01:17      & \\textbf{                     } &             \\\\\n",
       "\\textbf{No. Observations:} &          147       & \\textbf{                     } &             \\\\\n",
       "\\textbf{Df Residuals:}     &          127       & \\textbf{                     } &             \\\\\n",
       "\\textbf{Df Model:}         &            4       & \\textbf{                     } &             \\\\\n",
       "\\bottomrule\n",
       "\\end{tabular}\n",
       "\\begin{tabular}{lcccccc}\n",
       "                         & \\textbf{coef} & \\textbf{std err} & \\textbf{z} & \\textbf{P$> |$z$|$} & \\textbf{[0.025} & \\textbf{0.975]}  \\\\\n",
       "\\midrule\n",
       "\\textbf{choroid\\_volume} &       1.3396  &        0.550     &     2.435  &         0.015        &        0.262    &        2.418     \\\\\n",
       "\\textbf{tiv}             &      -1.1028  &        2.253     &    -0.489  &         0.625        &       -5.519    &        3.313     \\\\\n",
       "\\textbf{age}             &       3.0858  &        0.610     &     5.059  &         0.000        &        1.890    &        4.281     \\\\\n",
       "\\textbf{Female}          &       0.0721  &        0.440     &     0.164  &         0.870        &       -0.790    &        0.934     \\\\\n",
       "\\textbf{0.0/1.0}         &      -0.9829  &        2.629     &    -0.374  &         0.708        &       -6.135    &        4.169     \\\\\n",
       "\\textbf{1.0/1.5}         &       0.9577  &        0.220     &     4.353  &         0.000        &        0.527    &        1.389     \\\\\n",
       "\\textbf{1.5/2.0}         &       0.2246  &        0.168     &     1.338  &         0.181        &       -0.104    &        0.554     \\\\\n",
       "\\textbf{2.0/2.5}         &      -0.1976  &        0.195     &    -1.012  &         0.311        &       -0.580    &        0.185     \\\\\n",
       "\\textbf{2.5/3.0}         &      -1.4115  &        0.369     &    -3.821  &         0.000        &       -2.136    &       -0.688     \\\\\n",
       "\\textbf{3.0/3.5}         &      -1.2595  &        0.344     &    -3.656  &         0.000        &       -1.935    &       -0.584     \\\\\n",
       "\\textbf{3.5/4.0}         &      -1.2014  &        0.344     &    -3.493  &         0.000        &       -1.876    &       -0.527     \\\\\n",
       "\\textbf{4.0/4.5}         &      -1.2645  &        0.368     &    -3.432  &         0.001        &       -1.986    &       -0.542     \\\\\n",
       "\\textbf{4.5/5.0}         &      -2.4553  &        0.701     &    -3.500  &         0.000        &       -3.830    &       -1.080     \\\\\n",
       "\\textbf{5.0/5.5}         &      -1.9971  &        0.570     &    -3.501  &         0.000        &       -3.115    &       -0.879     \\\\\n",
       "\\textbf{5.5/6.0}         &      -2.3366  &        0.701     &    -3.333  &         0.001        &       -3.711    &       -0.963     \\\\\n",
       "\\textbf{6.0/6.5}         &      -0.1319  &        0.255     &    -0.517  &         0.605        &       -0.632    &        0.368     \\\\\n",
       "\\textbf{6.5/7.0}         &      -0.1244  &        0.347     &    -0.359  &         0.720        &       -0.804    &        0.555     \\\\\n",
       "\\textbf{7.0/7.5}         &      -1.0053  &        0.702     &    -1.433  &         0.152        &       -2.380    &        0.370     \\\\\n",
       "\\textbf{7.5/8.0}         &      -0.6156  &        0.706     &    -0.872  &         0.383        &       -1.999    &        0.768     \\\\\n",
       "\\textbf{8.0/8.5}         &       0.1213  &        0.734     &     0.165  &         0.869        &       -1.318    &        1.560     \\\\\n",
       "\\bottomrule\n",
       "\\end{tabular}\n",
       "%\\caption{OrderedModel Results}\n",
       "\\end{center}"
      ],
      "text/plain": [
       "<class 'statsmodels.iolib.summary.Summary'>\n",
       "\"\"\"\n",
       "                             OrderedModel Results                             \n",
       "==============================================================================\n",
       "Dep. Variable:                   EDSS   Log-Likelihood:                -327.53\n",
       "Model:                   OrderedModel   AIC:                             695.1\n",
       "Method:            Maximum Likelihood   BIC:                             754.9\n",
       "Date:                Fri, 28 Feb 2025                                         \n",
       "Time:                        12:01:17                                         \n",
       "No. Observations:                 147                                         \n",
       "Df Residuals:                     127                                         \n",
       "Df Model:                           4                                         \n",
       "==================================================================================\n",
       "                     coef    std err          z      P>|z|      [0.025      0.975]\n",
       "----------------------------------------------------------------------------------\n",
       "choroid_volume     1.3396      0.550      2.435      0.015       0.262       2.418\n",
       "tiv               -1.1028      2.253     -0.489      0.625      -5.519       3.313\n",
       "age                3.0858      0.610      5.059      0.000       1.890       4.281\n",
       "Female             0.0721      0.440      0.164      0.870      -0.790       0.934\n",
       "0.0/1.0           -0.9829      2.629     -0.374      0.708      -6.135       4.169\n",
       "1.0/1.5            0.9577      0.220      4.353      0.000       0.527       1.389\n",
       "1.5/2.0            0.2246      0.168      1.338      0.181      -0.104       0.554\n",
       "2.0/2.5           -0.1976      0.195     -1.012      0.311      -0.580       0.185\n",
       "2.5/3.0           -1.4115      0.369     -3.821      0.000      -2.136      -0.688\n",
       "3.0/3.5           -1.2595      0.344     -3.656      0.000      -1.935      -0.584\n",
       "3.5/4.0           -1.2014      0.344     -3.493      0.000      -1.876      -0.527\n",
       "4.0/4.5           -1.2645      0.368     -3.432      0.001      -1.986      -0.542\n",
       "4.5/5.0           -2.4553      0.701     -3.500      0.000      -3.830      -1.080\n",
       "5.0/5.5           -1.9971      0.570     -3.501      0.000      -3.115      -0.879\n",
       "5.5/6.0           -2.3366      0.701     -3.333      0.001      -3.711      -0.963\n",
       "6.0/6.5           -0.1319      0.255     -0.517      0.605      -0.632       0.368\n",
       "6.5/7.0           -0.1244      0.347     -0.359      0.720      -0.804       0.555\n",
       "7.0/7.5           -1.0053      0.702     -1.433      0.152      -2.380       0.370\n",
       "7.5/8.0           -0.6156      0.706     -0.872      0.383      -1.999       0.768\n",
       "8.0/8.5            0.1213      0.734      0.165      0.869      -1.318       1.560\n",
       "==================================================================================\n",
       "\"\"\""
      ]
     },
     "execution_count": 26,
     "metadata": {},
     "output_type": "execute_result"
    }
   ],
   "source": [
    "model_data = df_scale.copy()\n",
    "model_data = model_data.loc[df['dz_type5'].isin([\"RMS\", \"PMS\"]), :].dropna()\n",
    "model_data = model_data[model_data['flair_contrast'] == \"WITHOUT\"]\n",
    "\n",
    "mod_prob = OrderedModel.from_formula(\"EDSS ~ choroid_volume + tiv + age + Female\",\n",
    "                                     data=model_data, distr='logit')\n",
    "res_prob = mod_prob.fit(method='bfgs')\n",
    "res_prob.summary()"
   ]
  },
  {
   "cell_type": "markdown",
   "metadata": {},
   "source": [
    "#### MSSS"
   ]
  },
  {
   "cell_type": "code",
   "execution_count": 20,
   "metadata": {},
   "outputs": [
    {
     "name": "stdout",
     "output_type": "stream",
     "text": [
      "                            OLS Regression Results                            \n",
      "==============================================================================\n",
      "Dep. Variable:              msss_sqrt   R-squared:                       0.022\n",
      "Model:                            OLS   Adj. R-squared:                  0.012\n",
      "Method:                 Least Squares   F-statistic:                     2.268\n",
      "Date:                Sat, 22 Feb 2025   Prob (F-statistic):             0.0613\n",
      "Time:                        16:36:36   Log-Likelihood:                -417.23\n",
      "No. Observations:                 403   AIC:                             844.5\n",
      "Df Residuals:                     398   BIC:                             864.5\n",
      "Df Model:                           4                                         \n",
      "Covariance Type:            nonrobust                                         \n",
      "====================================================================================\n",
      "                       coef    std err          t      P>|t|      [0.025      0.975]\n",
      "------------------------------------------------------------------------------------\n",
      "Intercept            2.5095      0.522      4.806      0.000       1.483       3.536\n",
      "tiv                 -0.8378      0.465     -1.800      0.073      -1.753       0.077\n",
      "Female              -0.1977      0.100     -1.979      0.049      -0.394      -0.001\n",
      "lesion_vol_cubic     0.0924      0.068      1.358      0.175      -0.041       0.226\n",
      "choroid_volume       0.0830      0.114      0.725      0.469      -0.142       0.308\n",
      "==============================================================================\n",
      "Omnibus:                       33.423   Durbin-Watson:                   2.008\n",
      "Prob(Omnibus):                  0.000   Jarque-Bera (JB):               12.575\n",
      "Skew:                           0.155   Prob(JB):                      0.00186\n",
      "Kurtosis:                       2.192   Cond. No.                         44.6\n",
      "==============================================================================\n",
      "\n",
      "Notes:\n",
      "[1] Standard Errors assume that the covariance matrix of the errors is correctly specified.\n"
     ]
    }
   ],
   "source": [
    "model = sm.OLS.from_formula(\"msss_sqrt ~ tiv + Female + lesion_vol_cubic + choroid_volume\", data=df_scale)\n",
    "res = model.fit()\n",
    "print(res.summary())"
   ]
  },
  {
   "cell_type": "markdown",
   "metadata": {},
   "source": [
    "#### ARMSS"
   ]
  },
  {
   "cell_type": "code",
   "execution_count": 21,
   "metadata": {},
   "outputs": [
    {
     "name": "stdout",
     "output_type": "stream",
     "text": [
      "                            OLS Regression Results                            \n",
      "==============================================================================\n",
      "Dep. Variable:             armss_sqrt   R-squared:                       0.068\n",
      "Model:                            OLS   Adj. R-squared:                  0.059\n",
      "Method:                 Least Squares   F-statistic:                     7.939\n",
      "Date:                Sat, 22 Feb 2025   Prob (F-statistic):           3.49e-06\n",
      "Time:                        16:36:50   Log-Likelihood:                -412.59\n",
      "No. Observations:                 440   AIC:                             835.2\n",
      "Df Residuals:                     435   BIC:                             855.6\n",
      "Df Model:                           4                                         \n",
      "Covariance Type:            nonrobust                                         \n",
      "==================================================================================\n",
      "                     coef    std err          t      P>|t|      [0.025      0.975]\n",
      "----------------------------------------------------------------------------------\n",
      "Intercept          3.0896      0.480      6.436      0.000       2.146       4.033\n",
      "choroid_volume     0.2404      0.102      2.367      0.018       0.041       0.440\n",
      "tiv               -0.7853      0.412     -1.907      0.057      -1.595       0.024\n",
      "Female            -0.1253      0.086     -1.454      0.147      -0.295       0.044\n",
      "age               -0.6815      0.124     -5.498      0.000      -0.925      -0.438\n",
      "==============================================================================\n",
      "Omnibus:                       22.948   Durbin-Watson:                   1.912\n",
      "Prob(Omnibus):                  0.000   Jarque-Bera (JB):               17.307\n",
      "Skew:                           0.385   Prob(JB):                     0.000175\n",
      "Kurtosis:                       2.407   Cond. No.                         45.8\n",
      "==============================================================================\n",
      "\n",
      "Notes:\n",
      "[1] Standard Errors assume that the covariance matrix of the errors is correctly specified.\n"
     ]
    }
   ],
   "source": [
    "model = sm.OLS.from_formula(\"armss_sqrt ~ choroid_volume + tiv + Female + age\", data=df_scale)\n",
    "res = model.fit()\n",
    "print(res.summary())"
   ]
  },
  {
   "cell_type": "markdown",
   "metadata": {},
   "source": [
    "### Mediation"
   ]
  },
  {
   "cell_type": "code",
   "execution_count": 20,
   "metadata": {},
   "outputs": [
    {
     "name": "stdout",
     "output_type": "stream",
     "text": [
      "Process successfully initialized.\n",
      "Based on the Process Macro by Andrew F. Hayes, Ph.D. (www.afhayes.com)\n",
      "\n",
      "\n",
      "****************************** SPECIFICATION ****************************\n",
      "\n",
      "Model = 3\n",
      "\n",
      "Variables:\n",
      "    Cons = Cons\n",
      "    x = choroid_volume\n",
      "    y = edss_sqrt\n",
      "    w = dzdur\n",
      "    m = lesion_vol_logtrans\n",
      "Statistical Controls:\n",
      " age, Female, tiv\n",
      "\n",
      "\n",
      "\n",
      "Sample size:\n",
      "412\n",
      "\n",
      "***************************** OUTCOME MODELS ****************************\n",
      "\n",
      "Outcome = edss_sqrt \n",
      "OLS Regression Summary\n",
      "\n",
      "     R²  Adj. R²    MSE       F  df1  df2  p-value\n",
      " 0.2929   0.2727 0.7273 15.9886   10  386   0.0000\n",
      "\n",
      "Coefficients\n",
      "\n",
      "                                           coeff     se       t      p    LLCI   ULCI\n",
      "Cons                                     -0.0685 0.0478 -1.4335 0.1525 -0.1621 0.0251\n",
      "choroid_volume                            0.0038 0.0560  0.0683 0.9456 -0.1060 0.1136\n",
      "lesion_vol_logtrans                       0.1401 0.0501  2.7947 0.0055  0.0418 0.2384\n",
      "dzdur                                     0.1875 0.0591  3.1716 0.0016  0.0716 0.3033\n",
      "choroid_volume*lesion_vol_logtrans        0.1048 0.0454  2.3074 0.0216  0.0158 0.1939\n",
      "choroid_volume*dzdur                     -0.0704 0.0518 -1.3583 0.1752 -0.1719 0.0312\n",
      "lesion_vol_logtrans*dzdur                 0.0910 0.0475  1.9167 0.0560 -0.0021 0.1841\n",
      "choroid_volume*lesion_vol_logtrans*dzdur  0.0178 0.0484  0.3667 0.7140 -0.0772 0.1127\n",
      "age                                       0.2745 0.0586  4.6831 0.0000  0.1596 0.3894\n",
      "Female                                   -0.0888 0.0530 -1.6758 0.0946 -0.1926 0.0151\n",
      "tiv                                      -0.0682 0.0521 -1.3083 0.1915 -0.1703 0.0339\n",
      "\n",
      "-------------------------------------------------------------------------\n",
      "\n",
      "\n",
      "********************** CONDITIONAL EFFECTS **********************\n",
      "\n",
      "Conditional effect(s) of choroid_volume on edss_sqrt at values of the moderator(s):\n",
      "\n",
      "   dzdur  lesion_vol_logtrans  Effect     SE       t      p    LLCI   ULCI\n",
      " -0.9917              -0.9657 -0.0106 0.0933 -0.1139 0.9094 -0.1934 0.1722\n",
      " -0.9917               0.0304  0.0763 0.0720  1.0594 0.2901 -0.0648 0.2173\n",
      " -0.9917               1.0265  0.1631 0.0983  1.6596 0.0978 -0.0295 0.3558\n",
      "  0.0142              -0.9657 -0.0986 0.0786 -1.2549 0.2103 -0.2527 0.0554\n",
      "  0.0142               0.0304  0.0060 0.0558  0.1079 0.9141 -0.1034 0.1154\n",
      "  0.0142               1.0265  0.1107 0.0645  1.7170 0.0868 -0.0157 0.2370\n",
      "  1.0201              -0.9657 -0.1867 0.1297 -1.4390 0.1510 -0.4409 0.0676\n",
      "  1.0201               0.0304 -0.0642 0.0799 -0.8040 0.4219 -0.2207 0.0923\n",
      "  1.0201               1.0265  0.0583 0.0746  0.7810 0.4353 -0.0880 0.2045\n",
      "\n"
     ]
    },
    {
     "name": "stderr",
     "output_type": "stream",
     "text": [
      "/home/srs-9/.virtualenvs/monai/lib/python3.12/site-packages/pyprocessmacro/models.py:1567: DeprecationWarning: `product` is deprecated as of NumPy 1.25.0, and will be removed in NumPy 2.0. Please use `prod` instead.\n",
      "  grad = eval_expression(\n"
     ]
    }
   ],
   "source": [
    "p2 = Process(data=data_ms_z, model=3, x=\"choroid_volume\", y=\"edss_sqrt\", w=\"dzdur\",\n",
    "            m=[\"lesion_vol_logtrans\"],\n",
    "            controls=[\"age\", \"Female\", \"tiv\"],\n",
    "            controls_in=\"all\")\n",
    "p2.summary()"
   ]
  },
  {
   "cell_type": "code",
   "execution_count": 28,
   "metadata": {},
   "outputs": [
    {
     "data": {
      "application/vnd.microsoft.datawrangler.viewer.v0+json": {
       "columns": [
        {
         "name": "index",
         "rawType": "object",
         "type": "string"
        },
        {
         "name": "Estimate",
         "rawType": "float64",
         "type": "float"
        },
        {
         "name": "Lower CI bound",
         "rawType": "float64",
         "type": "float"
        },
        {
         "name": "Upper CI bound",
         "rawType": "float64",
         "type": "float"
        },
        {
         "name": "P-value",
         "rawType": "float64",
         "type": "float"
        }
       ],
       "conversionMethod": "pd.DataFrame",
       "ref": "5409609d-83b4-4c4f-a753-492701888415",
       "rows": [
        [
         "ACME (control)",
         "0.04836599944843213",
         "-0.008678185820120959",
         "0.13209921027668386",
         "0.104"
        ],
        [
         "ACME (treated)",
         "0.04836599944843213",
         "-0.008678185820120957",
         "0.13209921027668386",
         "0.104"
        ],
        [
         "ADE (control)",
         "0.11632758535598237",
         "-0.038896111902236144",
         "0.26913898750233867",
         "0.132"
        ],
        [
         "ADE (treated)",
         "0.11632758535598237",
         "-0.03889611190223615",
         "0.2691389875023387",
         "0.132"
        ],
        [
         "Total effect",
         "0.1646935848044145",
         "-0.003505850700778561",
         "0.3110896832293302",
         "0.054"
        ],
        [
         "Prop. mediated (control)",
         "0.26834974657434224",
         "-0.18393291587264893",
         "1.3438393556718373",
         "0.122"
        ],
        [
         "Prop. mediated (treated)",
         "0.2683497465743423",
         "-0.18393291587264904",
         "1.3438393556718384",
         "0.122"
        ],
        [
         "ACME (average)",
         "0.04836599944843213",
         "-0.008678185820120959",
         "0.13209921027668386",
         "0.104"
        ],
        [
         "ADE (average)",
         "0.11632758535598237",
         "-0.038896111902236144",
         "0.2691389875023387",
         "0.132"
        ],
        [
         "Prop. mediated (average)",
         "0.2683497465743423",
         "-0.18393291587264898",
         "1.343839355671838",
         "0.122"
        ]
       ],
       "shape": {
        "columns": 4,
        "rows": 10
       }
      },
      "text/html": [
       "<div>\n",
       "<style scoped>\n",
       "    .dataframe tbody tr th:only-of-type {\n",
       "        vertical-align: middle;\n",
       "    }\n",
       "\n",
       "    .dataframe tbody tr th {\n",
       "        vertical-align: top;\n",
       "    }\n",
       "\n",
       "    .dataframe thead th {\n",
       "        text-align: right;\n",
       "    }\n",
       "</style>\n",
       "<table border=\"1\" class=\"dataframe\">\n",
       "  <thead>\n",
       "    <tr style=\"text-align: right;\">\n",
       "      <th></th>\n",
       "      <th>Estimate</th>\n",
       "      <th>Lower CI bound</th>\n",
       "      <th>Upper CI bound</th>\n",
       "      <th>P-value</th>\n",
       "    </tr>\n",
       "  </thead>\n",
       "  <tbody>\n",
       "    <tr>\n",
       "      <th>ACME (control)</th>\n",
       "      <td>0.048366</td>\n",
       "      <td>-0.008678</td>\n",
       "      <td>0.132099</td>\n",
       "      <td>0.104</td>\n",
       "    </tr>\n",
       "    <tr>\n",
       "      <th>ACME (treated)</th>\n",
       "      <td>0.048366</td>\n",
       "      <td>-0.008678</td>\n",
       "      <td>0.132099</td>\n",
       "      <td>0.104</td>\n",
       "    </tr>\n",
       "    <tr>\n",
       "      <th>ADE (control)</th>\n",
       "      <td>0.116328</td>\n",
       "      <td>-0.038896</td>\n",
       "      <td>0.269139</td>\n",
       "      <td>0.132</td>\n",
       "    </tr>\n",
       "    <tr>\n",
       "      <th>ADE (treated)</th>\n",
       "      <td>0.116328</td>\n",
       "      <td>-0.038896</td>\n",
       "      <td>0.269139</td>\n",
       "      <td>0.132</td>\n",
       "    </tr>\n",
       "    <tr>\n",
       "      <th>Total effect</th>\n",
       "      <td>0.164694</td>\n",
       "      <td>-0.003506</td>\n",
       "      <td>0.311090</td>\n",
       "      <td>0.054</td>\n",
       "    </tr>\n",
       "    <tr>\n",
       "      <th>Prop. mediated (control)</th>\n",
       "      <td>0.268350</td>\n",
       "      <td>-0.183933</td>\n",
       "      <td>1.343839</td>\n",
       "      <td>0.122</td>\n",
       "    </tr>\n",
       "    <tr>\n",
       "      <th>Prop. mediated (treated)</th>\n",
       "      <td>0.268350</td>\n",
       "      <td>-0.183933</td>\n",
       "      <td>1.343839</td>\n",
       "      <td>0.122</td>\n",
       "    </tr>\n",
       "    <tr>\n",
       "      <th>ACME (average)</th>\n",
       "      <td>0.048366</td>\n",
       "      <td>-0.008678</td>\n",
       "      <td>0.132099</td>\n",
       "      <td>0.104</td>\n",
       "    </tr>\n",
       "    <tr>\n",
       "      <th>ADE (average)</th>\n",
       "      <td>0.116328</td>\n",
       "      <td>-0.038896</td>\n",
       "      <td>0.269139</td>\n",
       "      <td>0.132</td>\n",
       "    </tr>\n",
       "    <tr>\n",
       "      <th>Prop. mediated (average)</th>\n",
       "      <td>0.268350</td>\n",
       "      <td>-0.183933</td>\n",
       "      <td>1.343839</td>\n",
       "      <td>0.122</td>\n",
       "    </tr>\n",
       "  </tbody>\n",
       "</table>\n",
       "</div>"
      ],
      "text/plain": [
       "                          Estimate  Lower CI bound  Upper CI bound  P-value\n",
       "ACME (control)            0.048366       -0.008678        0.132099    0.104\n",
       "ACME (treated)            0.048366       -0.008678        0.132099    0.104\n",
       "ADE (control)             0.116328       -0.038896        0.269139    0.132\n",
       "ADE (treated)             0.116328       -0.038896        0.269139    0.132\n",
       "Total effect              0.164694       -0.003506        0.311090    0.054\n",
       "Prop. mediated (control)  0.268350       -0.183933        1.343839    0.122\n",
       "Prop. mediated (treated)  0.268350       -0.183933        1.343839    0.122\n",
       "ACME (average)            0.048366       -0.008678        0.132099    0.104\n",
       "ADE (average)             0.116328       -0.038896        0.269139    0.132\n",
       "Prop. mediated (average)  0.268350       -0.183933        1.343839    0.122"
      ]
     },
     "execution_count": 28,
     "metadata": {},
     "output_type": "execute_result"
    }
   ],
   "source": [
    "model_data = df_z.copy()\n",
    "model_data = model_data.loc[df_z['dz_type5'].isin(['RMS', 'PMS'])]\n",
    "model_data = model_data[model_data['flair_contrast'] == \"WITHOUT\"]\n",
    "\n",
    "outcome_model = sm.OLS.from_formula(\n",
    "    \"edss_sqrt ~ choroid_volume + lesion_vol_logtrans + age + tiv + Female\", data=model_data\n",
    ")\n",
    "mediator_model = sm.OLS.from_formula(\n",
    "    \"lesion_vol_logtrans ~ choroid_volume + age + tiv + Female\", data=model_data\n",
    ")\n",
    "\n",
    "med = Mediation(\n",
    "    outcome_model, mediator_model, \"choroid_volume\", \"lesion_vol_logtrans\"\n",
    ").fit(method=\"bootstrap\")\n",
    "med.summary()"
   ]
  },
  {
   "cell_type": "markdown",
   "metadata": {},
   "source": [
    "### Predicting MS Phenotype"
   ]
  },
  {
   "cell_type": "markdown",
   "metadata": {},
   "source": [
    "Logistic regression on PMS"
   ]
  },
  {
   "cell_type": "code",
   "execution_count": 28,
   "metadata": {},
   "outputs": [
    {
     "name": "stdout",
     "output_type": "stream",
     "text": [
      "Optimization terminated successfully.\n",
      "         Current function value: 0.381034\n",
      "         Iterations 7\n",
      "                           Logit Regression Results                           \n",
      "==============================================================================\n",
      "Dep. Variable:                    PMS   No. Observations:                  412\n",
      "Model:                          Logit   Df Residuals:                      407\n",
      "Method:                           MLE   Df Model:                            4\n",
      "Date:                Thu, 20 Feb 2025   Pseudo R-squ.:                  0.2514\n",
      "Time:                        21:45:29   Log-Likelihood:                -156.99\n",
      "converged:                       True   LL-Null:                       -209.72\n",
      "Covariance Type:            nonrobust   LLR p-value:                 6.737e-22\n",
      "====================================================================================\n",
      "                       coef    std err          z      P>|z|      [0.025      0.975]\n",
      "------------------------------------------------------------------------------------\n",
      "Intercept           -1.1839      0.790     -1.498      0.134      -2.732       0.365\n",
      "pituitary_volume    -0.0011      0.001     -0.952      0.341      -0.003       0.001\n",
      "age                  1.3839      0.186      7.431      0.000       1.019       1.749\n",
      "tiv                 -0.1904      0.173     -1.103      0.270      -0.529       0.148\n",
      "Female              -0.5658      0.162     -3.501      0.000      -0.883      -0.249\n",
      "====================================================================================\n"
     ]
    }
   ],
   "source": [
    "model_data = df_z.loc[df_z['dz_type5'].isin(['RMS', 'PMS'])]\n",
    "model_data = pd.concat(\n",
    "    (model_data, pd.get_dummies(model_data['dz_type5'])), axis=1\n",
    ")\n",
    "model_data['PMS'] = model_data['PMS'].astype(\"int64\")\n",
    "\n",
    "# logit_mod = sm.Logit.from_formula(\"PMS ~ choroid_volume + lesion_vol_cubic + dzdur + age + tiv + Female\", data=model_data)\n",
    "logit_mod = sm.Logit.from_formula(\"PMS ~ pituitary_volume + age + tiv + Female\", data=model_data)\n",
    "res = logit_mod.fit()\n",
    "print(res.summary())"
   ]
  }
 ],
 "metadata": {
  "kernelspec": {
   "display_name": "monai",
   "language": "python",
   "name": "python3"
  },
  "language_info": {
   "codemirror_mode": {
    "name": "ipython",
    "version": 3
   },
   "file_extension": ".py",
   "mimetype": "text/x-python",
   "name": "python",
   "nbconvert_exporter": "python",
   "pygments_lexer": "ipython3",
   "version": "3.12.4"
  }
 },
 "nbformat": 4,
 "nbformat_minor": 2
}
