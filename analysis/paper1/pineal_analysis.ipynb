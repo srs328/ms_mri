{
 "cells": [
  {
   "cell_type": "code",
   "execution_count": 2,
   "metadata": {},
   "outputs": [],
   "source": [
    "import matplotlib.pyplot as plt\n",
    "import pandas as pd\n",
    "from pathlib import Path\n",
    "import numpy as np\n",
    "import re\n",
    "import seaborn as sns\n",
    "import statsmodels.api as sm\n",
    "from statsmodels.formula.api import ols\n",
    "from scipy.stats import mannwhitneyu\n",
    "from scipy import stats\n",
    "import matplotlib.ticker as ticker\n",
    "import os\n",
    "from reload_recursive import reload_recursive\n",
    "import patsy\n",
    "from pyprocessmacro import Process\n",
    "from statsmodels.stats.mediation import Mediation\n",
    "from statsmodels.miscmodels.ordinal_model import OrderedModel\n",
    "from pingouin import mediation_analysis\n",
    "\n",
    "from mri_data import file_manager as fm\n",
    "import helpers"
   ]
  },
  {
   "cell_type": "code",
   "execution_count": 3,
   "metadata": {},
   "outputs": [],
   "source": [
    "reload_recursive(helpers)"
   ]
  },
  {
   "cell_type": "markdown",
   "metadata": {},
   "source": [
    "## Setup"
   ]
  },
  {
   "cell_type": "code",
   "execution_count": 35,
   "metadata": {},
   "outputs": [],
   "source": [
    "drive_root = fm.get_drive_root()\n",
    "msmri_home = Path(\"/home/srs-9/Projects/ms_mri\")\n",
    "msmri_datadir = msmri_home / \"data\"\n",
    "curr_dir = Path(os.getcwd())\n",
    "data_dir = curr_dir / \"data0\"\n",
    "showfigs = False\n",
    "# pd.set_option('display.float_format', lambda x: '%.3f' % x)\n",
    "pd.options.display.precision = 3\n",
    "colors = helpers.get_colors()"
   ]
  },
  {
   "cell_type": "code",
   "execution_count": 5,
   "metadata": {},
   "outputs": [],
   "source": [
    "df = pd.read_csv(data_dir / \"t1_data_full.csv\")\n",
    "df = df.set_index(\"subid\")\n",
    "\n",
    "df = helpers.set_dz_type5(df)\n",
    "df = helpers.set_dz_type3(df)\n",
    "df = helpers.set_dz_type2(df)\n",
    "df = helpers.fix_edss(df)\n",
    "df = helpers.clean_df(df)\n",
    "df = helpers.set_has_prl(df)\n",
    "\n",
    "keep_cols = [\n",
    "    \"subject\",\n",
    "    \"age\",\n",
    "    \"sex\",\n",
    "    \"ms_type\",\n",
    "    \"dz_type2\",\n",
    "    \"dz_type3\",\n",
    "    \"dz_type5\",\n",
    "    \"dzdur\",\n",
    "    \"EDSS\",\n",
    "    \"MSSS\",\n",
    "    \"gMSSS\",\n",
    "    \"ARMSS\",\n",
    "    \"DMT_score\",\n",
    "    \"DMT_hx_all\",\n",
    "    \"flair_contrast\",\n",
    "    \"thalamus\",\n",
    "    \"brain\",\n",
    "    \"white\",\n",
    "    \"grey\",\n",
    "    \"cortical_thickness\",\n",
    "    \"lesion_count\",\n",
    "    \"lesion_vol_cubic\",\n",
    "    \"PRL\",\n",
    "    \"HAS_PRL\",\n",
    "    \"tiv\",\n",
    "    \"choroid_volume\",\n",
    "    \"pineal_volume\", \n",
    "    \"pituitary_volume\"\n",
    "]\n",
    "\n",
    "df = df.loc[:, keep_cols]\n",
    "df = pd.concat((df, pd.get_dummies(df[\"sex\"], dtype=\"int\")), axis=1)\n",
    "df[\"Intercept\"] = 1"
   ]
  },
  {
   "cell_type": "code",
   "execution_count": 6,
   "metadata": {},
   "outputs": [],
   "source": [
    "df.loc[:, \"lesion_vol_logtrans\"] = np.log(df[\"lesion_vol_cubic\"])\n",
    "df.loc[:, \"edss_sqrt\"] = np.sqrt(df[\"EDSS\"].astype(\"float\"))\n",
    "df.loc[:, \"msss_sqrt\"] = np.sqrt(df[\"MSSS\"])\n",
    "df.loc[:, \"armss_sqrt\"] = np.sqrt(df[\"ARMSS\"])\n",
    "df.loc[:, \"gmsss_sqrt\"] = np.sqrt(df[\"gMSSS\"])"
   ]
  },
  {
   "cell_type": "code",
   "execution_count": 7,
   "metadata": {},
   "outputs": [],
   "source": [
    "vars = [\n",
    "    \"age\",\n",
    "    \"Female\",\n",
    "    \"dzdur\",\n",
    "    \"EDSS\",\n",
    "    \"MSSS\",\n",
    "    \"gMSSS\",\n",
    "    \"ARMSS\",\n",
    "    \"edss_sqrt\",\n",
    "    \"msss_sqrt\",\n",
    "    \"armss_sqrt\",\n",
    "    \"gmsss_sqrt\",\n",
    "    \"DMT_score\",\n",
    "    \"DMT_hx_all\",\n",
    "    \"thalamus\",\n",
    "    \"brain\",\n",
    "    \"white\",\n",
    "    \"grey\",\n",
    "    \"cortical_thickness\",\n",
    "    \"lesion_count\",\n",
    "    \"lesion_vol_cubic\",\n",
    "    \"lesion_vol_logtrans\",\n",
    "    \"PRL\",\n",
    "    \"HAS_PRL\",\n",
    "    \"tiv\",\n",
    "    \"choroid_volume\",\n",
    "    \"pineal_volume\",\n",
    "    \"pituitary_volume\"\n",
    "]\n",
    "\n",
    "for var in vars:\n",
    "    df[var] = pd.to_numeric(df[var])"
   ]
  },
  {
   "cell_type": "code",
   "execution_count": 8,
   "metadata": {},
   "outputs": [],
   "source": [
    "vars_to_center = [\"edss_sqrt\", \"lesion_vol_logtrans\", \"lesion_vol_cubic\", \"dzdur\", \"choroid_volume\"]\n",
    "\n",
    "for var in vars_to_center:\n",
    "    df[f\"{var}_cent\"] = df[var] - df[var].mean()\n",
    "\n",
    "centered_vars = [f\"{var}_cent\" for var in vars_to_center]\n",
    "vars.extend(centered_vars)"
   ]
  },
  {
   "cell_type": "code",
   "execution_count": 9,
   "metadata": {},
   "outputs": [],
   "source": [
    "vars_to_scale = [\n",
    "    \"age\",\n",
    "    \"dzdur\",\n",
    "    \"lesion_count\",\n",
    "    \"lesion_vol_cubic\",\n",
    "    \"lesion_vol_logtrans\",\n",
    "    \"PRL\",\n",
    "    \"tiv\",\n",
    "    \"choroid_volume\",\n",
    "]\n",
    "\n",
    "df_scale = df.copy()\n",
    "df_scale[vars_to_scale] = df_scale[vars_to_scale] / df_scale[vars_to_scale].mean()"
   ]
  },
  {
   "cell_type": "code",
   "execution_count": 10,
   "metadata": {},
   "outputs": [],
   "source": [
    "df_ms = df.loc[df['dz_type2'] == \"MS\"]\n",
    "df_scale_ms = df_scale.loc[df['dz_type2'] == \"MS\"]\n",
    "\n",
    "df_z = df[vars].astype(\"float\")\n",
    "df_z[df.columns[~df.columns.isin(vars)]] = df[df.columns[~df.columns.isin(vars)]]\n",
    "df_z = df_z[df.columns]\n",
    "df_z[vars] = df_z[vars].apply(stats.zscore, nan_policy=\"omit\")\n",
    "\n",
    "data = df[vars].astype(\"float\")\n",
    "data_z = data[vars].apply(stats.zscore, nan_policy=\"omit\")\n",
    "\n",
    "data_ms = df.loc[df[\"dz_type5\"].isin([\"RMS\", \"PMS\"]), :]\n",
    "data_ms = data_ms[vars].astype(\"float\")\n",
    "data_ms_z = data_ms[vars].apply(stats.zscore, nan_policy=\"omit\")"
   ]
  },
  {
   "cell_type": "markdown",
   "metadata": {},
   "source": [
    "## Analysis"
   ]
  },
  {
   "cell_type": "markdown",
   "metadata": {},
   "source": [
    "### Pineal Volume"
   ]
  },
  {
   "cell_type": "code",
   "execution_count": 59,
   "metadata": {},
   "outputs": [
    {
     "name": "stdout",
     "output_type": "stream",
     "text": [
      "R2:     0.038\n",
      "R2_adj: 0.028\n",
      "                   coef      p\n",
      "Intercept         0.060  0.572\n",
      "dz_type2[T.MS]   -0.090  0.437\n",
      "age              -0.030  0.484\n",
      "tiv               0.114  0.022\n",
      "Female            0.050  0.314\n",
      "lesion_vol_cubic -0.128  0.003\n"
     ]
    }
   ],
   "source": [
    "model_data = df_z.copy()\n",
    "model_data = model_data[model_data['dz_type2'].isin([\"MS\", \"!MS\"])]\n",
    "model_data = model_data.drop([1548], axis=0)\n",
    "res = sm.OLS.from_formula(\n",
    "    \"pineal_volume ~ dz_type2 + age + tiv + Female + lesion_vol_cubic\", data=model_data\n",
    ").fit()\n",
    "\n",
    "summary = pd.DataFrame({'coef': res.params, 'p': res.pvalues})\n",
    "print(\"R2:     {:0.3f}\".format(res.rsquared))\n",
    "print(\"R2_adj: {:0.3f}\".format(res.rsquared_adj))\n",
    "print(summary)"
   ]
  },
  {
   "cell_type": "code",
   "execution_count": 43,
   "metadata": {},
   "outputs": [
    {
     "name": "stdout",
     "output_type": "stream",
     "text": [
      "R2:     0.017\n",
      "R2_adj: 0.008\n",
      "                  coef      p\n",
      "Intercept       -0.097  0.348\n",
      "dz_type5[T.RMS]  0.073  0.539\n",
      "Female           0.023  0.662\n",
      "age             -0.057  0.224\n",
      "tiv              0.093  0.075\n"
     ]
    }
   ],
   "source": [
    "model_data = df_z.copy()\n",
    "model_data = model_data[model_data['dz_type5'].isin([\"RMS\", \"PMS\"])]\n",
    "res = sm.OLS.from_formula(\"pineal_volume ~ dz_type5 + Female + age + tiv\", data=model_data).fit()\n",
    "\n",
    "summary = pd.DataFrame({'coef': res.params, 'p': res.pvalues})\n",
    "print(\"R2:     {:0.3f}\".format(res.rsquared))\n",
    "print(\"R2_adj: {:0.3f}\".format(res.rsquared_adj))\n",
    "print(summary)"
   ]
  },
  {
   "cell_type": "markdown",
   "metadata": {},
   "source": [
    "See how pineal volume changes with various imaging findings"
   ]
  },
  {
   "cell_type": "code",
   "execution_count": 44,
   "metadata": {},
   "outputs": [
    {
     "name": "stdout",
     "output_type": "stream",
     "text": [
      "                     coef  pvals  p_fdr\n",
      "lesion_vol_cubic   -0.154  0.002  0.012\n",
      "PRL                 0.015  0.759  0.759\n",
      "thalamus            0.102  0.018  0.043\n",
      "brain               0.019  0.665  0.759\n",
      "grey                0.047  0.270  0.473\n",
      "white              -0.025  0.604  0.759\n",
      "cortical_thickness  0.113  0.009  0.032\n"
     ]
    }
   ],
   "source": [
    "model_data = df_z\n",
    "# model_data = df_z[df_z['dz_type5'].isin([\"RMS\", \"PMS\"])]\n",
    "# model_data = df_z[df_z['dz_type5'] == \"OIND\"]\n",
    "\n",
    "model_data = model_data[df_z['pineal_volume'] < 5]\n",
    "\n",
    "outcomes = [\"lesion_vol_cubic\", \"PRL\", \"thalamus\", \"brain\", \"grey\", \"white\", \"cortical_thickness\"]\n",
    "covariates = \"age + Female + tiv\"\n",
    "\n",
    "pvals = {}\n",
    "coefs = {}\n",
    "\n",
    "for outcome in outcomes:\n",
    "    formula = f\"{outcome} ~ pineal_volume + {covariates}\"\n",
    "    res = sm.OLS.from_formula(formula, data=model_data).fit()\n",
    "    pvals[outcome] = res.pvalues['pineal_volume']\n",
    "    coefs[outcome] = res.params['pineal_volume']\n",
    "\n",
    "regression_results = pd.DataFrame({\"coef\": coefs, \"pvals\": pvals})\n",
    "regression_results['p_fdr'] = stats.false_discovery_control(regression_results['pvals'], method='bh')\n",
    "print(regression_results)"
   ]
  },
  {
   "cell_type": "code",
   "execution_count": 47,
   "metadata": {},
   "outputs": [
    {
     "data": {
      "image/png": "[encoded data removed]",
      "text/plain": [
       "<Figure size 1200x400 with 3 Axes>"
      ]
     },
     "metadata": {},
     "output_type": "display_data"
    }
   ],
   "source": [
    "outcomes = [\"lesion_vol_cubic\", \"thalamus\", \"cortical_thickness\"]\n",
    "\n",
    "fig, axs = plt.subplot_mosaic([outcomes], \n",
    "                               figsize=(12, 4),\n",
    "                               layout='constrained',\n",
    "                               )\n",
    "\n",
    "plot_data = data.copy()\n",
    "plot_data = plot_data[data_z['pineal_volume'] < 5]\n",
    "\n",
    "dark_color = colors['dark red1']\n",
    "light_color = colors['light red1']\n",
    "keep_xticks = outcomes\n",
    "for outcome in outcomes:\n",
    "    formula = f\"{outcome} ~ pineal_volume + {covariates}\"\n",
    "    res = sm.OLS.from_formula(formula, data=plot_data).fit()\n",
    "    x, y_pred, y_lims = helpers.get_regression_y(plot_data, res, \"pineal_volume\", outcome)\n",
    "    axs[outcome].scatter(plot_data['pineal_volume'], plot_data[outcome], s=2, color=dark_color)\n",
    "    axs[outcome].plot(x, y_pred, color='black')\n",
    "    axs[outcome].fill_between(x, y_lims[0], y_lims[1], alpha=0.4, color=light_color)\n",
    "    axs[outcome].set_ylabel(outcome)\n",
    "    if outcome not in keep_xticks:\n",
    "        axs[outcome].set_xlabel(\"\")\n",
    "        axs[outcome].set_xticklabels([])\n",
    "    else:\n",
    "        axs[outcome].set_xlabel(\"Pineal volume\")"
   ]
  },
  {
   "cell_type": "code",
   "execution_count": 54,
   "metadata": {},
   "outputs": [
    {
     "name": "stdout",
     "output_type": "stream",
     "text": [
      "R2:     0.396\n",
      "R2_adj: 0.389\n",
      "                                 coef      p\n",
      "Intercept                       0.003  0.927\n",
      "lesion_vol_cubic               -0.358  0.000\n",
      "pineal_volume                   0.041  0.257\n",
      "lesion_vol_cubic:pineal_volume  0.021  0.540\n",
      "tiv                            -0.023  0.586\n",
      "age                            -0.354  0.000\n",
      "Female                          0.201  0.000\n"
     ]
    }
   ],
   "source": [
    "moderation_model = sm.OLS.from_formula(\"thalamus ~ lesion_vol_cubic*pineal_volume + tiv + age + Female\", data=data_z)\n",
    "res = moderation_model.fit()\n",
    "summary = pd.DataFrame({'coef': res.params, 'p': res.pvalues.round(3)})\n",
    "print(\"R2:     {:0.3}\".format(res.rsquared))\n",
    "print(\"R2_adj: {:0.3}\".format(res.rsquared_adj))\n",
    "print(summary)"
   ]
  },
  {
   "cell_type": "markdown",
   "metadata": {},
   "source": [
    "Other correlations"
   ]
  },
  {
   "cell_type": "code",
   "execution_count": 75,
   "metadata": {},
   "outputs": [
    {
     "name": "stdout",
     "output_type": "stream",
     "text": [
      "R2:     0.017\n",
      "R2_adj: 0.009\n",
      "                coef      p\n",
      "Intercept -2.082e-17  1.000\n",
      "thalamus   1.226e-01  0.020\n",
      "Female     1.498e-02  0.789\n",
      "age        9.915e-03  0.846\n",
      "tiv        7.484e-02  0.170\n"
     ]
    }
   ],
   "source": [
    "model_data = df_z.copy()\n",
    "# model_data = model_data[model_data['dz_type5'].isin([\"RMS\", \"PMS\"])]\n",
    "res = sm.OLS.from_formula(\"pineal_volume ~ thalamus + Female + age + tiv\", data=model_data).fit()\n",
    "\n",
    "summary = pd.DataFrame({'coef': res.params, 'p': res.pvalues})\n",
    "print(\"R2:     {:0.3f}\".format(res.rsquared))\n",
    "print(\"R2_adj: {:0.3f}\".format(res.rsquared_adj))\n",
    "print(summary)"
   ]
  },
  {
   "cell_type": "code",
   "execution_count": 48,
   "metadata": {},
   "outputs": [
    {
     "name": "stdout",
     "output_type": "stream",
     "text": [
      "                            OLS Regression Results                            \n",
      "==============================================================================\n",
      "Dep. Variable:          pineal_volume   R-squared:                       0.015\n",
      "Model:                            OLS   Adj. R-squared:                  0.005\n",
      "Method:                 Least Squares   F-statistic:                     1.533\n",
      "Date:                Sat, 08 Mar 2025   Prob (F-statistic):              0.192\n",
      "Time:                        19:20:33   Log-Likelihood:                -2316.5\n",
      "No. Observations:                 397   AIC:                             4643.\n",
      "Df Residuals:                     392   BIC:                             4663.\n",
      "Df Model:                           4                                         \n",
      "Covariance Type:            nonrobust                                         \n",
      "==============================================================================\n",
      "                 coef    std err          t      P>|t|      [0.025      0.975]\n",
      "------------------------------------------------------------------------------\n",
      "Intercept    159.4510     67.458      2.364      0.019      26.827     292.075\n",
      "EDSS          -0.3671      2.383     -0.154      0.878      -5.052       4.318\n",
      "Female         4.7740     11.962      0.399      0.690     -18.743      28.291\n",
      "age           -0.4759      0.373     -1.277      0.202      -1.208       0.257\n",
      "tiv         6.577e-05   3.85e-05      1.710      0.088   -9.84e-06       0.000\n",
      "==============================================================================\n",
      "Omnibus:                       61.732   Durbin-Watson:                   1.978\n",
      "Prob(Omnibus):                  0.000   Jarque-Bera (JB):              148.878\n",
      "Skew:                           0.780   Prob(JB):                     4.69e-33\n",
      "Kurtosis:                       5.562   Cond. No.                     2.44e+07\n",
      "==============================================================================\n",
      "\n",
      "Notes:\n",
      "[1] Standard Errors assume that the covariance matrix of the errors is correctly specified.\n",
      "[2] The condition number is large, 2.44e+07. This might indicate that there are\n",
      "strong multicollinearity or other numerical problems.\n"
     ]
    }
   ],
   "source": [
    "model_data = df[df['dz_type5'].isin([\"RMS\", \"PMS\"])]\n",
    "\n",
    "res = sm.OLS.from_formula(\"pineal_volume ~ EDSS + Female + age + tiv\", data=model_data).fit()\n",
    "\n",
    "print(res.summary())"
   ]
  },
  {
   "cell_type": "code",
   "execution_count": 52,
   "metadata": {},
   "outputs": [
    {
     "name": "stdout",
     "output_type": "stream",
     "text": [
      "                            OLS Regression Results                            \n",
      "==============================================================================\n",
      "Dep. Variable:          pineal_volume   R-squared:                       0.031\n",
      "Model:                            OLS   Adj. R-squared:                  0.010\n",
      "Method:                 Least Squares   F-statistic:                     1.475\n",
      "Date:                Tue, 04 Mar 2025   Prob (F-statistic):              0.165\n",
      "Time:                        14:27:24   Log-Likelihood:                -2197.7\n",
      "No. Observations:                 376   AIC:                             4413.\n",
      "Df Residuals:                     367   BIC:                             4449.\n",
      "Df Model:                           8                                         \n",
      "Covariance Type:            nonrobust                                         \n",
      "====================================================================================\n",
      "                       coef    std err          t      P>|t|      [0.025      0.975]\n",
      "------------------------------------------------------------------------------------\n",
      "Intercept          167.6980     72.753      2.305      0.022      24.633     310.763\n",
      "dz_type5[T.RMS]      2.5043     13.016      0.192      0.848     -23.092      28.100\n",
      "MSSS                -0.5781      1.988     -0.291      0.771      -4.488       3.331\n",
      "DMT_hx_all          12.9642      9.010      1.439      0.151      -4.754      30.682\n",
      "lesion_vol_cubic   -10.7345      5.799     -1.851      0.065     -22.138       0.669\n",
      "PRL                  3.8895      2.507      1.552      0.122      -1.040       8.819\n",
      "Female               2.3985     12.725      0.188      0.851     -22.625      27.422\n",
      "age                 -0.1257      0.411     -0.306      0.760      -0.933       0.682\n",
      "tiv               5.321e-05   4.07e-05      1.309      0.191   -2.67e-05       0.000\n",
      "==============================================================================\n",
      "Omnibus:                       59.867   Durbin-Watson:                   1.969\n",
      "Prob(Omnibus):                  0.000   Jarque-Bera (JB):              137.543\n",
      "Skew:                           0.810   Prob(JB):                     1.36e-30\n",
      "Kurtosis:                       5.481   Cond. No.                     2.52e+07\n",
      "==============================================================================\n",
      "\n",
      "Notes:\n",
      "[1] Standard Errors assume that the covariance matrix of the errors is correctly specified.\n",
      "[2] The condition number is large, 2.52e+07. This might indicate that there are\n",
      "strong multicollinearity or other numerical problems.\n"
     ]
    }
   ],
   "source": [
    "model_data = df[df['dz_type5'].isin([\"RMS\", \"PMS\"])]\n",
    "\n",
    "res = sm.OLS.from_formula(\"pineal_volume ~ MSSS + DMT_hx_all + dz_type5 + lesion_vol_cubic + PRL + Female + age + tiv\", data=model_data).fit()\n",
    "\n",
    "print(res.summary())"
   ]
  }
 ],
 "metadata": {
  "kernelspec": {
   "display_name": "monai",
   "language": "python",
   "name": "python3"
  },
  "language_info": {
   "codemirror_mode": {
    "name": "ipython",
    "version": 3
   },
   "file_extension": ".py",
   "mimetype": "text/x-python",
   "name": "python",
   "nbconvert_exporter": "python",
   "pygments_lexer": "ipython3",
   "version": "3.12.4"
  }
 },
 "nbformat": 4,
 "nbformat_minor": 2
}
