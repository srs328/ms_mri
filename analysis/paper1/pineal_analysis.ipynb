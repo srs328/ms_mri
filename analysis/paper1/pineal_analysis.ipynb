{
 "cells": [
  {
   "cell_type": "code",
   "execution_count": 1,
   "metadata": {},
   "outputs": [],
   "source": [
    "import matplotlib.pyplot as plt\n",
    "import pandas as pd\n",
    "from pathlib import Path\n",
    "import numpy as np\n",
    "import re\n",
    "import seaborn as sns\n",
    "import statsmodels.api as sm\n",
    "from statsmodels.formula.api import ols\n",
    "from scipy.stats import mannwhitneyu\n",
    "from scipy import stats\n",
    "import matplotlib.ticker as ticker\n",
    "import os\n",
    "from reload_recursive import reload_recursive\n",
    "import patsy\n",
    "from pyprocessmacro import Process\n",
    "from statsmodels.stats.mediation import Mediation\n",
    "from statsmodels.miscmodels.ordinal_model import OrderedModel\n",
    "from pingouin import mediation_analysis\n",
    "\n",
    "from mri_data import file_manager as fm\n",
    "import helpers"
   ]
  },
  {
   "cell_type": "code",
   "execution_count": 2,
   "metadata": {},
   "outputs": [],
   "source": [
    "reload_recursive(helpers)"
   ]
  },
  {
   "cell_type": "markdown",
   "metadata": {},
   "source": [
    "## Setup"
   ]
  },
  {
   "cell_type": "code",
   "execution_count": 3,
   "metadata": {},
   "outputs": [],
   "source": [
    "drive_root = fm.get_drive_root()\n",
    "msmri_home = Path(\"/home/srs-9/Projects/ms_mri\")\n",
    "msmri_datadir = msmri_home / \"data\"\n",
    "curr_dir = Path(os.getcwd())\n",
    "data_dir = curr_dir / \"data0\"\n",
    "showfigs = False\n",
    "# pd.set_option('display.float_format', lambda x: '%.3f' % x)\n",
    "pd.options.display.precision = 3\n",
    "colors = helpers.get_colors()"
   ]
  },
  {
   "cell_type": "code",
   "execution_count": 4,
   "metadata": {},
   "outputs": [],
   "source": [
    "# df = pd.read_csv(data_dir / \"t1_2_data_full.csv\", index_col=\"subid\")\n",
    "df = pd.read_csv(data_dir / \"t1_aschoplex_data_full.csv\", index_col=\"subid\")\n",
    "df_full = df.copy()\n",
    "df_tmp = pd.read_csv(data_dir / \"t1_data_full.csv\", index_col=\"subid\")\n",
    "df['pineal_volume'] = df_tmp['pineal_volume']\n",
    "df['pituitary_volume'] = df_tmp['pituitary_volume']\n",
    "\n",
    "df = helpers.get_mri_edss_delta(df)\n",
    "\n",
    "keep_cols = [\n",
    "    \"subject\",\n",
    "    \"age\",\n",
    "    \"sex\",\n",
    "    \"ms_type\",\n",
    "    \"dzdur\",\n",
    "    \"extracted_EDSS\",\n",
    "    \"MSSS\",\n",
    "    \"gMSSS\",\n",
    "    \"ARMSS\",\n",
    "    \"edss_mri_delta\",\n",
    "    \"edss_date_closest\",\n",
    "    \"mri_date_closest\",\n",
    "    \"DMT_score\",\n",
    "    \"DMT_hx_all\",\n",
    "    \"TER\",\n",
    "    \"DMF\",\n",
    "    \"NAT\",\n",
    "    \"INF\",\n",
    "    \"flair_contrast\",\n",
    "    \"thalamus\",\n",
    "    \"brain\",\n",
    "    \"white\",\n",
    "    \"grey\",\n",
    "    \"cortical_thickness\",\n",
    "    \"lesion_count\",\n",
    "    \"lesion_vol_cubic\",\n",
    "    \"PRL\",\n",
    "    \"tiv\",\n",
    "    \"choroid_volume\",\n",
    "    \"pineal_volume\", \n",
    "    \"pituitary_volume\"\n",
    "]\n",
    "df = df.loc[:, keep_cols]\n",
    "\n",
    "df = helpers.set_dz_type5(df)\n",
    "df = helpers.set_dz_type3(df)\n",
    "df = helpers.set_dz_type2(df)\n",
    "df = helpers.fix_edss(df)\n",
    "df = helpers.clean_df(df)\n",
    "df = helpers.set_has_prl(df)\n",
    "df = helpers.norm_volumes(df)\n",
    "\n",
    "df.rename(columns={\"lesion_vol_cubic\": \"t2lv\"}, inplace=True)\n",
    "df = df.rename(columns={\"extracted_EDSS\": \"EDSS\"})\n",
    "\n",
    "df = helpers.do_sqrt_transform(df, [\"EDSS\", \"MSSS\", \"ARMSS\", \"gMSSS\"])\n",
    "df = helpers.do_log_transform(df, [\"t2lv\"])\n",
    "\n",
    "vars_to_center = [\"EDSS_sqrt\", \"t2lv_logtrans\", \"t2lv\", \"dzdur\", \"choroid_volume\", \"PRL\"]\n",
    "df = helpers.do_center(df, vars_to_center)\n",
    "\n",
    "vars_to_scale = [\n",
    "    \"age\",\n",
    "    \"dzdur\",\n",
    "    \"lesion_count\",\n",
    "    \"t2lv\",\n",
    "    \"t2lv_logtrans\",\n",
    "    \"PRL\",\n",
    "    \"tiv\",\n",
    "    \"choroid_volume\",\n",
    "    \"thalamus\"\n",
    "]\n",
    "df = helpers.do_scale(df, vars_to_scale)\n",
    "\n",
    "numeric_vars = [\n",
    "    \"age\",\n",
    "    \"dzdur\",\n",
    "    \"Female\",\n",
    "    \"EDSS\", \"EDSS_sqrt\",\n",
    "    \"MSSS\", \"MSSS_sqrt\",\n",
    "    \"gMSSS\", \"gMSSS_sqrt\",\n",
    "    \"ARMSS\", \"ARMSS_sqrt\",\n",
    "    \"edss_mri_delta\",\n",
    "    \"DMT_score\",\n",
    "    \"DMT_hx_all\",\n",
    "    \"TER\",\n",
    "    \"DMF\",\n",
    "    \"NAT\",\n",
    "    \"INF\",\n",
    "    \"thalamus\",\n",
    "    \"brain\",\n",
    "    \"white\",\n",
    "    \"grey\",\n",
    "    \"cortical_thickness\",\n",
    "    \"lesion_count\",\n",
    "    \"t2lv\", \"t2lv_logtrans\",\n",
    "    \"PRL\",\n",
    "    \"tiv\",\n",
    "    \"choroid_volume\",\n",
    "    \"norm_choroid_volume\",\n",
    "    \"pineal_volume\",\n",
    "    \"pituitary_volume\"\n",
    "]\n",
    "\n",
    "for var in numeric_vars:\n",
    "    df[var] = df[var].astype(\"float\")\n",
    "\n",
    "df_ms = df.loc[df['dz_type2'] == \"MS\"]\n",
    "df_scale = df.copy() #temporary till I rename df_scale everywehre\n",
    "df_scale_ms = df_scale.loc[df['dz_type2'] == \"MS\"]\n",
    "\n",
    "df_z = df[numeric_vars].astype(\"float\")\n",
    "df_z[df.columns[~df.columns.isin(numeric_vars)]] = df[df.columns[~df.columns.isin(numeric_vars)]]\n",
    "df_z = df_z[df.columns]\n",
    "df_z[numeric_vars] = df_z[numeric_vars].apply(stats.zscore, nan_policy=\"omit\")\n",
    "\n",
    "# delete these vars once I fix all future variable references\n",
    "data = df[numeric_vars].astype(\"float\")\n",
    "data_z = data[numeric_vars].apply(stats.zscore, nan_policy=\"omit\")\n",
    "\n",
    "data_ms = df.loc[df[\"dz_type5\"].isin([\"RMS\", \"PMS\"]), :]\n",
    "data_ms = data_ms[numeric_vars].astype(\"float\")\n",
    "data_ms_z = data_ms[numeric_vars].apply(stats.zscore, nan_policy=\"omit\")"
   ]
  },
  {
   "cell_type": "markdown",
   "metadata": {},
   "source": [
    "## Analysis"
   ]
  },
  {
   "cell_type": "markdown",
   "metadata": {},
   "source": [
    "### Pineal Volume"
   ]
  },
  {
   "cell_type": "code",
   "execution_count": 5,
   "metadata": {},
   "outputs": [
    {
     "name": "stdout",
     "output_type": "stream",
     "text": [
      "R2:     0.038\n",
      "R2_adj: 0.028\n",
      "                 coef      p\n",
      "Intercept       0.056  0.599\n",
      "dz_type2[T.MS] -0.090  0.437\n",
      "age            -0.029  0.484\n",
      "tiv             0.114  0.022\n",
      "Female          0.050  0.314\n",
      "t2lv           -0.142  0.003\n"
     ]
    }
   ],
   "source": [
    "model_data = df_z.copy()\n",
    "model_data = model_data[model_data['dz_type2'].isin([\"MS\", \"!MS\"])]\n",
    "model_data = model_data.drop([1548], axis=0)\n",
    "res = sm.OLS.from_formula(\n",
    "    \"pineal_volume ~ dz_type2 + age + tiv + Female + t2lv\", data=model_data\n",
    ").fit()\n",
    "\n",
    "summary = pd.DataFrame({'coef': res.params, 'p': res.pvalues})\n",
    "print(\"R2:     {:0.3f}\".format(res.rsquared))\n",
    "print(\"R2_adj: {:0.3f}\".format(res.rsquared_adj))\n",
    "print(summary)"
   ]
  },
  {
   "cell_type": "code",
   "execution_count": 6,
   "metadata": {},
   "outputs": [
    {
     "name": "stdout",
     "output_type": "stream",
     "text": [
      "R2:     0.017\n",
      "R2_adj: 0.008\n",
      "                  coef      p\n",
      "Intercept       -0.099  0.339\n",
      "dz_type5[T.RMS]  0.073  0.539\n",
      "Female           0.023  0.662\n",
      "age             -0.056  0.224\n",
      "tiv              0.093  0.075\n"
     ]
    }
   ],
   "source": [
    "model_data = df_z.copy()\n",
    "model_data = model_data[model_data['dz_type5'].isin([\"RMS\", \"PMS\"])]\n",
    "res = sm.OLS.from_formula(\"pineal_volume ~ dz_type5 + Female + age + tiv\", data=model_data).fit()\n",
    "\n",
    "summary = pd.DataFrame({'coef': res.params, 'p': res.pvalues})\n",
    "print(\"R2:     {:0.3f}\".format(res.rsquared))\n",
    "print(\"R2_adj: {:0.3f}\".format(res.rsquared_adj))\n",
    "print(summary)"
   ]
  },
  {
   "cell_type": "markdown",
   "metadata": {},
   "source": [
    "See how pineal volume changes with various imaging findings"
   ]
  },
  {
   "cell_type": "code",
   "execution_count": 8,
   "metadata": {},
   "outputs": [
    {
     "name": "stdout",
     "output_type": "stream",
     "text": [
      "                     coef  pvals  p_fdr\n",
      "t2lv               -0.022  0.591  0.933\n",
      "PRL                -0.004  0.933  0.933\n",
      "thalamus            0.007  0.850  0.933\n",
      "brain              -0.004  0.922  0.933\n",
      "grey                0.007  0.850  0.933\n",
      "white              -0.019  0.670  0.933\n",
      "cortical_thickness  0.017  0.664  0.933\n"
     ]
    }
   ],
   "source": [
    "model_data = df_z\n",
    "# model_data = df_z[df_z['dz_type5'].isin([\"RMS\", \"PMS\"])]\n",
    "# model_data = df_z[df_z['dz_type5'] == \"OIND\"]\n",
    "\n",
    "outcomes = [\"t2lv\", \"PRL\", \"thalamus\", \"brain\", \"grey\", \"white\", \"cortical_thickness\"]\n",
    "covariates = \"age + Female + tiv\"\n",
    "\n",
    "pvals = {}\n",
    "coefs = {}\n",
    "\n",
    "for outcome in outcomes:\n",
    "    formula = f\"{outcome} ~ pituitary_volume + {covariates}\"\n",
    "    res = sm.OLS.from_formula(formula, data=model_data).fit()\n",
    "    pvals[outcome] = res.pvalues['pituitary_volume']\n",
    "    coefs[outcome] = res.params['pituitary_volume']\n",
    "\n",
    "regression_results = pd.DataFrame({\"coef\": coefs, \"pvals\": pvals})\n",
    "regression_results['p_fdr'] = stats.false_discovery_control(regression_results['pvals'], method='bh')\n",
    "print(regression_results)"
   ]
  },
  {
   "cell_type": "code",
   "execution_count": 24,
   "metadata": {},
   "outputs": [
    {
     "data": {
      "image/png": "[encoded data removed]",
      "text/plain": [
       "<Figure size 1200x400 with 3 Axes>"
      ]
     },
     "metadata": {},
     "output_type": "display_data"
    }
   ],
   "source": [
    "outcomes = [\"t2lv\", \"thalamus\", \"cortical_thickness\"]\n",
    "\n",
    "fig, axs = plt.subplot_mosaic([outcomes], \n",
    "                               figsize=(12, 4),\n",
    "                               layout='constrained',\n",
    "                               )\n",
    "\n",
    "plot_data = data.copy()\n",
    "plot_data = plot_data[data_z['pineal_volume'] < 5]\n",
    "\n",
    "dark_color = colors['dark red1']\n",
    "light_color = colors['light red1']\n",
    "keep_xticks = outcomes\n",
    "for outcome in outcomes:\n",
    "    formula = f\"{outcome} ~ pineal_volume + {covariates}\"\n",
    "    res = sm.OLS.from_formula(formula, data=plot_data).fit()\n",
    "    x, y_pred, y_lims = helpers.get_regression_y(plot_data, res, \"pineal_volume\", outcome)\n",
    "    axs[outcome].scatter(plot_data['pineal_volume'], plot_data[outcome], s=2, color=dark_color)\n",
    "    axs[outcome].plot(x, y_pred, color='black')\n",
    "    axs[outcome].fill_between(x, y_lims[0], y_lims[1], alpha=0.4, color=light_color)\n",
    "    axs[outcome].set_ylabel(outcome)\n",
    "    if outcome not in keep_xticks:\n",
    "        axs[outcome].set_xlabel(\"\")\n",
    "        axs[outcome].set_xticklabels([])\n",
    "    else:\n",
    "        axs[outcome].set_xlabel(\"Pineal volume\")"
   ]
  },
  {
   "cell_type": "code",
   "execution_count": 26,
   "metadata": {},
   "outputs": [
    {
     "name": "stdout",
     "output_type": "stream",
     "text": [
      "R2:     0.396\n",
      "R2_adj: 0.389\n",
      "                     coef      p\n",
      "Intercept          -0.006  0.864\n",
      "t2lv               -0.389  0.000\n",
      "pineal_volume       0.040  0.253\n",
      "t2lv:pineal_volume  0.023  0.540\n",
      "tiv                -0.023  0.586\n",
      "age                -0.338  0.000\n",
      "Female              0.196  0.000\n"
     ]
    }
   ],
   "source": [
    "moderation_model = sm.OLS.from_formula(\"thalamus ~ t2lv*pineal_volume + tiv + age + Female\", data=data_z)\n",
    "res = moderation_model.fit()\n",
    "summary = pd.DataFrame({'coef': res.params, 'p': res.pvalues.round(3)})\n",
    "print(\"R2:     {:0.3}\".format(res.rsquared))\n",
    "print(\"R2_adj: {:0.3}\".format(res.rsquared_adj))\n",
    "print(summary)"
   ]
  },
  {
   "cell_type": "markdown",
   "metadata": {},
   "source": [
    "Other correlations"
   ]
  },
  {
   "cell_type": "code",
   "execution_count": 27,
   "metadata": {},
   "outputs": [
    {
     "name": "stdout",
     "output_type": "stream",
     "text": [
      "R2:     0.017\n",
      "R2_adj: 0.009\n",
      "                coef      p\n",
      "Intercept -9.230e-04  0.984\n",
      "thalamus   1.257e-01  0.020\n",
      "Female     1.504e-02  0.789\n",
      "age        9.726e-03  0.846\n",
      "tiv        7.484e-02  0.170\n"
     ]
    }
   ],
   "source": [
    "model_data = df_z.copy()\n",
    "# model_data = model_data[model_data['dz_type5'].isin([\"RMS\", \"PMS\"])]\n",
    "res = sm.OLS.from_formula(\"pineal_volume ~ thalamus + Female + age + tiv\", data=model_data).fit()\n",
    "\n",
    "summary = pd.DataFrame({'coef': res.params, 'p': res.pvalues})\n",
    "print(\"R2:     {:0.3f}\".format(res.rsquared))\n",
    "print(\"R2_adj: {:0.3f}\".format(res.rsquared_adj))\n",
    "print(summary)"
   ]
  },
  {
   "cell_type": "code",
   "execution_count": 28,
   "metadata": {},
   "outputs": [
    {
     "name": "stdout",
     "output_type": "stream",
     "text": [
      "                            OLS Regression Results                            \n",
      "==============================================================================\n",
      "Dep. Variable:          pineal_volume   R-squared:                       0.015\n",
      "Model:                            OLS   Adj. R-squared:                  0.005\n",
      "Method:                 Least Squares   F-statistic:                     1.533\n",
      "Date:                Wed, 09 Apr 2025   Prob (F-statistic):              0.192\n",
      "Time:                        16:17:10   Log-Likelihood:                -2316.5\n",
      "No. Observations:                 397   AIC:                             4643.\n",
      "Df Residuals:                     392   BIC:                             4663.\n",
      "Df Model:                           4                                         \n",
      "Covariance Type:            nonrobust                                         \n",
      "==============================================================================\n",
      "                 coef    std err          t      P>|t|      [0.025      0.975]\n",
      "------------------------------------------------------------------------------\n",
      "Intercept    159.4510     67.458      2.364      0.019      26.827     292.075\n",
      "EDSS          -0.3671      2.383     -0.154      0.878      -5.052       4.318\n",
      "Female         4.7740     11.962      0.399      0.690     -18.743      28.291\n",
      "age           -0.4759      0.373     -1.277      0.202      -1.208       0.257\n",
      "tiv         6.577e-05   3.85e-05      1.710      0.088   -9.84e-06       0.000\n",
      "==============================================================================\n",
      "Omnibus:                       61.732   Durbin-Watson:                   1.978\n",
      "Prob(Omnibus):                  0.000   Jarque-Bera (JB):              148.878\n",
      "Skew:                           0.780   Prob(JB):                     4.69e-33\n",
      "Kurtosis:                       5.562   Cond. No.                     2.44e+07\n",
      "==============================================================================\n",
      "\n",
      "Notes:\n",
      "[1] Standard Errors assume that the covariance matrix of the errors is correctly specified.\n",
      "[2] The condition number is large, 2.44e+07. This might indicate that there are\n",
      "strong multicollinearity or other numerical problems.\n"
     ]
    }
   ],
   "source": [
    "model_data = df[df['dz_type5'].isin([\"RMS\", \"PMS\"])]\n",
    "\n",
    "res = sm.OLS.from_formula(\"pineal_volume ~ EDSS + Female + age + tiv\", data=model_data).fit()\n",
    "\n",
    "print(res.summary())"
   ]
  },
  {
   "cell_type": "code",
   "execution_count": 39,
   "metadata": {},
   "outputs": [
    {
     "name": "stdout",
     "output_type": "stream",
     "text": [
      "                            OLS Regression Results                            \n",
      "==============================================================================\n",
      "Dep. Variable:          pineal_volume   R-squared:                       0.074\n",
      "Model:                            OLS   Adj. R-squared:                  0.054\n",
      "Method:                 Least Squares   F-statistic:                     3.691\n",
      "Date:                Mon, 10 Mar 2025   Prob (F-statistic):           0.000368\n",
      "Time:                        14:23:18   Log-Likelihood:                -2126.4\n",
      "No. Observations:                 376   AIC:                             4271.\n",
      "Df Residuals:                     367   BIC:                             4306.\n",
      "Df Model:                           8                                         \n",
      "Covariance Type:            nonrobust                                         \n",
      "====================================================================================\n",
      "                       coef    std err          t      P>|t|      [0.025      0.975]\n",
      "------------------------------------------------------------------------------------\n",
      "Intercept          145.1154     60.193      2.411      0.016      26.749     263.482\n",
      "dz_type5[T.RMS]     15.3531     10.769      1.426      0.155      -5.824      36.530\n",
      "MSSS                 0.1200      1.645      0.073      0.942      -3.115       3.355\n",
      "DMT_hx_all           8.2889      7.455      1.112      0.267      -6.370      22.948\n",
      "lesion_vol_cubic   -15.6089      4.798     -3.253      0.001     -25.044      -6.174\n",
      "PRL                  0.9852      2.074      0.475      0.635      -3.093       5.064\n",
      "Female              -2.2895     10.528     -0.217      0.828     -22.993      18.414\n",
      "age                 -0.4803      0.340     -1.414      0.158      -1.149       0.188\n",
      "tiv                3.92e-05   3.36e-05      1.165      0.245   -2.69e-05       0.000\n",
      "==============================================================================\n",
      "Omnibus:                      145.638   Durbin-Watson:                   1.983\n",
      "Prob(Omnibus):                  0.000   Jarque-Bera (JB):              932.194\n",
      "Skew:                           1.492   Prob(JB):                    3.77e-203\n",
      "Kurtosis:                      10.113   Cond. No.                     2.52e+07\n",
      "==============================================================================\n",
      "\n",
      "Notes:\n",
      "[1] Standard Errors assume that the covariance matrix of the errors is correctly specified.\n",
      "[2] The condition number is large, 2.52e+07. This might indicate that there are\n",
      "strong multicollinearity or other numerical problems.\n"
     ]
    }
   ],
   "source": [
    "model_data = df[df['dz_type5'].isin([\"RMS\", \"PMS\"])]\n",
    "\n",
    "res = sm.OLS.from_formula(\"pineal_volume ~ MSSS + DMT_hx_all + dz_type5 + lesion_vol_cubic + PRL + Female + age + tiv\", data=model_data).fit()\n",
    "\n",
    "print(res.summary())"
   ]
  },
  {
   "cell_type": "code",
   "execution_count": 9,
   "metadata": {},
   "outputs": [],
   "source": [
    "model_data = df_z.copy()\n",
    "model_data = model_data.loc[df['dz_type5'].isin([\"RMS\", \"PMS\"]), :]"
   ]
  },
  {
   "cell_type": "markdown",
   "metadata": {},
   "source": [
    "Do all the univariate regressions with age, sex, and TIV as covariates"
   ]
  },
  {
   "cell_type": "code",
   "execution_count": 17,
   "metadata": {},
   "outputs": [
    {
     "data": {
      "application/vnd.microsoft.datawrangler.viewer.v0+json": {
       "columns": [
        {
         "name": "index",
         "rawType": "object",
         "type": "string"
        },
        {
         "name": "coef",
         "rawType": "float64",
         "type": "float"
        },
        {
         "name": "pvals",
         "rawType": "float64",
         "type": "float"
        }
       ],
       "conversionMethod": "pd.DataFrame",
       "ref": "4a39e447-7e81-4164-928b-02fe7aa5da89",
       "rows": [
        [
         "pineal_volume",
         "-0.008327945244265689",
         "0.8776340873843957"
        ],
        [
         "t2lv",
         "0.19516186198401264",
         "0.0002238938980315001"
        ],
        [
         "PRL",
         "0.094967272882337",
         "0.0247555747054234"
        ],
        [
         "thalamus",
         "-0.29295624033733314",
         "3.6054393054557415e-08"
        ],
        [
         "grey",
         "-0.1105796418747321",
         "0.04832177617825844"
        ],
        [
         "white",
         "-0.009787295382034628",
         "0.843808198618449"
        ],
        [
         "cortical_thickness",
         "-0.25311541028364637",
         "3.2970201645754965e-06"
        ]
       ],
       "shape": {
        "columns": 2,
        "rows": 7
       }
      },
      "text/html": [
       "<div>\n",
       "<style scoped>\n",
       "    .dataframe tbody tr th:only-of-type {\n",
       "        vertical-align: middle;\n",
       "    }\n",
       "\n",
       "    .dataframe tbody tr th {\n",
       "        vertical-align: top;\n",
       "    }\n",
       "\n",
       "    .dataframe thead th {\n",
       "        text-align: right;\n",
       "    }\n",
       "</style>\n",
       "<table border=\"1\" class=\"dataframe\">\n",
       "  <thead>\n",
       "    <tr style=\"text-align: right;\">\n",
       "      <th></th>\n",
       "      <th>coef</th>\n",
       "      <th>pvals</th>\n",
       "    </tr>\n",
       "  </thead>\n",
       "  <tbody>\n",
       "    <tr>\n",
       "      <th>pineal_volume</th>\n",
       "      <td>-0.008</td>\n",
       "      <td>8.776e-01</td>\n",
       "    </tr>\n",
       "    <tr>\n",
       "      <th>t2lv</th>\n",
       "      <td>0.195</td>\n",
       "      <td>2.239e-04</td>\n",
       "    </tr>\n",
       "    <tr>\n",
       "      <th>PRL</th>\n",
       "      <td>0.095</td>\n",
       "      <td>2.476e-02</td>\n",
       "    </tr>\n",
       "    <tr>\n",
       "      <th>thalamus</th>\n",
       "      <td>-0.293</td>\n",
       "      <td>3.605e-08</td>\n",
       "    </tr>\n",
       "    <tr>\n",
       "      <th>grey</th>\n",
       "      <td>-0.111</td>\n",
       "      <td>4.832e-02</td>\n",
       "    </tr>\n",
       "    <tr>\n",
       "      <th>white</th>\n",
       "      <td>-0.010</td>\n",
       "      <td>8.438e-01</td>\n",
       "    </tr>\n",
       "    <tr>\n",
       "      <th>cortical_thickness</th>\n",
       "      <td>-0.253</td>\n",
       "      <td>3.297e-06</td>\n",
       "    </tr>\n",
       "  </tbody>\n",
       "</table>\n",
       "</div>"
      ],
      "text/plain": [
       "                     coef      pvals\n",
       "pineal_volume      -0.008  8.776e-01\n",
       "t2lv                0.195  2.239e-04\n",
       "PRL                 0.095  2.476e-02\n",
       "thalamus           -0.293  3.605e-08\n",
       "grey               -0.111  4.832e-02\n",
       "white              -0.010  8.438e-01\n",
       "cortical_thickness -0.253  3.297e-06"
      ]
     },
     "execution_count": 17,
     "metadata": {},
     "output_type": "execute_result"
    }
   ],
   "source": [
    "predictors = [\"pineal_volume\", \"t2lv\", \"PRL\", \"thalamus\", \"grey\", \"white\", \"cortical_thickness\"]\n",
    "covariates = \"age + Female + tiv\"\n",
    "\n",
    "pvals = {}\n",
    "coefs = {}\n",
    "\n",
    "for predictor in predictors:\n",
    "    formula = f\"EDSS ~ {predictor} + {covariates}\"\n",
    "    res = sm.OLS.from_formula(formula, data=model_data).fit()\n",
    "    pvals[predictor] = res.pvalues[predictor]\n",
    "    coefs[predictor] = res.params[predictor]\n",
    "\n",
    "regression_results = pd.DataFrame({\"coef\": coefs, \"pvals\": pvals})\n",
    "regression_results"
   ]
  },
  {
   "cell_type": "markdown",
   "metadata": {},
   "source": [
    "## Compare Resegmented"
   ]
  },
  {
   "cell_type": "code",
   "execution_count": 13,
   "metadata": {},
   "outputs": [],
   "source": [
    "df2 = pd.read_csv(data_dir / \"t1_2_data_full.csv\")\n",
    "df2 = df2.set_index(\"subid\")\n",
    "\n",
    "df2 = helpers.set_dz_type5(df2)\n",
    "df2 = helpers.set_dz_type3(df2)\n",
    "df2 = helpers.set_dz_type2(df2)\n",
    "df2 = helpers.fix_edss(df2)\n",
    "df2 = helpers.clean_df(df2)\n",
    "df2 = helpers.set_has_prl(df2)\n",
    "\n",
    "df2 = df2.loc[:, keep_cols]\n",
    "df2 = pd.concat((df2, pd.get_dummies(df2[\"sex\"], dtype=\"int\")), axis=1)\n",
    "df2[\"Intercept\"] = 1"
   ]
  },
  {
   "cell_type": "code",
   "execution_count": 20,
   "metadata": {},
   "outputs": [
    {
     "data": {
      "image/png": "[encoded data removed]",
      "text/plain": [
       "<Figure size 1200x400 with 2 Axes>"
      ]
     },
     "metadata": {},
     "output_type": "display_data"
    }
   ],
   "source": [
    "fig, ax = plt.subplots(1,2, figsize=(12,4))\n",
    "ax[0].hist(df['pineal_volume'], bins=50)\n",
    "ax[1].hist(df2['pineal_volume'], bins=50)\n",
    "plt.show()"
   ]
  },
  {
   "cell_type": "code",
   "execution_count": 22,
   "metadata": {},
   "outputs": [
    {
     "data": {
      "text/plain": [
       "<BarContainer object of 2 artists>"
      ]
     },
     "execution_count": 22,
     "metadata": {},
     "output_type": "execute_result"
    },
    {
     "data": {
      "image/png": "[encoded data removed]",
      "text/plain": [
       "<Figure size 640x480 with 1 Axes>"
      ]
     },
     "metadata": {},
     "output_type": "display_data"
    }
   ],
   "source": [
    "plt.bar([\"pineal1\", \"pineal2\"], [df['pineal_volume'].mean(), df2['pineal_volume'].mean()],\n",
    "        yerr=[df['pineal_volume'].std(), df2['pineal_volume'].std()])"
   ]
  }
 ],
 "metadata": {
  "kernelspec": {
   "display_name": "monai",
   "language": "python",
   "name": "python3"
  },
  "language_info": {
   "codemirror_mode": {
    "name": "ipython",
    "version": 3
   },
   "file_extension": ".py",
   "mimetype": "text/x-python",
   "name": "python",
   "nbconvert_exporter": "python",
   "pygments_lexer": "ipython3",
   "version": "3.12.4"
  }
 },
 "nbformat": 4,
 "nbformat_minor": 2
}
