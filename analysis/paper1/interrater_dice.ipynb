{
 "cells": [
  {
   "cell_type": "code",
   "execution_count": 1,
   "metadata": {},
   "outputs": [],
   "source": [
    "from mri_data import file_manager as fm\n",
    "from mri_data import utils\n",
    "from pathlib import Path\n",
    "from loguru import logger\n",
    "import statistics"
   ]
  },
  {
   "cell_type": "code",
   "execution_count": 2,
   "metadata": {},
   "outputs": [],
   "source": [
    "logger.remove()"
   ]
  },
  {
   "cell_type": "code",
   "execution_count": 5,
   "metadata": {},
   "outputs": [],
   "source": [
    "drive_root = fm.get_drive_root()\n",
    "dataroot = drive_root / \"3Tpioneer_bids\"\n",
    "dataset = fm.scan_3Tpioneer_bids(dataroot)\n",
    "suffix_list = [\"CH\", \"SRS\", \"ED\", \"DT\"]"
   ]
  },
  {
   "cell_type": "code",
   "execution_count": 6,
   "metadata": {},
   "outputs": [],
   "source": [
    "def get_interrater_dice(dataroot, label_prefix, suffix_list):\n",
    "    scan_labels = []\n",
    "    for scan in dataset:\n",
    "        try:\n",
    "            labels = fm.find_labels(scan, label_prefix, suffix_list=suffix_list, exclude_no_suffix=True)\n",
    "        except FileNotFoundError:\n",
    "            continue\n",
    "        scan_labels.append([scan] + labels)\n",
    "\n",
    "    dice_scores = []\n",
    "    for label_set in scan_labels:\n",
    "        if len(label_set) > 2:\n",
    "            dice = utils.dice_score(utils.load_nifti(label_set[1]), \n",
    "                                    utils.load_nifti(label_set[2]))\n",
    "            dice_scores.append((label_set[0].subid, dice))\n",
    "\n",
    "    average = sum([score[1] for score in dice_scores]) / len(dice_scores)\n",
    "    stdev = statistics.stdev([score[1] for score in dice_scores])\n",
    "    return average, stdev"
   ]
  },
  {
   "cell_type": "code",
   "execution_count": null,
   "metadata": {},
   "outputs": [],
   "source": [
    "choroid_dice, choroid_stdev = get_interrater_dice(dataroot, \"choroid_t1_flair\", suffix_list)\n",
    "print(\"Choroid Dice: {:0.2f} ± {:0.2f}\".format(choroid_dice, choroid_stdev))\n",
    "\n",
    "pineal_dice, pineal_stdev = get_interrater_dice(dataroot, \"pineal\", suffix_list)\n",
    "print(\"Pineal Dice:{:0.2f} ± {:0.2f}\".format(pineal_dice, pineal_stdev))\n",
    "\n",
    "pituitary_dice, pituitary_stdev = get_interrater_dice(dataroot, \"pituitary\", suffix_list)\n",
    "print(\"Pituitary Dice:{:0.2f} ± {:0.2f}\".format(pituitary_dice, pituitary_stdev))"
   ]
  },
  {
   "cell_type": "code",
   "execution_count": 8,
   "metadata": {},
   "outputs": [
    {
     "name": "stdout",
     "output_type": "stream",
     "text": [
      "['1010', '1011', '1019', '1033', '1119', '1163', '1191', '1265', '1321', '1437', '1486', '1518', '1540', '1548'] 14\n"
     ]
    }
   ],
   "source": [
    "label_prefix = \"choroid_t1_flair\"\n",
    "scan_labels = []\n",
    "for scan in dataset:\n",
    "    try:\n",
    "        labels = fm.find_labels(scan, label_prefix, suffix_list=suffix_list, exclude_no_suffix=True)\n",
    "    except FileNotFoundError:\n",
    "        continue\n",
    "    scan_labels.append([scan] + labels)\n",
    "\n",
    "choroid_subs = [scan_label[0].subid for scan_label in scan_labels if len(scan_label) > 2]\n",
    "print(choroid_subs, len(choroid_subs))"
   ]
  },
  {
   "cell_type": "markdown",
   "metadata": {},
   "source": [
    "11"
   ]
  },
  {
   "cell_type": "code",
   "execution_count": 26,
   "metadata": {},
   "outputs": [
    {
     "name": "stdout",
     "output_type": "stream",
     "text": [
      "['1010', '1011', '1019', '1033', '1065', '1080', '1109', '1119', '1152', '1163', '1188']\n"
     ]
    }
   ],
   "source": [
    "label_prefix = \"pineal\"\n",
    "scan_labels = []\n",
    "for scan in dataset:\n",
    "    try:\n",
    "        labels = fm.find_labels(scan, label_prefix, suffix_list=suffix_list, exclude_no_suffix=True)\n",
    "    except FileNotFoundError:\n",
    "        continue\n",
    "    scan_labels.append([scan] + labels)\n",
    "\n",
    "pineal_subs = [scan_label[0].subid for scan_label in scan_labels if len(scan_label) > 2]\n",
    "print(pineal_subs)"
   ]
  },
  {
   "cell_type": "markdown",
   "metadata": {},
   "source": [
    "5"
   ]
  },
  {
   "cell_type": "code",
   "execution_count": 27,
   "metadata": {},
   "outputs": [
    {
     "name": "stdout",
     "output_type": "stream",
     "text": [
      "['1010', '1011', '1019', '1033', '1486']\n"
     ]
    }
   ],
   "source": [
    "label_prefix = \"pituitary\"\n",
    "scan_labels = []\n",
    "for scan in dataset:\n",
    "    try:\n",
    "        labels = fm.find_labels(scan, label_prefix, suffix_list=suffix_list, exclude_no_suffix=True)\n",
    "    except FileNotFoundError:\n",
    "        continue\n",
    "    scan_labels.append([scan] + labels)\n",
    "\n",
    "pitutiary_subs = [scan_label[0].subid for scan_label in scan_labels if len(scan_label) > 2]\n",
    "print(pitutiary_subs)"
   ]
  }
 ],
 "metadata": {
  "kernelspec": {
   "display_name": "monai",
   "language": "python",
   "name": "python3"
  },
  "language_info": {
   "codemirror_mode": {
    "name": "ipython",
    "version": 3
   },
   "file_extension": ".py",
   "mimetype": "text/x-python",
   "name": "python",
   "nbconvert_exporter": "python",
   "pygments_lexer": "ipython3",
   "version": "3.12.4"
  }
 },
 "nbformat": 4,
 "nbformat_minor": 2
}
