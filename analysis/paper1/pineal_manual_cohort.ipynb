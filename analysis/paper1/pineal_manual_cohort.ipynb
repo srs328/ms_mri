{
 "cells": [
  {
   "cell_type": "code",
   "execution_count": 14,
   "id": "c01f5e16",
   "metadata": {},
   "outputs": [],
   "source": [
    "from pathlib import Path\n",
    "import os\n",
    "import pandas as pd\n",
    "import pyperclip\n",
    "import subprocess\n",
    "from reload_recursive import reload_recursive\n",
    "import helpers\n",
    "import statsmodels.api as sm\n",
    "from scipy import stats\n",
    "\n",
    "from mri_data import file_manager as fm\n",
    "from mri_data import utils"
   ]
  },
  {
   "cell_type": "code",
   "execution_count": null,
   "id": "6a52b242",
   "metadata": {},
   "outputs": [],
   "source": [
    "drive_root = fm.get_drive_root()\n",
    "dataroot = drive_root / \"3Tpioneer_bids\"\n",
    "labelroot = drive_root / \"srs-9/3Tpioneer_bids_predictions\"\n",
    "data_dir = Path(\"/home/srs-9/Projects/ms_mri/analysis/paper1/data0\")"
   ]
  },
  {
   "cell_type": "code",
   "execution_count": 25,
   "id": "674a8710",
   "metadata": {},
   "outputs": [
    {
     "name": "stderr",
     "output_type": "stream",
     "text": [
      "/home/srs-9/Projects/ms_mri/analysis/paper1/helpers.py:137: PerformanceWarning: DataFrame is highly fragmented.  This is usually the result of calling `frame.insert` many times, which has poor performance.  Consider joining all columns at once using pd.concat(axis=1) instead. To get a de-fragmented frame, use `newframe = frame.copy()`\n",
      "  df[f\"{var}_sqrt\"] = np.sqrt(df[var])\n"
     ]
    }
   ],
   "source": [
    "df_full = pd.read_csv(data_dir / \"t1_data_full.csv\", index_col=\"subid\")\n",
    "pineal_label_file = dataroot / \"pineal_labels.csv\"\n",
    "df_man = pd.read_csv(pineal_label_file, index_col=\"Subject\")\n",
    "df = df_full.loc[df_man.index, :]\n",
    "\n",
    "for i,row in df.iterrows():\n",
    "    label_path = dataroot / row['sub-ses'] / \"pineal-SRS_T1.nii.gz\"\n",
    "    if not label_path.exists():\n",
    "        label_path = dataroot / row['sub-ses'] / \"pineal-SRS.nii.gz\"\n",
    "    \n",
    "    df.loc[i, 'vol'] = utils.compute_volume(label_path)[1]\n",
    "\n",
    "df = helpers.set_dz_type5(df)\n",
    "df = helpers.fix_edss(df)\n",
    "df = df.rename(columns={\"extracted_EDSS\": \"EDSS\"})\n",
    "df = df.rename(columns={\"lesion_vol_cubic\": \"t2lv\"})\n",
    "df = helpers.do_sqrt_transform(df, [\"EDSS\"])\n",
    "df = helpers.do_sqrt_transform(df, [\"t2lv\"])\n",
    "\n",
    "df = helpers.clean_df(df)\n",
    "df['dzdur'] = df['dzdur'].astype(\"float\")\n",
    "numeric_vars = [\"choroid_volume\", \"pineal_volume\", \"pituitary_volume\", \"Female\", \"age\", \"tiv\", \"EDSS\", \"EDSS_sqrt\", \"t2lv\", \"t2lv_sqrt\", \"dzdur\", \"thalamus\", \"vol\", \"cortical_thickness\"]\n",
    "keep_cols = numeric_vars + [\"dz_type5\"]\n",
    "df = df[keep_cols]\n",
    "df_z = df.copy()\n",
    "df_z[numeric_vars] = df_z[numeric_vars].apply(stats.zscore, nan_policy=\"omit\")"
   ]
  },
  {
   "cell_type": "code",
   "execution_count": 26,
   "id": "5afa5d7f",
   "metadata": {},
   "outputs": [
    {
     "name": "stdout",
     "output_type": "stream",
     "text": [
      "                            OLS Regression Results                            \n",
      "==============================================================================\n",
      "Dep. Variable:     cortical_thickness   R-squared:                       0.447\n",
      "Model:                            OLS   Adj. R-squared:                  0.375\n",
      "Method:                 Least Squares   F-statistic:                     6.257\n",
      "Date:                Fri, 16 May 2025   Prob (F-statistic):           0.000822\n",
      "Time:                        12:23:51   Log-Likelihood:                 29.008\n",
      "No. Observations:                  36   AIC:                            -48.02\n",
      "Df Residuals:                      31   BIC:                            -40.10\n",
      "Df Model:                           4                                         \n",
      "Covariance Type:            nonrobust                                         \n",
      "==============================================================================\n",
      "                 coef    std err          t      P>|t|      [0.025      0.975]\n",
      "------------------------------------------------------------------------------\n",
      "Intercept      2.0104      0.309      6.510      0.000       1.381       2.640\n",
      "vol           -0.0001      0.000     -0.513      0.611      -0.001       0.000\n",
      "age           -0.0067      0.002     -4.075      0.000      -0.010      -0.003\n",
      "Female         0.1134      0.064      1.762      0.088      -0.018       0.245\n",
      "tiv         3.318e-07   1.71e-07      1.943      0.061   -1.65e-08     6.8e-07\n",
      "==============================================================================\n",
      "Omnibus:                        2.783   Durbin-Watson:                   1.350\n",
      "Prob(Omnibus):                  0.249   Jarque-Bera (JB):                2.549\n",
      "Skew:                          -0.591   Prob(JB):                        0.280\n",
      "Kurtosis:                       2.450   Cond. No.                     2.42e+07\n",
      "==============================================================================\n",
      "\n",
      "Notes:\n",
      "[1] Standard Errors assume that the covariance matrix of the errors is correctly specified.\n",
      "[2] The condition number is large, 2.42e+07. This might indicate that there are\n",
      "strong multicollinearity or other numerical problems.\n"
     ]
    }
   ],
   "source": [
    "model_data = df[df['dz_type5'].isin([\"RMS\", \"PMS\"])]\n",
    "formula = \"cortical_thickness ~ vol + age + Female + tiv\"\n",
    "res = sm.OLS.from_formula(formula, data=model_data).fit()\n",
    "print(res.summary())"
   ]
  }
 ],
 "metadata": {
  "kernelspec": {
   "display_name": "monai",
   "language": "python",
   "name": "python3"
  },
  "language_info": {
   "codemirror_mode": {
    "name": "ipython",
    "version": 3
   },
   "file_extension": ".py",
   "mimetype": "text/x-python",
   "name": "python",
   "nbconvert_exporter": "python",
   "pygments_lexer": "ipython3",
   "version": "3.12.4"
  }
 },
 "nbformat": 4,
 "nbformat_minor": 5
}
