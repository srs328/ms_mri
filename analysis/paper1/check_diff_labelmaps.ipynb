{
 "cells": [
  {
   "cell_type": "code",
   "execution_count": 1,
   "metadata": {},
   "outputs": [],
   "source": [
    "import os\n",
    "from pathlib import Path\n",
    "import pandas as pd\n",
    "import subprocess\n",
    "from tqdm import tqdm\n",
    "\n",
    "from mri_data import file_manager as fm\n",
    "import logging\n",
    "from datetime import datetime"
   ]
  },
  {
   "cell_type": "code",
   "execution_count": 2,
   "metadata": {},
   "outputs": [],
   "source": [
    "drive_root = fm.get_drive_root()\n",
    "labelroot = drive_root / \"srs-9/paper1/labels\"\n",
    "dataroot = drive_root / \"3Tpioneer_bids\""
   ]
  },
  {
   "cell_type": "code",
   "execution_count": 3,
   "metadata": {},
   "outputs": [],
   "source": [
    "df = pd.read_csv(\"/home/srs-9/Projects/ms_mri/analysis/paper1/data0/t1_data_full.csv\")\n",
    "\n",
    "df.loc[df[\"sub-ses\"].isna(), \"sub-ses\"] = \"\"\n",
    "df.loc[df[\"label_folder\"].isna(), \"label_folder\"] = \"\"\n",
    "df.loc[df[\"label\"].isna(), \"label\"] = \"\"\n",
    "\n",
    "has_labelfile = []\n",
    "for i, row in df.iterrows():\n",
    "    file = labelroot / row[\"sub-ses\"] / \"t1_flair_diff-choroid-std.nii.gz\"\n",
    "    if file.exists():\n",
    "        has_labelfile.append(i)\n",
    "\n",
    "w_contrast = df[(df.index.isin(has_labelfile)) & (df[\"flair_contrast\"] == \"WITH\")]\n",
    "wo_contrast = df[(df.index.isin(has_labelfile)) & (df[\"flair_contrast\"] == \"WITHOUT\")]"
   ]
  },
  {
   "cell_type": "code",
   "execution_count": null,
   "metadata": {},
   "outputs": [],
   "source": []
  }
 ],
 "metadata": {
  "kernelspec": {
   "display_name": "monai",
   "language": "python",
   "name": "python3"
  },
  "language_info": {
   "codemirror_mode": {
    "name": "ipython",
    "version": 3
   },
   "file_extension": ".py",
   "mimetype": "text/x-python",
   "name": "python",
   "nbconvert_exporter": "python",
   "pygments_lexer": "ipython3",
   "version": "3.12.4"
  }
 },
 "nbformat": 4,
 "nbformat_minor": 2
}
