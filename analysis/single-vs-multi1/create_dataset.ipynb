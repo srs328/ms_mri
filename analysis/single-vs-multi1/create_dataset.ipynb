{
 "cells": [
  {
   "cell_type": "code",
   "execution_count": 12,
   "metadata": {},
   "outputs": [],
   "source": [
    "import os\n",
    "import sys\n",
    "from pathlib import Path\n",
    "from loguru import logger\n",
    "\n",
    "import monai_training\n",
    "from monai_training.preprocess import DataSetProcesser\n",
    "from monai_training import training\n",
    "from mri_data import file_manager as fm"
   ]
  },
  {
   "cell_type": "code",
   "execution_count": 17,
   "metadata": {},
   "outputs": [],
   "source": [
    "from reload_recursive import reload_recursive\n",
    "\n",
    "reload_recursive(monai_training)\n",
    "from monai_training import training"
   ]
  },
  {
   "cell_type": "code",
   "execution_count": 3,
   "metadata": {},
   "outputs": [
    {
     "data": {
      "text/plain": [
       "1"
      ]
     },
     "execution_count": 3,
     "metadata": {},
     "output_type": "execute_result"
    }
   ],
   "source": [
    "logger.remove()\n",
    "logger.add(sys.stderr, level=\"INFO\")"
   ]
  },
  {
   "cell_type": "code",
   "execution_count": 4,
   "metadata": {},
   "outputs": [],
   "source": [
    "drive_root = fm.get_drive_root()\n",
    "projects_root = Path(\"/home/srs-9/Projects\")\n",
    "msmri_home = projects_root / \"ms_mri\"\n",
    "dataroot = drive_root / \"3Tpioneer_bids\"\n",
    "\n",
    "dataset_name = \"single-vs-multi1\""
   ]
  },
  {
   "cell_type": "code",
   "execution_count": 5,
   "metadata": {},
   "outputs": [],
   "source": [
    "subjects = [\n",
    "    1010,\n",
    "    1011,\n",
    "    1019,\n",
    "    1029,\n",
    "    1033,\n",
    "    1037,\n",
    "    1038,\n",
    "    1080,\n",
    "    1085,\n",
    "    1087,\n",
    "    1089,\n",
    "    1109,\n",
    "    1119,\n",
    "    1152,\n",
    "    1163,\n",
    "    1188,\n",
    "    1191,\n",
    "    1234,\n",
    "    1259,\n",
    "    1265,\n",
    "    1272,\n",
    "    1280,\n",
    "    1293,\n",
    "    1321,\n",
    "    1355,\n",
    "    1437,\n",
    "    1498,\n",
    "    1518,\n",
    "    1540,\n",
    "    1547,\n",
    "    1548,\n",
    "    2081,\n",
    "    2083,\n",
    "    2097,\n",
    "    2126,\n",
    "    2132,\n",
    "    2144,\n",
    "    2146,\n",
    "    2164,\n",
    "    2187]"
   ]
  },
  {
   "cell_type": "code",
   "execution_count": 6,
   "metadata": {},
   "outputs": [],
   "source": [
    "def has_subject(scan, subjects: list[int]) -> bool:\n",
    "    if int(scan.subid) in subjects:\n",
    "        return True\n",
    "    else:\n",
    "        return False"
   ]
  },
  {
   "cell_type": "code",
   "execution_count": 7,
   "metadata": {},
   "outputs": [],
   "source": [
    "dataset_proc = DataSetProcesser.new_dataset(dataroot, fm.scan_3Tpioneer_bids, filters=[fm.filter_first_ses])\n",
    "dataset_proc.filter([has_subject], [(subjects,)])\n",
    "dataset = dataset_proc.dataset\n",
    "dataset.sort()"
   ]
  },
  {
   "cell_type": "code",
   "execution_count": 28,
   "metadata": {},
   "outputs": [],
   "source": [
    "for i,scan in enumerate(dataset):\n",
    "    dataset[i].label = None\n",
    "    dataset[i].image = None"
   ]
  },
  {
   "cell_type": "code",
   "execution_count": 29,
   "metadata": {},
   "outputs": [],
   "source": [
    "from monai_training import preprocess\n",
    "\n",
    "\n",
    "# dataset = training.assign_conditions(dataset, 0.25)\n",
    "preprocess.save_dataset(dataset, \"dataset.json\")"
   ]
  },
  {
   "cell_type": "code",
   "execution_count": 26,
   "metadata": {},
   "outputs": [
    {
     "name": "stdout",
     "output_type": "stream",
     "text": [
      "1010\n",
      "1033\n",
      "1119\n",
      "1259\n",
      "1437\n",
      "1547\n",
      "2081\n",
      "2126\n",
      "2146\n",
      "2187\n"
     ]
    }
   ],
   "source": [
    "for scan in dataset:\n",
    "    if scan.cond == \"ts\":\n",
    "        print(scan.subid)"
   ]
  },
  {
   "cell_type": "code",
   "execution_count": 27,
   "metadata": {},
   "outputs": [
    {
     "data": {
      "text/plain": [
       "Scan(subid='1010', sesid='20180208', _dataroot=PosixPath('/mnt/h/3Tpioneer_bids'), _root=PosixPath('/mnt/h/3Tpioneer_bids/sub-ms1010/ses-20180208'), image='flair.t1.nii.gz', label='choroid_t1_flair-CH.pineal-CH.pituitary-CH.nii.gz', cond='ts', id=20382010080)"
      ]
     },
     "execution_count": 27,
     "metadata": {},
     "output_type": "execute_result"
    }
   ],
   "source": [
    "dataset[0]"
   ]
  },
  {
   "cell_type": "code",
   "execution_count": 22,
   "metadata": {},
   "outputs": [
    {
     "name": "stderr",
     "output_type": "stream",
     "text": [
      "\u001b[32m2024-12-10 20:44:05.696\u001b[0m | \u001b[1mINFO    \u001b[0m | \u001b[36mmonai_training.preprocess\u001b[0m:\u001b[36mprepare_labels\u001b[0m:\u001b[36m167\u001b[0m - \u001b[1mPrepare Labels\u001b[0m\n",
      "  0%|          | 0/40 [00:00<?, ?it/s]\u001b[32m2024-12-10 20:44:05.710\u001b[0m | \u001b[1mINFO    \u001b[0m | \u001b[36mmri_data.utils\u001b[0m:\u001b[36mcombine_labels\u001b[0m:\u001b[36m86\u001b[0m - \u001b[1mCombining labels for Scan(subid=1010, sesid=20180208)\u001b[0m\n",
      "\u001b[32m2024-12-10 20:44:06.282\u001b[0m | \u001b[32m\u001b[1mSUCCESS \u001b[0m | \u001b[36mmonai_training.preprocess\u001b[0m:\u001b[36mlog\u001b[0m:\u001b[36m22\u001b[0m - \u001b[32m\u001b[1mSaved /mnt/h/3Tpioneer_bids/sub-ms1010/ses-20180208/choroid_t1_flair-CH.pineal-CH.pituitary-CH.nii.gz\u001b[0m\n",
      "  2%|▎         | 1/40 [00:00<00:22,  1.74it/s]\u001b[32m2024-12-10 20:44:06.285\u001b[0m | \u001b[1mINFO    \u001b[0m | \u001b[36mmri_data.utils\u001b[0m:\u001b[36mcombine_labels\u001b[0m:\u001b[36m86\u001b[0m - \u001b[1mCombining labels for Scan(subid=1011, sesid=20180911)\u001b[0m\n",
      "\u001b[32m2024-12-10 20:44:06.301\u001b[0m | \u001b[32m\u001b[1mSUCCESS \u001b[0m | \u001b[36mmonai_training.preprocess\u001b[0m:\u001b[36mlog\u001b[0m:\u001b[36m22\u001b[0m - \u001b[32m\u001b[1mSaved /mnt/h/3Tpioneer_bids/sub-ms1011/ses-20180911/choroid_t1_flair-CH.pineal-CH.pituitary-CH.nii.gz\u001b[0m\n",
      "\u001b[32m2024-12-10 20:44:06.303\u001b[0m | \u001b[1mINFO    \u001b[0m | \u001b[36mmri_data.utils\u001b[0m:\u001b[36mcombine_labels\u001b[0m:\u001b[36m86\u001b[0m - \u001b[1mCombining labels for Scan(subid=1019, sesid=20190608)\u001b[0m\n",
      "\u001b[32m2024-12-10 20:44:06.316\u001b[0m | \u001b[32m\u001b[1mSUCCESS \u001b[0m | \u001b[36mmonai_training.preprocess\u001b[0m:\u001b[36mlog\u001b[0m:\u001b[36m22\u001b[0m - \u001b[32m\u001b[1mSaved /mnt/h/3Tpioneer_bids/sub-ms1019/ses-20190608/choroid_t1_flair-CH.pineal-CH.pituitary-CH.nii.gz\u001b[0m\n",
      "\u001b[32m2024-12-10 20:44:06.319\u001b[0m | \u001b[1mINFO    \u001b[0m | \u001b[36mmri_data.utils\u001b[0m:\u001b[36mcombine_labels\u001b[0m:\u001b[36m86\u001b[0m - \u001b[1mCombining labels for Scan(subid=1029, sesid=20170816)\u001b[0m\n",
      "\u001b[32m2024-12-10 20:44:09.834\u001b[0m | \u001b[32m\u001b[1mSUCCESS \u001b[0m | \u001b[36mmri_data.utils\u001b[0m:\u001b[36mcombine_labels\u001b[0m:\u001b[36m125\u001b[0m - \u001b[32m\u001b[1mSaved combined label to /mnt/h/3Tpioneer_bids/sub-ms1029/ses-20170816/choroid_t1_flair-CH.pineal-SRS.pituitary.nii.gz\u001b[0m\n",
      "\u001b[32m2024-12-10 20:44:09.844\u001b[0m | \u001b[32m\u001b[1mSUCCESS \u001b[0m | \u001b[36mmonai_training.preprocess\u001b[0m:\u001b[36mlog\u001b[0m:\u001b[36m22\u001b[0m - \u001b[32m\u001b[1mSaved /mnt/h/3Tpioneer_bids/sub-ms1029/ses-20170816/choroid_t1_flair-CH.pineal-SRS.pituitary.nii.gz\u001b[0m\n",
      " 10%|█         | 4/40 [00:04<00:38,  1.07s/it]\u001b[32m2024-12-10 20:44:09.846\u001b[0m | \u001b[1mINFO    \u001b[0m | \u001b[36mmri_data.utils\u001b[0m:\u001b[36mcombine_labels\u001b[0m:\u001b[36m86\u001b[0m - \u001b[1mCombining labels for Scan(subid=1033, sesid=20171117)\u001b[0m\n",
      "\u001b[32m2024-12-10 20:44:09.862\u001b[0m | \u001b[32m\u001b[1mSUCCESS \u001b[0m | \u001b[36mmonai_training.preprocess\u001b[0m:\u001b[36mlog\u001b[0m:\u001b[36m22\u001b[0m - \u001b[32m\u001b[1mSaved /mnt/h/3Tpioneer_bids/sub-ms1033/ses-20171117/choroid_t1_flair-CH.pineal-CH.pituitary-CH.nii.gz\u001b[0m\n",
      "\u001b[32m2024-12-10 20:44:09.864\u001b[0m | \u001b[1mINFO    \u001b[0m | \u001b[36mmri_data.utils\u001b[0m:\u001b[36mcombine_labels\u001b[0m:\u001b[36m86\u001b[0m - \u001b[1mCombining labels for Scan(subid=1037, sesid=20210508)\u001b[0m\n",
      "\u001b[32m2024-12-10 20:44:13.237\u001b[0m | \u001b[32m\u001b[1mSUCCESS \u001b[0m | \u001b[36mmri_data.utils\u001b[0m:\u001b[36mcombine_labels\u001b[0m:\u001b[36m125\u001b[0m - \u001b[32m\u001b[1mSaved combined label to /mnt/h/3Tpioneer_bids/sub-ms1037/ses-20210508/choroid_t1_flair-CH.pineal-SRS.pituitary.nii.gz\u001b[0m\n",
      "\u001b[32m2024-12-10 20:44:13.244\u001b[0m | \u001b[32m\u001b[1mSUCCESS \u001b[0m | \u001b[36mmonai_training.preprocess\u001b[0m:\u001b[36mlog\u001b[0m:\u001b[36m22\u001b[0m - \u001b[32m\u001b[1mSaved /mnt/h/3Tpioneer_bids/sub-ms1037/ses-20210508/choroid_t1_flair-CH.pineal-SRS.pituitary.nii.gz\u001b[0m\n",
      " 15%|█▌        | 6/40 [00:07<00:45,  1.35s/it]\u001b[32m2024-12-10 20:44:13.248\u001b[0m | \u001b[1mINFO    \u001b[0m | \u001b[36mmri_data.utils\u001b[0m:\u001b[36mcombine_labels\u001b[0m:\u001b[36m86\u001b[0m - \u001b[1mCombining labels for Scan(subid=1038, sesid=20161031)\u001b[0m\n",
      "\u001b[32m2024-12-10 20:44:16.669\u001b[0m | \u001b[32m\u001b[1mSUCCESS \u001b[0m | \u001b[36mmri_data.utils\u001b[0m:\u001b[36mcombine_labels\u001b[0m:\u001b[36m125\u001b[0m - \u001b[32m\u001b[1mSaved combined label to /mnt/h/3Tpioneer_bids/sub-ms1038/ses-20161031/choroid_t1_flair-CH.pineal-SRS.pituitary-CH.nii.gz\u001b[0m\n",
      "\u001b[32m2024-12-10 20:44:16.696\u001b[0m | \u001b[32m\u001b[1mSUCCESS \u001b[0m | \u001b[36mmonai_training.preprocess\u001b[0m:\u001b[36mlog\u001b[0m:\u001b[36m22\u001b[0m - \u001b[32m\u001b[1mSaved /mnt/h/3Tpioneer_bids/sub-ms1038/ses-20161031/choroid_t1_flair-CH.pineal-SRS.pituitary-CH.nii.gz\u001b[0m\n",
      " 18%|█▊        | 7/40 [00:10<01:00,  1.85s/it]\u001b[32m2024-12-10 20:44:16.704\u001b[0m | \u001b[1mINFO    \u001b[0m | \u001b[36mmri_data.utils\u001b[0m:\u001b[36mcombine_labels\u001b[0m:\u001b[36m86\u001b[0m - \u001b[1mCombining labels for Scan(subid=1080, sesid=20180416)\u001b[0m\n",
      "\u001b[32m2024-12-10 20:44:16.720\u001b[0m | \u001b[32m\u001b[1mSUCCESS \u001b[0m | \u001b[36mmonai_training.preprocess\u001b[0m:\u001b[36mlog\u001b[0m:\u001b[36m22\u001b[0m - \u001b[32m\u001b[1mSaved /mnt/h/3Tpioneer_bids/sub-ms1080/ses-20180416/choroid_t1_flair-ED.pineal-CH.pituitary-CH.nii.gz\u001b[0m\n",
      "\u001b[32m2024-12-10 20:44:16.723\u001b[0m | \u001b[1mINFO    \u001b[0m | \u001b[36mmri_data.utils\u001b[0m:\u001b[36mcombine_labels\u001b[0m:\u001b[36m86\u001b[0m - \u001b[1mCombining labels for Scan(subid=1085, sesid=20220228)\u001b[0m\n",
      "\u001b[32m2024-12-10 20:44:19.846\u001b[0m | \u001b[32m\u001b[1mSUCCESS \u001b[0m | \u001b[36mmri_data.utils\u001b[0m:\u001b[36mcombine_labels\u001b[0m:\u001b[36m125\u001b[0m - \u001b[32m\u001b[1mSaved combined label to /mnt/h/3Tpioneer_bids/sub-ms1085/ses-20220228/choroid_t1_flair-CH.pineal-SRS.pituitary.nii.gz\u001b[0m\n",
      "\u001b[32m2024-12-10 20:44:19.852\u001b[0m | \u001b[32m\u001b[1mSUCCESS \u001b[0m | \u001b[36mmonai_training.preprocess\u001b[0m:\u001b[36mlog\u001b[0m:\u001b[36m22\u001b[0m - \u001b[32m\u001b[1mSaved /mnt/h/3Tpioneer_bids/sub-ms1085/ses-20220228/choroid_t1_flair-CH.pineal-SRS.pituitary.nii.gz\u001b[0m\n",
      " 22%|██▎       | 9/40 [00:14<00:53,  1.74s/it]\u001b[32m2024-12-10 20:44:19.854\u001b[0m | \u001b[1mINFO    \u001b[0m | \u001b[36mmri_data.utils\u001b[0m:\u001b[36mcombine_labels\u001b[0m:\u001b[36m86\u001b[0m - \u001b[1mCombining labels for Scan(subid=1087, sesid=20200717)\u001b[0m\n",
      "\u001b[32m2024-12-10 20:44:22.980\u001b[0m | \u001b[32m\u001b[1mSUCCESS \u001b[0m | \u001b[36mmri_data.utils\u001b[0m:\u001b[36mcombine_labels\u001b[0m:\u001b[36m125\u001b[0m - \u001b[32m\u001b[1mSaved combined label to /mnt/h/3Tpioneer_bids/sub-ms1087/ses-20200717/choroid_t1_flair-CH.pineal-SRS.pituitary.nii.gz\u001b[0m\n",
      "\u001b[32m2024-12-10 20:44:22.986\u001b[0m | \u001b[32m\u001b[1mSUCCESS \u001b[0m | \u001b[36mmonai_training.preprocess\u001b[0m:\u001b[36mlog\u001b[0m:\u001b[36m22\u001b[0m - \u001b[32m\u001b[1mSaved /mnt/h/3Tpioneer_bids/sub-ms1087/ses-20200717/choroid_t1_flair-CH.pineal-SRS.pituitary.nii.gz\u001b[0m\n",
      " 25%|██▌       | 10/40 [00:17<01:01,  2.05s/it]\u001b[32m2024-12-10 20:44:22.988\u001b[0m | \u001b[1mINFO    \u001b[0m | \u001b[36mmri_data.utils\u001b[0m:\u001b[36mcombine_labels\u001b[0m:\u001b[36m86\u001b[0m - \u001b[1mCombining labels for Scan(subid=1089, sesid=20210612)\u001b[0m\n",
      "\u001b[32m2024-12-10 20:44:25.922\u001b[0m | \u001b[32m\u001b[1mSUCCESS \u001b[0m | \u001b[36mmri_data.utils\u001b[0m:\u001b[36mcombine_labels\u001b[0m:\u001b[36m125\u001b[0m - \u001b[32m\u001b[1mSaved combined label to /mnt/h/3Tpioneer_bids/sub-ms1089/ses-20210612/choroid_t1_flair-CH.pineal-SRS.pituitary.nii.gz\u001b[0m\n",
      "\u001b[32m2024-12-10 20:44:25.931\u001b[0m | \u001b[32m\u001b[1mSUCCESS \u001b[0m | \u001b[36mmonai_training.preprocess\u001b[0m:\u001b[36mlog\u001b[0m:\u001b[36m22\u001b[0m - \u001b[32m\u001b[1mSaved /mnt/h/3Tpioneer_bids/sub-ms1089/ses-20210612/choroid_t1_flair-CH.pineal-SRS.pituitary.nii.gz\u001b[0m\n",
      " 28%|██▊       | 11/40 [00:20<01:05,  2.27s/it]\u001b[32m2024-12-10 20:44:25.933\u001b[0m | \u001b[1mINFO    \u001b[0m | \u001b[36mmri_data.utils\u001b[0m:\u001b[36mcombine_labels\u001b[0m:\u001b[36m86\u001b[0m - \u001b[1mCombining labels for Scan(subid=1109, sesid=20180303)\u001b[0m\n",
      "\u001b[32m2024-12-10 20:44:25.944\u001b[0m | \u001b[32m\u001b[1mSUCCESS \u001b[0m | \u001b[36mmonai_training.preprocess\u001b[0m:\u001b[36mlog\u001b[0m:\u001b[36m22\u001b[0m - \u001b[32m\u001b[1mSaved /mnt/h/3Tpioneer_bids/sub-ms1109/ses-20180303/choroid_t1_flair-ED.pineal-CH.pituitary-CH.nii.gz\u001b[0m\n",
      "\u001b[32m2024-12-10 20:44:25.946\u001b[0m | \u001b[1mINFO    \u001b[0m | \u001b[36mmri_data.utils\u001b[0m:\u001b[36mcombine_labels\u001b[0m:\u001b[36m86\u001b[0m - \u001b[1mCombining labels for Scan(subid=1119, sesid=20161010)\u001b[0m\n",
      "\u001b[32m2024-12-10 20:44:25.961\u001b[0m | \u001b[32m\u001b[1mSUCCESS \u001b[0m | \u001b[36mmonai_training.preprocess\u001b[0m:\u001b[36mlog\u001b[0m:\u001b[36m22\u001b[0m - \u001b[32m\u001b[1mSaved /mnt/h/3Tpioneer_bids/sub-ms1119/ses-20161010/choroid_t1_flair-CH.pineal-CH.pituitary-CH.nii.gz\u001b[0m\n",
      "\u001b[32m2024-12-10 20:44:25.962\u001b[0m | \u001b[1mINFO    \u001b[0m | \u001b[36mmri_data.utils\u001b[0m:\u001b[36mcombine_labels\u001b[0m:\u001b[36m86\u001b[0m - \u001b[1mCombining labels for Scan(subid=1152, sesid=20170529)\u001b[0m\n",
      "\u001b[32m2024-12-10 20:44:28.735\u001b[0m | \u001b[32m\u001b[1mSUCCESS \u001b[0m | \u001b[36mmri_data.utils\u001b[0m:\u001b[36mcombine_labels\u001b[0m:\u001b[36m125\u001b[0m - \u001b[32m\u001b[1mSaved combined label to /mnt/h/3Tpioneer_bids/sub-ms1152/ses-20170529/choroid_t1_flair-ED.pineal-CH.pituitary-SRS.nii.gz\u001b[0m\n",
      "\u001b[32m2024-12-10 20:44:28.752\u001b[0m | \u001b[32m\u001b[1mSUCCESS \u001b[0m | \u001b[36mmonai_training.preprocess\u001b[0m:\u001b[36mlog\u001b[0m:\u001b[36m22\u001b[0m - \u001b[32m\u001b[1mSaved /mnt/h/3Tpioneer_bids/sub-ms1152/ses-20170529/choroid_t1_flair-ED.pineal-CH.pituitary-SRS.nii.gz\u001b[0m\n",
      " 35%|███▌      | 14/40 [00:23<00:41,  1.59s/it]\u001b[32m2024-12-10 20:44:28.754\u001b[0m | \u001b[1mINFO    \u001b[0m | \u001b[36mmri_data.utils\u001b[0m:\u001b[36mcombine_labels\u001b[0m:\u001b[36m86\u001b[0m - \u001b[1mCombining labels for Scan(subid=1163, sesid=20180907)\u001b[0m\n",
      "\u001b[32m2024-12-10 20:44:28.778\u001b[0m | \u001b[32m\u001b[1mSUCCESS \u001b[0m | \u001b[36mmonai_training.preprocess\u001b[0m:\u001b[36mlog\u001b[0m:\u001b[36m22\u001b[0m - \u001b[32m\u001b[1mSaved /mnt/h/3Tpioneer_bids/sub-ms1163/ses-20180907/choroid_t1_flair-CH.pineal-CH.pituitary-CH.nii.gz\u001b[0m\n",
      "\u001b[32m2024-12-10 20:44:28.780\u001b[0m | \u001b[1mINFO    \u001b[0m | \u001b[36mmri_data.utils\u001b[0m:\u001b[36mcombine_labels\u001b[0m:\u001b[36m86\u001b[0m - \u001b[1mCombining labels for Scan(subid=1188, sesid=20200720)\u001b[0m\n",
      "\u001b[32m2024-12-10 20:44:28.793\u001b[0m | \u001b[32m\u001b[1mSUCCESS \u001b[0m | \u001b[36mmonai_training.preprocess\u001b[0m:\u001b[36mlog\u001b[0m:\u001b[36m22\u001b[0m - \u001b[32m\u001b[1mSaved /mnt/h/3Tpioneer_bids/sub-ms1188/ses-20200720/choroid_t1_flair-ED.pineal-CH.pituitary-CH.nii.gz\u001b[0m\n",
      "\u001b[32m2024-12-10 20:44:28.795\u001b[0m | \u001b[1mINFO    \u001b[0m | \u001b[36mmri_data.utils\u001b[0m:\u001b[36mcombine_labels\u001b[0m:\u001b[36m86\u001b[0m - \u001b[1mCombining labels for Scan(subid=1191, sesid=20190124)\u001b[0m\n",
      "\u001b[32m2024-12-10 20:44:28.813\u001b[0m | \u001b[32m\u001b[1mSUCCESS \u001b[0m | \u001b[36mmonai_training.preprocess\u001b[0m:\u001b[36mlog\u001b[0m:\u001b[36m22\u001b[0m - \u001b[32m\u001b[1mSaved /mnt/h/3Tpioneer_bids/sub-ms1191/ses-20190124/choroid_t1_flair-CH.pineal-SRS.pituitary-CH.nii.gz\u001b[0m\n",
      "\u001b[32m2024-12-10 20:44:28.815\u001b[0m | \u001b[1mINFO    \u001b[0m | \u001b[36mmri_data.utils\u001b[0m:\u001b[36mcombine_labels\u001b[0m:\u001b[36m86\u001b[0m - \u001b[1mCombining labels for Scan(subid=1234, sesid=20180214)\u001b[0m\n",
      "\u001b[32m2024-12-10 20:44:28.828\u001b[0m | \u001b[32m\u001b[1mSUCCESS \u001b[0m | \u001b[36mmonai_training.preprocess\u001b[0m:\u001b[36mlog\u001b[0m:\u001b[36m22\u001b[0m - \u001b[32m\u001b[1mSaved /mnt/h/3Tpioneer_bids/sub-ms1234/ses-20180214/choroid_t1_flair-ED.pineal-SRS.pituitary-CH.nii.gz\u001b[0m\n",
      "\u001b[32m2024-12-10 20:44:28.833\u001b[0m | \u001b[1mINFO    \u001b[0m | \u001b[36mmri_data.utils\u001b[0m:\u001b[36mcombine_labels\u001b[0m:\u001b[36m86\u001b[0m - \u001b[1mCombining labels for Scan(subid=1259, sesid=20200803)\u001b[0m\n",
      "\u001b[32m2024-12-10 20:44:28.850\u001b[0m | \u001b[32m\u001b[1mSUCCESS \u001b[0m | \u001b[36mmonai_training.preprocess\u001b[0m:\u001b[36mlog\u001b[0m:\u001b[36m22\u001b[0m - \u001b[32m\u001b[1mSaved /mnt/h/3Tpioneer_bids/sub-ms1259/ses-20200803/choroid_t1_flair-ED.pineal-SRS.pituitary-CH.nii.gz\u001b[0m\n",
      "\u001b[32m2024-12-10 20:44:28.854\u001b[0m | \u001b[1mINFO    \u001b[0m | \u001b[36mmri_data.utils\u001b[0m:\u001b[36mcombine_labels\u001b[0m:\u001b[36m86\u001b[0m - \u001b[1mCombining labels for Scan(subid=1265, sesid=20180127)\u001b[0m\n",
      "\u001b[32m2024-12-10 20:44:28.874\u001b[0m | \u001b[32m\u001b[1mSUCCESS \u001b[0m | \u001b[36mmonai_training.preprocess\u001b[0m:\u001b[36mlog\u001b[0m:\u001b[36m22\u001b[0m - \u001b[32m\u001b[1mSaved /mnt/h/3Tpioneer_bids/sub-ms1265/ses-20180127/choroid_t1_flair-CH.pineal-SRS.pituitary-CH.nii.gz\u001b[0m\n",
      " 50%|█████     | 20/40 [00:23<00:13,  1.52it/s]\u001b[32m2024-12-10 20:44:28.878\u001b[0m | \u001b[1mINFO    \u001b[0m | \u001b[36mmri_data.utils\u001b[0m:\u001b[36mcombine_labels\u001b[0m:\u001b[36m86\u001b[0m - \u001b[1mCombining labels for Scan(subid=1272, sesid=20211105)\u001b[0m\n",
      "\u001b[32m2024-12-10 20:44:28.892\u001b[0m | \u001b[32m\u001b[1mSUCCESS \u001b[0m | \u001b[36mmonai_training.preprocess\u001b[0m:\u001b[36mlog\u001b[0m:\u001b[36m22\u001b[0m - \u001b[32m\u001b[1mSaved /mnt/h/3Tpioneer_bids/sub-ms1272/ses-20211105/choroid_t1_flair-ED.pineal-SRS.pituitary-CH.nii.gz\u001b[0m\n",
      "\u001b[32m2024-12-10 20:44:28.894\u001b[0m | \u001b[1mINFO    \u001b[0m | \u001b[36mmri_data.utils\u001b[0m:\u001b[36mcombine_labels\u001b[0m:\u001b[36m86\u001b[0m - \u001b[1mCombining labels for Scan(subid=1280, sesid=20220317)\u001b[0m\n",
      "\u001b[32m2024-12-10 20:44:28.909\u001b[0m | \u001b[32m\u001b[1mSUCCESS \u001b[0m | \u001b[36mmonai_training.preprocess\u001b[0m:\u001b[36mlog\u001b[0m:\u001b[36m22\u001b[0m - \u001b[32m\u001b[1mSaved /mnt/h/3Tpioneer_bids/sub-ms1280/ses-20220317/choroid_t1_flair-ED.pineal-SRS.pituitary-CH.nii.gz\u001b[0m\n",
      "\u001b[32m2024-12-10 20:44:28.911\u001b[0m | \u001b[1mINFO    \u001b[0m | \u001b[36mmri_data.utils\u001b[0m:\u001b[36mcombine_labels\u001b[0m:\u001b[36m86\u001b[0m - \u001b[1mCombining labels for Scan(subid=1293, sesid=20161129)\u001b[0m\n",
      "\u001b[32m2024-12-10 20:44:28.924\u001b[0m | \u001b[32m\u001b[1mSUCCESS \u001b[0m | \u001b[36mmonai_training.preprocess\u001b[0m:\u001b[36mlog\u001b[0m:\u001b[36m22\u001b[0m - \u001b[32m\u001b[1mSaved /mnt/h/3Tpioneer_bids/sub-ms1293/ses-20161129/choroid_t1_flair-ED.pineal-SRS.pituitary-CH.nii.gz\u001b[0m\n",
      "\u001b[32m2024-12-10 20:44:28.926\u001b[0m | \u001b[1mINFO    \u001b[0m | \u001b[36mmri_data.utils\u001b[0m:\u001b[36mcombine_labels\u001b[0m:\u001b[36m86\u001b[0m - \u001b[1mCombining labels for Scan(subid=1321, sesid=20201020)\u001b[0m\n",
      "\u001b[32m2024-12-10 20:44:28.939\u001b[0m | \u001b[32m\u001b[1mSUCCESS \u001b[0m | \u001b[36mmonai_training.preprocess\u001b[0m:\u001b[36mlog\u001b[0m:\u001b[36m22\u001b[0m - \u001b[32m\u001b[1mSaved /mnt/h/3Tpioneer_bids/sub-ms1321/ses-20201020/choroid_t1_flair-CH.pineal-SRS.pituitary-CH.nii.gz\u001b[0m\n",
      "\u001b[32m2024-12-10 20:44:28.941\u001b[0m | \u001b[1mINFO    \u001b[0m | \u001b[36mmri_data.utils\u001b[0m:\u001b[36mcombine_labels\u001b[0m:\u001b[36m86\u001b[0m - \u001b[1mCombining labels for Scan(subid=1355, sesid=20210104)\u001b[0m\n",
      "\u001b[32m2024-12-10 20:44:28.952\u001b[0m | \u001b[32m\u001b[1mSUCCESS \u001b[0m | \u001b[36mmonai_training.preprocess\u001b[0m:\u001b[36mlog\u001b[0m:\u001b[36m22\u001b[0m - \u001b[32m\u001b[1mSaved /mnt/h/3Tpioneer_bids/sub-ms1355/ses-20210104/choroid_t1_flair-ED.pineal-SRS.pituitary-CH.nii.gz\u001b[0m\n",
      "\u001b[32m2024-12-10 20:44:28.955\u001b[0m | \u001b[1mINFO    \u001b[0m | \u001b[36mmri_data.utils\u001b[0m:\u001b[36mcombine_labels\u001b[0m:\u001b[36m86\u001b[0m - \u001b[1mCombining labels for Scan(subid=1437, sesid=20210503)\u001b[0m\n",
      "\u001b[32m2024-12-10 20:44:28.967\u001b[0m | \u001b[32m\u001b[1mSUCCESS \u001b[0m | \u001b[36mmonai_training.preprocess\u001b[0m:\u001b[36mlog\u001b[0m:\u001b[36m22\u001b[0m - \u001b[32m\u001b[1mSaved /mnt/h/3Tpioneer_bids/sub-ms1437/ses-20210503/choroid_t1_flair-CH.pineal-SRS.pituitary-CH.nii.gz\u001b[0m\n",
      "\u001b[32m2024-12-10 20:44:28.969\u001b[0m | \u001b[1mINFO    \u001b[0m | \u001b[36mmri_data.utils\u001b[0m:\u001b[36mcombine_labels\u001b[0m:\u001b[36m86\u001b[0m - \u001b[1mCombining labels for Scan(subid=1498, sesid=20210602)\u001b[0m\n",
      "\u001b[32m2024-12-10 20:44:28.982\u001b[0m | \u001b[32m\u001b[1mSUCCESS \u001b[0m | \u001b[36mmonai_training.preprocess\u001b[0m:\u001b[36mlog\u001b[0m:\u001b[36m22\u001b[0m - \u001b[32m\u001b[1mSaved /mnt/h/3Tpioneer_bids/sub-ms1498/ses-20210602/choroid_t1_flair-ED.pineal-SRS.pituitary-CH.nii.gz\u001b[0m\n",
      " 68%|██████▊   | 27/40 [00:23<00:04,  2.94it/s]\u001b[32m2024-12-10 20:44:28.984\u001b[0m | \u001b[1mINFO    \u001b[0m | \u001b[36mmri_data.utils\u001b[0m:\u001b[36mcombine_labels\u001b[0m:\u001b[36m86\u001b[0m - \u001b[1mCombining labels for Scan(subid=1518, sesid=20220216)\u001b[0m\n",
      "\u001b[32m2024-12-10 20:44:28.994\u001b[0m | \u001b[32m\u001b[1mSUCCESS \u001b[0m | \u001b[36mmonai_training.preprocess\u001b[0m:\u001b[36mlog\u001b[0m:\u001b[36m22\u001b[0m - \u001b[32m\u001b[1mSaved /mnt/h/3Tpioneer_bids/sub-ms1518/ses-20220216/choroid_t1_flair-CH.pineal-SRS.pituitary-CH.nii.gz\u001b[0m\n",
      "\u001b[32m2024-12-10 20:44:28.995\u001b[0m | \u001b[1mINFO    \u001b[0m | \u001b[36mmri_data.utils\u001b[0m:\u001b[36mcombine_labels\u001b[0m:\u001b[36m86\u001b[0m - \u001b[1mCombining labels for Scan(subid=1540, sesid=20201222)\u001b[0m\n",
      "\u001b[32m2024-12-10 20:44:29.016\u001b[0m | \u001b[32m\u001b[1mSUCCESS \u001b[0m | \u001b[36mmonai_training.preprocess\u001b[0m:\u001b[36mlog\u001b[0m:\u001b[36m22\u001b[0m - \u001b[32m\u001b[1mSaved /mnt/h/3Tpioneer_bids/sub-ms1540/ses-20201222/choroid_t1_flair-CH.pineal-SRS.pituitary-CH.nii.gz\u001b[0m\n",
      "\u001b[32m2024-12-10 20:44:29.018\u001b[0m | \u001b[1mINFO    \u001b[0m | \u001b[36mmri_data.utils\u001b[0m:\u001b[36mcombine_labels\u001b[0m:\u001b[36m86\u001b[0m - \u001b[1mCombining labels for Scan(subid=1547, sesid=20220321)\u001b[0m\n",
      "\u001b[32m2024-12-10 20:44:29.029\u001b[0m | \u001b[32m\u001b[1mSUCCESS \u001b[0m | \u001b[36mmonai_training.preprocess\u001b[0m:\u001b[36mlog\u001b[0m:\u001b[36m22\u001b[0m - \u001b[32m\u001b[1mSaved /mnt/h/3Tpioneer_bids/sub-ms1547/ses-20220321/choroid_t1_flair-ED.pineal-SRS.pituitary-CH.nii.gz\u001b[0m\n",
      "\u001b[32m2024-12-10 20:44:29.030\u001b[0m | \u001b[1mINFO    \u001b[0m | \u001b[36mmri_data.utils\u001b[0m:\u001b[36mcombine_labels\u001b[0m:\u001b[36m86\u001b[0m - \u001b[1mCombining labels for Scan(subid=1548, sesid=20210628)\u001b[0m\n",
      "\u001b[32m2024-12-10 20:44:29.040\u001b[0m | \u001b[32m\u001b[1mSUCCESS \u001b[0m | \u001b[36mmonai_training.preprocess\u001b[0m:\u001b[36mlog\u001b[0m:\u001b[36m22\u001b[0m - \u001b[32m\u001b[1mSaved /mnt/h/3Tpioneer_bids/sub-ms1548/ses-20210628/choroid_t1_flair-CH.pineal-SRS.pituitary-CH.nii.gz\u001b[0m\n",
      "\u001b[32m2024-12-10 20:44:29.044\u001b[0m | \u001b[1mINFO    \u001b[0m | \u001b[36mmri_data.utils\u001b[0m:\u001b[36mcombine_labels\u001b[0m:\u001b[36m86\u001b[0m - \u001b[1mCombining labels for Scan(subid=2081, sesid=20170204)\u001b[0m\n",
      "\u001b[32m2024-12-10 20:44:29.058\u001b[0m | \u001b[32m\u001b[1mSUCCESS \u001b[0m | \u001b[36mmonai_training.preprocess\u001b[0m:\u001b[36mlog\u001b[0m:\u001b[36m22\u001b[0m - \u001b[32m\u001b[1mSaved /mnt/h/3Tpioneer_bids/sub-ms2081/ses-20170204/choroid_t1_flair-ED.pineal-SRS.pituitary-CH.nii.gz\u001b[0m\n",
      "\u001b[32m2024-12-10 20:44:29.060\u001b[0m | \u001b[1mINFO    \u001b[0m | \u001b[36mmri_data.utils\u001b[0m:\u001b[36mcombine_labels\u001b[0m:\u001b[36m86\u001b[0m - \u001b[1mCombining labels for Scan(subid=2083, sesid=20170502)\u001b[0m\n",
      "\u001b[32m2024-12-10 20:44:29.072\u001b[0m | \u001b[32m\u001b[1mSUCCESS \u001b[0m | \u001b[36mmonai_training.preprocess\u001b[0m:\u001b[36mlog\u001b[0m:\u001b[36m22\u001b[0m - \u001b[32m\u001b[1mSaved /mnt/h/3Tpioneer_bids/sub-ms2083/ses-20170502/choroid_t1_flair-ED.pineal-SRS.pituitary-CH.nii.gz\u001b[0m\n",
      "\u001b[32m2024-12-10 20:44:29.074\u001b[0m | \u001b[1mINFO    \u001b[0m | \u001b[36mmri_data.utils\u001b[0m:\u001b[36mcombine_labels\u001b[0m:\u001b[36m86\u001b[0m - \u001b[1mCombining labels for Scan(subid=2097, sesid=20171223)\u001b[0m\n",
      "\u001b[32m2024-12-10 20:44:32.100\u001b[0m | \u001b[32m\u001b[1mSUCCESS \u001b[0m | \u001b[36mmri_data.utils\u001b[0m:\u001b[36mcombine_labels\u001b[0m:\u001b[36m125\u001b[0m - \u001b[32m\u001b[1mSaved combined label to /mnt/h/3Tpioneer_bids/sub-ms2097/ses-20171223/choroid_t1_flair-ED.pineal-SRS.pituitary-SRS.nii.gz\u001b[0m\n",
      "\u001b[32m2024-12-10 20:44:32.108\u001b[0m | \u001b[32m\u001b[1mSUCCESS \u001b[0m | \u001b[36mmonai_training.preprocess\u001b[0m:\u001b[36mlog\u001b[0m:\u001b[36m22\u001b[0m - \u001b[32m\u001b[1mSaved /mnt/h/3Tpioneer_bids/sub-ms2097/ses-20171223/choroid_t1_flair-ED.pineal-SRS.pituitary-SRS.nii.gz\u001b[0m\n",
      " 85%|████████▌ | 34/40 [00:26<00:02,  2.60it/s]\u001b[32m2024-12-10 20:44:32.110\u001b[0m | \u001b[1mINFO    \u001b[0m | \u001b[36mmri_data.utils\u001b[0m:\u001b[36mcombine_labels\u001b[0m:\u001b[36m86\u001b[0m - \u001b[1mCombining labels for Scan(subid=2126, sesid=20181224)\u001b[0m\n",
      "\u001b[32m2024-12-10 20:44:35.214\u001b[0m | \u001b[32m\u001b[1mSUCCESS \u001b[0m | \u001b[36mmri_data.utils\u001b[0m:\u001b[36mcombine_labels\u001b[0m:\u001b[36m125\u001b[0m - \u001b[32m\u001b[1mSaved combined label to /mnt/h/3Tpioneer_bids/sub-ms2126/ses-20181224/choroid_t1_flair-ED.pineal-SRS.pituitary-SRS.nii.gz\u001b[0m\n",
      "\u001b[32m2024-12-10 20:44:35.224\u001b[0m | \u001b[32m\u001b[1mSUCCESS \u001b[0m | \u001b[36mmonai_training.preprocess\u001b[0m:\u001b[36mlog\u001b[0m:\u001b[36m22\u001b[0m - \u001b[32m\u001b[1mSaved /mnt/h/3Tpioneer_bids/sub-ms2126/ses-20181224/choroid_t1_flair-ED.pineal-SRS.pituitary-SRS.nii.gz\u001b[0m\n",
      "\u001b[32m2024-12-10 20:44:35.226\u001b[0m | \u001b[1mINFO    \u001b[0m | \u001b[36mmri_data.utils\u001b[0m:\u001b[36mcombine_labels\u001b[0m:\u001b[36m86\u001b[0m - \u001b[1mCombining labels for Scan(subid=2132, sesid=20190825)\u001b[0m\n",
      "\u001b[32m2024-12-10 20:44:38.086\u001b[0m | \u001b[32m\u001b[1mSUCCESS \u001b[0m | \u001b[36mmri_data.utils\u001b[0m:\u001b[36mcombine_labels\u001b[0m:\u001b[36m125\u001b[0m - \u001b[32m\u001b[1mSaved combined label to /mnt/h/3Tpioneer_bids/sub-ms2132/ses-20190825/choroid_t1_flair-ED.pineal-SRS.pituitary-CH.nii.gz\u001b[0m\n",
      "\u001b[32m2024-12-10 20:44:38.170\u001b[0m | \u001b[32m\u001b[1mSUCCESS \u001b[0m | \u001b[36mmonai_training.preprocess\u001b[0m:\u001b[36mlog\u001b[0m:\u001b[36m22\u001b[0m - \u001b[32m\u001b[1mSaved /mnt/h/3Tpioneer_bids/sub-ms2132/ses-20190825/choroid_t1_flair-ED.pineal-SRS.pituitary-CH.nii.gz\u001b[0m\n",
      "\u001b[32m2024-12-10 20:44:38.173\u001b[0m | \u001b[1mINFO    \u001b[0m | \u001b[36mmri_data.utils\u001b[0m:\u001b[36mcombine_labels\u001b[0m:\u001b[36m86\u001b[0m - \u001b[1mCombining labels for Scan(subid=2144, sesid=20190422)\u001b[0m\n",
      "\u001b[32m2024-12-10 20:44:38.189\u001b[0m | \u001b[32m\u001b[1mSUCCESS \u001b[0m | \u001b[36mmonai_training.preprocess\u001b[0m:\u001b[36mlog\u001b[0m:\u001b[36m22\u001b[0m - \u001b[32m\u001b[1mSaved /mnt/h/3Tpioneer_bids/sub-ms2144/ses-20190422/choroid_t1_flair-ED.pineal-SRS.pituitary-CH.nii.gz\u001b[0m\n",
      " 92%|█████████▎| 37/40 [00:32<00:02,  1.39it/s]\u001b[32m2024-12-10 20:44:38.192\u001b[0m | \u001b[1mINFO    \u001b[0m | \u001b[36mmri_data.utils\u001b[0m:\u001b[36mcombine_labels\u001b[0m:\u001b[36m86\u001b[0m - \u001b[1mCombining labels for Scan(subid=2146, sesid=20191017)\u001b[0m\n",
      "\u001b[32m2024-12-10 20:44:41.494\u001b[0m | \u001b[32m\u001b[1mSUCCESS \u001b[0m | \u001b[36mmri_data.utils\u001b[0m:\u001b[36mcombine_labels\u001b[0m:\u001b[36m125\u001b[0m - \u001b[32m\u001b[1mSaved combined label to /mnt/h/3Tpioneer_bids/sub-ms2146/ses-20191017/choroid_t1_flair-ED.pineal-SRS.pituitary-CH.nii.gz\u001b[0m\n",
      "\u001b[32m2024-12-10 20:44:41.503\u001b[0m | \u001b[32m\u001b[1mSUCCESS \u001b[0m | \u001b[36mmonai_training.preprocess\u001b[0m:\u001b[36mlog\u001b[0m:\u001b[36m22\u001b[0m - \u001b[32m\u001b[1mSaved /mnt/h/3Tpioneer_bids/sub-ms2146/ses-20191017/choroid_t1_flair-ED.pineal-SRS.pituitary-CH.nii.gz\u001b[0m\n",
      "\u001b[32m2024-12-10 20:44:41.504\u001b[0m | \u001b[1mINFO    \u001b[0m | \u001b[36mmri_data.utils\u001b[0m:\u001b[36mcombine_labels\u001b[0m:\u001b[36m86\u001b[0m - \u001b[1mCombining labels for Scan(subid=2164, sesid=20200113)\u001b[0m\n",
      "\u001b[32m2024-12-10 20:44:44.750\u001b[0m | \u001b[32m\u001b[1mSUCCESS \u001b[0m | \u001b[36mmri_data.utils\u001b[0m:\u001b[36mcombine_labels\u001b[0m:\u001b[36m125\u001b[0m - \u001b[32m\u001b[1mSaved combined label to /mnt/h/3Tpioneer_bids/sub-ms2164/ses-20200113/choroid_t1_flair-ED.pineal-SRS.pituitary-CH.nii.gz\u001b[0m\n",
      "\u001b[32m2024-12-10 20:44:44.760\u001b[0m | \u001b[32m\u001b[1mSUCCESS \u001b[0m | \u001b[36mmonai_training.preprocess\u001b[0m:\u001b[36mlog\u001b[0m:\u001b[36m22\u001b[0m - \u001b[32m\u001b[1mSaved /mnt/h/3Tpioneer_bids/sub-ms2164/ses-20200113/choroid_t1_flair-ED.pineal-SRS.pituitary-CH.nii.gz\u001b[0m\n",
      " 98%|█████████▊| 39/40 [00:39<00:01,  1.13s/it]\u001b[32m2024-12-10 20:44:44.763\u001b[0m | \u001b[1mINFO    \u001b[0m | \u001b[36mmri_data.utils\u001b[0m:\u001b[36mcombine_labels\u001b[0m:\u001b[36m86\u001b[0m - \u001b[1mCombining labels for Scan(subid=2187, sesid=20200731)\u001b[0m\n",
      "\u001b[32m2024-12-10 20:44:48.132\u001b[0m | \u001b[32m\u001b[1mSUCCESS \u001b[0m | \u001b[36mmri_data.utils\u001b[0m:\u001b[36mcombine_labels\u001b[0m:\u001b[36m125\u001b[0m - \u001b[32m\u001b[1mSaved combined label to /mnt/h/3Tpioneer_bids/sub-ms2187/ses-20200731/choroid_t1_flair-ED.pineal-SRS.pituitary-CH.nii.gz\u001b[0m\n",
      "\u001b[32m2024-12-10 20:44:48.206\u001b[0m | \u001b[32m\u001b[1mSUCCESS \u001b[0m | \u001b[36mmonai_training.preprocess\u001b[0m:\u001b[36mlog\u001b[0m:\u001b[36m22\u001b[0m - \u001b[32m\u001b[1mSaved /mnt/h/3Tpioneer_bids/sub-ms2187/ses-20200731/choroid_t1_flair-ED.pineal-SRS.pituitary-CH.nii.gz\u001b[0m\n",
      "100%|██████████| 40/40 [00:42<00:00,  1.06s/it]\n",
      "\u001b[32m2024-12-10 20:44:48.207\u001b[0m | \u001b[1mINFO    \u001b[0m | \u001b[36mmonai_training.preprocess\u001b[0m:\u001b[36mprepare_labels\u001b[0m:\u001b[36m229\u001b[0m - \u001b[1mDataset size: 40\u001b[0m\n",
      "\u001b[32m2024-12-10 20:44:48.208\u001b[0m | \u001b[1mINFO    \u001b[0m | \u001b[36mmonai_training.preprocess\u001b[0m:\u001b[36mprepare_images\u001b[0m:\u001b[36m107\u001b[0m - \u001b[1mPrepare Images\u001b[0m\n",
      "100%|██████████| 40/40 [00:00<00:00, 289.58it/s]\n"
     ]
    }
   ],
   "source": [
    "dataset_proc = DataSetProcesser(dataset)\n",
    "dataset_proc.prepare_labels([\"choroid_t1_flair\", \"pineal\", \"pituitary\"], [\"CH\", \"SRS\", \"ED\", \"DT\"])\n",
    "dataset_proc.prepare_images([\"flair\", \"t1\"])"
   ]
  },
  {
   "cell_type": "code",
   "execution_count": 24,
   "metadata": {},
   "outputs": [
    {
     "data": {
      "text/plain": [
       "Scan(subid='1010', sesid='20180208', _dataroot=PosixPath('/mnt/h/3Tpioneer_bids'), _root=PosixPath('/mnt/h/3Tpioneer_bids/sub-ms1010/ses-20180208'), image='flair.t1.nii.gz', label='choroid_t1_flair-CH.pineal-CH.pituitary-CH.nii.gz', cond='tr', id=20382010080)"
      ]
     },
     "execution_count": 24,
     "metadata": {},
     "output_type": "execute_result"
    }
   ],
   "source": [
    "dataset = dataset_proc.dataset\n",
    "dataset[0]"
   ]
  }
 ],
 "metadata": {
  "kernelspec": {
   "display_name": "monai",
   "language": "python",
   "name": "python3"
  },
  "language_info": {
   "codemirror_mode": {
    "name": "ipython",
    "version": 3
   },
   "file_extension": ".py",
   "mimetype": "text/x-python",
   "name": "python",
   "nbconvert_exporter": "python",
   "pygments_lexer": "ipython3",
   "version": "3.12.4"
  }
 },
 "nbformat": 4,
 "nbformat_minor": 2
}
