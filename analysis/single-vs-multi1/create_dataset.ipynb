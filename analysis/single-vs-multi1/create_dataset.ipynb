{
 "cells": [
  {
   "cell_type": "code",
   "execution_count": null,
   "metadata": {},
   "outputs": [],
   "source": [
    "import os\n",
    "import sys\n",
    "from pathlib import Path\n",
    "from loguru import logger\n",
    "\n",
    "from monai_training.preprocess import DataSetProcesser\n",
    "from monai_training import training\n",
    "from mri_data import file_manager as fm\n"
   ]
  },
  {
   "cell_type": "code",
   "execution_count": 6,
   "metadata": {},
   "outputs": [
    {
     "data": {
      "text/plain": [
       "1"
      ]
     },
     "execution_count": 6,
     "metadata": {},
     "output_type": "execute_result"
    }
   ],
   "source": [
    "logger.remove()\n",
    "logger.add(sys.stderr, level=\"INFO\")"
   ]
  },
  {
   "cell_type": "code",
   "execution_count": null,
   "metadata": {},
   "outputs": [],
   "source": [
    "drive_root = fm.get_drive_root()\n",
    "projects_root = Path(\"/home/srs-9/Projects\")\n",
    "msmri_home = projects_root / \"ms_mri\"\n",
    "dataroot = drive_root / \"3Tpioneer_bids\"\n",
    "\n",
    "dataset_name = \"single-vs-multi1\""
   ]
  },
  {
   "cell_type": "code",
   "execution_count": 8,
   "metadata": {},
   "outputs": [],
   "source": [
    "subjects = [\n",
    "    1010,\n",
    "    1011,\n",
    "    1019,\n",
    "    1029,\n",
    "    1033,\n",
    "    1037,\n",
    "    1038,\n",
    "    1080,\n",
    "    1085,\n",
    "    1087,\n",
    "    1089,\n",
    "    1109,\n",
    "    1119,\n",
    "    1152,\n",
    "    1163,\n",
    "    1188,\n",
    "    1191,\n",
    "    1234,\n",
    "    1259,\n",
    "    1265,\n",
    "    1272,\n",
    "    1280,\n",
    "    1293,\n",
    "    1321,\n",
    "    1355,\n",
    "    1437,\n",
    "    1498,\n",
    "    1518,\n",
    "    1540,\n",
    "    1547,\n",
    "    1548,\n",
    "    2081,\n",
    "    2083,\n",
    "    2097,\n",
    "    2126,\n",
    "    2132,\n",
    "    2144,\n",
    "    2146,\n",
    "    2164,\n",
    "    2187]"
   ]
  },
  {
   "cell_type": "code",
   "execution_count": 9,
   "metadata": {},
   "outputs": [],
   "source": [
    "def has_subject(scan, subjects: list[int]) -> bool:\n",
    "    if int(scan.subid) in subjects:\n",
    "        return True\n",
    "    else:\n",
    "        return False"
   ]
  },
  {
   "cell_type": "code",
   "execution_count": null,
   "metadata": {},
   "outputs": [],
   "source": [
    "dataset_proc = DataSetProcesser.new_dataset(dataroot, fm.scan_3Tpioneer_bids, filters=[fm.filter_first_ses])\n",
    "dataset_proc.filter([has_subject], [(subjects,)])\n",
    "dataset = dataset_proc.dataset\n",
    "dataset.sort()"
   ]
  },
  {
   "cell_type": "code",
   "execution_count": null,
   "metadata": {},
   "outputs": [],
   "source": [
    "from monai_training import preprocess\n",
    "\n",
    "\n",
    "dataset = training.assign_conditions(dataset, 0.2)\n",
    "preprocess.save_dataset(dataset, \"dataset.json\")"
   ]
  }
 ],
 "metadata": {
  "kernelspec": {
   "display_name": "monai",
   "language": "python",
   "name": "python3"
  },
  "language_info": {
   "codemirror_mode": {
    "name": "ipython",
    "version": 3
   },
   "file_extension": ".py",
   "mimetype": "text/x-python",
   "name": "python",
   "nbconvert_exporter": "python",
   "pygments_lexer": "ipython3",
   "version": "3.12.4"
  }
 },
 "nbformat": 4,
 "nbformat_minor": 2
}
