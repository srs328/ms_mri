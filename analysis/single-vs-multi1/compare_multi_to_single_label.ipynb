{
 "cells": [
  {
   "cell_type": "code",
   "execution_count": 2,
   "metadata": {},
   "outputs": [],
   "source": [
    "from scipy.stats import ranksums, mannwhitneyu"
   ]
  },
  {
   "cell_type": "markdown",
   "metadata": {},
   "source": [
    "### Choroid"
   ]
  },
  {
   "cell_type": "code",
   "execution_count": 3,
   "metadata": {},
   "outputs": [
    {
     "name": "stdout",
     "output_type": "stream",
     "text": [
      "Dice\n",
      "Statistic: 48.0\n",
      "P-value: 0.9097218891455553 \n",
      "\n",
      "Haus\n",
      "Statistic: 50.5\n",
      "P-value: 1.0\n"
     ]
    }
   ],
   "source": [
    "choroid_multi_dice = [0.7372424722662441, 0.7830985915492957, 0.7586914688903144, 0.7316561844863732, 0.7881188118811882, 0.7878239903556359, 0.8016465924683641, 0.8252518154134457, 0.6937708726586322, 0.7974306752310826]\n",
    "choroid_single_dice = [0.7629950495049505, 0.7794253938832252, 0.7748743718592965, 0.730551478297337, 0.7935744727352202, 0.7920557284719134, 0.7911308203991131, 0.829092599047287, 0.698946169182569, 0.7952329360780065]\n",
    "\n",
    "# Perform the Wilcoxon rank sum test\n",
    "statistic, p_value = mannwhitneyu(choroid_multi_dice, choroid_single_dice)\n",
    "\n",
    "print(\"Dice\")\n",
    "print(\"Statistic:\", statistic)\n",
    "print(\"P-value:\", p_value, \"\\n\")\n",
    "\n",
    "\n",
    "choroid_multi_haus = [1.7320508075688772, 1.4142135623730951, 2.0, 1.0, 2.0, 2.8284271247461903, 1.0, 1.0, 5.0, 1.0]\n",
    "choroid_single_haus = [1.4142135623730951, 1.4142135623730951, 1.4142135623730951, 1.0, 2.23606797749979, 2.8284271247461903, 1.4142135623730951, 1.0, 4.679631753336632, 1.0]\n",
    "\n",
    "# Perform the Wilcoxon rank sum test\n",
    "statistic, p_value = mannwhitneyu(choroid_multi_haus, choroid_single_haus)\n",
    "\n",
    "print(\"Haus\")\n",
    "print(\"Statistic:\", statistic)\n",
    "print(\"P-value:\", p_value)"
   ]
  },
  {
   "cell_type": "code",
   "execution_count": 4,
   "metadata": {},
   "outputs": [
    {
     "name": "stdout",
     "output_type": "stream",
     "text": [
      "Dice\n",
      "Statistic: 71.0\n",
      "P-value: 0.12122450301291662 \n",
      "\n",
      "Hausdorff\n",
      "Statistic: 22.0\n",
      "P-value: 0.03620538824478055\n"
     ]
    }
   ],
   "source": [
    "pineal_multi_dice = [0.6014234875444839, 0.832986832986833, 0.6196319018404908, 0.8262476894639557, 0.8773072747014115, 0.8114682884448305, 0.8714285714285714, 0.8205128205128205, 0.4715447154471545, 0.8203753351206434]\n",
    "pineal_single_dice = [0.33554817275747506, 0.73992673992674, 0.4519015659955257, 0.758893280632411, 0.8157894736842105, 0.7952898550724637, 0.8718562874251496, 0.8123924268502581, 0.24566929133858267, 0.7530168946098149]\n",
    "\n",
    "# Perform the Wilcoxon rank sum test\n",
    "statistic, p_value = mannwhitneyu(pineal_multi_dice, pineal_single_dice)\n",
    "\n",
    "print(\"Dice\")\n",
    "print(\"Statistic:\", statistic)\n",
    "print(\"P-value:\", p_value, \"\\n\")\n",
    "\n",
    "pineal_multi_haus = [135.9154148726332, 1.4142135623730951, 2.0, 1.0, 1.0, 3.3166247903554, 1.0, 1.4142135623730951, 15.665240362042365, 1.4142135623730951]\n",
    "pineal_single_haus = [137.24995014314737, 74.76128641821256, 89.11425246748274, 1.4142135623730951, 40.11661944628753, 3.605551275463989, 1.0, 99.70456156879672, 66.9880264825541, 79.02784227287718]\n",
    "\n",
    "# Perform the Wilcoxon rank sum test\n",
    "statistic, p_value = mannwhitneyu(pineal_multi_haus, pineal_single_haus)\n",
    "\n",
    "print(\"Hausdorff\")\n",
    "print(\"Statistic:\", statistic)\n",
    "print(\"P-value:\", p_value)"
   ]
  },
  {
   "cell_type": "markdown",
   "metadata": {},
   "source": [
    "### Pituitary"
   ]
  },
  {
   "cell_type": "code",
   "execution_count": 13,
   "metadata": {},
   "outputs": [
    {
     "name": "stdout",
     "output_type": "stream",
     "text": [
      "Dice\n",
      "Statistic: 43.0\n",
      "P-value: 0.3359010270774977 \n",
      "\n",
      "IoU\n",
      "Statistic: 43.0\n",
      "P-value: 0.3359010270774977 \n",
      "\n",
      "Hausdorff\n",
      "Statistic: 26.0\n",
      "P-value: 0.552789872062503\n"
     ]
    }
   ],
   "source": [
    "pituitary_multi_dice = [0.7785419532324622, 0.8917337234820776, 0.8895244905255631, 0.8349575605155611, 0.8089430894308943]\n",
    "pituitary_single_dice = [0.8340141106572596, 0.8498603351955307, 0.776134625191229, 0.7908337396392003, 0.7660343270099368, 0.9001782531194296, 0.8176100628930818, 0.803123983078425, 0.7672842295526434, 0.8004330566582462, 0.8885424785658612, 0.7830775611779345, 0.8453934361407671]\n",
    "\n",
    "# Perform the Wilcoxon rank sum test\n",
    "statistic, p_value = mannwhitneyu(pituitary_multi_dice, pituitary_single_dice)\n",
    "\n",
    "print(\"Dice\")\n",
    "print(\"Statistic:\", statistic)\n",
    "print(\"P-value:\", p_value, \"\\n\")\n",
    "\n",
    "pituitary_multi_iou = [0.6373873873873874, 0.8046204620462046, 0.8010302640051513, 0.7166756610901241, 0.6791808873720137]\n",
    "pituitary_single_iou = [0.7152866242038216, 0.7389192471159685, 0.6341666666666667, 0.6540322580645161, 0.6207906295754027, 0.8184764991896273, 0.6914893617021277, 0.6710168569874932, 0.6224340175953079, 0.6672683513838749, 0.7994389901823282, 0.643490115882754, 0.7321917808219178]\n",
    "\n",
    "# Perform the Wilcoxon rank sum test\n",
    "statistic, p_value = mannwhitneyu(pituitary_multi_iou, pituitary_single_iou)\n",
    "\n",
    "print(\"IoU\")\n",
    "print(\"Statistic:\", statistic)\n",
    "print(\"P-value:\", p_value, \"\\n\")\n",
    "\n",
    "pituitary_multi_haus = [3.605551275463989, 3.0, 2.23606797749979, 3.3166247903554, 3.1622776601683795]\n",
    "pituitary_single_haus = [3.1622776601683795, 3.1622776601683795, 3.0, 4.123105625617661, 72.20803279414278, 18.384776310850235, 2.0, 5.744562646538029, 5.744562646538029, 4.58257569495584, 2.449489742783178, 2.8284271247461903, 2.23606797749979]\n",
    "\n",
    "# Perform the Wilcoxon rank sum test\n",
    "statistic, p_value = mannwhitneyu(pituitary_multi_haus, pituitary_single_haus)\n",
    "\n",
    "print(\"Hausdorff\")\n",
    "print(\"Statistic:\", statistic)\n",
    "print(\"P-value:\", p_value)"
   ]
  }
 ],
 "metadata": {
  "kernelspec": {
   "display_name": "monai",
   "language": "python",
   "name": "python3"
  },
  "language_info": {
   "codemirror_mode": {
    "name": "ipython",
    "version": 3
   },
   "file_extension": ".py",
   "mimetype": "text/x-python",
   "name": "python",
   "nbconvert_exporter": "python",
   "pygments_lexer": "ipython3",
   "version": "3.12.4"
  }
 },
 "nbformat": 4,
 "nbformat_minor": 2
}
