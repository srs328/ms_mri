{
 "cells": [
  {
   "cell_type": "code",
   "execution_count": 1,
   "metadata": {},
   "outputs": [],
   "source": [
    "import os\n",
    "from pathlib import Path\n",
    "\n",
    "from monai_training import preprocess, training\n",
    "from mri_data import file_manager as fm"
   ]
  },
  {
   "cell_type": "code",
   "execution_count": 2,
   "metadata": {},
   "outputs": [],
   "source": [
    "project_home = Path(\"/home/srs-9/Projects/ms_mri\")\n",
    "curr_dir = project_home / \"analysis\" / \"choroid_pineal_pituitary_crosstrain\"\n",
    "drive_root = fm.get_drive_root()\n",
    "dataroot = drive_root / \"3Tpioneer_bids\""
   ]
  },
  {
   "cell_type": "code",
   "execution_count": 3,
   "metadata": {},
   "outputs": [],
   "source": [
    "import copy\n",
    "\n",
    "dataset1, _ = preprocess.load_dataset(curr_dir / \"dataset1.json\")\n",
    "dataset1_tests = [scan for scan in dataset1 if scan.cond == \"ts\"]\n",
    "for i, scan in enumerate(dataset1_tests):\n",
    "    scan2 = copy.copy(scan)\n",
    "    scan2.cond = \"tr\"\n",
    "    dataset1_tests[i] = scan2\n",
    "dataset1_trains = [scan for scan in dataset1 if scan.cond == \"tr\"]\n",
    "\n",
    "dataset2_part = fm.DataSet.from_scans(dataset1_trains)\n",
    "dataset2_part = training.assign_conditions(dataset2_part, n_ts=10)\n",
    "dataset2 = fm.DataSet.from_scans([scan for scan in dataset2_part] + dataset1_tests)\n",
    "dataset2_tests = [scan for scan in dataset2 if scan.cond == \"ts\"]\n",
    "for i, scan in enumerate(dataset2_tests):\n",
    "    scan2 = copy.copy(scan)\n",
    "    scan2.cond = \"tr\"\n",
    "    dataset2_tests[i] = scan2\n",
    "dataset2_part_trains = [scan for scan in dataset2_part if scan.cond == \"tr\"]\n",
    "\n",
    "dataset3_part = fm.DataSet.from_scans(dataset2_part_trains)\n",
    "dataset3_part = training.assign_conditions(dataset3_part, n_ts=10)\n",
    "dataset3 = fm.DataSet.from_scans([scan for scan in dataset3_part] + dataset1_tests + dataset2_tests)\n",
    "dataset3_tests = [scan for scan in dataset3 if scan.cond == \"ts\"]\n",
    "for i, scan in enumerate(dataset3_tests):\n",
    "    scan2 = copy.copy(scan)\n",
    "    scan2.cond = \"tr\"\n",
    "    dataset3_tests[i] = scan2\n",
    "dataset3_part_trains = [scan for scan in dataset3_part if scan.cond == \"tr\"]\n",
    "\n",
    "dataset4_tests = []\n",
    "for scan in dataset3_part_trains:\n",
    "    scan2 = copy.copy(scan)\n",
    "    scan2.cond = \"ts\"\n",
    "    dataset4_tests.append(scan2)\n",
    "\n",
    "dataset4 = fm.DataSet.from_scans(dataset4_tests + dataset3_tests + dataset2_tests + dataset1_tests)"
   ]
  },
  {
   "cell_type": "code",
   "execution_count": 6,
   "metadata": {},
   "outputs": [],
   "source": [
    "dataset1_tests = [scan for scan in dataset1 if scan.cond == \"ts\"]\n",
    "dataset2_tests = [scan for scan in dataset2 if scan.cond == \"ts\"]\n",
    "dataset3_tests = [scan for scan in dataset3 if scan.cond == \"ts\"]\n",
    "dataset4_tests = [scan for scan in dataset4 if scan.cond == \"ts\"]\n",
    "\n",
    "all_tests = set(dataset1_tests + dataset2_tests + dataset3_tests + dataset4_tests)\n",
    "assert len(all_tests) == 40"
   ]
  },
  {
   "cell_type": "code",
   "execution_count": 7,
   "metadata": {},
   "outputs": [],
   "source": [
    "dataset1.sort(key=lambda s: s.cond)\n",
    "dataset2.sort(key=lambda s: s.cond)\n",
    "dataset3.sort(key=lambda s: s.cond)\n",
    "dataset4.sort(key=lambda s: s.cond)"
   ]
  },
  {
   "cell_type": "code",
   "execution_count": 8,
   "metadata": {},
   "outputs": [],
   "source": [
    "preprocess.save_dataset(dataset1, curr_dir / \"dataset1.json\")\n",
    "preprocess.save_dataset(dataset2, curr_dir / \"dataset2.json\")\n",
    "preprocess.save_dataset(dataset3, curr_dir / \"dataset3.json\")\n",
    "preprocess.save_dataset(dataset4, curr_dir / \"dataset4.json\")"
   ]
  }
 ],
 "metadata": {
  "kernelspec": {
   "display_name": "monai",
   "language": "python",
   "name": "python3"
  },
  "language_info": {
   "codemirror_mode": {
    "name": "ipython",
    "version": 3
   },
   "file_extension": ".py",
   "mimetype": "text/x-python",
   "name": "python",
   "nbconvert_exporter": "python",
   "pygments_lexer": "ipython3",
   "version": "3.12.7"
  }
 },
 "nbformat": 4,
 "nbformat_minor": 2
}
