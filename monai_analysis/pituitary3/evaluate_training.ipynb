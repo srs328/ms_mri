{
 "cells": [
  {
   "cell_type": "code",
   "execution_count": 1,
   "metadata": {},
   "outputs": [],
   "source": [
    "import os\n",
    "from pathlib import Path\n",
    "import numpy as np\n",
    "import json\n",
    "from loguru import logger\n",
    "import platform\n",
    "import re \n",
    "import nibabel as nib\n",
    "import statistics\n",
    "import sys\n",
    "\n",
    "import mri_data\n",
    "import monai_training\n",
    "\n",
    "from reload_recursive import reload_recursive"
   ]
  },
  {
   "cell_type": "code",
   "execution_count": 2,
   "metadata": {},
   "outputs": [],
   "source": [
    "reload_recursive(mri_data)\n",
    "reload_recursive(monai_training)\n",
    "from mri_data.file_manager import scan_3Tpioneer_bids, DataSet, Scan  # noqa: E402, F401\n",
    "from mri_data import utils\n",
    "from mri_data import file_manager as fm\n",
    "from monai_training import preprocess  # noqa: E402\n",
    "from monai_training.preprocess import DataSetProcesser"
   ]
  },
  {
   "cell_type": "code",
   "execution_count": 3,
   "metadata": {},
   "outputs": [
    {
     "data": {
      "text/plain": [
       "1"
      ]
     },
     "execution_count": 3,
     "metadata": {},
     "output_type": "execute_result"
    }
   ],
   "source": [
    "logger.remove()\n",
    "logger.add(sys.stderr, level=\"INFO\")"
   ]
  },
  {
   "cell_type": "code",
   "execution_count": 4,
   "metadata": {},
   "outputs": [],
   "source": [
    "#! Set these variables\n",
    "work_dir_name = \"pituitary3\""
   ]
  },
  {
   "cell_type": "code",
   "execution_count": 5,
   "metadata": {},
   "outputs": [],
   "source": [
    "hostname = platform.node()\n",
    "if hostname == \"rhinocampus\":\n",
    "    drive_root = Path(\"/media/smbshare\")\n",
    "else:\n",
    "    drive_root = Path(\"/mnt/h\")\n",
    "\n",
    "projects_root = Path(\"/home/srs-9/Projects\")\n",
    "\n",
    "msmri_home = projects_root / \"ms_mri\"\n",
    "training_work_dirs = drive_root / \"training_work_dirs\"\n",
    "\n",
    "# dataroot = \"/media/hemondlab/Data/3Tpioneer_bids\"\n",
    "dataroot = drive_root / \"3Tpioneer_bids\"\n",
    "work_dir = training_work_dirs / work_dir_name\n",
    "ensemble_out_dir = work_dir / \"ensemble_output\""
   ]
  },
  {
   "cell_type": "markdown",
   "metadata": {},
   "source": [
    "Scan the ensemble_out folder produced during the monai training to collect the predicted labels into a DataSet struct. Create another DataSet object with the same subjects and sessions but rooted in the main data location, then collect the manual labels "
   ]
  },
  {
   "cell_type": "code",
   "execution_count": 6,
   "metadata": {},
   "outputs": [
    {
     "name": "stderr",
     "output_type": "stream",
     "text": [
      "\u001b[32m2024-12-12 19:11:34.533\u001b[0m | \u001b[1mINFO    \u001b[0m | \u001b[36mmonai_training.preprocess\u001b[0m:\u001b[36mprepare_labels\u001b[0m:\u001b[36m167\u001b[0m - \u001b[1mPrepare Labels\u001b[0m\n",
      "  0%|          | 0/10 [00:00<?, ?it/s]\u001b[32m2024-12-12 19:11:34.574\u001b[0m | \u001b[1mINFO    \u001b[0m | \u001b[36mmonai_training.preprocess\u001b[0m:\u001b[36mprepare_labels\u001b[0m:\u001b[36m226\u001b[0m - \u001b[1mFound label pituitary-CH.nii.gz for Scan(subid=1010, sesid=20180208)\u001b[0m\n",
      "\u001b[32m2024-12-12 19:11:34.589\u001b[0m | \u001b[1mINFO    \u001b[0m | \u001b[36mmonai_training.preprocess\u001b[0m:\u001b[36mprepare_labels\u001b[0m:\u001b[36m226\u001b[0m - \u001b[1mFound label pituitary-CH.nii.gz for Scan(subid=1033, sesid=20171117)\u001b[0m\n",
      "\u001b[32m2024-12-12 19:11:34.602\u001b[0m | \u001b[1mINFO    \u001b[0m | \u001b[36mmonai_training.preprocess\u001b[0m:\u001b[36mprepare_labels\u001b[0m:\u001b[36m226\u001b[0m - \u001b[1mFound label pituitary-CH.nii.gz for Scan(subid=1119, sesid=20161010)\u001b[0m\n",
      "\u001b[32m2024-12-12 19:11:34.614\u001b[0m | \u001b[1mINFO    \u001b[0m | \u001b[36mmonai_training.preprocess\u001b[0m:\u001b[36mprepare_labels\u001b[0m:\u001b[36m226\u001b[0m - \u001b[1mFound label pituitary-CH.nii.gz for Scan(subid=1259, sesid=20200803)\u001b[0m\n",
      "\u001b[32m2024-12-12 19:11:34.626\u001b[0m | \u001b[1mINFO    \u001b[0m | \u001b[36mmonai_training.preprocess\u001b[0m:\u001b[36mprepare_labels\u001b[0m:\u001b[36m226\u001b[0m - \u001b[1mFound label pituitary-CH.nii.gz for Scan(subid=1437, sesid=20210503)\u001b[0m\n",
      "\u001b[32m2024-12-12 19:11:34.638\u001b[0m | \u001b[1mINFO    \u001b[0m | \u001b[36mmonai_training.preprocess\u001b[0m:\u001b[36mprepare_labels\u001b[0m:\u001b[36m226\u001b[0m - \u001b[1mFound label pituitary-CH.nii.gz for Scan(subid=1547, sesid=20220321)\u001b[0m\n",
      "\u001b[32m2024-12-12 19:11:34.648\u001b[0m | \u001b[1mINFO    \u001b[0m | \u001b[36mmonai_training.preprocess\u001b[0m:\u001b[36mprepare_labels\u001b[0m:\u001b[36m226\u001b[0m - \u001b[1mFound label pituitary-CH.nii.gz for Scan(subid=2081, sesid=20170204)\u001b[0m\n",
      " 70%|███████   | 7/10 [00:00<00:00, 63.98it/s]\u001b[32m2024-12-12 19:11:34.660\u001b[0m | \u001b[1mINFO    \u001b[0m | \u001b[36mmonai_training.preprocess\u001b[0m:\u001b[36mprepare_labels\u001b[0m:\u001b[36m226\u001b[0m - \u001b[1mFound label pituitary-SRS.nii.gz for Scan(subid=2126, sesid=20181224)\u001b[0m\n",
      "\u001b[32m2024-12-12 19:11:34.671\u001b[0m | \u001b[1mINFO    \u001b[0m | \u001b[36mmonai_training.preprocess\u001b[0m:\u001b[36mprepare_labels\u001b[0m:\u001b[36m226\u001b[0m - \u001b[1mFound label pituitary-CH.nii.gz for Scan(subid=2146, sesid=20191017)\u001b[0m\n",
      "\u001b[32m2024-12-12 19:11:34.680\u001b[0m | \u001b[1mINFO    \u001b[0m | \u001b[36mmonai_training.preprocess\u001b[0m:\u001b[36mprepare_labels\u001b[0m:\u001b[36m226\u001b[0m - \u001b[1mFound label pituitary-CH.nii.gz for Scan(subid=2187, sesid=20200731)\u001b[0m\n",
      "100%|██████████| 10/10 [00:00<00:00, 70.84it/s]\n",
      "\u001b[32m2024-12-12 19:11:34.683\u001b[0m | \u001b[1mINFO    \u001b[0m | \u001b[36mmonai_training.preprocess\u001b[0m:\u001b[36mprepare_labels\u001b[0m:\u001b[36m229\u001b[0m - \u001b[1mDataset size: 10\u001b[0m\n"
     ]
    }
   ],
   "source": [
    "labels = [\"pituitary\"]\n",
    "ensemble_out_dataset = scan_3Tpioneer_bids(ensemble_out_dir, label=\"flair.t1_ensemble.nii.gz\")\n",
    "dataset = DataSet.dataset_like(ensemble_out_dataset)\n",
    "dataset.dataroot = dataroot\n",
    "dataset_proc = DataSetProcesser(dataset)\n",
    "dataset_proc.prepare_labels(labels, suffix_list=[\"CH\", \"SRS\", \"ED\", \"DT\"])\n",
    "dataset = dataset_proc.dataset\n",
    "dataset.sort()\n",
    "ensemble_out_dataset.sort()"
   ]
  },
  {
   "cell_type": "markdown",
   "metadata": {},
   "source": [
    "Calculate Dice Score for Pituitary"
   ]
  },
  {
   "cell_type": "code",
   "execution_count": 7,
   "metadata": {},
   "outputs": [
    {
     "name": "stdout",
     "output_type": "stream",
     "text": [
      "Dice Scores\n",
      "1010: 0.81\n",
      "1033: 0.82\n",
      "1119: 0.88\n",
      "1259: 0.89\n",
      "1437: 0.88\n",
      "1547: 0.85\n",
      "2081: 0.81\n",
      "2126: 0.83\n",
      "2146: 0.83\n",
      "2187: 0.83\n",
      "----------\n",
      "Mean: 0.84\n",
      "Std: 0.03\n",
      "[0.8089528377298162, 0.8212703101920237, 0.8764890282131661, 0.8885704048728055, 0.8763368983957219, 0.8458523840627041, 0.8128772635814889, 0.8256410256410256, 0.829198130169004, 0.8300884955752212]\n"
     ]
    }
   ],
   "source": [
    "dice_scores = []\n",
    "print(\"Dice Scores\")\n",
    "for scan, inference in zip(dataset, ensemble_out_dataset):\n",
    "    man_label = fm.find_label(scan, \"pituitary\", [\"CH\", \"SRS\", \"ED\", \"DT\"])\n",
    "    seg1 = nib.load(man_label).get_fdata()\n",
    "    seg2 = nib.load(inference.label_path).get_fdata()\n",
    "\n",
    "    # Calculate Dice score\n",
    "    score = utils.dice_score(seg1, seg2, seg2_val=1)\n",
    "    dice_scores.append(score)\n",
    "    print(\"{}: {:0.2f}\".format(scan.subid, score))\n",
    "print(\"----------\")\n",
    "print(\"Mean: {:0.2f}\".format(sum(dice_scores) / len(dice_scores)))\n",
    "print(\"Std: {:0.2f}\".format(statistics.stdev(dice_scores)))\n",
    "\n",
    "print(dice_scores)"
   ]
  },
  {
   "cell_type": "markdown",
   "metadata": {},
   "source": [
    "Calculate Hausdorff Distance for Pituitary"
   ]
  },
  {
   "cell_type": "code",
   "execution_count": 8,
   "metadata": {},
   "outputs": [
    {
     "name": "stdout",
     "output_type": "stream",
     "text": [
      "Hausdorff Dist\n",
      "1010: 2.00\n",
      "1033: 1.41\n",
      "1119: 1.41\n",
      "1259: 1.00\n",
      "1437: 1.41\n",
      "1547: 2.00\n",
      "2081: 2.00\n",
      "2126: 1.41\n",
      "2146: 1.73\n",
      "2187: 1.41\n",
      "----------\n",
      "Mean: 1.58\n",
      "Std: 0.34\n",
      "[2.0, 1.4142135623730951, 1.4142135623730951, 1.0, 1.4142135623730951, 2.0, 2.0, 1.4142135623730951, 1.7320508075688772, 1.4142135623730951]\n"
     ]
    }
   ],
   "source": [
    "haus = []\n",
    "print(\"Hausdorff Dist\")\n",
    "for scan, inference in zip(dataset, ensemble_out_dataset):\n",
    "    man_label = fm.find_label(scan, \"pituitary\", [\"CH\", \"SRS\", \"ED\", \"DT\"])\n",
    "    seg1 = nib.load(man_label).get_fdata()\n",
    "    seg2 = nib.load(inference.label_path).get_fdata()\n",
    "\n",
    "    # Calculate Dice score\n",
    "    score = utils.hausdorff_dist(seg1, seg2, seg2_val=1)\n",
    "    haus.append(score)\n",
    "    print(\"{}: {:0.2f}\".format(scan.subid, score))\n",
    "print(\"----------\")\n",
    "print(\"Mean: {:0.2f}\".format(sum(haus) / len(haus)))\n",
    "print(\"Std: {:0.2f}\".format(statistics.stdev(haus)))\n",
    "\n",
    "print(haus)"
   ]
  }
 ],
 "metadata": {
  "kernelspec": {
   "display_name": "monai",
   "language": "python",
   "name": "python3"
  },
  "language_info": {
   "codemirror_mode": {
    "name": "ipython",
    "version": 3
   },
   "file_extension": ".py",
   "mimetype": "text/x-python",
   "name": "python",
   "nbconvert_exporter": "python",
   "pygments_lexer": "ipython3",
   "version": "3.12.4"
  }
 },
 "nbformat": 4,
 "nbformat_minor": 2
}
