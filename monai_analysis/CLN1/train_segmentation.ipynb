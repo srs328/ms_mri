{
 "cells": [
  {
   "cell_type": "markdown",
   "id": "6b5ef0d0-d80a-49f6-93dd-50dd79b06345",
   "metadata": {
    "tags": []
   },
   "source": [
    "# Cervical Lymph Node Segmentation Training via Auto3DSeg"
   ]
  },
  {
   "cell_type": "code",
   "execution_count": 26,
   "id": "447dcb1b-ab8f-43b9-9439-d703a0881dc7",
   "metadata": {
    "tags": []
   },
   "outputs": [
    {
     "name": "stdout",
     "output_type": "stream",
     "text": [
      "MONAI version: 1.3.2\n",
      "Numpy version: 1.26.4\n",
      "Pytorch version: 2.3.1+cu121\n",
      "MONAI flags: HAS_EXT = False, USE_COMPILED = False, USE_META_DICT = False\n",
      "MONAI rev id: 59a7211070538586369afd4a01eca0a7fe2e742e\n",
      "MONAI __file__: /home/<username>/.virtualenvs/monai/lib/python3.12/site-packages/monai/__init__.py\n",
      "\n",
      "Optional dependencies:\n",
      "Pytorch Ignite version: NOT INSTALLED or UNKNOWN VERSION.\n",
      "ITK version: 5.4.0\n",
      "Nibabel version: 5.2.1\n",
      "scikit-image version: 0.24.0\n",
      "scipy version: 1.14.0\n",
      "Pillow version: 10.4.0\n",
      "Tensorboard version: 2.17.0\n",
      "gdown version: 5.2.0\n",
      "TorchVision version: 0.18.1+cu121\n",
      "tqdm version: 4.66.4\n",
      "lmdb version: 1.5.1\n",
      "psutil version: 6.0.0\n",
      "pandas version: 2.2.2\n",
      "einops version: 0.8.0\n",
      "transformers version: 4.42.4\n",
      "mlflow version: 2.14.3\n",
      "pynrrd version: 1.0.0\n",
      "clearml version: 1.16.2\n",
      "\n",
      "For details about installing the optional dependencies, please visit:\n",
      "    https://docs.monai.io/en/latest/installation.html#installing-the-recommended-dependencies\n",
      "\n"
     ]
    }
   ],
   "source": [
    "import os\n",
    "import json\n",
    "import nibabel as nib\n",
    "import nibabel as nibabel\n",
    "import numpy as np\n",
    "import matplotlib.pyplot as plt\n",
    "from pathlib import Path\n",
    "import glob\n",
    "import random\n",
    "from monai.apps.auto3dseg import AutoRunner\n",
    "from monai.config import print_config\n",
    "from mri_preproc.paths import hemond_data, init_paths\n",
    "import importlib\n",
    "from dataclasses import asdict\n",
    "\n",
    "print_config()"
   ]
  },
  {
   "cell_type": "code",
   "execution_count": 27,
   "id": "074f8700",
   "metadata": {},
   "outputs": [
    {
     "data": {
      "text/plain": [
       "<module 'mri_preproc.paths.hemond_data' from '/home/hemondlab/Dev/ms_mri/mri_preproc/paths/hemond_data.py'>"
      ]
     },
     "execution_count": 27,
     "metadata": {},
     "output_type": "execute_result"
    }
   ],
   "source": [
    "init_paths.main()\n",
    "importlib.reload(hemond_data)"
   ]
  },
  {
   "cell_type": "code",
   "execution_count": 28,
   "id": "ed066e89",
   "metadata": {},
   "outputs": [
    {
     "data": {
      "text/plain": [
       "'/home/hemondlab/Dev/ms_mri/monai_analysis/CLN1'"
      ]
     },
     "execution_count": 28,
     "metadata": {},
     "output_type": "execute_result"
    }
   ],
   "source": [
    "cwd = os.getcwd()\n",
    "cwd"
   ]
  },
  {
   "cell_type": "markdown",
   "id": "9757d709-c563-4082-a369-c08f07ed3fbf",
   "metadata": {},
   "source": [
    "## Prep the database\n",
    "\n",
    "Get the data and labels organized"
   ]
  },
  {
   "cell_type": "code",
   "execution_count": 29,
   "id": "e8009ba8",
   "metadata": {},
   "outputs": [],
   "source": [
    "dataroot = \"/home/hemondlab/3Tpioneer_bids\"\n",
    "work_dir = \"/home/hemondlab/Dev/ms_mri/training_work_dirs/cp_work_dir_CLN1\"\n",
    "dataset = hemond_data.scan_3Tpioneer_bids(dataroot, \"flair\", \"CLN_NL_1\")\n",
    "omit_subs = []"
   ]
  },
  {
   "cell_type": "code",
   "execution_count": 30,
   "id": "7a60eef3",
   "metadata": {},
   "outputs": [
    {
     "name": "stdout",
     "output_type": "stream",
     "text": [
      "43 labeled scans\n"
     ]
    }
   ],
   "source": [
    "dataset = [data for data in dataset if data.label is not None and data.subid not in omit_subs]\n",
    "print(f\"{len(dataset)} labeled scans\")"
   ]
  },
  {
   "cell_type": "code",
   "execution_count": 31,
   "id": "8aa87222",
   "metadata": {},
   "outputs": [
    {
     "data": {
      "text/plain": [
       "Scan(subid='ms1278', date='20181209', root=PosixPath('/home/hemondlab/3Tpioneer_bids/sub-ms1278/ses-20181209'), image=PosixPath('/home/hemondlab/3Tpioneer_bids/sub-ms1278/ses-20181209/flair.nii.gz'), label=PosixPath('/home/hemondlab/3Tpioneer_bids/sub-ms1278/ses-20181209/CLN_NL_1.nii.gz'), cond='tr')"
      ]
     },
     "execution_count": 31,
     "metadata": {},
     "output_type": "execute_result"
    }
   ],
   "source": [
    "test_frac = 0.08\n",
    "dataset = hemond_data.assign_conditions(dataset, test_frac)\n",
    "dataset[1]"
   ]
  },
  {
   "cell_type": "markdown",
   "id": "77c3d4ba-a4ee-46f9-bbef-73bea3f1e1f4",
   "metadata": {},
   "source": [
    "## Review"
   ]
  },
  {
   "cell_type": "code",
   "execution_count": 32,
   "id": "2fb4c306-d08a-4205-b701-49e362e87bdd",
   "metadata": {
    "tags": []
   },
   "outputs": [],
   "source": [
    "def display_slices(scan):\n",
    "    img1 = nibabel.load(scan.image)\n",
    "    img2 = nibabel.load(scan.label)\n",
    "\n",
    "    data1 = img1.get_fdata()[:,:,:]\n",
    "    data2 = img2.get_fdata()\n",
    "\n",
    "    slice_sums = np.sum(data2, axis=(0, 1))\n",
    "    \n",
    "    print(slice_sums)\n",
    "\n",
    "    max_slice_index = np.argmax(slice_sums)\n",
    "    print(f\"Max slice: {max_slice_index}\")\n",
    "\n",
    "    slice1 = data1[:, :, max_slice_index]\n",
    "    slice2 = data2[:, :, max_slice_index]    \n",
    "\n",
    "    plt.figure(figsize=(10, 5))\n",
    "    plt.subplot(1, 2, 1)\n",
    "    plt.imshow(slice1, cmap='gray')\n",
    "    plt.title(f\"Image 1 - Slice {max_slice_index}\")\n",
    "    plt.axis('off')\n",
    "\n",
    "    plt.subplot(1, 2, 2)\n",
    "    plt.imshow(slice2, cmap='gray')\n",
    "    plt.title(f\"Image 2 - Slice {max_slice_index}\")\n",
    "    plt.axis('off')\n",
    "    plt.show()\n"
   ]
  },
  {
   "cell_type": "code",
   "execution_count": 33,
   "id": "012dccd4",
   "metadata": {},
   "outputs": [],
   "source": [
    "img2 = nibabel.load(dataset[0].label)\n",
    "data2 = img2.get_fdata()"
   ]
  },
  {
   "cell_type": "code",
   "execution_count": 34,
   "id": "0a062717-42d3-4a72-aa99-f3e0cb3994e6",
   "metadata": {
    "tags": []
   },
   "outputs": [
    {
     "name": "stdout",
     "output_type": "stream",
     "text": [
      "[  0.   0.   0.   0.   0.   0.   0.   0.   0.   0.   0.   0.   0.   0.\n",
      "   0.   0.   0.   0.   0.   0.   0.   0.   0.   0.   0.   0.   0.   0.\n",
      "   0.   0.   0.   0.   0.   0.   0.   0.   0.   0.   0.   0.  13.  22.\n",
      "  28.  74. 111. 158. 222. 282. 337. 392. 430. 435. 440. 431. 416. 401.\n",
      " 366. 326. 309. 282. 246. 203. 166. 123.  62.  20.   0.   0.   0.   0.\n",
      "   0.   0.   0.   0.   0.   0.   0.   0.   0.   0.   0.   0.   0.   0.\n",
      "   0.   0.   0.   0.   0.   0.   0.   0.   0.   0.   0.   0.   0.   0.\n",
      "   0.   0.   0.   0.   0.   0.   0.   0.   0.   0.   0.   0.   0.   0.\n",
      "   0.   0.   0.   0.   0.   0.   0.   0.   0.   0.   0.   0.   0.   0.\n",
      "   0.   0.   0.   0.   0.   0.   0.   0.   0.   0.   0.   0.   0.   0.\n",
      "   0.   0.   0.   0.   0.   0.   0.   0.   0.   0.   0.   0.   0.   0.\n",
      "   0.   0.   0.   0.   0.   0.   0.   0.   0.   0.   0.   0.   0.   0.\n",
      "   0.   0.   0.   0.   0.   0.   0.   0.   0.   0.   0.   0.   0.   0.\n",
      "   0.   0.   0.   0.   0.   0.   0.   0.   0.   0.   0.   0.   0.   0.\n",
      "   0.   0.   0.   0.   0.   0.   0.   0.   0.   0.   0.   0.   0.   0.\n",
      "   0.   0.   0.   0.   0.   0.   0.   0.   0.   0.   0.   0.   0.   0.\n",
      "   0.   0.   0.   0.   0.   0.   0.   0.   0.   0.   0.   0.   0.   0.\n",
      "   0.   0.   0.   0.   0.   0.   0.   0.   0.   0.   0.   0.   0.   0.\n",
      "   0.   0.   0.   0.   0.   0.   0.   0.   0.   0.   0.   0.   0.   0.\n",
      "   0.   0.   0.   0.   0.   0.   0.   0.   0.   0.   0.   0.   0.   0.\n",
      "   0.   0.   0.   0.   0.   0.   0.   0.   0.   0.   0.   0.   0.   0.\n",
      "   0.   0.   0.   0.   0.   0.]\n",
      "Max slice: 52\n"
     ]
    },
    {
     "data": {
      "image/png": "[encoded data removed]",
      "text/plain": [
       "<Figure size 1000x500 with 2 Axes>"
      ]
     },
     "metadata": {},
     "output_type": "display_data"
    }
   ],
   "source": [
    "display_slices(dataset[20])"
   ]
  },
  {
   "cell_type": "code",
   "execution_count": 35,
   "id": "1126595e-b5f8-439b-ac08-cee9c5460e1f",
   "metadata": {
    "tags": []
   },
   "outputs": [
    {
     "name": "stdout",
     "output_type": "stream",
     "text": [
      "Train num total: 40\n",
      "Test num: 3\n"
     ]
    }
   ],
   "source": [
    "train_data = []\n",
    "test_data = []\n",
    "for scan in dataset:\n",
    "    if scan.cond == 'tr' and scan.has_label():\n",
    "        train_data.append({\"image\": str(scan.image), \"label\": str(scan.label)})\n",
    "    elif scan.cond == 'ts' and scan.has_label():\n",
    "        test_data.append({\"image\": str(scan.image), \"label\": str(scan.label)})\n",
    "\n",
    "\n",
    "print(f\"Train num total: {len(train_data)}\")\n",
    "print(f\"Test num: {len(test_data)}\")"
   ]
  },
  {
   "cell_type": "code",
   "execution_count": 36,
   "id": "5a9debf7-a89b-455b-a14d-826971e603d3",
   "metadata": {
    "tags": []
   },
   "outputs": [],
   "source": [
    "n_folds = 5\n",
    "datalist = {\n",
    "    \"testing\": test_data,\n",
    "    \"training\": [{\"fold\": i % n_folds, \"image\": c[\"image\"], \"label\": c[\"label\"]} for i,c in enumerate(train_data)]\n",
    "}"
   ]
  },
  {
   "cell_type": "code",
   "execution_count": 37,
   "id": "aaf29874",
   "metadata": {},
   "outputs": [
    {
     "data": {
      "text/plain": [
       "{'testing': [{'image': '/home/hemondlab/3Tpioneer_bids/sub-ms1453/ses-20170428/flair.nii.gz',\n",
       "   'label': '/home/hemondlab/3Tpioneer_bids/sub-ms1453/ses-20170428/CLN_NL_1.nii.gz'},\n",
       "  {'image': '/home/hemondlab/3Tpioneer_bids/sub-ms1436/ses-20190830/flair.nii.gz',\n",
       "   'label': '/home/hemondlab/3Tpioneer_bids/sub-ms1436/ses-20190830/CLN_NL_1.nii.gz'},\n",
       "  {'image': '/home/hemondlab/3Tpioneer_bids/sub-ms1326/ses-20180720/flair.nii.gz',\n",
       "   'label': '/home/hemondlab/3Tpioneer_bids/sub-ms1326/ses-20180720/CLN_NL_1.nii.gz'}],\n",
       " 'training': [{'fold': 0,\n",
       "   'image': '/home/hemondlab/3Tpioneer_bids/sub-ms1278/ses-20180527/flair.nii.gz',\n",
       "   'label': '/home/hemondlab/3Tpioneer_bids/sub-ms1278/ses-20180527/CLN_NL_1.nii.gz'},\n",
       "  {'fold': 1,\n",
       "   'image': '/home/hemondlab/3Tpioneer_bids/sub-ms1278/ses-20181209/flair.nii.gz',\n",
       "   'label': '/home/hemondlab/3Tpioneer_bids/sub-ms1278/ses-20181209/CLN_NL_1.nii.gz'},\n",
       "  {'fold': 2,\n",
       "   'image': '/home/hemondlab/3Tpioneer_bids/sub-ms1012/ses-20200610/flair.nii.gz',\n",
       "   'label': '/home/hemondlab/3Tpioneer_bids/sub-ms1012/ses-20200610/CLN_NL_1.nii.gz'},\n",
       "  {'fold': 3,\n",
       "   'image': '/home/hemondlab/3Tpioneer_bids/sub-ms1012/ses-20190903/flair.nii.gz',\n",
       "   'label': '/home/hemondlab/3Tpioneer_bids/sub-ms1012/ses-20190903/CLN_NL_1.nii.gz'},\n",
       "  {'fold': 4,\n",
       "   'image': '/home/hemondlab/3Tpioneer_bids/sub-ms1300/ses-20190115/flair.nii.gz',\n",
       "   'label': '/home/hemondlab/3Tpioneer_bids/sub-ms1300/ses-20190115/CLN_NL_1.nii.gz'},\n",
       "  {'fold': 0,\n",
       "   'image': '/home/hemondlab/3Tpioneer_bids/sub-ms1300/ses-20191030/flair.nii.gz',\n",
       "   'label': '/home/hemondlab/3Tpioneer_bids/sub-ms1300/ses-20191030/CLN_NL_1.nii.gz'},\n",
       "  {'fold': 1,\n",
       "   'image': '/home/hemondlab/3Tpioneer_bids/sub-ms1388/ses-20180917/flair.nii.gz',\n",
       "   'label': '/home/hemondlab/3Tpioneer_bids/sub-ms1388/ses-20180917/CLN_NL_1.nii.gz'},\n",
       "  {'fold': 2,\n",
       "   'image': '/home/hemondlab/3Tpioneer_bids/sub-ms1388/ses-20190622/flair.nii.gz',\n",
       "   'label': '/home/hemondlab/3Tpioneer_bids/sub-ms1388/ses-20190622/CLN_NL_1.nii.gz'},\n",
       "  {'fold': 3,\n",
       "   'image': '/home/hemondlab/3Tpioneer_bids/sub-ms1015/ses-20210830/flair.nii.gz',\n",
       "   'label': '/home/hemondlab/3Tpioneer_bids/sub-ms1015/ses-20210830/CLN_NL_1.nii.gz'},\n",
       "  {'fold': 4,\n",
       "   'image': '/home/hemondlab/3Tpioneer_bids/sub-ms1015/ses-20200827/flair.nii.gz',\n",
       "   'label': '/home/hemondlab/3Tpioneer_bids/sub-ms1015/ses-20200827/CLN_NL_1.nii.gz'},\n",
       "  {'fold': 0,\n",
       "   'image': '/home/hemondlab/3Tpioneer_bids/sub-ms1072/ses-20180615/flair.nii.gz',\n",
       "   'label': '/home/hemondlab/3Tpioneer_bids/sub-ms1072/ses-20180615/CLN_NL_1.nii.gz'},\n",
       "  {'fold': 1,\n",
       "   'image': '/home/hemondlab/3Tpioneer_bids/sub-ms1072/ses-20190504/flair.nii.gz',\n",
       "   'label': '/home/hemondlab/3Tpioneer_bids/sub-ms1072/ses-20190504/CLN_NL_1.nii.gz'},\n",
       "  {'fold': 2,\n",
       "   'image': '/home/hemondlab/3Tpioneer_bids/sub-ms1020/ses-20190428/flair.nii.gz',\n",
       "   'label': '/home/hemondlab/3Tpioneer_bids/sub-ms1020/ses-20190428/CLN_NL_1.nii.gz'},\n",
       "  {'fold': 3,\n",
       "   'image': '/home/hemondlab/3Tpioneer_bids/sub-ms1536/ses-20181212/flair.nii.gz',\n",
       "   'label': '/home/hemondlab/3Tpioneer_bids/sub-ms1536/ses-20181212/CLN_NL_1.nii.gz'},\n",
       "  {'fold': 4,\n",
       "   'image': '/home/hemondlab/3Tpioneer_bids/sub-ms1536/ses-20191013/flair.nii.gz',\n",
       "   'label': '/home/hemondlab/3Tpioneer_bids/sub-ms1536/ses-20191013/CLN_NL_1.nii.gz'},\n",
       "  {'fold': 0,\n",
       "   'image': '/home/hemondlab/3Tpioneer_bids/sub-ms1038/ses-20190816/flair.nii.gz',\n",
       "   'label': '/home/hemondlab/3Tpioneer_bids/sub-ms1038/ses-20190816/CLN_NL_1.nii.gz'},\n",
       "  {'fold': 1,\n",
       "   'image': '/home/hemondlab/3Tpioneer_bids/sub-ms1271/ses-20200503/flair.nii.gz',\n",
       "   'label': '/home/hemondlab/3Tpioneer_bids/sub-ms1271/ses-20200503/CLN_NL_1.nii.gz'},\n",
       "  {'fold': 2,\n",
       "   'image': '/home/hemondlab/3Tpioneer_bids/sub-ms1271/ses-20210104/flair.nii.gz',\n",
       "   'label': '/home/hemondlab/3Tpioneer_bids/sub-ms1271/ses-20210104/CLN_NL_1.nii.gz'},\n",
       "  {'fold': 3,\n",
       "   'image': '/home/hemondlab/3Tpioneer_bids/sub-ms1453/ses-20160916/flair.nii.gz',\n",
       "   'label': '/home/hemondlab/3Tpioneer_bids/sub-ms1453/ses-20160916/CLN_NL_1.nii.gz'},\n",
       "  {'fold': 4,\n",
       "   'image': '/home/hemondlab/3Tpioneer_bids/sub-ms1357/ses-20210218/flair.nii.gz',\n",
       "   'label': '/home/hemondlab/3Tpioneer_bids/sub-ms1357/ses-20210218/CLN_NL_1.nii.gz'},\n",
       "  {'fold': 0,\n",
       "   'image': '/home/hemondlab/3Tpioneer_bids/sub-ms1357/ses-20211129/flair.nii.gz',\n",
       "   'label': '/home/hemondlab/3Tpioneer_bids/sub-ms1357/ses-20211129/CLN_NL_1.nii.gz'},\n",
       "  {'fold': 1,\n",
       "   'image': '/home/hemondlab/3Tpioneer_bids/sub-ms1023/ses-20190915/flair.nii.gz',\n",
       "   'label': '/home/hemondlab/3Tpioneer_bids/sub-ms1023/ses-20190915/CLN_NL_1.nii.gz'},\n",
       "  {'fold': 2,\n",
       "   'image': '/home/hemondlab/3Tpioneer_bids/sub-ms1023/ses-20180922/flair.nii.gz',\n",
       "   'label': '/home/hemondlab/3Tpioneer_bids/sub-ms1023/ses-20180922/CLN_NL_1.nii.gz'},\n",
       "  {'fold': 3,\n",
       "   'image': '/home/hemondlab/3Tpioneer_bids/sub-ms1309/ses-20200709/flair.nii.gz',\n",
       "   'label': '/home/hemondlab/3Tpioneer_bids/sub-ms1309/ses-20200709/CLN_NL_1.nii.gz'},\n",
       "  {'fold': 4,\n",
       "   'image': '/home/hemondlab/3Tpioneer_bids/sub-ms1495/ses-20160918/flair.nii.gz',\n",
       "   'label': '/home/hemondlab/3Tpioneer_bids/sub-ms1495/ses-20160918/CLN_NL_1.nii.gz'},\n",
       "  {'fold': 0,\n",
       "   'image': '/home/hemondlab/3Tpioneer_bids/sub-ms1495/ses-20170410/flair.nii.gz',\n",
       "   'label': '/home/hemondlab/3Tpioneer_bids/sub-ms1495/ses-20170410/CLN_NL_1.nii.gz'},\n",
       "  {'fold': 1,\n",
       "   'image': '/home/hemondlab/3Tpioneer_bids/sub-ms1228/ses-20170616/flair.nii.gz',\n",
       "   'label': '/home/hemondlab/3Tpioneer_bids/sub-ms1228/ses-20170616/CLN_NL_1.nii.gz'},\n",
       "  {'fold': 2,\n",
       "   'image': '/home/hemondlab/3Tpioneer_bids/sub-ms1228/ses-20171231/flair.nii.gz',\n",
       "   'label': '/home/hemondlab/3Tpioneer_bids/sub-ms1228/ses-20171231/CLN_NL_1.nii.gz'},\n",
       "  {'fold': 3,\n",
       "   'image': '/home/hemondlab/3Tpioneer_bids/sub-ms1436/ses-20181102/flair.nii.gz',\n",
       "   'label': '/home/hemondlab/3Tpioneer_bids/sub-ms1436/ses-20181102/CLN_NL_1.nii.gz'},\n",
       "  {'fold': 4,\n",
       "   'image': '/home/hemondlab/3Tpioneer_bids/sub-ms1468/ses-20210723/flair.nii.gz',\n",
       "   'label': '/home/hemondlab/3Tpioneer_bids/sub-ms1468/ses-20210723/CLN_NL_1.nii.gz'},\n",
       "  {'fold': 0,\n",
       "   'image': '/home/hemondlab/3Tpioneer_bids/sub-ms1468/ses-20220319/flair.nii.gz',\n",
       "   'label': '/home/hemondlab/3Tpioneer_bids/sub-ms1468/ses-20220319/CLN_NL_1.nii.gz'},\n",
       "  {'fold': 1,\n",
       "   'image': '/home/hemondlab/3Tpioneer_bids/sub-ms1365/ses-20201026/flair.nii.gz',\n",
       "   'label': '/home/hemondlab/3Tpioneer_bids/sub-ms1365/ses-20201026/CLN_NL_1.nii.gz'},\n",
       "  {'fold': 2,\n",
       "   'image': '/home/hemondlab/3Tpioneer_bids/sub-ms1365/ses-20190909/flair.nii.gz',\n",
       "   'label': '/home/hemondlab/3Tpioneer_bids/sub-ms1365/ses-20190909/CLN_NL_1.nii.gz'},\n",
       "  {'fold': 3,\n",
       "   'image': '/home/hemondlab/3Tpioneer_bids/sub-ms1289/ses-20200821/flair.nii.gz',\n",
       "   'label': '/home/hemondlab/3Tpioneer_bids/sub-ms1289/ses-20200821/CLN_NL_1.nii.gz'},\n",
       "  {'fold': 4,\n",
       "   'image': '/home/hemondlab/3Tpioneer_bids/sub-ms1289/ses-20210222/flair.nii.gz',\n",
       "   'label': '/home/hemondlab/3Tpioneer_bids/sub-ms1289/ses-20210222/CLN_NL_1.nii.gz'},\n",
       "  {'fold': 0,\n",
       "   'image': '/home/hemondlab/3Tpioneer_bids/sub-ms1053/ses-20171211/flair.nii.gz',\n",
       "   'label': '/home/hemondlab/3Tpioneer_bids/sub-ms1053/ses-20171211/CLN_NL_1.nii.gz'},\n",
       "  {'fold': 1,\n",
       "   'image': '/home/hemondlab/3Tpioneer_bids/sub-ms1247/ses-20200826/flair.nii.gz',\n",
       "   'label': '/home/hemondlab/3Tpioneer_bids/sub-ms1247/ses-20200826/CLN_NL_1.nii.gz'},\n",
       "  {'fold': 2,\n",
       "   'image': '/home/hemondlab/3Tpioneer_bids/sub-ms1247/ses-20190905/flair.nii.gz',\n",
       "   'label': '/home/hemondlab/3Tpioneer_bids/sub-ms1247/ses-20190905/CLN_NL_1.nii.gz'},\n",
       "  {'fold': 3,\n",
       "   'image': '/home/hemondlab/3Tpioneer_bids/sub-ms1417/ses-20170701/flair.nii.gz',\n",
       "   'label': '/home/hemondlab/3Tpioneer_bids/sub-ms1417/ses-20170701/CLN_NL_1.nii.gz'},\n",
       "  {'fold': 4,\n",
       "   'image': '/home/hemondlab/3Tpioneer_bids/sub-ms1417/ses-20180716/flair.nii.gz',\n",
       "   'label': '/home/hemondlab/3Tpioneer_bids/sub-ms1417/ses-20180716/CLN_NL_1.nii.gz'}]}"
      ]
     },
     "execution_count": 37,
     "metadata": {},
     "output_type": "execute_result"
    }
   ],
   "source": [
    "datalist_file = os.path.join(cwd, \"datalist.json\")\n",
    "with open(datalist_file, 'w') as f:\n",
    "    json.dump(datalist, f, indent=4)\n",
    "datalist"
   ]
  },
  {
   "cell_type": "code",
   "execution_count": 42,
   "id": "79e79f57-8c40-4bf0-b588-d8bada8bc9b6",
   "metadata": {
    "tags": []
   },
   "outputs": [],
   "source": [
    "# work_dir = \"/home/hemondlab/Dev/ms_mri/training_work_dirs/cp_work_dir6\"\n",
    "if not os.path.isdir(work_dir):\n",
    "    os.makedirs(work_dir)\n",
    "\n",
    "datalist_file = os.path.join(work_dir, \"datalist.json\")\n",
    "with open(datalist_file, \"w\") as f:\n",
    "    json.dump(datalist, f)"
   ]
  },
  {
   "cell_type": "code",
   "execution_count": 43,
   "id": "7c65f5fa-6ec7-4974-b90f-a51cc70263e8",
   "metadata": {
    "tags": []
   },
   "outputs": [
    {
     "name": "stdout",
     "output_type": "stream",
     "text": [
      "2024-09-04 16:08:49,831 - INFO - AutoRunner using work directory /home/hemondlab/Dev/ms_mri/training_work_dirs/cp_work_dir_CLN1\n",
      "2024-09-04 16:08:49,832 - INFO - Found num_fold 5 based on the input datalist /home/hemondlab/Dev/ms_mri/training_work_dirs/cp_work_dir_CLN1/datalist.json.\n",
      "2024-09-04 16:08:49,833 - INFO - Setting num_fold 5 based on the input datalist /home/hemondlab/Dev/ms_mri/training_work_dirs/cp_work_dir_CLN1/datalist.json.\n",
      "2024-09-04 16:08:49,833 - INFO - Using user defined command running prefix , will override other settings\n"
     ]
    }
   ],
   "source": [
    "runner = AutoRunner(\n",
    "    work_dir=work_dir,\n",
    "    algos=[\"swinunetr\"],\n",
    "    input={\n",
    "        \"modality\": \"MRI\",\n",
    "        \"datalist\": datalist_file,\n",
    "        \"dataroot\": dataroot,\n",
    "    },\n",
    ")"
   ]
  },
  {
   "cell_type": "code",
   "execution_count": 44,
   "id": "56e52e9b-1b75-4807-91cb-267d9f4f5a67",
   "metadata": {
    "tags": []
   },
   "outputs": [
    {
     "data": {
      "text/plain": [
       "<monai.apps.auto3dseg.auto_runner.AutoRunner at 0x78b998e2a180>"
      ]
     },
     "execution_count": 44,
     "metadata": {},
     "output_type": "execute_result"
    }
   ],
   "source": [
    "max_epochs = 100\n",
    "\n",
    "train_param = {\n",
    "    \"num_epochs_per_validation\": 1,\n",
    "    #\"num_images_per_batch\": 2,\n",
    "    \"num_epochs\": max_epochs,\n",
    "    \"num_warmup_epochs\": 1,\n",
    "}\n",
    "runner.set_training_params(train_param)"
   ]
  },
  {
   "cell_type": "code",
   "execution_count": 45,
   "id": "c96c07cb-67cf-4c1e-86c2-9258f7cabde6",
   "metadata": {
    "tags": []
   },
   "outputs": [
    {
     "name": "stdout",
     "output_type": "stream",
     "text": [
      "2024-09-04 16:08:52,883 - INFO - Running data analysis...\n",
      "2024-09-04 16:08:52,884 - INFO - Found 1 GPUs for data analyzing!\n"
     ]
    },
    {
     "name": "stderr",
     "output_type": "stream",
     "text": [
      "100%|██████████| 40/40 [00:17<00:00,  2.34it/s]"
     ]
    },
    {
     "name": "stdout",
     "output_type": "stream",
     "text": [
      "2024-09-04 16:09:10,001 - INFO - Data spacing is not completely uniform. MONAI transforms may provide unexpected result\n",
      "2024-09-04 16:09:10,001 - INFO - Writing data stats to /home/hemondlab/Dev/ms_mri/training_work_dirs/cp_work_dir_CLN1/datastats.yaml.\n",
      "2024-09-04 16:09:10,006 - INFO - Writing by-case data stats to /home/hemondlab/Dev/ms_mri/training_work_dirs/cp_work_dir_CLN1/datastats_by_case.yaml, this may take a while.\n",
      "2024-09-04 16:09:10,097 - INFO - BundleGen from https://github.com/Project-MONAI/research-contributions/releases/download/algo_templates/e4cf5a1.tar.gz\n"
     ]
    },
    {
     "name": "stderr",
     "output_type": "stream",
     "text": [
      "\n",
      "algo_templates.tar.gz: 104kB [00:00, 457kB/s]                              "
     ]
    },
    {
     "name": "stdout",
     "output_type": "stream",
     "text": [
      "2024-09-04 16:09:10,332 - INFO - Downloaded: /tmp/tmpw5po50dw/algo_templates.tar.gz\n",
      "2024-09-04 16:09:10,333 - INFO - Expected md5 is None, skip md5 check for file /tmp/tmpw5po50dw/algo_templates.tar.gz.\n",
      "2024-09-04 16:09:10,333 - INFO - Writing into directory: /home/hemondlab/Dev/ms_mri/training_work_dirs/cp_work_dir_CLN1.\n",
      "2024-09-04 16:09:10,373 - INFO - Generated:/home/hemondlab/Dev/ms_mri/training_work_dirs/cp_work_dir_CLN1/swinunetr_0\n",
      "2024-09-04 16:09:10,397 - INFO - Generated:/home/hemondlab/Dev/ms_mri/training_work_dirs/cp_work_dir_CLN1/swinunetr_1\n",
      "2024-09-04 16:09:10,422 - INFO - Generated:/home/hemondlab/Dev/ms_mri/training_work_dirs/cp_work_dir_CLN1/swinunetr_2\n",
      "2024-09-04 16:09:10,446 - INFO - Generated:/home/hemondlab/Dev/ms_mri/training_work_dirs/cp_work_dir_CLN1/swinunetr_3\n",
      "2024-09-04 16:09:10,470 - INFO - Generated:/home/hemondlab/Dev/ms_mri/training_work_dirs/cp_work_dir_CLN1/swinunetr_4\n",
      "2024-09-04 16:09:10,490 - INFO - ['python', '/home/hemondlab/Dev/ms_mri/training_work_dirs/cp_work_dir_CLN1/swinunetr_0/scripts/train.py', 'run', \"--config_file='/home/hemondlab/Dev/ms_mri/training_work_dirs/cp_work_dir_CLN1/swinunetr_0/configs/hyper_parameters.yaml,/home/hemondlab/Dev/ms_mri/training_work_dirs/cp_work_dir_CLN1/swinunetr_0/configs/network.yaml,/home/hemondlab/Dev/ms_mri/training_work_dirs/cp_work_dir_CLN1/swinunetr_0/configs/transforms_infer.yaml,/home/hemondlab/Dev/ms_mri/training_work_dirs/cp_work_dir_CLN1/swinunetr_0/configs/transforms_train.yaml,/home/hemondlab/Dev/ms_mri/training_work_dirs/cp_work_dir_CLN1/swinunetr_0/configs/transforms_validate.yaml'\", '--num_epochs_per_validation=1', '--num_epochs=100', '--num_warmup_epochs=1']\n"
     ]
    },
    {
     "name": "stderr",
     "output_type": "stream",
     "text": [
      "\n"
     ]
    },
    {
     "name": "stdout",
     "output_type": "stream",
     "text": [
      "2024-09-04 16:09:16,109 - INFO - Downloaded: /home/hemondlab/Dev/ms_mri/training_work_dirs/cp_work_dir_CLN1/swinunetr_0/pretrained_model/swin_unetr.base_5000ep_f48_lr2e-4_pretrained.pt\n",
      "2024-09-04 16:09:16,109 - INFO - Expected md5 is None, skip md5 check for file /home/hemondlab/Dev/ms_mri/training_work_dirs/cp_work_dir_CLN1/swinunetr_0/pretrained_model/swin_unetr.base_5000ep_f48_lr2e-4_pretrained.pt.\n"
     ]
    },
    {
     "name": "stderr",
     "output_type": "stream",
     "text": [
      "2024/09/04 16:09:16 INFO mlflow.tracking.fluent: Experiment with name 'Auto3DSeg' does not exist. Creating a new experiment.\n",
      "swinunetr_0 - training ...:  78%|███████▊  | 78/100 [1:00:19<17:00, 46.40s/round]\n",
      "2024-09-04 17:14:12,997 - WARNING - swinunetr_0 - training: finished with early stop\n"
     ]
    },
    {
     "name": "stdout",
     "output_type": "stream",
     "text": [
      "2024-09-04 17:14:14,320 - INFO - ['python', '/home/hemondlab/Dev/ms_mri/training_work_dirs/cp_work_dir_CLN1/swinunetr_1/scripts/train.py', 'run', \"--config_file='/home/hemondlab/Dev/ms_mri/training_work_dirs/cp_work_dir_CLN1/swinunetr_1/configs/hyper_parameters.yaml,/home/hemondlab/Dev/ms_mri/training_work_dirs/cp_work_dir_CLN1/swinunetr_1/configs/network.yaml,/home/hemondlab/Dev/ms_mri/training_work_dirs/cp_work_dir_CLN1/swinunetr_1/configs/transforms_infer.yaml,/home/hemondlab/Dev/ms_mri/training_work_dirs/cp_work_dir_CLN1/swinunetr_1/configs/transforms_train.yaml,/home/hemondlab/Dev/ms_mri/training_work_dirs/cp_work_dir_CLN1/swinunetr_1/configs/transforms_validate.yaml'\", '--num_epochs_per_validation=1', '--num_epochs=100', '--num_warmup_epochs=1']\n",
      "2024-09-04 17:14:26,597 - INFO - Downloaded: /home/hemondlab/Dev/ms_mri/training_work_dirs/cp_work_dir_CLN1/swinunetr_1/pretrained_model/swin_unetr.base_5000ep_f48_lr2e-4_pretrained.pt\n",
      "2024-09-04 17:14:26,597 - INFO - Expected md5 is None, skip md5 check for file /home/hemondlab/Dev/ms_mri/training_work_dirs/cp_work_dir_CLN1/swinunetr_1/pretrained_model/swin_unetr.base_5000ep_f48_lr2e-4_pretrained.pt.\n"
     ]
    },
    {
     "name": "stderr",
     "output_type": "stream",
     "text": [
      "2024/09/04 17:14:26 INFO mlflow.tracking.fluent: Experiment with name 'Auto3DSeg' does not exist. Creating a new experiment.\n",
      "swinunetr_1 - training ...:  74%|███████▍  | 74/100 [53:33<18:49, 43.43s/round]  \n",
      "2024-09-04 18:12:55,785 - WARNING - swinunetr_1 - training: finished with early stop\n"
     ]
    },
    {
     "name": "stdout",
     "output_type": "stream",
     "text": [
      "2024-09-04 18:12:56,742 - INFO - ['python', '/home/hemondlab/Dev/ms_mri/training_work_dirs/cp_work_dir_CLN1/swinunetr_2/scripts/train.py', 'run', \"--config_file='/home/hemondlab/Dev/ms_mri/training_work_dirs/cp_work_dir_CLN1/swinunetr_2/configs/hyper_parameters.yaml,/home/hemondlab/Dev/ms_mri/training_work_dirs/cp_work_dir_CLN1/swinunetr_2/configs/network.yaml,/home/hemondlab/Dev/ms_mri/training_work_dirs/cp_work_dir_CLN1/swinunetr_2/configs/transforms_infer.yaml,/home/hemondlab/Dev/ms_mri/training_work_dirs/cp_work_dir_CLN1/swinunetr_2/configs/transforms_train.yaml,/home/hemondlab/Dev/ms_mri/training_work_dirs/cp_work_dir_CLN1/swinunetr_2/configs/transforms_validate.yaml'\", '--num_epochs_per_validation=1', '--num_epochs=100', '--num_warmup_epochs=1']\n",
      "2024-09-04 18:13:02,286 - INFO - Downloaded: /home/hemondlab/Dev/ms_mri/training_work_dirs/cp_work_dir_CLN1/swinunetr_2/pretrained_model/swin_unetr.base_5000ep_f48_lr2e-4_pretrained.pt\n",
      "2024-09-04 18:13:02,286 - INFO - Expected md5 is None, skip md5 check for file /home/hemondlab/Dev/ms_mri/training_work_dirs/cp_work_dir_CLN1/swinunetr_2/pretrained_model/swin_unetr.base_5000ep_f48_lr2e-4_pretrained.pt.\n"
     ]
    },
    {
     "name": "stderr",
     "output_type": "stream",
     "text": [
      "2024/09/04 18:13:02 INFO mlflow.tracking.fluent: Experiment with name 'Auto3DSeg' does not exist. Creating a new experiment.\n",
      "swinunetr_2 - training ...:  83%|████████▎ | 83/100 [1:06:22<13:35, 47.98s/round]\n",
      "2024-09-04 19:24:11,689 - WARNING - swinunetr_2 - training: finished with early stop\n"
     ]
    },
    {
     "name": "stdout",
     "output_type": "stream",
     "text": [
      "2024-09-04 19:24:12,636 - INFO - ['python', '/home/hemondlab/Dev/ms_mri/training_work_dirs/cp_work_dir_CLN1/swinunetr_3/scripts/train.py', 'run', \"--config_file='/home/hemondlab/Dev/ms_mri/training_work_dirs/cp_work_dir_CLN1/swinunetr_3/configs/hyper_parameters.yaml,/home/hemondlab/Dev/ms_mri/training_work_dirs/cp_work_dir_CLN1/swinunetr_3/configs/network.yaml,/home/hemondlab/Dev/ms_mri/training_work_dirs/cp_work_dir_CLN1/swinunetr_3/configs/transforms_infer.yaml,/home/hemondlab/Dev/ms_mri/training_work_dirs/cp_work_dir_CLN1/swinunetr_3/configs/transforms_train.yaml,/home/hemondlab/Dev/ms_mri/training_work_dirs/cp_work_dir_CLN1/swinunetr_3/configs/transforms_validate.yaml'\", '--num_epochs_per_validation=1', '--num_epochs=100', '--num_warmup_epochs=1']\n",
      "2024-09-04 19:24:17,744 - INFO - Downloaded: /home/hemondlab/Dev/ms_mri/training_work_dirs/cp_work_dir_CLN1/swinunetr_3/pretrained_model/swin_unetr.base_5000ep_f48_lr2e-4_pretrained.pt\n",
      "2024-09-04 19:24:17,744 - INFO - Expected md5 is None, skip md5 check for file /home/hemondlab/Dev/ms_mri/training_work_dirs/cp_work_dir_CLN1/swinunetr_3/pretrained_model/swin_unetr.base_5000ep_f48_lr2e-4_pretrained.pt.\n"
     ]
    },
    {
     "name": "stderr",
     "output_type": "stream",
     "text": [
      "2024/09/04 19:24:17 INFO mlflow.tracking.fluent: Experiment with name 'Auto3DSeg' does not exist. Creating a new experiment.\n",
      "swinunetr_3 - training ...:  97%|█████████▋| 97/100 [1:26:05<02:39, 53.25s/round]\n",
      "2024-09-04 20:55:08,485 - WARNING - swinunetr_3 - training: finished with early stop\n"
     ]
    },
    {
     "name": "stdout",
     "output_type": "stream",
     "text": [
      "2024-09-04 20:55:09,440 - INFO - ['python', '/home/hemondlab/Dev/ms_mri/training_work_dirs/cp_work_dir_CLN1/swinunetr_4/scripts/train.py', 'run', \"--config_file='/home/hemondlab/Dev/ms_mri/training_work_dirs/cp_work_dir_CLN1/swinunetr_4/configs/hyper_parameters.yaml,/home/hemondlab/Dev/ms_mri/training_work_dirs/cp_work_dir_CLN1/swinunetr_4/configs/network.yaml,/home/hemondlab/Dev/ms_mri/training_work_dirs/cp_work_dir_CLN1/swinunetr_4/configs/transforms_infer.yaml,/home/hemondlab/Dev/ms_mri/training_work_dirs/cp_work_dir_CLN1/swinunetr_4/configs/transforms_train.yaml,/home/hemondlab/Dev/ms_mri/training_work_dirs/cp_work_dir_CLN1/swinunetr_4/configs/transforms_validate.yaml'\", '--num_epochs_per_validation=1', '--num_epochs=100', '--num_warmup_epochs=1']\n",
      "2024-09-04 20:55:14,912 - INFO - Downloaded: /home/hemondlab/Dev/ms_mri/training_work_dirs/cp_work_dir_CLN1/swinunetr_4/pretrained_model/swin_unetr.base_5000ep_f48_lr2e-4_pretrained.pt\n",
      "2024-09-04 20:55:14,912 - INFO - Expected md5 is None, skip md5 check for file /home/hemondlab/Dev/ms_mri/training_work_dirs/cp_work_dir_CLN1/swinunetr_4/pretrained_model/swin_unetr.base_5000ep_f48_lr2e-4_pretrained.pt.\n"
     ]
    },
    {
     "name": "stderr",
     "output_type": "stream",
     "text": [
      "2024/09/04 20:55:15 INFO mlflow.tracking.fluent: Experiment with name 'Auto3DSeg' does not exist. Creating a new experiment.\n",
      "swinunetr_4 - training ...:  76%|███████▌  | 76/100 [56:25<17:49, 44.55s/round]  \n",
      "2024-09-04 21:56:18,652 - WARNING - swinunetr_4 - training: finished with early stop\n"
     ]
    },
    {
     "name": "stdout",
     "output_type": "stream",
     "text": [
      "2024-09-04 21:56:19,601 - INFO - Ensembling using single GPU!\n",
      "2024-09-04 21:56:19,601 - INFO - The output_dir is not specified. /home/hemondlab/Dev/ms_mri/training_work_dirs/cp_work_dir_CLN1/ensemble_output will be used to save ensemble predictions.\n",
      "2024-09-04 21:56:19,602 - INFO - Directory /home/hemondlab/Dev/ms_mri/training_work_dirs/cp_work_dir_CLN1/ensemble_output is created to save ensemble predictions\n",
      "2024-09-04 21:56:19,629 - INFO - Auto3Dseg picked the following networks to ensemble:\n",
      "2024-09-04 21:56:19,629 - INFO - swinunetr_0\n",
      "2024-09-04 21:56:19,630 - INFO - swinunetr_1\n",
      "2024-09-04 21:56:19,630 - INFO - swinunetr_2\n",
      "2024-09-04 21:56:19,630 - INFO - swinunetr_3\n",
      "2024-09-04 21:56:19,630 - INFO - swinunetr_4\n",
      "2024-09-04 21:56:19,630 - INFO - Auto3Dseg ensemble prediction outputs will be saved in /home/hemondlab/Dev/ms_mri/training_work_dirs/cp_work_dir_CLN1/ensemble_output.\n"
     ]
    },
    {
     "name": "stderr",
     "output_type": "stream",
     "text": [
      "Ensembling (rank 0)...: 100%|██████████| 3/3 [08:53<00:00, 177.67s/it]\n",
      "2024-09-04 22:05:12,642 - INFO - Auto3Dseg pipeline is completed successfully.\n"
     ]
    }
   ],
   "source": [
    "runner.run()"
   ]
  },
  {
   "cell_type": "code",
   "execution_count": 30,
   "id": "fd9d8084",
   "metadata": {},
   "outputs": [
    {
     "data": {
      "text/plain": [
       "{'fold': 3,\n",
       " 'image': '/mnt/h/3Tpioneer_bids/sub-ms1196/ses-20161004/t1.nii.gz',\n",
       " 'label': '/mnt/h/3Tpioneer_bids/sub-ms1196/ses-20161004/pituitary.nii.gz'}"
      ]
     },
     "execution_count": 30,
     "metadata": {},
     "output_type": "execute_result"
    }
   ],
   "source": [
    "datalist['training'][48]"
   ]
  },
  {
   "cell_type": "code",
   "execution_count": 29,
   "id": "5340f6e5",
   "metadata": {},
   "outputs": [],
   "source": [
    "scan_path = \"/mnt/t/Data/3Tpioneer_bids/sub-ms1001/ses-20170215/proc/lesion_index.t3m20-mni_reg.nii.gz\"\n",
    "img = nib.load(scan_path)\n"
   ]
  }
 ],
 "metadata": {
  "kernelspec": {
   "display_name": "Python 3 (ipykernel)",
   "language": "python",
   "name": "python3"
  },
  "language_info": {
   "codemirror_mode": {
    "name": "ipython",
    "version": 3
   },
   "file_extension": ".py",
   "mimetype": "text/x-python",
   "name": "python",
   "nbconvert_exporter": "python",
   "pygments_lexer": "ipython3",
   "version": "3.12.4"
  }
 },
 "nbformat": 4,
 "nbformat_minor": 5
}
