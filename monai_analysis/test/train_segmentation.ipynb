{
 "cells": [
  {
   "cell_type": "markdown",
   "id": "6b5ef0d0-d80a-49f6-93dd-50dd79b06345",
   "metadata": {
    "tags": []
   },
   "source": [
    "# Choroid Plexus Segmentation Training via Auto3DSeg"
   ]
  },
  {
   "cell_type": "code",
   "execution_count": 1,
   "id": "447dcb1b-ab8f-43b9-9439-d703a0881dc7",
   "metadata": {
    "tags": []
   },
   "outputs": [
    {
     "name": "stderr",
     "output_type": "stream",
     "text": [
      "/home/srs-9/.virtualenvs/monai/lib/python3.12/site-packages/ignite/handlers/checkpoint.py:17: DeprecationWarning: `TorchScript` support for functional optimizers is deprecated and will be removed in a future PyTorch release. Consider using the `torch.compile` optimizer instead.\n",
      "  from torch.distributed.optim import ZeroRedundancyOptimizer\n"
     ]
    },
    {
     "name": "stdout",
     "output_type": "stream",
     "text": [
      "MONAI version: 1.3.2\n",
      "Numpy version: 1.26.4\n",
      "Pytorch version: 2.4.0+cu121\n",
      "MONAI flags: HAS_EXT = False, USE_COMPILED = False, USE_META_DICT = False\n",
      "MONAI rev id: 59a7211070538586369afd4a01eca0a7fe2e742e\n",
      "MONAI __file__: /home/<username>/.virtualenvs/monai/lib/python3.12/site-packages/monai/__init__.py\n",
      "\n",
      "Optional dependencies:\n",
      "Pytorch Ignite version: 0.4.11\n",
      "ITK version: 5.4.0\n",
      "Nibabel version: 5.2.1\n",
      "scikit-image version: 0.24.0\n",
      "scipy version: 1.14.0\n",
      "Pillow version: 10.4.0\n",
      "Tensorboard version: 2.17.0\n",
      "gdown version: 5.2.0\n",
      "TorchVision version: 0.19.0+cu121\n",
      "tqdm version: 4.66.4\n",
      "lmdb version: 1.5.1\n",
      "psutil version: 6.0.0\n",
      "pandas version: 2.2.2\n",
      "einops version: 0.8.0\n",
      "transformers version: 4.43.3\n",
      "mlflow version: 2.15.0\n",
      "pynrrd version: 1.0.0\n",
      "clearml version: 1.16.2\n",
      "\n",
      "For details about installing the optional dependencies, please visit:\n",
      "    https://docs.monai.io/en/latest/installation.html#installing-the-recommended-dependencies\n",
      "\n"
     ]
    }
   ],
   "source": [
    "import os\n",
    "import json\n",
    "import nibabel as nib\n",
    "import numpy as np\n",
    "import matplotlib.pyplot as plt\n",
    "from pathlib import Path\n",
    "import glob\n",
    "import random\n",
    "import platform\n",
    "from monai.apps.auto3dseg import AutoRunner\n",
    "from monai.config import print_config\n",
    "import importlib\n",
    "from dataclasses import asdict\n",
    "from loguru import logger\n",
    "import sys\n",
    "\n",
    "from reload_recursive import reload_recursive\n",
    "\n",
    "import mri_data\n",
    "import monai_training\n",
    "\n",
    "print_config()"
   ]
  },
  {
   "cell_type": "code",
   "execution_count": 2,
   "id": "1c1d3f18",
   "metadata": {},
   "outputs": [],
   "source": [
    "reload_recursive(monai_training)\n",
    "reload_recursive(mri_data)\n",
    "\n",
    "from mri_data.file_manager import scan_3Tpioneer_bids, filter_first_ses\n",
    "from monai_training.preprocess import DataSetProcesser\n",
    "from monai_training import training, preprocess"
   ]
  },
  {
   "cell_type": "code",
   "execution_count": 3,
   "id": "0d11d154",
   "metadata": {},
   "outputs": [
    {
     "data": {
      "text/plain": [
       "1"
      ]
     },
     "execution_count": 3,
     "metadata": {},
     "output_type": "execute_result"
    }
   ],
   "source": [
    "logger.remove()\n",
    "logger.add(sys.stderr, level=\"DEBUG\")"
   ]
  },
  {
   "cell_type": "code",
   "execution_count": 4,
   "id": "b91fa2ec",
   "metadata": {},
   "outputs": [],
   "source": [
    "load_data = True"
   ]
  },
  {
   "cell_type": "code",
   "execution_count": 5,
   "id": "074f8700",
   "metadata": {},
   "outputs": [],
   "source": [
    "hostname = platform.node()\n",
    "if hostname == \"rhinocampus\" or hostname == \"ryzen9\":\n",
    "    drive_root = Path(\"/media/smbshare\")\n",
    "else:\n",
    "    drive_root = Path(\"/mnt/h\")\n",
    "\n",
    "projects_root = Path(\"/home/srs-9/Projects\")\n",
    "msmri_home = projects_root / \"ms_mri\"\n",
    "training_work_dirs = msmri_home / \"training_work_dirs\"\n",
    "\n",
    "dataroot = drive_root / \"3Tpioneer_bids\"\n",
    "work_dir_name = \"test\"\n",
    "work_dir = training_work_dirs / work_dir_name\n",
    "modalities = [\"flair\", \"t1\"]\n",
    "labels = [\"choroid_t1_flair\"]"
   ]
  },
  {
   "cell_type": "markdown",
   "id": "9757d709-c563-4082-a369-c08f07ed3fbf",
   "metadata": {},
   "source": [
    "## Prep the database\n",
    "\n",
    "Get the data and labels organized"
   ]
  },
  {
   "cell_type": "code",
   "execution_count": 6,
   "id": "42027e1d",
   "metadata": {},
   "outputs": [
    {
     "name": "stderr",
     "output_type": "stream",
     "text": [
      "\u001b[32m2024-11-05 20:20:03.943\u001b[0m | \u001b[1mINFO    \u001b[0m | \u001b[36mmonai_training.preprocess\u001b[0m:\u001b[36mparse_datalist\u001b[0m:\u001b[36m282\u001b[0m - \u001b[1mLoading /home/srs-9/Projects/ms_mri/training_work_dirs/test/datalist.json\u001b[0m\n",
      "\u001b[32m2024-11-05 20:20:03.944\u001b[0m | \u001b[1mINFO    \u001b[0m | \u001b[36mmonai_training.preprocess\u001b[0m:\u001b[36mparse_datalist\u001b[0m:\u001b[36m283\u001b[0m - \u001b[1m/home/srs-9/Projects/ms_mri/training_work_dirs/test/datalist.json exists: True\u001b[0m\n"
     ]
    }
   ],
   "source": [
    "if load_data:\n",
    "    datalist_file = os.path.join(work_dir, \"datalist.json\")\n",
    "    with open(datalist_file, 'r') as f:\n",
    "        datalist = json.load(f)\n",
    "\n",
    "    dataset = preprocess.parse_datalist(datalist_file, dataroot)"
   ]
  },
  {
   "cell_type": "code",
   "execution_count": 7,
   "id": "50f7d327",
   "metadata": {},
   "outputs": [
    {
     "name": "stdout",
     "output_type": "stream",
     "text": [
      "[1010, 1011, 1019, 1033, 1065, 1080, 1109, 1119, 1163, 1188, 1191, 1234, 1259, 1265, 1272, 1280, 1293, 1321, 1355, 1437, 1486, 1498, 1518, 1547, 1548, 2081, 2083, 2144]\n"
     ]
    }
   ],
   "source": [
    "subs = sorted([int(scan.subid) for scan in dataset])\n",
    "print(subs)"
   ]
  },
  {
   "cell_type": "code",
   "execution_count": 8,
   "id": "e8009ba8",
   "metadata": {},
   "outputs": [],
   "source": [
    "if not load_data:\n",
    "    dataset_proc = DataSetProcesser.new_dataset(dataroot, scan_3Tpioneer_bids, filters=[filter_first_ses])\n",
    "    dataset_proc.prepare_images(modalities)\n",
    "    dataset_proc.prepare_labels(labels, suffix_list=[\"CH\", \"SRS\", \"ED\", \"DT\"])\n",
    "\n",
    "    dataset = dataset_proc.dataset\n",
    "    dataset.sort()"
   ]
  },
  {
   "cell_type": "code",
   "execution_count": 9,
   "id": "919cf630",
   "metadata": {},
   "outputs": [],
   "source": [
    "if not load_data:\n",
    "    dataset = training.assign_conditions(dataset, 0.2)\n",
    "    dataset[0]"
   ]
  },
  {
   "cell_type": "code",
   "execution_count": 10,
   "id": "8ee1ba2f-45f9-4d11-b1b3-8af676954fe7",
   "metadata": {
    "tags": []
   },
   "outputs": [],
   "source": [
    "if not load_data:\n",
    "    training_data = []\n",
    "    test_data = []\n",
    "\n",
    "    for scan in dataset:\n",
    "        if scan.cond == 'tr':\n",
    "            training_data.append({\"image\": scan.image, \"label\": scan.label})\n",
    "        elif scan.cond == 'ts':\n",
    "            test_data.append(scan.image)"
   ]
  },
  {
   "cell_type": "markdown",
   "id": "77c3d4ba-a4ee-46f9-bbef-73bea3f1e1f4",
   "metadata": {},
   "source": [
    "## Review"
   ]
  },
  {
   "cell_type": "code",
   "execution_count": 11,
   "id": "2fb4c306-d08a-4205-b701-49e362e87bdd",
   "metadata": {
    "tags": []
   },
   "outputs": [],
   "source": [
    "def display_slices(scan):\n",
    "    img1 = nib.load(scan.image_path)\n",
    "    img2 = nib.load(scan.label_path)\n",
    "\n",
    "    data1 = img1.get_fdata()[:,:,:]\n",
    "    data2 = img2.get_fdata()\n",
    "\n",
    "    slice_sums = np.sum(data2, axis=(0, 1))\n",
    "    \n",
    "    print(slice_sums)\n",
    "\n",
    "    max_slice_index = np.argmax(slice_sums)\n",
    "    print(f\"Max slice: {max_slice_index}\")\n",
    "\n",
    "    slice1 = data1[:, :, max_slice_index]\n",
    "    slice2 = data2[:, :, max_slice_index]    \n",
    "\n",
    "    plt.figure(figsize=(10, 5))\n",
    "    plt.subplot(1, 2, 1)\n",
    "    plt.imshow(slice1, cmap='gray')\n",
    "    plt.title(f\"Image 1 - Slice {max_slice_index}\")\n",
    "    plt.axis('off')\n",
    "\n",
    "    plt.subplot(1, 2, 2)\n",
    "    plt.imshow(slice2, cmap='gray')\n",
    "    plt.title(f\"Image 2 - Slice {max_slice_index}\")\n",
    "    plt.axis('off')\n",
    "    plt.show()\n"
   ]
  },
  {
   "cell_type": "code",
   "execution_count": 12,
   "id": "0a062717-42d3-4a72-aa99-f3e0cb3994e6",
   "metadata": {
    "tags": []
   },
   "outputs": [],
   "source": [
    "# display_slices(dataset[20])"
   ]
  },
  {
   "cell_type": "markdown",
   "id": "64151db1",
   "metadata": {},
   "source": [
    "In the original code, they include labels in the test data as well. Also they have a function that checks that there is nonzero number of voxels in the label"
   ]
  },
  {
   "cell_type": "code",
   "execution_count": 13,
   "id": "1126595e-b5f8-439b-ac08-cee9c5460e1f",
   "metadata": {
    "tags": []
   },
   "outputs": [],
   "source": [
    "#? I don't know why they put labels for the test data. the brats segmentation code didn't.\n",
    "# train_data = [{'image': path + '/flair.nii.gz', 'label': path + '/flair_chp_mask_qced.nii.gz'} for path in train_exams]\n",
    "# test_data = [{'image': path + '/flair.nii.gz', 'label': path + '/flair_chp_mask_qced.nii.gz'} for path in test_exams]\n",
    "if not load_data:\n",
    "    train_data = []\n",
    "    test_data = []\n",
    "    for scan in dataset:\n",
    "        if scan.cond == 'tr' and scan.has_label:\n",
    "            train_data.append({\"image\": str(scan.image_path), \"label\": str(scan.label_path)})\n",
    "        elif scan.cond == 'ts' and scan.has_label():\n",
    "            test_data.append({\"image\": str(scan.image_path), \"label\": str(scan.label_path)})\n",
    "\n",
    "\n",
    "    print(f\"Train num total: {len(train_data)}\")\n",
    "    print(f\"Test num: {len(test_data)}\")"
   ]
  },
  {
   "cell_type": "markdown",
   "id": "9729ad71",
   "metadata": {},
   "source": [
    "Create and save datalist"
   ]
  },
  {
   "cell_type": "code",
   "execution_count": 14,
   "id": "5a9debf7-a89b-455b-a14d-826971e603d3",
   "metadata": {
    "tags": []
   },
   "outputs": [],
   "source": [
    "if not load_data:\n",
    "    n_folds = 5\n",
    "    datalist = {\n",
    "        \"testing\": test_data,\n",
    "        \"training\": [{\"fold\": i % n_folds, \"image\": c[\"image\"], \"label\": c[\"label\"]} for i,c in enumerate(train_data)]\n",
    "    }\n",
    "\n",
    "    if not os.path.isdir(work_dir):\n",
    "        os.makedirs(work_dir)\n",
    "\n",
    "    # dataroot_dir = \"/mnt/h\"\n",
    "    # if not os.path.isdir(dataroot_dir):\n",
    "    #     os.makedirs(dataroot_dir)\n",
    "\n",
    "    datalist_file = os.path.join(work_dir, \"datalist.json\")\n",
    "    with open(datalist_file, \"w\") as f:\n",
    "        json.dump(datalist, f)"
   ]
  },
  {
   "cell_type": "markdown",
   "id": "5f86d2e5",
   "metadata": {},
   "source": [
    "Load datalist"
   ]
  },
  {
   "cell_type": "code",
   "execution_count": 15,
   "id": "aaf29874",
   "metadata": {},
   "outputs": [
    {
     "data": {
      "text/plain": [
       "[{'image': '/mnt/h/3Tpioneer_bids/sub-ms1109/ses-20180303/flair.t1.nii.gz',\n",
       "  'label': '/mnt/h/3Tpioneer_bids/sub-ms1109/ses-20180303/choroid_t1_flair.nii.gz'},\n",
       " {'image': '/mnt/h/3Tpioneer_bids/sub-ms1119/ses-20161010/flair.t1.nii.gz',\n",
       "  'label': '/mnt/h/3Tpioneer_bids/sub-ms1119/ses-20161010/choroid_t1_flair.nii.gz'},\n",
       " {'image': '/mnt/h/3Tpioneer_bids/sub-ms1163/ses-20180907/flair.t1.nii.gz',\n",
       "  'label': '/mnt/h/3Tpioneer_bids/sub-ms1163/ses-20180907/choroid_t1_flair.nii.gz'},\n",
       " {'image': '/mnt/h/3Tpioneer_bids/sub-ms1191/ses-20190124/flair.t1.nii.gz',\n",
       "  'label': '/mnt/h/3Tpioneer_bids/sub-ms1191/ses-20190124/choroid_t1_flair.nii.gz'},\n",
       " {'image': '/mnt/h/3Tpioneer_bids/sub-ms1355/ses-20210104/flair.t1.nii.gz',\n",
       "  'label': '/mnt/h/3Tpioneer_bids/sub-ms1355/ses-20210104/choroid_t1_flair.nii.gz'}]"
      ]
     },
     "execution_count": 15,
     "metadata": {},
     "output_type": "execute_result"
    }
   ],
   "source": [
    "datalist['testing']"
   ]
  },
  {
   "cell_type": "code",
   "execution_count": 16,
   "id": "039466a5",
   "metadata": {},
   "outputs": [
    {
     "ename": "OSError",
     "evalue": "[Errno 19] No such device: '/mnt/h/3Tpioneer_bids/sub-ms1010/ses-20180208/flair.t1.nii.gz'",
     "output_type": "error",
     "traceback": [
      "\u001b[0;31m---------------------------------------------------------------------------\u001b[0m",
      "\u001b[0;31mOSError\u001b[0m                                   Traceback (most recent call last)",
      "Cell \u001b[0;32mIn[16], line 4\u001b[0m\n\u001b[1;32m      2\u001b[0m missing_labels \u001b[38;5;241m=\u001b[39m []\n\u001b[1;32m      3\u001b[0m \u001b[38;5;28;01mfor\u001b[39;00m scan \u001b[38;5;129;01min\u001b[39;00m dataset:\n\u001b[0;32m----> 4\u001b[0m     \u001b[38;5;28;01mif\u001b[39;00m \u001b[38;5;129;01mnot\u001b[39;00m \u001b[43mscan\u001b[49m\u001b[38;5;241;43m.\u001b[39;49m\u001b[43mimage_path\u001b[49m\u001b[38;5;241;43m.\u001b[39;49m\u001b[43mis_file\u001b[49m\u001b[43m(\u001b[49m\u001b[43m)\u001b[49m:\n\u001b[1;32m      5\u001b[0m         missing_images\u001b[38;5;241m.\u001b[39mappend(scan\u001b[38;5;241m.\u001b[39mimage_path)\n\u001b[1;32m      6\u001b[0m     \u001b[38;5;28;01mif\u001b[39;00m \u001b[38;5;129;01mnot\u001b[39;00m scan\u001b[38;5;241m.\u001b[39mlabel_path\u001b[38;5;241m.\u001b[39mis_file():\n",
      "File \u001b[0;32m~/.asdf/installs/python/3.12.4/lib/python3.12/pathlib.py:892\u001b[0m, in \u001b[0;36mPath.is_file\u001b[0;34m(self)\u001b[0m\n\u001b[1;32m    887\u001b[0m \u001b[38;5;250m\u001b[39m\u001b[38;5;124;03m\"\"\"\u001b[39;00m\n\u001b[1;32m    888\u001b[0m \u001b[38;5;124;03mWhether this path is a regular file (also True for symlinks pointing\u001b[39;00m\n\u001b[1;32m    889\u001b[0m \u001b[38;5;124;03mto regular files).\u001b[39;00m\n\u001b[1;32m    890\u001b[0m \u001b[38;5;124;03m\"\"\"\u001b[39;00m\n\u001b[1;32m    891\u001b[0m \u001b[38;5;28;01mtry\u001b[39;00m:\n\u001b[0;32m--> 892\u001b[0m     \u001b[38;5;28;01mreturn\u001b[39;00m S_ISREG(\u001b[38;5;28;43mself\u001b[39;49m\u001b[38;5;241;43m.\u001b[39;49m\u001b[43mstat\u001b[49m\u001b[43m(\u001b[49m\u001b[43m)\u001b[49m\u001b[38;5;241m.\u001b[39mst_mode)\n\u001b[1;32m    893\u001b[0m \u001b[38;5;28;01mexcept\u001b[39;00m \u001b[38;5;167;01mOSError\u001b[39;00m \u001b[38;5;28;01mas\u001b[39;00m e:\n\u001b[1;32m    894\u001b[0m     \u001b[38;5;28;01mif\u001b[39;00m \u001b[38;5;129;01mnot\u001b[39;00m _ignore_error(e):\n",
      "File \u001b[0;32m~/.asdf/installs/python/3.12.4/lib/python3.12/pathlib.py:840\u001b[0m, in \u001b[0;36mPath.stat\u001b[0;34m(self, follow_symlinks)\u001b[0m\n\u001b[1;32m    835\u001b[0m \u001b[38;5;28;01mdef\u001b[39;00m \u001b[38;5;21mstat\u001b[39m(\u001b[38;5;28mself\u001b[39m, \u001b[38;5;241m*\u001b[39m, follow_symlinks\u001b[38;5;241m=\u001b[39m\u001b[38;5;28;01mTrue\u001b[39;00m):\n\u001b[1;32m    836\u001b[0m \u001b[38;5;250m    \u001b[39m\u001b[38;5;124;03m\"\"\"\u001b[39;00m\n\u001b[1;32m    837\u001b[0m \u001b[38;5;124;03m    Return the result of the stat() system call on this path, like\u001b[39;00m\n\u001b[1;32m    838\u001b[0m \u001b[38;5;124;03m    os.stat() does.\u001b[39;00m\n\u001b[1;32m    839\u001b[0m \u001b[38;5;124;03m    \"\"\"\u001b[39;00m\n\u001b[0;32m--> 840\u001b[0m     \u001b[38;5;28;01mreturn\u001b[39;00m \u001b[43mos\u001b[49m\u001b[38;5;241;43m.\u001b[39;49m\u001b[43mstat\u001b[49m\u001b[43m(\u001b[49m\u001b[38;5;28;43mself\u001b[39;49m\u001b[43m,\u001b[49m\u001b[43m \u001b[49m\u001b[43mfollow_symlinks\u001b[49m\u001b[38;5;241;43m=\u001b[39;49m\u001b[43mfollow_symlinks\u001b[49m\u001b[43m)\u001b[49m\n",
      "\u001b[0;31mOSError\u001b[0m: [Errno 19] No such device: '/mnt/h/3Tpioneer_bids/sub-ms1010/ses-20180208/flair.t1.nii.gz'"
     ]
    }
   ],
   "source": [
    "missing_images = []\n",
    "missing_labels = []\n",
    "for scan in dataset:\n",
    "    if not scan.image_path.is_file():\n",
    "        missing_images.append(scan.image_path)\n",
    "    if not scan.label_path.is_file():\n",
    "        missing_images.append(scan.label_path)\n",
    "print(missing_images)\n",
    "print(missing_labels)"
   ]
  },
  {
   "cell_type": "code",
   "execution_count": 17,
   "id": "7c65f5fa-6ec7-4974-b90f-a51cc70263e8",
   "metadata": {
    "tags": []
   },
   "outputs": [
    {
     "name": "stdout",
     "output_type": "stream",
     "text": [
      "2024-11-05 20:20:35,965 - INFO - AutoRunner using work directory /home/srs-9/Projects/ms_mri/training_work_dirs/test\n",
      "2024-11-05 20:20:35,970 - INFO - Found num_fold 5 based on the input datalist /home/srs-9/Projects/ms_mri/training_work_dirs/test/datalist.json.\n",
      "2024-11-05 20:20:35,971 - INFO - Setting num_fold 5 based on the input datalist /home/srs-9/Projects/ms_mri/training_work_dirs/test/datalist.json.\n",
      "2024-11-05 20:20:35,984 - INFO - Using user defined command running prefix , will override other settings\n"
     ]
    }
   ],
   "source": [
    "runner = AutoRunner(\n",
    "    work_dir=work_dir,\n",
    "    algos=[\"swinunetr\"],\n",
    "    input={\n",
    "        \"modality\": \"MRI\",\n",
    "        \"datalist\": str(datalist_file),\n",
    "        \"dataroot\": str(dataroot),\n",
    "    },\n",
    ")"
   ]
  },
  {
   "cell_type": "code",
   "execution_count": 18,
   "id": "56e52e9b-1b75-4807-91cb-267d9f4f5a67",
   "metadata": {
    "tags": []
   },
   "outputs": [
    {
     "data": {
      "text/plain": [
       "<monai.apps.auto3dseg.auto_runner.AutoRunner at 0x7fc58d654cb0>"
      ]
     },
     "execution_count": 18,
     "metadata": {},
     "output_type": "execute_result"
    }
   ],
   "source": [
    "max_epochs = 100\n",
    "\n",
    "train_param = {\n",
    "    \"num_epochs_per_validation\": 1,\n",
    "    #\"num_images_per_batch\": 2,\n",
    "    \"num_epochs\": max_epochs,\n",
    "    \"num_warmup_epochs\": 1,\n",
    "}\n",
    "runner.set_training_params(train_param)"
   ]
  },
  {
   "cell_type": "code",
   "execution_count": 20,
   "id": "c96c07cb-67cf-4c1e-86c2-9258f7cabde6",
   "metadata": {
    "tags": []
   },
   "outputs": [
    {
     "name": "stdout",
     "output_type": "stream",
     "text": [
      "2024-11-05 20:25:44,637 - INFO - Running data analysis...\n",
      "2024-11-05 20:25:44,640 - INFO - Found 1 GPUs for data analyzing!\n"
     ]
    },
    {
     "name": "stderr",
     "output_type": "stream",
     "text": [
      "File /home/srs-9/Projects/ms_mri/training_work_dirs/test/datastats.yaml already exists and will be overwritten.\n",
      "100%|██████████| 23/23 [00:41<00:00,  1.79s/it]"
     ]
    },
    {
     "name": "stdout",
     "output_type": "stream",
     "text": [
      "2024-11-05 20:26:25,869 - INFO - Data spacing is not completely uniform. MONAI transforms may provide unexpected result\n",
      "2024-11-05 20:26:25,870 - INFO - Writing data stats to /home/srs-9/Projects/ms_mri/training_work_dirs/test/datastats.yaml.\n",
      "2024-11-05 20:26:25,877 - INFO - Writing by-case data stats to /home/srs-9/Projects/ms_mri/training_work_dirs/test/datastats_by_case.yaml, this may take a while.\n",
      "2024-11-05 20:26:25,994 - INFO - BundleGen from https://github.com/Project-MONAI/research-contributions/releases/download/algo_templates/e4cf5a1.tar.gz\n"
     ]
    },
    {
     "name": "stderr",
     "output_type": "stream",
     "text": [
      "\n",
      "algo_templates.tar.gz: 104kB [00:00, 273kB/s]                              "
     ]
    },
    {
     "name": "stdout",
     "output_type": "stream",
     "text": [
      "2024-11-05 20:26:26,390 - INFO - Downloaded: /tmp/tmpno1emznr/algo_templates.tar.gz\n",
      "2024-11-05 20:26:26,390 - INFO - Expected md5 is None, skip md5 check for file /tmp/tmpno1emznr/algo_templates.tar.gz.\n",
      "2024-11-05 20:26:26,391 - INFO - Writing into directory: /home/srs-9/Projects/ms_mri/training_work_dirs/test.\n",
      "2024-11-05 20:26:26,476 - INFO - Generated:/home/srs-9/Projects/ms_mri/training_work_dirs/test/swinunetr_0\n",
      "2024-11-05 20:26:26,515 - INFO - Generated:/home/srs-9/Projects/ms_mri/training_work_dirs/test/swinunetr_1\n",
      "2024-11-05 20:26:26,553 - INFO - Generated:/home/srs-9/Projects/ms_mri/training_work_dirs/test/swinunetr_2\n"
     ]
    },
    {
     "name": "stderr",
     "output_type": "stream",
     "text": [
      "\n"
     ]
    },
    {
     "name": "stdout",
     "output_type": "stream",
     "text": [
      "2024-11-05 20:26:26,593 - INFO - Generated:/home/srs-9/Projects/ms_mri/training_work_dirs/test/swinunetr_3\n",
      "2024-11-05 20:26:26,636 - INFO - Generated:/home/srs-9/Projects/ms_mri/training_work_dirs/test/swinunetr_4\n",
      "2024-11-05 20:26:26,665 - INFO - ['python', '/home/srs-9/Projects/ms_mri/training_work_dirs/test/swinunetr_0/scripts/train.py', 'run', \"--config_file='/home/srs-9/Projects/ms_mri/training_work_dirs/test/swinunetr_0/configs/hyper_parameters.yaml,/home/srs-9/Projects/ms_mri/training_work_dirs/test/swinunetr_0/configs/network.yaml,/home/srs-9/Projects/ms_mri/training_work_dirs/test/swinunetr_0/configs/transforms_infer.yaml,/home/srs-9/Projects/ms_mri/training_work_dirs/test/swinunetr_0/configs/transforms_train.yaml,/home/srs-9/Projects/ms_mri/training_work_dirs/test/swinunetr_0/configs/transforms_validate.yaml'\", '--num_epochs_per_validation=1', '--num_epochs=100', '--num_warmup_epochs=1']\n"
     ]
    },
    {
     "name": "stderr",
     "output_type": "stream",
     "text": [
      "/home/srs-9/.virtualenvs/monai/lib/python3.12/site-packages/ignite/handlers/checkpoint.py:17: DeprecationWarning: `TorchScript` support for functional optimizers is deprecated and will be removed in a future PyTorch release. Consider using the `torch.compile` optimizer instead.\n",
      "  from torch.distributed.optim import ZeroRedundancyOptimizer\n",
      "monai.networks.nets.swin_unetr SwinUNETR.__init__:img_size: Argument `img_size` has been deprecated since version 1.3. It will be removed in version 1.5. The img_size argument is not required anymore and checks on the input size are run during forward().\n"
     ]
    },
    {
     "name": "stdout",
     "output_type": "stream",
     "text": [
      "2024-11-05 20:26:58,166 - INFO - Downloaded: /home/srs-9/Projects/ms_mri/training_work_dirs/test/swinunetr_0/pretrained_model/swin_unetr.base_5000ep_f48_lr2e-4_pretrained.pt\n",
      "2024-11-05 20:26:58,167 - INFO - Expected md5 is None, skip md5 check for file /home/srs-9/Projects/ms_mri/training_work_dirs/test/swinunetr_0/pretrained_model/swin_unetr.base_5000ep_f48_lr2e-4_pretrained.pt.\n"
     ]
    },
    {
     "name": "stderr",
     "output_type": "stream",
     "text": [
      "You are using `torch.load` with `weights_only=False` (the current default value), which uses the default pickle module implicitly. It is possible to construct malicious pickle data which will execute arbitrary code during unpickling (See https://github.com/pytorch/pytorch/blob/main/SECURITY.md#untrusted-models for more details). In a future release, the default value for `weights_only` will be flipped to `True`. This limits the functions that could be executed during unpickling. Arbitrary objects will no longer be allowed to be loaded via this mode unless they are explicitly allowlisted by the user via `torch.serialization.add_safe_globals`. We recommend you start setting `weights_only=True` for any use case where you don't have full control of the loaded file. Please open an issue on GitHub for any issues related to this experimental feature.\n",
      "`torch.cuda.amp.GradScaler(args...)` is deprecated. Please use `torch.amp.GradScaler('cuda', args...)` instead.\n",
      "2024/11/05 20:26:58 INFO mlflow.tracking.fluent: Experiment with name 'Auto3DSeg' does not exist. Creating a new experiment.\n",
      "swinunetr_0 - training ...:   1%|          | 1/100 [00:44<1:13:22, 44.47s/round]"
     ]
    },
    {
     "ename": "KeyboardInterrupt",
     "evalue": "",
     "output_type": "error",
     "traceback": [
      "\u001b[0;31m---------------------------------------------------------------------------\u001b[0m",
      "\u001b[0;31mKeyboardInterrupt\u001b[0m                         Traceback (most recent call last)",
      "Cell \u001b[0;32mIn[20], line 1\u001b[0m\n\u001b[0;32m----> 1\u001b[0m \u001b[43mrunner\u001b[49m\u001b[38;5;241;43m.\u001b[39;49m\u001b[43mrun\u001b[49m\u001b[43m(\u001b[49m\u001b[43m)\u001b[49m\n",
      "File \u001b[0;32m~/.virtualenvs/monai/lib/python3.12/site-packages/monai/apps/auto3dseg/auto_runner.py:878\u001b[0m, in \u001b[0;36mAutoRunner.run\u001b[0;34m(self)\u001b[0m\n\u001b[1;32m    876\u001b[0m \u001b[38;5;28;01mif\u001b[39;00m \u001b[38;5;28mlen\u001b[39m(history) \u001b[38;5;241m>\u001b[39m \u001b[38;5;241m0\u001b[39m:\n\u001b[1;32m    877\u001b[0m     \u001b[38;5;28;01mif\u001b[39;00m \u001b[38;5;129;01mnot\u001b[39;00m \u001b[38;5;28mself\u001b[39m\u001b[38;5;241m.\u001b[39mhpo:\n\u001b[0;32m--> 878\u001b[0m         \u001b[38;5;28;43mself\u001b[39;49m\u001b[38;5;241;43m.\u001b[39;49m\u001b[43m_train_algo_in_sequence\u001b[49m\u001b[43m(\u001b[49m\u001b[43mhistory\u001b[49m\u001b[43m)\u001b[49m\n\u001b[1;32m    879\u001b[0m     \u001b[38;5;28;01melse\u001b[39;00m:\n\u001b[1;32m    880\u001b[0m         \u001b[38;5;28mself\u001b[39m\u001b[38;5;241m.\u001b[39m_train_algo_in_nni(history)\n",
      "File \u001b[0;32m~/.virtualenvs/monai/lib/python3.12/site-packages/monai/apps/auto3dseg/auto_runner.py:728\u001b[0m, in \u001b[0;36mAutoRunner._train_algo_in_sequence\u001b[0;34m(self, history)\u001b[0m\n\u001b[1;32m    726\u001b[0m algo \u001b[38;5;241m=\u001b[39m algo_dict[AlgoKeys\u001b[38;5;241m.\u001b[39mALGO]\n\u001b[1;32m    727\u001b[0m \u001b[38;5;28;01mif\u001b[39;00m has_option(algo\u001b[38;5;241m.\u001b[39mtrain, \u001b[38;5;124m\"\u001b[39m\u001b[38;5;124mdevice_setting\u001b[39m\u001b[38;5;124m\"\u001b[39m):\n\u001b[0;32m--> 728\u001b[0m     \u001b[43malgo\u001b[49m\u001b[38;5;241;43m.\u001b[39;49m\u001b[43mtrain\u001b[49m\u001b[43m(\u001b[49m\u001b[38;5;28;43mself\u001b[39;49m\u001b[38;5;241;43m.\u001b[39;49m\u001b[43mtrain_params\u001b[49m\u001b[43m,\u001b[49m\u001b[43m \u001b[49m\u001b[38;5;28;43mself\u001b[39;49m\u001b[38;5;241;43m.\u001b[39;49m\u001b[43mdevice_setting\u001b[49m\u001b[43m)\u001b[49m\n\u001b[1;32m    729\u001b[0m \u001b[38;5;28;01melse\u001b[39;00m:\n\u001b[1;32m    730\u001b[0m     algo\u001b[38;5;241m.\u001b[39mtrain(\u001b[38;5;28mself\u001b[39m\u001b[38;5;241m.\u001b[39mtrain_params)\n",
      "File \u001b[0;32m~/.virtualenvs/monai/lib/python3.12/site-packages/monai/apps/auto3dseg/bundle_gen.py:300\u001b[0m, in \u001b[0;36mBundleAlgo.train\u001b[0;34m(self, train_params, device_setting)\u001b[0m\n\u001b[1;32m    297\u001b[0m     train_params\u001b[38;5;241m.\u001b[39mpop(\u001b[38;5;124m\"\u001b[39m\u001b[38;5;124mCUDA_VISIBLE_DEVICES\u001b[39m\u001b[38;5;124m\"\u001b[39m)\n\u001b[1;32m    299\u001b[0m cmd, _unused_return \u001b[38;5;241m=\u001b[39m \u001b[38;5;28mself\u001b[39m\u001b[38;5;241m.\u001b[39m_create_cmd(train_params)\n\u001b[0;32m--> 300\u001b[0m \u001b[38;5;28;01mreturn\u001b[39;00m \u001b[38;5;28;43mself\u001b[39;49m\u001b[38;5;241;43m.\u001b[39;49m\u001b[43m_run_cmd\u001b[49m\u001b[43m(\u001b[49m\u001b[43mcmd\u001b[49m\u001b[43m)\u001b[49m\n",
      "File \u001b[0;32m~/.virtualenvs/monai/lib/python3.12/site-packages/monai/apps/auto3dseg/bundle_gen.py:277\u001b[0m, in \u001b[0;36mBundleAlgo._run_cmd\u001b[0;34m(self, cmd, devices_info)\u001b[0m\n\u001b[1;32m    273\u001b[0m     \u001b[38;5;28;01mreturn\u001b[39;00m _run_cmd_torchrun(\n\u001b[1;32m    274\u001b[0m         cmd, nnodes\u001b[38;5;241m=\u001b[39m\u001b[38;5;241m1\u001b[39m, nproc_per_node\u001b[38;5;241m=\u001b[39m\u001b[38;5;28mself\u001b[39m\u001b[38;5;241m.\u001b[39mdevice_setting[\u001b[38;5;124m\"\u001b[39m\u001b[38;5;124mn_devices\u001b[39m\u001b[38;5;124m\"\u001b[39m], env\u001b[38;5;241m=\u001b[39mps_environ, check\u001b[38;5;241m=\u001b[39m\u001b[38;5;28;01mTrue\u001b[39;00m\n\u001b[1;32m    275\u001b[0m     )\n\u001b[1;32m    276\u001b[0m \u001b[38;5;28;01melse\u001b[39;00m:\n\u001b[0;32m--> 277\u001b[0m     \u001b[38;5;28;01mreturn\u001b[39;00m \u001b[43mrun_cmd\u001b[49m\u001b[43m(\u001b[49m\u001b[43mcmd\u001b[49m\u001b[38;5;241;43m.\u001b[39;49m\u001b[43msplit\u001b[49m\u001b[43m(\u001b[49m\u001b[43m)\u001b[49m\u001b[43m,\u001b[49m\u001b[43m \u001b[49m\u001b[43mrun_cmd_verbose\u001b[49m\u001b[38;5;241;43m=\u001b[39;49m\u001b[38;5;28;43;01mTrue\u001b[39;49;00m\u001b[43m,\u001b[49m\u001b[43m \u001b[49m\u001b[43menv\u001b[49m\u001b[38;5;241;43m=\u001b[39;49m\u001b[43mps_environ\u001b[49m\u001b[43m,\u001b[49m\u001b[43m \u001b[49m\u001b[43mcheck\u001b[49m\u001b[38;5;241;43m=\u001b[39;49m\u001b[38;5;28;43;01mTrue\u001b[39;49;00m\u001b[43m)\u001b[49m\n",
      "File \u001b[0;32m~/.virtualenvs/monai/lib/python3.12/site-packages/monai/utils/misc.py:873\u001b[0m, in \u001b[0;36mrun_cmd\u001b[0;34m(cmd_list, **kwargs)\u001b[0m\n\u001b[1;32m    871\u001b[0m     monai\u001b[38;5;241m.\u001b[39mapps\u001b[38;5;241m.\u001b[39mutils\u001b[38;5;241m.\u001b[39mget_logger(\u001b[38;5;124m\"\u001b[39m\u001b[38;5;124mrun_cmd\u001b[39m\u001b[38;5;124m\"\u001b[39m)\u001b[38;5;241m.\u001b[39minfo(\u001b[38;5;124mf\u001b[39m\u001b[38;5;124m\"\u001b[39m\u001b[38;5;132;01m{\u001b[39;00mcmd_list\u001b[38;5;132;01m}\u001b[39;00m\u001b[38;5;124m\"\u001b[39m)\n\u001b[1;32m    872\u001b[0m \u001b[38;5;28;01mtry\u001b[39;00m:\n\u001b[0;32m--> 873\u001b[0m     \u001b[38;5;28;01mreturn\u001b[39;00m \u001b[43msubprocess\u001b[49m\u001b[38;5;241;43m.\u001b[39;49m\u001b[43mrun\u001b[49m\u001b[43m(\u001b[49m\u001b[43mcmd_list\u001b[49m\u001b[43m,\u001b[49m\u001b[43m \u001b[49m\u001b[38;5;241;43m*\u001b[39;49m\u001b[38;5;241;43m*\u001b[39;49m\u001b[43mkwargs\u001b[49m\u001b[43m)\u001b[49m\n\u001b[1;32m    874\u001b[0m \u001b[38;5;28;01mexcept\u001b[39;00m subprocess\u001b[38;5;241m.\u001b[39mCalledProcessError \u001b[38;5;28;01mas\u001b[39;00m e:\n\u001b[1;32m    875\u001b[0m     \u001b[38;5;28;01mif\u001b[39;00m \u001b[38;5;129;01mnot\u001b[39;00m debug:\n",
      "File \u001b[0;32m~/.asdf/installs/python/3.12.4/lib/python3.12/subprocess.py:550\u001b[0m, in \u001b[0;36mrun\u001b[0;34m(input, capture_output, timeout, check, *popenargs, **kwargs)\u001b[0m\n\u001b[1;32m    548\u001b[0m \u001b[38;5;28;01mwith\u001b[39;00m Popen(\u001b[38;5;241m*\u001b[39mpopenargs, \u001b[38;5;241m*\u001b[39m\u001b[38;5;241m*\u001b[39mkwargs) \u001b[38;5;28;01mas\u001b[39;00m process:\n\u001b[1;32m    549\u001b[0m     \u001b[38;5;28;01mtry\u001b[39;00m:\n\u001b[0;32m--> 550\u001b[0m         stdout, stderr \u001b[38;5;241m=\u001b[39m \u001b[43mprocess\u001b[49m\u001b[38;5;241;43m.\u001b[39;49m\u001b[43mcommunicate\u001b[49m\u001b[43m(\u001b[49m\u001b[38;5;28;43minput\u001b[39;49m\u001b[43m,\u001b[49m\u001b[43m \u001b[49m\u001b[43mtimeout\u001b[49m\u001b[38;5;241;43m=\u001b[39;49m\u001b[43mtimeout\u001b[49m\u001b[43m)\u001b[49m\n\u001b[1;32m    551\u001b[0m     \u001b[38;5;28;01mexcept\u001b[39;00m TimeoutExpired \u001b[38;5;28;01mas\u001b[39;00m exc:\n\u001b[1;32m    552\u001b[0m         process\u001b[38;5;241m.\u001b[39mkill()\n",
      "File \u001b[0;32m~/.asdf/installs/python/3.12.4/lib/python3.12/subprocess.py:1201\u001b[0m, in \u001b[0;36mPopen.communicate\u001b[0;34m(self, input, timeout)\u001b[0m\n\u001b[1;32m   1199\u001b[0m         stderr \u001b[38;5;241m=\u001b[39m \u001b[38;5;28mself\u001b[39m\u001b[38;5;241m.\u001b[39mstderr\u001b[38;5;241m.\u001b[39mread()\n\u001b[1;32m   1200\u001b[0m         \u001b[38;5;28mself\u001b[39m\u001b[38;5;241m.\u001b[39mstderr\u001b[38;5;241m.\u001b[39mclose()\n\u001b[0;32m-> 1201\u001b[0m     \u001b[38;5;28;43mself\u001b[39;49m\u001b[38;5;241;43m.\u001b[39;49m\u001b[43mwait\u001b[49m\u001b[43m(\u001b[49m\u001b[43m)\u001b[49m\n\u001b[1;32m   1202\u001b[0m \u001b[38;5;28;01melse\u001b[39;00m:\n\u001b[1;32m   1203\u001b[0m     \u001b[38;5;28;01mif\u001b[39;00m timeout \u001b[38;5;129;01mis\u001b[39;00m \u001b[38;5;129;01mnot\u001b[39;00m \u001b[38;5;28;01mNone\u001b[39;00m:\n",
      "File \u001b[0;32m~/.asdf/installs/python/3.12.4/lib/python3.12/subprocess.py:1264\u001b[0m, in \u001b[0;36mPopen.wait\u001b[0;34m(self, timeout)\u001b[0m\n\u001b[1;32m   1262\u001b[0m     endtime \u001b[38;5;241m=\u001b[39m _time() \u001b[38;5;241m+\u001b[39m timeout\n\u001b[1;32m   1263\u001b[0m \u001b[38;5;28;01mtry\u001b[39;00m:\n\u001b[0;32m-> 1264\u001b[0m     \u001b[38;5;28;01mreturn\u001b[39;00m \u001b[38;5;28;43mself\u001b[39;49m\u001b[38;5;241;43m.\u001b[39;49m\u001b[43m_wait\u001b[49m\u001b[43m(\u001b[49m\u001b[43mtimeout\u001b[49m\u001b[38;5;241;43m=\u001b[39;49m\u001b[43mtimeout\u001b[49m\u001b[43m)\u001b[49m\n\u001b[1;32m   1265\u001b[0m \u001b[38;5;28;01mexcept\u001b[39;00m \u001b[38;5;167;01mKeyboardInterrupt\u001b[39;00m:\n\u001b[1;32m   1266\u001b[0m     \u001b[38;5;66;03m# https://bugs.python.org/issue25942\u001b[39;00m\n\u001b[1;32m   1267\u001b[0m     \u001b[38;5;66;03m# The first keyboard interrupt waits briefly for the child to\u001b[39;00m\n\u001b[1;32m   1268\u001b[0m     \u001b[38;5;66;03m# exit under the common assumption that it also received the ^C\u001b[39;00m\n\u001b[1;32m   1269\u001b[0m     \u001b[38;5;66;03m# generated SIGINT and will exit rapidly.\u001b[39;00m\n\u001b[1;32m   1270\u001b[0m     \u001b[38;5;28;01mif\u001b[39;00m timeout \u001b[38;5;129;01mis\u001b[39;00m \u001b[38;5;129;01mnot\u001b[39;00m \u001b[38;5;28;01mNone\u001b[39;00m:\n",
      "File \u001b[0;32m~/.asdf/installs/python/3.12.4/lib/python3.12/subprocess.py:2053\u001b[0m, in \u001b[0;36mPopen._wait\u001b[0;34m(self, timeout)\u001b[0m\n\u001b[1;32m   2051\u001b[0m \u001b[38;5;28;01mif\u001b[39;00m \u001b[38;5;28mself\u001b[39m\u001b[38;5;241m.\u001b[39mreturncode \u001b[38;5;129;01mis\u001b[39;00m \u001b[38;5;129;01mnot\u001b[39;00m \u001b[38;5;28;01mNone\u001b[39;00m:\n\u001b[1;32m   2052\u001b[0m     \u001b[38;5;28;01mbreak\u001b[39;00m  \u001b[38;5;66;03m# Another thread waited.\u001b[39;00m\n\u001b[0;32m-> 2053\u001b[0m (pid, sts) \u001b[38;5;241m=\u001b[39m \u001b[38;5;28;43mself\u001b[39;49m\u001b[38;5;241;43m.\u001b[39;49m\u001b[43m_try_wait\u001b[49m\u001b[43m(\u001b[49m\u001b[38;5;241;43m0\u001b[39;49m\u001b[43m)\u001b[49m\n\u001b[1;32m   2054\u001b[0m \u001b[38;5;66;03m# Check the pid and loop as waitpid has been known to\u001b[39;00m\n\u001b[1;32m   2055\u001b[0m \u001b[38;5;66;03m# return 0 even without WNOHANG in odd situations.\u001b[39;00m\n\u001b[1;32m   2056\u001b[0m \u001b[38;5;66;03m# http://bugs.python.org/issue14396.\u001b[39;00m\n\u001b[1;32m   2057\u001b[0m \u001b[38;5;28;01mif\u001b[39;00m pid \u001b[38;5;241m==\u001b[39m \u001b[38;5;28mself\u001b[39m\u001b[38;5;241m.\u001b[39mpid:\n",
      "File \u001b[0;32m~/.asdf/installs/python/3.12.4/lib/python3.12/subprocess.py:2011\u001b[0m, in \u001b[0;36mPopen._try_wait\u001b[0;34m(self, wait_flags)\u001b[0m\n\u001b[1;32m   2009\u001b[0m \u001b[38;5;250m\u001b[39m\u001b[38;5;124;03m\"\"\"All callers to this function MUST hold self._waitpid_lock.\"\"\"\u001b[39;00m\n\u001b[1;32m   2010\u001b[0m \u001b[38;5;28;01mtry\u001b[39;00m:\n\u001b[0;32m-> 2011\u001b[0m     (pid, sts) \u001b[38;5;241m=\u001b[39m \u001b[43mos\u001b[49m\u001b[38;5;241;43m.\u001b[39;49m\u001b[43mwaitpid\u001b[49m\u001b[43m(\u001b[49m\u001b[38;5;28;43mself\u001b[39;49m\u001b[38;5;241;43m.\u001b[39;49m\u001b[43mpid\u001b[49m\u001b[43m,\u001b[49m\u001b[43m \u001b[49m\u001b[43mwait_flags\u001b[49m\u001b[43m)\u001b[49m\n\u001b[1;32m   2012\u001b[0m \u001b[38;5;28;01mexcept\u001b[39;00m \u001b[38;5;167;01mChildProcessError\u001b[39;00m:\n\u001b[1;32m   2013\u001b[0m     \u001b[38;5;66;03m# This happens if SIGCLD is set to be ignored or waiting\u001b[39;00m\n\u001b[1;32m   2014\u001b[0m     \u001b[38;5;66;03m# for child processes has otherwise been disabled for our\u001b[39;00m\n\u001b[1;32m   2015\u001b[0m     \u001b[38;5;66;03m# process.  This child is dead, we can't get the status.\u001b[39;00m\n\u001b[1;32m   2016\u001b[0m     pid \u001b[38;5;241m=\u001b[39m \u001b[38;5;28mself\u001b[39m\u001b[38;5;241m.\u001b[39mpid\n",
      "\u001b[0;31mKeyboardInterrupt\u001b[0m: "
     ]
    }
   ],
   "source": [
    "runner.run()"
   ]
  },
  {
   "cell_type": "code",
   "execution_count": null,
   "id": "5340f6e5",
   "metadata": {},
   "outputs": [],
   "source": [
    "scan_path = \"/mnt/t/Data/3Tpioneer_bids/sub-ms1001/ses-20170215/proc/lesion_index.t3m20-mni_reg.nii.gz\"\n",
    "img = nib.load(scan_path)\n"
   ]
  }
 ],
 "metadata": {
  "kernelspec": {
   "display_name": "monai",
   "language": "python",
   "name": "python3"
  },
  "language_info": {
   "codemirror_mode": {
    "name": "ipython",
    "version": 3
   },
   "file_extension": ".py",
   "mimetype": "text/x-python",
   "name": "python",
   "nbconvert_exporter": "python",
   "pygments_lexer": "ipython3",
   "version": "3.12.4"
  }
 },
 "nbformat": 4,
 "nbformat_minor": 5
}
