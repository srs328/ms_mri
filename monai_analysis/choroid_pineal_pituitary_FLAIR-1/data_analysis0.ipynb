{
 "cells": [
  {
   "cell_type": "code",
   "execution_count": 1,
   "metadata": {},
   "outputs": [],
   "source": [
    "import matplotlib.pyplot as plt\n",
    "import pandas as pd\n",
    "from pathlib import Path\n",
    "import numpy as np\n",
    "import re\n",
    "import statsmodels.api as sm\n",
    "from statsmodels.formula.api import ols\n",
    "\n",
    "from mri_data import file_manager as fm"
   ]
  },
  {
   "cell_type": "code",
   "execution_count": 2,
   "metadata": {},
   "outputs": [],
   "source": [
    "drive_root = fm.get_drive_root()\n",
    "msmri_home = Path(\"/home/srs-9/Projects/ms_mri\")\n",
    "msmri_datadir = msmri_home / \"data\"\n",
    "curr_dir = msmri_home / \"monai_analysis\" / \"choroid_pineal_pituitary_FLAIR-1\""
   ]
  },
  {
   "cell_type": "markdown",
   "metadata": {},
   "source": [
    "## Data Cleaning"
   ]
  },
  {
   "cell_type": "markdown",
   "metadata": {},
   "source": [
    "Load volume dataset"
   ]
  },
  {
   "cell_type": "code",
   "execution_count": 3,
   "metadata": {},
   "outputs": [],
   "source": [
    "df_vols = pd.read_csv(curr_dir / \"clinical_data_full.csv\")\n",
    "df_vols = df_vols.set_index(\"subid\")\n",
    "keep_cols = [\"choroid_volume\", \"pineal_volume\", \"pituitary_volume\", \"tiv\", \"flair_contrast\", \"label\", \"scan_folder\", \"age\"]\n",
    "\n",
    "not_nas = (~df_vols['pineal_volume'].isna() & ~df_vols['choroid_volume'].isna() & ~df_vols['pituitary_volume'].isna())\n",
    "df_vols = df_vols.loc[not_nas, keep_cols]"
   ]
  },
  {
   "cell_type": "code",
   "execution_count": 4,
   "metadata": {},
   "outputs": [],
   "source": [
    "def subject_to_subid(subject):\n",
    "    if not isinstance(subject, str):\n",
    "        return None\n",
    "    re_match = re.match(r\"ms(\\d{4})\", subject)\n",
    "    if re_match:\n",
    "        return_val = int(re_match[1])\n",
    "        return return_val\n",
    "    else:\n",
    "        return None"
   ]
  },
  {
   "cell_type": "code",
   "execution_count": 5,
   "metadata": {},
   "outputs": [],
   "source": [
    "df_full = pd.read_csv(msmri_datadir / \"Clinical_Data_All_updated.csv\")\n",
    "df_full.insert(0, \"subid\", df_full['ID'].map(subject_to_subid))\n",
    "df_full = df_full.set_index(\"subid\")\n",
    "\n",
    "df = pd.merge(df_vols, df_full.loc[:, ~df_full.columns.isin(df_vols.columns)], how='outer', on='subid')\n",
    "\n",
    "df.loc[:, 'extracted_EDSS'] = [float(val) if val != \".\" else None for val in df['extracted_EDSS']] #! figure out what to do with \".\"\n",
    "df.loc[:, ['EDSS']] = pd.Categorical(df['extracted_EDSS'], ordered=True)\n",
    "df.loc[df['PRL'] == \"#VALUE!\", 'PRL'] = None\n",
    "df.loc[:, 'PRL'] = [int(val) if val != \"#VALUE!\" and val is not None else None for val in df['PRL']]\n",
    "df.loc[df['dzdur'] == \"#VALUE!\", \"dzdur\"] = None"
   ]
  },
  {
   "cell_type": "code",
   "execution_count": 6,
   "metadata": {},
   "outputs": [],
   "source": [
    "prl_levels = [range(0,1), range(1,3), range(3,5), range(5,df['PRL'].max()+1)]\n",
    "df.loc[:, ['PRL_LEVEL']] = None\n",
    "for i, level in enumerate(prl_levels):\n",
    "    df.loc[df['PRL'].isin(level), ['PRL_LEVEL']] = i\n",
    "df.loc[:, ['PRL_LEVEL']] = pd.Categorical(df['PRL_LEVEL'], ordered=True)"
   ]
  },
  {
   "cell_type": "code",
   "execution_count": 7,
   "metadata": {},
   "outputs": [],
   "source": [
    "def check_nind(subtype):\n",
    "    if \"migraine\" in subtype:\n",
    "        return True\n",
    "    elif \"IIH\" in subtype:\n",
    "        return True\n",
    "    elif \"Migraine\" in subtype:\n",
    "        return True\n",
    "    else:\n",
    "        return False"
   ]
  },
  {
   "cell_type": "code",
   "execution_count": 8,
   "metadata": {},
   "outputs": [],
   "source": [
    "def check_nind2(subtype):\n",
    "    if type(subtype) is not str:\n",
    "        return False\n",
    "    keywords = [\"migraine\", \"IIH\", \"anxiety\", \"Migraine\"]\n",
    "    for word in keywords:\n",
    "        if word in subtype:\n",
    "            return True\n",
    "    return False"
   ]
  },
  {
   "cell_type": "markdown",
   "metadata": {},
   "source": [
    "Add columns for volumes normalized by TIV"
   ]
  },
  {
   "cell_type": "code",
   "execution_count": 9,
   "metadata": {},
   "outputs": [],
   "source": [
    "df.loc[:, ['norm_choroid_volume']] = df['choroid_volume']/df['tiv']\n",
    "df.loc[:, ['norm_pineal_volume']] = df['pineal_volume']/df['tiv']\n",
    "df.loc[:, ['norm_pituitary_volume']] = df['pituitary_volume']/df['tiv']"
   ]
  },
  {
   "cell_type": "markdown",
   "metadata": {},
   "source": [
    "### Categorize Disease Types\n",
    "\n",
    "- RMS vs MS vs !MS\n",
    "- MS vs !MS\n",
    "- MS vs OIND vs NIND"
   ]
  },
  {
   "cell_type": "markdown",
   "metadata": {},
   "source": [
    "`dz_type` has relapsing MS (RMS) versus progressive MS (PMS) verusus not MS (!MS)"
   ]
  },
  {
   "cell_type": "code",
   "execution_count": 10,
   "metadata": {},
   "outputs": [
    {
     "name": "stdout",
     "output_type": "stream",
     "text": [
      "['RMS' 'PMS' '!MS' 'UNK' 'RIS']\n",
      "0\n"
     ]
    }
   ],
   "source": [
    "try:\n",
    "    df.insert(18, 'dz_type', df['ms_type'])\n",
    "except Exception:\n",
    "    pass\n",
    "\n",
    "df.loc[:, 'dz_type'] = df['ms_type']\n",
    "\n",
    "df.loc[df['ms_type'].isin(['CIS', 'RRMS']), 'dz_type'] = 'RMS'\n",
    "df.loc[df['ms_type'].isin(['PPMS', 'SPMS', 'RPMS', 'PRMS']), 'dz_type'] = 'PMS'\n",
    "df.loc[df['ms_type'].isin(['NIND', 'OIND', 'HC']), 'dz_type'] = '!MS'\n",
    "# df.loc[(df['dz_type'] == \"NIND\") & (df['subtype'].map(check_nind2)), \"dz_type\"] = \"HC\"\n",
    "print(df['dz_type'].unique())\n",
    "print(sum(df['dz_type'] == \"HC\"))"
   ]
  },
  {
   "cell_type": "markdown",
   "metadata": {},
   "source": [
    "`dz_type2` has MS versus !MS and UNK"
   ]
  },
  {
   "cell_type": "code",
   "execution_count": 11,
   "metadata": {},
   "outputs": [
    {
     "data": {
      "text/plain": [
       "array(['MS', '!MS', 'UNK', 'RIS'], dtype=object)"
      ]
     },
     "execution_count": 11,
     "metadata": {},
     "output_type": "execute_result"
    }
   ],
   "source": [
    "try:\n",
    "    df.insert(18, 'dz_type2', df['dz_type'])\n",
    "except Exception:\n",
    "    pass\n",
    "\n",
    "df.loc[:, 'dz_type2'] = df['dz_type']\n",
    "\n",
    "df.loc[df['dz_type'].isin(['RMS', 'PMS']), 'dz_type2'] = 'MS'\n",
    "df['dz_type2'].unique()"
   ]
  },
  {
   "cell_type": "markdown",
   "metadata": {},
   "source": [
    "`dz_type3` has MS v OIND v NIND"
   ]
  },
  {
   "cell_type": "code",
   "execution_count": 12,
   "metadata": {},
   "outputs": [
    {
     "data": {
      "text/plain": [
       "array(['MS', 'NIND', 'UNK', 'HC', 'OIND', 'RIS'], dtype=object)"
      ]
     },
     "execution_count": 12,
     "metadata": {},
     "output_type": "execute_result"
    }
   ],
   "source": [
    "try:\n",
    "    df.insert(18, 'dz_type3', df['ms_type'])\n",
    "except Exception:\n",
    "    pass\n",
    "\n",
    "df.loc[:, 'dz_type3'] = df['ms_type']\n",
    "\n",
    "df.loc[df['ms_type'].isin(['PPMS', 'SPMS', 'RPMS', 'PRMS', 'RRMS', 'CIS']), 'dz_type3'] = 'MS'\n",
    "df['dz_type3'].unique()"
   ]
  },
  {
   "cell_type": "markdown",
   "metadata": {},
   "source": [
    "`dz_type4`"
   ]
  },
  {
   "cell_type": "code",
   "execution_count": 13,
   "metadata": {},
   "outputs": [],
   "source": [
    "try:\n",
    "    df.insert(18, 'dz_type4', df['dz_type3'])\n",
    "except Exception:\n",
    "    pass\n",
    "\n",
    "df.loc[:, 'dz_type4'] = df['dz_type3']\n",
    "\n",
    "df.loc[(df['dz_type4'] == \"NIND\") & (df.loc[:, 'subtype'].map(check_nind2)), \"dz_type4\"] = \"HC\""
   ]
  },
  {
   "cell_type": "markdown",
   "metadata": {},
   "source": [
    "`dz_type5`"
   ]
  },
  {
   "cell_type": "code",
   "execution_count": 14,
   "metadata": {},
   "outputs": [
    {
     "name": "stdout",
     "output_type": "stream",
     "text": [
      "['RMS' 'PMS' 'NIND' 'UNK' 'HC' 'OIND' 'RIS']\n"
     ]
    }
   ],
   "source": [
    "try:\n",
    "    df.insert(18, 'dz_type5', df['ms_type'])\n",
    "except Exception:\n",
    "    pass\n",
    "\n",
    "df.loc[:, 'dz_type5'] = df['ms_type']\n",
    "\n",
    "df.loc[df['ms_type'].isin(['CIS', 'RRMS']), 'dz_type5'] = 'RMS'\n",
    "df.loc[df['ms_type'].isin(['PPMS', 'SPMS', 'RPMS', 'PRMS']), 'dz_type5'] = 'PMS'\n",
    "# df.loc[(df['dz_type5'] == \"NIND\") & (df['subtype'].map(check_nind2)), \"dz_type5\"] = \"HC\"\n",
    "print(df['dz_type5'].unique())"
   ]
  },
  {
   "cell_type": "markdown",
   "metadata": {},
   "source": [
    "## Descriptive Stats"
   ]
  },
  {
   "cell_type": "code",
   "execution_count": 15,
   "metadata": {},
   "outputs": [
    {
     "name": "stdout",
     "output_type": "stream",
     "text": [
      "564 patients in total\n",
      "368 patients with RMS (0.65)\n",
      "97 patients with PMS (0.17)\n",
      "92 patients w/o MS (0.16)\n"
     ]
    }
   ],
   "source": [
    "print(len(df), \"patients in total\")\n",
    "nRMS = sum(df['dz_type'] == \"RMS\")\n",
    "nPMS = sum(df['dz_type'] == \"PMS\")\n",
    "nNotMS = sum(df['dz_type'] == \"!MS\")\n",
    "print(nRMS, \"patients with RMS\", f\"({round(nRMS / len(df), 2)})\")\n",
    "print(nPMS, \"patients with PMS\", f\"({round(nPMS / len(df), 2)})\")\n",
    "print(nNotMS, \"patients w/o MS\", f\"({round(nNotMS / len(df), 2)})\")"
   ]
  },
  {
   "cell_type": "code",
   "execution_count": 16,
   "metadata": {},
   "outputs": [
    {
     "name": "stdout",
     "output_type": "stream",
     "text": [
      "564 patients in total\n",
      "465 patients with MS (0.82)\n",
      "41 patients with OIND (0.07)\n",
      "49 patients w/o NIND (0.09)\n"
     ]
    }
   ],
   "source": [
    "print(len(df), \"patients in total\")\n",
    "nMS = sum(df['dz_type3'] == \"MS\")\n",
    "nOIND = sum(df['dz_type3'] == \"OIND\")\n",
    "nNIND = sum(df['dz_type3'] == \"NIND\")\n",
    "print(nMS, \"patients with MS\", f\"({round(nMS / len(df), 2)})\")\n",
    "print(nOIND, \"patients with OIND\", f\"({round(nOIND / len(df), 2)})\")\n",
    "print(nNIND, \"patients w/o NIND\", f\"({round(nNIND / len(df), 2)})\")"
   ]
  },
  {
   "cell_type": "code",
   "execution_count": 17,
   "metadata": {},
   "outputs": [
    {
     "name": "stdout",
     "output_type": "stream",
     "text": [
      "Female subjects:     0.79\n",
      "Average age at scan: 47.73\n"
     ]
    }
   ],
   "source": [
    "print(\"Female subjects:     {:0.2f}\".format(sum(df['sex'] == \"Female\") / len(df)) )\n",
    "print(\"Average age at scan: {:0.2f}\".format(df['age'].mean()))"
   ]
  },
  {
   "cell_type": "code",
   "execution_count": 18,
   "metadata": {},
   "outputs": [
    {
     "name": "stdout",
     "output_type": "stream",
     "text": [
      "RMS Patients:\n",
      "\tFemale:  0.84\n",
      "\tAge:     44.55\n",
      "PMS Patients:\n",
      "\tFemale:  0.59\n",
      "\tAge:     58.30\n",
      "!MS Patients:\n",
      "\tFemale:  0.82\n",
      "\tAge:     49.57\n"
     ]
    }
   ],
   "source": [
    "df_rrms = df.loc[df[\"dz_type\"] == \"RMS\"]\n",
    "print(\"RMS Patients:\")\n",
    "print(\"\\tFemale:  {:0.2f}\".format(sum(df_rrms['sex'] == \"Female\") / len(df_rrms)))\n",
    "print(\"\\tAge:     {:0.2f}\".format(df_rrms['age'].mean()))\n",
    "\n",
    "df_pms = df.loc[df[\"dz_type\"] == \"PMS\"]\n",
    "print(\"PMS Patients:\")\n",
    "print(\"\\tFemale:  {:0.2f}\".format(sum(df_pms['sex'] == \"Female\") / len(df_pms)))\n",
    "print(\"\\tAge:     {:0.2f}\".format(df_pms['age'].mean()))\n",
    "\n",
    "df_notms = df.loc[df[\"dz_type\"] == \"!MS\"]\n",
    "print(\"!MS Patients:\")\n",
    "print(\"\\tFemale:  {:0.2f}\".format(sum(df_notms['sex'] == \"Female\") / len(df_notms)))\n",
    "print(\"\\tAge:     {:0.2f}\".format(df_notms['age'].mean()))"
   ]
  },
  {
   "cell_type": "markdown",
   "metadata": {},
   "source": [
    "#### Volumes"
   ]
  },
  {
   "cell_type": "code",
   "execution_count": 19,
   "metadata": {},
   "outputs": [
    {
     "name": "stdout",
     "output_type": "stream",
     "text": [
      "Choroid volumes:\n",
      "\tRRMS:   1927.14\n",
      "\tPMS:    2203.40\n",
      "\tnot-MS: 1960.97\n",
      "Pineal volumes:\n",
      "\tRRMS:   237.07\n",
      "\tPMS:    217.64\n",
      "\tnot-MS: 263.39\n",
      "Pituitary volumes:\n",
      "\tRRMS:   722.91\n",
      "\tPMS:    729.09\n",
      "\tnot-MS: 712.19\n"
     ]
    }
   ],
   "source": [
    "# choroid\n",
    "print(\"Choroid volumes:\")\n",
    "print(\"\\tRRMS:   {:0.2f}\".format(df_rrms['choroid_volume'].mean()))\n",
    "print(\"\\tPMS:    {:0.2f}\".format(df_pms['choroid_volume'].mean()))\n",
    "print(\"\\tnot-MS: {:0.2f}\".format(df_notms['choroid_volume'].mean()))\n",
    "\n",
    "# pineal\n",
    "print(\"Pineal volumes:\")\n",
    "print(\"\\tRRMS:   {:0.2f}\".format(df_rrms['pineal_volume'].mean()))\n",
    "print(\"\\tPMS:    {:0.2f}\".format(df_pms['pineal_volume'].mean()))\n",
    "print(\"\\tnot-MS: {:0.2f}\".format(df_notms['pineal_volume'].mean()))\n",
    "\n",
    "# pituitary\n",
    "print(\"Pituitary volumes:\")\n",
    "print(\"\\tRRMS:   {:0.2f}\".format(df_rrms['pituitary_volume'].mean()))\n",
    "print(\"\\tPMS:    {:0.2f}\".format(df_pms['pituitary_volume'].mean()))\n",
    "print(\"\\tnot-MS: {:0.2f}\".format(df_notms['pituitary_volume'].mean()))"
   ]
  },
  {
   "cell_type": "code",
   "execution_count": 20,
   "metadata": {},
   "outputs": [
    {
     "name": "stdout",
     "output_type": "stream",
     "text": [
      "Choroid volumes:\n",
      "\tMS:     1984.93\n",
      "\tnot-MS: 1960.97\n",
      "\n",
      "Pineal volumes\n",
      "\tMS:     233.01\n",
      "\tnot-MS: 263.39\n",
      "\n",
      "Pituitary volumes\n",
      "\tMS:     724.20\n",
      "\tnot-MS: 712.19\n"
     ]
    }
   ],
   "source": [
    "print(\"Choroid volumes:\")\n",
    "choroid_ms_mean = df[df['dz_type2'] == \"MS\"].choroid_volume.mean()\n",
    "choroid_notms_mean = df[df['dz_type2'] == \"!MS\"].choroid_volume.mean()\n",
    "print(\"\\tMS:     {:0.2f}\".format(choroid_ms_mean))\n",
    "print(\"\\tnot-MS: {:0.2f}\".format(choroid_notms_mean))\n",
    "\n",
    "print(\"\\nPineal volumes\")\n",
    "pineal_ms_mean = df[df['dz_type2'] == \"MS\"].pineal_volume.mean()\n",
    "pineal_notms_mean = df[df['dz_type2'] == \"!MS\"].pineal_volume.mean()\n",
    "print(\"\\tMS:     {:0.2f}\".format(pineal_ms_mean))\n",
    "print(\"\\tnot-MS: {:0.2f}\".format(pineal_notms_mean))\n",
    "\n",
    "print(\"\\nPituitary volumes\")\n",
    "pituitary_ms_mean = df[df['dz_type2'] == \"MS\"].pituitary_volume.mean()\n",
    "pituitary_notms_mean = df[df['dz_type2'] == \"!MS\"].pituitary_volume.mean()\n",
    "print(\"\\tMS:     {:0.2f}\".format(pituitary_ms_mean))\n",
    "print(\"\\tnot-MS: {:0.2f}\".format(pituitary_notms_mean))"
   ]
  },
  {
   "cell_type": "code",
   "execution_count": 21,
   "metadata": {},
   "outputs": [
    {
     "name": "stdout",
     "output_type": "stream",
     "text": [
      "Choroid volumes:\n",
      "\tMS:   1984.93\n",
      "\tOIND: 2013.21\n",
      "\tNIND: 1940.35\n",
      "\n",
      "Pineal volumes\n",
      "\tMS:   233.01\n",
      "\tOIND: 236.75\n",
      "\tNIND: 287.80\n",
      "\n",
      "Pituitary volumes\n",
      "\tMS:   724.20\n",
      "\tOIND: 729.93\n",
      "\tNIND: 698.48\n"
     ]
    }
   ],
   "source": [
    "print(\"Choroid volumes:\")\n",
    "choroid_ms_mean = df[df['dz_type3'] == \"MS\"].choroid_volume.mean()\n",
    "choroid_oind_mean = df[df['dz_type3'] == \"OIND\"].choroid_volume.mean()\n",
    "choroid_nind_mean = df[df['dz_type3'] == \"NIND\"].choroid_volume.mean()\n",
    "print(\"\\tMS:   {:0.2f}\".format(choroid_ms_mean))\n",
    "print(\"\\tOIND: {:0.2f}\".format(choroid_oind_mean))\n",
    "print(\"\\tNIND: {:0.2f}\".format(choroid_nind_mean))\n",
    "\n",
    "\n",
    "print(\"\\nPineal volumes\")\n",
    "pineal_ms_mean = df[df['dz_type2'] == \"MS\"].pineal_volume.mean()\n",
    "pineal_oind_mean = df[df['dz_type3'] == \"OIND\"].pineal_volume.mean()\n",
    "pineal_nind_mean = df[df['dz_type3'] == \"NIND\"].pineal_volume.mean()\n",
    "print(\"\\tMS:   {:0.2f}\".format(pineal_ms_mean))\n",
    "print(\"\\tOIND: {:0.2f}\".format(pineal_oind_mean))\n",
    "print(\"\\tNIND: {:0.2f}\".format(pineal_nind_mean))\n",
    "\n",
    "\n",
    "print(\"\\nPituitary volumes\")\n",
    "pituitary_ms_mean = df[df['dz_type2'] == \"MS\"].pituitary_volume.mean()\n",
    "pituitary_oind_mean = df[df['dz_type3'] == \"OIND\"].pituitary_volume.mean()\n",
    "pituitary_nind_mean = df[df['dz_type3'] == \"NIND\"].pituitary_volume.mean()\n",
    "print(\"\\tMS:   {:0.2f}\".format(pituitary_ms_mean))\n",
    "print(\"\\tOIND: {:0.2f}\".format(pituitary_oind_mean))\n",
    "print(\"\\tNIND: {:0.2f}\".format(pituitary_nind_mean))"
   ]
  },
  {
   "cell_type": "markdown",
   "metadata": {},
   "source": [
    "## Plots"
   ]
  },
  {
   "cell_type": "code",
   "execution_count": 22,
   "metadata": {},
   "outputs": [
    {
     "data": {
      "image/png": "[encoded data removed]",
      "text/plain": [
       "<Figure size 640x480 with 6 Axes>"
      ]
     },
     "metadata": {},
     "output_type": "display_data"
    }
   ],
   "source": [
    "fig, ax = plt.subplots(2, 3)\n",
    "ax[0,0].hist(df.loc[df['dz_type2']=='MS', 'choroid_volume'], bins=50)\n",
    "ax[0,0].set_xlim([0, 3500])\n",
    "ax[0,0].set_title(\"Choroid MS\")\n",
    "ax[0,0].plot([choroid_ms_mean, choroid_ms_mean], ax[0,0].get_ylim())\n",
    "text_y = ax[0,0].get_ylim()[1] - ax[0,0].get_ylim()[1] / 16\n",
    "ax[0,0].text(choroid_ms_mean, text_y, \"{:0.0f}\".format(choroid_ms_mean))\n",
    "\n",
    "ax[1, 0].hist(df.loc[df['dz_type2']=='!MS', 'choroid_volume'], bins=20)\n",
    "ax[1, 0].set_xlim([0, 3500])\n",
    "ax[1, 0].set_title(\"Choroid Not MS\")\n",
    "ax[1,0].plot([choroid_notms_mean, choroid_notms_mean], ax[1,0].get_ylim())\n",
    "text_y = ax[1,0].get_ylim()[1] - ax[1,0].get_ylim()[1] / 16\n",
    "ax[1,0].text(choroid_notms_mean, text_y, \"{:0.0f}\".format(choroid_notms_mean))\n",
    "\n",
    "\n",
    "ax[0,1].hist(df.loc[df['dz_type2']=='MS', 'pineal_volume'], bins=50)\n",
    "ax[0,1].set_xlim([0, 750])\n",
    "ax[0,1].set_title(\"Pineal MS\")\n",
    "ax[0,1].plot([pineal_ms_mean, pineal_ms_mean], ax[0,1].get_ylim())\n",
    "text_y = ax[0,1].get_ylim()[1] - ax[0,1].get_ylim()[1] / 16\n",
    "ax[0,1].text(pineal_ms_mean, text_y, \"{:0.0f}\".format(pineal_ms_mean))\n",
    "\n",
    "ax[1,1].hist(df.loc[df['dz_type2']=='!MS', 'pineal_volume'], bins=30)\n",
    "ax[1,1].set_xlim([0, 750])\n",
    "ax[1,1].set_title(\"Pineal Not MS\")\n",
    "ax[1,1].plot([pineal_notms_mean, pineal_notms_mean], ax[1,1].get_ylim())\n",
    "text_y = ax[1,1].get_ylim()[1] - ax[1,1].get_ylim()[1] / 16\n",
    "ax[1,1].text(pineal_notms_mean, text_y, \"{:0.0f}\".format(pineal_notms_mean))\n",
    "\n",
    "\n",
    "ax[0,2].hist(df.loc[df['dz_type2']=='MS', 'pituitary_volume'], bins=50)\n",
    "ax[0,2].set_xlim([0, 1500])\n",
    "ax[0,2].set_title(\"Pituitary MS\")\n",
    "ax[0,2].plot([pituitary_ms_mean, pituitary_ms_mean], ax[0,2].get_ylim())\n",
    "text_y = ax[0,2].get_ylim()[1] - ax[0,2].get_ylim()[1] / 16\n",
    "ax[0,2].text(pituitary_ms_mean, text_y, \"{:0.0f}\".format(pituitary_ms_mean))\n",
    "\n",
    "ax[1,2].hist(df.loc[df['dz_type2']=='!MS', 'pituitary_volume'], bins=20)\n",
    "ax[1,2].set_xlim([0, 1500])\n",
    "ax[1,2].set_title(\"Pituitary Not MS\")\n",
    "ax[1,2].plot([pituitary_notms_mean, pituitary_notms_mean], ax[1,2].get_ylim())\n",
    "text_y = ax[1,2].get_ylim()[1] - ax[1,2].get_ylim()[1] / 16\n",
    "ax[1,2].text(pituitary_notms_mean, text_y, \"{:0.0f}\".format(pituitary_notms_mean))\n",
    "\n",
    "plt.subplots_adjust(bottom=0.1, right=2, top=1.5)"
   ]
  },
  {
   "cell_type": "markdown",
   "metadata": {},
   "source": [
    "## Regression Models\n",
    "\n",
    "Covariates: age, sex, TIV, contrast"
   ]
  },
  {
   "cell_type": "markdown",
   "metadata": {},
   "source": [
    "### Linear Regression on Volume\n",
    "\n",
    "Predict volume of structure with the following predictors:\n",
    "\n",
    "- MS vs Not-MS\n",
    "- MS vs OIND vs NIND\n",
    "- RMS vs PMS"
   ]
  },
  {
   "cell_type": "markdown",
   "metadata": {},
   "source": [
    "#### Choroid Plexus\n",
    "\n",
    "##### MS vs not-MS"
   ]
  },
  {
   "cell_type": "code",
   "execution_count": 23,
   "metadata": {},
   "outputs": [
    {
     "name": "stdout",
     "output_type": "stream",
     "text": [
      "                            OLS Regression Results                            \n",
      "==============================================================================\n",
      "Dep. Variable:                 volume   R-squared:                       0.168\n",
      "Model:                            OLS   Adj. R-squared:                  0.161\n",
      "Method:                 Least Squares   F-statistic:                     23.11\n",
      "Date:                Thu, 27 Feb 2025   Prob (F-statistic):           2.06e-17\n",
      "Time:                        11:23:55   Log-Likelihood:                -3538.0\n",
      "No. Observations:                 463   AIC:                             7086.\n",
      "Df Residuals:                     458   BIC:                             7107.\n",
      "Df Model:                           4                                         \n",
      "Covariance Type:            nonrobust                                         \n",
      "==============================================================================\n",
      "                 coef    std err          t      P>|t|      [0.025      0.975]\n",
      "------------------------------------------------------------------------------\n",
      "age           12.2378      1.897      6.450      0.000       8.509      15.966\n",
      "Male         137.1506     69.122      1.984      0.048       1.316     272.985\n",
      "tiv            0.0009      0.000      4.281      0.000       0.000       0.001\n",
      "MS            69.2716     65.567      1.057      0.291     -59.577     198.120\n",
      "intercept    -72.4340    349.581     -0.207      0.836    -759.416     614.548\n",
      "==============================================================================\n",
      "Omnibus:                        6.872   Durbin-Watson:                   2.071\n",
      "Prob(Omnibus):                  0.032   Jarque-Bera (JB):                8.052\n",
      "Skew:                           0.175   Prob(JB):                       0.0178\n",
      "Kurtosis:                       3.543   Cond. No.                     2.25e+07\n",
      "==============================================================================\n",
      "\n",
      "Notes:\n",
      "[1] Standard Errors assume that the covariance matrix of the errors is correctly specified.\n",
      "[2] The condition number is large, 2.25e+07. This might indicate that there are\n",
      "strong multicollinearity or other numerical problems.\n"
     ]
    }
   ],
   "source": [
    "volume = 'choroid_volume'\n",
    "\n",
    "data = df[['dz_type2', 'age', 'sex', 'tiv', 'flair_contrast', 'dzdur', volume]]\n",
    "data = data.rename(columns={volume: 'volume'})\n",
    "data = data[data['dz_type2'].isin(['MS', '!MS'])]\n",
    "data = data[data['flair_contrast'].isin(['WITH', 'WITHOUT'])]\n",
    "\n",
    "data = pd.concat((\n",
    "    data,\n",
    "    pd.get_dummies(data['dz_type2']),\n",
    "    pd.get_dummies(data['flair_contrast']),\n",
    "    pd.get_dummies(data['sex'])), axis=1)\n",
    "data['intercept'] = 1\n",
    "\n",
    "predictors = ['age', 'Male', 'tiv', 'MS', 'intercept']\n",
    "\n",
    "res = sm.OLS(data['volume'].astype('float'), \n",
    "             data[predictors].astype('float'), missing='drop').fit()\n",
    "\n",
    "print(res.summary())"
   ]
  },
  {
   "cell_type": "markdown",
   "metadata": {},
   "source": [
    "##### MS vs NIND vs OIND"
   ]
  },
  {
   "cell_type": "code",
   "execution_count": 24,
   "metadata": {},
   "outputs": [
    {
     "name": "stdout",
     "output_type": "stream",
     "text": [
      "                            OLS Regression Results                            \n",
      "==============================================================================\n",
      "Dep. Variable:                 volume   R-squared:                       0.176\n",
      "Model:                            OLS   Adj. R-squared:                  0.168\n",
      "Method:                 Least Squares   F-statistic:                     22.74\n",
      "Date:                Thu, 27 Feb 2025   Prob (F-statistic):           4.85e-17\n",
      "Time:                        11:23:58   Log-Likelihood:                -3292.7\n",
      "No. Observations:                 431   AIC:                             6595.\n",
      "Df Residuals:                     426   BIC:                             6616.\n",
      "Df Model:                           4                                         \n",
      "Covariance Type:            nonrobust                                         \n",
      "==============================================================================\n",
      "                 coef    std err          t      P>|t|      [0.025      0.975]\n",
      "------------------------------------------------------------------------------\n",
      "age           12.8213      1.957      6.553      0.000       8.975      16.667\n",
      "Female      -141.3118     70.884     -1.994      0.047    -280.637      -1.986\n",
      "tiv            0.0009      0.000      4.182      0.000       0.000       0.001\n",
      "MS            83.5422     84.663      0.987      0.324     -82.866     249.951\n",
      "intercept     20.2905    406.506      0.050      0.960    -778.716     819.298\n",
      "==============================================================================\n",
      "Omnibus:                        6.753   Durbin-Watson:                   2.035\n",
      "Prob(Omnibus):                  0.034   Jarque-Bera (JB):                8.370\n",
      "Skew:                           0.155   Prob(JB):                       0.0152\n",
      "Kurtosis:                       3.609   Cond. No.                     2.53e+07\n",
      "==============================================================================\n",
      "\n",
      "Notes:\n",
      "[1] Standard Errors assume that the covariance matrix of the errors is correctly specified.\n",
      "[2] The condition number is large, 2.53e+07. This might indicate that there are\n",
      "strong multicollinearity or other numerical problems.\n"
     ]
    }
   ],
   "source": [
    "volume = 'choroid_volume'\n",
    "\n",
    "data = df[['dz_type3', 'age', 'sex', 'tiv', 'flair_contrast', 'dzdur', volume]]\n",
    "data = data.rename(columns={volume: 'volume'})\n",
    "data = data[data['dz_type3'].isin(['MS', 'NIND'])]\n",
    "data = data[data['flair_contrast'].isin(['WITH', 'WITHOUT'])]\n",
    "\n",
    "data = pd.concat((\n",
    "    data,\n",
    "    pd.get_dummies(data['dz_type3']),\n",
    "    pd.get_dummies(data['flair_contrast']),\n",
    "    pd.get_dummies(data['sex'])), axis=1)\n",
    "data['intercept'] = 1\n",
    "\n",
    "predictors = ['age', 'Female', 'tiv', 'MS', 'intercept']\n",
    "\n",
    "res = sm.OLS(data['volume'].astype('float'), \n",
    "             data[predictors].astype('float'), missing='drop').fit()\n",
    "\n",
    "print(res.summary())"
   ]
  },
  {
   "cell_type": "markdown",
   "metadata": {},
   "source": [
    "##### PMS v RMS"
   ]
  },
  {
   "cell_type": "code",
   "execution_count": 68,
   "metadata": {},
   "outputs": [
    {
     "name": "stdout",
     "output_type": "stream",
     "text": [
      "                            OLS Regression Results                            \n",
      "==============================================================================\n",
      "Dep. Variable:                 volume   R-squared:                       0.184\n",
      "Model:                            OLS   Adj. R-squared:                  0.176\n",
      "Method:                 Least Squares   F-statistic:                     21.76\n",
      "Date:                Tue, 11 Feb 2025   Prob (F-statistic):           3.30e-16\n",
      "Time:                        00:54:00   Log-Likelihood:                -2978.8\n",
      "No. Observations:                 391   AIC:                             5968.\n",
      "Df Residuals:                     386   BIC:                             5987.\n",
      "Df Model:                           4                                         \n",
      "Covariance Type:            nonrobust                                         \n",
      "==============================================================================\n",
      "                 coef    std err          t      P>|t|      [0.025      0.975]\n",
      "------------------------------------------------------------------------------\n",
      "age           11.4226      2.190      5.216      0.000       7.117      15.728\n",
      "Female      -192.8186     73.735     -2.615      0.009    -337.791     -47.846\n",
      "tiv            0.0008      0.000      3.332      0.001       0.000       0.001\n",
      "PMS           60.8864     70.109      0.868      0.386     -76.957     198.730\n",
      "intercept    433.9469    400.438      1.084      0.279    -353.367    1221.260\n",
      "==============================================================================\n",
      "Omnibus:                        2.692   Durbin-Watson:                   2.068\n",
      "Prob(Omnibus):                  0.260   Jarque-Bera (JB):                2.853\n",
      "Skew:                           0.040   Prob(JB):                        0.240\n",
      "Kurtosis:                       3.411   Cond. No.                     2.42e+07\n",
      "==============================================================================\n",
      "\n",
      "Notes:\n",
      "[1] Standard Errors assume that the covariance matrix of the errors is correctly specified.\n",
      "[2] The condition number is large, 2.42e+07. This might indicate that there are\n",
      "strong multicollinearity or other numerical problems.\n"
     ]
    }
   ],
   "source": [
    "volume = 'choroid_volume'\n",
    "\n",
    "data = df[['dz_type5', 'age', 'sex', 'tiv', 'flair_contrast', 'dzdur', volume, \"PRL_LEVEL\", \"lesion_vol_cubic\"]]\n",
    "data = data.rename(columns={volume: 'volume'})\n",
    "data = data[data['dz_type5'].isin(['RMS', 'PMS'])]\n",
    "data = data[data['flair_contrast'].isin(['WITH', 'WITHOUT'])]\n",
    "\n",
    "data = pd.concat((\n",
    "    data,\n",
    "    pd.get_dummies(data['dz_type5']),\n",
    "    pd.get_dummies(data['flair_contrast']),\n",
    "    pd.get_dummies(data['sex'])), axis=1)\n",
    "data['intercept'] = 1\n",
    "\n",
    "predictors = ['age', 'Female', 'tiv', 'PMS', 'intercept']\n",
    "# predictors = ['age', 'Female', 'tiv', 'PMS', 'RMS', 'OIND', 'intercept']\n",
    "res = sm.OLS(data['volume'].astype('float'), \n",
    "             data[predictors].astype('float'), missing='drop').fit()\n",
    "\n",
    "print(res.summary())"
   ]
  },
  {
   "cell_type": "markdown",
   "metadata": {},
   "source": [
    "Alternative to dummy coding, using R style formula"
   ]
  },
  {
   "cell_type": "code",
   "execution_count": 39,
   "metadata": {},
   "outputs": [
    {
     "name": "stdout",
     "output_type": "stream",
     "text": [
      "                            OLS Regression Results                            \n",
      "==============================================================================\n",
      "Dep. Variable:                 volume   R-squared:                       0.216\n",
      "Model:                            OLS   Adj. R-squared:                  0.204\n",
      "Method:                 Least Squares   F-statistic:                     17.83\n",
      "Date:                Mon, 10 Feb 2025   Prob (F-statistic):           6.21e-21\n",
      "Time:                        21:15:23   Log-Likelihood:                -3509.5\n",
      "No. Observations:                 461   AIC:                             7035.\n",
      "Df Residuals:                     453   BIC:                             7068.\n",
      "Df Model:                           7                                         \n",
      "Covariance Type:            nonrobust                                         \n",
      "================================================================================================\n",
      "                                   coef    std err          t      P>|t|      [0.025      0.975]\n",
      "------------------------------------------------------------------------------------------------\n",
      "Intercept                        0.8367    347.381      0.002      0.998    -681.841     683.515\n",
      "C(sex_male)[T.1]               131.2166     68.746      1.909      0.057      -3.884     266.317\n",
      "C(dz_type5)[T.OIND]             61.6275    119.647      0.515      0.607    -173.505     296.760\n",
      "C(dz_type5)[T.PMS]             173.5231     99.149      1.750      0.081     -21.325     368.372\n",
      "C(dz_type5)[T.RMS]              91.3736     83.956      1.088      0.277     -73.618     256.365\n",
      "C(flair_contrast)[T.WITHOUT]  -245.8647     47.353     -5.192      0.000    -338.924    -152.806\n",
      "age                             11.9130      2.020      5.897      0.000       7.943      15.883\n",
      "tiv                              0.0009      0.000      4.388      0.000       0.001       0.001\n",
      "==============================================================================\n",
      "Omnibus:                       10.803   Durbin-Watson:                   2.108\n",
      "Prob(Omnibus):                  0.005   Jarque-Bera (JB):               14.007\n",
      "Skew:                           0.229   Prob(JB):                     0.000909\n",
      "Kurtosis:                       3.720   Cond. No.                     2.31e+07\n",
      "==============================================================================\n",
      "\n",
      "Notes:\n",
      "[1] Standard Errors assume that the covariance matrix of the errors is correctly specified.\n",
      "[2] The condition number is large, 2.31e+07. This might indicate that there are\n",
      "strong multicollinearity or other numerical problems.\n"
     ]
    }
   ],
   "source": [
    "volume = 'choroid_volume'\n",
    "\n",
    "data = df[['dz_type5', 'age', 'sex', 'tiv', 'flair_contrast', 'dzdur', volume, \"PRL_LEVEL\", \"lesion_vol_cubic\"]]\n",
    "data = data.rename(columns={volume: 'volume'})\n",
    "data = data[data['dz_type5'].isin(['RMS', 'PMS', 'NIND', 'OIND'])]\n",
    "data = data[data['flair_contrast'].isin(['WITH', 'WITHOUT'])]\n",
    "\n",
    "data['sex_male'] = data.sex.map({'Female': 0, 'Male': 1})\n",
    "\n",
    "fit = ols('volume ~ C(sex_male) + C(dz_type5) + C(flair_contrast) + age + tiv', data=data).fit()\n",
    "\n",
    "print(fit.summary())"
   ]
  },
  {
   "cell_type": "code",
   "execution_count": 27,
   "metadata": {},
   "outputs": [
    {
     "name": "stdout",
     "output_type": "stream",
     "text": [
      "                            OLS Regression Results                            \n",
      "==============================================================================\n",
      "Dep. Variable:                 volume   R-squared:                       0.209\n",
      "Model:                            OLS   Adj. R-squared:                  0.197\n",
      "Method:                 Least Squares   F-statistic:                     17.33\n",
      "Date:                Mon, 10 Feb 2025   Prob (F-statistic):           8.19e-18\n",
      "Time:                        19:47:38   Log-Likelihood:                -3046.6\n",
      "No. Observations:                 401   AIC:                             6107.\n",
      "Df Residuals:                     394   BIC:                             6135.\n",
      "Df Model:                           6                                         \n",
      "Covariance Type:            nonrobust                                         \n",
      "====================================================================================\n",
      "                       coef    std err          t      P>|t|      [0.025      0.975]\n",
      "------------------------------------------------------------------------------------\n",
      "age                 10.8343      2.140      5.063      0.000       6.627      15.042\n",
      "Female            -206.9706     70.427     -2.939      0.003    -345.431     -68.510\n",
      "tiv                  0.0007      0.000      3.177      0.002       0.000       0.001\n",
      "MS                 146.8523    145.029      1.013      0.312    -138.276     431.981\n",
      "lesion_vol_cubic   101.7224     34.981      2.908      0.004      32.949     170.496\n",
      "PRL_LEVEL           20.9570     32.545      0.644      0.520     -43.027      84.941\n",
      "intercept          251.7131    424.774      0.593      0.554    -583.395    1086.821\n",
      "==============================================================================\n",
      "Omnibus:                        3.430   Durbin-Watson:                   2.049\n",
      "Prob(Omnibus):                  0.180   Jarque-Bera (JB):                3.997\n",
      "Skew:                          -0.019   Prob(JB):                        0.136\n",
      "Kurtosis:                       3.488   Cond. No.                     2.67e+07\n",
      "==============================================================================\n",
      "\n",
      "Notes:\n",
      "[1] Standard Errors assume that the covariance matrix of the errors is correctly specified.\n",
      "[2] The condition number is large, 2.67e+07. This might indicate that there are\n",
      "strong multicollinearity or other numerical problems.\n"
     ]
    }
   ],
   "source": [
    "volume = 'choroid_volume'\n",
    "\n",
    "data = df[['dz_type4', 'age', 'sex', 'tiv', 'flair_contrast', 'dzdur', volume, \"PRL_LEVEL\", \"lesion_vol_cubic\"]]\n",
    "data = data.rename(columns={volume: 'volume'})\n",
    "data = data[data['dz_type4'].isin(['MS', 'HC'])]\n",
    "data = data[data['flair_contrast'].isin(['WITH', 'WITHOUT'])]\n",
    "\n",
    "data = pd.concat((\n",
    "    data,\n",
    "    pd.get_dummies(data['dz_type4']),\n",
    "    pd.get_dummies(data['flair_contrast']),\n",
    "    pd.get_dummies(data['sex'])), axis=1)\n",
    "data['intercept'] = 1\n",
    "\n",
    "# predictors = ['age', 'Female', 'tiv', 'RMS', 'PMS', 'PRL_LEVEL', 'lesion_vol_cubic', 'intercept']\n",
    "predictors = ['age', 'Female', 'tiv', 'MS', 'lesion_vol_cubic', 'PRL_LEVEL', 'intercept']\n",
    "res = sm.OLS(data['volume'].astype('float'), \n",
    "             data[predictors].astype('float'), missing='drop').fit()\n",
    "\n",
    "print(res.summary())"
   ]
  },
  {
   "cell_type": "markdown",
   "metadata": {},
   "source": [
    "#### Pineal\n",
    "\n",
    "##### MS vs not-MS\n",
    "\n",
    "Note: this is significant for MS vs Not-MS, but not when adding disease duration as a covariate"
   ]
  },
  {
   "cell_type": "code",
   "execution_count": 41,
   "metadata": {},
   "outputs": [
    {
     "name": "stdout",
     "output_type": "stream",
     "text": [
      "                            OLS Regression Results                            \n",
      "==============================================================================\n",
      "Dep. Variable:                 volume   R-squared:                       0.042\n",
      "Model:                            OLS   Adj. R-squared:                  0.029\n",
      "Method:                 Least Squares   F-statistic:                     3.334\n",
      "Date:                Mon, 10 Feb 2025   Prob (F-statistic):            0.00318\n",
      "Time:                        21:27:08   Log-Likelihood:                -2947.7\n",
      "No. Observations:                 463   AIC:                             5909.\n",
      "Df Residuals:                     456   BIC:                             5938.\n",
      "Df Model:                           6                                         \n",
      "Covariance Type:            nonrobust                                         \n",
      "====================================================================================\n",
      "                       coef    std err          t      P>|t|      [0.025      0.975]\n",
      "------------------------------------------------------------------------------------\n",
      "age                 -0.1717      0.555     -0.309      0.757      -1.262       0.919\n",
      "Male               -10.9387     19.371     -0.565      0.573     -49.006      27.129\n",
      "tiv                  0.0001   6.03e-05      2.271      0.024    1.84e-05       0.000\n",
      "WITH                41.3538     13.631      3.034      0.003      14.566      68.141\n",
      "MS                 -26.7839     18.746     -1.429      0.154     -63.623      10.055\n",
      "lesion_vol_cubic     9.4416      9.254      1.020      0.308      -8.743      27.627\n",
      "intercept           25.8970     98.370      0.263      0.792    -167.418     219.211\n",
      "==============================================================================\n",
      "Omnibus:                      313.230   Durbin-Watson:                   1.965\n",
      "Prob(Omnibus):                  0.000   Jarque-Bera (JB):             4187.398\n",
      "Skew:                           2.767   Prob(JB):                         0.00\n",
      "Kurtosis:                      16.654   Cond. No.                     2.26e+07\n",
      "==============================================================================\n",
      "\n",
      "Notes:\n",
      "[1] Standard Errors assume that the covariance matrix of the errors is correctly specified.\n",
      "[2] The condition number is large, 2.26e+07. This might indicate that there are\n",
      "strong multicollinearity or other numerical problems.\n"
     ]
    }
   ],
   "source": [
    "volume = 'pineal_volume'\n",
    "\n",
    "data = df[['dz_type2', 'age', 'sex', 'tiv', 'flair_contrast', 'dzdur', volume, 'PRL_LEVEL', 'lesion_vol_cubic']]\n",
    "data = data.rename(columns={volume: 'volume'})\n",
    "data = data[data['dz_type2'].isin(['MS', '!MS'])]\n",
    "data = data[data['flair_contrast'].isin(['WITH', 'WITHOUT'])]\n",
    "# data = data.drop([1548], axis=0)\n",
    "\n",
    "data = pd.concat((\n",
    "    data,\n",
    "    pd.get_dummies(data['dz_type2']),\n",
    "    pd.get_dummies(data['flair_contrast']),\n",
    "    pd.get_dummies(data['sex'])), axis=1)\n",
    "data['intercept'] = 1\n",
    "\n",
    "predictors = ['age', 'Male', 'tiv', 'WITH', 'MS', 'lesion_vol_cubic', 'intercept']\n",
    "\n",
    "res = sm.OLS(data['volume'].astype('float'), \n",
    "             data[predictors].astype('float'), missing='drop').fit()\n",
    "\n",
    "print(res.summary())"
   ]
  },
  {
   "cell_type": "markdown",
   "metadata": {},
   "source": [
    "##### MS vs NIND vs OIND\n",
    "\n",
    "Note: this is significant for MS vs Not-MS, but not when adding disease duration as a covariate"
   ]
  },
  {
   "cell_type": "code",
   "execution_count": 28,
   "metadata": {},
   "outputs": [
    {
     "name": "stdout",
     "output_type": "stream",
     "text": [
      "                            OLS Regression Results                            \n",
      "==============================================================================\n",
      "Dep. Variable:                 volume   R-squared:                       0.045\n",
      "Model:                            OLS   Adj. R-squared:                  0.032\n",
      "Method:                 Least Squares   F-statistic:                     3.558\n",
      "Date:                Fri, 07 Feb 2025   Prob (F-statistic):            0.00187\n",
      "Time:                        14:27:42   Log-Likelihood:                -2935.1\n",
      "No. Observations:                 461   AIC:                             5884.\n",
      "Df Residuals:                     454   BIC:                             5913.\n",
      "Df Model:                           6                                         \n",
      "Covariance Type:            nonrobust                                         \n",
      "==============================================================================\n",
      "                 coef    std err          t      P>|t|      [0.025      0.975]\n",
      "------------------------------------------------------------------------------\n",
      "age           -0.0133      0.536     -0.025      0.980      -1.067       1.040\n",
      "Female        10.4453     19.395      0.539      0.590     -27.669      48.560\n",
      "tiv            0.0001   6.03e-05      2.241      0.026    1.66e-05       0.000\n",
      "WITH          42.6188     13.605      3.133      0.002      15.883      69.355\n",
      "MS           -45.5492     23.784     -1.915      0.056     -92.290       1.191\n",
      "OIND         -45.3284     34.365     -1.319      0.188    -112.863      22.206\n",
      "intercept     43.4499    111.668      0.389      0.697    -176.001     262.901\n",
      "==============================================================================\n",
      "Omnibus:                      312.498   Durbin-Watson:                   1.989\n",
      "Prob(Omnibus):                  0.000   Jarque-Bera (JB):             4094.531\n",
      "Skew:                           2.782   Prob(JB):                         0.00\n",
      "Kurtosis:                      16.498   Cond. No.                     2.57e+07\n",
      "==============================================================================\n",
      "\n",
      "Notes:\n",
      "[1] Standard Errors assume that the covariance matrix of the errors is correctly specified.\n",
      "[2] The condition number is large, 2.57e+07. This might indicate that there are\n",
      "strong multicollinearity or other numerical problems.\n"
     ]
    }
   ],
   "source": [
    "volume = 'pineal_volume'\n",
    "\n",
    "data = df[['dz_type3', 'age', 'sex', 'tiv', 'flair_contrast', 'dzdur', volume]]\n",
    "data = data.rename(columns={volume: 'volume'})\n",
    "data = data[data['dz_type3'].isin(['MS', 'OIND', 'NIND'])]\n",
    "data = data[data['flair_contrast'].isin(['WITH', 'WITHOUT'])]\n",
    "\n",
    "data = pd.concat((\n",
    "    data,\n",
    "    pd.get_dummies(data['dz_type3']),\n",
    "    pd.get_dummies(data['flair_contrast']),\n",
    "    pd.get_dummies(data['sex'])), axis=1)\n",
    "data['intercept'] = 1\n",
    "\n",
    "predictors = ['age', 'Female', 'tiv', 'WITH', 'MS', 'OIND', 'intercept']\n",
    "\n",
    "res = sm.OLS(data['volume'].astype('float'), \n",
    "             data[predictors].astype('float'), missing='drop').fit()\n",
    "\n",
    "print(res.summary())"
   ]
  },
  {
   "cell_type": "markdown",
   "metadata": {},
   "source": [
    "##### PMS v RMS"
   ]
  },
  {
   "cell_type": "code",
   "execution_count": 37,
   "metadata": {},
   "outputs": [
    {
     "name": "stdout",
     "output_type": "stream",
     "text": [
      "                            OLS Regression Results                            \n",
      "==============================================================================\n",
      "Dep. Variable:                 volume   R-squared:                       0.047\n",
      "Model:                            OLS   Adj. R-squared:                  0.032\n",
      "Method:                 Least Squares   F-statistic:                     3.171\n",
      "Date:                Mon, 10 Feb 2025   Prob (F-statistic):            0.00476\n",
      "Time:                        21:14:17   Log-Likelihood:                -2471.6\n",
      "No. Observations:                 391   AIC:                             4957.\n",
      "Df Residuals:                     384   BIC:                             4985.\n",
      "Df Model:                           6                                         \n",
      "Covariance Type:            nonrobust                                         \n",
      "====================================================================================\n",
      "                       coef    std err          t      P>|t|      [0.025      0.975]\n",
      "------------------------------------------------------------------------------------\n",
      "age                 -0.1867      0.614     -0.304      0.761      -1.394       1.021\n",
      "Female               6.2626     20.212      0.310      0.757     -33.477      46.002\n",
      "tiv                  0.0002    6.3e-05      2.600      0.010    3.99e-05       0.000\n",
      "RMS                 25.1757     19.392      1.298      0.195     -12.953      63.304\n",
      "WITH                22.4277     14.106      1.590      0.113      -5.306      50.162\n",
      "lesion_vol_cubic    21.8201      9.571      2.280      0.023       3.002      40.638\n",
      "intercept          -76.2435    111.361     -0.685      0.494    -295.198     142.711\n",
      "==============================================================================\n",
      "Omnibus:                      256.759   Durbin-Watson:                   2.067\n",
      "Prob(Omnibus):                  0.000   Jarque-Bera (JB):             3181.741\n",
      "Skew:                           2.620   Prob(JB):                         0.00\n",
      "Kurtosis:                      15.955   Cond. No.                     2.45e+07\n",
      "==============================================================================\n",
      "\n",
      "Notes:\n",
      "[1] Standard Errors assume that the covariance matrix of the errors is correctly specified.\n",
      "[2] The condition number is large, 2.45e+07. This might indicate that there are\n",
      "strong multicollinearity or other numerical problems.\n"
     ]
    }
   ],
   "source": [
    "volume = 'pineal_volume'\n",
    "\n",
    "data = df[['dz_type5', 'age', 'sex', 'tiv', 'flair_contrast', 'dzdur', volume, 'PRL_LEVEL', 'lesion_vol_cubic']]\n",
    "data = data.rename(columns={volume: 'volume'})\n",
    "data = data[data['dz_type5'].isin(['RMS', 'PMS'])]\n",
    "data = data[data['flair_contrast'].isin(['WITH', 'WITHOUT'])]\n",
    "\n",
    "data = pd.concat((\n",
    "    data,\n",
    "    pd.get_dummies(data['dz_type5']),\n",
    "    pd.get_dummies(data['flair_contrast']),\n",
    "    pd.get_dummies(data['sex'])), axis=1)\n",
    "data['intercept'] = 1\n",
    "\n",
    "predictors = ['age', 'Female', 'tiv', 'RMS', 'WITH', 'lesion_vol_cubic', 'intercept']\n",
    "\n",
    "res = sm.OLS(data['volume'].astype('float'), \n",
    "             data[predictors].astype('float'), missing='drop').fit()\n",
    "\n",
    "print(res.summary())"
   ]
  },
  {
   "cell_type": "code",
   "execution_count": 33,
   "metadata": {},
   "outputs": [
    {
     "data": {
      "image/png": "[encoded data removed]",
      "text/plain": [
       "<Figure size 1200x600 with 1 Axes>"
      ]
     },
     "metadata": {},
     "output_type": "display_data"
    }
   ],
   "source": [
    "fig = plt.figure(figsize=(12, 6))\n",
    "sm.graphics.plot_partregress_grid(res, exog_idx=[\"lesion_vol_cubic\"], fig=fig)\n",
    "plt.show()"
   ]
  },
  {
   "cell_type": "markdown",
   "metadata": {},
   "source": [
    "#### Pituitary\n",
    "\n",
    "##### MS vs not-MS"
   ]
  },
  {
   "cell_type": "code",
   "execution_count": 62,
   "metadata": {},
   "outputs": [
    {
     "name": "stdout",
     "output_type": "stream",
     "text": [
      "                            OLS Regression Results                            \n",
      "==============================================================================\n",
      "Dep. Variable:                 volume   R-squared:                       0.097\n",
      "Model:                            OLS   Adj. R-squared:                  0.087\n",
      "Method:                 Least Squares   F-statistic:                     9.816\n",
      "Date:                Thu, 06 Feb 2025   Prob (F-statistic):           6.32e-09\n",
      "Time:                        18:33:05   Log-Likelihood:                -3014.4\n",
      "No. Observations:                 463   AIC:                             6041.\n",
      "Df Residuals:                     457   BIC:                             6066.\n",
      "Df Model:                           5                                         \n",
      "Covariance Type:            nonrobust                                         \n",
      "==============================================================================\n",
      "                 coef    std err          t      P>|t|      [0.025      0.975]\n",
      "------------------------------------------------------------------------------\n",
      "age           -0.2047      0.614     -0.333      0.739      -1.412       1.003\n",
      "Male         -63.8000     22.349     -2.855      0.005    -107.720     -19.880\n",
      "tiv          6.58e-05   6.95e-05      0.947      0.344   -7.08e-05       0.000\n",
      "WITH        -100.4604     15.677     -6.408      0.000    -131.269     -69.652\n",
      "MS             6.5531     21.230      0.309      0.758     -35.167      48.273\n",
      "intercept    703.0347    113.496      6.194      0.000     479.996     926.074\n",
      "==============================================================================\n",
      "Omnibus:                       51.570   Durbin-Watson:                   2.054\n",
      "Prob(Omnibus):                  0.000   Jarque-Bera (JB):              162.608\n",
      "Skew:                          -0.486   Prob(JB):                     4.90e-36\n",
      "Kurtosis:                       5.735   Cond. No.                     2.26e+07\n",
      "==============================================================================\n",
      "\n",
      "Notes:\n",
      "[1] Standard Errors assume that the covariance matrix of the errors is correctly specified.\n",
      "[2] The condition number is large, 2.26e+07. This might indicate that there are\n",
      "strong multicollinearity or other numerical problems.\n"
     ]
    }
   ],
   "source": [
    "volume = 'pituitary_volume'\n",
    "\n",
    "data = df[['dz_type2', 'age', 'sex', 'tiv', 'flair_contrast', 'dzdur', volume]]\n",
    "data = data.rename(columns={volume: 'volume'})\n",
    "data = data[data['dz_type2'].isin(['MS', '!MS'])]\n",
    "data = data[data['flair_contrast'].isin(['WITH', 'WITHOUT'])]\n",
    "\n",
    "data = pd.concat((\n",
    "    data,\n",
    "    pd.get_dummies(data['dz_type2']),\n",
    "    pd.get_dummies(data['flair_contrast']),\n",
    "    pd.get_dummies(data['sex'])), axis=1)\n",
    "data['intercept'] = 1\n",
    "\n",
    "predictors = ['age', 'Male', 'tiv', 'WITH', 'MS', 'intercept']\n",
    "\n",
    "res = sm.OLS(data['volume'].astype('float'), \n",
    "             data[predictors].astype('float'), missing='drop').fit()\n",
    "\n",
    "print(res.summary())"
   ]
  },
  {
   "cell_type": "markdown",
   "metadata": {},
   "source": [
    "##### MS vs NIND vs OIND"
   ]
  },
  {
   "cell_type": "code",
   "execution_count": 63,
   "metadata": {},
   "outputs": [
    {
     "name": "stdout",
     "output_type": "stream",
     "text": [
      "                            OLS Regression Results                            \n",
      "==============================================================================\n",
      "Dep. Variable:                 volume   R-squared:                       0.098\n",
      "Model:                            OLS   Adj. R-squared:                  0.086\n",
      "Method:                 Least Squares   F-statistic:                     8.249\n",
      "Date:                Thu, 06 Feb 2025   Prob (F-statistic):           1.72e-08\n",
      "Time:                        18:33:12   Log-Likelihood:                -3002.1\n",
      "No. Observations:                 461   AIC:                             6018.\n",
      "Df Residuals:                     454   BIC:                             6047.\n",
      "Df Model:                           6                                         \n",
      "Covariance Type:            nonrobust                                         \n",
      "==============================================================================\n",
      "                 coef    std err          t      P>|t|      [0.025      0.975]\n",
      "------------------------------------------------------------------------------\n",
      "age           -0.2283      0.620     -0.368      0.713      -1.447       0.990\n",
      "Female        64.3471     22.428      2.869      0.004      20.272     108.422\n",
      "tiv         6.805e-05   6.97e-05      0.976      0.330    -6.9e-05       0.000\n",
      "WITH        -100.3677     15.733     -6.380      0.000    -131.285     -69.450\n",
      "MS            20.3409     27.504      0.740      0.460     -33.710      74.392\n",
      "OIND          30.3141     39.740      0.763      0.446     -47.782     108.411\n",
      "intercept    622.7277    129.133      4.822      0.000     368.955     876.500\n",
      "==============================================================================\n",
      "Omnibus:                       52.333   Durbin-Watson:                   2.056\n",
      "Prob(Omnibus):                  0.000   Jarque-Bera (JB):              170.675\n",
      "Skew:                          -0.486   Prob(JB):                     8.68e-38\n",
      "Kurtosis:                       5.818   Cond. No.                     2.57e+07\n",
      "==============================================================================\n",
      "\n",
      "Notes:\n",
      "[1] Standard Errors assume that the covariance matrix of the errors is correctly specified.\n",
      "[2] The condition number is large, 2.57e+07. This might indicate that there are\n",
      "strong multicollinearity or other numerical problems.\n"
     ]
    }
   ],
   "source": [
    "volume = 'pituitary_volume'\n",
    "\n",
    "data = df[['dz_type3', 'age', 'sex', 'tiv', 'flair_contrast', 'dzdur', volume]]\n",
    "data = data.rename(columns={volume: 'volume'})\n",
    "data = data[data['dz_type3'].isin(['MS', 'OIND', 'NIND'])]\n",
    "data = data[data['flair_contrast'].isin(['WITH', 'WITHOUT'])]\n",
    "\n",
    "data = pd.concat((\n",
    "    data,\n",
    "    pd.get_dummies(data['dz_type3']),\n",
    "    pd.get_dummies(data['flair_contrast']),\n",
    "    pd.get_dummies(data['sex'])), axis=1)\n",
    "data['intercept'] = 1\n",
    "\n",
    "predictors = ['age', 'Female', 'tiv', 'WITH', 'MS', 'OIND', 'intercept']\n",
    "\n",
    "res = sm.OLS(data['volume'].astype('float'), \n",
    "             data[predictors].astype('float'), missing='drop').fit()\n",
    "\n",
    "print(res.summary())"
   ]
  },
  {
   "cell_type": "markdown",
   "metadata": {},
   "source": [
    "##### PMS v RMS"
   ]
  },
  {
   "cell_type": "code",
   "execution_count": 35,
   "metadata": {},
   "outputs": [
    {
     "name": "stdout",
     "output_type": "stream",
     "text": [
      "                            OLS Regression Results                            \n",
      "==============================================================================\n",
      "Dep. Variable:                 volume   R-squared:                       0.079\n",
      "Model:                            OLS   Adj. R-squared:                  0.063\n",
      "Method:                 Least Squares   F-statistic:                     4.967\n",
      "Date:                Wed, 29 Jan 2025   Prob (F-statistic):           6.41e-06\n",
      "Time:                        15:34:20   Log-Likelihood:                -2970.7\n",
      "No. Observations:                 475   AIC:                             5959.\n",
      "Df Residuals:                     466   BIC:                             5997.\n",
      "Df Model:                           8                                         \n",
      "Covariance Type:            nonrobust                                         \n",
      "====================================================================================\n",
      "                       coef    std err          t      P>|t|      [0.025      0.975]\n",
      "------------------------------------------------------------------------------------\n",
      "age                 -1.1982      0.546     -2.193      0.029      -2.272      -0.124\n",
      "Female              77.7125     17.298      4.493      0.000      43.721     111.704\n",
      "tiv                  0.0001   5.36e-05      1.910      0.057   -2.94e-06       0.000\n",
      "RMS                 14.5658     21.520      0.677      0.499     -27.723      56.855\n",
      "PMS                  7.6593     25.616      0.299      0.765     -42.677      57.996\n",
      "OIND                38.7697     30.502      1.271      0.204     -21.168      98.707\n",
      "PRL_LEVEL           10.5988      9.616      1.102      0.271      -8.296      29.494\n",
      "lesion_vol_cubic    -3.0705      7.757     -0.396      0.692     -18.313      12.172\n",
      "intercept          516.7708     98.595      5.241      0.000     323.024     710.517\n",
      "==============================================================================\n",
      "Omnibus:                       33.483   Durbin-Watson:                   1.949\n",
      "Prob(Omnibus):                  0.000   Jarque-Bera (JB):               91.286\n",
      "Skew:                          -0.303   Prob(JB):                     1.51e-20\n",
      "Kurtosis:                       5.060   Cond. No.                     2.58e+07\n",
      "==============================================================================\n",
      "\n",
      "Notes:\n",
      "[1] Standard Errors assume that the covariance matrix of the errors is correctly specified.\n",
      "[2] The condition number is large, 2.58e+07. This might indicate that there are\n",
      "strong multicollinearity or other numerical problems.\n"
     ]
    }
   ],
   "source": [
    "volume = 'pituitary_volume'\n",
    "\n",
    "data = df[['dz_type', 'age', 'sex', 'tiv', 'flair_contrast', 'dzdur', volume, 'PRL_LEVEL', 'lesion_vol_cubic']]\n",
    "data = data.rename(columns={volume: 'volume'})\n",
    "data = data[data['dz_type'].isin(['RMS', 'PMS', 'OIND', 'NIND'])]\n",
    "data = data[data['flair_contrast'].isin(['WITH', 'WITHOUT'])]\n",
    "\n",
    "data = pd.concat((\n",
    "    data,\n",
    "    pd.get_dummies(data['dz_type']),\n",
    "    pd.get_dummies(data['flair_contrast']),\n",
    "    pd.get_dummies(data['sex'])), axis=1)\n",
    "data['intercept'] = 1\n",
    "\n",
    "predictors = ['age', 'Female', 'tiv', 'PMS', 'RMS', 'OIND', 'intercept']\n",
    "predictors = ['age', 'Female', 'tiv', 'RMS', 'PMS', 'OIND', 'PRL_LEVEL', 'lesion_vol_cubic', 'intercept']\n",
    "\n",
    "res = sm.OLS(data['volume'].astype('float'), \n",
    "             data[predictors].astype('float'), missing='drop').fit()\n",
    "\n",
    "print(res.summary())"
   ]
  },
  {
   "cell_type": "markdown",
   "metadata": {},
   "source": [
    "### Ordinal Regression on EDSS\n",
    "\n",
    "Predict EDSS score using volumes. Use MS vs OIND vs NIND as covariate (in addition to the others)"
   ]
  },
  {
   "cell_type": "code",
   "execution_count": 64,
   "metadata": {},
   "outputs": [
    {
     "name": "stdout",
     "output_type": "stream",
     "text": [
      "                            OLS Regression Results                            \n",
      "==============================================================================\n",
      "Dep. Variable:         extracted_EDSS   R-squared:                       0.250\n",
      "Model:                            OLS   Adj. R-squared:                  0.231\n",
      "Method:                 Least Squares   F-statistic:                     12.95\n",
      "Date:                Thu, 06 Feb 2025   Prob (F-statistic):           7.68e-18\n",
      "Time:                        18:33:31   Log-Likelihood:                -699.74\n",
      "No. Observations:                 359   AIC:                             1419.\n",
      "Df Residuals:                     349   BIC:                             1458.\n",
      "Df Model:                           9                                         \n",
      "Covariance Type:            nonrobust                                         \n",
      "====================================================================================\n",
      "                       coef    std err          t      P>|t|      [0.025      0.975]\n",
      "------------------------------------------------------------------------------------\n",
      "age                  0.0433      0.010      4.365      0.000       0.024       0.063\n",
      "Female              -0.4562      0.267     -1.706      0.089      -0.982       0.070\n",
      "tiv              -4.099e-07   8.66e-07     -0.474      0.636   -2.11e-06    1.29e-06\n",
      "PRL_LEVEL            0.2155      0.124      1.732      0.084      -0.029       0.460\n",
      "lesion_vol_cubic     0.4446      0.145      3.060      0.002       0.159       0.730\n",
      "choroid_volume      -0.0002      0.000     -1.137      0.256      -0.001       0.000\n",
      "pineal_volume       -0.0011      0.001     -1.709      0.088      -0.002       0.000\n",
      "pituitary_volume     0.0006      0.001      1.032      0.303      -0.001       0.002\n",
      "dzdur                0.0375      0.012      3.180      0.002       0.014       0.061\n",
      "intercept            0.6336      1.508      0.420      0.675      -2.332       3.599\n",
      "==============================================================================\n",
      "Omnibus:                       33.736   Durbin-Watson:                   2.007\n",
      "Prob(Omnibus):                  0.000   Jarque-Bera (JB):               40.672\n",
      "Skew:                           0.812   Prob(JB):                     1.47e-09\n",
      "Kurtosis:                       3.284   Cond. No.                     2.50e+07\n",
      "==============================================================================\n",
      "\n",
      "Notes:\n",
      "[1] Standard Errors assume that the covariance matrix of the errors is correctly specified.\n",
      "[2] The condition number is large, 2.5e+07. This might indicate that there are\n",
      "strong multicollinearity or other numerical problems.\n"
     ]
    }
   ],
   "source": [
    "data = df[\n",
    "    [\n",
    "        \"dz_type3\",\n",
    "        \"dz_type\",\n",
    "        \"age\",\n",
    "        \"sex\",\n",
    "        \"tiv\",\n",
    "        \"flair_contrast\",\n",
    "        \"extracted_EDSS\",\n",
    "        \"ARMSS\",\n",
    "        \"PRL_LEVEL\",\n",
    "        \"lesion_vol_cubic\",\n",
    "        \"MSSS\",\n",
    "        \"choroid_volume\",\n",
    "        \"pineal_volume\",\n",
    "        \"pituitary_volume\",\n",
    "        \"thalamus\",\n",
    "        \"brain\",\n",
    "        \"cortical_thickness\",\n",
    "        \"dzdur\"\n",
    "    ]\n",
    "]\n",
    "data = data[data[\"dz_type3\"].isin([\"MS\"])]\n",
    "data.loc[:, [\"dz_type3_factor\"]], _ = data[\"dz_type3\"].factorize(sort=False)\n",
    "\n",
    "data = data[data[\"flair_contrast\"].isin([\"WITH\", \"WITHOUT\"])]\n",
    "# df['extracted_EDSS'] = df['extracted_EDSS'] * 2\n",
    "data.loc[data[\"extracted_EDSS\"] == \".\", \"extracted_EDSS\"] = None\n",
    "# data['extracted_EDSS'] = pd.Categorical(data['extracted_EDSS'], ordered=True)\n",
    "\n",
    "data = pd.concat(\n",
    "    (\n",
    "        data,\n",
    "        pd.get_dummies(data[\"dz_type\"]),\n",
    "        pd.get_dummies(data[\"flair_contrast\"]),\n",
    "        pd.get_dummies(data[\"sex\"]),\n",
    "    ),\n",
    "    axis=1,\n",
    ")\n",
    "data[\"intercept\"] = 1\n",
    "\n",
    "# predictors = ['age', 'Female', 'tiv', 'choroid_volume', 'pineal_volume', 'pituitary_volume', 'thalamus', 'brain', 'cortical_thickness', 'intercept']\n",
    "# predictors = ['age', 'Female', 'tiv', 'RMS', 'PRL_LEVEL', 'lesion_vol_cubic', 'choroid_volume', 'pineal_volume', 'pituitary_volume', 'thalamus', 'brain', 'cortical_thickness', 'intercept']\n",
    "\n",
    "predictors = [\n",
    "    \"age\",\n",
    "    \"Female\",\n",
    "    \"tiv\",\n",
    "    \"PRL_LEVEL\",\n",
    "    \"lesion_vol_cubic\",\n",
    "    \"choroid_volume\",\n",
    "    \"pineal_volume\",\n",
    "    \"pituitary_volume\",\n",
    "    \"dzdur\",\n",
    "    \"intercept\",\n",
    "]\n",
    "\n",
    "data = data.dropna()\n",
    "\n",
    "# mod = OrderedModel(data2['numEDSS'],\n",
    "#                    data2[predictors].astype('float'), distr='probit', disp=False)\n",
    "# res = mod.fit(method='nm')\n",
    "\n",
    "res = sm.OLS(\n",
    "    data[\"extracted_EDSS\"].astype(\"float\"), data[predictors].astype(\"float\")\n",
    ").fit(missing=\"drop\")\n",
    "\n",
    "print(res.summary())"
   ]
  },
  {
   "cell_type": "code",
   "execution_count": 65,
   "metadata": {},
   "outputs": [
    {
     "name": "stdout",
     "output_type": "stream",
     "text": [
      "                            OLS Regression Results                            \n",
      "==============================================================================\n",
      "Dep. Variable:                   MSSS   R-squared:                       0.204\n",
      "Model:                            OLS   Adj. R-squared:                  0.176\n",
      "Method:                 Least Squares   F-statistic:                     7.394\n",
      "Date:                Thu, 06 Feb 2025   Prob (F-statistic):           3.95e-12\n",
      "Time:                        18:34:51   Log-Likelihood:                -791.06\n",
      "No. Observations:                 359   AIC:                             1608.\n",
      "Df Residuals:                     346   BIC:                             1659.\n",
      "Df Model:                          12                                         \n",
      "Covariance Type:            nonrobust                                         \n",
      "======================================================================================\n",
      "                         coef    std err          t      P>|t|      [0.025      0.975]\n",
      "--------------------------------------------------------------------------------------\n",
      "age                   -0.0163      0.013     -1.292      0.197      -0.041       0.009\n",
      "Female                -0.0777      0.362     -0.215      0.830      -0.789       0.634\n",
      "tiv                  1.64e-07   1.18e-06      0.139      0.890   -2.16e-06    2.49e-06\n",
      "RMS                   -2.5707      0.331     -7.757      0.000      -3.222      -1.919\n",
      "PRL_LEVEL              0.2846      0.163      1.749      0.081      -0.036       0.605\n",
      "lesion_vol_cubic      -0.0629      0.225     -0.279      0.780      -0.506       0.380\n",
      "choroid_volume        -0.0002      0.000     -0.916      0.360      -0.001       0.000\n",
      "pineal_volume         -0.0012      0.001     -1.446      0.149      -0.003       0.000\n",
      "pituitary_volume    2.364e-05      0.001      0.031      0.975      -0.001       0.002\n",
      "thalamus              -0.0723      0.081     -0.888      0.375      -0.232       0.088\n",
      "brain                  0.0017      0.002      0.819      0.413      -0.002       0.006\n",
      "cortical_thickness    -0.7953      1.468     -0.542      0.588      -3.683       2.092\n",
      "intercept              7.3468      4.154      1.769      0.078      -0.823      15.517\n",
      "==============================================================================\n",
      "Omnibus:                       33.260   Durbin-Watson:                   1.971\n",
      "Prob(Omnibus):                  0.000   Jarque-Bera (JB):               39.752\n",
      "Skew:                           0.790   Prob(JB):                     2.33e-09\n",
      "Kurtosis:                       3.399   Cond. No.                     5.45e+07\n",
      "==============================================================================\n",
      "\n",
      "Notes:\n",
      "[1] Standard Errors assume that the covariance matrix of the errors is correctly specified.\n",
      "[2] The condition number is large, 5.45e+07. This might indicate that there are\n",
      "strong multicollinearity or other numerical problems.\n"
     ]
    }
   ],
   "source": [
    "data = df[['dz_type3', 'dz_type', 'age', 'sex', 'tiv', 'flair_contrast', 'extracted_EDSS', 'ARMSS', 'PRL_LEVEL', \"lesion_vol_cubic\",\n",
    "           'MSSS', 'choroid_volume', 'pineal_volume', 'pituitary_volume', 'thalamus', 'brain', 'cortical_thickness']]\n",
    "data = data[data['dz_type3'].isin(['MS'])]\n",
    "data.loc[:, ['dz_type3_factor']], _ = data['dz_type3'].factorize(sort=False)\n",
    "\n",
    "data = data[data['flair_contrast'].isin(['WITH', 'WITHOUT'])]\n",
    "# df['extracted_EDSS'] = df['extracted_EDSS'] * 2\n",
    "data.loc[data['extracted_EDSS'] == \".\", \"extracted_EDSS\"] = None\n",
    "# data['extracted_EDSS'] = pd.Categorical(data['extracted_EDSS'], ordered=True)\n",
    "\n",
    "data = pd.concat((\n",
    "    data,\n",
    "    pd.get_dummies(data['dz_type']),\n",
    "    pd.get_dummies(data['flair_contrast']),\n",
    "    pd.get_dummies(data['sex'])), axis=1)\n",
    "data['intercept'] = 1\n",
    "\n",
    "# predictors = ['age', 'Female', 'tiv', 'choroid_volume', 'pineal_volume', 'pituitary_volume', 'thalamus', 'brain', 'cortical_thickness', 'intercept']\n",
    "predictors = ['age', 'Female', 'tiv', 'RMS', 'PRL_LEVEL', 'lesion_vol_cubic', 'choroid_volume', 'pineal_volume', 'pituitary_volume', 'thalamus', 'brain', 'cortical_thickness', 'intercept']\n",
    "\n",
    "data = data.dropna()\n",
    "\n",
    "# mod = OrderedModel(data2['numEDSS'], \n",
    "#                    data2[predictors].astype('float'), distr='probit', disp=False)\n",
    "# res = mod.fit(method='nm')\n",
    "\n",
    "res = sm.OLS(data['MSSS'].astype('float'), \n",
    "             data[predictors].astype('float')).fit(missing='drop')\n",
    "\n",
    "print(res.summary())"
   ]
  },
  {
   "cell_type": "markdown",
   "metadata": {},
   "source": [
    "### JASP Data"
   ]
  },
  {
   "cell_type": "code",
   "execution_count": 71,
   "metadata": {},
   "outputs": [
    {
     "name": "stderr",
     "output_type": "stream",
     "text": [
      "/tmp/ipykernel_1045637/997622101.py:34: FutureWarning: Setting an item of incompatible dtype is deprecated and will raise an error in a future version of pandas. Value '1' has dtype incompatible with bool, please explicitly cast to a compatible dtype first.\n",
      "  df_jasp.loc[i, 'Female'] = 1\n",
      "/tmp/ipykernel_1045637/997622101.py:41: FutureWarning: Setting an item of incompatible dtype is deprecated and will raise an error in a future version of pandas. Value '0' has dtype incompatible with bool, please explicitly cast to a compatible dtype first.\n",
      "  df_jasp.loc[i, 'Male'] = 0\n"
     ]
    }
   ],
   "source": [
    "columns = [\n",
    "    \"dz_type\",\n",
    "    \"dz_type2\",\n",
    "    \"dz_type3\",\n",
    "    \"dz_type4\",\n",
    "    \"dz_type5\",\n",
    "    \"age\",\n",
    "    \"sex\",\n",
    "    \"tiv\",\n",
    "    \"flair_contrast\",\n",
    "    \"extracted_EDSS\",\n",
    "    \"ARMSS\",\n",
    "    \"PRL_LEVEL\",\n",
    "    \"lesion_vol_cubic\",\n",
    "    \"MSSS\",\n",
    "    \"choroid_volume\",\n",
    "    \"pineal_volume\",\n",
    "    \"pituitary_volume\",\n",
    "    \"thalamus\",\n",
    "    \"brain\",\n",
    "    \"cortical_thickness\",\n",
    "    \"dzdur\"\n",
    "]\n",
    "df_jasp = df[columns]\n",
    "df_jasp = pd.concat((\n",
    "    df_jasp,\n",
    "    pd.get_dummies(df_jasp['sex'])),\n",
    "    axis=1\n",
    ")\n",
    "df_jasp = df_jasp.loc[df_jasp['dzdur'] != \".\", :]\n",
    "\n",
    "for i, row in df_jasp.iterrows():\n",
    "    if row['Female']:\n",
    "        df_jasp.loc[i, 'Female'] = 1\n",
    "    else:\n",
    "        df_jasp.loc[i, 'Female'] = 0\n",
    "    \n",
    "    if row['Male']:\n",
    "        df_jasp.loc[i, 'Male'] = 1\n",
    "    else:\n",
    "        df_jasp.loc[i, 'Male'] = 0\n",
    "    \n",
    "    if row['flair_contrast'] == \"WITH\":\n",
    "        df_jasp.loc[i, 'WITH_CONTRAST'] = 1\n",
    "    else:\n",
    "        df_jasp.loc[i, 'WITH_CONTRAST'] = 0"
   ]
  },
  {
   "cell_type": "code",
   "execution_count": 72,
   "metadata": {},
   "outputs": [],
   "source": [
    "jasp_dir = Path(\"/home/srs-9/Projects/ms_mri/monai_analysis/choroid_pineal_pituitary_FLAIR-1/jasp_data\")\n",
    "\n",
    "df_jasp.to_csv(jasp_dir / \"dataframe.csv\")"
   ]
  },
  {
   "cell_type": "code",
   "execution_count": 73,
   "metadata": {},
   "outputs": [
    {
     "data": {
      "text/plain": [
       "array(['MS', 'NIND', 'UNK', 'HC', 'OIND', 'RIS'], dtype=object)"
      ]
     },
     "execution_count": 73,
     "metadata": {},
     "output_type": "execute_result"
    }
   ],
   "source": [
    "df['dz_type3'].unique()"
   ]
  },
  {
   "cell_type": "code",
   "execution_count": 74,
   "metadata": {},
   "outputs": [],
   "source": [
    "df_jasp3 = df_jasp[df_jasp['dz_type3'].isin([\"MS\", \"NIND\", \"OIND\"])]\n",
    "df_jasp5 = df_jasp[df_jasp['dz_type5'].isin([\"RMS\", \"PMS\", \"NIND\", \"OIND\"])]\n",
    "df_jasp_ms = df_jasp[df_jasp['dz_type5'].isin([\"RMS\", \"PMS\"])]\n",
    "\n",
    "df_jasp3.to_csv(jasp_dir / \"dataframe3.csv\")\n",
    "df_jasp5.to_csv(jasp_dir / \"dataframe5.csv\")\n",
    "df_jasp_ms.to_csv(jasp_dir / \"dataframeMS.csv\")"
   ]
  },
  {
   "cell_type": "code",
   "execution_count": 61,
   "metadata": {},
   "outputs": [
    {
     "data": {
      "text/plain": [
       "<BarContainer object of 2 artists>"
      ]
     },
     "execution_count": 61,
     "metadata": {},
     "output_type": "execute_result"
    },
    {
     "data": {
      "image/png": "[encoded data removed]",
      "text/plain": [
       "<Figure size 1200x400 with 3 Axes>"
      ]
     },
     "metadata": {},
     "output_type": "display_data"
    }
   ],
   "source": [
    "fig, axes = plt.subplots(1,3)\n",
    "fig.set_figwidth(12)\n",
    "fig.set_figheight(4)\n",
    "axes[0].bar([\"WITH\", \"WITHOUT\"], [\n",
    "    df.loc[df['flair_contrast'] == \"WITH\", \"choroid_volume\"].mean(),\n",
    "    df.loc[df['flair_contrast'] == \"WITHOUT\", \"choroid_volume\"].mean()\n",
    "], yerr=[\n",
    "    df.loc[df['flair_contrast'] == \"WITH\", \"choroid_volume\"].sem(),\n",
    "    df.loc[df['flair_contrast'] == \"WITHOUT\", \"choroid_volume\"].sem()\n",
    "])\n",
    "# axes[0].set_title(\"Choroid volume\")\n",
    "\n",
    "axes[1].bar([\"WITH\", \"WITHOUT\"], [\n",
    "    df.loc[df['flair_contrast'] == \"WITH\", \"pineal_volume\"].mean(),\n",
    "    df.loc[df['flair_contrast'] == \"WITHOUT\", \"pineal_volume\"].mean()\n",
    "], yerr=[\n",
    "    df.loc[df['flair_contrast'] == \"WITH\", \"pineal_volume\"].sem(),\n",
    "    df.loc[df['flair_contrast'] == \"WITHOUT\", \"pineal_volume\"].sem()\n",
    "])\n",
    "# axes[1].set_title(\"Pineal volume\")\n",
    "\n",
    "axes[2].bar([\"WITH\", \"WITHOUT\"], [\n",
    "    df.loc[df['flair_contrast'] == \"WITH\", \"pituitary_volume\"].mean(),\n",
    "    df.loc[df['flair_contrast'] == \"WITHOUT\", \"pituitary_volume\"].mean()\n",
    "], yerr=[\n",
    "    df.loc[df['flair_contrast'] == \"WITH\", \"pituitary_volume\"].sem(),\n",
    "    df.loc[df['flair_contrast'] == \"WITHOUT\", \"pituitary_volume\"].sem()\n",
    "])\n",
    "# axes[2].set_title(\"Pituitary Volume\")"
   ]
  },
  {
   "cell_type": "code",
   "execution_count": 54,
   "metadata": {},
   "outputs": [
    {
     "data": {
      "text/plain": [
       "Text(0.5, 1.0, 'Pituitary Volume (flair model)')"
      ]
     },
     "execution_count": 54,
     "metadata": {},
     "output_type": "execute_result"
    },
    {
     "data": {
      "image/png": "[encoded data removed]",
      "text/plain": [
       "<Figure size 640x480 with 1 Axes>"
      ]
     },
     "metadata": {},
     "output_type": "display_data"
    }
   ],
   "source": [
    "plt.bar([\"WITH\", \"WITHOUT\"], [\n",
    "    df.loc[df['flair_contrast'] == \"WITH\", \"pituitary_volume\"].mean(),\n",
    "    df.loc[df['flair_contrast'] == \"WITHOUT\", \"pituitary_volume\"].mean()\n",
    "], yerr=[\n",
    "    df.loc[df['flair_contrast'] == \"WITH\", \"pituitary_volume\"].sem(),\n",
    "    df.loc[df['flair_contrast'] == \"WITHOUT\", \"pituitary_volume\"].sem()\n",
    "])\n",
    "plt.title(\"Pituitary Volume (flair model)\")"
   ]
  }
 ],
 "metadata": {
  "kernelspec": {
   "display_name": "monai",
   "language": "python",
   "name": "python3"
  },
  "language_info": {
   "codemirror_mode": {
    "name": "ipython",
    "version": 3
   },
   "file_extension": ".py",
   "mimetype": "text/x-python",
   "name": "python",
   "nbconvert_exporter": "python",
   "pygments_lexer": "ipython3",
   "version": "3.12.4"
  }
 },
 "nbformat": 4,
 "nbformat_minor": 2
}
