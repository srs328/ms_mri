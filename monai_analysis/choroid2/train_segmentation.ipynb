{
 "cells": [
  {
   "cell_type": "markdown",
   "id": "6b5ef0d0-d80a-49f6-93dd-50dd79b06345",
   "metadata": {
    "tags": []
   },
   "source": [
    "# Choroid Plexus Segmentation Training via Auto3DSeg\n",
    "\n",
    "This time use just flair instead of the 2 channel t1_flair"
   ]
  },
  {
   "cell_type": "code",
   "execution_count": 1,
   "id": "447dcb1b-ab8f-43b9-9439-d703a0881dc7",
   "metadata": {
    "tags": []
   },
   "outputs": [
    {
     "name": "stdout",
     "output_type": "stream",
     "text": [
      "MONAI version: 1.3.2\n",
      "Numpy version: 1.26.4\n",
      "Pytorch version: 2.3.1+cu121\n",
      "MONAI flags: HAS_EXT = False, USE_COMPILED = False, USE_META_DICT = False\n",
      "MONAI rev id: 59a7211070538586369afd4a01eca0a7fe2e742e\n",
      "MONAI __file__: /home/<username>/.virtualenvs/monai/lib/python3.12/site-packages/monai/__init__.py\n",
      "\n",
      "Optional dependencies:\n",
      "Pytorch Ignite version: NOT INSTALLED or UNKNOWN VERSION.\n",
      "ITK version: 5.4.0\n",
      "Nibabel version: 5.2.1\n",
      "scikit-image version: 0.24.0\n",
      "scipy version: 1.14.0\n",
      "Pillow version: 10.4.0\n",
      "Tensorboard version: 2.17.0\n",
      "gdown version: 5.2.0\n",
      "TorchVision version: 0.18.1+cu121\n",
      "tqdm version: 4.66.4\n",
      "lmdb version: 1.5.1\n",
      "psutil version: 6.0.0\n",
      "pandas version: 2.2.2\n",
      "einops version: 0.8.0\n",
      "transformers version: 4.42.4\n",
      "mlflow version: 2.14.3\n",
      "pynrrd version: 1.0.0\n",
      "clearml version: 1.16.2\n",
      "\n",
      "For details about installing the optional dependencies, please visit:\n",
      "    https://docs.monai.io/en/latest/installation.html#installing-the-recommended-dependencies\n",
      "\n"
     ]
    }
   ],
   "source": [
    "import os\n",
    "import json\n",
    "import nibabel as nib\n",
    "import nibabel as nibabel\n",
    "import numpy as np\n",
    "import matplotlib.pyplot as plt\n",
    "from pathlib import Path\n",
    "import glob\n",
    "import random\n",
    "from monai.apps.auto3dseg import AutoRunner\n",
    "from monai.config import print_config\n",
    "from mri_preproc.paths import hemond_data, init_paths\n",
    "import importlib\n",
    "from dataclasses import asdict\n",
    "\n",
    "print_config()"
   ]
  },
  {
   "cell_type": "code",
   "execution_count": 2,
   "id": "074f8700",
   "metadata": {},
   "outputs": [
    {
     "data": {
      "text/plain": [
       "<module 'mri_preproc.paths.hemond_data' from '/home/hemondlab/Dev/ms_mri/mri_preproc/paths/hemond_data.py'>"
      ]
     },
     "execution_count": 2,
     "metadata": {},
     "output_type": "execute_result"
    }
   ],
   "source": [
    "init_paths.main()\n",
    "importlib.reload(hemond_data)"
   ]
  },
  {
   "cell_type": "code",
   "execution_count": 3,
   "id": "ed066e89",
   "metadata": {},
   "outputs": [
    {
     "data": {
      "text/plain": [
       "'/home/hemondlab/Dev/ms_mri/monai_analysis/choroid2'"
      ]
     },
     "execution_count": 3,
     "metadata": {},
     "output_type": "execute_result"
    }
   ],
   "source": [
    "cwd = os.getcwd()\n",
    "cwd"
   ]
  },
  {
   "cell_type": "markdown",
   "id": "9757d709-c563-4082-a369-c08f07ed3fbf",
   "metadata": {},
   "source": [
    "## Prep the database\n",
    "\n",
    "Get the data and labels organized"
   ]
  },
  {
   "cell_type": "code",
   "execution_count": 4,
   "id": "e8009ba8",
   "metadata": {},
   "outputs": [],
   "source": [
    "dataroot = \"/home/hemondlab/3Tpioneer_bids\"\n",
    "work_dir = \"/home/hemondlab/Dev/ms_mri/training_work_dirs/cp_work_dir_choroid2\"\n",
    "dataset = hemond_data.scan_3Tpioneer_bids(dataroot, \"flair\", \"choroid_t1_flair\")\n",
    "omit_subs = []"
   ]
  },
  {
   "cell_type": "code",
   "execution_count": 5,
   "id": "7a60eef3",
   "metadata": {},
   "outputs": [
    {
     "name": "stdout",
     "output_type": "stream",
     "text": [
      "37 labeled scans\n"
     ]
    }
   ],
   "source": [
    "dataset = [data for data in dataset if data.label is not None and data.subid not in omit_subs]\n",
    "print(f\"{len(dataset)} labeled scans\")"
   ]
  },
  {
   "cell_type": "code",
   "execution_count": 11,
   "id": "8aa87222",
   "metadata": {},
   "outputs": [
    {
     "data": {
      "text/plain": [
       "Scan(subid='ms1518', date='20220216', root=PosixPath('/home/hemondlab/3Tpioneer_bids/sub-ms1518/ses-20220216'), image=PosixPath('/home/hemondlab/3Tpioneer_bids/sub-ms1518/ses-20220216/flair.nii.gz'), label=PosixPath('/home/hemondlab/3Tpioneer_bids/sub-ms1518/ses-20220216/choroid_t1_flair.nii.gz'), cond='tr')"
      ]
     },
     "execution_count": 11,
     "metadata": {},
     "output_type": "execute_result"
    }
   ],
   "source": [
    "test_frac = 0.2\n",
    "dataset = hemond_data.assign_conditions(dataset, test_frac)\n",
    "dataset[1]"
   ]
  },
  {
   "cell_type": "markdown",
   "id": "77c3d4ba-a4ee-46f9-bbef-73bea3f1e1f4",
   "metadata": {},
   "source": [
    "## Review"
   ]
  },
  {
   "cell_type": "code",
   "execution_count": 12,
   "id": "2fb4c306-d08a-4205-b701-49e362e87bdd",
   "metadata": {
    "tags": []
   },
   "outputs": [],
   "source": [
    "def display_slices(scan):\n",
    "    img1 = nibabel.load(scan.image)\n",
    "    img2 = nibabel.load(scan.label)\n",
    "\n",
    "    data1 = img1.get_fdata()[:,:,:]\n",
    "    data2 = img2.get_fdata()\n",
    "\n",
    "    slice_sums = np.sum(data2, axis=(0, 1))\n",
    "    \n",
    "    print(slice_sums)\n",
    "\n",
    "    max_slice_index = np.argmax(slice_sums)\n",
    "    print(f\"Max slice: {max_slice_index}\")\n",
    "\n",
    "    slice1 = data1[:, :, max_slice_index]\n",
    "    slice2 = data2[:, :, max_slice_index]    \n",
    "\n",
    "    plt.figure(figsize=(10, 5))\n",
    "    plt.subplot(1, 2, 1)\n",
    "    plt.imshow(slice1, cmap='gray')\n",
    "    plt.title(f\"Image 1 - Slice {max_slice_index}\")\n",
    "    plt.axis('off')\n",
    "\n",
    "    plt.subplot(1, 2, 2)\n",
    "    plt.imshow(slice2, cmap='gray')\n",
    "    plt.title(f\"Image 2 - Slice {max_slice_index}\")\n",
    "    plt.axis('off')\n",
    "    plt.show()\n"
   ]
  },
  {
   "cell_type": "code",
   "execution_count": 13,
   "id": "012dccd4",
   "metadata": {},
   "outputs": [],
   "source": [
    "img2 = nibabel.load(dataset[0].label)\n",
    "data2 = img2.get_fdata()"
   ]
  },
  {
   "cell_type": "code",
   "execution_count": 14,
   "id": "0a062717-42d3-4a72-aa99-f3e0cb3994e6",
   "metadata": {
    "tags": []
   },
   "outputs": [
    {
     "name": "stdout",
     "output_type": "stream",
     "text": [
      "[  0.   0.   0.   0.   0.   0.   0.   0.   0.   0.   0.   0.   0.   0.\n",
      "   0.   0.   0.   0.   0.   0.   0.   0.   0.   0.   0.   0.   0.   0.\n",
      "   0.   0.   0.   0.   0.   0.   0.   0.   0.   0.   0.   0.   0.   0.\n",
      "   0.   0.   0.   0.   0.   0.   0.   0.   0.   0.   0.   0.   0.   0.\n",
      "   0.   0.   0.   0.   0.   0.   0.   0.   0.   0.   0.   0.   0.   0.\n",
      "   0.   0.   0.   0.   0.   0.   0.   0.   0.   0.   0.   0.   0.   0.\n",
      "   0.   0.   0.   0.   0.   0.   0.   0.   0.   0.   0.   0.   0.   0.\n",
      "   0.   0.   0.   0.   0.   0.   0.   0.   0.   0.   0.   0.   0.   0.\n",
      "   0.   0.   0.   0.   0.   0.   0.   0.   0.   0.   0.   0.   0.   0.\n",
      "   0.   0.   0.   0.   0.   0.   0.   0.   0.   0.   0.   0.   0.   0.\n",
      "   0.   0.   0.   0.   0.   0.   0.   0.   0.   0.   0.   0.   0.   0.\n",
      "   0.   0.   0.   0.   0.   2.  67.  86.  53.  74.  61.  69.  85.  74.\n",
      "  66.  87.  79.  96. 103. 105. 104.  73.  98. 110.  83.  87.  84.  74.\n",
      " 101.  58.  75.  72. 103.  75. 135. 109.  40.  18.   0.   0.   0.   0.\n",
      "   0.   0.   0.   0.   0.   0.   0.   0.   0.   0.   0.   0.   0.   0.\n",
      "   0.   0.   0.   0.   0.   0.   0.   0.   0.   0.   0.   0.   0.   0.\n",
      "   0.   0.   0.   0.   0.   0.   0.   0.   0.   0.   0.   0.   0.   0.\n",
      "   0.   0.   0.   0.   0.   0.   0.   0.   0.   0.   0.   0.   0.   0.\n",
      "   0.   0.   0.   0.   0.   0.   0.   0.   0.   0.   0.   0.   0.   0.\n",
      "   0.   0.   0.   0.   0.   0.   0.   0.   0.   0.   0.   0.   0.   0.\n",
      "   0.   0.   0.   0.   0.   0.   0.   0.   0.   0.   0.   0.   0.   0.\n",
      "   0.   0.   0.   0.   0.   0.]\n",
      "Max slice: 188\n"
     ]
    },
    {
     "data": {
      "image/png": "[encoded data removed]",
      "text/plain": [
       "<Figure size 1000x500 with 2 Axes>"
      ]
     },
     "metadata": {},
     "output_type": "display_data"
    }
   ],
   "source": [
    "display_slices(dataset[20])"
   ]
  },
  {
   "cell_type": "code",
   "execution_count": 15,
   "id": "1126595e-b5f8-439b-ac08-cee9c5460e1f",
   "metadata": {
    "tags": []
   },
   "outputs": [
    {
     "name": "stdout",
     "output_type": "stream",
     "text": [
      "Train num total: 30\n",
      "Test num: 7\n"
     ]
    }
   ],
   "source": [
    "train_data = []\n",
    "test_data = []\n",
    "for scan in dataset:\n",
    "    if scan.cond == 'tr' and scan.has_label():\n",
    "        train_data.append({\"image\": str(scan.image), \"label\": str(scan.label)})\n",
    "    elif scan.cond == 'ts' and scan.has_label():\n",
    "        test_data.append({\"image\": str(scan.image), \"label\": str(scan.label)})\n",
    "\n",
    "\n",
    "print(f\"Train num total: {len(train_data)}\")\n",
    "print(f\"Test num: {len(test_data)}\")"
   ]
  },
  {
   "cell_type": "code",
   "execution_count": 16,
   "id": "5a9debf7-a89b-455b-a14d-826971e603d3",
   "metadata": {
    "tags": []
   },
   "outputs": [],
   "source": [
    "n_folds = 5\n",
    "datalist = {\n",
    "    \"testing\": test_data,\n",
    "    \"training\": [{\"fold\": i % n_folds, \"image\": c[\"image\"], \"label\": c[\"label\"]} for i,c in enumerate(train_data)]\n",
    "}"
   ]
  },
  {
   "cell_type": "code",
   "execution_count": 17,
   "id": "aaf29874",
   "metadata": {},
   "outputs": [
    {
     "data": {
      "text/plain": [
       "{'testing': [{'image': '/home/hemondlab/3Tpioneer_bids/sub-ms1080/ses-20180416/flair.nii.gz',\n",
       "   'label': '/home/hemondlab/3Tpioneer_bids/sub-ms1080/ses-20180416/choroid_t1_flair.nii.gz'},\n",
       "  {'image': '/home/hemondlab/3Tpioneer_bids/sub-ms1033/ses-20171117/flair.nii.gz',\n",
       "   'label': '/home/hemondlab/3Tpioneer_bids/sub-ms1033/ses-20171117/choroid_t1_flair.nii.gz'},\n",
       "  {'image': '/home/hemondlab/3Tpioneer_bids/sub-ms1259/ses-20200803/flair.nii.gz',\n",
       "   'label': '/home/hemondlab/3Tpioneer_bids/sub-ms1259/ses-20200803/choroid_t1_flair.nii.gz'},\n",
       "  {'image': '/home/hemondlab/3Tpioneer_bids/sub-ms1265/ses-20180127/flair.nii.gz',\n",
       "   'label': '/home/hemondlab/3Tpioneer_bids/sub-ms1265/ses-20180127/choroid_t1_flair.nii.gz'},\n",
       "  {'image': '/home/hemondlab/3Tpioneer_bids/sub-ms2144/ses-20190422/flair.nii.gz',\n",
       "   'label': '/home/hemondlab/3Tpioneer_bids/sub-ms2144/ses-20190422/choroid_t1_flair.nii.gz'},\n",
       "  {'image': '/home/hemondlab/3Tpioneer_bids/sub-ms1119/ses-20161010/flair.nii.gz',\n",
       "   'label': '/home/hemondlab/3Tpioneer_bids/sub-ms1119/ses-20161010/choroid_t1_flair.nii.gz'},\n",
       "  {'image': '/home/hemondlab/3Tpioneer_bids/sub-ms1272/ses-20211105/flair.nii.gz',\n",
       "   'label': '/home/hemondlab/3Tpioneer_bids/sub-ms1272/ses-20211105/choroid_t1_flair.nii.gz'}],\n",
       " 'training': [{'fold': 0,\n",
       "   'image': '/home/hemondlab/3Tpioneer_bids/sub-ms1293/ses-20161129/flair.nii.gz',\n",
       "   'label': '/home/hemondlab/3Tpioneer_bids/sub-ms1293/ses-20161129/choroid_t1_flair.nii.gz'},\n",
       "  {'fold': 1,\n",
       "   'image': '/home/hemondlab/3Tpioneer_bids/sub-ms1518/ses-20220216/flair.nii.gz',\n",
       "   'label': '/home/hemondlab/3Tpioneer_bids/sub-ms1518/ses-20220216/choroid_t1_flair.nii.gz'},\n",
       "  {'fold': 2,\n",
       "   'image': '/home/hemondlab/3Tpioneer_bids/sub-ms1437/ses-20210503/flair.nii.gz',\n",
       "   'label': '/home/hemondlab/3Tpioneer_bids/sub-ms1437/ses-20210503/choroid_t1_flair.nii.gz'},\n",
       "  {'fold': 3,\n",
       "   'image': '/home/hemondlab/3Tpioneer_bids/sub-ms1498/ses-20210602/flair.nii.gz',\n",
       "   'label': '/home/hemondlab/3Tpioneer_bids/sub-ms1498/ses-20210602/choroid_t1_flair.nii.gz'},\n",
       "  {'fold': 4,\n",
       "   'image': '/home/hemondlab/3Tpioneer_bids/sub-ms2132/ses-20190825/flair.nii.gz',\n",
       "   'label': '/home/hemondlab/3Tpioneer_bids/sub-ms2132/ses-20190825/choroid_t1_flair.nii.gz'},\n",
       "  {'fold': 0,\n",
       "   'image': '/home/hemondlab/3Tpioneer_bids/sub-ms1019/ses-20190608/flair.nii.gz',\n",
       "   'label': '/home/hemondlab/3Tpioneer_bids/sub-ms1019/ses-20190608/choroid_t1_flair.nii.gz'},\n",
       "  {'fold': 1,\n",
       "   'image': '/home/hemondlab/3Tpioneer_bids/sub-ms1547/ses-20220321/flair.nii.gz',\n",
       "   'label': '/home/hemondlab/3Tpioneer_bids/sub-ms1547/ses-20220321/choroid_t1_flair.nii.gz'},\n",
       "  {'fold': 2,\n",
       "   'image': '/home/hemondlab/3Tpioneer_bids/sub-ms2081/ses-20170204/flair.nii.gz',\n",
       "   'label': '/home/hemondlab/3Tpioneer_bids/sub-ms2081/ses-20170204/choroid_t1_flair.nii.gz'},\n",
       "  {'fold': 3,\n",
       "   'image': '/home/hemondlab/3Tpioneer_bids/sub-ms1188/ses-20200720/flair.nii.gz',\n",
       "   'label': '/home/hemondlab/3Tpioneer_bids/sub-ms1188/ses-20200720/choroid_t1_flair.nii.gz'},\n",
       "  {'fold': 4,\n",
       "   'image': '/home/hemondlab/3Tpioneer_bids/sub-ms2146/ses-20191017/flair.nii.gz',\n",
       "   'label': '/home/hemondlab/3Tpioneer_bids/sub-ms2146/ses-20191017/choroid_t1_flair.nii.gz'},\n",
       "  {'fold': 0,\n",
       "   'image': '/home/hemondlab/3Tpioneer_bids/sub-ms1486/ses-20210224/flair.nii.gz',\n",
       "   'label': '/home/hemondlab/3Tpioneer_bids/sub-ms1486/ses-20210224/choroid_t1_flair.nii.gz'},\n",
       "  {'fold': 1,\n",
       "   'image': '/home/hemondlab/3Tpioneer_bids/sub-ms1234/ses-20180214/flair.nii.gz',\n",
       "   'label': '/home/hemondlab/3Tpioneer_bids/sub-ms1234/ses-20180214/choroid_t1_flair.nii.gz'},\n",
       "  {'fold': 2,\n",
       "   'image': '/home/hemondlab/3Tpioneer_bids/sub-ms1065/ses-20170127/flair.nii.gz',\n",
       "   'label': '/home/hemondlab/3Tpioneer_bids/sub-ms1065/ses-20170127/choroid_t1_flair.nii.gz'},\n",
       "  {'fold': 3,\n",
       "   'image': '/home/hemondlab/3Tpioneer_bids/sub-ms1010/ses-20180208/flair.nii.gz',\n",
       "   'label': '/home/hemondlab/3Tpioneer_bids/sub-ms1010/ses-20180208/choroid_t1_flair.nii.gz'},\n",
       "  {'fold': 4,\n",
       "   'image': '/home/hemondlab/3Tpioneer_bids/sub-ms2097/ses-20171223/flair.nii.gz',\n",
       "   'label': '/home/hemondlab/3Tpioneer_bids/sub-ms2097/ses-20171223/choroid_t1_flair.nii.gz'},\n",
       "  {'fold': 0,\n",
       "   'image': '/home/hemondlab/3Tpioneer_bids/sub-ms2097/ses-20190109/flair.nii.gz',\n",
       "   'label': '/home/hemondlab/3Tpioneer_bids/sub-ms2097/ses-20190109/choroid_t1_flair.nii.gz'},\n",
       "  {'fold': 1,\n",
       "   'image': '/home/hemondlab/3Tpioneer_bids/sub-ms1011/ses-20180911/flair.nii.gz',\n",
       "   'label': '/home/hemondlab/3Tpioneer_bids/sub-ms1011/ses-20180911/choroid_t1_flair.nii.gz'},\n",
       "  {'fold': 2,\n",
       "   'image': '/home/hemondlab/3Tpioneer_bids/sub-ms1152/ses-20170529/flair.nii.gz',\n",
       "   'label': '/home/hemondlab/3Tpioneer_bids/sub-ms1152/ses-20170529/choroid_t1_flair.nii.gz'},\n",
       "  {'fold': 3,\n",
       "   'image': '/home/hemondlab/3Tpioneer_bids/sub-ms2187/ses-20200731/flair.nii.gz',\n",
       "   'label': '/home/hemondlab/3Tpioneer_bids/sub-ms2187/ses-20200731/choroid_t1_flair.nii.gz'},\n",
       "  {'fold': 4,\n",
       "   'image': '/home/hemondlab/3Tpioneer_bids/sub-ms1163/ses-20180907/flair.nii.gz',\n",
       "   'label': '/home/hemondlab/3Tpioneer_bids/sub-ms1163/ses-20180907/choroid_t1_flair.nii.gz'},\n",
       "  {'fold': 0,\n",
       "   'image': '/home/hemondlab/3Tpioneer_bids/sub-ms1540/ses-20201222/flair.nii.gz',\n",
       "   'label': '/home/hemondlab/3Tpioneer_bids/sub-ms1540/ses-20201222/choroid_t1_flair.nii.gz'},\n",
       "  {'fold': 1,\n",
       "   'image': '/home/hemondlab/3Tpioneer_bids/sub-ms2083/ses-20170502/flair.nii.gz',\n",
       "   'label': '/home/hemondlab/3Tpioneer_bids/sub-ms2083/ses-20170502/choroid_t1_flair.nii.gz'},\n",
       "  {'fold': 2,\n",
       "   'image': '/home/hemondlab/3Tpioneer_bids/sub-ms2164/ses-20200113/flair.nii.gz',\n",
       "   'label': '/home/hemondlab/3Tpioneer_bids/sub-ms2164/ses-20200113/choroid_t1_flair.nii.gz'},\n",
       "  {'fold': 3,\n",
       "   'image': '/home/hemondlab/3Tpioneer_bids/sub-ms2126/ses-20181224/flair.nii.gz',\n",
       "   'label': '/home/hemondlab/3Tpioneer_bids/sub-ms2126/ses-20181224/choroid_t1_flair.nii.gz'},\n",
       "  {'fold': 4,\n",
       "   'image': '/home/hemondlab/3Tpioneer_bids/sub-ms1355/ses-20210104/flair.nii.gz',\n",
       "   'label': '/home/hemondlab/3Tpioneer_bids/sub-ms1355/ses-20210104/choroid_t1_flair.nii.gz'},\n",
       "  {'fold': 0,\n",
       "   'image': '/home/hemondlab/3Tpioneer_bids/sub-ms1109/ses-20180303/flair.nii.gz',\n",
       "   'label': '/home/hemondlab/3Tpioneer_bids/sub-ms1109/ses-20180303/choroid_t1_flair.nii.gz'},\n",
       "  {'fold': 1,\n",
       "   'image': '/home/hemondlab/3Tpioneer_bids/sub-ms1548/ses-20210628/flair.nii.gz',\n",
       "   'label': '/home/hemondlab/3Tpioneer_bids/sub-ms1548/ses-20210628/choroid_t1_flair.nii.gz'},\n",
       "  {'fold': 2,\n",
       "   'image': '/home/hemondlab/3Tpioneer_bids/sub-ms1280/ses-20220317/flair.nii.gz',\n",
       "   'label': '/home/hemondlab/3Tpioneer_bids/sub-ms1280/ses-20220317/choroid_t1_flair.nii.gz'},\n",
       "  {'fold': 3,\n",
       "   'image': '/home/hemondlab/3Tpioneer_bids/sub-ms1321/ses-20201020/flair.nii.gz',\n",
       "   'label': '/home/hemondlab/3Tpioneer_bids/sub-ms1321/ses-20201020/choroid_t1_flair.nii.gz'},\n",
       "  {'fold': 4,\n",
       "   'image': '/home/hemondlab/3Tpioneer_bids/sub-ms1191/ses-20190124/flair.nii.gz',\n",
       "   'label': '/home/hemondlab/3Tpioneer_bids/sub-ms1191/ses-20190124/choroid_t1_flair.nii.gz'}]}"
      ]
     },
     "execution_count": 17,
     "metadata": {},
     "output_type": "execute_result"
    }
   ],
   "source": [
    "datalist_file = os.path.join(cwd, \"datalist.json\")\n",
    "with open(datalist_file, 'w') as f:\n",
    "    json.dump(datalist, f, indent=4)\n",
    "datalist"
   ]
  },
  {
   "cell_type": "code",
   "execution_count": 18,
   "id": "79e79f57-8c40-4bf0-b588-d8bada8bc9b6",
   "metadata": {
    "tags": []
   },
   "outputs": [],
   "source": [
    "# work_dir = \"/home/hemondlab/Dev/ms_mri/training_work_dirs/cp_work_dir6\"\n",
    "if not os.path.isdir(work_dir):\n",
    "    os.makedirs(work_dir)\n",
    "\n",
    "datalist_file = os.path.join(work_dir, \"datalist.json\")\n",
    "with open(datalist_file, \"w\") as f:\n",
    "    json.dump(datalist, f)"
   ]
  },
  {
   "cell_type": "code",
   "execution_count": 19,
   "id": "7c65f5fa-6ec7-4974-b90f-a51cc70263e8",
   "metadata": {
    "tags": []
   },
   "outputs": [
    {
     "name": "stdout",
     "output_type": "stream",
     "text": [
      "2024-09-19 17:17:53,439 - INFO - AutoRunner using work directory /home/hemondlab/Dev/ms_mri/training_work_dirs/cp_work_dir_choroid2\n",
      "2024-09-19 17:17:53,440 - INFO - Found num_fold 5 based on the input datalist /home/hemondlab/Dev/ms_mri/training_work_dirs/cp_work_dir_choroid2/datalist.json.\n",
      "2024-09-19 17:17:53,441 - INFO - Setting num_fold 5 based on the input datalist /home/hemondlab/Dev/ms_mri/training_work_dirs/cp_work_dir_choroid2/datalist.json.\n",
      "2024-09-19 17:17:53,441 - INFO - Using user defined command running prefix , will override other settings\n"
     ]
    }
   ],
   "source": [
    "runner = AutoRunner(\n",
    "    work_dir=work_dir,\n",
    "    algos=[\"swinunetr\"],\n",
    "    input={\n",
    "        \"modality\": \"MRI\",\n",
    "        \"datalist\": datalist_file,\n",
    "        \"dataroot\": dataroot,\n",
    "    },\n",
    ")"
   ]
  },
  {
   "cell_type": "code",
   "execution_count": 20,
   "id": "56e52e9b-1b75-4807-91cb-267d9f4f5a67",
   "metadata": {
    "tags": []
   },
   "outputs": [
    {
     "data": {
      "text/plain": [
       "<monai.apps.auto3dseg.auto_runner.AutoRunner at 0x7a44bb7deb10>"
      ]
     },
     "execution_count": 20,
     "metadata": {},
     "output_type": "execute_result"
    }
   ],
   "source": [
    "max_epochs = 100\n",
    "\n",
    "train_param = {\n",
    "    \"num_epochs_per_validation\": 1,\n",
    "    #\"num_images_per_batch\": 2,\n",
    "    \"num_epochs\": max_epochs,\n",
    "    \"num_warmup_epochs\": 1,\n",
    "}\n",
    "runner.set_training_params(train_param)"
   ]
  },
  {
   "cell_type": "code",
   "execution_count": 21,
   "id": "c96c07cb-67cf-4c1e-86c2-9258f7cabde6",
   "metadata": {
    "tags": []
   },
   "outputs": [
    {
     "name": "stdout",
     "output_type": "stream",
     "text": [
      "2024-09-19 17:25:32,946 - INFO - Running data analysis...\n",
      "2024-09-19 17:25:32,947 - INFO - Found 1 GPUs for data analyzing!\n"
     ]
    },
    {
     "name": "stderr",
     "output_type": "stream",
     "text": [
      "100%|██████████| 30/30 [00:12<00:00,  2.32it/s]"
     ]
    },
    {
     "name": "stdout",
     "output_type": "stream",
     "text": [
      "2024-09-19 17:25:45,906 - INFO - Data spacing is not completely uniform. MONAI transforms may provide unexpected result\n",
      "2024-09-19 17:25:45,907 - INFO - Writing data stats to /home/hemondlab/Dev/ms_mri/training_work_dirs/cp_work_dir_choroid2/datastats.yaml.\n",
      "2024-09-19 17:25:45,912 - INFO - Writing by-case data stats to /home/hemondlab/Dev/ms_mri/training_work_dirs/cp_work_dir_choroid2/datastats_by_case.yaml, this may take a while.\n",
      "2024-09-19 17:25:45,984 - INFO - BundleGen from https://github.com/Project-MONAI/research-contributions/releases/download/algo_templates/e4cf5a1.tar.gz\n"
     ]
    },
    {
     "name": "stderr",
     "output_type": "stream",
     "text": [
      "\n",
      "algo_templates.tar.gz: 104kB [00:00, 429kB/s]                              "
     ]
    },
    {
     "name": "stdout",
     "output_type": "stream",
     "text": [
      "2024-09-19 17:25:46,235 - INFO - Downloaded: /tmp/tmpyuovapf0/algo_templates.tar.gz\n",
      "2024-09-19 17:25:46,235 - INFO - Expected md5 is None, skip md5 check for file /tmp/tmpyuovapf0/algo_templates.tar.gz.\n",
      "2024-09-19 17:25:46,236 - INFO - Writing into directory: /home/hemondlab/Dev/ms_mri/training_work_dirs/cp_work_dir_choroid2.\n",
      "2024-09-19 17:25:46,280 - INFO - Generated:/home/hemondlab/Dev/ms_mri/training_work_dirs/cp_work_dir_choroid2/swinunetr_0\n",
      "2024-09-19 17:25:46,304 - INFO - Generated:/home/hemondlab/Dev/ms_mri/training_work_dirs/cp_work_dir_choroid2/swinunetr_1\n",
      "2024-09-19 17:25:46,328 - INFO - Generated:/home/hemondlab/Dev/ms_mri/training_work_dirs/cp_work_dir_choroid2/swinunetr_2\n",
      "2024-09-19 17:25:46,353 - INFO - Generated:/home/hemondlab/Dev/ms_mri/training_work_dirs/cp_work_dir_choroid2/swinunetr_3\n",
      "2024-09-19 17:25:46,377 - INFO - Generated:/home/hemondlab/Dev/ms_mri/training_work_dirs/cp_work_dir_choroid2/swinunetr_4\n",
      "2024-09-19 17:25:46,398 - INFO - ['python', '/home/hemondlab/Dev/ms_mri/training_work_dirs/cp_work_dir_choroid2/swinunetr_0/scripts/train.py', 'run', \"--config_file='/home/hemondlab/Dev/ms_mri/training_work_dirs/cp_work_dir_choroid2/swinunetr_0/configs/hyper_parameters.yaml,/home/hemondlab/Dev/ms_mri/training_work_dirs/cp_work_dir_choroid2/swinunetr_0/configs/network.yaml,/home/hemondlab/Dev/ms_mri/training_work_dirs/cp_work_dir_choroid2/swinunetr_0/configs/transforms_infer.yaml,/home/hemondlab/Dev/ms_mri/training_work_dirs/cp_work_dir_choroid2/swinunetr_0/configs/transforms_train.yaml,/home/hemondlab/Dev/ms_mri/training_work_dirs/cp_work_dir_choroid2/swinunetr_0/configs/transforms_validate.yaml'\", '--num_epochs_per_validation=1', '--num_epochs=100', '--num_warmup_epochs=1']\n"
     ]
    },
    {
     "name": "stderr",
     "output_type": "stream",
     "text": [
      "\n"
     ]
    },
    {
     "name": "stdout",
     "output_type": "stream",
     "text": [
      "2024-09-19 17:25:51,932 - INFO - Downloaded: /home/hemondlab/Dev/ms_mri/training_work_dirs/cp_work_dir_choroid2/swinunetr_0/pretrained_model/swin_unetr.base_5000ep_f48_lr2e-4_pretrained.pt\n",
      "2024-09-19 17:25:51,933 - INFO - Expected md5 is None, skip md5 check for file /home/hemondlab/Dev/ms_mri/training_work_dirs/cp_work_dir_choroid2/swinunetr_0/pretrained_model/swin_unetr.base_5000ep_f48_lr2e-4_pretrained.pt.\n"
     ]
    },
    {
     "name": "stderr",
     "output_type": "stream",
     "text": [
      "2024/09/19 17:25:52 INFO mlflow.tracking.fluent: Experiment with name 'Auto3DSeg' does not exist. Creating a new experiment.\n",
      "swinunetr_0 - training ...:  75%|███████▌  | 75/100 [43:14<14:24, 34.59s/round]  \n",
      "2024-09-19 18:12:34,995 - WARNING - swinunetr_0 - training: finished with early stop\n"
     ]
    },
    {
     "name": "stdout",
     "output_type": "stream",
     "text": [
      "2024-09-19 18:12:36,269 - INFO - ['python', '/home/hemondlab/Dev/ms_mri/training_work_dirs/cp_work_dir_choroid2/swinunetr_1/scripts/train.py', 'run', \"--config_file='/home/hemondlab/Dev/ms_mri/training_work_dirs/cp_work_dir_choroid2/swinunetr_1/configs/hyper_parameters.yaml,/home/hemondlab/Dev/ms_mri/training_work_dirs/cp_work_dir_choroid2/swinunetr_1/configs/network.yaml,/home/hemondlab/Dev/ms_mri/training_work_dirs/cp_work_dir_choroid2/swinunetr_1/configs/transforms_infer.yaml,/home/hemondlab/Dev/ms_mri/training_work_dirs/cp_work_dir_choroid2/swinunetr_1/configs/transforms_train.yaml,/home/hemondlab/Dev/ms_mri/training_work_dirs/cp_work_dir_choroid2/swinunetr_1/configs/transforms_validate.yaml'\", '--num_epochs_per_validation=1', '--num_epochs=100', '--num_warmup_epochs=1']\n",
      "2024-09-19 18:12:41,318 - INFO - Downloaded: /home/hemondlab/Dev/ms_mri/training_work_dirs/cp_work_dir_choroid2/swinunetr_1/pretrained_model/swin_unetr.base_5000ep_f48_lr2e-4_pretrained.pt\n",
      "2024-09-19 18:12:41,318 - INFO - Expected md5 is None, skip md5 check for file /home/hemondlab/Dev/ms_mri/training_work_dirs/cp_work_dir_choroid2/swinunetr_1/pretrained_model/swin_unetr.base_5000ep_f48_lr2e-4_pretrained.pt.\n"
     ]
    },
    {
     "name": "stderr",
     "output_type": "stream",
     "text": [
      "2024/09/19 18:12:41 INFO mlflow.tracking.fluent: Experiment with name 'Auto3DSeg' does not exist. Creating a new experiment.\n",
      "swinunetr_1 - training ...:  79%|███████▉  | 79/100 [46:09<12:16, 35.06s/round]\n",
      "2024-09-19 19:02:26,863 - WARNING - swinunetr_1 - training: finished with early stop\n"
     ]
    },
    {
     "name": "stdout",
     "output_type": "stream",
     "text": [
      "2024-09-19 19:02:27,822 - INFO - ['python', '/home/hemondlab/Dev/ms_mri/training_work_dirs/cp_work_dir_choroid2/swinunetr_2/scripts/train.py', 'run', \"--config_file='/home/hemondlab/Dev/ms_mri/training_work_dirs/cp_work_dir_choroid2/swinunetr_2/configs/hyper_parameters.yaml,/home/hemondlab/Dev/ms_mri/training_work_dirs/cp_work_dir_choroid2/swinunetr_2/configs/network.yaml,/home/hemondlab/Dev/ms_mri/training_work_dirs/cp_work_dir_choroid2/swinunetr_2/configs/transforms_infer.yaml,/home/hemondlab/Dev/ms_mri/training_work_dirs/cp_work_dir_choroid2/swinunetr_2/configs/transforms_train.yaml,/home/hemondlab/Dev/ms_mri/training_work_dirs/cp_work_dir_choroid2/swinunetr_2/configs/transforms_validate.yaml'\", '--num_epochs_per_validation=1', '--num_epochs=100', '--num_warmup_epochs=1']\n",
      "2024-09-19 19:02:33,024 - INFO - Downloaded: /home/hemondlab/Dev/ms_mri/training_work_dirs/cp_work_dir_choroid2/swinunetr_2/pretrained_model/swin_unetr.base_5000ep_f48_lr2e-4_pretrained.pt\n",
      "2024-09-19 19:02:33,024 - INFO - Expected md5 is None, skip md5 check for file /home/hemondlab/Dev/ms_mri/training_work_dirs/cp_work_dir_choroid2/swinunetr_2/pretrained_model/swin_unetr.base_5000ep_f48_lr2e-4_pretrained.pt.\n"
     ]
    },
    {
     "name": "stderr",
     "output_type": "stream",
     "text": [
      "2024/09/19 19:02:33 INFO mlflow.tracking.fluent: Experiment with name 'Auto3DSeg' does not exist. Creating a new experiment.\n",
      "swinunetr_2 - training ...:  79%|███████▉  | 79/100 [46:05<12:15, 35.01s/round]\n",
      "2024-09-19 19:52:00,674 - WARNING - swinunetr_2 - training: finished with early stop\n"
     ]
    },
    {
     "name": "stdout",
     "output_type": "stream",
     "text": [
      "2024-09-19 19:52:01,615 - INFO - ['python', '/home/hemondlab/Dev/ms_mri/training_work_dirs/cp_work_dir_choroid2/swinunetr_3/scripts/train.py', 'run', \"--config_file='/home/hemondlab/Dev/ms_mri/training_work_dirs/cp_work_dir_choroid2/swinunetr_3/configs/hyper_parameters.yaml,/home/hemondlab/Dev/ms_mri/training_work_dirs/cp_work_dir_choroid2/swinunetr_3/configs/network.yaml,/home/hemondlab/Dev/ms_mri/training_work_dirs/cp_work_dir_choroid2/swinunetr_3/configs/transforms_infer.yaml,/home/hemondlab/Dev/ms_mri/training_work_dirs/cp_work_dir_choroid2/swinunetr_3/configs/transforms_train.yaml,/home/hemondlab/Dev/ms_mri/training_work_dirs/cp_work_dir_choroid2/swinunetr_3/configs/transforms_validate.yaml'\", '--num_epochs_per_validation=1', '--num_epochs=100', '--num_warmup_epochs=1']\n",
      "2024-09-19 19:52:06,838 - INFO - Downloaded: /home/hemondlab/Dev/ms_mri/training_work_dirs/cp_work_dir_choroid2/swinunetr_3/pretrained_model/swin_unetr.base_5000ep_f48_lr2e-4_pretrained.pt\n",
      "2024-09-19 19:52:06,838 - INFO - Expected md5 is None, skip md5 check for file /home/hemondlab/Dev/ms_mri/training_work_dirs/cp_work_dir_choroid2/swinunetr_3/pretrained_model/swin_unetr.base_5000ep_f48_lr2e-4_pretrained.pt.\n"
     ]
    },
    {
     "name": "stderr",
     "output_type": "stream",
     "text": [
      "2024/09/19 19:52:06 INFO mlflow.tracking.fluent: Experiment with name 'Auto3DSeg' does not exist. Creating a new experiment.\n",
      "swinunetr_3 - training ...:  76%|███████▌  | 76/100 [42:55<13:33, 33.88s/round]\n",
      "2024-09-19 20:38:29,916 - WARNING - swinunetr_3 - training: finished with early stop\n"
     ]
    },
    {
     "name": "stdout",
     "output_type": "stream",
     "text": [
      "2024-09-19 20:38:30,852 - INFO - ['python', '/home/hemondlab/Dev/ms_mri/training_work_dirs/cp_work_dir_choroid2/swinunetr_4/scripts/train.py', 'run', \"--config_file='/home/hemondlab/Dev/ms_mri/training_work_dirs/cp_work_dir_choroid2/swinunetr_4/configs/hyper_parameters.yaml,/home/hemondlab/Dev/ms_mri/training_work_dirs/cp_work_dir_choroid2/swinunetr_4/configs/network.yaml,/home/hemondlab/Dev/ms_mri/training_work_dirs/cp_work_dir_choroid2/swinunetr_4/configs/transforms_infer.yaml,/home/hemondlab/Dev/ms_mri/training_work_dirs/cp_work_dir_choroid2/swinunetr_4/configs/transforms_train.yaml,/home/hemondlab/Dev/ms_mri/training_work_dirs/cp_work_dir_choroid2/swinunetr_4/configs/transforms_validate.yaml'\", '--num_epochs_per_validation=1', '--num_epochs=100', '--num_warmup_epochs=1']\n",
      "2024-09-19 20:38:36,298 - INFO - Downloaded: /home/hemondlab/Dev/ms_mri/training_work_dirs/cp_work_dir_choroid2/swinunetr_4/pretrained_model/swin_unetr.base_5000ep_f48_lr2e-4_pretrained.pt\n",
      "2024-09-19 20:38:36,298 - INFO - Expected md5 is None, skip md5 check for file /home/hemondlab/Dev/ms_mri/training_work_dirs/cp_work_dir_choroid2/swinunetr_4/pretrained_model/swin_unetr.base_5000ep_f48_lr2e-4_pretrained.pt.\n"
     ]
    },
    {
     "name": "stderr",
     "output_type": "stream",
     "text": [
      "2024/09/19 20:38:36 INFO mlflow.tracking.fluent: Experiment with name 'Auto3DSeg' does not exist. Creating a new experiment.\n",
      "swinunetr_4 - training ...:  79%|███████▉  | 79/100 [46:15<12:17, 35.13s/round] \n",
      "2024-09-19 21:28:20,264 - WARNING - swinunetr_4 - training: finished with early stop\n"
     ]
    },
    {
     "name": "stdout",
     "output_type": "stream",
     "text": [
      "2024-09-19 21:28:21,218 - INFO - Ensembling using single GPU!\n",
      "2024-09-19 21:28:21,218 - INFO - The output_dir is not specified. /home/hemondlab/Dev/ms_mri/training_work_dirs/cp_work_dir_choroid2/ensemble_output will be used to save ensemble predictions.\n",
      "2024-09-19 21:28:21,219 - INFO - Directory /home/hemondlab/Dev/ms_mri/training_work_dirs/cp_work_dir_choroid2/ensemble_output is created to save ensemble predictions\n",
      "2024-09-19 21:28:21,245 - INFO - Auto3Dseg picked the following networks to ensemble:\n",
      "2024-09-19 21:28:21,245 - INFO - swinunetr_0\n",
      "2024-09-19 21:28:21,246 - INFO - swinunetr_1\n",
      "2024-09-19 21:28:21,246 - INFO - swinunetr_2\n",
      "2024-09-19 21:28:21,246 - INFO - swinunetr_3\n",
      "2024-09-19 21:28:21,246 - INFO - swinunetr_4\n",
      "2024-09-19 21:28:21,246 - INFO - Auto3Dseg ensemble prediction outputs will be saved in /home/hemondlab/Dev/ms_mri/training_work_dirs/cp_work_dir_choroid2/ensemble_output.\n"
     ]
    },
    {
     "name": "stderr",
     "output_type": "stream",
     "text": [
      "Ensembling (rank 0)...: 100%|██████████| 7/7 [20:46<00:00, 178.08s/it]\n",
      "2024-09-19 21:49:07,848 - INFO - Auto3Dseg pipeline is completed successfully.\n"
     ]
    }
   ],
   "source": [
    "runner.run()"
   ]
  },
  {
   "cell_type": "code",
   "execution_count": 30,
   "id": "fd9d8084",
   "metadata": {},
   "outputs": [
    {
     "data": {
      "text/plain": [
       "{'fold': 3,\n",
       " 'image': '/mnt/h/3Tpioneer_bids/sub-ms1196/ses-20161004/t1.nii.gz',\n",
       " 'label': '/mnt/h/3Tpioneer_bids/sub-ms1196/ses-20161004/pituitary.nii.gz'}"
      ]
     },
     "execution_count": 30,
     "metadata": {},
     "output_type": "execute_result"
    }
   ],
   "source": [
    "datalist['training'][48]"
   ]
  },
  {
   "cell_type": "code",
   "execution_count": 29,
   "id": "5340f6e5",
   "metadata": {},
   "outputs": [],
   "source": [
    "scan_path = \"/mnt/t/Data/3Tpioneer_bids/sub-ms1001/ses-20170215/proc/lesion_index.t3m20-mni_reg.nii.gz\"\n",
    "img = nib.load(scan_path)\n"
   ]
  }
 ],
 "metadata": {
  "kernelspec": {
   "display_name": "Python 3 (ipykernel)",
   "language": "python",
   "name": "python3"
  },
  "language_info": {
   "codemirror_mode": {
    "name": "ipython",
    "version": 3
   },
   "file_extension": ".py",
   "mimetype": "text/x-python",
   "name": "python",
   "nbconvert_exporter": "python",
   "pygments_lexer": "ipython3",
   "version": "3.12.4"
  }
 },
 "nbformat": 4,
 "nbformat_minor": 5
}
