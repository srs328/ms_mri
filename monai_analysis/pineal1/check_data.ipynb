{
 "cells": [
  {
   "cell_type": "code",
   "execution_count": 6,
   "metadata": {},
   "outputs": [],
   "source": [
    "import nibabel as nib\n",
    "from mri_preproc.paths import hemond_data\n",
    "import numpy as np\n",
    "from pathlib import Path"
   ]
  },
  {
   "cell_type": "code",
   "execution_count": 8,
   "metadata": {},
   "outputs": [],
   "source": [
    "# dataroot = \"/mnt/h/3Tpioneer_bids\"\n",
    "dataroot = \"/media/hemondlab/Data1/3Tpioneer_bids\"\n",
    "dataset = hemond_data.scan_3Tpioneer_bids(dataroot, \"flair\", \"choroid_t1_flair\")"
   ]
  },
  {
   "cell_type": "code",
   "execution_count": null,
   "metadata": {},
   "outputs": [],
   "source": [
    "for scan in dataset:\n",
    "    print(scan.subid)"
   ]
  },
  {
   "cell_type": "markdown",
   "metadata": {},
   "source": [
    "Look at the manual labels"
   ]
  },
  {
   "cell_type": "code",
   "execution_count": null,
   "metadata": {},
   "outputs": [],
   "source": [
    "for scan in dataset:\n",
    "    t1_path = str(scan.image).replace(\"flair\", \"t1\")\n",
    "    print(\"freeview\", scan.image, t1_path, f\"{scan.label}:colormap=heat\")"
   ]
  },
  {
   "cell_type": "markdown",
   "metadata": {},
   "source": [
    "Look at the inferred labels in FreeView"
   ]
  },
  {
   "cell_type": "code",
   "execution_count": null,
   "metadata": {},
   "outputs": [],
   "source": [
    "# prediction_root = Path(\"/mnt/h/3Tpioneer_bids_predictions\")\n",
    "prediction_root = Path(\"/media/hemondlab/Data1/3Tpioneer_bids_predictions\")\n",
    "\n",
    "all_data = hemond_data.scan_3Tpioneer_bids(dataroot, \"flair\", None)\n",
    "all_data = sorted(all_data, key=lambda s: s.subid)\n",
    "for scan in all_data:\n",
    "    flair = scan.image\n",
    "    t1 = flair.parent / \"t1.nii.gz\"\n",
    "    prediction = prediction_root / scan.relative_path / \"t1_flair_choroid_pred.nii.gz\"\n",
    "    if not prediction.is_file():\n",
    "        continue\n",
    "    print(\"freeview\", flair, t1, f\"{prediction}:colormap=heat\")"
   ]
  },
  {
   "cell_type": "code",
   "execution_count": null,
   "metadata": {},
   "outputs": [],
   "source": [
    "# prediction_root = Path(\"/mnt/h/3Tpioneer_bids_predictions\")\n",
    "prediction_root = Path(\"/media/hemondlab/Data1/3Tpioneer_bids_predictions\")\n",
    "\n",
    "all_data = hemond_data.scan_3Tpioneer_bids(dataroot, \"flair\", None)\n",
    "all_data = sorted(all_data, key=lambda s: s.subid)\n",
    "for scan in all_data:\n",
    "    flair = scan.image\n",
    "    t1 = flair.parent / \"t1.nii.gz\"\n",
    "    prediction = prediction_root / scan.relative_path / \"t1_flair_choroid_pred.nii.gz\"\n",
    "    if not prediction.is_file():\n",
    "        continue\n",
    "    print(\"itksnap\", \"-g\", flair, \"-o\", t1, \"-s\", prediction)"
   ]
  }
 ],
 "metadata": {
  "kernelspec": {
   "display_name": "monai",
   "language": "python",
   "name": "python3"
  },
  "language_info": {
   "codemirror_mode": {
    "name": "ipython",
    "version": 3
   },
   "file_extension": ".py",
   "mimetype": "text/x-python",
   "name": "python",
   "nbconvert_exporter": "python",
   "pygments_lexer": "ipython3",
   "version": "3.12.7"
  }
 },
 "nbformat": 4,
 "nbformat_minor": 2
}
