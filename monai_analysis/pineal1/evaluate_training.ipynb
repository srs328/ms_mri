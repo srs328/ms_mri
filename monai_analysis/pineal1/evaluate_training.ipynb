{
 "cells": [
  {
   "cell_type": "code",
   "execution_count": 1,
   "metadata": {},
   "outputs": [],
   "source": [
    "import os\n",
    "from pathlib import Path\n",
    "import numpy as np\n",
    "import json\n",
    "from loguru import logger\n",
    "import platform\n",
    "import re \n",
    "import nibabel as nib\n",
    "import sys\n",
    "\n",
    "import mri_data\n",
    "import monai_training\n",
    "\n",
    "from reload_recursive import reload_recursive"
   ]
  },
  {
   "cell_type": "code",
   "execution_count": 2,
   "metadata": {},
   "outputs": [],
   "source": [
    "reload_recursive(mri_data)\n",
    "reload_recursive(monai_training)\n",
    "from mri_data.file_manager import scan_3Tpioneer_bids, DataSet, Scan  # noqa: E402, F401\n",
    "from mri_data import utils\n",
    "from mri_data import file_manager as fm\n",
    "from monai_training import preprocess  # noqa: E402\n",
    "from monai_training.preprocess import DataSetProcesser"
   ]
  },
  {
   "cell_type": "code",
   "execution_count": 3,
   "metadata": {},
   "outputs": [
    {
     "data": {
      "text/plain": [
       "1"
      ]
     },
     "execution_count": 3,
     "metadata": {},
     "output_type": "execute_result"
    }
   ],
   "source": [
    "logger.remove()\n",
    "logger.add(sys.stderr, level=\"INFO\")"
   ]
  },
  {
   "cell_type": "code",
   "execution_count": 4,
   "metadata": {},
   "outputs": [],
   "source": [
    "#! Set these variables\n",
    "work_dir_name = \"pineal1\""
   ]
  },
  {
   "cell_type": "code",
   "execution_count": 5,
   "metadata": {},
   "outputs": [],
   "source": [
    "hostname = platform.node()\n",
    "if hostname == \"rhinocampus\":\n",
    "    drive_root = Path(\"/media/smbshare\")\n",
    "else:\n",
    "    drive_root = Path(\"/mnt/h\")\n",
    "\n",
    "projects_root = Path(\"/home/srs-9/Projects\")\n",
    "drive_root = Path(\"/media/smbshare\")\n",
    "\n",
    "msmri_home = projects_root / \"ms_mri\"\n",
    "training_work_dirs = msmri_home / \"training_work_dirs\"\n",
    "\n",
    "# dataroot = \"/media/hemondlab/Data/3Tpioneer_bids\"\n",
    "dataroot = drive_root / \"3Tpioneer_bids\"\n",
    "work_dir = training_work_dirs / work_dir_name\n",
    "ensemble_out_dir = work_dir / \"ensemble_output\"\n"
   ]
  },
  {
   "cell_type": "markdown",
   "metadata": {},
   "source": [
    "Scan the ensemble_out folder produced during the monai training to collect the predicted labels into a DataSet struct. Create another DataSet object with the same subjects and sessions but rooted in the main data location, then collect the manual labels "
   ]
  },
  {
   "cell_type": "code",
   "execution_count": 6,
   "metadata": {},
   "outputs": [
    {
     "name": "stderr",
     "output_type": "stream",
     "text": [
      "\u001b[32m2024-10-25 20:03:11.504\u001b[0m | \u001b[1mINFO    \u001b[0m | \u001b[36mmonai_training.preprocess\u001b[0m:\u001b[36mprepare_labels\u001b[0m:\u001b[36m164\u001b[0m - \u001b[1mPrepare Labels\u001b[0m\n",
      "  0%|          | 0/8 [00:00<?, ?it/s]\u001b[32m2024-10-25 20:03:11.514\u001b[0m | \u001b[1mINFO    \u001b[0m | \u001b[36mmonai_training.preprocess\u001b[0m:\u001b[36mprepare_labels\u001b[0m:\u001b[36m223\u001b[0m - \u001b[1mFound label pineal-CH.nii.gz for Scan(subid=1188, sesid=20200720)\u001b[0m\n",
      "\u001b[32m2024-10-25 20:03:11.520\u001b[0m | \u001b[1mINFO    \u001b[0m | \u001b[36mmonai_training.preprocess\u001b[0m:\u001b[36mprepare_labels\u001b[0m:\u001b[36m223\u001b[0m - \u001b[1mFound label pineal-SRS.nii.gz for Scan(subid=1029, sesid=20170816)\u001b[0m\n",
      "\u001b[32m2024-10-25 20:03:11.526\u001b[0m | \u001b[1mINFO    \u001b[0m | \u001b[36mmonai_training.preprocess\u001b[0m:\u001b[36mprepare_labels\u001b[0m:\u001b[36m223\u001b[0m - \u001b[1mFound label pineal-SRS.nii.gz for Scan(subid=1265, sesid=20180127)\u001b[0m\n",
      "\u001b[32m2024-10-25 20:03:11.531\u001b[0m | \u001b[1mINFO    \u001b[0m | \u001b[36mmonai_training.preprocess\u001b[0m:\u001b[36mprepare_labels\u001b[0m:\u001b[36m223\u001b[0m - \u001b[1mFound label pineal-CH.nii.gz for Scan(subid=1010, sesid=20180208)\u001b[0m\n",
      "\u001b[32m2024-10-25 20:03:11.537\u001b[0m | \u001b[1mINFO    \u001b[0m | \u001b[36mmonai_training.preprocess\u001b[0m:\u001b[36mprepare_labels\u001b[0m:\u001b[36m223\u001b[0m - \u001b[1mFound label pineal-SRS.nii.gz for Scan(subid=2187, sesid=20200731)\u001b[0m\n",
      "\u001b[32m2024-10-25 20:03:11.543\u001b[0m | \u001b[1mINFO    \u001b[0m | \u001b[36mmonai_training.preprocess\u001b[0m:\u001b[36mprepare_labels\u001b[0m:\u001b[36m223\u001b[0m - \u001b[1mFound label pineal-SRS.nii.gz for Scan(subid=1272, sesid=20211105)\u001b[0m\n",
      "\u001b[32m2024-10-25 20:03:11.549\u001b[0m | \u001b[1mINFO    \u001b[0m | \u001b[36mmonai_training.preprocess\u001b[0m:\u001b[36mprepare_labels\u001b[0m:\u001b[36m223\u001b[0m - \u001b[1mFound label pineal-SRS.nii.gz for Scan(subid=1280, sesid=20220317)\u001b[0m\n",
      "\u001b[32m2024-10-25 20:03:11.554\u001b[0m | \u001b[1mINFO    \u001b[0m | \u001b[36mmonai_training.preprocess\u001b[0m:\u001b[36mprepare_labels\u001b[0m:\u001b[36m223\u001b[0m - \u001b[1mFound label pineal-SRS.nii.gz for Scan(subid=1321, sesid=20201020)\u001b[0m\n",
      "100%|██████████| 8/8 [00:00<00:00, 167.77it/s]\n",
      "\u001b[32m2024-10-25 20:03:11.555\u001b[0m | \u001b[1mINFO    \u001b[0m | \u001b[36mmonai_training.preprocess\u001b[0m:\u001b[36mprepare_labels\u001b[0m:\u001b[36m226\u001b[0m - \u001b[1mDataset size: 8\u001b[0m\n"
     ]
    }
   ],
   "source": [
    "ensemble_out_dataset = scan_3Tpioneer_bids(ensemble_out_dir, label=\"flair.t1_ensemble.nii.gz\")\n",
    "dataset = DataSet.dataset_like(ensemble_out_dataset)\n",
    "dataset.dataroot = dataroot\n",
    "dataset_proc = DataSetProcesser(dataset)\n",
    "dataset_proc.prepare_labels(\"pineal\", suffix_list=[\"CH\", \"SRS\"])\n",
    "dataset = dataset_proc.dataset\n",
    "dataset.sort()\n",
    "ensemble_out_dataset.sort()"
   ]
  },
  {
   "cell_type": "markdown",
   "metadata": {},
   "source": [
    "Calculate Dice Scores"
   ]
  },
  {
   "cell_type": "code",
   "execution_count": 8,
   "metadata": {},
   "outputs": [
    {
     "name": "stdout",
     "output_type": "stream",
     "text": [
      "Dice Scores\n",
      "1010: 0.57\n",
      "1029: 0.54\n",
      "1188: 0.49\n",
      "1265: 0.64\n",
      "1272: 0.65\n",
      "1280: 0.10\n",
      "1321: 0.31\n",
      "2187: 0.82\n",
      "----------\n",
      "Mean: 0.52\n"
     ]
    }
   ],
   "source": [
    "dice_scores = []\n",
    "print(\"Dice Scores\")\n",
    "for scan, inference in zip(dataset, ensemble_out_dataset):\n",
    "    seg1 = nib.load(scan.label_path).get_fdata()\n",
    "    seg2 = nib.load(inference.label_path).get_fdata()\n",
    "\n",
    "    # Calculate Dice score\n",
    "    score = utils.dice_score(seg1, seg2)\n",
    "    dice_scores.append(score)\n",
    "    print(\"{}: {:0.2f}\".format(scan.subid, score))\n",
    "print(\"----------\")\n",
    "print(\"Mean: {:0.2f}\".format(sum(dice_scores) / len(dice_scores)))"
   ]
  },
  {
   "cell_type": "markdown",
   "metadata": {},
   "source": [
    "Save a new version of the predicted label that has a labelling index of 2 so that it appears as a different color in itksnap"
   ]
  },
  {
   "cell_type": "code",
   "execution_count": 12,
   "metadata": {},
   "outputs": [],
   "source": [
    "for inference in ensemble_out_dataset:\n",
    "    label_path = inference.label_path\n",
    "    new_label_path = label_path.with_name(f\"{fm.nifti_name(label_path)}_val2.nii.gz\")\n",
    "    utils.set_label_value(label_path, new_label_path, 2)"
   ]
  },
  {
   "cell_type": "markdown",
   "metadata": {},
   "source": [
    "Produce commands to open images and labels in itksnap"
   ]
  },
  {
   "cell_type": "code",
   "execution_count": 15,
   "metadata": {},
   "outputs": [
    {
     "name": "stdout",
     "output_type": "stream",
     "text": [
      "itksnap -g /media/smbshare/3Tpioneer_bids/sub-ms1010/ses-20180208/flair.nii.gz -o /media/smbshare/3Tpioneer_bids/sub-ms1010/ses-20180208/t1.nii.gz -s /home/srs-9/Projects/ms_mri/training_work_dirs/pineal1/ensemble_output/sub-ms1010/ses-20180208/flair.t1_ensemble_val2.nii.gz /media/smbshare/3Tpioneer_bids/sub-ms1010/ses-20180208/pineal-CH.nii.gz\n",
      "itksnap -g /media/smbshare/3Tpioneer_bids/sub-ms1029/ses-20170816/flair.nii.gz -o /media/smbshare/3Tpioneer_bids/sub-ms1029/ses-20170816/t1.nii.gz -s /home/srs-9/Projects/ms_mri/training_work_dirs/pineal1/ensemble_output/sub-ms1029/ses-20170816/flair.t1_ensemble_val2.nii.gz /media/smbshare/3Tpioneer_bids/sub-ms1029/ses-20170816/pineal-SRS.nii.gz\n",
      "itksnap -g /media/smbshare/3Tpioneer_bids/sub-ms1188/ses-20200720/flair.nii.gz -o /media/smbshare/3Tpioneer_bids/sub-ms1188/ses-20200720/t1.nii.gz -s /home/srs-9/Projects/ms_mri/training_work_dirs/pineal1/ensemble_output/sub-ms1188/ses-20200720/flair.t1_ensemble_val2.nii.gz /media/smbshare/3Tpioneer_bids/sub-ms1188/ses-20200720/pineal-CH.nii.gz\n",
      "itksnap -g /media/smbshare/3Tpioneer_bids/sub-ms1265/ses-20180127/flair.nii.gz -o /media/smbshare/3Tpioneer_bids/sub-ms1265/ses-20180127/t1.nii.gz -s /home/srs-9/Projects/ms_mri/training_work_dirs/pineal1/ensemble_output/sub-ms1265/ses-20180127/flair.t1_ensemble_val2.nii.gz /media/smbshare/3Tpioneer_bids/sub-ms1265/ses-20180127/pineal-SRS.nii.gz\n",
      "itksnap -g /media/smbshare/3Tpioneer_bids/sub-ms1272/ses-20211105/flair.nii.gz -o /media/smbshare/3Tpioneer_bids/sub-ms1272/ses-20211105/t1.nii.gz -s /home/srs-9/Projects/ms_mri/training_work_dirs/pineal1/ensemble_output/sub-ms1272/ses-20211105/flair.t1_ensemble_val2.nii.gz /media/smbshare/3Tpioneer_bids/sub-ms1272/ses-20211105/pineal-SRS.nii.gz\n",
      "itksnap -g /media/smbshare/3Tpioneer_bids/sub-ms1280/ses-20220317/flair.nii.gz -o /media/smbshare/3Tpioneer_bids/sub-ms1280/ses-20220317/t1.nii.gz -s /home/srs-9/Projects/ms_mri/training_work_dirs/pineal1/ensemble_output/sub-ms1280/ses-20220317/flair.t1_ensemble_val2.nii.gz /media/smbshare/3Tpioneer_bids/sub-ms1280/ses-20220317/pineal-SRS.nii.gz\n",
      "itksnap -g /media/smbshare/3Tpioneer_bids/sub-ms1321/ses-20201020/flair.nii.gz -o /media/smbshare/3Tpioneer_bids/sub-ms1321/ses-20201020/t1.nii.gz -s /home/srs-9/Projects/ms_mri/training_work_dirs/pineal1/ensemble_output/sub-ms1321/ses-20201020/flair.t1_ensemble_val2.nii.gz /media/smbshare/3Tpioneer_bids/sub-ms1321/ses-20201020/pineal-SRS.nii.gz\n",
      "itksnap -g /media/smbshare/3Tpioneer_bids/sub-ms2187/ses-20200731/flair.nii.gz -o /media/smbshare/3Tpioneer_bids/sub-ms2187/ses-20200731/t1.nii.gz -s /home/srs-9/Projects/ms_mri/training_work_dirs/pineal1/ensemble_output/sub-ms2187/ses-20200731/flair.t1_ensemble_val2.nii.gz /media/smbshare/3Tpioneer_bids/sub-ms2187/ses-20200731/pineal-SRS.nii.gz\n"
     ]
    }
   ],
   "source": [
    "for scan, inference in zip(dataset, ensemble_out_dataset):\n",
    "    flair = scan.root / \"flair.nii.gz\"\n",
    "    t1 = scan.root / \"t1.nii.gz\"\n",
    "    manual = scan.label_path\n",
    "    prediction = inference.root / new_label_path.name\n",
    "    print(\"itksnap\", \"-g\", flair, \"-o\", t1, \"-s\", prediction, manual)"
   ]
  },
  {
   "cell_type": "markdown",
   "metadata": {},
   "source": [
    "Produce commands to open images and labels in freeview"
   ]
  },
  {
   "cell_type": "code",
   "execution_count": 23,
   "metadata": {},
   "outputs": [
    {
     "name": "stdout",
     "output_type": "stream",
     "text": [
      "freeview /media/smbshare/3Tpioneer_bids/sub-ms1010/ses-20180208/flair.nii.gz /media/smbshare/3Tpioneer_bids/sub-ms1010/ses-20180208/t1.nii.gz /home/srs-9/Projects/ms_mri/training_work_dirs/pineal1/ensemble_output/sub-ms1010/ses-20180208/flair.t1_ensemble.nii.gz:colormap=heat /media/smbshare/3Tpioneer_bids/sub-ms1010/ses-20180208/pineal-CH.nii.gz:colormap=heat\n",
      "freeview /media/smbshare/3Tpioneer_bids/sub-ms1029/ses-20170816/flair.nii.gz /media/smbshare/3Tpioneer_bids/sub-ms1029/ses-20170816/t1.nii.gz /home/srs-9/Projects/ms_mri/training_work_dirs/pineal1/ensemble_output/sub-ms1029/ses-20170816/flair.t1_ensemble.nii.gz:colormap=heat /media/smbshare/3Tpioneer_bids/sub-ms1029/ses-20170816/pineal-SRS.nii.gz:colormap=heat\n",
      "freeview /media/smbshare/3Tpioneer_bids/sub-ms1188/ses-20200720/flair.nii.gz /media/smbshare/3Tpioneer_bids/sub-ms1188/ses-20200720/t1.nii.gz /home/srs-9/Projects/ms_mri/training_work_dirs/pineal1/ensemble_output/sub-ms1188/ses-20200720/flair.t1_ensemble.nii.gz:colormap=heat /media/smbshare/3Tpioneer_bids/sub-ms1188/ses-20200720/pineal-CH.nii.gz:colormap=heat\n",
      "freeview /media/smbshare/3Tpioneer_bids/sub-ms1265/ses-20180127/flair.nii.gz /media/smbshare/3Tpioneer_bids/sub-ms1265/ses-20180127/t1.nii.gz /home/srs-9/Projects/ms_mri/training_work_dirs/pineal1/ensemble_output/sub-ms1265/ses-20180127/flair.t1_ensemble.nii.gz:colormap=heat /media/smbshare/3Tpioneer_bids/sub-ms1265/ses-20180127/pineal-SRS.nii.gz:colormap=heat\n",
      "freeview /media/smbshare/3Tpioneer_bids/sub-ms1272/ses-20211105/flair.nii.gz /media/smbshare/3Tpioneer_bids/sub-ms1272/ses-20211105/t1.nii.gz /home/srs-9/Projects/ms_mri/training_work_dirs/pineal1/ensemble_output/sub-ms1272/ses-20211105/flair.t1_ensemble.nii.gz:colormap=heat /media/smbshare/3Tpioneer_bids/sub-ms1272/ses-20211105/pineal-SRS.nii.gz:colormap=heat\n",
      "freeview /media/smbshare/3Tpioneer_bids/sub-ms1280/ses-20220317/flair.nii.gz /media/smbshare/3Tpioneer_bids/sub-ms1280/ses-20220317/t1.nii.gz /home/srs-9/Projects/ms_mri/training_work_dirs/pineal1/ensemble_output/sub-ms1280/ses-20220317/flair.t1_ensemble.nii.gz:colormap=heat /media/smbshare/3Tpioneer_bids/sub-ms1280/ses-20220317/pineal-SRS.nii.gz:colormap=heat\n",
      "freeview /media/smbshare/3Tpioneer_bids/sub-ms1321/ses-20201020/flair.nii.gz /media/smbshare/3Tpioneer_bids/sub-ms1321/ses-20201020/t1.nii.gz /home/srs-9/Projects/ms_mri/training_work_dirs/pineal1/ensemble_output/sub-ms1321/ses-20201020/flair.t1_ensemble.nii.gz:colormap=heat /media/smbshare/3Tpioneer_bids/sub-ms1321/ses-20201020/pineal-SRS.nii.gz:colormap=heat\n",
      "freeview /media/smbshare/3Tpioneer_bids/sub-ms2187/ses-20200731/flair.nii.gz /media/smbshare/3Tpioneer_bids/sub-ms2187/ses-20200731/t1.nii.gz /home/srs-9/Projects/ms_mri/training_work_dirs/pineal1/ensemble_output/sub-ms2187/ses-20200731/flair.t1_ensemble.nii.gz:colormap=heat /media/smbshare/3Tpioneer_bids/sub-ms2187/ses-20200731/pineal-SRS.nii.gz:colormap=heat\n"
     ]
    }
   ],
   "source": [
    "for scan, inference in zip(dataset, ensemble_out_dataset):\n",
    "    flair = scan.root / \"flair.nii.gz\"\n",
    "    t1 = scan.root / \"t1.nii.gz\"\n",
    "    manual = scan.label_path\n",
    "    prediction = inference.label_path\n",
    "    print(\"freeview\", flair, t1, f\"{prediction}:colormap=heat\", f\"{manual}:colormap=heat\")"
   ]
  }
 ],
 "metadata": {
  "kernelspec": {
   "display_name": "monai",
   "language": "python",
   "name": "python3"
  },
  "language_info": {
   "codemirror_mode": {
    "name": "ipython",
    "version": 3
   },
   "file_extension": ".py",
   "mimetype": "text/x-python",
   "name": "python",
   "nbconvert_exporter": "python",
   "pygments_lexer": "ipython3",
   "version": "3.12.7"
  }
 },
 "nbformat": 4,
 "nbformat_minor": 2
}
