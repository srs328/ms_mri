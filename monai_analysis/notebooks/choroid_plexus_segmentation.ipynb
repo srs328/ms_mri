{
 "cells": [
  {
   "cell_type": "markdown",
   "id": "6b5ef0d0-d80a-49f6-93dd-50dd79b06345",
   "metadata": {
    "tags": []
   },
   "source": [
    "# Choroid Plexus Segmentation Training via Auto3DSeg"
   ]
  },
  {
   "cell_type": "code",
   "execution_count": 1,
   "id": "447dcb1b-ab8f-43b9-9439-d703a0881dc7",
   "metadata": {
    "tags": []
   },
   "outputs": [
    {
     "name": "stdout",
     "output_type": "stream",
     "text": [
      "MONAI version: 1.3.2\n",
      "Numpy version: 1.26.4\n",
      "Pytorch version: 2.3.1+cu121\n",
      "MONAI flags: HAS_EXT = False, USE_COMPILED = False, USE_META_DICT = False\n",
      "MONAI rev id: 59a7211070538586369afd4a01eca0a7fe2e742e\n",
      "MONAI __file__: /home/<username>/.virtualenvs/monai/lib/python3.12/site-packages/monai/__init__.py\n",
      "\n",
      "Optional dependencies:\n",
      "Pytorch Ignite version: NOT INSTALLED or UNKNOWN VERSION.\n",
      "ITK version: 5.4.0\n",
      "Nibabel version: 5.2.1\n",
      "scikit-image version: 0.24.0\n",
      "scipy version: 1.14.0\n",
      "Pillow version: 10.4.0\n",
      "Tensorboard version: 2.17.0\n",
      "gdown version: 5.2.0\n",
      "TorchVision version: 0.18.1+cu121\n",
      "tqdm version: 4.66.4\n",
      "lmdb version: 1.5.1\n",
      "psutil version: 6.0.0\n",
      "pandas version: 2.2.2\n",
      "einops version: 0.8.0\n",
      "transformers version: 4.42.4\n",
      "mlflow version: 2.14.3\n",
      "pynrrd version: 1.0.0\n",
      "clearml version: 1.16.2\n",
      "\n",
      "For details about installing the optional dependencies, please visit:\n",
      "    https://docs.monai.io/en/latest/installation.html#installing-the-recommended-dependencies\n",
      "\n"
     ]
    }
   ],
   "source": [
    "import os\n",
    "import json\n",
    "import nibabel as nib\n",
    "import nibabel as nibabel\n",
    "import numpy as np\n",
    "import matplotlib.pyplot as plt\n",
    "from pathlib import Path\n",
    "import glob\n",
    "import random\n",
    "from monai.apps.auto3dseg import AutoRunner\n",
    "from monai.config import print_config\n",
    "from monai_analysis.preproc import hemond_data, init_paths, prepare_scans\n",
    "import importlib\n",
    "\n",
    "print_config()"
   ]
  },
  {
   "cell_type": "code",
   "execution_count": 2,
   "id": "074f8700",
   "metadata": {},
   "outputs": [
    {
     "data": {
      "text/plain": [
       "<module 'monai_analysis.preproc.hemond_data' from '/home/hemondlab/Dev/ms_mri/monai_analysis/preproc/hemond_data.py'>"
      ]
     },
     "execution_count": 2,
     "metadata": {},
     "output_type": "execute_result"
    }
   ],
   "source": [
    "init_paths.main()\n",
    "from monai_analysis.preproc.init_paths import DATA_HOME\n",
    "\n",
    "importlib.reload(hemond_data)"
   ]
  },
  {
   "cell_type": "markdown",
   "id": "9757d709-c563-4082-a369-c08f07ed3fbf",
   "metadata": {},
   "source": [
    "## Prep the database\n",
    "\n",
    "Get the data and labels organized"
   ]
  },
  {
   "cell_type": "code",
   "execution_count": 3,
   "id": "e8009ba8",
   "metadata": {},
   "outputs": [
    {
     "name": "stderr",
     "output_type": "stream",
     "text": [
      "No scan exists for subject: 1492 and session: 20190620\n"
     ]
    }
   ],
   "source": [
    "dataset = hemond_data.scan_data_dir(DATA_HOME)\n",
    "dataset = hemond_data.assign_conditions(dataset)"
   ]
  },
  {
   "cell_type": "code",
   "execution_count": 4,
   "id": "8ee1ba2f-45f9-4d11-b1b3-8af676954fe7",
   "metadata": {
    "tags": []
   },
   "outputs": [],
   "source": [
    "training_data = []\n",
    "test_data = []\n",
    "\n",
    "for scan in dataset:\n",
    "    if scan.cond == 'tr':\n",
    "        training_data.append({\"image\": scan.image, \"label\": scan.label})\n",
    "    elif scan.cond == 'ts':\n",
    "        test_data.append(scan.image)"
   ]
  },
  {
   "cell_type": "markdown",
   "id": "77c3d4ba-a4ee-46f9-bbef-73bea3f1e1f4",
   "metadata": {},
   "source": [
    "## Review"
   ]
  },
  {
   "cell_type": "code",
   "execution_count": 5,
   "id": "2fb4c306-d08a-4205-b701-49e362e87bdd",
   "metadata": {
    "tags": []
   },
   "outputs": [],
   "source": [
    "def display_slices(scan):\n",
    "    img1 = nibabel.load(scan.image)\n",
    "    img2 = nibabel.load(scan.label)\n",
    "\n",
    "    data1 = img1.get_fdata()[:,:,:]\n",
    "    data2 = img2.get_fdata()\n",
    "\n",
    "    slice_sums = np.sum(data2, axis=(0, 1))\n",
    "    \n",
    "    print(slice_sums)\n",
    "\n",
    "    max_slice_index = np.argmax(slice_sums)\n",
    "    print(f\"Max slice: {max_slice_index}\")\n",
    "\n",
    "    slice1 = data1[:, :, max_slice_index]\n",
    "    slice2 = data2[:, :, max_slice_index]    \n",
    "\n",
    "    plt.figure(figsize=(10, 5))\n",
    "    plt.subplot(1, 2, 1)\n",
    "    plt.imshow(slice1, cmap='gray')\n",
    "    plt.title(f\"Image 1 - Slice {max_slice_index}\")\n",
    "    plt.axis('off')\n",
    "\n",
    "    plt.subplot(1, 2, 2)\n",
    "    plt.imshow(slice2, cmap='gray')\n",
    "    plt.title(f\"Image 2 - Slice {max_slice_index}\")\n",
    "    plt.axis('off')\n",
    "    plt.show()\n"
   ]
  },
  {
   "cell_type": "code",
   "execution_count": 6,
   "id": "0a062717-42d3-4a72-aa99-f3e0cb3994e6",
   "metadata": {
    "tags": []
   },
   "outputs": [
    {
     "name": "stdout",
     "output_type": "stream",
     "text": [
      "[   0.    0.    0.    0.    0.    0.    0.    0.    0.    0.    0.    0.\n",
      "    0.    0.    0.    0.    0.    0.    0.    0.    0.    0.    0.    0.\n",
      "    0.    0.    0.    0.    0.    0.    0.    0.    0.    0.    0.    0.\n",
      "    0.    0.    0.    0.    0.    0.    0.    0.    0.    0.    0.    0.\n",
      "    0.    0.    0.    0.    0.    0.    0.    0.    0.    0.    0.    0.\n",
      "    0.    0.    0.    0.    0.    0.    0.    0.    0.    0.    0.    0.\n",
      "    0.    0.    0.    0.    0.    0.    0.    0.    0.    0.    0.    0.\n",
      "    0.    0.    0.    0.    0.    0.    0.    0.    0.    0.    0.    0.\n",
      "    0.    0.    0.    0.    0.    0.    0.    0.    0.    0.    0.    0.\n",
      "    0.    0.    0.    0.    0.    0.    0.    0.    0.    0.    0.    0.\n",
      "    0.    0.    0.    0.    0.    0.    0.    0.    0.    0.    0.    0.\n",
      "    0.    0.    0.    0.    0.    0.    0.    0.    0.    0.    0.    0.\n",
      "    0.    0.    0.    0.    0.    0.    0.    0.    0.    0.    0.    0.\n",
      "    0.    0.    0.    0.    0.    0.    0.    0.    0.    0.    6.   60.\n",
      "  145.  202.  182.  186.  192.   90.    0.    0.   20.   70.   65.   55.\n",
      "   45.   25.   94.  224.  272.  268.  252.  212.  300.  454.  390.  282.\n",
      "  300.  348.  630.  938. 1365. 1253. 1127.  977.  996.  945.  948.  920.\n",
      " 1003.  998.  964. 1018. 1036. 1231. 1403. 1832. 1361.  488.  121.    0.\n",
      "    0.    0.    0.    0.    0.    8.   40.   68.   16.    0.    0.    0.\n",
      "    0.    0.    0.    0.    0.    0.    0.    0.    0.    0.    0.    0.\n",
      "    0.    0.    0.    0.    0.    0.    0.    0.    0.    0.    0.    0.\n",
      "    0.    0.    0.    0.    0.    0.    0.    0.    0.    0.    0.    0.\n",
      "    0.    0.    0.    0.    0.    0.    0.    0.    0.    0.    0.    0.\n",
      "    0.    0.    0.    0.    0.    0.    0.    0.    0.    0.    0.    0.\n",
      "    0.    0.    0.    0.    0.    0.    0.    0.    0.    0.    0.    0.]\n",
      "Max slice: 211\n"
     ]
    },
    {
     "data": {
      "image/png": "[encoded data removed]",
      "text/plain": [
       "<Figure size 1000x500 with 2 Axes>"
      ]
     },
     "metadata": {},
     "output_type": "display_data"
    }
   ],
   "source": [
    "display_slices(dataset[0])"
   ]
  },
  {
   "cell_type": "markdown",
   "id": "64151db1",
   "metadata": {},
   "source": [
    "In the original code, they include labels in the test data as well. Also they have a function that checks that there is nonzero number of voxels in the label"
   ]
  },
  {
   "cell_type": "code",
   "execution_count": 7,
   "id": "1126595e-b5f8-439b-ac08-cee9c5460e1f",
   "metadata": {
    "tags": []
   },
   "outputs": [
    {
     "name": "stdout",
     "output_type": "stream",
     "text": [
      "Train num total: 321\n",
      "Test num: 29\n"
     ]
    }
   ],
   "source": [
    "#? I don't know why they put labels for the test data. the brats segmentation code didn't.\n",
    "# train_data = [{'image': path + '/flair.nii.gz', 'label': path + '/flair_chp_mask_qced.nii.gz'} for path in train_exams]\n",
    "# test_data = [{'image': path + '/flair.nii.gz', 'label': path + '/flair_chp_mask_qced.nii.gz'} for path in test_exams]\n",
    "\n",
    "train_data = []\n",
    "test_data = []\n",
    "for scan in dataset:\n",
    "    if scan.cond == 'tr' and scan.has_label:\n",
    "        train_data.append({\"image\": str(scan.image), \"label\": str(scan.label)})\n",
    "    elif scan.cond == 'ts' and scan.has_label():\n",
    "        test_data.append({\"image\": str(scan.image), \"label\": str(scan.label)})\n",
    "\n",
    "\n",
    "print(f\"Train num total: {len(train_data)}\")\n",
    "print(f\"Test num: {len(test_data)}\")"
   ]
  },
  {
   "cell_type": "code",
   "execution_count": 11,
   "id": "5a9debf7-a89b-455b-a14d-826971e603d3",
   "metadata": {
    "tags": []
   },
   "outputs": [],
   "source": [
    "datalist = {\n",
    "    \"testing\": test_data,\n",
    "    \"training\": [{\"fold\": i % 10, \"image\": c[\"image\"], \"label\": c[\"label\"]} for i,c in enumerate(train_data)]\n",
    "}"
   ]
  },
  {
   "cell_type": "code",
   "execution_count": 12,
   "id": "20a28417-4acc-4721-a942-9fe46376753f",
   "metadata": {
    "tags": []
   },
   "outputs": [],
   "source": [
    "sub_datalist = dict({'training':[], 'testing':[]})\n",
    "sub_datalist[\"training\"] = datalist[\"training\"][:120]\n",
    "sub_datalist[\"testing\"] = datalist[\"testing\"][:29]\n",
    "datalist = sub_datalist"
   ]
  },
  {
   "cell_type": "code",
   "execution_count": 13,
   "id": "aaf29874",
   "metadata": {},
   "outputs": [
    {
     "data": {
      "text/plain": [
       "{'training': [{'fold': 0,\n",
       "   'image': '/home/hemondlab/MONAI/flair/sub-ms1140_ses-20201020.nii.gz',\n",
       "   'label': '/home/hemondlab/MONAI/flair/labels/sub-ms1140_ses-20201020.nii.gz'},\n",
       "  {'fold': 1,\n",
       "   'image': '/home/hemondlab/MONAI/flair/sub-ms1064_ses-20170310.nii.gz',\n",
       "   'label': '/home/hemondlab/MONAI/flair/labels/sub-ms1064_ses-20170310.nii.gz'},\n",
       "  {'fold': 2,\n",
       "   'image': '/home/hemondlab/MONAI/flair/sub-ms1001_ses-20170215.nii.gz',\n",
       "   'label': '/home/hemondlab/MONAI/flair/labels/sub-ms1001_ses-20170215.nii.gz'},\n",
       "  {'fold': 3,\n",
       "   'image': '/home/hemondlab/MONAI/flair/sub-ms1433_ses-20201230.nii.gz',\n",
       "   'label': '/home/hemondlab/MONAI/flair/labels/sub-ms1433_ses-20201230.nii.gz'},\n",
       "  {'fold': 4,\n",
       "   'image': '/home/hemondlab/MONAI/flair/sub-ms1215_ses-20180429.nii.gz',\n",
       "   'label': '/home/hemondlab/MONAI/flair/labels/sub-ms1215_ses-20180429.nii.gz'},\n",
       "  {'fold': 5,\n",
       "   'image': '/home/hemondlab/MONAI/flair/sub-ms1460_ses-20211222.nii.gz',\n",
       "   'label': '/home/hemondlab/MONAI/flair/labels/sub-ms1460_ses-20211222.nii.gz'},\n",
       "  {'fold': 6,\n",
       "   'image': '/home/hemondlab/MONAI/flair/sub-ms1126_ses-20170609.nii.gz',\n",
       "   'label': '/home/hemondlab/MONAI/flair/labels/sub-ms1126_ses-20170609.nii.gz'},\n",
       "  {'fold': 7,\n",
       "   'image': '/home/hemondlab/MONAI/flair/sub-ms1219_ses-20170620.nii.gz',\n",
       "   'label': '/home/hemondlab/MONAI/flair/labels/sub-ms1219_ses-20170620.nii.gz'},\n",
       "  {'fold': 8,\n",
       "   'image': '/home/hemondlab/MONAI/flair/sub-ms1069_ses-20220313.nii.gz',\n",
       "   'label': '/home/hemondlab/MONAI/flair/labels/sub-ms1069_ses-20220313.nii.gz'},\n",
       "  {'fold': 9,\n",
       "   'image': '/home/hemondlab/MONAI/flair/sub-ms1003_ses-20170329.nii.gz',\n",
       "   'label': '/home/hemondlab/MONAI/flair/labels/sub-ms1003_ses-20170329.nii.gz'},\n",
       "  {'fold': 0,\n",
       "   'image': '/home/hemondlab/MONAI/flair/sub-ms1030_ses-20200304.nii.gz',\n",
       "   'label': '/home/hemondlab/MONAI/flair/labels/sub-ms1030_ses-20200304.nii.gz'},\n",
       "  {'fold': 1,\n",
       "   'image': '/home/hemondlab/MONAI/flair/sub-ms1049_ses-20170815.nii.gz',\n",
       "   'label': '/home/hemondlab/MONAI/flair/labels/sub-ms1049_ses-20170815.nii.gz'},\n",
       "  {'fold': 2,\n",
       "   'image': '/home/hemondlab/MONAI/flair/sub-ms1036_ses-20191027.nii.gz',\n",
       "   'label': '/home/hemondlab/MONAI/flair/labels/sub-ms1036_ses-20191027.nii.gz'},\n",
       "  {'fold': 3,\n",
       "   'image': '/home/hemondlab/MONAI/flair/sub-ms1169_ses-20170607.nii.gz',\n",
       "   'label': '/home/hemondlab/MONAI/flair/labels/sub-ms1169_ses-20170607.nii.gz'},\n",
       "  {'fold': 4,\n",
       "   'image': '/home/hemondlab/MONAI/flair/sub-ms1021_ses-20180928.nii.gz',\n",
       "   'label': '/home/hemondlab/MONAI/flair/labels/sub-ms1021_ses-20180928.nii.gz'},\n",
       "  {'fold': 5,\n",
       "   'image': '/home/hemondlab/MONAI/flair/sub-ms1019_ses-20190608.nii.gz',\n",
       "   'label': '/home/hemondlab/MONAI/flair/labels/sub-ms1019_ses-20190608.nii.gz'},\n",
       "  {'fold': 6,\n",
       "   'image': '/home/hemondlab/MONAI/flair/sub-ms1157_ses-20170102.nii.gz',\n",
       "   'label': '/home/hemondlab/MONAI/flair/labels/sub-ms1157_ses-20170102.nii.gz'},\n",
       "  {'fold': 7,\n",
       "   'image': '/home/hemondlab/MONAI/flair/sub-ms1208_ses-20171221.nii.gz',\n",
       "   'label': '/home/hemondlab/MONAI/flair/labels/sub-ms1208_ses-20171221.nii.gz'},\n",
       "  {'fold': 8,\n",
       "   'image': '/home/hemondlab/MONAI/flair/sub-ms1301_ses-20181003.nii.gz',\n",
       "   'label': '/home/hemondlab/MONAI/flair/labels/sub-ms1301_ses-20181003.nii.gz'},\n",
       "  {'fold': 9,\n",
       "   'image': '/home/hemondlab/MONAI/flair/sub-ms1300_ses-20190115.nii.gz',\n",
       "   'label': '/home/hemondlab/MONAI/flair/labels/sub-ms1300_ses-20190115.nii.gz'},\n",
       "  {'fold': 0,\n",
       "   'image': '/home/hemondlab/MONAI/flair/sub-ms1398_ses-20210518.nii.gz',\n",
       "   'label': '/home/hemondlab/MONAI/flair/labels/sub-ms1398_ses-20210518.nii.gz'},\n",
       "  {'fold': 1,\n",
       "   'image': '/home/hemondlab/MONAI/flair/sub-ms1023_ses-20170813.nii.gz',\n",
       "   'label': '/home/hemondlab/MONAI/flair/labels/sub-ms1023_ses-20170813.nii.gz'},\n",
       "  {'fold': 2,\n",
       "   'image': '/home/hemondlab/MONAI/flair/sub-ms1476_ses-20180414.nii.gz',\n",
       "   'label': '/home/hemondlab/MONAI/flair/labels/sub-ms1476_ses-20180414.nii.gz'},\n",
       "  {'fold': 3,\n",
       "   'image': '/home/hemondlab/MONAI/flair/sub-ms1385_ses-20210630.nii.gz',\n",
       "   'label': '/home/hemondlab/MONAI/flair/labels/sub-ms1385_ses-20210630.nii.gz'},\n",
       "  {'fold': 4,\n",
       "   'image': '/home/hemondlab/MONAI/flair/sub-ms1163_ses-20180907.nii.gz',\n",
       "   'label': '/home/hemondlab/MONAI/flair/labels/sub-ms1163_ses-20180907.nii.gz'},\n",
       "  {'fold': 5,\n",
       "   'image': '/home/hemondlab/MONAI/flair/sub-ms1357_ses-20210218.nii.gz',\n",
       "   'label': '/home/hemondlab/MONAI/flair/labels/sub-ms1357_ses-20210218.nii.gz'},\n",
       "  {'fold': 6,\n",
       "   'image': '/home/hemondlab/MONAI/flair/sub-ms1482_ses-20170309.nii.gz',\n",
       "   'label': '/home/hemondlab/MONAI/flair/labels/sub-ms1482_ses-20170309.nii.gz'},\n",
       "  {'fold': 7,\n",
       "   'image': '/home/hemondlab/MONAI/flair/sub-ms1247_ses-20190905.nii.gz',\n",
       "   'label': '/home/hemondlab/MONAI/flair/labels/sub-ms1247_ses-20190905.nii.gz'},\n",
       "  {'fold': 8,\n",
       "   'image': '/home/hemondlab/MONAI/flair/sub-ms1259_ses-20200803.nii.gz',\n",
       "   'label': '/home/hemondlab/MONAI/flair/labels/sub-ms1259_ses-20200803.nii.gz'},\n",
       "  {'fold': 9,\n",
       "   'image': '/home/hemondlab/MONAI/flair/sub-ms1246_ses-20160915.nii.gz',\n",
       "   'label': '/home/hemondlab/MONAI/flair/labels/sub-ms1246_ses-20160915.nii.gz'},\n",
       "  {'fold': 0,\n",
       "   'image': '/home/hemondlab/MONAI/flair/sub-ms1328_ses-20170828.nii.gz',\n",
       "   'label': '/home/hemondlab/MONAI/flair/labels/sub-ms1328_ses-20170828.nii.gz'},\n",
       "  {'fold': 1,\n",
       "   'image': '/home/hemondlab/MONAI/flair/sub-ms1177_ses-20180813.nii.gz',\n",
       "   'label': '/home/hemondlab/MONAI/flair/labels/sub-ms1177_ses-20180813.nii.gz'},\n",
       "  {'fold': 2,\n",
       "   'image': '/home/hemondlab/MONAI/flair/sub-ms1427_ses-20190122.nii.gz',\n",
       "   'label': '/home/hemondlab/MONAI/flair/labels/sub-ms1427_ses-20190122.nii.gz'},\n",
       "  {'fold': 3,\n",
       "   'image': '/home/hemondlab/MONAI/flair/sub-ms1417_ses-20170701.nii.gz',\n",
       "   'label': '/home/hemondlab/MONAI/flair/labels/sub-ms1417_ses-20170701.nii.gz'},\n",
       "  {'fold': 4,\n",
       "   'image': '/home/hemondlab/MONAI/flair/sub-ms1329_ses-20171209.nii.gz',\n",
       "   'label': '/home/hemondlab/MONAI/flair/labels/sub-ms1329_ses-20171209.nii.gz'},\n",
       "  {'fold': 5,\n",
       "   'image': '/home/hemondlab/MONAI/flair/sub-ms1391_ses-20201207.nii.gz',\n",
       "   'label': '/home/hemondlab/MONAI/flair/labels/sub-ms1391_ses-20201207.nii.gz'},\n",
       "  {'fold': 6,\n",
       "   'image': '/home/hemondlab/MONAI/flair/sub-ms1148_ses-20170618.nii.gz',\n",
       "   'label': '/home/hemondlab/MONAI/flair/labels/sub-ms1148_ses-20170618.nii.gz'},\n",
       "  {'fold': 7,\n",
       "   'image': '/home/hemondlab/MONAI/flair/sub-ms1207_ses-20180624.nii.gz',\n",
       "   'label': '/home/hemondlab/MONAI/flair/labels/sub-ms1207_ses-20180624.nii.gz'},\n",
       "  {'fold': 8,\n",
       "   'image': '/home/hemondlab/MONAI/flair/sub-ms1238_ses-20190621.nii.gz',\n",
       "   'label': '/home/hemondlab/MONAI/flair/labels/sub-ms1238_ses-20190621.nii.gz'},\n",
       "  {'fold': 9,\n",
       "   'image': '/home/hemondlab/MONAI/flair/sub-ms1138_ses-20170620.nii.gz',\n",
       "   'label': '/home/hemondlab/MONAI/flair/labels/sub-ms1138_ses-20170620.nii.gz'},\n",
       "  {'fold': 0,\n",
       "   'image': '/home/hemondlab/MONAI/flair/sub-ms1262_ses-20170402.nii.gz',\n",
       "   'label': '/home/hemondlab/MONAI/flair/labels/sub-ms1262_ses-20170402.nii.gz'},\n",
       "  {'fold': 1,\n",
       "   'image': '/home/hemondlab/MONAI/flair/sub-ms1170_ses-20190808.nii.gz',\n",
       "   'label': '/home/hemondlab/MONAI/flair/labels/sub-ms1170_ses-20190808.nii.gz'},\n",
       "  {'fold': 2,\n",
       "   'image': '/home/hemondlab/MONAI/flair/sub-ms1396_ses-20170126.nii.gz',\n",
       "   'label': '/home/hemondlab/MONAI/flair/labels/sub-ms1396_ses-20170126.nii.gz'},\n",
       "  {'fold': 3,\n",
       "   'image': '/home/hemondlab/MONAI/flair/sub-ms1406_ses-20200929.nii.gz',\n",
       "   'label': '/home/hemondlab/MONAI/flair/labels/sub-ms1406_ses-20200929.nii.gz'},\n",
       "  {'fold': 4,\n",
       "   'image': '/home/hemondlab/MONAI/flair/sub-ms1174_ses-20171119.nii.gz',\n",
       "   'label': '/home/hemondlab/MONAI/flair/labels/sub-ms1174_ses-20171119.nii.gz'},\n",
       "  {'fold': 5,\n",
       "   'image': '/home/hemondlab/MONAI/flair/sub-ms1296_ses-20180427.nii.gz',\n",
       "   'label': '/home/hemondlab/MONAI/flair/labels/sub-ms1296_ses-20180427.nii.gz'},\n",
       "  {'fold': 6,\n",
       "   'image': '/home/hemondlab/MONAI/flair/sub-ms1477_ses-20220115.nii.gz',\n",
       "   'label': '/home/hemondlab/MONAI/flair/labels/sub-ms1477_ses-20220115.nii.gz'},\n",
       "  {'fold': 7,\n",
       "   'image': '/home/hemondlab/MONAI/flair/sub-ms1361_ses-20200806.nii.gz',\n",
       "   'label': '/home/hemondlab/MONAI/flair/labels/sub-ms1361_ses-20200806.nii.gz'},\n",
       "  {'fold': 8,\n",
       "   'image': '/home/hemondlab/MONAI/flair/sub-ms1297_ses-20170725.nii.gz',\n",
       "   'label': '/home/hemondlab/MONAI/flair/labels/sub-ms1297_ses-20170725.nii.gz'},\n",
       "  {'fold': 9,\n",
       "   'image': '/home/hemondlab/MONAI/flair/sub-ms1335_ses-20170906.nii.gz',\n",
       "   'label': '/home/hemondlab/MONAI/flair/labels/sub-ms1335_ses-20170906.nii.gz'},\n",
       "  {'fold': 0,\n",
       "   'image': '/home/hemondlab/MONAI/flair/sub-ms1162_ses-20200726.nii.gz',\n",
       "   'label': '/home/hemondlab/MONAI/flair/labels/sub-ms1162_ses-20200726.nii.gz'},\n",
       "  {'fold': 1,\n",
       "   'image': '/home/hemondlab/MONAI/flair/sub-ms1416_ses-20211019.nii.gz',\n",
       "   'label': '/home/hemondlab/MONAI/flair/labels/sub-ms1416_ses-20211019.nii.gz'},\n",
       "  {'fold': 2,\n",
       "   'image': '/home/hemondlab/MONAI/flair/sub-ms1038_ses-20161031.nii.gz',\n",
       "   'label': '/home/hemondlab/MONAI/flair/labels/sub-ms1038_ses-20161031.nii.gz'},\n",
       "  {'fold': 3,\n",
       "   'image': '/home/hemondlab/MONAI/flair/sub-ms1103_ses-20191214.nii.gz',\n",
       "   'label': '/home/hemondlab/MONAI/flair/labels/sub-ms1103_ses-20191214.nii.gz'},\n",
       "  {'fold': 4,\n",
       "   'image': '/home/hemondlab/MONAI/flair/sub-ms1270_ses-20200909.nii.gz',\n",
       "   'label': '/home/hemondlab/MONAI/flair/labels/sub-ms1270_ses-20200909.nii.gz'},\n",
       "  {'fold': 5,\n",
       "   'image': '/home/hemondlab/MONAI/flair/sub-ms1425_ses-20210420.nii.gz',\n",
       "   'label': '/home/hemondlab/MONAI/flair/labels/sub-ms1425_ses-20210420.nii.gz'},\n",
       "  {'fold': 6,\n",
       "   'image': '/home/hemondlab/MONAI/flair/sub-ms1005_ses-20200708.nii.gz',\n",
       "   'label': '/home/hemondlab/MONAI/flair/labels/sub-ms1005_ses-20200708.nii.gz'},\n",
       "  {'fold': 7,\n",
       "   'image': '/home/hemondlab/MONAI/flair/sub-ms1442_ses-20170720.nii.gz',\n",
       "   'label': '/home/hemondlab/MONAI/flair/labels/sub-ms1442_ses-20170720.nii.gz'},\n",
       "  {'fold': 8,\n",
       "   'image': '/home/hemondlab/MONAI/flair/sub-ms1355_ses-20210104.nii.gz',\n",
       "   'label': '/home/hemondlab/MONAI/flair/labels/sub-ms1355_ses-20210104.nii.gz'},\n",
       "  {'fold': 9,\n",
       "   'image': '/home/hemondlab/MONAI/flair/sub-ms1070_ses-20161025.nii.gz',\n",
       "   'label': '/home/hemondlab/MONAI/flair/labels/sub-ms1070_ses-20161025.nii.gz'},\n",
       "  {'fold': 0,\n",
       "   'image': '/home/hemondlab/MONAI/flair/sub-ms1050_ses-20170624.nii.gz',\n",
       "   'label': '/home/hemondlab/MONAI/flair/labels/sub-ms1050_ses-20170624.nii.gz'},\n",
       "  {'fold': 1,\n",
       "   'image': '/home/hemondlab/MONAI/flair/sub-ms1217_ses-20170503.nii.gz',\n",
       "   'label': '/home/hemondlab/MONAI/flair/labels/sub-ms1217_ses-20170503.nii.gz'},\n",
       "  {'fold': 2,\n",
       "   'image': '/home/hemondlab/MONAI/flair/sub-ms1089_ses-20210612.nii.gz',\n",
       "   'label': '/home/hemondlab/MONAI/flair/labels/sub-ms1089_ses-20210612.nii.gz'},\n",
       "  {'fold': 3,\n",
       "   'image': '/home/hemondlab/MONAI/flair/sub-ms1109_ses-20180303.nii.gz',\n",
       "   'label': '/home/hemondlab/MONAI/flair/labels/sub-ms1109_ses-20180303.nii.gz'},\n",
       "  {'fold': 4,\n",
       "   'image': '/home/hemondlab/MONAI/flair/sub-ms1129_ses-20200120.nii.gz',\n",
       "   'label': '/home/hemondlab/MONAI/flair/labels/sub-ms1129_ses-20200120.nii.gz'},\n",
       "  {'fold': 5,\n",
       "   'image': '/home/hemondlab/MONAI/flair/sub-ms1113_ses-20170526.nii.gz',\n",
       "   'label': '/home/hemondlab/MONAI/flair/labels/sub-ms1113_ses-20170526.nii.gz'},\n",
       "  {'fold': 6,\n",
       "   'image': '/home/hemondlab/MONAI/flair/sub-ms1121_ses-20170530.nii.gz',\n",
       "   'label': '/home/hemondlab/MONAI/flair/labels/sub-ms1121_ses-20170530.nii.gz'},\n",
       "  {'fold': 7,\n",
       "   'image': '/home/hemondlab/MONAI/flair/sub-ms1047_ses-20190506.nii.gz',\n",
       "   'label': '/home/hemondlab/MONAI/flair/labels/sub-ms1047_ses-20190506.nii.gz'},\n",
       "  {'fold': 8,\n",
       "   'image': '/home/hemondlab/MONAI/flair/sub-ms1198_ses-20170612.nii.gz',\n",
       "   'label': '/home/hemondlab/MONAI/flair/labels/sub-ms1198_ses-20170612.nii.gz'},\n",
       "  {'fold': 9,\n",
       "   'image': '/home/hemondlab/MONAI/flair/sub-ms1313_ses-20180706.nii.gz',\n",
       "   'label': '/home/hemondlab/MONAI/flair/labels/sub-ms1313_ses-20180706.nii.gz'},\n",
       "  {'fold': 0,\n",
       "   'image': '/home/hemondlab/MONAI/flair/sub-ms1077_ses-20180522.nii.gz',\n",
       "   'label': '/home/hemondlab/MONAI/flair/labels/sub-ms1077_ses-20180522.nii.gz'},\n",
       "  {'fold': 1,\n",
       "   'image': '/home/hemondlab/MONAI/flair/sub-ms1118_ses-20181217.nii.gz',\n",
       "   'label': '/home/hemondlab/MONAI/flair/labels/sub-ms1118_ses-20181217.nii.gz'},\n",
       "  {'fold': 2,\n",
       "   'image': '/home/hemondlab/MONAI/flair/sub-ms1356_ses-20180714.nii.gz',\n",
       "   'label': '/home/hemondlab/MONAI/flair/labels/sub-ms1356_ses-20180714.nii.gz'},\n",
       "  {'fold': 3,\n",
       "   'image': '/home/hemondlab/MONAI/flair/sub-ms1052_ses-20180803.nii.gz',\n",
       "   'label': '/home/hemondlab/MONAI/flair/labels/sub-ms1052_ses-20180803.nii.gz'},\n",
       "  {'fold': 4,\n",
       "   'image': '/home/hemondlab/MONAI/flair/sub-ms1429_ses-20180414.nii.gz',\n",
       "   'label': '/home/hemondlab/MONAI/flair/labels/sub-ms1429_ses-20180414.nii.gz'},\n",
       "  {'fold': 5,\n",
       "   'image': '/home/hemondlab/MONAI/flair/sub-ms1101_ses-20170827.nii.gz',\n",
       "   'label': '/home/hemondlab/MONAI/flair/labels/sub-ms1101_ses-20170827.nii.gz'},\n",
       "  {'fold': 6,\n",
       "   'image': '/home/hemondlab/MONAI/flair/sub-ms1302_ses-20200911.nii.gz',\n",
       "   'label': '/home/hemondlab/MONAI/flair/labels/sub-ms1302_ses-20200911.nii.gz'},\n",
       "  {'fold': 7,\n",
       "   'image': '/home/hemondlab/MONAI/flair/sub-ms1283_ses-20200810.nii.gz',\n",
       "   'label': '/home/hemondlab/MONAI/flair/labels/sub-ms1283_ses-20200810.nii.gz'},\n",
       "  {'fold': 8,\n",
       "   'image': '/home/hemondlab/MONAI/flair/sub-ms1199_ses-20190531.nii.gz',\n",
       "   'label': '/home/hemondlab/MONAI/flair/labels/sub-ms1199_ses-20190531.nii.gz'},\n",
       "  {'fold': 9,\n",
       "   'image': '/home/hemondlab/MONAI/flair/sub-ms1363_ses-20191213.nii.gz',\n",
       "   'label': '/home/hemondlab/MONAI/flair/labels/sub-ms1363_ses-20191213.nii.gz'},\n",
       "  {'fold': 0,\n",
       "   'image': '/home/hemondlab/MONAI/flair/sub-ms1105_ses-20171208.nii.gz',\n",
       "   'label': '/home/hemondlab/MONAI/flair/labels/sub-ms1105_ses-20171208.nii.gz'},\n",
       "  {'fold': 1,\n",
       "   'image': '/home/hemondlab/MONAI/flair/sub-ms1273_ses-20201227.nii.gz',\n",
       "   'label': '/home/hemondlab/MONAI/flair/labels/sub-ms1273_ses-20201227.nii.gz'},\n",
       "  {'fold': 2,\n",
       "   'image': '/home/hemondlab/MONAI/flair/sub-ms1200_ses-20170128.nii.gz',\n",
       "   'label': '/home/hemondlab/MONAI/flair/labels/sub-ms1200_ses-20170128.nii.gz'},\n",
       "  {'fold': 3,\n",
       "   'image': '/home/hemondlab/MONAI/flair/sub-ms1324_ses-20210123.nii.gz',\n",
       "   'label': '/home/hemondlab/MONAI/flair/labels/sub-ms1324_ses-20210123.nii.gz'},\n",
       "  {'fold': 4,\n",
       "   'image': '/home/hemondlab/MONAI/flair/sub-ms1461_ses-20210624.nii.gz',\n",
       "   'label': '/home/hemondlab/MONAI/flair/labels/sub-ms1461_ses-20210624.nii.gz'},\n",
       "  {'fold': 5,\n",
       "   'image': '/home/hemondlab/MONAI/flair/sub-ms1359_ses-20200709.nii.gz',\n",
       "   'label': '/home/hemondlab/MONAI/flair/labels/sub-ms1359_ses-20200709.nii.gz'},\n",
       "  {'fold': 6,\n",
       "   'image': '/home/hemondlab/MONAI/flair/sub-ms1360_ses-20170108.nii.gz',\n",
       "   'label': '/home/hemondlab/MONAI/flair/labels/sub-ms1360_ses-20170108.nii.gz'},\n",
       "  {'fold': 7,\n",
       "   'image': '/home/hemondlab/MONAI/flair/sub-ms1108_ses-20180110.nii.gz',\n",
       "   'label': '/home/hemondlab/MONAI/flair/labels/sub-ms1108_ses-20180110.nii.gz'},\n",
       "  {'fold': 8,\n",
       "   'image': '/home/hemondlab/MONAI/flair/sub-ms1367_ses-20171028.nii.gz',\n",
       "   'label': '/home/hemondlab/MONAI/flair/labels/sub-ms1367_ses-20171028.nii.gz'},\n",
       "  {'fold': 9,\n",
       "   'image': '/home/hemondlab/MONAI/flair/sub-ms1037_ses-20210508.nii.gz',\n",
       "   'label': '/home/hemondlab/MONAI/flair/labels/sub-ms1037_ses-20210508.nii.gz'},\n",
       "  {'fold': 0,\n",
       "   'image': '/home/hemondlab/MONAI/flair/sub-ms1031_ses-20191116.nii.gz',\n",
       "   'label': '/home/hemondlab/MONAI/flair/labels/sub-ms1031_ses-20191116.nii.gz'},\n",
       "  {'fold': 1,\n",
       "   'image': '/home/hemondlab/MONAI/flair/sub-ms1071_ses-20161201.nii.gz',\n",
       "   'label': '/home/hemondlab/MONAI/flair/labels/sub-ms1071_ses-20161201.nii.gz'},\n",
       "  {'fold': 2,\n",
       "   'image': '/home/hemondlab/MONAI/flair/sub-ms1332_ses-20200610.nii.gz',\n",
       "   'label': '/home/hemondlab/MONAI/flair/labels/sub-ms1332_ses-20200610.nii.gz'},\n",
       "  {'fold': 3,\n",
       "   'image': '/home/hemondlab/MONAI/flair/sub-ms1287_ses-20200515.nii.gz',\n",
       "   'label': '/home/hemondlab/MONAI/flair/labels/sub-ms1287_ses-20200515.nii.gz'},\n",
       "  {'fold': 4,\n",
       "   'image': '/home/hemondlab/MONAI/flair/sub-ms1473_ses-20170629.nii.gz',\n",
       "   'label': '/home/hemondlab/MONAI/flair/labels/sub-ms1473_ses-20170629.nii.gz'},\n",
       "  {'fold': 5,\n",
       "   'image': '/home/hemondlab/MONAI/flair/sub-ms1027_ses-20170127.nii.gz',\n",
       "   'label': '/home/hemondlab/MONAI/flair/labels/sub-ms1027_ses-20170127.nii.gz'},\n",
       "  {'fold': 6,\n",
       "   'image': '/home/hemondlab/MONAI/flair/sub-ms1062_ses-20180522.nii.gz',\n",
       "   'label': '/home/hemondlab/MONAI/flair/labels/sub-ms1062_ses-20180522.nii.gz'},\n",
       "  {'fold': 7,\n",
       "   'image': '/home/hemondlab/MONAI/flair/sub-ms1290_ses-20170702.nii.gz',\n",
       "   'label': '/home/hemondlab/MONAI/flair/labels/sub-ms1290_ses-20170702.nii.gz'},\n",
       "  {'fold': 8,\n",
       "   'image': '/home/hemondlab/MONAI/flair/sub-ms1188_ses-20200720.nii.gz',\n",
       "   'label': '/home/hemondlab/MONAI/flair/labels/sub-ms1188_ses-20200720.nii.gz'},\n",
       "  {'fold': 9,\n",
       "   'image': '/home/hemondlab/MONAI/flair/sub-ms1350_ses-20180817.nii.gz',\n",
       "   'label': '/home/hemondlab/MONAI/flair/labels/sub-ms1350_ses-20180817.nii.gz'},\n",
       "  {'fold': 0,\n",
       "   'image': '/home/hemondlab/MONAI/flair/sub-ms1400_ses-20171003.nii.gz',\n",
       "   'label': '/home/hemondlab/MONAI/flair/labels/sub-ms1400_ses-20171003.nii.gz'},\n",
       "  {'fold': 1,\n",
       "   'image': '/home/hemondlab/MONAI/flair/sub-ms1098_ses-20171105.nii.gz',\n",
       "   'label': '/home/hemondlab/MONAI/flair/labels/sub-ms1098_ses-20171105.nii.gz'},\n",
       "  {'fold': 2,\n",
       "   'image': '/home/hemondlab/MONAI/flair/sub-ms1237_ses-20190619.nii.gz',\n",
       "   'label': '/home/hemondlab/MONAI/flair/labels/sub-ms1237_ses-20190619.nii.gz'},\n",
       "  {'fold': 3,\n",
       "   'image': '/home/hemondlab/MONAI/flair/sub-ms1285_ses-20161105.nii.gz',\n",
       "   'label': '/home/hemondlab/MONAI/flair/labels/sub-ms1285_ses-20161105.nii.gz'},\n",
       "  {'fold': 4,\n",
       "   'image': '/home/hemondlab/MONAI/flair/sub-ms1079_ses-20200927.nii.gz',\n",
       "   'label': '/home/hemondlab/MONAI/flair/labels/sub-ms1079_ses-20200927.nii.gz'},\n",
       "  {'fold': 5,\n",
       "   'image': '/home/hemondlab/MONAI/flair/sub-ms1343_ses-20170309.nii.gz',\n",
       "   'label': '/home/hemondlab/MONAI/flair/labels/sub-ms1343_ses-20170309.nii.gz'},\n",
       "  {'fold': 6,\n",
       "   'image': '/home/hemondlab/MONAI/flair/sub-ms1119_ses-20161010.nii.gz',\n",
       "   'label': '/home/hemondlab/MONAI/flair/labels/sub-ms1119_ses-20161010.nii.gz'},\n",
       "  {'fold': 7,\n",
       "   'image': '/home/hemondlab/MONAI/flair/sub-ms1192_ses-20190320.nii.gz',\n",
       "   'label': '/home/hemondlab/MONAI/flair/labels/sub-ms1192_ses-20190320.nii.gz'},\n",
       "  {'fold': 8,\n",
       "   'image': '/home/hemondlab/MONAI/flair/sub-ms1251_ses-20200507.nii.gz',\n",
       "   'label': '/home/hemondlab/MONAI/flair/labels/sub-ms1251_ses-20200507.nii.gz'},\n",
       "  {'fold': 9,\n",
       "   'image': '/home/hemondlab/MONAI/flair/sub-ms1404_ses-20180329.nii.gz',\n",
       "   'label': '/home/hemondlab/MONAI/flair/labels/sub-ms1404_ses-20180329.nii.gz'},\n",
       "  {'fold': 0,\n",
       "   'image': '/home/hemondlab/MONAI/flair/sub-ms1280_ses-20220317.nii.gz',\n",
       "   'label': '/home/hemondlab/MONAI/flair/labels/sub-ms1280_ses-20220317.nii.gz'},\n",
       "  {'fold': 1,\n",
       "   'image': '/home/hemondlab/MONAI/flair/sub-ms1486_ses-20210224.nii.gz',\n",
       "   'label': '/home/hemondlab/MONAI/flair/labels/sub-ms1486_ses-20210224.nii.gz'},\n",
       "  {'fold': 2,\n",
       "   'image': '/home/hemondlab/MONAI/flair/sub-ms1289_ses-20200821.nii.gz',\n",
       "   'label': '/home/hemondlab/MONAI/flair/labels/sub-ms1289_ses-20200821.nii.gz'},\n",
       "  {'fold': 3,\n",
       "   'image': '/home/hemondlab/MONAI/flair/sub-ms1186_ses-20170517.nii.gz',\n",
       "   'label': '/home/hemondlab/MONAI/flair/labels/sub-ms1186_ses-20170517.nii.gz'},\n",
       "  {'fold': 4,\n",
       "   'image': '/home/hemondlab/MONAI/flair/sub-ms1373_ses-20180717.nii.gz',\n",
       "   'label': '/home/hemondlab/MONAI/flair/labels/sub-ms1373_ses-20180717.nii.gz'},\n",
       "  {'fold': 5,\n",
       "   'image': '/home/hemondlab/MONAI/flair/sub-ms1347_ses-20190215.nii.gz',\n",
       "   'label': '/home/hemondlab/MONAI/flair/labels/sub-ms1347_ses-20190215.nii.gz'},\n",
       "  {'fold': 6,\n",
       "   'image': '/home/hemondlab/MONAI/flair/sub-ms1061_ses-20171230.nii.gz',\n",
       "   'label': '/home/hemondlab/MONAI/flair/labels/sub-ms1061_ses-20171230.nii.gz'},\n",
       "  {'fold': 7,\n",
       "   'image': '/home/hemondlab/MONAI/flair/sub-ms1402_ses-20191019.nii.gz',\n",
       "   'label': '/home/hemondlab/MONAI/flair/labels/sub-ms1402_ses-20191019.nii.gz'},\n",
       "  {'fold': 8,\n",
       "   'image': '/home/hemondlab/MONAI/flair/sub-ms1263_ses-20200809.nii.gz',\n",
       "   'label': '/home/hemondlab/MONAI/flair/labels/sub-ms1263_ses-20200809.nii.gz'},\n",
       "  {'fold': 9,\n",
       "   'image': '/home/hemondlab/MONAI/flair/sub-ms1334_ses-20171212.nii.gz',\n",
       "   'label': '/home/hemondlab/MONAI/flair/labels/sub-ms1334_ses-20171212.nii.gz'}],\n",
       " 'testing': [{'image': '/home/hemondlab/MONAI/flair/sub-ms1017_ses-20160921.nii.gz',\n",
       "   'label': '/home/hemondlab/MONAI/flair/labels/sub-ms1017_ses-20160921.nii.gz'},\n",
       "  {'image': '/home/hemondlab/MONAI/flair/sub-ms1196_ses-20161004.nii.gz',\n",
       "   'label': '/home/hemondlab/MONAI/flair/labels/sub-ms1196_ses-20161004.nii.gz'},\n",
       "  {'image': '/home/hemondlab/MONAI/flair/sub-ms1226_ses-20170428.nii.gz',\n",
       "   'label': '/home/hemondlab/MONAI/flair/labels/sub-ms1226_ses-20170428.nii.gz'},\n",
       "  {'image': '/home/hemondlab/MONAI/flair/sub-ms1346_ses-20201012.nii.gz',\n",
       "   'label': '/home/hemondlab/MONAI/flair/labels/sub-ms1346_ses-20201012.nii.gz'},\n",
       "  {'image': '/home/hemondlab/MONAI/flair/sub-ms1254_ses-20171226.nii.gz',\n",
       "   'label': '/home/hemondlab/MONAI/flair/labels/sub-ms1254_ses-20171226.nii.gz'},\n",
       "  {'image': '/home/hemondlab/MONAI/flair/sub-ms1464_ses-20191217.nii.gz',\n",
       "   'label': '/home/hemondlab/MONAI/flair/labels/sub-ms1464_ses-20191217.nii.gz'},\n",
       "  {'image': '/home/hemondlab/MONAI/flair/sub-ms1182_ses-20170131.nii.gz',\n",
       "   'label': '/home/hemondlab/MONAI/flair/labels/sub-ms1182_ses-20170131.nii.gz'},\n",
       "  {'image': '/home/hemondlab/MONAI/flair/sub-ms1345_ses-20201128.nii.gz',\n",
       "   'label': '/home/hemondlab/MONAI/flair/labels/sub-ms1345_ses-20201128.nii.gz'},\n",
       "  {'image': '/home/hemondlab/MONAI/flair/sub-ms1298_ses-20190506.nii.gz',\n",
       "   'label': '/home/hemondlab/MONAI/flair/labels/sub-ms1298_ses-20190506.nii.gz'},\n",
       "  {'image': '/home/hemondlab/MONAI/flair/sub-ms1154_ses-20170412.nii.gz',\n",
       "   'label': '/home/hemondlab/MONAI/flair/labels/sub-ms1154_ses-20170412.nii.gz'},\n",
       "  {'image': '/home/hemondlab/MONAI/flair/sub-ms1104_ses-20190418.nii.gz',\n",
       "   'label': '/home/hemondlab/MONAI/flair/labels/sub-ms1104_ses-20190418.nii.gz'},\n",
       "  {'image': '/home/hemondlab/MONAI/flair/sub-ms1354_ses-20210211.nii.gz',\n",
       "   'label': '/home/hemondlab/MONAI/flair/labels/sub-ms1354_ses-20210211.nii.gz'},\n",
       "  {'image': '/home/hemondlab/MONAI/flair/sub-ms1211_ses-20170117.nii.gz',\n",
       "   'label': '/home/hemondlab/MONAI/flair/labels/sub-ms1211_ses-20170117.nii.gz'},\n",
       "  {'image': '/home/hemondlab/MONAI/flair/sub-ms1384_ses-20170203.nii.gz',\n",
       "   'label': '/home/hemondlab/MONAI/flair/labels/sub-ms1384_ses-20170203.nii.gz'},\n",
       "  {'image': '/home/hemondlab/MONAI/flair/sub-ms1405_ses-20190407.nii.gz',\n",
       "   'label': '/home/hemondlab/MONAI/flair/labels/sub-ms1405_ses-20190407.nii.gz'},\n",
       "  {'image': '/home/hemondlab/MONAI/flair/sub-ms1317_ses-20201013.nii.gz',\n",
       "   'label': '/home/hemondlab/MONAI/flair/labels/sub-ms1317_ses-20201013.nii.gz'},\n",
       "  {'image': '/home/hemondlab/MONAI/flair/sub-ms1165_ses-20160910.nii.gz',\n",
       "   'label': '/home/hemondlab/MONAI/flair/labels/sub-ms1165_ses-20160910.nii.gz'},\n",
       "  {'image': '/home/hemondlab/MONAI/flair/sub-ms1293_ses-20161129.nii.gz',\n",
       "   'label': '/home/hemondlab/MONAI/flair/labels/sub-ms1293_ses-20161129.nii.gz'},\n",
       "  {'image': '/home/hemondlab/MONAI/flair/sub-ms1172_ses-20190214.nii.gz',\n",
       "   'label': '/home/hemondlab/MONAI/flair/labels/sub-ms1172_ses-20190214.nii.gz'},\n",
       "  {'image': '/home/hemondlab/MONAI/flair/sub-ms1422_ses-20200825.nii.gz',\n",
       "   'label': '/home/hemondlab/MONAI/flair/labels/sub-ms1422_ses-20200825.nii.gz'},\n",
       "  {'image': '/home/hemondlab/MONAI/flair/sub-ms1366_ses-20170306.nii.gz',\n",
       "   'label': '/home/hemondlab/MONAI/flair/labels/sub-ms1366_ses-20170306.nii.gz'},\n",
       "  {'image': '/home/hemondlab/MONAI/flair/sub-ms1352_ses-20171114.nii.gz',\n",
       "   'label': '/home/hemondlab/MONAI/flair/labels/sub-ms1352_ses-20171114.nii.gz'},\n",
       "  {'image': '/home/hemondlab/MONAI/flair/sub-ms1202_ses-20180718.nii.gz',\n",
       "   'label': '/home/hemondlab/MONAI/flair/labels/sub-ms1202_ses-20180718.nii.gz'},\n",
       "  {'image': '/home/hemondlab/MONAI/flair/sub-ms1348_ses-20181009.nii.gz',\n",
       "   'label': '/home/hemondlab/MONAI/flair/labels/sub-ms1348_ses-20181009.nii.gz'},\n",
       "  {'image': '/home/hemondlab/MONAI/flair/sub-ms1349_ses-20181203.nii.gz',\n",
       "   'label': '/home/hemondlab/MONAI/flair/labels/sub-ms1349_ses-20181203.nii.gz'},\n",
       "  {'image': '/home/hemondlab/MONAI/flair/sub-ms1312_ses-20180114.nii.gz',\n",
       "   'label': '/home/hemondlab/MONAI/flair/labels/sub-ms1312_ses-20180114.nii.gz'},\n",
       "  {'image': '/home/hemondlab/MONAI/flair/sub-ms1250_ses-20170623.nii.gz',\n",
       "   'label': '/home/hemondlab/MONAI/flair/labels/sub-ms1250_ses-20170623.nii.gz'},\n",
       "  {'image': '/home/hemondlab/MONAI/flair/sub-ms1307_ses-20210618.nii.gz',\n",
       "   'label': '/home/hemondlab/MONAI/flair/labels/sub-ms1307_ses-20210618.nii.gz'},\n",
       "  {'image': '/home/hemondlab/MONAI/flair/sub-ms1274_ses-20180504.nii.gz',\n",
       "   'label': '/home/hemondlab/MONAI/flair/labels/sub-ms1274_ses-20180504.nii.gz'}]}"
      ]
     },
     "execution_count": 13,
     "metadata": {},
     "output_type": "execute_result"
    }
   ],
   "source": [
    "datalist"
   ]
  },
  {
   "cell_type": "code",
   "execution_count": 14,
   "id": "79e79f57-8c40-4bf0-b588-d8bada8bc9b6",
   "metadata": {
    "tags": []
   },
   "outputs": [],
   "source": [
    "#work_dir = \"./cp_work_dir_20231215\"\n",
    "work_dir = \"/home/hemondlab/Dev/ms_mri/training_work_dirs/cp_work_dir4\"\n",
    "if not os.path.isdir(work_dir):\n",
    "    os.makedirs(work_dir)\n",
    "\n",
    "dataroot_dir = DATA_HOME\n",
    "if not os.path.isdir(dataroot_dir):\n",
    "    os.makedirs(dataroot_dir)\n",
    "\n",
    "datalist_file = os.path.join(work_dir, \"datalist.json\")\n",
    "with open(datalist_file, \"w\") as f:\n",
    "    json.dump(datalist, f)"
   ]
  },
  {
   "cell_type": "code",
   "execution_count": 15,
   "id": "7c65f5fa-6ec7-4974-b90f-a51cc70263e8",
   "metadata": {
    "tags": []
   },
   "outputs": [
    {
     "name": "stdout",
     "output_type": "stream",
     "text": [
      "2024-07-16 14:13:54,555 - INFO - AutoRunner using work directory /home/hemondlab/Dev/ms_mri/training_work_dirs/cp_work_dir4\n",
      "2024-07-16 14:13:54,557 - INFO - Found num_fold 10 based on the input datalist /home/hemondlab/Dev/ms_mri/training_work_dirs/cp_work_dir4/datalist.json.\n",
      "2024-07-16 14:13:54,558 - INFO - Setting num_fold 10 based on the input datalist /home/hemondlab/Dev/ms_mri/training_work_dirs/cp_work_dir4/datalist.json.\n",
      "2024-07-16 14:13:54,559 - INFO - Using user defined command running prefix , will override other settings\n"
     ]
    }
   ],
   "source": [
    "runner = AutoRunner(\n",
    "    work_dir=work_dir,\n",
    "    algos=[\"swinunetr\"],\n",
    "    input={\n",
    "        \"modality\": \"MRI\",\n",
    "        \"datalist\": datalist_file,\n",
    "        \"dataroot\": dataroot_dir,\n",
    "    },\n",
    ")"
   ]
  },
  {
   "cell_type": "code",
   "execution_count": 16,
   "id": "56e52e9b-1b75-4807-91cb-267d9f4f5a67",
   "metadata": {
    "tags": []
   },
   "outputs": [
    {
     "data": {
      "text/plain": [
       "<monai.apps.auto3dseg.auto_runner.AutoRunner at 0x77bcc31ed610>"
      ]
     },
     "execution_count": 16,
     "metadata": {},
     "output_type": "execute_result"
    }
   ],
   "source": [
    "max_epochs = 100\n",
    "\n",
    "train_param = {\n",
    "    \"num_epochs_per_validation\": 1,\n",
    "    #\"num_images_per_batch\": 2,\n",
    "    \"num_epochs\": max_epochs,\n",
    "    \"num_warmup_epochs\": 1,\n",
    "}\n",
    "runner.set_training_params(train_param)"
   ]
  },
  {
   "cell_type": "code",
   "execution_count": 17,
   "id": "c96c07cb-67cf-4c1e-86c2-9258f7cabde6",
   "metadata": {
    "tags": []
   },
   "outputs": [
    {
     "name": "stdout",
     "output_type": "stream",
     "text": [
      "2024-07-16 14:13:57,718 - INFO - Running data analysis...\n",
      "2024-07-16 14:13:57,719 - INFO - Found 1 GPUs for data analyzing!\n"
     ]
    },
    {
     "name": "stderr",
     "output_type": "stream",
     "text": [
      "100%|██████████| 120/120 [00:57<00:00,  2.10it/s]\n"
     ]
    },
    {
     "name": "stdout",
     "output_type": "stream",
     "text": [
      "2024-07-16 14:14:57,881 - INFO - Data spacing is not completely uniform. MONAI transforms may provide unexpected result\n",
      "2024-07-16 14:14:57,881 - INFO - Writing data stats to /home/hemondlab/Dev/ms_mri/training_work_dirs/cp_work_dir4/datastats.yaml.\n",
      "2024-07-16 14:14:58,051 - INFO - Writing by-case data stats to /home/hemondlab/Dev/ms_mri/training_work_dirs/cp_work_dir4/datastats_by_case.yaml, this may take a while.\n",
      "2024-07-16 14:15:00,309 - INFO - BundleGen from https://github.com/Project-MONAI/research-contributions/releases/download/algo_templates/e4cf5a1.tar.gz\n"
     ]
    },
    {
     "name": "stderr",
     "output_type": "stream",
     "text": [
      "algo_templates.tar.gz: 104kB [00:00, 492kB/s]                              "
     ]
    },
    {
     "name": "stdout",
     "output_type": "stream",
     "text": [
      "2024-07-16 14:15:00,527 - INFO - Downloaded: /tmp/tmprebu0v3i/algo_templates.tar.gz\n",
      "2024-07-16 14:15:00,527 - INFO - Expected md5 is None, skip md5 check for file /tmp/tmprebu0v3i/algo_templates.tar.gz.\n",
      "2024-07-16 14:15:00,528 - INFO - Writing into directory: /home/hemondlab/Dev/ms_mri/training_work_dirs/cp_work_dir4.\n"
     ]
    },
    {
     "name": "stderr",
     "output_type": "stream",
     "text": [
      "\n"
     ]
    },
    {
     "name": "stdout",
     "output_type": "stream",
     "text": [
      "2024-07-16 14:15:01,015 - INFO - Generated:/home/hemondlab/Dev/ms_mri/training_work_dirs/cp_work_dir4/swinunetr_0\n",
      "2024-07-16 14:15:01,338 - INFO - Generated:/home/hemondlab/Dev/ms_mri/training_work_dirs/cp_work_dir4/swinunetr_1\n",
      "2024-07-16 14:15:01,680 - INFO - Generated:/home/hemondlab/Dev/ms_mri/training_work_dirs/cp_work_dir4/swinunetr_2\n",
      "2024-07-16 14:15:02,207 - INFO - Generated:/home/hemondlab/Dev/ms_mri/training_work_dirs/cp_work_dir4/swinunetr_3\n",
      "2024-07-16 14:15:02,535 - INFO - Generated:/home/hemondlab/Dev/ms_mri/training_work_dirs/cp_work_dir4/swinunetr_4\n",
      "2024-07-16 14:15:03,039 - INFO - Generated:/home/hemondlab/Dev/ms_mri/training_work_dirs/cp_work_dir4/swinunetr_5\n",
      "2024-07-16 14:15:03,369 - INFO - Generated:/home/hemondlab/Dev/ms_mri/training_work_dirs/cp_work_dir4/swinunetr_6\n",
      "2024-07-16 14:15:03,703 - INFO - Generated:/home/hemondlab/Dev/ms_mri/training_work_dirs/cp_work_dir4/swinunetr_7\n",
      "2024-07-16 14:15:04,203 - INFO - Generated:/home/hemondlab/Dev/ms_mri/training_work_dirs/cp_work_dir4/swinunetr_8\n",
      "2024-07-16 14:15:04,536 - INFO - Generated:/home/hemondlab/Dev/ms_mri/training_work_dirs/cp_work_dir4/swinunetr_9\n",
      "2024-07-16 14:15:04,577 - INFO - ['python', '/home/hemondlab/Dev/ms_mri/training_work_dirs/cp_work_dir4/swinunetr_0/scripts/train.py', 'run', \"--config_file='/home/hemondlab/Dev/ms_mri/training_work_dirs/cp_work_dir4/swinunetr_0/configs/hyper_parameters.yaml,/home/hemondlab/Dev/ms_mri/training_work_dirs/cp_work_dir4/swinunetr_0/configs/network.yaml,/home/hemondlab/Dev/ms_mri/training_work_dirs/cp_work_dir4/swinunetr_0/configs/transforms_infer.yaml,/home/hemondlab/Dev/ms_mri/training_work_dirs/cp_work_dir4/swinunetr_0/configs/transforms_train.yaml,/home/hemondlab/Dev/ms_mri/training_work_dirs/cp_work_dir4/swinunetr_0/configs/transforms_validate.yaml'\", '--num_epochs_per_validation=1', '--num_epochs=100', '--num_warmup_epochs=1']\n",
      "2024-07-16 14:15:09,826 - INFO - Downloaded: /home/hemondlab/Dev/ms_mri/training_work_dirs/cp_work_dir4/swinunetr_0/pretrained_model/swin_unetr.base_5000ep_f48_lr2e-4_pretrained.pt\n",
      "2024-07-16 14:15:09,826 - INFO - Expected md5 is None, skip md5 check for file /home/hemondlab/Dev/ms_mri/training_work_dirs/cp_work_dir4/swinunetr_0/pretrained_model/swin_unetr.base_5000ep_f48_lr2e-4_pretrained.pt.\n"
     ]
    },
    {
     "name": "stderr",
     "output_type": "stream",
     "text": [
      "2024/07/16 14:15:09 INFO mlflow.tracking.fluent: Experiment with name 'Auto3DSeg' does not exist. Creating a new experiment.\n",
      "swinunetr_0 - training ...:   0%|          | 0/100 [00:21<?, ?round/s]\n",
      "Traceback (most recent call last):\n",
      "  File \"/home/hemondlab/Dev/ms_mri/training_work_dirs/cp_work_dir4/swinunetr_0/scripts/train.py\", line 850, in <module>\n",
      "    fire.Fire()\n",
      "  File \"/home/hemondlab/.virtualenvs/monai/lib/python3.12/site-packages/fire/core.py\", line 143, in Fire\n",
      "    component_trace = _Fire(component, args, parsed_flag_args, context, name)\n",
      "                      ^^^^^^^^^^^^^^^^^^^^^^^^^^^^^^^^^^^^^^^^^^^^^^^^^^^^^^^\n",
      "  File \"/home/hemondlab/.virtualenvs/monai/lib/python3.12/site-packages/fire/core.py\", line 477, in _Fire\n",
      "    component, remaining_args = _CallAndUpdateTrace(\n",
      "                                ^^^^^^^^^^^^^^^^^^^^\n",
      "  File \"/home/hemondlab/.virtualenvs/monai/lib/python3.12/site-packages/fire/core.py\", line 693, in _CallAndUpdateTrace\n",
      "    component = fn(*varargs, **kwargs)\n",
      "                ^^^^^^^^^^^^^^^^^^^^^^\n",
      "  File \"/home/hemondlab/Dev/ms_mri/training_work_dirs/cp_work_dir4/swinunetr_0/scripts/train.py\", line 502, in run\n",
      "    scaler.scale(loss).backward()\n",
      "  File \"/home/hemondlab/.virtualenvs/monai/lib/python3.12/site-packages/torch/_tensor.py\", line 525, in backward\n",
      "    torch.autograd.backward(\n",
      "  File \"/home/hemondlab/.virtualenvs/monai/lib/python3.12/site-packages/torch/autograd/__init__.py\", line 267, in backward\n",
      "    _engine_run_backward(\n",
      "  File \"/home/hemondlab/.virtualenvs/monai/lib/python3.12/site-packages/torch/autograd/graph.py\", line 744, in _engine_run_backward\n",
      "    return Variable._execution_engine.run_backward(  # Calls into the C++ engine to run the backward pass\n",
      "           ^^^^^^^^^^^^^^^^^^^^^^^^^^^^^^^^^^^^^^^^^^^^^^^^^^^^^^^^^^^^^^^^^^^^^^^^^^^^^^^^^^^^^^^^^^^^^^\n",
      "torch.cuda.OutOfMemoryError: CUDA out of memory. Tried to allocate 1.14 GiB. GPU \n"
     ]
    },
    {
     "ename": "CalledProcessError",
     "evalue": "Command '['python', '/home/hemondlab/Dev/ms_mri/training_work_dirs/cp_work_dir4/swinunetr_0/scripts/train.py', 'run', \"--config_file='/home/hemondlab/Dev/ms_mri/training_work_dirs/cp_work_dir4/swinunetr_0/configs/hyper_parameters.yaml,/home/hemondlab/Dev/ms_mri/training_work_dirs/cp_work_dir4/swinunetr_0/configs/network.yaml,/home/hemondlab/Dev/ms_mri/training_work_dirs/cp_work_dir4/swinunetr_0/configs/transforms_infer.yaml,/home/hemondlab/Dev/ms_mri/training_work_dirs/cp_work_dir4/swinunetr_0/configs/transforms_train.yaml,/home/hemondlab/Dev/ms_mri/training_work_dirs/cp_work_dir4/swinunetr_0/configs/transforms_validate.yaml'\", '--num_epochs_per_validation=1', '--num_epochs=100', '--num_warmup_epochs=1']' returned non-zero exit status 1.",
     "output_type": "error",
     "traceback": [
      "\u001b[0;31m---------------------------------------------------------------------------\u001b[0m",
      "\u001b[0;31mCalledProcessError\u001b[0m                        Traceback (most recent call last)",
      "Cell \u001b[0;32mIn[17], line 1\u001b[0m\n\u001b[0;32m----> 1\u001b[0m \u001b[43mrunner\u001b[49m\u001b[38;5;241;43m.\u001b[39;49m\u001b[43mrun\u001b[49m\u001b[43m(\u001b[49m\u001b[43m)\u001b[49m\n",
      "File \u001b[0;32m~/.virtualenvs/monai/lib/python3.12/site-packages/monai/apps/auto3dseg/auto_runner.py:878\u001b[0m, in \u001b[0;36mAutoRunner.run\u001b[0;34m(self)\u001b[0m\n\u001b[1;32m    876\u001b[0m \u001b[38;5;28;01mif\u001b[39;00m \u001b[38;5;28mlen\u001b[39m(history) \u001b[38;5;241m>\u001b[39m \u001b[38;5;241m0\u001b[39m:\n\u001b[1;32m    877\u001b[0m     \u001b[38;5;28;01mif\u001b[39;00m \u001b[38;5;129;01mnot\u001b[39;00m \u001b[38;5;28mself\u001b[39m\u001b[38;5;241m.\u001b[39mhpo:\n\u001b[0;32m--> 878\u001b[0m         \u001b[38;5;28;43mself\u001b[39;49m\u001b[38;5;241;43m.\u001b[39;49m\u001b[43m_train_algo_in_sequence\u001b[49m\u001b[43m(\u001b[49m\u001b[43mhistory\u001b[49m\u001b[43m)\u001b[49m\n\u001b[1;32m    879\u001b[0m     \u001b[38;5;28;01melse\u001b[39;00m:\n\u001b[1;32m    880\u001b[0m         \u001b[38;5;28mself\u001b[39m\u001b[38;5;241m.\u001b[39m_train_algo_in_nni(history)\n",
      "File \u001b[0;32m~/.virtualenvs/monai/lib/python3.12/site-packages/monai/apps/auto3dseg/auto_runner.py:728\u001b[0m, in \u001b[0;36mAutoRunner._train_algo_in_sequence\u001b[0;34m(self, history)\u001b[0m\n\u001b[1;32m    726\u001b[0m algo \u001b[38;5;241m=\u001b[39m algo_dict[AlgoKeys\u001b[38;5;241m.\u001b[39mALGO]\n\u001b[1;32m    727\u001b[0m \u001b[38;5;28;01mif\u001b[39;00m has_option(algo\u001b[38;5;241m.\u001b[39mtrain, \u001b[38;5;124m\"\u001b[39m\u001b[38;5;124mdevice_setting\u001b[39m\u001b[38;5;124m\"\u001b[39m):\n\u001b[0;32m--> 728\u001b[0m     \u001b[43malgo\u001b[49m\u001b[38;5;241;43m.\u001b[39;49m\u001b[43mtrain\u001b[49m\u001b[43m(\u001b[49m\u001b[38;5;28;43mself\u001b[39;49m\u001b[38;5;241;43m.\u001b[39;49m\u001b[43mtrain_params\u001b[49m\u001b[43m,\u001b[49m\u001b[43m \u001b[49m\u001b[38;5;28;43mself\u001b[39;49m\u001b[38;5;241;43m.\u001b[39;49m\u001b[43mdevice_setting\u001b[49m\u001b[43m)\u001b[49m\n\u001b[1;32m    729\u001b[0m \u001b[38;5;28;01melse\u001b[39;00m:\n\u001b[1;32m    730\u001b[0m     algo\u001b[38;5;241m.\u001b[39mtrain(\u001b[38;5;28mself\u001b[39m\u001b[38;5;241m.\u001b[39mtrain_params)\n",
      "File \u001b[0;32m~/.virtualenvs/monai/lib/python3.12/site-packages/monai/apps/auto3dseg/bundle_gen.py:300\u001b[0m, in \u001b[0;36mBundleAlgo.train\u001b[0;34m(self, train_params, device_setting)\u001b[0m\n\u001b[1;32m    297\u001b[0m     train_params\u001b[38;5;241m.\u001b[39mpop(\u001b[38;5;124m\"\u001b[39m\u001b[38;5;124mCUDA_VISIBLE_DEVICES\u001b[39m\u001b[38;5;124m\"\u001b[39m)\n\u001b[1;32m    299\u001b[0m cmd, _unused_return \u001b[38;5;241m=\u001b[39m \u001b[38;5;28mself\u001b[39m\u001b[38;5;241m.\u001b[39m_create_cmd(train_params)\n\u001b[0;32m--> 300\u001b[0m \u001b[38;5;28;01mreturn\u001b[39;00m \u001b[38;5;28;43mself\u001b[39;49m\u001b[38;5;241;43m.\u001b[39;49m\u001b[43m_run_cmd\u001b[49m\u001b[43m(\u001b[49m\u001b[43mcmd\u001b[49m\u001b[43m)\u001b[49m\n",
      "File \u001b[0;32m~/.virtualenvs/monai/lib/python3.12/site-packages/monai/apps/auto3dseg/bundle_gen.py:277\u001b[0m, in \u001b[0;36mBundleAlgo._run_cmd\u001b[0;34m(self, cmd, devices_info)\u001b[0m\n\u001b[1;32m    273\u001b[0m     \u001b[38;5;28;01mreturn\u001b[39;00m _run_cmd_torchrun(\n\u001b[1;32m    274\u001b[0m         cmd, nnodes\u001b[38;5;241m=\u001b[39m\u001b[38;5;241m1\u001b[39m, nproc_per_node\u001b[38;5;241m=\u001b[39m\u001b[38;5;28mself\u001b[39m\u001b[38;5;241m.\u001b[39mdevice_setting[\u001b[38;5;124m\"\u001b[39m\u001b[38;5;124mn_devices\u001b[39m\u001b[38;5;124m\"\u001b[39m], env\u001b[38;5;241m=\u001b[39mps_environ, check\u001b[38;5;241m=\u001b[39m\u001b[38;5;28;01mTrue\u001b[39;00m\n\u001b[1;32m    275\u001b[0m     )\n\u001b[1;32m    276\u001b[0m \u001b[38;5;28;01melse\u001b[39;00m:\n\u001b[0;32m--> 277\u001b[0m     \u001b[38;5;28;01mreturn\u001b[39;00m \u001b[43mrun_cmd\u001b[49m\u001b[43m(\u001b[49m\u001b[43mcmd\u001b[49m\u001b[38;5;241;43m.\u001b[39;49m\u001b[43msplit\u001b[49m\u001b[43m(\u001b[49m\u001b[43m)\u001b[49m\u001b[43m,\u001b[49m\u001b[43m \u001b[49m\u001b[43mrun_cmd_verbose\u001b[49m\u001b[38;5;241;43m=\u001b[39;49m\u001b[38;5;28;43;01mTrue\u001b[39;49;00m\u001b[43m,\u001b[49m\u001b[43m \u001b[49m\u001b[43menv\u001b[49m\u001b[38;5;241;43m=\u001b[39;49m\u001b[43mps_environ\u001b[49m\u001b[43m,\u001b[49m\u001b[43m \u001b[49m\u001b[43mcheck\u001b[49m\u001b[38;5;241;43m=\u001b[39;49m\u001b[38;5;28;43;01mTrue\u001b[39;49;00m\u001b[43m)\u001b[49m\n",
      "File \u001b[0;32m~/.virtualenvs/monai/lib/python3.12/site-packages/monai/utils/misc.py:873\u001b[0m, in \u001b[0;36mrun_cmd\u001b[0;34m(cmd_list, **kwargs)\u001b[0m\n\u001b[1;32m    871\u001b[0m     monai\u001b[38;5;241m.\u001b[39mapps\u001b[38;5;241m.\u001b[39mutils\u001b[38;5;241m.\u001b[39mget_logger(\u001b[38;5;124m\"\u001b[39m\u001b[38;5;124mrun_cmd\u001b[39m\u001b[38;5;124m\"\u001b[39m)\u001b[38;5;241m.\u001b[39minfo(\u001b[38;5;124mf\u001b[39m\u001b[38;5;124m\"\u001b[39m\u001b[38;5;132;01m{\u001b[39;00mcmd_list\u001b[38;5;132;01m}\u001b[39;00m\u001b[38;5;124m\"\u001b[39m)\n\u001b[1;32m    872\u001b[0m \u001b[38;5;28;01mtry\u001b[39;00m:\n\u001b[0;32m--> 873\u001b[0m     \u001b[38;5;28;01mreturn\u001b[39;00m \u001b[43msubprocess\u001b[49m\u001b[38;5;241;43m.\u001b[39;49m\u001b[43mrun\u001b[49m\u001b[43m(\u001b[49m\u001b[43mcmd_list\u001b[49m\u001b[43m,\u001b[49m\u001b[43m \u001b[49m\u001b[38;5;241;43m*\u001b[39;49m\u001b[38;5;241;43m*\u001b[39;49m\u001b[43mkwargs\u001b[49m\u001b[43m)\u001b[49m\n\u001b[1;32m    874\u001b[0m \u001b[38;5;28;01mexcept\u001b[39;00m subprocess\u001b[38;5;241m.\u001b[39mCalledProcessError \u001b[38;5;28;01mas\u001b[39;00m e:\n\u001b[1;32m    875\u001b[0m     \u001b[38;5;28;01mif\u001b[39;00m \u001b[38;5;129;01mnot\u001b[39;00m debug:\n",
      "File \u001b[0;32m~/.asdf/installs/python/3.12.4/lib/python3.12/subprocess.py:571\u001b[0m, in \u001b[0;36mrun\u001b[0;34m(input, capture_output, timeout, check, *popenargs, **kwargs)\u001b[0m\n\u001b[1;32m    569\u001b[0m     retcode \u001b[38;5;241m=\u001b[39m process\u001b[38;5;241m.\u001b[39mpoll()\n\u001b[1;32m    570\u001b[0m     \u001b[38;5;28;01mif\u001b[39;00m check \u001b[38;5;129;01mand\u001b[39;00m retcode:\n\u001b[0;32m--> 571\u001b[0m         \u001b[38;5;28;01mraise\u001b[39;00m CalledProcessError(retcode, process\u001b[38;5;241m.\u001b[39margs,\n\u001b[1;32m    572\u001b[0m                                  output\u001b[38;5;241m=\u001b[39mstdout, stderr\u001b[38;5;241m=\u001b[39mstderr)\n\u001b[1;32m    573\u001b[0m \u001b[38;5;28;01mreturn\u001b[39;00m CompletedProcess(process\u001b[38;5;241m.\u001b[39margs, retcode, stdout, stderr)\n",
      "\u001b[0;31mCalledProcessError\u001b[0m: Command '['python', '/home/hemondlab/Dev/ms_mri/training_work_dirs/cp_work_dir4/swinunetr_0/scripts/train.py', 'run', \"--config_file='/home/hemondlab/Dev/ms_mri/training_work_dirs/cp_work_dir4/swinunetr_0/configs/hyper_parameters.yaml,/home/hemondlab/Dev/ms_mri/training_work_dirs/cp_work_dir4/swinunetr_0/configs/network.yaml,/home/hemondlab/Dev/ms_mri/training_work_dirs/cp_work_dir4/swinunetr_0/configs/transforms_infer.yaml,/home/hemondlab/Dev/ms_mri/training_work_dirs/cp_work_dir4/swinunetr_0/configs/transforms_train.yaml,/home/hemondlab/Dev/ms_mri/training_work_dirs/cp_work_dir4/swinunetr_0/configs/transforms_validate.yaml'\", '--num_epochs_per_validation=1', '--num_epochs=100', '--num_warmup_epochs=1']' returned non-zero exit status 1."
     ]
    }
   ],
   "source": [
    "runner.run()"
   ]
  },
  {
   "cell_type": "code",
   "execution_count": null,
   "id": "92a01f1e",
   "metadata": {},
   "outputs": [],
   "source": [
    "import torch\n",
    "print(torch.cuda.memory_summary())\n",
    "x = torch.randn(1024**3, device='cuda')\n",
    "print(torch.cuda.memory_summary())"
   ]
  }
 ],
 "metadata": {
  "kernelspec": {
   "display_name": "Python 3 (ipykernel)",
   "language": "python",
   "name": "python3"
  },
  "language_info": {
   "codemirror_mode": {
    "name": "ipython",
    "version": 3
   },
   "file_extension": ".py",
   "mimetype": "text/x-python",
   "name": "python",
   "nbconvert_exporter": "python",
   "pygments_lexer": "ipython3",
   "version": "3.12.4"
  }
 },
 "nbformat": 4,
 "nbformat_minor": 5
}
