{
 "cells": [
  {
   "cell_type": "markdown",
   "id": "6b5ef0d0-d80a-49f6-93dd-50dd79b06345",
   "metadata": {
    "tags": []
   },
   "source": [
    "# Choroid Plexus Segmentation Training via Auto3DSeg"
   ]
  },
  {
   "cell_type": "code",
   "execution_count": 1,
   "id": "447dcb1b-ab8f-43b9-9439-d703a0881dc7",
   "metadata": {
    "tags": []
   },
   "outputs": [
    {
     "name": "stderr",
     "output_type": "stream",
     "text": [
      "/home/srs-9/.virtualenvs/monai/lib/python3.12/site-packages/ignite/handlers/checkpoint.py:17: DeprecationWarning: `TorchScript` support for functional optimizers is deprecated and will be removed in a future PyTorch release. Consider using the `torch.compile` optimizer instead.\n",
      "  from torch.distributed.optim import ZeroRedundancyOptimizer\n"
     ]
    },
    {
     "name": "stdout",
     "output_type": "stream",
     "text": [
      "MONAI version: 1.3.3rc1+7.g2e53df78\n",
      "Numpy version: 1.26.4\n",
      "Pytorch version: 2.4.0+cu121\n",
      "MONAI flags: HAS_EXT = False, USE_COMPILED = False, USE_META_DICT = False\n",
      "MONAI rev id: 2e53df78e580131046dc8db7f7638063db1f5045\n",
      "MONAI __file__: /home/<username>/MONAI/monai/__init__.py\n",
      "\n",
      "Optional dependencies:\n",
      "Pytorch Ignite version: 0.4.11\n",
      "ITK version: 5.4.0\n",
      "Nibabel version: 5.2.1\n",
      "scikit-image version: 0.24.0\n",
      "scipy version: 1.14.0\n",
      "Pillow version: 10.4.0\n",
      "Tensorboard version: 2.17.0\n",
      "gdown version: 5.2.0\n",
      "TorchVision version: 0.19.0+cu121\n",
      "tqdm version: 4.66.4\n",
      "lmdb version: 1.5.1\n",
      "psutil version: 6.0.0\n",
      "pandas version: 2.2.2\n",
      "einops version: 0.8.0\n",
      "transformers version: 4.43.3\n",
      "mlflow version: 2.15.0\n",
      "pynrrd version: 1.0.0\n",
      "clearml version: 1.16.2\n",
      "\n",
      "For details about installing the optional dependencies, please visit:\n",
      "    https://docs.monai.io/en/latest/installation.html#installing-the-recommended-dependencies\n",
      "\n"
     ]
    }
   ],
   "source": [
    "import os\n",
    "import json\n",
    "import nibabel as nib\n",
    "import nibabel as nibabel\n",
    "import numpy as np\n",
    "import matplotlib.pyplot as plt\n",
    "from pathlib import Path\n",
    "import glob\n",
    "import random\n",
    "from monai.apps.auto3dseg import AutoRunner\n",
    "from monai.config import print_config\n",
    "from mri_preproc.paths import hemond_data, init_paths\n",
    "import importlib\n",
    "from dataclasses import asdict\n",
    "\n",
    "print_config()"
   ]
  },
  {
   "cell_type": "code",
   "execution_count": 2,
   "id": "074f8700",
   "metadata": {},
   "outputs": [
    {
     "data": {
      "text/plain": [
       "<module 'mri_preproc.paths.hemond_data' from '/home/srs-9/Projects/ms_mri/mri_preproc/paths/hemond_data.py'>"
      ]
     },
     "execution_count": 2,
     "metadata": {},
     "output_type": "execute_result"
    }
   ],
   "source": [
    "init_paths.main()\n",
    "from mri_preproc.paths.init_paths import DATA_HOME\n",
    "\n",
    "importlib.reload(hemond_data)"
   ]
  },
  {
   "cell_type": "markdown",
   "id": "9757d709-c563-4082-a369-c08f07ed3fbf",
   "metadata": {},
   "source": [
    "## Prep the database\n",
    "\n",
    "Get the data and labels organized"
   ]
  },
  {
   "cell_type": "code",
   "execution_count": 3,
   "id": "e8009ba8",
   "metadata": {},
   "outputs": [
    {
     "name": "stderr",
     "output_type": "stream",
     "text": [
      "No scan exists for subject: ms1492 and session: 20190620\n"
     ]
    }
   ],
   "source": [
    "dataset0 = hemond_data.collect_proc_dataset(\"/mnt/t/Data/3Tpioneer_bids\")\n",
    "dataset_ref = hemond_data.scan_data_dir(\"/mnt/t/Data/MONAI/flair\")\n",
    "\n",
    "dataset = hemond_data.DataSet(\"DataSet\", hemond_data.Scan)\n",
    "for ref_data in dataset_ref:\n",
    "    scan = dataset0.find_scan(ref_data.subid, ref_data.date)\n",
    "    if scan:\n",
    "        dataset.append(asdict(scan))"
   ]
  },
  {
   "cell_type": "code",
   "execution_count": 4,
   "id": "752952f1",
   "metadata": {},
   "outputs": [
    {
     "name": "stdout",
     "output_type": "stream",
     "text": [
      "ms1022 20190807\n",
      "ms1053 20161218\n",
      "ms1128 20161029\n",
      "ms1491 20190606\n"
     ]
    }
   ],
   "source": [
    "for data in dataset:\n",
    "    if data.label is None:\n",
    "        print(data.subid, data.date)"
   ]
  },
  {
   "cell_type": "code",
   "execution_count": 55,
   "id": "919cf630",
   "metadata": {},
   "outputs": [
    {
     "data": {
      "text/plain": [
       "Scan(subid='ms1002', date='20200521', root=PosixPath('/mnt/t/Data/3Tpioneer_bids/sub-ms1002/ses-20200521'), image=PosixPath('/mnt/t/Data/3Tpioneer_bids/sub-ms1002/ses-20200521/proc/flair-brain-mni_reg.nii.gz'), label=PosixPath('/mnt/t/Data/3Tpioneer_bids/sub-ms1002/ses-20200521/proc/lesion_index.t3m20-mni_reg.nii.gz'), cond='tr')"
      ]
     },
     "execution_count": 55,
     "metadata": {},
     "output_type": "execute_result"
    }
   ],
   "source": [
    "dataset = dataset[1:]\n",
    "dataset = hemond_data.assign_conditions(dataset)\n",
    "dataset[0]"
   ]
  },
  {
   "cell_type": "code",
   "execution_count": 56,
   "id": "8ee1ba2f-45f9-4d11-b1b3-8af676954fe7",
   "metadata": {
    "tags": []
   },
   "outputs": [],
   "source": [
    "training_data = []\n",
    "test_data = []\n",
    "\n",
    "for scan in dataset:\n",
    "    if scan.cond == 'tr':\n",
    "        training_data.append({\"image\": scan.image, \"label\": scan.label})\n",
    "    elif scan.cond == 'ts':\n",
    "        test_data.append(scan.image)"
   ]
  },
  {
   "cell_type": "markdown",
   "id": "77c3d4ba-a4ee-46f9-bbef-73bea3f1e1f4",
   "metadata": {},
   "source": [
    "## Review"
   ]
  },
  {
   "cell_type": "code",
   "execution_count": 57,
   "id": "2fb4c306-d08a-4205-b701-49e362e87bdd",
   "metadata": {
    "tags": []
   },
   "outputs": [],
   "source": [
    "def display_slices(scan):\n",
    "    img1 = nibabel.load(scan.image)\n",
    "    img2 = nibabel.load(scan.label)\n",
    "\n",
    "    data1 = img1.get_fdata()[:,:,:]\n",
    "    data2 = img2.get_fdata()\n",
    "\n",
    "    slice_sums = np.sum(data2, axis=(0, 1))\n",
    "    \n",
    "    print(slice_sums)\n",
    "\n",
    "    max_slice_index = np.argmax(slice_sums)\n",
    "    print(f\"Max slice: {max_slice_index}\")\n",
    "\n",
    "    slice1 = data1[:, :, max_slice_index]\n",
    "    slice2 = data2[:, :, max_slice_index]    \n",
    "\n",
    "    plt.figure(figsize=(10, 5))\n",
    "    plt.subplot(1, 2, 1)\n",
    "    plt.imshow(slice1, cmap='gray')\n",
    "    plt.title(f\"Image 1 - Slice {max_slice_index}\")\n",
    "    plt.axis('off')\n",
    "\n",
    "    plt.subplot(1, 2, 2)\n",
    "    plt.imshow(slice2, cmap='gray')\n",
    "    plt.title(f\"Image 2 - Slice {max_slice_index}\")\n",
    "    plt.axis('off')\n",
    "    plt.show()\n"
   ]
  },
  {
   "cell_type": "code",
   "execution_count": 68,
   "id": "012dccd4",
   "metadata": {},
   "outputs": [],
   "source": [
    "img2 = nibabel.load(dataset[0].label)\n",
    "data2 = img2.get_fdata()"
   ]
  },
  {
   "cell_type": "code",
   "execution_count": 58,
   "id": "0a062717-42d3-4a72-aa99-f3e0cb3994e6",
   "metadata": {
    "tags": []
   },
   "outputs": [
    {
     "name": "stdout",
     "output_type": "stream",
     "text": [
      "[   0.    0.    0.    0.    0.    0.    0.    0.    0.    0.    0.    0.\n",
      "    0.    0.    0.    0.    0.    0.    0.    0.    0.    0.    0.    0.\n",
      "    0.    0.    0.    0.    0.    0.    0.    0.    0.    0.    0.    0.\n",
      "    0.    0.    0.    0.    0.    0.    0.    0.    0.    0.    0.    0.\n",
      "    0.    0.    0.    0.    0.    0.    0.    0.    0.    0.    0.    0.\n",
      "    0.    0.    0.    9.  103.  301.  493.  639.  799. 1013. 1266. 1698.\n",
      " 2215. 2525. 2657. 2678. 2665. 2557. 2417. 2424. 2433. 2356. 2420. 2546.\n",
      " 2676. 2814. 3003. 3171. 3216. 3262. 3163. 2866. 2395. 1655. 1333. 1340.\n",
      " 1183. 1002.  697.  230.   15.    0.   29.   68.   95.   84.   63.   52.\n",
      "   38.   12.    0.    0.    0.    0.    0.    0.    0.    0.    0.    0.\n",
      "    0.    0.    0.    0.    0.    0.    0.    0.    0.    0.    0.    0.\n",
      "    0.    0.    0.    0.    0.    0.    0.    0.    0.    0.    0.    0.\n",
      "    0.    0.    0.    0.    0.    0.    0.    0.    0.    0.    0.    0.\n",
      "    0.    0.    0.    0.    0.    0.    0.    0.    0.    0.    0.    0.\n",
      "    0.    0.    0.    0.    0.    0.    0.    0.    0.    0.    0.    0.\n",
      "    0.    0.]\n",
      "Max slice: 89\n"
     ]
    },
    {
     "data": {
      "image/png": "[encoded data removed]",
      "text/plain": [
       "<Figure size 1000x500 with 2 Axes>"
      ]
     },
     "metadata": {},
     "output_type": "display_data"
    }
   ],
   "source": [
    "display_slices(dataset[20])"
   ]
  },
  {
   "cell_type": "markdown",
   "id": "64151db1",
   "metadata": {},
   "source": [
    "In the original code, they include labels in the test data as well. Also they have a function that checks that there is nonzero number of voxels in the label"
   ]
  },
  {
   "cell_type": "code",
   "execution_count": 59,
   "id": "1126595e-b5f8-439b-ac08-cee9c5460e1f",
   "metadata": {
    "tags": []
   },
   "outputs": [
    {
     "name": "stdout",
     "output_type": "stream",
     "text": [
      "Train num total: 320\n",
      "Test num: 31\n"
     ]
    }
   ],
   "source": [
    "#? I don't know why they put labels for the test data. the brats segmentation code didn't.\n",
    "# train_data = [{'image': path + '/flair.nii.gz', 'label': path + '/flair_chp_mask_qced.nii.gz'} for path in train_exams]\n",
    "# test_data = [{'image': path + '/flair.nii.gz', 'label': path + '/flair_chp_mask_qced.nii.gz'} for path in test_exams]\n",
    "\n",
    "train_data = []\n",
    "test_data = []\n",
    "for scan in dataset:\n",
    "    if scan.cond == 'tr' and scan.has_label:\n",
    "        train_data.append({\"image\": str(scan.image), \"label\": str(scan.label)})\n",
    "    elif scan.cond == 'ts' and scan.has_label():\n",
    "        test_data.append({\"image\": str(scan.image), \"label\": str(scan.label)})\n",
    "\n",
    "\n",
    "print(f\"Train num total: {len(train_data)}\")\n",
    "print(f\"Test num: {len(test_data)}\")"
   ]
  },
  {
   "cell_type": "code",
   "execution_count": 60,
   "id": "5a9debf7-a89b-455b-a14d-826971e603d3",
   "metadata": {
    "tags": []
   },
   "outputs": [],
   "source": [
    "datalist = {\n",
    "    \"testing\": test_data,\n",
    "    \"training\": [{\"fold\": i % 4, \"image\": c[\"image\"], \"label\": c[\"label\"]} for i,c in enumerate(train_data)]\n",
    "}"
   ]
  },
  {
   "cell_type": "code",
   "execution_count": 61,
   "id": "20a28417-4acc-4721-a942-9fe46376753f",
   "metadata": {
    "tags": []
   },
   "outputs": [],
   "source": [
    "sub_datalist = dict({'training':[], 'testing':[]})\n",
    "sub_datalist[\"training\"] = datalist[\"training\"][:100]\n",
    "sub_datalist[\"testing\"] = datalist[\"testing\"][:29]\n",
    "datalist = sub_datalist"
   ]
  },
  {
   "cell_type": "code",
   "execution_count": 62,
   "id": "aaf29874",
   "metadata": {},
   "outputs": [
    {
     "data": {
      "text/plain": [
       "{'training': [{'fold': 0,\n",
       "   'image': '/mnt/t/Data/3Tpioneer_bids/sub-ms1002/ses-20200521/proc/flair-brain-mni_reg.nii.gz',\n",
       "   'label': '/mnt/t/Data/3Tpioneer_bids/sub-ms1002/ses-20200521/proc/lesion_index.t3m20-mni_reg.nii.gz'},\n",
       "  {'fold': 1,\n",
       "   'image': '/mnt/t/Data/3Tpioneer_bids/sub-ms1003/ses-20170329/proc/flair-brain-mni_reg.nii.gz',\n",
       "   'label': '/mnt/t/Data/3Tpioneer_bids/sub-ms1003/ses-20170329/proc/lesion_index.t3m20-mni_reg.nii.gz'},\n",
       "  {'fold': 2,\n",
       "   'image': '/mnt/t/Data/3Tpioneer_bids/sub-ms1004/ses-20190906/proc/flair-brain-mni_reg.nii.gz',\n",
       "   'label': '/mnt/t/Data/3Tpioneer_bids/sub-ms1004/ses-20190906/proc/lesion_index.t3m20-mni_reg.nii.gz'},\n",
       "  {'fold': 3,\n",
       "   'image': '/mnt/t/Data/3Tpioneer_bids/sub-ms1005/ses-20200708/proc/flair-brain-mni_reg.nii.gz',\n",
       "   'label': '/mnt/t/Data/3Tpioneer_bids/sub-ms1005/ses-20200708/proc/lesion_index.t3m20-mni_reg.nii.gz'},\n",
       "  {'fold': 0,\n",
       "   'image': '/mnt/t/Data/3Tpioneer_bids/sub-ms1007/ses-20190907/proc/flair-brain-mni_reg.nii.gz',\n",
       "   'label': '/mnt/t/Data/3Tpioneer_bids/sub-ms1007/ses-20190907/proc/lesion_index.t3m20-mni_reg.nii.gz'},\n",
       "  {'fold': 1,\n",
       "   'image': '/mnt/t/Data/3Tpioneer_bids/sub-ms1010/ses-20180208/proc/flair-brain-mni_reg.nii.gz',\n",
       "   'label': '/mnt/t/Data/3Tpioneer_bids/sub-ms1010/ses-20180208/proc/lesion_index.t3m20-mni_reg.nii.gz'},\n",
       "  {'fold': 2,\n",
       "   'image': '/mnt/t/Data/3Tpioneer_bids/sub-ms1011/ses-20180911/proc/flair-brain-mni_reg.nii.gz',\n",
       "   'label': '/mnt/t/Data/3Tpioneer_bids/sub-ms1011/ses-20180911/proc/lesion_index.t3m20-mni_reg.nii.gz'},\n",
       "  {'fold': 3,\n",
       "   'image': '/mnt/t/Data/3Tpioneer_bids/sub-ms1012/ses-20190903/proc/flair-brain-mni_reg.nii.gz',\n",
       "   'label': '/mnt/t/Data/3Tpioneer_bids/sub-ms1012/ses-20190903/proc/lesion_index.t3m20-mni_reg.nii.gz'},\n",
       "  {'fold': 0,\n",
       "   'image': '/mnt/t/Data/3Tpioneer_bids/sub-ms1013/ses-20201109/proc/flair-brain-mni_reg.nii.gz',\n",
       "   'label': '/mnt/t/Data/3Tpioneer_bids/sub-ms1013/ses-20201109/proc/lesion_index.t3m20-mni_reg.nii.gz'},\n",
       "  {'fold': 1,\n",
       "   'image': '/mnt/t/Data/3Tpioneer_bids/sub-ms1015/ses-20190326/proc/flair-brain-mni_reg.nii.gz',\n",
       "   'label': '/mnt/t/Data/3Tpioneer_bids/sub-ms1015/ses-20190326/proc/lesion_index.t3m20-mni_reg.nii.gz'},\n",
       "  {'fold': 2,\n",
       "   'image': '/mnt/t/Data/3Tpioneer_bids/sub-ms1016/ses-20200421/proc/flair-brain-mni_reg.nii.gz',\n",
       "   'label': '/mnt/t/Data/3Tpioneer_bids/sub-ms1016/ses-20200421/proc/lesion_index.t3m20-mni_reg.nii.gz'},\n",
       "  {'fold': 3,\n",
       "   'image': '/mnt/t/Data/3Tpioneer_bids/sub-ms1017/ses-20160921/proc/flair-brain-mni_reg.nii.gz',\n",
       "   'label': '/mnt/t/Data/3Tpioneer_bids/sub-ms1017/ses-20160921/proc/lesion_index.t3m20-mni_reg.nii.gz'},\n",
       "  {'fold': 0,\n",
       "   'image': '/mnt/t/Data/3Tpioneer_bids/sub-ms1019/ses-20190608/proc/flair-brain-mni_reg.nii.gz',\n",
       "   'label': '/mnt/t/Data/3Tpioneer_bids/sub-ms1019/ses-20190608/proc/lesion_index.t3m20-mni_reg.nii.gz'},\n",
       "  {'fold': 1,\n",
       "   'image': '/mnt/t/Data/3Tpioneer_bids/sub-ms1020/ses-20170927/proc/flair-brain-mni_reg.nii.gz',\n",
       "   'label': '/mnt/t/Data/3Tpioneer_bids/sub-ms1020/ses-20170927/proc/lesion_index.t3m20-mni_reg.nii.gz'},\n",
       "  {'fold': 2,\n",
       "   'image': '/mnt/t/Data/3Tpioneer_bids/sub-ms1021/ses-20180928/proc/flair-brain-mni_reg.nii.gz',\n",
       "   'label': '/mnt/t/Data/3Tpioneer_bids/sub-ms1021/ses-20180928/proc/lesion_index.t3m20-mni_reg.nii.gz'},\n",
       "  {'fold': 3,\n",
       "   'image': '/mnt/t/Data/3Tpioneer_bids/sub-ms1023/ses-20170813/proc/flair-brain-mni_reg.nii.gz',\n",
       "   'label': '/mnt/t/Data/3Tpioneer_bids/sub-ms1023/ses-20170813/proc/lesion_index.t3m20-mni_reg.nii.gz'},\n",
       "  {'fold': 0,\n",
       "   'image': '/mnt/t/Data/3Tpioneer_bids/sub-ms1024/ses-20170710/proc/flair-brain-mni_reg.nii.gz',\n",
       "   'label': '/mnt/t/Data/3Tpioneer_bids/sub-ms1024/ses-20170710/proc/lesion_index.t3m20-mni_reg.nii.gz'},\n",
       "  {'fold': 1,\n",
       "   'image': '/mnt/t/Data/3Tpioneer_bids/sub-ms1026/ses-20181011/proc/flair-brain-mni_reg.nii.gz',\n",
       "   'label': '/mnt/t/Data/3Tpioneer_bids/sub-ms1026/ses-20181011/proc/lesion_index.t3m20-mni_reg.nii.gz'},\n",
       "  {'fold': 2,\n",
       "   'image': '/mnt/t/Data/3Tpioneer_bids/sub-ms1027/ses-20170127/proc/flair-brain-mni_reg.nii.gz',\n",
       "   'label': '/mnt/t/Data/3Tpioneer_bids/sub-ms1027/ses-20170127/proc/lesion_index.t3m20-mni_reg.nii.gz'},\n",
       "  {'fold': 3,\n",
       "   'image': '/mnt/t/Data/3Tpioneer_bids/sub-ms1028/ses-20190608/proc/flair-brain-mni_reg.nii.gz',\n",
       "   'label': '/mnt/t/Data/3Tpioneer_bids/sub-ms1028/ses-20190608/proc/lesion_index.t3m20-mni_reg.nii.gz'},\n",
       "  {'fold': 0,\n",
       "   'image': '/mnt/t/Data/3Tpioneer_bids/sub-ms1029/ses-20170816/proc/flair-brain-mni_reg.nii.gz',\n",
       "   'label': '/mnt/t/Data/3Tpioneer_bids/sub-ms1029/ses-20170816/proc/lesion_index.t3m20-mni_reg.nii.gz'},\n",
       "  {'fold': 1,\n",
       "   'image': '/mnt/t/Data/3Tpioneer_bids/sub-ms1030/ses-20200304/proc/flair-brain-mni_reg.nii.gz',\n",
       "   'label': '/mnt/t/Data/3Tpioneer_bids/sub-ms1030/ses-20200304/proc/lesion_index.t3m20-mni_reg.nii.gz'},\n",
       "  {'fold': 2,\n",
       "   'image': '/mnt/t/Data/3Tpioneer_bids/sub-ms1031/ses-20191116/proc/flair-brain-mni_reg.nii.gz',\n",
       "   'label': '/mnt/t/Data/3Tpioneer_bids/sub-ms1031/ses-20191116/proc/lesion_index.t3m20-mni_reg.nii.gz'},\n",
       "  {'fold': 3,\n",
       "   'image': '/mnt/t/Data/3Tpioneer_bids/sub-ms1033/ses-20171117/proc/flair-brain-mni_reg.nii.gz',\n",
       "   'label': '/mnt/t/Data/3Tpioneer_bids/sub-ms1033/ses-20171117/proc/lesion_index.t3m20-mni_reg.nii.gz'},\n",
       "  {'fold': 0,\n",
       "   'image': '/mnt/t/Data/3Tpioneer_bids/sub-ms1036/ses-20191027/proc/flair-brain-mni_reg.nii.gz',\n",
       "   'label': '/mnt/t/Data/3Tpioneer_bids/sub-ms1036/ses-20191027/proc/lesion_index.t3m20-mni_reg.nii.gz'},\n",
       "  {'fold': 1,\n",
       "   'image': '/mnt/t/Data/3Tpioneer_bids/sub-ms1037/ses-20210508/proc/flair-brain-mni_reg.nii.gz',\n",
       "   'label': '/mnt/t/Data/3Tpioneer_bids/sub-ms1037/ses-20210508/proc/lesion_index.t3m20-mni_reg.nii.gz'},\n",
       "  {'fold': 2,\n",
       "   'image': '/mnt/t/Data/3Tpioneer_bids/sub-ms1039/ses-20171206/proc/flair-brain-mni_reg.nii.gz',\n",
       "   'label': '/mnt/t/Data/3Tpioneer_bids/sub-ms1039/ses-20171206/proc/lesion_index.t3m20-mni_reg.nii.gz'},\n",
       "  {'fold': 3,\n",
       "   'image': '/mnt/t/Data/3Tpioneer_bids/sub-ms1042/ses-20161013/proc/flair-brain-mni_reg.nii.gz',\n",
       "   'label': '/mnt/t/Data/3Tpioneer_bids/sub-ms1042/ses-20161013/proc/lesion_index.t3m20-mni_reg.nii.gz'},\n",
       "  {'fold': 0,\n",
       "   'image': '/mnt/t/Data/3Tpioneer_bids/sub-ms1044/ses-20170317/proc/flair-brain-mni_reg.nii.gz',\n",
       "   'label': '/mnt/t/Data/3Tpioneer_bids/sub-ms1044/ses-20170317/proc/lesion_index.t3m20-mni_reg.nii.gz'},\n",
       "  {'fold': 1,\n",
       "   'image': '/mnt/t/Data/3Tpioneer_bids/sub-ms1045/ses-20170418/proc/flair-brain-mni_reg.nii.gz',\n",
       "   'label': '/mnt/t/Data/3Tpioneer_bids/sub-ms1045/ses-20170418/proc/lesion_index.t3m20-mni_reg.nii.gz'},\n",
       "  {'fold': 2,\n",
       "   'image': '/mnt/t/Data/3Tpioneer_bids/sub-ms1046/ses-20181109/proc/flair-brain-mni_reg.nii.gz',\n",
       "   'label': '/mnt/t/Data/3Tpioneer_bids/sub-ms1046/ses-20181109/proc/lesion_index.t3m20-mni_reg.nii.gz'},\n",
       "  {'fold': 3,\n",
       "   'image': '/mnt/t/Data/3Tpioneer_bids/sub-ms1047/ses-20190506/proc/flair-brain-mni_reg.nii.gz',\n",
       "   'label': '/mnt/t/Data/3Tpioneer_bids/sub-ms1047/ses-20190506/proc/lesion_index.t3m20-mni_reg.nii.gz'},\n",
       "  {'fold': 0,\n",
       "   'image': '/mnt/t/Data/3Tpioneer_bids/sub-ms1049/ses-20170815/proc/flair-brain-mni_reg.nii.gz',\n",
       "   'label': '/mnt/t/Data/3Tpioneer_bids/sub-ms1049/ses-20170815/proc/lesion_index.t3m20-mni_reg.nii.gz'},\n",
       "  {'fold': 1,\n",
       "   'image': '/mnt/t/Data/3Tpioneer_bids/sub-ms1050/ses-20170624/proc/flair-brain-mni_reg.nii.gz',\n",
       "   'label': '/mnt/t/Data/3Tpioneer_bids/sub-ms1050/ses-20170624/proc/lesion_index.t3m20-mni_reg.nii.gz'},\n",
       "  {'fold': 2,\n",
       "   'image': '/mnt/t/Data/3Tpioneer_bids/sub-ms1052/ses-20180803/proc/flair-brain-mni_reg.nii.gz',\n",
       "   'label': '/mnt/t/Data/3Tpioneer_bids/sub-ms1052/ses-20180803/proc/lesion_index.t3m20-mni_reg.nii.gz'},\n",
       "  {'fold': 3,\n",
       "   'image': '/mnt/t/Data/3Tpioneer_bids/sub-ms1054/ses-20161006/proc/flair-brain-mni_reg.nii.gz',\n",
       "   'label': '/mnt/t/Data/3Tpioneer_bids/sub-ms1054/ses-20161006/proc/lesion_index.t3m20-mni_reg.nii.gz'},\n",
       "  {'fold': 0,\n",
       "   'image': '/mnt/t/Data/3Tpioneer_bids/sub-ms1057/ses-20181212/proc/flair-brain-mni_reg.nii.gz',\n",
       "   'label': '/mnt/t/Data/3Tpioneer_bids/sub-ms1057/ses-20181212/proc/lesion_index.t3m20-mni_reg.nii.gz'},\n",
       "  {'fold': 1,\n",
       "   'image': '/mnt/t/Data/3Tpioneer_bids/sub-ms1061/ses-20171230/proc/flair-brain-mni_reg.nii.gz',\n",
       "   'label': '/mnt/t/Data/3Tpioneer_bids/sub-ms1061/ses-20171230/proc/lesion_index.t3m20-mni_reg.nii.gz'},\n",
       "  {'fold': 2,\n",
       "   'image': '/mnt/t/Data/3Tpioneer_bids/sub-ms1062/ses-20180522/proc/flair-brain-mni_reg.nii.gz',\n",
       "   'label': '/mnt/t/Data/3Tpioneer_bids/sub-ms1062/ses-20180522/proc/lesion_index.t3m20-mni_reg.nii.gz'},\n",
       "  {'fold': 3,\n",
       "   'image': '/mnt/t/Data/3Tpioneer_bids/sub-ms1063/ses-20161017/proc/flair-brain-mni_reg.nii.gz',\n",
       "   'label': '/mnt/t/Data/3Tpioneer_bids/sub-ms1063/ses-20161017/proc/lesion_index.t3m20-mni_reg.nii.gz'},\n",
       "  {'fold': 0,\n",
       "   'image': '/mnt/t/Data/3Tpioneer_bids/sub-ms1064/ses-20170310/proc/flair-brain-mni_reg.nii.gz',\n",
       "   'label': '/mnt/t/Data/3Tpioneer_bids/sub-ms1064/ses-20170310/proc/lesion_index.t3m20-mni_reg.nii.gz'},\n",
       "  {'fold': 1,\n",
       "   'image': '/mnt/t/Data/3Tpioneer_bids/sub-ms1065/ses-20170127/proc/flair-brain-mni_reg.nii.gz',\n",
       "   'label': '/mnt/t/Data/3Tpioneer_bids/sub-ms1065/ses-20170127/proc/lesion_index.t3m20-mni_reg.nii.gz'},\n",
       "  {'fold': 2,\n",
       "   'image': '/mnt/t/Data/3Tpioneer_bids/sub-ms1066/ses-20180828/proc/flair-brain-mni_reg.nii.gz',\n",
       "   'label': '/mnt/t/Data/3Tpioneer_bids/sub-ms1066/ses-20180828/proc/lesion_index.t3m20-mni_reg.nii.gz'},\n",
       "  {'fold': 3,\n",
       "   'image': '/mnt/t/Data/3Tpioneer_bids/sub-ms1068/ses-20181220/proc/flair-brain-mni_reg.nii.gz',\n",
       "   'label': '/mnt/t/Data/3Tpioneer_bids/sub-ms1068/ses-20181220/proc/lesion_index.t3m20-mni_reg.nii.gz'},\n",
       "  {'fold': 0,\n",
       "   'image': '/mnt/t/Data/3Tpioneer_bids/sub-ms1069/ses-20220313/proc/flair-brain-mni_reg.nii.gz',\n",
       "   'label': '/mnt/t/Data/3Tpioneer_bids/sub-ms1069/ses-20220313/proc/lesion_index.t3m20-mni_reg.nii.gz'},\n",
       "  {'fold': 1,\n",
       "   'image': '/mnt/t/Data/3Tpioneer_bids/sub-ms1070/ses-20161025/proc/flair-brain-mni_reg.nii.gz',\n",
       "   'label': '/mnt/t/Data/3Tpioneer_bids/sub-ms1070/ses-20161025/proc/lesion_index.t3m20-mni_reg.nii.gz'},\n",
       "  {'fold': 2,\n",
       "   'image': '/mnt/t/Data/3Tpioneer_bids/sub-ms1071/ses-20161201/proc/flair-brain-mni_reg.nii.gz',\n",
       "   'label': '/mnt/t/Data/3Tpioneer_bids/sub-ms1071/ses-20161201/proc/lesion_index.t3m20-mni_reg.nii.gz'},\n",
       "  {'fold': 3,\n",
       "   'image': '/mnt/t/Data/3Tpioneer_bids/sub-ms1072/ses-20180615/proc/flair-brain-mni_reg.nii.gz',\n",
       "   'label': '/mnt/t/Data/3Tpioneer_bids/sub-ms1072/ses-20180615/proc/lesion_index.t3m20-mni_reg.nii.gz'},\n",
       "  {'fold': 0,\n",
       "   'image': '/mnt/t/Data/3Tpioneer_bids/sub-ms1076/ses-20170912/proc/flair-brain-mni_reg.nii.gz',\n",
       "   'label': '/mnt/t/Data/3Tpioneer_bids/sub-ms1076/ses-20170912/proc/lesion_index.t3m20-mni_reg.nii.gz'},\n",
       "  {'fold': 1,\n",
       "   'image': '/mnt/t/Data/3Tpioneer_bids/sub-ms1077/ses-20180522/proc/flair-brain-mni_reg.nii.gz',\n",
       "   'label': '/mnt/t/Data/3Tpioneer_bids/sub-ms1077/ses-20180522/proc/lesion_index.t3m20-mni_reg.nii.gz'},\n",
       "  {'fold': 2,\n",
       "   'image': '/mnt/t/Data/3Tpioneer_bids/sub-ms1078/ses-20180412/proc/flair-brain-mni_reg.nii.gz',\n",
       "   'label': '/mnt/t/Data/3Tpioneer_bids/sub-ms1078/ses-20180412/proc/lesion_index.t3m20-mni_reg.nii.gz'},\n",
       "  {'fold': 3,\n",
       "   'image': '/mnt/t/Data/3Tpioneer_bids/sub-ms1079/ses-20200927/proc/flair-brain-mni_reg.nii.gz',\n",
       "   'label': '/mnt/t/Data/3Tpioneer_bids/sub-ms1079/ses-20200927/proc/lesion_index.t3m20-mni_reg.nii.gz'},\n",
       "  {'fold': 0,\n",
       "   'image': '/mnt/t/Data/3Tpioneer_bids/sub-ms1080/ses-20180416/proc/flair-brain-mni_reg.nii.gz',\n",
       "   'label': '/mnt/t/Data/3Tpioneer_bids/sub-ms1080/ses-20180416/proc/lesion_index.t3m20-mni_reg.nii.gz'},\n",
       "  {'fold': 1,\n",
       "   'image': '/mnt/t/Data/3Tpioneer_bids/sub-ms1083/ses-20180227/proc/flair-brain-mni_reg.nii.gz',\n",
       "   'label': '/mnt/t/Data/3Tpioneer_bids/sub-ms1083/ses-20180227/proc/lesion_index.t3m20-mni_reg.nii.gz'},\n",
       "  {'fold': 2,\n",
       "   'image': '/mnt/t/Data/3Tpioneer_bids/sub-ms1087/ses-20200717/proc/flair-brain-mni_reg.nii.gz',\n",
       "   'label': '/mnt/t/Data/3Tpioneer_bids/sub-ms1087/ses-20200717/proc/lesion_index.t3m20-mni_reg.nii.gz'},\n",
       "  {'fold': 3,\n",
       "   'image': '/mnt/t/Data/3Tpioneer_bids/sub-ms1088/ses-20161112/proc/flair-brain-mni_reg.nii.gz',\n",
       "   'label': '/mnt/t/Data/3Tpioneer_bids/sub-ms1088/ses-20161112/proc/lesion_index.t3m20-mni_reg.nii.gz'},\n",
       "  {'fold': 0,\n",
       "   'image': '/mnt/t/Data/3Tpioneer_bids/sub-ms1089/ses-20210612/proc/flair-brain-mni_reg.nii.gz',\n",
       "   'label': '/mnt/t/Data/3Tpioneer_bids/sub-ms1089/ses-20210612/proc/lesion_index.t3m20-mni_reg.nii.gz'},\n",
       "  {'fold': 1,\n",
       "   'image': '/mnt/t/Data/3Tpioneer_bids/sub-ms1090/ses-20201206/proc/flair-brain-mni_reg.nii.gz',\n",
       "   'label': '/mnt/t/Data/3Tpioneer_bids/sub-ms1090/ses-20201206/proc/lesion_index.t3m20-mni_reg.nii.gz'},\n",
       "  {'fold': 2,\n",
       "   'image': '/mnt/t/Data/3Tpioneer_bids/sub-ms1093/ses-20171106/proc/flair-brain-mni_reg.nii.gz',\n",
       "   'label': '/mnt/t/Data/3Tpioneer_bids/sub-ms1093/ses-20171106/proc/lesion_index.t3m20-mni_reg.nii.gz'},\n",
       "  {'fold': 3,\n",
       "   'image': '/mnt/t/Data/3Tpioneer_bids/sub-ms1094/ses-20160902/proc/flair-brain-mni_reg.nii.gz',\n",
       "   'label': '/mnt/t/Data/3Tpioneer_bids/sub-ms1094/ses-20160902/proc/lesion_index.t3m20-mni_reg.nii.gz'},\n",
       "  {'fold': 0,\n",
       "   'image': '/mnt/t/Data/3Tpioneer_bids/sub-ms1097/ses-20200522/proc/flair-brain-mni_reg.nii.gz',\n",
       "   'label': '/mnt/t/Data/3Tpioneer_bids/sub-ms1097/ses-20200522/proc/lesion_index.t3m20-mni_reg.nii.gz'},\n",
       "  {'fold': 1,\n",
       "   'image': '/mnt/t/Data/3Tpioneer_bids/sub-ms1098/ses-20171105/proc/flair-brain-mni_reg.nii.gz',\n",
       "   'label': '/mnt/t/Data/3Tpioneer_bids/sub-ms1098/ses-20171105/proc/lesion_index.t3m20-mni_reg.nii.gz'},\n",
       "  {'fold': 2,\n",
       "   'image': '/mnt/t/Data/3Tpioneer_bids/sub-ms1100/ses-20180703/proc/flair-brain-mni_reg.nii.gz',\n",
       "   'label': '/mnt/t/Data/3Tpioneer_bids/sub-ms1100/ses-20180703/proc/lesion_index.t3m20-mni_reg.nii.gz'},\n",
       "  {'fold': 3,\n",
       "   'image': '/mnt/t/Data/3Tpioneer_bids/sub-ms1101/ses-20170827/proc/flair-brain-mni_reg.nii.gz',\n",
       "   'label': '/mnt/t/Data/3Tpioneer_bids/sub-ms1101/ses-20170827/proc/lesion_index.t3m20-mni_reg.nii.gz'},\n",
       "  {'fold': 0,\n",
       "   'image': '/mnt/t/Data/3Tpioneer_bids/sub-ms1102/ses-20190503/proc/flair-brain-mni_reg.nii.gz',\n",
       "   'label': '/mnt/t/Data/3Tpioneer_bids/sub-ms1102/ses-20190503/proc/lesion_index.t3m20-mni_reg.nii.gz'},\n",
       "  {'fold': 1,\n",
       "   'image': '/mnt/t/Data/3Tpioneer_bids/sub-ms1106/ses-20190420/proc/flair-brain-mni_reg.nii.gz',\n",
       "   'label': '/mnt/t/Data/3Tpioneer_bids/sub-ms1106/ses-20190420/proc/lesion_index.t3m20-mni_reg.nii.gz'},\n",
       "  {'fold': 2,\n",
       "   'image': '/mnt/t/Data/3Tpioneer_bids/sub-ms1107/ses-20170502/proc/flair-brain-mni_reg.nii.gz',\n",
       "   'label': '/mnt/t/Data/3Tpioneer_bids/sub-ms1107/ses-20170502/proc/lesion_index.t3m20-mni_reg.nii.gz'},\n",
       "  {'fold': 3,\n",
       "   'image': '/mnt/t/Data/3Tpioneer_bids/sub-ms1108/ses-20180110/proc/flair-brain-mni_reg.nii.gz',\n",
       "   'label': '/mnt/t/Data/3Tpioneer_bids/sub-ms1108/ses-20180110/proc/lesion_index.t3m20-mni_reg.nii.gz'},\n",
       "  {'fold': 0,\n",
       "   'image': '/mnt/t/Data/3Tpioneer_bids/sub-ms1109/ses-20180303/proc/flair-brain-mni_reg.nii.gz',\n",
       "   'label': '/mnt/t/Data/3Tpioneer_bids/sub-ms1109/ses-20180303/proc/lesion_index.t3m20-mni_reg.nii.gz'},\n",
       "  {'fold': 1,\n",
       "   'image': '/mnt/t/Data/3Tpioneer_bids/sub-ms1111/ses-20161211/proc/flair-brain-mni_reg.nii.gz',\n",
       "   'label': '/mnt/t/Data/3Tpioneer_bids/sub-ms1111/ses-20161211/proc/lesion_index.t3m20-mni_reg.nii.gz'},\n",
       "  {'fold': 2,\n",
       "   'image': '/mnt/t/Data/3Tpioneer_bids/sub-ms1112/ses-20190514/proc/flair-brain-mni_reg.nii.gz',\n",
       "   'label': '/mnt/t/Data/3Tpioneer_bids/sub-ms1112/ses-20190514/proc/lesion_index.t3m20-mni_reg.nii.gz'},\n",
       "  {'fold': 3,\n",
       "   'image': '/mnt/t/Data/3Tpioneer_bids/sub-ms1115/ses-20170107/proc/flair-brain-mni_reg.nii.gz',\n",
       "   'label': '/mnt/t/Data/3Tpioneer_bids/sub-ms1115/ses-20170107/proc/lesion_index.t3m20-mni_reg.nii.gz'},\n",
       "  {'fold': 0,\n",
       "   'image': '/mnt/t/Data/3Tpioneer_bids/sub-ms1116/ses-20200828/proc/flair-brain-mni_reg.nii.gz',\n",
       "   'label': '/mnt/t/Data/3Tpioneer_bids/sub-ms1116/ses-20200828/proc/lesion_index.t3m20-mni_reg.nii.gz'},\n",
       "  {'fold': 1,\n",
       "   'image': '/mnt/t/Data/3Tpioneer_bids/sub-ms1117/ses-20180924/proc/flair-brain-mni_reg.nii.gz',\n",
       "   'label': '/mnt/t/Data/3Tpioneer_bids/sub-ms1117/ses-20180924/proc/lesion_index.t3m20-mni_reg.nii.gz'},\n",
       "  {'fold': 2,\n",
       "   'image': '/mnt/t/Data/3Tpioneer_bids/sub-ms1118/ses-20181217/proc/flair-brain-mni_reg.nii.gz',\n",
       "   'label': '/mnt/t/Data/3Tpioneer_bids/sub-ms1118/ses-20181217/proc/lesion_index.t3m20-mni_reg.nii.gz'},\n",
       "  {'fold': 3,\n",
       "   'image': '/mnt/t/Data/3Tpioneer_bids/sub-ms1119/ses-20161010/proc/flair-brain-mni_reg.nii.gz',\n",
       "   'label': '/mnt/t/Data/3Tpioneer_bids/sub-ms1119/ses-20161010/proc/lesion_index.t3m20-mni_reg.nii.gz'},\n",
       "  {'fold': 0,\n",
       "   'image': '/mnt/t/Data/3Tpioneer_bids/sub-ms1121/ses-20170530/proc/flair-brain-mni_reg.nii.gz',\n",
       "   'label': '/mnt/t/Data/3Tpioneer_bids/sub-ms1121/ses-20170530/proc/lesion_index.t3m20-mni_reg.nii.gz'},\n",
       "  {'fold': 1,\n",
       "   'image': '/mnt/t/Data/3Tpioneer_bids/sub-ms1122/ses-20170427/proc/flair-brain-mni_reg.nii.gz',\n",
       "   'label': '/mnt/t/Data/3Tpioneer_bids/sub-ms1122/ses-20170427/proc/lesion_index.t3m20-mni_reg.nii.gz'},\n",
       "  {'fold': 2,\n",
       "   'image': '/mnt/t/Data/3Tpioneer_bids/sub-ms1124/ses-20160929/proc/flair-brain-mni_reg.nii.gz',\n",
       "   'label': '/mnt/t/Data/3Tpioneer_bids/sub-ms1124/ses-20160929/proc/lesion_index.t3m20-mni_reg.nii.gz'},\n",
       "  {'fold': 3,\n",
       "   'image': '/mnt/t/Data/3Tpioneer_bids/sub-ms1125/ses-20160919/proc/flair-brain-mni_reg.nii.gz',\n",
       "   'label': '/mnt/t/Data/3Tpioneer_bids/sub-ms1125/ses-20160919/proc/lesion_index.t3m20-mni_reg.nii.gz'},\n",
       "  {'fold': 0,\n",
       "   'image': '/mnt/t/Data/3Tpioneer_bids/sub-ms1126/ses-20170609/proc/flair-brain-mni_reg.nii.gz',\n",
       "   'label': '/mnt/t/Data/3Tpioneer_bids/sub-ms1126/ses-20170609/proc/lesion_index.t3m20-mni_reg.nii.gz'},\n",
       "  {'fold': 1,\n",
       "   'image': '/mnt/t/Data/3Tpioneer_bids/sub-ms1129/ses-20200120/proc/flair-brain-mni_reg.nii.gz',\n",
       "   'label': '/mnt/t/Data/3Tpioneer_bids/sub-ms1129/ses-20200120/proc/lesion_index.t3m20-mni_reg.nii.gz'},\n",
       "  {'fold': 2,\n",
       "   'image': '/mnt/t/Data/3Tpioneer_bids/sub-ms1131/ses-20161209/proc/flair-brain-mni_reg.nii.gz',\n",
       "   'label': '/mnt/t/Data/3Tpioneer_bids/sub-ms1131/ses-20161209/proc/lesion_index.t3m20-mni_reg.nii.gz'},\n",
       "  {'fold': 3,\n",
       "   'image': '/mnt/t/Data/3Tpioneer_bids/sub-ms1132/ses-20181117/proc/flair-brain-mni_reg.nii.gz',\n",
       "   'label': '/mnt/t/Data/3Tpioneer_bids/sub-ms1132/ses-20181117/proc/lesion_index.t3m20-mni_reg.nii.gz'},\n",
       "  {'fold': 0,\n",
       "   'image': '/mnt/t/Data/3Tpioneer_bids/sub-ms1133/ses-20170308/proc/flair-brain-mni_reg.nii.gz',\n",
       "   'label': '/mnt/t/Data/3Tpioneer_bids/sub-ms1133/ses-20170308/proc/lesion_index.t3m20-mni_reg.nii.gz'},\n",
       "  {'fold': 1,\n",
       "   'image': '/mnt/t/Data/3Tpioneer_bids/sub-ms1134/ses-20180103/proc/flair-brain-mni_reg.nii.gz',\n",
       "   'label': '/mnt/t/Data/3Tpioneer_bids/sub-ms1134/ses-20180103/proc/lesion_index.t3m20-mni_reg.nii.gz'},\n",
       "  {'fold': 2,\n",
       "   'image': '/mnt/t/Data/3Tpioneer_bids/sub-ms1135/ses-20170721/proc/flair-brain-mni_reg.nii.gz',\n",
       "   'label': '/mnt/t/Data/3Tpioneer_bids/sub-ms1135/ses-20170721/proc/lesion_index.t3m20-mni_reg.nii.gz'},\n",
       "  {'fold': 3,\n",
       "   'image': '/mnt/t/Data/3Tpioneer_bids/sub-ms1136/ses-20171109/proc/flair-brain-mni_reg.nii.gz',\n",
       "   'label': '/mnt/t/Data/3Tpioneer_bids/sub-ms1136/ses-20171109/proc/lesion_index.t3m20-mni_reg.nii.gz'},\n",
       "  {'fold': 0,\n",
       "   'image': '/mnt/t/Data/3Tpioneer_bids/sub-ms1138/ses-20170620/proc/flair-brain-mni_reg.nii.gz',\n",
       "   'label': '/mnt/t/Data/3Tpioneer_bids/sub-ms1138/ses-20170620/proc/lesion_index.t3m20-mni_reg.nii.gz'},\n",
       "  {'fold': 1,\n",
       "   'image': '/mnt/t/Data/3Tpioneer_bids/sub-ms1140/ses-20201020/proc/flair-brain-mni_reg.nii.gz',\n",
       "   'label': '/mnt/t/Data/3Tpioneer_bids/sub-ms1140/ses-20201020/proc/lesion_index.t3m20-mni_reg.nii.gz'},\n",
       "  {'fold': 2,\n",
       "   'image': '/mnt/t/Data/3Tpioneer_bids/sub-ms1141/ses-20200819/proc/flair-brain-mni_reg.nii.gz',\n",
       "   'label': '/mnt/t/Data/3Tpioneer_bids/sub-ms1141/ses-20200819/proc/lesion_index.t3m20-mni_reg.nii.gz'},\n",
       "  {'fold': 3,\n",
       "   'image': '/mnt/t/Data/3Tpioneer_bids/sub-ms1142/ses-20170715/proc/flair-brain-mni_reg.nii.gz',\n",
       "   'label': '/mnt/t/Data/3Tpioneer_bids/sub-ms1142/ses-20170715/proc/lesion_index.t3m20-mni_reg.nii.gz'},\n",
       "  {'fold': 0,\n",
       "   'image': '/mnt/t/Data/3Tpioneer_bids/sub-ms1143/ses-20190126/proc/flair-brain-mni_reg.nii.gz',\n",
       "   'label': '/mnt/t/Data/3Tpioneer_bids/sub-ms1143/ses-20190126/proc/lesion_index.t3m20-mni_reg.nii.gz'},\n",
       "  {'fold': 1,\n",
       "   'image': '/mnt/t/Data/3Tpioneer_bids/sub-ms1144/ses-20201002/proc/flair-brain-mni_reg.nii.gz',\n",
       "   'label': '/mnt/t/Data/3Tpioneer_bids/sub-ms1144/ses-20201002/proc/lesion_index.t3m20-mni_reg.nii.gz'},\n",
       "  {'fold': 2,\n",
       "   'image': '/mnt/t/Data/3Tpioneer_bids/sub-ms1145/ses-20191126/proc/flair-brain-mni_reg.nii.gz',\n",
       "   'label': '/mnt/t/Data/3Tpioneer_bids/sub-ms1145/ses-20191126/proc/lesion_index.t3m20-mni_reg.nii.gz'},\n",
       "  {'fold': 3,\n",
       "   'image': '/mnt/t/Data/3Tpioneer_bids/sub-ms1148/ses-20170618/proc/flair-brain-mni_reg.nii.gz',\n",
       "   'label': '/mnt/t/Data/3Tpioneer_bids/sub-ms1148/ses-20170618/proc/lesion_index.t3m20-mni_reg.nii.gz'},\n",
       "  {'fold': 0,\n",
       "   'image': '/mnt/t/Data/3Tpioneer_bids/sub-ms1150/ses-20170724/proc/flair-brain-mni_reg.nii.gz',\n",
       "   'label': '/mnt/t/Data/3Tpioneer_bids/sub-ms1150/ses-20170724/proc/lesion_index.t3m20-mni_reg.nii.gz'},\n",
       "  {'fold': 1,\n",
       "   'image': '/mnt/t/Data/3Tpioneer_bids/sub-ms1152/ses-20170529/proc/flair-brain-mni_reg.nii.gz',\n",
       "   'label': '/mnt/t/Data/3Tpioneer_bids/sub-ms1152/ses-20170529/proc/lesion_index.t3m20-mni_reg.nii.gz'},\n",
       "  {'fold': 2,\n",
       "   'image': '/mnt/t/Data/3Tpioneer_bids/sub-ms1153/ses-20181010/proc/flair-brain-mni_reg.nii.gz',\n",
       "   'label': '/mnt/t/Data/3Tpioneer_bids/sub-ms1153/ses-20181010/proc/lesion_index.t3m20-mni_reg.nii.gz'},\n",
       "  {'fold': 3,\n",
       "   'image': '/mnt/t/Data/3Tpioneer_bids/sub-ms1154/ses-20170412/proc/flair-brain-mni_reg.nii.gz',\n",
       "   'label': '/mnt/t/Data/3Tpioneer_bids/sub-ms1154/ses-20170412/proc/lesion_index.t3m20-mni_reg.nii.gz'}],\n",
       " 'testing': [{'image': '/mnt/t/Data/3Tpioneer_bids/sub-ms1038/ses-20161031/proc/flair-brain-mni_reg.nii.gz',\n",
       "   'label': '/mnt/t/Data/3Tpioneer_bids/sub-ms1038/ses-20161031/proc/lesion_index.t3m20-mni_reg.nii.gz'},\n",
       "  {'image': '/mnt/t/Data/3Tpioneer_bids/sub-ms1058/ses-20190102/proc/flair-brain-mni_reg.nii.gz',\n",
       "   'label': '/mnt/t/Data/3Tpioneer_bids/sub-ms1058/ses-20190102/proc/lesion_index.t3m20-mni_reg.nii.gz'},\n",
       "  {'image': '/mnt/t/Data/3Tpioneer_bids/sub-ms1074/ses-20190518/proc/flair-brain-mni_reg.nii.gz',\n",
       "   'label': '/mnt/t/Data/3Tpioneer_bids/sub-ms1074/ses-20190518/proc/lesion_index.t3m20-mni_reg.nii.gz'},\n",
       "  {'image': '/mnt/t/Data/3Tpioneer_bids/sub-ms1082/ses-20161218/proc/flair-brain-mni_reg.nii.gz',\n",
       "   'label': '/mnt/t/Data/3Tpioneer_bids/sub-ms1082/ses-20161218/proc/lesion_index.t3m20-mni_reg.nii.gz'},\n",
       "  {'image': '/mnt/t/Data/3Tpioneer_bids/sub-ms1085/ses-20220228/proc/flair-brain-mni_reg.nii.gz',\n",
       "   'label': '/mnt/t/Data/3Tpioneer_bids/sub-ms1085/ses-20220228/proc/lesion_index.t3m20-mni_reg.nii.gz'},\n",
       "  {'image': '/mnt/t/Data/3Tpioneer_bids/sub-ms1103/ses-20191214/proc/flair-brain-mni_reg.nii.gz',\n",
       "   'label': '/mnt/t/Data/3Tpioneer_bids/sub-ms1103/ses-20191214/proc/lesion_index.t3m20-mni_reg.nii.gz'},\n",
       "  {'image': '/mnt/t/Data/3Tpioneer_bids/sub-ms1104/ses-20190418/proc/flair-brain-mni_reg.nii.gz',\n",
       "   'label': '/mnt/t/Data/3Tpioneer_bids/sub-ms1104/ses-20190418/proc/lesion_index.t3m20-mni_reg.nii.gz'},\n",
       "  {'image': '/mnt/t/Data/3Tpioneer_bids/sub-ms1105/ses-20171208/proc/flair-brain-mni_reg.nii.gz',\n",
       "   'label': '/mnt/t/Data/3Tpioneer_bids/sub-ms1105/ses-20171208/proc/lesion_index.t3m20-mni_reg.nii.gz'},\n",
       "  {'image': '/mnt/t/Data/3Tpioneer_bids/sub-ms1113/ses-20170526/proc/flair-brain-mni_reg.nii.gz',\n",
       "   'label': '/mnt/t/Data/3Tpioneer_bids/sub-ms1113/ses-20170526/proc/lesion_index.t3m20-mni_reg.nii.gz'},\n",
       "  {'image': '/mnt/t/Data/3Tpioneer_bids/sub-ms1130/ses-20180902/proc/flair-brain-mni_reg.nii.gz',\n",
       "   'label': '/mnt/t/Data/3Tpioneer_bids/sub-ms1130/ses-20180902/proc/lesion_index.t3m20-mni_reg.nii.gz'},\n",
       "  {'image': '/mnt/t/Data/3Tpioneer_bids/sub-ms1146/ses-20190821/proc/flair-brain-mni_reg.nii.gz',\n",
       "   'label': '/mnt/t/Data/3Tpioneer_bids/sub-ms1146/ses-20190821/proc/lesion_index.t3m20-mni_reg.nii.gz'},\n",
       "  {'image': '/mnt/t/Data/3Tpioneer_bids/sub-ms1156/ses-20170404/proc/flair-brain-mni_reg.nii.gz',\n",
       "   'label': '/mnt/t/Data/3Tpioneer_bids/sub-ms1156/ses-20170404/proc/lesion_index.t3m20-mni_reg.nii.gz'},\n",
       "  {'image': '/mnt/t/Data/3Tpioneer_bids/sub-ms1171/ses-20161116/proc/flair-brain-mni_reg.nii.gz',\n",
       "   'label': '/mnt/t/Data/3Tpioneer_bids/sub-ms1171/ses-20161116/proc/lesion_index.t3m20-mni_reg.nii.gz'},\n",
       "  {'image': '/mnt/t/Data/3Tpioneer_bids/sub-ms1186/ses-20170517/proc/flair-brain-mni_reg.nii.gz',\n",
       "   'label': '/mnt/t/Data/3Tpioneer_bids/sub-ms1186/ses-20170517/proc/lesion_index.t3m20-mni_reg.nii.gz'},\n",
       "  {'image': '/mnt/t/Data/3Tpioneer_bids/sub-ms1209/ses-20170711/proc/flair-brain-mni_reg.nii.gz',\n",
       "   'label': '/mnt/t/Data/3Tpioneer_bids/sub-ms1209/ses-20170711/proc/lesion_index.t3m20-mni_reg.nii.gz'},\n",
       "  {'image': '/mnt/t/Data/3Tpioneer_bids/sub-ms1216/ses-20170113/proc/flair-brain-mni_reg.nii.gz',\n",
       "   'label': '/mnt/t/Data/3Tpioneer_bids/sub-ms1216/ses-20170113/proc/lesion_index.t3m20-mni_reg.nii.gz'},\n",
       "  {'image': '/mnt/t/Data/3Tpioneer_bids/sub-ms1217/ses-20170503/proc/flair-brain-mni_reg.nii.gz',\n",
       "   'label': '/mnt/t/Data/3Tpioneer_bids/sub-ms1217/ses-20170503/proc/lesion_index.t3m20-mni_reg.nii.gz'},\n",
       "  {'image': '/mnt/t/Data/3Tpioneer_bids/sub-ms1223/ses-20180405/proc/flair-brain-mni_reg.nii.gz',\n",
       "   'label': '/mnt/t/Data/3Tpioneer_bids/sub-ms1223/ses-20180405/proc/lesion_index.t3m20-mni_reg.nii.gz'},\n",
       "  {'image': '/mnt/t/Data/3Tpioneer_bids/sub-ms1252/ses-20180920/proc/flair-brain-mni_reg.nii.gz',\n",
       "   'label': '/mnt/t/Data/3Tpioneer_bids/sub-ms1252/ses-20180920/proc/lesion_index.t3m20-mni_reg.nii.gz'},\n",
       "  {'image': '/mnt/t/Data/3Tpioneer_bids/sub-ms1257/ses-20161208/proc/flair-brain-mni_reg.nii.gz',\n",
       "   'label': '/mnt/t/Data/3Tpioneer_bids/sub-ms1257/ses-20161208/proc/lesion_index.t3m20-mni_reg.nii.gz'},\n",
       "  {'image': '/mnt/t/Data/3Tpioneer_bids/sub-ms1264/ses-20170806/proc/flair-brain-mni_reg.nii.gz',\n",
       "   'label': '/mnt/t/Data/3Tpioneer_bids/sub-ms1264/ses-20170806/proc/lesion_index.t3m20-mni_reg.nii.gz'},\n",
       "  {'image': '/mnt/t/Data/3Tpioneer_bids/sub-ms1276/ses-20190329/proc/flair-brain-mni_reg.nii.gz',\n",
       "   'label': '/mnt/t/Data/3Tpioneer_bids/sub-ms1276/ses-20190329/proc/lesion_index.t3m20-mni_reg.nii.gz'},\n",
       "  {'image': '/mnt/t/Data/3Tpioneer_bids/sub-ms1290/ses-20170702/proc/flair-brain-mni_reg.nii.gz',\n",
       "   'label': '/mnt/t/Data/3Tpioneer_bids/sub-ms1290/ses-20170702/proc/lesion_index.t3m20-mni_reg.nii.gz'},\n",
       "  {'image': '/mnt/t/Data/3Tpioneer_bids/sub-ms1311/ses-20161005/proc/flair-brain-mni_reg.nii.gz',\n",
       "   'label': '/mnt/t/Data/3Tpioneer_bids/sub-ms1311/ses-20161005/proc/lesion_index.t3m20-mni_reg.nii.gz'},\n",
       "  {'image': '/mnt/t/Data/3Tpioneer_bids/sub-ms1338/ses-20200818/proc/flair-brain-mni_reg.nii.gz',\n",
       "   'label': '/mnt/t/Data/3Tpioneer_bids/sub-ms1338/ses-20200818/proc/lesion_index.t3m20-mni_reg.nii.gz'},\n",
       "  {'image': '/mnt/t/Data/3Tpioneer_bids/sub-ms1375/ses-20181016/proc/flair-brain-mni_reg.nii.gz',\n",
       "   'label': '/mnt/t/Data/3Tpioneer_bids/sub-ms1375/ses-20181016/proc/lesion_index.t3m20-mni_reg.nii.gz'},\n",
       "  {'image': '/mnt/t/Data/3Tpioneer_bids/sub-ms1388/ses-20170915/proc/flair-brain-mni_reg.nii.gz',\n",
       "   'label': '/mnt/t/Data/3Tpioneer_bids/sub-ms1388/ses-20170915/proc/lesion_index.t3m20-mni_reg.nii.gz'},\n",
       "  {'image': '/mnt/t/Data/3Tpioneer_bids/sub-ms1392/ses-20201221/proc/flair-brain-mni_reg.nii.gz',\n",
       "   'label': '/mnt/t/Data/3Tpioneer_bids/sub-ms1392/ses-20201221/proc/lesion_index.t3m20-mni_reg.nii.gz'},\n",
       "  {'image': '/mnt/t/Data/3Tpioneer_bids/sub-ms1395/ses-20180810/proc/flair-brain-mni_reg.nii.gz',\n",
       "   'label': '/mnt/t/Data/3Tpioneer_bids/sub-ms1395/ses-20180810/proc/lesion_index.t3m20-mni_reg.nii.gz'}]}"
      ]
     },
     "execution_count": 62,
     "metadata": {},
     "output_type": "execute_result"
    }
   ],
   "source": [
    "datalist"
   ]
  },
  {
   "cell_type": "code",
   "execution_count": 63,
   "id": "7b3d2864",
   "metadata": {},
   "outputs": [
    {
     "data": {
      "text/plain": [
       "100"
      ]
     },
     "execution_count": 63,
     "metadata": {},
     "output_type": "execute_result"
    }
   ],
   "source": [
    "len(datalist['training'])"
   ]
  },
  {
   "cell_type": "code",
   "execution_count": 64,
   "id": "79e79f57-8c40-4bf0-b588-d8bada8bc9b6",
   "metadata": {
    "tags": []
   },
   "outputs": [],
   "source": [
    "work_dir = \"/home/srs-9/Projects/ms_mri/training_work_dirs/cp_work_dir21\"\n",
    "# work_dir = \"/home/hemondlab/Dev/ms_mri/training_work_dirs/cp_work_dir6\"\n",
    "if not os.path.isdir(work_dir):\n",
    "    os.makedirs(work_dir)\n",
    "\n",
    "dataroot_dir = DATA_HOME\n",
    "if not os.path.isdir(dataroot_dir):\n",
    "    os.makedirs(dataroot_dir)\n",
    "\n",
    "datalist_file = os.path.join(work_dir, \"datalist.json\")\n",
    "with open(datalist_file, \"w\") as f:\n",
    "    json.dump(datalist, f)"
   ]
  },
  {
   "cell_type": "code",
   "execution_count": 65,
   "id": "7c65f5fa-6ec7-4974-b90f-a51cc70263e8",
   "metadata": {
    "tags": []
   },
   "outputs": [
    {
     "name": "stdout",
     "output_type": "stream",
     "text": [
      "2024-07-29 21:46:49,894 - INFO - AutoRunner using work directory /home/srs-9/Projects/ms_mri/training_work_dirs/cp_work_dir20\n",
      "2024-07-29 21:46:49,901 - INFO - Found num_fold 4 based on the input datalist /home/srs-9/Projects/ms_mri/training_work_dirs/cp_work_dir20/datalist.json.\n",
      "2024-07-29 21:46:49,903 - INFO - Setting num_fold 4 based on the input datalist /home/srs-9/Projects/ms_mri/training_work_dirs/cp_work_dir20/datalist.json.\n",
      "2024-07-29 21:46:49,908 - INFO - Using user defined command running prefix , will override other settings\n"
     ]
    }
   ],
   "source": [
    "runner = AutoRunner(\n",
    "    work_dir=work_dir,\n",
    "    algos=[\"swinunetr\"],\n",
    "    input={\n",
    "        \"modality\": \"MRI\",\n",
    "        \"datalist\": datalist_file,\n",
    "        \"dataroot\": dataroot_dir,\n",
    "    },\n",
    ")"
   ]
  },
  {
   "cell_type": "code",
   "execution_count": 66,
   "id": "56e52e9b-1b75-4807-91cb-267d9f4f5a67",
   "metadata": {
    "tags": []
   },
   "outputs": [
    {
     "data": {
      "text/plain": [
       "<monai.apps.auto3dseg.auto_runner.AutoRunner at 0x7fd92190efc0>"
      ]
     },
     "execution_count": 66,
     "metadata": {},
     "output_type": "execute_result"
    }
   ],
   "source": [
    "max_epochs = 10\n",
    "\n",
    "train_param = {\n",
    "    \"num_epochs_per_validation\": 1,\n",
    "    #\"num_images_per_batch\": 2,\n",
    "    \"num_epochs\": max_epochs,\n",
    "    \"num_warmup_epochs\": 1,\n",
    "}\n",
    "runner.set_training_params(train_param)"
   ]
  },
  {
   "cell_type": "code",
   "execution_count": 67,
   "id": "c96c07cb-67cf-4c1e-86c2-9258f7cabde6",
   "metadata": {
    "tags": []
   },
   "outputs": [
    {
     "name": "stdout",
     "output_type": "stream",
     "text": [
      "2024-07-29 21:46:49,936 - INFO - Running data analysis...\n",
      "2024-07-29 21:46:49,947 - INFO - Found 1 GPUs for data analyzing!\n"
     ]
    },
    {
     "name": "stderr",
     "output_type": "stream",
     "text": [
      "100%|██████████| 100/100 [00:30<00:00,  3.27it/s]\n"
     ]
    },
    {
     "name": "stdout",
     "output_type": "stream",
     "text": [
      "2024-07-29 21:47:23,946 - INFO - Writing data stats to /home/srs-9/Projects/ms_mri/training_work_dirs/cp_work_dir20/datastats.yaml.\n",
      "2024-07-29 21:47:24,155 - INFO - Writing by-case data stats to /home/srs-9/Projects/ms_mri/training_work_dirs/cp_work_dir20/datastats_by_case.yaml, this may take a while.\n",
      "2024-07-29 21:47:26,393 - INFO - BundleGen from https://github.com/Project-MONAI/research-contributions/releases/download/algo_templates/e4cf5a1.tar.gz\n"
     ]
    },
    {
     "name": "stderr",
     "output_type": "stream",
     "text": [
      "algo_templates.tar.gz: 104kB [00:00, 187kB/s]                              "
     ]
    },
    {
     "name": "stdout",
     "output_type": "stream",
     "text": [
      "2024-07-29 21:47:26,968 - INFO - Downloaded: /tmp/tmpbpg0avwg/algo_templates.tar.gz\n",
      "2024-07-29 21:47:26,969 - INFO - Expected md5 is None, skip md5 check for file /tmp/tmpbpg0avwg/algo_templates.tar.gz.\n",
      "2024-07-29 21:47:26,970 - INFO - Writing into directory: /home/srs-9/Projects/ms_mri/training_work_dirs/cp_work_dir20.\n"
     ]
    },
    {
     "name": "stderr",
     "output_type": "stream",
     "text": [
      "\n"
     ]
    },
    {
     "name": "stdout",
     "output_type": "stream",
     "text": [
      "2024-07-29 21:47:27,427 - INFO - Generated:/home/srs-9/Projects/ms_mri/training_work_dirs/cp_work_dir20/swinunetr_0\n",
      "2024-07-29 21:47:27,979 - INFO - Generated:/home/srs-9/Projects/ms_mri/training_work_dirs/cp_work_dir20/swinunetr_1\n",
      "2024-07-29 21:47:28,425 - INFO - Generated:/home/srs-9/Projects/ms_mri/training_work_dirs/cp_work_dir20/swinunetr_2\n",
      "2024-07-29 21:47:28,863 - INFO - Generated:/home/srs-9/Projects/ms_mri/training_work_dirs/cp_work_dir20/swinunetr_3\n",
      "2024-07-29 21:47:28,888 - INFO - ['python', '/home/srs-9/Projects/ms_mri/training_work_dirs/cp_work_dir20/swinunetr_0/scripts/train.py', 'run', \"--config_file='/home/srs-9/Projects/ms_mri/training_work_dirs/cp_work_dir20/swinunetr_0/configs/hyper_parameters.yaml,/home/srs-9/Projects/ms_mri/training_work_dirs/cp_work_dir20/swinunetr_0/configs/network.yaml,/home/srs-9/Projects/ms_mri/training_work_dirs/cp_work_dir20/swinunetr_0/configs/transforms_infer.yaml,/home/srs-9/Projects/ms_mri/training_work_dirs/cp_work_dir20/swinunetr_0/configs/transforms_train.yaml,/home/srs-9/Projects/ms_mri/training_work_dirs/cp_work_dir20/swinunetr_0/configs/transforms_validate.yaml'\", '--num_epochs_per_validation=1', '--num_epochs=10', '--num_warmup_epochs=1']\n"
     ]
    },
    {
     "name": "stderr",
     "output_type": "stream",
     "text": [
      "/home/srs-9/.virtualenvs/monai/lib/python3.12/site-packages/ignite/handlers/checkpoint.py:17: DeprecationWarning: `TorchScript` support for functional optimizers is deprecated and will be removed in a future PyTorch release. Consider using the `torch.compile` optimizer instead.\n",
      "  from torch.distributed.optim import ZeroRedundancyOptimizer\n",
      "monai.networks.nets.swin_unetr SwinUNETR.__init__:img_size: Argument `img_size` has been deprecated since version 1.3. It will be removed in version 1.5. The img_size argument is not required anymore and checks on the input size are run during forward().\n"
     ]
    },
    {
     "name": "stdout",
     "output_type": "stream",
     "text": [
      "2024-07-29 21:48:07,253 - INFO - Downloaded: /home/srs-9/Projects/ms_mri/training_work_dirs/cp_work_dir20/swinunetr_0/pretrained_model/swin_unetr.base_5000ep_f48_lr2e-4_pretrained.pt\n",
      "2024-07-29 21:48:07,253 - INFO - Expected md5 is None, skip md5 check for file /home/srs-9/Projects/ms_mri/training_work_dirs/cp_work_dir20/swinunetr_0/pretrained_model/swin_unetr.base_5000ep_f48_lr2e-4_pretrained.pt.\n"
     ]
    },
    {
     "name": "stderr",
     "output_type": "stream",
     "text": [
      "You are using `torch.load` with `weights_only=False` (the current default value), which uses the default pickle module implicitly. It is possible to construct malicious pickle data which will execute arbitrary code during unpickling (See https://github.com/pytorch/pytorch/blob/main/SECURITY.md#untrusted-models for more details). In a future release, the default value for `weights_only` will be flipped to `True`. This limits the functions that could be executed during unpickling. Arbitrary objects will no longer be allowed to be loaded via this mode unless they are explicitly allowlisted by the user via `torch.serialization.add_safe_globals`. We recommend you start setting `weights_only=True` for any use case where you don't have full control of the loaded file. Please open an issue on GitHub for any issues related to this experimental feature.\n",
      "`torch.cuda.amp.GradScaler(args...)` is deprecated. Please use `torch.amp.GradScaler('cuda', args...)` instead.\n",
      "2024/07/29 21:48:07 INFO mlflow.tracking.fluent: Experiment with name 'Auto3DSeg' does not exist. Creating a new experiment.\n",
      "swinunetr_0 - training ...:  40%|████      | 4/10 [39:27<59:11, 591.90s/round]\n",
      "Traceback (most recent call last):\n",
      "  File \"/home/srs-9/Projects/ms_mri/training_work_dirs/cp_work_dir20/swinunetr_0/scripts/train.py\", line 850, in <module>\n",
      "    fire.Fire()\n",
      "  File \"/home/srs-9/.virtualenvs/monai/lib/python3.12/site-packages/fire/core.py\", line 143, in Fire\n",
      "    component_trace = _Fire(component, args, parsed_flag_args, context, name)\n",
      "                      ^^^^^^^^^^^^^^^^^^^^^^^^^^^^^^^^^^^^^^^^^^^^^^^^^^^^^^^\n",
      "  File \"/home/srs-9/.virtualenvs/monai/lib/python3.12/site-packages/fire/core.py\", line 477, in _Fire\n",
      "    component, remaining_args = _CallAndUpdateTrace(\n",
      "                                ^^^^^^^^^^^^^^^^^^^^\n",
      "  File \"/home/srs-9/.virtualenvs/monai/lib/python3.12/site-packages/fire/core.py\", line 693, in _CallAndUpdateTrace\n",
      "    component = fn(*varargs, **kwargs)\n",
      "                ^^^^^^^^^^^^^^^^^^^^^^\n",
      "  File \"/home/srs-9/Projects/ms_mri/training_work_dirs/cp_work_dir20/swinunetr_0/scripts/train.py\", line 643, in run\n",
      "    logger.debug(f\"Evaluation metric - class {_c + 1}: {metric[2 * _c] / metric[2 * _c + 1]}\")\n",
      "                                                        ~~~~~~~~~~~~~~~^~~~~~~~~~~~~~~~~~~~\n",
      "ZeroDivisionError: float division by zero\n"
     ]
    },
    {
     "ename": "CalledProcessError",
     "evalue": "Command '['python', '/home/srs-9/Projects/ms_mri/training_work_dirs/cp_work_dir20/swinunetr_0/scripts/train.py', 'run', \"--config_file='/home/srs-9/Projects/ms_mri/training_work_dirs/cp_work_dir20/swinunetr_0/configs/hyper_parameters.yaml,/home/srs-9/Projects/ms_mri/training_work_dirs/cp_work_dir20/swinunetr_0/configs/network.yaml,/home/srs-9/Projects/ms_mri/training_work_dirs/cp_work_dir20/swinunetr_0/configs/transforms_infer.yaml,/home/srs-9/Projects/ms_mri/training_work_dirs/cp_work_dir20/swinunetr_0/configs/transforms_train.yaml,/home/srs-9/Projects/ms_mri/training_work_dirs/cp_work_dir20/swinunetr_0/configs/transforms_validate.yaml'\", '--num_epochs_per_validation=1', '--num_epochs=10', '--num_warmup_epochs=1']' returned non-zero exit status 1.",
     "output_type": "error",
     "traceback": [
      "\u001b[0;31m---------------------------------------------------------------------------\u001b[0m",
      "\u001b[0;31mCalledProcessError\u001b[0m                        Traceback (most recent call last)",
      "Cell \u001b[0;32mIn[67], line 1\u001b[0m\n\u001b[0;32m----> 1\u001b[0m \u001b[43mrunner\u001b[49m\u001b[38;5;241;43m.\u001b[39;49m\u001b[43mrun\u001b[49m\u001b[43m(\u001b[49m\u001b[43m)\u001b[49m\n",
      "File \u001b[0;32m~/MONAI/monai/apps/auto3dseg/auto_runner.py:878\u001b[0m, in \u001b[0;36mAutoRunner.run\u001b[0;34m(self)\u001b[0m\n\u001b[1;32m    876\u001b[0m \u001b[38;5;28;01mif\u001b[39;00m \u001b[38;5;28mlen\u001b[39m(history) \u001b[38;5;241m>\u001b[39m \u001b[38;5;241m0\u001b[39m:\n\u001b[1;32m    877\u001b[0m     \u001b[38;5;28;01mif\u001b[39;00m \u001b[38;5;129;01mnot\u001b[39;00m \u001b[38;5;28mself\u001b[39m\u001b[38;5;241m.\u001b[39mhpo:\n\u001b[0;32m--> 878\u001b[0m         \u001b[38;5;28;43mself\u001b[39;49m\u001b[38;5;241;43m.\u001b[39;49m\u001b[43m_train_algo_in_sequence\u001b[49m\u001b[43m(\u001b[49m\u001b[43mhistory\u001b[49m\u001b[43m)\u001b[49m\n\u001b[1;32m    879\u001b[0m     \u001b[38;5;28;01melse\u001b[39;00m:\n\u001b[1;32m    880\u001b[0m         \u001b[38;5;28mself\u001b[39m\u001b[38;5;241m.\u001b[39m_train_algo_in_nni(history)\n",
      "File \u001b[0;32m~/MONAI/monai/apps/auto3dseg/auto_runner.py:728\u001b[0m, in \u001b[0;36mAutoRunner._train_algo_in_sequence\u001b[0;34m(self, history)\u001b[0m\n\u001b[1;32m    726\u001b[0m algo \u001b[38;5;241m=\u001b[39m algo_dict[AlgoKeys\u001b[38;5;241m.\u001b[39mALGO]\n\u001b[1;32m    727\u001b[0m \u001b[38;5;28;01mif\u001b[39;00m has_option(algo\u001b[38;5;241m.\u001b[39mtrain, \u001b[38;5;124m\"\u001b[39m\u001b[38;5;124mdevice_setting\u001b[39m\u001b[38;5;124m\"\u001b[39m):\n\u001b[0;32m--> 728\u001b[0m     \u001b[43malgo\u001b[49m\u001b[38;5;241;43m.\u001b[39;49m\u001b[43mtrain\u001b[49m\u001b[43m(\u001b[49m\u001b[38;5;28;43mself\u001b[39;49m\u001b[38;5;241;43m.\u001b[39;49m\u001b[43mtrain_params\u001b[49m\u001b[43m,\u001b[49m\u001b[43m \u001b[49m\u001b[38;5;28;43mself\u001b[39;49m\u001b[38;5;241;43m.\u001b[39;49m\u001b[43mdevice_setting\u001b[49m\u001b[43m)\u001b[49m\n\u001b[1;32m    729\u001b[0m \u001b[38;5;28;01melse\u001b[39;00m:\n\u001b[1;32m    730\u001b[0m     algo\u001b[38;5;241m.\u001b[39mtrain(\u001b[38;5;28mself\u001b[39m\u001b[38;5;241m.\u001b[39mtrain_params)\n",
      "File \u001b[0;32m~/MONAI/monai/apps/auto3dseg/bundle_gen.py:300\u001b[0m, in \u001b[0;36mBundleAlgo.train\u001b[0;34m(self, train_params, device_setting)\u001b[0m\n\u001b[1;32m    297\u001b[0m     train_params\u001b[38;5;241m.\u001b[39mpop(\u001b[38;5;124m\"\u001b[39m\u001b[38;5;124mCUDA_VISIBLE_DEVICES\u001b[39m\u001b[38;5;124m\"\u001b[39m)\n\u001b[1;32m    299\u001b[0m cmd, _unused_return \u001b[38;5;241m=\u001b[39m \u001b[38;5;28mself\u001b[39m\u001b[38;5;241m.\u001b[39m_create_cmd(train_params)\n\u001b[0;32m--> 300\u001b[0m \u001b[38;5;28;01mreturn\u001b[39;00m \u001b[38;5;28;43mself\u001b[39;49m\u001b[38;5;241;43m.\u001b[39;49m\u001b[43m_run_cmd\u001b[49m\u001b[43m(\u001b[49m\u001b[43mcmd\u001b[49m\u001b[43m)\u001b[49m\n",
      "File \u001b[0;32m~/MONAI/monai/apps/auto3dseg/bundle_gen.py:277\u001b[0m, in \u001b[0;36mBundleAlgo._run_cmd\u001b[0;34m(self, cmd, devices_info)\u001b[0m\n\u001b[1;32m    273\u001b[0m     \u001b[38;5;28;01mreturn\u001b[39;00m _run_cmd_torchrun(\n\u001b[1;32m    274\u001b[0m         cmd, nnodes\u001b[38;5;241m=\u001b[39m\u001b[38;5;241m1\u001b[39m, nproc_per_node\u001b[38;5;241m=\u001b[39m\u001b[38;5;28mself\u001b[39m\u001b[38;5;241m.\u001b[39mdevice_setting[\u001b[38;5;124m\"\u001b[39m\u001b[38;5;124mn_devices\u001b[39m\u001b[38;5;124m\"\u001b[39m], env\u001b[38;5;241m=\u001b[39mps_environ, check\u001b[38;5;241m=\u001b[39m\u001b[38;5;28;01mTrue\u001b[39;00m\n\u001b[1;32m    275\u001b[0m     )\n\u001b[1;32m    276\u001b[0m \u001b[38;5;28;01melse\u001b[39;00m:\n\u001b[0;32m--> 277\u001b[0m     \u001b[38;5;28;01mreturn\u001b[39;00m \u001b[43mrun_cmd\u001b[49m\u001b[43m(\u001b[49m\u001b[43mcmd\u001b[49m\u001b[38;5;241;43m.\u001b[39;49m\u001b[43msplit\u001b[49m\u001b[43m(\u001b[49m\u001b[43m)\u001b[49m\u001b[43m,\u001b[49m\u001b[43m \u001b[49m\u001b[43mrun_cmd_verbose\u001b[49m\u001b[38;5;241;43m=\u001b[39;49m\u001b[38;5;28;43;01mTrue\u001b[39;49;00m\u001b[43m,\u001b[49m\u001b[43m \u001b[49m\u001b[43menv\u001b[49m\u001b[38;5;241;43m=\u001b[39;49m\u001b[43mps_environ\u001b[49m\u001b[43m,\u001b[49m\u001b[43m \u001b[49m\u001b[43mcheck\u001b[49m\u001b[38;5;241;43m=\u001b[39;49m\u001b[38;5;28;43;01mTrue\u001b[39;49;00m\u001b[43m)\u001b[49m\n",
      "File \u001b[0;32m~/MONAI/monai/utils/misc.py:892\u001b[0m, in \u001b[0;36mrun_cmd\u001b[0;34m(cmd_list, **kwargs)\u001b[0m\n\u001b[1;32m    890\u001b[0m     monai\u001b[38;5;241m.\u001b[39mapps\u001b[38;5;241m.\u001b[39mutils\u001b[38;5;241m.\u001b[39mget_logger(\u001b[38;5;124m\"\u001b[39m\u001b[38;5;124mrun_cmd\u001b[39m\u001b[38;5;124m\"\u001b[39m)\u001b[38;5;241m.\u001b[39minfo(\u001b[38;5;124mf\u001b[39m\u001b[38;5;124m\"\u001b[39m\u001b[38;5;132;01m{\u001b[39;00mcmd_list\u001b[38;5;132;01m}\u001b[39;00m\u001b[38;5;124m\"\u001b[39m)\n\u001b[1;32m    891\u001b[0m \u001b[38;5;28;01mtry\u001b[39;00m:\n\u001b[0;32m--> 892\u001b[0m     \u001b[38;5;28;01mreturn\u001b[39;00m \u001b[43msubprocess\u001b[49m\u001b[38;5;241;43m.\u001b[39;49m\u001b[43mrun\u001b[49m\u001b[43m(\u001b[49m\u001b[43mcmd_list\u001b[49m\u001b[43m,\u001b[49m\u001b[43m \u001b[49m\u001b[38;5;241;43m*\u001b[39;49m\u001b[38;5;241;43m*\u001b[39;49m\u001b[43mkwargs\u001b[49m\u001b[43m)\u001b[49m\n\u001b[1;32m    893\u001b[0m \u001b[38;5;28;01mexcept\u001b[39;00m subprocess\u001b[38;5;241m.\u001b[39mCalledProcessError \u001b[38;5;28;01mas\u001b[39;00m e:\n\u001b[1;32m    894\u001b[0m     \u001b[38;5;28;01mif\u001b[39;00m \u001b[38;5;129;01mnot\u001b[39;00m debug:\n",
      "File \u001b[0;32m~/.asdf/installs/python/3.12.4/lib/python3.12/subprocess.py:571\u001b[0m, in \u001b[0;36mrun\u001b[0;34m(input, capture_output, timeout, check, *popenargs, **kwargs)\u001b[0m\n\u001b[1;32m    569\u001b[0m     retcode \u001b[38;5;241m=\u001b[39m process\u001b[38;5;241m.\u001b[39mpoll()\n\u001b[1;32m    570\u001b[0m     \u001b[38;5;28;01mif\u001b[39;00m check \u001b[38;5;129;01mand\u001b[39;00m retcode:\n\u001b[0;32m--> 571\u001b[0m         \u001b[38;5;28;01mraise\u001b[39;00m CalledProcessError(retcode, process\u001b[38;5;241m.\u001b[39margs,\n\u001b[1;32m    572\u001b[0m                                  output\u001b[38;5;241m=\u001b[39mstdout, stderr\u001b[38;5;241m=\u001b[39mstderr)\n\u001b[1;32m    573\u001b[0m \u001b[38;5;28;01mreturn\u001b[39;00m CompletedProcess(process\u001b[38;5;241m.\u001b[39margs, retcode, stdout, stderr)\n",
      "\u001b[0;31mCalledProcessError\u001b[0m: Command '['python', '/home/srs-9/Projects/ms_mri/training_work_dirs/cp_work_dir20/swinunetr_0/scripts/train.py', 'run', \"--config_file='/home/srs-9/Projects/ms_mri/training_work_dirs/cp_work_dir20/swinunetr_0/configs/hyper_parameters.yaml,/home/srs-9/Projects/ms_mri/training_work_dirs/cp_work_dir20/swinunetr_0/configs/network.yaml,/home/srs-9/Projects/ms_mri/training_work_dirs/cp_work_dir20/swinunetr_0/configs/transforms_infer.yaml,/home/srs-9/Projects/ms_mri/training_work_dirs/cp_work_dir20/swinunetr_0/configs/transforms_train.yaml,/home/srs-9/Projects/ms_mri/training_work_dirs/cp_work_dir20/swinunetr_0/configs/transforms_validate.yaml'\", '--num_epochs_per_validation=1', '--num_epochs=10', '--num_warmup_epochs=1']' returned non-zero exit status 1."
     ]
    }
   ],
   "source": [
    "runner.run()"
   ]
  },
  {
   "cell_type": "code",
   "execution_count": null,
   "id": "5340f6e5",
   "metadata": {},
   "outputs": [],
   "source": [
    "scan_path = \"/mnt/t/Data/3Tpioneer_bids/sub-ms1001/ses-20170215/proc/lesion_index.t3m20-mni_reg.nii.gz\"\n",
    "img = nib.load(scan_path)\n"
   ]
  }
 ],
 "metadata": {
  "kernelspec": {
   "display_name": "Python 3 (ipykernel)",
   "language": "python",
   "name": "python3"
  },
  "language_info": {
   "codemirror_mode": {
    "name": "ipython",
    "version": 3
   },
   "file_extension": ".py",
   "mimetype": "text/x-python",
   "name": "python",
   "nbconvert_exporter": "python",
   "pygments_lexer": "ipython3",
   "version": "3.12.4"
  }
 },
 "nbformat": 4,
 "nbformat_minor": 5
}
