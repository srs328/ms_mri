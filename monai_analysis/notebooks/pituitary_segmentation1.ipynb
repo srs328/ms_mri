{
 "cells": [
  {
   "cell_type": "markdown",
   "id": "6b5ef0d0-d80a-49f6-93dd-50dd79b06345",
   "metadata": {
    "tags": []
   },
   "source": [
    "# Choroid Plexus Segmentation Training via Auto3DSeg"
   ]
  },
  {
   "cell_type": "code",
   "execution_count": 1,
   "id": "447dcb1b-ab8f-43b9-9439-d703a0881dc7",
   "metadata": {
    "tags": []
   },
   "outputs": [
    {
     "name": "stderr",
     "output_type": "stream",
     "text": [
      "/home/srs-9/.virtualenvs/monai/lib/python3.12/site-packages/ignite/handlers/checkpoint.py:17: DeprecationWarning: `TorchScript` support for functional optimizers is deprecated and will be removed in a future PyTorch release. Consider using the `torch.compile` optimizer instead.\n",
      "  from torch.distributed.optim import ZeroRedundancyOptimizer\n"
     ]
    },
    {
     "name": "stdout",
     "output_type": "stream",
     "text": [
      "MONAI version: 1.3.3rc1+7.g2e53df78\n",
      "Numpy version: 1.26.4\n",
      "Pytorch version: 2.4.0+cu121\n",
      "MONAI flags: HAS_EXT = False, USE_COMPILED = False, USE_META_DICT = False\n",
      "MONAI rev id: 2e53df78e580131046dc8db7f7638063db1f5045\n",
      "MONAI __file__: /home/<username>/MONAI/monai/__init__.py\n",
      "\n",
      "Optional dependencies:\n",
      "Pytorch Ignite version: 0.4.11\n",
      "ITK version: 5.4.0\n",
      "Nibabel version: 5.2.1\n",
      "scikit-image version: 0.24.0\n",
      "scipy version: 1.14.0\n",
      "Pillow version: 10.4.0\n",
      "Tensorboard version: 2.17.0\n",
      "gdown version: 5.2.0\n",
      "TorchVision version: 0.19.0+cu121\n",
      "tqdm version: 4.66.4\n",
      "lmdb version: 1.5.1\n",
      "psutil version: 6.0.0\n",
      "pandas version: 2.2.2\n",
      "einops version: 0.8.0\n",
      "transformers version: 4.43.3\n",
      "mlflow version: 2.15.0\n",
      "pynrrd version: 1.0.0\n",
      "clearml version: 1.16.2\n",
      "\n",
      "For details about installing the optional dependencies, please visit:\n",
      "    https://docs.monai.io/en/latest/installation.html#installing-the-recommended-dependencies\n",
      "\n"
     ]
    }
   ],
   "source": [
    "import os\n",
    "import json\n",
    "import nibabel as nib\n",
    "import nibabel as nibabel\n",
    "import numpy as np\n",
    "import matplotlib.pyplot as plt\n",
    "from pathlib import Path\n",
    "import glob\n",
    "import random\n",
    "from monai.apps.auto3dseg import AutoRunner\n",
    "from monai.config import print_config\n",
    "from mri_preproc.paths import hemond_data, init_paths\n",
    "import importlib\n",
    "from dataclasses import asdict\n",
    "\n",
    "print_config()"
   ]
  },
  {
   "cell_type": "code",
   "execution_count": 14,
   "id": "074f8700",
   "metadata": {},
   "outputs": [
    {
     "data": {
      "text/plain": [
       "<module 'mri_preproc.paths.hemond_data' from '/home/srs-9/Projects/ms_mri/mri_preproc/paths/hemond_data.py'>"
      ]
     },
     "execution_count": 14,
     "metadata": {},
     "output_type": "execute_result"
    }
   ],
   "source": [
    "init_paths.main()\n",
    "from mri_preproc.paths.init_paths import DATA_HOME\n",
    "\n",
    "importlib.reload(hemond_data)"
   ]
  },
  {
   "cell_type": "markdown",
   "id": "9757d709-c563-4082-a369-c08f07ed3fbf",
   "metadata": {},
   "source": [
    "## Prep the database\n",
    "\n",
    "Get the data and labels organized"
   ]
  },
  {
   "cell_type": "code",
   "execution_count": 32,
   "id": "e8009ba8",
   "metadata": {},
   "outputs": [],
   "source": [
    "dataset = hemond_data.get_pituitary_3Tpioneer_bids(\"/mnt/h/3Tpioneer_bids\", suppress_output=True)\n",
    "omit_subs = ['ms1196']\n",
    "dataset = [data for data in dataset if data.label is not None and data.subid not in omit_subs]"
   ]
  },
  {
   "cell_type": "code",
   "execution_count": 33,
   "id": "919cf630",
   "metadata": {},
   "outputs": [
    {
     "data": {
      "text/plain": [
       "Scan(subid='ms1004', date='20190906', root=PosixPath('/mnt/h/3Tpioneer_bids/sub-ms1004/ses-20190906'), image=PosixPath('/mnt/h/3Tpioneer_bids/sub-ms1004/ses-20190906/t1.nii.gz'), label=PosixPath('/mnt/h/3Tpioneer_bids/sub-ms1004/ses-20190906/pituitary.nii.gz'), cond='tr')"
      ]
     },
     "execution_count": 33,
     "metadata": {},
     "output_type": "execute_result"
    }
   ],
   "source": [
    "dataset = hemond_data.assign_conditions(dataset)\n",
    "dataset[1]"
   ]
  },
  {
   "cell_type": "code",
   "execution_count": 34,
   "id": "8ee1ba2f-45f9-4d11-b1b3-8af676954fe7",
   "metadata": {
    "tags": []
   },
   "outputs": [],
   "source": [
    "training_data = []\n",
    "test_data = []\n",
    "\n",
    "for scan in dataset:\n",
    "    if scan.cond == 'tr':\n",
    "        training_data.append({\"image\": scan.image, \"label\": scan.label})\n",
    "    elif scan.cond == 'ts':\n",
    "        test_data.append(scan.image)"
   ]
  },
  {
   "cell_type": "markdown",
   "id": "77c3d4ba-a4ee-46f9-bbef-73bea3f1e1f4",
   "metadata": {},
   "source": [
    "## Review"
   ]
  },
  {
   "cell_type": "code",
   "execution_count": 35,
   "id": "2fb4c306-d08a-4205-b701-49e362e87bdd",
   "metadata": {
    "tags": []
   },
   "outputs": [],
   "source": [
    "def display_slices(scan):\n",
    "    img1 = nibabel.load(scan.image)\n",
    "    img2 = nibabel.load(scan.label)\n",
    "\n",
    "    data1 = img1.get_fdata()[:,:,:]\n",
    "    data2 = img2.get_fdata()\n",
    "\n",
    "    slice_sums = np.sum(data2, axis=(0, 1))\n",
    "    \n",
    "    print(slice_sums)\n",
    "\n",
    "    max_slice_index = np.argmax(slice_sums)\n",
    "    print(f\"Max slice: {max_slice_index}\")\n",
    "\n",
    "    slice1 = data1[:, :, max_slice_index]\n",
    "    slice2 = data2[:, :, max_slice_index]    \n",
    "\n",
    "    plt.figure(figsize=(10, 5))\n",
    "    plt.subplot(1, 2, 1)\n",
    "    plt.imshow(slice1, cmap='gray')\n",
    "    plt.title(f\"Image 1 - Slice {max_slice_index}\")\n",
    "    plt.axis('off')\n",
    "\n",
    "    plt.subplot(1, 2, 2)\n",
    "    plt.imshow(slice2, cmap='gray')\n",
    "    plt.title(f\"Image 2 - Slice {max_slice_index}\")\n",
    "    plt.axis('off')\n",
    "    plt.show()\n"
   ]
  },
  {
   "cell_type": "code",
   "execution_count": 36,
   "id": "012dccd4",
   "metadata": {},
   "outputs": [],
   "source": [
    "img2 = nibabel.load(dataset[0].label)\n",
    "data2 = img2.get_fdata()"
   ]
  },
  {
   "cell_type": "code",
   "execution_count": 37,
   "id": "0a062717-42d3-4a72-aa99-f3e0cb3994e6",
   "metadata": {
    "tags": []
   },
   "outputs": [
    {
     "name": "stdout",
     "output_type": "stream",
     "text": [
      "[  0.   0.   0.   0.   0.   0.   0.   0.   0.   0.   0.   0.   0.   0.\n",
      "   0.   0.   0.   0.   0.   0.   0.   0.   0.   0.   0.   0.   0.   0.\n",
      "   0.   0.   0.   0.   0.   0.   0.   0.   0.   0.   0.   0.   0.   0.\n",
      "   0.   0.   0.   0.   0.   0.   0.   0.   0.   0.   0.   0.   0.   0.\n",
      "   0.   0.   0.   0.   0.   0.   0.   0.   0.   0.   0.   0.   0.   0.\n",
      "   0.   0.   0.   0.   0.   0.   0.   0.   0.   0.   0.   0.   0.   0.\n",
      "   0.   0.   0.   0.   0.   0.   0.   0.   0.   0.   0.   0.   0.   0.\n",
      "   0.   0.   0.   0.   0.   0.   0.   0.   0.   0.   0.   0.   0.   0.\n",
      "   0.   0.   0.   0.   0.   0.   0.   0.   0.   0.   0.   0.   0.   0.\n",
      "   0.   0.   0.  64. 112. 154. 175. 183. 197. 195. 157.  55.   3.   0.\n",
      "   0.   0.   0.   0.   0.   0.   0.   0.   0.   0.   0.   0.   0.   0.\n",
      "   0.   0.   0.   0.   0.   0.   0.   0.   0.   0.   0.   0.   0.   0.\n",
      "   0.   0.   0.   0.   0.   0.   0.   0.   0.   0.   0.   0.   0.   0.\n",
      "   0.   0.   0.   0.   0.   0.   0.   0.   0.   0.   0.   0.   0.   0.\n",
      "   0.   0.   0.   0.   0.   0.   0.   0.   0.   0.   0.   0.   0.   0.\n",
      "   0.   0.   0.   0.   0.   0.   0.   0.   0.   0.   0.   0.   0.   0.\n",
      "   0.   0.   0.   0.   0.   0.   0.   0.   0.   0.   0.   0.   0.   0.\n",
      "   0.   0.   0.   0.   0.   0.   0.   0.   0.   0.   0.   0.   0.   0.\n",
      "   0.   0.   0.   0.   0.   0.   0.   0.   0.   0.   0.   0.   0.   0.\n",
      "   0.   0.   0.   0.   0.   0.   0.   0.   0.   0.   0.   0.   0.   0.\n",
      "   0.   0.   0.   0.   0.   0.   0.   0.   0.   0.   0.   0.   0.   0.\n",
      "   0.   0.   0.   0.   0.   0.]\n",
      "Max slice: 134\n"
     ]
    },
    {
     "data": {
      "image/png": "[encoded data removed]",
      "text/plain": [
       "<Figure size 1000x500 with 2 Axes>"
      ]
     },
     "metadata": {},
     "output_type": "display_data"
    }
   ],
   "source": [
    "display_slices(dataset[20])"
   ]
  },
  {
   "cell_type": "markdown",
   "id": "64151db1",
   "metadata": {},
   "source": [
    "In the original code, they include labels in the test data as well. Also they have a function that checks that there is nonzero number of voxels in the label"
   ]
  },
  {
   "cell_type": "code",
   "execution_count": 43,
   "id": "1126595e-b5f8-439b-ac08-cee9c5460e1f",
   "metadata": {
    "tags": []
   },
   "outputs": [
    {
     "name": "stdout",
     "output_type": "stream",
     "text": [
      "Train num total: 121\n",
      "Test num: 13\n"
     ]
    }
   ],
   "source": [
    "#? I don't know why they put labels for the test data. the brats segmentation code didn't.\n",
    "# train_data = [{'image': path + '/flair.nii.gz', 'label': path + '/flair_chp_mask_qced.nii.gz'} for path in train_exams]\n",
    "# test_data = [{'image': path + '/flair.nii.gz', 'label': path + '/flair_chp_mask_qced.nii.gz'} for path in test_exams]\n",
    "\n",
    "train_data = []\n",
    "test_data = []\n",
    "for scan in dataset:\n",
    "    if scan.cond == 'tr' and scan.has_label:\n",
    "        train_data.append({\"image\": str(scan.image), \"label\": str(scan.label)})\n",
    "    elif scan.cond == 'ts' and scan.has_label():\n",
    "        test_data.append({\"image\": str(scan.image), \"label\": str(scan.label)})\n",
    "\n",
    "\n",
    "print(f\"Train num total: {len(train_data)}\")\n",
    "print(f\"Test num: {len(test_data)}\")"
   ]
  },
  {
   "cell_type": "code",
   "execution_count": 44,
   "id": "5a9debf7-a89b-455b-a14d-826971e603d3",
   "metadata": {
    "tags": []
   },
   "outputs": [],
   "source": [
    "n_folds = 5\n",
    "datalist = {\n",
    "    \"testing\": test_data,\n",
    "    \"training\": [{\"fold\": i % n_folds, \"image\": c[\"image\"], \"label\": c[\"label\"]} for i,c in enumerate(train_data)]\n",
    "}"
   ]
  },
  {
   "cell_type": "code",
   "execution_count": 45,
   "id": "20a28417-4acc-4721-a942-9fe46376753f",
   "metadata": {
    "tags": []
   },
   "outputs": [],
   "source": [
    "# sub_datalist = dict({'training':[], 'testing':[]})\n",
    "# sub_datalist[\"training\"] = datalist[\"training\"][:100]\n",
    "# sub_datalist[\"testing\"] = datalist[\"testing\"][:29]\n",
    "# datalist = sub_datalist"
   ]
  },
  {
   "cell_type": "code",
   "execution_count": 46,
   "id": "aaf29874",
   "metadata": {},
   "outputs": [
    {
     "data": {
      "text/plain": [
       "{'testing': [{'image': '/mnt/h/3Tpioneer_bids/sub-ms1029/ses-20170816/t1.nii.gz',\n",
       "   'label': '/mnt/h/3Tpioneer_bids/sub-ms1029/ses-20170816/pituitary.nii.gz'},\n",
       "  {'image': '/mnt/h/3Tpioneer_bids/sub-ms1037/ses-20210508/t1.nii.gz',\n",
       "   'label': '/mnt/h/3Tpioneer_bids/sub-ms1037/ses-20210508/pituitary.nii.gz'},\n",
       "  {'image': '/mnt/h/3Tpioneer_bids/sub-ms1052/ses-20180803/t1.nii.gz',\n",
       "   'label': '/mnt/h/3Tpioneer_bids/sub-ms1052/ses-20180803/pituitary.nii.gz'},\n",
       "  {'image': '/mnt/h/3Tpioneer_bids/sub-ms1057/ses-20181212/t1.nii.gz',\n",
       "   'label': '/mnt/h/3Tpioneer_bids/sub-ms1057/ses-20181212/pituitary.nii.gz'},\n",
       "  {'image': '/mnt/h/3Tpioneer_bids/sub-ms1103/ses-20191214/t1.nii.gz',\n",
       "   'label': '/mnt/h/3Tpioneer_bids/sub-ms1103/ses-20191214/pituitary.nii.gz'},\n",
       "  {'image': '/mnt/h/3Tpioneer_bids/sub-ms1111/ses-20161211/t1.nii.gz',\n",
       "   'label': '/mnt/h/3Tpioneer_bids/sub-ms1111/ses-20161211/pituitary.nii.gz'},\n",
       "  {'image': '/mnt/h/3Tpioneer_bids/sub-ms1207/ses-20180624/t1.nii.gz',\n",
       "   'label': '/mnt/h/3Tpioneer_bids/sub-ms1207/ses-20180624/pituitary.nii.gz'},\n",
       "  {'image': '/mnt/h/3Tpioneer_bids/sub-ms1224/ses-20181007/t1.nii.gz',\n",
       "   'label': '/mnt/h/3Tpioneer_bids/sub-ms1224/ses-20181007/pituitary.nii.gz'},\n",
       "  {'image': '/mnt/h/3Tpioneer_bids/sub-ms1241/ses-20161122/t1.nii.gz',\n",
       "   'label': '/mnt/h/3Tpioneer_bids/sub-ms1241/ses-20161122/pituitary.nii.gz'},\n",
       "  {'image': '/mnt/h/3Tpioneer_bids/sub-ms1248/ses-20160922/t1.nii.gz',\n",
       "   'label': '/mnt/h/3Tpioneer_bids/sub-ms1248/ses-20160922/pituitary.nii.gz'},\n",
       "  {'image': '/mnt/h/3Tpioneer_bids/sub-ms1323/ses-20191011/t1.nii.gz',\n",
       "   'label': '/mnt/h/3Tpioneer_bids/sub-ms1323/ses-20191011/pituitary.nii.gz'},\n",
       "  {'image': '/mnt/h/3Tpioneer_bids/sub-ms1401/ses-20170801/t1.nii.gz',\n",
       "   'label': '/mnt/h/3Tpioneer_bids/sub-ms1401/ses-20170801/pituitary.nii.gz'},\n",
       "  {'image': '/mnt/h/3Tpioneer_bids/sub-ms1492/ses-20190620/t1.nii.gz',\n",
       "   'label': '/mnt/h/3Tpioneer_bids/sub-ms1492/ses-20190620/pituitary.nii.gz'}],\n",
       " 'training': [{'fold': 0,\n",
       "   'image': '/mnt/h/3Tpioneer_bids/sub-ms1001/ses-20170215/t1.nii.gz',\n",
       "   'label': '/mnt/h/3Tpioneer_bids/sub-ms1001/ses-20170215/pituitary.nii.gz'},\n",
       "  {'fold': 1,\n",
       "   'image': '/mnt/h/3Tpioneer_bids/sub-ms1004/ses-20190906/t1.nii.gz',\n",
       "   'label': '/mnt/h/3Tpioneer_bids/sub-ms1004/ses-20190906/pituitary.nii.gz'},\n",
       "  {'fold': 2,\n",
       "   'image': '/mnt/h/3Tpioneer_bids/sub-ms1010/ses-20180208/t1.nii.gz',\n",
       "   'label': '/mnt/h/3Tpioneer_bids/sub-ms1010/ses-20180208/pituitary.nii.gz'},\n",
       "  {'fold': 3,\n",
       "   'image': '/mnt/h/3Tpioneer_bids/sub-ms1011/ses-20180911/t1.nii.gz',\n",
       "   'label': '/mnt/h/3Tpioneer_bids/sub-ms1011/ses-20180911/pituitary.nii.gz'},\n",
       "  {'fold': 4,\n",
       "   'image': '/mnt/h/3Tpioneer_bids/sub-ms1019/ses-20190608/t1.nii.gz',\n",
       "   'label': '/mnt/h/3Tpioneer_bids/sub-ms1019/ses-20190608/pituitary.nii.gz'},\n",
       "  {'fold': 0,\n",
       "   'image': '/mnt/h/3Tpioneer_bids/sub-ms1022/ses-20190807/t1.nii.gz',\n",
       "   'label': '/mnt/h/3Tpioneer_bids/sub-ms1022/ses-20190807/pituitary.nii.gz'},\n",
       "  {'fold': 1,\n",
       "   'image': '/mnt/h/3Tpioneer_bids/sub-ms1028/ses-20190608/t1.nii.gz',\n",
       "   'label': '/mnt/h/3Tpioneer_bids/sub-ms1028/ses-20190608/pituitary.nii.gz'},\n",
       "  {'fold': 2,\n",
       "   'image': '/mnt/h/3Tpioneer_bids/sub-ms1030/ses-20200304/t1.nii.gz',\n",
       "   'label': '/mnt/h/3Tpioneer_bids/sub-ms1030/ses-20200304/pituitary.nii.gz'},\n",
       "  {'fold': 3,\n",
       "   'image': '/mnt/h/3Tpioneer_bids/sub-ms1033/ses-20171117/t1.nii.gz',\n",
       "   'label': '/mnt/h/3Tpioneer_bids/sub-ms1033/ses-20171117/pituitary.nii.gz'},\n",
       "  {'fold': 4,\n",
       "   'image': '/mnt/h/3Tpioneer_bids/sub-ms1036/ses-20191027/t1.nii.gz',\n",
       "   'label': '/mnt/h/3Tpioneer_bids/sub-ms1036/ses-20191027/pituitary.nii.gz'},\n",
       "  {'fold': 0,\n",
       "   'image': '/mnt/h/3Tpioneer_bids/sub-ms1042/ses-20161013/t1.nii.gz',\n",
       "   'label': '/mnt/h/3Tpioneer_bids/sub-ms1042/ses-20161013/pituitary.nii.gz'},\n",
       "  {'fold': 1,\n",
       "   'image': '/mnt/h/3Tpioneer_bids/sub-ms1050/ses-20170624/t1.nii.gz',\n",
       "   'label': '/mnt/h/3Tpioneer_bids/sub-ms1050/ses-20170624/pituitary.nii.gz'},\n",
       "  {'fold': 2,\n",
       "   'image': '/mnt/h/3Tpioneer_bids/sub-ms1054/ses-20161006/t1.nii.gz',\n",
       "   'label': '/mnt/h/3Tpioneer_bids/sub-ms1054/ses-20161006/pituitary.nii.gz'},\n",
       "  {'fold': 3,\n",
       "   'image': '/mnt/h/3Tpioneer_bids/sub-ms1066/ses-20180828/t1.nii.gz',\n",
       "   'label': '/mnt/h/3Tpioneer_bids/sub-ms1066/ses-20180828/pituitary.nii.gz'},\n",
       "  {'fold': 4,\n",
       "   'image': '/mnt/h/3Tpioneer_bids/sub-ms1068/ses-20181220/t1.nii.gz',\n",
       "   'label': '/mnt/h/3Tpioneer_bids/sub-ms1068/ses-20181220/pituitary.nii.gz'},\n",
       "  {'fold': 0,\n",
       "   'image': '/mnt/h/3Tpioneer_bids/sub-ms1070/ses-20161025/t1.nii.gz',\n",
       "   'label': '/mnt/h/3Tpioneer_bids/sub-ms1070/ses-20161025/pituitary.nii.gz'},\n",
       "  {'fold': 1,\n",
       "   'image': '/mnt/h/3Tpioneer_bids/sub-ms1072/ses-20180615/t1.nii.gz',\n",
       "   'label': '/mnt/h/3Tpioneer_bids/sub-ms1072/ses-20180615/pituitary.nii.gz'},\n",
       "  {'fold': 2,\n",
       "   'image': '/mnt/h/3Tpioneer_bids/sub-ms1078/ses-20180412/t1.nii.gz',\n",
       "   'label': '/mnt/h/3Tpioneer_bids/sub-ms1078/ses-20180412/pituitary.nii.gz'},\n",
       "  {'fold': 3,\n",
       "   'image': '/mnt/h/3Tpioneer_bids/sub-ms1082/ses-20161218/t1.nii.gz',\n",
       "   'label': '/mnt/h/3Tpioneer_bids/sub-ms1082/ses-20161218/pituitary.nii.gz'},\n",
       "  {'fold': 4,\n",
       "   'image': '/mnt/h/3Tpioneer_bids/sub-ms1085/ses-20220228/t1.nii.gz',\n",
       "   'label': '/mnt/h/3Tpioneer_bids/sub-ms1085/ses-20220228/pituitary.nii.gz'},\n",
       "  {'fold': 0,\n",
       "   'image': '/mnt/h/3Tpioneer_bids/sub-ms1087/ses-20200717/t1.nii.gz',\n",
       "   'label': '/mnt/h/3Tpioneer_bids/sub-ms1087/ses-20200717/pituitary.nii.gz'},\n",
       "  {'fold': 1,\n",
       "   'image': '/mnt/h/3Tpioneer_bids/sub-ms1089/ses-20210612/t1.nii.gz',\n",
       "   'label': '/mnt/h/3Tpioneer_bids/sub-ms1089/ses-20210612/pituitary.nii.gz'},\n",
       "  {'fold': 2,\n",
       "   'image': '/mnt/h/3Tpioneer_bids/sub-ms1090/ses-20201206/t1.nii.gz',\n",
       "   'label': '/mnt/h/3Tpioneer_bids/sub-ms1090/ses-20201206/pituitary.nii.gz'},\n",
       "  {'fold': 3,\n",
       "   'image': '/mnt/h/3Tpioneer_bids/sub-ms1097/ses-20200522/t1.nii.gz',\n",
       "   'label': '/mnt/h/3Tpioneer_bids/sub-ms1097/ses-20200522/pituitary.nii.gz'},\n",
       "  {'fold': 4,\n",
       "   'image': '/mnt/h/3Tpioneer_bids/sub-ms1098/ses-20171105/t1.nii.gz',\n",
       "   'label': '/mnt/h/3Tpioneer_bids/sub-ms1098/ses-20171105/pituitary.nii.gz'},\n",
       "  {'fold': 0,\n",
       "   'image': '/mnt/h/3Tpioneer_bids/sub-ms1108/ses-20180110/t1.nii.gz',\n",
       "   'label': '/mnt/h/3Tpioneer_bids/sub-ms1108/ses-20180110/pituitary.nii.gz'},\n",
       "  {'fold': 1,\n",
       "   'image': '/mnt/h/3Tpioneer_bids/sub-ms1113/ses-20170526/t1.nii.gz',\n",
       "   'label': '/mnt/h/3Tpioneer_bids/sub-ms1113/ses-20170526/pituitary.nii.gz'},\n",
       "  {'fold': 2,\n",
       "   'image': '/mnt/h/3Tpioneer_bids/sub-ms1121/ses-20170530/t1.nii.gz',\n",
       "   'label': '/mnt/h/3Tpioneer_bids/sub-ms1121/ses-20170530/pituitary.nii.gz'},\n",
       "  {'fold': 3,\n",
       "   'image': '/mnt/h/3Tpioneer_bids/sub-ms1124/ses-20160929/t1.nii.gz',\n",
       "   'label': '/mnt/h/3Tpioneer_bids/sub-ms1124/ses-20160929/pituitary.nii.gz'},\n",
       "  {'fold': 4,\n",
       "   'image': '/mnt/h/3Tpioneer_bids/sub-ms1126/ses-20170609/t1.nii.gz',\n",
       "   'label': '/mnt/h/3Tpioneer_bids/sub-ms1126/ses-20170609/pituitary.nii.gz'},\n",
       "  {'fold': 0,\n",
       "   'image': '/mnt/h/3Tpioneer_bids/sub-ms1129/ses-20200120/t1.nii.gz',\n",
       "   'label': '/mnt/h/3Tpioneer_bids/sub-ms1129/ses-20200120/pituitary.nii.gz'},\n",
       "  {'fold': 1,\n",
       "   'image': '/mnt/h/3Tpioneer_bids/sub-ms1130/ses-20180902/t1.nii.gz',\n",
       "   'label': '/mnt/h/3Tpioneer_bids/sub-ms1130/ses-20180902/pituitary.nii.gz'},\n",
       "  {'fold': 2,\n",
       "   'image': '/mnt/h/3Tpioneer_bids/sub-ms1131/ses-20161209/t1.nii.gz',\n",
       "   'label': '/mnt/h/3Tpioneer_bids/sub-ms1131/ses-20161209/pituitary.nii.gz'},\n",
       "  {'fold': 3,\n",
       "   'image': '/mnt/h/3Tpioneer_bids/sub-ms1141/ses-20200819/t1.nii.gz',\n",
       "   'label': '/mnt/h/3Tpioneer_bids/sub-ms1141/ses-20200819/pituitary.nii.gz'},\n",
       "  {'fold': 4,\n",
       "   'image': '/mnt/h/3Tpioneer_bids/sub-ms1142/ses-20170715/t1.nii.gz',\n",
       "   'label': '/mnt/h/3Tpioneer_bids/sub-ms1142/ses-20170715/pituitary.nii.gz'},\n",
       "  {'fold': 0,\n",
       "   'image': '/mnt/h/3Tpioneer_bids/sub-ms1143/ses-20190126/t1.nii.gz',\n",
       "   'label': '/mnt/h/3Tpioneer_bids/sub-ms1143/ses-20190126/pituitary.nii.gz'},\n",
       "  {'fold': 1,\n",
       "   'image': '/mnt/h/3Tpioneer_bids/sub-ms1145/ses-20191126/t1.nii.gz',\n",
       "   'label': '/mnt/h/3Tpioneer_bids/sub-ms1145/ses-20191126/pituitary.nii.gz'},\n",
       "  {'fold': 2,\n",
       "   'image': '/mnt/h/3Tpioneer_bids/sub-ms1146/ses-20190821/t1.nii.gz',\n",
       "   'label': '/mnt/h/3Tpioneer_bids/sub-ms1146/ses-20190821/pituitary.nii.gz'},\n",
       "  {'fold': 3,\n",
       "   'image': '/mnt/h/3Tpioneer_bids/sub-ms1148/ses-20170618/t1.nii.gz',\n",
       "   'label': '/mnt/h/3Tpioneer_bids/sub-ms1148/ses-20170618/pituitary.nii.gz'},\n",
       "  {'fold': 4,\n",
       "   'image': '/mnt/h/3Tpioneer_bids/sub-ms1150/ses-20170724/t1.nii.gz',\n",
       "   'label': '/mnt/h/3Tpioneer_bids/sub-ms1150/ses-20170724/pituitary.nii.gz'},\n",
       "  {'fold': 0,\n",
       "   'image': '/mnt/h/3Tpioneer_bids/sub-ms1153/ses-20181010/t1.nii.gz',\n",
       "   'label': '/mnt/h/3Tpioneer_bids/sub-ms1153/ses-20181010/pituitary.nii.gz'},\n",
       "  {'fold': 1,\n",
       "   'image': '/mnt/h/3Tpioneer_bids/sub-ms1155/ses-20180708/t1.nii.gz',\n",
       "   'label': '/mnt/h/3Tpioneer_bids/sub-ms1155/ses-20180708/pituitary.nii.gz'},\n",
       "  {'fold': 2,\n",
       "   'image': '/mnt/h/3Tpioneer_bids/sub-ms1161/ses-20191028/t1.nii.gz',\n",
       "   'label': '/mnt/h/3Tpioneer_bids/sub-ms1161/ses-20191028/pituitary.nii.gz'},\n",
       "  {'fold': 3,\n",
       "   'image': '/mnt/h/3Tpioneer_bids/sub-ms1174/ses-20171119/t1.nii.gz',\n",
       "   'label': '/mnt/h/3Tpioneer_bids/sub-ms1174/ses-20171119/pituitary.nii.gz'},\n",
       "  {'fold': 4,\n",
       "   'image': '/mnt/h/3Tpioneer_bids/sub-ms1177/ses-20180813/t1.nii.gz',\n",
       "   'label': '/mnt/h/3Tpioneer_bids/sub-ms1177/ses-20180813/pituitary.nii.gz'},\n",
       "  {'fold': 0,\n",
       "   'image': '/mnt/h/3Tpioneer_bids/sub-ms1198/ses-20170612/t1.nii.gz',\n",
       "   'label': '/mnt/h/3Tpioneer_bids/sub-ms1198/ses-20170612/pituitary.nii.gz'},\n",
       "  {'fold': 1,\n",
       "   'image': '/mnt/h/3Tpioneer_bids/sub-ms1199/ses-20190531/t1.nii.gz',\n",
       "   'label': '/mnt/h/3Tpioneer_bids/sub-ms1199/ses-20190531/pituitary.nii.gz'},\n",
       "  {'fold': 2,\n",
       "   'image': '/mnt/h/3Tpioneer_bids/sub-ms1201/ses-20161021/t1.nii.gz',\n",
       "   'label': '/mnt/h/3Tpioneer_bids/sub-ms1201/ses-20161021/pituitary.nii.gz'},\n",
       "  {'fold': 3,\n",
       "   'image': '/mnt/h/3Tpioneer_bids/sub-ms1209/ses-20170711/t1.nii.gz',\n",
       "   'label': '/mnt/h/3Tpioneer_bids/sub-ms1209/ses-20170711/pituitary.nii.gz'},\n",
       "  {'fold': 4,\n",
       "   'image': '/mnt/h/3Tpioneer_bids/sub-ms1210/ses-20161104/t1.nii.gz',\n",
       "   'label': '/mnt/h/3Tpioneer_bids/sub-ms1210/ses-20161104/pituitary.nii.gz'},\n",
       "  {'fold': 0,\n",
       "   'image': '/mnt/h/3Tpioneer_bids/sub-ms1214/ses-20180815/t1.nii.gz',\n",
       "   'label': '/mnt/h/3Tpioneer_bids/sub-ms1214/ses-20180815/pituitary.nii.gz'},\n",
       "  {'fold': 1,\n",
       "   'image': '/mnt/h/3Tpioneer_bids/sub-ms1216/ses-20170113/t1.nii.gz',\n",
       "   'label': '/mnt/h/3Tpioneer_bids/sub-ms1216/ses-20170113/pituitary.nii.gz'},\n",
       "  {'fold': 2,\n",
       "   'image': '/mnt/h/3Tpioneer_bids/sub-ms1228/ses-20170616/t1.nii.gz',\n",
       "   'label': '/mnt/h/3Tpioneer_bids/sub-ms1228/ses-20170616/pituitary.nii.gz'},\n",
       "  {'fold': 3,\n",
       "   'image': '/mnt/h/3Tpioneer_bids/sub-ms1229/ses-20170715/t1.nii.gz',\n",
       "   'label': '/mnt/h/3Tpioneer_bids/sub-ms1229/ses-20170715/pituitary.nii.gz'},\n",
       "  {'fold': 4,\n",
       "   'image': '/mnt/h/3Tpioneer_bids/sub-ms1246/ses-20160915/t1.nii.gz',\n",
       "   'label': '/mnt/h/3Tpioneer_bids/sub-ms1246/ses-20160915/pituitary.nii.gz'},\n",
       "  {'fold': 0,\n",
       "   'image': '/mnt/h/3Tpioneer_bids/sub-ms1247/ses-20190905/t1.nii.gz',\n",
       "   'label': '/mnt/h/3Tpioneer_bids/sub-ms1247/ses-20190905/pituitary.nii.gz'},\n",
       "  {'fold': 1,\n",
       "   'image': '/mnt/h/3Tpioneer_bids/sub-ms1250/ses-20170623/t1.nii.gz',\n",
       "   'label': '/mnt/h/3Tpioneer_bids/sub-ms1250/ses-20170623/pituitary.nii.gz'},\n",
       "  {'fold': 2,\n",
       "   'image': '/mnt/h/3Tpioneer_bids/sub-ms1251/ses-20200507/t1.nii.gz',\n",
       "   'label': '/mnt/h/3Tpioneer_bids/sub-ms1251/ses-20200507/pituitary.nii.gz'},\n",
       "  {'fold': 3,\n",
       "   'image': '/mnt/h/3Tpioneer_bids/sub-ms1256/ses-20170601/t1.nii.gz',\n",
       "   'label': '/mnt/h/3Tpioneer_bids/sub-ms1256/ses-20170601/pituitary.nii.gz'},\n",
       "  {'fold': 4,\n",
       "   'image': '/mnt/h/3Tpioneer_bids/sub-ms1260/ses-20210211/t1.nii.gz',\n",
       "   'label': '/mnt/h/3Tpioneer_bids/sub-ms1260/ses-20210211/pituitary.nii.gz'},\n",
       "  {'fold': 0,\n",
       "   'image': '/mnt/h/3Tpioneer_bids/sub-ms1261/ses-20180826/t1.nii.gz',\n",
       "   'label': '/mnt/h/3Tpioneer_bids/sub-ms1261/ses-20180826/pituitary.nii.gz'},\n",
       "  {'fold': 1,\n",
       "   'image': '/mnt/h/3Tpioneer_bids/sub-ms1262/ses-20170402/t1.nii.gz',\n",
       "   'label': '/mnt/h/3Tpioneer_bids/sub-ms1262/ses-20170402/pituitary.nii.gz'},\n",
       "  {'fold': 2,\n",
       "   'image': '/mnt/h/3Tpioneer_bids/sub-ms1263/ses-20200809/t1.nii.gz',\n",
       "   'label': '/mnt/h/3Tpioneer_bids/sub-ms1263/ses-20200809/pituitary.nii.gz'},\n",
       "  {'fold': 3,\n",
       "   'image': '/mnt/h/3Tpioneer_bids/sub-ms1264/ses-20170806/t1.nii.gz',\n",
       "   'label': '/mnt/h/3Tpioneer_bids/sub-ms1264/ses-20170806/pituitary.nii.gz'},\n",
       "  {'fold': 4,\n",
       "   'image': '/mnt/h/3Tpioneer_bids/sub-ms1267/ses-20210105/t1.nii.gz',\n",
       "   'label': '/mnt/h/3Tpioneer_bids/sub-ms1267/ses-20210105/pituitary.nii.gz'},\n",
       "  {'fold': 0,\n",
       "   'image': '/mnt/h/3Tpioneer_bids/sub-ms1272/ses-20211105/t1.nii.gz',\n",
       "   'label': '/mnt/h/3Tpioneer_bids/sub-ms1272/ses-20211105/pituitary.nii.gz'},\n",
       "  {'fold': 1,\n",
       "   'image': '/mnt/h/3Tpioneer_bids/sub-ms1276/ses-20190329/t1.nii.gz',\n",
       "   'label': '/mnt/h/3Tpioneer_bids/sub-ms1276/ses-20190329/pituitary.nii.gz'},\n",
       "  {'fold': 2,\n",
       "   'image': '/mnt/h/3Tpioneer_bids/sub-ms1281/ses-20180705/t1.nii.gz',\n",
       "   'label': '/mnt/h/3Tpioneer_bids/sub-ms1281/ses-20180705/pituitary.nii.gz'},\n",
       "  {'fold': 3,\n",
       "   'image': '/mnt/h/3Tpioneer_bids/sub-ms1289/ses-20200821/t1.nii.gz',\n",
       "   'label': '/mnt/h/3Tpioneer_bids/sub-ms1289/ses-20200821/pituitary.nii.gz'},\n",
       "  {'fold': 4,\n",
       "   'image': '/mnt/h/3Tpioneer_bids/sub-ms1292/ses-20170509/t1.nii.gz',\n",
       "   'label': '/mnt/h/3Tpioneer_bids/sub-ms1292/ses-20170509/pituitary.nii.gz'},\n",
       "  {'fold': 0,\n",
       "   'image': '/mnt/h/3Tpioneer_bids/sub-ms1296/ses-20180427/t1.nii.gz',\n",
       "   'label': '/mnt/h/3Tpioneer_bids/sub-ms1296/ses-20180427/pituitary.nii.gz'},\n",
       "  {'fold': 1,\n",
       "   'image': '/mnt/h/3Tpioneer_bids/sub-ms1299/ses-20200417/t1.nii.gz',\n",
       "   'label': '/mnt/h/3Tpioneer_bids/sub-ms1299/ses-20200417/pituitary.nii.gz'},\n",
       "  {'fold': 2,\n",
       "   'image': '/mnt/h/3Tpioneer_bids/sub-ms1304/ses-20170608/t1.nii.gz',\n",
       "   'label': '/mnt/h/3Tpioneer_bids/sub-ms1304/ses-20170608/pituitary.nii.gz'},\n",
       "  {'fold': 3,\n",
       "   'image': '/mnt/h/3Tpioneer_bids/sub-ms1307/ses-20210618/t1.nii.gz',\n",
       "   'label': '/mnt/h/3Tpioneer_bids/sub-ms1307/ses-20210618/pituitary.nii.gz'},\n",
       "  {'fold': 4,\n",
       "   'image': '/mnt/h/3Tpioneer_bids/sub-ms1311/ses-20161005/t1.nii.gz',\n",
       "   'label': '/mnt/h/3Tpioneer_bids/sub-ms1311/ses-20161005/pituitary.nii.gz'},\n",
       "  {'fold': 0,\n",
       "   'image': '/mnt/h/3Tpioneer_bids/sub-ms1313/ses-20180706/t1.nii.gz',\n",
       "   'label': '/mnt/h/3Tpioneer_bids/sub-ms1313/ses-20180706/pituitary.nii.gz'},\n",
       "  {'fold': 1,\n",
       "   'image': '/mnt/h/3Tpioneer_bids/sub-ms1315/ses-20200913/t1.nii.gz',\n",
       "   'label': '/mnt/h/3Tpioneer_bids/sub-ms1315/ses-20200913/pituitary.nii.gz'},\n",
       "  {'fold': 2,\n",
       "   'image': '/mnt/h/3Tpioneer_bids/sub-ms1316/ses-20180810/t1.nii.gz',\n",
       "   'label': '/mnt/h/3Tpioneer_bids/sub-ms1316/ses-20180810/pituitary.nii.gz'},\n",
       "  {'fold': 3,\n",
       "   'image': '/mnt/h/3Tpioneer_bids/sub-ms1322/ses-20180331/t1.nii.gz',\n",
       "   'label': '/mnt/h/3Tpioneer_bids/sub-ms1322/ses-20180331/pituitary.nii.gz'},\n",
       "  {'fold': 4,\n",
       "   'image': '/mnt/h/3Tpioneer_bids/sub-ms1324/ses-20210123/t1.nii.gz',\n",
       "   'label': '/mnt/h/3Tpioneer_bids/sub-ms1324/ses-20210123/pituitary.nii.gz'},\n",
       "  {'fold': 0,\n",
       "   'image': '/mnt/h/3Tpioneer_bids/sub-ms1327/ses-20170426/t1.nii.gz',\n",
       "   'label': '/mnt/h/3Tpioneer_bids/sub-ms1327/ses-20170426/pituitary.nii.gz'},\n",
       "  {'fold': 1,\n",
       "   'image': '/mnt/h/3Tpioneer_bids/sub-ms1328/ses-20170828/t1.nii.gz',\n",
       "   'label': '/mnt/h/3Tpioneer_bids/sub-ms1328/ses-20170828/pituitary.nii.gz'},\n",
       "  {'fold': 2,\n",
       "   'image': '/mnt/h/3Tpioneer_bids/sub-ms1333/ses-20171030/t1.nii.gz',\n",
       "   'label': '/mnt/h/3Tpioneer_bids/sub-ms1333/ses-20171030/pituitary.nii.gz'},\n",
       "  {'fold': 3,\n",
       "   'image': '/mnt/h/3Tpioneer_bids/sub-ms1334/ses-20171212/t1.nii.gz',\n",
       "   'label': '/mnt/h/3Tpioneer_bids/sub-ms1334/ses-20171212/pituitary.nii.gz'},\n",
       "  {'fold': 4,\n",
       "   'image': '/mnt/h/3Tpioneer_bids/sub-ms1335/ses-20170906/t1.nii.gz',\n",
       "   'label': '/mnt/h/3Tpioneer_bids/sub-ms1335/ses-20170906/pituitary.nii.gz'},\n",
       "  {'fold': 0,\n",
       "   'image': '/mnt/h/3Tpioneer_bids/sub-ms1339/ses-20170426/t1.nii.gz',\n",
       "   'label': '/mnt/h/3Tpioneer_bids/sub-ms1339/ses-20170426/pituitary.nii.gz'},\n",
       "  {'fold': 1,\n",
       "   'image': '/mnt/h/3Tpioneer_bids/sub-ms1344/ses-20160925/t1.nii.gz',\n",
       "   'label': '/mnt/h/3Tpioneer_bids/sub-ms1344/ses-20160925/pituitary.nii.gz'},\n",
       "  {'fold': 2,\n",
       "   'image': '/mnt/h/3Tpioneer_bids/sub-ms1346/ses-20201012/t1.nii.gz',\n",
       "   'label': '/mnt/h/3Tpioneer_bids/sub-ms1346/ses-20201012/pituitary.nii.gz'},\n",
       "  {'fold': 3,\n",
       "   'image': '/mnt/h/3Tpioneer_bids/sub-ms1348/ses-20181009/t1.nii.gz',\n",
       "   'label': '/mnt/h/3Tpioneer_bids/sub-ms1348/ses-20181009/pituitary.nii.gz'},\n",
       "  {'fold': 4,\n",
       "   'image': '/mnt/h/3Tpioneer_bids/sub-ms1351/ses-20210416/t1.nii.gz',\n",
       "   'label': '/mnt/h/3Tpioneer_bids/sub-ms1351/ses-20210416/pituitary.nii.gz'},\n",
       "  {'fold': 0,\n",
       "   'image': '/mnt/h/3Tpioneer_bids/sub-ms1357/ses-20210218/t1.nii.gz',\n",
       "   'label': '/mnt/h/3Tpioneer_bids/sub-ms1357/ses-20210218/pituitary.nii.gz'},\n",
       "  {'fold': 1,\n",
       "   'image': '/mnt/h/3Tpioneer_bids/sub-ms1364/ses-20170705/t1.nii.gz',\n",
       "   'label': '/mnt/h/3Tpioneer_bids/sub-ms1364/ses-20170705/pituitary.nii.gz'},\n",
       "  {'fold': 2,\n",
       "   'image': '/mnt/h/3Tpioneer_bids/sub-ms1367/ses-20171028/t1.nii.gz',\n",
       "   'label': '/mnt/h/3Tpioneer_bids/sub-ms1367/ses-20171028/pituitary.nii.gz'},\n",
       "  {'fold': 3,\n",
       "   'image': '/mnt/h/3Tpioneer_bids/sub-ms1369/ses-20190606/t1.nii.gz',\n",
       "   'label': '/mnt/h/3Tpioneer_bids/sub-ms1369/ses-20190606/pituitary.nii.gz'},\n",
       "  {'fold': 4,\n",
       "   'image': '/mnt/h/3Tpioneer_bids/sub-ms1371/ses-20170208/t1.nii.gz',\n",
       "   'label': '/mnt/h/3Tpioneer_bids/sub-ms1371/ses-20170208/pituitary.nii.gz'},\n",
       "  {'fold': 0,\n",
       "   'image': '/mnt/h/3Tpioneer_bids/sub-ms1382/ses-20170511/t1.nii.gz',\n",
       "   'label': '/mnt/h/3Tpioneer_bids/sub-ms1382/ses-20170511/pituitary.nii.gz'},\n",
       "  {'fold': 1,\n",
       "   'image': '/mnt/h/3Tpioneer_bids/sub-ms1384/ses-20170203/t1.nii.gz',\n",
       "   'label': '/mnt/h/3Tpioneer_bids/sub-ms1384/ses-20170203/pituitary.nii.gz'},\n",
       "  {'fold': 2,\n",
       "   'image': '/mnt/h/3Tpioneer_bids/sub-ms1391/ses-20201207/t1.nii.gz',\n",
       "   'label': '/mnt/h/3Tpioneer_bids/sub-ms1391/ses-20201207/pituitary.nii.gz'},\n",
       "  {'fold': 3,\n",
       "   'image': '/mnt/h/3Tpioneer_bids/sub-ms1392/ses-20201221/t1.nii.gz',\n",
       "   'label': '/mnt/h/3Tpioneer_bids/sub-ms1392/ses-20201221/pituitary.nii.gz'},\n",
       "  {'fold': 4,\n",
       "   'image': '/mnt/h/3Tpioneer_bids/sub-ms1394/ses-20191012/t1.nii.gz',\n",
       "   'label': '/mnt/h/3Tpioneer_bids/sub-ms1394/ses-20191012/pituitary.nii.gz'},\n",
       "  {'fold': 0,\n",
       "   'image': '/mnt/h/3Tpioneer_bids/sub-ms1400/ses-20171003/t1.nii.gz',\n",
       "   'label': '/mnt/h/3Tpioneer_bids/sub-ms1400/ses-20171003/pituitary.nii.gz'},\n",
       "  {'fold': 1,\n",
       "   'image': '/mnt/h/3Tpioneer_bids/sub-ms1405/ses-20190407/t1.nii.gz',\n",
       "   'label': '/mnt/h/3Tpioneer_bids/sub-ms1405/ses-20190407/pituitary.nii.gz'},\n",
       "  {'fold': 2,\n",
       "   'image': '/mnt/h/3Tpioneer_bids/sub-ms1414/ses-20200316/t1.nii.gz',\n",
       "   'label': '/mnt/h/3Tpioneer_bids/sub-ms1414/ses-20200316/pituitary.nii.gz'},\n",
       "  {'fold': 3,\n",
       "   'image': '/mnt/h/3Tpioneer_bids/sub-ms1415/ses-20200323/t1.nii.gz',\n",
       "   'label': '/mnt/h/3Tpioneer_bids/sub-ms1415/ses-20200323/pituitary.nii.gz'},\n",
       "  {'fold': 4,\n",
       "   'image': '/mnt/h/3Tpioneer_bids/sub-ms1417/ses-20170701/t1.nii.gz',\n",
       "   'label': '/mnt/h/3Tpioneer_bids/sub-ms1417/ses-20170701/pituitary.nii.gz'},\n",
       "  {'fold': 0,\n",
       "   'image': '/mnt/h/3Tpioneer_bids/sub-ms1427/ses-20190122/t1.nii.gz',\n",
       "   'label': '/mnt/h/3Tpioneer_bids/sub-ms1427/ses-20190122/pituitary.nii.gz'},\n",
       "  {'fold': 1,\n",
       "   'image': '/mnt/h/3Tpioneer_bids/sub-ms1428/ses-20210711/t1.nii.gz',\n",
       "   'label': '/mnt/h/3Tpioneer_bids/sub-ms1428/ses-20210711/pituitary.nii.gz'},\n",
       "  {'fold': 2,\n",
       "   'image': '/mnt/h/3Tpioneer_bids/sub-ms1432/ses-20170622/t1.nii.gz',\n",
       "   'label': '/mnt/h/3Tpioneer_bids/sub-ms1432/ses-20170622/pituitary.nii.gz'},\n",
       "  {'fold': 3,\n",
       "   'image': '/mnt/h/3Tpioneer_bids/sub-ms1433/ses-20201230/t1.nii.gz',\n",
       "   'label': '/mnt/h/3Tpioneer_bids/sub-ms1433/ses-20201230/pituitary.nii.gz'},\n",
       "  {'fold': 4,\n",
       "   'image': '/mnt/h/3Tpioneer_bids/sub-ms1435/ses-20200903/t1.nii.gz',\n",
       "   'label': '/mnt/h/3Tpioneer_bids/sub-ms1435/ses-20200903/pituitary.nii.gz'},\n",
       "  {'fold': 0,\n",
       "   'image': '/mnt/h/3Tpioneer_bids/sub-ms1442/ses-20170720/t1.nii.gz',\n",
       "   'label': '/mnt/h/3Tpioneer_bids/sub-ms1442/ses-20170720/pituitary.nii.gz'},\n",
       "  {'fold': 1,\n",
       "   'image': '/mnt/h/3Tpioneer_bids/sub-ms1451/ses-20220301/t1.nii.gz',\n",
       "   'label': '/mnt/h/3Tpioneer_bids/sub-ms1451/ses-20220301/pituitary.nii.gz'},\n",
       "  {'fold': 2,\n",
       "   'image': '/mnt/h/3Tpioneer_bids/sub-ms1464/ses-20191217/t1.nii.gz',\n",
       "   'label': '/mnt/h/3Tpioneer_bids/sub-ms1464/ses-20191217/pituitary.nii.gz'},\n",
       "  {'fold': 3,\n",
       "   'image': '/mnt/h/3Tpioneer_bids/sub-ms1472/ses-20200921/t1.nii.gz',\n",
       "   'label': '/mnt/h/3Tpioneer_bids/sub-ms1472/ses-20200921/pituitary.nii.gz'},\n",
       "  {'fold': 4,\n",
       "   'image': '/mnt/h/3Tpioneer_bids/sub-ms1473/ses-20170629/t1.nii.gz',\n",
       "   'label': '/mnt/h/3Tpioneer_bids/sub-ms1473/ses-20170629/pituitary.nii.gz'},\n",
       "  {'fold': 0,\n",
       "   'image': '/mnt/h/3Tpioneer_bids/sub-ms1479/ses-20161018/t1.nii.gz',\n",
       "   'label': '/mnt/h/3Tpioneer_bids/sub-ms1479/ses-20161018/pituitary.nii.gz'},\n",
       "  {'fold': 1,\n",
       "   'image': '/mnt/h/3Tpioneer_bids/sub-ms1482/ses-20170309/t1.nii.gz',\n",
       "   'label': '/mnt/h/3Tpioneer_bids/sub-ms1482/ses-20170309/pituitary.nii.gz'},\n",
       "  {'fold': 2,\n",
       "   'image': '/mnt/h/3Tpioneer_bids/sub-ms1484/ses-20220212/t1.nii.gz',\n",
       "   'label': '/mnt/h/3Tpioneer_bids/sub-ms1484/ses-20220212/pituitary.nii.gz'},\n",
       "  {'fold': 3,\n",
       "   'image': '/mnt/h/3Tpioneer_bids/sub-ms1486/ses-20210224/t1.nii.gz',\n",
       "   'label': '/mnt/h/3Tpioneer_bids/sub-ms1486/ses-20210224/pituitary.nii.gz'},\n",
       "  {'fold': 4,\n",
       "   'image': '/mnt/h/3Tpioneer_bids/sub-ms1488/ses-20210905/t1.nii.gz',\n",
       "   'label': '/mnt/h/3Tpioneer_bids/sub-ms1488/ses-20210905/pituitary.nii.gz'},\n",
       "  {'fold': 0,\n",
       "   'image': '/mnt/h/3Tpioneer_bids/sub-ms1489/ses-20211109/t1.nii.gz',\n",
       "   'label': '/mnt/h/3Tpioneer_bids/sub-ms1489/ses-20211109/pituitary.nii.gz'}]}"
      ]
     },
     "execution_count": 46,
     "metadata": {},
     "output_type": "execute_result"
    }
   ],
   "source": [
    "datalist"
   ]
  },
  {
   "cell_type": "code",
   "execution_count": 47,
   "id": "7b3d2864",
   "metadata": {},
   "outputs": [
    {
     "data": {
      "text/plain": [
       "121"
      ]
     },
     "execution_count": 47,
     "metadata": {},
     "output_type": "execute_result"
    }
   ],
   "source": [
    "len(datalist['training'])"
   ]
  },
  {
   "cell_type": "code",
   "execution_count": 48,
   "id": "79e79f57-8c40-4bf0-b588-d8bada8bc9b6",
   "metadata": {
    "tags": []
   },
   "outputs": [],
   "source": [
    "work_dir = \"/home/srs-9/Projects/ms_mri/training_work_dirs/cp_work_dir_pituitary1\"\n",
    "# work_dir = \"/home/hemondlab/Dev/ms_mri/training_work_dirs/cp_work_dir6\"\n",
    "if not os.path.isdir(work_dir):\n",
    "    os.makedirs(work_dir)\n",
    "\n",
    "dataroot_dir = \"/mnt/h\"\n",
    "if not os.path.isdir(dataroot_dir):\n",
    "    os.makedirs(dataroot_dir)\n",
    "\n",
    "datalist_file = os.path.join(work_dir, \"datalist.json\")\n",
    "with open(datalist_file, \"w\") as f:\n",
    "    json.dump(datalist, f)"
   ]
  },
  {
   "cell_type": "code",
   "execution_count": 49,
   "id": "7c65f5fa-6ec7-4974-b90f-a51cc70263e8",
   "metadata": {
    "tags": []
   },
   "outputs": [
    {
     "name": "stdout",
     "output_type": "stream",
     "text": [
      "2024-08-31 19:43:41,260 - INFO - AutoRunner using work directory /home/srs-9/Projects/ms_mri/training_work_dirs/cp_work_dir_pituitary1\n",
      "2024-08-31 19:43:41,262 - INFO - Found num_fold 5 based on the input datalist /home/srs-9/Projects/ms_mri/training_work_dirs/cp_work_dir_pituitary1/datalist.json.\n",
      "2024-08-31 19:43:41,262 - INFO - Setting num_fold 5 based on the input datalist /home/srs-9/Projects/ms_mri/training_work_dirs/cp_work_dir_pituitary1/datalist.json.\n",
      "2024-08-31 19:43:41,264 - INFO - Using user defined command running prefix , will override other settings\n"
     ]
    }
   ],
   "source": [
    "runner = AutoRunner(\n",
    "    work_dir=work_dir,\n",
    "    algos=[\"swinunetr\"],\n",
    "    input={\n",
    "        \"modality\": \"MRI\",\n",
    "        \"datalist\": datalist_file,\n",
    "        \"dataroot\": dataroot_dir,\n",
    "    },\n",
    ")"
   ]
  },
  {
   "cell_type": "code",
   "execution_count": 50,
   "id": "56e52e9b-1b75-4807-91cb-267d9f4f5a67",
   "metadata": {
    "tags": []
   },
   "outputs": [
    {
     "data": {
      "text/plain": [
       "<monai.apps.auto3dseg.auto_runner.AutoRunner at 0x7f4dc7405d30>"
      ]
     },
     "execution_count": 50,
     "metadata": {},
     "output_type": "execute_result"
    }
   ],
   "source": [
    "max_epochs = 100\n",
    "\n",
    "train_param = {\n",
    "    \"num_epochs_per_validation\": 1,\n",
    "    #\"num_images_per_batch\": 2,\n",
    "    \"num_epochs\": max_epochs,\n",
    "    \"num_warmup_epochs\": 1,\n",
    "}\n",
    "runner.set_training_params(train_param)"
   ]
  },
  {
   "cell_type": "code",
   "execution_count": 51,
   "id": "c96c07cb-67cf-4c1e-86c2-9258f7cabde6",
   "metadata": {
    "tags": []
   },
   "outputs": [
    {
     "name": "stdout",
     "output_type": "stream",
     "text": [
      "2024-08-31 19:43:44,733 - INFO - Running data analysis...\n",
      "2024-08-31 19:43:44,734 - INFO - Found 1 GPUs for data analyzing!\n"
     ]
    },
    {
     "name": "stderr",
     "output_type": "stream",
     "text": [
      "100%|██████████| 121/121 [01:27<00:00,  1.38it/s]"
     ]
    },
    {
     "name": "stdout",
     "output_type": "stream",
     "text": [
      "2024-08-31 19:45:12,282 - INFO - Data spacing is not completely uniform. MONAI transforms may provide unexpected result\n",
      "2024-08-31 19:45:12,283 - INFO - Writing data stats to /home/srs-9/Projects/ms_mri/training_work_dirs/cp_work_dir_pituitary1/datastats.yaml.\n",
      "2024-08-31 19:45:12,289 - INFO - Writing by-case data stats to /home/srs-9/Projects/ms_mri/training_work_dirs/cp_work_dir_pituitary1/datastats_by_case.yaml, this may take a while.\n"
     ]
    },
    {
     "name": "stderr",
     "output_type": "stream",
     "text": [
      "\n"
     ]
    },
    {
     "name": "stdout",
     "output_type": "stream",
     "text": [
      "2024-08-31 19:45:12,574 - INFO - BundleGen from https://github.com/Project-MONAI/research-contributions/releases/download/algo_templates/e4cf5a1.tar.gz\n"
     ]
    },
    {
     "name": "stderr",
     "output_type": "stream",
     "text": [
      "algo_templates.tar.gz: 104kB [00:00, 188kB/s]                              "
     ]
    },
    {
     "name": "stdout",
     "output_type": "stream",
     "text": [
      "2024-08-31 19:45:13,147 - INFO - Downloaded: /tmp/tmp8rzobxvd/algo_templates.tar.gz\n",
      "2024-08-31 19:45:13,147 - INFO - Expected md5 is None, skip md5 check for file /tmp/tmp8rzobxvd/algo_templates.tar.gz.\n",
      "2024-08-31 19:45:13,147 - INFO - Writing into directory: /home/srs-9/Projects/ms_mri/training_work_dirs/cp_work_dir_pituitary1.\n",
      "2024-08-31 19:45:13,209 - INFO - Generated:/home/srs-9/Projects/ms_mri/training_work_dirs/cp_work_dir_pituitary1/swinunetr_0\n",
      "2024-08-31 19:45:13,244 - INFO - Generated:/home/srs-9/Projects/ms_mri/training_work_dirs/cp_work_dir_pituitary1/swinunetr_1\n",
      "2024-08-31 19:45:13,276 - INFO - Generated:/home/srs-9/Projects/ms_mri/training_work_dirs/cp_work_dir_pituitary1/swinunetr_2\n"
     ]
    },
    {
     "name": "stderr",
     "output_type": "stream",
     "text": [
      "\n"
     ]
    },
    {
     "name": "stdout",
     "output_type": "stream",
     "text": [
      "2024-08-31 19:45:13,309 - INFO - Generated:/home/srs-9/Projects/ms_mri/training_work_dirs/cp_work_dir_pituitary1/swinunetr_3\n",
      "2024-08-31 19:45:13,343 - INFO - Generated:/home/srs-9/Projects/ms_mri/training_work_dirs/cp_work_dir_pituitary1/swinunetr_4\n",
      "2024-08-31 19:45:13,370 - INFO - ['python', '/home/srs-9/Projects/ms_mri/training_work_dirs/cp_work_dir_pituitary1/swinunetr_0/scripts/train.py', 'run', \"--config_file='/home/srs-9/Projects/ms_mri/training_work_dirs/cp_work_dir_pituitary1/swinunetr_0/configs/hyper_parameters.yaml,/home/srs-9/Projects/ms_mri/training_work_dirs/cp_work_dir_pituitary1/swinunetr_0/configs/network.yaml,/home/srs-9/Projects/ms_mri/training_work_dirs/cp_work_dir_pituitary1/swinunetr_0/configs/transforms_infer.yaml,/home/srs-9/Projects/ms_mri/training_work_dirs/cp_work_dir_pituitary1/swinunetr_0/configs/transforms_train.yaml,/home/srs-9/Projects/ms_mri/training_work_dirs/cp_work_dir_pituitary1/swinunetr_0/configs/transforms_validate.yaml'\", '--num_epochs_per_validation=1', '--num_epochs=100', '--num_warmup_epochs=1']\n"
     ]
    },
    {
     "name": "stderr",
     "output_type": "stream",
     "text": [
      "/home/srs-9/.virtualenvs/monai/lib/python3.12/site-packages/ignite/handlers/checkpoint.py:17: DeprecationWarning: `TorchScript` support for functional optimizers is deprecated and will be removed in a future PyTorch release. Consider using the `torch.compile` optimizer instead.\n",
      "  from torch.distributed.optim import ZeroRedundancyOptimizer\n",
      "monai.networks.nets.swin_unetr SwinUNETR.__init__:img_size: Argument `img_size` has been deprecated since version 1.3. It will be removed in version 1.5. The img_size argument is not required anymore and checks on the input size are run during forward().\n"
     ]
    },
    {
     "name": "stdout",
     "output_type": "stream",
     "text": [
      "2024-08-31 19:45:48,394 - INFO - Downloaded: /home/srs-9/Projects/ms_mri/training_work_dirs/cp_work_dir_pituitary1/swinunetr_0/pretrained_model/swin_unetr.base_5000ep_f48_lr2e-4_pretrained.pt\n",
      "2024-08-31 19:45:48,394 - INFO - Expected md5 is None, skip md5 check for file /home/srs-9/Projects/ms_mri/training_work_dirs/cp_work_dir_pituitary1/swinunetr_0/pretrained_model/swin_unetr.base_5000ep_f48_lr2e-4_pretrained.pt.\n"
     ]
    },
    {
     "name": "stderr",
     "output_type": "stream",
     "text": [
      "You are using `torch.load` with `weights_only=False` (the current default value), which uses the default pickle module implicitly. It is possible to construct malicious pickle data which will execute arbitrary code during unpickling (See https://github.com/pytorch/pytorch/blob/main/SECURITY.md#untrusted-models for more details). In a future release, the default value for `weights_only` will be flipped to `True`. This limits the functions that could be executed during unpickling. Arbitrary objects will no longer be allowed to be loaded via this mode unless they are explicitly allowlisted by the user via `torch.serialization.add_safe_globals`. We recommend you start setting `weights_only=True` for any use case where you don't have full control of the loaded file. Please open an issue on GitHub for any issues related to this experimental feature.\n",
      "`torch.cuda.amp.GradScaler(args...)` is deprecated. Please use `torch.amp.GradScaler('cuda', args...)` instead.\n",
      "2024/08/31 19:45:48 INFO mlflow.tracking.fluent: Experiment with name 'Auto3DSeg' does not exist. Creating a new experiment.\n",
      "swinunetr_0 - training ...:  72%|███████▏  | 72/100 [2:24:49<56:19, 120.68s/round]  \n",
      "2024-08-31 22:24:57,611 - WARNING - swinunetr_0 - training: finished with early stop\n"
     ]
    },
    {
     "name": "stdout",
     "output_type": "stream",
     "text": [
      "2024-08-31 22:24:58,777 - INFO - ['python', '/home/srs-9/Projects/ms_mri/training_work_dirs/cp_work_dir_pituitary1/swinunetr_1/scripts/train.py', 'run', \"--config_file='/home/srs-9/Projects/ms_mri/training_work_dirs/cp_work_dir_pituitary1/swinunetr_1/configs/hyper_parameters.yaml,/home/srs-9/Projects/ms_mri/training_work_dirs/cp_work_dir_pituitary1/swinunetr_1/configs/network.yaml,/home/srs-9/Projects/ms_mri/training_work_dirs/cp_work_dir_pituitary1/swinunetr_1/configs/transforms_infer.yaml,/home/srs-9/Projects/ms_mri/training_work_dirs/cp_work_dir_pituitary1/swinunetr_1/configs/transforms_train.yaml,/home/srs-9/Projects/ms_mri/training_work_dirs/cp_work_dir_pituitary1/swinunetr_1/configs/transforms_validate.yaml'\", '--num_epochs_per_validation=1', '--num_epochs=100', '--num_warmup_epochs=1']\n"
     ]
    },
    {
     "name": "stderr",
     "output_type": "stream",
     "text": [
      "/home/srs-9/.virtualenvs/monai/lib/python3.12/site-packages/ignite/handlers/checkpoint.py:17: DeprecationWarning: `TorchScript` support for functional optimizers is deprecated and will be removed in a future PyTorch release. Consider using the `torch.compile` optimizer instead.\n",
      "  from torch.distributed.optim import ZeroRedundancyOptimizer\n",
      "monai.networks.nets.swin_unetr SwinUNETR.__init__:img_size: Argument `img_size` has been deprecated since version 1.3. It will be removed in version 1.5. The img_size argument is not required anymore and checks on the input size are run during forward().\n"
     ]
    },
    {
     "name": "stdout",
     "output_type": "stream",
     "text": [
      "2024-08-31 22:25:29,806 - INFO - Downloaded: /home/srs-9/Projects/ms_mri/training_work_dirs/cp_work_dir_pituitary1/swinunetr_1/pretrained_model/swin_unetr.base_5000ep_f48_lr2e-4_pretrained.pt\n",
      "2024-08-31 22:25:29,806 - INFO - Expected md5 is None, skip md5 check for file /home/srs-9/Projects/ms_mri/training_work_dirs/cp_work_dir_pituitary1/swinunetr_1/pretrained_model/swin_unetr.base_5000ep_f48_lr2e-4_pretrained.pt.\n"
     ]
    },
    {
     "name": "stderr",
     "output_type": "stream",
     "text": [
      "You are using `torch.load` with `weights_only=False` (the current default value), which uses the default pickle module implicitly. It is possible to construct malicious pickle data which will execute arbitrary code during unpickling (See https://github.com/pytorch/pytorch/blob/main/SECURITY.md#untrusted-models for more details). In a future release, the default value for `weights_only` will be flipped to `True`. This limits the functions that could be executed during unpickling. Arbitrary objects will no longer be allowed to be loaded via this mode unless they are explicitly allowlisted by the user via `torch.serialization.add_safe_globals`. We recommend you start setting `weights_only=True` for any use case where you don't have full control of the loaded file. Please open an issue on GitHub for any issues related to this experimental feature.\n",
      "`torch.cuda.amp.GradScaler(args...)` is deprecated. Please use `torch.amp.GradScaler('cuda', args...)` instead.\n",
      "2024/08/31 22:25:30 INFO mlflow.tracking.fluent: Experiment with name 'Auto3DSeg' does not exist. Creating a new experiment.\n",
      "swinunetr_1 - training ...:  59%|█████▉    | 59/100 [1:55:48<1:20:28, 117.76s/round]\n",
      "2024-09-01 00:34:44,129 - WARNING - swinunetr_1 - training: finished with early stop\n"
     ]
    },
    {
     "name": "stdout",
     "output_type": "stream",
     "text": [
      "2024-09-01 00:34:45,258 - INFO - ['python', '/home/srs-9/Projects/ms_mri/training_work_dirs/cp_work_dir_pituitary1/swinunetr_2/scripts/train.py', 'run', \"--config_file='/home/srs-9/Projects/ms_mri/training_work_dirs/cp_work_dir_pituitary1/swinunetr_2/configs/hyper_parameters.yaml,/home/srs-9/Projects/ms_mri/training_work_dirs/cp_work_dir_pituitary1/swinunetr_2/configs/network.yaml,/home/srs-9/Projects/ms_mri/training_work_dirs/cp_work_dir_pituitary1/swinunetr_2/configs/transforms_infer.yaml,/home/srs-9/Projects/ms_mri/training_work_dirs/cp_work_dir_pituitary1/swinunetr_2/configs/transforms_train.yaml,/home/srs-9/Projects/ms_mri/training_work_dirs/cp_work_dir_pituitary1/swinunetr_2/configs/transforms_validate.yaml'\", '--num_epochs_per_validation=1', '--num_epochs=100', '--num_warmup_epochs=1']\n"
     ]
    },
    {
     "name": "stderr",
     "output_type": "stream",
     "text": [
      "/home/srs-9/.virtualenvs/monai/lib/python3.12/site-packages/ignite/handlers/checkpoint.py:17: DeprecationWarning: `TorchScript` support for functional optimizers is deprecated and will be removed in a future PyTorch release. Consider using the `torch.compile` optimizer instead.\n",
      "  from torch.distributed.optim import ZeroRedundancyOptimizer\n",
      "monai.networks.nets.swin_unetr SwinUNETR.__init__:img_size: Argument `img_size` has been deprecated since version 1.3. It will be removed in version 1.5. The img_size argument is not required anymore and checks on the input size are run during forward().\n"
     ]
    },
    {
     "name": "stdout",
     "output_type": "stream",
     "text": [
      "2024-09-01 00:35:18,145 - INFO - Downloaded: /home/srs-9/Projects/ms_mri/training_work_dirs/cp_work_dir_pituitary1/swinunetr_2/pretrained_model/swin_unetr.base_5000ep_f48_lr2e-4_pretrained.pt\n",
      "2024-09-01 00:35:18,146 - INFO - Expected md5 is None, skip md5 check for file /home/srs-9/Projects/ms_mri/training_work_dirs/cp_work_dir_pituitary1/swinunetr_2/pretrained_model/swin_unetr.base_5000ep_f48_lr2e-4_pretrained.pt.\n"
     ]
    },
    {
     "name": "stderr",
     "output_type": "stream",
     "text": [
      "You are using `torch.load` with `weights_only=False` (the current default value), which uses the default pickle module implicitly. It is possible to construct malicious pickle data which will execute arbitrary code during unpickling (See https://github.com/pytorch/pytorch/blob/main/SECURITY.md#untrusted-models for more details). In a future release, the default value for `weights_only` will be flipped to `True`. This limits the functions that could be executed during unpickling. Arbitrary objects will no longer be allowed to be loaded via this mode unless they are explicitly allowlisted by the user via `torch.serialization.add_safe_globals`. We recommend you start setting `weights_only=True` for any use case where you don't have full control of the loaded file. Please open an issue on GitHub for any issues related to this experimental feature.\n",
      "`torch.cuda.amp.GradScaler(args...)` is deprecated. Please use `torch.amp.GradScaler('cuda', args...)` instead.\n",
      "2024/09/01 00:35:18 INFO mlflow.tracking.fluent: Experiment with name 'Auto3DSeg' does not exist. Creating a new experiment.\n",
      "swinunetr_2 - training ...:  83%|████████▎ | 83/100 [3:08:35<38:37, 136.33s/round]  \n",
      "2024-09-01 03:57:22,387 - WARNING - swinunetr_2 - training: finished with early stop\n"
     ]
    },
    {
     "name": "stdout",
     "output_type": "stream",
     "text": [
      "2024-09-01 03:57:23,503 - INFO - ['python', '/home/srs-9/Projects/ms_mri/training_work_dirs/cp_work_dir_pituitary1/swinunetr_3/scripts/train.py', 'run', \"--config_file='/home/srs-9/Projects/ms_mri/training_work_dirs/cp_work_dir_pituitary1/swinunetr_3/configs/hyper_parameters.yaml,/home/srs-9/Projects/ms_mri/training_work_dirs/cp_work_dir_pituitary1/swinunetr_3/configs/network.yaml,/home/srs-9/Projects/ms_mri/training_work_dirs/cp_work_dir_pituitary1/swinunetr_3/configs/transforms_infer.yaml,/home/srs-9/Projects/ms_mri/training_work_dirs/cp_work_dir_pituitary1/swinunetr_3/configs/transforms_train.yaml,/home/srs-9/Projects/ms_mri/training_work_dirs/cp_work_dir_pituitary1/swinunetr_3/configs/transforms_validate.yaml'\", '--num_epochs_per_validation=1', '--num_epochs=100', '--num_warmup_epochs=1']\n"
     ]
    },
    {
     "name": "stderr",
     "output_type": "stream",
     "text": [
      "/home/srs-9/.virtualenvs/monai/lib/python3.12/site-packages/ignite/handlers/checkpoint.py:17: DeprecationWarning: `TorchScript` support for functional optimizers is deprecated and will be removed in a future PyTorch release. Consider using the `torch.compile` optimizer instead.\n",
      "  from torch.distributed.optim import ZeroRedundancyOptimizer\n",
      "monai.networks.nets.swin_unetr SwinUNETR.__init__:img_size: Argument `img_size` has been deprecated since version 1.3. It will be removed in version 1.5. The img_size argument is not required anymore and checks on the input size are run during forward().\n"
     ]
    },
    {
     "name": "stdout",
     "output_type": "stream",
     "text": [
      "2024-09-01 03:57:52,310 - INFO - Downloaded: /home/srs-9/Projects/ms_mri/training_work_dirs/cp_work_dir_pituitary1/swinunetr_3/pretrained_model/swin_unetr.base_5000ep_f48_lr2e-4_pretrained.pt\n",
      "2024-09-01 03:57:52,310 - INFO - Expected md5 is None, skip md5 check for file /home/srs-9/Projects/ms_mri/training_work_dirs/cp_work_dir_pituitary1/swinunetr_3/pretrained_model/swin_unetr.base_5000ep_f48_lr2e-4_pretrained.pt.\n"
     ]
    },
    {
     "name": "stderr",
     "output_type": "stream",
     "text": [
      "You are using `torch.load` with `weights_only=False` (the current default value), which uses the default pickle module implicitly. It is possible to construct malicious pickle data which will execute arbitrary code during unpickling (See https://github.com/pytorch/pytorch/blob/main/SECURITY.md#untrusted-models for more details). In a future release, the default value for `weights_only` will be flipped to `True`. This limits the functions that could be executed during unpickling. Arbitrary objects will no longer be allowed to be loaded via this mode unless they are explicitly allowlisted by the user via `torch.serialization.add_safe_globals`. We recommend you start setting `weights_only=True` for any use case where you don't have full control of the loaded file. Please open an issue on GitHub for any issues related to this experimental feature.\n",
      "`torch.cuda.amp.GradScaler(args...)` is deprecated. Please use `torch.amp.GradScaler('cuda', args...)` instead.\n",
      "2024/09/01 03:57:52 INFO mlflow.tracking.fluent: Experiment with name 'Auto3DSeg' does not exist. Creating a new experiment.\n",
      "swinunetr_3 - training ...:  78%|███████▊  | 78/100 [2:48:33<47:32, 129.66s/round]  \n",
      "2024-09-01 06:59:54,910 - WARNING - swinunetr_3 - training: finished with early stop\n"
     ]
    },
    {
     "name": "stdout",
     "output_type": "stream",
     "text": [
      "2024-09-01 06:59:55,808 - INFO - ['python', '/home/srs-9/Projects/ms_mri/training_work_dirs/cp_work_dir_pituitary1/swinunetr_4/scripts/train.py', 'run', \"--config_file='/home/srs-9/Projects/ms_mri/training_work_dirs/cp_work_dir_pituitary1/swinunetr_4/configs/hyper_parameters.yaml,/home/srs-9/Projects/ms_mri/training_work_dirs/cp_work_dir_pituitary1/swinunetr_4/configs/network.yaml,/home/srs-9/Projects/ms_mri/training_work_dirs/cp_work_dir_pituitary1/swinunetr_4/configs/transforms_infer.yaml,/home/srs-9/Projects/ms_mri/training_work_dirs/cp_work_dir_pituitary1/swinunetr_4/configs/transforms_train.yaml,/home/srs-9/Projects/ms_mri/training_work_dirs/cp_work_dir_pituitary1/swinunetr_4/configs/transforms_validate.yaml'\", '--num_epochs_per_validation=1', '--num_epochs=100', '--num_warmup_epochs=1']\n"
     ]
    },
    {
     "name": "stderr",
     "output_type": "stream",
     "text": [
      "/home/srs-9/.virtualenvs/monai/lib/python3.12/site-packages/ignite/handlers/checkpoint.py:17: DeprecationWarning: `TorchScript` support for functional optimizers is deprecated and will be removed in a future PyTorch release. Consider using the `torch.compile` optimizer instead.\n",
      "  from torch.distributed.optim import ZeroRedundancyOptimizer\n",
      "monai.networks.nets.swin_unetr SwinUNETR.__init__:img_size: Argument `img_size` has been deprecated since version 1.3. It will be removed in version 1.5. The img_size argument is not required anymore and checks on the input size are run during forward().\n"
     ]
    },
    {
     "name": "stdout",
     "output_type": "stream",
     "text": [
      "2024-09-01 07:00:24,226 - INFO - Downloaded: /home/srs-9/Projects/ms_mri/training_work_dirs/cp_work_dir_pituitary1/swinunetr_4/pretrained_model/swin_unetr.base_5000ep_f48_lr2e-4_pretrained.pt\n",
      "2024-09-01 07:00:24,226 - INFO - Expected md5 is None, skip md5 check for file /home/srs-9/Projects/ms_mri/training_work_dirs/cp_work_dir_pituitary1/swinunetr_4/pretrained_model/swin_unetr.base_5000ep_f48_lr2e-4_pretrained.pt.\n"
     ]
    },
    {
     "name": "stderr",
     "output_type": "stream",
     "text": [
      "You are using `torch.load` with `weights_only=False` (the current default value), which uses the default pickle module implicitly. It is possible to construct malicious pickle data which will execute arbitrary code during unpickling (See https://github.com/pytorch/pytorch/blob/main/SECURITY.md#untrusted-models for more details). In a future release, the default value for `weights_only` will be flipped to `True`. This limits the functions that could be executed during unpickling. Arbitrary objects will no longer be allowed to be loaded via this mode unless they are explicitly allowlisted by the user via `torch.serialization.add_safe_globals`. We recommend you start setting `weights_only=True` for any use case where you don't have full control of the loaded file. Please open an issue on GitHub for any issues related to this experimental feature.\n",
      "`torch.cuda.amp.GradScaler(args...)` is deprecated. Please use `torch.amp.GradScaler('cuda', args...)` instead.\n",
      "2024/09/01 07:00:24 INFO mlflow.tracking.fluent: Experiment with name 'Auto3DSeg' does not exist. Creating a new experiment.\n",
      "swinunetr_4 - training ...:  59%|█████▉    | 59/100 [1:55:43<1:20:25, 117.69s/round]\n",
      "2024-09-01 09:09:24,209 - WARNING - swinunetr_4 - training: finished with early stop\n"
     ]
    },
    {
     "name": "stdout",
     "output_type": "stream",
     "text": [
      "2024-09-01 09:09:25,107 - INFO - Ensembling using single GPU!\n",
      "2024-09-01 09:09:25,107 - INFO - The output_dir is not specified. /home/srs-9/Projects/ms_mri/training_work_dirs/cp_work_dir_pituitary1/ensemble_output will be used to save ensemble predictions.\n",
      "2024-09-01 09:09:25,108 - INFO - Directory /home/srs-9/Projects/ms_mri/training_work_dirs/cp_work_dir_pituitary1/ensemble_output is created to save ensemble predictions\n",
      "2024-09-01 09:09:25,143 - INFO - Auto3Dseg picked the following networks to ensemble:\n",
      "2024-09-01 09:09:25,143 - INFO - swinunetr_0\n",
      "2024-09-01 09:09:25,144 - INFO - swinunetr_1\n",
      "2024-09-01 09:09:25,144 - INFO - swinunetr_2\n",
      "2024-09-01 09:09:25,145 - INFO - swinunetr_3\n",
      "2024-09-01 09:09:25,145 - INFO - swinunetr_4\n",
      "2024-09-01 09:09:25,146 - INFO - Auto3Dseg ensemble prediction outputs will be saved in /home/srs-9/Projects/ms_mri/training_work_dirs/cp_work_dir_pituitary1/ensemble_output.\n"
     ]
    },
    {
     "name": "stderr",
     "output_type": "stream",
     "text": [
      "Ensembling (rank 0)...:   0%|          | 0/13 [00:00<?, ?it/s]monai.networks.nets.swin_unetr SwinUNETR.__init__:img_size: Argument `img_size` has been deprecated since version 1.3. It will be removed in version 1.5. The img_size argument is not required anymore and checks on the input size are run during forward().\n",
      "You are using `torch.load` with `weights_only=False` (the current default value), which uses the default pickle module implicitly. It is possible to construct malicious pickle data which will execute arbitrary code during unpickling (See https://github.com/pytorch/pytorch/blob/main/SECURITY.md#untrusted-models for more details). In a future release, the default value for `weights_only` will be flipped to `True`. This limits the functions that could be executed during unpickling. Arbitrary objects will no longer be allowed to be loaded via this mode unless they are explicitly allowlisted by the user via `torch.serialization.add_safe_globals`. We recommend you start setting `weights_only=True` for any use case where you don't have full control of the loaded file. Please open an issue on GitHub for any issues related to this experimental feature.\n",
      "`torch.cuda.amp.autocast(args...)` is deprecated. Please use `torch.amp.autocast('cuda', args...)` instead.\n",
      "You are using `torch.load` with `weights_only=False` (the current default value), which uses the default pickle module implicitly. It is possible to construct malicious pickle data which will execute arbitrary code during unpickling (See https://github.com/pytorch/pytorch/blob/main/SECURITY.md#untrusted-models for more details). In a future release, the default value for `weights_only` will be flipped to `True`. This limits the functions that could be executed during unpickling. Arbitrary objects will no longer be allowed to be loaded via this mode unless they are explicitly allowlisted by the user via `torch.serialization.add_safe_globals`. We recommend you start setting `weights_only=True` for any use case where you don't have full control of the loaded file. Please open an issue on GitHub for any issues related to this experimental feature.\n",
      "`torch.cuda.amp.autocast(args...)` is deprecated. Please use `torch.amp.autocast('cuda', args...)` instead.\n",
      "You are using `torch.load` with `weights_only=False` (the current default value), which uses the default pickle module implicitly. It is possible to construct malicious pickle data which will execute arbitrary code during unpickling (See https://github.com/pytorch/pytorch/blob/main/SECURITY.md#untrusted-models for more details). In a future release, the default value for `weights_only` will be flipped to `True`. This limits the functions that could be executed during unpickling. Arbitrary objects will no longer be allowed to be loaded via this mode unless they are explicitly allowlisted by the user via `torch.serialization.add_safe_globals`. We recommend you start setting `weights_only=True` for any use case where you don't have full control of the loaded file. Please open an issue on GitHub for any issues related to this experimental feature.\n",
      "`torch.cuda.amp.autocast(args...)` is deprecated. Please use `torch.amp.autocast('cuda', args...)` instead.\n",
      "You are using `torch.load` with `weights_only=False` (the current default value), which uses the default pickle module implicitly. It is possible to construct malicious pickle data which will execute arbitrary code during unpickling (See https://github.com/pytorch/pytorch/blob/main/SECURITY.md#untrusted-models for more details). In a future release, the default value for `weights_only` will be flipped to `True`. This limits the functions that could be executed during unpickling. Arbitrary objects will no longer be allowed to be loaded via this mode unless they are explicitly allowlisted by the user via `torch.serialization.add_safe_globals`. We recommend you start setting `weights_only=True` for any use case where you don't have full control of the loaded file. Please open an issue on GitHub for any issues related to this experimental feature.\n",
      "`torch.cuda.amp.autocast(args...)` is deprecated. Please use `torch.amp.autocast('cuda', args...)` instead.\n",
      "You are using `torch.load` with `weights_only=False` (the current default value), which uses the default pickle module implicitly. It is possible to construct malicious pickle data which will execute arbitrary code during unpickling (See https://github.com/pytorch/pytorch/blob/main/SECURITY.md#untrusted-models for more details). In a future release, the default value for `weights_only` will be flipped to `True`. This limits the functions that could be executed during unpickling. Arbitrary objects will no longer be allowed to be loaded via this mode unless they are explicitly allowlisted by the user via `torch.serialization.add_safe_globals`. We recommend you start setting `weights_only=True` for any use case where you don't have full control of the loaded file. Please open an issue on GitHub for any issues related to this experimental feature.\n",
      "`torch.cuda.amp.autocast(args...)` is deprecated. Please use `torch.amp.autocast('cuda', args...)` instead.\n",
      "Ensembling (rank 0)...:   8%|▊         | 1/13 [02:57<35:28, 177.40s/it]You are using `torch.load` with `weights_only=False` (the current default value), which uses the default pickle module implicitly. It is possible to construct malicious pickle data which will execute arbitrary code during unpickling (See https://github.com/pytorch/pytorch/blob/main/SECURITY.md#untrusted-models for more details). In a future release, the default value for `weights_only` will be flipped to `True`. This limits the functions that could be executed during unpickling. Arbitrary objects will no longer be allowed to be loaded via this mode unless they are explicitly allowlisted by the user via `torch.serialization.add_safe_globals`. We recommend you start setting `weights_only=True` for any use case where you don't have full control of the loaded file. Please open an issue on GitHub for any issues related to this experimental feature.\n",
      "`torch.cuda.amp.autocast(args...)` is deprecated. Please use `torch.amp.autocast('cuda', args...)` instead.\n",
      "You are using `torch.load` with `weights_only=False` (the current default value), which uses the default pickle module implicitly. It is possible to construct malicious pickle data which will execute arbitrary code during unpickling (See https://github.com/pytorch/pytorch/blob/main/SECURITY.md#untrusted-models for more details). In a future release, the default value for `weights_only` will be flipped to `True`. This limits the functions that could be executed during unpickling. Arbitrary objects will no longer be allowed to be loaded via this mode unless they are explicitly allowlisted by the user via `torch.serialization.add_safe_globals`. We recommend you start setting `weights_only=True` for any use case where you don't have full control of the loaded file. Please open an issue on GitHub for any issues related to this experimental feature.\n",
      "`torch.cuda.amp.autocast(args...)` is deprecated. Please use `torch.amp.autocast('cuda', args...)` instead.\n",
      "You are using `torch.load` with `weights_only=False` (the current default value), which uses the default pickle module implicitly. It is possible to construct malicious pickle data which will execute arbitrary code during unpickling (See https://github.com/pytorch/pytorch/blob/main/SECURITY.md#untrusted-models for more details). In a future release, the default value for `weights_only` will be flipped to `True`. This limits the functions that could be executed during unpickling. Arbitrary objects will no longer be allowed to be loaded via this mode unless they are explicitly allowlisted by the user via `torch.serialization.add_safe_globals`. We recommend you start setting `weights_only=True` for any use case where you don't have full control of the loaded file. Please open an issue on GitHub for any issues related to this experimental feature.\n",
      "`torch.cuda.amp.autocast(args...)` is deprecated. Please use `torch.amp.autocast('cuda', args...)` instead.\n",
      "You are using `torch.load` with `weights_only=False` (the current default value), which uses the default pickle module implicitly. It is possible to construct malicious pickle data which will execute arbitrary code during unpickling (See https://github.com/pytorch/pytorch/blob/main/SECURITY.md#untrusted-models for more details). In a future release, the default value for `weights_only` will be flipped to `True`. This limits the functions that could be executed during unpickling. Arbitrary objects will no longer be allowed to be loaded via this mode unless they are explicitly allowlisted by the user via `torch.serialization.add_safe_globals`. We recommend you start setting `weights_only=True` for any use case where you don't have full control of the loaded file. Please open an issue on GitHub for any issues related to this experimental feature.\n",
      "`torch.cuda.amp.autocast(args...)` is deprecated. Please use `torch.amp.autocast('cuda', args...)` instead.\n",
      "You are using `torch.load` with `weights_only=False` (the current default value), which uses the default pickle module implicitly. It is possible to construct malicious pickle data which will execute arbitrary code during unpickling (See https://github.com/pytorch/pytorch/blob/main/SECURITY.md#untrusted-models for more details). In a future release, the default value for `weights_only` will be flipped to `True`. This limits the functions that could be executed during unpickling. Arbitrary objects will no longer be allowed to be loaded via this mode unless they are explicitly allowlisted by the user via `torch.serialization.add_safe_globals`. We recommend you start setting `weights_only=True` for any use case where you don't have full control of the loaded file. Please open an issue on GitHub for any issues related to this experimental feature.\n",
      "`torch.cuda.amp.autocast(args...)` is deprecated. Please use `torch.amp.autocast('cuda', args...)` instead.\n",
      "Ensembling (rank 0)...:  15%|█▌        | 2/13 [05:48<31:52, 173.86s/it]You are using `torch.load` with `weights_only=False` (the current default value), which uses the default pickle module implicitly. It is possible to construct malicious pickle data which will execute arbitrary code during unpickling (See https://github.com/pytorch/pytorch/blob/main/SECURITY.md#untrusted-models for more details). In a future release, the default value for `weights_only` will be flipped to `True`. This limits the functions that could be executed during unpickling. Arbitrary objects will no longer be allowed to be loaded via this mode unless they are explicitly allowlisted by the user via `torch.serialization.add_safe_globals`. We recommend you start setting `weights_only=True` for any use case where you don't have full control of the loaded file. Please open an issue on GitHub for any issues related to this experimental feature.\n",
      "`torch.cuda.amp.autocast(args...)` is deprecated. Please use `torch.amp.autocast('cuda', args...)` instead.\n",
      "You are using `torch.load` with `weights_only=False` (the current default value), which uses the default pickle module implicitly. It is possible to construct malicious pickle data which will execute arbitrary code during unpickling (See https://github.com/pytorch/pytorch/blob/main/SECURITY.md#untrusted-models for more details). In a future release, the default value for `weights_only` will be flipped to `True`. This limits the functions that could be executed during unpickling. Arbitrary objects will no longer be allowed to be loaded via this mode unless they are explicitly allowlisted by the user via `torch.serialization.add_safe_globals`. We recommend you start setting `weights_only=True` for any use case where you don't have full control of the loaded file. Please open an issue on GitHub for any issues related to this experimental feature.\n",
      "`torch.cuda.amp.autocast(args...)` is deprecated. Please use `torch.amp.autocast('cuda', args...)` instead.\n",
      "You are using `torch.load` with `weights_only=False` (the current default value), which uses the default pickle module implicitly. It is possible to construct malicious pickle data which will execute arbitrary code during unpickling (See https://github.com/pytorch/pytorch/blob/main/SECURITY.md#untrusted-models for more details). In a future release, the default value for `weights_only` will be flipped to `True`. This limits the functions that could be executed during unpickling. Arbitrary objects will no longer be allowed to be loaded via this mode unless they are explicitly allowlisted by the user via `torch.serialization.add_safe_globals`. We recommend you start setting `weights_only=True` for any use case where you don't have full control of the loaded file. Please open an issue on GitHub for any issues related to this experimental feature.\n",
      "`torch.cuda.amp.autocast(args...)` is deprecated. Please use `torch.amp.autocast('cuda', args...)` instead.\n",
      "You are using `torch.load` with `weights_only=False` (the current default value), which uses the default pickle module implicitly. It is possible to construct malicious pickle data which will execute arbitrary code during unpickling (See https://github.com/pytorch/pytorch/blob/main/SECURITY.md#untrusted-models for more details). In a future release, the default value for `weights_only` will be flipped to `True`. This limits the functions that could be executed during unpickling. Arbitrary objects will no longer be allowed to be loaded via this mode unless they are explicitly allowlisted by the user via `torch.serialization.add_safe_globals`. We recommend you start setting `weights_only=True` for any use case where you don't have full control of the loaded file. Please open an issue on GitHub for any issues related to this experimental feature.\n",
      "`torch.cuda.amp.autocast(args...)` is deprecated. Please use `torch.amp.autocast('cuda', args...)` instead.\n",
      "You are using `torch.load` with `weights_only=False` (the current default value), which uses the default pickle module implicitly. It is possible to construct malicious pickle data which will execute arbitrary code during unpickling (See https://github.com/pytorch/pytorch/blob/main/SECURITY.md#untrusted-models for more details). In a future release, the default value for `weights_only` will be flipped to `True`. This limits the functions that could be executed during unpickling. Arbitrary objects will no longer be allowed to be loaded via this mode unless they are explicitly allowlisted by the user via `torch.serialization.add_safe_globals`. We recommend you start setting `weights_only=True` for any use case where you don't have full control of the loaded file. Please open an issue on GitHub for any issues related to this experimental feature.\n",
      "`torch.cuda.amp.autocast(args...)` is deprecated. Please use `torch.amp.autocast('cuda', args...)` instead.\n",
      "Ensembling (rank 0)...:  23%|██▎       | 3/13 [08:39<28:44, 172.45s/it]You are using `torch.load` with `weights_only=False` (the current default value), which uses the default pickle module implicitly. It is possible to construct malicious pickle data which will execute arbitrary code during unpickling (See https://github.com/pytorch/pytorch/blob/main/SECURITY.md#untrusted-models for more details). In a future release, the default value for `weights_only` will be flipped to `True`. This limits the functions that could be executed during unpickling. Arbitrary objects will no longer be allowed to be loaded via this mode unless they are explicitly allowlisted by the user via `torch.serialization.add_safe_globals`. We recommend you start setting `weights_only=True` for any use case where you don't have full control of the loaded file. Please open an issue on GitHub for any issues related to this experimental feature.\n",
      "`torch.cuda.amp.autocast(args...)` is deprecated. Please use `torch.amp.autocast('cuda', args...)` instead.\n",
      "You are using `torch.load` with `weights_only=False` (the current default value), which uses the default pickle module implicitly. It is possible to construct malicious pickle data which will execute arbitrary code during unpickling (See https://github.com/pytorch/pytorch/blob/main/SECURITY.md#untrusted-models for more details). In a future release, the default value for `weights_only` will be flipped to `True`. This limits the functions that could be executed during unpickling. Arbitrary objects will no longer be allowed to be loaded via this mode unless they are explicitly allowlisted by the user via `torch.serialization.add_safe_globals`. We recommend you start setting `weights_only=True` for any use case where you don't have full control of the loaded file. Please open an issue on GitHub for any issues related to this experimental feature.\n",
      "`torch.cuda.amp.autocast(args...)` is deprecated. Please use `torch.amp.autocast('cuda', args...)` instead.\n",
      "You are using `torch.load` with `weights_only=False` (the current default value), which uses the default pickle module implicitly. It is possible to construct malicious pickle data which will execute arbitrary code during unpickling (See https://github.com/pytorch/pytorch/blob/main/SECURITY.md#untrusted-models for more details). In a future release, the default value for `weights_only` will be flipped to `True`. This limits the functions that could be executed during unpickling. Arbitrary objects will no longer be allowed to be loaded via this mode unless they are explicitly allowlisted by the user via `torch.serialization.add_safe_globals`. We recommend you start setting `weights_only=True` for any use case where you don't have full control of the loaded file. Please open an issue on GitHub for any issues related to this experimental feature.\n",
      "`torch.cuda.amp.autocast(args...)` is deprecated. Please use `torch.amp.autocast('cuda', args...)` instead.\n",
      "You are using `torch.load` with `weights_only=False` (the current default value), which uses the default pickle module implicitly. It is possible to construct malicious pickle data which will execute arbitrary code during unpickling (See https://github.com/pytorch/pytorch/blob/main/SECURITY.md#untrusted-models for more details). In a future release, the default value for `weights_only` will be flipped to `True`. This limits the functions that could be executed during unpickling. Arbitrary objects will no longer be allowed to be loaded via this mode unless they are explicitly allowlisted by the user via `torch.serialization.add_safe_globals`. We recommend you start setting `weights_only=True` for any use case where you don't have full control of the loaded file. Please open an issue on GitHub for any issues related to this experimental feature.\n",
      "`torch.cuda.amp.autocast(args...)` is deprecated. Please use `torch.amp.autocast('cuda', args...)` instead.\n",
      "You are using `torch.load` with `weights_only=False` (the current default value), which uses the default pickle module implicitly. It is possible to construct malicious pickle data which will execute arbitrary code during unpickling (See https://github.com/pytorch/pytorch/blob/main/SECURITY.md#untrusted-models for more details). In a future release, the default value for `weights_only` will be flipped to `True`. This limits the functions that could be executed during unpickling. Arbitrary objects will no longer be allowed to be loaded via this mode unless they are explicitly allowlisted by the user via `torch.serialization.add_safe_globals`. We recommend you start setting `weights_only=True` for any use case where you don't have full control of the loaded file. Please open an issue on GitHub for any issues related to this experimental feature.\n",
      "`torch.cuda.amp.autocast(args...)` is deprecated. Please use `torch.amp.autocast('cuda', args...)` instead.\n",
      "Ensembling (rank 0)...:  31%|███       | 4/13 [11:31<25:50, 172.25s/it]You are using `torch.load` with `weights_only=False` (the current default value), which uses the default pickle module implicitly. It is possible to construct malicious pickle data which will execute arbitrary code during unpickling (See https://github.com/pytorch/pytorch/blob/main/SECURITY.md#untrusted-models for more details). In a future release, the default value for `weights_only` will be flipped to `True`. This limits the functions that could be executed during unpickling. Arbitrary objects will no longer be allowed to be loaded via this mode unless they are explicitly allowlisted by the user via `torch.serialization.add_safe_globals`. We recommend you start setting `weights_only=True` for any use case where you don't have full control of the loaded file. Please open an issue on GitHub for any issues related to this experimental feature.\n",
      "`torch.cuda.amp.autocast(args...)` is deprecated. Please use `torch.amp.autocast('cuda', args...)` instead.\n",
      "You are using `torch.load` with `weights_only=False` (the current default value), which uses the default pickle module implicitly. It is possible to construct malicious pickle data which will execute arbitrary code during unpickling (See https://github.com/pytorch/pytorch/blob/main/SECURITY.md#untrusted-models for more details). In a future release, the default value for `weights_only` will be flipped to `True`. This limits the functions that could be executed during unpickling. Arbitrary objects will no longer be allowed to be loaded via this mode unless they are explicitly allowlisted by the user via `torch.serialization.add_safe_globals`. We recommend you start setting `weights_only=True` for any use case where you don't have full control of the loaded file. Please open an issue on GitHub for any issues related to this experimental feature.\n",
      "`torch.cuda.amp.autocast(args...)` is deprecated. Please use `torch.amp.autocast('cuda', args...)` instead.\n",
      "You are using `torch.load` with `weights_only=False` (the current default value), which uses the default pickle module implicitly. It is possible to construct malicious pickle data which will execute arbitrary code during unpickling (See https://github.com/pytorch/pytorch/blob/main/SECURITY.md#untrusted-models for more details). In a future release, the default value for `weights_only` will be flipped to `True`. This limits the functions that could be executed during unpickling. Arbitrary objects will no longer be allowed to be loaded via this mode unless they are explicitly allowlisted by the user via `torch.serialization.add_safe_globals`. We recommend you start setting `weights_only=True` for any use case where you don't have full control of the loaded file. Please open an issue on GitHub for any issues related to this experimental feature.\n",
      "`torch.cuda.amp.autocast(args...)` is deprecated. Please use `torch.amp.autocast('cuda', args...)` instead.\n",
      "You are using `torch.load` with `weights_only=False` (the current default value), which uses the default pickle module implicitly. It is possible to construct malicious pickle data which will execute arbitrary code during unpickling (See https://github.com/pytorch/pytorch/blob/main/SECURITY.md#untrusted-models for more details). In a future release, the default value for `weights_only` will be flipped to `True`. This limits the functions that could be executed during unpickling. Arbitrary objects will no longer be allowed to be loaded via this mode unless they are explicitly allowlisted by the user via `torch.serialization.add_safe_globals`. We recommend you start setting `weights_only=True` for any use case where you don't have full control of the loaded file. Please open an issue on GitHub for any issues related to this experimental feature.\n",
      "`torch.cuda.amp.autocast(args...)` is deprecated. Please use `torch.amp.autocast('cuda', args...)` instead.\n",
      "You are using `torch.load` with `weights_only=False` (the current default value), which uses the default pickle module implicitly. It is possible to construct malicious pickle data which will execute arbitrary code during unpickling (See https://github.com/pytorch/pytorch/blob/main/SECURITY.md#untrusted-models for more details). In a future release, the default value for `weights_only` will be flipped to `True`. This limits the functions that could be executed during unpickling. Arbitrary objects will no longer be allowed to be loaded via this mode unless they are explicitly allowlisted by the user via `torch.serialization.add_safe_globals`. We recommend you start setting `weights_only=True` for any use case where you don't have full control of the loaded file. Please open an issue on GitHub for any issues related to this experimental feature.\n",
      "`torch.cuda.amp.autocast(args...)` is deprecated. Please use `torch.amp.autocast('cuda', args...)` instead.\n",
      "Ensembling (rank 0)...:  38%|███▊      | 5/13 [14:22<22:52, 171.62s/it]You are using `torch.load` with `weights_only=False` (the current default value), which uses the default pickle module implicitly. It is possible to construct malicious pickle data which will execute arbitrary code during unpickling (See https://github.com/pytorch/pytorch/blob/main/SECURITY.md#untrusted-models for more details). In a future release, the default value for `weights_only` will be flipped to `True`. This limits the functions that could be executed during unpickling. Arbitrary objects will no longer be allowed to be loaded via this mode unless they are explicitly allowlisted by the user via `torch.serialization.add_safe_globals`. We recommend you start setting `weights_only=True` for any use case where you don't have full control of the loaded file. Please open an issue on GitHub for any issues related to this experimental feature.\n",
      "`torch.cuda.amp.autocast(args...)` is deprecated. Please use `torch.amp.autocast('cuda', args...)` instead.\n",
      "You are using `torch.load` with `weights_only=False` (the current default value), which uses the default pickle module implicitly. It is possible to construct malicious pickle data which will execute arbitrary code during unpickling (See https://github.com/pytorch/pytorch/blob/main/SECURITY.md#untrusted-models for more details). In a future release, the default value for `weights_only` will be flipped to `True`. This limits the functions that could be executed during unpickling. Arbitrary objects will no longer be allowed to be loaded via this mode unless they are explicitly allowlisted by the user via `torch.serialization.add_safe_globals`. We recommend you start setting `weights_only=True` for any use case where you don't have full control of the loaded file. Please open an issue on GitHub for any issues related to this experimental feature.\n",
      "`torch.cuda.amp.autocast(args...)` is deprecated. Please use `torch.amp.autocast('cuda', args...)` instead.\n",
      "You are using `torch.load` with `weights_only=False` (the current default value), which uses the default pickle module implicitly. It is possible to construct malicious pickle data which will execute arbitrary code during unpickling (See https://github.com/pytorch/pytorch/blob/main/SECURITY.md#untrusted-models for more details). In a future release, the default value for `weights_only` will be flipped to `True`. This limits the functions that could be executed during unpickling. Arbitrary objects will no longer be allowed to be loaded via this mode unless they are explicitly allowlisted by the user via `torch.serialization.add_safe_globals`. We recommend you start setting `weights_only=True` for any use case where you don't have full control of the loaded file. Please open an issue on GitHub for any issues related to this experimental feature.\n",
      "`torch.cuda.amp.autocast(args...)` is deprecated. Please use `torch.amp.autocast('cuda', args...)` instead.\n",
      "You are using `torch.load` with `weights_only=False` (the current default value), which uses the default pickle module implicitly. It is possible to construct malicious pickle data which will execute arbitrary code during unpickling (See https://github.com/pytorch/pytorch/blob/main/SECURITY.md#untrusted-models for more details). In a future release, the default value for `weights_only` will be flipped to `True`. This limits the functions that could be executed during unpickling. Arbitrary objects will no longer be allowed to be loaded via this mode unless they are explicitly allowlisted by the user via `torch.serialization.add_safe_globals`. We recommend you start setting `weights_only=True` for any use case where you don't have full control of the loaded file. Please open an issue on GitHub for any issues related to this experimental feature.\n",
      "`torch.cuda.amp.autocast(args...)` is deprecated. Please use `torch.amp.autocast('cuda', args...)` instead.\n",
      "You are using `torch.load` with `weights_only=False` (the current default value), which uses the default pickle module implicitly. It is possible to construct malicious pickle data which will execute arbitrary code during unpickling (See https://github.com/pytorch/pytorch/blob/main/SECURITY.md#untrusted-models for more details). In a future release, the default value for `weights_only` will be flipped to `True`. This limits the functions that could be executed during unpickling. Arbitrary objects will no longer be allowed to be loaded via this mode unless they are explicitly allowlisted by the user via `torch.serialization.add_safe_globals`. We recommend you start setting `weights_only=True` for any use case where you don't have full control of the loaded file. Please open an issue on GitHub for any issues related to this experimental feature.\n",
      "`torch.cuda.amp.autocast(args...)` is deprecated. Please use `torch.amp.autocast('cuda', args...)` instead.\n",
      "Ensembling (rank 0)...:  46%|████▌     | 6/13 [16:38<18:37, 159.61s/it]You are using `torch.load` with `weights_only=False` (the current default value), which uses the default pickle module implicitly. It is possible to construct malicious pickle data which will execute arbitrary code during unpickling (See https://github.com/pytorch/pytorch/blob/main/SECURITY.md#untrusted-models for more details). In a future release, the default value for `weights_only` will be flipped to `True`. This limits the functions that could be executed during unpickling. Arbitrary objects will no longer be allowed to be loaded via this mode unless they are explicitly allowlisted by the user via `torch.serialization.add_safe_globals`. We recommend you start setting `weights_only=True` for any use case where you don't have full control of the loaded file. Please open an issue on GitHub for any issues related to this experimental feature.\n",
      "`torch.cuda.amp.autocast(args...)` is deprecated. Please use `torch.amp.autocast('cuda', args...)` instead.\n",
      "You are using `torch.load` with `weights_only=False` (the current default value), which uses the default pickle module implicitly. It is possible to construct malicious pickle data which will execute arbitrary code during unpickling (See https://github.com/pytorch/pytorch/blob/main/SECURITY.md#untrusted-models for more details). In a future release, the default value for `weights_only` will be flipped to `True`. This limits the functions that could be executed during unpickling. Arbitrary objects will no longer be allowed to be loaded via this mode unless they are explicitly allowlisted by the user via `torch.serialization.add_safe_globals`. We recommend you start setting `weights_only=True` for any use case where you don't have full control of the loaded file. Please open an issue on GitHub for any issues related to this experimental feature.\n",
      "`torch.cuda.amp.autocast(args...)` is deprecated. Please use `torch.amp.autocast('cuda', args...)` instead.\n",
      "You are using `torch.load` with `weights_only=False` (the current default value), which uses the default pickle module implicitly. It is possible to construct malicious pickle data which will execute arbitrary code during unpickling (See https://github.com/pytorch/pytorch/blob/main/SECURITY.md#untrusted-models for more details). In a future release, the default value for `weights_only` will be flipped to `True`. This limits the functions that could be executed during unpickling. Arbitrary objects will no longer be allowed to be loaded via this mode unless they are explicitly allowlisted by the user via `torch.serialization.add_safe_globals`. We recommend you start setting `weights_only=True` for any use case where you don't have full control of the loaded file. Please open an issue on GitHub for any issues related to this experimental feature.\n",
      "`torch.cuda.amp.autocast(args...)` is deprecated. Please use `torch.amp.autocast('cuda', args...)` instead.\n",
      "You are using `torch.load` with `weights_only=False` (the current default value), which uses the default pickle module implicitly. It is possible to construct malicious pickle data which will execute arbitrary code during unpickling (See https://github.com/pytorch/pytorch/blob/main/SECURITY.md#untrusted-models for more details). In a future release, the default value for `weights_only` will be flipped to `True`. This limits the functions that could be executed during unpickling. Arbitrary objects will no longer be allowed to be loaded via this mode unless they are explicitly allowlisted by the user via `torch.serialization.add_safe_globals`. We recommend you start setting `weights_only=True` for any use case where you don't have full control of the loaded file. Please open an issue on GitHub for any issues related to this experimental feature.\n",
      "`torch.cuda.amp.autocast(args...)` is deprecated. Please use `torch.amp.autocast('cuda', args...)` instead.\n",
      "You are using `torch.load` with `weights_only=False` (the current default value), which uses the default pickle module implicitly. It is possible to construct malicious pickle data which will execute arbitrary code during unpickling (See https://github.com/pytorch/pytorch/blob/main/SECURITY.md#untrusted-models for more details). In a future release, the default value for `weights_only` will be flipped to `True`. This limits the functions that could be executed during unpickling. Arbitrary objects will no longer be allowed to be loaded via this mode unless they are explicitly allowlisted by the user via `torch.serialization.add_safe_globals`. We recommend you start setting `weights_only=True` for any use case where you don't have full control of the loaded file. Please open an issue on GitHub for any issues related to this experimental feature.\n",
      "`torch.cuda.amp.autocast(args...)` is deprecated. Please use `torch.amp.autocast('cuda', args...)` instead.\n",
      "Ensembling (rank 0)...:  54%|█████▍    | 7/13 [19:27<16:17, 162.84s/it]You are using `torch.load` with `weights_only=False` (the current default value), which uses the default pickle module implicitly. It is possible to construct malicious pickle data which will execute arbitrary code during unpickling (See https://github.com/pytorch/pytorch/blob/main/SECURITY.md#untrusted-models for more details). In a future release, the default value for `weights_only` will be flipped to `True`. This limits the functions that could be executed during unpickling. Arbitrary objects will no longer be allowed to be loaded via this mode unless they are explicitly allowlisted by the user via `torch.serialization.add_safe_globals`. We recommend you start setting `weights_only=True` for any use case where you don't have full control of the loaded file. Please open an issue on GitHub for any issues related to this experimental feature.\n",
      "`torch.cuda.amp.autocast(args...)` is deprecated. Please use `torch.amp.autocast('cuda', args...)` instead.\n",
      "You are using `torch.load` with `weights_only=False` (the current default value), which uses the default pickle module implicitly. It is possible to construct malicious pickle data which will execute arbitrary code during unpickling (See https://github.com/pytorch/pytorch/blob/main/SECURITY.md#untrusted-models for more details). In a future release, the default value for `weights_only` will be flipped to `True`. This limits the functions that could be executed during unpickling. Arbitrary objects will no longer be allowed to be loaded via this mode unless they are explicitly allowlisted by the user via `torch.serialization.add_safe_globals`. We recommend you start setting `weights_only=True` for any use case where you don't have full control of the loaded file. Please open an issue on GitHub for any issues related to this experimental feature.\n",
      "`torch.cuda.amp.autocast(args...)` is deprecated. Please use `torch.amp.autocast('cuda', args...)` instead.\n",
      "You are using `torch.load` with `weights_only=False` (the current default value), which uses the default pickle module implicitly. It is possible to construct malicious pickle data which will execute arbitrary code during unpickling (See https://github.com/pytorch/pytorch/blob/main/SECURITY.md#untrusted-models for more details). In a future release, the default value for `weights_only` will be flipped to `True`. This limits the functions that could be executed during unpickling. Arbitrary objects will no longer be allowed to be loaded via this mode unless they are explicitly allowlisted by the user via `torch.serialization.add_safe_globals`. We recommend you start setting `weights_only=True` for any use case where you don't have full control of the loaded file. Please open an issue on GitHub for any issues related to this experimental feature.\n",
      "`torch.cuda.amp.autocast(args...)` is deprecated. Please use `torch.amp.autocast('cuda', args...)` instead.\n",
      "You are using `torch.load` with `weights_only=False` (the current default value), which uses the default pickle module implicitly. It is possible to construct malicious pickle data which will execute arbitrary code during unpickling (See https://github.com/pytorch/pytorch/blob/main/SECURITY.md#untrusted-models for more details). In a future release, the default value for `weights_only` will be flipped to `True`. This limits the functions that could be executed during unpickling. Arbitrary objects will no longer be allowed to be loaded via this mode unless they are explicitly allowlisted by the user via `torch.serialization.add_safe_globals`. We recommend you start setting `weights_only=True` for any use case where you don't have full control of the loaded file. Please open an issue on GitHub for any issues related to this experimental feature.\n",
      "`torch.cuda.amp.autocast(args...)` is deprecated. Please use `torch.amp.autocast('cuda', args...)` instead.\n",
      "You are using `torch.load` with `weights_only=False` (the current default value), which uses the default pickle module implicitly. It is possible to construct malicious pickle data which will execute arbitrary code during unpickling (See https://github.com/pytorch/pytorch/blob/main/SECURITY.md#untrusted-models for more details). In a future release, the default value for `weights_only` will be flipped to `True`. This limits the functions that could be executed during unpickling. Arbitrary objects will no longer be allowed to be loaded via this mode unless they are explicitly allowlisted by the user via `torch.serialization.add_safe_globals`. We recommend you start setting `weights_only=True` for any use case where you don't have full control of the loaded file. Please open an issue on GitHub for any issues related to this experimental feature.\n",
      "`torch.cuda.amp.autocast(args...)` is deprecated. Please use `torch.amp.autocast('cuda', args...)` instead.\n",
      "Ensembling (rank 0)...:  62%|██████▏   | 8/13 [22:17<13:44, 164.91s/it]You are using `torch.load` with `weights_only=False` (the current default value), which uses the default pickle module implicitly. It is possible to construct malicious pickle data which will execute arbitrary code during unpickling (See https://github.com/pytorch/pytorch/blob/main/SECURITY.md#untrusted-models for more details). In a future release, the default value for `weights_only` will be flipped to `True`. This limits the functions that could be executed during unpickling. Arbitrary objects will no longer be allowed to be loaded via this mode unless they are explicitly allowlisted by the user via `torch.serialization.add_safe_globals`. We recommend you start setting `weights_only=True` for any use case where you don't have full control of the loaded file. Please open an issue on GitHub for any issues related to this experimental feature.\n",
      "`torch.cuda.amp.autocast(args...)` is deprecated. Please use `torch.amp.autocast('cuda', args...)` instead.\n",
      "You are using `torch.load` with `weights_only=False` (the current default value), which uses the default pickle module implicitly. It is possible to construct malicious pickle data which will execute arbitrary code during unpickling (See https://github.com/pytorch/pytorch/blob/main/SECURITY.md#untrusted-models for more details). In a future release, the default value for `weights_only` will be flipped to `True`. This limits the functions that could be executed during unpickling. Arbitrary objects will no longer be allowed to be loaded via this mode unless they are explicitly allowlisted by the user via `torch.serialization.add_safe_globals`. We recommend you start setting `weights_only=True` for any use case where you don't have full control of the loaded file. Please open an issue on GitHub for any issues related to this experimental feature.\n",
      "`torch.cuda.amp.autocast(args...)` is deprecated. Please use `torch.amp.autocast('cuda', args...)` instead.\n",
      "You are using `torch.load` with `weights_only=False` (the current default value), which uses the default pickle module implicitly. It is possible to construct malicious pickle data which will execute arbitrary code during unpickling (See https://github.com/pytorch/pytorch/blob/main/SECURITY.md#untrusted-models for more details). In a future release, the default value for `weights_only` will be flipped to `True`. This limits the functions that could be executed during unpickling. Arbitrary objects will no longer be allowed to be loaded via this mode unless they are explicitly allowlisted by the user via `torch.serialization.add_safe_globals`. We recommend you start setting `weights_only=True` for any use case where you don't have full control of the loaded file. Please open an issue on GitHub for any issues related to this experimental feature.\n",
      "`torch.cuda.amp.autocast(args...)` is deprecated. Please use `torch.amp.autocast('cuda', args...)` instead.\n",
      "You are using `torch.load` with `weights_only=False` (the current default value), which uses the default pickle module implicitly. It is possible to construct malicious pickle data which will execute arbitrary code during unpickling (See https://github.com/pytorch/pytorch/blob/main/SECURITY.md#untrusted-models for more details). In a future release, the default value for `weights_only` will be flipped to `True`. This limits the functions that could be executed during unpickling. Arbitrary objects will no longer be allowed to be loaded via this mode unless they are explicitly allowlisted by the user via `torch.serialization.add_safe_globals`. We recommend you start setting `weights_only=True` for any use case where you don't have full control of the loaded file. Please open an issue on GitHub for any issues related to this experimental feature.\n",
      "`torch.cuda.amp.autocast(args...)` is deprecated. Please use `torch.amp.autocast('cuda', args...)` instead.\n",
      "You are using `torch.load` with `weights_only=False` (the current default value), which uses the default pickle module implicitly. It is possible to construct malicious pickle data which will execute arbitrary code during unpickling (See https://github.com/pytorch/pytorch/blob/main/SECURITY.md#untrusted-models for more details). In a future release, the default value for `weights_only` will be flipped to `True`. This limits the functions that could be executed during unpickling. Arbitrary objects will no longer be allowed to be loaded via this mode unless they are explicitly allowlisted by the user via `torch.serialization.add_safe_globals`. We recommend you start setting `weights_only=True` for any use case where you don't have full control of the loaded file. Please open an issue on GitHub for any issues related to this experimental feature.\n",
      "`torch.cuda.amp.autocast(args...)` is deprecated. Please use `torch.amp.autocast('cuda', args...)` instead.\n",
      "Ensembling (rank 0)...:  69%|██████▉   | 9/13 [25:06<11:05, 166.34s/it]You are using `torch.load` with `weights_only=False` (the current default value), which uses the default pickle module implicitly. It is possible to construct malicious pickle data which will execute arbitrary code during unpickling (See https://github.com/pytorch/pytorch/blob/main/SECURITY.md#untrusted-models for more details). In a future release, the default value for `weights_only` will be flipped to `True`. This limits the functions that could be executed during unpickling. Arbitrary objects will no longer be allowed to be loaded via this mode unless they are explicitly allowlisted by the user via `torch.serialization.add_safe_globals`. We recommend you start setting `weights_only=True` for any use case where you don't have full control of the loaded file. Please open an issue on GitHub for any issues related to this experimental feature.\n",
      "`torch.cuda.amp.autocast(args...)` is deprecated. Please use `torch.amp.autocast('cuda', args...)` instead.\n",
      "You are using `torch.load` with `weights_only=False` (the current default value), which uses the default pickle module implicitly. It is possible to construct malicious pickle data which will execute arbitrary code during unpickling (See https://github.com/pytorch/pytorch/blob/main/SECURITY.md#untrusted-models for more details). In a future release, the default value for `weights_only` will be flipped to `True`. This limits the functions that could be executed during unpickling. Arbitrary objects will no longer be allowed to be loaded via this mode unless they are explicitly allowlisted by the user via `torch.serialization.add_safe_globals`. We recommend you start setting `weights_only=True` for any use case where you don't have full control of the loaded file. Please open an issue on GitHub for any issues related to this experimental feature.\n",
      "`torch.cuda.amp.autocast(args...)` is deprecated. Please use `torch.amp.autocast('cuda', args...)` instead.\n",
      "You are using `torch.load` with `weights_only=False` (the current default value), which uses the default pickle module implicitly. It is possible to construct malicious pickle data which will execute arbitrary code during unpickling (See https://github.com/pytorch/pytorch/blob/main/SECURITY.md#untrusted-models for more details). In a future release, the default value for `weights_only` will be flipped to `True`. This limits the functions that could be executed during unpickling. Arbitrary objects will no longer be allowed to be loaded via this mode unless they are explicitly allowlisted by the user via `torch.serialization.add_safe_globals`. We recommend you start setting `weights_only=True` for any use case where you don't have full control of the loaded file. Please open an issue on GitHub for any issues related to this experimental feature.\n",
      "`torch.cuda.amp.autocast(args...)` is deprecated. Please use `torch.amp.autocast('cuda', args...)` instead.\n",
      "You are using `torch.load` with `weights_only=False` (the current default value), which uses the default pickle module implicitly. It is possible to construct malicious pickle data which will execute arbitrary code during unpickling (See https://github.com/pytorch/pytorch/blob/main/SECURITY.md#untrusted-models for more details). In a future release, the default value for `weights_only` will be flipped to `True`. This limits the functions that could be executed during unpickling. Arbitrary objects will no longer be allowed to be loaded via this mode unless they are explicitly allowlisted by the user via `torch.serialization.add_safe_globals`. We recommend you start setting `weights_only=True` for any use case where you don't have full control of the loaded file. Please open an issue on GitHub for any issues related to this experimental feature.\n",
      "`torch.cuda.amp.autocast(args...)` is deprecated. Please use `torch.amp.autocast('cuda', args...)` instead.\n",
      "You are using `torch.load` with `weights_only=False` (the current default value), which uses the default pickle module implicitly. It is possible to construct malicious pickle data which will execute arbitrary code during unpickling (See https://github.com/pytorch/pytorch/blob/main/SECURITY.md#untrusted-models for more details). In a future release, the default value for `weights_only` will be flipped to `True`. This limits the functions that could be executed during unpickling. Arbitrary objects will no longer be allowed to be loaded via this mode unless they are explicitly allowlisted by the user via `torch.serialization.add_safe_globals`. We recommend you start setting `weights_only=True` for any use case where you don't have full control of the loaded file. Please open an issue on GitHub for any issues related to this experimental feature.\n",
      "`torch.cuda.amp.autocast(args...)` is deprecated. Please use `torch.amp.autocast('cuda', args...)` instead.\n",
      "Ensembling (rank 0)...:  77%|███████▋  | 10/13 [27:55<08:21, 167.20s/it]You are using `torch.load` with `weights_only=False` (the current default value), which uses the default pickle module implicitly. It is possible to construct malicious pickle data which will execute arbitrary code during unpickling (See https://github.com/pytorch/pytorch/blob/main/SECURITY.md#untrusted-models for more details). In a future release, the default value for `weights_only` will be flipped to `True`. This limits the functions that could be executed during unpickling. Arbitrary objects will no longer be allowed to be loaded via this mode unless they are explicitly allowlisted by the user via `torch.serialization.add_safe_globals`. We recommend you start setting `weights_only=True` for any use case where you don't have full control of the loaded file. Please open an issue on GitHub for any issues related to this experimental feature.\n",
      "`torch.cuda.amp.autocast(args...)` is deprecated. Please use `torch.amp.autocast('cuda', args...)` instead.\n",
      "You are using `torch.load` with `weights_only=False` (the current default value), which uses the default pickle module implicitly. It is possible to construct malicious pickle data which will execute arbitrary code during unpickling (See https://github.com/pytorch/pytorch/blob/main/SECURITY.md#untrusted-models for more details). In a future release, the default value for `weights_only` will be flipped to `True`. This limits the functions that could be executed during unpickling. Arbitrary objects will no longer be allowed to be loaded via this mode unless they are explicitly allowlisted by the user via `torch.serialization.add_safe_globals`. We recommend you start setting `weights_only=True` for any use case where you don't have full control of the loaded file. Please open an issue on GitHub for any issues related to this experimental feature.\n",
      "`torch.cuda.amp.autocast(args...)` is deprecated. Please use `torch.amp.autocast('cuda', args...)` instead.\n",
      "You are using `torch.load` with `weights_only=False` (the current default value), which uses the default pickle module implicitly. It is possible to construct malicious pickle data which will execute arbitrary code during unpickling (See https://github.com/pytorch/pytorch/blob/main/SECURITY.md#untrusted-models for more details). In a future release, the default value for `weights_only` will be flipped to `True`. This limits the functions that could be executed during unpickling. Arbitrary objects will no longer be allowed to be loaded via this mode unless they are explicitly allowlisted by the user via `torch.serialization.add_safe_globals`. We recommend you start setting `weights_only=True` for any use case where you don't have full control of the loaded file. Please open an issue on GitHub for any issues related to this experimental feature.\n",
      "`torch.cuda.amp.autocast(args...)` is deprecated. Please use `torch.amp.autocast('cuda', args...)` instead.\n",
      "You are using `torch.load` with `weights_only=False` (the current default value), which uses the default pickle module implicitly. It is possible to construct malicious pickle data which will execute arbitrary code during unpickling (See https://github.com/pytorch/pytorch/blob/main/SECURITY.md#untrusted-models for more details). In a future release, the default value for `weights_only` will be flipped to `True`. This limits the functions that could be executed during unpickling. Arbitrary objects will no longer be allowed to be loaded via this mode unless they are explicitly allowlisted by the user via `torch.serialization.add_safe_globals`. We recommend you start setting `weights_only=True` for any use case where you don't have full control of the loaded file. Please open an issue on GitHub for any issues related to this experimental feature.\n",
      "`torch.cuda.amp.autocast(args...)` is deprecated. Please use `torch.amp.autocast('cuda', args...)` instead.\n",
      "You are using `torch.load` with `weights_only=False` (the current default value), which uses the default pickle module implicitly. It is possible to construct malicious pickle data which will execute arbitrary code during unpickling (See https://github.com/pytorch/pytorch/blob/main/SECURITY.md#untrusted-models for more details). In a future release, the default value for `weights_only` will be flipped to `True`. This limits the functions that could be executed during unpickling. Arbitrary objects will no longer be allowed to be loaded via this mode unless they are explicitly allowlisted by the user via `torch.serialization.add_safe_globals`. We recommend you start setting `weights_only=True` for any use case where you don't have full control of the loaded file. Please open an issue on GitHub for any issues related to this experimental feature.\n",
      "`torch.cuda.amp.autocast(args...)` is deprecated. Please use `torch.amp.autocast('cuda', args...)` instead.\n",
      "Ensembling (rank 0)...:  85%|████████▍ | 11/13 [30:45<05:35, 167.88s/it]You are using `torch.load` with `weights_only=False` (the current default value), which uses the default pickle module implicitly. It is possible to construct malicious pickle data which will execute arbitrary code during unpickling (See https://github.com/pytorch/pytorch/blob/main/SECURITY.md#untrusted-models for more details). In a future release, the default value for `weights_only` will be flipped to `True`. This limits the functions that could be executed during unpickling. Arbitrary objects will no longer be allowed to be loaded via this mode unless they are explicitly allowlisted by the user via `torch.serialization.add_safe_globals`. We recommend you start setting `weights_only=True` for any use case where you don't have full control of the loaded file. Please open an issue on GitHub for any issues related to this experimental feature.\n",
      "`torch.cuda.amp.autocast(args...)` is deprecated. Please use `torch.amp.autocast('cuda', args...)` instead.\n",
      "You are using `torch.load` with `weights_only=False` (the current default value), which uses the default pickle module implicitly. It is possible to construct malicious pickle data which will execute arbitrary code during unpickling (See https://github.com/pytorch/pytorch/blob/main/SECURITY.md#untrusted-models for more details). In a future release, the default value for `weights_only` will be flipped to `True`. This limits the functions that could be executed during unpickling. Arbitrary objects will no longer be allowed to be loaded via this mode unless they are explicitly allowlisted by the user via `torch.serialization.add_safe_globals`. We recommend you start setting `weights_only=True` for any use case where you don't have full control of the loaded file. Please open an issue on GitHub for any issues related to this experimental feature.\n",
      "`torch.cuda.amp.autocast(args...)` is deprecated. Please use `torch.amp.autocast('cuda', args...)` instead.\n",
      "You are using `torch.load` with `weights_only=False` (the current default value), which uses the default pickle module implicitly. It is possible to construct malicious pickle data which will execute arbitrary code during unpickling (See https://github.com/pytorch/pytorch/blob/main/SECURITY.md#untrusted-models for more details). In a future release, the default value for `weights_only` will be flipped to `True`. This limits the functions that could be executed during unpickling. Arbitrary objects will no longer be allowed to be loaded via this mode unless they are explicitly allowlisted by the user via `torch.serialization.add_safe_globals`. We recommend you start setting `weights_only=True` for any use case where you don't have full control of the loaded file. Please open an issue on GitHub for any issues related to this experimental feature.\n",
      "`torch.cuda.amp.autocast(args...)` is deprecated. Please use `torch.amp.autocast('cuda', args...)` instead.\n",
      "You are using `torch.load` with `weights_only=False` (the current default value), which uses the default pickle module implicitly. It is possible to construct malicious pickle data which will execute arbitrary code during unpickling (See https://github.com/pytorch/pytorch/blob/main/SECURITY.md#untrusted-models for more details). In a future release, the default value for `weights_only` will be flipped to `True`. This limits the functions that could be executed during unpickling. Arbitrary objects will no longer be allowed to be loaded via this mode unless they are explicitly allowlisted by the user via `torch.serialization.add_safe_globals`. We recommend you start setting `weights_only=True` for any use case where you don't have full control of the loaded file. Please open an issue on GitHub for any issues related to this experimental feature.\n",
      "`torch.cuda.amp.autocast(args...)` is deprecated. Please use `torch.amp.autocast('cuda', args...)` instead.\n",
      "You are using `torch.load` with `weights_only=False` (the current default value), which uses the default pickle module implicitly. It is possible to construct malicious pickle data which will execute arbitrary code during unpickling (See https://github.com/pytorch/pytorch/blob/main/SECURITY.md#untrusted-models for more details). In a future release, the default value for `weights_only` will be flipped to `True`. This limits the functions that could be executed during unpickling. Arbitrary objects will no longer be allowed to be loaded via this mode unless they are explicitly allowlisted by the user via `torch.serialization.add_safe_globals`. We recommend you start setting `weights_only=True` for any use case where you don't have full control of the loaded file. Please open an issue on GitHub for any issues related to this experimental feature.\n",
      "`torch.cuda.amp.autocast(args...)` is deprecated. Please use `torch.amp.autocast('cuda', args...)` instead.\n",
      "Ensembling (rank 0)...:  92%|█████████▏| 12/13 [33:34<02:48, 168.37s/it]You are using `torch.load` with `weights_only=False` (the current default value), which uses the default pickle module implicitly. It is possible to construct malicious pickle data which will execute arbitrary code during unpickling (See https://github.com/pytorch/pytorch/blob/main/SECURITY.md#untrusted-models for more details). In a future release, the default value for `weights_only` will be flipped to `True`. This limits the functions that could be executed during unpickling. Arbitrary objects will no longer be allowed to be loaded via this mode unless they are explicitly allowlisted by the user via `torch.serialization.add_safe_globals`. We recommend you start setting `weights_only=True` for any use case where you don't have full control of the loaded file. Please open an issue on GitHub for any issues related to this experimental feature.\n",
      "`torch.cuda.amp.autocast(args...)` is deprecated. Please use `torch.amp.autocast('cuda', args...)` instead.\n",
      "You are using `torch.load` with `weights_only=False` (the current default value), which uses the default pickle module implicitly. It is possible to construct malicious pickle data which will execute arbitrary code during unpickling (See https://github.com/pytorch/pytorch/blob/main/SECURITY.md#untrusted-models for more details). In a future release, the default value for `weights_only` will be flipped to `True`. This limits the functions that could be executed during unpickling. Arbitrary objects will no longer be allowed to be loaded via this mode unless they are explicitly allowlisted by the user via `torch.serialization.add_safe_globals`. We recommend you start setting `weights_only=True` for any use case where you don't have full control of the loaded file. Please open an issue on GitHub for any issues related to this experimental feature.\n",
      "`torch.cuda.amp.autocast(args...)` is deprecated. Please use `torch.amp.autocast('cuda', args...)` instead.\n",
      "You are using `torch.load` with `weights_only=False` (the current default value), which uses the default pickle module implicitly. It is possible to construct malicious pickle data which will execute arbitrary code during unpickling (See https://github.com/pytorch/pytorch/blob/main/SECURITY.md#untrusted-models for more details). In a future release, the default value for `weights_only` will be flipped to `True`. This limits the functions that could be executed during unpickling. Arbitrary objects will no longer be allowed to be loaded via this mode unless they are explicitly allowlisted by the user via `torch.serialization.add_safe_globals`. We recommend you start setting `weights_only=True` for any use case where you don't have full control of the loaded file. Please open an issue on GitHub for any issues related to this experimental feature.\n",
      "`torch.cuda.amp.autocast(args...)` is deprecated. Please use `torch.amp.autocast('cuda', args...)` instead.\n",
      "You are using `torch.load` with `weights_only=False` (the current default value), which uses the default pickle module implicitly. It is possible to construct malicious pickle data which will execute arbitrary code during unpickling (See https://github.com/pytorch/pytorch/blob/main/SECURITY.md#untrusted-models for more details). In a future release, the default value for `weights_only` will be flipped to `True`. This limits the functions that could be executed during unpickling. Arbitrary objects will no longer be allowed to be loaded via this mode unless they are explicitly allowlisted by the user via `torch.serialization.add_safe_globals`. We recommend you start setting `weights_only=True` for any use case where you don't have full control of the loaded file. Please open an issue on GitHub for any issues related to this experimental feature.\n",
      "`torch.cuda.amp.autocast(args...)` is deprecated. Please use `torch.amp.autocast('cuda', args...)` instead.\n",
      "You are using `torch.load` with `weights_only=False` (the current default value), which uses the default pickle module implicitly. It is possible to construct malicious pickle data which will execute arbitrary code during unpickling (See https://github.com/pytorch/pytorch/blob/main/SECURITY.md#untrusted-models for more details). In a future release, the default value for `weights_only` will be flipped to `True`. This limits the functions that could be executed during unpickling. Arbitrary objects will no longer be allowed to be loaded via this mode unless they are explicitly allowlisted by the user via `torch.serialization.add_safe_globals`. We recommend you start setting `weights_only=True` for any use case where you don't have full control of the loaded file. Please open an issue on GitHub for any issues related to this experimental feature.\n",
      "`torch.cuda.amp.autocast(args...)` is deprecated. Please use `torch.amp.autocast('cuda', args...)` instead.\n",
      "Ensembling (rank 0)...: 100%|██████████| 13/13 [36:24<00:00, 168.04s/it]\n",
      "2024-09-01 09:45:49,673 - INFO - Auto3Dseg pipeline is completed successfully.\n"
     ]
    }
   ],
   "source": [
    "\n",
    "\n",
    "runner.run()"
   ]
  },
  {
   "cell_type": "code",
   "execution_count": 30,
   "id": "fd9d8084",
   "metadata": {},
   "outputs": [
    {
     "data": {
      "text/plain": [
       "{'fold': 3,\n",
       " 'image': '/mnt/h/3Tpioneer_bids/sub-ms1196/ses-20161004/t1.nii.gz',\n",
       " 'label': '/mnt/h/3Tpioneer_bids/sub-ms1196/ses-20161004/pituitary.nii.gz'}"
      ]
     },
     "execution_count": 30,
     "metadata": {},
     "output_type": "execute_result"
    }
   ],
   "source": [
    "datalist['training'][48]"
   ]
  },
  {
   "cell_type": "code",
   "execution_count": 29,
   "id": "5340f6e5",
   "metadata": {},
   "outputs": [],
   "source": [
    "scan_path = \"/mnt/t/Data/3Tpioneer_bids/sub-ms1001/ses-20170215/proc/lesion_index.t3m20-mni_reg.nii.gz\"\n",
    "img = nib.load(scan_path)\n"
   ]
  }
 ],
 "metadata": {
  "kernelspec": {
   "display_name": "Python 3 (ipykernel)",
   "language": "python",
   "name": "python3"
  },
  "language_info": {
   "codemirror_mode": {
    "name": "ipython",
    "version": 3
   },
   "file_extension": ".py",
   "mimetype": "text/x-python",
   "name": "python",
   "nbconvert_exporter": "python",
   "pygments_lexer": "ipython3",
   "version": "3.12.4"
  }
 },
 "nbformat": 4,
 "nbformat_minor": 5
}
