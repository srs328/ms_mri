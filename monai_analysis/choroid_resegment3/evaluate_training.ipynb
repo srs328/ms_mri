{
 "cells": [
  {
   "cell_type": "code",
   "execution_count": 1,
   "metadata": {},
   "outputs": [],
   "source": [
    "import os\n",
    "from pathlib import Path\n",
    "import numpy as np\n",
    "import json\n",
    "from loguru import logger\n",
    "import platform\n",
    "import re \n",
    "import nibabel as nib\n",
    "import statistics\n",
    "import sys\n",
    "\n",
    "import mri_data\n",
    "import monai_training\n",
    "\n",
    "from reload_recursive import reload_recursive"
   ]
  },
  {
   "cell_type": "code",
   "execution_count": 2,
   "metadata": {},
   "outputs": [],
   "source": [
    "reload_recursive(mri_data)\n",
    "reload_recursive(monai_training)\n",
    "from mri_data.file_manager import scan_3Tpioneer_bids, DataSet, Scan  # noqa: E402, F401\n",
    "from mri_data import utils\n",
    "from mri_data import file_manager as fm\n",
    "from monai_training import preprocess  # noqa: E402\n",
    "from monai_training.preprocess import DataSetProcesser"
   ]
  },
  {
   "cell_type": "code",
   "execution_count": 3,
   "metadata": {},
   "outputs": [
    {
     "data": {
      "text/plain": [
       "1"
      ]
     },
     "execution_count": 3,
     "metadata": {},
     "output_type": "execute_result"
    }
   ],
   "source": [
    "logger.remove()\n",
    "logger.add(sys.stderr, level=\"INFO\")"
   ]
  },
  {
   "cell_type": "code",
   "execution_count": 4,
   "metadata": {},
   "outputs": [],
   "source": [
    "#! Set these variables\n",
    "work_dir_name = \"choroid_resegment3\""
   ]
  },
  {
   "cell_type": "code",
   "execution_count": 7,
   "metadata": {},
   "outputs": [],
   "source": [
    "hostname = platform.node()\n",
    "if hostname == \"rhinocampus\":\n",
    "    drive_root = Path(\"/media/smbshare\")\n",
    "else:\n",
    "    drive_root = Path(\"/mnt/h\")\n",
    "\n",
    "projects_root = Path(\"/home/srs-9/Projects\")\n",
    "\n",
    "msmri_home = projects_root / \"ms_mri\"\n",
    "training_work_dirs = drive_root / \"training_work_dirs\"\n",
    "\n",
    "# dataroot = \"/media/hemondlab/Data/3Tpioneer_bids\"\n",
    "dataroot = drive_root / \"3Tpioneer_bids\"\n",
    "work_dir = training_work_dirs / work_dir_name\n",
    "ensemble_out_dir = work_dir / \"ensemble_output\""
   ]
  },
  {
   "cell_type": "markdown",
   "metadata": {},
   "source": [
    "Scan the ensemble_out folder produced during the monai training to collect the predicted labels into a DataSet struct. Create another DataSet object with the same subjects and sessions but rooted in the main data location, then collect the manual labels "
   ]
  },
  {
   "cell_type": "code",
   "execution_count": 8,
   "metadata": {},
   "outputs": [
    {
     "name": "stderr",
     "output_type": "stream",
     "text": [
      "\u001b[32m2024-12-15 16:50:15.529\u001b[0m | \u001b[1mINFO    \u001b[0m | \u001b[36mmonai_training.preprocess\u001b[0m:\u001b[36mprepare_labels\u001b[0m:\u001b[36m167\u001b[0m - \u001b[1mPrepare Labels\u001b[0m\n",
      "  0%|          | 0/10 [00:00<?, ?it/s]\u001b[32m2024-12-15 16:50:15.635\u001b[0m | \u001b[1mINFO    \u001b[0m | \u001b[36mmonai_training.preprocess\u001b[0m:\u001b[36mprepare_labels\u001b[0m:\u001b[36m226\u001b[0m - \u001b[1mFound label choroid_t1_flair-CH.nii.gz for Scan(subid=1010, sesid=20180208)\u001b[0m\n",
      " 10%|█         | 1/10 [00:00<00:00,  9.84it/s]\u001b[32m2024-12-15 16:50:15.692\u001b[0m | \u001b[1mINFO    \u001b[0m | \u001b[36mmonai_training.preprocess\u001b[0m:\u001b[36mprepare_labels\u001b[0m:\u001b[36m226\u001b[0m - \u001b[1mFound label choroid_t1_flair-CH.nii.gz for Scan(subid=1033, sesid=20171117)\u001b[0m\n",
      "\u001b[32m2024-12-15 16:50:15.734\u001b[0m | \u001b[1mINFO    \u001b[0m | \u001b[36mmonai_training.preprocess\u001b[0m:\u001b[36mprepare_labels\u001b[0m:\u001b[36m226\u001b[0m - \u001b[1mFound label choroid_t1_flair-CH.nii.gz for Scan(subid=1119, sesid=20161010)\u001b[0m\n",
      "\u001b[32m2024-12-15 16:50:15.841\u001b[0m | \u001b[1mINFO    \u001b[0m | \u001b[36mmonai_training.preprocess\u001b[0m:\u001b[36mprepare_labels\u001b[0m:\u001b[36m226\u001b[0m - \u001b[1mFound label choroid_t1_flair-ED.nii.gz for Scan(subid=1259, sesid=20200803)\u001b[0m\n",
      " 40%|████      | 4/10 [00:00<00:00, 13.37it/s]\u001b[32m2024-12-15 16:50:15.871\u001b[0m | \u001b[1mINFO    \u001b[0m | \u001b[36mmonai_training.preprocess\u001b[0m:\u001b[36mprepare_labels\u001b[0m:\u001b[36m226\u001b[0m - \u001b[1mFound label choroid_t1_flair-CH.nii.gz for Scan(subid=1437, sesid=20210503)\u001b[0m\n",
      "\u001b[32m2024-12-15 16:50:15.901\u001b[0m | \u001b[1mINFO    \u001b[0m | \u001b[36mmonai_training.preprocess\u001b[0m:\u001b[36mprepare_labels\u001b[0m:\u001b[36m226\u001b[0m - \u001b[1mFound label choroid_t1_flair-ED.nii.gz for Scan(subid=1547, sesid=20220321)\u001b[0m\n",
      "\u001b[32m2024-12-15 16:50:15.959\u001b[0m | \u001b[1mINFO    \u001b[0m | \u001b[36mmonai_training.preprocess\u001b[0m:\u001b[36mprepare_labels\u001b[0m:\u001b[36m226\u001b[0m - \u001b[1mFound label choroid_t1_flair-ED.nii.gz for Scan(subid=2081, sesid=20170204)\u001b[0m\n",
      " 70%|███████   | 7/10 [00:00<00:00, 17.94it/s]\u001b[32m2024-12-15 16:50:15.998\u001b[0m | \u001b[1mINFO    \u001b[0m | \u001b[36mmonai_training.preprocess\u001b[0m:\u001b[36mprepare_labels\u001b[0m:\u001b[36m226\u001b[0m - \u001b[1mFound label choroid_t1_flair-ED.nii.gz for Scan(subid=2126, sesid=20181224)\u001b[0m\n",
      "\u001b[32m2024-12-15 16:50:16.048\u001b[0m | \u001b[1mINFO    \u001b[0m | \u001b[36mmonai_training.preprocess\u001b[0m:\u001b[36mprepare_labels\u001b[0m:\u001b[36m226\u001b[0m - \u001b[1mFound label choroid_t1_flair-ED.nii.gz for Scan(subid=2146, sesid=20191017)\u001b[0m\n",
      "\u001b[32m2024-12-15 16:50:16.107\u001b[0m | \u001b[1mINFO    \u001b[0m | \u001b[36mmonai_training.preprocess\u001b[0m:\u001b[36mprepare_labels\u001b[0m:\u001b[36m226\u001b[0m - \u001b[1mFound label choroid_t1_flair-ED.nii.gz for Scan(subid=2187, sesid=20200731)\u001b[0m\n",
      "100%|██████████| 10/10 [00:00<00:00, 17.40it/s]\n",
      "\u001b[32m2024-12-15 16:50:16.110\u001b[0m | \u001b[1mINFO    \u001b[0m | \u001b[36mmonai_training.preprocess\u001b[0m:\u001b[36mprepare_labels\u001b[0m:\u001b[36m229\u001b[0m - \u001b[1mDataset size: 10\u001b[0m\n"
     ]
    }
   ],
   "source": [
    "ensemble_out_dataset = scan_3Tpioneer_bids(ensemble_out_dir, label=\"flair.t1_ensemble.nii.gz\")\n",
    "dataset = DataSet.dataset_like(ensemble_out_dataset)\n",
    "dataset.dataroot = dataroot\n",
    "dataset_proc = DataSetProcesser(dataset)\n",
    "dataset_proc.prepare_labels(\"choroid_t1_flair\", suffix_list=[\"CH\", \"ED\", \"DT\"])\n",
    "dataset = dataset_proc.dataset\n",
    "dataset.sort()\n",
    "ensemble_out_dataset.sort()"
   ]
  },
  {
   "cell_type": "markdown",
   "metadata": {},
   "source": [
    "Calculate Dice Scores"
   ]
  },
  {
   "cell_type": "code",
   "execution_count": 9,
   "metadata": {},
   "outputs": [
    {
     "name": "stdout",
     "output_type": "stream",
     "text": [
      "Dice Scores\n",
      "1010: 0.76\n",
      "1033: 0.78\n",
      "1119: 0.77\n",
      "1259: 0.73\n",
      "1437: 0.79\n",
      "1547: 0.79\n",
      "2081: 0.79\n",
      "2126: 0.83\n",
      "2146: 0.70\n",
      "2187: 0.80\n",
      "----------\n",
      "Mean: 0.77\n",
      "Std: 0.04\n",
      "[0.7629950495049505, 0.7794253938832252, 0.7748743718592965, 0.730551478297337, 0.7935744727352202, 0.7920557284719134, 0.7911308203991131, 0.829092599047287, 0.698946169182569, 0.7952329360780065]\n"
     ]
    }
   ],
   "source": [
    "dice_scores = []\n",
    "print(\"Dice Scores\")\n",
    "for scan, inference in zip(dataset, ensemble_out_dataset):\n",
    "    man_label = fm.find_label(scan, \"choroid_t1_flair\", [\"CH\", \"ED\", \"DT\"])\n",
    "    seg1 = nib.load(man_label).get_fdata()\n",
    "    seg2 = nib.load(inference.label_path).get_fdata()\n",
    "\n",
    "    # Calculate Dice score\n",
    "    score = utils.dice_score(seg1, seg2)\n",
    "    dice_scores.append(score)\n",
    "    print(\"{}: {:0.2f}\".format(scan.subid, score))\n",
    "print(\"----------\")\n",
    "print(\"Mean: {:0.2f}\".format(sum(dice_scores) / len(dice_scores)))\n",
    "print(\"Std: {:0.2f}\".format(statistics.stdev(dice_scores)))\n",
    "\n",
    "print(dice_scores)"
   ]
  },
  {
   "cell_type": "markdown",
   "metadata": {},
   "source": [
    "Calculate Hausdorff Distance for Choroid"
   ]
  },
  {
   "cell_type": "code",
   "execution_count": 10,
   "metadata": {},
   "outputs": [
    {
     "name": "stdout",
     "output_type": "stream",
     "text": [
      "Hausdorff Dist\n",
      "1010: 1.41\n",
      "1033: 1.41\n",
      "1119: 1.41\n",
      "1259: 1.00\n",
      "1437: 2.24\n",
      "1547: 2.83\n",
      "2081: 1.41\n",
      "2126: 1.00\n",
      "2146: 4.68\n",
      "2187: 1.00\n",
      "----------\n",
      "Mean: 1.84\n",
      "Std: 1.16\n",
      "[1.4142135623730951, 1.4142135623730951, 1.4142135623730951, 1.0, 2.23606797749979, 2.8284271247461903, 1.4142135623730951, 1.0, 4.679631753336632, 1.0]\n"
     ]
    }
   ],
   "source": [
    "haus = []\n",
    "print(\"Hausdorff Dist\")\n",
    "for scan, inference in zip(dataset, ensemble_out_dataset):\n",
    "    man_label = fm.find_label(scan, \"choroid_t1_flair\", [\"CH\", \"ED\", \"DT\"])\n",
    "    seg1 = nib.load(man_label).get_fdata()\n",
    "    seg2 = nib.load(inference.label_path).get_fdata()\n",
    "\n",
    "    # Calculate Dice score\n",
    "    score = utils.hausdorff_dist(seg1, seg2, seg2_val=1)\n",
    "    haus.append(score)\n",
    "    print(\"{}: {:0.2f}\".format(scan.subid, score))\n",
    "print(\"----------\")\n",
    "print(\"Mean: {:0.2f}\".format(sum(haus) / len(haus)))\n",
    "print(\"Std: {:0.2f}\".format(statistics.stdev(haus)))\n",
    "\n",
    "print(haus)"
   ]
  },
  {
   "cell_type": "markdown",
   "metadata": {},
   "source": [
    "Save a new version of the predicted label that has a labelling index of 2 so that it appears as a different color in itksnap"
   ]
  },
  {
   "cell_type": "code",
   "execution_count": null,
   "metadata": {},
   "outputs": [
    {
     "data": {
      "text/plain": [
       "PosixPath('/home/srs-9/Projects/ms_mri/training_work_dirs/pineal1/ensemble_output/sub-ms1010/ses-20180208/flair.t1_ensemble_val2.nii.gz')"
      ]
     },
     "metadata": {},
     "output_type": "display_data"
    }
   ],
   "source": [
    "inference: Scan = ensemble_out_dataset[0]\n",
    "label_path = inference.label_path\n",
    "new_label_path = label_path.with_name(f\"{fm.nifti_name(label_path)}_val2.nii.gz\")\n",
    "utils.set_label_value(label_path, new_label_path, 2)"
   ]
  },
  {
   "cell_type": "code",
   "execution_count": 10,
   "metadata": {},
   "outputs": [
    {
     "name": "stdout",
     "output_type": "stream",
     "text": [
      "itksnap -g /media/smbshare/3Tpioneer_bids/sub-ms1010/ses-20180208/flair.nii.gz -o /media/smbshare/3Tpioneer_bids/sub-ms1010/ses-20180208/t1.nii.gz -s /home/srs-9/Projects/ms_mri/training_work_dirs/choroid_resegment1/ensemble_output/sub-ms1010/ses-20180208/flair.t1_ensemble.nii.gz\n",
      "itksnap -g /media/smbshare/3Tpioneer_bids/sub-ms1033/ses-20171117/flair.nii.gz -o /media/smbshare/3Tpioneer_bids/sub-ms1033/ses-20171117/t1.nii.gz -s /home/srs-9/Projects/ms_mri/training_work_dirs/choroid_resegment1/ensemble_output/sub-ms1033/ses-20171117/flair.t1_ensemble.nii.gz\n",
      "itksnap -g /media/smbshare/3Tpioneer_bids/sub-ms1152/ses-20170529/flair.nii.gz -o /media/smbshare/3Tpioneer_bids/sub-ms1152/ses-20170529/t1.nii.gz -s /home/srs-9/Projects/ms_mri/training_work_dirs/choroid_resegment1/ensemble_output/sub-ms1152/ses-20170529/flair.t1_ensemble.nii.gz\n",
      "itksnap -g /media/smbshare/3Tpioneer_bids/sub-ms1163/ses-20180907/flair.nii.gz -o /media/smbshare/3Tpioneer_bids/sub-ms1163/ses-20180907/t1.nii.gz -s /home/srs-9/Projects/ms_mri/training_work_dirs/choroid_resegment1/ensemble_output/sub-ms1163/ses-20180907/flair.t1_ensemble.nii.gz\n",
      "itksnap -g /media/smbshare/3Tpioneer_bids/sub-ms1548/ses-20210628/flair.nii.gz -o /media/smbshare/3Tpioneer_bids/sub-ms1548/ses-20210628/t1.nii.gz -s /home/srs-9/Projects/ms_mri/training_work_dirs/choroid_resegment1/ensemble_output/sub-ms1548/ses-20210628/flair.t1_ensemble.nii.gz\n",
      "itksnap -g /media/smbshare/3Tpioneer_bids/sub-ms2097/ses-20171223/flair.nii.gz -o /media/smbshare/3Tpioneer_bids/sub-ms2097/ses-20171223/t1.nii.gz -s /home/srs-9/Projects/ms_mri/training_work_dirs/choroid_resegment1/ensemble_output/sub-ms2097/ses-20171223/flair.t1_ensemble.nii.gz\n",
      "itksnap -g /media/smbshare/3Tpioneer_bids/sub-ms2164/ses-20200113/flair.nii.gz -o /media/smbshare/3Tpioneer_bids/sub-ms2164/ses-20200113/t1.nii.gz -s /home/srs-9/Projects/ms_mri/training_work_dirs/choroid_resegment1/ensemble_output/sub-ms2164/ses-20200113/flair.t1_ensemble.nii.gz\n"
     ]
    }
   ],
   "source": [
    "for scan, inference in zip(dataset, ensemble_out_dataset):\n",
    "    flair = scan.root / \"flair.nii.gz\"\n",
    "    t1 = scan.root / \"t1.nii.gz\"\n",
    "    manual = scan.label_path\n",
    "    prediction = inference.label_path\n",
    "    print(\"itksnap\", \"-g\", flair, \"-o\", t1, \"-s\", prediction, \"-s\", manual)"
   ]
  },
  {
   "cell_type": "markdown",
   "metadata": {},
   "source": [
    "Produce commands to open images and labels in freeview"
   ]
  },
  {
   "cell_type": "code",
   "execution_count": 1,
   "metadata": {},
   "outputs": [
    {
     "data": {
      "text/plain": [
       "['one', '-g', 'twp', '-g', 'three']"
      ]
     },
     "execution_count": 1,
     "metadata": {},
     "output_type": "execute_result"
    }
   ],
   "source": [
    "image_paths = [\"one\", \"twp\", \"three\"]\n",
    "step1 = \" -g \".join(image_paths)\n",
    "step1.split(\" \")"
   ]
  },
  {
   "cell_type": "code",
   "execution_count": null,
   "metadata": {},
   "outputs": [
    {
     "name": "stdout",
     "output_type": "stream",
     "text": [
      "freeview /media/smbshare/3Tpioneer_bids/sub-ms1010/ses-20180208/flair.nii.gz /media/smbshare/3Tpioneer_bids/sub-ms1010/ses-20180208/t1.nii.gz /home/srs-9/Projects/ms_mri/training_work_dirs/pineal1/ensemble_output/sub-ms1010/ses-20180208/flair.t1_ensemble.nii.gz:colormap=heat /media/smbshare/3Tpioneer_bids/sub-ms1010/ses-20180208/pineal-CH.nii.gz:colormap=heat\n",
      "freeview /media/smbshare/3Tpioneer_bids/sub-ms1029/ses-20170816/flair.nii.gz /media/smbshare/3Tpioneer_bids/sub-ms1029/ses-20170816/t1.nii.gz /home/srs-9/Projects/ms_mri/training_work_dirs/pineal1/ensemble_output/sub-ms1029/ses-20170816/flair.t1_ensemble.nii.gz:colormap=heat /media/smbshare/3Tpioneer_bids/sub-ms1029/ses-20170816/pineal-SRS.nii.gz:colormap=heat\n",
      "freeview /media/smbshare/3Tpioneer_bids/sub-ms1188/ses-20200720/flair.nii.gz /media/smbshare/3Tpioneer_bids/sub-ms1188/ses-20200720/t1.nii.gz /home/srs-9/Projects/ms_mri/training_work_dirs/pineal1/ensemble_output/sub-ms1188/ses-20200720/flair.t1_ensemble.nii.gz:colormap=heat /media/smbshare/3Tpioneer_bids/sub-ms1188/ses-20200720/pineal-CH.nii.gz:colormap=heat\n",
      "freeview /media/smbshare/3Tpioneer_bids/sub-ms1265/ses-20180127/flair.nii.gz /media/smbshare/3Tpioneer_bids/sub-ms1265/ses-20180127/t1.nii.gz /home/srs-9/Projects/ms_mri/training_work_dirs/pineal1/ensemble_output/sub-ms1265/ses-20180127/flair.t1_ensemble.nii.gz:colormap=heat /media/smbshare/3Tpioneer_bids/sub-ms1265/ses-20180127/pineal-SRS.nii.gz:colormap=heat\n",
      "freeview /media/smbshare/3Tpioneer_bids/sub-ms1272/ses-20211105/flair.nii.gz /media/smbshare/3Tpioneer_bids/sub-ms1272/ses-20211105/t1.nii.gz /home/srs-9/Projects/ms_mri/training_work_dirs/pineal1/ensemble_output/sub-ms1272/ses-20211105/flair.t1_ensemble.nii.gz:colormap=heat /media/smbshare/3Tpioneer_bids/sub-ms1272/ses-20211105/pineal-SRS.nii.gz:colormap=heat\n",
      "freeview /media/smbshare/3Tpioneer_bids/sub-ms1280/ses-20220317/flair.nii.gz /media/smbshare/3Tpioneer_bids/sub-ms1280/ses-20220317/t1.nii.gz /home/srs-9/Projects/ms_mri/training_work_dirs/pineal1/ensemble_output/sub-ms1280/ses-20220317/flair.t1_ensemble.nii.gz:colormap=heat /media/smbshare/3Tpioneer_bids/sub-ms1280/ses-20220317/pineal-SRS.nii.gz:colormap=heat\n",
      "freeview /media/smbshare/3Tpioneer_bids/sub-ms1321/ses-20201020/flair.nii.gz /media/smbshare/3Tpioneer_bids/sub-ms1321/ses-20201020/t1.nii.gz /home/srs-9/Projects/ms_mri/training_work_dirs/pineal1/ensemble_output/sub-ms1321/ses-20201020/flair.t1_ensemble.nii.gz:colormap=heat /media/smbshare/3Tpioneer_bids/sub-ms1321/ses-20201020/pineal-SRS.nii.gz:colormap=heat\n",
      "freeview /media/smbshare/3Tpioneer_bids/sub-ms2187/ses-20200731/flair.nii.gz /media/smbshare/3Tpioneer_bids/sub-ms2187/ses-20200731/t1.nii.gz /home/srs-9/Projects/ms_mri/training_work_dirs/pineal1/ensemble_output/sub-ms2187/ses-20200731/flair.t1_ensemble.nii.gz:colormap=heat /media/smbshare/3Tpioneer_bids/sub-ms2187/ses-20200731/pineal-SRS.nii.gz:colormap=heat\n"
     ]
    }
   ],
   "source": [
    "for scan, inference in zip(dataset, ensemble_out_dataset):\n",
    "    flair = scan.root / \"flair.nii.gz\"\n",
    "    t1 = scan.root / \"t1.nii.gz\"\n",
    "    manual = scan.label_path\n",
    "    prediction = inference.label_path\n",
    "    print(\"freeview\", flair, t1, f\"{prediction}:colormap=heat\", f\"{manual}:colormap=heat\")"
   ]
  }
 ],
 "metadata": {
  "kernelspec": {
   "display_name": "monai",
   "language": "python",
   "name": "python3"
  },
  "language_info": {
   "codemirror_mode": {
    "name": "ipython",
    "version": 3
   },
   "file_extension": ".py",
   "mimetype": "text/x-python",
   "name": "python",
   "nbconvert_exporter": "python",
   "pygments_lexer": "ipython3",
   "version": "3.12.4"
  }
 },
 "nbformat": 4,
 "nbformat_minor": 2
}
