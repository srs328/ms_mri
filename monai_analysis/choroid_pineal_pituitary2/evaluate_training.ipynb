{
 "cells": [
  {
   "cell_type": "code",
   "execution_count": 32,
   "metadata": {},
   "outputs": [],
   "source": [
    "import os\n",
    "from pathlib import Path\n",
    "import numpy as np\n",
    "import json\n",
    "from loguru import logger\n",
    "import platform\n",
    "import re \n",
    "import nibabel as nib\n",
    "import statistics\n",
    "import sys\n",
    "\n",
    "import mri_data\n",
    "import monai_training\n",
    "\n",
    "from reload_recursive import reload_recursive"
   ]
  },
  {
   "cell_type": "code",
   "execution_count": 26,
   "metadata": {},
   "outputs": [],
   "source": [
    "reload_recursive(mri_data)\n",
    "reload_recursive(monai_training)\n",
    "from mri_data.file_manager import scan_3Tpioneer_bids, DataSet, Scan  # noqa: E402, F401\n",
    "from mri_data import utils\n",
    "from mri_data import file_manager as fm\n",
    "from monai_training import preprocess  # noqa: E402\n",
    "from monai_training.preprocess import DataSetProcesser"
   ]
  },
  {
   "cell_type": "code",
   "execution_count": 4,
   "metadata": {},
   "outputs": [
    {
     "data": {
      "text/plain": [
       "1"
      ]
     },
     "execution_count": 4,
     "metadata": {},
     "output_type": "execute_result"
    }
   ],
   "source": [
    "logger.remove()\n",
    "logger.add(sys.stderr, level=\"INFO\")"
   ]
  },
  {
   "cell_type": "code",
   "execution_count": 5,
   "metadata": {},
   "outputs": [],
   "source": [
    "#! Set these variables\n",
    "work_dir_name = \"choroid_pineal_pituitary2\""
   ]
  },
  {
   "cell_type": "code",
   "execution_count": 6,
   "metadata": {},
   "outputs": [],
   "source": [
    "hostname = platform.node()\n",
    "if hostname == \"rhinocampus\":\n",
    "    drive_root = Path(\"/media/smbshare\")\n",
    "else:\n",
    "    drive_root = Path(\"/mnt/h\")\n",
    "\n",
    "projects_root = Path(\"/home/srs-9/Projects\")\n",
    "\n",
    "msmri_home = projects_root / \"ms_mri\"\n",
    "training_work_dirs = msmri_home / \"training_work_dirs\"\n",
    "\n",
    "# dataroot = \"/media/hemondlab/Data/3Tpioneer_bids\"\n",
    "dataroot = drive_root / \"3Tpioneer_bids\"\n",
    "work_dir = training_work_dirs / work_dir_name\n",
    "ensemble_out_dir = work_dir / \"ensemble_output\""
   ]
  },
  {
   "cell_type": "markdown",
   "metadata": {},
   "source": [
    "Scan the ensemble_out folder produced during the monai training to collect the predicted labels into a DataSet struct. Create another DataSet object with the same subjects and sessions but rooted in the main data location, then collect the manual labels "
   ]
  },
  {
   "cell_type": "code",
   "execution_count": 12,
   "metadata": {},
   "outputs": [
    {
     "name": "stderr",
     "output_type": "stream",
     "text": [
      "\u001b[32m2024-12-02 14:41:32.019\u001b[0m | \u001b[1mINFO    \u001b[0m | \u001b[36mmonai_training.preprocess\u001b[0m:\u001b[36mprepare_labels\u001b[0m:\u001b[36m167\u001b[0m - \u001b[1mPrepare Labels\u001b[0m\n",
      "  0%|          | 0/5 [00:00<?, ?it/s]\u001b[32m2024-12-02 14:41:32.255\u001b[0m | \u001b[1mINFO    \u001b[0m | \u001b[36mmri_data.utils\u001b[0m:\u001b[36mcombine_labels\u001b[0m:\u001b[36m84\u001b[0m - \u001b[1mCombining labels for Scan(subid=1188, sesid=20200720)\u001b[0m\n",
      "\u001b[32m2024-12-02 14:41:32.277\u001b[0m | \u001b[32m\u001b[1mSUCCESS \u001b[0m | \u001b[36mmonai_training.preprocess\u001b[0m:\u001b[36mlog\u001b[0m:\u001b[36m22\u001b[0m - \u001b[32m\u001b[1mSaved /mnt/h/3Tpioneer_bids/sub-ms1188/ses-20200720/choroid_t1_flair-ED.pineal-CH.pituitary-CH.nii.gz\u001b[0m\n",
      " 20%|██        | 1/5 [00:00<00:01,  3.89it/s]\u001b[32m2024-12-02 14:41:32.334\u001b[0m | \u001b[1mINFO    \u001b[0m | \u001b[36mmri_data.utils\u001b[0m:\u001b[36mcombine_labels\u001b[0m:\u001b[36m84\u001b[0m - \u001b[1mCombining labels for Scan(subid=2081, sesid=20170204)\u001b[0m\n",
      "\u001b[32m2024-12-02 14:41:32.358\u001b[0m | \u001b[32m\u001b[1mSUCCESS \u001b[0m | \u001b[36mmonai_training.preprocess\u001b[0m:\u001b[36mlog\u001b[0m:\u001b[36m22\u001b[0m - \u001b[32m\u001b[1mSaved /mnt/h/3Tpioneer_bids/sub-ms2081/ses-20170204/choroid_t1_flair-ED.pineal-SRS.pituitary-CH.nii.gz\u001b[0m\n",
      "\u001b[32m2024-12-02 14:41:32.420\u001b[0m | \u001b[1mINFO    \u001b[0m | \u001b[36mmri_data.utils\u001b[0m:\u001b[36mcombine_labels\u001b[0m:\u001b[36m84\u001b[0m - \u001b[1mCombining labels for Scan(subid=1259, sesid=20200803)\u001b[0m\n",
      "\u001b[32m2024-12-02 14:41:32.429\u001b[0m | \u001b[32m\u001b[1mSUCCESS \u001b[0m | \u001b[36mmonai_training.preprocess\u001b[0m:\u001b[36mlog\u001b[0m:\u001b[36m22\u001b[0m - \u001b[32m\u001b[1mSaved /mnt/h/3Tpioneer_bids/sub-ms1259/ses-20200803/choroid_t1_flair-ED.pineal-SRS.pituitary-CH.nii.gz\u001b[0m\n",
      " 60%|██████    | 3/5 [00:00<00:00,  8.13it/s]\u001b[32m2024-12-02 14:41:32.469\u001b[0m | \u001b[1mINFO    \u001b[0m | \u001b[36mmri_data.utils\u001b[0m:\u001b[36mcombine_labels\u001b[0m:\u001b[36m84\u001b[0m - \u001b[1mCombining labels for Scan(subid=1109, sesid=20180303)\u001b[0m\n",
      "\u001b[32m2024-12-02 14:41:32.478\u001b[0m | \u001b[32m\u001b[1mSUCCESS \u001b[0m | \u001b[36mmonai_training.preprocess\u001b[0m:\u001b[36mlog\u001b[0m:\u001b[36m22\u001b[0m - \u001b[32m\u001b[1mSaved /mnt/h/3Tpioneer_bids/sub-ms1109/ses-20180303/choroid_t1_flair-ED.pineal-CH.pituitary-CH.nii.gz\u001b[0m\n",
      "\u001b[32m2024-12-02 14:41:32.496\u001b[0m | \u001b[1mINFO    \u001b[0m | \u001b[36mmri_data.utils\u001b[0m:\u001b[36mcombine_labels\u001b[0m:\u001b[36m84\u001b[0m - \u001b[1mCombining labels for Scan(subid=1547, sesid=20220321)\u001b[0m\n",
      "\u001b[32m2024-12-02 14:41:32.507\u001b[0m | \u001b[32m\u001b[1mSUCCESS \u001b[0m | \u001b[36mmonai_training.preprocess\u001b[0m:\u001b[36mlog\u001b[0m:\u001b[36m22\u001b[0m - \u001b[32m\u001b[1mSaved /mnt/h/3Tpioneer_bids/sub-ms1547/ses-20220321/choroid_t1_flair-ED.pineal-SRS.pituitary-CH.nii.gz\u001b[0m\n",
      "100%|██████████| 5/5 [00:00<00:00, 10.26it/s]\n",
      "\u001b[32m2024-12-02 14:41:32.509\u001b[0m | \u001b[1mINFO    \u001b[0m | \u001b[36mmonai_training.preprocess\u001b[0m:\u001b[36mprepare_labels\u001b[0m:\u001b[36m229\u001b[0m - \u001b[1mDataset size: 5\u001b[0m\n"
     ]
    }
   ],
   "source": [
    "labels = [\"choroid_t1_flair\", \"pineal\", \"pituitary\"]\n",
    "ensemble_out_dataset = scan_3Tpioneer_bids(ensemble_out_dir, label=\"flair.t1_ensemble.nii.gz\")\n",
    "dataset = DataSet.dataset_like(ensemble_out_dataset)\n",
    "dataset.dataroot = dataroot\n",
    "dataset_proc = DataSetProcesser(dataset)\n",
    "dataset_proc.prepare_labels([\"choroid_t1_flair\", \"pineal\", \"pituitary\"], suffix_list=[\"CH\", \"SRS\", \"ED\", \"DT\"])\n",
    "dataset = dataset_proc.dataset\n",
    "dataset.sort()\n",
    "ensemble_out_dataset.sort()"
   ]
  },
  {
   "cell_type": "markdown",
   "metadata": {},
   "source": [
    "Calculate Dice Score for choroid"
   ]
  },
  {
   "cell_type": "code",
   "execution_count": null,
   "metadata": {},
   "outputs": [
    {
     "name": "stdout",
     "output_type": "stream",
     "text": [
      "Dice Scores\n",
      "1109: 0.79\n",
      "1188: 0.80\n",
      "1259: 0.74\n",
      "1547: 0.78\n",
      "2081: 0.80\n",
      "----------\n",
      "Mean: 0.78\n",
      "Std: 0.02\n"
     ]
    }
   ],
   "source": [
    "dice_scores = []\n",
    "print(\"Dice Scores\")\n",
    "for scan, inference in zip(dataset, ensemble_out_dataset):\n",
    "    seg1 = nib.load(scan.root / \"choroid_t1_flair.nii.gz\").get_fdata()\n",
    "    seg2 = nib.load(inference.label_path).get_fdata()\n",
    "\n",
    "    # Calculate Dice score\n",
    "    score = utils.dice_score(seg1, seg2, seg2_val=1)\n",
    "    dice_scores.append(score)\n",
    "    print(\"{}: {:0.2f}\".format(scan.subid, score))\n",
    "print(\"----------\")\n",
    "print(\"Mean: {:0.2f}\".format(sum(dice_scores) / len(dice_scores)))\n",
    "print(\"Std: {:0.2f}\".format(statistics.stdev(dice_scores)))\n",
    "\n",
    "print(dice_scores)"
   ]
  },
  {
   "cell_type": "markdown",
   "metadata": {},
   "source": [
    "Calculate IoU for choroid"
   ]
  },
  {
   "cell_type": "code",
   "execution_count": 48,
   "metadata": {},
   "outputs": [
    {
     "name": "stdout",
     "output_type": "stream",
     "text": [
      "IoU\n",
      "1109: 0.65\n",
      "1188: 0.66\n",
      "1259: 0.59\n",
      "1547: 0.64\n",
      "2081: 0.67\n",
      "----------\n",
      "Mean: 0.64\n",
      "Std: 0.03\n",
      "[0.6500157084511468, 0.6618705035971223, 0.592372288313506, 0.6447275300778486, 0.6728179551122194]\n"
     ]
    }
   ],
   "source": [
    "iou = []\n",
    "print(\"IoU\")\n",
    "for scan, inference in zip(dataset, ensemble_out_dataset):\n",
    "    seg1 = nib.load(scan.root / \"choroid_t1_flair.nii.gz\").get_fdata()\n",
    "    seg2 = nib.load(inference.label_path).get_fdata()\n",
    "\n",
    "    # Calculate Dice score\n",
    "    score = utils.iou(seg1, seg2, seg2_val=1)\n",
    "    iou.append(score)\n",
    "    print(\"{}: {:0.2f}\".format(scan.subid, score))\n",
    "print(\"----------\")\n",
    "print(\"Mean: {:0.2f}\".format(sum(iou) / len(iou)))\n",
    "print(\"Std: {:0.2f}\".format(statistics.stdev(iou)))\n",
    "\n",
    "print(iou)"
   ]
  },
  {
   "cell_type": "markdown",
   "metadata": {},
   "source": [
    "Calculate Hausdorff Distance for Choroid"
   ]
  },
  {
   "cell_type": "code",
   "execution_count": 49,
   "metadata": {},
   "outputs": [
    {
     "name": "stdout",
     "output_type": "stream",
     "text": [
      "Hausdorff Dist\n",
      "1109: 47.03\n",
      "1188: 4.12\n",
      "1259: 20.59\n",
      "1547: 13.27\n",
      "2081: 94.88\n",
      "----------\n",
      "Mean: 35.98\n",
      "Std: 36.60\n",
      "[47.031904065219386, 4.123105625617661, 20.591260281974, 13.2664991614216, 94.87887014504336]\n"
     ]
    }
   ],
   "source": [
    "haus = []\n",
    "print(\"Hausdorff Dist\")\n",
    "for scan, inference in zip(dataset, ensemble_out_dataset):\n",
    "    seg1 = nib.load(scan.root / \"choroid_t1_flair.nii.gz\").get_fdata()\n",
    "    seg2 = nib.load(inference.label_path).get_fdata()\n",
    "\n",
    "    # Calculate Dice score\n",
    "    score = utils.hausdorff_dist(seg1, seg2, seg2_val=1)\n",
    "    haus.append(score)\n",
    "    print(\"{}: {:0.2f}\".format(scan.subid, score))\n",
    "print(\"----------\")\n",
    "print(\"Mean: {:0.2f}\".format(sum(haus) / len(haus)))\n",
    "print(\"Std: {:0.2f}\".format(statistics.stdev(haus)))\n",
    "\n",
    "print(haus)"
   ]
  },
  {
   "cell_type": "markdown",
   "metadata": {},
   "source": [
    "Calculate Dice Score for pineal"
   ]
  },
  {
   "cell_type": "code",
   "execution_count": 53,
   "metadata": {},
   "outputs": [
    {
     "name": "stdout",
     "output_type": "stream",
     "text": [
      "Dice Scores\n",
      "1109: 0.84\n",
      "1188: 0.86\n",
      "1259: 0.88\n",
      "1547: 0.83\n",
      "2081: 0.89\n",
      "----------\n",
      "Mean: 0.86\n",
      "Std: 0.03\n",
      "[0.8352059925093633, 0.8642857142857143, 0.8839427662957074, 0.8253706754530478, 0.885478158205431]\n"
     ]
    }
   ],
   "source": [
    "dice_scores = []\n",
    "print(\"Dice Scores\")\n",
    "for scan, inference in zip(dataset, ensemble_out_dataset):\n",
    "    label = fm.find_label(scan, \"pineal\", [\"CH\", \"SRS\"])\n",
    "    seg1 = nib.load(label).get_fdata()\n",
    "    seg2 = nib.load(inference.label_path).get_fdata()\n",
    "\n",
    "    # Calculate Dice score\n",
    "    score = utils.dice_score(seg1, seg2, seg2_val=2)\n",
    "    dice_scores.append(score)\n",
    "    print(\"{}: {:0.2f}\".format(scan.subid, score))\n",
    "print(\"----------\")\n",
    "print(\"Mean: {:0.2f}\".format(sum(dice_scores) / len(dice_scores)))\n",
    "print(\"Std: {:0.2f}\".format(statistics.stdev(dice_scores)))\n",
    "\n",
    "print(dice_scores)"
   ]
  },
  {
   "cell_type": "markdown",
   "metadata": {},
   "source": [
    "Calculate IoU for pineal"
   ]
  },
  {
   "cell_type": "code",
   "execution_count": 54,
   "metadata": {},
   "outputs": [
    {
     "name": "stdout",
     "output_type": "stream",
     "text": [
      "IoU\n",
      "1109: 0.72\n",
      "1188: 0.76\n",
      "1259: 0.79\n",
      "1547: 0.70\n",
      "2081: 0.79\n",
      "----------\n",
      "Mean: 0.75\n",
      "Std: 0.04\n",
      "[0.7170418006430869, 0.7610062893081762, 0.792022792022792, 0.7026647966339411, 0.7944915254237288]\n"
     ]
    }
   ],
   "source": [
    "iou = []\n",
    "print(\"IoU\")\n",
    "for scan, inference in zip(dataset, ensemble_out_dataset):\n",
    "    label = fm.find_label(scan, \"pineal\", [\"CH\", \"SRS\"])\n",
    "    seg1 = nib.load(label).get_fdata()\n",
    "    seg2 = nib.load(inference.label_path).get_fdata()\n",
    "\n",
    "    # Calculate Dice score\n",
    "    score = utils.iou(seg1, seg2, seg2_val=2)\n",
    "    iou.append(score)\n",
    "    print(\"{}: {:0.2f}\".format(scan.subid, score))\n",
    "print(\"----------\")\n",
    "print(\"Mean: {:0.2f}\".format(sum(iou) / len(iou)))\n",
    "print(\"Std: {:0.2f}\".format(statistics.stdev(iou)))\n",
    "\n",
    "print(iou)"
   ]
  },
  {
   "cell_type": "markdown",
   "metadata": {},
   "source": [
    "Calculate Hausdorff Dist for pineal"
   ]
  },
  {
   "cell_type": "code",
   "execution_count": 55,
   "metadata": {},
   "outputs": [
    {
     "name": "stdout",
     "output_type": "stream",
     "text": [
      "haus\n",
      "1109: 2.45\n",
      "1188: 1.41\n",
      "1259: 1.41\n",
      "1547: 5.48\n",
      "2081: 1.00\n",
      "----------\n",
      "Mean: 2.35\n",
      "Std: 1.83\n",
      "[2.449489742783178, 1.4142135623730951, 1.4142135623730951, 5.477225575051661, 1.0]\n"
     ]
    }
   ],
   "source": [
    "haus = []\n",
    "print(\"haus\")\n",
    "for scan, inference in zip(dataset, ensemble_out_dataset):\n",
    "    label = fm.find_label(scan, \"pineal\", [\"CH\", \"SRS\"])\n",
    "    seg1 = nib.load(label).get_fdata()\n",
    "    seg2 = nib.load(inference.label_path).get_fdata()\n",
    "\n",
    "    # Calculate Dice score\n",
    "    score = utils.hausdorff_dist(seg1, seg2, seg2_val=2)\n",
    "    haus.append(score)\n",
    "    print(\"{}: {:0.2f}\".format(scan.subid, score))\n",
    "print(\"----------\")\n",
    "print(\"Mean: {:0.2f}\".format(sum(haus) / len(haus)))\n",
    "print(\"Std: {:0.2f}\".format(statistics.stdev(haus)))\n",
    "\n",
    "print(haus)"
   ]
  },
  {
   "cell_type": "markdown",
   "metadata": {},
   "source": [
    "Calculate DICE score for pituitary"
   ]
  },
  {
   "cell_type": "code",
   "execution_count": 50,
   "metadata": {},
   "outputs": [
    {
     "name": "stdout",
     "output_type": "stream",
     "text": [
      "Dice Scores\n",
      "1109: 0.78\n",
      "1188: 0.89\n",
      "1259: 0.89\n",
      "1547: 0.83\n",
      "2081: 0.81\n",
      "----------\n",
      "Mean: 0.84\n",
      "Std: 0.05\n",
      "[0.7785419532324622, 0.8917337234820776, 0.8895244905255631, 0.8349575605155611, 0.8089430894308943]\n"
     ]
    }
   ],
   "source": [
    "dice_scores = []\n",
    "print(\"Dice Scores\")\n",
    "for scan, inference in zip(dataset, ensemble_out_dataset):\n",
    "    label = fm.find_label(scan, \"pituitary\", [\"CH\", \"ED\", \"DT\"])\n",
    "    seg1 = nib.load(label).get_fdata()\n",
    "    seg2 = nib.load(inference.label_path).get_fdata()\n",
    "\n",
    "    # Calculate Dice score\n",
    "    score = utils.dice_score(seg1, seg2, seg2_val=3)\n",
    "    dice_scores.append(score)\n",
    "    print(\"{}: {:0.2f}\".format(scan.subid, score))\n",
    "print(\"----------\")\n",
    "print(\"Mean: {:0.2f}\".format(sum(dice_scores) / len(dice_scores)))\n",
    "print(\"Std: {:0.2f}\".format(statistics.stdev(dice_scores)))\n",
    "\n",
    "print(dice_scores)"
   ]
  },
  {
   "cell_type": "markdown",
   "metadata": {},
   "source": [
    "Calculate IoU for pituitary"
   ]
  },
  {
   "cell_type": "code",
   "execution_count": 51,
   "metadata": {},
   "outputs": [
    {
     "name": "stdout",
     "output_type": "stream",
     "text": [
      "IoU\n",
      "1109: 0.64\n",
      "1188: 0.80\n",
      "1259: 0.80\n",
      "1547: 0.72\n",
      "2081: 0.68\n",
      "----------\n",
      "Mean: 0.73\n",
      "Std: 0.07\n",
      "[0.6373873873873874, 0.8046204620462046, 0.8010302640051513, 0.7166756610901241, 0.6791808873720137]\n"
     ]
    }
   ],
   "source": [
    "iou = []\n",
    "print(\"IoU\")\n",
    "for scan, inference in zip(dataset, ensemble_out_dataset):\n",
    "    label = fm.find_label(scan, \"pituitary\", [\"CH\", \"ED\", \"DT\"])\n",
    "    seg1 = nib.load(label).get_fdata()\n",
    "    seg2 = nib.load(inference.label_path).get_fdata()\n",
    "\n",
    "    # Calculate Dice score\n",
    "    score = utils.iou(seg1, seg2, seg2_val=3)\n",
    "    iou.append(score)\n",
    "    print(\"{}: {:0.2f}\".format(scan.subid, score))\n",
    "print(\"----------\")\n",
    "print(\"Mean: {:0.2f}\".format(sum(iou) / len(iou)))\n",
    "print(\"Std: {:0.2f}\".format(statistics.stdev(iou)))\n",
    "\n",
    "print(iou)"
   ]
  },
  {
   "cell_type": "markdown",
   "metadata": {},
   "source": [
    "Calculate Hausdorff Dist for pituitary"
   ]
  },
  {
   "cell_type": "code",
   "execution_count": 52,
   "metadata": {},
   "outputs": [
    {
     "name": "stdout",
     "output_type": "stream",
     "text": [
      "haus\n",
      "1109: 3.61\n",
      "1188: 3.00\n",
      "1259: 2.24\n",
      "1547: 3.32\n",
      "2081: 3.16\n",
      "----------\n",
      "Mean: 3.06\n",
      "Std: 0.51\n",
      "[3.605551275463989, 3.0, 2.23606797749979, 3.3166247903554, 3.1622776601683795]\n"
     ]
    }
   ],
   "source": [
    "haus = []\n",
    "print(\"haus\")\n",
    "for scan, inference in zip(dataset, ensemble_out_dataset):\n",
    "    label = fm.find_label(scan, \"pituitary\", [\"CH\", \"ED\", \"DT\"])\n",
    "    seg1 = nib.load(label).get_fdata()\n",
    "    seg2 = nib.load(inference.label_path).get_fdata()\n",
    "\n",
    "    # Calculate Dice score\n",
    "    score = utils.hausdorff_dist(seg1, seg2, seg2_val=3)\n",
    "    haus.append(score)\n",
    "    print(\"{}: {:0.2f}\".format(scan.subid, score))\n",
    "print(\"----------\")\n",
    "print(\"Mean: {:0.2f}\".format(sum(haus) / len(haus)))\n",
    "print(\"Std: {:0.2f}\".format(statistics.stdev(haus)))\n",
    "\n",
    "print(haus)"
   ]
  },
  {
   "cell_type": "markdown",
   "metadata": {},
   "source": [
    "Save a new version of the predicted label that has a labelling index of 2 so that it appears as a different color in itksnap"
   ]
  },
  {
   "cell_type": "code",
   "execution_count": null,
   "metadata": {},
   "outputs": [
    {
     "data": {
      "text/plain": [
       "PosixPath('/home/srs-9/Projects/ms_mri/training_work_dirs/pineal1/ensemble_output/sub-ms1010/ses-20180208/flair.t1_ensemble_val2.nii.gz')"
      ]
     },
     "metadata": {},
     "output_type": "display_data"
    }
   ],
   "source": [
    "inference: Scan = ensemble_out_dataset[0]\n",
    "label_path = inference.label_path\n",
    "new_label_path = label_path.with_name(f\"{fm.nifti_name(label_path)}_val2.nii.gz\")\n",
    "utils.set_label_value(label_path, new_label_path, 2)"
   ]
  },
  {
   "cell_type": "code",
   "execution_count": 10,
   "metadata": {},
   "outputs": [
    {
     "name": "stdout",
     "output_type": "stream",
     "text": [
      "itksnap -g /media/smbshare/3Tpioneer_bids/sub-ms1010/ses-20180208/flair.nii.gz -o /media/smbshare/3Tpioneer_bids/sub-ms1010/ses-20180208/t1.nii.gz -s /home/srs-9/Projects/ms_mri/training_work_dirs/choroid_resegment1/ensemble_output/sub-ms1010/ses-20180208/flair.t1_ensemble.nii.gz\n",
      "itksnap -g /media/smbshare/3Tpioneer_bids/sub-ms1033/ses-20171117/flair.nii.gz -o /media/smbshare/3Tpioneer_bids/sub-ms1033/ses-20171117/t1.nii.gz -s /home/srs-9/Projects/ms_mri/training_work_dirs/choroid_resegment1/ensemble_output/sub-ms1033/ses-20171117/flair.t1_ensemble.nii.gz\n",
      "itksnap -g /media/smbshare/3Tpioneer_bids/sub-ms1152/ses-20170529/flair.nii.gz -o /media/smbshare/3Tpioneer_bids/sub-ms1152/ses-20170529/t1.nii.gz -s /home/srs-9/Projects/ms_mri/training_work_dirs/choroid_resegment1/ensemble_output/sub-ms1152/ses-20170529/flair.t1_ensemble.nii.gz\n",
      "itksnap -g /media/smbshare/3Tpioneer_bids/sub-ms1163/ses-20180907/flair.nii.gz -o /media/smbshare/3Tpioneer_bids/sub-ms1163/ses-20180907/t1.nii.gz -s /home/srs-9/Projects/ms_mri/training_work_dirs/choroid_resegment1/ensemble_output/sub-ms1163/ses-20180907/flair.t1_ensemble.nii.gz\n",
      "itksnap -g /media/smbshare/3Tpioneer_bids/sub-ms1548/ses-20210628/flair.nii.gz -o /media/smbshare/3Tpioneer_bids/sub-ms1548/ses-20210628/t1.nii.gz -s /home/srs-9/Projects/ms_mri/training_work_dirs/choroid_resegment1/ensemble_output/sub-ms1548/ses-20210628/flair.t1_ensemble.nii.gz\n",
      "itksnap -g /media/smbshare/3Tpioneer_bids/sub-ms2097/ses-20171223/flair.nii.gz -o /media/smbshare/3Tpioneer_bids/sub-ms2097/ses-20171223/t1.nii.gz -s /home/srs-9/Projects/ms_mri/training_work_dirs/choroid_resegment1/ensemble_output/sub-ms2097/ses-20171223/flair.t1_ensemble.nii.gz\n",
      "itksnap -g /media/smbshare/3Tpioneer_bids/sub-ms2164/ses-20200113/flair.nii.gz -o /media/smbshare/3Tpioneer_bids/sub-ms2164/ses-20200113/t1.nii.gz -s /home/srs-9/Projects/ms_mri/training_work_dirs/choroid_resegment1/ensemble_output/sub-ms2164/ses-20200113/flair.t1_ensemble.nii.gz\n"
     ]
    }
   ],
   "source": [
    "for scan, inference in zip(dataset, ensemble_out_dataset):\n",
    "    flair = scan.root / \"flair.nii.gz\"\n",
    "    t1 = scan.root / \"t1.nii.gz\"\n",
    "    manual = scan.label_path\n",
    "    prediction = inference.label_path\n",
    "    print(\"itksnap\", \"-g\", flair, \"-o\", t1, \"-s\", prediction, \"-s\", manual)"
   ]
  },
  {
   "cell_type": "markdown",
   "metadata": {},
   "source": [
    "Produce commands to open images and labels in freeview"
   ]
  },
  {
   "cell_type": "code",
   "execution_count": 1,
   "metadata": {},
   "outputs": [
    {
     "data": {
      "text/plain": [
       "['one', '-g', 'twp', '-g', 'three']"
      ]
     },
     "execution_count": 1,
     "metadata": {},
     "output_type": "execute_result"
    }
   ],
   "source": [
    "image_paths = [\"one\", \"twp\", \"three\"]\n",
    "step1 = \" -g \".join(image_paths)\n",
    "step1.split(\" \")"
   ]
  },
  {
   "cell_type": "code",
   "execution_count": null,
   "metadata": {},
   "outputs": [
    {
     "name": "stdout",
     "output_type": "stream",
     "text": [
      "freeview /media/smbshare/3Tpioneer_bids/sub-ms1010/ses-20180208/flair.nii.gz /media/smbshare/3Tpioneer_bids/sub-ms1010/ses-20180208/t1.nii.gz /home/srs-9/Projects/ms_mri/training_work_dirs/pineal1/ensemble_output/sub-ms1010/ses-20180208/flair.t1_ensemble.nii.gz:colormap=heat /media/smbshare/3Tpioneer_bids/sub-ms1010/ses-20180208/pineal-CH.nii.gz:colormap=heat\n",
      "freeview /media/smbshare/3Tpioneer_bids/sub-ms1029/ses-20170816/flair.nii.gz /media/smbshare/3Tpioneer_bids/sub-ms1029/ses-20170816/t1.nii.gz /home/srs-9/Projects/ms_mri/training_work_dirs/pineal1/ensemble_output/sub-ms1029/ses-20170816/flair.t1_ensemble.nii.gz:colormap=heat /media/smbshare/3Tpioneer_bids/sub-ms1029/ses-20170816/pineal-SRS.nii.gz:colormap=heat\n",
      "freeview /media/smbshare/3Tpioneer_bids/sub-ms1188/ses-20200720/flair.nii.gz /media/smbshare/3Tpioneer_bids/sub-ms1188/ses-20200720/t1.nii.gz /home/srs-9/Projects/ms_mri/training_work_dirs/pineal1/ensemble_output/sub-ms1188/ses-20200720/flair.t1_ensemble.nii.gz:colormap=heat /media/smbshare/3Tpioneer_bids/sub-ms1188/ses-20200720/pineal-CH.nii.gz:colormap=heat\n",
      "freeview /media/smbshare/3Tpioneer_bids/sub-ms1265/ses-20180127/flair.nii.gz /media/smbshare/3Tpioneer_bids/sub-ms1265/ses-20180127/t1.nii.gz /home/srs-9/Projects/ms_mri/training_work_dirs/pineal1/ensemble_output/sub-ms1265/ses-20180127/flair.t1_ensemble.nii.gz:colormap=heat /media/smbshare/3Tpioneer_bids/sub-ms1265/ses-20180127/pineal-SRS.nii.gz:colormap=heat\n",
      "freeview /media/smbshare/3Tpioneer_bids/sub-ms1272/ses-20211105/flair.nii.gz /media/smbshare/3Tpioneer_bids/sub-ms1272/ses-20211105/t1.nii.gz /home/srs-9/Projects/ms_mri/training_work_dirs/pineal1/ensemble_output/sub-ms1272/ses-20211105/flair.t1_ensemble.nii.gz:colormap=heat /media/smbshare/3Tpioneer_bids/sub-ms1272/ses-20211105/pineal-SRS.nii.gz:colormap=heat\n",
      "freeview /media/smbshare/3Tpioneer_bids/sub-ms1280/ses-20220317/flair.nii.gz /media/smbshare/3Tpioneer_bids/sub-ms1280/ses-20220317/t1.nii.gz /home/srs-9/Projects/ms_mri/training_work_dirs/pineal1/ensemble_output/sub-ms1280/ses-20220317/flair.t1_ensemble.nii.gz:colormap=heat /media/smbshare/3Tpioneer_bids/sub-ms1280/ses-20220317/pineal-SRS.nii.gz:colormap=heat\n",
      "freeview /media/smbshare/3Tpioneer_bids/sub-ms1321/ses-20201020/flair.nii.gz /media/smbshare/3Tpioneer_bids/sub-ms1321/ses-20201020/t1.nii.gz /home/srs-9/Projects/ms_mri/training_work_dirs/pineal1/ensemble_output/sub-ms1321/ses-20201020/flair.t1_ensemble.nii.gz:colormap=heat /media/smbshare/3Tpioneer_bids/sub-ms1321/ses-20201020/pineal-SRS.nii.gz:colormap=heat\n",
      "freeview /media/smbshare/3Tpioneer_bids/sub-ms2187/ses-20200731/flair.nii.gz /media/smbshare/3Tpioneer_bids/sub-ms2187/ses-20200731/t1.nii.gz /home/srs-9/Projects/ms_mri/training_work_dirs/pineal1/ensemble_output/sub-ms2187/ses-20200731/flair.t1_ensemble.nii.gz:colormap=heat /media/smbshare/3Tpioneer_bids/sub-ms2187/ses-20200731/pineal-SRS.nii.gz:colormap=heat\n"
     ]
    }
   ],
   "source": [
    "for scan, inference in zip(dataset, ensemble_out_dataset):\n",
    "    flair = scan.root / \"flair.nii.gz\"\n",
    "    t1 = scan.root / \"t1.nii.gz\"\n",
    "    manual = scan.label_path\n",
    "    prediction = inference.label_path\n",
    "    print(\"freeview\", flair, t1, f\"{prediction}:colormap=heat\", f\"{manual}:colormap=heat\")"
   ]
  }
 ],
 "metadata": {
  "kernelspec": {
   "display_name": "monai",
   "language": "python",
   "name": "python3"
  },
  "language_info": {
   "codemirror_mode": {
    "name": "ipython",
    "version": 3
   },
   "file_extension": ".py",
   "mimetype": "text/x-python",
   "name": "python",
   "nbconvert_exporter": "python",
   "pygments_lexer": "ipython3",
   "version": "3.12.4"
  }
 },
 "nbformat": 4,
 "nbformat_minor": 2
}
