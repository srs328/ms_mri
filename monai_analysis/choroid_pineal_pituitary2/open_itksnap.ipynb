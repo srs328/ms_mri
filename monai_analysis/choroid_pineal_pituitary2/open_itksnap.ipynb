{
 "cells": [
  {
   "cell_type": "code",
   "execution_count": 25,
   "metadata": {},
   "outputs": [],
   "source": [
    "import os\n",
    "import sys\n",
    "from pathlib import Path\n",
    "\n",
    "from loguru import logger\n",
    "from reload_recursive import reload_recursive\n",
    "from typing import Callable\n",
    "\n",
    "from nipype.interfaces import fsl\n",
    "\n",
    "import monai_training\n",
    "import mri_data\n",
    "import sys"
   ]
  },
  {
   "cell_type": "code",
   "execution_count": 26,
   "metadata": {},
   "outputs": [],
   "source": [
    "reload_recursive(mri_data)\n",
    "reload_recursive(monai_training)\n",
    "from mri_data import file_manager as fm\n",
    "from mri_data.file_manager import Scan, DataSet\n",
    "from mri_data import utils\n",
    "from monai_training.preprocess import DataSetProcesser"
   ]
  },
  {
   "cell_type": "code",
   "execution_count": 27,
   "metadata": {},
   "outputs": [
    {
     "data": {
      "text/plain": [
       "2"
      ]
     },
     "execution_count": 27,
     "metadata": {},
     "output_type": "execute_result"
    }
   ],
   "source": [
    "logger.remove()\n",
    "logger.add(sys.stderr, level=\"INFO\")"
   ]
  },
  {
   "cell_type": "code",
   "execution_count": 28,
   "metadata": {},
   "outputs": [],
   "source": [
    "drive_root = fm.get_drive_root()\n",
    "projects_root = Path(\"/home/srs-9/Projects\")\n",
    "msmri_home = projects_root / \"ms_mri\"\n",
    "inference_root = drive_root / \"3Tpioneer_bids_predictions\"\n",
    "dataroot = drive_root / \"3Tpioneer_bids\"\n",
    "\n",
    "workspace_root = \"/home/srs-9/Projects/ms_mri/itksnap_workspaces\"\n",
    "dataset_name = \"choroid_pineal_pituitary_labels\"\n",
    "\n",
    "save_dir = os.path.join(workspace_root, dataset_name)"
   ]
  },
  {
   "cell_type": "code",
   "execution_count": 29,
   "metadata": {},
   "outputs": [],
   "source": [
    "dataset_proc = DataSetProcesser.new_dataset(dataroot, fm.scan_3Tpioneer_bids, filters=[fm.filter_first_ses])\n",
    "dataset = dataset_proc.dataset\n",
    "dataset.sort()\n",
    "inference_dataset = DataSet.dataset_like(dataset)\n",
    "inference_dataset.dataroot = inference_root"
   ]
  },
  {
   "cell_type": "code",
   "execution_count": 30,
   "metadata": {},
   "outputs": [],
   "source": [
    "image_names = [\"flair.nii.gz\", \"t1.nii.gz\"]\n",
    "label_names = []\n",
    "inference_labels = [\"flair.t1_pineal1_pred.nii.gz\", \"flair.t1_choroid_pineal_pituitary2_pred.nii.gz\"]"
   ]
  },
  {
   "cell_type": "code",
   "execution_count": 32,
   "metadata": {},
   "outputs": [
    {
     "name": "stdout",
     "output_type": "stream",
     "text": [
      "itksnap -g /media/smbshare/3Tpioneer_bids/sub-ms1001/ses-20170215/flair.nii.gz -o /media/smbshare/3Tpioneer_bids/sub-ms1001/ses-20170215/t1.nii.gz -s /media/smbshare/3Tpioneer_bids_predictions/sub-ms1001/ses-20170215/flair.t1_pineal1_pred.nii.gz -s /media/smbshare/3Tpioneer_bids_predictions/sub-ms1001/ses-20170215/flair.t1_choroid_pineal_pituitary2_pred.nii.gz\n",
      "itksnap -g /media/smbshare/3Tpioneer_bids/sub-ms1002/ses-20200521/flair.nii.gz -o /media/smbshare/3Tpioneer_bids/sub-ms1002/ses-20200521/t1.nii.gz -s /media/smbshare/3Tpioneer_bids_predictions/sub-ms1002/ses-20200521/flair.t1_pineal1_pred.nii.gz -s /media/smbshare/3Tpioneer_bids_predictions/sub-ms1002/ses-20200521/flair.t1_choroid_pineal_pituitary2_pred.nii.gz\n",
      "itksnap -g /media/smbshare/3Tpioneer_bids/sub-ms1003/ses-20170329/flair.nii.gz -o /media/smbshare/3Tpioneer_bids/sub-ms1003/ses-20170329/t1.nii.gz -s /media/smbshare/3Tpioneer_bids_predictions/sub-ms1003/ses-20170329/flair.t1_pineal1_pred.nii.gz -s /media/smbshare/3Tpioneer_bids_predictions/sub-ms1003/ses-20170329/flair.t1_choroid_pineal_pituitary2_pred.nii.gz\n",
      "itksnap -g /media/smbshare/3Tpioneer_bids/sub-ms1004/ses-20190906/flair.nii.gz -o /media/smbshare/3Tpioneer_bids/sub-ms1004/ses-20190906/t1.nii.gz -s /media/smbshare/3Tpioneer_bids_predictions/sub-ms1004/ses-20190906/flair.t1_pineal1_pred.nii.gz -s /media/smbshare/3Tpioneer_bids_predictions/sub-ms1004/ses-20190906/flair.t1_choroid_pineal_pituitary2_pred.nii.gz\n",
      "itksnap -g /media/smbshare/3Tpioneer_bids/sub-ms1005/ses-20200708/flair.nii.gz -o /media/smbshare/3Tpioneer_bids/sub-ms1005/ses-20200708/t1.nii.gz -s /media/smbshare/3Tpioneer_bids_predictions/sub-ms1005/ses-20200708/flair.t1_pineal1_pred.nii.gz -s /media/smbshare/3Tpioneer_bids_predictions/sub-ms1005/ses-20200708/flair.t1_choroid_pineal_pituitary2_pred.nii.gz\n",
      "itksnap -g /media/smbshare/3Tpioneer_bids/sub-ms1007/ses-20190907/flair.nii.gz -o /media/smbshare/3Tpioneer_bids/sub-ms1007/ses-20190907/t1.nii.gz -s /media/smbshare/3Tpioneer_bids_predictions/sub-ms1007/ses-20190907/flair.t1_pineal1_pred.nii.gz -s /media/smbshare/3Tpioneer_bids_predictions/sub-ms1007/ses-20190907/flair.t1_choroid_pineal_pituitary2_pred.nii.gz\n",
      "itksnap -g /media/smbshare/3Tpioneer_bids/sub-ms1010/ses-20180208/flair.nii.gz -o /media/smbshare/3Tpioneer_bids/sub-ms1010/ses-20180208/t1.nii.gz\n",
      "itksnap -g /media/smbshare/3Tpioneer_bids/sub-ms1011/ses-20180911/flair.nii.gz -o /media/smbshare/3Tpioneer_bids/sub-ms1011/ses-20180911/t1.nii.gz\n",
      "itksnap -g /media/smbshare/3Tpioneer_bids/sub-ms1012/ses-20190903/flair.nii.gz -o /media/smbshare/3Tpioneer_bids/sub-ms1012/ses-20190903/t1.nii.gz -s /media/smbshare/3Tpioneer_bids_predictions/sub-ms1012/ses-20190903/flair.t1_pineal1_pred.nii.gz -s /media/smbshare/3Tpioneer_bids_predictions/sub-ms1012/ses-20190903/flair.t1_choroid_pineal_pituitary2_pred.nii.gz\n",
      "itksnap -g /media/smbshare/3Tpioneer_bids/sub-ms1013/ses-20201109/flair.nii.gz -o /media/smbshare/3Tpioneer_bids/sub-ms1013/ses-20201109/t1.nii.gz -s /media/smbshare/3Tpioneer_bids_predictions/sub-ms1013/ses-20201109/flair.t1_pineal1_pred.nii.gz -s /media/smbshare/3Tpioneer_bids_predictions/sub-ms1013/ses-20201109/flair.t1_choroid_pineal_pituitary2_pred.nii.gz\n",
      "itksnap -g /media/smbshare/3Tpioneer_bids/sub-ms1015/ses-20190326/flair.nii.gz -o /media/smbshare/3Tpioneer_bids/sub-ms1015/ses-20190326/t1.nii.gz -s /media/smbshare/3Tpioneer_bids_predictions/sub-ms1015/ses-20190326/flair.t1_pineal1_pred.nii.gz -s /media/smbshare/3Tpioneer_bids_predictions/sub-ms1015/ses-20190326/flair.t1_choroid_pineal_pituitary2_pred.nii.gz\n",
      "itksnap -g /media/smbshare/3Tpioneer_bids/sub-ms1016/ses-20200421/flair.nii.gz -o /media/smbshare/3Tpioneer_bids/sub-ms1016/ses-20200421/t1.nii.gz -s /media/smbshare/3Tpioneer_bids_predictions/sub-ms1016/ses-20200421/flair.t1_pineal1_pred.nii.gz -s /media/smbshare/3Tpioneer_bids_predictions/sub-ms1016/ses-20200421/flair.t1_choroid_pineal_pituitary2_pred.nii.gz\n",
      "itksnap -g /media/smbshare/3Tpioneer_bids/sub-ms1017/ses-20160921/flair.nii.gz -o /media/smbshare/3Tpioneer_bids/sub-ms1017/ses-20160921/t1.nii.gz -s /media/smbshare/3Tpioneer_bids_predictions/sub-ms1017/ses-20160921/flair.t1_pineal1_pred.nii.gz -s /media/smbshare/3Tpioneer_bids_predictions/sub-ms1017/ses-20160921/flair.t1_choroid_pineal_pituitary2_pred.nii.gz\n",
      "itksnap -g /media/smbshare/3Tpioneer_bids/sub-ms1019/ses-20190608/flair.nii.gz -o /media/smbshare/3Tpioneer_bids/sub-ms1019/ses-20190608/t1.nii.gz\n",
      "itksnap -g /media/smbshare/3Tpioneer_bids/sub-ms1020/ses-20170927/flair.nii.gz -o /media/smbshare/3Tpioneer_bids/sub-ms1020/ses-20170927/t1.nii.gz -s /media/smbshare/3Tpioneer_bids_predictions/sub-ms1020/ses-20170927/flair.t1_pineal1_pred.nii.gz -s /media/smbshare/3Tpioneer_bids_predictions/sub-ms1020/ses-20170927/flair.t1_choroid_pineal_pituitary2_pred.nii.gz\n",
      "itksnap -g /media/smbshare/3Tpioneer_bids/sub-ms1021/ses-20180928/flair.nii.gz -o /media/smbshare/3Tpioneer_bids/sub-ms1021/ses-20180928/t1.nii.gz -s /media/smbshare/3Tpioneer_bids_predictions/sub-ms1021/ses-20180928/flair.t1_pineal1_pred.nii.gz -s /media/smbshare/3Tpioneer_bids_predictions/sub-ms1021/ses-20180928/flair.t1_choroid_pineal_pituitary2_pred.nii.gz\n",
      "itksnap -g /media/smbshare/3Tpioneer_bids/sub-ms1022/ses-20190807/flair.nii.gz -o /media/smbshare/3Tpioneer_bids/sub-ms1022/ses-20190807/t1.nii.gz -s /media/smbshare/3Tpioneer_bids_predictions/sub-ms1022/ses-20190807/flair.t1_pineal1_pred.nii.gz -s /media/smbshare/3Tpioneer_bids_predictions/sub-ms1022/ses-20190807/flair.t1_choroid_pineal_pituitary2_pred.nii.gz\n",
      "itksnap -g /media/smbshare/3Tpioneer_bids/sub-ms1023/ses-20170813/flair.nii.gz -o /media/smbshare/3Tpioneer_bids/sub-ms1023/ses-20170813/t1.nii.gz -s /media/smbshare/3Tpioneer_bids_predictions/sub-ms1023/ses-20170813/flair.t1_pineal1_pred.nii.gz -s /media/smbshare/3Tpioneer_bids_predictions/sub-ms1023/ses-20170813/flair.t1_choroid_pineal_pituitary2_pred.nii.gz\n",
      "itksnap -g /media/smbshare/3Tpioneer_bids/sub-ms1024/ses-20170710/flair.nii.gz -o /media/smbshare/3Tpioneer_bids/sub-ms1024/ses-20170710/t1.nii.gz -s /media/smbshare/3Tpioneer_bids_predictions/sub-ms1024/ses-20170710/flair.t1_pineal1_pred.nii.gz -s /media/smbshare/3Tpioneer_bids_predictions/sub-ms1024/ses-20170710/flair.t1_choroid_pineal_pituitary2_pred.nii.gz\n",
      "itksnap -g /media/smbshare/3Tpioneer_bids/sub-ms1026/ses-20181011/flair.nii.gz -o /media/smbshare/3Tpioneer_bids/sub-ms1026/ses-20181011/t1.nii.gz -s /media/smbshare/3Tpioneer_bids_predictions/sub-ms1026/ses-20181011/flair.t1_pineal1_pred.nii.gz -s /media/smbshare/3Tpioneer_bids_predictions/sub-ms1026/ses-20181011/flair.t1_choroid_pineal_pituitary2_pred.nii.gz\n",
      "itksnap -g /media/smbshare/3Tpioneer_bids/sub-ms1027/ses-20170127/flair.nii.gz -o /media/smbshare/3Tpioneer_bids/sub-ms1027/ses-20170127/t1.nii.gz -s /media/smbshare/3Tpioneer_bids_predictions/sub-ms1027/ses-20170127/flair.t1_pineal1_pred.nii.gz -s /media/smbshare/3Tpioneer_bids_predictions/sub-ms1027/ses-20170127/flair.t1_choroid_pineal_pituitary2_pred.nii.gz\n",
      "itksnap -g /media/smbshare/3Tpioneer_bids/sub-ms1028/ses-20190608/flair.nii.gz -o /media/smbshare/3Tpioneer_bids/sub-ms1028/ses-20190608/t1.nii.gz -s /media/smbshare/3Tpioneer_bids_predictions/sub-ms1028/ses-20190608/flair.t1_pineal1_pred.nii.gz -s /media/smbshare/3Tpioneer_bids_predictions/sub-ms1028/ses-20190608/flair.t1_choroid_pineal_pituitary2_pred.nii.gz\n",
      "itksnap -g /media/smbshare/3Tpioneer_bids/sub-ms1029/ses-20170816/flair.nii.gz -o /media/smbshare/3Tpioneer_bids/sub-ms1029/ses-20170816/t1.nii.gz -s /media/smbshare/3Tpioneer_bids_predictions/sub-ms1029/ses-20170816/flair.t1_choroid_pineal_pituitary2_pred.nii.gz\n",
      "itksnap -g /media/smbshare/3Tpioneer_bids/sub-ms1030/ses-20200304/flair.nii.gz -o /media/smbshare/3Tpioneer_bids/sub-ms1030/ses-20200304/t1.nii.gz -s /media/smbshare/3Tpioneer_bids_predictions/sub-ms1030/ses-20200304/flair.t1_pineal1_pred.nii.gz -s /media/smbshare/3Tpioneer_bids_predictions/sub-ms1030/ses-20200304/flair.t1_choroid_pineal_pituitary2_pred.nii.gz\n",
      "itksnap -g /media/smbshare/3Tpioneer_bids/sub-ms1031/ses-20191116/flair.nii.gz -o /media/smbshare/3Tpioneer_bids/sub-ms1031/ses-20191116/t1.nii.gz -s /media/smbshare/3Tpioneer_bids_predictions/sub-ms1031/ses-20191116/flair.t1_pineal1_pred.nii.gz -s /media/smbshare/3Tpioneer_bids_predictions/sub-ms1031/ses-20191116/flair.t1_choroid_pineal_pituitary2_pred.nii.gz\n",
      "itksnap -g /media/smbshare/3Tpioneer_bids/sub-ms1033/ses-20171117/flair.nii.gz -o /media/smbshare/3Tpioneer_bids/sub-ms1033/ses-20171117/t1.nii.gz\n",
      "itksnap -g /media/smbshare/3Tpioneer_bids/sub-ms1036/ses-20191027/flair.nii.gz -o /media/smbshare/3Tpioneer_bids/sub-ms1036/ses-20191027/t1.nii.gz -s /media/smbshare/3Tpioneer_bids_predictions/sub-ms1036/ses-20191027/flair.t1_pineal1_pred.nii.gz -s /media/smbshare/3Tpioneer_bids_predictions/sub-ms1036/ses-20191027/flair.t1_choroid_pineal_pituitary2_pred.nii.gz\n",
      "itksnap -g /media/smbshare/3Tpioneer_bids/sub-ms1037/ses-20210508/flair.nii.gz -o /media/smbshare/3Tpioneer_bids/sub-ms1037/ses-20210508/t1.nii.gz -s /media/smbshare/3Tpioneer_bids_predictions/sub-ms1037/ses-20210508/flair.t1_choroid_pineal_pituitary2_pred.nii.gz\n",
      "itksnap -g /media/smbshare/3Tpioneer_bids/sub-ms1038/ses-20161031/flair.nii.gz -o /media/smbshare/3Tpioneer_bids/sub-ms1038/ses-20161031/t1.nii.gz -s /media/smbshare/3Tpioneer_bids_predictions/sub-ms1038/ses-20161031/flair.t1_pineal1_pred.nii.gz -s /media/smbshare/3Tpioneer_bids_predictions/sub-ms1038/ses-20161031/flair.t1_choroid_pineal_pituitary2_pred.nii.gz\n",
      "itksnap -g /media/smbshare/3Tpioneer_bids/sub-ms1039/ses-20171206/flair.nii.gz -o /media/smbshare/3Tpioneer_bids/sub-ms1039/ses-20171206/t1.nii.gz -s /media/smbshare/3Tpioneer_bids_predictions/sub-ms1039/ses-20171206/flair.t1_pineal1_pred.nii.gz -s /media/smbshare/3Tpioneer_bids_predictions/sub-ms1039/ses-20171206/flair.t1_choroid_pineal_pituitary2_pred.nii.gz\n",
      "itksnap -g /media/smbshare/3Tpioneer_bids/sub-ms1042/ses-20161013/flair.nii.gz -o /media/smbshare/3Tpioneer_bids/sub-ms1042/ses-20161013/t1.nii.gz -s /media/smbshare/3Tpioneer_bids_predictions/sub-ms1042/ses-20161013/flair.t1_pineal1_pred.nii.gz -s /media/smbshare/3Tpioneer_bids_predictions/sub-ms1042/ses-20161013/flair.t1_choroid_pineal_pituitary2_pred.nii.gz\n",
      "itksnap -g /media/smbshare/3Tpioneer_bids/sub-ms1044/ses-20170317/flair.nii.gz -o /media/smbshare/3Tpioneer_bids/sub-ms1044/ses-20170317/t1.nii.gz -s /media/smbshare/3Tpioneer_bids_predictions/sub-ms1044/ses-20170317/flair.t1_pineal1_pred.nii.gz -s /media/smbshare/3Tpioneer_bids_predictions/sub-ms1044/ses-20170317/flair.t1_choroid_pineal_pituitary2_pred.nii.gz\n",
      "itksnap -g /media/smbshare/3Tpioneer_bids/sub-ms1045/ses-20170418/flair.nii.gz -o /media/smbshare/3Tpioneer_bids/sub-ms1045/ses-20170418/t1.nii.gz -s /media/smbshare/3Tpioneer_bids_predictions/sub-ms1045/ses-20170418/flair.t1_pineal1_pred.nii.gz -s /media/smbshare/3Tpioneer_bids_predictions/sub-ms1045/ses-20170418/flair.t1_choroid_pineal_pituitary2_pred.nii.gz\n",
      "itksnap -g /media/smbshare/3Tpioneer_bids/sub-ms1046/ses-20181109/flair.nii.gz -o /media/smbshare/3Tpioneer_bids/sub-ms1046/ses-20181109/t1.nii.gz -s /media/smbshare/3Tpioneer_bids_predictions/sub-ms1046/ses-20181109/flair.t1_pineal1_pred.nii.gz -s /media/smbshare/3Tpioneer_bids_predictions/sub-ms1046/ses-20181109/flair.t1_choroid_pineal_pituitary2_pred.nii.gz\n",
      "itksnap -g /media/smbshare/3Tpioneer_bids/sub-ms1047/ses-20190506/flair.nii.gz -o /media/smbshare/3Tpioneer_bids/sub-ms1047/ses-20190506/t1.nii.gz -s /media/smbshare/3Tpioneer_bids_predictions/sub-ms1047/ses-20190506/flair.t1_pineal1_pred.nii.gz\n",
      "itksnap -g /media/smbshare/3Tpioneer_bids/sub-ms1049/ses-20170815/flair.nii.gz -o /media/smbshare/3Tpioneer_bids/sub-ms1049/ses-20170815/t1.nii.gz -s /media/smbshare/3Tpioneer_bids_predictions/sub-ms1049/ses-20170815/flair.t1_pineal1_pred.nii.gz\n",
      "itksnap -g /media/smbshare/3Tpioneer_bids/sub-ms1050/ses-20170624/flair.nii.gz -o /media/smbshare/3Tpioneer_bids/sub-ms1050/ses-20170624/t1.nii.gz -s /media/smbshare/3Tpioneer_bids_predictions/sub-ms1050/ses-20170624/flair.t1_pineal1_pred.nii.gz\n",
      "itksnap -g /media/smbshare/3Tpioneer_bids/sub-ms1052/ses-20180803/flair.nii.gz -o /media/smbshare/3Tpioneer_bids/sub-ms1052/ses-20180803/t1.nii.gz -s /media/smbshare/3Tpioneer_bids_predictions/sub-ms1052/ses-20180803/flair.t1_pineal1_pred.nii.gz\n",
      "itksnap -g /media/smbshare/3Tpioneer_bids/sub-ms1053/ses-20161218/flair.nii.gz -o /media/smbshare/3Tpioneer_bids/sub-ms1053/ses-20161218/t1.nii.gz -s /media/smbshare/3Tpioneer_bids_predictions/sub-ms1053/ses-20161218/flair.t1_pineal1_pred.nii.gz\n",
      "itksnap -g /media/smbshare/3Tpioneer_bids/sub-ms1054/ses-20161006/flair.nii.gz -o /media/smbshare/3Tpioneer_bids/sub-ms1054/ses-20161006/t1.nii.gz -s /media/smbshare/3Tpioneer_bids_predictions/sub-ms1054/ses-20161006/flair.t1_pineal1_pred.nii.gz\n"
     ]
    }
   ],
   "source": [
    "inds = slice(0,40)\n",
    "for scan, inf_scan in zip(dataset[inds], inference_dataset[inds]):\n",
    "    images = [scan.root / im for im in image_names if (scan.root / im).is_file()]\n",
    "    man_labels = [scan.root / lab for lab in label_names if (scan.root / lab).is_file()]\n",
    "    inferences = [inf_scan.root / lab for lab in inference_labels if (inf_scan.root / lab).is_file()]\n",
    "    labels = man_labels + inferences\n",
    "    cmd = utils.open_itksnap_workspace_cmd(images, labels, win=False)\n",
    "    print(cmd)"
   ]
  },
  {
   "cell_type": "code",
   "execution_count": 18,
   "metadata": {},
   "outputs": [
    {
     "name": "stdout",
     "output_type": "stream",
     "text": [
      "Scan(subid='1001', sesid='20170215', _dataroot=PosixPath('/media/smbshare/3Tpioneer_bids_predictions'), _root=PosixPath('/media/smbshare/3Tpioneer_bids_predictions/sub-ms1001/ses-20170215'), image=None, label=None, cond=None, id=20190385215)\n",
      "Scan(subid='1002', sesid='20200521', _dataroot=PosixPath('/media/smbshare/3Tpioneer_bids_predictions'), _root=PosixPath('/media/smbshare/3Tpioneer_bids_predictions/sub-ms1002/ses-20200521'), image=None, label=None, cond=None, id=20240922042)\n",
      "Scan(subid='1003', sesid='20170329', _dataroot=PosixPath('/media/smbshare/3Tpioneer_bids_predictions'), _root=PosixPath('/media/smbshare/3Tpioneer_bids_predictions/sub-ms1003/ses-20170329'), image=None, label=None, cond=None, id=20230839987)\n",
      "Scan(subid='1004', sesid='20190906', _dataroot=PosixPath('/media/smbshare/3Tpioneer_bids_predictions'), _root=PosixPath('/media/smbshare/3Tpioneer_bids_predictions/sub-ms1004/ses-20190906'), image=None, label=None, cond=None, id=20271669624)\n",
      "Scan(subid='1005', sesid='20200708', _dataroot=PosixPath('/media/smbshare/3Tpioneer_bids_predictions'), _root=PosixPath('/media/smbshare/3Tpioneer_bids_predictions/sub-ms1005/ses-20200708'), image=None, label=None, cond=None, id=20301711540)\n",
      "Scan(subid='1007', sesid='20190907', _dataroot=PosixPath('/media/smbshare/3Tpioneer_bids_predictions'), _root=PosixPath('/media/smbshare/3Tpioneer_bids_predictions/sub-ms1007/ses-20190907'), image=None, label=None, cond=None, id=20332243349)\n",
      "Scan(subid='1010', sesid='20180208', _dataroot=PosixPath('/media/smbshare/3Tpioneer_bids_predictions'), _root=PosixPath('/media/smbshare/3Tpioneer_bids_predictions/sub-ms1010/ses-20180208'), image=None, label=None, cond=None, id=20382010080)\n",
      "Scan(subid='1011', sesid='20180911', _dataroot=PosixPath('/media/smbshare/3Tpioneer_bids_predictions'), _root=PosixPath('/media/smbshare/3Tpioneer_bids_predictions/sub-ms1011/ses-20180911'), image=None, label=None, cond=None, id=20402901021)\n",
      "Scan(subid='1012', sesid='20190903', _dataroot=PosixPath('/media/smbshare/3Tpioneer_bids_predictions'), _root=PosixPath('/media/smbshare/3Tpioneer_bids_predictions/sub-ms1012/ses-20190903'), image=None, label=None, cond=None, id=20433193836)\n",
      "Scan(subid='1013', sesid='20201109', _dataroot=PosixPath('/media/smbshare/3Tpioneer_bids_predictions'), _root=PosixPath('/media/smbshare/3Tpioneer_bids_predictions/sub-ms1013/ses-20201109'), image=None, label=None, cond=None, id=20463723417)\n",
      "Scan(subid='1015', sesid='20190326', _dataroot=PosixPath('/media/smbshare/3Tpioneer_bids_predictions'), _root=PosixPath('/media/smbshare/3Tpioneer_bids_predictions/sub-ms1015/ses-20190326'), image=None, label=None, cond=None, id=20493180890)\n",
      "Scan(subid='1016', sesid='20200421', _dataroot=PosixPath('/media/smbshare/3Tpioneer_bids_predictions'), _root=PosixPath('/media/smbshare/3Tpioneer_bids_predictions/sub-ms1016/ses-20200421'), image=None, label=None, cond=None, id=20523627736)\n",
      "Scan(subid='1017', sesid='20160921', _dataroot=PosixPath('/media/smbshare/3Tpioneer_bids_predictions'), _root=PosixPath('/media/smbshare/3Tpioneer_bids_predictions/sub-ms1017/ses-20160921'), image=None, label=None, cond=None, id=20503656657)\n",
      "Scan(subid='1019', sesid='20190608', _dataroot=PosixPath('/media/smbshare/3Tpioneer_bids_predictions'), _root=PosixPath('/media/smbshare/3Tpioneer_bids_predictions/sub-ms1019/ses-20190608'), image=None, label=None, cond=None, id=20574229552)\n",
      "Scan(subid='1020', sesid='20170927', _dataroot=PosixPath('/media/smbshare/3Tpioneer_bids_predictions'), _root=PosixPath('/media/smbshare/3Tpioneer_bids_predictions/sub-ms1020/ses-20170927'), image=None, label=None, cond=None, id=20574345540)\n",
      "Scan(subid='1021', sesid='20180928', _dataroot=PosixPath('/media/smbshare/3Tpioneer_bids_predictions'), _root=PosixPath('/media/smbshare/3Tpioneer_bids_predictions/sub-ms1021/ses-20180928'), image=None, label=None, cond=None, id=20604727488)\n",
      "Scan(subid='1022', sesid='20190807', _dataroot=PosixPath('/media/smbshare/3Tpioneer_bids_predictions'), _root=PosixPath('/media/smbshare/3Tpioneer_bids_predictions/sub-ms1022/ses-20190807'), image=None, label=None, cond=None, id=20635004754)\n",
      "Scan(subid='1023', sesid='20170813', _dataroot=PosixPath('/media/smbshare/3Tpioneer_bids_predictions'), _root=PosixPath('/media/smbshare/3Tpioneer_bids_predictions/sub-ms1023/ses-20170813'), image=None, label=None, cond=None, id=20634741699)\n",
      "Scan(subid='1024', sesid='20170710', _dataroot=PosixPath('/media/smbshare/3Tpioneer_bids_predictions'), _root=PosixPath('/media/smbshare/3Tpioneer_bids_predictions/sub-ms1024/ses-20170710'), image=None, label=None, cond=None, id=20654807040)\n",
      "Scan(subid='1026', sesid='20181011', _dataroot=PosixPath('/media/smbshare/3Tpioneer_bids_predictions'), _root=PosixPath('/media/smbshare/3Tpioneer_bids_predictions/sub-ms1026/ses-20181011'), image=None, label=None, cond=None, id=20705717286)\n"
     ]
    }
   ],
   "source": [
    "for scan, inf_scan in zip(dataset[inds], inference_dataset[inds]):\n",
    "    print(inf_scan)"
   ]
  }
 ],
 "metadata": {
  "kernelspec": {
   "display_name": "monai",
   "language": "python",
   "name": "python3"
  },
  "language_info": {
   "codemirror_mode": {
    "name": "ipython",
    "version": 3
   },
   "file_extension": ".py",
   "mimetype": "text/x-python",
   "name": "python",
   "nbconvert_exporter": "python",
   "pygments_lexer": "ipython3",
   "version": "3.12.7"
  }
 },
 "nbformat": 4,
 "nbformat_minor": 2
}
