{
 "cells": [
  {
   "cell_type": "code",
   "execution_count": 2,
   "metadata": {},
   "outputs": [],
   "source": [
    "import matplotlib.pyplot as plt\n",
    "import pandas as pd\n",
    "from pathlib import Path\n",
    "import numpy as np\n",
    "import re\n",
    "import seaborn as sns\n",
    "import statsmodels.api as sm\n",
    "from statsmodels.formula.api import ols\n",
    "from scipy.stats import mannwhitneyu \n",
    "\n",
    "from mri_data import file_manager as fm"
   ]
  },
  {
   "cell_type": "code",
   "execution_count": 3,
   "metadata": {},
   "outputs": [],
   "source": [
    "drive_root = fm.get_drive_root()\n",
    "msmri_home = Path(\"/home/srs-9/Projects/ms_mri\")\n",
    "msmri_datadir = msmri_home / \"data\"\n",
    "curr_dir = msmri_home / \"monai_analysis\" / \"choroid_pineal_pituitary_T1-1\""
   ]
  },
  {
   "cell_type": "markdown",
   "metadata": {},
   "source": [
    "## Data Cleaning"
   ]
  },
  {
   "cell_type": "markdown",
   "metadata": {},
   "source": [
    "Load volume dataset"
   ]
  },
  {
   "cell_type": "code",
   "execution_count": 4,
   "metadata": {},
   "outputs": [],
   "source": [
    "df_vols = pd.read_csv(curr_dir / \"clinical_data_full.csv\")\n",
    "df_vols = df_vols.set_index(\"subid\")\n",
    "keep_cols = [\n",
    "    \"choroid_volume\",\n",
    "    \"pineal_volume\",\n",
    "    \"pituitary_volume\",\n",
    "    \"tiv\",\n",
    "    \"flair_contrast\",\n",
    "    \"label\",\n",
    "    \"scan_folder\",\n",
    "    \"age\",\n",
    "]\n",
    "\n",
    "not_nas = (\n",
    "    ~df_vols[\"pineal_volume\"].isna()\n",
    "    & ~df_vols[\"choroid_volume\"].isna()\n",
    "    & ~df_vols[\"pituitary_volume\"].isna()\n",
    ")\n",
    "df_vols = df_vols.loc[not_nas, keep_cols]"
   ]
  },
  {
   "cell_type": "code",
   "execution_count": 5,
   "metadata": {},
   "outputs": [],
   "source": [
    "def subject_to_subid(subject):\n",
    "    if not isinstance(subject, str):\n",
    "        return None\n",
    "    re_match = re.match(r\"ms(\\d{4})\", subject)\n",
    "    if re_match:\n",
    "        return_val = int(re_match[1])\n",
    "        return return_val\n",
    "    else:\n",
    "        return None"
   ]
  },
  {
   "cell_type": "code",
   "execution_count": 6,
   "metadata": {},
   "outputs": [],
   "source": [
    "df_full = pd.read_csv(msmri_datadir / \"Clinical_Data_All_updated.csv\")\n",
    "df_full.insert(0, \"subid\", df_full[\"ID\"].map(subject_to_subid))\n",
    "df_full = df_full.set_index(\"subid\")\n",
    "\n",
    "df = pd.merge(\n",
    "    df_vols,\n",
    "    df_full.loc[:, ~df_full.columns.isin(df_vols.columns)],\n",
    "    how=\"outer\",\n",
    "    on=\"subid\",\n",
    ")\n",
    "\n",
    "df.loc[:, \"extracted_EDSS\"] = [\n",
    "    float(val) if val != \".\" else None for val in df[\"extracted_EDSS\"]\n",
    "]  #! figure out what to do with \".\"\n",
    "df.loc[:, [\"EDSS\"]] = pd.Categorical(df[\"extracted_EDSS\"], ordered=True)\n",
    "df.loc[df[\"PRL\"] == \"#VALUE!\", \"PRL\"] = None\n",
    "df.loc[:, \"PRL\"] = [\n",
    "    int(val) if val != \"#VALUE!\" and val is not None else None for val in df[\"PRL\"]\n",
    "]\n",
    "df.loc[df[\"dzdur\"] == \"#VALUE!\", \"dzdur\"] = None"
   ]
  },
  {
   "cell_type": "code",
   "execution_count": 7,
   "metadata": {},
   "outputs": [],
   "source": [
    "prl_levels = [range(0, 1), range(1, 3), range(3, 5), range(5, df[\"PRL\"].max() + 1)]\n",
    "df.loc[:, [\"PRL_LEVEL\"]] = None\n",
    "for i, level in enumerate(prl_levels):\n",
    "    df.loc[df[\"PRL\"].isin(level), [\"PRL_LEVEL\"]] = i\n",
    "df.loc[:, [\"PRL_LEVEL\"]] = pd.Categorical(df[\"PRL_LEVEL\"], ordered=True)"
   ]
  },
  {
   "cell_type": "code",
   "execution_count": 8,
   "metadata": {},
   "outputs": [],
   "source": [
    "def check_nind(subtype):\n",
    "    if type(subtype) is not str:\n",
    "        return False\n",
    "    if \"migraine\" in subtype:\n",
    "        return True\n",
    "    elif \"IIH\" in subtype:\n",
    "        return True\n",
    "    elif \"Migraine\" in subtype:\n",
    "        return True\n",
    "    else:\n",
    "        return False"
   ]
  },
  {
   "cell_type": "code",
   "execution_count": 9,
   "metadata": {},
   "outputs": [],
   "source": [
    "def check_nind2(subtype):\n",
    "    if type(subtype) is not str:\n",
    "        return False\n",
    "    keywords = [\"migraine\", \"IIH\", \"anxiety\", \"Migraine\"]\n",
    "    for word in keywords:\n",
    "        if word in subtype:\n",
    "            return True\n",
    "    return False"
   ]
  },
  {
   "cell_type": "markdown",
   "metadata": {},
   "source": [
    "Add columns for volumes normalized by TIV"
   ]
  },
  {
   "cell_type": "code",
   "execution_count": 10,
   "metadata": {},
   "outputs": [],
   "source": [
    "df.loc[:, [\"norm_choroid_volume\"]] = df[\"choroid_volume\"] / df[\"tiv\"]\n",
    "df.loc[:, [\"norm_pineal_volume\"]] = df[\"pineal_volume\"] / df[\"tiv\"]\n",
    "df.loc[:, [\"norm_pituitary_volume\"]] = df[\"pituitary_volume\"] / df[\"tiv\"]"
   ]
  },
  {
   "cell_type": "markdown",
   "metadata": {},
   "source": [
    "### Categorize Disease Types\n",
    "\n",
    "- RMS vs MS vs !MS\n",
    "- MS vs !MS\n",
    "- MS vs OIND vs NIND"
   ]
  },
  {
   "cell_type": "markdown",
   "metadata": {},
   "source": [
    "`dz_type` has relapsing MS (RMS) versus progressive MS (PMS) verusus not MS (!MS)"
   ]
  },
  {
   "cell_type": "code",
   "execution_count": 11,
   "metadata": {},
   "outputs": [
    {
     "name": "stdout",
     "output_type": "stream",
     "text": [
      "['RMS' 'PMS' '!MS' 'UNK' 'RIS']\n",
      "0\n"
     ]
    }
   ],
   "source": [
    "try:\n",
    "    df.insert(18, \"dz_type\", df[\"ms_type\"])\n",
    "except Exception:\n",
    "    pass\n",
    "\n",
    "df.loc[:, \"dz_type\"] = df[\"ms_type\"]\n",
    "\n",
    "df.loc[df[\"ms_type\"].isin([\"CIS\", \"RRMS\"]), \"dz_type\"] = \"RMS\"\n",
    "df.loc[df[\"ms_type\"].isin([\"PPMS\", \"SPMS\", \"RPMS\", \"PRMS\"]), \"dz_type\"] = \"PMS\"\n",
    "df.loc[df[\"ms_type\"].isin([\"NIND\", \"OIND\", \"HC\"]), \"dz_type\"] = \"!MS\"\n",
    "# df.loc[(df['dz_type'] == \"NIND\") & (df['subtype'].map(check_nind2)), \"dz_type\"] = \"HC\"\n",
    "print(df[\"dz_type\"].unique())\n",
    "print(sum(df[\"dz_type\"] == \"HC\"))"
   ]
  },
  {
   "cell_type": "markdown",
   "metadata": {},
   "source": [
    "`dz_type2` has MS versus !MS and UNK"
   ]
  },
  {
   "cell_type": "code",
   "execution_count": 12,
   "metadata": {},
   "outputs": [
    {
     "data": {
      "text/plain": [
       "array(['MS', '!MS', 'UNK', 'RIS'], dtype=object)"
      ]
     },
     "execution_count": 12,
     "metadata": {},
     "output_type": "execute_result"
    }
   ],
   "source": [
    "try:\n",
    "    df.insert(18, \"dz_type2\", df[\"dz_type\"])\n",
    "except Exception:\n",
    "    pass\n",
    "\n",
    "df.loc[:, \"dz_type2\"] = df[\"dz_type\"]\n",
    "\n",
    "df.loc[df[\"dz_type\"].isin([\"RMS\", \"PMS\"]), \"dz_type2\"] = \"MS\"\n",
    "df[\"dz_type2\"].unique()"
   ]
  },
  {
   "cell_type": "markdown",
   "metadata": {},
   "source": [
    "`dz_type3` has MS v OIND v NIND"
   ]
  },
  {
   "cell_type": "code",
   "execution_count": 13,
   "metadata": {},
   "outputs": [
    {
     "data": {
      "text/plain": [
       "array(['MS', 'NIND', 'UNK', 'HC', 'OIND', 'RIS'], dtype=object)"
      ]
     },
     "execution_count": 13,
     "metadata": {},
     "output_type": "execute_result"
    }
   ],
   "source": [
    "try:\n",
    "    df.insert(18, \"dz_type3\", df[\"ms_type\"])\n",
    "except Exception:\n",
    "    pass\n",
    "\n",
    "df.loc[:, \"dz_type3\"] = df[\"ms_type\"]\n",
    "\n",
    "df.loc[\n",
    "    df[\"ms_type\"].isin([\"PPMS\", \"SPMS\", \"RPMS\", \"PRMS\", \"RRMS\", \"CIS\"]), \"dz_type3\"\n",
    "] = \"MS\"\n",
    "df[\"dz_type3\"].unique()"
   ]
  },
  {
   "cell_type": "markdown",
   "metadata": {},
   "source": [
    "`dz_type4`"
   ]
  },
  {
   "cell_type": "code",
   "execution_count": 14,
   "metadata": {},
   "outputs": [],
   "source": [
    "try:\n",
    "    df.insert(18, \"dz_type4\", df[\"dz_type3\"])\n",
    "except Exception:\n",
    "    pass\n",
    "\n",
    "df.loc[:, \"dz_type4\"] = df[\"dz_type3\"]\n",
    "\n",
    "df.loc[\n",
    "    (df[\"dz_type4\"] == \"NIND\") & (df.loc[:, \"subtype\"].map(check_nind2)), \"dz_type4\"\n",
    "] = \"HC\""
   ]
  },
  {
   "cell_type": "markdown",
   "metadata": {},
   "source": [
    "`dz_type5`"
   ]
  },
  {
   "cell_type": "code",
   "execution_count": 15,
   "metadata": {},
   "outputs": [
    {
     "name": "stdout",
     "output_type": "stream",
     "text": [
      "['RMS' 'PMS' 'NIND' 'UNK' 'HC' 'OIND' 'RIS']\n"
     ]
    }
   ],
   "source": [
    "try:\n",
    "    df.insert(18, \"dz_type5\", df[\"ms_type\"])\n",
    "except Exception:\n",
    "    pass\n",
    "\n",
    "df.loc[:, \"dz_type5\"] = df[\"ms_type\"]\n",
    "\n",
    "df.loc[df[\"ms_type\"].isin([\"CIS\", \"RRMS\"]), \"dz_type5\"] = \"RMS\"\n",
    "df.loc[df[\"ms_type\"].isin([\"PPMS\", \"SPMS\", \"RPMS\", \"PRMS\"]), \"dz_type5\"] = \"PMS\"\n",
    "# df.loc[(df['dz_type5'] == \"NIND\") & (df['subtype'].map(check_nind2)), \"dz_type5\"] = \"HC\"\n",
    "print(df[\"dz_type5\"].unique())"
   ]
  },
  {
   "cell_type": "markdown",
   "metadata": {},
   "source": [
    "## Descriptive Stats"
   ]
  },
  {
   "cell_type": "code",
   "execution_count": 16,
   "metadata": {},
   "outputs": [
    {
     "name": "stdout",
     "output_type": "stream",
     "text": [
      "564 patients in total\n",
      "368 patients with RMS (0.65)\n",
      "97 patients with PMS (0.17)\n",
      "92 patients w/o MS (0.16)\n"
     ]
    }
   ],
   "source": [
    "print(len(df), \"patients in total\")\n",
    "nRMS = sum(df[\"dz_type\"] == \"RMS\")\n",
    "nPMS = sum(df[\"dz_type\"] == \"PMS\")\n",
    "nNotMS = sum(df[\"dz_type\"] == \"!MS\")\n",
    "print(nRMS, \"patients with RMS\", f\"({round(nRMS / len(df), 2)})\")\n",
    "print(nPMS, \"patients with PMS\", f\"({round(nPMS / len(df), 2)})\")\n",
    "print(nNotMS, \"patients w/o MS\", f\"({round(nNotMS / len(df), 2)})\")"
   ]
  },
  {
   "cell_type": "code",
   "execution_count": 17,
   "metadata": {},
   "outputs": [
    {
     "name": "stdout",
     "output_type": "stream",
     "text": [
      "564 patients in total\n",
      "465 patients with MS (0.82)\n",
      "41 patients with OIND (0.07)\n",
      "49 patients w/o NIND (0.09)\n"
     ]
    }
   ],
   "source": [
    "print(len(df), \"patients in total\")\n",
    "nMS = sum(df[\"dz_type3\"] == \"MS\")\n",
    "nOIND = sum(df[\"dz_type3\"] == \"OIND\")\n",
    "nNIND = sum(df[\"dz_type3\"] == \"NIND\")\n",
    "print(nMS, \"patients with MS\", f\"({round(nMS / len(df), 2)})\")\n",
    "print(nOIND, \"patients with OIND\", f\"({round(nOIND / len(df), 2)})\")\n",
    "print(nNIND, \"patients w/o NIND\", f\"({round(nNIND / len(df), 2)})\")"
   ]
  },
  {
   "cell_type": "code",
   "execution_count": 18,
   "metadata": {},
   "outputs": [
    {
     "name": "stdout",
     "output_type": "stream",
     "text": [
      "Female subjects:     0.79\n",
      "Average age at scan: 47.77\n"
     ]
    }
   ],
   "source": [
    "print(\"Female subjects:     {:0.2f}\".format(sum(df[\"sex\"] == \"Female\") / len(df)))\n",
    "print(\"Average age at scan: {:0.2f}\".format(df[\"age\"].mean()))"
   ]
  },
  {
   "cell_type": "code",
   "execution_count": 19,
   "metadata": {},
   "outputs": [
    {
     "name": "stdout",
     "output_type": "stream",
     "text": [
      "RMS Patients:\n",
      "\tFemale:  0.84\n",
      "\tAge:     44.64\n",
      "PMS Patients:\n",
      "\tFemale:  0.59\n",
      "\tAge:     58.24\n",
      "!MS Patients:\n",
      "\tFemale:  0.82\n",
      "\tAge:     49.70\n"
     ]
    }
   ],
   "source": [
    "df_rrms = df.loc[df[\"dz_type\"] == \"RMS\"]\n",
    "print(\"RMS Patients:\")\n",
    "print(\"\\tFemale:  {:0.2f}\".format(sum(df_rrms[\"sex\"] == \"Female\") / len(df_rrms)))\n",
    "print(\"\\tAge:     {:0.2f}\".format(df_rrms[\"age\"].mean()))\n",
    "\n",
    "df_pms = df.loc[df[\"dz_type\"] == \"PMS\"]\n",
    "print(\"PMS Patients:\")\n",
    "print(\"\\tFemale:  {:0.2f}\".format(sum(df_pms[\"sex\"] == \"Female\") / len(df_pms)))\n",
    "print(\"\\tAge:     {:0.2f}\".format(df_pms[\"age\"].mean()))\n",
    "\n",
    "df_notms = df.loc[df[\"dz_type\"] == \"!MS\"]\n",
    "print(\"!MS Patients:\")\n",
    "print(\"\\tFemale:  {:0.2f}\".format(sum(df_notms[\"sex\"] == \"Female\") / len(df_notms)))\n",
    "print(\"\\tAge:     {:0.2f}\".format(df_notms[\"age\"].mean()))"
   ]
  },
  {
   "cell_type": "markdown",
   "metadata": {},
   "source": [
    "#### Volumes"
   ]
  },
  {
   "cell_type": "code",
   "execution_count": 20,
   "metadata": {},
   "outputs": [
    {
     "name": "stdout",
     "output_type": "stream",
     "text": [
      "Choroid volumes:\n",
      "\tRRMS:   1921.89\n",
      "\tPMS:    2464.00\n",
      "\tnot-MS: 1973.78\n",
      "Pineal volumes:\n",
      "\tRRMS:   241.80\n",
      "\tPMS:    228.35\n",
      "\tnot-MS: 267.28\n",
      "Pituitary volumes:\n",
      "\tRRMS:   694.03\n",
      "\tPMS:    651.02\n",
      "\tnot-MS: 690.05\n"
     ]
    }
   ],
   "source": [
    "# choroid\n",
    "print(\"Choroid volumes:\")\n",
    "print(\"\\tRRMS:   {:0.2f}\".format(df_rrms[\"choroid_volume\"].mean()))\n",
    "print(\"\\tPMS:    {:0.2f}\".format(df_pms[\"choroid_volume\"].mean()))\n",
    "print(\"\\tnot-MS: {:0.2f}\".format(df_notms[\"choroid_volume\"].mean()))\n",
    "\n",
    "# pineal\n",
    "print(\"Pineal volumes:\")\n",
    "print(\"\\tRRMS:   {:0.2f}\".format(df_rrms[\"pineal_volume\"].mean()))\n",
    "print(\"\\tPMS:    {:0.2f}\".format(df_pms[\"pineal_volume\"].mean()))\n",
    "print(\"\\tnot-MS: {:0.2f}\".format(df_notms[\"pineal_volume\"].mean()))\n",
    "\n",
    "# pituitary\n",
    "print(\"Pituitary volumes:\")\n",
    "print(\"\\tRRMS:   {:0.2f}\".format(df_rrms[\"pituitary_volume\"].mean()))\n",
    "print(\"\\tPMS:    {:0.2f}\".format(df_pms[\"pituitary_volume\"].mean()))\n",
    "print(\"\\tnot-MS: {:0.2f}\".format(df_notms[\"pituitary_volume\"].mean()))"
   ]
  },
  {
   "cell_type": "code",
   "execution_count": 21,
   "metadata": {},
   "outputs": [
    {
     "name": "stdout",
     "output_type": "stream",
     "text": [
      "Choroid volumes:\n",
      "\tMS:     2033.73\n",
      "\tnot-MS: 1973.78\n",
      "\n",
      "Pineal volumes\n",
      "\tMS:     239.02\n",
      "\tnot-MS: 267.28\n",
      "\n",
      "Pituitary volumes\n",
      "\tMS:     685.16\n",
      "\tnot-MS: 690.05\n"
     ]
    }
   ],
   "source": [
    "print(\"Choroid volumes:\")\n",
    "choroid_ms_mean = df[df[\"dz_type2\"] == \"MS\"].choroid_volume.mean()\n",
    "choroid_notms_mean = df[df[\"dz_type2\"] == \"!MS\"].choroid_volume.mean()\n",
    "print(\"\\tMS:     {:0.2f}\".format(choroid_ms_mean))\n",
    "print(\"\\tnot-MS: {:0.2f}\".format(choroid_notms_mean))\n",
    "\n",
    "print(\"\\nPineal volumes\")\n",
    "pineal_ms_mean = df[df[\"dz_type2\"] == \"MS\"].pineal_volume.mean()\n",
    "pineal_notms_mean = df[df[\"dz_type2\"] == \"!MS\"].pineal_volume.mean()\n",
    "print(\"\\tMS:     {:0.2f}\".format(pineal_ms_mean))\n",
    "print(\"\\tnot-MS: {:0.2f}\".format(pineal_notms_mean))\n",
    "\n",
    "print(\"\\nPituitary volumes\")\n",
    "pituitary_ms_mean = df[df[\"dz_type2\"] == \"MS\"].pituitary_volume.mean()\n",
    "pituitary_notms_mean = df[df[\"dz_type2\"] == \"!MS\"].pituitary_volume.mean()\n",
    "print(\"\\tMS:     {:0.2f}\".format(pituitary_ms_mean))\n",
    "print(\"\\tnot-MS: {:0.2f}\".format(pituitary_notms_mean))"
   ]
  },
  {
   "cell_type": "code",
   "execution_count": 22,
   "metadata": {},
   "outputs": [
    {
     "name": "stdout",
     "output_type": "stream",
     "text": [
      "Choroid volumes:\n",
      "\tMS:   2033.73\n",
      "\tOIND: 2014.44\n",
      "\tNIND: 1980.16\n",
      "\n",
      "Pineal volumes\n",
      "\tMS:   239.02\n",
      "\tOIND: 243.42\n",
      "\tNIND: 287.07\n",
      "\n",
      "Pituitary volumes\n",
      "\tMS:   685.16\n",
      "\tOIND: 704.53\n",
      "\tNIND: 678.36\n"
     ]
    }
   ],
   "source": [
    "print(\"Choroid volumes:\")\n",
    "choroid_ms_mean = df[df[\"dz_type3\"] == \"MS\"].choroid_volume.mean()\n",
    "choroid_oind_mean = df[df[\"dz_type3\"] == \"OIND\"].choroid_volume.mean()\n",
    "choroid_nind_mean = df[df[\"dz_type3\"] == \"NIND\"].choroid_volume.mean()\n",
    "print(\"\\tMS:   {:0.2f}\".format(choroid_ms_mean))\n",
    "print(\"\\tOIND: {:0.2f}\".format(choroid_oind_mean))\n",
    "print(\"\\tNIND: {:0.2f}\".format(choroid_nind_mean))\n",
    "\n",
    "\n",
    "print(\"\\nPineal volumes\")\n",
    "pineal_ms_mean = df[df[\"dz_type2\"] == \"MS\"].pineal_volume.mean()\n",
    "pineal_oind_mean = df[df[\"dz_type3\"] == \"OIND\"].pineal_volume.mean()\n",
    "pineal_nind_mean = df[df[\"dz_type3\"] == \"NIND\"].pineal_volume.mean()\n",
    "print(\"\\tMS:   {:0.2f}\".format(pineal_ms_mean))\n",
    "print(\"\\tOIND: {:0.2f}\".format(pineal_oind_mean))\n",
    "print(\"\\tNIND: {:0.2f}\".format(pineal_nind_mean))\n",
    "\n",
    "\n",
    "print(\"\\nPituitary volumes\")\n",
    "pituitary_ms_mean = df[df[\"dz_type2\"] == \"MS\"].pituitary_volume.mean()\n",
    "pituitary_oind_mean = df[df[\"dz_type3\"] == \"OIND\"].pituitary_volume.mean()\n",
    "pituitary_nind_mean = df[df[\"dz_type3\"] == \"NIND\"].pituitary_volume.mean()\n",
    "print(\"\\tMS:   {:0.2f}\".format(pituitary_ms_mean))\n",
    "print(\"\\tOIND: {:0.2f}\".format(pituitary_oind_mean))\n",
    "print(\"\\tNIND: {:0.2f}\".format(pituitary_nind_mean))"
   ]
  },
  {
   "cell_type": "markdown",
   "metadata": {},
   "source": [
    "## Plots"
   ]
  },
  {
   "cell_type": "code",
   "execution_count": 23,
   "metadata": {},
   "outputs": [
    {
     "data": {
      "image/png": "[encoded data removed]",
      "text/plain": [
       "<Figure size 640x480 with 6 Axes>"
      ]
     },
     "metadata": {},
     "output_type": "display_data"
    }
   ],
   "source": [
    "fig, ax = plt.subplots(2, 3)\n",
    "ax[0, 0].hist(df.loc[df[\"dz_type2\"] == \"MS\", \"choroid_volume\"], bins=50)\n",
    "ax[0, 0].set_xlim([0, 3500])\n",
    "ax[0, 0].set_title(\"Choroid MS\")\n",
    "ax[0, 0].plot([choroid_ms_mean, choroid_ms_mean], ax[0, 0].get_ylim())\n",
    "text_y = ax[0, 0].get_ylim()[1] - ax[0, 0].get_ylim()[1] / 16\n",
    "ax[0, 0].text(choroid_ms_mean, text_y, \"{:0.0f}\".format(choroid_ms_mean))\n",
    "\n",
    "ax[1, 0].hist(df.loc[df[\"dz_type2\"] == \"!MS\", \"choroid_volume\"], bins=20)\n",
    "ax[1, 0].set_xlim([0, 3500])\n",
    "ax[1, 0].set_title(\"Choroid Not MS\")\n",
    "ax[1, 0].plot([choroid_notms_mean, choroid_notms_mean], ax[1, 0].get_ylim())\n",
    "text_y = ax[1, 0].get_ylim()[1] - ax[1, 0].get_ylim()[1] / 16\n",
    "ax[1, 0].text(choroid_notms_mean, text_y, \"{:0.0f}\".format(choroid_notms_mean))\n",
    "\n",
    "\n",
    "ax[0, 1].hist(df.loc[df[\"dz_type2\"] == \"MS\", \"pineal_volume\"], bins=50)\n",
    "ax[0, 1].set_xlim([0, 750])\n",
    "ax[0, 1].set_title(\"Pineal MS\")\n",
    "ax[0, 1].plot([pineal_ms_mean, pineal_ms_mean], ax[0, 1].get_ylim())\n",
    "text_y = ax[0, 1].get_ylim()[1] - ax[0, 1].get_ylim()[1] / 16\n",
    "ax[0, 1].text(pineal_ms_mean, text_y, \"{:0.0f}\".format(pineal_ms_mean))\n",
    "\n",
    "ax[1, 1].hist(df.loc[df[\"dz_type2\"] == \"!MS\", \"pineal_volume\"], bins=30)\n",
    "ax[1, 1].set_xlim([0, 750])\n",
    "ax[1, 1].set_title(\"Pineal Not MS\")\n",
    "ax[1, 1].plot([pineal_notms_mean, pineal_notms_mean], ax[1, 1].get_ylim())\n",
    "text_y = ax[1, 1].get_ylim()[1] - ax[1, 1].get_ylim()[1] / 16\n",
    "ax[1, 1].text(pineal_notms_mean, text_y, \"{:0.0f}\".format(pineal_notms_mean))\n",
    "\n",
    "\n",
    "ax[0, 2].hist(df.loc[df[\"dz_type2\"] == \"MS\", \"pituitary_volume\"], bins=50)\n",
    "ax[0, 2].set_xlim([0, 1500])\n",
    "ax[0, 2].set_title(\"Pituitary MS\")\n",
    "ax[0, 2].plot([pituitary_ms_mean, pituitary_ms_mean], ax[0, 2].get_ylim())\n",
    "text_y = ax[0, 2].get_ylim()[1] - ax[0, 2].get_ylim()[1] / 16\n",
    "ax[0, 2].text(pituitary_ms_mean, text_y, \"{:0.0f}\".format(pituitary_ms_mean))\n",
    "\n",
    "ax[1, 2].hist(df.loc[df[\"dz_type2\"] == \"!MS\", \"pituitary_volume\"], bins=20)\n",
    "ax[1, 2].set_xlim([0, 1500])\n",
    "ax[1, 2].set_title(\"Pituitary Not MS\")\n",
    "ax[1, 2].plot([pituitary_notms_mean, pituitary_notms_mean], ax[1, 2].get_ylim())\n",
    "text_y = ax[1, 2].get_ylim()[1] - ax[1, 2].get_ylim()[1] / 16\n",
    "ax[1, 2].text(pituitary_notms_mean, text_y, \"{:0.0f}\".format(pituitary_notms_mean))\n",
    "\n",
    "plt.subplots_adjust(bottom=0.1, right=2, top=1.5)"
   ]
  },
  {
   "cell_type": "markdown",
   "metadata": {},
   "source": [
    "## Regression Models\n",
    "\n",
    "Covariates: age, sex, TIV, contrast"
   ]
  },
  {
   "cell_type": "markdown",
   "metadata": {},
   "source": [
    "### Linear Regression on Volume\n",
    "\n",
    "Predict volume of structure with the following predictors:\n",
    "\n",
    "- MS vs Not-MS\n",
    "- MS vs OIND vs NIND\n",
    "- RMS vs PMS"
   ]
  },
  {
   "cell_type": "markdown",
   "metadata": {},
   "source": [
    "#### Choroid Plexus\n",
    "\n",
    "##### MS vs not-MS"
   ]
  },
  {
   "cell_type": "code",
   "execution_count": 24,
   "metadata": {},
   "outputs": [
    {
     "name": "stdout",
     "output_type": "stream",
     "text": [
      "                            OLS Regression Results                            \n",
      "==============================================================================\n",
      "Dep. Variable:                 volume   R-squared:                       0.231\n",
      "Model:                            OLS   Adj. R-squared:                  0.225\n",
      "Method:                 Least Squares   F-statistic:                     35.67\n",
      "Date:                Mon, 10 Feb 2025   Prob (F-statistic):           4.59e-26\n",
      "Time:                        15:15:30   Log-Likelihood:                -3729.6\n",
      "No. Observations:                 479   AIC:                             7469.\n",
      "Df Residuals:                     474   BIC:                             7490.\n",
      "Df Model:                           4                                         \n",
      "Covariance Type:            nonrobust                                         \n",
      "==============================================================================\n",
      "                 coef    std err          t      P>|t|      [0.025      0.975]\n",
      "------------------------------------------------------------------------------\n",
      "age           20.0308      2.173      9.219      0.000      15.761      24.300\n",
      "Male         242.5502     78.226      3.101      0.002      88.838     396.263\n",
      "tiv            0.0008      0.000      3.210      0.001       0.000       0.001\n",
      "MS           124.3920     74.711      1.665      0.097     -22.414     271.198\n",
      "intercept   -267.1203    399.809     -0.668      0.504   -1052.738     518.498\n",
      "==============================================================================\n",
      "Omnibus:                       23.412   Durbin-Watson:                   2.111\n",
      "Prob(Omnibus):                  0.000   Jarque-Bera (JB):               28.502\n",
      "Skew:                           0.460   Prob(JB):                     6.47e-07\n",
      "Kurtosis:                       3.764   Cond. No.                     2.27e+07\n",
      "==============================================================================\n",
      "\n",
      "Notes:\n",
      "[1] Standard Errors assume that the covariance matrix of the errors is correctly specified.\n",
      "[2] The condition number is large, 2.27e+07. This might indicate that there are\n",
      "strong multicollinearity or other numerical problems.\n"
     ]
    }
   ],
   "source": [
    "volume = \"choroid_volume\"\n",
    "\n",
    "data = df[[\"dz_type2\", \"age\", \"sex\", \"tiv\", \"flair_contrast\", \"dzdur\", volume]]\n",
    "data = data.rename(columns={volume: \"volume\"})\n",
    "data = data[data[\"dz_type2\"].isin([\"MS\", \"!MS\"])]\n",
    "data = data[data[\"flair_contrast\"].isin([\"WITH\", \"WITHOUT\"])]\n",
    "\n",
    "data = pd.concat(\n",
    "    (\n",
    "        data,\n",
    "        pd.get_dummies(data[\"dz_type2\"]),\n",
    "        pd.get_dummies(data[\"flair_contrast\"]),\n",
    "        pd.get_dummies(data[\"sex\"]),\n",
    "    ),\n",
    "    axis=1,\n",
    ")\n",
    "data[\"intercept\"] = 1\n",
    "\n",
    "predictors = [\"age\", \"Male\", \"tiv\", \"MS\", \"intercept\"]\n",
    "\n",
    "res = sm.OLS(\n",
    "    data[\"volume\"].astype(\"float\"), data[predictors].astype(\"float\"), missing=\"drop\"\n",
    ").fit()\n",
    "\n",
    "print(res.summary())"
   ]
  },
  {
   "cell_type": "markdown",
   "metadata": {},
   "source": [
    "##### MS vs NIND vs OIND"
   ]
  },
  {
   "cell_type": "code",
   "execution_count": 25,
   "metadata": {},
   "outputs": [
    {
     "name": "stdout",
     "output_type": "stream",
     "text": [
      "                            OLS Regression Results                            \n",
      "==============================================================================\n",
      "Dep. Variable:                 volume   R-squared:                       0.235\n",
      "Model:                            OLS   Adj. R-squared:                  0.228\n",
      "Method:                 Least Squares   F-statistic:                     33.88\n",
      "Date:                Mon, 10 Feb 2025   Prob (F-statistic):           1.14e-24\n",
      "Time:                        15:15:30   Log-Likelihood:                -3483.6\n",
      "No. Observations:                 447   AIC:                             6977.\n",
      "Df Residuals:                     442   BIC:                             6998.\n",
      "Df Model:                           4                                         \n",
      "Covariance Type:            nonrobust                                         \n",
      "==============================================================================\n",
      "                 coef    std err          t      P>|t|      [0.025      0.975]\n",
      "------------------------------------------------------------------------------\n",
      "age           20.3502      2.260      9.006      0.000      15.909      24.791\n",
      "Female      -252.1833     80.843     -3.119      0.002    -411.067     -93.299\n",
      "tiv            0.0008      0.000      3.169      0.002       0.000       0.001\n",
      "MS           105.5772     96.498      1.094      0.275     -84.074     295.229\n",
      "intercept    -41.5680    468.598     -0.089      0.929    -962.524     879.388\n",
      "==============================================================================\n",
      "Omnibus:                       22.618   Durbin-Watson:                   2.081\n",
      "Prob(Omnibus):                  0.000   Jarque-Bera (JB):               27.778\n",
      "Skew:                           0.464   Prob(JB):                     9.29e-07\n",
      "Kurtosis:                       3.795   Cond. No.                     2.55e+07\n",
      "==============================================================================\n",
      "\n",
      "Notes:\n",
      "[1] Standard Errors assume that the covariance matrix of the errors is correctly specified.\n",
      "[2] The condition number is large, 2.55e+07. This might indicate that there are\n",
      "strong multicollinearity or other numerical problems.\n"
     ]
    }
   ],
   "source": [
    "volume = \"choroid_volume\"\n",
    "\n",
    "data = df[[\"dz_type3\", \"age\", \"sex\", \"tiv\", \"flair_contrast\", \"dzdur\", volume]]\n",
    "data = data.rename(columns={volume: \"volume\"})\n",
    "data = data[data[\"dz_type3\"].isin([\"MS\", \"NIND\"])]\n",
    "data = data[data[\"flair_contrast\"].isin([\"WITH\", \"WITHOUT\"])]\n",
    "\n",
    "data = pd.concat(\n",
    "    (\n",
    "        data,\n",
    "        pd.get_dummies(data[\"dz_type3\"]),\n",
    "        pd.get_dummies(data[\"flair_contrast\"]),\n",
    "        pd.get_dummies(data[\"sex\"]),\n",
    "    ),\n",
    "    axis=1,\n",
    ")\n",
    "data[\"intercept\"] = 1\n",
    "\n",
    "predictors = [\"age\", \"Female\", \"tiv\", \"MS\", \"intercept\"]\n",
    "\n",
    "res = sm.OLS(\n",
    "    data[\"volume\"].astype(\"float\"), data[predictors].astype(\"float\"), missing=\"drop\"\n",
    ").fit()\n",
    "\n",
    "print(res.summary())"
   ]
  },
  {
   "cell_type": "markdown",
   "metadata": {},
   "source": [
    "##### PMS v RMS"
   ]
  },
  {
   "cell_type": "code",
   "execution_count": 26,
   "metadata": {},
   "outputs": [
    {
     "name": "stdout",
     "output_type": "stream",
     "text": [
      "                            OLS Regression Results                            \n",
      "==============================================================================\n",
      "Dep. Variable:                 volume   R-squared:                       0.248\n",
      "Model:                            OLS   Adj. R-squared:                  0.241\n",
      "Method:                 Least Squares   F-statistic:                     33.00\n",
      "Date:                Mon, 10 Feb 2025   Prob (F-statistic):           8.59e-24\n",
      "Time:                        15:15:30   Log-Likelihood:                -3152.5\n",
      "No. Observations:                 405   AIC:                             6315.\n",
      "Df Residuals:                     400   BIC:                             6335.\n",
      "Df Model:                           4                                         \n",
      "Covariance Type:            nonrobust                                         \n",
      "==============================================================================\n",
      "                 coef    std err          t      P>|t|      [0.025      0.975]\n",
      "------------------------------------------------------------------------------\n",
      "age           16.5254      2.553      6.473      0.000      11.507      21.544\n",
      "Female      -258.8786     84.871     -3.050      0.002    -425.728     -92.030\n",
      "tiv            0.0007      0.000      2.444      0.015       0.000       0.001\n",
      "PMS          238.1317     80.823      2.946      0.003      79.242     397.022\n",
      "intercept    428.4590    466.396      0.919      0.359    -488.434    1345.352\n",
      "==============================================================================\n",
      "Omnibus:                       16.772   Durbin-Watson:                   2.183\n",
      "Prob(Omnibus):                  0.000   Jarque-Bera (JB):               19.558\n",
      "Skew:                           0.413   Prob(JB):                     5.66e-05\n",
      "Kurtosis:                       3.691   Cond. No.                     2.43e+07\n",
      "==============================================================================\n",
      "\n",
      "Notes:\n",
      "[1] Standard Errors assume that the covariance matrix of the errors is correctly specified.\n",
      "[2] The condition number is large, 2.43e+07. This might indicate that there are\n",
      "strong multicollinearity or other numerical problems.\n"
     ]
    }
   ],
   "source": [
    "volume = \"choroid_volume\"\n",
    "\n",
    "data = df[\n",
    "    [\n",
    "        \"dz_type5\",\n",
    "        \"age\",\n",
    "        \"sex\",\n",
    "        \"tiv\",\n",
    "        \"flair_contrast\",\n",
    "        \"dzdur\",\n",
    "        volume,\n",
    "        \"PRL_LEVEL\",\n",
    "        \"PRL\",\n",
    "        \"lesion_vol_cubic\",\n",
    "    ]\n",
    "]\n",
    "data = data.rename(columns={volume: \"volume\"})\n",
    "data = data[data[\"dz_type5\"].isin([\"RMS\", \"PMS\"])]\n",
    "data = data[data[\"flair_contrast\"].isin([\"WITH\", \"WITHOUT\"])]\n",
    "\n",
    "data = pd.concat(\n",
    "    (\n",
    "        data,\n",
    "        pd.get_dummies(data[\"dz_type5\"]),\n",
    "        pd.get_dummies(data[\"flair_contrast\"]),\n",
    "        pd.get_dummies(data[\"sex\"]),\n",
    "    ),\n",
    "    axis=1,\n",
    ")\n",
    "data[\"intercept\"] = 1\n",
    "\n",
    "predictors = [\"age\", \"Female\", \"tiv\", \"PMS\", \"intercept\"]\n",
    "# predictors = ['age', 'Female', 'tiv', 'PMS', 'RMS', 'OIND', 'intercept']\n",
    "res = sm.OLS(\n",
    "    data[\"volume\"].astype(\"float\"), data[predictors].astype(\"float\"), missing=\"drop\"\n",
    ").fit()\n",
    "\n",
    "print(res.summary())"
   ]
  },
  {
   "cell_type": "markdown",
   "metadata": {},
   "source": [
    "MS patients account add lesion volume to predictors. Greater lesion volume is associated with greater choroid volume. PMS is still associated with greater choroid volume compared to RMS"
   ]
  },
  {
   "cell_type": "code",
   "execution_count": 27,
   "metadata": {},
   "outputs": [
    {
     "name": "stdout",
     "output_type": "stream",
     "text": [
      "                            OLS Regression Results                            \n",
      "==============================================================================\n",
      "Dep. Variable:                 volume   R-squared:                       0.328\n",
      "Model:                            OLS   Adj. R-squared:                  0.318\n",
      "Method:                 Least Squares   F-statistic:                     32.18\n",
      "Date:                Mon, 10 Feb 2025   Prob (F-statistic):           1.54e-31\n",
      "Time:                        15:15:30   Log-Likelihood:                -3115.3\n",
      "No. Observations:                 403   AIC:                             6245.\n",
      "Df Residuals:                     396   BIC:                             6273.\n",
      "Df Model:                           6                                         \n",
      "Covariance Type:            nonrobust                                         \n",
      "====================================================================================\n",
      "                       coef    std err          t      P>|t|      [0.025      0.975]\n",
      "------------------------------------------------------------------------------------\n",
      "age                 16.3252      2.597      6.285      0.000      11.219      21.431\n",
      "Female            -264.8119     80.768     -3.279      0.001    -423.600    -106.023\n",
      "tiv                  0.0005      0.000      2.079      0.038    2.88e-05       0.001\n",
      "PMS                179.4159     77.866      2.304      0.022      26.333     332.499\n",
      "lesion_vol_cubic   177.5434     36.672      4.841      0.000     105.447     249.639\n",
      "PRL                 55.4268     15.822      3.503      0.001      24.322      86.532\n",
      "intercept          297.1868    443.746      0.670      0.503    -575.206    1169.580\n",
      "==============================================================================\n",
      "Omnibus:                       10.991   Durbin-Watson:                   2.171\n",
      "Prob(Omnibus):                  0.004   Jarque-Bera (JB):               14.214\n",
      "Skew:                           0.256   Prob(JB):                     0.000819\n",
      "Kurtosis:                       3.765   Cond. No.                     2.43e+07\n",
      "==============================================================================\n",
      "\n",
      "Notes:\n",
      "[1] Standard Errors assume that the covariance matrix of the errors is correctly specified.\n",
      "[2] The condition number is large, 2.43e+07. This might indicate that there are\n",
      "strong multicollinearity or other numerical problems.\n"
     ]
    }
   ],
   "source": [
    "predictors = [\"age\", \"Female\", \"tiv\", \"PMS\", \"lesion_vol_cubic\", \"PRL\", \"intercept\"]\n",
    "# predictors = ['age', 'Female', 'tiv', 'PMS', 'RMS', 'OIND', 'intercept']\n",
    "res = sm.OLS(\n",
    "    data[\"volume\"].astype(\"float\"), data[predictors].astype(\"float\"), missing=\"drop\"\n",
    ").fit()\n",
    "\n",
    "print(res.summary())"
   ]
  },
  {
   "cell_type": "code",
   "execution_count": 28,
   "metadata": {},
   "outputs": [
    {
     "data": {
      "text/plain": [
       "Text(0, 0.5, 'Lesion volume')"
      ]
     },
     "execution_count": 28,
     "metadata": {},
     "output_type": "execute_result"
    },
    {
     "data": {
      "image/png": "[encoded data removed]",
      "text/plain": [
       "<Figure size 640x480 with 1 Axes>"
      ]
     },
     "metadata": {},
     "output_type": "display_data"
    }
   ],
   "source": [
    "plt.scatter(data['volume'], data['lesion_vol_cubic'])\n",
    "plt.xlabel(\"Choroid Volume\")\n",
    "plt.ylabel(\"Lesion volume\")"
   ]
  },
  {
   "cell_type": "markdown",
   "metadata": {},
   "source": [
    "##### PMS vs RMS vs OIND vs NIND"
   ]
  },
  {
   "cell_type": "code",
   "execution_count": 29,
   "metadata": {},
   "outputs": [
    {
     "name": "stdout",
     "output_type": "stream",
     "text": [
      "                            OLS Regression Results                            \n",
      "==============================================================================\n",
      "Dep. Variable:                 volume   R-squared:                       0.243\n",
      "Model:                            OLS   Adj. R-squared:                  0.233\n",
      "Method:                 Least Squares   F-statistic:                     25.12\n",
      "Date:                Mon, 10 Feb 2025   Prob (F-statistic):           7.01e-26\n",
      "Time:                        15:15:30   Log-Likelihood:                -3709.7\n",
      "No. Observations:                 477   AIC:                             7433.\n",
      "Df Residuals:                     470   BIC:                             7463.\n",
      "Df Model:                           6                                         \n",
      "Covariance Type:            nonrobust                                         \n",
      "==============================================================================\n",
      "                 coef    std err          t      P>|t|      [0.025      0.975]\n",
      "------------------------------------------------------------------------------\n",
      "age           17.1708      2.348      7.314      0.000      12.558      21.784\n",
      "Female      -198.3417     79.029     -2.510      0.012    -353.636     -43.047\n",
      "tiv            0.0008      0.000      3.396      0.001       0.000       0.001\n",
      "RMS           55.4435     96.433      0.575      0.566    -134.049     244.936\n",
      "PMS          297.3095    113.963      2.609      0.009      73.370     521.249\n",
      "OIND          -5.2060    139.400     -0.037      0.970    -279.131     268.719\n",
      "intercept     32.4278    451.072      0.072      0.943    -853.939     918.795\n",
      "==============================================================================\n",
      "Omnibus:                       18.931   Durbin-Watson:                   2.114\n",
      "Prob(Omnibus):                  0.000   Jarque-Bera (JB):               21.956\n",
      "Skew:                           0.413   Prob(JB):                     1.71e-05\n",
      "Kurtosis:                       3.650   Cond. No.                     2.59e+07\n",
      "==============================================================================\n",
      "\n",
      "Notes:\n",
      "[1] Standard Errors assume that the covariance matrix of the errors is correctly specified.\n",
      "[2] The condition number is large, 2.59e+07. This might indicate that there are\n",
      "strong multicollinearity or other numerical problems.\n"
     ]
    }
   ],
   "source": [
    "volume = \"choroid_volume\"\n",
    "\n",
    "data = df[\n",
    "    [\n",
    "        \"dz_type5\",\n",
    "        \"age\",\n",
    "        \"sex\",\n",
    "        \"tiv\",\n",
    "        \"flair_contrast\",\n",
    "        \"dzdur\",\n",
    "        volume,\n",
    "        \"PRL_LEVEL\",\n",
    "        \"lesion_vol_cubic\",\n",
    "    ]\n",
    "]\n",
    "data = data.rename(columns={volume: \"volume\"})\n",
    "data = data[data[\"dz_type5\"].isin([\"RMS\", \"PMS\", \"NIND\", \"OIND\"])]\n",
    "data = data[data[\"flair_contrast\"].isin([\"WITH\", \"WITHOUT\"])]\n",
    "\n",
    "data = pd.concat(\n",
    "    (\n",
    "        data,\n",
    "        pd.get_dummies(data[\"dz_type5\"]),\n",
    "        pd.get_dummies(data[\"flair_contrast\"]),\n",
    "        pd.get_dummies(data[\"sex\"]),\n",
    "    ),\n",
    "    axis=1,\n",
    ")\n",
    "data[\"intercept\"] = 1\n",
    "\n",
    "predictors = [\"age\", \"Female\", \"tiv\", \"RMS\", \"PMS\", \"OIND\", \"intercept\"]\n",
    "# predictors = ['age', 'Female', 'tiv', 'PMS', 'RMS', 'OIND', 'intercept']\n",
    "res = sm.OLS(\n",
    "    data[\"volume\"].astype(\"float\"), data[predictors].astype(\"float\"), missing=\"drop\"\n",
    ").fit()\n",
    "\n",
    "print(res.summary())"
   ]
  },
  {
   "cell_type": "markdown",
   "metadata": {},
   "source": [
    "Marginal Means"
   ]
  },
  {
   "cell_type": "code",
   "execution_count": 50,
   "metadata": {},
   "outputs": [],
   "source": [
    "volume = \"choroid_volume\"\n",
    "\n",
    "data = df[\n",
    "    [\n",
    "        \"dz_type5\",\n",
    "        \"age\",\n",
    "        \"sex\",\n",
    "        \"tiv\",\n",
    "        \"flair_contrast\",\n",
    "        \"dzdur\",\n",
    "        volume,\n",
    "        \"PRL_LEVEL\",\n",
    "        \"lesion_vol_cubic\",\n",
    "    ]\n",
    "]\n",
    "data = data.rename(columns={volume: \"volume\"})\n",
    "data = data[data[\"dz_type5\"].isin([\"RMS\", \"PMS\", \"NIND\", \"OIND\"])]\n",
    "data = data[data[\"flair_contrast\"].isin([\"WITH\", \"WITHOUT\"])]\n",
    "\n",
    "data[\"sex_male\"] = data.sex.map({\"Female\": 0, \"Male\": 1})\n",
    "\n",
    "model = ols(\n",
    "    \"volume ~ dz_type5 + sex_male + age + tiv\", data=data\n",
    ").fit()\n",
    "\n",
    "ancova_table = sm.stats.anova_lm(model, typ=2)\n"
   ]
  },
  {
   "cell_type": "code",
   "execution_count": 51,
   "metadata": {},
   "outputs": [
    {
     "name": "stdout",
     "output_type": "stream",
     "text": [
      "                            OLS Regression Results                            \n",
      "==============================================================================\n",
      "Dep. Variable:                 volume   R-squared:                       0.301\n",
      "Model:                            OLS   Adj. R-squared:                  0.286\n",
      "Method:                 Least Squares   F-statistic:                     20.01\n",
      "Date:                Mon, 10 Feb 2025   Prob (F-statistic):           8.13e-31\n",
      "Time:                        15:37:53   Log-Likelihood:                -3676.0\n",
      "No. Observations:                 475   AIC:                             7374.\n",
      "Df Residuals:                     464   BIC:                             7420.\n",
      "Df Model:                          10                                         \n",
      "Covariance Type:            nonrobust                                         \n",
      "====================================================================================\n",
      "                       coef    std err          t      P>|t|      [0.025      0.975]\n",
      "------------------------------------------------------------------------------------\n",
      "Intercept         -187.0437    391.498     -0.478      0.633    -956.373     582.286\n",
      "dz_type5[T.OIND]    14.4049    134.932      0.107      0.915    -250.749     279.559\n",
      "dz_type5[T.PMS]    170.9237    113.507      1.506      0.133     -52.127     393.974\n",
      "dz_type5[T.RMS]    -17.1752     95.549     -0.180      0.857    -204.938     170.587\n",
      "PRL_LEVEL[T.1.0]    26.0861     66.124      0.395      0.693    -103.853     156.025\n",
      "PRL_LEVEL[T.2.0]   221.4025    113.917      1.944      0.053      -2.454     445.259\n",
      "PRL_LEVEL[T.3.0]   359.5082    142.782      2.518      0.012      78.928     640.089\n",
      "sex_male           209.2935     76.530      2.735      0.006      58.906     359.682\n",
      "age                 16.6330      2.423      6.864      0.000      11.871      21.395\n",
      "tiv                  0.0007      0.000      3.022      0.003       0.000       0.001\n",
      "lesion_vol_cubic   158.7074     34.469      4.604      0.000      90.973     226.442\n",
      "==============================================================================\n",
      "Omnibus:                       14.203   Durbin-Watson:                   2.122\n",
      "Prob(Omnibus):                  0.001   Jarque-Bera (JB):               17.673\n",
      "Skew:                           0.305   Prob(JB):                     0.000145\n",
      "Kurtosis:                       3.721   Cond. No.                     2.32e+07\n",
      "==============================================================================\n",
      "\n",
      "Notes:\n",
      "[1] Standard Errors assume that the covariance matrix of the errors is correctly specified.\n",
      "[2] The condition number is large, 2.32e+07. This might indicate that there are\n",
      "strong multicollinearity or other numerical problems.\n"
     ]
    }
   ],
   "source": [
    "print(model.summary())"
   ]
  },
  {
   "cell_type": "code",
   "execution_count": 49,
   "metadata": {},
   "outputs": [
    {
     "name": "stderr",
     "output_type": "stream",
     "text": [
      "/tmp/ipykernel_22416/2989188229.py:11: FutureWarning: \n",
      "\n",
      "Passing `palette` without assigning `hue` is deprecated and will be removed in v0.14.0. Assign the `x` variable to `hue` and set `legend=False` for the same effect.\n",
      "\n",
      "  sns.pointplot(x='dz_type5', y=marginal_means, data=data,\n"
     ]
    },
    {
     "data": {
      "image/png": "[encoded data removed]",
      "text/plain": [
       "<Figure size 640x480 with 1 Axes>"
      ]
     },
     "metadata": {},
     "output_type": "display_data"
    }
   ],
   "source": [
    "# Extract marginal means (using 'Group')\n",
    "marginal_means = model.predict(data[['sex_male', 'age', 'tiv', 'dz_type5']].drop_duplicates())\n",
    "\n",
    "# Plotting\n",
    "# sns.boxplot(x='dz_type5', y=marginal_means, data=data, color='lightgray')  # Boxplot for context\n",
    "sns.boxplot(x='dz_type5', y=\"volume\", data=data, color='lightgray')  # Boxplot for context\n",
    "# sns.stripplot(\n",
    "#     data=data, x=\"dz_type5\", y=\"volume\",\n",
    "#     dodge=True, alpha=.2, legend=False,\n",
    "# )\n",
    "sns.pointplot(x='dz_type5', y=marginal_means, data=data, \n",
    "              palette='deep', markers='o', linestyles='-', color='red',\n",
    "              markersize=1, capsize=0.1, linewidth=1)\n",
    "\n",
    "plt.title('Marginal Means Plot for ANCOVA')\n",
    "# plt.ylim(500, 3500)\n",
    "plt.ylabel(\"Choroid Volume\")\n",
    "plt.show()"
   ]
  },
  {
   "cell_type": "code",
   "execution_count": 33,
   "metadata": {},
   "outputs": [
    {
     "name": "stderr",
     "output_type": "stream",
     "text": [
      "/tmp/ipykernel_22416/640325154.py:1: FutureWarning: \n",
      "\n",
      "Passing `palette` without assigning `hue` is deprecated and will be removed in v0.14.0. Assign the `x` variable to `hue` and set `legend=False` for the same effect.\n",
      "\n",
      "  sns.pointplot(x='dz_type5', y=marginal_means, data=data,\n"
     ]
    },
    {
     "data": {
      "text/plain": [
       "<Axes: xlabel='dz_type5', ylabel='None'>"
      ]
     },
     "execution_count": 33,
     "metadata": {},
     "output_type": "execute_result"
    },
    {
     "data": {
      "image/png": "[encoded data removed]",
      "text/plain": [
       "<Figure size 640x480 with 1 Axes>"
      ]
     },
     "metadata": {},
     "output_type": "display_data"
    }
   ],
   "source": [
    "sns.pointplot(x='dz_type5', y=marginal_means, data=data, \n",
    "              palette='deep', markers='o', linestyles='-', color='red', \n",
    "              capsize=0.1, markersize=2, markeredgewidth=2, linewidth=1)"
   ]
  },
  {
   "cell_type": "markdown",
   "metadata": {},
   "source": [
    "Does lesion volume and PRL_LEVEL predict choroid volume in MS patients?"
   ]
  },
  {
   "cell_type": "code",
   "execution_count": 34,
   "metadata": {},
   "outputs": [
    {
     "name": "stdout",
     "output_type": "stream",
     "text": [
      "                            OLS Regression Results                            \n",
      "==============================================================================\n",
      "Dep. Variable:                 volume   R-squared:                       0.318\n",
      "Model:                            OLS   Adj. R-squared:                  0.308\n",
      "Method:                 Least Squares   F-statistic:                     30.83\n",
      "Date:                Mon, 10 Feb 2025   Prob (F-statistic):           2.24e-30\n",
      "Time:                        15:15:31   Log-Likelihood:                -3118.1\n",
      "No. Observations:                 403   AIC:                             6250.\n",
      "Df Residuals:                     396   BIC:                             6278.\n",
      "Df Model:                           6                                         \n",
      "Covariance Type:            nonrobust                                         \n",
      "====================================================================================\n",
      "                       coef    std err          t      P>|t|      [0.025      0.975]\n",
      "------------------------------------------------------------------------------------\n",
      "age                 15.8154      2.631      6.012      0.000      10.643      20.987\n",
      "Female            -270.1773     81.301     -3.323      0.001    -430.013    -110.342\n",
      "tiv                  0.0005      0.000      2.088      0.037    3.15e-05       0.001\n",
      "PMS                177.4085     78.416      2.262      0.024      23.245     331.572\n",
      "PRL_LEVEL           95.0742     36.802      2.583      0.010      22.722     167.426\n",
      "lesion_vol_cubic   184.4590     36.948      4.992      0.000     111.819     257.099\n",
      "intercept          306.9911    446.824      0.687      0.492    -571.454    1185.436\n",
      "==============================================================================\n",
      "Omnibus:                       12.283   Durbin-Watson:                   2.171\n",
      "Prob(Omnibus):                  0.002   Jarque-Bera (JB):               15.816\n",
      "Skew:                           0.286   Prob(JB):                     0.000368\n",
      "Kurtosis:                       3.784   Cond. No.                     2.43e+07\n",
      "==============================================================================\n",
      "\n",
      "Notes:\n",
      "[1] Standard Errors assume that the covariance matrix of the errors is correctly specified.\n",
      "[2] The condition number is large, 2.43e+07. This might indicate that there are\n",
      "strong multicollinearity or other numerical problems.\n"
     ]
    }
   ],
   "source": [
    "volume = \"choroid_volume\"\n",
    "\n",
    "data = df[\n",
    "    [\n",
    "        \"dz_type5\",\n",
    "        \"age\",\n",
    "        \"sex\",\n",
    "        \"tiv\",\n",
    "        \"flair_contrast\",\n",
    "        \"dzdur\",\n",
    "        volume,\n",
    "        \"PRL_LEVEL\",\n",
    "        \"lesion_vol_cubic\",\n",
    "    ]\n",
    "]\n",
    "data = data.rename(columns={volume: \"volume\"})\n",
    "data = data[data[\"dz_type5\"].isin([\"RMS\", \"PMS\"])]\n",
    "data = data[data[\"flair_contrast\"].isin([\"WITH\", \"WITHOUT\"])]\n",
    "\n",
    "data = pd.concat(\n",
    "    (\n",
    "        data,\n",
    "        pd.get_dummies(data[\"dz_type5\"]),\n",
    "        pd.get_dummies(data[\"flair_contrast\"]),\n",
    "        pd.get_dummies(data[\"sex\"]),\n",
    "    ),\n",
    "    axis=1,\n",
    ")\n",
    "data[\"intercept\"] = 1\n",
    "\n",
    "predictors = ['age', 'Female', 'tiv', 'PMS', 'PRL_LEVEL', 'lesion_vol_cubic', 'intercept']\n",
    "# predictors = [\"age\", \"Female\", \"tiv\", \"lesion_vol_cubic\", \"PRL_LEVEL\", \"intercept\"]\n",
    "res = sm.OLS(\n",
    "    data[\"volume\"].astype(\"float\"), data[predictors].astype(\"float\"), missing=\"drop\"\n",
    ").fit()\n",
    "\n",
    "print(res.summary())"
   ]
  },
  {
   "cell_type": "markdown",
   "metadata": {},
   "source": [
    "#### Pineal\n",
    "\n",
    "##### MS vs not-MS\n",
    "\n",
    "Note: this is significant for MS vs Not-MS, but not when adding disease duration as a covariate"
   ]
  },
  {
   "cell_type": "code",
   "execution_count": 35,
   "metadata": {},
   "outputs": [
    {
     "name": "stdout",
     "output_type": "stream",
     "text": [
      "                            OLS Regression Results                            \n",
      "==============================================================================\n",
      "Dep. Variable:                 volume   R-squared:                       0.021\n",
      "Model:                            OLS   Adj. R-squared:                  0.012\n",
      "Method:                 Least Squares   F-statistic:                     2.487\n",
      "Date:                Mon, 10 Feb 2025   Prob (F-statistic):             0.0427\n",
      "Time:                        15:15:31   Log-Likelihood:                -2806.2\n",
      "No. Observations:                 478   AIC:                             5622.\n",
      "Df Residuals:                     473   BIC:                             5643.\n",
      "Df Model:                           4                                         \n",
      "Covariance Type:            nonrobust                                         \n",
      "==============================================================================\n",
      "                 coef    std err          t      P>|t|      [0.025      0.975]\n",
      "------------------------------------------------------------------------------\n",
      "age           -0.4347      0.320     -1.357      0.175      -1.064       0.195\n",
      "tiv         7.832e-05   3.62e-05      2.162      0.031    7.14e-06       0.000\n",
      "Male         -11.1097     11.526     -0.964      0.336     -33.758      11.539\n",
      "MS           -15.2196     11.076     -1.374      0.170     -36.984       6.545\n",
      "intercept    159.9907     59.132      2.706      0.007      43.798     276.184\n",
      "==============================================================================\n",
      "Omnibus:                       53.048   Durbin-Watson:                   1.882\n",
      "Prob(Omnibus):                  0.000   Jarque-Bera (JB):              110.667\n",
      "Skew:                           0.626   Prob(JB):                     9.31e-25\n",
      "Kurtosis:                       4.997   Cond. No.                     2.28e+07\n",
      "==============================================================================\n",
      "\n",
      "Notes:\n",
      "[1] Standard Errors assume that the covariance matrix of the errors is correctly specified.\n",
      "[2] The condition number is large, 2.28e+07. This might indicate that there are\n",
      "strong multicollinearity or other numerical problems.\n"
     ]
    }
   ],
   "source": [
    "volume = \"pineal_volume\"\n",
    "\n",
    "data = df[\n",
    "    [\n",
    "        \"dz_type2\",\n",
    "        \"age\",\n",
    "        \"sex\",\n",
    "        \"tiv\",\n",
    "        \"flair_contrast\",\n",
    "        \"dzdur\",\n",
    "        volume,\n",
    "        \"PRL_LEVEL\",\n",
    "        \"lesion_vol_cubic\",\n",
    "    ]\n",
    "]\n",
    "data = data.drop([1548], axis=0)\n",
    "data = data.rename(columns={volume: \"volume\"})\n",
    "data = data[data[\"dz_type2\"].isin([\"MS\", \"!MS\"])]\n",
    "data = data[data[\"flair_contrast\"].isin([\"WITH\", \"WITHOUT\"])]\n",
    "\n",
    "data = pd.concat(\n",
    "    (\n",
    "        data,\n",
    "        pd.get_dummies(data[\"dz_type2\"]),\n",
    "        pd.get_dummies(data[\"flair_contrast\"]),\n",
    "        pd.get_dummies(data[\"sex\"]),\n",
    "    ),\n",
    "    axis=1,\n",
    ")\n",
    "data[\"intercept\"] = 1\n",
    "\n",
    "predictors = [\"age\", \"tiv\", \"Male\", \"MS\", \"intercept\"]\n",
    "\n",
    "res = sm.OLS(\n",
    "    data[\"volume\"].astype(\"float\"), data[predictors].astype(\"float\"), missing=\"drop\"\n",
    ").fit()\n",
    "\n",
    "print(res.summary())"
   ]
  },
  {
   "cell_type": "markdown",
   "metadata": {},
   "source": [
    "##### MS vs NIND vs OIND\n",
    "\n",
    "Note: this is significant for MS vs Not-MS, but not when adding disease duration as a covariate"
   ]
  },
  {
   "cell_type": "code",
   "execution_count": 36,
   "metadata": {},
   "outputs": [
    {
     "name": "stdout",
     "output_type": "stream",
     "text": [
      "                            OLS Regression Results                            \n",
      "==============================================================================\n",
      "Dep. Variable:                 volume   R-squared:                       0.049\n",
      "Model:                            OLS   Adj. R-squared:                  0.034\n",
      "Method:                 Least Squares   F-statistic:                     3.413\n",
      "Date:                Mon, 10 Feb 2025   Prob (F-statistic):            0.00144\n",
      "Time:                        15:15:31   Log-Likelihood:                -2834.6\n",
      "No. Observations:                 475   AIC:                             5685.\n",
      "Df Residuals:                     467   BIC:                             5718.\n",
      "Df Model:                           7                                         \n",
      "Covariance Type:            nonrobust                                         \n",
      "====================================================================================\n",
      "                       coef    std err          t      P>|t|      [0.025      0.975]\n",
      "------------------------------------------------------------------------------------\n",
      "age                  0.0744      0.386      0.193      0.847      -0.684       0.833\n",
      "Female               8.2851     12.759      0.649      0.516     -16.788      33.358\n",
      "tiv               4.402e-05   4.01e-05      1.099      0.272   -3.47e-05       0.000\n",
      "MS                 -46.5095     15.815     -2.941      0.003     -77.586     -15.433\n",
      "OIND               -47.7609     22.872     -2.088      0.037     -92.706      -2.816\n",
      "PRL                  2.8224      2.689      1.049      0.295      -2.463       8.107\n",
      "lesion_vol_cubic   -18.8816      5.785     -3.264      0.001     -30.249      -7.514\n",
      "intercept          237.6312     73.932      3.214      0.001      92.350     382.913\n",
      "==============================================================================\n",
      "Omnibus:                      286.896   Durbin-Watson:                   1.866\n",
      "Prob(Omnibus):                  0.000   Jarque-Bera (JB):             5929.275\n",
      "Skew:                           2.194   Prob(JB):                         0.00\n",
      "Kurtosis:                      19.743   Cond. No.                     2.58e+07\n",
      "==============================================================================\n",
      "\n",
      "Notes:\n",
      "[1] Standard Errors assume that the covariance matrix of the errors is correctly specified.\n",
      "[2] The condition number is large, 2.58e+07. This might indicate that there are\n",
      "strong multicollinearity or other numerical problems.\n"
     ]
    }
   ],
   "source": [
    "volume = \"pineal_volume\"\n",
    "\n",
    "data = df[\n",
    "    [\n",
    "        \"dz_type3\",\n",
    "        \"age\",\n",
    "        \"sex\",\n",
    "        \"tiv\",\n",
    "        \"flair_contrast\",\n",
    "        \"dzdur\",\n",
    "        volume,\n",
    "        \"PRL_LEVEL\",\n",
    "        \"PRL\",\n",
    "        \"lesion_vol_cubic\",\n",
    "    ]\n",
    "]\n",
    "data = data.rename(columns={volume: \"volume\"})\n",
    "data = data[data[\"dz_type3\"].isin([\"MS\", \"OIND\", \"NIND\"])]\n",
    "data = data[data[\"flair_contrast\"].isin([\"WITH\", \"WITHOUT\"])]\n",
    "# data = data.drop([1548], axis=0)\n",
    "\n",
    "\n",
    "data = pd.concat(\n",
    "    (\n",
    "        data,\n",
    "        pd.get_dummies(data[\"dz_type3\"]),\n",
    "        pd.get_dummies(data[\"flair_contrast\"]),\n",
    "        pd.get_dummies(data[\"sex\"]),\n",
    "    ),\n",
    "    axis=1,\n",
    ")\n",
    "data[\"intercept\"] = 1\n",
    "\n",
    "predictors = [\"age\", \"Female\", \"tiv\", \"MS\", \"OIND\", \"PRL\", \"lesion_vol_cubic\", \"intercept\"]\n",
    "\n",
    "res = sm.OLS(\n",
    "    data[\"volume\"].astype(\"float\"), data[predictors].astype(\"float\"), missing=\"drop\"\n",
    ").fit()\n",
    "\n",
    "print(res.summary())"
   ]
  },
  {
   "cell_type": "code",
   "execution_count": 45,
   "metadata": {},
   "outputs": [
    {
     "data": {
      "text/plain": [
       "1479"
      ]
     },
     "execution_count": 45,
     "metadata": {},
     "output_type": "execute_result"
    },
    {
     "data": {
      "image/png": "[encoded data removed]",
      "text/plain": [
       "<Figure size 640x480 with 1 Axes>"
      ]
     },
     "metadata": {},
     "output_type": "display_data"
    }
   ],
   "source": [
    "plt.hist(df['pineal_volume'])\n",
    "\n",
    "median_vol = df['pineal_volume'].median()\n",
    "tmp_df = df.copy()\n",
    "tmp_df = tmp_df.sort_values(by=\"pineal_volume\")\n",
    "tmp_df.index[len(tmp_df) // 2]"
   ]
  },
  {
   "cell_type": "code",
   "execution_count": 350,
   "metadata": {},
   "outputs": [
    {
     "data": {
      "image/png": "[encoded data removed]",
      "text/plain": [
       "<Figure size 1200x600 with 2 Axes>"
      ]
     },
     "metadata": {},
     "output_type": "display_data"
    }
   ],
   "source": [
    "fig = plt.figure(figsize=(12, 6))\n",
    "sm.graphics.plot_partregress_grid(res, exog_idx=[\"lesion_vol_cubic\", \"PRL\"], fig=fig)\n",
    "plt.show()"
   ]
  },
  {
   "cell_type": "code",
   "execution_count": null,
   "metadata": {},
   "outputs": [],
   "source": [
    "fig = sm.graphics.influence_plot(res, criterion=\"cooks\")\n",
    "fig.tight_layout(pad=1.0)"
   ]
  },
  {
   "cell_type": "markdown",
   "metadata": {},
   "source": [
    "##### PMS v RMS"
   ]
  },
  {
   "cell_type": "code",
   "execution_count": 295,
   "metadata": {},
   "outputs": [
    {
     "name": "stdout",
     "output_type": "stream",
     "text": [
      "                            OLS Regression Results                            \n",
      "==============================================================================\n",
      "Dep. Variable:                 volume   R-squared:                       0.025\n",
      "Model:                            OLS   Adj. R-squared:                  0.013\n",
      "Method:                 Least Squares   F-statistic:                     2.085\n",
      "Date:                Sun, 09 Feb 2025   Prob (F-statistic):             0.0664\n",
      "Time:                        23:01:28   Log-Likelihood:                -2359.3\n",
      "No. Observations:                 405   AIC:                             4731.\n",
      "Df Residuals:                     399   BIC:                             4755.\n",
      "Df Model:                           5                                         \n",
      "Covariance Type:            nonrobust                                         \n",
      "====================================================================================\n",
      "                       coef    std err          t      P>|t|      [0.025      0.975]\n",
      "------------------------------------------------------------------------------------\n",
      "age                 -0.3021      0.367     -0.824      0.411      -1.023       0.419\n",
      "Female               5.7492     11.996      0.479      0.632     -17.834      29.333\n",
      "tiv                7.07e-05   3.78e-05      1.870      0.062   -3.61e-06       0.000\n",
      "PMS                 -4.2863     11.515     -0.372      0.710     -26.923      18.351\n",
      "lesion_vol_cubic    -9.4251      5.156     -1.828      0.068     -19.561       0.710\n",
      "intercept          159.1378     65.933      2.414      0.016      29.518     288.758\n",
      "==============================================================================\n",
      "Omnibus:                       62.642   Durbin-Watson:                   1.942\n",
      "Prob(Omnibus):                  0.000   Jarque-Bera (JB):              149.390\n",
      "Skew:                           0.782   Prob(JB):                     3.63e-33\n",
      "Kurtosis:                       5.531   Cond. No.                     2.43e+07\n",
      "==============================================================================\n",
      "\n",
      "Notes:\n",
      "[1] Standard Errors assume that the covariance matrix of the errors is correctly specified.\n",
      "[2] The condition number is large, 2.43e+07. This might indicate that there are\n",
      "strong multicollinearity or other numerical problems.\n"
     ]
    }
   ],
   "source": [
    "volume = \"pineal_volume\"\n",
    "\n",
    "data = df[\n",
    "    [\n",
    "        \"dz_type5\",\n",
    "        \"age\",\n",
    "        \"sex\",\n",
    "        \"tiv\",\n",
    "        \"flair_contrast\",\n",
    "        \"dzdur\",\n",
    "        volume,\n",
    "        \"PRL_LEVEL\",\n",
    "        \"PRL\",\n",
    "        \"lesion_vol_cubic\",\n",
    "    ]\n",
    "]\n",
    "data = data.rename(columns={volume: \"volume\"})\n",
    "data = data[data[\"dz_type5\"].isin([\"RMS\", \"PMS\"])]\n",
    "data = data[data[\"flair_contrast\"].isin([\"WITH\", \"WITHOUT\"])]\n",
    "\n",
    "data = pd.concat(\n",
    "    (\n",
    "        data,\n",
    "        pd.get_dummies(data[\"dz_type5\"]),\n",
    "        pd.get_dummies(data[\"flair_contrast\"]),\n",
    "        pd.get_dummies(data[\"sex\"]),\n",
    "    ),\n",
    "    axis=1,\n",
    ")\n",
    "data[\"intercept\"] = 1\n",
    "\n",
    "predictors = [\"age\", \"Female\", \"tiv\", \"PMS\", \"lesion_vol_cubic\", \"intercept\"]\n",
    "\n",
    "res = sm.OLS(\n",
    "    data[\"volume\"].astype(\"float\"), data[predictors].astype(\"float\"), missing=\"drop\"\n",
    ").fit()\n",
    "\n",
    "print(res.summary())"
   ]
  },
  {
   "cell_type": "code",
   "execution_count": 219,
   "metadata": {},
   "outputs": [
    {
     "name": "stdout",
     "output_type": "stream",
     "text": [
      "                            OLS Regression Results                            \n",
      "==============================================================================\n",
      "Dep. Variable:                 volume   R-squared:                       0.029\n",
      "Model:                            OLS   Adj. R-squared:                  0.018\n",
      "Method:                 Least Squares   F-statistic:                     2.554\n",
      "Date:                Sun, 09 Feb 2025   Prob (F-statistic):             0.0389\n",
      "Time:                        22:34:18   Log-Likelihood:                -1999.1\n",
      "No. Observations:                 343   AIC:                             4008.\n",
      "Df Residuals:                     338   BIC:                             4027.\n",
      "Df Model:                           4                                         \n",
      "Covariance Type:            nonrobust                                         \n",
      "==============================================================================\n",
      "                 coef    std err          t      P>|t|      [0.025      0.975]\n",
      "------------------------------------------------------------------------------\n",
      "age           -0.5817      0.373     -1.559      0.120      -1.316       0.152\n",
      "tiv         6.307e-05   4.09e-05      1.542      0.124   -1.74e-05       0.000\n",
      "RMS          -28.8278     15.447     -1.866      0.063     -59.212       1.556\n",
      "PMS          -31.7084     19.044     -1.665      0.097     -69.168       5.752\n",
      "intercept    202.4909     67.005      3.022      0.003      70.691     334.291\n",
      "==============================================================================\n",
      "Omnibus:                       14.509   Durbin-Watson:                   2.088\n",
      "Prob(Omnibus):                  0.001   Jarque-Bera (JB):               16.124\n",
      "Skew:                           0.430   Prob(JB):                     0.000315\n",
      "Kurtosis:                       3.623   Cond. No.                     2.21e+07\n",
      "==============================================================================\n",
      "\n",
      "Notes:\n",
      "[1] Standard Errors assume that the covariance matrix of the errors is correctly specified.\n",
      "[2] The condition number is large, 2.21e+07. This might indicate that there are\n",
      "strong multicollinearity or other numerical problems.\n"
     ]
    }
   ],
   "source": [
    "volume = \"pineal_volume\"\n",
    "\n",
    "data = df[\n",
    "    [\n",
    "        \"dz_type5\",\n",
    "        \"age\",\n",
    "        \"sex\",\n",
    "        \"tiv\",\n",
    "        \"flair_contrast\",\n",
    "        \"dzdur\",\n",
    "        volume,\n",
    "        \"PRL_LEVEL\",\n",
    "        \"lesion_vol_cubic\",\n",
    "    ]\n",
    "]\n",
    "data = data.rename(columns={volume: \"volume\"})\n",
    "data = data[data[\"dz_type5\"].isin([\"RMS\", \"PMS\", \"NIND\"])]\n",
    "data = data[data[\"flair_contrast\"].isin([\"WITH\", \"WITHOUT\"])]\n",
    "data = data.drop([1237, 1548], axis=0)\n",
    "data = data[data['sex'] == \"Female\"]\n",
    "\n",
    "\n",
    "data = pd.concat(\n",
    "    (\n",
    "        data,\n",
    "        pd.get_dummies(data[\"dz_type5\"]),\n",
    "        pd.get_dummies(data[\"flair_contrast\"]),\n",
    "    ),\n",
    "    axis=1,\n",
    ")\n",
    "data[\"intercept\"] = 1\n",
    "\n",
    "predictors = [\"age\", \"tiv\", \"RMS\", \"PMS\", \"intercept\"]\n",
    "\n",
    "res = sm.OLS(\n",
    "    data[\"volume\"].astype(\"float\"), data[predictors].astype(\"float\"), missing=\"drop\"\n",
    ").fit()\n",
    "\n",
    "print(res.summary())"
   ]
  },
  {
   "cell_type": "code",
   "execution_count": 326,
   "metadata": {},
   "outputs": [
    {
     "name": "stdout",
     "output_type": "stream",
     "text": [
      "2\n"
     ]
    },
    {
     "data": {
      "text/plain": [
       "MannwhitneyuResult(statistic=7474.5, pvalue=0.09187797446145998)"
      ]
     },
     "execution_count": 326,
     "metadata": {},
     "output_type": "execute_result"
    },
    {
     "data": {
      "image/png": "[encoded data removed]",
      "text/plain": [
       "<Figure size 640x480 with 1 Axes>"
      ]
     },
     "metadata": {},
     "output_type": "display_data"
    }
   ],
   "source": [
    "data = df\n",
    "# data = data.drop([1548], axis=0)\n",
    "print(data[data['dz_type3'] == \"HC\"].__len__())\n",
    "\n",
    "plt.scatter(data['lesion_vol_cubic'], data['pineal_volume'])\n",
    "\n",
    "# plt.scatter(data.loc[data['dz_type3'] == \"MS\", 'lesion_vol_cubic'], data.loc[data['dz_type3'] == \"MS\",'choroid_volume'])\n",
    "\n",
    "mannwhitneyu(data.loc[data['dz_type3'] == \"MS\", \"pineal_volume\"],\n",
    "         data.loc[data['dz_type3'] == \"NIND\", \"pineal_volume\"], \n",
    "         nan_policy=\"omit\")\n",
    "\n",
    "# plt.bar([1,2], [data.loc[data['dz_type3'] == \"MS\", \"pineal_volume\"].mean(),\n",
    "#                 data.loc[data['dz_type3'] == \"NIND\", \"pineal_volume\"].mean()],\n",
    "#                 yerr=[data.loc[data['dz_type3'] == \"MS\", \"pineal_volume\"].sem(),\n",
    "#                       data.loc[data['dz_type3'] == \"NIND\", \"pineal_volume\"].sem()],\n",
    "#                       ecolor=\"r\")"
   ]
  },
  {
   "cell_type": "code",
   "execution_count": null,
   "metadata": {},
   "outputs": [],
   "source": []
  },
  {
   "cell_type": "markdown",
   "metadata": {},
   "source": [
    "#### Pituitary\n",
    "\n",
    "##### MS vs not-MS"
   ]
  },
  {
   "cell_type": "code",
   "execution_count": 33,
   "metadata": {},
   "outputs": [
    {
     "name": "stdout",
     "output_type": "stream",
     "text": [
      "                            OLS Regression Results                            \n",
      "==============================================================================\n",
      "Dep. Variable:                 volume   R-squared:                       0.074\n",
      "Model:                            OLS   Adj. R-squared:                  0.065\n",
      "Method:                 Least Squares   F-statistic:                     7.593\n",
      "Date:                Wed, 29 Jan 2025   Prob (F-statistic):           7.10e-07\n",
      "Time:                        15:34:20   Log-Likelihood:                -2995.1\n",
      "No. Observations:                 479   AIC:                             6002.\n",
      "Df Residuals:                     473   BIC:                             6027.\n",
      "Df Model:                           5                                         \n",
      "Covariance Type:            nonrobust                                         \n",
      "==============================================================================\n",
      "                 coef    std err          t      P>|t|      [0.025      0.975]\n",
      "------------------------------------------------------------------------------\n",
      "age           -1.4413      0.470     -3.064      0.002      -2.366      -0.517\n",
      "Male         -78.0587     16.914     -4.615      0.000    -111.294     -44.823\n",
      "tiv            0.0001    5.3e-05      1.994      0.047    1.53e-06       0.000\n",
      "WITH         -12.3822     11.951     -1.036      0.301     -35.866      11.102\n",
      "MS            -1.0461     16.174     -0.065      0.948     -32.828      30.736\n",
      "intercept    622.7388     86.707      7.182      0.000     452.360     793.118\n",
      "==============================================================================\n",
      "Omnibus:                       32.956   Durbin-Watson:                   1.952\n",
      "Prob(Omnibus):                  0.000   Jarque-Bera (JB):               85.237\n",
      "Skew:                          -0.314   Prob(JB):                     3.10e-19\n",
      "Kurtosis:                       4.969   Cond. No.                     2.28e+07\n",
      "==============================================================================\n",
      "\n",
      "Notes:\n",
      "[1] Standard Errors assume that the covariance matrix of the errors is correctly specified.\n",
      "[2] The condition number is large, 2.28e+07. This might indicate that there are\n",
      "strong multicollinearity or other numerical problems.\n"
     ]
    }
   ],
   "source": [
    "volume = \"pituitary_volume\"\n",
    "\n",
    "data = df[[\"dz_type2\", \"age\", \"sex\", \"tiv\", \"flair_contrast\", \"dzdur\", volume]]\n",
    "data = data.rename(columns={volume: \"volume\"})\n",
    "data = data[data[\"dz_type2\"].isin([\"MS\", \"!MS\"])]\n",
    "data = data[data[\"flair_contrast\"].isin([\"WITH\", \"WITHOUT\"])]\n",
    "\n",
    "data = pd.concat(\n",
    "    (\n",
    "        data,\n",
    "        pd.get_dummies(data[\"dz_type2\"]),\n",
    "        pd.get_dummies(data[\"flair_contrast\"]),\n",
    "        pd.get_dummies(data[\"sex\"]),\n",
    "    ),\n",
    "    axis=1,\n",
    ")\n",
    "data[\"intercept\"] = 1\n",
    "\n",
    "predictors = [\"age\", \"Male\", \"tiv\", \"WITH\", \"MS\", \"intercept\"]\n",
    "\n",
    "res = sm.OLS(\n",
    "    data[\"volume\"].astype(\"float\"), data[predictors].astype(\"float\"), missing=\"drop\"\n",
    ").fit()\n",
    "\n",
    "print(res.summary())"
   ]
  },
  {
   "cell_type": "markdown",
   "metadata": {},
   "source": [
    "##### MS vs NIND vs OIND"
   ]
  },
  {
   "cell_type": "code",
   "execution_count": 290,
   "metadata": {},
   "outputs": [
    {
     "name": "stdout",
     "output_type": "stream",
     "text": [
      "                            OLS Regression Results                            \n",
      "==============================================================================\n",
      "Dep. Variable:                 volume   R-squared:                       0.076\n",
      "Model:                            OLS   Adj. R-squared:                  0.066\n",
      "Method:                 Least Squares   F-statistic:                     7.715\n",
      "Date:                Sun, 09 Feb 2025   Prob (F-statistic):           5.47e-07\n",
      "Time:                        22:59:30   Log-Likelihood:                -2983.1\n",
      "No. Observations:                 477   AIC:                             5978.\n",
      "Df Residuals:                     471   BIC:                             6003.\n",
      "Df Model:                           5                                         \n",
      "Covariance Type:            nonrobust                                         \n",
      "==============================================================================\n",
      "                 coef    std err          t      P>|t|      [0.025      0.975]\n",
      "------------------------------------------------------------------------------\n",
      "age           -1.4511      0.473     -3.068      0.002      -2.381      -0.522\n",
      "Female        78.1670     16.937      4.615      0.000      44.885     111.449\n",
      "tiv            0.0001   5.31e-05      2.026      0.043    3.26e-06       0.000\n",
      "MS            17.0094     20.707      0.821      0.412     -23.681      57.700\n",
      "OIND          40.2320     30.350      1.326      0.186     -19.407      99.871\n",
      "intercept    516.6352     98.223      5.260      0.000     323.627     709.644\n",
      "==============================================================================\n",
      "Omnibus:                       32.686   Durbin-Watson:                   1.942\n",
      "Prob(Omnibus):                  0.000   Jarque-Bera (JB):               87.765\n",
      "Skew:                          -0.296   Prob(JB):                     8.75e-20\n",
      "Kurtosis:                       5.016   Cond. No.                     2.58e+07\n",
      "==============================================================================\n",
      "\n",
      "Notes:\n",
      "[1] Standard Errors assume that the covariance matrix of the errors is correctly specified.\n",
      "[2] The condition number is large, 2.58e+07. This might indicate that there are\n",
      "strong multicollinearity or other numerical problems.\n"
     ]
    }
   ],
   "source": [
    "volume = \"pituitary_volume\"\n",
    "\n",
    "data = df[[\"dz_type3\", \"age\", \"sex\", \"tiv\", \"flair_contrast\", \"dzdur\", \"lesion_vol_cubic\", volume]]\n",
    "data = data.rename(columns={volume: \"volume\"})\n",
    "data = data[data[\"dz_type3\"].isin([\"MS\", \"OIND\", \"NIND\"])]\n",
    "data = data[data[\"flair_contrast\"].isin([\"WITH\", \"WITHOUT\"])]\n",
    "\n",
    "data = pd.concat(\n",
    "    (\n",
    "        data,\n",
    "        pd.get_dummies(data[\"dz_type3\"]),\n",
    "        pd.get_dummies(data[\"flair_contrast\"]),\n",
    "        pd.get_dummies(data[\"sex\"]),\n",
    "    ),\n",
    "    axis=1,\n",
    ")\n",
    "data[\"intercept\"] = 1\n",
    "\n",
    "predictors = [\"age\", \"Female\", \"tiv\", \"MS\", \"OIND\", \"intercept\"]\n",
    "\n",
    "res = sm.OLS(\n",
    "    data[\"volume\"].astype(\"float\"), data[predictors].astype(\"float\"), missing=\"drop\"\n",
    ").fit()\n",
    "\n",
    "print(res.summary())"
   ]
  },
  {
   "cell_type": "markdown",
   "metadata": {},
   "source": [
    "##### PMS v RMS"
   ]
  },
  {
   "cell_type": "code",
   "execution_count": 138,
   "metadata": {},
   "outputs": [
    {
     "name": "stdout",
     "output_type": "stream",
     "text": [
      "                            OLS Regression Results                            \n",
      "==============================================================================\n",
      "Dep. Variable:                 volume   R-squared:                       0.078\n",
      "Model:                            OLS   Adj. R-squared:                  0.062\n",
      "Method:                 Least Squares   F-statistic:                     4.936\n",
      "Date:                Sun, 09 Feb 2025   Prob (F-statistic):           7.09e-06\n",
      "Time:                        18:24:32   Log-Likelihood:                -2970.8\n",
      "No. Observations:                 475   AIC:                             5960.\n",
      "Df Residuals:                     466   BIC:                             5997.\n",
      "Df Model:                           8                                         \n",
      "Covariance Type:            nonrobust                                         \n",
      "====================================================================================\n",
      "                       coef    std err          t      P>|t|      [0.025      0.975]\n",
      "------------------------------------------------------------------------------------\n",
      "age                 -1.2095      0.548     -2.208      0.028      -2.286      -0.133\n",
      "Female              77.6788     17.303      4.489      0.000      43.677     111.680\n",
      "tiv                  0.0001   5.36e-05      1.917      0.056   -2.59e-06       0.000\n",
      "RMS                 15.2543     21.481      0.710      0.478     -26.958      57.467\n",
      "PMS                  8.5864     25.550      0.336      0.737     -41.621      58.794\n",
      "OIND                38.8441     30.510      1.273      0.204     -21.109      98.798\n",
      "PRL_LEVEL            8.1903      8.264      0.991      0.322      -8.049      24.429\n",
      "lesion_vol_cubic    -3.0125      7.782     -0.387      0.699     -18.305      12.279\n",
      "intercept          516.7415     98.620      5.240      0.000     322.946     710.537\n",
      "==============================================================================\n",
      "Omnibus:                       33.156   Durbin-Watson:                   1.949\n",
      "Prob(Omnibus):                  0.000   Jarque-Bera (JB):               90.070\n",
      "Skew:                          -0.300   Prob(JB):                     2.76e-20\n",
      "Kurtosis:                       5.047   Cond. No.                     2.58e+07\n",
      "==============================================================================\n",
      "\n",
      "Notes:\n",
      "[1] Standard Errors assume that the covariance matrix of the errors is correctly specified.\n",
      "[2] The condition number is large, 2.58e+07. This might indicate that there are\n",
      "strong multicollinearity or other numerical problems.\n"
     ]
    }
   ],
   "source": [
    "volume = \"pituitary_volume\"\n",
    "\n",
    "data = df[\n",
    "    [\n",
    "        \"dz_type5\",\n",
    "        \"age\",\n",
    "        \"sex\",\n",
    "        \"tiv\",\n",
    "        \"flair_contrast\",\n",
    "        \"dzdur\",\n",
    "        volume,\n",
    "        \"PRL_LEVEL\",\n",
    "        \"lesion_vol_cubic\",\n",
    "    ]\n",
    "]\n",
    "data = data.rename(columns={volume: \"volume\"})\n",
    "data = data[data[\"dz_type5\"].isin([\"RMS\", \"PMS\", \"OIND\", \"NIND\"])]\n",
    "data = data[data[\"flair_contrast\"].isin([\"WITH\", \"WITHOUT\"])]\n",
    "\n",
    "data = pd.concat(\n",
    "    (\n",
    "        data,\n",
    "        pd.get_dummies(data[\"dz_type5\"]),\n",
    "        pd.get_dummies(data[\"flair_contrast\"]),\n",
    "        pd.get_dummies(data[\"sex\"]),\n",
    "    ),\n",
    "    axis=1,\n",
    ")\n",
    "data[\"intercept\"] = 1\n",
    "\n",
    "predictors = [\"tiv\", \"PMS\", \"RMS\", \"OIND\", \"intercept\"]\n",
    "predictors = [\n",
    "    \"age\",\n",
    "    \"Female\",\n",
    "    \"tiv\",\n",
    "    \"RMS\",\n",
    "    \"PMS\",\n",
    "    \"OIND\",\n",
    "    \"PRL_LEVEL\",\n",
    "    \"lesion_vol_cubic\",\n",
    "    \"intercept\",\n",
    "]\n",
    "\n",
    "res = sm.OLS(\n",
    "    data[\"volume\"].astype(\"float\"), data[predictors].astype(\"float\"), missing=\"drop\"\n",
    ").fit()\n",
    "\n",
    "print(res.summary())"
   ]
  },
  {
   "cell_type": "markdown",
   "metadata": {},
   "source": [
    "### Ordinal Regression on EDSS\n",
    "\n",
    "Predict EDSS score using volumes. Use MS vs OIND vs NIND as covariate (in addition to the others)"
   ]
  },
  {
   "cell_type": "code",
   "execution_count": 195,
   "metadata": {},
   "outputs": [
    {
     "name": "stdout",
     "output_type": "stream",
     "text": [
      "                            OLS Regression Results                            \n",
      "==============================================================================\n",
      "Dep. Variable:         extracted_EDSS   R-squared:                       0.253\n",
      "Model:                            OLS   Adj. R-squared:                  0.234\n",
      "Method:                 Least Squares   F-statistic:                     13.55\n",
      "Date:                Sun, 09 Feb 2025   Prob (F-statistic):           9.62e-19\n",
      "Time:                        20:14:20   Log-Likelihood:                -721.19\n",
      "No. Observations:                 370   AIC:                             1462.\n",
      "Df Residuals:                     360   BIC:                             1502.\n",
      "Df Model:                           9                                         \n",
      "Covariance Type:            nonrobust                                         \n",
      "====================================================================================\n",
      "                       coef    std err          t      P>|t|      [0.025      0.975]\n",
      "------------------------------------------------------------------------------------\n",
      "age                  0.0388      0.010      3.887      0.000       0.019       0.058\n",
      "Female              -0.4030      0.266     -1.517      0.130      -0.926       0.120\n",
      "tiv              -9.011e-07   8.38e-07     -1.075      0.283   -2.55e-06    7.47e-07\n",
      "PRL_LEVEL            0.2635      0.123      2.151      0.032       0.023       0.504\n",
      "lesion_vol_cubic     0.3233      0.123      2.626      0.009       0.081       0.565\n",
      "choroid_volume    7.177e-05      0.000      0.440      0.660      -0.000       0.000\n",
      "pineal_volume     7.121e-05      0.001      0.066      0.947      -0.002       0.002\n",
      "pituitary_volume    -0.0006      0.001     -0.847      0.397      -0.002       0.001\n",
      "dzdur                0.0415      0.012      3.606      0.000       0.019       0.064\n",
      "intercept            1.6318      1.518      1.075      0.283      -1.354       4.618\n",
      "==============================================================================\n",
      "Omnibus:                       38.067   Durbin-Watson:                   2.074\n",
      "Prob(Omnibus):                  0.000   Jarque-Bera (JB):               46.986\n",
      "Skew:                           0.858   Prob(JB):                     6.27e-11\n",
      "Kurtosis:                       3.320   Cond. No.                     2.56e+07\n",
      "==============================================================================\n",
      "\n",
      "Notes:\n",
      "[1] Standard Errors assume that the covariance matrix of the errors is correctly specified.\n",
      "[2] The condition number is large, 2.56e+07. This might indicate that there are\n",
      "strong multicollinearity or other numerical problems.\n"
     ]
    }
   ],
   "source": [
    "data = df[\n",
    "    [\n",
    "        \"dz_type3\",\n",
    "        \"dz_type\",\n",
    "        \"age\",\n",
    "        \"sex\",\n",
    "        \"tiv\",\n",
    "        \"flair_contrast\",\n",
    "        \"extracted_EDSS\",\n",
    "        \"ARMSS\",\n",
    "        \"PRL_LEVEL\",\n",
    "        \"PRL\",\n",
    "        \"lesion_vol_cubic\",\n",
    "        \"MSSS\",\n",
    "        \"choroid_volume\",\n",
    "        \"pineal_volume\",\n",
    "        \"pituitary_volume\",\n",
    "        \"thalamus\",\n",
    "        \"brain\",\n",
    "        \"cortical_thickness\",\n",
    "        \"dzdur\",\n",
    "    ]\n",
    "]\n",
    "data = data[data[\"dz_type3\"].isin([\"MS\"])]\n",
    "data.loc[:, [\"dz_type3_factor\"]], _ = data[\"dz_type3\"].factorize(sort=False)\n",
    "\n",
    "data = data[data[\"flair_contrast\"].isin([\"WITH\", \"WITHOUT\"])]\n",
    "# df['extracted_EDSS'] = df['extracted_EDSS'] * 2\n",
    "data.loc[data[\"extracted_EDSS\"] == \".\", \"extracted_EDSS\"] = None\n",
    "# data['extracted_EDSS'] = pd.Categorical(data['extracted_EDSS'], ordered=True)\n",
    "\n",
    "data = pd.concat(\n",
    "    (\n",
    "        data,\n",
    "        pd.get_dummies(data[\"dz_type\"]),\n",
    "        pd.get_dummies(data[\"flair_contrast\"]),\n",
    "        pd.get_dummies(data[\"sex\"]),\n",
    "    ),\n",
    "    axis=1,\n",
    ")\n",
    "data[\"intercept\"] = 1\n",
    "\n",
    "# predictors = ['age', 'Female', 'tiv', 'choroid_volume', 'pineal_volume', 'pituitary_volume', 'thalamus', 'brain', 'cortical_thickness', 'intercept']\n",
    "# predictors = ['age', 'Female', 'tiv', 'RMS', 'PRL_LEVEL', 'lesion_vol_cubic', 'choroid_volume', 'pineal_volume', 'pituitary_volume', 'thalamus', 'brain', 'cortical_thickness', 'intercept']\n",
    "\n",
    "predictors = [\n",
    "    \"age\",\n",
    "    \"Female\",\n",
    "    \"tiv\",\n",
    "    \"PRL_LEVEL\",\n",
    "    \"lesion_vol_cubic\",\n",
    "    \"choroid_volume\",\n",
    "    \"pineal_volume\",\n",
    "    \"pituitary_volume\",\n",
    "    \"dzdur\",\n",
    "    \"intercept\",\n",
    "]\n",
    "\n",
    "data = data.dropna()\n",
    "\n",
    "# mod = OrderedModel(data2['numEDSS'],\n",
    "#                    data2[predictors].astype('float'), distr='probit', disp=False)\n",
    "# res = mod.fit(method='nm')\n",
    "\n",
    "res = sm.OLS(\n",
    "    data[\"extracted_EDSS\"].astype(\"float\"), data[predictors].astype(\"float\")\n",
    ").fit(missing=\"drop\")\n",
    "\n",
    "print(res.summary())"
   ]
  },
  {
   "cell_type": "markdown",
   "metadata": {},
   "source": [
    "Choroid volume is weakly associated with worse EDSS when correcting for age, sex, tiv but not for dzdur"
   ]
  },
  {
   "cell_type": "code",
   "execution_count": 198,
   "metadata": {},
   "outputs": [
    {
     "name": "stdout",
     "output_type": "stream",
     "text": [
      "                            OLS Regression Results                            \n",
      "==============================================================================\n",
      "Dep. Variable:         extracted_EDSS   R-squared:                       0.193\n",
      "Model:                            OLS   Adj. R-squared:                  0.179\n",
      "Method:                 Least Squares   F-statistic:                     14.43\n",
      "Date:                Sun, 09 Feb 2025   Prob (F-statistic):           8.98e-15\n",
      "Time:                        20:14:37   Log-Likelihood:                -735.58\n",
      "No. Observations:                 370   AIC:                             1485.\n",
      "Df Residuals:                     363   BIC:                             1513.\n",
      "Df Model:                           6                                         \n",
      "Covariance Type:            nonrobust                                         \n",
      "====================================================================================\n",
      "                       coef    std err          t      P>|t|      [0.025      0.975]\n",
      "------------------------------------------------------------------------------------\n",
      "tiv              -7.683e-07   8.63e-07     -0.890      0.374   -2.47e-06     9.3e-07\n",
      "age                  0.0556      0.008      6.696      0.000       0.039       0.072\n",
      "Female              -0.2612      0.273     -0.955      0.340      -0.799       0.277\n",
      "choroid_volume       0.0003      0.000      2.207      0.028     3.8e-05       0.001\n",
      "pineal_volume       -0.0002      0.001     -0.202      0.840      -0.002       0.002\n",
      "pituitary_volume    -0.0005      0.001     -0.616      0.538      -0.002       0.001\n",
      "intercept            1.1227      1.562      0.719      0.473      -1.950       4.195\n",
      "==============================================================================\n",
      "Omnibus:                       41.702   Durbin-Watson:                   2.051\n",
      "Prob(Omnibus):                  0.000   Jarque-Bera (JB):               53.299\n",
      "Skew:                           0.925   Prob(JB):                     2.67e-12\n",
      "Kurtosis:                       3.191   Cond. No.                     2.54e+07\n",
      "==============================================================================\n",
      "\n",
      "Notes:\n",
      "[1] Standard Errors assume that the covariance matrix of the errors is correctly specified.\n",
      "[2] The condition number is large, 2.54e+07. This might indicate that there are\n",
      "strong multicollinearity or other numerical problems.\n"
     ]
    }
   ],
   "source": [
    "predictors = [\n",
    "    \"tiv\",\n",
    "    \"age\",\n",
    "    \"Female\",\n",
    "    \"choroid_volume\",\n",
    "    \"pineal_volume\",\n",
    "    \"pituitary_volume\",\n",
    "    \"intercept\",\n",
    "]\n",
    "\n",
    "data = data.dropna()\n",
    "\n",
    "# mod = OrderedModel(data2['numEDSS'],\n",
    "#                    data2[predictors].astype('float'), distr='probit', disp=False)\n",
    "# res = mod.fit(method='nm')\n",
    "\n",
    "res = sm.OLS(\n",
    "    data[\"extracted_EDSS\"].astype(\"float\"), data[predictors].astype(\"float\")\n",
    ").fit(missing=\"drop\")\n",
    "\n",
    "print(res.summary())"
   ]
  },
  {
   "cell_type": "code",
   "execution_count": 120,
   "metadata": {},
   "outputs": [
    {
     "data": {
      "text/plain": [
       "<matplotlib.collections.PathCollection at 0x7efe49389eb0>"
      ]
     },
     "execution_count": 120,
     "metadata": {},
     "output_type": "execute_result"
    },
    {
     "data": {
      "image/png": "[encoded data removed]",
      "text/plain": [
       "<Figure size 640x480 with 1 Axes>"
      ]
     },
     "metadata": {},
     "output_type": "display_data"
    }
   ],
   "source": [
    "plt.scatter(data['choroid_volume'], data['extracted_EDSS'])"
   ]
  },
  {
   "cell_type": "code",
   "execution_count": 124,
   "metadata": {},
   "outputs": [
    {
     "name": "stdout",
     "output_type": "stream",
     "text": [
      "                            OLS Regression Results                            \n",
      "==============================================================================\n",
      "Dep. Variable:                   MSSS   R-squared:                       0.026\n",
      "Model:                            OLS   Adj. R-squared:                  0.010\n",
      "Method:                 Least Squares   F-statistic:                     1.615\n",
      "Date:                Sun, 09 Feb 2025   Prob (F-statistic):              0.142\n",
      "Time:                        17:23:26   Log-Likelihood:                -852.53\n",
      "No. Observations:                 370   AIC:                             1719.\n",
      "Df Residuals:                     363   BIC:                             1746.\n",
      "Df Model:                           6                                         \n",
      "Covariance Type:            nonrobust                                         \n",
      "====================================================================================\n",
      "                       coef    std err          t      P>|t|      [0.025      0.975]\n",
      "------------------------------------------------------------------------------------\n",
      "age                  0.0103      0.011      0.902      0.368      -0.012       0.033\n",
      "Female              -0.7294      0.375     -1.944      0.053      -1.467       0.008\n",
      "tiv              -7.239e-07   1.18e-06     -0.611      0.541   -3.05e-06    1.61e-06\n",
      "choroid_volume       0.0001      0.000      0.650      0.516      -0.000       0.001\n",
      "pineal_volume       -0.0011      0.002     -0.737      0.462      -0.004       0.002\n",
      "pituitary_volume    -0.0003      0.001     -0.301      0.763      -0.002       0.002\n",
      "intercept            4.6590      2.143      2.174      0.030       0.444       8.874\n",
      "==============================================================================\n",
      "Omnibus:                       30.653   Durbin-Watson:                   2.054\n",
      "Prob(Omnibus):                  0.000   Jarque-Bera (JB):               36.511\n",
      "Skew:                           0.761   Prob(JB):                     1.18e-08\n",
      "Kurtosis:                       2.768   Cond. No.                     2.54e+07\n",
      "==============================================================================\n",
      "\n",
      "Notes:\n",
      "[1] Standard Errors assume that the covariance matrix of the errors is correctly specified.\n",
      "[2] The condition number is large, 2.54e+07. This might indicate that there are\n",
      "strong multicollinearity or other numerical problems.\n"
     ]
    }
   ],
   "source": [
    "data = df[\n",
    "    [\n",
    "        \"dz_type3\",\n",
    "        \"dz_type\",\n",
    "        \"age\",\n",
    "        \"sex\",\n",
    "        \"tiv\",\n",
    "        \"flair_contrast\",\n",
    "        \"extracted_EDSS\",\n",
    "        \"ARMSS\",\n",
    "        \"PRL_LEVEL\",\n",
    "        \"lesion_vol_cubic\",\n",
    "        \"MSSS\",\n",
    "        \"choroid_volume\",\n",
    "        \"pineal_volume\",\n",
    "        \"pituitary_volume\",\n",
    "        \"thalamus\",\n",
    "        \"brain\",\n",
    "        \"cortical_thickness\",\n",
    "    ]\n",
    "]\n",
    "data = data[data[\"dz_type3\"].isin([\"MS\"])]\n",
    "data.loc[:, [\"dz_type3_factor\"]], _ = data[\"dz_type3\"].factorize(sort=False)\n",
    "\n",
    "data = data[data[\"flair_contrast\"].isin([\"WITH\", \"WITHOUT\"])]\n",
    "# df['extracted_EDSS'] = df['extracted_EDSS'] * 2\n",
    "data.loc[data[\"extracted_EDSS\"] == \".\", \"extracted_EDSS\"] = None\n",
    "# data['extracted_EDSS'] = pd.Categorical(data['extracted_EDSS'], ordered=True)\n",
    "\n",
    "data = pd.concat(\n",
    "    (\n",
    "        data,\n",
    "        pd.get_dummies(data[\"dz_type\"]),\n",
    "        pd.get_dummies(data[\"flair_contrast\"]),\n",
    "        pd.get_dummies(data[\"sex\"]),\n",
    "    ),\n",
    "    axis=1,\n",
    ")\n",
    "data[\"intercept\"] = 1\n",
    "\n",
    "# predictors = ['age', 'Female', 'tiv', 'choroid_volume', 'pineal_volume', 'pituitary_volume', 'thalamus', 'brain', 'cortical_thickness', 'intercept']\n",
    "predictors = [\n",
    "    \"age\",\n",
    "    \"Female\",\n",
    "    \"tiv\",\n",
    "    \"PRL_LEVEL\",\n",
    "    \"lesion_vol_cubic\",\n",
    "    \"choroid_volume\",\n",
    "    \"pineal_volume\",\n",
    "    \"pituitary_volume\",\n",
    "    \"intercept\",\n",
    "]\n",
    "\n",
    "data = data.dropna()\n",
    "\n",
    "# mod = OrderedModel(data2['numEDSS'],\n",
    "#                    data2[predictors].astype('float'), distr='probit', disp=False)\n",
    "# res = mod.fit(method='nm')\n",
    "\n",
    "res = sm.OLS(data[\"MSSS\"].astype(\"float\"), data[predictors].astype(\"float\")).fit(\n",
    "    missing=\"drop\"\n",
    ")\n",
    "\n",
    "print(res.summary())"
   ]
  },
  {
   "cell_type": "markdown",
   "metadata": {},
   "source": [
    "### JASP Data"
   ]
  },
  {
   "cell_type": "code",
   "execution_count": 151,
   "metadata": {},
   "outputs": [
    {
     "name": "stderr",
     "output_type": "stream",
     "text": [
      "/tmp/ipykernel_5002/646010725.py:31: FutureWarning: Setting an item of incompatible dtype is deprecated and will raise an error in a future version of pandas. Value '1' has dtype incompatible with bool, please explicitly cast to a compatible dtype first.\n",
      "  df_jasp.loc[i, \"Female\"] = 1\n",
      "/tmp/ipykernel_5002/646010725.py:38: FutureWarning: Setting an item of incompatible dtype is deprecated and will raise an error in a future version of pandas. Value '0' has dtype incompatible with bool, please explicitly cast to a compatible dtype first.\n",
      "  df_jasp.loc[i, \"Male\"] = 0\n"
     ]
    }
   ],
   "source": [
    "columns = [\n",
    "    \"dz_type\",\n",
    "    \"dz_type2\",\n",
    "    \"dz_type3\",\n",
    "    \"dz_type4\",\n",
    "    \"dz_type5\",\n",
    "    \"age\",\n",
    "    \"sex\",\n",
    "    \"tiv\",\n",
    "    \"flair_contrast\",\n",
    "    \"extracted_EDSS\",\n",
    "    \"ARMSS\",\n",
    "    \"PRL_LEVEL\",\n",
    "    \"PRL\",\n",
    "    \"lesion_vol_cubic\",\n",
    "    \"MSSS\",\n",
    "    \"choroid_volume\",\n",
    "    \"pineal_volume\",\n",
    "    \"pituitary_volume\",\n",
    "    \"thalamus\",\n",
    "    \"brain\",\n",
    "    \"cortical_thickness\",\n",
    "    \"dzdur\",\n",
    "]\n",
    "df_jasp = df[columns]\n",
    "df_jasp = pd.concat((df_jasp, pd.get_dummies(df_jasp[\"sex\"])), axis=1)\n",
    "df_jasp = df_jasp.loc[df_jasp[\"dzdur\"] != \".\", :]\n",
    "\n",
    "for i, row in df_jasp.iterrows():\n",
    "    if row[\"Female\"]:\n",
    "        df_jasp.loc[i, \"Female\"] = 1\n",
    "    else:\n",
    "        df_jasp.loc[i, \"Female\"] = 0\n",
    "\n",
    "    if row[\"Male\"]:\n",
    "        df_jasp.loc[i, \"Male\"] = 1\n",
    "    else:\n",
    "        df_jasp.loc[i, \"Male\"] = 0"
   ]
  },
  {
   "cell_type": "code",
   "execution_count": 152,
   "metadata": {},
   "outputs": [],
   "source": [
    "jasp_dir = Path(\n",
    "    \"/home/srs-9/Projects/ms_mri/monai_analysis/choroid_pineal_pituitary_T1-1/jasp_data\"\n",
    ")\n",
    "\n",
    "df_jasp.to_csv(jasp_dir / \"dataframe.csv\")"
   ]
  },
  {
   "cell_type": "code",
   "execution_count": 153,
   "metadata": {},
   "outputs": [
    {
     "data": {
      "text/plain": [
       "array(['MS', 'NIND', 'UNK', 'HC', 'OIND', 'RIS'], dtype=object)"
      ]
     },
     "execution_count": 153,
     "metadata": {},
     "output_type": "execute_result"
    }
   ],
   "source": [
    "df[\"dz_type3\"].unique()"
   ]
  },
  {
   "cell_type": "code",
   "execution_count": 154,
   "metadata": {},
   "outputs": [],
   "source": [
    "df_jasp3 = df_jasp[df_jasp[\"dz_type3\"].isin([\"MS\", \"NIND\", \"OIND\"])]\n",
    "df_jasp5 = df_jasp[df_jasp[\"dz_type5\"].isin([\"RMS\", \"PMS\", \"NIND\", \"OIND\"])]\n",
    "df_jasp_ms = df_jasp[df_jasp[\"dz_type5\"].isin([\"RMS\", \"PMS\"])]\n",
    "\n",
    "df_jasp3.to_csv(jasp_dir / \"dataframe3.csv\")\n",
    "df_jasp5.to_csv(jasp_dir / \"dataframe5.csv\")\n",
    "df_jasp_ms.to_csv(jasp_dir / \"dataframeMS.csv\")"
   ]
  },
  {
   "cell_type": "code",
   "execution_count": null,
   "metadata": {},
   "outputs": [],
   "source": []
  }
 ],
 "metadata": {
  "kernelspec": {
   "display_name": "monai",
   "language": "python",
   "name": "python3"
  },
  "language_info": {
   "codemirror_mode": {
    "name": "ipython",
    "version": 3
   },
   "file_extension": ".py",
   "mimetype": "text/x-python",
   "name": "python",
   "nbconvert_exporter": "python",
   "pygments_lexer": "ipython3",
   "version": "3.12.4"
  }
 },
 "nbformat": 4,
 "nbformat_minor": 2
}
