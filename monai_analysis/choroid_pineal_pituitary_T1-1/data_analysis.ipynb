{
 "cells": [
  {
   "cell_type": "code",
   "execution_count": 1,
   "metadata": {},
   "outputs": [],
   "source": [
    "import matplotlib.pyplot as plt\n",
    "import pandas as pd\n",
    "from pathlib import Path\n",
    "import numpy as np\n",
    "import re\n",
    "import statsmodels.api as sm\n",
    "from statsmodels.formula.api import ols\n",
    "\n",
    "from mri_data import file_manager as fm"
   ]
  },
  {
   "cell_type": "code",
   "execution_count": 2,
   "metadata": {},
   "outputs": [],
   "source": [
    "drive_root = fm.get_drive_root()\n",
    "msmri_home = Path(\"/home/srs-9/Projects/ms_mri\")\n",
    "msmri_datadir = msmri_home / \"data\"\n",
    "curr_dir = msmri_home / \"monai_analysis\" / \"choroid_pineal_pituitary_T1-1\""
   ]
  },
  {
   "cell_type": "markdown",
   "metadata": {},
   "source": [
    "## Data Cleaning"
   ]
  },
  {
   "cell_type": "markdown",
   "metadata": {},
   "source": [
    "Load volume dataset"
   ]
  },
  {
   "cell_type": "code",
   "execution_count": 3,
   "metadata": {},
   "outputs": [],
   "source": [
    "df_vols = pd.read_csv(curr_dir / \"clinical_data_full.csv\")\n",
    "df_vols = df_vols.set_index(\"subid\")\n",
    "keep_cols = [\"choroid_volume\", \"pineal_volume\", \"pituitary_volume\", \"tiv\", \"flair_contrast\", \"label\", \"scan_folder\", \"age\"]\n",
    "\n",
    "not_nas = (~df_vols['pineal_volume'].isna() & ~df_vols['choroid_volume'].isna() & ~df_vols['pituitary_volume'].isna())\n",
    "df_vols = df_vols.loc[not_nas, keep_cols]"
   ]
  },
  {
   "cell_type": "code",
   "execution_count": 4,
   "metadata": {},
   "outputs": [],
   "source": [
    "def subject_to_subid(subject):\n",
    "    if not isinstance(subject, str):\n",
    "        return None\n",
    "    re_match = re.match(r\"ms(\\d{4})\", subject)\n",
    "    if re_match:\n",
    "        return_val = int(re_match[1])\n",
    "        return return_val\n",
    "    else:\n",
    "        return None"
   ]
  },
  {
   "cell_type": "code",
   "execution_count": 5,
   "metadata": {},
   "outputs": [],
   "source": [
    "df_full = pd.read_csv(msmri_datadir / \"Clinical_Data_All_updated.csv\")\n",
    "df_full.insert(0, \"subid\", df_full['ID'].map(subject_to_subid))\n",
    "df_full = df_full.set_index(\"subid\")\n",
    "\n",
    "df = pd.merge(df_vols, df_full.loc[:, ~df_full.columns.isin(df_vols.columns)], how='outer', on='subid')\n",
    "\n",
    "df.loc[:, 'extracted_EDSS'] = [float(val) if val != \".\" else None for val in df['extracted_EDSS']] #! figure out what to do with \".\"\n",
    "df.loc[:, ['EDSS']] = pd.Categorical(df['extracted_EDSS'], ordered=True)\n",
    "df.loc[df['PRL'] == \"#VALUE!\", 'PRL'] = None\n",
    "df.loc[:, 'PRL'] = [int(val) if val != \"#VALUE!\" and val is not None else None for val in df['PRL']]\n",
    "df.loc[df['dzdur'] == \"#VALUE!\", \"dzdur\"] = None"
   ]
  },
  {
   "cell_type": "code",
   "execution_count": 6,
   "metadata": {},
   "outputs": [],
   "source": [
    "prl_levels = [range(0,1), range(1,3), range(3,5), range(5,df['PRL'].max()+1)]\n",
    "df.loc[:, ['PRL_LEVEL']] = None\n",
    "for i, level in enumerate(prl_levels):\n",
    "    df.loc[df['PRL'].isin(level), ['PRL_LEVEL']] = i\n",
    "df.loc[:, ['PRL_LEVEL']] = pd.Categorical(df['PRL_LEVEL'], ordered=True)"
   ]
  },
  {
   "cell_type": "code",
   "execution_count": 7,
   "metadata": {},
   "outputs": [],
   "source": [
    "def check_nind(subtype):\n",
    "    if \"migraine\" in subtype:\n",
    "        return True\n",
    "    elif \"IIH\" in subtype:\n",
    "        return True\n",
    "    elif \"Migraine\" in subtype:\n",
    "        return True\n",
    "    else:\n",
    "        return False"
   ]
  },
  {
   "cell_type": "code",
   "execution_count": 8,
   "metadata": {},
   "outputs": [],
   "source": [
    "def check_nind2(subtype):\n",
    "    if type(subtype) is not str:\n",
    "        return False\n",
    "    keywords = [\"migraine\", \"IIH\", \"anxiety\", \"Migraine\"]\n",
    "    for word in keywords:\n",
    "        if word in subtype:\n",
    "            return True\n",
    "    return False"
   ]
  },
  {
   "cell_type": "markdown",
   "metadata": {},
   "source": [
    "Add columns for volumes normalized by TIV"
   ]
  },
  {
   "cell_type": "code",
   "execution_count": 9,
   "metadata": {},
   "outputs": [],
   "source": [
    "df.loc[:, ['norm_choroid_volume']] = df['choroid_volume']/df['tiv']\n",
    "df.loc[:, ['norm_pineal_volume']] = df['pineal_volume']/df['tiv']\n",
    "df.loc[:, ['norm_pituitary_volume']] = df['pituitary_volume']/df['tiv']"
   ]
  },
  {
   "cell_type": "markdown",
   "metadata": {},
   "source": [
    "### Categorize Disease Types\n",
    "\n",
    "- RMS vs MS vs !MS\n",
    "- MS vs !MS\n",
    "- MS vs OIND vs NIND"
   ]
  },
  {
   "cell_type": "markdown",
   "metadata": {},
   "source": [
    "`dz_type` has relapsing MS (RMS) versus progressive MS (PMS) verusus not MS (!MS)"
   ]
  },
  {
   "cell_type": "code",
   "execution_count": 10,
   "metadata": {},
   "outputs": [
    {
     "name": "stdout",
     "output_type": "stream",
     "text": [
      "['RMS' 'PMS' '!MS' 'UNK' 'RIS']\n",
      "0\n"
     ]
    }
   ],
   "source": [
    "try:\n",
    "    df.insert(18, 'dz_type', df['ms_type'])\n",
    "except Exception:\n",
    "    pass\n",
    "\n",
    "df.loc[:, 'dz_type'] = df['ms_type']\n",
    "\n",
    "df.loc[df['ms_type'].isin(['CIS', 'RRMS']), 'dz_type'] = 'RMS'\n",
    "df.loc[df['ms_type'].isin(['PPMS', 'SPMS', 'RPMS', 'PRMS']), 'dz_type'] = 'PMS'\n",
    "df.loc[df['ms_type'].isin(['NIND', 'OIND', 'HC']), 'dz_type'] = '!MS'\n",
    "# df.loc[(df['dz_type'] == \"NIND\") & (df['subtype'].map(check_nind2)), \"dz_type\"] = \"HC\"\n",
    "print(df['dz_type'].unique())\n",
    "print(sum(df['dz_type'] == \"HC\"))"
   ]
  },
  {
   "cell_type": "markdown",
   "metadata": {},
   "source": [
    "`dz_type2` has MS versus !MS and UNK"
   ]
  },
  {
   "cell_type": "code",
   "execution_count": 11,
   "metadata": {},
   "outputs": [
    {
     "data": {
      "text/plain": [
       "array(['MS', '!MS', 'UNK', 'RIS'], dtype=object)"
      ]
     },
     "execution_count": 11,
     "metadata": {},
     "output_type": "execute_result"
    }
   ],
   "source": [
    "try:\n",
    "    df.insert(18, 'dz_type2', df['dz_type'])\n",
    "except Exception:\n",
    "    pass\n",
    "\n",
    "df.loc[:, 'dz_type2'] = df['dz_type']\n",
    "\n",
    "df.loc[df['dz_type'].isin(['RMS', 'PMS']), 'dz_type2'] = 'MS'\n",
    "df['dz_type2'].unique()"
   ]
  },
  {
   "cell_type": "markdown",
   "metadata": {},
   "source": [
    "`dz_type3` has MS v OIND v NIND"
   ]
  },
  {
   "cell_type": "code",
   "execution_count": 12,
   "metadata": {},
   "outputs": [
    {
     "data": {
      "text/plain": [
       "array(['MS', 'NIND', 'UNK', 'HC', 'OIND', 'RIS'], dtype=object)"
      ]
     },
     "execution_count": 12,
     "metadata": {},
     "output_type": "execute_result"
    }
   ],
   "source": [
    "try:\n",
    "    df.insert(18, 'dz_type3', df['ms_type'])\n",
    "except Exception:\n",
    "    pass\n",
    "\n",
    "df.loc[:, 'dz_type3'] = df['ms_type']\n",
    "\n",
    "df.loc[df['ms_type'].isin(['PPMS', 'SPMS', 'RPMS', 'PRMS', 'RRMS', 'CIS']), 'dz_type3'] = 'MS'\n",
    "df['dz_type3'].unique()"
   ]
  },
  {
   "cell_type": "markdown",
   "metadata": {},
   "source": [
    "`dz_type4`"
   ]
  },
  {
   "cell_type": "code",
   "execution_count": 13,
   "metadata": {},
   "outputs": [],
   "source": [
    "try:\n",
    "    df.insert(18, 'dz_type4', df['dz_type3'])\n",
    "except Exception:\n",
    "    pass\n",
    "\n",
    "df.loc[:, 'dz_type4'] = df['dz_type3']\n",
    "\n",
    "df.loc[(df['dz_type4'] == \"NIND\") & (df.loc[:, 'subtype'].map(check_nind2)), \"dz_type4\"] = \"HC\""
   ]
  },
  {
   "cell_type": "markdown",
   "metadata": {},
   "source": [
    "`dz_type5`"
   ]
  },
  {
   "cell_type": "code",
   "execution_count": 14,
   "metadata": {},
   "outputs": [
    {
     "name": "stdout",
     "output_type": "stream",
     "text": [
      "['RMS' 'PMS' 'NIND' 'UNK' 'HC' 'OIND' 'RIS']\n"
     ]
    }
   ],
   "source": [
    "try:\n",
    "    df.insert(18, 'dz_type5', df['ms_type'])\n",
    "except Exception:\n",
    "    pass\n",
    "\n",
    "df.loc[:, 'dz_type5'] = df['ms_type']\n",
    "\n",
    "df.loc[df['ms_type'].isin(['CIS', 'RRMS']), 'dz_type5'] = 'RMS'\n",
    "df.loc[df['ms_type'].isin(['PPMS', 'SPMS', 'RPMS', 'PRMS']), 'dz_type5'] = 'PMS'\n",
    "# df.loc[(df['dz_type5'] == \"NIND\") & (df['subtype'].map(check_nind2)), \"dz_type5\"] = \"HC\"\n",
    "print(df['dz_type5'].unique())"
   ]
  },
  {
   "cell_type": "markdown",
   "metadata": {},
   "source": [
    "## Descriptive Stats"
   ]
  },
  {
   "cell_type": "code",
   "execution_count": 15,
   "metadata": {},
   "outputs": [
    {
     "name": "stdout",
     "output_type": "stream",
     "text": [
      "564 patients in total\n",
      "368 patients with RMS (0.65)\n",
      "97 patients with PMS (0.17)\n",
      "92 patients w/o MS (0.16)\n"
     ]
    }
   ],
   "source": [
    "print(len(df), \"patients in total\")\n",
    "nRMS = sum(df['dz_type'] == \"RMS\")\n",
    "nPMS = sum(df['dz_type'] == \"PMS\")\n",
    "nNotMS = sum(df['dz_type'] == \"!MS\")\n",
    "print(nRMS, \"patients with RMS\", f\"({round(nRMS / len(df), 2)})\")\n",
    "print(nPMS, \"patients with PMS\", f\"({round(nPMS / len(df), 2)})\")\n",
    "print(nNotMS, \"patients w/o MS\", f\"({round(nNotMS / len(df), 2)})\")"
   ]
  },
  {
   "cell_type": "code",
   "execution_count": 16,
   "metadata": {},
   "outputs": [
    {
     "name": "stdout",
     "output_type": "stream",
     "text": [
      "564 patients in total\n",
      "465 patients with MS (0.82)\n",
      "41 patients with OIND (0.07)\n",
      "49 patients w/o NIND (0.09)\n"
     ]
    }
   ],
   "source": [
    "print(len(df), \"patients in total\")\n",
    "nMS = sum(df['dz_type3'] == \"MS\")\n",
    "nOIND = sum(df['dz_type3'] == \"OIND\")\n",
    "nNIND = sum(df['dz_type3'] == \"NIND\")\n",
    "print(nMS, \"patients with MS\", f\"({round(nMS / len(df), 2)})\")\n",
    "print(nOIND, \"patients with OIND\", f\"({round(nOIND / len(df), 2)})\")\n",
    "print(nNIND, \"patients w/o NIND\", f\"({round(nNIND / len(df), 2)})\")"
   ]
  },
  {
   "cell_type": "code",
   "execution_count": 17,
   "metadata": {},
   "outputs": [
    {
     "name": "stdout",
     "output_type": "stream",
     "text": [
      "Female subjects:     0.79\n",
      "Average age at scan: 47.77\n"
     ]
    }
   ],
   "source": [
    "print(\"Female subjects:     {:0.2f}\".format(sum(df['sex'] == \"Female\") / len(df)) )\n",
    "print(\"Average age at scan: {:0.2f}\".format(df['age'].mean()))"
   ]
  },
  {
   "cell_type": "code",
   "execution_count": 18,
   "metadata": {},
   "outputs": [
    {
     "name": "stdout",
     "output_type": "stream",
     "text": [
      "RMS Patients:\n",
      "\tFemale:  0.84\n",
      "\tAge:     44.64\n",
      "PMS Patients:\n",
      "\tFemale:  0.59\n",
      "\tAge:     58.24\n",
      "!MS Patients:\n",
      "\tFemale:  0.82\n",
      "\tAge:     49.70\n"
     ]
    }
   ],
   "source": [
    "df_rrms = df.loc[df[\"dz_type\"] == \"RMS\"]\n",
    "print(\"RMS Patients:\")\n",
    "print(\"\\tFemale:  {:0.2f}\".format(sum(df_rrms['sex'] == \"Female\") / len(df_rrms)))\n",
    "print(\"\\tAge:     {:0.2f}\".format(df_rrms['age'].mean()))\n",
    "\n",
    "df_pms = df.loc[df[\"dz_type\"] == \"PMS\"]\n",
    "print(\"PMS Patients:\")\n",
    "print(\"\\tFemale:  {:0.2f}\".format(sum(df_pms['sex'] == \"Female\") / len(df_pms)))\n",
    "print(\"\\tAge:     {:0.2f}\".format(df_pms['age'].mean()))\n",
    "\n",
    "df_notms = df.loc[df[\"dz_type\"] == \"!MS\"]\n",
    "print(\"!MS Patients:\")\n",
    "print(\"\\tFemale:  {:0.2f}\".format(sum(df_notms['sex'] == \"Female\") / len(df_notms)))\n",
    "print(\"\\tAge:     {:0.2f}\".format(df_notms['age'].mean()))"
   ]
  },
  {
   "cell_type": "markdown",
   "metadata": {},
   "source": [
    "#### Volumes"
   ]
  },
  {
   "cell_type": "code",
   "execution_count": 19,
   "metadata": {},
   "outputs": [
    {
     "name": "stdout",
     "output_type": "stream",
     "text": [
      "Choroid volumes:\n",
      "\tRRMS:   1921.89\n",
      "\tPMS:    2464.00\n",
      "\tnot-MS: 1973.78\n",
      "Pineal volumes:\n",
      "\tRRMS:   241.80\n",
      "\tPMS:    228.35\n",
      "\tnot-MS: 267.28\n",
      "Pituitary volumes:\n",
      "\tRRMS:   694.03\n",
      "\tPMS:    651.02\n",
      "\tnot-MS: 690.05\n"
     ]
    }
   ],
   "source": [
    "# choroid\n",
    "print(\"Choroid volumes:\")\n",
    "print(\"\\tRRMS:   {:0.2f}\".format(df_rrms['choroid_volume'].mean()))\n",
    "print(\"\\tPMS:    {:0.2f}\".format(df_pms['choroid_volume'].mean()))\n",
    "print(\"\\tnot-MS: {:0.2f}\".format(df_notms['choroid_volume'].mean()))\n",
    "\n",
    "# pineal\n",
    "print(\"Pineal volumes:\")\n",
    "print(\"\\tRRMS:   {:0.2f}\".format(df_rrms['pineal_volume'].mean()))\n",
    "print(\"\\tPMS:    {:0.2f}\".format(df_pms['pineal_volume'].mean()))\n",
    "print(\"\\tnot-MS: {:0.2f}\".format(df_notms['pineal_volume'].mean()))\n",
    "\n",
    "# pituitary\n",
    "print(\"Pituitary volumes:\")\n",
    "print(\"\\tRRMS:   {:0.2f}\".format(df_rrms['pituitary_volume'].mean()))\n",
    "print(\"\\tPMS:    {:0.2f}\".format(df_pms['pituitary_volume'].mean()))\n",
    "print(\"\\tnot-MS: {:0.2f}\".format(df_notms['pituitary_volume'].mean()))"
   ]
  },
  {
   "cell_type": "code",
   "execution_count": 20,
   "metadata": {},
   "outputs": [
    {
     "name": "stdout",
     "output_type": "stream",
     "text": [
      "Choroid volumes:\n",
      "\tMS:     2033.73\n",
      "\tnot-MS: 1973.78\n",
      "\n",
      "Pineal volumes\n",
      "\tMS:     239.02\n",
      "\tnot-MS: 267.28\n",
      "\n",
      "Pituitary volumes\n",
      "\tMS:     685.16\n",
      "\tnot-MS: 690.05\n"
     ]
    }
   ],
   "source": [
    "print(\"Choroid volumes:\")\n",
    "choroid_ms_mean = df[df['dz_type2'] == \"MS\"].choroid_volume.mean()\n",
    "choroid_notms_mean = df[df['dz_type2'] == \"!MS\"].choroid_volume.mean()\n",
    "print(\"\\tMS:     {:0.2f}\".format(choroid_ms_mean))\n",
    "print(\"\\tnot-MS: {:0.2f}\".format(choroid_notms_mean))\n",
    "\n",
    "print(\"\\nPineal volumes\")\n",
    "pineal_ms_mean = df[df['dz_type2'] == \"MS\"].pineal_volume.mean()\n",
    "pineal_notms_mean = df[df['dz_type2'] == \"!MS\"].pineal_volume.mean()\n",
    "print(\"\\tMS:     {:0.2f}\".format(pineal_ms_mean))\n",
    "print(\"\\tnot-MS: {:0.2f}\".format(pineal_notms_mean))\n",
    "\n",
    "print(\"\\nPituitary volumes\")\n",
    "pituitary_ms_mean = df[df['dz_type2'] == \"MS\"].pituitary_volume.mean()\n",
    "pituitary_notms_mean = df[df['dz_type2'] == \"!MS\"].pituitary_volume.mean()\n",
    "print(\"\\tMS:     {:0.2f}\".format(pituitary_ms_mean))\n",
    "print(\"\\tnot-MS: {:0.2f}\".format(pituitary_notms_mean))"
   ]
  },
  {
   "cell_type": "code",
   "execution_count": 21,
   "metadata": {},
   "outputs": [
    {
     "name": "stdout",
     "output_type": "stream",
     "text": [
      "Choroid volumes:\n",
      "\tMS:   2033.73\n",
      "\tOIND: 2014.44\n",
      "\tNIND: 1980.16\n",
      "\n",
      "Pineal volumes\n",
      "\tMS:   239.02\n",
      "\tOIND: 243.42\n",
      "\tNIND: 287.07\n",
      "\n",
      "Pituitary volumes\n",
      "\tMS:   685.16\n",
      "\tOIND: 704.53\n",
      "\tNIND: 678.36\n"
     ]
    }
   ],
   "source": [
    "print(\"Choroid volumes:\")\n",
    "choroid_ms_mean = df[df['dz_type3'] == \"MS\"].choroid_volume.mean()\n",
    "choroid_oind_mean = df[df['dz_type3'] == \"OIND\"].choroid_volume.mean()\n",
    "choroid_nind_mean = df[df['dz_type3'] == \"NIND\"].choroid_volume.mean()\n",
    "print(\"\\tMS:   {:0.2f}\".format(choroid_ms_mean))\n",
    "print(\"\\tOIND: {:0.2f}\".format(choroid_oind_mean))\n",
    "print(\"\\tNIND: {:0.2f}\".format(choroid_nind_mean))\n",
    "\n",
    "\n",
    "print(\"\\nPineal volumes\")\n",
    "pineal_ms_mean = df[df['dz_type2'] == \"MS\"].pineal_volume.mean()\n",
    "pineal_oind_mean = df[df['dz_type3'] == \"OIND\"].pineal_volume.mean()\n",
    "pineal_nind_mean = df[df['dz_type3'] == \"NIND\"].pineal_volume.mean()\n",
    "print(\"\\tMS:   {:0.2f}\".format(pineal_ms_mean))\n",
    "print(\"\\tOIND: {:0.2f}\".format(pineal_oind_mean))\n",
    "print(\"\\tNIND: {:0.2f}\".format(pineal_nind_mean))\n",
    "\n",
    "\n",
    "print(\"\\nPituitary volumes\")\n",
    "pituitary_ms_mean = df[df['dz_type2'] == \"MS\"].pituitary_volume.mean()\n",
    "pituitary_oind_mean = df[df['dz_type3'] == \"OIND\"].pituitary_volume.mean()\n",
    "pituitary_nind_mean = df[df['dz_type3'] == \"NIND\"].pituitary_volume.mean()\n",
    "print(\"\\tMS:   {:0.2f}\".format(pituitary_ms_mean))\n",
    "print(\"\\tOIND: {:0.2f}\".format(pituitary_oind_mean))\n",
    "print(\"\\tNIND: {:0.2f}\".format(pituitary_nind_mean))"
   ]
  },
  {
   "cell_type": "markdown",
   "metadata": {},
   "source": [
    "## Plots"
   ]
  },
  {
   "cell_type": "code",
   "execution_count": 22,
   "metadata": {},
   "outputs": [
    {
     "data": {
      "image/png": "[encoded data removed]",
      "text/plain": [
       "<Figure size 640x480 with 6 Axes>"
      ]
     },
     "metadata": {},
     "output_type": "display_data"
    }
   ],
   "source": [
    "fig, ax = plt.subplots(2, 3)\n",
    "ax[0,0].hist(df.loc[df['dz_type2']=='MS', 'choroid_volume'], bins=50)\n",
    "ax[0,0].set_xlim([0, 3500])\n",
    "ax[0,0].set_title(\"Choroid MS\")\n",
    "ax[0,0].plot([choroid_ms_mean, choroid_ms_mean], ax[0,0].get_ylim())\n",
    "text_y = ax[0,0].get_ylim()[1] - ax[0,0].get_ylim()[1] / 16\n",
    "ax[0,0].text(choroid_ms_mean, text_y, \"{:0.0f}\".format(choroid_ms_mean))\n",
    "\n",
    "ax[1, 0].hist(df.loc[df['dz_type2']=='!MS', 'choroid_volume'], bins=20)\n",
    "ax[1, 0].set_xlim([0, 3500])\n",
    "ax[1, 0].set_title(\"Choroid Not MS\")\n",
    "ax[1,0].plot([choroid_notms_mean, choroid_notms_mean], ax[1,0].get_ylim())\n",
    "text_y = ax[1,0].get_ylim()[1] - ax[1,0].get_ylim()[1] / 16\n",
    "ax[1,0].text(choroid_notms_mean, text_y, \"{:0.0f}\".format(choroid_notms_mean))\n",
    "\n",
    "\n",
    "ax[0,1].hist(df.loc[df['dz_type2']=='MS', 'pineal_volume'], bins=50)\n",
    "ax[0,1].set_xlim([0, 750])\n",
    "ax[0,1].set_title(\"Pineal MS\")\n",
    "ax[0,1].plot([pineal_ms_mean, pineal_ms_mean], ax[0,1].get_ylim())\n",
    "text_y = ax[0,1].get_ylim()[1] - ax[0,1].get_ylim()[1] / 16\n",
    "ax[0,1].text(pineal_ms_mean, text_y, \"{:0.0f}\".format(pineal_ms_mean))\n",
    "\n",
    "ax[1,1].hist(df.loc[df['dz_type2']=='!MS', 'pineal_volume'], bins=30)\n",
    "ax[1,1].set_xlim([0, 750])\n",
    "ax[1,1].set_title(\"Pineal Not MS\")\n",
    "ax[1,1].plot([pineal_notms_mean, pineal_notms_mean], ax[1,1].get_ylim())\n",
    "text_y = ax[1,1].get_ylim()[1] - ax[1,1].get_ylim()[1] / 16\n",
    "ax[1,1].text(pineal_notms_mean, text_y, \"{:0.0f}\".format(pineal_notms_mean))\n",
    "\n",
    "\n",
    "ax[0,2].hist(df.loc[df['dz_type2']=='MS', 'pituitary_volume'], bins=50)\n",
    "ax[0,2].set_xlim([0, 1500])\n",
    "ax[0,2].set_title(\"Pituitary MS\")\n",
    "ax[0,2].plot([pituitary_ms_mean, pituitary_ms_mean], ax[0,2].get_ylim())\n",
    "text_y = ax[0,2].get_ylim()[1] - ax[0,2].get_ylim()[1] / 16\n",
    "ax[0,2].text(pituitary_ms_mean, text_y, \"{:0.0f}\".format(pituitary_ms_mean))\n",
    "\n",
    "ax[1,2].hist(df.loc[df['dz_type2']=='!MS', 'pituitary_volume'], bins=20)\n",
    "ax[1,2].set_xlim([0, 1500])\n",
    "ax[1,2].set_title(\"Pituitary Not MS\")\n",
    "ax[1,2].plot([pituitary_notms_mean, pituitary_notms_mean], ax[1,2].get_ylim())\n",
    "text_y = ax[1,2].get_ylim()[1] - ax[1,2].get_ylim()[1] / 16\n",
    "ax[1,2].text(pituitary_notms_mean, text_y, \"{:0.0f}\".format(pituitary_notms_mean))\n",
    "\n",
    "plt.subplots_adjust(bottom=0.1, right=2, top=1.5)"
   ]
  },
  {
   "cell_type": "markdown",
   "metadata": {},
   "source": [
    "## Regression Models\n",
    "\n",
    "Covariates: age, sex, TIV, contrast"
   ]
  },
  {
   "cell_type": "markdown",
   "metadata": {},
   "source": [
    "### Linear Regression on Volume\n",
    "\n",
    "Predict volume of structure with the following predictors:\n",
    "\n",
    "- MS vs Not-MS\n",
    "- MS vs OIND vs NIND\n",
    "- RMS vs PMS"
   ]
  },
  {
   "cell_type": "markdown",
   "metadata": {},
   "source": [
    "#### Choroid Plexus\n",
    "\n",
    "##### MS vs not-MS"
   ]
  },
  {
   "cell_type": "code",
   "execution_count": 23,
   "metadata": {},
   "outputs": [
    {
     "name": "stdout",
     "output_type": "stream",
     "text": [
      "                            OLS Regression Results                            \n",
      "==============================================================================\n",
      "Dep. Variable:                 volume   R-squared:                       0.231\n",
      "Model:                            OLS   Adj. R-squared:                  0.225\n",
      "Method:                 Least Squares   F-statistic:                     35.67\n",
      "Date:                Thu, 06 Feb 2025   Prob (F-statistic):           4.59e-26\n",
      "Time:                        18:32:34   Log-Likelihood:                -3729.6\n",
      "No. Observations:                 479   AIC:                             7469.\n",
      "Df Residuals:                     474   BIC:                             7490.\n",
      "Df Model:                           4                                         \n",
      "Covariance Type:            nonrobust                                         \n",
      "==============================================================================\n",
      "                 coef    std err          t      P>|t|      [0.025      0.975]\n",
      "------------------------------------------------------------------------------\n",
      "age           20.0308      2.173      9.219      0.000      15.761      24.300\n",
      "Male         242.5502     78.226      3.101      0.002      88.838     396.263\n",
      "tiv            0.0008      0.000      3.210      0.001       0.000       0.001\n",
      "MS           124.3920     74.711      1.665      0.097     -22.414     271.198\n",
      "intercept   -267.1203    399.809     -0.668      0.504   -1052.738     518.498\n",
      "==============================================================================\n",
      "Omnibus:                       23.412   Durbin-Watson:                   2.111\n",
      "Prob(Omnibus):                  0.000   Jarque-Bera (JB):               28.502\n",
      "Skew:                           0.460   Prob(JB):                     6.47e-07\n",
      "Kurtosis:                       3.764   Cond. No.                     2.27e+07\n",
      "==============================================================================\n",
      "\n",
      "Notes:\n",
      "[1] Standard Errors assume that the covariance matrix of the errors is correctly specified.\n",
      "[2] The condition number is large, 2.27e+07. This might indicate that there are\n",
      "strong multicollinearity or other numerical problems.\n"
     ]
    }
   ],
   "source": [
    "volume = 'choroid_volume'\n",
    "\n",
    "data = df[['dz_type2', 'age', 'sex', 'tiv', 'flair_contrast', 'dzdur', volume]]\n",
    "data = data.rename(columns={volume: 'volume'})\n",
    "data = data[data['dz_type2'].isin(['MS', '!MS'])]\n",
    "data = data[data['flair_contrast'].isin(['WITH', 'WITHOUT'])]\n",
    "\n",
    "data = pd.concat((\n",
    "    data,\n",
    "    pd.get_dummies(data['dz_type2']),\n",
    "    pd.get_dummies(data['flair_contrast']),\n",
    "    pd.get_dummies(data['sex'])), axis=1)\n",
    "data['intercept'] = 1\n",
    "\n",
    "predictors = ['age', 'Male', 'tiv', 'MS', 'intercept']\n",
    "\n",
    "res = sm.OLS(data['volume'].astype('float'), \n",
    "             data[predictors].astype('float'), missing='drop').fit()\n",
    "\n",
    "print(res.summary())"
   ]
  },
  {
   "cell_type": "markdown",
   "metadata": {},
   "source": [
    "##### MS vs NIND vs OIND"
   ]
  },
  {
   "cell_type": "code",
   "execution_count": 24,
   "metadata": {},
   "outputs": [
    {
     "name": "stdout",
     "output_type": "stream",
     "text": [
      "                            OLS Regression Results                            \n",
      "==============================================================================\n",
      "Dep. Variable:                 volume   R-squared:                       0.235\n",
      "Model:                            OLS   Adj. R-squared:                  0.228\n",
      "Method:                 Least Squares   F-statistic:                     33.88\n",
      "Date:                Thu, 06 Feb 2025   Prob (F-statistic):           1.14e-24\n",
      "Time:                        18:32:34   Log-Likelihood:                -3483.6\n",
      "No. Observations:                 447   AIC:                             6977.\n",
      "Df Residuals:                     442   BIC:                             6998.\n",
      "Df Model:                           4                                         \n",
      "Covariance Type:            nonrobust                                         \n",
      "==============================================================================\n",
      "                 coef    std err          t      P>|t|      [0.025      0.975]\n",
      "------------------------------------------------------------------------------\n",
      "age           20.3502      2.260      9.006      0.000      15.909      24.791\n",
      "Female      -252.1833     80.843     -3.119      0.002    -411.067     -93.299\n",
      "tiv            0.0008      0.000      3.169      0.002       0.000       0.001\n",
      "MS           105.5772     96.498      1.094      0.275     -84.074     295.229\n",
      "intercept    -41.5680    468.598     -0.089      0.929    -962.524     879.388\n",
      "==============================================================================\n",
      "Omnibus:                       22.618   Durbin-Watson:                   2.081\n",
      "Prob(Omnibus):                  0.000   Jarque-Bera (JB):               27.778\n",
      "Skew:                           0.464   Prob(JB):                     9.29e-07\n",
      "Kurtosis:                       3.795   Cond. No.                     2.55e+07\n",
      "==============================================================================\n",
      "\n",
      "Notes:\n",
      "[1] Standard Errors assume that the covariance matrix of the errors is correctly specified.\n",
      "[2] The condition number is large, 2.55e+07. This might indicate that there are\n",
      "strong multicollinearity or other numerical problems.\n"
     ]
    }
   ],
   "source": [
    "volume = 'choroid_volume'\n",
    "\n",
    "data = df[['dz_type3', 'age', 'sex', 'tiv', 'flair_contrast', 'dzdur', volume]]\n",
    "data = data.rename(columns={volume: 'volume'})\n",
    "data = data[data['dz_type3'].isin(['MS', 'NIND'])]\n",
    "data = data[data['flair_contrast'].isin(['WITH', 'WITHOUT'])]\n",
    "\n",
    "data = pd.concat((\n",
    "    data,\n",
    "    pd.get_dummies(data['dz_type3']),\n",
    "    pd.get_dummies(data['flair_contrast']),\n",
    "    pd.get_dummies(data['sex'])), axis=1)\n",
    "data['intercept'] = 1\n",
    "\n",
    "predictors = ['age', 'Female', 'tiv', 'MS', 'intercept']\n",
    "\n",
    "res = sm.OLS(data['volume'].astype('float'), \n",
    "             data[predictors].astype('float'), missing='drop').fit()\n",
    "\n",
    "print(res.summary())"
   ]
  },
  {
   "cell_type": "markdown",
   "metadata": {},
   "source": [
    "##### PMS v RMS"
   ]
  },
  {
   "cell_type": "code",
   "execution_count": 25,
   "metadata": {},
   "outputs": [
    {
     "name": "stdout",
     "output_type": "stream",
     "text": [
      "                            OLS Regression Results                            \n",
      "==============================================================================\n",
      "Dep. Variable:                 volume   R-squared:                       0.243\n",
      "Model:                            OLS   Adj. R-squared:                  0.232\n",
      "Method:                 Least Squares   F-statistic:                     21.50\n",
      "Date:                Thu, 06 Feb 2025   Prob (F-statistic):           3.55e-25\n",
      "Time:                        18:32:34   Log-Likelihood:                -3709.6\n",
      "No. Observations:                 477   AIC:                             7435.\n",
      "Df Residuals:                     469   BIC:                             7469.\n",
      "Df Model:                           7                                         \n",
      "Covariance Type:            nonrobust                                         \n",
      "==============================================================================\n",
      "                 coef    std err          t      P>|t|      [0.025      0.975]\n",
      "------------------------------------------------------------------------------\n",
      "age           17.2020      2.353      7.312      0.000      12.579      21.825\n",
      "Female      -199.0287     79.146     -2.515      0.012    -354.554     -43.504\n",
      "tiv            0.0008      0.000      3.384      0.001       0.000       0.001\n",
      "RMS           56.9389     96.680      0.589      0.556    -133.040     246.918\n",
      "PMS          299.4198    114.331      2.619      0.009      74.756     524.083\n",
      "OIND          -4.1480    139.590     -0.030      0.976    -278.448     270.152\n",
      "WITHOUT      -15.2020     55.070     -0.276      0.783    -123.417      93.013\n",
      "intercept     38.5733    452.064      0.085      0.932    -849.749     926.895\n",
      "==============================================================================\n",
      "Omnibus:                       18.946   Durbin-Watson:                   2.113\n",
      "Prob(Omnibus):                  0.000   Jarque-Bera (JB):               22.041\n",
      "Skew:                           0.412   Prob(JB):                     1.64e-05\n",
      "Kurtosis:                       3.656   Cond. No.                     2.59e+07\n",
      "==============================================================================\n",
      "\n",
      "Notes:\n",
      "[1] Standard Errors assume that the covariance matrix of the errors is correctly specified.\n",
      "[2] The condition number is large, 2.59e+07. This might indicate that there are\n",
      "strong multicollinearity or other numerical problems.\n"
     ]
    }
   ],
   "source": [
    "volume = 'choroid_volume'\n",
    "\n",
    "data = df[['dz_type5', 'age', 'sex', 'tiv', 'flair_contrast', 'dzdur', volume, \"PRL_LEVEL\", \"lesion_vol_cubic\"]]\n",
    "data = data.rename(columns={volume: 'volume'})\n",
    "data = data[data['dz_type5'].isin(['RMS', 'PMS', 'NIND', 'OIND'])]\n",
    "data = data[data['flair_contrast'].isin(['WITH', 'WITHOUT'])]\n",
    "\n",
    "data = pd.concat((\n",
    "    data,\n",
    "    pd.get_dummies(data['dz_type5']),\n",
    "    pd.get_dummies(data['flair_contrast']),\n",
    "    pd.get_dummies(data['sex'])), axis=1)\n",
    "data['intercept'] = 1\n",
    "\n",
    "predictors = ['age', 'Female', 'tiv', 'RMS', 'PMS', 'OIND', 'WITHOUT', 'intercept']\n",
    "# predictors = ['age', 'Female', 'tiv', 'PMS', 'RMS', 'OIND', 'intercept']\n",
    "res = sm.OLS(data['volume'].astype('float'), \n",
    "             data[predictors].astype('float'), missing='drop').fit()\n",
    "\n",
    "print(res.summary())"
   ]
  },
  {
   "cell_type": "markdown",
   "metadata": {},
   "source": [
    "Alternative to dummy coding, using R style formula"
   ]
  },
  {
   "cell_type": "code",
   "execution_count": 26,
   "metadata": {},
   "outputs": [
    {
     "name": "stdout",
     "output_type": "stream",
     "text": [
      "                            OLS Regression Results                            \n",
      "==============================================================================\n",
      "Dep. Variable:                 volume   R-squared:                       0.243\n",
      "Model:                            OLS   Adj. R-squared:                  0.232\n",
      "Method:                 Least Squares   F-statistic:                     21.50\n",
      "Date:                Thu, 06 Feb 2025   Prob (F-statistic):           3.55e-25\n",
      "Time:                        18:32:34   Log-Likelihood:                -3709.6\n",
      "No. Observations:                 477   AIC:                             7435.\n",
      "Df Residuals:                     469   BIC:                             7469.\n",
      "Df Model:                           7                                         \n",
      "Covariance Type:            nonrobust                                         \n",
      "================================================================================================\n",
      "                                   coef    std err          t      P>|t|      [0.025      0.975]\n",
      "------------------------------------------------------------------------------------------------\n",
      "Intercept                     -160.4554    405.660     -0.396      0.693    -957.592     636.681\n",
      "C(sex_male)[T.1]               199.0287     79.146      2.515      0.012      43.504     354.554\n",
      "C(dz_type5)[T.OIND]             -4.1480    139.590     -0.030      0.976    -278.448     270.152\n",
      "C(dz_type5)[T.PMS]             299.4198    114.331      2.619      0.009      74.756     524.083\n",
      "C(dz_type5)[T.RMS]              56.9389     96.680      0.589      0.556    -133.040     246.918\n",
      "C(flair_contrast)[T.WITHOUT]   -15.2020     55.070     -0.276      0.783    -123.417      93.013\n",
      "age                             17.2020      2.353      7.312      0.000      12.579      21.825\n",
      "tiv                              0.0008      0.000      3.384      0.001       0.000       0.001\n",
      "==============================================================================\n",
      "Omnibus:                       18.946   Durbin-Watson:                   2.113\n",
      "Prob(Omnibus):                  0.000   Jarque-Bera (JB):               22.041\n",
      "Skew:                           0.412   Prob(JB):                     1.64e-05\n",
      "Kurtosis:                       3.656   Cond. No.                     2.33e+07\n",
      "==============================================================================\n",
      "\n",
      "Notes:\n",
      "[1] Standard Errors assume that the covariance matrix of the errors is correctly specified.\n",
      "[2] The condition number is large, 2.33e+07. This might indicate that there are\n",
      "strong multicollinearity or other numerical problems.\n"
     ]
    }
   ],
   "source": [
    "volume = 'choroid_volume'\n",
    "\n",
    "data = df[['dz_type5', 'age', 'sex', 'tiv', 'flair_contrast', 'dzdur', volume, \"PRL_LEVEL\", \"lesion_vol_cubic\"]]\n",
    "data = data.rename(columns={volume: 'volume'})\n",
    "data = data[data['dz_type5'].isin(['RMS', 'PMS', 'NIND', 'OIND'])]\n",
    "data = data[data['flair_contrast'].isin(['WITH', 'WITHOUT'])]\n",
    "\n",
    "data['sex_male'] = data.sex.map({'Female': 0, 'Male': 1})\n",
    "\n",
    "fit = ols('volume ~ C(sex_male) + C(dz_type5) + C(flair_contrast) + age + tiv', data=data).fit()\n",
    "\n",
    "print(fit.summary())"
   ]
  },
  {
   "cell_type": "code",
   "execution_count": 27,
   "metadata": {},
   "outputs": [
    {
     "name": "stdout",
     "output_type": "stream",
     "text": [
      "                            OLS Regression Results                            \n",
      "==============================================================================\n",
      "Dep. Variable:                 volume   R-squared:                       0.311\n",
      "Model:                            OLS   Adj. R-squared:                  0.300\n",
      "Method:                 Least Squares   F-statistic:                     30.71\n",
      "Date:                Thu, 06 Feb 2025   Prob (F-statistic):           1.94e-30\n",
      "Time:                        18:32:34   Log-Likelihood:                -3221.6\n",
      "No. Observations:                 416   AIC:                             6457.\n",
      "Df Residuals:                     409   BIC:                             6485.\n",
      "Df Model:                           6                                         \n",
      "Covariance Type:            nonrobust                                         \n",
      "====================================================================================\n",
      "                       coef    std err          t      P>|t|      [0.025      0.975]\n",
      "------------------------------------------------------------------------------------\n",
      "age                 18.7528      2.425      7.732      0.000      13.985      23.520\n",
      "Female            -301.4204     79.748     -3.780      0.000    -458.188    -144.653\n",
      "tiv                  0.0005      0.000      2.057      0.040    2.33e-05       0.001\n",
      "MS                 102.0230    161.908      0.630      0.529    -216.253     420.299\n",
      "lesion_vol_cubic   176.7868     35.376      4.997      0.000     107.245     246.329\n",
      "PRL_LEVEL          101.7378     36.889      2.758      0.006      29.221     174.254\n",
      "intercept          151.7809    484.776      0.313      0.754    -801.183    1104.745\n",
      "==============================================================================\n",
      "Omnibus:                       13.699   Durbin-Watson:                   2.100\n",
      "Prob(Omnibus):                  0.001   Jarque-Bera (JB):               17.789\n",
      "Skew:                           0.305   Prob(JB):                     0.000137\n",
      "Kurtosis:                       3.808   Cond. No.                     2.68e+07\n",
      "==============================================================================\n",
      "\n",
      "Notes:\n",
      "[1] Standard Errors assume that the covariance matrix of the errors is correctly specified.\n",
      "[2] The condition number is large, 2.68e+07. This might indicate that there are\n",
      "strong multicollinearity or other numerical problems.\n"
     ]
    }
   ],
   "source": [
    "volume = 'choroid_volume'\n",
    "\n",
    "data = df[['dz_type4', 'age', 'sex', 'tiv', 'flair_contrast', 'dzdur', volume, \"PRL_LEVEL\", \"lesion_vol_cubic\"]]\n",
    "data = data.rename(columns={volume: 'volume'})\n",
    "data = data[data['dz_type4'].isin(['MS', 'HC'])]\n",
    "data = data[data['flair_contrast'].isin(['WITH', 'WITHOUT'])]\n",
    "\n",
    "data = pd.concat((\n",
    "    data,\n",
    "    pd.get_dummies(data['dz_type4']),\n",
    "    pd.get_dummies(data['flair_contrast']),\n",
    "    pd.get_dummies(data['sex'])), axis=1)\n",
    "data['intercept'] = 1\n",
    "\n",
    "# predictors = ['age', 'Female', 'tiv', 'RMS', 'PMS', 'PRL_LEVEL', 'lesion_vol_cubic', 'intercept']\n",
    "predictors = ['age', 'Female', 'tiv', 'MS', 'lesion_vol_cubic', 'PRL_LEVEL', 'intercept']\n",
    "res = sm.OLS(data['volume'].astype('float'), \n",
    "             data[predictors].astype('float'), missing='drop').fit()\n",
    "\n",
    "print(res.summary())"
   ]
  },
  {
   "cell_type": "markdown",
   "metadata": {},
   "source": [
    "#### Pineal\n",
    "\n",
    "##### MS vs not-MS\n",
    "\n",
    "Note: this is significant for MS vs Not-MS, but not when adding disease duration as a covariate"
   ]
  },
  {
   "cell_type": "code",
   "execution_count": 28,
   "metadata": {},
   "outputs": [
    {
     "name": "stdout",
     "output_type": "stream",
     "text": [
      "                            OLS Regression Results                            \n",
      "==============================================================================\n",
      "Dep. Variable:                 volume   R-squared:                       0.017\n",
      "Model:                            OLS   Adj. R-squared:                  0.007\n",
      "Method:                 Least Squares   F-statistic:                     1.677\n",
      "Date:                Thu, 06 Feb 2025   Prob (F-statistic):              0.139\n",
      "Time:                        18:32:34   Log-Likelihood:                -2864.7\n",
      "No. Observations:                 479   AIC:                             5741.\n",
      "Df Residuals:                     473   BIC:                             5766.\n",
      "Df Model:                           5                                         \n",
      "Covariance Type:            nonrobust                                         \n",
      "==============================================================================\n",
      "                 coef    std err          t      P>|t|      [0.025      0.975]\n",
      "------------------------------------------------------------------------------\n",
      "age           -0.3214      0.358     -0.897      0.370      -1.026       0.383\n",
      "Male          -7.8058     12.882     -0.606      0.545     -33.119      17.508\n",
      "tiv          4.46e-05   4.03e-05      1.106      0.269   -3.47e-05       0.000\n",
      "WITH           0.9945      9.103      0.109      0.913     -16.892      18.881\n",
      "MS           -28.7708     12.319     -2.335      0.020     -52.977      -4.564\n",
      "intercept    217.2511     66.040      3.290      0.001      87.484     347.019\n",
      "==============================================================================\n",
      "Omnibus:                      299.040   Durbin-Watson:                   1.861\n",
      "Prob(Omnibus):                  0.000   Jarque-Bera (JB):             7058.895\n",
      "Skew:                           2.256   Prob(JB):                         0.00\n",
      "Kurtosis:                      21.257   Cond. No.                     2.28e+07\n",
      "==============================================================================\n",
      "\n",
      "Notes:\n",
      "[1] Standard Errors assume that the covariance matrix of the errors is correctly specified.\n",
      "[2] The condition number is large, 2.28e+07. This might indicate that there are\n",
      "strong multicollinearity or other numerical problems.\n"
     ]
    }
   ],
   "source": [
    "volume = 'pineal_volume'\n",
    "\n",
    "data = df[['dz_type2', 'age', 'sex', 'tiv', 'flair_contrast', 'dzdur', volume, 'PRL_LEVEL', 'lesion_vol_cubic']]\n",
    "data = data.rename(columns={volume: 'volume'})\n",
    "data = data[data['dz_type2'].isin(['MS', '!MS'])]\n",
    "data = data[data['flair_contrast'].isin(['WITH', 'WITHOUT'])]\n",
    "\n",
    "data = pd.concat((\n",
    "    data,\n",
    "    pd.get_dummies(data['dz_type2']),\n",
    "    pd.get_dummies(data['flair_contrast']),\n",
    "    pd.get_dummies(data['sex'])), axis=1)\n",
    "data['intercept'] = 1\n",
    "\n",
    "predictors = ['age', 'Male', 'tiv', 'WITH', 'MS', 'intercept']\n",
    "\n",
    "res = sm.OLS(data['volume'].astype('float'), \n",
    "             data[predictors].astype('float'), missing='drop').fit()\n",
    "\n",
    "print(res.summary())"
   ]
  },
  {
   "cell_type": "markdown",
   "metadata": {},
   "source": [
    "##### MS vs NIND vs OIND\n",
    "\n",
    "Note: this is significant for MS vs Not-MS, but not when adding disease duration as a covariate"
   ]
  },
  {
   "cell_type": "code",
   "execution_count": 29,
   "metadata": {},
   "outputs": [
    {
     "name": "stdout",
     "output_type": "stream",
     "text": [
      "                            OLS Regression Results                            \n",
      "==============================================================================\n",
      "Dep. Variable:                 volume   R-squared:                       0.027\n",
      "Model:                            OLS   Adj. R-squared:                  0.014\n",
      "Method:                 Least Squares   F-statistic:                     2.154\n",
      "Date:                Thu, 06 Feb 2025   Prob (F-statistic):             0.0463\n",
      "Time:                        18:32:34   Log-Likelihood:                -2851.2\n",
      "No. Observations:                 477   AIC:                             5716.\n",
      "Df Residuals:                     470   BIC:                             5746.\n",
      "Df Model:                           6                                         \n",
      "Covariance Type:            nonrobust                                         \n",
      "==============================================================================\n",
      "                 coef    std err          t      P>|t|      [0.025      0.975]\n",
      "------------------------------------------------------------------------------\n",
      "age           -0.3337      0.360     -0.927      0.354      -1.041       0.373\n",
      "Female         7.0187     12.866      0.546      0.586     -18.263      32.300\n",
      "tiv         4.058e-05   4.03e-05      1.007      0.315   -3.86e-05       0.000\n",
      "WITH           0.8724      9.092      0.096      0.924     -16.994      18.739\n",
      "MS           -49.2594     15.749     -3.128      0.002     -80.206     -18.312\n",
      "OIND         -43.8730     23.047     -1.904      0.058     -89.161       1.415\n",
      "intercept    237.2255     74.760      3.173      0.002      90.319     384.132\n",
      "==============================================================================\n",
      "Omnibus:                      284.281   Durbin-Watson:                   1.862\n",
      "Prob(Omnibus):                  0.000   Jarque-Bera (JB):             6072.623\n",
      "Skew:                           2.141   Prob(JB):                         0.00\n",
      "Kurtosis:                      19.947   Cond. No.                     2.59e+07\n",
      "==============================================================================\n",
      "\n",
      "Notes:\n",
      "[1] Standard Errors assume that the covariance matrix of the errors is correctly specified.\n",
      "[2] The condition number is large, 2.59e+07. This might indicate that there are\n",
      "strong multicollinearity or other numerical problems.\n"
     ]
    }
   ],
   "source": [
    "volume = 'pineal_volume'\n",
    "\n",
    "data = df[['dz_type3', 'age', 'sex', 'tiv', 'flair_contrast', 'dzdur', volume]]\n",
    "data = data.rename(columns={volume: 'volume'})\n",
    "data = data[data['dz_type3'].isin(['MS', 'OIND', 'NIND'])]\n",
    "data = data[data['flair_contrast'].isin(['WITH', 'WITHOUT'])]\n",
    "\n",
    "data = pd.concat((\n",
    "    data,\n",
    "    pd.get_dummies(data['dz_type3']),\n",
    "    pd.get_dummies(data['flair_contrast']),\n",
    "    pd.get_dummies(data['sex'])), axis=1)\n",
    "data['intercept'] = 1\n",
    "\n",
    "predictors = ['age', 'Female', 'tiv', 'WITH', 'MS', 'OIND', 'intercept']\n",
    "\n",
    "res = sm.OLS(data['volume'].astype('float'), \n",
    "             data[predictors].astype('float'), missing='drop').fit()\n",
    "\n",
    "print(res.summary())"
   ]
  },
  {
   "cell_type": "markdown",
   "metadata": {},
   "source": [
    "##### PMS v RMS"
   ]
  },
  {
   "cell_type": "code",
   "execution_count": 30,
   "metadata": {},
   "outputs": [
    {
     "name": "stdout",
     "output_type": "stream",
     "text": [
      "                            OLS Regression Results                            \n",
      "==============================================================================\n",
      "Dep. Variable:                 volume   R-squared:                       0.028\n",
      "Model:                            OLS   Adj. R-squared:                  0.015\n",
      "Method:                 Least Squares   F-statistic:                     2.236\n",
      "Date:                Thu, 06 Feb 2025   Prob (F-statistic):             0.0387\n",
      "Time:                        18:32:42   Log-Likelihood:                -2850.9\n",
      "No. Observations:                 477   AIC:                             5716.\n",
      "Df Residuals:                     470   BIC:                             5745.\n",
      "Df Model:                           6                                         \n",
      "Covariance Type:            nonrobust                                         \n",
      "==============================================================================\n",
      "                 coef    std err          t      P>|t|      [0.025      0.975]\n",
      "------------------------------------------------------------------------------\n",
      "age           -0.2325      0.388     -0.599      0.549      -0.995       0.530\n",
      "Female         5.4307     13.059      0.416      0.678     -20.231      31.093\n",
      "tiv         3.899e-05   4.03e-05      0.967      0.334   -4.03e-05       0.000\n",
      "RMS          -47.4818     15.935     -2.980      0.003     -78.795     -16.169\n",
      "PMS          -56.6433     18.832     -3.008      0.003     -93.649     -19.638\n",
      "OIND         -44.3699     23.035     -1.926      0.055     -89.635       0.895\n",
      "intercept    236.6719     74.538      3.175      0.002      90.202     383.141\n",
      "==============================================================================\n",
      "Omnibus:                      283.200   Durbin-Watson:                   1.858\n",
      "Prob(Omnibus):                  0.000   Jarque-Bera (JB):             6016.534\n",
      "Skew:                           2.131   Prob(JB):                         0.00\n",
      "Kurtosis:                      19.869   Cond. No.                     2.59e+07\n",
      "==============================================================================\n",
      "\n",
      "Notes:\n",
      "[1] Standard Errors assume that the covariance matrix of the errors is correctly specified.\n",
      "[2] The condition number is large, 2.59e+07. This might indicate that there are\n",
      "strong multicollinearity or other numerical problems.\n"
     ]
    }
   ],
   "source": [
    "volume = 'pineal_volume'\n",
    "\n",
    "data = df[['dz_type5', 'age', 'sex', 'tiv', 'flair_contrast', 'dzdur', volume, 'PRL_LEVEL', 'lesion_vol_cubic']]\n",
    "data = data.rename(columns={volume: 'volume'})\n",
    "data = data[data['dz_type5'].isin(['RMS', 'PMS', 'NIND', 'OIND'])]\n",
    "data = data[data['flair_contrast'].isin(['WITH', 'WITHOUT'])]\n",
    "\n",
    "data = pd.concat((\n",
    "    data,\n",
    "    pd.get_dummies(data['dz_type5']),\n",
    "    pd.get_dummies(data['flair_contrast']),\n",
    "    pd.get_dummies(data['sex'])), axis=1)\n",
    "data['intercept'] = 1\n",
    "\n",
    "predictors = ['age', 'Female', 'tiv', 'PMS', 'RMS', 'OIND', 'intercept']\n",
    "predictors = ['age', 'Female', 'tiv', 'RMS', 'PMS', 'OIND', 'intercept']\n",
    "\n",
    "res = sm.OLS(data['volume'].astype('float'), \n",
    "             data[predictors].astype('float'), missing='drop').fit()\n",
    "\n",
    "print(res.summary())"
   ]
  },
  {
   "cell_type": "markdown",
   "metadata": {},
   "source": [
    "#### Pituitary\n",
    "\n",
    "##### MS vs not-MS"
   ]
  },
  {
   "cell_type": "code",
   "execution_count": 33,
   "metadata": {},
   "outputs": [
    {
     "name": "stdout",
     "output_type": "stream",
     "text": [
      "                            OLS Regression Results                            \n",
      "==============================================================================\n",
      "Dep. Variable:                 volume   R-squared:                       0.074\n",
      "Model:                            OLS   Adj. R-squared:                  0.065\n",
      "Method:                 Least Squares   F-statistic:                     7.593\n",
      "Date:                Wed, 29 Jan 2025   Prob (F-statistic):           7.10e-07\n",
      "Time:                        15:34:20   Log-Likelihood:                -2995.1\n",
      "No. Observations:                 479   AIC:                             6002.\n",
      "Df Residuals:                     473   BIC:                             6027.\n",
      "Df Model:                           5                                         \n",
      "Covariance Type:            nonrobust                                         \n",
      "==============================================================================\n",
      "                 coef    std err          t      P>|t|      [0.025      0.975]\n",
      "------------------------------------------------------------------------------\n",
      "age           -1.4413      0.470     -3.064      0.002      -2.366      -0.517\n",
      "Male         -78.0587     16.914     -4.615      0.000    -111.294     -44.823\n",
      "tiv            0.0001    5.3e-05      1.994      0.047    1.53e-06       0.000\n",
      "WITH         -12.3822     11.951     -1.036      0.301     -35.866      11.102\n",
      "MS            -1.0461     16.174     -0.065      0.948     -32.828      30.736\n",
      "intercept    622.7388     86.707      7.182      0.000     452.360     793.118\n",
      "==============================================================================\n",
      "Omnibus:                       32.956   Durbin-Watson:                   1.952\n",
      "Prob(Omnibus):                  0.000   Jarque-Bera (JB):               85.237\n",
      "Skew:                          -0.314   Prob(JB):                     3.10e-19\n",
      "Kurtosis:                       4.969   Cond. No.                     2.28e+07\n",
      "==============================================================================\n",
      "\n",
      "Notes:\n",
      "[1] Standard Errors assume that the covariance matrix of the errors is correctly specified.\n",
      "[2] The condition number is large, 2.28e+07. This might indicate that there are\n",
      "strong multicollinearity or other numerical problems.\n"
     ]
    }
   ],
   "source": [
    "volume = 'pituitary_volume'\n",
    "\n",
    "data = df[['dz_type2', 'age', 'sex', 'tiv', 'flair_contrast', 'dzdur', volume]]\n",
    "data = data.rename(columns={volume: 'volume'})\n",
    "data = data[data['dz_type2'].isin(['MS', '!MS'])]\n",
    "data = data[data['flair_contrast'].isin(['WITH', 'WITHOUT'])]\n",
    "\n",
    "data = pd.concat((\n",
    "    data,\n",
    "    pd.get_dummies(data['dz_type2']),\n",
    "    pd.get_dummies(data['flair_contrast']),\n",
    "    pd.get_dummies(data['sex'])), axis=1)\n",
    "data['intercept'] = 1\n",
    "\n",
    "predictors = ['age', 'Male', 'tiv', 'WITH', 'MS', 'intercept']\n",
    "\n",
    "res = sm.OLS(data['volume'].astype('float'), \n",
    "             data[predictors].astype('float'), missing='drop').fit()\n",
    "\n",
    "print(res.summary())"
   ]
  },
  {
   "cell_type": "markdown",
   "metadata": {},
   "source": [
    "##### MS vs NIND vs OIND"
   ]
  },
  {
   "cell_type": "code",
   "execution_count": 34,
   "metadata": {},
   "outputs": [
    {
     "name": "stdout",
     "output_type": "stream",
     "text": [
      "                            OLS Regression Results                            \n",
      "==============================================================================\n",
      "Dep. Variable:                 volume   R-squared:                       0.078\n",
      "Model:                            OLS   Adj. R-squared:                  0.066\n",
      "Method:                 Least Squares   F-statistic:                     6.599\n",
      "Date:                Wed, 29 Jan 2025   Prob (F-statistic):           1.04e-06\n",
      "Time:                        15:34:20   Log-Likelihood:                -2982.6\n",
      "No. Observations:                 477   AIC:                             5979.\n",
      "Df Residuals:                     470   BIC:                             6008.\n",
      "Df Model:                           6                                         \n",
      "Covariance Type:            nonrobust                                         \n",
      "==============================================================================\n",
      "                 coef    std err          t      P>|t|      [0.025      0.975]\n",
      "------------------------------------------------------------------------------\n",
      "age           -1.4815      0.474     -3.126      0.002      -2.413      -0.550\n",
      "Female        78.7988     16.949      4.649      0.000      45.494     112.103\n",
      "tiv            0.0001   5.31e-05      2.054      0.041    4.74e-06       0.000\n",
      "WITH         -12.0551     11.978     -1.006      0.315     -35.591      11.481\n",
      "MS            15.7240     20.747      0.758      0.449     -25.043      56.491\n",
      "OIND          39.4164     30.361      1.298      0.195     -20.243      99.076\n",
      "intercept    523.8743     98.484      5.319      0.000     330.350     717.398\n",
      "==============================================================================\n",
      "Omnibus:                       33.039   Durbin-Watson:                   1.947\n",
      "Prob(Omnibus):                  0.000   Jarque-Bera (JB):               90.077\n",
      "Skew:                          -0.295   Prob(JB):                     2.75e-20\n",
      "Kurtosis:                       5.046   Cond. No.                     2.59e+07\n",
      "==============================================================================\n",
      "\n",
      "Notes:\n",
      "[1] Standard Errors assume that the covariance matrix of the errors is correctly specified.\n",
      "[2] The condition number is large, 2.59e+07. This might indicate that there are\n",
      "strong multicollinearity or other numerical problems.\n"
     ]
    }
   ],
   "source": [
    "volume = 'pituitary_volume'\n",
    "\n",
    "data = df[['dz_type3', 'age', 'sex', 'tiv', 'flair_contrast', 'dzdur', volume]]\n",
    "data = data.rename(columns={volume: 'volume'})\n",
    "data = data[data['dz_type3'].isin(['MS', 'OIND', 'NIND'])]\n",
    "data = data[data['flair_contrast'].isin(['WITH', 'WITHOUT'])]\n",
    "\n",
    "data = pd.concat((\n",
    "    data,\n",
    "    pd.get_dummies(data['dz_type3']),\n",
    "    pd.get_dummies(data['flair_contrast']),\n",
    "    pd.get_dummies(data['sex'])), axis=1)\n",
    "data['intercept'] = 1\n",
    "\n",
    "predictors = ['age', 'Female', 'tiv', 'WITH', 'MS', 'OIND', 'intercept']\n",
    "\n",
    "res = sm.OLS(data['volume'].astype('float'), \n",
    "             data[predictors].astype('float'), missing='drop').fit()\n",
    "\n",
    "print(res.summary())"
   ]
  },
  {
   "cell_type": "markdown",
   "metadata": {},
   "source": [
    "##### PMS v RMS"
   ]
  },
  {
   "cell_type": "code",
   "execution_count": 35,
   "metadata": {},
   "outputs": [
    {
     "name": "stdout",
     "output_type": "stream",
     "text": [
      "                            OLS Regression Results                            \n",
      "==============================================================================\n",
      "Dep. Variable:                 volume   R-squared:                       0.079\n",
      "Model:                            OLS   Adj. R-squared:                  0.063\n",
      "Method:                 Least Squares   F-statistic:                     4.967\n",
      "Date:                Wed, 29 Jan 2025   Prob (F-statistic):           6.41e-06\n",
      "Time:                        15:34:20   Log-Likelihood:                -2970.7\n",
      "No. Observations:                 475   AIC:                             5959.\n",
      "Df Residuals:                     466   BIC:                             5997.\n",
      "Df Model:                           8                                         \n",
      "Covariance Type:            nonrobust                                         \n",
      "====================================================================================\n",
      "                       coef    std err          t      P>|t|      [0.025      0.975]\n",
      "------------------------------------------------------------------------------------\n",
      "age                 -1.1982      0.546     -2.193      0.029      -2.272      -0.124\n",
      "Female              77.7125     17.298      4.493      0.000      43.721     111.704\n",
      "tiv                  0.0001   5.36e-05      1.910      0.057   -2.94e-06       0.000\n",
      "RMS                 14.5658     21.520      0.677      0.499     -27.723      56.855\n",
      "PMS                  7.6593     25.616      0.299      0.765     -42.677      57.996\n",
      "OIND                38.7697     30.502      1.271      0.204     -21.168      98.707\n",
      "PRL_LEVEL           10.5988      9.616      1.102      0.271      -8.296      29.494\n",
      "lesion_vol_cubic    -3.0705      7.757     -0.396      0.692     -18.313      12.172\n",
      "intercept          516.7708     98.595      5.241      0.000     323.024     710.517\n",
      "==============================================================================\n",
      "Omnibus:                       33.483   Durbin-Watson:                   1.949\n",
      "Prob(Omnibus):                  0.000   Jarque-Bera (JB):               91.286\n",
      "Skew:                          -0.303   Prob(JB):                     1.51e-20\n",
      "Kurtosis:                       5.060   Cond. No.                     2.58e+07\n",
      "==============================================================================\n",
      "\n",
      "Notes:\n",
      "[1] Standard Errors assume that the covariance matrix of the errors is correctly specified.\n",
      "[2] The condition number is large, 2.58e+07. This might indicate that there are\n",
      "strong multicollinearity or other numerical problems.\n"
     ]
    }
   ],
   "source": [
    "volume = 'pituitary_volume'\n",
    "\n",
    "data = df[['dz_type5', 'age', 'sex', 'tiv', 'flair_contrast', 'dzdur', volume, 'PRL_LEVEL', 'lesion_vol_cubic']]\n",
    "data = data.rename(columns={volume: 'volume'})\n",
    "data = data[data['dz_type5'].isin(['RMS', 'PMS', 'OIND', 'NIND'])]\n",
    "data = data[data['flair_contrast'].isin(['WITH', 'WITHOUT'])]\n",
    "\n",
    "data = pd.concat((\n",
    "    data,\n",
    "    pd.get_dummies(data['dz_type5']),\n",
    "    pd.get_dummies(data['flair_contrast']),\n",
    "    pd.get_dummies(data['sex'])), axis=1)\n",
    "data['intercept'] = 1\n",
    "\n",
    "predictors = ['age', 'Female', 'tiv', 'PMS', 'RMS', 'OIND', 'intercept']\n",
    "predictors = ['age', 'Female', 'tiv', 'RMS', 'PMS', 'OIND', 'PRL_LEVEL', 'lesion_vol_cubic', 'intercept']\n",
    "\n",
    "res = sm.OLS(data['volume'].astype('float'), \n",
    "             data[predictors].astype('float'), missing='drop').fit()\n",
    "\n",
    "print(res.summary())"
   ]
  },
  {
   "cell_type": "markdown",
   "metadata": {},
   "source": [
    "### Ordinal Regression on EDSS\n",
    "\n",
    "Predict EDSS score using volumes. Use MS vs OIND vs NIND as covariate (in addition to the others)"
   ]
  },
  {
   "cell_type": "code",
   "execution_count": 71,
   "metadata": {},
   "outputs": [
    {
     "name": "stdout",
     "output_type": "stream",
     "text": [
      "                            OLS Regression Results                            \n",
      "==============================================================================\n",
      "Dep. Variable:         extracted_EDSS   R-squared:                       0.255\n",
      "Model:                            OLS   Adj. R-squared:                  0.236\n",
      "Method:                 Least Squares   F-statistic:                     13.69\n",
      "Date:                Wed, 29 Jan 2025   Prob (F-statistic):           6.15e-19\n",
      "Time:                        16:45:49   Log-Likelihood:                -720.70\n",
      "No. Observations:                 370   AIC:                             1461.\n",
      "Df Residuals:                     360   BIC:                             1501.\n",
      "Df Model:                           9                                         \n",
      "Covariance Type:            nonrobust                                         \n",
      "====================================================================================\n",
      "                       coef    std err          t      P>|t|      [0.025      0.975]\n",
      "------------------------------------------------------------------------------------\n",
      "age                  0.0391      0.010      3.934      0.000       0.020       0.059\n",
      "Female              -0.4015      0.265     -1.513      0.131      -0.923       0.120\n",
      "tiv              -9.111e-07   8.37e-07     -1.089      0.277   -2.56e-06    7.34e-07\n",
      "PRL_LEVEL            0.3340      0.141      2.364      0.019       0.056       0.612\n",
      "lesion_vol_cubic     0.3214      0.123      2.617      0.009       0.080       0.563\n",
      "choroid_volume    7.177e-05      0.000      0.442      0.659      -0.000       0.000\n",
      "pineal_volume     8.596e-05      0.001      0.080      0.936      -0.002       0.002\n",
      "pituitary_volume    -0.0006      0.001     -0.863      0.389      -0.002       0.001\n",
      "dzdur                0.0417      0.012      3.621      0.000       0.019       0.064\n",
      "intercept            1.6133      1.516      1.064      0.288      -1.368       4.595\n",
      "==============================================================================\n",
      "Omnibus:                       37.896   Durbin-Watson:                   2.080\n",
      "Prob(Omnibus):                  0.000   Jarque-Bera (JB):               46.716\n",
      "Skew:                           0.855   Prob(JB):                     7.17e-11\n",
      "Kurtosis:                       3.321   Cond. No.                     2.56e+07\n",
      "==============================================================================\n",
      "\n",
      "Notes:\n",
      "[1] Standard Errors assume that the covariance matrix of the errors is correctly specified.\n",
      "[2] The condition number is large, 2.56e+07. This might indicate that there are\n",
      "strong multicollinearity or other numerical problems.\n"
     ]
    }
   ],
   "source": [
    "data = df[\n",
    "    [\n",
    "        \"dz_type3\",\n",
    "        \"dz_type\",\n",
    "        \"age\",\n",
    "        \"sex\",\n",
    "        \"tiv\",\n",
    "        \"flair_contrast\",\n",
    "        \"extracted_EDSS\",\n",
    "        \"ARMSS\",\n",
    "        \"PRL_LEVEL\",\n",
    "        \"lesion_vol_cubic\",\n",
    "        \"MSSS\",\n",
    "        \"choroid_volume\",\n",
    "        \"pineal_volume\",\n",
    "        \"pituitary_volume\",\n",
    "        \"thalamus\",\n",
    "        \"brain\",\n",
    "        \"cortical_thickness\",\n",
    "        \"dzdur\"\n",
    "    ]\n",
    "]\n",
    "data = data[data[\"dz_type3\"].isin([\"MS\"])]\n",
    "data.loc[:, [\"dz_type3_factor\"]], _ = data[\"dz_type3\"].factorize(sort=False)\n",
    "\n",
    "data = data[data[\"flair_contrast\"].isin([\"WITH\", \"WITHOUT\"])]\n",
    "# df['extracted_EDSS'] = df['extracted_EDSS'] * 2\n",
    "data.loc[data[\"extracted_EDSS\"] == \".\", \"extracted_EDSS\"] = None\n",
    "# data['extracted_EDSS'] = pd.Categorical(data['extracted_EDSS'], ordered=True)\n",
    "\n",
    "data = pd.concat(\n",
    "    (\n",
    "        data,\n",
    "        pd.get_dummies(data[\"dz_type\"]),\n",
    "        pd.get_dummies(data[\"flair_contrast\"]),\n",
    "        pd.get_dummies(data[\"sex\"]),\n",
    "    ),\n",
    "    axis=1,\n",
    ")\n",
    "data[\"intercept\"] = 1\n",
    "\n",
    "# predictors = ['age', 'Female', 'tiv', 'choroid_volume', 'pineal_volume', 'pituitary_volume', 'thalamus', 'brain', 'cortical_thickness', 'intercept']\n",
    "# predictors = ['age', 'Female', 'tiv', 'RMS', 'PRL_LEVEL', 'lesion_vol_cubic', 'choroid_volume', 'pineal_volume', 'pituitary_volume', 'thalamus', 'brain', 'cortical_thickness', 'intercept']\n",
    "\n",
    "predictors = [\n",
    "    \"age\",\n",
    "    \"Female\",\n",
    "    \"tiv\",\n",
    "    \"PRL_LEVEL\",\n",
    "    \"lesion_vol_cubic\",\n",
    "    \"choroid_volume\",\n",
    "    \"pineal_volume\",\n",
    "    \"pituitary_volume\",\n",
    "    \"dzdur\",\n",
    "    \"intercept\",\n",
    "]\n",
    "\n",
    "data = data.dropna()\n",
    "\n",
    "# mod = OrderedModel(data2['numEDSS'],\n",
    "#                    data2[predictors].astype('float'), distr='probit', disp=False)\n",
    "# res = mod.fit(method='nm')\n",
    "\n",
    "res = sm.OLS(\n",
    "    data[\"extracted_EDSS\"].astype(\"float\"), data[predictors].astype(\"float\")\n",
    ").fit(missing=\"drop\")\n",
    "\n",
    "print(res.summary())"
   ]
  },
  {
   "cell_type": "code",
   "execution_count": 67,
   "metadata": {},
   "outputs": [
    {
     "name": "stdout",
     "output_type": "stream",
     "text": [
      "                            OLS Regression Results                            \n",
      "==============================================================================\n",
      "Dep. Variable:                   MSSS   R-squared:                       0.204\n",
      "Model:                            OLS   Adj. R-squared:                  0.178\n",
      "Method:                 Least Squares   F-statistic:                     7.641\n",
      "Date:                Wed, 29 Jan 2025   Prob (F-statistic):           1.24e-12\n",
      "Time:                        16:44:57   Log-Likelihood:                -815.11\n",
      "No. Observations:                 370   AIC:                             1656.\n",
      "Df Residuals:                     357   BIC:                             1707.\n",
      "Df Model:                          12                                         \n",
      "Covariance Type:            nonrobust                                         \n",
      "======================================================================================\n",
      "                         coef    std err          t      P>|t|      [0.025      0.975]\n",
      "--------------------------------------------------------------------------------------\n",
      "age                   -0.0148      0.012     -1.183      0.238      -0.039       0.010\n",
      "Female                -0.2545      0.350     -0.727      0.468      -0.943       0.434\n",
      "tiv                 -2.76e-07   1.15e-06     -0.240      0.811   -2.54e-06    1.99e-06\n",
      "RMS                   -2.5347      0.323     -7.846      0.000      -3.170      -1.899\n",
      "PRL_LEVEL              0.4213      0.185      2.276      0.023       0.057       0.785\n",
      "lesion_vol_cubic      -0.0128      0.179     -0.072      0.943      -0.364       0.339\n",
      "choroid_volume        -0.0004      0.000     -1.511      0.132      -0.001       0.000\n",
      "pineal_volume         -0.0003      0.001     -0.224      0.823      -0.003       0.002\n",
      "pituitary_volume      -0.0002      0.001     -0.215      0.830      -0.002       0.002\n",
      "thalamus              -0.0808      0.080     -1.004      0.316      -0.239       0.077\n",
      "brain                  0.0015      0.002      0.726      0.468      -0.003       0.006\n",
      "cortical_thickness    -1.0619      1.452     -0.731      0.465      -3.918       1.794\n",
      "intercept              9.1071      4.103      2.220      0.027       1.039      17.176\n",
      "==============================================================================\n",
      "Omnibus:                       31.814   Durbin-Watson:                   2.021\n",
      "Prob(Omnibus):                  0.000   Jarque-Bera (JB):               37.586\n",
      "Skew:                           0.765   Prob(JB):                     6.89e-09\n",
      "Kurtosis:                       3.308   Cond. No.                     5.46e+07\n",
      "==============================================================================\n",
      "\n",
      "Notes:\n",
      "[1] Standard Errors assume that the covariance matrix of the errors is correctly specified.\n",
      "[2] The condition number is large, 5.46e+07. This might indicate that there are\n",
      "strong multicollinearity or other numerical problems.\n"
     ]
    }
   ],
   "source": [
    "data = df[['dz_type3', 'dz_type', 'age', 'sex', 'tiv', 'flair_contrast', 'extracted_EDSS', 'ARMSS', 'PRL_LEVEL', \"lesion_vol_cubic\",\n",
    "           'MSSS', 'choroid_volume', 'pineal_volume', 'pituitary_volume', 'thalamus', 'brain', 'cortical_thickness']]\n",
    "data = data[data['dz_type3'].isin(['MS'])]\n",
    "data.loc[:, ['dz_type3_factor']], _ = data['dz_type3'].factorize(sort=False)\n",
    "\n",
    "data = data[data['flair_contrast'].isin(['WITH', 'WITHOUT'])]\n",
    "# df['extracted_EDSS'] = df['extracted_EDSS'] * 2\n",
    "data.loc[data['extracted_EDSS'] == \".\", \"extracted_EDSS\"] = None\n",
    "# data['extracted_EDSS'] = pd.Categorical(data['extracted_EDSS'], ordered=True)\n",
    "\n",
    "data = pd.concat((\n",
    "    data,\n",
    "    pd.get_dummies(data['dz_type']),\n",
    "    pd.get_dummies(data['flair_contrast']),\n",
    "    pd.get_dummies(data['sex'])), axis=1)\n",
    "data['intercept'] = 1\n",
    "\n",
    "# predictors = ['age', 'Female', 'tiv', 'choroid_volume', 'pineal_volume', 'pituitary_volume', 'thalamus', 'brain', 'cortical_thickness', 'intercept']\n",
    "predictors = ['age', 'Female', 'tiv', 'RMS', 'PRL_LEVEL', 'lesion_vol_cubic', 'choroid_volume', 'pineal_volume', 'pituitary_volume', 'thalamus', 'brain', 'cortical_thickness', 'intercept']\n",
    "\n",
    "data = data.dropna()\n",
    "\n",
    "# mod = OrderedModel(data2['numEDSS'], \n",
    "#                    data2[predictors].astype('float'), distr='probit', disp=False)\n",
    "# res = mod.fit(method='nm')\n",
    "\n",
    "res = sm.OLS(data['MSSS'].astype('float'), \n",
    "             data[predictors].astype('float')).fit(missing='drop')\n",
    "\n",
    "print(res.summary())"
   ]
  },
  {
   "cell_type": "markdown",
   "metadata": {},
   "source": [
    "### JASP Data"
   ]
  },
  {
   "cell_type": "code",
   "execution_count": 58,
   "metadata": {},
   "outputs": [
    {
     "name": "stderr",
     "output_type": "stream",
     "text": [
      "/tmp/ipykernel_4998/1750535439.py:34: FutureWarning: Setting an item of incompatible dtype is deprecated and will raise an error in a future version of pandas. Value '1' has dtype incompatible with bool, please explicitly cast to a compatible dtype first.\n",
      "  df_jasp.loc[i, 'Female'] = 1\n",
      "/tmp/ipykernel_4998/1750535439.py:41: FutureWarning: Setting an item of incompatible dtype is deprecated and will raise an error in a future version of pandas. Value '0' has dtype incompatible with bool, please explicitly cast to a compatible dtype first.\n",
      "  df_jasp.loc[i, 'Male'] = 0\n"
     ]
    }
   ],
   "source": [
    "columns = [\n",
    "    \"dz_type\",\n",
    "    \"dz_type2\",\n",
    "    \"dz_type3\",\n",
    "    \"dz_type4\",\n",
    "    \"dz_type5\",\n",
    "    \"age\",\n",
    "    \"sex\",\n",
    "    \"tiv\",\n",
    "    \"flair_contrast\",\n",
    "    \"extracted_EDSS\",\n",
    "    \"ARMSS\",\n",
    "    \"PRL_LEVEL\",\n",
    "    \"lesion_vol_cubic\",\n",
    "    \"MSSS\",\n",
    "    \"choroid_volume\",\n",
    "    \"pineal_volume\",\n",
    "    \"pituitary_volume\",\n",
    "    \"thalamus\",\n",
    "    \"brain\",\n",
    "    \"cortical_thickness\",\n",
    "    \"dzdur\"\n",
    "]\n",
    "df_jasp = df[columns]\n",
    "df_jasp = pd.concat((\n",
    "    df_jasp,\n",
    "    pd.get_dummies(df_jasp['sex'])),\n",
    "    axis=1\n",
    ")\n",
    "df_jasp = df_jasp.loc[df_jasp['dzdur'] != \".\", :]\n",
    "\n",
    "for i, row in df_jasp.iterrows():\n",
    "    if row['Female']:\n",
    "        df_jasp.loc[i, 'Female'] = 1\n",
    "    else:\n",
    "        df_jasp.loc[i, 'Female'] = 0\n",
    "    \n",
    "    if row['Male']:\n",
    "        df_jasp.loc[i, 'Male'] = 1\n",
    "    else:\n",
    "        df_jasp.loc[i, 'Male'] = 0"
   ]
  },
  {
   "cell_type": "code",
   "execution_count": 59,
   "metadata": {},
   "outputs": [],
   "source": [
    "jasp_dir = Path(\"/home/srs-9/Projects/ms_mri/monai_analysis/choroid_pineal_pituitary_T1-1/jasp_data\")\n",
    "\n",
    "df_jasp.to_csv(jasp_dir / \"dataframe.csv\")"
   ]
  },
  {
   "cell_type": "code",
   "execution_count": 60,
   "metadata": {},
   "outputs": [
    {
     "data": {
      "text/plain": [
       "array(['MS', 'NIND', 'UNK', 'HC', 'OIND', 'RIS'], dtype=object)"
      ]
     },
     "execution_count": 60,
     "metadata": {},
     "output_type": "execute_result"
    }
   ],
   "source": [
    "df['dz_type3'].unique()"
   ]
  },
  {
   "cell_type": "code",
   "execution_count": 61,
   "metadata": {},
   "outputs": [],
   "source": [
    "df_jasp3 = df_jasp[df_jasp['dz_type3'].isin([\"MS\", \"NIND\", \"OIND\"])]\n",
    "df_jasp5 = df_jasp[df_jasp['dz_type5'].isin([\"RMS\", \"PMS\", \"NIND\", \"OIND\"])]\n",
    "df_jasp_ms = df_jasp[df_jasp['dz_type5'].isin([\"RMS\", \"PMS\"])]\n",
    "\n",
    "df_jasp3.to_csv(jasp_dir / \"dataframe3.csv\")\n",
    "df_jasp5.to_csv(jasp_dir / \"dataframe5.csv\")\n",
    "df_jasp_ms.to_csv(jasp_dir / \"dataframeMS.csv\")"
   ]
  },
  {
   "cell_type": "code",
   "execution_count": null,
   "metadata": {},
   "outputs": [],
   "source": []
  }
 ],
 "metadata": {
  "kernelspec": {
   "display_name": "monai",
   "language": "python",
   "name": "python3"
  },
  "language_info": {
   "codemirror_mode": {
    "name": "ipython",
    "version": 3
   },
   "file_extension": ".py",
   "mimetype": "text/x-python",
   "name": "python",
   "nbconvert_exporter": "python",
   "pygments_lexer": "ipython3",
   "version": "3.12.4"
  }
 },
 "nbformat": 4,
 "nbformat_minor": 2
}
