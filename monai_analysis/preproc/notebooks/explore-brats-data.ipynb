{
 "cells": [
  {
   "cell_type": "code",
<<<<<<< HEAD
   "execution_count": 1,
=======
   "execution_count": null,
>>>>>>> cdabfc7046338f620cceb96f7cc366f12c83a489
   "metadata": {},
   "outputs": [],
   "source": [
    "import importlib\n",
    "import os\n",
    "import re\n",
    "import sys\n",
    "from collections import defaultdict, namedtuple\n",
    "from dataclasses import dataclass, fields, asdict\n",
    "from pathlib import Path\n",
    "\n",
    "import nibabel as nib\n",
    "import numpy as np"
   ]
  },
  {
   "cell_type": "code",
<<<<<<< HEAD
   "execution_count": 2,
=======
   "execution_count": null,
>>>>>>> cdabfc7046338f620cceb96f7cc366f12c83a489
   "metadata": {},
   "outputs": [],
   "source": [
    "PREPROC_DIR = \"/home/srs-9/Dev/ms_mri/monai/preproc\"\n",
    "sys.path.append(PREPROC_DIR)\n",
    "import data_file_manager as datafm\n",
    "import hemond_data as hd\n",
    "from record import DataSet"
   ]
  },
  {
   "cell_type": "code",
<<<<<<< HEAD
   "execution_count": 3,
=======
   "execution_count": null,
>>>>>>> cdabfc7046338f620cceb96f7cc366f12c83a489
   "metadata": {},
   "outputs": [],
   "source": [
    "def load_scan(scan_path: Path) -> np.ndarray:\n",
    "    img = nib.load(scan_path)\n",
    "    return np.array(img.dataobj)"
   ]
  },
  {
   "cell_type": "code",
<<<<<<< HEAD
   "execution_count": 6,
=======
   "execution_count": null,
>>>>>>> cdabfc7046338f620cceb96f7cc366f12c83a489
   "metadata": {},
   "outputs": [],
   "source": [
    "data_dir = Path(\"/mnt/e/Data/Brats_3d_seg/Task01_BrainTumour\")\n",
    "train_dir = data_dir / \"imagesTr\"\n",
    "test_dir = data_dir / \"imagesTs\"\n",
    "\n",
    "train_data_paths = [file.path for file in os.scandir(train_dir) if not re.match(r\"^\\._\", file.name)]\n",
    "test_data_paths = [file.path for file in os.scandir(test_dir) if not re.match(r\"^\\._\", file.name)]"
   ]
  },
  {
   "cell_type": "code",
   "execution_count": null,
   "metadata": {},
   "outputs": [
    {
     "name": "stdout",
     "output_type": "stream",
     "text": [
      "(240, 240, 155, 4)\n"
     ]
    }
   ],
   "source": [
    "check = load_scan(train_data_paths[50])\n",
    "print(check.shape)"
   ]
  }
 ],
 "metadata": {
  "language_info": {
   "name": "python"
  }
 },
 "nbformat": 4,
 "nbformat_minor": 2
}
