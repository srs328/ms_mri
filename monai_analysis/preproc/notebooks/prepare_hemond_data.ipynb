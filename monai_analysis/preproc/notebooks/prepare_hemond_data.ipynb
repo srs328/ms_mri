{
 "cells": [
  {
   "cell_type": "code",
   "execution_count": 1,
   "metadata": {},
   "outputs": [],
   "source": [
    "import importlib\n",
    "import os\n",
    "import re\n",
    "import sys\n",
    "from collections import defaultdict, namedtuple\n",
    "from dataclasses import dataclass, fields, asdict\n",
    "from pathlib import Path\n",
    "from monai_analysis.preproc import hemond_data, init_paths, prepare_scans"
   ]
  },
  {
   "cell_type": "markdown",
   "metadata": {},
   "source": [
    "Initialize paths (depends on what machine I'm running from)"
   ]
  },
  {
   "cell_type": "code",
   "execution_count": 2,
   "metadata": {},
   "outputs": [],
   "source": [
    "init_paths.main()\n",
    "from monai_analysis.preproc.init_paths import DATA_HOME"
   ]
  },
  {
   "cell_type": "markdown",
   "metadata": {},
   "source": [
    "Reload modules if I make any changes\n",
    "- Double check that if I edit record.py, that reloading hd would reload those changes too, or if I need to use reload recursive"
   ]
  },
  {
   "cell_type": "code",
   "execution_count": 3,
   "metadata": {},
   "outputs": [
    {
     "data": {
      "text/plain": [
       "<module 'monai_analysis.preproc.prepare_scans' from '/home/srs-9/Dev/ms_mri/monai_analysis/preproc/prepare_scans.py'>"
      ]
     },
     "execution_count": 3,
     "metadata": {},
     "output_type": "execute_result"
    }
   ],
   "source": [
    "importlib.reload(hemond_data)\n",
    "importlib.reload(prepare_scans)"
   ]
  },
  {
   "cell_type": "code",
   "execution_count": 4,
   "metadata": {},
   "outputs": [
    {
     "name": "stderr",
     "output_type": "stream",
     "text": [
      "/home/srs-9/Dev/ms_mri/monai_analysis/preproc/hemond_data.py:65: UserWarning: No scan exists for subject: 1492 and session: 20190620\n",
      "  warnings.warn(\n"
     ]
    },
    {
     "data": {
      "text/plain": [
       "Scan(subid='1001', date='20170215', image=PosixPath('/mnt/t/Data/MONAI/flair/sub-ms1001_ses-20170215.nii.gz'), label=PosixPath('/mnt/t/Data/MONAI/flair/labels/sub-ms1001_ses-20170215.nii.gz'), cond='tr', modality=None)"
      ]
     },
     "execution_count": 4,
     "metadata": {},
     "output_type": "execute_result"
    }
   ],
   "source": [
    "# HaemondData = hemond_data.HaemondData\n",
    "dataset = hemond_data.scan_data_dir(DATA_HOME)\n",
    "dataset = hemond_data.assign_conditions(dataset)"
   ]
  },
  {
   "cell_type": "code",
   "execution_count": 9,
   "metadata": {},
   "outputs": [
    {
     "name": "stdout",
     "output_type": "stream",
     "text": [
      "(240, 300, 300)\n",
      "(239, 300, 300)\n",
      "(210, 300, 300)\n",
      "(240, 300, 300)\n",
      "(210, 300, 300)\n",
      "(240, 300, 300)\n",
      "(240, 300, 300)\n",
      "(210, 300, 300)\n",
      "(240, 300, 300)\n",
      "(240, 300, 300)\n"
     ]
    }
   ],
   "source": [
    "for i in range(10):\n",
    "    nii_image = prepare_scans.load_scan(dataset[i].image)\n",
    "    print(nii_image.shape)"
   ]
  },
  {
   "cell_type": "code",
   "execution_count": null,
   "metadata": {},
   "outputs": [],
   "source": []
  },
  {
   "cell_type": "code",
   "execution_count": 6,
   "metadata": {},
   "outputs": [],
   "source": [
    "training_data = []\n",
    "test_data = []\n",
    "\n",
    "for scan in dataset:\n",
    "    if scan.cond == 'tr':\n",
    "        training_data.append({\"image\": scan.image, \"label\": scan.label})\n",
    "    elif scan.cond == 'ts':\n",
    "        test_data.append(scan.image)"
   ]
  },
  {
   "cell_type": "code",
   "execution_count": null,
   "metadata": {},
   "outputs": [],
   "source": []
  }
 ],
 "metadata": {
  "kernelspec": {
   "display_name": "monai",
   "language": "python",
   "name": "python3"
  },
  "language_info": {
   "codemirror_mode": {
    "name": "ipython",
    "version": 3
   },
   "file_extension": ".py",
   "mimetype": "text/x-python",
   "name": "python",
   "nbconvert_exporter": "python",
   "pygments_lexer": "ipython3",
   "version": "3.12.4"
  }
 },
 "nbformat": 4,
 "nbformat_minor": 2
}
