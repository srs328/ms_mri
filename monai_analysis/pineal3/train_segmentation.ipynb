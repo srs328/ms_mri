{
 "cells": [
  {
   "cell_type": "markdown",
   "id": "6b5ef0d0-d80a-49f6-93dd-50dd79b06345",
   "metadata": {
    "tags": []
   },
   "source": [
    "# Choroid Plexus Segmentation Training via Auto3DSeg"
   ]
  },
  {
   "cell_type": "code",
   "execution_count": 14,
   "id": "447dcb1b-ab8f-43b9-9439-d703a0881dc7",
   "metadata": {
    "tags": []
   },
   "outputs": [
    {
     "name": "stdout",
     "output_type": "stream",
     "text": [
      "MONAI version: 1.4.0\n",
      "Numpy version: 1.26.4\n",
      "Pytorch version: 2.5.1+cu124\n",
      "MONAI flags: HAS_EXT = False, USE_COMPILED = False, USE_META_DICT = False\n",
      "MONAI rev id: 46a5272196a6c2590ca2589029eed8e4d56ff008\n",
      "MONAI __file__: /home/<username>/.virtualenvs/monai/lib/python3.12/site-packages/monai/__init__.py\n",
      "\n",
      "Optional dependencies:\n",
      "Pytorch Ignite version: NOT INSTALLED or UNKNOWN VERSION.\n",
      "ITK version: 5.4.0\n",
      "Nibabel version: 5.3.2\n",
      "scikit-image version: 0.24.0\n",
      "scipy version: 1.14.1\n",
      "Pillow version: 11.0.0\n",
      "Tensorboard version: 2.18.0\n",
      "gdown version: 5.2.0\n",
      "TorchVision version: 0.20.1+cu124\n",
      "tqdm version: 4.66.6\n",
      "lmdb version: 1.5.1\n",
      "psutil version: 6.1.0\n",
      "pandas version: 2.2.3\n",
      "einops version: 0.8.0\n",
      "transformers version: 4.46.2\n",
      "mlflow version: 2.17.2\n",
      "pynrrd version: 1.1.1\n",
      "clearml version: 1.16.5\n",
      "\n",
      "For details about installing the optional dependencies, please visit:\n",
      "    https://docs.monai.io/en/latest/installation.html#installing-the-recommended-dependencies\n",
      "\n"
     ]
    }
   ],
   "source": [
    "import os\n",
    "import json\n",
    "import nibabel as nib\n",
    "import numpy as np\n",
    "import matplotlib.pyplot as plt\n",
    "from pathlib import Path\n",
    "import glob\n",
    "import random\n",
    "import platform\n",
    "from monai.apps.auto3dseg import AutoRunner\n",
    "from monai.config import print_config\n",
    "import importlib\n",
    "from dataclasses import asdict\n",
    "from loguru import logger\n",
    "import sys\n",
    "\n",
    "from reload_recursive import reload_recursive\n",
    "\n",
    "import mri_data\n",
    "import monai_training\n",
    "\n",
    "print_config()"
   ]
  },
  {
   "cell_type": "code",
   "execution_count": 15,
   "id": "1c1d3f18",
   "metadata": {},
   "outputs": [],
   "source": [
    "reload_recursive(monai_training)\n",
    "reload_recursive(mri_data)\n",
    "\n",
    "from mri_data.file_manager import scan_3Tpioneer_bids, filter_first_ses\n",
    "from monai_training.preprocess import DataSetProcesser\n",
    "from monai_training import training, preprocess"
   ]
  },
  {
   "cell_type": "code",
   "execution_count": 32,
   "id": "0d11d154",
   "metadata": {},
   "outputs": [
    {
     "data": {
      "text/plain": [
       "3"
      ]
     },
     "execution_count": 32,
     "metadata": {},
     "output_type": "execute_result"
    }
   ],
   "source": [
    "logger.remove()\n",
    "logger.add(sys.stderr, level=\"DEBUG\")"
   ]
  },
  {
   "cell_type": "code",
   "execution_count": 17,
   "id": "b91fa2ec",
   "metadata": {},
   "outputs": [],
   "source": [
    "load_data = False"
   ]
  },
  {
   "cell_type": "code",
   "execution_count": 18,
   "id": "074f8700",
   "metadata": {},
   "outputs": [],
   "source": [
    "hostname = platform.node()\n",
    "if hostname == \"rhinocampus\" or hostname == \"ryzen9\":\n",
    "    drive_root = Path(\"/media/smbshare\")\n",
    "else:\n",
    "    drive_root = Path(\"/mnt/h\")\n",
    "\n",
    "projects_root = Path(\"/home/srs-9/Projects\")\n",
    "msmri_home = projects_root / \"ms_mri\"\n",
    "training_work_dirs = msmri_home / \"training_work_dirs\"\n",
    "\n",
    "dataroot = drive_root / \"3Tpioneer_bids\"\n",
    "work_dir_name = \"pineal3\"\n",
    "work_dir = training_work_dirs / work_dir_name\n",
    "modalities = [\"flair\", \"t1\"]\n",
    "labels = [\"pineal\"]"
   ]
  },
  {
   "cell_type": "markdown",
   "id": "9757d709-c563-4082-a369-c08f07ed3fbf",
   "metadata": {},
   "source": [
    "## Prep the database\n",
    "\n",
    "Get the data and labels organized"
   ]
  },
  {
   "cell_type": "code",
   "execution_count": 19,
   "id": "42027e1d",
   "metadata": {},
   "outputs": [],
   "source": [
    "if load_data:\n",
    "    datalist_file = os.path.join(work_dir, \"datalist.json\")\n",
    "    with open(datalist_file, 'r') as f:\n",
    "        datalist = json.load(f)\n",
    "\n",
    "    dataset = preprocess.parse_datalist(datalist_file, dataroot)"
   ]
  },
  {
   "cell_type": "code",
   "execution_count": 35,
   "id": "e8009ba8",
   "metadata": {},
   "outputs": [],
   "source": [
    "if not load_data:\n",
    "    dataset, _ = preprocess.load_dataset(\"dataset.json\")"
   ]
  },
  {
   "cell_type": "code",
   "execution_count": null,
   "id": "1f8b4d22",
   "metadata": {},
   "outputs": [],
   "source": [
    "dataset_proc = DataSetProcesser(dataset)\n",
    "dataset_proc.prepare_labels(labels, [\"CH\", \"SRS\", \"ED\", \"DT\"])\n",
    "dataset_proc.prepare_images(modalities)\n",
    "dataset = dataset_proc.dataset"
   ]
  },
  {
   "cell_type": "markdown",
   "id": "64151db1",
   "metadata": {},
   "source": [
    "In the original code, they include labels in the test data as well. Also they have a function that checks that there is nonzero number of voxels in the label"
   ]
  },
  {
   "cell_type": "code",
   "execution_count": 22,
   "id": "1126595e-b5f8-439b-ac08-cee9c5460e1f",
   "metadata": {
    "tags": []
   },
   "outputs": [
    {
     "name": "stdout",
     "output_type": "stream",
     "text": [
      "Train num total: 0\n",
      "Test num: 0\n"
     ]
    }
   ],
   "source": [
    "#? I don't know why they put labels for the test data. the brats segmentation code didn't.\n",
    "# train_data = [{'image': path + '/flair.nii.gz', 'label': path + '/flair_chp_mask_qced.nii.gz'} for path in train_exams]\n",
    "# test_data = [{'image': path + '/flair.nii.gz', 'label': path + '/flair_chp_mask_qced.nii.gz'} for path in test_exams]\n",
    "if not load_data:\n",
    "    train_data = []\n",
    "    test_data = []\n",
    "    for scan in dataset:\n",
    "        if scan.cond == 'tr' and scan.has_label:\n",
    "            train_data.append({\"image\": str(scan.image_path), \"label\": str(scan.label_path)})\n",
    "        elif scan.cond == 'ts' and scan.has_label():\n",
    "            test_data.append({\"image\": str(scan.image_path), \"label\": str(scan.label_path)})\n",
    "\n",
    "\n",
    "    print(f\"Train num total: {len(train_data)}\")\n",
    "    print(f\"Test num: {len(test_data)}\")"
   ]
  },
  {
   "cell_type": "markdown",
   "id": "9729ad71",
   "metadata": {},
   "source": [
    "Create and save datalist"
   ]
  },
  {
   "cell_type": "code",
   "execution_count": 23,
   "id": "5a9debf7-a89b-455b-a14d-826971e603d3",
   "metadata": {
    "tags": []
   },
   "outputs": [],
   "source": [
    "if not load_data:\n",
    "    n_folds = 5\n",
    "    datalist = {\n",
    "        \"testing\": test_data,\n",
    "        \"training\": [{\"fold\": i % n_folds, \"image\": c[\"image\"], \"label\": c[\"label\"]} for i,c in enumerate(train_data)]\n",
    "    }\n",
    "\n",
    "    if not os.path.isdir(work_dir):\n",
    "        os.makedirs(work_dir)\n",
    "\n",
    "    # dataroot_dir = \"/mnt/h\"\n",
    "    # if not os.path.isdir(dataroot_dir):\n",
    "    #     os.makedirs(dataroot_dir)\n",
    "\n",
    "    datalist_file = os.path.join(work_dir, \"datalist.json\")\n",
    "    with open(datalist_file, \"w\") as f:\n",
    "        json.dump(datalist, f, indent=4)"
   ]
  },
  {
   "cell_type": "markdown",
   "id": "5f86d2e5",
   "metadata": {},
   "source": [
    "Load datalist"
   ]
  },
  {
   "cell_type": "code",
   "execution_count": 24,
   "id": "aaf29874",
   "metadata": {},
   "outputs": [
    {
     "data": {
      "text/plain": [
       "[]"
      ]
     },
     "execution_count": 24,
     "metadata": {},
     "output_type": "execute_result"
    }
   ],
   "source": [
    "datalist['testing']"
   ]
  },
  {
   "cell_type": "code",
   "execution_count": 25,
   "id": "039466a5",
   "metadata": {},
   "outputs": [
    {
     "name": "stdout",
     "output_type": "stream",
     "text": [
      "[]\n",
      "[]\n"
     ]
    }
   ],
   "source": [
    "missing_images = []\n",
    "missing_labels = []\n",
    "for scan in dataset:\n",
    "    if not scan.image_path.is_file():\n",
    "        missing_images.append(scan.image_path)\n",
    "    if not scan.label_path.is_file():\n",
    "        missing_images.append(scan.label_path)\n",
    "print(missing_images)\n",
    "print(missing_labels)"
   ]
  },
  {
   "cell_type": "code",
   "execution_count": 13,
   "id": "7c65f5fa-6ec7-4974-b90f-a51cc70263e8",
   "metadata": {
    "tags": []
   },
   "outputs": [
    {
     "name": "stdout",
     "output_type": "stream",
     "text": [
      "2024-12-11 20:40:47,238 - INFO - AutoRunner using work directory /home/srs-9/Projects/ms_mri/training_work_dirs/choroid_pineal_pituitary3\n"
     ]
    },
    {
     "name": "stderr",
     "output_type": "stream",
     "text": [
      "Datalist has no folds specified /home/srs-9/Projects/ms_mri/training_work_dirs/choroid_pineal_pituitary3/datalist.json...Generating 5 folds randomly.Please consider presaving fold numbers beforehand for repeated experiments.\n"
     ]
    },
    {
     "ename": "ValueError",
     "evalue": "Cannot have number of splits n_splits=5 greater than the number of samples: n_samples=0.",
     "output_type": "error",
     "traceback": [
      "\u001b[0;31m---------------------------------------------------------------------------\u001b[0m",
      "\u001b[0;31mValueError\u001b[0m                                Traceback (most recent call last)",
      "Cell \u001b[0;32mIn[13], line 1\u001b[0m\n\u001b[0;32m----> 1\u001b[0m runner \u001b[38;5;241m=\u001b[39m \u001b[43mAutoRunner\u001b[49m\u001b[43m(\u001b[49m\n\u001b[1;32m      2\u001b[0m \u001b[43m    \u001b[49m\u001b[43mwork_dir\u001b[49m\u001b[38;5;241;43m=\u001b[39;49m\u001b[43mwork_dir\u001b[49m\u001b[43m,\u001b[49m\n\u001b[1;32m      3\u001b[0m \u001b[43m    \u001b[49m\u001b[43malgos\u001b[49m\u001b[38;5;241;43m=\u001b[39;49m\u001b[43m[\u001b[49m\u001b[38;5;124;43m\"\u001b[39;49m\u001b[38;5;124;43mswinunetr\u001b[39;49m\u001b[38;5;124;43m\"\u001b[39;49m\u001b[43m]\u001b[49m\u001b[43m,\u001b[49m\n\u001b[1;32m      4\u001b[0m \u001b[43m    \u001b[49m\u001b[38;5;28;43minput\u001b[39;49m\u001b[38;5;241;43m=\u001b[39;49m\u001b[43m{\u001b[49m\n\u001b[1;32m      5\u001b[0m \u001b[43m        \u001b[49m\u001b[38;5;124;43m\"\u001b[39;49m\u001b[38;5;124;43mmodality\u001b[39;49m\u001b[38;5;124;43m\"\u001b[39;49m\u001b[43m:\u001b[49m\u001b[43m \u001b[49m\u001b[38;5;124;43m\"\u001b[39;49m\u001b[38;5;124;43mMRI\u001b[39;49m\u001b[38;5;124;43m\"\u001b[39;49m\u001b[43m,\u001b[49m\n\u001b[1;32m      6\u001b[0m \u001b[43m        \u001b[49m\u001b[38;5;124;43m\"\u001b[39;49m\u001b[38;5;124;43mdatalist\u001b[39;49m\u001b[38;5;124;43m\"\u001b[39;49m\u001b[43m:\u001b[49m\u001b[43m \u001b[49m\u001b[38;5;28;43mstr\u001b[39;49m\u001b[43m(\u001b[49m\u001b[43mdatalist_file\u001b[49m\u001b[43m)\u001b[49m\u001b[43m,\u001b[49m\n\u001b[1;32m      7\u001b[0m \u001b[43m        \u001b[49m\u001b[38;5;124;43m\"\u001b[39;49m\u001b[38;5;124;43mdataroot\u001b[39;49m\u001b[38;5;124;43m\"\u001b[39;49m\u001b[43m:\u001b[49m\u001b[43m \u001b[49m\u001b[38;5;28;43mstr\u001b[39;49m\u001b[43m(\u001b[49m\u001b[43mdataroot\u001b[49m\u001b[43m)\u001b[49m\u001b[43m,\u001b[49m\n\u001b[1;32m      8\u001b[0m \u001b[43m    \u001b[49m\u001b[43m}\u001b[49m\u001b[43m,\u001b[49m\n\u001b[1;32m      9\u001b[0m \u001b[43m)\u001b[49m\n",
      "File \u001b[0;32m~/.virtualenvs/monai/lib/python3.12/site-packages/monai/apps/auto3dseg/auto_runner.py:301\u001b[0m, in \u001b[0;36mAutoRunner.__init__\u001b[0;34m(self, work_dir, input, algos, analyze, algo_gen, train, hpo, hpo_backend, ensemble, not_use_cache, templates_path_or_url, allow_skip, mlflow_tracking_uri, mlflow_experiment_name, **kwargs)\u001b[0m\n\u001b[1;32m    298\u001b[0m         \u001b[38;5;28;01mpass\u001b[39;00m\n\u001b[1;32m    300\u001b[0m \u001b[38;5;66;03m# inspect and update folds\u001b[39;00m\n\u001b[0;32m--> 301\u001b[0m \u001b[38;5;28mself\u001b[39m\u001b[38;5;241m.\u001b[39mmax_fold \u001b[38;5;241m=\u001b[39m \u001b[38;5;28;43mself\u001b[39;49m\u001b[38;5;241;43m.\u001b[39;49m\u001b[43minspect_datalist_folds\u001b[49m\u001b[43m(\u001b[49m\u001b[43mdatalist_filename\u001b[49m\u001b[38;5;241;43m=\u001b[39;49m\u001b[43mdatalist_filename\u001b[49m\u001b[43m)\u001b[49m\n\u001b[1;32m    302\u001b[0m \u001b[38;5;28;01mif\u001b[39;00m \u001b[38;5;124m\"\u001b[39m\u001b[38;5;124mnum_fold\u001b[39m\u001b[38;5;124m\"\u001b[39m \u001b[38;5;129;01min\u001b[39;00m \u001b[38;5;28mself\u001b[39m\u001b[38;5;241m.\u001b[39mdata_src_cfg:\n\u001b[1;32m    303\u001b[0m     num_fold \u001b[38;5;241m=\u001b[39m \u001b[38;5;28mint\u001b[39m(\u001b[38;5;28mself\u001b[39m\u001b[38;5;241m.\u001b[39mdata_src_cfg[\u001b[38;5;124m\"\u001b[39m\u001b[38;5;124mnum_fold\u001b[39m\u001b[38;5;124m\"\u001b[39m])  \u001b[38;5;66;03m# override from config\u001b[39;00m\n",
      "File \u001b[0;32m~/.virtualenvs/monai/lib/python3.12/site-packages/monai/apps/auto3dseg/auto_runner.py:445\u001b[0m, in \u001b[0;36mAutoRunner.inspect_datalist_folds\u001b[0;34m(self, datalist_filename)\u001b[0m\n\u001b[1;32m    442\u001b[0m \u001b[38;5;28;01mfrom\u001b[39;00m \u001b[38;5;21;01msklearn\u001b[39;00m\u001b[38;5;21;01m.\u001b[39;00m\u001b[38;5;21;01mmodel_selection\u001b[39;00m \u001b[38;5;28;01mimport\u001b[39;00m KFold\n\u001b[1;32m    444\u001b[0m kf \u001b[38;5;241m=\u001b[39m KFold(n_splits\u001b[38;5;241m=\u001b[39mnum_fold, shuffle\u001b[38;5;241m=\u001b[39m\u001b[38;5;28;01mTrue\u001b[39;00m, random_state\u001b[38;5;241m=\u001b[39m\u001b[38;5;241m0\u001b[39m)\n\u001b[0;32m--> 445\u001b[0m \u001b[43m\u001b[49m\u001b[38;5;28;43;01mfor\u001b[39;49;00m\u001b[43m \u001b[49m\u001b[43mi\u001b[49m\u001b[43m,\u001b[49m\u001b[43m \u001b[49m\u001b[43m(\u001b[49m\u001b[43m_\u001b[49m\u001b[43m,\u001b[49m\u001b[43m \u001b[49m\u001b[43mvalid_idx\u001b[49m\u001b[43m)\u001b[49m\u001b[43m \u001b[49m\u001b[38;5;129;43;01min\u001b[39;49;00m\u001b[43m \u001b[49m\u001b[38;5;28;43menumerate\u001b[39;49m\u001b[43m(\u001b[49m\u001b[43mkf\u001b[49m\u001b[38;5;241;43m.\u001b[39;49m\u001b[43msplit\u001b[49m\u001b[43m(\u001b[49m\u001b[43mdatalist\u001b[49m\u001b[43m[\u001b[49m\u001b[38;5;124;43m\"\u001b[39;49m\u001b[38;5;124;43mtraining\u001b[39;49m\u001b[38;5;124;43m\"\u001b[39;49m\u001b[43m]\u001b[49m\u001b[43m)\u001b[49m\u001b[43m)\u001b[49m\u001b[43m:\u001b[49m\n\u001b[1;32m    446\u001b[0m \u001b[43m    \u001b[49m\u001b[38;5;28;43;01mfor\u001b[39;49;00m\u001b[43m \u001b[49m\u001b[43mvi\u001b[49m\u001b[43m \u001b[49m\u001b[38;5;129;43;01min\u001b[39;49;00m\u001b[43m \u001b[49m\u001b[43mvalid_idx\u001b[49m\u001b[43m:\u001b[49m\n\u001b[1;32m    447\u001b[0m \u001b[43m        \u001b[49m\u001b[43mdatalist\u001b[49m\u001b[43m[\u001b[49m\u001b[38;5;124;43m\"\u001b[39;49m\u001b[38;5;124;43mtraining\u001b[39;49m\u001b[38;5;124;43m\"\u001b[39;49m\u001b[43m]\u001b[49m\u001b[43m[\u001b[49m\u001b[43mvi\u001b[49m\u001b[43m]\u001b[49m\u001b[43m[\u001b[49m\u001b[38;5;124;43m\"\u001b[39;49m\u001b[38;5;124;43mfold\u001b[39;49m\u001b[38;5;124;43m\"\u001b[39;49m\u001b[43m]\u001b[49m\u001b[43m \u001b[49m\u001b[38;5;241;43m=\u001b[39;49m\u001b[43m \u001b[49m\u001b[43mi\u001b[49m\n",
      "File \u001b[0;32m~/.virtualenvs/monai/lib/python3.12/site-packages/sklearn/model_selection/_split.py:409\u001b[0m, in \u001b[0;36m_BaseKFold.split\u001b[0;34m(self, X, y, groups)\u001b[0m\n\u001b[1;32m    407\u001b[0m n_samples \u001b[38;5;241m=\u001b[39m _num_samples(X)\n\u001b[1;32m    408\u001b[0m \u001b[38;5;28;01mif\u001b[39;00m \u001b[38;5;28mself\u001b[39m\u001b[38;5;241m.\u001b[39mn_splits \u001b[38;5;241m>\u001b[39m n_samples:\n\u001b[0;32m--> 409\u001b[0m     \u001b[38;5;28;01mraise\u001b[39;00m \u001b[38;5;167;01mValueError\u001b[39;00m(\n\u001b[1;32m    410\u001b[0m         (\n\u001b[1;32m    411\u001b[0m             \u001b[38;5;124m\"\u001b[39m\u001b[38;5;124mCannot have number of splits n_splits=\u001b[39m\u001b[38;5;132;01m{0}\u001b[39;00m\u001b[38;5;124m greater\u001b[39m\u001b[38;5;124m\"\u001b[39m\n\u001b[1;32m    412\u001b[0m             \u001b[38;5;124m\"\u001b[39m\u001b[38;5;124m than the number of samples: n_samples=\u001b[39m\u001b[38;5;132;01m{1}\u001b[39;00m\u001b[38;5;124m.\u001b[39m\u001b[38;5;124m\"\u001b[39m\n\u001b[1;32m    413\u001b[0m         )\u001b[38;5;241m.\u001b[39mformat(\u001b[38;5;28mself\u001b[39m\u001b[38;5;241m.\u001b[39mn_splits, n_samples)\n\u001b[1;32m    414\u001b[0m     )\n\u001b[1;32m    416\u001b[0m \u001b[38;5;28;01mfor\u001b[39;00m train, test \u001b[38;5;129;01min\u001b[39;00m \u001b[38;5;28msuper\u001b[39m()\u001b[38;5;241m.\u001b[39msplit(X, y, groups):\n\u001b[1;32m    417\u001b[0m     \u001b[38;5;28;01myield\u001b[39;00m train, test\n",
      "\u001b[0;31mValueError\u001b[0m: Cannot have number of splits n_splits=5 greater than the number of samples: n_samples=0."
     ]
    }
   ],
   "source": [
    "runner = AutoRunner(\n",
    "    work_dir=work_dir,\n",
    "    algos=[\"swinunetr\"],\n",
    "    input={\n",
    "        \"modality\": \"MRI\",\n",
    "        \"datalist\": str(datalist_file),\n",
    "        \"dataroot\": str(dataroot),\n",
    "    },\n",
    ")"
   ]
  },
  {
   "cell_type": "code",
   "execution_count": null,
   "id": "56e52e9b-1b75-4807-91cb-267d9f4f5a67",
   "metadata": {
    "tags": []
   },
   "outputs": [
    {
     "data": {
      "text/plain": [
       "<monai.apps.auto3dseg.auto_runner.AutoRunner at 0x7f8be9094710>"
      ]
     },
     "execution_count": 68,
     "metadata": {},
     "output_type": "execute_result"
    }
   ],
   "source": [
    "max_epochs = 100\n",
    "\n",
    "train_param = {\n",
    "    \"num_epochs_per_validation\": 1,\n",
    "    #\"num_images_per_batch\": 2,\n",
    "    \"num_epochs\": max_epochs,\n",
    "    \"num_warmup_epochs\": 1,\n",
    "}\n",
    "runner.set_training_params(train_param)"
   ]
  },
  {
   "cell_type": "code",
   "execution_count": 69,
   "id": "c96c07cb-67cf-4c1e-86c2-9258f7cabde6",
   "metadata": {
    "tags": []
   },
   "outputs": [
    {
     "name": "stdout",
     "output_type": "stream",
     "text": [
      "2024-12-10 23:45:40,997 - INFO - Running data analysis...\n",
      "2024-12-10 23:45:41,000 - INFO - Found 1 GPUs for data analyzing!\n"
     ]
    },
    {
     "name": "stderr",
     "output_type": "stream",
     "text": [
      "100%|██████████| 30/30 [01:17<00:00,  2.58s/it]"
     ]
    },
    {
     "name": "stdout",
     "output_type": "stream",
     "text": [
      "2024-12-10 23:46:58,795 - INFO - Data spacing is not completely uniform. MONAI transforms may provide unexpected result\n",
      "2024-12-10 23:46:58,796 - INFO - Writing data stats to /home/srs-9/Projects/ms_mri/training_work_dirs/choroid_pineal_pituitary3/datastats.yaml.\n",
      "2024-12-10 23:46:58,805 - INFO - Writing by-case data stats to /home/srs-9/Projects/ms_mri/training_work_dirs/choroid_pineal_pituitary3/datastats_by_case.yaml, this may take a while.\n"
     ]
    },
    {
     "name": "stderr",
     "output_type": "stream",
     "text": [
      "\n"
     ]
    },
    {
     "name": "stdout",
     "output_type": "stream",
     "text": [
      "2024-12-10 23:46:59,048 - INFO - BundleGen from https://github.com/Project-MONAI/research-contributions/releases/download/algo_templates/e4cf5a1.tar.gz\n"
     ]
    },
    {
     "name": "stderr",
     "output_type": "stream",
     "text": [
      "algo_templates.tar.gz: 104kB [00:00, 260kB/s]                              "
     ]
    },
    {
     "name": "stdout",
     "output_type": "stream",
     "text": [
      "2024-12-10 23:46:59,464 - INFO - Downloaded: /tmp/tmplwfo472l/algo_templates.tar.gz\n",
      "2024-12-10 23:46:59,465 - INFO - Expected md5 is None, skip md5 check for file /tmp/tmplwfo472l/algo_templates.tar.gz.\n",
      "2024-12-10 23:46:59,466 - INFO - Writing into directory: /home/srs-9/Projects/ms_mri/training_work_dirs/choroid_pineal_pituitary3.\n",
      "2024-12-10 23:46:59,572 - INFO - Generated:/home/srs-9/Projects/ms_mri/training_work_dirs/choroid_pineal_pituitary3/swinunetr_0\n",
      "2024-12-10 23:46:59,610 - INFO - Generated:/home/srs-9/Projects/ms_mri/training_work_dirs/choroid_pineal_pituitary3/swinunetr_1\n"
     ]
    },
    {
     "name": "stderr",
     "output_type": "stream",
     "text": [
      "\n"
     ]
    },
    {
     "name": "stdout",
     "output_type": "stream",
     "text": [
      "2024-12-10 23:46:59,648 - INFO - Generated:/home/srs-9/Projects/ms_mri/training_work_dirs/choroid_pineal_pituitary3/swinunetr_2\n",
      "2024-12-10 23:46:59,688 - INFO - Generated:/home/srs-9/Projects/ms_mri/training_work_dirs/choroid_pineal_pituitary3/swinunetr_3\n",
      "2024-12-10 23:46:59,724 - INFO - Generated:/home/srs-9/Projects/ms_mri/training_work_dirs/choroid_pineal_pituitary3/swinunetr_4\n",
      "2024-12-10 23:46:59,753 - INFO - ['python', '/home/srs-9/Projects/ms_mri/training_work_dirs/choroid_pineal_pituitary3/swinunetr_0/scripts/train.py', 'run', \"--config_file='/home/srs-9/Projects/ms_mri/training_work_dirs/choroid_pineal_pituitary3/swinunetr_0/configs/hyper_parameters.yaml,/home/srs-9/Projects/ms_mri/training_work_dirs/choroid_pineal_pituitary3/swinunetr_0/configs/network.yaml,/home/srs-9/Projects/ms_mri/training_work_dirs/choroid_pineal_pituitary3/swinunetr_0/configs/transforms_infer.yaml,/home/srs-9/Projects/ms_mri/training_work_dirs/choroid_pineal_pituitary3/swinunetr_0/configs/transforms_train.yaml,/home/srs-9/Projects/ms_mri/training_work_dirs/choroid_pineal_pituitary3/swinunetr_0/configs/transforms_validate.yaml'\", '--num_epochs_per_validation=1', '--num_epochs=100', '--num_warmup_epochs=1']\n"
     ]
    },
    {
     "name": "stderr",
     "output_type": "stream",
     "text": [
      "/home/srs-9/.virtualenvs/monai/lib/python3.12/site-packages/ignite/handlers/checkpoint.py:17: DeprecationWarning: `TorchScript` support for functional optimizers is deprecated and will be removed in a future PyTorch release. Consider using the `torch.compile` optimizer instead.\n",
      "  from torch.distributed.optim import ZeroRedundancyOptimizer\n",
      "monai.networks.nets.swin_unetr SwinUNETR.__init__:img_size: Argument `img_size` has been deprecated since version 1.3. It will be removed in version 1.5. The img_size argument is not required anymore and checks on the input size are run during forward().\n"
     ]
    },
    {
     "name": "stdout",
     "output_type": "stream",
     "text": [
      "2024-12-10 23:47:31,702 - INFO - Downloaded: /home/srs-9/Projects/ms_mri/training_work_dirs/choroid_pineal_pituitary3/swinunetr_0/pretrained_model/swin_unetr.base_5000ep_f48_lr2e-4_pretrained.pt\n",
      "2024-12-10 23:47:31,702 - INFO - Expected md5 is None, skip md5 check for file /home/srs-9/Projects/ms_mri/training_work_dirs/choroid_pineal_pituitary3/swinunetr_0/pretrained_model/swin_unetr.base_5000ep_f48_lr2e-4_pretrained.pt.\n"
     ]
    },
    {
     "name": "stderr",
     "output_type": "stream",
     "text": [
      "You are using `torch.load` with `weights_only=False` (the current default value), which uses the default pickle module implicitly. It is possible to construct malicious pickle data which will execute arbitrary code during unpickling (See https://github.com/pytorch/pytorch/blob/main/SECURITY.md#untrusted-models for more details). In a future release, the default value for `weights_only` will be flipped to `True`. This limits the functions that could be executed during unpickling. Arbitrary objects will no longer be allowed to be loaded via this mode unless they are explicitly allowlisted by the user via `torch.serialization.add_safe_globals`. We recommend you start setting `weights_only=True` for any use case where you don't have full control of the loaded file. Please open an issue on GitHub for any issues related to this experimental feature.\n",
      "`torch.cuda.amp.GradScaler(args...)` is deprecated. Please use `torch.amp.GradScaler('cuda', args...)` instead.\n",
      "2024/12/10 23:47:32 INFO mlflow.tracking.fluent: Experiment with name 'Auto3DSeg' does not exist. Creating a new experiment.\n",
      "swinunetr_0 - training ...:  83%|████████▎ | 83/100 [1:01:35<12:36, 44.52s/round]\n",
      "2024-12-11 00:52:29,916 - WARNING - swinunetr_0 - training: finished with early stop\n"
     ]
    },
    {
     "name": "stdout",
     "output_type": "stream",
     "text": [
      "2024-12-11 00:52:31,293 - INFO - ['python', '/home/srs-9/Projects/ms_mri/training_work_dirs/choroid_pineal_pituitary3/swinunetr_1/scripts/train.py', 'run', \"--config_file='/home/srs-9/Projects/ms_mri/training_work_dirs/choroid_pineal_pituitary3/swinunetr_1/configs/hyper_parameters.yaml,/home/srs-9/Projects/ms_mri/training_work_dirs/choroid_pineal_pituitary3/swinunetr_1/configs/network.yaml,/home/srs-9/Projects/ms_mri/training_work_dirs/choroid_pineal_pituitary3/swinunetr_1/configs/transforms_infer.yaml,/home/srs-9/Projects/ms_mri/training_work_dirs/choroid_pineal_pituitary3/swinunetr_1/configs/transforms_train.yaml,/home/srs-9/Projects/ms_mri/training_work_dirs/choroid_pineal_pituitary3/swinunetr_1/configs/transforms_validate.yaml'\", '--num_epochs_per_validation=1', '--num_epochs=100', '--num_warmup_epochs=1']\n"
     ]
    },
    {
     "name": "stderr",
     "output_type": "stream",
     "text": [
      "/home/srs-9/.virtualenvs/monai/lib/python3.12/site-packages/ignite/handlers/checkpoint.py:17: DeprecationWarning: `TorchScript` support for functional optimizers is deprecated and will be removed in a future PyTorch release. Consider using the `torch.compile` optimizer instead.\n",
      "  from torch.distributed.optim import ZeroRedundancyOptimizer\n",
      "monai.networks.nets.swin_unetr SwinUNETR.__init__:img_size: Argument `img_size` has been deprecated since version 1.3. It will be removed in version 1.5. The img_size argument is not required anymore and checks on the input size are run during forward().\n"
     ]
    },
    {
     "name": "stdout",
     "output_type": "stream",
     "text": [
      "2024-12-11 00:52:59,743 - INFO - Downloaded: /home/srs-9/Projects/ms_mri/training_work_dirs/choroid_pineal_pituitary3/swinunetr_1/pretrained_model/swin_unetr.base_5000ep_f48_lr2e-4_pretrained.pt\n",
      "2024-12-11 00:52:59,743 - INFO - Expected md5 is None, skip md5 check for file /home/srs-9/Projects/ms_mri/training_work_dirs/choroid_pineal_pituitary3/swinunetr_1/pretrained_model/swin_unetr.base_5000ep_f48_lr2e-4_pretrained.pt.\n"
     ]
    },
    {
     "name": "stderr",
     "output_type": "stream",
     "text": [
      "You are using `torch.load` with `weights_only=False` (the current default value), which uses the default pickle module implicitly. It is possible to construct malicious pickle data which will execute arbitrary code during unpickling (See https://github.com/pytorch/pytorch/blob/main/SECURITY.md#untrusted-models for more details). In a future release, the default value for `weights_only` will be flipped to `True`. This limits the functions that could be executed during unpickling. Arbitrary objects will no longer be allowed to be loaded via this mode unless they are explicitly allowlisted by the user via `torch.serialization.add_safe_globals`. We recommend you start setting `weights_only=True` for any use case where you don't have full control of the loaded file. Please open an issue on GitHub for any issues related to this experimental feature.\n",
      "`torch.cuda.amp.GradScaler(args...)` is deprecated. Please use `torch.amp.GradScaler('cuda', args...)` instead.\n",
      "2024/12/11 00:53:00 INFO mlflow.tracking.fluent: Experiment with name 'Auto3DSeg' does not exist. Creating a new experiment.\n",
      "swinunetr_1 - training ...:  73%|███████▎  | 73/100 [48:23<17:53, 39.77s/round]  \n",
      "2024-12-11 01:44:53,938 - WARNING - swinunetr_1 - training: finished with early stop\n"
     ]
    },
    {
     "name": "stdout",
     "output_type": "stream",
     "text": [
      "2024-12-11 01:44:54,957 - INFO - ['python', '/home/srs-9/Projects/ms_mri/training_work_dirs/choroid_pineal_pituitary3/swinunetr_2/scripts/train.py', 'run', \"--config_file='/home/srs-9/Projects/ms_mri/training_work_dirs/choroid_pineal_pituitary3/swinunetr_2/configs/hyper_parameters.yaml,/home/srs-9/Projects/ms_mri/training_work_dirs/choroid_pineal_pituitary3/swinunetr_2/configs/network.yaml,/home/srs-9/Projects/ms_mri/training_work_dirs/choroid_pineal_pituitary3/swinunetr_2/configs/transforms_infer.yaml,/home/srs-9/Projects/ms_mri/training_work_dirs/choroid_pineal_pituitary3/swinunetr_2/configs/transforms_train.yaml,/home/srs-9/Projects/ms_mri/training_work_dirs/choroid_pineal_pituitary3/swinunetr_2/configs/transforms_validate.yaml'\", '--num_epochs_per_validation=1', '--num_epochs=100', '--num_warmup_epochs=1']\n"
     ]
    },
    {
     "name": "stderr",
     "output_type": "stream",
     "text": [
      "/home/srs-9/.virtualenvs/monai/lib/python3.12/site-packages/ignite/handlers/checkpoint.py:17: DeprecationWarning: `TorchScript` support for functional optimizers is deprecated and will be removed in a future PyTorch release. Consider using the `torch.compile` optimizer instead.\n",
      "  from torch.distributed.optim import ZeroRedundancyOptimizer\n",
      "monai.networks.nets.swin_unetr SwinUNETR.__init__:img_size: Argument `img_size` has been deprecated since version 1.3. It will be removed in version 1.5. The img_size argument is not required anymore and checks on the input size are run during forward().\n"
     ]
    },
    {
     "name": "stdout",
     "output_type": "stream",
     "text": [
      "2024-12-11 01:45:23,324 - INFO - Downloaded: /home/srs-9/Projects/ms_mri/training_work_dirs/choroid_pineal_pituitary3/swinunetr_2/pretrained_model/swin_unetr.base_5000ep_f48_lr2e-4_pretrained.pt\n",
      "2024-12-11 01:45:23,324 - INFO - Expected md5 is None, skip md5 check for file /home/srs-9/Projects/ms_mri/training_work_dirs/choroid_pineal_pituitary3/swinunetr_2/pretrained_model/swin_unetr.base_5000ep_f48_lr2e-4_pretrained.pt.\n"
     ]
    },
    {
     "name": "stderr",
     "output_type": "stream",
     "text": [
      "You are using `torch.load` with `weights_only=False` (the current default value), which uses the default pickle module implicitly. It is possible to construct malicious pickle data which will execute arbitrary code during unpickling (See https://github.com/pytorch/pytorch/blob/main/SECURITY.md#untrusted-models for more details). In a future release, the default value for `weights_only` will be flipped to `True`. This limits the functions that could be executed during unpickling. Arbitrary objects will no longer be allowed to be loaded via this mode unless they are explicitly allowlisted by the user via `torch.serialization.add_safe_globals`. We recommend you start setting `weights_only=True` for any use case where you don't have full control of the loaded file. Please open an issue on GitHub for any issues related to this experimental feature.\n",
      "`torch.cuda.amp.GradScaler(args...)` is deprecated. Please use `torch.amp.GradScaler('cuda', args...)` instead.\n",
      "2024/12/11 01:45:23 INFO mlflow.tracking.fluent: Experiment with name 'Auto3DSeg' does not exist. Creating a new experiment.\n",
      "swinunetr_2 - training ...:  73%|███████▎  | 73/100 [48:59<18:07, 40.26s/round]  \n",
      "2024-12-11 02:37:45,802 - WARNING - swinunetr_2 - training: finished with early stop\n"
     ]
    },
    {
     "name": "stdout",
     "output_type": "stream",
     "text": [
      "2024-12-11 02:37:46,844 - INFO - ['python', '/home/srs-9/Projects/ms_mri/training_work_dirs/choroid_pineal_pituitary3/swinunetr_3/scripts/train.py', 'run', \"--config_file='/home/srs-9/Projects/ms_mri/training_work_dirs/choroid_pineal_pituitary3/swinunetr_3/configs/hyper_parameters.yaml,/home/srs-9/Projects/ms_mri/training_work_dirs/choroid_pineal_pituitary3/swinunetr_3/configs/network.yaml,/home/srs-9/Projects/ms_mri/training_work_dirs/choroid_pineal_pituitary3/swinunetr_3/configs/transforms_infer.yaml,/home/srs-9/Projects/ms_mri/training_work_dirs/choroid_pineal_pituitary3/swinunetr_3/configs/transforms_train.yaml,/home/srs-9/Projects/ms_mri/training_work_dirs/choroid_pineal_pituitary3/swinunetr_3/configs/transforms_validate.yaml'\", '--num_epochs_per_validation=1', '--num_epochs=100', '--num_warmup_epochs=1']\n"
     ]
    },
    {
     "name": "stderr",
     "output_type": "stream",
     "text": [
      "/home/srs-9/.virtualenvs/monai/lib/python3.12/site-packages/ignite/handlers/checkpoint.py:17: DeprecationWarning: `TorchScript` support for functional optimizers is deprecated and will be removed in a future PyTorch release. Consider using the `torch.compile` optimizer instead.\n",
      "  from torch.distributed.optim import ZeroRedundancyOptimizer\n",
      "monai.networks.nets.swin_unetr SwinUNETR.__init__:img_size: Argument `img_size` has been deprecated since version 1.3. It will be removed in version 1.5. The img_size argument is not required anymore and checks on the input size are run during forward().\n"
     ]
    },
    {
     "name": "stdout",
     "output_type": "stream",
     "text": [
      "2024-12-11 02:38:14,726 - INFO - Downloaded: /home/srs-9/Projects/ms_mri/training_work_dirs/choroid_pineal_pituitary3/swinunetr_3/pretrained_model/swin_unetr.base_5000ep_f48_lr2e-4_pretrained.pt\n",
      "2024-12-11 02:38:14,726 - INFO - Expected md5 is None, skip md5 check for file /home/srs-9/Projects/ms_mri/training_work_dirs/choroid_pineal_pituitary3/swinunetr_3/pretrained_model/swin_unetr.base_5000ep_f48_lr2e-4_pretrained.pt.\n"
     ]
    },
    {
     "name": "stderr",
     "output_type": "stream",
     "text": [
      "You are using `torch.load` with `weights_only=False` (the current default value), which uses the default pickle module implicitly. It is possible to construct malicious pickle data which will execute arbitrary code during unpickling (See https://github.com/pytorch/pytorch/blob/main/SECURITY.md#untrusted-models for more details). In a future release, the default value for `weights_only` will be flipped to `True`. This limits the functions that could be executed during unpickling. Arbitrary objects will no longer be allowed to be loaded via this mode unless they are explicitly allowlisted by the user via `torch.serialization.add_safe_globals`. We recommend you start setting `weights_only=True` for any use case where you don't have full control of the loaded file. Please open an issue on GitHub for any issues related to this experimental feature.\n",
      "`torch.cuda.amp.GradScaler(args...)` is deprecated. Please use `torch.amp.GradScaler('cuda', args...)` instead.\n",
      "2024/12/11 02:38:15 INFO mlflow.tracking.fluent: Experiment with name 'Auto3DSeg' does not exist. Creating a new experiment.\n",
      "swinunetr_3 - training ...:  64%|██████▍   | 64/100 [41:15<23:12, 38.68s/round]  \n",
      "2024-12-11 03:23:01,213 - WARNING - swinunetr_3 - training: finished with early stop\n"
     ]
    },
    {
     "name": "stdout",
     "output_type": "stream",
     "text": [
      "2024-12-11 03:23:02,160 - INFO - ['python', '/home/srs-9/Projects/ms_mri/training_work_dirs/choroid_pineal_pituitary3/swinunetr_4/scripts/train.py', 'run', \"--config_file='/home/srs-9/Projects/ms_mri/training_work_dirs/choroid_pineal_pituitary3/swinunetr_4/configs/hyper_parameters.yaml,/home/srs-9/Projects/ms_mri/training_work_dirs/choroid_pineal_pituitary3/swinunetr_4/configs/network.yaml,/home/srs-9/Projects/ms_mri/training_work_dirs/choroid_pineal_pituitary3/swinunetr_4/configs/transforms_infer.yaml,/home/srs-9/Projects/ms_mri/training_work_dirs/choroid_pineal_pituitary3/swinunetr_4/configs/transforms_train.yaml,/home/srs-9/Projects/ms_mri/training_work_dirs/choroid_pineal_pituitary3/swinunetr_4/configs/transforms_validate.yaml'\", '--num_epochs_per_validation=1', '--num_epochs=100', '--num_warmup_epochs=1']\n"
     ]
    },
    {
     "name": "stderr",
     "output_type": "stream",
     "text": [
      "/home/srs-9/.virtualenvs/monai/lib/python3.12/site-packages/ignite/handlers/checkpoint.py:17: DeprecationWarning: `TorchScript` support for functional optimizers is deprecated and will be removed in a future PyTorch release. Consider using the `torch.compile` optimizer instead.\n",
      "  from torch.distributed.optim import ZeroRedundancyOptimizer\n",
      "monai.networks.nets.swin_unetr SwinUNETR.__init__:img_size: Argument `img_size` has been deprecated since version 1.3. It will be removed in version 1.5. The img_size argument is not required anymore and checks on the input size are run during forward().\n"
     ]
    },
    {
     "name": "stdout",
     "output_type": "stream",
     "text": [
      "2024-12-11 03:23:30,345 - INFO - Downloaded: /home/srs-9/Projects/ms_mri/training_work_dirs/choroid_pineal_pituitary3/swinunetr_4/pretrained_model/swin_unetr.base_5000ep_f48_lr2e-4_pretrained.pt\n",
      "2024-12-11 03:23:30,346 - INFO - Expected md5 is None, skip md5 check for file /home/srs-9/Projects/ms_mri/training_work_dirs/choroid_pineal_pituitary3/swinunetr_4/pretrained_model/swin_unetr.base_5000ep_f48_lr2e-4_pretrained.pt.\n"
     ]
    },
    {
     "name": "stderr",
     "output_type": "stream",
     "text": [
      "You are using `torch.load` with `weights_only=False` (the current default value), which uses the default pickle module implicitly. It is possible to construct malicious pickle data which will execute arbitrary code during unpickling (See https://github.com/pytorch/pytorch/blob/main/SECURITY.md#untrusted-models for more details). In a future release, the default value for `weights_only` will be flipped to `True`. This limits the functions that could be executed during unpickling. Arbitrary objects will no longer be allowed to be loaded via this mode unless they are explicitly allowlisted by the user via `torch.serialization.add_safe_globals`. We recommend you start setting `weights_only=True` for any use case where you don't have full control of the loaded file. Please open an issue on GitHub for any issues related to this experimental feature.\n",
      "`torch.cuda.amp.GradScaler(args...)` is deprecated. Please use `torch.amp.GradScaler('cuda', args...)` instead.\n",
      "2024/12/11 03:23:30 INFO mlflow.tracking.fluent: Experiment with name 'Auto3DSeg' does not exist. Creating a new experiment.\n",
      "swinunetr_4 - training ...:  73%|███████▎  | 73/100 [48:33<17:57, 39.91s/round]  \n",
      "2024-12-11 04:15:26,793 - WARNING - swinunetr_4 - training: finished with early stop\n"
     ]
    },
    {
     "name": "stdout",
     "output_type": "stream",
     "text": [
      "2024-12-11 04:15:27,812 - INFO - Ensembling using single GPU!\n",
      "2024-12-11 04:15:27,813 - INFO - The output_dir is not specified. /home/srs-9/Projects/ms_mri/training_work_dirs/choroid_pineal_pituitary3/ensemble_output will be used to save ensemble predictions.\n",
      "2024-12-11 04:15:27,814 - INFO - Directory /home/srs-9/Projects/ms_mri/training_work_dirs/choroid_pineal_pituitary3/ensemble_output is created to save ensemble predictions\n",
      "2024-12-11 04:15:27,854 - INFO - Auto3Dseg picked the following networks to ensemble:\n",
      "2024-12-11 04:15:27,855 - INFO - swinunetr_0\n",
      "2024-12-11 04:15:27,856 - INFO - swinunetr_1\n",
      "2024-12-11 04:15:27,856 - INFO - swinunetr_2\n",
      "2024-12-11 04:15:27,856 - INFO - swinunetr_3\n",
      "2024-12-11 04:15:27,857 - INFO - swinunetr_4\n",
      "2024-12-11 04:15:27,858 - INFO - Auto3Dseg ensemble prediction outputs will be saved in /home/srs-9/Projects/ms_mri/training_work_dirs/choroid_pineal_pituitary3/ensemble_output.\n"
     ]
    },
    {
     "name": "stderr",
     "output_type": "stream",
     "text": [
      "Ensembling (rank 0)...:   0%|          | 0/10 [00:00<?, ?it/s]monai.networks.nets.swin_unetr SwinUNETR.__init__:img_size: Argument `img_size` has been deprecated since version 1.3. It will be removed in version 1.5. The img_size argument is not required anymore and checks on the input size are run during forward().\n",
      "You are using `torch.load` with `weights_only=False` (the current default value), which uses the default pickle module implicitly. It is possible to construct malicious pickle data which will execute arbitrary code during unpickling (See https://github.com/pytorch/pytorch/blob/main/SECURITY.md#untrusted-models for more details). In a future release, the default value for `weights_only` will be flipped to `True`. This limits the functions that could be executed during unpickling. Arbitrary objects will no longer be allowed to be loaded via this mode unless they are explicitly allowlisted by the user via `torch.serialization.add_safe_globals`. We recommend you start setting `weights_only=True` for any use case where you don't have full control of the loaded file. Please open an issue on GitHub for any issues related to this experimental feature.\n",
      "`torch.cuda.amp.autocast(args...)` is deprecated. Please use `torch.amp.autocast('cuda', args...)` instead.\n",
      "You are using `torch.load` with `weights_only=False` (the current default value), which uses the default pickle module implicitly. It is possible to construct malicious pickle data which will execute arbitrary code during unpickling (See https://github.com/pytorch/pytorch/blob/main/SECURITY.md#untrusted-models for more details). In a future release, the default value for `weights_only` will be flipped to `True`. This limits the functions that could be executed during unpickling. Arbitrary objects will no longer be allowed to be loaded via this mode unless they are explicitly allowlisted by the user via `torch.serialization.add_safe_globals`. We recommend you start setting `weights_only=True` for any use case where you don't have full control of the loaded file. Please open an issue on GitHub for any issues related to this experimental feature.\n",
      "`torch.cuda.amp.autocast(args...)` is deprecated. Please use `torch.amp.autocast('cuda', args...)` instead.\n",
      "You are using `torch.load` with `weights_only=False` (the current default value), which uses the default pickle module implicitly. It is possible to construct malicious pickle data which will execute arbitrary code during unpickling (See https://github.com/pytorch/pytorch/blob/main/SECURITY.md#untrusted-models for more details). In a future release, the default value for `weights_only` will be flipped to `True`. This limits the functions that could be executed during unpickling. Arbitrary objects will no longer be allowed to be loaded via this mode unless they are explicitly allowlisted by the user via `torch.serialization.add_safe_globals`. We recommend you start setting `weights_only=True` for any use case where you don't have full control of the loaded file. Please open an issue on GitHub for any issues related to this experimental feature.\n",
      "`torch.cuda.amp.autocast(args...)` is deprecated. Please use `torch.amp.autocast('cuda', args...)` instead.\n",
      "You are using `torch.load` with `weights_only=False` (the current default value), which uses the default pickle module implicitly. It is possible to construct malicious pickle data which will execute arbitrary code during unpickling (See https://github.com/pytorch/pytorch/blob/main/SECURITY.md#untrusted-models for more details). In a future release, the default value for `weights_only` will be flipped to `True`. This limits the functions that could be executed during unpickling. Arbitrary objects will no longer be allowed to be loaded via this mode unless they are explicitly allowlisted by the user via `torch.serialization.add_safe_globals`. We recommend you start setting `weights_only=True` for any use case where you don't have full control of the loaded file. Please open an issue on GitHub for any issues related to this experimental feature.\n",
      "`torch.cuda.amp.autocast(args...)` is deprecated. Please use `torch.amp.autocast('cuda', args...)` instead.\n",
      "You are using `torch.load` with `weights_only=False` (the current default value), which uses the default pickle module implicitly. It is possible to construct malicious pickle data which will execute arbitrary code during unpickling (See https://github.com/pytorch/pytorch/blob/main/SECURITY.md#untrusted-models for more details). In a future release, the default value for `weights_only` will be flipped to `True`. This limits the functions that could be executed during unpickling. Arbitrary objects will no longer be allowed to be loaded via this mode unless they are explicitly allowlisted by the user via `torch.serialization.add_safe_globals`. We recommend you start setting `weights_only=True` for any use case where you don't have full control of the loaded file. Please open an issue on GitHub for any issues related to this experimental feature.\n",
      "`torch.cuda.amp.autocast(args...)` is deprecated. Please use `torch.amp.autocast('cuda', args...)` instead.\n",
      "Ensembling (rank 0)...:  10%|█         | 1/10 [03:02<27:24, 182.70s/it]You are using `torch.load` with `weights_only=False` (the current default value), which uses the default pickle module implicitly. It is possible to construct malicious pickle data which will execute arbitrary code during unpickling (See https://github.com/pytorch/pytorch/blob/main/SECURITY.md#untrusted-models for more details). In a future release, the default value for `weights_only` will be flipped to `True`. This limits the functions that could be executed during unpickling. Arbitrary objects will no longer be allowed to be loaded via this mode unless they are explicitly allowlisted by the user via `torch.serialization.add_safe_globals`. We recommend you start setting `weights_only=True` for any use case where you don't have full control of the loaded file. Please open an issue on GitHub for any issues related to this experimental feature.\n",
      "`torch.cuda.amp.autocast(args...)` is deprecated. Please use `torch.amp.autocast('cuda', args...)` instead.\n",
      "You are using `torch.load` with `weights_only=False` (the current default value), which uses the default pickle module implicitly. It is possible to construct malicious pickle data which will execute arbitrary code during unpickling (See https://github.com/pytorch/pytorch/blob/main/SECURITY.md#untrusted-models for more details). In a future release, the default value for `weights_only` will be flipped to `True`. This limits the functions that could be executed during unpickling. Arbitrary objects will no longer be allowed to be loaded via this mode unless they are explicitly allowlisted by the user via `torch.serialization.add_safe_globals`. We recommend you start setting `weights_only=True` for any use case where you don't have full control of the loaded file. Please open an issue on GitHub for any issues related to this experimental feature.\n",
      "`torch.cuda.amp.autocast(args...)` is deprecated. Please use `torch.amp.autocast('cuda', args...)` instead.\n",
      "You are using `torch.load` with `weights_only=False` (the current default value), which uses the default pickle module implicitly. It is possible to construct malicious pickle data which will execute arbitrary code during unpickling (See https://github.com/pytorch/pytorch/blob/main/SECURITY.md#untrusted-models for more details). In a future release, the default value for `weights_only` will be flipped to `True`. This limits the functions that could be executed during unpickling. Arbitrary objects will no longer be allowed to be loaded via this mode unless they are explicitly allowlisted by the user via `torch.serialization.add_safe_globals`. We recommend you start setting `weights_only=True` for any use case where you don't have full control of the loaded file. Please open an issue on GitHub for any issues related to this experimental feature.\n",
      "`torch.cuda.amp.autocast(args...)` is deprecated. Please use `torch.amp.autocast('cuda', args...)` instead.\n",
      "You are using `torch.load` with `weights_only=False` (the current default value), which uses the default pickle module implicitly. It is possible to construct malicious pickle data which will execute arbitrary code during unpickling (See https://github.com/pytorch/pytorch/blob/main/SECURITY.md#untrusted-models for more details). In a future release, the default value for `weights_only` will be flipped to `True`. This limits the functions that could be executed during unpickling. Arbitrary objects will no longer be allowed to be loaded via this mode unless they are explicitly allowlisted by the user via `torch.serialization.add_safe_globals`. We recommend you start setting `weights_only=True` for any use case where you don't have full control of the loaded file. Please open an issue on GitHub for any issues related to this experimental feature.\n",
      "`torch.cuda.amp.autocast(args...)` is deprecated. Please use `torch.amp.autocast('cuda', args...)` instead.\n",
      "You are using `torch.load` with `weights_only=False` (the current default value), which uses the default pickle module implicitly. It is possible to construct malicious pickle data which will execute arbitrary code during unpickling (See https://github.com/pytorch/pytorch/blob/main/SECURITY.md#untrusted-models for more details). In a future release, the default value for `weights_only` will be flipped to `True`. This limits the functions that could be executed during unpickling. Arbitrary objects will no longer be allowed to be loaded via this mode unless they are explicitly allowlisted by the user via `torch.serialization.add_safe_globals`. We recommend you start setting `weights_only=True` for any use case where you don't have full control of the loaded file. Please open an issue on GitHub for any issues related to this experimental feature.\n",
      "`torch.cuda.amp.autocast(args...)` is deprecated. Please use `torch.amp.autocast('cuda', args...)` instead.\n",
      "Ensembling (rank 0)...:  20%|██        | 2/10 [06:01<24:03, 180.49s/it]You are using `torch.load` with `weights_only=False` (the current default value), which uses the default pickle module implicitly. It is possible to construct malicious pickle data which will execute arbitrary code during unpickling (See https://github.com/pytorch/pytorch/blob/main/SECURITY.md#untrusted-models for more details). In a future release, the default value for `weights_only` will be flipped to `True`. This limits the functions that could be executed during unpickling. Arbitrary objects will no longer be allowed to be loaded via this mode unless they are explicitly allowlisted by the user via `torch.serialization.add_safe_globals`. We recommend you start setting `weights_only=True` for any use case where you don't have full control of the loaded file. Please open an issue on GitHub for any issues related to this experimental feature.\n",
      "`torch.cuda.amp.autocast(args...)` is deprecated. Please use `torch.amp.autocast('cuda', args...)` instead.\n",
      "You are using `torch.load` with `weights_only=False` (the current default value), which uses the default pickle module implicitly. It is possible to construct malicious pickle data which will execute arbitrary code during unpickling (See https://github.com/pytorch/pytorch/blob/main/SECURITY.md#untrusted-models for more details). In a future release, the default value for `weights_only` will be flipped to `True`. This limits the functions that could be executed during unpickling. Arbitrary objects will no longer be allowed to be loaded via this mode unless they are explicitly allowlisted by the user via `torch.serialization.add_safe_globals`. We recommend you start setting `weights_only=True` for any use case where you don't have full control of the loaded file. Please open an issue on GitHub for any issues related to this experimental feature.\n",
      "`torch.cuda.amp.autocast(args...)` is deprecated. Please use `torch.amp.autocast('cuda', args...)` instead.\n",
      "You are using `torch.load` with `weights_only=False` (the current default value), which uses the default pickle module implicitly. It is possible to construct malicious pickle data which will execute arbitrary code during unpickling (See https://github.com/pytorch/pytorch/blob/main/SECURITY.md#untrusted-models for more details). In a future release, the default value for `weights_only` will be flipped to `True`. This limits the functions that could be executed during unpickling. Arbitrary objects will no longer be allowed to be loaded via this mode unless they are explicitly allowlisted by the user via `torch.serialization.add_safe_globals`. We recommend you start setting `weights_only=True` for any use case where you don't have full control of the loaded file. Please open an issue on GitHub for any issues related to this experimental feature.\n",
      "`torch.cuda.amp.autocast(args...)` is deprecated. Please use `torch.amp.autocast('cuda', args...)` instead.\n",
      "You are using `torch.load` with `weights_only=False` (the current default value), which uses the default pickle module implicitly. It is possible to construct malicious pickle data which will execute arbitrary code during unpickling (See https://github.com/pytorch/pytorch/blob/main/SECURITY.md#untrusted-models for more details). In a future release, the default value for `weights_only` will be flipped to `True`. This limits the functions that could be executed during unpickling. Arbitrary objects will no longer be allowed to be loaded via this mode unless they are explicitly allowlisted by the user via `torch.serialization.add_safe_globals`. We recommend you start setting `weights_only=True` for any use case where you don't have full control of the loaded file. Please open an issue on GitHub for any issues related to this experimental feature.\n",
      "`torch.cuda.amp.autocast(args...)` is deprecated. Please use `torch.amp.autocast('cuda', args...)` instead.\n",
      "You are using `torch.load` with `weights_only=False` (the current default value), which uses the default pickle module implicitly. It is possible to construct malicious pickle data which will execute arbitrary code during unpickling (See https://github.com/pytorch/pytorch/blob/main/SECURITY.md#untrusted-models for more details). In a future release, the default value for `weights_only` will be flipped to `True`. This limits the functions that could be executed during unpickling. Arbitrary objects will no longer be allowed to be loaded via this mode unless they are explicitly allowlisted by the user via `torch.serialization.add_safe_globals`. We recommend you start setting `weights_only=True` for any use case where you don't have full control of the loaded file. Please open an issue on GitHub for any issues related to this experimental feature.\n",
      "`torch.cuda.amp.autocast(args...)` is deprecated. Please use `torch.amp.autocast('cuda', args...)` instead.\n",
      "Ensembling (rank 0)...:  30%|███       | 3/10 [08:57<20:48, 178.38s/it]You are using `torch.load` with `weights_only=False` (the current default value), which uses the default pickle module implicitly. It is possible to construct malicious pickle data which will execute arbitrary code during unpickling (See https://github.com/pytorch/pytorch/blob/main/SECURITY.md#untrusted-models for more details). In a future release, the default value for `weights_only` will be flipped to `True`. This limits the functions that could be executed during unpickling. Arbitrary objects will no longer be allowed to be loaded via this mode unless they are explicitly allowlisted by the user via `torch.serialization.add_safe_globals`. We recommend you start setting `weights_only=True` for any use case where you don't have full control of the loaded file. Please open an issue on GitHub for any issues related to this experimental feature.\n",
      "`torch.cuda.amp.autocast(args...)` is deprecated. Please use `torch.amp.autocast('cuda', args...)` instead.\n",
      "You are using `torch.load` with `weights_only=False` (the current default value), which uses the default pickle module implicitly. It is possible to construct malicious pickle data which will execute arbitrary code during unpickling (See https://github.com/pytorch/pytorch/blob/main/SECURITY.md#untrusted-models for more details). In a future release, the default value for `weights_only` will be flipped to `True`. This limits the functions that could be executed during unpickling. Arbitrary objects will no longer be allowed to be loaded via this mode unless they are explicitly allowlisted by the user via `torch.serialization.add_safe_globals`. We recommend you start setting `weights_only=True` for any use case where you don't have full control of the loaded file. Please open an issue on GitHub for any issues related to this experimental feature.\n",
      "`torch.cuda.amp.autocast(args...)` is deprecated. Please use `torch.amp.autocast('cuda', args...)` instead.\n",
      "You are using `torch.load` with `weights_only=False` (the current default value), which uses the default pickle module implicitly. It is possible to construct malicious pickle data which will execute arbitrary code during unpickling (See https://github.com/pytorch/pytorch/blob/main/SECURITY.md#untrusted-models for more details). In a future release, the default value for `weights_only` will be flipped to `True`. This limits the functions that could be executed during unpickling. Arbitrary objects will no longer be allowed to be loaded via this mode unless they are explicitly allowlisted by the user via `torch.serialization.add_safe_globals`. We recommend you start setting `weights_only=True` for any use case where you don't have full control of the loaded file. Please open an issue on GitHub for any issues related to this experimental feature.\n",
      "`torch.cuda.amp.autocast(args...)` is deprecated. Please use `torch.amp.autocast('cuda', args...)` instead.\n",
      "You are using `torch.load` with `weights_only=False` (the current default value), which uses the default pickle module implicitly. It is possible to construct malicious pickle data which will execute arbitrary code during unpickling (See https://github.com/pytorch/pytorch/blob/main/SECURITY.md#untrusted-models for more details). In a future release, the default value for `weights_only` will be flipped to `True`. This limits the functions that could be executed during unpickling. Arbitrary objects will no longer be allowed to be loaded via this mode unless they are explicitly allowlisted by the user via `torch.serialization.add_safe_globals`. We recommend you start setting `weights_only=True` for any use case where you don't have full control of the loaded file. Please open an issue on GitHub for any issues related to this experimental feature.\n",
      "`torch.cuda.amp.autocast(args...)` is deprecated. Please use `torch.amp.autocast('cuda', args...)` instead.\n",
      "You are using `torch.load` with `weights_only=False` (the current default value), which uses the default pickle module implicitly. It is possible to construct malicious pickle data which will execute arbitrary code during unpickling (See https://github.com/pytorch/pytorch/blob/main/SECURITY.md#untrusted-models for more details). In a future release, the default value for `weights_only` will be flipped to `True`. This limits the functions that could be executed during unpickling. Arbitrary objects will no longer be allowed to be loaded via this mode unless they are explicitly allowlisted by the user via `torch.serialization.add_safe_globals`. We recommend you start setting `weights_only=True` for any use case where you don't have full control of the loaded file. Please open an issue on GitHub for any issues related to this experimental feature.\n",
      "`torch.cuda.amp.autocast(args...)` is deprecated. Please use `torch.amp.autocast('cuda', args...)` instead.\n",
      "Ensembling (rank 0)...:  40%|████      | 4/10 [11:56<17:52, 178.80s/it]You are using `torch.load` with `weights_only=False` (the current default value), which uses the default pickle module implicitly. It is possible to construct malicious pickle data which will execute arbitrary code during unpickling (See https://github.com/pytorch/pytorch/blob/main/SECURITY.md#untrusted-models for more details). In a future release, the default value for `weights_only` will be flipped to `True`. This limits the functions that could be executed during unpickling. Arbitrary objects will no longer be allowed to be loaded via this mode unless they are explicitly allowlisted by the user via `torch.serialization.add_safe_globals`. We recommend you start setting `weights_only=True` for any use case where you don't have full control of the loaded file. Please open an issue on GitHub for any issues related to this experimental feature.\n",
      "`torch.cuda.amp.autocast(args...)` is deprecated. Please use `torch.amp.autocast('cuda', args...)` instead.\n",
      "You are using `torch.load` with `weights_only=False` (the current default value), which uses the default pickle module implicitly. It is possible to construct malicious pickle data which will execute arbitrary code during unpickling (See https://github.com/pytorch/pytorch/blob/main/SECURITY.md#untrusted-models for more details). In a future release, the default value for `weights_only` will be flipped to `True`. This limits the functions that could be executed during unpickling. Arbitrary objects will no longer be allowed to be loaded via this mode unless they are explicitly allowlisted by the user via `torch.serialization.add_safe_globals`. We recommend you start setting `weights_only=True` for any use case where you don't have full control of the loaded file. Please open an issue on GitHub for any issues related to this experimental feature.\n",
      "`torch.cuda.amp.autocast(args...)` is deprecated. Please use `torch.amp.autocast('cuda', args...)` instead.\n",
      "You are using `torch.load` with `weights_only=False` (the current default value), which uses the default pickle module implicitly. It is possible to construct malicious pickle data which will execute arbitrary code during unpickling (See https://github.com/pytorch/pytorch/blob/main/SECURITY.md#untrusted-models for more details). In a future release, the default value for `weights_only` will be flipped to `True`. This limits the functions that could be executed during unpickling. Arbitrary objects will no longer be allowed to be loaded via this mode unless they are explicitly allowlisted by the user via `torch.serialization.add_safe_globals`. We recommend you start setting `weights_only=True` for any use case where you don't have full control of the loaded file. Please open an issue on GitHub for any issues related to this experimental feature.\n",
      "`torch.cuda.amp.autocast(args...)` is deprecated. Please use `torch.amp.autocast('cuda', args...)` instead.\n",
      "You are using `torch.load` with `weights_only=False` (the current default value), which uses the default pickle module implicitly. It is possible to construct malicious pickle data which will execute arbitrary code during unpickling (See https://github.com/pytorch/pytorch/blob/main/SECURITY.md#untrusted-models for more details). In a future release, the default value for `weights_only` will be flipped to `True`. This limits the functions that could be executed during unpickling. Arbitrary objects will no longer be allowed to be loaded via this mode unless they are explicitly allowlisted by the user via `torch.serialization.add_safe_globals`. We recommend you start setting `weights_only=True` for any use case where you don't have full control of the loaded file. Please open an issue on GitHub for any issues related to this experimental feature.\n",
      "`torch.cuda.amp.autocast(args...)` is deprecated. Please use `torch.amp.autocast('cuda', args...)` instead.\n",
      "You are using `torch.load` with `weights_only=False` (the current default value), which uses the default pickle module implicitly. It is possible to construct malicious pickle data which will execute arbitrary code during unpickling (See https://github.com/pytorch/pytorch/blob/main/SECURITY.md#untrusted-models for more details). In a future release, the default value for `weights_only` will be flipped to `True`. This limits the functions that could be executed during unpickling. Arbitrary objects will no longer be allowed to be loaded via this mode unless they are explicitly allowlisted by the user via `torch.serialization.add_safe_globals`. We recommend you start setting `weights_only=True` for any use case where you don't have full control of the loaded file. Please open an issue on GitHub for any issues related to this experimental feature.\n",
      "`torch.cuda.amp.autocast(args...)` is deprecated. Please use `torch.amp.autocast('cuda', args...)` instead.\n",
      "Ensembling (rank 0)...:  50%|█████     | 5/10 [14:56<14:55, 179.03s/it]You are using `torch.load` with `weights_only=False` (the current default value), which uses the default pickle module implicitly. It is possible to construct malicious pickle data which will execute arbitrary code during unpickling (See https://github.com/pytorch/pytorch/blob/main/SECURITY.md#untrusted-models for more details). In a future release, the default value for `weights_only` will be flipped to `True`. This limits the functions that could be executed during unpickling. Arbitrary objects will no longer be allowed to be loaded via this mode unless they are explicitly allowlisted by the user via `torch.serialization.add_safe_globals`. We recommend you start setting `weights_only=True` for any use case where you don't have full control of the loaded file. Please open an issue on GitHub for any issues related to this experimental feature.\n",
      "`torch.cuda.amp.autocast(args...)` is deprecated. Please use `torch.amp.autocast('cuda', args...)` instead.\n",
      "You are using `torch.load` with `weights_only=False` (the current default value), which uses the default pickle module implicitly. It is possible to construct malicious pickle data which will execute arbitrary code during unpickling (See https://github.com/pytorch/pytorch/blob/main/SECURITY.md#untrusted-models for more details). In a future release, the default value for `weights_only` will be flipped to `True`. This limits the functions that could be executed during unpickling. Arbitrary objects will no longer be allowed to be loaded via this mode unless they are explicitly allowlisted by the user via `torch.serialization.add_safe_globals`. We recommend you start setting `weights_only=True` for any use case where you don't have full control of the loaded file. Please open an issue on GitHub for any issues related to this experimental feature.\n",
      "`torch.cuda.amp.autocast(args...)` is deprecated. Please use `torch.amp.autocast('cuda', args...)` instead.\n",
      "You are using `torch.load` with `weights_only=False` (the current default value), which uses the default pickle module implicitly. It is possible to construct malicious pickle data which will execute arbitrary code during unpickling (See https://github.com/pytorch/pytorch/blob/main/SECURITY.md#untrusted-models for more details). In a future release, the default value for `weights_only` will be flipped to `True`. This limits the functions that could be executed during unpickling. Arbitrary objects will no longer be allowed to be loaded via this mode unless they are explicitly allowlisted by the user via `torch.serialization.add_safe_globals`. We recommend you start setting `weights_only=True` for any use case where you don't have full control of the loaded file. Please open an issue on GitHub for any issues related to this experimental feature.\n",
      "`torch.cuda.amp.autocast(args...)` is deprecated. Please use `torch.amp.autocast('cuda', args...)` instead.\n",
      "You are using `torch.load` with `weights_only=False` (the current default value), which uses the default pickle module implicitly. It is possible to construct malicious pickle data which will execute arbitrary code during unpickling (See https://github.com/pytorch/pytorch/blob/main/SECURITY.md#untrusted-models for more details). In a future release, the default value for `weights_only` will be flipped to `True`. This limits the functions that could be executed during unpickling. Arbitrary objects will no longer be allowed to be loaded via this mode unless they are explicitly allowlisted by the user via `torch.serialization.add_safe_globals`. We recommend you start setting `weights_only=True` for any use case where you don't have full control of the loaded file. Please open an issue on GitHub for any issues related to this experimental feature.\n",
      "`torch.cuda.amp.autocast(args...)` is deprecated. Please use `torch.amp.autocast('cuda', args...)` instead.\n",
      "You are using `torch.load` with `weights_only=False` (the current default value), which uses the default pickle module implicitly. It is possible to construct malicious pickle data which will execute arbitrary code during unpickling (See https://github.com/pytorch/pytorch/blob/main/SECURITY.md#untrusted-models for more details). In a future release, the default value for `weights_only` will be flipped to `True`. This limits the functions that could be executed during unpickling. Arbitrary objects will no longer be allowed to be loaded via this mode unless they are explicitly allowlisted by the user via `torch.serialization.add_safe_globals`. We recommend you start setting `weights_only=True` for any use case where you don't have full control of the loaded file. Please open an issue on GitHub for any issues related to this experimental feature.\n",
      "`torch.cuda.amp.autocast(args...)` is deprecated. Please use `torch.amp.autocast('cuda', args...)` instead.\n",
      "Ensembling (rank 0)...:  60%|██████    | 6/10 [17:55<11:55, 178.95s/it]You are using `torch.load` with `weights_only=False` (the current default value), which uses the default pickle module implicitly. It is possible to construct malicious pickle data which will execute arbitrary code during unpickling (See https://github.com/pytorch/pytorch/blob/main/SECURITY.md#untrusted-models for more details). In a future release, the default value for `weights_only` will be flipped to `True`. This limits the functions that could be executed during unpickling. Arbitrary objects will no longer be allowed to be loaded via this mode unless they are explicitly allowlisted by the user via `torch.serialization.add_safe_globals`. We recommend you start setting `weights_only=True` for any use case where you don't have full control of the loaded file. Please open an issue on GitHub for any issues related to this experimental feature.\n",
      "`torch.cuda.amp.autocast(args...)` is deprecated. Please use `torch.amp.autocast('cuda', args...)` instead.\n",
      "You are using `torch.load` with `weights_only=False` (the current default value), which uses the default pickle module implicitly. It is possible to construct malicious pickle data which will execute arbitrary code during unpickling (See https://github.com/pytorch/pytorch/blob/main/SECURITY.md#untrusted-models for more details). In a future release, the default value for `weights_only` will be flipped to `True`. This limits the functions that could be executed during unpickling. Arbitrary objects will no longer be allowed to be loaded via this mode unless they are explicitly allowlisted by the user via `torch.serialization.add_safe_globals`. We recommend you start setting `weights_only=True` for any use case where you don't have full control of the loaded file. Please open an issue on GitHub for any issues related to this experimental feature.\n",
      "`torch.cuda.amp.autocast(args...)` is deprecated. Please use `torch.amp.autocast('cuda', args...)` instead.\n",
      "You are using `torch.load` with `weights_only=False` (the current default value), which uses the default pickle module implicitly. It is possible to construct malicious pickle data which will execute arbitrary code during unpickling (See https://github.com/pytorch/pytorch/blob/main/SECURITY.md#untrusted-models for more details). In a future release, the default value for `weights_only` will be flipped to `True`. This limits the functions that could be executed during unpickling. Arbitrary objects will no longer be allowed to be loaded via this mode unless they are explicitly allowlisted by the user via `torch.serialization.add_safe_globals`. We recommend you start setting `weights_only=True` for any use case where you don't have full control of the loaded file. Please open an issue on GitHub for any issues related to this experimental feature.\n",
      "`torch.cuda.amp.autocast(args...)` is deprecated. Please use `torch.amp.autocast('cuda', args...)` instead.\n",
      "You are using `torch.load` with `weights_only=False` (the current default value), which uses the default pickle module implicitly. It is possible to construct malicious pickle data which will execute arbitrary code during unpickling (See https://github.com/pytorch/pytorch/blob/main/SECURITY.md#untrusted-models for more details). In a future release, the default value for `weights_only` will be flipped to `True`. This limits the functions that could be executed during unpickling. Arbitrary objects will no longer be allowed to be loaded via this mode unless they are explicitly allowlisted by the user via `torch.serialization.add_safe_globals`. We recommend you start setting `weights_only=True` for any use case where you don't have full control of the loaded file. Please open an issue on GitHub for any issues related to this experimental feature.\n",
      "`torch.cuda.amp.autocast(args...)` is deprecated. Please use `torch.amp.autocast('cuda', args...)` instead.\n",
      "You are using `torch.load` with `weights_only=False` (the current default value), which uses the default pickle module implicitly. It is possible to construct malicious pickle data which will execute arbitrary code during unpickling (See https://github.com/pytorch/pytorch/blob/main/SECURITY.md#untrusted-models for more details). In a future release, the default value for `weights_only` will be flipped to `True`. This limits the functions that could be executed during unpickling. Arbitrary objects will no longer be allowed to be loaded via this mode unless they are explicitly allowlisted by the user via `torch.serialization.add_safe_globals`. We recommend you start setting `weights_only=True` for any use case where you don't have full control of the loaded file. Please open an issue on GitHub for any issues related to this experimental feature.\n",
      "`torch.cuda.amp.autocast(args...)` is deprecated. Please use `torch.amp.autocast('cuda', args...)` instead.\n",
      "Ensembling (rank 0)...:  70%|███████   | 7/10 [20:17<08:20, 166.81s/it]You are using `torch.load` with `weights_only=False` (the current default value), which uses the default pickle module implicitly. It is possible to construct malicious pickle data which will execute arbitrary code during unpickling (See https://github.com/pytorch/pytorch/blob/main/SECURITY.md#untrusted-models for more details). In a future release, the default value for `weights_only` will be flipped to `True`. This limits the functions that could be executed during unpickling. Arbitrary objects will no longer be allowed to be loaded via this mode unless they are explicitly allowlisted by the user via `torch.serialization.add_safe_globals`. We recommend you start setting `weights_only=True` for any use case where you don't have full control of the loaded file. Please open an issue on GitHub for any issues related to this experimental feature.\n",
      "`torch.cuda.amp.autocast(args...)` is deprecated. Please use `torch.amp.autocast('cuda', args...)` instead.\n",
      "You are using `torch.load` with `weights_only=False` (the current default value), which uses the default pickle module implicitly. It is possible to construct malicious pickle data which will execute arbitrary code during unpickling (See https://github.com/pytorch/pytorch/blob/main/SECURITY.md#untrusted-models for more details). In a future release, the default value for `weights_only` will be flipped to `True`. This limits the functions that could be executed during unpickling. Arbitrary objects will no longer be allowed to be loaded via this mode unless they are explicitly allowlisted by the user via `torch.serialization.add_safe_globals`. We recommend you start setting `weights_only=True` for any use case where you don't have full control of the loaded file. Please open an issue on GitHub for any issues related to this experimental feature.\n",
      "`torch.cuda.amp.autocast(args...)` is deprecated. Please use `torch.amp.autocast('cuda', args...)` instead.\n",
      "You are using `torch.load` with `weights_only=False` (the current default value), which uses the default pickle module implicitly. It is possible to construct malicious pickle data which will execute arbitrary code during unpickling (See https://github.com/pytorch/pytorch/blob/main/SECURITY.md#untrusted-models for more details). In a future release, the default value for `weights_only` will be flipped to `True`. This limits the functions that could be executed during unpickling. Arbitrary objects will no longer be allowed to be loaded via this mode unless they are explicitly allowlisted by the user via `torch.serialization.add_safe_globals`. We recommend you start setting `weights_only=True` for any use case where you don't have full control of the loaded file. Please open an issue on GitHub for any issues related to this experimental feature.\n",
      "`torch.cuda.amp.autocast(args...)` is deprecated. Please use `torch.amp.autocast('cuda', args...)` instead.\n",
      "You are using `torch.load` with `weights_only=False` (the current default value), which uses the default pickle module implicitly. It is possible to construct malicious pickle data which will execute arbitrary code during unpickling (See https://github.com/pytorch/pytorch/blob/main/SECURITY.md#untrusted-models for more details). In a future release, the default value for `weights_only` will be flipped to `True`. This limits the functions that could be executed during unpickling. Arbitrary objects will no longer be allowed to be loaded via this mode unless they are explicitly allowlisted by the user via `torch.serialization.add_safe_globals`. We recommend you start setting `weights_only=True` for any use case where you don't have full control of the loaded file. Please open an issue on GitHub for any issues related to this experimental feature.\n",
      "`torch.cuda.amp.autocast(args...)` is deprecated. Please use `torch.amp.autocast('cuda', args...)` instead.\n",
      "You are using `torch.load` with `weights_only=False` (the current default value), which uses the default pickle module implicitly. It is possible to construct malicious pickle data which will execute arbitrary code during unpickling (See https://github.com/pytorch/pytorch/blob/main/SECURITY.md#untrusted-models for more details). In a future release, the default value for `weights_only` will be flipped to `True`. This limits the functions that could be executed during unpickling. Arbitrary objects will no longer be allowed to be loaded via this mode unless they are explicitly allowlisted by the user via `torch.serialization.add_safe_globals`. We recommend you start setting `weights_only=True` for any use case where you don't have full control of the loaded file. Please open an issue on GitHub for any issues related to this experimental feature.\n",
      "`torch.cuda.amp.autocast(args...)` is deprecated. Please use `torch.amp.autocast('cuda', args...)` instead.\n",
      "Ensembling (rank 0)...:  80%|████████  | 8/10 [23:15<05:41, 170.59s/it]You are using `torch.load` with `weights_only=False` (the current default value), which uses the default pickle module implicitly. It is possible to construct malicious pickle data which will execute arbitrary code during unpickling (See https://github.com/pytorch/pytorch/blob/main/SECURITY.md#untrusted-models for more details). In a future release, the default value for `weights_only` will be flipped to `True`. This limits the functions that could be executed during unpickling. Arbitrary objects will no longer be allowed to be loaded via this mode unless they are explicitly allowlisted by the user via `torch.serialization.add_safe_globals`. We recommend you start setting `weights_only=True` for any use case where you don't have full control of the loaded file. Please open an issue on GitHub for any issues related to this experimental feature.\n",
      "`torch.cuda.amp.autocast(args...)` is deprecated. Please use `torch.amp.autocast('cuda', args...)` instead.\n",
      "You are using `torch.load` with `weights_only=False` (the current default value), which uses the default pickle module implicitly. It is possible to construct malicious pickle data which will execute arbitrary code during unpickling (See https://github.com/pytorch/pytorch/blob/main/SECURITY.md#untrusted-models for more details). In a future release, the default value for `weights_only` will be flipped to `True`. This limits the functions that could be executed during unpickling. Arbitrary objects will no longer be allowed to be loaded via this mode unless they are explicitly allowlisted by the user via `torch.serialization.add_safe_globals`. We recommend you start setting `weights_only=True` for any use case where you don't have full control of the loaded file. Please open an issue on GitHub for any issues related to this experimental feature.\n",
      "`torch.cuda.amp.autocast(args...)` is deprecated. Please use `torch.amp.autocast('cuda', args...)` instead.\n",
      "You are using `torch.load` with `weights_only=False` (the current default value), which uses the default pickle module implicitly. It is possible to construct malicious pickle data which will execute arbitrary code during unpickling (See https://github.com/pytorch/pytorch/blob/main/SECURITY.md#untrusted-models for more details). In a future release, the default value for `weights_only` will be flipped to `True`. This limits the functions that could be executed during unpickling. Arbitrary objects will no longer be allowed to be loaded via this mode unless they are explicitly allowlisted by the user via `torch.serialization.add_safe_globals`. We recommend you start setting `weights_only=True` for any use case where you don't have full control of the loaded file. Please open an issue on GitHub for any issues related to this experimental feature.\n",
      "`torch.cuda.amp.autocast(args...)` is deprecated. Please use `torch.amp.autocast('cuda', args...)` instead.\n",
      "You are using `torch.load` with `weights_only=False` (the current default value), which uses the default pickle module implicitly. It is possible to construct malicious pickle data which will execute arbitrary code during unpickling (See https://github.com/pytorch/pytorch/blob/main/SECURITY.md#untrusted-models for more details). In a future release, the default value for `weights_only` will be flipped to `True`. This limits the functions that could be executed during unpickling. Arbitrary objects will no longer be allowed to be loaded via this mode unless they are explicitly allowlisted by the user via `torch.serialization.add_safe_globals`. We recommend you start setting `weights_only=True` for any use case where you don't have full control of the loaded file. Please open an issue on GitHub for any issues related to this experimental feature.\n",
      "`torch.cuda.amp.autocast(args...)` is deprecated. Please use `torch.amp.autocast('cuda', args...)` instead.\n",
      "You are using `torch.load` with `weights_only=False` (the current default value), which uses the default pickle module implicitly. It is possible to construct malicious pickle data which will execute arbitrary code during unpickling (See https://github.com/pytorch/pytorch/blob/main/SECURITY.md#untrusted-models for more details). In a future release, the default value for `weights_only` will be flipped to `True`. This limits the functions that could be executed during unpickling. Arbitrary objects will no longer be allowed to be loaded via this mode unless they are explicitly allowlisted by the user via `torch.serialization.add_safe_globals`. We recommend you start setting `weights_only=True` for any use case where you don't have full control of the loaded file. Please open an issue on GitHub for any issues related to this experimental feature.\n",
      "`torch.cuda.amp.autocast(args...)` is deprecated. Please use `torch.amp.autocast('cuda', args...)` instead.\n",
      "Ensembling (rank 0)...:  90%|█████████ | 9/10 [26:14<02:53, 173.06s/it]You are using `torch.load` with `weights_only=False` (the current default value), which uses the default pickle module implicitly. It is possible to construct malicious pickle data which will execute arbitrary code during unpickling (See https://github.com/pytorch/pytorch/blob/main/SECURITY.md#untrusted-models for more details). In a future release, the default value for `weights_only` will be flipped to `True`. This limits the functions that could be executed during unpickling. Arbitrary objects will no longer be allowed to be loaded via this mode unless they are explicitly allowlisted by the user via `torch.serialization.add_safe_globals`. We recommend you start setting `weights_only=True` for any use case where you don't have full control of the loaded file. Please open an issue on GitHub for any issues related to this experimental feature.\n",
      "`torch.cuda.amp.autocast(args...)` is deprecated. Please use `torch.amp.autocast('cuda', args...)` instead.\n",
      "You are using `torch.load` with `weights_only=False` (the current default value), which uses the default pickle module implicitly. It is possible to construct malicious pickle data which will execute arbitrary code during unpickling (See https://github.com/pytorch/pytorch/blob/main/SECURITY.md#untrusted-models for more details). In a future release, the default value for `weights_only` will be flipped to `True`. This limits the functions that could be executed during unpickling. Arbitrary objects will no longer be allowed to be loaded via this mode unless they are explicitly allowlisted by the user via `torch.serialization.add_safe_globals`. We recommend you start setting `weights_only=True` for any use case where you don't have full control of the loaded file. Please open an issue on GitHub for any issues related to this experimental feature.\n",
      "`torch.cuda.amp.autocast(args...)` is deprecated. Please use `torch.amp.autocast('cuda', args...)` instead.\n",
      "You are using `torch.load` with `weights_only=False` (the current default value), which uses the default pickle module implicitly. It is possible to construct malicious pickle data which will execute arbitrary code during unpickling (See https://github.com/pytorch/pytorch/blob/main/SECURITY.md#untrusted-models for more details). In a future release, the default value for `weights_only` will be flipped to `True`. This limits the functions that could be executed during unpickling. Arbitrary objects will no longer be allowed to be loaded via this mode unless they are explicitly allowlisted by the user via `torch.serialization.add_safe_globals`. We recommend you start setting `weights_only=True` for any use case where you don't have full control of the loaded file. Please open an issue on GitHub for any issues related to this experimental feature.\n",
      "`torch.cuda.amp.autocast(args...)` is deprecated. Please use `torch.amp.autocast('cuda', args...)` instead.\n",
      "You are using `torch.load` with `weights_only=False` (the current default value), which uses the default pickle module implicitly. It is possible to construct malicious pickle data which will execute arbitrary code during unpickling (See https://github.com/pytorch/pytorch/blob/main/SECURITY.md#untrusted-models for more details). In a future release, the default value for `weights_only` will be flipped to `True`. This limits the functions that could be executed during unpickling. Arbitrary objects will no longer be allowed to be loaded via this mode unless they are explicitly allowlisted by the user via `torch.serialization.add_safe_globals`. We recommend you start setting `weights_only=True` for any use case where you don't have full control of the loaded file. Please open an issue on GitHub for any issues related to this experimental feature.\n",
      "`torch.cuda.amp.autocast(args...)` is deprecated. Please use `torch.amp.autocast('cuda', args...)` instead.\n",
      "You are using `torch.load` with `weights_only=False` (the current default value), which uses the default pickle module implicitly. It is possible to construct malicious pickle data which will execute arbitrary code during unpickling (See https://github.com/pytorch/pytorch/blob/main/SECURITY.md#untrusted-models for more details). In a future release, the default value for `weights_only` will be flipped to `True`. This limits the functions that could be executed during unpickling. Arbitrary objects will no longer be allowed to be loaded via this mode unless they are explicitly allowlisted by the user via `torch.serialization.add_safe_globals`. We recommend you start setting `weights_only=True` for any use case where you don't have full control of the loaded file. Please open an issue on GitHub for any issues related to this experimental feature.\n",
      "`torch.cuda.amp.autocast(args...)` is deprecated. Please use `torch.amp.autocast('cuda', args...)` instead.\n",
      "Ensembling (rank 0)...: 100%|██████████| 10/10 [29:12<00:00, 175.26s/it]\n",
      "2024-12-11 04:44:40,483 - INFO - Auto3Dseg pipeline is completed successfully.\n"
     ]
    }
   ],
   "source": [
    "runner.run()"
   ]
  },
  {
   "cell_type": "code",
   "execution_count": 70,
   "id": "c0b27eda",
   "metadata": {},
   "outputs": [],
   "source": [
    "load_data = False\n",
    "work_dir_name = \"choroid_resegment3\"\n",
    "work_dir = training_work_dirs / work_dir_name\n",
    "modalities = [\"flair\", \"t1\"]\n",
    "labels = [\"choroid_t1_flair\"]"
   ]
  },
  {
   "cell_type": "code",
   "execution_count": 71,
   "id": "385900fb",
   "metadata": {},
   "outputs": [],
   "source": [
    "if not load_data:\n",
    "    dataset, _ = preprocess.load_dataset(\"dataset.json\")"
   ]
  },
  {
   "cell_type": "code",
   "execution_count": 72,
   "id": "6df01786",
   "metadata": {},
   "outputs": [
    {
     "name": "stderr",
     "output_type": "stream",
     "text": [
      "\u001b[32m2024-12-11 04:44:40.512\u001b[0m | \u001b[1mINFO    \u001b[0m | \u001b[36mmonai_training.preprocess\u001b[0m:\u001b[36mprepare_labels\u001b[0m:\u001b[36m167\u001b[0m - \u001b[1mPrepare Labels\u001b[0m\n",
      "  0%|          | 0/40 [00:00<?, ?it/s]\u001b[32m2024-12-11 04:44:40.525\u001b[0m | \u001b[1mINFO    \u001b[0m | \u001b[36mmonai_training.preprocess\u001b[0m:\u001b[36mprepare_labels\u001b[0m:\u001b[36m226\u001b[0m - \u001b[1mFound label choroid_t1_flair-CH.nii.gz for Scan(subid=1010, sesid=20180208)\u001b[0m\n",
      "\u001b[32m2024-12-11 04:44:40.533\u001b[0m | \u001b[1mINFO    \u001b[0m | \u001b[36mmonai_training.preprocess\u001b[0m:\u001b[36mprepare_labels\u001b[0m:\u001b[36m226\u001b[0m - \u001b[1mFound label choroid_t1_flair-CH.nii.gz for Scan(subid=1011, sesid=20180911)\u001b[0m\n",
      "\u001b[32m2024-12-11 04:44:40.539\u001b[0m | \u001b[1mINFO    \u001b[0m | \u001b[36mmonai_training.preprocess\u001b[0m:\u001b[36mprepare_labels\u001b[0m:\u001b[36m226\u001b[0m - \u001b[1mFound label choroid_t1_flair-CH.nii.gz for Scan(subid=1019, sesid=20190608)\u001b[0m\n",
      "\u001b[32m2024-12-11 04:44:40.545\u001b[0m | \u001b[1mINFO    \u001b[0m | \u001b[36mmonai_training.preprocess\u001b[0m:\u001b[36mprepare_labels\u001b[0m:\u001b[36m226\u001b[0m - \u001b[1mFound label choroid_t1_flair-CH.nii.gz for Scan(subid=1029, sesid=20170816)\u001b[0m\n",
      "\u001b[32m2024-12-11 04:44:40.550\u001b[0m | \u001b[1mINFO    \u001b[0m | \u001b[36mmonai_training.preprocess\u001b[0m:\u001b[36mprepare_labels\u001b[0m:\u001b[36m226\u001b[0m - \u001b[1mFound label choroid_t1_flair-CH.nii.gz for Scan(subid=1033, sesid=20171117)\u001b[0m\n",
      "\u001b[32m2024-12-11 04:44:40.557\u001b[0m | \u001b[1mINFO    \u001b[0m | \u001b[36mmonai_training.preprocess\u001b[0m:\u001b[36mprepare_labels\u001b[0m:\u001b[36m226\u001b[0m - \u001b[1mFound label choroid_t1_flair-CH.nii.gz for Scan(subid=1037, sesid=20210508)\u001b[0m\n",
      "\u001b[32m2024-12-11 04:44:40.563\u001b[0m | \u001b[1mINFO    \u001b[0m | \u001b[36mmonai_training.preprocess\u001b[0m:\u001b[36mprepare_labels\u001b[0m:\u001b[36m226\u001b[0m - \u001b[1mFound label choroid_t1_flair-CH.nii.gz for Scan(subid=1038, sesid=20161031)\u001b[0m\n",
      "\u001b[32m2024-12-11 04:44:40.569\u001b[0m | \u001b[1mINFO    \u001b[0m | \u001b[36mmonai_training.preprocess\u001b[0m:\u001b[36mprepare_labels\u001b[0m:\u001b[36m226\u001b[0m - \u001b[1mFound label choroid_t1_flair-ED.nii.gz for Scan(subid=1080, sesid=20180416)\u001b[0m\n",
      "\u001b[32m2024-12-11 04:44:40.574\u001b[0m | \u001b[1mINFO    \u001b[0m | \u001b[36mmonai_training.preprocess\u001b[0m:\u001b[36mprepare_labels\u001b[0m:\u001b[36m226\u001b[0m - \u001b[1mFound label choroid_t1_flair-CH.nii.gz for Scan(subid=1085, sesid=20220228)\u001b[0m\n",
      "\u001b[32m2024-12-11 04:44:40.579\u001b[0m | \u001b[1mINFO    \u001b[0m | \u001b[36mmonai_training.preprocess\u001b[0m:\u001b[36mprepare_labels\u001b[0m:\u001b[36m226\u001b[0m - \u001b[1mFound label choroid_t1_flair-CH.nii.gz for Scan(subid=1087, sesid=20200717)\u001b[0m\n",
      "\u001b[32m2024-12-11 04:44:40.585\u001b[0m | \u001b[1mINFO    \u001b[0m | \u001b[36mmonai_training.preprocess\u001b[0m:\u001b[36mprepare_labels\u001b[0m:\u001b[36m226\u001b[0m - \u001b[1mFound label choroid_t1_flair-CH.nii.gz for Scan(subid=1089, sesid=20210612)\u001b[0m\n",
      "\u001b[32m2024-12-11 04:44:40.592\u001b[0m | \u001b[1mINFO    \u001b[0m | \u001b[36mmonai_training.preprocess\u001b[0m:\u001b[36mprepare_labels\u001b[0m:\u001b[36m226\u001b[0m - \u001b[1mFound label choroid_t1_flair-ED.nii.gz for Scan(subid=1109, sesid=20180303)\u001b[0m\n",
      "\u001b[32m2024-12-11 04:44:40.597\u001b[0m | \u001b[1mINFO    \u001b[0m | \u001b[36mmonai_training.preprocess\u001b[0m:\u001b[36mprepare_labels\u001b[0m:\u001b[36m226\u001b[0m - \u001b[1mFound label choroid_t1_flair-CH.nii.gz for Scan(subid=1119, sesid=20161010)\u001b[0m\n",
      "\u001b[32m2024-12-11 04:44:40.602\u001b[0m | \u001b[1mINFO    \u001b[0m | \u001b[36mmonai_training.preprocess\u001b[0m:\u001b[36mprepare_labels\u001b[0m:\u001b[36m226\u001b[0m - \u001b[1mFound label choroid_t1_flair-ED.nii.gz for Scan(subid=1152, sesid=20170529)\u001b[0m\n",
      "\u001b[32m2024-12-11 04:44:40.608\u001b[0m | \u001b[1mINFO    \u001b[0m | \u001b[36mmonai_training.preprocess\u001b[0m:\u001b[36mprepare_labels\u001b[0m:\u001b[36m226\u001b[0m - \u001b[1mFound label choroid_t1_flair-CH.nii.gz for Scan(subid=1163, sesid=20180907)\u001b[0m\n",
      "\u001b[32m2024-12-11 04:44:40.614\u001b[0m | \u001b[1mINFO    \u001b[0m | \u001b[36mmonai_training.preprocess\u001b[0m:\u001b[36mprepare_labels\u001b[0m:\u001b[36m226\u001b[0m - \u001b[1mFound label choroid_t1_flair-ED.nii.gz for Scan(subid=1188, sesid=20200720)\u001b[0m\n",
      " 40%|████      | 16/40 [00:00<00:00, 159.40it/s]\u001b[32m2024-12-11 04:44:40.620\u001b[0m | \u001b[1mINFO    \u001b[0m | \u001b[36mmonai_training.preprocess\u001b[0m:\u001b[36mprepare_labels\u001b[0m:\u001b[36m226\u001b[0m - \u001b[1mFound label choroid_t1_flair-CH.nii.gz for Scan(subid=1191, sesid=20190124)\u001b[0m\n",
      "\u001b[32m2024-12-11 04:44:40.625\u001b[0m | \u001b[1mINFO    \u001b[0m | \u001b[36mmonai_training.preprocess\u001b[0m:\u001b[36mprepare_labels\u001b[0m:\u001b[36m226\u001b[0m - \u001b[1mFound label choroid_t1_flair-ED.nii.gz for Scan(subid=1234, sesid=20180214)\u001b[0m\n",
      "\u001b[32m2024-12-11 04:44:40.630\u001b[0m | \u001b[1mINFO    \u001b[0m | \u001b[36mmonai_training.preprocess\u001b[0m:\u001b[36mprepare_labels\u001b[0m:\u001b[36m226\u001b[0m - \u001b[1mFound label choroid_t1_flair-ED.nii.gz for Scan(subid=1259, sesid=20200803)\u001b[0m\n",
      "\u001b[32m2024-12-11 04:44:40.634\u001b[0m | \u001b[1mINFO    \u001b[0m | \u001b[36mmonai_training.preprocess\u001b[0m:\u001b[36mprepare_labels\u001b[0m:\u001b[36m226\u001b[0m - \u001b[1mFound label choroid_t1_flair-CH.nii.gz for Scan(subid=1265, sesid=20180127)\u001b[0m\n",
      "\u001b[32m2024-12-11 04:44:40.646\u001b[0m | \u001b[1mINFO    \u001b[0m | \u001b[36mmonai_training.preprocess\u001b[0m:\u001b[36mprepare_labels\u001b[0m:\u001b[36m226\u001b[0m - \u001b[1mFound label choroid_t1_flair-ED.nii.gz for Scan(subid=1272, sesid=20211105)\u001b[0m\n",
      "\u001b[32m2024-12-11 04:44:40.650\u001b[0m | \u001b[1mINFO    \u001b[0m | \u001b[36mmonai_training.preprocess\u001b[0m:\u001b[36mprepare_labels\u001b[0m:\u001b[36m226\u001b[0m - \u001b[1mFound label choroid_t1_flair-ED.nii.gz for Scan(subid=1280, sesid=20220317)\u001b[0m\n",
      "\u001b[32m2024-12-11 04:44:40.658\u001b[0m | \u001b[1mINFO    \u001b[0m | \u001b[36mmonai_training.preprocess\u001b[0m:\u001b[36mprepare_labels\u001b[0m:\u001b[36m226\u001b[0m - \u001b[1mFound label choroid_t1_flair-ED.nii.gz for Scan(subid=1293, sesid=20161129)\u001b[0m\n",
      "\u001b[32m2024-12-11 04:44:40.664\u001b[0m | \u001b[1mINFO    \u001b[0m | \u001b[36mmonai_training.preprocess\u001b[0m:\u001b[36mprepare_labels\u001b[0m:\u001b[36m226\u001b[0m - \u001b[1mFound label choroid_t1_flair-CH.nii.gz for Scan(subid=1321, sesid=20201020)\u001b[0m\n",
      "\u001b[32m2024-12-11 04:44:40.669\u001b[0m | \u001b[1mINFO    \u001b[0m | \u001b[36mmonai_training.preprocess\u001b[0m:\u001b[36mprepare_labels\u001b[0m:\u001b[36m226\u001b[0m - \u001b[1mFound label choroid_t1_flair-ED.nii.gz for Scan(subid=1355, sesid=20210104)\u001b[0m\n",
      "\u001b[32m2024-12-11 04:44:40.677\u001b[0m | \u001b[1mINFO    \u001b[0m | \u001b[36mmonai_training.preprocess\u001b[0m:\u001b[36mprepare_labels\u001b[0m:\u001b[36m226\u001b[0m - \u001b[1mFound label choroid_t1_flair-CH.nii.gz for Scan(subid=1437, sesid=20210503)\u001b[0m\n",
      "\u001b[32m2024-12-11 04:44:40.682\u001b[0m | \u001b[1mINFO    \u001b[0m | \u001b[36mmonai_training.preprocess\u001b[0m:\u001b[36mprepare_labels\u001b[0m:\u001b[36m226\u001b[0m - \u001b[1mFound label choroid_t1_flair-ED.nii.gz for Scan(subid=1498, sesid=20210602)\u001b[0m\n",
      "\u001b[32m2024-12-11 04:44:40.688\u001b[0m | \u001b[1mINFO    \u001b[0m | \u001b[36mmonai_training.preprocess\u001b[0m:\u001b[36mprepare_labels\u001b[0m:\u001b[36m226\u001b[0m - \u001b[1mFound label choroid_t1_flair-CH.nii.gz for Scan(subid=1518, sesid=20220216)\u001b[0m\n",
      "\u001b[32m2024-12-11 04:44:40.694\u001b[0m | \u001b[1mINFO    \u001b[0m | \u001b[36mmonai_training.preprocess\u001b[0m:\u001b[36mprepare_labels\u001b[0m:\u001b[36m226\u001b[0m - \u001b[1mFound label choroid_t1_flair-CH.nii.gz for Scan(subid=1540, sesid=20201222)\u001b[0m\n",
      "\u001b[32m2024-12-11 04:44:40.700\u001b[0m | \u001b[1mINFO    \u001b[0m | \u001b[36mmonai_training.preprocess\u001b[0m:\u001b[36mprepare_labels\u001b[0m:\u001b[36m226\u001b[0m - \u001b[1mFound label choroid_t1_flair-ED.nii.gz for Scan(subid=1547, sesid=20220321)\u001b[0m\n",
      "\u001b[32m2024-12-11 04:44:40.707\u001b[0m | \u001b[1mINFO    \u001b[0m | \u001b[36mmonai_training.preprocess\u001b[0m:\u001b[36mprepare_labels\u001b[0m:\u001b[36m226\u001b[0m - \u001b[1mFound label choroid_t1_flair-CH.nii.gz for Scan(subid=1548, sesid=20210628)\u001b[0m\n",
      "\u001b[32m2024-12-11 04:44:40.716\u001b[0m | \u001b[1mINFO    \u001b[0m | \u001b[36mmonai_training.preprocess\u001b[0m:\u001b[36mprepare_labels\u001b[0m:\u001b[36m226\u001b[0m - \u001b[1mFound label choroid_t1_flair-ED.nii.gz for Scan(subid=2081, sesid=20170204)\u001b[0m\n",
      " 80%|████████  | 32/40 [00:00<00:00, 157.20it/s]\u001b[32m2024-12-11 04:44:40.724\u001b[0m | \u001b[1mINFO    \u001b[0m | \u001b[36mmonai_training.preprocess\u001b[0m:\u001b[36mprepare_labels\u001b[0m:\u001b[36m226\u001b[0m - \u001b[1mFound label choroid_t1_flair-ED.nii.gz for Scan(subid=2083, sesid=20170502)\u001b[0m\n",
      "\u001b[32m2024-12-11 04:44:40.730\u001b[0m | \u001b[1mINFO    \u001b[0m | \u001b[36mmonai_training.preprocess\u001b[0m:\u001b[36mprepare_labels\u001b[0m:\u001b[36m226\u001b[0m - \u001b[1mFound label choroid_t1_flair-ED.nii.gz for Scan(subid=2097, sesid=20171223)\u001b[0m\n",
      "\u001b[32m2024-12-11 04:44:40.737\u001b[0m | \u001b[1mINFO    \u001b[0m | \u001b[36mmonai_training.preprocess\u001b[0m:\u001b[36mprepare_labels\u001b[0m:\u001b[36m226\u001b[0m - \u001b[1mFound label choroid_t1_flair-ED.nii.gz for Scan(subid=2126, sesid=20181224)\u001b[0m\n",
      "\u001b[32m2024-12-11 04:44:40.743\u001b[0m | \u001b[1mINFO    \u001b[0m | \u001b[36mmonai_training.preprocess\u001b[0m:\u001b[36mprepare_labels\u001b[0m:\u001b[36m226\u001b[0m - \u001b[1mFound label choroid_t1_flair-ED.nii.gz for Scan(subid=2132, sesid=20190825)\u001b[0m\n",
      "\u001b[32m2024-12-11 04:44:40.755\u001b[0m | \u001b[1mINFO    \u001b[0m | \u001b[36mmonai_training.preprocess\u001b[0m:\u001b[36mprepare_labels\u001b[0m:\u001b[36m226\u001b[0m - \u001b[1mFound label choroid_t1_flair-ED.nii.gz for Scan(subid=2144, sesid=20190422)\u001b[0m\n",
      "\u001b[32m2024-12-11 04:44:40.766\u001b[0m | \u001b[1mINFO    \u001b[0m | \u001b[36mmonai_training.preprocess\u001b[0m:\u001b[36mprepare_labels\u001b[0m:\u001b[36m226\u001b[0m - \u001b[1mFound label choroid_t1_flair-ED.nii.gz for Scan(subid=2146, sesid=20191017)\u001b[0m\n",
      "\u001b[32m2024-12-11 04:44:40.775\u001b[0m | \u001b[1mINFO    \u001b[0m | \u001b[36mmonai_training.preprocess\u001b[0m:\u001b[36mprepare_labels\u001b[0m:\u001b[36m226\u001b[0m - \u001b[1mFound label choroid_t1_flair-ED.nii.gz for Scan(subid=2164, sesid=20200113)\u001b[0m\n",
      "\u001b[32m2024-12-11 04:44:40.786\u001b[0m | \u001b[1mINFO    \u001b[0m | \u001b[36mmonai_training.preprocess\u001b[0m:\u001b[36mprepare_labels\u001b[0m:\u001b[36m226\u001b[0m - \u001b[1mFound label choroid_t1_flair-ED.nii.gz for Scan(subid=2187, sesid=20200731)\u001b[0m\n",
      "100%|██████████| 40/40 [00:00<00:00, 146.35it/s]\n",
      "\u001b[32m2024-12-11 04:44:40.788\u001b[0m | \u001b[1mINFO    \u001b[0m | \u001b[36mmonai_training.preprocess\u001b[0m:\u001b[36mprepare_labels\u001b[0m:\u001b[36m229\u001b[0m - \u001b[1mDataset size: 40\u001b[0m\n",
      "\u001b[32m2024-12-11 04:44:40.788\u001b[0m | \u001b[1mINFO    \u001b[0m | \u001b[36mmonai_training.preprocess\u001b[0m:\u001b[36mprepare_images\u001b[0m:\u001b[36m107\u001b[0m - \u001b[1mPrepare Images\u001b[0m\n",
      "100%|██████████| 40/40 [00:00<00:00, 552.43it/s]\n"
     ]
    }
   ],
   "source": [
    "dataset_proc = DataSetProcesser(dataset)\n",
    "dataset_proc.prepare_labels(labels, [\"CH\", \"SRS\", \"ED\", \"DT\"])\n",
    "dataset_proc.prepare_images(modalities)\n",
    "dataset = dataset_proc.dataset"
   ]
  },
  {
   "cell_type": "code",
   "execution_count": 73,
   "id": "d7010827",
   "metadata": {},
   "outputs": [
    {
     "name": "stdout",
     "output_type": "stream",
     "text": [
      "Train num total: 30\n",
      "Test num: 10\n"
     ]
    }
   ],
   "source": [
    "#? I don't know why they put labels for the test data. the brats segmentation code didn't.\n",
    "# train_data = [{'image': path + '/flair.nii.gz', 'label': path + '/flair_chp_mask_qced.nii.gz'} for path in train_exams]\n",
    "# test_data = [{'image': path + '/flair.nii.gz', 'label': path + '/flair_chp_mask_qced.nii.gz'} for path in test_exams]\n",
    "if not load_data:\n",
    "    train_data = []\n",
    "    test_data = []\n",
    "    for scan in dataset:\n",
    "        if scan.cond == 'tr' and scan.has_label:\n",
    "            train_data.append({\"image\": str(scan.image_path), \"label\": str(scan.label_path)})\n",
    "        elif scan.cond == 'ts' and scan.has_label():\n",
    "            test_data.append({\"image\": str(scan.image_path), \"label\": str(scan.label_path)})\n",
    "\n",
    "\n",
    "    print(f\"Train num total: {len(train_data)}\")\n",
    "    print(f\"Test num: {len(test_data)}\")"
   ]
  },
  {
   "cell_type": "code",
   "execution_count": 74,
   "id": "53d768fb",
   "metadata": {},
   "outputs": [],
   "source": [
    "if not load_data:\n",
    "    n_folds = 5\n",
    "    datalist = {\n",
    "        \"testing\": test_data,\n",
    "        \"training\": [{\"fold\": i % n_folds, \"image\": c[\"image\"], \"label\": c[\"label\"]} for i,c in enumerate(train_data)]\n",
    "    }\n",
    "\n",
    "    if not os.path.isdir(work_dir):\n",
    "        os.makedirs(work_dir)\n",
    "\n",
    "    # dataroot_dir = \"/mnt/h\"\n",
    "    # if not os.path.isdir(dataroot_dir):\n",
    "    #     os.makedirs(dataroot_dir)\n",
    "\n",
    "    datalist_file = os.path.join(work_dir, \"datalist.json\")\n",
    "    with open(datalist_file, \"w\") as f:\n",
    "        json.dump(datalist, f, indent=4)"
   ]
  },
  {
   "cell_type": "code",
   "execution_count": 75,
   "id": "488bd1c4",
   "metadata": {},
   "outputs": [
    {
     "data": {
      "text/plain": [
       "[{'image': '/mnt/h/3Tpioneer_bids/sub-ms1010/ses-20180208/flair.t1.nii.gz',\n",
       "  'label': '/mnt/h/3Tpioneer_bids/sub-ms1010/ses-20180208/choroid_t1_flair-CH.nii.gz'},\n",
       " {'image': '/mnt/h/3Tpioneer_bids/sub-ms1033/ses-20171117/flair.t1.nii.gz',\n",
       "  'label': '/mnt/h/3Tpioneer_bids/sub-ms1033/ses-20171117/choroid_t1_flair-CH.nii.gz'},\n",
       " {'image': '/mnt/h/3Tpioneer_bids/sub-ms1119/ses-20161010/flair.t1.nii.gz',\n",
       "  'label': '/mnt/h/3Tpioneer_bids/sub-ms1119/ses-20161010/choroid_t1_flair-CH.nii.gz'},\n",
       " {'image': '/mnt/h/3Tpioneer_bids/sub-ms1259/ses-20200803/flair.t1.nii.gz',\n",
       "  'label': '/mnt/h/3Tpioneer_bids/sub-ms1259/ses-20200803/choroid_t1_flair-ED.nii.gz'},\n",
       " {'image': '/mnt/h/3Tpioneer_bids/sub-ms1437/ses-20210503/flair.t1.nii.gz',\n",
       "  'label': '/mnt/h/3Tpioneer_bids/sub-ms1437/ses-20210503/choroid_t1_flair-CH.nii.gz'},\n",
       " {'image': '/mnt/h/3Tpioneer_bids/sub-ms1547/ses-20220321/flair.t1.nii.gz',\n",
       "  'label': '/mnt/h/3Tpioneer_bids/sub-ms1547/ses-20220321/choroid_t1_flair-ED.nii.gz'},\n",
       " {'image': '/mnt/h/3Tpioneer_bids/sub-ms2081/ses-20170204/flair.t1.nii.gz',\n",
       "  'label': '/mnt/h/3Tpioneer_bids/sub-ms2081/ses-20170204/choroid_t1_flair-ED.nii.gz'},\n",
       " {'image': '/mnt/h/3Tpioneer_bids/sub-ms2126/ses-20181224/flair.t1.nii.gz',\n",
       "  'label': '/mnt/h/3Tpioneer_bids/sub-ms2126/ses-20181224/choroid_t1_flair-ED.nii.gz'},\n",
       " {'image': '/mnt/h/3Tpioneer_bids/sub-ms2146/ses-20191017/flair.t1.nii.gz',\n",
       "  'label': '/mnt/h/3Tpioneer_bids/sub-ms2146/ses-20191017/choroid_t1_flair-ED.nii.gz'},\n",
       " {'image': '/mnt/h/3Tpioneer_bids/sub-ms2187/ses-20200731/flair.t1.nii.gz',\n",
       "  'label': '/mnt/h/3Tpioneer_bids/sub-ms2187/ses-20200731/choroid_t1_flair-ED.nii.gz'}]"
      ]
     },
     "execution_count": 75,
     "metadata": {},
     "output_type": "execute_result"
    }
   ],
   "source": [
    "datalist['testing']"
   ]
  },
  {
   "cell_type": "code",
   "execution_count": 76,
   "id": "3ee7aaf7",
   "metadata": {},
   "outputs": [
    {
     "name": "stdout",
     "output_type": "stream",
     "text": [
      "[]\n",
      "[]\n"
     ]
    }
   ],
   "source": [
    "missing_images = []\n",
    "missing_labels = []\n",
    "for scan in dataset:\n",
    "    if not scan.image_path.is_file():\n",
    "        missing_images.append(scan.image_path)\n",
    "    if not scan.label_path.is_file():\n",
    "        missing_images.append(scan.label_path)\n",
    "print(missing_images)\n",
    "print(missing_labels)"
   ]
  },
  {
   "cell_type": "code",
   "execution_count": 77,
   "id": "35fdbe94",
   "metadata": {},
   "outputs": [
    {
     "name": "stderr",
     "output_type": "stream",
     "text": [
      "2024-12-11 04:44:41,852 - INFO - AutoRunner using work directory /home/srs-9/Projects/ms_mri/training_work_dirs/choroid_resegment3\n",
      "2024-12-11 04:44:41,854 - INFO - Found num_fold 5 based on the input datalist /home/srs-9/Projects/ms_mri/training_work_dirs/choroid_resegment3/datalist.json.\n",
      "2024-12-11 04:44:41,855 - INFO - Setting num_fold 5 based on the input datalist /home/srs-9/Projects/ms_mri/training_work_dirs/choroid_resegment3/datalist.json.\n",
      "2024-12-11 04:44:41,856 - INFO - Using user defined command running prefix , will override other settings\n"
     ]
    }
   ],
   "source": [
    "runner = AutoRunner(\n",
    "    work_dir=work_dir,\n",
    "    algos=[\"swinunetr\"],\n",
    "    input={\n",
    "        \"modality\": \"MRI\",\n",
    "        \"datalist\": str(datalist_file),\n",
    "        \"dataroot\": str(dataroot),\n",
    "    },\n",
    ")"
   ]
  },
  {
   "cell_type": "code",
   "execution_count": 78,
   "id": "b500c460",
   "metadata": {},
   "outputs": [
    {
     "data": {
      "text/plain": [
       "<monai.apps.auto3dseg.auto_runner.AutoRunner at 0x7f8be8efade0>"
      ]
     },
     "execution_count": 78,
     "metadata": {},
     "output_type": "execute_result"
    }
   ],
   "source": [
    "max_epochs = 100\n",
    "\n",
    "train_param = {\n",
    "    \"num_epochs_per_validation\": 1,\n",
    "    #\"num_images_per_batch\": 2,\n",
    "    \"num_epochs\": max_epochs,\n",
    "    \"num_warmup_epochs\": 1,\n",
    "}\n",
    "runner.set_training_params(train_param)"
   ]
  },
  {
   "cell_type": "code",
   "execution_count": 79,
   "id": "2f575fa4",
   "metadata": {},
   "outputs": [
    {
     "name": "stderr",
     "output_type": "stream",
     "text": [
      "2024-12-11 04:44:41,876 - INFO - Running data analysis...\n"
     ]
    },
    {
     "name": "stdout",
     "output_type": "stream",
     "text": [
      "2024-12-11 04:44:41,877 - INFO - Found 1 GPUs for data analyzing!\n"
     ]
    },
    {
     "name": "stderr",
     "output_type": "stream",
     "text": [
      "100%|██████████| 30/30 [00:25<00:00,  1.18it/s]"
     ]
    },
    {
     "name": "stdout",
     "output_type": "stream",
     "text": [
      "2024-12-11 04:45:07,294 - INFO - Data spacing is not completely uniform. MONAI transforms may provide unexpected result\n",
      "2024-12-11 04:45:07,295 - INFO - Writing data stats to /home/srs-9/Projects/ms_mri/training_work_dirs/choroid_resegment3/datastats.yaml.\n",
      "2024-12-11 04:45:07,302 - INFO - Writing by-case data stats to /home/srs-9/Projects/ms_mri/training_work_dirs/choroid_resegment3/datastats_by_case.yaml, this may take a while.\n"
     ]
    },
    {
     "name": "stderr",
     "output_type": "stream",
     "text": [
      "\n"
     ]
    },
    {
     "name": "stdout",
     "output_type": "stream",
     "text": [
      "2024-12-11 04:45:07,476 - INFO - BundleGen from https://github.com/Project-MONAI/research-contributions/releases/download/algo_templates/e4cf5a1.tar.gz\n"
     ]
    },
    {
     "name": "stderr",
     "output_type": "stream",
     "text": [
      "algo_templates.tar.gz: 104kB [00:00, 246kB/s]                              "
     ]
    },
    {
     "name": "stdout",
     "output_type": "stream",
     "text": [
      "2024-12-11 04:45:07,912 - INFO - Downloaded: /tmp/tmpitm33lfy/algo_templates.tar.gz\n",
      "2024-12-11 04:45:07,913 - INFO - Expected md5 is None, skip md5 check for file /tmp/tmpitm33lfy/algo_templates.tar.gz.\n",
      "2024-12-11 04:45:07,914 - INFO - Writing into directory: /home/srs-9/Projects/ms_mri/training_work_dirs/choroid_resegment3.\n",
      "2024-12-11 04:45:07,973 - INFO - Generated:/home/srs-9/Projects/ms_mri/training_work_dirs/choroid_resegment3/swinunetr_0\n",
      "2024-12-11 04:45:08,014 - INFO - Generated:/home/srs-9/Projects/ms_mri/training_work_dirs/choroid_resegment3/swinunetr_1\n",
      "2024-12-11 04:45:08,046 - INFO - Generated:/home/srs-9/Projects/ms_mri/training_work_dirs/choroid_resegment3/swinunetr_2\n"
     ]
    },
    {
     "name": "stderr",
     "output_type": "stream",
     "text": [
      "\n"
     ]
    },
    {
     "name": "stdout",
     "output_type": "stream",
     "text": [
      "2024-12-11 04:45:08,079 - INFO - Generated:/home/srs-9/Projects/ms_mri/training_work_dirs/choroid_resegment3/swinunetr_3\n",
      "2024-12-11 04:45:08,113 - INFO - Generated:/home/srs-9/Projects/ms_mri/training_work_dirs/choroid_resegment3/swinunetr_4\n",
      "2024-12-11 04:45:08,142 - INFO - ['python', '/home/srs-9/Projects/ms_mri/training_work_dirs/choroid_resegment3/swinunetr_0/scripts/train.py', 'run', \"--config_file='/home/srs-9/Projects/ms_mri/training_work_dirs/choroid_resegment3/swinunetr_0/configs/hyper_parameters.yaml,/home/srs-9/Projects/ms_mri/training_work_dirs/choroid_resegment3/swinunetr_0/configs/network.yaml,/home/srs-9/Projects/ms_mri/training_work_dirs/choroid_resegment3/swinunetr_0/configs/transforms_infer.yaml,/home/srs-9/Projects/ms_mri/training_work_dirs/choroid_resegment3/swinunetr_0/configs/transforms_train.yaml,/home/srs-9/Projects/ms_mri/training_work_dirs/choroid_resegment3/swinunetr_0/configs/transforms_validate.yaml'\", '--num_epochs_per_validation=1', '--num_epochs=100', '--num_warmup_epochs=1']\n"
     ]
    },
    {
     "name": "stderr",
     "output_type": "stream",
     "text": [
      "/home/srs-9/.virtualenvs/monai/lib/python3.12/site-packages/ignite/handlers/checkpoint.py:17: DeprecationWarning: `TorchScript` support for functional optimizers is deprecated and will be removed in a future PyTorch release. Consider using the `torch.compile` optimizer instead.\n",
      "  from torch.distributed.optim import ZeroRedundancyOptimizer\n",
      "monai.networks.nets.swin_unetr SwinUNETR.__init__:img_size: Argument `img_size` has been deprecated since version 1.3. It will be removed in version 1.5. The img_size argument is not required anymore and checks on the input size are run during forward().\n"
     ]
    },
    {
     "name": "stdout",
     "output_type": "stream",
     "text": [
      "2024-12-11 04:45:37,551 - INFO - Downloaded: /home/srs-9/Projects/ms_mri/training_work_dirs/choroid_resegment3/swinunetr_0/pretrained_model/swin_unetr.base_5000ep_f48_lr2e-4_pretrained.pt\n",
      "2024-12-11 04:45:37,551 - INFO - Expected md5 is None, skip md5 check for file /home/srs-9/Projects/ms_mri/training_work_dirs/choroid_resegment3/swinunetr_0/pretrained_model/swin_unetr.base_5000ep_f48_lr2e-4_pretrained.pt.\n"
     ]
    },
    {
     "name": "stderr",
     "output_type": "stream",
     "text": [
      "You are using `torch.load` with `weights_only=False` (the current default value), which uses the default pickle module implicitly. It is possible to construct malicious pickle data which will execute arbitrary code during unpickling (See https://github.com/pytorch/pytorch/blob/main/SECURITY.md#untrusted-models for more details). In a future release, the default value for `weights_only` will be flipped to `True`. This limits the functions that could be executed during unpickling. Arbitrary objects will no longer be allowed to be loaded via this mode unless they are explicitly allowlisted by the user via `torch.serialization.add_safe_globals`. We recommend you start setting `weights_only=True` for any use case where you don't have full control of the loaded file. Please open an issue on GitHub for any issues related to this experimental feature.\n",
      "`torch.cuda.amp.GradScaler(args...)` is deprecated. Please use `torch.amp.GradScaler('cuda', args...)` instead.\n",
      "2024/12/11 04:45:37 INFO mlflow.tracking.fluent: Experiment with name 'Auto3DSeg' does not exist. Creating a new experiment.\n",
      "swinunetr_0 - training ...:  77%|███████▋  | 77/100 [52:28<15:40, 40.88s/round]  \n",
      "2024-12-11 05:41:26,967 - WARNING - swinunetr_0 - training: finished with early stop\n"
     ]
    },
    {
     "name": "stdout",
     "output_type": "stream",
     "text": [
      "2024-12-11 05:41:28,696 - INFO - ['python', '/home/srs-9/Projects/ms_mri/training_work_dirs/choroid_resegment3/swinunetr_1/scripts/train.py', 'run', \"--config_file='/home/srs-9/Projects/ms_mri/training_work_dirs/choroid_resegment3/swinunetr_1/configs/hyper_parameters.yaml,/home/srs-9/Projects/ms_mri/training_work_dirs/choroid_resegment3/swinunetr_1/configs/network.yaml,/home/srs-9/Projects/ms_mri/training_work_dirs/choroid_resegment3/swinunetr_1/configs/transforms_infer.yaml,/home/srs-9/Projects/ms_mri/training_work_dirs/choroid_resegment3/swinunetr_1/configs/transforms_train.yaml,/home/srs-9/Projects/ms_mri/training_work_dirs/choroid_resegment3/swinunetr_1/configs/transforms_validate.yaml'\", '--num_epochs_per_validation=1', '--num_epochs=100', '--num_warmup_epochs=1']\n"
     ]
    },
    {
     "name": "stderr",
     "output_type": "stream",
     "text": [
      "/home/srs-9/.virtualenvs/monai/lib/python3.12/site-packages/ignite/handlers/checkpoint.py:17: DeprecationWarning: `TorchScript` support for functional optimizers is deprecated and will be removed in a future PyTorch release. Consider using the `torch.compile` optimizer instead.\n",
      "  from torch.distributed.optim import ZeroRedundancyOptimizer\n",
      "monai.networks.nets.swin_unetr SwinUNETR.__init__:img_size: Argument `img_size` has been deprecated since version 1.3. It will be removed in version 1.5. The img_size argument is not required anymore and checks on the input size are run during forward().\n"
     ]
    },
    {
     "name": "stdout",
     "output_type": "stream",
     "text": [
      "2024-12-11 05:41:59,434 - INFO - Downloaded: /home/srs-9/Projects/ms_mri/training_work_dirs/choroid_resegment3/swinunetr_1/pretrained_model/swin_unetr.base_5000ep_f48_lr2e-4_pretrained.pt\n",
      "2024-12-11 05:41:59,434 - INFO - Expected md5 is None, skip md5 check for file /home/srs-9/Projects/ms_mri/training_work_dirs/choroid_resegment3/swinunetr_1/pretrained_model/swin_unetr.base_5000ep_f48_lr2e-4_pretrained.pt.\n"
     ]
    },
    {
     "name": "stderr",
     "output_type": "stream",
     "text": [
      "You are using `torch.load` with `weights_only=False` (the current default value), which uses the default pickle module implicitly. It is possible to construct malicious pickle data which will execute arbitrary code during unpickling (See https://github.com/pytorch/pytorch/blob/main/SECURITY.md#untrusted-models for more details). In a future release, the default value for `weights_only` will be flipped to `True`. This limits the functions that could be executed during unpickling. Arbitrary objects will no longer be allowed to be loaded via this mode unless they are explicitly allowlisted by the user via `torch.serialization.add_safe_globals`. We recommend you start setting `weights_only=True` for any use case where you don't have full control of the loaded file. Please open an issue on GitHub for any issues related to this experimental feature.\n",
      "`torch.cuda.amp.GradScaler(args...)` is deprecated. Please use `torch.amp.GradScaler('cuda', args...)` instead.\n",
      "2024/12/11 05:41:59 INFO mlflow.tracking.fluent: Experiment with name 'Auto3DSeg' does not exist. Creating a new experiment.\n",
      "swinunetr_1 - training ...:  69%|██████▉   | 69/100 [44:42<20:05, 38.88s/round]  \n",
      "2024-12-11 06:30:09,691 - WARNING - swinunetr_1 - training: finished with early stop\n"
     ]
    },
    {
     "name": "stdout",
     "output_type": "stream",
     "text": [
      "2024-12-11 06:30:11,029 - INFO - ['python', '/home/srs-9/Projects/ms_mri/training_work_dirs/choroid_resegment3/swinunetr_2/scripts/train.py', 'run', \"--config_file='/home/srs-9/Projects/ms_mri/training_work_dirs/choroid_resegment3/swinunetr_2/configs/hyper_parameters.yaml,/home/srs-9/Projects/ms_mri/training_work_dirs/choroid_resegment3/swinunetr_2/configs/network.yaml,/home/srs-9/Projects/ms_mri/training_work_dirs/choroid_resegment3/swinunetr_2/configs/transforms_infer.yaml,/home/srs-9/Projects/ms_mri/training_work_dirs/choroid_resegment3/swinunetr_2/configs/transforms_train.yaml,/home/srs-9/Projects/ms_mri/training_work_dirs/choroid_resegment3/swinunetr_2/configs/transforms_validate.yaml'\", '--num_epochs_per_validation=1', '--num_epochs=100', '--num_warmup_epochs=1']\n"
     ]
    },
    {
     "name": "stderr",
     "output_type": "stream",
     "text": [
      "/home/srs-9/.virtualenvs/monai/lib/python3.12/site-packages/ignite/handlers/checkpoint.py:17: DeprecationWarning: `TorchScript` support for functional optimizers is deprecated and will be removed in a future PyTorch release. Consider using the `torch.compile` optimizer instead.\n",
      "  from torch.distributed.optim import ZeroRedundancyOptimizer\n",
      "monai.networks.nets.swin_unetr SwinUNETR.__init__:img_size: Argument `img_size` has been deprecated since version 1.3. It will be removed in version 1.5. The img_size argument is not required anymore and checks on the input size are run during forward().\n"
     ]
    },
    {
     "name": "stdout",
     "output_type": "stream",
     "text": [
      "2024-12-11 06:30:41,096 - INFO - Downloaded: /home/srs-9/Projects/ms_mri/training_work_dirs/choroid_resegment3/swinunetr_2/pretrained_model/swin_unetr.base_5000ep_f48_lr2e-4_pretrained.pt\n",
      "2024-12-11 06:30:41,096 - INFO - Expected md5 is None, skip md5 check for file /home/srs-9/Projects/ms_mri/training_work_dirs/choroid_resegment3/swinunetr_2/pretrained_model/swin_unetr.base_5000ep_f48_lr2e-4_pretrained.pt.\n"
     ]
    },
    {
     "name": "stderr",
     "output_type": "stream",
     "text": [
      "You are using `torch.load` with `weights_only=False` (the current default value), which uses the default pickle module implicitly. It is possible to construct malicious pickle data which will execute arbitrary code during unpickling (See https://github.com/pytorch/pytorch/blob/main/SECURITY.md#untrusted-models for more details). In a future release, the default value for `weights_only` will be flipped to `True`. This limits the functions that could be executed during unpickling. Arbitrary objects will no longer be allowed to be loaded via this mode unless they are explicitly allowlisted by the user via `torch.serialization.add_safe_globals`. We recommend you start setting `weights_only=True` for any use case where you don't have full control of the loaded file. Please open an issue on GitHub for any issues related to this experimental feature.\n",
      "`torch.cuda.amp.GradScaler(args...)` is deprecated. Please use `torch.amp.GradScaler('cuda', args...)` instead.\n",
      "2024/12/11 06:30:41 INFO mlflow.tracking.fluent: Experiment with name 'Auto3DSeg' does not exist. Creating a new experiment.\n",
      "swinunetr_2 - training ...:  83%|████████▎ | 83/100 [1:00:32<12:24, 43.77s/round]\n",
      "2024-12-11 07:34:35,330 - WARNING - swinunetr_2 - training: finished with early stop\n"
     ]
    },
    {
     "name": "stdout",
     "output_type": "stream",
     "text": [
      "2024-12-11 07:34:36,662 - INFO - ['python', '/home/srs-9/Projects/ms_mri/training_work_dirs/choroid_resegment3/swinunetr_3/scripts/train.py', 'run', \"--config_file='/home/srs-9/Projects/ms_mri/training_work_dirs/choroid_resegment3/swinunetr_3/configs/hyper_parameters.yaml,/home/srs-9/Projects/ms_mri/training_work_dirs/choroid_resegment3/swinunetr_3/configs/network.yaml,/home/srs-9/Projects/ms_mri/training_work_dirs/choroid_resegment3/swinunetr_3/configs/transforms_infer.yaml,/home/srs-9/Projects/ms_mri/training_work_dirs/choroid_resegment3/swinunetr_3/configs/transforms_train.yaml,/home/srs-9/Projects/ms_mri/training_work_dirs/choroid_resegment3/swinunetr_3/configs/transforms_validate.yaml'\", '--num_epochs_per_validation=1', '--num_epochs=100', '--num_warmup_epochs=1']\n"
     ]
    },
    {
     "name": "stderr",
     "output_type": "stream",
     "text": [
      "/home/srs-9/.virtualenvs/monai/lib/python3.12/site-packages/ignite/handlers/checkpoint.py:17: DeprecationWarning: `TorchScript` support for functional optimizers is deprecated and will be removed in a future PyTorch release. Consider using the `torch.compile` optimizer instead.\n",
      "  from torch.distributed.optim import ZeroRedundancyOptimizer\n",
      "monai.networks.nets.swin_unetr SwinUNETR.__init__:img_size: Argument `img_size` has been deprecated since version 1.3. It will be removed in version 1.5. The img_size argument is not required anymore and checks on the input size are run during forward().\n"
     ]
    },
    {
     "name": "stdout",
     "output_type": "stream",
     "text": [
      "2024-12-11 07:35:07,095 - INFO - Downloaded: /home/srs-9/Projects/ms_mri/training_work_dirs/choroid_resegment3/swinunetr_3/pretrained_model/swin_unetr.base_5000ep_f48_lr2e-4_pretrained.pt\n",
      "2024-12-11 07:35:07,095 - INFO - Expected md5 is None, skip md5 check for file /home/srs-9/Projects/ms_mri/training_work_dirs/choroid_resegment3/swinunetr_3/pretrained_model/swin_unetr.base_5000ep_f48_lr2e-4_pretrained.pt.\n"
     ]
    },
    {
     "name": "stderr",
     "output_type": "stream",
     "text": [
      "You are using `torch.load` with `weights_only=False` (the current default value), which uses the default pickle module implicitly. It is possible to construct malicious pickle data which will execute arbitrary code during unpickling (See https://github.com/pytorch/pytorch/blob/main/SECURITY.md#untrusted-models for more details). In a future release, the default value for `weights_only` will be flipped to `True`. This limits the functions that could be executed during unpickling. Arbitrary objects will no longer be allowed to be loaded via this mode unless they are explicitly allowlisted by the user via `torch.serialization.add_safe_globals`. We recommend you start setting `weights_only=True` for any use case where you don't have full control of the loaded file. Please open an issue on GitHub for any issues related to this experimental feature.\n",
      "`torch.cuda.amp.GradScaler(args...)` is deprecated. Please use `torch.amp.GradScaler('cuda', args...)` instead.\n",
      "2024/12/11 07:35:07 INFO mlflow.tracking.fluent: Experiment with name 'Auto3DSeg' does not exist. Creating a new experiment.\n",
      "swinunetr_3 - training ...:  72%|███████▏  | 72/100 [48:02<18:40, 40.03s/round]  \n",
      "2024-12-11 08:26:37,391 - WARNING - swinunetr_3 - training: finished with early stop\n"
     ]
    },
    {
     "name": "stdout",
     "output_type": "stream",
     "text": [
      "2024-12-11 08:26:38,753 - INFO - ['python', '/home/srs-9/Projects/ms_mri/training_work_dirs/choroid_resegment3/swinunetr_4/scripts/train.py', 'run', \"--config_file='/home/srs-9/Projects/ms_mri/training_work_dirs/choroid_resegment3/swinunetr_4/configs/hyper_parameters.yaml,/home/srs-9/Projects/ms_mri/training_work_dirs/choroid_resegment3/swinunetr_4/configs/network.yaml,/home/srs-9/Projects/ms_mri/training_work_dirs/choroid_resegment3/swinunetr_4/configs/transforms_infer.yaml,/home/srs-9/Projects/ms_mri/training_work_dirs/choroid_resegment3/swinunetr_4/configs/transforms_train.yaml,/home/srs-9/Projects/ms_mri/training_work_dirs/choroid_resegment3/swinunetr_4/configs/transforms_validate.yaml'\", '--num_epochs_per_validation=1', '--num_epochs=100', '--num_warmup_epochs=1']\n"
     ]
    },
    {
     "name": "stderr",
     "output_type": "stream",
     "text": [
      "/home/srs-9/.virtualenvs/monai/lib/python3.12/site-packages/ignite/handlers/checkpoint.py:17: DeprecationWarning: `TorchScript` support for functional optimizers is deprecated and will be removed in a future PyTorch release. Consider using the `torch.compile` optimizer instead.\n",
      "  from torch.distributed.optim import ZeroRedundancyOptimizer\n",
      "monai.networks.nets.swin_unetr SwinUNETR.__init__:img_size: Argument `img_size` has been deprecated since version 1.3. It will be removed in version 1.5. The img_size argument is not required anymore and checks on the input size are run during forward().\n"
     ]
    },
    {
     "name": "stdout",
     "output_type": "stream",
     "text": [
      "2024-12-11 08:27:08,269 - INFO - Downloaded: /home/srs-9/Projects/ms_mri/training_work_dirs/choroid_resegment3/swinunetr_4/pretrained_model/swin_unetr.base_5000ep_f48_lr2e-4_pretrained.pt\n",
      "2024-12-11 08:27:08,269 - INFO - Expected md5 is None, skip md5 check for file /home/srs-9/Projects/ms_mri/training_work_dirs/choroid_resegment3/swinunetr_4/pretrained_model/swin_unetr.base_5000ep_f48_lr2e-4_pretrained.pt.\n"
     ]
    },
    {
     "name": "stderr",
     "output_type": "stream",
     "text": [
      "You are using `torch.load` with `weights_only=False` (the current default value), which uses the default pickle module implicitly. It is possible to construct malicious pickle data which will execute arbitrary code during unpickling (See https://github.com/pytorch/pytorch/blob/main/SECURITY.md#untrusted-models for more details). In a future release, the default value for `weights_only` will be flipped to `True`. This limits the functions that could be executed during unpickling. Arbitrary objects will no longer be allowed to be loaded via this mode unless they are explicitly allowlisted by the user via `torch.serialization.add_safe_globals`. We recommend you start setting `weights_only=True` for any use case where you don't have full control of the loaded file. Please open an issue on GitHub for any issues related to this experimental feature.\n",
      "`torch.cuda.amp.GradScaler(args...)` is deprecated. Please use `torch.amp.GradScaler('cuda', args...)` instead.\n",
      "2024/12/11 08:27:08 INFO mlflow.tracking.fluent: Experiment with name 'Auto3DSeg' does not exist. Creating a new experiment.\n",
      "swinunetr_4 - training ...:  75%|███████▌  | 75/100 [50:54<16:58, 40.73s/round]  \n",
      "2024-12-11 09:21:24,567 - WARNING - swinunetr_4 - training: finished with early stop\n"
     ]
    },
    {
     "name": "stdout",
     "output_type": "stream",
     "text": [
      "2024-12-11 09:21:25,952 - INFO - Ensembling using single GPU!\n",
      "2024-12-11 09:21:25,956 - INFO - The output_dir is not specified. /home/srs-9/Projects/ms_mri/training_work_dirs/choroid_resegment3/ensemble_output will be used to save ensemble predictions.\n",
      "2024-12-11 09:21:25,959 - INFO - Directory /home/srs-9/Projects/ms_mri/training_work_dirs/choroid_resegment3/ensemble_output is created to save ensemble predictions\n",
      "2024-12-11 09:21:26,034 - INFO - Auto3Dseg picked the following networks to ensemble:\n",
      "2024-12-11 09:21:26,035 - INFO - swinunetr_0\n",
      "2024-12-11 09:21:26,036 - INFO - swinunetr_1\n",
      "2024-12-11 09:21:26,036 - INFO - swinunetr_2\n",
      "2024-12-11 09:21:26,037 - INFO - swinunetr_3\n",
      "2024-12-11 09:21:26,038 - INFO - swinunetr_4\n",
      "2024-12-11 09:21:26,040 - INFO - Auto3Dseg ensemble prediction outputs will be saved in /home/srs-9/Projects/ms_mri/training_work_dirs/choroid_resegment3/ensemble_output.\n"
     ]
    },
    {
     "name": "stderr",
     "output_type": "stream",
     "text": [
      "Ensembling (rank 0)...:   0%|          | 0/10 [00:00<?, ?it/s]monai.networks.nets.swin_unetr SwinUNETR.__init__:img_size: Argument `img_size` has been deprecated since version 1.3. It will be removed in version 1.5. The img_size argument is not required anymore and checks on the input size are run during forward().\n",
      "You are using `torch.load` with `weights_only=False` (the current default value), which uses the default pickle module implicitly. It is possible to construct malicious pickle data which will execute arbitrary code during unpickling (See https://github.com/pytorch/pytorch/blob/main/SECURITY.md#untrusted-models for more details). In a future release, the default value for `weights_only` will be flipped to `True`. This limits the functions that could be executed during unpickling. Arbitrary objects will no longer be allowed to be loaded via this mode unless they are explicitly allowlisted by the user via `torch.serialization.add_safe_globals`. We recommend you start setting `weights_only=True` for any use case where you don't have full control of the loaded file. Please open an issue on GitHub for any issues related to this experimental feature.\n",
      "`torch.cuda.amp.autocast(args...)` is deprecated. Please use `torch.amp.autocast('cuda', args...)` instead.\n",
      "You are using `torch.load` with `weights_only=False` (the current default value), which uses the default pickle module implicitly. It is possible to construct malicious pickle data which will execute arbitrary code during unpickling (See https://github.com/pytorch/pytorch/blob/main/SECURITY.md#untrusted-models for more details). In a future release, the default value for `weights_only` will be flipped to `True`. This limits the functions that could be executed during unpickling. Arbitrary objects will no longer be allowed to be loaded via this mode unless they are explicitly allowlisted by the user via `torch.serialization.add_safe_globals`. We recommend you start setting `weights_only=True` for any use case where you don't have full control of the loaded file. Please open an issue on GitHub for any issues related to this experimental feature.\n",
      "`torch.cuda.amp.autocast(args...)` is deprecated. Please use `torch.amp.autocast('cuda', args...)` instead.\n",
      "You are using `torch.load` with `weights_only=False` (the current default value), which uses the default pickle module implicitly. It is possible to construct malicious pickle data which will execute arbitrary code during unpickling (See https://github.com/pytorch/pytorch/blob/main/SECURITY.md#untrusted-models for more details). In a future release, the default value for `weights_only` will be flipped to `True`. This limits the functions that could be executed during unpickling. Arbitrary objects will no longer be allowed to be loaded via this mode unless they are explicitly allowlisted by the user via `torch.serialization.add_safe_globals`. We recommend you start setting `weights_only=True` for any use case where you don't have full control of the loaded file. Please open an issue on GitHub for any issues related to this experimental feature.\n",
      "`torch.cuda.amp.autocast(args...)` is deprecated. Please use `torch.amp.autocast('cuda', args...)` instead.\n",
      "You are using `torch.load` with `weights_only=False` (the current default value), which uses the default pickle module implicitly. It is possible to construct malicious pickle data which will execute arbitrary code during unpickling (See https://github.com/pytorch/pytorch/blob/main/SECURITY.md#untrusted-models for more details). In a future release, the default value for `weights_only` will be flipped to `True`. This limits the functions that could be executed during unpickling. Arbitrary objects will no longer be allowed to be loaded via this mode unless they are explicitly allowlisted by the user via `torch.serialization.add_safe_globals`. We recommend you start setting `weights_only=True` for any use case where you don't have full control of the loaded file. Please open an issue on GitHub for any issues related to this experimental feature.\n",
      "`torch.cuda.amp.autocast(args...)` is deprecated. Please use `torch.amp.autocast('cuda', args...)` instead.\n",
      "You are using `torch.load` with `weights_only=False` (the current default value), which uses the default pickle module implicitly. It is possible to construct malicious pickle data which will execute arbitrary code during unpickling (See https://github.com/pytorch/pytorch/blob/main/SECURITY.md#untrusted-models for more details). In a future release, the default value for `weights_only` will be flipped to `True`. This limits the functions that could be executed during unpickling. Arbitrary objects will no longer be allowed to be loaded via this mode unless they are explicitly allowlisted by the user via `torch.serialization.add_safe_globals`. We recommend you start setting `weights_only=True` for any use case where you don't have full control of the loaded file. Please open an issue on GitHub for any issues related to this experimental feature.\n",
      "`torch.cuda.amp.autocast(args...)` is deprecated. Please use `torch.amp.autocast('cuda', args...)` instead.\n",
      "Ensembling (rank 0)...:  10%|█         | 1/10 [03:03<27:27, 183.09s/it]You are using `torch.load` with `weights_only=False` (the current default value), which uses the default pickle module implicitly. It is possible to construct malicious pickle data which will execute arbitrary code during unpickling (See https://github.com/pytorch/pytorch/blob/main/SECURITY.md#untrusted-models for more details). In a future release, the default value for `weights_only` will be flipped to `True`. This limits the functions that could be executed during unpickling. Arbitrary objects will no longer be allowed to be loaded via this mode unless they are explicitly allowlisted by the user via `torch.serialization.add_safe_globals`. We recommend you start setting `weights_only=True` for any use case where you don't have full control of the loaded file. Please open an issue on GitHub for any issues related to this experimental feature.\n",
      "`torch.cuda.amp.autocast(args...)` is deprecated. Please use `torch.amp.autocast('cuda', args...)` instead.\n",
      "You are using `torch.load` with `weights_only=False` (the current default value), which uses the default pickle module implicitly. It is possible to construct malicious pickle data which will execute arbitrary code during unpickling (See https://github.com/pytorch/pytorch/blob/main/SECURITY.md#untrusted-models for more details). In a future release, the default value for `weights_only` will be flipped to `True`. This limits the functions that could be executed during unpickling. Arbitrary objects will no longer be allowed to be loaded via this mode unless they are explicitly allowlisted by the user via `torch.serialization.add_safe_globals`. We recommend you start setting `weights_only=True` for any use case where you don't have full control of the loaded file. Please open an issue on GitHub for any issues related to this experimental feature.\n",
      "`torch.cuda.amp.autocast(args...)` is deprecated. Please use `torch.amp.autocast('cuda', args...)` instead.\n",
      "You are using `torch.load` with `weights_only=False` (the current default value), which uses the default pickle module implicitly. It is possible to construct malicious pickle data which will execute arbitrary code during unpickling (See https://github.com/pytorch/pytorch/blob/main/SECURITY.md#untrusted-models for more details). In a future release, the default value for `weights_only` will be flipped to `True`. This limits the functions that could be executed during unpickling. Arbitrary objects will no longer be allowed to be loaded via this mode unless they are explicitly allowlisted by the user via `torch.serialization.add_safe_globals`. We recommend you start setting `weights_only=True` for any use case where you don't have full control of the loaded file. Please open an issue on GitHub for any issues related to this experimental feature.\n",
      "`torch.cuda.amp.autocast(args...)` is deprecated. Please use `torch.amp.autocast('cuda', args...)` instead.\n",
      "You are using `torch.load` with `weights_only=False` (the current default value), which uses the default pickle module implicitly. It is possible to construct malicious pickle data which will execute arbitrary code during unpickling (See https://github.com/pytorch/pytorch/blob/main/SECURITY.md#untrusted-models for more details). In a future release, the default value for `weights_only` will be flipped to `True`. This limits the functions that could be executed during unpickling. Arbitrary objects will no longer be allowed to be loaded via this mode unless they are explicitly allowlisted by the user via `torch.serialization.add_safe_globals`. We recommend you start setting `weights_only=True` for any use case where you don't have full control of the loaded file. Please open an issue on GitHub for any issues related to this experimental feature.\n",
      "`torch.cuda.amp.autocast(args...)` is deprecated. Please use `torch.amp.autocast('cuda', args...)` instead.\n",
      "You are using `torch.load` with `weights_only=False` (the current default value), which uses the default pickle module implicitly. It is possible to construct malicious pickle data which will execute arbitrary code during unpickling (See https://github.com/pytorch/pytorch/blob/main/SECURITY.md#untrusted-models for more details). In a future release, the default value for `weights_only` will be flipped to `True`. This limits the functions that could be executed during unpickling. Arbitrary objects will no longer be allowed to be loaded via this mode unless they are explicitly allowlisted by the user via `torch.serialization.add_safe_globals`. We recommend you start setting `weights_only=True` for any use case where you don't have full control of the loaded file. Please open an issue on GitHub for any issues related to this experimental feature.\n",
      "`torch.cuda.amp.autocast(args...)` is deprecated. Please use `torch.amp.autocast('cuda', args...)` instead.\n",
      "Ensembling (rank 0)...:  20%|██        | 2/10 [06:01<24:03, 180.40s/it]You are using `torch.load` with `weights_only=False` (the current default value), which uses the default pickle module implicitly. It is possible to construct malicious pickle data which will execute arbitrary code during unpickling (See https://github.com/pytorch/pytorch/blob/main/SECURITY.md#untrusted-models for more details). In a future release, the default value for `weights_only` will be flipped to `True`. This limits the functions that could be executed during unpickling. Arbitrary objects will no longer be allowed to be loaded via this mode unless they are explicitly allowlisted by the user via `torch.serialization.add_safe_globals`. We recommend you start setting `weights_only=True` for any use case where you don't have full control of the loaded file. Please open an issue on GitHub for any issues related to this experimental feature.\n",
      "`torch.cuda.amp.autocast(args...)` is deprecated. Please use `torch.amp.autocast('cuda', args...)` instead.\n",
      "You are using `torch.load` with `weights_only=False` (the current default value), which uses the default pickle module implicitly. It is possible to construct malicious pickle data which will execute arbitrary code during unpickling (See https://github.com/pytorch/pytorch/blob/main/SECURITY.md#untrusted-models for more details). In a future release, the default value for `weights_only` will be flipped to `True`. This limits the functions that could be executed during unpickling. Arbitrary objects will no longer be allowed to be loaded via this mode unless they are explicitly allowlisted by the user via `torch.serialization.add_safe_globals`. We recommend you start setting `weights_only=True` for any use case where you don't have full control of the loaded file. Please open an issue on GitHub for any issues related to this experimental feature.\n",
      "`torch.cuda.amp.autocast(args...)` is deprecated. Please use `torch.amp.autocast('cuda', args...)` instead.\n",
      "You are using `torch.load` with `weights_only=False` (the current default value), which uses the default pickle module implicitly. It is possible to construct malicious pickle data which will execute arbitrary code during unpickling (See https://github.com/pytorch/pytorch/blob/main/SECURITY.md#untrusted-models for more details). In a future release, the default value for `weights_only` will be flipped to `True`. This limits the functions that could be executed during unpickling. Arbitrary objects will no longer be allowed to be loaded via this mode unless they are explicitly allowlisted by the user via `torch.serialization.add_safe_globals`. We recommend you start setting `weights_only=True` for any use case where you don't have full control of the loaded file. Please open an issue on GitHub for any issues related to this experimental feature.\n",
      "`torch.cuda.amp.autocast(args...)` is deprecated. Please use `torch.amp.autocast('cuda', args...)` instead.\n",
      "You are using `torch.load` with `weights_only=False` (the current default value), which uses the default pickle module implicitly. It is possible to construct malicious pickle data which will execute arbitrary code during unpickling (See https://github.com/pytorch/pytorch/blob/main/SECURITY.md#untrusted-models for more details). In a future release, the default value for `weights_only` will be flipped to `True`. This limits the functions that could be executed during unpickling. Arbitrary objects will no longer be allowed to be loaded via this mode unless they are explicitly allowlisted by the user via `torch.serialization.add_safe_globals`. We recommend you start setting `weights_only=True` for any use case where you don't have full control of the loaded file. Please open an issue on GitHub for any issues related to this experimental feature.\n",
      "`torch.cuda.amp.autocast(args...)` is deprecated. Please use `torch.amp.autocast('cuda', args...)` instead.\n",
      "You are using `torch.load` with `weights_only=False` (the current default value), which uses the default pickle module implicitly. It is possible to construct malicious pickle data which will execute arbitrary code during unpickling (See https://github.com/pytorch/pytorch/blob/main/SECURITY.md#untrusted-models for more details). In a future release, the default value for `weights_only` will be flipped to `True`. This limits the functions that could be executed during unpickling. Arbitrary objects will no longer be allowed to be loaded via this mode unless they are explicitly allowlisted by the user via `torch.serialization.add_safe_globals`. We recommend you start setting `weights_only=True` for any use case where you don't have full control of the loaded file. Please open an issue on GitHub for any issues related to this experimental feature.\n",
      "`torch.cuda.amp.autocast(args...)` is deprecated. Please use `torch.amp.autocast('cuda', args...)` instead.\n",
      "Ensembling (rank 0)...:  30%|███       | 3/10 [08:57<20:47, 178.16s/it]You are using `torch.load` with `weights_only=False` (the current default value), which uses the default pickle module implicitly. It is possible to construct malicious pickle data which will execute arbitrary code during unpickling (See https://github.com/pytorch/pytorch/blob/main/SECURITY.md#untrusted-models for more details). In a future release, the default value for `weights_only` will be flipped to `True`. This limits the functions that could be executed during unpickling. Arbitrary objects will no longer be allowed to be loaded via this mode unless they are explicitly allowlisted by the user via `torch.serialization.add_safe_globals`. We recommend you start setting `weights_only=True` for any use case where you don't have full control of the loaded file. Please open an issue on GitHub for any issues related to this experimental feature.\n",
      "`torch.cuda.amp.autocast(args...)` is deprecated. Please use `torch.amp.autocast('cuda', args...)` instead.\n",
      "You are using `torch.load` with `weights_only=False` (the current default value), which uses the default pickle module implicitly. It is possible to construct malicious pickle data which will execute arbitrary code during unpickling (See https://github.com/pytorch/pytorch/blob/main/SECURITY.md#untrusted-models for more details). In a future release, the default value for `weights_only` will be flipped to `True`. This limits the functions that could be executed during unpickling. Arbitrary objects will no longer be allowed to be loaded via this mode unless they are explicitly allowlisted by the user via `torch.serialization.add_safe_globals`. We recommend you start setting `weights_only=True` for any use case where you don't have full control of the loaded file. Please open an issue on GitHub for any issues related to this experimental feature.\n",
      "`torch.cuda.amp.autocast(args...)` is deprecated. Please use `torch.amp.autocast('cuda', args...)` instead.\n",
      "You are using `torch.load` with `weights_only=False` (the current default value), which uses the default pickle module implicitly. It is possible to construct malicious pickle data which will execute arbitrary code during unpickling (See https://github.com/pytorch/pytorch/blob/main/SECURITY.md#untrusted-models for more details). In a future release, the default value for `weights_only` will be flipped to `True`. This limits the functions that could be executed during unpickling. Arbitrary objects will no longer be allowed to be loaded via this mode unless they are explicitly allowlisted by the user via `torch.serialization.add_safe_globals`. We recommend you start setting `weights_only=True` for any use case where you don't have full control of the loaded file. Please open an issue on GitHub for any issues related to this experimental feature.\n",
      "`torch.cuda.amp.autocast(args...)` is deprecated. Please use `torch.amp.autocast('cuda', args...)` instead.\n",
      "You are using `torch.load` with `weights_only=False` (the current default value), which uses the default pickle module implicitly. It is possible to construct malicious pickle data which will execute arbitrary code during unpickling (See https://github.com/pytorch/pytorch/blob/main/SECURITY.md#untrusted-models for more details). In a future release, the default value for `weights_only` will be flipped to `True`. This limits the functions that could be executed during unpickling. Arbitrary objects will no longer be allowed to be loaded via this mode unless they are explicitly allowlisted by the user via `torch.serialization.add_safe_globals`. We recommend you start setting `weights_only=True` for any use case where you don't have full control of the loaded file. Please open an issue on GitHub for any issues related to this experimental feature.\n",
      "`torch.cuda.amp.autocast(args...)` is deprecated. Please use `torch.amp.autocast('cuda', args...)` instead.\n",
      "You are using `torch.load` with `weights_only=False` (the current default value), which uses the default pickle module implicitly. It is possible to construct malicious pickle data which will execute arbitrary code during unpickling (See https://github.com/pytorch/pytorch/blob/main/SECURITY.md#untrusted-models for more details). In a future release, the default value for `weights_only` will be flipped to `True`. This limits the functions that could be executed during unpickling. Arbitrary objects will no longer be allowed to be loaded via this mode unless they are explicitly allowlisted by the user via `torch.serialization.add_safe_globals`. We recommend you start setting `weights_only=True` for any use case where you don't have full control of the loaded file. Please open an issue on GitHub for any issues related to this experimental feature.\n",
      "`torch.cuda.amp.autocast(args...)` is deprecated. Please use `torch.amp.autocast('cuda', args...)` instead.\n",
      "Ensembling (rank 0)...:  40%|████      | 4/10 [11:55<17:49, 178.24s/it]You are using `torch.load` with `weights_only=False` (the current default value), which uses the default pickle module implicitly. It is possible to construct malicious pickle data which will execute arbitrary code during unpickling (See https://github.com/pytorch/pytorch/blob/main/SECURITY.md#untrusted-models for more details). In a future release, the default value for `weights_only` will be flipped to `True`. This limits the functions that could be executed during unpickling. Arbitrary objects will no longer be allowed to be loaded via this mode unless they are explicitly allowlisted by the user via `torch.serialization.add_safe_globals`. We recommend you start setting `weights_only=True` for any use case where you don't have full control of the loaded file. Please open an issue on GitHub for any issues related to this experimental feature.\n",
      "`torch.cuda.amp.autocast(args...)` is deprecated. Please use `torch.amp.autocast('cuda', args...)` instead.\n",
      "You are using `torch.load` with `weights_only=False` (the current default value), which uses the default pickle module implicitly. It is possible to construct malicious pickle data which will execute arbitrary code during unpickling (See https://github.com/pytorch/pytorch/blob/main/SECURITY.md#untrusted-models for more details). In a future release, the default value for `weights_only` will be flipped to `True`. This limits the functions that could be executed during unpickling. Arbitrary objects will no longer be allowed to be loaded via this mode unless they are explicitly allowlisted by the user via `torch.serialization.add_safe_globals`. We recommend you start setting `weights_only=True` for any use case where you don't have full control of the loaded file. Please open an issue on GitHub for any issues related to this experimental feature.\n",
      "`torch.cuda.amp.autocast(args...)` is deprecated. Please use `torch.amp.autocast('cuda', args...)` instead.\n",
      "You are using `torch.load` with `weights_only=False` (the current default value), which uses the default pickle module implicitly. It is possible to construct malicious pickle data which will execute arbitrary code during unpickling (See https://github.com/pytorch/pytorch/blob/main/SECURITY.md#untrusted-models for more details). In a future release, the default value for `weights_only` will be flipped to `True`. This limits the functions that could be executed during unpickling. Arbitrary objects will no longer be allowed to be loaded via this mode unless they are explicitly allowlisted by the user via `torch.serialization.add_safe_globals`. We recommend you start setting `weights_only=True` for any use case where you don't have full control of the loaded file. Please open an issue on GitHub for any issues related to this experimental feature.\n",
      "`torch.cuda.amp.autocast(args...)` is deprecated. Please use `torch.amp.autocast('cuda', args...)` instead.\n",
      "You are using `torch.load` with `weights_only=False` (the current default value), which uses the default pickle module implicitly. It is possible to construct malicious pickle data which will execute arbitrary code during unpickling (See https://github.com/pytorch/pytorch/blob/main/SECURITY.md#untrusted-models for more details). In a future release, the default value for `weights_only` will be flipped to `True`. This limits the functions that could be executed during unpickling. Arbitrary objects will no longer be allowed to be loaded via this mode unless they are explicitly allowlisted by the user via `torch.serialization.add_safe_globals`. We recommend you start setting `weights_only=True` for any use case where you don't have full control of the loaded file. Please open an issue on GitHub for any issues related to this experimental feature.\n",
      "`torch.cuda.amp.autocast(args...)` is deprecated. Please use `torch.amp.autocast('cuda', args...)` instead.\n",
      "You are using `torch.load` with `weights_only=False` (the current default value), which uses the default pickle module implicitly. It is possible to construct malicious pickle data which will execute arbitrary code during unpickling (See https://github.com/pytorch/pytorch/blob/main/SECURITY.md#untrusted-models for more details). In a future release, the default value for `weights_only` will be flipped to `True`. This limits the functions that could be executed during unpickling. Arbitrary objects will no longer be allowed to be loaded via this mode unless they are explicitly allowlisted by the user via `torch.serialization.add_safe_globals`. We recommend you start setting `weights_only=True` for any use case where you don't have full control of the loaded file. Please open an issue on GitHub for any issues related to this experimental feature.\n",
      "`torch.cuda.amp.autocast(args...)` is deprecated. Please use `torch.amp.autocast('cuda', args...)` instead.\n",
      "Ensembling (rank 0)...:  50%|█████     | 5/10 [14:57<14:58, 179.71s/it]You are using `torch.load` with `weights_only=False` (the current default value), which uses the default pickle module implicitly. It is possible to construct malicious pickle data which will execute arbitrary code during unpickling (See https://github.com/pytorch/pytorch/blob/main/SECURITY.md#untrusted-models for more details). In a future release, the default value for `weights_only` will be flipped to `True`. This limits the functions that could be executed during unpickling. Arbitrary objects will no longer be allowed to be loaded via this mode unless they are explicitly allowlisted by the user via `torch.serialization.add_safe_globals`. We recommend you start setting `weights_only=True` for any use case where you don't have full control of the loaded file. Please open an issue on GitHub for any issues related to this experimental feature.\n",
      "`torch.cuda.amp.autocast(args...)` is deprecated. Please use `torch.amp.autocast('cuda', args...)` instead.\n",
      "You are using `torch.load` with `weights_only=False` (the current default value), which uses the default pickle module implicitly. It is possible to construct malicious pickle data which will execute arbitrary code during unpickling (See https://github.com/pytorch/pytorch/blob/main/SECURITY.md#untrusted-models for more details). In a future release, the default value for `weights_only` will be flipped to `True`. This limits the functions that could be executed during unpickling. Arbitrary objects will no longer be allowed to be loaded via this mode unless they are explicitly allowlisted by the user via `torch.serialization.add_safe_globals`. We recommend you start setting `weights_only=True` for any use case where you don't have full control of the loaded file. Please open an issue on GitHub for any issues related to this experimental feature.\n",
      "`torch.cuda.amp.autocast(args...)` is deprecated. Please use `torch.amp.autocast('cuda', args...)` instead.\n",
      "You are using `torch.load` with `weights_only=False` (the current default value), which uses the default pickle module implicitly. It is possible to construct malicious pickle data which will execute arbitrary code during unpickling (See https://github.com/pytorch/pytorch/blob/main/SECURITY.md#untrusted-models for more details). In a future release, the default value for `weights_only` will be flipped to `True`. This limits the functions that could be executed during unpickling. Arbitrary objects will no longer be allowed to be loaded via this mode unless they are explicitly allowlisted by the user via `torch.serialization.add_safe_globals`. We recommend you start setting `weights_only=True` for any use case where you don't have full control of the loaded file. Please open an issue on GitHub for any issues related to this experimental feature.\n",
      "`torch.cuda.amp.autocast(args...)` is deprecated. Please use `torch.amp.autocast('cuda', args...)` instead.\n",
      "You are using `torch.load` with `weights_only=False` (the current default value), which uses the default pickle module implicitly. It is possible to construct malicious pickle data which will execute arbitrary code during unpickling (See https://github.com/pytorch/pytorch/blob/main/SECURITY.md#untrusted-models for more details). In a future release, the default value for `weights_only` will be flipped to `True`. This limits the functions that could be executed during unpickling. Arbitrary objects will no longer be allowed to be loaded via this mode unless they are explicitly allowlisted by the user via `torch.serialization.add_safe_globals`. We recommend you start setting `weights_only=True` for any use case where you don't have full control of the loaded file. Please open an issue on GitHub for any issues related to this experimental feature.\n",
      "`torch.cuda.amp.autocast(args...)` is deprecated. Please use `torch.amp.autocast('cuda', args...)` instead.\n",
      "You are using `torch.load` with `weights_only=False` (the current default value), which uses the default pickle module implicitly. It is possible to construct malicious pickle data which will execute arbitrary code during unpickling (See https://github.com/pytorch/pytorch/blob/main/SECURITY.md#untrusted-models for more details). In a future release, the default value for `weights_only` will be flipped to `True`. This limits the functions that could be executed during unpickling. Arbitrary objects will no longer be allowed to be loaded via this mode unless they are explicitly allowlisted by the user via `torch.serialization.add_safe_globals`. We recommend you start setting `weights_only=True` for any use case where you don't have full control of the loaded file. Please open an issue on GitHub for any issues related to this experimental feature.\n",
      "`torch.cuda.amp.autocast(args...)` is deprecated. Please use `torch.amp.autocast('cuda', args...)` instead.\n",
      "Ensembling (rank 0)...:  60%|██████    | 6/10 [17:56<11:57, 179.44s/it]You are using `torch.load` with `weights_only=False` (the current default value), which uses the default pickle module implicitly. It is possible to construct malicious pickle data which will execute arbitrary code during unpickling (See https://github.com/pytorch/pytorch/blob/main/SECURITY.md#untrusted-models for more details). In a future release, the default value for `weights_only` will be flipped to `True`. This limits the functions that could be executed during unpickling. Arbitrary objects will no longer be allowed to be loaded via this mode unless they are explicitly allowlisted by the user via `torch.serialization.add_safe_globals`. We recommend you start setting `weights_only=True` for any use case where you don't have full control of the loaded file. Please open an issue on GitHub for any issues related to this experimental feature.\n",
      "`torch.cuda.amp.autocast(args...)` is deprecated. Please use `torch.amp.autocast('cuda', args...)` instead.\n",
      "You are using `torch.load` with `weights_only=False` (the current default value), which uses the default pickle module implicitly. It is possible to construct malicious pickle data which will execute arbitrary code during unpickling (See https://github.com/pytorch/pytorch/blob/main/SECURITY.md#untrusted-models for more details). In a future release, the default value for `weights_only` will be flipped to `True`. This limits the functions that could be executed during unpickling. Arbitrary objects will no longer be allowed to be loaded via this mode unless they are explicitly allowlisted by the user via `torch.serialization.add_safe_globals`. We recommend you start setting `weights_only=True` for any use case where you don't have full control of the loaded file. Please open an issue on GitHub for any issues related to this experimental feature.\n",
      "`torch.cuda.amp.autocast(args...)` is deprecated. Please use `torch.amp.autocast('cuda', args...)` instead.\n",
      "You are using `torch.load` with `weights_only=False` (the current default value), which uses the default pickle module implicitly. It is possible to construct malicious pickle data which will execute arbitrary code during unpickling (See https://github.com/pytorch/pytorch/blob/main/SECURITY.md#untrusted-models for more details). In a future release, the default value for `weights_only` will be flipped to `True`. This limits the functions that could be executed during unpickling. Arbitrary objects will no longer be allowed to be loaded via this mode unless they are explicitly allowlisted by the user via `torch.serialization.add_safe_globals`. We recommend you start setting `weights_only=True` for any use case where you don't have full control of the loaded file. Please open an issue on GitHub for any issues related to this experimental feature.\n",
      "`torch.cuda.amp.autocast(args...)` is deprecated. Please use `torch.amp.autocast('cuda', args...)` instead.\n",
      "You are using `torch.load` with `weights_only=False` (the current default value), which uses the default pickle module implicitly. It is possible to construct malicious pickle data which will execute arbitrary code during unpickling (See https://github.com/pytorch/pytorch/blob/main/SECURITY.md#untrusted-models for more details). In a future release, the default value for `weights_only` will be flipped to `True`. This limits the functions that could be executed during unpickling. Arbitrary objects will no longer be allowed to be loaded via this mode unless they are explicitly allowlisted by the user via `torch.serialization.add_safe_globals`. We recommend you start setting `weights_only=True` for any use case where you don't have full control of the loaded file. Please open an issue on GitHub for any issues related to this experimental feature.\n",
      "`torch.cuda.amp.autocast(args...)` is deprecated. Please use `torch.amp.autocast('cuda', args...)` instead.\n",
      "You are using `torch.load` with `weights_only=False` (the current default value), which uses the default pickle module implicitly. It is possible to construct malicious pickle data which will execute arbitrary code during unpickling (See https://github.com/pytorch/pytorch/blob/main/SECURITY.md#untrusted-models for more details). In a future release, the default value for `weights_only` will be flipped to `True`. This limits the functions that could be executed during unpickling. Arbitrary objects will no longer be allowed to be loaded via this mode unless they are explicitly allowlisted by the user via `torch.serialization.add_safe_globals`. We recommend you start setting `weights_only=True` for any use case where you don't have full control of the loaded file. Please open an issue on GitHub for any issues related to this experimental feature.\n",
      "`torch.cuda.amp.autocast(args...)` is deprecated. Please use `torch.amp.autocast('cuda', args...)` instead.\n",
      "Ensembling (rank 0)...:  70%|███████   | 7/10 [20:18<08:21, 167.16s/it]You are using `torch.load` with `weights_only=False` (the current default value), which uses the default pickle module implicitly. It is possible to construct malicious pickle data which will execute arbitrary code during unpickling (See https://github.com/pytorch/pytorch/blob/main/SECURITY.md#untrusted-models for more details). In a future release, the default value for `weights_only` will be flipped to `True`. This limits the functions that could be executed during unpickling. Arbitrary objects will no longer be allowed to be loaded via this mode unless they are explicitly allowlisted by the user via `torch.serialization.add_safe_globals`. We recommend you start setting `weights_only=True` for any use case where you don't have full control of the loaded file. Please open an issue on GitHub for any issues related to this experimental feature.\n",
      "`torch.cuda.amp.autocast(args...)` is deprecated. Please use `torch.amp.autocast('cuda', args...)` instead.\n",
      "You are using `torch.load` with `weights_only=False` (the current default value), which uses the default pickle module implicitly. It is possible to construct malicious pickle data which will execute arbitrary code during unpickling (See https://github.com/pytorch/pytorch/blob/main/SECURITY.md#untrusted-models for more details). In a future release, the default value for `weights_only` will be flipped to `True`. This limits the functions that could be executed during unpickling. Arbitrary objects will no longer be allowed to be loaded via this mode unless they are explicitly allowlisted by the user via `torch.serialization.add_safe_globals`. We recommend you start setting `weights_only=True` for any use case where you don't have full control of the loaded file. Please open an issue on GitHub for any issues related to this experimental feature.\n",
      "`torch.cuda.amp.autocast(args...)` is deprecated. Please use `torch.amp.autocast('cuda', args...)` instead.\n",
      "You are using `torch.load` with `weights_only=False` (the current default value), which uses the default pickle module implicitly. It is possible to construct malicious pickle data which will execute arbitrary code during unpickling (See https://github.com/pytorch/pytorch/blob/main/SECURITY.md#untrusted-models for more details). In a future release, the default value for `weights_only` will be flipped to `True`. This limits the functions that could be executed during unpickling. Arbitrary objects will no longer be allowed to be loaded via this mode unless they are explicitly allowlisted by the user via `torch.serialization.add_safe_globals`. We recommend you start setting `weights_only=True` for any use case where you don't have full control of the loaded file. Please open an issue on GitHub for any issues related to this experimental feature.\n",
      "`torch.cuda.amp.autocast(args...)` is deprecated. Please use `torch.amp.autocast('cuda', args...)` instead.\n",
      "You are using `torch.load` with `weights_only=False` (the current default value), which uses the default pickle module implicitly. It is possible to construct malicious pickle data which will execute arbitrary code during unpickling (See https://github.com/pytorch/pytorch/blob/main/SECURITY.md#untrusted-models for more details). In a future release, the default value for `weights_only` will be flipped to `True`. This limits the functions that could be executed during unpickling. Arbitrary objects will no longer be allowed to be loaded via this mode unless they are explicitly allowlisted by the user via `torch.serialization.add_safe_globals`. We recommend you start setting `weights_only=True` for any use case where you don't have full control of the loaded file. Please open an issue on GitHub for any issues related to this experimental feature.\n",
      "`torch.cuda.amp.autocast(args...)` is deprecated. Please use `torch.amp.autocast('cuda', args...)` instead.\n",
      "You are using `torch.load` with `weights_only=False` (the current default value), which uses the default pickle module implicitly. It is possible to construct malicious pickle data which will execute arbitrary code during unpickling (See https://github.com/pytorch/pytorch/blob/main/SECURITY.md#untrusted-models for more details). In a future release, the default value for `weights_only` will be flipped to `True`. This limits the functions that could be executed during unpickling. Arbitrary objects will no longer be allowed to be loaded via this mode unless they are explicitly allowlisted by the user via `torch.serialization.add_safe_globals`. We recommend you start setting `weights_only=True` for any use case where you don't have full control of the loaded file. Please open an issue on GitHub for any issues related to this experimental feature.\n",
      "`torch.cuda.amp.autocast(args...)` is deprecated. Please use `torch.amp.autocast('cuda', args...)` instead.\n",
      "Ensembling (rank 0)...:  80%|████████  | 8/10 [23:17<05:41, 170.88s/it]You are using `torch.load` with `weights_only=False` (the current default value), which uses the default pickle module implicitly. It is possible to construct malicious pickle data which will execute arbitrary code during unpickling (See https://github.com/pytorch/pytorch/blob/main/SECURITY.md#untrusted-models for more details). In a future release, the default value for `weights_only` will be flipped to `True`. This limits the functions that could be executed during unpickling. Arbitrary objects will no longer be allowed to be loaded via this mode unless they are explicitly allowlisted by the user via `torch.serialization.add_safe_globals`. We recommend you start setting `weights_only=True` for any use case where you don't have full control of the loaded file. Please open an issue on GitHub for any issues related to this experimental feature.\n",
      "`torch.cuda.amp.autocast(args...)` is deprecated. Please use `torch.amp.autocast('cuda', args...)` instead.\n",
      "You are using `torch.load` with `weights_only=False` (the current default value), which uses the default pickle module implicitly. It is possible to construct malicious pickle data which will execute arbitrary code during unpickling (See https://github.com/pytorch/pytorch/blob/main/SECURITY.md#untrusted-models for more details). In a future release, the default value for `weights_only` will be flipped to `True`. This limits the functions that could be executed during unpickling. Arbitrary objects will no longer be allowed to be loaded via this mode unless they are explicitly allowlisted by the user via `torch.serialization.add_safe_globals`. We recommend you start setting `weights_only=True` for any use case where you don't have full control of the loaded file. Please open an issue on GitHub for any issues related to this experimental feature.\n",
      "`torch.cuda.amp.autocast(args...)` is deprecated. Please use `torch.amp.autocast('cuda', args...)` instead.\n",
      "You are using `torch.load` with `weights_only=False` (the current default value), which uses the default pickle module implicitly. It is possible to construct malicious pickle data which will execute arbitrary code during unpickling (See https://github.com/pytorch/pytorch/blob/main/SECURITY.md#untrusted-models for more details). In a future release, the default value for `weights_only` will be flipped to `True`. This limits the functions that could be executed during unpickling. Arbitrary objects will no longer be allowed to be loaded via this mode unless they are explicitly allowlisted by the user via `torch.serialization.add_safe_globals`. We recommend you start setting `weights_only=True` for any use case where you don't have full control of the loaded file. Please open an issue on GitHub for any issues related to this experimental feature.\n",
      "`torch.cuda.amp.autocast(args...)` is deprecated. Please use `torch.amp.autocast('cuda', args...)` instead.\n",
      "You are using `torch.load` with `weights_only=False` (the current default value), which uses the default pickle module implicitly. It is possible to construct malicious pickle data which will execute arbitrary code during unpickling (See https://github.com/pytorch/pytorch/blob/main/SECURITY.md#untrusted-models for more details). In a future release, the default value for `weights_only` will be flipped to `True`. This limits the functions that could be executed during unpickling. Arbitrary objects will no longer be allowed to be loaded via this mode unless they are explicitly allowlisted by the user via `torch.serialization.add_safe_globals`. We recommend you start setting `weights_only=True` for any use case where you don't have full control of the loaded file. Please open an issue on GitHub for any issues related to this experimental feature.\n",
      "`torch.cuda.amp.autocast(args...)` is deprecated. Please use `torch.amp.autocast('cuda', args...)` instead.\n",
      "You are using `torch.load` with `weights_only=False` (the current default value), which uses the default pickle module implicitly. It is possible to construct malicious pickle data which will execute arbitrary code during unpickling (See https://github.com/pytorch/pytorch/blob/main/SECURITY.md#untrusted-models for more details). In a future release, the default value for `weights_only` will be flipped to `True`. This limits the functions that could be executed during unpickling. Arbitrary objects will no longer be allowed to be loaded via this mode unless they are explicitly allowlisted by the user via `torch.serialization.add_safe_globals`. We recommend you start setting `weights_only=True` for any use case where you don't have full control of the loaded file. Please open an issue on GitHub for any issues related to this experimental feature.\n",
      "`torch.cuda.amp.autocast(args...)` is deprecated. Please use `torch.amp.autocast('cuda', args...)` instead.\n",
      "Ensembling (rank 0)...:  90%|█████████ | 9/10 [26:15<02:53, 173.29s/it]You are using `torch.load` with `weights_only=False` (the current default value), which uses the default pickle module implicitly. It is possible to construct malicious pickle data which will execute arbitrary code during unpickling (See https://github.com/pytorch/pytorch/blob/main/SECURITY.md#untrusted-models for more details). In a future release, the default value for `weights_only` will be flipped to `True`. This limits the functions that could be executed during unpickling. Arbitrary objects will no longer be allowed to be loaded via this mode unless they are explicitly allowlisted by the user via `torch.serialization.add_safe_globals`. We recommend you start setting `weights_only=True` for any use case where you don't have full control of the loaded file. Please open an issue on GitHub for any issues related to this experimental feature.\n",
      "`torch.cuda.amp.autocast(args...)` is deprecated. Please use `torch.amp.autocast('cuda', args...)` instead.\n",
      "You are using `torch.load` with `weights_only=False` (the current default value), which uses the default pickle module implicitly. It is possible to construct malicious pickle data which will execute arbitrary code during unpickling (See https://github.com/pytorch/pytorch/blob/main/SECURITY.md#untrusted-models for more details). In a future release, the default value for `weights_only` will be flipped to `True`. This limits the functions that could be executed during unpickling. Arbitrary objects will no longer be allowed to be loaded via this mode unless they are explicitly allowlisted by the user via `torch.serialization.add_safe_globals`. We recommend you start setting `weights_only=True` for any use case where you don't have full control of the loaded file. Please open an issue on GitHub for any issues related to this experimental feature.\n",
      "`torch.cuda.amp.autocast(args...)` is deprecated. Please use `torch.amp.autocast('cuda', args...)` instead.\n",
      "You are using `torch.load` with `weights_only=False` (the current default value), which uses the default pickle module implicitly. It is possible to construct malicious pickle data which will execute arbitrary code during unpickling (See https://github.com/pytorch/pytorch/blob/main/SECURITY.md#untrusted-models for more details). In a future release, the default value for `weights_only` will be flipped to `True`. This limits the functions that could be executed during unpickling. Arbitrary objects will no longer be allowed to be loaded via this mode unless they are explicitly allowlisted by the user via `torch.serialization.add_safe_globals`. We recommend you start setting `weights_only=True` for any use case where you don't have full control of the loaded file. Please open an issue on GitHub for any issues related to this experimental feature.\n",
      "`torch.cuda.amp.autocast(args...)` is deprecated. Please use `torch.amp.autocast('cuda', args...)` instead.\n",
      "You are using `torch.load` with `weights_only=False` (the current default value), which uses the default pickle module implicitly. It is possible to construct malicious pickle data which will execute arbitrary code during unpickling (See https://github.com/pytorch/pytorch/blob/main/SECURITY.md#untrusted-models for more details). In a future release, the default value for `weights_only` will be flipped to `True`. This limits the functions that could be executed during unpickling. Arbitrary objects will no longer be allowed to be loaded via this mode unless they are explicitly allowlisted by the user via `torch.serialization.add_safe_globals`. We recommend you start setting `weights_only=True` for any use case where you don't have full control of the loaded file. Please open an issue on GitHub for any issues related to this experimental feature.\n",
      "`torch.cuda.amp.autocast(args...)` is deprecated. Please use `torch.amp.autocast('cuda', args...)` instead.\n",
      "You are using `torch.load` with `weights_only=False` (the current default value), which uses the default pickle module implicitly. It is possible to construct malicious pickle data which will execute arbitrary code during unpickling (See https://github.com/pytorch/pytorch/blob/main/SECURITY.md#untrusted-models for more details). In a future release, the default value for `weights_only` will be flipped to `True`. This limits the functions that could be executed during unpickling. Arbitrary objects will no longer be allowed to be loaded via this mode unless they are explicitly allowlisted by the user via `torch.serialization.add_safe_globals`. We recommend you start setting `weights_only=True` for any use case where you don't have full control of the loaded file. Please open an issue on GitHub for any issues related to this experimental feature.\n",
      "`torch.cuda.amp.autocast(args...)` is deprecated. Please use `torch.amp.autocast('cuda', args...)` instead.\n",
      "Ensembling (rank 0)...: 100%|██████████| 10/10 [29:14<00:00, 175.47s/it]\n",
      "2024-12-11 09:50:41,292 - INFO - Auto3Dseg pipeline is completed successfully.\n"
     ]
    }
   ],
   "source": [
    "runner.run()"
   ]
  }
 ],
 "metadata": {
  "kernelspec": {
   "display_name": "monai",
   "language": "python",
   "name": "python3"
  },
  "language_info": {
   "codemirror_mode": {
    "name": "ipython",
    "version": 3
   },
   "file_extension": ".py",
   "mimetype": "text/x-python",
   "name": "python",
   "nbconvert_exporter": "python",
   "pygments_lexer": "ipython3",
   "version": "3.12.7"
  }
 },
 "nbformat": 4,
 "nbformat_minor": 5
}
