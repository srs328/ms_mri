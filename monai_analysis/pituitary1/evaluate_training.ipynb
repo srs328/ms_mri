{
 "cells": [
  {
   "cell_type": "code",
   "execution_count": 17,
   "metadata": {},
   "outputs": [],
   "source": [
    "import os\n",
    "from pathlib import Path\n",
    "import numpy as np\n",
    "import json\n",
    "from loguru import logger\n",
    "import platform\n",
    "import re \n",
    "import nibabel as nib\n",
    "import statistics\n",
    "import sys\n",
    "\n",
    "import mri_data\n",
    "import monai_training\n",
    "\n",
    "from reload_recursive import reload_recursive"
   ]
  },
  {
   "cell_type": "code",
   "execution_count": 18,
   "metadata": {},
   "outputs": [],
   "source": [
    "reload_recursive(mri_data)\n",
    "reload_recursive(monai_training)\n",
    "from mri_data.file_manager import scan_3Tpioneer_bids, DataSet, Scan  # noqa: E402, F401\n",
    "from mri_data import utils\n",
    "from mri_data import file_manager as fm\n",
    "from monai_training import preprocess  # noqa: E402\n",
    "from monai_training.preprocess import DataSetProcesser"
   ]
  },
  {
   "cell_type": "code",
   "execution_count": 3,
   "metadata": {},
   "outputs": [
    {
     "data": {
      "text/plain": [
       "1"
      ]
     },
     "execution_count": 3,
     "metadata": {},
     "output_type": "execute_result"
    }
   ],
   "source": [
    "logger.remove()\n",
    "logger.add(sys.stderr, level=\"INFO\")"
   ]
  },
  {
   "cell_type": "code",
   "execution_count": 8,
   "metadata": {},
   "outputs": [],
   "source": [
    "#! Set these variables\n",
    "work_dir_name = \"pituitary1\"\n",
    "label_prefix = \"pituitary\""
   ]
  },
  {
   "cell_type": "markdown",
   "metadata": {},
   "source": [
    "I think I have function for part of the below"
   ]
  },
  {
   "cell_type": "code",
   "execution_count": 12,
   "metadata": {},
   "outputs": [],
   "source": [
    "hostname = platform.node()\n",
    "if hostname == \"rhinocampus\":\n",
    "    drive_root = Path(\"/media/smbshare\")\n",
    "else:\n",
    "    drive_root = Path(\"/mnt/h\")\n",
    "\n",
    "projects_root = Path(\"/home/srs-9/Projects\")\n",
    "\n",
    "msmri_home = projects_root / \"ms_mri\"\n",
    "training_work_dirs = msmri_home / \"training_work_dirs\"\n",
    "\n",
    "# dataroot = \"/media/hemondlab/Data/3Tpioneer_bids\"\n",
    "dataroot = drive_root / \"3Tpioneer_bids\"\n",
    "work_dir = training_work_dirs / work_dir_name\n",
    "ensemble_out_dir = work_dir / \"ensemble_output\" / \"3Tpioneer_bids\""
   ]
  },
  {
   "cell_type": "markdown",
   "metadata": {},
   "source": [
    "Scan the ensemble_out folder produced during the monai training to collect the predicted labels into a DataSet struct. Create another DataSet object with the same subjects and sessions but rooted in the main data location, then collect the manual labels "
   ]
  },
  {
   "cell_type": "code",
   "execution_count": 14,
   "metadata": {},
   "outputs": [
    {
     "name": "stderr",
     "output_type": "stream",
     "text": [
      "\u001b[32m2024-12-02 14:56:54.168\u001b[0m | \u001b[1mINFO    \u001b[0m | \u001b[36mmonai_training.preprocess\u001b[0m:\u001b[36mprepare_labels\u001b[0m:\u001b[36m167\u001b[0m - \u001b[1mPrepare Labels\u001b[0m\n",
      "  0%|          | 0/13 [00:00<?, ?it/s]"
     ]
    },
    {
     "name": "stderr",
     "output_type": "stream",
     "text": [
      "100%|██████████| 13/13 [00:01<00:00,  9.60it/s]\n",
      "\u001b[32m2024-12-02 14:56:55.525\u001b[0m | \u001b[1mINFO    \u001b[0m | \u001b[36mmonai_training.preprocess\u001b[0m:\u001b[36mprepare_labels\u001b[0m:\u001b[36m229\u001b[0m - \u001b[1mDataset size: 13\u001b[0m\n"
     ]
    }
   ],
   "source": [
    "ensemble_out_dataset = scan_3Tpioneer_bids(ensemble_out_dir, label=\"t1_ensemble.nii.gz\")\n",
    "dataset = DataSet.dataset_like(ensemble_out_dataset)\n",
    "dataset.dataroot = dataroot\n",
    "dataset_proc = DataSetProcesser(dataset)\n",
    "dataset_proc.prepare_labels(\"pituitary\")\n",
    "dataset = dataset_proc.dataset\n",
    "dataset.sort()\n",
    "ensemble_out_dataset.sort()"
   ]
  },
  {
   "cell_type": "markdown",
   "metadata": {},
   "source": [
    "Calculate Dice Scores"
   ]
  },
  {
   "cell_type": "code",
   "execution_count": 22,
   "metadata": {},
   "outputs": [
    {
     "name": "stdout",
     "output_type": "stream",
     "text": [
      "Dice Scores\n",
      "1029: 0.83\n",
      "1037: 0.85\n",
      "1052: 0.78\n",
      "1057: 0.79\n",
      "1103: 0.77\n",
      "1111: 0.90\n",
      "1207: 0.82\n",
      "1224: 0.80\n",
      "1241: 0.77\n",
      "1248: 0.80\n",
      "1323: 0.89\n",
      "1401: 0.78\n",
      "1492: 0.85\n",
      "----------\n",
      "Mean: 0.82\n",
      "Std: 0.04\n",
      "[0.8340141106572596, 0.8498603351955307, 0.776134625191229, 0.7908337396392003, 0.7660343270099368, 0.9001782531194296, 0.8176100628930818, 0.803123983078425, 0.7672842295526434, 0.8004330566582462, 0.8885424785658612, 0.7830775611779345, 0.8453934361407671]\n"
     ]
    }
   ],
   "source": [
    "dice_scores = []\n",
    "print(\"Dice Scores\")\n",
    "for scan, inference in zip(dataset, ensemble_out_dataset):\n",
    "    seg1 = nib.load(scan.label_path).get_fdata()\n",
    "    seg2 = nib.load(inference.label_path).get_fdata()\n",
    "\n",
    "    # Calculate Dice score\n",
    "    score = utils.dice_score(seg1, seg2)\n",
    "    dice_scores.append(score)\n",
    "    print(\"{}: {:0.2f}\".format(scan.subid, score))\n",
    "print(\"----------\")\n",
    "print(\"Mean: {:0.2f}\".format(sum(dice_scores) / len(dice_scores)))\n",
    "print(\"Std: {:0.2f}\".format(statistics.stdev(dice_scores)))\n",
    "\n",
    "print(dice_scores)"
   ]
  },
  {
   "cell_type": "markdown",
   "metadata": {},
   "source": [
    "Calculate IoU"
   ]
  },
  {
   "cell_type": "code",
   "execution_count": 23,
   "metadata": {},
   "outputs": [
    {
     "name": "stdout",
     "output_type": "stream",
     "text": [
      "IoU\n",
      "1029: 0.72\n",
      "1037: 0.74\n",
      "1052: 0.63\n",
      "1057: 0.65\n",
      "1103: 0.62\n",
      "1111: 0.82\n",
      "1207: 0.69\n",
      "1224: 0.67\n",
      "1241: 0.62\n",
      "1248: 0.67\n",
      "1323: 0.80\n",
      "1401: 0.64\n",
      "1492: 0.73\n",
      "----------\n",
      "Mean: 0.69\n",
      "Std: 0.06\n",
      "[0.7152866242038216, 0.7389192471159685, 0.6341666666666667, 0.6540322580645161, 0.6207906295754027, 0.8184764991896273, 0.6914893617021277, 0.6710168569874932, 0.6224340175953079, 0.6672683513838749, 0.7994389901823282, 0.643490115882754, 0.7321917808219178]\n"
     ]
    }
   ],
   "source": [
    "iou = []\n",
    "print(\"IoU\")\n",
    "for scan, inference in zip(dataset, ensemble_out_dataset):\n",
    "    label = fm.find_label(scan, \"pituitary\", [\"CH\", \"ED\", \"DT\"])\n",
    "    seg1 = nib.load(label).get_fdata()\n",
    "    seg2 = nib.load(inference.label_path).get_fdata()\n",
    "\n",
    "    # Calculate Dice score\n",
    "    score = utils.iou(seg1, seg2, seg2_val=1)\n",
    "    iou.append(score)\n",
    "    print(\"{}: {:0.2f}\".format(scan.subid, score))\n",
    "print(\"----------\")\n",
    "print(\"Mean: {:0.2f}\".format(sum(iou) / len(iou)))\n",
    "print(\"Std: {:0.2f}\".format(statistics.stdev(iou)))\n",
    "\n",
    "print(iou)"
   ]
  },
  {
   "cell_type": "markdown",
   "metadata": {},
   "source": [
    "Calculate Hausdorff Dist for pituitary"
   ]
  },
  {
   "cell_type": "code",
   "execution_count": 24,
   "metadata": {},
   "outputs": [
    {
     "name": "stdout",
     "output_type": "stream",
     "text": [
      "haus\n",
      "1029: 3.16\n",
      "1037: 3.16\n",
      "1052: 3.00\n",
      "1057: 4.12\n",
      "1103: 72.21\n",
      "1111: 18.38\n",
      "1207: 2.00\n",
      "1224: 5.74\n",
      "1241: 5.74\n",
      "1248: 4.58\n",
      "1323: 2.45\n",
      "1401: 2.83\n",
      "1492: 2.24\n",
      "----------\n",
      "Mean: 9.97\n",
      "Std: 19.18\n",
      "[3.1622776601683795, 3.1622776601683795, 3.0, 4.123105625617661, 72.20803279414278, 18.384776310850235, 2.0, 5.744562646538029, 5.744562646538029, 4.58257569495584, 2.449489742783178, 2.8284271247461903, 2.23606797749979]\n"
     ]
    }
   ],
   "source": [
    "haus = []\n",
    "print(\"haus\")\n",
    "for scan, inference in zip(dataset, ensemble_out_dataset):\n",
    "    label = fm.find_label(scan, \"pituitary\", [\"CH\", \"ED\", \"DT\"])\n",
    "    seg1 = nib.load(label).get_fdata()\n",
    "    seg2 = nib.load(inference.label_path).get_fdata()\n",
    "\n",
    "    # Calculate Dice score\n",
    "    score = utils.hausdorff_dist(seg1, seg2, seg2_val=1)\n",
    "    haus.append(score)\n",
    "    print(\"{}: {:0.2f}\".format(scan.subid, score))\n",
    "print(\"----------\")\n",
    "print(\"Mean: {:0.2f}\".format(sum(haus) / len(haus)))\n",
    "print(\"Std: {:0.2f}\".format(statistics.stdev(haus)))\n",
    "\n",
    "print(haus)"
   ]
  },
  {
   "cell_type": "markdown",
   "metadata": {},
   "source": [
    "Save a new version of the predicted label that has a labelling index of 2 so that it appears as a different color in itksnap"
   ]
  },
  {
   "cell_type": "code",
   "execution_count": 26,
   "metadata": {},
   "outputs": [],
   "source": [
    "for inference in ensemble_out_dataset:\n",
    "    label_path = inference.label_path\n",
    "    new_label_path = label_path.with_name(f\"{fm.nifti_name(label_path)}_val2.nii.gz\")\n",
    "    utils.set_label_value(label_path, new_label_path, 2)"
   ]
  },
  {
   "cell_type": "markdown",
   "metadata": {},
   "source": [
    "Produce commands to open images and labels in itksnap"
   ]
  },
  {
   "cell_type": "code",
   "execution_count": 27,
   "metadata": {},
   "outputs": [
    {
     "name": "stdout",
     "output_type": "stream",
     "text": [
      "itksnap -g /media/smbshare/3Tpioneer_bids/sub-ms1029/ses-20170816/flair.nii.gz -o /media/smbshare/3Tpioneer_bids/sub-ms1029/ses-20170816/t1.nii.gz -s /home/srs-9/Projects/ms_mri/training_work_dirs/pituitary1/ensemble_output/3Tpioneer_bids/sub-ms1029/ses-20170816/t1_ensemble_val2.nii.gz /media/smbshare/3Tpioneer_bids/sub-ms1029/ses-20170816/pituitary.nii.gz\n",
      "itksnap -g /media/smbshare/3Tpioneer_bids/sub-ms1037/ses-20210508/flair.nii.gz -o /media/smbshare/3Tpioneer_bids/sub-ms1037/ses-20210508/t1.nii.gz -s /home/srs-9/Projects/ms_mri/training_work_dirs/pituitary1/ensemble_output/3Tpioneer_bids/sub-ms1037/ses-20210508/t1_ensemble_val2.nii.gz /media/smbshare/3Tpioneer_bids/sub-ms1037/ses-20210508/pituitary.nii.gz\n",
      "itksnap -g /media/smbshare/3Tpioneer_bids/sub-ms1052/ses-20180803/flair.nii.gz -o /media/smbshare/3Tpioneer_bids/sub-ms1052/ses-20180803/t1.nii.gz -s /home/srs-9/Projects/ms_mri/training_work_dirs/pituitary1/ensemble_output/3Tpioneer_bids/sub-ms1052/ses-20180803/t1_ensemble_val2.nii.gz /media/smbshare/3Tpioneer_bids/sub-ms1052/ses-20180803/pituitary.nii.gz\n",
      "itksnap -g /media/smbshare/3Tpioneer_bids/sub-ms1057/ses-20181212/flair.nii.gz -o /media/smbshare/3Tpioneer_bids/sub-ms1057/ses-20181212/t1.nii.gz -s /home/srs-9/Projects/ms_mri/training_work_dirs/pituitary1/ensemble_output/3Tpioneer_bids/sub-ms1057/ses-20181212/t1_ensemble_val2.nii.gz /media/smbshare/3Tpioneer_bids/sub-ms1057/ses-20181212/pituitary.nii.gz\n",
      "itksnap -g /media/smbshare/3Tpioneer_bids/sub-ms1103/ses-20191214/flair.nii.gz -o /media/smbshare/3Tpioneer_bids/sub-ms1103/ses-20191214/t1.nii.gz -s /home/srs-9/Projects/ms_mri/training_work_dirs/pituitary1/ensemble_output/3Tpioneer_bids/sub-ms1103/ses-20191214/t1_ensemble_val2.nii.gz /media/smbshare/3Tpioneer_bids/sub-ms1103/ses-20191214/pituitary.nii.gz\n",
      "itksnap -g /media/smbshare/3Tpioneer_bids/sub-ms1111/ses-20161211/flair.nii.gz -o /media/smbshare/3Tpioneer_bids/sub-ms1111/ses-20161211/t1.nii.gz -s /home/srs-9/Projects/ms_mri/training_work_dirs/pituitary1/ensemble_output/3Tpioneer_bids/sub-ms1111/ses-20161211/t1_ensemble_val2.nii.gz /media/smbshare/3Tpioneer_bids/sub-ms1111/ses-20161211/pituitary.nii.gz\n",
      "itksnap -g /media/smbshare/3Tpioneer_bids/sub-ms1207/ses-20180624/flair.nii.gz -o /media/smbshare/3Tpioneer_bids/sub-ms1207/ses-20180624/t1.nii.gz -s /home/srs-9/Projects/ms_mri/training_work_dirs/pituitary1/ensemble_output/3Tpioneer_bids/sub-ms1207/ses-20180624/t1_ensemble_val2.nii.gz /media/smbshare/3Tpioneer_bids/sub-ms1207/ses-20180624/pituitary.nii.gz\n",
      "itksnap -g /media/smbshare/3Tpioneer_bids/sub-ms1224/ses-20181007/flair.nii.gz -o /media/smbshare/3Tpioneer_bids/sub-ms1224/ses-20181007/t1.nii.gz -s /home/srs-9/Projects/ms_mri/training_work_dirs/pituitary1/ensemble_output/3Tpioneer_bids/sub-ms1224/ses-20181007/t1_ensemble_val2.nii.gz /media/smbshare/3Tpioneer_bids/sub-ms1224/ses-20181007/pituitary.nii.gz\n",
      "itksnap -g /media/smbshare/3Tpioneer_bids/sub-ms1241/ses-20161122/flair.nii.gz -o /media/smbshare/3Tpioneer_bids/sub-ms1241/ses-20161122/t1.nii.gz -s /home/srs-9/Projects/ms_mri/training_work_dirs/pituitary1/ensemble_output/3Tpioneer_bids/sub-ms1241/ses-20161122/t1_ensemble_val2.nii.gz /media/smbshare/3Tpioneer_bids/sub-ms1241/ses-20161122/pituitary.nii.gz\n",
      "itksnap -g /media/smbshare/3Tpioneer_bids/sub-ms1248/ses-20160922/flair.nii.gz -o /media/smbshare/3Tpioneer_bids/sub-ms1248/ses-20160922/t1.nii.gz -s /home/srs-9/Projects/ms_mri/training_work_dirs/pituitary1/ensemble_output/3Tpioneer_bids/sub-ms1248/ses-20160922/t1_ensemble_val2.nii.gz /media/smbshare/3Tpioneer_bids/sub-ms1248/ses-20160922/pituitary.nii.gz\n",
      "itksnap -g /media/smbshare/3Tpioneer_bids/sub-ms1323/ses-20191011/flair.nii.gz -o /media/smbshare/3Tpioneer_bids/sub-ms1323/ses-20191011/t1.nii.gz -s /home/srs-9/Projects/ms_mri/training_work_dirs/pituitary1/ensemble_output/3Tpioneer_bids/sub-ms1323/ses-20191011/t1_ensemble_val2.nii.gz /media/smbshare/3Tpioneer_bids/sub-ms1323/ses-20191011/pituitary.nii.gz\n",
      "itksnap -g /media/smbshare/3Tpioneer_bids/sub-ms1401/ses-20170801/flair.nii.gz -o /media/smbshare/3Tpioneer_bids/sub-ms1401/ses-20170801/t1.nii.gz -s /home/srs-9/Projects/ms_mri/training_work_dirs/pituitary1/ensemble_output/3Tpioneer_bids/sub-ms1401/ses-20170801/t1_ensemble_val2.nii.gz /media/smbshare/3Tpioneer_bids/sub-ms1401/ses-20170801/pituitary.nii.gz\n",
      "itksnap -g /media/smbshare/3Tpioneer_bids/sub-ms1492/ses-20190620/flair.nii.gz -o /media/smbshare/3Tpioneer_bids/sub-ms1492/ses-20190620/t1.nii.gz -s /home/srs-9/Projects/ms_mri/training_work_dirs/pituitary1/ensemble_output/3Tpioneer_bids/sub-ms1492/ses-20190620/t1_ensemble_val2.nii.gz /media/smbshare/3Tpioneer_bids/sub-ms1492/ses-20190620/pituitary.nii.gz\n"
     ]
    }
   ],
   "source": [
    "for scan, inference in zip(dataset, ensemble_out_dataset):\n",
    "    flair = scan.root / \"flair.nii.gz\"\n",
    "    flair = scan.with_root()\n",
    "    t1 = scan.root / \"t1.nii.gz\"\n",
    "    manual = scan.label_path\n",
    "    prediction = inference.root / new_label_path.name\n",
    "    print(\"itksnap\", \"-g\", flair, \"-o\", t1, \"-s\", prediction, manual)"
   ]
  },
  {
   "cell_type": "markdown",
   "metadata": {},
   "source": [
    "Produce commands to open images and labels in freeview"
   ]
  },
  {
   "cell_type": "code",
   "execution_count": 23,
   "metadata": {},
   "outputs": [
    {
     "name": "stdout",
     "output_type": "stream",
     "text": [
      "freeview /media/smbshare/3Tpioneer_bids/sub-ms1010/ses-20180208/flair.nii.gz /media/smbshare/3Tpioneer_bids/sub-ms1010/ses-20180208/t1.nii.gz /home/srs-9/Projects/ms_mri/training_work_dirs/pineal1/ensemble_output/sub-ms1010/ses-20180208/flair.t1_ensemble.nii.gz:colormap=heat /media/smbshare/3Tpioneer_bids/sub-ms1010/ses-20180208/pineal-CH.nii.gz:colormap=heat\n",
      "freeview /media/smbshare/3Tpioneer_bids/sub-ms1029/ses-20170816/flair.nii.gz /media/smbshare/3Tpioneer_bids/sub-ms1029/ses-20170816/t1.nii.gz /home/srs-9/Projects/ms_mri/training_work_dirs/pineal1/ensemble_output/sub-ms1029/ses-20170816/flair.t1_ensemble.nii.gz:colormap=heat /media/smbshare/3Tpioneer_bids/sub-ms1029/ses-20170816/pineal-SRS.nii.gz:colormap=heat\n",
      "freeview /media/smbshare/3Tpioneer_bids/sub-ms1188/ses-20200720/flair.nii.gz /media/smbshare/3Tpioneer_bids/sub-ms1188/ses-20200720/t1.nii.gz /home/srs-9/Projects/ms_mri/training_work_dirs/pineal1/ensemble_output/sub-ms1188/ses-20200720/flair.t1_ensemble.nii.gz:colormap=heat /media/smbshare/3Tpioneer_bids/sub-ms1188/ses-20200720/pineal-CH.nii.gz:colormap=heat\n",
      "freeview /media/smbshare/3Tpioneer_bids/sub-ms1265/ses-20180127/flair.nii.gz /media/smbshare/3Tpioneer_bids/sub-ms1265/ses-20180127/t1.nii.gz /home/srs-9/Projects/ms_mri/training_work_dirs/pineal1/ensemble_output/sub-ms1265/ses-20180127/flair.t1_ensemble.nii.gz:colormap=heat /media/smbshare/3Tpioneer_bids/sub-ms1265/ses-20180127/pineal-SRS.nii.gz:colormap=heat\n",
      "freeview /media/smbshare/3Tpioneer_bids/sub-ms1272/ses-20211105/flair.nii.gz /media/smbshare/3Tpioneer_bids/sub-ms1272/ses-20211105/t1.nii.gz /home/srs-9/Projects/ms_mri/training_work_dirs/pineal1/ensemble_output/sub-ms1272/ses-20211105/flair.t1_ensemble.nii.gz:colormap=heat /media/smbshare/3Tpioneer_bids/sub-ms1272/ses-20211105/pineal-SRS.nii.gz:colormap=heat\n",
      "freeview /media/smbshare/3Tpioneer_bids/sub-ms1280/ses-20220317/flair.nii.gz /media/smbshare/3Tpioneer_bids/sub-ms1280/ses-20220317/t1.nii.gz /home/srs-9/Projects/ms_mri/training_work_dirs/pineal1/ensemble_output/sub-ms1280/ses-20220317/flair.t1_ensemble.nii.gz:colormap=heat /media/smbshare/3Tpioneer_bids/sub-ms1280/ses-20220317/pineal-SRS.nii.gz:colormap=heat\n",
      "freeview /media/smbshare/3Tpioneer_bids/sub-ms1321/ses-20201020/flair.nii.gz /media/smbshare/3Tpioneer_bids/sub-ms1321/ses-20201020/t1.nii.gz /home/srs-9/Projects/ms_mri/training_work_dirs/pineal1/ensemble_output/sub-ms1321/ses-20201020/flair.t1_ensemble.nii.gz:colormap=heat /media/smbshare/3Tpioneer_bids/sub-ms1321/ses-20201020/pineal-SRS.nii.gz:colormap=heat\n",
      "freeview /media/smbshare/3Tpioneer_bids/sub-ms2187/ses-20200731/flair.nii.gz /media/smbshare/3Tpioneer_bids/sub-ms2187/ses-20200731/t1.nii.gz /home/srs-9/Projects/ms_mri/training_work_dirs/pineal1/ensemble_output/sub-ms2187/ses-20200731/flair.t1_ensemble.nii.gz:colormap=heat /media/smbshare/3Tpioneer_bids/sub-ms2187/ses-20200731/pineal-SRS.nii.gz:colormap=heat\n"
     ]
    }
   ],
   "source": [
    "for scan, inference in zip(dataset, ensemble_out_dataset):\n",
    "    flair = scan.root / \"flair.nii.gz\"\n",
    "    t1 = scan.root / \"t1.nii.gz\"\n",
    "    manual = scan.label_path\n",
    "    prediction = inference.label_path\n",
    "    print(\"freeview\", flair, t1, f\"{prediction}:colormap=heat\", f\"{manual}:colormap=heat\")"
   ]
  }
 ],
 "metadata": {
  "kernelspec": {
   "display_name": "monai",
   "language": "python",
   "name": "python3"
  },
  "language_info": {
   "codemirror_mode": {
    "name": "ipython",
    "version": 3
   },
   "file_extension": ".py",
   "mimetype": "text/x-python",
   "name": "python",
   "nbconvert_exporter": "python",
   "pygments_lexer": "ipython3",
   "version": "3.12.4"
  }
 },
 "nbformat": 4,
 "nbformat_minor": 2
}
