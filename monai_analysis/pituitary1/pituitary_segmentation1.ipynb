{
 "cells": [
  {
   "cell_type": "markdown",
   "id": "6b5ef0d0-d80a-49f6-93dd-50dd79b06345",
   "metadata": {
    "tags": []
   },
   "source": [
    "# Choroid Plexus Segmentation Training via Auto3DSeg"
   ]
  },
  {
   "cell_type": "code",
   "execution_count": 1,
   "id": "447dcb1b-ab8f-43b9-9439-d703a0881dc7",
   "metadata": {
    "tags": []
   },
   "outputs": [
    {
     "ename": "ModuleNotFoundError",
     "evalue": "No module named 'mri_preproc'",
     "output_type": "error",
     "traceback": [
      "\u001b[0;31m---------------------------------------------------------------------------\u001b[0m",
      "\u001b[0;31mModuleNotFoundError\u001b[0m                       Traceback (most recent call last)",
      "Cell \u001b[0;32mIn[1], line 12\u001b[0m\n\u001b[1;32m     10\u001b[0m \u001b[38;5;28;01mfrom\u001b[39;00m \u001b[38;5;21;01mmonai\u001b[39;00m\u001b[38;5;21;01m.\u001b[39;00m\u001b[38;5;21;01mapps\u001b[39;00m\u001b[38;5;21;01m.\u001b[39;00m\u001b[38;5;21;01mauto3dseg\u001b[39;00m \u001b[38;5;28;01mimport\u001b[39;00m AutoRunner\n\u001b[1;32m     11\u001b[0m \u001b[38;5;28;01mfrom\u001b[39;00m \u001b[38;5;21;01mmonai\u001b[39;00m\u001b[38;5;21;01m.\u001b[39;00m\u001b[38;5;21;01mconfig\u001b[39;00m \u001b[38;5;28;01mimport\u001b[39;00m print_config\n\u001b[0;32m---> 12\u001b[0m \u001b[38;5;28;01mfrom\u001b[39;00m \u001b[38;5;21;01mmri_preproc\u001b[39;00m\u001b[38;5;21;01m.\u001b[39;00m\u001b[38;5;21;01mpaths\u001b[39;00m \u001b[38;5;28;01mimport\u001b[39;00m hemond_data, init_paths\n\u001b[1;32m     13\u001b[0m \u001b[38;5;28;01mimport\u001b[39;00m \u001b[38;5;21;01mimportlib\u001b[39;00m\n\u001b[1;32m     14\u001b[0m \u001b[38;5;28;01mfrom\u001b[39;00m \u001b[38;5;21;01mdataclasses\u001b[39;00m \u001b[38;5;28;01mimport\u001b[39;00m asdict\n",
      "\u001b[0;31mModuleNotFoundError\u001b[0m: No module named 'mri_preproc'"
     ]
    }
   ],
   "source": [
    "import os\n",
    "import json\n",
    "import nibabel as nib\n",
    "import nibabel as nibabel\n",
    "import numpy as np\n",
    "import matplotlib.pyplot as plt\n",
    "from pathlib import Path\n",
    "import glob\n",
    "import random\n",
    "from monai.apps.auto3dseg import AutoRunner\n",
    "from monai.config import print_config\n",
    "from mri_preproc.paths import hemond_data, init_paths\n",
    "import importlib\n",
    "from dataclasses import asdict\n",
    "\n",
    "print_config()"
   ]
  },
  {
   "cell_type": "code",
   "execution_count": null,
   "id": "074f8700",
   "metadata": {},
   "outputs": [],
   "source": [
    "init_paths.main()\n",
    "from mri_data.file_manager import DataSet, scan_3Tpioneer_bids\n",
    "from monai_training import training, preprocess\n",
    "importlib.reload(hemond_data)"
   ]
  },
  {
   "cell_type": "markdown",
   "id": "9757d709-c563-4082-a369-c08f07ed3fbf",
   "metadata": {},
   "source": [
    "## Prep the database\n",
    "\n",
    "Get the data and labels organized"
   ]
  },
  {
   "cell_type": "code",
   "execution_count": 32,
   "id": "e8009ba8",
   "metadata": {},
   "outputs": [],
   "source": [
    "#! delete this\n",
    "# dataset = hemond_data.get_pituitary_3Tpioneer_bids(\"/mnt/h/3Tpioneer_bids\", suppress_output=True)\n",
    "# omit_subs = ['ms1196']\n",
    "# dataset = [data for data in dataset if data.label is not None and data.subid not in omit_subs]"
   ]
  },
  {
   "cell_type": "code",
   "execution_count": null,
   "id": "1ee0f080",
   "metadata": {},
   "outputs": [],
   "source": [
    "work_dir = \"/home/srs-9/Projects/ms_mri/training_work_dirs/pituitary1\"\n",
    "# work_dir = \"/home/hemondlab/Dev/ms_mri/training_work_dirs/cp_work_dir6\"\n",
    "if not os.path.isdir(work_dir):\n",
    "    os.makedirs(work_dir)\n",
    "\n",
    "dataroot_dir = \"/mnt/h\"\n",
    "if not os.path.isdir(dataroot_dir):\n",
    "    os.makedirs(dataroot_dir)"
   ]
  },
  {
   "cell_type": "code",
   "execution_count": null,
   "id": "2a920dab",
   "metadata": {},
   "outputs": [],
   "source": [
    "dataroot = Path(\"/mnt/h/3Tpioneer_bids\")\n",
    "dataset = scan_3Tpioneer_bids(dataroot, image=\"t1.nii.gz\", label=\"pituitary.nii.gz\")\n",
    "omit_subs = [('1196', '20161004')]\n",
    "bad_scan = dataset.find_scan(subid=omit_subs[0][0], sesid=omit_subs[0][1])[0]\n",
    "dataset.remove_scan(bad_scan)"
   ]
  },
  {
   "cell_type": "code",
   "execution_count": null,
   "id": "919cf630",
   "metadata": {},
   "outputs": [],
   "source": [
    "# can't remember what fraction I had used\n",
    "fraction_ts = 0.2\n",
    "dataset = training.assign_conditions(dataset, fraction_ts)\n",
    "dataset[1]\n",
    "preprocess.save_dataset(dataset, work_dir / \"training-dataset.json\")"
   ]
  },
  {
   "cell_type": "code",
   "execution_count": 34,
   "id": "8ee1ba2f-45f9-4d11-b1b3-8af676954fe7",
   "metadata": {
    "tags": []
   },
   "outputs": [],
   "source": [
    "training_data = []\n",
    "test_data = []\n",
    "\n",
    "for scan in dataset:\n",
    "    if scan.cond == 'tr':\n",
    "        training_data.append({\"image\": scan.image, \"label\": scan.label})\n",
    "    elif scan.cond == 'ts':\n",
    "        test_data.append(scan.image)"
   ]
  },
  {
   "cell_type": "markdown",
   "id": "77c3d4ba-a4ee-46f9-bbef-73bea3f1e1f4",
   "metadata": {},
   "source": [
    "## Review"
   ]
  },
  {
   "cell_type": "code",
   "execution_count": 35,
   "id": "2fb4c306-d08a-4205-b701-49e362e87bdd",
   "metadata": {
    "tags": []
   },
   "outputs": [],
   "source": [
    "def display_slices(scan):\n",
    "    img1 = nibabel.load(scan.image)\n",
    "    img2 = nibabel.load(scan.label)\n",
    "\n",
    "    data1 = img1.get_fdata()[:,:,:]\n",
    "    data2 = img2.get_fdata()\n",
    "\n",
    "    slice_sums = np.sum(data2, axis=(0, 1))\n",
    "    \n",
    "    print(slice_sums)\n",
    "\n",
    "    max_slice_index = np.argmax(slice_sums)\n",
    "    print(f\"Max slice: {max_slice_index}\")\n",
    "\n",
    "    slice1 = data1[:, :, max_slice_index]\n",
    "    slice2 = data2[:, :, max_slice_index]    \n",
    "\n",
    "    plt.figure(figsize=(10, 5))\n",
    "    plt.subplot(1, 2, 1)\n",
    "    plt.imshow(slice1, cmap='gray')\n",
    "    plt.title(f\"Image 1 - Slice {max_slice_index}\")\n",
    "    plt.axis('off')\n",
    "\n",
    "    plt.subplot(1, 2, 2)\n",
    "    plt.imshow(slice2, cmap='gray')\n",
    "    plt.title(f\"Image 2 - Slice {max_slice_index}\")\n",
    "    plt.axis('off')\n",
    "    plt.show()\n"
   ]
  },
  {
   "cell_type": "code",
   "execution_count": 36,
   "id": "012dccd4",
   "metadata": {},
   "outputs": [],
   "source": [
    "img2 = nibabel.load(dataset[0].label)\n",
    "data2 = img2.get_fdata()"
   ]
  },
  {
   "cell_type": "code",
   "execution_count": null,
   "id": "0a062717-42d3-4a72-aa99-f3e0cb3994e6",
   "metadata": {
    "tags": []
   },
   "outputs": [],
   "source": [
    "display_slices(dataset[20])"
   ]
  },
  {
   "cell_type": "markdown",
   "id": "64151db1",
   "metadata": {},
   "source": [
    "In the original code, they include labels in the test data as well. Also they have a function that checks that there is nonzero number of voxels in the label"
   ]
  },
  {
   "cell_type": "code",
   "execution_count": null,
   "id": "1126595e-b5f8-439b-ac08-cee9c5460e1f",
   "metadata": {
    "tags": []
   },
   "outputs": [],
   "source": [
    "#? I don't know why they put labels for the test data. the brats segmentation code didn't.\n",
    "# train_data = [{'image': path + '/flair.nii.gz', 'label': path + '/flair_chp_mask_qced.nii.gz'} for path in train_exams]\n",
    "# test_data = [{'image': path + '/flair.nii.gz', 'label': path + '/flair_chp_mask_qced.nii.gz'} for path in test_exams]\n",
    "\n",
    "train_data = []\n",
    "test_data = []\n",
    "for scan in dataset:\n",
    "    if scan.cond == 'tr' and scan.has_label:\n",
    "        train_data.append({\"image\": str(scan.image), \"label\": str(scan.label)})\n",
    "    elif scan.cond == 'ts' and scan.has_label():\n",
    "        test_data.append({\"image\": str(scan.image), \"label\": str(scan.label)})\n",
    "\n",
    "\n",
    "print(f\"Train num total: {len(train_data)}\")\n",
    "print(f\"Test num: {len(test_data)}\")"
   ]
  },
  {
   "cell_type": "code",
   "execution_count": 44,
   "id": "5a9debf7-a89b-455b-a14d-826971e603d3",
   "metadata": {
    "tags": []
   },
   "outputs": [],
   "source": [
    "n_folds = 5\n",
    "datalist = {\n",
    "    \"testing\": test_data,\n",
    "    \"training\": [{\"fold\": i % n_folds, \"image\": c[\"image\"], \"label\": c[\"label\"]} for i,c in enumerate(train_data)]\n",
    "}"
   ]
  },
  {
   "cell_type": "code",
   "execution_count": 45,
   "id": "20a28417-4acc-4721-a942-9fe46376753f",
   "metadata": {
    "tags": []
   },
   "outputs": [],
   "source": [
    "# sub_datalist = dict({'training':[], 'testing':[]})\n",
    "# sub_datalist[\"training\"] = datalist[\"training\"][:100]\n",
    "# sub_datalist[\"testing\"] = datalist[\"testing\"][:29]\n",
    "# datalist = sub_datalist"
   ]
  },
  {
   "cell_type": "code",
   "execution_count": null,
   "id": "7b3d2864",
   "metadata": {},
   "outputs": [],
   "source": [
    "len(datalist['training'])"
   ]
  },
  {
   "cell_type": "code",
   "execution_count": 48,
   "id": "79e79f57-8c40-4bf0-b588-d8bada8bc9b6",
   "metadata": {
    "tags": []
   },
   "outputs": [],
   "source": [
    "datalist_file = os.path.join(work_dir, \"datalist.json\")\n",
    "with open(datalist_file, \"w\") as f:\n",
    "    json.dump(datalist, f)"
   ]
  },
  {
   "cell_type": "code",
   "execution_count": null,
   "id": "7c65f5fa-6ec7-4974-b90f-a51cc70263e8",
   "metadata": {
    "tags": []
   },
   "outputs": [],
   "source": [
    "runner = AutoRunner(\n",
    "    work_dir=work_dir,\n",
    "    algos=[\"swinunetr\"],\n",
    "    input={\n",
    "        \"modality\": \"MRI\",\n",
    "        \"datalist\": datalist_file,\n",
    "        \"dataroot\": dataroot_dir,\n",
    "    },\n",
    ")"
   ]
  },
  {
   "cell_type": "code",
   "execution_count": null,
   "id": "56e52e9b-1b75-4807-91cb-267d9f4f5a67",
   "metadata": {
    "tags": []
   },
   "outputs": [],
   "source": [
    "max_epochs = 100\n",
    "\n",
    "train_param = {\n",
    "    \"num_epochs_per_validation\": 1,\n",
    "    #\"num_images_per_batch\": 2,\n",
    "    \"num_epochs\": max_epochs,\n",
    "    \"num_warmup_epochs\": 1,\n",
    "}\n",
    "runner.set_training_params(train_param)"
   ]
  },
  {
   "cell_type": "code",
   "execution_count": null,
   "id": "c96c07cb-67cf-4c1e-86c2-9258f7cabde6",
   "metadata": {
    "tags": []
   },
   "outputs": [],
   "source": [
    "\n",
    "\n",
    "runner.run()"
   ]
  },
  {
   "cell_type": "code",
   "execution_count": null,
   "id": "fd9d8084",
   "metadata": {},
   "outputs": [],
   "source": [
    "datalist['training'][48]"
   ]
  },
  {
   "cell_type": "code",
   "execution_count": 29,
   "id": "5340f6e5",
   "metadata": {},
   "outputs": [],
   "source": [
    "scan_path = \"/mnt/t/Data/3Tpioneer_bids/sub-ms1001/ses-20170215/proc/lesion_index.t3m20-mni_reg.nii.gz\"\n",
    "img = nib.load(scan_path)\n"
   ]
  }
 ],
 "metadata": {
  "kernelspec": {
   "display_name": "monai",
   "language": "python",
   "name": "python3"
  },
  "language_info": {
   "codemirror_mode": {
    "name": "ipython",
    "version": 3
   },
   "file_extension": ".py",
   "mimetype": "text/x-python",
   "name": "python",
   "nbconvert_exporter": "python",
   "pygments_lexer": "ipython3",
   "version": "3.12.7"
  }
 },
 "nbformat": 4,
 "nbformat_minor": 5
}
