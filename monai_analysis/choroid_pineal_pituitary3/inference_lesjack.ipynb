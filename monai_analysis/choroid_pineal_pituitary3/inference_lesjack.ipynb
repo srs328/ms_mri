{
 "cells": [
  {
   "cell_type": "code",
   "execution_count": 48,
   "metadata": {},
   "outputs": [],
   "source": [
    "from reload_recursive import reload_recursive\n",
    "import mri_data\n",
    "import monai_training\n",
    "\n",
    "import os\n",
    "import re\n",
    "import shutil\n",
    "import json\n",
    "from pathlib import Path\n",
    "from loguru import logger\n",
    "import platform\n",
    "from monai.apps.auto3dseg import (\n",
    "    AlgoEnsembleBestN,\n",
    "    AlgoEnsembleBuilder,\n",
    "    import_bundle_algo_history,\n",
    ")\n",
    "from monai.utils.enums import AlgoKeys"
   ]
  },
  {
   "cell_type": "code",
   "execution_count": 29,
   "metadata": {},
   "outputs": [],
   "source": [
    "reload_recursive(mri_data)\n",
    "reload_recursive(monai_training)\n",
    "from mri_data.file_manager import scan_lesjak, DataSet, filter_first_ses  # noqa: E402, F401\n",
    "from monai_training import preprocess  # noqa: E402"
   ]
  },
  {
   "cell_type": "code",
   "execution_count": 16,
   "metadata": {},
   "outputs": [],
   "source": [
    "dataroot = Path(\"/media/srs-9/Data/lesjak_2017/data\")\n",
    "#! Set these variables\n",
    "work_dir_name = \"choroid_pineal_pituitary2\"\n",
    "train_dataset_file_name = \"training-dataset.json\"\n",
    "prediction_postfix = \"choroid_pineal_pituitary2_pred\"\n",
    "task_name = \"infer_choroid_pineal_pituitary\"\n",
    "modalities = [\"flair\", \"t1\"]"
   ]
  },
  {
   "cell_type": "code",
   "execution_count": 9,
   "metadata": {},
   "outputs": [
    {
     "name": "stdout",
     "output_type": "stream",
     "text": [
      "flair.t1_choroid_pineal_pituitary2_pred.nii.gz\n"
     ]
    }
   ],
   "source": [
    "hostname = platform.node()\n",
    "if hostname == \"rhinocampus\" or hostname == \"ryzen9\":\n",
    "    drive_root = Path(\"/media/smbshare\")\n",
    "else:\n",
    "    drive_root = Path(\"/mnt/h\")\n",
    "\n",
    "projects_root = Path(\"/home/srs-9/Projects\")\n",
    "\n",
    "msmri_home = projects_root / \"ms_mri\"\n",
    "training_work_dirs = msmri_home / \"training_work_dirs\"\n",
    "\n",
    "work_dir = training_work_dirs / work_dir_name\n",
    "train_dataset_file = work_dir / train_dataset_file_name\n",
    "save_dir = Path(\"/media/srs-9/Data/lesjak_2017_predictions\")\n",
    "\n",
    "prediction_filename = (\n",
    "    \".\".join(sorted(modalities)) + \"_\" + prediction_postfix + \".nii.gz\"\n",
    ")\n",
    "print(prediction_filename)\n",
    "\n",
    "taskfile_name = \"inference-task.json\""
   ]
  },
  {
   "cell_type": "code",
   "execution_count": 47,
   "metadata": {},
   "outputs": [
    {
     "name": "stderr",
     "output_type": "stream",
     "text": [
      "\u001b[32m2024-11-18 15:21:39.203\u001b[0m | \u001b[1mINFO    \u001b[0m | \u001b[36mmonai_training.preprocess\u001b[0m:\u001b[36mprepare_images\u001b[0m:\u001b[36m107\u001b[0m - \u001b[1mPrepare Images\u001b[0m\n",
      "  0%|          | 0/30 [00:00<?, ?it/s]\u001b[32m2024-11-18 15:21:39.203\u001b[0m | \u001b[1mINFO    \u001b[0m | \u001b[36mmri_data.utils\u001b[0m:\u001b[36mmerge_images\u001b[0m:\u001b[36m29\u001b[0m - \u001b[1mfslmerge -a /media/srs-9/Data/lesjak_2017/data/patient01/FLAIR.T1W.nii.gz /media/srs-9/Data/lesjak_2017/data/patient01/FLAIR.nii.gz /media/srs-9/Data/lesjak_2017/data/patient01/T1W.nii.gz\u001b[0m\n",
      "\u001b[32m2024-11-18 15:21:43.732\u001b[0m | \u001b[32m\u001b[1mSUCCESS \u001b[0m | \u001b[36mmonai_training.preprocess\u001b[0m:\u001b[36mlog\u001b[0m:\u001b[36m22\u001b[0m - \u001b[32m\u001b[1mSaved /media/srs-9/Data/lesjak_2017/data/patient01/FLAIR.T1W.nii.gz\u001b[0m\n",
      "  3%|▎         | 1/30 [00:04<02:11,  4.53s/it]\u001b[32m2024-11-18 15:21:43.733\u001b[0m | \u001b[1mINFO    \u001b[0m | \u001b[36mmri_data.utils\u001b[0m:\u001b[36mmerge_images\u001b[0m:\u001b[36m29\u001b[0m - \u001b[1mfslmerge -a /media/srs-9/Data/lesjak_2017/data/patient02/FLAIR.T1W.nii.gz /media/srs-9/Data/lesjak_2017/data/patient02/FLAIR.nii.gz /media/srs-9/Data/lesjak_2017/data/patient02/T1W.nii.gz\u001b[0m\n",
      "\u001b[32m2024-11-18 15:21:48.429\u001b[0m | \u001b[32m\u001b[1mSUCCESS \u001b[0m | \u001b[36mmonai_training.preprocess\u001b[0m:\u001b[36mlog\u001b[0m:\u001b[36m22\u001b[0m - \u001b[32m\u001b[1mSaved /media/srs-9/Data/lesjak_2017/data/patient02/FLAIR.T1W.nii.gz\u001b[0m\n",
      "  7%|▋         | 2/30 [00:09<02:09,  4.63s/it]\u001b[32m2024-11-18 15:21:48.430\u001b[0m | \u001b[1mINFO    \u001b[0m | \u001b[36mmri_data.utils\u001b[0m:\u001b[36mmerge_images\u001b[0m:\u001b[36m29\u001b[0m - \u001b[1mfslmerge -a /media/srs-9/Data/lesjak_2017/data/patient03/FLAIR.T1W.nii.gz /media/srs-9/Data/lesjak_2017/data/patient03/FLAIR.nii.gz /media/srs-9/Data/lesjak_2017/data/patient03/T1W.nii.gz\u001b[0m\n",
      "\u001b[32m2024-11-18 15:21:53.111\u001b[0m | \u001b[32m\u001b[1mSUCCESS \u001b[0m | \u001b[36mmonai_training.preprocess\u001b[0m:\u001b[36mlog\u001b[0m:\u001b[36m22\u001b[0m - \u001b[32m\u001b[1mSaved /media/srs-9/Data/lesjak_2017/data/patient03/FLAIR.T1W.nii.gz\u001b[0m\n",
      " 10%|█         | 3/30 [00:13<02:05,  4.65s/it]\u001b[32m2024-11-18 15:21:53.112\u001b[0m | \u001b[1mINFO    \u001b[0m | \u001b[36mmri_data.utils\u001b[0m:\u001b[36mmerge_images\u001b[0m:\u001b[36m29\u001b[0m - \u001b[1mfslmerge -a /media/srs-9/Data/lesjak_2017/data/patient04/FLAIR.T1W.nii.gz /media/srs-9/Data/lesjak_2017/data/patient04/FLAIR.nii.gz /media/srs-9/Data/lesjak_2017/data/patient04/T1W.nii.gz\u001b[0m\n",
      "\u001b[32m2024-11-18 15:21:58.828\u001b[0m | \u001b[32m\u001b[1mSUCCESS \u001b[0m | \u001b[36mmonai_training.preprocess\u001b[0m:\u001b[36mlog\u001b[0m:\u001b[36m22\u001b[0m - \u001b[32m\u001b[1mSaved /media/srs-9/Data/lesjak_2017/data/patient04/FLAIR.T1W.nii.gz\u001b[0m\n",
      " 13%|█▎        | 4/30 [00:19<02:11,  5.07s/it]\u001b[32m2024-11-18 15:21:58.829\u001b[0m | \u001b[1mINFO    \u001b[0m | \u001b[36mmri_data.utils\u001b[0m:\u001b[36mmerge_images\u001b[0m:\u001b[36m29\u001b[0m - \u001b[1mfslmerge -a /media/srs-9/Data/lesjak_2017/data/patient05/FLAIR.T1W.nii.gz /media/srs-9/Data/lesjak_2017/data/patient05/FLAIR.nii.gz /media/srs-9/Data/lesjak_2017/data/patient05/T1W.nii.gz\u001b[0m\n",
      "\u001b[32m2024-11-18 15:22:03.939\u001b[0m | \u001b[32m\u001b[1mSUCCESS \u001b[0m | \u001b[36mmonai_training.preprocess\u001b[0m:\u001b[36mlog\u001b[0m:\u001b[36m22\u001b[0m - \u001b[32m\u001b[1mSaved /media/srs-9/Data/lesjak_2017/data/patient05/FLAIR.T1W.nii.gz\u001b[0m\n",
      " 17%|█▋        | 5/30 [00:24<02:07,  5.09s/it]\u001b[32m2024-11-18 15:22:03.940\u001b[0m | \u001b[1mINFO    \u001b[0m | \u001b[36mmri_data.utils\u001b[0m:\u001b[36mmerge_images\u001b[0m:\u001b[36m29\u001b[0m - \u001b[1mfslmerge -a /media/srs-9/Data/lesjak_2017/data/patient06/FLAIR.T1W.nii.gz /media/srs-9/Data/lesjak_2017/data/patient06/FLAIR.nii.gz /media/srs-9/Data/lesjak_2017/data/patient06/T1W.nii.gz\u001b[0m\n",
      "\u001b[32m2024-11-18 15:22:09.140\u001b[0m | \u001b[32m\u001b[1mSUCCESS \u001b[0m | \u001b[36mmonai_training.preprocess\u001b[0m:\u001b[36mlog\u001b[0m:\u001b[36m22\u001b[0m - \u001b[32m\u001b[1mSaved /media/srs-9/Data/lesjak_2017/data/patient06/FLAIR.T1W.nii.gz\u001b[0m\n",
      " 20%|██        | 6/30 [00:29<02:03,  5.13s/it]\u001b[32m2024-11-18 15:22:09.141\u001b[0m | \u001b[1mINFO    \u001b[0m | \u001b[36mmri_data.utils\u001b[0m:\u001b[36mmerge_images\u001b[0m:\u001b[36m29\u001b[0m - \u001b[1mfslmerge -a /media/srs-9/Data/lesjak_2017/data/patient07/FLAIR.T1W.nii.gz /media/srs-9/Data/lesjak_2017/data/patient07/FLAIR.nii.gz /media/srs-9/Data/lesjak_2017/data/patient07/T1W.nii.gz\u001b[0m\n",
      "\u001b[32m2024-11-18 15:22:13.819\u001b[0m | \u001b[32m\u001b[1mSUCCESS \u001b[0m | \u001b[36mmonai_training.preprocess\u001b[0m:\u001b[36mlog\u001b[0m:\u001b[36m22\u001b[0m - \u001b[32m\u001b[1mSaved /media/srs-9/Data/lesjak_2017/data/patient07/FLAIR.T1W.nii.gz\u001b[0m\n",
      " 23%|██▎       | 7/30 [00:34<01:54,  4.98s/it]\u001b[32m2024-11-18 15:22:13.819\u001b[0m | \u001b[1mINFO    \u001b[0m | \u001b[36mmri_data.utils\u001b[0m:\u001b[36mmerge_images\u001b[0m:\u001b[36m29\u001b[0m - \u001b[1mfslmerge -a /media/srs-9/Data/lesjak_2017/data/patient08/FLAIR.T1W.nii.gz /media/srs-9/Data/lesjak_2017/data/patient08/FLAIR.nii.gz /media/srs-9/Data/lesjak_2017/data/patient08/T1W.nii.gz\u001b[0m\n",
      "\u001b[32m2024-11-18 15:22:18.923\u001b[0m | \u001b[32m\u001b[1mSUCCESS \u001b[0m | \u001b[36mmonai_training.preprocess\u001b[0m:\u001b[36mlog\u001b[0m:\u001b[36m22\u001b[0m - \u001b[32m\u001b[1mSaved /media/srs-9/Data/lesjak_2017/data/patient08/FLAIR.T1W.nii.gz\u001b[0m\n",
      " 27%|██▋       | 8/30 [00:39<01:50,  5.02s/it]\u001b[32m2024-11-18 15:22:18.924\u001b[0m | \u001b[1mINFO    \u001b[0m | \u001b[36mmri_data.utils\u001b[0m:\u001b[36mmerge_images\u001b[0m:\u001b[36m29\u001b[0m - \u001b[1mfslmerge -a /media/srs-9/Data/lesjak_2017/data/patient09/FLAIR.T1W.nii.gz /media/srs-9/Data/lesjak_2017/data/patient09/FLAIR.nii.gz /media/srs-9/Data/lesjak_2017/data/patient09/T1W.nii.gz\u001b[0m\n",
      "\u001b[32m2024-11-18 15:22:23.842\u001b[0m | \u001b[32m\u001b[1mSUCCESS \u001b[0m | \u001b[36mmonai_training.preprocess\u001b[0m:\u001b[36mlog\u001b[0m:\u001b[36m22\u001b[0m - \u001b[32m\u001b[1mSaved /media/srs-9/Data/lesjak_2017/data/patient09/FLAIR.T1W.nii.gz\u001b[0m\n",
      " 30%|███       | 9/30 [00:44<01:44,  4.99s/it]\u001b[32m2024-11-18 15:22:23.843\u001b[0m | \u001b[1mINFO    \u001b[0m | \u001b[36mmri_data.utils\u001b[0m:\u001b[36mmerge_images\u001b[0m:\u001b[36m29\u001b[0m - \u001b[1mfslmerge -a /media/srs-9/Data/lesjak_2017/data/patient10/FLAIR.T1W.nii.gz /media/srs-9/Data/lesjak_2017/data/patient10/FLAIR.nii.gz /media/srs-9/Data/lesjak_2017/data/patient10/T1W.nii.gz\u001b[0m\n",
      "\u001b[32m2024-11-18 15:22:28.964\u001b[0m | \u001b[32m\u001b[1mSUCCESS \u001b[0m | \u001b[36mmonai_training.preprocess\u001b[0m:\u001b[36mlog\u001b[0m:\u001b[36m22\u001b[0m - \u001b[32m\u001b[1mSaved /media/srs-9/Data/lesjak_2017/data/patient10/FLAIR.T1W.nii.gz\u001b[0m\n",
      " 33%|███▎      | 10/30 [00:49<01:40,  5.03s/it]\u001b[32m2024-11-18 15:22:28.964\u001b[0m | \u001b[1mINFO    \u001b[0m | \u001b[36mmri_data.utils\u001b[0m:\u001b[36mmerge_images\u001b[0m:\u001b[36m29\u001b[0m - \u001b[1mfslmerge -a /media/srs-9/Data/lesjak_2017/data/patient11/FLAIR.T1W.nii.gz /media/srs-9/Data/lesjak_2017/data/patient11/FLAIR.nii.gz /media/srs-9/Data/lesjak_2017/data/patient11/T1W.nii.gz\u001b[0m\n",
      "\u001b[32m2024-11-18 15:22:33.787\u001b[0m | \u001b[32m\u001b[1mSUCCESS \u001b[0m | \u001b[36mmonai_training.preprocess\u001b[0m:\u001b[36mlog\u001b[0m:\u001b[36m22\u001b[0m - \u001b[32m\u001b[1mSaved /media/srs-9/Data/lesjak_2017/data/patient11/FLAIR.T1W.nii.gz\u001b[0m\n",
      " 37%|███▋      | 11/30 [00:54<01:34,  4.97s/it]\u001b[32m2024-11-18 15:22:33.787\u001b[0m | \u001b[1mINFO    \u001b[0m | \u001b[36mmri_data.utils\u001b[0m:\u001b[36mmerge_images\u001b[0m:\u001b[36m29\u001b[0m - \u001b[1mfslmerge -a /media/srs-9/Data/lesjak_2017/data/patient12/FLAIR.T1W.nii.gz /media/srs-9/Data/lesjak_2017/data/patient12/FLAIR.nii.gz /media/srs-9/Data/lesjak_2017/data/patient12/T1W.nii.gz\u001b[0m\n",
      "\u001b[32m2024-11-18 15:22:39.084\u001b[0m | \u001b[32m\u001b[1mSUCCESS \u001b[0m | \u001b[36mmonai_training.preprocess\u001b[0m:\u001b[36mlog\u001b[0m:\u001b[36m22\u001b[0m - \u001b[32m\u001b[1mSaved /media/srs-9/Data/lesjak_2017/data/patient12/FLAIR.T1W.nii.gz\u001b[0m\n",
      " 40%|████      | 12/30 [00:59<01:31,  5.07s/it]\u001b[32m2024-11-18 15:22:39.085\u001b[0m | \u001b[1mINFO    \u001b[0m | \u001b[36mmri_data.utils\u001b[0m:\u001b[36mmerge_images\u001b[0m:\u001b[36m29\u001b[0m - \u001b[1mfslmerge -a /media/srs-9/Data/lesjak_2017/data/patient13/FLAIR.T1W.nii.gz /media/srs-9/Data/lesjak_2017/data/patient13/FLAIR.nii.gz /media/srs-9/Data/lesjak_2017/data/patient13/T1W.nii.gz\u001b[0m\n",
      "\u001b[32m2024-11-18 15:22:44.017\u001b[0m | \u001b[32m\u001b[1mSUCCESS \u001b[0m | \u001b[36mmonai_training.preprocess\u001b[0m:\u001b[36mlog\u001b[0m:\u001b[36m22\u001b[0m - \u001b[32m\u001b[1mSaved /media/srs-9/Data/lesjak_2017/data/patient13/FLAIR.T1W.nii.gz\u001b[0m\n",
      " 43%|████▎     | 13/30 [01:04<01:25,  5.03s/it]\u001b[32m2024-11-18 15:22:44.018\u001b[0m | \u001b[1mINFO    \u001b[0m | \u001b[36mmri_data.utils\u001b[0m:\u001b[36mmerge_images\u001b[0m:\u001b[36m29\u001b[0m - \u001b[1mfslmerge -a /media/srs-9/Data/lesjak_2017/data/patient14/FLAIR.T1W.nii.gz /media/srs-9/Data/lesjak_2017/data/patient14/FLAIR.nii.gz /media/srs-9/Data/lesjak_2017/data/patient14/T1W.nii.gz\u001b[0m\n",
      "\u001b[32m2024-11-18 15:22:49.177\u001b[0m | \u001b[32m\u001b[1mSUCCESS \u001b[0m | \u001b[36mmonai_training.preprocess\u001b[0m:\u001b[36mlog\u001b[0m:\u001b[36m22\u001b[0m - \u001b[32m\u001b[1mSaved /media/srs-9/Data/lesjak_2017/data/patient14/FLAIR.T1W.nii.gz\u001b[0m\n",
      " 47%|████▋     | 14/30 [01:09<01:21,  5.07s/it]\u001b[32m2024-11-18 15:22:49.178\u001b[0m | \u001b[1mINFO    \u001b[0m | \u001b[36mmri_data.utils\u001b[0m:\u001b[36mmerge_images\u001b[0m:\u001b[36m29\u001b[0m - \u001b[1mfslmerge -a /media/srs-9/Data/lesjak_2017/data/patient15/FLAIR.T1W.nii.gz /media/srs-9/Data/lesjak_2017/data/patient15/FLAIR.nii.gz /media/srs-9/Data/lesjak_2017/data/patient15/T1W.nii.gz\u001b[0m\n",
      "\u001b[32m2024-11-18 15:22:54.089\u001b[0m | \u001b[32m\u001b[1mSUCCESS \u001b[0m | \u001b[36mmonai_training.preprocess\u001b[0m:\u001b[36mlog\u001b[0m:\u001b[36m22\u001b[0m - \u001b[32m\u001b[1mSaved /media/srs-9/Data/lesjak_2017/data/patient15/FLAIR.T1W.nii.gz\u001b[0m\n",
      " 50%|█████     | 15/30 [01:14<01:15,  5.02s/it]\u001b[32m2024-11-18 15:22:54.090\u001b[0m | \u001b[1mINFO    \u001b[0m | \u001b[36mmri_data.utils\u001b[0m:\u001b[36mmerge_images\u001b[0m:\u001b[36m29\u001b[0m - \u001b[1mfslmerge -a /media/srs-9/Data/lesjak_2017/data/patient16/FLAIR.T1W.nii.gz /media/srs-9/Data/lesjak_2017/data/patient16/FLAIR.nii.gz /media/srs-9/Data/lesjak_2017/data/patient16/T1W.nii.gz\u001b[0m\n",
      "\u001b[32m2024-11-18 15:22:58.936\u001b[0m | \u001b[32m\u001b[1mSUCCESS \u001b[0m | \u001b[36mmonai_training.preprocess\u001b[0m:\u001b[36mlog\u001b[0m:\u001b[36m22\u001b[0m - \u001b[32m\u001b[1mSaved /media/srs-9/Data/lesjak_2017/data/patient16/FLAIR.T1W.nii.gz\u001b[0m\n",
      " 53%|█████▎    | 16/30 [01:19<01:09,  4.97s/it]\u001b[32m2024-11-18 15:22:58.937\u001b[0m | \u001b[1mINFO    \u001b[0m | \u001b[36mmri_data.utils\u001b[0m:\u001b[36mmerge_images\u001b[0m:\u001b[36m29\u001b[0m - \u001b[1mfslmerge -a /media/srs-9/Data/lesjak_2017/data/patient17/FLAIR.T1W.nii.gz /media/srs-9/Data/lesjak_2017/data/patient17/FLAIR.nii.gz /media/srs-9/Data/lesjak_2017/data/patient17/T1W.nii.gz\u001b[0m\n",
      "\u001b[32m2024-11-18 15:23:04.103\u001b[0m | \u001b[32m\u001b[1mSUCCESS \u001b[0m | \u001b[36mmonai_training.preprocess\u001b[0m:\u001b[36mlog\u001b[0m:\u001b[36m22\u001b[0m - \u001b[32m\u001b[1mSaved /media/srs-9/Data/lesjak_2017/data/patient17/FLAIR.T1W.nii.gz\u001b[0m\n",
      " 57%|█████▋    | 17/30 [01:24<01:05,  5.03s/it]\u001b[32m2024-11-18 15:23:04.104\u001b[0m | \u001b[1mINFO    \u001b[0m | \u001b[36mmri_data.utils\u001b[0m:\u001b[36mmerge_images\u001b[0m:\u001b[36m29\u001b[0m - \u001b[1mfslmerge -a /media/srs-9/Data/lesjak_2017/data/patient18/FLAIR.T1W.nii.gz /media/srs-9/Data/lesjak_2017/data/patient18/FLAIR.nii.gz /media/srs-9/Data/lesjak_2017/data/patient18/T1W.nii.gz\u001b[0m\n",
      "\u001b[32m2024-11-18 15:23:08.838\u001b[0m | \u001b[32m\u001b[1mSUCCESS \u001b[0m | \u001b[36mmonai_training.preprocess\u001b[0m:\u001b[36mlog\u001b[0m:\u001b[36m22\u001b[0m - \u001b[32m\u001b[1mSaved /media/srs-9/Data/lesjak_2017/data/patient18/FLAIR.T1W.nii.gz\u001b[0m\n",
      " 60%|██████    | 18/30 [01:29<00:59,  4.94s/it]\u001b[32m2024-11-18 15:23:08.839\u001b[0m | \u001b[1mINFO    \u001b[0m | \u001b[36mmri_data.utils\u001b[0m:\u001b[36mmerge_images\u001b[0m:\u001b[36m29\u001b[0m - \u001b[1mfslmerge -a /media/srs-9/Data/lesjak_2017/data/patient19/FLAIR.T1W.nii.gz /media/srs-9/Data/lesjak_2017/data/patient19/FLAIR.nii.gz /media/srs-9/Data/lesjak_2017/data/patient19/T1W.nii.gz\u001b[0m\n",
      "\u001b[32m2024-11-18 15:23:13.498\u001b[0m | \u001b[32m\u001b[1mSUCCESS \u001b[0m | \u001b[36mmonai_training.preprocess\u001b[0m:\u001b[36mlog\u001b[0m:\u001b[36m22\u001b[0m - \u001b[32m\u001b[1mSaved /media/srs-9/Data/lesjak_2017/data/patient19/FLAIR.T1W.nii.gz\u001b[0m\n",
      " 63%|██████▎   | 19/30 [01:34<00:53,  4.86s/it]\u001b[32m2024-11-18 15:23:13.499\u001b[0m | \u001b[1mINFO    \u001b[0m | \u001b[36mmri_data.utils\u001b[0m:\u001b[36mmerge_images\u001b[0m:\u001b[36m29\u001b[0m - \u001b[1mfslmerge -a /media/srs-9/Data/lesjak_2017/data/patient20/FLAIR.T1W.nii.gz /media/srs-9/Data/lesjak_2017/data/patient20/FLAIR.nii.gz /media/srs-9/Data/lesjak_2017/data/patient20/T1W.nii.gz\u001b[0m\n",
      "\u001b[32m2024-11-18 15:23:18.264\u001b[0m | \u001b[32m\u001b[1mSUCCESS \u001b[0m | \u001b[36mmonai_training.preprocess\u001b[0m:\u001b[36mlog\u001b[0m:\u001b[36m22\u001b[0m - \u001b[32m\u001b[1mSaved /media/srs-9/Data/lesjak_2017/data/patient20/FLAIR.T1W.nii.gz\u001b[0m\n",
      " 67%|██████▋   | 20/30 [01:39<00:48,  4.83s/it]\u001b[32m2024-11-18 15:23:18.265\u001b[0m | \u001b[1mINFO    \u001b[0m | \u001b[36mmri_data.utils\u001b[0m:\u001b[36mmerge_images\u001b[0m:\u001b[36m29\u001b[0m - \u001b[1mfslmerge -a /media/srs-9/Data/lesjak_2017/data/patient21/FLAIR.T1W.nii.gz /media/srs-9/Data/lesjak_2017/data/patient21/FLAIR.nii.gz /media/srs-9/Data/lesjak_2017/data/patient21/T1W.nii.gz\u001b[0m\n",
      "\u001b[32m2024-11-18 15:23:23.248\u001b[0m | \u001b[32m\u001b[1mSUCCESS \u001b[0m | \u001b[36mmonai_training.preprocess\u001b[0m:\u001b[36mlog\u001b[0m:\u001b[36m22\u001b[0m - \u001b[32m\u001b[1mSaved /media/srs-9/Data/lesjak_2017/data/patient21/FLAIR.T1W.nii.gz\u001b[0m\n",
      " 70%|███████   | 21/30 [01:44<00:43,  4.88s/it]\u001b[32m2024-11-18 15:23:23.249\u001b[0m | \u001b[1mINFO    \u001b[0m | \u001b[36mmri_data.utils\u001b[0m:\u001b[36mmerge_images\u001b[0m:\u001b[36m29\u001b[0m - \u001b[1mfslmerge -a /media/srs-9/Data/lesjak_2017/data/patient22/FLAIR.T1W.nii.gz /media/srs-9/Data/lesjak_2017/data/patient22/FLAIR.nii.gz /media/srs-9/Data/lesjak_2017/data/patient22/T1W.nii.gz\u001b[0m\n",
      "\u001b[32m2024-11-18 15:23:28.076\u001b[0m | \u001b[32m\u001b[1mSUCCESS \u001b[0m | \u001b[36mmonai_training.preprocess\u001b[0m:\u001b[36mlog\u001b[0m:\u001b[36m22\u001b[0m - \u001b[32m\u001b[1mSaved /media/srs-9/Data/lesjak_2017/data/patient22/FLAIR.T1W.nii.gz\u001b[0m\n",
      " 73%|███████▎  | 22/30 [01:48<00:38,  4.86s/it]\u001b[32m2024-11-18 15:23:28.077\u001b[0m | \u001b[1mINFO    \u001b[0m | \u001b[36mmri_data.utils\u001b[0m:\u001b[36mmerge_images\u001b[0m:\u001b[36m29\u001b[0m - \u001b[1mfslmerge -a /media/srs-9/Data/lesjak_2017/data/patient23/FLAIR.T1W.nii.gz /media/srs-9/Data/lesjak_2017/data/patient23/FLAIR.nii.gz /media/srs-9/Data/lesjak_2017/data/patient23/T1W.nii.gz\u001b[0m\n",
      "\u001b[32m2024-11-18 15:23:33.377\u001b[0m | \u001b[32m\u001b[1mSUCCESS \u001b[0m | \u001b[36mmonai_training.preprocess\u001b[0m:\u001b[36mlog\u001b[0m:\u001b[36m22\u001b[0m - \u001b[32m\u001b[1mSaved /media/srs-9/Data/lesjak_2017/data/patient23/FLAIR.T1W.nii.gz\u001b[0m\n",
      " 77%|███████▋  | 23/30 [01:54<00:34,  4.99s/it]\u001b[32m2024-11-18 15:23:33.378\u001b[0m | \u001b[1mINFO    \u001b[0m | \u001b[36mmri_data.utils\u001b[0m:\u001b[36mmerge_images\u001b[0m:\u001b[36m29\u001b[0m - \u001b[1mfslmerge -a /media/srs-9/Data/lesjak_2017/data/patient24/FLAIR.T1W.nii.gz /media/srs-9/Data/lesjak_2017/data/patient24/FLAIR.nii.gz /media/srs-9/Data/lesjak_2017/data/patient24/T1W.nii.gz\u001b[0m\n",
      "\u001b[32m2024-11-18 15:23:38.728\u001b[0m | \u001b[32m\u001b[1mSUCCESS \u001b[0m | \u001b[36mmonai_training.preprocess\u001b[0m:\u001b[36mlog\u001b[0m:\u001b[36m22\u001b[0m - \u001b[32m\u001b[1mSaved /media/srs-9/Data/lesjak_2017/data/patient24/FLAIR.T1W.nii.gz\u001b[0m\n",
      " 80%|████████  | 24/30 [01:59<00:30,  5.10s/it]\u001b[32m2024-11-18 15:23:38.729\u001b[0m | \u001b[1mINFO    \u001b[0m | \u001b[36mmri_data.utils\u001b[0m:\u001b[36mmerge_images\u001b[0m:\u001b[36m29\u001b[0m - \u001b[1mfslmerge -a /media/srs-9/Data/lesjak_2017/data/patient25/FLAIR.T1W.nii.gz /media/srs-9/Data/lesjak_2017/data/patient25/FLAIR.nii.gz /media/srs-9/Data/lesjak_2017/data/patient25/T1W.nii.gz\u001b[0m\n",
      "\u001b[32m2024-11-18 15:23:43.569\u001b[0m | \u001b[32m\u001b[1mSUCCESS \u001b[0m | \u001b[36mmonai_training.preprocess\u001b[0m:\u001b[36mlog\u001b[0m:\u001b[36m22\u001b[0m - \u001b[32m\u001b[1mSaved /media/srs-9/Data/lesjak_2017/data/patient25/FLAIR.T1W.nii.gz\u001b[0m\n",
      " 83%|████████▎ | 25/30 [02:04<00:25,  5.02s/it]\u001b[32m2024-11-18 15:23:43.570\u001b[0m | \u001b[1mINFO    \u001b[0m | \u001b[36mmri_data.utils\u001b[0m:\u001b[36mmerge_images\u001b[0m:\u001b[36m29\u001b[0m - \u001b[1mfslmerge -a /media/srs-9/Data/lesjak_2017/data/patient26/FLAIR.T1W.nii.gz /media/srs-9/Data/lesjak_2017/data/patient26/FLAIR.nii.gz /media/srs-9/Data/lesjak_2017/data/patient26/T1W.nii.gz\u001b[0m\n",
      "\u001b[32m2024-11-18 15:23:48.083\u001b[0m | \u001b[32m\u001b[1mSUCCESS \u001b[0m | \u001b[36mmonai_training.preprocess\u001b[0m:\u001b[36mlog\u001b[0m:\u001b[36m22\u001b[0m - \u001b[32m\u001b[1mSaved /media/srs-9/Data/lesjak_2017/data/patient26/FLAIR.T1W.nii.gz\u001b[0m\n",
      " 87%|████████▋ | 26/30 [02:08<00:19,  4.87s/it]\u001b[32m2024-11-18 15:23:48.084\u001b[0m | \u001b[1mINFO    \u001b[0m | \u001b[36mmri_data.utils\u001b[0m:\u001b[36mmerge_images\u001b[0m:\u001b[36m29\u001b[0m - \u001b[1mfslmerge -a /media/srs-9/Data/lesjak_2017/data/patient27/FLAIR.T1W.nii.gz /media/srs-9/Data/lesjak_2017/data/patient27/FLAIR.nii.gz /media/srs-9/Data/lesjak_2017/data/patient27/T1W.nii.gz\u001b[0m\n",
      "\u001b[32m2024-11-18 15:23:53.264\u001b[0m | \u001b[32m\u001b[1mSUCCESS \u001b[0m | \u001b[36mmonai_training.preprocess\u001b[0m:\u001b[36mlog\u001b[0m:\u001b[36m22\u001b[0m - \u001b[32m\u001b[1mSaved /media/srs-9/Data/lesjak_2017/data/patient27/FLAIR.T1W.nii.gz\u001b[0m\n",
      " 90%|█████████ | 27/30 [02:14<00:14,  4.96s/it]\u001b[32m2024-11-18 15:23:53.265\u001b[0m | \u001b[1mINFO    \u001b[0m | \u001b[36mmri_data.utils\u001b[0m:\u001b[36mmerge_images\u001b[0m:\u001b[36m29\u001b[0m - \u001b[1mfslmerge -a /media/srs-9/Data/lesjak_2017/data/patient28/FLAIR.T1W.nii.gz /media/srs-9/Data/lesjak_2017/data/patient28/FLAIR.nii.gz /media/srs-9/Data/lesjak_2017/data/patient28/T1W.nii.gz\u001b[0m\n",
      "\u001b[32m2024-11-18 15:23:58.358\u001b[0m | \u001b[32m\u001b[1mSUCCESS \u001b[0m | \u001b[36mmonai_training.preprocess\u001b[0m:\u001b[36mlog\u001b[0m:\u001b[36m22\u001b[0m - \u001b[32m\u001b[1mSaved /media/srs-9/Data/lesjak_2017/data/patient28/FLAIR.T1W.nii.gz\u001b[0m\n",
      " 93%|█████████▎| 28/30 [02:19<00:10,  5.00s/it]\u001b[32m2024-11-18 15:23:58.359\u001b[0m | \u001b[1mINFO    \u001b[0m | \u001b[36mmri_data.utils\u001b[0m:\u001b[36mmerge_images\u001b[0m:\u001b[36m29\u001b[0m - \u001b[1mfslmerge -a /media/srs-9/Data/lesjak_2017/data/patient29/FLAIR.T1W.nii.gz /media/srs-9/Data/lesjak_2017/data/patient29/FLAIR.nii.gz /media/srs-9/Data/lesjak_2017/data/patient29/T1W.nii.gz\u001b[0m\n",
      "\u001b[32m2024-11-18 15:24:03.362\u001b[0m | \u001b[32m\u001b[1mSUCCESS \u001b[0m | \u001b[36mmonai_training.preprocess\u001b[0m:\u001b[36mlog\u001b[0m:\u001b[36m22\u001b[0m - \u001b[32m\u001b[1mSaved /media/srs-9/Data/lesjak_2017/data/patient29/FLAIR.T1W.nii.gz\u001b[0m\n",
      " 97%|█████████▋| 29/30 [02:24<00:05,  5.00s/it]\u001b[32m2024-11-18 15:24:03.363\u001b[0m | \u001b[1mINFO    \u001b[0m | \u001b[36mmri_data.utils\u001b[0m:\u001b[36mmerge_images\u001b[0m:\u001b[36m29\u001b[0m - \u001b[1mfslmerge -a /media/srs-9/Data/lesjak_2017/data/patient30/FLAIR.T1W.nii.gz /media/srs-9/Data/lesjak_2017/data/patient30/FLAIR.nii.gz /media/srs-9/Data/lesjak_2017/data/patient30/T1W.nii.gz\u001b[0m\n",
      "\u001b[32m2024-11-18 15:24:08.565\u001b[0m | \u001b[32m\u001b[1mSUCCESS \u001b[0m | \u001b[36mmonai_training.preprocess\u001b[0m:\u001b[36mlog\u001b[0m:\u001b[36m22\u001b[0m - \u001b[32m\u001b[1mSaved /media/srs-9/Data/lesjak_2017/data/patient30/FLAIR.T1W.nii.gz\u001b[0m\n",
      "100%|██████████| 30/30 [02:29<00:00,  4.98s/it]\n"
     ]
    }
   ],
   "source": [
    "dataset_proc = preprocess.DataSetProcesser.new_dataset(dataroot, scan_lesjak)\n",
    "dataset_proc.prepare_images([\"FLAIR\", \"T1W\"])"
   ]
  },
  {
   "cell_type": "code",
   "execution_count": 49,
   "metadata": {},
   "outputs": [
    {
     "name": "stderr",
     "output_type": "stream",
     "text": [
      "\u001b[32m2024-11-18 15:25:34.498\u001b[0m | \u001b[1mINFO    \u001b[0m | \u001b[36m__main__\u001b[0m:\u001b[36m<module>\u001b[0m:\u001b[36m6\u001b[0m - \u001b[1mWill run inference on 2 scans\u001b[0m\n"
     ]
    }
   ],
   "source": [
    "images = []\n",
    "for scan in dataset_proc.dataset[:2]:\n",
    "    infile: Path = scan.image_path\n",
    "    images.append({\"image\": str(infile.relative_to(dataset_proc.dataset.dataroot))})\n",
    "\n",
    "logger.info(f\"Will run inference on {len(images)} scans\")\n",
    "\n",
    "datalist = {\"testing\": images}\n",
    "\n",
    "datalist_file = work_dir / \"datalist.json\"\n",
    "with open(datalist_file, \"w\") as f:\n",
    "    json.dump(datalist, f, indent=4)\n",
    "\n",
    "task = {\n",
    "    \"name\": task_name,\n",
    "    \"task\": \"segmentation\",\n",
    "    \"modality\": \"MRI\",\n",
    "    \"datalist\": str(work_dir / \"datalist.json\"),\n",
    "    \"dataroot\": str(dataroot),\n",
    "}\n",
    "\n",
    "task_file = os.path.join(work_dir, taskfile_name)\n",
    "with open(task_file, \"w\") as f:\n",
    "    json.dump(task, f, indent=4)"
   ]
  },
  {
   "cell_type": "code",
   "execution_count": 50,
   "metadata": {},
   "outputs": [],
   "source": [
    "input_cfg = task_file  # path to the task input YAML file created by the users\n",
    "\n",
    "history = import_bundle_algo_history(work_dir, only_trained=True)"
   ]
  },
  {
   "cell_type": "code",
   "execution_count": 52,
   "metadata": {},
   "outputs": [
    {
     "name": "stderr",
     "output_type": "stream",
     "text": [
      "Ensembling (rank 0)...:   0%|          | 0/2 [00:00<?, ?it/s]monai.networks.nets.swin_unetr SwinUNETR.__init__:img_size: Argument `img_size` has been deprecated since version 1.3. It will be removed in version 1.5. The img_size argument is not required anymore and checks on the input size are run during forward().\n",
      "You are using `torch.load` with `weights_only=False` (the current default value), which uses the default pickle module implicitly. It is possible to construct malicious pickle data which will execute arbitrary code during unpickling (See https://github.com/pytorch/pytorch/blob/main/SECURITY.md#untrusted-models for more details). In a future release, the default value for `weights_only` will be flipped to `True`. This limits the functions that could be executed during unpickling. Arbitrary objects will no longer be allowed to be loaded via this mode unless they are explicitly allowlisted by the user via `torch.serialization.add_safe_globals`. We recommend you start setting `weights_only=True` for any use case where you don't have full control of the loaded file. Please open an issue on GitHub for any issues related to this experimental feature.\n",
      "`torch.cuda.amp.autocast(args...)` is deprecated. Please use `torch.amp.autocast('cuda', args...)` instead.\n",
      "You are using `torch.load` with `weights_only=False` (the current default value), which uses the default pickle module implicitly. It is possible to construct malicious pickle data which will execute arbitrary code during unpickling (See https://github.com/pytorch/pytorch/blob/main/SECURITY.md#untrusted-models for more details). In a future release, the default value for `weights_only` will be flipped to `True`. This limits the functions that could be executed during unpickling. Arbitrary objects will no longer be allowed to be loaded via this mode unless they are explicitly allowlisted by the user via `torch.serialization.add_safe_globals`. We recommend you start setting `weights_only=True` for any use case where you don't have full control of the loaded file. Please open an issue on GitHub for any issues related to this experimental feature.\n",
      "`torch.cuda.amp.autocast(args...)` is deprecated. Please use `torch.amp.autocast('cuda', args...)` instead.\n",
      "You are using `torch.load` with `weights_only=False` (the current default value), which uses the default pickle module implicitly. It is possible to construct malicious pickle data which will execute arbitrary code during unpickling (See https://github.com/pytorch/pytorch/blob/main/SECURITY.md#untrusted-models for more details). In a future release, the default value for `weights_only` will be flipped to `True`. This limits the functions that could be executed during unpickling. Arbitrary objects will no longer be allowed to be loaded via this mode unless they are explicitly allowlisted by the user via `torch.serialization.add_safe_globals`. We recommend you start setting `weights_only=True` for any use case where you don't have full control of the loaded file. Please open an issue on GitHub for any issues related to this experimental feature.\n",
      "`torch.cuda.amp.autocast(args...)` is deprecated. Please use `torch.amp.autocast('cuda', args...)` instead.\n",
      "You are using `torch.load` with `weights_only=False` (the current default value), which uses the default pickle module implicitly. It is possible to construct malicious pickle data which will execute arbitrary code during unpickling (See https://github.com/pytorch/pytorch/blob/main/SECURITY.md#untrusted-models for more details). In a future release, the default value for `weights_only` will be flipped to `True`. This limits the functions that could be executed during unpickling. Arbitrary objects will no longer be allowed to be loaded via this mode unless they are explicitly allowlisted by the user via `torch.serialization.add_safe_globals`. We recommend you start setting `weights_only=True` for any use case where you don't have full control of the loaded file. Please open an issue on GitHub for any issues related to this experimental feature.\n",
      "`torch.cuda.amp.autocast(args...)` is deprecated. Please use `torch.amp.autocast('cuda', args...)` instead.\n",
      "You are using `torch.load` with `weights_only=False` (the current default value), which uses the default pickle module implicitly. It is possible to construct malicious pickle data which will execute arbitrary code during unpickling (See https://github.com/pytorch/pytorch/blob/main/SECURITY.md#untrusted-models for more details). In a future release, the default value for `weights_only` will be flipped to `True`. This limits the functions that could be executed during unpickling. Arbitrary objects will no longer be allowed to be loaded via this mode unless they are explicitly allowlisted by the user via `torch.serialization.add_safe_globals`. We recommend you start setting `weights_only=True` for any use case where you don't have full control of the loaded file. Please open an issue on GitHub for any issues related to this experimental feature.\n",
      "`torch.cuda.amp.autocast(args...)` is deprecated. Please use `torch.amp.autocast('cuda', args...)` instead.\n"
     ]
    },
    {
     "name": "stdout",
     "output_type": "stream",
     "text": [
      "2024-11-18 15:27:36,725 INFO image_writer.py:197 - writing: /media/srs-9/Data/lesjak_2017_predictions/patient01/FLAIR.T1W_choroid_pineal_pituitary2_pred.nii.gz\n"
     ]
    },
    {
     "name": "stderr",
     "output_type": "stream",
     "text": [
      "Image save path not returned.\n",
      "Ensembling (rank 0)...:  50%|█████     | 1/2 [00:55<00:55, 55.79s/it]You are using `torch.load` with `weights_only=False` (the current default value), which uses the default pickle module implicitly. It is possible to construct malicious pickle data which will execute arbitrary code during unpickling (See https://github.com/pytorch/pytorch/blob/main/SECURITY.md#untrusted-models for more details). In a future release, the default value for `weights_only` will be flipped to `True`. This limits the functions that could be executed during unpickling. Arbitrary objects will no longer be allowed to be loaded via this mode unless they are explicitly allowlisted by the user via `torch.serialization.add_safe_globals`. We recommend you start setting `weights_only=True` for any use case where you don't have full control of the loaded file. Please open an issue on GitHub for any issues related to this experimental feature.\n",
      "`torch.cuda.amp.autocast(args...)` is deprecated. Please use `torch.amp.autocast('cuda', args...)` instead.\n",
      "You are using `torch.load` with `weights_only=False` (the current default value), which uses the default pickle module implicitly. It is possible to construct malicious pickle data which will execute arbitrary code during unpickling (See https://github.com/pytorch/pytorch/blob/main/SECURITY.md#untrusted-models for more details). In a future release, the default value for `weights_only` will be flipped to `True`. This limits the functions that could be executed during unpickling. Arbitrary objects will no longer be allowed to be loaded via this mode unless they are explicitly allowlisted by the user via `torch.serialization.add_safe_globals`. We recommend you start setting `weights_only=True` for any use case where you don't have full control of the loaded file. Please open an issue on GitHub for any issues related to this experimental feature.\n",
      "`torch.cuda.amp.autocast(args...)` is deprecated. Please use `torch.amp.autocast('cuda', args...)` instead.\n",
      "You are using `torch.load` with `weights_only=False` (the current default value), which uses the default pickle module implicitly. It is possible to construct malicious pickle data which will execute arbitrary code during unpickling (See https://github.com/pytorch/pytorch/blob/main/SECURITY.md#untrusted-models for more details). In a future release, the default value for `weights_only` will be flipped to `True`. This limits the functions that could be executed during unpickling. Arbitrary objects will no longer be allowed to be loaded via this mode unless they are explicitly allowlisted by the user via `torch.serialization.add_safe_globals`. We recommend you start setting `weights_only=True` for any use case where you don't have full control of the loaded file. Please open an issue on GitHub for any issues related to this experimental feature.\n",
      "`torch.cuda.amp.autocast(args...)` is deprecated. Please use `torch.amp.autocast('cuda', args...)` instead.\n",
      "You are using `torch.load` with `weights_only=False` (the current default value), which uses the default pickle module implicitly. It is possible to construct malicious pickle data which will execute arbitrary code during unpickling (See https://github.com/pytorch/pytorch/blob/main/SECURITY.md#untrusted-models for more details). In a future release, the default value for `weights_only` will be flipped to `True`. This limits the functions that could be executed during unpickling. Arbitrary objects will no longer be allowed to be loaded via this mode unless they are explicitly allowlisted by the user via `torch.serialization.add_safe_globals`. We recommend you start setting `weights_only=True` for any use case where you don't have full control of the loaded file. Please open an issue on GitHub for any issues related to this experimental feature.\n",
      "`torch.cuda.amp.autocast(args...)` is deprecated. Please use `torch.amp.autocast('cuda', args...)` instead.\n",
      "You are using `torch.load` with `weights_only=False` (the current default value), which uses the default pickle module implicitly. It is possible to construct malicious pickle data which will execute arbitrary code during unpickling (See https://github.com/pytorch/pytorch/blob/main/SECURITY.md#untrusted-models for more details). In a future release, the default value for `weights_only` will be flipped to `True`. This limits the functions that could be executed during unpickling. Arbitrary objects will no longer be allowed to be loaded via this mode unless they are explicitly allowlisted by the user via `torch.serialization.add_safe_globals`. We recommend you start setting `weights_only=True` for any use case where you don't have full control of the loaded file. Please open an issue on GitHub for any issues related to this experimental feature.\n",
      "`torch.cuda.amp.autocast(args...)` is deprecated. Please use `torch.amp.autocast('cuda', args...)` instead.\n"
     ]
    },
    {
     "name": "stdout",
     "output_type": "stream",
     "text": [
      "2024-11-18 15:28:37,577 INFO image_writer.py:197 - writing: /media/srs-9/Data/lesjak_2017_predictions/patient02/FLAIR.T1W_choroid_pineal_pituitary2_pred.nii.gz\n"
     ]
    },
    {
     "name": "stderr",
     "output_type": "stream",
     "text": [
      "Ensembling (rank 0)...: 100%|██████████| 2/2 [01:56<00:00, 58.34s/it]\n"
     ]
    }
   ],
   "source": [
    "## model ensemble\n",
    "n_best = 5\n",
    "builder = AlgoEnsembleBuilder(history, input_cfg)\n",
    "builder.set_ensemble_method(AlgoEnsembleBestN(n_best=n_best))\n",
    "ensemble = builder.get_ensemble()\n",
    "save_params = {\n",
    "    \"_target_\": \"SaveImage\",\n",
    "    \"output_dir\": save_dir,\n",
    "    \"data_root_dir\": dataroot,\n",
    "    \"output_postfix\": prediction_postfix,\n",
    "    \"separate_folder\": False,\n",
    "}\n",
    "\n",
    "pred = ensemble(pred_param={\"image_save_func\": save_params})"
   ]
  }
 ],
 "metadata": {
  "kernelspec": {
   "display_name": "monai",
   "language": "python",
   "name": "python3"
  },
  "language_info": {
   "codemirror_mode": {
    "name": "ipython",
    "version": 3
   },
   "file_extension": ".py",
   "mimetype": "text/x-python",
   "name": "python",
   "nbconvert_exporter": "python",
   "pygments_lexer": "ipython3",
   "version": "3.12.7"
  }
 },
 "nbformat": 4,
 "nbformat_minor": 2
}
