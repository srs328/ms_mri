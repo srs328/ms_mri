{
 "cells": [
  {
   "cell_type": "code",
   "execution_count": 7,
   "metadata": {},
   "outputs": [],
   "source": [
    "import matplotlib.pyplot as plt\n",
    "import pandas as pd\n",
    "from pathlib import Path\n",
    "import numpy as np\n",
    "import re\n",
    "import statsmodels.api as sm\n",
    "from statsmodels.formula.api import ols\n",
    "\n",
    "from mri_data import file_manager as fm"
   ]
  },
  {
   "cell_type": "code",
   "execution_count": 8,
   "metadata": {},
   "outputs": [],
   "source": [
    "drive_root = fm.get_drive_root()\n",
    "msmri_home = Path(\"/home/srs-9/Projects/ms_mri\")\n",
    "msmri_datadir = msmri_home / \"data\"\n",
    "curr_dir = msmri_home / \"monai_analysis\" / \"choroid_pineal_pituitary3\""
   ]
  },
  {
   "cell_type": "markdown",
   "metadata": {},
   "source": [
    "## Data Cleaning"
   ]
  },
  {
   "cell_type": "markdown",
   "metadata": {},
   "source": [
    "Load volume dataset"
   ]
  },
  {
   "cell_type": "code",
   "execution_count": 9,
   "metadata": {},
   "outputs": [],
   "source": [
    "df_vols = pd.read_csv(curr_dir / \"clinical_data_full.csv\")\n",
    "df_vols = df_vols.set_index(\"subid\")\n",
    "keep_cols = [\"choroid_volume\", \"pineal_volume\", \"pituitary_volume\", \"tiv\", \"flair_contrast\", \"label\", \"scan_folder\", \"age\"]\n",
    "\n",
    "not_nas = (~df_vols['pineal_volume'].isna() & ~df_vols['choroid_volume'].isna() & ~df_vols['pituitary_volume'].isna())\n",
    "df_vols = df_vols.loc[not_nas, keep_cols]"
   ]
  },
  {
   "cell_type": "code",
   "execution_count": 10,
   "metadata": {},
   "outputs": [],
   "source": [
    "def subject_to_subid(subject):\n",
    "    if not isinstance(subject, str):\n",
    "        return None\n",
    "    re_match = re.match(r\"ms(\\d{4})\", subject)\n",
    "    if re_match:\n",
    "        return_val = int(re_match[1])\n",
    "        return return_val\n",
    "    else:\n",
    "        return None"
   ]
  },
  {
   "cell_type": "code",
   "execution_count": 11,
   "metadata": {},
   "outputs": [],
   "source": [
    "df_full = pd.read_csv(msmri_datadir / \"Clinical_Data_All_updated.csv\")\n",
    "df_full.insert(0, \"subid\", df_full['ID'].map(subject_to_subid))\n",
    "df_full = df_full.set_index(\"subid\")\n",
    "\n",
    "df = pd.merge(df_vols, df_full.loc[:, ~df_full.columns.isin(df_vols.columns)], how='outer', on='subid')\n",
    "\n",
    "df.loc[:, 'extracted_EDSS'] = [float(val) if val != \".\" else None for val in df['extracted_EDSS']] #! figure out what to do with \".\"\n",
    "df.loc[:, ['EDSS']] = pd.Categorical(df['extracted_EDSS'], ordered=True)\n",
    "df.loc[df['PRL'] == \"#VALUE!\", 'PRL'] = None\n",
    "df.loc[:, 'PRL'] = [int(val) if val != \"#VALUE!\" and val is not None else None for val in df['PRL']]\n",
    "df.loc[df['dzdur'] == \"#VALUE!\", \"dzdur\"] = None"
   ]
  },
  {
   "cell_type": "code",
   "execution_count": 12,
   "metadata": {},
   "outputs": [],
   "source": [
    "prl_levels = [range(0,1), range(1,3), range(3,5), range(5,df['PRL'].max()+1)]\n",
    "df.loc[:, ['PRL_LEVEL']] = None\n",
    "for i, level in enumerate(prl_levels):\n",
    "    df.loc[df['PRL'].isin(level), ['PRL_LEVEL']] = i\n",
    "df.loc[:, ['PRL_LEVEL']] = pd.Categorical(df['PRL_LEVEL'], ordered=True)"
   ]
  },
  {
   "cell_type": "code",
   "execution_count": 13,
   "metadata": {},
   "outputs": [],
   "source": [
    "prl_levels = [range(0,1), range(1,3), range(3,df['PRL'].max()+1)]\n",
    "df.loc[:, ['PRL_LEVEL']] = None\n",
    "for i, level in enumerate(prl_levels):\n",
    "    df.loc[df['PRL'].isin(level), ['PRL_LEVEL']] = i\n",
    "df.loc[:, ['PRL_LEVEL']] = pd.Categorical(df['PRL_LEVEL'], ordered=True)"
   ]
  },
  {
   "cell_type": "code",
   "execution_count": 14,
   "metadata": {},
   "outputs": [],
   "source": [
    "def check_nind(subtype):\n",
    "    if \"migraine\" in subtype:\n",
    "        return True\n",
    "    elif \"IIH\" in subtype:\n",
    "        return True\n",
    "    elif \"Migraine\" in subtype:\n",
    "        return True\n",
    "    else:\n",
    "        return False"
   ]
  },
  {
   "cell_type": "code",
   "execution_count": 15,
   "metadata": {},
   "outputs": [],
   "source": [
    "def check_nind2(subtype):\n",
    "    if type(subtype) is not str:\n",
    "        return False\n",
    "    keywords = [\"migraine\", \"IIH\", \"anxiety\", \"Migraine\"]\n",
    "    for word in keywords:\n",
    "        if word in subtype:\n",
    "            return True\n",
    "    return False"
   ]
  },
  {
   "cell_type": "markdown",
   "metadata": {},
   "source": [
    "Add columns for volumes normalized by TIV"
   ]
  },
  {
   "cell_type": "code",
   "execution_count": 16,
   "metadata": {},
   "outputs": [],
   "source": [
    "df.loc[:, ['norm_choroid_volume']] = df['choroid_volume']/df['tiv']\n",
    "df.loc[:, ['norm_pineal_volume']] = df['pineal_volume']/df['tiv']\n",
    "df.loc[:, ['norm_pituitary_volume']] = df['pituitary_volume']/df['tiv']"
   ]
  },
  {
   "cell_type": "markdown",
   "metadata": {},
   "source": [
    "### Categorize Disease Types\n",
    "\n",
    "- RMS vs MS vs !MS\n",
    "- MS vs !MS\n",
    "- MS vs OIND vs NIND"
   ]
  },
  {
   "cell_type": "markdown",
   "metadata": {},
   "source": [
    "`dz_type` has relapsing MS (RMS) versus progressive MS (PMS) verusus not MS (!MS)"
   ]
  },
  {
   "cell_type": "code",
   "execution_count": 17,
   "metadata": {},
   "outputs": [
    {
     "name": "stdout",
     "output_type": "stream",
     "text": [
      "['RMS' 'PMS' '!MS' 'UNK' 'RIS']\n",
      "0\n"
     ]
    }
   ],
   "source": [
    "try:\n",
    "    df.insert(18, 'dz_type', df['ms_type'])\n",
    "except Exception:\n",
    "    pass\n",
    "\n",
    "df.loc[:, 'dz_type'] = df['ms_type']\n",
    "\n",
    "df.loc[df['ms_type'].isin(['CIS', 'RRMS']), 'dz_type'] = 'RMS'\n",
    "df.loc[df['ms_type'].isin(['PPMS', 'SPMS', 'RPMS', 'PRMS']), 'dz_type'] = 'PMS'\n",
    "df.loc[df['ms_type'].isin(['NIND', 'OIND', 'HC']), 'dz_type'] = '!MS'\n",
    "# df.loc[(df['dz_type'] == \"NIND\") & (df['subtype'].map(check_nind2)), \"dz_type\"] = \"HC\"\n",
    "print(df['dz_type'].unique())\n",
    "print(sum(df['dz_type'] == \"HC\"))"
   ]
  },
  {
   "cell_type": "markdown",
   "metadata": {},
   "source": [
    "`dz_type2` has MS versus !MS and UNK"
   ]
  },
  {
   "cell_type": "code",
   "execution_count": 18,
   "metadata": {},
   "outputs": [
    {
     "data": {
      "text/plain": [
       "array(['MS', '!MS', 'UNK', 'RIS'], dtype=object)"
      ]
     },
     "execution_count": 18,
     "metadata": {},
     "output_type": "execute_result"
    }
   ],
   "source": [
    "try:\n",
    "    df.insert(18, 'dz_type2', df['dz_type'])\n",
    "except Exception:\n",
    "    pass\n",
    "\n",
    "df.loc[:, 'dz_type2'] = df['dz_type']\n",
    "\n",
    "df.loc[df['dz_type'].isin(['RMS', 'PMS']), 'dz_type2'] = 'MS'\n",
    "df['dz_type2'].unique()"
   ]
  },
  {
   "cell_type": "markdown",
   "metadata": {},
   "source": [
    "`dz_type3` has MS v OIND v NIND"
   ]
  },
  {
   "cell_type": "code",
   "execution_count": 19,
   "metadata": {},
   "outputs": [
    {
     "data": {
      "text/plain": [
       "array(['MS', 'NIND', 'UNK', 'HC', 'OIND', 'RIS'], dtype=object)"
      ]
     },
     "execution_count": 19,
     "metadata": {},
     "output_type": "execute_result"
    }
   ],
   "source": [
    "try:\n",
    "    df.insert(18, 'dz_type3', df['ms_type'])\n",
    "except Exception:\n",
    "    pass\n",
    "\n",
    "df.loc[:, 'dz_type3'] = df['ms_type']\n",
    "\n",
    "df.loc[df['ms_type'].isin(['PPMS', 'SPMS', 'RPMS', 'PRMS', 'RRMS', 'CIS']), 'dz_type3'] = 'MS'\n",
    "df['dz_type3'].unique()"
   ]
  },
  {
   "cell_type": "markdown",
   "metadata": {},
   "source": [
    "`dz_type4`"
   ]
  },
  {
   "cell_type": "code",
   "execution_count": 20,
   "metadata": {},
   "outputs": [],
   "source": [
    "try:\n",
    "    df.insert(18, 'dz_type4', df['dz_type3'])\n",
    "except Exception:\n",
    "    pass\n",
    "\n",
    "df.loc[:, 'dz_type4'] = df['dz_type3']\n",
    "\n",
    "df.loc[(df['dz_type4'] == \"NIND\") & (df.loc[:, 'subtype'].map(check_nind2)), \"dz_type4\"] = \"HC\""
   ]
  },
  {
   "cell_type": "markdown",
   "metadata": {},
   "source": [
    "`dz_type5`"
   ]
  },
  {
   "cell_type": "code",
   "execution_count": 21,
   "metadata": {},
   "outputs": [
    {
     "name": "stdout",
     "output_type": "stream",
     "text": [
      "['RMS' 'PMS' 'NIND' 'UNK' 'HC' 'OIND' 'RIS']\n",
      "2\n"
     ]
    }
   ],
   "source": [
    "try:\n",
    "    df.insert(18, 'dz_type5', df['ms_type'])\n",
    "except Exception:\n",
    "    pass\n",
    "\n",
    "df.loc[:, 'dz_type5'] = df['ms_type']\n",
    "\n",
    "df.loc[df['ms_type'].isin(['CIS', 'RRMS']), 'dz_type5'] = 'RMS'\n",
    "df.loc[df['ms_type'].isin(['PPMS', 'SPMS', 'RPMS', 'PRMS']), 'dz_type5'] = 'PMS'\n",
    "print(df['dz_type5'].unique())\n",
    "print(sum(df['dz_type5'] == \"HC\"))"
   ]
  },
  {
   "cell_type": "markdown",
   "metadata": {},
   "source": [
    "## Descriptive Stats"
   ]
  },
  {
   "cell_type": "code",
   "execution_count": 22,
   "metadata": {},
   "outputs": [
    {
     "name": "stdout",
     "output_type": "stream",
     "text": [
      "564 patients in total\n",
      "368 patients with RMS (0.65)\n",
      "97 patients with PMS (0.17)\n",
      "92 patients w/o MS (0.16)\n"
     ]
    }
   ],
   "source": [
    "print(len(df), \"patients in total\")\n",
    "nRMS = sum(df['dz_type'] == \"RMS\")\n",
    "nPMS = sum(df['dz_type'] == \"PMS\")\n",
    "nNotMS = sum(df['dz_type'] == \"!MS\")\n",
    "print(nRMS, \"patients with RMS\", f\"({round(nRMS / len(df), 2)})\")\n",
    "print(nPMS, \"patients with PMS\", f\"({round(nPMS / len(df), 2)})\")\n",
    "print(nNotMS, \"patients w/o MS\", f\"({round(nNotMS / len(df), 2)})\")"
   ]
  },
  {
   "cell_type": "code",
   "execution_count": 23,
   "metadata": {},
   "outputs": [
    {
     "name": "stdout",
     "output_type": "stream",
     "text": [
      "564 patients in total\n",
      "465 patients with MS (0.82)\n",
      "41 patients with OIND (0.07)\n",
      "49 patients w/o NIND (0.09)\n"
     ]
    }
   ],
   "source": [
    "print(len(df), \"patients in total\")\n",
    "nMS = sum(df['dz_type3'] == \"MS\")\n",
    "nOIND = sum(df['dz_type3'] == \"OIND\")\n",
    "nNIND = sum(df['dz_type3'] == \"NIND\")\n",
    "print(nMS, \"patients with MS\", f\"({round(nMS / len(df), 2)})\")\n",
    "print(nOIND, \"patients with OIND\", f\"({round(nOIND / len(df), 2)})\")\n",
    "print(nNIND, \"patients w/o NIND\", f\"({round(nNIND / len(df), 2)})\")"
   ]
  },
  {
   "cell_type": "code",
   "execution_count": 24,
   "metadata": {},
   "outputs": [
    {
     "name": "stdout",
     "output_type": "stream",
     "text": [
      "Female subjects:     0.79\n",
      "Average age at scan: 47.58\n"
     ]
    }
   ],
   "source": [
    "print(\"Female subjects:     {:0.2f}\".format(sum(df['sex'] == \"Female\") / len(df)) )\n",
    "print(\"Average age at scan: {:0.2f}\".format(df['age'].mean()))"
   ]
  },
  {
   "cell_type": "code",
   "execution_count": 25,
   "metadata": {},
   "outputs": [
    {
     "name": "stdout",
     "output_type": "stream",
     "text": [
      "RMS Patients:\n",
      "\tFemale:  0.84\n",
      "\tAge:     44.54\n",
      "PMS Patients:\n",
      "\tFemale:  0.59\n",
      "\tAge:     58.25\n",
      "!MS Patients:\n",
      "\tFemale:  0.82\n",
      "\tAge:     49.05\n"
     ]
    }
   ],
   "source": [
    "df_rrms = df.loc[df[\"dz_type\"] == \"RMS\"]\n",
    "print(\"RMS Patients:\")\n",
    "print(\"\\tFemale:  {:0.2f}\".format(sum(df_rrms['sex'] == \"Female\") / len(df_rrms)))\n",
    "print(\"\\tAge:     {:0.2f}\".format(df_rrms['age'].mean()))\n",
    "\n",
    "df_pms = df.loc[df[\"dz_type\"] == \"PMS\"]\n",
    "print(\"PMS Patients:\")\n",
    "print(\"\\tFemale:  {:0.2f}\".format(sum(df_pms['sex'] == \"Female\") / len(df_pms)))\n",
    "print(\"\\tAge:     {:0.2f}\".format(df_pms['age'].mean()))\n",
    "\n",
    "df_notms = df.loc[df[\"dz_type\"] == \"!MS\"]\n",
    "print(\"!MS Patients:\")\n",
    "print(\"\\tFemale:  {:0.2f}\".format(sum(df_notms['sex'] == \"Female\") / len(df_notms)))\n",
    "print(\"\\tAge:     {:0.2f}\".format(df_notms['age'].mean()))"
   ]
  },
  {
   "cell_type": "markdown",
   "metadata": {},
   "source": [
    "#### Volumes"
   ]
  },
  {
   "cell_type": "code",
   "execution_count": 26,
   "metadata": {},
   "outputs": [
    {
     "name": "stdout",
     "output_type": "stream",
     "text": [
      "Choroid volumes:\n",
      "\tRRMS:   1636.13\n",
      "\tPMS:    1686.45\n",
      "\tnot-MS: 1759.73\n",
      "Pineal volumes:\n",
      "\tRRMS:   181.47\n",
      "\tPMS:    150.11\n",
      "\tnot-MS: 235.76\n",
      "Pituitary volumes:\n",
      "\tRRMS:   631.39\n",
      "\tPMS:    640.51\n",
      "\tnot-MS: 659.92\n"
     ]
    }
   ],
   "source": [
    "# choroid\n",
    "print(\"Choroid volumes:\")\n",
    "print(\"\\tRRMS:   {:0.2f}\".format(df_rrms['choroid_volume'].mean()))\n",
    "print(\"\\tPMS:    {:0.2f}\".format(df_pms['choroid_volume'].mean()))\n",
    "print(\"\\tnot-MS: {:0.2f}\".format(df_notms['choroid_volume'].mean()))\n",
    "\n",
    "# pineal\n",
    "print(\"Pineal volumes:\")\n",
    "print(\"\\tRRMS:   {:0.2f}\".format(df_rrms['pineal_volume'].mean()))\n",
    "print(\"\\tPMS:    {:0.2f}\".format(df_pms['pineal_volume'].mean()))\n",
    "print(\"\\tnot-MS: {:0.2f}\".format(df_notms['pineal_volume'].mean()))\n",
    "\n",
    "# pituitary\n",
    "print(\"Pituitary volumes:\")\n",
    "print(\"\\tRRMS:   {:0.2f}\".format(df_rrms['pituitary_volume'].mean()))\n",
    "print(\"\\tPMS:    {:0.2f}\".format(df_pms['pituitary_volume'].mean()))\n",
    "print(\"\\tnot-MS: {:0.2f}\".format(df_notms['pituitary_volume'].mean()))"
   ]
  },
  {
   "cell_type": "code",
   "execution_count": 27,
   "metadata": {},
   "outputs": [
    {
     "name": "stdout",
     "output_type": "stream",
     "text": [
      "Choroid volumes:\n",
      "\tMS:     1646.40\n",
      "\tnot-MS: 1759.73\n",
      "\n",
      "Pineal volumes\n",
      "\tMS:     175.07\n",
      "\tnot-MS: 235.76\n",
      "\n",
      "Pituitary volumes\n",
      "\tMS:     633.25\n",
      "\tnot-MS: 659.92\n"
     ]
    }
   ],
   "source": [
    "print(\"Choroid volumes:\")\n",
    "choroid_ms_mean = df[df['dz_type2'] == \"MS\"].choroid_volume.mean()\n",
    "choroid_notms_mean = df[df['dz_type2'] == \"!MS\"].choroid_volume.mean()\n",
    "print(\"\\tMS:     {:0.2f}\".format(choroid_ms_mean))\n",
    "print(\"\\tnot-MS: {:0.2f}\".format(choroid_notms_mean))\n",
    "\n",
    "print(\"\\nPineal volumes\")\n",
    "pineal_ms_mean = df[df['dz_type2'] == \"MS\"].pineal_volume.mean()\n",
    "pineal_notms_mean = df[df['dz_type2'] == \"!MS\"].pineal_volume.mean()\n",
    "print(\"\\tMS:     {:0.2f}\".format(pineal_ms_mean))\n",
    "print(\"\\tnot-MS: {:0.2f}\".format(pineal_notms_mean))\n",
    "\n",
    "print(\"\\nPituitary volumes\")\n",
    "pituitary_ms_mean = df[df['dz_type2'] == \"MS\"].pituitary_volume.mean()\n",
    "pituitary_notms_mean = df[df['dz_type2'] == \"!MS\"].pituitary_volume.mean()\n",
    "print(\"\\tMS:     {:0.2f}\".format(pituitary_ms_mean))\n",
    "print(\"\\tnot-MS: {:0.2f}\".format(pituitary_notms_mean))"
   ]
  },
  {
   "cell_type": "code",
   "execution_count": 28,
   "metadata": {},
   "outputs": [
    {
     "name": "stdout",
     "output_type": "stream",
     "text": [
      "Choroid volumes:\n",
      "\tMS:   1646.40\n",
      "\tOIND: 1752.60\n",
      "\tNIND: 1795.19\n",
      "\n",
      "Pineal volumes\n",
      "\tMS:   175.07\n",
      "\tOIND: 205.06\n",
      "\tNIND: 263.55\n",
      "\n",
      "Pituitary volumes\n",
      "\tMS:   633.25\n",
      "\tOIND: 646.75\n",
      "\tNIND: 667.03\n"
     ]
    }
   ],
   "source": [
    "print(\"Choroid volumes:\")\n",
    "choroid_ms_mean = df[df['dz_type3'] == \"MS\"].choroid_volume.mean()\n",
    "choroid_oind_mean = df[df['dz_type3'] == \"OIND\"].choroid_volume.mean()\n",
    "choroid_nind_mean = df[df['dz_type3'] == \"NIND\"].choroid_volume.mean()\n",
    "print(\"\\tMS:   {:0.2f}\".format(choroid_ms_mean))\n",
    "print(\"\\tOIND: {:0.2f}\".format(choroid_oind_mean))\n",
    "print(\"\\tNIND: {:0.2f}\".format(choroid_nind_mean))\n",
    "\n",
    "\n",
    "print(\"\\nPineal volumes\")\n",
    "pineal_ms_mean = df[df['dz_type2'] == \"MS\"].pineal_volume.mean()\n",
    "pineal_oind_mean = df[df['dz_type3'] == \"OIND\"].pineal_volume.mean()\n",
    "pineal_nind_mean = df[df['dz_type3'] == \"NIND\"].pineal_volume.mean()\n",
    "print(\"\\tMS:   {:0.2f}\".format(pineal_ms_mean))\n",
    "print(\"\\tOIND: {:0.2f}\".format(pineal_oind_mean))\n",
    "print(\"\\tNIND: {:0.2f}\".format(pineal_nind_mean))\n",
    "\n",
    "\n",
    "print(\"\\nPituitary volumes\")\n",
    "pituitary_ms_mean = df[df['dz_type2'] == \"MS\"].pituitary_volume.mean()\n",
    "pituitary_oind_mean = df[df['dz_type3'] == \"OIND\"].pituitary_volume.mean()\n",
    "pituitary_nind_mean = df[df['dz_type3'] == \"NIND\"].pituitary_volume.mean()\n",
    "print(\"\\tMS:   {:0.2f}\".format(pituitary_ms_mean))\n",
    "print(\"\\tOIND: {:0.2f}\".format(pituitary_oind_mean))\n",
    "print(\"\\tNIND: {:0.2f}\".format(pituitary_nind_mean))"
   ]
  },
  {
   "cell_type": "markdown",
   "metadata": {},
   "source": [
    "## Plots"
   ]
  },
  {
   "cell_type": "code",
   "execution_count": 29,
   "metadata": {},
   "outputs": [
    {
     "data": {
      "image/png": "[encoded data removed]",
      "text/plain": [
       "<Figure size 640x480 with 6 Axes>"
      ]
     },
     "metadata": {},
     "output_type": "display_data"
    }
   ],
   "source": [
    "fig, ax = plt.subplots(2, 3)\n",
    "ax[0,0].hist(df.loc[df['dz_type2']=='MS', 'choroid_volume'], bins=50)\n",
    "ax[0,0].set_xlim([0, 3500])\n",
    "ax[0,0].set_title(\"Choroid MS\")\n",
    "ax[0,0].plot([choroid_ms_mean, choroid_ms_mean], ax[0,0].get_ylim())\n",
    "text_y = ax[0,0].get_ylim()[1] - ax[0,0].get_ylim()[1] / 16\n",
    "ax[0,0].text(choroid_ms_mean, text_y, \"{:0.0f}\".format(choroid_ms_mean))\n",
    "\n",
    "ax[1, 0].hist(df.loc[df['dz_type2']=='!MS', 'choroid_volume'], bins=20)\n",
    "ax[1, 0].set_xlim([0, 3500])\n",
    "ax[1, 0].set_title(\"Choroid Not MS\")\n",
    "ax[1,0].plot([choroid_notms_mean, choroid_notms_mean], ax[1,0].get_ylim())\n",
    "text_y = ax[1,0].get_ylim()[1] - ax[1,0].get_ylim()[1] / 16\n",
    "ax[1,0].text(choroid_notms_mean, text_y, \"{:0.0f}\".format(choroid_notms_mean))\n",
    "\n",
    "\n",
    "ax[0,1].hist(df.loc[df['dz_type2']=='MS', 'pineal_volume'], bins=50)\n",
    "ax[0,1].set_xlim([0, 750])\n",
    "ax[0,1].set_title(\"Pineal MS\")\n",
    "ax[0,1].plot([pineal_ms_mean, pineal_ms_mean], ax[0,1].get_ylim())\n",
    "text_y = ax[0,1].get_ylim()[1] - ax[0,1].get_ylim()[1] / 16\n",
    "ax[0,1].text(pineal_ms_mean, text_y, \"{:0.0f}\".format(pineal_ms_mean))\n",
    "\n",
    "ax[1,1].hist(df.loc[df['dz_type2']=='!MS', 'pineal_volume'], bins=30)\n",
    "ax[1,1].set_xlim([0, 750])\n",
    "ax[1,1].set_title(\"Pineal Not MS\")\n",
    "ax[1,1].plot([pineal_notms_mean, pineal_notms_mean], ax[1,1].get_ylim())\n",
    "text_y = ax[1,1].get_ylim()[1] - ax[1,1].get_ylim()[1] / 16\n",
    "ax[1,1].text(pineal_notms_mean, text_y, \"{:0.0f}\".format(pineal_notms_mean))\n",
    "\n",
    "\n",
    "ax[0,2].hist(df.loc[df['dz_type2']=='MS', 'pituitary_volume'], bins=50)\n",
    "ax[0,2].set_xlim([0, 1500])\n",
    "ax[0,2].set_title(\"Pituitary MS\")\n",
    "ax[0,2].plot([pituitary_ms_mean, pituitary_ms_mean], ax[0,2].get_ylim())\n",
    "text_y = ax[0,2].get_ylim()[1] - ax[0,2].get_ylim()[1] / 16\n",
    "ax[0,2].text(pituitary_ms_mean, text_y, \"{:0.0f}\".format(pituitary_ms_mean))\n",
    "\n",
    "ax[1,2].hist(df.loc[df['dz_type2']=='!MS', 'pituitary_volume'], bins=20)\n",
    "ax[1,2].set_xlim([0, 1500])\n",
    "ax[1,2].set_title(\"Pituitary Not MS\")\n",
    "ax[1,2].plot([pituitary_notms_mean, pituitary_notms_mean], ax[1,2].get_ylim())\n",
    "text_y = ax[1,2].get_ylim()[1] - ax[1,2].get_ylim()[1] / 16\n",
    "ax[1,2].text(pituitary_notms_mean, text_y, \"{:0.0f}\".format(pituitary_notms_mean))\n",
    "\n",
    "plt.subplots_adjust(bottom=0.1, right=2, top=1.5)"
   ]
  },
  {
   "cell_type": "markdown",
   "metadata": {},
   "source": [
    "## Regression Models\n",
    "\n",
    "Covariates: age, sex, TIV, contrast"
   ]
  },
  {
   "cell_type": "markdown",
   "metadata": {},
   "source": [
    "### Linear Regression on Volume\n",
    "\n",
    "Predict volume of structure with the following predictors:\n",
    "\n",
    "- MS vs Not-MS\n",
    "- MS vs OIND vs NIND\n",
    "- RMS vs PMS"
   ]
  },
  {
   "cell_type": "markdown",
   "metadata": {},
   "source": [
    "#### Choroid Plexus\n",
    "\n",
    "##### MS vs not-MS"
   ]
  },
  {
   "cell_type": "code",
   "execution_count": 30,
   "metadata": {},
   "outputs": [
    {
     "name": "stdout",
     "output_type": "stream",
     "text": [
      "                            OLS Regression Results                            \n",
      "==============================================================================\n",
      "Dep. Variable:                 volume   R-squared:                       0.085\n",
      "Model:                            OLS   Adj. R-squared:                  0.076\n",
      "Method:                 Least Squares   F-statistic:                     10.39\n",
      "Date:                Thu, 30 Jan 2025   Prob (F-statistic):           4.63e-08\n",
      "Time:                        13:57:00   Log-Likelihood:                -3510.6\n",
      "No. Observations:                 455   AIC:                             7031.\n",
      "Df Residuals:                     450   BIC:                             7052.\n",
      "Df Model:                           4                                         \n",
      "Covariance Type:            nonrobust                                         \n",
      "==============================================================================\n",
      "                 coef    std err          t      P>|t|      [0.025      0.975]\n",
      "------------------------------------------------------------------------------\n",
      "age            8.2262      2.066      3.982      0.000       4.166      12.286\n",
      "Male          17.8391     74.907      0.238      0.812    -129.371     165.049\n",
      "tiv            0.0009      0.000      3.936      0.000       0.000       0.001\n",
      "MS           -72.1616     71.982     -1.002      0.317    -213.624      69.301\n",
      "intercept    -41.1028    378.571     -0.109      0.914    -785.089     702.884\n",
      "==============================================================================\n",
      "Omnibus:                        7.941   Durbin-Watson:                   2.010\n",
      "Prob(Omnibus):                  0.019   Jarque-Bera (JB):                8.598\n",
      "Skew:                           0.238   Prob(JB):                       0.0136\n",
      "Kurtosis:                       3.477   Cond. No.                     2.24e+07\n",
      "==============================================================================\n",
      "\n",
      "Notes:\n",
      "[1] Standard Errors assume that the covariance matrix of the errors is correctly specified.\n",
      "[2] The condition number is large, 2.24e+07. This might indicate that there are\n",
      "strong multicollinearity or other numerical problems.\n"
     ]
    }
   ],
   "source": [
    "volume = 'choroid_volume'\n",
    "\n",
    "data = df[['dz_type2', 'age', 'sex', 'tiv', 'flair_contrast', 'dzdur', volume]]\n",
    "data = data.rename(columns={volume: 'volume'})\n",
    "data = data[data['dz_type2'].isin(['MS', '!MS'])]\n",
    "data = data[data['flair_contrast'].isin(['WITH', 'WITHOUT'])]\n",
    "\n",
    "data = pd.concat((\n",
    "    data,\n",
    "    pd.get_dummies(data['dz_type2']),\n",
    "    pd.get_dummies(data['flair_contrast']),\n",
    "    pd.get_dummies(data['sex'])), axis=1)\n",
    "data['intercept'] = 1\n",
    "\n",
    "predictors = ['age', 'Male', 'tiv', 'MS', 'intercept']\n",
    "\n",
    "res = sm.OLS(data['volume'].astype('float'), \n",
    "             data[predictors].astype('float'), missing='drop').fit()\n",
    "\n",
    "print(res.summary())"
   ]
  },
  {
   "cell_type": "markdown",
   "metadata": {},
   "source": [
    "##### MS vs NIND vs OIND"
   ]
  },
  {
   "cell_type": "code",
   "execution_count": 31,
   "metadata": {},
   "outputs": [
    {
     "name": "stdout",
     "output_type": "stream",
     "text": [
      "                            OLS Regression Results                            \n",
      "==============================================================================\n",
      "Dep. Variable:                 volume   R-squared:                       0.089\n",
      "Model:                            OLS   Adj. R-squared:                  0.080\n",
      "Method:                 Least Squares   F-statistic:                     10.23\n",
      "Date:                Thu, 30 Jan 2025   Prob (F-statistic):           6.53e-08\n",
      "Time:                        13:57:00   Log-Likelihood:                -3277.9\n",
      "No. Observations:                 425   AIC:                             6566.\n",
      "Df Residuals:                     420   BIC:                             6586.\n",
      "Df Model:                           4                                         \n",
      "Covariance Type:            nonrobust                                         \n",
      "==============================================================================\n",
      "                 coef    std err          t      P>|t|      [0.025      0.975]\n",
      "------------------------------------------------------------------------------\n",
      "age            8.0538      2.121      3.798      0.000       3.886      12.222\n",
      "Female        -4.4479     76.379     -0.058      0.954    -154.580     145.684\n",
      "tiv            0.0010      0.000      4.181      0.000       0.001       0.001\n",
      "MS          -104.3587     92.098     -1.133      0.258    -285.388      76.671\n",
      "intercept   -111.9625    436.805     -0.256      0.798    -970.559     746.634\n",
      "==============================================================================\n",
      "Omnibus:                        7.741   Durbin-Watson:                   1.957\n",
      "Prob(Omnibus):                  0.021   Jarque-Bera (JB):                8.788\n",
      "Skew:                           0.221   Prob(JB):                       0.0123\n",
      "Kurtosis:                       3.548   Cond. No.                     2.51e+07\n",
      "==============================================================================\n",
      "\n",
      "Notes:\n",
      "[1] Standard Errors assume that the covariance matrix of the errors is correctly specified.\n",
      "[2] The condition number is large, 2.51e+07. This might indicate that there are\n",
      "strong multicollinearity or other numerical problems.\n"
     ]
    }
   ],
   "source": [
    "volume = 'choroid_volume'\n",
    "\n",
    "data = df[['dz_type3', 'age', 'sex', 'tiv', 'flair_contrast', 'dzdur', volume]]\n",
    "data = data.rename(columns={volume: 'volume'})\n",
    "data = data[data['dz_type3'].isin(['MS', 'NIND'])]\n",
    "data = data[data['flair_contrast'].isin(['WITH', 'WITHOUT'])]\n",
    "\n",
    "data = pd.concat((\n",
    "    data,\n",
    "    pd.get_dummies(data['dz_type3']),\n",
    "    pd.get_dummies(data['flair_contrast']),\n",
    "    pd.get_dummies(data['sex'])), axis=1)\n",
    "data['intercept'] = 1\n",
    "\n",
    "predictors = ['age', 'Female', 'tiv', 'MS', 'intercept']\n",
    "\n",
    "res = sm.OLS(data['volume'].astype('float'), \n",
    "             data[predictors].astype('float'), missing='drop').fit()\n",
    "\n",
    "print(res.summary())"
   ]
  },
  {
   "cell_type": "markdown",
   "metadata": {},
   "source": [
    "##### PMS v RMS"
   ]
  },
  {
   "cell_type": "code",
   "execution_count": 32,
   "metadata": {},
   "outputs": [
    {
     "name": "stdout",
     "output_type": "stream",
     "text": [
      "                            OLS Regression Results                            \n",
      "==============================================================================\n",
      "Dep. Variable:                 volume   R-squared:                       0.088\n",
      "Model:                            OLS   Adj. R-squared:                  0.075\n",
      "Method:                 Least Squares   F-statistic:                     7.148\n",
      "Date:                Thu, 30 Jan 2025   Prob (F-statistic):           2.73e-07\n",
      "Time:                        13:57:00   Log-Likelihood:                -3494.6\n",
      "No. Observations:                 453   AIC:                             7003.\n",
      "Df Residuals:                     446   BIC:                             7032.\n",
      "Df Model:                           6                                         \n",
      "Covariance Type:            nonrobust                                         \n",
      "==============================================================================\n",
      "                 coef    std err          t      P>|t|      [0.025      0.975]\n",
      "------------------------------------------------------------------------------\n",
      "age            9.1363      2.252      4.057      0.000       4.711      13.562\n",
      "Female       -34.6944     76.535     -0.453      0.651    -185.109     115.720\n",
      "tiv            0.0009      0.000      3.813      0.000       0.000       0.001\n",
      "RMS          -88.8958     93.716     -0.949      0.343    -273.075      95.284\n",
      "PMS         -180.2838    110.939     -1.625      0.105    -398.313      37.745\n",
      "OIND         -52.4031    135.423     -0.387      0.699    -318.550     213.744\n",
      "intercept     19.1548    428.418      0.045      0.964    -822.814     861.124\n",
      "==============================================================================\n",
      "Omnibus:                        6.892   Durbin-Watson:                   2.003\n",
      "Prob(Omnibus):                  0.032   Jarque-Bera (JB):                7.364\n",
      "Skew:                           0.217   Prob(JB):                       0.0252\n",
      "Kurtosis:                       3.450   Cond. No.                     2.54e+07\n",
      "==============================================================================\n",
      "\n",
      "Notes:\n",
      "[1] Standard Errors assume that the covariance matrix of the errors is correctly specified.\n",
      "[2] The condition number is large, 2.54e+07. This might indicate that there are\n",
      "strong multicollinearity or other numerical problems.\n"
     ]
    }
   ],
   "source": [
    "volume = 'choroid_volume'\n",
    "\n",
    "data = df[['dz_type5', 'age', 'sex', 'tiv', 'flair_contrast', 'dzdur', volume, \"PRL_LEVEL\", \"lesion_vol_cubic\"]]\n",
    "data = data.rename(columns={volume: 'volume'})\n",
    "data = data[data['dz_type5'].isin(['RMS', 'PMS', 'NIND', 'OIND'])]\n",
    "data = data[data['flair_contrast'].isin(['WITH', 'WITHOUT'])]\n",
    "\n",
    "data = pd.concat((\n",
    "    data,\n",
    "    pd.get_dummies(data['dz_type5']),\n",
    "    pd.get_dummies(data['flair_contrast']),\n",
    "    pd.get_dummies(data['sex'])), axis=1)\n",
    "data['intercept'] = 1\n",
    "\n",
    "predictors = ['age', 'Female', 'tiv', 'RMS', 'PMS', 'OIND', 'intercept']\n",
    "# predictors = ['age', 'Female', 'tiv', 'PMS', 'RMS', 'OIND', 'intercept']\n",
    "res = sm.OLS(data['volume'].astype('float'), \n",
    "             data[predictors].astype('float'), missing='drop').fit()\n",
    "\n",
    "print(res.summary())"
   ]
  },
  {
   "cell_type": "markdown",
   "metadata": {},
   "source": [
    "Alternative to dummy coding, using R style formula"
   ]
  },
  {
   "cell_type": "code",
   "execution_count": 33,
   "metadata": {},
   "outputs": [
    {
     "name": "stdout",
     "output_type": "stream",
     "text": [
      "                            OLS Regression Results                            \n",
      "==============================================================================\n",
      "Dep. Variable:                 volume   R-squared:                       0.084\n",
      "Model:                            OLS   Adj. R-squared:                  0.075\n",
      "Method:                 Least Squares   F-statistic:                     8.787\n",
      "Date:                Thu, 30 Jan 2025   Prob (F-statistic):           8.55e-07\n",
      "Time:                        13:57:00   Log-Likelihood:                -2972.2\n",
      "No. Observations:                 386   AIC:                             5954.\n",
      "Df Residuals:                     381   BIC:                             5974.\n",
      "Df Model:                           4                                         \n",
      "Covariance Type:            nonrobust                                         \n",
      "=====================================================================================\n",
      "                        coef    std err          t      P>|t|      [0.025      0.975]\n",
      "-------------------------------------------------------------------------------------\n",
      "Intercept           -28.5674    396.102     -0.072      0.943    -807.388     750.253\n",
      "C(sex_male)[T.1]    105.2280     80.070      1.314      0.190     -52.206     262.662\n",
      "C(dz_type)[T.RMS]    98.4309     77.069      1.277      0.202     -53.103     249.965\n",
      "age                   8.4524      2.388      3.540      0.000       3.757      13.148\n",
      "tiv                   0.0008      0.000      3.154      0.002       0.000       0.001\n",
      "==============================================================================\n",
      "Omnibus:                        7.210   Durbin-Watson:                   1.995\n",
      "Prob(Omnibus):                  0.027   Jarque-Bera (JB):                8.158\n",
      "Skew:                           0.219   Prob(JB):                       0.0169\n",
      "Kurtosis:                       3.561   Cond. No.                     2.18e+07\n",
      "==============================================================================\n",
      "\n",
      "Notes:\n",
      "[1] Standard Errors assume that the covariance matrix of the errors is correctly specified.\n",
      "[2] The condition number is large, 2.18e+07. This might indicate that there are\n",
      "strong multicollinearity or other numerical problems.\n"
     ]
    }
   ],
   "source": [
    "volume = 'choroid_volume'\n",
    "\n",
    "data = df[['dz_type', 'age', 'sex', 'tiv', 'flair_contrast', 'dzdur', volume, \"PRL_LEVEL\", \"lesion_vol_cubic\"]]\n",
    "data = data.rename(columns={volume: 'volume'})\n",
    "data = data[data['dz_type'].isin(['RMS', 'PMS', 'NIND', 'OIND'])]\n",
    "data = data[data['flair_contrast'].isin(['WITH', 'WITHOUT'])]\n",
    "\n",
    "data['sex_male'] = data.sex.map({'Female': 0, 'Male': 1})\n",
    "\n",
    "fit = ols('volume ~ C(sex_male) + C(dz_type) + age + tiv', data=data).fit()\n",
    "\n",
    "print(fit.summary())"
   ]
  },
  {
   "cell_type": "code",
   "execution_count": 34,
   "metadata": {},
   "outputs": [
    {
     "name": "stdout",
     "output_type": "stream",
     "text": [
      "                            OLS Regression Results                            \n",
      "==============================================================================\n",
      "Dep. Variable:                 volume   R-squared:                       0.093\n",
      "Model:                            OLS   Adj. R-squared:                  0.079\n",
      "Method:                 Least Squares   F-statistic:                     6.650\n",
      "Date:                Thu, 30 Jan 2025   Prob (F-statistic):           1.04e-06\n",
      "Time:                        13:57:00   Log-Likelihood:                -3047.9\n",
      "No. Observations:                 396   AIC:                             6110.\n",
      "Df Residuals:                     389   BIC:                             6138.\n",
      "Df Model:                           6                                         \n",
      "Covariance Type:            nonrobust                                         \n",
      "====================================================================================\n",
      "                       coef    std err          t      P>|t|      [0.025      0.975]\n",
      "------------------------------------------------------------------------------------\n",
      "age                  6.5949      2.374      2.778      0.006       1.927      11.262\n",
      "Female             -75.8456     77.855     -0.974      0.331    -228.916      77.225\n",
      "tiv                  0.0009      0.000      3.448      0.001       0.000       0.001\n",
      "MS                -105.4442    167.329     -0.630      0.529    -434.426     223.538\n",
      "lesion_vol_cubic    62.2841     38.302      1.626      0.105     -13.021     137.589\n",
      "PRL_LEVEL           16.9231     41.814      0.405      0.686     -65.287      99.134\n",
      "intercept          120.2357    468.108      0.257      0.797    -800.102    1040.574\n",
      "==============================================================================\n",
      "Omnibus:                        7.521   Durbin-Watson:                   1.990\n",
      "Prob(Omnibus):                  0.023   Jarque-Bera (JB):               10.155\n",
      "Skew:                           0.149   Prob(JB):                      0.00623\n",
      "Kurtosis:                       3.726   Cond. No.                     2.64e+07\n",
      "==============================================================================\n",
      "\n",
      "Notes:\n",
      "[1] Standard Errors assume that the covariance matrix of the errors is correctly specified.\n",
      "[2] The condition number is large, 2.64e+07. This might indicate that there are\n",
      "strong multicollinearity or other numerical problems.\n"
     ]
    }
   ],
   "source": [
    "volume = 'choroid_volume'\n",
    "\n",
    "data = df[['dz_type4', 'age', 'sex', 'tiv', 'flair_contrast', 'dzdur', volume, \"PRL_LEVEL\", \"lesion_vol_cubic\"]]\n",
    "data = data.rename(columns={volume: 'volume'})\n",
    "data = data[data['dz_type4'].isin(['MS', 'HC'])]\n",
    "data = data[data['flair_contrast'].isin(['WITH', 'WITHOUT'])]\n",
    "\n",
    "data = pd.concat((\n",
    "    data,\n",
    "    pd.get_dummies(data['dz_type4']),\n",
    "    pd.get_dummies(data['flair_contrast']),\n",
    "    pd.get_dummies(data['sex'])), axis=1)\n",
    "data['intercept'] = 1\n",
    "\n",
    "# predictors = ['age', 'Female', 'tiv', 'RMS', 'PMS', 'PRL_LEVEL', 'lesion_vol_cubic', 'intercept']\n",
    "predictors = ['age', 'Female', 'tiv', 'MS', 'lesion_vol_cubic', 'PRL_LEVEL', 'intercept']\n",
    "res = sm.OLS(data['volume'].astype('float'), \n",
    "             data[predictors].astype('float'), missing='drop').fit()\n",
    "\n",
    "print(res.summary())"
   ]
  },
  {
   "cell_type": "markdown",
   "metadata": {},
   "source": [
    "#### Pineal\n",
    "\n",
    "##### MS vs not-MS\n",
    "\n",
    "Note: this is significant for MS vs Not-MS, but not when adding disease duration as a covariate"
   ]
  },
  {
   "cell_type": "code",
   "execution_count": 35,
   "metadata": {},
   "outputs": [
    {
     "name": "stdout",
     "output_type": "stream",
     "text": [
      "                            OLS Regression Results                            \n",
      "==============================================================================\n",
      "Dep. Variable:                 volume   R-squared:                       0.071\n",
      "Model:                            OLS   Adj. R-squared:                  0.061\n",
      "Method:                 Least Squares   F-statistic:                     6.896\n",
      "Date:                Thu, 30 Jan 2025   Prob (F-statistic):           3.24e-06\n",
      "Time:                        13:57:00   Log-Likelihood:                -2772.3\n",
      "No. Observations:                 455   AIC:                             5557.\n",
      "Df Residuals:                     449   BIC:                             5581.\n",
      "Df Model:                           5                                         \n",
      "Covariance Type:            nonrobust                                         \n",
      "==============================================================================\n",
      "                 coef    std err          t      P>|t|      [0.025      0.975]\n",
      "------------------------------------------------------------------------------\n",
      "age           -0.7129      0.409     -1.744      0.082      -1.516       0.090\n",
      "Male         -20.5618     14.812     -1.388      0.166     -49.671       8.548\n",
      "tiv         5.347e-05    4.6e-05      1.163      0.245   -3.69e-05       0.000\n",
      "WITH          30.3196     10.427      2.908      0.004       9.828      50.812\n",
      "MS           -56.6826     14.258     -3.975      0.000     -84.704     -28.662\n",
      "intercept    172.1128     75.108      2.292      0.022      24.505     319.720\n",
      "==============================================================================\n",
      "Omnibus:                      264.196   Durbin-Watson:                   1.893\n",
      "Prob(Omnibus):                  0.000   Jarque-Bera (JB):             3858.988\n",
      "Skew:                           2.188   Prob(JB):                         0.00\n",
      "Kurtosis:                      16.579   Cond. No.                     2.25e+07\n",
      "==============================================================================\n",
      "\n",
      "Notes:\n",
      "[1] Standard Errors assume that the covariance matrix of the errors is correctly specified.\n",
      "[2] The condition number is large, 2.25e+07. This might indicate that there are\n",
      "strong multicollinearity or other numerical problems.\n"
     ]
    }
   ],
   "source": [
    "volume = 'pineal_volume'\n",
    "\n",
    "data = df[['dz_type2', 'age', 'sex', 'tiv', 'flair_contrast', 'dzdur', volume, 'PRL_LEVEL', 'lesion_vol_cubic']]\n",
    "data = data.rename(columns={volume: 'volume'})\n",
    "data = data[data['dz_type2'].isin(['MS', '!MS'])]\n",
    "data = data[data['flair_contrast'].isin(['WITH', 'WITHOUT'])]\n",
    "\n",
    "data = pd.concat((\n",
    "    data,\n",
    "    pd.get_dummies(data['dz_type2']),\n",
    "    pd.get_dummies(data['flair_contrast']),\n",
    "    pd.get_dummies(data['sex'])), axis=1)\n",
    "data['intercept'] = 1\n",
    "\n",
    "predictors = ['age', 'Male', 'tiv', 'WITH', 'MS', 'intercept']\n",
    "\n",
    "res = sm.OLS(data['volume'].astype('float'), \n",
    "             data[predictors].astype('float'), missing='drop').fit()\n",
    "\n",
    "print(res.summary())"
   ]
  },
  {
   "cell_type": "markdown",
   "metadata": {},
   "source": [
    "##### MS vs NIND vs OIND\n",
    "\n",
    "Note: this is significant for MS vs Not-MS, but not when adding disease duration as a covariate"
   ]
  },
  {
   "cell_type": "code",
   "execution_count": 36,
   "metadata": {},
   "outputs": [
    {
     "name": "stdout",
     "output_type": "stream",
     "text": [
      "                            OLS Regression Results                            \n",
      "==============================================================================\n",
      "Dep. Variable:                 volume   R-squared:                       0.085\n",
      "Model:                            OLS   Adj. R-squared:                  0.073\n",
      "Method:                 Least Squares   F-statistic:                     6.908\n",
      "Date:                Thu, 30 Jan 2025   Prob (F-statistic):           4.96e-07\n",
      "Time:                        13:57:00   Log-Likelihood:                -2757.4\n",
      "No. Observations:                 453   AIC:                             5529.\n",
      "Df Residuals:                     446   BIC:                             5558.\n",
      "Df Model:                           6                                         \n",
      "Covariance Type:            nonrobust                                         \n",
      "==============================================================================\n",
      "                 coef    std err          t      P>|t|      [0.025      0.975]\n",
      "------------------------------------------------------------------------------\n",
      "age           -0.7451      0.409     -1.821      0.069      -1.549       0.059\n",
      "Female        20.3567     14.748      1.380      0.168      -8.627      49.340\n",
      "tiv          5.15e-05   4.58e-05      1.125      0.261   -3.84e-05       0.000\n",
      "WITH          30.4310     10.389      2.929      0.004      10.013      50.849\n",
      "MS           -83.2873     18.194     -4.578      0.000    -119.043     -47.531\n",
      "OIND         -53.9780     26.609     -2.029      0.043    -106.272      -1.684\n",
      "intercept    182.7215     84.404      2.165      0.031      16.843     348.600\n",
      "==============================================================================\n",
      "Omnibus:                      250.822   Durbin-Watson:                   1.926\n",
      "Prob(Omnibus):                  0.000   Jarque-Bera (JB):             3262.152\n",
      "Skew:                           2.090   Prob(JB):                         0.00\n",
      "Kurtosis:                      15.464   Cond. No.                     2.54e+07\n",
      "==============================================================================\n",
      "\n",
      "Notes:\n",
      "[1] Standard Errors assume that the covariance matrix of the errors is correctly specified.\n",
      "[2] The condition number is large, 2.54e+07. This might indicate that there are\n",
      "strong multicollinearity or other numerical problems.\n"
     ]
    }
   ],
   "source": [
    "volume = 'pineal_volume'\n",
    "\n",
    "data = df[['dz_type3', 'age', 'sex', 'tiv', 'flair_contrast', 'dzdur', volume]]\n",
    "data = data.rename(columns={volume: 'volume'})\n",
    "data = data[data['dz_type3'].isin(['MS', 'OIND', 'NIND'])]\n",
    "data = data[data['flair_contrast'].isin(['WITH', 'WITHOUT'])]\n",
    "\n",
    "data = pd.concat((\n",
    "    data,\n",
    "    pd.get_dummies(data['dz_type3']),\n",
    "    pd.get_dummies(data['flair_contrast']),\n",
    "    pd.get_dummies(data['sex'])), axis=1)\n",
    "data['intercept'] = 1\n",
    "\n",
    "predictors = ['age', 'Female', 'tiv', 'WITH', 'MS', 'OIND', 'intercept']\n",
    "\n",
    "res = sm.OLS(data['volume'].astype('float'), \n",
    "             data[predictors].astype('float'), missing='drop').fit()\n",
    "\n",
    "print(res.summary())"
   ]
  },
  {
   "cell_type": "markdown",
   "metadata": {},
   "source": [
    "##### PMS v RMS"
   ]
  },
  {
   "cell_type": "code",
   "execution_count": 37,
   "metadata": {},
   "outputs": [
    {
     "name": "stdout",
     "output_type": "stream",
     "text": [
      "                            OLS Regression Results                            \n",
      "==============================================================================\n",
      "Dep. Variable:                 volume   R-squared:                       0.078\n",
      "Model:                            OLS   Adj. R-squared:                  0.061\n",
      "Method:                 Least Squares   F-statistic:                     4.679\n",
      "Date:                Thu, 30 Jan 2025   Prob (F-statistic):           1.63e-05\n",
      "Time:                        13:57:00   Log-Likelihood:                -2753.6\n",
      "No. Observations:                 452   AIC:                             5525.\n",
      "Df Residuals:                     443   BIC:                             5562.\n",
      "Df Model:                           8                                         \n",
      "Covariance Type:            nonrobust                                         \n",
      "====================================================================================\n",
      "                       coef    std err          t      P>|t|      [0.025      0.975]\n",
      "------------------------------------------------------------------------------------\n",
      "age                 -0.3197      0.480     -0.665      0.506      -1.264       0.625\n",
      "Female              19.2303     15.155      1.269      0.205     -10.554      49.015\n",
      "tiv               4.964e-05   4.64e-05      1.070      0.285   -4.15e-05       0.000\n",
      "RMS                -80.7121     19.000     -4.248      0.000    -118.053     -43.371\n",
      "PMS                -96.5020     22.666     -4.258      0.000    -141.048     -51.956\n",
      "OIND               -56.3787     26.796     -2.104      0.036    -109.042      -3.716\n",
      "PRL_LEVEL            6.2899      8.356      0.753      0.452     -10.132      22.712\n",
      "lesion_vol_cubic   -13.5058      7.493     -1.802      0.072     -28.233       1.221\n",
      "intercept          203.5582     84.774      2.401      0.017      36.949     370.168\n",
      "==============================================================================\n",
      "Omnibus:                      249.569   Durbin-Watson:                   1.932\n",
      "Prob(Omnibus):                  0.000   Jarque-Bera (JB):             3162.971\n",
      "Skew:                           2.091   Prob(JB):                         0.00\n",
      "Kurtosis:                      15.266   Cond. No.                     2.54e+07\n",
      "==============================================================================\n",
      "\n",
      "Notes:\n",
      "[1] Standard Errors assume that the covariance matrix of the errors is correctly specified.\n",
      "[2] The condition number is large, 2.54e+07. This might indicate that there are\n",
      "strong multicollinearity or other numerical problems.\n"
     ]
    }
   ],
   "source": [
    "volume = 'pineal_volume'\n",
    "\n",
    "data = df[['dz_type5', 'age', 'sex', 'tiv', 'flair_contrast', 'dzdur', volume, 'PRL_LEVEL', 'lesion_vol_cubic']]\n",
    "data = data.rename(columns={volume: 'volume'})\n",
    "data = data[data['dz_type5'].isin(['RMS', 'PMS', 'NIND', 'OIND'])]\n",
    "data = data[data['flair_contrast'].isin(['WITH', 'WITHOUT'])]\n",
    "\n",
    "data = pd.concat((\n",
    "    data,\n",
    "    pd.get_dummies(data['dz_type5']),\n",
    "    pd.get_dummies(data['flair_contrast']),\n",
    "    pd.get_dummies(data['sex'])), axis=1)\n",
    "data['intercept'] = 1\n",
    "\n",
    "predictors = ['age', 'Female', 'tiv', 'PMS', 'RMS', 'OIND', 'intercept']\n",
    "predictors = ['age', 'Female', 'tiv', 'RMS', 'PMS', 'OIND', 'PRL_LEVEL', 'lesion_vol_cubic', 'intercept']\n",
    "\n",
    "res = sm.OLS(data['volume'].astype('float'), \n",
    "             data[predictors].astype('float'), missing='drop').fit()\n",
    "\n",
    "print(res.summary())"
   ]
  },
  {
   "cell_type": "markdown",
   "metadata": {},
   "source": [
    "#### Pituitary\n",
    "\n",
    "##### MS vs not-MS"
   ]
  },
  {
   "cell_type": "code",
   "execution_count": 38,
   "metadata": {},
   "outputs": [
    {
     "name": "stdout",
     "output_type": "stream",
     "text": [
      "                            OLS Regression Results                            \n",
      "==============================================================================\n",
      "Dep. Variable:                 volume   R-squared:                       0.079\n",
      "Model:                            OLS   Adj. R-squared:                  0.069\n",
      "Method:                 Least Squares   F-statistic:                     7.687\n",
      "Date:                Thu, 30 Jan 2025   Prob (F-statistic):           5.98e-07\n",
      "Time:                        13:57:00   Log-Likelihood:                -3061.9\n",
      "No. Observations:                 455   AIC:                             6136.\n",
      "Df Residuals:                     449   BIC:                             6160.\n",
      "Df Model:                           5                                         \n",
      "Covariance Type:            nonrobust                                         \n",
      "==============================================================================\n",
      "                 coef    std err          t      P>|t|      [0.025      0.975]\n",
      "------------------------------------------------------------------------------\n",
      "age           -0.1320      0.772     -0.171      0.864      -1.650       1.386\n",
      "Male         -14.7668     27.993     -0.528      0.598     -69.780      40.246\n",
      "tiv         2.993e-05   8.69e-05      0.344      0.731      -0.000       0.000\n",
      "WITH        -120.2990     19.706     -6.105      0.000    -159.026     -81.572\n",
      "MS           -38.4748     26.946     -1.428      0.154     -91.431      14.481\n",
      "intercept    707.3028    141.945      4.983      0.000     428.344     986.261\n",
      "==============================================================================\n",
      "Omnibus:                       13.838   Durbin-Watson:                   2.113\n",
      "Prob(Omnibus):                  0.001   Jarque-Bera (JB):               15.605\n",
      "Skew:                          -0.347   Prob(JB):                     0.000409\n",
      "Kurtosis:                       3.585   Cond. No.                     2.25e+07\n",
      "==============================================================================\n",
      "\n",
      "Notes:\n",
      "[1] Standard Errors assume that the covariance matrix of the errors is correctly specified.\n",
      "[2] The condition number is large, 2.25e+07. This might indicate that there are\n",
      "strong multicollinearity or other numerical problems.\n"
     ]
    }
   ],
   "source": [
    "volume = 'pituitary_volume'\n",
    "\n",
    "data = df[['dz_type2', 'age', 'sex', 'tiv', 'flair_contrast', 'dzdur', volume]]\n",
    "data = data.rename(columns={volume: 'volume'})\n",
    "data = data[data['dz_type2'].isin(['MS', '!MS'])]\n",
    "data = data[data['flair_contrast'].isin(['WITH', 'WITHOUT'])]\n",
    "\n",
    "data = pd.concat((\n",
    "    data,\n",
    "    pd.get_dummies(data['dz_type2']),\n",
    "    pd.get_dummies(data['flair_contrast']),\n",
    "    pd.get_dummies(data['sex'])), axis=1)\n",
    "data['intercept'] = 1\n",
    "\n",
    "predictors = ['age', 'Male', 'tiv', 'WITH', 'MS', 'intercept']\n",
    "\n",
    "res = sm.OLS(data['volume'].astype('float'), \n",
    "             data[predictors].astype('float'), missing='drop').fit()\n",
    "\n",
    "print(res.summary())"
   ]
  },
  {
   "cell_type": "markdown",
   "metadata": {},
   "source": [
    "##### MS vs NIND vs OIND"
   ]
  },
  {
   "cell_type": "code",
   "execution_count": 39,
   "metadata": {},
   "outputs": [
    {
     "name": "stdout",
     "output_type": "stream",
     "text": [
      "                            OLS Regression Results                            \n",
      "==============================================================================\n",
      "Dep. Variable:                 volume   R-squared:                       0.080\n",
      "Model:                            OLS   Adj. R-squared:                  0.067\n",
      "Method:                 Least Squares   F-statistic:                     6.449\n",
      "Date:                Thu, 30 Jan 2025   Prob (F-statistic):           1.56e-06\n",
      "Time:                        13:57:00   Log-Likelihood:                -3048.9\n",
      "No. Observations:                 453   AIC:                             6112.\n",
      "Df Residuals:                     446   BIC:                             6141.\n",
      "Df Model:                           6                                         \n",
      "Covariance Type:            nonrobust                                         \n",
      "==============================================================================\n",
      "                 coef    std err          t      P>|t|      [0.025      0.975]\n",
      "------------------------------------------------------------------------------\n",
      "age           -0.1503      0.779     -0.193      0.847      -1.681       1.380\n",
      "Female        14.0190     28.063      0.500      0.618     -41.132      69.170\n",
      "tiv         2.925e-05   8.71e-05      0.336      0.737      -0.000       0.000\n",
      "WITH        -121.0861     19.769     -6.125      0.000    -159.938     -82.234\n",
      "MS           -48.1590     34.620     -1.391      0.165    -116.198      19.880\n",
      "OIND         -28.4515     50.633     -0.562      0.574    -127.960      71.057\n",
      "intercept    705.1451    160.609      4.390      0.000     389.501    1020.789\n",
      "==============================================================================\n",
      "Omnibus:                       12.874   Durbin-Watson:                   2.117\n",
      "Prob(Omnibus):                  0.002   Jarque-Bera (JB):               14.166\n",
      "Skew:                          -0.340   Prob(JB):                     0.000839\n",
      "Kurtosis:                       3.536   Cond. No.                     2.54e+07\n",
      "==============================================================================\n",
      "\n",
      "Notes:\n",
      "[1] Standard Errors assume that the covariance matrix of the errors is correctly specified.\n",
      "[2] The condition number is large, 2.54e+07. This might indicate that there are\n",
      "strong multicollinearity or other numerical problems.\n"
     ]
    }
   ],
   "source": [
    "volume = 'pituitary_volume'\n",
    "\n",
    "data = df[['dz_type3', 'age', 'sex', 'tiv', 'flair_contrast', 'dzdur', volume]]\n",
    "data = data.rename(columns={volume: 'volume'})\n",
    "data = data[data['dz_type3'].isin(['MS', 'OIND', 'NIND'])]\n",
    "data = data[data['flair_contrast'].isin(['WITH', 'WITHOUT'])]\n",
    "\n",
    "data = pd.concat((\n",
    "    data,\n",
    "    pd.get_dummies(data['dz_type3']),\n",
    "    pd.get_dummies(data['flair_contrast']),\n",
    "    pd.get_dummies(data['sex'])), axis=1)\n",
    "data['intercept'] = 1\n",
    "\n",
    "predictors = ['age', 'Female', 'tiv', 'WITH', 'MS', 'OIND', 'intercept']\n",
    "\n",
    "res = sm.OLS(data['volume'].astype('float'), \n",
    "             data[predictors].astype('float'), missing='drop').fit()\n",
    "\n",
    "print(res.summary())"
   ]
  },
  {
   "cell_type": "markdown",
   "metadata": {},
   "source": [
    "##### PMS v RMS"
   ]
  },
  {
   "cell_type": "code",
   "execution_count": 40,
   "metadata": {},
   "outputs": [
    {
     "name": "stdout",
     "output_type": "stream",
     "text": [
      "                            OLS Regression Results                            \n",
      "==============================================================================\n",
      "Dep. Variable:                 volume   R-squared:                       0.014\n",
      "Model:                            OLS   Adj. R-squared:                 -0.004\n",
      "Method:                 Least Squares   F-statistic:                    0.7954\n",
      "Date:                Thu, 30 Jan 2025   Prob (F-statistic):              0.607\n",
      "Time:                        13:57:00   Log-Likelihood:                -3056.7\n",
      "No. Observations:                 452   AIC:                             6131.\n",
      "Df Residuals:                     443   BIC:                             6168.\n",
      "Df Model:                           8                                         \n",
      "Covariance Type:            nonrobust                                         \n",
      "====================================================================================\n",
      "                       coef    std err          t      P>|t|      [0.025      0.975]\n",
      "------------------------------------------------------------------------------------\n",
      "age                  0.8170      0.940      0.870      0.385      -1.030       2.663\n",
      "Female              10.2190     29.634      0.345      0.730     -48.022      68.460\n",
      "tiv               1.503e-05   9.07e-05      0.166      0.868      -0.000       0.000\n",
      "RMS                -33.2861     37.152     -0.896      0.371    -106.303      39.730\n",
      "PMS                -14.1734     44.321     -0.320      0.749    -101.278      72.932\n",
      "OIND               -19.7355     52.397     -0.377      0.707    -122.714      83.243\n",
      "PRL_LEVEL           17.7968     16.339      1.089      0.277     -14.316      49.909\n",
      "lesion_vol_cubic   -31.3163     14.653     -2.137      0.033     -60.114      -2.519\n",
      "intercept          632.7985    165.769      3.817      0.000     307.008     958.589\n",
      "==============================================================================\n",
      "Omnibus:                       19.230   Durbin-Watson:                   2.043\n",
      "Prob(Omnibus):                  0.000   Jarque-Bera (JB):               21.514\n",
      "Skew:                          -0.451   Prob(JB):                     2.13e-05\n",
      "Kurtosis:                       3.575   Cond. No.                     2.54e+07\n",
      "==============================================================================\n",
      "\n",
      "Notes:\n",
      "[1] Standard Errors assume that the covariance matrix of the errors is correctly specified.\n",
      "[2] The condition number is large, 2.54e+07. This might indicate that there are\n",
      "strong multicollinearity or other numerical problems.\n"
     ]
    }
   ],
   "source": [
    "volume = 'pituitary_volume'\n",
    "\n",
    "data = df[['dz_type5', 'age', 'sex', 'tiv', 'flair_contrast', 'dzdur', volume, 'PRL_LEVEL', 'lesion_vol_cubic']]\n",
    "data = data.rename(columns={volume: 'volume'})\n",
    "data = data[data['dz_type5'].isin(['RMS', 'PMS', 'OIND', 'NIND'])]\n",
    "data = data[data['flair_contrast'].isin(['WITH', 'WITHOUT'])]\n",
    "\n",
    "data = pd.concat((\n",
    "    data,\n",
    "    pd.get_dummies(data['dz_type5']),\n",
    "    pd.get_dummies(data['flair_contrast']),\n",
    "    pd.get_dummies(data['sex'])), axis=1)\n",
    "data['intercept'] = 1\n",
    "\n",
    "predictors = ['age', 'Female', 'tiv', 'PMS', 'RMS', 'OIND', 'intercept']\n",
    "predictors = ['age', 'Female', 'tiv', 'RMS', 'PMS', 'OIND', 'PRL_LEVEL', 'lesion_vol_cubic', 'intercept']\n",
    "\n",
    "res = sm.OLS(data['volume'].astype('float'), \n",
    "             data[predictors].astype('float'), missing='drop').fit()\n",
    "\n",
    "print(res.summary())"
   ]
  },
  {
   "cell_type": "markdown",
   "metadata": {},
   "source": [
    "### Ordinal Regression on EDSS\n",
    "\n",
    "Predict EDSS score using volumes. Use MS vs OIND vs NIND as covariate (in addition to the others)"
   ]
  },
  {
   "cell_type": "code",
   "execution_count": 41,
   "metadata": {},
   "outputs": [
    {
     "name": "stdout",
     "output_type": "stream",
     "text": [
      "                            OLS Regression Results                            \n",
      "==============================================================================\n",
      "Dep. Variable:         extracted_EDSS   R-squared:                       0.252\n",
      "Model:                            OLS   Adj. R-squared:                  0.233\n",
      "Method:                 Least Squares   F-statistic:                     12.95\n",
      "Date:                Thu, 30 Jan 2025   Prob (F-statistic):           8.23e-18\n",
      "Time:                        13:57:00   Log-Likelihood:                -690.70\n",
      "No. Observations:                 355   AIC:                             1401.\n",
      "Df Residuals:                     345   BIC:                             1440.\n",
      "Df Model:                           9                                         \n",
      "Covariance Type:            nonrobust                                         \n",
      "====================================================================================\n",
      "                       coef    std err          t      P>|t|      [0.025      0.975]\n",
      "------------------------------------------------------------------------------------\n",
      "age                  0.0427      0.010      4.301      0.000       0.023       0.062\n",
      "Female              -0.4137      0.261     -1.584      0.114      -0.927       0.100\n",
      "tiv              -7.948e-07   8.48e-07     -0.937      0.349   -2.46e-06    8.74e-07\n",
      "PRL_LEVEL            0.3081      0.142      2.164      0.031       0.028       0.588\n",
      "lesion_vol_cubic     0.3666      0.128      2.863      0.004       0.115       0.618\n",
      "choroid_volume      -0.0003      0.000     -1.528      0.127      -0.001    7.54e-05\n",
      "pineal_volume       -0.0004      0.001     -0.437      0.663      -0.002       0.001\n",
      "pituitary_volume     0.0002      0.000      0.391      0.696      -0.001       0.001\n",
      "dzdur                0.0390      0.012      3.340      0.001       0.016       0.062\n",
      "intercept            1.3984      1.479      0.945      0.345      -1.511       4.308\n",
      "==============================================================================\n",
      "Omnibus:                       32.955   Durbin-Watson:                   1.981\n",
      "Prob(Omnibus):                  0.000   Jarque-Bera (JB):               39.631\n",
      "Skew:                           0.808   Prob(JB):                     2.48e-09\n",
      "Kurtosis:                       3.263   Cond. No.                     2.45e+07\n",
      "==============================================================================\n",
      "\n",
      "Notes:\n",
      "[1] Standard Errors assume that the covariance matrix of the errors is correctly specified.\n",
      "[2] The condition number is large, 2.45e+07. This might indicate that there are\n",
      "strong multicollinearity or other numerical problems.\n"
     ]
    }
   ],
   "source": [
    "data = df[\n",
    "    [\n",
    "        \"dz_type3\",\n",
    "        \"dz_type\",\n",
    "        \"age\",\n",
    "        \"sex\",\n",
    "        \"tiv\",\n",
    "        \"flair_contrast\",\n",
    "        \"extracted_EDSS\",\n",
    "        \"ARMSS\",\n",
    "        \"PRL_LEVEL\",\n",
    "        \"lesion_vol_cubic\",\n",
    "        \"MSSS\",\n",
    "        \"choroid_volume\",\n",
    "        \"pineal_volume\",\n",
    "        \"pituitary_volume\",\n",
    "        \"thalamus\",\n",
    "        \"brain\",\n",
    "        \"cortical_thickness\",\n",
    "        \"dzdur\"\n",
    "    ]\n",
    "]\n",
    "data = data[data[\"dz_type3\"].isin([\"MS\"])]\n",
    "data.loc[:, [\"dz_type3_factor\"]], _ = data[\"dz_type3\"].factorize(sort=False)\n",
    "\n",
    "data = data[data[\"flair_contrast\"].isin([\"WITH\", \"WITHOUT\"])]\n",
    "# df['extracted_EDSS'] = df['extracted_EDSS'] * 2\n",
    "data.loc[data[\"extracted_EDSS\"] == \".\", \"extracted_EDSS\"] = None\n",
    "# data['extracted_EDSS'] = pd.Categorical(data['extracted_EDSS'], ordered=True)\n",
    "\n",
    "data = pd.concat(\n",
    "    (\n",
    "        data,\n",
    "        pd.get_dummies(data[\"dz_type\"]),\n",
    "        pd.get_dummies(data[\"flair_contrast\"]),\n",
    "        pd.get_dummies(data[\"sex\"]),\n",
    "    ),\n",
    "    axis=1,\n",
    ")\n",
    "data[\"intercept\"] = 1\n",
    "\n",
    "# predictors = ['age', 'Female', 'tiv', 'choroid_volume', 'pineal_volume', 'pituitary_volume', 'thalamus', 'brain', 'cortical_thickness', 'intercept']\n",
    "# predictors = ['age', 'Female', 'tiv', 'RMS', 'PRL_LEVEL', 'lesion_vol_cubic', 'choroid_volume', 'pineal_volume', 'pituitary_volume', 'thalamus', 'brain', 'cortical_thickness', 'intercept']\n",
    "\n",
    "predictors = [\n",
    "    \"age\",\n",
    "    \"Female\",\n",
    "    \"tiv\",\n",
    "    \"PRL_LEVEL\",\n",
    "    \"lesion_vol_cubic\",\n",
    "    \"choroid_volume\",\n",
    "    \"pineal_volume\",\n",
    "    \"pituitary_volume\",\n",
    "    \"dzdur\",\n",
    "    \"intercept\",\n",
    "]\n",
    "\n",
    "data = data.dropna()\n",
    "\n",
    "# mod = OrderedModel(data2['numEDSS'],\n",
    "#                    data2[predictors].astype('float'), distr='probit', disp=False)\n",
    "# res = mod.fit(method='nm')\n",
    "\n",
    "res = sm.OLS(\n",
    "    data[\"extracted_EDSS\"].astype(\"float\"), data[predictors].astype(\"float\")\n",
    ").fit(missing=\"drop\")\n",
    "\n",
    "print(res.summary())"
   ]
  },
  {
   "cell_type": "code",
   "execution_count": 42,
   "metadata": {},
   "outputs": [
    {
     "name": "stdout",
     "output_type": "stream",
     "text": [
      "                            OLS Regression Results                            \n",
      "==============================================================================\n",
      "Dep. Variable:                   MSSS   R-squared:                       0.201\n",
      "Model:                            OLS   Adj. R-squared:                  0.173\n",
      "Method:                 Least Squares   F-statistic:                     7.153\n",
      "Date:                Thu, 30 Jan 2025   Prob (F-statistic):           1.14e-11\n",
      "Time:                        13:57:00   Log-Likelihood:                -782.73\n",
      "No. Observations:                 355   AIC:                             1591.\n",
      "Df Residuals:                     342   BIC:                             1642.\n",
      "Df Model:                          12                                         \n",
      "Covariance Type:            nonrobust                                         \n",
      "======================================================================================\n",
      "                         coef    std err          t      P>|t|      [0.025      0.975]\n",
      "--------------------------------------------------------------------------------------\n",
      "age                   -0.0184      0.013     -1.442      0.150      -0.044       0.007\n",
      "Female                -0.0822      0.353     -0.233      0.816      -0.777       0.613\n",
      "tiv                -1.523e-07   1.17e-06     -0.131      0.896   -2.44e-06    2.14e-06\n",
      "RMS                   -2.5310      0.335     -7.561      0.000      -3.189      -1.873\n",
      "PRL_LEVEL              0.3787      0.188      2.017      0.045       0.009       0.748\n",
      "lesion_vol_cubic      -0.0710      0.196     -0.363      0.717      -0.456       0.314\n",
      "choroid_volume     -9.898e-05      0.000     -0.441      0.659      -0.001       0.000\n",
      "pineal_volume         -0.0010      0.001     -0.805      0.422      -0.003       0.001\n",
      "pituitary_volume      -0.0003      0.001     -0.458      0.647      -0.001       0.001\n",
      "thalamus              -0.0677      0.081     -0.836      0.404      -0.227       0.092\n",
      "brain                  0.0018      0.002      0.856      0.393      -0.002       0.006\n",
      "cortical_thickness    -0.8450      1.462     -0.578      0.564      -3.721       2.031\n",
      "intercept              7.5623      3.985      1.898      0.059      -0.275      15.400\n",
      "==============================================================================\n",
      "Omnibus:                       32.304   Durbin-Watson:                   1.948\n",
      "Prob(Omnibus):                  0.000   Jarque-Bera (JB):               38.416\n",
      "Skew:                           0.781   Prob(JB):                     4.55e-09\n",
      "Kurtosis:                       3.395   Cond. No.                     5.19e+07\n",
      "==============================================================================\n",
      "\n",
      "Notes:\n",
      "[1] Standard Errors assume that the covariance matrix of the errors is correctly specified.\n",
      "[2] The condition number is large, 5.19e+07. This might indicate that there are\n",
      "strong multicollinearity or other numerical problems.\n"
     ]
    }
   ],
   "source": [
    "data = df[['dz_type3', 'dz_type', 'age', 'sex', 'tiv', 'flair_contrast', 'extracted_EDSS', 'ARMSS', 'PRL_LEVEL', \"lesion_vol_cubic\",\n",
    "           'MSSS', 'choroid_volume', 'pineal_volume', 'pituitary_volume', 'thalamus', 'brain', 'cortical_thickness']]\n",
    "data = data[data['dz_type3'].isin(['MS'])]\n",
    "data.loc[:, ['dz_type3_factor']], _ = data['dz_type3'].factorize(sort=False)\n",
    "\n",
    "data = data[data['flair_contrast'].isin(['WITH', 'WITHOUT'])]\n",
    "# df['extracted_EDSS'] = df['extracted_EDSS'] * 2\n",
    "data.loc[data['extracted_EDSS'] == \".\", \"extracted_EDSS\"] = None\n",
    "# data['extracted_EDSS'] = pd.Categorical(data['extracted_EDSS'], ordered=True)\n",
    "\n",
    "data = pd.concat((\n",
    "    data,\n",
    "    pd.get_dummies(data['dz_type']),\n",
    "    pd.get_dummies(data['flair_contrast']),\n",
    "    pd.get_dummies(data['sex'])), axis=1)\n",
    "data['intercept'] = 1\n",
    "\n",
    "# predictors = ['age', 'Female', 'tiv', 'choroid_volume', 'pineal_volume', 'pituitary_volume', 'thalamus', 'brain', 'cortical_thickness', 'intercept']\n",
    "predictors = ['age', 'Female', 'tiv', 'RMS', 'PRL_LEVEL', 'lesion_vol_cubic', 'choroid_volume', 'pineal_volume', 'pituitary_volume', 'thalamus', 'brain', 'cortical_thickness', 'intercept']\n",
    "\n",
    "data = data.dropna()\n",
    "\n",
    "# mod = OrderedModel(data2['numEDSS'], \n",
    "#                    data2[predictors].astype('float'), distr='probit', disp=False)\n",
    "# res = mod.fit(method='nm')\n",
    "\n",
    "res = sm.OLS(data['MSSS'].astype('float'), \n",
    "             data[predictors].astype('float')).fit(missing='drop')\n",
    "\n",
    "print(res.summary())"
   ]
  },
  {
   "cell_type": "markdown",
   "metadata": {},
   "source": [
    "### JASP Data"
   ]
  },
  {
   "cell_type": "code",
   "execution_count": 44,
   "metadata": {},
   "outputs": [
    {
     "name": "stderr",
     "output_type": "stream",
     "text": [
      "/tmp/ipykernel_315672/1750535439.py:34: FutureWarning: Setting an item of incompatible dtype is deprecated and will raise an error in a future version of pandas. Value '1' has dtype incompatible with bool, please explicitly cast to a compatible dtype first.\n",
      "  df_jasp.loc[i, 'Female'] = 1\n",
      "/tmp/ipykernel_315672/1750535439.py:41: FutureWarning: Setting an item of incompatible dtype is deprecated and will raise an error in a future version of pandas. Value '0' has dtype incompatible with bool, please explicitly cast to a compatible dtype first.\n",
      "  df_jasp.loc[i, 'Male'] = 0\n"
     ]
    }
   ],
   "source": [
    "columns = [\n",
    "    \"dz_type\",\n",
    "    \"dz_type2\",\n",
    "    \"dz_type3\",\n",
    "    \"dz_type4\",\n",
    "    \"dz_type5\",\n",
    "    \"age\",\n",
    "    \"sex\",\n",
    "    \"tiv\",\n",
    "    \"flair_contrast\",\n",
    "    \"extracted_EDSS\",\n",
    "    \"ARMSS\",\n",
    "    \"PRL_LEVEL\",\n",
    "    \"lesion_vol_cubic\",\n",
    "    \"MSSS\",\n",
    "    \"choroid_volume\",\n",
    "    \"pineal_volume\",\n",
    "    \"pituitary_volume\",\n",
    "    \"thalamus\",\n",
    "    \"brain\",\n",
    "    \"cortical_thickness\",\n",
    "    \"dzdur\"\n",
    "]\n",
    "df_jasp = df[columns]\n",
    "df_jasp = pd.concat((\n",
    "    df_jasp,\n",
    "    pd.get_dummies(df_jasp['sex'])),\n",
    "    axis=1\n",
    ")\n",
    "df_jasp = df_jasp.loc[df_jasp['dzdur'] != \".\", :]\n",
    "\n",
    "for i, row in df_jasp.iterrows():\n",
    "    if row['Female']:\n",
    "        df_jasp.loc[i, 'Female'] = 1\n",
    "    else:\n",
    "        df_jasp.loc[i, 'Female'] = 0\n",
    "    \n",
    "    if row['Male']:\n",
    "        df_jasp.loc[i, 'Male'] = 1\n",
    "    else:\n",
    "        df_jasp.loc[i, 'Male'] = 0"
   ]
  },
  {
   "cell_type": "code",
   "execution_count": 45,
   "metadata": {},
   "outputs": [],
   "source": [
    "jasp_dir = curr_dir / \"jasp_data\"\n",
    "\n",
    "df_jasp.to_csv(jasp_dir / \"dataframe.csv\")"
   ]
  },
  {
   "cell_type": "code",
   "execution_count": 46,
   "metadata": {},
   "outputs": [
    {
     "data": {
      "text/plain": [
       "array(['MS', 'NIND', 'UNK', 'HC', 'OIND', 'RIS'], dtype=object)"
      ]
     },
     "execution_count": 46,
     "metadata": {},
     "output_type": "execute_result"
    }
   ],
   "source": [
    "df['dz_type3'].unique()"
   ]
  },
  {
   "cell_type": "code",
   "execution_count": 47,
   "metadata": {},
   "outputs": [],
   "source": [
    "df_jasp3 = df_jasp[df_jasp['dz_type3'].isin([\"MS\", \"NIND\", \"OIND\"])]\n",
    "df_jasp5 = df_jasp[df_jasp['dz_type5'].isin([\"RMS\", \"PMS\", \"NIND\", \"OIND\"])]\n",
    "df_jasp_ms = df_jasp[df_jasp['dz_type5'].isin([\"RMS\", \"PMS\"])]\n",
    "\n",
    "df_jasp3.to_csv(jasp_dir / \"dataframe3.csv\")\n",
    "df_jasp5.to_csv(jasp_dir / \"dataframe5.csv\")\n",
    "df_jasp_ms.to_csv(jasp_dir / \"dataframeMS.csv\")"
   ]
  },
  {
   "cell_type": "code",
   "execution_count": null,
   "metadata": {},
   "outputs": [],
   "source": []
  }
 ],
 "metadata": {
  "kernelspec": {
   "display_name": "monai",
   "language": "python",
   "name": "python3"
  },
  "language_info": {
   "codemirror_mode": {
    "name": "ipython",
    "version": 3
   },
   "file_extension": ".py",
   "mimetype": "text/x-python",
   "name": "python",
   "nbconvert_exporter": "python",
   "pygments_lexer": "ipython3",
   "version": "3.12.4"
  }
 },
 "nbformat": 4,
 "nbformat_minor": 2
}
