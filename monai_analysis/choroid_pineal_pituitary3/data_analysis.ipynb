{
 "cells": [
  {
   "cell_type": "code",
   "execution_count": 1,
   "metadata": {},
   "outputs": [],
   "source": [
    "import pandas as pd\n",
    "from reload_recursive import reload_recursive\n",
    "import os\n",
    "from loguru import logger\n",
    "from pathlib import Path\n",
    "import json\n",
    "import numpy as np\n",
    "from tqdm.notebook import tqdm\n",
    "import re\n",
    "import sys\n",
    "import statsmodels.api as sm\n",
    "import numpy as np\n",
    "\n",
    "import mri_data\n",
    "import monai_training"
   ]
  },
  {
   "cell_type": "code",
   "execution_count": 2,
   "metadata": {},
   "outputs": [],
   "source": [
    "reload_recursive(mri_data)\n",
    "reload_recursive(monai_training)\n",
    "\n",
    "from mri_data.file_manager import DataSet, scan_3Tpioneer_bids\n",
    "from mri_data import file_manager as fm\n",
    "from mri_data import utils\n",
    "from monai_training.preprocess import DataSetProcesser"
   ]
  },
  {
   "cell_type": "code",
   "execution_count": 3,
   "metadata": {},
   "outputs": [],
   "source": [
    "logger.remove()"
   ]
  },
  {
   "cell_type": "code",
   "execution_count": 4,
   "metadata": {},
   "outputs": [],
   "source": [
    "to_load = True\n",
    "drive_root = fm.get_drive_root()\n",
    "msmri_home = Path(\"/home/srs-9/Projects/ms_mri\")\n",
    "inference_root = drive_root / \"3Tpioneer_bids_predictions\"\n",
    "dataroot = drive_root / \"3Tpioneer_bids\"\n",
    "clinical_data_root = drive_root / \"Secure_Data\" / \"Large\"\n",
    "project_dataroot = msmri_home / \"data\"\n",
    "curr_dir = msmri_home / \"monai_analysis\" / \"choroid_pineal_pituitary3\""
   ]
  },
  {
   "cell_type": "markdown",
   "metadata": {},
   "source": [
    "### Data Cleaning\n",
    "\n",
    "- Add column which is subid as int\n",
    "- Set the index to the new column\n",
    "- Remove any rows where subid is NaN\n",
    "- Rename columns\n",
    "- Check \"Working with missing data\" on pandas documentation"
   ]
  },
  {
   "cell_type": "markdown",
   "metadata": {},
   "source": [
    "### Additional Data\n",
    "\n",
    "- ROI size"
   ]
  },
  {
   "cell_type": "code",
   "execution_count": 5,
   "metadata": {},
   "outputs": [],
   "source": [
    "df = pd.read_csv(curr_dir / \"clinical_data_full.csv\")\n",
    "df = df.set_index(\"subid\")\n",
    "df.index.name = \"subject_id\"\n",
    "\n",
    "df_full = df\n",
    "not_nas = (~df_full['pineal_volume'].isna() & ~df_full['choroid_volume'].isna() & ~df_full['pituitary_volume'].isna())\n",
    "df = df_full.loc[not_nas, :]"
   ]
  },
  {
   "cell_type": "code",
   "execution_count": 6,
   "metadata": {},
   "outputs": [],
   "source": [
    "if not to_load:\n",
    "    dataset_proc = DataSetProcesser.new_dataset(dataroot, scan_3Tpioneer_bids, filters=[fm.filter_first_ses])\n",
    "    full_dataset = dataset_proc.dataset\n",
    "    dataset_proc.prepare_labels([\"choroid_t1_flair\", \"pineal\", \"pituitary\"], [\"CH\", \"SRS\", \"ED\", \"DT\"])\n",
    "    dataset = dataset_proc.dataset\n",
    "\n",
    "    inference_dataset_proc = DataSetProcesser.new_dataset(inference_root, scan_3Tpioneer_bids, filters=[fm.filter_first_ses])\n",
    "    inference_dataset_proc.prepare_labels(\"t1_choroid_pineal_pituitary_T1-1_pred\")\n",
    "    inference_dataset = inference_dataset_proc.dataset"
   ]
  },
  {
   "cell_type": "markdown",
   "metadata": {},
   "source": [
    "### Prepare Data\n",
    "\n",
    "- Set categorical variables\n",
    "  - ms_type\n",
    "  - race\n",
    "  - ethnicity\n",
    "  - sex\n",
    "- Set edss as ordinal variable\n",
    "\n",
    "Do I need to factorize the categorical variables if I just set their dtype as \"category\"?"
   ]
  },
  {
   "cell_type": "code",
   "execution_count": 7,
   "metadata": {},
   "outputs": [],
   "source": [
    "# edss is ordinal variable\n",
    "# edss_type = pd.CategoricalDtype(categories=np.linspace(1, 11, 21), ordered=True)\n",
    "# df['numEDSS'] = df['numEDSS'].astype(edss_type)\n",
    "for i, row in df.iterrows():\n",
    "    if row['edss_diff_abs'] == \".\":\n",
    "        df.loc[i, ['edss_diff_abs']] = None\n",
    "df.loc[df['dzdur'] == \"#VALUE!\", \"dzdur\"] = None"
   ]
  },
  {
   "cell_type": "code",
   "execution_count": 8,
   "metadata": {},
   "outputs": [],
   "source": [
    "try:\n",
    "    df.insert(8, 'norm_pituitary_volume', df['pituitary_volume']/df['tiv'])\n",
    "except ValueError:\n",
    "    pass\n",
    "try:\n",
    "    df.insert(8, 'norm_pineal_volume', df['pineal_volume']/df['tiv'])\n",
    "except ValueError:\n",
    "    pass\n",
    "try:\n",
    "    df.insert(8, 'norm_choroid_volume', df['choroid_volume']/df['tiv'])\n",
    "except ValueError:\n",
    "    pass"
   ]
  },
  {
   "cell_type": "markdown",
   "metadata": {},
   "source": [
    "`dz_type` has relapsing MS (RMS) versus progressive MS (PMS) verusus not MS (!MS)"
   ]
  },
  {
   "cell_type": "code",
   "execution_count": 9,
   "metadata": {},
   "outputs": [
    {
     "data": {
      "text/plain": [
       "array(['RMS', 'PMS', '!MS', 'UNK', 'RIS'], dtype=object)"
      ]
     },
     "execution_count": 9,
     "metadata": {},
     "output_type": "execute_result"
    }
   ],
   "source": [
    "try:\n",
    "    df.insert(18, 'dz_type', df['ms_type'])\n",
    "except Exception:\n",
    "    pass\n",
    "\n",
    "df.loc[:, 'dz_type'] = df['ms_type']\n",
    "\n",
    "df.loc[df['ms_type'].isin(['CIS', 'RRMS']), 'dz_type'] = 'RMS'\n",
    "df.loc[df['ms_type'].isin(['PPMS', 'SPMS', 'RPMS', 'PRMS']), 'dz_type'] = 'PMS'\n",
    "df.loc[df['ms_type'].isin(['NIND', 'OIND', 'HC']), 'dz_type'] = '!MS'\n",
    "df['dz_type'].unique()"
   ]
  },
  {
   "cell_type": "markdown",
   "metadata": {},
   "source": [
    "`dz_type2` has MS versus !MS and UNK"
   ]
  },
  {
   "cell_type": "code",
   "execution_count": 10,
   "metadata": {},
   "outputs": [
    {
     "data": {
      "text/plain": [
       "array(['MS', '!MS', 'UNK', 'RIS'], dtype=object)"
      ]
     },
     "execution_count": 10,
     "metadata": {},
     "output_type": "execute_result"
    }
   ],
   "source": [
    "try:\n",
    "    df.insert(18, 'dz_type2', df['dz_type'])\n",
    "except Exception:\n",
    "    pass\n",
    "\n",
    "df.loc[:, 'dz_type2'] = df['dz_type']\n",
    "\n",
    "df.loc[df['dz_type'].isin(['RMS', 'PMS']), 'dz_type2'] = 'MS'\n",
    "df['dz_type2'].unique()"
   ]
  },
  {
   "cell_type": "markdown",
   "metadata": {},
   "source": [
    "`dz_type3` has MS v OIND v NIND"
   ]
  },
  {
   "cell_type": "code",
   "execution_count": 11,
   "metadata": {},
   "outputs": [
    {
     "data": {
      "text/plain": [
       "array(['MS', 'NIND', 'UNK', 'HC', 'OIND', 'RIS'], dtype=object)"
      ]
     },
     "execution_count": 11,
     "metadata": {},
     "output_type": "execute_result"
    }
   ],
   "source": [
    "try:\n",
    "    df.insert(18, 'dz_type3', df['ms_type'])\n",
    "except Exception:\n",
    "    pass\n",
    "\n",
    "df.loc[:, 'dz_type3'] = df['ms_type']\n",
    "\n",
    "df.loc[df['ms_type'].isin(['PPMS', 'SPMS', 'RPMS', 'PRMS', 'RRMS', 'CIS']), 'dz_type3'] = 'MS'\n",
    "df['dz_type3'].unique()"
   ]
  },
  {
   "cell_type": "markdown",
   "metadata": {},
   "source": [
    "## Statistical Analysis\n",
    "\n",
    "### Descriptive Stats"
   ]
  },
  {
   "cell_type": "code",
   "execution_count": 12,
   "metadata": {},
   "outputs": [
    {
     "name": "stdout",
     "output_type": "stream",
     "text": [
      "461 patients in total\n",
      "308 patients with RMS (0.67)\n",
      "79 patients with PMS (0.17)\n",
      "69 patients w/o MS (0.15)\n"
     ]
    }
   ],
   "source": [
    "print(len(df), \"patients in total\")\n",
    "nRMS = sum(df['dz_type'] == \"RMS\")\n",
    "nPMS = sum(df['dz_type'] == \"PMS\")\n",
    "nNotMS = sum(df['dz_type'] == \"!MS\")\n",
    "print(nRMS, \"patients with RMS\", f\"({round(nRMS / len(df), 2)})\")\n",
    "print(nPMS, \"patients with PMS\", f\"({round(nPMS / len(df), 2)})\")\n",
    "print(nNotMS, \"patients w/o MS\", f\"({round(nNotMS / len(df), 2)})\")"
   ]
  },
  {
   "cell_type": "code",
   "execution_count": 13,
   "metadata": {},
   "outputs": [
    {
     "name": "stdout",
     "output_type": "stream",
     "text": [
      "461 patients in total\n",
      "387 patients with MS (0.84)\n",
      "28 patients with OIND (0.06)\n",
      "39 patients w/o NIND (0.08)\n"
     ]
    }
   ],
   "source": [
    "print(len(df), \"patients in total\")\n",
    "nMS = sum(df['dz_type3'] == \"MS\")\n",
    "nOIND = sum(df['dz_type3'] == \"OIND\")\n",
    "nNIND = sum(df['dz_type3'] == \"NIND\")\n",
    "print(nMS, \"patients with MS\", f\"({round(nMS / len(df), 2)})\")\n",
    "print(nOIND, \"patients with OIND\", f\"({round(nOIND / len(df), 2)})\")\n",
    "print(nNIND, \"patients w/o NIND\", f\"({round(nNIND / len(df), 2)})\")"
   ]
  },
  {
   "cell_type": "code",
   "execution_count": 14,
   "metadata": {},
   "outputs": [
    {
     "name": "stdout",
     "output_type": "stream",
     "text": [
      "Female subjects:     0.78\n",
      "Average age at scan: 47.58\n"
     ]
    }
   ],
   "source": [
    "print(\"Female subjects:     {:0.2f}\".format(sum(df['sex'] == \"Female\") / len(df)) )\n",
    "print(\"Average age at scan: {:0.2f}\".format(df['age'].mean()))"
   ]
  },
  {
   "cell_type": "code",
   "execution_count": 15,
   "metadata": {},
   "outputs": [
    {
     "name": "stdout",
     "output_type": "stream",
     "text": [
      "RMS Patients:\n",
      "\tFemale:  0.82\n",
      "\tAge:     44.54\n",
      "PMS Patients:\n",
      "\tFemale:  0.58\n",
      "\tAge:     58.25\n",
      "!MS Patients:\n",
      "\tFemale:  0.81\n",
      "\tAge:     49.05\n"
     ]
    }
   ],
   "source": [
    "df_rrms = df.loc[df[\"dz_type\"] == \"RMS\"]\n",
    "print(\"RMS Patients:\")\n",
    "print(\"\\tFemale:  {:0.2f}\".format(sum(df_rrms['sex'] == \"Female\") / len(df_rrms)))\n",
    "print(\"\\tAge:     {:0.2f}\".format(df_rrms['age'].mean()))\n",
    "\n",
    "df_pms = df.loc[df[\"dz_type\"] == \"PMS\"]\n",
    "print(\"PMS Patients:\")\n",
    "print(\"\\tFemale:  {:0.2f}\".format(sum(df_pms['sex'] == \"Female\") / len(df_pms)))\n",
    "print(\"\\tAge:     {:0.2f}\".format(df_pms['age'].mean()))\n",
    "\n",
    "df_notms = df.loc[df[\"dz_type\"] == \"!MS\"]\n",
    "print(\"!MS Patients:\")\n",
    "print(\"\\tFemale:  {:0.2f}\".format(sum(df_notms['sex'] == \"Female\") / len(df_notms)))\n",
    "print(\"\\tAge:     {:0.2f}\".format(df_notms['age'].mean()))"
   ]
  },
  {
   "cell_type": "markdown",
   "metadata": {},
   "source": [
    "#### Volumes"
   ]
  },
  {
   "cell_type": "code",
   "execution_count": 16,
   "metadata": {},
   "outputs": [
    {
     "name": "stdout",
     "output_type": "stream",
     "text": [
      "Choroid volumes:\n",
      "\tRRMS:   1636.13\n",
      "\tPMS:    1686.45\n",
      "\tnot-MS: 1759.73\n",
      "Pineal volumes:\n",
      "\tRRMS:   181.47\n",
      "\tPMS:    150.11\n",
      "\tnot-MS: 235.76\n",
      "Pituitary volumes:\n",
      "\tRRMS:   631.39\n",
      "\tPMS:    640.51\n",
      "\tnot-MS: 659.92\n"
     ]
    }
   ],
   "source": [
    "# choroid\n",
    "print(\"Choroid volumes:\")\n",
    "print(\"\\tRRMS:   {:0.2f}\".format(df_rrms['choroid_volume'].mean()))\n",
    "print(\"\\tPMS:    {:0.2f}\".format(df_pms['choroid_volume'].mean()))\n",
    "print(\"\\tnot-MS: {:0.2f}\".format(df_notms['choroid_volume'].mean()))\n",
    "\n",
    "# pineal\n",
    "print(\"Pineal volumes:\")\n",
    "print(\"\\tRRMS:   {:0.2f}\".format(df_rrms['pineal_volume'].mean()))\n",
    "print(\"\\tPMS:    {:0.2f}\".format(df_pms['pineal_volume'].mean()))\n",
    "print(\"\\tnot-MS: {:0.2f}\".format(df_notms['pineal_volume'].mean()))\n",
    "\n",
    "# pituitary\n",
    "print(\"Pituitary volumes:\")\n",
    "print(\"\\tRRMS:   {:0.2f}\".format(df_rrms['pituitary_volume'].mean()))\n",
    "print(\"\\tPMS:    {:0.2f}\".format(df_pms['pituitary_volume'].mean()))\n",
    "print(\"\\tnot-MS: {:0.2f}\".format(df_notms['pituitary_volume'].mean()))"
   ]
  },
  {
   "cell_type": "code",
   "execution_count": 17,
   "metadata": {},
   "outputs": [
    {
     "name": "stdout",
     "output_type": "stream",
     "text": [
      "Choroid volumes:\n",
      "\tMS:     1646.40\n",
      "\tnot-MS: 1759.73\n",
      "\n",
      "Pineal volumes\n",
      "\tMS:     175.07\n",
      "\tnot-MS: 235.76\n",
      "\n",
      "Pituitary volumes\n",
      "\tMS:     633.25\n",
      "\tnot-MS: 659.92\n"
     ]
    }
   ],
   "source": [
    "print(\"Choroid volumes:\")\n",
    "choroid_ms_mean = df[df['dz_type2'] == \"MS\"].choroid_volume.mean()\n",
    "choroid_notms_mean = df[df['dz_type2'] == \"!MS\"].choroid_volume.mean()\n",
    "print(\"\\tMS:     {:0.2f}\".format(choroid_ms_mean))\n",
    "print(\"\\tnot-MS: {:0.2f}\".format(choroid_notms_mean))\n",
    "\n",
    "print(\"\\nPineal volumes\")\n",
    "pineal_ms_mean = df[df['dz_type2'] == \"MS\"].pineal_volume.mean()\n",
    "pineal_notms_mean = df[df['dz_type2'] == \"!MS\"].pineal_volume.mean()\n",
    "print(\"\\tMS:     {:0.2f}\".format(pineal_ms_mean))\n",
    "print(\"\\tnot-MS: {:0.2f}\".format(pineal_notms_mean))\n",
    "\n",
    "print(\"\\nPituitary volumes\")\n",
    "pituitary_ms_mean = df[df['dz_type2'] == \"MS\"].pituitary_volume.mean()\n",
    "pituitary_notms_mean = df[df['dz_type2'] == \"!MS\"].pituitary_volume.mean()\n",
    "print(\"\\tMS:     {:0.2f}\".format(pituitary_ms_mean))\n",
    "print(\"\\tnot-MS: {:0.2f}\".format(pituitary_notms_mean))"
   ]
  },
  {
   "cell_type": "code",
   "execution_count": 18,
   "metadata": {},
   "outputs": [
    {
     "name": "stdout",
     "output_type": "stream",
     "text": [
      "Choroid volumes:\n",
      "\tMS:   1646.40\n",
      "\tOIND: 1752.60\n",
      "\tNIND: 1795.19\n",
      "\n",
      "Pineal volumes\n",
      "\tMS:   175.07\n",
      "\tOIND: 205.06\n",
      "\tNIND: 263.55\n",
      "\n",
      "Pituitary volumes\n",
      "\tMS:   633.25\n",
      "\tOIND: 646.75\n",
      "\tNIND: 667.03\n"
     ]
    }
   ],
   "source": [
    "print(\"Choroid volumes:\")\n",
    "choroid_ms_mean = df[df['dz_type3'] == \"MS\"].choroid_volume.mean()\n",
    "choroid_oind_mean = df[df['dz_type3'] == \"OIND\"].choroid_volume.mean()\n",
    "choroid_nind_mean = df[df['dz_type3'] == \"NIND\"].choroid_volume.mean()\n",
    "print(\"\\tMS:   {:0.2f}\".format(choroid_ms_mean))\n",
    "print(\"\\tOIND: {:0.2f}\".format(choroid_oind_mean))\n",
    "print(\"\\tNIND: {:0.2f}\".format(choroid_nind_mean))\n",
    "\n",
    "\n",
    "print(\"\\nPineal volumes\")\n",
    "pineal_ms_mean = df[df['dz_type2'] == \"MS\"].pineal_volume.mean()\n",
    "pineal_oind_mean = df[df['dz_type3'] == \"OIND\"].pineal_volume.mean()\n",
    "pineal_nind_mean = df[df['dz_type3'] == \"NIND\"].pineal_volume.mean()\n",
    "print(\"\\tMS:   {:0.2f}\".format(pineal_ms_mean))\n",
    "print(\"\\tOIND: {:0.2f}\".format(pineal_oind_mean))\n",
    "print(\"\\tNIND: {:0.2f}\".format(pineal_nind_mean))\n",
    "\n",
    "\n",
    "print(\"\\nPituitary volumes\")\n",
    "pituitary_ms_mean = df[df['dz_type2'] == \"MS\"].pituitary_volume.mean()\n",
    "pituitary_oind_mean = df[df['dz_type3'] == \"OIND\"].pituitary_volume.mean()\n",
    "pituitary_nind_mean = df[df['dz_type3'] == \"NIND\"].pituitary_volume.mean()\n",
    "print(\"\\tMS:   {:0.2f}\".format(pituitary_ms_mean))\n",
    "print(\"\\tOIND: {:0.2f}\".format(pituitary_oind_mean))\n",
    "print(\"\\tNIND: {:0.2f}\".format(pituitary_nind_mean))"
   ]
  },
  {
   "cell_type": "markdown",
   "metadata": {},
   "source": [
    "## Regression Models\n",
    "\n",
    "Covariates: age, sex, TIV, contrast\n",
    "\n",
    "### Linear Regression on Volume\n",
    "\n",
    "Predict volume of structure with the following predictors:\n",
    "\n",
    "- MS vs Not-MS\n",
    "- MS vs OIND vs NIND\n",
    "- RMS vs PMS"
   ]
  },
  {
   "cell_type": "markdown",
   "metadata": {},
   "source": [
    "#### Choroid Plexus\n",
    "\n",
    "##### MS vs not-MS"
   ]
  },
  {
   "cell_type": "code",
   "execution_count": 19,
   "metadata": {},
   "outputs": [
    {
     "name": "stdout",
     "output_type": "stream",
     "text": [
      "                            OLS Regression Results                            \n",
      "==============================================================================\n",
      "Dep. Variable:                 volume   R-squared:                       0.256\n",
      "Model:                            OLS   Adj. R-squared:                  0.247\n",
      "Method:                 Least Squares   F-statistic:                     30.83\n",
      "Date:                Mon, 20 Jan 2025   Prob (F-statistic):           5.59e-27\n",
      "Time:                        15:43:14   Log-Likelihood:                -3463.6\n",
      "No. Observations:                 455   AIC:                             6939.\n",
      "Df Residuals:                     449   BIC:                             6964.\n",
      "Df Model:                           5                                         \n",
      "Covariance Type:            nonrobust                                         \n",
      "==============================================================================\n",
      "                 coef    std err          t      P>|t|      [0.025      0.975]\n",
      "------------------------------------------------------------------------------\n",
      "age            9.2628      1.868      4.959      0.000       5.592      12.933\n",
      "Male          46.5550     67.683      0.688      0.492     -86.459     179.569\n",
      "tiv            0.0009      0.000      4.128      0.000       0.000       0.001\n",
      "WITH         483.9088     47.646     10.156      0.000     390.272     577.546\n",
      "MS           -24.5661     65.152     -0.377      0.706    -152.607     103.475\n",
      "intercept   -360.2492    343.204     -1.050      0.294   -1034.736     314.237\n",
      "==============================================================================\n",
      "Omnibus:                       24.407   Durbin-Watson:                   2.072\n",
      "Prob(Omnibus):                  0.000   Jarque-Bera (JB):               55.766\n",
      "Skew:                           0.253   Prob(JB):                     7.77e-13\n",
      "Kurtosis:                       4.639   Cond. No.                     2.25e+07\n",
      "==============================================================================\n",
      "\n",
      "Notes:\n",
      "[1] Standard Errors assume that the covariance matrix of the errors is correctly specified.\n",
      "[2] The condition number is large, 2.25e+07. This might indicate that there are\n",
      "strong multicollinearity or other numerical problems.\n"
     ]
    }
   ],
   "source": [
    "volume = 'choroid_volume'\n",
    "\n",
    "data = df[['dz_type2', 'age', 'sex', 'tiv', 'flair_contrast', volume]]\n",
    "data = data.rename(columns={volume: 'volume'})\n",
    "data = data[data['dz_type2'].isin(['MS', '!MS'])]\n",
    "data = data[data['flair_contrast'].isin(['WITH', 'WITHOUT'])]\n",
    "\n",
    "data = pd.concat((\n",
    "    data,\n",
    "    pd.get_dummies(data['dz_type2']),\n",
    "    pd.get_dummies(data['flair_contrast']),\n",
    "    pd.get_dummies(data['sex'])), axis=1)\n",
    "data['intercept'] = 1\n",
    "\n",
    "predictors = ['age', 'Male', 'tiv', 'WITH', 'MS', 'intercept']\n",
    "\n",
    "res = sm.OLS(data['volume'].astype('float'), \n",
    "             data[predictors].astype('float')).fit(missing='drop')\n",
    "\n",
    "print(res.summary())"
   ]
  },
  {
   "cell_type": "markdown",
   "metadata": {},
   "source": [
    "#### MS vs NIND vs OIND"
   ]
  },
  {
   "cell_type": "code",
   "execution_count": 20,
   "metadata": {},
   "outputs": [
    {
     "name": "stdout",
     "output_type": "stream",
     "text": [
      "                            OLS Regression Results                            \n",
      "==============================================================================\n",
      "Dep. Variable:                 volume   R-squared:                       0.258\n",
      "Model:                            OLS   Adj. R-squared:                  0.248\n",
      "Method:                 Least Squares   F-statistic:                     25.88\n",
      "Date:                Mon, 20 Jan 2025   Prob (F-statistic):           2.02e-26\n",
      "Time:                        15:43:20   Log-Likelihood:                -3447.8\n",
      "No. Observations:                 453   AIC:                             6910.\n",
      "Df Residuals:                     446   BIC:                             6938.\n",
      "Df Model:                           6                                         \n",
      "Covariance Type:            nonrobust                                         \n",
      "==============================================================================\n",
      "                 coef    std err          t      P>|t|      [0.025      0.975]\n",
      "------------------------------------------------------------------------------\n",
      "age            9.1154      1.878      4.853      0.000       5.424      12.807\n",
      "Female       -44.6689     67.696     -0.660      0.510    -177.712      88.374\n",
      "tiv            0.0009      0.000      4.120      0.000       0.000       0.001\n",
      "WITH         486.9564     47.690     10.211      0.000     393.232     580.681\n",
      "MS           -49.4397     83.515     -0.592      0.554    -213.572     114.692\n",
      "OIND         -16.3182    122.143     -0.134      0.894    -256.366     223.730\n",
      "intercept   -282.3784    387.442     -0.729      0.466   -1043.817     479.060\n",
      "==============================================================================\n",
      "Omnibus:                       24.416   Durbin-Watson:                   2.065\n",
      "Prob(Omnibus):                  0.000   Jarque-Bera (JB):               56.631\n",
      "Skew:                           0.247   Prob(JB):                     5.04e-13\n",
      "Kurtosis:                       4.660   Cond. No.                     2.54e+07\n",
      "==============================================================================\n",
      "\n",
      "Notes:\n",
      "[1] Standard Errors assume that the covariance matrix of the errors is correctly specified.\n",
      "[2] The condition number is large, 2.54e+07. This might indicate that there are\n",
      "strong multicollinearity or other numerical problems.\n"
     ]
    }
   ],
   "source": [
    "volume = 'choroid_volume'\n",
    "\n",
    "data = df[['dz_type3', 'age', 'sex', 'tiv', 'flair_contrast', volume]]\n",
    "data = data.rename(columns={volume: 'volume'})\n",
    "data = data[data['dz_type3'].isin(['MS', 'OIND', 'NIND'])]\n",
    "data = data[data['flair_contrast'].isin(['WITH', 'WITHOUT'])]\n",
    "\n",
    "data = pd.concat((\n",
    "    data,\n",
    "    pd.get_dummies(data['dz_type3']),\n",
    "    pd.get_dummies(data['flair_contrast']),\n",
    "    pd.get_dummies(data['sex'])), axis=1)\n",
    "data['intercept'] = 1\n",
    "\n",
    "predictors = ['age', 'Female', 'tiv', 'WITH', 'MS', 'OIND', 'intercept']\n",
    "\n",
    "res = sm.OLS(data['volume'].astype('float'), \n",
    "             data[predictors].astype('float')).fit(missing='drop')\n",
    "\n",
    "print(res.summary())"
   ]
  },
  {
   "cell_type": "markdown",
   "metadata": {},
   "source": [
    "#### PMS v RMS"
   ]
  },
  {
   "cell_type": "code",
   "execution_count": 21,
   "metadata": {},
   "outputs": [
    {
     "name": "stdout",
     "output_type": "stream",
     "text": [
      "                            OLS Regression Results                            \n",
      "==============================================================================\n",
      "Dep. Variable:                 volume   R-squared:                       0.242\n",
      "Model:                            OLS   Adj. R-squared:                  0.232\n",
      "Method:                 Least Squares   F-statistic:                     24.29\n",
      "Date:                Mon, 20 Jan 2025   Prob (F-statistic):           3.17e-21\n",
      "Time:                        15:43:28   Log-Likelihood:                -2935.7\n",
      "No. Observations:                 386   AIC:                             5883.\n",
      "Df Residuals:                     380   BIC:                             5907.\n",
      "Df Model:                           5                                         \n",
      "Covariance Type:            nonrobust                                         \n",
      "==============================================================================\n",
      "                 coef    std err          t      P>|t|      [0.025      0.975]\n",
      "------------------------------------------------------------------------------\n",
      "age            8.9729      2.176      4.123      0.000       4.694      13.252\n",
      "Female      -106.3362     72.942     -1.458      0.146    -249.757      37.085\n",
      "tiv            0.0007      0.000      3.213      0.001       0.000       0.001\n",
      "WITH         452.9914     50.934      8.894      0.000     352.843     553.140\n",
      "RMS           76.0960     70.254      1.083      0.279     -62.038     214.230\n",
      "intercept   -115.2072    399.422     -0.288      0.773    -900.561     670.146\n",
      "==============================================================================\n",
      "Omnibus:                       22.356   Durbin-Watson:                   2.087\n",
      "Prob(Omnibus):                  0.000   Jarque-Bera (JB):               56.971\n",
      "Skew:                           0.214   Prob(JB):                     4.26e-13\n",
      "Kurtosis:                       4.833   Cond. No.                     2.42e+07\n",
      "==============================================================================\n",
      "\n",
      "Notes:\n",
      "[1] Standard Errors assume that the covariance matrix of the errors is correctly specified.\n",
      "[2] The condition number is large, 2.42e+07. This might indicate that there are\n",
      "strong multicollinearity or other numerical problems.\n"
     ]
    }
   ],
   "source": [
    "volume = 'choroid_volume'\n",
    "\n",
    "data = df[['dz_type', 'age', 'sex', 'tiv', 'flair_contrast', volume]]\n",
    "data = data.rename(columns={volume: 'volume'})\n",
    "data = data[data['dz_type'].isin(['RMS', 'PMS'])]\n",
    "data = data[data['flair_contrast'].isin(['WITH', 'WITHOUT'])]\n",
    "\n",
    "data = pd.concat((\n",
    "    data,\n",
    "    pd.get_dummies(data['dz_type']),\n",
    "    pd.get_dummies(data['flair_contrast']),\n",
    "    pd.get_dummies(data['sex'])), axis=1)\n",
    "data['intercept'] = 1\n",
    "\n",
    "predictors = ['age', 'Female', 'tiv', 'WITH', 'RMS', 'intercept']\n",
    "\n",
    "res = sm.OLS(data['volume'].astype('float'), \n",
    "             data[predictors].astype('float')).fit(missing='drop')\n",
    "\n",
    "print(res.summary())"
   ]
  },
  {
   "cell_type": "markdown",
   "metadata": {},
   "source": [
    "### Pineal\n",
    "\n",
    "#### MS vs not-MS"
   ]
  },
  {
   "cell_type": "code",
   "execution_count": 69,
   "metadata": {},
   "outputs": [
    {
     "name": "stdout",
     "output_type": "stream",
     "text": [
      "                            OLS Regression Results                            \n",
      "==============================================================================\n",
      "Dep. Variable:                 volume   R-squared:                       0.017\n",
      "Model:                            OLS   Adj. R-squared:                  0.007\n",
      "Method:                 Least Squares   F-statistic:                     1.677\n",
      "Date:                Mon, 20 Jan 2025   Prob (F-statistic):              0.139\n",
      "Time:                        15:37:14   Log-Likelihood:                -2864.7\n",
      "No. Observations:                 479   AIC:                             5741.\n",
      "Df Residuals:                     473   BIC:                             5766.\n",
      "Df Model:                           5                                         \n",
      "Covariance Type:            nonrobust                                         \n",
      "==============================================================================\n",
      "                 coef    std err          t      P>|t|      [0.025      0.975]\n",
      "------------------------------------------------------------------------------\n",
      "age           -0.3214      0.358     -0.897      0.370      -1.026       0.383\n",
      "Male          -7.8058     12.882     -0.606      0.545     -33.119      17.508\n",
      "tiv          4.46e-05   4.03e-05      1.106      0.269   -3.47e-05       0.000\n",
      "WITH           0.9945      9.103      0.109      0.913     -16.892      18.881\n",
      "MS           -28.7708     12.319     -2.335      0.020     -52.977      -4.564\n",
      "intercept    217.2511     66.040      3.290      0.001      87.484     347.019\n",
      "==============================================================================\n",
      "Omnibus:                      299.040   Durbin-Watson:                   1.861\n",
      "Prob(Omnibus):                  0.000   Jarque-Bera (JB):             7058.895\n",
      "Skew:                           2.256   Prob(JB):                         0.00\n",
      "Kurtosis:                      21.257   Cond. No.                     2.28e+07\n",
      "==============================================================================\n",
      "\n",
      "Notes:\n",
      "[1] Standard Errors assume that the covariance matrix of the errors is correctly specified.\n",
      "[2] The condition number is large, 2.28e+07. This might indicate that there are\n",
      "strong multicollinearity or other numerical problems.\n"
     ]
    }
   ],
   "source": [
    "volume = 'pineal_volume'\n",
    "\n",
    "data = df[['dz_type2', 'age', 'sex', 'tiv', 'flair_contrast', volume]]\n",
    "data = data.rename(columns={volume: 'volume'})\n",
    "data = data[data['dz_type2'].isin(['MS', '!MS'])]\n",
    "data = data[data['flair_contrast'].isin(['WITH', 'WITHOUT'])]\n",
    "\n",
    "data = pd.concat((\n",
    "    data,\n",
    "    pd.get_dummies(data['dz_type2']),\n",
    "    pd.get_dummies(data['flair_contrast']),\n",
    "    pd.get_dummies(data['sex'])), axis=1)\n",
    "data['intercept'] = 1\n",
    "\n",
    "predictors = ['age', 'Male', 'tiv', 'WITH', 'MS', 'intercept']\n",
    "\n",
    "res = sm.OLS(data['volume'].astype('float'), \n",
    "             data[predictors].astype('float')).fit(missing='drop')\n",
    "\n",
    "print(res.summary())"
   ]
  },
  {
   "cell_type": "markdown",
   "metadata": {},
   "source": [
    "#### MS vs NIND vs OIND"
   ]
  },
  {
   "cell_type": "code",
   "execution_count": 70,
   "metadata": {},
   "outputs": [
    {
     "name": "stdout",
     "output_type": "stream",
     "text": [
      "                            OLS Regression Results                            \n",
      "==============================================================================\n",
      "Dep. Variable:                 volume   R-squared:                       0.027\n",
      "Model:                            OLS   Adj. R-squared:                  0.014\n",
      "Method:                 Least Squares   F-statistic:                     2.154\n",
      "Date:                Mon, 20 Jan 2025   Prob (F-statistic):             0.0463\n",
      "Time:                        15:37:27   Log-Likelihood:                -2851.2\n",
      "No. Observations:                 477   AIC:                             5716.\n",
      "Df Residuals:                     470   BIC:                             5746.\n",
      "Df Model:                           6                                         \n",
      "Covariance Type:            nonrobust                                         \n",
      "==============================================================================\n",
      "                 coef    std err          t      P>|t|      [0.025      0.975]\n",
      "------------------------------------------------------------------------------\n",
      "age           -0.3337      0.360     -0.927      0.354      -1.041       0.373\n",
      "Female         7.0187     12.866      0.546      0.586     -18.263      32.300\n",
      "tiv         4.058e-05   4.03e-05      1.007      0.315   -3.86e-05       0.000\n",
      "WITH           0.8724      9.092      0.096      0.924     -16.994      18.739\n",
      "MS           -49.2594     15.749     -3.128      0.002     -80.206     -18.312\n",
      "OIND         -43.8730     23.047     -1.904      0.058     -89.161       1.415\n",
      "intercept    237.2255     74.760      3.173      0.002      90.319     384.132\n",
      "==============================================================================\n",
      "Omnibus:                      284.281   Durbin-Watson:                   1.862\n",
      "Prob(Omnibus):                  0.000   Jarque-Bera (JB):             6072.623\n",
      "Skew:                           2.141   Prob(JB):                         0.00\n",
      "Kurtosis:                      19.947   Cond. No.                     2.59e+07\n",
      "==============================================================================\n",
      "\n",
      "Notes:\n",
      "[1] Standard Errors assume that the covariance matrix of the errors is correctly specified.\n",
      "[2] The condition number is large, 2.59e+07. This might indicate that there are\n",
      "strong multicollinearity or other numerical problems.\n"
     ]
    }
   ],
   "source": [
    "volume = 'pineal_volume'\n",
    "\n",
    "data = df[['dz_type3', 'age', 'sex', 'tiv', 'flair_contrast', volume]]\n",
    "data = data.rename(columns={volume: 'volume'})\n",
    "data = data[data['dz_type3'].isin(['MS', 'OIND', 'NIND'])]\n",
    "data = data[data['flair_contrast'].isin(['WITH', 'WITHOUT'])]\n",
    "\n",
    "data = pd.concat((\n",
    "    data,\n",
    "    pd.get_dummies(data['dz_type3']),\n",
    "    pd.get_dummies(data['flair_contrast']),\n",
    "    pd.get_dummies(data['sex'])), axis=1)\n",
    "data['intercept'] = 1\n",
    "\n",
    "predictors = ['age', 'Female', 'tiv', 'WITH', 'MS', 'OIND', 'intercept']\n",
    "\n",
    "res = sm.OLS(data['volume'].astype('float'), \n",
    "             data[predictors].astype('float')).fit(missing='drop')\n",
    "\n",
    "print(res.summary())"
   ]
  },
  {
   "cell_type": "markdown",
   "metadata": {},
   "source": [
    "#### PMS v RMS"
   ]
  },
  {
   "cell_type": "code",
   "execution_count": 71,
   "metadata": {},
   "outputs": [
    {
     "name": "stdout",
     "output_type": "stream",
     "text": [
      "                            OLS Regression Results                            \n",
      "==============================================================================\n",
      "Dep. Variable:                 volume   R-squared:                       0.020\n",
      "Model:                            OLS   Adj. R-squared:                  0.007\n",
      "Method:                 Least Squares   F-statistic:                     1.605\n",
      "Date:                Mon, 20 Jan 2025   Prob (F-statistic):              0.158\n",
      "Time:                        15:37:52   Log-Likelihood:                -2360.5\n",
      "No. Observations:                 405   AIC:                             4733.\n",
      "Df Residuals:                     399   BIC:                             4757.\n",
      "Df Model:                           5                                         \n",
      "Covariance Type:            nonrobust                                         \n",
      "==============================================================================\n",
      "                 coef    std err          t      P>|t|      [0.025      0.975]\n",
      "------------------------------------------------------------------------------\n",
      "age           -0.4370      0.362     -1.207      0.228      -1.149       0.275\n",
      "Female         5.0423     12.026      0.419      0.675     -18.599      28.684\n",
      "tiv         6.931e-05   3.79e-05      1.829      0.068   -5.21e-06       0.000\n",
      "WITH          -8.3663      8.444     -0.991      0.322     -24.966       8.234\n",
      "RMS            7.5059     11.463      0.655      0.513     -15.030      30.042\n",
      "intercept    151.0051     66.964      2.255      0.025      19.359     282.651\n",
      "==============================================================================\n",
      "Omnibus:                       59.000   Durbin-Watson:                   1.954\n",
      "Prob(Omnibus):                  0.000   Jarque-Bera (JB):              135.179\n",
      "Skew:                           0.753   Prob(JB):                     4.43e-30\n",
      "Kurtosis:                       5.397   Cond. No.                     2.46e+07\n",
      "==============================================================================\n",
      "\n",
      "Notes:\n",
      "[1] Standard Errors assume that the covariance matrix of the errors is correctly specified.\n",
      "[2] The condition number is large, 2.46e+07. This might indicate that there are\n",
      "strong multicollinearity or other numerical problems.\n"
     ]
    }
   ],
   "source": [
    "volume = 'pineal_volume'\n",
    "\n",
    "data = df[['dz_type', 'age', 'sex', 'tiv', 'flair_contrast', volume]]\n",
    "data = data.rename(columns={volume: 'volume'})\n",
    "data = data[data['dz_type'].isin(['RMS', 'PMS'])]\n",
    "data = data[data['flair_contrast'].isin(['WITH', 'WITHOUT'])]\n",
    "\n",
    "data = pd.concat((\n",
    "    data,\n",
    "    pd.get_dummies(data['dz_type']),\n",
    "    pd.get_dummies(data['flair_contrast']),\n",
    "    pd.get_dummies(data['sex'])), axis=1)\n",
    "data['intercept'] = 1\n",
    "\n",
    "predictors = ['age', 'Female', 'tiv', 'WITH', 'RMS', 'intercept']\n",
    "\n",
    "res = sm.OLS(data['volume'].astype('float'), \n",
    "             data[predictors].astype('float')).fit(missing='drop')\n",
    "\n",
    "print(res.summary())"
   ]
  },
  {
   "cell_type": "markdown",
   "metadata": {},
   "source": [
    "### Pituitary\n",
    "\n",
    "#### MS vs not-MS"
   ]
  },
  {
   "cell_type": "code",
   "execution_count": 72,
   "metadata": {},
   "outputs": [
    {
     "name": "stdout",
     "output_type": "stream",
     "text": [
      "                            OLS Regression Results                            \n",
      "==============================================================================\n",
      "Dep. Variable:                 volume   R-squared:                       0.074\n",
      "Model:                            OLS   Adj. R-squared:                  0.065\n",
      "Method:                 Least Squares   F-statistic:                     7.593\n",
      "Date:                Mon, 20 Jan 2025   Prob (F-statistic):           7.10e-07\n",
      "Time:                        15:38:13   Log-Likelihood:                -2995.1\n",
      "No. Observations:                 479   AIC:                             6002.\n",
      "Df Residuals:                     473   BIC:                             6027.\n",
      "Df Model:                           5                                         \n",
      "Covariance Type:            nonrobust                                         \n",
      "==============================================================================\n",
      "                 coef    std err          t      P>|t|      [0.025      0.975]\n",
      "------------------------------------------------------------------------------\n",
      "age           -1.4413      0.470     -3.064      0.002      -2.366      -0.517\n",
      "Male         -78.0587     16.914     -4.615      0.000    -111.294     -44.823\n",
      "tiv            0.0001    5.3e-05      1.994      0.047    1.53e-06       0.000\n",
      "WITH         -12.3822     11.951     -1.036      0.301     -35.866      11.102\n",
      "MS            -1.0461     16.174     -0.065      0.948     -32.828      30.736\n",
      "intercept    622.7388     86.707      7.182      0.000     452.360     793.118\n",
      "==============================================================================\n",
      "Omnibus:                       32.956   Durbin-Watson:                   1.952\n",
      "Prob(Omnibus):                  0.000   Jarque-Bera (JB):               85.237\n",
      "Skew:                          -0.314   Prob(JB):                     3.10e-19\n",
      "Kurtosis:                       4.969   Cond. No.                     2.28e+07\n",
      "==============================================================================\n",
      "\n",
      "Notes:\n",
      "[1] Standard Errors assume that the covariance matrix of the errors is correctly specified.\n",
      "[2] The condition number is large, 2.28e+07. This might indicate that there are\n",
      "strong multicollinearity or other numerical problems.\n"
     ]
    }
   ],
   "source": [
    "volume = 'pituitary_volume'\n",
    "\n",
    "data = df[['dz_type2', 'age', 'sex', 'tiv', 'flair_contrast', volume]]\n",
    "data = data.rename(columns={volume: 'volume'})\n",
    "data = data[data['dz_type2'].isin(['MS', '!MS'])]\n",
    "data = data[data['flair_contrast'].isin(['WITH', 'WITHOUT'])]\n",
    "\n",
    "data = pd.concat((\n",
    "    data,\n",
    "    pd.get_dummies(data['dz_type2']),\n",
    "    pd.get_dummies(data['flair_contrast']),\n",
    "    pd.get_dummies(data['sex'])), axis=1)\n",
    "data['intercept'] = 1\n",
    "\n",
    "predictors = ['age', 'Male', 'tiv', 'WITH', 'MS', 'intercept']\n",
    "\n",
    "res = sm.OLS(data['volume'].astype('float'), \n",
    "             data[predictors].astype('float')).fit(missing='drop')\n",
    "\n",
    "print(res.summary())"
   ]
  },
  {
   "cell_type": "markdown",
   "metadata": {},
   "source": [
    "#### MS vs NIND vs OIND"
   ]
  },
  {
   "cell_type": "code",
   "execution_count": 73,
   "metadata": {},
   "outputs": [
    {
     "name": "stdout",
     "output_type": "stream",
     "text": [
      "                            OLS Regression Results                            \n",
      "==============================================================================\n",
      "Dep. Variable:                 volume   R-squared:                       0.078\n",
      "Model:                            OLS   Adj. R-squared:                  0.066\n",
      "Method:                 Least Squares   F-statistic:                     6.599\n",
      "Date:                Mon, 20 Jan 2025   Prob (F-statistic):           1.04e-06\n",
      "Time:                        15:38:25   Log-Likelihood:                -2982.6\n",
      "No. Observations:                 477   AIC:                             5979.\n",
      "Df Residuals:                     470   BIC:                             6008.\n",
      "Df Model:                           6                                         \n",
      "Covariance Type:            nonrobust                                         \n",
      "==============================================================================\n",
      "                 coef    std err          t      P>|t|      [0.025      0.975]\n",
      "------------------------------------------------------------------------------\n",
      "age           -1.4815      0.474     -3.126      0.002      -2.413      -0.550\n",
      "Female        78.7988     16.949      4.649      0.000      45.494     112.103\n",
      "tiv            0.0001   5.31e-05      2.054      0.041    4.74e-06       0.000\n",
      "WITH         -12.0551     11.978     -1.006      0.315     -35.591      11.481\n",
      "MS            15.7240     20.747      0.758      0.449     -25.043      56.491\n",
      "OIND          39.4164     30.361      1.298      0.195     -20.243      99.076\n",
      "intercept    523.8743     98.484      5.319      0.000     330.350     717.398\n",
      "==============================================================================\n",
      "Omnibus:                       33.039   Durbin-Watson:                   1.947\n",
      "Prob(Omnibus):                  0.000   Jarque-Bera (JB):               90.077\n",
      "Skew:                          -0.295   Prob(JB):                     2.75e-20\n",
      "Kurtosis:                       5.046   Cond. No.                     2.59e+07\n",
      "==============================================================================\n",
      "\n",
      "Notes:\n",
      "[1] Standard Errors assume that the covariance matrix of the errors is correctly specified.\n",
      "[2] The condition number is large, 2.59e+07. This might indicate that there are\n",
      "strong multicollinearity or other numerical problems.\n"
     ]
    }
   ],
   "source": [
    "volume = 'pituitary_volume'\n",
    "\n",
    "data = df[['dz_type3', 'age', 'sex', 'tiv', 'flair_contrast', volume]]\n",
    "data = data.rename(columns={volume: 'volume'})\n",
    "data = data[data['dz_type3'].isin(['MS', 'OIND', 'NIND'])]\n",
    "data = data[data['flair_contrast'].isin(['WITH', 'WITHOUT'])]\n",
    "\n",
    "data = pd.concat((\n",
    "    data,\n",
    "    pd.get_dummies(data['dz_type3']),\n",
    "    pd.get_dummies(data['flair_contrast']),\n",
    "    pd.get_dummies(data['sex'])), axis=1)\n",
    "data['intercept'] = 1\n",
    "\n",
    "predictors = ['age', 'Female', 'tiv', 'WITH', 'MS', 'OIND', 'intercept']\n",
    "\n",
    "res = sm.OLS(data['volume'].astype('float'), \n",
    "             data[predictors].astype('float')).fit(missing='drop')\n",
    "\n",
    "print(res.summary())"
   ]
  },
  {
   "cell_type": "markdown",
   "metadata": {},
   "source": [
    "#### PMS v RMS"
   ]
  },
  {
   "cell_type": "code",
   "execution_count": 74,
   "metadata": {},
   "outputs": [
    {
     "name": "stdout",
     "output_type": "stream",
     "text": [
      "                            OLS Regression Results                            \n",
      "==============================================================================\n",
      "Dep. Variable:                 volume   R-squared:                       0.074\n",
      "Model:                            OLS   Adj. R-squared:                  0.062\n",
      "Method:                 Least Squares   F-statistic:                     6.340\n",
      "Date:                Mon, 20 Jan 2025   Prob (F-statistic):           1.11e-05\n",
      "Time:                        15:38:38   Log-Likelihood:                -2524.6\n",
      "No. Observations:                 405   AIC:                             5061.\n",
      "Df Residuals:                     399   BIC:                             5085.\n",
      "Df Model:                           5                                         \n",
      "Covariance Type:            nonrobust                                         \n",
      "==============================================================================\n",
      "                 coef    std err          t      P>|t|      [0.025      0.975]\n",
      "------------------------------------------------------------------------------\n",
      "age           -1.2256      0.543     -2.259      0.024      -2.292      -0.159\n",
      "Female        72.0817     18.030      3.998      0.000      36.636     107.528\n",
      "tiv            0.0001   5.68e-05      1.925      0.055    -2.3e-06       0.000\n",
      "WITH         -12.1888     12.660     -0.963      0.336     -37.077      12.700\n",
      "RMS           12.0110     17.187      0.699      0.485     -21.777      45.799\n",
      "intercept    522.5879    100.399      5.205      0.000     325.211     719.965\n",
      "==============================================================================\n",
      "Omnibus:                       41.796   Durbin-Watson:                   1.902\n",
      "Prob(Omnibus):                  0.000   Jarque-Bera (JB):               81.362\n",
      "Skew:                          -0.596   Prob(JB):                     2.15e-18\n",
      "Kurtosis:                       4.845   Cond. No.                     2.46e+07\n",
      "==============================================================================\n",
      "\n",
      "Notes:\n",
      "[1] Standard Errors assume that the covariance matrix of the errors is correctly specified.\n",
      "[2] The condition number is large, 2.46e+07. This might indicate that there are\n",
      "strong multicollinearity or other numerical problems.\n"
     ]
    }
   ],
   "source": [
    "volume = 'pituitary_volume'\n",
    "\n",
    "data = df[['dz_type', 'age', 'sex', 'tiv', 'flair_contrast', volume]]\n",
    "data = data.rename(columns={volume: 'volume'})\n",
    "data = data[data['dz_type'].isin(['RMS', 'PMS'])]\n",
    "data = data[data['flair_contrast'].isin(['WITH', 'WITHOUT'])]\n",
    "\n",
    "data = pd.concat((\n",
    "    data,\n",
    "    pd.get_dummies(data['dz_type']),\n",
    "    pd.get_dummies(data['flair_contrast']),\n",
    "    pd.get_dummies(data['sex'])), axis=1)\n",
    "data['intercept'] = 1\n",
    "\n",
    "predictors = ['age', 'Female', 'tiv', 'WITH', 'RMS', 'intercept']\n",
    "\n",
    "res = sm.OLS(data['volume'].astype('float'), \n",
    "             data[predictors].astype('float')).fit(missing='drop')\n",
    "\n",
    "print(res.summary())"
   ]
  },
  {
   "cell_type": "markdown",
   "metadata": {},
   "source": []
  },
  {
   "cell_type": "code",
   "execution_count": 138,
   "metadata": {},
   "outputs": [
    {
     "name": "stdout",
     "output_type": "stream",
     "text": [
      "['age', 'Female', 'WITH', 'MS', 'OIND', 'volume'] \n",
      "\n",
      "                            OLS Regression Results                            \n",
      "==============================================================================\n",
      "Dep. Variable:                numEDSS   R-squared:                       0.196\n",
      "Model:                            OLS   Adj. R-squared:                  0.165\n",
      "Method:                 Least Squares   F-statistic:                     6.367\n",
      "Date:                Mon, 20 Jan 2025   Prob (F-statistic):           5.11e-06\n",
      "Time:                        12:56:23   Log-Likelihood:                -573.43\n",
      "No. Observations:                 164   AIC:                             1161.\n",
      "Df Residuals:                     157   BIC:                             1183.\n",
      "Df Model:                           6                                         \n",
      "Covariance Type:            nonrobust                                         \n",
      "==============================================================================\n",
      "                 coef    std err          t      P>|t|      [0.025      0.975]\n",
      "------------------------------------------------------------------------------\n",
      "x1             0.0184      0.054      0.338      0.736      -0.089       0.126\n",
      "x2             2.8013      1.649      1.699      0.091      -0.455       6.058\n",
      "x3             3.0336      1.321      2.296      0.023       0.424       5.643\n",
      "x4             9.6595      2.232      4.327      0.000       5.250      14.069\n",
      "x5            -2.5900      3.586     -0.722      0.471      -9.673       4.493\n",
      "x6             0.0015      0.001      1.499      0.136      -0.000       0.004\n",
      "const         -4.8394      4.202     -1.152      0.251     -13.140       3.461\n",
      "==============================================================================\n",
      "Omnibus:                       17.137   Durbin-Watson:                   1.466\n",
      "Prob(Omnibus):                  0.000   Jarque-Bera (JB):               19.275\n",
      "Skew:                           0.818   Prob(JB):                     6.52e-05\n",
      "Kurtosis:                       3.382   Cond. No.                     1.64e+04\n",
      "==============================================================================\n",
      "\n",
      "Notes:\n",
      "[1] Standard Errors assume that the covariance matrix of the errors is correctly specified.\n",
      "[2] The condition number is large, 1.64e+04. This might indicate that there are\n",
      "strong multicollinearity or other numerical problems.\n"
     ]
    }
   ],
   "source": [
    "volume = 'choroid_volume'\n",
    "\n",
    "data = df[['dz_type3', 'age', 'sex', 'tiv', 'flair_contrast', volume, 'edss_diff_abs', 'numEDSS']]\n",
    "data = data.rename(columns={volume: 'volume'})\n",
    "data = data[data['dz_type3'].isin(['MS', 'OIND', 'NIND'])]\n",
    "data.loc[:, ['dz_type3_factor']], _ = data['dz_type3'].factorize(sort=False)\n",
    "\n",
    "data = data[data['flair_contrast'].isin(['WITH', 'WITHOUT'])]\n",
    "\n",
    "data = pd.concat((\n",
    "    data,\n",
    "    pd.get_dummies(data['dz_type3']),\n",
    "    pd.get_dummies(data['flair_contrast']),\n",
    "    pd.get_dummies(data['sex'])), axis=1)\n",
    "\n",
    "predictors = ['age', 'Female', 'WITH', 'MS', 'OIND', 'volume']\n",
    "# predictors = ['Male']\n",
    "\n",
    "y = data['numEDSS']\n",
    "x = data[predictors]\n",
    "x = np.asarray(x, dtype='float64')\n",
    "x = np.concatenate((x, np.ones((x.shape[0], 1))), axis=1)\n",
    "\n",
    "res = sm.OLS(y, x).fit(missing='drop')\n",
    "\n",
    "print(predictors, \"\\n\")\n",
    "print(res.summary())"
   ]
  },
  {
   "cell_type": "markdown",
   "metadata": {},
   "source": [
    "Look at EDSS as outcome"
   ]
  },
  {
   "cell_type": "code",
   "execution_count": 141,
   "metadata": {},
   "outputs": [
    {
     "name": "stderr",
     "output_type": "stream",
     "text": [
      "/home/srs-9/.virtualenvs/monai/lib/python3.12/site-packages/scipy/optimize/_optimize.py:1291: OptimizeWarning: Desired error not necessarily achieved due to precision loss.\n",
      "  res = _minimize_bfgs(f, x0, args, fprime, callback=callback, **opts)\n"
     ]
    },
    {
     "name": "stdout",
     "output_type": "stream",
     "text": [
      "         Current function value: 3.066618\n",
      "         Iterations: 117\n",
      "         Function evaluations: 165\n",
      "         Gradient evaluations: 154\n",
      "['age', 'Female', 'tiv', 'WITH', 'MS', 'OIND', 'volume'] \n",
      "\n",
      "                             OrderedModel Results                             \n",
      "==============================================================================\n",
      "Dep. Variable:                numEDSS   Log-Likelihood:                -502.93\n",
      "Model:                   OrderedModel   AIC:                             1084.\n",
      "Method:            Maximum Likelihood   BIC:                             1205.\n",
      "Date:                Mon, 20 Jan 2025                                         \n",
      "Time:                        12:57:51                                         \n",
      "No. Observations:                 164                                         \n",
      "Df Residuals:                     125                                         \n",
      "Df Model:                           7                                         \n",
      "==============================================================================\n",
      "                 coef    std err          z      P>|z|      [0.025      0.975]\n",
      "------------------------------------------------------------------------------\n",
      "x1             0.0082      0.011      0.763      0.446      -0.013       0.029\n",
      "x2             0.1116      0.340      0.328      0.743      -0.554       0.778\n",
      "x3         -7.412e-07   2.54e-07     -2.917      0.004   -1.24e-06   -2.43e-07\n",
      "x4             0.4440      0.285      1.557      0.119      -0.115       1.003\n",
      "x5             3.3443      0.647      5.172      0.000       2.077       4.612\n",
      "x6            -0.5175      0.871     -0.594      0.552      -2.225       1.190\n",
      "x7             0.0009      0.001      0.911      0.362      -0.001       0.003\n",
      "0/1           -0.0076      1.140     -0.007      0.995      -2.243       2.228\n",
      "1/2           -0.1885      0.344     -0.549      0.583      -0.862       0.485\n",
      "2/3           -1.8400      0.702     -2.623      0.009      -3.215      -0.465\n",
      "3/4           -0.7727      0.373     -2.073      0.038      -1.503      -0.042\n",
      "4/5           -1.3232      0.442     -2.992      0.003      -2.190      -0.456\n",
      "5/6           -1.9726      0.573     -3.445      0.001      -3.095      -0.850\n",
      "6/7           -0.4732      0.241     -1.962      0.050      -0.946      -0.000\n",
      "7/8           -1.1276      0.307     -3.672      0.000      -1.730      -0.526\n",
      "8/9           -1.4465      0.345     -4.191      0.000      -2.123      -0.770\n",
      "9/10          -1.2818      0.307     -4.173      0.000      -1.884      -0.680\n",
      "10/11         -1.2076      0.292     -4.134      0.000      -1.780      -0.635\n",
      "11/12         -1.6343      0.370     -4.417      0.000      -2.360      -0.909\n",
      "12/13         -1.2282      0.307     -4.005      0.000      -1.829      -0.627\n",
      "13/14         -3.4971      0.997     -3.507      0.000      -5.452      -1.543\n",
      "14/15         -1.8489      0.440     -4.201      0.000      -2.712      -0.986\n",
      "15/16         -2.7211      0.703     -3.870      0.000      -4.099      -1.343\n",
      "16/17         -1.7778      0.440     -4.040      0.000      -2.640      -0.915\n",
      "17/18         -1.5107      0.400     -3.773      0.000      -2.296      -0.726\n",
      "18/19         -1.8094      0.493     -3.669      0.000      -2.776      -0.843\n",
      "19/20         -3.1413      0.996     -3.155      0.002      -5.093      -1.190\n",
      "20/21         -2.4158      0.703     -3.437      0.001      -3.794      -1.038\n",
      "21/22         -1.6394      0.493     -3.324      0.001      -2.606      -0.673\n",
      "22/23         -2.9469      0.997     -2.957      0.003      -4.900      -0.994\n",
      "23/24         -2.2025      0.702     -3.137      0.002      -3.579      -0.826\n",
      "24/25         -1.7009      0.572     -2.975      0.003      -2.821      -0.581\n",
      "25/26         -1.9935      0.702     -2.840      0.005      -3.369      -0.618\n",
      "26/27         -1.4414      0.572     -2.522      0.012      -2.562      -0.321\n",
      "27/28         -1.2333      0.572     -2.156      0.031      -2.355      -0.112\n",
      "28/32         -0.9599      0.574     -1.673      0.094      -2.085       0.165\n",
      "32/33         -1.0431      0.706     -1.478      0.139      -2.426       0.340\n",
      "33/38         -0.6422      0.710     -0.904      0.366      -2.034       0.750\n",
      "38/40          0.1082      0.738      0.147      0.883      -1.339       1.555\n",
      "==============================================================================\n"
     ]
    },
    {
     "name": "stderr",
     "output_type": "stream",
     "text": [
      "/home/srs-9/.virtualenvs/monai/lib/python3.12/site-packages/statsmodels/base/model.py:607: ConvergenceWarning: Maximum Likelihood optimization failed to converge. Check mle_retvals\n",
      "  warnings.warn(\"Maximum Likelihood optimization failed to \"\n"
     ]
    }
   ],
   "source": [
    "from statsmodels.miscmodels.ordinal_model import OrderedModel\n",
    "\n",
    "volume = 'pituitary_volume'\n",
    "\n",
    "data = df[['dz_type3', 'age', 'sex', 'tiv', 'flair_contrast', 'numEDSS', volume, 'brain']]\n",
    "data = data.rename(columns={volume: 'volume'})\n",
    "data = data[data['dz_type3'].isin(['MS', 'OIND', 'NIND'])]\n",
    "data.loc[:, ['dz_type3_factor']], _ = data['dz_type3'].factorize(sort=False)\n",
    "\n",
    "data = data[data['flair_contrast'].isin(['WITH', 'WITHOUT'])]\n",
    "\n",
    "data = pd.concat((\n",
    "    data,\n",
    "    pd.get_dummies(data['dz_type3']),\n",
    "    pd.get_dummies(data['flair_contrast']),\n",
    "    pd.get_dummies(data['sex'])), axis=1)\n",
    "\n",
    "predictors = ['age', 'Female', 'tiv', 'WITH', 'MS', 'OIND', 'volume']\n",
    "# predictors = ['Male']\n",
    "\n",
    "data = data.dropna()\n",
    "y = data['numEDSS']\n",
    "x = data[predictors]\n",
    "x = np.asarray(x, dtype='float64')\n",
    "\n",
    "mod = OrderedModel(data['numEDSS'], x, distr='logit', disp=False)\n",
    "res = mod.fit(method='bfgs')\n",
    "\n",
    "print(predictors, \"\\n\")\n",
    "print(res.summary())"
   ]
  },
  {
   "cell_type": "code",
   "execution_count": 92,
   "metadata": {},
   "outputs": [
    {
     "data": {
      "text/plain": [
       "CategoricalDtype(categories=[ 1.0,  1.5,  2.0,  2.5,  3.0,  3.5,  4.0,  4.5,  5.0,  5.5,\n",
       "                   6.0,  6.5,  7.0,  7.5,  8.0,  8.5,  9.0,  9.5, 10.0, 10.5,\n",
       "                  11.0],\n",
       ", ordered=True, categories_dtype=float64)"
      ]
     },
     "execution_count": 92,
     "metadata": {},
     "output_type": "execute_result"
    }
   ],
   "source": [
    "data['numEDSS'].dtype"
   ]
  },
  {
   "cell_type": "code",
   "execution_count": null,
   "metadata": {},
   "outputs": [],
   "source": [
    "url = \"https://stats.idre.ucla.edu/stat/data/ologit.dta\"\n",
    "data_student = pd.read_stata(url)\n",
    "\n",
    "mod_prob = OrderedModel(data_student['apply'],\n",
    "                        data_student[['pared', 'public', 'gpa']],\n",
    "                        distr='probit')\n",
    "\n",
    "res_prob = mod_prob.fit(method='bfgs')\n",
    "res_prob.summary()"
   ]
  },
  {
   "cell_type": "code",
   "execution_count": 93,
   "metadata": {},
   "outputs": [
    {
     "data": {
      "text/plain": [
       "CategoricalDtype(categories=['unlikely', 'somewhat likely', 'very likely'], ordered=True, categories_dtype=object)"
      ]
     },
     "execution_count": 93,
     "metadata": {},
     "output_type": "execute_result"
    }
   ],
   "source": [
    "data_student['apply'].dtype"
   ]
  },
  {
   "cell_type": "code",
   "execution_count": 169,
   "metadata": {},
   "outputs": [
    {
     "name": "stderr",
     "output_type": "stream",
     "text": [
      "/tmp/ipykernel_3054674/2023392845.py:8: FutureWarning: Setting an item of incompatible dtype is deprecated and will raise an error in a future version of pandas. Value '1' has dtype incompatible with bool, please explicitly cast to a compatible dtype first.\n",
      "  test_df.loc[i, 'Female'] = 1\n",
      "/tmp/ipykernel_3054674/2023392845.py:15: FutureWarning: Setting an item of incompatible dtype is deprecated and will raise an error in a future version of pandas. Value '0' has dtype incompatible with bool, please explicitly cast to a compatible dtype first.\n",
      "  test_df.loc[i, 'Male'] = 0\n"
     ]
    }
   ],
   "source": [
    "sex = data.iloc[:30].sex\n",
    "test_volume = data.iloc[:30].volume\n",
    "\n",
    "test_df = pd.DataFrame({'sex': sex, 'volume': volume})\n",
    "test_df = pd.concat((test_df, pd.get_dummies(test_df['sex'])), axis=1)\n",
    "for i, row in test_df.iterrows():\n",
    "    if test_df.loc[i, 'Female']:\n",
    "        test_df.loc[i, 'Female'] = 1\n",
    "    else:\n",
    "        test_df.loc[i, 'Female'] = 0\n",
    "\n",
    "    if row['Male']:\n",
    "        test_df.loc[i, 'Male'] = 1\n",
    "    else:\n",
    "        test_df.loc[i, 'Male'] = 0\n",
    "test_df.to_csv(\"test_df.csv\")"
   ]
  },
  {
   "cell_type": "code",
   "execution_count": 203,
   "metadata": {},
   "outputs": [
    {
     "name": "stdout",
     "output_type": "stream",
     "text": [
      "                 Generalized Linear Model Regression Results                  \n",
      "==============================================================================\n",
      "Dep. Variable:                      y   No. Observations:                   30\n",
      "Model:                            GLM   Df Residuals:                       28\n",
      "Model Family:                Gaussian   Df Model:                            1\n",
      "Link Function:               Identity   Scale:                          9022.9\n",
      "Method:                          IRLS   Log-Likelihood:                -178.15\n",
      "Date:                Thu, 16 Jan 2025   Deviance:                   2.5264e+05\n",
      "Time:                        17:31:00   Pearson chi2:                 2.53e+05\n",
      "No. Iterations:                     3   Pseudo R-squ. (CS):            0.04972\n",
      "Covariance Type:            nonrobust                                         \n",
      "==============================================================================\n",
      "                 coef    std err          z      P>|z|      [0.025      0.975]\n",
      "------------------------------------------------------------------------------\n",
      "x1            49.5466     41.003      1.208      0.227     -30.819     129.912\n",
      "const        187.7391     19.807      9.479      0.000     148.919     226.559\n",
      "==============================================================================\n"
     ]
    }
   ],
   "source": [
    "female = [1, 1, 1, 1, 1, 1, 1, 0, 0, 1, 0, 1, 1, 1, 0, 0, 0, 1, 1, 1, 1, 1, 1, 1, 1, 1, 1, 0, 1, 1]\n",
    "male = [0, 0, 0, 0, 0, 0, 0, 1, 1, 0, 1, 0, 0, 0, 1, 1, 1, 0, 0, 0, 0, 0, 0, 0, 0, 0, 0, 1, 0, 0]\n",
    "const = [1 for i in male]\n",
    "x = np.array([male, const]).transpose()\n",
    "test_volume_list = [38, 345, 210, 147, 136, 150, 284, 208, 202, 244, 330, 115, 133, 400, 223, 81, 447, 277, 84, 154, 161, 177, 312, 227, 185, 144, 150, 170, 129, 116]\n",
    "\n",
    "res = sm.GLM(test_volume_list, x).fit()\n",
    "print(res.summary())"
   ]
  },
  {
   "cell_type": "code",
   "execution_count": 177,
   "metadata": {},
   "outputs": [
    {
     "name": "stdout",
     "output_type": "stream",
     "text": [
      "                                 OLS Regression Results                                \n",
      "=======================================================================================\n",
      "Dep. Variable:                 volume   R-squared (uncentered):                   0.270\n",
      "Model:                            OLS   Adj. R-squared (uncentered):              0.245\n",
      "Method:                 Least Squares   F-statistic:                              10.74\n",
      "Date:                Tue, 14 Jan 2025   Prob (F-statistic):                     0.00272\n",
      "Time:                        17:21:16   Log-Likelihood:                         -199.71\n",
      "No. Observations:                  30   AIC:                                      401.4\n",
      "Df Residuals:                      29   BIC:                                      402.8\n",
      "Df Model:                           1                                                  \n",
      "Covariance Type:            nonrobust                                                  \n",
      "==============================================================================\n",
      "                 coef    std err          t      P>|t|      [0.025      0.975]\n",
      "------------------------------------------------------------------------------\n",
      "x1           237.2756     72.390      3.278      0.003      89.221     385.330\n",
      "==============================================================================\n",
      "Omnibus:                        1.088   Durbin-Watson:                   0.840\n",
      "Prob(Omnibus):                  0.580   Jarque-Bera (JB):                0.475\n",
      "Skew:                          -0.300   Prob(JB):                        0.789\n",
      "Kurtosis:                       3.140   Cond. No.                         1.00\n",
      "==============================================================================\n",
      "\n",
      "Notes:\n",
      "[1] R² is computed without centering (uncentered) since the model does not contain a constant.\n",
      "[2] Standard Errors assume that the covariance matrix of the errors is correctly specified.\n"
     ]
    }
   ],
   "source": [
    "sex_factor = test_df['Female'].to_list()\n",
    "res = sm.OLS(test_volume, sex_factor).fit(missing='drop')\n",
    "\n",
    "print(res.summary())"
   ]
  },
  {
   "cell_type": "markdown",
   "metadata": {},
   "source": [
    "With Python statsmodels.OLS, coefficient does not flip signs when I reverse the coding of a binary variable"
   ]
  },
  {
   "cell_type": "code",
   "execution_count": 192,
   "metadata": {},
   "outputs": [
    {
     "name": "stdout",
     "output_type": "stream",
     "text": [
      "[38, 345, 210, 147, 136, 150, 284, 208, 202, 244, 330, 115, 133, 400, 223, 81, 447, 277, 84, 154, 161, 177, 312, 227, 185, 144, 150, 170, 129, 116]\n"
     ]
    }
   ],
   "source": [
    "test_volume_list = [37.888454, 344.577332, 210.448578, 146.943634, 135.682953, 150.01709, 283.630951, 207.866623, 201.727509, 244.208298, 329.728058, 115.207657, 133.119675, 399.870972, 223.241089, 80.89521, 447.486877, 276.991302, 83.964966, 154.114304, 161.279999, 177.15155, 312.319214, 227.325195, 184.832458, 144.384552, 150.016571, 169.983566, 129.022552, 116.215614]\n",
    "for i, val in enumerate(test_volume_list):\n",
    "    test_volume_list[i] = round(val)\n",
    "print(test_volume_list)"
   ]
  },
  {
   "cell_type": "code",
   "execution_count": null,
   "metadata": {},
   "outputs": [],
   "source": [
    "outcome = \"pineal_volume\"\n",
    "\n",
    "df_test = df[df['dz_type2'].isin(['MS', '!MS'])]\n",
    "\n",
    "df_test.loc[:, ['sex_factor']], _ = df_test['sex'].factorize()\n",
    "df_test.loc[:, 'flair_contrast_factor'], _ = df_test['flair_contrast'].factorize()\n",
    "df_test.loc[:, ['dz_type2_factor']], _ = df_test['dz_type2'].factorize(sort=True)\n",
    "\n",
    "predictors = [\"age\", \"sex_factor\", \"tiv\", \"flair_contrast_factor\", \"dz_type2_factor\"]\n",
    "\n",
    "x = np.asarray(df_test[predictors]).astype(np.float64)\n",
    "Y = np.asarray(df_test[outcome]).astype(np.float64)\n",
    "\n",
    "mod = sm.OLS(Y, x, missing='drop')\n",
    "\n",
    "res = mod.fit()\n",
    "\n",
    "print(f\"{df_test.loc[1001, 'dz_type2']}: {df_test.loc[1001, 'dz_type2_factor']}\")\n",
    "print(predictors, \"\\n\")\n",
    "\n",
    "print(res.summary())"
   ]
  },
  {
   "cell_type": "code",
   "execution_count": 101,
   "metadata": {},
   "outputs": [
    {
     "name": "stdout",
     "output_type": "stream",
     "text": [
      "Optimization terminated successfully.\n",
      "         Current function value: 0.414944\n",
      "         Iterations 6\n",
      "                           Logit Regression Results                           \n",
      "==============================================================================\n",
      "Dep. Variable:                      y   No. Observations:                  456\n",
      "Model:                          Logit   Df Residuals:                      451\n",
      "Method:                           MLE   Df Model:                            4\n",
      "Date:                Tue, 14 Jan 2025   Pseudo R-squ.:                 0.02363\n",
      "Time:                        16:15:43   Log-Likelihood:                -189.21\n",
      "converged:                       True   LL-Null:                       -193.79\n",
      "Covariance Type:            nonrobust   LLR p-value:                   0.05729\n",
      "==============================================================================\n",
      "                 coef    std err          z      P>|z|      [0.025      0.975]\n",
      "------------------------------------------------------------------------------\n",
      "x1             0.0031      0.010      0.311      0.756      -0.017       0.023\n",
      "x2             0.0589      0.346      0.170      0.865      -0.619       0.737\n",
      "x3         -1.645e-06   3.93e-07     -4.183      0.000   -2.42e-06   -8.74e-07\n",
      "x4            -0.3679      0.284     -1.294      0.196      -0.925       0.189\n",
      "x5             0.0037      0.001      3.132      0.002       0.001       0.006\n",
      "==============================================================================\n"
     ]
    },
    {
     "name": "stderr",
     "output_type": "stream",
     "text": [
      "/tmp/ipykernel_3054674/2297185002.py:3: SettingWithCopyWarning: \n",
      "A value is trying to be set on a copy of a slice from a DataFrame.\n",
      "Try using .loc[row_indexer,col_indexer] = value instead\n",
      "\n",
      "See the caveats in the documentation: https://pandas.pydata.org/pandas-docs/stable/user_guide/indexing.html#returning-a-view-versus-a-copy\n",
      "  df_test.loc[:, 'sex_factor'], _ = df_test['sex'].factorize()\n",
      "/tmp/ipykernel_3054674/2297185002.py:4: SettingWithCopyWarning: \n",
      "A value is trying to be set on a copy of a slice from a DataFrame.\n",
      "Try using .loc[row_indexer,col_indexer] = value instead\n",
      "\n",
      "See the caveats in the documentation: https://pandas.pydata.org/pandas-docs/stable/user_guide/indexing.html#returning-a-view-versus-a-copy\n",
      "  df_test.loc[:, 'dz_type2_factor'], _ = df_test['dz_type2'].factorize()\n",
      "/tmp/ipykernel_3054674/2297185002.py:5: SettingWithCopyWarning: \n",
      "A value is trying to be set on a copy of a slice from a DataFrame.\n",
      "Try using .loc[row_indexer,col_indexer] = value instead\n",
      "\n",
      "See the caveats in the documentation: https://pandas.pydata.org/pandas-docs/stable/user_guide/indexing.html#returning-a-view-versus-a-copy\n",
      "  df_test.loc[:, 'flair_contrast_factor'], _ = df_test['flair_contrast'].factorize()\n"
     ]
    }
   ],
   "source": [
    "df_test = df[df['dz_type2'].isin(['MS', '!MS'])]\n",
    "\n",
    "df_test.loc[:, 'sex_factor'], _ = df_test['sex'].factorize()\n",
    "df_test.loc[:, 'dz_type2_factor'], _ = df_test['dz_type2'].factorize()\n",
    "df_test.loc[:, 'flair_contrast_factor'], _ = df_test['flair_contrast'].factorize()\n",
    "\n",
    "predictors = [\"age\", \"sex_factor\", \"tiv\", \"flair_contrast_factor\", \"pineal_volume\"]\n",
    "outcome = \"dz_type2_factor\"\n",
    "\n",
    "x = np.asarray(df_test[predictors]).astype(np.float64)\n",
    "Y = np.asarray(df_test[outcome]).astype(np.float64)\n",
    "\n",
    "mod = sm.Logit(Y, x, missing='drop')\n",
    "\n",
    "res = mod.fit()\n",
    "\n",
    "print(res.summary())"
   ]
  },
  {
   "cell_type": "code",
   "execution_count": 61,
   "metadata": {},
   "outputs": [
    {
     "name": "stdout",
     "output_type": "stream",
     "text": [
      "MS: 1\n",
      "['age', 'sex_factor', 'tiv', 'flair_contrast_factor', 'choroid_volume'] \n",
      "\n",
      "Optimization terminated successfully.\n",
      "         Current function value: 0.443055\n",
      "         Iterations 6\n",
      "                           Logit Regression Results                           \n",
      "==============================================================================\n",
      "Dep. Variable:                      y   No. Observations:                  461\n",
      "Model:                          Logit   Df Residuals:                      456\n",
      "Method:                           MLE   Df Model:                            4\n",
      "Date:                Tue, 14 Jan 2025   Pseudo R-squ.:               -0.005726\n",
      "Time:                        15:38:39   Log-Likelihood:                -204.25\n",
      "converged:                       True   LL-Null:                       -203.09\n",
      "Covariance Type:            nonrobust   LLR p-value:                     1.000\n",
      "==============================================================================\n",
      "                 coef    std err          z      P>|z|      [0.025      0.975]\n",
      "------------------------------------------------------------------------------\n",
      "x1            -0.0004      0.010     -0.042      0.967      -0.019       0.019\n",
      "x2             0.1643      0.336      0.488      0.625      -0.495       0.824\n",
      "x3          1.004e-06   3.95e-07      2.539      0.011    2.29e-07    1.78e-06\n",
      "x4             0.3963      0.294      1.349      0.177      -0.179       0.972\n",
      "x5          -1.88e-05      0.000     -0.073      0.942      -0.001       0.000\n",
      "==============================================================================\n"
     ]
    }
   ],
   "source": [
    "df_test = df[df['dz_type4'].isin(['MS', '!MS'])]\n",
    "\n",
    "df_test.loc[:, 'sex_factor'], _ = df_test['sex'].factorize()\n",
    "df_test.loc[:, 'dz_type4_factor'], _ = df_test['dz_type4'].factorize(sort=True)\n",
    "print(f\"{df_test.loc[1001, 'dz_type4']}: {df_test.loc[1001, 'dz_type4_factor']}\")\n",
    "\n",
    "df_test.loc[:, 'flair_contrast_factor'], _ = df_test['flair_contrast'].factorize()\n",
    "\n",
    "predictors = [\"age\", \"sex_factor\", \"tiv\", \"flair_contrast_factor\", \"choroid_volume\"]\n",
    "outcome = \"dz_type4_factor\"\n",
    "\n",
    "print(predictors, \"\\n\")\n",
    "\n",
    "x = np.asarray(df_test[predictors]).astype(np.float64)\n",
    "Y = np.asarray(df_test[outcome]).astype(np.float64)\n",
    "\n",
    "mod = sm.Logit(Y, x, missing='drop')\n",
    "\n",
    "res = mod.fit()\n",
    "\n",
    "print(res.summary())"
   ]
  },
  {
   "cell_type": "code",
   "execution_count": 114,
   "metadata": {},
   "outputs": [
    {
     "ename": "KeyError",
     "evalue": "'dz_type4'",
     "output_type": "error",
     "traceback": [
      "\u001b[0;31m---------------------------------------------------------------------------\u001b[0m",
      "\u001b[0;31mKeyError\u001b[0m                                  Traceback (most recent call last)",
      "File \u001b[0;32m~/.virtualenvs/monai/lib/python3.12/site-packages/pandas/core/indexes/base.py:3805\u001b[0m, in \u001b[0;36mIndex.get_loc\u001b[0;34m(self, key)\u001b[0m\n\u001b[1;32m   3804\u001b[0m \u001b[38;5;28;01mtry\u001b[39;00m:\n\u001b[0;32m-> 3805\u001b[0m     \u001b[38;5;28;01mreturn\u001b[39;00m \u001b[38;5;28;43mself\u001b[39;49m\u001b[38;5;241;43m.\u001b[39;49m\u001b[43m_engine\u001b[49m\u001b[38;5;241;43m.\u001b[39;49m\u001b[43mget_loc\u001b[49m\u001b[43m(\u001b[49m\u001b[43mcasted_key\u001b[49m\u001b[43m)\u001b[49m\n\u001b[1;32m   3806\u001b[0m \u001b[38;5;28;01mexcept\u001b[39;00m \u001b[38;5;167;01mKeyError\u001b[39;00m \u001b[38;5;28;01mas\u001b[39;00m err:\n",
      "File \u001b[0;32mindex.pyx:167\u001b[0m, in \u001b[0;36mpandas._libs.index.IndexEngine.get_loc\u001b[0;34m()\u001b[0m\n",
      "File \u001b[0;32mindex.pyx:196\u001b[0m, in \u001b[0;36mpandas._libs.index.IndexEngine.get_loc\u001b[0;34m()\u001b[0m\n",
      "File \u001b[0;32mpandas/_libs/hashtable_class_helper.pxi:7081\u001b[0m, in \u001b[0;36mpandas._libs.hashtable.PyObjectHashTable.get_item\u001b[0;34m()\u001b[0m\n",
      "File \u001b[0;32mpandas/_libs/hashtable_class_helper.pxi:7089\u001b[0m, in \u001b[0;36mpandas._libs.hashtable.PyObjectHashTable.get_item\u001b[0;34m()\u001b[0m\n",
      "\u001b[0;31mKeyError\u001b[0m: 'dz_type4'",
      "\nThe above exception was the direct cause of the following exception:\n",
      "\u001b[0;31mKeyError\u001b[0m                                  Traceback (most recent call last)",
      "Cell \u001b[0;32mIn[114], line 4\u001b[0m\n\u001b[1;32m      2\u001b[0m data \u001b[38;5;241m=\u001b[39m df[[\u001b[38;5;124m'\u001b[39m\u001b[38;5;124mdz_type2\u001b[39m\u001b[38;5;124m'\u001b[39m, \u001b[38;5;124m'\u001b[39m\u001b[38;5;124mage\u001b[39m\u001b[38;5;124m'\u001b[39m, \u001b[38;5;124m'\u001b[39m\u001b[38;5;124msex\u001b[39m\u001b[38;5;124m'\u001b[39m, \u001b[38;5;124m'\u001b[39m\u001b[38;5;124mtiv\u001b[39m\u001b[38;5;124m'\u001b[39m, \u001b[38;5;124m'\u001b[39m\u001b[38;5;124mflair_contrast\u001b[39m\u001b[38;5;124m'\u001b[39m, volume]]\n\u001b[1;32m      3\u001b[0m data \u001b[38;5;241m=\u001b[39m data\u001b[38;5;241m.\u001b[39mrename(columns\u001b[38;5;241m=\u001b[39m{volume: \u001b[38;5;124m'\u001b[39m\u001b[38;5;124mvolume\u001b[39m\u001b[38;5;124m'\u001b[39m})\n\u001b[0;32m----> 4\u001b[0m data \u001b[38;5;241m=\u001b[39m data[\u001b[43mdata\u001b[49m\u001b[43m[\u001b[49m\u001b[38;5;124;43m'\u001b[39;49m\u001b[38;5;124;43mdz_type4\u001b[39;49m\u001b[38;5;124;43m'\u001b[39;49m\u001b[43m]\u001b[49m\u001b[38;5;241m.\u001b[39misin([\u001b[38;5;124m'\u001b[39m\u001b[38;5;124mMS\u001b[39m\u001b[38;5;124m'\u001b[39m, \u001b[38;5;124m'\u001b[39m\u001b[38;5;124m!MS\u001b[39m\u001b[38;5;124m'\u001b[39m])]\n\u001b[1;32m      5\u001b[0m data \u001b[38;5;241m=\u001b[39m data[data[\u001b[38;5;124m'\u001b[39m\u001b[38;5;124mflair_contrast\u001b[39m\u001b[38;5;124m'\u001b[39m]\u001b[38;5;241m.\u001b[39misin([\u001b[38;5;124m'\u001b[39m\u001b[38;5;124mWITH\u001b[39m\u001b[38;5;124m'\u001b[39m, \u001b[38;5;124m'\u001b[39m\u001b[38;5;124mWITHOUT\u001b[39m\u001b[38;5;124m'\u001b[39m])]\n\u001b[1;32m      7\u001b[0m data \u001b[38;5;241m=\u001b[39m pd\u001b[38;5;241m.\u001b[39mconcat((\n\u001b[1;32m      8\u001b[0m     data,\n\u001b[1;32m      9\u001b[0m     pd\u001b[38;5;241m.\u001b[39mget_dummies(data[\u001b[38;5;124m'\u001b[39m\u001b[38;5;124mdz_type4\u001b[39m\u001b[38;5;124m'\u001b[39m]),\n\u001b[1;32m     10\u001b[0m     pd\u001b[38;5;241m.\u001b[39mget_dummies(data[\u001b[38;5;124m'\u001b[39m\u001b[38;5;124mflair_contrast\u001b[39m\u001b[38;5;124m'\u001b[39m]),\n\u001b[1;32m     11\u001b[0m     pd\u001b[38;5;241m.\u001b[39mget_dummies(data[\u001b[38;5;124m'\u001b[39m\u001b[38;5;124msex\u001b[39m\u001b[38;5;124m'\u001b[39m])), axis\u001b[38;5;241m=\u001b[39m\u001b[38;5;241m1\u001b[39m)\n",
      "File \u001b[0;32m~/.virtualenvs/monai/lib/python3.12/site-packages/pandas/core/frame.py:4102\u001b[0m, in \u001b[0;36mDataFrame.__getitem__\u001b[0;34m(self, key)\u001b[0m\n\u001b[1;32m   4100\u001b[0m \u001b[38;5;28;01mif\u001b[39;00m \u001b[38;5;28mself\u001b[39m\u001b[38;5;241m.\u001b[39mcolumns\u001b[38;5;241m.\u001b[39mnlevels \u001b[38;5;241m>\u001b[39m \u001b[38;5;241m1\u001b[39m:\n\u001b[1;32m   4101\u001b[0m     \u001b[38;5;28;01mreturn\u001b[39;00m \u001b[38;5;28mself\u001b[39m\u001b[38;5;241m.\u001b[39m_getitem_multilevel(key)\n\u001b[0;32m-> 4102\u001b[0m indexer \u001b[38;5;241m=\u001b[39m \u001b[38;5;28;43mself\u001b[39;49m\u001b[38;5;241;43m.\u001b[39;49m\u001b[43mcolumns\u001b[49m\u001b[38;5;241;43m.\u001b[39;49m\u001b[43mget_loc\u001b[49m\u001b[43m(\u001b[49m\u001b[43mkey\u001b[49m\u001b[43m)\u001b[49m\n\u001b[1;32m   4103\u001b[0m \u001b[38;5;28;01mif\u001b[39;00m is_integer(indexer):\n\u001b[1;32m   4104\u001b[0m     indexer \u001b[38;5;241m=\u001b[39m [indexer]\n",
      "File \u001b[0;32m~/.virtualenvs/monai/lib/python3.12/site-packages/pandas/core/indexes/base.py:3812\u001b[0m, in \u001b[0;36mIndex.get_loc\u001b[0;34m(self, key)\u001b[0m\n\u001b[1;32m   3807\u001b[0m     \u001b[38;5;28;01mif\u001b[39;00m \u001b[38;5;28misinstance\u001b[39m(casted_key, \u001b[38;5;28mslice\u001b[39m) \u001b[38;5;129;01mor\u001b[39;00m (\n\u001b[1;32m   3808\u001b[0m         \u001b[38;5;28misinstance\u001b[39m(casted_key, abc\u001b[38;5;241m.\u001b[39mIterable)\n\u001b[1;32m   3809\u001b[0m         \u001b[38;5;129;01mand\u001b[39;00m \u001b[38;5;28many\u001b[39m(\u001b[38;5;28misinstance\u001b[39m(x, \u001b[38;5;28mslice\u001b[39m) \u001b[38;5;28;01mfor\u001b[39;00m x \u001b[38;5;129;01min\u001b[39;00m casted_key)\n\u001b[1;32m   3810\u001b[0m     ):\n\u001b[1;32m   3811\u001b[0m         \u001b[38;5;28;01mraise\u001b[39;00m InvalidIndexError(key)\n\u001b[0;32m-> 3812\u001b[0m     \u001b[38;5;28;01mraise\u001b[39;00m \u001b[38;5;167;01mKeyError\u001b[39;00m(key) \u001b[38;5;28;01mfrom\u001b[39;00m \u001b[38;5;21;01merr\u001b[39;00m\n\u001b[1;32m   3813\u001b[0m \u001b[38;5;28;01mexcept\u001b[39;00m \u001b[38;5;167;01mTypeError\u001b[39;00m:\n\u001b[1;32m   3814\u001b[0m     \u001b[38;5;66;03m# If we have a listlike key, _check_indexing_error will raise\u001b[39;00m\n\u001b[1;32m   3815\u001b[0m     \u001b[38;5;66;03m#  InvalidIndexError. Otherwise we fall through and re-raise\u001b[39;00m\n\u001b[1;32m   3816\u001b[0m     \u001b[38;5;66;03m#  the TypeError.\u001b[39;00m\n\u001b[1;32m   3817\u001b[0m     \u001b[38;5;28mself\u001b[39m\u001b[38;5;241m.\u001b[39m_check_indexing_error(key)\n",
      "\u001b[0;31mKeyError\u001b[0m: 'dz_type4'"
     ]
    }
   ],
   "source": [
    "volume = 'pineal_volume'\n",
    "data = df[['dz_type4', 'age', 'sex', 'tiv', 'flair_contrast', volume]]\n",
    "data = data.rename(columns={volume: 'volume'})\n",
    "data = data[data['dz_type4'].isin(['MS', '!MS'])]\n",
    "data = data[data['flair_contrast'].isin(['WITH', 'WITHOUT'])]\n",
    "\n",
    "data = pd.concat((\n",
    "    data,\n",
    "    pd.get_dummies(data['dz_type4']),\n",
    "    pd.get_dummies(data['flair_contrast']),\n",
    "    pd.get_dummies(data['sex'])), axis=1)\n",
    "\n",
    "predictors = [\"age\", \"Female\", \"tiv\", 'WITH', \"!MS\"]\n",
    "predictors = [\"MS\"]\n",
    "\n",
    "y = data['volume']\n",
    "x = data[predictors]\n",
    "print(x.columns.tolist(), \"\\n\")\n",
    "\n",
    "x = np.asarray(x, dtype='float64')\n",
    "res = sm.OLS(y, x, missing='drop').fit()\n",
    "print(res.summary())"
   ]
  },
  {
   "cell_type": "code",
   "execution_count": 19,
   "metadata": {},
   "outputs": [
    {
     "name": "stdout",
     "output_type": "stream",
     "text": [
      "                  age          tiv    MS   NIND  WITHOUT   Male\n",
      "subject_id                                                     \n",
      "1001        50.057493  1491310.000  True  False    False  False\n",
      "1002        27.079341  1457902.875  True  False    False  False\n",
      "1003        68.044680  1474545.000  True  False    False  False\n",
      "1004        28.188140  1256718.250  True  False     True  False\n",
      "1005        47.059629  1325065.500  True  False     True  False\n",
      "                                 OLS Regression Results                                \n",
      "=======================================================================================\n",
      "Dep. Variable:                 volume   R-squared (uncentered):                   0.753\n",
      "Model:                            OLS   Adj. R-squared (uncentered):              0.749\n",
      "Method:                 Least Squares   F-statistic:                              226.7\n",
      "Date:                Tue, 14 Jan 2025   Prob (F-statistic):                   3.67e-132\n",
      "Time:                        15:13:47   Log-Likelihood:                         -2760.2\n",
      "No. Observations:                 453   AIC:                                      5532.\n",
      "Df Residuals:                     447   BIC:                                      5557.\n",
      "Df Model:                           6                                                  \n",
      "Covariance Type:            nonrobust                                                  \n",
      "==============================================================================\n",
      "                 coef    std err          t      P>|t|      [0.025      0.975]\n",
      "------------------------------------------------------------------------------\n",
      "x1            -0.3825      0.381     -1.003      0.316      -1.132       0.367\n",
      "x2             0.0002   1.74e-05      8.710      0.000       0.000       0.000\n",
      "x3           -12.8340     20.005     -0.642      0.522     -52.150      26.482\n",
      "x4            66.1320     26.239      2.520      0.012      14.566     117.698\n",
      "x5           -29.1228     10.427     -2.793      0.005     -49.615      -8.630\n",
      "x6           -38.2316     12.718     -3.006      0.003     -63.227     -13.237\n",
      "==============================================================================\n",
      "Omnibus:                      253.961   Durbin-Watson:                   1.930\n",
      "Prob(Omnibus):                  0.000   Jarque-Bera (JB):             3530.903\n",
      "Skew:                           2.101   Prob(JB):                         0.00\n",
      "Kurtosis:                      16.016   Cond. No.                     9.17e+06\n",
      "==============================================================================\n",
      "\n",
      "Notes:\n",
      "[1] R² is computed without centering (uncentered) since the model does not contain a constant.\n",
      "[2] Standard Errors assume that the covariance matrix of the errors is correctly specified.\n",
      "[3] The condition number is large, 9.17e+06. This might indicate that there are\n",
      "strong multicollinearity or other numerical problems.\n"
     ]
    }
   ],
   "source": [
    "volume = 'pineal_volume'\n",
    "data = df[['dz_type3', 'age', 'sex', 'tiv', 'flair_contrast', volume]]\n",
    "data = data.rename(columns={volume: 'volume'})\n",
    "data = data[data['dz_type3'].isin(['MS', 'OIND', 'NIND'])]\n",
    "data = data[data['flair_contrast'].isin(['WITH', 'WITHOUT'])]\n",
    "\n",
    "data = pd.concat((\n",
    "    data,\n",
    "    pd.get_dummies(data['dz_type3']),\n",
    "    pd.get_dummies(data['flair_contrast'], drop_first=True),\n",
    "    pd.get_dummies(data['sex'], drop_first=True)), axis=1)\n",
    "\n",
    "data = data.drop(labels=\"OIND\", axis=\"columns\")\n",
    "y = data['volume']\n",
    "x = data.drop(['dz_type3', 'sex', 'flair_contrast', 'volume'], axis=1)\n",
    "print(x.head())\n",
    "x = np.asarray(x, dtype='float64')\n",
    "res = sm.OLS(y, x).fit()\n",
    "print(res.summary())\n"
   ]
  },
  {
   "cell_type": "code",
   "execution_count": 20,
   "metadata": {},
   "outputs": [],
   "source": [
    "ms_subtypes2 = [\"RRMS\", \"PPMS\", \"SPMS\"]\n",
    "df_ms = df[df['ms_type'].isin(ms_subtypes2)]"
   ]
  },
  {
   "cell_type": "code",
   "execution_count": 21,
   "metadata": {},
   "outputs": [
    {
     "name": "stdout",
     "output_type": "stream",
     "text": [
      "                                 OLS Regression Results                                \n",
      "=======================================================================================\n",
      "Dep. Variable:                      y   R-squared (uncentered):                   0.698\n",
      "Model:                            OLS   Adj. R-squared (uncentered):              0.695\n",
      "Method:                 Least Squares   F-statistic:                              285.3\n",
      "Date:                Tue, 14 Jan 2025   Prob (F-statistic):                    5.78e-96\n",
      "Time:                        15:13:49   Log-Likelihood:                         -2292.6\n",
      "No. Observations:                 374   AIC:                                      4591.\n",
      "Df Residuals:                     371   BIC:                                      4603.\n",
      "Df Model:                           3                                                  \n",
      "Covariance Type:            nonrobust                                                  \n",
      "==============================================================================\n",
      "                 coef    std err          t      P>|t|      [0.025      0.975]\n",
      "------------------------------------------------------------------------------\n",
      "x1             3.6545      0.146     25.017      0.000       3.367       3.942\n",
      "x2             3.4722     14.287      0.243      0.808     -24.622      31.566\n",
      "x3           -34.6575      9.220     -3.759      0.000     -52.787     -16.528\n",
      "==============================================================================\n",
      "Omnibus:                       13.939   Durbin-Watson:                   1.928\n",
      "Prob(Omnibus):                  0.001   Jarque-Bera (JB):               14.498\n",
      "Skew:                           0.474   Prob(JB):                     0.000711\n",
      "Kurtosis:                       3.176   Cond. No.                         123.\n",
      "==============================================================================\n",
      "\n",
      "Notes:\n",
      "[1] R² is computed without centering (uncentered) since the model does not contain a constant.\n",
      "[2] Standard Errors assume that the covariance matrix of the errors is correctly specified.\n"
     ]
    },
    {
     "name": "stderr",
     "output_type": "stream",
     "text": [
      "/tmp/ipykernel_3054674/498226952.py:1: SettingWithCopyWarning: \n",
      "A value is trying to be set on a copy of a slice from a DataFrame.\n",
      "Try using .loc[row_indexer,col_indexer] = value instead\n",
      "\n",
      "See the caveats in the documentation: https://pandas.pydata.org/pandas-docs/stable/user_guide/indexing.html#returning-a-view-versus-a-copy\n",
      "  df_ms.loc[:, 'sex_factor'], _ = df_ms['sex'].factorize()\n",
      "/tmp/ipykernel_3054674/498226952.py:2: SettingWithCopyWarning: \n",
      "A value is trying to be set on a copy of a slice from a DataFrame.\n",
      "Try using .loc[row_indexer,col_indexer] = value instead\n",
      "\n",
      "See the caveats in the documentation: https://pandas.pydata.org/pandas-docs/stable/user_guide/indexing.html#returning-a-view-versus-a-copy\n",
      "  df_ms.loc[:, 'ms_type_factor'], _ = df_ms['ms_type'].factorize()\n"
     ]
    }
   ],
   "source": [
    "df_ms.loc[:, 'sex_factor'], _ = df_ms['sex'].factorize()\n",
    "df_ms.loc[:, 'ms_type_factor'], _ = df_ms['ms_type'].factorize()\n",
    "predictors = [\"age\", \"sex_factor\", \"ms_type_factor\"]\n",
    "outcome = \"pineal_volume\"\n",
    "\n",
    "x = np.asarray(df_ms[predictors]).astype(np.float64)\n",
    "Y = np.asarray(df_ms[outcome]).astype(np.float64)\n",
    "\n",
    "mod = sm.OLS(Y, x, missing='drop')\n",
    "\n",
    "res = mod.fit()\n",
    "\n",
    "print(res.summary())"
   ]
  },
  {
   "cell_type": "code",
   "execution_count": null,
   "metadata": {},
   "outputs": [
    {
     "name": "stdout",
     "output_type": "stream",
     "text": [
      "                                 OLS Regression Results                                \n",
      "=======================================================================================\n",
      "Dep. Variable:                      y   R-squared (uncentered):                   0.885\n",
      "Model:                            OLS   Adj. R-squared (uncentered):              0.885\n",
      "Method:                 Least Squares   F-statistic:                              1592.\n",
      "Date:                Mon, 30 Dec 2024   Prob (F-statistic):                    7.34e-99\n",
      "Time:                        18:30:39   Log-Likelihood:                         -1413.3\n",
      "No. Observations:                 207   AIC:                                      2829.\n",
      "Df Residuals:                     206   BIC:                                      2832.\n",
      "Df Model:                           1                                                  \n",
      "Covariance Type:            nonrobust                                                  \n",
      "==============================================================================\n",
      "                 coef    std err          t      P>|t|      [0.025      0.975]\n",
      "------------------------------------------------------------------------------\n",
      "x1             0.0004   1.04e-05     39.895      0.000       0.000       0.000\n",
      "==============================================================================\n",
      "Omnibus:                        7.156   Durbin-Watson:                   1.931\n",
      "Prob(Omnibus):                  0.028   Jarque-Bera (JB):                6.991\n",
      "Skew:                          -0.384   Prob(JB):                       0.0303\n",
      "Kurtosis:                       3.470   Cond. No.                         1.00\n",
      "==============================================================================\n",
      "\n",
      "Notes:\n",
      "[1] R² is computed without centering (uncentered) since the model does not contain a constant.\n",
      "[2] Standard Errors assume that the covariance matrix of the errors is correctly specified.\n"
     ]
    }
   ],
   "source": [
    "predictors = [\"tiv\"]\n",
    "outcome = \"pituitary_volume\"\n",
    "\n",
    "x = np.asarray(df_ms[predictors]).astype(np.float64)\n",
    "Y = np.asarray(df_ms[outcome]).astype(np.float64)\n",
    "\n",
    "mod = sm.OLS(Y, x, missing='drop')\n",
    "\n",
    "res = mod.fit()\n",
    "\n",
    "print(res.summary())"
   ]
  },
  {
   "cell_type": "code",
   "execution_count": null,
   "metadata": {},
   "outputs": [
    {
     "data": {
      "text/plain": [
       "array([[2.01336035e+01, 1.26161339e+03, 0.00000000e+00, 0.00000000e+00],\n",
       "       [2.88807972e+01, 1.45832702e+03, 0.00000000e+00, 0.00000000e+00],\n",
       "       [6.64704594e+01, 1.35252909e+03, 0.00000000e+00, 0.00000000e+00],\n",
       "       [4.89432185e+01, 1.43492793e+03, 0.00000000e+00, 0.00000000e+00],\n",
       "       [5.90182336e+01, 1.34423632e+03, 0.00000000e+00, 0.00000000e+00],\n",
       "       [3.57882057e+01, 1.82958525e+03, 0.00000000e+00, 0.00000000e+00],\n",
       "       [5.94590155e+01, 1.35972546e+03, 0.00000000e+00, 0.00000000e+00],\n",
       "       [           nan, 1.41245473e+03, 0.00000000e+00, 0.00000000e+00],\n",
       "       [4.23178010e+01, 1.37809810e+03, 0.00000000e+00, 0.00000000e+00],\n",
       "       [6.19640804e+01, 1.59898444e+03, 1.00000000e+00, 1.00000000e+00],\n",
       "       [3.74801511e+01, 1.49433394e+03, 0.00000000e+00, 0.00000000e+00],\n",
       "       [7.23484641e+01, 1.26129874e+03, 0.00000000e+00, 1.00000000e+00],\n",
       "       [4.23506543e+01, 1.40538667e+03, 0.00000000e+00, 0.00000000e+00],\n",
       "       [4.00208071e+01, 1.40781802e+03, 0.00000000e+00, 0.00000000e+00],\n",
       "       [5.83036741e+01, 1.57500795e+03, 1.00000000e+00, 0.00000000e+00],\n",
       "       [3.70722225e+01, 1.46062982e+03, 0.00000000e+00, 0.00000000e+00],\n",
       "       [4.60685539e+01, 1.38494214e+03, 0.00000000e+00, 2.00000000e+00],\n",
       "       [5.47144500e+01, 1.35310876e+03, 0.00000000e+00, 0.00000000e+00],\n",
       "       [3.55253792e+01, 1.67804084e+03, 1.00000000e+00, 2.00000000e+00],\n",
       "       [5.78163500e+01, 1.41754500e+03, 0.00000000e+00, 2.00000000e+00],\n",
       "       [5.56754093e+01, 1.60428189e+03, 0.00000000e+00, 2.00000000e+00],\n",
       "       [6.22542846e+01, 1.23319894e+03, 0.00000000e+00, 2.00000000e+00],\n",
       "       [4.49433280e+01, 1.28357682e+03, 0.00000000e+00, 1.00000000e+00],\n",
       "       [4.91485517e+01, 1.20182361e+03, 0.00000000e+00, 1.00000000e+00],\n",
       "       [4.06614466e+01, 1.29043828e+03, 0.00000000e+00, 1.00000000e+00],\n",
       "       [3.90160434e+01, 1.46666071e+03, 0.00000000e+00, 2.00000000e+00],\n",
       "       [6.04993703e+01, 1.18340640e+03, 0.00000000e+00, 2.00000000e+00],\n",
       "       [5.87307671e+01, 1.38171105e+03, 0.00000000e+00, 1.00000000e+00],\n",
       "       [4.17921481e+01, 1.32765384e+03, 0.00000000e+00, 2.00000000e+00],\n",
       "       [2.42840716e+01, 1.37262829e+03, 0.00000000e+00, 2.00000000e+00],\n",
       "       [3.64096808e+01, 1.77813938e+03, 0.00000000e+00, 2.00000000e+00],\n",
       "       [2.84454909e+01, 1.32082503e+03, 0.00000000e+00, 1.00000000e+00],\n",
       "       [4.63970870e+01, 1.34345949e+03, 0.00000000e+00, 2.00000000e+00],\n",
       "       [5.23052072e+01, 1.39475453e+03, 0.00000000e+00, 2.00000000e+00],\n",
       "       [5.15139900e+01, 1.16987952e+03, 0.00000000e+00, 1.00000000e+00],\n",
       "       [3.93418387e+01, 1.38359759e+03, 0.00000000e+00, 1.00000000e+00]])"
      ]
     },
     "execution_count": 23,
     "metadata": {},
     "output_type": "execute_result"
    }
   ],
   "source": [
    "import numpy as np \n",
    "np.asarray(x)"
   ]
  },
  {
   "cell_type": "code",
   "execution_count": null,
   "metadata": {},
   "outputs": [],
   "source": [
    "spector_data = sm.datasets.spector.load()\n",
    "spector_data.exog = sm.add_constant(spector_data.exog, prepend=False)\n",
    "\n",
    "x1 = "
   ]
  }
 ],
 "metadata": {
  "kernelspec": {
   "display_name": "monai",
   "language": "python",
   "name": "python3"
  },
  "language_info": {
   "codemirror_mode": {
    "name": "ipython",
    "version": 3
   },
   "file_extension": ".py",
   "mimetype": "text/x-python",
   "name": "python",
   "nbconvert_exporter": "python",
   "pygments_lexer": "ipython3",
   "version": "3.12.7"
  }
 },
 "nbformat": 4,
 "nbformat_minor": 2
}
