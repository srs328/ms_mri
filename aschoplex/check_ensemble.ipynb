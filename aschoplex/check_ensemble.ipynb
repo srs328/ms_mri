{
 "cells": [
  {
   "cell_type": "code",
   "execution_count": 11,
   "metadata": {},
   "outputs": [],
   "source": [
    "import os\n",
    "from pathlib import Path\n",
    "import pandas as pd\n",
    "import re\n",
    "import nibabel as nib\n",
    "\n",
    "from mri_data import utils\n",
    "from statistics import mean"
   ]
  },
  {
   "cell_type": "code",
   "execution_count": 6,
   "metadata": {},
   "outputs": [],
   "source": [
    "ensemble_dir = Path(\"/mnt/h/srs-9/aschoplex/test1/work_dir/working_directory_prediction_finetuning/ensemble_prediction\")\n",
    "predictions = [file.name for file in os.scandir(ensemble_dir)]\n",
    "prediction_subs = []\n",
    "for file in predictions:\n",
    "    sub = re.search(r\"MRI_(\\d{4}).+\", file)[1]\n",
    "    prediction_subs.append(int(sub))\n",
    "\n",
    "prediction_labels = [ensemble_dir / file for file in predictions]"
   ]
  },
  {
   "cell_type": "code",
   "execution_count": 5,
   "metadata": {},
   "outputs": [],
   "source": [
    "subjects_file = \"/home/srs-9/Projects/ms_mri/analysis/paper1/data0/manual_labels.csv\"\n",
    "dataroot = Path(\"/mnt/h/3Tpioneer_bids\")\n",
    "df = pd.read_csv(subjects_file, index_col=\"subid\")\n",
    "\n",
    "gt_labels = []\n",
    "for sub in prediction_subs:\n",
    "    sub_root = dataroot / df.loc[sub, \"sub-ses\"]\n",
    "    gt_label = sub_root / \"choroid_t1_flair-CH.nii.gz\"\n",
    "    if not gt_label.is_file():\n",
    "        gt_label = sub_root / \"choroid_t1_flair-ED.nii.gz\"\n",
    "    gt_labels.append(gt_label)"
   ]
  },
  {
   "cell_type": "code",
   "execution_count": 9,
   "metadata": {},
   "outputs": [],
   "source": [
    "dice_scores = []\n",
    "for sub, gt, pred in zip(prediction_subs, gt_labels, prediction_labels):\n",
    "    gt_im = nib.load(gt).get_fdata()\n",
    "    pred_im = nib.load(pred).get_fdata()\n",
    "    dice_scores.append((sub, utils.dice_score(gt_im, pred_im)))"
   ]
  },
  {
   "cell_type": "code",
   "execution_count": 10,
   "metadata": {},
   "outputs": [
    {
     "name": "stdout",
     "output_type": "stream",
     "text": [
      "1011: 0.75\n",
      "1029: 0.70\n",
      "1033: 0.69\n",
      "1037: 0.65\n",
      "1080: 0.71\n",
      "1085: 0.75\n",
      "1087: 0.82\n",
      "1089: 0.77\n",
      "1109: 0.71\n",
      "1119: 0.61\n",
      "1163: 0.71\n",
      "1191: 0.72\n",
      "1234: 0.66\n",
      "1265: 0.68\n",
      "1272: 0.58\n",
      "1280: 0.73\n",
      "1293: 0.71\n",
      "1321: 0.73\n",
      "1437: 0.62\n",
      "1518: 0.71\n",
      "1540: 0.68\n",
      "1547: 0.70\n",
      "1548: 0.70\n",
      "2081: 0.73\n",
      "2083: 0.65\n",
      "2126: 0.72\n",
      "2132: 0.74\n",
      "2144: 0.68\n",
      "2164: 0.73\n",
      "2187: 0.74\n"
     ]
    }
   ],
   "source": [
    "for entry in dice_scores:\n",
    "    print(\"{}: {:0.2f}\".format(entry[0], entry[1]))"
   ]
  },
  {
   "cell_type": "code",
   "execution_count": 12,
   "metadata": {},
   "outputs": [
    {
     "name": "stdout",
     "output_type": "stream",
     "text": [
      "0.7030011397084672\n"
     ]
    }
   ],
   "source": [
    "dices = [entry[1] for entry in dice_scores]\n",
    "print(mean(dices))"
   ]
  },
  {
   "cell_type": "code",
   "execution_count": 14,
   "metadata": {},
   "outputs": [],
   "source": [
    "swinunet_result_file = \"/home/srs-9/Projects/ms_mri/analysis/choroid_pineal_pituitary_crosstrain_t1/dataframe.csv\"\n",
    "df = pd.read_csv(swinunet_result_file, index_col=\"subid\")\n",
    "\n",
    "swin_unet_dices = df.loc[prediction_subs, \"choroid_dice\"]\n",
    "\n",
    "df_compare = pd.DataFrame({\"swinunet\": swin_unet_dices, \"aschoplex\": dices}, index=prediction_subs)"
   ]
  },
  {
   "cell_type": "code",
   "execution_count": 16,
   "metadata": {},
   "outputs": [
    {
     "data": {
      "text/plain": [
       "0.698428828299513"
      ]
     },
     "execution_count": 16,
     "metadata": {},
     "output_type": "execute_result"
    }
   ],
   "source": [
    "df['choroid_dice'].mean()"
   ]
  }
 ],
 "metadata": {
  "kernelspec": {
   "display_name": "monai",
   "language": "python",
   "name": "python3"
  },
  "language_info": {
   "codemirror_mode": {
    "name": "ipython",
    "version": 3
   },
   "file_extension": ".py",
   "mimetype": "text/x-python",
   "name": "python",
   "nbconvert_exporter": "python",
   "pygments_lexer": "ipython3",
   "version": "3.12.4"
  }
 },
 "nbformat": 4,
 "nbformat_minor": 2
}
