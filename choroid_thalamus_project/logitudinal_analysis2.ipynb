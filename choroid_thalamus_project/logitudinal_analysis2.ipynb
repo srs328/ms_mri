{
 "cells": [
  {
   "cell_type": "code",
   "execution_count": 1,
   "id": "d9dc9c62",
   "metadata": {},
   "outputs": [],
   "source": [
    "import pandas as pd\n",
    "from pathlib import Path\n",
    "import json\n",
    "import numpy as np\n",
    "from collections import defaultdict\n",
    "import matplotlib.pyplot as plt\n",
    "from datetime import datetime\n",
    "import re\n",
    "from scipy import stats\n",
    "import numpy as np\n",
    "import statsmodels.api as sm\n",
    "from matplotlib import colormaps\n",
    "from scipy.optimize import curve_fit\n",
    "from tqdm.notebook import tqdm\n",
    "from collections import defaultdict\n",
    "import statsmodels.formula.api as smf\n",
    "\n",
    "from mri_data import file_manager as fm"
   ]
  },
  {
   "cell_type": "markdown",
   "id": "5d8c967f",
   "metadata": {},
   "source": [
    "See if I can use NIND group to adjust the subnuclei changes ([this paper](https://pmc.ncbi.nlm.nih.gov/articles/PMC11087027/) as inspiration)"
   ]
  },
  {
   "cell_type": "code",
   "execution_count": 2,
   "id": "89e12f74",
   "metadata": {},
   "outputs": [
    {
     "name": "stdout",
     "output_type": "stream",
     "text": [
      "/media/smbshare/srs-9/longitudinal/sub1163\n"
     ]
    }
   ],
   "source": [
    "drive_root = fm.get_drive_root()\n",
    "dataroot = drive_root / \"3Tpioneer_bids\"\n",
    "work_home = drive_root / \"srs-9/longitudinal\"\n",
    "data_dir = Path(\"/home/srs-9/Projects/ms_mri/data\")\n",
    "date_format = \"%Y%m%d\"\n",
    "fig_path = Path(\"/home/srs-9/Projects/ms_mri/choroid_thalamus_project/figures\")\n",
    "\n",
    "choroid_volumes = pd.read_csv(\"/home/srs-9/Projects/ms_mri/data/choroid_aschoplex_volumes.csv\",\n",
    "                              index_col=\"subid\").dropna()\n",
    "\n",
    "thalamic_nuclei = [2, 4, 5, 6, 7, 8, 9, 10, 11, 12]\n",
    "thalamic_nuclei_str = [str(i) for i in thalamic_nuclei]\n",
    "\n",
    "hips_thomas_ref = pd.read_csv(\"/home/srs-9/Projects/ms_mri/data/hipsthomas_struct_index.csv\", \n",
    "                              index_col=\"index\")\n",
    "hips_thomas_ref.rename(columns={\"struct\": \"struct_name\"}, inplace=True)\n",
    "hips_thomas_ref = pd.Series(hips_thomas_ref['struct_name'])\n",
    "main_index = hips_thomas_ref.index[~hips_thomas_ref.index.isin([1, 33, 34])]\n",
    "\n",
    "with open(dataroot / \"subject-sessions-longit.json\", 'r') as f:\n",
    "    subject_sessions = json.load(f)\n",
    "\n",
    "choroid_dists = pd.read_csv(data_dir / \"centroid-choroid_centroid.csv\", index_col=\"subid\")\n",
    "choroid_dists[\"1\"] = 4\n",
    "\n",
    "ventricle_dists = pd.read_csv(data_dir / \"centroid-ventricle_SDT.csv\", index_col=\"subid\")\n",
    "ventricle_dists[\"1\"] = 4\n",
    "\n",
    "tiv = pd.read_csv(\"/home/srs-9/Projects/ms_mri/data/tiv_data.csv\", index_col=\"subid\")\n",
    "df_clinical = pd.read_csv(\"/home/srs-9/Projects/ms_mri/data/clinical_data_processed.csv\", index_col=\"subid\")\n",
    "df_clinical = df_clinical.join([choroid_volumes, tiv])\n",
    "\n",
    "viridis = colormaps['viridis'].resampled(20)\n",
    "\n",
    "all_subjects = []\n",
    "for folder in work_home.glob(\"sub*\"):\n",
    "    if len(list((folder / \"left\").glob(\"*.csv\"))) > 0 and len(list((folder / \"right\").glob(\"*.csv\"))) > 0:\n",
    "        all_subjects.append(re.match(r\"sub(\\d{4})\", folder.name)[1])\n",
    "    else:\n",
    "        print(folder)\n",
    "all_subjects.remove(\"1064\")\n",
    "all_subids = [int(sub) for sub in all_subjects]\n",
    "\n",
    "choroid_changes = pd.read_csv(\"/home/srs-9/Projects/ms_mri/data/choroid_longitudinal_changes.csv\", index_col=\"subid\")\n",
    "choroid_changes['abs_change'] = choroid_changes['volume2'] - choroid_changes['volume1']\n",
    "choroid_changes['norm_change'] = choroid_changes['abs_change'] / choroid_changes['t_delta']\n",
    "\n",
    "mni_dists = pd.read_csv(\"/home/srs-9/Projects/ms_mri/data/mni_centroid_centroid_dists.csv\", index_col=\"index\")"
   ]
  },
  {
   "cell_type": "code",
   "execution_count": 3,
   "id": "fb49e73e",
   "metadata": {},
   "outputs": [],
   "source": [
    "def get_subject_data(subid):\n",
    "    sessions = sorted(subject_sessions[subid])\n",
    "    work_dir = work_home / f\"sub{subid}\"\n",
    "\n",
    "    index = hips_thomas_ref.index[~hips_thomas_ref.index.isin([34, 33])]\n",
    "    session_volumes = defaultdict(list)\n",
    "    # just copy first and last to speed things up\n",
    "    sessions = sorted(sessions)\n",
    "    sessions = [sessions[0], sessions[-1]]\n",
    "    for sesid in sessions:\n",
    "        ses_dataL = pd.read_csv(work_dir / \"left\" / f\"hipsthomas_full_jacobianinv-{sesid}.csv\", index_col=\"struct\")\n",
    "        ses_dataR = pd.read_csv(work_dir / \"right\" / f\"hipsthomas_full_jacobianinv-{sesid}.csv\", index_col=\"struct\")\n",
    "        vols = []\n",
    "        for i in index:\n",
    "            left_vol = ses_dataL.loc[i, 'volumes'] / ses_dataL.loc[i, 'jac_det']\n",
    "            right_vol = ses_dataR.loc[i, 'volumes'] / ses_dataR.loc[i, 'jac_det']\n",
    "            # vols.append(left_vol+right_vol)\n",
    "            vols.append(left_vol)\n",
    "        session_volumes[sesid] = vols\n",
    "\n",
    "    df = pd.DataFrame(session_volumes, index=index)\n",
    "    data = pd.DataFrame({}, index=df.index)\n",
    "    for ind in data.index:\n",
    "        data.loc[ind, 'choroid_dist'] = choroid_dists.loc[int(subid), str(ind)]\n",
    "        data.loc[ind, 'ventricle_dist'] = ventricle_dists.loc[int(subid), str(ind)]\n",
    "    # data['choroid_dist'] = choroid_dists.loc[int(subid), :].tolist()\n",
    "    # data['ventricle_dist'] = ventricle_dists.loc[int(subid), :].tolist()\n",
    "    changes = [(row[sessions[-1]] - row[sessions[0]])/row[sessions[0]] for _,row in df.iterrows()]\n",
    "    # changes = [(row[sessions[-1]]/row[sessions[0]]) for _,row in df.iterrows()]\n",
    "\n",
    "    # changes = [change / max([np.abs(max(changes)), np.abs(min(changes))]) for change in changes]\n",
    "    data['change'] = changes\n",
    "\n",
    "    delta = datetime.strptime(str(df.columns[-1]), date_format) - datetime.strptime(str(df.columns[0]), date_format)\n",
    "    t_delta = delta.days / 365\n",
    "\n",
    "    return {'data': data, 't_delta': t_delta}"
   ]
  },
  {
   "cell_type": "code",
   "execution_count": 16,
   "id": "84db3c44",
   "metadata": {},
   "outputs": [
    {
     "name": "stderr",
     "output_type": "stream",
     "text": [
      "/tmp/ipykernel_451215/374536539.py:28: RuntimeWarning: invalid value encountered in scalar divide\n",
      "  changes = [(row[sessions[-1]] - row[sessions[0]])/row[sessions[0]] for _,row in df.iterrows()]\n"
     ]
    },
    {
     "name": "stdout",
     "output_type": "stream",
     "text": [
      "78\n"
     ]
    }
   ],
   "source": [
    "subjects = [subid for subid in all_subjects if df_clinical.loc[int(subid), \"dz_type2\"] == \"MS\"]\n",
    "# subjects = [subid for subid in subjects if df_clinical.loc[int(subid), \"dzdur\"] < 8]\n",
    "# subjects = [subid for subid in all_subjects if df_clinical.loc[int(subid), \"dz_type5\"] == \"RMS\"]\n",
    "# subjects = all_subjects\n",
    "# subjects = subjects[11:24]\n",
    "data_structs = {}\n",
    "for subid in subjects:\n",
    "    try:\n",
    "        data_structs[subid] = get_subject_data(subid)\n",
    "    except Exception:\n",
    "        print(f\"Failed {subid}\")\n",
    "        continue\n",
    "data_eg = data_structs[subjects[0]]['data']\n",
    "print(len(subjects))"
   ]
  },
  {
   "cell_type": "code",
   "execution_count": 17,
   "id": "286c5a3d",
   "metadata": {},
   "outputs": [
    {
     "name": "stderr",
     "output_type": "stream",
     "text": [
      "/tmp/ipykernel_451215/552313624.py:16: FutureWarning: Setting an item of incompatible dtype is deprecated and will raise an error in a future version of pandas. Value '15.25' has dtype incompatible with int64, please explicitly cast to a compatible dtype first.\n",
      "  full_df.loc[full_df[col].isna(), col] = full_df[col].mean()\n"
     ]
    }
   ],
   "source": [
    "covariates = [\"age\", \"Female\", \"tiv\", \"choroid_volume\", \"t2lv_logtrans\", \"PRL\", \"dzdur\"]\n",
    "data_frames = []\n",
    "for subid in subjects:\n",
    "    data_struct = data_structs[subid]\n",
    "    data = data_struct['data'].reset_index()\n",
    "    data['t_delta'] = data_struct['t_delta']\n",
    "    data['subid'] = subid\n",
    "    for covar in covariates:\n",
    "        data[covar] = df_clinical.loc[int(subid), covar]\n",
    "    data_frames.append(data)\n",
    "\n",
    "full_df = pd.concat(data_frames, axis=0, ignore_index=True)\n",
    "numeric_cols = full_df.select_dtypes(include='number').columns\n",
    "\n",
    "for col in numeric_cols:\n",
    "    full_df.loc[full_df[col].isna(), col] = full_df[col].mean()\n",
    "full_df['index'] = full_df['index'].astype(\"int\")\n",
    "for i, name in hips_thomas_ref.items():\n",
    "    full_df.loc[full_df['index'] == i, \"struct_name\"] = name"
   ]
  },
  {
   "cell_type": "code",
   "execution_count": 18,
   "id": "e6fccc98",
   "metadata": {},
   "outputs": [
    {
     "name": "stderr",
     "output_type": "stream",
     "text": [
      "/tmp/ipykernel_451215/3222068789.py:1: FutureWarning: DataFrame.interpolate with object dtype is deprecated and will raise in a future version. Call obj.infer_objects(copy=False) before interpolating instead.\n",
      "  model_data = full_df.interpolate()\n"
     ]
    },
    {
     "name": "stdout",
     "output_type": "stream",
     "text": [
      "         Mixed Linear Model Regression Results\n",
      "========================================================\n",
      "Model:            MixedLM Dependent Variable: change    \n",
      "No. Observations: 1560    Method:             REML      \n",
      "No. Groups:       78      Scale:              0.8863    \n",
      "Min. group size:  20      Log-Likelihood:     -2176.9785\n",
      "Max. group size:  20      Converged:          Yes       \n",
      "Mean group size:  20.0                                  \n",
      "--------------------------------------------------------\n",
      "              Coef.  Std.Err.   z    P>|z| [0.025 0.975]\n",
      "--------------------------------------------------------\n",
      "Intercept     -0.000    0.044 -0.000 1.000 -0.087  0.087\n",
      "choroid_dist   0.052    0.024  2.180 0.029  0.005  0.099\n",
      "age           -0.039    0.048 -0.818 0.414 -0.134  0.055\n",
      "Female         0.033    0.048  0.692 0.489 -0.061  0.128\n",
      "t_delta       -0.088    0.045 -1.958 0.050 -0.176  0.000\n",
      "Group Var      0.110    0.028                           \n",
      "========================================================\n",
      "\n"
     ]
    }
   ],
   "source": [
    "model_data = full_df.interpolate()\n",
    "# model_data = model_data[model_data['index'].isin(thalamic_nuclei)]\n",
    "model_data[numeric_cols] = model_data[numeric_cols].apply(stats.zscore, nan_policy=\"omit\")\n",
    "formula = \"change ~ choroid_dist + age + Female + t_delta\"\n",
    "md = smf.mixedlm(formula, model_data, groups=model_data['subid'], missing='omit')\n",
    "mdf = md.fit()\n",
    "print(mdf.summary())"
   ]
  },
  {
   "cell_type": "code",
   "execution_count": 105,
   "id": "defc3fd2",
   "metadata": {},
   "outputs": [
    {
     "data": {
      "application/vnd.microsoft.datawrangler.viewer.v0+json": {
       "columns": [
        {
         "name": "index",
         "rawType": "int64",
         "type": "integer"
        },
        {
         "name": "index",
         "rawType": "bool",
         "type": "boolean"
        }
       ],
       "ref": "2fa61ad0-eacd-4d4d-8427-b6f224dd5bda",
       "rows": [
        [
         "0",
         "False"
        ],
        [
         "1",
         "True"
        ],
        [
         "2",
         "True"
        ],
        [
         "3",
         "True"
        ],
        [
         "4",
         "True"
        ],
        [
         "5",
         "True"
        ],
        [
         "6",
         "True"
        ],
        [
         "7",
         "True"
        ],
        [
         "8",
         "True"
        ],
        [
         "9",
         "True"
        ],
        [
         "10",
         "True"
        ],
        [
         "11",
         "False"
        ],
        [
         "12",
         "False"
        ],
        [
         "13",
         "False"
        ],
        [
         "14",
         "False"
        ],
        [
         "15",
         "False"
        ],
        [
         "16",
         "False"
        ],
        [
         "17",
         "False"
        ],
        [
         "18",
         "False"
        ],
        [
         "19",
         "False"
        ],
        [
         "20",
         "False"
        ],
        [
         "21",
         "True"
        ],
        [
         "22",
         "True"
        ],
        [
         "23",
         "True"
        ],
        [
         "24",
         "True"
        ],
        [
         "25",
         "True"
        ],
        [
         "26",
         "True"
        ],
        [
         "27",
         "True"
        ],
        [
         "28",
         "True"
        ],
        [
         "29",
         "True"
        ],
        [
         "30",
         "True"
        ],
        [
         "31",
         "False"
        ],
        [
         "32",
         "False"
        ],
        [
         "33",
         "False"
        ],
        [
         "34",
         "False"
        ],
        [
         "35",
         "False"
        ],
        [
         "36",
         "False"
        ],
        [
         "37",
         "False"
        ],
        [
         "38",
         "False"
        ],
        [
         "39",
         "False"
        ],
        [
         "40",
         "False"
        ],
        [
         "41",
         "True"
        ],
        [
         "42",
         "True"
        ],
        [
         "43",
         "True"
        ],
        [
         "44",
         "True"
        ],
        [
         "45",
         "True"
        ],
        [
         "46",
         "True"
        ],
        [
         "47",
         "True"
        ],
        [
         "48",
         "True"
        ],
        [
         "49",
         "True"
        ]
       ],
       "shape": {
        "columns": 1,
        "rows": 1560
       }
      },
      "text/plain": [
       "0       False\n",
       "1        True\n",
       "2        True\n",
       "3        True\n",
       "4        True\n",
       "        ...  \n",
       "1555    False\n",
       "1556    False\n",
       "1557    False\n",
       "1558    False\n",
       "1559    False\n",
       "Name: index, Length: 1560, dtype: bool"
      ]
     },
     "execution_count": 105,
     "metadata": {},
     "output_type": "execute_result"
    }
   ],
   "source": [
    "full_df['index'].astype(\"int\").isin(thalamic_nuclei)"
   ]
  },
  {
   "cell_type": "code",
   "execution_count": 52,
   "id": "b2a16e2c",
   "metadata": {},
   "outputs": [],
   "source": [
    "data = sm.datasets.get_rdataset(\"dietox\", \"geepack\").data"
   ]
  },
  {
   "cell_type": "code",
   "execution_count": 41,
   "id": "d1e0cc20",
   "metadata": {},
   "outputs": [
    {
     "data": {
      "text/plain": [
       "'3021'"
      ]
     },
     "execution_count": 41,
     "metadata": {},
     "output_type": "execute_result"
    }
   ],
   "source": [
    "full_df.loc[1559, \"subid\"]"
   ]
  },
  {
   "cell_type": "code",
   "execution_count": 44,
   "id": "411c266d",
   "metadata": {},
   "outputs": [
    {
     "data": {
      "application/vnd.microsoft.datawrangler.viewer.v0+json": {
       "columns": [
        {
         "name": "index",
         "rawType": "int64",
         "type": "integer"
        },
        {
         "name": "Pig",
         "rawType": "int64",
         "type": "integer"
        },
        {
         "name": "Evit",
         "rawType": "object",
         "type": "string"
        },
        {
         "name": "Cu",
         "rawType": "object",
         "type": "string"
        },
        {
         "name": "Litter",
         "rawType": "int64",
         "type": "integer"
        },
        {
         "name": "Start",
         "rawType": "float64",
         "type": "float"
        },
        {
         "name": "Weight",
         "rawType": "float64",
         "type": "float"
        },
        {
         "name": "Feed",
         "rawType": "float64",
         "type": "float"
        },
        {
         "name": "Time",
         "rawType": "int64",
         "type": "integer"
        }
       ],
       "ref": "8f47bdd0-5547-447a-9ee3-210e825f066c",
       "rows": [
        [
         "0",
         "4601",
         "Evit000",
         "Cu000",
         "1",
         "26.5",
         "26.5",
         null,
         "1"
        ],
        [
         "1",
         "4601",
         "Evit000",
         "Cu000",
         "1",
         "26.5",
         "27.59999",
         "5.200005",
         "2"
        ],
        [
         "2",
         "4601",
         "Evit000",
         "Cu000",
         "1",
         "26.5",
         "36.5",
         "17.6",
         "3"
        ],
        [
         "3",
         "4601",
         "Evit000",
         "Cu000",
         "1",
         "26.5",
         "40.29999",
         "28.5",
         "4"
        ],
        [
         "4",
         "4601",
         "Evit000",
         "Cu000",
         "1",
         "26.5",
         "49.09998",
         "45.200001",
         "5"
        ],
        [
         "5",
         "4601",
         "Evit000",
         "Cu000",
         "1",
         "26.5",
         "55.39999",
         "56.900002",
         "6"
        ],
        [
         "6",
         "4601",
         "Evit000",
         "Cu000",
         "1",
         "26.5",
         "59.59998",
         "71.700005",
         "7"
        ],
        [
         "7",
         "4601",
         "Evit000",
         "Cu000",
         "1",
         "26.5",
         "67.0",
         "86.800001",
         "8"
        ],
        [
         "8",
         "4601",
         "Evit000",
         "Cu000",
         "1",
         "26.5",
         "76.59998",
         "104.900002",
         "9"
        ],
        [
         "9",
         "4601",
         "Evit000",
         "Cu000",
         "1",
         "26.5",
         "86.5",
         "123.0",
         "10"
        ],
        [
         "10",
         "4601",
         "Evit000",
         "Cu000",
         "1",
         "26.5",
         "91.59998",
         "140.900002",
         "11"
        ],
        [
         "11",
         "4601",
         "Evit000",
         "Cu000",
         "1",
         "26.5",
         "98.59998",
         "160.0",
         "12"
        ],
        [
         "12",
         "4602",
         "Evit000",
         "Cu035",
         "1",
         "28.29999",
         "28.29999",
         null,
         "1"
        ],
        [
         "13",
         "4602",
         "Evit000",
         "Cu035",
         "1",
         "28.29999",
         "30.09999",
         "3.300003",
         "2"
        ],
        [
         "14",
         "4602",
         "Evit000",
         "Cu035",
         "1",
         "28.29999",
         "38.29999",
         "13.200001",
         "3"
        ],
        [
         "15",
         "4602",
         "Evit000",
         "Cu035",
         "1",
         "28.29999",
         "44.5",
         "26.1",
         "4"
        ],
        [
         "16",
         "4602",
         "Evit000",
         "Cu035",
         "1",
         "28.29999",
         "51.59998",
         "43.600002",
         "5"
        ],
        [
         "17",
         "4602",
         "Evit000",
         "Cu035",
         "1",
         "28.29999",
         "57.59998",
         "55.200001",
         "6"
        ],
        [
         "18",
         "4602",
         "Evit000",
         "Cu035",
         "1",
         "28.29999",
         "65.0",
         "72.800003",
         "7"
        ],
        [
         "19",
         "4602",
         "Evit000",
         "Cu035",
         "1",
         "28.29999",
         "73.0",
         "90.800003",
         "8"
        ],
        [
         "20",
         "4602",
         "Evit000",
         "Cu035",
         "1",
         "28.29999",
         "82.29999",
         "112.200001",
         "9"
        ],
        [
         "21",
         "4602",
         "Evit000",
         "Cu035",
         "1",
         "28.29999",
         "91.0",
         "132.900002",
         "10"
        ],
        [
         "22",
         "4602",
         "Evit000",
         "Cu035",
         "1",
         "28.29999",
         "99.69995",
         "156.1",
         "11"
        ],
        [
         "23",
         "4602",
         "Evit000",
         "Cu035",
         "1",
         "28.29999",
         "106.69995",
         "180.0",
         "12"
        ],
        [
         "24",
         "4603",
         "Evit200",
         "Cu175",
         "1",
         "27.59999",
         "27.59999",
         null,
         "1"
        ],
        [
         "25",
         "4603",
         "Evit200",
         "Cu175",
         "1",
         "27.59999",
         "30.59999",
         "6.700005",
         "2"
        ],
        [
         "26",
         "4603",
         "Evit200",
         "Cu175",
         "1",
         "27.59999",
         "38.69998",
         "17.6",
         "3"
        ],
        [
         "27",
         "4603",
         "Evit200",
         "Cu175",
         "1",
         "27.59999",
         "47.19998",
         "32.800003",
         "4"
        ],
        [
         "28",
         "4603",
         "Evit200",
         "Cu175",
         "1",
         "27.59999",
         "54.09998",
         "50.0",
         "5"
        ],
        [
         "29",
         "4603",
         "Evit200",
         "Cu175",
         "1",
         "27.59999",
         "61.5",
         "64.600002",
         "6"
        ],
        [
         "30",
         "4603",
         "Evit200",
         "Cu175",
         "1",
         "27.59999",
         "68.5",
         "80.5",
         "7"
        ],
        [
         "31",
         "4603",
         "Evit200",
         "Cu175",
         "1",
         "27.59999",
         "75.19995",
         "91.800003",
         "8"
        ],
        [
         "32",
         "4603",
         "Evit200",
         "Cu175",
         "1",
         "27.59999",
         "81.69995",
         "110.200005",
         "9"
        ],
        [
         "33",
         "4603",
         "Evit200",
         "Cu175",
         "1",
         "27.59999",
         "90.19995",
         "125.600002",
         "10"
        ],
        [
         "34",
         "4603",
         "Evit200",
         "Cu175",
         "1",
         "27.59999",
         "98.39996",
         "145.0",
         "11"
        ],
        [
         "35",
         "4603",
         "Evit200",
         "Cu175",
         "1",
         "27.59999",
         "105.39996",
         "166.0",
         "12"
        ],
        [
         "36",
         "4605",
         "Evit100",
         "Cu035",
         "1",
         "31.5",
         "31.5",
         null,
         "1"
        ],
        [
         "37",
         "4605",
         "Evit100",
         "Cu035",
         "1",
         "31.5",
         "34.79999",
         "6.5",
         "2"
        ],
        [
         "38",
         "4605",
         "Evit100",
         "Cu035",
         "1",
         "31.5",
         "40.69998",
         "20.0",
         "3"
        ],
        [
         "39",
         "4605",
         "Evit100",
         "Cu035",
         "1",
         "31.5",
         "47.69998",
         "33.100002",
         "4"
        ],
        [
         "40",
         "4605",
         "Evit100",
         "Cu035",
         "1",
         "31.5",
         "55.89999",
         "51.800003",
         "5"
        ],
        [
         "41",
         "4605",
         "Evit100",
         "Cu035",
         "1",
         "31.5",
         "62.19998",
         "65.800003",
         "6"
        ],
        [
         "42",
         "4605",
         "Evit100",
         "Cu035",
         "1",
         "31.5",
         "70.69995",
         "81.700005",
         "7"
        ],
        [
         "43",
         "4605",
         "Evit100",
         "Cu035",
         "1",
         "31.5",
         "78.0",
         "97.0",
         "8"
        ],
        [
         "44",
         "4605",
         "Evit100",
         "Cu035",
         "1",
         "31.5",
         "86.19995",
         "115.300003",
         "9"
        ],
        [
         "45",
         "4605",
         "Evit100",
         "Cu035",
         "1",
         "31.5",
         "94.69995",
         "133.100002",
         "10"
        ],
        [
         "46",
         "4605",
         "Evit100",
         "Cu035",
         "1",
         "31.5",
         "102.0",
         "151.0",
         "11"
        ],
        [
         "47",
         "4605",
         "Evit100",
         "Cu035",
         "1",
         "31.5",
         "109.19995",
         "176.400002",
         "12"
        ],
        [
         "48",
         "4641",
         "Evit100",
         "Cu175",
         "2",
         "27.09999",
         "27.09999",
         null,
         "1"
        ],
        [
         "49",
         "4641",
         "Evit100",
         "Cu175",
         "2",
         "27.09999",
         "33.0",
         "5.200001",
         "2"
        ]
       ],
       "shape": {
        "columns": 8,
        "rows": 861
       }
      },
      "text/html": [
       "<div>\n",
       "<style scoped>\n",
       "    .dataframe tbody tr th:only-of-type {\n",
       "        vertical-align: middle;\n",
       "    }\n",
       "\n",
       "    .dataframe tbody tr th {\n",
       "        vertical-align: top;\n",
       "    }\n",
       "\n",
       "    .dataframe thead th {\n",
       "        text-align: right;\n",
       "    }\n",
       "</style>\n",
       "<table border=\"1\" class=\"dataframe\">\n",
       "  <thead>\n",
       "    <tr style=\"text-align: right;\">\n",
       "      <th></th>\n",
       "      <th>Pig</th>\n",
       "      <th>Evit</th>\n",
       "      <th>Cu</th>\n",
       "      <th>Litter</th>\n",
       "      <th>Start</th>\n",
       "      <th>Weight</th>\n",
       "      <th>Feed</th>\n",
       "      <th>Time</th>\n",
       "    </tr>\n",
       "  </thead>\n",
       "  <tbody>\n",
       "    <tr>\n",
       "      <th>0</th>\n",
       "      <td>4601</td>\n",
       "      <td>Evit000</td>\n",
       "      <td>Cu000</td>\n",
       "      <td>1</td>\n",
       "      <td>26.5</td>\n",
       "      <td>26.50000</td>\n",
       "      <td>NaN</td>\n",
       "      <td>1</td>\n",
       "    </tr>\n",
       "    <tr>\n",
       "      <th>1</th>\n",
       "      <td>4601</td>\n",
       "      <td>Evit000</td>\n",
       "      <td>Cu000</td>\n",
       "      <td>1</td>\n",
       "      <td>26.5</td>\n",
       "      <td>27.59999</td>\n",
       "      <td>5.200005</td>\n",
       "      <td>2</td>\n",
       "    </tr>\n",
       "    <tr>\n",
       "      <th>2</th>\n",
       "      <td>4601</td>\n",
       "      <td>Evit000</td>\n",
       "      <td>Cu000</td>\n",
       "      <td>1</td>\n",
       "      <td>26.5</td>\n",
       "      <td>36.50000</td>\n",
       "      <td>17.600000</td>\n",
       "      <td>3</td>\n",
       "    </tr>\n",
       "    <tr>\n",
       "      <th>3</th>\n",
       "      <td>4601</td>\n",
       "      <td>Evit000</td>\n",
       "      <td>Cu000</td>\n",
       "      <td>1</td>\n",
       "      <td>26.5</td>\n",
       "      <td>40.29999</td>\n",
       "      <td>28.500000</td>\n",
       "      <td>4</td>\n",
       "    </tr>\n",
       "    <tr>\n",
       "      <th>4</th>\n",
       "      <td>4601</td>\n",
       "      <td>Evit000</td>\n",
       "      <td>Cu000</td>\n",
       "      <td>1</td>\n",
       "      <td>26.5</td>\n",
       "      <td>49.09998</td>\n",
       "      <td>45.200001</td>\n",
       "      <td>5</td>\n",
       "    </tr>\n",
       "    <tr>\n",
       "      <th>...</th>\n",
       "      <td>...</td>\n",
       "      <td>...</td>\n",
       "      <td>...</td>\n",
       "      <td>...</td>\n",
       "      <td>...</td>\n",
       "      <td>...</td>\n",
       "      <td>...</td>\n",
       "      <td>...</td>\n",
       "    </tr>\n",
       "    <tr>\n",
       "      <th>856</th>\n",
       "      <td>8442</td>\n",
       "      <td>Evit000</td>\n",
       "      <td>Cu175</td>\n",
       "      <td>24</td>\n",
       "      <td>25.7</td>\n",
       "      <td>73.19995</td>\n",
       "      <td>83.800003</td>\n",
       "      <td>8</td>\n",
       "    </tr>\n",
       "    <tr>\n",
       "      <th>857</th>\n",
       "      <td>8442</td>\n",
       "      <td>Evit000</td>\n",
       "      <td>Cu175</td>\n",
       "      <td>24</td>\n",
       "      <td>25.7</td>\n",
       "      <td>81.69995</td>\n",
       "      <td>99.800003</td>\n",
       "      <td>9</td>\n",
       "    </tr>\n",
       "    <tr>\n",
       "      <th>858</th>\n",
       "      <td>8442</td>\n",
       "      <td>Evit000</td>\n",
       "      <td>Cu175</td>\n",
       "      <td>24</td>\n",
       "      <td>25.7</td>\n",
       "      <td>90.29999</td>\n",
       "      <td>115.200001</td>\n",
       "      <td>10</td>\n",
       "    </tr>\n",
       "    <tr>\n",
       "      <th>859</th>\n",
       "      <td>8442</td>\n",
       "      <td>Evit000</td>\n",
       "      <td>Cu175</td>\n",
       "      <td>24</td>\n",
       "      <td>25.7</td>\n",
       "      <td>96.00000</td>\n",
       "      <td>133.200001</td>\n",
       "      <td>11</td>\n",
       "    </tr>\n",
       "    <tr>\n",
       "      <th>860</th>\n",
       "      <td>8442</td>\n",
       "      <td>Evit000</td>\n",
       "      <td>Cu175</td>\n",
       "      <td>24</td>\n",
       "      <td>25.7</td>\n",
       "      <td>103.50000</td>\n",
       "      <td>151.400002</td>\n",
       "      <td>12</td>\n",
       "    </tr>\n",
       "  </tbody>\n",
       "</table>\n",
       "<p>861 rows × 8 columns</p>\n",
       "</div>"
      ],
      "text/plain": [
       "      Pig     Evit     Cu  Litter  Start     Weight        Feed  Time\n",
       "0    4601  Evit000  Cu000       1   26.5   26.50000         NaN     1\n",
       "1    4601  Evit000  Cu000       1   26.5   27.59999    5.200005     2\n",
       "2    4601  Evit000  Cu000       1   26.5   36.50000   17.600000     3\n",
       "3    4601  Evit000  Cu000       1   26.5   40.29999   28.500000     4\n",
       "4    4601  Evit000  Cu000       1   26.5   49.09998   45.200001     5\n",
       "..    ...      ...    ...     ...    ...        ...         ...   ...\n",
       "856  8442  Evit000  Cu175      24   25.7   73.19995   83.800003     8\n",
       "857  8442  Evit000  Cu175      24   25.7   81.69995   99.800003     9\n",
       "858  8442  Evit000  Cu175      24   25.7   90.29999  115.200001    10\n",
       "859  8442  Evit000  Cu175      24   25.7   96.00000  133.200001    11\n",
       "860  8442  Evit000  Cu175      24   25.7  103.50000  151.400002    12\n",
       "\n",
       "[861 rows x 8 columns]"
      ]
     },
     "execution_count": 44,
     "metadata": {},
     "output_type": "execute_result"
    }
   ],
   "source": [
    "data"
   ]
  },
  {
   "cell_type": "code",
   "execution_count": 54,
   "id": "6169a575",
   "metadata": {},
   "outputs": [
    {
     "name": "stdout",
     "output_type": "stream",
     "text": [
      "         Mixed Linear Model Regression Results\n",
      "========================================================\n",
      "Model:            MixedLM Dependent Variable: Weight    \n",
      "No. Observations: 861     Method:             REML      \n",
      "No. Groups:       72      Scale:              11.3669   \n",
      "Min. group size:  11      Log-Likelihood:     -2404.7753\n",
      "Max. group size:  12      Converged:          Yes       \n",
      "Mean group size:  12.0                                  \n",
      "--------------------------------------------------------\n",
      "             Coef.  Std.Err.    z    P>|z| [0.025 0.975]\n",
      "--------------------------------------------------------\n",
      "Intercept    15.724    0.788  19.952 0.000 14.179 17.268\n",
      "Time          6.943    0.033 207.939 0.000  6.877  7.008\n",
      "Group Var    40.394    2.149                            \n",
      "========================================================\n",
      "\n"
     ]
    }
   ],
   "source": [
    "md = smf.mixedlm(\"Weight ~ Time\", data, groups=data[\"Pig\"])\n",
    "mdf = md.fit()\n",
    "print(mdf.summary())"
   ]
  }
 ],
 "metadata": {
  "kernelspec": {
   "display_name": "monai",
   "language": "python",
   "name": "python3"
  },
  "language_info": {
   "codemirror_mode": {
    "name": "ipython",
    "version": 3
   },
   "file_extension": ".py",
   "mimetype": "text/x-python",
   "name": "python",
   "nbconvert_exporter": "python",
   "pygments_lexer": "ipython3",
   "version": "3.12.7"
  }
 },
 "nbformat": 4,
 "nbformat_minor": 5
}
