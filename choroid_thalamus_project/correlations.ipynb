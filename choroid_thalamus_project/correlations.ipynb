{
 "cells": [
  {
   "cell_type": "code",
   "execution_count": 1,
   "id": "cf9e6c87",
   "metadata": {},
   "outputs": [],
   "source": [
    "import pandas as pd\n",
    "from pathlib import Path\n",
    "import json\n",
    "import numpy as np\n",
    "from collections import defaultdict\n",
    "import matplotlib.pyplot as plt\n",
    "from datetime import datetime\n",
    "import re\n",
    "from scipy import stats\n",
    "import numpy as np\n",
    "import statsmodels.api as sm\n",
    "from matplotlib import colormaps\n",
    "from tqdm.notebook import tqdm\n",
    "\n",
    "from mri_data import file_manager as fm"
   ]
  },
  {
   "cell_type": "markdown",
   "id": "d24efee0",
   "metadata": {},
   "source": [
    "To clarify my confusion about the bootstrapping procedure\n",
    "\n",
    "I was confusing two things: bootstrapping the regression normally would involve selecting observations from the structure's beta's with replacement 1000 times. That definitely would not be significant, clearly.\n",
    "\n",
    "What I am actually doing it reproducing the structures' betas 1000 times by resampling from the cohort. This is telling us something about the stability of the final line (structure betas vs distance), which may or may not be significant. \n",
    "\n",
    "Still something that's confusing: one procedure is to compare all the bootstrapped t_stats to the t_stat of the actual line to see how many of the bootstrapped ones were more extreme. The other is to compare them to zero. If it's invalid/uninformative to compare them to zero, it also means it's uninformative to compare them to the t_stat of another line (like the NIND line). Need to figure this out. \n",
    "- Note that doing the procedure with OIND and comparing all the t_stats to zero gives a p value of 0.072 (PMS p=0.078). So this may be valid and not something that'll always just be significant \n",
    "  - So the question is: what exactly is the p value showing is significant? That there is some amount of positive gradient? That's what the p value of the original line also tells you. **Maybe the difference is that we have more statistical power than the simple singular regression can harness, and bootstrapping over the cohort harnesses it?**\n",
    "  - Since I'm comparing to 0, the p value is just telling us whether we can conclude that the slope is greater than 0. The p value for the singular regression maybe tells us whether we can conclude that the slope is as much as what it is\n",
    "- Double check where I found the procedure that said compare the t_stats to the actual data's t_stat, and see what that procedure was meant to be applied to."
   ]
  },
  {
   "cell_type": "code",
   "execution_count": 45,
   "id": "2eeaabaf",
   "metadata": {},
   "outputs": [],
   "source": [
    "drive_root = fm.get_drive_root()\n",
    "dataroot = drive_root / \"3Tpioneer_bids\"\n",
    "data_dir = Path(\"/home/srs-9/Projects/ms_mri/data\")\n",
    "fig_path = Path(\"/home/srs-9/Projects/ms_mri/choroid_thalamus_project/figures\")\n",
    "\n",
    "choroid_volumes = pd.read_csv(\n",
    "    \"/home/srs-9/Projects/ms_mri/data/choroid_aschoplex_volumes.csv\", index_col=\"subid\"\n",
    ").dropna()\n",
    "tiv = pd.read_csv(\"/home/srs-9/Projects/ms_mri/data/tiv_data.csv\", index_col=\"subid\")\n",
    "\n",
    "df = pd.read_csv(\n",
    "    \"/home/srs-9/Projects/ms_mri/data/clinical_data_processed.csv\", index_col=\"subid\"\n",
    ")\n",
    "df = df.join([choroid_volumes, tiv])\n",
    "df_z = df.copy()\n",
    "numeric_cols = df.select_dtypes(include='number').columns\n",
    "df_z[numeric_cols] = df_z[numeric_cols].apply(stats.zscore, nan_policy=\"omit\")\n",
    "\n",
    "viridis = colormaps['viridis'].resampled(20)"
   ]
  },
  {
   "cell_type": "code",
   "execution_count": 56,
   "id": "8df94dc2",
   "metadata": {},
   "outputs": [],
   "source": [
    "df_thomas = pd.read_csv(data_dir / \"hipsthomas_vols.csv\", index_col=\"subid\")\n",
    "cols_orig = df_thomas.columns\n",
    "new_colnames = {}\n",
    "for col in df_thomas.columns:\n",
    "    new_col = re.sub(r\"(\\d+)-([\\w-]+)\", r\"\\2_\\1\", col)\n",
    "    new_col = re.sub(\"-\", \"_\", new_col)\n",
    "    new_colnames[col] = new_col\n",
    "df_thomas = df_thomas.rename(columns=new_colnames)\n",
    "df_thomas_norm = df_thomas.apply(lambda col: col / df_thomas['THALAMUS_1'])\n",
    "df_thomas_z = df_thomas.apply(stats.zscore, nan_policy=\"omit\")\n",
    "df_thomas_norm_z = df_thomas_norm.apply(stats.zscore, nan_policy=\"omit\")\n",
    "\n",
    "df_thomas_left = pd.read_csv(data_dir / \"hipsthomas_left_vols.csv\", index_col=\"subid\")\n",
    "df_thomas_left = df_thomas_left.rename(columns=new_colnames)\n",
    "df_thomas_left_z = df_thomas_left.apply(stats.zscore, nan_policy=\"omit\")\n",
    "\n",
    "df_thomas_right = pd.read_csv(data_dir / \"hipsthomas_right_vols.csv\", index_col=\"subid\")\n",
    "df_thomas_right = df_thomas_right.rename(columns=new_colnames)\n",
    "df_thomas_right_z = df_thomas_right.apply(stats.zscore, nan_policy=\"omit\")\n",
    "\n",
    "\n",
    "thalamic_nuclei = [2, 4, 5, 6, 7, 8, 9, 10, 11, 12]\n",
    "thalamic_nuclei_str = [str(i) for i in thalamic_nuclei]\n",
    "\n",
    "hips_thomas_ref = pd.read_csv(\n",
    "    \"/home/srs-9/Projects/ms_mri/data/hipsthomas_struct_index.csv\", index_col=\"index\"\n",
    ")\n",
    "hips_thomas_ref.rename(columns={\"struct\": \"struct_name\"}, inplace=True)\n",
    "\n",
    "choroid_dists = pd.read_csv(data_dir / \"centroid-choroid_SDT.csv\", index_col=\"subid\")\n",
    "ventricle_dists = pd.read_csv(\n",
    "    data_dir / \"centroid-ventricle_SDT.csv\", index_col=\"subid\"\n",
    ")\n",
    "\n",
    "mni_choroid_dists = pd.read_csv(\"/home/srs-9/Projects/ms_mri/data/mni-centroid-choroid_SDT2.csv\")"
   ]
  },
  {
   "cell_type": "markdown",
   "id": "07ee2b4e",
   "metadata": {},
   "source": [
    "## Functions"
   ]
  },
  {
   "cell_type": "code",
   "execution_count": 17,
   "id": "f06ecee3",
   "metadata": {},
   "outputs": [],
   "source": [
    "def regress_all_nuclei(model_data, covariates, outcome, structs):\n",
    "    pvals = {}\n",
    "    coefs = {}\n",
    "    se = {}\n",
    "\n",
    "    if len(covariates) > 0:\n",
    "        plus_covariates = f\"+ {covariates}\"\n",
    "    else:\n",
    "        plus_covariates = \"\"\n",
    "    all_results = {}\n",
    "    for struct in structs:\n",
    "        formula = f\"{outcome} ~ {struct} {plus_covariates}\"\n",
    "        res = sm.OLS.from_formula(formula, data=model_data).fit()\n",
    "        pvals[struct] = res.pvalues[struct]\n",
    "        coefs[struct] = res.params[struct]\n",
    "        se[struct] = res.HC0_se[struct]\n",
    "        all_results[struct] = res\n",
    "\n",
    "    regression_results = pd.DataFrame({\"coef\": coefs, \"pvals\": pvals, \"se\": se})\n",
    "    regression_results['p_fdr'] = stats.false_discovery_control(\n",
    "        regression_results['pvals'], method='bh'\n",
    "    )\n",
    "    # regression_results = regression_results.sort_values(by=\"coef\", ascending=True)\n",
    "    regression_results.insert(0, \"struct\", regression_results.index)\n",
    "    new_index = []\n",
    "    for item in regression_results.struct:\n",
    "        new_index.append(int(re.match(r\".+_(\\d+)$\", item)[1]))\n",
    "\n",
    "    for i, row in regression_results.iterrows():\n",
    "        if row['p_fdr'] < 0.05:\n",
    "            regression_results.loc[i, 'coef_sig'] = row['coef']\n",
    "        else:\n",
    "            regression_results.loc[i, 'coef_sig'] = 0\n",
    "\n",
    "    regression_results.index = new_index\n",
    "    return regression_results\n",
    "\n",
    "\n",
    "def plot_xordered_data(\n",
    "    data, x_name, y_name, label_name, loc=(0.8, 0.05), fit_line=False\n",
    "):\n",
    "    fig, axes = plt.subplots(1)\n",
    "    data.sort_values(by=x_name, inplace=True)\n",
    "    for i, row in data.iterrows():\n",
    "        c = row[x_name] / data[x_name].max()\n",
    "        if 'pvals' in data.columns and data.loc[i, 'pvals'] >= 0.05:\n",
    "            axes.scatter(\n",
    "                data.loc[i, x_name],\n",
    "                data.loc[i, y_name],\n",
    "                marker='x',\n",
    "                color=viridis(c),\n",
    "                label=data.loc[i, label_name],\n",
    "            )\n",
    "        else:\n",
    "            axes.scatter(\n",
    "                data.loc[i, x_name],\n",
    "                data.loc[i, y_name],\n",
    "                marker='D',\n",
    "                color=viridis(c),\n",
    "                label=data.loc[i, label_name],\n",
    "            )\n",
    "\n",
    "    xlims = axes.get_xlim()\n",
    "    ylims = axes.get_ylim()\n",
    "\n",
    "    if fit_line:\n",
    "        slope, intercept, r_value, p_value, std_err = stats.linregress(\n",
    "            data[x_name], data[y_name]\n",
    "        )\n",
    "        x = np.array([xlims[0], xlims[1]])\n",
    "        y = slope * x + intercept\n",
    "        plt.plot(x, y, c='black')\n",
    "        text = \"R2={:0.2f}\\np={:0.2f}\".format(r_value**2, p_value)\n",
    "        text_y = ylims[0] + (ylims[1] - ylims[0]) * 0.9\n",
    "        text_x = xlims[0] + (xlims[1] - xlims[0]) * 0.05\n",
    "        axes.text(text_x, text_y, text)\n",
    "\n",
    "    axes.set_xbound([xlims[0], xlims[1] * 1.1])\n",
    "    fig.legend(loc=loc)\n",
    "\n",
    "    return fig, axes"
   ]
  },
  {
   "cell_type": "markdown",
   "id": "ceb4ab4e",
   "metadata": {},
   "source": [
    "## Analysis"
   ]
  },
  {
   "cell_type": "markdown",
   "id": "2fb97312",
   "metadata": {},
   "source": [
    "Get the coefficients for the left side"
   ]
  },
  {
   "cell_type": "code",
   "execution_count": 28,
   "id": "4f0e6875",
   "metadata": {},
   "outputs": [
    {
     "data": {
      "application/vnd.microsoft.datawrangler.viewer.v0+json": {
       "columns": [
        {
         "name": "index",
         "rawType": "int64",
         "type": "integer"
        },
        {
         "name": "struct",
         "rawType": "object",
         "type": "string"
        },
        {
         "name": "coef_bin",
         "rawType": "int64",
         "type": "integer"
        }
       ],
       "ref": "3d1b4880-fe71-4305-9956-0fa80cf1a59f",
       "rows": [
        [
         "8",
         "Pul_8",
         "1"
        ],
        [
         "10",
         "MGN_10",
         "1"
        ],
        [
         "12",
         "MD_Pf_12",
         "1"
        ],
        [
         "9",
         "LGN_9",
         "2"
        ],
        [
         "11",
         "CM_11",
         "2"
        ],
        [
         "28",
         "Cla_28",
         "3"
        ],
        [
         "2",
         "AV_2",
         "4"
        ],
        [
         "7",
         "VPL_7",
         "4"
        ],
        [
         "26",
         "Acc_26",
         "4"
        ],
        [
         "31",
         "Put_31",
         "4"
        ],
        [
         "6",
         "VLP_6",
         "4"
        ],
        [
         "32",
         "RN_32",
         "4"
        ],
        [
         "13",
         "Hb_13",
         "4"
        ],
        [
         "27",
         "Cau_27",
         "6"
        ],
        [
         "29",
         "GPe_29",
         "7"
        ],
        [
         "5",
         "VLa_5",
         "7"
        ],
        [
         "4",
         "VA_4",
         "7"
        ],
        [
         "30",
         "GPi_30",
         "8"
        ],
        [
         "14",
         "MTT_14",
         "10"
        ]
       ],
       "shape": {
        "columns": 2,
        "rows": 19
       }
      },
      "text/html": [
       "<div>\n",
       "<style scoped>\n",
       "    .dataframe tbody tr th:only-of-type {\n",
       "        vertical-align: middle;\n",
       "    }\n",
       "\n",
       "    .dataframe tbody tr th {\n",
       "        vertical-align: top;\n",
       "    }\n",
       "\n",
       "    .dataframe thead th {\n",
       "        text-align: right;\n",
       "    }\n",
       "</style>\n",
       "<table border=\"1\" class=\"dataframe\">\n",
       "  <thead>\n",
       "    <tr style=\"text-align: right;\">\n",
       "      <th></th>\n",
       "      <th>struct</th>\n",
       "      <th>coef_bin</th>\n",
       "    </tr>\n",
       "  </thead>\n",
       "  <tbody>\n",
       "    <tr>\n",
       "      <th>8</th>\n",
       "      <td>Pul_8</td>\n",
       "      <td>1</td>\n",
       "    </tr>\n",
       "    <tr>\n",
       "      <th>10</th>\n",
       "      <td>MGN_10</td>\n",
       "      <td>1</td>\n",
       "    </tr>\n",
       "    <tr>\n",
       "      <th>12</th>\n",
       "      <td>MD_Pf_12</td>\n",
       "      <td>1</td>\n",
       "    </tr>\n",
       "    <tr>\n",
       "      <th>9</th>\n",
       "      <td>LGN_9</td>\n",
       "      <td>2</td>\n",
       "    </tr>\n",
       "    <tr>\n",
       "      <th>11</th>\n",
       "      <td>CM_11</td>\n",
       "      <td>2</td>\n",
       "    </tr>\n",
       "    <tr>\n",
       "      <th>28</th>\n",
       "      <td>Cla_28</td>\n",
       "      <td>3</td>\n",
       "    </tr>\n",
       "    <tr>\n",
       "      <th>2</th>\n",
       "      <td>AV_2</td>\n",
       "      <td>4</td>\n",
       "    </tr>\n",
       "    <tr>\n",
       "      <th>7</th>\n",
       "      <td>VPL_7</td>\n",
       "      <td>4</td>\n",
       "    </tr>\n",
       "    <tr>\n",
       "      <th>26</th>\n",
       "      <td>Acc_26</td>\n",
       "      <td>4</td>\n",
       "    </tr>\n",
       "    <tr>\n",
       "      <th>31</th>\n",
       "      <td>Put_31</td>\n",
       "      <td>4</td>\n",
       "    </tr>\n",
       "    <tr>\n",
       "      <th>6</th>\n",
       "      <td>VLP_6</td>\n",
       "      <td>4</td>\n",
       "    </tr>\n",
       "    <tr>\n",
       "      <th>32</th>\n",
       "      <td>RN_32</td>\n",
       "      <td>4</td>\n",
       "    </tr>\n",
       "    <tr>\n",
       "      <th>13</th>\n",
       "      <td>Hb_13</td>\n",
       "      <td>4</td>\n",
       "    </tr>\n",
       "    <tr>\n",
       "      <th>27</th>\n",
       "      <td>Cau_27</td>\n",
       "      <td>6</td>\n",
       "    </tr>\n",
       "    <tr>\n",
       "      <th>29</th>\n",
       "      <td>GPe_29</td>\n",
       "      <td>7</td>\n",
       "    </tr>\n",
       "    <tr>\n",
       "      <th>5</th>\n",
       "      <td>VLa_5</td>\n",
       "      <td>7</td>\n",
       "    </tr>\n",
       "    <tr>\n",
       "      <th>4</th>\n",
       "      <td>VA_4</td>\n",
       "      <td>7</td>\n",
       "    </tr>\n",
       "    <tr>\n",
       "      <th>30</th>\n",
       "      <td>GPi_30</td>\n",
       "      <td>8</td>\n",
       "    </tr>\n",
       "    <tr>\n",
       "      <th>14</th>\n",
       "      <td>MTT_14</td>\n",
       "      <td>10</td>\n",
       "    </tr>\n",
       "  </tbody>\n",
       "</table>\n",
       "</div>"
      ],
      "text/plain": [
       "      struct  coef_bin\n",
       "8      Pul_8         1\n",
       "10    MGN_10         1\n",
       "12  MD_Pf_12         1\n",
       "9      LGN_9         2\n",
       "11     CM_11         2\n",
       "28    Cla_28         3\n",
       "2       AV_2         4\n",
       "7      VPL_7         4\n",
       "26    Acc_26         4\n",
       "31    Put_31         4\n",
       "6      VLP_6         4\n",
       "32     RN_32         4\n",
       "13     Hb_13         4\n",
       "27    Cau_27         6\n",
       "29    GPe_29         7\n",
       "5      VLa_5         7\n",
       "4       VA_4         7\n",
       "30    GPi_30         8\n",
       "14    MTT_14        10"
      ]
     },
     "execution_count": 28,
     "metadata": {},
     "output_type": "execute_result"
    }
   ],
   "source": [
    "model_data = df_z.join([df_thomas_left_z])\n",
    "model_data = model_data[model_data['dz_type2'] == \"MS\"]\n",
    "structs = df_thomas.columns[~df_thomas.columns.isin([\"THALAMUS_1\", \"Amy_34\", \"GP_33\"])]\n",
    "covariates = \"age + Female\"\n",
    "outcome = \"choroid_volume\"\n",
    "\n",
    "regression_results = regress_all_nuclei(model_data, covariates, outcome, structs)\n",
    "\n",
    "bins = np.linspace(regression_results['coef'].min(), regression_results.coef.max(), 10)\n",
    "regression_results['coef_bin'] = np.digitize(regression_results['coef'], bins)\n",
    "regression_results.sort_values(by=\"coef\")[['struct', 'coef_bin']]"
   ]
  },
  {
   "cell_type": "markdown",
   "id": "76345fc2",
   "metadata": {},
   "source": [
    "Get coefficients for the right side"
   ]
  },
  {
   "cell_type": "code",
   "execution_count": 29,
   "id": "fa2dfa8f",
   "metadata": {},
   "outputs": [
    {
     "data": {
      "application/vnd.microsoft.datawrangler.viewer.v0+json": {
       "columns": [
        {
         "name": "index",
         "rawType": "int64",
         "type": "integer"
        },
        {
         "name": "struct",
         "rawType": "object",
         "type": "string"
        },
        {
         "name": "coef_bin",
         "rawType": "int64",
         "type": "integer"
        }
       ],
       "ref": "899063d0-c2ec-484e-9499-5c346daf3f64",
       "rows": [
        [
         "8",
         "Pul_8",
         "1"
        ],
        [
         "12",
         "MD_Pf_12",
         "1"
        ],
        [
         "10",
         "MGN_10",
         "3"
        ],
        [
         "11",
         "CM_11",
         "3"
        ],
        [
         "9",
         "LGN_9",
         "3"
        ],
        [
         "28",
         "Cla_28",
         "4"
        ],
        [
         "2",
         "AV_2",
         "4"
        ],
        [
         "26",
         "Acc_26",
         "5"
        ],
        [
         "31",
         "Put_31",
         "5"
        ],
        [
         "7",
         "VPL_7",
         "5"
        ],
        [
         "6",
         "VLP_6",
         "6"
        ],
        [
         "32",
         "RN_32",
         "6"
        ],
        [
         "13",
         "Hb_13",
         "7"
        ],
        [
         "5",
         "VLa_5",
         "8"
        ],
        [
         "30",
         "GPi_30",
         "8"
        ],
        [
         "4",
         "VA_4",
         "8"
        ],
        [
         "29",
         "GPe_29",
         "8"
        ],
        [
         "14",
         "MTT_14",
         "9"
        ],
        [
         "27",
         "Cau_27",
         "10"
        ]
       ],
       "shape": {
        "columns": 2,
        "rows": 19
       }
      },
      "text/html": [
       "<div>\n",
       "<style scoped>\n",
       "    .dataframe tbody tr th:only-of-type {\n",
       "        vertical-align: middle;\n",
       "    }\n",
       "\n",
       "    .dataframe tbody tr th {\n",
       "        vertical-align: top;\n",
       "    }\n",
       "\n",
       "    .dataframe thead th {\n",
       "        text-align: right;\n",
       "    }\n",
       "</style>\n",
       "<table border=\"1\" class=\"dataframe\">\n",
       "  <thead>\n",
       "    <tr style=\"text-align: right;\">\n",
       "      <th></th>\n",
       "      <th>struct</th>\n",
       "      <th>coef_bin</th>\n",
       "    </tr>\n",
       "  </thead>\n",
       "  <tbody>\n",
       "    <tr>\n",
       "      <th>8</th>\n",
       "      <td>Pul_8</td>\n",
       "      <td>1</td>\n",
       "    </tr>\n",
       "    <tr>\n",
       "      <th>12</th>\n",
       "      <td>MD_Pf_12</td>\n",
       "      <td>1</td>\n",
       "    </tr>\n",
       "    <tr>\n",
       "      <th>10</th>\n",
       "      <td>MGN_10</td>\n",
       "      <td>3</td>\n",
       "    </tr>\n",
       "    <tr>\n",
       "      <th>11</th>\n",
       "      <td>CM_11</td>\n",
       "      <td>3</td>\n",
       "    </tr>\n",
       "    <tr>\n",
       "      <th>9</th>\n",
       "      <td>LGN_9</td>\n",
       "      <td>3</td>\n",
       "    </tr>\n",
       "    <tr>\n",
       "      <th>28</th>\n",
       "      <td>Cla_28</td>\n",
       "      <td>4</td>\n",
       "    </tr>\n",
       "    <tr>\n",
       "      <th>2</th>\n",
       "      <td>AV_2</td>\n",
       "      <td>4</td>\n",
       "    </tr>\n",
       "    <tr>\n",
       "      <th>26</th>\n",
       "      <td>Acc_26</td>\n",
       "      <td>5</td>\n",
       "    </tr>\n",
       "    <tr>\n",
       "      <th>31</th>\n",
       "      <td>Put_31</td>\n",
       "      <td>5</td>\n",
       "    </tr>\n",
       "    <tr>\n",
       "      <th>7</th>\n",
       "      <td>VPL_7</td>\n",
       "      <td>5</td>\n",
       "    </tr>\n",
       "    <tr>\n",
       "      <th>6</th>\n",
       "      <td>VLP_6</td>\n",
       "      <td>6</td>\n",
       "    </tr>\n",
       "    <tr>\n",
       "      <th>32</th>\n",
       "      <td>RN_32</td>\n",
       "      <td>6</td>\n",
       "    </tr>\n",
       "    <tr>\n",
       "      <th>13</th>\n",
       "      <td>Hb_13</td>\n",
       "      <td>7</td>\n",
       "    </tr>\n",
       "    <tr>\n",
       "      <th>5</th>\n",
       "      <td>VLa_5</td>\n",
       "      <td>8</td>\n",
       "    </tr>\n",
       "    <tr>\n",
       "      <th>30</th>\n",
       "      <td>GPi_30</td>\n",
       "      <td>8</td>\n",
       "    </tr>\n",
       "    <tr>\n",
       "      <th>4</th>\n",
       "      <td>VA_4</td>\n",
       "      <td>8</td>\n",
       "    </tr>\n",
       "    <tr>\n",
       "      <th>29</th>\n",
       "      <td>GPe_29</td>\n",
       "      <td>8</td>\n",
       "    </tr>\n",
       "    <tr>\n",
       "      <th>14</th>\n",
       "      <td>MTT_14</td>\n",
       "      <td>9</td>\n",
       "    </tr>\n",
       "    <tr>\n",
       "      <th>27</th>\n",
       "      <td>Cau_27</td>\n",
       "      <td>10</td>\n",
       "    </tr>\n",
       "  </tbody>\n",
       "</table>\n",
       "</div>"
      ],
      "text/plain": [
       "      struct  coef_bin\n",
       "8      Pul_8         1\n",
       "12  MD_Pf_12         1\n",
       "10    MGN_10         3\n",
       "11     CM_11         3\n",
       "9      LGN_9         3\n",
       "28    Cla_28         4\n",
       "2       AV_2         4\n",
       "26    Acc_26         5\n",
       "31    Put_31         5\n",
       "7      VPL_7         5\n",
       "6      VLP_6         6\n",
       "32     RN_32         6\n",
       "13     Hb_13         7\n",
       "5      VLa_5         8\n",
       "30    GPi_30         8\n",
       "4       VA_4         8\n",
       "29    GPe_29         8\n",
       "14    MTT_14         9\n",
       "27    Cau_27        10"
      ]
     },
     "execution_count": 29,
     "metadata": {},
     "output_type": "execute_result"
    }
   ],
   "source": [
    "model_data = df_z.join([df_thomas_right_z])\n",
    "model_data = model_data[model_data['dz_type2'] == \"MS\"]\n",
    "structs = df_thomas.columns[~df_thomas.columns.isin([\"THALAMUS_1\", \"Amy_34\", \"GP_33\"])]\n",
    "covariates = \"age + Female\"\n",
    "outcome = \"choroid_volume\"\n",
    "\n",
    "regression_results = regress_all_nuclei(model_data, covariates, outcome, structs)\n",
    "\n",
    "bins = np.linspace(regression_results['coef'].min(), regression_results.coef.max(), 10)\n",
    "regression_results['coef_bin'] = np.digitize(regression_results['coef'], bins)\n",
    "regression_results.sort_values(by=\"coef\")[['struct', 'coef_bin']]"
   ]
  },
  {
   "cell_type": "code",
   "execution_count": 67,
   "id": "6c0a47b7",
   "metadata": {},
   "outputs": [
    {
     "data": {
      "text/plain": [
       "(<Figure size 640x480 with 1 Axes>, <Axes: >)"
      ]
     },
     "execution_count": 67,
     "metadata": {},
     "output_type": "execute_result"
    },
    {
     "data": {
      "image/png": "[encoded data removed]",
      "text/plain": [
       "<Figure size 640x480 with 1 Axes>"
      ]
     },
     "metadata": {},
     "output_type": "display_data"
    }
   ],
   "source": [
    "model_data = df_z.join([df_thomas_z])\n",
    "model_data = model_data[model_data['dz_type2'] == \"MS\"]\n",
    "structs = df_thomas.columns[~df_thomas.columns.isin([\"THALAMUS_1\", \"Amy_34\", \"GP_33\", \"Cla_28\"])]\n",
    "covariates = \"age + Female + tiv\"\n",
    "outcome = \"choroid_volume\"\n",
    "\n",
    "regression_results = regress_all_nuclei(model_data, covariates, outcome, structs)\n",
    "\n",
    "data = regression_results.copy()\n",
    "for i in data.index:\n",
    "    # data.loc[i, 'dist'] = choroid_dists[str(i)].mean()\n",
    "    data.loc[i, 'dist'] = mni_choroid_dists.loc[0, str(i)]\n",
    "\n",
    "plot_xordered_data(data, \"dist\", \"coef\", \"struct\", fit_line=True)"
   ]
  },
  {
   "cell_type": "code",
   "execution_count": 62,
   "id": "48676868",
   "metadata": {},
   "outputs": [
    {
     "ename": "ValueError",
     "evalue": "Incompatible indexer with Series",
     "output_type": "error",
     "traceback": [
      "\u001b[0;31m---------------------------------------------------------------------------\u001b[0m",
      "\u001b[0;31mValueError\u001b[0m                                Traceback (most recent call last)",
      "Cell \u001b[0;32mIn[62], line 1\u001b[0m\n\u001b[0;32m----> 1\u001b[0m \u001b[43mdata\u001b[49m\u001b[38;5;241;43m.\u001b[39;49m\u001b[43mloc\u001b[49m\u001b[43m[\u001b[49m\u001b[43mi\u001b[49m\u001b[43m,\u001b[49m\u001b[43m \u001b[49m\u001b[38;5;124;43m'\u001b[39;49m\u001b[38;5;124;43mdist\u001b[39;49m\u001b[38;5;124;43m'\u001b[39;49m\u001b[43m]\u001b[49m \u001b[38;5;241m=\u001b[39m mni_choroid_dists[\u001b[38;5;124m'\u001b[39m\u001b[38;5;124m2\u001b[39m\u001b[38;5;124m'\u001b[39m]\n",
      "File \u001b[0;32m~/.virtualenvs/monai/lib/python3.12/site-packages/pandas/core/indexing.py:911\u001b[0m, in \u001b[0;36m_LocationIndexer.__setitem__\u001b[0;34m(self, key, value)\u001b[0m\n\u001b[1;32m    908\u001b[0m \u001b[38;5;28mself\u001b[39m\u001b[38;5;241m.\u001b[39m_has_valid_setitem_indexer(key)\n\u001b[1;32m    910\u001b[0m iloc \u001b[38;5;241m=\u001b[39m \u001b[38;5;28mself\u001b[39m \u001b[38;5;28;01mif\u001b[39;00m \u001b[38;5;28mself\u001b[39m\u001b[38;5;241m.\u001b[39mname \u001b[38;5;241m==\u001b[39m \u001b[38;5;124m\"\u001b[39m\u001b[38;5;124miloc\u001b[39m\u001b[38;5;124m\"\u001b[39m \u001b[38;5;28;01melse\u001b[39;00m \u001b[38;5;28mself\u001b[39m\u001b[38;5;241m.\u001b[39mobj\u001b[38;5;241m.\u001b[39miloc\n\u001b[0;32m--> 911\u001b[0m \u001b[43miloc\u001b[49m\u001b[38;5;241;43m.\u001b[39;49m\u001b[43m_setitem_with_indexer\u001b[49m\u001b[43m(\u001b[49m\u001b[43mindexer\u001b[49m\u001b[43m,\u001b[49m\u001b[43m \u001b[49m\u001b[43mvalue\u001b[49m\u001b[43m,\u001b[49m\u001b[43m \u001b[49m\u001b[38;5;28;43mself\u001b[39;49m\u001b[38;5;241;43m.\u001b[39;49m\u001b[43mname\u001b[49m\u001b[43m)\u001b[49m\n",
      "File \u001b[0;32m~/.virtualenvs/monai/lib/python3.12/site-packages/pandas/core/indexing.py:1942\u001b[0m, in \u001b[0;36m_iLocIndexer._setitem_with_indexer\u001b[0;34m(self, indexer, value, name)\u001b[0m\n\u001b[1;32m   1939\u001b[0m \u001b[38;5;66;03m# align and set the values\u001b[39;00m\n\u001b[1;32m   1940\u001b[0m \u001b[38;5;28;01mif\u001b[39;00m take_split_path:\n\u001b[1;32m   1941\u001b[0m     \u001b[38;5;66;03m# We have to operate column-wise\u001b[39;00m\n\u001b[0;32m-> 1942\u001b[0m     \u001b[38;5;28;43mself\u001b[39;49m\u001b[38;5;241;43m.\u001b[39;49m\u001b[43m_setitem_with_indexer_split_path\u001b[49m\u001b[43m(\u001b[49m\u001b[43mindexer\u001b[49m\u001b[43m,\u001b[49m\u001b[43m \u001b[49m\u001b[43mvalue\u001b[49m\u001b[43m,\u001b[49m\u001b[43m \u001b[49m\u001b[43mname\u001b[49m\u001b[43m)\u001b[49m\n\u001b[1;32m   1943\u001b[0m \u001b[38;5;28;01melse\u001b[39;00m:\n\u001b[1;32m   1944\u001b[0m     \u001b[38;5;28mself\u001b[39m\u001b[38;5;241m.\u001b[39m_setitem_single_block(indexer, value, name)\n",
      "File \u001b[0;32m~/.virtualenvs/monai/lib/python3.12/site-packages/pandas/core/indexing.py:1963\u001b[0m, in \u001b[0;36m_iLocIndexer._setitem_with_indexer_split_path\u001b[0;34m(self, indexer, value, name)\u001b[0m\n\u001b[1;32m   1960\u001b[0m \u001b[38;5;28;01mif\u001b[39;00m (\u001b[38;5;28misinstance\u001b[39m(value, ABCSeries) \u001b[38;5;129;01mand\u001b[39;00m name \u001b[38;5;241m!=\u001b[39m \u001b[38;5;124m\"\u001b[39m\u001b[38;5;124miloc\u001b[39m\u001b[38;5;124m\"\u001b[39m) \u001b[38;5;129;01mor\u001b[39;00m \u001b[38;5;28misinstance\u001b[39m(value, \u001b[38;5;28mdict\u001b[39m):\n\u001b[1;32m   1961\u001b[0m     \u001b[38;5;28;01mfrom\u001b[39;00m \u001b[38;5;21;01mpandas\u001b[39;00m \u001b[38;5;28;01mimport\u001b[39;00m Series\n\u001b[0;32m-> 1963\u001b[0m     value \u001b[38;5;241m=\u001b[39m \u001b[38;5;28;43mself\u001b[39;49m\u001b[38;5;241;43m.\u001b[39;49m\u001b[43m_align_series\u001b[49m\u001b[43m(\u001b[49m\u001b[43mindexer\u001b[49m\u001b[43m,\u001b[49m\u001b[43m \u001b[49m\u001b[43mSeries\u001b[49m\u001b[43m(\u001b[49m\u001b[43mvalue\u001b[49m\u001b[43m)\u001b[49m\u001b[43m)\u001b[49m\n\u001b[1;32m   1965\u001b[0m \u001b[38;5;66;03m# Ensure we have something we can iterate over\u001b[39;00m\n\u001b[1;32m   1966\u001b[0m info_axis \u001b[38;5;241m=\u001b[39m indexer[\u001b[38;5;241m1\u001b[39m]\n",
      "File \u001b[0;32m~/.virtualenvs/monai/lib/python3.12/site-packages/pandas/core/indexing.py:2455\u001b[0m, in \u001b[0;36m_iLocIndexer._align_series\u001b[0;34m(self, indexer, ser, multiindex_indexer, using_cow)\u001b[0m\n\u001b[1;32m   2451\u001b[0m         \u001b[38;5;28;01mreturn\u001b[39;00m ser\u001b[38;5;241m.\u001b[39m_values\u001b[38;5;241m.\u001b[39mcopy()\n\u001b[1;32m   2453\u001b[0m     \u001b[38;5;28;01mreturn\u001b[39;00m ser\u001b[38;5;241m.\u001b[39mreindex(ax)\u001b[38;5;241m.\u001b[39m_values\n\u001b[0;32m-> 2455\u001b[0m \u001b[38;5;28;01mraise\u001b[39;00m \u001b[38;5;167;01mValueError\u001b[39;00m(\u001b[38;5;124m\"\u001b[39m\u001b[38;5;124mIncompatible indexer with Series\u001b[39m\u001b[38;5;124m\"\u001b[39m)\n",
      "\u001b[0;31mValueError\u001b[0m: Incompatible indexer with Series"
     ]
    }
   ],
   "source": [
    "data.loc[i, 'dist'] = mni_choroid_dists['2']"
   ]
  },
  {
   "cell_type": "code",
   "execution_count": 51,
   "id": "03faff36",
   "metadata": {},
   "outputs": [
    {
     "name": "stdout",
     "output_type": "stream",
     "text": [
      "                            OLS Regression Results                            \n",
      "==============================================================================\n",
      "Dep. Variable:         choroid_volume   R-squared:                       0.265\n",
      "Model:                            OLS   Adj. R-squared:                  0.259\n",
      "Method:                 Least Squares   F-statistic:                     41.54\n",
      "Date:                Mon, 02 Jun 2025   Prob (F-statistic):           9.71e-30\n",
      "Time:                        17:33:35   Log-Likelihood:                -590.54\n",
      "No. Observations:                 465   AIC:                             1191.\n",
      "Df Residuals:                     460   BIC:                             1212.\n",
      "Df Model:                           4                                         \n",
      "Covariance Type:            nonrobust                                         \n",
      "==============================================================================\n",
      "                 coef    std err          t      P>|t|      [0.025      0.975]\n",
      "------------------------------------------------------------------------------\n",
      "Intercept      0.0111      0.040      0.275      0.784      -0.068       0.091\n",
      "AV_2          -0.2791      0.047     -5.937      0.000      -0.372      -0.187\n",
      "age            0.2541      0.045      5.693      0.000       0.166       0.342\n",
      "Female        -0.1742      0.048     -3.638      0.000      -0.268      -0.080\n",
      "tiv            0.1049      0.050      2.106      0.036       0.007       0.203\n",
      "==============================================================================\n",
      "Omnibus:                        5.012   Durbin-Watson:                   2.104\n",
      "Prob(Omnibus):                  0.082   Jarque-Bera (JB):                5.278\n",
      "Skew:                          -0.164   Prob(JB):                       0.0714\n",
      "Kurtosis:                       3.407   Cond. No.                         1.91\n",
      "==============================================================================\n",
      "\n",
      "Notes:\n",
      "[1] Standard Errors assume that the covariance matrix of the errors is correctly specified.\n"
     ]
    }
   ],
   "source": [
    "formula = \"choroid_volume ~ AV_2 + age + Female + tiv\"\n",
    "res = sm.OLS.from_formula(formula, model_data).fit()\n",
    "print(res.summary())"
   ]
  },
  {
   "cell_type": "code",
   "execution_count": null,
   "id": "5b770406",
   "metadata": {},
   "outputs": [
    {
     "data": {
      "application/vnd.jupyter.widget-view+json": {
       "model_id": "8141711553414d8da0a0e8e0236a6118",
       "version_major": 2,
       "version_minor": 0
      },
      "text/plain": [
       "  0%|          | 0/1000 [00:00<?, ?it/s]"
      ]
     },
     "metadata": {},
     "output_type": "display_data"
    },
    {
     "name": "stdout",
     "output_type": "stream",
     "text": [
      "Bootstrapped p: 0.00\n"
     ]
    }
   ],
   "source": [
    "df_to_sample = df_z.join([df_thomas_z])\n",
    "df_to_sample = df_to_sample[df_to_sample['dz_type2'].isin([\"MS\"])]\n",
    "df_to_sample = df_to_sample.reset_index()\n",
    "df_dists_to_sample = choroid_dists.reset_index()\n",
    "\n",
    "structs = df_thomas.columns[~df_thomas.columns.isin([\"THALAMUS_1\", \"Amy_34\", \"GP_33\", \"Cla_28\"])]\n",
    "covariates = \"age + Female\"\n",
    "outcome = \"choroid_volume\"\n",
    "\n",
    "n_boots = 1000\n",
    "t_stats_ms = np.zeros((n_boots,))\n",
    "slopes_ms = np.zeros((n_boots,))\n",
    "for i_samp in tqdm(range(n_boots)):\n",
    "    inds = np.random.randint(0, df_to_sample.index.max(), len(df_to_sample))\n",
    "    model_data = df_to_sample.loc[inds, :]\n",
    "    dists = df_dists_to_sample.loc[inds, :]\n",
    "\n",
    "    regression_results = regress_all_nuclei(model_data, covariates, outcome, structs)\n",
    "    data = regression_results.copy()\n",
    "    for i in data.index:\n",
    "        data.loc[i, 'dist'] = dists[str(i)].mean()\n",
    "    slope, intercept, r_value, p_value, std_err = stats.linregress(data['dist'], data['coef'])\n",
    "    t_stats_ms[i_samp] = (slope / std_err)\n",
    "    slopes_ms[i_samp] = slope\n",
    "\n",
    "slopes_ms.sort()\n",
    "mean_slope = slopes_ms.mean()\n",
    "print(\"Slope: {:0.2} [{:0.2}, {:0.2}]\".format(mean_slope, slopes_ms[25], slopes_ms[975]))\n",
    "\n",
    "p_boot = sum(t_stats_ms <= 0) / n_boots\n",
    "print(\"Bootstrapped p: {:0.2f}\".format(p_boot))"
   ]
  },
  {
   "cell_type": "code",
   "execution_count": 64,
   "id": "a6f4a70a",
   "metadata": {},
   "outputs": [
    {
     "data": {
      "text/plain": [
       "(<Figure size 640x480 with 1 Axes>, <Axes: >)"
      ]
     },
     "execution_count": 64,
     "metadata": {},
     "output_type": "execute_result"
    },
    {
     "data": {
      "image/png": "[encoded data removed]",
      "text/plain": [
       "<Figure size 640x480 with 1 Axes>"
      ]
     },
     "metadata": {},
     "output_type": "display_data"
    }
   ],
   "source": [
    "model_data = df_z.join([df_thomas_z])\n",
    "model_data = model_data[model_data['dz_type5'] == \"RMS\"]\n",
    "structs = df_thomas.columns[~df_thomas.columns.isin([\"THALAMUS_1\", \"Amy_34\", \"GP_33\", \"Cla_28\"])]\n",
    "covariates = \"age + Female + tiv\"\n",
    "outcome = \"choroid_volume\"\n",
    "\n",
    "regression_results = regress_all_nuclei(model_data, covariates, outcome, structs)\n",
    "\n",
    "data = regression_results.copy()\n",
    "for i in data.index:\n",
    "    data.loc[i, 'dist'] = choroid_dists[str(i)].mean()\n",
    "\n",
    "plot_xordered_data(data, \"dist\", \"coef\", \"struct\", fit_line=True)"
   ]
  },
  {
   "cell_type": "code",
   "execution_count": null,
   "id": "26104a16",
   "metadata": {},
   "outputs": [
    {
     "data": {
      "application/vnd.jupyter.widget-view+json": {
       "model_id": "0abf62d5d261428e9963e54e85d00768",
       "version_major": 2,
       "version_minor": 0
      },
      "text/plain": [
       "  0%|          | 0/1000 [00:00<?, ?it/s]"
      ]
     },
     "metadata": {},
     "output_type": "display_data"
    },
    {
     "name": "stdout",
     "output_type": "stream",
     "text": [
      "Bootstrapped p: 0.00\n"
     ]
    }
   ],
   "source": [
    "df_to_sample = df_z.join([df_thomas_z])\n",
    "df_to_sample = df_to_sample[df_to_sample['dz_type5'].isin([\"RMS\"])]\n",
    "df_to_sample = df_to_sample.reset_index()\n",
    "df_dists_to_sample = choroid_dists.reset_index()\n",
    "\n",
    "structs = df_thomas.columns[~df_thomas.columns.isin([\"THALAMUS_1\", \"Amy_34\", \"GP_33\", \"Cla_28\"])]\n",
    "covariates = \"age + Female\"\n",
    "outcome = \"choroid_volume\"\n",
    "\n",
    "n_boots = 1000\n",
    "t_stats_pms = np.zeros((n_boots,))\n",
    "for i_samp in tqdm(range(n_boots)):\n",
    "    inds = np.random.randint(0, df_to_sample.index.max(), len(df_to_sample))\n",
    "    model_data = df_to_sample.loc[inds, :]\n",
    "    dists = df_dists_to_sample.loc[inds, :]\n",
    "\n",
    "    regression_results = regress_all_nuclei(model_data, covariates, outcome, structs)\n",
    "    data = regression_results.copy()\n",
    "    for i in data.index:\n",
    "        data.loc[i, 'dist'] = dists[str(i)].mean()\n",
    "    slope, intercept, r_value, p_value, std_err = stats.linregress(data['dist'], data['coef'])\n",
    "    t_stats_pms[i_samp] = (slope / std_err)\n",
    "\n",
    "slopes_ms.sort()\n",
    "mean_slope = slopes_ms.mean()\n",
    "print(\"Slope: {:0.2} [{:0.2}, {:0.2}]\".format(mean_slope, slopes_ms[25], slopes_ms[975]))\n",
    "\n",
    "p_boot = sum(t_stats_ms <= 0) / n_boots\n",
    "print(\"Bootstrapped p: {:0.2f}\".format(p_boot))"
   ]
  },
  {
   "cell_type": "code",
   "execution_count": 7,
   "id": "62bae5fa",
   "metadata": {},
   "outputs": [
    {
     "data": {
      "text/plain": [
       "(<Figure size 640x480 with 1 Axes>, <Axes: >)"
      ]
     },
     "execution_count": 7,
     "metadata": {},
     "output_type": "execute_result"
    },
    {
     "data": {
      "image/png": "[encoded data removed]",
      "text/plain": [
       "<Figure size 640x480 with 1 Axes>"
      ]
     },
     "metadata": {},
     "output_type": "display_data"
    }
   ],
   "source": [
    "model_data = df_z.join([df_thomas_z])\n",
    "model_data = model_data[model_data['dz_type5'] == \"PMS\"]\n",
    "structs = df_thomas.columns[~df_thomas.columns.isin([\"THALAMUS_1\", \"Amy_34\", \"GP_33\", \"Cla_28\", \"RN_32\", \"Put_31\", \"Acc_26\"])]\n",
    "covariates = \"age + Female + tiv\"\n",
    "outcome = \"choroid_volume\"\n",
    "\n",
    "regression_results = regress_all_nuclei(model_data, covariates, outcome, structs)\n",
    "\n",
    "data = regression_results.copy()\n",
    "for i in data.index:\n",
    "    data.loc[i, 'dist'] = choroid_dists[str(i)].mean()\n",
    "\n",
    "plot_xordered_data(data, \"dist\", \"coef\", \"struct\", fit_line=True)"
   ]
  },
  {
   "cell_type": "markdown",
   "id": "7bb8995b",
   "metadata": {},
   "source": [
    "PMS"
   ]
  },
  {
   "cell_type": "code",
   "execution_count": 8,
   "id": "d3b8f36a",
   "metadata": {},
   "outputs": [
    {
     "data": {
      "application/vnd.jupyter.widget-view+json": {
       "model_id": "81f8f4982b1d4b0f8dad5f4ee9f707fe",
       "version_major": 2,
       "version_minor": 0
      },
      "text/plain": [
       "  0%|          | 0/1000 [00:00<?, ?it/s]"
      ]
     },
     "metadata": {},
     "output_type": "display_data"
    },
    {
     "name": "stdout",
     "output_type": "stream",
     "text": [
      "Slope: 0.02 [0.0052, 0.036]\n",
      "R2: 0.36 [0.049, 0.69]\n",
      "Bootstrapped p: 0.00\n"
     ]
    }
   ],
   "source": [
    "df_to_sample = model_data.copy() # copy over the model_data from above\n",
    "df_to_sample = df_to_sample.reset_index()\n",
    "df_dists_to_sample = choroid_dists.reset_index()\n",
    "\n",
    "# structs = df_thomas.columns[~df_thomas.columns.isin([\"THALAMUS_1\", \"Amy_34\", \"GP_33\", \"Cla_28\"])]\n",
    "outcome = \"choroid_volume\"\n",
    "\n",
    "n_boots = 1000\n",
    "t_stats_pms = np.zeros((n_boots,))\n",
    "slopes_pms = np.zeros((n_boots,))\n",
    "r_values_pms = np.zeros((n_boots,))\n",
    "for i_samp in tqdm(range(n_boots)):\n",
    "    inds = np.random.randint(0, df_to_sample.index.max(), len(df_to_sample))\n",
    "    model_data = df_to_sample.loc[inds, :]\n",
    "    dists = df_dists_to_sample.loc[inds, :]\n",
    "\n",
    "    regression_results = regress_all_nuclei(model_data, covariates, outcome, structs)\n",
    "    data = regression_results.copy()\n",
    "    for i in data.index:\n",
    "        data.loc[i, 'dist'] = dists[str(i)].mean()\n",
    "    slope, intercept, r_value, p_value, std_err = stats.linregress(data['dist'], data['coef'])\n",
    "    t_stats_pms[i_samp] = (slope / std_err)\n",
    "    slopes_pms[i_samp] = slope\n",
    "    r_values_pms[i_samp] = r_value\n",
    "\n",
    "slopes_pms.sort()\n",
    "mean_slope = slopes_pms.mean()\n",
    "print(\"Slope: {:0.2} [{:0.2}, {:0.2}]\".format(mean_slope, slopes_pms[25], slopes_pms[975]))\n",
    "\n",
    "r_values_pms.sort()\n",
    "mean_r_value = r_values_pms.mean()\n",
    "print(\"R2: {:0.2} [{:0.2}, {:0.2}]\".format(mean_r_value**2, r_values_pms[25]**2, r_values_pms[975]**2))\n",
    "\n",
    "p_boot = sum(t_stats_pms <= 0) / n_boots\n",
    "print(\"Bootstrapped p: {:0.2f}\".format(p_boot))"
   ]
  },
  {
   "cell_type": "code",
   "execution_count": 59,
   "id": "3ee54cef",
   "metadata": {},
   "outputs": [
    {
     "data": {
      "text/plain": [
       "array([ 1.73976901, -0.3758409 ,  1.90793005,  1.26077537,  1.31948155,\n",
       "        2.0213551 , -0.33305541,  0.2246131 ,  1.35921462,  1.62327371,\n",
       "        0.30462528, -0.97896493,  0.8965971 ,  2.31098061,  0.33515612,\n",
       "        2.19271535,  0.70849485,  0.63631285,  0.26826287,  1.09019341,\n",
       "        1.66042134,  2.78738497,  2.53905528,  1.59168735,  2.34077925,\n",
       "        0.360122  ,  0.82390332,  1.27221482,  1.01857097,  0.69656133,\n",
       "        3.69650484,  0.83358586,  0.43307949,  2.75511047,  1.23142898,\n",
       "        1.69376873,  0.39989245,  0.40065271,  1.79725941,  1.11390879,\n",
       "        0.39102222,  3.01221924,  0.93227131,  1.52608043,  1.44462738,\n",
       "        0.94360622,  3.5334606 ,  0.30476275,  2.55370613,  1.39575465,\n",
       "        2.09754948,  1.15282795,  2.00368374,  1.93552847,  1.24400524,\n",
       "        1.6679299 ,  0.84418165,  0.7999572 ,  3.28512882,  1.03572481,\n",
       "        0.9037967 ,  0.98572215,  1.30739014,  1.97467057,  1.3581135 ,\n",
       "        0.31597142,  1.38365801,  1.37988944,  2.52114585,  0.65340633,\n",
       "        0.43850724,  2.42876697,  0.18184871,  0.41816051,  0.63406578,\n",
       "        1.46651726,  4.10417359,  0.23248477,  3.25887436,  1.7540798 ,\n",
       "        1.22685039,  1.10593026, -0.58529877,  2.73339646,  1.36084486,\n",
       "        1.19523494,  0.62327662,  2.32955468,  1.87176076,  0.93202204,\n",
       "        3.21536679,  0.80882516,  1.48920887,  1.33338477, -0.11072398,\n",
       "        3.13698512,  1.77987233,  1.81251209,  3.38942631,  1.86619935])"
      ]
     },
     "execution_count": 59,
     "metadata": {},
     "output_type": "execute_result"
    }
   ],
   "source": [
    "t_stats_pms"
   ]
  }
 ],
 "metadata": {
  "kernelspec": {
   "display_name": "monai",
   "language": "python",
   "name": "python3"
  },
  "language_info": {
   "codemirror_mode": {
    "name": "ipython",
    "version": 3
   },
   "file_extension": ".py",
   "mimetype": "text/x-python",
   "name": "python",
   "nbconvert_exporter": "python",
   "pygments_lexer": "ipython3",
   "version": "3.12.7"
  }
 },
 "nbformat": 4,
 "nbformat_minor": 5
}
