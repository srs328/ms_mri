{
 "cells": [
  {
   "cell_type": "code",
   "execution_count": 23,
   "id": "6e116557",
   "metadata": {},
   "outputs": [],
   "source": [
    "import pandas as pd\n",
    "from pathlib import Path\n",
    "import json\n",
    "import numpy as np\n",
    "from collections import defaultdict\n",
    "import matplotlib.pyplot as plt"
   ]
  },
  {
   "cell_type": "code",
   "execution_count": 19,
   "id": "b01191ec",
   "metadata": {},
   "outputs": [],
   "source": [
    "subid = '1001'\n",
    "dataroot = Path(\"/mnt/h/3Tpioneer_bids\")\n",
    "work_home = Path(\"/mnt/h/srs-9/longitudinal\")\n",
    "work_dir = work_home / f\"sub{subid}\"\n",
    "data_dir = Path(\"/home/srs-9/Projects/ms_mri/analysis/thalamus/data0\")\n",
    "\n",
    "with open(dataroot / \"subject-sessions-longit.json\", 'r') as f:\n",
    "    subjects = json.load(f)\n",
    "sessions = sorted(subjects[subid])"
   ]
  },
  {
   "cell_type": "code",
   "execution_count": 17,
   "id": "ae2e3f82",
   "metadata": {},
   "outputs": [],
   "source": [
    "session_volumes  = defaultdict(list)\n",
    "for sesid in sessions:\n",
    "    ses_data = pd.read_csv(work_dir / \"left\" / f\"hipsthomas_vols_jacobians-{sesid}.csv\", index_col=\"struct\")\n",
    "    for i in ses_data.index:\n",
    "        session_volumes[i].append(ses_data.loc[i, 'volumes'] / np.exp(ses_data.loc[i, 'jac_det']))\n",
    "\n",
    "df = pd.DataFrame(session_volumes, index=sessions)"
   ]
  },
  {
   "cell_type": "code",
   "execution_count": 18,
   "id": "842cecfb",
   "metadata": {},
   "outputs": [],
   "source": [
    "session_volumes = defaultdict(list)\n",
    "for sesid in sessions:\n",
    "    ses_data = pd.read_csv(work_dir / \"left\" / f\"hipsthomas_vols_jacobians-{sesid}.csv\", index_col=\"struct\")\n",
    "    session_volumes[sesid] = [row['volumes'] / np.exp(row['jac_det']) for _,row in ses_data.iterrows()]\n",
    "\n",
    "df = pd.DataFrame(session_volumes, index=ses_data.index)"
   ]
  },
  {
   "cell_type": "code",
   "execution_count": 22,
   "id": "d6591fe7",
   "metadata": {},
   "outputs": [],
   "source": [
    "changes = [(row[sessions[0]] - row[sessions[-1]])/row[sessions[0]] for _,row in df.iterrows()]"
   ]
  },
  {
   "cell_type": "code",
   "execution_count": 20,
   "id": "1a36938e",
   "metadata": {},
   "outputs": [],
   "source": [
    "df_dists = pd.read_csv(data_dir / \"centroid-SDT.csv\", index_col=\"subid\")"
   ]
  },
  {
   "cell_type": "code",
   "execution_count": 24,
   "id": "49a1a09b",
   "metadata": {},
   "outputs": [
    {
     "data": {
      "text/plain": [
       "<matplotlib.collections.PathCollection at 0x7f4aea0cbe90>"
      ]
     },
     "execution_count": 24,
     "metadata": {},
     "output_type": "execute_result"
    },
    {
     "data": {
      "image/png": "[encoded data removed]",
      "text/plain": [
       "<Figure size 640x480 with 1 Axes>"
      ]
     },
     "metadata": {},
     "output_type": "display_data"
    }
   ],
   "source": [
    "plt.scatter(df_dists.loc[1001, :], changes)"
   ]
  }
 ],
 "metadata": {
  "kernelspec": {
   "display_name": "monai",
   "language": "python",
   "name": "python3"
  },
  "language_info": {
   "codemirror_mode": {
    "name": "ipython",
    "version": 3
   },
   "file_extension": ".py",
   "mimetype": "text/x-python",
   "name": "python",
   "nbconvert_exporter": "python",
   "pygments_lexer": "ipython3",
   "version": "3.12.4"
  }
 },
 "nbformat": 4,
 "nbformat_minor": 5
}
