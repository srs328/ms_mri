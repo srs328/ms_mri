{
 "cells": [
  {
   "cell_type": "code",
   "execution_count": 1,
   "id": "da7bfb45",
   "metadata": {},
   "outputs": [],
   "source": [
    "import pandas as pd\n",
    "from pathlib import Path\n",
    "import json\n",
    "import numpy as np\n",
    "from collections import defaultdict\n",
    "import matplotlib.pyplot as plt\n",
    "from datetime import datetime\n",
    "from scipy import stats\n",
    "import numpy as np\n",
    "from matplotlib import colormaps\n",
    "import nibabel as nib\n",
    "from scipy import ndimage\n",
    "import csv\n",
    "\n",
    "from mri_data import file_manager as fm"
   ]
  },
  {
   "cell_type": "code",
   "execution_count": 2,
   "id": "4ea18203",
   "metadata": {},
   "outputs": [],
   "source": [
    "hipsthomas_root = Path(\"/media/smbshare/srs-9/hipsthomas\")\n",
    "dataproc_root = Path(\"/media/smbshare/srs-9/thalamus_project/data\")\n",
    "data_file_dir = Path(\"/home/srs-9/Projects/ms_mri/analysis/thalamus/data0\")"
   ]
  },
  {
   "cell_type": "code",
   "execution_count": 18,
   "id": "44362474",
   "metadata": {},
   "outputs": [],
   "source": [
    "def load_thomas(root, sub, ses):\n",
    "    thomas_dir = root / f\"sub{sub}-{ses}\"\n",
    "    thomL_file = thomas_dir / \"left/thomasfull_L.nii.gz\"\n",
    "    thomL_img = nib.load(thomL_file)\n",
    "    thomR_file = thomas_dir / \"right/thomasfull_R.nii.gz\"\n",
    "    thomR_img = nib.load(thomR_file)\n",
    "    return thomL_img, thomR_img"
   ]
  },
  {
   "cell_type": "code",
   "execution_count": 22,
   "id": "4f4dfd85",
   "metadata": {},
   "outputs": [],
   "source": [
    "thomL_img,_ = load_thomas(hipsthomas_root, 1001, 20170215)\n",
    "ventricle_sdt_path = \"/media/srs-9/Data/srs-9/hips-thomas/sub1001-20170215/aseg-ventricle-sdt.nii.gz\"\n",
    "ventricle_sdt = nib.load(ventricle_sdt_path).get_fdata()\n",
    "\n",
    "thom = thomL_img.get_fdata()\n",
    "thom_inds = np.unique(thom)\n",
    "thom_inds = thom_inds[thom_inds > 0]\n",
    "dists = {}\n",
    "for ind in thom_inds:\n",
    "    struct_pts = thom.copy()\n",
    "    struct_pts[thom!=ind] = 0\n",
    "    struct_pts[thom==ind] = 1\n",
    "    centroid = ndimage.center_of_mass(struct_pts)\n",
    "    centroid_round = [int(cent) for cent in centroid]\n",
    "    dists[int(ind)] = ventricle_sdt[*centroid_round]"
   ]
  },
  {
   "cell_type": "code",
   "execution_count": 27,
   "id": "533d549a",
   "metadata": {},
   "outputs": [
    {
     "name": "stdout",
     "output_type": "stream",
     "text": [
      "{2: 4.079217910766602, 4: 6.144927978515625, 5: 10.881211280822754, 6: 9.363773345947266, 7: 10.762900352478027, 8: 8.541664123535156, 9: 18.33031463623047, 10: 15.839193344116211, 11: 12.470782279968262, 12: 9.329524040222168, 13: 13.410449981689453, 14: 10.055845260620117, 26: 6.499259948730469, 27: 5.122552394866943, 28: 20.83097267150879, 29: 10.851828575134277, 30: 11.482226371765137, 31: 15.450724601745605, 32: 18.434751510620117}\n"
     ]
    }
   ],
   "source": [
    "print(dists)"
   ]
  },
  {
   "cell_type": "code",
   "execution_count": 30,
   "id": "9d038e10",
   "metadata": {},
   "outputs": [
    {
     "name": "stdout",
     "output_type": "stream",
     "text": [
      "2 4.079217910766602\n",
      "4 6.144927978515625\n",
      "5 10.881211280822754\n",
      "6 9.363773345947266\n",
      "7 10.762900352478027\n",
      "8 8.541664123535156\n",
      "9 18.33031463623047\n",
      "10 15.839193344116211\n",
      "11 12.470782279968262\n",
      "12 9.329524040222168\n",
      "13 13.410449981689453\n",
      "14 10.055845260620117\n",
      "26 6.499259948730469\n",
      "27 5.122552394866943\n",
      "28 20.83097267150879\n",
      "29 10.851828575134277\n",
      "30 11.482226371765137\n",
      "31 15.450724601745605\n",
      "32 18.434751510620117\n"
     ]
    }
   ],
   "source": [
    "data_file = \"/home/srs-9/Projects/ms_mri/choroid_thalamus_project/sub1001-centroid-ventricle-sdt.csv\"\n",
    "with open(data_file, 'w') as f:\n",
    "    writer = csv.writer(f)\n",
    "    writer.writerow([\"ind\", \"dist\"])\n",
    "    for k,v in dists.items():\n",
    "        print(k, v)\n",
    "        writer.writerow([k, v])"
   ]
  },
  {
   "cell_type": "markdown",
   "id": "98194c35",
   "metadata": {},
   "source": [
    "---"
   ]
  },
  {
   "cell_type": "code",
   "execution_count": 4,
   "id": "ca66b78a",
   "metadata": {},
   "outputs": [],
   "source": [
    "drive_root = fm.get_drive_root()\n",
    "dataroot = drive_root / \"3Tpioneer_bids\"\n",
    "with open(dataroot / \"subject-sessions-longit.json\", 'r') as f:\n",
    "    subject_sessions = json.load(f)\n",
    "\n",
    "df = pd.read_csv(\"/home/srs-9/Projects/ms_mri/data/clinical_data_processed.csv\", index_col=\"subid\")[['dzdur', 'ms_type', 'dz_type5']]"
   ]
  },
  {
   "cell_type": "code",
   "execution_count": 5,
   "id": "8f56d496",
   "metadata": {},
   "outputs": [],
   "source": [
    "date_format = \"%Y%m%d\"\n",
    "deltas = []\n",
    "for k, v in subject_sessions.items():\n",
    "    sessions = sorted(v)\n",
    "    time1 = datetime.strptime(str(sessions[0]), date_format)\n",
    "    time2 = datetime.strptime(str(sessions[-1]), date_format)\n",
    "    delta = (time2 - time1).days\n",
    "    deltas.append((time2 - time1).days)\n",
    "    df.loc[int(k), 'delta'] = delta / 365\n",
    "\n",
    "deltas.sort(reverse=True)\n",
    "deltas = np.array(deltas)"
   ]
  },
  {
   "cell_type": "code",
   "execution_count": null,
   "id": "8852479b",
   "metadata": {},
   "outputs": [],
   "source": [
    "check = df[df['dz_type5'].isin([\"PMS\"])].sort_values(by='dzdur')\n",
    "check2 = check[check['delta'] > 3]\n",
    "\n",
    "rms_check = df[df['dz_type5'].isin([\"RMS\"])]\n",
    "rms_check2 = rms_check[(rms_check['delta'] > 4) & (rms_check['dzdur'] < 5)]"
   ]
  },
  {
   "cell_type": "code",
   "execution_count": 28,
   "id": "9558f800",
   "metadata": {},
   "outputs": [],
   "source": [
    "subjects = check2.index.tolist() + rms_check2.index.tolist()\n",
    "with open(\"subjects_to_process.txt\", 'w') as f:\n",
    "    for sub in subjects:\n",
    "        f.write(str(sub) + \"\\n\")"
   ]
  },
  {
   "cell_type": "code",
   "execution_count": 10,
   "id": "a8ad883f",
   "metadata": {},
   "outputs": [
    {
     "data": {
      "text/plain": [
       "'PPMS'"
      ]
     },
     "execution_count": 10,
     "metadata": {},
     "output_type": "execute_result"
    }
   ],
   "source": [
    "check.loc[1198, 'ms_type']"
   ]
  },
  {
   "cell_type": "code",
   "execution_count": 12,
   "id": "598dacf8",
   "metadata": {},
   "outputs": [
    {
     "data": {
      "text/plain": [
       "[20211229, 20201218, 20191221, 20180105, 20181220, 20161209]"
      ]
     },
     "execution_count": 12,
     "metadata": {},
     "output_type": "execute_result"
    }
   ],
   "source": [
    "subject_sessions['1131']"
   ]
  }
 ],
 "metadata": {
  "kernelspec": {
   "display_name": "monai",
   "language": "python",
   "name": "python3"
  },
  "language_info": {
   "codemirror_mode": {
    "name": "ipython",
    "version": 3
   },
   "file_extension": ".py",
   "mimetype": "text/x-python",
   "name": "python",
   "nbconvert_exporter": "python",
   "pygments_lexer": "ipython3",
   "version": "3.12.4"
  }
 },
 "nbformat": 4,
 "nbformat_minor": 5
}
