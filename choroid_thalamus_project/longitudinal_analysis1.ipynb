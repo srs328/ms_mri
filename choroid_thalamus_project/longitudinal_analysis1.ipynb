{
 "cells": [
  {
   "cell_type": "code",
   "execution_count": 10,
   "id": "9d573cfc",
   "metadata": {},
   "outputs": [],
   "source": [
    "import pandas as pd\n",
    "from pathlib import Path\n",
    "import json\n",
    "import numpy as np\n",
    "from collections import defaultdict\n",
    "import matplotlib.pyplot as plt\n",
    "from datetime import datetime\n",
    "from scipy import stats\n",
    "import numpy as np\n",
    "import statsmodels.api as sm\n",
    "from matplotlib import colormaps\n",
    "\n",
    "from mri_data import file_manager as fm"
   ]
  },
  {
   "cell_type": "code",
   "execution_count": 3,
   "id": "b89b688a",
   "metadata": {},
   "outputs": [],
   "source": [
    "drive_root = fm.get_drive_root()\n",
    "dataroot = drive_root / \"3Tpioneer_bids\"\n",
    "work_home = drive_root / \"srs-9/longitudinal\"\n",
    "data_dir = Path(\"/home/srs-9/Projects/ms_mri/analysis/thalamus/data0\")\n",
    "date_format = \"%Y%m%d\"\n",
    "fig_path = Path(\"/home/srs-9/Projects/ms_mri/choroid_thalamus_project/figures\")\n",
    "\n",
    "choroid_volumes = pd.read_csv(\"/home/srs-9/Projects/ms_mri/data/choroid_aschoplex_volumes.csv\",\n",
    "                              index_col=\"subid\").dropna()\n",
    "\n",
    "thalamic_nuclei = [2, 4, 5, 6, 7, 8, 9, 10, 11, 12]\n",
    "thalamic_nuclei_str = [str(i) for i in thalamic_nuclei]\n",
    "\n",
    "hips_thomas_ref = pd.read_csv(\"/home/srs-9/Projects/ms_mri/data/hipsthomas_struct_index.csv\", \n",
    "                              index_col=\"index\")\n",
    "\n",
    "with open(dataroot / \"subject-sessions-longit.json\", 'r') as f:\n",
    "    subject_sessions = json.load(f)\n",
    "\n",
    "choroid_dists = pd.read_csv(data_dir / \"centroid-SDT.csv\", index_col=\"subid\")\n",
    "ventricle_dists = pd.read_csv(\"/home/srs-9/Projects/ms_mri/analysis/thalamus/data0/ventricle-SDT.csv\", index_col=\"subid\")\n",
    "\n",
    "df_clinical = pd.read_csv(\"/home/srs-9/Projects/ms_mri/data/clinical_data_processed.csv\", index_col=\"subid\")\n",
    "\n",
    "viridis = colormaps['viridis'].resampled(20)"
   ]
  },
  {
   "cell_type": "code",
   "execution_count": 4,
   "id": "3a291d1e",
   "metadata": {},
   "outputs": [],
   "source": [
    "def get_subject_data(subid):\n",
    "    sessions = sorted(subject_sessions[subid])\n",
    "    work_dir = work_home / f\"sub{subid}\"\n",
    "\n",
    "    session_volumes = defaultdict(list)\n",
    "    # just copy first and last to speed things up\n",
    "    sessions = sorted(sessions)\n",
    "    sessions = [sessions[0], sessions[-1]]\n",
    "    for sesid in sessions:\n",
    "        ses_dataL = pd.read_csv(work_dir / \"left\" / f\"hipsthomas_vols_jacobians-{sesid}.csv\", index_col=\"struct\")\n",
    "        ses_dataR = pd.read_csv(work_dir / \"right\" / f\"hipsthomas_vols_jacobians-{sesid}.csv\", index_col=\"struct\")\n",
    "        vols = []\n",
    "        for i in ses_dataL.index:\n",
    "            left_vol = ses_dataL.loc[i, 'volumes'] / np.exp(ses_dataL.loc[i, 'jac_det'])\n",
    "            right_vol = ses_dataR.loc[i, 'volumes'] / np.exp(ses_dataR.loc[i, 'jac_det'])\n",
    "            vols.append(left_vol+right_vol)\n",
    "        session_volumes[sesid] = vols\n",
    "\n",
    "    df = pd.DataFrame(session_volumes, index=ses_dataL.index)\n",
    "    data = pd.DataFrame({}, index=df.index)\n",
    "    # data['dist'] = choroid_dists.loc[int(subid), :].tolist()\n",
    "    data['dist'] = ventricle_dists.loc[int(subid), :].tolist()\n",
    "    changes = [(row[sessions[-1]] - row[sessions[0]])/row[sessions[0]] for _,row in df.iterrows()]\n",
    "    data['change'] = changes\n",
    "\n",
    "    delta = datetime.strptime(str(df.columns[-1]), date_format) - datetime.strptime(str(df.columns[0]), date_format)\n",
    "    t_delta = delta.days\n",
    "\n",
    "    return {'data': data, 't_delta': t_delta}"
   ]
  },
  {
   "cell_type": "code",
   "execution_count": 5,
   "id": "01869e2f",
   "metadata": {},
   "outputs": [],
   "source": [
    "all_subjects = [1001, 1107, 1125, 1161, 1198, 1218, 1527, 1376, 2075, 1023, 1038, 1098, 1326, 2195, 1076, 1042, 1508, 1071, 1241, 1003, 1301]\n",
    "subjects = [subid for subid in all_subjects if df_clinical.loc[subid, \"dz_type5\"] == \"PMS\"]\n",
    "subjects = [str(sub) for sub in subjects]\n",
    "data_structs = {}\n",
    "for subid in subjects:\n",
    "    data_structs[subid] = get_subject_data(subid)"
   ]
  },
  {
   "cell_type": "code",
   "execution_count": 38,
   "id": "2064fe61",
   "metadata": {},
   "outputs": [],
   "source": [
    "data_struct = data_structs['1107']\n",
    "data_eg = data_struct['data']"
   ]
  },
  {
   "cell_type": "code",
   "execution_count": 30,
   "id": "2bd5d627",
   "metadata": {},
   "outputs": [],
   "source": [
    "def adjust_change(model_data, covariates):\n",
    "    outcome = \"change\"\n",
    "    formula = f\"{outcome} ~ {\" + \".join(covariates)}\"\n",
    "    res = sm.OLS.from_formula(formula, data=model_data).fit()\n",
    "    change = res.params['Intercept']\n",
    "    for covar in covariates:\n",
    "        change = change + res.params[covar] * model_data[covar].mean()\n",
    "    return change"
   ]
  },
  {
   "cell_type": "code",
   "execution_count": 50,
   "id": "e85ec4bc",
   "metadata": {},
   "outputs": [],
   "source": [
    "covariates = [\"age\", \"Female\"]\n",
    "mean_changes = []\n",
    "adjusted_changes = []\n",
    "dists = []\n",
    "for roi_ind in data_eg.index:\n",
    "    model_data = df_clinical.copy()\n",
    "    for subid, struct in data_structs.items():\n",
    "        model_data.loc[int(subid), 'dist'] = struct['data'].loc[roi_ind, 'dist']\n",
    "        model_data.loc[int(subid), 't_delta'] = struct['t_delta']\n",
    "        model_data.loc[int(subid), 'change'] = struct['data'].loc[roi_ind, 'change'] / struct['t_delta']\n",
    "\n",
    "    change = adjust_change(model_data, covariates)\n",
    "    mean_changes.append(model_data['change'].mean())\n",
    "    adjusted_changes.append(change)\n",
    "    dists.append(model_data['dist'].mean())\n",
    "\n",
    "adjusted_changes = pd.DataFrame({'mean_change': mean_changes, 'change': adjusted_changes, 'dist': dists}, index=data_eg.index)"
   ]
  },
  {
   "cell_type": "code",
   "execution_count": 52,
   "id": "72051dd5",
   "metadata": {},
   "outputs": [
    {
     "data": {
      "text/plain": [
       "<matplotlib.collections.PathCollection at 0x7e0cb7caf5c0>"
      ]
     },
     "execution_count": 52,
     "metadata": {},
     "output_type": "execute_result"
    },
    {
     "data": {
      "image/png": "[encoded data removed]",
      "text/plain": [
       "<Figure size 640x480 with 1 Axes>"
      ]
     },
     "metadata": {},
     "output_type": "display_data"
    }
   ],
   "source": [
    "plt.scatter(adjusted_changes['dist'], adjusted_changes['change'])"
   ]
  },
  {
   "cell_type": "code",
   "execution_count": 24,
   "id": "b120094e",
   "metadata": {},
   "outputs": [],
   "source": [
    "covariates = [\"age\", \"Female\", \"t_delta\"]\n",
    "outcome = \"change\"\n",
    "formula = f\"{outcome} ~ {\" + \".join(covariates)}\"\n",
    "res = sm.OLS.from_formula(formula, data=model_data).fit()"
   ]
  },
  {
   "cell_type": "code",
   "execution_count": 28,
   "id": "3e75e419",
   "metadata": {},
   "outputs": [
    {
     "name": "stdout",
     "output_type": "stream",
     "text": [
      "-0.03442623130754603\n"
     ]
    }
   ],
   "source": [
    "change = res.params['Intercept']\n",
    "for covar in covariates:\n",
    "    change = change + res.params[covar] * model_data[covar].mean()\n",
    "print(change)"
   ]
  },
  {
   "cell_type": "code",
   "execution_count": 29,
   "id": "3797d728",
   "metadata": {},
   "outputs": [
    {
     "data": {
      "text/plain": [
       "-0.016444114464844513"
      ]
     },
     "execution_count": 29,
     "metadata": {},
     "output_type": "execute_result"
    }
   ],
   "source": [
    "model_data['change'].mean()"
   ]
  }
 ],
 "metadata": {
  "kernelspec": {
   "display_name": "monai",
   "language": "python",
   "name": "python3"
  },
  "language_info": {
   "codemirror_mode": {
    "name": "ipython",
    "version": 3
   },
   "file_extension": ".py",
   "mimetype": "text/x-python",
   "name": "python",
   "nbconvert_exporter": "python",
   "pygments_lexer": "ipython3",
   "version": "3.12.7"
  }
 },
 "nbformat": 4,
 "nbformat_minor": 5
}
