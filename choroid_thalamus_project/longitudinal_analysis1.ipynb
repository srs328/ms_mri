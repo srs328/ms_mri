{
 "cells": [
  {
   "cell_type": "code",
   "execution_count": 1,
   "id": "9d573cfc",
   "metadata": {},
   "outputs": [],
   "source": [
    "import pandas as pd\n",
    "from pathlib import Path\n",
    "import json\n",
    "import numpy as np\n",
    "from collections import defaultdict\n",
    "import matplotlib.pyplot as plt\n",
    "from datetime import datetime\n",
    "from scipy import stats\n",
    "import numpy as np\n",
    "from matplotlib import colormaps\n",
    "\n",
    "from mri_data import file_manager as fm"
   ]
  },
  {
   "cell_type": "code",
   "execution_count": 2,
   "id": "b89b688a",
   "metadata": {},
   "outputs": [],
   "source": [
    "drive_root = fm.get_drive_root()\n",
    "dataroot = drive_root / \"3Tpioneer_bids\"\n",
    "work_home = drive_root / \"srs-9/longitudinal\"\n",
    "data_dir = Path(\"/home/srs-9/Projects/ms_mri/analysis/thalamus/data0\")\n",
    "date_format = \"%Y%m%d\"\n",
    "fig_path = Path(\"/home/srs-9/Projects/ms_mri/choroid_thalamus_project/figures\")\n",
    "\n",
    "choroid_volumes = pd.read_csv(\"/home/srs-9/Projects/ms_mri/data/choroid_aschoplex_volumes.csv\",\n",
    "                              index_col=\"subid\").dropna()\n",
    "\n",
    "thalamic_nuclei = [2, 4, 5, 6, 7, 8, 9, 10, 11, 12]\n",
    "thalamic_nuclei_str = [str(i) for i in thalamic_nuclei]\n",
    "\n",
    "hips_thomas_ref = pd.read_csv(\"/home/srs-9/Projects/ms_mri/data/hipsthomas_struct_index.csv\", \n",
    "                              index_col=\"index\")\n",
    "\n",
    "with open(dataroot / \"subject-sessions-longit.json\", 'r') as f:\n",
    "    subject_sessions = json.load(f)\n",
    "\n",
    "choroid_dists = pd.read_csv(data_dir / \"centroid-SDT.csv\", index_col=\"subid\")\n",
    "ventricle_dists = pd.read_csv(\"/home/srs-9/Projects/ms_mri/analysis/thalamus/data0/ventricle-SDT.csv\", index_col=\"subid\")\n",
    "\n",
    "df_clinical = pd.read_csv(\"/home/srs-9/Projects/ms_mri/data/clinical_data_processed.csv\", index_col=\"subid\")\n",
    "\n",
    "viridis = colormaps['viridis'].resampled(20)"
   ]
  },
  {
   "cell_type": "code",
   "execution_count": null,
   "id": "3a291d1e",
   "metadata": {},
   "outputs": [],
   "source": []
  }
 ],
 "metadata": {
  "kernelspec": {
   "display_name": "monai",
   "language": "python",
   "name": "python3"
  },
  "language_info": {
   "codemirror_mode": {
    "name": "ipython",
    "version": 3
   },
   "file_extension": ".py",
   "mimetype": "text/x-python",
   "name": "python",
   "nbconvert_exporter": "python",
   "pygments_lexer": "ipython3",
   "version": "3.12.7"
  }
 },
 "nbformat": 4,
 "nbformat_minor": 5
}
