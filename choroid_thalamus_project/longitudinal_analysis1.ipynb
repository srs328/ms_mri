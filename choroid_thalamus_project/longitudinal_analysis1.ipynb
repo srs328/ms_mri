{
 "cells": [
  {
   "cell_type": "code",
   "execution_count": 1,
   "id": "9d573cfc",
   "metadata": {},
   "outputs": [],
   "source": [
    "import pandas as pd\n",
    "from pathlib import Path\n",
    "import json\n",
    "import numpy as np\n",
    "from collections import defaultdict\n",
    "import matplotlib.pyplot as plt\n",
    "from datetime import datetime\n",
    "import re\n",
    "from scipy import stats\n",
    "import numpy as np\n",
    "import statsmodels.api as sm\n",
    "from matplotlib import colormaps\n",
    "\n",
    "from mri_data import file_manager as fm"
   ]
  },
  {
   "cell_type": "code",
   "execution_count": 2,
   "id": "b89b688a",
   "metadata": {},
   "outputs": [
    {
     "ename": "FileNotFoundError",
     "evalue": "[Errno 2] No such file or directory: '/mnt/h/3Tpioneer_bids/subject-sessions-longit.json'",
     "output_type": "error",
     "traceback": [
      "\u001b[0;31m---------------------------------------------------------------------------\u001b[0m",
      "\u001b[0;31mFileNotFoundError\u001b[0m                         Traceback (most recent call last)",
      "Cell \u001b[0;32mIn[2], line 17\u001b[0m\n\u001b[1;32m     12\u001b[0m thalamic_nuclei_str \u001b[38;5;241m=\u001b[39m [\u001b[38;5;28mstr\u001b[39m(i) \u001b[38;5;28;01mfor\u001b[39;00m i \u001b[38;5;129;01min\u001b[39;00m thalamic_nuclei]\n\u001b[1;32m     14\u001b[0m hips_thomas_ref \u001b[38;5;241m=\u001b[39m pd\u001b[38;5;241m.\u001b[39mread_csv(\u001b[38;5;124m\"\u001b[39m\u001b[38;5;124m/home/srs-9/Projects/ms_mri/data/hipsthomas_struct_index.csv\u001b[39m\u001b[38;5;124m\"\u001b[39m, \n\u001b[1;32m     15\u001b[0m                               index_col\u001b[38;5;241m=\u001b[39m\u001b[38;5;124m\"\u001b[39m\u001b[38;5;124mindex\u001b[39m\u001b[38;5;124m\"\u001b[39m)\n\u001b[0;32m---> 17\u001b[0m \u001b[38;5;28;01mwith\u001b[39;00m \u001b[38;5;28;43mopen\u001b[39;49m\u001b[43m(\u001b[49m\u001b[43mdataroot\u001b[49m\u001b[43m \u001b[49m\u001b[38;5;241;43m/\u001b[39;49m\u001b[43m \u001b[49m\u001b[38;5;124;43m\"\u001b[39;49m\u001b[38;5;124;43msubject-sessions-longit.json\u001b[39;49m\u001b[38;5;124;43m\"\u001b[39;49m\u001b[43m,\u001b[49m\u001b[43m \u001b[49m\u001b[38;5;124;43m'\u001b[39;49m\u001b[38;5;124;43mr\u001b[39;49m\u001b[38;5;124;43m'\u001b[39;49m\u001b[43m)\u001b[49m \u001b[38;5;28;01mas\u001b[39;00m f:\n\u001b[1;32m     18\u001b[0m     subject_sessions \u001b[38;5;241m=\u001b[39m json\u001b[38;5;241m.\u001b[39mload(f)\n\u001b[1;32m     20\u001b[0m choroid_dists \u001b[38;5;241m=\u001b[39m pd\u001b[38;5;241m.\u001b[39mread_csv(data_dir \u001b[38;5;241m/\u001b[39m \u001b[38;5;124m\"\u001b[39m\u001b[38;5;124mcentroid-choroid_SDT.csv\u001b[39m\u001b[38;5;124m\"\u001b[39m, index_col\u001b[38;5;241m=\u001b[39m\u001b[38;5;124m\"\u001b[39m\u001b[38;5;124msubid\u001b[39m\u001b[38;5;124m\"\u001b[39m)\n",
      "File \u001b[0;32m~/.virtualenvs/monai/lib/python3.12/site-packages/IPython/core/interactiveshell.py:324\u001b[0m, in \u001b[0;36m_modified_open\u001b[0;34m(file, *args, **kwargs)\u001b[0m\n\u001b[1;32m    317\u001b[0m \u001b[38;5;28;01mif\u001b[39;00m file \u001b[38;5;129;01min\u001b[39;00m {\u001b[38;5;241m0\u001b[39m, \u001b[38;5;241m1\u001b[39m, \u001b[38;5;241m2\u001b[39m}:\n\u001b[1;32m    318\u001b[0m     \u001b[38;5;28;01mraise\u001b[39;00m \u001b[38;5;167;01mValueError\u001b[39;00m(\n\u001b[1;32m    319\u001b[0m         \u001b[38;5;124mf\u001b[39m\u001b[38;5;124m\"\u001b[39m\u001b[38;5;124mIPython won\u001b[39m\u001b[38;5;124m'\u001b[39m\u001b[38;5;124mt let you open fd=\u001b[39m\u001b[38;5;132;01m{\u001b[39;00mfile\u001b[38;5;132;01m}\u001b[39;00m\u001b[38;5;124m by default \u001b[39m\u001b[38;5;124m\"\u001b[39m\n\u001b[1;32m    320\u001b[0m         \u001b[38;5;124m\"\u001b[39m\u001b[38;5;124mas it is likely to crash IPython. If you know what you are doing, \u001b[39m\u001b[38;5;124m\"\u001b[39m\n\u001b[1;32m    321\u001b[0m         \u001b[38;5;124m\"\u001b[39m\u001b[38;5;124myou can use builtins\u001b[39m\u001b[38;5;124m'\u001b[39m\u001b[38;5;124m open.\u001b[39m\u001b[38;5;124m\"\u001b[39m\n\u001b[1;32m    322\u001b[0m     )\n\u001b[0;32m--> 324\u001b[0m \u001b[38;5;28;01mreturn\u001b[39;00m \u001b[43mio_open\u001b[49m\u001b[43m(\u001b[49m\u001b[43mfile\u001b[49m\u001b[43m,\u001b[49m\u001b[43m \u001b[49m\u001b[38;5;241;43m*\u001b[39;49m\u001b[43margs\u001b[49m\u001b[43m,\u001b[49m\u001b[43m \u001b[49m\u001b[38;5;241;43m*\u001b[39;49m\u001b[38;5;241;43m*\u001b[39;49m\u001b[43mkwargs\u001b[49m\u001b[43m)\u001b[49m\n",
      "\u001b[0;31mFileNotFoundError\u001b[0m: [Errno 2] No such file or directory: '/mnt/h/3Tpioneer_bids/subject-sessions-longit.json'"
     ]
    }
   ],
   "source": [
    "drive_root = fm.get_drive_root()\n",
    "dataroot = drive_root / \"3Tpioneer_bids\"\n",
    "work_home = drive_root / \"srs-9/longitudinal\"\n",
    "data_dir = Path(\"/home/srs-9/Projects/ms_mri/analysis/thalamus/data0\")\n",
    "date_format = \"%Y%m%d\"\n",
    "fig_path = Path(\"/home/srs-9/Projects/ms_mri/choroid_thalamus_project/figures\")\n",
    "\n",
    "choroid_volumes = pd.read_csv(\"/home/srs-9/Projects/ms_mri/data/choroid_aschoplex_volumes.csv\",\n",
    "                              index_col=\"subid\").dropna()\n",
    "\n",
    "thalamic_nuclei = [2, 4, 5, 6, 7, 8, 9, 10, 11, 12]\n",
    "thalamic_nuclei_str = [str(i) for i in thalamic_nuclei]\n",
    "\n",
    "hips_thomas_ref = pd.read_csv(\"/home/srs-9/Projects/ms_mri/data/hipsthomas_struct_index.csv\", \n",
    "                              index_col=\"index\")\n",
    "\n",
    "with open(dataroot / \"subject-sessions-longit.json\", 'r') as f:\n",
    "    subject_sessions = json.load(f)\n",
    "\n",
    "choroid_dists = pd.read_csv(data_dir / \"centroid-choroid_SDT.csv\", index_col=\"subid\")\n",
    "ventricle_dists = pd.read_csv(data_dir / \"centroid-ventricle_SDT.csv\", index_col=\"subid\")\n",
    "\n",
    "df_clinical = pd.read_csv(\"/home/srs-9/Projects/ms_mri/data/clinical_data_processed.csv\", index_col=\"subid\")\n",
    "\n",
    "viridis = colormaps['viridis'].resampled(20)"
   ]
  },
  {
   "cell_type": "code",
   "execution_count": 3,
   "id": "3a291d1e",
   "metadata": {},
   "outputs": [],
   "source": [
    "def get_subject_data(subid):\n",
    "    sessions = sorted(subject_sessions[subid])\n",
    "    work_dir = work_home / f\"sub{subid}\"\n",
    "\n",
    "    session_volumes = defaultdict(list)\n",
    "    # just copy first and last to speed things up\n",
    "    sessions = sorted(sessions)\n",
    "    sessions = [sessions[0], sessions[-1]]\n",
    "    for sesid in sessions:\n",
    "        ses_dataL = pd.read_csv(work_dir / \"left\" / f\"hipsthomas_vols_jacobians-{sesid}.csv\", index_col=\"struct\")\n",
    "        ses_dataR = pd.read_csv(work_dir / \"right\" / f\"hipsthomas_vols_jacobians-{sesid}.csv\", index_col=\"struct\")\n",
    "        vols = []\n",
    "        for i in ses_dataL.index:\n",
    "            left_vol = ses_dataL.loc[i, 'volumes'] / np.exp(ses_dataL.loc[i, 'jac_det'])\n",
    "            right_vol = ses_dataR.loc[i, 'volumes'] / np.exp(ses_dataR.loc[i, 'jac_det'])\n",
    "            vols.append(left_vol+right_vol)\n",
    "        session_volumes[sesid] = vols\n",
    "\n",
    "    df = pd.DataFrame(session_volumes, index=ses_dataL.index)\n",
    "    data = pd.DataFrame({}, index=df.index)\n",
    "    data['dist'] = choroid_dists.loc[int(subid), :].tolist()\n",
    "    # data['dist'] = ventricle_dists.loc[int(subid), :].tolist()\n",
    "    changes = [(row[sessions[-1]] - row[sessions[0]])/row[sessions[0]] for _,row in df.iterrows()]\n",
    "    data['change'] = changes\n",
    "\n",
    "    delta = datetime.strptime(str(df.columns[-1]), date_format) - datetime.strptime(str(df.columns[0]), date_format)\n",
    "    t_delta = delta.days\n",
    "\n",
    "    return {'data': data, 't_delta': t_delta}"
   ]
  },
  {
   "cell_type": "code",
   "execution_count": 24,
   "id": "b18943cd",
   "metadata": {},
   "outputs": [],
   "source": [
    "all_subjects = []\n",
    "for folder in work_home.glob(\"sub*\"):\n",
    "    if len(list((folder / \"left\").glob(\"*.csv\"))) > 0:\n",
    "           all_subjects.append(re.match(r\"sub(\\d{4})\", folder.name)[1])"
   ]
  },
  {
   "cell_type": "code",
   "execution_count": 25,
   "id": "01869e2f",
   "metadata": {},
   "outputs": [],
   "source": [
    "subjects = [subid for subid in all_subjects if df_clinical.loc[int(subid), \"dz_type5\"] == \"PMS\"]\n",
    "# subjects = all_subjects\n",
    "data_structs = {}\n",
    "for subid in subjects:\n",
    "    data_structs[subid] = get_subject_data(subid)\n",
    "data_eg = data_structs[subjects[0]]['data']"
   ]
  },
  {
   "cell_type": "code",
   "execution_count": 26,
   "id": "2bd5d627",
   "metadata": {},
   "outputs": [],
   "source": [
    "def adjust_change(model_data, covariates):\n",
    "    outcome = \"change\"\n",
    "    formula = f\"{outcome} ~ {\" + \".join(covariates)}\"\n",
    "    res = sm.OLS.from_formula(formula, data=model_data).fit()\n",
    "    change = res.params['Intercept']\n",
    "    for covar in covariates:\n",
    "        change = change + res.params[covar] * model_data[covar].mean()\n",
    "    return change"
   ]
  },
  {
   "cell_type": "code",
   "execution_count": null,
   "id": "e85ec4bc",
   "metadata": {},
   "outputs": [],
   "source": [
    "covariates = [\"dzdur\"]\n",
    "mean_changes = []\n",
    "adjusted_changes = []\n",
    "dists = []\n",
    "for roi_ind in data_eg.index:\n",
    "    model_data = df_clinical.copy()\n",
    "    for subid, struct in data_structs.items():\n",
    "        model_data.loc[int(subid), 'dist'] = struct['data'].loc[roi_ind, 'dist']\n",
    "        model_data.loc[int(subid), 't_delta'] = struct['t_delta']\n",
    "        model_data.loc[int(subid), 'change'] = struct['data'].loc[roi_ind, 'change'] / struct['t_delta']\n",
    "\n",
    "    change = adjust_change(model_data, covariates)\n",
    "    mean_changes.append(model_data['change'].mean())\n",
    "    adjusted_changes.append(change)\n",
    "    dists.append(model_data['dist'].mean())\n",
    "\n",
    "adjusted_changes = pd.DataFrame({'mean_change': mean_changes, 'change': adjusted_changes, 'dist': dists}, index=data_eg.index)"
   ]
  },
  {
   "cell_type": "code",
   "execution_count": 33,
   "id": "72051dd5",
   "metadata": {},
   "outputs": [
    {
     "data": {
      "text/plain": [
       "<matplotlib.collections.PathCollection at 0x7f93902c0da0>"
      ]
     },
     "execution_count": 33,
     "metadata": {},
     "output_type": "execute_result"
    },
    {
     "data": {
      "image/png": "[encoded data removed]",
      "text/plain": [
       "<Figure size 640x480 with 1 Axes>"
      ]
     },
     "metadata": {},
     "output_type": "display_data"
    }
   ],
   "source": [
    "plt.scatter(adjusted_changes['dist'], adjusted_changes['change'])"
   ]
  },
  {
   "cell_type": "code",
   "execution_count": 24,
   "id": "b120094e",
   "metadata": {},
   "outputs": [],
   "source": [
    "covariates = [\"age\", \"Female\", \"t_delta\"]\n",
    "outcome = \"change\"\n",
    "formula = f\"{outcome} ~ {\" + \".join(covariates)}\"\n",
    "res = sm.OLS.from_formula(formula, data=model_data).fit()"
   ]
  },
  {
   "cell_type": "code",
   "execution_count": 28,
   "id": "3e75e419",
   "metadata": {},
   "outputs": [
    {
     "name": "stdout",
     "output_type": "stream",
     "text": [
      "-0.03442623130754603\n"
     ]
    }
   ],
   "source": [
    "change = res.params['Intercept']\n",
    "for covar in covariates:\n",
    "    change = change + res.params[covar] * model_data[covar].mean()\n",
    "print(change)"
   ]
  },
  {
   "cell_type": "code",
   "execution_count": 29,
   "id": "3797d728",
   "metadata": {},
   "outputs": [
    {
     "data": {
      "text/plain": [
       "-0.016444114464844513"
      ]
     },
     "execution_count": 29,
     "metadata": {},
     "output_type": "execute_result"
    }
   ],
   "source": [
    "model_data['change'].mean()"
   ]
  }
 ],
 "metadata": {
  "kernelspec": {
   "display_name": "monai",
   "language": "python",
   "name": "python3"
  },
  "language_info": {
   "codemirror_mode": {
    "name": "ipython",
    "version": 3
   },
   "file_extension": ".py",
   "mimetype": "text/x-python",
   "name": "python",
   "nbconvert_exporter": "python",
   "pygments_lexer": "ipython3",
   "version": "3.12.4"
  }
 },
 "nbformat": 4,
 "nbformat_minor": 5
}
