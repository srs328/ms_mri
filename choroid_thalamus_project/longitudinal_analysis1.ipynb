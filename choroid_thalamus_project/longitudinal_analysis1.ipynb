{
 "cells": [
  {
   "cell_type": "code",
   "execution_count": 1,
   "id": "9d573cfc",
   "metadata": {},
   "outputs": [],
   "source": [
    "import pandas as pd\n",
    "from pathlib import Path\n",
    "import json\n",
    "import numpy as np\n",
    "from collections import defaultdict\n",
    "import matplotlib.pyplot as plt\n",
    "from datetime import datetime\n",
    "import re\n",
    "from scipy import stats\n",
    "import numpy as np\n",
    "import statsmodels.api as sm\n",
    "from matplotlib import colormaps\n",
    "from scipy.optimize import curve_fit\n",
    "from tqdm.notebook import tqdm\n",
    "\n",
    "\n",
    "from mri_data import file_manager as fm"
   ]
  },
  {
   "cell_type": "code",
   "execution_count": 2,
   "id": "b89b688a",
   "metadata": {},
   "outputs": [
    {
     "name": "stdout",
     "output_type": "stream",
     "text": [
      "/media/smbshare/srs-9/longitudinal/sub1163\n"
     ]
    }
   ],
   "source": [
    "drive_root = fm.get_drive_root()\n",
    "dataroot = drive_root / \"3Tpioneer_bids\"\n",
    "work_home = drive_root / \"srs-9/longitudinal\"\n",
    "data_dir = Path(\"/home/srs-9/Projects/ms_mri/data\")\n",
    "date_format = \"%Y%m%d\"\n",
    "fig_path = Path(\"/home/srs-9/Projects/ms_mri/choroid_thalamus_project/figures\")\n",
    "\n",
    "choroid_volumes = pd.read_csv(\"/home/srs-9/Projects/ms_mri/data/choroid_aschoplex_volumes.csv\",\n",
    "                              index_col=\"subid\").dropna()\n",
    "\n",
    "thalamic_nuclei = [2, 4, 5, 6, 7, 8, 9, 10, 11, 12]\n",
    "thalamic_nuclei_str = [str(i) for i in thalamic_nuclei]\n",
    "\n",
    "hips_thomas_ref = pd.read_csv(\"/home/srs-9/Projects/ms_mri/data/hipsthomas_struct_index.csv\", \n",
    "                              index_col=\"index\")\n",
    "hips_thomas_ref.rename(columns={\"struct\": \"struct_name\"}, inplace=True)\n",
    "hips_thomas_ref = pd.Series(hips_thomas_ref['struct_name'])\n",
    "main_index = hips_thomas_ref.index[~hips_thomas_ref.index.isin([1, 33, 34])]\n",
    "\n",
    "with open(dataroot / \"subject-sessions-longit.json\", 'r') as f:\n",
    "    subject_sessions = json.load(f)\n",
    "\n",
    "choroid_dists = pd.read_csv(data_dir / \"centroid-choroid_SDT.csv\", index_col=\"subid\")\n",
    "choroid_dists[\"1\"] = 4\n",
    "\n",
    "ventricle_dists = pd.read_csv(data_dir / \"centroid-ventricle_SDT.csv\", index_col=\"subid\")\n",
    "ventricle_dists[\"1\"] = 4\n",
    "\n",
    "tiv = pd.read_csv(\"/home/srs-9/Projects/ms_mri/data/tiv_data.csv\", index_col=\"subid\")\n",
    "df_clinical = pd.read_csv(\"/home/srs-9/Projects/ms_mri/data/clinical_data_processed.csv\", index_col=\"subid\")\n",
    "df_clinical = df_clinical.join([choroid_volumes, tiv])\n",
    "\n",
    "viridis = colormaps['viridis'].resampled(20)\n",
    "\n",
    "all_subjects = []\n",
    "for folder in work_home.glob(\"sub*\"):\n",
    "    if len(list((folder / \"left\").glob(\"*.csv\"))) > 0 and len(list((folder / \"right\").glob(\"*.csv\"))) > 0:\n",
    "        all_subjects.append(re.match(r\"sub(\\d{4})\", folder.name)[1])\n",
    "    else:\n",
    "        print(folder)\n",
    "all_subjects.remove(\"1064\")\n",
    "all_subids = [int(sub) for sub in all_subjects]\n",
    "\n",
    "choroid_changes = pd.read_csv(\"/home/srs-9/Projects/ms_mri/data/choroid_longitudinal_changes.csv\", index_col=\"subid\")\n",
    "choroid_changes['abs_change'] = choroid_changes['volume2'] - choroid_changes['volume1']\n",
    "choroid_changes['norm_change'] = choroid_changes['abs_change'] / choroid_changes['t_delta']"
   ]
  },
  {
   "cell_type": "markdown",
   "id": "be504826",
   "metadata": {},
   "source": [
    "### Functions"
   ]
  },
  {
   "cell_type": "code",
   "execution_count": 3,
   "id": "3a291d1e",
   "metadata": {},
   "outputs": [],
   "source": [
    "def get_subject_data(subid):\n",
    "    sessions = sorted(subject_sessions[subid])\n",
    "    work_dir = work_home / f\"sub{subid}\"\n",
    "\n",
    "    index = hips_thomas_ref.index[~hips_thomas_ref.index.isin([34, 33])]\n",
    "    session_volumes = defaultdict(list)\n",
    "    # just copy first and last to speed things up\n",
    "    sessions = sorted(sessions)\n",
    "    sessions = [sessions[0], sessions[-1]]\n",
    "    for sesid in sessions:\n",
    "        ses_dataL = pd.read_csv(work_dir / \"left\" / f\"hipsthomas_full_jacobianinv-{sesid}.csv\", index_col=\"struct\")\n",
    "        ses_dataR = pd.read_csv(work_dir / \"right\" / f\"hipsthomas_full_jacobianinv-{sesid}.csv\", index_col=\"struct\")\n",
    "        vols = []\n",
    "        for i in index:\n",
    "            left_vol = ses_dataL.loc[i, 'volumes'] / ses_dataL.loc[i, 'jac_det']\n",
    "            right_vol = ses_dataR.loc[i, 'volumes'] / ses_dataR.loc[i, 'jac_det']\n",
    "            vols.append(left_vol+right_vol)\n",
    "        session_volumes[sesid] = vols\n",
    "\n",
    "    df = pd.DataFrame(session_volumes, index=index)\n",
    "    data = pd.DataFrame({}, index=df.index)\n",
    "    for ind in data.index:\n",
    "        data.loc[ind, 'choroid_dist'] = choroid_dists.loc[int(subid), str(ind)]\n",
    "        data.loc[ind, 'ventricle_dist'] = ventricle_dists.loc[int(subid), str(ind)]\n",
    "    # data['choroid_dist'] = choroid_dists.loc[int(subid), :].tolist()\n",
    "    # data['ventricle_dist'] = ventricle_dists.loc[int(subid), :].tolist()\n",
    "    changes = [(row[sessions[-1]] - row[sessions[0]])/row[sessions[0]] for _,row in df.iterrows()]\n",
    "    # changes = [(row[sessions[-1]]/row[sessions[0]]) for _,row in df.iterrows()]\n",
    "\n",
    "    # changes = [change / max([np.abs(max(changes)), np.abs(min(changes))]) for change in changes]\n",
    "    data['change'] = changes\n",
    "\n",
    "    delta = datetime.strptime(str(df.columns[-1]), date_format) - datetime.strptime(str(df.columns[0]), date_format)\n",
    "    t_delta = delta.days / 365\n",
    "\n",
    "    return {'data': data, 't_delta': t_delta}\n",
    "\n",
    "def adjust_change(model_data, covariates):\n",
    "    outcome = \"change\"\n",
    "    formula = f\"{outcome} ~ {\" + \".join(covariates)}\"\n",
    "    res = sm.OLS.from_formula(formula, data=model_data).fit()\n",
    "    change = res.params['Intercept']\n",
    "    for covar in covariates:\n",
    "        change = change + res.params[covar] * model_data[covar].mean()\n",
    "    return change\n",
    "\n",
    "def plot_data(data, x_name, y_name, label_name, loc=(0.8, 0.05)):\n",
    "    fig, axes = plt.subplots(1)\n",
    "    data.sort_values(by=x_name, inplace=True)\n",
    "    for _, row in data.iterrows():\n",
    "        c = row[x_name] / data[x_name].max()\n",
    "        axes.scatter(row[x_name], row[y_name], label=row[label_name], color=viridis(c))\n",
    "    xlims = axes.get_xlim()\n",
    "    axes.set_xbound([xlims[0], xlims[1]*1.1])\n",
    "    fig.legend(loc=loc)\n",
    "    return fig, axes\n",
    "\n",
    "\n",
    "def plot_xordered_data(\n",
    "    data, x_name, y_name, label_name, loc=(0.8, 0.05), fit_line=False, fdr=True,\n",
    "    xlabel=None, ylabel=None, title=None\n",
    "):\n",
    "    if fdr:\n",
    "        p_col = \"p_fdr\"\n",
    "    else:\n",
    "        p_col = \"pvals\"\n",
    "\n",
    "    if xlabel is None:\n",
    "        xlabel = x_name\n",
    "    if ylabel is None:\n",
    "        ylabel = y_name\n",
    "    if title is None:\n",
    "        title = f\"{ylabel} vs {xlabel}\"\n",
    "\n",
    "    fig, axes = plt.subplots(1)\n",
    "    data.sort_values(by=x_name, inplace=True)\n",
    "    for i, row in data.iterrows():\n",
    "        c = row[x_name] / data[x_name].max()\n",
    "        if p_col in data.columns and data.loc[i, p_col] >= 0.05:\n",
    "            axes.scatter(\n",
    "                data.loc[i, x_name],\n",
    "                data.loc[i, y_name],\n",
    "                marker='x',\n",
    "                color=viridis(c),\n",
    "                label=data.loc[i, label_name],\n",
    "            )\n",
    "        else:\n",
    "            axes.scatter(\n",
    "                data.loc[i, x_name],\n",
    "                data.loc[i, y_name],\n",
    "                marker='D',\n",
    "                color=viridis(c),\n",
    "                label=data.loc[i, label_name],\n",
    "            )\n",
    "\n",
    "    xlims = axes.get_xlim()\n",
    "    ylims = axes.get_ylim()\n",
    "\n",
    "    if fit_line:\n",
    "        slope, intercept, r_value, p_value, std_err = stats.linregress(\n",
    "            data[x_name], data[y_name]\n",
    "        )\n",
    "        x = np.array([xlims[0], xlims[1]])\n",
    "        y = slope * x + intercept\n",
    "        plt.plot(x, y, c='black')\n",
    "        text = \"R2={:0.2f}\\np={:0.2f}\".format(r_value**2, p_value)\n",
    "        text_y = ylims[0] + (ylims[1] - ylims[0]) * 0.9\n",
    "        text_x = xlims[0] + (xlims[1] - xlims[0]) * 0.05\n",
    "        axes.text(text_x, text_y, text)\n",
    "\n",
    "    axes.set_xbound([xlims[0], xlims[1] * 1.1])\n",
    "    fig.legend(loc=loc)\n",
    "    axes.set_xlabel(xlabel)\n",
    "    axes.set_ylabel(ylabel)\n",
    "    axes.set_title(title)\n",
    "\n",
    "    return fig, axes\n",
    "\n",
    "def saturation_curve(x, a, b):\n",
    "    return a*(1-np.exp(-b*x))"
   ]
  },
  {
   "cell_type": "markdown",
   "id": "8ff05978",
   "metadata": {},
   "source": [
    "### Analysis"
   ]
  },
  {
   "cell_type": "code",
   "execution_count": 4,
   "id": "01869e2f",
   "metadata": {},
   "outputs": [
    {
     "name": "stderr",
     "output_type": "stream",
     "text": [
      "/tmp/ipykernel_3420335/2362661902.py:27: RuntimeWarning: invalid value encountered in scalar divide\n",
      "  changes = [(row[sessions[-1]] - row[sessions[0]])/row[sessions[0]] for _,row in df.iterrows()]\n"
     ]
    },
    {
     "name": "stdout",
     "output_type": "stream",
     "text": [
      "78\n"
     ]
    }
   ],
   "source": [
    "subjects = [subid for subid in all_subjects if df_clinical.loc[int(subid), \"dz_type2\"] == \"MS\"]\n",
    "# subjects = [subid for subid in subjects if df_clinical.loc[int(subid), \"dzdur\"] < 2]\n",
    "# subjects = [subid for subid in all_subjects if df_clinical.loc[int(subid), \"dz_type5\"] == \"PMS\"]\n",
    "# subjects = all_subjects\n",
    "data_structs = {}\n",
    "for subid in subjects:\n",
    "    try:\n",
    "        data_structs[subid] = get_subject_data(subid)\n",
    "    except Exception:\n",
    "        print(f\"Failed {subid}\")\n",
    "        continue\n",
    "data_eg = data_structs[subjects[0]]['data']\n",
    "print(len(subjects))"
   ]
  },
  {
   "cell_type": "code",
   "execution_count": 5,
   "id": "e85ec4bc",
   "metadata": {},
   "outputs": [],
   "source": [
    "covariates = [\"dzdur\", \"age\", \"tiv\", \"Female\", \"t_delta\"]\n",
    "mean_changes = []\n",
    "adjusted_changes = []\n",
    "dists = []\n",
    "v_dists = []\n",
    "for roi_ind in main_index:\n",
    "    model_data = df_clinical.copy()\n",
    "    for subid, struct in data_structs.items():\n",
    "        model_data.loc[int(subid), 'choroid_dist'] = struct['data'].loc[roi_ind, 'choroid_dist']\n",
    "        model_data.loc[int(subid), 'ventricle_dist'] = struct['data'].loc[roi_ind, 'ventricle_dist']\n",
    "        model_data.loc[int(subid), 't_delta'] = struct['t_delta']\n",
    "        model_data.loc[int(subid), 'change'] = struct['data'].loc[roi_ind, 'change']\n",
    "\n",
    "    change = adjust_change(model_data, covariates)\n",
    "    mean_changes.append(model_data['change'].mean())\n",
    "    adjusted_changes.append(change)\n",
    "    dists.append(model_data['choroid_dist'].mean())\n",
    "    v_dists.append(model_data['ventricle_dist'].mean())\n",
    "\n",
    "adjusted_changes = pd.DataFrame({'change': mean_changes, 'adj_change': adjusted_changes, 'dist': dists, 'ventricle_dist': v_dists}, index=main_index)\n",
    "adjusted_changes[\"struct_name\"] = hips_thomas_ref"
   ]
  },
  {
   "cell_type": "markdown",
   "id": "c73fb0a7",
   "metadata": {},
   "source": [
    "Should try plotting these changes against the betas from the cross sectional correlations to see if they match up."
   ]
  },
  {
   "cell_type": "code",
   "execution_count": 6,
   "id": "a57d7bdb",
   "metadata": {},
   "outputs": [
    {
     "data": {
      "text/plain": [
       "(<Figure size 640x480 with 1 Axes>,\n",
       " <Axes: title={'center': '% change vs dist'}, xlabel='dist', ylabel='% change'>)"
      ]
     },
     "execution_count": 6,
     "metadata": {},
     "output_type": "execute_result"
    },
    {
     "data": {
      "image/png": "[encoded data removed]",
      "text/plain": [
       "<Figure size 640x480 with 1 Axes>"
      ]
     },
     "metadata": {},
     "output_type": "display_data"
    }
   ],
   "source": [
    "plot_xordered_data(adjusted_changes, \"dist\", \"change\", \"struct_name\", fit_line=False, ylabel=\"% change\")"
   ]
  },
  {
   "cell_type": "code",
   "execution_count": 15,
   "id": "b82619b1",
   "metadata": {},
   "outputs": [],
   "source": [
    "model_data = df_clinical.copy()\n",
    "model_data = model_data.loc[model_data.index.isin(all_subids)]\n",
    "model_data = model_data.join([choroid_changes])\n",
    "model_data\n",
    "for subject in subjects:\n",
    "    subid = int(subject)\n",
    "    data_struct = data_structs[subject]\n",
    "    model_data.loc[subid, 't_delta'] = data_struct['t_delta']\n",
    "    data = data_struct['data']\n",
    "    for i, row in data.iterrows():\n",
    "        model_data.loc[subid, f\"change_{i}\"] = row['change'] / data_struct['t_delta']\n",
    "        model_data.loc[subid, f\"choroid_dist_{i}\"] = row['choroid_dist']\n",
    "        model_data.loc[subid, f\"ventricle_dist_{i}\"] = row['ventricle_dist']\n",
    "\n",
    "numeric_cols = model_data.select_dtypes(include='number').columns\n",
    "model_data[numeric_cols] = model_data[numeric_cols].apply(stats.zscore, nan_policy=\"omit\")"
   ]
  },
  {
   "cell_type": "code",
   "execution_count": 16,
   "id": "bf8c66bc",
   "metadata": {},
   "outputs": [
    {
     "data": {
      "application/vnd.microsoft.datawrangler.viewer.v0+json": {
       "columns": [
        {
         "name": "index",
         "rawType": "int64",
         "type": "integer"
        },
        {
         "name": "coef",
         "rawType": "float64",
         "type": "float"
        },
        {
         "name": "pvals",
         "rawType": "float64",
         "type": "float"
        },
        {
         "name": "se",
         "rawType": "float64",
         "type": "float"
        },
        {
         "name": "p_fdr",
         "rawType": "float64",
         "type": "float"
        },
        {
         "name": "struct_name",
         "rawType": "object",
         "type": "string"
        },
        {
         "name": "coef_sig",
         "rawType": "float64",
         "type": "float"
        },
        {
         "name": "dist",
         "rawType": "float64",
         "type": "float"
        }
       ],
       "ref": "55b944e3-47c5-40d4-89d7-77c465abbf77",
       "rows": [
        [
         "30",
         "-0.19565026851302297",
         "0.04643477039197046",
         "0.08264835100215928",
         "0.13147601678165677",
         "GPi_30",
         "0.0",
         "-6.832141690000964e-16"
        ],
        [
         "4",
         "0.1458512209591924",
         "0.13992740678474921",
         "0.08240881300799892",
         "0.27985481356949843",
         "VA_4",
         "0.0",
         "-6.803674432959293e-16"
        ],
        [
         "32",
         "-0.23309703192820985",
         "0.016643120526819294",
         "0.061748652535198185",
         "0.08321560263409647",
         "RN_32",
         "0.0",
         "-6.661338147750939e-16"
        ],
        [
         "27",
         "0.45293794637504364",
         "2.9975578124279695e-06",
         "0.10896679721126115",
         "5.995115624855939e-05",
         "Cau_27",
         "0.45293794637504364",
         "-5.4372460949591e-16"
        ],
        [
         "2",
         "0.3451765761362714",
         "0.00027998889303608047",
         "0.10068406795581132",
         "0.002799888930360805",
         "AV_2",
         "0.3451765761362714",
         "-1.7365026795419115e-16"
        ],
        [
         "29",
         "-0.2114982066863777",
         "0.029882731319107368",
         "0.0886819033869027",
         "0.1062949688565766",
         "GPe_29",
         "0.0",
         "-1.5407902873804255e-16"
        ],
        [
         "11",
         "-0.21110614295943397",
         "0.03188849065697298",
         "0.06874480118068023",
         "0.1062949688565766",
         "CM_11",
         "0.0",
         "-6.832141690000964e-17"
        ],
        [
         "28",
         "-0.1377991368223399",
         "0.17575856694662123",
         "0.09204949451426524",
         "0.29905168513452285",
         "Cla_28",
         "0.0",
         "1.1604855253393563e-16"
        ],
        [
         "13",
         "-0.12303847364022695",
         "0.2177101657122094",
         "0.0877868367253028",
         "0.29905168513452285",
         "Hb_13",
         "0.0",
         "1.708035422500241e-16"
        ],
        [
         "14",
         "-0.07362078526899717",
         "0.45631713798533446",
         "0.07546652858935568",
         "0.5070190422059272",
         "MTT_14",
         "0.0",
         "2.277380563333654e-16"
        ],
        [
         "5",
         "-0.001163950864320854",
         "0.9908061378364227",
         "0.08540468033227025",
         "0.9908061378364227",
         "VLa_5",
         "0.0",
         "2.50511861966702e-16"
        ],
        [
         "8",
         "-0.12185699659872512",
         "0.2150349505672355",
         "0.08602767146662325",
         "0.29905168513452285",
         "Pul_8",
         "0.0",
         "2.818258447125397e-16"
        ],
        [
         "10",
         "-0.12324032676488049",
         "0.2143652413971772",
         "0.08658548758479588",
         "0.29905168513452285",
         "MGN_10",
         "0.0",
         "2.9605947323337506e-16"
        ],
        [
         "7",
         "-0.19265231299342955",
         "0.05259040671266271",
         "0.07702157538263756",
         "0.13147601678165677",
         "VPL_7",
         "0.0",
         "3.131398274583775e-16"
        ],
        [
         "9",
         "-0.2854078175259599",
         "0.009240516129707263",
         "0.09437954044093005",
         "0.06160344086471509",
         "LGN_9",
         "0.0",
         "4.440892098500626e-16"
        ],
        [
         "26",
         "-0.03378837073433085",
         "0.7373250400695073",
         "0.09338478585399952",
         "0.7761316211257971",
         "Acc_26",
         "0.0",
         "5.01023723933404e-16"
        ],
        [
         "12",
         "-0.12138350788517498",
         "0.22428876385089214",
         "0.06898593810696275",
         "0.29905168513452285",
         "MD_Pf_12",
         "0.0",
         "5.636516894250794e-16"
        ],
        [
         "6",
         "0.08128675428207904",
         "0.41206767477564465",
         "0.08832039700553253",
         "0.48478549973605256",
         "VLP_6",
         "0.0",
         "7.059879746334328e-16"
        ],
        [
         "31",
         "-0.17386321798894874",
         "0.08058393821687658",
         "0.07811441231244379",
         "0.17907541825972575",
         "Put_31",
         "0.0",
         "1.0703688647668175e-15"
        ],
        [
         "1",
         "-0.09934290751431368",
         "0.32039817794705355",
         "0.07398389830288937",
         "0.4004977224338169",
         "THALAMUS_1",
         "0.0",
         null
        ]
       ],
       "shape": {
        "columns": 7,
        "rows": 20
       }
      },
      "text/html": [
       "<div>\n",
       "<style scoped>\n",
       "    .dataframe tbody tr th:only-of-type {\n",
       "        vertical-align: middle;\n",
       "    }\n",
       "\n",
       "    .dataframe tbody tr th {\n",
       "        vertical-align: top;\n",
       "    }\n",
       "\n",
       "    .dataframe thead th {\n",
       "        text-align: right;\n",
       "    }\n",
       "</style>\n",
       "<table border=\"1\" class=\"dataframe\">\n",
       "  <thead>\n",
       "    <tr style=\"text-align: right;\">\n",
       "      <th></th>\n",
       "      <th>coef</th>\n",
       "      <th>pvals</th>\n",
       "      <th>se</th>\n",
       "      <th>p_fdr</th>\n",
       "      <th>struct_name</th>\n",
       "      <th>coef_sig</th>\n",
       "      <th>dist</th>\n",
       "    </tr>\n",
       "  </thead>\n",
       "  <tbody>\n",
       "    <tr>\n",
       "      <th>30</th>\n",
       "      <td>-0.195650</td>\n",
       "      <td>0.046435</td>\n",
       "      <td>0.082648</td>\n",
       "      <td>0.131476</td>\n",
       "      <td>GPi_30</td>\n",
       "      <td>0.000000</td>\n",
       "      <td>-6.832142e-16</td>\n",
       "    </tr>\n",
       "    <tr>\n",
       "      <th>4</th>\n",
       "      <td>0.145851</td>\n",
       "      <td>0.139927</td>\n",
       "      <td>0.082409</td>\n",
       "      <td>0.279855</td>\n",
       "      <td>VA_4</td>\n",
       "      <td>0.000000</td>\n",
       "      <td>-6.803674e-16</td>\n",
       "    </tr>\n",
       "    <tr>\n",
       "      <th>32</th>\n",
       "      <td>-0.233097</td>\n",
       "      <td>0.016643</td>\n",
       "      <td>0.061749</td>\n",
       "      <td>0.083216</td>\n",
       "      <td>RN_32</td>\n",
       "      <td>0.000000</td>\n",
       "      <td>-6.661338e-16</td>\n",
       "    </tr>\n",
       "    <tr>\n",
       "      <th>27</th>\n",
       "      <td>0.452938</td>\n",
       "      <td>0.000003</td>\n",
       "      <td>0.108967</td>\n",
       "      <td>0.000060</td>\n",
       "      <td>Cau_27</td>\n",
       "      <td>0.452938</td>\n",
       "      <td>-5.437246e-16</td>\n",
       "    </tr>\n",
       "    <tr>\n",
       "      <th>2</th>\n",
       "      <td>0.345177</td>\n",
       "      <td>0.000280</td>\n",
       "      <td>0.100684</td>\n",
       "      <td>0.002800</td>\n",
       "      <td>AV_2</td>\n",
       "      <td>0.345177</td>\n",
       "      <td>-1.736503e-16</td>\n",
       "    </tr>\n",
       "    <tr>\n",
       "      <th>29</th>\n",
       "      <td>-0.211498</td>\n",
       "      <td>0.029883</td>\n",
       "      <td>0.088682</td>\n",
       "      <td>0.106295</td>\n",
       "      <td>GPe_29</td>\n",
       "      <td>0.000000</td>\n",
       "      <td>-1.540790e-16</td>\n",
       "    </tr>\n",
       "    <tr>\n",
       "      <th>11</th>\n",
       "      <td>-0.211106</td>\n",
       "      <td>0.031888</td>\n",
       "      <td>0.068745</td>\n",
       "      <td>0.106295</td>\n",
       "      <td>CM_11</td>\n",
       "      <td>0.000000</td>\n",
       "      <td>-6.832142e-17</td>\n",
       "    </tr>\n",
       "    <tr>\n",
       "      <th>28</th>\n",
       "      <td>-0.137799</td>\n",
       "      <td>0.175759</td>\n",
       "      <td>0.092049</td>\n",
       "      <td>0.299052</td>\n",
       "      <td>Cla_28</td>\n",
       "      <td>0.000000</td>\n",
       "      <td>1.160486e-16</td>\n",
       "    </tr>\n",
       "    <tr>\n",
       "      <th>13</th>\n",
       "      <td>-0.123038</td>\n",
       "      <td>0.217710</td>\n",
       "      <td>0.087787</td>\n",
       "      <td>0.299052</td>\n",
       "      <td>Hb_13</td>\n",
       "      <td>0.000000</td>\n",
       "      <td>1.708035e-16</td>\n",
       "    </tr>\n",
       "    <tr>\n",
       "      <th>14</th>\n",
       "      <td>-0.073621</td>\n",
       "      <td>0.456317</td>\n",
       "      <td>0.075467</td>\n",
       "      <td>0.507019</td>\n",
       "      <td>MTT_14</td>\n",
       "      <td>0.000000</td>\n",
       "      <td>2.277381e-16</td>\n",
       "    </tr>\n",
       "    <tr>\n",
       "      <th>5</th>\n",
       "      <td>-0.001164</td>\n",
       "      <td>0.990806</td>\n",
       "      <td>0.085405</td>\n",
       "      <td>0.990806</td>\n",
       "      <td>VLa_5</td>\n",
       "      <td>0.000000</td>\n",
       "      <td>2.505119e-16</td>\n",
       "    </tr>\n",
       "    <tr>\n",
       "      <th>8</th>\n",
       "      <td>-0.121857</td>\n",
       "      <td>0.215035</td>\n",
       "      <td>0.086028</td>\n",
       "      <td>0.299052</td>\n",
       "      <td>Pul_8</td>\n",
       "      <td>0.000000</td>\n",
       "      <td>2.818258e-16</td>\n",
       "    </tr>\n",
       "    <tr>\n",
       "      <th>10</th>\n",
       "      <td>-0.123240</td>\n",
       "      <td>0.214365</td>\n",
       "      <td>0.086585</td>\n",
       "      <td>0.299052</td>\n",
       "      <td>MGN_10</td>\n",
       "      <td>0.000000</td>\n",
       "      <td>2.960595e-16</td>\n",
       "    </tr>\n",
       "    <tr>\n",
       "      <th>7</th>\n",
       "      <td>-0.192652</td>\n",
       "      <td>0.052590</td>\n",
       "      <td>0.077022</td>\n",
       "      <td>0.131476</td>\n",
       "      <td>VPL_7</td>\n",
       "      <td>0.000000</td>\n",
       "      <td>3.131398e-16</td>\n",
       "    </tr>\n",
       "    <tr>\n",
       "      <th>9</th>\n",
       "      <td>-0.285408</td>\n",
       "      <td>0.009241</td>\n",
       "      <td>0.094380</td>\n",
       "      <td>0.061603</td>\n",
       "      <td>LGN_9</td>\n",
       "      <td>0.000000</td>\n",
       "      <td>4.440892e-16</td>\n",
       "    </tr>\n",
       "    <tr>\n",
       "      <th>26</th>\n",
       "      <td>-0.033788</td>\n",
       "      <td>0.737325</td>\n",
       "      <td>0.093385</td>\n",
       "      <td>0.776132</td>\n",
       "      <td>Acc_26</td>\n",
       "      <td>0.000000</td>\n",
       "      <td>5.010237e-16</td>\n",
       "    </tr>\n",
       "    <tr>\n",
       "      <th>12</th>\n",
       "      <td>-0.121384</td>\n",
       "      <td>0.224289</td>\n",
       "      <td>0.068986</td>\n",
       "      <td>0.299052</td>\n",
       "      <td>MD_Pf_12</td>\n",
       "      <td>0.000000</td>\n",
       "      <td>5.636517e-16</td>\n",
       "    </tr>\n",
       "    <tr>\n",
       "      <th>6</th>\n",
       "      <td>0.081287</td>\n",
       "      <td>0.412068</td>\n",
       "      <td>0.088320</td>\n",
       "      <td>0.484785</td>\n",
       "      <td>VLP_6</td>\n",
       "      <td>0.000000</td>\n",
       "      <td>7.059880e-16</td>\n",
       "    </tr>\n",
       "    <tr>\n",
       "      <th>31</th>\n",
       "      <td>-0.173863</td>\n",
       "      <td>0.080584</td>\n",
       "      <td>0.078114</td>\n",
       "      <td>0.179075</td>\n",
       "      <td>Put_31</td>\n",
       "      <td>0.000000</td>\n",
       "      <td>1.070369e-15</td>\n",
       "    </tr>\n",
       "    <tr>\n",
       "      <th>1</th>\n",
       "      <td>-0.099343</td>\n",
       "      <td>0.320398</td>\n",
       "      <td>0.073984</td>\n",
       "      <td>0.400498</td>\n",
       "      <td>THALAMUS_1</td>\n",
       "      <td>0.000000</td>\n",
       "      <td>NaN</td>\n",
       "    </tr>\n",
       "  </tbody>\n",
       "</table>\n",
       "</div>"
      ],
      "text/plain": [
       "        coef     pvals        se     p_fdr struct_name  coef_sig          dist\n",
       "30 -0.195650  0.046435  0.082648  0.131476      GPi_30  0.000000 -6.832142e-16\n",
       "4   0.145851  0.139927  0.082409  0.279855        VA_4  0.000000 -6.803674e-16\n",
       "32 -0.233097  0.016643  0.061749  0.083216       RN_32  0.000000 -6.661338e-16\n",
       "27  0.452938  0.000003  0.108967  0.000060      Cau_27  0.452938 -5.437246e-16\n",
       "2   0.345177  0.000280  0.100684  0.002800        AV_2  0.345177 -1.736503e-16\n",
       "29 -0.211498  0.029883  0.088682  0.106295      GPe_29  0.000000 -1.540790e-16\n",
       "11 -0.211106  0.031888  0.068745  0.106295       CM_11  0.000000 -6.832142e-17\n",
       "28 -0.137799  0.175759  0.092049  0.299052      Cla_28  0.000000  1.160486e-16\n",
       "13 -0.123038  0.217710  0.087787  0.299052       Hb_13  0.000000  1.708035e-16\n",
       "14 -0.073621  0.456317  0.075467  0.507019      MTT_14  0.000000  2.277381e-16\n",
       "5  -0.001164  0.990806  0.085405  0.990806       VLa_5  0.000000  2.505119e-16\n",
       "8  -0.121857  0.215035  0.086028  0.299052       Pul_8  0.000000  2.818258e-16\n",
       "10 -0.123240  0.214365  0.086585  0.299052      MGN_10  0.000000  2.960595e-16\n",
       "7  -0.192652  0.052590  0.077022  0.131476       VPL_7  0.000000  3.131398e-16\n",
       "9  -0.285408  0.009241  0.094380  0.061603       LGN_9  0.000000  4.440892e-16\n",
       "26 -0.033788  0.737325  0.093385  0.776132      Acc_26  0.000000  5.010237e-16\n",
       "12 -0.121384  0.224289  0.068986  0.299052    MD_Pf_12  0.000000  5.636517e-16\n",
       "6   0.081287  0.412068  0.088320  0.484785       VLP_6  0.000000  7.059880e-16\n",
       "31 -0.173863  0.080584  0.078114  0.179075      Put_31  0.000000  1.070369e-15\n",
       "1  -0.099343  0.320398  0.073984  0.400498  THALAMUS_1  0.000000           NaN"
      ]
     },
     "execution_count": 16,
     "metadata": {},
     "output_type": "execute_result"
    },
    {
     "data": {
      "image/png": "[encoded data removed]",
      "text/plain": [
       "<Figure size 640x480 with 1 Axes>"
      ]
     },
     "metadata": {},
     "output_type": "display_data"
    }
   ],
   "source": [
    "pvals = {}\n",
    "coefs = {}\n",
    "se = {}\n",
    "all_results = {}\n",
    "covariates = \"age + Female\"\n",
    "model_data\n",
    "\n",
    "for i in data_eg.index:\n",
    "    predictor = f\"change_{i}\"\n",
    "    formula = f\"norm_change ~ {predictor} + {covariates}\"\n",
    "    res = sm.OLS.from_formula(formula, data=model_data).fit()\n",
    "    pvals[i] = res.pvalues[predictor]\n",
    "    coefs[i] = res.params[predictor]\n",
    "    se[i] = res.HC0_se[predictor]\n",
    "    all_results[i] = res\n",
    "\n",
    "regression_results = pd.DataFrame({\"coef\": coefs, \"pvals\": pvals, \"se\": se})\n",
    "regression_results['p_fdr'] = stats.false_discovery_control(\n",
    "    regression_results['pvals'], method='bh'\n",
    ")\n",
    "regression_results['struct_name'] = hips_thomas_ref\n",
    "\n",
    "for i, row in regression_results.iterrows():\n",
    "    if row['p_fdr'] < 0.05:\n",
    "        regression_results.loc[i, 'coef_sig'] = row['coef']\n",
    "    else:\n",
    "        regression_results.loc[i, 'coef_sig'] = 0\n",
    "\n",
    "for i in data_eg.index:\n",
    "    regression_results.loc[i, 'dist'] = model_data[f\"choroid_dist_{i}\"].mean()\n",
    "\n",
    "plot_xordered_data(regression_results, \"dist\", \"coef\", \"struct_name\", fit_line=True, fdr=True)\n",
    "regression_results"
   ]
  },
  {
   "cell_type": "code",
   "execution_count": 12,
   "id": "3988c4a1",
   "metadata": {},
   "outputs": [
    {
     "name": "stdout",
     "output_type": "stream",
     "text": [
      "                            OLS Regression Results                            \n",
      "==============================================================================\n",
      "Dep. Variable:            norm_change   R-squared:                       0.345\n",
      "Model:                            OLS   Adj. R-squared:                  0.318\n",
      "Method:                 Least Squares   F-statistic:                     12.79\n",
      "Date:                Tue, 03 Jun 2025   Prob (F-statistic):           8.33e-07\n",
      "Time:                        12:05:25   Log-Likelihood:                -90.135\n",
      "No. Observations:                  77   AIC:                             188.3\n",
      "Df Residuals:                      73   BIC:                             197.6\n",
      "Df Model:                           3                                         \n",
      "Covariance Type:            nonrobust                                         \n",
      "==============================================================================\n",
      "                 coef    std err          t      P>|t|      [0.025      0.975]\n",
      "------------------------------------------------------------------------------\n",
      "Intercept      0.0378      0.092      0.411      0.682      -0.145       0.221\n",
      "change_2       0.3279      0.091      3.598      0.001       0.146       0.510\n",
      "age            0.2714      0.097      2.801      0.007       0.078       0.464\n",
      "Female        -0.2386      0.096     -2.480      0.015      -0.430      -0.047\n",
      "==============================================================================\n",
      "Omnibus:                       14.474   Durbin-Watson:                   2.142\n",
      "Prob(Omnibus):                  0.001   Jarque-Bera (JB):               16.907\n",
      "Skew:                           0.911   Prob(JB):                     0.000213\n",
      "Kurtosis:                       4.397   Cond. No.                         1.53\n",
      "==============================================================================\n",
      "\n",
      "Notes:\n",
      "[1] Standard Errors assume that the covariance matrix of the errors is correctly specified.\n"
     ]
    }
   ],
   "source": [
    "formula = \"norm_change ~ change_2 + age + Female\"\n",
    "res = sm.OLS.from_formula(formula, data=model_data).fit()\n",
    "print(res.summary())"
   ]
  },
  {
   "cell_type": "code",
   "execution_count": 143,
   "id": "46a67845",
   "metadata": {},
   "outputs": [
    {
     "data": {
      "text/plain": [
       "<matplotlib.collections.PathCollection at 0x7ff525240f50>"
      ]
     },
     "execution_count": 143,
     "metadata": {},
     "output_type": "execute_result"
    },
    {
     "data": {
      "image/png": "[encoded data removed]",
      "text/plain": [
       "<Figure size 640x480 with 1 Axes>"
      ]
     },
     "metadata": {},
     "output_type": "display_data"
    }
   ],
   "source": [
    "plt.scatter(model_data['norm_change'], model_data['change_2'])"
   ]
  },
  {
   "cell_type": "code",
   "execution_count": 63,
   "id": "fc811db7",
   "metadata": {},
   "outputs": [
    {
     "data": {
      "text/plain": [
       "<matplotlib.collections.PathCollection at 0x7a83edbe95e0>"
      ]
     },
     "execution_count": 63,
     "metadata": {},
     "output_type": "execute_result"
    },
    {
     "data": {
      "image/png": "[encoded data removed]",
      "text/plain": [
       "<Figure size 640x480 with 1 Axes>"
      ]
     },
     "metadata": {},
     "output_type": "display_data"
    }
   ],
   "source": [
    "plt.scatter(model_data['choroid_volume'], model_data['change_12'])"
   ]
  },
  {
   "cell_type": "code",
   "execution_count": 133,
   "id": "3338b168",
   "metadata": {},
   "outputs": [],
   "source": [
    "t_stats = []\n",
    "data_struct = data_structs['1119']\n",
    "for subid, data_struct in data_structs.items():\n",
    "    data = data_struct['data']\n",
    "    data = data.loc[~data.index.isin([28]), :]\n",
    "    slope, intercept, r_value, p_value, std_err = stats.linregress(data['dist'], data['change'])\n",
    "    t_stats.append(slope/std_err)\n",
    "int_subids = [int(subid) for subid in data_structs.keys()]\n",
    "t_stats = pd.DataFrame({\"t_stat\": t_stats}, index=int_subids)\n",
    "t_stats =t_stats.join([df_clinical])"
   ]
  },
  {
   "cell_type": "code",
   "execution_count": null,
   "id": "995160cc",
   "metadata": {},
   "outputs": [],
   "source": [
    "image_dir = Path(\"/home/srs-9/Projects/ms_mri/choroid_thalamus_project/images\")\n",
    "for subid in all_subjects:\n",
    "    data_struct = data_structs[subid]\n",
    "    data = data_struct['data']\n",
    "    data = data.join([hips_thomas_ref])\n",
    "    data = data.loc[~data.index.isin([28])]\n",
    "    plot_data(data, \"ventricle_dist\", \"change\", \"struct_name\")\n",
    "    plt.savefig(image_dir / f\"ventricle_dist-sub{subid}.jpg\", dpi=300)"
   ]
  },
  {
   "cell_type": "code",
   "execution_count": 55,
   "id": "7223a359",
   "metadata": {},
   "outputs": [
    {
     "data": {
      "application/vnd.microsoft.datawrangler.viewer.v0+json": {
       "columns": [
        {
         "name": "struct",
         "rawType": "int64",
         "type": "integer"
        },
        {
         "name": "choroid_dist",
         "rawType": "float64",
         "type": "float"
        },
        {
         "name": "ventricle_dist",
         "rawType": "float64",
         "type": "float"
        },
        {
         "name": "change",
         "rawType": "float64",
         "type": "float"
        },
        {
         "name": "struct_name",
         "rawType": "object",
         "type": "string"
        }
       ],
       "ref": "4dc32a17-131d-42c2-bc31-113145a4d940",
       "rows": [
        [
         "2",
         "2.9933266639709477",
         "3.4871199131011963",
         "-0.04638224145540234",
         "AV_2"
        ],
        [
         "8",
         "6.645300388336182",
         "7.155417442321777",
         "-0.07393133755375492",
         "Pul_8"
        ],
        [
         "12",
         "7.375635623931885",
         "7.95989990234375",
         "-0.02020744662825042",
         "MD_Pf_12"
        ],
        [
         "4",
         "8.00001049041748",
         "6.499236583709717",
         "0.006371686302360589",
         "VA_4"
        ],
        [
         "6",
         "9.600015640258787",
         "9.191304206848145",
         "-0.017361697577405195",
         "VLP_6"
        ],
        [
         "11",
         "10.762899398803713",
         "12.000000953674316",
         "-0.0774508944803482",
         "CM_11"
        ],
        [
         "7",
         "10.881179809570312",
         "11.454257011413574",
         "0.01326264455509018",
         "VPL_7"
        ],
        [
         "13",
         "11.11396312713623",
         "10.998184204101562",
         "0.028461070184991274",
         "Hb_13"
        ],
        [
         "27",
         "11.648189544677734",
         "5.425879955291748",
         "-0.03124471598115827",
         "Cau_27"
        ],
        [
         "5",
         "12.315848350524902",
         "11.620688438415527",
         "-0.05279277674541182",
         "VLa_5"
        ],
        [
         "14",
         "13.047605514526367",
         "10.244998931884766",
         "-0.011983012973578754",
         "MTT_14"
        ],
        [
         "10",
         "13.338672637939451",
         "13.266504287719728",
         "-0.047822302708106945",
         "MGN_10"
        ],
        [
         "9",
         "15.0306396484375",
         "8.079604148864746",
         "-0.022291762103382146",
         "LGN_9"
        ],
        [
         "29",
         "15.533212661743164",
         "12.899648666381836",
         "-0.03477158578768021",
         "GPe_29"
        ],
        [
         "30",
         "15.615392684936523",
         "13.04763126373291",
         "-0.03197421070211157",
         "GPi_30"
        ],
        [
         "32",
         "19.26655578613281",
         "18.897619247436523",
         "-0.011640572862725344",
         "RN_32"
        ],
        [
         "26",
         "19.43193817138672",
         "6.14492654800415",
         "-0.02973998160448309",
         "Acc_26"
        ],
        [
         "31",
         "20.983848571777344",
         "16.666135787963867",
         "-0.01595388016550169",
         "Put_31"
        ],
        [
         "28",
         "26.88054084777832",
         "17.834800720214844",
         "-0.02485313924246171",
         "Cla_28"
        ]
       ],
       "shape": {
        "columns": 4,
        "rows": 19
       }
      },
      "text/html": [
       "<div>\n",
       "<style scoped>\n",
       "    .dataframe tbody tr th:only-of-type {\n",
       "        vertical-align: middle;\n",
       "    }\n",
       "\n",
       "    .dataframe tbody tr th {\n",
       "        vertical-align: top;\n",
       "    }\n",
       "\n",
       "    .dataframe thead th {\n",
       "        text-align: right;\n",
       "    }\n",
       "</style>\n",
       "<table border=\"1\" class=\"dataframe\">\n",
       "  <thead>\n",
       "    <tr style=\"text-align: right;\">\n",
       "      <th></th>\n",
       "      <th>choroid_dist</th>\n",
       "      <th>ventricle_dist</th>\n",
       "      <th>change</th>\n",
       "      <th>struct_name</th>\n",
       "    </tr>\n",
       "    <tr>\n",
       "      <th>struct</th>\n",
       "      <th></th>\n",
       "      <th></th>\n",
       "      <th></th>\n",
       "      <th></th>\n",
       "    </tr>\n",
       "  </thead>\n",
       "  <tbody>\n",
       "    <tr>\n",
       "      <th>2</th>\n",
       "      <td>2.993327</td>\n",
       "      <td>3.487120</td>\n",
       "      <td>-0.046382</td>\n",
       "      <td>AV_2</td>\n",
       "    </tr>\n",
       "    <tr>\n",
       "      <th>8</th>\n",
       "      <td>6.645300</td>\n",
       "      <td>7.155417</td>\n",
       "      <td>-0.073931</td>\n",
       "      <td>Pul_8</td>\n",
       "    </tr>\n",
       "    <tr>\n",
       "      <th>12</th>\n",
       "      <td>7.375636</td>\n",
       "      <td>7.959900</td>\n",
       "      <td>-0.020207</td>\n",
       "      <td>MD_Pf_12</td>\n",
       "    </tr>\n",
       "    <tr>\n",
       "      <th>4</th>\n",
       "      <td>8.000010</td>\n",
       "      <td>6.499237</td>\n",
       "      <td>0.006372</td>\n",
       "      <td>VA_4</td>\n",
       "    </tr>\n",
       "    <tr>\n",
       "      <th>6</th>\n",
       "      <td>9.600016</td>\n",
       "      <td>9.191304</td>\n",
       "      <td>-0.017362</td>\n",
       "      <td>VLP_6</td>\n",
       "    </tr>\n",
       "    <tr>\n",
       "      <th>11</th>\n",
       "      <td>10.762899</td>\n",
       "      <td>12.000001</td>\n",
       "      <td>-0.077451</td>\n",
       "      <td>CM_11</td>\n",
       "    </tr>\n",
       "    <tr>\n",
       "      <th>7</th>\n",
       "      <td>10.881180</td>\n",
       "      <td>11.454257</td>\n",
       "      <td>0.013263</td>\n",
       "      <td>VPL_7</td>\n",
       "    </tr>\n",
       "    <tr>\n",
       "      <th>13</th>\n",
       "      <td>11.113963</td>\n",
       "      <td>10.998184</td>\n",
       "      <td>0.028461</td>\n",
       "      <td>Hb_13</td>\n",
       "    </tr>\n",
       "    <tr>\n",
       "      <th>27</th>\n",
       "      <td>11.648190</td>\n",
       "      <td>5.425880</td>\n",
       "      <td>-0.031245</td>\n",
       "      <td>Cau_27</td>\n",
       "    </tr>\n",
       "    <tr>\n",
       "      <th>5</th>\n",
       "      <td>12.315848</td>\n",
       "      <td>11.620688</td>\n",
       "      <td>-0.052793</td>\n",
       "      <td>VLa_5</td>\n",
       "    </tr>\n",
       "    <tr>\n",
       "      <th>14</th>\n",
       "      <td>13.047606</td>\n",
       "      <td>10.244999</td>\n",
       "      <td>-0.011983</td>\n",
       "      <td>MTT_14</td>\n",
       "    </tr>\n",
       "    <tr>\n",
       "      <th>10</th>\n",
       "      <td>13.338673</td>\n",
       "      <td>13.266504</td>\n",
       "      <td>-0.047822</td>\n",
       "      <td>MGN_10</td>\n",
       "    </tr>\n",
       "    <tr>\n",
       "      <th>9</th>\n",
       "      <td>15.030640</td>\n",
       "      <td>8.079604</td>\n",
       "      <td>-0.022292</td>\n",
       "      <td>LGN_9</td>\n",
       "    </tr>\n",
       "    <tr>\n",
       "      <th>29</th>\n",
       "      <td>15.533213</td>\n",
       "      <td>12.899649</td>\n",
       "      <td>-0.034772</td>\n",
       "      <td>GPe_29</td>\n",
       "    </tr>\n",
       "    <tr>\n",
       "      <th>30</th>\n",
       "      <td>15.615393</td>\n",
       "      <td>13.047631</td>\n",
       "      <td>-0.031974</td>\n",
       "      <td>GPi_30</td>\n",
       "    </tr>\n",
       "    <tr>\n",
       "      <th>32</th>\n",
       "      <td>19.266556</td>\n",
       "      <td>18.897619</td>\n",
       "      <td>-0.011641</td>\n",
       "      <td>RN_32</td>\n",
       "    </tr>\n",
       "    <tr>\n",
       "      <th>26</th>\n",
       "      <td>19.431938</td>\n",
       "      <td>6.144927</td>\n",
       "      <td>-0.029740</td>\n",
       "      <td>Acc_26</td>\n",
       "    </tr>\n",
       "    <tr>\n",
       "      <th>31</th>\n",
       "      <td>20.983849</td>\n",
       "      <td>16.666136</td>\n",
       "      <td>-0.015954</td>\n",
       "      <td>Put_31</td>\n",
       "    </tr>\n",
       "    <tr>\n",
       "      <th>28</th>\n",
       "      <td>26.880541</td>\n",
       "      <td>17.834801</td>\n",
       "      <td>-0.024853</td>\n",
       "      <td>Cla_28</td>\n",
       "    </tr>\n",
       "  </tbody>\n",
       "</table>\n",
       "</div>"
      ],
      "text/plain": [
       "        choroid_dist  ventricle_dist    change struct_name\n",
       "struct                                                    \n",
       "2           2.993327        3.487120 -0.046382        AV_2\n",
       "8           6.645300        7.155417 -0.073931       Pul_8\n",
       "12          7.375636        7.959900 -0.020207    MD_Pf_12\n",
       "4           8.000010        6.499237  0.006372        VA_4\n",
       "6           9.600016        9.191304 -0.017362       VLP_6\n",
       "11         10.762899       12.000001 -0.077451       CM_11\n",
       "7          10.881180       11.454257  0.013263       VPL_7\n",
       "13         11.113963       10.998184  0.028461       Hb_13\n",
       "27         11.648190        5.425880 -0.031245      Cau_27\n",
       "5          12.315848       11.620688 -0.052793       VLa_5\n",
       "14         13.047606       10.244999 -0.011983      MTT_14\n",
       "10         13.338673       13.266504 -0.047822      MGN_10\n",
       "9          15.030640        8.079604 -0.022292       LGN_9\n",
       "29         15.533213       12.899649 -0.034772      GPe_29\n",
       "30         15.615393       13.047631 -0.031974      GPi_30\n",
       "32         19.266556       18.897619 -0.011641       RN_32\n",
       "26         19.431938        6.144927 -0.029740      Acc_26\n",
       "31         20.983849       16.666136 -0.015954      Put_31\n",
       "28         26.880541       17.834801 -0.024853      Cla_28"
      ]
     },
     "execution_count": 55,
     "metadata": {},
     "output_type": "execute_result"
    }
   ],
   "source": [
    "data"
   ]
  },
  {
   "cell_type": "code",
   "execution_count": 45,
   "id": "ac1f1706",
   "metadata": {},
   "outputs": [
    {
     "data": {
      "application/vnd.microsoft.datawrangler.viewer.v0+json": {
       "columns": [
        {
         "name": "struct",
         "rawType": "int64",
         "type": "integer"
        },
        {
         "name": "choroid_dist",
         "rawType": "float64",
         "type": "float"
        }
       ],
       "ref": "af90c42b-d498-457a-a3e8-7eeb97174f57",
       "rows": [
        [
         "11",
         "10.762899398803713"
        ],
        [
         "8",
         "6.645300388336182"
        ],
        [
         "5",
         "12.315848350524902"
        ],
        [
         "10",
         "13.338672637939451"
        ],
        [
         "2",
         "2.9933266639709477"
        ],
        [
         "29",
         "15.533212661743164"
        ],
        [
         "30",
         "15.615392684936523"
        ],
        [
         "27",
         "11.648189544677734"
        ],
        [
         "26",
         "19.43193817138672"
        ],
        [
         "28",
         "26.88054084777832"
        ],
        [
         "9",
         "15.0306396484375"
        ],
        [
         "12",
         "7.375635623931885"
        ],
        [
         "6",
         "9.600015640258787"
        ],
        [
         "31",
         "20.983848571777344"
        ],
        [
         "14",
         "13.047605514526367"
        ],
        [
         "32",
         "19.26655578613281"
        ],
        [
         "4",
         "8.00001049041748"
        ],
        [
         "7",
         "10.881179809570312"
        ],
        [
         "13",
         "11.11396312713623"
        ]
       ],
       "shape": {
        "columns": 1,
        "rows": 19
       }
      },
      "text/plain": [
       "struct\n",
       "11    10.762899\n",
       "8      6.645300\n",
       "5     12.315848\n",
       "10    13.338673\n",
       "2      2.993327\n",
       "29    15.533213\n",
       "30    15.615393\n",
       "27    11.648190\n",
       "26    19.431938\n",
       "28    26.880541\n",
       "9     15.030640\n",
       "12     7.375636\n",
       "6      9.600016\n",
       "31    20.983849\n",
       "14    13.047606\n",
       "32    19.266556\n",
       "4      8.000010\n",
       "7     10.881180\n",
       "13    11.113963\n",
       "Name: choroid_dist, dtype: float64"
      ]
     },
     "execution_count": 45,
     "metadata": {},
     "output_type": "execute_result"
    }
   ],
   "source": [
    "data['choroid_dist']"
   ]
  },
  {
   "cell_type": "code",
   "execution_count": 136,
   "id": "93a52248",
   "metadata": {},
   "outputs": [
    {
     "data": {
      "text/plain": [
       "<matplotlib.collections.PathCollection at 0x7fad3f2dc920>"
      ]
     },
     "execution_count": 136,
     "metadata": {},
     "output_type": "execute_result"
    },
    {
     "data": {
      "image/png": "[encoded data removed]",
      "text/plain": [
       "<Figure size 640x480 with 1 Axes>"
      ]
     },
     "metadata": {},
     "output_type": "display_data"
    }
   ],
   "source": [
    "plt.scatter(t_stats.dzdur, t_stats.t_stat)"
   ]
  },
  {
   "cell_type": "code",
   "execution_count": 61,
   "id": "15555866",
   "metadata": {},
   "outputs": [
    {
     "name": "stdout",
     "output_type": "stream",
     "text": [
      "1003\n",
      "1023\n",
      "1042\n",
      "1065\n",
      "1071\n",
      "1076\n",
      "1094\n",
      "1107\n",
      "1119\n",
      "1125\n",
      "1131\n",
      "1152\n",
      "1155\n",
      "1161\n",
      "1165\n",
      "1167\n",
      "1198\n",
      "1218\n",
      "1225\n",
      "1235\n",
      "1240\n",
      "1241\n",
      "1248\n",
      "1257\n",
      "1301\n",
      "1318\n",
      "1326\n",
      "1358\n",
      "1360\n",
      "1376\n",
      "1382\n",
      "1417\n",
      "1442\n",
      "1479\n",
      "1508\n",
      "1527\n",
      "2006\n",
      "2025\n",
      "2039\n",
      "2048\n",
      "2075\n",
      "2088\n",
      "2106\n",
      "2112\n",
      "2113\n",
      "2152\n",
      "2178\n",
      "2195\n",
      "2213\n"
     ]
    }
   ],
   "source": [
    "for sub in sorted(all_subjects):\n",
    "    print(sub)"
   ]
  },
  {
   "cell_type": "code",
   "execution_count": 65,
   "id": "7819b64d",
   "metadata": {},
   "outputs": [
    {
     "data": {
      "text/plain": [
       "25"
      ]
     },
     "execution_count": 65,
     "metadata": {},
     "output_type": "execute_result"
    }
   ],
   "source": [
    "all_subids = [int(sub) for sub in all_subjects]\n",
    "check = df_clinical.loc[all_subids, :]\n",
    "sum(check['dz_type5'] == \"PMS\")"
   ]
  },
  {
   "cell_type": "code",
   "execution_count": 67,
   "id": "9af1bb8b",
   "metadata": {},
   "outputs": [],
   "source": [
    "drive_root = fm.get_drive_root()\n",
    "dataroot = drive_root / \"3Tpioneer_bids\"\n",
    "with open(dataroot / \"subject-sessions-longit.json\", 'r') as f:\n",
    "    subject_sessions = json.load(f)\n",
    "\n",
    "date_format = \"%Y%m%d\"\n",
    "deltas = []\n",
    "for k, v in subject_sessions.items():\n",
    "    sessions = sorted(v)\n",
    "    time1 = datetime.strptime(str(sessions[0]), date_format)\n",
    "    time2 = datetime.strptime(str(sessions[-1]), date_format)\n",
    "    delta = (time2 - time1).days\n",
    "    deltas.append((time2 - time1).days)\n",
    "    df_clinical.loc[int(k), 'delta'] = delta / 365\n",
    "\n",
    "deltas.sort(reverse=True)\n",
    "deltas = np.array(deltas)"
   ]
  },
  {
   "cell_type": "code",
   "execution_count": 85,
   "id": "9457fc1c",
   "metadata": {},
   "outputs": [],
   "source": [
    "check = df_clinical.loc[df_clinical['delta'] > 5, :]\n",
    "rms_check = check[check['dz_type5'] == \"RMS\"].index\n",
    "check_inds =rms_check[~rms_check.isin(all_subids)]\n",
    "check2 = df_clinical.loc[check_inds, ['dzdur']]\n",
    "rms_subjects_delta5 = check2.index.tolist()"
   ]
  },
  {
   "cell_type": "code",
   "execution_count": null,
   "id": "52d101af",
   "metadata": {},
   "outputs": [
    {
     "data": {
      "text/plain": [
       "[1182, 1196, 1341, 1441, 1546, 2119]"
      ]
     },
     "execution_count": 89,
     "metadata": {},
     "output_type": "execute_result"
    }
   ],
   "source": [
    "check = df_clinical.loc[df_clinical['delta'] > 3, :]\n",
    "pms_check = check[check['dz_type5'] == \"PMS\"].index\n",
    "pms_subejcts_delta3 = pms_check[~pms_check.isin(all_subids)].tolist()"
   ]
  },
  {
   "cell_type": "code",
   "execution_count": 96,
   "id": "b57aeee6",
   "metadata": {},
   "outputs": [
    {
     "name": "stdout",
     "output_type": "stream",
     "text": [
      "1098\n",
      "2003\n",
      "1211\n",
      "1536\n",
      "2043\n",
      "2033\n",
      "1364\n",
      "1401\n",
      "1529\n",
      "2118\n"
     ]
    }
   ],
   "source": [
    "check = df_clinical.loc[(df_clinical['delta'] > 4), :]\n",
    "check = check.loc[check['dz_type5'] == \"RMS\", :]\n",
    "check = check.loc[~check.index.isin(rms_subjects_delta5+all_subids)]\n",
    "check.sort_values(by=\"dzdur\", inplace=True)\n",
    "rms_delta4_lowdzdur = list(check.index)[:10]\n",
    "for subid in rms_delta4_lowdzdur:\n",
    "    print(subid)"
   ]
  },
  {
   "cell_type": "code",
   "execution_count": 99,
   "id": "b478526c",
   "metadata": {},
   "outputs": [
    {
     "name": "stdout",
     "output_type": "stream",
     "text": [
      "1027\n",
      "1029\n",
      "1064\n",
      "1101\n",
      "1105\n",
      "1285\n",
      "1344\n",
      "1383\n",
      "1423\n",
      "1463\n",
      "1476\n",
      "2005\n"
     ]
    }
   ],
   "source": [
    "check = df_clinical.loc[df_clinical['delta'] > 2.5, :]\n",
    "check = check.loc[check['dz_type5'] == \"NIND\"]\n",
    "for subid in check.index:\n",
    "    print(subid)"
   ]
  },
  {
   "cell_type": "code",
   "execution_count": 101,
   "id": "7cb041ae",
   "metadata": {},
   "outputs": [
    {
     "name": "stdout",
     "output_type": "stream",
     "text": [
      "1163\n",
      "1200\n",
      "1264\n",
      "1384\n",
      "1494\n",
      "2015\n",
      "2078\n",
      "2084\n",
      "2109\n"
     ]
    }
   ],
   "source": [
    "check = df_clinical.loc[df_clinical['delta'] > 2, :]\n",
    "check = check.loc[check['dz_type5'] == \"OIND\"]\n",
    "for subid in check.index:\n",
    "    print(subid)"
   ]
  },
  {
   "cell_type": "code",
   "execution_count": 1,
   "id": "1a518aea",
   "metadata": {},
   "outputs": [
    {
     "ename": "NameError",
     "evalue": "name 'all_subids' is not defined",
     "output_type": "error",
     "traceback": [
      "\u001b[0;31m---------------------------------------------------------------------------\u001b[0m",
      "\u001b[0;31mNameError\u001b[0m                                 Traceback (most recent call last)",
      "Cell \u001b[0;32mIn[1], line 1\u001b[0m\n\u001b[0;32m----> 1\u001b[0m \u001b[43mall_subids\u001b[49m\n",
      "\u001b[0;31mNameError\u001b[0m: name 'all_subids' is not defined"
     ]
    }
   ],
   "source": [
    "all_subids"
   ]
  }
 ],
 "metadata": {
  "kernelspec": {
   "display_name": "monai",
   "language": "python",
   "name": "python3"
  },
  "language_info": {
   "codemirror_mode": {
    "name": "ipython",
    "version": 3
   },
   "file_extension": ".py",
   "mimetype": "text/x-python",
   "name": "python",
   "nbconvert_exporter": "python",
   "pygments_lexer": "ipython3",
   "version": "3.12.7"
  }
 },
 "nbformat": 4,
 "nbformat_minor": 5
}
