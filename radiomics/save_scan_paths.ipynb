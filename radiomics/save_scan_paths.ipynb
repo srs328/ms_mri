{
 "cells": [
  {
   "cell_type": "code",
   "execution_count": 5,
   "metadata": {},
   "outputs": [],
   "source": [
    "import os\n",
    "\n",
    "import SimpleITK as sitk\n",
    "import six\n",
    "from pathlib import Path\n",
    "import pandas as pd\n",
    "import json\n",
    "import numpy as np\n",
    "from loguru import logger\n",
    "from mri_data import file_manager as fm\n",
    "from monai_training.preprocess import DataSetProcesser"
   ]
  },
  {
   "cell_type": "code",
   "execution_count": 6,
   "metadata": {},
   "outputs": [],
   "source": [
    "logger.remove()"
   ]
  },
  {
   "cell_type": "code",
   "execution_count": 3,
   "metadata": {},
   "outputs": [],
   "source": [
    "drive_root = fm.get_drive_root()\n",
    "inference_root = drive_root / \"srs-9\" / \"3Tpioneer_bids_predictions\"\n",
    "dataroot = drive_root / \"3Tpioneer_bids\"\n",
    "\n",
    "inf_label = \"t1_choroid_pineal_pituitary_T1-1_pred\""
   ]
  },
  {
   "cell_type": "code",
   "execution_count": 7,
   "metadata": {},
   "outputs": [
    {
     "name": "stderr",
     "output_type": "stream",
     "text": [
      "100%|██████████| 575/575 [00:14<00:00, 40.54it/s] \n"
     ]
    }
   ],
   "source": [
    "dataset_proc = DataSetProcesser.new_dataset(\n",
    "    dataroot, fm.scan_3Tpioneer_bids, filters=[fm.filter_first_ses]\n",
    ")\n",
    "full_dataset = dataset_proc.dataset\n",
    "dataset_proc.prepare_labels(\n",
    "    [\"choroid_t1_flair\", \"pineal\", \"pituitary\"], [\"CH\", \"SRS\", \"ED\", \"DT\"]\n",
    ")\n",
    "dataset = dataset_proc.dataset"
   ]
  },
  {
   "cell_type": "code",
   "execution_count": 8,
   "metadata": {},
   "outputs": [
    {
     "name": "stderr",
     "output_type": "stream",
     "text": [
      "100%|██████████| 561/561 [00:02<00:00, 212.28it/s]\n"
     ]
    }
   ],
   "source": [
    "inference_dataset_proc = DataSetProcesser.new_dataset(\n",
    "    inference_root, fm.scan_3Tpioneer_bids, filters=[fm.filter_first_ses]\n",
    ")\n",
    "inference_dataset_proc.prepare_labels(inf_label)\n",
    "inference_dataset = inference_dataset_proc.dataset"
   ]
  },
  {
   "cell_type": "code",
   "execution_count": null,
   "metadata": {},
   "outputs": [],
   "source": []
  }
 ],
 "metadata": {
  "kernelspec": {
   "display_name": "monai",
   "language": "python",
   "name": "python3"
  },
  "language_info": {
   "codemirror_mode": {
    "name": "ipython",
    "version": 3
   },
   "file_extension": ".py",
   "mimetype": "text/x-python",
   "name": "python",
   "nbconvert_exporter": "python",
   "pygments_lexer": "ipython3",
   "version": "3.12.4"
  }
 },
 "nbformat": 4,
 "nbformat_minor": 2
}
