{
 "cells": [
  {
   "cell_type": "code",
   "execution_count": 21,
   "metadata": {},
   "outputs": [],
   "source": [
    "import importlib\n",
    "import os\n",
    "import re\n",
    "import sys\n",
    "from collections import defaultdict, namedtuple\n",
    "from dataclasses import dataclass, fields, asdict\n",
    "from pathlib import Path\n",
    "from mri_preproc.paths import hemond_data, init_paths\n",
    "from mri_preproc import prepare_scans\n",
    "import subprocess"
   ]
  },
  {
   "cell_type": "markdown",
   "metadata": {},
   "source": [
    "Initialize paths (depends on what machine I'm running from)"
   ]
  },
  {
   "cell_type": "code",
   "execution_count": 22,
   "metadata": {},
   "outputs": [],
   "source": [
    "init_paths.main()\n",
    "from mri_preproc.paths.init_paths import DATA_HOME"
   ]
  },
  {
   "cell_type": "markdown",
   "metadata": {},
   "source": [
    "Reload modules if I make any changes\n",
    "- Double check that if I edit record.py, that reloading hd would reload those changes too, or if I need to use reload recursive"
   ]
  },
  {
   "cell_type": "code",
   "execution_count": 23,
   "metadata": {},
   "outputs": [
    {
     "data": {
      "text/plain": [
       "<module 'mri_preproc.prepare_scans' from '/home/srs-9/Projects/ms_mri/mri_preproc/prepare_scans.py'>"
      ]
     },
     "execution_count": 23,
     "metadata": {},
     "output_type": "execute_result"
    }
   ],
   "source": [
    "importlib.reload(hemond_data)\n",
    "importlib.reload(prepare_scans)"
   ]
  },
  {
   "cell_type": "code",
   "execution_count": 24,
   "metadata": {},
   "outputs": [],
   "source": [
    "dataset = hemond_data.collect_choroid_dataset(DATA_HOME, suppress_output=True)\n",
    "dataset[0]"
   ]
  },
  {
   "cell_type": "code",
   "execution_count": 26,
   "metadata": {},
   "outputs": [
    {
     "data": {
      "text/plain": [
       "CompletedProcess(args=['/home/srs-9/Projects/ms_mri/mri_preproc/process_scan.sh', '/mnt/t/Data/3Tpioneer_bids/sub-ms1001/ses-20170215', 'flair'], returncode=0)"
      ]
     },
     "execution_count": 26,
     "metadata": {},
     "output_type": "execute_result"
    }
   ],
   "source": [
    "processing_script = \"/home/srs-9/Projects/ms_mri/mri_preproc/process_scan.sh\"\n",
    "scan_dir = dataset[0].root\n",
    "modality = \"flair\"\n",
    "command_parts = [processing_script, str(scan_dir), modality]"
   ]
  },
  {
   "cell_type": "code",
   "execution_count": 19,
   "metadata": {},
   "outputs": [
    {
     "data": {
      "text/plain": [
       "'/home/srs-9/Projects/ms_mri/mri_preproc/process_scan.sh /mnt/t/Data/3Tpioneer_bids/sub-1001/ses-20170215 flair'"
      ]
     },
     "execution_count": 19,
     "metadata": {},
     "output_type": "execute_result"
    }
   ],
   "source": [
    "try:\n",
    "    result = subprocess.run(command_parts, capture_output=True, text=True, check=True)\n",
    "except subprocess.CalledProcessError:\n",
    "    pass"
   ]
  },
  {
   "cell_type": "markdown",
   "metadata": {},
   "source": [
    "## Examine 3Tpioneer_bids Data"
   ]
  },
  {
   "cell_type": "code",
   "execution_count": 9,
   "metadata": {},
   "outputs": [
    {
     "name": "stderr",
     "output_type": "stream",
     "text": [
      "/home/srs-9/Projects/ms_mri/mri_preproc/paths/hemond_data.py:112: UserWarning: No scan exists for subject: ms1492 and session: 20190620\n",
      "  warnings.warn(\n"
     ]
    }
   ],
   "source": [
    "dataroot = \"/mnt/t/Data/3Tpioneer_bids\"\n",
    "dataset2 = hemond_data.scan_data_dir(dataroot)"
   ]
  },
  {
   "cell_type": "code",
   "execution_count": 10,
   "metadata": {},
   "outputs": [
    {
     "data": {
      "text/plain": [
       "Scan(subid='ms1001', date='20170215', dataroot=PosixPath('/mnt/t/Data/MONAI/flair'), image=PosixPath('/mnt/t/Data/MONAI/flair/sub-ms1001_ses-20170215.nii.gz'), label=PosixPath('/mnt/t/Data/MONAI/flair/labels/sub-ms1001_ses-20170215.nii.gz'), cond=None)"
      ]
     },
     "execution_count": 10,
     "metadata": {},
     "output_type": "execute_result"
    }
   ],
   "source": [
    "dataset2[0]"
   ]
  },
  {
   "cell_type": "code",
   "execution_count": 9,
   "metadata": {},
   "outputs": [
    {
     "name": "stdout",
     "output_type": "stream",
     "text": [
      "/mnt/t/Data/3Tpioneer_bids/sub-1001/ses-20170215/proc\n"
     ]
    }
   ],
   "source": [
    "subject = dataset[0]\n",
    "proc_folder = subject.root / \"proc\"\n",
    "if not proc_folder.is_dir(): \n",
    "    os.makedirs(proc_folder)"
   ]
  },
  {
   "cell_type": "code",
   "execution_count": 9,
   "metadata": {},
   "outputs": [
    {
     "name": "stdout",
     "output_type": "stream",
     "text": [
      "(240, 300, 300)\n",
      "(239, 300, 300)\n",
      "(210, 300, 300)\n",
      "(240, 300, 300)\n",
      "(210, 300, 300)\n",
      "(240, 300, 300)\n",
      "(240, 300, 300)\n",
      "(210, 300, 300)\n",
      "(240, 300, 300)\n",
      "(240, 300, 300)\n"
     ]
    }
   ],
   "source": [
    "for i in range(10):\n",
    "    nii_image = prepare_scans.load_scan(dataset[i].image)\n",
    "    print(nii_image.shape)"
   ]
  },
  {
   "cell_type": "code",
   "execution_count": 9,
   "metadata": {},
   "outputs": [
    {
     "name": "stdout",
     "output_type": "stream",
     "text": [
      "(240, 300, 300)\n",
      "(239, 300, 300)\n",
      "(210, 300, 300)\n",
      "(240, 300, 300)\n",
      "(210, 300, 300)\n",
      "(240, 300, 300)\n",
      "(240, 300, 300)\n",
      "(210, 300, 300)\n",
      "(240, 300, 300)\n",
      "(240, 300, 300)\n"
     ]
    }
   ],
   "source": [
    "for i in range(10):\n",
    "    nii_image = prepare_scans.load_scan(dataset[i].image)\n",
    "    print(nii_image.shape)"
   ]
  },
  {
   "cell_type": "code",
   "execution_count": null,
   "metadata": {},
   "outputs": [],
   "source": []
  },
  {
   "cell_type": "code",
   "execution_count": 6,
   "metadata": {},
   "outputs": [],
   "source": [
    "training_data = []\n",
    "test_data = []\n",
    "\n",
    "for scan in dataset:\n",
    "    if scan.cond == 'tr':\n",
    "        training_data.append({\"image\": scan.image, \"label\": scan.label})\n",
    "    elif scan.cond == 'ts':\n",
    "        test_data.append(scan.image)"
   ]
  },
  {
   "cell_type": "code",
   "execution_count": null,
   "metadata": {},
   "outputs": [],
   "source": []
  }
 ],
 "metadata": {
  "kernelspec": {
   "display_name": "monai",
   "language": "python",
   "name": "python3"
  },
  "language_info": {
   "codemirror_mode": {
    "name": "ipython",
    "version": 3
   },
   "file_extension": ".py",
   "mimetype": "text/x-python",
   "name": "python",
   "nbconvert_exporter": "python",
   "pygments_lexer": "ipython3",
   "version": "3.12.4"
  }
 },
 "nbformat": 4,
 "nbformat_minor": 2
}
