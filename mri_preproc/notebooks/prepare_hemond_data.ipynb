{
 "cells": [
  {
   "cell_type": "code",
   "execution_count": 1,
   "metadata": {},
   "outputs": [],
   "source": [
    "import importlib\n",
    "import os\n",
    "import re\n",
    "import sys\n",
    "from collections import defaultdict, namedtuple\n",
    "from dataclasses import dataclass, fields, asdict\n",
    "from pathlib import Path\n",
    "from mri_preproc.paths import hemond_data, init_paths\n",
    "from mri_preproc import prepare_scans"
   ]
  },
  {
   "cell_type": "markdown",
   "metadata": {},
   "source": [
    "Initialize paths (depends on what machine I'm running from)"
   ]
  },
  {
   "cell_type": "code",
   "execution_count": 2,
   "metadata": {},
   "outputs": [],
   "source": [
    "init_paths.main()\n",
    "from mri_preproc.paths.init_paths import DATA_HOME"
   ]
  },
  {
   "cell_type": "markdown",
   "metadata": {},
   "source": [
    "Reload modules if I make any changes\n",
    "- Double check that if I edit record.py, that reloading hd would reload those changes too, or if I need to use reload recursive"
   ]
  },
  {
   "cell_type": "code",
   "execution_count": 3,
   "metadata": {},
   "outputs": [
    {
     "data": {
      "text/plain": [
       "<module 'mri_preproc.prepare_scans' from '/home/srs-9/Projects/ms_mri/mri_preproc/prepare_scans.py'>"
      ]
     },
     "execution_count": 3,
     "metadata": {},
     "output_type": "execute_result"
    }
   ],
   "source": [
    "importlib.reload(hemond_data)\n",
    "importlib.reload(prepare_scans)"
   ]
  },
  {
   "cell_type": "code",
   "execution_count": null,
   "metadata": {},
   "outputs": [],
   "source": [
    "dataset = hemond_data.collect_choroid_dataset(DATA_HOME, suppress_output=True)"
   ]
  },
  {
   "cell_type": "code",
   "execution_count": 7,
   "metadata": {},
   "outputs": [
    {
     "data": {
      "text/plain": [
       "defaultdict(str,\n",
       "            {'flair': PosixPath('/mnt/t/Data/3Tpioneer_bids/sub-ms1001/ses-20170215/flair.nii.gz'),\n",
       "             'phase': PosixPath('/mnt/t/Data/3Tpioneer_bids/sub-ms1001/ses-20170215/phase.nii.gz'),\n",
       "             't1': PosixPath('/mnt/t/Data/3Tpioneer_bids/sub-ms1001/ses-20170215/t1.nii.gz'),\n",
       "             't1_gd': PosixPath('/mnt/t/Data/3Tpioneer_bids/sub-ms1001/ses-20170215/t1_gd.nii.gz')})"
      ]
     },
     "execution_count": 7,
     "metadata": {},
     "output_type": "execute_result"
    }
   ],
   "source": [
    "dataset[0].images"
   ]
  },
  {
   "cell_type": "markdown",
   "metadata": {},
   "source": [
    "Convert the below into a function for processing a subject"
   ]
  },
  {
   "cell_type": "code",
   "execution_count": 9,
   "metadata": {},
   "outputs": [
    {
     "name": "stdout",
     "output_type": "stream",
     "text": [
      "/mnt/t/Data/3Tpioneer_bids/sub-1001/ses-20170215/proc\n"
     ]
    }
   ],
   "source": [
    "subject = dataset[0]\n",
    "proc_folder = subject.scan_folder() / \"proc\"\n",
    "if not proc_folder.is_dir():\n",
    "    os.makedirs(proc_folder)"
   ]
  },
  {
   "cell_type": "code",
   "execution_count": 9,
   "metadata": {},
   "outputs": [
    {
     "name": "stdout",
     "output_type": "stream",
     "text": [
      "(240, 300, 300)\n",
      "(239, 300, 300)\n",
      "(210, 300, 300)\n",
      "(240, 300, 300)\n",
      "(210, 300, 300)\n",
      "(240, 300, 300)\n",
      "(240, 300, 300)\n",
      "(210, 300, 300)\n",
      "(240, 300, 300)\n",
      "(240, 300, 300)\n"
     ]
    }
   ],
   "source": [
    "for i in range(10):\n",
    "    nii_image = prepare_scans.load_scan(dataset[i].image)\n",
    "    print(nii_image.shape)"
   ]
  },
  {
   "cell_type": "code",
   "execution_count": 9,
   "metadata": {},
   "outputs": [
    {
     "name": "stdout",
     "output_type": "stream",
     "text": [
      "(240, 300, 300)\n",
      "(239, 300, 300)\n",
      "(210, 300, 300)\n",
      "(240, 300, 300)\n",
      "(210, 300, 300)\n",
      "(240, 300, 300)\n",
      "(240, 300, 300)\n",
      "(210, 300, 300)\n",
      "(240, 300, 300)\n",
      "(240, 300, 300)\n"
     ]
    }
   ],
   "source": [
    "for i in range(10):\n",
    "    nii_image = prepare_scans.load_scan(dataset[i].image)\n",
    "    print(nii_image.shape)"
   ]
  },
  {
   "cell_type": "code",
   "execution_count": null,
   "metadata": {},
   "outputs": [],
   "source": []
  },
  {
   "cell_type": "code",
   "execution_count": 6,
   "metadata": {},
   "outputs": [],
   "source": [
    "training_data = []\n",
    "test_data = []\n",
    "\n",
    "for scan in dataset:\n",
    "    if scan.cond == 'tr':\n",
    "        training_data.append({\"image\": scan.image, \"label\": scan.label})\n",
    "    elif scan.cond == 'ts':\n",
    "        test_data.append(scan.image)"
   ]
  },
  {
   "cell_type": "code",
   "execution_count": null,
   "metadata": {},
   "outputs": [],
   "source": []
  }
 ],
 "metadata": {
  "kernelspec": {
   "display_name": "monai",
   "language": "python",
   "name": "python3"
  },
  "language_info": {
   "codemirror_mode": {
    "name": "ipython",
    "version": 3
   },
   "file_extension": ".py",
   "mimetype": "text/x-python",
   "name": "python",
   "nbconvert_exporter": "python",
   "pygments_lexer": "ipython3",
   "version": "3.12.4"
  }
 },
 "nbformat": 4,
 "nbformat_minor": 2
}
