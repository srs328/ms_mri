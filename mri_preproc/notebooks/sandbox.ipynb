{
 "cells": [
  {
   "cell_type": "code",
   "execution_count": 1,
   "metadata": {},
   "outputs": [],
   "source": [
    "import importlib\n",
    "import os\n",
    "import re\n",
    "import sys\n",
    "from collections import defaultdict, namedtuple\n",
    "from dataclasses import dataclass, fields, asdict\n",
    "from pathlib import Path\n",
    "\n",
    "import nibabel as nib\n",
    "import numpy as np\n",
    "import platform"
   ]
  },
  {
   "cell_type": "code",
   "execution_count": 3,
   "metadata": {},
   "outputs": [],
   "source": [
    "from mri_preproc.paths import data_file_manager as datafm\n",
    "from mri_preproc.paths import hemond_data as hd\n",
    "from mri_preproc.paths.record import Record"
   ]
  },
  {
   "cell_type": "code",
   "execution_count": 220,
   "metadata": {},
   "outputs": [
    {
     "data": {
      "text/plain": [
       "record.DataSet"
      ]
     },
     "execution_count": 220,
     "metadata": {},
     "output_type": "execute_result"
    }
   ],
   "source": [
    "importlib.reload(datafm)\n",
    "importlib.reload(hd)\n",
    "importlib.reload(sys.modules['record']).DataSet"
   ]
  },
  {
   "cell_type": "markdown",
   "metadata": {},
   "source": [
    "### Choroid Plexus Dataset"
   ]
  },
  {
   "cell_type": "code",
   "execution_count": 4,
   "metadata": {},
   "outputs": [],
   "source": [
    "from pathlib import Path\n",
    "data_dir = Path(\"/mnt/e/Data/Hemond/flair\")\n",
    "check = list(data_dir.glob(\"sub*\"))"
   ]
  },
  {
   "cell_type": "markdown",
   "metadata": {},
   "source": [
    "## Hemond Data"
   ]
  },
  {
   "cell_type": "code",
   "execution_count": 221,
   "metadata": {},
   "outputs": [
    {
     "name": "stderr",
     "output_type": "stream",
     "text": [
      "/home/srs-9/Dev/ms_mri/monai/preproc/hemond_data.py:64: UserWarning: No scan exists for subject: 1492 and session: 20190620\n",
      "  return self._scans\n"
     ]
    }
   ],
   "source": [
    "data_dir = Path(\"/mnt/e/Data/Hemond/flair\")\n",
    "dataset = hd.scan_data_dir(data_dir)"
   ]
  },
  {
   "cell_type": "markdown",
   "metadata": {},
   "source": [
    "### Assign data to train and test"
   ]
  },
  {
   "cell_type": "code",
   "execution_count": 237,
   "metadata": {},
   "outputs": [],
   "source": [
    "import random\n",
    "\n",
    "scans_no_label = []\n",
    "for i, scan in enumerate(dataset):\n",
    "    if not scan.has_label():\n",
    "        scans_no_label.append(i)\n",
    "\n",
    "fraction_ts = 0.1\n",
    "n_scans = len(dataset)\n",
    "n_ts = int(fraction_ts * n_scans)\n",
    "inds = [i for i in range(n_scans)]\n",
    "random.shuffle(inds)\n",
    "\n",
    "for i in scans_no_label:\n",
    "    inds.remove(i)\n",
    "    inds.insert(0, i)\n",
    "\n",
    "for i in inds[:n_ts]:\n",
    "    dataset[i].cond = 'ts'\n",
    "for i in inds[n_ts:]:\n",
    "    dataset[i].cond = 'tr'"
   ]
  },
  {
   "cell_type": "code",
   "execution_count": 236,
   "metadata": {},
   "outputs": [
    {
     "data": {
      "text/plain": [
       "356"
      ]
     },
     "execution_count": 236,
     "metadata": {},
     "output_type": "execute_result"
    }
   ],
   "source": [
    "len(dataset)"
   ]
  },
  {
   "cell_type": "markdown",
   "metadata": {},
   "source": [
    "### Inspect Data"
   ]
  },
  {
   "cell_type": "code",
   "execution_count": 196,
   "metadata": {},
   "outputs": [],
   "source": [
    "def load_scan(scan_path: Path) -> np.ndarray:\n",
    "    img = nib.load(scan_path)\n",
    "    return np.array(img.dataobj)"
   ]
  },
  {
   "cell_type": "code",
   "execution_count": 203,
   "metadata": {},
   "outputs": [
    {
     "data": {
      "text/plain": [
       "(198, 300, 300)"
      ]
     },
     "execution_count": 203,
     "metadata": {},
     "output_type": "execute_result"
    }
   ],
   "source": [
    "image = load_scan(dataset[10].image)\n",
    "image.shape"
   ]
  },
  {
   "cell_type": "markdown",
   "metadata": {},
   "source": [
    "## Brats Data\n",
    "\n",
    "Data for 3D autoseg\n",
    "\n",
    "### Inspect Data"
   ]
  },
  {
   "cell_type": "code",
   "execution_count": 1,
   "metadata": {},
   "outputs": [
    {
     "ename": "NameError",
     "evalue": "name 'Path' is not defined",
     "output_type": "error",
     "traceback": [
      "\u001b[0;31m---------------------------------------------------------------------------\u001b[0m",
      "\u001b[0;31mNameError\u001b[0m                                 Traceback (most recent call last)",
      "Cell \u001b[0;32mIn[1], line 1\u001b[0m\n\u001b[0;32m----> 1\u001b[0m \u001b[38;5;28;01mdef\u001b[39;00m \u001b[38;5;21mload_scan\u001b[39m(scan_path: \u001b[43mPath\u001b[49m) \u001b[38;5;241m-\u001b[39m\u001b[38;5;241m>\u001b[39m np\u001b[38;5;241m.\u001b[39mndarray:\n\u001b[1;32m      2\u001b[0m     img \u001b[38;5;241m=\u001b[39m nib\u001b[38;5;241m.\u001b[39mload(scan_path)\n\u001b[1;32m      3\u001b[0m     \u001b[38;5;28;01mreturn\u001b[39;00m np\u001b[38;5;241m.\u001b[39marray(img\u001b[38;5;241m.\u001b[39mdataobj)\n",
      "\u001b[0;31mNameError\u001b[0m: name 'Path' is not defined"
     ]
    }
   ],
   "source": [
    "def load_scan(scan_path: Path) -> np.ndarray:\n",
    "    img = nib.load(scan_path)\n",
    "    return np.array(img.dataobj)"
   ]
  },
  {
   "cell_type": "code",
   "execution_count": null,
   "metadata": {},
   "outputs": [],
   "source": [
    "data_dir = \"/mnt/t/Data/Task01_BrainTumor\""
   ]
  },
  {
   "cell_type": "markdown",
   "metadata": {},
   "source": [
    "## Lesjak Data"
   ]
  },
  {
   "cell_type": "code",
   "execution_count": null,
   "metadata": {},
   "outputs": [],
   "source": [
    "basepath = Path(\"/mnt/f/Data/ms_mri/lesjak_2017\")\n",
    "data_dir = basepath / \"data\"\n",
    "\n",
    "lesjak_datafm = datafm.LesjakData(data_dir)\n",
    "subjects = lesjak_datafm.subjects\n",
    "modalities = [\"FLAIR\", \"T1W\", \"T1WKS\", \"T2W\"]\n",
    "lesjak_datafm.get_scan(subjects[0], modalities[1])"
   ]
  },
  {
   "cell_type": "code",
   "execution_count": null,
   "metadata": {},
   "outputs": [],
   "source": [
    "def load_scan(scan_path: Path) -> np.ndarray:\n",
    "    img = nib.load(scan_path)\n",
    "    return np.array(img.dataobj)"
   ]
  },
  {
   "cell_type": "code",
   "execution_count": null,
   "metadata": {},
   "outputs": [],
   "source": [
    "subject = subjects[1]\n",
    "imgs = [nib.load(lesjak_datafm.get_scan(subject, mod)) for mod in modalities]"
   ]
  },
  {
   "cell_type": "code",
   "execution_count": null,
   "metadata": {},
   "outputs": [],
   "source": [
    "imgs[3].affine"
   ]
  },
  {
   "cell_type": "code",
   "execution_count": null,
   "metadata": {},
   "outputs": [],
   "source": [
    "scan_paths = [lesjak_datafm.get_scan(subject, mod) for mod in modalities]\n",
    "scans = [load_scan(path) for path in scan_paths]"
   ]
  },
  {
   "cell_type": "code",
   "execution_count": null,
   "metadata": {},
   "outputs": [],
   "source": [
    "labels = datafm.assign_train_test(subjects, 0.2)"
   ]
  },
  {
   "cell_type": "code",
   "execution_count": null,
   "metadata": {},
   "outputs": [],
   "source": [
    "basepath = Path(\"/mnt/f/Data/ms_mri/Brats_3d_seg/Task01_BrainTumour\")\n",
    "imagesTr = basepath / \"imagesTr\"\n",
    "image_files = os.scandir(imagesTr)\n",
    "image_paths = [file.path for file in image_files if \"._\" not in file.name]"
   ]
  },
  {
   "cell_type": "code",
   "execution_count": null,
   "metadata": {},
   "outputs": [],
   "source": [
    "img = nib.load(image_paths[0])\n",
    "\n",
    "a = np.array(img.dataobj)"
   ]
  },
  {
   "cell_type": "code",
   "execution_count": null,
   "metadata": {},
   "outputs": [],
   "source": []
  },
  {
   "cell_type": "code",
   "execution_count": null,
   "metadata": {},
   "outputs": [],
   "source": [
    "test = tuple()\n",
    "if not test:\n",
    "    print(\"uninitialzed\")"
   ]
  },
  {
   "cell_type": "code",
   "execution_count": null,
   "metadata": {},
   "outputs": [],
   "source": [
    "import random\n",
    "fraction_ts = 0.2\n",
    "\n",
    "n_subj = len(subjects)\n",
    "n_ts = int(n_subj * fraction_ts)\n",
    "\n",
    "random.shuffle(subjects)\n",
    "subj_ts = [(subj, \"ts\") for subj in subjects[:n_ts]]\n",
    "subj_tr = [(subj, \"tr\") for subj in subjects[n_ts:]]\n",
    "\n",
    "subj_ts + subj_tr"
   ]
  },
  {
   "cell_type": "code",
   "execution_count": null,
   "metadata": {},
   "outputs": [],
   "source": []
  }
 ],
 "metadata": {
  "kernelspec": {
   "display_name": "monai",
   "language": "python",
   "name": "python3"
  },
  "language_info": {
   "codemirror_mode": {
    "name": "ipython",
    "version": 3
   },
   "file_extension": ".py",
   "mimetype": "text/x-python",
   "name": "python",
   "nbconvert_exporter": "python",
   "pygments_lexer": "ipython3",
   "version": "3.12.4"
  }
 },
 "nbformat": 4,
 "nbformat_minor": 2
}
