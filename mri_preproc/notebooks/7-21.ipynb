{
 "cells": [
  {
   "cell_type": "markdown",
   "metadata": {},
   "source": [
    "# 7-21 \n",
    "\n",
    "After running `preprocess_hemond_data.py`. This script preprocesses all the flair scans in `3Tpioneer_bids` and produces affine matrices. There is another data directory called `Monai`, which contains a subset of the scans from `3Tpioneer_bids` as well as labels of _______. First need to transform this data using the matrices produced in the first step. "
   ]
  },
  {
   "cell_type": "code",
   "execution_count": 1,
   "metadata": {},
   "outputs": [],
   "source": [
    "import importlib\n",
    "import os\n",
    "import re\n",
    "import sys\n",
    "from collections import defaultdict, namedtuple\n",
    "from dataclasses import dataclass, fields, asdict\n",
    "from pathlib import Path\n",
    "from mri_preproc.paths import hemond_data, init_paths\n",
    "from mri_preproc import prepare_scans\n",
    "import subprocess"
   ]
  },
  {
   "cell_type": "code",
   "execution_count": 1,
   "metadata": {},
   "outputs": [
    {
     "data": {
      "text/plain": [
       "'srs-9-ThinkPad-X1'"
      ]
     },
     "execution_count": 1,
     "metadata": {},
     "output_type": "execute_result"
    }
   ],
   "source": [
    "import platform\n",
    "platform.node()"
   ]
  },
  {
   "cell_type": "code",
   "execution_count": 3,
   "metadata": {},
   "outputs": [],
   "source": [
    "dataroot1 = \"/mnt/t/Data/MONAI/flair\"\n",
    "dataroot2 = \"/mnt/t/Data/3Tpioneer_bids\"\n",
    "\n",
    "dataset1 = hemond_data.scan_data_dir(dataroot1)\n",
    "dataset2 = hemond_data.collect_raw_dataset(dataroot2, suppress_output=True)"
   ]
  },
  {
   "cell_type": "code",
   "execution_count": 4,
   "metadata": {},
   "outputs": [
    {
     "data": {
      "text/plain": [
       "Scan(subid='ms1001', date='20170215', dataroot=PosixPath('/mnt/t/Data/MONAI/flair'), image=PosixPath('/mnt/t/Data/MONAI/flair/sub-ms1001_ses-20170215.nii.gz'), label=PosixPath('/mnt/t/Data/MONAI/flair/labels/sub-ms1001_ses-20170215.nii.gz'), cond=None)"
      ]
     },
     "execution_count": 4,
     "metadata": {},
     "output_type": "execute_result"
    }
   ],
   "source": [
    "raw_scan = dataset1[0]\n",
    "reg_scan = dataset2.find_scan(subid=raw_scan.subid, ses=raw_scan.date)"
   ]
  },
  {
   "cell_type": "markdown",
   "metadata": {},
   "source": [
    "The first attempt at training the network will be on the data in the `MONAI` directory using the `choroid_plexus_segmentation` notebook sent by the Buffalo group. First step is to go through the subject and sessions in the MONAI dir and pull their"
   ]
  }
 ],
 "metadata": {
  "kernelspec": {
   "display_name": "monai",
   "language": "python",
   "name": "python3"
  },
  "language_info": {
   "codemirror_mode": {
    "name": "ipython",
    "version": 3
   },
   "file_extension": ".py",
   "mimetype": "text/x-python",
   "name": "python",
   "nbconvert_exporter": "python",
   "pygments_lexer": "ipython3",
   "version": "3.12.4"
  }
 },
 "nbformat": 4,
 "nbformat_minor": 2
}
