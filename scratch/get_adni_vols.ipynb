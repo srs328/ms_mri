{
 "cells": [
  {
   "cell_type": "code",
   "execution_count": 53,
   "id": "47996f83",
   "metadata": {},
   "outputs": [],
   "source": [
    "import subprocess\n",
    "from pathlib import Path\n",
    "import os\n",
    "import re\n",
    "from tqdm.notebook import tqdm\n",
    "import pandas as pd"
   ]
  },
  {
   "cell_type": "code",
   "execution_count": null,
   "id": "68e9d936",
   "metadata": {},
   "outputs": [],
   "source": [
    "label_path = Path(\"/mnt/h/saranathan_share/ADNI_full/segresnet821_inference\")\n",
    "files = [item.name for item in os.scandir(label_path) if item.is_file()]\n",
    "subjects = []\n",
    "for file in files:\n",
    "    match = re.search(r\"(.+)_crop_T1\\.nii\\.gz\", file)\n",
    "    if match:\n",
    "        subjects.append(match[1])"
   ]
  },
  {
   "cell_type": "code",
   "execution_count": 42,
   "id": "6d54b972",
   "metadata": {},
   "outputs": [
    {
     "data": {
      "application/vnd.jupyter.widget-view+json": {
       "model_id": "44bbeb7ec87346f4b7d8e447b6733d0c",
       "version_major": 2,
       "version_minor": 0
      },
      "text/plain": [
       "  0%|          | 0/387 [00:00<?, ?it/s]"
      ]
     },
     "metadata": {},
     "output_type": "display_data"
    }
   ],
   "source": [
    "all_vols = []\n",
    "for file, subject in tqdm(zip(files, subjects), total=len(files)):\n",
    "    cmd = [\"fslstats\", \"-K\", label_path/file, label_path/file, \"-V\"]\n",
    "    result = subprocess.run(cmd, capture_output=True, text=True)\n",
    "    result_lines = result.stdout.split(\"\\n\")\n",
    "    vols = []\n",
    "    for i in range(40):\n",
    "        try:\n",
    "            vols.append(float(result_lines[i].split(\" \")[1]))\n",
    "        except (IndexError, ValueError):\n",
    "            vols.append(None)\n",
    "    try:\n",
    "        assert len(vols) == 40\n",
    "    except AssertionError:\n",
    "        print(file)\n",
    "        continue\n",
    "    else:\n",
    "        all_vols.append((subject, vols))"
   ]
  },
  {
   "cell_type": "code",
   "execution_count": 60,
   "id": "8cedd45a",
   "metadata": {},
   "outputs": [],
   "source": [
    "vol_dict = {elem[0]: elem[1] for elem in all_vols}\n",
    "index = [elem[0] for elem in all_vols]\n",
    "df = pd.DataFrame.from_dict(vol_dict, orient=\"index\")\n",
    "\n",
    "new_cols = {}\n",
    "for i in range(40):\n",
    "    new_cols[i] = i+1\n",
    "df = df.rename(columns=new_cols)\n",
    "\n",
    "df.index.name = \"subject\"\n",
    "df.to_csv(\"ADNI_full_segresnet_volumes.csv\")"
   ]
  },
  {
   "cell_type": "code",
   "execution_count": 34,
   "id": "51c43941",
   "metadata": {},
   "outputs": [],
   "source": [
    "cmd = [\"fslstats\", \"-K\", label_path/file, label_path/file, \"-V\"]\n",
    "result = subprocess.run(cmd, capture_output=True, text=True)\n",
    "result_lines = result.stdout.split(\"\\n\")\n",
    "vols = []\n",
    "for i in range(40):\n",
    "    try:\n",
    "        vols.append(float(result_lines[i].split(\" \")[1]))\n",
    "    except (IndexError, ValueError):\n",
    "        vols.append(None)\n",
    "vols\n",
    "assert len(vols) == 40"
   ]
  },
  {
   "cell_type": "code",
   "execution_count": 30,
   "id": "8beb66ad",
   "metadata": {},
   "outputs": [
    {
     "data": {
      "text/plain": [
       "[55.199997,\n",
       " 57.599998,\n",
       " 217.199982,\n",
       " 221.999985,\n",
       " 61.199997,\n",
       " 61.199997,\n",
       " 610.799988,\n",
       " 591.599976,\n",
       " 226.799988,\n",
       " 235.199982,\n",
       " 892.799927,\n",
       " 938.399963,\n",
       " 91.199997,\n",
       " 91.199997,\n",
       " 29.999998,\n",
       " 44.399998,\n",
       " 64.799995,\n",
       " 68.399994,\n",
       " 387.599976,\n",
       " 409.199982,\n",
       " 13.199999,\n",
       " 13.199999,\n",
       " 28.799999,\n",
       " 23.999998,\n",
       " 500.399963,\n",
       " 397.199982,\n",
       " 2822.399902,\n",
       " 2931.599854,\n",
       " 581.999939,\n",
       " 568.799988,\n",
       " 326.399994,\n",
       " 286.799988,\n",
       " 176.399994,\n",
       " 163.199997,\n",
       " 3253.199707,\n",
       " 3608.399902,\n",
       " 213.599991,\n",
       " 220.799988,\n",
       " 885.599976,\n",
       " 929.999939]"
      ]
     },
     "execution_count": 30,
     "metadata": {},
     "output_type": "execute_result"
    }
   ],
   "source": [
    "vols"
   ]
  },
  {
   "cell_type": "code",
   "execution_count": null,
   "id": "4462e6a4",
   "metadata": {},
   "outputs": [
    {
     "data": {
      "text/plain": [
       "'099_S_4480_crop_T1.nii.gz'"
      ]
     },
     "execution_count": 24,
     "metadata": {},
     "output_type": "execute_result"
    }
   ],
   "source": [
    "cmd = [\"fslstats\", \"-K\", label_path/file, label_path/file, \"-V\"]\n",
    "result = subprocess.run(cmd, capture_output=True, text=True)\n",
    "result_lines = result.stdout.split(\"\\n\")\n",
    "vols = []\n",
    "for line in result_lines:\n",
    "    try:\n",
    "        vols.append(float(line.split(\" \")[1]))\n",
    "    except (IndexError, ValueError):\n",
    "        if \"missing\" in line:\n",
    "            vols.append(None)\n",
    "        else:\n",
    "            pass"
   ]
  }
 ],
 "metadata": {
  "kernelspec": {
   "display_name": "monai",
   "language": "python",
   "name": "python3"
  },
  "language_info": {
   "codemirror_mode": {
    "name": "ipython",
    "version": 3
   },
   "file_extension": ".py",
   "mimetype": "text/x-python",
   "name": "python",
   "nbconvert_exporter": "python",
   "pygments_lexer": "ipython3",
   "version": "3.12.4"
  }
 },
 "nbformat": 4,
 "nbformat_minor": 5
}
