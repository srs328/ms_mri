{
 "cells": [
  {
   "cell_type": "code",
   "execution_count": 1,
   "metadata": {},
   "outputs": [],
   "source": [
    "import os\n",
    "import sys\n",
    "from pathlib import Path\n",
    "\n",
    "from loguru import logger\n",
    "from reload_recursive import reload_recursive\n",
    "\n",
    "import monai_training\n",
    "import mri_data"
   ]
  },
  {
   "cell_type": "code",
   "execution_count": 2,
   "metadata": {},
   "outputs": [],
   "source": [
    "reload_recursive(mri_data)\n",
    "reload_recursive(monai_training)\n",
    "from mri_data import file_manager as fm"
   ]
  },
  {
   "cell_type": "code",
   "execution_count": 3,
   "metadata": {},
   "outputs": [
    {
     "data": {
      "text/plain": [
       "1"
      ]
     },
     "execution_count": 3,
     "metadata": {},
     "output_type": "execute_result"
    }
   ],
   "source": [
    "logger.remove()\n",
    "logger.add(sys.stderr, level=\"INFO\")"
   ]
  },
  {
   "cell_type": "code",
   "execution_count": 4,
   "metadata": {},
   "outputs": [],
   "source": [
    "drive_root = fm.get_drive_root()\n",
    "projects_root = Path(\"/home/srs-9/Projects\")\n",
    "msmri_home = projects_root / \"ms_mri\"\n",
    "inference_root = drive_root / \"3Tpioneer_bids_predictions\"\n",
    "dataroot = drive_root / \"3Tpioneer_bids\"\n",
    "\n",
    "workspace_root = \"/home/srs-9/Projects/ms_mri/itksnap_workspaces\"\n",
    "dataset_name = \"choroid_pineal_pituitary_predictions\"\n",
    "\n",
    "save_dir = os.path.join(workspace_root, dataset_name)"
   ]
  },
  {
   "cell_type": "code",
   "execution_count": 5,
   "metadata": {},
   "outputs": [],
   "source": [
    "if not os.path.exists(save_dir):\n",
    "    os.makedirs(save_dir)"
   ]
  },
  {
   "cell_type": "code",
   "execution_count": null,
   "metadata": {},
   "outputs": [],
   "source": [
    "subjects = [\n",
    "    1010,\n",
    "    1011,\n",
    "    1019,\n",
    "    1033,\n",
    "    1065,\n",
    "    1080,\n",
    "    1109,\n",
    "    1119,\n",
    "    1152,\n",
    "    1163,\n",
    "    1188,\n",
    "    1191,\n",
    "    1234,\n",
    "    1259,\n",
    "    1265,\n",
    "    1272,\n",
    "    1280,\n",
    "    1293,\n",
    "    1321,\n",
    "    1355,\n",
    "    1437,\n",
    "    1486,\n",
    "    1498,\n",
    "    1518,\n",
    "    1540,\n",
    "    1547,\n",
    "    1548,\n",
    "    2081,\n",
    "    2083,\n",
    "    2097,\n",
    "    2126,\n",
    "    2132,\n",
    "    2144,\n",
    "    2146,\n",
    "    2164,\n",
    "    2187,\n",
    "]"
   ]
  },
  {
   "cell_type": "code",
   "execution_count": null,
   "metadata": {},
   "outputs": [],
   "source": [
    "pairs = [(1, \"a\"), (2, \"b\"), (3, \"c\")]\n",
    "sum(x[0] for x in pairs)"
   ]
  }
 ],
 "metadata": {
  "kernelspec": {
   "display_name": "monai",
   "language": "python",
   "name": "python3"
  },
  "language_info": {
   "codemirror_mode": {
    "name": "ipython",
    "version": 3
   },
   "file_extension": ".py",
   "mimetype": "text/x-python",
   "name": "python",
   "nbconvert_exporter": "python",
   "pygments_lexer": "ipython3",
   "version": "3.12.4"
  }
 },
 "nbformat": 4,
 "nbformat_minor": 2
}
