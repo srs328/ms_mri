{
 "cells": [
  {
   "cell_type": "code",
   "execution_count": 15,
   "metadata": {},
   "outputs": [],
   "source": [
    "import os\n",
    "import sys\n",
    "from pathlib import Path\n",
    "\n",
    "from loguru import logger\n",
    "from reload_recursive import reload_recursive\n",
    "from typing import Callable\n",
    "\n",
    "import monai_training\n",
    "import mri_data"
   ]
  },
  {
   "cell_type": "code",
   "execution_count": 81,
   "metadata": {},
   "outputs": [],
   "source": [
    "reload_recursive(mri_data)\n",
    "reload_recursive(monai_training)\n",
    "from mri_data import file_manager as fm\n",
    "from mri_data.file_manager import Scan, DataSet\n",
    "from monai_training.preprocess import DataSetProcesser"
   ]
  },
  {
   "cell_type": "code",
   "execution_count": 3,
   "metadata": {},
   "outputs": [
    {
     "data": {
      "text/plain": [
       "1"
      ]
     },
     "execution_count": 3,
     "metadata": {},
     "output_type": "execute_result"
    }
   ],
   "source": [
    "logger.remove()\n",
    "logger.add(sys.stderr, level=\"INFO\")"
   ]
  },
  {
   "cell_type": "code",
   "execution_count": 7,
   "metadata": {},
   "outputs": [],
   "source": [
    "drive_root = fm.get_drive_root()\n",
    "projects_root = Path(\"/home/srs-9/Projects\")\n",
    "msmri_home = projects_root / \"ms_mri\"\n",
    "inference_root = drive_root / \"3Tpioneer_bids_predictions\"\n",
    "dataroot = drive_root / \"3Tpioneer_bids\"\n",
    "\n",
    "workspace_root = \"/home/srs-9/Projects/ms_mri/itksnap_workspaces\"\n",
    "dataset_name = \"choroid_pineal_pituitary_predictions\"\n",
    "\n",
    "save_dir = os.path.join(workspace_root, dataset_name)"
   ]
  },
  {
   "cell_type": "code",
   "execution_count": 8,
   "metadata": {},
   "outputs": [],
   "source": [
    "if not os.path.exists(save_dir):\n",
    "    os.makedirs(save_dir)"
   ]
  },
  {
   "cell_type": "code",
   "execution_count": 9,
   "metadata": {},
   "outputs": [],
   "source": [
    "subjects = [\n",
    "    1010,\n",
    "    1011,\n",
    "    1019,\n",
    "    1033,\n",
    "    1065,\n",
    "    1080,\n",
    "    1109,\n",
    "    1119,\n",
    "    1152,\n",
    "    1163,\n",
    "    1188,\n",
    "    1191,\n",
    "    1234,\n",
    "    1259,\n",
    "    1265,\n",
    "    1272,\n",
    "    1280,\n",
    "    1293,\n",
    "    1321,\n",
    "    1355,\n",
    "    1437,\n",
    "    1486,\n",
    "    1498,\n",
    "    1518,\n",
    "    1540,\n",
    "    1547,\n",
    "    1548,\n",
    "    2081,\n",
    "    2083,\n",
    "    2097,\n",
    "    2126,\n",
    "    2132,\n",
    "    2144,\n",
    "    2146,\n",
    "    2164,\n",
    "    2187,\n",
    "]"
   ]
  },
  {
   "cell_type": "code",
   "execution_count": 68,
   "metadata": {},
   "outputs": [],
   "source": [
    "def has_subject(scan, subjects: list[int]) -> bool:\n",
    "    if int(scan.subid) in subjects:\n",
    "        return True\n",
    "    else:\n",
    "        return False"
   ]
  },
  {
   "cell_type": "code",
   "execution_count": 82,
   "metadata": {},
   "outputs": [],
   "source": [
    "dataset_proc = DataSetProcesser.new_dataset(dataroot, fm.scan_3Tpioneer_bids, filters=[fm.filter_first_ses])\n",
    "dataset_proc.filter([has_subject], [(subjects,)])"
   ]
  },
  {
   "cell_type": "code",
   "execution_count": 83,
   "metadata": {},
   "outputs": [
    {
     "name": "stderr",
     "output_type": "stream",
     "text": [
      "\u001b[32m2024-10-24 01:04:28.348\u001b[0m | \u001b[1mINFO    \u001b[0m | \u001b[36mmonai_training.preprocess\u001b[0m:\u001b[36mprepare_labels\u001b[0m:\u001b[36m164\u001b[0m - \u001b[1mPrepare Labels\u001b[0m\n",
      "  0%|          | 0/36 [00:00<?, ?it/s]\u001b[32m2024-10-24 01:04:28.352\u001b[0m | \u001b[1mINFO    \u001b[0m | \u001b[36mmri_data.utils\u001b[0m:\u001b[36mcombine_labels\u001b[0m:\u001b[36m84\u001b[0m - \u001b[1mCombining labels for Scan(subid=1188, sesid=20200720)\u001b[0m\n",
      "\u001b[32m2024-10-24 01:04:28.364\u001b[0m | \u001b[32m\u001b[1mSUCCESS \u001b[0m | \u001b[36mmonai_training.preprocess\u001b[0m:\u001b[36mlog\u001b[0m:\u001b[36m22\u001b[0m - \u001b[32m\u001b[1mSaved /mnt/h/3Tpioneer_bids/sub-ms1188/ses-20200720/choroid_t1_flair-ED.pineal-CH.pituitary-CH.nii.gz\u001b[0m\n",
      "\u001b[32m2024-10-24 01:04:28.366\u001b[0m | \u001b[1mINFO    \u001b[0m | \u001b[36mmri_data.utils\u001b[0m:\u001b[36mcombine_labels\u001b[0m:\u001b[36m84\u001b[0m - \u001b[1mCombining labels for Scan(subid=1033, sesid=20171117)\u001b[0m\n",
      "\u001b[32m2024-10-24 01:04:28.388\u001b[0m | \u001b[32m\u001b[1mSUCCESS \u001b[0m | \u001b[36mmonai_training.preprocess\u001b[0m:\u001b[36mlog\u001b[0m:\u001b[36m22\u001b[0m - \u001b[32m\u001b[1mSaved /mnt/h/3Tpioneer_bids/sub-ms1033/ses-20171117/choroid_t1_flair-CH.pineal-CH.pituitary-CH.nii.gz\u001b[0m\n",
      "\u001b[32m2024-10-24 01:04:28.391\u001b[0m | \u001b[1mINFO    \u001b[0m | \u001b[36mmri_data.utils\u001b[0m:\u001b[36mcombine_labels\u001b[0m:\u001b[36m84\u001b[0m - \u001b[1mCombining labels for Scan(subid=1191, sesid=20190124)\u001b[0m\n",
      "\u001b[32m2024-10-24 01:04:28.404\u001b[0m | \u001b[32m\u001b[1mSUCCESS \u001b[0m | \u001b[36mmonai_training.preprocess\u001b[0m:\u001b[36mlog\u001b[0m:\u001b[36m22\u001b[0m - \u001b[32m\u001b[1mSaved /mnt/h/3Tpioneer_bids/sub-ms1191/ses-20190124/choroid_t1_flair-CH.pineal-SRS.pituitary-CH.nii.gz\u001b[0m\n",
      "\u001b[32m2024-10-24 01:04:28.406\u001b[0m | \u001b[1mINFO    \u001b[0m | \u001b[36mmri_data.utils\u001b[0m:\u001b[36mcombine_labels\u001b[0m:\u001b[36m84\u001b[0m - \u001b[1mCombining labels for Scan(subid=2146, sesid=20191017)\u001b[0m\n",
      "\u001b[32m2024-10-24 01:04:28.416\u001b[0m | \u001b[33m\u001b[1mWARNING \u001b[0m | \u001b[36mmonai_training.preprocess\u001b[0m:\u001b[36mprepare_labels\u001b[0m:\u001b[36m203\u001b[0m - \u001b[33m\u001b[1mCouldn't prepare image for Scan(subid=2146, sesid=20191017)\u001b[0m\n",
      "\u001b[32m2024-10-24 01:04:28.418\u001b[0m | \u001b[1mINFO    \u001b[0m | \u001b[36mmri_data.utils\u001b[0m:\u001b[36mcombine_labels\u001b[0m:\u001b[36m84\u001b[0m - \u001b[1mCombining labels for Scan(subid=2144, sesid=20190422)\u001b[0m\n",
      "\u001b[32m2024-10-24 01:04:28.428\u001b[0m | \u001b[32m\u001b[1mSUCCESS \u001b[0m | \u001b[36mmonai_training.preprocess\u001b[0m:\u001b[36mlog\u001b[0m:\u001b[36m22\u001b[0m - \u001b[32m\u001b[1mSaved /mnt/h/3Tpioneer_bids/sub-ms2144/ses-20190422/choroid_t1_flair-ED.pineal-SRS.pituitary-CH.nii.gz\u001b[0m\n",
      "\u001b[32m2024-10-24 01:04:28.430\u001b[0m | \u001b[1mINFO    \u001b[0m | \u001b[36mmri_data.utils\u001b[0m:\u001b[36mcombine_labels\u001b[0m:\u001b[36m84\u001b[0m - \u001b[1mCombining labels for Scan(subid=1265, sesid=20180127)\u001b[0m\n",
      "\u001b[32m2024-10-24 01:04:28.443\u001b[0m | \u001b[32m\u001b[1mSUCCESS \u001b[0m | \u001b[36mmonai_training.preprocess\u001b[0m:\u001b[36mlog\u001b[0m:\u001b[36m22\u001b[0m - \u001b[32m\u001b[1mSaved /mnt/h/3Tpioneer_bids/sub-ms1265/ses-20180127/choroid_t1_flair-CH.pineal-SRS.pituitary-CH.nii.gz\u001b[0m\n",
      "\u001b[32m2024-10-24 01:04:28.444\u001b[0m | \u001b[1mINFO    \u001b[0m | \u001b[36mmri_data.utils\u001b[0m:\u001b[36mcombine_labels\u001b[0m:\u001b[36m84\u001b[0m - \u001b[1mCombining labels for Scan(subid=1518, sesid=20220216)\u001b[0m\n",
      "\u001b[32m2024-10-24 01:04:28.456\u001b[0m | \u001b[32m\u001b[1mSUCCESS \u001b[0m | \u001b[36mmonai_training.preprocess\u001b[0m:\u001b[36mlog\u001b[0m:\u001b[36m22\u001b[0m - \u001b[32m\u001b[1mSaved /mnt/h/3Tpioneer_bids/sub-ms1518/ses-20220216/choroid_t1_flair-CH.pineal-SRS.pituitary-CH.nii.gz\u001b[0m\n",
      " 19%|█▉        | 7/36 [00:00<00:00, 66.24it/s]\u001b[32m2024-10-24 01:04:28.459\u001b[0m | \u001b[1mINFO    \u001b[0m | \u001b[36mmri_data.utils\u001b[0m:\u001b[36mcombine_labels\u001b[0m:\u001b[36m84\u001b[0m - \u001b[1mCombining labels for Scan(subid=1355, sesid=20210104)\u001b[0m\n",
      "\u001b[32m2024-10-24 01:04:28.467\u001b[0m | \u001b[32m\u001b[1mSUCCESS \u001b[0m | \u001b[36mmonai_training.preprocess\u001b[0m:\u001b[36mlog\u001b[0m:\u001b[36m22\u001b[0m - \u001b[32m\u001b[1mSaved /mnt/h/3Tpioneer_bids/sub-ms1355/ses-20210104/choroid_t1_flair-ED.pineal-SRS.pituitary-CH.nii.gz\u001b[0m\n",
      "\u001b[32m2024-10-24 01:04:28.468\u001b[0m | \u001b[1mINFO    \u001b[0m | \u001b[36mmri_data.utils\u001b[0m:\u001b[36mcombine_labels\u001b[0m:\u001b[36m84\u001b[0m - \u001b[1mCombining labels for Scan(subid=1119, sesid=20161010)\u001b[0m\n",
      "\u001b[32m2024-10-24 01:04:28.474\u001b[0m | \u001b[32m\u001b[1mSUCCESS \u001b[0m | \u001b[36mmonai_training.preprocess\u001b[0m:\u001b[36mlog\u001b[0m:\u001b[36m22\u001b[0m - \u001b[32m\u001b[1mSaved /mnt/h/3Tpioneer_bids/sub-ms1119/ses-20161010/choroid_t1_flair-CH.pineal-CH.pituitary-CH.nii.gz\u001b[0m\n",
      "\u001b[32m2024-10-24 01:04:28.476\u001b[0m | \u001b[1mINFO    \u001b[0m | \u001b[36mmri_data.utils\u001b[0m:\u001b[36mcombine_labels\u001b[0m:\u001b[36m84\u001b[0m - \u001b[1mCombining labels for Scan(subid=2132, sesid=20190825)\u001b[0m\n",
      "\u001b[32m2024-10-24 01:04:28.487\u001b[0m | \u001b[33m\u001b[1mWARNING \u001b[0m | \u001b[36mmonai_training.preprocess\u001b[0m:\u001b[36mprepare_labels\u001b[0m:\u001b[36m203\u001b[0m - \u001b[33m\u001b[1mCouldn't prepare image for Scan(subid=2132, sesid=20190825)\u001b[0m\n",
      "\u001b[32m2024-10-24 01:04:28.489\u001b[0m | \u001b[1mINFO    \u001b[0m | \u001b[36mmri_data.utils\u001b[0m:\u001b[36mcombine_labels\u001b[0m:\u001b[36m84\u001b[0m - \u001b[1mCombining labels for Scan(subid=2187, sesid=20200731)\u001b[0m\n",
      "\u001b[32m2024-10-24 01:04:28.495\u001b[0m | \u001b[33m\u001b[1mWARNING \u001b[0m | \u001b[36mmonai_training.preprocess\u001b[0m:\u001b[36mprepare_labels\u001b[0m:\u001b[36m203\u001b[0m - \u001b[33m\u001b[1mCouldn't prepare image for Scan(subid=2187, sesid=20200731)\u001b[0m\n",
      "\u001b[32m2024-10-24 01:04:28.496\u001b[0m | \u001b[1mINFO    \u001b[0m | \u001b[36mmri_data.utils\u001b[0m:\u001b[36mcombine_labels\u001b[0m:\u001b[36m84\u001b[0m - \u001b[1mCombining labels for Scan(subid=1011, sesid=20180911)\u001b[0m\n",
      "\u001b[32m2024-10-24 01:04:28.503\u001b[0m | \u001b[32m\u001b[1mSUCCESS \u001b[0m | \u001b[36mmonai_training.preprocess\u001b[0m:\u001b[36mlog\u001b[0m:\u001b[36m22\u001b[0m - \u001b[32m\u001b[1mSaved /mnt/h/3Tpioneer_bids/sub-ms1011/ses-20180911/choroid_t1_flair-CH.pineal-CH.pituitary-CH.nii.gz\u001b[0m\n",
      "\u001b[32m2024-10-24 01:04:28.505\u001b[0m | \u001b[1mINFO    \u001b[0m | \u001b[36mmri_data.utils\u001b[0m:\u001b[36mcombine_labels\u001b[0m:\u001b[36m84\u001b[0m - \u001b[1mCombining labels for Scan(subid=1152, sesid=20170529)\u001b[0m\n",
      "\u001b[32m2024-10-24 01:04:28.511\u001b[0m | \u001b[33m\u001b[1mWARNING \u001b[0m | \u001b[36mmonai_training.preprocess\u001b[0m:\u001b[36mprepare_labels\u001b[0m:\u001b[36m203\u001b[0m - \u001b[33m\u001b[1mCouldn't prepare image for Scan(subid=1152, sesid=20170529)\u001b[0m\n",
      "\u001b[32m2024-10-24 01:04:28.512\u001b[0m | \u001b[1mINFO    \u001b[0m | \u001b[36mmri_data.utils\u001b[0m:\u001b[36mcombine_labels\u001b[0m:\u001b[36m84\u001b[0m - \u001b[1mCombining labels for Scan(subid=1280, sesid=20220317)\u001b[0m\n",
      "\u001b[32m2024-10-24 01:04:28.519\u001b[0m | \u001b[32m\u001b[1mSUCCESS \u001b[0m | \u001b[36mmonai_training.preprocess\u001b[0m:\u001b[36mlog\u001b[0m:\u001b[36m22\u001b[0m - \u001b[32m\u001b[1mSaved /mnt/h/3Tpioneer_bids/sub-ms1280/ses-20220317/choroid_t1_flair-ED.pineal-SRS.pituitary-CH.nii.gz\u001b[0m\n",
      "\u001b[32m2024-10-24 01:04:28.521\u001b[0m | \u001b[1mINFO    \u001b[0m | \u001b[36mmri_data.utils\u001b[0m:\u001b[36mcombine_labels\u001b[0m:\u001b[36m84\u001b[0m - \u001b[1mCombining labels for Scan(subid=2081, sesid=20170204)\u001b[0m\n",
      "\u001b[32m2024-10-24 01:04:28.529\u001b[0m | \u001b[32m\u001b[1mSUCCESS \u001b[0m | \u001b[36mmonai_training.preprocess\u001b[0m:\u001b[36mlog\u001b[0m:\u001b[36m22\u001b[0m - \u001b[32m\u001b[1mSaved /mnt/h/3Tpioneer_bids/sub-ms2081/ses-20170204/choroid_t1_flair-ED.pineal-SRS.pituitary-CH.nii.gz\u001b[0m\n",
      "\u001b[32m2024-10-24 01:04:28.530\u001b[0m | \u001b[1mINFO    \u001b[0m | \u001b[36mmri_data.utils\u001b[0m:\u001b[36mcombine_labels\u001b[0m:\u001b[36m84\u001b[0m - \u001b[1mCombining labels for Scan(subid=1486, sesid=20210224)\u001b[0m\n",
      "\u001b[32m2024-10-24 01:04:28.537\u001b[0m | \u001b[32m\u001b[1mSUCCESS \u001b[0m | \u001b[36mmonai_training.preprocess\u001b[0m:\u001b[36mlog\u001b[0m:\u001b[36m22\u001b[0m - \u001b[32m\u001b[1mSaved /mnt/h/3Tpioneer_bids/sub-ms1486/ses-20210224/choroid_t1_flair-CH.pineal-SRS.pituitary-CH.nii.gz\u001b[0m\n",
      "\u001b[32m2024-10-24 01:04:28.539\u001b[0m | \u001b[1mINFO    \u001b[0m | \u001b[36mmri_data.utils\u001b[0m:\u001b[36mcombine_labels\u001b[0m:\u001b[36m84\u001b[0m - \u001b[1mCombining labels for Scan(subid=1321, sesid=20201020)\u001b[0m\n",
      "\u001b[32m2024-10-24 01:04:28.547\u001b[0m | \u001b[32m\u001b[1mSUCCESS \u001b[0m | \u001b[36mmonai_training.preprocess\u001b[0m:\u001b[36mlog\u001b[0m:\u001b[36m22\u001b[0m - \u001b[32m\u001b[1mSaved /mnt/h/3Tpioneer_bids/sub-ms1321/ses-20201020/choroid_t1_flair-CH.pineal-SRS.pituitary-CH.nii.gz\u001b[0m\n",
      "\u001b[32m2024-10-24 01:04:28.548\u001b[0m | \u001b[1mINFO    \u001b[0m | \u001b[36mmri_data.utils\u001b[0m:\u001b[36mcombine_labels\u001b[0m:\u001b[36m84\u001b[0m - \u001b[1mCombining labels for Scan(subid=1498, sesid=20210602)\u001b[0m\n",
      "\u001b[32m2024-10-24 01:04:28.557\u001b[0m | \u001b[32m\u001b[1mSUCCESS \u001b[0m | \u001b[36mmonai_training.preprocess\u001b[0m:\u001b[36mlog\u001b[0m:\u001b[36m22\u001b[0m - \u001b[32m\u001b[1mSaved /mnt/h/3Tpioneer_bids/sub-ms1498/ses-20210602/choroid_t1_flair-ED.pineal-SRS.pituitary-CH.nii.gz\u001b[0m\n",
      " 50%|█████     | 18/36 [00:00<00:00, 90.97it/s]\u001b[32m2024-10-24 01:04:28.560\u001b[0m | \u001b[1mINFO    \u001b[0m | \u001b[36mmri_data.utils\u001b[0m:\u001b[36mcombine_labels\u001b[0m:\u001b[36m84\u001b[0m - \u001b[1mCombining labels for Scan(subid=1163, sesid=20180907)\u001b[0m\n",
      "\u001b[32m2024-10-24 01:04:28.575\u001b[0m | \u001b[32m\u001b[1mSUCCESS \u001b[0m | \u001b[36mmonai_training.preprocess\u001b[0m:\u001b[36mlog\u001b[0m:\u001b[36m22\u001b[0m - \u001b[32m\u001b[1mSaved /mnt/h/3Tpioneer_bids/sub-ms1163/ses-20180907/choroid_t1_flair-CH.pineal-CH.pituitary-CH.nii.gz\u001b[0m\n",
      "\u001b[32m2024-10-24 01:04:28.577\u001b[0m | \u001b[1mINFO    \u001b[0m | \u001b[36mmri_data.utils\u001b[0m:\u001b[36mcombine_labels\u001b[0m:\u001b[36m84\u001b[0m - \u001b[1mCombining labels for Scan(subid=2164, sesid=20200113)\u001b[0m\n",
      "\u001b[32m2024-10-24 01:04:28.586\u001b[0m | \u001b[33m\u001b[1mWARNING \u001b[0m | \u001b[36mmonai_training.preprocess\u001b[0m:\u001b[36mprepare_labels\u001b[0m:\u001b[36m203\u001b[0m - \u001b[33m\u001b[1mCouldn't prepare image for Scan(subid=2164, sesid=20200113)\u001b[0m\n",
      "\u001b[32m2024-10-24 01:04:28.587\u001b[0m | \u001b[1mINFO    \u001b[0m | \u001b[36mmri_data.utils\u001b[0m:\u001b[36mcombine_labels\u001b[0m:\u001b[36m84\u001b[0m - \u001b[1mCombining labels for Scan(subid=2126, sesid=20181224)\u001b[0m\n",
      "\u001b[32m2024-10-24 01:04:28.596\u001b[0m | \u001b[33m\u001b[1mWARNING \u001b[0m | \u001b[36mmonai_training.preprocess\u001b[0m:\u001b[36mprepare_labels\u001b[0m:\u001b[36m203\u001b[0m - \u001b[33m\u001b[1mCouldn't prepare image for Scan(subid=2126, sesid=20181224)\u001b[0m\n",
      "\u001b[32m2024-10-24 01:04:28.597\u001b[0m | \u001b[1mINFO    \u001b[0m | \u001b[36mmri_data.utils\u001b[0m:\u001b[36mcombine_labels\u001b[0m:\u001b[36m84\u001b[0m - \u001b[1mCombining labels for Scan(subid=2083, sesid=20170502)\u001b[0m\n",
      "\u001b[32m2024-10-24 01:04:28.608\u001b[0m | \u001b[32m\u001b[1mSUCCESS \u001b[0m | \u001b[36mmonai_training.preprocess\u001b[0m:\u001b[36mlog\u001b[0m:\u001b[36m22\u001b[0m - \u001b[32m\u001b[1mSaved /mnt/h/3Tpioneer_bids/sub-ms2083/ses-20170502/choroid_t1_flair-ED.pineal-SRS.pituitary-CH.nii.gz\u001b[0m\n",
      "\u001b[32m2024-10-24 01:04:28.609\u001b[0m | \u001b[1mINFO    \u001b[0m | \u001b[36mmri_data.utils\u001b[0m:\u001b[36mcombine_labels\u001b[0m:\u001b[36m84\u001b[0m - \u001b[1mCombining labels for Scan(subid=1010, sesid=20180208)\u001b[0m\n",
      "\u001b[32m2024-10-24 01:04:28.618\u001b[0m | \u001b[32m\u001b[1mSUCCESS \u001b[0m | \u001b[36mmonai_training.preprocess\u001b[0m:\u001b[36mlog\u001b[0m:\u001b[36m22\u001b[0m - \u001b[32m\u001b[1mSaved /mnt/h/3Tpioneer_bids/sub-ms1010/ses-20180208/choroid_t1_flair-CH.pineal-CH.pituitary-CH.nii.gz\u001b[0m\n",
      "\u001b[32m2024-10-24 01:04:28.620\u001b[0m | \u001b[1mINFO    \u001b[0m | \u001b[36mmri_data.utils\u001b[0m:\u001b[36mcombine_labels\u001b[0m:\u001b[36m84\u001b[0m - \u001b[1mCombining labels for Scan(subid=1293, sesid=20161129)\u001b[0m\n",
      "\u001b[32m2024-10-24 01:04:28.630\u001b[0m | \u001b[32m\u001b[1mSUCCESS \u001b[0m | \u001b[36mmonai_training.preprocess\u001b[0m:\u001b[36mlog\u001b[0m:\u001b[36m22\u001b[0m - \u001b[32m\u001b[1mSaved /mnt/h/3Tpioneer_bids/sub-ms1293/ses-20161129/choroid_t1_flair-ED.pineal-SRS.pituitary-CH.nii.gz\u001b[0m\n",
      "\u001b[32m2024-10-24 01:04:28.632\u001b[0m | \u001b[1mINFO    \u001b[0m | \u001b[36mmri_data.utils\u001b[0m:\u001b[36mcombine_labels\u001b[0m:\u001b[36m84\u001b[0m - \u001b[1mCombining labels for Scan(subid=1437, sesid=20210503)\u001b[0m\n",
      "\u001b[32m2024-10-24 01:04:28.642\u001b[0m | \u001b[32m\u001b[1mSUCCESS \u001b[0m | \u001b[36mmonai_training.preprocess\u001b[0m:\u001b[36mlog\u001b[0m:\u001b[36m22\u001b[0m - \u001b[32m\u001b[1mSaved /mnt/h/3Tpioneer_bids/sub-ms1437/ses-20210503/choroid_t1_flair-CH.pineal-SRS.pituitary-CH.nii.gz\u001b[0m\n",
      "\u001b[32m2024-10-24 01:04:28.643\u001b[0m | \u001b[1mINFO    \u001b[0m | \u001b[36mmri_data.utils\u001b[0m:\u001b[36mcombine_labels\u001b[0m:\u001b[36m84\u001b[0m - \u001b[1mCombining labels for Scan(subid=2097, sesid=20171223)\u001b[0m\n",
      "\u001b[32m2024-10-24 01:04:28.653\u001b[0m | \u001b[33m\u001b[1mWARNING \u001b[0m | \u001b[36mmonai_training.preprocess\u001b[0m:\u001b[36mprepare_labels\u001b[0m:\u001b[36m203\u001b[0m - \u001b[33m\u001b[1mCouldn't prepare image for Scan(subid=2097, sesid=20171223)\u001b[0m\n",
      "\u001b[32m2024-10-24 01:04:28.656\u001b[0m | \u001b[1mINFO    \u001b[0m | \u001b[36mmri_data.utils\u001b[0m:\u001b[36mcombine_labels\u001b[0m:\u001b[36m84\u001b[0m - \u001b[1mCombining labels for Scan(subid=1065, sesid=20170127)\u001b[0m\n",
      "\u001b[32m2024-10-24 01:04:28.669\u001b[0m | \u001b[32m\u001b[1mSUCCESS \u001b[0m | \u001b[36mmonai_training.preprocess\u001b[0m:\u001b[36mlog\u001b[0m:\u001b[36m22\u001b[0m - \u001b[32m\u001b[1mSaved /mnt/h/3Tpioneer_bids/sub-ms1065/ses-20170127/choroid_t1_flair-ED.pineal-CH.pituitary-CH.nii.gz\u001b[0m\n",
      "\u001b[32m2024-10-24 01:04:28.671\u001b[0m | \u001b[1mINFO    \u001b[0m | \u001b[36mmri_data.utils\u001b[0m:\u001b[36mcombine_labels\u001b[0m:\u001b[36m84\u001b[0m - \u001b[1mCombining labels for Scan(subid=1272, sesid=20211105)\u001b[0m\n",
      "\u001b[32m2024-10-24 01:04:28.684\u001b[0m | \u001b[32m\u001b[1mSUCCESS \u001b[0m | \u001b[36mmonai_training.preprocess\u001b[0m:\u001b[36mlog\u001b[0m:\u001b[36m22\u001b[0m - \u001b[32m\u001b[1mSaved /mnt/h/3Tpioneer_bids/sub-ms1272/ses-20211105/choroid_t1_flair-ED.pineal-SRS.pituitary-CH.nii.gz\u001b[0m\n",
      " 78%|███████▊  | 28/36 [00:00<00:00, 84.61it/s]\u001b[32m2024-10-24 01:04:28.687\u001b[0m | \u001b[1mINFO    \u001b[0m | \u001b[36mmri_data.utils\u001b[0m:\u001b[36mcombine_labels\u001b[0m:\u001b[36m84\u001b[0m - \u001b[1mCombining labels for Scan(subid=1540, sesid=20201222)\u001b[0m\n",
      "\u001b[32m2024-10-24 01:04:28.694\u001b[0m | \u001b[33m\u001b[1mWARNING \u001b[0m | \u001b[36mmonai_training.preprocess\u001b[0m:\u001b[36mprepare_labels\u001b[0m:\u001b[36m203\u001b[0m - \u001b[33m\u001b[1mCouldn't prepare image for Scan(subid=1540, sesid=20201222)\u001b[0m\n",
      "\u001b[32m2024-10-24 01:04:28.696\u001b[0m | \u001b[1mINFO    \u001b[0m | \u001b[36mmri_data.utils\u001b[0m:\u001b[36mcombine_labels\u001b[0m:\u001b[36m84\u001b[0m - \u001b[1mCombining labels for Scan(subid=1019, sesid=20190608)\u001b[0m\n",
      "\u001b[32m2024-10-24 01:04:28.708\u001b[0m | \u001b[32m\u001b[1mSUCCESS \u001b[0m | \u001b[36mmonai_training.preprocess\u001b[0m:\u001b[36mlog\u001b[0m:\u001b[36m22\u001b[0m - \u001b[32m\u001b[1mSaved /mnt/h/3Tpioneer_bids/sub-ms1019/ses-20190608/choroid_t1_flair-CH.pineal-CH.pituitary-CH.nii.gz\u001b[0m\n",
      "\u001b[32m2024-10-24 01:04:28.710\u001b[0m | \u001b[1mINFO    \u001b[0m | \u001b[36mmri_data.utils\u001b[0m:\u001b[36mcombine_labels\u001b[0m:\u001b[36m84\u001b[0m - \u001b[1mCombining labels for Scan(subid=1547, sesid=20220321)\u001b[0m\n",
      "\u001b[32m2024-10-24 01:04:28.719\u001b[0m | \u001b[32m\u001b[1mSUCCESS \u001b[0m | \u001b[36mmonai_training.preprocess\u001b[0m:\u001b[36mlog\u001b[0m:\u001b[36m22\u001b[0m - \u001b[32m\u001b[1mSaved /mnt/h/3Tpioneer_bids/sub-ms1547/ses-20220321/choroid_t1_flair-ED.pineal-SRS.pituitary-CH.nii.gz\u001b[0m\n",
      "\u001b[32m2024-10-24 01:04:28.721\u001b[0m | \u001b[1mINFO    \u001b[0m | \u001b[36mmri_data.utils\u001b[0m:\u001b[36mcombine_labels\u001b[0m:\u001b[36m84\u001b[0m - \u001b[1mCombining labels for Scan(subid=1548, sesid=20210628)\u001b[0m\n",
      "\u001b[32m2024-10-24 01:04:28.731\u001b[0m | \u001b[32m\u001b[1mSUCCESS \u001b[0m | \u001b[36mmonai_training.preprocess\u001b[0m:\u001b[36mlog\u001b[0m:\u001b[36m22\u001b[0m - \u001b[32m\u001b[1mSaved /mnt/h/3Tpioneer_bids/sub-ms1548/ses-20210628/choroid_t1_flair-CH.pineal-SRS.pituitary-CH.nii.gz\u001b[0m\n",
      "\u001b[32m2024-10-24 01:04:28.733\u001b[0m | \u001b[1mINFO    \u001b[0m | \u001b[36mmri_data.utils\u001b[0m:\u001b[36mcombine_labels\u001b[0m:\u001b[36m84\u001b[0m - \u001b[1mCombining labels for Scan(subid=1080, sesid=20180416)\u001b[0m\n",
      "\u001b[32m2024-10-24 01:04:28.743\u001b[0m | \u001b[32m\u001b[1mSUCCESS \u001b[0m | \u001b[36mmonai_training.preprocess\u001b[0m:\u001b[36mlog\u001b[0m:\u001b[36m22\u001b[0m - \u001b[32m\u001b[1mSaved /mnt/h/3Tpioneer_bids/sub-ms1080/ses-20180416/choroid_t1_flair-ED.pineal-CH.pituitary-CH.nii.gz\u001b[0m\n",
      "\u001b[32m2024-10-24 01:04:28.744\u001b[0m | \u001b[1mINFO    \u001b[0m | \u001b[36mmri_data.utils\u001b[0m:\u001b[36mcombine_labels\u001b[0m:\u001b[36m84\u001b[0m - \u001b[1mCombining labels for Scan(subid=1234, sesid=20180214)\u001b[0m\n",
      "\u001b[32m2024-10-24 01:04:28.753\u001b[0m | \u001b[32m\u001b[1mSUCCESS \u001b[0m | \u001b[36mmonai_training.preprocess\u001b[0m:\u001b[36mlog\u001b[0m:\u001b[36m22\u001b[0m - \u001b[32m\u001b[1mSaved /mnt/h/3Tpioneer_bids/sub-ms1234/ses-20180214/choroid_t1_flair-ED.pineal-SRS.pituitary-CH.nii.gz\u001b[0m\n",
      "\u001b[32m2024-10-24 01:04:28.755\u001b[0m | \u001b[1mINFO    \u001b[0m | \u001b[36mmri_data.utils\u001b[0m:\u001b[36mcombine_labels\u001b[0m:\u001b[36m84\u001b[0m - \u001b[1mCombining labels for Scan(subid=1109, sesid=20180303)\u001b[0m\n",
      "\u001b[32m2024-10-24 01:04:28.764\u001b[0m | \u001b[32m\u001b[1mSUCCESS \u001b[0m | \u001b[36mmonai_training.preprocess\u001b[0m:\u001b[36mlog\u001b[0m:\u001b[36m22\u001b[0m - \u001b[32m\u001b[1mSaved /mnt/h/3Tpioneer_bids/sub-ms1109/ses-20180303/choroid_t1_flair-ED.pineal-CH.pituitary-CH.nii.gz\u001b[0m\n",
      "\u001b[32m2024-10-24 01:04:28.766\u001b[0m | \u001b[1mINFO    \u001b[0m | \u001b[36mmri_data.utils\u001b[0m:\u001b[36mcombine_labels\u001b[0m:\u001b[36m84\u001b[0m - \u001b[1mCombining labels for Scan(subid=1259, sesid=20200803)\u001b[0m\n",
      "\u001b[32m2024-10-24 01:04:28.776\u001b[0m | \u001b[32m\u001b[1mSUCCESS \u001b[0m | \u001b[36mmonai_training.preprocess\u001b[0m:\u001b[36mlog\u001b[0m:\u001b[36m22\u001b[0m - \u001b[32m\u001b[1mSaved /mnt/h/3Tpioneer_bids/sub-ms1259/ses-20200803/choroid_t1_flair-ED.pineal-SRS.pituitary-CH.nii.gz\u001b[0m\n",
      "100%|██████████| 36/36 [00:00<00:00, 84.57it/s]\n",
      "\u001b[32m2024-10-24 01:04:28.777\u001b[0m | \u001b[1mINFO    \u001b[0m | \u001b[36mmonai_training.preprocess\u001b[0m:\u001b[36mprepare_labels\u001b[0m:\u001b[36m226\u001b[0m - \u001b[1mDataset size: 28\u001b[0m\n",
      "\u001b[32m2024-10-24 01:04:28.778\u001b[0m | \u001b[1mINFO    \u001b[0m | \u001b[36mmonai_training.preprocess\u001b[0m:\u001b[36mprepare_images\u001b[0m:\u001b[36m107\u001b[0m - \u001b[1mPrepare Images\u001b[0m\n",
      "100%|██████████| 28/28 [00:00<00:00, 760.49it/s]\n"
     ]
    }
   ],
   "source": [
    "dataset_proc.prepare_labels([\"choroid_t1_flair\", \"pineal\", \"pituitary\"], [\"CH\", \"SRS\", \"ED\", \"DT\"])\n",
    "dataset_proc.prepare_images([\"flair\", \"t1\"])"
   ]
  },
  {
   "cell_type": "code",
   "execution_count": 79,
   "metadata": {},
   "outputs": [
    {
     "data": {
      "text/plain": [
       "28"
      ]
     },
     "execution_count": 79,
     "metadata": {},
     "output_type": "execute_result"
    }
   ],
   "source": [
    "len(dataset_proc.dataset)"
   ]
  }
 ],
 "metadata": {
  "kernelspec": {
   "display_name": "monai",
   "language": "python",
   "name": "python3"
  },
  "language_info": {
   "codemirror_mode": {
    "name": "ipython",
    "version": 3
   },
   "file_extension": ".py",
   "mimetype": "text/x-python",
   "name": "python",
   "nbconvert_exporter": "python",
   "pygments_lexer": "ipython3",
   "version": "3.12.7"
  }
 },
 "nbformat": 4,
 "nbformat_minor": 2
}
